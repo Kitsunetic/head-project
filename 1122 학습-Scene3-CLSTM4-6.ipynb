{
 "cells": [
  {
   "cell_type": "markdown",
   "metadata": {},
   "source": [
    "# 학습 결과\n",
    "\n",
    "user1의 scene 1~3만 사용해서 학습\n",
    "\n",
    "scene보다 user가 많기 때문에 데이터의 양이 확연히 줄어듬에도 불구하고 성능이 괜찮음.  \n",
    "적은 데이터 특화됐기 때문인지는 모르겠다.\n",
    "\n",
    "나머지 scene에 대해서도 잘 학습을 하면서 user에 대해서도 특화된다면 성능을 상당히 끌어올릴 수 있을 것으로 기대됨.  \n",
    "--> curriculum learning"
   ]
  },
  {
   "cell_type": "code",
   "execution_count": 1,
   "metadata": {},
   "outputs": [],
   "source": [
    "from multiprocessing import cpu_count\n",
    "from pathlib import Path\n",
    "from typing import List, Union, AnyStr\n",
    "from math import pi\n",
    "import pickle\n",
    "\n",
    "import numpy as np\n",
    "import torch\n",
    "import matplotlib.pyplot as plt\n",
    "import torch.nn as nn\n",
    "from sklearn import model_selection\n",
    "from tqdm import tqdm\n",
    "import torch_optimizer\n",
    "from torch.utils.data import Dataset\n",
    "import pandas as pd\n",
    "import random\n",
    "\n",
    "import torch_burn as tb\n",
    "import utils"
   ]
  },
  {
   "cell_type": "code",
   "execution_count": 2,
   "metadata": {},
   "outputs": [],
   "source": [
    "tb.seed_everything(0)"
   ]
  },
  {
   "cell_type": "code",
   "execution_count": 3,
   "metadata": {},
   "outputs": [],
   "source": [
    "EXPERIMENT_NAME = '1122-Scene3-CLSTM4-win120-6'\n",
    "CHECKPOINT_DIR = Path('checkpoint', EXPERIMENT_NAME)\n",
    "CHECKPOINT_DIR.mkdir(parents=True, exist_ok=True)\n",
    "\n",
    "DATA_DIR = Path('data/1116')\n",
    "TRAIN_FILES = sorted(list(DATA_DIR.glob('*scene3_0.csv')))\n",
    "TEST_FILES = sorted(list(DATA_DIR.glob('*scene3_1.csv')))"
   ]
  },
  {
   "cell_type": "markdown",
   "metadata": {},
   "source": [
    "# 데이터셋 생성\n",
    "\n",
    "scene1에 대해서 모든 user의 데이터를 하나로 합친다."
   ]
  },
  {
   "cell_type": "code",
   "execution_count": 4,
   "metadata": {},
   "outputs": [],
   "source": [
    "WINDOW_SIZE = 120"
   ]
  },
  {
   "cell_type": "code",
   "execution_count": 5,
   "metadata": {},
   "outputs": [],
   "source": [
    "class CSVSequentialDataset(Dataset):\n",
    "    def __init__(self, csvfile,\n",
    "                 window_size=300, randomized_window_size=False,\n",
    "                 stride=30, randomized_stride=False):\n",
    "        super(CSVSequentialDataset, self).__init__()\n",
    "\n",
    "        self.xcols = ['input_orientation_yaw', 'input_orientation_pitch', 'input_orientation_roll',\n",
    "                      'acceleration_x', 'acceleration_y', 'acceleration_z']\n",
    "        self.ycols = ['input_orientation_yaw', 'input_orientation_pitch', 'input_orientation_roll']\n",
    "\n",
    "        self.csv = pd.read_csv(csvfile)\n",
    "        self.window_size = window_size\n",
    "        \n",
    "        self.indexes = []\n",
    "        i = 0\n",
    "        while i <= len(self.csv) - window_size * 2:\n",
    "            if randomized_window_size:\n",
    "                self.indexes.append((i, i + random.randint(window_size // 2, window_size)))\n",
    "            else:\n",
    "                self.indexes.append((i, i + window_size))\n",
    "\n",
    "            if randomized_stride:\n",
    "                i += random.randint(1, stride)\n",
    "            else:\n",
    "                i += stride\n",
    "\n",
    "    def __len__(self):\n",
    "        return len(self.indexes)\n",
    "\n",
    "    def __getitem__(self, idx):\n",
    "        s, t = self.indexes[idx]\n",
    "        x = self.csv.iloc[s:t][self.xcols].to_numpy()\n",
    "        y = self.csv.iloc[t + 18][self.ycols].to_numpy()\n",
    "\n",
    "        x = torch.tensor(x, dtype=torch.float32) # 300, 6\n",
    "        y = torch.tensor(y, dtype=torch.float32) # 3\n",
    "\n",
    "        return x, y"
   ]
  },
  {
   "cell_type": "code",
   "execution_count": 6,
   "metadata": {},
   "outputs": [],
   "source": [
    "ds_train = [CSVSequentialDataset(f,  \n",
    "                                 window_size=WINDOW_SIZE, randomized_window_size=False,\n",
    "                                 stride=5, randomized_stride=False) for f in TRAIN_FILES]\n",
    "ds_train = tb.data.ChainDataset(*ds_train)\n",
    "ds_test = [CSVSequentialDataset(f,  \n",
    "                                window_size=WINDOW_SIZE, randomized_window_size=False,\n",
    "                                stride=5, randomized_stride=False) for f in TEST_FILES]\n",
    "ds_test = tb.data.ChainDataset(*ds_test)"
   ]
  },
  {
   "cell_type": "code",
   "execution_count": 7,
   "metadata": {},
   "outputs": [
    {
     "data": {
      "text/plain": [
       "(11071, 10671)"
      ]
     },
     "execution_count": 7,
     "metadata": {},
     "output_type": "execute_result"
    }
   ],
   "source": [
    "len(ds_train), len(ds_test)"
   ]
  },
  {
   "cell_type": "code",
   "execution_count": 8,
   "metadata": {},
   "outputs": [
    {
     "data": {
      "text/plain": [
       "(torch.Size([120, 6]), torch.Size([3]))"
      ]
     },
     "execution_count": 8,
     "metadata": {},
     "output_type": "execute_result"
    }
   ],
   "source": [
    "ds_train[0][0].shape, ds_train[0][1].shape"
   ]
  },
  {
   "cell_type": "code",
   "execution_count": 9,
   "metadata": {},
   "outputs": [],
   "source": [
    "x, y = ds_train[0]"
   ]
  },
  {
   "cell_type": "code",
   "execution_count": 10,
   "metadata": {},
   "outputs": [
    {
     "data": {
      "text/plain": [
       "torch.Size([120, 6])"
      ]
     },
     "execution_count": 10,
     "metadata": {},
     "output_type": "execute_result"
    }
   ],
   "source": [
    "x.shape"
   ]
  },
  {
   "cell_type": "code",
   "execution_count": 11,
   "metadata": {},
   "outputs": [
    {
     "data": {
      "text/plain": [
       "[<matplotlib.lines.Line2D at 0x7f8cbcac8e90>]"
      ]
     },
     "execution_count": 11,
     "metadata": {},
     "output_type": "execute_result"
    },
    {
     "data": {
      "image/png": "[encoded data removed]",
      "text/plain": [
       "<Figure size 432x288 with 1 Axes>"
      ]
     },
     "metadata": {
      "needs_background": "light"
     },
     "output_type": "display_data"
    }
   ],
   "source": [
    "plt.plot(x[:, 2])"
   ]
  },
  {
   "cell_type": "markdown",
   "metadata": {},
   "source": [
    "# 모델 생성"
   ]
  },
  {
   "cell_type": "code",
   "execution_count": 12,
   "metadata": {},
   "outputs": [],
   "source": [
    "class CLSTM(nn.Module):\n",
    "    def __init__(self):\n",
    "        super(CLSTM, self).__init__()\n",
    "\n",
    "        self.conv_in = nn.Sequential(\n",
    "            nn.Conv1d(6, 24, 3, padding=1, groups=2),\n",
    "            nn.BatchNorm1d(24),\n",
    "            nn.LeakyReLU(),\n",
    "            nn.Conv1d(24, 48, 3, padding=1, groups=2),\n",
    "            nn.BatchNorm1d(48),\n",
    "            nn.LeakyReLU(),\n",
    "            nn.Conv1d(48, 64, 3, padding=1),\n",
    "            nn.BatchNorm1d(64),\n",
    "        )\n",
    "\n",
    "        self.rnn = nn.LSTM(input_size=64,\n",
    "                           hidden_size=64,\n",
    "                           num_layers=6,\n",
    "                           batch_first=True,\n",
    "                           dropout=0,\n",
    "                           bidirectional=True)\n",
    "\n",
    "        self.fc = nn.Linear(128, 3)\n",
    "\n",
    "    def forward(self, x):\n",
    "        x = x.transpose(1, 2)  # B, 48, 6 --> B, 6, 48\n",
    "        x = self.conv_in(x)  # B, 64, 48\n",
    "        x = x.transpose(1, 2)  # B, 48, 64\n",
    "\n",
    "        outs, (hiddens, cells) = self.rnn(x)\n",
    "        x = outs[:, -1, ...]\n",
    "        x = self.fc(x)\n",
    "\n",
    "        return x"
   ]
  },
  {
   "cell_type": "code",
   "execution_count": 13,
   "metadata": {},
   "outputs": [],
   "source": [
    "model = CLSTM().cuda()"
   ]
  },
  {
   "cell_type": "code",
   "execution_count": 14,
   "metadata": {},
   "outputs": [],
   "source": [
    "criterion = nn.MSELoss().cuda()\n",
    "optimizer = torch_optimizer.RAdam(model.parameters())"
   ]
  },
  {
   "cell_type": "code",
   "execution_count": 15,
   "metadata": {},
   "outputs": [],
   "source": [
    "class HPSignalHistory(tb.metrics.InvisibleMetric):\n",
    "    def __init__(self, filepath: AnyStr, name: str, verbose=True):\n",
    "        super(HPSignalHistory, self).__init__(name=name, mode='min')\n",
    "\n",
    "        self.filepath = Path(filepath)\n",
    "        self.filepath.parent.mkdir(parents=True, exist_ok=True)\n",
    "        self.verbose = verbose\n",
    "\n",
    "        self.on_valid = False\n",
    "        self.target_signals = []\n",
    "        self.out_signals = []\n",
    "\n",
    "    def on_valid_epoch_begin(self, epoch: int):\n",
    "        self.on_valid = True\n",
    "\n",
    "        self.target_signals.clear()\n",
    "        self.out_signals.clear()\n",
    "\n",
    "    def on_valid_epoch_end(self, epoch: int, logs: dict):\n",
    "        # 짧은 신호 단락을 3개의 신호 뭉치로 합치기\n",
    "        target_signals = torch.cat(self.target_signals).transpose(0, 1)\n",
    "        out_signals = torch.cat(self.out_signals).transpose(0, 1)\n",
    "        \n",
    "        # pickle 파일로 저장\n",
    "        signals = torch.cat([target_signals, out_signals], dim=0).numpy()\n",
    "        filepath = str(self.filepath).format(epoch=epoch, **logs)\n",
    "        if self.verbose:\n",
    "            print('Save output signals into', filepath)\n",
    "        np.save(filepath, signals)\n",
    "\n",
    "        # clear\n",
    "        self.on_valid = False\n",
    "\n",
    "        self.target_signals.clear()\n",
    "        self.out_signals.clear()\n",
    "\n",
    "    def get_value(self, outputs: torch.Tensor, targets: torch.Tensor, is_train: bool):\n",
    "        if not is_train:\n",
    "            self.target_signals.append(targets.detach().cpu())\n",
    "            self.out_signals.append(outputs.detach().cpu())"
   ]
  },
  {
   "cell_type": "code",
   "execution_count": 16,
   "metadata": {},
   "outputs": [],
   "source": [
    "class HPMetric(tb.metrics.InvisibleMetric):\n",
    "    def __init__(self, name: str):\n",
    "        super(HPMetric, self).__init__(name)\n",
    "\n",
    "        self.diff = []\n",
    "\n",
    "    def on_valid_epoch_end(self, epoch: int, logs: dict):\n",
    "        # RMS, 99% tile 출력\n",
    "        yaw_v, pitch_v, roll_v, rms_v, tile99_v = self._calc_values(self.diff)\n",
    "\n",
    "        print(f'                  validation')\n",
    "        print(f' - Yaw          : {yaw_v:10f}')\n",
    "        print(f' - Pitch        : {pitch_v:10f}')\n",
    "        print(f' - Roll         : {roll_v:10f}')\n",
    "        print(f' - RMS          : {rms_v:10f}')\n",
    "        print(f' - 99% Tile     : {tile99_v:10f}')\n",
    "\n",
    "        self.diff.clear()\n",
    "\n",
    "    def get_value(self, outputs: torch.Tensor, targets: torch.Tensor, is_train: bool):\n",
    "        if not is_train:\n",
    "            self.diff.append((outputs - targets).cpu())  # (B, 3)\n",
    "\n",
    "    @staticmethod\n",
    "    def _calc_values(diff):\n",
    "        diff = torch.cat(diff).abs_()  # (D, 3)\n",
    "        rms = (diff.square().sum(1) / 3).sqrt()\n",
    "        tile = rms.flatten().numpy()\n",
    "        tile99 = np.percentile(tile, 99)\n",
    "        \n",
    "        mrms = rms.mean()\n",
    "        \n",
    "        # diff = radian2degree(diff)\n",
    "        #tile = diff.flatten().numpy()\n",
    "        #tile99 = np.percentile(tile, 99)\n",
    "\n",
    "        mdiff = diff.mean(dim=0)\n",
    "        #rms = (mdiff.square().sum() / 3).sqrt()\n",
    "\n",
    "        return mdiff[0].item(), mdiff[1].item(), mdiff[2].item(), mrms.item(), tile99"
   ]
  },
  {
   "cell_type": "code",
   "execution_count": 17,
   "metadata": {},
   "outputs": [],
   "source": [
    "metrics = [tb.metrics.ModuleMetric(criterion, 'loss'),\n",
    "           HPMetric('hp_metric'),\n",
    "           HPSignalHistory(CHECKPOINT_DIR / 'sample' / '{epoch:04d}.npy', 'hp_signal', verbose=False)]"
   ]
  },
  {
   "cell_type": "code",
   "execution_count": 18,
   "metadata": {},
   "outputs": [],
   "source": [
    "callbacks = [tb.callbacks.EarlyStopping(metrics[0]),\n",
    "             tb.callbacks.LRDecaying(optimizer, metrics[0], patience=3)]"
   ]
  },
  {
   "cell_type": "code",
   "execution_count": 19,
   "metadata": {},
   "outputs": [],
   "source": [
    "trainer = tb.Trainer(model, optimizer, metrics, callbacks, ncols=100)"
   ]
  },
  {
   "cell_type": "code",
   "execution_count": 20,
   "metadata": {},
   "outputs": [
    {
     "name": "stderr",
     "output_type": "stream",
     "text": [
      "[0001/0200] Train: 100%|█████████████████████████████| 44/44 [00:05<00:00,  7.73it/s, loss 289.5429]\n",
      "[0001/0200] Validation: 100%|████████████████████| 42/42 [00:02<00:00, 16.53it/s, val_loss 236.6123]\n",
      "[0002/0200] Train:   0%|                                                     | 0/44 [00:00<?, ?it/s]"
     ]
    },
    {
     "name": "stdout",
     "output_type": "stream",
     "text": [
      "                  validation\n",
      " - Yaw          :  19.634779\n",
      " - Pitch        :  10.717093\n",
      " - Roll         :   2.600543\n",
      " - RMS          :  13.960978\n",
      " - 99% Tile     :  28.562036\n"
     ]
    },
    {
     "name": "stderr",
     "output_type": "stream",
     "text": [
      "[0002/0200] Train: 100%|█████████████████████████████| 44/44 [00:05<00:00,  7.34it/s, loss 276.2000]\n",
      "[0002/0200] Validation: 100%|████████████████████| 42/42 [00:03<00:00, 12.41it/s, val_loss 206.5648]\n",
      "[0003/0200] Train:   0%|                                                     | 0/44 [00:00<?, ?it/s]"
     ]
    },
    {
     "name": "stdout",
     "output_type": "stream",
     "text": [
      "                  validation\n",
      " - Yaw          :  17.910425\n",
      " - Pitch        :  10.078060\n",
      " - Roll         :   2.572635\n",
      " - RMS          :  12.960356\n",
      " - 99% Tile     :  27.145358\n"
     ]
    },
    {
     "name": "stderr",
     "output_type": "stream",
     "text": [
      "[0003/0200] Train: 100%|█████████████████████████████| 44/44 [00:05<00:00,  7.43it/s, loss 235.4205]\n",
      "[0003/0200] Validation: 100%|████████████████████| 42/42 [00:02<00:00, 15.09it/s, val_loss 171.6044]\n",
      "[0004/0200] Train:   0%|                                                     | 0/44 [00:00<?, ?it/s]"
     ]
    },
    {
     "name": "stdout",
     "output_type": "stream",
     "text": [
      "                  validation\n",
      " - Yaw          :  15.762253\n",
      " - Pitch        :   9.348572\n",
      " - Roll         :   2.580199\n",
      " - RMS          :  11.721796\n",
      " - 99% Tile     :  25.422796\n"
     ]
    },
    {
     "name": "stderr",
     "output_type": "stream",
     "text": [
      "[0004/0200] Train: 100%|█████████████████████████████| 44/44 [00:05<00:00,  7.49it/s, loss 195.0162]\n",
      "[0004/0200] Validation: 100%|████████████████████| 42/42 [00:02<00:00, 15.31it/s, val_loss 142.0361]\n",
      "[0005/0200] Train:   0%|                                                     | 0/44 [00:00<?, ?it/s]"
     ]
    },
    {
     "name": "stdout",
     "output_type": "stream",
     "text": [
      "                  validation\n",
      " - Yaw          :  14.360434\n",
      " - Pitch        :   8.479478\n",
      " - Roll         :   2.494484\n",
      " - RMS          :  10.579075\n",
      " - 99% Tile     :  23.597657\n"
     ]
    },
    {
     "name": "stderr",
     "output_type": "stream",
     "text": [
      "[0005/0200] Train: 100%|█████████████████████████████| 44/44 [00:06<00:00,  7.24it/s, loss 165.9393]\n",
      "[0005/0200] Validation: 100%|████████████████████| 42/42 [00:02<00:00, 15.93it/s, val_loss 120.6605]\n",
      "[0006/0200] Train:   0%|                                                     | 0/44 [00:00<?, ?it/s]"
     ]
    },
    {
     "name": "stdout",
     "output_type": "stream",
     "text": [
      "                  validation\n",
      " - Yaw          :  12.602529\n",
      " - Pitch        :   8.238763\n",
      " - Roll         :   2.462036\n",
      " - RMS          :   9.611475\n",
      " - 99% Tile     :  22.285984\n"
     ]
    },
    {
     "name": "stderr",
     "output_type": "stream",
     "text": [
      "[0006/0200] Train: 100%|█████████████████████████████| 44/44 [00:05<00:00,  7.96it/s, loss 144.4733]\n",
      "[0006/0200] Validation: 100%|████████████████████| 42/42 [00:02<00:00, 17.21it/s, val_loss 106.7644]\n",
      "[0007/0200] Train:   0%|                                                     | 0/44 [00:00<?, ?it/s]"
     ]
    },
    {
     "name": "stdout",
     "output_type": "stream",
     "text": [
      "                  validation\n",
      " - Yaw          :  11.573233\n",
      " - Pitch        :   7.954144\n",
      " - Roll         :   2.420833\n",
      " - RMS          :   8.975120\n",
      " - 99% Tile     :  22.336561\n"
     ]
    },
    {
     "name": "stderr",
     "output_type": "stream",
     "text": [
      "[0007/0200] Train: 100%|█████████████████████████████| 44/44 [00:05<00:00,  7.63it/s, loss 128.8832]\n",
      "[0007/0200] Validation: 100%|█████████████████████| 42/42 [00:03<00:00, 11.13it/s, val_loss 93.9901]\n",
      "[0008/0200] Train:   0%|                                                     | 0/44 [00:00<?, ?it/s]"
     ]
    },
    {
     "name": "stdout",
     "output_type": "stream",
     "text": [
      "                  validation\n",
      " - Yaw          :  10.355544\n",
      " - Pitch        :   7.842815\n",
      " - Roll         :   2.418800\n",
      " - RMS          :   8.359546\n",
      " - 99% Tile     :  21.520434\n"
     ]
    },
    {
     "name": "stderr",
     "output_type": "stream",
     "text": [
      "[0008/0200] Train: 100%|█████████████████████████████| 44/44 [00:05<00:00,  7.95it/s, loss 114.8167]\n",
      "[0008/0200] Validation: 100%|█████████████████████| 42/42 [00:02<00:00, 16.22it/s, val_loss 83.1921]\n",
      "[0009/0200] Train:   0%|                                                     | 0/44 [00:00<?, ?it/s]"
     ]
    },
    {
     "name": "stdout",
     "output_type": "stream",
     "text": [
      "                  validation\n",
      " - Yaw          :   9.342762\n",
      " - Pitch        :   7.510752\n",
      " - Roll         :   2.418592\n",
      " - RMS          :   7.764417\n",
      " - 99% Tile     :  20.769441\n"
     ]
    },
    {
     "name": "stderr",
     "output_type": "stream",
     "text": [
      "[0009/0200] Train: 100%|█████████████████████████████| 44/44 [00:06<00:00,  7.01it/s, loss 102.8740]\n",
      "[0009/0200] Validation: 100%|█████████████████████| 42/42 [00:03<00:00, 13.51it/s, val_loss 76.5686]\n",
      "[0010/0200] Train:   0%|                                                     | 0/44 [00:00<?, ?it/s]"
     ]
    },
    {
     "name": "stdout",
     "output_type": "stream",
     "text": [
      "                  validation\n",
      " - Yaw          :   9.199674\n",
      " - Pitch        :   7.032221\n",
      " - Roll         :   2.460714\n",
      " - RMS          :   7.482482\n",
      " - 99% Tile     :  20.229903\n"
     ]
    },
    {
     "name": "stderr",
     "output_type": "stream",
     "text": [
      "[0010/0200] Train: 100%|██████████████████████████████| 44/44 [00:06<00:00,  7.30it/s, loss 93.6821]\n",
      "[0010/0200] Validation: 100%|█████████████████████| 42/42 [00:03<00:00, 13.19it/s, val_loss 71.6571]\n",
      "[0011/0200] Train:   0%|                                                     | 0/44 [00:00<?, ?it/s]"
     ]
    },
    {
     "name": "stdout",
     "output_type": "stream",
     "text": [
      "                  validation\n",
      " - Yaw          :   8.742105\n",
      " - Pitch        :   7.146868\n",
      " - Roll         :   2.443005\n",
      " - RMS          :   7.307994\n",
      " - 99% Tile     :  19.893829\n"
     ]
    },
    {
     "name": "stderr",
     "output_type": "stream",
     "text": [
      "[0011/0200] Train: 100%|██████████████████████████████| 44/44 [00:06<00:00,  7.32it/s, loss 85.8607]\n",
      "[0011/0200] Validation: 100%|█████████████████████| 42/42 [00:02<00:00, 16.93it/s, val_loss 65.1696]\n",
      "[0012/0200] Train:   0%|                                                     | 0/44 [00:00<?, ?it/s]"
     ]
    },
    {
     "name": "stdout",
     "output_type": "stream",
     "text": [
      "                  validation\n",
      " - Yaw          :   7.902425\n",
      " - Pitch        :   7.188897\n",
      " - Roll         :   2.427167\n",
      " - RMS          :   6.950872\n",
      " - 99% Tile     :  19.494929\n"
     ]
    },
    {
     "name": "stderr",
     "output_type": "stream",
     "text": [
      "[0012/0200] Train: 100%|██████████████████████████████| 44/44 [00:05<00:00,  7.94it/s, loss 77.6145]\n",
      "[0012/0200] Validation: 100%|█████████████████████| 42/42 [00:03<00:00, 11.76it/s, val_loss 56.6489]\n",
      "[0013/0200] Train:   0%|                                                     | 0/44 [00:00<?, ?it/s]"
     ]
    },
    {
     "name": "stdout",
     "output_type": "stream",
     "text": [
      "                  validation\n",
      " - Yaw          :   7.031774\n",
      " - Pitch        :   6.472712\n",
      " - Roll         :   2.389843\n",
      " - RMS          :   6.311502\n",
      " - 99% Tile     :  18.731084\n"
     ]
    },
    {
     "name": "stderr",
     "output_type": "stream",
     "text": [
      "[0013/0200] Train: 100%|██████████████████████████████| 44/44 [00:05<00:00,  8.29it/s, loss 69.9287]\n",
      "[0013/0200] Validation: 100%|█████████████████████| 42/42 [00:03<00:00, 12.69it/s, val_loss 46.8416]\n",
      "[0014/0200] Train:   0%|                                                     | 0/44 [00:00<?, ?it/s]"
     ]
    },
    {
     "name": "stdout",
     "output_type": "stream",
     "text": [
      "                  validation\n",
      " - Yaw          :   6.258195\n",
      " - Pitch        :   5.836238\n",
      " - Roll         :   2.378448\n",
      " - RMS          :   5.743761\n",
      " - 99% Tile     :  16.756542\n"
     ]
    },
    {
     "name": "stderr",
     "output_type": "stream",
     "text": [
      "[0014/0200] Train: 100%|██████████████████████████████| 44/44 [00:06<00:00,  6.85it/s, loss 62.2187]\n",
      "[0014/0200] Validation: 100%|█████████████████████| 42/42 [00:02<00:00, 16.84it/s, val_loss 41.1527]\n",
      "[0015/0200] Train:   0%|                                                     | 0/44 [00:00<?, ?it/s]"
     ]
    },
    {
     "name": "stdout",
     "output_type": "stream",
     "text": [
      "                  validation\n",
      " - Yaw          :   5.842892\n",
      " - Pitch        :   5.179886\n",
      " - Roll         :   2.417708\n",
      " - RMS          :   5.318220\n",
      " - 99% Tile     :  16.360090\n"
     ]
    },
    {
     "name": "stderr",
     "output_type": "stream",
     "text": [
      "[0015/0200] Train: 100%|██████████████████████████████| 44/44 [00:06<00:00,  6.97it/s, loss 54.0838]\n",
      "[0015/0200] Validation: 100%|█████████████████████| 42/42 [00:02<00:00, 16.35it/s, val_loss 40.2759]\n",
      "[0016/0200] Train:   0%|                                                     | 0/44 [00:00<?, ?it/s]"
     ]
    },
    {
     "name": "stdout",
     "output_type": "stream",
     "text": [
      "                  validation\n",
      " - Yaw          :   6.943549\n",
      " - Pitch        :   4.416115\n",
      " - Roll         :   2.353840\n",
      " - RMS          :   5.480188\n",
      " - 99% Tile     :  15.812393\n"
     ]
    },
    {
     "name": "stderr",
     "output_type": "stream",
     "text": [
      "[0016/0200] Train: 100%|██████████████████████████████| 44/44 [00:05<00:00,  8.47it/s, loss 50.0779]\n",
      "[0016/0200] Validation: 100%|█████████████████████| 42/42 [00:03<00:00, 10.55it/s, val_loss 32.8893]\n",
      "[0017/0200] Train:   0%|                                                     | 0/44 [00:00<?, ?it/s]"
     ]
    },
    {
     "name": "stdout",
     "output_type": "stream",
     "text": [
      "                  validation\n",
      " - Yaw          :   5.510974\n",
      " - Pitch        :   4.320277\n",
      " - Roll         :   2.351102\n",
      " - RMS          :   4.831839\n",
      " - 99% Tile     :  15.018673\n"
     ]
    },
    {
     "name": "stderr",
     "output_type": "stream",
     "text": [
      "[0017/0200] Train: 100%|██████████████████████████████| 44/44 [00:05<00:00,  7.34it/s, loss 44.4534]\n",
      "[0017/0200] Validation: 100%|█████████████████████| 42/42 [00:02<00:00, 17.93it/s, val_loss 28.6370]\n",
      "[0018/0200] Train:   0%|                                                     | 0/44 [00:00<?, ?it/s]"
     ]
    },
    {
     "name": "stdout",
     "output_type": "stream",
     "text": [
      "                  validation\n",
      " - Yaw          :   4.991945\n",
      " - Pitch        :   3.842379\n",
      " - Roll         :   2.400839\n",
      " - RMS          :   4.372553\n",
      " - 99% Tile     :  14.842977\n"
     ]
    },
    {
     "name": "stderr",
     "output_type": "stream",
     "text": [
      "[0018/0200] Train: 100%|██████████████████████████████| 44/44 [00:06<00:00,  6.81it/s, loss 40.0587]\n",
      "[0018/0200] Validation: 100%|█████████████████████| 42/42 [00:02<00:00, 15.99it/s, val_loss 29.3742]\n",
      "[0019/0200] Train:   0%|                                                     | 0/44 [00:00<?, ?it/s]"
     ]
    },
    {
     "name": "stdout",
     "output_type": "stream",
     "text": [
      "val_loss is not improved for 1 epochs\n",
      "                  validation\n",
      " - Yaw          :   5.816665\n",
      " - Pitch        :   3.231370\n",
      " - Roll         :   2.461156\n",
      " - RMS          :   4.575601\n",
      " - 99% Tile     :  14.666174\n"
     ]
    },
    {
     "name": "stderr",
     "output_type": "stream",
     "text": [
      "[0019/0200] Train: 100%|██████████████████████████████| 44/44 [00:06<00:00,  7.31it/s, loss 37.0502]\n",
      "[0019/0200] Validation: 100%|█████████████████████| 42/42 [00:03<00:00, 13.39it/s, val_loss 23.5406]\n",
      "[0020/0200] Train:   0%|                                                     | 0/44 [00:00<?, ?it/s]"
     ]
    },
    {
     "name": "stdout",
     "output_type": "stream",
     "text": [
      "                  validation\n",
      " - Yaw          :   4.159070\n",
      " - Pitch        :   3.608555\n",
      " - Roll         :   2.360562\n",
      " - RMS          :   3.975736\n",
      " - 99% Tile     :  13.747815\n"
     ]
    },
    {
     "name": "stderr",
     "output_type": "stream",
     "text": [
      "[0020/0200] Train: 100%|██████████████████████████████| 44/44 [00:05<00:00,  7.35it/s, loss 34.1322]\n",
      "[0020/0200] Validation: 100%|█████████████████████| 42/42 [00:02<00:00, 15.61it/s, val_loss 22.9594]\n",
      "[0021/0200] Train:   0%|                                                     | 0/44 [00:00<?, ?it/s]"
     ]
    },
    {
     "name": "stdout",
     "output_type": "stream",
     "text": [
      "                  validation\n",
      " - Yaw          :   4.249613\n",
      " - Pitch        :   3.384895\n",
      " - Roll         :   2.358579\n",
      " - RMS          :   3.916693\n",
      " - 99% Tile     :  13.853829\n"
     ]
    },
    {
     "name": "stderr",
     "output_type": "stream",
     "text": [
      "[0021/0200] Train: 100%|██████████████████████████████| 44/44 [00:05<00:00,  8.16it/s, loss 31.8338]\n",
      "[0021/0200] Validation: 100%|█████████████████████| 42/42 [00:03<00:00, 11.61it/s, val_loss 20.9229]\n",
      "[0022/0200] Train:   0%|                                                     | 0/44 [00:00<?, ?it/s]"
     ]
    },
    {
     "name": "stdout",
     "output_type": "stream",
     "text": [
      "                  validation\n",
      " - Yaw          :   4.100924\n",
      " - Pitch        :   3.150362\n",
      " - Roll         :   2.392118\n",
      " - RMS          :   3.761907\n",
      " - 99% Tile     :  13.306532\n"
     ]
    },
    {
     "name": "stderr",
     "output_type": "stream",
     "text": [
      "[0022/0200] Train: 100%|██████████████████████████████| 44/44 [00:05<00:00,  7.39it/s, loss 31.0619]\n",
      "[0022/0200] Validation: 100%|█████████████████████| 42/42 [00:03<00:00, 12.62it/s, val_loss 19.5153]\n",
      "[0023/0200] Train:   0%|                                                     | 0/44 [00:00<?, ?it/s]"
     ]
    },
    {
     "name": "stdout",
     "output_type": "stream",
     "text": [
      "                  validation\n",
      " - Yaw          :   3.792224\n",
      " - Pitch        :   2.914376\n",
      " - Roll         :   2.363881\n",
      " - RMS          :   3.581168\n",
      " - 99% Tile     :  13.153592\n"
     ]
    },
    {
     "name": "stderr",
     "output_type": "stream",
     "text": [
      "[0023/0200] Train: 100%|██████████████████████████████| 44/44 [00:06<00:00,  7.07it/s, loss 28.3593]\n",
      "[0023/0200] Validation: 100%|█████████████████████| 42/42 [00:02<00:00, 16.83it/s, val_loss 18.0683]\n",
      "[0024/0200] Train:   0%|                                                     | 0/44 [00:00<?, ?it/s]"
     ]
    },
    {
     "name": "stdout",
     "output_type": "stream",
     "text": [
      "                  validation\n",
      " - Yaw          :   3.844517\n",
      " - Pitch        :   2.576642\n",
      " - Roll         :   2.321484\n",
      " - RMS          :   3.457618\n",
      " - 99% Tile     :  12.803226\n"
     ]
    },
    {
     "name": "stderr",
     "output_type": "stream",
     "text": [
      "[0024/0200] Train: 100%|██████████████████████████████| 44/44 [00:05<00:00,  7.47it/s, loss 26.6543]\n",
      "[0024/0200] Validation: 100%|█████████████████████| 42/42 [00:02<00:00, 14.40it/s, val_loss 18.0256]\n",
      "[0025/0200] Train:   0%|                                                     | 0/44 [00:00<?, ?it/s]"
     ]
    },
    {
     "name": "stdout",
     "output_type": "stream",
     "text": [
      "                  validation\n",
      " - Yaw          :   3.988915\n",
      " - Pitch        :   2.374331\n",
      " - Roll         :   2.343429\n",
      " - RMS          :   3.444718\n",
      " - 99% Tile     :  12.951009\n"
     ]
    },
    {
     "name": "stderr",
     "output_type": "stream",
     "text": [
      "[0025/0200] Train: 100%|██████████████████████████████| 44/44 [00:05<00:00,  7.52it/s, loss 25.0356]\n",
      "[0025/0200] Validation: 100%|█████████████████████| 42/42 [00:03<00:00, 12.98it/s, val_loss 17.1514]\n",
      "[0026/0200] Train:   0%|                                                     | 0/44 [00:00<?, ?it/s]"
     ]
    },
    {
     "name": "stdout",
     "output_type": "stream",
     "text": [
      "                  validation\n",
      " - Yaw          :   3.855940\n",
      " - Pitch        :   2.170351\n",
      " - Roll         :   2.350501\n",
      " - RMS          :   3.334930\n",
      " - 99% Tile     :  12.753899\n"
     ]
    },
    {
     "name": "stderr",
     "output_type": "stream",
     "text": [
      "[0026/0200] Train: 100%|██████████████████████████████| 44/44 [00:05<00:00,  8.39it/s, loss 23.5741]\n",
      "[0026/0200] Validation: 100%|█████████████████████| 42/42 [00:03<00:00, 13.72it/s, val_loss 16.8883]\n",
      "[0027/0200] Train:   0%|                                                     | 0/44 [00:00<?, ?it/s]"
     ]
    },
    {
     "name": "stdout",
     "output_type": "stream",
     "text": [
      "                  validation\n",
      " - Yaw          :   3.484998\n",
      " - Pitch        :   2.921914\n",
      " - Roll         :   2.263995\n",
      " - RMS          :   3.388106\n",
      " - 99% Tile     :  12.435673\n"
     ]
    },
    {
     "name": "stderr",
     "output_type": "stream",
     "text": [
      "[0027/0200] Train: 100%|██████████████████████████████| 44/44 [00:06<00:00,  7.20it/s, loss 22.3637]\n",
      "[0027/0200] Validation: 100%|█████████████████████| 42/42 [00:03<00:00, 13.01it/s, val_loss 15.7610]\n",
      "[0028/0200] Train:   0%|                                                     | 0/44 [00:00<?, ?it/s]"
     ]
    },
    {
     "name": "stdout",
     "output_type": "stream",
     "text": [
      "                  validation\n",
      " - Yaw          :   3.561590\n",
      " - Pitch        :   2.205992\n",
      " - Roll         :   2.284045\n",
      " - RMS          :   3.184456\n",
      " - 99% Tile     :  12.628207\n"
     ]
    },
    {
     "name": "stderr",
     "output_type": "stream",
     "text": [
      "[0028/0200] Train: 100%|██████████████████████████████| 44/44 [00:06<00:00,  7.02it/s, loss 21.3047]\n",
      "[0028/0200] Validation: 100%|█████████████████████| 42/42 [00:02<00:00, 17.42it/s, val_loss 15.2924]\n",
      "[0029/0200] Train:   0%|                                                     | 0/44 [00:00<?, ?it/s]"
     ]
    },
    {
     "name": "stdout",
     "output_type": "stream",
     "text": [
      "                  validation\n",
      " - Yaw          :   3.259588\n",
      " - Pitch        :   2.354805\n",
      " - Roll         :   2.258595\n",
      " - RMS          :   3.103482\n",
      " - 99% Tile     :  12.725814\n"
     ]
    },
    {
     "name": "stderr",
     "output_type": "stream",
     "text": [
      "[0029/0200] Train: 100%|██████████████████████████████| 44/44 [00:06<00:00,  7.24it/s, loss 20.1383]\n",
      "[0029/0200] Validation: 100%|█████████████████████| 42/42 [00:02<00:00, 15.25it/s, val_loss 15.2573]\n",
      "[0030/0200] Train:   0%|                                                     | 0/44 [00:00<?, ?it/s]"
     ]
    },
    {
     "name": "stdout",
     "output_type": "stream",
     "text": [
      "                  validation\n",
      " - Yaw          :   3.439763\n",
      " - Pitch        :   2.001307\n",
      " - Roll         :   2.310576\n",
      " - RMS          :   3.091186\n",
      " - 99% Tile     :  12.738342\n"
     ]
    },
    {
     "name": "stderr",
     "output_type": "stream",
     "text": [
      "[0030/0200] Train: 100%|██████████████████████████████| 44/44 [00:05<00:00,  7.67it/s, loss 19.3540]\n",
      "[0030/0200] Validation: 100%|█████████████████████| 42/42 [00:03<00:00, 12.10it/s, val_loss 18.7993]\n",
      "[0031/0200] Train:   0%|                                                     | 0/44 [00:00<?, ?it/s]"
     ]
    },
    {
     "name": "stdout",
     "output_type": "stream",
     "text": [
      "val_loss is not improved for 1 epochs\n",
      "                  validation\n",
      " - Yaw          :   4.455920\n",
      " - Pitch        :   2.404305\n",
      " - Roll         :   2.170587\n",
      " - RMS          :   3.638143\n",
      " - 99% Tile     :  13.018336\n"
     ]
    },
    {
     "name": "stderr",
     "output_type": "stream",
     "text": [
      "[0031/0200] Train: 100%|██████████████████████████████| 44/44 [00:05<00:00,  7.85it/s, loss 18.9391]\n",
      "[0031/0200] Validation: 100%|█████████████████████| 42/42 [00:03<00:00, 13.84it/s, val_loss 14.6888]\n",
      "[0032/0200] Train:   0%|                                                     | 0/44 [00:00<?, ?it/s]"
     ]
    },
    {
     "name": "stdout",
     "output_type": "stream",
     "text": [
      "                  validation\n",
      " - Yaw          :   3.418072\n",
      " - Pitch        :   1.939704\n",
      " - Roll         :   2.240583\n",
      " - RMS          :   3.040566\n",
      " - 99% Tile     :  12.687355\n"
     ]
    },
    {
     "name": "stderr",
     "output_type": "stream",
     "text": [
      "[0032/0200] Train: 100%|██████████████████████████████| 44/44 [00:05<00:00,  7.36it/s, loss 17.7163]\n",
      "[0032/0200] Validation: 100%|█████████████████████| 42/42 [00:02<00:00, 15.65it/s, val_loss 14.1931]\n",
      "[0033/0200] Train:   0%|                                                     | 0/44 [00:00<?, ?it/s]"
     ]
    },
    {
     "name": "stdout",
     "output_type": "stream",
     "text": [
      "                  validation\n",
      " - Yaw          :   3.053974\n",
      " - Pitch        :   2.350068\n",
      " - Roll         :   2.205279\n",
      " - RMS          :   2.996990\n",
      " - 99% Tile     :  12.224852\n"
     ]
    },
    {
     "name": "stderr",
     "output_type": "stream",
     "text": [
      "[0033/0200] Train: 100%|██████████████████████████████| 44/44 [00:06<00:00,  7.00it/s, loss 17.1236]\n",
      "[0033/0200] Validation: 100%|█████████████████████| 42/42 [00:02<00:00, 15.88it/s, val_loss 14.3689]\n",
      "[0034/0200] Train:   0%|                                                     | 0/44 [00:00<?, ?it/s]"
     ]
    },
    {
     "name": "stdout",
     "output_type": "stream",
     "text": [
      "val_loss is not improved for 1 epochs\n",
      "                  validation\n",
      " - Yaw          :   3.169329\n",
      " - Pitch        :   2.111861\n",
      " - Roll         :   2.194477\n",
      " - RMS          :   2.956948\n",
      " - 99% Tile     :  12.707982\n"
     ]
    },
    {
     "name": "stderr",
     "output_type": "stream",
     "text": [
      "[0034/0200] Train: 100%|██████████████████████████████| 44/44 [00:05<00:00,  7.38it/s, loss 17.4519]\n",
      "[0034/0200] Validation: 100%|█████████████████████| 42/42 [00:02<00:00, 14.93it/s, val_loss 15.6391]\n",
      "[0035/0200] Train:   0%|                                                     | 0/44 [00:00<?, ?it/s]"
     ]
    },
    {
     "name": "stdout",
     "output_type": "stream",
     "text": [
      "val_loss is not improved for 2 epochs\n",
      "                  validation\n",
      " - Yaw          :   3.841433\n",
      " - Pitch        :   1.871414\n",
      " - Roll         :   2.284235\n",
      " - RMS          :   3.201396\n",
      " - 99% Tile     :  12.771158\n"
     ]
    },
    {
     "name": "stderr",
     "output_type": "stream",
     "text": [
      "[0035/0200] Train: 100%|██████████████████████████████| 44/44 [00:05<00:00,  7.93it/s, loss 16.7781]\n",
      "[0035/0200] Validation: 100%|█████████████████████| 42/42 [00:03<00:00, 11.34it/s, val_loss 14.1837]\n",
      "[0036/0200] Train:   0%|                                                     | 0/44 [00:00<?, ?it/s]"
     ]
    },
    {
     "name": "stdout",
     "output_type": "stream",
     "text": [
      "                  validation\n",
      " - Yaw          :   3.308272\n",
      " - Pitch        :   1.806388\n",
      " - Roll         :   2.270157\n",
      " - RMS          :   2.945487\n",
      " - 99% Tile     :  12.481014\n"
     ]
    },
    {
     "name": "stderr",
     "output_type": "stream",
     "text": [
      "[0036/0200] Train: 100%|██████████████████████████████| 44/44 [00:05<00:00,  8.06it/s, loss 16.8932]\n",
      "[0036/0200] Validation: 100%|█████████████████████| 42/42 [00:03<00:00, 12.44it/s, val_loss 15.8291]\n",
      "[0037/0200] Train:   0%|                                                     | 0/44 [00:00<?, ?it/s]"
     ]
    },
    {
     "name": "stdout",
     "output_type": "stream",
     "text": [
      "val_loss is not improved for 1 epochs\n",
      "                  validation\n",
      " - Yaw          :   3.616647\n",
      " - Pitch        :   2.425122\n",
      " - Roll         :   2.297060\n",
      " - RMS          :   3.299801\n",
      " - 99% Tile     :  12.460994\n"
     ]
    },
    {
     "name": "stderr",
     "output_type": "stream",
     "text": [
      "[0037/0200] Train: 100%|██████████████████████████████| 44/44 [00:05<00:00,  7.62it/s, loss 16.4927]\n",
      "[0037/0200] Validation: 100%|█████████████████████| 42/42 [00:03<00:00, 12.65it/s, val_loss 15.5948]\n",
      "[0038/0200] Train:   0%|                                                     | 0/44 [00:00<?, ?it/s]"
     ]
    },
    {
     "name": "stdout",
     "output_type": "stream",
     "text": [
      "val_loss is not improved for 2 epochs\n",
      "                  validation\n",
      " - Yaw          :   3.783753\n",
      " - Pitch        :   1.990888\n",
      " - Roll         :   2.231770\n",
      " - RMS          :   3.190718\n",
      " - 99% Tile     :  12.779470\n"
     ]
    },
    {
     "name": "stderr",
     "output_type": "stream",
     "text": [
      "[0038/0200] Train: 100%|██████████████████████████████| 44/44 [00:06<00:00,  6.58it/s, loss 15.4151]\n",
      "[0038/0200] Validation: 100%|█████████████████████| 42/42 [00:02<00:00, 15.76it/s, val_loss 15.1943]\n",
      "[0039/0200] Train:   0%|                                                     | 0/44 [00:00<?, ?it/s]"
     ]
    },
    {
     "name": "stdout",
     "output_type": "stream",
     "text": [
      "Decaying lr from 0.001 to 0.0005 because val_loss did not improved for 3 epochs\n",
      "val_loss is not improved for 3 epochs\n",
      "                  validation\n",
      " - Yaw          :   3.103289\n",
      " - Pitch        :   2.634824\n",
      " - Roll         :   2.206327\n",
      " - RMS          :   3.112925\n",
      " - 99% Tile     :  12.731192\n"
     ]
    },
    {
     "name": "stderr",
     "output_type": "stream",
     "text": [
      "[0039/0200] Train: 100%|██████████████████████████████| 44/44 [00:06<00:00,  7.32it/s, loss 14.4350]\n",
      "[0039/0200] Validation: 100%|█████████████████████| 42/42 [00:02<00:00, 15.44it/s, val_loss 13.2753]\n",
      "[0040/0200] Train:   0%|                                                     | 0/44 [00:00<?, ?it/s]"
     ]
    },
    {
     "name": "stdout",
     "output_type": "stream",
     "text": [
      "                  validation\n",
      " - Yaw          :   3.173872\n",
      " - Pitch        :   1.813475\n",
      " - Roll         :   2.147211\n",
      " - RMS          :   2.839152\n",
      " - 99% Tile     :  12.113795\n"
     ]
    },
    {
     "name": "stderr",
     "output_type": "stream",
     "text": [
      "[0040/0200] Train: 100%|██████████████████████████████| 44/44 [00:06<00:00,  7.04it/s, loss 14.1567]\n",
      "[0040/0200] Validation: 100%|█████████████████████| 42/42 [00:03<00:00, 11.96it/s, val_loss 13.1044]\n",
      "[0041/0200] Train:   0%|                                                     | 0/44 [00:00<?, ?it/s]"
     ]
    },
    {
     "name": "stdout",
     "output_type": "stream",
     "text": [
      "                  validation\n",
      " - Yaw          :   3.176200\n",
      " - Pitch        :   1.751891\n",
      " - Roll         :   2.118773\n",
      " - RMS          :   2.813223\n",
      " - 99% Tile     :  12.085794\n"
     ]
    },
    {
     "name": "stderr",
     "output_type": "stream",
     "text": [
      "[0041/0200] Train: 100%|██████████████████████████████| 44/44 [00:05<00:00,  7.38it/s, loss 13.8614]\n",
      "[0041/0200] Validation: 100%|█████████████████████| 42/42 [00:03<00:00, 13.70it/s, val_loss 12.6951]\n",
      "[0042/0200] Train:   0%|                                                     | 0/44 [00:00<?, ?it/s]"
     ]
    },
    {
     "name": "stdout",
     "output_type": "stream",
     "text": [
      "                  validation\n",
      " - Yaw          :   2.997536\n",
      " - Pitch        :   1.736299\n",
      " - Roll         :   2.138752\n",
      " - RMS          :   2.749206\n",
      " - 99% Tile     :  11.792095\n"
     ]
    },
    {
     "name": "stderr",
     "output_type": "stream",
     "text": [
      "[0042/0200] Train: 100%|██████████████████████████████| 44/44 [00:05<00:00,  7.69it/s, loss 13.3258]\n",
      "[0042/0200] Validation: 100%|█████████████████████| 42/42 [00:04<00:00, 10.19it/s, val_loss 13.7958]\n",
      "[0043/0200] Train:   0%|                                                     | 0/44 [00:00<?, ?it/s]"
     ]
    },
    {
     "name": "stdout",
     "output_type": "stream",
     "text": [
      "val_loss is not improved for 1 epochs\n",
      "                  validation\n",
      " - Yaw          :   3.485835\n",
      " - Pitch        :   1.624778\n",
      " - Roll         :   2.143847\n",
      " - RMS          :   2.916333\n",
      " - 99% Tile     :  12.393571\n"
     ]
    },
    {
     "name": "stderr",
     "output_type": "stream",
     "text": [
      "[0043/0200] Train: 100%|██████████████████████████████| 44/44 [00:06<00:00,  6.55it/s, loss 13.1589]\n",
      "[0043/0200] Validation: 100%|█████████████████████| 42/42 [00:02<00:00, 18.38it/s, val_loss 12.9711]\n",
      "[0044/0200] Train:   0%|                                                     | 0/44 [00:00<?, ?it/s]"
     ]
    },
    {
     "name": "stdout",
     "output_type": "stream",
     "text": [
      "val_loss is not improved for 2 epochs\n",
      "                  validation\n",
      " - Yaw          :   3.166607\n",
      " - Pitch        :   1.732513\n",
      " - Roll         :   2.085341\n",
      " - RMS          :   2.801819\n",
      " - 99% Tile     :  12.146712\n"
     ]
    },
    {
     "name": "stderr",
     "output_type": "stream",
     "text": [
      "[0044/0200] Train: 100%|██████████████████████████████| 44/44 [00:07<00:00,  6.28it/s, loss 12.9690]\n",
      "[0044/0200] Validation: 100%|█████████████████████| 42/42 [00:02<00:00, 15.02it/s, val_loss 12.6631]\n",
      "[0045/0200] Train:   0%|                                                     | 0/44 [00:00<?, ?it/s]"
     ]
    },
    {
     "name": "stdout",
     "output_type": "stream",
     "text": [
      "                  validation\n",
      " - Yaw          :   3.088205\n",
      " - Pitch        :   1.697149\n",
      " - Roll         :   2.020543\n",
      " - RMS          :   2.721902\n",
      " - 99% Tile     :  12.305644\n"
     ]
    },
    {
     "name": "stderr",
     "output_type": "stream",
     "text": [
      "[0045/0200] Train: 100%|██████████████████████████████| 44/44 [00:05<00:00,  7.95it/s, loss 13.1759]\n",
      "[0045/0200] Validation: 100%|█████████████████████| 42/42 [00:03<00:00, 10.77it/s, val_loss 12.6290]\n",
      "[0046/0200] Train:   0%|                                                     | 0/44 [00:00<?, ?it/s]"
     ]
    },
    {
     "name": "stdout",
     "output_type": "stream",
     "text": [
      "                  validation\n",
      " - Yaw          :   3.215535\n",
      " - Pitch        :   1.684785\n",
      " - Roll         :   2.020000\n",
      " - RMS          :   2.768634\n",
      " - 99% Tile     :  11.877935\n"
     ]
    },
    {
     "name": "stderr",
     "output_type": "stream",
     "text": [
      "[0046/0200] Train: 100%|██████████████████████████████| 44/44 [00:05<00:00,  7.45it/s, loss 12.5702]\n",
      "[0046/0200] Validation: 100%|█████████████████████| 42/42 [00:02<00:00, 16.21it/s, val_loss 13.8791]\n",
      "[0047/0200] Train:   0%|                                                     | 0/44 [00:00<?, ?it/s]"
     ]
    },
    {
     "name": "stdout",
     "output_type": "stream",
     "text": [
      "val_loss is not improved for 1 epochs\n",
      "                  validation\n",
      " - Yaw          :   3.604649\n",
      " - Pitch        :   1.694863\n",
      " - Roll         :   1.887684\n",
      " - RMS          :   2.898904\n",
      " - 99% Tile     :  12.571699\n"
     ]
    },
    {
     "name": "stderr",
     "output_type": "stream",
     "text": [
      "[0047/0200] Train: 100%|██████████████████████████████| 44/44 [00:06<00:00,  6.77it/s, loss 12.2089]\n",
      "[0047/0200] Validation: 100%|█████████████████████| 42/42 [00:03<00:00, 13.64it/s, val_loss 12.4259]\n",
      "[0048/0200] Train:   0%|                                                     | 0/44 [00:00<?, ?it/s]"
     ]
    },
    {
     "name": "stdout",
     "output_type": "stream",
     "text": [
      "                  validation\n",
      " - Yaw          :   3.137157\n",
      " - Pitch        :   1.724717\n",
      " - Roll         :   1.808141\n",
      " - RMS          :   2.664339\n",
      " - 99% Tile     :  12.155562\n"
     ]
    },
    {
     "name": "stderr",
     "output_type": "stream",
     "text": [
      "[0048/0200] Train: 100%|██████████████████████████████| 44/44 [00:06<00:00,  6.97it/s, loss 12.0567]\n",
      "[0048/0200] Validation: 100%|█████████████████████| 42/42 [00:02<00:00, 16.90it/s, val_loss 13.3374]\n",
      "[0049/0200] Train:   0%|                                                     | 0/44 [00:00<?, ?it/s]"
     ]
    },
    {
     "name": "stdout",
     "output_type": "stream",
     "text": [
      "val_loss is not improved for 1 epochs\n",
      "                  validation\n",
      " - Yaw          :   3.423257\n",
      " - Pitch        :   1.743693\n",
      " - Roll         :   1.849195\n",
      " - RMS          :   2.818749\n",
      " - 99% Tile     :  12.554712\n"
     ]
    },
    {
     "name": "stderr",
     "output_type": "stream",
     "text": [
      "[0049/0200] Train: 100%|██████████████████████████████| 44/44 [00:06<00:00,  7.31it/s, loss 11.6327]\n",
      "[0049/0200] Validation: 100%|█████████████████████| 42/42 [00:02<00:00, 15.02it/s, val_loss 12.5086]\n",
      "[0050/0200] Train:   0%|                                                     | 0/44 [00:00<?, ?it/s]"
     ]
    },
    {
     "name": "stdout",
     "output_type": "stream",
     "text": [
      "val_loss is not improved for 2 epochs\n",
      "                  validation\n",
      " - Yaw          :   3.094603\n",
      " - Pitch        :   1.816508\n",
      " - Roll         :   1.722727\n",
      " - RMS          :   2.648353\n",
      " - 99% Tile     :  12.335420\n"
     ]
    },
    {
     "name": "stderr",
     "output_type": "stream",
     "text": [
      "[0050/0200] Train: 100%|██████████████████████████████| 44/44 [00:05<00:00,  7.93it/s, loss 11.7230]\n",
      "[0050/0200] Validation: 100%|█████████████████████| 42/42 [00:02<00:00, 14.22it/s, val_loss 13.3936]\n",
      "[0051/0200] Train:   0%|                                                     | 0/44 [00:00<?, ?it/s]"
     ]
    },
    {
     "name": "stdout",
     "output_type": "stream",
     "text": [
      "Decaying lr from 0.0005 to 0.00025 because val_loss did not improved for 3 epochs\n",
      "val_loss is not improved for 3 epochs\n",
      "                  validation\n",
      " - Yaw          :   3.447092\n",
      " - Pitch        :   1.733255\n",
      " - Roll         :   1.709734\n",
      " - RMS          :   2.766026\n",
      " - 99% Tile     :  12.705462\n"
     ]
    },
    {
     "name": "stderr",
     "output_type": "stream",
     "text": [
      "[0051/0200] Train: 100%|██████████████████████████████| 44/44 [00:05<00:00,  8.29it/s, loss 11.7370]\n",
      "[0051/0200] Validation: 100%|█████████████████████| 42/42 [00:03<00:00, 12.47it/s, val_loss 11.6804]\n",
      "[0052/0200] Train:   0%|                                                     | 0/44 [00:00<?, ?it/s]"
     ]
    },
    {
     "name": "stdout",
     "output_type": "stream",
     "text": [
      "                  validation\n",
      " - Yaw          :   3.068617\n",
      " - Pitch        :   1.630920\n",
      " - Roll         :   1.676374\n",
      " - RMS          :   2.563511\n",
      " - 99% Tile     :  11.689527\n"
     ]
    },
    {
     "name": "stderr",
     "output_type": "stream",
     "text": [
      "[0052/0200] Train: 100%|██████████████████████████████| 44/44 [00:06<00:00,  7.24it/s, loss 11.0895]\n",
      "[0052/0200] Validation: 100%|█████████████████████| 42/42 [00:02<00:00, 14.21it/s, val_loss 12.0366]\n",
      "[0053/0200] Train:   0%|                                                     | 0/44 [00:00<?, ?it/s]"
     ]
    },
    {
     "name": "stdout",
     "output_type": "stream",
     "text": [
      "val_loss is not improved for 1 epochs\n",
      "                  validation\n",
      " - Yaw          :   3.213915\n",
      " - Pitch        :   1.699538\n",
      " - Roll         :   1.610340\n",
      " - RMS          :   2.648669\n",
      " - 99% Tile     :  11.680947\n"
     ]
    },
    {
     "name": "stderr",
     "output_type": "stream",
     "text": [
      "[0053/0200] Train: 100%|██████████████████████████████| 44/44 [00:06<00:00,  6.84it/s, loss 11.2443]\n",
      "[0053/0200] Validation: 100%|█████████████████████| 42/42 [00:02<00:00, 17.48it/s, val_loss 12.0288]\n",
      "[0054/0200] Train:   0%|                                                     | 0/44 [00:00<?, ?it/s]"
     ]
    },
    {
     "name": "stdout",
     "output_type": "stream",
     "text": [
      "val_loss is not improved for 2 epochs\n",
      "                  validation\n",
      " - Yaw          :   3.248163\n",
      " - Pitch        :   1.718355\n",
      " - Roll         :   1.548795\n",
      " - RMS          :   2.637590\n",
      " - 99% Tile     :  11.714438\n"
     ]
    },
    {
     "name": "stderr",
     "output_type": "stream",
     "text": [
      "[0054/0200] Train: 100%|██████████████████████████████| 44/44 [00:05<00:00,  7.77it/s, loss 10.4174]\n",
      "[0054/0200] Validation: 100%|█████████████████████| 42/42 [00:03<00:00, 12.20it/s, val_loss 11.9359]\n",
      "[0055/0200] Train:   0%|                                                     | 0/44 [00:00<?, ?it/s]"
     ]
    },
    {
     "name": "stdout",
     "output_type": "stream",
     "text": [
      "Decaying lr from 0.00025 to 0.000125 because val_loss did not improved for 3 epochs\n",
      "val_loss is not improved for 3 epochs\n",
      "                  validation\n",
      " - Yaw          :   3.087286\n",
      " - Pitch        :   1.735253\n",
      " - Roll         :   1.649213\n",
      " - RMS          :   2.602760\n",
      " - 99% Tile     :  11.736324\n"
     ]
    },
    {
     "name": "stderr",
     "output_type": "stream",
     "text": [
      "[0055/0200] Train: 100%|███████████████████████████████| 44/44 [00:05<00:00,  7.51it/s, loss 9.9994]\n",
      "[0055/0200] Validation: 100%|█████████████████████| 42/42 [00:02<00:00, 15.28it/s, val_loss 11.7495]\n",
      "[0056/0200] Train:   0%|                                                     | 0/44 [00:00<?, ?it/s]"
     ]
    },
    {
     "name": "stdout",
     "output_type": "stream",
     "text": [
      "val_loss is not improved for 4 epochs\n",
      "                  validation\n",
      " - Yaw          :   3.075028\n",
      " - Pitch        :   1.630943\n",
      " - Roll         :   1.575388\n",
      " - RMS          :   2.538397\n",
      " - 99% Tile     :  12.166487\n"
     ]
    },
    {
     "name": "stderr",
     "output_type": "stream",
     "text": [
      "[0056/0200] Train: 100%|███████████████████████████████| 44/44 [00:05<00:00,  7.76it/s, loss 9.8902]\n",
      "[0056/0200] Validation: 100%|█████████████████████| 42/42 [00:03<00:00, 10.85it/s, val_loss 11.4541]\n",
      "[0057/0200] Train:   0%|                                                     | 0/44 [00:00<?, ?it/s]"
     ]
    },
    {
     "name": "stdout",
     "output_type": "stream",
     "text": [
      "                  validation\n",
      " - Yaw          :   2.943076\n",
      " - Pitch        :   1.608889\n",
      " - Roll         :   1.556597\n",
      " - RMS          :   2.472825\n",
      " - 99% Tile     :  11.960432\n"
     ]
    },
    {
     "name": "stderr",
     "output_type": "stream",
     "text": [
      "[0057/0200] Train: 100%|██████████████████████████████| 44/44 [00:05<00:00,  7.75it/s, loss 10.0963]\n",
      "[0057/0200] Validation: 100%|█████████████████████| 42/42 [00:02<00:00, 16.16it/s, val_loss 11.5023]\n",
      "[0058/0200] Train:   0%|                                                     | 0/44 [00:00<?, ?it/s]"
     ]
    },
    {
     "name": "stdout",
     "output_type": "stream",
     "text": [
      "val_loss is not improved for 1 epochs\n",
      "                  validation\n",
      " - Yaw          :   2.991037\n",
      " - Pitch        :   1.594356\n",
      " - Roll         :   1.545420\n",
      " - RMS          :   2.482992\n",
      " - 99% Tile     :  11.900282\n"
     ]
    },
    {
     "name": "stderr",
     "output_type": "stream",
     "text": [
      "[0058/0200] Train: 100%|███████████████████████████████| 44/44 [00:06<00:00,  6.32it/s, loss 9.7351]\n",
      "[0058/0200] Validation: 100%|█████████████████████| 42/42 [00:02<00:00, 14.65it/s, val_loss 11.4017]\n",
      "[0059/0200] Train:   0%|                                                     | 0/44 [00:00<?, ?it/s]"
     ]
    },
    {
     "name": "stdout",
     "output_type": "stream",
     "text": [
      "                  validation\n",
      " - Yaw          :   2.952728\n",
      " - Pitch        :   1.621228\n",
      " - Roll         :   1.525721\n",
      " - RMS          :   2.465357\n",
      " - 99% Tile     :  11.925460\n"
     ]
    },
    {
     "name": "stderr",
     "output_type": "stream",
     "text": [
      "[0059/0200] Train: 100%|██████████████████████████████| 44/44 [00:05<00:00,  7.59it/s, loss 10.0085]\n",
      "[0059/0200] Validation: 100%|█████████████████████| 42/42 [00:03<00:00, 13.64it/s, val_loss 11.4181]\n",
      "[0060/0200] Train:   0%|                                                     | 0/44 [00:00<?, ?it/s]"
     ]
    },
    {
     "name": "stdout",
     "output_type": "stream",
     "text": [
      "val_loss is not improved for 1 epochs\n",
      "                  validation\n",
      " - Yaw          :   3.024701\n",
      " - Pitch        :   1.622537\n",
      " - Roll         :   1.496768\n",
      " - RMS          :   2.485432\n",
      " - 99% Tile     :  11.856021\n"
     ]
    },
    {
     "name": "stderr",
     "output_type": "stream",
     "text": [
      "[0060/0200] Train: 100%|███████████████████████████████| 44/44 [00:05<00:00,  7.42it/s, loss 9.6090]\n",
      "[0060/0200] Validation: 100%|█████████████████████| 42/42 [00:02<00:00, 17.40it/s, val_loss 11.5258]\n",
      "[0061/0200] Train:   0%|                                                     | 0/44 [00:00<?, ?it/s]"
     ]
    },
    {
     "name": "stdout",
     "output_type": "stream",
     "text": [
      "val_loss is not improved for 2 epochs\n",
      "                  validation\n",
      " - Yaw          :   3.000077\n",
      " - Pitch        :   1.649556\n",
      " - Roll         :   1.498542\n",
      " - RMS          :   2.483184\n",
      " - 99% Tile     :  11.670283\n"
     ]
    },
    {
     "name": "stderr",
     "output_type": "stream",
     "text": [
      "[0061/0200] Train: 100%|███████████████████████████████| 44/44 [00:05<00:00,  8.09it/s, loss 9.6841]\n",
      "[0061/0200] Validation: 100%|█████████████████████| 42/42 [00:03<00:00, 12.86it/s, val_loss 11.4884]\n",
      "[0062/0200] Train:   0%|                                                     | 0/44 [00:00<?, ?it/s]"
     ]
    },
    {
     "name": "stdout",
     "output_type": "stream",
     "text": [
      "Decaying lr from 0.000125 to 6.25e-05 because val_loss did not improved for 3 epochs\n",
      "val_loss is not improved for 3 epochs\n",
      "                  validation\n",
      " - Yaw          :   3.019394\n",
      " - Pitch        :   1.572191\n",
      " - Roll         :   1.511306\n",
      " - RMS          :   2.472378\n",
      " - 99% Tile     :  11.911084\n"
     ]
    },
    {
     "name": "stderr",
     "output_type": "stream",
     "text": [
      "[0062/0200] Train: 100%|███████████████████████████████| 44/44 [00:05<00:00,  8.02it/s, loss 9.4040]\n",
      "[0062/0200] Validation: 100%|█████████████████████| 42/42 [00:02<00:00, 18.24it/s, val_loss 11.5022]\n",
      "[0063/0200] Train:   0%|                                                     | 0/44 [00:00<?, ?it/s]"
     ]
    },
    {
     "name": "stdout",
     "output_type": "stream",
     "text": [
      "val_loss is not improved for 4 epochs\n",
      "                  validation\n",
      " - Yaw          :   2.990127\n",
      " - Pitch        :   1.624033\n",
      " - Roll         :   1.486623\n",
      " - RMS          :   2.464899\n",
      " - 99% Tile     :  12.030920\n"
     ]
    },
    {
     "name": "stderr",
     "output_type": "stream",
     "text": [
      "[0063/0200] Train: 100%|███████████████████████████████| 44/44 [00:06<00:00,  6.96it/s, loss 9.4046]\n",
      "[0063/0200] Validation: 100%|█████████████████████| 42/42 [00:02<00:00, 15.10it/s, val_loss 11.3044]\n",
      "[0064/0200] Train:   0%|                                                     | 0/44 [00:00<?, ?it/s]"
     ]
    },
    {
     "name": "stdout",
     "output_type": "stream",
     "text": [
      "                  validation\n",
      " - Yaw          :   2.964229\n",
      " - Pitch        :   1.596316\n",
      " - Roll         :   1.482610\n",
      " - RMS          :   2.446589\n",
      " - 99% Tile     :  11.701510\n"
     ]
    },
    {
     "name": "stderr",
     "output_type": "stream",
     "text": [
      "[0064/0200] Train: 100%|███████████████████████████████| 44/44 [00:05<00:00,  8.13it/s, loss 9.3699]\n",
      "[0064/0200] Validation: 100%|█████████████████████| 42/42 [00:02<00:00, 16.23it/s, val_loss 11.3368]\n",
      "[0065/0200] Train:   0%|                                                     | 0/44 [00:00<?, ?it/s]"
     ]
    },
    {
     "name": "stdout",
     "output_type": "stream",
     "text": [
      "val_loss is not improved for 1 epochs\n",
      "                  validation\n",
      " - Yaw          :   2.994493\n",
      " - Pitch        :   1.607177\n",
      " - Roll         :   1.473460\n",
      " - RMS          :   2.462142\n",
      " - 99% Tile     :  11.793215\n"
     ]
    },
    {
     "name": "stderr",
     "output_type": "stream",
     "text": [
      "[0065/0200] Train: 100%|███████████████████████████████| 44/44 [00:06<00:00,  7.31it/s, loss 9.3731]\n",
      "[0065/0200] Validation: 100%|█████████████████████| 42/42 [00:03<00:00, 13.42it/s, val_loss 11.5684]\n",
      "[0066/0200] Train:   0%|                                                     | 0/44 [00:00<?, ?it/s]"
     ]
    },
    {
     "name": "stdout",
     "output_type": "stream",
     "text": [
      "val_loss is not improved for 2 epochs\n",
      "                  validation\n",
      " - Yaw          :   3.073767\n",
      " - Pitch        :   1.627589\n",
      " - Roll         :   1.465483\n",
      " - RMS          :   2.501383\n",
      " - 99% Tile     :  11.917332\n"
     ]
    },
    {
     "name": "stderr",
     "output_type": "stream",
     "text": [
      "[0066/0200] Train: 100%|███████████████████████████████| 44/44 [00:05<00:00,  7.51it/s, loss 9.2652]\n",
      "[0066/0200] Validation: 100%|█████████████████████| 42/42 [00:02<00:00, 14.02it/s, val_loss 11.4184]\n",
      "[0067/0200] Train:   0%|                                                     | 0/44 [00:00<?, ?it/s]"
     ]
    },
    {
     "name": "stdout",
     "output_type": "stream",
     "text": [
      "Decaying lr from 6.25e-05 to 3.125e-05 because val_loss did not improved for 3 epochs\n",
      "val_loss is not improved for 3 epochs\n",
      "                  validation\n",
      " - Yaw          :   3.027966\n",
      " - Pitch        :   1.585216\n",
      " - Roll         :   1.456789\n",
      " - RMS          :   2.463193\n",
      " - 99% Tile     :  11.881115\n"
     ]
    },
    {
     "name": "stderr",
     "output_type": "stream",
     "text": [
      "[0067/0200] Train: 100%|███████████████████████████████| 44/44 [00:05<00:00,  7.55it/s, loss 9.1247]\n",
      "[0067/0200] Validation: 100%|█████████████████████| 42/42 [00:02<00:00, 14.05it/s, val_loss 11.4025]\n",
      "[0068/0200] Train:   0%|                                                     | 0/44 [00:00<?, ?it/s]"
     ]
    },
    {
     "name": "stdout",
     "output_type": "stream",
     "text": [
      "val_loss is not improved for 4 epochs\n",
      "                  validation\n",
      " - Yaw          :   2.979056\n",
      " - Pitch        :   1.614098\n",
      " - Roll         :   1.453159\n",
      " - RMS          :   2.452982\n",
      " - 99% Tile     :  11.993554\n"
     ]
    },
    {
     "name": "stderr",
     "output_type": "stream",
     "text": [
      "[0068/0200] Train: 100%|███████████████████████████████| 44/44 [00:06<00:00,  7.21it/s, loss 9.2859]\n",
      "[0068/0200] Validation: 100%|█████████████████████| 42/42 [00:03<00:00, 11.53it/s, val_loss 11.3455]\n",
      "[0069/0200] Train:   0%|                                                     | 0/44 [00:00<?, ?it/s]"
     ]
    },
    {
     "name": "stdout",
     "output_type": "stream",
     "text": [
      "val_loss is not improved for 5 epochs\n",
      "                  validation\n",
      " - Yaw          :   2.974753\n",
      " - Pitch        :   1.586765\n",
      " - Roll         :   1.459198\n",
      " - RMS          :   2.444476\n",
      " - 99% Tile     :  11.916632\n"
     ]
    },
    {
     "name": "stderr",
     "output_type": "stream",
     "text": [
      "[0069/0200] Train: 100%|███████████████████████████████| 44/44 [00:05<00:00,  8.02it/s, loss 8.9739]\n",
      "[0069/0200] Validation: 100%|█████████████████████| 42/42 [00:02<00:00, 16.23it/s, val_loss 11.4118]\n",
      "[0070/0200] Train:   0%|                                                     | 0/44 [00:00<?, ?it/s]"
     ]
    },
    {
     "name": "stdout",
     "output_type": "stream",
     "text": [
      "Decaying lr from 3.125e-05 to 1.5625e-05 because val_loss did not improved for 3 epochs\n",
      "val_loss is not improved for 6 epochs\n",
      "                  validation\n",
      " - Yaw          :   2.980783\n",
      " - Pitch        :   1.562268\n",
      " - Roll         :   1.462136\n",
      " - RMS          :   2.442398\n",
      " - 99% Tile     :  11.865926\n"
     ]
    },
    {
     "name": "stderr",
     "output_type": "stream",
     "text": [
      "[0070/0200] Train: 100%|███████████████████████████████| 44/44 [00:06<00:00,  6.73it/s, loss 9.1125]\n",
      "[0070/0200] Validation: 100%|█████████████████████| 42/42 [00:02<00:00, 16.57it/s, val_loss 11.4242]\n",
      "[0071/0200] Train:   0%|                                                     | 0/44 [00:00<?, ?it/s]"
     ]
    },
    {
     "name": "stdout",
     "output_type": "stream",
     "text": [
      "val_loss is not improved for 7 epochs\n",
      "                  validation\n",
      " - Yaw          :   2.977940\n",
      " - Pitch        :   1.601911\n",
      " - Roll         :   1.452105\n",
      " - RMS          :   2.447047\n",
      " - 99% Tile     :  11.965997\n"
     ]
    },
    {
     "name": "stderr",
     "output_type": "stream",
     "text": [
      "[0071/0200] Train: 100%|███████████████████████████████| 44/44 [00:05<00:00,  7.76it/s, loss 8.9997]\n",
      "[0071/0200] Validation: 100%|█████████████████████| 42/42 [00:02<00:00, 16.42it/s, val_loss 11.4045]\n",
      "[0072/0200] Train:   0%|                                                     | 0/44 [00:00<?, ?it/s]"
     ]
    },
    {
     "name": "stdout",
     "output_type": "stream",
     "text": [
      "val_loss is not improved for 8 epochs\n",
      "                  validation\n",
      " - Yaw          :   2.983364\n",
      " - Pitch        :   1.570852\n",
      " - Roll         :   1.457597\n",
      " - RMS          :   2.441829\n",
      " - 99% Tile     :  11.858273\n"
     ]
    },
    {
     "name": "stderr",
     "output_type": "stream",
     "text": [
      "[0072/0200] Train: 100%|███████████████████████████████| 44/44 [00:05<00:00,  8.34it/s, loss 9.0426]\n",
      "[0072/0200] Validation: 100%|█████████████████████| 42/42 [00:04<00:00, 10.28it/s, val_loss 11.4422]\n",
      "[0073/0200] Train:   0%|                                                     | 0/44 [00:00<?, ?it/s]"
     ]
    },
    {
     "name": "stdout",
     "output_type": "stream",
     "text": [
      "Decaying lr from 1.5625e-05 to 7.8125e-06 because val_loss did not improved for 3 epochs\n",
      "val_loss is not improved for 9 epochs\n",
      "                  validation\n",
      " - Yaw          :   2.988794\n",
      " - Pitch        :   1.566211\n",
      " - Roll         :   1.461188\n",
      " - RMS          :   2.446081\n",
      " - 99% Tile     :  11.898474\n"
     ]
    },
    {
     "name": "stderr",
     "output_type": "stream",
     "text": [
      "[0073/0200] Train: 100%|███████████████████████████████| 44/44 [00:05<00:00,  7.54it/s, loss 9.1649]\n",
      "[0073/0200] Validation: 100%|█████████████████████| 42/42 [00:02<00:00, 14.56it/s, val_loss 11.4268]"
     ]
    },
    {
     "name": "stdout",
     "output_type": "stream",
     "text": [
      "val_loss is not improved for 10 epochs\n",
      "Stop training because val_loss did not improved for 10 epochs\n",
      "                  validation\n",
      " - Yaw          :   3.022131\n",
      " - Pitch        :   1.588767\n",
      " - Roll         :   1.448218\n",
      " - RMS          :   2.457169\n",
      " - 99% Tile     :  11.818211\n"
     ]
    },
    {
     "name": "stderr",
     "output_type": "stream",
     "text": [
      "\n"
     ]
    }
   ],
   "source": [
    "trainer.fit(ds_train, ds_test, num_epochs=200, batch_size=256, shuffle=True, pin_memory=True)"
   ]
  },
  {
   "cell_type": "code",
   "execution_count": null,
   "metadata": {},
   "outputs": [],
   "source": []
  }
 ],
 "metadata": {
  "kernelspec": {
   "display_name": "torch",
   "language": "python",
   "name": "torch"
  },
  "language_info": {
   "codemirror_mode": {
    "name": "ipython",
    "version": 3
   },
   "file_extension": ".py",
   "mimetype": "text/x-python",
   "name": "python",
   "nbconvert_exporter": "python",
   "pygments_lexer": "ipython3",
   "version": "3.7.9"
  }
 },
 "nbformat": 4,
 "nbformat_minor": 4
}
