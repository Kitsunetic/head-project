{
 "cells": [
  {
   "cell_type": "markdown",
   "metadata": {},
   "source": [
    "# 머릿말\n",
    "\n",
    "각각의 user / scene별로 별도의 csv파일로 저장하는걸 목적\n",
    "\n",
    "user7-scene1 같은 경우는 둘로 나눠지기 때문에, 파일 두 개를 만든다.\n",
    "user-scene-index 순서"
   ]
  },
  {
   "cell_type": "code",
   "execution_count": 1,
   "metadata": {},
   "outputs": [],
   "source": [
    "from collections import defaultdict\n",
    "import numpy as np\n",
    "import matplotlib.pyplot as plt\n",
    "from math import pi\n",
    "import pandas as pd"
   ]
  },
  {
   "cell_type": "code",
   "execution_count": 2,
   "metadata": {},
   "outputs": [],
   "source": [
    "ds_split = {\n",
    "    11: [(2000, 11000), (12000, 21000)],\n",
    "    12: [(2000, 5000 ), (6000 , 10000)],\n",
    "    13: [(2000, 10000), (11000, 18000)],\n",
    "    21: [(2000, 11000), (12000, 20000)],\n",
    "    22: [(2000, 6000 ), (7000 , 11000)],\n",
    "    23: [(2000, 11000), (12000, 20000)],\n",
    "    31: [(2000, 11000), (12000, 20000)],\n",
    "    32: [(2000, 5000 ), (6000 , 11000)],\n",
    "    33: [(2000, 10000), (11000, 19000)],\n",
    "    41: [(2000, 10000), (11000, 19000)],\n",
    "    42: [(2000, 6000 ), (7000 , 10000)],\n",
    "    43: [(2000, 10000), (11000, 19000)],\n",
    "    51: [(2000, 11000), (12000, 20000)],\n",
    "    52: [(2000, 6000 ), (7000 , 10000)],\n",
    "    53: [(2000, 10000), (11000, 19000)],\n",
    "    61: [(2000, 9000 ), (10000, 17000)],\n",
    "    62: [(2000, 11000), (12000, 20000)],\n",
    "    63: [(2000, 10000), (11000, 19000)],\n",
    "    71: [(2000, 7000 ), (9000 , 19000)],\n",
    "    72: [(2000, 9000 ), (10000, 17000)],\n",
    "    73: [(2000, 10000), (11000, 19000)]\n",
    "}"
   ]
  },
  {
   "cell_type": "markdown",
   "metadata": {},
   "source": [
    "### 각각의 User/Scene별로 데이터가 몇개씩 있는지\n",
    "\n",
    "생각외로 고르게 분포되어있음"
   ]
  },
  {
   "cell_type": "code",
   "execution_count": 3,
   "metadata": {},
   "outputs": [],
   "source": [
    "users_train, users_test = defaultdict(int), defaultdict(int)\n",
    "scenes_train, scenes_test = defaultdict(int), defaultdict(int)"
   ]
  },
  {
   "cell_type": "code",
   "execution_count": 4,
   "metadata": {},
   "outputs": [],
   "source": [
    "for key in ds_split.keys():\n",
    "    user = key // 10\n",
    "    scene = key % 10\n",
    "    \n",
    "    s, t = ds_split[key][0]\n",
    "    users_train[user] += t - s\n",
    "    scenes_train[scene] += t - s\n",
    "    \n",
    "    s, t = ds_split[key][1]\n",
    "    users_test[user] += t - s\n",
    "    scenes_test[scene] += t - s"
   ]
  },
  {
   "cell_type": "code",
   "execution_count": 5,
   "metadata": {},
   "outputs": [
    {
     "data": {
      "text/plain": [
       "(defaultdict(int,\n",
       "             {1: 20000,\n",
       "              2: 22000,\n",
       "              3: 20000,\n",
       "              4: 20000,\n",
       "              5: 21000,\n",
       "              6: 24000,\n",
       "              7: 20000}),\n",
       " defaultdict(int,\n",
       "             {1: 20000,\n",
       "              2: 20000,\n",
       "              3: 21000,\n",
       "              4: 19000,\n",
       "              5: 19000,\n",
       "              6: 23000,\n",
       "              7: 25000}))"
      ]
     },
     "execution_count": 5,
     "metadata": {},
     "output_type": "execute_result"
    }
   ],
   "source": [
    "users_train, users_test"
   ]
  },
  {
   "cell_type": "code",
   "execution_count": 6,
   "metadata": {},
   "outputs": [
    {
     "data": {
      "text/plain": [
       "(defaultdict(int, {1: 56000, 2: 34000, 3: 57000}),\n",
       " defaultdict(int, {1: 58000, 2: 34000, 3: 55000}))"
      ]
     },
     "execution_count": 6,
     "metadata": {},
     "output_type": "execute_result"
    }
   ],
   "source": [
    "scenes_train, scenes_test"
   ]
  },
  {
   "cell_type": "markdown",
   "metadata": {},
   "source": [
    "## 데이터 생성"
   ]
  },
  {
   "cell_type": "code",
   "execution_count": 12,
   "metadata": {},
   "outputs": [],
   "source": [
    "COLUMNS = ['timestamp', 'acceleration_x', 'acceleration_y', 'acceleration_z', \n",
    "           'input_orientation_yaw', 'input_orientation_pitch', 'input_orientation_roll',\n",
    "           'input_orientation_x', 'input_orientation_y', 'input_orientation_z', 'input_orientation_w',\n",
    "           'magnetic_x', 'magnetic_y', 'magnetic_z',\n",
    "           'angular_vec_x', 'angular_vec_y', 'angular_vec_z']"
   ]
  },
  {
   "cell_type": "code",
   "execution_count": 13,
   "metadata": {},
   "outputs": [
    {
     "name": "stdout",
     "output_type": "stream",
     "text": [
      "mkdir: cannot create directory ‘data/1220’: File exists\n"
     ]
    }
   ],
   "source": [
    "mkdir data/1220"
   ]
  },
  {
   "cell_type": "code",
   "execution_count": 14,
   "metadata": {},
   "outputs": [
    {
     "ename": "AttributeError",
     "evalue": "'DataFrame' object has no attribute 'timestamp'",
     "output_type": "error",
     "traceback": [
      "\u001b[0;31m---------------------------------------------------------------------------\u001b[0m",
      "\u001b[0;31mAttributeError\u001b[0m                            Traceback (most recent call last)",
      "\u001b[0;32m<ipython-input-14-4ef1df39ab08>\u001b[0m in \u001b[0;36m<module>\u001b[0;34m\u001b[0m\n\u001b[1;32m     10\u001b[0m \u001b[0;34m\u001b[0m\u001b[0m\n\u001b[1;32m     11\u001b[0m     \u001b[0;31m# timestamp flick ==> sec\u001b[0m\u001b[0;34m\u001b[0m\u001b[0;34m\u001b[0m\u001b[0;34m\u001b[0m\u001b[0m\n\u001b[0;32m---> 12\u001b[0;31m     \u001b[0mcsv\u001b[0m\u001b[0;34m.\u001b[0m\u001b[0mtimestamp\u001b[0m \u001b[0;34m=\u001b[0m \u001b[0;34m(\u001b[0m\u001b[0mcsv\u001b[0m\u001b[0;34m.\u001b[0m\u001b[0mtimestamp\u001b[0m \u001b[0;34m-\u001b[0m \u001b[0mcsv\u001b[0m\u001b[0;34m.\u001b[0m\u001b[0mtimestamp\u001b[0m\u001b[0;34m[\u001b[0m\u001b[0;36m2000\u001b[0m\u001b[0;34m]\u001b[0m\u001b[0;34m)\u001b[0m \u001b[0;34m/\u001b[0m \u001b[0;36m705600000\u001b[0m\u001b[0;34m\u001b[0m\u001b[0;34m\u001b[0m\u001b[0m\n\u001b[0m\u001b[1;32m     13\u001b[0m \u001b[0;34m\u001b[0m\u001b[0m\n\u001b[1;32m     14\u001b[0m     \u001b[0;31m# yaw, pitch, roll radian ==> degree\u001b[0m\u001b[0;34m\u001b[0m\u001b[0;34m\u001b[0m\u001b[0;34m\u001b[0m\u001b[0m\n",
      "\u001b[0;32m~/anaconda3/envs/torch/lib/python3.7/site-packages/pandas/core/generic.py\u001b[0m in \u001b[0;36m__getattr__\u001b[0;34m(self, name)\u001b[0m\n\u001b[1;32m   5137\u001b[0m             \u001b[0;32mif\u001b[0m \u001b[0mself\u001b[0m\u001b[0;34m.\u001b[0m\u001b[0m_info_axis\u001b[0m\u001b[0;34m.\u001b[0m\u001b[0m_can_hold_identifiers_and_holds_name\u001b[0m\u001b[0;34m(\u001b[0m\u001b[0mname\u001b[0m\u001b[0;34m)\u001b[0m\u001b[0;34m:\u001b[0m\u001b[0;34m\u001b[0m\u001b[0;34m\u001b[0m\u001b[0m\n\u001b[1;32m   5138\u001b[0m                 \u001b[0;32mreturn\u001b[0m \u001b[0mself\u001b[0m\u001b[0;34m[\u001b[0m\u001b[0mname\u001b[0m\u001b[0;34m]\u001b[0m\u001b[0;34m\u001b[0m\u001b[0;34m\u001b[0m\u001b[0m\n\u001b[0;32m-> 5139\u001b[0;31m             \u001b[0;32mreturn\u001b[0m \u001b[0mobject\u001b[0m\u001b[0;34m.\u001b[0m\u001b[0m__getattribute__\u001b[0m\u001b[0;34m(\u001b[0m\u001b[0mself\u001b[0m\u001b[0;34m,\u001b[0m \u001b[0mname\u001b[0m\u001b[0;34m)\u001b[0m\u001b[0;34m\u001b[0m\u001b[0;34m\u001b[0m\u001b[0m\n\u001b[0m\u001b[1;32m   5140\u001b[0m \u001b[0;34m\u001b[0m\u001b[0m\n\u001b[1;32m   5141\u001b[0m     \u001b[0;32mdef\u001b[0m \u001b[0m__setattr__\u001b[0m\u001b[0;34m(\u001b[0m\u001b[0mself\u001b[0m\u001b[0;34m,\u001b[0m \u001b[0mname\u001b[0m\u001b[0;34m:\u001b[0m \u001b[0mstr\u001b[0m\u001b[0;34m,\u001b[0m \u001b[0mvalue\u001b[0m\u001b[0;34m)\u001b[0m \u001b[0;34m->\u001b[0m \u001b[0;32mNone\u001b[0m\u001b[0;34m:\u001b[0m\u001b[0;34m\u001b[0m\u001b[0;34m\u001b[0m\u001b[0m\n",
      "\u001b[0;31mAttributeError\u001b[0m: 'DataFrame' object has no attribute 'timestamp'"
     ]
    }
   ],
   "source": [
    "all_len, all_yaw, all_pitch, all_roll, all_x, all_y, all_z = 0, 0, 0, 0, 0, 0, 0\n",
    "\n",
    "for key in ds_split.keys():\n",
    "    user = key // 10\n",
    "    scene = key % 10\n",
    "    csv_fname = f'data/org/motion_data_user{user}_scene{scene}.csv'\n",
    "    csv = pd.read_csv(csv_fname)\n",
    "    \n",
    "    csv = csv[COLUMNS]\n",
    "    \n",
    "    # timestamp flick ==> sec\n",
    "    csv.timestamp = (csv.timestamp - csv.timestamp[2000]) / 705600000\n",
    "    \n",
    "    # yaw, pitch, roll radian ==> degree\n",
    "    csv.input_orientation_yaw *= 180 / pi\n",
    "    csv.input_orientation_pitch *= 180 / pi\n",
    "    csv.input_orientation_roll *= 180 / pi\n",
    "    csv.angular_vec_x *= 180 / pi\n",
    "    csv.angular_vec_y *= 180 / pi\n",
    "    csv.angular_vec_z *= 180 / pi\n",
    "    csv.input_orientation_x *= 180 / pi\n",
    "    csv.input_orientation_y *= 180 / pi\n",
    "    csv.input_orientation_z *= 180 / pi\n",
    "    csv.input_orientation_w *= 180 / pi\n",
    "    \n",
    "    T = csv.timestamp\n",
    "    dT = T[:-1].to_numpy() - T[1:].to_numpy()\n",
    "    dT = np.insert(dT, 0, dT[0])\n",
    "    \n",
    "    for i, (S, T) in enumerate(ds_split[key]):\n",
    "        dsv_fname = f'data/1220/user{user}_scene{scene}_{i}.csv'\n",
    "        print(dsv_fname)\n",
    "        dsv = csv.iloc[S:T]\n",
    "        dsv.to_csv(dsv_fname, index=False)"
   ]
  },
  {
   "cell_type": "code",
   "execution_count": null,
   "metadata": {},
   "outputs": [],
   "source": []
  }
 ],
 "metadata": {
  "kernelspec": {
   "display_name": "torch",
   "language": "python",
   "name": "torch"
  },
  "language_info": {
   "codemirror_mode": {
    "name": "ipython",
    "version": 3
   },
   "file_extension": ".py",
   "mimetype": "text/x-python",
   "name": "python",
   "nbconvert_exporter": "python",
   "pygments_lexer": "ipython3",
   "version": "3.7.9"
  }
 },
 "nbformat": 4,
 "nbformat_minor": 4
}
