{
 "cells": [
  {
   "cell_type": "markdown",
   "metadata": {},
   "source": [
    "# 학습 방법 - Scene\n",
    "\n",
    "3개의 Scene에 대해서 각각 따로 학습\n",
    "\n",
    "user별로 학습을 하지 않는 이유는 상관관계로 보았을 때 user끼리는 달라도 scene별로는 유사점이 꽤 보였기 때문."
   ]
  },
  {
   "cell_type": "code",
   "execution_count": 2,
   "metadata": {},
   "outputs": [],
   "source": [
    "from multiprocessing import cpu_count\n",
    "from pathlib import Path\n",
    "from typing import List, Union, AnyStr\n",
    "from math import pi\n",
    "import pickle\n",
    "\n",
    "import numpy as np\n",
    "import torch\n",
    "import matplotlib.pyplot as plt\n",
    "import torch.nn as nn\n",
    "from sklearn import model_selection\n",
    "from tqdm import tqdm\n",
    "import torch_optimizer\n",
    "from torch.utils.data import Dataset\n",
    "import pandas as pd\n",
    "import random\n",
    "\n",
    "import torch_burn as tb\n",
    "import utils"
   ]
  },
  {
   "cell_type": "code",
   "execution_count": 3,
   "metadata": {},
   "outputs": [],
   "source": [
    "EXPERIMENT_NAME = 'Scene3-LSTM[SmallWindow]'\n",
    "CHECKPOINT_DIR = Path('checkpoint', EXPERIMENT_NAME)\n",
    "CHECKPOINT_DIR.mkdir(parents=True, exist_ok=True)\n",
    "\n",
    "DATA_DIR = Path('data/1116')\n",
    "TRAIN_FILES = sorted(list(DATA_DIR.glob('*scene3_0.csv')))\n",
    "TEST_FILES = sorted(list(DATA_DIR.glob('*scene3_1.csv')))"
   ]
  },
  {
   "cell_type": "markdown",
   "metadata": {},
   "source": [
    "# 데이터셋 생성\n",
    "\n",
    "scene1에 대해서 모든 user의 데이터를 하나로 합친다."
   ]
  },
  {
   "cell_type": "code",
   "execution_count": 5,
   "metadata": {},
   "outputs": [],
   "source": [
    "WINDOW_SIZE = 48"
   ]
  },
  {
   "cell_type": "code",
   "execution_count": 6,
   "metadata": {},
   "outputs": [],
   "source": [
    "class CSVSequentialDataset(Dataset):\n",
    "    def __init__(self, csvfile,\n",
    "                 window_size=300, randomized_window_size=False,\n",
    "                 stride=30, randomized_stride=False):\n",
    "        super(CSVSequentialDataset, self).__init__()\n",
    "\n",
    "        self.xcols = ['input_orientation_yaw', 'input_orientation_pitch', 'input_orientation_roll',\n",
    "                      'acceleration_x', 'acceleration_y', 'acceleration_z']\n",
    "        self.ycols = ['input_orientation_yaw', 'input_orientation_pitch', 'input_orientation_roll']\n",
    "\n",
    "        self.csv = pd.read_csv(csvfile)\n",
    "        self.window_size = window_size\n",
    "\n",
    "        self.indexes = []\n",
    "        i = 0\n",
    "        while i <= len(self.csv) - window_size * 2:\n",
    "            if randomized_window_size:\n",
    "                self.indexes.append((i, i + random.randint(window_size // 2, window_size)))\n",
    "            else:\n",
    "                self.indexes.append((i, i + window_size))\n",
    "\n",
    "            if randomized_stride:\n",
    "                i += random.randint(1, stride)\n",
    "            else:\n",
    "                i += stride\n",
    "\n",
    "    def __len__(self):\n",
    "        return len(self.indexes)\n",
    "\n",
    "    def __getitem__(self, idx):\n",
    "        s, t = self.indexes[idx]\n",
    "        x = self.csv.iloc[s:t][self.xcols].to_numpy()\n",
    "        y = self.csv.iloc[t + 6][self.ycols].to_numpy()\n",
    "\n",
    "        x = torch.tensor(x, dtype=torch.float32) # 300, 6\n",
    "        y = torch.tensor(y, dtype=torch.float32) # 3\n",
    "        \n",
    "        #x[:, :3] *= pi / 180\n",
    "        x[:, 3:] /= 10\n",
    "\n",
    "        return x, y"
   ]
  },
  {
   "cell_type": "code",
   "execution_count": 7,
   "metadata": {},
   "outputs": [],
   "source": [
    "ds_train = [CSVSequentialDataset(f,  \n",
    "                                 window_size=WINDOW_SIZE, randomized_window_size=False,\n",
    "                                 stride=5, randomized_stride=True) for f in TRAIN_FILES]\n",
    "ds_train = tb.data.ChainDataset(*ds_train)\n",
    "ds_test = [CSVSequentialDataset(f,  \n",
    "                                window_size=WINDOW_SIZE, randomized_window_size=False,\n",
    "                                stride=5, randomized_stride=True) for f in TEST_FILES]\n",
    "ds_test = tb.data.ChainDataset(*ds_test)"
   ]
  },
  {
   "cell_type": "code",
   "execution_count": 8,
   "metadata": {},
   "outputs": [
    {
     "data": {
      "text/plain": [
       "(18776, 18173)"
      ]
     },
     "execution_count": 8,
     "metadata": {},
     "output_type": "execute_result"
    }
   ],
   "source": [
    "len(ds_train), len(ds_test)"
   ]
  },
  {
   "cell_type": "code",
   "execution_count": 9,
   "metadata": {},
   "outputs": [
    {
     "data": {
      "text/plain": [
       "(torch.Size([48, 6]), torch.Size([3]))"
      ]
     },
     "execution_count": 9,
     "metadata": {},
     "output_type": "execute_result"
    }
   ],
   "source": [
    "ds_train[0][0].shape, ds_train[0][1].shape"
   ]
  },
  {
   "cell_type": "code",
   "execution_count": 10,
   "metadata": {},
   "outputs": [],
   "source": [
    "x, y = ds_train[0]"
   ]
  },
  {
   "cell_type": "code",
   "execution_count": 11,
   "metadata": {},
   "outputs": [
    {
     "data": {
      "text/plain": [
       "torch.Size([48, 6])"
      ]
     },
     "execution_count": 11,
     "metadata": {},
     "output_type": "execute_result"
    }
   ],
   "source": [
    "x.shape"
   ]
  },
  {
   "cell_type": "code",
   "execution_count": 12,
   "metadata": {},
   "outputs": [
    {
     "data": {
      "text/plain": [
       "[<matplotlib.lines.Line2D at 0x7fa07956f910>]"
      ]
     },
     "execution_count": 12,
     "metadata": {},
     "output_type": "execute_result"
    },
    {
     "data": {
      "image/png": "[encoded data removed]",
      "text/plain": [
       "<Figure size 432x288 with 1 Axes>"
      ]
     },
     "metadata": {
      "needs_background": "light"
     },
     "output_type": "display_data"
    }
   ],
   "source": [
    "plt.plot(x[:, 2])"
   ]
  },
  {
   "cell_type": "markdown",
   "metadata": {},
   "source": [
    "# 모델 생성\n",
    "\n",
    "StackedLSTM Bidirectional"
   ]
  },
  {
   "cell_type": "code",
   "execution_count": 13,
   "metadata": {},
   "outputs": [],
   "source": [
    "model = utils.BaselineLSTM(input_size=6,\n",
    "                           hidden_size=64,\n",
    "                           num_layers=8,\n",
    "                           dropout=0.2,\n",
    "                           bidirectional=True).cuda()"
   ]
  },
  {
   "cell_type": "code",
   "execution_count": 14,
   "metadata": {},
   "outputs": [],
   "source": [
    "criterion = nn.MSELoss().cuda()\n",
    "optimizer = torch_optimizer.RAdam(model.parameters())"
   ]
  },
  {
   "cell_type": "code",
   "execution_count": 15,
   "metadata": {},
   "outputs": [],
   "source": [
    "metrics = [tb.metrics.ModuleMetric(criterion, 'loss'),\n",
    "           utils.HPMetric('hp_metric'),\n",
    "           utils.HPSignalHistory(CHECKPOINT_DIR / 'sample' / '{epoch:04d}.npy', 'hp_signal')]"
   ]
  },
  {
   "cell_type": "code",
   "execution_count": 16,
   "metadata": {},
   "outputs": [],
   "source": [
    "callbacks = [tb.callbacks.EarlyStopping(metrics[0]),\n",
    "             tb.callbacks.LRDecaying(optimizer, metrics[0])]"
   ]
  },
  {
   "cell_type": "code",
   "execution_count": 17,
   "metadata": {},
   "outputs": [],
   "source": [
    "trainer = tb.Trainer(model, optimizer, metrics, callbacks, ncols=100)"
   ]
  },
  {
   "cell_type": "code",
   "execution_count": 18,
   "metadata": {},
   "outputs": [
    {
     "name": "stderr",
     "output_type": "stream",
     "text": [
      "[0001/0100] Train: 100%|█████████████████████████████| 74/74 [00:08<00:00,  8.73it/s, loss 285.7843]\n",
      "[0001/0100] Validation: 100%|████████████████████| 71/71 [00:03<00:00, 22.75it/s, val_loss 220.2707]\n",
      "[0002/0100] Train:   0%|                                                     | 0/74 [00:00<?, ?it/s]"
     ]
    },
    {
     "name": "stdout",
     "output_type": "stream",
     "text": [
      "                  validation\n",
      " - Yaw          :  18.657024\n",
      " - Pitch        :  10.347923\n",
      " - Roll         :   2.549479\n",
      " - RMS          :  12.405159\n",
      " - 99% Tile     :  43.301153\n",
      "Save output signals into checkpoint/Scene3-LSTM[SmallWindow]/sample/0001.npy\n"
     ]
    },
    {
     "name": "stderr",
     "output_type": "stream",
     "text": [
      "[0002/0100] Train: 100%|█████████████████████████████| 74/74 [00:09<00:00,  8.08it/s, loss 235.4781]\n",
      "[0002/0100] Validation: 100%|████████████████████| 71/71 [00:03<00:00, 22.15it/s, val_loss 167.5459]\n",
      "[0003/0100] Train:   0%|                                                     | 0/74 [00:00<?, ?it/s]"
     ]
    },
    {
     "name": "stdout",
     "output_type": "stream",
     "text": [
      "                  validation\n",
      " - Yaw          :  15.372462\n",
      " - Pitch        :   9.268257\n",
      " - Roll         :   2.427434\n",
      " - RMS          :  10.457941\n",
      " - 99% Tile     :  39.800809\n",
      "Save output signals into checkpoint/Scene3-LSTM[SmallWindow]/sample/0002.npy\n"
     ]
    },
    {
     "name": "stderr",
     "output_type": "stream",
     "text": [
      "[0003/0100] Train: 100%|█████████████████████████████| 74/74 [00:09<00:00,  8.20it/s, loss 179.8279]\n",
      "[0003/0100] Validation: 100%|████████████████████| 71/71 [00:03<00:00, 23.37it/s, val_loss 120.3719]\n",
      "[0004/0100] Train:   0%|                                                     | 0/74 [00:00<?, ?it/s]"
     ]
    },
    {
     "name": "stdout",
     "output_type": "stream",
     "text": [
      "                  validation\n",
      " - Yaw          :  12.107818\n",
      " - Pitch        :   8.504319\n",
      " - Roll         :   2.348278\n",
      " - RMS          :   8.649414\n",
      " - 99% Tile     :  34.067908\n",
      "Save output signals into checkpoint/Scene3-LSTM[SmallWindow]/sample/0003.npy\n"
     ]
    },
    {
     "name": "stderr",
     "output_type": "stream",
     "text": [
      "[0004/0100] Train: 100%|█████████████████████████████| 74/74 [00:08<00:00,  8.90it/s, loss 137.0919]\n",
      "[0004/0100] Validation: 100%|█████████████████████| 71/71 [00:03<00:00, 19.71it/s, val_loss 94.0999]\n",
      "[0005/0100] Train:   0%|                                                     | 0/74 [00:00<?, ?it/s]"
     ]
    },
    {
     "name": "stdout",
     "output_type": "stream",
     "text": [
      "                  validation\n",
      " - Yaw          :   9.792017\n",
      " - Pitch        :   7.896944\n",
      " - Roll         :   2.376457\n",
      " - RMS          :   7.391275\n",
      " - 99% Tile     :  30.726315\n",
      "Save output signals into checkpoint/Scene3-LSTM[SmallWindow]/sample/0004.npy\n"
     ]
    },
    {
     "name": "stderr",
     "output_type": "stream",
     "text": [
      "[0005/0100] Train: 100%|█████████████████████████████| 74/74 [00:07<00:00,  9.61it/s, loss 111.2784]\n",
      "[0005/0100] Validation: 100%|█████████████████████| 71/71 [00:03<00:00, 22.44it/s, val_loss 77.3482]\n",
      "[0006/0100] Train:   0%|                                                     | 0/74 [00:00<?, ?it/s]"
     ]
    },
    {
     "name": "stdout",
     "output_type": "stream",
     "text": [
      "                  validation\n",
      " - Yaw          :   8.158566\n",
      " - Pitch        :   7.523151\n",
      " - Roll         :   2.391824\n",
      " - RMS          :   6.554409\n",
      " - 99% Tile     :  28.097508\n",
      "Save output signals into checkpoint/Scene3-LSTM[SmallWindow]/sample/0005.npy\n"
     ]
    },
    {
     "name": "stderr",
     "output_type": "stream",
     "text": [
      "[0006/0100] Train: 100%|██████████████████████████████| 74/74 [00:08<00:00,  8.29it/s, loss 92.5788]\n",
      "[0006/0100] Validation: 100%|█████████████████████| 71/71 [00:03<00:00, 23.02it/s, val_loss 65.0489]\n",
      "[0007/0100] Train:   0%|                                                     | 0/74 [00:00<?, ?it/s]"
     ]
    },
    {
     "name": "stdout",
     "output_type": "stream",
     "text": [
      "                  validation\n",
      " - Yaw          :   7.102384\n",
      " - Pitch        :   7.198709\n",
      " - Roll         :   2.353718\n",
      " - RMS          :   5.994588\n",
      " - 99% Tile     :  26.110166\n",
      "Save output signals into checkpoint/Scene3-LSTM[SmallWindow]/sample/0006.npy\n"
     ]
    },
    {
     "name": "stderr",
     "output_type": "stream",
     "text": [
      "[0007/0100] Train: 100%|██████████████████████████████| 74/74 [00:08<00:00,  8.24it/s, loss 78.2428]\n",
      "[0007/0100] Validation: 100%|█████████████████████| 71/71 [00:03<00:00, 22.74it/s, val_loss 55.4787]\n",
      "[0008/0100] Train:   0%|                                                     | 0/74 [00:00<?, ?it/s]"
     ]
    },
    {
     "name": "stdout",
     "output_type": "stream",
     "text": [
      "                  validation\n",
      " - Yaw          :   6.301021\n",
      " - Pitch        :   6.859622\n",
      " - Roll         :   2.381082\n",
      " - RMS          :   5.550581\n",
      " - 99% Tile     :  24.196860\n",
      "Save output signals into checkpoint/Scene3-LSTM[SmallWindow]/sample/0007.npy\n"
     ]
    },
    {
     "name": "stderr",
     "output_type": "stream",
     "text": [
      "[0008/0100] Train: 100%|██████████████████████████████| 74/74 [00:08<00:00,  8.38it/s, loss 67.3342]\n",
      "[0008/0100] Validation: 100%|█████████████████████| 71/71 [00:03<00:00, 17.91it/s, val_loss 49.2521]\n",
      "[0009/0100] Train:   0%|                                                     | 0/74 [00:00<?, ?it/s]"
     ]
    },
    {
     "name": "stdout",
     "output_type": "stream",
     "text": [
      "                  validation\n",
      " - Yaw          :   5.574839\n",
      " - Pitch        :   6.807947\n",
      " - Roll         :   2.336484\n",
      " - RMS          :   5.256302\n",
      " - 99% Tile     :  22.397871\n",
      "Save output signals into checkpoint/Scene3-LSTM[SmallWindow]/sample/0008.npy\n"
     ]
    },
    {
     "name": "stderr",
     "output_type": "stream",
     "text": [
      "[0009/0100] Train: 100%|██████████████████████████████| 74/74 [00:08<00:00,  9.22it/s, loss 59.2426]\n",
      "[0009/0100] Validation: 100%|█████████████████████| 71/71 [00:03<00:00, 20.25it/s, val_loss 43.8295]\n",
      "[0010/0100] Train:   0%|                                                     | 0/74 [00:00<?, ?it/s]"
     ]
    },
    {
     "name": "stdout",
     "output_type": "stream",
     "text": [
      "                  validation\n",
      " - Yaw          :   4.804441\n",
      " - Pitch        :   6.760334\n",
      " - Roll         :   2.347136\n",
      " - RMS          :   4.976405\n",
      " - 99% Tile     :  21.295212\n",
      "Save output signals into checkpoint/Scene3-LSTM[SmallWindow]/sample/0009.npy\n"
     ]
    },
    {
     "name": "stderr",
     "output_type": "stream",
     "text": [
      "[0010/0100] Train: 100%|██████████████████████████████| 74/74 [00:08<00:00,  8.26it/s, loss 52.8051]\n",
      "[0010/0100] Validation: 100%|█████████████████████| 71/71 [00:03<00:00, 22.35it/s, val_loss 40.6117]\n",
      "[0011/0100] Train:   0%|                                                     | 0/74 [00:00<?, ?it/s]"
     ]
    },
    {
     "name": "stdout",
     "output_type": "stream",
     "text": [
      "                  validation\n",
      " - Yaw          :   4.094948\n",
      " - Pitch        :   6.962294\n",
      " - Roll         :   2.348742\n",
      " - RMS          :   4.856567\n",
      " - 99% Tile     :  21.438778\n",
      "Save output signals into checkpoint/Scene3-LSTM[SmallWindow]/sample/0010.npy\n"
     ]
    },
    {
     "name": "stderr",
     "output_type": "stream",
     "text": [
      "[0011/0100] Train: 100%|██████████████████████████████| 74/74 [00:08<00:00,  8.23it/s, loss 48.0203]\n",
      "[0011/0100] Validation: 100%|█████████████████████| 71/71 [00:03<00:00, 23.25it/s, val_loss 37.6668]\n",
      "[0012/0100] Train:   0%|                                                     | 0/74 [00:00<?, ?it/s]"
     ]
    },
    {
     "name": "stdout",
     "output_type": "stream",
     "text": [
      "                  validation\n",
      " - Yaw          :   4.171532\n",
      " - Pitch        :   6.340932\n",
      " - Roll         :   2.326788\n",
      " - RMS          :   4.583414\n",
      " - 99% Tile     :  21.144928\n",
      "Save output signals into checkpoint/Scene3-LSTM[SmallWindow]/sample/0011.npy\n"
     ]
    },
    {
     "name": "stderr",
     "output_type": "stream",
     "text": [
      "[0012/0100] Train: 100%|██████████████████████████████| 74/74 [00:08<00:00,  8.26it/s, loss 39.8851]\n",
      "[0012/0100] Validation: 100%|█████████████████████| 71/71 [00:02<00:00, 28.57it/s, val_loss 23.4112]\n",
      "[0013/0100] Train:   0%|                                                     | 0/74 [00:00<?, ?it/s]"
     ]
    },
    {
     "name": "stdout",
     "output_type": "stream",
     "text": [
      "                  validation\n",
      " - Yaw          :   3.144959\n",
      " - Pitch        :   4.616970\n",
      " - Roll         :   2.359386\n",
      " - RMS          :   3.501137\n",
      " - 99% Tile     :  17.103890\n",
      "Save output signals into checkpoint/Scene3-LSTM[SmallWindow]/sample/0012.npy\n"
     ]
    },
    {
     "name": "stderr",
     "output_type": "stream",
     "text": [
      "[0013/0100] Train: 100%|██████████████████████████████| 74/74 [00:08<00:00,  8.58it/s, loss 29.2291]\n",
      "[0013/0100] Validation: 100%|█████████████████████| 71/71 [00:03<00:00, 21.70it/s, val_loss 14.9901]\n",
      "[0014/0100] Train:   0%|                                                     | 0/74 [00:00<?, ?it/s]"
     ]
    },
    {
     "name": "stdout",
     "output_type": "stream",
     "text": [
      "                  validation\n",
      " - Yaw          :   2.553551\n",
      " - Pitch        :   3.123868\n",
      " - Roll         :   2.321198\n",
      " - RMS          :   2.687448\n",
      " - 99% Tile     :  12.771628\n",
      "Save output signals into checkpoint/Scene3-LSTM[SmallWindow]/sample/0013.npy\n"
     ]
    },
    {
     "name": "stderr",
     "output_type": "stream",
     "text": [
      "[0014/0100] Train: 100%|██████████████████████████████| 74/74 [00:09<00:00,  8.21it/s, loss 23.5765]\n",
      "[0014/0100] Validation: 100%|█████████████████████| 71/71 [00:03<00:00, 21.83it/s, val_loss 11.7669]\n",
      "[0015/0100] Train:   0%|                                                     | 0/74 [00:00<?, ?it/s]"
     ]
    },
    {
     "name": "stdout",
     "output_type": "stream",
     "text": [
      "                  validation\n",
      " - Yaw          :   2.158494\n",
      " - Pitch        :   2.490856\n",
      " - Roll         :   2.307254\n",
      " - RMS          :   2.322849\n",
      " - 99% Tile     :  11.620359\n",
      "Save output signals into checkpoint/Scene3-LSTM[SmallWindow]/sample/0014.npy\n"
     ]
    },
    {
     "name": "stderr",
     "output_type": "stream",
     "text": [
      "[0015/0100] Train: 100%|██████████████████████████████| 74/74 [00:08<00:00,  8.28it/s, loss 20.3667]\n",
      "[0015/0100] Validation: 100%|█████████████████████| 71/71 [00:03<00:00, 23.27it/s, val_loss 10.3308]\n",
      "[0016/0100] Train:   0%|                                                     | 0/74 [00:00<?, ?it/s]"
     ]
    },
    {
     "name": "stdout",
     "output_type": "stream",
     "text": [
      "                  validation\n",
      " - Yaw          :   2.003247\n",
      " - Pitch        :   2.152582\n",
      " - Roll         :   2.346044\n",
      " - RMS          :   2.171830\n",
      " - 99% Tile     :  11.136327\n",
      "Save output signals into checkpoint/Scene3-LSTM[SmallWindow]/sample/0015.npy\n"
     ]
    },
    {
     "name": "stderr",
     "output_type": "stream",
     "text": [
      "[0016/0100] Train: 100%|██████████████████████████████| 74/74 [00:08<00:00,  8.31it/s, loss 17.7444]\n",
      "[0016/0100] Validation: 100%|██████████████████████| 71/71 [00:03<00:00, 22.37it/s, val_loss 8.7510]\n",
      "[0017/0100] Train:   0%|                                                     | 0/74 [00:00<?, ?it/s]"
     ]
    },
    {
     "name": "stdout",
     "output_type": "stream",
     "text": [
      "                  validation\n",
      " - Yaw          :   1.819786\n",
      " - Pitch        :   1.782557\n",
      " - Roll         :   2.265286\n",
      " - RMS          :   1.968134\n",
      " - 99% Tile     :  10.348979\n",
      "Save output signals into checkpoint/Scene3-LSTM[SmallWindow]/sample/0016.npy\n"
     ]
    },
    {
     "name": "stderr",
     "output_type": "stream",
     "text": [
      "[0017/0100] Train: 100%|██████████████████████████████| 74/74 [00:07<00:00,  9.55it/s, loss 15.8455]\n",
      "[0017/0100] Validation: 100%|██████████████████████| 71/71 [00:02<00:00, 25.14it/s, val_loss 8.0605]\n",
      "[0018/0100] Train:   0%|                                                     | 0/74 [00:00<?, ?it/s]"
     ]
    },
    {
     "name": "stdout",
     "output_type": "stream",
     "text": [
      "                  validation\n",
      " - Yaw          :   1.636762\n",
      " - Pitch        :   1.920684\n",
      " - Roll         :   2.285808\n",
      " - RMS          :   1.965785\n",
      " - 99% Tile     :   9.870632\n",
      "Save output signals into checkpoint/Scene3-LSTM[SmallWindow]/sample/0017.npy\n"
     ]
    },
    {
     "name": "stderr",
     "output_type": "stream",
     "text": [
      "[0018/0100] Train: 100%|██████████████████████████████| 74/74 [00:08<00:00,  8.58it/s, loss 14.4689]\n",
      "[0018/0100] Validation: 100%|██████████████████████| 71/71 [00:03<00:00, 22.21it/s, val_loss 7.6512]\n",
      "[0019/0100] Train:   0%|                                                     | 0/74 [00:00<?, ?it/s]"
     ]
    },
    {
     "name": "stdout",
     "output_type": "stream",
     "text": [
      "                  validation\n",
      " - Yaw          :   2.066276\n",
      " - Pitch        :   1.535218\n",
      " - Roll         :   2.220634\n",
      " - RMS          :   1.962788\n",
      " - 99% Tile     :   9.276152\n",
      "Save output signals into checkpoint/Scene3-LSTM[SmallWindow]/sample/0018.npy\n"
     ]
    },
    {
     "name": "stderr",
     "output_type": "stream",
     "text": [
      "[0019/0100] Train: 100%|██████████████████████████████| 74/74 [00:08<00:00,  8.40it/s, loss 13.0717]\n",
      "[0019/0100] Validation: 100%|██████████████████████| 71/71 [00:03<00:00, 22.10it/s, val_loss 6.8247]\n",
      "[0020/0100] Train:   0%|                                                     | 0/74 [00:00<?, ?it/s]"
     ]
    },
    {
     "name": "stdout",
     "output_type": "stream",
     "text": [
      "                  validation\n",
      " - Yaw          :   1.672905\n",
      " - Pitch        :   1.507742\n",
      " - Roll         :   2.217508\n",
      " - RMS          :   1.824759\n",
      " - 99% Tile     :   8.895488\n",
      "Save output signals into checkpoint/Scene3-LSTM[SmallWindow]/sample/0019.npy\n"
     ]
    },
    {
     "name": "stderr",
     "output_type": "stream",
     "text": [
      "[0020/0100] Train: 100%|██████████████████████████████| 74/74 [00:08<00:00,  8.33it/s, loss 12.0418]\n",
      "[0020/0100] Validation: 100%|██████████████████████| 71/71 [00:03<00:00, 21.93it/s, val_loss 6.4810]\n",
      "[0021/0100] Train:   0%|                                                     | 0/74 [00:00<?, ?it/s]"
     ]
    },
    {
     "name": "stdout",
     "output_type": "stream",
     "text": [
      "                  validation\n",
      " - Yaw          :   1.581057\n",
      " - Pitch        :   1.481624\n",
      " - Roll         :   2.237247\n",
      " - RMS          :   1.798168\n",
      " - 99% Tile     :   8.430956\n",
      "Save output signals into checkpoint/Scene3-LSTM[SmallWindow]/sample/0020.npy\n"
     ]
    },
    {
     "name": "stderr",
     "output_type": "stream",
     "text": [
      "[0021/0100] Train: 100%|██████████████████████████████| 74/74 [00:07<00:00,  9.29it/s, loss 11.0992]\n",
      "[0021/0100] Validation: 100%|██████████████████████| 71/71 [00:03<00:00, 22.23it/s, val_loss 6.0653]\n",
      "[0022/0100] Train:   0%|                                                     | 0/74 [00:00<?, ?it/s]"
     ]
    },
    {
     "name": "stdout",
     "output_type": "stream",
     "text": [
      "                  validation\n",
      " - Yaw          :   1.506729\n",
      " - Pitch        :   1.414325\n",
      " - Roll         :   2.213644\n",
      " - RMS          :   1.748406\n",
      " - 99% Tile     :   8.106254\n",
      "Save output signals into checkpoint/Scene3-LSTM[SmallWindow]/sample/0021.npy\n"
     ]
    },
    {
     "name": "stderr",
     "output_type": "stream",
     "text": [
      "[0022/0100] Train: 100%|██████████████████████████████| 74/74 [00:07<00:00,  9.26it/s, loss 10.5118]\n",
      "[0022/0100] Validation: 100%|██████████████████████| 71/71 [00:03<00:00, 22.22it/s, val_loss 5.7970]\n",
      "[0023/0100] Train:   0%|                                                     | 0/74 [00:00<?, ?it/s]"
     ]
    },
    {
     "name": "stdout",
     "output_type": "stream",
     "text": [
      "                  validation\n",
      " - Yaw          :   1.366381\n",
      " - Pitch        :   1.382940\n",
      " - Roll         :   2.200461\n",
      " - RMS          :   1.695243\n",
      " - 99% Tile     :   7.840205\n",
      "Save output signals into checkpoint/Scene3-LSTM[SmallWindow]/sample/0022.npy\n"
     ]
    },
    {
     "name": "stderr",
     "output_type": "stream",
     "text": [
      "[0023/0100] Train: 100%|███████████████████████████████| 74/74 [00:09<00:00,  8.18it/s, loss 9.9220]\n",
      "[0023/0100] Validation: 100%|██████████████████████| 71/71 [00:03<00:00, 22.84it/s, val_loss 5.8033]\n",
      "[0024/0100] Train:   0%|                                                     | 0/74 [00:00<?, ?it/s]"
     ]
    },
    {
     "name": "stdout",
     "output_type": "stream",
     "text": [
      "val_loss is not improved for 1 epochs\n",
      "                  validation\n",
      " - Yaw          :   1.451229\n",
      " - Pitch        :   1.397676\n",
      " - Roll         :   2.213792\n",
      " - RMS          :   1.728240\n",
      " - 99% Tile     :   7.691647\n",
      "Save output signals into checkpoint/Scene3-LSTM[SmallWindow]/sample/0023.npy\n"
     ]
    },
    {
     "name": "stderr",
     "output_type": "stream",
     "text": [
      "[0024/0100] Train: 100%|███████████████████████████████| 74/74 [00:08<00:00,  8.23it/s, loss 9.2872]\n",
      "[0024/0100] Validation: 100%|██████████████████████| 71/71 [00:03<00:00, 21.25it/s, val_loss 5.3106]\n",
      "[0025/0100] Train:   0%|                                                     | 0/74 [00:00<?, ?it/s]"
     ]
    },
    {
     "name": "stdout",
     "output_type": "stream",
     "text": [
      "                  validation\n",
      " - Yaw          :   1.271164\n",
      " - Pitch        :   1.271127\n",
      " - Roll         :   2.194082\n",
      " - RMS          :   1.637643\n",
      " - 99% Tile     :   7.364565\n",
      "Save output signals into checkpoint/Scene3-LSTM[SmallWindow]/sample/0024.npy\n"
     ]
    },
    {
     "name": "stderr",
     "output_type": "stream",
     "text": [
      "[0025/0100] Train: 100%|███████████████████████████████| 74/74 [00:08<00:00,  8.48it/s, loss 8.8599]\n",
      "[0025/0100] Validation: 100%|██████████████████████| 71/71 [00:03<00:00, 18.35it/s, val_loss 5.2422]\n",
      "[0026/0100] Train:   0%|                                                     | 0/74 [00:00<?, ?it/s]"
     ]
    },
    {
     "name": "stdout",
     "output_type": "stream",
     "text": [
      "                  validation\n",
      " - Yaw          :   1.309641\n",
      " - Pitch        :   1.142182\n",
      " - Roll         :   2.242883\n",
      " - RMS          :   1.638115\n",
      " - 99% Tile     :   7.305435\n",
      "Save output signals into checkpoint/Scene3-LSTM[SmallWindow]/sample/0025.npy\n"
     ]
    },
    {
     "name": "stderr",
     "output_type": "stream",
     "text": [
      "[0026/0100] Train: 100%|███████████████████████████████| 74/74 [00:08<00:00,  9.25it/s, loss 8.3682]\n",
      "[0026/0100] Validation: 100%|██████████████████████| 71/71 [00:03<00:00, 20.83it/s, val_loss 5.0907]\n",
      "[0027/0100] Train:   0%|                                                     | 0/74 [00:00<?, ?it/s]"
     ]
    },
    {
     "name": "stdout",
     "output_type": "stream",
     "text": [
      "                  validation\n",
      " - Yaw          :   1.200936\n",
      " - Pitch        :   1.256670\n",
      " - Roll         :   2.219450\n",
      " - RMS          :   1.627619\n",
      " - 99% Tile     :   7.036585\n",
      "Save output signals into checkpoint/Scene3-LSTM[SmallWindow]/sample/0026.npy\n"
     ]
    },
    {
     "name": "stderr",
     "output_type": "stream",
     "text": [
      "[0027/0100] Train: 100%|███████████████████████████████| 74/74 [00:08<00:00,  8.23it/s, loss 8.1651]\n",
      "[0027/0100] Validation: 100%|██████████████████████| 71/71 [00:03<00:00, 21.02it/s, val_loss 5.1590]\n",
      "[0028/0100] Train:   0%|                                                     | 0/74 [00:00<?, ?it/s]"
     ]
    },
    {
     "name": "stdout",
     "output_type": "stream",
     "text": [
      "val_loss is not improved for 1 epochs\n",
      "                  validation\n",
      " - Yaw          :   1.236510\n",
      " - Pitch        :   1.287341\n",
      " - Roll         :   2.232669\n",
      " - RMS          :   1.650355\n",
      " - 99% Tile     :   7.229449\n",
      "Save output signals into checkpoint/Scene3-LSTM[SmallWindow]/sample/0027.npy\n"
     ]
    },
    {
     "name": "stderr",
     "output_type": "stream",
     "text": [
      "[0028/0100] Train: 100%|███████████████████████████████| 74/74 [00:09<00:00,  8.15it/s, loss 7.6954]\n",
      "[0028/0100] Validation: 100%|██████████████████████| 71/71 [00:03<00:00, 22.40it/s, val_loss 4.9578]\n",
      "[0029/0100] Train:   0%|                                                     | 0/74 [00:00<?, ?it/s]"
     ]
    },
    {
     "name": "stdout",
     "output_type": "stream",
     "text": [
      "                  validation\n",
      " - Yaw          :   1.190417\n",
      " - Pitch        :   1.272275\n",
      " - Roll         :   2.185264\n",
      " - RMS          :   1.613604\n",
      " - 99% Tile     :   7.050668\n",
      "Save output signals into checkpoint/Scene3-LSTM[SmallWindow]/sample/0028.npy\n"
     ]
    },
    {
     "name": "stderr",
     "output_type": "stream",
     "text": [
      "[0029/0100] Train: 100%|███████████████████████████████| 74/74 [00:08<00:00,  8.39it/s, loss 7.3758]\n",
      "[0029/0100] Validation: 100%|██████████████████████| 71/71 [00:03<00:00, 21.18it/s, val_loss 4.7486]\n",
      "[0030/0100] Train:   0%|                                                     | 0/74 [00:00<?, ?it/s]"
     ]
    },
    {
     "name": "stdout",
     "output_type": "stream",
     "text": [
      "                  validation\n",
      " - Yaw          :   1.153668\n",
      " - Pitch        :   1.097777\n",
      " - Roll         :   2.199494\n",
      " - RMS          :   1.567784\n",
      " - 99% Tile     :   7.032257\n",
      "Save output signals into checkpoint/Scene3-LSTM[SmallWindow]/sample/0029.npy\n"
     ]
    },
    {
     "name": "stderr",
     "output_type": "stream",
     "text": [
      "[0030/0100] Train: 100%|███████████████████████████████| 74/74 [00:08<00:00,  9.11it/s, loss 7.1329]\n",
      "[0030/0100] Validation: 100%|██████████████████████| 71/71 [00:02<00:00, 24.15it/s, val_loss 5.1545]\n",
      "[0031/0100] Train:   0%|                                                     | 0/74 [00:00<?, ?it/s]"
     ]
    },
    {
     "name": "stdout",
     "output_type": "stream",
     "text": [
      "val_loss is not improved for 1 epochs\n",
      "                  validation\n",
      " - Yaw          :   1.430911\n",
      " - Pitch        :   1.139351\n",
      " - Roll         :   2.220096\n",
      " - RMS          :   1.660768\n",
      " - 99% Tile     :   6.884807\n",
      "Save output signals into checkpoint/Scene3-LSTM[SmallWindow]/sample/0030.npy\n"
     ]
    },
    {
     "name": "stderr",
     "output_type": "stream",
     "text": [
      "[0031/0100] Train: 100%|███████████████████████████████| 74/74 [00:09<00:00,  8.20it/s, loss 6.9337]\n",
      "[0031/0100] Validation: 100%|██████████████████████| 71/71 [00:03<00:00, 21.83it/s, val_loss 5.1254]\n",
      "[0032/0100] Train:   0%|                                                     | 0/74 [00:00<?, ?it/s]"
     ]
    },
    {
     "name": "stdout",
     "output_type": "stream",
     "text": [
      "val_loss is not improved for 2 epochs\n",
      "                  validation\n",
      " - Yaw          :   1.473477\n",
      " - Pitch        :   1.050611\n",
      " - Roll         :   2.216669\n",
      " - RMS          :   1.652124\n",
      " - 99% Tile     :   7.172447\n",
      "Save output signals into checkpoint/Scene3-LSTM[SmallWindow]/sample/0031.npy\n"
     ]
    },
    {
     "name": "stderr",
     "output_type": "stream",
     "text": [
      "[0032/0100] Train: 100%|███████████████████████████████| 74/74 [00:09<00:00,  8.03it/s, loss 6.6605]\n",
      "[0032/0100] Validation: 100%|██████████████████████| 71/71 [00:03<00:00, 22.41it/s, val_loss 4.7820]\n",
      "[0033/0100] Train:   0%|                                                     | 0/74 [00:00<?, ?it/s]"
     ]
    },
    {
     "name": "stdout",
     "output_type": "stream",
     "text": [
      "val_loss is not improved for 3 epochs\n",
      "                  validation\n",
      " - Yaw          :   1.017855\n",
      " - Pitch        :   1.066937\n",
      " - Roll         :   2.251897\n",
      " - RMS          :   1.554072\n",
      " - 99% Tile     :   7.147570\n",
      "Save output signals into checkpoint/Scene3-LSTM[SmallWindow]/sample/0032.npy\n"
     ]
    },
    {
     "name": "stderr",
     "output_type": "stream",
     "text": [
      "[0033/0100] Train: 100%|███████████████████████████████| 74/74 [00:08<00:00,  8.26it/s, loss 6.5426]\n",
      "[0033/0100] Validation: 100%|██████████████████████| 71/71 [00:02<00:00, 24.58it/s, val_loss 5.0884]\n",
      "[0034/0100] Train:   0%|                                                     | 0/74 [00:00<?, ?it/s]"
     ]
    },
    {
     "name": "stdout",
     "output_type": "stream",
     "text": [
      "val_loss is not improved for 4 epochs\n",
      "                  validation\n",
      " - Yaw          :   1.141011\n",
      " - Pitch        :   1.213261\n",
      " - Roll         :   2.280774\n",
      " - RMS          :   1.630525\n",
      " - 99% Tile     :   7.044689\n",
      "Save output signals into checkpoint/Scene3-LSTM[SmallWindow]/sample/0033.npy\n"
     ]
    },
    {
     "name": "stderr",
     "output_type": "stream",
     "text": [
      "[0034/0100] Train: 100%|███████████████████████████████| 74/74 [00:08<00:00,  8.83it/s, loss 6.2829]\n",
      "[0034/0100] Validation: 100%|██████████████████████| 71/71 [00:03<00:00, 20.99it/s, val_loss 4.6843]\n",
      "[0035/0100] Train:   0%|                                                     | 0/74 [00:00<?, ?it/s]"
     ]
    },
    {
     "name": "stdout",
     "output_type": "stream",
     "text": [
      "                  validation\n",
      " - Yaw          :   1.116527\n",
      " - Pitch        :   1.058944\n",
      " - Roll         :   2.244673\n",
      " - RMS          :   1.571258\n",
      " - 99% Tile     :   6.993931\n",
      "Save output signals into checkpoint/Scene3-LSTM[SmallWindow]/sample/0034.npy\n"
     ]
    },
    {
     "name": "stderr",
     "output_type": "stream",
     "text": [
      "[0035/0100] Train: 100%|███████████████████████████████| 74/74 [00:09<00:00,  7.80it/s, loss 6.0740]\n",
      "[0035/0100] Validation: 100%|██████████████████████| 71/71 [00:03<00:00, 21.55it/s, val_loss 4.9395]\n",
      "[0036/0100] Train:   0%|                                                     | 0/74 [00:00<?, ?it/s]"
     ]
    },
    {
     "name": "stdout",
     "output_type": "stream",
     "text": [
      "val_loss is not improved for 1 epochs\n",
      "                  validation\n",
      " - Yaw          :   1.155008\n",
      " - Pitch        :   1.066196\n",
      " - Roll         :   2.282873\n",
      " - RMS          :   1.600242\n",
      " - 99% Tile     :   7.059618\n",
      "Save output signals into checkpoint/Scene3-LSTM[SmallWindow]/sample/0035.npy\n"
     ]
    },
    {
     "name": "stderr",
     "output_type": "stream",
     "text": [
      "[0036/0100] Train: 100%|███████████████████████████████| 74/74 [00:09<00:00,  8.22it/s, loss 6.0673]\n",
      "[0036/0100] Validation: 100%|██████████████████████| 71/71 [00:03<00:00, 23.47it/s, val_loss 5.0592]\n",
      "[0037/0100] Train:   0%|                                                     | 0/74 [00:00<?, ?it/s]"
     ]
    },
    {
     "name": "stdout",
     "output_type": "stream",
     "text": [
      "val_loss is not improved for 2 epochs\n",
      "                  validation\n",
      " - Yaw          :   1.271811\n",
      " - Pitch        :   1.151238\n",
      " - Roll         :   2.249891\n",
      " - RMS          :   1.633489\n",
      " - 99% Tile     :   6.948073\n",
      "Save output signals into checkpoint/Scene3-LSTM[SmallWindow]/sample/0036.npy\n"
     ]
    },
    {
     "name": "stderr",
     "output_type": "stream",
     "text": [
      "[0037/0100] Train: 100%|███████████████████████████████| 74/74 [00:08<00:00,  8.27it/s, loss 5.8943]\n",
      "[0037/0100] Validation: 100%|██████████████████████| 71/71 [00:03<00:00, 23.60it/s, val_loss 4.7707]\n",
      "[0038/0100] Train:   0%|                                                     | 0/74 [00:00<?, ?it/s]"
     ]
    },
    {
     "name": "stdout",
     "output_type": "stream",
     "text": [
      "val_loss is not improved for 3 epochs\n",
      "                  validation\n",
      " - Yaw          :   1.080924\n",
      " - Pitch        :   1.143705\n",
      " - Roll         :   2.271385\n",
      " - RMS          :   1.595373\n",
      " - 99% Tile     :   6.917733\n",
      "Save output signals into checkpoint/Scene3-LSTM[SmallWindow]/sample/0037.npy\n"
     ]
    },
    {
     "name": "stderr",
     "output_type": "stream",
     "text": [
      "[0038/0100] Train: 100%|███████████████████████████████| 74/74 [00:08<00:00,  9.18it/s, loss 5.7420]\n",
      "[0038/0100] Validation: 100%|██████████████████████| 71/71 [00:03<00:00, 19.96it/s, val_loss 4.6597]\n",
      "[0039/0100] Train:   0%|                                                     | 0/74 [00:00<?, ?it/s]"
     ]
    },
    {
     "name": "stdout",
     "output_type": "stream",
     "text": [
      "                  validation\n",
      " - Yaw          :   1.189855\n",
      " - Pitch        :   1.086951\n",
      " - Roll         :   2.180058\n",
      " - RMS          :   1.565234\n",
      " - 99% Tile     :   7.004712\n",
      "Save output signals into checkpoint/Scene3-LSTM[SmallWindow]/sample/0038.npy\n"
     ]
    },
    {
     "name": "stderr",
     "output_type": "stream",
     "text": [
      "[0039/0100] Train: 100%|███████████████████████████████| 74/74 [00:08<00:00,  8.84it/s, loss 5.5561]\n",
      "[0039/0100] Validation: 100%|██████████████████████| 71/71 [00:03<00:00, 22.01it/s, val_loss 4.8113]\n",
      "[0040/0100] Train:   0%|                                                     | 0/74 [00:00<?, ?it/s]"
     ]
    },
    {
     "name": "stdout",
     "output_type": "stream",
     "text": [
      "val_loss is not improved for 1 epochs\n",
      "                  validation\n",
      " - Yaw          :   1.232175\n",
      " - Pitch        :   1.122449\n",
      " - Roll         :   2.180423\n",
      " - RMS          :   1.584550\n",
      " - 99% Tile     :   6.990085\n",
      "Save output signals into checkpoint/Scene3-LSTM[SmallWindow]/sample/0039.npy\n"
     ]
    },
    {
     "name": "stderr",
     "output_type": "stream",
     "text": [
      "[0040/0100] Train: 100%|███████████████████████████████| 74/74 [00:08<00:00,  8.24it/s, loss 5.4467]\n",
      "[0040/0100] Validation: 100%|██████████████████████| 71/71 [00:03<00:00, 23.12it/s, val_loss 5.3916]\n",
      "[0041/0100] Train:   0%|                                                     | 0/74 [00:00<?, ?it/s]"
     ]
    },
    {
     "name": "stdout",
     "output_type": "stream",
     "text": [
      "val_loss is not improved for 2 epochs\n",
      "                  validation\n",
      " - Yaw          :   1.730190\n",
      " - Pitch        :   1.144918\n",
      " - Roll         :   2.174597\n",
      " - RMS          :   1.735249\n",
      " - 99% Tile     :   6.909418\n",
      "Save output signals into checkpoint/Scene3-LSTM[SmallWindow]/sample/0040.npy\n"
     ]
    },
    {
     "name": "stderr",
     "output_type": "stream",
     "text": [
      "[0041/0100] Train: 100%|███████████████████████████████| 74/74 [00:08<00:00,  8.36it/s, loss 5.2555]\n",
      "[0041/0100] Validation: 100%|██████████████████████| 71/71 [00:03<00:00, 23.02it/s, val_loss 4.7844]\n",
      "[0042/0100] Train:   0%|                                                     | 0/74 [00:00<?, ?it/s]"
     ]
    },
    {
     "name": "stdout",
     "output_type": "stream",
     "text": [
      "val_loss is not improved for 3 epochs\n",
      "                  validation\n",
      " - Yaw          :   1.109608\n",
      " - Pitch        :   1.095487\n",
      " - Roll         :   2.218014\n",
      " - RMS          :   1.565344\n",
      " - 99% Tile     :   7.112229\n",
      "Save output signals into checkpoint/Scene3-LSTM[SmallWindow]/sample/0041.npy\n"
     ]
    },
    {
     "name": "stderr",
     "output_type": "stream",
     "text": [
      "[0042/0100] Train: 100%|███████████████████████████████| 74/74 [00:07<00:00,  9.57it/s, loss 5.1329]\n",
      "[0042/0100] Validation: 100%|██████████████████████| 71/71 [00:02<00:00, 24.52it/s, val_loss 4.7707]\n",
      "[0043/0100] Train:   0%|                                                     | 0/74 [00:00<?, ?it/s]"
     ]
    },
    {
     "name": "stdout",
     "output_type": "stream",
     "text": [
      "val_loss is not improved for 4 epochs\n",
      "                  validation\n",
      " - Yaw          :   1.103003\n",
      " - Pitch        :   1.101085\n",
      " - Roll         :   2.240671\n",
      " - RMS          :   1.575818\n",
      " - 99% Tile     :   7.240340\n",
      "Save output signals into checkpoint/Scene3-LSTM[SmallWindow]/sample/0042.npy\n"
     ]
    },
    {
     "name": "stderr",
     "output_type": "stream",
     "text": [
      "[0043/0100] Train: 100%|███████████████████████████████| 74/74 [00:08<00:00,  8.27it/s, loss 5.0229]\n",
      "[0043/0100] Validation: 100%|██████████████████████| 71/71 [00:03<00:00, 22.55it/s, val_loss 4.8490]\n",
      "[0044/0100] Train:   0%|                                                     | 0/74 [00:00<?, ?it/s]"
     ]
    },
    {
     "name": "stdout",
     "output_type": "stream",
     "text": [
      "Decaying lr from 0.001 to 0.0005 because val_loss did not improved for 5 epochs\n",
      "val_loss is not improved for 5 epochs\n",
      "                  validation\n",
      " - Yaw          :   1.297274\n",
      " - Pitch        :   1.056978\n",
      " - Roll         :   2.215006\n",
      " - RMS          :   1.602745\n",
      " - 99% Tile     :   7.281228\n",
      "Save output signals into checkpoint/Scene3-LSTM[SmallWindow]/sample/0043.npy\n"
     ]
    },
    {
     "name": "stderr",
     "output_type": "stream",
     "text": [
      "[0044/0100] Train: 100%|███████████████████████████████| 74/74 [00:08<00:00,  8.27it/s, loss 4.8068]\n",
      "[0044/0100] Validation: 100%|██████████████████████| 71/71 [00:03<00:00, 23.16it/s, val_loss 4.5615]\n",
      "[0045/0100] Train:   0%|                                                     | 0/74 [00:00<?, ?it/s]"
     ]
    },
    {
     "name": "stdout",
     "output_type": "stream",
     "text": [
      "                  validation\n",
      " - Yaw          :   1.183290\n",
      " - Pitch        :   1.025183\n",
      " - Roll         :   2.224020\n",
      " - RMS          :   1.570291\n",
      " - 99% Tile     :   7.038891\n",
      "Save output signals into checkpoint/Scene3-LSTM[SmallWindow]/sample/0044.npy\n"
     ]
    },
    {
     "name": "stderr",
     "output_type": "stream",
     "text": [
      "[0045/0100] Train: 100%|███████████████████████████████| 74/74 [00:08<00:00,  8.38it/s, loss 4.7074]\n",
      "[0045/0100] Validation: 100%|██████████████████████| 71/71 [00:03<00:00, 23.25it/s, val_loss 4.4251]\n",
      "[0046/0100] Train:   0%|                                                     | 0/74 [00:00<?, ?it/s]"
     ]
    },
    {
     "name": "stdout",
     "output_type": "stream",
     "text": [
      "                  validation\n",
      " - Yaw          :   1.015394\n",
      " - Pitch        :   1.058552\n",
      " - Roll         :   2.182094\n",
      " - RMS          :   1.518013\n",
      " - 99% Tile     :   6.994103\n",
      "Save output signals into checkpoint/Scene3-LSTM[SmallWindow]/sample/0045.npy\n"
     ]
    },
    {
     "name": "stderr",
     "output_type": "stream",
     "text": [
      "[0046/0100] Train: 100%|███████████████████████████████| 74/74 [00:08<00:00,  9.15it/s, loss 4.6224]\n",
      "[0046/0100] Validation: 100%|██████████████████████| 71/71 [00:03<00:00, 22.37it/s, val_loss 4.5815]\n",
      "[0047/0100] Train:   0%|                                                     | 0/74 [00:00<?, ?it/s]"
     ]
    },
    {
     "name": "stdout",
     "output_type": "stream",
     "text": [
      "val_loss is not improved for 1 epochs\n",
      "                  validation\n",
      " - Yaw          :   1.056766\n",
      " - Pitch        :   1.054690\n",
      " - Roll         :   2.205538\n",
      " - RMS          :   1.537696\n",
      " - 99% Tile     :   7.054629\n",
      "Save output signals into checkpoint/Scene3-LSTM[SmallWindow]/sample/0046.npy\n"
     ]
    },
    {
     "name": "stderr",
     "output_type": "stream",
     "text": [
      "[0047/0100] Train: 100%|███████████████████████████████| 74/74 [00:07<00:00,  9.28it/s, loss 4.5978]\n",
      "[0047/0100] Validation: 100%|██████████████████████| 71/71 [00:03<00:00, 22.33it/s, val_loss 4.4032]\n",
      "[0048/0100] Train:   0%|                                                     | 0/74 [00:00<?, ?it/s]"
     ]
    },
    {
     "name": "stdout",
     "output_type": "stream",
     "text": [
      "                  validation\n",
      " - Yaw          :   1.065124\n",
      " - Pitch        :   1.050924\n",
      " - Roll         :   2.157078\n",
      " - RMS          :   1.515686\n",
      " - 99% Tile     :   7.025193\n",
      "Save output signals into checkpoint/Scene3-LSTM[SmallWindow]/sample/0047.npy\n"
     ]
    },
    {
     "name": "stderr",
     "output_type": "stream",
     "text": [
      "[0048/0100] Train: 100%|███████████████████████████████| 74/74 [00:09<00:00,  8.19it/s, loss 4.5444]\n",
      "[0048/0100] Validation: 100%|██████████████████████| 71/71 [00:02<00:00, 23.73it/s, val_loss 4.4451]\n",
      "[0049/0100] Train:   0%|                                                     | 0/74 [00:00<?, ?it/s]"
     ]
    },
    {
     "name": "stdout",
     "output_type": "stream",
     "text": [
      "val_loss is not improved for 1 epochs\n",
      "                  validation\n",
      " - Yaw          :   1.205810\n",
      " - Pitch        :   1.019416\n",
      " - Roll         :   2.146758\n",
      " - RMS          :   1.538588\n",
      " - 99% Tile     :   6.751818\n",
      "Save output signals into checkpoint/Scene3-LSTM[SmallWindow]/sample/0048.npy\n"
     ]
    },
    {
     "name": "stderr",
     "output_type": "stream",
     "text": [
      "[0049/0100] Train: 100%|███████████████████████████████| 74/74 [00:08<00:00,  8.36it/s, loss 4.5022]\n",
      "[0049/0100] Validation: 100%|██████████████████████| 71/71 [00:03<00:00, 22.09it/s, val_loss 4.3365]\n",
      "[0050/0100] Train:   0%|                                                     | 0/74 [00:00<?, ?it/s]"
     ]
    },
    {
     "name": "stdout",
     "output_type": "stream",
     "text": [
      "                  validation\n",
      " - Yaw          :   1.080451\n",
      " - Pitch        :   1.076563\n",
      " - Roll         :   2.102968\n",
      " - RMS          :   1.499871\n",
      " - 99% Tile     :   6.883824\n",
      "Save output signals into checkpoint/Scene3-LSTM[SmallWindow]/sample/0049.npy\n"
     ]
    },
    {
     "name": "stderr",
     "output_type": "stream",
     "text": [
      "[0050/0100] Train: 100%|███████████████████████████████| 74/74 [00:08<00:00,  8.62it/s, loss 4.2998]\n",
      "[0050/0100] Validation: 100%|██████████████████████| 71/71 [00:03<00:00, 22.43it/s, val_loss 4.3432]\n",
      "[0051/0100] Train:   0%|                                                     | 0/74 [00:00<?, ?it/s]"
     ]
    },
    {
     "name": "stdout",
     "output_type": "stream",
     "text": [
      "val_loss is not improved for 1 epochs\n",
      "                  validation\n",
      " - Yaw          :   1.469891\n",
      " - Pitch        :   1.192977\n",
      " - Roll         :   1.849218\n",
      " - RMS          :   1.527894\n",
      " - 99% Tile     :   6.778427\n",
      "Save output signals into checkpoint/Scene3-LSTM[SmallWindow]/sample/0050.npy\n"
     ]
    },
    {
     "name": "stderr",
     "output_type": "stream",
     "text": [
      "[0051/0100] Train: 100%|███████████████████████████████| 74/74 [00:08<00:00,  9.14it/s, loss 3.9561]\n",
      "[0051/0100] Validation: 100%|██████████████████████| 71/71 [00:03<00:00, 22.42it/s, val_loss 3.7681]\n",
      "[0052/0100] Train:   0%|                                                     | 0/74 [00:00<?, ?it/s]"
     ]
    },
    {
     "name": "stdout",
     "output_type": "stream",
     "text": [
      "                  validation\n",
      " - Yaw          :   1.214279\n",
      " - Pitch        :   1.040736\n",
      " - Roll         :   1.598194\n",
      " - RMS          :   1.305351\n",
      " - 99% Tile     :   6.930208\n",
      "Save output signals into checkpoint/Scene3-LSTM[SmallWindow]/sample/0051.npy\n"
     ]
    },
    {
     "name": "stderr",
     "output_type": "stream",
     "text": [
      "[0052/0100] Train: 100%|███████████████████████████████| 74/74 [00:08<00:00,  8.43it/s, loss 3.6262]\n",
      "[0052/0100] Validation: 100%|██████████████████████| 71/71 [00:02<00:00, 24.27it/s, val_loss 3.1868]\n",
      "[0053/0100] Train:   0%|                                                     | 0/74 [00:00<?, ?it/s]"
     ]
    },
    {
     "name": "stdout",
     "output_type": "stream",
     "text": [
      "                  validation\n",
      " - Yaw          :   1.166100\n",
      " - Pitch        :   1.136936\n",
      " - Roll         :   1.323774\n",
      " - RMS          :   1.211719\n",
      " - 99% Tile     :   6.292738\n",
      "Save output signals into checkpoint/Scene3-LSTM[SmallWindow]/sample/0052.npy\n"
     ]
    },
    {
     "name": "stderr",
     "output_type": "stream",
     "text": [
      "[0053/0100] Train: 100%|███████████████████████████████| 74/74 [00:08<00:00,  8.39it/s, loss 3.2890]\n",
      "[0053/0100] Validation: 100%|██████████████████████| 71/71 [00:03<00:00, 23.42it/s, val_loss 2.8092]\n",
      "[0054/0100] Train:   0%|                                                     | 0/74 [00:00<?, ?it/s]"
     ]
    },
    {
     "name": "stdout",
     "output_type": "stream",
     "text": [
      "                  validation\n",
      " - Yaw          :   1.173309\n",
      " - Pitch        :   0.938421\n",
      " - Roll         :   1.173807\n",
      " - RMS          :   1.100774\n",
      " - 99% Tile     :   6.023238\n",
      "Save output signals into checkpoint/Scene3-LSTM[SmallWindow]/sample/0053.npy\n"
     ]
    },
    {
     "name": "stderr",
     "output_type": "stream",
     "text": [
      "[0054/0100] Train: 100%|███████████████████████████████| 74/74 [00:08<00:00,  8.31it/s, loss 3.1612]\n",
      "[0054/0100] Validation: 100%|██████████████████████| 71/71 [00:03<00:00, 23.38it/s, val_loss 2.7343]\n",
      "[0055/0100] Train:   0%|                                                     | 0/74 [00:00<?, ?it/s]"
     ]
    },
    {
     "name": "stdout",
     "output_type": "stream",
     "text": [
      "                  validation\n",
      " - Yaw          :   1.249568\n",
      " - Pitch        :   0.939517\n",
      " - Roll         :   1.150455\n",
      " - RMS          :   1.120663\n",
      " - 99% Tile     :   5.753278\n",
      "Save output signals into checkpoint/Scene3-LSTM[SmallWindow]/sample/0054.npy\n"
     ]
    },
    {
     "name": "stderr",
     "output_type": "stream",
     "text": [
      "[0055/0100] Train: 100%|███████████████████████████████| 74/74 [00:07<00:00,  9.82it/s, loss 3.0629]\n",
      "[0055/0100] Validation: 100%|██████████████████████| 71/71 [00:03<00:00, 22.17it/s, val_loss 2.3957]\n",
      "[0056/0100] Train:   0%|                                                     | 0/74 [00:00<?, ?it/s]"
     ]
    },
    {
     "name": "stdout",
     "output_type": "stream",
     "text": [
      "                  validation\n",
      " - Yaw          :   1.095872\n",
      " - Pitch        :   0.905406\n",
      " - Roll         :   0.941708\n",
      " - RMS          :   0.984464\n",
      " - 99% Tile     :   5.631296\n",
      "Save output signals into checkpoint/Scene3-LSTM[SmallWindow]/sample/0055.npy\n"
     ]
    },
    {
     "name": "stderr",
     "output_type": "stream",
     "text": [
      "[0056/0100] Train: 100%|███████████████████████████████| 74/74 [00:08<00:00,  8.50it/s, loss 2.8558]\n",
      "[0056/0100] Validation: 100%|██████████████████████| 71/71 [00:03<00:00, 21.72it/s, val_loss 2.4455]\n",
      "[0057/0100] Train:   0%|                                                     | 0/74 [00:00<?, ?it/s]"
     ]
    },
    {
     "name": "stdout",
     "output_type": "stream",
     "text": [
      "val_loss is not improved for 1 epochs\n",
      "                  validation\n",
      " - Yaw          :   1.252039\n",
      " - Pitch        :   0.930799\n",
      " - Roll         :   0.854324\n",
      " - RMS          :   1.026947\n",
      " - 99% Tile     :   5.556359\n",
      "Save output signals into checkpoint/Scene3-LSTM[SmallWindow]/sample/0056.npy\n"
     ]
    },
    {
     "name": "stderr",
     "output_type": "stream",
     "text": [
      "[0057/0100] Train: 100%|███████████████████████████████| 74/74 [00:08<00:00,  8.49it/s, loss 2.7796]\n",
      "[0057/0100] Validation: 100%|██████████████████████| 71/71 [00:03<00:00, 21.78it/s, val_loss 2.2100]\n",
      "[0058/0100] Train:   0%|                                                     | 0/74 [00:00<?, ?it/s]"
     ]
    },
    {
     "name": "stdout",
     "output_type": "stream",
     "text": [
      "                  validation\n",
      " - Yaw          :   1.110096\n",
      " - Pitch        :   0.865522\n",
      " - Roll         :   0.821204\n",
      " - RMS          :   0.940889\n",
      " - 99% Tile     :   5.487868\n",
      "Save output signals into checkpoint/Scene3-LSTM[SmallWindow]/sample/0057.npy\n"
     ]
    },
    {
     "name": "stderr",
     "output_type": "stream",
     "text": [
      "[0058/0100] Train: 100%|███████████████████████████████| 74/74 [00:08<00:00,  8.35it/s, loss 2.6499]\n",
      "[0058/0100] Validation: 100%|██████████████████████| 71/71 [00:02<00:00, 24.06it/s, val_loss 2.4720]\n",
      "[0059/0100] Train:   0%|                                                     | 0/74 [00:00<?, ?it/s]"
     ]
    },
    {
     "name": "stdout",
     "output_type": "stream",
     "text": [
      "val_loss is not improved for 1 epochs\n",
      "                  validation\n",
      " - Yaw          :   1.203188\n",
      " - Pitch        :   0.917065\n",
      " - Roll         :   1.046571\n",
      " - RMS          :   1.062070\n",
      " - 99% Tile     :   5.629373\n",
      "Save output signals into checkpoint/Scene3-LSTM[SmallWindow]/sample/0058.npy\n"
     ]
    },
    {
     "name": "stderr",
     "output_type": "stream",
     "text": [
      "[0059/0100] Train: 100%|███████████████████████████████| 74/74 [00:08<00:00,  9.08it/s, loss 2.5659]\n",
      "[0059/0100] Validation: 100%|██████████████████████| 71/71 [00:03<00:00, 18.82it/s, val_loss 2.2651]\n",
      "[0060/0100] Train:   0%|                                                     | 0/74 [00:00<?, ?it/s]"
     ]
    },
    {
     "name": "stdout",
     "output_type": "stream",
     "text": [
      "val_loss is not improved for 2 epochs\n",
      "                  validation\n",
      " - Yaw          :   1.114181\n",
      " - Pitch        :   0.948372\n",
      " - Roll         :   0.809861\n",
      " - RMS          :   0.965519\n",
      " - 99% Tile     :   5.573282\n",
      "Save output signals into checkpoint/Scene3-LSTM[SmallWindow]/sample/0059.npy\n"
     ]
    },
    {
     "name": "stderr",
     "output_type": "stream",
     "text": [
      "[0060/0100] Train: 100%|███████████████████████████████| 74/74 [00:08<00:00,  8.67it/s, loss 2.5144]\n",
      "[0060/0100] Validation: 100%|██████████████████████| 71/71 [00:03<00:00, 22.04it/s, val_loss 2.1844]\n",
      "[0061/0100] Train:   0%|                                                     | 0/74 [00:00<?, ?it/s]"
     ]
    },
    {
     "name": "stdout",
     "output_type": "stream",
     "text": [
      "                  validation\n",
      " - Yaw          :   1.062155\n",
      " - Pitch        :   0.841279\n",
      " - Roll         :   0.764483\n",
      " - RMS          :   0.898213\n",
      " - 99% Tile     :   5.568189\n",
      "Save output signals into checkpoint/Scene3-LSTM[SmallWindow]/sample/0060.npy\n"
     ]
    },
    {
     "name": "stderr",
     "output_type": "stream",
     "text": [
      "[0061/0100] Train: 100%|███████████████████████████████| 74/74 [00:09<00:00,  8.21it/s, loss 2.5433]\n",
      "[0061/0100] Validation: 100%|██████████████████████| 71/71 [00:03<00:00, 22.31it/s, val_loss 2.1980]\n",
      "[0062/0100] Train:   0%|                                                     | 0/74 [00:00<?, ?it/s]"
     ]
    },
    {
     "name": "stdout",
     "output_type": "stream",
     "text": [
      "val_loss is not improved for 1 epochs\n",
      "                  validation\n",
      " - Yaw          :   0.968619\n",
      " - Pitch        :   1.157787\n",
      " - Roll         :   0.835301\n",
      " - RMS          :   0.996063\n",
      " - 99% Tile     :   5.414684\n",
      "Save output signals into checkpoint/Scene3-LSTM[SmallWindow]/sample/0061.npy\n"
     ]
    },
    {
     "name": "stderr",
     "output_type": "stream",
     "text": [
      "[0062/0100] Train: 100%|███████████████████████████████| 74/74 [00:08<00:00,  8.25it/s, loss 2.4723]\n",
      "[0062/0100] Validation: 100%|██████████████████████| 71/71 [00:02<00:00, 25.20it/s, val_loss 2.0797]\n",
      "[0063/0100] Train:   0%|                                                     | 0/74 [00:00<?, ?it/s]"
     ]
    },
    {
     "name": "stdout",
     "output_type": "stream",
     "text": [
      "                  validation\n",
      " - Yaw          :   1.004242\n",
      " - Pitch        :   0.840536\n",
      " - Roll         :   0.736888\n",
      " - RMS          :   0.867565\n",
      " - 99% Tile     :   5.621723\n",
      "Save output signals into checkpoint/Scene3-LSTM[SmallWindow]/sample/0062.npy\n"
     ]
    },
    {
     "name": "stderr",
     "output_type": "stream",
     "text": [
      "[0063/0100] Train: 100%|███████████████████████████████| 74/74 [00:08<00:00,  8.96it/s, loss 2.3656]\n",
      "[0063/0100] Validation: 100%|██████████████████████| 71/71 [00:03<00:00, 18.20it/s, val_loss 1.9806]\n",
      "[0064/0100] Train:   0%|                                                     | 0/74 [00:00<?, ?it/s]"
     ]
    },
    {
     "name": "stdout",
     "output_type": "stream",
     "text": [
      "                  validation\n",
      " - Yaw          :   1.015783\n",
      " - Pitch        :   0.807327\n",
      " - Roll         :   0.687330\n",
      " - RMS          :   0.847745\n",
      " - 99% Tile     :   5.457969\n",
      "Save output signals into checkpoint/Scene3-LSTM[SmallWindow]/sample/0063.npy\n"
     ]
    },
    {
     "name": "stderr",
     "output_type": "stream",
     "text": [
      "[0064/0100] Train: 100%|███████████████████████████████| 74/74 [00:08<00:00,  8.49it/s, loss 2.2585]\n",
      "[0064/0100] Validation: 100%|██████████████████████| 71/71 [00:03<00:00, 22.92it/s, val_loss 2.0001]\n",
      "[0065/0100] Train:   0%|                                                     | 0/74 [00:00<?, ?it/s]"
     ]
    },
    {
     "name": "stdout",
     "output_type": "stream",
     "text": [
      "val_loss is not improved for 1 epochs\n",
      "                  validation\n",
      " - Yaw          :   1.043637\n",
      " - Pitch        :   0.819781\n",
      " - Roll         :   0.656550\n",
      " - RMS          :   0.854845\n",
      " - 99% Tile     :   5.313033\n",
      "Save output signals into checkpoint/Scene3-LSTM[SmallWindow]/sample/0064.npy\n"
     ]
    },
    {
     "name": "stderr",
     "output_type": "stream",
     "text": [
      "[0065/0100] Train: 100%|███████████████████████████████| 74/74 [00:09<00:00,  8.16it/s, loss 2.1757]\n",
      "[0065/0100] Validation: 100%|██████████████████████| 71/71 [00:03<00:00, 22.51it/s, val_loss 1.9457]\n",
      "[0066/0100] Train:   0%|                                                     | 0/74 [00:00<?, ?it/s]"
     ]
    },
    {
     "name": "stdout",
     "output_type": "stream",
     "text": [
      "                  validation\n",
      " - Yaw          :   1.058779\n",
      " - Pitch        :   0.788345\n",
      " - Roll         :   0.647194\n",
      " - RMS          :   0.848795\n",
      " - 99% Tile     :   5.396605\n",
      "Save output signals into checkpoint/Scene3-LSTM[SmallWindow]/sample/0065.npy\n"
     ]
    },
    {
     "name": "stderr",
     "output_type": "stream",
     "text": [
      "[0066/0100] Train: 100%|███████████████████████████████| 74/74 [00:08<00:00,  8.36it/s, loss 2.1080]\n",
      "[0066/0100] Validation: 100%|██████████████████████| 71/71 [00:03<00:00, 23.43it/s, val_loss 1.9727]\n",
      "[0067/0100] Train:   0%|                                                     | 0/74 [00:00<?, ?it/s]"
     ]
    },
    {
     "name": "stdout",
     "output_type": "stream",
     "text": [
      "val_loss is not improved for 1 epochs\n",
      "                  validation\n",
      " - Yaw          :   1.031848\n",
      " - Pitch        :   0.784795\n",
      " - Roll         :   0.634107\n",
      " - RMS          :   0.833208\n",
      " - 99% Tile     :   5.290892\n",
      "Save output signals into checkpoint/Scene3-LSTM[SmallWindow]/sample/0066.npy\n"
     ]
    },
    {
     "name": "stderr",
     "output_type": "stream",
     "text": [
      "[0067/0100] Train: 100%|███████████████████████████████| 74/74 [00:08<00:00,  8.66it/s, loss 2.1382]\n",
      "[0067/0100] Validation: 100%|██████████████████████| 71/71 [00:03<00:00, 19.25it/s, val_loss 1.9289]\n",
      "[0068/0100] Train:   0%|                                                     | 0/74 [00:00<?, ?it/s]"
     ]
    },
    {
     "name": "stdout",
     "output_type": "stream",
     "text": [
      "                  validation\n",
      " - Yaw          :   1.107593\n",
      " - Pitch        :   0.776395\n",
      " - Roll         :   0.624028\n",
      " - RMS          :   0.860031\n",
      " - 99% Tile     :   5.318757\n",
      "Save output signals into checkpoint/Scene3-LSTM[SmallWindow]/sample/0067.npy\n"
     ]
    },
    {
     "name": "stderr",
     "output_type": "stream",
     "text": [
      "[0068/0100] Train: 100%|███████████████████████████████| 74/74 [00:08<00:00,  8.79it/s, loss 2.1306]\n",
      "[0068/0100] Validation: 100%|██████████████████████| 71/71 [00:03<00:00, 21.84it/s, val_loss 1.9792]\n",
      "[0069/0100] Train:   0%|                                                     | 0/74 [00:00<?, ?it/s]"
     ]
    },
    {
     "name": "stdout",
     "output_type": "stream",
     "text": [
      "val_loss is not improved for 1 epochs\n",
      "                  validation\n",
      " - Yaw          :   0.943580\n",
      " - Pitch        :   0.854269\n",
      " - Roll         :   0.669508\n",
      " - RMS          :   0.830333\n",
      " - 99% Tile     :   5.351672\n",
      "Save output signals into checkpoint/Scene3-LSTM[SmallWindow]/sample/0068.npy\n"
     ]
    },
    {
     "name": "stderr",
     "output_type": "stream",
     "text": [
      "[0069/0100] Train: 100%|███████████████████████████████| 74/74 [00:08<00:00,  8.27it/s, loss 2.0678]\n",
      "[0069/0100] Validation: 100%|██████████████████████| 71/71 [00:03<00:00, 22.96it/s, val_loss 1.9473]\n",
      "[0070/0100] Train:   0%|                                                     | 0/74 [00:00<?, ?it/s]"
     ]
    },
    {
     "name": "stdout",
     "output_type": "stream",
     "text": [
      "val_loss is not improved for 2 epochs\n",
      "                  validation\n",
      " - Yaw          :   1.024644\n",
      " - Pitch        :   0.785854\n",
      " - Roll         :   0.620462\n",
      " - RMS          :   0.827130\n",
      " - 99% Tile     :   5.322841\n",
      "Save output signals into checkpoint/Scene3-LSTM[SmallWindow]/sample/0069.npy\n"
     ]
    },
    {
     "name": "stderr",
     "output_type": "stream",
     "text": [
      "[0070/0100] Train: 100%|███████████████████████████████| 74/74 [00:08<00:00,  8.34it/s, loss 1.9769]\n",
      "[0070/0100] Validation: 100%|██████████████████████| 71/71 [00:03<00:00, 23.27it/s, val_loss 2.0508]\n",
      "[0071/0100] Train:   0%|                                                     | 0/74 [00:00<?, ?it/s]"
     ]
    },
    {
     "name": "stdout",
     "output_type": "stream",
     "text": [
      "val_loss is not improved for 3 epochs\n",
      "                  validation\n",
      " - Yaw          :   1.041077\n",
      " - Pitch        :   0.791538\n",
      " - Roll         :   0.730151\n",
      " - RMS          :   0.864773\n",
      " - 99% Tile     :   5.339110\n",
      "Save output signals into checkpoint/Scene3-LSTM[SmallWindow]/sample/0070.npy\n"
     ]
    },
    {
     "name": "stderr",
     "output_type": "stream",
     "text": [
      "[0071/0100] Train: 100%|███████████████████████████████| 74/74 [00:08<00:00,  8.29it/s, loss 1.9159]\n",
      "[0071/0100] Validation: 100%|██████████████████████| 71/71 [00:04<00:00, 17.36it/s, val_loss 1.8360]\n",
      "[0072/0100] Train:   0%|                                                     | 0/74 [00:00<?, ?it/s]"
     ]
    },
    {
     "name": "stdout",
     "output_type": "stream",
     "text": [
      "                  validation\n",
      " - Yaw          :   0.960075\n",
      " - Pitch        :   0.751599\n",
      " - Roll         :   0.665341\n",
      " - RMS          :   0.801940\n",
      " - 99% Tile     :   5.187988\n",
      "Save output signals into checkpoint/Scene3-LSTM[SmallWindow]/sample/0071.npy\n"
     ]
    },
    {
     "name": "stderr",
     "output_type": "stream",
     "text": [
      "[0072/0100] Train: 100%|███████████████████████████████| 74/74 [00:08<00:00,  8.81it/s, loss 1.8865]\n",
      "[0072/0100] Validation: 100%|██████████████████████| 71/71 [00:03<00:00, 21.11it/s, val_loss 1.8337]\n",
      "[0073/0100] Train:   0%|                                                     | 0/74 [00:00<?, ?it/s]"
     ]
    },
    {
     "name": "stdout",
     "output_type": "stream",
     "text": [
      "                  validation\n",
      " - Yaw          :   0.964059\n",
      " - Pitch        :   0.769185\n",
      " - Roll         :   0.632982\n",
      " - RMS          :   0.800359\n",
      " - 99% Tile     :   5.186886\n",
      "Save output signals into checkpoint/Scene3-LSTM[SmallWindow]/sample/0072.npy\n"
     ]
    },
    {
     "name": "stderr",
     "output_type": "stream",
     "text": [
      "[0073/0100] Train: 100%|███████████████████████████████| 74/74 [00:08<00:00,  8.44it/s, loss 1.8486]\n",
      "[0073/0100] Validation: 100%|██████████████████████| 71/71 [00:02<00:00, 23.91it/s, val_loss 1.8867]\n",
      "[0074/0100] Train:   0%|                                                     | 0/74 [00:00<?, ?it/s]"
     ]
    },
    {
     "name": "stdout",
     "output_type": "stream",
     "text": [
      "val_loss is not improved for 1 epochs\n",
      "                  validation\n",
      " - Yaw          :   1.010219\n",
      " - Pitch        :   0.762247\n",
      " - Roll         :   0.598767\n",
      " - RMS          :   0.808308\n",
      " - 99% Tile     :   5.279568\n",
      "Save output signals into checkpoint/Scene3-LSTM[SmallWindow]/sample/0073.npy\n"
     ]
    },
    {
     "name": "stderr",
     "output_type": "stream",
     "text": [
      "[0074/0100] Train: 100%|███████████████████████████████| 74/74 [00:08<00:00,  8.24it/s, loss 1.8191]\n",
      "[0074/0100] Validation: 100%|██████████████████████| 71/71 [00:03<00:00, 22.70it/s, val_loss 1.8810]\n",
      "[0075/0100] Train:   0%|                                                     | 0/74 [00:00<?, ?it/s]"
     ]
    },
    {
     "name": "stdout",
     "output_type": "stream",
     "text": [
      "val_loss is not improved for 2 epochs\n",
      "                  validation\n",
      " - Yaw          :   0.961939\n",
      " - Pitch        :   0.784699\n",
      " - Roll         :   0.593369\n",
      " - RMS          :   0.794390\n",
      " - 99% Tile     :   5.223886\n",
      "Save output signals into checkpoint/Scene3-LSTM[SmallWindow]/sample/0074.npy\n"
     ]
    },
    {
     "name": "stderr",
     "output_type": "stream",
     "text": [
      "[0075/0100] Train: 100%|███████████████████████████████| 74/74 [00:08<00:00,  8.75it/s, loss 1.8101]\n",
      "[0075/0100] Validation: 100%|██████████████████████| 71/71 [00:02<00:00, 26.15it/s, val_loss 1.8512]\n",
      "[0076/0100] Train:   0%|                                                     | 0/74 [00:00<?, ?it/s]"
     ]
    },
    {
     "name": "stdout",
     "output_type": "stream",
     "text": [
      "val_loss is not improved for 3 epochs\n",
      "                  validation\n",
      " - Yaw          :   1.026454\n",
      " - Pitch        :   0.730765\n",
      " - Roll         :   0.617310\n",
      " - RMS          :   0.810081\n",
      " - 99% Tile     :   5.245778\n",
      "Save output signals into checkpoint/Scene3-LSTM[SmallWindow]/sample/0075.npy\n"
     ]
    },
    {
     "name": "stderr",
     "output_type": "stream",
     "text": [
      "[0076/0100] Train: 100%|███████████████████████████████| 74/74 [00:09<00:00,  7.91it/s, loss 1.7032]\n",
      "[0076/0100] Validation: 100%|██████████████████████| 71/71 [00:02<00:00, 23.68it/s, val_loss 1.9401]\n",
      "[0077/0100] Train:   0%|                                                     | 0/74 [00:00<?, ?it/s]"
     ]
    },
    {
     "name": "stdout",
     "output_type": "stream",
     "text": [
      "val_loss is not improved for 4 epochs\n",
      "                  validation\n",
      " - Yaw          :   1.086997\n",
      " - Pitch        :   0.866684\n",
      " - Roll         :   0.579381\n",
      " - RMS          :   0.869557\n",
      " - 99% Tile     :   5.159582\n",
      "Save output signals into checkpoint/Scene3-LSTM[SmallWindow]/sample/0076.npy\n"
     ]
    },
    {
     "name": "stderr",
     "output_type": "stream",
     "text": [
      "[0077/0100] Train: 100%|███████████████████████████████| 74/74 [00:08<00:00,  8.36it/s, loss 1.7047]\n",
      "[0077/0100] Validation: 100%|██████████████████████| 71/71 [00:03<00:00, 22.29it/s, val_loss 1.7885]\n",
      "[0078/0100] Train:   0%|                                                     | 0/74 [00:00<?, ?it/s]"
     ]
    },
    {
     "name": "stdout",
     "output_type": "stream",
     "text": [
      "                  validation\n",
      " - Yaw          :   0.898445\n",
      " - Pitch        :   0.800316\n",
      " - Roll         :   0.612519\n",
      " - RMS          :   0.779506\n",
      " - 99% Tile     :   5.213444\n",
      "Save output signals into checkpoint/Scene3-LSTM[SmallWindow]/sample/0077.npy\n"
     ]
    },
    {
     "name": "stderr",
     "output_type": "stream",
     "text": [
      "[0078/0100] Train: 100%|███████████████████████████████| 74/74 [00:08<00:00,  8.34it/s, loss 1.6666]\n",
      "[0078/0100] Validation: 100%|██████████████████████| 71/71 [00:03<00:00, 22.85it/s, val_loss 1.8378]\n",
      "[0079/0100] Train:   0%|                                                     | 0/74 [00:00<?, ?it/s]"
     ]
    },
    {
     "name": "stdout",
     "output_type": "stream",
     "text": [
      "val_loss is not improved for 1 epochs\n",
      "                  validation\n",
      " - Yaw          :   0.922428\n",
      " - Pitch        :   0.774228\n",
      " - Roll         :   0.573976\n",
      " - RMS          :   0.770228\n",
      " - 99% Tile     :   5.375920\n",
      "Save output signals into checkpoint/Scene3-LSTM[SmallWindow]/sample/0078.npy\n"
     ]
    },
    {
     "name": "stderr",
     "output_type": "stream",
     "text": [
      "[0079/0100] Train: 100%|███████████████████████████████| 74/74 [00:08<00:00,  8.76it/s, loss 1.6422]\n",
      "[0079/0100] Validation: 100%|██████████████████████| 71/71 [00:03<00:00, 23.19it/s, val_loss 1.8242]\n",
      "[0080/0100] Train:   0%|                                                     | 0/74 [00:00<?, ?it/s]"
     ]
    },
    {
     "name": "stdout",
     "output_type": "stream",
     "text": [
      "val_loss is not improved for 2 epochs\n",
      "                  validation\n",
      " - Yaw          :   0.926436\n",
      " - Pitch        :   0.868243\n",
      " - Roll         :   0.566267\n",
      " - RMS          :   0.802660\n",
      " - 99% Tile     :   5.235766\n",
      "Save output signals into checkpoint/Scene3-LSTM[SmallWindow]/sample/0079.npy\n"
     ]
    },
    {
     "name": "stderr",
     "output_type": "stream",
     "text": [
      "[0080/0100] Train: 100%|███████████████████████████████| 74/74 [00:08<00:00,  8.27it/s, loss 1.5990]\n",
      "[0080/0100] Validation: 100%|██████████████████████| 71/71 [00:03<00:00, 23.15it/s, val_loss 1.7105]\n",
      "[0081/0100] Train:   0%|                                                     | 0/74 [00:00<?, ?it/s]"
     ]
    },
    {
     "name": "stdout",
     "output_type": "stream",
     "text": [
      "                  validation\n",
      " - Yaw          :   0.918583\n",
      " - Pitch        :   0.776701\n",
      " - Roll         :   0.560993\n",
      " - RMS          :   0.766327\n",
      " - 99% Tile     :   5.198105\n",
      "Save output signals into checkpoint/Scene3-LSTM[SmallWindow]/sample/0080.npy\n"
     ]
    },
    {
     "name": "stderr",
     "output_type": "stream",
     "text": [
      "[0081/0100] Train: 100%|███████████████████████████████| 74/74 [00:08<00:00,  8.41it/s, loss 1.5678]\n",
      "[0081/0100] Validation: 100%|██████████████████████| 71/71 [00:03<00:00, 22.40it/s, val_loss 1.8277]\n",
      "[0082/0100] Train:   0%|                                                     | 0/74 [00:00<?, ?it/s]"
     ]
    },
    {
     "name": "stdout",
     "output_type": "stream",
     "text": [
      "val_loss is not improved for 1 epochs\n",
      "                  validation\n",
      " - Yaw          :   0.918041\n",
      " - Pitch        :   0.702837\n",
      " - Roll         :   0.599660\n",
      " - RMS          :   0.751969\n",
      " - 99% Tile     :   5.117170\n",
      "Save output signals into checkpoint/Scene3-LSTM[SmallWindow]/sample/0081.npy\n"
     ]
    },
    {
     "name": "stderr",
     "output_type": "stream",
     "text": [
      "[0082/0100] Train: 100%|███████████████████████████████| 74/74 [00:08<00:00,  8.25it/s, loss 1.5538]\n",
      "[0082/0100] Validation: 100%|██████████████████████| 71/71 [00:02<00:00, 24.02it/s, val_loss 1.9171]\n",
      "[0083/0100] Train:   0%|                                                     | 0/74 [00:00<?, ?it/s]"
     ]
    },
    {
     "name": "stdout",
     "output_type": "stream",
     "text": [
      "val_loss is not improved for 2 epochs\n",
      "                  validation\n",
      " - Yaw          :   1.018766\n",
      " - Pitch        :   0.786901\n",
      " - Roll         :   0.601185\n",
      " - RMS          :   0.820268\n",
      " - 99% Tile     :   5.368444\n",
      "Save output signals into checkpoint/Scene3-LSTM[SmallWindow]/sample/0082.npy\n"
     ]
    },
    {
     "name": "stderr",
     "output_type": "stream",
     "text": [
      "[0083/0100] Train: 100%|███████████████████████████████| 74/74 [00:08<00:00,  8.59it/s, loss 1.5157]\n",
      "[0083/0100] Validation: 100%|██████████████████████| 71/71 [00:02<00:00, 25.67it/s, val_loss 1.7949]\n",
      "[0084/0100] Train:   0%|                                                     | 0/74 [00:00<?, ?it/s]"
     ]
    },
    {
     "name": "stdout",
     "output_type": "stream",
     "text": [
      "val_loss is not improved for 3 epochs\n",
      "                  validation\n",
      " - Yaw          :   0.967986\n",
      " - Pitch        :   0.710982\n",
      " - Roll         :   0.592845\n",
      " - RMS          :   0.773295\n",
      " - 99% Tile     :   5.148663\n",
      "Save output signals into checkpoint/Scene3-LSTM[SmallWindow]/sample/0083.npy\n"
     ]
    },
    {
     "name": "stderr",
     "output_type": "stream",
     "text": [
      "[0084/0100] Train: 100%|███████████████████████████████| 74/74 [00:08<00:00,  8.98it/s, loss 1.4800]\n",
      "[0084/0100] Validation: 100%|██████████████████████| 71/71 [00:03<00:00, 22.41it/s, val_loss 1.9919]\n",
      "[0085/0100] Train:   0%|                                                     | 0/74 [00:00<?, ?it/s]"
     ]
    },
    {
     "name": "stdout",
     "output_type": "stream",
     "text": [
      "val_loss is not improved for 4 epochs\n",
      "                  validation\n",
      " - Yaw          :   0.957544\n",
      " - Pitch        :   0.783356\n",
      " - Roll         :   0.557542\n",
      " - RMS          :   0.783452\n",
      " - 99% Tile     :   5.313729\n",
      "Save output signals into checkpoint/Scene3-LSTM[SmallWindow]/sample/0084.npy\n"
     ]
    },
    {
     "name": "stderr",
     "output_type": "stream",
     "text": [
      "[0085/0100] Train: 100%|███████████████████████████████| 74/74 [00:08<00:00,  8.83it/s, loss 1.5016]\n",
      "[0085/0100] Validation: 100%|██████████████████████| 71/71 [00:03<00:00, 23.48it/s, val_loss 1.7916]\n",
      "[0086/0100] Train:   0%|                                                     | 0/74 [00:00<?, ?it/s]"
     ]
    },
    {
     "name": "stdout",
     "output_type": "stream",
     "text": [
      "Decaying lr from 0.0005 to 0.00025 because val_loss did not improved for 5 epochs\n",
      "val_loss is not improved for 5 epochs\n",
      "                  validation\n",
      " - Yaw          :   0.966516\n",
      " - Pitch        :   0.720043\n",
      " - Roll         :   0.566960\n",
      " - RMS          :   0.768995\n",
      " - 99% Tile     :   5.159166\n",
      "Save output signals into checkpoint/Scene3-LSTM[SmallWindow]/sample/0085.npy\n"
     ]
    },
    {
     "name": "stderr",
     "output_type": "stream",
     "text": [
      "[0086/0100] Train: 100%|███████████████████████████████| 74/74 [00:08<00:00,  8.38it/s, loss 1.3901]\n",
      "[0086/0100] Validation: 100%|██████████████████████| 71/71 [00:03<00:00, 22.56it/s, val_loss 1.7145]\n",
      "[0087/0100] Train:   0%|                                                     | 0/74 [00:00<?, ?it/s]"
     ]
    },
    {
     "name": "stdout",
     "output_type": "stream",
     "text": [
      "val_loss is not improved for 6 epochs\n",
      "                  validation\n",
      " - Yaw          :   0.987648\n",
      " - Pitch        :   0.721064\n",
      " - Roll         :   0.534260\n",
      " - RMS          :   0.770458\n",
      " - 99% Tile     :   5.106554\n",
      "Save output signals into checkpoint/Scene3-LSTM[SmallWindow]/sample/0086.npy\n"
     ]
    },
    {
     "name": "stderr",
     "output_type": "stream",
     "text": [
      "[0087/0100] Train: 100%|███████████████████████████████| 74/74 [00:08<00:00,  8.64it/s, loss 1.3190]\n",
      "[0087/0100] Validation: 100%|██████████████████████| 71/71 [00:03<00:00, 22.54it/s, val_loss 1.6754]\n",
      "[0088/0100] Train:   0%|                                                     | 0/74 [00:00<?, ?it/s]"
     ]
    },
    {
     "name": "stdout",
     "output_type": "stream",
     "text": [
      "                  validation\n",
      " - Yaw          :   0.899246\n",
      " - Pitch        :   0.698286\n",
      " - Roll         :   0.531636\n",
      " - RMS          :   0.725461\n",
      " - 99% Tile     :   5.145348\n",
      "Save output signals into checkpoint/Scene3-LSTM[SmallWindow]/sample/0087.npy\n"
     ]
    },
    {
     "name": "stderr",
     "output_type": "stream",
     "text": [
      "[0088/0100] Train: 100%|███████████████████████████████| 74/74 [00:08<00:00,  9.08it/s, loss 1.3086]\n",
      "[0088/0100] Validation: 100%|██████████████████████| 71/71 [00:03<00:00, 22.27it/s, val_loss 1.7339]\n",
      "[0089/0100] Train:   0%|                                                     | 0/74 [00:00<?, ?it/s]"
     ]
    },
    {
     "name": "stdout",
     "output_type": "stream",
     "text": [
      "val_loss is not improved for 1 epochs\n",
      "                  validation\n",
      " - Yaw          :   0.967340\n",
      " - Pitch        :   0.705789\n",
      " - Roll         :   0.543397\n",
      " - RMS          :   0.759203\n",
      " - 99% Tile     :   5.203990\n",
      "Save output signals into checkpoint/Scene3-LSTM[SmallWindow]/sample/0088.npy\n"
     ]
    },
    {
     "name": "stderr",
     "output_type": "stream",
     "text": [
      "[0089/0100] Train: 100%|███████████████████████████████| 74/74 [00:08<00:00,  8.75it/s, loss 1.2899]\n",
      "[0089/0100] Validation: 100%|██████████████████████| 71/71 [00:03<00:00, 22.67it/s, val_loss 1.7207]\n",
      "[0090/0100] Train:   0%|                                                     | 0/74 [00:00<?, ?it/s]"
     ]
    },
    {
     "name": "stdout",
     "output_type": "stream",
     "text": [
      "val_loss is not improved for 2 epochs\n",
      "                  validation\n",
      " - Yaw          :   0.941448\n",
      " - Pitch        :   0.695856\n",
      " - Roll         :   0.612795\n",
      " - RMS          :   0.762902\n",
      " - 99% Tile     :   5.118718\n",
      "Save output signals into checkpoint/Scene3-LSTM[SmallWindow]/sample/0089.npy\n"
     ]
    },
    {
     "name": "stderr",
     "output_type": "stream",
     "text": [
      "[0090/0100] Train: 100%|███████████████████████████████| 74/74 [00:08<00:00,  8.31it/s, loss 1.2800]\n",
      "[0090/0100] Validation: 100%|██████████████████████| 71/71 [00:03<00:00, 22.98it/s, val_loss 1.7603]\n",
      "[0091/0100] Train:   0%|                                                     | 0/74 [00:00<?, ?it/s]"
     ]
    },
    {
     "name": "stdout",
     "output_type": "stream",
     "text": [
      "val_loss is not improved for 3 epochs\n",
      "                  validation\n",
      " - Yaw          :   0.924040\n",
      " - Pitch        :   0.708656\n",
      " - Roll         :   0.526510\n",
      " - RMS          :   0.737847\n",
      " - 99% Tile     :   5.278151\n",
      "Save output signals into checkpoint/Scene3-LSTM[SmallWindow]/sample/0090.npy\n"
     ]
    },
    {
     "name": "stderr",
     "output_type": "stream",
     "text": [
      "[0091/0100] Train: 100%|███████████████████████████████| 74/74 [00:08<00:00,  8.72it/s, loss 1.2679]\n",
      "[0091/0100] Validation: 100%|██████████████████████| 71/71 [00:03<00:00, 22.19it/s, val_loss 1.7746]\n",
      "[0092/0100] Train:   0%|                                                     | 0/74 [00:00<?, ?it/s]"
     ]
    },
    {
     "name": "stdout",
     "output_type": "stream",
     "text": [
      "val_loss is not improved for 4 epochs\n",
      "                  validation\n",
      " - Yaw          :   0.950525\n",
      " - Pitch        :   0.685274\n",
      " - Roll         :   0.523163\n",
      " - RMS          :   0.740900\n",
      " - 99% Tile     :   5.268543\n",
      "Save output signals into checkpoint/Scene3-LSTM[SmallWindow]/sample/0091.npy\n"
     ]
    },
    {
     "name": "stderr",
     "output_type": "stream",
     "text": [
      "[0092/0100] Train: 100%|███████████████████████████████| 74/74 [00:08<00:00,  9.19it/s, loss 1.2490]\n",
      "[0092/0100] Validation: 100%|██████████████████████| 71/71 [00:03<00:00, 22.55it/s, val_loss 1.8407]\n",
      "[0093/0100] Train:   0%|                                                     | 0/74 [00:00<?, ?it/s]"
     ]
    },
    {
     "name": "stdout",
     "output_type": "stream",
     "text": [
      "Decaying lr from 0.00025 to 0.000125 because val_loss did not improved for 5 epochs\n",
      "val_loss is not improved for 5 epochs\n",
      "                  validation\n",
      " - Yaw          :   0.980902\n",
      " - Pitch        :   0.728035\n",
      " - Roll         :   0.546695\n",
      " - RMS          :   0.772675\n",
      " - 99% Tile     :   5.213603\n",
      "Save output signals into checkpoint/Scene3-LSTM[SmallWindow]/sample/0092.npy\n"
     ]
    },
    {
     "name": "stderr",
     "output_type": "stream",
     "text": [
      "[0093/0100] Train: 100%|███████████████████████████████| 74/74 [00:08<00:00,  8.72it/s, loss 1.2200]\n",
      "[0093/0100] Validation: 100%|██████████████████████| 71/71 [00:03<00:00, 23.45it/s, val_loss 1.7556]\n",
      "[0094/0100] Train:   0%|                                                     | 0/74 [00:00<?, ?it/s]"
     ]
    },
    {
     "name": "stdout",
     "output_type": "stream",
     "text": [
      "val_loss is not improved for 6 epochs\n",
      "                  validation\n",
      " - Yaw          :   0.877807\n",
      " - Pitch        :   0.695783\n",
      " - Roll         :   0.550385\n",
      " - RMS          :   0.720551\n",
      " - 99% Tile     :   5.249864\n",
      "Save output signals into checkpoint/Scene3-LSTM[SmallWindow]/sample/0093.npy\n"
     ]
    },
    {
     "name": "stderr",
     "output_type": "stream",
     "text": [
      "[0094/0100] Train: 100%|███████████████████████████████| 74/74 [00:08<00:00,  8.26it/s, loss 1.2147]\n",
      "[0094/0100] Validation: 100%|██████████████████████| 71/71 [00:03<00:00, 22.59it/s, val_loss 1.7259]\n",
      "[0095/0100] Train:   0%|                                                     | 0/74 [00:00<?, ?it/s]"
     ]
    },
    {
     "name": "stdout",
     "output_type": "stream",
     "text": [
      "val_loss is not improved for 7 epochs\n",
      "                  validation\n",
      " - Yaw          :   0.887959\n",
      " - Pitch        :   0.678174\n",
      " - Roll         :   0.518729\n",
      " - RMS          :   0.711213\n",
      " - 99% Tile     :   5.225448\n",
      "Save output signals into checkpoint/Scene3-LSTM[SmallWindow]/sample/0094.npy\n"
     ]
    },
    {
     "name": "stderr",
     "output_type": "stream",
     "text": [
      "[0095/0100] Train: 100%|███████████████████████████████| 74/74 [00:08<00:00,  8.57it/s, loss 1.1997]\n",
      "[0095/0100] Validation: 100%|██████████████████████| 71/71 [00:02<00:00, 24.50it/s, val_loss 1.7717]\n",
      "[0096/0100] Train:   0%|                                                     | 0/74 [00:00<?, ?it/s]"
     ]
    },
    {
     "name": "stdout",
     "output_type": "stream",
     "text": [
      "val_loss is not improved for 8 epochs\n",
      "                  validation\n",
      " - Yaw          :   0.881272\n",
      " - Pitch        :   0.681505\n",
      " - Roll         :   0.524146\n",
      " - RMS          :   0.710825\n",
      " - 99% Tile     :   5.226421\n",
      "Save output signals into checkpoint/Scene3-LSTM[SmallWindow]/sample/0095.npy\n"
     ]
    },
    {
     "name": "stderr",
     "output_type": "stream",
     "text": [
      "[0096/0100] Train: 100%|███████████████████████████████| 74/74 [00:08<00:00,  9.08it/s, loss 1.2031]\n",
      "[0096/0100] Validation: 100%|██████████████████████| 71/71 [00:03<00:00, 21.88it/s, val_loss 1.7039]\n",
      "[0097/0100] Train:   0%|                                                     | 0/74 [00:00<?, ?it/s]"
     ]
    },
    {
     "name": "stdout",
     "output_type": "stream",
     "text": [
      "val_loss is not improved for 9 epochs\n",
      "                  validation\n",
      " - Yaw          :   0.857526\n",
      " - Pitch        :   0.695253\n",
      " - Roll         :   0.520396\n",
      " - RMS          :   0.704637\n",
      " - 99% Tile     :   5.238873\n",
      "Save output signals into checkpoint/Scene3-LSTM[SmallWindow]/sample/0096.npy\n"
     ]
    },
    {
     "name": "stderr",
     "output_type": "stream",
     "text": [
      "[0097/0100] Train: 100%|███████████████████████████████| 74/74 [00:07<00:00,  9.54it/s, loss 1.1764]\n",
      "[0097/0100] Validation: 100%|██████████████████████| 71/71 [00:02<00:00, 29.05it/s, val_loss 1.6589]\n",
      "[0098/0100] Train:   0%|                                                     | 0/74 [00:00<?, ?it/s]"
     ]
    },
    {
     "name": "stdout",
     "output_type": "stream",
     "text": [
      "                  validation\n",
      " - Yaw          :   0.836532\n",
      " - Pitch        :   0.665864\n",
      " - Roll         :   0.524844\n",
      " - RMS          :   0.687658\n",
      " - 99% Tile     :   5.218097\n",
      "Save output signals into checkpoint/Scene3-LSTM[SmallWindow]/sample/0097.npy\n"
     ]
    },
    {
     "name": "stderr",
     "output_type": "stream",
     "text": [
      "[0098/0100] Train: 100%|███████████████████████████████| 74/74 [00:06<00:00, 12.10it/s, loss 1.1576]\n",
      "[0098/0100] Validation: 100%|██████████████████████| 71/71 [00:02<00:00, 31.84it/s, val_loss 1.7392]\n",
      "[0099/0100] Train:   0%|                                                     | 0/74 [00:00<?, ?it/s]"
     ]
    },
    {
     "name": "stdout",
     "output_type": "stream",
     "text": [
      "val_loss is not improved for 1 epochs\n",
      "                  validation\n",
      " - Yaw          :   0.872260\n",
      " - Pitch        :   0.709793\n",
      " - Roll         :   0.524942\n",
      " - RMS          :   0.716521\n",
      " - 99% Tile     :   5.184483\n",
      "Save output signals into checkpoint/Scene3-LSTM[SmallWindow]/sample/0098.npy\n"
     ]
    },
    {
     "name": "stderr",
     "output_type": "stream",
     "text": [
      "[0099/0100] Train: 100%|███████████████████████████████| 74/74 [00:05<00:00, 12.81it/s, loss 1.1748]\n",
      "[0099/0100] Validation: 100%|██████████████████████| 71/71 [00:02<00:00, 28.74it/s, val_loss 1.6810]\n",
      "[0100/0100] Train:   0%|                                                     | 0/74 [00:00<?, ?it/s]"
     ]
    },
    {
     "name": "stdout",
     "output_type": "stream",
     "text": [
      "val_loss is not improved for 2 epochs\n",
      "                  validation\n",
      " - Yaw          :   0.869272\n",
      " - Pitch        :   0.712595\n",
      " - Roll         :   0.535496\n",
      " - RMS          :   0.718838\n",
      " - 99% Tile     :   5.173627\n",
      "Save output signals into checkpoint/Scene3-LSTM[SmallWindow]/sample/0099.npy\n"
     ]
    },
    {
     "name": "stderr",
     "output_type": "stream",
     "text": [
      "[0100/0100] Train: 100%|███████████████████████████████| 74/74 [00:05<00:00, 12.70it/s, loss 1.1427]\n",
      "[0100/0100] Validation: 100%|██████████████████████| 71/71 [00:02<00:00, 29.60it/s, val_loss 1.7645]"
     ]
    },
    {
     "name": "stdout",
     "output_type": "stream",
     "text": [
      "val_loss is not improved for 3 epochs\n",
      "                  validation\n",
      " - Yaw          :   0.911338\n",
      " - Pitch        :   0.678851\n",
      " - Roll         :   0.518758\n",
      " - RMS          :   0.721223\n",
      " - 99% Tile     :   5.168081\n",
      "Save output signals into checkpoint/Scene3-LSTM[SmallWindow]/sample/0100.npy\n"
     ]
    },
    {
     "name": "stderr",
     "output_type": "stream",
     "text": [
      "\n"
     ]
    }
   ],
   "source": [
    "trainer.fit(ds_train, ds_test, num_epochs=100, batch_size=256, shuffle=True, pin_memory=True)"
   ]
  },
  {
   "cell_type": "code",
   "execution_count": null,
   "metadata": {},
   "outputs": [],
   "source": []
  }
 ],
 "metadata": {
  "kernelspec": {
   "display_name": "torch",
   "language": "python",
   "name": "torch"
  },
  "language_info": {
   "codemirror_mode": {
    "name": "ipython",
    "version": 3
   },
   "file_extension": ".py",
   "mimetype": "text/x-python",
   "name": "python",
   "nbconvert_exporter": "python",
   "pygments_lexer": "ipython3",
   "version": "3.7.9"
  }
 },
 "nbformat": 4,
 "nbformat_minor": 4
}
