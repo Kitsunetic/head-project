{
 "cells": [
  {
   "cell_type": "code",
   "execution_count": 1,
   "metadata": {},
   "outputs": [],
   "source": [
    "from pathlib import Path\n",
    "from torch.utils.data import Dataset\n",
    "import numpy as np\n",
    "import pandas as pd"
   ]
  },
  {
   "cell_type": "code",
   "execution_count": 3,
   "metadata": {},
   "outputs": [],
   "source": [
    "XCOLS = ['input_orientation_yaw', 'input_orientation_pitch', 'input_orientation_roll', \n",
    "         'acceleration_x', 'acceleration_y', 'acceleration_z']\n",
    "YCOLS = ['input_orientation_yaw', 'input_orientation_pitch', 'input_orientation_roll']"
   ]
  },
  {
   "cell_type": "code",
   "execution_count": 4,
   "metadata": {},
   "outputs": [],
   "source": [
    "train_files = sorted(list(Path('data/1116').glob('*scene3_0.csv')))\n",
    "test_files = sorted(list(Path('data/1116').glob('*scene3_1.csv')))"
   ]
  },
  {
   "cell_type": "code",
   "execution_count": 5,
   "metadata": {},
   "outputs": [],
   "source": [
    "window_size = 60\n",
    "stride = 1"
   ]
  },
  {
   "cell_type": "markdown",
   "metadata": {},
   "source": [
    "# Make Train Dataset"
   ]
  },
  {
   "cell_type": "code",
   "execution_count": 15,
   "metadata": {},
   "outputs": [
    {
     "name": "stdout",
     "output_type": "stream",
     "text": [
      "data/1116/user1_scene3_0.csv\n",
      "data/1116/user2_scene3_0.csv\n",
      "data/1116/user3_scene3_0.csv\n",
      "data/1116/user4_scene3_0.csv\n",
      "data/1116/user5_scene3_0.csv\n",
      "data/1116/user6_scene3_0.csv\n",
      "data/1116/user7_scene3_0.csv\n"
     ]
    }
   ],
   "source": [
    "X_train = []\n",
    "Y_train = []\n",
    "for f in train_files:\n",
    "    print(f)\n",
    "    csv = pd.read_csv(f)\n",
    "    i = 0\n",
    "    while i <= len(csv) - window_size * 2:\n",
    "        X_train.append(csv.iloc[i:i + window_size][XCOLS].to_numpy())\n",
    "        Y_train.append(csv.iloc[i + 18:i + window_size + 18][YCOLS].to_numpy())\n",
    "        i += stride"
   ]
  },
  {
   "cell_type": "code",
   "execution_count": 16,
   "metadata": {},
   "outputs": [],
   "source": [
    "np.savez_compressed(f'data/1116/train-win_{window_size}-m2m.npz', X=X_train, Y=Y_train)"
   ]
  },
  {
   "cell_type": "code",
   "execution_count": 17,
   "metadata": {},
   "outputs": [
    {
     "data": {
      "text/plain": [
       "(60, 3)"
      ]
     },
     "execution_count": 17,
     "metadata": {},
     "output_type": "execute_result"
    }
   ],
   "source": [
    "Y_train[2].shape"
   ]
  },
  {
   "cell_type": "markdown",
   "metadata": {},
   "source": [
    "# Make Test Dataset"
   ]
  },
  {
   "cell_type": "code",
   "execution_count": 18,
   "metadata": {},
   "outputs": [
    {
     "name": "stdout",
     "output_type": "stream",
     "text": [
      "data/1116/user1_scene3_1.csv\n",
      "data/1116/user2_scene3_1.csv\n",
      "data/1116/user3_scene3_1.csv\n",
      "data/1116/user4_scene3_1.csv\n",
      "data/1116/user5_scene3_1.csv\n",
      "data/1116/user6_scene3_1.csv\n",
      "data/1116/user7_scene3_1.csv\n"
     ]
    }
   ],
   "source": [
    "X_train = []\n",
    "Y_train = []\n",
    "for f in test_files:\n",
    "    print(f)\n",
    "    csv = pd.read_csv(f)\n",
    "    i = 0\n",
    "    while i <= len(csv) - window_size * 2:\n",
    "        X_train.append(csv.iloc[i:i + window_size][XCOLS].to_numpy())\n",
    "        Y_train.append(csv.iloc[i + 18:i + window_size + 18][YCOLS].to_numpy())\n",
    "        i += stride"
   ]
  },
  {
   "cell_type": "code",
   "execution_count": 19,
   "metadata": {},
   "outputs": [],
   "source": [
    "np.savez_compressed(f'data/1116/test-win_{window_size}-m2m.npz', X=X_train, Y=Y_train)"
   ]
  },
  {
   "cell_type": "code",
   "execution_count": 20,
   "metadata": {},
   "outputs": [
    {
     "data": {
      "text/plain": [
       "(60, 6)"
      ]
     },
     "execution_count": 20,
     "metadata": {},
     "output_type": "execute_result"
    }
   ],
   "source": [
    "X_train[0].shape"
   ]
  },
  {
   "cell_type": "code",
   "execution_count": null,
   "metadata": {},
   "outputs": [],
   "source": []
  }
 ],
 "metadata": {
  "kernelspec": {
   "display_name": "torch",
   "language": "python",
   "name": "torch"
  },
  "language_info": {
   "codemirror_mode": {
    "name": "ipython",
    "version": 3
   },
   "file_extension": ".py",
   "mimetype": "text/x-python",
   "name": "python",
   "nbconvert_exporter": "python",
   "pygments_lexer": "ipython3",
   "version": "3.7.9"
  }
 },
 "nbformat": 4,
 "nbformat_minor": 4
}
