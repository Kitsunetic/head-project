{
 "cells": [
  {
   "cell_type": "code",
   "execution_count": 1,
   "metadata": {},
   "outputs": [],
   "source": [
    "from pathlib import Path\n",
    "import numpy as np\n",
    "import pandas as pd"
   ]
  },
  {
   "cell_type": "code",
   "execution_count": null,
   "metadata": {},
   "outputs": [],
   "source": [
    "class CSVSequentialDataset(Dataset):\n",
    "    def __init__(self, csvfile, window_size, stride):\n",
    "        super(CSVSequentialDataset, self).__init__()\n",
    "\n",
    "        self.xcols = ['input_orientation_yaw', 'input_orientation_pitch', 'input_orientation_roll',\n",
    "                      'acceleration_x', 'acceleration_y', 'acceleration_z']\n",
    "        self.ycols = ['input_orientation_yaw', 'input_orientation_pitch', 'input_orientation_roll']\n",
    "\n",
    "        self.csv = pd.read_csv(csvfile)\n",
    "        self.window_size = window_size\n",
    "        \n",
    "        self.indexes = []\n",
    "        i = 0\n",
    "        while i <= len(self.csv) - window_size * 2:\n",
    "            self.indexes.append((i, i + window_size))\n",
    "            i += stride\n",
    "\n",
    "    def __len__(self):\n",
    "        return len(self.indexes)\n",
    "\n",
    "    def __getitem__(self, idx):\n",
    "        sx, tx = self.indexes[idx]\n",
    "        ty = tx + 18\n",
    "        x = self.csv.iloc[sx:tx][self.xcols].to_numpy()\n",
    "        y = self.csv.iloc[ty][self.ycols]\n",
    "\n",
    "        x = torch.tensor(x, dtype=torch.float32) # 300, 6\n",
    "        y = torch.tensor(y, dtype=torch.float32) # 1, 3\n",
    "\n",
    "        return x, y"
   ]
  },
  {
   "cell_type": "code",
   "execution_count": 3,
   "metadata": {},
   "outputs": [],
   "source": [
    "XCOLS = ['input_orientation_yaw', 'input_orientation_pitch', 'input_orientation_roll', \n",
    "         'acceleration_x', 'acceleration_y', 'acceleration_z']\n",
    "YCOLS = ['input_orientation_yaw', 'input_orientation_pitch', 'input_orientation_roll']"
   ]
  },
  {
   "cell_type": "code",
   "execution_count": 2,
   "metadata": {},
   "outputs": [],
   "source": [
    "train_files = sorted(list(Path('data/1116').glob('*scene3_0.csv')))\n",
    "test_files = sorted(list(Path('data/1116').glob('*scene3_1.csv')))"
   ]
  },
  {
   "cell_type": "code",
   "execution_count": 23,
   "metadata": {},
   "outputs": [],
   "source": [
    "window_size = 300\n",
    "stride = 1"
   ]
  },
  {
   "cell_type": "code",
   "execution_count": 24,
   "metadata": {},
   "outputs": [
    {
     "name": "stdout",
     "output_type": "stream",
     "text": [
      "data/1116/user1_scene3_0.csv\n",
      "data/1116/user2_scene3_0.csv\n",
      "data/1116/user3_scene3_0.csv\n",
      "data/1116/user4_scene3_0.csv\n",
      "data/1116/user5_scene3_0.csv\n",
      "data/1116/user6_scene3_0.csv\n",
      "data/1116/user7_scene3_0.csv\n"
     ]
    }
   ],
   "source": [
    "X_train = []\n",
    "Y_train = []\n",
    "for f in train_files:\n",
    "    print(f)\n",
    "    csv = pd.read_csv(f)\n",
    "    i = 0\n",
    "    while i <= len(csv) - window_size * 2:\n",
    "        X_train.append(csv.iloc[i:i + window_size][XCOLS].to_numpy())\n",
    "        Y_train.append(csv.iloc[i + window_size + 18][YCOLS].to_numpy())\n",
    "        i += stride"
   ]
  },
  {
   "cell_type": "code",
   "execution_count": 25,
   "metadata": {},
   "outputs": [],
   "source": [
    "np.savez_compressed('data/1116/train-win_300.npz', X=X_train, Y=Y_train)"
   ]
  },
  {
   "cell_type": "code",
   "execution_count": 26,
   "metadata": {},
   "outputs": [
    {
     "name": "stdout",
     "output_type": "stream",
     "text": [
      "data/1116/user1_scene3_1.csv\n",
      "data/1116/user2_scene3_1.csv\n",
      "data/1116/user3_scene3_1.csv\n",
      "data/1116/user4_scene3_1.csv\n",
      "data/1116/user5_scene3_1.csv\n",
      "data/1116/user6_scene3_1.csv\n",
      "data/1116/user7_scene3_1.csv\n"
     ]
    }
   ],
   "source": [
    "X_train = []\n",
    "Y_train = []\n",
    "for f in test_files:\n",
    "    print(f)\n",
    "    csv = pd.read_csv(f)\n",
    "    i = 0\n",
    "    while i <= len(csv) - window_size * 2:\n",
    "        X_train.append(csv.iloc[i:i + window_size][XCOLS].to_numpy())\n",
    "        Y_train.append(csv.iloc[i + window_size + 18][YCOLS].to_numpy())\n",
    "        i += stride"
   ]
  },
  {
   "cell_type": "code",
   "execution_count": 27,
   "metadata": {},
   "outputs": [],
   "source": [
    "np.savez_compressed('data/1116/test-win_300.npz', X=X_train, Y=Y_train)"
   ]
  },
  {
   "cell_type": "code",
   "execution_count": 28,
   "metadata": {},
   "outputs": [
    {
     "data": {
      "text/plain": [
       "(300, 6)"
      ]
     },
     "execution_count": 28,
     "metadata": {},
     "output_type": "execute_result"
    }
   ],
   "source": [
    "X_train[0].shape"
   ]
  },
  {
   "cell_type": "code",
   "execution_count": null,
   "metadata": {},
   "outputs": [],
   "source": []
  }
 ],
 "metadata": {
  "kernelspec": {
   "display_name": "torch",
   "language": "python",
   "name": "torch"
  },
  "language_info": {
   "codemirror_mode": {
    "name": "ipython",
    "version": 3
   },
   "file_extension": ".py",
   "mimetype": "text/x-python",
   "name": "python",
   "nbconvert_exporter": "python",
   "pygments_lexer": "ipython3",
   "version": "3.7.9"
  }
 },
 "nbformat": 4,
 "nbformat_minor": 4
}
