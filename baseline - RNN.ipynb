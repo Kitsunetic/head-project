{
 "cells": [
  {
   "cell_type": "markdown",
   "metadata": {},
   "source": [
    "# 참고자료\n",
    "\n"
   ]
  },
  {
   "cell_type": "code",
   "execution_count": null,
   "metadata": {},
   "outputs": [],
   "source": [
    "!pip install --upgrade git+https://github.com/Kitsunetic/torch_burn.git"
   ]
  },
  {
   "cell_type": "code",
   "execution_count": 1,
   "metadata": {},
   "outputs": [],
   "source": [
    "from multiprocessing import cpu_count\n",
    "from pathlib import Path\n",
    "from typing import List, Union, AnyStr\n",
    "from math import pi\n",
    "import pickle\n",
    "\n",
    "import numpy as np\n",
    "import pytorch_lightning as pl\n",
    "import torch\n",
    "import torch.nn as nn\n",
    "from sklearn import model_selection\n",
    "from torch.utils.data import DataLoader, Dataset\n",
    "from tqdm import tqdm\n",
    "\n",
    "import torch_burn as tb\n",
    "import utils"
   ]
  },
  {
   "cell_type": "markdown",
   "metadata": {},
   "source": [
    "# Hyper Parameters"
   ]
  },
  {
   "cell_type": "code",
   "execution_count": 2,
   "metadata": {},
   "outputs": [],
   "source": [
    "EXPERIMENT_NAME = 'baseline - RNN'\n",
    "CHECKPOINT_DIR = Path('checkpoint', EXPERIMENT_NAME)\n",
    "CHECKPOINT_DIR.mkdir(parents=True, exist_ok=True)\n",
    "\n",
    "DATA_FILEPATH = 'data/pth_nostd/C2-T18-win48-hop1.pth'\n",
    "\n",
    "NUM_EPOCHS = 40\n",
    "BATCH_SIZE = 1024"
   ]
  },
  {
   "cell_type": "markdown",
   "metadata": {},
   "source": [
    "# 데이터 로드"
   ]
  },
  {
   "cell_type": "code",
   "execution_count": 3,
   "metadata": {},
   "outputs": [],
   "source": [
    "train_ds, test_ds = utils.SequentialDataset.load_data(DATA_FILEPATH)"
   ]
  },
  {
   "cell_type": "code",
   "execution_count": 4,
   "metadata": {},
   "outputs": [
    {
     "data": {
      "text/plain": [
       "(177937, 176476)"
      ]
     },
     "execution_count": 4,
     "metadata": {},
     "output_type": "execute_result"
    }
   ],
   "source": [
    "len(train_ds), len(test_ds)"
   ]
  },
  {
   "cell_type": "markdown",
   "metadata": {},
   "source": [
    "# 모델, loss, optim, metrics, callbacks 생성"
   ]
  },
  {
   "cell_type": "code",
   "execution_count": 5,
   "metadata": {},
   "outputs": [],
   "source": [
    "model = utils.BaselineRNN(input_size=6,\n",
    "                          hidden_size=24,\n",
    "                          num_layers=8,\n",
    "                          dropout=0.0,\n",
    "                          bidirectional=False).cuda()"
   ]
  },
  {
   "cell_type": "code",
   "execution_count": 6,
   "metadata": {},
   "outputs": [],
   "source": [
    "criterion = nn.MSELoss().cuda()\n",
    "optimizer = torch.optim.Adam(model.parameters())"
   ]
  },
  {
   "cell_type": "code",
   "execution_count": 7,
   "metadata": {},
   "outputs": [],
   "source": [
    "metrics = [tb.metrics.ModuleMetric(criterion, 'loss'),\n",
    "           utils.HPMetric('hp_metric'),\n",
    "           utils.HPSignalHistory(CHECKPOINT_DIR / 'sample' / '{epoch:04d}.npy', 'hp_signal')]"
   ]
  },
  {
   "cell_type": "code",
   "execution_count": 8,
   "metadata": {},
   "outputs": [],
   "source": [
    "callbacks = [tb.callbacks.EarlyStopping(metrics[0])]"
   ]
  },
  {
   "cell_type": "code",
   "execution_count": 9,
   "metadata": {},
   "outputs": [],
   "source": [
    "trainer = tb.Trainer2(model=model, optim=optimizer, metrics=metrics, callbacks=callbacks, ncols=100)"
   ]
  },
  {
   "cell_type": "code",
   "execution_count": 10,
   "metadata": {},
   "outputs": [
    {
     "name": "stderr",
     "output_type": "stream",
     "text": [
      "[0001/0040] Train: 100%|█████████████████████████████| 174/174 [00:03<00:00, 43.85it/s, loss 0.0260]\n",
      "[0001/0040] Validation: 100%|████████████████████| 173/173 [00:01<00:00, 92.95it/s, val_loss 0.0066]\n",
      "[0002/0040] Train:   0%|                                                    | 0/174 [00:00<?, ?it/s]"
     ]
    },
    {
     "name": "stdout",
     "output_type": "stream",
     "text": [
      "                  validation\n",
      " - Yaw          :   3.157622\n",
      " - Pitch        :   2.502589\n",
      " - Roll         :   2.875823\n",
      " - RMS          :   2.857965\n",
      " - 99% Tile     :  18.047778\n",
      "Save output signals into checkpoint/baseline - RNN/sample/0001.npy\n"
     ]
    },
    {
     "name": "stderr",
     "output_type": "stream",
     "text": [
      "[0002/0040] Train: 100%|█████████████████████████████| 174/174 [00:03<00:00, 43.73it/s, loss 0.0072]\n",
      "[0002/0040] Validation: 100%|████████████████████| 173/173 [00:01<00:00, 90.44it/s, val_loss 0.0058]\n",
      "[0003/0040] Train:   0%|                                                    | 0/174 [00:00<?, ?it/s]"
     ]
    },
    {
     "name": "stdout",
     "output_type": "stream",
     "text": [
      "                  validation\n",
      " - Yaw          :   3.901373\n",
      " - Pitch        :   2.046334\n",
      " - Roll         :   2.766318\n",
      " - RMS          :   3.003371\n",
      " - 99% Tile     :  15.988610\n",
      "Save output signals into checkpoint/baseline - RNN/sample/0002.npy\n"
     ]
    },
    {
     "name": "stderr",
     "output_type": "stream",
     "text": [
      "[0003/0040] Train: 100%|█████████████████████████████| 174/174 [00:04<00:00, 43.46it/s, loss 0.0057]\n",
      "[0003/0040] Validation: 100%|████████████████████| 173/173 [00:01<00:00, 92.05it/s, val_loss 0.0039]\n",
      "[0004/0040] Train:   0%|                                                    | 0/174 [00:00<?, ?it/s]"
     ]
    },
    {
     "name": "stdout",
     "output_type": "stream",
     "text": [
      "                  validation\n",
      " - Yaw          :   2.858563\n",
      " - Pitch        :   2.194104\n",
      " - Roll         :   1.652333\n",
      " - RMS          :   2.288790\n",
      " - 99% Tile     :  14.147379\n",
      "Save output signals into checkpoint/baseline - RNN/sample/0003.npy\n"
     ]
    },
    {
     "name": "stderr",
     "output_type": "stream",
     "text": [
      "[0004/0040] Train: 100%|█████████████████████████████| 174/174 [00:03<00:00, 43.50it/s, loss 0.0047]\n",
      "[0004/0040] Validation: 100%|████████████████████| 173/173 [00:01<00:00, 91.36it/s, val_loss 0.0034]\n",
      "[0005/0040] Train:   0%|                                                    | 0/174 [00:00<?, ?it/s]"
     ]
    },
    {
     "name": "stdout",
     "output_type": "stream",
     "text": [
      "                  validation\n",
      " - Yaw          :   2.809753\n",
      " - Pitch        :   1.692202\n",
      " - Roll         :   1.312805\n",
      " - RMS          :   2.039748\n",
      " - 99% Tile     :  13.324460\n",
      "Save output signals into checkpoint/baseline - RNN/sample/0004.npy\n"
     ]
    },
    {
     "name": "stderr",
     "output_type": "stream",
     "text": [
      "[0005/0040] Train: 100%|█████████████████████████████| 174/174 [00:04<00:00, 43.10it/s, loss 0.0042]\n",
      "[0005/0040] Validation: 100%|████████████████████| 173/173 [00:01<00:00, 87.42it/s, val_loss 0.0029]\n",
      "[0006/0040] Train:   0%|                                                    | 0/174 [00:00<?, ?it/s]"
     ]
    },
    {
     "name": "stdout",
     "output_type": "stream",
     "text": [
      "                  validation\n",
      " - Yaw          :   2.085593\n",
      " - Pitch        :   1.603533\n",
      " - Roll         :   1.289998\n",
      " - RMS          :   1.691657\n",
      " - 99% Tile     :  12.778761\n",
      "Save output signals into checkpoint/baseline - RNN/sample/0005.npy\n"
     ]
    },
    {
     "name": "stderr",
     "output_type": "stream",
     "text": [
      "[0006/0040] Train: 100%|█████████████████████████████| 174/174 [00:04<00:00, 42.28it/s, loss 0.0039]\n",
      "[0006/0040] Validation: 100%|████████████████████| 173/173 [00:02<00:00, 71.41it/s, val_loss 0.0030]\n",
      "[0007/0040] Train:   0%|                                                    | 0/174 [00:00<?, ?it/s]"
     ]
    },
    {
     "name": "stdout",
     "output_type": "stream",
     "text": [
      "val_loss is not improved for 1 epochs\n",
      "                  validation\n",
      " - Yaw          :   2.417506\n",
      " - Pitch        :   1.857362\n",
      " - Roll         :   1.221630\n",
      " - RMS          :   1.896181\n",
      " - 99% Tile     :  12.574893\n",
      "Save output signals into checkpoint/baseline - RNN/sample/0006.npy\n"
     ]
    },
    {
     "name": "stderr",
     "output_type": "stream",
     "text": [
      "[0007/0040] Train: 100%|█████████████████████████████| 174/174 [00:04<00:00, 41.90it/s, loss 0.0038]\n",
      "[0007/0040] Validation: 100%|████████████████████| 173/173 [00:01<00:00, 88.79it/s, val_loss 0.0029]\n",
      "[0008/0040] Train:   0%|                                                    | 0/174 [00:00<?, ?it/s]"
     ]
    },
    {
     "name": "stdout",
     "output_type": "stream",
     "text": [
      "val_loss is not improved for 2 epochs\n",
      "                  validation\n",
      " - Yaw          :   2.301959\n",
      " - Pitch        :   2.074102\n",
      " - Roll         :   1.178435\n",
      " - RMS          :   1.913951\n",
      " - 99% Tile     :  12.247593\n",
      "Save output signals into checkpoint/baseline - RNN/sample/0007.npy\n"
     ]
    },
    {
     "name": "stderr",
     "output_type": "stream",
     "text": [
      "[0008/0040] Train: 100%|█████████████████████████████| 174/174 [00:04<00:00, 42.53it/s, loss 0.0035]\n",
      "[0008/0040] Validation: 100%|████████████████████| 173/173 [00:01<00:00, 91.09it/s, val_loss 0.0027]\n",
      "[0009/0040] Train:   0%|                                                    | 0/174 [00:00<?, ?it/s]"
     ]
    },
    {
     "name": "stdout",
     "output_type": "stream",
     "text": [
      "                  validation\n",
      " - Yaw          :   2.217804\n",
      " - Pitch        :   1.410423\n",
      " - Roll         :   1.266822\n",
      " - RMS          :   1.684516\n",
      " - 99% Tile     :  12.003520\n",
      "Save output signals into checkpoint/baseline - RNN/sample/0008.npy\n"
     ]
    },
    {
     "name": "stderr",
     "output_type": "stream",
     "text": [
      "[0009/0040] Train: 100%|█████████████████████████████| 174/174 [00:04<00:00, 40.11it/s, loss 0.0035]\n",
      "[0009/0040] Validation: 100%|████████████████████| 173/173 [00:02<00:00, 80.73it/s, val_loss 0.0032]\n",
      "[0010/0040] Train:   0%|                                                    | 0/174 [00:00<?, ?it/s]"
     ]
    },
    {
     "name": "stdout",
     "output_type": "stream",
     "text": [
      "val_loss is not improved for 1 epochs\n",
      "                  validation\n",
      " - Yaw          :   3.314110\n",
      " - Pitch        :   1.607181\n",
      " - Roll         :   1.547833\n",
      " - RMS          :   2.306667\n",
      " - 99% Tile     :  12.000368\n",
      "Save output signals into checkpoint/baseline - RNN/sample/0009.npy\n"
     ]
    },
    {
     "name": "stderr",
     "output_type": "stream",
     "text": [
      "[0010/0040] Train: 100%|█████████████████████████████| 174/174 [00:04<00:00, 39.46it/s, loss 0.0034]\n",
      "[0010/0040] Validation: 100%|████████████████████| 173/173 [00:02<00:00, 83.17it/s, val_loss 0.0026]\n",
      "[0011/0040] Train:   0%|                                                    | 0/174 [00:00<?, ?it/s]"
     ]
    },
    {
     "name": "stdout",
     "output_type": "stream",
     "text": [
      "                  validation\n",
      " - Yaw          :   2.254265\n",
      " - Pitch        :   1.650250\n",
      " - Roll         :   1.203955\n",
      " - RMS          :   1.756373\n",
      " - 99% Tile     :  11.719887\n",
      "Save output signals into checkpoint/baseline - RNN/sample/0010.npy\n"
     ]
    },
    {
     "name": "stderr",
     "output_type": "stream",
     "text": [
      "[0011/0040] Train: 100%|█████████████████████████████| 174/174 [00:04<00:00, 38.16it/s, loss 0.0032]\n",
      "[0011/0040] Validation: 100%|████████████████████| 173/173 [00:02<00:00, 80.16it/s, val_loss 0.0024]\n",
      "[0012/0040] Train:   0%|                                                    | 0/174 [00:00<?, ?it/s]"
     ]
    },
    {
     "name": "stdout",
     "output_type": "stream",
     "text": [
      "                  validation\n",
      " - Yaw          :   2.072481\n",
      " - Pitch        :   1.415386\n",
      " - Roll         :   1.046376\n",
      " - RMS          :   1.569861\n",
      " - 99% Tile     :  11.314308\n",
      "Save output signals into checkpoint/baseline - RNN/sample/0011.npy\n"
     ]
    },
    {
     "name": "stderr",
     "output_type": "stream",
     "text": [
      "[0012/0040] Train: 100%|█████████████████████████████| 174/174 [00:04<00:00, 39.87it/s, loss 0.0032]\n",
      "[0012/0040] Validation: 100%|████████████████████| 173/173 [00:02<00:00, 80.61it/s, val_loss 0.0023]\n",
      "[0013/0040] Train:   0%|                                                    | 0/174 [00:00<?, ?it/s]"
     ]
    },
    {
     "name": "stdout",
     "output_type": "stream",
     "text": [
      "                  validation\n",
      " - Yaw          :   2.129341\n",
      " - Pitch        :   1.275482\n",
      " - Roll         :   0.932016\n",
      " - RMS          :   1.530752\n",
      " - 99% Tile     :  11.274914\n",
      "Save output signals into checkpoint/baseline - RNN/sample/0012.npy\n"
     ]
    },
    {
     "name": "stderr",
     "output_type": "stream",
     "text": [
      "[0013/0040] Train: 100%|█████████████████████████████| 174/174 [00:04<00:00, 39.95it/s, loss 0.0031]\n",
      "[0013/0040] Validation: 100%|████████████████████| 173/173 [00:02<00:00, 80.73it/s, val_loss 0.0025]\n",
      "[0014/0040] Train:   0%|                                                    | 0/174 [00:00<?, ?it/s]"
     ]
    },
    {
     "name": "stdout",
     "output_type": "stream",
     "text": [
      "val_loss is not improved for 1 epochs\n",
      "                  validation\n",
      " - Yaw          :   2.605231\n",
      " - Pitch        :   1.362393\n",
      " - Roll         :   0.912560\n",
      " - RMS          :   1.777274\n",
      " - 99% Tile     :  11.309794\n",
      "Save output signals into checkpoint/baseline - RNN/sample/0013.npy\n"
     ]
    },
    {
     "name": "stderr",
     "output_type": "stream",
     "text": [
      "[0014/0040] Train: 100%|█████████████████████████████| 174/174 [00:04<00:00, 39.04it/s, loss 0.0031]\n",
      "[0014/0040] Validation: 100%|████████████████████| 173/173 [00:02<00:00, 80.37it/s, val_loss 0.0023]\n",
      "[0015/0040] Train:   0%|                                                    | 0/174 [00:00<?, ?it/s]"
     ]
    },
    {
     "name": "stdout",
     "output_type": "stream",
     "text": [
      "val_loss is not improved for 2 epochs\n",
      "                  validation\n",
      " - Yaw          :   2.218309\n",
      " - Pitch        :   1.273509\n",
      " - Roll         :   1.111153\n",
      " - RMS          :   1.610112\n",
      " - 99% Tile     :  11.137946\n",
      "Save output signals into checkpoint/baseline - RNN/sample/0014.npy\n"
     ]
    },
    {
     "name": "stderr",
     "output_type": "stream",
     "text": [
      "[0015/0040] Train: 100%|█████████████████████████████| 174/174 [00:04<00:00, 39.53it/s, loss 0.0030]\n",
      "[0015/0040] Validation: 100%|████████████████████| 173/173 [00:02<00:00, 79.16it/s, val_loss 0.0023]\n",
      "[0016/0040] Train:   0%|                                                    | 0/174 [00:00<?, ?it/s]"
     ]
    },
    {
     "name": "stdout",
     "output_type": "stream",
     "text": [
      "                  validation\n",
      " - Yaw          :   2.191158\n",
      " - Pitch        :   1.210317\n",
      " - Roll         :   1.024176\n",
      " - RMS          :   1.561514\n",
      " - 99% Tile     :  11.192996\n",
      "Save output signals into checkpoint/baseline - RNN/sample/0015.npy\n"
     ]
    },
    {
     "name": "stderr",
     "output_type": "stream",
     "text": [
      "[0016/0040] Train: 100%|█████████████████████████████| 174/174 [00:04<00:00, 36.51it/s, loss 0.0030]\n",
      "[0016/0040] Validation: 100%|████████████████████| 173/173 [00:02<00:00, 77.66it/s, val_loss 0.0023]\n",
      "[0017/0040] Train:   0%|                                                    | 0/174 [00:00<?, ?it/s]"
     ]
    },
    {
     "name": "stdout",
     "output_type": "stream",
     "text": [
      "                  validation\n",
      " - Yaw          :   2.000269\n",
      " - Pitch        :   1.492249\n",
      " - Roll         :   0.824273\n",
      " - RMS          :   1.517378\n",
      " - 99% Tile     :  11.049947\n",
      "Save output signals into checkpoint/baseline - RNN/sample/0016.npy\n"
     ]
    },
    {
     "name": "stderr",
     "output_type": "stream",
     "text": [
      "[0017/0040] Train: 100%|█████████████████████████████| 174/174 [00:04<00:00, 38.78it/s, loss 0.0029]\n",
      "[0017/0040] Validation: 100%|████████████████████| 173/173 [00:02<00:00, 81.70it/s, val_loss 0.0022]\n",
      "[0018/0040] Train:   0%|                                                    | 0/174 [00:00<?, ?it/s]"
     ]
    },
    {
     "name": "stdout",
     "output_type": "stream",
     "text": [
      "                  validation\n",
      " - Yaw          :   2.179471\n",
      " - Pitch        :   1.295198\n",
      " - Roll         :   0.844307\n",
      " - RMS          :   1.542777\n",
      " - 99% Tile     :  10.817976\n",
      "Save output signals into checkpoint/baseline - RNN/sample/0017.npy\n"
     ]
    },
    {
     "name": "stderr",
     "output_type": "stream",
     "text": [
      "[0018/0040] Train: 100%|█████████████████████████████| 174/174 [00:04<00:00, 39.28it/s, loss 0.0029]\n",
      "[0018/0040] Validation: 100%|████████████████████| 173/173 [00:02<00:00, 80.59it/s, val_loss 0.0022]\n",
      "[0019/0040] Train:   0%|                                                    | 0/174 [00:00<?, ?it/s]"
     ]
    },
    {
     "name": "stdout",
     "output_type": "stream",
     "text": [
      "                  validation\n",
      " - Yaw          :   2.062817\n",
      " - Pitch        :   1.338068\n",
      " - Roll         :   0.835011\n",
      " - RMS          :   1.499209\n",
      " - 99% Tile     :  10.769150\n",
      "Save output signals into checkpoint/baseline - RNN/sample/0018.npy\n"
     ]
    },
    {
     "name": "stderr",
     "output_type": "stream",
     "text": [
      "[0019/0040] Train: 100%|█████████████████████████████| 174/174 [00:04<00:00, 39.35it/s, loss 0.0028]\n",
      "[0019/0040] Validation: 100%|████████████████████| 173/173 [00:02<00:00, 70.03it/s, val_loss 0.0024]\n",
      "[0020/0040] Train:   0%|                                                    | 0/174 [00:00<?, ?it/s]"
     ]
    },
    {
     "name": "stdout",
     "output_type": "stream",
     "text": [
      "val_loss is not improved for 1 epochs\n",
      "                  validation\n",
      " - Yaw          :   2.837080\n",
      " - Pitch        :   1.235864\n",
      " - Roll         :   0.882714\n",
      " - RMS          :   1.857917\n",
      " - 99% Tile     :  10.969450\n",
      "Save output signals into checkpoint/baseline - RNN/sample/0019.npy\n"
     ]
    },
    {
     "name": "stderr",
     "output_type": "stream",
     "text": [
      "[0020/0040] Train: 100%|█████████████████████████████| 174/174 [00:04<00:00, 39.52it/s, loss 0.0028]\n",
      "[0020/0040] Validation: 100%|████████████████████| 173/173 [00:02<00:00, 80.89it/s, val_loss 0.0021]\n",
      "[0021/0040] Train:   0%|                                                    | 0/174 [00:00<?, ?it/s]"
     ]
    },
    {
     "name": "stdout",
     "output_type": "stream",
     "text": [
      "                  validation\n",
      " - Yaw          :   2.270325\n",
      " - Pitch        :   1.176221\n",
      " - Roll         :   0.824214\n",
      " - RMS          :   1.551043\n",
      " - 99% Tile     :  10.563850\n",
      "Save output signals into checkpoint/baseline - RNN/sample/0020.npy\n"
     ]
    },
    {
     "name": "stderr",
     "output_type": "stream",
     "text": [
      "[0021/0040] Train: 100%|█████████████████████████████| 174/174 [00:05<00:00, 34.05it/s, loss 0.0027]\n",
      "[0021/0040] Validation: 100%|████████████████████| 173/173 [00:02<00:00, 80.43it/s, val_loss 0.0024]\n",
      "[0022/0040] Train:   0%|                                                    | 0/174 [00:00<?, ?it/s]"
     ]
    },
    {
     "name": "stdout",
     "output_type": "stream",
     "text": [
      "val_loss is not improved for 1 epochs\n",
      "                  validation\n",
      " - Yaw          :   2.806832\n",
      " - Pitch        :   1.227926\n",
      " - Roll         :   0.773810\n",
      " - RMS          :   1.824362\n",
      " - 99% Tile     :  10.827557\n",
      "Save output signals into checkpoint/baseline - RNN/sample/0021.npy\n"
     ]
    },
    {
     "name": "stderr",
     "output_type": "stream",
     "text": [
      "[0022/0040] Train: 100%|█████████████████████████████| 174/174 [00:04<00:00, 39.54it/s, loss 0.0027]\n",
      "[0022/0040] Validation: 100%|████████████████████| 173/173 [00:02<00:00, 80.99it/s, val_loss 0.0023]\n",
      "[0023/0040] Train:   0%|                                                    | 0/174 [00:00<?, ?it/s]"
     ]
    },
    {
     "name": "stdout",
     "output_type": "stream",
     "text": [
      "val_loss is not improved for 2 epochs\n",
      "                  validation\n",
      " - Yaw          :   2.539607\n",
      " - Pitch        :   1.262035\n",
      " - Roll         :   0.760087\n",
      " - RMS          :   1.695098\n",
      " - 99% Tile     :  10.689313\n",
      "Save output signals into checkpoint/baseline - RNN/sample/0022.npy\n"
     ]
    },
    {
     "name": "stderr",
     "output_type": "stream",
     "text": [
      "[0023/0040] Train: 100%|█████████████████████████████| 174/174 [00:04<00:00, 39.02it/s, loss 0.0027]\n",
      "[0023/0040] Validation: 100%|████████████████████| 173/173 [00:02<00:00, 79.97it/s, val_loss 0.0020]\n",
      "[0024/0040] Train:   0%|                                                    | 0/174 [00:00<?, ?it/s]"
     ]
    },
    {
     "name": "stdout",
     "output_type": "stream",
     "text": [
      "                  validation\n",
      " - Yaw          :   1.985932\n",
      " - Pitch        :   1.361994\n",
      " - Roll         :   0.826010\n",
      " - RMS          :   1.469835\n",
      " - 99% Tile     :  10.426453\n",
      "Save output signals into checkpoint/baseline - RNN/sample/0023.npy\n"
     ]
    },
    {
     "name": "stderr",
     "output_type": "stream",
     "text": [
      "[0024/0040] Train: 100%|█████████████████████████████| 174/174 [00:04<00:00, 39.72it/s, loss 0.0026]\n",
      "[0024/0040] Validation: 100%|████████████████████| 173/173 [00:02<00:00, 82.37it/s, val_loss 0.0019]\n",
      "[0025/0040] Train:   0%|                                                    | 0/174 [00:00<?, ?it/s]"
     ]
    },
    {
     "name": "stdout",
     "output_type": "stream",
     "text": [
      "                  validation\n",
      " - Yaw          :   1.853076\n",
      " - Pitch        :   1.083541\n",
      " - Roll         :   0.776222\n",
      " - RMS          :   1.317886\n",
      " - 99% Tile     :  10.432446\n",
      "Save output signals into checkpoint/baseline - RNN/sample/0024.npy\n"
     ]
    },
    {
     "name": "stderr",
     "output_type": "stream",
     "text": [
      "[0025/0040] Train: 100%|█████████████████████████████| 174/174 [00:04<00:00, 38.63it/s, loss 0.0026]\n",
      "[0025/0040] Validation: 100%|████████████████████| 173/173 [00:02<00:00, 80.35it/s, val_loss 0.0019]\n",
      "[0026/0040] Train:   0%|                                                    | 0/174 [00:00<?, ?it/s]"
     ]
    },
    {
     "name": "stdout",
     "output_type": "stream",
     "text": [
      "                  validation\n",
      " - Yaw          :   1.864552\n",
      " - Pitch        :   1.127733\n",
      " - Roll         :   0.803480\n",
      " - RMS          :   1.340885\n",
      " - 99% Tile     :  10.386941\n",
      "Save output signals into checkpoint/baseline - RNN/sample/0025.npy\n"
     ]
    },
    {
     "name": "stderr",
     "output_type": "stream",
     "text": [
      "[0026/0040] Train: 100%|█████████████████████████████| 174/174 [00:04<00:00, 37.54it/s, loss 0.0026]\n",
      "[0026/0040] Validation: 100%|████████████████████| 173/173 [00:02<00:00, 76.25it/s, val_loss 0.0022]\n",
      "[0027/0040] Train:   0%|                                                    | 0/174 [00:00<?, ?it/s]"
     ]
    },
    {
     "name": "stdout",
     "output_type": "stream",
     "text": [
      "val_loss is not improved for 1 epochs\n",
      "                  validation\n",
      " - Yaw          :   2.218569\n",
      " - Pitch        :   1.470694\n",
      " - Roll         :   0.760675\n",
      " - RMS          :   1.598292\n",
      " - 99% Tile     :  10.997730\n",
      "Save output signals into checkpoint/baseline - RNN/sample/0026.npy\n"
     ]
    },
    {
     "name": "stderr",
     "output_type": "stream",
     "text": [
      "[0027/0040] Train: 100%|█████████████████████████████| 174/174 [00:04<00:00, 39.10it/s, loss 0.0026]\n",
      "[0027/0040] Validation: 100%|████████████████████| 173/173 [00:02<00:00, 77.42it/s, val_loss 0.0019]\n",
      "[0028/0040] Train:   0%|                                                    | 0/174 [00:00<?, ?it/s]"
     ]
    },
    {
     "name": "stdout",
     "output_type": "stream",
     "text": [
      "                  validation\n",
      " - Yaw          :   1.845832\n",
      " - Pitch        :   1.144058\n",
      " - Roll         :   0.726895\n",
      " - RMS          :   1.322163\n",
      " - 99% Tile     :  10.301848\n",
      "Save output signals into checkpoint/baseline - RNN/sample/0027.npy\n"
     ]
    },
    {
     "name": "stderr",
     "output_type": "stream",
     "text": [
      "[0028/0040] Train: 100%|█████████████████████████████| 174/174 [00:04<00:00, 38.22it/s, loss 0.0026]\n",
      "[0028/0040] Validation: 100%|████████████████████| 173/173 [00:02<00:00, 75.06it/s, val_loss 0.0019]\n",
      "[0029/0040] Train:   0%|                                                    | 0/174 [00:00<?, ?it/s]"
     ]
    },
    {
     "name": "stdout",
     "output_type": "stream",
     "text": [
      "val_loss is not improved for 1 epochs\n",
      "                  validation\n",
      " - Yaw          :   1.887307\n",
      " - Pitch        :   1.092792\n",
      " - Roll         :   0.851494\n",
      " - RMS          :   1.351686\n",
      " - 99% Tile     :  10.323114\n",
      "Save output signals into checkpoint/baseline - RNN/sample/0028.npy\n"
     ]
    },
    {
     "name": "stderr",
     "output_type": "stream",
     "text": [
      "[0029/0040] Train: 100%|█████████████████████████████| 174/174 [00:05<00:00, 32.87it/s, loss 0.0026]\n",
      "[0029/0040] Validation: 100%|████████████████████| 173/173 [00:02<00:00, 65.15it/s, val_loss 0.0020]\n",
      "[0030/0040] Train:   0%|                                                    | 0/174 [00:00<?, ?it/s]"
     ]
    },
    {
     "name": "stdout",
     "output_type": "stream",
     "text": [
      "val_loss is not improved for 2 epochs\n",
      "                  validation\n",
      " - Yaw          :   2.094027\n",
      " - Pitch        :   1.141649\n",
      " - Roll         :   0.795529\n",
      " - RMS          :   1.451571\n",
      " - 99% Tile     :  10.285700\n",
      "Save output signals into checkpoint/baseline - RNN/sample/0029.npy\n"
     ]
    },
    {
     "name": "stderr",
     "output_type": "stream",
     "text": [
      "[0030/0040] Train: 100%|█████████████████████████████| 174/174 [00:05<00:00, 33.66it/s, loss 0.0025]\n",
      "[0030/0040] Validation: 100%|████████████████████| 173/173 [00:02<00:00, 61.98it/s, val_loss 0.0019]\n",
      "[0031/0040] Train:   0%|                                                    | 0/174 [00:00<?, ?it/s]"
     ]
    },
    {
     "name": "stdout",
     "output_type": "stream",
     "text": [
      "                  validation\n",
      " - Yaw          :   1.808319\n",
      " - Pitch        :   1.124408\n",
      " - Roll         :   0.715378\n",
      " - RMS          :   1.296929\n",
      " - 99% Tile     :  10.384924\n",
      "Save output signals into checkpoint/baseline - RNN/sample/0030.npy\n"
     ]
    },
    {
     "name": "stderr",
     "output_type": "stream",
     "text": [
      "[0031/0040] Train: 100%|█████████████████████████████| 174/174 [00:05<00:00, 33.83it/s, loss 0.0026]\n",
      "[0031/0040] Validation: 100%|████████████████████| 173/173 [00:02<00:00, 64.26it/s, val_loss 0.0020]\n",
      "[0032/0040] Train:   0%|                                                    | 0/174 [00:00<?, ?it/s]"
     ]
    },
    {
     "name": "stdout",
     "output_type": "stream",
     "text": [
      "val_loss is not improved for 1 epochs\n",
      "                  validation\n",
      " - Yaw          :   1.808208\n",
      " - Pitch        :   1.450024\n",
      " - Roll         :   0.768537\n",
      " - RMS          :   1.409827\n",
      " - 99% Tile     :  10.358608\n",
      "Save output signals into checkpoint/baseline - RNN/sample/0031.npy\n"
     ]
    },
    {
     "name": "stderr",
     "output_type": "stream",
     "text": [
      "[0032/0040] Train: 100%|█████████████████████████████| 174/174 [00:04<00:00, 35.10it/s, loss 0.0026]\n",
      "[0032/0040] Validation: 100%|████████████████████| 173/173 [00:02<00:00, 62.39it/s, val_loss 0.0020]\n",
      "[0033/0040] Train:   0%|                                                    | 0/174 [00:00<?, ?it/s]"
     ]
    },
    {
     "name": "stdout",
     "output_type": "stream",
     "text": [
      "val_loss is not improved for 2 epochs\n",
      "                  validation\n",
      " - Yaw          :   2.056228\n",
      " - Pitch        :   1.203214\n",
      " - Roll         :   0.773103\n",
      " - RMS          :   1.446085\n",
      " - 99% Tile     :  10.390419\n",
      "Save output signals into checkpoint/baseline - RNN/sample/0032.npy\n"
     ]
    },
    {
     "name": "stderr",
     "output_type": "stream",
     "text": [
      "[0033/0040] Train: 100%|█████████████████████████████| 174/174 [00:05<00:00, 33.27it/s, loss 0.0025]\n",
      "[0033/0040] Validation: 100%|████████████████████| 173/173 [00:02<00:00, 65.82it/s, val_loss 0.0021]\n",
      "[0034/0040] Train:   0%|                                                    | 0/174 [00:00<?, ?it/s]"
     ]
    },
    {
     "name": "stdout",
     "output_type": "stream",
     "text": [
      "val_loss is not improved for 3 epochs\n",
      "                  validation\n",
      " - Yaw          :   2.422888\n",
      " - Pitch        :   1.223122\n",
      " - Roll         :   0.815661\n",
      " - RMS          :   1.636227\n",
      " - 99% Tile     :  10.500755\n",
      "Save output signals into checkpoint/baseline - RNN/sample/0033.npy\n"
     ]
    },
    {
     "name": "stderr",
     "output_type": "stream",
     "text": [
      "[0034/0040] Train: 100%|█████████████████████████████| 174/174 [00:05<00:00, 32.74it/s, loss 0.0025]\n",
      "[0034/0040] Validation: 100%|████████████████████| 173/173 [00:02<00:00, 65.82it/s, val_loss 0.0020]\n",
      "[0035/0040] Train:   0%|                                                    | 0/174 [00:00<?, ?it/s]"
     ]
    },
    {
     "name": "stdout",
     "output_type": "stream",
     "text": [
      "val_loss is not improved for 4 epochs\n",
      "                  validation\n",
      " - Yaw          :   2.236533\n",
      " - Pitch        :   1.143127\n",
      " - Roll         :   0.739974\n",
      " - RMS          :   1.511774\n",
      " - 99% Tile     :  10.327127\n",
      "Save output signals into checkpoint/baseline - RNN/sample/0034.npy\n"
     ]
    },
    {
     "name": "stderr",
     "output_type": "stream",
     "text": [
      "[0035/0040] Train: 100%|█████████████████████████████| 174/174 [00:05<00:00, 33.75it/s, loss 0.0025]\n",
      "[0035/0040] Validation: 100%|████████████████████| 173/173 [00:02<00:00, 63.49it/s, val_loss 0.0020]\n",
      "[0036/0040] Train:   0%|                                                    | 0/174 [00:00<?, ?it/s]"
     ]
    },
    {
     "name": "stdout",
     "output_type": "stream",
     "text": [
      "val_loss is not improved for 5 epochs\n",
      "                  validation\n",
      " - Yaw          :   2.183126\n",
      " - Pitch        :   1.090910\n",
      " - Roll         :   0.740140\n",
      " - RMS          :   1.472405\n",
      " - 99% Tile     :  10.339164\n",
      "Save output signals into checkpoint/baseline - RNN/sample/0035.npy\n"
     ]
    },
    {
     "name": "stderr",
     "output_type": "stream",
     "text": [
      "[0036/0040] Train: 100%|█████████████████████████████| 174/174 [00:05<00:00, 34.56it/s, loss 0.0025]\n",
      "[0036/0040] Validation: 100%|████████████████████| 173/173 [00:02<00:00, 59.64it/s, val_loss 0.0022]\n",
      "[0037/0040] Train:   0%|                                                    | 0/174 [00:00<?, ?it/s]"
     ]
    },
    {
     "name": "stdout",
     "output_type": "stream",
     "text": [
      "val_loss is not improved for 6 epochs\n",
      "                  validation\n",
      " - Yaw          :   2.462615\n",
      " - Pitch        :   1.080547\n",
      " - Roll         :   1.022967\n",
      " - RMS          :   1.661176\n",
      " - 99% Tile     :  10.462451\n",
      "Save output signals into checkpoint/baseline - RNN/sample/0036.npy\n"
     ]
    },
    {
     "name": "stderr",
     "output_type": "stream",
     "text": [
      "[0037/0040] Train: 100%|█████████████████████████████| 174/174 [00:05<00:00, 34.10it/s, loss 0.0025]\n",
      "[0037/0040] Validation: 100%|████████████████████| 173/173 [00:02<00:00, 63.85it/s, val_loss 0.0018]\n",
      "[0038/0040] Train:   0%|                                                    | 0/174 [00:00<?, ?it/s]"
     ]
    },
    {
     "name": "stdout",
     "output_type": "stream",
     "text": [
      "                  validation\n",
      " - Yaw          :   1.811966\n",
      " - Pitch        :   1.093879\n",
      " - Roll         :   0.817988\n",
      " - RMS          :   1.310076\n",
      " - 99% Tile     :  10.106410\n",
      "Save output signals into checkpoint/baseline - RNN/sample/0037.npy\n"
     ]
    },
    {
     "name": "stderr",
     "output_type": "stream",
     "text": [
      "[0038/0040] Train: 100%|█████████████████████████████| 174/174 [00:05<00:00, 33.38it/s, loss 0.0025]\n",
      "[0038/0040] Validation: 100%|████████████████████| 173/173 [00:02<00:00, 66.64it/s, val_loss 0.0020]\n",
      "[0039/0040] Train:   0%|                                                    | 0/174 [00:00<?, ?it/s]"
     ]
    },
    {
     "name": "stdout",
     "output_type": "stream",
     "text": [
      "val_loss is not improved for 1 epochs\n",
      "                  validation\n",
      " - Yaw          :   2.151696\n",
      " - Pitch        :   1.046678\n",
      " - Roll         :   0.712624\n",
      " - RMS          :   1.441430\n",
      " - 99% Tile     :  10.299263\n",
      "Save output signals into checkpoint/baseline - RNN/sample/0038.npy\n"
     ]
    },
    {
     "name": "stderr",
     "output_type": "stream",
     "text": [
      "[0039/0040] Train: 100%|█████████████████████████████| 174/174 [00:05<00:00, 33.69it/s, loss 0.0025]\n",
      "[0039/0040] Validation: 100%|████████████████████| 173/173 [00:02<00:00, 66.56it/s, val_loss 0.0019]\n",
      "[0040/0040] Train:   0%|                                                    | 0/174 [00:00<?, ?it/s]"
     ]
    },
    {
     "name": "stdout",
     "output_type": "stream",
     "text": [
      "val_loss is not improved for 2 epochs\n",
      "                  validation\n",
      " - Yaw          :   1.998071\n",
      " - Pitch        :   1.271676\n",
      " - Roll         :   0.721928\n",
      " - RMS          :   1.429525\n",
      " - 99% Tile     :  10.286922\n",
      "Save output signals into checkpoint/baseline - RNN/sample/0039.npy\n"
     ]
    },
    {
     "name": "stderr",
     "output_type": "stream",
     "text": [
      "[0040/0040] Train: 100%|█████████████████████████████| 174/174 [00:05<00:00, 33.29it/s, loss 0.0025]\n",
      "[0040/0040] Validation: 100%|████████████████████| 173/173 [00:02<00:00, 66.27it/s, val_loss 0.0019]"
     ]
    },
    {
     "name": "stdout",
     "output_type": "stream",
     "text": [
      "val_loss is not improved for 3 epochs\n",
      "                  validation\n",
      " - Yaw          :   1.906296\n",
      " - Pitch        :   1.059622\n",
      " - Roll         :   0.800021\n",
      " - RMS          :   1.341243\n",
      " - 99% Tile     :  10.279622\n",
      "Save output signals into checkpoint/baseline - RNN/sample/0040.npy\n"
     ]
    },
    {
     "name": "stderr",
     "output_type": "stream",
     "text": [
      "\n"
     ]
    }
   ],
   "source": [
    "trainer.fit(train_ds, test_ds, num_epochs=NUM_EPOCHS, batch_size=BATCH_SIZE)"
   ]
  },
  {
   "cell_type": "code",
   "execution_count": null,
   "metadata": {},
   "outputs": [],
   "source": []
  },
  {
   "cell_type": "code",
   "execution_count": null,
   "metadata": {},
   "outputs": [],
   "source": []
  },
  {
   "cell_type": "code",
   "execution_count": null,
   "metadata": {},
   "outputs": [],
   "source": []
  },
  {
   "cell_type": "code",
   "execution_count": null,
   "metadata": {},
   "outputs": [],
   "source": []
  },
  {
   "cell_type": "code",
   "execution_count": null,
   "metadata": {},
   "outputs": [],
   "source": []
  },
  {
   "cell_type": "code",
   "execution_count": null,
   "metadata": {},
   "outputs": [],
   "source": []
  },
  {
   "cell_type": "code",
   "execution_count": null,
   "metadata": {},
   "outputs": [],
   "source": []
  },
  {
   "cell_type": "code",
   "execution_count": null,
   "metadata": {},
   "outputs": [],
   "source": []
  }
 ],
 "metadata": {
  "kernelspec": {
   "display_name": "torch",
   "language": "python",
   "name": "torch"
  },
  "language_info": {
   "codemirror_mode": {
    "name": "ipython",
    "version": 3
   },
   "file_extension": ".py",
   "mimetype": "text/x-python",
   "name": "python",
   "nbconvert_exporter": "python",
   "pygments_lexer": "ipython3",
   "version": "3.8.5"
  }
 },
 "nbformat": 4,
 "nbformat_minor": 4
}
