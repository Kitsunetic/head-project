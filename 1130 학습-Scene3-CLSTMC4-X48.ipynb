{
 "cells": [
  {
   "cell_type": "markdown",
   "metadata": {},
   "source": [
    "# 학습 결과\n",
    "\n",
    "user1의 scene 1~3만 사용해서 학습\n",
    "\n",
    "scene보다 user가 많기 때문에 데이터의 양이 확연히 줄어듬에도 불구하고 성능이 괜찮음.  \n",
    "적은 데이터 특화됐기 때문인지는 모르겠다.\n",
    "\n",
    "나머지 scene에 대해서도 잘 학습을 하면서 user에 대해서도 특화된다면 성능을 상당히 끌어올릴 수 있을 것으로 기대됨.  \n",
    "--> curriculum learning"
   ]
  },
  {
   "cell_type": "code",
   "execution_count": 1,
   "metadata": {},
   "outputs": [],
   "source": [
    "from multiprocessing import cpu_count\n",
    "from pathlib import Path\n",
    "from typing import List, Union, AnyStr\n",
    "from math import pi\n",
    "import pickle\n",
    "\n",
    "import numpy as np\n",
    "import torch\n",
    "import matplotlib.pyplot as plt\n",
    "import torch.nn as nn\n",
    "from sklearn import model_selection\n",
    "from tqdm import tqdm\n",
    "import torch_optimizer\n",
    "from torch.utils.data import Dataset\n",
    "import pandas as pd\n",
    "import random\n",
    "\n",
    "import torch_burn as tb\n",
    "import utils"
   ]
  },
  {
   "cell_type": "code",
   "execution_count": 2,
   "metadata": {},
   "outputs": [],
   "source": [
    "tb.seed_everything(0)"
   ]
  },
  {
   "cell_type": "code",
   "execution_count": 3,
   "metadata": {},
   "outputs": [],
   "source": [
    "EXPERIMENT_NAME = '1130-Scene3-CLSTMC4-X48'\n",
    "CHECKPOINT_DIR = Path('checkpoint', EXPERIMENT_NAME)\n",
    "CHECKPOINT_DIR.mkdir(parents=True, exist_ok=True)\n",
    "\n",
    "DATA_DIR = Path('data/1116')\n",
    "TRAIN_FILES = sorted(list(DATA_DIR.glob('*scene3_0.csv')))\n",
    "TEST_FILES = sorted(list(DATA_DIR.glob('*scene3_1.csv')))"
   ]
  },
  {
   "cell_type": "markdown",
   "metadata": {},
   "source": [
    "# 데이터셋 생성\n",
    "\n",
    "scene1에 대해서 모든 user의 데이터를 하나로 합친다."
   ]
  },
  {
   "cell_type": "code",
   "execution_count": 5,
   "metadata": {},
   "outputs": [],
   "source": [
    "WINDOW_SIZE = 48"
   ]
  },
  {
   "cell_type": "code",
   "execution_count": 6,
   "metadata": {},
   "outputs": [],
   "source": [
    "class CSVSequentialDataset(Dataset):\n",
    "    def __init__(self, csvfile, window_size, stride):\n",
    "        super(CSVSequentialDataset, self).__init__()\n",
    "\n",
    "        self.xcols = ['input_orientation_yaw', 'input_orientation_pitch', 'input_orientation_roll',\n",
    "                      'acceleration_x', 'acceleration_y', 'acceleration_z']\n",
    "        self.ycols = ['input_orientation_yaw', 'input_orientation_pitch', 'input_orientation_roll']\n",
    "\n",
    "        self.csv = pd.read_csv(csvfile)\n",
    "        self.window_size = window_size\n",
    "        \n",
    "        self.indexes = []\n",
    "        i = 0\n",
    "        while i <= len(self.csv) - window_size * 2:\n",
    "            self.indexes.append((i, i + window_size))\n",
    "            i += stride\n",
    "\n",
    "    def __len__(self):\n",
    "        return len(self.indexes)\n",
    "\n",
    "    def __getitem__(self, idx):\n",
    "        sx, tx = self.indexes[idx]\n",
    "        ty = tx + 18\n",
    "        x = self.csv.iloc[sx:tx][self.xcols].to_numpy()\n",
    "        y = self.csv.iloc[ty][self.ycols]\n",
    "\n",
    "        x = torch.tensor(x, dtype=torch.float32) # 300, 6\n",
    "        y = torch.tensor(y, dtype=torch.float32) # 1, 3\n",
    "\n",
    "        return x, y"
   ]
  },
  {
   "cell_type": "code",
   "execution_count": 7,
   "metadata": {},
   "outputs": [],
   "source": [
    "ds_train = [CSVSequentialDataset(f, window_size=WINDOW_SIZE, stride=1) for f in TRAIN_FILES]\n",
    "ds_train = tb.data.ChainDataset(*ds_train)\n",
    "ds_test = [CSVSequentialDataset(f, window_size=WINDOW_SIZE, stride=1) for f in TEST_FILES]\n",
    "ds_test = tb.data.ChainDataset(*ds_test)"
   ]
  },
  {
   "cell_type": "code",
   "execution_count": 8,
   "metadata": {},
   "outputs": [
    {
     "data": {
      "text/plain": [
       "(56335, 54335)"
      ]
     },
     "execution_count": 8,
     "metadata": {},
     "output_type": "execute_result"
    }
   ],
   "source": [
    "len(ds_train), len(ds_test)"
   ]
  },
  {
   "cell_type": "code",
   "execution_count": 9,
   "metadata": {},
   "outputs": [
    {
     "data": {
      "text/plain": [
       "(torch.Size([48, 6]), torch.Size([3]))"
      ]
     },
     "execution_count": 9,
     "metadata": {},
     "output_type": "execute_result"
    }
   ],
   "source": [
    "ds_train[0][0].shape, ds_train[0][1].shape"
   ]
  },
  {
   "cell_type": "code",
   "execution_count": 10,
   "metadata": {},
   "outputs": [],
   "source": [
    "x, y = ds_train[0]"
   ]
  },
  {
   "cell_type": "code",
   "execution_count": 11,
   "metadata": {},
   "outputs": [
    {
     "data": {
      "text/plain": [
       "(torch.Size([48, 6]), torch.Size([3]))"
      ]
     },
     "execution_count": 11,
     "metadata": {},
     "output_type": "execute_result"
    }
   ],
   "source": [
    "x.shape, y.shape"
   ]
  },
  {
   "cell_type": "code",
   "execution_count": 12,
   "metadata": {},
   "outputs": [
    {
     "data": {
      "image/png": "[encoded data removed]",
      "text/plain": [
       "<Figure size 1152x216 with 3 Axes>"
      ]
     },
     "metadata": {
      "needs_background": "light"
     },
     "output_type": "display_data"
    }
   ],
   "source": [
    "plt.figure(figsize=(16, 3))\n",
    "plt.subplot(1, 3, 1)\n",
    "plt.plot(x[:, 0])\n",
    "plt.title('Yaw')\n",
    "plt.subplot(1, 3, 2)\n",
    "plt.plot(x[:, 1])\n",
    "plt.title('Pitch')\n",
    "plt.subplot(1, 3, 3)\n",
    "plt.plot(x[:, 2])\n",
    "plt.title('Roll')\n",
    "plt.tight_layout()\n",
    "plt.show()"
   ]
  },
  {
   "cell_type": "code",
   "execution_count": 13,
   "metadata": {},
   "outputs": [
    {
     "data": {
      "text/plain": [
       "tensor([-27.7370,  11.8078,  -0.9031])"
      ]
     },
     "execution_count": 13,
     "metadata": {},
     "output_type": "execute_result"
    }
   ],
   "source": [
    "y"
   ]
  },
  {
   "cell_type": "markdown",
   "metadata": {},
   "source": [
    "# 모델 생성"
   ]
  },
  {
   "cell_type": "code",
   "execution_count": 14,
   "metadata": {},
   "outputs": [],
   "source": [
    "class ResBlock1d(nn.Module):\n",
    "    expansion = 1\n",
    "    \n",
    "    def __init__(self, inchannels, channels, kernel_size, stride=1, groups=1):\n",
    "        super(ResBlock1d, self).__init__()\n",
    "\n",
    "        self.conv1 = nn.Sequential(\n",
    "            nn.Conv1d(inchannels, channels, kernel_size, padding=kernel_size // 2, stride=stride, groups=groups),\n",
    "            nn.BatchNorm1d(channels),\n",
    "            nn.LeakyReLU(),\n",
    "            nn.Conv1d(channels, channels, kernel_size, padding=kernel_size // 2, groups=groups),\n",
    "            nn.BatchNorm1d(channels)\n",
    "        )\n",
    "        self.act = nn.LeakyReLU()\n",
    "        \n",
    "        self.conv2 = None\n",
    "        if inchannels != channels:\n",
    "            self.conv2 = nn.Sequential(\n",
    "                nn.Conv1d(inchannels, channels, 1, stride=stride, groups=groups),\n",
    "                nn.BatchNorm1d(channels)\n",
    "            )\n",
    "\n",
    "    def forward(self, x):\n",
    "        identity = x\n",
    "\n",
    "        x = self.conv1(x)\n",
    "        if self.conv2 is not None:\n",
    "            identity = self.conv2(identity)\n",
    "        x += identity\n",
    "        x = self.act(x)\n",
    "\n",
    "        return x"
   ]
  },
  {
   "cell_type": "code",
   "execution_count": 15,
   "metadata": {},
   "outputs": [],
   "source": [
    "class CLSTMC(nn.Module):\n",
    "    def __init__(self):\n",
    "        super(CLSTMC, self).__init__()\n",
    "\n",
    "        self.conv_in = nn.Sequential(\n",
    "            nn.Conv1d(6, 64, 7, padding=3, groups=2),\n",
    "            nn.BatchNorm1d(64),\n",
    "            nn.LeakyReLU(),\n",
    "            ResBlock1d(64, 64, 3)\n",
    "        )\n",
    "\n",
    "        self.rnn = nn.LSTM(input_size=64,\n",
    "                           hidden_size=64,\n",
    "                           num_layers=4,\n",
    "                           batch_first=True,\n",
    "                           dropout=0,\n",
    "                           bidirectional=False)\n",
    "        \n",
    "        self.conv_out = nn.Sequential(\n",
    "            ResBlock1d(64, 128, 3, stride=2),\n",
    "            ResBlock1d(128, 256, 3, stride=2)\n",
    "        )\n",
    "        self.fc = nn.Linear(256, 3)\n",
    "\n",
    "    def forward(self, x):\n",
    "        x = x.transpose(1, 2)  # B, S, 6 --> B, 6, S\n",
    "        x = self.conv_in(x)  # B, 6, S\n",
    "        x = x.transpose(1, 2)  # B, S, 6\n",
    "\n",
    "        outs, (hiddens, cells) = self.rnn(x)  # B, S, 128\n",
    "        x = outs.transpose(1, 2) # B, C, S\n",
    "        x = self.conv_out(x) # B, C, S\n",
    "        x = x[:, :, -1] # B, C\n",
    "        x = self.fc(x) # B, 3\n",
    "\n",
    "        return x"
   ]
  },
  {
   "cell_type": "code",
   "execution_count": 16,
   "metadata": {},
   "outputs": [],
   "source": [
    "model = CLSTMC().cuda()"
   ]
  },
  {
   "cell_type": "code",
   "execution_count": 17,
   "metadata": {},
   "outputs": [
    {
     "data": {
      "text/plain": [
       "(tensor([[-0.3722, -0.2684,  0.3119]]), torch.Size([1, 3]), torch.Size([3]))"
      ]
     },
     "execution_count": 17,
     "metadata": {},
     "output_type": "execute_result"
    }
   ],
   "source": [
    "x, y = ds_test[0]\n",
    "p = model(x.unsqueeze(0).cuda()).detach().cpu()\n",
    "p, p.shape, y.shape"
   ]
  },
  {
   "cell_type": "code",
   "execution_count": 18,
   "metadata": {},
   "outputs": [],
   "source": [
    "criterion = nn.MSELoss().cuda()\n",
    "optimizer = torch_optimizer.RAdam(model.parameters())"
   ]
  },
  {
   "cell_type": "code",
   "execution_count": 19,
   "metadata": {},
   "outputs": [],
   "source": [
    "class HPMetric(tb.metrics.InvisibleMetric):\n",
    "    def __init__(self, name: str):\n",
    "        super(HPMetric, self).__init__(name)\n",
    "\n",
    "        self.diff = []\n",
    "\n",
    "    def on_valid_epoch_end(self, epoch: int, logs: dict):\n",
    "        # RMS, 99% tile 출력\n",
    "        yaw_v, pitch_v, roll_v, rms_v, tile99_v = self._calc_values(self.diff)\n",
    "\n",
    "        print(f'                  validation')\n",
    "        print(f' - Yaw          : {yaw_v:10f}')\n",
    "        print(f' - Pitch        : {pitch_v:10f}')\n",
    "        print(f' - Roll         : {roll_v:10f}')\n",
    "        print(f' - RMS          : {rms_v:10f}')\n",
    "        print(f' - 99% Tile     : {tile99_v:10f}')\n",
    "\n",
    "        self.diff.clear()\n",
    "\n",
    "    def get_value(self, outputs: torch.Tensor, targets: torch.Tensor, is_train: bool):\n",
    "        if not is_train:\n",
    "            self.diff.append((outputs - targets).detach().cpu())  # (B, 3)\n",
    "\n",
    "    @staticmethod\n",
    "    def _calc_values(diff):\n",
    "        diff = torch.cat(diff).abs_()  # (D, 3)\n",
    "        rms = (diff.square().sum(1) / 3).sqrt()\n",
    "        tile = rms.flatten().numpy()\n",
    "        tile99 = np.percentile(tile, 99)\n",
    "        \n",
    "        mrms = rms.mean()\n",
    "        \n",
    "        # diff = radian2degree(diff)\n",
    "        #tile = diff.flatten().numpy()\n",
    "        #tile99 = np.percentile(tile, 99)\n",
    "\n",
    "        mdiff = diff.mean(dim=0)\n",
    "        #rms = (mdiff.square().sum() / 3).sqrt()\n",
    "\n",
    "        return mdiff[0].item(), mdiff[1].item(), mdiff[2].item(), mrms.item(), tile99"
   ]
  },
  {
   "cell_type": "code",
   "execution_count": 20,
   "metadata": {},
   "outputs": [],
   "source": [
    "metrics = [tb.metrics.ModuleMetric(criterion, 'loss'),\n",
    "           HPMetric('hp_metric')]"
   ]
  },
  {
   "cell_type": "code",
   "execution_count": 21,
   "metadata": {},
   "outputs": [],
   "source": [
    "callbacks = [tb.callbacks.EarlyStopping(metrics[0]),\n",
    "             tb.callbacks.LRDecaying(optimizer, metrics[0], patience=3),\n",
    "             tb.callbacks.SaveCheckpoint({'model': model}, metrics[0], CHECKPOINT_DIR, 'best-ckpt.pth')]"
   ]
  },
  {
   "cell_type": "code",
   "execution_count": 22,
   "metadata": {},
   "outputs": [],
   "source": [
    "trainer = tb.Trainer(model, optimizer, metrics, callbacks, ncols=100)"
   ]
  },
  {
   "cell_type": "code",
   "execution_count": 23,
   "metadata": {},
   "outputs": [
    {
     "name": "stderr",
     "output_type": "stream",
     "text": [
      "[0001/0200] Train: 100%|████████████████████████████| 221/221 [00:18<00:00, 12.11it/s, loss 34.9382]\n",
      "[0001/0200] Validation: 100%|███████████████████| 213/213 [00:10<00:00, 20.75it/s, val_loss 18.1635]\n",
      "[0002/0200] Train:   0%|                                                    | 0/221 [00:00<?, ?it/s]"
     ]
    },
    {
     "name": "stdout",
     "output_type": "stream",
     "text": [
      "Save checkpoint: val_loss decreased from inf to 18.163473027972543\n",
      "                  validation\n",
      " - Yaw          :   4.455805\n",
      " - Pitch        :   2.964768\n",
      " - Roll         :   1.166121\n",
      " - RMS          :   3.515850\n",
      " - 99% Tile     :  12.581498\n"
     ]
    },
    {
     "name": "stderr",
     "output_type": "stream",
     "text": [
      "[0002/0200] Train: 100%|████████████████████████████| 221/221 [00:17<00:00, 12.57it/s, loss 12.3110]\n",
      "[0002/0200] Validation: 100%|███████████████████| 213/213 [00:11<00:00, 18.23it/s, val_loss 11.5562]\n",
      "[0003/0200] Train:   0%|                                                    | 0/221 [00:00<?, ?it/s]"
     ]
    },
    {
     "name": "stdout",
     "output_type": "stream",
     "text": [
      "Save checkpoint: val_loss decreased from 18.163473027972543 to 11.556208235277257\n",
      "                  validation\n",
      " - Yaw          :   3.230239\n",
      " - Pitch        :   1.778440\n",
      " - Roll         :   1.050481\n",
      " - RMS          :   2.496795\n",
      " - 99% Tile     :  11.749691\n"
     ]
    },
    {
     "name": "stderr",
     "output_type": "stream",
     "text": [
      "[0003/0200] Train: 100%|████████████████████████████| 221/221 [00:16<00:00, 13.79it/s, loss 10.2652]\n",
      "[0003/0200] Validation: 100%|███████████████████| 213/213 [00:13<00:00, 15.75it/s, val_loss 12.8314]\n",
      "[0004/0200] Train:   0%|                                                    | 0/221 [00:00<?, ?it/s]"
     ]
    },
    {
     "name": "stdout",
     "output_type": "stream",
     "text": [
      "val_loss is not improved for 1 epochs\n",
      "                  validation\n",
      " - Yaw          :   3.961379\n",
      " - Pitch        :   1.634547\n",
      " - Roll         :   1.245477\n",
      " - RMS          :   2.854055\n",
      " - 99% Tile     :  11.511778\n"
     ]
    },
    {
     "name": "stderr",
     "output_type": "stream",
     "text": [
      "[0004/0200] Train: 100%|█████████████████████████████| 221/221 [00:16<00:00, 13.67it/s, loss 9.5506]\n",
      "[0004/0200] Validation: 100%|███████████████████| 213/213 [00:10<00:00, 21.13it/s, val_loss 11.3123]\n",
      "[0005/0200] Train:   0%|                                                    | 0/221 [00:00<?, ?it/s]"
     ]
    },
    {
     "name": "stdout",
     "output_type": "stream",
     "text": [
      "Save checkpoint: val_loss decreased from 11.556208235277257 to 11.31225118586715\n",
      "                  validation\n",
      " - Yaw          :   3.221803\n",
      " - Pitch        :   1.659033\n",
      " - Roll         :   1.046558\n",
      " - RMS          :   2.444143\n",
      " - 99% Tile     :  11.484251\n"
     ]
    },
    {
     "name": "stderr",
     "output_type": "stream",
     "text": [
      "[0005/0200] Train: 100%|█████████████████████████████| 221/221 [00:18<00:00, 12.04it/s, loss 8.8760]\n",
      "[0005/0200] Validation: 100%|███████████████████| 213/213 [00:10<00:00, 19.67it/s, val_loss 12.6485]\n",
      "[0006/0200] Train:   0%|                                                    | 0/221 [00:00<?, ?it/s]"
     ]
    },
    {
     "name": "stdout",
     "output_type": "stream",
     "text": [
      "val_loss is not improved for 1 epochs\n",
      "                  validation\n",
      " - Yaw          :   3.819826\n",
      " - Pitch        :   1.823168\n",
      " - Roll         :   0.986223\n",
      " - RMS          :   2.774162\n",
      " - 99% Tile     :  11.562334\n"
     ]
    },
    {
     "name": "stderr",
     "output_type": "stream",
     "text": [
      "[0006/0200] Train: 100%|█████████████████████████████| 221/221 [00:18<00:00, 12.03it/s, loss 8.0908]\n",
      "[0006/0200] Validation: 100%|███████████████████| 213/213 [00:11<00:00, 18.47it/s, val_loss 12.3523]\n",
      "[0007/0200] Train:   0%|                                                    | 0/221 [00:00<?, ?it/s]"
     ]
    },
    {
     "name": "stdout",
     "output_type": "stream",
     "text": [
      "val_loss is not improved for 2 epochs\n",
      "                  validation\n",
      " - Yaw          :   3.103092\n",
      " - Pitch        :   2.730217\n",
      " - Roll         :   1.210804\n",
      " - RMS          :   2.826635\n",
      " - 99% Tile     :  11.045373\n"
     ]
    },
    {
     "name": "stderr",
     "output_type": "stream",
     "text": [
      "[0007/0200] Train: 100%|█████████████████████████████| 221/221 [00:18<00:00, 12.08it/s, loss 7.6507]\n",
      "[0007/0200] Validation: 100%|███████████████████| 213/213 [00:07<00:00, 27.56it/s, val_loss 10.7456]\n",
      "[0008/0200] Train:   0%|                                                    | 0/221 [00:00<?, ?it/s]"
     ]
    },
    {
     "name": "stdout",
     "output_type": "stream",
     "text": [
      "Save checkpoint: val_loss decreased from 11.31225118586715 to 10.745604464705565\n",
      "                  validation\n",
      " - Yaw          :   3.231863\n",
      " - Pitch        :   1.673701\n",
      " - Roll         :   0.943711\n",
      " - RMS          :   2.438002\n",
      " - 99% Tile     :  11.304181\n"
     ]
    },
    {
     "name": "stderr",
     "output_type": "stream",
     "text": [
      "[0008/0200] Train: 100%|█████████████████████████████| 221/221 [00:10<00:00, 20.13it/s, loss 7.2931]\n",
      "[0008/0200] Validation: 100%|███████████████████| 213/213 [00:09<00:00, 22.74it/s, val_loss 12.1314]\n",
      "[0009/0200] Train:   0%|                                                    | 0/221 [00:00<?, ?it/s]"
     ]
    },
    {
     "name": "stdout",
     "output_type": "stream",
     "text": [
      "val_loss is not improved for 1 epochs\n",
      "                  validation\n",
      " - Yaw          :   3.616590\n",
      " - Pitch        :   1.866560\n",
      " - Roll         :   1.135821\n",
      " - RMS          :   2.735469\n",
      " - 99% Tile     :  11.217256\n"
     ]
    },
    {
     "name": "stderr",
     "output_type": "stream",
     "text": [
      "[0009/0200] Train: 100%|█████████████████████████████| 221/221 [00:10<00:00, 20.30it/s, loss 6.9067]\n",
      "[0009/0200] Validation: 100%|███████████████████| 213/213 [00:08<00:00, 24.28it/s, val_loss 12.5155]\n",
      "[0010/0200] Train:   0%|                                                    | 0/221 [00:00<?, ?it/s]"
     ]
    },
    {
     "name": "stdout",
     "output_type": "stream",
     "text": [
      "val_loss is not improved for 2 epochs\n",
      "                  validation\n",
      " - Yaw          :   3.675972\n",
      " - Pitch        :   1.714532\n",
      " - Roll         :   0.901430\n",
      " - RMS          :   2.659988\n",
      " - 99% Tile     :  11.581787\n"
     ]
    },
    {
     "name": "stderr",
     "output_type": "stream",
     "text": [
      "[0010/0200] Train: 100%|█████████████████████████████| 221/221 [00:11<00:00, 18.91it/s, loss 6.6786]\n",
      "[0010/0200] Validation: 100%|███████████████████| 213/213 [00:06<00:00, 34.84it/s, val_loss 15.4262]\n",
      "[0011/0200] Train:   0%|                                                    | 0/221 [00:00<?, ?it/s]"
     ]
    },
    {
     "name": "stdout",
     "output_type": "stream",
     "text": [
      "Decaying lr from 0.001 to 0.0005 because val_loss did not improved for 3 epochs\n",
      "val_loss is not improved for 3 epochs\n",
      "                  validation\n",
      " - Yaw          :   4.732257\n",
      " - Pitch        :   1.713946\n",
      " - Roll         :   0.994722\n",
      " - RMS          :   3.192346\n",
      " - 99% Tile     :  11.928477\n"
     ]
    },
    {
     "name": "stderr",
     "output_type": "stream",
     "text": [
      "[0011/0200] Train: 100%|█████████████████████████████| 221/221 [00:13<00:00, 16.60it/s, loss 5.2965]\n",
      "[0011/0200] Validation: 100%|███████████████████| 213/213 [00:06<00:00, 31.02it/s, val_loss 13.8814]\n",
      "[0012/0200] Train:   0%|                                                    | 0/221 [00:00<?, ?it/s]"
     ]
    },
    {
     "name": "stdout",
     "output_type": "stream",
     "text": [
      "val_loss is not improved for 4 epochs\n",
      "                  validation\n",
      " - Yaw          :   4.286405\n",
      " - Pitch        :   1.850877\n",
      " - Roll         :   0.831528\n",
      " - RMS          :   2.959994\n",
      " - 99% Tile     :  11.454331\n"
     ]
    },
    {
     "name": "stderr",
     "output_type": "stream",
     "text": [
      "[0012/0200] Train: 100%|█████████████████████████████| 221/221 [00:12<00:00, 17.65it/s, loss 4.8028]\n",
      "[0012/0200] Validation: 100%|███████████████████| 213/213 [00:05<00:00, 42.37it/s, val_loss 10.4289]\n",
      "[0013/0200] Train:   0%|                                                    | 0/221 [00:00<?, ?it/s]"
     ]
    },
    {
     "name": "stdout",
     "output_type": "stream",
     "text": [
      "Save checkpoint: val_loss decreased from 10.745604464705565 to 10.42889456597852\n",
      "                  validation\n",
      " - Yaw          :   3.160253\n",
      " - Pitch        :   1.623887\n",
      " - Roll         :   1.034286\n",
      " - RMS          :   2.396866\n",
      " - 99% Tile     :  11.163701\n"
     ]
    },
    {
     "name": "stderr",
     "output_type": "stream",
     "text": [
      "[0013/0200] Train: 100%|█████████████████████████████| 221/221 [00:08<00:00, 26.37it/s, loss 4.4713]\n",
      "[0013/0200] Validation: 100%|███████████████████| 213/213 [00:04<00:00, 42.98it/s, val_loss 11.1283]\n",
      "[0014/0200] Train:   0%|                                                    | 0/221 [00:00<?, ?it/s]"
     ]
    },
    {
     "name": "stdout",
     "output_type": "stream",
     "text": [
      "val_loss is not improved for 1 epochs\n",
      "                  validation\n",
      " - Yaw          :   3.202394\n",
      " - Pitch        :   1.806602\n",
      " - Roll         :   0.900098\n",
      " - RMS          :   2.452961\n",
      " - 99% Tile     :  11.541388\n"
     ]
    },
    {
     "name": "stderr",
     "output_type": "stream",
     "text": [
      "[0014/0200] Train: 100%|█████████████████████████████| 221/221 [00:08<00:00, 26.34it/s, loss 4.2812]\n",
      "[0014/0200] Validation: 100%|███████████████████| 213/213 [00:04<00:00, 43.37it/s, val_loss 13.8263]\n",
      "[0015/0200] Train:   0%|                                                    | 0/221 [00:00<?, ?it/s]"
     ]
    },
    {
     "name": "stdout",
     "output_type": "stream",
     "text": [
      "val_loss is not improved for 2 epochs\n",
      "                  validation\n",
      " - Yaw          :   4.059119\n",
      " - Pitch        :   1.745521\n",
      " - Roll         :   0.973451\n",
      " - RMS          :   2.854770\n",
      " - 99% Tile     :  11.855404\n"
     ]
    },
    {
     "name": "stderr",
     "output_type": "stream",
     "text": [
      "[0015/0200] Train: 100%|█████████████████████████████| 221/221 [00:08<00:00, 26.47it/s, loss 4.6427]\n",
      "[0015/0200] Validation: 100%|███████████████████| 213/213 [00:05<00:00, 42.52it/s, val_loss 11.1897]\n",
      "[0016/0200] Train:   0%|                                                    | 0/221 [00:00<?, ?it/s]"
     ]
    },
    {
     "name": "stdout",
     "output_type": "stream",
     "text": [
      "Decaying lr from 0.0005 to 0.00025 because val_loss did not improved for 3 epochs\n",
      "val_loss is not improved for 3 epochs\n",
      "                  validation\n",
      " - Yaw          :   3.515817\n",
      " - Pitch        :   1.742609\n",
      " - Roll         :   0.871890\n",
      " - RMS          :   2.552940\n",
      " - 99% Tile     :  10.820671\n"
     ]
    },
    {
     "name": "stderr",
     "output_type": "stream",
     "text": [
      "[0016/0200] Train: 100%|█████████████████████████████| 221/221 [00:08<00:00, 26.72it/s, loss 3.2758]\n",
      "[0016/0200] Validation: 100%|███████████████████| 213/213 [00:04<00:00, 42.86it/s, val_loss 10.4069]\n",
      "[0017/0200] Train:   0%|                                                    | 0/221 [00:00<?, ?it/s]"
     ]
    },
    {
     "name": "stdout",
     "output_type": "stream",
     "text": [
      "Save checkpoint: val_loss decreased from 10.42889456597852 to 10.406905026223178\n",
      "                  validation\n",
      " - Yaw          :   3.124654\n",
      " - Pitch        :   1.335461\n",
      " - Roll         :   0.829936\n",
      " - RMS          :   2.247527\n",
      " - 99% Tile     :  11.350059\n"
     ]
    },
    {
     "name": "stderr",
     "output_type": "stream",
     "text": [
      "[0017/0200] Train: 100%|█████████████████████████████| 221/221 [00:08<00:00, 26.67it/s, loss 3.1062]\n",
      "[0017/0200] Validation: 100%|███████████████████| 213/213 [00:04<00:00, 43.76it/s, val_loss 10.8587]\n",
      "[0018/0200] Train:   0%|                                                    | 0/221 [00:00<?, ?it/s]"
     ]
    },
    {
     "name": "stdout",
     "output_type": "stream",
     "text": [
      "val_loss is not improved for 1 epochs\n",
      "                  validation\n",
      " - Yaw          :   3.353061\n",
      " - Pitch        :   1.486712\n",
      " - Roll         :   0.822513\n",
      " - RMS          :   2.387527\n",
      " - 99% Tile     :  11.354987\n"
     ]
    },
    {
     "name": "stderr",
     "output_type": "stream",
     "text": [
      "[0018/0200] Train: 100%|█████████████████████████████| 221/221 [00:08<00:00, 26.16it/s, loss 3.0216]\n",
      "[0018/0200] Validation: 100%|███████████████████| 213/213 [00:04<00:00, 43.05it/s, val_loss 10.9082]\n",
      "[0019/0200] Train:   0%|                                                    | 0/221 [00:00<?, ?it/s]"
     ]
    },
    {
     "name": "stdout",
     "output_type": "stream",
     "text": [
      "val_loss is not improved for 2 epochs\n",
      "                  validation\n",
      " - Yaw          :   3.326896\n",
      " - Pitch        :   1.447355\n",
      " - Roll         :   0.864783\n",
      " - RMS          :   2.392339\n",
      " - 99% Tile     :  11.178711\n"
     ]
    },
    {
     "name": "stderr",
     "output_type": "stream",
     "text": [
      "[0019/0200] Train: 100%|█████████████████████████████| 221/221 [00:08<00:00, 26.47it/s, loss 2.8112]\n",
      "[0019/0200] Validation: 100%|███████████████████| 213/213 [00:04<00:00, 42.86it/s, val_loss 10.2531]\n",
      "[0020/0200] Train:   0%|                                                    | 0/221 [00:00<?, ?it/s]"
     ]
    },
    {
     "name": "stdout",
     "output_type": "stream",
     "text": [
      "Save checkpoint: val_loss decreased from 10.406905026223178 to 10.253081981285064\n",
      "                  validation\n",
      " - Yaw          :   3.014163\n",
      " - Pitch        :   1.360804\n",
      " - Roll         :   0.885028\n",
      " - RMS          :   2.213986\n",
      " - 99% Tile     :  11.592033\n"
     ]
    },
    {
     "name": "stderr",
     "output_type": "stream",
     "text": [
      "[0020/0200] Train: 100%|█████████████████████████████| 221/221 [00:08<00:00, 27.13it/s, loss 2.7650]\n",
      "[0020/0200] Validation: 100%|███████████████████| 213/213 [00:04<00:00, 44.15it/s, val_loss 11.1728]\n",
      "[0021/0200] Train:   0%|                                                    | 0/221 [00:00<?, ?it/s]"
     ]
    },
    {
     "name": "stdout",
     "output_type": "stream",
     "text": [
      "val_loss is not improved for 1 epochs\n",
      "                  validation\n",
      " - Yaw          :   3.243856\n",
      " - Pitch        :   1.656713\n",
      " - Roll         :   0.831816\n",
      " - RMS          :   2.405792\n",
      " - 99% Tile     :  11.485945\n"
     ]
    },
    {
     "name": "stderr",
     "output_type": "stream",
     "text": [
      "[0021/0200] Train: 100%|█████████████████████████████| 221/221 [00:08<00:00, 26.00it/s, loss 2.7263]\n",
      "[0021/0200] Validation: 100%|███████████████████| 213/213 [00:05<00:00, 42.55it/s, val_loss 10.4888]\n",
      "[0022/0200] Train:   0%|                                                    | 0/221 [00:00<?, ?it/s]"
     ]
    },
    {
     "name": "stdout",
     "output_type": "stream",
     "text": [
      "val_loss is not improved for 2 epochs\n",
      "                  validation\n",
      " - Yaw          :   3.071250\n",
      " - Pitch        :   1.436159\n",
      " - Roll         :   0.884047\n",
      " - RMS          :   2.259744\n",
      " - 99% Tile     :  11.546754\n"
     ]
    },
    {
     "name": "stderr",
     "output_type": "stream",
     "text": [
      "[0022/0200] Train: 100%|█████████████████████████████| 221/221 [00:08<00:00, 26.66it/s, loss 2.8102]\n",
      "[0022/0200] Validation: 100%|███████████████████| 213/213 [00:04<00:00, 43.55it/s, val_loss 11.2520]\n",
      "[0023/0200] Train:   0%|                                                    | 0/221 [00:00<?, ?it/s]"
     ]
    },
    {
     "name": "stdout",
     "output_type": "stream",
     "text": [
      "Decaying lr from 0.00025 to 0.000125 because val_loss did not improved for 3 epochs\n",
      "val_loss is not improved for 3 epochs\n",
      "                  validation\n",
      " - Yaw          :   3.376718\n",
      " - Pitch        :   1.531511\n",
      " - Roll         :   0.845966\n",
      " - RMS          :   2.444197\n",
      " - 99% Tile     :  11.633152\n"
     ]
    },
    {
     "name": "stderr",
     "output_type": "stream",
     "text": [
      "[0023/0200] Train: 100%|█████████████████████████████| 221/221 [00:08<00:00, 26.39it/s, loss 2.2907]\n",
      "[0023/0200] Validation: 100%|███████████████████| 213/213 [00:04<00:00, 42.72it/s, val_loss 10.4903]\n",
      "[0024/0200] Train:   0%|                                                    | 0/221 [00:00<?, ?it/s]"
     ]
    },
    {
     "name": "stdout",
     "output_type": "stream",
     "text": [
      "val_loss is not improved for 4 epochs\n",
      "                  validation\n",
      " - Yaw          :   3.038271\n",
      " - Pitch        :   1.387984\n",
      " - Roll         :   0.814381\n",
      " - RMS          :   2.219564\n",
      " - 99% Tile     :  11.538277\n"
     ]
    },
    {
     "name": "stderr",
     "output_type": "stream",
     "text": [
      "[0024/0200] Train: 100%|█████████████████████████████| 221/221 [00:08<00:00, 26.73it/s, loss 2.1507]\n",
      "[0024/0200] Validation: 100%|███████████████████| 213/213 [00:05<00:00, 42.50it/s, val_loss 10.8659]\n",
      "[0025/0200] Train:   0%|                                                    | 0/221 [00:00<?, ?it/s]"
     ]
    },
    {
     "name": "stdout",
     "output_type": "stream",
     "text": [
      "val_loss is not improved for 5 epochs\n",
      "                  validation\n",
      " - Yaw          :   3.204982\n",
      " - Pitch        :   1.377391\n",
      " - Roll         :   0.757896\n",
      " - RMS          :   2.284425\n",
      " - 99% Tile     :  11.770546\n"
     ]
    },
    {
     "name": "stderr",
     "output_type": "stream",
     "text": [
      "[0025/0200] Train: 100%|█████████████████████████████| 221/221 [00:08<00:00, 26.51it/s, loss 2.0896]\n",
      "[0025/0200] Validation: 100%|███████████████████| 213/213 [00:05<00:00, 41.45it/s, val_loss 11.0919]\n",
      "[0026/0200] Train:   0%|                                                    | 0/221 [00:00<?, ?it/s]"
     ]
    },
    {
     "name": "stdout",
     "output_type": "stream",
     "text": [
      "Decaying lr from 0.000125 to 6.25e-05 because val_loss did not improved for 3 epochs\n",
      "val_loss is not improved for 6 epochs\n",
      "                  validation\n",
      " - Yaw          :   3.300941\n",
      " - Pitch        :   1.361317\n",
      " - Roll         :   0.819023\n",
      " - RMS          :   2.338507\n",
      " - 99% Tile     :  11.657003\n"
     ]
    },
    {
     "name": "stderr",
     "output_type": "stream",
     "text": [
      "[0026/0200] Train: 100%|█████████████████████████████| 221/221 [00:08<00:00, 26.29it/s, loss 1.8518]\n",
      "[0026/0200] Validation: 100%|███████████████████| 213/213 [00:04<00:00, 43.78it/s, val_loss 10.9181]\n",
      "[0027/0200] Train:   0%|                                                    | 0/221 [00:00<?, ?it/s]"
     ]
    },
    {
     "name": "stdout",
     "output_type": "stream",
     "text": [
      "val_loss is not improved for 7 epochs\n",
      "                  validation\n",
      " - Yaw          :   3.157167\n",
      " - Pitch        :   1.405980\n",
      " - Roll         :   0.801632\n",
      " - RMS          :   2.285586\n",
      " - 99% Tile     :  11.623614\n"
     ]
    },
    {
     "name": "stderr",
     "output_type": "stream",
     "text": [
      "[0027/0200] Train: 100%|█████████████████████████████| 221/221 [00:08<00:00, 27.16it/s, loss 1.8105]\n",
      "[0027/0200] Validation: 100%|███████████████████| 213/213 [00:04<00:00, 43.47it/s, val_loss 10.9037]\n",
      "[0028/0200] Train:   0%|                                                    | 0/221 [00:00<?, ?it/s]"
     ]
    },
    {
     "name": "stdout",
     "output_type": "stream",
     "text": [
      "val_loss is not improved for 8 epochs\n",
      "                  validation\n",
      " - Yaw          :   3.196344\n",
      " - Pitch        :   1.406639\n",
      " - Roll         :   0.774358\n",
      " - RMS          :   2.297849\n",
      " - 99% Tile     :  11.610069\n"
     ]
    },
    {
     "name": "stderr",
     "output_type": "stream",
     "text": [
      "[0028/0200] Train: 100%|█████████████████████████████| 221/221 [00:08<00:00, 26.68it/s, loss 1.8033]\n",
      "[0028/0200] Validation: 100%|███████████████████| 213/213 [00:04<00:00, 43.37it/s, val_loss 11.1405]\n",
      "[0029/0200] Train:   0%|                                                    | 0/221 [00:00<?, ?it/s]"
     ]
    },
    {
     "name": "stdout",
     "output_type": "stream",
     "text": [
      "Decaying lr from 6.25e-05 to 3.125e-05 because val_loss did not improved for 3 epochs\n",
      "val_loss is not improved for 9 epochs\n",
      "                  validation\n",
      " - Yaw          :   3.219107\n",
      " - Pitch        :   1.422562\n",
      " - Roll         :   0.810418\n",
      " - RMS          :   2.323131\n",
      " - 99% Tile     :  11.757993\n"
     ]
    },
    {
     "name": "stderr",
     "output_type": "stream",
     "text": [
      "[0029/0200] Train: 100%|█████████████████████████████| 221/221 [00:08<00:00, 25.97it/s, loss 1.6770]\n",
      "[0029/0200] Validation: 100%|███████████████████| 213/213 [00:05<00:00, 42.49it/s, val_loss 10.9605]"
     ]
    },
    {
     "name": "stdout",
     "output_type": "stream",
     "text": [
      "val_loss is not improved for 10 epochs\n",
      "Stop training because val_loss did not improved for 10 epochs\n",
      "                  validation\n",
      " - Yaw          :   3.175838\n",
      " - Pitch        :   1.371324\n",
      " - Roll         :   0.790025\n",
      " - RMS          :   2.276156\n",
      " - 99% Tile     :  11.831676\n"
     ]
    },
    {
     "name": "stderr",
     "output_type": "stream",
     "text": [
      "\n"
     ]
    }
   ],
   "source": [
    "trainer.fit(ds_train, ds_test, num_epochs=200, batch_size=256, shuffle=True, pin_memory=True)"
   ]
  },
  {
   "cell_type": "code",
   "execution_count": null,
   "metadata": {},
   "outputs": [],
   "source": []
  }
 ],
 "metadata": {
  "kernelspec": {
   "display_name": "torch",
   "language": "python",
   "name": "torch"
  },
  "language_info": {
   "codemirror_mode": {
    "name": "ipython",
    "version": 3
   },
   "file_extension": ".py",
   "mimetype": "text/x-python",
   "name": "python",
   "nbconvert_exporter": "python",
   "pygments_lexer": "ipython3",
   "version": "3.7.9"
  }
 },
 "nbformat": 4,
 "nbformat_minor": 4
}
