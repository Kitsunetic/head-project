{
 "cells": [
  {
   "cell_type": "code",
   "execution_count": 1,
   "metadata": {},
   "outputs": [],
   "source": [
    "from multiprocessing import cpu_count\n",
    "from pathlib import Path\n",
    "from typing import List, Union, AnyStr\n",
    "from math import pi\n",
    "import pickle\n",
    "\n",
    "import numpy as np\n",
    "import torch\n",
    "import matplotlib.pyplot as plt\n",
    "import torch.nn as nn\n",
    "from sklearn import model_selection\n",
    "from tqdm import tqdm\n",
    "import torch_optimizer\n",
    "from torch.utils.data import Dataset\n",
    "import pandas as pd\n",
    "import random\n",
    "\n",
    "import torch_burn as tb\n",
    "import utils"
   ]
  },
  {
   "cell_type": "code",
   "execution_count": 2,
   "metadata": {},
   "outputs": [],
   "source": [
    "tb.seed_everything(0)"
   ]
  },
  {
   "cell_type": "code",
   "execution_count": 3,
   "metadata": {},
   "outputs": [],
   "source": [
    "EXPERIMENT_NAME = '1127-LSTM-win120'\n",
    "CHECKPOINT_DIR = Path('checkpoint', EXPERIMENT_NAME)\n",
    "CHECKPOINT_DIR.mkdir(parents=True, exist_ok=True)\n",
    "\n",
    "DATA_DIR = Path('data/1116')\n",
    "TRAIN_FILES = sorted(list(DATA_DIR.glob('*scene3_0.csv')))\n",
    "TEST_FILES = sorted(list(DATA_DIR.glob('*scene3_1.csv')))"
   ]
  },
  {
   "cell_type": "markdown",
   "metadata": {},
   "source": [
    "# 데이터셋 생성\n",
    "\n",
    "scene1에 대해서 모든 user의 데이터를 하나로 합친다."
   ]
  },
  {
   "cell_type": "code",
   "execution_count": 4,
   "metadata": {},
   "outputs": [],
   "source": [
    "WINDOW_SIZE = 120"
   ]
  },
  {
   "cell_type": "code",
   "execution_count": 5,
   "metadata": {},
   "outputs": [],
   "source": [
    "class CSVSequentialDataset(Dataset):\n",
    "    def __init__(self, csvfile, window_size, stride):\n",
    "        super(CSVSequentialDataset, self).__init__()\n",
    "\n",
    "        self.xcols = ['input_orientation_yaw', 'input_orientation_pitch', 'input_orientation_roll',\n",
    "                      'acceleration_x', 'acceleration_y', 'acceleration_z']\n",
    "        self.ycols = ['input_orientation_yaw', 'input_orientation_pitch', 'input_orientation_roll']\n",
    "\n",
    "        self.csv = pd.read_csv(csvfile)\n",
    "        self.window_size = window_size\n",
    "        \n",
    "        self.indexes = []\n",
    "        i = 0\n",
    "        while i <= len(self.csv) - window_size * 2:\n",
    "            self.indexes.append((i, i + window_size))\n",
    "            i += stride\n",
    "\n",
    "    def __len__(self):\n",
    "        return len(self.indexes)\n",
    "\n",
    "    def __getitem__(self, idx):\n",
    "        sx, tx = self.indexes[idx]\n",
    "        sy, ty = sx + 18, tx + 18\n",
    "        x = self.csv.iloc[sx:tx][self.xcols].to_numpy()\n",
    "        y = self.csv.iloc[sy:ty][self.ycols].to_numpy()\n",
    "\n",
    "        x = torch.tensor(x, dtype=torch.float32) # 300, 6\n",
    "        y = torch.tensor(y, dtype=torch.float32) # 300, 3\n",
    "\n",
    "        return x, y"
   ]
  },
  {
   "cell_type": "code",
   "execution_count": 6,
   "metadata": {},
   "outputs": [],
   "source": [
    "ds_train = [CSVSequentialDataset(f, window_size=WINDOW_SIZE, stride=5) for f in TRAIN_FILES]\n",
    "ds_train = tb.data.ChainDataset(*ds_train)\n",
    "ds_test = [CSVSequentialDataset(f, window_size=WINDOW_SIZE, stride=5) for f in TEST_FILES]\n",
    "ds_test = tb.data.ChainDataset(*ds_test)"
   ]
  },
  {
   "cell_type": "code",
   "execution_count": 7,
   "metadata": {},
   "outputs": [
    {
     "data": {
      "text/plain": [
       "(11071, 10671)"
      ]
     },
     "execution_count": 7,
     "metadata": {},
     "output_type": "execute_result"
    }
   ],
   "source": [
    "len(ds_train), len(ds_test)"
   ]
  },
  {
   "cell_type": "code",
   "execution_count": 8,
   "metadata": {},
   "outputs": [
    {
     "data": {
      "text/plain": [
       "(torch.Size([120, 6]), torch.Size([120, 3]))"
      ]
     },
     "execution_count": 8,
     "metadata": {},
     "output_type": "execute_result"
    }
   ],
   "source": [
    "ds_train[0][0].shape, ds_train[0][1].shape"
   ]
  },
  {
   "cell_type": "code",
   "execution_count": 9,
   "metadata": {},
   "outputs": [],
   "source": [
    "x, y = ds_train[0]"
   ]
  },
  {
   "cell_type": "code",
   "execution_count": 10,
   "metadata": {},
   "outputs": [
    {
     "data": {
      "text/plain": [
       "torch.Size([120, 6])"
      ]
     },
     "execution_count": 10,
     "metadata": {},
     "output_type": "execute_result"
    }
   ],
   "source": [
    "x.shape"
   ]
  },
  {
   "cell_type": "code",
   "execution_count": 11,
   "metadata": {},
   "outputs": [
    {
     "data": {
      "image/png": "[encoded data removed]",
      "text/plain": [
       "<Figure size 864x216 with 3 Axes>"
      ]
     },
     "metadata": {
      "needs_background": "light"
     },
     "output_type": "display_data"
    }
   ],
   "source": [
    "plt.figure(figsize=(12, 3))\n",
    "\n",
    "plt.subplot(1, 3, 1)\n",
    "plt.plot(x[:, 0])\n",
    "plt.title('Yaw')\n",
    "\n",
    "plt.subplot(1, 3, 2)\n",
    "plt.plot(x[:, 1])\n",
    "plt.title('Pitch')\n",
    "\n",
    "plt.subplot(1, 3, 3)\n",
    "plt.plot(x[:, 2])\n",
    "plt.title('Roll')\n",
    "\n",
    "plt.tight_layout()\n",
    "plt.show()"
   ]
  },
  {
   "cell_type": "markdown",
   "metadata": {},
   "source": [
    "# 모델 생성\n",
    "\n",
    "StackedLSTM Bidirectional"
   ]
  },
  {
   "cell_type": "code",
   "execution_count": 12,
   "metadata": {},
   "outputs": [],
   "source": [
    "class M2M_LSTM(nn.Module):\n",
    "    def __init__(self):\n",
    "        super(M2M_LSTM, self).__init__()\n",
    "\n",
    "        self.rnn = nn.LSTM(input_size=6,\n",
    "                           hidden_size=64,\n",
    "                           num_layers=8,\n",
    "                           batch_first=True,\n",
    "                           dropout=0.2,\n",
    "                           bidirectional=True)\n",
    "\n",
    "        self.out = nn.LSTM(input_size=128, \n",
    "                           hidden_size=3, \n",
    "                           num_layers=1, \n",
    "                           batch_first=True, \n",
    "                           dropout=0, \n",
    "                           bidirectional=False)\n",
    "        self.fc = nn.Linear(128, 3)\n",
    "\n",
    "    def forward(self, x):\n",
    "        x, (hiddens, cells) = self.rnn(x) # B, S, 128\n",
    "        #x, (hiddens, cells) = self.out(x) # B, S, 3\n",
    "        hs = []\n",
    "        for i in range(x.shape[1]):\n",
    "            h = self.fc(x[:, i])\n",
    "            hs.append(h)\n",
    "        h = torch.stack(hs, 1)\n",
    "\n",
    "        return h"
   ]
  },
  {
   "cell_type": "code",
   "execution_count": 13,
   "metadata": {},
   "outputs": [],
   "source": [
    "model = M2M_LSTM().cuda()"
   ]
  },
  {
   "cell_type": "code",
   "execution_count": 14,
   "metadata": {},
   "outputs": [],
   "source": [
    "criterion = nn.MSELoss().cuda()\n",
    "optimizer = torch_optimizer.RAdam(model.parameters())"
   ]
  },
  {
   "cell_type": "code",
   "execution_count": 15,
   "metadata": {},
   "outputs": [],
   "source": [
    "class HPMetric(tb.metrics.InvisibleMetric):\n",
    "    def __init__(self, name: str):\n",
    "        super(HPMetric, self).__init__(name)\n",
    "\n",
    "        self.diff = []\n",
    "\n",
    "    def on_valid_epoch_end(self, epoch: int, logs: dict):\n",
    "        # RMS, 99% tile 출력\n",
    "        yaw_v, pitch_v, roll_v, rms_v, tile99_v = self._calc_values(self.diff)\n",
    "\n",
    "        print(f'                  validation')\n",
    "        print(f' - Yaw          : {yaw_v:10f}')\n",
    "        print(f' - Pitch        : {pitch_v:10f}')\n",
    "        print(f' - Roll         : {roll_v:10f}')\n",
    "        print(f' - RMS          : {rms_v:10f}')\n",
    "        print(f' - 99% Tile     : {tile99_v:10f}')\n",
    "\n",
    "        self.diff.clear()\n",
    "\n",
    "    def get_value(self, outputs: torch.Tensor, targets: torch.Tensor, is_train: bool):\n",
    "        if not is_train:\n",
    "            self.diff.append((outputs - targets).mean(1).detach().cpu())  # (B, S, 3) --> (B, 3)\n",
    "\n",
    "    @staticmethod\n",
    "    def _calc_values(diff):\n",
    "        diff = torch.cat(diff).abs_()  # (D, 3)\n",
    "        rms = (diff.square().sum(1) / 3).sqrt()\n",
    "        tile = rms.flatten().numpy()\n",
    "        tile99 = np.percentile(tile, 99)\n",
    "        \n",
    "        mrms = rms.mean()\n",
    "        \n",
    "        # diff = radian2degree(diff)\n",
    "        #tile = diff.flatten().numpy()\n",
    "        #tile99 = np.percentile(tile, 99)\n",
    "\n",
    "        mdiff = diff.mean(dim=0)\n",
    "        #rms = (mdiff.square().sum() / 3).sqrt()\n",
    "\n",
    "        return mdiff[0].item(), mdiff[1].item(), mdiff[2].item(), mrms.item(), tile99"
   ]
  },
  {
   "cell_type": "code",
   "execution_count": 16,
   "metadata": {},
   "outputs": [],
   "source": [
    "metrics = [tb.metrics.ModuleMetric(criterion, 'loss'),\n",
    "           HPMetric('hp_metric')]"
   ]
  },
  {
   "cell_type": "code",
   "execution_count": 17,
   "metadata": {},
   "outputs": [],
   "source": [
    "callbacks = [tb.callbacks.EarlyStopping(metrics[0]),\n",
    "             tb.callbacks.LRDecaying(optimizer, metrics[0], patience=3),\n",
    "             tb.callbacks.SaveCheckpoint({'model': model}, metrics[0], CHECKPOINT_DIR, 'best-ckpt.pth')]"
   ]
  },
  {
   "cell_type": "code",
   "execution_count": 18,
   "metadata": {},
   "outputs": [],
   "source": [
    "trainer = tb.Trainer(model, optimizer, metrics, callbacks, ncols=100)"
   ]
  },
  {
   "cell_type": "code",
   "execution_count": 19,
   "metadata": {},
   "outputs": [
    {
     "name": "stderr",
     "output_type": "stream",
     "text": [
      "[0001/0200] Train: 100%|█████████████████████████████| 44/44 [00:14<00:00,  2.99it/s, loss 290.3211]\n",
      "[0001/0200] Validation: 100%|████████████████████| 42/42 [00:05<00:00,  7.73it/s, val_loss 235.8046]\n",
      "[0002/0200] Train:   0%|                                                     | 0/44 [00:00<?, ?it/s]"
     ]
    },
    {
     "name": "stdout",
     "output_type": "stream",
     "text": [
      "Save checkpoint: val_loss decreased from inf to 235.8046284630185\n",
      "                  validation\n",
      " - Yaw          :  18.209953\n",
      " - Pitch        :  10.195655\n",
      " - Roll         :   2.426534\n",
      " - RMS          :  13.053984\n",
      " - 99% Tile     :  27.050447\n"
     ]
    },
    {
     "name": "stderr",
     "output_type": "stream",
     "text": [
      "[0002/0200] Train: 100%|█████████████████████████████| 44/44 [00:14<00:00,  2.96it/s, loss 264.2666]\n",
      "[0002/0200] Validation: 100%|████████████████████| 42/42 [00:06<00:00,  6.59it/s, val_loss 192.6776]\n",
      "[0003/0200] Train:   0%|                                                     | 0/44 [00:00<?, ?it/s]"
     ]
    },
    {
     "name": "stdout",
     "output_type": "stream",
     "text": [
      "Save checkpoint: val_loss decreased from 235.8046284630185 to 192.67763237726123\n",
      "                  validation\n",
      " - Yaw          :  15.911419\n",
      " - Pitch        :   9.012309\n",
      " - Roll         :   2.434345\n",
      " - RMS          :  11.554173\n",
      " - 99% Tile     :  25.482594\n"
     ]
    },
    {
     "name": "stderr",
     "output_type": "stream",
     "text": [
      "[0003/0200] Train: 100%|█████████████████████████████| 44/44 [00:14<00:00,  2.98it/s, loss 216.0948]\n",
      "[0003/0200] Validation: 100%|████████████████████| 42/42 [00:06<00:00,  6.97it/s, val_loss 153.1552]\n",
      "[0004/0200] Train:   0%|                                                     | 0/44 [00:00<?, ?it/s]"
     ]
    },
    {
     "name": "stdout",
     "output_type": "stream",
     "text": [
      "Save checkpoint: val_loss decreased from 192.67763237726123 to 153.15524855114163\n",
      "                  validation\n",
      " - Yaw          :  13.439418\n",
      " - Pitch        :   8.215492\n",
      " - Roll         :   2.354314\n",
      " - RMS          :  10.067547\n",
      " - 99% Tile     :  23.503929\n"
     ]
    },
    {
     "name": "stderr",
     "output_type": "stream",
     "text": [
      "[0004/0200] Train: 100%|█████████████████████████████| 44/44 [00:14<00:00,  3.06it/s, loss 178.5162]\n",
      "[0004/0200] Validation: 100%|████████████████████| 42/42 [00:05<00:00,  7.83it/s, val_loss 126.1646]\n",
      "[0005/0200] Train:   0%|                                                     | 0/44 [00:00<?, ?it/s]"
     ]
    },
    {
     "name": "stdout",
     "output_type": "stream",
     "text": [
      "Save checkpoint: val_loss decreased from 153.15524855114163 to 126.16457589467366\n",
      "                  validation\n",
      " - Yaw          :  11.705969\n",
      " - Pitch        :   7.674967\n",
      " - Roll         :   2.244334\n",
      " - RMS          :   8.948116\n",
      " - 99% Tile     :  21.623724\n"
     ]
    },
    {
     "name": "stderr",
     "output_type": "stream",
     "text": [
      "[0005/0200] Train: 100%|█████████████████████████████| 44/44 [00:14<00:00,  3.11it/s, loss 151.3845]\n",
      "[0005/0200] Validation: 100%|████████████████████| 42/42 [00:06<00:00,  6.41it/s, val_loss 107.0155]\n",
      "[0006/0200] Train:   0%|                                                     | 0/44 [00:00<?, ?it/s]"
     ]
    },
    {
     "name": "stdout",
     "output_type": "stream",
     "text": [
      "Save checkpoint: val_loss decreased from 126.16457589467366 to 107.01545801616851\n",
      "                  validation\n",
      " - Yaw          :  10.370607\n",
      " - Pitch        :   7.194466\n",
      " - Roll         :   2.240994\n",
      " - RMS          :   8.104319\n",
      " - 99% Tile     :  20.517000\n"
     ]
    },
    {
     "name": "stderr",
     "output_type": "stream",
     "text": [
      "[0006/0200] Train: 100%|█████████████████████████████| 44/44 [00:14<00:00,  3.14it/s, loss 131.1181]\n",
      "[0006/0200] Validation: 100%|█████████████████████| 42/42 [00:05<00:00,  7.36it/s, val_loss 92.8727]\n",
      "[0007/0200] Train:   0%|                                                     | 0/44 [00:00<?, ?it/s]"
     ]
    },
    {
     "name": "stdout",
     "output_type": "stream",
     "text": [
      "Save checkpoint: val_loss decreased from 107.01545801616851 to 92.87267734890891\n",
      "                  validation\n",
      " - Yaw          :   9.188320\n",
      " - Pitch        :   6.840122\n",
      " - Roll         :   2.252495\n",
      " - RMS          :   7.449759\n",
      " - 99% Tile     :  19.538926\n"
     ]
    },
    {
     "name": "stderr",
     "output_type": "stream",
     "text": [
      "[0007/0200] Train: 100%|█████████████████████████████| 44/44 [00:13<00:00,  3.23it/s, loss 114.1581]\n",
      "[0007/0200] Validation: 100%|█████████████████████| 42/42 [00:05<00:00,  8.34it/s, val_loss 78.6883]\n",
      "[0008/0200] Train:   0%|                                                     | 0/44 [00:00<?, ?it/s]"
     ]
    },
    {
     "name": "stdout",
     "output_type": "stream",
     "text": [
      "Save checkpoint: val_loss decreased from 92.87267734890891 to 78.68833530516852\n",
      "                  validation\n",
      " - Yaw          :   8.082277\n",
      " - Pitch        :   6.274278\n",
      " - Roll         :   2.243539\n",
      " - RMS          :   6.739577\n",
      " - 99% Tile     :  18.353258\n"
     ]
    },
    {
     "name": "stderr",
     "output_type": "stream",
     "text": [
      "[0008/0200] Train: 100%|██████████████████████████████| 44/44 [00:14<00:00,  3.04it/s, loss 99.7732]\n",
      "[0008/0200] Validation: 100%|█████████████████████| 42/42 [00:05<00:00,  7.82it/s, val_loss 66.7414]\n",
      "[0009/0200] Train:   0%|                                                     | 0/44 [00:00<?, ?it/s]"
     ]
    },
    {
     "name": "stdout",
     "output_type": "stream",
     "text": [
      "Save checkpoint: val_loss decreased from 78.68833530516852 to 66.74144390651158\n",
      "                  validation\n",
      " - Yaw          :   7.226402\n",
      " - Pitch        :   5.563637\n",
      " - Roll         :   2.236682\n",
      " - RMS          :   6.068611\n",
      " - 99% Tile     :  17.329950\n"
     ]
    },
    {
     "name": "stderr",
     "output_type": "stream",
     "text": [
      "[0009/0200] Train: 100%|██████████████████████████████| 44/44 [00:13<00:00,  3.16it/s, loss 85.9556]\n",
      "[0009/0200] Validation: 100%|█████████████████████| 42/42 [00:06<00:00,  6.53it/s, val_loss 56.9717]\n",
      "[0010/0200] Train:   0%|                                                     | 0/44 [00:00<?, ?it/s]"
     ]
    },
    {
     "name": "stdout",
     "output_type": "stream",
     "text": [
      "Save checkpoint: val_loss decreased from 66.74144390651158 to 56.97174483253842\n",
      "                  validation\n",
      " - Yaw          :   6.211850\n",
      " - Pitch        :   5.253831\n",
      " - Roll         :   2.249023\n",
      " - RMS          :   5.509966\n",
      " - 99% Tile     :  16.269660\n"
     ]
    },
    {
     "name": "stderr",
     "output_type": "stream",
     "text": [
      "[0010/0200] Train: 100%|██████████████████████████████| 44/44 [00:14<00:00,  3.10it/s, loss 75.0693]\n",
      "[0010/0200] Validation: 100%|█████████████████████| 42/42 [00:05<00:00,  7.55it/s, val_loss 49.0842]\n",
      "[0011/0200] Train:   0%|                                                     | 0/44 [00:00<?, ?it/s]"
     ]
    },
    {
     "name": "stdout",
     "output_type": "stream",
     "text": [
      "Save checkpoint: val_loss decreased from 56.97174483253842 to 49.084238370259605\n",
      "                  validation\n",
      " - Yaw          :   5.633984\n",
      " - Pitch        :   4.855975\n",
      " - Roll         :   2.255434\n",
      " - RMS          :   5.075986\n",
      " - 99% Tile     :  15.490222\n"
     ]
    },
    {
     "name": "stderr",
     "output_type": "stream",
     "text": [
      "[0011/0200] Train: 100%|██████████████████████████████| 44/44 [00:14<00:00,  2.95it/s, loss 66.0321]\n",
      "[0011/0200] Validation: 100%|█████████████████████| 42/42 [00:07<00:00,  5.50it/s, val_loss 42.4608]\n",
      "[0012/0200] Train:   0%|                                                     | 0/44 [00:00<?, ?it/s]"
     ]
    },
    {
     "name": "stdout",
     "output_type": "stream",
     "text": [
      "Save checkpoint: val_loss decreased from 49.084238370259605 to 42.46081189882188\n",
      "                  validation\n",
      " - Yaw          :   5.306212\n",
      " - Pitch        :   4.282553\n",
      " - Roll         :   2.266616\n",
      " - RMS          :   4.688795\n",
      " - 99% Tile     :  14.727848\n"
     ]
    },
    {
     "name": "stderr",
     "output_type": "stream",
     "text": [
      "[0012/0200] Train: 100%|██████████████████████████████| 44/44 [00:15<00:00,  2.78it/s, loss 56.9926]\n",
      "[0012/0200] Validation: 100%|█████████████████████| 42/42 [00:04<00:00,  8.49it/s, val_loss 35.4248]\n",
      "[0013/0200] Train:   0%|                                                     | 0/44 [00:00<?, ?it/s]"
     ]
    },
    {
     "name": "stdout",
     "output_type": "stream",
     "text": [
      "Save checkpoint: val_loss decreased from 42.46081189882188 to 35.42476581391833\n",
      "                  validation\n",
      " - Yaw          :   4.465352\n",
      " - Pitch        :   3.693047\n",
      " - Roll         :   2.249701\n",
      " - RMS          :   4.125103\n",
      " - 99% Tile     :  13.945538\n"
     ]
    },
    {
     "name": "stderr",
     "output_type": "stream",
     "text": [
      "[0013/0200] Train: 100%|██████████████████████████████| 44/44 [00:13<00:00,  3.27it/s, loss 50.2284]\n",
      "[0013/0200] Validation: 100%|█████████████████████| 42/42 [00:05<00:00,  7.31it/s, val_loss 30.3827]\n",
      "[0014/0200] Train:   0%|                                                     | 0/44 [00:00<?, ?it/s]"
     ]
    },
    {
     "name": "stdout",
     "output_type": "stream",
     "text": [
      "Save checkpoint: val_loss decreased from 35.42476581391833 to 30.382690531866892\n",
      "                  validation\n",
      " - Yaw          :   4.084827\n",
      " - Pitch        :   3.313365\n",
      " - Roll         :   2.248132\n",
      " - RMS          :   3.812726\n",
      " - 99% Tile     :  13.239458\n"
     ]
    },
    {
     "name": "stderr",
     "output_type": "stream",
     "text": [
      "[0014/0200] Train: 100%|██████████████████████████████| 44/44 [00:16<00:00,  2.68it/s, loss 44.3354]\n",
      "[0014/0200] Validation: 100%|█████████████████████| 42/42 [00:05<00:00,  8.10it/s, val_loss 26.0119]\n",
      "[0015/0200] Train:   0%|                                                     | 0/44 [00:00<?, ?it/s]"
     ]
    },
    {
     "name": "stdout",
     "output_type": "stream",
     "text": [
      "Save checkpoint: val_loss decreased from 30.382690531866892 to 26.011926787240164\n",
      "                  validation\n",
      " - Yaw          :   3.540429\n",
      " - Pitch        :   2.952351\n",
      " - Roll         :   2.236752\n",
      " - RMS          :   3.457930\n",
      " - 99% Tile     :  12.450292\n"
     ]
    },
    {
     "name": "stderr",
     "output_type": "stream",
     "text": [
      "[0015/0200] Train: 100%|██████████████████████████████| 44/44 [00:17<00:00,  2.52it/s, loss 38.9790]\n",
      "[0015/0200] Validation: 100%|█████████████████████| 42/42 [00:05<00:00,  7.82it/s, val_loss 22.2366]\n",
      "[0016/0200] Train:   0%|                                                     | 0/44 [00:00<?, ?it/s]"
     ]
    },
    {
     "name": "stdout",
     "output_type": "stream",
     "text": [
      "Save checkpoint: val_loss decreased from 26.011926787240164 to 22.23664735044752\n",
      "                  validation\n",
      " - Yaw          :   3.055842\n",
      " - Pitch        :   2.670104\n",
      " - Roll         :   2.220230\n",
      " - RMS          :   3.132455\n",
      " - 99% Tile     :  11.684175\n"
     ]
    },
    {
     "name": "stderr",
     "output_type": "stream",
     "text": [
      "[0016/0200] Train: 100%|██████████████████████████████| 44/44 [00:17<00:00,  2.45it/s, loss 34.4804]\n",
      "[0016/0200] Validation: 100%|█████████████████████| 42/42 [00:05<00:00,  7.02it/s, val_loss 19.7046]\n",
      "[0017/0200] Train:   0%|                                                     | 0/44 [00:00<?, ?it/s]"
     ]
    },
    {
     "name": "stdout",
     "output_type": "stream",
     "text": [
      "Save checkpoint: val_loss decreased from 22.23664735044752 to 19.704634286108472\n",
      "                  validation\n",
      " - Yaw          :   3.042125\n",
      " - Pitch        :   2.457873\n",
      " - Roll         :   2.221213\n",
      " - RMS          :   3.016486\n",
      " - 99% Tile     :  10.946892\n"
     ]
    },
    {
     "name": "stderr",
     "output_type": "stream",
     "text": [
      "[0017/0200] Train: 100%|██████████████████████████████| 44/44 [00:18<00:00,  2.37it/s, loss 31.3700]\n",
      "[0017/0200] Validation: 100%|█████████████████████| 42/42 [00:06<00:00,  6.61it/s, val_loss 17.0862]\n",
      "[0018/0200] Train:   0%|                                                     | 0/44 [00:00<?, ?it/s]"
     ]
    },
    {
     "name": "stdout",
     "output_type": "stream",
     "text": [
      "Save checkpoint: val_loss decreased from 19.704634286108472 to 17.086164014680044\n",
      "                  validation\n",
      " - Yaw          :   2.575687\n",
      " - Pitch        :   2.225807\n",
      " - Roll         :   2.208432\n",
      " - RMS          :   2.749830\n",
      " - 99% Tile     :  10.358132\n"
     ]
    },
    {
     "name": "stderr",
     "output_type": "stream",
     "text": [
      "[0018/0200] Train: 100%|██████████████████████████████| 44/44 [00:18<00:00,  2.37it/s, loss 27.8462]\n",
      "[0018/0200] Validation: 100%|█████████████████████| 42/42 [00:05<00:00,  7.37it/s, val_loss 15.4873]\n",
      "[0019/0200] Train:   0%|                                                     | 0/44 [00:00<?, ?it/s]"
     ]
    },
    {
     "name": "stdout",
     "output_type": "stream",
     "text": [
      "Save checkpoint: val_loss decreased from 17.086164014680044 to 15.4872641818864\n",
      "                  validation\n",
      " - Yaw          :   2.397912\n",
      " - Pitch        :   2.208949\n",
      " - Roll         :   2.219008\n",
      " - RMS          :   2.667806\n",
      " - 99% Tile     :   9.855052\n"
     ]
    },
    {
     "name": "stderr",
     "output_type": "stream",
     "text": [
      "[0019/0200] Train: 100%|██████████████████████████████| 44/44 [00:19<00:00,  2.24it/s, loss 25.1194]\n",
      "[0019/0200] Validation: 100%|█████████████████████| 42/42 [00:05<00:00,  7.34it/s, val_loss 13.4755]\n",
      "[0020/0200] Train:   0%|                                                     | 0/44 [00:00<?, ?it/s]"
     ]
    },
    {
     "name": "stdout",
     "output_type": "stream",
     "text": [
      "Save checkpoint: val_loss decreased from 15.4872641818864 to 13.475546229453315\n",
      "                  validation\n",
      " - Yaw          :   1.967591\n",
      " - Pitch        :   1.873329\n",
      " - Roll         :   2.193111\n",
      " - RMS          :   2.393678\n",
      " - 99% Tile     :   9.496765\n"
     ]
    },
    {
     "name": "stderr",
     "output_type": "stream",
     "text": [
      "[0020/0200] Train: 100%|██████████████████████████████| 44/44 [00:19<00:00,  2.26it/s, loss 22.6978]\n",
      "[0020/0200] Validation: 100%|█████████████████████| 42/42 [00:06<00:00,  6.34it/s, val_loss 12.0782]\n",
      "[0021/0200] Train:   0%|                                                     | 0/44 [00:00<?, ?it/s]"
     ]
    },
    {
     "name": "stdout",
     "output_type": "stream",
     "text": [
      "Save checkpoint: val_loss decreased from 13.475546229453315 to 12.07818154210136\n",
      "                  validation\n",
      " - Yaw          :   1.826135\n",
      " - Pitch        :   1.683598\n",
      " - Roll         :   2.177956\n",
      " - RMS          :   2.258917\n",
      " - 99% Tile     :   9.091623\n"
     ]
    },
    {
     "name": "stderr",
     "output_type": "stream",
     "text": [
      "[0021/0200] Train: 100%|██████████████████████████████| 44/44 [00:18<00:00,  2.34it/s, loss 20.8579]\n",
      "[0021/0200] Validation: 100%|█████████████████████| 42/42 [00:07<00:00,  5.95it/s, val_loss 11.3172]\n",
      "[0022/0200] Train:   0%|                                                     | 0/44 [00:00<?, ?it/s]"
     ]
    },
    {
     "name": "stdout",
     "output_type": "stream",
     "text": [
      "Save checkpoint: val_loss decreased from 12.07818154210136 to 11.317228572709222\n",
      "                  validation\n",
      " - Yaw          :   1.771624\n",
      " - Pitch        :   1.680222\n",
      " - Roll         :   2.174250\n",
      " - RMS          :   2.224472\n",
      " - 99% Tile     :   8.641909\n"
     ]
    },
    {
     "name": "stderr",
     "output_type": "stream",
     "text": [
      "[0022/0200] Train: 100%|██████████████████████████████| 44/44 [00:19<00:00,  2.29it/s, loss 19.3142]\n",
      "[0022/0200] Validation: 100%|█████████████████████| 42/42 [00:07<00:00,  5.92it/s, val_loss 10.1392]\n",
      "[0023/0200] Train:   0%|                                                     | 0/44 [00:00<?, ?it/s]"
     ]
    },
    {
     "name": "stdout",
     "output_type": "stream",
     "text": [
      "Save checkpoint: val_loss decreased from 11.317228572709222 to 10.139175962834127\n",
      "                  validation\n",
      " - Yaw          :   1.451862\n",
      " - Pitch        :   1.523923\n",
      " - Roll         :   2.137539\n",
      " - RMS          :   2.053096\n",
      " - 99% Tile     :   8.346278\n"
     ]
    },
    {
     "name": "stderr",
     "output_type": "stream",
     "text": [
      "[0023/0200] Train: 100%|██████████████████████████████| 44/44 [00:20<00:00,  2.18it/s, loss 17.7707]\n",
      "[0023/0200] Validation: 100%|██████████████████████| 42/42 [00:07<00:00,  5.83it/s, val_loss 9.6219]\n",
      "[0024/0200] Train:   0%|                                                     | 0/44 [00:00<?, ?it/s]"
     ]
    },
    {
     "name": "stdout",
     "output_type": "stream",
     "text": [
      "Save checkpoint: val_loss decreased from 10.139175962834127 to 9.621930247261409\n",
      "                  validation\n",
      " - Yaw          :   1.543004\n",
      " - Pitch        :   1.482088\n",
      " - Roll         :   2.093898\n",
      " - RMS          :   2.036510\n",
      " - 99% Tile     :   8.006323\n"
     ]
    },
    {
     "name": "stderr",
     "output_type": "stream",
     "text": [
      "[0024/0200] Train: 100%|██████████████████████████████| 44/44 [00:18<00:00,  2.36it/s, loss 16.5897]\n",
      "[0024/0200] Validation: 100%|██████████████████████| 42/42 [00:06<00:00,  6.38it/s, val_loss 8.9001]\n",
      "[0025/0200] Train:   0%|                                                     | 0/44 [00:00<?, ?it/s]"
     ]
    },
    {
     "name": "stdout",
     "output_type": "stream",
     "text": [
      "Save checkpoint: val_loss decreased from 9.621930247261409 to 8.900141534351167\n",
      "                  validation\n",
      " - Yaw          :   1.347553\n",
      " - Pitch        :   1.458392\n",
      " - Roll         :   2.092911\n",
      " - RMS          :   1.948740\n",
      " - 99% Tile     :   7.720876\n"
     ]
    },
    {
     "name": "stderr",
     "output_type": "stream",
     "text": [
      "[0025/0200] Train: 100%|██████████████████████████████| 44/44 [00:18<00:00,  2.44it/s, loss 15.3889]\n",
      "[0025/0200] Validation: 100%|██████████████████████| 42/42 [00:07<00:00,  5.40it/s, val_loss 8.2190]\n",
      "[0026/0200] Train:   0%|                                                     | 0/44 [00:00<?, ?it/s]"
     ]
    },
    {
     "name": "stdout",
     "output_type": "stream",
     "text": [
      "Save checkpoint: val_loss decreased from 8.900141534351167 to 8.219011471385048\n",
      "                  validation\n",
      " - Yaw          :   1.142593\n",
      " - Pitch        :   1.425649\n",
      " - Roll         :   2.067683\n",
      " - RMS          :   1.854175\n",
      " - 99% Tile     :   7.311917\n"
     ]
    },
    {
     "name": "stderr",
     "output_type": "stream",
     "text": [
      "[0026/0200] Train: 100%|██████████████████████████████| 44/44 [00:17<00:00,  2.54it/s, loss 14.8747]\n",
      "[0026/0200] Validation: 100%|██████████████████████| 42/42 [00:07<00:00,  5.58it/s, val_loss 8.9278]\n",
      "[0027/0200] Train:   0%|                                                     | 0/44 [00:00<?, ?it/s]"
     ]
    },
    {
     "name": "stdout",
     "output_type": "stream",
     "text": [
      "val_loss is not improved for 1 epochs\n",
      "                  validation\n",
      " - Yaw          :   1.359693\n",
      " - Pitch        :   1.898323\n",
      " - Roll         :   2.118024\n",
      " - RMS          :   2.067349\n",
      " - 99% Tile     :   7.120589\n"
     ]
    },
    {
     "name": "stderr",
     "output_type": "stream",
     "text": [
      "[0027/0200] Train: 100%|██████████████████████████████| 44/44 [00:17<00:00,  2.53it/s, loss 13.6768]\n",
      "[0027/0200] Validation: 100%|██████████████████████| 42/42 [00:06<00:00,  6.28it/s, val_loss 7.4836]\n",
      "[0028/0200] Train:   0%|                                                     | 0/44 [00:00<?, ?it/s]"
     ]
    },
    {
     "name": "stdout",
     "output_type": "stream",
     "text": [
      "Save checkpoint: val_loss decreased from 8.219011471385048 to 7.483566142263866\n",
      "                  validation\n",
      " - Yaw          :   1.152738\n",
      " - Pitch        :   1.161386\n",
      " - Roll         :   2.018778\n",
      " - RMS          :   1.756361\n",
      " - 99% Tile     :   6.889227\n"
     ]
    },
    {
     "name": "stderr",
     "output_type": "stream",
     "text": [
      "[0028/0200] Train: 100%|██████████████████████████████| 44/44 [00:16<00:00,  2.63it/s, loss 12.6631]\n",
      "[0028/0200] Validation: 100%|██████████████████████| 42/42 [00:06<00:00,  6.99it/s, val_loss 7.3030]\n",
      "[0029/0200] Train:   0%|                                                     | 0/44 [00:00<?, ?it/s]"
     ]
    },
    {
     "name": "stdout",
     "output_type": "stream",
     "text": [
      "Save checkpoint: val_loss decreased from 7.483566142263866 to 7.302970962865012\n",
      "                  validation\n",
      " - Yaw          :   1.132842\n",
      " - Pitch        :   1.289679\n",
      " - Roll         :   1.982666\n",
      " - RMS          :   1.763518\n",
      " - 99% Tile     :   6.704381\n"
     ]
    },
    {
     "name": "stderr",
     "output_type": "stream",
     "text": [
      "[0029/0200] Train: 100%|██████████████████████████████| 44/44 [00:17<00:00,  2.51it/s, loss 12.0915]\n",
      "[0029/0200] Validation: 100%|██████████████████████| 42/42 [00:07<00:00,  5.78it/s, val_loss 7.3148]\n",
      "[0030/0200] Train:   0%|                                                     | 0/44 [00:00<?, ?it/s]"
     ]
    },
    {
     "name": "stdout",
     "output_type": "stream",
     "text": [
      "val_loss is not improved for 1 epochs\n",
      "                  validation\n",
      " - Yaw          :   1.318937\n",
      " - Pitch        :   1.172203\n",
      " - Roll         :   2.013513\n",
      " - RMS          :   1.806075\n",
      " - 99% Tile     :   6.634123\n"
     ]
    },
    {
     "name": "stderr",
     "output_type": "stream",
     "text": [
      "[0030/0200] Train: 100%|██████████████████████████████| 44/44 [00:16<00:00,  2.64it/s, loss 11.5041]\n",
      "[0030/0200] Validation: 100%|██████████████████████| 42/42 [00:05<00:00,  7.36it/s, val_loss 6.8882]\n",
      "[0031/0200] Train:   0%|                                                     | 0/44 [00:00<?, ?it/s]"
     ]
    },
    {
     "name": "stdout",
     "output_type": "stream",
     "text": [
      "Save checkpoint: val_loss decreased from 7.302970962865012 to 6.888188021523612\n",
      "                  validation\n",
      " - Yaw          :   1.019893\n",
      " - Pitch        :   1.284387\n",
      " - Roll         :   1.962388\n",
      " - RMS          :   1.701744\n",
      " - 99% Tile     :   6.421342\n"
     ]
    },
    {
     "name": "stderr",
     "output_type": "stream",
     "text": [
      "[0031/0200] Train: 100%|██████████████████████████████| 44/44 [00:18<00:00,  2.32it/s, loss 10.7076]\n",
      "[0031/0200] Validation: 100%|██████████████████████| 42/42 [00:06<00:00,  6.99it/s, val_loss 7.8299]\n",
      "[0032/0200] Train:   0%|                                                     | 0/44 [00:00<?, ?it/s]"
     ]
    },
    {
     "name": "stdout",
     "output_type": "stream",
     "text": [
      "val_loss is not improved for 1 epochs\n",
      "                  validation\n",
      " - Yaw          :   1.611468\n",
      " - Pitch        :   1.486253\n",
      " - Roll         :   1.911987\n",
      " - RMS          :   1.965890\n",
      " - 99% Tile     :   6.302891\n"
     ]
    },
    {
     "name": "stderr",
     "output_type": "stream",
     "text": [
      "[0032/0200] Train: 100%|██████████████████████████████| 44/44 [00:15<00:00,  2.77it/s, loss 14.5314]\n",
      "[0032/0200] Validation: 100%|█████████████████████| 42/42 [00:04<00:00,  9.42it/s, val_loss 17.0491]\n",
      "[0033/0200] Train:   0%|                                                     | 0/44 [00:00<?, ?it/s]"
     ]
    },
    {
     "name": "stdout",
     "output_type": "stream",
     "text": [
      "val_loss is not improved for 2 epochs\n",
      "                  validation\n",
      " - Yaw          :   2.167185\n",
      " - Pitch        :   3.172165\n",
      " - Roll         :   2.547524\n",
      " - RMS          :   3.035194\n",
      " - 99% Tile     :   8.758258\n"
     ]
    },
    {
     "name": "stderr",
     "output_type": "stream",
     "text": [
      "[0033/0200] Train: 100%|██████████████████████████████| 44/44 [00:14<00:00,  3.00it/s, loss 13.8877]\n",
      "[0033/0200] Validation: 100%|██████████████████████| 42/42 [00:04<00:00,  8.61it/s, val_loss 8.0140]\n",
      "[0034/0200] Train:   0%|                                                     | 0/44 [00:00<?, ?it/s]"
     ]
    },
    {
     "name": "stdout",
     "output_type": "stream",
     "text": [
      "Decaying lr from 0.001 to 0.0005 because val_loss did not improved for 3 epochs\n",
      "val_loss is not improved for 3 epochs\n",
      "                  validation\n",
      " - Yaw          :   0.978394\n",
      " - Pitch        :   1.428164\n",
      " - Roll         :   2.087408\n",
      " - RMS          :   1.814373\n",
      " - 99% Tile     :   6.953422\n"
     ]
    },
    {
     "name": "stderr",
     "output_type": "stream",
     "text": [
      "[0034/0200] Train: 100%|██████████████████████████████| 44/44 [00:14<00:00,  3.09it/s, loss 10.6341]\n",
      "[0034/0200] Validation: 100%|██████████████████████| 42/42 [00:04<00:00,  9.63it/s, val_loss 7.0749]\n",
      "[0035/0200] Train:   0%|                                                     | 0/44 [00:00<?, ?it/s]"
     ]
    },
    {
     "name": "stdout",
     "output_type": "stream",
     "text": [
      "val_loss is not improved for 4 epochs\n",
      "                  validation\n",
      " - Yaw          :   0.767827\n",
      " - Pitch        :   1.299337\n",
      " - Roll         :   1.987229\n",
      " - RMS          :   1.652939\n",
      " - 99% Tile     :   6.601246\n"
     ]
    },
    {
     "name": "stderr",
     "output_type": "stream",
     "text": [
      "[0035/0200] Train: 100%|██████████████████████████████| 44/44 [00:14<00:00,  3.13it/s, loss 10.3099]\n",
      "[0035/0200] Validation: 100%|██████████████████████| 42/42 [00:04<00:00,  9.56it/s, val_loss 6.6481]\n",
      "[0036/0200] Train:   0%|                                                     | 0/44 [00:00<?, ?it/s]"
     ]
    },
    {
     "name": "stdout",
     "output_type": "stream",
     "text": [
      "Save checkpoint: val_loss decreased from 6.888188021523612 to 6.648114940949848\n",
      "                  validation\n",
      " - Yaw          :   0.906677\n",
      " - Pitch        :   1.179839\n",
      " - Roll         :   1.873911\n",
      " - RMS          :   1.603795\n",
      " - 99% Tile     :   6.443439\n"
     ]
    },
    {
     "name": "stderr",
     "output_type": "stream",
     "text": [
      "[0036/0200] Train: 100%|███████████████████████████████| 44/44 [00:13<00:00,  3.21it/s, loss 9.4130]\n",
      "[0036/0200] Validation: 100%|██████████████████████| 42/42 [00:03<00:00, 11.24it/s, val_loss 6.2833]\n",
      "[0037/0200] Train:   0%|                                                     | 0/44 [00:00<?, ?it/s]"
     ]
    },
    {
     "name": "stdout",
     "output_type": "stream",
     "text": [
      "Save checkpoint: val_loss decreased from 6.648114940949848 to 6.283346712589264\n",
      "                  validation\n",
      " - Yaw          :   0.848682\n",
      " - Pitch        :   1.114938\n",
      " - Roll         :   1.796201\n",
      " - RMS          :   1.532011\n",
      " - 99% Tile     :   6.251014\n"
     ]
    },
    {
     "name": "stderr",
     "output_type": "stream",
     "text": [
      "[0037/0200] Train: 100%|███████████████████████████████| 44/44 [00:13<00:00,  3.15it/s, loss 8.9782]\n",
      "[0037/0200] Validation: 100%|██████████████████████| 42/42 [00:03<00:00, 11.46it/s, val_loss 5.7712]\n",
      "[0038/0200] Train:   0%|                                                     | 0/44 [00:00<?, ?it/s]"
     ]
    },
    {
     "name": "stdout",
     "output_type": "stream",
     "text": [
      "Save checkpoint: val_loss decreased from 6.283346712589264 to 5.771191640978768\n",
      "                  validation\n",
      " - Yaw          :   0.732429\n",
      " - Pitch        :   1.032656\n",
      " - Roll         :   1.658770\n",
      " - RMS          :   1.396117\n",
      " - 99% Tile     :   6.002643\n"
     ]
    },
    {
     "name": "stderr",
     "output_type": "stream",
     "text": [
      "[0038/0200] Train: 100%|███████████████████████████████| 44/44 [00:13<00:00,  3.38it/s, loss 8.7002]\n",
      "[0038/0200] Validation: 100%|██████████████████████| 42/42 [00:03<00:00, 12.16it/s, val_loss 5.5516]\n",
      "[0039/0200] Train:   0%|                                                     | 0/44 [00:00<?, ?it/s]"
     ]
    },
    {
     "name": "stdout",
     "output_type": "stream",
     "text": [
      "Save checkpoint: val_loss decreased from 5.771191640978768 to 5.551582457054229\n",
      "                  validation\n",
      " - Yaw          :   0.897595\n",
      " - Pitch        :   1.047906\n",
      " - Roll         :   1.545630\n",
      " - RMS          :   1.401355\n",
      " - 99% Tile     :   5.842950\n"
     ]
    },
    {
     "name": "stderr",
     "output_type": "stream",
     "text": [
      "[0039/0200] Train: 100%|███████████████████████████████| 44/44 [00:13<00:00,  3.21it/s, loss 8.2940]\n",
      "[0039/0200] Validation: 100%|██████████████████████| 42/42 [00:03<00:00, 11.49it/s, val_loss 5.0628]\n",
      "[0040/0200] Train:   0%|                                                     | 0/44 [00:00<?, ?it/s]"
     ]
    },
    {
     "name": "stdout",
     "output_type": "stream",
     "text": [
      "Save checkpoint: val_loss decreased from 5.551582457054229 to 5.062802729152498\n",
      "                  validation\n",
      " - Yaw          :   0.765469\n",
      " - Pitch        :   0.917192\n",
      " - Roll         :   1.409450\n",
      " - RMS          :   1.246276\n",
      " - 99% Tile     :   5.707397\n"
     ]
    },
    {
     "name": "stderr",
     "output_type": "stream",
     "text": [
      "[0040/0200] Train: 100%|███████████████████████████████| 44/44 [00:14<00:00,  3.07it/s, loss 7.9032]\n",
      "[0040/0200] Validation: 100%|██████████████████████| 42/42 [00:03<00:00, 11.65it/s, val_loss 4.7704]\n",
      "[0041/0200] Train:   0%|                                                     | 0/44 [00:00<?, ?it/s]"
     ]
    },
    {
     "name": "stdout",
     "output_type": "stream",
     "text": [
      "Save checkpoint: val_loss decreased from 5.062802729152498 to 4.770362466573715\n",
      "                  validation\n",
      " - Yaw          :   0.865669\n",
      " - Pitch        :   0.850124\n",
      " - Roll         :   1.252274\n",
      " - RMS          :   1.187402\n",
      " - 99% Tile     :   5.498909\n"
     ]
    },
    {
     "name": "stderr",
     "output_type": "stream",
     "text": [
      "[0041/0200] Train: 100%|███████████████████████████████| 44/44 [00:13<00:00,  3.24it/s, loss 7.5809]\n",
      "[0041/0200] Validation: 100%|██████████████████████| 42/42 [00:04<00:00, 10.08it/s, val_loss 4.4328]\n",
      "[0042/0200] Train:   0%|                                                     | 0/44 [00:00<?, ?it/s]"
     ]
    },
    {
     "name": "stdout",
     "output_type": "stream",
     "text": [
      "Save checkpoint: val_loss decreased from 4.770362466573715 to 4.432819543849854\n",
      "                  validation\n",
      " - Yaw          :   0.735608\n",
      " - Pitch        :   0.896827\n",
      " - Roll         :   1.094529\n",
      " - RMS          :   1.084280\n",
      " - 99% Tile     :   5.381657\n"
     ]
    },
    {
     "name": "stderr",
     "output_type": "stream",
     "text": [
      "[0042/0200] Train: 100%|███████████████████████████████| 44/44 [00:13<00:00,  3.30it/s, loss 7.3958]\n",
      "[0042/0200] Validation: 100%|██████████████████████| 42/42 [00:04<00:00,  8.64it/s, val_loss 4.1028]\n",
      "[0043/0200] Train:   0%|                                                     | 0/44 [00:00<?, ?it/s]"
     ]
    },
    {
     "name": "stdout",
     "output_type": "stream",
     "text": [
      "Save checkpoint: val_loss decreased from 4.432819543849854 to 4.10278442360106\n",
      "                  validation\n",
      " - Yaw          :   0.697644\n",
      " - Pitch        :   0.767967\n",
      " - Roll         :   1.026723\n",
      " - RMS          :   0.990606\n",
      " - 99% Tile     :   5.301882\n"
     ]
    },
    {
     "name": "stderr",
     "output_type": "stream",
     "text": [
      "[0043/0200] Train: 100%|███████████████████████████████| 44/44 [00:13<00:00,  3.27it/s, loss 7.1451]\n",
      "[0043/0200] Validation: 100%|██████████████████████| 42/42 [00:04<00:00,  9.09it/s, val_loss 3.9149]\n",
      "[0044/0200] Train:   0%|                                                     | 0/44 [00:00<?, ?it/s]"
     ]
    },
    {
     "name": "stdout",
     "output_type": "stream",
     "text": [
      "Save checkpoint: val_loss decreased from 4.10278442360106 to 3.9148820212909152\n",
      "                  validation\n",
      " - Yaw          :   0.671461\n",
      " - Pitch        :   0.782835\n",
      " - Roll         :   0.888452\n",
      " - RMS          :   0.927038\n",
      " - 99% Tile     :   5.294485\n"
     ]
    },
    {
     "name": "stderr",
     "output_type": "stream",
     "text": [
      "[0044/0200] Train: 100%|███████████████████████████████| 44/44 [00:14<00:00,  3.06it/s, loss 6.6901]\n",
      "[0044/0200] Validation: 100%|██████████████████████| 42/42 [00:04<00:00, 10.28it/s, val_loss 3.7421]\n",
      "[0045/0200] Train:   0%|                                                     | 0/44 [00:00<?, ?it/s]"
     ]
    },
    {
     "name": "stdout",
     "output_type": "stream",
     "text": [
      "Save checkpoint: val_loss decreased from 3.9148820212909152 to 3.742053121328354\n",
      "                  validation\n",
      " - Yaw          :   0.737145\n",
      " - Pitch        :   0.725061\n",
      " - Roll         :   0.821100\n",
      " - RMS          :   0.904350\n",
      " - 99% Tile     :   5.114311\n"
     ]
    },
    {
     "name": "stderr",
     "output_type": "stream",
     "text": [
      "[0045/0200] Train: 100%|███████████████████████████████| 44/44 [00:13<00:00,  3.36it/s, loss 6.4134]\n",
      "[0045/0200] Validation: 100%|██████████████████████| 42/42 [00:04<00:00,  9.32it/s, val_loss 3.6643]\n",
      "[0046/0200] Train:   0%|                                                     | 0/44 [00:00<?, ?it/s]"
     ]
    },
    {
     "name": "stdout",
     "output_type": "stream",
     "text": [
      "Save checkpoint: val_loss decreased from 3.742053121328354 to 3.664281426441102\n",
      "                  validation\n",
      " - Yaw          :   0.736667\n",
      " - Pitch        :   0.756148\n",
      " - Roll         :   0.774806\n",
      " - RMS          :   0.892066\n",
      " - 99% Tile     :   5.069586\n"
     ]
    },
    {
     "name": "stderr",
     "output_type": "stream",
     "text": [
      "[0046/0200] Train: 100%|███████████████████████████████| 44/44 [00:13<00:00,  3.31it/s, loss 6.2642]\n",
      "[0046/0200] Validation: 100%|██████████████████████| 42/42 [00:04<00:00,  8.42it/s, val_loss 3.6103]\n",
      "[0047/0200] Train:   0%|                                                     | 0/44 [00:00<?, ?it/s]"
     ]
    },
    {
     "name": "stdout",
     "output_type": "stream",
     "text": [
      "Save checkpoint: val_loss decreased from 3.664281426441102 to 3.6102514884301593\n",
      "                  validation\n",
      " - Yaw          :   0.665138\n",
      " - Pitch        :   0.784303\n",
      " - Roll         :   0.786229\n",
      " - RMS          :   0.878999\n",
      " - 99% Tile     :   4.977240\n"
     ]
    },
    {
     "name": "stderr",
     "output_type": "stream",
     "text": [
      "[0047/0200] Train: 100%|███████████████████████████████| 44/44 [00:12<00:00,  3.39it/s, loss 6.1275]\n",
      "[0047/0200] Validation: 100%|██████████████████████| 42/42 [00:03<00:00, 10.92it/s, val_loss 3.4895]\n",
      "[0048/0200] Train:   0%|                                                     | 0/44 [00:00<?, ?it/s]"
     ]
    },
    {
     "name": "stdout",
     "output_type": "stream",
     "text": [
      "Save checkpoint: val_loss decreased from 3.6102514884301593 to 3.4895198260034834\n",
      "                  validation\n",
      " - Yaw          :   0.807821\n",
      " - Pitch        :   0.695956\n",
      " - Roll         :   0.694774\n",
      " - RMS          :   0.870191\n",
      " - 99% Tile     :   4.896773\n"
     ]
    },
    {
     "name": "stderr",
     "output_type": "stream",
     "text": [
      "[0048/0200] Train: 100%|███████████████████████████████| 44/44 [00:13<00:00,  3.27it/s, loss 5.8123]\n",
      "[0048/0200] Validation: 100%|██████████████████████| 42/42 [00:03<00:00, 12.32it/s, val_loss 3.3479]\n",
      "[0049/0200] Train:   0%|                                                     | 0/44 [00:00<?, ?it/s]"
     ]
    },
    {
     "name": "stdout",
     "output_type": "stream",
     "text": [
      "Save checkpoint: val_loss decreased from 3.4895198260034834 to 3.347930683976128\n",
      "                  validation\n",
      " - Yaw          :   0.665581\n",
      " - Pitch        :   0.756034\n",
      " - Roll         :   0.710328\n",
      " - RMS          :   0.829656\n",
      " - 99% Tile     :   4.835675\n"
     ]
    },
    {
     "name": "stderr",
     "output_type": "stream",
     "text": [
      "[0049/0200] Train: 100%|███████████████████████████████| 44/44 [00:12<00:00,  3.39it/s, loss 5.6423]\n",
      "[0049/0200] Validation: 100%|██████████████████████| 42/42 [00:03<00:00, 11.51it/s, val_loss 3.2278]\n",
      "[0050/0200] Train:   0%|                                                     | 0/44 [00:00<?, ?it/s]"
     ]
    },
    {
     "name": "stdout",
     "output_type": "stream",
     "text": [
      "Save checkpoint: val_loss decreased from 3.347930683976128 to 3.2278214721452634\n",
      "                  validation\n",
      " - Yaw          :   0.638469\n",
      " - Pitch        :   0.637031\n",
      " - Roll         :   0.626113\n",
      " - RMS          :   0.755993\n",
      " - 99% Tile     :   4.805463\n"
     ]
    },
    {
     "name": "stderr",
     "output_type": "stream",
     "text": [
      "[0050/0200] Train: 100%|███████████████████████████████| 44/44 [00:13<00:00,  3.28it/s, loss 5.4865]\n",
      "[0050/0200] Validation: 100%|██████████████████████| 42/42 [00:03<00:00, 11.18it/s, val_loss 3.1497]\n",
      "[0051/0200] Train:   0%|                                                     | 0/44 [00:00<?, ?it/s]"
     ]
    },
    {
     "name": "stdout",
     "output_type": "stream",
     "text": [
      "Save checkpoint: val_loss decreased from 3.2278214721452634 to 3.1497031414792653\n",
      "                  validation\n",
      " - Yaw          :   0.595842\n",
      " - Pitch        :   0.689084\n",
      " - Roll         :   0.621755\n",
      " - RMS          :   0.749534\n",
      " - 99% Tile     :   4.768624\n"
     ]
    },
    {
     "name": "stderr",
     "output_type": "stream",
     "text": [
      "[0051/0200] Train: 100%|███████████████████████████████| 44/44 [00:13<00:00,  3.24it/s, loss 5.2949]\n",
      "[0051/0200] Validation: 100%|██████████████████████| 42/42 [00:04<00:00,  9.54it/s, val_loss 3.0730]\n",
      "[0052/0200] Train:   0%|                                                     | 0/44 [00:00<?, ?it/s]"
     ]
    },
    {
     "name": "stdout",
     "output_type": "stream",
     "text": [
      "Save checkpoint: val_loss decreased from 3.1497031414792653 to 3.0729604689847854\n",
      "                  validation\n",
      " - Yaw          :   0.607590\n",
      " - Pitch        :   0.651660\n",
      " - Roll         :   0.591835\n",
      " - RMS          :   0.723717\n",
      " - 99% Tile     :   4.732751\n"
     ]
    },
    {
     "name": "stderr",
     "output_type": "stream",
     "text": [
      "[0052/0200] Train: 100%|███████████████████████████████| 44/44 [00:14<00:00,  3.13it/s, loss 5.2200]\n",
      "[0052/0200] Validation: 100%|██████████████████████| 42/42 [00:04<00:00, 10.21it/s, val_loss 3.0988]\n",
      "[0053/0200] Train:   0%|                                                     | 0/44 [00:00<?, ?it/s]"
     ]
    },
    {
     "name": "stdout",
     "output_type": "stream",
     "text": [
      "val_loss is not improved for 1 epochs\n",
      "                  validation\n",
      " - Yaw          :   0.694506\n",
      " - Pitch        :   0.636599\n",
      " - Roll         :   0.603192\n",
      " - RMS          :   0.756376\n",
      " - 99% Tile     :   4.712193\n"
     ]
    },
    {
     "name": "stderr",
     "output_type": "stream",
     "text": [
      "[0053/0200] Train: 100%|███████████████████████████████| 44/44 [00:13<00:00,  3.18it/s, loss 5.0859]\n",
      "[0053/0200] Validation: 100%|██████████████████████| 42/42 [00:04<00:00,  8.90it/s, val_loss 3.2190]\n",
      "[0054/0200] Train:   0%|                                                     | 0/44 [00:00<?, ?it/s]"
     ]
    },
    {
     "name": "stdout",
     "output_type": "stream",
     "text": [
      "val_loss is not improved for 2 epochs\n",
      "                  validation\n",
      " - Yaw          :   0.874347\n",
      " - Pitch        :   0.726858\n",
      " - Roll         :   0.647812\n",
      " - RMS          :   0.879176\n",
      " - 99% Tile     :   4.687824\n"
     ]
    },
    {
     "name": "stderr",
     "output_type": "stream",
     "text": [
      "[0054/0200] Train: 100%|███████████████████████████████| 44/44 [00:13<00:00,  3.24it/s, loss 4.9015]\n",
      "[0054/0200] Validation: 100%|██████████████████████| 42/42 [00:05<00:00,  7.92it/s, val_loss 3.0206]\n",
      "[0055/0200] Train:   0%|                                                     | 0/44 [00:00<?, ?it/s]"
     ]
    },
    {
     "name": "stdout",
     "output_type": "stream",
     "text": [
      "Save checkpoint: val_loss decreased from 3.0729604689847854 to 3.020633889805703\n",
      "                  validation\n",
      " - Yaw          :   0.688712\n",
      " - Pitch        :   0.645023\n",
      " - Roll         :   0.594040\n",
      " - RMS          :   0.750124\n",
      " - 99% Tile     :   4.632739\n"
     ]
    },
    {
     "name": "stderr",
     "output_type": "stream",
     "text": [
      "[0055/0200] Train: 100%|███████████████████████████████| 44/44 [00:13<00:00,  3.20it/s, loss 4.7519]\n",
      "[0055/0200] Validation: 100%|██████████████████████| 42/42 [00:04<00:00, 10.28it/s, val_loss 2.9189]\n",
      "[0056/0200] Train:   0%|                                                     | 0/44 [00:00<?, ?it/s]"
     ]
    },
    {
     "name": "stdout",
     "output_type": "stream",
     "text": [
      "Save checkpoint: val_loss decreased from 3.020633889805703 to 2.918859556317329\n",
      "                  validation\n",
      " - Yaw          :   0.686013\n",
      " - Pitch        :   0.578254\n",
      " - Roll         :   0.557407\n",
      " - RMS          :   0.724016\n",
      " - 99% Tile     :   4.542506\n"
     ]
    },
    {
     "name": "stderr",
     "output_type": "stream",
     "text": [
      "[0056/0200] Train: 100%|███████████████████████████████| 44/44 [00:10<00:00,  4.15it/s, loss 4.6192]\n",
      "[0056/0200] Validation: 100%|██████████████████████| 42/42 [00:03<00:00, 13.88it/s, val_loss 2.8841]\n",
      "[0057/0200] Train:   0%|                                                     | 0/44 [00:00<?, ?it/s]"
     ]
    },
    {
     "name": "stdout",
     "output_type": "stream",
     "text": [
      "Save checkpoint: val_loss decreased from 2.918859556317329 to 2.884089946037247\n",
      "                  validation\n",
      " - Yaw          :   0.650714\n",
      " - Pitch        :   0.613390\n",
      " - Roll         :   0.549292\n",
      " - RMS          :   0.711233\n",
      " - 99% Tile     :   4.528385\n"
     ]
    },
    {
     "name": "stderr",
     "output_type": "stream",
     "text": [
      "[0057/0200] Train: 100%|███████████████████████████████| 44/44 [00:09<00:00,  4.62it/s, loss 4.4855]\n",
      "[0057/0200] Validation: 100%|██████████████████████| 42/42 [00:03<00:00, 12.28it/s, val_loss 2.7986]\n",
      "[0058/0200] Train:   0%|                                                     | 0/44 [00:00<?, ?it/s]"
     ]
    },
    {
     "name": "stdout",
     "output_type": "stream",
     "text": [
      "Save checkpoint: val_loss decreased from 2.884089946037247 to 2.7985721287273226\n",
      "                  validation\n",
      " - Yaw          :   0.578371\n",
      " - Pitch        :   0.583729\n",
      " - Roll         :   0.531134\n",
      " - RMS          :   0.668044\n",
      " - 99% Tile     :   4.468654\n"
     ]
    },
    {
     "name": "stderr",
     "output_type": "stream",
     "text": [
      "[0058/0200] Train: 100%|███████████████████████████████| 44/44 [00:09<00:00,  4.79it/s, loss 4.4031]\n",
      "[0058/0200] Validation: 100%|██████████████████████| 42/42 [00:02<00:00, 14.73it/s, val_loss 2.7393]\n",
      "[0059/0200] Train:   0%|                                                     | 0/44 [00:00<?, ?it/s]"
     ]
    },
    {
     "name": "stdout",
     "output_type": "stream",
     "text": [
      "Save checkpoint: val_loss decreased from 2.7985721287273226 to 2.7392790622654415\n",
      "                  validation\n",
      " - Yaw          :   0.545520\n",
      " - Pitch        :   0.557139\n",
      " - Roll         :   0.557546\n",
      " - RMS          :   0.654899\n",
      " - 99% Tile     :   4.372537\n"
     ]
    },
    {
     "name": "stderr",
     "output_type": "stream",
     "text": [
      "[0059/0200] Train: 100%|███████████████████████████████| 44/44 [00:09<00:00,  4.88it/s, loss 4.4130]\n",
      "[0059/0200] Validation: 100%|██████████████████████| 42/42 [00:02<00:00, 15.14it/s, val_loss 2.6963]\n",
      "[0060/0200] Train:   0%|                                                     | 0/44 [00:00<?, ?it/s]"
     ]
    },
    {
     "name": "stdout",
     "output_type": "stream",
     "text": [
      "Save checkpoint: val_loss decreased from 2.7392790622654415 to 2.6962539681366513\n",
      "                  validation\n",
      " - Yaw          :   0.592947\n",
      " - Pitch        :   0.554568\n",
      " - Roll         :   0.512939\n",
      " - RMS          :   0.658362\n",
      " - 99% Tile     :   4.263685\n"
     ]
    },
    {
     "name": "stderr",
     "output_type": "stream",
     "text": [
      "[0060/0200] Train: 100%|███████████████████████████████| 44/44 [00:09<00:00,  4.85it/s, loss 4.1804]\n",
      "[0060/0200] Validation: 100%|██████████████████████| 42/42 [00:02<00:00, 15.50it/s, val_loss 2.6742]\n",
      "[0061/0200] Train:   0%|                                                     | 0/44 [00:00<?, ?it/s]"
     ]
    },
    {
     "name": "stdout",
     "output_type": "stream",
     "text": [
      "Save checkpoint: val_loss decreased from 2.6962539681366513 to 2.674163152774175\n",
      "                  validation\n",
      " - Yaw          :   0.642206\n",
      " - Pitch        :   0.589631\n",
      " - Roll         :   0.527541\n",
      " - RMS          :   0.690981\n",
      " - 99% Tile     :   4.204389\n"
     ]
    },
    {
     "name": "stderr",
     "output_type": "stream",
     "text": [
      "[0061/0200] Train: 100%|███████████████████████████████| 44/44 [00:09<00:00,  4.85it/s, loss 4.0733]\n",
      "[0061/0200] Validation: 100%|██████████████████████| 42/42 [00:02<00:00, 15.20it/s, val_loss 2.6656]\n",
      "[0062/0200] Train:   0%|                                                     | 0/44 [00:00<?, ?it/s]"
     ]
    },
    {
     "name": "stdout",
     "output_type": "stream",
     "text": [
      "Save checkpoint: val_loss decreased from 2.674163152774175 to 2.6655646370989934\n",
      "                  validation\n",
      " - Yaw          :   0.687908\n",
      " - Pitch        :   0.561527\n",
      " - Roll         :   0.500685\n",
      " - RMS          :   0.694833\n",
      " - 99% Tile     :   4.032441\n"
     ]
    },
    {
     "name": "stderr",
     "output_type": "stream",
     "text": [
      "[0062/0200] Train: 100%|███████████████████████████████| 44/44 [00:09<00:00,  4.51it/s, loss 3.9650]\n",
      "[0062/0200] Validation: 100%|██████████████████████| 42/42 [00:02<00:00, 15.30it/s, val_loss 2.6222]\n",
      "[0063/0200] Train:   0%|                                                     | 0/44 [00:00<?, ?it/s]"
     ]
    },
    {
     "name": "stdout",
     "output_type": "stream",
     "text": [
      "Save checkpoint: val_loss decreased from 2.6655646370989934 to 2.622187662692297\n",
      "                  validation\n",
      " - Yaw          :   0.635304\n",
      " - Pitch        :   0.577878\n",
      " - Roll         :   0.498385\n",
      " - RMS          :   0.669201\n",
      " - 99% Tile     :   4.080723\n"
     ]
    },
    {
     "name": "stderr",
     "output_type": "stream",
     "text": [
      "[0063/0200] Train: 100%|███████████████████████████████| 44/44 [00:10<00:00,  4.22it/s, loss 3.8846]\n",
      "[0063/0200] Validation: 100%|██████████████████████| 42/42 [00:03<00:00, 13.61it/s, val_loss 2.6622]\n",
      "[0064/0200] Train:   0%|                                                     | 0/44 [00:00<?, ?it/s]"
     ]
    },
    {
     "name": "stdout",
     "output_type": "stream",
     "text": [
      "val_loss is not improved for 1 epochs\n",
      "                  validation\n",
      " - Yaw          :   0.780133\n",
      " - Pitch        :   0.591743\n",
      " - Roll         :   0.477908\n",
      " - RMS          :   0.728025\n",
      " - 99% Tile     :   4.176802\n"
     ]
    },
    {
     "name": "stderr",
     "output_type": "stream",
     "text": [
      "[0064/0200] Train: 100%|███████████████████████████████| 44/44 [00:10<00:00,  4.27it/s, loss 3.9370]\n",
      "[0064/0200] Validation: 100%|██████████████████████| 42/42 [00:03<00:00, 12.16it/s, val_loss 2.5423]\n",
      "[0065/0200] Train:   0%|                                                     | 0/44 [00:00<?, ?it/s]"
     ]
    },
    {
     "name": "stdout",
     "output_type": "stream",
     "text": [
      "Save checkpoint: val_loss decreased from 2.622187662692297 to 2.5422530351650146\n",
      "                  validation\n",
      " - Yaw          :   0.585986\n",
      " - Pitch        :   0.564997\n",
      " - Roll         :   0.491751\n",
      " - RMS          :   0.641621\n",
      " - 99% Tile     :   4.160875\n"
     ]
    },
    {
     "name": "stderr",
     "output_type": "stream",
     "text": [
      "[0065/0200] Train: 100%|███████████████████████████████| 44/44 [00:10<00:00,  4.14it/s, loss 3.7086]\n",
      "[0065/0200] Validation: 100%|██████████████████████| 42/42 [00:03<00:00, 13.29it/s, val_loss 2.4818]\n",
      "[0066/0200] Train:   0%|                                                     | 0/44 [00:00<?, ?it/s]"
     ]
    },
    {
     "name": "stdout",
     "output_type": "stream",
     "text": [
      "Save checkpoint: val_loss decreased from 2.5422530351650146 to 2.481782927399589\n",
      "                  validation\n",
      " - Yaw          :   0.614245\n",
      " - Pitch        :   0.574932\n",
      " - Roll         :   0.466471\n",
      " - RMS          :   0.649052\n",
      " - 99% Tile     :   3.965344\n"
     ]
    },
    {
     "name": "stderr",
     "output_type": "stream",
     "text": [
      "[0066/0200] Train: 100%|███████████████████████████████| 44/44 [00:09<00:00,  4.51it/s, loss 3.7380]\n",
      "[0066/0200] Validation: 100%|██████████████████████| 42/42 [00:03<00:00, 12.71it/s, val_loss 2.5171]\n",
      "[0067/0200] Train:   0%|                                                     | 0/44 [00:00<?, ?it/s]"
     ]
    },
    {
     "name": "stdout",
     "output_type": "stream",
     "text": [
      "val_loss is not improved for 1 epochs\n",
      "                  validation\n",
      " - Yaw          :   0.714966\n",
      " - Pitch        :   0.533449\n",
      " - Roll         :   0.483978\n",
      " - RMS          :   0.683629\n",
      " - 99% Tile     :   4.106642\n"
     ]
    },
    {
     "name": "stderr",
     "output_type": "stream",
     "text": [
      "[0067/0200] Train: 100%|███████████████████████████████| 44/44 [00:09<00:00,  4.84it/s, loss 3.6681]\n",
      "[0067/0200] Validation: 100%|██████████████████████| 42/42 [00:03<00:00, 12.68it/s, val_loss 2.4973]\n",
      "[0068/0200] Train:   0%|                                                     | 0/44 [00:00<?, ?it/s]"
     ]
    },
    {
     "name": "stdout",
     "output_type": "stream",
     "text": [
      "val_loss is not improved for 2 epochs\n",
      "                  validation\n",
      " - Yaw          :   0.751060\n",
      " - Pitch        :   0.535918\n",
      " - Roll         :   0.489732\n",
      " - RMS          :   0.700416\n",
      " - 99% Tile     :   3.741571\n"
     ]
    },
    {
     "name": "stderr",
     "output_type": "stream",
     "text": [
      "[0068/0200] Train: 100%|███████████████████████████████| 44/44 [00:09<00:00,  4.83it/s, loss 3.4758]\n",
      "[0068/0200] Validation: 100%|██████████████████████| 42/42 [00:02<00:00, 14.52it/s, val_loss 2.3514]\n",
      "[0069/0200] Train:   0%|                                                     | 0/44 [00:00<?, ?it/s]"
     ]
    },
    {
     "name": "stdout",
     "output_type": "stream",
     "text": [
      "Save checkpoint: val_loss decreased from 2.481782927399589 to 2.351361530877295\n",
      "                  validation\n",
      " - Yaw          :   0.599042\n",
      " - Pitch        :   0.560384\n",
      " - Roll         :   0.454957\n",
      " - RMS          :   0.631067\n",
      " - 99% Tile     :   3.765579\n"
     ]
    },
    {
     "name": "stderr",
     "output_type": "stream",
     "text": [
      "[0069/0200] Train: 100%|███████████████████████████████| 44/44 [00:09<00:00,  4.78it/s, loss 3.4898]\n",
      "[0069/0200] Validation: 100%|██████████████████████| 42/42 [00:02<00:00, 15.54it/s, val_loss 2.3713]\n",
      "[0070/0200] Train:   0%|                                                     | 0/44 [00:00<?, ?it/s]"
     ]
    },
    {
     "name": "stdout",
     "output_type": "stream",
     "text": [
      "val_loss is not improved for 1 epochs\n",
      "                  validation\n",
      " - Yaw          :   0.648408\n",
      " - Pitch        :   0.524627\n",
      " - Roll         :   0.455376\n",
      " - RMS          :   0.642765\n",
      " - 99% Tile     :   3.878059\n"
     ]
    },
    {
     "name": "stderr",
     "output_type": "stream",
     "text": [
      "[0070/0200] Train: 100%|███████████████████████████████| 44/44 [00:09<00:00,  4.82it/s, loss 3.3603]\n",
      "[0070/0200] Validation: 100%|██████████████████████| 42/42 [00:02<00:00, 14.70it/s, val_loss 2.4092]\n",
      "[0071/0200] Train:   0%|                                                     | 0/44 [00:00<?, ?it/s]"
     ]
    },
    {
     "name": "stdout",
     "output_type": "stream",
     "text": [
      "val_loss is not improved for 2 epochs\n",
      "                  validation\n",
      " - Yaw          :   0.780282\n",
      " - Pitch        :   0.541818\n",
      " - Roll         :   0.449781\n",
      " - RMS          :   0.698830\n",
      " - 99% Tile     :   3.743135\n"
     ]
    },
    {
     "name": "stderr",
     "output_type": "stream",
     "text": [
      "[0071/0200] Train: 100%|███████████████████████████████| 44/44 [00:09<00:00,  4.57it/s, loss 3.4517]\n",
      "[0071/0200] Validation: 100%|██████████████████████| 42/42 [00:02<00:00, 15.28it/s, val_loss 2.3621]\n",
      "[0072/0200] Train:   0%|                                                     | 0/44 [00:00<?, ?it/s]"
     ]
    },
    {
     "name": "stdout",
     "output_type": "stream",
     "text": [
      "Decaying lr from 0.0005 to 0.00025 because val_loss did not improved for 3 epochs\n",
      "val_loss is not improved for 3 epochs\n",
      "                  validation\n",
      " - Yaw          :   0.688106\n",
      " - Pitch        :   0.509710\n",
      " - Roll         :   0.421464\n",
      " - RMS          :   0.639314\n",
      " - 99% Tile     :   4.025691\n"
     ]
    },
    {
     "name": "stderr",
     "output_type": "stream",
     "text": [
      "[0072/0200] Train: 100%|███████████████████████████████| 44/44 [00:09<00:00,  4.40it/s, loss 3.1734]\n",
      "[0072/0200] Validation: 100%|██████████████████████| 42/42 [00:02<00:00, 14.20it/s, val_loss 2.2591]\n",
      "[0073/0200] Train:   0%|                                                     | 0/44 [00:00<?, ?it/s]"
     ]
    },
    {
     "name": "stdout",
     "output_type": "stream",
     "text": [
      "Save checkpoint: val_loss decreased from 2.351361530877295 to 2.2591065221599167\n",
      "                  validation\n",
      " - Yaw          :   0.634810\n",
      " - Pitch        :   0.501525\n",
      " - Roll         :   0.413876\n",
      " - RMS          :   0.609916\n",
      " - 99% Tile     :   3.724742\n"
     ]
    },
    {
     "name": "stderr",
     "output_type": "stream",
     "text": [
      "[0073/0200] Train: 100%|███████████████████████████████| 44/44 [00:09<00:00,  4.43it/s, loss 3.1387]\n",
      "[0073/0200] Validation: 100%|██████████████████████| 42/42 [00:03<00:00, 13.56it/s, val_loss 2.1979]\n",
      "[0074/0200] Train:   0%|                                                     | 0/44 [00:00<?, ?it/s]"
     ]
    },
    {
     "name": "stdout",
     "output_type": "stream",
     "text": [
      "Save checkpoint: val_loss decreased from 2.2591065221599167 to 2.197869712752955\n",
      "                  validation\n",
      " - Yaw          :   0.564206\n",
      " - Pitch        :   0.482608\n",
      " - Roll         :   0.421894\n",
      " - RMS          :   0.573720\n",
      " - 99% Tile     :   3.770105\n"
     ]
    },
    {
     "name": "stderr",
     "output_type": "stream",
     "text": [
      "[0074/0200] Train: 100%|███████████████████████████████| 44/44 [00:10<00:00,  4.25it/s, loss 3.3049]\n",
      "[0074/0200] Validation: 100%|██████████████████████| 42/42 [00:03<00:00, 11.55it/s, val_loss 2.2385]\n",
      "[0075/0200] Train:   0%|                                                     | 0/44 [00:00<?, ?it/s]"
     ]
    },
    {
     "name": "stdout",
     "output_type": "stream",
     "text": [
      "val_loss is not improved for 1 epochs\n",
      "                  validation\n",
      " - Yaw          :   0.586663\n",
      " - Pitch        :   0.529444\n",
      " - Roll         :   0.420512\n",
      " - RMS          :   0.599543\n",
      " - 99% Tile     :   3.756357\n"
     ]
    },
    {
     "name": "stderr",
     "output_type": "stream",
     "text": [
      "[0075/0200] Train: 100%|███████████████████████████████| 44/44 [00:10<00:00,  4.21it/s, loss 3.0780]\n",
      "[0075/0200] Validation: 100%|██████████████████████| 42/42 [00:03<00:00, 13.42it/s, val_loss 2.2182]\n",
      "[0076/0200] Train:   0%|                                                     | 0/44 [00:00<?, ?it/s]"
     ]
    },
    {
     "name": "stdout",
     "output_type": "stream",
     "text": [
      "val_loss is not improved for 2 epochs\n",
      "                  validation\n",
      " - Yaw          :   0.639797\n",
      " - Pitch        :   0.479412\n",
      " - Roll         :   0.414610\n",
      " - RMS          :   0.605009\n",
      " - 99% Tile     :   3.663379\n"
     ]
    },
    {
     "name": "stderr",
     "output_type": "stream",
     "text": [
      "[0076/0200] Train: 100%|███████████████████████████████| 44/44 [00:09<00:00,  4.60it/s, loss 3.1914]\n",
      "[0076/0200] Validation: 100%|██████████████████████| 42/42 [00:03<00:00, 13.21it/s, val_loss 2.1830]\n",
      "[0077/0200] Train:   0%|                                                     | 0/44 [00:00<?, ?it/s]"
     ]
    },
    {
     "name": "stdout",
     "output_type": "stream",
     "text": [
      "Save checkpoint: val_loss decreased from 2.197869712752955 to 2.1829759180545807\n",
      "                  validation\n",
      " - Yaw          :   0.588279\n",
      " - Pitch        :   0.492225\n",
      " - Roll         :   0.407541\n",
      " - RMS          :   0.579149\n",
      " - 99% Tile     :   3.662124\n"
     ]
    },
    {
     "name": "stderr",
     "output_type": "stream",
     "text": [
      "[0077/0200] Train: 100%|███████████████████████████████| 44/44 [00:09<00:00,  4.71it/s, loss 3.0058]\n",
      "[0077/0200] Validation: 100%|██████████████████████| 42/42 [00:02<00:00, 16.82it/s, val_loss 2.1921]\n",
      "[0078/0200] Train:   0%|                                                     | 0/44 [00:00<?, ?it/s]"
     ]
    },
    {
     "name": "stdout",
     "output_type": "stream",
     "text": [
      "val_loss is not improved for 1 epochs\n",
      "                  validation\n",
      " - Yaw          :   0.607129\n",
      " - Pitch        :   0.486801\n",
      " - Roll         :   0.405745\n",
      " - RMS          :   0.584127\n",
      " - 99% Tile     :   3.570845\n"
     ]
    },
    {
     "name": "stderr",
     "output_type": "stream",
     "text": [
      "[0078/0200] Train: 100%|███████████████████████████████| 44/44 [00:05<00:00,  7.95it/s, loss 3.0112]\n",
      "[0078/0200] Validation: 100%|██████████████████████| 42/42 [00:02<00:00, 16.92it/s, val_loss 2.1483]\n",
      "[0079/0200] Train:   0%|                                                     | 0/44 [00:00<?, ?it/s]"
     ]
    },
    {
     "name": "stdout",
     "output_type": "stream",
     "text": [
      "Save checkpoint: val_loss decreased from 2.1829759180545807 to 2.1483349544661388\n",
      "                  validation\n",
      " - Yaw          :   0.584130\n",
      " - Pitch        :   0.474473\n",
      " - Roll         :   0.398928\n",
      " - RMS          :   0.570649\n",
      " - 99% Tile     :   3.648164\n"
     ]
    },
    {
     "name": "stderr",
     "output_type": "stream",
     "text": [
      "[0079/0200] Train: 100%|███████████████████████████████| 44/44 [00:05<00:00,  7.77it/s, loss 2.9422]\n",
      "[0079/0200] Validation: 100%|██████████████████████| 42/42 [00:02<00:00, 16.82it/s, val_loss 2.1824]\n",
      "[0080/0200] Train:   0%|                                                     | 0/44 [00:00<?, ?it/s]"
     ]
    },
    {
     "name": "stdout",
     "output_type": "stream",
     "text": [
      "val_loss is not improved for 1 epochs\n",
      "                  validation\n",
      " - Yaw          :   0.591505\n",
      " - Pitch        :   0.478040\n",
      " - Roll         :   0.397584\n",
      " - RMS          :   0.572342\n",
      " - 99% Tile     :   3.733361\n"
     ]
    },
    {
     "name": "stderr",
     "output_type": "stream",
     "text": [
      "[0080/0200] Train: 100%|███████████████████████████████| 44/44 [00:05<00:00,  7.66it/s, loss 2.9108]\n",
      "[0080/0200] Validation: 100%|██████████████████████| 42/42 [00:02<00:00, 17.40it/s, val_loss 2.1364]\n",
      "[0081/0200] Train:   0%|                                                     | 0/44 [00:00<?, ?it/s]"
     ]
    },
    {
     "name": "stdout",
     "output_type": "stream",
     "text": [
      "Save checkpoint: val_loss decreased from 2.1483349544661388 to 2.136378229728767\n",
      "                  validation\n",
      " - Yaw          :   0.583500\n",
      " - Pitch        :   0.470829\n",
      " - Roll         :   0.412245\n",
      " - RMS          :   0.573075\n",
      " - 99% Tile     :   3.508185\n"
     ]
    },
    {
     "name": "stderr",
     "output_type": "stream",
     "text": [
      "[0081/0200] Train: 100%|███████████████████████████████| 44/44 [00:05<00:00,  7.74it/s, loss 2.8774]\n",
      "[0081/0200] Validation: 100%|██████████████████████| 42/42 [00:02<00:00, 16.91it/s, val_loss 2.1681]\n",
      "[0082/0200] Train:   0%|                                                     | 0/44 [00:00<?, ?it/s]"
     ]
    },
    {
     "name": "stdout",
     "output_type": "stream",
     "text": [
      "val_loss is not improved for 1 epochs\n",
      "                  validation\n",
      " - Yaw          :   0.621200\n",
      " - Pitch        :   0.483545\n",
      " - Roll         :   0.394619\n",
      " - RMS          :   0.585106\n",
      " - 99% Tile     :   3.692228\n"
     ]
    },
    {
     "name": "stderr",
     "output_type": "stream",
     "text": [
      "[0082/0200] Train: 100%|███████████████████████████████| 44/44 [00:05<00:00,  8.00it/s, loss 2.8425]\n",
      "[0082/0200] Validation: 100%|██████████████████████| 42/42 [00:02<00:00, 16.78it/s, val_loss 2.1643]\n",
      "[0083/0200] Train:   0%|                                                     | 0/44 [00:00<?, ?it/s]"
     ]
    },
    {
     "name": "stdout",
     "output_type": "stream",
     "text": [
      "val_loss is not improved for 2 epochs\n",
      "                  validation\n",
      " - Yaw          :   0.649757\n",
      " - Pitch        :   0.506401\n",
      " - Roll         :   0.382391\n",
      " - RMS          :   0.602499\n",
      " - 99% Tile     :   3.631839\n"
     ]
    },
    {
     "name": "stderr",
     "output_type": "stream",
     "text": [
      "[0083/0200] Train: 100%|███████████████████████████████| 44/44 [00:05<00:00,  7.96it/s, loss 2.8215]\n",
      "[0083/0200] Validation: 100%|██████████████████████| 42/42 [00:02<00:00, 16.80it/s, val_loss 2.1220]\n",
      "[0084/0200] Train:   0%|                                                     | 0/44 [00:00<?, ?it/s]"
     ]
    },
    {
     "name": "stdout",
     "output_type": "stream",
     "text": [
      "Save checkpoint: val_loss decreased from 2.136378229728767 to 2.121997848507904\n",
      "                  validation\n",
      " - Yaw          :   0.610198\n",
      " - Pitch        :   0.477529\n",
      " - Roll         :   0.401720\n",
      " - RMS          :   0.580448\n",
      " - 99% Tile     :   3.431174\n"
     ]
    },
    {
     "name": "stderr",
     "output_type": "stream",
     "text": [
      "[0084/0200] Train: 100%|███████████████████████████████| 44/44 [00:05<00:00,  7.78it/s, loss 2.8020]\n",
      "[0084/0200] Validation: 100%|██████████████████████| 42/42 [00:02<00:00, 16.93it/s, val_loss 2.0864]\n",
      "[0085/0200] Train:   0%|                                                     | 0/44 [00:00<?, ?it/s]"
     ]
    },
    {
     "name": "stdout",
     "output_type": "stream",
     "text": [
      "Save checkpoint: val_loss decreased from 2.121997848507904 to 2.086376119227636\n",
      "                  validation\n",
      " - Yaw          :   0.603429\n",
      " - Pitch        :   0.473523\n",
      " - Roll         :   0.376747\n",
      " - RMS          :   0.568972\n",
      " - 99% Tile     :   3.462338\n"
     ]
    },
    {
     "name": "stderr",
     "output_type": "stream",
     "text": [
      "[0085/0200] Train: 100%|███████████████████████████████| 44/44 [00:05<00:00,  7.89it/s, loss 2.8191]\n",
      "[0085/0200] Validation: 100%|██████████████████████| 42/42 [00:02<00:00, 16.71it/s, val_loss 2.1565]\n",
      "[0086/0200] Train:   0%|                                                     | 0/44 [00:00<?, ?it/s]"
     ]
    },
    {
     "name": "stdout",
     "output_type": "stream",
     "text": [
      "val_loss is not improved for 1 epochs\n",
      "                  validation\n",
      " - Yaw          :   0.690846\n",
      " - Pitch        :   0.461788\n",
      " - Roll         :   0.375646\n",
      " - RMS          :   0.605235\n",
      " - 99% Tile     :   3.734301\n"
     ]
    },
    {
     "name": "stderr",
     "output_type": "stream",
     "text": [
      "[0086/0200] Train: 100%|███████████████████████████████| 44/44 [00:05<00:00,  7.62it/s, loss 2.7265]\n",
      "[0086/0200] Validation: 100%|██████████████████████| 42/42 [00:02<00:00, 16.86it/s, val_loss 2.1072]\n",
      "[0087/0200] Train:   0%|                                                     | 0/44 [00:00<?, ?it/s]"
     ]
    },
    {
     "name": "stdout",
     "output_type": "stream",
     "text": [
      "val_loss is not improved for 2 epochs\n",
      "                  validation\n",
      " - Yaw          :   0.656051\n",
      " - Pitch        :   0.480189\n",
      " - Roll         :   0.386215\n",
      " - RMS          :   0.597934\n",
      " - 99% Tile     :   3.573762\n"
     ]
    },
    {
     "name": "stderr",
     "output_type": "stream",
     "text": [
      "[0087/0200] Train: 100%|███████████████████████████████| 44/44 [00:05<00:00,  7.70it/s, loss 2.7045]\n",
      "[0087/0200] Validation: 100%|██████████████████████| 42/42 [00:02<00:00, 16.74it/s, val_loss 2.0502]\n",
      "[0088/0200] Train:   0%|                                                     | 0/44 [00:00<?, ?it/s]"
     ]
    },
    {
     "name": "stdout",
     "output_type": "stream",
     "text": [
      "Save checkpoint: val_loss decreased from 2.086376119227636 to 2.0502126522007442\n",
      "                  validation\n",
      " - Yaw          :   0.597527\n",
      " - Pitch        :   0.463310\n",
      " - Roll         :   0.371236\n",
      " - RMS          :   0.561290\n",
      " - 99% Tile     :   3.589207\n"
     ]
    },
    {
     "name": "stderr",
     "output_type": "stream",
     "text": [
      "[0088/0200] Train: 100%|███████████████████████████████| 44/44 [00:05<00:00,  7.70it/s, loss 2.7029]\n",
      "[0088/0200] Validation: 100%|██████████████████████| 42/42 [00:02<00:00, 16.01it/s, val_loss 2.0930]\n",
      "[0089/0200] Train:   0%|                                                     | 0/44 [00:00<?, ?it/s]"
     ]
    },
    {
     "name": "stdout",
     "output_type": "stream",
     "text": [
      "val_loss is not improved for 1 epochs\n",
      "                  validation\n",
      " - Yaw          :   0.598644\n",
      " - Pitch        :   0.462163\n",
      " - Roll         :   0.378109\n",
      " - RMS          :   0.560919\n",
      " - 99% Tile     :   3.513304\n"
     ]
    },
    {
     "name": "stderr",
     "output_type": "stream",
     "text": [
      "[0089/0200] Train: 100%|███████████████████████████████| 44/44 [00:05<00:00,  7.56it/s, loss 2.6283]\n",
      "[0089/0200] Validation: 100%|██████████████████████| 42/42 [00:02<00:00, 17.46it/s, val_loss 2.1088]\n",
      "[0090/0200] Train:   0%|                                                     | 0/44 [00:00<?, ?it/s]"
     ]
    },
    {
     "name": "stdout",
     "output_type": "stream",
     "text": [
      "val_loss is not improved for 2 epochs\n",
      "                  validation\n",
      " - Yaw          :   0.673358\n",
      " - Pitch        :   0.479318\n",
      " - Roll         :   0.362325\n",
      " - RMS          :   0.598040\n",
      " - 99% Tile     :   3.690679\n"
     ]
    },
    {
     "name": "stderr",
     "output_type": "stream",
     "text": [
      "[0090/0200] Train: 100%|███████████████████████████████| 44/44 [00:05<00:00,  7.58it/s, loss 2.6121]\n",
      "[0090/0200] Validation: 100%|██████████████████████| 42/42 [00:02<00:00, 16.38it/s, val_loss 2.1135]\n",
      "[0091/0200] Train:   0%|                                                     | 0/44 [00:00<?, ?it/s]"
     ]
    },
    {
     "name": "stdout",
     "output_type": "stream",
     "text": [
      "Decaying lr from 0.00025 to 0.000125 because val_loss did not improved for 3 epochs\n",
      "val_loss is not improved for 3 epochs\n",
      "                  validation\n",
      " - Yaw          :   0.664066\n",
      " - Pitch        :   0.487397\n",
      " - Roll         :   0.367161\n",
      " - RMS          :   0.596178\n",
      " - 99% Tile     :   3.620088\n"
     ]
    },
    {
     "name": "stderr",
     "output_type": "stream",
     "text": [
      "[0091/0200] Train: 100%|███████████████████████████████| 44/44 [00:05<00:00,  7.85it/s, loss 2.6158]\n",
      "[0091/0200] Validation: 100%|██████████████████████| 42/42 [00:02<00:00, 15.60it/s, val_loss 2.0700]\n",
      "[0092/0200] Train:   0%|                                                     | 0/44 [00:00<?, ?it/s]"
     ]
    },
    {
     "name": "stdout",
     "output_type": "stream",
     "text": [
      "val_loss is not improved for 4 epochs\n",
      "                  validation\n",
      " - Yaw          :   0.588691\n",
      " - Pitch        :   0.460241\n",
      " - Roll         :   0.363425\n",
      " - RMS          :   0.552385\n",
      " - 99% Tile     :   3.615452\n"
     ]
    },
    {
     "name": "stderr",
     "output_type": "stream",
     "text": [
      "[0092/0200] Train: 100%|███████████████████████████████| 44/44 [00:05<00:00,  7.58it/s, loss 2.5810]\n",
      "[0092/0200] Validation: 100%|██████████████████████| 42/42 [00:02<00:00, 16.60it/s, val_loss 2.0493]\n",
      "[0093/0200] Train:   0%|                                                     | 0/44 [00:00<?, ?it/s]"
     ]
    },
    {
     "name": "stdout",
     "output_type": "stream",
     "text": [
      "Save checkpoint: val_loss decreased from 2.0502126522007442 to 2.0493074584574926\n",
      "                  validation\n",
      " - Yaw          :   0.635311\n",
      " - Pitch        :   0.469380\n",
      " - Roll         :   0.359365\n",
      " - RMS          :   0.576507\n",
      " - 99% Tile     :   3.493966\n"
     ]
    },
    {
     "name": "stderr",
     "output_type": "stream",
     "text": [
      "[0093/0200] Train: 100%|███████████████████████████████| 44/44 [00:05<00:00,  7.77it/s, loss 2.5824]\n",
      "[0093/0200] Validation: 100%|██████████████████████| 42/42 [00:02<00:00, 16.21it/s, val_loss 2.0241]\n",
      "[0094/0200] Train:   0%|                                                     | 0/44 [00:00<?, ?it/s]"
     ]
    },
    {
     "name": "stdout",
     "output_type": "stream",
     "text": [
      "Save checkpoint: val_loss decreased from 2.0493074584574926 to 2.024082181354364\n",
      "                  validation\n",
      " - Yaw          :   0.599198\n",
      " - Pitch        :   0.468635\n",
      " - Roll         :   0.363597\n",
      " - RMS          :   0.561044\n",
      " - 99% Tile     :   3.516088\n"
     ]
    },
    {
     "name": "stderr",
     "output_type": "stream",
     "text": [
      "[0094/0200] Train: 100%|███████████████████████████████| 44/44 [00:05<00:00,  7.55it/s, loss 2.6717]\n",
      "[0094/0200] Validation: 100%|██████████████████████| 42/42 [00:02<00:00, 16.54it/s, val_loss 2.0572]\n",
      "[0095/0200] Train:   0%|                                                     | 0/44 [00:00<?, ?it/s]"
     ]
    },
    {
     "name": "stdout",
     "output_type": "stream",
     "text": [
      "val_loss is not improved for 1 epochs\n",
      "                  validation\n",
      " - Yaw          :   0.649252\n",
      " - Pitch        :   0.458929\n",
      " - Roll         :   0.357367\n",
      " - RMS          :   0.577418\n",
      " - 99% Tile     :   3.609804\n"
     ]
    },
    {
     "name": "stderr",
     "output_type": "stream",
     "text": [
      "[0095/0200] Train: 100%|███████████████████████████████| 44/44 [00:05<00:00,  7.81it/s, loss 2.4970]\n",
      "[0095/0200] Validation: 100%|██████████████████████| 42/42 [00:02<00:00, 17.17it/s, val_loss 2.0244]\n",
      "[0096/0200] Train:   0%|                                                     | 0/44 [00:00<?, ?it/s]"
     ]
    },
    {
     "name": "stdout",
     "output_type": "stream",
     "text": [
      "val_loss is not improved for 2 epochs\n",
      "                  validation\n",
      " - Yaw          :   0.593708\n",
      " - Pitch        :   0.471043\n",
      " - Roll         :   0.364119\n",
      " - RMS          :   0.557728\n",
      " - 99% Tile     :   3.476537\n"
     ]
    },
    {
     "name": "stderr",
     "output_type": "stream",
     "text": [
      "[0096/0200] Train: 100%|███████████████████████████████| 44/44 [00:05<00:00,  7.72it/s, loss 2.4835]\n",
      "[0096/0200] Validation: 100%|██████████████████████| 42/42 [00:02<00:00, 16.48it/s, val_loss 1.9980]\n",
      "[0097/0200] Train:   0%|                                                     | 0/44 [00:00<?, ?it/s]"
     ]
    },
    {
     "name": "stdout",
     "output_type": "stream",
     "text": [
      "Save checkpoint: val_loss decreased from 2.024082181354364 to 1.998002005474908\n",
      "                  validation\n",
      " - Yaw          :   0.576521\n",
      " - Pitch        :   0.447783\n",
      " - Roll         :   0.350803\n",
      " - RMS          :   0.537821\n",
      " - 99% Tile     :   3.561597\n"
     ]
    },
    {
     "name": "stderr",
     "output_type": "stream",
     "text": [
      "[0097/0200] Train: 100%|███████████████████████████████| 44/44 [00:05<00:00,  7.73it/s, loss 2.4699]\n",
      "[0097/0200] Validation: 100%|██████████████████████| 42/42 [00:02<00:00, 16.51it/s, val_loss 1.9956]\n",
      "[0098/0200] Train:   0%|                                                     | 0/44 [00:00<?, ?it/s]"
     ]
    },
    {
     "name": "stdout",
     "output_type": "stream",
     "text": [
      "Save checkpoint: val_loss decreased from 1.998002005474908 to 1.9955626768725259\n",
      "                  validation\n",
      " - Yaw          :   0.622231\n",
      " - Pitch        :   0.452735\n",
      " - Roll         :   0.355056\n",
      " - RMS          :   0.562395\n",
      " - 99% Tile     :   3.396581\n"
     ]
    },
    {
     "name": "stderr",
     "output_type": "stream",
     "text": [
      "[0098/0200] Train: 100%|███████████████████████████████| 44/44 [00:05<00:00,  7.71it/s, loss 2.4549]\n",
      "[0098/0200] Validation: 100%|██████████████████████| 42/42 [00:02<00:00, 16.48it/s, val_loss 1.9884]\n",
      "[0099/0200] Train:   0%|                                                     | 0/44 [00:00<?, ?it/s]"
     ]
    },
    {
     "name": "stdout",
     "output_type": "stream",
     "text": [
      "Save checkpoint: val_loss decreased from 1.9955626768725259 to 1.9883791492098855\n",
      "                  validation\n",
      " - Yaw          :   0.619095\n",
      " - Pitch        :   0.453571\n",
      " - Roll         :   0.361962\n",
      " - RMS          :   0.563842\n",
      " - 99% Tile     :   3.495986\n"
     ]
    },
    {
     "name": "stderr",
     "output_type": "stream",
     "text": [
      "[0099/0200] Train: 100%|███████████████████████████████| 44/44 [00:05<00:00,  7.48it/s, loss 2.4422]\n",
      "[0099/0200] Validation: 100%|██████████████████████| 42/42 [00:02<00:00, 15.66it/s, val_loss 2.0157]\n",
      "[0100/0200] Train:   0%|                                                     | 0/44 [00:00<?, ?it/s]"
     ]
    },
    {
     "name": "stdout",
     "output_type": "stream",
     "text": [
      "val_loss is not improved for 1 epochs\n",
      "                  validation\n",
      " - Yaw          :   0.655563\n",
      " - Pitch        :   0.463458\n",
      " - Roll         :   0.352494\n",
      " - RMS          :   0.579585\n",
      " - 99% Tile     :   3.528806\n"
     ]
    },
    {
     "name": "stderr",
     "output_type": "stream",
     "text": [
      "[0100/0200] Train: 100%|███████████████████████████████| 44/44 [00:05<00:00,  7.72it/s, loss 2.4252]\n",
      "[0100/0200] Validation: 100%|██████████████████████| 42/42 [00:02<00:00, 16.41it/s, val_loss 1.9947]\n",
      "[0101/0200] Train:   0%|                                                     | 0/44 [00:00<?, ?it/s]"
     ]
    },
    {
     "name": "stdout",
     "output_type": "stream",
     "text": [
      "val_loss is not improved for 2 epochs\n",
      "                  validation\n",
      " - Yaw          :   0.600339\n",
      " - Pitch        :   0.479124\n",
      " - Roll         :   0.358502\n",
      " - RMS          :   0.562229\n",
      " - 99% Tile     :   3.528538\n"
     ]
    },
    {
     "name": "stderr",
     "output_type": "stream",
     "text": [
      "[0101/0200] Train: 100%|███████████████████████████████| 44/44 [00:05<00:00,  7.68it/s, loss 2.4022]\n",
      "[0101/0200] Validation: 100%|██████████████████████| 42/42 [00:02<00:00, 15.89it/s, val_loss 1.9650]\n",
      "[0102/0200] Train:   0%|                                                     | 0/44 [00:00<?, ?it/s]"
     ]
    },
    {
     "name": "stdout",
     "output_type": "stream",
     "text": [
      "Save checkpoint: val_loss decreased from 1.9883791492098855 to 1.9649941807701474\n",
      "                  validation\n",
      " - Yaw          :   0.564205\n",
      " - Pitch        :   0.467571\n",
      " - Roll         :   0.358807\n",
      " - RMS          :   0.543290\n",
      " - 99% Tile     :   3.404206\n"
     ]
    },
    {
     "name": "stderr",
     "output_type": "stream",
     "text": [
      "[0102/0200] Train: 100%|███████████████████████████████| 44/44 [00:05<00:00,  7.71it/s, loss 2.4052]\n",
      "[0102/0200] Validation: 100%|██████████████████████| 42/42 [00:02<00:00, 15.46it/s, val_loss 2.0096]\n",
      "[0103/0200] Train:   0%|                                                     | 0/44 [00:00<?, ?it/s]"
     ]
    },
    {
     "name": "stdout",
     "output_type": "stream",
     "text": [
      "val_loss is not improved for 1 epochs\n",
      "                  validation\n",
      " - Yaw          :   0.643052\n",
      " - Pitch        :   0.452402\n",
      " - Roll         :   0.364868\n",
      " - RMS          :   0.576157\n",
      " - 99% Tile     :   3.379037\n"
     ]
    },
    {
     "name": "stderr",
     "output_type": "stream",
     "text": [
      "[0103/0200] Train: 100%|███████████████████████████████| 44/44 [00:05<00:00,  8.01it/s, loss 2.4144]\n",
      "[0103/0200] Validation: 100%|██████████████████████| 42/42 [00:02<00:00, 17.04it/s, val_loss 1.9613]\n",
      "[0104/0200] Train:   0%|                                                     | 0/44 [00:00<?, ?it/s]"
     ]
    },
    {
     "name": "stdout",
     "output_type": "stream",
     "text": [
      "Save checkpoint: val_loss decreased from 1.9649941807701474 to 1.961346139155683\n",
      "                  validation\n",
      " - Yaw          :   0.581181\n",
      " - Pitch        :   0.461240\n",
      " - Roll         :   0.356413\n",
      " - RMS          :   0.548138\n",
      " - 99% Tile     :   3.484551\n"
     ]
    },
    {
     "name": "stderr",
     "output_type": "stream",
     "text": [
      "[0104/0200] Train: 100%|███████████████████████████████| 44/44 [00:05<00:00,  7.94it/s, loss 2.3567]\n",
      "[0104/0200] Validation: 100%|██████████████████████| 42/42 [00:02<00:00, 17.46it/s, val_loss 1.9801]\n",
      "[0105/0200] Train:   0%|                                                     | 0/44 [00:00<?, ?it/s]"
     ]
    },
    {
     "name": "stdout",
     "output_type": "stream",
     "text": [
      "val_loss is not improved for 1 epochs\n",
      "                  validation\n",
      " - Yaw          :   0.604951\n",
      " - Pitch        :   0.477180\n",
      " - Roll         :   0.353872\n",
      " - RMS          :   0.562436\n",
      " - 99% Tile     :   3.468088\n"
     ]
    },
    {
     "name": "stderr",
     "output_type": "stream",
     "text": [
      "[0105/0200] Train: 100%|███████████████████████████████| 44/44 [00:05<00:00,  7.86it/s, loss 2.3376]\n",
      "[0105/0200] Validation: 100%|██████████████████████| 42/42 [00:02<00:00, 16.75it/s, val_loss 1.9690]\n",
      "[0106/0200] Train:   0%|                                                     | 0/44 [00:00<?, ?it/s]"
     ]
    },
    {
     "name": "stdout",
     "output_type": "stream",
     "text": [
      "val_loss is not improved for 2 epochs\n",
      "                  validation\n",
      " - Yaw          :   0.585174\n",
      " - Pitch        :   0.463832\n",
      " - Roll         :   0.352487\n",
      " - RMS          :   0.550656\n",
      " - 99% Tile     :   3.372435\n"
     ]
    },
    {
     "name": "stderr",
     "output_type": "stream",
     "text": [
      "[0106/0200] Train: 100%|███████████████████████████████| 44/44 [00:05<00:00,  7.80it/s, loss 2.3758]\n",
      "[0106/0200] Validation: 100%|██████████████████████| 42/42 [00:02<00:00, 16.73it/s, val_loss 1.9356]\n",
      "[0107/0200] Train:   0%|                                                     | 0/44 [00:00<?, ?it/s]"
     ]
    },
    {
     "name": "stdout",
     "output_type": "stream",
     "text": [
      "Save checkpoint: val_loss decreased from 1.961346139155683 to 1.9356151287044798\n",
      "                  validation\n",
      " - Yaw          :   0.589844\n",
      " - Pitch        :   0.464632\n",
      " - Roll         :   0.341692\n",
      " - RMS          :   0.548050\n",
      " - 99% Tile     :   3.378370\n"
     ]
    },
    {
     "name": "stderr",
     "output_type": "stream",
     "text": [
      "[0107/0200] Train: 100%|███████████████████████████████| 44/44 [00:05<00:00,  7.95it/s, loss 2.3195]\n",
      "[0107/0200] Validation: 100%|██████████████████████| 42/42 [00:02<00:00, 16.49it/s, val_loss 1.9911]\n",
      "[0108/0200] Train:   0%|                                                     | 0/44 [00:00<?, ?it/s]"
     ]
    },
    {
     "name": "stdout",
     "output_type": "stream",
     "text": [
      "val_loss is not improved for 1 epochs\n",
      "                  validation\n",
      " - Yaw          :   0.674140\n",
      " - Pitch        :   0.456804\n",
      " - Roll         :   0.348841\n",
      " - RMS          :   0.586041\n",
      " - 99% Tile     :   3.367615\n"
     ]
    },
    {
     "name": "stderr",
     "output_type": "stream",
     "text": [
      "[0108/0200] Train: 100%|███████████████████████████████| 44/44 [00:05<00:00,  7.89it/s, loss 2.4202]\n",
      "[0108/0200] Validation: 100%|██████████████████████| 42/42 [00:02<00:00, 17.05it/s, val_loss 1.9724]\n",
      "[0109/0200] Train:   0%|                                                     | 0/44 [00:00<?, ?it/s]"
     ]
    },
    {
     "name": "stdout",
     "output_type": "stream",
     "text": [
      "val_loss is not improved for 2 epochs\n",
      "                  validation\n",
      " - Yaw          :   0.609090\n",
      " - Pitch        :   0.496193\n",
      " - Roll         :   0.349929\n",
      " - RMS          :   0.570083\n",
      " - 99% Tile     :   3.592777\n"
     ]
    },
    {
     "name": "stderr",
     "output_type": "stream",
     "text": [
      "[0109/0200] Train: 100%|███████████████████████████████| 44/44 [00:05<00:00,  7.82it/s, loss 2.2826]\n",
      "[0109/0200] Validation: 100%|██████████████████████| 42/42 [00:02<00:00, 17.35it/s, val_loss 1.9199]\n",
      "[0110/0200] Train:   0%|                                                     | 0/44 [00:00<?, ?it/s]"
     ]
    },
    {
     "name": "stdout",
     "output_type": "stream",
     "text": [
      "Save checkpoint: val_loss decreased from 1.9356151287044798 to 1.9199385344982147\n",
      "                  validation\n",
      " - Yaw          :   0.584460\n",
      " - Pitch        :   0.432068\n",
      " - Roll         :   0.351173\n",
      " - RMS          :   0.539113\n",
      " - 99% Tile     :   3.397158\n"
     ]
    },
    {
     "name": "stderr",
     "output_type": "stream",
     "text": [
      "[0110/0200] Train: 100%|███████████████████████████████| 44/44 [00:05<00:00,  7.85it/s, loss 2.2689]\n",
      "[0110/0200] Validation: 100%|██████████████████████| 42/42 [00:02<00:00, 17.13it/s, val_loss 1.9239]\n",
      "[0111/0200] Train:   0%|                                                     | 0/44 [00:00<?, ?it/s]"
     ]
    },
    {
     "name": "stdout",
     "output_type": "stream",
     "text": [
      "val_loss is not improved for 1 epochs\n",
      "                  validation\n",
      " - Yaw          :   0.595125\n",
      " - Pitch        :   0.457081\n",
      " - Roll         :   0.339453\n",
      " - RMS          :   0.547073\n",
      " - 99% Tile     :   3.424835\n"
     ]
    },
    {
     "name": "stderr",
     "output_type": "stream",
     "text": [
      "[0111/0200] Train: 100%|███████████████████████████████| 44/44 [00:05<00:00,  7.91it/s, loss 2.2466]\n",
      "[0111/0200] Validation: 100%|██████████████████████| 42/42 [00:02<00:00, 16.16it/s, val_loss 1.9479]\n",
      "[0112/0200] Train:   0%|                                                     | 0/44 [00:00<?, ?it/s]"
     ]
    },
    {
     "name": "stdout",
     "output_type": "stream",
     "text": [
      "val_loss is not improved for 2 epochs\n",
      "                  validation\n",
      " - Yaw          :   0.623309\n",
      " - Pitch        :   0.484328\n",
      " - Roll         :   0.356651\n",
      " - RMS          :   0.574842\n",
      " - 99% Tile     :   3.304785\n"
     ]
    },
    {
     "name": "stderr",
     "output_type": "stream",
     "text": [
      "[0112/0200] Train: 100%|███████████████████████████████| 44/44 [00:05<00:00,  8.10it/s, loss 2.2323]\n",
      "[0112/0200] Validation: 100%|██████████████████████| 42/42 [00:02<00:00, 16.52it/s, val_loss 1.9239]\n",
      "[0113/0200] Train:   0%|                                                     | 0/44 [00:00<?, ?it/s]"
     ]
    },
    {
     "name": "stdout",
     "output_type": "stream",
     "text": [
      "Decaying lr from 0.000125 to 6.25e-05 because val_loss did not improved for 3 epochs\n",
      "val_loss is not improved for 3 epochs\n",
      "                  validation\n",
      " - Yaw          :   0.599999\n",
      " - Pitch        :   0.443645\n",
      " - Roll         :   0.360401\n",
      " - RMS          :   0.549560\n",
      " - 99% Tile     :   3.300867\n"
     ]
    },
    {
     "name": "stderr",
     "output_type": "stream",
     "text": [
      "[0113/0200] Train: 100%|███████████████████████████████| 44/44 [00:05<00:00,  7.79it/s, loss 2.2163]\n",
      "[0113/0200] Validation: 100%|██████████████████████| 42/42 [00:02<00:00, 17.14it/s, val_loss 1.9153]\n",
      "[0114/0200] Train:   0%|                                                     | 0/44 [00:00<?, ?it/s]"
     ]
    },
    {
     "name": "stdout",
     "output_type": "stream",
     "text": [
      "Save checkpoint: val_loss decreased from 1.9199385344982147 to 1.9152728322715986\n",
      "                  validation\n",
      " - Yaw          :   0.580175\n",
      " - Pitch        :   0.449602\n",
      " - Roll         :   0.348363\n",
      " - RMS          :   0.539637\n",
      " - 99% Tile     :   3.327309\n"
     ]
    },
    {
     "name": "stderr",
     "output_type": "stream",
     "text": [
      "[0114/0200] Train: 100%|███████████████████████████████| 44/44 [00:05<00:00,  7.89it/s, loss 2.2015]\n",
      "[0114/0200] Validation: 100%|██████████████████████| 42/42 [00:02<00:00, 16.35it/s, val_loss 1.9125]\n",
      "[0115/0200] Train:   0%|                                                     | 0/44 [00:00<?, ?it/s]"
     ]
    },
    {
     "name": "stdout",
     "output_type": "stream",
     "text": [
      "Save checkpoint: val_loss decreased from 1.9152728322715986 to 1.9125388576870872\n",
      "                  validation\n",
      " - Yaw          :   0.596877\n",
      " - Pitch        :   0.448417\n",
      " - Roll         :   0.342702\n",
      " - RMS          :   0.545270\n",
      " - 99% Tile     :   3.351698\n"
     ]
    },
    {
     "name": "stderr",
     "output_type": "stream",
     "text": [
      "[0115/0200] Train: 100%|███████████████████████████████| 44/44 [00:05<00:00,  7.74it/s, loss 2.1976]\n",
      "[0115/0200] Validation: 100%|██████████████████████| 42/42 [00:02<00:00, 17.19it/s, val_loss 1.8967]\n",
      "[0116/0200] Train:   0%|                                                     | 0/44 [00:00<?, ?it/s]"
     ]
    },
    {
     "name": "stdout",
     "output_type": "stream",
     "text": [
      "Save checkpoint: val_loss decreased from 1.9125388576870872 to 1.896670250665574\n",
      "                  validation\n",
      " - Yaw          :   0.575141\n",
      " - Pitch        :   0.436053\n",
      " - Roll         :   0.337989\n",
      " - RMS          :   0.529276\n",
      " - 99% Tile     :   3.416709\n"
     ]
    },
    {
     "name": "stderr",
     "output_type": "stream",
     "text": [
      "[0116/0200] Train: 100%|███████████████████████████████| 44/44 [00:05<00:00,  7.79it/s, loss 2.1827]\n",
      "[0116/0200] Validation: 100%|██████████████████████| 42/42 [00:02<00:00, 16.89it/s, val_loss 1.8892]\n",
      "[0117/0200] Train:   0%|                                                     | 0/44 [00:00<?, ?it/s]"
     ]
    },
    {
     "name": "stdout",
     "output_type": "stream",
     "text": [
      "Save checkpoint: val_loss decreased from 1.896670250665574 to 1.8892457531321616\n",
      "                  validation\n",
      " - Yaw          :   0.575773\n",
      " - Pitch        :   0.445877\n",
      " - Roll         :   0.339363\n",
      " - RMS          :   0.535908\n",
      " - 99% Tile     :   3.304181\n"
     ]
    },
    {
     "name": "stderr",
     "output_type": "stream",
     "text": [
      "[0117/0200] Train: 100%|███████████████████████████████| 44/44 [00:05<00:00,  7.76it/s, loss 2.1776]\n",
      "[0117/0200] Validation: 100%|██████████████████████| 42/42 [00:02<00:00, 15.81it/s, val_loss 1.8877]\n",
      "[0118/0200] Train:   0%|                                                     | 0/44 [00:00<?, ?it/s]"
     ]
    },
    {
     "name": "stdout",
     "output_type": "stream",
     "text": [
      "Save checkpoint: val_loss decreased from 1.8892457531321616 to 1.887716758464064\n",
      "                  validation\n",
      " - Yaw          :   0.571957\n",
      " - Pitch        :   0.452356\n",
      " - Roll         :   0.343649\n",
      " - RMS          :   0.537444\n",
      " - 99% Tile     :   3.283213\n"
     ]
    },
    {
     "name": "stderr",
     "output_type": "stream",
     "text": [
      "[0118/0200] Train: 100%|███████████████████████████████| 44/44 [00:05<00:00,  7.66it/s, loss 2.1714]\n",
      "[0118/0200] Validation: 100%|██████████████████████| 42/42 [00:02<00:00, 16.26it/s, val_loss 1.8871]\n",
      "[0119/0200] Train:   0%|                                                     | 0/44 [00:00<?, ?it/s]"
     ]
    },
    {
     "name": "stdout",
     "output_type": "stream",
     "text": [
      "Save checkpoint: val_loss decreased from 1.887716758464064 to 1.8870668368680137\n",
      "                  validation\n",
      " - Yaw          :   0.577027\n",
      " - Pitch        :   0.446215\n",
      " - Roll         :   0.337788\n",
      " - RMS          :   0.534189\n",
      " - 99% Tile     :   3.348306\n"
     ]
    },
    {
     "name": "stderr",
     "output_type": "stream",
     "text": [
      "[0119/0200] Train: 100%|███████████████████████████████| 44/44 [00:05<00:00,  7.94it/s, loss 2.2017]\n",
      "[0119/0200] Validation: 100%|██████████████████████| 42/42 [00:02<00:00, 16.63it/s, val_loss 1.8691]\n",
      "[0120/0200] Train:   0%|                                                     | 0/44 [00:00<?, ?it/s]"
     ]
    },
    {
     "name": "stdout",
     "output_type": "stream",
     "text": [
      "Save checkpoint: val_loss decreased from 1.8870668368680137 to 1.869085126689502\n",
      "                  validation\n",
      " - Yaw          :   0.555496\n",
      " - Pitch        :   0.453009\n",
      " - Roll         :   0.339911\n",
      " - RMS          :   0.530204\n",
      " - 99% Tile     :   3.290785\n"
     ]
    },
    {
     "name": "stderr",
     "output_type": "stream",
     "text": [
      "[0120/0200] Train: 100%|███████████████████████████████| 44/44 [00:05<00:00,  7.84it/s, loss 2.1538]\n",
      "[0120/0200] Validation: 100%|██████████████████████| 42/42 [00:02<00:00, 17.05it/s, val_loss 1.9030]\n",
      "[0121/0200] Train:   0%|                                                     | 0/44 [00:00<?, ?it/s]"
     ]
    },
    {
     "name": "stdout",
     "output_type": "stream",
     "text": [
      "val_loss is not improved for 1 epochs\n",
      "                  validation\n",
      " - Yaw          :   0.597064\n",
      " - Pitch        :   0.455782\n",
      " - Roll         :   0.343889\n",
      " - RMS          :   0.549850\n",
      " - 99% Tile     :   3.305274\n"
     ]
    },
    {
     "name": "stderr",
     "output_type": "stream",
     "text": [
      "[0121/0200] Train: 100%|███████████████████████████████| 44/44 [00:05<00:00,  7.79it/s, loss 2.1466]\n",
      "[0121/0200] Validation: 100%|██████████████████████| 42/42 [00:02<00:00, 16.32it/s, val_loss 1.9227]\n",
      "[0122/0200] Train:   0%|                                                     | 0/44 [00:00<?, ?it/s]"
     ]
    },
    {
     "name": "stdout",
     "output_type": "stream",
     "text": [
      "val_loss is not improved for 2 epochs\n",
      "                  validation\n",
      " - Yaw          :   0.617197\n",
      " - Pitch        :   0.463391\n",
      " - Roll         :   0.335637\n",
      " - RMS          :   0.558020\n",
      " - 99% Tile     :   3.370891\n"
     ]
    },
    {
     "name": "stderr",
     "output_type": "stream",
     "text": [
      "[0122/0200] Train: 100%|███████████████████████████████| 44/44 [00:05<00:00,  7.97it/s, loss 2.1345]\n",
      "[0122/0200] Validation: 100%|██████████████████████| 42/42 [00:02<00:00, 17.22it/s, val_loss 1.8918]\n",
      "[0123/0200] Train:   0%|                                                     | 0/44 [00:00<?, ?it/s]"
     ]
    },
    {
     "name": "stdout",
     "output_type": "stream",
     "text": [
      "Decaying lr from 6.25e-05 to 3.125e-05 because val_loss did not improved for 3 epochs\n",
      "val_loss is not improved for 3 epochs\n",
      "                  validation\n",
      " - Yaw          :   0.564444\n",
      " - Pitch        :   0.464848\n",
      " - Roll         :   0.339780\n",
      " - RMS          :   0.535674\n",
      " - 99% Tile     :   3.329267\n"
     ]
    },
    {
     "name": "stderr",
     "output_type": "stream",
     "text": [
      "[0123/0200] Train: 100%|███████████████████████████████| 44/44 [00:05<00:00,  8.02it/s, loss 2.1457]\n",
      "[0123/0200] Validation: 100%|██████████████████████| 42/42 [00:02<00:00, 16.99it/s, val_loss 1.8974]\n",
      "[0124/0200] Train:   0%|                                                     | 0/44 [00:00<?, ?it/s]"
     ]
    },
    {
     "name": "stdout",
     "output_type": "stream",
     "text": [
      "val_loss is not improved for 4 epochs\n",
      "                  validation\n",
      " - Yaw          :   0.575282\n",
      " - Pitch        :   0.451652\n",
      " - Roll         :   0.340546\n",
      " - RMS          :   0.534989\n",
      " - 99% Tile     :   3.346991\n"
     ]
    },
    {
     "name": "stderr",
     "output_type": "stream",
     "text": [
      "[0124/0200] Train: 100%|███████████████████████████████| 44/44 [00:05<00:00,  7.89it/s, loss 2.2162]\n",
      "[0124/0200] Validation: 100%|██████████████████████| 42/42 [00:02<00:00, 16.40it/s, val_loss 1.8833]\n",
      "[0125/0200] Train:   0%|                                                     | 0/44 [00:00<?, ?it/s]"
     ]
    },
    {
     "name": "stdout",
     "output_type": "stream",
     "text": [
      "val_loss is not improved for 5 epochs\n",
      "                  validation\n",
      " - Yaw          :   0.571495\n",
      " - Pitch        :   0.442558\n",
      " - Roll         :   0.336155\n",
      " - RMS          :   0.531336\n",
      " - 99% Tile     :   3.281883\n"
     ]
    },
    {
     "name": "stderr",
     "output_type": "stream",
     "text": [
      "[0125/0200] Train: 100%|███████████████████████████████| 44/44 [00:05<00:00,  7.83it/s, loss 2.1159]\n",
      "[0125/0200] Validation: 100%|██████████████████████| 42/42 [00:02<00:00, 17.18it/s, val_loss 1.9086]\n",
      "[0126/0200] Train:   0%|                                                     | 0/44 [00:00<?, ?it/s]"
     ]
    },
    {
     "name": "stdout",
     "output_type": "stream",
     "text": [
      "Decaying lr from 3.125e-05 to 1.5625e-05 because val_loss did not improved for 3 epochs\n",
      "val_loss is not improved for 6 epochs\n",
      "                  validation\n",
      " - Yaw          :   0.600100\n",
      " - Pitch        :   0.452382\n",
      " - Roll         :   0.337372\n",
      " - RMS          :   0.545436\n",
      " - 99% Tile     :   3.347898\n"
     ]
    },
    {
     "name": "stderr",
     "output_type": "stream",
     "text": [
      "[0126/0200] Train: 100%|███████████████████████████████| 44/44 [00:05<00:00,  7.81it/s, loss 2.1129]\n",
      "[0126/0200] Validation: 100%|██████████████████████| 42/42 [00:02<00:00, 16.97it/s, val_loss 1.9061]\n",
      "[0127/0200] Train:   0%|                                                     | 0/44 [00:00<?, ?it/s]"
     ]
    },
    {
     "name": "stdout",
     "output_type": "stream",
     "text": [
      "val_loss is not improved for 7 epochs\n",
      "                  validation\n",
      " - Yaw          :   0.579061\n",
      " - Pitch        :   0.447429\n",
      " - Roll         :   0.334806\n",
      " - RMS          :   0.533801\n",
      " - 99% Tile     :   3.351691\n"
     ]
    },
    {
     "name": "stderr",
     "output_type": "stream",
     "text": [
      "[0127/0200] Train: 100%|███████████████████████████████| 44/44 [00:05<00:00,  7.79it/s, loss 2.1199]\n",
      "[0127/0200] Validation: 100%|██████████████████████| 42/42 [00:02<00:00, 17.02it/s, val_loss 1.8893]\n",
      "[0128/0200] Train:   0%|                                                     | 0/44 [00:00<?, ?it/s]"
     ]
    },
    {
     "name": "stdout",
     "output_type": "stream",
     "text": [
      "val_loss is not improved for 8 epochs\n",
      "                  validation\n",
      " - Yaw          :   0.558483\n",
      " - Pitch        :   0.449442\n",
      " - Roll         :   0.334192\n",
      " - RMS          :   0.526400\n",
      " - 99% Tile     :   3.348893\n"
     ]
    },
    {
     "name": "stderr",
     "output_type": "stream",
     "text": [
      "[0128/0200] Train: 100%|███████████████████████████████| 44/44 [00:05<00:00,  7.93it/s, loss 2.1179]\n",
      "[0128/0200] Validation: 100%|██████████████████████| 42/42 [00:02<00:00, 16.52it/s, val_loss 1.8882]\n",
      "[0129/0200] Train:   0%|                                                     | 0/44 [00:00<?, ?it/s]"
     ]
    },
    {
     "name": "stdout",
     "output_type": "stream",
     "text": [
      "Decaying lr from 1.5625e-05 to 7.8125e-06 because val_loss did not improved for 3 epochs\n",
      "val_loss is not improved for 9 epochs\n",
      "                  validation\n",
      " - Yaw          :   0.571567\n",
      " - Pitch        :   0.445901\n",
      " - Roll         :   0.337152\n",
      " - RMS          :   0.531702\n",
      " - 99% Tile     :   3.352826\n"
     ]
    },
    {
     "name": "stderr",
     "output_type": "stream",
     "text": [
      "[0129/0200] Train: 100%|███████████████████████████████| 44/44 [00:05<00:00,  7.64it/s, loss 2.1372]\n",
      "[0129/0200] Validation: 100%|██████████████████████| 42/42 [00:02<00:00, 16.66it/s, val_loss 1.8863]"
     ]
    },
    {
     "name": "stdout",
     "output_type": "stream",
     "text": [
      "val_loss is not improved for 10 epochs\n",
      "Stop training because val_loss did not improved for 10 epochs\n",
      "                  validation\n",
      " - Yaw          :   0.569933\n",
      " - Pitch        :   0.445361\n",
      " - Roll         :   0.336150\n",
      " - RMS          :   0.530830\n",
      " - 99% Tile     :   3.341265\n"
     ]
    },
    {
     "name": "stderr",
     "output_type": "stream",
     "text": [
      "\n"
     ]
    }
   ],
   "source": [
    "trainer.fit(ds_train, ds_test, num_epochs=200, batch_size=256, shuffle=True, pin_memory=True)"
   ]
  },
  {
   "cell_type": "code",
   "execution_count": null,
   "metadata": {},
   "outputs": [],
   "source": []
  }
 ],
 "metadata": {
  "kernelspec": {
   "display_name": "torch",
   "language": "python",
   "name": "torch"
  },
  "language_info": {
   "codemirror_mode": {
    "name": "ipython",
    "version": 3
   },
   "file_extension": ".py",
   "mimetype": "text/x-python",
   "name": "python",
   "nbconvert_exporter": "python",
   "pygments_lexer": "ipython3",
   "version": "3.7.9"
  }
 },
 "nbformat": 4,
 "nbformat_minor": 4
}
