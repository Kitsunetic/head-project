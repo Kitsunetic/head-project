{
 "cells": [
  {
   "cell_type": "code",
   "execution_count": 1,
   "metadata": {},
   "outputs": [],
   "source": [
    "from pathlib import Path\n",
    "from torch.utils.data import Dataset\n",
    "import numpy as np\n",
    "import pandas as pd"
   ]
  },
  {
   "cell_type": "code",
   "execution_count": 2,
   "metadata": {},
   "outputs": [],
   "source": [
    "XCOLS = ['input_orientation_yaw', 'input_orientation_pitch', 'input_orientation_roll', \n",
    "         'acceleration_x', 'acceleration_y', 'acceleration_z']\n",
    "YCOLS = ['input_orientation_yaw', 'input_orientation_pitch', 'input_orientation_roll']"
   ]
  },
  {
   "cell_type": "code",
   "execution_count": 3,
   "metadata": {},
   "outputs": [],
   "source": [
    "train_files = sorted(list(Path('data/1116').glob('*scene3_0.csv')))\n",
    "test_files = sorted(list(Path('data/1116').glob('*scene3_1.csv')))"
   ]
  },
  {
   "cell_type": "code",
   "execution_count": 5,
   "metadata": {},
   "outputs": [],
   "source": [
    "window_size = 120\n",
    "stride = 1"
   ]
  },
  {
   "cell_type": "markdown",
   "metadata": {},
   "source": [
    "# Make Train Dataset"
   ]
  },
  {
   "cell_type": "code",
   "execution_count": 6,
   "metadata": {},
   "outputs": [
    {
     "name": "stdout",
     "output_type": "stream",
     "text": [
      "data/1116/user1_scene3_0.csv\n",
      "data/1116/user2_scene3_0.csv\n",
      "data/1116/user3_scene3_0.csv\n",
      "data/1116/user4_scene3_0.csv\n",
      "data/1116/user5_scene3_0.csv\n",
      "data/1116/user6_scene3_0.csv\n",
      "data/1116/user7_scene3_0.csv\n"
     ]
    }
   ],
   "source": [
    "for f in train_files:\n",
    "    print(f)\n",
    "    X = []\n",
    "    Y = []\n",
    "    csv = pd.read_csv(f)\n",
    "    i = 0\n",
    "    while i <= len(csv) - window_size * 2:\n",
    "        X.append(csv.iloc[i:i + window_size][XCOLS].to_numpy())\n",
    "        Y.append(csv.iloc[i + window_size + 18][YCOLS].to_numpy())\n",
    "        i += stride\n",
    "    \n",
    "    np.savez_compressed(f'data/1116/{f.name}.npz', X=X, Y=Y)"
   ]
  },
  {
   "cell_type": "markdown",
   "metadata": {},
   "source": [
    "# Make Test Dataset"
   ]
  },
  {
   "cell_type": "code",
   "execution_count": 7,
   "metadata": {},
   "outputs": [
    {
     "name": "stdout",
     "output_type": "stream",
     "text": [
      "data/1116/user1_scene3_1.csv\n",
      "data/1116/user2_scene3_1.csv\n",
      "data/1116/user3_scene3_1.csv\n",
      "data/1116/user4_scene3_1.csv\n",
      "data/1116/user5_scene3_1.csv\n",
      "data/1116/user6_scene3_1.csv\n",
      "data/1116/user7_scene3_1.csv\n"
     ]
    }
   ],
   "source": [
    "for f in test_files:\n",
    "    print(f)\n",
    "    X = []\n",
    "    Y = []\n",
    "    csv = pd.read_csv(f)\n",
    "    i = 0\n",
    "    while i <= len(csv) - window_size * 2:\n",
    "        X.append(csv.iloc[i:i + window_size][XCOLS].to_numpy())\n",
    "        Y.append(csv.iloc[i + window_size + 18][YCOLS].to_numpy())\n",
    "        i += stride\n",
    "        \n",
    "    np.savez_compressed(f'data/1116/{f.name}.npz', X=X, Y=Y)"
   ]
  },
  {
   "cell_type": "code",
   "execution_count": null,
   "metadata": {},
   "outputs": [],
   "source": []
  }
 ],
 "metadata": {
  "kernelspec": {
   "display_name": "torch",
   "language": "python",
   "name": "torch"
  },
  "language_info": {
   "codemirror_mode": {
    "name": "ipython",
    "version": 3
   },
   "file_extension": ".py",
   "mimetype": "text/x-python",
   "name": "python",
   "nbconvert_exporter": "python",
   "pygments_lexer": "ipython3",
   "version": "3.7.9"
  }
 },
 "nbformat": 4,
 "nbformat_minor": 4
}
