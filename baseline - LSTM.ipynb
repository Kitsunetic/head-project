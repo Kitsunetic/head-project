{
 "cells": [
  {
   "cell_type": "markdown",
   "metadata": {},
   "source": [
    "# 참고자료\n",
    "\n"
   ]
  },
  {
   "cell_type": "code",
   "execution_count": null,
   "metadata": {},
   "outputs": [],
   "source": [
    "!pip install --upgrade git+https://github.com/Kitsunetic/torch_burn.git"
   ]
  },
  {
   "cell_type": "code",
   "execution_count": 1,
   "metadata": {},
   "outputs": [],
   "source": [
    "from multiprocessing import cpu_count\n",
    "from pathlib import Path\n",
    "from typing import List, Union, AnyStr\n",
    "from math import pi\n",
    "import pickle\n",
    "\n",
    "import numpy as np\n",
    "import pytorch_lightning as pl\n",
    "import torch\n",
    "import torch.nn as nn\n",
    "from sklearn import model_selection\n",
    "from torch.utils.data import DataLoader, Dataset\n",
    "from tqdm import tqdm\n",
    "\n",
    "import torch_burn as tb\n",
    "import utils"
   ]
  },
  {
   "cell_type": "markdown",
   "metadata": {},
   "source": [
    "# Hyper Parameters"
   ]
  },
  {
   "cell_type": "code",
   "execution_count": 2,
   "metadata": {},
   "outputs": [],
   "source": [
    "EXPERIMENT_NAME = 'baseline - LSTM'\n",
    "CHECKPOINT_DIR = Path('checkpoint', EXPERIMENT_NAME)\n",
    "CHECKPOINT_DIR.mkdir(parents=True, exist_ok=True)\n",
    "\n",
    "DATA_FILEPATH = 'data/pth_nostd/C2-T18-win48-hop1.pth'\n",
    "\n",
    "NUM_EPOCHS = 40\n",
    "BATCH_SIZE = 1024"
   ]
  },
  {
   "cell_type": "markdown",
   "metadata": {},
   "source": [
    "# 데이터 로드"
   ]
  },
  {
   "cell_type": "code",
   "execution_count": 3,
   "metadata": {},
   "outputs": [],
   "source": [
    "train_ds, test_ds = utils.SequentialDataset.load_data(DATA_FILEPATH)"
   ]
  },
  {
   "cell_type": "code",
   "execution_count": 4,
   "metadata": {},
   "outputs": [
    {
     "data": {
      "text/plain": [
       "(177937, 176476)"
      ]
     },
     "execution_count": 4,
     "metadata": {},
     "output_type": "execute_result"
    }
   ],
   "source": [
    "len(train_ds), len(test_ds)"
   ]
  },
  {
   "cell_type": "markdown",
   "metadata": {},
   "source": [
    "# 모델, loss, optim, metrics, callbacks 생성"
   ]
  },
  {
   "cell_type": "code",
   "execution_count": 5,
   "metadata": {},
   "outputs": [],
   "source": [
    "model = utils.BaselineLSTM(input_size=6,\n",
    "                           hidden_size=24,\n",
    "                           num_layers=8,\n",
    "                           dropout=0.0,\n",
    "                           bidirectional=False).cuda()"
   ]
  },
  {
   "cell_type": "code",
   "execution_count": 6,
   "metadata": {},
   "outputs": [],
   "source": [
    "criterion = nn.MSELoss().cuda()\n",
    "optimizer = torch.optim.Adam(model.parameters())"
   ]
  },
  {
   "cell_type": "code",
   "execution_count": 7,
   "metadata": {},
   "outputs": [],
   "source": [
    "metrics = [tb.metrics.ModuleMetric(criterion, 'loss'),\n",
    "           utils.HPMetric('hp_metric'),\n",
    "           utils.HPSignalHistory(CHECKPOINT_DIR / 'sample' / '{epoch:04d}.npy', 'hp_signal')]"
   ]
  },
  {
   "cell_type": "code",
   "execution_count": 8,
   "metadata": {},
   "outputs": [],
   "source": [
    "callbacks = [tb.callbacks.EarlyStopping(metrics[0])]"
   ]
  },
  {
   "cell_type": "code",
   "execution_count": 9,
   "metadata": {},
   "outputs": [],
   "source": [
    "trainer = tb.Trainer2(model=model, optim=optimizer, metrics=metrics, callbacks=callbacks, ncols=100)"
   ]
  },
  {
   "cell_type": "code",
   "execution_count": 10,
   "metadata": {},
   "outputs": [
    {
     "name": "stderr",
     "output_type": "stream",
     "text": [
      "[0001/0040] Train: 100%|█████████████████████████████| 174/174 [00:04<00:00, 39.13it/s, loss 0.0432]\n",
      "[0001/0040] Validation: 100%|████████████████████| 173/173 [00:02<00:00, 77.95it/s, val_loss 0.0180]\n",
      "[0002/0040] Train:   0%|                                                    | 0/174 [00:00<?, ?it/s]"
     ]
    },
    {
     "name": "stdout",
     "output_type": "stream",
     "text": [
      "                  validation\n",
      " - Yaw          :   3.902519\n",
      " - Pitch        :   8.644802\n",
      " - Roll         :   2.890002\n",
      " - RMS          :   5.724636\n",
      " - 99% Tile     :  24.952851\n",
      "Save output signals into checkpoint/baseline - LSTM/sample/0001.npy\n"
     ]
    },
    {
     "name": "stderr",
     "output_type": "stream",
     "text": [
      "[0002/0040] Train: 100%|█████████████████████████████| 174/174 [00:04<00:00, 39.01it/s, loss 0.0196]\n",
      "[0002/0040] Validation: 100%|████████████████████| 173/173 [00:02<00:00, 80.82it/s, val_loss 0.0156]\n",
      "[0003/0040] Train:   0%|                                                    | 0/174 [00:00<?, ?it/s]"
     ]
    },
    {
     "name": "stdout",
     "output_type": "stream",
     "text": [
      "                  validation\n",
      " - Yaw          :   3.162232\n",
      " - Pitch        :   8.126757\n",
      " - Roll         :   2.884489\n",
      " - RMS          :   5.302960\n",
      " - 99% Tile     :  23.545605\n",
      "Save output signals into checkpoint/baseline - LSTM/sample/0002.npy\n"
     ]
    },
    {
     "name": "stderr",
     "output_type": "stream",
     "text": [
      "[0003/0040] Train: 100%|█████████████████████████████| 174/174 [00:04<00:00, 38.37it/s, loss 0.0098]\n",
      "[0003/0040] Validation: 100%|████████████████████| 173/173 [00:02<00:00, 80.68it/s, val_loss 0.0063]\n",
      "[0004/0040] Train:   0%|                                                    | 0/174 [00:00<?, ?it/s]"
     ]
    },
    {
     "name": "stdout",
     "output_type": "stream",
     "text": [
      "                  validation\n",
      " - Yaw          :   2.794127\n",
      " - Pitch        :   2.784250\n",
      " - Roll         :   2.929315\n",
      " - RMS          :   2.836669\n",
      " - 99% Tile     :  17.896189\n",
      "Save output signals into checkpoint/baseline - LSTM/sample/0003.npy\n"
     ]
    },
    {
     "name": "stderr",
     "output_type": "stream",
     "text": [
      "[0004/0040] Train: 100%|█████████████████████████████| 174/174 [00:04<00:00, 38.84it/s, loss 0.0070]\n",
      "[0004/0040] Validation: 100%|████████████████████| 173/173 [00:02<00:00, 84.09it/s, val_loss 0.0052]\n",
      "[0005/0040] Train:   0%|                                                    | 0/174 [00:00<?, ?it/s]"
     ]
    },
    {
     "name": "stdout",
     "output_type": "stream",
     "text": [
      "                  validation\n",
      " - Yaw          :   2.451245\n",
      " - Pitch        :   2.306886\n",
      " - Roll         :   2.867329\n",
      " - RMS          :   2.552901\n",
      " - 99% Tile     :  15.955206\n",
      "Save output signals into checkpoint/baseline - LSTM/sample/0004.npy\n"
     ]
    },
    {
     "name": "stderr",
     "output_type": "stream",
     "text": [
      "[0005/0040] Train: 100%|█████████████████████████████| 174/174 [00:04<00:00, 38.32it/s, loss 0.0058]\n",
      "[0005/0040] Validation: 100%|████████████████████| 173/173 [00:02<00:00, 80.42it/s, val_loss 0.0049]\n",
      "[0006/0040] Train:   0%|                                                    | 0/174 [00:00<?, ?it/s]"
     ]
    },
    {
     "name": "stdout",
     "output_type": "stream",
     "text": [
      "                  validation\n",
      " - Yaw          :   2.518165\n",
      " - Pitch        :   2.082618\n",
      " - Roll         :   2.902688\n",
      " - RMS          :   2.523493\n",
      " - 99% Tile     :  15.492136\n",
      "Save output signals into checkpoint/baseline - LSTM/sample/0005.npy\n"
     ]
    },
    {
     "name": "stderr",
     "output_type": "stream",
     "text": [
      "[0006/0040] Train: 100%|█████████████████████████████| 174/174 [00:04<00:00, 39.71it/s, loss 0.0052]\n",
      "[0006/0040] Validation: 100%|████████████████████| 173/173 [00:02<00:00, 83.10it/s, val_loss 0.0046]\n",
      "[0007/0040] Train:   0%|                                                    | 0/174 [00:00<?, ?it/s]"
     ]
    },
    {
     "name": "stdout",
     "output_type": "stream",
     "text": [
      "                  validation\n",
      " - Yaw          :   2.545004\n",
      " - Pitch        :   1.686556\n",
      " - Roll         :   2.841906\n",
      " - RMS          :   2.408177\n",
      " - 99% Tile     :  14.928361\n",
      "Save output signals into checkpoint/baseline - LSTM/sample/0006.npy\n"
     ]
    },
    {
     "name": "stderr",
     "output_type": "stream",
     "text": [
      "[0007/0040] Train: 100%|█████████████████████████████| 174/174 [00:04<00:00, 37.97it/s, loss 0.0048]\n",
      "[0007/0040] Validation: 100%|████████████████████| 173/173 [00:02<00:00, 80.76it/s, val_loss 0.0044]\n",
      "[0008/0040] Train:   0%|                                                    | 0/174 [00:00<?, ?it/s]"
     ]
    },
    {
     "name": "stdout",
     "output_type": "stream",
     "text": [
      "                  validation\n",
      " - Yaw          :   2.377361\n",
      " - Pitch        :   1.700014\n",
      " - Roll         :   2.883315\n",
      " - RMS          :   2.370330\n",
      " - 99% Tile     :  14.953333\n",
      "Save output signals into checkpoint/baseline - LSTM/sample/0007.npy\n"
     ]
    },
    {
     "name": "stderr",
     "output_type": "stream",
     "text": [
      "[0008/0040] Train: 100%|█████████████████████████████| 174/174 [00:04<00:00, 38.80it/s, loss 0.0046]\n",
      "[0008/0040] Validation: 100%|████████████████████| 173/173 [00:02<00:00, 76.70it/s, val_loss 0.0043]\n",
      "[0009/0040] Train:   0%|                                                    | 0/174 [00:00<?, ?it/s]"
     ]
    },
    {
     "name": "stdout",
     "output_type": "stream",
     "text": [
      "                  validation\n",
      " - Yaw          :   2.348146\n",
      " - Pitch        :   2.134727\n",
      " - Roll         :   2.662526\n",
      " - RMS          :   2.391645\n",
      " - 99% Tile     :  14.270286\n",
      "Save output signals into checkpoint/baseline - LSTM/sample/0008.npy\n"
     ]
    },
    {
     "name": "stderr",
     "output_type": "stream",
     "text": [
      "[0009/0040] Train: 100%|█████████████████████████████| 174/174 [00:04<00:00, 38.69it/s, loss 0.0041]\n",
      "[0009/0040] Validation: 100%|████████████████████| 173/173 [00:02<00:00, 80.80it/s, val_loss 0.0031]\n",
      "[0010/0040] Train:   0%|                                                    | 0/174 [00:00<?, ?it/s]"
     ]
    },
    {
     "name": "stdout",
     "output_type": "stream",
     "text": [
      "                  validation\n",
      " - Yaw          :   2.172170\n",
      " - Pitch        :   1.495116\n",
      " - Roll         :   1.521587\n",
      " - RMS          :   1.757737\n",
      " - 99% Tile     :  12.995347\n",
      "Save output signals into checkpoint/baseline - LSTM/sample/0009.npy\n"
     ]
    },
    {
     "name": "stderr",
     "output_type": "stream",
     "text": [
      "[0010/0040] Train: 100%|█████████████████████████████| 174/174 [00:04<00:00, 38.37it/s, loss 0.0037]\n",
      "[0010/0040] Validation: 100%|████████████████████| 173/173 [00:02<00:00, 80.64it/s, val_loss 0.0032]\n",
      "[0011/0040] Train:   0%|                                                    | 0/174 [00:00<?, ?it/s]"
     ]
    },
    {
     "name": "stdout",
     "output_type": "stream",
     "text": [
      "val_loss is not improved for 1 epochs\n",
      "                  validation\n",
      " - Yaw          :   2.172912\n",
      " - Pitch        :   1.997535\n",
      " - Roll         :   1.469795\n",
      " - RMS          :   1.903680\n",
      " - 99% Tile     :  12.954421\n",
      "Save output signals into checkpoint/baseline - LSTM/sample/0010.npy\n"
     ]
    },
    {
     "name": "stderr",
     "output_type": "stream",
     "text": [
      "[0011/0040] Train: 100%|█████████████████████████████| 174/174 [00:04<00:00, 38.58it/s, loss 0.0035]\n",
      "[0011/0040] Validation: 100%|████████████████████| 173/173 [00:02<00:00, 83.51it/s, val_loss 0.0028]\n",
      "[0012/0040] Train:   0%|                                                    | 0/174 [00:00<?, ?it/s]"
     ]
    },
    {
     "name": "stdout",
     "output_type": "stream",
     "text": [
      "                  validation\n",
      " - Yaw          :   2.120623\n",
      " - Pitch        :   1.396694\n",
      " - Roll         :   1.328197\n",
      " - RMS          :   1.654479\n",
      " - 99% Tile     :  12.478998\n",
      "Save output signals into checkpoint/baseline - LSTM/sample/0011.npy\n"
     ]
    },
    {
     "name": "stderr",
     "output_type": "stream",
     "text": [
      "[0012/0040] Train: 100%|█████████████████████████████| 174/174 [00:04<00:00, 38.80it/s, loss 0.0035]\n",
      "[0012/0040] Validation: 100%|████████████████████| 173/173 [00:02<00:00, 80.55it/s, val_loss 0.0030]\n",
      "[0013/0040] Train:   0%|                                                    | 0/174 [00:00<?, ?it/s]"
     ]
    },
    {
     "name": "stdout",
     "output_type": "stream",
     "text": [
      "val_loss is not improved for 1 epochs\n",
      "                  validation\n",
      " - Yaw          :   2.681692\n",
      " - Pitch        :   1.543214\n",
      " - Roll         :   1.297635\n",
      " - RMS          :   1.937080\n",
      " - 99% Tile     :  12.297960\n",
      "Save output signals into checkpoint/baseline - LSTM/sample/0012.npy\n"
     ]
    },
    {
     "name": "stderr",
     "output_type": "stream",
     "text": [
      "[0013/0040] Train: 100%|█████████████████████████████| 174/174 [00:04<00:00, 39.19it/s, loss 0.0033]\n",
      "[0013/0040] Validation: 100%|████████████████████| 173/173 [00:02<00:00, 82.77it/s, val_loss 0.0027]\n",
      "[0014/0040] Train:   0%|                                                    | 0/174 [00:00<?, ?it/s]"
     ]
    },
    {
     "name": "stdout",
     "output_type": "stream",
     "text": [
      "                  validation\n",
      " - Yaw          :   2.001264\n",
      " - Pitch        :   1.588562\n",
      " - Roll         :   1.295499\n",
      " - RMS          :   1.653975\n",
      " - 99% Tile     :  12.081827\n",
      "Save output signals into checkpoint/baseline - LSTM/sample/0013.npy\n"
     ]
    },
    {
     "name": "stderr",
     "output_type": "stream",
     "text": [
      "[0014/0040] Train: 100%|█████████████████████████████| 174/174 [00:04<00:00, 38.06it/s, loss 0.0032]\n",
      "[0014/0040] Validation: 100%|████████████████████| 173/173 [00:02<00:00, 80.77it/s, val_loss 0.0027]\n"
     ]
    },
    {
     "name": "stdout",
     "output_type": "stream",
     "text": [
      "val_loss is not improved for 1 epochs\n",
      "                  validation\n",
      " - Yaw          :   2.178621\n",
      " - Pitch        :   1.711394\n",
      " - Roll         :   1.198349\n",
      " - RMS          :   1.742728\n",
      " - 99% Tile     :  12.053771\n",
      "Save output signals into checkpoint/baseline - LSTM/sample/0014.npy\n"
     ]
    },
    {
     "name": "stderr",
     "output_type": "stream",
     "text": [
      "[0015/0040] Train: 100%|█████████████████████████████| 174/174 [00:04<00:00, 39.59it/s, loss 0.0032]\n",
      "[0015/0040] Validation: 100%|████████████████████| 173/173 [00:02<00:00, 74.93it/s, val_loss 0.0025]\n",
      "[0016/0040] Train:   0%|                                                    | 0/174 [00:00<?, ?it/s]"
     ]
    },
    {
     "name": "stdout",
     "output_type": "stream",
     "text": [
      "                  validation\n",
      " - Yaw          :   2.059866\n",
      " - Pitch        :   1.335568\n",
      " - Roll         :   1.267191\n",
      " - RMS          :   1.595051\n",
      " - 99% Tile     :  11.851363\n",
      "Save output signals into checkpoint/baseline - LSTM/sample/0015.npy\n"
     ]
    },
    {
     "name": "stderr",
     "output_type": "stream",
     "text": [
      "[0016/0040] Train: 100%|█████████████████████████████| 174/174 [00:04<00:00, 38.22it/s, loss 0.0031]\n",
      "[0016/0040] Validation: 100%|████████████████████| 173/173 [00:02<00:00, 82.17it/s, val_loss 0.0024]\n",
      "[0017/0040] Train:   0%|                                                    | 0/174 [00:00<?, ?it/s]"
     ]
    },
    {
     "name": "stdout",
     "output_type": "stream",
     "text": [
      "                  validation\n",
      " - Yaw          :   1.965330\n",
      " - Pitch        :   1.336462\n",
      " - Roll         :   1.108832\n",
      " - RMS          :   1.514173\n",
      " - 99% Tile     :  11.686690\n",
      "Save output signals into checkpoint/baseline - LSTM/sample/0016.npy\n"
     ]
    },
    {
     "name": "stderr",
     "output_type": "stream",
     "text": [
      "[0017/0040] Train: 100%|█████████████████████████████| 174/174 [00:04<00:00, 39.09it/s, loss 0.0030]\n",
      "[0017/0040] Validation: 100%|████████████████████| 173/173 [00:02<00:00, 80.86it/s, val_loss 0.0025]\n",
      "[0018/0040] Train:   0%|                                                    | 0/174 [00:00<?, ?it/s]"
     ]
    },
    {
     "name": "stdout",
     "output_type": "stream",
     "text": [
      "val_loss is not improved for 1 epochs\n",
      "                  validation\n",
      " - Yaw          :   2.096617\n",
      " - Pitch        :   1.636771\n",
      " - Roll         :   1.108354\n",
      " - RMS          :   1.663658\n",
      " - 99% Tile     :  11.573153\n",
      "Save output signals into checkpoint/baseline - LSTM/sample/0017.npy\n"
     ]
    },
    {
     "name": "stderr",
     "output_type": "stream",
     "text": [
      "[0018/0040] Train: 100%|█████████████████████████████| 174/174 [00:04<00:00, 38.60it/s, loss 0.0029]\n",
      "[0018/0040] Validation: 100%|████████████████████| 173/173 [00:02<00:00, 83.59it/s, val_loss 0.0023]\n",
      "[0019/0040] Train:   0%|                                                    | 0/174 [00:00<?, ?it/s]"
     ]
    },
    {
     "name": "stdout",
     "output_type": "stream",
     "text": [
      "                  validation\n",
      " - Yaw          :   1.977240\n",
      " - Pitch        :   1.311919\n",
      " - Roll         :   1.037550\n",
      " - RMS          :   1.495228\n",
      " - 99% Tile     :  11.404408\n",
      "Save output signals into checkpoint/baseline - LSTM/sample/0018.npy\n"
     ]
    },
    {
     "name": "stderr",
     "output_type": "stream",
     "text": [
      "[0019/0040] Train: 100%|█████████████████████████████| 174/174 [00:04<00:00, 37.38it/s, loss 0.0028]\n",
      "[0019/0040] Validation: 100%|████████████████████| 173/173 [00:02<00:00, 80.66it/s, val_loss 0.0026]\n",
      "[0020/0040] Train:   0%|                                                    | 0/174 [00:00<?, ?it/s]"
     ]
    },
    {
     "name": "stdout",
     "output_type": "stream",
     "text": [
      "val_loss is not improved for 1 epochs\n",
      "                  validation\n",
      " - Yaw          :   2.451428\n",
      " - Pitch        :   1.255433\n",
      " - Roll         :   1.651045\n",
      " - RMS          :   1.853965\n",
      " - 99% Tile     :  11.453582\n",
      "Save output signals into checkpoint/baseline - LSTM/sample/0019.npy\n"
     ]
    },
    {
     "name": "stderr",
     "output_type": "stream",
     "text": [
      "[0020/0040] Train: 100%|█████████████████████████████| 174/174 [00:04<00:00, 39.24it/s, loss 0.0028]\n",
      "[0020/0040] Validation: 100%|████████████████████| 173/173 [00:02<00:00, 81.70it/s, val_loss 0.0023]\n",
      "[0021/0040] Train:   0%|                                                    | 0/174 [00:00<?, ?it/s]"
     ]
    },
    {
     "name": "stdout",
     "output_type": "stream",
     "text": [
      "                  validation\n",
      " - Yaw          :   1.894604\n",
      " - Pitch        :   1.301289\n",
      " - Roll         :   1.014803\n",
      " - RMS          :   1.450598\n",
      " - 99% Tile     :  11.291829\n",
      "Save output signals into checkpoint/baseline - LSTM/sample/0020.npy\n"
     ]
    },
    {
     "name": "stderr",
     "output_type": "stream",
     "text": [
      "[0021/0040] Train: 100%|█████████████████████████████| 174/174 [00:04<00:00, 38.63it/s, loss 0.0028]\n",
      "[0021/0040] Validation: 100%|████████████████████| 173/173 [00:02<00:00, 79.99it/s, val_loss 0.0024]\n",
      "[0022/0040] Train:   0%|                                                    | 0/174 [00:00<?, ?it/s]"
     ]
    },
    {
     "name": "stdout",
     "output_type": "stream",
     "text": [
      "val_loss is not improved for 1 epochs\n",
      "                  validation\n",
      " - Yaw          :   2.011297\n",
      " - Pitch        :   1.626486\n",
      " - Roll         :   0.988235\n",
      " - RMS          :   1.598685\n",
      " - 99% Tile     :  11.216776\n",
      "Save output signals into checkpoint/baseline - LSTM/sample/0021.npy\n"
     ]
    },
    {
     "name": "stderr",
     "output_type": "stream",
     "text": [
      "[0022/0040] Train: 100%|█████████████████████████████| 174/174 [00:04<00:00, 39.47it/s, loss 0.0027]\n",
      "[0022/0040] Validation: 100%|████████████████████| 173/173 [00:02<00:00, 76.95it/s, val_loss 0.0024]\n",
      "[0023/0040] Train:   0%|                                                    | 0/174 [00:00<?, ?it/s]"
     ]
    },
    {
     "name": "stdout",
     "output_type": "stream",
     "text": [
      "val_loss is not improved for 2 epochs\n",
      "                  validation\n",
      " - Yaw          :   2.224334\n",
      " - Pitch        :   1.474828\n",
      " - Roll         :   0.995437\n",
      " - RMS          :   1.644554\n",
      " - 99% Tile     :  11.257662\n",
      "Save output signals into checkpoint/baseline - LSTM/sample/0022.npy\n"
     ]
    },
    {
     "name": "stderr",
     "output_type": "stream",
     "text": [
      "[0023/0040] Train: 100%|█████████████████████████████| 174/174 [00:04<00:00, 38.50it/s, loss 0.0027]\n",
      "[0023/0040] Validation: 100%|████████████████████| 173/173 [00:02<00:00, 80.92it/s, val_loss 0.0025]\n",
      "[0024/0040] Train:   0%|                                                    | 0/174 [00:00<?, ?it/s]"
     ]
    },
    {
     "name": "stdout",
     "output_type": "stream",
     "text": [
      "val_loss is not improved for 3 epochs\n",
      "                  validation\n",
      " - Yaw          :   2.401597\n",
      " - Pitch        :   1.271406\n",
      " - Roll         :   1.480860\n",
      " - RMS          :   1.786718\n",
      " - 99% Tile     :  11.133856\n",
      "Save output signals into checkpoint/baseline - LSTM/sample/0023.npy\n"
     ]
    },
    {
     "name": "stderr",
     "output_type": "stream",
     "text": [
      "[0024/0040] Train: 100%|█████████████████████████████| 174/174 [00:04<00:00, 38.63it/s, loss 0.0027]\n",
      "[0024/0040] Validation: 100%|████████████████████| 173/173 [00:02<00:00, 80.49it/s, val_loss 0.0022]\n",
      "[0025/0040] Train:   0%|                                                    | 0/174 [00:00<?, ?it/s]"
     ]
    },
    {
     "name": "stdout",
     "output_type": "stream",
     "text": [
      "                  validation\n",
      " - Yaw          :   1.977914\n",
      " - Pitch        :   1.249951\n",
      " - Roll         :   0.962865\n",
      " - RMS          :   1.460779\n",
      " - 99% Tile     :  11.005434\n",
      "Save output signals into checkpoint/baseline - LSTM/sample/0024.npy\n"
     ]
    },
    {
     "name": "stderr",
     "output_type": "stream",
     "text": [
      "[0025/0040] Train: 100%|█████████████████████████████| 174/174 [00:04<00:00, 38.56it/s, loss 0.0026]\n",
      "[0025/0040] Validation: 100%|████████████████████| 173/173 [00:02<00:00, 77.96it/s, val_loss 0.0022]\n",
      "[0026/0040] Train:   0%|                                                    | 0/174 [00:00<?, ?it/s]"
     ]
    },
    {
     "name": "stdout",
     "output_type": "stream",
     "text": [
      "val_loss is not improved for 1 epochs\n",
      "                  validation\n",
      " - Yaw          :   1.897422\n",
      " - Pitch        :   1.301402\n",
      " - Roll         :   0.980971\n",
      " - RMS          :   1.444087\n",
      " - 99% Tile     :  11.049957\n",
      "Save output signals into checkpoint/baseline - LSTM/sample/0025.npy\n"
     ]
    },
    {
     "name": "stderr",
     "output_type": "stream",
     "text": [
      "[0026/0040] Train: 100%|█████████████████████████████| 174/174 [00:04<00:00, 37.43it/s, loss 0.0027]\n",
      "[0026/0040] Validation: 100%|████████████████████| 173/173 [00:02<00:00, 79.76it/s, val_loss 0.0024]\n",
      "[0027/0040] Train:   0%|                                                    | 0/174 [00:00<?, ?it/s]"
     ]
    },
    {
     "name": "stdout",
     "output_type": "stream",
     "text": [
      "val_loss is not improved for 2 epochs\n",
      "                  validation\n",
      " - Yaw          :   2.463493\n",
      " - Pitch        :   1.473715\n",
      " - Roll         :   0.937875\n",
      " - RMS          :   1.743583\n",
      " - 99% Tile     :  11.090125\n",
      "Save output signals into checkpoint/baseline - LSTM/sample/0026.npy\n"
     ]
    },
    {
     "name": "stderr",
     "output_type": "stream",
     "text": [
      "[0027/0040] Train: 100%|█████████████████████████████| 174/174 [00:04<00:00, 38.72it/s, loss 0.0026]\n",
      "[0027/0040] Validation: 100%|████████████████████| 173/173 [00:02<00:00, 84.16it/s, val_loss 0.0021]\n",
      "[0028/0040] Train:   0%|                                                    | 0/174 [00:00<?, ?it/s]"
     ]
    },
    {
     "name": "stdout",
     "output_type": "stream",
     "text": [
      "                  validation\n",
      " - Yaw          :   1.917288\n",
      " - Pitch        :   1.151483\n",
      " - Roll         :   0.971882\n",
      " - RMS          :   1.407890\n",
      " - 99% Tile     :  10.759744\n",
      "Save output signals into checkpoint/baseline - LSTM/sample/0027.npy\n"
     ]
    },
    {
     "name": "stderr",
     "output_type": "stream",
     "text": [
      "[0028/0040] Train: 100%|█████████████████████████████| 174/174 [00:04<00:00, 37.55it/s, loss 0.0026]\n",
      "[0028/0040] Validation: 100%|████████████████████| 173/173 [00:02<00:00, 80.08it/s, val_loss 0.0022]\n",
      "[0029/0040] Train:   0%|                                                    | 0/174 [00:00<?, ?it/s]"
     ]
    },
    {
     "name": "stdout",
     "output_type": "stream",
     "text": [
      "val_loss is not improved for 1 epochs\n",
      "                  validation\n",
      " - Yaw          :   1.931248\n",
      " - Pitch        :   1.192858\n",
      " - Roll         :   1.016427\n",
      " - RMS          :   1.435937\n",
      " - 99% Tile     :  10.814736\n",
      "Save output signals into checkpoint/baseline - LSTM/sample/0028.npy\n"
     ]
    },
    {
     "name": "stderr",
     "output_type": "stream",
     "text": [
      "[0029/0040] Train: 100%|█████████████████████████████| 174/174 [00:04<00:00, 38.80it/s, loss 0.0026]\n",
      "[0029/0040] Validation: 100%|████████████████████| 173/173 [00:02<00:00, 78.23it/s, val_loss 0.0021]\n",
      "[0030/0040] Train:   0%|                                                    | 0/174 [00:00<?, ?it/s]"
     ]
    },
    {
     "name": "stdout",
     "output_type": "stream",
     "text": [
      "                  validation\n",
      " - Yaw          :   1.854841\n",
      " - Pitch        :   1.192970\n",
      " - Roll         :   0.900229\n",
      " - RMS          :   1.375260\n",
      " - 99% Tile     :  10.711842\n",
      "Save output signals into checkpoint/baseline - LSTM/sample/0029.npy\n"
     ]
    },
    {
     "name": "stderr",
     "output_type": "stream",
     "text": [
      "[0030/0040] Train: 100%|█████████████████████████████| 174/174 [00:04<00:00, 38.73it/s, loss 0.0025]\n",
      "[0030/0040] Validation: 100%|████████████████████| 173/173 [00:02<00:00, 81.59it/s, val_loss 0.0021]\n",
      "[0031/0040] Train:   0%|                                                    | 0/174 [00:00<?, ?it/s]"
     ]
    },
    {
     "name": "stdout",
     "output_type": "stream",
     "text": [
      "                  validation\n",
      " - Yaw          :   1.941597\n",
      " - Pitch        :   1.164014\n",
      " - Roll         :   0.909963\n",
      " - RMS          :   1.408636\n",
      " - 99% Tile     :  10.723364\n",
      "Save output signals into checkpoint/baseline - LSTM/sample/0030.npy\n"
     ]
    },
    {
     "name": "stderr",
     "output_type": "stream",
     "text": [
      "[0031/0040] Train: 100%|█████████████████████████████| 174/174 [00:04<00:00, 38.77it/s, loss 0.0025]\n",
      "[0031/0040] Validation: 100%|████████████████████| 173/173 [00:02<00:00, 81.61it/s, val_loss 0.0022]\n",
      "[0032/0040] Train:   0%|                                                    | 0/174 [00:00<?, ?it/s]"
     ]
    },
    {
     "name": "stdout",
     "output_type": "stream",
     "text": [
      "val_loss is not improved for 1 epochs\n",
      "                  validation\n",
      " - Yaw          :   2.028414\n",
      " - Pitch        :   1.495302\n",
      " - Roll         :   0.902008\n",
      " - RMS          :   1.545316\n",
      " - 99% Tile     :  10.768605\n",
      "Save output signals into checkpoint/baseline - LSTM/sample/0031.npy\n"
     ]
    },
    {
     "name": "stderr",
     "output_type": "stream",
     "text": [
      "[0032/0040] Train: 100%|█████████████████████████████| 174/174 [00:04<00:00, 39.03it/s, loss 0.0025]\n",
      "[0032/0040] Validation: 100%|████████████████████| 173/173 [00:02<00:00, 82.80it/s, val_loss 0.0022]\n",
      "[0033/0040] Train:   0%|                                                    | 0/174 [00:00<?, ?it/s]"
     ]
    },
    {
     "name": "stdout",
     "output_type": "stream",
     "text": [
      "val_loss is not improved for 2 epochs\n",
      "                  validation\n",
      " - Yaw          :   2.012346\n",
      " - Pitch        :   1.596074\n",
      " - Roll         :   0.873680\n",
      " - RMS          :   1.566344\n",
      " - 99% Tile     :  10.672697\n",
      "Save output signals into checkpoint/baseline - LSTM/sample/0032.npy\n"
     ]
    },
    {
     "name": "stderr",
     "output_type": "stream",
     "text": [
      "[0033/0040] Train: 100%|█████████████████████████████| 174/174 [00:04<00:00, 38.17it/s, loss 0.0025]\n",
      "[0033/0040] Validation: 100%|████████████████████| 173/173 [00:02<00:00, 81.09it/s, val_loss 0.0021]\n",
      "[0034/0040] Train:   0%|                                                    | 0/174 [00:00<?, ?it/s]"
     ]
    },
    {
     "name": "stdout",
     "output_type": "stream",
     "text": [
      "                  validation\n",
      " - Yaw          :   1.839992\n",
      " - Pitch        :   1.257791\n",
      " - Roll         :   0.902734\n",
      " - RMS          :   1.388349\n",
      " - 99% Tile     :  10.686631\n",
      "Save output signals into checkpoint/baseline - LSTM/sample/0033.npy\n"
     ]
    },
    {
     "name": "stderr",
     "output_type": "stream",
     "text": [
      "[0034/0040] Train: 100%|█████████████████████████████| 174/174 [00:04<00:00, 38.59it/s, loss 0.0025]\n",
      "[0034/0040] Validation: 100%|████████████████████| 173/173 [00:02<00:00, 84.50it/s, val_loss 0.0021]\n",
      "[0035/0040] Train:   0%|                                                    | 0/174 [00:00<?, ?it/s]"
     ]
    },
    {
     "name": "stdout",
     "output_type": "stream",
     "text": [
      "val_loss is not improved for 1 epochs\n",
      "                  validation\n",
      " - Yaw          :   1.923562\n",
      " - Pitch        :   1.317244\n",
      " - Roll         :   0.894697\n",
      " - RMS          :   1.441724\n",
      " - 99% Tile     :  10.533907\n",
      "Save output signals into checkpoint/baseline - LSTM/sample/0034.npy\n"
     ]
    },
    {
     "name": "stderr",
     "output_type": "stream",
     "text": [
      "[0035/0040] Train: 100%|█████████████████████████████| 174/174 [00:04<00:00, 37.27it/s, loss 0.0025]\n",
      "[0035/0040] Validation: 100%|████████████████████| 173/173 [00:02<00:00, 80.87it/s, val_loss 0.0021]\n",
      "[0036/0040] Train:   0%|                                                    | 0/174 [00:00<?, ?it/s]"
     ]
    },
    {
     "name": "stdout",
     "output_type": "stream",
     "text": [
      "val_loss is not improved for 2 epochs\n",
      "                  validation\n",
      " - Yaw          :   2.128670\n",
      " - Pitch        :   1.218965\n",
      " - Roll         :   0.892733\n",
      " - RMS          :   1.507103\n",
      " - 99% Tile     :  10.588251\n",
      "Save output signals into checkpoint/baseline - LSTM/sample/0035.npy\n"
     ]
    },
    {
     "name": "stderr",
     "output_type": "stream",
     "text": [
      "[0036/0040] Train: 100%|█████████████████████████████| 174/174 [00:04<00:00, 39.08it/s, loss 0.0025]\n",
      "[0036/0040] Validation: 100%|████████████████████| 173/173 [00:02<00:00, 78.47it/s, val_loss 0.0020]\n",
      "[0037/0040] Train:   0%|                                                    | 0/174 [00:00<?, ?it/s]"
     ]
    },
    {
     "name": "stdout",
     "output_type": "stream",
     "text": [
      "                  validation\n",
      " - Yaw          :   1.928724\n",
      " - Pitch        :   1.180074\n",
      " - Roll         :   0.951690\n",
      " - RMS          :   1.416365\n",
      " - 99% Tile     :  10.554837\n",
      "Save output signals into checkpoint/baseline - LSTM/sample/0036.npy\n"
     ]
    },
    {
     "name": "stderr",
     "output_type": "stream",
     "text": [
      "[0037/0040] Train: 100%|█████████████████████████████| 174/174 [00:04<00:00, 39.06it/s, loss 0.0025]\n",
      "[0037/0040] Validation: 100%|████████████████████| 173/173 [00:02<00:00, 80.90it/s, val_loss 0.0021]\n",
      "[0038/0040] Train:   0%|                                                    | 0/174 [00:00<?, ?it/s]"
     ]
    },
    {
     "name": "stdout",
     "output_type": "stream",
     "text": [
      "val_loss is not improved for 1 epochs\n",
      "                  validation\n",
      " - Yaw          :   1.914078\n",
      " - Pitch        :   1.169198\n",
      " - Roll         :   1.007671\n",
      " - RMS          :   1.419639\n",
      " - 99% Tile     :  10.502626\n",
      "Save output signals into checkpoint/baseline - LSTM/sample/0037.npy\n"
     ]
    },
    {
     "name": "stderr",
     "output_type": "stream",
     "text": [
      "[0038/0040] Train: 100%|█████████████████████████████| 174/174 [00:04<00:00, 39.08it/s, loss 0.0024]\n",
      "[0038/0040] Validation: 100%|████████████████████| 173/173 [00:02<00:00, 75.98it/s, val_loss 0.0021]\n",
      "[0039/0040] Train:   0%|                                                    | 0/174 [00:00<?, ?it/s]"
     ]
    },
    {
     "name": "stdout",
     "output_type": "stream",
     "text": [
      "val_loss is not improved for 2 epochs\n",
      "                  validation\n",
      " - Yaw          :   1.941297\n",
      " - Pitch        :   1.242549\n",
      " - Roll         :   0.995209\n",
      " - RMS          :   1.449483\n",
      " - 99% Tile     :  10.657853\n",
      "Save output signals into checkpoint/baseline - LSTM/sample/0038.npy\n"
     ]
    },
    {
     "name": "stderr",
     "output_type": "stream",
     "text": [
      "[0039/0040] Train: 100%|█████████████████████████████| 174/174 [00:04<00:00, 39.06it/s, loss 0.0024]\n",
      "[0039/0040] Validation: 100%|████████████████████| 173/173 [00:02<00:00, 81.75it/s, val_loss 0.0020]\n",
      "[0040/0040] Train:   0%|                                                    | 0/174 [00:00<?, ?it/s]"
     ]
    },
    {
     "name": "stdout",
     "output_type": "stream",
     "text": [
      "                  validation\n",
      " - Yaw          :   1.902541\n",
      " - Pitch        :   1.139462\n",
      " - Roll         :   0.945838\n",
      " - RMS          :   1.391958\n",
      " - 99% Tile     :  10.557571\n",
      "Save output signals into checkpoint/baseline - LSTM/sample/0039.npy\n"
     ]
    },
    {
     "name": "stderr",
     "output_type": "stream",
     "text": [
      "[0040/0040] Train: 100%|█████████████████████████████| 174/174 [00:04<00:00, 38.35it/s, loss 0.0024]\n",
      "[0040/0040] Validation: 100%|████████████████████| 173/173 [00:02<00:00, 82.00it/s, val_loss 0.0022]"
     ]
    },
    {
     "name": "stdout",
     "output_type": "stream",
     "text": [
      "val_loss is not improved for 1 epochs\n",
      "                  validation\n",
      " - Yaw          :   1.982572\n",
      " - Pitch        :   1.711753\n",
      " - Roll         :   0.926079\n",
      " - RMS          :   1.603986\n",
      " - 99% Tile     :  10.624943\n",
      "Save output signals into checkpoint/baseline - LSTM/sample/0040.npy\n"
     ]
    },
    {
     "name": "stderr",
     "output_type": "stream",
     "text": [
      "\n"
     ]
    }
   ],
   "source": [
    "trainer.fit(train_ds, test_ds, num_epochs=NUM_EPOCHS, batch_size=BATCH_SIZE)"
   ]
  },
  {
   "cell_type": "code",
   "execution_count": null,
   "metadata": {},
   "outputs": [],
   "source": []
  },
  {
   "cell_type": "code",
   "execution_count": null,
   "metadata": {},
   "outputs": [],
   "source": []
  },
  {
   "cell_type": "code",
   "execution_count": null,
   "metadata": {},
   "outputs": [],
   "source": []
  },
  {
   "cell_type": "code",
   "execution_count": null,
   "metadata": {},
   "outputs": [],
   "source": []
  },
  {
   "cell_type": "code",
   "execution_count": null,
   "metadata": {},
   "outputs": [],
   "source": []
  },
  {
   "cell_type": "code",
   "execution_count": null,
   "metadata": {},
   "outputs": [],
   "source": []
  },
  {
   "cell_type": "code",
   "execution_count": null,
   "metadata": {},
   "outputs": [],
   "source": []
  }
 ],
 "metadata": {
  "kernelspec": {
   "display_name": "torch",
   "language": "python",
   "name": "torch"
  },
  "language_info": {
   "codemirror_mode": {
    "name": "ipython",
    "version": 3
   },
   "file_extension": ".py",
   "mimetype": "text/x-python",
   "name": "python",
   "nbconvert_exporter": "python",
   "pygments_lexer": "ipython3",
   "version": "3.8.5"
  }
 },
 "nbformat": 4,
 "nbformat_minor": 4
}
