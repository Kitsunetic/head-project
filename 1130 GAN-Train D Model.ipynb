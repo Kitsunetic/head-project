{
 "cells": [
  {
   "cell_type": "markdown",
   "metadata": {},
   "source": [
    "# 목표\n",
    "\n",
    "Conv based로 D 모델만 학습이 가능한지 확인.\n",
    "\n",
    "1. 가상의 G 모델(CLSTMC, pretrained)로 testset에 대해 prediction들을 생성\n",
    "2. 생성한 데이터를 npy 파일로 저장\n",
    "3. D 모델에서 가짜와 진짜 데이터를 구분이 가능한지(예측 데이터와 실제 데이터에 실제로 차이가 있는지) 를 확인한다."
   ]
  },
  {
   "cell_type": "code",
   "execution_count": 1,
   "metadata": {},
   "outputs": [],
   "source": [
    "from multiprocessing import cpu_count\n",
    "from pathlib import Path\n",
    "from typing import List, Union, AnyStr\n",
    "from math import pi\n",
    "import pickle\n",
    "\n",
    "import numpy as np\n",
    "import torch\n",
    "import matplotlib.pyplot as plt\n",
    "import torch.nn as nn\n",
    "from sklearn import model_selection\n",
    "from tqdm import tqdm\n",
    "import torch_optimizer\n",
    "from torch.utils.data import Dataset, DataLoader\n",
    "import pandas as pd\n",
    "import random\n",
    "from torchvision.models.resnet import resnet18\n",
    "\n",
    "import torch_burn as tb\n",
    "import utils"
   ]
  },
  {
   "cell_type": "code",
   "execution_count": 2,
   "metadata": {},
   "outputs": [],
   "source": [
    "tb.seed_everything(0)"
   ]
  },
  {
   "cell_type": "code",
   "execution_count": 3,
   "metadata": {},
   "outputs": [],
   "source": [
    "EXPERIMENT_NAME = '1130-Train-D'\n",
    "CHECKPOINT_DIR = Path('checkpoint', EXPERIMENT_NAME)\n",
    "CHECKPOINT_DIR.mkdir(parents=True, exist_ok=True)\n",
    "\n",
    "DS_X = Path('data/1130/X.npy')\n",
    "DS_Y = Path('data/1130/Y.npy')\n",
    "DS_PRED = Path('data/1130/pred.npy')"
   ]
  },
  {
   "cell_type": "markdown",
   "metadata": {},
   "source": [
    "# 데이터셋 생성"
   ]
  },
  {
   "cell_type": "code",
   "execution_count": 4,
   "metadata": {},
   "outputs": [],
   "source": [
    "X = np.load(DS_X, allow_pickle=True)\n",
    "Y = np.load(DS_Y, allow_pickle=True)\n",
    "pred = np.load(DS_PRED, allow_pickle=True)"
   ]
  },
  {
   "cell_type": "code",
   "execution_count": 5,
   "metadata": {},
   "outputs": [
    {
     "data": {
      "text/plain": [
       "((10671, 120, 6), (10671, 120, 3), (10671, 120, 3))"
      ]
     },
     "execution_count": 5,
     "metadata": {},
     "output_type": "execute_result"
    }
   ],
   "source": [
    "X.shape, Y.shape, pred.shape"
   ]
  },
  {
   "cell_type": "code",
   "execution_count": 6,
   "metadata": {},
   "outputs": [
    {
     "data": {
      "text/plain": [
       "array([0, 0, 1, 0, 1, 0, 0, 1, 1, 0], dtype=uint8)"
      ]
     },
     "execution_count": 6,
     "metadata": {},
     "output_type": "execute_result"
    }
   ],
   "source": [
    "np.random.randint(0, 2, (10, ), np.uint8)"
   ]
  },
  {
   "cell_type": "code",
   "execution_count": 7,
   "metadata": {},
   "outputs": [],
   "source": [
    "class DetectorDataset(Dataset):\n",
    "    def __init__(self, X, Y, pred):\n",
    "        super(DetectorDataset, self).__init__()\n",
    "\n",
    "        self.X = torch.tensor(X, dtype=torch.float32)\n",
    "        self.Y = torch.tensor(Y, dtype=torch.float32)\n",
    "        self.pred = torch.tensor(pred, dtype=torch.float32)\n",
    "\n",
    "        assert self.X.shape[0] == self.Y.shape[0] == self.pred.shape[0]\n",
    "        self.L = self.pred.shape[0]\n",
    "\n",
    "    def __len__(self):\n",
    "        return 2 * self.L\n",
    "\n",
    "    def __getitem__(self, idx):\n",
    "        b = idx >= self.L\n",
    "        x = self.Y[idx - self.L] if b else self.pred[idx]\n",
    "        y = torch.tensor([int(b)], dtype=torch.float32)\n",
    "        return x, y"
   ]
  },
  {
   "cell_type": "code",
   "execution_count": 8,
   "metadata": {},
   "outputs": [],
   "source": [
    "ds = DetectorDataset(X, Y, pred)"
   ]
  },
  {
   "cell_type": "markdown",
   "metadata": {},
   "source": [
    "# 모델 생성"
   ]
  },
  {
   "cell_type": "code",
   "execution_count": 9,
   "metadata": {},
   "outputs": [],
   "source": [
    "class ResBlock1d(nn.Module):\n",
    "    expansion = 1\n",
    "    \n",
    "    def __init__(self, inchannels, channels, kernel_size, stride=1):\n",
    "        super(ResBlock1d, self).__init__()\n",
    "\n",
    "        self.conv1 = nn.Sequential(\n",
    "            nn.Conv1d(inchannels, channels * self.expansion, kernel_size, stride=stride, padding=kernel_size // 2),\n",
    "            nn.BatchNorm1d(channels),\n",
    "            nn.LeakyReLU(),\n",
    "            nn.Conv1d(channels, channels * self.expansion, kernel_size, stride=stride, padding=kernel_size // 2),\n",
    "            nn.BatchNorm1d(channels)\n",
    "        )\n",
    "        self.conv2 = nn.Sequential(\n",
    "            nn.Conv1d(inchannels, channels * self.expansion, 1, stride=stride),\n",
    "            nn.BatchNorm1d(channels)\n",
    "        )\n",
    "        self.act = nn.LeakyReLU()\n",
    "\n",
    "    def forward(self, x):\n",
    "        identity = x\n",
    "\n",
    "        x = self.conv1(x)\n",
    "        identity = self.conv2(identity)\n",
    "        x += identity\n",
    "        x = self.act(x)\n",
    "\n",
    "        return x"
   ]
  },
  {
   "cell_type": "code",
   "execution_count": 10,
   "metadata": {},
   "outputs": [],
   "source": [
    "class ConvDetector(nn.Module):\n",
    "    def __init__(self, block, layers):\n",
    "        super(ConvDetector, self).__init__()\n",
    "        \n",
    "        self.inchannels = 64\n",
    "        \n",
    "        self.conv1 = nn.Sequential(\n",
    "            nn.Conv1d(3, self.inchannels, 7, stride=2, padding=3, bias=False),\n",
    "            nn.BatchNorm1d(64),\n",
    "            nn.ReLU()\n",
    "        )\n",
    "        self.maxpool = nn.MaxPool1d(kernel_size=3, stride=2, padding=1)\n",
    "        \n",
    "        self.layer1 = self._make_layer(block, 64, layers[0])\n",
    "        self.layer2 = self._make_layer(block, 128, layers[1], stride=2)\n",
    "        self.layer3 = self._make_layer(block, 256, layers[2], stride=2)\n",
    "        self.layer4 = self._make_layer(block, 512, layers[3], stride=2)\n",
    "        self.avgpool = nn.AdaptiveAvgPool1d(1)\n",
    "        self.fc = nn.Linear(512 * block.expansion, 1)\n",
    "        self.sigmoid = nn.Sigmoid()\n",
    "\n",
    "    def forward(self, x):\n",
    "        x = x.transpose(1, 2)  # B, S, 6 --> B, 6, S\n",
    "        x = self.conv1(x)\n",
    "        x = self.maxpool(x)\n",
    "        \n",
    "        x = self.layer1(x)\n",
    "        x = self.layer2(x)\n",
    "        x = self.layer3(x)\n",
    "        x = self.layer4(x)\n",
    "        \n",
    "        x = self.avgpool(x)\n",
    "        x = torch.flatten(x, 1)\n",
    "        x = self.fc(x)\n",
    "        x = self.sigmoid(x)\n",
    "\n",
    "        return x\n",
    "    \n",
    "    def _make_layer(self, block, channels, blocks, stride=1):\n",
    "        layers = []\n",
    "        layers.append(block(self.inchannels, channels, 3))\n",
    "        self.inchannels = channels * block.expansion\n",
    "        for _ in range(1, blocks):\n",
    "            layers.append(block(self.inchannels, channels, 3))\n",
    "        \n",
    "        return nn.Sequential(*layers)"
   ]
  },
  {
   "cell_type": "code",
   "execution_count": 11,
   "metadata": {},
   "outputs": [],
   "source": [
    "model = ConvDetector(ResBlock1d, [2, 2, 2, 2]).cuda()"
   ]
  },
  {
   "cell_type": "code",
   "execution_count": 12,
   "metadata": {},
   "outputs": [
    {
     "name": "stdout",
     "output_type": "stream",
     "text": [
      "tensor([[0.5080]]) tensor([0.])\n",
      "\n"
     ]
    }
   ],
   "source": [
    "model.eval()\n",
    "with torch.no_grad():\n",
    "    x, y = ds[0]\n",
    "    print(model(x.unsqueeze(0).cuda()).cpu(), y)\n",
    "model.train()\n",
    "print()"
   ]
  },
  {
   "cell_type": "code",
   "execution_count": 13,
   "metadata": {},
   "outputs": [],
   "source": [
    "criterion = nn.BCELoss().cuda()\n",
    "optimizer = torch_optimizer.RAdam(model.parameters())"
   ]
  },
  {
   "cell_type": "code",
   "execution_count": 14,
   "metadata": {},
   "outputs": [],
   "source": [
    "metrics = [tb.metrics.ModuleMetric(criterion, 'loss')]"
   ]
  },
  {
   "cell_type": "code",
   "execution_count": 15,
   "metadata": {},
   "outputs": [],
   "source": [
    "callbacks = [\n",
    "    tb.callbacks.EarlyStopping(metrics[0]),\n",
    "    tb.callbacks.LRDecaying(optimizer, metrics[0], patience=3),\n",
    "    tb.callbacks.SaveCheckpoint({'model': model}, metrics[0], CHECKPOINT_DIR, 'best-ckpt.pth')\n",
    "]"
   ]
  },
  {
   "cell_type": "code",
   "execution_count": 16,
   "metadata": {},
   "outputs": [],
   "source": [
    "trainer = tb.Trainer(model, optimizer, metrics, callbacks, ncols=100)"
   ]
  },
  {
   "cell_type": "code",
   "execution_count": 17,
   "metadata": {},
   "outputs": [
    {
     "name": "stderr",
     "output_type": "stream",
     "text": [
      "[0001/0200] Train: 100%|███████████████████████████████| 67/67 [00:03<00:00, 18.13it/s, loss 0.0691]\n",
      "[0001/0200] Validation: 100%|██████████████████████| 17/17 [00:00<00:00, 25.02it/s, val_loss 0.0004]\n",
      "[0002/0200] Train:   0%|                                                     | 0/67 [00:00<?, ?it/s]"
     ]
    },
    {
     "name": "stdout",
     "output_type": "stream",
     "text": [
      "Save checkpoint: val_loss decreased from inf to 0.00038109553176635764\n"
     ]
    },
    {
     "name": "stderr",
     "output_type": "stream",
     "text": [
      "[0002/0200] Train: 100%|███████████████████████████████| 67/67 [00:03<00:00, 18.02it/s, loss 0.0003]\n",
      "[0002/0200] Validation: 100%|██████████████████████| 17/17 [00:00<00:00, 24.87it/s, val_loss 0.0002]\n",
      "[0003/0200] Train:   0%|                                                     | 0/67 [00:00<?, ?it/s]"
     ]
    },
    {
     "name": "stdout",
     "output_type": "stream",
     "text": [
      "Save checkpoint: val_loss decreased from 0.00038109553176635764 to 0.0002047026774722754\n"
     ]
    },
    {
     "name": "stderr",
     "output_type": "stream",
     "text": [
      "[0003/0200] Train: 100%|███████████████████████████████| 67/67 [00:03<00:00, 17.13it/s, loss 0.0002]\n",
      "[0003/0200] Validation: 100%|██████████████████████| 17/17 [00:00<00:00, 24.58it/s, val_loss 0.0001]\n",
      "[0004/0200] Train:   0%|                                                     | 0/67 [00:00<?, ?it/s]"
     ]
    },
    {
     "name": "stdout",
     "output_type": "stream",
     "text": [
      "Save checkpoint: val_loss decreased from 0.0002047026774722754 to 0.0001296092155184049\n"
     ]
    },
    {
     "name": "stderr",
     "output_type": "stream",
     "text": [
      "[0004/0200] Train: 100%|███████████████████████████████| 67/67 [00:03<00:00, 17.29it/s, loss 0.0001]\n",
      "[0004/0200] Validation: 100%|██████████████████████| 17/17 [00:00<00:00, 23.88it/s, val_loss 0.0001]\n",
      "[0005/0200] Train:   0%|                                                     | 0/67 [00:00<?, ?it/s]"
     ]
    },
    {
     "name": "stdout",
     "output_type": "stream",
     "text": [
      "Save checkpoint: val_loss decreased from 0.0001296092155184049 to 8.717515319243402e-05\n"
     ]
    },
    {
     "name": "stderr",
     "output_type": "stream",
     "text": [
      "[0005/0200] Train: 100%|███████████████████████████████| 67/67 [00:03<00:00, 17.31it/s, loss 0.0001]\n",
      "[0005/0200] Validation: 100%|██████████████████████| 17/17 [00:00<00:00, 24.01it/s, val_loss 0.0001]\n",
      "[0006/0200] Train:   0%|                                                     | 0/67 [00:00<?, ?it/s]"
     ]
    },
    {
     "name": "stdout",
     "output_type": "stream",
     "text": [
      "Save checkpoint: val_loss decreased from 8.717515319243402e-05 to 7.324180136064944e-05\n"
     ]
    },
    {
     "name": "stderr",
     "output_type": "stream",
     "text": [
      "[0006/0200] Train: 100%|███████████████████████████████| 67/67 [00:03<00:00, 17.39it/s, loss 0.0001]\n",
      "[0006/0200] Validation: 100%|██████████████████████| 17/17 [00:00<00:00, 23.92it/s, val_loss 0.0001]\n",
      "[0007/0200] Train:   0%|                                                     | 0/67 [00:00<?, ?it/s]"
     ]
    },
    {
     "name": "stdout",
     "output_type": "stream",
     "text": [
      "Save checkpoint: val_loss decreased from 7.324180136064944e-05 to 5.40186301805079e-05\n"
     ]
    },
    {
     "name": "stderr",
     "output_type": "stream",
     "text": [
      "[0007/0200] Train: 100%|███████████████████████████████| 67/67 [00:03<00:00, 17.45it/s, loss 0.0005]\n",
      "[0007/0200] Validation: 100%|██████████████████████| 17/17 [00:00<00:00, 24.34it/s, val_loss 0.0000]\n",
      "[0008/0200] Train:   0%|                                                     | 0/67 [00:00<?, ?it/s]"
     ]
    },
    {
     "name": "stdout",
     "output_type": "stream",
     "text": [
      "Save checkpoint: val_loss decreased from 5.40186301805079e-05 to 3.781693393487812e-05\n"
     ]
    },
    {
     "name": "stderr",
     "output_type": "stream",
     "text": [
      "[0008/0200] Train: 100%|███████████████████████████████| 67/67 [00:03<00:00, 17.72it/s, loss 0.0001]\n",
      "[0008/0200] Validation: 100%|██████████████████████| 17/17 [00:00<00:00, 24.45it/s, val_loss 0.0000]\n",
      "[0009/0200] Train:   0%|                                                     | 0/67 [00:00<?, ?it/s]"
     ]
    },
    {
     "name": "stdout",
     "output_type": "stream",
     "text": [
      "Save checkpoint: val_loss decreased from 3.781693393487812e-05 to 3.023723943710245e-05\n"
     ]
    },
    {
     "name": "stderr",
     "output_type": "stream",
     "text": [
      "[0009/0200] Train: 100%|███████████████████████████████| 67/67 [00:03<00:00, 17.85it/s, loss 0.0000]\n",
      "[0009/0200] Validation: 100%|██████████████████████| 17/17 [00:00<00:00, 24.71it/s, val_loss 0.0000]\n",
      "[0010/0200] Train:   0%|                                                     | 0/67 [00:00<?, ?it/s]"
     ]
    },
    {
     "name": "stdout",
     "output_type": "stream",
     "text": [
      "Save checkpoint: val_loss decreased from 3.023723943710245e-05 to 2.3327248901991613e-05\n"
     ]
    },
    {
     "name": "stderr",
     "output_type": "stream",
     "text": [
      "[0010/0200] Train: 100%|███████████████████████████████| 67/67 [00:03<00:00, 17.69it/s, loss 0.0000]\n",
      "[0010/0200] Validation: 100%|██████████████████████| 17/17 [00:00<00:00, 25.41it/s, val_loss 0.0000]\n",
      "[0011/0200] Train:   0%|                                                     | 0/67 [00:00<?, ?it/s]"
     ]
    },
    {
     "name": "stdout",
     "output_type": "stream",
     "text": [
      "Save checkpoint: val_loss decreased from 2.3327248901991613e-05 to 1.9593411921318073e-05\n"
     ]
    },
    {
     "name": "stderr",
     "output_type": "stream",
     "text": [
      "[0011/0200] Train: 100%|███████████████████████████████| 67/67 [00:03<00:00, 17.74it/s, loss 0.0000]\n",
      "[0011/0200] Validation: 100%|██████████████████████| 17/17 [00:00<00:00, 25.62it/s, val_loss 0.0000]\n",
      "[0012/0200] Train:   0%|                                                     | 0/67 [00:00<?, ?it/s]"
     ]
    },
    {
     "name": "stdout",
     "output_type": "stream",
     "text": [
      "Save checkpoint: val_loss decreased from 1.9593411921318073e-05 to 1.6436218763427698e-05\n"
     ]
    },
    {
     "name": "stderr",
     "output_type": "stream",
     "text": [
      "[0012/0200] Train: 100%|███████████████████████████████| 67/67 [00:03<00:00, 17.50it/s, loss 0.0000]\n",
      "[0012/0200] Validation: 100%|██████████████████████| 17/17 [00:00<00:00, 24.92it/s, val_loss 0.0000]\n",
      "[0013/0200] Train:   0%|                                                     | 0/67 [00:00<?, ?it/s]"
     ]
    },
    {
     "name": "stdout",
     "output_type": "stream",
     "text": [
      "val_loss is not improved for 1 epochs\n"
     ]
    },
    {
     "name": "stderr",
     "output_type": "stream",
     "text": [
      "[0013/0200] Train: 100%|███████████████████████████████| 67/67 [00:03<00:00, 17.69it/s, loss 0.0000]\n",
      "[0013/0200] Validation: 100%|██████████████████████| 17/17 [00:00<00:00, 25.51it/s, val_loss 0.0000]\n",
      "[0014/0200] Train:   0%|                                                     | 0/67 [00:00<?, ?it/s]"
     ]
    },
    {
     "name": "stdout",
     "output_type": "stream",
     "text": [
      "Save checkpoint: val_loss decreased from 1.6436218763427698e-05 to 1.3147265610100208e-05\n"
     ]
    },
    {
     "name": "stderr",
     "output_type": "stream",
     "text": [
      "[0014/0200] Train: 100%|███████████████████████████████| 67/67 [00:03<00:00, 17.38it/s, loss 0.0000]\n",
      "[0014/0200] Validation: 100%|██████████████████████| 17/17 [00:00<00:00, 24.87it/s, val_loss 0.0000]\n",
      "[0015/0200] Train:   0%|                                                     | 0/67 [00:00<?, ?it/s]"
     ]
    },
    {
     "name": "stdout",
     "output_type": "stream",
     "text": [
      "Save checkpoint: val_loss decreased from 1.3147265610100208e-05 to 1.1223750976462137e-05\n"
     ]
    },
    {
     "name": "stderr",
     "output_type": "stream",
     "text": [
      "[0015/0200] Train: 100%|███████████████████████████████| 67/67 [00:03<00:00, 17.65it/s, loss 0.0000]\n",
      "[0015/0200] Validation: 100%|██████████████████████| 17/17 [00:00<00:00, 24.82it/s, val_loss 0.0000]\n",
      "[0016/0200] Train:   0%|                                                     | 0/67 [00:00<?, ?it/s]"
     ]
    },
    {
     "name": "stdout",
     "output_type": "stream",
     "text": [
      "Save checkpoint: val_loss decreased from 1.1223750976462137e-05 to 1.0231716688020456e-05\n"
     ]
    },
    {
     "name": "stderr",
     "output_type": "stream",
     "text": [
      "[0016/0200] Train: 100%|███████████████████████████████| 67/67 [00:03<00:00, 17.51it/s, loss 0.0000]\n",
      "[0016/0200] Validation: 100%|██████████████████████| 17/17 [00:00<00:00, 24.77it/s, val_loss 0.0000]\n",
      "[0017/0200] Train:   0%|                                                     | 0/67 [00:00<?, ?it/s]"
     ]
    },
    {
     "name": "stdout",
     "output_type": "stream",
     "text": [
      "Save checkpoint: val_loss decreased from 1.0231716688020456e-05 to 9.108830882349353e-06\n"
     ]
    },
    {
     "name": "stderr",
     "output_type": "stream",
     "text": [
      "[0017/0200] Train: 100%|███████████████████████████████| 67/67 [00:03<00:00, 17.70it/s, loss 0.0000]\n",
      "[0017/0200] Validation: 100%|██████████████████████| 17/17 [00:00<00:00, 25.16it/s, val_loss 0.0000]\n",
      "[0018/0200] Train:   0%|                                                     | 0/67 [00:00<?, ?it/s]"
     ]
    },
    {
     "name": "stdout",
     "output_type": "stream",
     "text": [
      "Save checkpoint: val_loss decreased from 9.108830882349353e-06 to 8.260134242899607e-06\n"
     ]
    },
    {
     "name": "stderr",
     "output_type": "stream",
     "text": [
      "[0018/0200] Train: 100%|███████████████████████████████| 67/67 [00:03<00:00, 17.69it/s, loss 0.0000]\n",
      "[0018/0200] Validation: 100%|██████████████████████| 17/17 [00:00<00:00, 25.25it/s, val_loss 0.0000]\n",
      "[0019/0200] Train:   0%|                                                     | 0/67 [00:00<?, ?it/s]"
     ]
    },
    {
     "name": "stdout",
     "output_type": "stream",
     "text": [
      "Save checkpoint: val_loss decreased from 8.260134242899607e-06 to 7.722686191032955e-06\n"
     ]
    },
    {
     "name": "stderr",
     "output_type": "stream",
     "text": [
      "[0019/0200] Train: 100%|███████████████████████████████| 67/67 [00:03<00:00, 17.99it/s, loss 0.0000]\n",
      "[0019/0200] Validation: 100%|██████████████████████| 17/17 [00:00<00:00, 25.39it/s, val_loss 0.0000]\n",
      "[0020/0200] Train:   0%|                                                     | 0/67 [00:00<?, ?it/s]"
     ]
    },
    {
     "name": "stdout",
     "output_type": "stream",
     "text": [
      "Save checkpoint: val_loss decreased from 7.722686191032955e-06 to 6.971163737248657e-06\n"
     ]
    },
    {
     "name": "stderr",
     "output_type": "stream",
     "text": [
      "[0020/0200] Train: 100%|███████████████████████████████| 67/67 [00:03<00:00, 18.36it/s, loss 0.0000]\n",
      "[0020/0200] Validation: 100%|██████████████████████| 17/17 [00:00<00:00, 25.53it/s, val_loss 0.0000]\n",
      "[0021/0200] Train:   0%|                                                     | 0/67 [00:00<?, ?it/s]"
     ]
    },
    {
     "name": "stdout",
     "output_type": "stream",
     "text": [
      "Save checkpoint: val_loss decreased from 6.971163737248657e-06 to 6.153941499445971e-06\n"
     ]
    },
    {
     "name": "stderr",
     "output_type": "stream",
     "text": [
      "[0021/0200] Train: 100%|███████████████████████████████| 67/67 [00:03<00:00, 17.55it/s, loss 0.0000]\n",
      "[0021/0200] Validation: 100%|██████████████████████| 17/17 [00:00<00:00, 25.04it/s, val_loss 0.0000]\n",
      "[0022/0200] Train:   0%|                                                     | 0/67 [00:00<?, ?it/s]"
     ]
    },
    {
     "name": "stdout",
     "output_type": "stream",
     "text": [
      "Save checkpoint: val_loss decreased from 6.153941499445971e-06 to 5.523831398878589e-06\n"
     ]
    },
    {
     "name": "stderr",
     "output_type": "stream",
     "text": [
      "[0022/0200] Train: 100%|███████████████████████████████| 67/67 [00:03<00:00, 17.33it/s, loss 0.0000]\n",
      "[0022/0200] Validation: 100%|██████████████████████| 17/17 [00:00<00:00, 22.94it/s, val_loss 0.0000]\n",
      "[0023/0200] Train:   0%|                                                     | 0/67 [00:00<?, ?it/s]"
     ]
    },
    {
     "name": "stdout",
     "output_type": "stream",
     "text": [
      "Save checkpoint: val_loss decreased from 5.523831398878589e-06 to 5.122238342343789e-06\n"
     ]
    },
    {
     "name": "stderr",
     "output_type": "stream",
     "text": [
      "[0023/0200] Train: 100%|███████████████████████████████| 67/67 [00:03<00:00, 17.32it/s, loss 0.0000]\n",
      "[0023/0200] Validation: 100%|██████████████████████| 17/17 [00:00<00:00, 23.37it/s, val_loss 0.0000]\n",
      "[0024/0200] Train:   0%|                                                     | 0/67 [00:00<?, ?it/s]"
     ]
    },
    {
     "name": "stdout",
     "output_type": "stream",
     "text": [
      "Save checkpoint: val_loss decreased from 5.122238342343789e-06 to 4.665144628875971e-06\n"
     ]
    },
    {
     "name": "stderr",
     "output_type": "stream",
     "text": [
      "[0024/0200] Train: 100%|███████████████████████████████| 67/67 [00:03<00:00, 17.07it/s, loss 0.0000]\n",
      "[0024/0200] Validation: 100%|██████████████████████| 17/17 [00:00<00:00, 23.25it/s, val_loss 0.0000]\n",
      "[0025/0200] Train:   0%|                                                     | 0/67 [00:00<?, ?it/s]"
     ]
    },
    {
     "name": "stdout",
     "output_type": "stream",
     "text": [
      "Save checkpoint: val_loss decreased from 4.665144628875971e-06 to 4.510992071385879e-06\n"
     ]
    },
    {
     "name": "stderr",
     "output_type": "stream",
     "text": [
      "[0025/0200] Train: 100%|███████████████████████████████| 67/67 [00:03<00:00, 17.52it/s, loss 0.0000]\n",
      "[0025/0200] Validation: 100%|██████████████████████| 17/17 [00:00<00:00, 24.52it/s, val_loss 0.0000]\n",
      "[0026/0200] Train:   0%|                                                     | 0/67 [00:00<?, ?it/s]"
     ]
    },
    {
     "name": "stdout",
     "output_type": "stream",
     "text": [
      "Save checkpoint: val_loss decreased from 4.510992071385879e-06 to 4.220334978847805e-06\n"
     ]
    },
    {
     "name": "stderr",
     "output_type": "stream",
     "text": [
      "[0026/0200] Train: 100%|███████████████████████████████| 67/67 [00:03<00:00, 17.82it/s, loss 0.0000]\n",
      "[0026/0200] Validation: 100%|██████████████████████| 17/17 [00:00<00:00, 24.69it/s, val_loss 0.0000]\n",
      "[0027/0200] Train:   0%|                                                     | 0/67 [00:00<?, ?it/s]"
     ]
    },
    {
     "name": "stdout",
     "output_type": "stream",
     "text": [
      "Save checkpoint: val_loss decreased from 4.220334978847805e-06 to 3.94347942828437e-06\n"
     ]
    },
    {
     "name": "stderr",
     "output_type": "stream",
     "text": [
      "[0027/0200] Train: 100%|███████████████████████████████| 67/67 [00:03<00:00, 17.64it/s, loss 0.0000]\n",
      "[0027/0200] Validation: 100%|██████████████████████| 17/17 [00:00<00:00, 24.05it/s, val_loss 0.0000]\n",
      "[0028/0200] Train:   0%|                                                     | 0/67 [00:00<?, ?it/s]"
     ]
    },
    {
     "name": "stdout",
     "output_type": "stream",
     "text": [
      "Save checkpoint: val_loss decreased from 3.94347942828437e-06 to 3.602651612013955e-06\n"
     ]
    },
    {
     "name": "stderr",
     "output_type": "stream",
     "text": [
      "[0028/0200] Train: 100%|███████████████████████████████| 67/67 [00:03<00:00, 17.47it/s, loss 0.0000]\n",
      "[0028/0200] Validation: 100%|██████████████████████| 17/17 [00:00<00:00, 22.93it/s, val_loss 0.0000]\n",
      "[0029/0200] Train:   0%|                                                     | 0/67 [00:00<?, ?it/s]"
     ]
    },
    {
     "name": "stdout",
     "output_type": "stream",
     "text": [
      "val_loss is not improved for 1 epochs\n"
     ]
    },
    {
     "name": "stderr",
     "output_type": "stream",
     "text": [
      "[0029/0200] Train: 100%|███████████████████████████████| 67/67 [00:03<00:00, 17.53it/s, loss 0.0000]\n",
      "[0029/0200] Validation: 100%|██████████████████████| 17/17 [00:00<00:00, 24.78it/s, val_loss 0.0000]\n",
      "[0030/0200] Train:   0%|                                                     | 0/67 [00:00<?, ?it/s]"
     ]
    },
    {
     "name": "stdout",
     "output_type": "stream",
     "text": [
      "Save checkpoint: val_loss decreased from 3.602651612013955e-06 to 3.1565842779373805e-06\n"
     ]
    },
    {
     "name": "stderr",
     "output_type": "stream",
     "text": [
      "[0030/0200] Train: 100%|███████████████████████████████| 67/67 [00:03<00:00, 17.56it/s, loss 0.0000]\n",
      "[0030/0200] Validation: 100%|██████████████████████| 17/17 [00:00<00:00, 25.29it/s, val_loss 0.0000]\n",
      "[0031/0200] Train:   0%|                                                     | 0/67 [00:00<?, ?it/s]"
     ]
    },
    {
     "name": "stdout",
     "output_type": "stream",
     "text": [
      "val_loss is not improved for 1 epochs\n"
     ]
    },
    {
     "name": "stderr",
     "output_type": "stream",
     "text": [
      "[0031/0200] Train: 100%|███████████████████████████████| 67/67 [00:03<00:00, 17.52it/s, loss 0.0000]\n",
      "[0031/0200] Validation: 100%|██████████████████████| 17/17 [00:00<00:00, 24.57it/s, val_loss 0.0000]\n",
      "[0032/0200] Train:   0%|                                                     | 0/67 [00:00<?, ?it/s]"
     ]
    },
    {
     "name": "stdout",
     "output_type": "stream",
     "text": [
      "Save checkpoint: val_loss decreased from 3.1565842779373805e-06 to 2.7383920603503666e-06\n"
     ]
    },
    {
     "name": "stderr",
     "output_type": "stream",
     "text": [
      "[0032/0200] Train: 100%|███████████████████████████████| 67/67 [00:03<00:00, 17.71it/s, loss 0.0000]\n",
      "[0032/0200] Validation: 100%|██████████████████████| 17/17 [00:00<00:00, 25.15it/s, val_loss 0.0000]\n",
      "[0033/0200] Train:   0%|                                                     | 0/67 [00:00<?, ?it/s]"
     ]
    },
    {
     "name": "stdout",
     "output_type": "stream",
     "text": [
      "Save checkpoint: val_loss decreased from 2.7383920603503666e-06 to 2.5688921141409082e-06\n"
     ]
    },
    {
     "name": "stderr",
     "output_type": "stream",
     "text": [
      "[0033/0200] Train: 100%|███████████████████████████████| 67/67 [00:03<00:00, 17.26it/s, loss 0.0000]\n",
      "[0033/0200] Validation: 100%|██████████████████████| 17/17 [00:00<00:00, 24.89it/s, val_loss 0.0000]\n",
      "[0034/0200] Train:   0%|                                                     | 0/67 [00:00<?, ?it/s]"
     ]
    },
    {
     "name": "stdout",
     "output_type": "stream",
     "text": [
      "Save checkpoint: val_loss decreased from 2.5688921141409082e-06 to 2.5228770990746423e-06\n"
     ]
    },
    {
     "name": "stderr",
     "output_type": "stream",
     "text": [
      "[0034/0200] Train: 100%|███████████████████████████████| 67/67 [00:03<00:00, 17.32it/s, loss 0.0000]\n",
      "[0034/0200] Validation: 100%|██████████████████████| 17/17 [00:00<00:00, 25.50it/s, val_loss 0.0000]\n",
      "[0035/0200] Train:   0%|                                                     | 0/67 [00:00<?, ?it/s]"
     ]
    },
    {
     "name": "stdout",
     "output_type": "stream",
     "text": [
      "Save checkpoint: val_loss decreased from 2.5228770990746423e-06 to 2.356942198222147e-06\n"
     ]
    },
    {
     "name": "stderr",
     "output_type": "stream",
     "text": [
      "[0035/0200] Train: 100%|███████████████████████████████| 67/67 [00:03<00:00, 17.53it/s, loss 0.0000]\n",
      "[0035/0200] Validation: 100%|██████████████████████| 17/17 [00:00<00:00, 23.43it/s, val_loss 0.0000]\n",
      "[0036/0200] Train:   0%|                                                     | 0/67 [00:00<?, ?it/s]"
     ]
    },
    {
     "name": "stdout",
     "output_type": "stream",
     "text": [
      "Save checkpoint: val_loss decreased from 2.356942198222147e-06 to 2.1992457678767525e-06\n"
     ]
    },
    {
     "name": "stderr",
     "output_type": "stream",
     "text": [
      "[0036/0200] Train: 100%|███████████████████████████████| 67/67 [00:03<00:00, 17.90it/s, loss 0.0000]\n",
      "[0036/0200] Validation: 100%|██████████████████████| 17/17 [00:00<00:00, 25.06it/s, val_loss 0.0000]\n",
      "[0037/0200] Train:   0%|                                                     | 0/67 [00:00<?, ?it/s]"
     ]
    },
    {
     "name": "stdout",
     "output_type": "stream",
     "text": [
      "Save checkpoint: val_loss decreased from 2.1992457678767525e-06 to 2.043481037403313e-06\n"
     ]
    },
    {
     "name": "stderr",
     "output_type": "stream",
     "text": [
      "[0037/0200] Train: 100%|███████████████████████████████| 67/67 [00:03<00:00, 18.10it/s, loss 0.0000]\n",
      "[0037/0200] Validation: 100%|██████████████████████| 17/17 [00:00<00:00, 25.30it/s, val_loss 0.0000]\n",
      "[0038/0200] Train:   0%|                                                     | 0/67 [00:00<?, ?it/s]"
     ]
    },
    {
     "name": "stdout",
     "output_type": "stream",
     "text": [
      "Save checkpoint: val_loss decreased from 2.043481037403313e-06 to 1.9519901370051015e-06\n"
     ]
    },
    {
     "name": "stderr",
     "output_type": "stream",
     "text": [
      "[0038/0200] Train: 100%|███████████████████████████████| 67/67 [00:03<00:00, 18.20it/s, loss 0.0000]\n",
      "[0038/0200] Validation: 100%|██████████████████████| 17/17 [00:00<00:00, 25.40it/s, val_loss 0.0000]\n",
      "[0039/0200] Train:   0%|                                                     | 0/67 [00:00<?, ?it/s]"
     ]
    },
    {
     "name": "stdout",
     "output_type": "stream",
     "text": [
      "Save checkpoint: val_loss decreased from 1.9519901370051015e-06 to 1.769503736635242e-06\n"
     ]
    },
    {
     "name": "stderr",
     "output_type": "stream",
     "text": [
      "[0039/0200] Train: 100%|███████████████████████████████| 67/67 [00:03<00:00, 18.10it/s, loss 0.0000]\n",
      "[0039/0200] Validation: 100%|██████████████████████| 17/17 [00:00<00:00, 24.99it/s, val_loss 0.0000]\n",
      "[0040/0200] Train:   0%|                                                     | 0/67 [00:00<?, ?it/s]"
     ]
    },
    {
     "name": "stdout",
     "output_type": "stream",
     "text": [
      "Save checkpoint: val_loss decreased from 1.769503736635242e-06 to 1.7660960539240692e-06\n"
     ]
    },
    {
     "name": "stderr",
     "output_type": "stream",
     "text": [
      "[0040/0200] Train: 100%|███████████████████████████████| 67/67 [00:03<00:00, 18.25it/s, loss 0.0000]\n",
      "[0040/0200] Validation: 100%|██████████████████████| 17/17 [00:00<00:00, 25.52it/s, val_loss 0.0000]\n",
      "[0041/0200] Train:   0%|                                                     | 0/67 [00:00<?, ?it/s]"
     ]
    },
    {
     "name": "stdout",
     "output_type": "stream",
     "text": [
      "Save checkpoint: val_loss decreased from 1.7660960539240692e-06 to 1.5859707486122396e-06\n"
     ]
    },
    {
     "name": "stderr",
     "output_type": "stream",
     "text": [
      "[0041/0200] Train: 100%|███████████████████████████████| 67/67 [00:03<00:00, 18.12it/s, loss 0.0000]\n",
      "[0041/0200] Validation: 100%|██████████████████████| 17/17 [00:00<00:00, 25.21it/s, val_loss 0.0000]\n",
      "[0042/0200] Train:   0%|                                                     | 0/67 [00:00<?, ?it/s]"
     ]
    },
    {
     "name": "stdout",
     "output_type": "stream",
     "text": [
      "val_loss is not improved for 1 epochs\n"
     ]
    },
    {
     "name": "stderr",
     "output_type": "stream",
     "text": [
      "[0042/0200] Train: 100%|███████████████████████████████| 67/67 [00:03<00:00, 17.62it/s, loss 0.0000]\n",
      "[0042/0200] Validation: 100%|██████████████████████| 17/17 [00:00<00:00, 23.38it/s, val_loss 0.0000]\n",
      "[0043/0200] Train:   0%|                                                     | 0/67 [00:00<?, ?it/s]"
     ]
    },
    {
     "name": "stdout",
     "output_type": "stream",
     "text": [
      "Save checkpoint: val_loss decreased from 1.5859707486122396e-06 to 1.4402376978871281e-06\n"
     ]
    },
    {
     "name": "stderr",
     "output_type": "stream",
     "text": [
      "[0043/0200] Train:  55%|█████████████████              | 37/67 [00:02<00:01, 15.63it/s, loss 0.0000]\n"
     ]
    },
    {
     "ename": "KeyboardInterrupt",
     "evalue": "",
     "output_type": "error",
     "traceback": [
      "\u001b[0;31m---------------------------------------------------------------------------\u001b[0m",
      "\u001b[0;31mKeyboardInterrupt\u001b[0m                         Traceback (most recent call last)",
      "\u001b[0;32m<ipython-input-17-3df48aadd2b5>\u001b[0m in \u001b[0;36m<module>\u001b[0;34m\u001b[0m\n\u001b[0;32m----> 1\u001b[0;31m \u001b[0mtrainer\u001b[0m\u001b[0;34m.\u001b[0m\u001b[0mfit\u001b[0m\u001b[0;34m(\u001b[0m\u001b[0mds\u001b[0m\u001b[0;34m,\u001b[0m \u001b[0mtrain_valid_split\u001b[0m\u001b[0;34m=\u001b[0m\u001b[0;36m0.2\u001b[0m\u001b[0;34m,\u001b[0m \u001b[0mnum_epochs\u001b[0m\u001b[0;34m=\u001b[0m\u001b[0;36m200\u001b[0m\u001b[0;34m,\u001b[0m \u001b[0mbatch_size\u001b[0m\u001b[0;34m=\u001b[0m\u001b[0;36m256\u001b[0m\u001b[0;34m,\u001b[0m \u001b[0mshuffle\u001b[0m\u001b[0;34m=\u001b[0m\u001b[0;32mTrue\u001b[0m\u001b[0;34m,\u001b[0m \u001b[0mpin_memory\u001b[0m\u001b[0;34m=\u001b[0m\u001b[0;32mTrue\u001b[0m\u001b[0;34m)\u001b[0m\u001b[0;34m\u001b[0m\u001b[0;34m\u001b[0m\u001b[0m\n\u001b[0m",
      "\u001b[0;32m~/anaconda3/envs/torch/lib/python3.7/site-packages/torch_burn-0.0.3.13-py3.7.egg/torch_burn/traininer/trainer.py\u001b[0m in \u001b[0;36mfit\u001b[0;34m(self, train_dataset, valid_dataset, train_valid_split, num_folds, fold, num_epochs, start_epoch, batch_size, valid_batch_size, shuffle, pin_memory, drop_last, seed)\u001b[0m\n\u001b[1;32m     96\u001b[0m \u001b[0;34m\u001b[0m\u001b[0m\n\u001b[1;32m     97\u001b[0m                     \u001b[0;31m# forward / backward\u001b[0m\u001b[0;34m\u001b[0m\u001b[0;34m\u001b[0m\u001b[0;34m\u001b[0m\u001b[0m\n\u001b[0;32m---> 98\u001b[0;31m                     \u001b[0mx\u001b[0m\u001b[0;34m,\u001b[0m \u001b[0mpred\u001b[0m\u001b[0;34m,\u001b[0m \u001b[0my\u001b[0m \u001b[0;34m=\u001b[0m \u001b[0mself\u001b[0m\u001b[0;34m.\u001b[0m\u001b[0mforward\u001b[0m\u001b[0;34m(\u001b[0m\u001b[0mdata\u001b[0m\u001b[0;34m)\u001b[0m\u001b[0;34m\u001b[0m\u001b[0;34m\u001b[0m\u001b[0m\n\u001b[0m\u001b[1;32m     99\u001b[0m                     \u001b[0mloss\u001b[0m \u001b[0;34m=\u001b[0m \u001b[0mself\u001b[0m\u001b[0;34m.\u001b[0m\u001b[0mmetrics\u001b[0m\u001b[0;34m[\u001b[0m\u001b[0;36m0\u001b[0m\u001b[0;34m]\u001b[0m\u001b[0;34m.\u001b[0m\u001b[0mget_value\u001b[0m\u001b[0;34m(\u001b[0m\u001b[0mpred\u001b[0m\u001b[0;34m,\u001b[0m \u001b[0my\u001b[0m\u001b[0;34m,\u001b[0m \u001b[0mis_train\u001b[0m\u001b[0;34m=\u001b[0m\u001b[0;32mTrue\u001b[0m\u001b[0;34m)\u001b[0m\u001b[0;34m\u001b[0m\u001b[0;34m\u001b[0m\u001b[0m\n\u001b[1;32m    100\u001b[0m                     \u001b[0;32mfor\u001b[0m \u001b[0moptim\u001b[0m \u001b[0;32min\u001b[0m \u001b[0mself\u001b[0m\u001b[0;34m.\u001b[0m\u001b[0moptim\u001b[0m\u001b[0;34m:\u001b[0m\u001b[0;34m\u001b[0m\u001b[0;34m\u001b[0m\u001b[0m\n",
      "\u001b[0;32m~/anaconda3/envs/torch/lib/python3.7/site-packages/torch_burn-0.0.3.13-py3.7.egg/torch_burn/traininer/trainer.py\u001b[0m in \u001b[0;36mforward\u001b[0;34m(self, data)\u001b[0m\n\u001b[1;32m    287\u001b[0m             \u001b[0mx\u001b[0m \u001b[0;34m=\u001b[0m \u001b[0mx\u001b[0m\u001b[0;34m.\u001b[0m\u001b[0mcuda\u001b[0m\u001b[0;34m(\u001b[0m\u001b[0;34m)\u001b[0m\u001b[0;34m\u001b[0m\u001b[0;34m\u001b[0m\u001b[0m\n\u001b[1;32m    288\u001b[0m             \u001b[0my\u001b[0m \u001b[0;34m=\u001b[0m \u001b[0my\u001b[0m\u001b[0;34m.\u001b[0m\u001b[0mcuda\u001b[0m\u001b[0;34m(\u001b[0m\u001b[0;34m)\u001b[0m\u001b[0;34m\u001b[0m\u001b[0;34m\u001b[0m\u001b[0m\n\u001b[0;32m--> 289\u001b[0;31m         \u001b[0;32mreturn\u001b[0m \u001b[0mx\u001b[0m\u001b[0;34m,\u001b[0m \u001b[0mself\u001b[0m\u001b[0;34m.\u001b[0m\u001b[0mmodel\u001b[0m\u001b[0;34m(\u001b[0m\u001b[0mx\u001b[0m\u001b[0;34m)\u001b[0m\u001b[0;34m,\u001b[0m \u001b[0my\u001b[0m\u001b[0;34m\u001b[0m\u001b[0;34m\u001b[0m\u001b[0m\n\u001b[0m\u001b[1;32m    290\u001b[0m \u001b[0;34m\u001b[0m\u001b[0m\n\u001b[1;32m    291\u001b[0m \u001b[0;34m\u001b[0m\u001b[0m\n",
      "\u001b[0;32m~/anaconda3/envs/torch/lib/python3.7/site-packages/torch/nn/modules/module.py\u001b[0m in \u001b[0;36m_call_impl\u001b[0;34m(self, *input, **kwargs)\u001b[0m\n\u001b[1;32m    725\u001b[0m             \u001b[0mresult\u001b[0m \u001b[0;34m=\u001b[0m \u001b[0mself\u001b[0m\u001b[0;34m.\u001b[0m\u001b[0m_slow_forward\u001b[0m\u001b[0;34m(\u001b[0m\u001b[0;34m*\u001b[0m\u001b[0minput\u001b[0m\u001b[0;34m,\u001b[0m \u001b[0;34m**\u001b[0m\u001b[0mkwargs\u001b[0m\u001b[0;34m)\u001b[0m\u001b[0;34m\u001b[0m\u001b[0;34m\u001b[0m\u001b[0m\n\u001b[1;32m    726\u001b[0m         \u001b[0;32melse\u001b[0m\u001b[0;34m:\u001b[0m\u001b[0;34m\u001b[0m\u001b[0;34m\u001b[0m\u001b[0m\n\u001b[0;32m--> 727\u001b[0;31m             \u001b[0mresult\u001b[0m \u001b[0;34m=\u001b[0m \u001b[0mself\u001b[0m\u001b[0;34m.\u001b[0m\u001b[0mforward\u001b[0m\u001b[0;34m(\u001b[0m\u001b[0;34m*\u001b[0m\u001b[0minput\u001b[0m\u001b[0;34m,\u001b[0m \u001b[0;34m**\u001b[0m\u001b[0mkwargs\u001b[0m\u001b[0;34m)\u001b[0m\u001b[0;34m\u001b[0m\u001b[0;34m\u001b[0m\u001b[0m\n\u001b[0m\u001b[1;32m    728\u001b[0m         for hook in itertools.chain(\n\u001b[1;32m    729\u001b[0m                 \u001b[0m_global_forward_hooks\u001b[0m\u001b[0;34m.\u001b[0m\u001b[0mvalues\u001b[0m\u001b[0;34m(\u001b[0m\u001b[0;34m)\u001b[0m\u001b[0;34m,\u001b[0m\u001b[0;34m\u001b[0m\u001b[0;34m\u001b[0m\u001b[0m\n",
      "\u001b[0;32m<ipython-input-10-04d87382c103>\u001b[0m in \u001b[0;36mforward\u001b[0;34m(self, x)\u001b[0m\n\u001b[1;32m     28\u001b[0m         \u001b[0mx\u001b[0m \u001b[0;34m=\u001b[0m \u001b[0mself\u001b[0m\u001b[0;34m.\u001b[0m\u001b[0mlayer2\u001b[0m\u001b[0;34m(\u001b[0m\u001b[0mx\u001b[0m\u001b[0;34m)\u001b[0m\u001b[0;34m\u001b[0m\u001b[0;34m\u001b[0m\u001b[0m\n\u001b[1;32m     29\u001b[0m         \u001b[0mx\u001b[0m \u001b[0;34m=\u001b[0m \u001b[0mself\u001b[0m\u001b[0;34m.\u001b[0m\u001b[0mlayer3\u001b[0m\u001b[0;34m(\u001b[0m\u001b[0mx\u001b[0m\u001b[0;34m)\u001b[0m\u001b[0;34m\u001b[0m\u001b[0;34m\u001b[0m\u001b[0m\n\u001b[0;32m---> 30\u001b[0;31m         \u001b[0mx\u001b[0m \u001b[0;34m=\u001b[0m \u001b[0mself\u001b[0m\u001b[0;34m.\u001b[0m\u001b[0mlayer4\u001b[0m\u001b[0;34m(\u001b[0m\u001b[0mx\u001b[0m\u001b[0;34m)\u001b[0m\u001b[0;34m\u001b[0m\u001b[0;34m\u001b[0m\u001b[0m\n\u001b[0m\u001b[1;32m     31\u001b[0m \u001b[0;34m\u001b[0m\u001b[0m\n\u001b[1;32m     32\u001b[0m         \u001b[0mx\u001b[0m \u001b[0;34m=\u001b[0m \u001b[0mself\u001b[0m\u001b[0;34m.\u001b[0m\u001b[0mavgpool\u001b[0m\u001b[0;34m(\u001b[0m\u001b[0mx\u001b[0m\u001b[0;34m)\u001b[0m\u001b[0;34m\u001b[0m\u001b[0;34m\u001b[0m\u001b[0m\n",
      "\u001b[0;32m~/anaconda3/envs/torch/lib/python3.7/site-packages/torch/nn/modules/module.py\u001b[0m in \u001b[0;36m_call_impl\u001b[0;34m(self, *input, **kwargs)\u001b[0m\n\u001b[1;32m    725\u001b[0m             \u001b[0mresult\u001b[0m \u001b[0;34m=\u001b[0m \u001b[0mself\u001b[0m\u001b[0;34m.\u001b[0m\u001b[0m_slow_forward\u001b[0m\u001b[0;34m(\u001b[0m\u001b[0;34m*\u001b[0m\u001b[0minput\u001b[0m\u001b[0;34m,\u001b[0m \u001b[0;34m**\u001b[0m\u001b[0mkwargs\u001b[0m\u001b[0;34m)\u001b[0m\u001b[0;34m\u001b[0m\u001b[0;34m\u001b[0m\u001b[0m\n\u001b[1;32m    726\u001b[0m         \u001b[0;32melse\u001b[0m\u001b[0;34m:\u001b[0m\u001b[0;34m\u001b[0m\u001b[0;34m\u001b[0m\u001b[0m\n\u001b[0;32m--> 727\u001b[0;31m             \u001b[0mresult\u001b[0m \u001b[0;34m=\u001b[0m \u001b[0mself\u001b[0m\u001b[0;34m.\u001b[0m\u001b[0mforward\u001b[0m\u001b[0;34m(\u001b[0m\u001b[0;34m*\u001b[0m\u001b[0minput\u001b[0m\u001b[0;34m,\u001b[0m \u001b[0;34m**\u001b[0m\u001b[0mkwargs\u001b[0m\u001b[0;34m)\u001b[0m\u001b[0;34m\u001b[0m\u001b[0;34m\u001b[0m\u001b[0m\n\u001b[0m\u001b[1;32m    728\u001b[0m         for hook in itertools.chain(\n\u001b[1;32m    729\u001b[0m                 \u001b[0m_global_forward_hooks\u001b[0m\u001b[0;34m.\u001b[0m\u001b[0mvalues\u001b[0m\u001b[0;34m(\u001b[0m\u001b[0;34m)\u001b[0m\u001b[0;34m,\u001b[0m\u001b[0;34m\u001b[0m\u001b[0;34m\u001b[0m\u001b[0m\n",
      "\u001b[0;32m~/anaconda3/envs/torch/lib/python3.7/site-packages/torch/nn/modules/container.py\u001b[0m in \u001b[0;36mforward\u001b[0;34m(self, input)\u001b[0m\n\u001b[1;32m    115\u001b[0m     \u001b[0;32mdef\u001b[0m \u001b[0mforward\u001b[0m\u001b[0;34m(\u001b[0m\u001b[0mself\u001b[0m\u001b[0;34m,\u001b[0m \u001b[0minput\u001b[0m\u001b[0;34m)\u001b[0m\u001b[0;34m:\u001b[0m\u001b[0;34m\u001b[0m\u001b[0;34m\u001b[0m\u001b[0m\n\u001b[1;32m    116\u001b[0m         \u001b[0;32mfor\u001b[0m \u001b[0mmodule\u001b[0m \u001b[0;32min\u001b[0m \u001b[0mself\u001b[0m\u001b[0;34m:\u001b[0m\u001b[0;34m\u001b[0m\u001b[0;34m\u001b[0m\u001b[0m\n\u001b[0;32m--> 117\u001b[0;31m             \u001b[0minput\u001b[0m \u001b[0;34m=\u001b[0m \u001b[0mmodule\u001b[0m\u001b[0;34m(\u001b[0m\u001b[0minput\u001b[0m\u001b[0;34m)\u001b[0m\u001b[0;34m\u001b[0m\u001b[0;34m\u001b[0m\u001b[0m\n\u001b[0m\u001b[1;32m    118\u001b[0m         \u001b[0;32mreturn\u001b[0m \u001b[0minput\u001b[0m\u001b[0;34m\u001b[0m\u001b[0;34m\u001b[0m\u001b[0m\n\u001b[1;32m    119\u001b[0m \u001b[0;34m\u001b[0m\u001b[0m\n",
      "\u001b[0;32m~/anaconda3/envs/torch/lib/python3.7/site-packages/torch/nn/modules/module.py\u001b[0m in \u001b[0;36m_call_impl\u001b[0;34m(self, *input, **kwargs)\u001b[0m\n\u001b[1;32m    725\u001b[0m             \u001b[0mresult\u001b[0m \u001b[0;34m=\u001b[0m \u001b[0mself\u001b[0m\u001b[0;34m.\u001b[0m\u001b[0m_slow_forward\u001b[0m\u001b[0;34m(\u001b[0m\u001b[0;34m*\u001b[0m\u001b[0minput\u001b[0m\u001b[0;34m,\u001b[0m \u001b[0;34m**\u001b[0m\u001b[0mkwargs\u001b[0m\u001b[0;34m)\u001b[0m\u001b[0;34m\u001b[0m\u001b[0;34m\u001b[0m\u001b[0m\n\u001b[1;32m    726\u001b[0m         \u001b[0;32melse\u001b[0m\u001b[0;34m:\u001b[0m\u001b[0;34m\u001b[0m\u001b[0;34m\u001b[0m\u001b[0m\n\u001b[0;32m--> 727\u001b[0;31m             \u001b[0mresult\u001b[0m \u001b[0;34m=\u001b[0m \u001b[0mself\u001b[0m\u001b[0;34m.\u001b[0m\u001b[0mforward\u001b[0m\u001b[0;34m(\u001b[0m\u001b[0;34m*\u001b[0m\u001b[0minput\u001b[0m\u001b[0;34m,\u001b[0m \u001b[0;34m**\u001b[0m\u001b[0mkwargs\u001b[0m\u001b[0;34m)\u001b[0m\u001b[0;34m\u001b[0m\u001b[0;34m\u001b[0m\u001b[0m\n\u001b[0m\u001b[1;32m    728\u001b[0m         for hook in itertools.chain(\n\u001b[1;32m    729\u001b[0m                 \u001b[0m_global_forward_hooks\u001b[0m\u001b[0;34m.\u001b[0m\u001b[0mvalues\u001b[0m\u001b[0;34m(\u001b[0m\u001b[0;34m)\u001b[0m\u001b[0;34m,\u001b[0m\u001b[0;34m\u001b[0m\u001b[0;34m\u001b[0m\u001b[0m\n",
      "\u001b[0;32m<ipython-input-9-c9e830011096>\u001b[0m in \u001b[0;36mforward\u001b[0;34m(self, x)\u001b[0m\n\u001b[1;32m     21\u001b[0m         \u001b[0midentity\u001b[0m \u001b[0;34m=\u001b[0m \u001b[0mx\u001b[0m\u001b[0;34m\u001b[0m\u001b[0;34m\u001b[0m\u001b[0m\n\u001b[1;32m     22\u001b[0m \u001b[0;34m\u001b[0m\u001b[0m\n\u001b[0;32m---> 23\u001b[0;31m         \u001b[0mx\u001b[0m \u001b[0;34m=\u001b[0m \u001b[0mself\u001b[0m\u001b[0;34m.\u001b[0m\u001b[0mconv1\u001b[0m\u001b[0;34m(\u001b[0m\u001b[0mx\u001b[0m\u001b[0;34m)\u001b[0m\u001b[0;34m\u001b[0m\u001b[0;34m\u001b[0m\u001b[0m\n\u001b[0m\u001b[1;32m     24\u001b[0m         \u001b[0midentity\u001b[0m \u001b[0;34m=\u001b[0m \u001b[0mself\u001b[0m\u001b[0;34m.\u001b[0m\u001b[0mconv2\u001b[0m\u001b[0;34m(\u001b[0m\u001b[0midentity\u001b[0m\u001b[0;34m)\u001b[0m\u001b[0;34m\u001b[0m\u001b[0;34m\u001b[0m\u001b[0m\n\u001b[1;32m     25\u001b[0m         \u001b[0mx\u001b[0m \u001b[0;34m+=\u001b[0m \u001b[0midentity\u001b[0m\u001b[0;34m\u001b[0m\u001b[0;34m\u001b[0m\u001b[0m\n",
      "\u001b[0;32m~/anaconda3/envs/torch/lib/python3.7/site-packages/torch/nn/modules/module.py\u001b[0m in \u001b[0;36m_call_impl\u001b[0;34m(self, *input, **kwargs)\u001b[0m\n\u001b[1;32m    725\u001b[0m             \u001b[0mresult\u001b[0m \u001b[0;34m=\u001b[0m \u001b[0mself\u001b[0m\u001b[0;34m.\u001b[0m\u001b[0m_slow_forward\u001b[0m\u001b[0;34m(\u001b[0m\u001b[0;34m*\u001b[0m\u001b[0minput\u001b[0m\u001b[0;34m,\u001b[0m \u001b[0;34m**\u001b[0m\u001b[0mkwargs\u001b[0m\u001b[0;34m)\u001b[0m\u001b[0;34m\u001b[0m\u001b[0;34m\u001b[0m\u001b[0m\n\u001b[1;32m    726\u001b[0m         \u001b[0;32melse\u001b[0m\u001b[0;34m:\u001b[0m\u001b[0;34m\u001b[0m\u001b[0;34m\u001b[0m\u001b[0m\n\u001b[0;32m--> 727\u001b[0;31m             \u001b[0mresult\u001b[0m \u001b[0;34m=\u001b[0m \u001b[0mself\u001b[0m\u001b[0;34m.\u001b[0m\u001b[0mforward\u001b[0m\u001b[0;34m(\u001b[0m\u001b[0;34m*\u001b[0m\u001b[0minput\u001b[0m\u001b[0;34m,\u001b[0m \u001b[0;34m**\u001b[0m\u001b[0mkwargs\u001b[0m\u001b[0;34m)\u001b[0m\u001b[0;34m\u001b[0m\u001b[0;34m\u001b[0m\u001b[0m\n\u001b[0m\u001b[1;32m    728\u001b[0m         for hook in itertools.chain(\n\u001b[1;32m    729\u001b[0m                 \u001b[0m_global_forward_hooks\u001b[0m\u001b[0;34m.\u001b[0m\u001b[0mvalues\u001b[0m\u001b[0;34m(\u001b[0m\u001b[0;34m)\u001b[0m\u001b[0;34m,\u001b[0m\u001b[0;34m\u001b[0m\u001b[0;34m\u001b[0m\u001b[0m\n",
      "\u001b[0;32m~/anaconda3/envs/torch/lib/python3.7/site-packages/torch/nn/modules/container.py\u001b[0m in \u001b[0;36mforward\u001b[0;34m(self, input)\u001b[0m\n\u001b[1;32m    115\u001b[0m     \u001b[0;32mdef\u001b[0m \u001b[0mforward\u001b[0m\u001b[0;34m(\u001b[0m\u001b[0mself\u001b[0m\u001b[0;34m,\u001b[0m \u001b[0minput\u001b[0m\u001b[0;34m)\u001b[0m\u001b[0;34m:\u001b[0m\u001b[0;34m\u001b[0m\u001b[0;34m\u001b[0m\u001b[0m\n\u001b[1;32m    116\u001b[0m         \u001b[0;32mfor\u001b[0m \u001b[0mmodule\u001b[0m \u001b[0;32min\u001b[0m \u001b[0mself\u001b[0m\u001b[0;34m:\u001b[0m\u001b[0;34m\u001b[0m\u001b[0;34m\u001b[0m\u001b[0m\n\u001b[0;32m--> 117\u001b[0;31m             \u001b[0minput\u001b[0m \u001b[0;34m=\u001b[0m \u001b[0mmodule\u001b[0m\u001b[0;34m(\u001b[0m\u001b[0minput\u001b[0m\u001b[0;34m)\u001b[0m\u001b[0;34m\u001b[0m\u001b[0;34m\u001b[0m\u001b[0m\n\u001b[0m\u001b[1;32m    118\u001b[0m         \u001b[0;32mreturn\u001b[0m \u001b[0minput\u001b[0m\u001b[0;34m\u001b[0m\u001b[0;34m\u001b[0m\u001b[0m\n\u001b[1;32m    119\u001b[0m \u001b[0;34m\u001b[0m\u001b[0m\n",
      "\u001b[0;32m~/anaconda3/envs/torch/lib/python3.7/site-packages/torch/nn/modules/module.py\u001b[0m in \u001b[0;36m_call_impl\u001b[0;34m(self, *input, **kwargs)\u001b[0m\n\u001b[1;32m    725\u001b[0m             \u001b[0mresult\u001b[0m \u001b[0;34m=\u001b[0m \u001b[0mself\u001b[0m\u001b[0;34m.\u001b[0m\u001b[0m_slow_forward\u001b[0m\u001b[0;34m(\u001b[0m\u001b[0;34m*\u001b[0m\u001b[0minput\u001b[0m\u001b[0;34m,\u001b[0m \u001b[0;34m**\u001b[0m\u001b[0mkwargs\u001b[0m\u001b[0;34m)\u001b[0m\u001b[0;34m\u001b[0m\u001b[0;34m\u001b[0m\u001b[0m\n\u001b[1;32m    726\u001b[0m         \u001b[0;32melse\u001b[0m\u001b[0;34m:\u001b[0m\u001b[0;34m\u001b[0m\u001b[0;34m\u001b[0m\u001b[0m\n\u001b[0;32m--> 727\u001b[0;31m             \u001b[0mresult\u001b[0m \u001b[0;34m=\u001b[0m \u001b[0mself\u001b[0m\u001b[0;34m.\u001b[0m\u001b[0mforward\u001b[0m\u001b[0;34m(\u001b[0m\u001b[0;34m*\u001b[0m\u001b[0minput\u001b[0m\u001b[0;34m,\u001b[0m \u001b[0;34m**\u001b[0m\u001b[0mkwargs\u001b[0m\u001b[0;34m)\u001b[0m\u001b[0;34m\u001b[0m\u001b[0;34m\u001b[0m\u001b[0m\n\u001b[0m\u001b[1;32m    728\u001b[0m         for hook in itertools.chain(\n\u001b[1;32m    729\u001b[0m                 \u001b[0m_global_forward_hooks\u001b[0m\u001b[0;34m.\u001b[0m\u001b[0mvalues\u001b[0m\u001b[0;34m(\u001b[0m\u001b[0;34m)\u001b[0m\u001b[0;34m,\u001b[0m\u001b[0;34m\u001b[0m\u001b[0;34m\u001b[0m\u001b[0m\n",
      "\u001b[0;32m~/anaconda3/envs/torch/lib/python3.7/site-packages/torch/nn/modules/conv.py\u001b[0m in \u001b[0;36mforward\u001b[0;34m(self, input)\u001b[0m\n\u001b[1;32m    257\u001b[0m                             _single(0), self.dilation, self.groups)\n\u001b[1;32m    258\u001b[0m         return F.conv1d(input, self.weight, self.bias, self.stride,\n\u001b[0;32m--> 259\u001b[0;31m                         self.padding, self.dilation, self.groups)\n\u001b[0m\u001b[1;32m    260\u001b[0m \u001b[0;34m\u001b[0m\u001b[0m\n\u001b[1;32m    261\u001b[0m \u001b[0;34m\u001b[0m\u001b[0m\n",
      "\u001b[0;31mKeyboardInterrupt\u001b[0m: "
     ]
    }
   ],
   "source": [
    "trainer.fit(ds, train_valid_split=0.2, num_epochs=200, batch_size=256, shuffle=True, pin_memory=True)"
   ]
  },
  {
   "cell_type": "code",
   "execution_count": null,
   "metadata": {},
   "outputs": [],
   "source": []
  }
 ],
 "metadata": {
  "kernelspec": {
   "display_name": "torch",
   "language": "python",
   "name": "torch"
  },
  "language_info": {
   "codemirror_mode": {
    "name": "ipython",
    "version": 3
   },
   "file_extension": ".py",
   "mimetype": "text/x-python",
   "name": "python",
   "nbconvert_exporter": "python",
   "pygments_lexer": "ipython3",
   "version": "3.7.9"
  }
 },
 "nbformat": 4,
 "nbformat_minor": 4
}
