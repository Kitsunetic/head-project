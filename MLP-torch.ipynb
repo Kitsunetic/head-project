{
 "cells": [
  {
   "cell_type": "code",
   "execution_count": 1,
   "metadata": {},
   "outputs": [],
   "source": [
    "import numpy as np\n",
    "import pandas as pd\n",
    "import imageio\n",
    "import h5py\n",
    "import pickle\n",
    "import math\n",
    "import time\n",
    "\n",
    "from tqdm import tqdm\n",
    "from xqdm import xqdm\n",
    "from pathlib import Path\n",
    "import matplotlib.pyplot as plt\n",
    "import re\n",
    "\n",
    "import torch\n",
    "import torch.nn as nn\n",
    "from torchsummary import summary\n",
    "from torch.utils.data import DataLoader, Dataset\n",
    "from tqdm import tqdm"
   ]
  },
  {
   "cell_type": "code",
   "execution_count": 2,
   "metadata": {},
   "outputs": [],
   "source": [
    "baseline_model = nn.Sequential(\n",
    "    nn.Linear(60, 3)\n",
    ")"
   ]
  },
  {
   "cell_type": "code",
   "execution_count": 3,
   "metadata": {},
   "outputs": [
    {
     "name": "stdout",
     "output_type": "stream",
     "text": [
      "----------------------------------------------------------------\n",
      "        Layer (type)               Output Shape         Param #\n",
      "================================================================\n",
      "            Linear-1                 [-1, 1, 3]             183\n",
      "================================================================\n",
      "Total params: 183\n",
      "Trainable params: 183\n",
      "Non-trainable params: 0\n",
      "----------------------------------------------------------------\n",
      "Input size (MB): 0.00\n",
      "Forward/backward pass size (MB): 0.00\n",
      "Params size (MB): 0.00\n",
      "Estimated Total Size (MB): 0.00\n",
      "----------------------------------------------------------------\n"
     ]
    }
   ],
   "source": [
    "summary(baseline_model, (1, 60))"
   ]
  },
  {
   "cell_type": "code",
   "execution_count": 4,
   "metadata": {},
   "outputs": [],
   "source": [
    "def radian2degree(radian):\n",
    "    return radian * 180 / math.pi"
   ]
  },
  {
   "cell_type": "code",
   "execution_count": 5,
   "metadata": {},
   "outputs": [],
   "source": [
    "class BaselineDataset(Dataset):\n",
    "    def __init__(self, X, Y=None):\n",
    "        self.X = X\n",
    "        self.Y = Y\n",
    "    \n",
    "    def __len__(self):\n",
    "        return self.X.shape[0]\n",
    "    \n",
    "    def __getitem__(self, idx):\n",
    "        x = torch.tensor(self.X[idx], dtype=torch.float32)\n",
    "        if self.Y is not None:\n",
    "            y = torch.tensor(self.Y[idx], dtype=torch.float32)\n",
    "            return x, y\n",
    "        else:\n",
    "            return x"
   ]
  },
  {
   "cell_type": "code",
   "execution_count": 6,
   "metadata": {},
   "outputs": [],
   "source": [
    "num_epochs = 20\n",
    "batch_size = 64\n",
    "lr = 1e-3\n",
    "device = torch.device('cuda' if torch.cuda.is_available() else 'cpu')"
   ]
  },
  {
   "cell_type": "code",
   "execution_count": 7,
   "metadata": {},
   "outputs": [],
   "source": [
    "criterion = nn.MSELoss().to(device)\n",
    "optimizer = torch.optim.SGD(baseline_model.parameters(), lr=lr)\n",
    "model = baseline_model.to(device)"
   ]
  },
  {
   "cell_type": "code",
   "execution_count": 8,
   "metadata": {},
   "outputs": [],
   "source": [
    "with h5py.File('data/head/head-dataset-3166.hdf5', 'r') as f:\n",
    "    X_train = f['X_train'][()]\n",
    "    X_valid = f['X_valid'][()]\n",
    "    Y_train = f['Y_train'][()]\n",
    "    Y_valid = f['Y_valid'][()]"
   ]
  },
  {
   "cell_type": "code",
   "execution_count": 9,
   "metadata": {},
   "outputs": [],
   "source": [
    "train_ds = BaselineDataset(X_train, Y_train)\n",
    "valid_ds = BaselineDataset(X_valid, Y_valid)\n",
    "train_dl = DataLoader(train_ds, batch_size=batch_size, shuffle=False)\n",
    "valid_dl = DataLoader(valid_ds, batch_size=batch_size, shuffle=False)"
   ]
  },
  {
   "cell_type": "code",
   "execution_count": 10,
   "metadata": {},
   "outputs": [
    {
     "name": "stderr",
     "output_type": "stream",
     "text": [
      "[001/020] Train: 100%|████████████████████████████| 2746/2746 [00:02<00:00, 990.17it/s, loss 0.0283]\n",
      "[001/020] Validation: 100%|██████████████████| 2746/2746 [00:02<00:00, 1137.69it/s, val_loss 0.0252]\n"
     ]
    },
    {
     "name": "stdout",
     "output_type": "stream",
     "text": [
      "Train[001/020]\tloss 0.0283\tyaw 9.5564\tpitch 2.5814\troll 3.4181\trms: 2.2771\n",
      "Valid[001/020]\tval_loss 0.0252\tyaw 9.0090\tpitch 2.4168\troll 6.8599\trms: 2.4689\n"
     ]
    },
    {
     "name": "stderr",
     "output_type": "stream",
     "text": [
      "[002/020] Train: 100%|████████████████████████████| 2746/2746 [00:02<00:00, 963.33it/s, loss 0.0089]\n",
      "[002/020] Validation: 100%|██████████████████| 2746/2746 [00:02<00:00, 1147.83it/s, val_loss 0.0134]\n"
     ]
    },
    {
     "name": "stdout",
     "output_type": "stream",
     "text": [
      "Train[002/020]\tloss 0.0089\tyaw 5.0863\tpitch 2.0380\troll 2.1900\trms: 1.7620\n",
      "Valid[002/020]\tval_loss 0.0134\tyaw 5.1836\tpitch 2.2107\troll 5.4833\trms: 2.0718\n"
     ]
    },
    {
     "name": "stderr",
     "output_type": "stream",
     "text": [
      "[003/020] Train: 100%|████████████████████████████| 2746/2746 [00:02<00:00, 972.95it/s, loss 0.0056]\n",
      "[003/020] Validation: 100%|██████████████████| 2746/2746 [00:02<00:00, 1154.16it/s, val_loss 0.0095]\n"
     ]
    },
    {
     "name": "stdout",
     "output_type": "stream",
     "text": [
      "Train[003/020]\tloss 0.0056\tyaw 3.6495\tpitch 1.8806\troll 1.8448\trms: 1.5679\n",
      "Valid[003/020]\tval_loss 0.0095\tyaw 3.7873\tpitch 2.0760\troll 4.7268\trms: 1.8788\n"
     ]
    },
    {
     "name": "stderr",
     "output_type": "stream",
     "text": [
      "[004/020] Train: 100%|████████████████████████████| 2746/2746 [00:02<00:00, 956.35it/s, loss 0.0046]\n",
      "[004/020] Validation: 100%|██████████████████| 2746/2746 [00:02<00:00, 1189.09it/s, val_loss 0.0075]\n"
     ]
    },
    {
     "name": "stdout",
     "output_type": "stream",
     "text": [
      "Train[004/020]\tloss 0.0046\tyaw 3.1256\tpitch 1.7650\troll 1.6884\trms: 1.4809\n",
      "Valid[004/020]\tval_loss 0.0075\tyaw 3.2917\tpitch 1.9801\troll 4.2071\trms: 1.7775\n"
     ]
    },
    {
     "name": "stderr",
     "output_type": "stream",
     "text": [
      "[005/020] Train: 100%|████████████████████████████| 2746/2746 [00:02<00:00, 947.11it/s, loss 0.0040]\n",
      "[005/020] Validation: 100%|██████████████████| 2746/2746 [00:02<00:00, 1190.06it/s, val_loss 0.0062]\n"
     ]
    },
    {
     "name": "stdout",
     "output_type": "stream",
     "text": [
      "Train[005/020]\tloss 0.0040\tyaw 2.9130\tpitch 1.6766\troll 1.5975\trms: 1.4361\n",
      "Valid[005/020]\tval_loss 0.0062\tyaw 3.0835\tpitch 1.9080\troll 3.7977\trms: 1.7116\n"
     ]
    },
    {
     "name": "stderr",
     "output_type": "stream",
     "text": [
      "[006/020] Train: 100%|████████████████████████████| 2746/2746 [00:02<00:00, 952.31it/s, loss 0.0037]\n",
      "[006/020] Validation: 100%|██████████████████| 2746/2746 [00:02<00:00, 1166.90it/s, val_loss 0.0054]\n"
     ]
    },
    {
     "name": "stdout",
     "output_type": "stream",
     "text": [
      "Train[006/020]\tloss 0.0037\tyaw 2.7883\tpitch 1.6078\troll 1.5330\trms: 1.4058\n",
      "Valid[006/020]\tval_loss 0.0054\tyaw 2.9704\tpitch 1.8524\troll 3.4560\trms: 1.6612\n"
     ]
    },
    {
     "name": "stderr",
     "output_type": "stream",
     "text": [
      "[007/020] Train: 100%|████████████████████████████| 2746/2746 [00:02<00:00, 962.45it/s, loss 0.0034]\n",
      "[007/020] Validation: 100%|██████████████████| 2746/2746 [00:02<00:00, 1108.24it/s, val_loss 0.0047]\n"
     ]
    },
    {
     "name": "stdout",
     "output_type": "stream",
     "text": [
      "Train[007/020]\tloss 0.0034\tyaw 2.6951\tpitch 1.5536\troll 1.4822\trms: 1.3821\n",
      "Valid[007/020]\tval_loss 0.0047\tyaw 2.8976\tpitch 1.8085\troll 3.1648\trms: 1.6198\n"
     ]
    },
    {
     "name": "stderr",
     "output_type": "stream",
     "text": [
      "[008/020] Train: 100%|████████████████████████████| 2746/2746 [00:02<00:00, 969.41it/s, loss 0.0032]\n",
      "[008/020] Validation: 100%|██████████████████| 2746/2746 [00:02<00:00, 1164.22it/s, val_loss 0.0042]\n"
     ]
    },
    {
     "name": "stdout",
     "output_type": "stream",
     "text": [
      "Train[008/020]\tloss 0.0032\tyaw 2.6197\tpitch 1.5105\troll 1.4401\trms: 1.3626\n",
      "Valid[008/020]\tval_loss 0.0042\tyaw 2.8465\tpitch 1.7734\troll 2.9149\trms: 1.5848\n"
     ]
    },
    {
     "name": "stderr",
     "output_type": "stream",
     "text": [
      "[009/020] Train: 100%|████████████████████████████| 2746/2746 [00:02<00:00, 954.75it/s, loss 0.0031]\n",
      "[009/020] Validation: 100%|██████████████████| 2746/2746 [00:02<00:00, 1173.85it/s, val_loss 0.0038]\n"
     ]
    },
    {
     "name": "stdout",
     "output_type": "stream",
     "text": [
      "Train[009/020]\tloss 0.0031\tyaw 2.5567\tpitch 1.4756\troll 1.4042\trms: 1.3462\n",
      "Valid[009/020]\tval_loss 0.0038\tyaw 2.8087\tpitch 1.7450\troll 2.6991\trms: 1.5549\n"
     ]
    },
    {
     "name": "stderr",
     "output_type": "stream",
     "text": [
      "[010/020] Train: 100%|████████████████████████████| 2746/2746 [00:02<00:00, 973.64it/s, loss 0.0030]\n",
      "[010/020] Validation: 100%|██████████████████| 2746/2746 [00:02<00:00, 1170.37it/s, val_loss 0.0036]\n"
     ]
    },
    {
     "name": "stdout",
     "output_type": "stream",
     "text": [
      "Train[010/020]\tloss 0.0030\tyaw 2.5034\tpitch 1.4468\troll 1.3730\trms: 1.3321\n",
      "Valid[010/020]\tval_loss 0.0036\tyaw 2.7789\tpitch 1.7216\troll 2.5125\trms: 1.5289\n"
     ]
    },
    {
     "name": "stderr",
     "output_type": "stream",
     "text": [
      "[011/020] Train: 100%|████████████████████████████| 2746/2746 [00:02<00:00, 960.10it/s, loss 0.0029]\n",
      "[011/020] Validation: 100%|██████████████████| 2746/2746 [00:02<00:00, 1166.94it/s, val_loss 0.0033]\n"
     ]
    },
    {
     "name": "stdout",
     "output_type": "stream",
     "text": [
      "Train[011/020]\tloss 0.0029\tyaw 2.4575\tpitch 1.4224\troll 1.3453\trms: 1.3198\n",
      "Valid[011/020]\tval_loss 0.0033\tyaw 2.7541\tpitch 1.7021\troll 2.3510\trms: 1.5063\n"
     ]
    },
    {
     "name": "stderr",
     "output_type": "stream",
     "text": [
      "[012/020] Train: 100%|████████████████████████████| 2746/2746 [00:02<00:00, 993.37it/s, loss 0.0028]\n",
      "[012/020] Validation: 100%|██████████████████| 2746/2746 [00:02<00:00, 1193.04it/s, val_loss 0.0031]\n"
     ]
    },
    {
     "name": "stdout",
     "output_type": "stream",
     "text": [
      "Train[012/020]\tloss 0.0028\tyaw 2.4176\tpitch 1.4017\troll 1.3205\trms: 1.3089\n",
      "Valid[012/020]\tval_loss 0.0031\tyaw 2.7328\tpitch 1.6855\troll 2.2120\trms: 1.4866\n"
     ]
    },
    {
     "name": "stderr",
     "output_type": "stream",
     "text": [
      "[013/020] Train: 100%|████████████████████████████| 2746/2746 [00:02<00:00, 980.59it/s, loss 0.0027]\n",
      "[013/020] Validation: 100%|██████████████████| 2746/2746 [00:02<00:00, 1136.25it/s, val_loss 0.0030]\n"
     ]
    },
    {
     "name": "stdout",
     "output_type": "stream",
     "text": [
      "Train[013/020]\tloss 0.0027\tyaw 2.3827\tpitch 1.3837\troll 1.2980\trms: 1.2993\n",
      "Valid[013/020]\tval_loss 0.0030\tyaw 2.7137\tpitch 1.6712\troll 2.0931\trms: 1.4695\n"
     ]
    },
    {
     "name": "stderr",
     "output_type": "stream",
     "text": [
      "[014/020] Train: 100%|████████████████████████████| 2746/2746 [00:02<00:00, 975.21it/s, loss 0.0026]\n",
      "[014/020] Validation: 100%|██████████████████| 2746/2746 [00:02<00:00, 1166.72it/s, val_loss 0.0029]\n"
     ]
    },
    {
     "name": "stdout",
     "output_type": "stream",
     "text": [
      "Train[014/020]\tloss 0.0026\tyaw 2.3519\tpitch 1.3678\troll 1.2774\trms: 1.2906\n",
      "Valid[014/020]\tval_loss 0.0029\tyaw 2.6964\tpitch 1.6588\troll 1.9919\trms: 1.4545\n"
     ]
    },
    {
     "name": "stderr",
     "output_type": "stream",
     "text": [
      "[015/020] Train: 100%|████████████████████████████| 2746/2746 [00:02<00:00, 938.68it/s, loss 0.0026]\n",
      "[015/020] Validation: 100%|██████████████████| 2746/2746 [00:02<00:00, 1132.03it/s, val_loss 0.0028]\n"
     ]
    },
    {
     "name": "stdout",
     "output_type": "stream",
     "text": [
      "Train[015/020]\tloss 0.0026\tyaw 2.3245\tpitch 1.3536\troll 1.2585\trms: 1.2828\n",
      "Valid[015/020]\tval_loss 0.0028\tyaw 2.6806\tpitch 1.6478\troll 1.9063\trms: 1.4416\n"
     ]
    },
    {
     "name": "stderr",
     "output_type": "stream",
     "text": [
      "[016/020] Train: 100%|████████████████████████████| 2746/2746 [00:02<00:00, 973.39it/s, loss 0.0025]\n",
      "[016/020] Validation: 100%|██████████████████| 2746/2746 [00:02<00:00, 1152.10it/s, val_loss 0.0027]\n"
     ]
    },
    {
     "name": "stdout",
     "output_type": "stream",
     "text": [
      "Train[016/020]\tloss 0.0025\tyaw 2.3000\tpitch 1.3407\troll 1.2410\trms: 1.2756\n",
      "Valid[016/020]\tval_loss 0.0027\tyaw 2.6659\tpitch 1.6381\troll 1.8340\trms: 1.4304\n"
     ]
    },
    {
     "name": "stderr",
     "output_type": "stream",
     "text": [
      "[017/020] Train: 100%|████████████████████████████| 2746/2746 [00:02<00:00, 948.23it/s, loss 0.0025]\n",
      "[017/020] Validation: 100%|██████████████████| 2746/2746 [00:02<00:00, 1148.63it/s, val_loss 0.0027]\n"
     ]
    },
    {
     "name": "stdout",
     "output_type": "stream",
     "text": [
      "Train[017/020]\tloss 0.0025\tyaw 2.2778\tpitch 1.3289\troll 1.2246\trms: 1.2690\n",
      "Valid[017/020]\tval_loss 0.0027\tyaw 2.6521\tpitch 1.6292\troll 1.7730\trms: 1.4206\n"
     ]
    },
    {
     "name": "stderr",
     "output_type": "stream",
     "text": [
      "[018/020] Train: 100%|████████████████████████████| 2746/2746 [00:02<00:00, 965.80it/s, loss 0.0025]\n",
      "[018/020] Validation: 100%|██████████████████| 2746/2746 [00:02<00:00, 1159.67it/s, val_loss 0.0026]\n"
     ]
    },
    {
     "name": "stdout",
     "output_type": "stream",
     "text": [
      "Train[018/020]\tloss 0.0025\tyaw 2.2577\tpitch 1.3180\troll 1.2093\trms: 1.2629\n",
      "Valid[018/020]\tval_loss 0.0026\tyaw 2.6391\tpitch 1.6211\troll 1.7216\trms: 1.4121\n"
     ]
    },
    {
     "name": "stderr",
     "output_type": "stream",
     "text": [
      "[019/020] Train: 100%|████████████████████████████| 2746/2746 [00:02<00:00, 965.67it/s, loss 0.0024]\n",
      "[019/020] Validation: 100%|██████████████████| 2746/2746 [00:02<00:00, 1158.21it/s, val_loss 0.0025]\n"
     ]
    },
    {
     "name": "stdout",
     "output_type": "stream",
     "text": [
      "Train[019/020]\tloss 0.0024\tyaw 2.2394\tpitch 1.3079\troll 1.1949\trms: 1.2573\n",
      "Valid[019/020]\tval_loss 0.0025\tyaw 2.6267\tpitch 1.6136\troll 1.6781\trms: 1.4046\n"
     ]
    },
    {
     "name": "stderr",
     "output_type": "stream",
     "text": [
      "[020/020] Train: 100%|████████████████████████████| 2746/2746 [00:02<00:00, 967.71it/s, loss 0.0024]\n",
      "[020/020] Validation: 100%|██████████████████| 2746/2746 [00:02<00:00, 1134.74it/s, val_loss 0.0025]\n"
     ]
    },
    {
     "name": "stdout",
     "output_type": "stream",
     "text": [
      "Train[020/020]\tloss 0.0024\tyaw 2.2225\tpitch 1.2985\troll 1.1812\trms: 1.2520\n",
      "Valid[020/020]\tval_loss 0.0025\tyaw 2.6149\tpitch 1.6066\troll 1.6414\trms: 1.3980\n"
     ]
    }
   ],
   "source": [
    "total_train_losses = []\n",
    "total_val_losses = []\n",
    "total_train_yaw = []\n",
    "total_valid_yaw = []\n",
    "total_train_pitch = []\n",
    "total_valid_pitch = []\n",
    "total_train_roll = []\n",
    "total_valid_roll = []\n",
    "total_train_rms = []\n",
    "total_valid_rms = []\n",
    "for epoch in range(1, num_epochs + 1):\n",
    "    # train\n",
    "    losses = []\n",
    "    train_diff = []\n",
    "    model.train()\n",
    "    with tqdm(total=len(train_dl), desc=f'[{epoch:03d}/{num_epochs:03d}] Train', ncols=100) as t:\n",
    "        for x, y in train_dl:\n",
    "            x, y = x.to(device), y.to(device)\n",
    "            output = model(x)\n",
    "            loss = criterion(output, y)\n",
    "            \n",
    "            optimizer.zero_grad()\n",
    "            loss.backward()\n",
    "            optimizer.step()\n",
    "            losses.append(loss.item())\n",
    "            train_mean_loss = sum(losses) / len(losses)\n",
    "            train_diff.append((y - output).detach())\n",
    "            t.set_postfix_str(f'loss {train_mean_loss:.4f}', refresh=False)\n",
    "            t.update()\n",
    "    total_train_losses.extend(losses)\n",
    "            \n",
    "    # valid\n",
    "    with torch.no_grad():\n",
    "        losses = []\n",
    "        valid_diff = []\n",
    "        model.eval()\n",
    "        with tqdm(total=len(valid_dl), desc=f'[{epoch:03d}/{num_epochs:03d}] Validation', ncols=100) as t:\n",
    "            for x, y in valid_dl:\n",
    "                x, y = x.to(device), y.to(device)\n",
    "                output = model(x)\n",
    "                loss = criterion(output, y)\n",
    "                losses.append(loss.item())\n",
    "                valid_mean_loss = sum(losses) / len(losses)\n",
    "                valid_diff.append(y - output)\n",
    "                t.set_postfix_str(f'val_loss {valid_mean_loss:.4f}', refresh=False)\n",
    "                t.update()\n",
    "        total_val_losses.extend(losses)\n",
    "        \n",
    "        # calculate MAE / RMS\n",
    "        mae = torch.mean(torch.abs(torch.cat(train_diff)), dim=0)\n",
    "        mae = radian2degree(mae)\n",
    "        rms = torch.sqrt(torch.sum(mae) / 3)\n",
    "        total_train_yaw.append(mae[0].item())\n",
    "        total_train_pitch.append(mae[1].item())\n",
    "        total_train_roll.append(mae[2].item())\n",
    "        total_train_rms.append(rms.item())\n",
    "        print(f'Train[{epoch:03d}/{num_epochs:03d}]\\t' + \\\n",
    "              f'loss {train_mean_loss:.4f}\\t' + \\\n",
    "              f'yaw {mae[0].item():.4f}\\t' + \\\n",
    "              f'pitch {mae[1].item():.4f}\\t' + \\\n",
    "              f'roll {mae[2].item():.4f}\\t' + \\\n",
    "              f'rms: {rms.item():.4f}')\n",
    "        \n",
    "        mae = torch.mean(torch.abs(torch.cat(valid_diff)), dim=0)\n",
    "        mae = radian2degree(mae)\n",
    "        rms = torch.sqrt(torch.sum(mae) / 3)\n",
    "        total_valid_yaw.append(mae[0].item())\n",
    "        total_valid_pitch.append(mae[1].item())\n",
    "        total_valid_roll.append(mae[2].item())\n",
    "        total_valid_rms.append(rms.item())\n",
    "        print(f'Valid[{epoch:03d}/{num_epochs:03d}]\\t' + \\\n",
    "              f'val_loss {valid_mean_loss:.4f}\\t' + \\\n",
    "              f'yaw {mae[0].item():.4f}\\t' + \\\n",
    "              f'pitch {mae[1].item():.4f}\\t' + \\\n",
    "              f'roll {mae[2].item():.4f}\\t' + \\\n",
    "              f'rms: {rms.item():.4f}')\n",
    "        time.sleep(0.2)"
   ]
  },
  {
   "cell_type": "code",
   "execution_count": 11,
   "metadata": {},
   "outputs": [
    {
     "data": {
      "image/png": "[encoded data removed]",
      "text/plain": [
       "<Figure size 864x432 with 10 Axes>"
      ]
     },
     "metadata": {
      "needs_background": "light"
     },
     "output_type": "display_data"
    }
   ],
   "source": [
    "R, C = 3, 4\n",
    "plt.figure(figsize=(12, 6))\n",
    "\n",
    "plt.subplot(R, C, 1)\n",
    "plt.plot(total_train_losses)\n",
    "plt.title('train loss')\n",
    "plt.xlabel('iteration')\n",
    "plt.subplot(R, C, 2)\n",
    "plt.plot(total_val_losses)\n",
    "plt.title('validation loss')\n",
    "plt.xlabel('iteration')\n",
    "\n",
    "plt.subplot(R, C, 5)\n",
    "plt.plot(total_train_rms)\n",
    "plt.title('train rms')\n",
    "plt.ylabel('degree')\n",
    "plt.xlabel('iteration')\n",
    "plt.subplot(R, C, 6)\n",
    "plt.plot(total_train_rms)\n",
    "plt.title('validation rms')\n",
    "plt.ylabel('degree')\n",
    "plt.xlabel('iteration')\n",
    "\n",
    "plt.subplot(R, C, 7)\n",
    "plt.plot(total_train_yaw)\n",
    "plt.title('train yaw')\n",
    "plt.ylabel('degree')\n",
    "plt.xlabel('iteration')\n",
    "plt.subplot(R, C, 8)\n",
    "plt.plot(total_train_yaw)\n",
    "plt.title('validation yaw')\n",
    "plt.ylabel('degree')\n",
    "plt.xlabel('iteration')\n",
    "\n",
    "plt.subplot(R, C, 9)\n",
    "plt.plot(total_train_pitch)\n",
    "plt.title('train pitch')\n",
    "plt.ylabel('degree')\n",
    "plt.xlabel('iteration')\n",
    "plt.subplot(R, C, 10)\n",
    "plt.plot(total_train_pitch)\n",
    "plt.title('validation pitch')\n",
    "plt.ylabel('degree')\n",
    "plt.xlabel('iteration')\n",
    "\n",
    "plt.subplot(R, C, 11)\n",
    "plt.plot(total_train_roll)\n",
    "plt.title('train roll')\n",
    "plt.ylabel('degree')\n",
    "plt.xlabel('iteration')\n",
    "plt.subplot(R, C, 12)\n",
    "plt.plot(total_train_roll)\n",
    "plt.title('validation roll')\n",
    "plt.ylabel('degree')\n",
    "plt.xlabel('iteration')\n",
    "\n",
    "plt.tight_layout()\n",
    "plt.show()"
   ]
  },
  {
   "cell_type": "code",
   "execution_count": null,
   "metadata": {},
   "outputs": [],
   "source": []
  }
 ],
 "metadata": {
  "kernelspec": {
   "display_name": "torch",
   "language": "python",
   "name": "torch"
  },
  "language_info": {
   "codemirror_mode": {
    "name": "ipython",
    "version": 3
   },
   "file_extension": ".py",
   "mimetype": "text/x-python",
   "name": "python",
   "nbconvert_exporter": "python",
   "pygments_lexer": "ipython3",
   "version": "3.7.7"
  }
 },
 "nbformat": 4,
 "nbformat_minor": 4
}
