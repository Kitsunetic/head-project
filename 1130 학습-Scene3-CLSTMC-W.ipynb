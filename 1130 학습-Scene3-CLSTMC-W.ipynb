{
 "cells": [
  {
   "cell_type": "markdown",
   "metadata": {},
   "source": [
    "# 학습 결과\n",
    "\n",
    "user1의 scene 1~3만 사용해서 학습\n",
    "\n",
    "scene보다 user가 많기 때문에 데이터의 양이 확연히 줄어듬에도 불구하고 성능이 괜찮음.  \n",
    "적은 데이터 특화됐기 때문인지는 모르겠다.\n",
    "\n",
    "나머지 scene에 대해서도 잘 학습을 하면서 user에 대해서도 특화된다면 성능을 상당히 끌어올릴 수 있을 것으로 기대됨.  \n",
    "--> curriculum learning"
   ]
  },
  {
   "cell_type": "code",
   "execution_count": 6,
   "metadata": {},
   "outputs": [],
   "source": [
    "from multiprocessing import cpu_count\n",
    "from pathlib import Path\n",
    "from typing import List, Union, AnyStr\n",
    "from math import pi\n",
    "import pickle\n",
    "\n",
    "import numpy as np\n",
    "import torch\n",
    "import matplotlib.pyplot as plt\n",
    "import torch.nn as nn\n",
    "from sklearn import model_selection\n",
    "from tqdm import tqdm\n",
    "import torch_optimizer\n",
    "from torch.utils.data import Dataset\n",
    "import pandas as pd\n",
    "import random\n",
    "\n",
    "import torch_burn as tb\n",
    "import utils"
   ]
  },
  {
   "cell_type": "code",
   "execution_count": 7,
   "metadata": {},
   "outputs": [],
   "source": [
    "tb.seed_everything(0)"
   ]
  },
  {
   "cell_type": "code",
   "execution_count": 8,
   "metadata": {},
   "outputs": [],
   "source": [
    "EXPERIMENT_NAME = '1130-Scene3-CLSTMC-win120'\n",
    "CHECKPOINT_DIR = Path('checkpoint', EXPERIMENT_NAME)\n",
    "CHECKPOINT_DIR.mkdir(parents=True, exist_ok=True)\n",
    "\n",
    "DATA_DIR = Path('data/1116')\n",
    "TRAIN_FILES = sorted(list(DATA_DIR.glob('*scene3_0.csv')))\n",
    "TEST_FILES = sorted(list(DATA_DIR.glob('*scene3_1.csv')))"
   ]
  },
  {
   "cell_type": "markdown",
   "metadata": {},
   "source": [
    "# 데이터셋 생성\n",
    "\n",
    "scene1에 대해서 모든 user의 데이터를 하나로 합친다."
   ]
  },
  {
   "cell_type": "code",
   "execution_count": 9,
   "metadata": {},
   "outputs": [],
   "source": [
    "WINDOW_SIZE = 120"
   ]
  },
  {
   "cell_type": "code",
   "execution_count": 10,
   "metadata": {},
   "outputs": [],
   "source": [
    "class CSVSequentialDataset(Dataset):\n",
    "    def __init__(self, csvfile, window_size, stride):\n",
    "        super(CSVSequentialDataset, self).__init__()\n",
    "\n",
    "        self.xcols = ['input_orientation_yaw', 'input_orientation_pitch', 'input_orientation_roll',\n",
    "                      'acceleration_x', 'acceleration_y', 'acceleration_z']\n",
    "        self.ycols = ['input_orientation_yaw', 'input_orientation_pitch', 'input_orientation_roll']\n",
    "\n",
    "        self.csv = pd.read_csv(csvfile)\n",
    "        self.window_size = window_size\n",
    "        \n",
    "        self.indexes = []\n",
    "        i = 0\n",
    "        while i <= len(self.csv) - window_size * 2:\n",
    "            self.indexes.append((i, i + window_size))\n",
    "            i += stride\n",
    "\n",
    "    def __len__(self):\n",
    "        return len(self.indexes)\n",
    "\n",
    "    def __getitem__(self, idx):\n",
    "        sx, tx = self.indexes[idx]\n",
    "        sy, ty = sx + WINDOW_SIZE, tx + WINDOW_SIZE\n",
    "        x = self.csv.iloc[sx:tx][self.xcols].to_numpy()\n",
    "        y = self.csv.iloc[sy:ty][self.ycols].to_numpy()\n",
    "\n",
    "        x = torch.tensor(x, dtype=torch.float32) # 300, 6\n",
    "        y = torch.tensor(y, dtype=torch.float32) # 300, 3\n",
    "\n",
    "        return x, y"
   ]
  },
  {
   "cell_type": "code",
   "execution_count": 11,
   "metadata": {},
   "outputs": [],
   "source": [
    "ds_train = [CSVSequentialDataset(f, window_size=WINDOW_SIZE, stride=5) for f in TRAIN_FILES]\n",
    "ds_train = tb.data.ChainDataset(*ds_train)\n",
    "ds_test = [CSVSequentialDataset(f, window_size=WINDOW_SIZE, stride=5) for f in TEST_FILES]\n",
    "ds_test = tb.data.ChainDataset(*ds_test)"
   ]
  },
  {
   "cell_type": "code",
   "execution_count": 12,
   "metadata": {},
   "outputs": [
    {
     "data": {
      "text/plain": [
       "(11071, 10671)"
      ]
     },
     "execution_count": 12,
     "metadata": {},
     "output_type": "execute_result"
    }
   ],
   "source": [
    "len(ds_train), len(ds_test)"
   ]
  },
  {
   "cell_type": "code",
   "execution_count": 13,
   "metadata": {},
   "outputs": [
    {
     "data": {
      "text/plain": [
       "(torch.Size([120, 6]), torch.Size([120, 3]))"
      ]
     },
     "execution_count": 13,
     "metadata": {},
     "output_type": "execute_result"
    }
   ],
   "source": [
    "ds_train[0][0].shape, ds_train[0][1].shape"
   ]
  },
  {
   "cell_type": "code",
   "execution_count": 14,
   "metadata": {},
   "outputs": [],
   "source": [
    "x, y = ds_train[0]"
   ]
  },
  {
   "cell_type": "code",
   "execution_count": 15,
   "metadata": {},
   "outputs": [
    {
     "data": {
      "text/plain": [
       "(torch.Size([120, 6]), torch.Size([120, 3]))"
      ]
     },
     "execution_count": 15,
     "metadata": {},
     "output_type": "execute_result"
    }
   ],
   "source": [
    "x.shape, y.shape"
   ]
  },
  {
   "cell_type": "code",
   "execution_count": 16,
   "metadata": {},
   "outputs": [
    {
     "data": {
      "text/plain": [
       "[<matplotlib.lines.Line2D at 0x7ffa75c07d90>]"
      ]
     },
     "execution_count": 16,
     "metadata": {},
     "output_type": "execute_result"
    },
    {
     "data": {
      "image/png": "[encoded data removed]",
      "text/plain": [
       "<Figure size 432x288 with 1 Axes>"
      ]
     },
     "metadata": {
      "needs_background": "light"
     },
     "output_type": "display_data"
    }
   ],
   "source": [
    "plt.plot(x[:, 2])"
   ]
  },
  {
   "cell_type": "code",
   "execution_count": 17,
   "metadata": {},
   "outputs": [
    {
     "data": {
      "text/plain": [
       "[<matplotlib.lines.Line2D at 0x7ffa750c6bd0>]"
      ]
     },
     "execution_count": 17,
     "metadata": {},
     "output_type": "execute_result"
    },
    {
     "data": {
      "image/png": "[encoded data removed]",
      "text/plain": [
       "<Figure size 432x288 with 1 Axes>"
      ]
     },
     "metadata": {
      "needs_background": "light"
     },
     "output_type": "display_data"
    }
   ],
   "source": [
    "plt.plot(y[:, 2])"
   ]
  },
  {
   "cell_type": "markdown",
   "metadata": {},
   "source": [
    "# 모델 생성"
   ]
  },
  {
   "cell_type": "code",
   "execution_count": 18,
   "metadata": {},
   "outputs": [],
   "source": [
    "class ResBlock1d(nn.Module):\n",
    "    def __init__(self, inchannels, channels, kernel_size):\n",
    "        super(ResBlock1d, self).__init__()\n",
    "\n",
    "        self.conv1 = nn.Sequential(\n",
    "            nn.Conv1d(inchannels, channels, kernel_size, padding=kernel_size // 2),\n",
    "            nn.BatchNorm1d(channels),\n",
    "            nn.LeakyReLU(),\n",
    "            nn.Conv1d(channels, channels, kernel_size, padding=kernel_size // 2),\n",
    "            nn.BatchNorm1d(channels)\n",
    "        )\n",
    "        self.conv2 = nn.Sequential(\n",
    "            nn.Conv1d(inchannels, channels, 1),\n",
    "            nn.BatchNorm1d(channels)\n",
    "        )\n",
    "        self.act = nn.LeakyReLU()\n",
    "\n",
    "    def forward(self, x):\n",
    "        identity = x\n",
    "\n",
    "        x = self.conv1(x)\n",
    "        identity = self.conv2(identity)\n",
    "        x += identity\n",
    "        x = self.act(x)\n",
    "\n",
    "        return x"
   ]
  },
  {
   "cell_type": "code",
   "execution_count": 19,
   "metadata": {},
   "outputs": [],
   "source": [
    "class CLSTMC(nn.Module):\n",
    "    def __init__(self):\n",
    "        super(CLSTMC, self).__init__()\n",
    "\n",
    "        self.conv_in = nn.Sequential(\n",
    "            nn.Conv1d(6, 24, 3, padding=1, groups=2),\n",
    "            nn.BatchNorm1d(24),\n",
    "            nn.LeakyReLU(),\n",
    "            nn.Conv1d(24, 48, 3, padding=1, groups=2),\n",
    "            nn.BatchNorm1d(48),\n",
    "            nn.LeakyReLU(),\n",
    "            nn.Conv1d(48, 64, 3, padding=1),\n",
    "            nn.BatchNorm1d(64),\n",
    "        )\n",
    "\n",
    "        self.rnn = nn.LSTM(input_size=64,\n",
    "                           hidden_size=64,\n",
    "                           num_layers=6,\n",
    "                           batch_first=True,\n",
    "                           dropout=0,\n",
    "                           bidirectional=True)\n",
    "\n",
    "        self.conv_out = nn.Sequential(\n",
    "            ResBlock1d(128, 64, 3),\n",
    "            nn.Conv1d(64, 3, 1)\n",
    "        )\n",
    "\n",
    "    def forward(self, x):\n",
    "        x = x.transpose(1, 2)  # B, S, 6 --> B, 6, S\n",
    "        x = self.conv_in(x)  # B, 6, S\n",
    "        x = x.transpose(1, 2)  # B, S, 6\n",
    "\n",
    "        outs, (hiddens, cells) = self.rnn(x)  # B, S, 128\n",
    "        x = outs.transpose(1, 2)  # B, 128, S\n",
    "        x = self.conv_out(x) # (B, 3, S)\n",
    "        x = x.transpose(1, 2) # (B, S, 3)\n",
    "\n",
    "        return x"
   ]
  },
  {
   "cell_type": "code",
   "execution_count": 20,
   "metadata": {},
   "outputs": [],
   "source": [
    "model = CLSTMC().cuda()"
   ]
  },
  {
   "cell_type": "code",
   "execution_count": 21,
   "metadata": {},
   "outputs": [],
   "source": [
    "criterion = nn.MSELoss().cuda()\n",
    "optimizer = torch_optimizer.RAdam(model.parameters())"
   ]
  },
  {
   "cell_type": "code",
   "execution_count": 22,
   "metadata": {},
   "outputs": [],
   "source": [
    "class HPMetric(tb.metrics.InvisibleMetric):\n",
    "    def __init__(self, name: str):\n",
    "        super(HPMetric, self).__init__(name)\n",
    "\n",
    "        self.diff = []\n",
    "\n",
    "    def on_valid_epoch_end(self, epoch: int, logs: dict):\n",
    "        # RMS, 99% tile 출력\n",
    "        yaw_v, pitch_v, roll_v, rms_v, tile99_v = self._calc_values(self.diff)\n",
    "\n",
    "        print(f'                  validation')\n",
    "        print(f' - Yaw          : {yaw_v:10f}')\n",
    "        print(f' - Pitch        : {pitch_v:10f}')\n",
    "        print(f' - Roll         : {roll_v:10f}')\n",
    "        print(f' - RMS          : {rms_v:10f}')\n",
    "        print(f' - 99% Tile     : {tile99_v:10f}')\n",
    "\n",
    "        self.diff.clear()\n",
    "\n",
    "    def get_value(self, outputs: torch.Tensor, targets: torch.Tensor, is_train: bool):\n",
    "        if not is_train:\n",
    "            self.diff.append((outputs - targets).mean(1).detach().cpu())  # (B, S, 3) --> (B, 3)\n",
    "\n",
    "    @staticmethod\n",
    "    def _calc_values(diff):\n",
    "        diff = torch.cat(diff).abs_()  # (D, 3)\n",
    "        rms = (diff.square().sum(1) / 3).sqrt()\n",
    "        tile = rms.flatten().numpy()\n",
    "        tile99 = np.percentile(tile, 99)\n",
    "        \n",
    "        mrms = rms.mean()\n",
    "        \n",
    "        # diff = radian2degree(diff)\n",
    "        #tile = diff.flatten().numpy()\n",
    "        #tile99 = np.percentile(tile, 99)\n",
    "\n",
    "        mdiff = diff.mean(dim=0)\n",
    "        #rms = (mdiff.square().sum() / 3).sqrt()\n",
    "\n",
    "        return mdiff[0].item(), mdiff[1].item(), mdiff[2].item(), mrms.item(), tile99"
   ]
  },
  {
   "cell_type": "code",
   "execution_count": 23,
   "metadata": {},
   "outputs": [],
   "source": [
    "metrics = [tb.metrics.ModuleMetric(criterion, 'loss'),\n",
    "           HPMetric('hp_metric')]"
   ]
  },
  {
   "cell_type": "code",
   "execution_count": 24,
   "metadata": {},
   "outputs": [],
   "source": [
    "callbacks = [tb.callbacks.EarlyStopping(metrics[0]),\n",
    "             tb.callbacks.LRDecaying(optimizer, metrics[0], patience=3),\n",
    "             tb.callbacks.SaveCheckpoint({'model': model}, metrics[0], CHECKPOINT_DIR, 'best-ckpt.pth')]"
   ]
  },
  {
   "cell_type": "code",
   "execution_count": 25,
   "metadata": {},
   "outputs": [],
   "source": [
    "trainer = tb.Trainer(model, optimizer, metrics, callbacks, ncols=100)"
   ]
  },
  {
   "cell_type": "code",
   "execution_count": 26,
   "metadata": {},
   "outputs": [
    {
     "name": "stderr",
     "output_type": "stream",
     "text": [
      "[0001/0200] Train: 100%|█████████████████████████████| 44/44 [00:03<00:00, 11.17it/s, loss 267.9655]\n",
      "[0001/0200] Validation: 100%|████████████████████| 42/42 [00:02<00:00, 20.77it/s, val_loss 231.4950]\n",
      "[0002/0200] Train:   0%|                                                     | 0/44 [00:00<?, ?it/s]"
     ]
    },
    {
     "name": "stdout",
     "output_type": "stream",
     "text": [
      "Save checkpoint: val_loss decreased from inf to 231.49503744216193\n",
      "                  validation\n",
      " - Yaw          :  17.972843\n",
      " - Pitch        :  10.082040\n",
      " - Roll         :   2.388203\n",
      " - RMS          :  12.897181\n",
      " - 99% Tile     :  26.523259\n"
     ]
    },
    {
     "name": "stderr",
     "output_type": "stream",
     "text": [
      "[0002/0200] Train: 100%|█████████████████████████████| 44/44 [00:03<00:00, 11.30it/s, loss 239.3680]\n",
      "[0002/0200] Validation: 100%|████████████████████| 42/42 [00:01<00:00, 21.73it/s, val_loss 197.0626]\n",
      "[0003/0200] Train:   0%|                                                     | 0/44 [00:00<?, ?it/s]"
     ]
    },
    {
     "name": "stdout",
     "output_type": "stream",
     "text": [
      "Save checkpoint: val_loss decreased from 231.49503744216193 to 197.06257238842193\n",
      "                  validation\n",
      " - Yaw          :  16.369272\n",
      " - Pitch        :   8.961867\n",
      " - Roll         :   2.302773\n",
      " - RMS          :  11.671744\n",
      " - 99% Tile     :  24.799163\n"
     ]
    },
    {
     "name": "stderr",
     "output_type": "stream",
     "text": [
      "[0003/0200] Train: 100%|█████████████████████████████| 44/44 [00:03<00:00, 11.56it/s, loss 223.2530]\n",
      "[0003/0200] Validation: 100%|████████████████████| 42/42 [00:01<00:00, 22.63it/s, val_loss 180.3423]\n",
      "[0004/0200] Train:   0%|                                                     | 0/44 [00:00<?, ?it/s]"
     ]
    },
    {
     "name": "stdout",
     "output_type": "stream",
     "text": [
      "Save checkpoint: val_loss decreased from 197.06257238842193 to 180.34231667291547\n",
      "                  validation\n",
      " - Yaw          :  15.262565\n",
      " - Pitch        :   8.450992\n",
      " - Roll         :   2.226398\n",
      " - RMS          :  10.932308\n",
      " - 99% Tile     :  24.321593\n"
     ]
    },
    {
     "name": "stderr",
     "output_type": "stream",
     "text": [
      "[0004/0200] Train: 100%|█████████████████████████████| 44/44 [00:03<00:00, 11.53it/s, loss 207.9504]\n",
      "[0004/0200] Validation: 100%|████████████████████| 42/42 [00:01<00:00, 21.26it/s, val_loss 193.5698]\n",
      "[0005/0200] Train:   0%|                                                     | 0/44 [00:00<?, ?it/s]"
     ]
    },
    {
     "name": "stdout",
     "output_type": "stream",
     "text": [
      "val_loss is not improved for 1 epochs\n",
      "                  validation\n",
      " - Yaw          :  16.244301\n",
      " - Pitch        :   8.637753\n",
      " - Roll         :   2.391788\n",
      " - RMS          :  11.512520\n",
      " - 99% Tile     :  24.464756\n"
     ]
    },
    {
     "name": "stderr",
     "output_type": "stream",
     "text": [
      "[0005/0200] Train: 100%|█████████████████████████████| 44/44 [00:03<00:00, 11.52it/s, loss 188.7745]\n",
      "[0005/0200] Validation: 100%|████████████████████| 42/42 [00:01<00:00, 21.83it/s, val_loss 160.5865]\n",
      "[0006/0200] Train:   0%|                                                     | 0/44 [00:00<?, ?it/s]"
     ]
    },
    {
     "name": "stdout",
     "output_type": "stream",
     "text": [
      "Save checkpoint: val_loss decreased from 180.34231667291547 to 160.58646892365954\n",
      "                  validation\n",
      " - Yaw          :  14.186891\n",
      " - Pitch        :   7.910190\n",
      " - Roll         :   2.299125\n",
      " - RMS          :  10.243835\n",
      " - 99% Tile     :  23.036718\n"
     ]
    },
    {
     "name": "stderr",
     "output_type": "stream",
     "text": [
      "[0006/0200] Train: 100%|█████████████████████████████| 44/44 [00:03<00:00, 11.55it/s, loss 169.8520]\n",
      "[0006/0200] Validation: 100%|████████████████████| 42/42 [00:01<00:00, 22.58it/s, val_loss 143.4402]\n",
      "[0007/0200] Train:   0%|                                                     | 0/44 [00:00<?, ?it/s]"
     ]
    },
    {
     "name": "stdout",
     "output_type": "stream",
     "text": [
      "Save checkpoint: val_loss decreased from 160.58646892365954 to 143.44016928899856\n",
      "                  validation\n",
      " - Yaw          :  13.053515\n",
      " - Pitch        :   7.177955\n",
      " - Roll         :   2.344096\n",
      " - RMS          :   9.465163\n",
      " - 99% Tile     :  21.814161\n"
     ]
    },
    {
     "name": "stderr",
     "output_type": "stream",
     "text": [
      "[0007/0200] Train: 100%|█████████████████████████████| 44/44 [00:03<00:00, 11.31it/s, loss 156.0041]\n",
      "[0007/0200] Validation: 100%|████████████████████| 42/42 [00:01<00:00, 21.41it/s, val_loss 154.1395]\n",
      "[0008/0200] Train:   0%|                                                     | 0/44 [00:00<?, ?it/s]"
     ]
    },
    {
     "name": "stdout",
     "output_type": "stream",
     "text": [
      "val_loss is not improved for 1 epochs\n",
      "                  validation\n",
      " - Yaw          :  13.806016\n",
      " - Pitch        :   7.552896\n",
      " - Roll         :   2.328424\n",
      " - RMS          :   9.982880\n",
      " - 99% Tile     :  22.464838\n"
     ]
    },
    {
     "name": "stderr",
     "output_type": "stream",
     "text": [
      "[0008/0200] Train: 100%|█████████████████████████████| 44/44 [00:03<00:00, 11.42it/s, loss 141.6469]\n",
      "[0008/0200] Validation: 100%|████████████████████| 42/42 [00:01<00:00, 21.03it/s, val_loss 139.1926]\n",
      "[0009/0200] Train:   0%|                                                     | 0/44 [00:00<?, ?it/s]"
     ]
    },
    {
     "name": "stdout",
     "output_type": "stream",
     "text": [
      "Save checkpoint: val_loss decreased from 143.44016928899856 to 139.1925665083386\n",
      "                  validation\n",
      " - Yaw          :  12.355879\n",
      " - Pitch        :   6.449583\n",
      " - Roll         :   2.458601\n",
      " - RMS          :   8.965957\n",
      " - 99% Tile     :  23.942063\n"
     ]
    },
    {
     "name": "stderr",
     "output_type": "stream",
     "text": [
      "[0009/0200] Train: 100%|█████████████████████████████| 44/44 [00:03<00:00, 11.37it/s, loss 145.8370]\n",
      "[0009/0200] Validation: 100%|████████████████████| 42/42 [00:01<00:00, 22.08it/s, val_loss 124.7591]\n",
      "[0010/0200] Train:   0%|                                                     | 0/44 [00:00<?, ?it/s]"
     ]
    },
    {
     "name": "stdout",
     "output_type": "stream",
     "text": [
      "Save checkpoint: val_loss decreased from 139.1925665083386 to 124.75905858902703\n",
      "                  validation\n",
      " - Yaw          :  11.046144\n",
      " - Pitch        :   6.390404\n",
      " - Roll         :   2.285678\n",
      " - RMS          :   8.269393\n",
      " - 99% Tile     :  21.804310\n"
     ]
    },
    {
     "name": "stderr",
     "output_type": "stream",
     "text": [
      "[0010/0200] Train: 100%|█████████████████████████████| 44/44 [00:03<00:00, 11.19it/s, loss 134.4277]\n",
      "[0010/0200] Validation: 100%|████████████████████| 42/42 [00:01<00:00, 21.47it/s, val_loss 120.5194]\n",
      "[0011/0200] Train:   0%|                                                     | 0/44 [00:00<?, ?it/s]"
     ]
    },
    {
     "name": "stdout",
     "output_type": "stream",
     "text": [
      "Save checkpoint: val_loss decreased from 124.75905858902703 to 120.51941340310233\n",
      "                  validation\n",
      " - Yaw          :  11.432207\n",
      " - Pitch        :   5.493495\n",
      " - Roll         :   2.481401\n",
      " - RMS          :   8.195355\n",
      " - 99% Tile     :  21.457893\n"
     ]
    },
    {
     "name": "stderr",
     "output_type": "stream",
     "text": [
      "[0011/0200] Train: 100%|█████████████████████████████| 44/44 [00:03<00:00, 11.34it/s, loss 121.0432]\n",
      "[0011/0200] Validation: 100%|████████████████████| 42/42 [00:01<00:00, 21.02it/s, val_loss 120.7404]\n",
      "[0012/0200] Train:   0%|                                                     | 0/44 [00:00<?, ?it/s]"
     ]
    },
    {
     "name": "stdout",
     "output_type": "stream",
     "text": [
      "val_loss is not improved for 1 epochs\n",
      "                  validation\n",
      " - Yaw          :  11.536886\n",
      " - Pitch        :   5.926322\n",
      " - Roll         :   2.261967\n",
      " - RMS          :   8.252299\n",
      " - 99% Tile     :  23.167842\n"
     ]
    },
    {
     "name": "stderr",
     "output_type": "stream",
     "text": [
      "[0012/0200] Train: 100%|█████████████████████████████| 44/44 [00:03<00:00, 11.42it/s, loss 115.6261]\n",
      "[0012/0200] Validation: 100%|████████████████████| 42/42 [00:02<00:00, 20.92it/s, val_loss 113.8731]\n",
      "[0013/0200] Train:   0%|                                                     | 0/44 [00:00<?, ?it/s]"
     ]
    },
    {
     "name": "stdout",
     "output_type": "stream",
     "text": [
      "Save checkpoint: val_loss decreased from 120.51941340310233 to 113.87309687478202\n",
      "                  validation\n",
      " - Yaw          :  11.335725\n",
      " - Pitch        :   4.878118\n",
      " - Roll         :   2.254167\n",
      " - RMS          :   7.881913\n",
      " - 99% Tile     :  21.463579\n"
     ]
    },
    {
     "name": "stderr",
     "output_type": "stream",
     "text": [
      "[0013/0200] Train: 100%|█████████████████████████████| 44/44 [00:03<00:00, 11.65it/s, loss 105.0171]\n",
      "[0013/0200] Validation: 100%|████████████████████| 42/42 [00:01<00:00, 21.80it/s, val_loss 110.1450]\n",
      "[0014/0200] Train:   0%|                                                     | 0/44 [00:00<?, ?it/s]"
     ]
    },
    {
     "name": "stdout",
     "output_type": "stream",
     "text": [
      "Save checkpoint: val_loss decreased from 113.87309687478202 to 110.14495736076718\n",
      "                  validation\n",
      " - Yaw          :  10.447905\n",
      " - Pitch        :   4.943547\n",
      " - Roll         :   2.351621\n",
      " - RMS          :   7.509070\n",
      " - 99% Tile     :  22.959463\n"
     ]
    },
    {
     "name": "stderr",
     "output_type": "stream",
     "text": [
      "[0014/0200] Train: 100%|██████████████████████████████| 44/44 [00:03<00:00, 11.43it/s, loss 98.9371]\n",
      "[0014/0200] Validation: 100%|█████████████████████| 42/42 [00:01<00:00, 21.35it/s, val_loss 99.9257]\n",
      "[0015/0200] Train:   0%|                                                     | 0/44 [00:00<?, ?it/s]"
     ]
    },
    {
     "name": "stdout",
     "output_type": "stream",
     "text": [
      "Save checkpoint: val_loss decreased from 110.14495736076718 to 99.9256896064395\n",
      "                  validation\n",
      " - Yaw          :   9.773612\n",
      " - Pitch        :   4.727113\n",
      " - Roll         :   2.322831\n",
      " - RMS          :   7.066730\n",
      " - 99% Tile     :  21.695702\n"
     ]
    },
    {
     "name": "stderr",
     "output_type": "stream",
     "text": [
      "[0015/0200] Train: 100%|██████████████████████████████| 44/44 [00:03<00:00, 11.41it/s, loss 92.6091]\n",
      "[0015/0200] Validation: 100%|████████████████████| 42/42 [00:01<00:00, 22.11it/s, val_loss 102.1015]\n",
      "[0016/0200] Train:   0%|                                                     | 0/44 [00:00<?, ?it/s]"
     ]
    },
    {
     "name": "stdout",
     "output_type": "stream",
     "text": [
      "val_loss is not improved for 1 epochs\n",
      "                  validation\n",
      " - Yaw          :   9.742298\n",
      " - Pitch        :   4.861022\n",
      " - Roll         :   2.260800\n",
      " - RMS          :   7.104017\n",
      " - 99% Tile     :  21.701638\n"
     ]
    },
    {
     "name": "stderr",
     "output_type": "stream",
     "text": [
      "[0016/0200] Train: 100%|██████████████████████████████| 44/44 [00:03<00:00, 11.45it/s, loss 85.4192]\n",
      "[0016/0200] Validation: 100%|████████████████████| 42/42 [00:02<00:00, 20.92it/s, val_loss 112.6779]\n",
      "[0017/0200] Train:   0%|                                                     | 0/44 [00:00<?, ?it/s]"
     ]
    },
    {
     "name": "stdout",
     "output_type": "stream",
     "text": [
      "val_loss is not improved for 2 epochs\n",
      "                  validation\n",
      " - Yaw          :  10.606799\n",
      " - Pitch        :   4.415748\n",
      " - Roll         :   2.501481\n",
      " - RMS          :   7.434519\n",
      " - 99% Tile     :  23.551219\n"
     ]
    },
    {
     "name": "stderr",
     "output_type": "stream",
     "text": [
      "[0017/0200] Train: 100%|██████████████████████████████| 44/44 [00:03<00:00, 11.35it/s, loss 97.1428]\n",
      "[0017/0200] Validation: 100%|████████████████████| 42/42 [00:02<00:00, 20.62it/s, val_loss 102.8760]\n",
      "[0018/0200] Train:   0%|                                                     | 0/44 [00:00<?, ?it/s]"
     ]
    },
    {
     "name": "stdout",
     "output_type": "stream",
     "text": [
      "Decaying lr from 0.001 to 0.0005 because val_loss did not improved for 3 epochs\n",
      "val_loss is not improved for 3 epochs\n",
      "                  validation\n",
      " - Yaw          :   9.564279\n",
      " - Pitch        :   4.466857\n",
      " - Roll         :   2.287360\n",
      " - RMS          :   6.882518\n",
      " - 99% Tile     :  23.575503\n"
     ]
    },
    {
     "name": "stderr",
     "output_type": "stream",
     "text": [
      "[0018/0200] Train: 100%|██████████████████████████████| 44/44 [00:03<00:00, 11.38it/s, loss 85.1518]\n",
      "[0018/0200] Validation: 100%|████████████████████| 42/42 [00:01<00:00, 22.38it/s, val_loss 104.4211]\n",
      "[0019/0200] Train:   0%|                                                     | 0/44 [00:00<?, ?it/s]"
     ]
    },
    {
     "name": "stdout",
     "output_type": "stream",
     "text": [
      "val_loss is not improved for 4 epochs\n",
      "                  validation\n",
      " - Yaw          :  10.069236\n",
      " - Pitch        :   4.207029\n",
      " - Roll         :   2.217802\n",
      " - RMS          :   7.082671\n",
      " - 99% Tile     :  23.629929\n"
     ]
    },
    {
     "name": "stderr",
     "output_type": "stream",
     "text": [
      "[0019/0200] Train: 100%|██████████████████████████████| 44/44 [00:03<00:00, 11.21it/s, loss 77.8192]\n",
      "[0019/0200] Validation: 100%|████████████████████| 42/42 [00:02<00:00, 20.34it/s, val_loss 108.0653]\n",
      "[0020/0200] Train:   0%|                                                     | 0/44 [00:00<?, ?it/s]"
     ]
    },
    {
     "name": "stdout",
     "output_type": "stream",
     "text": [
      "val_loss is not improved for 5 epochs\n",
      "                  validation\n",
      " - Yaw          :  10.042223\n",
      " - Pitch        :   4.133352\n",
      " - Roll         :   2.210201\n",
      " - RMS          :   7.065847\n",
      " - 99% Tile     :  23.848704\n"
     ]
    },
    {
     "name": "stderr",
     "output_type": "stream",
     "text": [
      "[0020/0200] Train: 100%|██████████████████████████████| 44/44 [00:03<00:00, 11.28it/s, loss 80.3647]\n",
      "[0020/0200] Validation: 100%|████████████████████| 42/42 [00:01<00:00, 21.25it/s, val_loss 113.7182]\n",
      "[0021/0200] Train:   0%|                                                     | 0/44 [00:00<?, ?it/s]"
     ]
    },
    {
     "name": "stdout",
     "output_type": "stream",
     "text": [
      "Decaying lr from 0.0005 to 0.00025 because val_loss did not improved for 3 epochs\n",
      "val_loss is not improved for 6 epochs\n",
      "                  validation\n",
      " - Yaw          :  10.806696\n",
      " - Pitch        :   4.307233\n",
      " - Roll         :   2.318144\n",
      " - RMS          :   7.500239\n",
      " - 99% Tile     :  23.189077\n"
     ]
    },
    {
     "name": "stderr",
     "output_type": "stream",
     "text": [
      "[0021/0200] Train: 100%|██████████████████████████████| 44/44 [00:03<00:00, 11.32it/s, loss 83.8866]\n",
      "[0021/0200] Validation: 100%|████████████████████| 42/42 [00:01<00:00, 21.68it/s, val_loss 107.7663]\n",
      "[0022/0200] Train:   0%|                                                     | 0/44 [00:00<?, ?it/s]"
     ]
    },
    {
     "name": "stdout",
     "output_type": "stream",
     "text": [
      "val_loss is not improved for 7 epochs\n",
      "                  validation\n",
      " - Yaw          :  10.157089\n",
      " - Pitch        :   4.496960\n",
      " - Roll         :   2.219310\n",
      " - RMS          :   7.193200\n",
      " - 99% Tile     :  24.238558\n"
     ]
    },
    {
     "name": "stderr",
     "output_type": "stream",
     "text": [
      "[0022/0200] Train: 100%|██████████████████████████████| 44/44 [00:03<00:00, 11.48it/s, loss 72.7310]\n",
      "[0022/0200] Validation: 100%|████████████████████| 42/42 [00:01<00:00, 22.12it/s, val_loss 111.7169]\n",
      "[0023/0200] Train:   0%|                                                     | 0/44 [00:00<?, ?it/s]"
     ]
    },
    {
     "name": "stdout",
     "output_type": "stream",
     "text": [
      "val_loss is not improved for 8 epochs\n",
      "                  validation\n",
      " - Yaw          :  10.486484\n",
      " - Pitch        :   4.121784\n",
      " - Roll         :   2.252669\n",
      " - RMS          :   7.257137\n",
      " - 99% Tile     :  23.960945\n"
     ]
    },
    {
     "name": "stderr",
     "output_type": "stream",
     "text": [
      "[0023/0200] Train: 100%|██████████████████████████████| 44/44 [00:03<00:00, 11.20it/s, loss 70.1144]\n",
      "[0023/0200] Validation: 100%|████████████████████| 42/42 [00:02<00:00, 20.24it/s, val_loss 114.0817]\n",
      "[0024/0200] Train:   0%|                                                     | 0/44 [00:00<?, ?it/s]"
     ]
    },
    {
     "name": "stdout",
     "output_type": "stream",
     "text": [
      "Decaying lr from 0.00025 to 0.000125 because val_loss did not improved for 3 epochs\n",
      "val_loss is not improved for 9 epochs\n",
      "                  validation\n",
      " - Yaw          :  10.643313\n",
      " - Pitch        :   4.184698\n",
      " - Roll         :   2.171547\n",
      " - RMS          :   7.378360\n",
      " - 99% Tile     :  25.452780\n"
     ]
    },
    {
     "name": "stderr",
     "output_type": "stream",
     "text": [
      "[0024/0200] Train: 100%|██████████████████████████████| 44/44 [00:04<00:00,  9.99it/s, loss 66.7784]\n",
      "[0024/0200] Validation: 100%|████████████████████| 42/42 [00:02<00:00, 17.62it/s, val_loss 117.6397]"
     ]
    },
    {
     "name": "stdout",
     "output_type": "stream",
     "text": [
      "val_loss is not improved for 10 epochs\n",
      "Stop training because val_loss did not improved for 10 epochs\n",
      "                  validation\n",
      " - Yaw          :  10.749284\n",
      " - Pitch        :   4.063399\n",
      " - Roll         :   2.267335\n",
      " - RMS          :   7.396717\n",
      " - 99% Tile     :  25.646337\n"
     ]
    },
    {
     "name": "stderr",
     "output_type": "stream",
     "text": [
      "\n"
     ]
    }
   ],
   "source": [
    "trainer.fit(ds_train, ds_test, num_epochs=200, batch_size=256, shuffle=True, pin_memory=True)"
   ]
  },
  {
   "cell_type": "code",
   "execution_count": null,
   "metadata": {},
   "outputs": [],
   "source": []
  }
 ],
 "metadata": {
  "kernelspec": {
   "display_name": "torch",
   "language": "python",
   "name": "torch"
  },
  "language_info": {
   "codemirror_mode": {
    "name": "ipython",
    "version": 3
   },
   "file_extension": ".py",
   "mimetype": "text/x-python",
   "name": "python",
   "nbconvert_exporter": "python",
   "pygments_lexer": "ipython3",
   "version": "3.7.9"
  }
 },
 "nbformat": 4,
 "nbformat_minor": 4
}
