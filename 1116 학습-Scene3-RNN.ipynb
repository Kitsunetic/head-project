{
 "cells": [
  {
   "cell_type": "markdown",
   "metadata": {},
   "source": [
    "# 학습 방법 - Scene\n",
    "\n",
    "3개의 Scene에 대해서 각각 따로 학습\n",
    "\n",
    "user별로 학습을 하지 않는 이유는 상관관계로 보았을 때 user끼리는 달라도 scene별로는 유사점이 꽤 보였기 때문."
   ]
  },
  {
   "cell_type": "code",
   "execution_count": 2,
   "metadata": {},
   "outputs": [],
   "source": [
    "from multiprocessing import cpu_count\n",
    "from pathlib import Path\n",
    "from typing import List, Union, AnyStr\n",
    "from math import pi\n",
    "import pickle\n",
    "\n",
    "import numpy as np\n",
    "import torch\n",
    "import matplotlib.pyplot as plt\n",
    "import torch.nn as nn\n",
    "from sklearn import model_selection\n",
    "from tqdm import tqdm\n",
    "import torch_optimizer\n",
    "from torch.utils.data import Dataset\n",
    "import pandas as pd\n",
    "import random\n",
    "\n",
    "import torch_burn as tb\n",
    "import utils"
   ]
  },
  {
   "cell_type": "code",
   "execution_count": 3,
   "metadata": {},
   "outputs": [],
   "source": [
    "EXPERIMENT_NAME = 'Scene3-LSTM4'\n",
    "CHECKPOINT_DIR = Path('checkpoint', EXPERIMENT_NAME)\n",
    "CHECKPOINT_DIR.mkdir(parents=True, exist_ok=True)\n",
    "\n",
    "DATA_DIR = Path('data/1116')\n",
    "TRAIN_FILES = sorted(list(DATA_DIR.glob('*scene3_0.csv')))\n",
    "TEST_FILES = sorted(list(DATA_DIR.glob('*scene3_1.csv')))"
   ]
  },
  {
   "cell_type": "markdown",
   "metadata": {},
   "source": [
    "# 데이터셋 생성\n",
    "\n",
    "scene1에 대해서 모든 user의 데이터를 하나로 합친다."
   ]
  },
  {
   "cell_type": "code",
   "execution_count": 4,
   "metadata": {},
   "outputs": [],
   "source": [
    "WINDOW_SIZE = 300"
   ]
  },
  {
   "cell_type": "code",
   "execution_count": 5,
   "metadata": {},
   "outputs": [],
   "source": [
    "class CSVSequentialDataset(Dataset):\n",
    "    def __init__(self, csvfile,\n",
    "                 window_size=300, randomized_window_size=False,\n",
    "                 stride=30, randomized_stride=False):\n",
    "        super(CSVSequentialDataset, self).__init__()\n",
    "\n",
    "        self.xcols = ['input_orientation_yaw', 'input_orientation_pitch', 'input_orientation_roll',\n",
    "                      'acceleration_x', 'acceleration_y', 'acceleration_z']\n",
    "        self.ycols = ['input_orientation_yaw', 'input_orientation_pitch', 'input_orientation_roll']\n",
    "\n",
    "        self.csv = pd.read_csv(csvfile)\n",
    "        self.window_size = window_size\n",
    "\n",
    "        self.indexes = []\n",
    "        i = 0\n",
    "        while i <= len(self.csv) - window_size * 2:\n",
    "            if randomized_window_size:\n",
    "                self.indexes.append((i, i + random.randint(window_size // 2, window_size)))\n",
    "            else:\n",
    "                self.indexes.append((i, i + window_size))\n",
    "\n",
    "            if randomized_stride:\n",
    "                i += random.randint(1, stride)\n",
    "            else:\n",
    "                i += stride\n",
    "\n",
    "    def __len__(self):\n",
    "        return len(self.indexes)\n",
    "\n",
    "    def __getitem__(self, idx):\n",
    "        s, t = self.indexes[idx]\n",
    "        x = self.csv.iloc[s:t][self.xcols].to_numpy()\n",
    "        y = self.csv.iloc[t + 6][self.ycols].to_numpy()\n",
    "\n",
    "        x = torch.tensor(x, dtype=torch.float32) # 300, 6\n",
    "        y = torch.tensor(y, dtype=torch.float32) # 3\n",
    "        \n",
    "        #x[:, :3] *= pi / 180\n",
    "        x[:, 3:] /= 10\n",
    "\n",
    "        return x, y"
   ]
  },
  {
   "cell_type": "code",
   "execution_count": 7,
   "metadata": {},
   "outputs": [
    {
     "data": {
      "text/plain": [
       "(17678, 16975)"
      ]
     },
     "execution_count": 7,
     "metadata": {},
     "output_type": "execute_result"
    }
   ],
   "source": [
    "len(ds_train), len(ds_test)"
   ]
  },
  {
   "cell_type": "code",
   "execution_count": 8,
   "metadata": {},
   "outputs": [
    {
     "data": {
      "text/plain": [
       "(torch.Size([300, 6]), torch.Size([3]))"
      ]
     },
     "execution_count": 8,
     "metadata": {},
     "output_type": "execute_result"
    }
   ],
   "source": [
    "ds_train[0][0].shape, ds_train[0][1].shape"
   ]
  },
  {
   "cell_type": "code",
   "execution_count": 9,
   "metadata": {},
   "outputs": [],
   "source": [
    "x, y = ds_train[0]"
   ]
  },
  {
   "cell_type": "code",
   "execution_count": 10,
   "metadata": {},
   "outputs": [
    {
     "data": {
      "text/plain": [
       "torch.Size([300, 6])"
      ]
     },
     "execution_count": 10,
     "metadata": {},
     "output_type": "execute_result"
    }
   ],
   "source": [
    "x.shape"
   ]
  },
  {
   "cell_type": "code",
   "execution_count": 11,
   "metadata": {},
   "outputs": [
    {
     "data": {
      "text/plain": [
       "[<matplotlib.lines.Line2D at 0x7f8ef3400990>]"
      ]
     },
     "execution_count": 11,
     "metadata": {},
     "output_type": "execute_result"
    },
    {
     "data": {
      "image/png": "[encoded data removed]",
      "text/plain": [
       "<Figure size 432x288 with 1 Axes>"
      ]
     },
     "metadata": {
      "needs_background": "light"
     },
     "output_type": "display_data"
    }
   ],
   "source": [
    "plt.plot(x[:, 2])"
   ]
  },
  {
   "cell_type": "markdown",
   "metadata": {},
   "source": [
    "# 모델 생성\n",
    "\n",
    "StackedLSTM Bidirectional"
   ]
  },
  {
   "cell_type": "code",
   "execution_count": 12,
   "metadata": {},
   "outputs": [],
   "source": [
    "model = utils.BaselineLSTM(input_size=6,\n",
    "                           hidden_size=64,\n",
    "                           num_layers=8,\n",
    "                           dropout=0.2,\n",
    "                           bidirectional=True).cuda()"
   ]
  },
  {
   "cell_type": "code",
   "execution_count": 13,
   "metadata": {},
   "outputs": [],
   "source": [
    "criterion = nn.MSELoss().cuda()\n",
    "optimizer = torch_optimizer.RAdam(model.parameters())"
   ]
  },
  {
   "cell_type": "code",
   "execution_count": 14,
   "metadata": {},
   "outputs": [],
   "source": [
    "metrics = [tb.metrics.ModuleMetric(criterion, 'loss'),\n",
    "           utils.HPMetric('hp_metric'),\n",
    "           utils.HPSignalHistory(CHECKPOINT_DIR / 'sample' / '{epoch:04d}.npy', 'hp_signal')]"
   ]
  },
  {
   "cell_type": "code",
   "execution_count": 15,
   "metadata": {},
   "outputs": [],
   "source": [
    "callbacks = [tb.callbacks.EarlyStopping(metrics[0]),\n",
    "             tb.callbacks.LRDecaying(optimizer, metrics[0])]"
   ]
  },
  {
   "cell_type": "code",
   "execution_count": 16,
   "metadata": {},
   "outputs": [],
   "source": [
    "trainer = tb.Trainer(model, optimizer, metrics, callbacks, ncols=100)"
   ]
  },
  {
   "cell_type": "code",
   "execution_count": 17,
   "metadata": {},
   "outputs": [
    {
     "name": "stderr",
     "output_type": "stream",
     "text": [
      "[0001/0100] Train: 100%|█████████████████████████████| 70/70 [00:28<00:00,  2.49it/s, loss 288.6240]\n",
      "[0001/0100] Validation: 100%|████████████████████| 67/67 [00:06<00:00,  9.84it/s, val_loss 220.0541]\n",
      "[0002/0100] Train:   0%|                                                     | 0/70 [00:00<?, ?it/s]"
     ]
    },
    {
     "name": "stdout",
     "output_type": "stream",
     "text": [
      "                  validation\n",
      " - Yaw          :  18.621435\n",
      " - Pitch        :  10.386208\n",
      " - Roll         :   2.617061\n",
      " - RMS          :  12.402690\n",
      " - 99% Tile     :  43.232032\n",
      "Save output signals into checkpoint/Scene3-LSTM4/sample/0001.npy\n"
     ]
    },
    {
     "name": "stderr",
     "output_type": "stream",
     "text": [
      "[0002/0100] Train: 100%|█████████████████████████████| 70/70 [00:28<00:00,  2.48it/s, loss 241.8188]\n",
      "[0002/0100] Validation: 100%|████████████████████| 67/67 [00:06<00:00, 10.13it/s, val_loss 165.6032]\n",
      "[0003/0100] Train:   0%|                                                     | 0/70 [00:00<?, ?it/s]"
     ]
    },
    {
     "name": "stdout",
     "output_type": "stream",
     "text": [
      "                  validation\n",
      " - Yaw          :  15.265602\n",
      " - Pitch        :   9.237728\n",
      " - Roll         :   2.567597\n",
      " - RMS          :  10.407798\n",
      " - 99% Tile     :  38.930490\n",
      "Save output signals into checkpoint/Scene3-LSTM4/sample/0002.npy\n"
     ]
    },
    {
     "name": "stderr",
     "output_type": "stream",
     "text": [
      "[0003/0100] Train: 100%|█████████████████████████████| 70/70 [00:28<00:00,  2.46it/s, loss 183.5686]\n",
      "[0003/0100] Validation: 100%|████████████████████| 67/67 [00:06<00:00, 10.14it/s, val_loss 123.2755]\n",
      "[0004/0100] Train:   0%|                                                     | 0/70 [00:00<?, ?it/s]"
     ]
    },
    {
     "name": "stdout",
     "output_type": "stream",
     "text": [
      "                  validation\n",
      " - Yaw          :  12.230296\n",
      " - Pitch        :   8.903201\n",
      " - Roll         :   2.427008\n",
      " - RMS          :   8.845668\n",
      " - 99% Tile     :  34.339697\n",
      "Save output signals into checkpoint/Scene3-LSTM4/sample/0003.npy\n"
     ]
    },
    {
     "name": "stderr",
     "output_type": "stream",
     "text": [
      "[0004/0100] Train: 100%|█████████████████████████████| 70/70 [00:28<00:00,  2.48it/s, loss 142.2648]\n",
      "[0004/0100] Validation: 100%|█████████████████████| 67/67 [00:06<00:00, 10.18it/s, val_loss 95.3236]\n",
      "[0005/0100] Train:   0%|                                                     | 0/70 [00:00<?, ?it/s]"
     ]
    },
    {
     "name": "stdout",
     "output_type": "stream",
     "text": [
      "                  validation\n",
      " - Yaw          :   9.988942\n",
      " - Pitch        :   8.006502\n",
      " - Roll         :   2.402825\n",
      " - RMS          :   7.520121\n",
      " - 99% Tile     :  30.833705\n",
      "Save output signals into checkpoint/Scene3-LSTM4/sample/0004.npy\n"
     ]
    },
    {
     "name": "stderr",
     "output_type": "stream",
     "text": [
      "[0005/0100] Train: 100%|█████████████████████████████| 70/70 [00:28<00:00,  2.48it/s, loss 115.6188]\n",
      "[0005/0100] Validation: 100%|█████████████████████| 67/67 [00:06<00:00, 10.35it/s, val_loss 78.5659]\n",
      "[0006/0100] Train:   0%|                                                     | 0/70 [00:00<?, ?it/s]"
     ]
    },
    {
     "name": "stdout",
     "output_type": "stream",
     "text": [
      "                  validation\n",
      " - Yaw          :   8.640498\n",
      " - Pitch        :   7.536335\n",
      " - Roll         :   2.422422\n",
      " - RMS          :   6.765666\n",
      " - 99% Tile     :  28.080684\n",
      "Save output signals into checkpoint/Scene3-LSTM4/sample/0005.npy\n"
     ]
    },
    {
     "name": "stderr",
     "output_type": "stream",
     "text": [
      "[0006/0100] Train: 100%|██████████████████████████████| 70/70 [00:28<00:00,  2.45it/s, loss 97.8327]\n",
      "[0006/0100] Validation: 100%|█████████████████████| 67/67 [00:06<00:00, 10.10it/s, val_loss 66.0539]\n",
      "[0007/0100] Train:   0%|                                                     | 0/70 [00:00<?, ?it/s]"
     ]
    },
    {
     "name": "stdout",
     "output_type": "stream",
     "text": [
      "                  validation\n",
      " - Yaw          :   7.253839\n",
      " - Pitch        :   7.167391\n",
      " - Roll         :   2.433434\n",
      " - RMS          :   6.052858\n",
      " - 99% Tile     :  26.241259\n",
      "Save output signals into checkpoint/Scene3-LSTM4/sample/0006.npy\n"
     ]
    },
    {
     "name": "stderr",
     "output_type": "stream",
     "text": [
      "[0007/0100] Train: 100%|██████████████████████████████| 70/70 [00:27<00:00,  2.51it/s, loss 83.2402]\n",
      "[0007/0100] Validation: 100%|█████████████████████| 67/67 [00:06<00:00, 10.23it/s, val_loss 55.5986]\n",
      "[0008/0100] Train:   0%|                                                     | 0/70 [00:00<?, ?it/s]"
     ]
    },
    {
     "name": "stdout",
     "output_type": "stream",
     "text": [
      "                  validation\n",
      " - Yaw          :   6.222514\n",
      " - Pitch        :   7.032135\n",
      " - Roll         :   2.408512\n",
      " - RMS          :   5.596771\n",
      " - 99% Tile     :  24.028089\n",
      "Save output signals into checkpoint/Scene3-LSTM4/sample/0007.npy\n"
     ]
    },
    {
     "name": "stderr",
     "output_type": "stream",
     "text": [
      "[0008/0100] Train: 100%|██████████████████████████████| 70/70 [00:28<00:00,  2.48it/s, loss 70.0315]\n",
      "[0008/0100] Validation: 100%|█████████████████████| 67/67 [00:06<00:00, 10.33it/s, val_loss 45.3907]\n",
      "[0009/0100] Train:   0%|                                                     | 0/70 [00:00<?, ?it/s]"
     ]
    },
    {
     "name": "stdout",
     "output_type": "stream",
     "text": [
      "                  validation\n",
      " - Yaw          :   5.577657\n",
      " - Pitch        :   6.077454\n",
      " - Roll         :   2.386796\n",
      " - RMS          :   4.957906\n",
      " - 99% Tile     :  21.783795\n",
      "Save output signals into checkpoint/Scene3-LSTM4/sample/0008.npy\n"
     ]
    },
    {
     "name": "stderr",
     "output_type": "stream",
     "text": [
      "[0009/0100] Train: 100%|██████████████████████████████| 70/70 [00:28<00:00,  2.46it/s, loss 60.5768]\n",
      "[0009/0100] Validation: 100%|█████████████████████| 67/67 [00:06<00:00,  9.89it/s, val_loss 37.1315]\n",
      "[0010/0100] Train:   0%|                                                     | 0/70 [00:00<?, ?it/s]"
     ]
    },
    {
     "name": "stdout",
     "output_type": "stream",
     "text": [
      "                  validation\n",
      " - Yaw          :   5.026242\n",
      " - Pitch        :   5.516901\n",
      " - Roll         :   2.386137\n",
      " - RMS          :   4.523750\n",
      " - 99% Tile     :  19.376852\n",
      "Save output signals into checkpoint/Scene3-LSTM4/sample/0009.npy\n"
     ]
    },
    {
     "name": "stderr",
     "output_type": "stream",
     "text": [
      "[0010/0100] Train: 100%|██████████████████████████████| 70/70 [00:28<00:00,  2.48it/s, loss 50.1712]\n",
      "[0010/0100] Validation: 100%|█████████████████████| 67/67 [00:06<00:00, 10.12it/s, val_loss 28.4976]\n",
      "[0011/0100] Train:   0%|                                                     | 0/70 [00:00<?, ?it/s]"
     ]
    },
    {
     "name": "stdout",
     "output_type": "stream",
     "text": [
      "                  validation\n",
      " - Yaw          :   4.226198\n",
      " - Pitch        :   4.590847\n",
      " - Roll         :   2.411891\n",
      " - RMS          :   3.862376\n",
      " - 99% Tile     :  17.273660\n",
      "Save output signals into checkpoint/Scene3-LSTM4/sample/0010.npy\n"
     ]
    },
    {
     "name": "stderr",
     "output_type": "stream",
     "text": [
      "[0011/0100] Train: 100%|██████████████████████████████| 70/70 [00:28<00:00,  2.45it/s, loss 41.1718]\n",
      "[0011/0100] Validation: 100%|█████████████████████| 67/67 [00:06<00:00, 10.27it/s, val_loss 24.2624]\n",
      "[0012/0100] Train:   0%|                                                     | 0/70 [00:00<?, ?it/s]"
     ]
    },
    {
     "name": "stdout",
     "output_type": "stream",
     "text": [
      "                  validation\n",
      " - Yaw          :   3.946361\n",
      " - Pitch        :   4.004767\n",
      " - Roll         :   2.400743\n",
      " - RMS          :   3.529660\n",
      " - 99% Tile     :  16.307814\n",
      "Save output signals into checkpoint/Scene3-LSTM4/sample/0011.npy\n"
     ]
    },
    {
     "name": "stderr",
     "output_type": "stream",
     "text": [
      "[0012/0100] Train: 100%|██████████████████████████████| 70/70 [00:28<00:00,  2.48it/s, loss 34.8410]\n",
      "[0012/0100] Validation: 100%|█████████████████████| 67/67 [00:06<00:00, 10.08it/s, val_loss 19.2808]\n",
      "[0013/0100] Train:   0%|                                                     | 0/70 [00:00<?, ?it/s]"
     ]
    },
    {
     "name": "stdout",
     "output_type": "stream",
     "text": [
      "                  validation\n",
      " - Yaw          :   3.244602\n",
      " - Pitch        :   3.302341\n",
      " - Roll         :   2.377935\n",
      " - RMS          :   3.004856\n",
      " - 99% Tile     :  14.924466\n",
      "Save output signals into checkpoint/Scene3-LSTM4/sample/0012.npy\n"
     ]
    },
    {
     "name": "stderr",
     "output_type": "stream",
     "text": [
      "[0013/0100] Train: 100%|██████████████████████████████| 70/70 [00:28<00:00,  2.48it/s, loss 29.7723]\n",
      "[0013/0100] Validation: 100%|█████████████████████| 67/67 [00:06<00:00, 10.15it/s, val_loss 16.2597]\n",
      "[0014/0100] Train:   0%|                                                     | 0/70 [00:00<?, ?it/s]"
     ]
    },
    {
     "name": "stdout",
     "output_type": "stream",
     "text": [
      "                  validation\n",
      " - Yaw          :   3.242997\n",
      " - Pitch        :   2.928468\n",
      " - Roll         :   2.367722\n",
      " - RMS          :   2.869324\n",
      " - 99% Tile     :  13.480005\n",
      "Save output signals into checkpoint/Scene3-LSTM4/sample/0013.npy\n"
     ]
    },
    {
     "name": "stderr",
     "output_type": "stream",
     "text": [
      "[0014/0100] Train: 100%|██████████████████████████████| 70/70 [00:28<00:00,  2.47it/s, loss 25.1533]\n",
      "[0014/0100] Validation: 100%|█████████████████████| 67/67 [00:06<00:00, 10.11it/s, val_loss 13.2897]\n",
      "[0015/0100] Train:   0%|                                                     | 0/70 [00:00<?, ?it/s]"
     ]
    },
    {
     "name": "stdout",
     "output_type": "stream",
     "text": [
      "                  validation\n",
      " - Yaw          :   2.511717\n",
      " - Pitch        :   2.633312\n",
      " - Roll         :   2.418075\n",
      " - RMS          :   2.522574\n",
      " - 99% Tile     :  12.730741\n",
      "Save output signals into checkpoint/Scene3-LSTM4/sample/0014.npy\n"
     ]
    },
    {
     "name": "stderr",
     "output_type": "stream",
     "text": [
      "[0015/0100] Train: 100%|██████████████████████████████| 70/70 [00:28<00:00,  2.47it/s, loss 21.9794]\n",
      "[0015/0100] Validation: 100%|█████████████████████| 67/67 [00:06<00:00, 10.21it/s, val_loss 11.1527]\n",
      "[0016/0100] Train:   0%|                                                     | 0/70 [00:00<?, ?it/s]"
     ]
    },
    {
     "name": "stdout",
     "output_type": "stream",
     "text": [
      "                  validation\n",
      " - Yaw          :   2.260005\n",
      " - Pitch        :   2.346454\n",
      " - Roll         :   2.361204\n",
      " - RMS          :   2.322983\n",
      " - 99% Tile     :  11.621649\n",
      "Save output signals into checkpoint/Scene3-LSTM4/sample/0015.npy\n"
     ]
    },
    {
     "name": "stderr",
     "output_type": "stream",
     "text": [
      "[0016/0100] Train: 100%|██████████████████████████████| 70/70 [00:28<00:00,  2.50it/s, loss 19.3557]\n",
      "[0016/0100] Validation: 100%|█████████████████████| 67/67 [00:06<00:00, 10.02it/s, val_loss 11.6091]\n",
      "[0017/0100] Train:   0%|                                                     | 0/70 [00:00<?, ?it/s]"
     ]
    },
    {
     "name": "stdout",
     "output_type": "stream",
     "text": [
      "val_loss is not improved for 1 epochs\n",
      "                  validation\n",
      " - Yaw          :   2.911681\n",
      " - Pitch        :   2.398512\n",
      " - Roll         :   2.341797\n",
      " - RMS          :   2.563510\n",
      " - 99% Tile     :  11.275177\n",
      "Save output signals into checkpoint/Scene3-LSTM4/sample/0016.npy\n"
     ]
    },
    {
     "name": "stderr",
     "output_type": "stream",
     "text": [
      "[0017/0100] Train: 100%|██████████████████████████████| 70/70 [00:28<00:00,  2.46it/s, loss 17.8743]\n",
      "[0017/0100] Validation: 100%|██████████████████████| 67/67 [00:06<00:00, 10.29it/s, val_loss 9.7084]\n",
      "[0018/0100] Train:   0%|                                                     | 0/70 [00:00<?, ?it/s]"
     ]
    },
    {
     "name": "stdout",
     "output_type": "stream",
     "text": [
      "                  validation\n",
      " - Yaw          :   2.345218\n",
      " - Pitch        :   1.856603\n",
      " - Roll         :   2.366150\n",
      " - RMS          :   2.201945\n",
      " - 99% Tile     :  10.579390\n",
      "Save output signals into checkpoint/Scene3-LSTM4/sample/0017.npy\n"
     ]
    },
    {
     "name": "stderr",
     "output_type": "stream",
     "text": [
      "[0018/0100] Train: 100%|██████████████████████████████| 70/70 [00:28<00:00,  2.49it/s, loss 17.1872]\n",
      "[0018/0100] Validation: 100%|██████████████████████| 67/67 [00:06<00:00, 10.09it/s, val_loss 8.7568]\n",
      "[0019/0100] Train:   0%|                                                     | 0/70 [00:00<?, ?it/s]"
     ]
    },
    {
     "name": "stdout",
     "output_type": "stream",
     "text": [
      "                  validation\n",
      " - Yaw          :   1.857784\n",
      " - Pitch        :   1.885209\n",
      " - Roll         :   2.353315\n",
      " - RMS          :   2.044788\n",
      " - 99% Tile     :  10.104862\n",
      "Save output signals into checkpoint/Scene3-LSTM4/sample/0018.npy\n"
     ]
    },
    {
     "name": "stderr",
     "output_type": "stream",
     "text": [
      "[0019/0100] Train: 100%|██████████████████████████████| 70/70 [00:28<00:00,  2.48it/s, loss 14.4135]\n",
      "[0019/0100] Validation: 100%|██████████████████████| 67/67 [00:06<00:00, 10.02it/s, val_loss 7.9876]\n",
      "[0020/0100] Train:   0%|                                                     | 0/70 [00:00<?, ?it/s]"
     ]
    },
    {
     "name": "stdout",
     "output_type": "stream",
     "text": [
      "                  validation\n",
      " - Yaw          :   1.552439\n",
      " - Pitch        :   1.734778\n",
      " - Roll         :   2.383733\n",
      " - RMS          :   1.923686\n",
      " - 99% Tile     :   9.758425\n",
      "Save output signals into checkpoint/Scene3-LSTM4/sample/0019.npy\n"
     ]
    },
    {
     "name": "stderr",
     "output_type": "stream",
     "text": [
      "[0020/0100] Train: 100%|██████████████████████████████| 70/70 [00:28<00:00,  2.47it/s, loss 13.2230]\n",
      "[0020/0100] Validation: 100%|██████████████████████| 67/67 [00:07<00:00,  9.29it/s, val_loss 8.2241]\n",
      "[0021/0100] Train:   0%|                                                     | 0/70 [00:00<?, ?it/s]"
     ]
    },
    {
     "name": "stdout",
     "output_type": "stream",
     "text": [
      "val_loss is not improved for 1 epochs\n",
      "                  validation\n",
      " - Yaw          :   2.038468\n",
      " - Pitch        :   1.517197\n",
      " - Roll         :   2.330684\n",
      " - RMS          :   1.990756\n",
      " - 99% Tile     :   9.424193\n",
      "Save output signals into checkpoint/Scene3-LSTM4/sample/0020.npy\n"
     ]
    },
    {
     "name": "stderr",
     "output_type": "stream",
     "text": [
      "[0021/0100] Train: 100%|██████████████████████████████| 70/70 [00:28<00:00,  2.46it/s, loss 13.1625]\n",
      "[0021/0100] Validation: 100%|██████████████████████| 67/67 [00:07<00:00,  9.41it/s, val_loss 8.0411]\n",
      "[0022/0100] Train:   0%|                                                     | 0/70 [00:00<?, ?it/s]"
     ]
    },
    {
     "name": "stdout",
     "output_type": "stream",
     "text": [
      "val_loss is not improved for 2 epochs\n",
      "                  validation\n",
      " - Yaw          :   1.950280\n",
      " - Pitch        :   1.706688\n",
      " - Roll         :   2.271102\n",
      " - RMS          :   1.989496\n",
      " - 99% Tile     :   9.672581\n",
      "Save output signals into checkpoint/Scene3-LSTM4/sample/0021.npy\n"
     ]
    },
    {
     "name": "stderr",
     "output_type": "stream",
     "text": [
      "[0022/0100] Train: 100%|██████████████████████████████| 70/70 [00:28<00:00,  2.42it/s, loss 11.6347]\n",
      "[0022/0100] Validation: 100%|██████████████████████| 67/67 [00:07<00:00,  9.55it/s, val_loss 8.7336]\n",
      "[0023/0100] Train:   0%|                                                     | 0/70 [00:00<?, ?it/s]"
     ]
    },
    {
     "name": "stdout",
     "output_type": "stream",
     "text": [
      "val_loss is not improved for 3 epochs\n",
      "                  validation\n",
      " - Yaw          :   2.418946\n",
      " - Pitch        :   1.795301\n",
      " - Roll         :   2.287838\n",
      " - RMS          :   2.183927\n",
      " - 99% Tile     :   9.366792\n",
      "Save output signals into checkpoint/Scene3-LSTM4/sample/0022.npy\n"
     ]
    },
    {
     "name": "stderr",
     "output_type": "stream",
     "text": [
      "[0023/0100] Train: 100%|██████████████████████████████| 70/70 [00:28<00:00,  2.43it/s, loss 11.2498]\n",
      "[0023/0100] Validation: 100%|██████████████████████| 67/67 [00:06<00:00, 10.02it/s, val_loss 6.7172]\n",
      "[0024/0100] Train:   0%|                                                     | 0/70 [00:00<?, ?it/s]"
     ]
    },
    {
     "name": "stdout",
     "output_type": "stream",
     "text": [
      "                  validation\n",
      " - Yaw          :   1.524805\n",
      " - Pitch        :   1.335817\n",
      " - Roll         :   2.322577\n",
      " - RMS          :   1.779869\n",
      " - 99% Tile     :   9.088669\n",
      "Save output signals into checkpoint/Scene3-LSTM4/sample/0023.npy\n"
     ]
    },
    {
     "name": "stderr",
     "output_type": "stream",
     "text": [
      "[0024/0100] Train: 100%|██████████████████████████████| 70/70 [00:28<00:00,  2.44it/s, loss 10.2270]\n",
      "[0024/0100] Validation: 100%|██████████████████████| 67/67 [00:06<00:00, 10.04it/s, val_loss 8.4734]\n",
      "[0025/0100] Train:   0%|                                                     | 0/70 [00:00<?, ?it/s]"
     ]
    },
    {
     "name": "stdout",
     "output_type": "stream",
     "text": [
      "val_loss is not improved for 1 epochs\n",
      "                  validation\n",
      " - Yaw          :   2.484776\n",
      " - Pitch        :   1.798479\n",
      " - Roll         :   2.313737\n",
      " - RMS          :   2.218259\n",
      " - 99% Tile     :   8.797800\n",
      "Save output signals into checkpoint/Scene3-LSTM4/sample/0024.npy\n"
     ]
    },
    {
     "name": "stderr",
     "output_type": "stream",
     "text": [
      "[0025/0100] Train: 100%|███████████████████████████████| 70/70 [00:29<00:00,  2.41it/s, loss 9.9306]\n",
      "[0025/0100] Validation: 100%|██████████████████████| 67/67 [00:06<00:00,  9.98it/s, val_loss 6.3622]\n",
      "[0026/0100] Train:   0%|                                                     | 0/70 [00:00<?, ?it/s]"
     ]
    },
    {
     "name": "stdout",
     "output_type": "stream",
     "text": [
      "                  validation\n",
      " - Yaw          :   1.366712\n",
      " - Pitch        :   1.319389\n",
      " - Roll         :   2.343780\n",
      " - RMS          :   1.741838\n",
      " - 99% Tile     :   8.664438\n",
      "Save output signals into checkpoint/Scene3-LSTM4/sample/0025.npy\n"
     ]
    },
    {
     "name": "stderr",
     "output_type": "stream",
     "text": [
      "[0026/0100] Train: 100%|███████████████████████████████| 70/70 [00:29<00:00,  2.40it/s, loss 9.2561]\n",
      "[0026/0100] Validation: 100%|██████████████████████| 67/67 [00:06<00:00,  9.89it/s, val_loss 5.7446]\n",
      "[0027/0100] Train:   0%|                                                     | 0/70 [00:00<?, ?it/s]"
     ]
    },
    {
     "name": "stdout",
     "output_type": "stream",
     "text": [
      "                  validation\n",
      " - Yaw          :   1.240279\n",
      " - Pitch        :   1.224661\n",
      " - Roll         :   2.309066\n",
      " - RMS          :   1.670317\n",
      " - 99% Tile     :   7.941426\n",
      "Save output signals into checkpoint/Scene3-LSTM4/sample/0026.npy\n"
     ]
    },
    {
     "name": "stderr",
     "output_type": "stream",
     "text": [
      "[0027/0100] Train: 100%|███████████████████████████████| 70/70 [00:28<00:00,  2.42it/s, loss 8.8853]\n",
      "[0027/0100] Validation: 100%|██████████████████████| 67/67 [00:06<00:00, 10.34it/s, val_loss 6.2467]\n",
      "[0028/0100] Train:   0%|                                                     | 0/70 [00:00<?, ?it/s]"
     ]
    },
    {
     "name": "stdout",
     "output_type": "stream",
     "text": [
      "val_loss is not improved for 1 epochs\n",
      "                  validation\n",
      " - Yaw          :   1.707308\n",
      " - Pitch        :   1.260011\n",
      " - Roll         :   2.255042\n",
      " - RMS          :   1.787712\n",
      " - 99% Tile     :   8.167466\n",
      "Save output signals into checkpoint/Scene3-LSTM4/sample/0027.npy\n"
     ]
    },
    {
     "name": "stderr",
     "output_type": "stream",
     "text": [
      "[0028/0100] Train: 100%|███████████████████████████████| 70/70 [00:28<00:00,  2.42it/s, loss 8.5759]\n",
      "[0028/0100] Validation: 100%|██████████████████████| 67/67 [00:06<00:00, 10.51it/s, val_loss 6.7791]\n",
      "[0029/0100] Train:   0%|                                                     | 0/70 [00:00<?, ?it/s]"
     ]
    },
    {
     "name": "stdout",
     "output_type": "stream",
     "text": [
      "val_loss is not improved for 2 epochs\n",
      "                  validation\n",
      " - Yaw          :   1.942464\n",
      " - Pitch        :   1.499409\n",
      " - Roll         :   2.317000\n",
      " - RMS          :   1.948494\n",
      " - 99% Tile     :   8.141607\n",
      "Save output signals into checkpoint/Scene3-LSTM4/sample/0028.npy\n"
     ]
    },
    {
     "name": "stderr",
     "output_type": "stream",
     "text": [
      "[0029/0100] Train: 100%|███████████████████████████████| 70/70 [00:29<00:00,  2.41it/s, loss 8.3175]\n",
      "[0029/0100] Validation: 100%|██████████████████████| 67/67 [00:06<00:00, 10.35it/s, val_loss 6.6877]\n",
      "[0030/0100] Train:   0%|                                                     | 0/70 [00:00<?, ?it/s]"
     ]
    },
    {
     "name": "stdout",
     "output_type": "stream",
     "text": [
      "val_loss is not improved for 3 epochs\n",
      "                  validation\n",
      " - Yaw          :   1.952005\n",
      " - Pitch        :   1.296461\n",
      " - Roll         :   2.297058\n",
      " - RMS          :   1.894519\n",
      " - 99% Tile     :   8.003246\n",
      "Save output signals into checkpoint/Scene3-LSTM4/sample/0029.npy\n"
     ]
    },
    {
     "name": "stderr",
     "output_type": "stream",
     "text": [
      "[0030/0100] Train: 100%|███████████████████████████████| 70/70 [00:29<00:00,  2.36it/s, loss 7.9376]\n",
      "[0030/0100] Validation: 100%|██████████████████████| 67/67 [00:06<00:00, 10.15it/s, val_loss 5.7797]\n",
      "[0031/0100] Train:   0%|                                                     | 0/70 [00:00<?, ?it/s]"
     ]
    },
    {
     "name": "stdout",
     "output_type": "stream",
     "text": [
      "val_loss is not improved for 4 epochs\n",
      "                  validation\n",
      " - Yaw          :   1.328131\n",
      " - Pitch        :   1.329576\n",
      " - Roll         :   2.305955\n",
      " - RMS          :   1.717472\n",
      " - 99% Tile     :   7.813451\n",
      "Save output signals into checkpoint/Scene3-LSTM4/sample/0030.npy\n"
     ]
    },
    {
     "name": "stderr",
     "output_type": "stream",
     "text": [
      "[0031/0100] Train: 100%|███████████████████████████████| 70/70 [00:29<00:00,  2.40it/s, loss 7.9673]\n",
      "[0031/0100] Validation: 100%|██████████████████████| 67/67 [00:06<00:00, 10.43it/s, val_loss 5.5300]\n",
      "[0032/0100] Train:   0%|                                                     | 0/70 [00:00<?, ?it/s]"
     ]
    },
    {
     "name": "stdout",
     "output_type": "stream",
     "text": [
      "                  validation\n",
      " - Yaw          :   1.337757\n",
      " - Pitch        :   1.172441\n",
      " - Roll         :   2.327615\n",
      " - RMS          :   1.691351\n",
      " - 99% Tile     :   7.494107\n",
      "Save output signals into checkpoint/Scene3-LSTM4/sample/0031.npy\n"
     ]
    },
    {
     "name": "stderr",
     "output_type": "stream",
     "text": [
      "[0032/0100] Train: 100%|███████████████████████████████| 70/70 [00:29<00:00,  2.38it/s, loss 7.5650]\n",
      "[0032/0100] Validation: 100%|██████████████████████| 67/67 [00:06<00:00, 10.36it/s, val_loss 5.9695]\n",
      "[0033/0100] Train:   0%|                                                     | 0/70 [00:00<?, ?it/s]"
     ]
    },
    {
     "name": "stdout",
     "output_type": "stream",
     "text": [
      "val_loss is not improved for 1 epochs\n",
      "                  validation\n",
      " - Yaw          :   1.705463\n",
      " - Pitch        :   1.176400\n",
      " - Roll         :   2.319920\n",
      " - RMS          :   1.795787\n",
      " - 99% Tile     :   7.842751\n",
      "Save output signals into checkpoint/Scene3-LSTM4/sample/0032.npy\n"
     ]
    },
    {
     "name": "stderr",
     "output_type": "stream",
     "text": [
      "[0033/0100] Train: 100%|███████████████████████████████| 70/70 [00:29<00:00,  2.41it/s, loss 7.2441]\n",
      "[0033/0100] Validation: 100%|██████████████████████| 67/67 [00:06<00:00, 10.33it/s, val_loss 5.5574]\n",
      "[0034/0100] Train:   0%|                                                     | 0/70 [00:00<?, ?it/s]"
     ]
    },
    {
     "name": "stdout",
     "output_type": "stream",
     "text": [
      "val_loss is not improved for 2 epochs\n",
      "                  validation\n",
      " - Yaw          :   1.238762\n",
      " - Pitch        :   1.409098\n",
      " - Roll         :   2.281066\n",
      " - RMS          :   1.705223\n",
      " - 99% Tile     :   7.472172\n",
      "Save output signals into checkpoint/Scene3-LSTM4/sample/0033.npy\n"
     ]
    },
    {
     "name": "stderr",
     "output_type": "stream",
     "text": [
      "[0034/0100] Train: 100%|███████████████████████████████| 70/70 [00:29<00:00,  2.40it/s, loss 7.6493]\n",
      "[0034/0100] Validation: 100%|██████████████████████| 67/67 [00:06<00:00, 10.27it/s, val_loss 6.8827]\n",
      "[0035/0100] Train:   0%|                                                     | 0/70 [00:00<?, ?it/s]"
     ]
    },
    {
     "name": "stdout",
     "output_type": "stream",
     "text": [
      "val_loss is not improved for 3 epochs\n",
      "                  validation\n",
      " - Yaw          :   2.130074\n",
      " - Pitch        :   1.317793\n",
      " - Roll         :   2.235633\n",
      " - RMS          :   1.938371\n",
      " - 99% Tile     :   7.837205\n",
      "Save output signals into checkpoint/Scene3-LSTM4/sample/0034.npy\n"
     ]
    },
    {
     "name": "stderr",
     "output_type": "stream",
     "text": [
      "[0035/0100] Train: 100%|███████████████████████████████| 70/70 [00:29<00:00,  2.40it/s, loss 7.1239]\n",
      "[0035/0100] Validation: 100%|██████████████████████| 67/67 [00:07<00:00,  9.27it/s, val_loss 6.0654]\n",
      "[0036/0100] Train:   0%|                                                     | 0/70 [00:00<?, ?it/s]"
     ]
    },
    {
     "name": "stdout",
     "output_type": "stream",
     "text": [
      "val_loss is not improved for 4 epochs\n",
      "                  validation\n",
      " - Yaw          :   1.446246\n",
      " - Pitch        :   1.345467\n",
      " - Roll         :   2.285546\n",
      " - RMS          :   1.744098\n",
      " - 99% Tile     :   8.363981\n",
      "Save output signals into checkpoint/Scene3-LSTM4/sample/0035.npy\n"
     ]
    },
    {
     "name": "stderr",
     "output_type": "stream",
     "text": [
      "[0036/0100] Train: 100%|███████████████████████████████| 70/70 [00:40<00:00,  1.73it/s, loss 6.7804]\n",
      "[0036/0100] Validation: 100%|██████████████████████| 67/67 [00:09<00:00,  7.07it/s, val_loss 6.4565]\n",
      "[0037/0100] Train:   0%|                                                     | 0/70 [00:00<?, ?it/s]"
     ]
    },
    {
     "name": "stdout",
     "output_type": "stream",
     "text": [
      "Decaying lr from 0.001 to 0.0005 because val_loss did not improved for 5 epochs\n",
      "val_loss is not improved for 5 epochs\n",
      "                  validation\n",
      " - Yaw          :   1.799481\n",
      " - Pitch        :   1.258714\n",
      " - Roll         :   2.334974\n",
      " - RMS          :   1.850639\n",
      " - 99% Tile     :   7.978023\n",
      "Save output signals into checkpoint/Scene3-LSTM4/sample/0036.npy\n"
     ]
    },
    {
     "name": "stderr",
     "output_type": "stream",
     "text": [
      "[0037/0100] Train: 100%|███████████████████████████████| 70/70 [00:39<00:00,  1.75it/s, loss 6.4186]\n",
      "[0037/0100] Validation: 100%|██████████████████████| 67/67 [00:09<00:00,  6.90it/s, val_loss 5.4544]\n",
      "[0038/0100] Train:   0%|                                                     | 0/70 [00:00<?, ?it/s]"
     ]
    },
    {
     "name": "stdout",
     "output_type": "stream",
     "text": [
      "                  validation\n",
      " - Yaw          :   1.186451\n",
      " - Pitch        :   1.204289\n",
      " - Roll         :   2.276505\n",
      " - RMS          :   1.637117\n",
      " - 99% Tile     :   8.054919\n",
      "Save output signals into checkpoint/Scene3-LSTM4/sample/0037.npy\n"
     ]
    },
    {
     "name": "stderr",
     "output_type": "stream",
     "text": [
      "[0038/0100] Train: 100%|███████████████████████████████| 70/70 [00:39<00:00,  1.76it/s, loss 6.2884]\n",
      "[0038/0100] Validation: 100%|██████████████████████| 67/67 [00:10<00:00,  6.69it/s, val_loss 6.3633]\n",
      "[0039/0100] Train:   0%|                                                     | 0/70 [00:00<?, ?it/s]"
     ]
    },
    {
     "name": "stdout",
     "output_type": "stream",
     "text": [
      "val_loss is not improved for 1 epochs\n",
      "                  validation\n",
      " - Yaw          :   1.737105\n",
      " - Pitch        :   1.281105\n",
      " - Roll         :   2.264352\n",
      " - RMS          :   1.806106\n",
      " - 99% Tile     :   8.306055\n",
      "Save output signals into checkpoint/Scene3-LSTM4/sample/0038.npy\n"
     ]
    },
    {
     "name": "stderr",
     "output_type": "stream",
     "text": [
      "[0039/0100] Train: 100%|███████████████████████████████| 70/70 [00:40<00:00,  1.72it/s, loss 6.2982]\n",
      "[0039/0100] Validation: 100%|██████████████████████| 67/67 [00:09<00:00,  7.26it/s, val_loss 5.3399]\n",
      "[0040/0100] Train:   0%|                                                     | 0/70 [00:00<?, ?it/s]"
     ]
    },
    {
     "name": "stdout",
     "output_type": "stream",
     "text": [
      "                  validation\n",
      " - Yaw          :   1.191408\n",
      " - Pitch        :   1.164897\n",
      " - Roll         :   2.255313\n",
      " - RMS          :   1.618937\n",
      " - 99% Tile     :   7.518993\n",
      "Save output signals into checkpoint/Scene3-LSTM4/sample/0039.npy\n"
     ]
    },
    {
     "name": "stderr",
     "output_type": "stream",
     "text": [
      "[0040/0100] Train: 100%|███████████████████████████████| 70/70 [00:40<00:00,  1.73it/s, loss 6.0690]\n",
      "[0040/0100] Validation: 100%|██████████████████████| 67/67 [00:08<00:00,  7.66it/s, val_loss 5.2791]\n",
      "[0041/0100] Train:   0%|                                                     | 0/70 [00:00<?, ?it/s]"
     ]
    },
    {
     "name": "stdout",
     "output_type": "stream",
     "text": [
      "                  validation\n",
      " - Yaw          :   1.250560\n",
      " - Pitch        :   1.059851\n",
      " - Roll         :   2.260080\n",
      " - RMS          :   1.611950\n",
      " - 99% Tile     :   7.749263\n",
      "Save output signals into checkpoint/Scene3-LSTM4/sample/0040.npy\n"
     ]
    },
    {
     "name": "stderr",
     "output_type": "stream",
     "text": [
      "[0041/0100] Train: 100%|███████████████████████████████| 70/70 [00:40<00:00,  1.74it/s, loss 5.9585]\n",
      "[0041/0100] Validation: 100%|██████████████████████| 67/67 [00:09<00:00,  6.77it/s, val_loss 5.2185]\n",
      "[0042/0100] Train:   0%|                                                     | 0/70 [00:00<?, ?it/s]"
     ]
    },
    {
     "name": "stdout",
     "output_type": "stream",
     "text": [
      "                  validation\n",
      " - Yaw          :   1.194775\n",
      " - Pitch        :   1.125702\n",
      " - Roll         :   2.277071\n",
      " - RMS          :   1.620673\n",
      " - 99% Tile     :   7.556527\n",
      "Save output signals into checkpoint/Scene3-LSTM4/sample/0041.npy\n"
     ]
    },
    {
     "name": "stderr",
     "output_type": "stream",
     "text": [
      "[0042/0100] Train: 100%|███████████████████████████████| 70/70 [00:40<00:00,  1.73it/s, loss 5.8633]\n",
      "[0042/0100] Validation: 100%|██████████████████████| 67/67 [00:10<00:00,  6.56it/s, val_loss 5.9783]\n",
      "[0043/0100] Train:   0%|                                                     | 0/70 [00:00<?, ?it/s]"
     ]
    },
    {
     "name": "stdout",
     "output_type": "stream",
     "text": [
      "val_loss is not improved for 1 epochs\n",
      "                  validation\n",
      " - Yaw          :   1.674175\n",
      " - Pitch        :   1.189573\n",
      " - Roll         :   2.279321\n",
      " - RMS          :   1.771370\n",
      " - 99% Tile     :   8.184522\n",
      "Save output signals into checkpoint/Scene3-LSTM4/sample/0042.npy\n"
     ]
    },
    {
     "name": "stderr",
     "output_type": "stream",
     "text": [
      "[0043/0100] Train: 100%|███████████████████████████████| 70/70 [00:39<00:00,  1.76it/s, loss 6.0709]\n",
      "[0043/0100] Validation: 100%|██████████████████████| 67/67 [00:09<00:00,  7.06it/s, val_loss 5.3400]\n",
      "[0044/0100] Train:   0%|                                                     | 0/70 [00:00<?, ?it/s]"
     ]
    },
    {
     "name": "stdout",
     "output_type": "stream",
     "text": [
      "val_loss is not improved for 2 epochs\n",
      "                  validation\n",
      " - Yaw          :   1.245157\n",
      " - Pitch        :   1.219408\n",
      " - Roll         :   2.281485\n",
      " - RMS          :   1.657563\n",
      " - 99% Tile     :   7.406883\n",
      "Save output signals into checkpoint/Scene3-LSTM4/sample/0043.npy\n"
     ]
    },
    {
     "name": "stderr",
     "output_type": "stream",
     "text": [
      "[0044/0100] Train: 100%|███████████████████████████████| 70/70 [00:39<00:00,  1.76it/s, loss 5.7801]\n",
      "[0044/0100] Validation: 100%|██████████████████████| 67/67 [00:09<00:00,  7.36it/s, val_loss 5.0282]\n",
      "[0045/0100] Train:   0%|                                                     | 0/70 [00:00<?, ?it/s]"
     ]
    },
    {
     "name": "stdout",
     "output_type": "stream",
     "text": [
      "                  validation\n",
      " - Yaw          :   1.177800\n",
      " - Pitch        :   1.074372\n",
      " - Roll         :   2.248592\n",
      " - RMS          :   1.591399\n",
      " - 99% Tile     :   7.325613\n",
      "Save output signals into checkpoint/Scene3-LSTM4/sample/0044.npy\n"
     ]
    },
    {
     "name": "stderr",
     "output_type": "stream",
     "text": [
      "[0045/0100] Train: 100%|███████████████████████████████| 70/70 [00:40<00:00,  1.74it/s, loss 5.8468]\n",
      "[0045/0100] Validation: 100%|██████████████████████| 67/67 [00:08<00:00,  7.44it/s, val_loss 6.2310]\n",
      "[0046/0100] Train:   0%|                                                     | 0/70 [00:00<?, ?it/s]"
     ]
    },
    {
     "name": "stdout",
     "output_type": "stream",
     "text": [
      "val_loss is not improved for 1 epochs\n",
      "                  validation\n",
      " - Yaw          :   1.827521\n",
      " - Pitch        :   1.226872\n",
      " - Roll         :   2.270224\n",
      " - RMS          :   1.825647\n",
      " - 99% Tile     :   7.984317\n",
      "Save output signals into checkpoint/Scene3-LSTM4/sample/0045.npy\n"
     ]
    },
    {
     "name": "stderr",
     "output_type": "stream",
     "text": [
      "[0046/0100] Train: 100%|███████████████████████████████| 70/70 [00:39<00:00,  1.76it/s, loss 5.6982]\n",
      "[0046/0100] Validation: 100%|██████████████████████| 67/67 [00:09<00:00,  7.41it/s, val_loss 5.7491]\n",
      "[0047/0100] Train:   0%|                                                     | 0/70 [00:00<?, ?it/s]"
     ]
    },
    {
     "name": "stdout",
     "output_type": "stream",
     "text": [
      "val_loss is not improved for 2 epochs\n",
      "                  validation\n",
      " - Yaw          :   1.591614\n",
      " - Pitch        :   1.262902\n",
      " - Roll         :   2.263614\n",
      " - RMS          :   1.756142\n",
      " - 99% Tile     :   7.453036\n",
      "Save output signals into checkpoint/Scene3-LSTM4/sample/0046.npy\n"
     ]
    },
    {
     "name": "stderr",
     "output_type": "stream",
     "text": [
      "[0047/0100] Train: 100%|███████████████████████████████| 70/70 [00:39<00:00,  1.78it/s, loss 5.8950]\n",
      "[0047/0100] Validation: 100%|██████████████████████| 67/67 [00:08<00:00,  7.50it/s, val_loss 5.3365]\n",
      "[0048/0100] Train:   0%|                                                     | 0/70 [00:00<?, ?it/s]"
     ]
    },
    {
     "name": "stdout",
     "output_type": "stream",
     "text": [
      "val_loss is not improved for 3 epochs\n",
      "                  validation\n",
      " - Yaw          :   1.196506\n",
      " - Pitch        :   1.160617\n",
      " - Roll         :   2.253791\n",
      " - RMS          :   1.618460\n",
      " - 99% Tile     :   7.655377\n",
      "Save output signals into checkpoint/Scene3-LSTM4/sample/0047.npy\n"
     ]
    },
    {
     "name": "stderr",
     "output_type": "stream",
     "text": [
      "[0048/0100] Train: 100%|███████████████████████████████| 70/70 [00:39<00:00,  1.76it/s, loss 5.7062]\n",
      "[0048/0100] Validation: 100%|██████████████████████| 67/67 [00:09<00:00,  7.26it/s, val_loss 5.2950]\n",
      "[0049/0100] Train:   0%|                                                     | 0/70 [00:00<?, ?it/s]"
     ]
    },
    {
     "name": "stdout",
     "output_type": "stream",
     "text": [
      "val_loss is not improved for 4 epochs\n",
      "                  validation\n",
      " - Yaw          :   1.239864\n",
      " - Pitch        :   1.155905\n",
      " - Roll         :   2.216927\n",
      " - RMS          :   1.611225\n",
      " - 99% Tile     :   7.855047\n",
      "Save output signals into checkpoint/Scene3-LSTM4/sample/0048.npy\n"
     ]
    },
    {
     "name": "stderr",
     "output_type": "stream",
     "text": [
      "[0049/0100] Train: 100%|███████████████████████████████| 70/70 [00:39<00:00,  1.77it/s, loss 5.5038]\n",
      "[0049/0100] Validation: 100%|██████████████████████| 67/67 [00:09<00:00,  6.88it/s, val_loss 4.7657]\n",
      "[0050/0100] Train:   0%|                                                     | 0/70 [00:00<?, ?it/s]"
     ]
    },
    {
     "name": "stdout",
     "output_type": "stream",
     "text": [
      "                  validation\n",
      " - Yaw          :   1.020006\n",
      " - Pitch        :   1.155202\n",
      " - Roll         :   2.185522\n",
      " - RMS          :   1.543957\n",
      " - 99% Tile     :   7.168608\n",
      "Save output signals into checkpoint/Scene3-LSTM4/sample/0049.npy\n"
     ]
    },
    {
     "name": "stderr",
     "output_type": "stream",
     "text": [
      "[0050/0100] Train: 100%|███████████████████████████████| 70/70 [00:39<00:00,  1.79it/s, loss 5.5243]\n",
      "[0050/0100] Validation: 100%|██████████████████████| 67/67 [00:09<00:00,  7.27it/s, val_loss 5.2406]\n",
      "[0051/0100] Train:   0%|                                                     | 0/70 [00:00<?, ?it/s]"
     ]
    },
    {
     "name": "stdout",
     "output_type": "stream",
     "text": [
      "val_loss is not improved for 1 epochs\n",
      "                  validation\n",
      " - Yaw          :   1.380360\n",
      " - Pitch        :   1.200142\n",
      " - Roll         :   2.218515\n",
      " - RMS          :   1.660075\n",
      " - 99% Tile     :   7.291759\n",
      "Save output signals into checkpoint/Scene3-LSTM4/sample/0050.npy\n"
     ]
    },
    {
     "name": "stderr",
     "output_type": "stream",
     "text": [
      "[0051/0100] Train: 100%|███████████████████████████████| 70/70 [00:39<00:00,  1.77it/s, loss 5.3360]\n",
      "[0051/0100] Validation: 100%|██████████████████████| 67/67 [00:09<00:00,  7.41it/s, val_loss 4.8544]\n",
      "[0052/0100] Train:   0%|                                                     | 0/70 [00:00<?, ?it/s]"
     ]
    },
    {
     "name": "stdout",
     "output_type": "stream",
     "text": [
      "val_loss is not improved for 2 epochs\n",
      "                  validation\n",
      " - Yaw          :   1.083371\n",
      " - Pitch        :   1.128337\n",
      " - Roll         :   2.219962\n",
      " - RMS          :   1.567914\n",
      " - 99% Tile     :   7.394718\n",
      "Save output signals into checkpoint/Scene3-LSTM4/sample/0051.npy\n"
     ]
    },
    {
     "name": "stderr",
     "output_type": "stream",
     "text": [
      "[0052/0100] Train: 100%|███████████████████████████████| 70/70 [00:39<00:00,  1.78it/s, loss 5.2348]\n",
      "[0052/0100] Validation: 100%|██████████████████████| 67/67 [00:09<00:00,  7.07it/s, val_loss 4.9818]\n",
      "[0053/0100] Train:   0%|                                                     | 0/70 [00:00<?, ?it/s]"
     ]
    },
    {
     "name": "stdout",
     "output_type": "stream",
     "text": [
      "val_loss is not improved for 3 epochs\n",
      "                  validation\n",
      " - Yaw          :   1.096188\n",
      " - Pitch        :   1.101618\n",
      " - Roll         :   2.241881\n",
      " - RMS          :   1.574931\n",
      " - 99% Tile     :   7.534625\n",
      "Save output signals into checkpoint/Scene3-LSTM4/sample/0052.npy\n"
     ]
    },
    {
     "name": "stderr",
     "output_type": "stream",
     "text": [
      "[0053/0100] Train: 100%|███████████████████████████████| 70/70 [00:39<00:00,  1.75it/s, loss 5.2795]\n",
      "[0053/0100] Validation: 100%|██████████████████████| 67/67 [00:09<00:00,  6.98it/s, val_loss 4.9639]\n",
      "[0054/0100] Train:   0%|                                                     | 0/70 [00:00<?, ?it/s]"
     ]
    },
    {
     "name": "stdout",
     "output_type": "stream",
     "text": [
      "val_loss is not improved for 4 epochs\n",
      "                  validation\n",
      " - Yaw          :   0.966153\n",
      " - Pitch        :   1.264812\n",
      " - Roll         :   2.258311\n",
      " - RMS          :   1.595115\n",
      " - 99% Tile     :   7.439618\n",
      "Save output signals into checkpoint/Scene3-LSTM4/sample/0053.npy\n"
     ]
    },
    {
     "name": "stderr",
     "output_type": "stream",
     "text": [
      "[0054/0100] Train: 100%|███████████████████████████████| 70/70 [00:39<00:00,  1.76it/s, loss 5.2377]\n",
      "[0054/0100] Validation: 100%|██████████████████████| 67/67 [00:09<00:00,  7.31it/s, val_loss 5.1640]\n",
      "[0055/0100] Train:   0%|                                                     | 0/70 [00:00<?, ?it/s]"
     ]
    },
    {
     "name": "stdout",
     "output_type": "stream",
     "text": [
      "Decaying lr from 0.0005 to 0.00025 because val_loss did not improved for 5 epochs\n",
      "val_loss is not improved for 5 epochs\n",
      "                  validation\n",
      " - Yaw          :   1.243331\n",
      " - Pitch        :   1.299915\n",
      " - Roll         :   2.224867\n",
      " - RMS          :   1.651836\n",
      " - 99% Tile     :   7.483417\n",
      "Save output signals into checkpoint/Scene3-LSTM4/sample/0054.npy\n"
     ]
    },
    {
     "name": "stderr",
     "output_type": "stream",
     "text": [
      "[0055/0100] Train: 100%|███████████████████████████████| 70/70 [00:38<00:00,  1.80it/s, loss 5.0367]\n",
      "[0055/0100] Validation: 100%|██████████████████████| 67/67 [00:08<00:00,  7.47it/s, val_loss 4.8083]\n",
      "[0056/0100] Train:   0%|                                                     | 0/70 [00:00<?, ?it/s]"
     ]
    },
    {
     "name": "stdout",
     "output_type": "stream",
     "text": [
      "val_loss is not improved for 6 epochs\n",
      "                  validation\n",
      " - Yaw          :   1.059092\n",
      " - Pitch        :   1.173517\n",
      " - Roll         :   2.226434\n",
      " - RMS          :   1.576476\n",
      " - 99% Tile     :   7.230645\n",
      "Save output signals into checkpoint/Scene3-LSTM4/sample/0055.npy\n"
     ]
    },
    {
     "name": "stderr",
     "output_type": "stream",
     "text": [
      "[0056/0100] Train: 100%|███████████████████████████████| 70/70 [00:38<00:00,  1.81it/s, loss 4.9702]\n",
      "[0056/0100] Validation: 100%|██████████████████████| 67/67 [00:09<00:00,  7.09it/s, val_loss 4.6557]\n",
      "[0057/0100] Train:   0%|                                                     | 0/70 [00:00<?, ?it/s]"
     ]
    },
    {
     "name": "stdout",
     "output_type": "stream",
     "text": [
      "                  validation\n",
      " - Yaw          :   1.090876\n",
      " - Pitch        :   1.158560\n",
      " - Roll         :   2.162639\n",
      " - RMS          :   1.550191\n",
      " - 99% Tile     :   7.117776\n",
      "Save output signals into checkpoint/Scene3-LSTM4/sample/0056.npy\n"
     ]
    },
    {
     "name": "stderr",
     "output_type": "stream",
     "text": [
      "[0057/0100] Train: 100%|███████████████████████████████| 70/70 [00:38<00:00,  1.81it/s, loss 4.9946]\n",
      "[0057/0100] Validation: 100%|██████████████████████| 67/67 [00:08<00:00,  7.52it/s, val_loss 4.6981]\n",
      "[0058/0100] Train:   0%|                                                     | 0/70 [00:00<?, ?it/s]"
     ]
    },
    {
     "name": "stdout",
     "output_type": "stream",
     "text": [
      "val_loss is not improved for 1 epochs\n",
      "                  validation\n",
      " - Yaw          :   1.159863\n",
      " - Pitch        :   1.132246\n",
      " - Roll         :   2.169398\n",
      " - RMS          :   1.563495\n",
      " - 99% Tile     :   7.062903\n",
      "Save output signals into checkpoint/Scene3-LSTM4/sample/0057.npy\n"
     ]
    },
    {
     "name": "stderr",
     "output_type": "stream",
     "text": [
      "[0058/0100] Train: 100%|███████████████████████████████| 70/70 [00:38<00:00,  1.80it/s, loss 4.8276]\n",
      "[0058/0100] Validation: 100%|██████████████████████| 67/67 [00:09<00:00,  7.39it/s, val_loss 4.8143]\n",
      "[0059/0100] Train:   0%|                                                     | 0/70 [00:00<?, ?it/s]"
     ]
    },
    {
     "name": "stdout",
     "output_type": "stream",
     "text": [
      "val_loss is not improved for 2 epochs\n",
      "                  validation\n",
      " - Yaw          :   1.194004\n",
      " - Pitch        :   1.084022\n",
      " - Roll         :   2.193949\n",
      " - RMS          :   1.572065\n",
      " - 99% Tile     :   7.211020\n",
      "Save output signals into checkpoint/Scene3-LSTM4/sample/0058.npy\n"
     ]
    },
    {
     "name": "stderr",
     "output_type": "stream",
     "text": [
      "[0059/0100] Train: 100%|███████████████████████████████| 70/70 [00:29<00:00,  2.35it/s, loss 4.8033]\n",
      "[0059/0100] Validation: 100%|██████████████████████| 67/67 [00:07<00:00,  9.33it/s, val_loss 4.6290]\n",
      "[0060/0100] Train:   0%|                                                     | 0/70 [00:00<?, ?it/s]"
     ]
    },
    {
     "name": "stdout",
     "output_type": "stream",
     "text": [
      "                  validation\n",
      " - Yaw          :   1.021377\n",
      " - Pitch        :   1.123494\n",
      " - Roll         :   2.200603\n",
      " - RMS          :   1.543600\n",
      " - 99% Tile     :   7.078262\n",
      "Save output signals into checkpoint/Scene3-LSTM4/sample/0059.npy\n"
     ]
    },
    {
     "name": "stderr",
     "output_type": "stream",
     "text": [
      "[0060/0100] Train: 100%|███████████████████████████████| 70/70 [00:16<00:00,  4.12it/s, loss 4.7365]\n",
      "[0060/0100] Validation: 100%|██████████████████████| 67/67 [00:04<00:00, 13.58it/s, val_loss 4.6124]\n",
      "[0061/0100] Train:   0%|                                                     | 0/70 [00:00<?, ?it/s]"
     ]
    },
    {
     "name": "stdout",
     "output_type": "stream",
     "text": [
      "                  validation\n",
      " - Yaw          :   1.016525\n",
      " - Pitch        :   1.154684\n",
      " - Roll         :   2.168545\n",
      " - RMS          :   1.535058\n",
      " - 99% Tile     :   7.029942\n",
      "Save output signals into checkpoint/Scene3-LSTM4/sample/0060.npy\n"
     ]
    },
    {
     "name": "stderr",
     "output_type": "stream",
     "text": [
      "[0061/0100] Train: 100%|███████████████████████████████| 70/70 [00:14<00:00,  4.82it/s, loss 4.6751]\n",
      "[0061/0100] Validation: 100%|██████████████████████| 67/67 [00:04<00:00, 13.95it/s, val_loss 4.5158]\n",
      "[0062/0100] Train:   0%|                                                     | 0/70 [00:00<?, ?it/s]"
     ]
    },
    {
     "name": "stdout",
     "output_type": "stream",
     "text": [
      "                  validation\n",
      " - Yaw          :   0.942417\n",
      " - Pitch        :   1.121948\n",
      " - Roll         :   2.179948\n",
      " - RMS          :   1.516475\n",
      " - 99% Tile     :   6.963511\n",
      "Save output signals into checkpoint/Scene3-LSTM4/sample/0061.npy\n"
     ]
    },
    {
     "name": "stderr",
     "output_type": "stream",
     "text": [
      "[0062/0100] Train: 100%|███████████████████████████████| 70/70 [00:14<00:00,  4.82it/s, loss 4.6947]\n",
      "[0062/0100] Validation: 100%|██████████████████████| 67/67 [00:04<00:00, 13.99it/s, val_loss 4.4508]\n",
      "[0063/0100] Train:   0%|                                                     | 0/70 [00:00<?, ?it/s]"
     ]
    },
    {
     "name": "stdout",
     "output_type": "stream",
     "text": [
      "                  validation\n",
      " - Yaw          :   1.148394\n",
      " - Pitch        :   1.086779\n",
      " - Roll         :   2.110080\n",
      " - RMS          :   1.522316\n",
      " - 99% Tile     :   6.904934\n",
      "Save output signals into checkpoint/Scene3-LSTM4/sample/0062.npy\n"
     ]
    },
    {
     "name": "stderr",
     "output_type": "stream",
     "text": [
      "[0063/0100] Train: 100%|███████████████████████████████| 70/70 [00:14<00:00,  4.84it/s, loss 4.7203]\n",
      "[0063/0100] Validation: 100%|██████████████████████| 67/67 [00:04<00:00, 13.53it/s, val_loss 5.1350]\n",
      "[0064/0100] Train:   0%|                                                     | 0/70 [00:00<?, ?it/s]"
     ]
    },
    {
     "name": "stdout",
     "output_type": "stream",
     "text": [
      "val_loss is not improved for 1 epochs\n",
      "                  validation\n",
      " - Yaw          :   1.448271\n",
      " - Pitch        :   1.247674\n",
      " - Roll         :   2.075027\n",
      " - RMS          :   1.628897\n",
      " - 99% Tile     :   7.151389\n",
      "Save output signals into checkpoint/Scene3-LSTM4/sample/0063.npy\n"
     ]
    },
    {
     "name": "stderr",
     "output_type": "stream",
     "text": [
      "[0064/0100] Train: 100%|███████████████████████████████| 70/70 [00:14<00:00,  4.82it/s, loss 4.7000]\n",
      "[0064/0100] Validation: 100%|██████████████████████| 67/67 [00:04<00:00, 13.70it/s, val_loss 4.2498]\n",
      "[0065/0100] Train:   0%|                                                     | 0/70 [00:00<?, ?it/s]"
     ]
    },
    {
     "name": "stdout",
     "output_type": "stream",
     "text": [
      "                  validation\n",
      " - Yaw          :   1.079620\n",
      " - Pitch        :   1.181684\n",
      " - Roll         :   1.974119\n",
      " - RMS          :   1.467322\n",
      " - 99% Tile     :   6.650124\n",
      "Save output signals into checkpoint/Scene3-LSTM4/sample/0064.npy\n"
     ]
    },
    {
     "name": "stderr",
     "output_type": "stream",
     "text": [
      "[0065/0100] Train: 100%|███████████████████████████████| 70/70 [00:14<00:00,  4.83it/s, loss 4.3236]\n",
      "[0065/0100] Validation: 100%|██████████████████████| 67/67 [00:04<00:00, 13.56it/s, val_loss 4.0075]\n",
      "[0066/0100] Train:   0%|                                                     | 0/70 [00:00<?, ?it/s]"
     ]
    },
    {
     "name": "stdout",
     "output_type": "stream",
     "text": [
      "                  validation\n",
      " - Yaw          :   1.150304\n",
      " - Pitch        :   1.221005\n",
      " - Roll         :   1.763480\n",
      " - RMS          :   1.405218\n",
      " - 99% Tile     :   6.613557\n",
      "Save output signals into checkpoint/Scene3-LSTM4/sample/0065.npy\n"
     ]
    },
    {
     "name": "stderr",
     "output_type": "stream",
     "text": [
      "[0066/0100] Train: 100%|███████████████████████████████| 70/70 [00:14<00:00,  4.83it/s, loss 4.0332]\n",
      "[0066/0100] Validation: 100%|██████████████████████| 67/67 [00:04<00:00, 13.79it/s, val_loss 3.7183]\n",
      "[0067/0100] Train:   0%|                                                     | 0/70 [00:00<?, ?it/s]"
     ]
    },
    {
     "name": "stdout",
     "output_type": "stream",
     "text": [
      "                  validation\n",
      " - Yaw          :   1.196110\n",
      " - Pitch        :   1.109651\n",
      " - Roll         :   1.563111\n",
      " - RMS          :   1.304521\n",
      " - 99% Tile     :   6.636183\n",
      "Save output signals into checkpoint/Scene3-LSTM4/sample/0066.npy\n"
     ]
    },
    {
     "name": "stderr",
     "output_type": "stream",
     "text": [
      "[0067/0100] Train: 100%|███████████████████████████████| 70/70 [00:14<00:00,  4.75it/s, loss 3.8341]\n",
      "[0067/0100] Validation: 100%|██████████████████████| 67/67 [00:04<00:00, 13.49it/s, val_loss 3.3357]\n",
      "[0068/0100] Train:   0%|                                                     | 0/70 [00:00<?, ?it/s]"
     ]
    },
    {
     "name": "stdout",
     "output_type": "stream",
     "text": [
      "                  validation\n",
      " - Yaw          :   1.101105\n",
      " - Pitch        :   1.100186\n",
      " - Roll         :   1.431622\n",
      " - RMS          :   1.220981\n",
      " - 99% Tile     :   6.410626\n",
      "Save output signals into checkpoint/Scene3-LSTM4/sample/0067.npy\n"
     ]
    },
    {
     "name": "stderr",
     "output_type": "stream",
     "text": [
      "[0068/0100] Train: 100%|███████████████████████████████| 70/70 [00:14<00:00,  4.78it/s, loss 3.7188]\n",
      "[0068/0100] Validation: 100%|██████████████████████| 67/67 [00:04<00:00, 13.52it/s, val_loss 3.1580]\n",
      "[0069/0100] Train:   0%|                                                     | 0/70 [00:00<?, ?it/s]"
     ]
    },
    {
     "name": "stdout",
     "output_type": "stream",
     "text": [
      "                  validation\n",
      " - Yaw          :   1.173363\n",
      " - Pitch        :   1.028353\n",
      " - Roll         :   1.314116\n",
      " - RMS          :   1.177737\n",
      " - 99% Tile     :   6.308761\n",
      "Save output signals into checkpoint/Scene3-LSTM4/sample/0068.npy\n"
     ]
    },
    {
     "name": "stderr",
     "output_type": "stream",
     "text": [
      "[0069/0100] Train: 100%|███████████████████████████████| 70/70 [00:14<00:00,  4.82it/s, loss 3.6975]\n",
      "[0069/0100] Validation: 100%|██████████████████████| 67/67 [00:04<00:00, 13.59it/s, val_loss 3.0553]\n",
      "[0070/0100] Train:   0%|                                                     | 0/70 [00:00<?, ?it/s]"
     ]
    },
    {
     "name": "stdout",
     "output_type": "stream",
     "text": [
      "                  validation\n",
      " - Yaw          :   1.242707\n",
      " - Pitch        :   1.017589\n",
      " - Roll         :   1.252167\n",
      " - RMS          :   1.175830\n",
      " - 99% Tile     :   6.359763\n",
      "Save output signals into checkpoint/Scene3-LSTM4/sample/0069.npy\n"
     ]
    },
    {
     "name": "stderr",
     "output_type": "stream",
     "text": [
      "[0070/0100] Train: 100%|███████████████████████████████| 70/70 [00:14<00:00,  4.82it/s, loss 3.4802]\n",
      "[0070/0100] Validation: 100%|██████████████████████| 67/67 [00:04<00:00, 13.59it/s, val_loss 2.9019]\n",
      "[0071/0100] Train:   0%|                                                     | 0/70 [00:00<?, ?it/s]"
     ]
    },
    {
     "name": "stdout",
     "output_type": "stream",
     "text": [
      "                  validation\n",
      " - Yaw          :   1.023317\n",
      " - Pitch        :   1.152659\n",
      " - Roll         :   1.174526\n",
      " - RMS          :   1.118826\n",
      " - 99% Tile     :   6.259284\n",
      "Save output signals into checkpoint/Scene3-LSTM4/sample/0070.npy\n"
     ]
    },
    {
     "name": "stderr",
     "output_type": "stream",
     "text": [
      "[0071/0100] Train: 100%|███████████████████████████████| 70/70 [00:14<00:00,  4.76it/s, loss 3.3857]\n",
      "[0071/0100] Validation: 100%|██████████████████████| 67/67 [00:04<00:00, 13.44it/s, val_loss 2.7786]\n",
      "[0072/0100] Train:   0%|                                                     | 0/70 [00:00<?, ?it/s]"
     ]
    },
    {
     "name": "stdout",
     "output_type": "stream",
     "text": [
      "                  validation\n",
      " - Yaw          :   1.002041\n",
      " - Pitch        :   1.088714\n",
      " - Roll         :   1.149673\n",
      " - RMS          :   1.081840\n",
      " - 99% Tile     :   6.104821\n",
      "Save output signals into checkpoint/Scene3-LSTM4/sample/0071.npy\n"
     ]
    },
    {
     "name": "stderr",
     "output_type": "stream",
     "text": [
      "[0072/0100] Train: 100%|███████████████████████████████| 70/70 [00:14<00:00,  4.78it/s, loss 3.5191]\n",
      "[0072/0100] Validation: 100%|██████████████████████| 67/67 [00:05<00:00, 13.34it/s, val_loss 2.6564]\n",
      "[0073/0100] Train:   0%|                                                     | 0/70 [00:00<?, ?it/s]"
     ]
    },
    {
     "name": "stdout",
     "output_type": "stream",
     "text": [
      "                  validation\n",
      " - Yaw          :   1.056501\n",
      " - Pitch        :   0.967645\n",
      " - Roll         :   1.026489\n",
      " - RMS          :   1.017548\n",
      " - 99% Tile     :   6.212826\n",
      "Save output signals into checkpoint/Scene3-LSTM4/sample/0072.npy\n"
     ]
    },
    {
     "name": "stderr",
     "output_type": "stream",
     "text": [
      "[0073/0100] Train: 100%|███████████████████████████████| 70/70 [00:14<00:00,  4.68it/s, loss 3.1123]\n",
      "[0073/0100] Validation: 100%|██████████████████████| 67/67 [00:04<00:00, 13.46it/s, val_loss 2.5362]\n",
      "[0074/0100] Train:   0%|                                                     | 0/70 [00:00<?, ?it/s]"
     ]
    },
    {
     "name": "stdout",
     "output_type": "stream",
     "text": [
      "                  validation\n",
      " - Yaw          :   0.970863\n",
      " - Pitch        :   0.962915\n",
      " - Roll         :   1.050780\n",
      " - RMS          :   0.995644\n",
      " - 99% Tile     :   6.190431\n",
      "Save output signals into checkpoint/Scene3-LSTM4/sample/0073.npy\n"
     ]
    },
    {
     "name": "stderr",
     "output_type": "stream",
     "text": [
      "[0074/0100] Train: 100%|███████████████████████████████| 70/70 [00:14<00:00,  4.76it/s, loss 3.0495]\n",
      "[0074/0100] Validation: 100%|██████████████████████| 67/67 [00:04<00:00, 13.50it/s, val_loss 2.4932]\n",
      "[0075/0100] Train:   0%|                                                     | 0/70 [00:00<?, ?it/s]"
     ]
    },
    {
     "name": "stdout",
     "output_type": "stream",
     "text": [
      "                  validation\n",
      " - Yaw          :   1.050746\n",
      " - Pitch        :   0.861411\n",
      " - Roll         :   0.991329\n",
      " - RMS          :   0.971052\n",
      " - 99% Tile     :   5.882352\n",
      "Save output signals into checkpoint/Scene3-LSTM4/sample/0074.npy\n"
     ]
    },
    {
     "name": "stderr",
     "output_type": "stream",
     "text": [
      "[0075/0100] Train: 100%|███████████████████████████████| 70/70 [00:14<00:00,  4.75it/s, loss 2.9746]\n",
      "[0075/0100] Validation: 100%|██████████████████████| 67/67 [00:04<00:00, 13.61it/s, val_loss 2.3080]\n",
      "[0076/0100] Train:   0%|                                                     | 0/70 [00:00<?, ?it/s]"
     ]
    },
    {
     "name": "stdout",
     "output_type": "stream",
     "text": [
      "                  validation\n",
      " - Yaw          :   0.964954\n",
      " - Pitch        :   0.804905\n",
      " - Roll         :   0.935082\n",
      " - RMS          :   0.904320\n",
      " - 99% Tile     :   5.864473\n",
      "Save output signals into checkpoint/Scene3-LSTM4/sample/0075.npy\n"
     ]
    },
    {
     "name": "stderr",
     "output_type": "stream",
     "text": [
      "[0076/0100] Train: 100%|███████████████████████████████| 70/70 [00:14<00:00,  4.76it/s, loss 2.9154]\n",
      "[0076/0100] Validation: 100%|██████████████████████| 67/67 [00:04<00:00, 13.49it/s, val_loss 2.3721]\n",
      "[0077/0100] Train:   0%|                                                     | 0/70 [00:00<?, ?it/s]"
     ]
    },
    {
     "name": "stdout",
     "output_type": "stream",
     "text": [
      "val_loss is not improved for 1 epochs\n",
      "                  validation\n",
      " - Yaw          :   1.030140\n",
      " - Pitch        :   0.859927\n",
      " - Roll         :   0.940898\n",
      " - RMS          :   0.946212\n",
      " - 99% Tile     :   5.976442\n",
      "Save output signals into checkpoint/Scene3-LSTM4/sample/0076.npy\n"
     ]
    },
    {
     "name": "stderr",
     "output_type": "stream",
     "text": [
      "[0077/0100] Train: 100%|███████████████████████████████| 70/70 [00:14<00:00,  4.72it/s, loss 2.8770]\n",
      "[0077/0100] Validation: 100%|██████████████████████| 67/67 [00:05<00:00, 13.29it/s, val_loss 2.5226]\n",
      "[0078/0100] Train:   0%|                                                     | 0/70 [00:00<?, ?it/s]"
     ]
    },
    {
     "name": "stdout",
     "output_type": "stream",
     "text": [
      "val_loss is not improved for 2 epochs\n",
      "                  validation\n",
      " - Yaw          :   1.098432\n",
      " - Pitch        :   0.985113\n",
      " - Roll         :   0.912344\n",
      " - RMS          :   1.001560\n",
      " - 99% Tile     :   6.107803\n",
      "Save output signals into checkpoint/Scene3-LSTM4/sample/0077.npy\n"
     ]
    },
    {
     "name": "stderr",
     "output_type": "stream",
     "text": [
      "[0078/0100] Train: 100%|███████████████████████████████| 70/70 [00:14<00:00,  4.71it/s, loss 2.8485]\n",
      "[0078/0100] Validation: 100%|██████████████████████| 67/67 [00:04<00:00, 13.75it/s, val_loss 2.4260]\n",
      "[0079/0100] Train:   0%|                                                     | 0/70 [00:00<?, ?it/s]"
     ]
    },
    {
     "name": "stdout",
     "output_type": "stream",
     "text": [
      "val_loss is not improved for 3 epochs\n",
      "                  validation\n",
      " - Yaw          :   1.037701\n",
      " - Pitch        :   0.858563\n",
      " - Roll         :   0.921180\n",
      " - RMS          :   0.942077\n",
      " - 99% Tile     :   6.256352\n",
      "Save output signals into checkpoint/Scene3-LSTM4/sample/0078.npy\n"
     ]
    },
    {
     "name": "stderr",
     "output_type": "stream",
     "text": [
      "[0079/0100] Train: 100%|███████████████████████████████| 70/70 [00:14<00:00,  4.76it/s, loss 2.8699]\n",
      "[0079/0100] Validation: 100%|██████████████████████| 67/67 [00:05<00:00, 13.13it/s, val_loss 2.4822]\n",
      "[0080/0100] Train:   0%|                                                     | 0/70 [00:00<?, ?it/s]"
     ]
    },
    {
     "name": "stdout",
     "output_type": "stream",
     "text": [
      "val_loss is not improved for 4 epochs\n",
      "                  validation\n",
      " - Yaw          :   0.960499\n",
      " - Pitch        :   0.915963\n",
      " - Roll         :   0.869616\n",
      " - RMS          :   0.916111\n",
      " - 99% Tile     :   6.113009\n",
      "Save output signals into checkpoint/Scene3-LSTM4/sample/0079.npy\n"
     ]
    },
    {
     "name": "stderr",
     "output_type": "stream",
     "text": [
      "[0080/0100] Train: 100%|███████████████████████████████| 70/70 [00:14<00:00,  4.79it/s, loss 2.7154]\n",
      "[0080/0100] Validation: 100%|██████████████████████| 67/67 [00:05<00:00, 13.40it/s, val_loss 2.4220]\n",
      "[0081/0100] Train:   0%|                                                     | 0/70 [00:00<?, ?it/s]"
     ]
    },
    {
     "name": "stdout",
     "output_type": "stream",
     "text": [
      "Decaying lr from 0.00025 to 0.000125 because val_loss did not improved for 5 epochs\n",
      "val_loss is not improved for 5 epochs\n",
      "                  validation\n",
      " - Yaw          :   0.959108\n",
      " - Pitch        :   1.003005\n",
      " - Roll         :   0.821553\n",
      " - RMS          :   0.931103\n",
      " - 99% Tile     :   5.974143\n",
      "Save output signals into checkpoint/Scene3-LSTM4/sample/0080.npy\n"
     ]
    },
    {
     "name": "stderr",
     "output_type": "stream",
     "text": [
      "[0081/0100] Train: 100%|███████████████████████████████| 70/70 [00:15<00:00,  4.60it/s, loss 2.6218]\n",
      "[0081/0100] Validation: 100%|██████████████████████| 67/67 [00:05<00:00, 13.13it/s, val_loss 2.4216]\n",
      "[0082/0100] Train:   0%|                                                     | 0/70 [00:00<?, ?it/s]"
     ]
    },
    {
     "name": "stdout",
     "output_type": "stream",
     "text": [
      "val_loss is not improved for 6 epochs\n",
      "                  validation\n",
      " - Yaw          :   0.982738\n",
      " - Pitch        :   0.980767\n",
      " - Roll         :   0.869159\n",
      " - RMS          :   0.945712\n",
      " - 99% Tile     :   5.930452\n",
      "Save output signals into checkpoint/Scene3-LSTM4/sample/0081.npy\n"
     ]
    },
    {
     "name": "stderr",
     "output_type": "stream",
     "text": [
      "[0082/0100] Train: 100%|███████████████████████████████| 70/70 [00:14<00:00,  4.68it/s, loss 2.5859]\n",
      "[0082/0100] Validation: 100%|██████████████████████| 67/67 [00:04<00:00, 13.42it/s, val_loss 2.4248]\n",
      "[0083/0100] Train:   0%|                                                     | 0/70 [00:00<?, ?it/s]"
     ]
    },
    {
     "name": "stdout",
     "output_type": "stream",
     "text": [
      "val_loss is not improved for 7 epochs\n",
      "                  validation\n",
      " - Yaw          :   1.002962\n",
      " - Pitch        :   0.952833\n",
      " - Roll         :   0.880680\n",
      " - RMS          :   0.946823\n",
      " - 99% Tile     :   5.940721\n",
      "Save output signals into checkpoint/Scene3-LSTM4/sample/0082.npy\n"
     ]
    },
    {
     "name": "stderr",
     "output_type": "stream",
     "text": [
      "[0083/0100] Train: 100%|███████████████████████████████| 70/70 [00:14<00:00,  4.70it/s, loss 2.5449]\n",
      "[0083/0100] Validation: 100%|██████████████████████| 67/67 [00:04<00:00, 13.47it/s, val_loss 2.2586]\n",
      "[0084/0100] Train:   0%|                                                     | 0/70 [00:00<?, ?it/s]"
     ]
    },
    {
     "name": "stdout",
     "output_type": "stream",
     "text": [
      "                  validation\n",
      " - Yaw          :   0.929383\n",
      " - Pitch        :   0.815024\n",
      " - Roll         :   0.863117\n",
      " - RMS          :   0.870438\n",
      " - 99% Tile     :   5.939425\n",
      "Save output signals into checkpoint/Scene3-LSTM4/sample/0083.npy\n"
     ]
    },
    {
     "name": "stderr",
     "output_type": "stream",
     "text": [
      "[0084/0100] Train: 100%|███████████████████████████████| 70/70 [00:14<00:00,  4.72it/s, loss 2.5056]\n",
      "[0084/0100] Validation: 100%|██████████████████████| 67/67 [00:05<00:00, 13.21it/s, val_loss 2.2094]\n",
      "[0085/0100] Train:   0%|                                                     | 0/70 [00:00<?, ?it/s]"
     ]
    },
    {
     "name": "stdout",
     "output_type": "stream",
     "text": [
      "                  validation\n",
      " - Yaw          :   0.909631\n",
      " - Pitch        :   0.854536\n",
      " - Roll         :   0.811049\n",
      " - RMS          :   0.859353\n",
      " - 99% Tile     :   5.900517\n",
      "Save output signals into checkpoint/Scene3-LSTM4/sample/0084.npy\n"
     ]
    },
    {
     "name": "stderr",
     "output_type": "stream",
     "text": [
      "[0085/0100] Train: 100%|███████████████████████████████| 70/70 [00:14<00:00,  4.72it/s, loss 2.5197]\n",
      "[0085/0100] Validation: 100%|██████████████████████| 67/67 [00:05<00:00, 13.25it/s, val_loss 2.4645]\n",
      "[0086/0100] Train:   0%|                                                     | 0/70 [00:00<?, ?it/s]"
     ]
    },
    {
     "name": "stdout",
     "output_type": "stream",
     "text": [
      "val_loss is not improved for 1 epochs\n",
      "                  validation\n",
      " - Yaw          :   1.069211\n",
      " - Pitch        :   0.934240\n",
      " - Roll         :   0.857983\n",
      " - RMS          :   0.957802\n",
      " - 99% Tile     :   6.010191\n",
      "Save output signals into checkpoint/Scene3-LSTM4/sample/0085.npy\n"
     ]
    },
    {
     "name": "stderr",
     "output_type": "stream",
     "text": [
      "[0086/0100] Train: 100%|███████████████████████████████| 70/70 [00:14<00:00,  4.71it/s, loss 2.8456]\n",
      "[0086/0100] Validation: 100%|██████████████████████| 67/67 [00:05<00:00, 13.36it/s, val_loss 2.2704]\n",
      "[0087/0100] Train:   0%|                                                     | 0/70 [00:00<?, ?it/s]"
     ]
    },
    {
     "name": "stdout",
     "output_type": "stream",
     "text": [
      "val_loss is not improved for 2 epochs\n",
      "                  validation\n",
      " - Yaw          :   0.951753\n",
      " - Pitch        :   0.850291\n",
      " - Roll         :   0.853224\n",
      " - RMS          :   0.886345\n",
      " - 99% Tile     :   5.894866\n",
      "Save output signals into checkpoint/Scene3-LSTM4/sample/0086.npy\n"
     ]
    },
    {
     "name": "stderr",
     "output_type": "stream",
     "text": [
      "[0087/0100] Train: 100%|███████████████████████████████| 70/70 [00:14<00:00,  4.83it/s, loss 2.4427]\n",
      "[0087/0100] Validation: 100%|██████████████████████| 67/67 [00:05<00:00, 13.31it/s, val_loss 2.3353]\n",
      "[0088/0100] Train:   0%|                                                     | 0/70 [00:00<?, ?it/s]"
     ]
    },
    {
     "name": "stdout",
     "output_type": "stream",
     "text": [
      "val_loss is not improved for 3 epochs\n",
      "                  validation\n",
      " - Yaw          :   1.000440\n",
      " - Pitch        :   0.886680\n",
      " - Roll         :   0.888290\n",
      " - RMS          :   0.926668\n",
      " - 99% Tile     :   5.921368\n",
      "Save output signals into checkpoint/Scene3-LSTM4/sample/0087.npy\n"
     ]
    },
    {
     "name": "stderr",
     "output_type": "stream",
     "text": [
      "[0088/0100] Train: 100%|███████████████████████████████| 70/70 [00:14<00:00,  4.78it/s, loss 2.4336]\n",
      "[0088/0100] Validation: 100%|██████████████████████| 67/67 [00:05<00:00, 13.34it/s, val_loss 2.2877]\n",
      "[0089/0100] Train:   0%|                                                     | 0/70 [00:00<?, ?it/s]"
     ]
    },
    {
     "name": "stdout",
     "output_type": "stream",
     "text": [
      "val_loss is not improved for 4 epochs\n",
      "                  validation\n",
      " - Yaw          :   0.911006\n",
      " - Pitch        :   0.987591\n",
      " - Roll         :   0.801616\n",
      " - RMS          :   0.903301\n",
      " - 99% Tile     :   5.973368\n",
      "Save output signals into checkpoint/Scene3-LSTM4/sample/0088.npy\n"
     ]
    },
    {
     "name": "stderr",
     "output_type": "stream",
     "text": [
      "[0089/0100] Train: 100%|███████████████████████████████| 70/70 [00:15<00:00,  4.66it/s, loss 2.4123]\n",
      "[0089/0100] Validation: 100%|██████████████████████| 67/67 [00:04<00:00, 13.58it/s, val_loss 2.2492]\n",
      "[0090/0100] Train:   0%|                                                     | 0/70 [00:00<?, ?it/s]"
     ]
    },
    {
     "name": "stdout",
     "output_type": "stream",
     "text": [
      "Decaying lr from 0.000125 to 6.25e-05 because val_loss did not improved for 5 epochs\n",
      "val_loss is not improved for 5 epochs\n",
      "                  validation\n",
      " - Yaw          :   0.989431\n",
      " - Pitch        :   0.809763\n",
      " - Roll         :   0.822688\n",
      " - RMS          :   0.877782\n",
      " - 99% Tile     :   5.862741\n",
      "Save output signals into checkpoint/Scene3-LSTM4/sample/0089.npy\n"
     ]
    },
    {
     "name": "stderr",
     "output_type": "stream",
     "text": [
      "[0090/0100] Train: 100%|███████████████████████████████| 70/70 [00:14<00:00,  4.76it/s, loss 2.3555]\n",
      "[0090/0100] Validation: 100%|██████████████████████| 67/67 [00:04<00:00, 13.63it/s, val_loss 2.2618]\n",
      "[0091/0100] Train:   0%|                                                     | 0/70 [00:00<?, ?it/s]"
     ]
    },
    {
     "name": "stdout",
     "output_type": "stream",
     "text": [
      "val_loss is not improved for 6 epochs\n",
      "                  validation\n",
      " - Yaw          :   0.957873\n",
      " - Pitch        :   0.913794\n",
      " - Roll         :   0.819714\n",
      " - RMS          :   0.898975\n",
      " - 99% Tile     :   5.877176\n",
      "Save output signals into checkpoint/Scene3-LSTM4/sample/0090.npy\n"
     ]
    },
    {
     "name": "stderr",
     "output_type": "stream",
     "text": [
      "[0091/0100] Train: 100%|███████████████████████████████| 70/70 [00:14<00:00,  4.79it/s, loss 2.3605]\n",
      "[0091/0100] Validation: 100%|██████████████████████| 67/67 [00:05<00:00, 13.35it/s, val_loss 2.2813]\n",
      "[0092/0100] Train:   0%|                                                     | 0/70 [00:00<?, ?it/s]"
     ]
    },
    {
     "name": "stdout",
     "output_type": "stream",
     "text": [
      "val_loss is not improved for 7 epochs\n",
      "                  validation\n",
      " - Yaw          :   0.952064\n",
      " - Pitch        :   0.854780\n",
      " - Roll         :   0.814649\n",
      " - RMS          :   0.875734\n",
      " - 99% Tile     :   5.959435\n",
      "Save output signals into checkpoint/Scene3-LSTM4/sample/0091.npy\n"
     ]
    },
    {
     "name": "stderr",
     "output_type": "stream",
     "text": [
      "[0092/0100] Train: 100%|███████████████████████████████| 70/70 [00:14<00:00,  4.79it/s, loss 2.3264]\n",
      "[0092/0100] Validation: 100%|██████████████████████| 67/67 [00:05<00:00, 13.39it/s, val_loss 2.2540]\n",
      "[0093/0100] Train:   0%|                                                     | 0/70 [00:00<?, ?it/s]"
     ]
    },
    {
     "name": "stdout",
     "output_type": "stream",
     "text": [
      "val_loss is not improved for 8 epochs\n",
      "                  validation\n",
      " - Yaw          :   0.887153\n",
      " - Pitch        :   0.925761\n",
      " - Roll         :   0.814934\n",
      " - RMS          :   0.877153\n",
      " - 99% Tile     :   5.888977\n",
      "Save output signals into checkpoint/Scene3-LSTM4/sample/0092.npy\n"
     ]
    },
    {
     "name": "stderr",
     "output_type": "stream",
     "text": [
      "[0093/0100] Train: 100%|███████████████████████████████| 70/70 [00:14<00:00,  4.77it/s, loss 2.3152]\n",
      "[0093/0100] Validation: 100%|██████████████████████| 67/67 [00:04<00:00, 13.43it/s, val_loss 2.2727]\n",
      "[0094/0100] Train:   0%|                                                     | 0/70 [00:00<?, ?it/s]"
     ]
    },
    {
     "name": "stdout",
     "output_type": "stream",
     "text": [
      "val_loss is not improved for 9 epochs\n",
      "                  validation\n",
      " - Yaw          :   0.959324\n",
      " - Pitch        :   0.859247\n",
      " - Roll         :   0.838404\n",
      " - RMS          :   0.887230\n",
      " - 99% Tile     :   5.987449\n",
      "Save output signals into checkpoint/Scene3-LSTM4/sample/0093.npy\n"
     ]
    },
    {
     "name": "stderr",
     "output_type": "stream",
     "text": [
      "[0094/0100] Train: 100%|███████████████████████████████| 70/70 [00:15<00:00,  4.64it/s, loss 2.2922]\n",
      "[0094/0100] Validation: 100%|██████████████████████| 67/67 [00:04<00:00, 13.50it/s, val_loss 2.2232]"
     ]
    },
    {
     "name": "stdout",
     "output_type": "stream",
     "text": [
      "Decaying lr from 6.25e-05 to 3.125e-05 because val_loss did not improved for 5 epochs\n",
      "val_loss is not improved for 10 epochs\n",
      "Stop training because val_loss did not improved for 10 epochs\n",
      "                  validation\n",
      " - Yaw          :   0.942433\n",
      " - Pitch        :   0.785079\n",
      " - Roll         :   0.813676\n",
      " - RMS          :   0.849823\n",
      " - 99% Tile     :   5.972516\n",
      "Save output signals into checkpoint/Scene3-LSTM4/sample/0094.npy\n"
     ]
    },
    {
     "name": "stderr",
     "output_type": "stream",
     "text": [
      "\n"
     ]
    }
   ],
   "source": [
    "trainer.fit(ds_train, ds_test, num_epochs=100, batch_size=256, shuffle=True, pin_memory=True)"
   ]
  },
  {
   "cell_type": "code",
   "execution_count": null,
   "metadata": {},
   "outputs": [],
   "source": []
  }
 ],
 "metadata": {
  "kernelspec": {
   "display_name": "torch",
   "language": "python",
   "name": "torch"
  },
  "language_info": {
   "codemirror_mode": {
    "name": "ipython",
    "version": 3
   },
   "file_extension": ".py",
   "mimetype": "text/x-python",
   "name": "python",
   "nbconvert_exporter": "python",
   "pygments_lexer": "ipython3",
   "version": "3.7.9"
  }
 },
 "nbformat": 4,
 "nbformat_minor": 4
}
