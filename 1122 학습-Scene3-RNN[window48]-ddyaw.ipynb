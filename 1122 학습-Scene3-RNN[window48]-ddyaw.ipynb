{
 "cells": [
  {
   "cell_type": "code",
   "execution_count": 1,
   "metadata": {},
   "outputs": [],
   "source": [
    "from multiprocessing import cpu_count\n",
    "from pathlib import Path\n",
    "from typing import List, Union, AnyStr\n",
    "from math import pi\n",
    "import pickle\n",
    "\n",
    "import numpy as np\n",
    "import torch\n",
    "import matplotlib.pyplot as plt\n",
    "import torch.nn as nn\n",
    "from sklearn import model_selection\n",
    "from tqdm import tqdm\n",
    "import torch_optimizer\n",
    "from torch.utils.data import Dataset\n",
    "import pandas as pd\n",
    "import random\n",
    "\n",
    "import torch_burn as tb\n",
    "import utils"
   ]
  },
  {
   "cell_type": "code",
   "execution_count": 2,
   "metadata": {},
   "outputs": [
    {
     "data": {
      "text/plain": [
       "'0.0.3.13'"
      ]
     },
     "execution_count": 2,
     "metadata": {},
     "output_type": "execute_result"
    }
   ],
   "source": [
    "tb.__version__"
   ]
  },
  {
   "cell_type": "code",
   "execution_count": 3,
   "metadata": {},
   "outputs": [],
   "source": [
    "EXPERIMENT_NAME = '1122-Scene3-LSTM-SmallWindow-UseDD'\n",
    "CHECKPOINT_DIR = Path('checkpoint', EXPERIMENT_NAME)\n",
    "CHECKPOINT_DIR.mkdir(parents=True, exist_ok=True)\n",
    "\n",
    "DATA_DIR = Path('data/1116')\n",
    "TRAIN_FILES = sorted(list(DATA_DIR.glob('*scene1_0.csv')))\n",
    "TEST_FILES = sorted(list(DATA_DIR.glob('*scene1_1.csv')))"
   ]
  },
  {
   "cell_type": "markdown",
   "metadata": {},
   "source": [
    "# 데이터셋 생성\n",
    "\n",
    "scene1에 대해서 모든 user의 데이터를 하나로 합친다."
   ]
  },
  {
   "cell_type": "code",
   "execution_count": 4,
   "metadata": {},
   "outputs": [],
   "source": [
    "WINDOW_SIZE = 48"
   ]
  },
  {
   "cell_type": "code",
   "execution_count": 5,
   "metadata": {},
   "outputs": [],
   "source": [
    "class CSVSequentialDataset(Dataset):\n",
    "    def __init__(self, csvfile,\n",
    "                 window_size=300, randomized_window_size=False,\n",
    "                 stride=30, randomized_stride=False):\n",
    "        super(CSVSequentialDataset, self).__init__()\n",
    "\n",
    "        self.xcols = ['input_orientation_yaw', 'input_orientation_pitch', 'input_orientation_roll',\n",
    "                      'acceleration_x', 'acceleration_y', 'acceleration_z',\n",
    "                      'dyaw', 'dpitch', 'droll',\n",
    "                      'ddyaw', 'ddpitch', 'ddroll']\n",
    "        self.ycols = ['input_orientation_yaw', 'input_orientation_pitch', 'input_orientation_roll']\n",
    "\n",
    "        self.csv = pd.read_csv(csvfile)\n",
    "        self.window_size = window_size\n",
    "\n",
    "        self.indexes = []\n",
    "        i = 0\n",
    "        while i <= len(self.csv) - window_size * 2:\n",
    "            if randomized_window_size:\n",
    "                self.indexes.append((i, i + random.randint(window_size // 2, window_size)))\n",
    "            else:\n",
    "                self.indexes.append((i, i + window_size))\n",
    "\n",
    "            if randomized_stride:\n",
    "                i += random.randint(1, stride)\n",
    "            else:\n",
    "                i += stride\n",
    "\n",
    "    def __len__(self):\n",
    "        return len(self.indexes)\n",
    "\n",
    "    def __getitem__(self, idx):\n",
    "        s, t = self.indexes[idx]\n",
    "        x = self.csv.iloc[s:t][self.xcols].to_numpy()\n",
    "        y = self.csv.iloc[t + 6][self.ycols].to_numpy()\n",
    "\n",
    "        x = torch.tensor(x, dtype=torch.float32) # 300, 6\n",
    "        y = torch.tensor(y, dtype=torch.float32) # 3\n",
    "        \n",
    "        #x[:, :3] *= pi / 180\n",
    "        x[:, 3:] /= 10\n",
    "\n",
    "        return x, y"
   ]
  },
  {
   "cell_type": "code",
   "execution_count": 6,
   "metadata": {},
   "outputs": [],
   "source": [
    "ds_train = [CSVSequentialDataset(f,  \n",
    "                                 window_size=WINDOW_SIZE, randomized_window_size=False,\n",
    "                                 stride=5, randomized_stride=True) for f in TRAIN_FILES]\n",
    "ds_train = tb.data.ChainDataset(*ds_train)\n",
    "ds_test = [CSVSequentialDataset(f,  \n",
    "                                window_size=WINDOW_SIZE, randomized_window_size=False,\n",
    "                                stride=5, randomized_stride=True) for f in TEST_FILES]\n",
    "ds_test = tb.data.ChainDataset(*ds_test)"
   ]
  },
  {
   "cell_type": "code",
   "execution_count": 7,
   "metadata": {},
   "outputs": [
    {
     "data": {
      "text/plain": [
       "(18314, 19002)"
      ]
     },
     "execution_count": 7,
     "metadata": {},
     "output_type": "execute_result"
    }
   ],
   "source": [
    "len(ds_train), len(ds_test)"
   ]
  },
  {
   "cell_type": "code",
   "execution_count": 8,
   "metadata": {},
   "outputs": [
    {
     "data": {
      "text/plain": [
       "(torch.Size([48, 12]), torch.Size([3]))"
      ]
     },
     "execution_count": 8,
     "metadata": {},
     "output_type": "execute_result"
    }
   ],
   "source": [
    "ds_train[0][0].shape, ds_train[0][1].shape"
   ]
  },
  {
   "cell_type": "code",
   "execution_count": 9,
   "metadata": {},
   "outputs": [],
   "source": [
    "x, y = ds_train[0]"
   ]
  },
  {
   "cell_type": "code",
   "execution_count": 10,
   "metadata": {},
   "outputs": [
    {
     "data": {
      "text/plain": [
       "torch.Size([48, 12])"
      ]
     },
     "execution_count": 10,
     "metadata": {},
     "output_type": "execute_result"
    }
   ],
   "source": [
    "x.shape"
   ]
  },
  {
   "cell_type": "code",
   "execution_count": 11,
   "metadata": {},
   "outputs": [
    {
     "data": {
      "text/plain": [
       "[<matplotlib.lines.Line2D at 0x7f7a1b830f10>]"
      ]
     },
     "execution_count": 11,
     "metadata": {},
     "output_type": "execute_result"
    },
    {
     "data": {
      "image/png": "[encoded data removed]",
      "text/plain": [
       "<Figure size 432x288 with 1 Axes>"
      ]
     },
     "metadata": {
      "needs_background": "light"
     },
     "output_type": "display_data"
    }
   ],
   "source": [
    "plt.plot(x[:, 2])"
   ]
  },
  {
   "cell_type": "code",
   "execution_count": 12,
   "metadata": {},
   "outputs": [],
   "source": [
    "model = utils.BaselineLSTM(input_size=12,\n",
    "                           hidden_size=64,\n",
    "                           num_layers=8,\n",
    "                           dropout=0.2,\n",
    "                           bidirectional=True).cuda()"
   ]
  },
  {
   "cell_type": "code",
   "execution_count": 13,
   "metadata": {},
   "outputs": [],
   "source": [
    "criterion = nn.MSELoss().cuda()\n",
    "optimizer = torch_optimizer.RAdam(model.parameters())"
   ]
  },
  {
   "cell_type": "code",
   "execution_count": 14,
   "metadata": {},
   "outputs": [],
   "source": [
    "metrics = [tb.metrics.ModuleMetric(criterion, 'loss'),\n",
    "           utils.HPMetric('hp_metric'),\n",
    "           utils.HPSignalHistory(CHECKPOINT_DIR / 'sample' / '{epoch:04d}.npy', 'hp_signal')]"
   ]
  },
  {
   "cell_type": "code",
   "execution_count": 15,
   "metadata": {},
   "outputs": [],
   "source": [
    "callbacks = [tb.callbacks.EarlyStopping(metrics[0]),\n",
    "             tb.callbacks.LRDecaying(optimizer, metrics[0])]"
   ]
  },
  {
   "cell_type": "code",
   "execution_count": 16,
   "metadata": {},
   "outputs": [],
   "source": [
    "trainer = tb.Trainer(model, optimizer, metrics, callbacks, ncols=100)"
   ]
  },
  {
   "cell_type": "code",
   "execution_count": 17,
   "metadata": {},
   "outputs": [
    {
     "name": "stderr",
     "output_type": "stream",
     "text": [
      "[0001/0100] Train: 100%|█████████████████████████████| 72/72 [00:11<00:00,  6.08it/s, loss 199.6838]\n",
      "[0001/0100] Validation: 100%|████████████████████| 75/75 [00:05<00:00, 12.55it/s, val_loss 152.8142]\n",
      "[0002/0100] Train:   0%|                                                     | 0/72 [00:00<?, ?it/s]"
     ]
    },
    {
     "name": "stdout",
     "output_type": "stream",
     "text": [
      "                  validation\n",
      " - Yaw          :   9.678339\n",
      " - Pitch        :  11.859583\n",
      " - Roll         :   3.088395\n",
      " - RMS          :   9.015877\n",
      " - 99% Tile     :  43.988404\n",
      "Save output signals into checkpoint/1122-Scene3-LSTM-SmallWindow-UseDD/sample/0001.npy\n"
     ]
    },
    {
     "name": "stderr",
     "output_type": "stream",
     "text": [
      "[0002/0100] Train: 100%|█████████████████████████████| 72/72 [00:10<00:00,  6.73it/s, loss 165.0745]\n",
      "[0002/0100] Validation: 100%|████████████████████| 75/75 [00:05<00:00, 14.53it/s, val_loss 117.6712]\n",
      "[0003/0100] Train:   0%|                                                     | 0/72 [00:00<?, ?it/s]"
     ]
    },
    {
     "name": "stdout",
     "output_type": "stream",
     "text": [
      "                  validation\n",
      " - Yaw          :   9.314232\n",
      " - Pitch        :   8.612313\n",
      " - Roll         :   3.092793\n",
      " - RMS          :   7.538617\n",
      " - 99% Tile     :  41.332037\n",
      "Save output signals into checkpoint/1122-Scene3-LSTM-SmallWindow-UseDD/sample/0002.npy\n"
     ]
    },
    {
     "name": "stderr",
     "output_type": "stream",
     "text": [
      "[0003/0100] Train: 100%|█████████████████████████████| 72/72 [00:11<00:00,  6.15it/s, loss 141.8810]\n",
      "[0003/0100] Validation: 100%|████████████████████| 75/75 [00:04<00:00, 16.32it/s, val_loss 107.7529]\n",
      "[0004/0100] Train:   0%|                                                     | 0/72 [00:00<?, ?it/s]"
     ]
    },
    {
     "name": "stdout",
     "output_type": "stream",
     "text": [
      "                  validation\n",
      " - Yaw          :   9.048436\n",
      " - Pitch        :   8.047291\n",
      " - Roll         :   3.091095\n",
      " - RMS          :   7.215446\n",
      " - 99% Tile     :  39.401896\n",
      "Save output signals into checkpoint/1122-Scene3-LSTM-SmallWindow-UseDD/sample/0003.npy\n"
     ]
    },
    {
     "name": "stderr",
     "output_type": "stream",
     "text": [
      "[0004/0100] Train: 100%|█████████████████████████████| 72/72 [00:11<00:00,  6.50it/s, loss 124.4862]\n",
      "[0004/0100] Validation: 100%|█████████████████████| 75/75 [00:04<00:00, 16.32it/s, val_loss 85.8153]\n",
      "[0005/0100] Train:   0%|                                                     | 0/72 [00:00<?, ?it/s]"
     ]
    },
    {
     "name": "stdout",
     "output_type": "stream",
     "text": [
      "                  validation\n",
      " - Yaw          :   8.037377\n",
      " - Pitch        :   6.836237\n",
      " - Roll         :   3.029117\n",
      " - RMS          :   6.337958\n",
      " - 99% Tile     :  35.169467\n",
      "Save output signals into checkpoint/1122-Scene3-LSTM-SmallWindow-UseDD/sample/0004.npy\n"
     ]
    },
    {
     "name": "stderr",
     "output_type": "stream",
     "text": [
      "[0005/0100] Train: 100%|██████████████████████████████| 72/72 [00:10<00:00,  7.14it/s, loss 95.3774]\n",
      "[0005/0100] Validation: 100%|█████████████████████| 75/75 [00:04<00:00, 17.65it/s, val_loss 63.7057]\n",
      "[0006/0100] Train:   0%|                                                     | 0/72 [00:00<?, ?it/s]"
     ]
    },
    {
     "name": "stdout",
     "output_type": "stream",
     "text": [
      "                  validation\n",
      " - Yaw          :   5.934102\n",
      " - Pitch        :   5.582063\n",
      " - Roll         :   2.985471\n",
      " - RMS          :   5.009525\n",
      " - 99% Tile     :  32.698793\n",
      "Save output signals into checkpoint/1122-Scene3-LSTM-SmallWindow-UseDD/sample/0005.npy\n"
     ]
    },
    {
     "name": "stderr",
     "output_type": "stream",
     "text": [
      "[0006/0100] Train: 100%|██████████████████████████████| 72/72 [00:09<00:00,  7.68it/s, loss 72.7173]\n",
      "[0006/0100] Validation: 100%|█████████████████████| 75/75 [00:05<00:00, 14.51it/s, val_loss 47.8818]\n",
      "[0007/0100] Train:   0%|                                                     | 0/72 [00:00<?, ?it/s]"
     ]
    },
    {
     "name": "stdout",
     "output_type": "stream",
     "text": [
      "                  validation\n",
      " - Yaw          :   4.228970\n",
      " - Pitch        :   4.161525\n",
      " - Roll         :   2.913965\n",
      " - RMS          :   3.816354\n",
      " - 99% Tile     :  29.651368\n",
      "Save output signals into checkpoint/1122-Scene3-LSTM-SmallWindow-UseDD/sample/0006.npy\n"
     ]
    },
    {
     "name": "stderr",
     "output_type": "stream",
     "text": [
      "[0007/0100] Train: 100%|██████████████████████████████| 72/72 [00:10<00:00,  7.14it/s, loss 55.8174]\n",
      "[0007/0100] Validation: 100%|█████████████████████| 75/75 [00:04<00:00, 15.60it/s, val_loss 37.8233]\n",
      "[0008/0100] Train:   0%|                                                     | 0/72 [00:00<?, ?it/s]"
     ]
    },
    {
     "name": "stdout",
     "output_type": "stream",
     "text": [
      "                  validation\n",
      " - Yaw          :   3.365990\n",
      " - Pitch        :   3.309388\n",
      " - Roll         :   2.818644\n",
      " - RMS          :   3.174203\n",
      " - 99% Tile     :  26.845560\n",
      "Save output signals into checkpoint/1122-Scene3-LSTM-SmallWindow-UseDD/sample/0007.npy\n"
     ]
    },
    {
     "name": "stderr",
     "output_type": "stream",
     "text": [
      "[0008/0100] Train: 100%|██████████████████████████████| 72/72 [00:10<00:00,  6.73it/s, loss 43.9280]\n",
      "[0008/0100] Validation: 100%|█████████████████████| 75/75 [00:04<00:00, 15.55it/s, val_loss 31.2313]\n",
      "[0009/0100] Train:   0%|                                                     | 0/72 [00:00<?, ?it/s]"
     ]
    },
    {
     "name": "stdout",
     "output_type": "stream",
     "text": [
      "                  validation\n",
      " - Yaw          :   2.772107\n",
      " - Pitch        :   2.997787\n",
      " - Roll         :   2.799260\n",
      " - RMS          :   2.858155\n",
      " - 99% Tile     :  24.437624\n",
      "Save output signals into checkpoint/1122-Scene3-LSTM-SmallWindow-UseDD/sample/0008.npy\n"
     ]
    },
    {
     "name": "stderr",
     "output_type": "stream",
     "text": [
      "[0009/0100] Train: 100%|██████████████████████████████| 72/72 [00:10<00:00,  7.15it/s, loss 35.1430]\n",
      "[0009/0100] Validation: 100%|█████████████████████| 75/75 [00:05<00:00, 14.43it/s, val_loss 26.4507]\n",
      "[0010/0100] Train:   0%|                                                     | 0/72 [00:00<?, ?it/s]"
     ]
    },
    {
     "name": "stdout",
     "output_type": "stream",
     "text": [
      "                  validation\n",
      " - Yaw          :   2.685643\n",
      " - Pitch        :   2.359646\n",
      " - Roll         :   2.805749\n",
      " - RMS          :   2.623791\n",
      " - 99% Tile     :  22.217400\n",
      "Save output signals into checkpoint/1122-Scene3-LSTM-SmallWindow-UseDD/sample/0009.npy\n"
     ]
    },
    {
     "name": "stderr",
     "output_type": "stream",
     "text": [
      "[0010/0100] Train: 100%|██████████████████████████████| 72/72 [00:09<00:00,  7.72it/s, loss 28.7886]\n",
      "[0010/0100] Validation: 100%|█████████████████████| 75/75 [00:06<00:00, 11.84it/s, val_loss 23.1044]\n",
      "[0011/0100] Train:   0%|                                                     | 0/72 [00:00<?, ?it/s]"
     ]
    },
    {
     "name": "stdout",
     "output_type": "stream",
     "text": [
      "                  validation\n",
      " - Yaw          :   2.408283\n",
      " - Pitch        :   2.062478\n",
      " - Roll         :   2.758841\n",
      " - RMS          :   2.426579\n",
      " - 99% Tile     :  20.315911\n",
      "Save output signals into checkpoint/1122-Scene3-LSTM-SmallWindow-UseDD/sample/0010.npy\n"
     ]
    },
    {
     "name": "stderr",
     "output_type": "stream",
     "text": [
      "[0011/0100] Train: 100%|██████████████████████████████| 72/72 [00:09<00:00,  7.73it/s, loss 23.7141]\n",
      "[0011/0100] Validation: 100%|█████████████████████| 75/75 [00:06<00:00, 12.09it/s, val_loss 20.0073]\n",
      "[0012/0100] Train:   0%|                                                     | 0/72 [00:00<?, ?it/s]"
     ]
    },
    {
     "name": "stdout",
     "output_type": "stream",
     "text": [
      "                  validation\n",
      " - Yaw          :   2.093209\n",
      " - Pitch        :   1.950237\n",
      " - Roll         :   2.635109\n",
      " - RMS          :   2.245644\n",
      " - 99% Tile     :  18.692503\n",
      "Save output signals into checkpoint/1122-Scene3-LSTM-SmallWindow-UseDD/sample/0011.npy\n"
     ]
    },
    {
     "name": "stderr",
     "output_type": "stream",
     "text": [
      "[0012/0100] Train: 100%|██████████████████████████████| 72/72 [00:09<00:00,  7.72it/s, loss 19.6292]\n",
      "[0012/0100] Validation: 100%|█████████████████████| 75/75 [00:05<00:00, 12.83it/s, val_loss 16.5685]\n",
      "[0013/0100] Train:   0%|                                                     | 0/72 [00:00<?, ?it/s]"
     ]
    },
    {
     "name": "stdout",
     "output_type": "stream",
     "text": [
      "                  validation\n",
      " - Yaw          :   1.743705\n",
      " - Pitch        :   1.776581\n",
      " - Roll         :   2.145108\n",
      " - RMS          :   1.897211\n",
      " - 99% Tile     :  16.803316\n",
      "Save output signals into checkpoint/1122-Scene3-LSTM-SmallWindow-UseDD/sample/0012.npy\n"
     ]
    },
    {
     "name": "stderr",
     "output_type": "stream",
     "text": [
      "[0013/0100] Train: 100%|██████████████████████████████| 72/72 [00:10<00:00,  7.19it/s, loss 16.7119]\n",
      "[0013/0100] Validation: 100%|█████████████████████| 75/75 [00:06<00:00, 11.71it/s, val_loss 15.0134]\n",
      "[0014/0100] Train:   0%|                                                     | 0/72 [00:00<?, ?it/s]"
     ]
    },
    {
     "name": "stdout",
     "output_type": "stream",
     "text": [
      "                  validation\n",
      " - Yaw          :   1.610831\n",
      " - Pitch        :   1.870876\n",
      " - Roll         :   1.977064\n",
      " - RMS          :   1.826083\n",
      " - 99% Tile     :  16.138358\n",
      "Save output signals into checkpoint/1122-Scene3-LSTM-SmallWindow-UseDD/sample/0013.npy\n"
     ]
    },
    {
     "name": "stderr",
     "output_type": "stream",
     "text": [
      "[0014/0100] Train: 100%|██████████████████████████████| 72/72 [00:09<00:00,  7.47it/s, loss 13.9178]\n",
      "[0014/0100] Validation: 100%|█████████████████████| 75/75 [00:06<00:00, 12.20it/s, val_loss 12.5631]\n",
      "[0015/0100] Train:   0%|                                                     | 0/72 [00:00<?, ?it/s]"
     ]
    },
    {
     "name": "stdout",
     "output_type": "stream",
     "text": [
      "                  validation\n",
      " - Yaw          :   1.423047\n",
      " - Pitch        :   1.591869\n",
      " - Roll         :   1.744490\n",
      " - RMS          :   1.591891\n",
      " - 99% Tile     :  14.184018\n",
      "Save output signals into checkpoint/1122-Scene3-LSTM-SmallWindow-UseDD/sample/0014.npy\n"
     ]
    },
    {
     "name": "stderr",
     "output_type": "stream",
     "text": [
      "[0015/0100] Train: 100%|██████████████████████████████| 72/72 [00:09<00:00,  7.94it/s, loss 11.5689]\n",
      "[0015/0100] Validation: 100%|█████████████████████| 75/75 [00:06<00:00, 11.85it/s, val_loss 11.5349]\n",
      "[0016/0100] Train:   0%|                                                     | 0/72 [00:00<?, ?it/s]"
     ]
    },
    {
     "name": "stdout",
     "output_type": "stream",
     "text": [
      "                  validation\n",
      " - Yaw          :   1.444382\n",
      " - Pitch        :   1.493416\n",
      " - Roll         :   1.585846\n",
      " - RMS          :   1.509022\n",
      " - 99% Tile     :  13.877958\n",
      "Save output signals into checkpoint/1122-Scene3-LSTM-SmallWindow-UseDD/sample/0015.npy\n"
     ]
    },
    {
     "name": "stderr",
     "output_type": "stream",
     "text": [
      "[0016/0100] Train: 100%|██████████████████████████████| 72/72 [00:08<00:00,  8.27it/s, loss 10.0074]\n",
      "[0016/0100] Validation: 100%|█████████████████████| 75/75 [00:06<00:00, 11.74it/s, val_loss 10.3758]\n",
      "[0017/0100] Train:   0%|                                                     | 0/72 [00:00<?, ?it/s]"
     ]
    },
    {
     "name": "stdout",
     "output_type": "stream",
     "text": [
      "                  validation\n",
      " - Yaw          :   1.368506\n",
      " - Pitch        :   1.505908\n",
      " - Roll         :   1.453742\n",
      " - RMS          :   1.443830\n",
      " - 99% Tile     :  13.034852\n",
      "Save output signals into checkpoint/1122-Scene3-LSTM-SmallWindow-UseDD/sample/0016.npy\n"
     ]
    },
    {
     "name": "stderr",
     "output_type": "stream",
     "text": [
      "[0017/0100] Train: 100%|███████████████████████████████| 72/72 [00:09<00:00,  7.43it/s, loss 8.4974]\n",
      "[0017/0100] Validation: 100%|██████████████████████| 75/75 [00:05<00:00, 12.57it/s, val_loss 9.3576]\n",
      "[0018/0100] Train:   0%|                                                     | 0/72 [00:00<?, ?it/s]"
     ]
    },
    {
     "name": "stdout",
     "output_type": "stream",
     "text": [
      "                  validation\n",
      " - Yaw          :   1.255797\n",
      " - Pitch        :   1.464349\n",
      " - Roll         :   1.371651\n",
      " - RMS          :   1.366598\n",
      " - 99% Tile     :  12.318611\n",
      "Save output signals into checkpoint/1122-Scene3-LSTM-SmallWindow-UseDD/sample/0017.npy\n"
     ]
    },
    {
     "name": "stderr",
     "output_type": "stream",
     "text": [
      "[0018/0100] Train: 100%|███████████████████████████████| 72/72 [00:09<00:00,  7.59it/s, loss 7.4046]\n",
      "[0018/0100] Validation: 100%|██████████████████████| 75/75 [00:06<00:00, 11.80it/s, val_loss 8.7948]\n",
      "[0019/0100] Train:   0%|                                                     | 0/72 [00:00<?, ?it/s]"
     ]
    },
    {
     "name": "stdout",
     "output_type": "stream",
     "text": [
      "                  validation\n",
      " - Yaw          :   1.307063\n",
      " - Pitch        :   1.360729\n",
      " - Roll         :   1.363099\n",
      " - RMS          :   1.343879\n",
      " - 99% Tile     :  12.113133\n",
      "Save output signals into checkpoint/1122-Scene3-LSTM-SmallWindow-UseDD/sample/0018.npy\n"
     ]
    },
    {
     "name": "stderr",
     "output_type": "stream",
     "text": [
      "[0019/0100] Train: 100%|███████████████████████████████| 72/72 [00:09<00:00,  8.00it/s, loss 6.4341]\n",
      "[0019/0100] Validation: 100%|██████████████████████| 75/75 [00:05<00:00, 13.20it/s, val_loss 8.0672]\n",
      "[0020/0100] Train:   0%|                                                     | 0/72 [00:00<?, ?it/s]"
     ]
    },
    {
     "name": "stdout",
     "output_type": "stream",
     "text": [
      "                  validation\n",
      " - Yaw          :   1.141267\n",
      " - Pitch        :   1.250088\n",
      " - Roll         :   1.159119\n",
      " - RMS          :   1.184450\n",
      " - 99% Tile     :  11.944115\n",
      "Save output signals into checkpoint/1122-Scene3-LSTM-SmallWindow-UseDD/sample/0019.npy\n"
     ]
    },
    {
     "name": "stderr",
     "output_type": "stream",
     "text": [
      "[0020/0100] Train: 100%|███████████████████████████████| 72/72 [00:08<00:00,  8.51it/s, loss 5.6347]\n",
      "[0020/0100] Validation: 100%|██████████████████████| 75/75 [00:06<00:00, 10.96it/s, val_loss 8.0621]\n",
      "[0021/0100] Train:   0%|                                                     | 0/72 [00:00<?, ?it/s]"
     ]
    },
    {
     "name": "stdout",
     "output_type": "stream",
     "text": [
      "                  validation\n",
      " - Yaw          :   1.382944\n",
      " - Pitch        :   1.207972\n",
      " - Roll         :   1.138536\n",
      " - RMS          :   1.247396\n",
      " - 99% Tile     :  11.906300\n",
      "Save output signals into checkpoint/1122-Scene3-LSTM-SmallWindow-UseDD/sample/0020.npy\n"
     ]
    },
    {
     "name": "stderr",
     "output_type": "stream",
     "text": [
      "[0021/0100] Train: 100%|███████████████████████████████| 72/72 [00:09<00:00,  7.50it/s, loss 5.1459]\n",
      "[0021/0100] Validation: 100%|██████████████████████| 75/75 [00:06<00:00, 12.04it/s, val_loss 7.5551]\n",
      "[0022/0100] Train:   0%|                                                     | 0/72 [00:00<?, ?it/s]"
     ]
    },
    {
     "name": "stdout",
     "output_type": "stream",
     "text": [
      "                  validation\n",
      " - Yaw          :   1.173319\n",
      " - Pitch        :   1.274084\n",
      " - Roll         :   1.204356\n",
      " - RMS          :   1.217982\n",
      " - 99% Tile     :  11.215795\n",
      "Save output signals into checkpoint/1122-Scene3-LSTM-SmallWindow-UseDD/sample/0021.npy\n"
     ]
    },
    {
     "name": "stderr",
     "output_type": "stream",
     "text": [
      "[0022/0100] Train: 100%|███████████████████████████████| 72/72 [00:09<00:00,  7.68it/s, loss 4.5861]\n",
      "[0022/0100] Validation: 100%|██████████████████████| 75/75 [00:06<00:00, 12.29it/s, val_loss 6.9207]\n",
      "[0023/0100] Train:   0%|                                                     | 0/72 [00:00<?, ?it/s]"
     ]
    },
    {
     "name": "stdout",
     "output_type": "stream",
     "text": [
      "                  validation\n",
      " - Yaw          :   1.141801\n",
      " - Pitch        :   1.233662\n",
      " - Roll         :   1.081695\n",
      " - RMS          :   1.154079\n",
      " - 99% Tile     :  10.497314\n",
      "Save output signals into checkpoint/1122-Scene3-LSTM-SmallWindow-UseDD/sample/0022.npy\n"
     ]
    },
    {
     "name": "stderr",
     "output_type": "stream",
     "text": [
      "[0023/0100] Train: 100%|███████████████████████████████| 72/72 [00:09<00:00,  7.89it/s, loss 4.1000]\n",
      "[0023/0100] Validation: 100%|██████████████████████| 75/75 [00:05<00:00, 12.80it/s, val_loss 6.8610]\n",
      "[0024/0100] Train:   0%|                                                     | 0/72 [00:00<?, ?it/s]"
     ]
    },
    {
     "name": "stdout",
     "output_type": "stream",
     "text": [
      "                  validation\n",
      " - Yaw          :   1.145341\n",
      " - Pitch        :   1.145450\n",
      " - Roll         :   1.105246\n",
      " - RMS          :   1.132171\n",
      " - 99% Tile     :  10.529059\n",
      "Save output signals into checkpoint/1122-Scene3-LSTM-SmallWindow-UseDD/sample/0023.npy\n"
     ]
    },
    {
     "name": "stderr",
     "output_type": "stream",
     "text": [
      "[0024/0100] Train: 100%|███████████████████████████████| 72/72 [00:08<00:00,  8.25it/s, loss 3.8648]\n",
      "[0024/0100] Validation: 100%|██████████████████████| 75/75 [00:06<00:00, 11.57it/s, val_loss 6.5109]\n",
      "[0025/0100] Train:   0%|                                                     | 0/72 [00:00<?, ?it/s]"
     ]
    },
    {
     "name": "stdout",
     "output_type": "stream",
     "text": [
      "                  validation\n",
      " - Yaw          :   1.243960\n",
      " - Pitch        :   1.073309\n",
      " - Roll         :   1.134193\n",
      " - RMS          :   1.152653\n",
      " - 99% Tile     :  10.284862\n",
      "Save output signals into checkpoint/1122-Scene3-LSTM-SmallWindow-UseDD/sample/0024.npy\n"
     ]
    },
    {
     "name": "stderr",
     "output_type": "stream",
     "text": [
      "[0025/0100] Train: 100%|███████████████████████████████| 72/72 [00:08<00:00,  8.12it/s, loss 3.5934]\n",
      "[0025/0100] Validation: 100%|██████████████████████| 75/75 [00:06<00:00, 12.22it/s, val_loss 6.1013]\n",
      "[0026/0100] Train:   0%|                                                     | 0/72 [00:00<?, ?it/s]"
     ]
    },
    {
     "name": "stdout",
     "output_type": "stream",
     "text": [
      "                  validation\n",
      " - Yaw          :   1.168913\n",
      " - Pitch        :   1.035647\n",
      " - Roll         :   0.998829\n",
      " - RMS          :   1.070293\n",
      " - 99% Tile     :  10.096029\n",
      "Save output signals into checkpoint/1122-Scene3-LSTM-SmallWindow-UseDD/sample/0025.npy\n"
     ]
    },
    {
     "name": "stderr",
     "output_type": "stream",
     "text": [
      "[0026/0100] Train: 100%|███████████████████████████████| 72/72 [00:09<00:00,  7.25it/s, loss 3.2430]\n",
      "[0026/0100] Validation: 100%|██████████████████████| 75/75 [00:05<00:00, 12.95it/s, val_loss 5.9353]\n",
      "[0027/0100] Train:   0%|                                                     | 0/72 [00:00<?, ?it/s]"
     ]
    },
    {
     "name": "stdout",
     "output_type": "stream",
     "text": [
      "                  validation\n",
      " - Yaw          :   0.930382\n",
      " - Pitch        :   1.076166\n",
      " - Roll         :   1.018285\n",
      " - RMS          :   1.010057\n",
      " - 99% Tile     :   9.505654\n",
      "Save output signals into checkpoint/1122-Scene3-LSTM-SmallWindow-UseDD/sample/0026.npy\n"
     ]
    },
    {
     "name": "stderr",
     "output_type": "stream",
     "text": [
      "[0027/0100] Train: 100%|███████████████████████████████| 72/72 [00:09<00:00,  7.45it/s, loss 2.9938]\n",
      "[0027/0100] Validation: 100%|██████████████████████| 75/75 [00:06<00:00, 11.82it/s, val_loss 5.7559]\n",
      "[0028/0100] Train:   0%|                                                     | 0/72 [00:00<?, ?it/s]"
     ]
    },
    {
     "name": "stdout",
     "output_type": "stream",
     "text": [
      "                  validation\n",
      " - Yaw          :   0.935261\n",
      " - Pitch        :   0.994334\n",
      " - Roll         :   0.957086\n",
      " - RMS          :   0.962536\n",
      " - 99% Tile     :   9.663987\n",
      "Save output signals into checkpoint/1122-Scene3-LSTM-SmallWindow-UseDD/sample/0027.npy\n"
     ]
    },
    {
     "name": "stderr",
     "output_type": "stream",
     "text": [
      "[0028/0100] Train: 100%|███████████████████████████████| 72/72 [00:10<00:00,  6.85it/s, loss 2.8087]\n",
      "[0028/0100] Validation: 100%|██████████████████████| 75/75 [00:05<00:00, 13.84it/s, val_loss 5.5308]\n",
      "[0029/0100] Train:   0%|                                                     | 0/72 [00:00<?, ?it/s]"
     ]
    },
    {
     "name": "stdout",
     "output_type": "stream",
     "text": [
      "                  validation\n",
      " - Yaw          :   1.012339\n",
      " - Pitch        :   1.116392\n",
      " - Roll         :   0.962226\n",
      " - RMS          :   1.032318\n",
      " - 99% Tile     :   9.388323\n",
      "Save output signals into checkpoint/1122-Scene3-LSTM-SmallWindow-UseDD/sample/0028.npy\n"
     ]
    },
    {
     "name": "stderr",
     "output_type": "stream",
     "text": [
      "[0029/0100] Train: 100%|███████████████████████████████| 72/72 [00:10<00:00,  7.03it/s, loss 2.6406]\n",
      "[0029/0100] Validation: 100%|██████████████████████| 75/75 [00:05<00:00, 14.39it/s, val_loss 5.3569]\n",
      "[0030/0100] Train:   0%|                                                     | 0/72 [00:00<?, ?it/s]"
     ]
    },
    {
     "name": "stdout",
     "output_type": "stream",
     "text": [
      "                  validation\n",
      " - Yaw          :   0.953623\n",
      " - Pitch        :   1.088774\n",
      " - Roll         :   0.939961\n",
      " - RMS          :   0.996386\n",
      " - 99% Tile     :   9.241225\n",
      "Save output signals into checkpoint/1122-Scene3-LSTM-SmallWindow-UseDD/sample/0029.npy\n"
     ]
    },
    {
     "name": "stderr",
     "output_type": "stream",
     "text": [
      "[0030/0100] Train: 100%|███████████████████████████████| 72/72 [00:10<00:00,  7.20it/s, loss 2.3762]\n",
      "[0030/0100] Validation: 100%|██████████████████████| 75/75 [00:05<00:00, 14.23it/s, val_loss 5.4994]\n",
      "[0031/0100] Train:   0%|                                                     | 0/72 [00:00<?, ?it/s]"
     ]
    },
    {
     "name": "stdout",
     "output_type": "stream",
     "text": [
      "val_loss is not improved for 1 epochs\n",
      "                  validation\n",
      " - Yaw          :   1.090905\n",
      " - Pitch        :   0.965548\n",
      " - Roll         :   0.957624\n",
      " - RMS          :   1.006546\n",
      " - 99% Tile     :   9.200525\n",
      "Save output signals into checkpoint/1122-Scene3-LSTM-SmallWindow-UseDD/sample/0030.npy\n"
     ]
    },
    {
     "name": "stderr",
     "output_type": "stream",
     "text": [
      "[0031/0100] Train: 100%|███████████████████████████████| 72/72 [00:08<00:00,  8.14it/s, loss 2.4218]\n",
      "[0031/0100] Validation: 100%|██████████████████████| 75/75 [00:06<00:00, 11.86it/s, val_loss 5.2723]\n",
      "[0032/0100] Train:   0%|                                                     | 0/72 [00:00<?, ?it/s]"
     ]
    },
    {
     "name": "stdout",
     "output_type": "stream",
     "text": [
      "                  validation\n",
      " - Yaw          :   1.075801\n",
      " - Pitch        :   1.006934\n",
      " - Roll         :   0.887300\n",
      " - RMS          :   0.993070\n",
      " - 99% Tile     :   9.182770\n",
      "Save output signals into checkpoint/1122-Scene3-LSTM-SmallWindow-UseDD/sample/0031.npy\n"
     ]
    },
    {
     "name": "stderr",
     "output_type": "stream",
     "text": [
      "[0032/0100] Train: 100%|███████████████████████████████| 72/72 [00:08<00:00,  8.16it/s, loss 2.1744]\n",
      "[0032/0100] Validation: 100%|██████████████████████| 75/75 [00:06<00:00, 11.64it/s, val_loss 5.5328]\n",
      "[0033/0100] Train:   0%|                                                     | 0/72 [00:00<?, ?it/s]"
     ]
    },
    {
     "name": "stdout",
     "output_type": "stream",
     "text": [
      "val_loss is not improved for 1 epochs\n",
      "                  validation\n",
      " - Yaw          :   0.982579\n",
      " - Pitch        :   1.182459\n",
      " - Roll         :   0.919047\n",
      " - RMS          :   1.034137\n",
      " - 99% Tile     :   9.304777\n",
      "Save output signals into checkpoint/1122-Scene3-LSTM-SmallWindow-UseDD/sample/0032.npy\n"
     ]
    },
    {
     "name": "stderr",
     "output_type": "stream",
     "text": [
      "[0033/0100] Train: 100%|███████████████████████████████| 72/72 [00:09<00:00,  7.56it/s, loss 2.0806]\n",
      "[0033/0100] Validation: 100%|██████████████████████| 75/75 [00:06<00:00, 11.92it/s, val_loss 5.5359]\n",
      "[0034/0100] Train:   0%|                                                     | 0/72 [00:00<?, ?it/s]"
     ]
    },
    {
     "name": "stdout",
     "output_type": "stream",
     "text": [
      "val_loss is not improved for 2 epochs\n",
      "                  validation\n",
      " - Yaw          :   0.976987\n",
      " - Pitch        :   0.920676\n",
      " - Roll         :   0.905597\n",
      " - RMS          :   0.934925\n",
      " - 99% Tile     :   9.200799\n",
      "Save output signals into checkpoint/1122-Scene3-LSTM-SmallWindow-UseDD/sample/0033.npy\n"
     ]
    },
    {
     "name": "stderr",
     "output_type": "stream",
     "text": [
      "[0034/0100] Train: 100%|███████████████████████████████| 72/72 [00:09<00:00,  7.21it/s, loss 2.0079]\n",
      "[0034/0100] Validation: 100%|██████████████████████| 75/75 [00:05<00:00, 13.93it/s, val_loss 5.6936]\n",
      "[0035/0100] Train:   0%|                                                     | 0/72 [00:00<?, ?it/s]"
     ]
    },
    {
     "name": "stdout",
     "output_type": "stream",
     "text": [
      "val_loss is not improved for 3 epochs\n",
      "                  validation\n",
      " - Yaw          :   1.099829\n",
      " - Pitch        :   1.107332\n",
      " - Roll         :   0.931792\n",
      " - RMS          :   1.049451\n",
      " - 99% Tile     :   9.243714\n",
      "Save output signals into checkpoint/1122-Scene3-LSTM-SmallWindow-UseDD/sample/0034.npy\n"
     ]
    },
    {
     "name": "stderr",
     "output_type": "stream",
     "text": [
      "[0035/0100] Train: 100%|███████████████████████████████| 72/72 [00:09<00:00,  7.83it/s, loss 1.9421]\n",
      "[0035/0100] Validation: 100%|██████████████████████| 75/75 [00:06<00:00, 12.21it/s, val_loss 5.6573]\n",
      "[0036/0100] Train:   0%|                                                     | 0/72 [00:00<?, ?it/s]"
     ]
    },
    {
     "name": "stdout",
     "output_type": "stream",
     "text": [
      "val_loss is not improved for 4 epochs\n",
      "                  validation\n",
      " - Yaw          :   1.022616\n",
      " - Pitch        :   0.932884\n",
      " - Roll         :   0.937570\n",
      " - RMS          :   0.965238\n",
      " - 99% Tile     :   9.439538\n",
      "Save output signals into checkpoint/1122-Scene3-LSTM-SmallWindow-UseDD/sample/0035.npy\n"
     ]
    },
    {
     "name": "stderr",
     "output_type": "stream",
     "text": [
      "[0036/0100] Train: 100%|███████████████████████████████| 72/72 [00:09<00:00,  7.53it/s, loss 1.7597]\n",
      "[0036/0100] Validation: 100%|██████████████████████| 75/75 [00:06<00:00, 12.17it/s, val_loss 5.4223]\n",
      "[0037/0100] Train:   0%|                                                     | 0/72 [00:00<?, ?it/s]"
     ]
    },
    {
     "name": "stdout",
     "output_type": "stream",
     "text": [
      "Decaying lr from 0.001 to 0.0005 because val_loss did not improved for 5 epochs\n",
      "val_loss is not improved for 5 epochs\n",
      "                  validation\n",
      " - Yaw          :   1.029016\n",
      " - Pitch        :   1.078534\n",
      " - Roll         :   0.870886\n",
      " - RMS          :   0.996753\n",
      " - 99% Tile     :   9.178769\n",
      "Save output signals into checkpoint/1122-Scene3-LSTM-SmallWindow-UseDD/sample/0036.npy\n"
     ]
    },
    {
     "name": "stderr",
     "output_type": "stream",
     "text": [
      "[0037/0100] Train: 100%|███████████████████████████████| 72/72 [00:11<00:00,  6.32it/s, loss 1.5979]\n",
      "[0037/0100] Validation: 100%|██████████████████████| 75/75 [00:04<00:00, 15.94it/s, val_loss 5.1797]\n",
      "[0038/0100] Train:   0%|                                                     | 0/72 [00:00<?, ?it/s]"
     ]
    },
    {
     "name": "stdout",
     "output_type": "stream",
     "text": [
      "                  validation\n",
      " - Yaw          :   0.939405\n",
      " - Pitch        :   0.886510\n",
      " - Roll         :   0.843883\n",
      " - RMS          :   0.890790\n",
      " - 99% Tile     :   9.408079\n",
      "Save output signals into checkpoint/1122-Scene3-LSTM-SmallWindow-UseDD/sample/0037.npy\n"
     ]
    },
    {
     "name": "stderr",
     "output_type": "stream",
     "text": [
      "[0038/0100] Train: 100%|███████████████████████████████| 72/72 [00:11<00:00,  6.40it/s, loss 1.5642]\n",
      "[0038/0100] Validation: 100%|██████████████████████| 75/75 [00:04<00:00, 18.20it/s, val_loss 5.2689]\n",
      "[0039/0100] Train:   0%|                                                     | 0/72 [00:00<?, ?it/s]"
     ]
    },
    {
     "name": "stdout",
     "output_type": "stream",
     "text": [
      "val_loss is not improved for 1 epochs\n",
      "                  validation\n",
      " - Yaw          :   0.946239\n",
      " - Pitch        :   0.906664\n",
      " - Roll         :   0.834868\n",
      " - RMS          :   0.897109\n",
      " - 99% Tile     :   9.229446\n",
      "Save output signals into checkpoint/1122-Scene3-LSTM-SmallWindow-UseDD/sample/0038.npy\n"
     ]
    },
    {
     "name": "stderr",
     "output_type": "stream",
     "text": [
      "[0039/0100] Train: 100%|███████████████████████████████| 72/72 [00:11<00:00,  6.35it/s, loss 1.5274]\n",
      "[0039/0100] Validation: 100%|██████████████████████| 75/75 [00:04<00:00, 15.34it/s, val_loss 5.3048]\n",
      "[0040/0100] Train:   0%|                                                     | 0/72 [00:00<?, ?it/s]"
     ]
    },
    {
     "name": "stdout",
     "output_type": "stream",
     "text": [
      "val_loss is not improved for 2 epochs\n",
      "                  validation\n",
      " - Yaw          :   0.940172\n",
      " - Pitch        :   0.893922\n",
      " - Roll         :   0.821934\n",
      " - RMS          :   0.886678\n",
      " - 99% Tile     :   9.169487\n",
      "Save output signals into checkpoint/1122-Scene3-LSTM-SmallWindow-UseDD/sample/0039.npy\n"
     ]
    },
    {
     "name": "stderr",
     "output_type": "stream",
     "text": [
      "[0040/0100] Train: 100%|███████████████████████████████| 72/72 [00:09<00:00,  7.87it/s, loss 1.4823]\n",
      "[0040/0100] Validation: 100%|██████████████████████| 75/75 [00:06<00:00, 11.94it/s, val_loss 5.3734]\n",
      "[0041/0100] Train:   0%|                                                     | 0/72 [00:00<?, ?it/s]"
     ]
    },
    {
     "name": "stdout",
     "output_type": "stream",
     "text": [
      "val_loss is not improved for 3 epochs\n",
      "                  validation\n",
      " - Yaw          :   1.015756\n",
      " - Pitch        :   0.873642\n",
      " - Roll         :   0.868359\n",
      " - RMS          :   0.921784\n",
      " - 99% Tile     :   9.144470\n",
      "Save output signals into checkpoint/1122-Scene3-LSTM-SmallWindow-UseDD/sample/0040.npy\n"
     ]
    },
    {
     "name": "stderr",
     "output_type": "stream",
     "text": [
      "[0041/0100] Train: 100%|███████████████████████████████| 72/72 [00:10<00:00,  6.74it/s, loss 1.4592]\n",
      "[0041/0100] Validation: 100%|██████████████████████| 75/75 [00:04<00:00, 15.92it/s, val_loss 5.2017]\n",
      "[0042/0100] Train:   0%|                                                     | 0/72 [00:00<?, ?it/s]"
     ]
    },
    {
     "name": "stdout",
     "output_type": "stream",
     "text": [
      "val_loss is not improved for 4 epochs\n",
      "                  validation\n",
      " - Yaw          :   0.911968\n",
      " - Pitch        :   0.881469\n",
      " - Roll         :   0.848530\n",
      " - RMS          :   0.881037\n",
      " - 99% Tile     :   9.072764\n",
      "Save output signals into checkpoint/1122-Scene3-LSTM-SmallWindow-UseDD/sample/0041.npy\n"
     ]
    },
    {
     "name": "stderr",
     "output_type": "stream",
     "text": [
      "[0042/0100] Train: 100%|███████████████████████████████| 72/72 [00:09<00:00,  7.69it/s, loss 1.4239]\n",
      "[0042/0100] Validation: 100%|██████████████████████| 75/75 [00:05<00:00, 13.87it/s, val_loss 5.3155]\n",
      "[0043/0100] Train:   0%|                                                     | 0/72 [00:00<?, ?it/s]"
     ]
    },
    {
     "name": "stdout",
     "output_type": "stream",
     "text": [
      "Decaying lr from 0.0005 to 0.00025 because val_loss did not improved for 5 epochs\n",
      "val_loss is not improved for 5 epochs\n",
      "                  validation\n",
      " - Yaw          :   0.943202\n",
      " - Pitch        :   0.972301\n",
      " - Roll         :   0.837449\n",
      " - RMS          :   0.919478\n",
      " - 99% Tile     :   9.118063\n",
      "Save output signals into checkpoint/1122-Scene3-LSTM-SmallWindow-UseDD/sample/0042.npy\n"
     ]
    },
    {
     "name": "stderr",
     "output_type": "stream",
     "text": [
      "[0043/0100] Train: 100%|███████████████████████████████| 72/72 [00:08<00:00,  8.97it/s, loss 1.3399]\n",
      "[0043/0100] Validation: 100%|██████████████████████| 75/75 [00:03<00:00, 19.03it/s, val_loss 5.2365]\n",
      "[0044/0100] Train:   0%|                                                     | 0/72 [00:00<?, ?it/s]"
     ]
    },
    {
     "name": "stdout",
     "output_type": "stream",
     "text": [
      "val_loss is not improved for 6 epochs\n",
      "                  validation\n",
      " - Yaw          :   0.899665\n",
      " - Pitch        :   0.945124\n",
      " - Roll         :   0.836264\n",
      " - RMS          :   0.894799\n",
      " - 99% Tile     :   9.109783\n",
      "Save output signals into checkpoint/1122-Scene3-LSTM-SmallWindow-UseDD/sample/0043.npy\n"
     ]
    },
    {
     "name": "stderr",
     "output_type": "stream",
     "text": [
      "[0044/0100] Train: 100%|███████████████████████████████| 72/72 [00:08<00:00,  8.59it/s, loss 1.3327]\n",
      "[0044/0100] Validation: 100%|██████████████████████| 75/75 [00:04<00:00, 18.12it/s, val_loss 5.1710]\n",
      "[0045/0100] Train:   0%|                                                     | 0/72 [00:00<?, ?it/s]"
     ]
    },
    {
     "name": "stdout",
     "output_type": "stream",
     "text": [
      "                  validation\n",
      " - Yaw          :   0.946450\n",
      " - Pitch        :   0.905619\n",
      " - Roll         :   0.837584\n",
      " - RMS          :   0.897675\n",
      " - 99% Tile     :   9.283855\n",
      "Save output signals into checkpoint/1122-Scene3-LSTM-SmallWindow-UseDD/sample/0044.npy\n"
     ]
    },
    {
     "name": "stderr",
     "output_type": "stream",
     "text": [
      "[0045/0100] Train: 100%|███████████████████████████████| 72/72 [00:07<00:00,  9.50it/s, loss 1.3133]\n",
      "[0045/0100] Validation: 100%|██████████████████████| 75/75 [00:04<00:00, 16.76it/s, val_loss 5.3357]\n",
      "[0046/0100] Train:   0%|                                                     | 0/72 [00:00<?, ?it/s]"
     ]
    },
    {
     "name": "stdout",
     "output_type": "stream",
     "text": [
      "val_loss is not improved for 1 epochs\n",
      "                  validation\n",
      " - Yaw          :   0.936116\n",
      " - Pitch        :   0.957234\n",
      " - Roll         :   0.839515\n",
      " - RMS          :   0.912396\n",
      " - 99% Tile     :   9.230328\n",
      "Save output signals into checkpoint/1122-Scene3-LSTM-SmallWindow-UseDD/sample/0045.npy\n"
     ]
    },
    {
     "name": "stderr",
     "output_type": "stream",
     "text": [
      "[0046/0100] Train: 100%|███████████████████████████████| 72/72 [00:07<00:00,  9.40it/s, loss 1.2883]\n",
      "[0046/0100] Validation: 100%|██████████████████████| 75/75 [00:04<00:00, 16.86it/s, val_loss 5.2742]\n",
      "[0047/0100] Train:   0%|                                                     | 0/72 [00:00<?, ?it/s]"
     ]
    },
    {
     "name": "stdout",
     "output_type": "stream",
     "text": [
      "val_loss is not improved for 2 epochs\n",
      "                  validation\n",
      " - Yaw          :   0.967555\n",
      " - Pitch        :   0.872683\n",
      " - Roll         :   0.836073\n",
      " - RMS          :   0.893823\n",
      " - 99% Tile     :   9.265202\n",
      "Save output signals into checkpoint/1122-Scene3-LSTM-SmallWindow-UseDD/sample/0046.npy\n"
     ]
    },
    {
     "name": "stderr",
     "output_type": "stream",
     "text": [
      "[0047/0100] Train: 100%|███████████████████████████████| 72/72 [00:07<00:00,  9.82it/s, loss 1.2834]\n",
      "[0047/0100] Validation: 100%|██████████████████████| 75/75 [00:04<00:00, 15.91it/s, val_loss 5.0575]\n",
      "[0048/0100] Train:   0%|                                                     | 0/72 [00:00<?, ?it/s]"
     ]
    },
    {
     "name": "stdout",
     "output_type": "stream",
     "text": [
      "                  validation\n",
      " - Yaw          :   0.912819\n",
      " - Pitch        :   0.860762\n",
      " - Roll         :   0.800359\n",
      " - RMS          :   0.859209\n",
      " - 99% Tile     :   9.089125\n",
      "Save output signals into checkpoint/1122-Scene3-LSTM-SmallWindow-UseDD/sample/0047.npy\n"
     ]
    },
    {
     "name": "stderr",
     "output_type": "stream",
     "text": [
      "[0048/0100] Train: 100%|███████████████████████████████| 72/72 [00:07<00:00,  9.37it/s, loss 1.2663]\n",
      "[0048/0100] Validation: 100%|██████████████████████| 75/75 [00:04<00:00, 17.12it/s, val_loss 5.2542]\n",
      "[0049/0100] Train:   0%|                                                     | 0/72 [00:00<?, ?it/s]"
     ]
    },
    {
     "name": "stdout",
     "output_type": "stream",
     "text": [
      "val_loss is not improved for 1 epochs\n",
      "                  validation\n",
      " - Yaw          :   0.957243\n",
      " - Pitch        :   0.851182\n",
      " - Roll         :   0.805476\n",
      " - RMS          :   0.873617\n",
      " - 99% Tile     :   9.450830\n",
      "Save output signals into checkpoint/1122-Scene3-LSTM-SmallWindow-UseDD/sample/0048.npy\n"
     ]
    },
    {
     "name": "stderr",
     "output_type": "stream",
     "text": [
      "[0049/0100] Train: 100%|███████████████████████████████| 72/72 [00:07<00:00,  9.10it/s, loss 1.2504]\n",
      "[0049/0100] Validation: 100%|██████████████████████| 75/75 [00:04<00:00, 15.16it/s, val_loss 5.2151]\n",
      "[0050/0100] Train:   0%|                                                     | 0/72 [00:00<?, ?it/s]"
     ]
    },
    {
     "name": "stdout",
     "output_type": "stream",
     "text": [
      "val_loss is not improved for 2 epochs\n",
      "                  validation\n",
      " - Yaw          :   0.934033\n",
      " - Pitch        :   0.856336\n",
      " - Roll         :   0.820141\n",
      " - RMS          :   0.871466\n",
      " - 99% Tile     :   9.382507\n",
      "Save output signals into checkpoint/1122-Scene3-LSTM-SmallWindow-UseDD/sample/0049.npy\n"
     ]
    },
    {
     "name": "stderr",
     "output_type": "stream",
     "text": [
      "[0050/0100] Train: 100%|███████████████████████████████| 72/72 [00:08<00:00,  8.85it/s, loss 1.2348]\n",
      "[0050/0100] Validation: 100%|██████████████████████| 75/75 [00:04<00:00, 16.20it/s, val_loss 5.2691]\n",
      "[0051/0100] Train:   0%|                                                     | 0/72 [00:00<?, ?it/s]"
     ]
    },
    {
     "name": "stdout",
     "output_type": "stream",
     "text": [
      "val_loss is not improved for 3 epochs\n",
      "                  validation\n",
      " - Yaw          :   0.927133\n",
      " - Pitch        :   0.885522\n",
      " - Roll         :   0.846452\n",
      " - RMS          :   0.886981\n",
      " - 99% Tile     :   9.451595\n",
      "Save output signals into checkpoint/1122-Scene3-LSTM-SmallWindow-UseDD/sample/0050.npy\n"
     ]
    },
    {
     "name": "stderr",
     "output_type": "stream",
     "text": [
      "[0051/0100] Train: 100%|███████████████████████████████| 72/72 [00:08<00:00,  8.91it/s, loss 1.2167]\n",
      "[0051/0100] Validation: 100%|██████████████████████| 75/75 [00:05<00:00, 14.78it/s, val_loss 5.2234]\n",
      "[0052/0100] Train:   0%|                                                     | 0/72 [00:00<?, ?it/s]"
     ]
    },
    {
     "name": "stdout",
     "output_type": "stream",
     "text": [
      "val_loss is not improved for 4 epochs\n",
      "                  validation\n",
      " - Yaw          :   0.960854\n",
      " - Pitch        :   0.895375\n",
      " - Roll         :   0.864150\n",
      " - RMS          :   0.907688\n",
      " - 99% Tile     :   9.302276\n",
      "Save output signals into checkpoint/1122-Scene3-LSTM-SmallWindow-UseDD/sample/0051.npy\n"
     ]
    },
    {
     "name": "stderr",
     "output_type": "stream",
     "text": [
      "[0052/0100] Train: 100%|███████████████████████████████| 72/72 [00:08<00:00,  8.85it/s, loss 1.1896]\n",
      "[0052/0100] Validation: 100%|██████████████████████| 75/75 [00:04<00:00, 16.27it/s, val_loss 5.1977]\n",
      "[0053/0100] Train:   0%|                                                     | 0/72 [00:00<?, ?it/s]"
     ]
    },
    {
     "name": "stdout",
     "output_type": "stream",
     "text": [
      "Decaying lr from 0.00025 to 0.000125 because val_loss did not improved for 5 epochs\n",
      "val_loss is not improved for 5 epochs\n",
      "                  validation\n",
      " - Yaw          :   0.949090\n",
      " - Pitch        :   0.885439\n",
      " - Roll         :   0.803954\n",
      " - RMS          :   0.881498\n",
      " - 99% Tile     :   9.265378\n",
      "Save output signals into checkpoint/1122-Scene3-LSTM-SmallWindow-UseDD/sample/0052.npy\n"
     ]
    },
    {
     "name": "stderr",
     "output_type": "stream",
     "text": [
      "[0053/0100] Train: 100%|███████████████████████████████| 72/72 [00:07<00:00,  9.75it/s, loss 1.1760]\n",
      "[0053/0100] Validation: 100%|██████████████████████| 75/75 [00:04<00:00, 15.15it/s, val_loss 5.2243]\n",
      "[0054/0100] Train:   0%|                                                     | 0/72 [00:00<?, ?it/s]"
     ]
    },
    {
     "name": "stdout",
     "output_type": "stream",
     "text": [
      "val_loss is not improved for 6 epochs\n",
      "                  validation\n",
      " - Yaw          :   0.931034\n",
      " - Pitch        :   0.885787\n",
      " - Roll         :   0.818054\n",
      " - RMS          :   0.879518\n",
      " - 99% Tile     :   9.278498\n",
      "Save output signals into checkpoint/1122-Scene3-LSTM-SmallWindow-UseDD/sample/0053.npy\n"
     ]
    },
    {
     "name": "stderr",
     "output_type": "stream",
     "text": [
      "[0054/0100] Train: 100%|███████████████████████████████| 72/72 [00:07<00:00, 10.12it/s, loss 1.1509]\n",
      "[0054/0100] Validation: 100%|██████████████████████| 75/75 [00:04<00:00, 15.74it/s, val_loss 5.1654]\n",
      "[0055/0100] Train:   0%|                                                     | 0/72 [00:00<?, ?it/s]"
     ]
    },
    {
     "name": "stdout",
     "output_type": "stream",
     "text": [
      "val_loss is not improved for 7 epochs\n",
      "                  validation\n",
      " - Yaw          :   0.920458\n",
      " - Pitch        :   0.862096\n",
      " - Roll         :   0.808481\n",
      " - RMS          :   0.864888\n",
      " - 99% Tile     :   9.308687\n",
      "Save output signals into checkpoint/1122-Scene3-LSTM-SmallWindow-UseDD/sample/0054.npy\n"
     ]
    },
    {
     "name": "stderr",
     "output_type": "stream",
     "text": [
      "[0055/0100] Train: 100%|███████████████████████████████| 72/72 [00:08<00:00,  8.82it/s, loss 1.1310]\n",
      "[0055/0100] Validation: 100%|██████████████████████| 75/75 [00:04<00:00, 16.06it/s, val_loss 5.1550]\n",
      "[0056/0100] Train:   0%|                                                     | 0/72 [00:00<?, ?it/s]"
     ]
    },
    {
     "name": "stdout",
     "output_type": "stream",
     "text": [
      "val_loss is not improved for 8 epochs\n",
      "                  validation\n",
      " - Yaw          :   0.952375\n",
      " - Pitch        :   0.913893\n",
      " - Roll         :   0.800539\n",
      " - RMS          :   0.891269\n",
      " - 99% Tile     :   9.281972\n",
      "Save output signals into checkpoint/1122-Scene3-LSTM-SmallWindow-UseDD/sample/0055.npy\n"
     ]
    },
    {
     "name": "stderr",
     "output_type": "stream",
     "text": [
      "[0056/0100] Train: 100%|███████████████████████████████| 72/72 [00:07<00:00,  9.34it/s, loss 1.1311]\n",
      "[0056/0100] Validation: 100%|██████████████████████| 75/75 [00:04<00:00, 16.25it/s, val_loss 5.2238]\n",
      "[0057/0100] Train:   0%|                                                     | 0/72 [00:00<?, ?it/s]"
     ]
    },
    {
     "name": "stdout",
     "output_type": "stream",
     "text": [
      "val_loss is not improved for 9 epochs\n",
      "                  validation\n",
      " - Yaw          :   0.930436\n",
      " - Pitch        :   0.884102\n",
      " - Roll         :   0.800718\n",
      " - RMS          :   0.873403\n",
      " - 99% Tile     :   9.344004\n",
      "Save output signals into checkpoint/1122-Scene3-LSTM-SmallWindow-UseDD/sample/0056.npy\n"
     ]
    },
    {
     "name": "stderr",
     "output_type": "stream",
     "text": [
      "[0057/0100] Train: 100%|███████████████████████████████| 72/72 [00:07<00:00,  9.37it/s, loss 1.1210]\n",
      "[0057/0100] Validation: 100%|██████████████████████| 75/75 [00:04<00:00, 15.69it/s, val_loss 5.1825]\n"
     ]
    },
    {
     "name": "stdout",
     "output_type": "stream",
     "text": [
      "Decaying lr from 0.000125 to 6.25e-05 because val_loss did not improved for 5 epochs\n",
      "val_loss is not improved for 10 epochs\n",
      "Stop training because val_loss did not improved for 10 epochs\n",
      "                  validation\n",
      " - Yaw          :   0.913689\n",
      " - Pitch        :   0.875174\n",
      " - Roll         :   0.814187\n",
      " - RMS          :   0.868650\n",
      " - 99% Tile     :   9.320229\n",
      "Save output signals into checkpoint/1122-Scene3-LSTM-SmallWindow-UseDD/sample/0057.npy\n"
     ]
    }
   ],
   "source": [
    "trainer.fit(ds_train, ds_test, num_epochs=100, batch_size=256, shuffle=True, pin_memory=True)"
   ]
  },
  {
   "cell_type": "code",
   "execution_count": null,
   "metadata": {},
   "outputs": [],
   "source": []
  }
 ],
 "metadata": {
  "kernelspec": {
   "display_name": "torch",
   "language": "python",
   "name": "torch"
  },
  "language_info": {
   "codemirror_mode": {
    "name": "ipython",
    "version": 3
   },
   "file_extension": ".py",
   "mimetype": "text/x-python",
   "name": "python",
   "nbconvert_exporter": "python",
   "pygments_lexer": "ipython3",
   "version": "3.7.9"
  }
 },
 "nbformat": 4,
 "nbformat_minor": 4
}
