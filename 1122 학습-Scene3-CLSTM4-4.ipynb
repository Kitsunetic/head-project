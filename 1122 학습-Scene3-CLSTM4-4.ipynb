{
 "cells": [
  {
   "cell_type": "markdown",
   "metadata": {},
   "source": [
    "# 학습 결과\n",
    "\n",
    "user1의 scene 1~3만 사용해서 학습\n",
    "\n",
    "scene보다 user가 많기 때문에 데이터의 양이 확연히 줄어듬에도 불구하고 성능이 괜찮음.  \n",
    "적은 데이터 특화됐기 때문인지는 모르겠다.\n",
    "\n",
    "나머지 scene에 대해서도 잘 학습을 하면서 user에 대해서도 특화된다면 성능을 상당히 끌어올릴 수 있을 것으로 기대됨.  \n",
    "--> curriculum learning"
   ]
  },
  {
   "cell_type": "code",
   "execution_count": 1,
   "metadata": {},
   "outputs": [],
   "source": [
    "from multiprocessing import cpu_count\n",
    "from pathlib import Path\n",
    "from typing import List, Union, AnyStr\n",
    "from math import pi\n",
    "import pickle\n",
    "\n",
    "import numpy as np\n",
    "import torch\n",
    "import matplotlib.pyplot as plt\n",
    "import torch.nn as nn\n",
    "from sklearn import model_selection\n",
    "from tqdm import tqdm\n",
    "import torch_optimizer\n",
    "from torch.utils.data import Dataset\n",
    "import pandas as pd\n",
    "import random\n",
    "\n",
    "import torch_burn as tb\n",
    "import utils"
   ]
  },
  {
   "cell_type": "code",
   "execution_count": 2,
   "metadata": {},
   "outputs": [],
   "source": [
    "tb.seed_everything(0)"
   ]
  },
  {
   "cell_type": "code",
   "execution_count": 3,
   "metadata": {},
   "outputs": [],
   "source": [
    "EXPERIMENT_NAME = '1122-Scene3-CLSTM4-win120-4'\n",
    "CHECKPOINT_DIR = Path('checkpoint', EXPERIMENT_NAME)\n",
    "CHECKPOINT_DIR.mkdir(parents=True, exist_ok=True)\n",
    "\n",
    "DATA_DIR = Path('data/1116')\n",
    "TRAIN_FILES = sorted(list(DATA_DIR.glob('*scene3_0.csv')))\n",
    "TEST_FILES = sorted(list(DATA_DIR.glob('*scene3_1.csv')))"
   ]
  },
  {
   "cell_type": "markdown",
   "metadata": {},
   "source": [
    "# 데이터셋 생성\n",
    "\n",
    "scene1에 대해서 모든 user의 데이터를 하나로 합친다."
   ]
  },
  {
   "cell_type": "code",
   "execution_count": 4,
   "metadata": {},
   "outputs": [],
   "source": [
    "WINDOW_SIZE = 120"
   ]
  },
  {
   "cell_type": "code",
   "execution_count": 5,
   "metadata": {},
   "outputs": [],
   "source": [
    "class CSVSequentialDataset(Dataset):\n",
    "    def __init__(self, csvfile,\n",
    "                 window_size=300, randomized_window_size=False,\n",
    "                 stride=30, randomized_stride=False):\n",
    "        super(CSVSequentialDataset, self).__init__()\n",
    "\n",
    "        self.xcols = ['input_orientation_yaw', 'input_orientation_pitch', 'input_orientation_roll',\n",
    "                      'acceleration_x', 'acceleration_y', 'acceleration_z']\n",
    "        self.ycols = ['input_orientation_yaw', 'input_orientation_pitch', 'input_orientation_roll']\n",
    "\n",
    "        self.csv = pd.read_csv(csvfile)\n",
    "        self.window_size = window_size\n",
    "        \n",
    "        self.indexes = []\n",
    "        i = 0\n",
    "        while i <= len(self.csv) - window_size * 2:\n",
    "            if randomized_window_size:\n",
    "                self.indexes.append((i, i + random.randint(window_size // 2, window_size)))\n",
    "            else:\n",
    "                self.indexes.append((i, i + window_size))\n",
    "\n",
    "            if randomized_stride:\n",
    "                i += random.randint(1, stride)\n",
    "            else:\n",
    "                i += stride\n",
    "\n",
    "    def __len__(self):\n",
    "        return len(self.indexes)\n",
    "\n",
    "    def __getitem__(self, idx):\n",
    "        s, t = self.indexes[idx]\n",
    "        x = self.csv.iloc[s:t][self.xcols].to_numpy()\n",
    "        y = self.csv.iloc[t + 18][self.ycols].to_numpy()\n",
    "\n",
    "        x = torch.tensor(x, dtype=torch.float32) # 300, 6\n",
    "        y = torch.tensor(y, dtype=torch.float32) # 3\n",
    "        \n",
    "        #x[:, 0] /= 10\n",
    "        x[:, 1] *= 5\n",
    "        x[:, 2] *= 5\n",
    "        x[:, 4] /= 10\n",
    "        #y[0] /= 10\n",
    "        y[1] *= 5\n",
    "        y[2] *= 5\n",
    "\n",
    "        return x, y"
   ]
  },
  {
   "cell_type": "code",
   "execution_count": 6,
   "metadata": {},
   "outputs": [],
   "source": [
    "ds_train = [CSVSequentialDataset(f,  \n",
    "                                 window_size=WINDOW_SIZE, randomized_window_size=False,\n",
    "                                 stride=5, randomized_stride=False) for f in TRAIN_FILES]\n",
    "ds_train = tb.data.ChainDataset(*ds_train)\n",
    "ds_test = [CSVSequentialDataset(f,  \n",
    "                                window_size=WINDOW_SIZE, randomized_window_size=False,\n",
    "                                stride=5, randomized_stride=False) for f in TEST_FILES]\n",
    "ds_test = tb.data.ChainDataset(*ds_test)"
   ]
  },
  {
   "cell_type": "code",
   "execution_count": 7,
   "metadata": {},
   "outputs": [
    {
     "data": {
      "text/plain": [
       "(11071, 10671)"
      ]
     },
     "execution_count": 7,
     "metadata": {},
     "output_type": "execute_result"
    }
   ],
   "source": [
    "len(ds_train), len(ds_test)"
   ]
  },
  {
   "cell_type": "code",
   "execution_count": 8,
   "metadata": {},
   "outputs": [
    {
     "data": {
      "text/plain": [
       "(torch.Size([120, 6]), torch.Size([3]))"
      ]
     },
     "execution_count": 8,
     "metadata": {},
     "output_type": "execute_result"
    }
   ],
   "source": [
    "ds_train[0][0].shape, ds_train[0][1].shape"
   ]
  },
  {
   "cell_type": "code",
   "execution_count": 9,
   "metadata": {},
   "outputs": [],
   "source": [
    "x, y = ds_train[0]"
   ]
  },
  {
   "cell_type": "code",
   "execution_count": 10,
   "metadata": {},
   "outputs": [
    {
     "data": {
      "text/plain": [
       "torch.Size([120, 6])"
      ]
     },
     "execution_count": 10,
     "metadata": {},
     "output_type": "execute_result"
    }
   ],
   "source": [
    "x.shape"
   ]
  },
  {
   "cell_type": "code",
   "execution_count": 11,
   "metadata": {},
   "outputs": [
    {
     "data": {
      "text/plain": [
       "[<matplotlib.lines.Line2D at 0x7fd99e42bed0>]"
      ]
     },
     "execution_count": 11,
     "metadata": {},
     "output_type": "execute_result"
    },
    {
     "data": {
      "image/png": "[encoded data removed]",
      "text/plain": [
       "<Figure size 432x288 with 1 Axes>"
      ]
     },
     "metadata": {
      "needs_background": "light"
     },
     "output_type": "display_data"
    }
   ],
   "source": [
    "plt.plot(x[:, 2])"
   ]
  },
  {
   "cell_type": "markdown",
   "metadata": {},
   "source": [
    "# 모델 생성"
   ]
  },
  {
   "cell_type": "code",
   "execution_count": 12,
   "metadata": {},
   "outputs": [],
   "source": [
    "class CLSTM(nn.Module):\n",
    "    def __init__(self):\n",
    "        super(CLSTM, self).__init__()\n",
    "\n",
    "        self.conv_in = nn.Sequential(\n",
    "            nn.Conv1d(6, 24, 3, padding=1, groups=2),\n",
    "            nn.BatchNorm1d(24),\n",
    "            nn.LeakyReLU(),\n",
    "            nn.Conv1d(24, 48, 3, padding=1, groups=2),\n",
    "            nn.BatchNorm1d(48),\n",
    "            nn.LeakyReLU(),\n",
    "            nn.Conv1d(48, 64, 3, padding=1),\n",
    "            nn.BatchNorm1d(64),\n",
    "        )\n",
    "\n",
    "        self.rnn = nn.LSTM(input_size=64,\n",
    "                           hidden_size=64,\n",
    "                           num_layers=8,\n",
    "                           batch_first=True,\n",
    "                           dropout=0,\n",
    "                           bidirectional=True)\n",
    "\n",
    "        self.fc = nn.Linear(128, 3)\n",
    "\n",
    "    def forward(self, x):\n",
    "        x = x.transpose(1, 2)  # B, 48, 6 --> B, 6, 48\n",
    "        x = self.conv_in(x)  # B, 64, 48\n",
    "        x = x.transpose(1, 2)  # B, 48, 64\n",
    "\n",
    "        outs, (hiddens, cells) = self.rnn(x)\n",
    "        x = outs[:, -1, ...]\n",
    "        x = self.fc(x)\n",
    "\n",
    "        return x"
   ]
  },
  {
   "cell_type": "code",
   "execution_count": 13,
   "metadata": {},
   "outputs": [],
   "source": [
    "model = CLSTM().cuda()"
   ]
  },
  {
   "cell_type": "code",
   "execution_count": 14,
   "metadata": {},
   "outputs": [],
   "source": [
    "criterion = nn.MSELoss().cuda()\n",
    "optimizer = torch_optimizer.RAdam(model.parameters())"
   ]
  },
  {
   "cell_type": "code",
   "execution_count": 18,
   "metadata": {},
   "outputs": [],
   "source": [
    "class HPSignalHistory(tb.metrics.InvisibleMetric):\n",
    "    def __init__(self, filepath: AnyStr, name: str, verbose=True):\n",
    "        super(HPSignalHistory, self).__init__(name=name, mode='min')\n",
    "\n",
    "        self.filepath = Path(filepath)\n",
    "        self.filepath.parent.mkdir(parents=True, exist_ok=True)\n",
    "        self.verbose = verbose\n",
    "\n",
    "        self.on_valid = False\n",
    "        self.target_signals = []\n",
    "        self.out_signals = []\n",
    "\n",
    "    def on_valid_epoch_begin(self, epoch: int):\n",
    "        self.on_valid = True\n",
    "\n",
    "        self.target_signals.clear()\n",
    "        self.out_signals.clear()\n",
    "\n",
    "    def on_valid_epoch_end(self, epoch: int, logs: dict):\n",
    "        # 짧은 신호 단락을 3개의 신호 뭉치로 합치기\n",
    "        target_signals = torch.cat(self.target_signals).transpose(0, 1)\n",
    "        out_signals = torch.cat(self.out_signals).transpose(0, 1)\n",
    "        \n",
    "        # denormalize\n",
    "        #target_signals[0] *= 10\n",
    "        target_signals[1] /= 5\n",
    "        target_signals[2] /= 5\n",
    "        #out_signals[0] *= 10\n",
    "        out_signals[1] /= 5\n",
    "        out_signals[2] /= 5\n",
    "\n",
    "        # pickle 파일로 저장\n",
    "        signals = torch.cat([target_signals, out_signals], dim=0).numpy()\n",
    "        filepath = str(self.filepath).format(epoch=epoch, **logs)\n",
    "        if self.verbose:\n",
    "            print('Save output signals into', filepath)\n",
    "        np.save(filepath, signals)\n",
    "\n",
    "        # clear\n",
    "        self.on_valid = False\n",
    "\n",
    "        self.target_signals.clear()\n",
    "        self.out_signals.clear()\n",
    "\n",
    "    def get_value(self, outputs: torch.Tensor, targets: torch.Tensor, is_train: bool):\n",
    "        if not is_train:\n",
    "            self.target_signals.append(targets.detach().cpu())\n",
    "            self.out_signals.append(outputs.detach().cpu())"
   ]
  },
  {
   "cell_type": "code",
   "execution_count": 19,
   "metadata": {},
   "outputs": [],
   "source": [
    "class HPMetric(tb.metrics.InvisibleMetric):\n",
    "    def __init__(self, name: str):\n",
    "        super(HPMetric, self).__init__(name)\n",
    "\n",
    "        self.diff = []\n",
    "\n",
    "    def on_valid_epoch_end(self, epoch: int, logs: dict):\n",
    "        # RMS, 99% tile 출력\n",
    "        yaw_v, pitch_v, roll_v, rms_v, tile99_v = self._calc_values(self.diff)\n",
    "\n",
    "        print(f'                  validation')\n",
    "        print(f' - Yaw          : {yaw_v:10f}')\n",
    "        print(f' - Pitch        : {pitch_v:10f}')\n",
    "        print(f' - Roll         : {roll_v:10f}')\n",
    "        print(f' - RMS          : {rms_v:10f}')\n",
    "        print(f' - 99% Tile     : {tile99_v:10f}')\n",
    "\n",
    "        self.diff.clear()\n",
    "\n",
    "    def get_value(self, outputs: torch.Tensor, targets: torch.Tensor, is_train: bool):\n",
    "        if not is_train:\n",
    "            self.diff.append((outputs - targets).cpu())  # (B, 3)\n",
    "\n",
    "    @staticmethod\n",
    "    def _calc_values(diff):\n",
    "        diff = torch.cat(diff).abs_()  # (D, 3)\n",
    "        #diff[:, 0] *= 10\n",
    "        diff[:, 1] /= 5\n",
    "        diff[:, 2] /= 5\n",
    "        rms = (diff.square().sum(1) / 3).sqrt()\n",
    "        tile = rms.flatten().numpy()\n",
    "        tile99 = np.percentile(tile, 99)\n",
    "        \n",
    "        mrms = rms.mean()\n",
    "        \n",
    "        # diff = radian2degree(diff)\n",
    "        #tile = diff.flatten().numpy()\n",
    "        #tile99 = np.percentile(tile, 99)\n",
    "\n",
    "        mdiff = diff.mean(dim=0)\n",
    "        #rms = (mdiff.square().sum() / 3).sqrt()\n",
    "\n",
    "        return mdiff[0].item(), mdiff[1].item(), mdiff[2].item(), mrms.item(), tile99"
   ]
  },
  {
   "cell_type": "code",
   "execution_count": 20,
   "metadata": {},
   "outputs": [],
   "source": [
    "metrics = [tb.metrics.ModuleMetric(criterion, 'loss'),\n",
    "           HPMetric('hp_metric'),\n",
    "           HPSignalHistory(CHECKPOINT_DIR / 'sample' / '{epoch:04d}.npy', 'hp_signal', verbose=False)]"
   ]
  },
  {
   "cell_type": "code",
   "execution_count": 21,
   "metadata": {},
   "outputs": [],
   "source": [
    "callbacks = [tb.callbacks.EarlyStopping(metrics[0]),\n",
    "             tb.callbacks.LRDecaying(optimizer, metrics[0], patience=3)]"
   ]
  },
  {
   "cell_type": "code",
   "execution_count": 22,
   "metadata": {},
   "outputs": [],
   "source": [
    "trainer = tb.Trainer(model, optimizer, metrics, callbacks, ncols=100)"
   ]
  },
  {
   "cell_type": "code",
   "execution_count": 23,
   "metadata": {},
   "outputs": [
    {
     "name": "stderr",
     "output_type": "stream",
     "text": [
      "[0001/0200] Train: 100%|████████████████████████████| 44/44 [00:04<00:00,  9.53it/s, loss 1363.8092]\n",
      "[0001/0200] Validation: 100%|███████████████████| 42/42 [00:02<00:00, 18.64it/s, val_loss 1491.7431]\n",
      "[0002/0200] Train:   0%|                                                     | 0/44 [00:00<?, ?it/s]"
     ]
    },
    {
     "name": "stdout",
     "output_type": "stream",
     "text": [
      "                  validation\n",
      " - Yaw          :  19.672689\n",
      " - Pitch        :  10.741121\n",
      " - Roll         :   2.594100\n",
      " - RMS          :  13.986691\n",
      " - 99% Tile     :  28.649068\n"
     ]
    },
    {
     "name": "stderr",
     "output_type": "stream",
     "text": [
      "[0002/0200] Train: 100%|████████████████████████████| 44/44 [00:04<00:00, 10.22it/s, loss 1310.2929]\n",
      "[0002/0200] Validation: 100%|███████████████████| 42/42 [00:02<00:00, 18.34it/s, val_loss 1372.6790]\n",
      "[0003/0200] Train:   0%|                                                     | 0/44 [00:00<?, ?it/s]"
     ]
    },
    {
     "name": "stdout",
     "output_type": "stream",
     "text": [
      "                  validation\n",
      " - Yaw          :  19.640270\n",
      " - Pitch        :  10.082336\n",
      " - Roll         :   2.630361\n",
      " - RMS          :  13.777446\n",
      " - 99% Tile     :  28.292076\n"
     ]
    },
    {
     "name": "stderr",
     "output_type": "stream",
     "text": [
      "[0003/0200] Train: 100%|████████████████████████████| 44/44 [00:04<00:00, 10.31it/s, loss 1198.1613]\n",
      "[0003/0200] Validation: 100%|███████████████████| 42/42 [00:02<00:00, 18.97it/s, val_loss 1273.1933]\n",
      "[0004/0200] Train:   0%|                                                     | 0/44 [00:00<?, ?it/s]"
     ]
    },
    {
     "name": "stdout",
     "output_type": "stream",
     "text": [
      "                  validation\n",
      " - Yaw          :  19.584284\n",
      " - Pitch        :   9.504312\n",
      " - Roll         :   2.657248\n",
      " - RMS          :  13.596124\n",
      " - 99% Tile     :  28.446030\n"
     ]
    },
    {
     "name": "stderr",
     "output_type": "stream",
     "text": [
      "[0004/0200] Train: 100%|████████████████████████████| 44/44 [00:04<00:00, 10.35it/s, loss 1127.3673]\n",
      "[0004/0200] Validation: 100%|███████████████████| 42/42 [00:02<00:00, 19.27it/s, val_loss 1212.7738]\n",
      "[0005/0200] Train:   0%|                                                     | 0/44 [00:00<?, ?it/s]"
     ]
    },
    {
     "name": "stdout",
     "output_type": "stream",
     "text": [
      "                  validation\n",
      " - Yaw          :  19.565201\n",
      " - Pitch        :   9.141192\n",
      " - Roll         :   2.670339\n",
      " - RMS          :  13.497700\n",
      " - 99% Tile     :  28.895037\n"
     ]
    },
    {
     "name": "stderr",
     "output_type": "stream",
     "text": [
      "[0005/0200] Train: 100%|████████████████████████████| 44/44 [00:04<00:00, 10.41it/s, loss 1073.2170]\n",
      "[0005/0200] Validation: 100%|███████████████████| 42/42 [00:02<00:00, 18.59it/s, val_loss 1159.8256]\n",
      "[0006/0200] Train:   0%|                                                     | 0/44 [00:00<?, ?it/s]"
     ]
    },
    {
     "name": "stdout",
     "output_type": "stream",
     "text": [
      "                  validation\n",
      " - Yaw          :  19.530298\n",
      " - Pitch        :   8.821955\n",
      " - Roll         :   2.671897\n",
      " - RMS          :  13.393290\n",
      " - 99% Tile     :  29.170569\n"
     ]
    },
    {
     "name": "stderr",
     "output_type": "stream",
     "text": [
      "[0006/0200] Train: 100%|████████████████████████████| 44/44 [00:04<00:00, 10.45it/s, loss 1028.1167]\n",
      "[0006/0200] Validation: 100%|███████████████████| 42/42 [00:02<00:00, 18.93it/s, val_loss 1109.6967]\n",
      "[0007/0200] Train:   0%|                                                     | 0/44 [00:00<?, ?it/s]"
     ]
    },
    {
     "name": "stdout",
     "output_type": "stream",
     "text": [
      "                  validation\n",
      " - Yaw          :  19.588696\n",
      " - Pitch        :   8.487532\n",
      " - Roll         :   2.665038\n",
      " - RMS          :  13.340236\n",
      " - 99% Tile     :  29.285155\n"
     ]
    },
    {
     "name": "stderr",
     "output_type": "stream",
     "text": [
      "[0007/0200] Train: 100%|█████████████████████████████| 44/44 [00:04<00:00, 10.45it/s, loss 991.3170]\n",
      "[0007/0200] Validation: 100%|███████████████████| 42/42 [00:02<00:00, 18.55it/s, val_loss 1056.0086]\n",
      "[0008/0200] Train:   0%|                                                     | 0/44 [00:00<?, ?it/s]"
     ]
    },
    {
     "name": "stdout",
     "output_type": "stream",
     "text": [
      "                  validation\n",
      " - Yaw          :  19.625526\n",
      " - Pitch        :   8.148317\n",
      " - Roll         :   2.651417\n",
      " - RMS          :  13.259974\n",
      " - 99% Tile     :  29.122519\n"
     ]
    },
    {
     "name": "stderr",
     "output_type": "stream",
     "text": [
      "[0008/0200] Train: 100%|█████████████████████████████| 44/44 [00:04<00:00, 10.24it/s, loss 930.8766]\n",
      "[0008/0200] Validation: 100%|████████████████████| 42/42 [00:02<00:00, 19.24it/s, val_loss 980.1859]\n",
      "[0009/0200] Train:   0%|                                                     | 0/44 [00:00<?, ?it/s]"
     ]
    },
    {
     "name": "stdout",
     "output_type": "stream",
     "text": [
      "                  validation\n",
      " - Yaw          :  19.598822\n",
      " - Pitch        :   7.686709\n",
      " - Roll         :   2.647801\n",
      " - RMS          :  13.101771\n",
      " - 99% Tile     :  29.211015\n"
     ]
    },
    {
     "name": "stderr",
     "output_type": "stream",
     "text": [
      "[0009/0200] Train: 100%|█████████████████████████████| 44/44 [00:04<00:00, 10.33it/s, loss 873.1462]\n",
      "[0009/0200] Validation: 100%|████████████████████| 42/42 [00:02<00:00, 18.82it/s, val_loss 919.0863]\n",
      "[0010/0200] Train:   0%|                                                     | 0/44 [00:00<?, ?it/s]"
     ]
    },
    {
     "name": "stdout",
     "output_type": "stream",
     "text": [
      "                  validation\n",
      " - Yaw          :  19.629581\n",
      " - Pitch        :   7.270043\n",
      " - Roll         :   2.645685\n",
      " - RMS          :  13.000537\n",
      " - 99% Tile     :  28.909806\n"
     ]
    },
    {
     "name": "stderr",
     "output_type": "stream",
     "text": [
      "[0010/0200] Train: 100%|█████████████████████████████| 44/44 [00:04<00:00, 10.33it/s, loss 825.6992]\n",
      "[0010/0200] Validation: 100%|████████████████████| 42/42 [00:02<00:00, 18.60it/s, val_loss 868.3070]\n",
      "[0011/0200] Train:   0%|                                                     | 0/44 [00:00<?, ?it/s]"
     ]
    },
    {
     "name": "stdout",
     "output_type": "stream",
     "text": [
      "                  validation\n",
      " - Yaw          :  19.604891\n",
      " - Pitch        :   6.934093\n",
      " - Roll         :   2.637254\n",
      " - RMS          :  12.884031\n",
      " - 99% Tile     :  28.399024\n"
     ]
    },
    {
     "name": "stderr",
     "output_type": "stream",
     "text": [
      "[0011/0200] Train: 100%|█████████████████████████████| 44/44 [00:04<00:00, 10.29it/s, loss 787.8904]\n",
      "[0011/0200] Validation: 100%|████████████████████| 42/42 [00:02<00:00, 19.26it/s, val_loss 823.5264]\n",
      "[0012/0200] Train:   0%|                                                     | 0/44 [00:00<?, ?it/s]"
     ]
    },
    {
     "name": "stdout",
     "output_type": "stream",
     "text": [
      "                  validation\n",
      " - Yaw          :  19.565632\n",
      " - Pitch        :   6.609308\n",
      " - Roll         :   2.637429\n",
      " - RMS          :  12.774179\n",
      " - 99% Tile     :  28.211514\n"
     ]
    },
    {
     "name": "stderr",
     "output_type": "stream",
     "text": [
      "[0012/0200] Train: 100%|█████████████████████████████| 44/44 [00:04<00:00, 10.34it/s, loss 748.1861]\n",
      "[0012/0200] Validation: 100%|████████████████████| 42/42 [00:02<00:00, 18.84it/s, val_loss 791.7383]\n",
      "[0013/0200] Train:   0%|                                                     | 0/44 [00:00<?, ?it/s]"
     ]
    },
    {
     "name": "stdout",
     "output_type": "stream",
     "text": [
      "                  validation\n",
      " - Yaw          :  19.457893\n",
      " - Pitch        :   6.455519\n",
      " - Roll         :   2.637149\n",
      " - RMS          :  12.650430\n",
      " - 99% Tile     :  28.007358\n"
     ]
    },
    {
     "name": "stderr",
     "output_type": "stream",
     "text": [
      "[0013/0200] Train: 100%|█████████████████████████████| 44/44 [00:04<00:00, 10.41it/s, loss 715.3093]\n",
      "[0013/0200] Validation: 100%|████████████████████| 42/42 [00:02<00:00, 18.88it/s, val_loss 740.7143]\n",
      "[0014/0200] Train:   0%|                                                     | 0/44 [00:00<?, ?it/s]"
     ]
    },
    {
     "name": "stdout",
     "output_type": "stream",
     "text": [
      "                  validation\n",
      " - Yaw          :  19.423660\n",
      " - Pitch        :   6.030584\n",
      " - Roll         :   2.614240\n",
      " - RMS          :  12.528151\n",
      " - 99% Tile     :  27.940110\n"
     ]
    },
    {
     "name": "stderr",
     "output_type": "stream",
     "text": [
      "[0014/0200] Train: 100%|█████████████████████████████| 44/44 [00:04<00:00, 10.28it/s, loss 680.2750]\n",
      "[0014/0200] Validation: 100%|████████████████████| 42/42 [00:02<00:00, 18.83it/s, val_loss 702.4628]\n",
      "[0015/0200] Train:   0%|                                                     | 0/44 [00:00<?, ?it/s]"
     ]
    },
    {
     "name": "stdout",
     "output_type": "stream",
     "text": [
      "                  validation\n",
      " - Yaw          :  19.330416\n",
      " - Pitch        :   5.754931\n",
      " - Roll         :   2.607747\n",
      " - RMS          :  12.403018\n",
      " - 99% Tile     :  27.686575\n"
     ]
    },
    {
     "name": "stderr",
     "output_type": "stream",
     "text": [
      "[0015/0200] Train: 100%|█████████████████████████████| 44/44 [00:04<00:00,  9.98it/s, loss 646.2649]\n",
      "[0015/0200] Validation: 100%|████████████████████| 42/42 [00:02<00:00, 19.37it/s, val_loss 669.0155]\n",
      "[0016/0200] Train:   0%|                                                     | 0/44 [00:00<?, ?it/s]"
     ]
    },
    {
     "name": "stdout",
     "output_type": "stream",
     "text": [
      "                  validation\n",
      " - Yaw          :  19.228155\n",
      " - Pitch        :   5.517799\n",
      " - Roll         :   2.610816\n",
      " - RMS          :  12.282766\n",
      " - 99% Tile     :  27.445591\n"
     ]
    },
    {
     "name": "stderr",
     "output_type": "stream",
     "text": [
      "[0016/0200] Train: 100%|█████████████████████████████| 44/44 [00:04<00:00, 10.26it/s, loss 615.4203]\n",
      "[0016/0200] Validation: 100%|████████████████████| 42/42 [00:02<00:00, 19.04it/s, val_loss 639.3992]\n",
      "[0017/0200] Train:   0%|                                                     | 0/44 [00:00<?, ?it/s]"
     ]
    },
    {
     "name": "stdout",
     "output_type": "stream",
     "text": [
      "                  validation\n",
      " - Yaw          :  19.134840\n",
      " - Pitch        :   5.361253\n",
      " - Roll         :   2.559028\n",
      " - RMS          :  12.165218\n",
      " - 99% Tile     :  27.303930\n"
     ]
    },
    {
     "name": "stderr",
     "output_type": "stream",
     "text": [
      "[0017/0200] Train: 100%|█████████████████████████████| 44/44 [00:04<00:00,  9.26it/s, loss 586.9964]\n",
      "[0017/0200] Validation: 100%|████████████████████| 42/42 [00:02<00:00, 16.01it/s, val_loss 601.8537]\n",
      "[0018/0200] Train:   0%|                                                     | 0/44 [00:00<?, ?it/s]"
     ]
    },
    {
     "name": "stdout",
     "output_type": "stream",
     "text": [
      "                  validation\n",
      " - Yaw          :  18.410149\n",
      " - Pitch        :   5.207306\n",
      " - Roll         :   2.540380\n",
      " - RMS          :  11.704764\n",
      " - 99% Tile     :  26.432199\n"
     ]
    },
    {
     "name": "stderr",
     "output_type": "stream",
     "text": [
      "[0018/0200] Train: 100%|█████████████████████████████| 44/44 [00:05<00:00,  8.23it/s, loss 555.9584]\n",
      "[0018/0200] Validation: 100%|████████████████████| 42/42 [00:02<00:00, 15.60it/s, val_loss 573.9045]\n",
      "[0019/0200] Train:   0%|                                                     | 0/44 [00:00<?, ?it/s]"
     ]
    },
    {
     "name": "stdout",
     "output_type": "stream",
     "text": [
      "                  validation\n",
      " - Yaw          :  18.041943\n",
      " - Pitch        :   5.057675\n",
      " - Roll         :   2.510153\n",
      " - RMS          :  11.452149\n",
      " - 99% Tile     :  26.052763\n"
     ]
    },
    {
     "name": "stderr",
     "output_type": "stream",
     "text": [
      "[0019/0200] Train: 100%|█████████████████████████████| 44/44 [00:05<00:00,  7.88it/s, loss 537.4970]\n",
      "[0019/0200] Validation: 100%|████████████████████| 42/42 [00:02<00:00, 15.92it/s, val_loss 555.5955]\n",
      "[0020/0200] Train:   0%|                                                     | 0/44 [00:00<?, ?it/s]"
     ]
    },
    {
     "name": "stdout",
     "output_type": "stream",
     "text": [
      "                  validation\n",
      " - Yaw          :  18.136185\n",
      " - Pitch        :   4.896325\n",
      " - Roll         :   2.548787\n",
      " - RMS          :  11.459222\n",
      " - 99% Tile     :  26.474052\n"
     ]
    },
    {
     "name": "stderr",
     "output_type": "stream",
     "text": [
      "[0020/0200] Train: 100%|█████████████████████████████| 44/44 [00:05<00:00,  7.80it/s, loss 516.5035]\n",
      "[0020/0200] Validation: 100%|████████████████████| 42/42 [00:02<00:00, 15.30it/s, val_loss 528.4297]\n",
      "[0021/0200] Train:   0%|                                                     | 0/44 [00:00<?, ?it/s]"
     ]
    },
    {
     "name": "stdout",
     "output_type": "stream",
     "text": [
      "                  validation\n",
      " - Yaw          :  17.856010\n",
      " - Pitch        :   4.680916\n",
      " - Roll         :   2.534195\n",
      " - RMS          :  11.257015\n",
      " - 99% Tile     :  26.037321\n"
     ]
    },
    {
     "name": "stderr",
     "output_type": "stream",
     "text": [
      "[0021/0200] Train: 100%|█████████████████████████████| 44/44 [00:05<00:00,  7.93it/s, loss 495.5591]\n",
      "[0021/0200] Validation: 100%|████████████████████| 42/42 [00:02<00:00, 15.23it/s, val_loss 509.8475]\n",
      "[0022/0200] Train:   0%|                                                     | 0/44 [00:00<?, ?it/s]"
     ]
    },
    {
     "name": "stdout",
     "output_type": "stream",
     "text": [
      "                  validation\n",
      " - Yaw          :  17.343010\n",
      " - Pitch        :   4.613595\n",
      " - Roll         :   2.497701\n",
      " - RMS          :  10.940000\n",
      " - 99% Tile     :  25.832296\n"
     ]
    },
    {
     "name": "stderr",
     "output_type": "stream",
     "text": [
      "[0022/0200] Train: 100%|█████████████████████████████| 44/44 [00:05<00:00,  7.64it/s, loss 478.3270]\n",
      "[0022/0200] Validation: 100%|████████████████████| 42/42 [00:02<00:00, 15.68it/s, val_loss 491.8187]\n",
      "[0023/0200] Train:   0%|                                                     | 0/44 [00:00<?, ?it/s]"
     ]
    },
    {
     "name": "stdout",
     "output_type": "stream",
     "text": [
      "                  validation\n",
      " - Yaw          :  17.467148\n",
      " - Pitch        :   4.421942\n",
      " - Roll         :   2.499082\n",
      " - RMS          :  10.966450\n",
      " - 99% Tile     :  25.970383\n"
     ]
    },
    {
     "name": "stderr",
     "output_type": "stream",
     "text": [
      "[0023/0200] Train: 100%|█████████████████████████████| 44/44 [00:05<00:00,  7.49it/s, loss 461.6884]\n",
      "[0023/0200] Validation: 100%|████████████████████| 42/42 [00:02<00:00, 15.35it/s, val_loss 473.6016]\n",
      "[0024/0200] Train:   0%|                                                     | 0/44 [00:00<?, ?it/s]"
     ]
    },
    {
     "name": "stdout",
     "output_type": "stream",
     "text": [
      "                  validation\n",
      " - Yaw          :  16.777416\n",
      " - Pitch        :   4.358219\n",
      " - Roll         :   2.488431\n",
      " - RMS          :  10.560700\n",
      " - 99% Tile     :  25.946197\n"
     ]
    },
    {
     "name": "stderr",
     "output_type": "stream",
     "text": [
      "[0024/0200] Train: 100%|█████████████████████████████| 44/44 [00:05<00:00,  7.34it/s, loss 450.0370]\n",
      "[0024/0200] Validation: 100%|████████████████████| 42/42 [00:02<00:00, 16.50it/s, val_loss 459.5144]\n",
      "[0025/0200] Train:   0%|                                                     | 0/44 [00:00<?, ?it/s]"
     ]
    },
    {
     "name": "stdout",
     "output_type": "stream",
     "text": [
      "                  validation\n",
      " - Yaw          :  17.072943\n",
      " - Pitch        :   4.162486\n",
      " - Roll         :   2.438838\n",
      " - RMS          :  10.698389\n",
      " - 99% Tile     :  27.183846\n"
     ]
    },
    {
     "name": "stderr",
     "output_type": "stream",
     "text": [
      "[0025/0200] Train: 100%|█████████████████████████████| 44/44 [00:05<00:00,  7.64it/s, loss 442.3333]\n",
      "[0025/0200] Validation: 100%|████████████████████| 42/42 [00:02<00:00, 16.67it/s, val_loss 448.4133]\n",
      "[0026/0200] Train:   0%|                                                     | 0/44 [00:00<?, ?it/s]"
     ]
    },
    {
     "name": "stdout",
     "output_type": "stream",
     "text": [
      "                  validation\n",
      " - Yaw          :  15.905353\n",
      " - Pitch        :   4.235461\n",
      " - Roll         :   2.437929\n",
      " - RMS          :  10.069761\n",
      " - 99% Tile     :  25.742950\n"
     ]
    },
    {
     "name": "stderr",
     "output_type": "stream",
     "text": [
      "[0026/0200] Train: 100%|█████████████████████████████| 44/44 [00:05<00:00,  7.53it/s, loss 424.2608]\n",
      "[0026/0200] Validation: 100%|████████████████████| 42/42 [00:02<00:00, 15.11it/s, val_loss 422.9249]\n",
      "[0027/0200] Train:   0%|                                                     | 0/44 [00:00<?, ?it/s]"
     ]
    },
    {
     "name": "stdout",
     "output_type": "stream",
     "text": [
      "                  validation\n",
      " - Yaw          :  14.822240\n",
      " - Pitch        :   4.131355\n",
      " - Roll         :   2.403388\n",
      " - RMS          :   9.449705\n",
      " - 99% Tile     :  23.491383\n"
     ]
    },
    {
     "name": "stderr",
     "output_type": "stream",
     "text": [
      "[0027/0200] Train: 100%|█████████████████████████████| 44/44 [00:05<00:00,  8.17it/s, loss 409.0743]\n",
      "[0027/0200] Validation: 100%|████████████████████| 42/42 [00:02<00:00, 15.24it/s, val_loss 415.4788]\n",
      "[0028/0200] Train:   0%|                                                     | 0/44 [00:00<?, ?it/s]"
     ]
    },
    {
     "name": "stdout",
     "output_type": "stream",
     "text": [
      "                  validation\n",
      " - Yaw          :  15.592721\n",
      " - Pitch        :   3.955509\n",
      " - Roll         :   2.401450\n",
      " - RMS          :   9.817190\n",
      " - 99% Tile     :  26.087374\n"
     ]
    },
    {
     "name": "stderr",
     "output_type": "stream",
     "text": [
      "[0028/0200] Train: 100%|█████████████████████████████| 44/44 [00:05<00:00,  7.86it/s, loss 398.5911]\n",
      "[0028/0200] Validation: 100%|████████████████████| 42/42 [00:02<00:00, 15.39it/s, val_loss 393.3039]\n",
      "[0029/0200] Train:   0%|                                                     | 0/44 [00:00<?, ?it/s]"
     ]
    },
    {
     "name": "stdout",
     "output_type": "stream",
     "text": [
      "                  validation\n",
      " - Yaw          :  15.423341\n",
      " - Pitch        :   3.742215\n",
      " - Roll         :   2.361079\n",
      " - RMS          :   9.684677\n",
      " - 99% Tile     :  25.778023\n"
     ]
    },
    {
     "name": "stderr",
     "output_type": "stream",
     "text": [
      "[0029/0200] Train: 100%|█████████████████████████████| 44/44 [00:05<00:00,  7.93it/s, loss 386.7941]\n",
      "[0029/0200] Validation: 100%|████████████████████| 42/42 [00:02<00:00, 15.10it/s, val_loss 383.1117]\n",
      "[0030/0200] Train:   0%|                                                     | 0/44 [00:00<?, ?it/s]"
     ]
    },
    {
     "name": "stdout",
     "output_type": "stream",
     "text": [
      "                  validation\n",
      " - Yaw          :  14.123906\n",
      " - Pitch        :   3.673153\n",
      " - Roll         :   2.449346\n",
      " - RMS          :   9.042091\n",
      " - 99% Tile     :  25.934443\n"
     ]
    },
    {
     "name": "stderr",
     "output_type": "stream",
     "text": [
      "[0030/0200] Train: 100%|█████████████████████████████| 44/44 [00:05<00:00,  7.84it/s, loss 364.8649]\n",
      "[0030/0200] Validation: 100%|████████████████████| 42/42 [00:02<00:00, 15.21it/s, val_loss 362.2929]\n",
      "[0031/0200] Train:   0%|                                                     | 0/44 [00:00<?, ?it/s]"
     ]
    },
    {
     "name": "stdout",
     "output_type": "stream",
     "text": [
      "                  validation\n",
      " - Yaw          :  15.082498\n",
      " - Pitch        :   3.278218\n",
      " - Roll         :   2.509193\n",
      " - RMS          :   9.436635\n",
      " - 99% Tile     :  25.032671\n"
     ]
    },
    {
     "name": "stderr",
     "output_type": "stream",
     "text": [
      "[0031/0200] Train: 100%|█████████████████████████████| 44/44 [00:05<00:00,  8.04it/s, loss 340.1193]\n",
      "[0031/0200] Validation: 100%|████████████████████| 42/42 [00:02<00:00, 15.17it/s, val_loss 326.9864]\n",
      "[0032/0200] Train:   0%|                                                     | 0/44 [00:00<?, ?it/s]"
     ]
    },
    {
     "name": "stdout",
     "output_type": "stream",
     "text": [
      "                  validation\n",
      " - Yaw          :  12.639379\n",
      " - Pitch        :   3.242215\n",
      " - Roll         :   2.433782\n",
      " - RMS          :   8.100248\n",
      " - 99% Tile     :  22.939527\n"
     ]
    },
    {
     "name": "stderr",
     "output_type": "stream",
     "text": [
      "[0032/0200] Train: 100%|█████████████████████████████| 44/44 [00:05<00:00,  7.80it/s, loss 308.9497]\n",
      "[0032/0200] Validation: 100%|████████████████████| 42/42 [00:03<00:00, 13.66it/s, val_loss 294.7262]\n",
      "[0033/0200] Train:   0%|                                                     | 0/44 [00:00<?, ?it/s]"
     ]
    },
    {
     "name": "stdout",
     "output_type": "stream",
     "text": [
      "                  validation\n",
      " - Yaw          :  11.210104\n",
      " - Pitch        :   3.114514\n",
      " - Roll         :   2.378160\n",
      " - RMS          :   7.287692\n",
      " - 99% Tile     :  21.064900\n"
     ]
    },
    {
     "name": "stderr",
     "output_type": "stream",
     "text": [
      "[0033/0200] Train: 100%|█████████████████████████████| 44/44 [00:05<00:00,  7.70it/s, loss 284.6104]\n",
      "[0033/0200] Validation: 100%|████████████████████| 42/42 [00:03<00:00, 13.05it/s, val_loss 279.5658]\n",
      "[0034/0200] Train:   0%|                                                     | 0/44 [00:00<?, ?it/s]"
     ]
    },
    {
     "name": "stdout",
     "output_type": "stream",
     "text": [
      "                  validation\n",
      " - Yaw          :  11.830783\n",
      " - Pitch        :   2.858041\n",
      " - Roll         :   2.280698\n",
      " - RMS          :   7.565258\n",
      " - 99% Tile     :  21.579799\n"
     ]
    },
    {
     "name": "stderr",
     "output_type": "stream",
     "text": [
      "[0034/0200] Train: 100%|█████████████████████████████| 44/44 [00:05<00:00,  7.59it/s, loss 269.4214]\n",
      "[0034/0200] Validation: 100%|████████████████████| 42/42 [00:03<00:00, 12.46it/s, val_loss 268.7382]\n",
      "[0035/0200] Train:   0%|                                                     | 0/44 [00:00<?, ?it/s]"
     ]
    },
    {
     "name": "stdout",
     "output_type": "stream",
     "text": [
      "                  validation\n",
      " - Yaw          :  10.679721\n",
      " - Pitch        :   2.933968\n",
      " - Roll         :   2.302658\n",
      " - RMS          :   6.954287\n",
      " - 99% Tile     :  20.379158\n"
     ]
    },
    {
     "name": "stderr",
     "output_type": "stream",
     "text": [
      "[0035/0200] Train: 100%|█████████████████████████████| 44/44 [00:05<00:00,  7.43it/s, loss 258.9813]\n",
      "[0035/0200] Validation: 100%|████████████████████| 42/42 [00:03<00:00, 12.47it/s, val_loss 251.1323]\n",
      "[0036/0200] Train:   0%|                                                     | 0/44 [00:00<?, ?it/s]"
     ]
    },
    {
     "name": "stdout",
     "output_type": "stream",
     "text": [
      "                  validation\n",
      " - Yaw          :  10.547091\n",
      " - Pitch        :   2.688569\n",
      " - Roll         :   2.274495\n",
      " - RMS          :   6.824620\n",
      " - 99% Tile     :  19.929895\n"
     ]
    },
    {
     "name": "stderr",
     "output_type": "stream",
     "text": [
      "[0036/0200] Train: 100%|█████████████████████████████| 44/44 [00:05<00:00,  7.65it/s, loss 242.6900]\n",
      "[0036/0200] Validation: 100%|████████████████████| 42/42 [00:03<00:00, 13.28it/s, val_loss 242.9674]\n",
      "[0037/0200] Train:   0%|                                                     | 0/44 [00:00<?, ?it/s]"
     ]
    },
    {
     "name": "stdout",
     "output_type": "stream",
     "text": [
      "                  validation\n",
      " - Yaw          :   9.322535\n",
      " - Pitch        :   2.693273\n",
      " - Roll         :   2.335317\n",
      " - RMS          :   6.187341\n",
      " - 99% Tile     :  19.132184\n"
     ]
    },
    {
     "name": "stderr",
     "output_type": "stream",
     "text": [
      "[0037/0200] Train: 100%|█████████████████████████████| 44/44 [00:05<00:00,  7.75it/s, loss 229.0872]\n",
      "[0037/0200] Validation: 100%|████████████████████| 42/42 [00:03<00:00, 13.08it/s, val_loss 224.5960]\n",
      "[0038/0200] Train:   0%|                                                     | 0/44 [00:00<?, ?it/s]"
     ]
    },
    {
     "name": "stdout",
     "output_type": "stream",
     "text": [
      "                  validation\n",
      " - Yaw          :   9.085854\n",
      " - Pitch        :   2.461538\n",
      " - Roll         :   2.295630\n",
      " - RMS          :   5.991899\n",
      " - 99% Tile     :  19.070855\n"
     ]
    },
    {
     "name": "stderr",
     "output_type": "stream",
     "text": [
      "[0038/0200] Train: 100%|█████████████████████████████| 44/44 [00:05<00:00,  7.91it/s, loss 218.0065]\n",
      "[0038/0200] Validation: 100%|████████████████████| 42/42 [00:03<00:00, 13.63it/s, val_loss 213.5888]\n",
      "[0039/0200] Train:   0%|                                                     | 0/44 [00:00<?, ?it/s]"
     ]
    },
    {
     "name": "stdout",
     "output_type": "stream",
     "text": [
      "                  validation\n",
      " - Yaw          :   8.268519\n",
      " - Pitch        :   2.422238\n",
      " - Roll         :   2.260222\n",
      " - RMS          :   5.553351\n",
      " - 99% Tile     :  18.333299\n"
     ]
    },
    {
     "name": "stderr",
     "output_type": "stream",
     "text": [
      "[0039/0200] Train: 100%|█████████████████████████████| 44/44 [00:05<00:00,  8.05it/s, loss 212.0310]\n",
      "[0039/0200] Validation: 100%|████████████████████| 42/42 [00:03<00:00, 13.36it/s, val_loss 214.0537]\n",
      "[0040/0200] Train:   0%|                                                     | 0/44 [00:00<?, ?it/s]"
     ]
    },
    {
     "name": "stdout",
     "output_type": "stream",
     "text": [
      "val_loss is not improved for 1 epochs\n",
      "                  validation\n",
      " - Yaw          :   7.446972\n",
      " - Pitch        :   2.621752\n",
      " - Roll         :   2.283528\n",
      " - RMS          :   5.173953\n",
      " - 99% Tile     :  16.832819\n"
     ]
    },
    {
     "name": "stderr",
     "output_type": "stream",
     "text": [
      "[0040/0200] Train: 100%|█████████████████████████████| 44/44 [00:05<00:00,  7.73it/s, loss 197.5415]\n",
      "[0040/0200] Validation: 100%|████████████████████| 42/42 [00:02<00:00, 14.03it/s, val_loss 200.8255]\n",
      "[0041/0200] Train:   0%|                                                     | 0/44 [00:00<?, ?it/s]"
     ]
    },
    {
     "name": "stdout",
     "output_type": "stream",
     "text": [
      "                  validation\n",
      " - Yaw          :   7.830521\n",
      " - Pitch        :   2.431633\n",
      " - Roll         :   2.218634\n",
      " - RMS          :   5.307219\n",
      " - 99% Tile     :  16.638838\n"
     ]
    },
    {
     "name": "stderr",
     "output_type": "stream",
     "text": [
      "[0041/0200] Train: 100%|█████████████████████████████| 44/44 [00:05<00:00,  8.04it/s, loss 188.1896]\n",
      "[0041/0200] Validation: 100%|████████████████████| 42/42 [00:02<00:00, 14.74it/s, val_loss 193.2229]\n",
      "[0042/0200] Train:   0%|                                                     | 0/44 [00:00<?, ?it/s]"
     ]
    },
    {
     "name": "stdout",
     "output_type": "stream",
     "text": [
      "                  validation\n",
      " - Yaw          :   7.613032\n",
      " - Pitch        :   2.221912\n",
      " - Roll         :   2.244752\n",
      " - RMS          :   5.155363\n",
      " - 99% Tile     :  17.840743\n"
     ]
    },
    {
     "name": "stderr",
     "output_type": "stream",
     "text": [
      "[0042/0200] Train: 100%|█████████████████████████████| 44/44 [00:05<00:00,  8.13it/s, loss 182.2538]\n",
      "[0042/0200] Validation: 100%|████████████████████| 42/42 [00:03<00:00, 13.94it/s, val_loss 195.1010]\n",
      "[0043/0200] Train:   0%|                                                     | 0/44 [00:00<?, ?it/s]"
     ]
    },
    {
     "name": "stdout",
     "output_type": "stream",
     "text": [
      "val_loss is not improved for 1 epochs\n",
      "                  validation\n",
      " - Yaw          :   7.464068\n",
      " - Pitch        :   2.261227\n",
      " - Roll         :   2.279182\n",
      " - RMS          :   5.123085\n",
      " - 99% Tile     :  17.297310\n"
     ]
    },
    {
     "name": "stderr",
     "output_type": "stream",
     "text": [
      "[0043/0200] Train: 100%|█████████████████████████████| 44/44 [00:05<00:00,  8.21it/s, loss 172.8113]\n",
      "[0043/0200] Validation: 100%|████████████████████| 42/42 [00:03<00:00, 13.43it/s, val_loss 194.9699]\n",
      "[0044/0200] Train:   0%|                                                     | 0/44 [00:00<?, ?it/s]"
     ]
    },
    {
     "name": "stdout",
     "output_type": "stream",
     "text": [
      "val_loss is not improved for 2 epochs\n",
      "                  validation\n",
      " - Yaw          :   8.000386\n",
      " - Pitch        :   2.315357\n",
      " - Roll         :   2.224197\n",
      " - RMS          :   5.365589\n",
      " - 99% Tile     :  18.125195\n"
     ]
    },
    {
     "name": "stderr",
     "output_type": "stream",
     "text": [
      "[0044/0200] Train: 100%|█████████████████████████████| 44/44 [00:05<00:00,  8.15it/s, loss 181.7092]\n",
      "[0044/0200] Validation: 100%|████████████████████| 42/42 [00:03<00:00, 11.99it/s, val_loss 188.5461]\n",
      "[0045/0200] Train:   0%|                                                     | 0/44 [00:00<?, ?it/s]"
     ]
    },
    {
     "name": "stdout",
     "output_type": "stream",
     "text": [
      "                  validation\n",
      " - Yaw          :   8.799073\n",
      " - Pitch        :   2.060023\n",
      " - Roll         :   2.119678\n",
      " - RMS          :   5.730534\n",
      " - 99% Tile     :  17.126565\n"
     ]
    },
    {
     "name": "stderr",
     "output_type": "stream",
     "text": [
      "[0045/0200] Train: 100%|█████████████████████████████| 44/44 [00:05<00:00,  8.47it/s, loss 172.4417]\n",
      "[0045/0200] Validation: 100%|████████████████████| 42/42 [00:02<00:00, 14.20it/s, val_loss 174.4512]\n",
      "[0046/0200] Train:   0%|                                                     | 0/44 [00:00<?, ?it/s]"
     ]
    },
    {
     "name": "stdout",
     "output_type": "stream",
     "text": [
      "                  validation\n",
      " - Yaw          :   7.938949\n",
      " - Pitch        :   1.973071\n",
      " - Roll         :   2.096532\n",
      " - RMS          :   5.229135\n",
      " - 99% Tile     :  16.628935\n"
     ]
    },
    {
     "name": "stderr",
     "output_type": "stream",
     "text": [
      "[0046/0200] Train: 100%|█████████████████████████████| 44/44 [00:05<00:00,  8.32it/s, loss 164.3173]\n",
      "[0046/0200] Validation: 100%|████████████████████| 42/42 [00:03<00:00, 12.66it/s, val_loss 180.4444]\n",
      "[0047/0200] Train:   0%|                                                     | 0/44 [00:00<?, ?it/s]"
     ]
    },
    {
     "name": "stdout",
     "output_type": "stream",
     "text": [
      "val_loss is not improved for 1 epochs\n",
      "                  validation\n",
      " - Yaw          :   7.205720\n",
      " - Pitch        :   2.345786\n",
      " - Roll         :   2.080498\n",
      " - RMS          :   4.919318\n",
      " - 99% Tile     :  15.322225\n"
     ]
    },
    {
     "name": "stderr",
     "output_type": "stream",
     "text": [
      "[0047/0200] Train: 100%|█████████████████████████████| 44/44 [00:05<00:00,  7.87it/s, loss 159.6853]\n",
      "[0047/0200] Validation: 100%|████████████████████| 42/42 [00:03<00:00, 13.47it/s, val_loss 164.3873]\n",
      "[0048/0200] Train:   0%|                                                     | 0/44 [00:00<?, ?it/s]"
     ]
    },
    {
     "name": "stdout",
     "output_type": "stream",
     "text": [
      "                  validation\n",
      " - Yaw          :   7.441606\n",
      " - Pitch        :   1.896619\n",
      " - Roll         :   2.104076\n",
      " - RMS          :   4.937093\n",
      " - 99% Tile     :  15.956608\n"
     ]
    },
    {
     "name": "stderr",
     "output_type": "stream",
     "text": [
      "[0048/0200] Train: 100%|█████████████████████████████| 44/44 [00:07<00:00,  5.71it/s, loss 155.5884]\n",
      "[0048/0200] Validation: 100%|████████████████████| 42/42 [00:04<00:00,  9.84it/s, val_loss 166.6983]\n",
      "[0049/0200] Train:   0%|                                                     | 0/44 [00:00<?, ?it/s]"
     ]
    },
    {
     "name": "stdout",
     "output_type": "stream",
     "text": [
      "val_loss is not improved for 1 epochs\n",
      "                  validation\n",
      " - Yaw          :   7.350243\n",
      " - Pitch        :   2.025618\n",
      " - Roll         :   2.085328\n",
      " - RMS          :   4.919646\n",
      " - 99% Tile     :  15.545739\n"
     ]
    },
    {
     "name": "stderr",
     "output_type": "stream",
     "text": [
      "[0049/0200] Train: 100%|█████████████████████████████| 44/44 [00:07<00:00,  5.82it/s, loss 151.9420]\n",
      "[0049/0200] Validation: 100%|████████████████████| 42/42 [00:03<00:00, 11.54it/s, val_loss 161.7394]\n",
      "[0050/0200] Train:   0%|                                                     | 0/44 [00:00<?, ?it/s]"
     ]
    },
    {
     "name": "stdout",
     "output_type": "stream",
     "text": [
      "                  validation\n",
      " - Yaw          :   6.974729\n",
      " - Pitch        :   1.978762\n",
      " - Roll         :   2.072517\n",
      " - RMS          :   4.709579\n",
      " - 99% Tile     :  15.747658\n"
     ]
    },
    {
     "name": "stderr",
     "output_type": "stream",
     "text": [
      "[0050/0200] Train: 100%|█████████████████████████████| 44/44 [00:07<00:00,  5.66it/s, loss 143.8350]\n",
      "[0050/0200] Validation: 100%|████████████████████| 42/42 [00:03<00:00, 12.96it/s, val_loss 153.7531]\n",
      "[0051/0200] Train:   0%|                                                     | 0/44 [00:00<?, ?it/s]"
     ]
    },
    {
     "name": "stdout",
     "output_type": "stream",
     "text": [
      "                  validation\n",
      " - Yaw          :   6.298604\n",
      " - Pitch        :   1.774537\n",
      " - Roll         :   2.149546\n",
      " - RMS          :   4.358424\n",
      " - 99% Tile     :  15.785564\n"
     ]
    },
    {
     "name": "stderr",
     "output_type": "stream",
     "text": [
      "[0051/0200] Train: 100%|█████████████████████████████| 44/44 [00:07<00:00,  5.74it/s, loss 140.9130]\n",
      "[0051/0200] Validation: 100%|████████████████████| 42/42 [00:03<00:00, 11.45it/s, val_loss 159.6767]\n",
      "[0052/0200] Train:   0%|                                                     | 0/44 [00:00<?, ?it/s]"
     ]
    },
    {
     "name": "stdout",
     "output_type": "stream",
     "text": [
      "val_loss is not improved for 1 epochs\n",
      "                  validation\n",
      " - Yaw          :   6.407645\n",
      " - Pitch        :   2.144922\n",
      " - Roll         :   2.081339\n",
      " - RMS          :   4.437851\n",
      " - 99% Tile     :  15.186401\n"
     ]
    },
    {
     "name": "stderr",
     "output_type": "stream",
     "text": [
      "[0052/0200] Train: 100%|█████████████████████████████| 44/44 [00:06<00:00,  6.50it/s, loss 138.5503]\n",
      "[0052/0200] Validation: 100%|████████████████████| 42/42 [00:04<00:00, 10.33it/s, val_loss 163.7274]\n",
      "[0053/0200] Train:   0%|                                                     | 0/44 [00:00<?, ?it/s]"
     ]
    },
    {
     "name": "stdout",
     "output_type": "stream",
     "text": [
      "val_loss is not improved for 2 epochs\n",
      "                  validation\n",
      " - Yaw          :   6.422690\n",
      " - Pitch        :   2.014187\n",
      " - Roll         :   2.095569\n",
      " - RMS          :   4.470191\n",
      " - 99% Tile     :  15.676334\n"
     ]
    },
    {
     "name": "stderr",
     "output_type": "stream",
     "text": [
      "[0053/0200] Train: 100%|█████████████████████████████| 44/44 [00:08<00:00,  5.45it/s, loss 135.0171]\n",
      "[0053/0200] Validation: 100%|████████████████████| 42/42 [00:03<00:00, 13.11it/s, val_loss 146.4548]\n",
      "[0054/0200] Train:   0%|                                                     | 0/44 [00:00<?, ?it/s]"
     ]
    },
    {
     "name": "stdout",
     "output_type": "stream",
     "text": [
      "                  validation\n",
      " - Yaw          :   6.449125\n",
      " - Pitch        :   1.751660\n",
      " - Roll         :   2.065359\n",
      " - RMS          :   4.378362\n",
      " - 99% Tile     :  15.417994\n"
     ]
    },
    {
     "name": "stderr",
     "output_type": "stream",
     "text": [
      "[0054/0200] Train: 100%|█████████████████████████████| 44/44 [00:07<00:00,  5.75it/s, loss 129.6237]\n",
      "[0054/0200] Validation: 100%|████████████████████| 42/42 [00:03<00:00, 10.68it/s, val_loss 142.5005]\n",
      "[0055/0200] Train:   0%|                                                     | 0/44 [00:00<?, ?it/s]"
     ]
    },
    {
     "name": "stdout",
     "output_type": "stream",
     "text": [
      "                  validation\n",
      " - Yaw          :   6.799093\n",
      " - Pitch        :   1.768275\n",
      " - Roll         :   1.966898\n",
      " - RMS          :   4.545516\n",
      " - 99% Tile     :  14.584948\n"
     ]
    },
    {
     "name": "stderr",
     "output_type": "stream",
     "text": [
      "[0055/0200] Train: 100%|█████████████████████████████| 44/44 [00:07<00:00,  5.71it/s, loss 130.0324]\n",
      "[0055/0200] Validation: 100%|████████████████████| 42/42 [00:03<00:00, 11.02it/s, val_loss 142.6287]\n",
      "[0056/0200] Train:   0%|                                                     | 0/44 [00:00<?, ?it/s]"
     ]
    },
    {
     "name": "stdout",
     "output_type": "stream",
     "text": [
      "val_loss is not improved for 1 epochs\n",
      "                  validation\n",
      " - Yaw          :   6.673589\n",
      " - Pitch        :   1.681098\n",
      " - Roll         :   1.980905\n",
      " - RMS          :   4.471091\n",
      " - 99% Tile     :  15.056660\n"
     ]
    },
    {
     "name": "stderr",
     "output_type": "stream",
     "text": [
      "[0056/0200] Train: 100%|█████████████████████████████| 44/44 [00:07<00:00,  6.02it/s, loss 128.6670]\n",
      "[0056/0200] Validation: 100%|████████████████████| 42/42 [00:03<00:00, 11.51it/s, val_loss 134.8290]\n",
      "[0057/0200] Train:   0%|                                                     | 0/44 [00:00<?, ?it/s]"
     ]
    },
    {
     "name": "stdout",
     "output_type": "stream",
     "text": [
      "                  validation\n",
      " - Yaw          :   6.341175\n",
      " - Pitch        :   1.597309\n",
      " - Roll         :   1.949529\n",
      " - RMS          :   4.263804\n",
      " - 99% Tile     :  14.910926\n"
     ]
    },
    {
     "name": "stderr",
     "output_type": "stream",
     "text": [
      "[0057/0200] Train: 100%|█████████████████████████████| 44/44 [00:08<00:00,  5.32it/s, loss 120.8892]\n",
      "[0057/0200] Validation: 100%|████████████████████| 42/42 [00:03<00:00, 10.76it/s, val_loss 129.4883]\n",
      "[0058/0200] Train:   0%|                                                     | 0/44 [00:00<?, ?it/s]"
     ]
    },
    {
     "name": "stdout",
     "output_type": "stream",
     "text": [
      "                  validation\n",
      " - Yaw          :   6.197968\n",
      " - Pitch        :   1.657708\n",
      " - Roll         :   1.792076\n",
      " - RMS          :   4.160694\n",
      " - 99% Tile     :  14.803508\n"
     ]
    },
    {
     "name": "stderr",
     "output_type": "stream",
     "text": [
      "[0058/0200] Train: 100%|█████████████████████████████| 44/44 [00:08<00:00,  5.35it/s, loss 116.7658]\n",
      "[0058/0200] Validation: 100%|████████████████████| 42/42 [00:03<00:00, 11.30it/s, val_loss 131.6719]\n",
      "[0059/0200] Train:   0%|                                                     | 0/44 [00:00<?, ?it/s]"
     ]
    },
    {
     "name": "stdout",
     "output_type": "stream",
     "text": [
      "val_loss is not improved for 1 epochs\n",
      "                  validation\n",
      " - Yaw          :   6.247876\n",
      " - Pitch        :   1.638378\n",
      " - Roll         :   1.846353\n",
      " - RMS          :   4.211340\n",
      " - 99% Tile     :  14.810457\n"
     ]
    },
    {
     "name": "stderr",
     "output_type": "stream",
     "text": [
      "[0059/0200] Train: 100%|█████████████████████████████| 44/44 [00:07<00:00,  5.63it/s, loss 112.3421]\n",
      "[0059/0200] Validation: 100%|████████████████████| 42/42 [00:03<00:00, 12.58it/s, val_loss 122.6051]\n",
      "[0060/0200] Train:   0%|                                                     | 0/44 [00:00<?, ?it/s]"
     ]
    },
    {
     "name": "stdout",
     "output_type": "stream",
     "text": [
      "                  validation\n",
      " - Yaw          :   6.707723\n",
      " - Pitch        :   1.545047\n",
      " - Roll         :   1.686281\n",
      " - RMS          :   4.399237\n",
      " - 99% Tile     :  15.235901\n"
     ]
    },
    {
     "name": "stderr",
     "output_type": "stream",
     "text": [
      "[0060/0200] Train: 100%|█████████████████████████████| 44/44 [00:08<00:00,  5.23it/s, loss 123.5815]\n",
      "[0060/0200] Validation: 100%|████████████████████| 42/42 [00:03<00:00, 13.90it/s, val_loss 128.7009]\n",
      "[0061/0200] Train:   0%|                                                     | 0/44 [00:00<?, ?it/s]"
     ]
    },
    {
     "name": "stdout",
     "output_type": "stream",
     "text": [
      "val_loss is not improved for 1 epochs\n",
      "                  validation\n",
      " - Yaw          :   6.410713\n",
      " - Pitch        :   1.650054\n",
      " - Roll         :   1.751615\n",
      " - RMS          :   4.282844\n",
      " - 99% Tile     :  15.559540\n"
     ]
    },
    {
     "name": "stderr",
     "output_type": "stream",
     "text": [
      "[0061/0200] Train: 100%|█████████████████████████████| 44/44 [00:08<00:00,  5.45it/s, loss 117.5692]\n",
      "[0061/0200] Validation: 100%|████████████████████| 42/42 [00:03<00:00, 12.39it/s, val_loss 121.4702]\n",
      "[0062/0200] Train:   0%|                                                     | 0/44 [00:00<?, ?it/s]"
     ]
    },
    {
     "name": "stdout",
     "output_type": "stream",
     "text": [
      "                  validation\n",
      " - Yaw          :   6.075041\n",
      " - Pitch        :   1.602448\n",
      " - Roll         :   1.665647\n",
      " - RMS          :   4.068679\n",
      " - 99% Tile     :  15.100509\n"
     ]
    },
    {
     "name": "stderr",
     "output_type": "stream",
     "text": [
      "[0062/0200] Train: 100%|█████████████████████████████| 44/44 [00:07<00:00,  5.63it/s, loss 129.6214]\n",
      "[0062/0200] Validation: 100%|████████████████████| 42/42 [00:03<00:00, 11.36it/s, val_loss 132.5391]\n",
      "[0063/0200] Train:   0%|                                                     | 0/44 [00:00<?, ?it/s]"
     ]
    },
    {
     "name": "stdout",
     "output_type": "stream",
     "text": [
      "val_loss is not improved for 1 epochs\n",
      "                  validation\n",
      " - Yaw          :   7.556404\n",
      " - Pitch        :   1.799171\n",
      " - Roll         :   1.438476\n",
      " - RMS          :   4.855470\n",
      " - 99% Tile     :  16.895413\n"
     ]
    },
    {
     "name": "stderr",
     "output_type": "stream",
     "text": [
      "[0063/0200] Train: 100%|█████████████████████████████| 44/44 [00:07<00:00,  6.06it/s, loss 115.8122]\n",
      "[0063/0200] Validation: 100%|████████████████████| 42/42 [00:03<00:00, 13.10it/s, val_loss 122.8306]\n",
      "[0064/0200] Train:   0%|                                                     | 0/44 [00:00<?, ?it/s]"
     ]
    },
    {
     "name": "stdout",
     "output_type": "stream",
     "text": [
      "val_loss is not improved for 2 epochs\n",
      "                  validation\n",
      " - Yaw          :   6.753886\n",
      " - Pitch        :   1.607864\n",
      " - Roll         :   1.634187\n",
      " - RMS          :   4.378330\n",
      " - 99% Tile     :  16.443600\n"
     ]
    },
    {
     "name": "stderr",
     "output_type": "stream",
     "text": [
      "[0064/0200] Train: 100%|█████████████████████████████| 44/44 [00:08<00:00,  4.98it/s, loss 104.1456]\n",
      "[0064/0200] Validation: 100%|████████████████████| 42/42 [00:03<00:00, 12.30it/s, val_loss 110.8796]\n",
      "[0065/0200] Train:   0%|                                                     | 0/44 [00:00<?, ?it/s]"
     ]
    },
    {
     "name": "stdout",
     "output_type": "stream",
     "text": [
      "                  validation\n",
      " - Yaw          :   6.199037\n",
      " - Pitch        :   1.634549\n",
      " - Roll         :   1.372367\n",
      " - RMS          :   4.042501\n",
      " - 99% Tile     :  14.403895\n"
     ]
    },
    {
     "name": "stderr",
     "output_type": "stream",
     "text": [
      "[0065/0200] Train: 100%|██████████████████████████████| 44/44 [00:07<00:00,  5.76it/s, loss 96.4094]\n",
      "[0065/0200] Validation: 100%|████████████████████| 42/42 [00:03<00:00, 12.47it/s, val_loss 108.9022]\n",
      "[0066/0200] Train:   0%|                                                     | 0/44 [00:00<?, ?it/s]"
     ]
    },
    {
     "name": "stdout",
     "output_type": "stream",
     "text": [
      "                  validation\n",
      " - Yaw          :   6.134871\n",
      " - Pitch        :   1.623482\n",
      " - Roll         :   1.334570\n",
      " - RMS          :   4.011566\n",
      " - 99% Tile     :  14.745792\n"
     ]
    },
    {
     "name": "stderr",
     "output_type": "stream",
     "text": [
      "[0066/0200] Train: 100%|██████████████████████████████| 44/44 [00:07<00:00,  6.22it/s, loss 93.3892]\n",
      "[0066/0200] Validation: 100%|████████████████████| 42/42 [00:03<00:00, 11.32it/s, val_loss 103.9395]\n",
      "[0067/0200] Train:   0%|                                                     | 0/44 [00:00<?, ?it/s]"
     ]
    },
    {
     "name": "stdout",
     "output_type": "stream",
     "text": [
      "                  validation\n",
      " - Yaw          :   5.894238\n",
      " - Pitch        :   1.505697\n",
      " - Roll         :   1.352159\n",
      " - RMS          :   3.862758\n",
      " - 99% Tile     :  15.159486\n"
     ]
    },
    {
     "name": "stderr",
     "output_type": "stream",
     "text": [
      "[0067/0200] Train: 100%|██████████████████████████████| 44/44 [00:07<00:00,  6.04it/s, loss 93.3496]\n",
      "[0067/0200] Validation: 100%|█████████████████████| 42/42 [00:03<00:00, 12.89it/s, val_loss 98.8512]\n",
      "[0068/0200] Train:   0%|                                                     | 0/44 [00:00<?, ?it/s]"
     ]
    },
    {
     "name": "stdout",
     "output_type": "stream",
     "text": [
      "                  validation\n",
      " - Yaw          :   5.856553\n",
      " - Pitch        :   1.490599\n",
      " - Roll         :   1.231493\n",
      " - RMS          :   3.805970\n",
      " - 99% Tile     :  14.350820\n"
     ]
    },
    {
     "name": "stderr",
     "output_type": "stream",
     "text": [
      "[0068/0200] Train: 100%|██████████████████████████████| 44/44 [00:08<00:00,  5.41it/s, loss 84.6327]\n",
      "[0068/0200] Validation: 100%|█████████████████████| 42/42 [00:03<00:00, 12.14it/s, val_loss 95.5816]\n",
      "[0069/0200] Train:   0%|                                                     | 0/44 [00:00<?, ?it/s]"
     ]
    },
    {
     "name": "stdout",
     "output_type": "stream",
     "text": [
      "                  validation\n",
      " - Yaw          :   5.454048\n",
      " - Pitch        :   1.598537\n",
      " - Roll         :   1.119476\n",
      " - RMS          :   3.586076\n",
      " - 99% Tile     :  13.877394\n"
     ]
    },
    {
     "name": "stderr",
     "output_type": "stream",
     "text": [
      "[0069/0200] Train: 100%|██████████████████████████████| 44/44 [00:07<00:00,  5.68it/s, loss 80.7757]\n",
      "[0069/0200] Validation: 100%|█████████████████████| 42/42 [00:04<00:00, 10.43it/s, val_loss 92.6609]\n",
      "[0070/0200] Train:   0%|                                                     | 0/44 [00:00<?, ?it/s]"
     ]
    },
    {
     "name": "stdout",
     "output_type": "stream",
     "text": [
      "                  validation\n",
      " - Yaw          :   5.289574\n",
      " - Pitch        :   1.539693\n",
      " - Roll         :   1.139512\n",
      " - RMS          :   3.488553\n",
      " - 99% Tile     :  13.760384\n"
     ]
    },
    {
     "name": "stderr",
     "output_type": "stream",
     "text": [
      "[0070/0200] Train: 100%|██████████████████████████████| 44/44 [00:06<00:00,  6.37it/s, loss 79.8931]\n",
      "[0070/0200] Validation: 100%|█████████████████████| 42/42 [00:03<00:00, 11.92it/s, val_loss 90.7860]\n",
      "[0071/0200] Train:   0%|                                                     | 0/44 [00:00<?, ?it/s]"
     ]
    },
    {
     "name": "stdout",
     "output_type": "stream",
     "text": [
      "                  validation\n",
      " - Yaw          :   5.294425\n",
      " - Pitch        :   1.478721\n",
      " - Roll         :   1.116741\n",
      " - RMS          :   3.474967\n",
      " - 99% Tile     :  13.629501\n"
     ]
    },
    {
     "name": "stderr",
     "output_type": "stream",
     "text": [
      "[0071/0200] Train: 100%|██████████████████████████████| 44/44 [00:07<00:00,  5.80it/s, loss 79.2795]\n",
      "[0071/0200] Validation: 100%|█████████████████████| 42/42 [00:03<00:00, 13.17it/s, val_loss 89.1828]\n",
      "[0072/0200] Train:   0%|                                                     | 0/44 [00:00<?, ?it/s]"
     ]
    },
    {
     "name": "stdout",
     "output_type": "stream",
     "text": [
      "                  validation\n",
      " - Yaw          :   5.134389\n",
      " - Pitch        :   1.508924\n",
      " - Roll         :   1.083228\n",
      " - RMS          :   3.387468\n",
      " - 99% Tile     :  13.525475\n"
     ]
    },
    {
     "name": "stderr",
     "output_type": "stream",
     "text": [
      "[0072/0200] Train: 100%|██████████████████████████████| 44/44 [00:07<00:00,  5.70it/s, loss 76.1485]\n",
      "[0072/0200] Validation: 100%|█████████████████████| 42/42 [00:03<00:00, 12.35it/s, val_loss 89.0274]\n",
      "[0073/0200] Train:   0%|                                                     | 0/44 [00:00<?, ?it/s]"
     ]
    },
    {
     "name": "stdout",
     "output_type": "stream",
     "text": [
      "                  validation\n",
      " - Yaw          :   5.163572\n",
      " - Pitch        :   1.446534\n",
      " - Roll         :   1.115628\n",
      " - RMS          :   3.401777\n",
      " - 99% Tile     :  13.373388\n"
     ]
    },
    {
     "name": "stderr",
     "output_type": "stream",
     "text": [
      "[0073/0200] Train: 100%|██████████████████████████████| 44/44 [00:07<00:00,  5.75it/s, loss 73.7703]\n",
      "[0073/0200] Validation: 100%|█████████████████████| 42/42 [00:03<00:00, 10.65it/s, val_loss 86.5941]\n",
      "[0074/0200] Train:   0%|                                                     | 0/44 [00:00<?, ?it/s]"
     ]
    },
    {
     "name": "stdout",
     "output_type": "stream",
     "text": [
      "                  validation\n",
      " - Yaw          :   4.989599\n",
      " - Pitch        :   1.521868\n",
      " - Roll         :   1.049427\n",
      " - RMS          :   3.312542\n",
      " - 99% Tile     :  13.335600\n"
     ]
    },
    {
     "name": "stderr",
     "output_type": "stream",
     "text": [
      "[0074/0200] Train: 100%|██████████████████████████████| 44/44 [00:06<00:00,  6.30it/s, loss 71.2926]\n",
      "[0074/0200] Validation: 100%|█████████████████████| 42/42 [00:03<00:00, 10.89it/s, val_loss 85.4865]\n",
      "[0075/0200] Train:   0%|                                                     | 0/44 [00:00<?, ?it/s]"
     ]
    },
    {
     "name": "stdout",
     "output_type": "stream",
     "text": [
      "                  validation\n",
      " - Yaw          :   4.831340\n",
      " - Pitch        :   1.459635\n",
      " - Roll         :   1.037276\n",
      " - RMS          :   3.210247\n",
      " - 99% Tile     :  13.432231\n"
     ]
    },
    {
     "name": "stderr",
     "output_type": "stream",
     "text": [
      "[0075/0200] Train: 100%|██████████████████████████████| 44/44 [00:07<00:00,  6.01it/s, loss 68.3932]\n",
      "[0075/0200] Validation: 100%|█████████████████████| 42/42 [00:03<00:00, 13.13it/s, val_loss 92.5809]\n",
      "[0076/0200] Train:   0%|                                                     | 0/44 [00:00<?, ?it/s]"
     ]
    },
    {
     "name": "stdout",
     "output_type": "stream",
     "text": [
      "val_loss is not improved for 1 epochs\n",
      "                  validation\n",
      " - Yaw          :   5.677252\n",
      " - Pitch        :   1.501359\n",
      " - Roll         :   1.061636\n",
      " - RMS          :   3.668583\n",
      " - 99% Tile     :  14.040475\n"
     ]
    },
    {
     "name": "stderr",
     "output_type": "stream",
     "text": [
      "[0076/0200] Train: 100%|██████████████████████████████| 44/44 [00:08<00:00,  5.49it/s, loss 70.5818]\n",
      "[0076/0200] Validation: 100%|█████████████████████| 42/42 [00:03<00:00, 11.10it/s, val_loss 83.9647]\n",
      "[0077/0200] Train:   0%|                                                     | 0/44 [00:00<?, ?it/s]"
     ]
    },
    {
     "name": "stdout",
     "output_type": "stream",
     "text": [
      "                  validation\n",
      " - Yaw          :   4.864421\n",
      " - Pitch        :   1.479546\n",
      " - Roll         :   0.972050\n",
      " - RMS          :   3.208485\n",
      " - 99% Tile     :  13.468952\n"
     ]
    },
    {
     "name": "stderr",
     "output_type": "stream",
     "text": [
      "[0077/0200] Train: 100%|██████████████████████████████| 44/44 [00:07<00:00,  5.57it/s, loss 67.1061]\n",
      "[0077/0200] Validation: 100%|█████████████████████| 42/42 [00:04<00:00, 10.17it/s, val_loss 86.7851]\n",
      "[0078/0200] Train:   0%|                                                     | 0/44 [00:00<?, ?it/s]"
     ]
    },
    {
     "name": "stdout",
     "output_type": "stream",
     "text": [
      "val_loss is not improved for 1 epochs\n",
      "                  validation\n",
      " - Yaw          :   5.406713\n",
      " - Pitch        :   1.488849\n",
      " - Roll         :   0.976167\n",
      " - RMS          :   3.508262\n",
      " - 99% Tile     :  13.744827\n"
     ]
    },
    {
     "name": "stderr",
     "output_type": "stream",
     "text": [
      "[0078/0200] Train: 100%|██████████████████████████████| 44/44 [00:07<00:00,  6.05it/s, loss 66.9245]\n",
      "[0078/0200] Validation: 100%|█████████████████████| 42/42 [00:04<00:00,  9.50it/s, val_loss 82.3489]\n",
      "[0079/0200] Train:   0%|                                                     | 0/44 [00:00<?, ?it/s]"
     ]
    },
    {
     "name": "stdout",
     "output_type": "stream",
     "text": [
      "                  validation\n",
      " - Yaw          :   4.657857\n",
      " - Pitch        :   1.449761\n",
      " - Roll         :   0.941849\n",
      " - RMS          :   3.100774\n",
      " - 99% Tile     :  13.242078\n"
     ]
    },
    {
     "name": "stderr",
     "output_type": "stream",
     "text": [
      "[0079/0200] Train: 100%|██████████████████████████████| 44/44 [00:07<00:00,  5.78it/s, loss 66.5583]\n",
      "[0079/0200] Validation: 100%|█████████████████████| 42/42 [00:03<00:00, 11.58it/s, val_loss 92.0485]\n",
      "[0080/0200] Train:   0%|                                                     | 0/44 [00:00<?, ?it/s]"
     ]
    },
    {
     "name": "stdout",
     "output_type": "stream",
     "text": [
      "val_loss is not improved for 1 epochs\n",
      "                  validation\n",
      " - Yaw          :   5.307265\n",
      " - Pitch        :   1.516316\n",
      " - Roll         :   1.164321\n",
      " - RMS          :   3.512915\n",
      " - 99% Tile     :  14.852365\n"
     ]
    },
    {
     "name": "stderr",
     "output_type": "stream",
     "text": [
      "[0080/0200] Train: 100%|██████████████████████████████| 44/44 [00:08<00:00,  5.46it/s, loss 74.4809]\n",
      "[0080/0200] Validation: 100%|█████████████████████| 42/42 [00:04<00:00,  9.33it/s, val_loss 85.6522]\n",
      "[0081/0200] Train:   0%|                                                     | 0/44 [00:00<?, ?it/s]"
     ]
    },
    {
     "name": "stdout",
     "output_type": "stream",
     "text": [
      "val_loss is not improved for 2 epochs\n",
      "                  validation\n",
      " - Yaw          :   4.697702\n",
      " - Pitch        :   1.481914\n",
      " - Roll         :   1.084991\n",
      " - RMS          :   3.160702\n",
      " - 99% Tile     :  14.061964\n"
     ]
    },
    {
     "name": "stderr",
     "output_type": "stream",
     "text": [
      "[0081/0200] Train: 100%|██████████████████████████████| 44/44 [00:08<00:00,  5.22it/s, loss 69.5613]\n",
      "[0081/0200] Validation: 100%|█████████████████████| 42/42 [00:04<00:00,  9.60it/s, val_loss 91.5216]\n",
      "[0082/0200] Train:   0%|                                                     | 0/44 [00:00<?, ?it/s]"
     ]
    },
    {
     "name": "stdout",
     "output_type": "stream",
     "text": [
      "Decaying lr from 0.001 to 0.0005 because val_loss did not improved for 3 epochs\n",
      "val_loss is not improved for 3 epochs\n",
      "                  validation\n",
      " - Yaw          :   5.499870\n",
      " - Pitch        :   1.511409\n",
      " - Roll         :   1.094080\n",
      " - RMS          :   3.586331\n",
      " - 99% Tile     :  14.512703\n"
     ]
    },
    {
     "name": "stderr",
     "output_type": "stream",
     "text": [
      "[0082/0200] Train: 100%|██████████████████████████████| 44/44 [00:07<00:00,  5.79it/s, loss 69.2529]\n",
      "[0082/0200] Validation: 100%|█████████████████████| 42/42 [00:03<00:00, 10.78it/s, val_loss 80.6720]\n",
      "[0083/0200] Train:   0%|                                                     | 0/44 [00:00<?, ?it/s]"
     ]
    },
    {
     "name": "stdout",
     "output_type": "stream",
     "text": [
      "                  validation\n",
      " - Yaw          :   4.535214\n",
      " - Pitch        :   1.391854\n",
      " - Roll         :   1.044139\n",
      " - RMS          :   3.030433\n",
      " - 99% Tile     :  13.715901\n"
     ]
    },
    {
     "name": "stderr",
     "output_type": "stream",
     "text": [
      "[0083/0200] Train: 100%|██████████████████████████████| 44/44 [00:08<00:00,  5.37it/s, loss 63.6259]\n",
      "[0083/0200] Validation: 100%|█████████████████████| 42/42 [00:03<00:00, 11.48it/s, val_loss 78.3113]\n",
      "[0084/0200] Train:   0%|                                                     | 0/44 [00:00<?, ?it/s]"
     ]
    },
    {
     "name": "stdout",
     "output_type": "stream",
     "text": [
      "                  validation\n",
      " - Yaw          :   4.673856\n",
      " - Pitch        :   1.398949\n",
      " - Roll         :   0.986971\n",
      " - RMS          :   3.089427\n",
      " - 99% Tile     :  13.565800\n"
     ]
    },
    {
     "name": "stderr",
     "output_type": "stream",
     "text": [
      "[0084/0200] Train: 100%|██████████████████████████████| 44/44 [00:07<00:00,  5.55it/s, loss 61.2139]\n",
      "[0084/0200] Validation: 100%|█████████████████████| 42/42 [00:04<00:00,  9.75it/s, val_loss 76.7033]\n",
      "[0085/0200] Train:   0%|                                                     | 0/44 [00:00<?, ?it/s]"
     ]
    },
    {
     "name": "stdout",
     "output_type": "stream",
     "text": [
      "                  validation\n",
      " - Yaw          :   4.540571\n",
      " - Pitch        :   1.346307\n",
      " - Roll         :   0.973558\n",
      " - RMS          :   3.003114\n",
      " - 99% Tile     :  13.457590\n"
     ]
    },
    {
     "name": "stderr",
     "output_type": "stream",
     "text": [
      "[0085/0200] Train: 100%|██████████████████████████████| 44/44 [00:07<00:00,  5.94it/s, loss 57.6737]\n",
      "[0085/0200] Validation: 100%|█████████████████████| 42/42 [00:03<00:00, 10.86it/s, val_loss 75.5078]\n",
      "[0086/0200] Train:   0%|                                                     | 0/44 [00:00<?, ?it/s]"
     ]
    },
    {
     "name": "stdout",
     "output_type": "stream",
     "text": [
      "                  validation\n",
      " - Yaw          :   4.411473\n",
      " - Pitch        :   1.371374\n",
      " - Roll         :   0.895773\n",
      " - RMS          :   2.924153\n",
      " - 99% Tile     :  13.430164\n"
     ]
    },
    {
     "name": "stderr",
     "output_type": "stream",
     "text": [
      "[0086/0200] Train: 100%|██████████████████████████████| 44/44 [00:06<00:00,  6.34it/s, loss 56.7208]\n",
      "[0086/0200] Validation: 100%|█████████████████████| 42/42 [00:03<00:00, 13.15it/s, val_loss 77.2752]\n",
      "[0087/0200] Train:   0%|                                                     | 0/44 [00:00<?, ?it/s]"
     ]
    },
    {
     "name": "stdout",
     "output_type": "stream",
     "text": [
      "val_loss is not improved for 1 epochs\n",
      "                  validation\n",
      " - Yaw          :   4.266302\n",
      " - Pitch        :   1.429048\n",
      " - Roll         :   0.947342\n",
      " - RMS          :   2.874392\n",
      " - 99% Tile     :  13.352120\n"
     ]
    },
    {
     "name": "stderr",
     "output_type": "stream",
     "text": [
      "[0087/0200] Train: 100%|██████████████████████████████| 44/44 [00:07<00:00,  5.76it/s, loss 56.5120]\n",
      "[0087/0200] Validation: 100%|█████████████████████| 42/42 [00:03<00:00, 10.95it/s, val_loss 77.0111]\n",
      "[0088/0200] Train:   0%|                                                     | 0/44 [00:00<?, ?it/s]"
     ]
    },
    {
     "name": "stdout",
     "output_type": "stream",
     "text": [
      "val_loss is not improved for 2 epochs\n",
      "                  validation\n",
      " - Yaw          :   4.828326\n",
      " - Pitch        :   1.359580\n",
      " - Roll         :   0.957684\n",
      " - RMS          :   3.163649\n",
      " - 99% Tile     :  13.381938\n"
     ]
    },
    {
     "name": "stderr",
     "output_type": "stream",
     "text": [
      "[0088/0200] Train: 100%|██████████████████████████████| 44/44 [00:08<00:00,  5.30it/s, loss 55.6382]\n",
      "[0088/0200] Validation: 100%|█████████████████████| 42/42 [00:04<00:00,  9.63it/s, val_loss 76.1229]\n",
      "[0089/0200] Train:   0%|                                                     | 0/44 [00:00<?, ?it/s]"
     ]
    },
    {
     "name": "stdout",
     "output_type": "stream",
     "text": [
      "Decaying lr from 0.0005 to 0.00025 because val_loss did not improved for 3 epochs\n",
      "val_loss is not improved for 3 epochs\n",
      "                  validation\n",
      " - Yaw          :   4.241859\n",
      " - Pitch        :   1.369816\n",
      " - Roll         :   0.987639\n",
      " - RMS          :   2.861258\n",
      " - 99% Tile     :  13.212574\n"
     ]
    },
    {
     "name": "stderr",
     "output_type": "stream",
     "text": [
      "[0089/0200] Train: 100%|██████████████████████████████| 44/44 [00:06<00:00,  6.42it/s, loss 51.9531]\n",
      "[0089/0200] Validation: 100%|█████████████████████| 42/42 [00:03<00:00, 11.61it/s, val_loss 72.5045]\n",
      "[0090/0200] Train:   0%|                                                     | 0/44 [00:00<?, ?it/s]"
     ]
    },
    {
     "name": "stdout",
     "output_type": "stream",
     "text": [
      "                  validation\n",
      " - Yaw          :   4.265366\n",
      " - Pitch        :   1.313264\n",
      " - Roll         :   0.881400\n",
      " - RMS          :   2.832381\n",
      " - 99% Tile     :  13.005432\n"
     ]
    },
    {
     "name": "stderr",
     "output_type": "stream",
     "text": [
      "[0090/0200] Train: 100%|██████████████████████████████| 44/44 [00:07<00:00,  5.96it/s, loss 51.7184]\n",
      "[0090/0200] Validation: 100%|█████████████████████| 42/42 [00:03<00:00, 12.37it/s, val_loss 72.8208]\n",
      "[0091/0200] Train:   0%|                                                     | 0/44 [00:00<?, ?it/s]"
     ]
    },
    {
     "name": "stdout",
     "output_type": "stream",
     "text": [
      "val_loss is not improved for 1 epochs\n",
      "                  validation\n",
      " - Yaw          :   4.315113\n",
      " - Pitch        :   1.330325\n",
      " - Roll         :   0.880238\n",
      " - RMS          :   2.862945\n",
      " - 99% Tile     :  13.138098\n"
     ]
    },
    {
     "name": "stderr",
     "output_type": "stream",
     "text": [
      "[0091/0200] Train: 100%|██████████████████████████████| 44/44 [00:07<00:00,  5.99it/s, loss 51.2062]\n",
      "[0091/0200] Validation: 100%|█████████████████████| 42/42 [00:04<00:00,  9.48it/s, val_loss 74.8426]\n",
      "[0092/0200] Train:   0%|                                                     | 0/44 [00:00<?, ?it/s]"
     ]
    },
    {
     "name": "stdout",
     "output_type": "stream",
     "text": [
      "val_loss is not improved for 2 epochs\n",
      "                  validation\n",
      " - Yaw          :   4.361633\n",
      " - Pitch        :   1.337962\n",
      " - Roll         :   0.942434\n",
      " - RMS          :   2.905798\n",
      " - 99% Tile     :  13.100954\n"
     ]
    },
    {
     "name": "stderr",
     "output_type": "stream",
     "text": [
      "[0092/0200] Train: 100%|██████████████████████████████| 44/44 [00:07<00:00,  5.92it/s, loss 51.8069]\n",
      "[0092/0200] Validation: 100%|█████████████████████| 42/42 [00:04<00:00,  9.50it/s, val_loss 74.5218]\n",
      "[0093/0200] Train:   0%|                                                     | 0/44 [00:00<?, ?it/s]"
     ]
    },
    {
     "name": "stdout",
     "output_type": "stream",
     "text": [
      "Decaying lr from 0.00025 to 0.000125 because val_loss did not improved for 3 epochs\n",
      "val_loss is not improved for 3 epochs\n",
      "                  validation\n",
      " - Yaw          :   4.337485\n",
      " - Pitch        :   1.341632\n",
      " - Roll         :   0.870664\n",
      " - RMS          :   2.880621\n",
      " - 99% Tile     :  13.125887\n"
     ]
    },
    {
     "name": "stderr",
     "output_type": "stream",
     "text": [
      "[0093/0200] Train: 100%|██████████████████████████████| 44/44 [00:07<00:00,  6.08it/s, loss 50.8944]\n",
      "[0093/0200] Validation: 100%|█████████████████████| 42/42 [00:03<00:00, 10.70it/s, val_loss 72.5309]\n",
      "[0094/0200] Train:   0%|                                                     | 0/44 [00:00<?, ?it/s]"
     ]
    },
    {
     "name": "stdout",
     "output_type": "stream",
     "text": [
      "val_loss is not improved for 4 epochs\n",
      "                  validation\n",
      " - Yaw          :   4.253769\n",
      " - Pitch        :   1.331235\n",
      " - Roll         :   0.875478\n",
      " - RMS          :   2.826792\n",
      " - 99% Tile     :  12.971753\n"
     ]
    },
    {
     "name": "stderr",
     "output_type": "stream",
     "text": [
      "[0094/0200] Train: 100%|██████████████████████████████| 44/44 [00:07<00:00,  5.83it/s, loss 49.5820]\n",
      "[0094/0200] Validation: 100%|█████████████████████| 42/42 [00:03<00:00, 12.15it/s, val_loss 73.6824]\n",
      "[0095/0200] Train:   0%|                                                     | 0/44 [00:00<?, ?it/s]"
     ]
    },
    {
     "name": "stdout",
     "output_type": "stream",
     "text": [
      "val_loss is not improved for 5 epochs\n",
      "                  validation\n",
      " - Yaw          :   4.233636\n",
      " - Pitch        :   1.345764\n",
      " - Roll         :   0.905919\n",
      " - RMS          :   2.830050\n",
      " - 99% Tile     :  13.133331\n"
     ]
    },
    {
     "name": "stderr",
     "output_type": "stream",
     "text": [
      "[0095/0200] Train: 100%|██████████████████████████████| 44/44 [00:07<00:00,  6.21it/s, loss 49.1495]\n",
      "[0095/0200] Validation: 100%|█████████████████████| 42/42 [00:03<00:00, 10.81it/s, val_loss 72.6644]\n",
      "[0096/0200] Train:   0%|                                                     | 0/44 [00:00<?, ?it/s]"
     ]
    },
    {
     "name": "stdout",
     "output_type": "stream",
     "text": [
      "Decaying lr from 0.000125 to 6.25e-05 because val_loss did not improved for 3 epochs\n",
      "val_loss is not improved for 6 epochs\n",
      "                  validation\n",
      " - Yaw          :   4.224008\n",
      " - Pitch        :   1.323328\n",
      " - Roll         :   0.873994\n",
      " - RMS          :   2.812338\n",
      " - 99% Tile     :  13.026018\n"
     ]
    },
    {
     "name": "stderr",
     "output_type": "stream",
     "text": [
      "[0096/0200] Train: 100%|██████████████████████████████| 44/44 [00:06<00:00,  6.57it/s, loss 49.4129]\n",
      "[0096/0200] Validation: 100%|█████████████████████| 42/42 [00:04<00:00,  8.96it/s, val_loss 72.3743]\n",
      "[0097/0200] Train:   0%|                                                     | 0/44 [00:00<?, ?it/s]"
     ]
    },
    {
     "name": "stdout",
     "output_type": "stream",
     "text": [
      "                  validation\n",
      " - Yaw          :   4.174044\n",
      " - Pitch        :   1.338099\n",
      " - Roll         :   0.872825\n",
      " - RMS          :   2.787628\n",
      " - 99% Tile     :  13.095928\n"
     ]
    },
    {
     "name": "stderr",
     "output_type": "stream",
     "text": [
      "[0097/0200] Train: 100%|██████████████████████████████| 44/44 [00:07<00:00,  5.99it/s, loss 47.9563]\n",
      "[0097/0200] Validation: 100%|█████████████████████| 42/42 [00:03<00:00, 12.93it/s, val_loss 72.4236]\n",
      "[0098/0200] Train:   0%|                                                     | 0/44 [00:00<?, ?it/s]"
     ]
    },
    {
     "name": "stdout",
     "output_type": "stream",
     "text": [
      "val_loss is not improved for 1 epochs\n",
      "                  validation\n",
      " - Yaw          :   4.199896\n",
      " - Pitch        :   1.337977\n",
      " - Roll         :   0.876744\n",
      " - RMS          :   2.801221\n",
      " - 99% Tile     :  13.072255\n"
     ]
    },
    {
     "name": "stderr",
     "output_type": "stream",
     "text": [
      "[0098/0200] Train: 100%|██████████████████████████████| 44/44 [00:07<00:00,  5.81it/s, loss 47.5161]\n",
      "[0098/0200] Validation: 100%|█████████████████████| 42/42 [00:03<00:00, 11.38it/s, val_loss 72.6723]\n",
      "[0099/0200] Train:   0%|                                                     | 0/44 [00:00<?, ?it/s]"
     ]
    },
    {
     "name": "stdout",
     "output_type": "stream",
     "text": [
      "val_loss is not improved for 2 epochs\n",
      "                  validation\n",
      " - Yaw          :   4.135433\n",
      " - Pitch        :   1.351286\n",
      " - Roll         :   0.877939\n",
      " - RMS          :   2.772132\n",
      " - 99% Tile     :  13.076458\n"
     ]
    },
    {
     "name": "stderr",
     "output_type": "stream",
     "text": [
      "[0099/0200] Train: 100%|██████████████████████████████| 44/44 [00:07<00:00,  5.56it/s, loss 47.2137]\n",
      "[0099/0200] Validation: 100%|█████████████████████| 42/42 [00:04<00:00, 10.47it/s, val_loss 71.5830]\n",
      "[0100/0200] Train:   0%|                                                     | 0/44 [00:00<?, ?it/s]"
     ]
    },
    {
     "name": "stdout",
     "output_type": "stream",
     "text": [
      "                  validation\n",
      " - Yaw          :   4.142580\n",
      " - Pitch        :   1.324817\n",
      " - Roll         :   0.854455\n",
      " - RMS          :   2.765534\n",
      " - 99% Tile     :  12.870219\n"
     ]
    },
    {
     "name": "stderr",
     "output_type": "stream",
     "text": [
      "[0100/0200] Train: 100%|██████████████████████████████| 44/44 [00:07<00:00,  5.74it/s, loss 47.1925]\n",
      "[0100/0200] Validation: 100%|█████████████████████| 42/42 [00:03<00:00, 11.97it/s, val_loss 72.4888]\n",
      "[0101/0200] Train:   0%|                                                     | 0/44 [00:00<?, ?it/s]"
     ]
    },
    {
     "name": "stdout",
     "output_type": "stream",
     "text": [
      "val_loss is not improved for 1 epochs\n",
      "                  validation\n",
      " - Yaw          :   4.207053\n",
      " - Pitch        :   1.345065\n",
      " - Roll         :   0.869397\n",
      " - RMS          :   2.805411\n",
      " - 99% Tile     :  13.051124\n"
     ]
    },
    {
     "name": "stderr",
     "output_type": "stream",
     "text": [
      "[0101/0200] Train: 100%|██████████████████████████████| 44/44 [00:08<00:00,  5.47it/s, loss 47.0990]\n",
      "[0101/0200] Validation: 100%|█████████████████████| 42/42 [00:03<00:00, 12.53it/s, val_loss 71.8415]\n",
      "[0102/0200] Train:   0%|                                                     | 0/44 [00:00<?, ?it/s]"
     ]
    },
    {
     "name": "stdout",
     "output_type": "stream",
     "text": [
      "val_loss is not improved for 2 epochs\n",
      "                  validation\n",
      " - Yaw          :   4.204627\n",
      " - Pitch        :   1.323443\n",
      " - Roll         :   0.850380\n",
      " - RMS          :   2.796483\n",
      " - 99% Tile     :  13.139298\n"
     ]
    },
    {
     "name": "stderr",
     "output_type": "stream",
     "text": [
      "[0102/0200] Train: 100%|██████████████████████████████| 44/44 [00:08<00:00,  5.46it/s, loss 47.0746]\n",
      "[0102/0200] Validation: 100%|█████████████████████| 42/42 [00:03<00:00, 12.25it/s, val_loss 72.4920]\n",
      "[0103/0200] Train:   0%|                                                     | 0/44 [00:00<?, ?it/s]"
     ]
    },
    {
     "name": "stdout",
     "output_type": "stream",
     "text": [
      "Decaying lr from 6.25e-05 to 3.125e-05 because val_loss did not improved for 3 epochs\n",
      "val_loss is not improved for 3 epochs\n",
      "                  validation\n",
      " - Yaw          :   4.162480\n",
      " - Pitch        :   1.343880\n",
      " - Roll         :   0.860404\n",
      " - RMS          :   2.780589\n",
      " - 99% Tile     :  13.184107\n"
     ]
    },
    {
     "name": "stderr",
     "output_type": "stream",
     "text": [
      "[0103/0200] Train: 100%|██████████████████████████████| 44/44 [00:07<00:00,  5.85it/s, loss 47.0059]\n",
      "[0103/0200] Validation: 100%|█████████████████████| 42/42 [00:03<00:00, 11.79it/s, val_loss 72.2493]\n",
      "[0104/0200] Train:   0%|                                                     | 0/44 [00:00<?, ?it/s]"
     ]
    },
    {
     "name": "stdout",
     "output_type": "stream",
     "text": [
      "val_loss is not improved for 4 epochs\n",
      "                  validation\n",
      " - Yaw          :   4.185362\n",
      " - Pitch        :   1.329116\n",
      " - Roll         :   0.863455\n",
      " - RMS          :   2.790038\n",
      " - 99% Tile     :  12.893874\n"
     ]
    },
    {
     "name": "stderr",
     "output_type": "stream",
     "text": [
      "[0104/0200] Train: 100%|██████████████████████████████| 44/44 [00:08<00:00,  5.37it/s, loss 47.0381]\n",
      "[0104/0200] Validation: 100%|█████████████████████| 42/42 [00:03<00:00, 12.78it/s, val_loss 72.2111]\n",
      "[0105/0200] Train:   0%|                                                     | 0/44 [00:00<?, ?it/s]"
     ]
    },
    {
     "name": "stdout",
     "output_type": "stream",
     "text": [
      "val_loss is not improved for 5 epochs\n",
      "                  validation\n",
      " - Yaw          :   4.203879\n",
      " - Pitch        :   1.328126\n",
      " - Roll         :   0.850713\n",
      " - RMS          :   2.798788\n",
      " - 99% Tile     :  13.073807\n"
     ]
    },
    {
     "name": "stderr",
     "output_type": "stream",
     "text": [
      "[0105/0200] Train: 100%|██████████████████████████████| 44/44 [00:06<00:00,  6.92it/s, loss 46.1440]\n",
      "[0105/0200] Validation: 100%|█████████████████████| 42/42 [00:02<00:00, 16.41it/s, val_loss 71.9853]\n",
      "[0106/0200] Train:   0%|                                                     | 0/44 [00:00<?, ?it/s]"
     ]
    },
    {
     "name": "stdout",
     "output_type": "stream",
     "text": [
      "Decaying lr from 3.125e-05 to 1.5625e-05 because val_loss did not improved for 3 epochs\n",
      "val_loss is not improved for 6 epochs\n",
      "                  validation\n",
      " - Yaw          :   4.175287\n",
      " - Pitch        :   1.326597\n",
      " - Roll         :   0.858570\n",
      " - RMS          :   2.784307\n",
      " - 99% Tile     :  12.923341\n"
     ]
    },
    {
     "name": "stderr",
     "output_type": "stream",
     "text": [
      "[0106/0200] Train: 100%|██████████████████████████████| 44/44 [00:05<00:00,  7.59it/s, loss 46.9621]\n",
      "[0106/0200] Validation: 100%|█████████████████████| 42/42 [00:02<00:00, 16.29it/s, val_loss 72.4811]\n",
      "[0107/0200] Train:   0%|                                                     | 0/44 [00:00<?, ?it/s]"
     ]
    },
    {
     "name": "stdout",
     "output_type": "stream",
     "text": [
      "val_loss is not improved for 7 epochs\n",
      "                  validation\n",
      " - Yaw          :   4.143044\n",
      " - Pitch        :   1.345345\n",
      " - Roll         :   0.845680\n",
      " - RMS          :   2.770003\n",
      " - 99% Tile     :  12.907948\n"
     ]
    },
    {
     "name": "stderr",
     "output_type": "stream",
     "text": [
      "[0107/0200] Train: 100%|██████████████████████████████| 44/44 [00:05<00:00,  7.52it/s, loss 46.1178]\n",
      "[0107/0200] Validation: 100%|█████████████████████| 42/42 [00:02<00:00, 15.94it/s, val_loss 72.0671]\n",
      "[0108/0200] Train:   0%|                                                     | 0/44 [00:00<?, ?it/s]"
     ]
    },
    {
     "name": "stdout",
     "output_type": "stream",
     "text": [
      "val_loss is not improved for 8 epochs\n",
      "                  validation\n",
      " - Yaw          :   4.205122\n",
      " - Pitch        :   1.323973\n",
      " - Roll         :   0.855989\n",
      " - RMS          :   2.799751\n",
      " - 99% Tile     :  13.074692\n"
     ]
    },
    {
     "name": "stderr",
     "output_type": "stream",
     "text": [
      "[0108/0200] Train: 100%|██████████████████████████████| 44/44 [00:05<00:00,  7.72it/s, loss 46.4159]\n",
      "[0108/0200] Validation: 100%|█████████████████████| 42/42 [00:02<00:00, 15.29it/s, val_loss 71.7662]\n",
      "[0109/0200] Train:   0%|                                                     | 0/44 [00:00<?, ?it/s]"
     ]
    },
    {
     "name": "stdout",
     "output_type": "stream",
     "text": [
      "Decaying lr from 1.5625e-05 to 7.8125e-06 because val_loss did not improved for 3 epochs\n",
      "val_loss is not improved for 9 epochs\n",
      "                  validation\n",
      " - Yaw          :   4.155394\n",
      " - Pitch        :   1.330302\n",
      " - Roll         :   0.856030\n",
      " - RMS          :   2.773464\n",
      " - 99% Tile     :  12.895004\n"
     ]
    },
    {
     "name": "stderr",
     "output_type": "stream",
     "text": [
      "[0109/0200] Train: 100%|██████████████████████████████| 44/44 [00:05<00:00,  7.55it/s, loss 47.1066]\n",
      "[0109/0200] Validation: 100%|█████████████████████| 42/42 [00:02<00:00, 15.16it/s, val_loss 72.1947]"
     ]
    },
    {
     "name": "stdout",
     "output_type": "stream",
     "text": [
      "val_loss is not improved for 10 epochs\n",
      "Stop training because val_loss did not improved for 10 epochs\n",
      "                  validation\n",
      " - Yaw          :   4.153197\n",
      " - Pitch        :   1.336747\n",
      " - Roll         :   0.861941\n",
      " - RMS          :   2.775440\n",
      " - 99% Tile     :  12.957245\n"
     ]
    },
    {
     "name": "stderr",
     "output_type": "stream",
     "text": [
      "\n"
     ]
    }
   ],
   "source": [
    "trainer.fit(ds_train, ds_test, num_epochs=200, batch_size=256, shuffle=True, pin_memory=True)"
   ]
  },
  {
   "cell_type": "code",
   "execution_count": null,
   "metadata": {},
   "outputs": [],
   "source": []
  }
 ],
 "metadata": {
  "kernelspec": {
   "display_name": "torch",
   "language": "python",
   "name": "torch"
  },
  "language_info": {
   "codemirror_mode": {
    "name": "ipython",
    "version": 3
   },
   "file_extension": ".py",
   "mimetype": "text/x-python",
   "name": "python",
   "nbconvert_exporter": "python",
   "pygments_lexer": "ipython3",
   "version": "3.7.9"
  }
 },
 "nbformat": 4,
 "nbformat_minor": 4
}
