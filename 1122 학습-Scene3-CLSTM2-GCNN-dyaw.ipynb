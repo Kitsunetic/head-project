{
 "cells": [
  {
   "cell_type": "markdown",
   "metadata": {},
   "source": [
    "# 학습 결과\n",
    "\n",
    "user1의 scene 1~3만 사용해서 학습\n",
    "\n",
    "scene보다 user가 많기 때문에 데이터의 양이 확연히 줄어듬에도 불구하고 성능이 괜찮음.  \n",
    "적은 데이터 특화됐기 때문인지는 모르겠다.\n",
    "\n",
    "나머지 scene에 대해서도 잘 학습을 하면서 user에 대해서도 특화된다면 성능을 상당히 끌어올릴 수 있을 것으로 기대됨.  \n",
    "--> curriculum learning"
   ]
  },
  {
   "cell_type": "code",
   "execution_count": 1,
   "metadata": {},
   "outputs": [],
   "source": [
    "from multiprocessing import cpu_count\n",
    "from pathlib import Path\n",
    "from typing import List, Union, AnyStr\n",
    "from math import pi\n",
    "import pickle\n",
    "\n",
    "import numpy as np\n",
    "import torch\n",
    "import matplotlib.pyplot as plt\n",
    "import torch.nn as nn\n",
    "from sklearn import model_selection\n",
    "from tqdm import tqdm\n",
    "import torch_optimizer\n",
    "from torch.utils.data import Dataset\n",
    "import pandas as pd\n",
    "import random\n",
    "\n",
    "import torch_burn as tb\n",
    "import utils"
   ]
  },
  {
   "cell_type": "code",
   "execution_count": 2,
   "metadata": {},
   "outputs": [],
   "source": [
    "EXPERIMENT_NAME = '1122-Scene3-CLSTM2-win48-GCNN-dyaw'\n",
    "CHECKPOINT_DIR = Path('checkpoint', EXPERIMENT_NAME)\n",
    "CHECKPOINT_DIR.mkdir(parents=True, exist_ok=True)\n",
    "\n",
    "DATA_DIR = Path('data/1116')\n",
    "TRAIN_FILES = sorted(list(DATA_DIR.glob('*scene3_0.csv')))\n",
    "TEST_FILES = sorted(list(DATA_DIR.glob('*scene3_1.csv')))"
   ]
  },
  {
   "cell_type": "markdown",
   "metadata": {},
   "source": [
    "# 데이터셋 생성\n",
    "\n",
    "scene1에 대해서 모든 user의 데이터를 하나로 합친다."
   ]
  },
  {
   "cell_type": "code",
   "execution_count": 3,
   "metadata": {},
   "outputs": [],
   "source": [
    "WINDOW_SIZE = 48"
   ]
  },
  {
   "cell_type": "code",
   "execution_count": 4,
   "metadata": {},
   "outputs": [],
   "source": [
    "class CSVSequentialDataset(Dataset):\n",
    "    def __init__(self, csvfile,\n",
    "                 window_size=300, randomized_window_size=False,\n",
    "                 stride=30, randomized_stride=False):\n",
    "        super(CSVSequentialDataset, self).__init__()\n",
    "\n",
    "        self.xcols = ['input_orientation_yaw', 'input_orientation_pitch', 'input_orientation_roll',\n",
    "                      'acceleration_x', 'acceleration_y', 'acceleration_z',\n",
    "                      'dyaw', 'dpitch', 'droll']\n",
    "        self.ycols = ['input_orientation_yaw', 'input_orientation_pitch', 'input_orientation_roll']\n",
    "\n",
    "        self.csv = pd.read_csv(csvfile)\n",
    "        self.window_size = window_size\n",
    "\n",
    "        self.indexes = []\n",
    "        i = 0\n",
    "        while i <= len(self.csv) - window_size * 2:\n",
    "            if randomized_window_size:\n",
    "                self.indexes.append((i, i + random.randint(window_size // 2, window_size)))\n",
    "            else:\n",
    "                self.indexes.append((i, i + window_size))\n",
    "\n",
    "            if randomized_stride:\n",
    "                i += random.randint(1, stride)\n",
    "            else:\n",
    "                i += stride\n",
    "\n",
    "    def __len__(self):\n",
    "        return len(self.indexes)\n",
    "\n",
    "    def __getitem__(self, idx):\n",
    "        s, t = self.indexes[idx]\n",
    "        x = self.csv.iloc[s:t][self.xcols].to_numpy()\n",
    "        y = self.csv.iloc[t + 6][self.ycols].to_numpy()\n",
    "\n",
    "        x = torch.tensor(x, dtype=torch.float32) # 300, 6\n",
    "        y = torch.tensor(y, dtype=torch.float32) # 3\n",
    "        \n",
    "        #x[:, :3] *= pi / 180\n",
    "        x[:, 3:] /= 10\n",
    "\n",
    "        return x, y"
   ]
  },
  {
   "cell_type": "code",
   "execution_count": 5,
   "metadata": {},
   "outputs": [],
   "source": [
    "ds_train = [CSVSequentialDataset(f,  \n",
    "                                 window_size=WINDOW_SIZE, randomized_window_size=False,\n",
    "                                 stride=5, randomized_stride=True) for f in TRAIN_FILES]\n",
    "ds_train = tb.data.ChainDataset(*ds_train)\n",
    "ds_test = [CSVSequentialDataset(f,  \n",
    "                                window_size=WINDOW_SIZE, randomized_window_size=False,\n",
    "                                stride=5, randomized_stride=True) for f in TEST_FILES]\n",
    "ds_test = tb.data.ChainDataset(*ds_test)"
   ]
  },
  {
   "cell_type": "code",
   "execution_count": 6,
   "metadata": {},
   "outputs": [
    {
     "data": {
      "text/plain": [
       "(18789, 18069)"
      ]
     },
     "execution_count": 6,
     "metadata": {},
     "output_type": "execute_result"
    }
   ],
   "source": [
    "len(ds_train), len(ds_test)"
   ]
  },
  {
   "cell_type": "code",
   "execution_count": 7,
   "metadata": {},
   "outputs": [
    {
     "data": {
      "text/plain": [
       "(torch.Size([48, 9]), torch.Size([3]))"
      ]
     },
     "execution_count": 7,
     "metadata": {},
     "output_type": "execute_result"
    }
   ],
   "source": [
    "ds_train[0][0].shape, ds_train[0][1].shape"
   ]
  },
  {
   "cell_type": "code",
   "execution_count": 8,
   "metadata": {},
   "outputs": [],
   "source": [
    "x, y = ds_train[0]"
   ]
  },
  {
   "cell_type": "code",
   "execution_count": 9,
   "metadata": {},
   "outputs": [
    {
     "data": {
      "text/plain": [
       "torch.Size([48, 9])"
      ]
     },
     "execution_count": 9,
     "metadata": {},
     "output_type": "execute_result"
    }
   ],
   "source": [
    "x.shape"
   ]
  },
  {
   "cell_type": "code",
   "execution_count": 10,
   "metadata": {},
   "outputs": [
    {
     "data": {
      "text/plain": [
       "[<matplotlib.lines.Line2D at 0x7f4fe87897d0>]"
      ]
     },
     "execution_count": 10,
     "metadata": {},
     "output_type": "execute_result"
    },
    {
     "data": {
      "image/png": "[encoded data removed]",
      "text/plain": [
       "<Figure size 432x288 with 1 Axes>"
      ]
     },
     "metadata": {
      "needs_background": "light"
     },
     "output_type": "display_data"
    }
   ],
   "source": [
    "plt.plot(x[:, 2])"
   ]
  },
  {
   "cell_type": "markdown",
   "metadata": {},
   "source": [
    "# 모델 생성"
   ]
  },
  {
   "cell_type": "code",
   "execution_count": 11,
   "metadata": {},
   "outputs": [],
   "source": [
    "class CLSTM(nn.Module):\n",
    "    def __init__(self, input_size=6, hidden_size=24, num_layers=8, dropout=0.0, bidirectional=False):\n",
    "        super(CLSTM, self).__init__()\n",
    "\n",
    "        self.conv_in = nn.Sequential(\n",
    "            nn.Conv1d(input_size, 12, 5, padding=2, groups=3),\n",
    "            nn.BatchNorm1d(12),\n",
    "            nn.LeakyReLU(),\n",
    "            nn.Conv1d(12, 24, 5, padding=2),\n",
    "            nn.BatchNorm1d(24),\n",
    "        )\n",
    "\n",
    "        self.rnn = nn.LSTM(input_size=24,\n",
    "                           hidden_size=hidden_size,\n",
    "                           num_layers=num_layers,\n",
    "                           batch_first=True,\n",
    "                           dropout=dropout,\n",
    "                           bidirectional=bidirectional)\n",
    "\n",
    "        out_channels = 2 * hidden_size if bidirectional else hidden_size\n",
    "        self.fc = nn.Linear(out_channels, 3)\n",
    "\n",
    "    def forward(self, x):\n",
    "        x = x.transpose(1, 2)  # B, 48, 6 --> B, 6, 48\n",
    "        x = self.conv_in(x)  # B, 64, 48\n",
    "        x = x.transpose(1, 2)  # B, 48, 64\n",
    "\n",
    "        outs, (hiddens, cells) = self.rnn(x)\n",
    "        x = outs[:, -1, ...]\n",
    "        x = self.fc(x)\n",
    "\n",
    "        return x"
   ]
  },
  {
   "cell_type": "code",
   "execution_count": 12,
   "metadata": {},
   "outputs": [],
   "source": [
    "model = CLSTM(input_size=9, hidden_size=64, num_layers=8, dropout=0.2, bidirectional=True).cuda()"
   ]
  },
  {
   "cell_type": "code",
   "execution_count": 13,
   "metadata": {},
   "outputs": [],
   "source": [
    "criterion = nn.MSELoss().cuda()\n",
    "optimizer = torch_optimizer.RAdam(model.parameters())"
   ]
  },
  {
   "cell_type": "code",
   "execution_count": 14,
   "metadata": {},
   "outputs": [],
   "source": [
    "metrics = [tb.metrics.ModuleMetric(criterion, 'loss'),\n",
    "           utils.HPMetric('hp_metric'),\n",
    "           utils.HPSignalHistory(CHECKPOINT_DIR / 'sample' / '{epoch:04d}.npy', 'hp_signal')]"
   ]
  },
  {
   "cell_type": "code",
   "execution_count": 15,
   "metadata": {},
   "outputs": [],
   "source": [
    "callbacks = [tb.callbacks.EarlyStopping(metrics[0]),\n",
    "             tb.callbacks.LRDecaying(optimizer, metrics[0])]"
   ]
  },
  {
   "cell_type": "code",
   "execution_count": 16,
   "metadata": {},
   "outputs": [],
   "source": [
    "trainer = tb.Trainer(model, optimizer, metrics, callbacks, ncols=100)"
   ]
  },
  {
   "cell_type": "code",
   "execution_count": 17,
   "metadata": {},
   "outputs": [
    {
     "name": "stderr",
     "output_type": "stream",
     "text": [
      "[0001/0100] Train: 100%|█████████████████████████████| 74/74 [00:07<00:00,  9.98it/s, loss 285.1195]\n",
      "[0001/0100] Validation: 100%|████████████████████| 71/71 [00:02<00:00, 30.04it/s, val_loss 223.4574]\n",
      "[0002/0100] Train:   0%|                                                     | 0/74 [00:00<?, ?it/s]"
     ]
    },
    {
     "name": "stdout",
     "output_type": "stream",
     "text": [
      "                  validation\n",
      " - Yaw          :  19.002254\n",
      " - Pitch        :  10.124249\n",
      " - Roll         :   2.569284\n",
      " - RMS          :  12.519150\n",
      " - 99% Tile     :  43.648980\n",
      "Save output signals into checkpoint/1122-Scene3-CLSTM2-win48-GCNN-dyaw/sample/0001.npy\n"
     ]
    },
    {
     "name": "stderr",
     "output_type": "stream",
     "text": [
      "[0002/0100] Train: 100%|█████████████████████████████| 74/74 [00:07<00:00, 10.06it/s, loss 239.9017]\n",
      "[0002/0100] Validation: 100%|████████████████████| 71/71 [00:02<00:00, 29.73it/s, val_loss 170.6703]\n",
      "[0003/0100] Train:   0%|                                                     | 0/74 [00:00<?, ?it/s]"
     ]
    },
    {
     "name": "stdout",
     "output_type": "stream",
     "text": [
      "                  validation\n",
      " - Yaw          :  15.719317\n",
      " - Pitch        :   9.104604\n",
      " - Roll         :   2.600888\n",
      " - RMS          :  10.594894\n",
      " - 99% Tile     :  40.172875\n",
      "Save output signals into checkpoint/1122-Scene3-CLSTM2-win48-GCNN-dyaw/sample/0002.npy\n"
     ]
    },
    {
     "name": "stderr",
     "output_type": "stream",
     "text": [
      "[0003/0100] Train: 100%|█████████████████████████████| 74/74 [00:07<00:00, 10.25it/s, loss 179.5219]\n",
      "[0003/0100] Validation: 100%|████████████████████| 71/71 [00:02<00:00, 30.66it/s, val_loss 122.2887]\n",
      "[0004/0100] Train:   0%|                                                     | 0/74 [00:00<?, ?it/s]"
     ]
    },
    {
     "name": "stdout",
     "output_type": "stream",
     "text": [
      "                  validation\n",
      " - Yaw          :  11.490617\n",
      " - Pitch        :   9.022749\n",
      " - Roll         :   2.366055\n",
      " - RMS          :   8.544833\n",
      " - 99% Tile     :  34.252058\n",
      "Save output signals into checkpoint/1122-Scene3-CLSTM2-win48-GCNN-dyaw/sample/0003.npy\n"
     ]
    },
    {
     "name": "stderr",
     "output_type": "stream",
     "text": [
      "[0004/0100] Train: 100%|█████████████████████████████| 74/74 [00:07<00:00, 10.00it/s, loss 136.7301]\n",
      "[0004/0100] Validation: 100%|█████████████████████| 71/71 [00:02<00:00, 30.24it/s, val_loss 95.5696]\n",
      "[0005/0100] Train:   0%|                                                     | 0/74 [00:00<?, ?it/s]"
     ]
    },
    {
     "name": "stdout",
     "output_type": "stream",
     "text": [
      "                  validation\n",
      " - Yaw          :  10.141831\n",
      " - Pitch        :   8.099226\n",
      " - Roll         :   2.373808\n",
      " - RMS          :   7.617724\n",
      " - 99% Tile     :  30.613068\n",
      "Save output signals into checkpoint/1122-Scene3-CLSTM2-win48-GCNN-dyaw/sample/0004.npy\n"
     ]
    },
    {
     "name": "stderr",
     "output_type": "stream",
     "text": [
      "[0005/0100] Train: 100%|█████████████████████████████| 74/74 [00:07<00:00, 10.32it/s, loss 110.7862]\n",
      "[0005/0100] Validation: 100%|█████████████████████| 71/71 [00:02<00:00, 29.33it/s, val_loss 76.8582]\n",
      "[0006/0100] Train:   0%|                                                     | 0/74 [00:00<?, ?it/s]"
     ]
    },
    {
     "name": "stdout",
     "output_type": "stream",
     "text": [
      "                  validation\n",
      " - Yaw          :   8.361250\n",
      " - Pitch        :   7.548053\n",
      " - Roll         :   2.372429\n",
      " - RMS          :   6.646102\n",
      " - 99% Tile     :  27.708895\n",
      "Save output signals into checkpoint/1122-Scene3-CLSTM2-win48-GCNN-dyaw/sample/0005.npy\n"
     ]
    },
    {
     "name": "stderr",
     "output_type": "stream",
     "text": [
      "[0006/0100] Train: 100%|██████████████████████████████| 74/74 [00:07<00:00, 10.11it/s, loss 92.2936]\n",
      "[0006/0100] Validation: 100%|█████████████████████| 71/71 [00:02<00:00, 29.99it/s, val_loss 64.8672]\n",
      "[0007/0100] Train:   0%|                                                     | 0/74 [00:00<?, ?it/s]"
     ]
    },
    {
     "name": "stdout",
     "output_type": "stream",
     "text": [
      "                  validation\n",
      " - Yaw          :   7.113002\n",
      " - Pitch        :   7.316483\n",
      " - Roll         :   2.381325\n",
      " - RMS          :   6.049695\n",
      " - 99% Tile     :  25.485057\n",
      "Save output signals into checkpoint/1122-Scene3-CLSTM2-win48-GCNN-dyaw/sample/0006.npy\n"
     ]
    },
    {
     "name": "stderr",
     "output_type": "stream",
     "text": [
      "[0007/0100] Train: 100%|██████████████████████████████| 74/74 [00:06<00:00, 10.60it/s, loss 78.4219]\n",
      "[0007/0100] Validation: 100%|█████████████████████| 71/71 [00:02<00:00, 30.23it/s, val_loss 55.8137]\n",
      "[0008/0100] Train:   0%|                                                     | 0/74 [00:00<?, ?it/s]"
     ]
    },
    {
     "name": "stdout",
     "output_type": "stream",
     "text": [
      "                  validation\n",
      " - Yaw          :   5.946347\n",
      " - Pitch        :   7.265782\n",
      " - Roll         :   2.376834\n",
      " - RMS          :   5.591660\n",
      " - 99% Tile     :  24.236123\n",
      "Save output signals into checkpoint/1122-Scene3-CLSTM2-win48-GCNN-dyaw/sample/0007.npy\n"
     ]
    },
    {
     "name": "stderr",
     "output_type": "stream",
     "text": [
      "[0008/0100] Train: 100%|██████████████████████████████| 74/74 [00:06<00:00, 10.95it/s, loss 67.6810]\n",
      "[0008/0100] Validation: 100%|█████████████████████| 71/71 [00:02<00:00, 28.56it/s, val_loss 48.3842]\n",
      "[0009/0100] Train:   0%|                                                     | 0/74 [00:00<?, ?it/s]"
     ]
    },
    {
     "name": "stdout",
     "output_type": "stream",
     "text": [
      "                  validation\n",
      " - Yaw          :   4.834596\n",
      " - Pitch        :   7.241570\n",
      " - Roll         :   2.351291\n",
      " - RMS          :   5.207118\n",
      " - 99% Tile     :  22.263449\n",
      "Save output signals into checkpoint/1122-Scene3-CLSTM2-win48-GCNN-dyaw/sample/0008.npy\n"
     ]
    },
    {
     "name": "stderr",
     "output_type": "stream",
     "text": [
      "[0009/0100] Train: 100%|██████████████████████████████| 74/74 [00:06<00:00, 10.85it/s, loss 58.8327]\n",
      "[0009/0100] Validation: 100%|█████████████████████| 71/71 [00:02<00:00, 27.50it/s, val_loss 43.4448]\n",
      "[0010/0100] Train:   0%|                                                     | 0/74 [00:00<?, ?it/s]"
     ]
    },
    {
     "name": "stdout",
     "output_type": "stream",
     "text": [
      "                  validation\n",
      " - Yaw          :   4.534141\n",
      " - Pitch        :   7.063735\n",
      " - Roll         :   2.318901\n",
      " - RMS          :   5.027660\n",
      " - 99% Tile     :  21.658307\n",
      "Save output signals into checkpoint/1122-Scene3-CLSTM2-win48-GCNN-dyaw/sample/0009.npy\n"
     ]
    },
    {
     "name": "stderr",
     "output_type": "stream",
     "text": [
      "[0010/0100] Train: 100%|██████████████████████████████| 74/74 [00:06<00:00, 10.80it/s, loss 52.5798]\n",
      "[0010/0100] Validation: 100%|█████████████████████| 71/71 [00:02<00:00, 27.61it/s, val_loss 39.6521]\n",
      "[0011/0100] Train:   0%|                                                     | 0/74 [00:00<?, ?it/s]"
     ]
    },
    {
     "name": "stdout",
     "output_type": "stream",
     "text": [
      "                  validation\n",
      " - Yaw          :   4.007027\n",
      " - Pitch        :   6.994201\n",
      " - Roll         :   2.280426\n",
      " - RMS          :   4.836509\n",
      " - 99% Tile     :  21.220210\n",
      "Save output signals into checkpoint/1122-Scene3-CLSTM2-win48-GCNN-dyaw/sample/0010.npy\n"
     ]
    },
    {
     "name": "stderr",
     "output_type": "stream",
     "text": [
      "[0011/0100] Train: 100%|██████████████████████████████| 74/74 [00:06<00:00, 10.84it/s, loss 48.5572]\n",
      "[0011/0100] Validation: 100%|█████████████████████| 71/71 [00:02<00:00, 26.90it/s, val_loss 39.6286]\n",
      "[0012/0100] Train:   0%|                                                     | 0/74 [00:00<?, ?it/s]"
     ]
    },
    {
     "name": "stdout",
     "output_type": "stream",
     "text": [
      "                  validation\n",
      " - Yaw          :   4.569563\n",
      " - Pitch        :   6.675492\n",
      " - Roll         :   2.312258\n",
      " - RMS          :   4.857628\n",
      " - 99% Tile     :  21.085732\n",
      "Save output signals into checkpoint/1122-Scene3-CLSTM2-win48-GCNN-dyaw/sample/0011.npy\n"
     ]
    },
    {
     "name": "stderr",
     "output_type": "stream",
     "text": [
      "[0012/0100] Train: 100%|██████████████████████████████| 74/74 [00:06<00:00, 11.29it/s, loss 44.1688]\n",
      "[0012/0100] Validation: 100%|█████████████████████| 71/71 [00:02<00:00, 27.00it/s, val_loss 34.5112]\n",
      "[0013/0100] Train:   0%|                                                     | 0/74 [00:00<?, ?it/s]"
     ]
    },
    {
     "name": "stdout",
     "output_type": "stream",
     "text": [
      "                  validation\n",
      " - Yaw          :   3.498244\n",
      " - Pitch        :   6.535889\n",
      " - Roll         :   2.314421\n",
      " - RMS          :   4.483752\n",
      " - 99% Tile     :  20.372387\n",
      "Save output signals into checkpoint/1122-Scene3-CLSTM2-win48-GCNN-dyaw/sample/0012.npy\n"
     ]
    },
    {
     "name": "stderr",
     "output_type": "stream",
     "text": [
      "[0013/0100] Train: 100%|██████████████████████████████| 74/74 [00:06<00:00, 11.15it/s, loss 42.0878]\n",
      "[0013/0100] Validation: 100%|█████████████████████| 71/71 [00:02<00:00, 26.49it/s, val_loss 34.5768]\n",
      "[0014/0100] Train:   0%|                                                     | 0/74 [00:00<?, ?it/s]"
     ]
    },
    {
     "name": "stdout",
     "output_type": "stream",
     "text": [
      "val_loss is not improved for 1 epochs\n",
      "                  validation\n",
      " - Yaw          :   3.202558\n",
      " - Pitch        :   6.557937\n",
      " - Roll         :   2.309987\n",
      " - RMS          :   4.419613\n",
      " - 99% Tile     :  20.897632\n",
      "Save output signals into checkpoint/1122-Scene3-CLSTM2-win48-GCNN-dyaw/sample/0013.npy\n"
     ]
    },
    {
     "name": "stderr",
     "output_type": "stream",
     "text": [
      "[0014/0100] Train: 100%|██████████████████████████████| 74/74 [00:06<00:00, 11.04it/s, loss 39.3060]\n",
      "[0014/0100] Validation: 100%|█████████████████████| 71/71 [00:02<00:00, 27.20it/s, val_loss 33.8827]\n",
      "[0015/0100] Train:   0%|                                                     | 0/74 [00:00<?, ?it/s]"
     ]
    },
    {
     "name": "stdout",
     "output_type": "stream",
     "text": [
      "                  validation\n",
      " - Yaw          :   3.882291\n",
      " - Pitch        :   6.374380\n",
      " - Roll         :   2.342865\n",
      " - RMS          :   4.516412\n",
      " - 99% Tile     :  19.703163\n",
      "Save output signals into checkpoint/1122-Scene3-CLSTM2-win48-GCNN-dyaw/sample/0014.npy\n"
     ]
    },
    {
     "name": "stderr",
     "output_type": "stream",
     "text": [
      "[0015/0100] Train: 100%|██████████████████████████████| 74/74 [00:06<00:00, 11.44it/s, loss 36.8157]\n",
      "[0015/0100] Validation: 100%|█████████████████████| 71/71 [00:02<00:00, 25.79it/s, val_loss 31.7228]\n",
      "[0016/0100] Train:   0%|                                                     | 0/74 [00:00<?, ?it/s]"
     ]
    },
    {
     "name": "stdout",
     "output_type": "stream",
     "text": [
      "                  validation\n",
      " - Yaw          :   3.576057\n",
      " - Pitch        :   6.163791\n",
      " - Roll         :   2.269490\n",
      " - RMS          :   4.317835\n",
      " - 99% Tile     :  19.645633\n",
      "Save output signals into checkpoint/1122-Scene3-CLSTM2-win48-GCNN-dyaw/sample/0015.npy\n"
     ]
    },
    {
     "name": "stderr",
     "output_type": "stream",
     "text": [
      "[0016/0100] Train: 100%|██████████████████████████████| 74/74 [00:06<00:00, 11.59it/s, loss 32.4641]\n",
      "[0016/0100] Validation: 100%|█████████████████████| 71/71 [00:02<00:00, 25.78it/s, val_loss 18.6276]\n",
      "[0017/0100] Train:   0%|                                                     | 0/74 [00:00<?, ?it/s]"
     ]
    },
    {
     "name": "stdout",
     "output_type": "stream",
     "text": [
      "                  validation\n",
      " - Yaw          :   2.496723\n",
      " - Pitch        :   4.603714\n",
      " - Roll         :   2.331914\n",
      " - RMS          :   3.309866\n",
      " - 99% Tile     :  13.842837\n",
      "Save output signals into checkpoint/1122-Scene3-CLSTM2-win48-GCNN-dyaw/sample/0016.npy\n"
     ]
    },
    {
     "name": "stderr",
     "output_type": "stream",
     "text": [
      "[0017/0100] Train: 100%|██████████████████████████████| 74/74 [00:06<00:00, 12.01it/s, loss 21.1057]\n",
      "[0017/0100] Validation: 100%|█████████████████████| 71/71 [00:02<00:00, 25.83it/s, val_loss 11.0488]\n",
      "[0018/0100] Train:   0%|                                                     | 0/74 [00:00<?, ?it/s]"
     ]
    },
    {
     "name": "stdout",
     "output_type": "stream",
     "text": [
      "                  validation\n",
      " - Yaw          :   1.781953\n",
      " - Pitch        :   2.743830\n",
      " - Roll         :   2.337486\n",
      " - RMS          :   2.321480\n",
      " - 99% Tile     :  11.537638\n",
      "Save output signals into checkpoint/1122-Scene3-CLSTM2-win48-GCNN-dyaw/sample/0017.npy\n"
     ]
    },
    {
     "name": "stderr",
     "output_type": "stream",
     "text": [
      "[0018/0100] Train: 100%|██████████████████████████████| 74/74 [00:06<00:00, 11.41it/s, loss 17.3197]\n",
      "[0018/0100] Validation: 100%|██████████████████████| 71/71 [00:02<00:00, 25.52it/s, val_loss 8.9517]\n",
      "[0019/0100] Train:   0%|                                                     | 0/74 [00:00<?, ?it/s]"
     ]
    },
    {
     "name": "stdout",
     "output_type": "stream",
     "text": [
      "                  validation\n",
      " - Yaw          :   1.446559\n",
      " - Pitch        :   2.227601\n",
      " - Roll         :   2.311833\n",
      " - RMS          :   2.033004\n",
      " - 99% Tile     :  10.565972\n",
      "Save output signals into checkpoint/1122-Scene3-CLSTM2-win48-GCNN-dyaw/sample/0018.npy\n"
     ]
    },
    {
     "name": "stderr",
     "output_type": "stream",
     "text": [
      "[0019/0100] Train: 100%|██████████████████████████████| 74/74 [00:06<00:00, 11.90it/s, loss 15.5579]\n",
      "[0019/0100] Validation: 100%|██████████████████████| 71/71 [00:02<00:00, 25.19it/s, val_loss 8.7016]\n",
      "[0020/0100] Train:   0%|                                                     | 0/74 [00:00<?, ?it/s]"
     ]
    },
    {
     "name": "stdout",
     "output_type": "stream",
     "text": [
      "                  validation\n",
      " - Yaw          :   1.606387\n",
      " - Pitch        :   2.169276\n",
      " - Roll         :   2.291606\n",
      " - RMS          :   2.044317\n",
      " - 99% Tile     :  10.034764\n",
      "Save output signals into checkpoint/1122-Scene3-CLSTM2-win48-GCNN-dyaw/sample/0019.npy\n"
     ]
    },
    {
     "name": "stderr",
     "output_type": "stream",
     "text": [
      "[0020/0100] Train: 100%|██████████████████████████████| 74/74 [00:06<00:00, 11.76it/s, loss 13.9184]\n",
      "[0020/0100] Validation: 100%|██████████████████████| 71/71 [00:02<00:00, 24.07it/s, val_loss 7.9212]\n",
      "[0021/0100] Train:   0%|                                                     | 0/74 [00:00<?, ?it/s]"
     ]
    },
    {
     "name": "stdout",
     "output_type": "stream",
     "text": [
      "                  validation\n",
      " - Yaw          :   1.517878\n",
      " - Pitch        :   2.011808\n",
      " - Roll         :   2.336303\n",
      " - RMS          :   1.984073\n",
      " - 99% Tile     :   9.543526\n",
      "Save output signals into checkpoint/1122-Scene3-CLSTM2-win48-GCNN-dyaw/sample/0020.npy\n"
     ]
    },
    {
     "name": "stderr",
     "output_type": "stream",
     "text": [
      "[0021/0100] Train: 100%|██████████████████████████████| 74/74 [00:06<00:00, 11.77it/s, loss 12.8111]\n",
      "[0021/0100] Validation: 100%|██████████████████████| 71/71 [00:02<00:00, 25.22it/s, val_loss 7.3206]\n",
      "[0022/0100] Train:   0%|                                                     | 0/74 [00:00<?, ?it/s]"
     ]
    },
    {
     "name": "stdout",
     "output_type": "stream",
     "text": [
      "                  validation\n",
      " - Yaw          :   1.790922\n",
      " - Pitch        :   1.548807\n",
      " - Roll         :   2.302336\n",
      " - RMS          :   1.906739\n",
      " - 99% Tile     :   8.963897\n",
      "Save output signals into checkpoint/1122-Scene3-CLSTM2-win48-GCNN-dyaw/sample/0021.npy\n"
     ]
    },
    {
     "name": "stderr",
     "output_type": "stream",
     "text": [
      "[0022/0100] Train: 100%|██████████████████████████████| 74/74 [00:06<00:00, 12.13it/s, loss 12.0681]\n",
      "[0022/0100] Validation: 100%|██████████████████████| 71/71 [00:02<00:00, 25.03it/s, val_loss 7.5979]\n",
      "[0023/0100] Train:   0%|                                                     | 0/74 [00:00<?, ?it/s]"
     ]
    },
    {
     "name": "stdout",
     "output_type": "stream",
     "text": [
      "val_loss is not improved for 1 epochs\n",
      "                  validation\n",
      " - Yaw          :   1.778863\n",
      " - Pitch        :   1.646347\n",
      " - Roll         :   2.292659\n",
      " - RMS          :   1.926231\n",
      " - 99% Tile     :   8.975207\n",
      "Save output signals into checkpoint/1122-Scene3-CLSTM2-win48-GCNN-dyaw/sample/0022.npy\n"
     ]
    },
    {
     "name": "stderr",
     "output_type": "stream",
     "text": [
      "[0023/0100] Train: 100%|██████████████████████████████| 74/74 [00:06<00:00, 11.71it/s, loss 11.0815]\n",
      "[0023/0100] Validation: 100%|██████████████████████| 71/71 [00:02<00:00, 23.72it/s, val_loss 7.2249]\n",
      "[0024/0100] Train:   0%|                                                     | 0/74 [00:00<?, ?it/s]"
     ]
    },
    {
     "name": "stdout",
     "output_type": "stream",
     "text": [
      "                  validation\n",
      " - Yaw          :   1.432684\n",
      " - Pitch        :   2.080565\n",
      " - Roll         :   2.325780\n",
      " - RMS          :   1.982472\n",
      " - 99% Tile     :   8.463689\n",
      "Save output signals into checkpoint/1122-Scene3-CLSTM2-win48-GCNN-dyaw/sample/0023.npy\n"
     ]
    },
    {
     "name": "stderr",
     "output_type": "stream",
     "text": [
      "[0024/0100] Train: 100%|██████████████████████████████| 74/74 [00:06<00:00, 11.86it/s, loss 10.4442]\n",
      "[0024/0100] Validation: 100%|██████████████████████| 71/71 [00:02<00:00, 25.43it/s, val_loss 6.1412]\n",
      "[0025/0100] Train:   0%|                                                     | 0/74 [00:00<?, ?it/s]"
     ]
    },
    {
     "name": "stdout",
     "output_type": "stream",
     "text": [
      "                  validation\n",
      " - Yaw          :   1.111312\n",
      " - Pitch        :   1.528598\n",
      " - Roll         :   2.267167\n",
      " - RMS          :   1.704081\n",
      " - 99% Tile     :   8.010101\n",
      "Save output signals into checkpoint/1122-Scene3-CLSTM2-win48-GCNN-dyaw/sample/0024.npy\n"
     ]
    },
    {
     "name": "stderr",
     "output_type": "stream",
     "text": [
      "[0025/0100] Train: 100%|██████████████████████████████| 74/74 [00:06<00:00, 11.83it/s, loss 10.1320]\n",
      "[0025/0100] Validation: 100%|██████████████████████| 71/71 [00:02<00:00, 23.79it/s, val_loss 6.1613]\n",
      "[0026/0100] Train:   0%|                                                     | 0/74 [00:00<?, ?it/s]"
     ]
    },
    {
     "name": "stdout",
     "output_type": "stream",
     "text": [
      "val_loss is not improved for 1 epochs\n",
      "                  validation\n",
      " - Yaw          :   1.259934\n",
      " - Pitch        :   1.518102\n",
      " - Roll         :   2.268840\n",
      " - RMS          :   1.735867\n",
      " - 99% Tile     :   7.857359\n",
      "Save output signals into checkpoint/1122-Scene3-CLSTM2-win48-GCNN-dyaw/sample/0025.npy\n"
     ]
    },
    {
     "name": "stderr",
     "output_type": "stream",
     "text": [
      "[0026/0100] Train: 100%|███████████████████████████████| 74/74 [00:06<00:00, 12.10it/s, loss 9.2950]\n",
      "[0026/0100] Validation: 100%|██████████████████████| 71/71 [00:02<00:00, 24.44it/s, val_loss 6.7219]\n",
      "[0027/0100] Train:   0%|                                                     | 0/74 [00:00<?, ?it/s]"
     ]
    },
    {
     "name": "stdout",
     "output_type": "stream",
     "text": [
      "val_loss is not improved for 2 epochs\n",
      "                  validation\n",
      " - Yaw          :   1.703636\n",
      " - Pitch        :   1.621863\n",
      " - Roll         :   2.233257\n",
      " - RMS          :   1.872632\n",
      " - 99% Tile     :   7.752753\n",
      "Save output signals into checkpoint/1122-Scene3-CLSTM2-win48-GCNN-dyaw/sample/0026.npy\n"
     ]
    },
    {
     "name": "stderr",
     "output_type": "stream",
     "text": [
      "[0027/0100] Train: 100%|███████████████████████████████| 74/74 [00:06<00:00, 11.94it/s, loss 9.4107]\n",
      "[0027/0100] Validation: 100%|██████████████████████| 71/71 [00:02<00:00, 24.90it/s, val_loss 6.0108]\n",
      "[0028/0100] Train:   0%|                                                     | 0/74 [00:00<?, ?it/s]"
     ]
    },
    {
     "name": "stdout",
     "output_type": "stream",
     "text": [
      "                  validation\n",
      " - Yaw          :   1.204413\n",
      " - Pitch        :   1.329810\n",
      " - Roll         :   2.282933\n",
      " - RMS          :   1.676384\n",
      " - 99% Tile     :   7.737210\n",
      "Save output signals into checkpoint/1122-Scene3-CLSTM2-win48-GCNN-dyaw/sample/0027.npy\n"
     ]
    },
    {
     "name": "stderr",
     "output_type": "stream",
     "text": [
      "[0028/0100] Train: 100%|███████████████████████████████| 74/74 [00:06<00:00, 12.24it/s, loss 8.5641]\n",
      "[0028/0100] Validation: 100%|██████████████████████| 71/71 [00:02<00:00, 24.37it/s, val_loss 6.1508]\n",
      "[0029/0100] Train:   0%|                                                     | 0/74 [00:00<?, ?it/s]"
     ]
    },
    {
     "name": "stdout",
     "output_type": "stream",
     "text": [
      "val_loss is not improved for 1 epochs\n",
      "                  validation\n",
      " - Yaw          :   1.591470\n",
      " - Pitch        :   1.300805\n",
      " - Roll         :   2.220630\n",
      " - RMS          :   1.747004\n",
      " - 99% Tile     :   7.538873\n",
      "Save output signals into checkpoint/1122-Scene3-CLSTM2-win48-GCNN-dyaw/sample/0028.npy\n"
     ]
    },
    {
     "name": "stderr",
     "output_type": "stream",
     "text": [
      "[0029/0100] Train: 100%|███████████████████████████████| 74/74 [00:06<00:00, 11.79it/s, loss 8.6510]\n",
      "[0029/0100] Validation: 100%|██████████████████████| 71/71 [00:02<00:00, 25.30it/s, val_loss 5.8294]\n",
      "[0030/0100] Train:   0%|                                                     | 0/74 [00:00<?, ?it/s]"
     ]
    },
    {
     "name": "stdout",
     "output_type": "stream",
     "text": [
      "                  validation\n",
      " - Yaw          :   1.378705\n",
      " - Pitch        :   1.287027\n",
      " - Roll         :   2.249484\n",
      " - RMS          :   1.694840\n",
      " - 99% Tile     :   7.465096\n",
      "Save output signals into checkpoint/1122-Scene3-CLSTM2-win48-GCNN-dyaw/sample/0029.npy\n"
     ]
    },
    {
     "name": "stderr",
     "output_type": "stream",
     "text": [
      "[0030/0100] Train: 100%|███████████████████████████████| 74/74 [00:05<00:00, 12.43it/s, loss 8.3079]\n",
      "[0030/0100] Validation: 100%|██████████████████████| 71/71 [00:03<00:00, 22.60it/s, val_loss 5.9626]\n",
      "[0031/0100] Train:   0%|                                                     | 0/74 [00:00<?, ?it/s]"
     ]
    },
    {
     "name": "stdout",
     "output_type": "stream",
     "text": [
      "val_loss is not improved for 1 epochs\n",
      "                  validation\n",
      " - Yaw          :   1.365273\n",
      " - Pitch        :   1.352744\n",
      " - Roll         :   2.277961\n",
      " - RMS          :   1.720755\n",
      " - 99% Tile     :   7.530400\n",
      "Save output signals into checkpoint/1122-Scene3-CLSTM2-win48-GCNN-dyaw/sample/0030.npy\n"
     ]
    },
    {
     "name": "stderr",
     "output_type": "stream",
     "text": [
      "[0031/0100] Train: 100%|███████████████████████████████| 74/74 [00:05<00:00, 12.61it/s, loss 7.8632]\n",
      "[0031/0100] Validation: 100%|██████████████████████| 71/71 [00:03<00:00, 22.26it/s, val_loss 6.0027]\n",
      "[0032/0100] Train:   0%|                                                     | 0/74 [00:00<?, ?it/s]"
     ]
    },
    {
     "name": "stdout",
     "output_type": "stream",
     "text": [
      "val_loss is not improved for 2 epochs\n",
      "                  validation\n",
      " - Yaw          :   1.657173\n",
      " - Pitch        :   1.307754\n",
      " - Roll         :   2.182560\n",
      " - RMS          :   1.753093\n",
      " - 99% Tile     :   7.332260\n",
      "Save output signals into checkpoint/1122-Scene3-CLSTM2-win48-GCNN-dyaw/sample/0031.npy\n"
     ]
    },
    {
     "name": "stderr",
     "output_type": "stream",
     "text": [
      "[0032/0100] Train: 100%|███████████████████████████████| 74/74 [00:06<00:00, 12.16it/s, loss 7.4173]\n",
      "[0032/0100] Validation: 100%|██████████████████████| 71/71 [00:03<00:00, 21.13it/s, val_loss 5.8131]\n",
      "[0033/0100] Train:   0%|                                                     | 0/74 [00:00<?, ?it/s]"
     ]
    },
    {
     "name": "stdout",
     "output_type": "stream",
     "text": [
      "                  validation\n",
      " - Yaw          :   1.427109\n",
      " - Pitch        :   1.264367\n",
      " - Roll         :   2.210145\n",
      " - RMS          :   1.685231\n",
      " - 99% Tile     :   7.263119\n",
      "Save output signals into checkpoint/1122-Scene3-CLSTM2-win48-GCNN-dyaw/sample/0032.npy\n"
     ]
    },
    {
     "name": "stderr",
     "output_type": "stream",
     "text": [
      "[0033/0100] Train: 100%|███████████████████████████████| 74/74 [00:06<00:00, 12.15it/s, loss 7.4995]\n",
      "[0033/0100] Validation: 100%|██████████████████████| 71/71 [00:03<00:00, 22.47it/s, val_loss 5.5900]\n",
      "[0034/0100] Train:   0%|                                                     | 0/74 [00:00<?, ?it/s]"
     ]
    },
    {
     "name": "stdout",
     "output_type": "stream",
     "text": [
      "                  validation\n",
      " - Yaw          :   1.144621\n",
      " - Pitch        :   1.261244\n",
      " - Roll         :   2.265999\n",
      " - RMS          :   1.636627\n",
      " - 99% Tile     :   7.344722\n",
      "Save output signals into checkpoint/1122-Scene3-CLSTM2-win48-GCNN-dyaw/sample/0033.npy\n"
     ]
    },
    {
     "name": "stderr",
     "output_type": "stream",
     "text": [
      "[0034/0100] Train: 100%|███████████████████████████████| 74/74 [00:06<00:00, 11.50it/s, loss 7.3981]\n",
      "[0034/0100] Validation: 100%|██████████████████████| 71/71 [00:03<00:00, 22.99it/s, val_loss 5.3931]\n",
      "[0035/0100] Train:   0%|                                                     | 0/74 [00:00<?, ?it/s]"
     ]
    },
    {
     "name": "stdout",
     "output_type": "stream",
     "text": [
      "                  validation\n",
      " - Yaw          :   1.091095\n",
      " - Pitch        :   1.260880\n",
      " - Roll         :   2.200043\n",
      " - RMS          :   1.593790\n",
      " - 99% Tile     :   7.269341\n",
      "Save output signals into checkpoint/1122-Scene3-CLSTM2-win48-GCNN-dyaw/sample/0034.npy\n"
     ]
    },
    {
     "name": "stderr",
     "output_type": "stream",
     "text": [
      "[0035/0100] Train: 100%|███████████████████████████████| 74/74 [00:06<00:00, 11.74it/s, loss 7.3767]\n",
      "[0035/0100] Validation: 100%|██████████████████████| 71/71 [00:02<00:00, 24.07it/s, val_loss 5.5353]\n",
      "[0036/0100] Train:   0%|                                                     | 0/74 [00:00<?, ?it/s]"
     ]
    },
    {
     "name": "stdout",
     "output_type": "stream",
     "text": [
      "val_loss is not improved for 1 epochs\n",
      "                  validation\n",
      " - Yaw          :   1.167026\n",
      " - Pitch        :   1.298723\n",
      " - Roll         :   2.245974\n",
      " - RMS          :   1.642461\n",
      " - 99% Tile     :   7.301655\n",
      "Save output signals into checkpoint/1122-Scene3-CLSTM2-win48-GCNN-dyaw/sample/0035.npy\n"
     ]
    },
    {
     "name": "stderr",
     "output_type": "stream",
     "text": [
      "[0036/0100] Train: 100%|███████████████████████████████| 74/74 [00:06<00:00, 11.84it/s, loss 6.9788]\n",
      "[0036/0100] Validation: 100%|██████████████████████| 71/71 [00:02<00:00, 23.96it/s, val_loss 5.2197]\n",
      "[0037/0100] Train:   0%|                                                     | 0/74 [00:00<?, ?it/s]"
     ]
    },
    {
     "name": "stdout",
     "output_type": "stream",
     "text": [
      "                  validation\n",
      " - Yaw          :   1.083602\n",
      " - Pitch        :   1.162107\n",
      " - Roll         :   2.245384\n",
      " - RMS          :   1.588126\n",
      " - 99% Tile     :   7.292524\n",
      "Save output signals into checkpoint/1122-Scene3-CLSTM2-win48-GCNN-dyaw/sample/0036.npy\n"
     ]
    },
    {
     "name": "stderr",
     "output_type": "stream",
     "text": [
      "[0037/0100] Train: 100%|███████████████████████████████| 74/74 [00:05<00:00, 13.31it/s, loss 6.6692]\n",
      "[0037/0100] Validation: 100%|██████████████████████| 71/71 [00:02<00:00, 33.10it/s, val_loss 5.4669]\n",
      "[0038/0100] Train:   0%|                                                     | 0/74 [00:00<?, ?it/s]"
     ]
    },
    {
     "name": "stdout",
     "output_type": "stream",
     "text": [
      "val_loss is not improved for 1 epochs\n",
      "                  validation\n",
      " - Yaw          :   1.221204\n",
      " - Pitch        :   1.268084\n",
      " - Roll         :   2.243835\n",
      " - RMS          :   1.646630\n",
      " - 99% Tile     :   7.154564\n",
      "Save output signals into checkpoint/1122-Scene3-CLSTM2-win48-GCNN-dyaw/sample/0037.npy\n"
     ]
    },
    {
     "name": "stderr",
     "output_type": "stream",
     "text": [
      "[0038/0100] Train: 100%|███████████████████████████████| 74/74 [00:04<00:00, 18.22it/s, loss 6.9866]\n",
      "[0038/0100] Validation: 100%|██████████████████████| 71/71 [00:02<00:00, 33.65it/s, val_loss 8.0244]\n",
      "[0039/0100] Train:   0%|                                                     | 0/74 [00:00<?, ?it/s]"
     ]
    },
    {
     "name": "stdout",
     "output_type": "stream",
     "text": [
      "val_loss is not improved for 2 epochs\n",
      "                  validation\n",
      " - Yaw          :   1.294401\n",
      " - Pitch        :   2.889280\n",
      " - Roll         :   2.328242\n",
      " - RMS          :   2.268929\n",
      " - 99% Tile     :   7.667100\n",
      "Save output signals into checkpoint/1122-Scene3-CLSTM2-win48-GCNN-dyaw/sample/0038.npy\n"
     ]
    },
    {
     "name": "stderr",
     "output_type": "stream",
     "text": [
      "[0039/0100] Train: 100%|███████████████████████████████| 74/74 [00:03<00:00, 18.50it/s, loss 6.6136]\n",
      "[0039/0100] Validation: 100%|██████████████████████| 71/71 [00:02<00:00, 33.74it/s, val_loss 5.8296]\n",
      "[0040/0100] Train:   0%|                                                     | 0/74 [00:00<?, ?it/s]"
     ]
    },
    {
     "name": "stdout",
     "output_type": "stream",
     "text": [
      "val_loss is not improved for 3 epochs\n",
      "                  validation\n",
      " - Yaw          :   1.179878\n",
      " - Pitch        :   1.528750\n",
      " - Roll         :   2.246484\n",
      " - RMS          :   1.710349\n",
      " - 99% Tile     :   7.483693\n",
      "Save output signals into checkpoint/1122-Scene3-CLSTM2-win48-GCNN-dyaw/sample/0039.npy\n"
     ]
    },
    {
     "name": "stderr",
     "output_type": "stream",
     "text": [
      "[0040/0100] Train: 100%|███████████████████████████████| 74/74 [00:04<00:00, 18.19it/s, loss 6.7051]\n",
      "[0040/0100] Validation: 100%|██████████████████████| 71/71 [00:02<00:00, 33.01it/s, val_loss 5.2806]\n",
      "[0041/0100] Train:   0%|                                                     | 0/74 [00:00<?, ?it/s]"
     ]
    },
    {
     "name": "stdout",
     "output_type": "stream",
     "text": [
      "val_loss is not improved for 4 epochs\n",
      "                  validation\n",
      " - Yaw          :   1.155499\n",
      " - Pitch        :   1.253815\n",
      " - Roll         :   2.197853\n",
      " - RMS          :   1.606008\n",
      " - 99% Tile     :   7.170459\n",
      "Save output signals into checkpoint/1122-Scene3-CLSTM2-win48-GCNN-dyaw/sample/0040.npy\n"
     ]
    },
    {
     "name": "stderr",
     "output_type": "stream",
     "text": [
      "[0041/0100] Train: 100%|███████████████████████████████| 74/74 [00:04<00:00, 18.13it/s, loss 6.3456]\n",
      "[0041/0100] Validation: 100%|██████████████████████| 71/71 [00:02<00:00, 34.01it/s, val_loss 5.8689]\n",
      "[0042/0100] Train:   0%|                                                     | 0/74 [00:00<?, ?it/s]"
     ]
    },
    {
     "name": "stdout",
     "output_type": "stream",
     "text": [
      "Decaying lr from 0.001 to 0.0005 because val_loss did not improved for 5 epochs\n",
      "val_loss is not improved for 5 epochs\n",
      "                  validation\n",
      " - Yaw          :   1.605199\n",
      " - Pitch        :   1.346126\n",
      " - Roll         :   2.224934\n",
      " - RMS          :   1.764374\n",
      " - 99% Tile     :   7.153285\n",
      "Save output signals into checkpoint/1122-Scene3-CLSTM2-win48-GCNN-dyaw/sample/0041.npy\n"
     ]
    },
    {
     "name": "stderr",
     "output_type": "stream",
     "text": [
      "[0042/0100] Train: 100%|███████████████████████████████| 74/74 [00:04<00:00, 18.35it/s, loss 6.0553]\n",
      "[0042/0100] Validation: 100%|██████████████████████| 71/71 [00:02<00:00, 32.04it/s, val_loss 5.4452]\n",
      "[0043/0100] Train:   0%|                                                     | 0/74 [00:00<?, ?it/s]"
     ]
    },
    {
     "name": "stdout",
     "output_type": "stream",
     "text": [
      "val_loss is not improved for 6 epochs\n",
      "                  validation\n",
      " - Yaw          :   1.194410\n",
      " - Pitch        :   1.382816\n",
      " - Roll         :   2.219354\n",
      " - RMS          :   1.659752\n",
      " - 99% Tile     :   7.204858\n",
      "Save output signals into checkpoint/1122-Scene3-CLSTM2-win48-GCNN-dyaw/sample/0042.npy\n"
     ]
    },
    {
     "name": "stderr",
     "output_type": "stream",
     "text": [
      "[0043/0100] Train: 100%|███████████████████████████████| 74/74 [00:03<00:00, 18.66it/s, loss 5.8656]\n",
      "[0043/0100] Validation: 100%|██████████████████████| 71/71 [00:02<00:00, 33.20it/s, val_loss 5.0472]\n",
      "[0044/0100] Train:   0%|                                                     | 0/74 [00:00<?, ?it/s]"
     ]
    },
    {
     "name": "stdout",
     "output_type": "stream",
     "text": [
      "                  validation\n",
      " - Yaw          :   1.057048\n",
      " - Pitch        :   1.173635\n",
      " - Roll         :   2.203674\n",
      " - RMS          :   1.565349\n",
      " - 99% Tile     :   7.002887\n",
      "Save output signals into checkpoint/1122-Scene3-CLSTM2-win48-GCNN-dyaw/sample/0043.npy\n"
     ]
    },
    {
     "name": "stderr",
     "output_type": "stream",
     "text": [
      "[0044/0100] Train: 100%|███████████████████████████████| 74/74 [00:03<00:00, 19.04it/s, loss 5.5439]\n",
      "[0044/0100] Validation: 100%|██████████████████████| 71/71 [00:02<00:00, 33.85it/s, val_loss 5.0324]\n",
      "[0045/0100] Train:   0%|                                                     | 0/74 [00:00<?, ?it/s]"
     ]
    },
    {
     "name": "stdout",
     "output_type": "stream",
     "text": [
      "                  validation\n",
      " - Yaw          :   1.053880\n",
      " - Pitch        :   1.173506\n",
      " - Roll         :   2.212348\n",
      " - RMS          :   1.568679\n",
      " - 99% Tile     :   7.189717\n",
      "Save output signals into checkpoint/1122-Scene3-CLSTM2-win48-GCNN-dyaw/sample/0044.npy\n"
     ]
    },
    {
     "name": "stderr",
     "output_type": "stream",
     "text": [
      "[0045/0100] Train: 100%|███████████████████████████████| 74/74 [00:04<00:00, 18.06it/s, loss 5.4485]\n",
      "[0045/0100] Validation: 100%|██████████████████████| 71/71 [00:02<00:00, 33.21it/s, val_loss 4.9766]\n",
      "[0046/0100] Train:   0%|                                                     | 0/74 [00:00<?, ?it/s]"
     ]
    },
    {
     "name": "stdout",
     "output_type": "stream",
     "text": [
      "                  validation\n",
      " - Yaw          :   0.927684\n",
      " - Pitch        :   1.208914\n",
      " - Roll         :   2.203870\n",
      " - RMS          :   1.546945\n",
      " - 99% Tile     :   7.017092\n",
      "Save output signals into checkpoint/1122-Scene3-CLSTM2-win48-GCNN-dyaw/sample/0045.npy\n"
     ]
    },
    {
     "name": "stderr",
     "output_type": "stream",
     "text": [
      "[0046/0100] Train: 100%|███████████████████████████████| 74/74 [00:04<00:00, 18.38it/s, loss 5.4527]\n",
      "[0046/0100] Validation: 100%|██████████████████████| 71/71 [00:02<00:00, 34.05it/s, val_loss 4.8896]\n",
      "[0047/0100] Train:   0%|                                                     | 0/74 [00:00<?, ?it/s]"
     ]
    },
    {
     "name": "stdout",
     "output_type": "stream",
     "text": [
      "                  validation\n",
      " - Yaw          :   0.982688\n",
      " - Pitch        :   1.139213\n",
      " - Roll         :   2.194893\n",
      " - RMS          :   1.536341\n",
      " - 99% Tile     :   7.049975\n",
      "Save output signals into checkpoint/1122-Scene3-CLSTM2-win48-GCNN-dyaw/sample/0046.npy\n"
     ]
    },
    {
     "name": "stderr",
     "output_type": "stream",
     "text": [
      "[0047/0100] Train: 100%|███████████████████████████████| 74/74 [00:04<00:00, 17.86it/s, loss 5.4157]\n",
      "[0047/0100] Validation: 100%|██████████████████████| 71/71 [00:02<00:00, 33.16it/s, val_loss 4.9229]\n",
      "[0048/0100] Train:   0%|                                                     | 0/74 [00:00<?, ?it/s]"
     ]
    },
    {
     "name": "stdout",
     "output_type": "stream",
     "text": [
      "val_loss is not improved for 1 epochs\n",
      "                  validation\n",
      " - Yaw          :   1.065936\n",
      " - Pitch        :   1.164727\n",
      " - Roll         :   2.179136\n",
      " - RMS          :   1.553645\n",
      " - 99% Tile     :   7.034373\n",
      "Save output signals into checkpoint/1122-Scene3-CLSTM2-win48-GCNN-dyaw/sample/0047.npy\n"
     ]
    },
    {
     "name": "stderr",
     "output_type": "stream",
     "text": [
      "[0048/0100] Train: 100%|███████████████████████████████| 74/74 [00:04<00:00, 18.37it/s, loss 5.2974]\n",
      "[0048/0100] Validation: 100%|██████████████████████| 71/71 [00:02<00:00, 33.20it/s, val_loss 4.7939]\n",
      "[0049/0100] Train:   0%|                                                     | 0/74 [00:00<?, ?it/s]"
     ]
    },
    {
     "name": "stdout",
     "output_type": "stream",
     "text": [
      "                  validation\n",
      " - Yaw          :   0.889535\n",
      " - Pitch        :   1.170305\n",
      " - Roll         :   2.182871\n",
      " - RMS          :   1.519409\n",
      " - 99% Tile     :   7.001624\n",
      "Save output signals into checkpoint/1122-Scene3-CLSTM2-win48-GCNN-dyaw/sample/0048.npy\n"
     ]
    },
    {
     "name": "stderr",
     "output_type": "stream",
     "text": [
      "[0049/0100] Train: 100%|███████████████████████████████| 74/74 [00:04<00:00, 18.03it/s, loss 5.5449]\n",
      "[0049/0100] Validation: 100%|██████████████████████| 71/71 [00:02<00:00, 33.10it/s, val_loss 5.2379]\n",
      "[0050/0100] Train:   0%|                                                     | 0/74 [00:00<?, ?it/s]"
     ]
    },
    {
     "name": "stdout",
     "output_type": "stream",
     "text": [
      "val_loss is not improved for 1 epochs\n",
      "                  validation\n",
      " - Yaw          :   1.123350\n",
      " - Pitch        :   1.282048\n",
      " - Roll         :   2.200696\n",
      " - RMS          :   1.607133\n",
      " - 99% Tile     :   7.055526\n",
      "Save output signals into checkpoint/1122-Scene3-CLSTM2-win48-GCNN-dyaw/sample/0049.npy\n"
     ]
    },
    {
     "name": "stderr",
     "output_type": "stream",
     "text": [
      "[0050/0100] Train: 100%|███████████████████████████████| 74/74 [00:04<00:00, 18.17it/s, loss 5.4446]\n",
      "[0050/0100] Validation: 100%|██████████████████████| 71/71 [00:02<00:00, 32.59it/s, val_loss 4.9990]\n",
      "[0051/0100] Train:   0%|                                                     | 0/74 [00:00<?, ?it/s]"
     ]
    },
    {
     "name": "stdout",
     "output_type": "stream",
     "text": [
      "val_loss is not improved for 2 epochs\n",
      "                  validation\n",
      " - Yaw          :   1.023276\n",
      " - Pitch        :   1.251817\n",
      " - Roll         :   2.159334\n",
      " - RMS          :   1.557440\n",
      " - 99% Tile     :   6.885900\n",
      "Save output signals into checkpoint/1122-Scene3-CLSTM2-win48-GCNN-dyaw/sample/0050.npy\n"
     ]
    },
    {
     "name": "stderr",
     "output_type": "stream",
     "text": [
      "[0051/0100] Train: 100%|███████████████████████████████| 74/74 [00:04<00:00, 17.96it/s, loss 5.2661]\n",
      "[0051/0100] Validation: 100%|██████████████████████| 71/71 [00:02<00:00, 34.18it/s, val_loss 4.9186]\n",
      "[0052/0100] Train:   0%|                                                     | 0/74 [00:00<?, ?it/s]"
     ]
    },
    {
     "name": "stdout",
     "output_type": "stream",
     "text": [
      "val_loss is not improved for 3 epochs\n",
      "                  validation\n",
      " - Yaw          :   1.090053\n",
      " - Pitch        :   1.212435\n",
      " - Roll         :   2.140788\n",
      " - RMS          :   1.553618\n",
      " - 99% Tile     :   6.894355\n",
      "Save output signals into checkpoint/1122-Scene3-CLSTM2-win48-GCNN-dyaw/sample/0051.npy\n"
     ]
    },
    {
     "name": "stderr",
     "output_type": "stream",
     "text": [
      "[0052/0100] Train: 100%|███████████████████████████████| 74/74 [00:03<00:00, 18.54it/s, loss 5.2458]\n",
      "[0052/0100] Validation: 100%|██████████████████████| 71/71 [00:02<00:00, 34.03it/s, val_loss 5.2759]\n",
      "[0053/0100] Train:   0%|                                                     | 0/74 [00:00<?, ?it/s]"
     ]
    },
    {
     "name": "stdout",
     "output_type": "stream",
     "text": [
      "val_loss is not improved for 4 epochs\n",
      "                  validation\n",
      " - Yaw          :   1.291428\n",
      " - Pitch        :   1.264724\n",
      " - Roll         :   2.206343\n",
      " - RMS          :   1.646740\n",
      " - 99% Tile     :   7.175841\n",
      "Save output signals into checkpoint/1122-Scene3-CLSTM2-win48-GCNN-dyaw/sample/0052.npy\n"
     ]
    },
    {
     "name": "stderr",
     "output_type": "stream",
     "text": [
      "[0053/0100] Train: 100%|███████████████████████████████| 74/74 [00:03<00:00, 18.87it/s, loss 5.2106]\n",
      "[0053/0100] Validation: 100%|██████████████████████| 71/71 [00:02<00:00, 32.73it/s, val_loss 4.7835]\n",
      "[0054/0100] Train:   0%|                                                     | 0/74 [00:00<?, ?it/s]"
     ]
    },
    {
     "name": "stdout",
     "output_type": "stream",
     "text": [
      "                  validation\n",
      " - Yaw          :   0.899490\n",
      " - Pitch        :   1.216334\n",
      " - Roll         :   2.161627\n",
      " - RMS          :   1.523284\n",
      " - 99% Tile     :   7.020808\n",
      "Save output signals into checkpoint/1122-Scene3-CLSTM2-win48-GCNN-dyaw/sample/0053.npy\n"
     ]
    },
    {
     "name": "stderr",
     "output_type": "stream",
     "text": [
      "[0054/0100] Train: 100%|███████████████████████████████| 74/74 [00:04<00:00, 18.08it/s, loss 5.0774]\n",
      "[0054/0100] Validation: 100%|██████████████████████| 71/71 [00:02<00:00, 33.52it/s, val_loss 4.9967]\n",
      "[0055/0100] Train:   0%|                                                     | 0/74 [00:00<?, ?it/s]"
     ]
    },
    {
     "name": "stdout",
     "output_type": "stream",
     "text": [
      "val_loss is not improved for 1 epochs\n",
      "                  validation\n",
      " - Yaw          :   0.991794\n",
      " - Pitch        :   1.330148\n",
      " - Roll         :   2.163329\n",
      " - RMS          :   1.574054\n",
      " - 99% Tile     :   7.109894\n",
      "Save output signals into checkpoint/1122-Scene3-CLSTM2-win48-GCNN-dyaw/sample/0054.npy\n"
     ]
    },
    {
     "name": "stderr",
     "output_type": "stream",
     "text": [
      "[0055/0100] Train: 100%|███████████████████████████████| 74/74 [00:04<00:00, 18.43it/s, loss 4.9986]\n",
      "[0055/0100] Validation: 100%|██████████████████████| 71/71 [00:02<00:00, 33.21it/s, val_loss 4.8124]\n",
      "[0056/0100] Train:   0%|                                                     | 0/74 [00:00<?, ?it/s]"
     ]
    },
    {
     "name": "stdout",
     "output_type": "stream",
     "text": [
      "val_loss is not improved for 2 epochs\n",
      "                  validation\n",
      " - Yaw          :   1.020718\n",
      " - Pitch        :   1.171387\n",
      " - Roll         :   2.141322\n",
      " - RMS          :   1.527446\n",
      " - 99% Tile     :   6.961443\n",
      "Save output signals into checkpoint/1122-Scene3-CLSTM2-win48-GCNN-dyaw/sample/0055.npy\n"
     ]
    },
    {
     "name": "stderr",
     "output_type": "stream",
     "text": [
      "[0056/0100] Train: 100%|███████████████████████████████| 74/74 [00:03<00:00, 18.63it/s, loss 4.9539]\n",
      "[0056/0100] Validation: 100%|██████████████████████| 71/71 [00:02<00:00, 33.44it/s, val_loss 5.2047]\n",
      "[0057/0100] Train:   0%|                                                     | 0/74 [00:00<?, ?it/s]"
     ]
    },
    {
     "name": "stdout",
     "output_type": "stream",
     "text": [
      "val_loss is not improved for 3 epochs\n",
      "                  validation\n",
      " - Yaw          :   1.333567\n",
      " - Pitch        :   1.253492\n",
      " - Roll         :   2.127383\n",
      " - RMS          :   1.620226\n",
      " - 99% Tile     :   6.964571\n",
      "Save output signals into checkpoint/1122-Scene3-CLSTM2-win48-GCNN-dyaw/sample/0056.npy\n"
     ]
    },
    {
     "name": "stderr",
     "output_type": "stream",
     "text": [
      "[0057/0100] Train: 100%|███████████████████████████████| 74/74 [00:04<00:00, 17.67it/s, loss 4.9238]\n",
      "[0057/0100] Validation: 100%|██████████████████████| 71/71 [00:02<00:00, 32.70it/s, val_loss 4.8499]\n",
      "[0058/0100] Train:   0%|                                                     | 0/74 [00:00<?, ?it/s]"
     ]
    },
    {
     "name": "stdout",
     "output_type": "stream",
     "text": [
      "val_loss is not improved for 4 epochs\n",
      "                  validation\n",
      " - Yaw          :   1.085344\n",
      " - Pitch        :   1.221237\n",
      " - Roll         :   2.104000\n",
      " - RMS          :   1.537987\n",
      " - 99% Tile     :   7.024172\n",
      "Save output signals into checkpoint/1122-Scene3-CLSTM2-win48-GCNN-dyaw/sample/0057.npy\n"
     ]
    },
    {
     "name": "stderr",
     "output_type": "stream",
     "text": [
      "[0058/0100] Train: 100%|███████████████████████████████| 74/74 [00:04<00:00, 18.49it/s, loss 4.8621]\n",
      "[0058/0100] Validation: 100%|██████████████████████| 71/71 [00:02<00:00, 33.66it/s, val_loss 5.2114]\n",
      "[0059/0100] Train:   0%|                                                     | 0/74 [00:00<?, ?it/s]"
     ]
    },
    {
     "name": "stdout",
     "output_type": "stream",
     "text": [
      "Decaying lr from 0.0005 to 0.00025 because val_loss did not improved for 5 epochs\n",
      "val_loss is not improved for 5 epochs\n",
      "                  validation\n",
      " - Yaw          :   1.428774\n",
      " - Pitch        :   1.190483\n",
      " - Roll         :   2.151594\n",
      " - RMS          :   1.641950\n",
      " - 99% Tile     :   7.047222\n",
      "Save output signals into checkpoint/1122-Scene3-CLSTM2-win48-GCNN-dyaw/sample/0058.npy\n"
     ]
    },
    {
     "name": "stderr",
     "output_type": "stream",
     "text": [
      "[0059/0100] Train: 100%|███████████████████████████████| 74/74 [00:04<00:00, 18.09it/s, loss 4.5584]\n",
      "[0059/0100] Validation: 100%|██████████████████████| 71/71 [00:02<00:00, 34.80it/s, val_loss 4.5794]\n",
      "[0060/0100] Train:   0%|                                                     | 0/74 [00:00<?, ?it/s]"
     ]
    },
    {
     "name": "stdout",
     "output_type": "stream",
     "text": [
      "                  validation\n",
      " - Yaw          :   0.907923\n",
      " - Pitch        :   1.187924\n",
      " - Roll         :   2.100653\n",
      " - RMS          :   1.488649\n",
      " - 99% Tile     :   6.965832\n",
      "Save output signals into checkpoint/1122-Scene3-CLSTM2-win48-GCNN-dyaw/sample/0059.npy\n"
     ]
    },
    {
     "name": "stderr",
     "output_type": "stream",
     "text": [
      "[0060/0100] Train: 100%|███████████████████████████████| 74/74 [00:03<00:00, 18.64it/s, loss 4.6954]\n",
      "[0060/0100] Validation: 100%|██████████████████████| 71/71 [00:02<00:00, 33.64it/s, val_loss 4.6056]\n",
      "[0061/0100] Train:   0%|                                                     | 0/74 [00:00<?, ?it/s]"
     ]
    },
    {
     "name": "stdout",
     "output_type": "stream",
     "text": [
      "val_loss is not improved for 1 epochs\n",
      "                  validation\n",
      " - Yaw          :   0.930313\n",
      " - Pitch        :   1.176073\n",
      " - Roll         :   2.093318\n",
      " - RMS          :   1.486676\n",
      " - 99% Tile     :   7.049808\n",
      "Save output signals into checkpoint/1122-Scene3-CLSTM2-win48-GCNN-dyaw/sample/0060.npy\n"
     ]
    },
    {
     "name": "stderr",
     "output_type": "stream",
     "text": [
      "[0061/0100] Train: 100%|███████████████████████████████| 74/74 [00:04<00:00, 18.46it/s, loss 4.4977]\n",
      "[0061/0100] Validation: 100%|██████████████████████| 71/71 [00:02<00:00, 34.05it/s, val_loss 4.5586]\n",
      "[0062/0100] Train:   0%|                                                     | 0/74 [00:00<?, ?it/s]"
     ]
    },
    {
     "name": "stdout",
     "output_type": "stream",
     "text": [
      "                  validation\n",
      " - Yaw          :   0.938180\n",
      " - Pitch        :   1.174301\n",
      " - Roll         :   2.059370\n",
      " - RMS          :   1.471979\n",
      " - 99% Tile     :   6.834674\n",
      "Save output signals into checkpoint/1122-Scene3-CLSTM2-win48-GCNN-dyaw/sample/0061.npy\n"
     ]
    },
    {
     "name": "stderr",
     "output_type": "stream",
     "text": [
      "[0062/0100] Train: 100%|███████████████████████████████| 74/74 [00:04<00:00, 18.42it/s, loss 4.5016]\n",
      "[0062/0100] Validation: 100%|██████████████████████| 71/71 [00:02<00:00, 32.81it/s, val_loss 4.5480]\n",
      "[0063/0100] Train:   0%|                                                     | 0/74 [00:00<?, ?it/s]"
     ]
    },
    {
     "name": "stdout",
     "output_type": "stream",
     "text": [
      "                  validation\n",
      " - Yaw          :   0.992979\n",
      " - Pitch        :   1.187063\n",
      " - Roll         :   2.023865\n",
      " - RMS          :   1.470959\n",
      " - 99% Tile     :   6.868501\n",
      "Save output signals into checkpoint/1122-Scene3-CLSTM2-win48-GCNN-dyaw/sample/0062.npy\n"
     ]
    },
    {
     "name": "stderr",
     "output_type": "stream",
     "text": [
      "[0063/0100] Train: 100%|███████████████████████████████| 74/74 [00:03<00:00, 18.54it/s, loss 4.3182]\n",
      "[0063/0100] Validation: 100%|██████████████████████| 71/71 [00:02<00:00, 34.07it/s, val_loss 4.4213]\n",
      "[0064/0100] Train:   0%|                                                     | 0/74 [00:00<?, ?it/s]"
     ]
    },
    {
     "name": "stdout",
     "output_type": "stream",
     "text": [
      "                  validation\n",
      " - Yaw          :   0.916010\n",
      " - Pitch        :   1.160287\n",
      " - Roll         :   2.011371\n",
      " - RMS          :   1.441175\n",
      " - 99% Tile     :   6.922438\n",
      "Save output signals into checkpoint/1122-Scene3-CLSTM2-win48-GCNN-dyaw/sample/0063.npy\n"
     ]
    },
    {
     "name": "stderr",
     "output_type": "stream",
     "text": [
      "[0064/0100] Train: 100%|███████████████████████████████| 74/74 [00:04<00:00, 18.32it/s, loss 4.3057]\n",
      "[0064/0100] Validation: 100%|██████████████████████| 71/71 [00:02<00:00, 33.38it/s, val_loss 4.5405]\n",
      "[0065/0100] Train:   0%|                                                     | 0/74 [00:00<?, ?it/s]"
     ]
    },
    {
     "name": "stdout",
     "output_type": "stream",
     "text": [
      "val_loss is not improved for 1 epochs\n",
      "                  validation\n",
      " - Yaw          :   1.062569\n",
      " - Pitch        :   1.220168\n",
      " - Roll         :   1.984685\n",
      " - RMS          :   1.478382\n",
      " - 99% Tile     :   6.793959\n",
      "Save output signals into checkpoint/1122-Scene3-CLSTM2-win48-GCNN-dyaw/sample/0064.npy\n"
     ]
    },
    {
     "name": "stderr",
     "output_type": "stream",
     "text": [
      "[0065/0100] Train: 100%|███████████████████████████████| 74/74 [00:04<00:00, 18.17it/s, loss 4.2333]\n",
      "[0065/0100] Validation: 100%|██████████████████████| 71/71 [00:02<00:00, 34.45it/s, val_loss 4.3053]\n",
      "[0066/0100] Train:   0%|                                                     | 0/74 [00:00<?, ?it/s]"
     ]
    },
    {
     "name": "stdout",
     "output_type": "stream",
     "text": [
      "                  validation\n",
      " - Yaw          :   0.975931\n",
      " - Pitch        :   1.178856\n",
      " - Roll         :   1.943383\n",
      " - RMS          :   1.428155\n",
      " - 99% Tile     :   6.729141\n",
      "Save output signals into checkpoint/1122-Scene3-CLSTM2-win48-GCNN-dyaw/sample/0065.npy\n"
     ]
    },
    {
     "name": "stderr",
     "output_type": "stream",
     "text": [
      "[0066/0100] Train: 100%|███████████████████████████████| 74/74 [00:04<00:00, 18.26it/s, loss 4.0788]\n",
      "[0066/0100] Validation: 100%|██████████████████████| 71/71 [00:02<00:00, 34.06it/s, val_loss 4.2261]\n",
      "[0067/0100] Train:   0%|                                                     | 0/74 [00:00<?, ?it/s]"
     ]
    },
    {
     "name": "stdout",
     "output_type": "stream",
     "text": [
      "                  validation\n",
      " - Yaw          :   0.960551\n",
      " - Pitch        :   1.196572\n",
      " - Roll         :   1.889849\n",
      " - RMS          :   1.405462\n",
      " - 99% Tile     :   6.736533\n",
      "Save output signals into checkpoint/1122-Scene3-CLSTM2-win48-GCNN-dyaw/sample/0066.npy\n"
     ]
    },
    {
     "name": "stderr",
     "output_type": "stream",
     "text": [
      "[0067/0100] Train: 100%|███████████████████████████████| 74/74 [00:03<00:00, 18.55it/s, loss 4.1609]\n",
      "[0067/0100] Validation: 100%|██████████████████████| 71/71 [00:02<00:00, 33.30it/s, val_loss 4.2984]\n",
      "[0068/0100] Train:   0%|                                                     | 0/74 [00:00<?, ?it/s]"
     ]
    },
    {
     "name": "stdout",
     "output_type": "stream",
     "text": [
      "val_loss is not improved for 1 epochs\n",
      "                  validation\n",
      " - Yaw          :   1.053375\n",
      " - Pitch        :   1.211302\n",
      " - Roll         :   1.875255\n",
      " - RMS          :   1.425182\n",
      " - 99% Tile     :   6.592884\n",
      "Save output signals into checkpoint/1122-Scene3-CLSTM2-win48-GCNN-dyaw/sample/0067.npy\n"
     ]
    },
    {
     "name": "stderr",
     "output_type": "stream",
     "text": [
      "[0068/0100] Train: 100%|███████████████████████████████| 74/74 [00:04<00:00, 18.06it/s, loss 3.9889]\n",
      "[0068/0100] Validation: 100%|██████████████████████| 71/71 [00:02<00:00, 33.84it/s, val_loss 4.0990]\n",
      "[0069/0100] Train:   0%|                                                     | 0/74 [00:00<?, ?it/s]"
     ]
    },
    {
     "name": "stdout",
     "output_type": "stream",
     "text": [
      "                  validation\n",
      " - Yaw          :   0.895944\n",
      " - Pitch        :   1.192246\n",
      " - Roll         :   1.808711\n",
      " - RMS          :   1.353465\n",
      " - 99% Tile     :   6.648085\n",
      "Save output signals into checkpoint/1122-Scene3-CLSTM2-win48-GCNN-dyaw/sample/0068.npy\n"
     ]
    },
    {
     "name": "stderr",
     "output_type": "stream",
     "text": [
      "[0069/0100] Train: 100%|███████████████████████████████| 74/74 [00:04<00:00, 18.31it/s, loss 4.0954]\n",
      "[0069/0100] Validation: 100%|██████████████████████| 71/71 [00:02<00:00, 33.45it/s, val_loss 3.9976]\n",
      "[0070/0100] Train:   0%|                                                     | 0/74 [00:00<?, ?it/s]"
     ]
    },
    {
     "name": "stdout",
     "output_type": "stream",
     "text": [
      "                  validation\n",
      " - Yaw          :   0.915379\n",
      " - Pitch        :   1.184864\n",
      " - Roll         :   1.730719\n",
      " - RMS          :   1.321263\n",
      " - 99% Tile     :   6.472971\n",
      "Save output signals into checkpoint/1122-Scene3-CLSTM2-win48-GCNN-dyaw/sample/0069.npy\n"
     ]
    },
    {
     "name": "stderr",
     "output_type": "stream",
     "text": [
      "[0070/0100] Train: 100%|███████████████████████████████| 74/74 [00:04<00:00, 17.99it/s, loss 3.9299]\n",
      "[0070/0100] Validation: 100%|██████████████████████| 71/71 [00:02<00:00, 34.18it/s, val_loss 3.9031]\n",
      "[0071/0100] Train:   0%|                                                     | 0/74 [00:00<?, ?it/s]"
     ]
    },
    {
     "name": "stdout",
     "output_type": "stream",
     "text": [
      "                  validation\n",
      " - Yaw          :   0.990177\n",
      " - Pitch        :   1.144348\n",
      " - Roll         :   1.703450\n",
      " - RMS          :   1.315513\n",
      " - 99% Tile     :   6.430294\n",
      "Save output signals into checkpoint/1122-Scene3-CLSTM2-win48-GCNN-dyaw/sample/0070.npy\n"
     ]
    },
    {
     "name": "stderr",
     "output_type": "stream",
     "text": [
      "[0071/0100] Train: 100%|███████████████████████████████| 74/74 [00:03<00:00, 18.99it/s, loss 3.7898]\n",
      "[0071/0100] Validation: 100%|██████████████████████| 71/71 [00:02<00:00, 33.23it/s, val_loss 3.8799]\n",
      "[0072/0100] Train:   0%|                                                     | 0/74 [00:00<?, ?it/s]"
     ]
    },
    {
     "name": "stdout",
     "output_type": "stream",
     "text": [
      "                  validation\n",
      " - Yaw          :   0.989095\n",
      " - Pitch        :   1.155390\n",
      " - Roll         :   1.643253\n",
      " - RMS          :   1.292738\n",
      " - 99% Tile     :   6.403881\n",
      "Save output signals into checkpoint/1122-Scene3-CLSTM2-win48-GCNN-dyaw/sample/0071.npy\n"
     ]
    },
    {
     "name": "stderr",
     "output_type": "stream",
     "text": [
      "[0072/0100] Train: 100%|███████████████████████████████| 74/74 [00:04<00:00, 18.04it/s, loss 3.7527]\n",
      "[0072/0100] Validation: 100%|██████████████████████| 71/71 [00:02<00:00, 34.35it/s, val_loss 4.0063]\n",
      "[0073/0100] Train:   0%|                                                     | 0/74 [00:00<?, ?it/s]"
     ]
    },
    {
     "name": "stdout",
     "output_type": "stream",
     "text": [
      "val_loss is not improved for 1 epochs\n",
      "                  validation\n",
      " - Yaw          :   1.215258\n",
      " - Pitch        :   1.249579\n",
      " - Roll         :   1.598142\n",
      " - RMS          :   1.365327\n",
      " - 99% Tile     :   6.350702\n",
      "Save output signals into checkpoint/1122-Scene3-CLSTM2-win48-GCNN-dyaw/sample/0072.npy\n"
     ]
    },
    {
     "name": "stderr",
     "output_type": "stream",
     "text": [
      "[0073/0100] Train: 100%|███████████████████████████████| 74/74 [00:03<00:00, 18.72it/s, loss 3.6806]\n",
      "[0073/0100] Validation: 100%|██████████████████████| 71/71 [00:02<00:00, 32.62it/s, val_loss 3.5939]\n",
      "[0074/0100] Train:   0%|                                                     | 0/74 [00:00<?, ?it/s]"
     ]
    },
    {
     "name": "stdout",
     "output_type": "stream",
     "text": [
      "                  validation\n",
      " - Yaw          :   0.984243\n",
      " - Pitch        :   1.179344\n",
      " - Roll         :   1.510996\n",
      " - RMS          :   1.244012\n",
      " - 99% Tile     :   6.127214\n",
      "Save output signals into checkpoint/1122-Scene3-CLSTM2-win48-GCNN-dyaw/sample/0073.npy\n"
     ]
    },
    {
     "name": "stderr",
     "output_type": "stream",
     "text": [
      "[0074/0100] Train: 100%|███████████████████████████████| 74/74 [00:03<00:00, 18.72it/s, loss 3.4853]\n",
      "[0074/0100] Validation: 100%|██████████████████████| 71/71 [00:02<00:00, 35.00it/s, val_loss 3.4544]\n",
      "[0075/0100] Train:   0%|                                                     | 0/74 [00:00<?, ?it/s]"
     ]
    },
    {
     "name": "stdout",
     "output_type": "stream",
     "text": [
      "                  validation\n",
      " - Yaw          :   0.892281\n",
      " - Pitch        :   1.259560\n",
      " - Roll         :   1.448584\n",
      " - RMS          :   1.222164\n",
      " - 99% Tile     :   6.081152\n",
      "Save output signals into checkpoint/1122-Scene3-CLSTM2-win48-GCNN-dyaw/sample/0074.npy\n"
     ]
    },
    {
     "name": "stderr",
     "output_type": "stream",
     "text": [
      "[0075/0100] Train: 100%|███████████████████████████████| 74/74 [00:03<00:00, 18.84it/s, loss 3.3067]\n",
      "[0075/0100] Validation: 100%|██████████████████████| 71/71 [00:02<00:00, 34.40it/s, val_loss 3.4078]\n",
      "[0076/0100] Train:   0%|                                                     | 0/74 [00:00<?, ?it/s]"
     ]
    },
    {
     "name": "stdout",
     "output_type": "stream",
     "text": [
      "                  validation\n",
      " - Yaw          :   0.898354\n",
      " - Pitch        :   1.267596\n",
      " - Roll         :   1.391735\n",
      " - RMS          :   1.204265\n",
      " - 99% Tile     :   6.005932\n",
      "Save output signals into checkpoint/1122-Scene3-CLSTM2-win48-GCNN-dyaw/sample/0075.npy\n"
     ]
    },
    {
     "name": "stderr",
     "output_type": "stream",
     "text": [
      "[0076/0100] Train: 100%|███████████████████████████████| 74/74 [00:03<00:00, 18.90it/s, loss 3.2610]\n",
      "[0076/0100] Validation: 100%|██████████████████████| 71/71 [00:02<00:00, 34.13it/s, val_loss 3.1540]\n",
      "[0077/0100] Train:   0%|                                                     | 0/74 [00:00<?, ?it/s]"
     ]
    },
    {
     "name": "stdout",
     "output_type": "stream",
     "text": [
      "                  validation\n",
      " - Yaw          :   0.898731\n",
      " - Pitch        :   1.113669\n",
      " - Roll         :   1.303077\n",
      " - RMS          :   1.117435\n",
      " - 99% Tile     :   5.767952\n",
      "Save output signals into checkpoint/1122-Scene3-CLSTM2-win48-GCNN-dyaw/sample/0076.npy\n"
     ]
    },
    {
     "name": "stderr",
     "output_type": "stream",
     "text": [
      "[0077/0100] Train: 100%|███████████████████████████████| 74/74 [00:03<00:00, 18.52it/s, loss 3.2750]\n",
      "[0077/0100] Validation: 100%|██████████████████████| 71/71 [00:02<00:00, 34.60it/s, val_loss 3.2820]\n",
      "[0078/0100] Train:   0%|                                                     | 0/74 [00:00<?, ?it/s]"
     ]
    },
    {
     "name": "stdout",
     "output_type": "stream",
     "text": [
      "val_loss is not improved for 1 epochs\n",
      "                  validation\n",
      " - Yaw          :   1.047822\n",
      " - Pitch        :   1.164501\n",
      " - Roll         :   1.251361\n",
      " - RMS          :   1.157569\n",
      " - 99% Tile     :   5.888391\n",
      "Save output signals into checkpoint/1122-Scene3-CLSTM2-win48-GCNN-dyaw/sample/0077.npy\n"
     ]
    },
    {
     "name": "stderr",
     "output_type": "stream",
     "text": [
      "[0078/0100] Train: 100%|███████████████████████████████| 74/74 [00:04<00:00, 18.14it/s, loss 3.1056]\n",
      "[0078/0100] Validation: 100%|██████████████████████| 71/71 [00:02<00:00, 34.31it/s, val_loss 2.9569]\n",
      "[0079/0100] Train:   0%|                                                     | 0/74 [00:00<?, ?it/s]"
     ]
    },
    {
     "name": "stdout",
     "output_type": "stream",
     "text": [
      "                  validation\n",
      " - Yaw          :   0.881263\n",
      " - Pitch        :   1.092564\n",
      " - Roll         :   1.180205\n",
      " - RMS          :   1.058805\n",
      " - 99% Tile     :   5.697746\n",
      "Save output signals into checkpoint/1122-Scene3-CLSTM2-win48-GCNN-dyaw/sample/0078.npy\n"
     ]
    },
    {
     "name": "stderr",
     "output_type": "stream",
     "text": [
      "[0079/0100] Train: 100%|███████████████████████████████| 74/74 [00:04<00:00, 18.49it/s, loss 2.9893]\n",
      "[0079/0100] Validation: 100%|██████████████████████| 71/71 [00:02<00:00, 33.35it/s, val_loss 2.9338]\n",
      "[0080/0100] Train:   0%|                                                     | 0/74 [00:00<?, ?it/s]"
     ]
    },
    {
     "name": "stdout",
     "output_type": "stream",
     "text": [
      "                  validation\n",
      " - Yaw          :   0.893820\n",
      " - Pitch        :   1.104690\n",
      " - Roll         :   1.154909\n",
      " - RMS          :   1.057209\n",
      " - 99% Tile     :   5.748619\n",
      "Save output signals into checkpoint/1122-Scene3-CLSTM2-win48-GCNN-dyaw/sample/0079.npy\n"
     ]
    },
    {
     "name": "stderr",
     "output_type": "stream",
     "text": [
      "[0080/0100] Train: 100%|███████████████████████████████| 74/74 [00:04<00:00, 17.56it/s, loss 2.9913]\n",
      "[0080/0100] Validation: 100%|██████████████████████| 71/71 [00:02<00:00, 33.41it/s, val_loss 3.1102]\n",
      "[0081/0100] Train:   0%|                                                     | 0/74 [00:00<?, ?it/s]"
     ]
    },
    {
     "name": "stdout",
     "output_type": "stream",
     "text": [
      "val_loss is not improved for 1 epochs\n",
      "                  validation\n",
      " - Yaw          :   1.178577\n",
      " - Pitch        :   1.081130\n",
      " - Roll         :   1.116773\n",
      " - RMS          :   1.126213\n",
      " - 99% Tile     :   5.553913\n",
      "Save output signals into checkpoint/1122-Scene3-CLSTM2-win48-GCNN-dyaw/sample/0080.npy\n"
     ]
    },
    {
     "name": "stderr",
     "output_type": "stream",
     "text": [
      "[0081/0100] Train: 100%|███████████████████████████████| 74/74 [00:04<00:00, 17.96it/s, loss 3.0260]\n",
      "[0081/0100] Validation: 100%|██████████████████████| 71/71 [00:02<00:00, 33.14it/s, val_loss 2.8904]\n",
      "[0082/0100] Train:   0%|                                                     | 0/74 [00:00<?, ?it/s]"
     ]
    },
    {
     "name": "stdout",
     "output_type": "stream",
     "text": [
      "                  validation\n",
      " - Yaw          :   0.994270\n",
      " - Pitch        :   1.062920\n",
      " - Roll         :   1.104372\n",
      " - RMS          :   1.054832\n",
      " - 99% Tile     :   5.740980\n",
      "Save output signals into checkpoint/1122-Scene3-CLSTM2-win48-GCNN-dyaw/sample/0081.npy\n"
     ]
    },
    {
     "name": "stderr",
     "output_type": "stream",
     "text": [
      "[0082/0100] Train: 100%|███████████████████████████████| 74/74 [00:06<00:00, 11.47it/s, loss 2.8781]\n",
      "[0082/0100] Validation: 100%|██████████████████████| 71/71 [00:02<00:00, 30.43it/s, val_loss 2.7812]\n",
      "[0083/0100] Train:   0%|                                                     | 0/74 [00:00<?, ?it/s]"
     ]
    },
    {
     "name": "stdout",
     "output_type": "stream",
     "text": [
      "                  validation\n",
      " - Yaw          :   0.930562\n",
      " - Pitch        :   1.099572\n",
      " - Roll         :   1.064149\n",
      " - RMS          :   1.033992\n",
      " - 99% Tile     :   5.622242\n",
      "Save output signals into checkpoint/1122-Scene3-CLSTM2-win48-GCNN-dyaw/sample/0082.npy\n"
     ]
    },
    {
     "name": "stderr",
     "output_type": "stream",
     "text": [
      "[0083/0100] Train: 100%|███████████████████████████████| 74/74 [00:07<00:00, 10.34it/s, loss 3.0339]\n",
      "[0083/0100] Validation: 100%|██████████████████████| 71/71 [00:02<00:00, 29.85it/s, val_loss 2.7656]\n",
      "[0084/0100] Train:   0%|                                                     | 0/74 [00:00<?, ?it/s]"
     ]
    },
    {
     "name": "stdout",
     "output_type": "stream",
     "text": [
      "                  validation\n",
      " - Yaw          :   0.856463\n",
      " - Pitch        :   1.163530\n",
      " - Roll         :   1.050359\n",
      " - RMS          :   1.031275\n",
      " - 99% Tile     :   5.634069\n",
      "Save output signals into checkpoint/1122-Scene3-CLSTM2-win48-GCNN-dyaw/sample/0083.npy\n"
     ]
    },
    {
     "name": "stderr",
     "output_type": "stream",
     "text": [
      "[0084/0100] Train: 100%|███████████████████████████████| 74/74 [00:06<00:00, 11.61it/s, loss 2.8799]\n",
      "[0084/0100] Validation: 100%|██████████████████████| 71/71 [00:02<00:00, 25.08it/s, val_loss 2.7079]\n",
      "[0085/0100] Train:   0%|                                                     | 0/74 [00:00<?, ?it/s]"
     ]
    },
    {
     "name": "stdout",
     "output_type": "stream",
     "text": [
      "                  validation\n",
      " - Yaw          :   0.978900\n",
      " - Pitch        :   1.040529\n",
      " - Roll         :   1.032397\n",
      " - RMS          :   1.017643\n",
      " - 99% Tile     :   5.489738\n",
      "Save output signals into checkpoint/1122-Scene3-CLSTM2-win48-GCNN-dyaw/sample/0084.npy\n"
     ]
    },
    {
     "name": "stderr",
     "output_type": "stream",
     "text": [
      "[0085/0100] Train: 100%|███████████████████████████████| 74/74 [00:06<00:00, 11.77it/s, loss 2.9546]\n",
      "[0085/0100] Validation: 100%|██████████████████████| 71/71 [00:02<00:00, 25.34it/s, val_loss 2.7553]\n",
      "[0086/0100] Train:   0%|                                                     | 0/74 [00:00<?, ?it/s]"
     ]
    },
    {
     "name": "stdout",
     "output_type": "stream",
     "text": [
      "val_loss is not improved for 1 epochs\n",
      "                  validation\n",
      " - Yaw          :   1.037558\n",
      " - Pitch        :   1.111027\n",
      " - Roll         :   0.992265\n",
      " - RMS          :   1.048093\n",
      " - 99% Tile     :   5.550692\n",
      "Save output signals into checkpoint/1122-Scene3-CLSTM2-win48-GCNN-dyaw/sample/0085.npy\n"
     ]
    },
    {
     "name": "stderr",
     "output_type": "stream",
     "text": [
      "[0086/0100] Train: 100%|███████████████████████████████| 74/74 [00:06<00:00, 11.96it/s, loss 2.7735]\n",
      "[0086/0100] Validation: 100%|██████████████████████| 71/71 [00:02<00:00, 23.75it/s, val_loss 2.7603]\n",
      "[0087/0100] Train:   0%|                                                     | 0/74 [00:00<?, ?it/s]"
     ]
    },
    {
     "name": "stdout",
     "output_type": "stream",
     "text": [
      "val_loss is not improved for 2 epochs\n",
      "                  validation\n",
      " - Yaw          :   0.996404\n",
      " - Pitch        :   1.103725\n",
      " - Roll         :   1.029760\n",
      " - RMS          :   1.044260\n",
      " - 99% Tile     :   5.602274\n",
      "Save output signals into checkpoint/1122-Scene3-CLSTM2-win48-GCNN-dyaw/sample/0086.npy\n"
     ]
    },
    {
     "name": "stderr",
     "output_type": "stream",
     "text": [
      "[0087/0100] Train: 100%|███████████████████████████████| 74/74 [00:06<00:00, 11.94it/s, loss 2.6377]\n",
      "[0087/0100] Validation: 100%|██████████████████████| 71/71 [00:03<00:00, 22.16it/s, val_loss 2.5333]\n",
      "[0088/0100] Train:   0%|                                                     | 0/74 [00:00<?, ?it/s]"
     ]
    },
    {
     "name": "stdout",
     "output_type": "stream",
     "text": [
      "                  validation\n",
      " - Yaw          :   0.870732\n",
      " - Pitch        :   0.992896\n",
      " - Roll         :   0.965465\n",
      " - RMS          :   0.944482\n",
      " - 99% Tile     :   5.497956\n",
      "Save output signals into checkpoint/1122-Scene3-CLSTM2-win48-GCNN-dyaw/sample/0087.npy\n"
     ]
    },
    {
     "name": "stderr",
     "output_type": "stream",
     "text": [
      "[0088/0100] Train: 100%|███████████████████████████████| 74/74 [00:06<00:00, 11.30it/s, loss 2.5709]\n",
      "[0088/0100] Validation: 100%|██████████████████████| 71/71 [00:02<00:00, 24.87it/s, val_loss 2.5984]\n",
      "[0089/0100] Train:   0%|                                                     | 0/74 [00:00<?, ?it/s]"
     ]
    },
    {
     "name": "stdout",
     "output_type": "stream",
     "text": [
      "val_loss is not improved for 1 epochs\n",
      "                  validation\n",
      " - Yaw          :   0.841785\n",
      " - Pitch        :   1.135969\n",
      " - Roll         :   0.957437\n",
      " - RMS          :   0.985852\n",
      " - 99% Tile     :   5.505611\n",
      "Save output signals into checkpoint/1122-Scene3-CLSTM2-win48-GCNN-dyaw/sample/0088.npy\n"
     ]
    },
    {
     "name": "stderr",
     "output_type": "stream",
     "text": [
      "[0089/0100] Train: 100%|███████████████████████████████| 74/74 [00:06<00:00, 11.28it/s, loss 2.5592]\n",
      "[0089/0100] Validation: 100%|██████████████████████| 71/71 [00:03<00:00, 20.78it/s, val_loss 2.8625]\n",
      "[0090/0100] Train:   0%|                                                     | 0/74 [00:00<?, ?it/s]"
     ]
    },
    {
     "name": "stdout",
     "output_type": "stream",
     "text": [
      "val_loss is not improved for 2 epochs\n",
      "                  validation\n",
      " - Yaw          :   0.844376\n",
      " - Pitch        :   1.424653\n",
      " - Roll         :   0.971689\n",
      " - RMS          :   1.108571\n",
      " - 99% Tile     :   5.622076\n",
      "Save output signals into checkpoint/1122-Scene3-CLSTM2-win48-GCNN-dyaw/sample/0089.npy\n"
     ]
    },
    {
     "name": "stderr",
     "output_type": "stream",
     "text": [
      "[0090/0100] Train: 100%|███████████████████████████████| 74/74 [00:07<00:00, 10.05it/s, loss 2.5315]\n",
      "[0090/0100] Validation: 100%|██████████████████████| 71/71 [00:03<00:00, 18.51it/s, val_loss 2.5027]\n",
      "[0091/0100] Train:   0%|                                                     | 0/74 [00:00<?, ?it/s]"
     ]
    },
    {
     "name": "stdout",
     "output_type": "stream",
     "text": [
      "                  validation\n",
      " - Yaw          :   0.850751\n",
      " - Pitch        :   1.025583\n",
      " - Roll         :   0.979028\n",
      " - RMS          :   0.954654\n",
      " - 99% Tile     :   5.432878\n",
      "Save output signals into checkpoint/1122-Scene3-CLSTM2-win48-GCNN-dyaw/sample/0090.npy\n"
     ]
    },
    {
     "name": "stderr",
     "output_type": "stream",
     "text": [
      "[0091/0100] Train: 100%|███████████████████████████████| 74/74 [00:09<00:00,  7.95it/s, loss 2.5959]\n",
      "[0091/0100] Validation: 100%|██████████████████████| 71/71 [00:03<00:00, 22.60it/s, val_loss 2.5669]\n",
      "[0092/0100] Train:   0%|                                                     | 0/74 [00:00<?, ?it/s]"
     ]
    },
    {
     "name": "stdout",
     "output_type": "stream",
     "text": [
      "val_loss is not improved for 1 epochs\n",
      "                  validation\n",
      " - Yaw          :   0.865672\n",
      " - Pitch        :   1.157564\n",
      " - Roll         :   0.915056\n",
      " - RMS          :   0.987703\n",
      " - 99% Tile     :   5.477655\n",
      "Save output signals into checkpoint/1122-Scene3-CLSTM2-win48-GCNN-dyaw/sample/0091.npy\n"
     ]
    },
    {
     "name": "stderr",
     "output_type": "stream",
     "text": [
      "[0092/0100] Train: 100%|███████████████████████████████| 74/74 [00:10<00:00,  7.13it/s, loss 2.4975]\n",
      "[0092/0100] Validation: 100%|██████████████████████| 71/71 [00:02<00:00, 23.75it/s, val_loss 2.4380]\n",
      "[0093/0100] Train:   0%|                                                     | 0/74 [00:00<?, ?it/s]"
     ]
    },
    {
     "name": "stdout",
     "output_type": "stream",
     "text": [
      "                  validation\n",
      " - Yaw          :   0.922589\n",
      " - Pitch        :   0.999916\n",
      " - Roll         :   0.880738\n",
      " - RMS          :   0.935718\n",
      " - 99% Tile     :   5.377146\n",
      "Save output signals into checkpoint/1122-Scene3-CLSTM2-win48-GCNN-dyaw/sample/0092.npy\n"
     ]
    },
    {
     "name": "stderr",
     "output_type": "stream",
     "text": [
      "[0093/0100] Train: 100%|███████████████████████████████| 74/74 [00:09<00:00,  7.94it/s, loss 2.4369]\n",
      "[0093/0100] Validation: 100%|██████████████████████| 71/71 [00:03<00:00, 21.27it/s, val_loss 2.4091]\n",
      "[0094/0100] Train:   0%|                                                     | 0/74 [00:00<?, ?it/s]"
     ]
    },
    {
     "name": "stdout",
     "output_type": "stream",
     "text": [
      "                  validation\n",
      " - Yaw          :   0.873291\n",
      " - Pitch        :   1.000402\n",
      " - Roll         :   0.887772\n",
      " - RMS          :   0.922240\n",
      " - 99% Tile     :   5.460424\n",
      "Save output signals into checkpoint/1122-Scene3-CLSTM2-win48-GCNN-dyaw/sample/0093.npy\n"
     ]
    },
    {
     "name": "stderr",
     "output_type": "stream",
     "text": [
      "[0094/0100] Train: 100%|███████████████████████████████| 74/74 [00:07<00:00,  9.29it/s, loss 2.4426]\n",
      "[0094/0100] Validation: 100%|██████████████████████| 71/71 [00:04<00:00, 16.29it/s, val_loss 2.4602]\n",
      "[0095/0100] Train:   0%|                                                     | 0/74 [00:00<?, ?it/s]"
     ]
    },
    {
     "name": "stdout",
     "output_type": "stream",
     "text": [
      "val_loss is not improved for 1 epochs\n",
      "                  validation\n",
      " - Yaw          :   0.887883\n",
      " - Pitch        :   1.079487\n",
      " - Roll         :   0.886255\n",
      " - RMS          :   0.955524\n",
      " - 99% Tile     :   5.362318\n",
      "Save output signals into checkpoint/1122-Scene3-CLSTM2-win48-GCNN-dyaw/sample/0094.npy\n"
     ]
    },
    {
     "name": "stderr",
     "output_type": "stream",
     "text": [
      "[0095/0100] Train: 100%|███████████████████████████████| 74/74 [00:08<00:00,  9.17it/s, loss 2.3087]\n",
      "[0095/0100] Validation: 100%|██████████████████████| 71/71 [00:04<00:00, 17.50it/s, val_loss 2.3355]\n",
      "[0096/0100] Train:   0%|                                                     | 0/74 [00:00<?, ?it/s]"
     ]
    },
    {
     "name": "stdout",
     "output_type": "stream",
     "text": [
      "                  validation\n",
      " - Yaw          :   0.902608\n",
      " - Pitch        :   0.955981\n",
      " - Roll         :   0.866955\n",
      " - RMS          :   0.909251\n",
      " - 99% Tile     :   5.310884\n",
      "Save output signals into checkpoint/1122-Scene3-CLSTM2-win48-GCNN-dyaw/sample/0095.npy\n"
     ]
    },
    {
     "name": "stderr",
     "output_type": "stream",
     "text": [
      "[0096/0100] Train: 100%|███████████████████████████████| 74/74 [00:08<00:00,  8.55it/s, loss 2.4182]\n",
      "[0096/0100] Validation: 100%|██████████████████████| 71/71 [00:05<00:00, 14.15it/s, val_loss 2.3457]\n",
      "[0097/0100] Train:   0%|                                                     | 0/74 [00:00<?, ?it/s]"
     ]
    },
    {
     "name": "stdout",
     "output_type": "stream",
     "text": [
      "val_loss is not improved for 1 epochs\n",
      "                  validation\n",
      " - Yaw          :   0.849380\n",
      " - Pitch        :   0.967179\n",
      " - Roll         :   0.887441\n",
      " - RMS          :   0.902669\n",
      " - 99% Tile     :   5.280553\n",
      "Save output signals into checkpoint/1122-Scene3-CLSTM2-win48-GCNN-dyaw/sample/0096.npy\n"
     ]
    },
    {
     "name": "stderr",
     "output_type": "stream",
     "text": [
      "[0097/0100] Train: 100%|███████████████████████████████| 74/74 [00:09<00:00,  7.55it/s, loss 2.3932]\n",
      "[0097/0100] Validation: 100%|██████████████████████| 71/71 [00:04<00:00, 14.60it/s, val_loss 2.3466]\n",
      "[0098/0100] Train:   0%|                                                     | 0/74 [00:00<?, ?it/s]"
     ]
    },
    {
     "name": "stdout",
     "output_type": "stream",
     "text": [
      "val_loss is not improved for 2 epochs\n",
      "                  validation\n",
      " - Yaw          :   0.951931\n",
      " - Pitch        :   0.968555\n",
      " - Roll         :   0.830936\n",
      " - RMS          :   0.919189\n",
      " - 99% Tile     :   5.295491\n",
      "Save output signals into checkpoint/1122-Scene3-CLSTM2-win48-GCNN-dyaw/sample/0097.npy\n"
     ]
    },
    {
     "name": "stderr",
     "output_type": "stream",
     "text": [
      "[0098/0100] Train: 100%|███████████████████████████████| 74/74 [00:09<00:00,  8.21it/s, loss 2.3717]\n",
      "[0098/0100] Validation: 100%|██████████████████████| 71/71 [00:03<00:00, 22.95it/s, val_loss 2.3693]\n",
      "[0099/0100] Train:   0%|                                                     | 0/74 [00:00<?, ?it/s]"
     ]
    },
    {
     "name": "stdout",
     "output_type": "stream",
     "text": [
      "val_loss is not improved for 3 epochs\n",
      "                  validation\n",
      " - Yaw          :   0.868824\n",
      " - Pitch        :   1.078589\n",
      " - Roll         :   0.809443\n",
      " - RMS          :   0.926176\n",
      " - 99% Tile     :   5.419207\n",
      "Save output signals into checkpoint/1122-Scene3-CLSTM2-win48-GCNN-dyaw/sample/0098.npy\n"
     ]
    },
    {
     "name": "stderr",
     "output_type": "stream",
     "text": [
      "[0099/0100] Train: 100%|███████████████████████████████| 74/74 [00:09<00:00,  7.62it/s, loss 2.3538]\n",
      "[0099/0100] Validation: 100%|██████████████████████| 71/71 [00:03<00:00, 19.17it/s, val_loss 2.4329]\n",
      "[0100/0100] Train:   0%|                                                     | 0/74 [00:00<?, ?it/s]"
     ]
    },
    {
     "name": "stdout",
     "output_type": "stream",
     "text": [
      "val_loss is not improved for 4 epochs\n",
      "                  validation\n",
      " - Yaw          :   0.955035\n",
      " - Pitch        :   1.055457\n",
      " - Roll         :   0.834763\n",
      " - RMS          :   0.952700\n",
      " - 99% Tile     :   5.414097\n",
      "Save output signals into checkpoint/1122-Scene3-CLSTM2-win48-GCNN-dyaw/sample/0099.npy\n"
     ]
    },
    {
     "name": "stderr",
     "output_type": "stream",
     "text": [
      "[0100/0100] Train: 100%|███████████████████████████████| 74/74 [00:09<00:00,  7.91it/s, loss 2.3245]\n",
      "[0100/0100] Validation: 100%|██████████████████████| 71/71 [00:04<00:00, 15.98it/s, val_loss 2.6332]"
     ]
    },
    {
     "name": "stdout",
     "output_type": "stream",
     "text": [
      "Decaying lr from 0.00025 to 0.000125 because val_loss did not improved for 5 epochs\n",
      "val_loss is not improved for 5 epochs\n",
      "                  validation\n",
      " - Yaw          :   1.184760\n",
      " - Pitch        :   1.004323\n",
      " - Roll         :   0.847792\n",
      " - RMS          :   1.021612\n",
      " - 99% Tile     :   5.490884\n",
      "Save output signals into checkpoint/1122-Scene3-CLSTM2-win48-GCNN-dyaw/sample/0100.npy\n"
     ]
    },
    {
     "name": "stderr",
     "output_type": "stream",
     "text": [
      "\n"
     ]
    }
   ],
   "source": [
    "trainer.fit(ds_train, ds_test, num_epochs=100, batch_size=256, shuffle=True, pin_memory=True)"
   ]
  },
  {
   "cell_type": "code",
   "execution_count": null,
   "metadata": {},
   "outputs": [],
   "source": []
  }
 ],
 "metadata": {
  "kernelspec": {
   "display_name": "torch",
   "language": "python",
   "name": "torch"
  },
  "language_info": {
   "codemirror_mode": {
    "name": "ipython",
    "version": 3
   },
   "file_extension": ".py",
   "mimetype": "text/x-python",
   "name": "python",
   "nbconvert_exporter": "python",
   "pygments_lexer": "ipython3",
   "version": "3.7.9"
  }
 },
 "nbformat": 4,
 "nbformat_minor": 4
}
