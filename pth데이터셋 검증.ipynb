{
 "cells": [
  {
   "cell_type": "code",
   "execution_count": 8,
   "metadata": {},
   "outputs": [],
   "source": [
    "import torch\n",
    "import matplotlib.pyplot as plt\n",
    "import numpy as np"
   ]
  },
  {
   "cell_type": "code",
   "execution_count": 9,
   "metadata": {},
   "outputs": [],
   "source": [
    "data = torch.load('data/pth-T6-win6-hop6-nostd.pth')"
   ]
  },
  {
   "cell_type": "code",
   "execution_count": 10,
   "metadata": {},
   "outputs": [],
   "source": [
    "X_train = data['X_train']\n",
    "X_test = data['X_test']"
   ]
  },
  {
   "cell_type": "code",
   "execution_count": 11,
   "metadata": {},
   "outputs": [],
   "source": [
    "dd = []\n",
    "for x in X_train:\n",
    "    d = x[1:] - x[:-1]\n",
    "    dd.append(d)"
   ]
  },
  {
   "cell_type": "code",
   "execution_count": 12,
   "metadata": {},
   "outputs": [],
   "source": [
    "dx = torch.stack(dd)"
   ]
  },
  {
   "cell_type": "code",
   "execution_count": 13,
   "metadata": {},
   "outputs": [
    {
     "data": {
      "text/plain": [
       "torch.Size([22, 12, 6])"
      ]
     },
     "execution_count": 13,
     "metadata": {},
     "output_type": "execute_result"
    }
   ],
   "source": [
    "dx.shape"
   ]
  },
  {
   "cell_type": "code",
   "execution_count": 14,
   "metadata": {},
   "outputs": [
    {
     "name": "stdout",
     "output_type": "stream",
     "text": [
      "0 tensor(11.0270) tensor(8.4401) tensor(9.7184) tensor(0.5561)\n",
      "1 tensor(-5.5523) tensor(-12.8596) tensor(-9.3447) tensor(1.7048)\n",
      "2 tensor(3.7745) tensor(-3.8776) tensor(-0.3438) tensor(1.7320)\n",
      "3 tensor(1.6096) tensor(-0.1182) tensor(0.1465) tensor(0.3675)\n",
      "4 tensor(0.1406) tensor(-1.1009) tensor(-0.1069) tensor(0.2681)\n",
      "5 tensor(0.1945) tensor(-0.4090) tensor(-0.0335) tensor(0.1053)\n",
      "6 tensor(0.4588) tensor(-0.2171) tensor(0.0767) tensor(0.1500)\n",
      "7 tensor(0.0519) tensor(-0.3543) tensor(-0.0514) tensor(0.0960)\n",
      "8 tensor(1.0482) tensor(-1.0294) tensor(0.6375) tensor(0.7741)\n",
      "9 tensor(1.0423) tensor(-1.0637) tensor(-0.6254) tensor(0.6838)\n",
      "10 tensor(0.9104) tensor(-0.9608) tensor(-0.0175) tensor(0.3428)\n",
      "11 tensor(0.3774) tensor(-0.3898) tensor(-0.0196) tensor(0.1735)\n"
     ]
    }
   ],
   "source": [
    "# nostd\n",
    "for i in range(12):\n",
    "    print(i, dx[:, i, :].max(), dx[:, i, :].min(), dx[:, i, :].mean(), dx[:, i, :].std())"
   ]
  },
  {
   "cell_type": "code",
   "execution_count": 7,
   "metadata": {},
   "outputs": [
    {
     "name": "stdout",
     "output_type": "stream",
     "text": [
      "0 tensor(2.8546) tensor(-1.6968) tensor(0.5849) tensor(0.8412)\n",
      "1 tensor(2.6822) tensor(-2.1925) tensor(0.2894) tensor(0.9407)\n",
      "2 tensor(0.9633) tensor(-3.1507) tensor(-0.7867) tensor(0.9778)\n",
      "3 tensor(6.1323) tensor(-0.5686) tensor(0.4815) tensor(1.2782)\n",
      "4 tensor(0.9956) tensor(-3.7436) tensor(-0.2466) tensor(0.7817)\n",
      "5 tensor(1.6485) tensor(-4.1192) tensor(-0.3837) tensor(1.0045)\n",
      "6 tensor(2.8929) tensor(-1.8157) tensor(0.5820) tensor(1.0378)\n",
      "7 tensor(0.9859) tensor(-2.0205) tensor(-0.3692) tensor(0.7198)\n",
      "8 tensor(1.9736) tensor(-2.7901) tensor(0.2323) tensor(1.4210)\n",
      "9 tensor(2.0632) tensor(-0.7110) tensor(-0.0635) tensor(0.8522)\n",
      "10 tensor(2.2963) tensor(-3.6246) tensor(-0.6419) tensor(1.2502)\n",
      "11 tensor(2.6430) tensor(-1.2653) tensor(0.2711) tensor(1.0095)\n"
     ]
    }
   ],
   "source": [
    "for i in range(12):\n",
    "    print(i, dx[:, i, :].max(), dx[:, i, :].min(), dx[:, i, :].mean(), dx[:, i, :].std())"
   ]
  },
  {
   "cell_type": "code",
   "execution_count": null,
   "metadata": {},
   "outputs": [],
   "source": []
  }
 ],
 "metadata": {
  "kernelspec": {
   "display_name": "torch",
   "language": "python",
   "name": "torch"
  },
  "language_info": {
   "codemirror_mode": {
    "name": "ipython",
    "version": 3
   },
   "file_extension": ".py",
   "mimetype": "text/x-python",
   "name": "python",
   "nbconvert_exporter": "python",
   "pygments_lexer": "ipython3",
   "version": "3.7.9"
  }
 },
 "nbformat": 4,
 "nbformat_minor": 4
}
