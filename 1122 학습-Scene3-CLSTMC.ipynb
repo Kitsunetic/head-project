{
 "cells": [
  {
   "cell_type": "markdown",
   "metadata": {},
   "source": [
    "# 학습 결과\n",
    "\n",
    "user1의 scene 1~3만 사용해서 학습\n",
    "\n",
    "scene보다 user가 많기 때문에 데이터의 양이 확연히 줄어듬에도 불구하고 성능이 괜찮음.  \n",
    "적은 데이터 특화됐기 때문인지는 모르겠다.\n",
    "\n",
    "나머지 scene에 대해서도 잘 학습을 하면서 user에 대해서도 특화된다면 성능을 상당히 끌어올릴 수 있을 것으로 기대됨.  \n",
    "--> curriculum learning"
   ]
  },
  {
   "cell_type": "code",
   "execution_count": 1,
   "metadata": {},
   "outputs": [],
   "source": [
    "from multiprocessing import cpu_count\n",
    "from pathlib import Path\n",
    "from typing import List, Union, AnyStr\n",
    "from math import pi\n",
    "import pickle\n",
    "\n",
    "import numpy as np\n",
    "import torch\n",
    "import matplotlib.pyplot as plt\n",
    "import torch.nn as nn\n",
    "from sklearn import model_selection\n",
    "from tqdm import tqdm\n",
    "import torch_optimizer\n",
    "from torch.utils.data import Dataset\n",
    "import pandas as pd\n",
    "import random\n",
    "\n",
    "import torch_burn as tb\n",
    "import utils"
   ]
  },
  {
   "cell_type": "code",
   "execution_count": 2,
   "metadata": {},
   "outputs": [],
   "source": [
    "EXPERIMENT_NAME = '1122-Scene3-LSTM[SmallWindow]'\n",
    "CHECKPOINT_DIR = Path('checkpoint', EXPERIMENT_NAME)\n",
    "CHECKPOINT_DIR.mkdir(parents=True, exist_ok=True)\n",
    "\n",
    "DATA_DIR = Path('data/1116')\n",
    "TRAIN_FILES = sorted(list(DATA_DIR.glob('*scene3_0.csv')))\n",
    "TEST_FILES = sorted(list(DATA_DIR.glob('*scene3_1.csv')))"
   ]
  },
  {
   "cell_type": "markdown",
   "metadata": {},
   "source": [
    "# 데이터셋 생성\n",
    "\n",
    "scene1에 대해서 모든 user의 데이터를 하나로 합친다."
   ]
  },
  {
   "cell_type": "code",
   "execution_count": 3,
   "metadata": {},
   "outputs": [],
   "source": [
    "WINDOW_SIZE = 48"
   ]
  },
  {
   "cell_type": "code",
   "execution_count": 4,
   "metadata": {},
   "outputs": [],
   "source": [
    "class CSVSequentialDataset(Dataset):\n",
    "    def __init__(self, csvfile,\n",
    "                 window_size=300, randomized_window_size=False,\n",
    "                 stride=30, randomized_stride=False):\n",
    "        super(CSVSequentialDataset, self).__init__()\n",
    "\n",
    "        self.xcols = ['input_orientation_yaw', 'input_orientation_pitch', 'input_orientation_roll',\n",
    "                      'acceleration_x', 'acceleration_y', 'acceleration_z']\n",
    "        self.ycols = ['input_orientation_yaw', 'input_orientation_pitch', 'input_orientation_roll']\n",
    "\n",
    "        self.csv = pd.read_csv(csvfile)\n",
    "        self.window_size = window_size\n",
    "\n",
    "        self.indexes = []\n",
    "        i = 0\n",
    "        while i <= len(self.csv) - window_size * 2:\n",
    "            if randomized_window_size:\n",
    "                self.indexes.append((i, i + random.randint(window_size // 2, window_size)))\n",
    "            else:\n",
    "                self.indexes.append((i, i + window_size))\n",
    "\n",
    "            if randomized_stride:\n",
    "                i += random.randint(1, stride)\n",
    "            else:\n",
    "                i += stride\n",
    "\n",
    "    def __len__(self):\n",
    "        return len(self.indexes)\n",
    "\n",
    "    def __getitem__(self, idx):\n",
    "        s, t = self.indexes[idx]\n",
    "        x = self.csv.iloc[s:t][self.xcols].to_numpy()\n",
    "        y = self.csv.iloc[t + 6][self.ycols].to_numpy()\n",
    "\n",
    "        x = torch.tensor(x, dtype=torch.float32) # 300, 6\n",
    "        y = torch.tensor(y, dtype=torch.float32) # 3\n",
    "        \n",
    "        #x[:, :3] *= pi / 180\n",
    "        x[:, 3:] /= 10\n",
    "\n",
    "        return x, y"
   ]
  },
  {
   "cell_type": "code",
   "execution_count": 5,
   "metadata": {},
   "outputs": [],
   "source": [
    "ds_train = [CSVSequentialDataset(f,  \n",
    "                                 window_size=WINDOW_SIZE, randomized_window_size=False,\n",
    "                                 stride=5, randomized_stride=True) for f in TRAIN_FILES]\n",
    "ds_train = tb.data.ChainDataset(*ds_train)\n",
    "ds_test = [CSVSequentialDataset(f,  \n",
    "                                window_size=WINDOW_SIZE, randomized_window_size=False,\n",
    "                                stride=5, randomized_stride=True) for f in TEST_FILES]\n",
    "ds_test = tb.data.ChainDataset(*ds_test)"
   ]
  },
  {
   "cell_type": "code",
   "execution_count": 6,
   "metadata": {},
   "outputs": [
    {
     "data": {
      "text/plain": [
       "(18768, 18190)"
      ]
     },
     "execution_count": 6,
     "metadata": {},
     "output_type": "execute_result"
    }
   ],
   "source": [
    "len(ds_train), len(ds_test)"
   ]
  },
  {
   "cell_type": "code",
   "execution_count": 7,
   "metadata": {},
   "outputs": [
    {
     "data": {
      "text/plain": [
       "(torch.Size([48, 6]), torch.Size([3]))"
      ]
     },
     "execution_count": 7,
     "metadata": {},
     "output_type": "execute_result"
    }
   ],
   "source": [
    "ds_train[0][0].shape, ds_train[0][1].shape"
   ]
  },
  {
   "cell_type": "code",
   "execution_count": 8,
   "metadata": {},
   "outputs": [],
   "source": [
    "x, y = ds_train[0]"
   ]
  },
  {
   "cell_type": "code",
   "execution_count": 9,
   "metadata": {},
   "outputs": [
    {
     "data": {
      "text/plain": [
       "torch.Size([48, 6])"
      ]
     },
     "execution_count": 9,
     "metadata": {},
     "output_type": "execute_result"
    }
   ],
   "source": [
    "x.shape"
   ]
  },
  {
   "cell_type": "code",
   "execution_count": 10,
   "metadata": {},
   "outputs": [
    {
     "data": {
      "text/plain": [
       "[<matplotlib.lines.Line2D at 0x7f9787a6c590>]"
      ]
     },
     "execution_count": 10,
     "metadata": {},
     "output_type": "execute_result"
    },
    {
     "data": {
      "image/png": "[encoded data removed]",
      "text/plain": [
       "<Figure size 432x288 with 1 Axes>"
      ]
     },
     "metadata": {
      "needs_background": "light"
     },
     "output_type": "display_data"
    }
   ],
   "source": [
    "plt.plot(x[:, 2])"
   ]
  },
  {
   "cell_type": "markdown",
   "metadata": {},
   "source": [
    "# 모델 생성\n",
    "\n",
    "StackedLSTM Bidirectional"
   ]
  },
  {
   "cell_type": "code",
   "execution_count": 11,
   "metadata": {},
   "outputs": [],
   "source": [
    "model = utils.BaselineLSTM(input_size=6,\n",
    "                           hidden_size=64,\n",
    "                           num_layers=8,\n",
    "                           dropout=0.2,\n",
    "                           bidirectional=True).cuda()"
   ]
  },
  {
   "cell_type": "code",
   "execution_count": 12,
   "metadata": {},
   "outputs": [],
   "source": [
    "criterion = nn.MSELoss().cuda()\n",
    "optimizer = torch_optimizer.RAdam(model.parameters())"
   ]
  },
  {
   "cell_type": "code",
   "execution_count": 13,
   "metadata": {},
   "outputs": [],
   "source": [
    "metrics = [tb.metrics.ModuleMetric(criterion, 'loss'),\n",
    "           utils.HPMetric('hp_metric'),\n",
    "           utils.HPSignalHistory(CHECKPOINT_DIR / 'sample' / '{epoch:04d}.npy', 'hp_signal')]"
   ]
  },
  {
   "cell_type": "code",
   "execution_count": 14,
   "metadata": {},
   "outputs": [],
   "source": [
    "callbacks = [tb.callbacks.EarlyStopping(metrics[0]),\n",
    "             tb.callbacks.LRDecaying(optimizer, metrics[0])]"
   ]
  },
  {
   "cell_type": "code",
   "execution_count": 15,
   "metadata": {},
   "outputs": [],
   "source": [
    "trainer = tb.Trainer(model, optimizer, metrics, callbacks, ncols=100)"
   ]
  },
  {
   "cell_type": "code",
   "execution_count": null,
   "metadata": {},
   "outputs": [],
   "source": [
    "trainer.fit(ds_train, ds_test, num_epochs=100, batch_size=256, shuffle=True, pin_memory=True)"
   ]
  },
  {
   "cell_type": "code",
   "execution_count": null,
   "metadata": {},
   "outputs": [],
   "source": []
  }
 ],
 "metadata": {
  "kernelspec": {
   "display_name": "torch",
   "language": "python",
   "name": "torch"
  },
  "language_info": {
   "codemirror_mode": {
    "name": "ipython",
    "version": 3
   },
   "file_extension": ".py",
   "mimetype": "text/x-python",
   "name": "python",
   "nbconvert_exporter": "python",
   "pygments_lexer": "ipython3",
   "version": "3.7.9"
  }
 },
 "nbformat": 4,
 "nbformat_minor": 4
}
