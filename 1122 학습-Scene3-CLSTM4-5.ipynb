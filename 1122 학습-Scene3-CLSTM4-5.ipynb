{
 "cells": [
  {
   "cell_type": "markdown",
   "metadata": {},
   "source": [
    "# 학습 결과\n",
    "\n",
    "user1의 scene 1~3만 사용해서 학습\n",
    "\n",
    "scene보다 user가 많기 때문에 데이터의 양이 확연히 줄어듬에도 불구하고 성능이 괜찮음.  \n",
    "적은 데이터 특화됐기 때문인지는 모르겠다.\n",
    "\n",
    "나머지 scene에 대해서도 잘 학습을 하면서 user에 대해서도 특화된다면 성능을 상당히 끌어올릴 수 있을 것으로 기대됨.  \n",
    "--> curriculum learning"
   ]
  },
  {
   "cell_type": "code",
   "execution_count": 1,
   "metadata": {},
   "outputs": [],
   "source": [
    "from multiprocessing import cpu_count\n",
    "from pathlib import Path\n",
    "from typing import List, Union, AnyStr\n",
    "from math import pi\n",
    "import pickle\n",
    "\n",
    "import numpy as np\n",
    "import torch\n",
    "import matplotlib.pyplot as plt\n",
    "import torch.nn as nn\n",
    "from sklearn import model_selection\n",
    "from tqdm import tqdm\n",
    "import torch_optimizer\n",
    "from torch.utils.data import Dataset\n",
    "import pandas as pd\n",
    "import random\n",
    "\n",
    "import torch_burn as tb\n",
    "import utils"
   ]
  },
  {
   "cell_type": "code",
   "execution_count": 2,
   "metadata": {},
   "outputs": [],
   "source": [
    "tb.seed_everything(0)"
   ]
  },
  {
   "cell_type": "code",
   "execution_count": 3,
   "metadata": {},
   "outputs": [],
   "source": [
    "EXPERIMENT_NAME = '1122-Scene3-CLSTM4-win120-5'\n",
    "CHECKPOINT_DIR = Path('checkpoint', EXPERIMENT_NAME)\n",
    "CHECKPOINT_DIR.mkdir(parents=True, exist_ok=True)\n",
    "\n",
    "DATA_DIR = Path('data/1116')\n",
    "TRAIN_FILES = sorted(list(DATA_DIR.glob('*scene3_0.csv')))\n",
    "TEST_FILES = sorted(list(DATA_DIR.glob('*scene3_1.csv')))"
   ]
  },
  {
   "cell_type": "markdown",
   "metadata": {},
   "source": [
    "# 데이터셋 생성\n",
    "\n",
    "scene1에 대해서 모든 user의 데이터를 하나로 합친다."
   ]
  },
  {
   "cell_type": "code",
   "execution_count": 4,
   "metadata": {},
   "outputs": [],
   "source": [
    "WINDOW_SIZE = 120"
   ]
  },
  {
   "cell_type": "code",
   "execution_count": 5,
   "metadata": {},
   "outputs": [],
   "source": [
    "class CSVSequentialDataset(Dataset):\n",
    "    def __init__(self, csvfile,\n",
    "                 window_size=300, randomized_window_size=False,\n",
    "                 stride=30, randomized_stride=False):\n",
    "        super(CSVSequentialDataset, self).__init__()\n",
    "\n",
    "        self.xcols = ['input_orientation_yaw', 'input_orientation_pitch', 'input_orientation_roll',\n",
    "                      'acceleration_x', 'acceleration_y', 'acceleration_z']\n",
    "        self.ycols = ['input_orientation_yaw', 'input_orientation_pitch', 'input_orientation_roll']\n",
    "\n",
    "        self.csv = pd.read_csv(csvfile)\n",
    "        self.window_size = window_size\n",
    "        \n",
    "        self.indexes = []\n",
    "        i = 0\n",
    "        while i <= len(self.csv) - window_size * 2:\n",
    "            if randomized_window_size:\n",
    "                self.indexes.append((i, i + random.randint(window_size // 2, window_size)))\n",
    "            else:\n",
    "                self.indexes.append((i, i + window_size))\n",
    "\n",
    "            if randomized_stride:\n",
    "                i += random.randint(1, stride)\n",
    "            else:\n",
    "                i += stride\n",
    "\n",
    "    def __len__(self):\n",
    "        return len(self.indexes)\n",
    "\n",
    "    def __getitem__(self, idx):\n",
    "        s, t = self.indexes[idx]\n",
    "        x = self.csv.iloc[s:t][self.xcols].to_numpy()\n",
    "        y = self.csv.iloc[t + 18][self.ycols].to_numpy()\n",
    "\n",
    "        x = torch.tensor(x, dtype=torch.float32) # 300, 6\n",
    "        y = torch.tensor(y, dtype=torch.float32) # 3\n",
    "\n",
    "        return x, y"
   ]
  },
  {
   "cell_type": "code",
   "execution_count": 6,
   "metadata": {},
   "outputs": [],
   "source": [
    "ds_train = [CSVSequentialDataset(f,  \n",
    "                                 window_size=WINDOW_SIZE, randomized_window_size=False,\n",
    "                                 stride=5, randomized_stride=False) for f in TRAIN_FILES]\n",
    "ds_train = tb.data.ChainDataset(*ds_train)\n",
    "ds_test = [CSVSequentialDataset(f,  \n",
    "                                window_size=WINDOW_SIZE, randomized_window_size=False,\n",
    "                                stride=5, randomized_stride=False) for f in TEST_FILES]\n",
    "ds_test = tb.data.ChainDataset(*ds_test)"
   ]
  },
  {
   "cell_type": "code",
   "execution_count": 7,
   "metadata": {},
   "outputs": [
    {
     "data": {
      "text/plain": [
       "(11071, 10671)"
      ]
     },
     "execution_count": 7,
     "metadata": {},
     "output_type": "execute_result"
    }
   ],
   "source": [
    "len(ds_train), len(ds_test)"
   ]
  },
  {
   "cell_type": "code",
   "execution_count": 8,
   "metadata": {},
   "outputs": [
    {
     "data": {
      "text/plain": [
       "(torch.Size([120, 6]), torch.Size([3]))"
      ]
     },
     "execution_count": 8,
     "metadata": {},
     "output_type": "execute_result"
    }
   ],
   "source": [
    "ds_train[0][0].shape, ds_train[0][1].shape"
   ]
  },
  {
   "cell_type": "code",
   "execution_count": 9,
   "metadata": {},
   "outputs": [],
   "source": [
    "x, y = ds_train[0]"
   ]
  },
  {
   "cell_type": "code",
   "execution_count": 10,
   "metadata": {},
   "outputs": [
    {
     "data": {
      "text/plain": [
       "torch.Size([120, 6])"
      ]
     },
     "execution_count": 10,
     "metadata": {},
     "output_type": "execute_result"
    }
   ],
   "source": [
    "x.shape"
   ]
  },
  {
   "cell_type": "code",
   "execution_count": 11,
   "metadata": {},
   "outputs": [
    {
     "data": {
      "text/plain": [
       "[<matplotlib.lines.Line2D at 0x7f6efc42e990>]"
      ]
     },
     "execution_count": 11,
     "metadata": {},
     "output_type": "execute_result"
    },
    {
     "data": {
      "image/png": "[encoded data removed]",
      "text/plain": [
       "<Figure size 432x288 with 1 Axes>"
      ]
     },
     "metadata": {
      "needs_background": "light"
     },
     "output_type": "display_data"
    }
   ],
   "source": [
    "plt.plot(x[:, 2])"
   ]
  },
  {
   "cell_type": "markdown",
   "metadata": {},
   "source": [
    "# 모델 생성"
   ]
  },
  {
   "cell_type": "code",
   "execution_count": 12,
   "metadata": {},
   "outputs": [],
   "source": [
    "class CLSTM(nn.Module):\n",
    "    def __init__(self):\n",
    "        super(CLSTM, self).__init__()\n",
    "\n",
    "        self.conv_in = nn.Sequential(\n",
    "            nn.Conv1d(6, 24, 3, padding=1, groups=2),\n",
    "            nn.BatchNorm1d(24),\n",
    "            nn.LeakyReLU(),\n",
    "            nn.Conv1d(24, 48, 3, padding=1, groups=2),\n",
    "            nn.BatchNorm1d(48),\n",
    "            nn.LeakyReLU(),\n",
    "            nn.Conv1d(48, 64, 3, padding=1),\n",
    "            nn.BatchNorm1d(64),\n",
    "        )\n",
    "\n",
    "        self.rnn = nn.LSTM(input_size=64,\n",
    "                           hidden_size=64,\n",
    "                           num_layers=8,\n",
    "                           batch_first=True,\n",
    "                           dropout=0,\n",
    "                           bidirectional=True)\n",
    "\n",
    "        self.fc = nn.Linear(128, 3)\n",
    "\n",
    "    def forward(self, x):\n",
    "        x = x.transpose(1, 2)  # B, 48, 6 --> B, 6, 48\n",
    "        x = self.conv_in(x)  # B, 64, 48\n",
    "        x = x.transpose(1, 2)  # B, 48, 64\n",
    "\n",
    "        outs, (hiddens, cells) = self.rnn(x)\n",
    "        x = outs[:, -1, ...]\n",
    "        x = self.fc(x)\n",
    "\n",
    "        return x"
   ]
  },
  {
   "cell_type": "code",
   "execution_count": 13,
   "metadata": {},
   "outputs": [],
   "source": [
    "model = CLSTM().cuda()"
   ]
  },
  {
   "cell_type": "code",
   "execution_count": 14,
   "metadata": {},
   "outputs": [],
   "source": [
    "criterion = nn.MSELoss().cuda()\n",
    "optimizer = torch_optimizer.RAdam(model.parameters())"
   ]
  },
  {
   "cell_type": "code",
   "execution_count": 15,
   "metadata": {},
   "outputs": [],
   "source": [
    "class HPSignalHistory(tb.metrics.InvisibleMetric):\n",
    "    def __init__(self, filepath: AnyStr, name: str, verbose=True):\n",
    "        super(HPSignalHistory, self).__init__(name=name, mode='min')\n",
    "\n",
    "        self.filepath = Path(filepath)\n",
    "        self.filepath.parent.mkdir(parents=True, exist_ok=True)\n",
    "        self.verbose = verbose\n",
    "\n",
    "        self.on_valid = False\n",
    "        self.target_signals = []\n",
    "        self.out_signals = []\n",
    "\n",
    "    def on_valid_epoch_begin(self, epoch: int):\n",
    "        self.on_valid = True\n",
    "\n",
    "        self.target_signals.clear()\n",
    "        self.out_signals.clear()\n",
    "\n",
    "    def on_valid_epoch_end(self, epoch: int, logs: dict):\n",
    "        # 짧은 신호 단락을 3개의 신호 뭉치로 합치기\n",
    "        target_signals = torch.cat(self.target_signals).transpose(0, 1)\n",
    "        out_signals = torch.cat(self.out_signals).transpose(0, 1)\n",
    "        \n",
    "        # pickle 파일로 저장\n",
    "        signals = torch.cat([target_signals, out_signals], dim=0).numpy()\n",
    "        filepath = str(self.filepath).format(epoch=epoch, **logs)\n",
    "        if self.verbose:\n",
    "            print('Save output signals into', filepath)\n",
    "        np.save(filepath, signals)\n",
    "\n",
    "        # clear\n",
    "        self.on_valid = False\n",
    "\n",
    "        self.target_signals.clear()\n",
    "        self.out_signals.clear()\n",
    "\n",
    "    def get_value(self, outputs: torch.Tensor, targets: torch.Tensor, is_train: bool):\n",
    "        if not is_train:\n",
    "            self.target_signals.append(targets.detach().cpu())\n",
    "            self.out_signals.append(outputs.detach().cpu())"
   ]
  },
  {
   "cell_type": "code",
   "execution_count": 16,
   "metadata": {},
   "outputs": [],
   "source": [
    "class HPMetric(tb.metrics.InvisibleMetric):\n",
    "    def __init__(self, name: str):\n",
    "        super(HPMetric, self).__init__(name)\n",
    "\n",
    "        self.diff = []\n",
    "\n",
    "    def on_valid_epoch_end(self, epoch: int, logs: dict):\n",
    "        # RMS, 99% tile 출력\n",
    "        yaw_v, pitch_v, roll_v, rms_v, tile99_v = self._calc_values(self.diff)\n",
    "\n",
    "        print(f'                  validation')\n",
    "        print(f' - Yaw          : {yaw_v:10f}')\n",
    "        print(f' - Pitch        : {pitch_v:10f}')\n",
    "        print(f' - Roll         : {roll_v:10f}')\n",
    "        print(f' - RMS          : {rms_v:10f}')\n",
    "        print(f' - 99% Tile     : {tile99_v:10f}')\n",
    "\n",
    "        self.diff.clear()\n",
    "\n",
    "    def get_value(self, outputs: torch.Tensor, targets: torch.Tensor, is_train: bool):\n",
    "        if not is_train:\n",
    "            self.diff.append((outputs - targets).cpu())  # (B, 3)\n",
    "\n",
    "    @staticmethod\n",
    "    def _calc_values(diff):\n",
    "        diff = torch.cat(diff).abs_()  # (D, 3)\n",
    "        rms = (diff.square().sum(1) / 3).sqrt()\n",
    "        tile = rms.flatten().numpy()\n",
    "        tile99 = np.percentile(tile, 99)\n",
    "        \n",
    "        mrms = rms.mean()\n",
    "        \n",
    "        # diff = radian2degree(diff)\n",
    "        #tile = diff.flatten().numpy()\n",
    "        #tile99 = np.percentile(tile, 99)\n",
    "\n",
    "        mdiff = diff.mean(dim=0)\n",
    "        #rms = (mdiff.square().sum() / 3).sqrt()\n",
    "\n",
    "        return mdiff[0].item(), mdiff[1].item(), mdiff[2].item(), mrms.item(), tile99"
   ]
  },
  {
   "cell_type": "code",
   "execution_count": 17,
   "metadata": {},
   "outputs": [],
   "source": [
    "metrics = [tb.metrics.ModuleMetric(criterion, 'loss'),\n",
    "           HPMetric('hp_metric'),\n",
    "           HPSignalHistory(CHECKPOINT_DIR / 'sample' / '{epoch:04d}.npy', 'hp_signal', verbose=False)]"
   ]
  },
  {
   "cell_type": "code",
   "execution_count": 18,
   "metadata": {},
   "outputs": [],
   "source": [
    "callbacks = [tb.callbacks.EarlyStopping(metrics[0]),\n",
    "             tb.callbacks.LRDecaying(optimizer, metrics[0], patience=3)]"
   ]
  },
  {
   "cell_type": "code",
   "execution_count": 19,
   "metadata": {},
   "outputs": [],
   "source": [
    "trainer = tb.Trainer(model, optimizer, metrics, callbacks, ncols=100)"
   ]
  },
  {
   "cell_type": "code",
   "execution_count": 20,
   "metadata": {},
   "outputs": [
    {
     "name": "stderr",
     "output_type": "stream",
     "text": [
      "[0001/0200] Train: 100%|█████████████████████████████| 44/44 [00:05<00:00,  7.96it/s, loss 290.0306]\n",
      "[0001/0200] Validation: 100%|████████████████████| 42/42 [00:02<00:00, 15.76it/s, val_loss 236.5262]\n",
      "[0002/0200] Train:   0%|                                                     | 0/44 [00:00<?, ?it/s]"
     ]
    },
    {
     "name": "stdout",
     "output_type": "stream",
     "text": [
      "                  validation\n",
      " - Yaw          :  19.665525\n",
      " - Pitch        :  10.624082\n",
      " - Roll         :   2.597855\n",
      " - RMS          :  13.947573\n",
      " - 99% Tile     :  28.615571\n"
     ]
    },
    {
     "name": "stderr",
     "output_type": "stream",
     "text": [
      "[0002/0200] Train: 100%|█████████████████████████████| 44/44 [00:05<00:00,  8.12it/s, loss 278.8363]\n",
      "[0002/0200] Validation: 100%|████████████████████| 42/42 [00:02<00:00, 15.92it/s, val_loss 212.0261]\n",
      "[0003/0200] Train:   0%|                                                     | 0/44 [00:00<?, ?it/s]"
     ]
    },
    {
     "name": "stdout",
     "output_type": "stream",
     "text": [
      "                  validation\n",
      " - Yaw          :  18.562099\n",
      " - Pitch        :   9.668464\n",
      " - Roll         :   2.606721\n",
      " - RMS          :  13.089625\n",
      " - 99% Tile     :  27.482118\n"
     ]
    },
    {
     "name": "stderr",
     "output_type": "stream",
     "text": [
      "[0003/0200] Train: 100%|█████████████████████████████| 44/44 [00:05<00:00,  8.12it/s, loss 241.5068]\n",
      "[0003/0200] Validation: 100%|████████████████████| 42/42 [00:02<00:00, 15.80it/s, val_loss 177.2579]\n",
      "[0004/0200] Train:   0%|                                                     | 0/44 [00:00<?, ?it/s]"
     ]
    },
    {
     "name": "stdout",
     "output_type": "stream",
     "text": [
      "                  validation\n",
      " - Yaw          :  16.555906\n",
      " - Pitch        :   8.562297\n",
      " - Roll         :   2.713555\n",
      " - RMS          :  11.822454\n",
      " - 99% Tile     :  26.206977\n"
     ]
    },
    {
     "name": "stderr",
     "output_type": "stream",
     "text": [
      "[0004/0200] Train: 100%|█████████████████████████████| 44/44 [00:04<00:00,  8.86it/s, loss 200.8990]\n",
      "[0004/0200] Validation: 100%|████████████████████| 42/42 [00:03<00:00, 13.25it/s, val_loss 143.1954]\n",
      "[0005/0200] Train:   0%|                                                     | 0/44 [00:00<?, ?it/s]"
     ]
    },
    {
     "name": "stdout",
     "output_type": "stream",
     "text": [
      "                  validation\n",
      " - Yaw          :  14.361382\n",
      " - Pitch        :   8.131645\n",
      " - Roll         :   2.454383\n",
      " - RMS          :  10.501698\n",
      " - 99% Tile     :  24.046595\n"
     ]
    },
    {
     "name": "stderr",
     "output_type": "stream",
     "text": [
      "[0005/0200] Train: 100%|█████████████████████████████| 44/44 [00:05<00:00,  8.69it/s, loss 167.8918]\n",
      "[0005/0200] Validation: 100%|████████████████████| 42/42 [00:03<00:00, 13.37it/s, val_loss 120.9510]\n",
      "[0006/0200] Train:   0%|                                                     | 0/44 [00:00<?, ?it/s]"
     ]
    },
    {
     "name": "stdout",
     "output_type": "stream",
     "text": [
      "                  validation\n",
      " - Yaw          :  12.997297\n",
      " - Pitch        :   7.545260\n",
      " - Roll         :   2.442781\n",
      " - RMS          :   9.553807\n",
      " - 99% Tile     :  22.575834\n"
     ]
    },
    {
     "name": "stderr",
     "output_type": "stream",
     "text": [
      "[0006/0200] Train: 100%|█████████████████████████████| 44/44 [00:05<00:00,  8.66it/s, loss 146.6726]\n",
      "[0006/0200] Validation: 100%|████████████████████| 42/42 [00:03<00:00, 13.09it/s, val_loss 105.1954]\n",
      "[0007/0200] Train:   0%|                                                     | 0/44 [00:00<?, ?it/s]"
     ]
    },
    {
     "name": "stdout",
     "output_type": "stream",
     "text": [
      "                  validation\n",
      " - Yaw          :  11.899642\n",
      " - Pitch        :   7.078375\n",
      " - Roll         :   2.399244\n",
      " - RMS          :   8.825936\n",
      " - 99% Tile     :  21.549534\n"
     ]
    },
    {
     "name": "stderr",
     "output_type": "stream",
     "text": [
      "[0007/0200] Train: 100%|█████████████████████████████| 44/44 [00:05<00:00,  8.45it/s, loss 130.3509]\n",
      "[0007/0200] Validation: 100%|█████████████████████| 42/42 [00:03<00:00, 13.62it/s, val_loss 91.7360]\n",
      "[0008/0200] Train:   0%|                                                     | 0/44 [00:00<?, ?it/s]"
     ]
    },
    {
     "name": "stdout",
     "output_type": "stream",
     "text": [
      "                  validation\n",
      " - Yaw          :  10.645350\n",
      " - Pitch        :   6.958797\n",
      " - Roll         :   2.413867\n",
      " - RMS          :   8.193430\n",
      " - 99% Tile     :  20.624314\n"
     ]
    },
    {
     "name": "stderr",
     "output_type": "stream",
     "text": [
      "[0008/0200] Train: 100%|█████████████████████████████| 44/44 [00:05<00:00,  8.40it/s, loss 114.0591]\n",
      "[0008/0200] Validation: 100%|█████████████████████| 42/42 [00:02<00:00, 14.33it/s, val_loss 79.9874]\n",
      "[0009/0200] Train:   0%|                                                     | 0/44 [00:00<?, ?it/s]"
     ]
    },
    {
     "name": "stdout",
     "output_type": "stream",
     "text": [
      "                  validation\n",
      " - Yaw          :   9.261437\n",
      " - Pitch        :   7.023520\n",
      " - Roll         :   2.412534\n",
      " - RMS          :   7.579929\n",
      " - 99% Tile     :  20.365400\n"
     ]
    },
    {
     "name": "stderr",
     "output_type": "stream",
     "text": [
      "[0009/0200] Train: 100%|█████████████████████████████| 44/44 [00:05<00:00,  8.57it/s, loss 101.3170]\n",
      "[0009/0200] Validation: 100%|█████████████████████| 42/42 [00:02<00:00, 15.50it/s, val_loss 72.2357]\n",
      "[0010/0200] Train:   0%|                                                     | 0/44 [00:00<?, ?it/s]"
     ]
    },
    {
     "name": "stdout",
     "output_type": "stream",
     "text": [
      "                  validation\n",
      " - Yaw          :   9.185611\n",
      " - Pitch        :   6.403704\n",
      " - Roll         :   2.395834\n",
      " - RMS          :   7.264828\n",
      " - 99% Tile     :  19.750093\n"
     ]
    },
    {
     "name": "stderr",
     "output_type": "stream",
     "text": [
      "[0010/0200] Train: 100%|██████████████████████████████| 44/44 [00:05<00:00,  8.31it/s, loss 91.8373]\n",
      "[0010/0200] Validation: 100%|█████████████████████| 42/42 [00:02<00:00, 15.58it/s, val_loss 63.4054]\n",
      "[0011/0200] Train:   0%|                                                     | 0/44 [00:00<?, ?it/s]"
     ]
    },
    {
     "name": "stdout",
     "output_type": "stream",
     "text": [
      "                  validation\n",
      " - Yaw          :   7.969865\n",
      " - Pitch        :   6.626208\n",
      " - Roll         :   2.346868\n",
      " - RMS          :   6.798060\n",
      " - 99% Tile     :  18.954616\n"
     ]
    },
    {
     "name": "stderr",
     "output_type": "stream",
     "text": [
      "[0011/0200] Train: 100%|██████████████████████████████| 44/44 [00:05<00:00,  8.14it/s, loss 81.1825]\n",
      "[0011/0200] Validation: 100%|█████████████████████| 42/42 [00:02<00:00, 15.52it/s, val_loss 55.7831]\n",
      "[0012/0200] Train:   0%|                                                     | 0/44 [00:00<?, ?it/s]"
     ]
    },
    {
     "name": "stdout",
     "output_type": "stream",
     "text": [
      "                  validation\n",
      " - Yaw          :   7.142698\n",
      " - Pitch        :   6.159091\n",
      " - Roll         :   2.353657\n",
      " - RMS          :   6.270753\n",
      " - 99% Tile     :  18.254891\n"
     ]
    },
    {
     "name": "stderr",
     "output_type": "stream",
     "text": [
      "[0012/0200] Train: 100%|██████████████████████████████| 44/44 [00:05<00:00,  8.18it/s, loss 73.2061]\n",
      "[0012/0200] Validation: 100%|█████████████████████| 42/42 [00:02<00:00, 16.06it/s, val_loss 51.8834]\n",
      "[0013/0200] Train:   0%|                                                     | 0/44 [00:00<?, ?it/s]"
     ]
    },
    {
     "name": "stdout",
     "output_type": "stream",
     "text": [
      "                  validation\n",
      " - Yaw          :   6.802943\n",
      " - Pitch        :   6.193192\n",
      " - Roll         :   2.409616\n",
      " - RMS          :   6.154710\n",
      " - 99% Tile     :  17.630112\n"
     ]
    },
    {
     "name": "stderr",
     "output_type": "stream",
     "text": [
      "[0013/0200] Train: 100%|██████████████████████████████| 44/44 [00:05<00:00,  8.01it/s, loss 67.8649]\n",
      "[0013/0200] Validation: 100%|█████████████████████| 42/42 [00:02<00:00, 15.57it/s, val_loss 47.1567]\n",
      "[0014/0200] Train:   0%|                                                     | 0/44 [00:00<?, ?it/s]"
     ]
    },
    {
     "name": "stdout",
     "output_type": "stream",
     "text": [
      "                  validation\n",
      " - Yaw          :   6.542783\n",
      " - Pitch        :   5.473067\n",
      " - Roll         :   2.402351\n",
      " - RMS          :   5.723251\n",
      " - 99% Tile     :  17.356913\n"
     ]
    },
    {
     "name": "stderr",
     "output_type": "stream",
     "text": [
      "[0014/0200] Train: 100%|██████████████████████████████| 44/44 [00:05<00:00,  8.05it/s, loss 59.7733]\n",
      "[0014/0200] Validation: 100%|█████████████████████| 42/42 [00:02<00:00, 15.07it/s, val_loss 39.3416]\n",
      "[0015/0200] Train:   0%|                                                     | 0/44 [00:00<?, ?it/s]"
     ]
    },
    {
     "name": "stdout",
     "output_type": "stream",
     "text": [
      "                  validation\n",
      " - Yaw          :   5.975980\n",
      " - Pitch        :   4.723257\n",
      " - Roll         :   2.399285\n",
      " - RMS          :   5.171208\n",
      " - 99% Tile     :  16.428174\n"
     ]
    },
    {
     "name": "stderr",
     "output_type": "stream",
     "text": [
      "[0015/0200] Train: 100%|██████████████████████████████| 44/44 [00:05<00:00,  7.98it/s, loss 53.8076]\n",
      "[0015/0200] Validation: 100%|█████████████████████| 42/42 [00:02<00:00, 16.60it/s, val_loss 36.3605]\n",
      "[0016/0200] Train:   0%|                                                     | 0/44 [00:00<?, ?it/s]"
     ]
    },
    {
     "name": "stdout",
     "output_type": "stream",
     "text": [
      "                  validation\n",
      " - Yaw          :   5.660968\n",
      " - Pitch        :   4.611900\n",
      " - Roll         :   2.388061\n",
      " - RMS          :   4.995383\n",
      " - 99% Tile     :  15.748740\n"
     ]
    },
    {
     "name": "stderr",
     "output_type": "stream",
     "text": [
      "[0016/0200] Train: 100%|██████████████████████████████| 44/44 [00:05<00:00,  8.37it/s, loss 49.8576]\n",
      "[0016/0200] Validation: 100%|█████████████████████| 42/42 [00:03<00:00, 13.92it/s, val_loss 33.4657]\n",
      "[0017/0200] Train:   0%|                                                     | 0/44 [00:00<?, ?it/s]"
     ]
    },
    {
     "name": "stdout",
     "output_type": "stream",
     "text": [
      "                  validation\n",
      " - Yaw          :   5.496229\n",
      " - Pitch        :   4.420254\n",
      " - Roll         :   2.335868\n",
      " - RMS          :   4.835518\n",
      " - 99% Tile     :  15.521488\n"
     ]
    },
    {
     "name": "stderr",
     "output_type": "stream",
     "text": [
      "[0017/0200] Train: 100%|██████████████████████████████| 44/44 [00:05<00:00,  7.86it/s, loss 44.1797]\n",
      "[0017/0200] Validation: 100%|█████████████████████| 42/42 [00:03<00:00, 12.94it/s, val_loss 29.4853]\n",
      "[0018/0200] Train:   0%|                                                     | 0/44 [00:00<?, ?it/s]"
     ]
    },
    {
     "name": "stdout",
     "output_type": "stream",
     "text": [
      "                  validation\n",
      " - Yaw          :   5.188807\n",
      " - Pitch        :   3.513611\n",
      " - Roll         :   2.393450\n",
      " - RMS          :   4.413949\n",
      " - 99% Tile     :  14.928091\n"
     ]
    },
    {
     "name": "stderr",
     "output_type": "stream",
     "text": [
      "[0018/0200] Train: 100%|██████████████████████████████| 44/44 [00:05<00:00,  7.78it/s, loss 40.6143]\n",
      "[0018/0200] Validation: 100%|█████████████████████| 42/42 [00:03<00:00, 12.63it/s, val_loss 29.1859]\n",
      "[0019/0200] Train:   0%|                                                     | 0/44 [00:00<?, ?it/s]"
     ]
    },
    {
     "name": "stdout",
     "output_type": "stream",
     "text": [
      "                  validation\n",
      " - Yaw          :   5.207649\n",
      " - Pitch        :   3.874553\n",
      " - Roll         :   2.403237\n",
      " - RMS          :   4.520484\n",
      " - 99% Tile     :  14.615367\n"
     ]
    },
    {
     "name": "stderr",
     "output_type": "stream",
     "text": [
      "[0019/0200] Train: 100%|██████████████████████████████| 44/44 [00:05<00:00,  7.51it/s, loss 37.3589]\n",
      "[0019/0200] Validation: 100%|█████████████████████| 42/42 [00:03<00:00, 13.36it/s, val_loss 24.9483]\n",
      "[0020/0200] Train:   0%|                                                     | 0/44 [00:00<?, ?it/s]"
     ]
    },
    {
     "name": "stdout",
     "output_type": "stream",
     "text": [
      "                  validation\n",
      " - Yaw          :   4.406613\n",
      " - Pitch        :   3.447820\n",
      " - Roll         :   2.371195\n",
      " - RMS          :   4.016133\n",
      " - 99% Tile     :  14.380629\n"
     ]
    },
    {
     "name": "stderr",
     "output_type": "stream",
     "text": [
      "[0020/0200] Train: 100%|██████████████████████████████| 44/44 [00:05<00:00,  7.75it/s, loss 34.9629]\n",
      "[0020/0200] Validation: 100%|█████████████████████| 42/42 [00:03<00:00, 13.51it/s, val_loss 23.1035]\n",
      "[0021/0200] Train:   0%|                                                     | 0/44 [00:00<?, ?it/s]"
     ]
    },
    {
     "name": "stdout",
     "output_type": "stream",
     "text": [
      "                  validation\n",
      " - Yaw          :   4.465807\n",
      " - Pitch        :   2.950350\n",
      " - Roll         :   2.347238\n",
      " - RMS          :   3.832713\n",
      " - 99% Tile     :  14.201920\n"
     ]
    },
    {
     "name": "stderr",
     "output_type": "stream",
     "text": [
      "[0021/0200] Train: 100%|██████████████████████████████| 44/44 [00:05<00:00,  7.76it/s, loss 32.9711]\n",
      "[0021/0200] Validation: 100%|█████████████████████| 42/42 [00:02<00:00, 14.53it/s, val_loss 22.3449]\n",
      "[0022/0200] Train:   0%|                                                     | 0/44 [00:00<?, ?it/s]"
     ]
    },
    {
     "name": "stdout",
     "output_type": "stream",
     "text": [
      "                  validation\n",
      " - Yaw          :   3.966278\n",
      " - Pitch        :   3.189496\n",
      " - Roll         :   2.359865\n",
      " - RMS          :   3.763965\n",
      " - 99% Tile     :  13.944564\n"
     ]
    },
    {
     "name": "stderr",
     "output_type": "stream",
     "text": [
      "[0022/0200] Train: 100%|██████████████████████████████| 44/44 [00:05<00:00,  7.89it/s, loss 29.8603]\n",
      "[0022/0200] Validation: 100%|█████████████████████| 42/42 [00:02<00:00, 14.77it/s, val_loss 21.6631]\n",
      "[0023/0200] Train:   0%|                                                     | 0/44 [00:00<?, ?it/s]"
     ]
    },
    {
     "name": "stdout",
     "output_type": "stream",
     "text": [
      "                  validation\n",
      " - Yaw          :   4.323853\n",
      " - Pitch        :   2.742351\n",
      " - Roll         :   2.327607\n",
      " - RMS          :   3.773485\n",
      " - 99% Tile     :  13.613448\n"
     ]
    },
    {
     "name": "stderr",
     "output_type": "stream",
     "text": [
      "[0023/0200] Train: 100%|██████████████████████████████| 44/44 [00:05<00:00,  8.02it/s, loss 28.2664]\n",
      "[0023/0200] Validation: 100%|█████████████████████| 42/42 [00:02<00:00, 15.28it/s, val_loss 20.6360]\n",
      "[0024/0200] Train:   0%|                                                     | 0/44 [00:00<?, ?it/s]"
     ]
    },
    {
     "name": "stdout",
     "output_type": "stream",
     "text": [
      "                  validation\n",
      " - Yaw          :   4.245217\n",
      " - Pitch        :   2.565211\n",
      " - Roll         :   2.344272\n",
      " - RMS          :   3.623284\n",
      " - 99% Tile     :  13.573036\n"
     ]
    },
    {
     "name": "stderr",
     "output_type": "stream",
     "text": [
      "[0024/0200] Train: 100%|██████████████████████████████| 44/44 [00:05<00:00,  7.86it/s, loss 27.2359]\n",
      "[0024/0200] Validation: 100%|█████████████████████| 42/42 [00:02<00:00, 15.54it/s, val_loss 19.1279]\n",
      "[0025/0200] Train:   0%|                                                     | 0/44 [00:00<?, ?it/s]"
     ]
    },
    {
     "name": "stdout",
     "output_type": "stream",
     "text": [
      "                  validation\n",
      " - Yaw          :   3.826918\n",
      " - Pitch        :   2.590337\n",
      " - Roll         :   2.344202\n",
      " - RMS          :   3.475028\n",
      " - 99% Tile     :  13.318375\n"
     ]
    },
    {
     "name": "stderr",
     "output_type": "stream",
     "text": [
      "[0025/0200] Train: 100%|██████████████████████████████| 44/44 [00:05<00:00,  8.14it/s, loss 25.6714]\n",
      "[0025/0200] Validation: 100%|█████████████████████| 42/42 [00:02<00:00, 16.92it/s, val_loss 20.2557]\n",
      "[0026/0200] Train:   0%|                                                     | 0/44 [00:00<?, ?it/s]"
     ]
    },
    {
     "name": "stdout",
     "output_type": "stream",
     "text": [
      "val_loss is not improved for 1 epochs\n",
      "                  validation\n",
      " - Yaw          :   3.883155\n",
      " - Pitch        :   3.081742\n",
      " - Roll         :   2.325216\n",
      " - RMS          :   3.687215\n",
      " - 99% Tile     :  13.446967\n"
     ]
    },
    {
     "name": "stderr",
     "output_type": "stream",
     "text": [
      "[0026/0200] Train: 100%|██████████████████████████████| 44/44 [00:05<00:00,  7.70it/s, loss 24.3056]\n",
      "[0026/0200] Validation: 100%|█████████████████████| 42/42 [00:02<00:00, 16.96it/s, val_loss 19.1375]\n",
      "[0027/0200] Train:   0%|                                                     | 0/44 [00:00<?, ?it/s]"
     ]
    },
    {
     "name": "stdout",
     "output_type": "stream",
     "text": [
      "val_loss is not improved for 2 epochs\n",
      "                  validation\n",
      " - Yaw          :   3.874130\n",
      " - Pitch        :   2.702311\n",
      " - Roll         :   2.319746\n",
      " - RMS          :   3.517515\n",
      " - 99% Tile     :  13.364276\n"
     ]
    },
    {
     "name": "stderr",
     "output_type": "stream",
     "text": [
      "[0027/0200] Train: 100%|██████████████████████████████| 44/44 [00:05<00:00,  7.85it/s, loss 23.3481]\n",
      "[0027/0200] Validation: 100%|█████████████████████| 42/42 [00:02<00:00, 17.14it/s, val_loss 17.4802]\n",
      "[0028/0200] Train:   0%|                                                     | 0/44 [00:00<?, ?it/s]"
     ]
    },
    {
     "name": "stdout",
     "output_type": "stream",
     "text": [
      "                  validation\n",
      " - Yaw          :   3.369739\n",
      " - Pitch        :   2.647531\n",
      " - Roll         :   2.267272\n",
      " - RMS          :   3.277485\n",
      " - 99% Tile     :  13.316515\n"
     ]
    },
    {
     "name": "stderr",
     "output_type": "stream",
     "text": [
      "[0028/0200] Train: 100%|██████████████████████████████| 44/44 [00:05<00:00,  7.73it/s, loss 21.9509]\n",
      "[0028/0200] Validation: 100%|█████████████████████| 42/42 [00:02<00:00, 16.60it/s, val_loss 16.9194]\n",
      "[0029/0200] Train:   0%|                                                     | 0/44 [00:00<?, ?it/s]"
     ]
    },
    {
     "name": "stdout",
     "output_type": "stream",
     "text": [
      "                  validation\n",
      " - Yaw          :   3.519956\n",
      " - Pitch        :   2.366757\n",
      " - Roll         :   2.286678\n",
      " - RMS          :   3.230260\n",
      " - 99% Tile     :  13.171832\n"
     ]
    },
    {
     "name": "stderr",
     "output_type": "stream",
     "text": [
      "[0029/0200] Train: 100%|██████████████████████████████| 44/44 [00:05<00:00,  7.67it/s, loss 21.3093]\n",
      "[0029/0200] Validation: 100%|█████████████████████| 42/42 [00:02<00:00, 17.09it/s, val_loss 16.8479]\n",
      "[0030/0200] Train:   0%|                                                     | 0/44 [00:00<?, ?it/s]"
     ]
    },
    {
     "name": "stdout",
     "output_type": "stream",
     "text": [
      "                  validation\n",
      " - Yaw          :   3.710299\n",
      " - Pitch        :   2.140230\n",
      " - Roll         :   2.331751\n",
      " - RMS          :   3.265007\n",
      " - 99% Tile     :  13.105216\n"
     ]
    },
    {
     "name": "stderr",
     "output_type": "stream",
     "text": [
      "[0030/0200] Train: 100%|██████████████████████████████| 44/44 [00:05<00:00,  7.59it/s, loss 20.9639]\n",
      "[0030/0200] Validation: 100%|█████████████████████| 42/42 [00:02<00:00, 15.90it/s, val_loss 19.0030]\n",
      "[0031/0200] Train:   0%|                                                     | 0/44 [00:00<?, ?it/s]"
     ]
    },
    {
     "name": "stdout",
     "output_type": "stream",
     "text": [
      "val_loss is not improved for 1 epochs\n",
      "                  validation\n",
      " - Yaw          :   4.037290\n",
      " - Pitch        :   2.670699\n",
      " - Roll         :   2.231360\n",
      " - RMS          :   3.599550\n",
      " - 99% Tile     :  13.487352\n"
     ]
    },
    {
     "name": "stderr",
     "output_type": "stream",
     "text": [
      "[0031/0200] Train: 100%|██████████████████████████████| 44/44 [00:05<00:00,  7.68it/s, loss 21.1980]\n",
      "[0031/0200] Validation: 100%|█████████████████████| 42/42 [00:02<00:00, 16.36it/s, val_loss 17.7037]\n",
      "[0032/0200] Train:   0%|                                                     | 0/44 [00:00<?, ?it/s]"
     ]
    },
    {
     "name": "stdout",
     "output_type": "stream",
     "text": [
      "val_loss is not improved for 2 epochs\n",
      "                  validation\n",
      " - Yaw          :   3.844481\n",
      " - Pitch        :   2.190458\n",
      " - Roll         :   2.259152\n",
      " - RMS          :   3.299435\n",
      " - 99% Tile     :  13.755265\n"
     ]
    },
    {
     "name": "stderr",
     "output_type": "stream",
     "text": [
      "[0032/0200] Train: 100%|██████████████████████████████| 44/44 [00:06<00:00,  6.41it/s, loss 20.8269]\n",
      "[0032/0200] Validation: 100%|█████████████████████| 42/42 [00:03<00:00, 13.65it/s, val_loss 19.7830]\n",
      "[0033/0200] Train:   0%|                                                     | 0/44 [00:00<?, ?it/s]"
     ]
    },
    {
     "name": "stdout",
     "output_type": "stream",
     "text": [
      "Decaying lr from 0.001 to 0.0005 because val_loss did not improved for 3 epochs\n",
      "val_loss is not improved for 3 epochs\n",
      "                  validation\n",
      " - Yaw          :   4.473596\n",
      " - Pitch        :   2.235978\n",
      " - Roll         :   2.303410\n",
      " - RMS          :   3.597695\n",
      " - 99% Tile     :  14.130631\n"
     ]
    },
    {
     "name": "stderr",
     "output_type": "stream",
     "text": [
      "[0033/0200] Train: 100%|██████████████████████████████| 44/44 [00:07<00:00,  5.79it/s, loss 18.4472]\n",
      "[0033/0200] Validation: 100%|█████████████████████| 42/42 [00:03<00:00, 10.96it/s, val_loss 16.0345]\n",
      "[0034/0200] Train:   0%|                                                     | 0/44 [00:00<?, ?it/s]"
     ]
    },
    {
     "name": "stdout",
     "output_type": "stream",
     "text": [
      "                  validation\n",
      " - Yaw          :   3.535941\n",
      " - Pitch        :   2.057512\n",
      " - Roll         :   2.220082\n",
      " - RMS          :   3.140441\n",
      " - 99% Tile     :  13.021437\n"
     ]
    },
    {
     "name": "stderr",
     "output_type": "stream",
     "text": [
      "[0034/0200] Train: 100%|██████████████████████████████| 44/44 [00:08<00:00,  5.41it/s, loss 17.6665]\n",
      "[0034/0200] Validation: 100%|█████████████████████| 42/42 [00:03<00:00, 11.11it/s, val_loss 15.8372]\n",
      "[0035/0200] Train:   0%|                                                     | 0/44 [00:00<?, ?it/s]"
     ]
    },
    {
     "name": "stdout",
     "output_type": "stream",
     "text": [
      "                  validation\n",
      " - Yaw          :   3.350197\n",
      " - Pitch        :   2.067580\n",
      " - Roll         :   2.246086\n",
      " - RMS          :   3.070277\n",
      " - 99% Tile     :  13.202321\n"
     ]
    },
    {
     "name": "stderr",
     "output_type": "stream",
     "text": [
      "[0035/0200] Train: 100%|██████████████████████████████| 44/44 [00:07<00:00,  6.13it/s, loss 17.3211]\n",
      "[0035/0200] Validation: 100%|█████████████████████| 42/42 [00:03<00:00, 12.09it/s, val_loss 15.5467]\n",
      "[0036/0200] Train:   0%|                                                     | 0/44 [00:00<?, ?it/s]"
     ]
    },
    {
     "name": "stdout",
     "output_type": "stream",
     "text": [
      "                  validation\n",
      " - Yaw          :   3.272470\n",
      " - Pitch        :   2.086625\n",
      " - Roll         :   2.217487\n",
      " - RMS          :   3.028528\n",
      " - 99% Tile     :  12.976317\n"
     ]
    },
    {
     "name": "stderr",
     "output_type": "stream",
     "text": [
      "[0036/0200] Train: 100%|██████████████████████████████| 44/44 [00:07<00:00,  5.88it/s, loss 17.3589]\n",
      "[0036/0200] Validation: 100%|█████████████████████| 42/42 [00:03<00:00, 14.00it/s, val_loss 15.5955]\n",
      "[0037/0200] Train:   0%|                                                     | 0/44 [00:00<?, ?it/s]"
     ]
    },
    {
     "name": "stdout",
     "output_type": "stream",
     "text": [
      "val_loss is not improved for 1 epochs\n",
      "                  validation\n",
      " - Yaw          :   3.486686\n",
      " - Pitch        :   2.086986\n",
      " - Roll         :   2.188024\n",
      " - RMS          :   3.101870\n",
      " - 99% Tile     :  12.882313\n"
     ]
    },
    {
     "name": "stderr",
     "output_type": "stream",
     "text": [
      "[0037/0200] Train: 100%|██████████████████████████████| 44/44 [00:07<00:00,  6.16it/s, loss 17.0587]\n",
      "[0037/0200] Validation: 100%|█████████████████████| 42/42 [00:03<00:00, 10.74it/s, val_loss 15.1302]\n",
      "[0038/0200] Train:   0%|                                                     | 0/44 [00:00<?, ?it/s]"
     ]
    },
    {
     "name": "stdout",
     "output_type": "stream",
     "text": [
      "                  validation\n",
      " - Yaw          :   3.086236\n",
      " - Pitch        :   2.133721\n",
      " - Roll         :   2.220098\n",
      " - RMS          :   2.988424\n",
      " - 99% Tile     :  13.080934\n"
     ]
    },
    {
     "name": "stderr",
     "output_type": "stream",
     "text": [
      "[0038/0200] Train: 100%|██████████████████████████████| 44/44 [00:07<00:00,  5.90it/s, loss 16.4365]\n",
      "[0038/0200] Validation: 100%|█████████████████████| 42/42 [00:04<00:00,  9.75it/s, val_loss 16.4968]\n",
      "[0039/0200] Train:   0%|                                                     | 0/44 [00:00<?, ?it/s]"
     ]
    },
    {
     "name": "stdout",
     "output_type": "stream",
     "text": [
      "val_loss is not improved for 1 epochs\n",
      "                  validation\n",
      " - Yaw          :   3.609653\n",
      " - Pitch        :   2.188290\n",
      " - Roll         :   2.234054\n",
      " - RMS          :   3.203578\n",
      " - 99% Tile     :  13.432969\n"
     ]
    },
    {
     "name": "stderr",
     "output_type": "stream",
     "text": [
      "[0039/0200] Train: 100%|██████████████████████████████| 44/44 [00:07<00:00,  5.78it/s, loss 16.7412]\n",
      "[0039/0200] Validation: 100%|█████████████████████| 42/42 [00:03<00:00, 11.92it/s, val_loss 15.0123]\n",
      "[0040/0200] Train:   0%|                                                     | 0/44 [00:00<?, ?it/s]"
     ]
    },
    {
     "name": "stdout",
     "output_type": "stream",
     "text": [
      "                  validation\n",
      " - Yaw          :   3.100398\n",
      " - Pitch        :   2.039214\n",
      " - Roll         :   2.234767\n",
      " - RMS          :   2.953768\n",
      " - 99% Tile     :  13.116627\n"
     ]
    },
    {
     "name": "stderr",
     "output_type": "stream",
     "text": [
      "[0040/0200] Train: 100%|██████████████████████████████| 44/44 [00:07<00:00,  5.76it/s, loss 15.7297]\n",
      "[0040/0200] Validation: 100%|█████████████████████| 42/42 [00:03<00:00, 13.78it/s, val_loss 14.9583]\n",
      "[0041/0200] Train:   0%|                                                     | 0/44 [00:00<?, ?it/s]"
     ]
    },
    {
     "name": "stdout",
     "output_type": "stream",
     "text": [
      "                  validation\n",
      " - Yaw          :   3.165954\n",
      " - Pitch        :   1.944250\n",
      " - Roll         :   2.256431\n",
      " - RMS          :   2.968480\n",
      " - 99% Tile     :  13.134366\n"
     ]
    },
    {
     "name": "stderr",
     "output_type": "stream",
     "text": [
      "[0041/0200] Train: 100%|██████████████████████████████| 44/44 [00:06<00:00,  6.34it/s, loss 15.7300]\n",
      "[0041/0200] Validation: 100%|█████████████████████| 42/42 [00:04<00:00,  9.56it/s, val_loss 14.2920]\n",
      "[0042/0200] Train:   0%|                                                     | 0/44 [00:00<?, ?it/s]"
     ]
    },
    {
     "name": "stdout",
     "output_type": "stream",
     "text": [
      "                  validation\n",
      " - Yaw          :   3.076874\n",
      " - Pitch        :   1.976143\n",
      " - Roll         :   2.179161\n",
      " - RMS          :   2.888456\n",
      " - 99% Tile     :  12.800694\n"
     ]
    },
    {
     "name": "stderr",
     "output_type": "stream",
     "text": [
      "[0042/0200] Train: 100%|██████████████████████████████| 44/44 [00:07<00:00,  5.94it/s, loss 15.3909]\n",
      "[0042/0200] Validation: 100%|█████████████████████| 42/42 [00:04<00:00,  8.61it/s, val_loss 14.7031]\n",
      "[0043/0200] Train:   0%|                                                     | 0/44 [00:00<?, ?it/s]"
     ]
    },
    {
     "name": "stdout",
     "output_type": "stream",
     "text": [
      "val_loss is not improved for 1 epochs\n",
      "                  validation\n",
      " - Yaw          :   3.143611\n",
      " - Pitch        :   2.052935\n",
      " - Roll         :   2.154305\n",
      " - RMS          :   2.933228\n",
      " - 99% Tile     :  12.970157\n"
     ]
    },
    {
     "name": "stderr",
     "output_type": "stream",
     "text": [
      "[0043/0200] Train: 100%|██████████████████████████████| 44/44 [00:07<00:00,  6.21it/s, loss 15.1843]\n",
      "[0043/0200] Validation: 100%|█████████████████████| 42/42 [00:03<00:00, 11.30it/s, val_loss 15.5131]\n",
      "[0044/0200] Train:   0%|                                                     | 0/44 [00:00<?, ?it/s]"
     ]
    },
    {
     "name": "stdout",
     "output_type": "stream",
     "text": [
      "val_loss is not improved for 2 epochs\n",
      "                  validation\n",
      " - Yaw          :   3.438844\n",
      " - Pitch        :   2.053641\n",
      " - Roll         :   2.201486\n",
      " - RMS          :   3.081707\n",
      " - 99% Tile     :  12.998621\n"
     ]
    },
    {
     "name": "stderr",
     "output_type": "stream",
     "text": [
      "[0044/0200] Train: 100%|██████████████████████████████| 44/44 [00:07<00:00,  6.24it/s, loss 14.8699]\n",
      "[0044/0200] Validation: 100%|█████████████████████| 42/42 [00:04<00:00,  9.64it/s, val_loss 15.1852]\n",
      "[0045/0200] Train:   0%|                                                     | 0/44 [00:00<?, ?it/s]"
     ]
    },
    {
     "name": "stdout",
     "output_type": "stream",
     "text": [
      "Decaying lr from 0.0005 to 0.00025 because val_loss did not improved for 3 epochs\n",
      "val_loss is not improved for 3 epochs\n",
      "                  validation\n",
      " - Yaw          :   3.398913\n",
      " - Pitch        :   2.043056\n",
      " - Roll         :   2.111718\n",
      " - RMS          :   3.020385\n",
      " - 99% Tile     :  12.943675\n"
     ]
    },
    {
     "name": "stderr",
     "output_type": "stream",
     "text": [
      "[0045/0200] Train: 100%|██████████████████████████████| 44/44 [00:07<00:00,  5.74it/s, loss 14.3539]\n",
      "[0045/0200] Validation: 100%|█████████████████████| 42/42 [00:04<00:00, 10.36it/s, val_loss 14.2790]\n",
      "[0046/0200] Train:   0%|                                                     | 0/44 [00:00<?, ?it/s]"
     ]
    },
    {
     "name": "stdout",
     "output_type": "stream",
     "text": [
      "                  validation\n",
      " - Yaw          :   3.050534\n",
      " - Pitch        :   1.953732\n",
      " - Roll         :   2.121617\n",
      " - RMS          :   2.847209\n",
      " - 99% Tile     :  13.048245\n"
     ]
    },
    {
     "name": "stderr",
     "output_type": "stream",
     "text": [
      "[0046/0200] Train: 100%|██████████████████████████████| 44/44 [00:06<00:00,  6.33it/s, loss 13.7009]\n",
      "[0046/0200] Validation: 100%|█████████████████████| 42/42 [00:03<00:00, 10.51it/s, val_loss 14.3897]\n",
      "[0047/0200] Train:   0%|                                                     | 0/44 [00:00<?, ?it/s]"
     ]
    },
    {
     "name": "stdout",
     "output_type": "stream",
     "text": [
      "val_loss is not improved for 1 epochs\n",
      "                  validation\n",
      " - Yaw          :   3.107201\n",
      " - Pitch        :   1.896194\n",
      " - Roll         :   2.136171\n",
      " - RMS          :   2.864066\n",
      " - 99% Tile     :  12.850900\n"
     ]
    },
    {
     "name": "stderr",
     "output_type": "stream",
     "text": [
      "[0047/0200] Train: 100%|██████████████████████████████| 44/44 [00:07<00:00,  5.91it/s, loss 13.5531]\n",
      "[0047/0200] Validation: 100%|█████████████████████| 42/42 [00:03<00:00, 12.95it/s, val_loss 14.3535]\n",
      "[0048/0200] Train:   0%|                                                     | 0/44 [00:00<?, ?it/s]"
     ]
    },
    {
     "name": "stdout",
     "output_type": "stream",
     "text": [
      "val_loss is not improved for 2 epochs\n",
      "                  validation\n",
      " - Yaw          :   3.164990\n",
      " - Pitch        :   1.982687\n",
      " - Roll         :   2.087540\n",
      " - RMS          :   2.868005\n",
      " - 99% Tile     :  12.836630\n"
     ]
    },
    {
     "name": "stderr",
     "output_type": "stream",
     "text": [
      "[0048/0200] Train: 100%|██████████████████████████████| 44/44 [00:06<00:00,  6.29it/s, loss 13.3964]\n",
      "[0048/0200] Validation: 100%|█████████████████████| 42/42 [00:04<00:00, 10.39it/s, val_loss 14.1612]\n",
      "[0049/0200] Train:   0%|                                                     | 0/44 [00:00<?, ?it/s]"
     ]
    },
    {
     "name": "stdout",
     "output_type": "stream",
     "text": [
      "                  validation\n",
      " - Yaw          :   3.096770\n",
      " - Pitch        :   2.000319\n",
      " - Roll         :   2.043825\n",
      " - RMS          :   2.849926\n",
      " - 99% Tile     :  12.712528\n"
     ]
    },
    {
     "name": "stderr",
     "output_type": "stream",
     "text": [
      "[0049/0200] Train: 100%|██████████████████████████████| 44/44 [00:07<00:00,  5.51it/s, loss 13.6744]\n",
      "[0049/0200] Validation: 100%|█████████████████████| 42/42 [00:03<00:00, 11.68it/s, val_loss 14.2614]\n",
      "[0050/0200] Train:   0%|                                                     | 0/44 [00:00<?, ?it/s]"
     ]
    },
    {
     "name": "stdout",
     "output_type": "stream",
     "text": [
      "val_loss is not improved for 1 epochs\n",
      "                  validation\n",
      " - Yaw          :   3.117947\n",
      " - Pitch        :   2.148836\n",
      " - Roll         :   2.037088\n",
      " - RMS          :   2.902088\n",
      " - 99% Tile     :  12.551974\n"
     ]
    },
    {
     "name": "stderr",
     "output_type": "stream",
     "text": [
      "[0050/0200] Train: 100%|██████████████████████████████| 44/44 [00:07<00:00,  6.14it/s, loss 13.3071]\n",
      "[0050/0200] Validation: 100%|█████████████████████| 42/42 [00:03<00:00, 11.66it/s, val_loss 16.2939]\n",
      "[0051/0200] Train:   0%|                                                     | 0/44 [00:00<?, ?it/s]"
     ]
    },
    {
     "name": "stdout",
     "output_type": "stream",
     "text": [
      "val_loss is not improved for 2 epochs\n",
      "                  validation\n",
      " - Yaw          :   3.464557\n",
      " - Pitch        :   2.426698\n",
      " - Roll         :   2.043185\n",
      " - RMS          :   3.133587\n",
      " - 99% Tile     :  13.255114\n"
     ]
    },
    {
     "name": "stderr",
     "output_type": "stream",
     "text": [
      "[0051/0200] Train: 100%|██████████████████████████████| 44/44 [00:07<00:00,  6.15it/s, loss 13.9136]\n",
      "[0051/0200] Validation: 100%|█████████████████████| 42/42 [00:03<00:00, 13.55it/s, val_loss 14.4754]\n",
      "[0052/0200] Train:   0%|                                                     | 0/44 [00:00<?, ?it/s]"
     ]
    },
    {
     "name": "stdout",
     "output_type": "stream",
     "text": [
      "Decaying lr from 0.00025 to 0.000125 because val_loss did not improved for 3 epochs\n",
      "val_loss is not improved for 3 epochs\n",
      "                  validation\n",
      " - Yaw          :   3.247890\n",
      " - Pitch        :   1.992927\n",
      " - Roll         :   2.013582\n",
      " - RMS          :   2.885877\n",
      " - 99% Tile     :  12.878012\n"
     ]
    },
    {
     "name": "stderr",
     "output_type": "stream",
     "text": [
      "[0052/0200] Train: 100%|██████████████████████████████| 44/44 [00:07<00:00,  6.00it/s, loss 12.8759]\n",
      "[0052/0200] Validation: 100%|█████████████████████| 42/42 [00:03<00:00, 11.58it/s, val_loss 14.2250]\n",
      "[0053/0200] Train:   0%|                                                     | 0/44 [00:00<?, ?it/s]"
     ]
    },
    {
     "name": "stdout",
     "output_type": "stream",
     "text": [
      "val_loss is not improved for 4 epochs\n",
      "                  validation\n",
      " - Yaw          :   3.155277\n",
      " - Pitch        :   1.980165\n",
      " - Roll         :   2.040557\n",
      " - RMS          :   2.865443\n",
      " - 99% Tile     :  12.777594\n"
     ]
    },
    {
     "name": "stderr",
     "output_type": "stream",
     "text": [
      "[0053/0200] Train: 100%|██████████████████████████████| 44/44 [00:07<00:00,  5.99it/s, loss 12.8884]\n",
      "[0053/0200] Validation: 100%|█████████████████████| 42/42 [00:03<00:00, 11.65it/s, val_loss 14.3530]\n",
      "[0054/0200] Train:   0%|                                                     | 0/44 [00:00<?, ?it/s]"
     ]
    },
    {
     "name": "stdout",
     "output_type": "stream",
     "text": [
      "val_loss is not improved for 5 epochs\n",
      "                  validation\n",
      " - Yaw          :   3.130243\n",
      " - Pitch        :   1.986390\n",
      " - Roll         :   2.027541\n",
      " - RMS          :   2.842777\n",
      " - 99% Tile     :  12.908002\n"
     ]
    },
    {
     "name": "stderr",
     "output_type": "stream",
     "text": [
      "[0054/0200] Train: 100%|██████████████████████████████| 44/44 [00:07<00:00,  5.64it/s, loss 12.9779]\n",
      "[0054/0200] Validation: 100%|█████████████████████| 42/42 [00:03<00:00, 11.28it/s, val_loss 13.9206]\n",
      "[0055/0200] Train:   0%|                                                     | 0/44 [00:00<?, ?it/s]"
     ]
    },
    {
     "name": "stdout",
     "output_type": "stream",
     "text": [
      "                  validation\n",
      " - Yaw          :   3.088199\n",
      " - Pitch        :   1.928649\n",
      " - Roll         :   1.980479\n",
      " - RMS          :   2.786096\n",
      " - 99% Tile     :  12.722467\n"
     ]
    },
    {
     "name": "stderr",
     "output_type": "stream",
     "text": [
      "[0055/0200] Train: 100%|██████████████████████████████| 44/44 [00:07<00:00,  5.93it/s, loss 12.6571]\n",
      "[0055/0200] Validation: 100%|█████████████████████| 42/42 [00:03<00:00, 13.46it/s, val_loss 14.1237]\n",
      "[0056/0200] Train:   0%|                                                     | 0/44 [00:00<?, ?it/s]"
     ]
    },
    {
     "name": "stdout",
     "output_type": "stream",
     "text": [
      "val_loss is not improved for 1 epochs\n",
      "                  validation\n",
      " - Yaw          :   3.125125\n",
      " - Pitch        :   1.918580\n",
      " - Roll         :   2.015402\n",
      " - RMS          :   2.818687\n",
      " - 99% Tile     :  12.824503\n"
     ]
    },
    {
     "name": "stderr",
     "output_type": "stream",
     "text": [
      "[0056/0200] Train: 100%|██████████████████████████████| 44/44 [00:07<00:00,  5.72it/s, loss 12.4070]\n",
      "[0056/0200] Validation: 100%|█████████████████████| 42/42 [00:03<00:00, 10.92it/s, val_loss 13.8924]\n",
      "[0057/0200] Train:   0%|                                                     | 0/44 [00:00<?, ?it/s]"
     ]
    },
    {
     "name": "stdout",
     "output_type": "stream",
     "text": [
      "                  validation\n",
      " - Yaw          :   3.106337\n",
      " - Pitch        :   1.901900\n",
      " - Roll         :   1.999051\n",
      " - RMS          :   2.790123\n",
      " - 99% Tile     :  12.703322\n"
     ]
    },
    {
     "name": "stderr",
     "output_type": "stream",
     "text": [
      "[0057/0200] Train: 100%|██████████████████████████████| 44/44 [00:07<00:00,  6.21it/s, loss 12.4271]\n",
      "[0057/0200] Validation: 100%|█████████████████████| 42/42 [00:04<00:00, 10.29it/s, val_loss 14.0731]\n",
      "[0058/0200] Train:   0%|                                                     | 0/44 [00:00<?, ?it/s]"
     ]
    },
    {
     "name": "stdout",
     "output_type": "stream",
     "text": [
      "val_loss is not improved for 1 epochs\n",
      "                  validation\n",
      " - Yaw          :   3.156108\n",
      " - Pitch        :   1.913005\n",
      " - Roll         :   1.972471\n",
      " - RMS          :   2.809873\n",
      " - 99% Tile     :  12.703943\n"
     ]
    },
    {
     "name": "stderr",
     "output_type": "stream",
     "text": [
      "[0058/0200] Train: 100%|██████████████████████████████| 44/44 [00:07<00:00,  6.10it/s, loss 12.2740]\n",
      "[0058/0200] Validation: 100%|█████████████████████| 42/42 [00:03<00:00, 11.68it/s, val_loss 14.1129]\n",
      "[0059/0200] Train:   0%|                                                     | 0/44 [00:00<?, ?it/s]"
     ]
    },
    {
     "name": "stdout",
     "output_type": "stream",
     "text": [
      "val_loss is not improved for 2 epochs\n",
      "                  validation\n",
      " - Yaw          :   3.210729\n",
      " - Pitch        :   1.962203\n",
      " - Roll         :   1.922839\n",
      " - RMS          :   2.826345\n",
      " - 99% Tile     :  12.729623\n"
     ]
    },
    {
     "name": "stderr",
     "output_type": "stream",
     "text": [
      "[0059/0200] Train: 100%|██████████████████████████████| 44/44 [00:07<00:00,  6.13it/s, loss 12.5090]\n",
      "[0059/0200] Validation: 100%|█████████████████████| 42/42 [00:03<00:00, 12.80it/s, val_loss 14.1857]\n",
      "[0060/0200] Train:   0%|                                                     | 0/44 [00:00<?, ?it/s]"
     ]
    },
    {
     "name": "stdout",
     "output_type": "stream",
     "text": [
      "Decaying lr from 0.000125 to 6.25e-05 because val_loss did not improved for 3 epochs\n",
      "val_loss is not improved for 3 epochs\n",
      "                  validation\n",
      " - Yaw          :   3.206164\n",
      " - Pitch        :   1.971529\n",
      " - Roll         :   1.921805\n",
      " - RMS          :   2.848819\n",
      " - 99% Tile     :  12.768326\n"
     ]
    },
    {
     "name": "stderr",
     "output_type": "stream",
     "text": [
      "[0060/0200] Train: 100%|██████████████████████████████| 44/44 [00:07<00:00,  5.89it/s, loss 12.0895]\n",
      "[0060/0200] Validation: 100%|█████████████████████| 42/42 [00:03<00:00, 12.59it/s, val_loss 13.8716]\n",
      "[0061/0200] Train:   0%|                                                     | 0/44 [00:00<?, ?it/s]"
     ]
    },
    {
     "name": "stdout",
     "output_type": "stream",
     "text": [
      "                  validation\n",
      " - Yaw          :   3.079406\n",
      " - Pitch        :   1.909005\n",
      " - Roll         :   1.909734\n",
      " - RMS          :   2.764354\n",
      " - 99% Tile     :  12.678231\n"
     ]
    },
    {
     "name": "stderr",
     "output_type": "stream",
     "text": [
      "[0061/0200] Train: 100%|██████████████████████████████| 44/44 [00:07<00:00,  5.99it/s, loss 12.2472]\n",
      "[0061/0200] Validation: 100%|█████████████████████| 42/42 [00:03<00:00, 11.02it/s, val_loss 13.8139]\n",
      "[0062/0200] Train:   0%|                                                     | 0/44 [00:00<?, ?it/s]"
     ]
    },
    {
     "name": "stdout",
     "output_type": "stream",
     "text": [
      "                  validation\n",
      " - Yaw          :   3.175396\n",
      " - Pitch        :   1.914327\n",
      " - Roll         :   1.892327\n",
      " - RMS          :   2.784800\n",
      " - 99% Tile     :  12.692802\n"
     ]
    },
    {
     "name": "stderr",
     "output_type": "stream",
     "text": [
      "[0062/0200] Train: 100%|██████████████████████████████| 44/44 [00:07<00:00,  5.68it/s, loss 11.8021]\n",
      "[0062/0200] Validation: 100%|█████████████████████| 42/42 [00:03<00:00, 11.07it/s, val_loss 13.6827]\n",
      "[0063/0200] Train:   0%|                                                     | 0/44 [00:00<?, ?it/s]"
     ]
    },
    {
     "name": "stdout",
     "output_type": "stream",
     "text": [
      "                  validation\n",
      " - Yaw          :   3.103084\n",
      " - Pitch        :   1.918559\n",
      " - Roll         :   1.874930\n",
      " - RMS          :   2.753802\n",
      " - 99% Tile     :  12.694720\n"
     ]
    },
    {
     "name": "stderr",
     "output_type": "stream",
     "text": [
      "[0063/0200] Train: 100%|██████████████████████████████| 44/44 [00:07<00:00,  6.05it/s, loss 11.8436]\n",
      "[0063/0200] Validation: 100%|█████████████████████| 42/42 [00:04<00:00,  9.75it/s, val_loss 13.8537]\n",
      "[0064/0200] Train:   0%|                                                     | 0/44 [00:00<?, ?it/s]"
     ]
    },
    {
     "name": "stdout",
     "output_type": "stream",
     "text": [
      "val_loss is not improved for 1 epochs\n",
      "                  validation\n",
      " - Yaw          :   3.127697\n",
      " - Pitch        :   1.927853\n",
      " - Roll         :   1.850043\n",
      " - RMS          :   2.763890\n",
      " - 99% Tile     :  12.780328\n"
     ]
    },
    {
     "name": "stderr",
     "output_type": "stream",
     "text": [
      "[0064/0200] Train: 100%|██████████████████████████████| 44/44 [00:07<00:00,  5.78it/s, loss 11.7298]\n",
      "[0064/0200] Validation: 100%|█████████████████████| 42/42 [00:03<00:00, 11.68it/s, val_loss 13.7078]\n",
      "[0065/0200] Train:   0%|                                                     | 0/44 [00:00<?, ?it/s]"
     ]
    },
    {
     "name": "stdout",
     "output_type": "stream",
     "text": [
      "val_loss is not improved for 2 epochs\n",
      "                  validation\n",
      " - Yaw          :   3.064716\n",
      " - Pitch        :   1.924864\n",
      " - Roll         :   1.858447\n",
      " - RMS          :   2.741251\n",
      " - 99% Tile     :  12.648751\n"
     ]
    },
    {
     "name": "stderr",
     "output_type": "stream",
     "text": [
      "[0065/0200] Train: 100%|██████████████████████████████| 44/44 [00:08<00:00,  5.46it/s, loss 11.7623]\n",
      "[0065/0200] Validation: 100%|█████████████████████| 42/42 [00:04<00:00,  9.63it/s, val_loss 13.5926]\n",
      "[0066/0200] Train:   0%|                                                     | 0/44 [00:00<?, ?it/s]"
     ]
    },
    {
     "name": "stdout",
     "output_type": "stream",
     "text": [
      "                  validation\n",
      " - Yaw          :   3.081497\n",
      " - Pitch        :   1.931251\n",
      " - Roll         :   1.820910\n",
      " - RMS          :   2.734859\n",
      " - 99% Tile     :  12.728368\n"
     ]
    },
    {
     "name": "stderr",
     "output_type": "stream",
     "text": [
      "[0066/0200] Train: 100%|██████████████████████████████| 44/44 [00:08<00:00,  5.35it/s, loss 11.6340]\n",
      "[0066/0200] Validation: 100%|█████████████████████| 42/42 [00:04<00:00,  9.77it/s, val_loss 13.5744]\n",
      "[0067/0200] Train:   0%|                                                     | 0/44 [00:00<?, ?it/s]"
     ]
    },
    {
     "name": "stdout",
     "output_type": "stream",
     "text": [
      "                  validation\n",
      " - Yaw          :   3.053863\n",
      " - Pitch        :   1.936019\n",
      " - Roll         :   1.810700\n",
      " - RMS          :   2.726960\n",
      " - 99% Tile     :  12.642592\n"
     ]
    },
    {
     "name": "stderr",
     "output_type": "stream",
     "text": [
      "[0067/0200] Train: 100%|██████████████████████████████| 44/44 [00:07<00:00,  6.01it/s, loss 11.5781]\n",
      "[0067/0200] Validation: 100%|█████████████████████| 42/42 [00:03<00:00, 10.53it/s, val_loss 13.6935]\n",
      "[0068/0200] Train:   0%|                                                     | 0/44 [00:00<?, ?it/s]"
     ]
    },
    {
     "name": "stdout",
     "output_type": "stream",
     "text": [
      "val_loss is not improved for 1 epochs\n",
      "                  validation\n",
      " - Yaw          :   3.102079\n",
      " - Pitch        :   1.874548\n",
      " - Roll         :   1.825364\n",
      " - RMS          :   2.724712\n",
      " - 99% Tile     :  12.888198\n"
     ]
    },
    {
     "name": "stderr",
     "output_type": "stream",
     "text": [
      "[0068/0200] Train: 100%|██████████████████████████████| 44/44 [00:07<00:00,  5.53it/s, loss 11.4043]\n",
      "[0068/0200] Validation: 100%|█████████████████████| 42/42 [00:03<00:00, 12.69it/s, val_loss 13.6407]\n",
      "[0069/0200] Train:   0%|                                                     | 0/44 [00:00<?, ?it/s]"
     ]
    },
    {
     "name": "stdout",
     "output_type": "stream",
     "text": [
      "val_loss is not improved for 2 epochs\n",
      "                  validation\n",
      " - Yaw          :   3.115204\n",
      " - Pitch        :   1.886846\n",
      " - Roll         :   1.824217\n",
      " - RMS          :   2.728594\n",
      " - 99% Tile     :  12.697257\n"
     ]
    },
    {
     "name": "stderr",
     "output_type": "stream",
     "text": [
      "[0069/0200] Train: 100%|██████████████████████████████| 44/44 [00:08<00:00,  5.49it/s, loss 11.4948]\n",
      "[0069/0200] Validation: 100%|█████████████████████| 42/42 [00:03<00:00, 10.67it/s, val_loss 13.5965]\n",
      "[0070/0200] Train:   0%|                                                     | 0/44 [00:00<?, ?it/s]"
     ]
    },
    {
     "name": "stdout",
     "output_type": "stream",
     "text": [
      "Decaying lr from 6.25e-05 to 3.125e-05 because val_loss did not improved for 3 epochs\n",
      "val_loss is not improved for 3 epochs\n",
      "                  validation\n",
      " - Yaw          :   3.103701\n",
      " - Pitch        :   1.915841\n",
      " - Roll         :   1.781231\n",
      " - RMS          :   2.718881\n",
      " - 99% Tile     :  12.689622\n"
     ]
    },
    {
     "name": "stderr",
     "output_type": "stream",
     "text": [
      "[0070/0200] Train: 100%|██████████████████████████████| 44/44 [00:07<00:00,  6.05it/s, loss 11.5687]\n",
      "[0070/0200] Validation: 100%|█████████████████████| 42/42 [00:03<00:00, 11.17it/s, val_loss 13.4900]\n",
      "[0071/0200] Train:   0%|                                                     | 0/44 [00:00<?, ?it/s]"
     ]
    },
    {
     "name": "stdout",
     "output_type": "stream",
     "text": [
      "                  validation\n",
      " - Yaw          :   3.068988\n",
      " - Pitch        :   1.909641\n",
      " - Roll         :   1.789291\n",
      " - RMS          :   2.707605\n",
      " - 99% Tile     :  12.815145\n"
     ]
    },
    {
     "name": "stderr",
     "output_type": "stream",
     "text": [
      "[0071/0200] Train: 100%|██████████████████████████████| 44/44 [00:06<00:00,  6.38it/s, loss 11.4962]\n",
      "[0071/0200] Validation: 100%|█████████████████████| 42/42 [00:03<00:00, 13.60it/s, val_loss 13.5465]\n",
      "[0072/0200] Train:   0%|                                                     | 0/44 [00:00<?, ?it/s]"
     ]
    },
    {
     "name": "stdout",
     "output_type": "stream",
     "text": [
      "val_loss is not improved for 1 epochs\n",
      "                  validation\n",
      " - Yaw          :   3.137087\n",
      " - Pitch        :   1.883801\n",
      " - Roll         :   1.782151\n",
      " - RMS          :   2.715754\n",
      " - 99% Tile     :  12.690529\n"
     ]
    },
    {
     "name": "stderr",
     "output_type": "stream",
     "text": [
      "[0072/0200] Train: 100%|██████████████████████████████| 44/44 [00:07<00:00,  5.92it/s, loss 11.2238]\n",
      "[0072/0200] Validation: 100%|█████████████████████| 42/42 [00:02<00:00, 14.21it/s, val_loss 13.6224]\n",
      "[0073/0200] Train:   0%|                                                     | 0/44 [00:00<?, ?it/s]"
     ]
    },
    {
     "name": "stdout",
     "output_type": "stream",
     "text": [
      "val_loss is not improved for 2 epochs\n",
      "                  validation\n",
      " - Yaw          :   3.129812\n",
      " - Pitch        :   1.904825\n",
      " - Roll         :   1.781364\n",
      " - RMS          :   2.721132\n",
      " - 99% Tile     :  12.753391\n"
     ]
    },
    {
     "name": "stderr",
     "output_type": "stream",
     "text": [
      "[0073/0200] Train: 100%|██████████████████████████████| 44/44 [00:08<00:00,  5.26it/s, loss 11.4093]\n",
      "[0073/0200] Validation: 100%|█████████████████████| 42/42 [00:03<00:00, 13.31it/s, val_loss 13.5355]\n",
      "[0074/0200] Train:   0%|                                                     | 0/44 [00:00<?, ?it/s]"
     ]
    },
    {
     "name": "stdout",
     "output_type": "stream",
     "text": [
      "Decaying lr from 3.125e-05 to 1.5625e-05 because val_loss did not improved for 3 epochs\n",
      "val_loss is not improved for 3 epochs\n",
      "                  validation\n",
      " - Yaw          :   3.119678\n",
      " - Pitch        :   1.915081\n",
      " - Roll         :   1.757500\n",
      " - RMS          :   2.710933\n",
      " - 99% Tile     :  12.746438\n"
     ]
    },
    {
     "name": "stderr",
     "output_type": "stream",
     "text": [
      "[0074/0200] Train: 100%|██████████████████████████████| 44/44 [00:07<00:00,  5.60it/s, loss 11.1561]\n",
      "[0074/0200] Validation: 100%|█████████████████████| 42/42 [00:03<00:00, 13.77it/s, val_loss 13.5366]\n",
      "[0075/0200] Train:   0%|                                                     | 0/44 [00:00<?, ?it/s]"
     ]
    },
    {
     "name": "stdout",
     "output_type": "stream",
     "text": [
      "val_loss is not improved for 4 epochs\n",
      "                  validation\n",
      " - Yaw          :   3.135108\n",
      " - Pitch        :   1.901057\n",
      " - Roll         :   1.757734\n",
      " - RMS          :   2.707947\n",
      " - 99% Tile     :  12.685816\n"
     ]
    },
    {
     "name": "stderr",
     "output_type": "stream",
     "text": [
      "[0075/0200] Train: 100%|██████████████████████████████| 44/44 [00:07<00:00,  5.52it/s, loss 11.1798]\n",
      "[0075/0200] Validation: 100%|█████████████████████| 42/42 [00:03<00:00, 12.90it/s, val_loss 13.4790]\n",
      "[0076/0200] Train:   0%|                                                     | 0/44 [00:00<?, ?it/s]"
     ]
    },
    {
     "name": "stdout",
     "output_type": "stream",
     "text": [
      "                  validation\n",
      " - Yaw          :   3.106284\n",
      " - Pitch        :   1.907306\n",
      " - Roll         :   1.760074\n",
      " - RMS          :   2.705301\n",
      " - 99% Tile     :  12.773121\n"
     ]
    },
    {
     "name": "stderr",
     "output_type": "stream",
     "text": [
      "[0076/0200] Train: 100%|██████████████████████████████| 44/44 [00:07<00:00,  5.77it/s, loss 11.2791]\n",
      "[0076/0200] Validation: 100%|█████████████████████| 42/42 [00:03<00:00, 13.99it/s, val_loss 13.5658]\n",
      "[0077/0200] Train:   0%|                                                     | 0/44 [00:00<?, ?it/s]"
     ]
    },
    {
     "name": "stdout",
     "output_type": "stream",
     "text": [
      "val_loss is not improved for 1 epochs\n",
      "                  validation\n",
      " - Yaw          :   3.115889\n",
      " - Pitch        :   1.898553\n",
      " - Roll         :   1.771961\n",
      " - RMS          :   2.710137\n",
      " - 99% Tile     :  12.828289\n"
     ]
    },
    {
     "name": "stderr",
     "output_type": "stream",
     "text": [
      "[0077/0200] Train: 100%|██████████████████████████████| 44/44 [00:08<00:00,  5.41it/s, loss 11.4616]\n",
      "[0077/0200] Validation: 100%|█████████████████████| 42/42 [00:03<00:00, 13.59it/s, val_loss 13.4279]\n",
      "[0078/0200] Train:   0%|                                                     | 0/44 [00:00<?, ?it/s]"
     ]
    },
    {
     "name": "stdout",
     "output_type": "stream",
     "text": [
      "                  validation\n",
      " - Yaw          :   3.084244\n",
      " - Pitch        :   1.892216\n",
      " - Roll         :   1.773459\n",
      " - RMS          :   2.697339\n",
      " - 99% Tile     :  12.638048\n"
     ]
    },
    {
     "name": "stderr",
     "output_type": "stream",
     "text": [
      "[0078/0200] Train: 100%|██████████████████████████████| 44/44 [00:07<00:00,  5.76it/s, loss 11.1685]\n",
      "[0078/0200] Validation: 100%|█████████████████████| 42/42 [00:03<00:00, 11.49it/s, val_loss 13.4969]\n",
      "[0079/0200] Train:   0%|                                                     | 0/44 [00:00<?, ?it/s]"
     ]
    },
    {
     "name": "stdout",
     "output_type": "stream",
     "text": [
      "val_loss is not improved for 1 epochs\n",
      "                  validation\n",
      " - Yaw          :   3.101094\n",
      " - Pitch        :   1.917511\n",
      " - Roll         :   1.735405\n",
      " - RMS          :   2.702792\n",
      " - 99% Tile     :  12.763214\n"
     ]
    },
    {
     "name": "stderr",
     "output_type": "stream",
     "text": [
      "[0079/0200] Train: 100%|██████████████████████████████| 44/44 [00:07<00:00,  5.86it/s, loss 11.1123]\n",
      "[0079/0200] Validation: 100%|█████████████████████| 42/42 [00:03<00:00, 12.16it/s, val_loss 13.4411]\n",
      "[0080/0200] Train:   0%|                                                     | 0/44 [00:00<?, ?it/s]"
     ]
    },
    {
     "name": "stdout",
     "output_type": "stream",
     "text": [
      "val_loss is not improved for 2 epochs\n",
      "                  validation\n",
      " - Yaw          :   3.114748\n",
      " - Pitch        :   1.886012\n",
      " - Roll         :   1.736607\n",
      " - RMS          :   2.693791\n",
      " - 99% Tile     :  12.814749\n"
     ]
    },
    {
     "name": "stderr",
     "output_type": "stream",
     "text": [
      "[0080/0200] Train: 100%|██████████████████████████████| 44/44 [00:06<00:00,  6.30it/s, loss 11.0792]\n",
      "[0080/0200] Validation: 100%|█████████████████████| 42/42 [00:03<00:00, 12.00it/s, val_loss 13.5030]\n",
      "[0081/0200] Train:   0%|                                                     | 0/44 [00:00<?, ?it/s]"
     ]
    },
    {
     "name": "stdout",
     "output_type": "stream",
     "text": [
      "Decaying lr from 1.5625e-05 to 7.8125e-06 because val_loss did not improved for 3 epochs\n",
      "val_loss is not improved for 3 epochs\n",
      "                  validation\n",
      " - Yaw          :   3.118840\n",
      " - Pitch        :   1.899040\n",
      " - Roll         :   1.740206\n",
      " - RMS          :   2.700135\n",
      " - 99% Tile     :  12.676990\n"
     ]
    },
    {
     "name": "stderr",
     "output_type": "stream",
     "text": [
      "[0081/0200] Train: 100%|██████████████████████████████| 44/44 [00:07<00:00,  5.73it/s, loss 11.1093]\n",
      "[0081/0200] Validation: 100%|█████████████████████| 42/42 [00:03<00:00, 13.22it/s, val_loss 13.5171]\n",
      "[0082/0200] Train:   0%|                                                     | 0/44 [00:00<?, ?it/s]"
     ]
    },
    {
     "name": "stdout",
     "output_type": "stream",
     "text": [
      "val_loss is not improved for 4 epochs\n",
      "                  validation\n",
      " - Yaw          :   3.110453\n",
      " - Pitch        :   1.913607\n",
      " - Roll         :   1.727494\n",
      " - RMS          :   2.696171\n",
      " - 99% Tile     :  12.691759\n"
     ]
    },
    {
     "name": "stderr",
     "output_type": "stream",
     "text": [
      "[0082/0200] Train: 100%|██████████████████████████████| 44/44 [00:07<00:00,  5.57it/s, loss 11.2207]\n",
      "[0082/0200] Validation: 100%|█████████████████████| 42/42 [00:03<00:00, 13.04it/s, val_loss 13.5574]\n",
      "[0083/0200] Train:   0%|                                                     | 0/44 [00:00<?, ?it/s]"
     ]
    },
    {
     "name": "stdout",
     "output_type": "stream",
     "text": [
      "val_loss is not improved for 5 epochs\n",
      "                  validation\n",
      " - Yaw          :   3.137839\n",
      " - Pitch        :   1.884536\n",
      " - Roll         :   1.728516\n",
      " - RMS          :   2.694899\n",
      " - 99% Tile     :  12.804086\n"
     ]
    },
    {
     "name": "stderr",
     "output_type": "stream",
     "text": [
      "[0083/0200] Train: 100%|██████████████████████████████| 44/44 [00:06<00:00,  6.69it/s, loss 11.0302]\n",
      "[0083/0200] Validation: 100%|█████████████████████| 42/42 [00:04<00:00, 10.14it/s, val_loss 13.4830]\n",
      "[0084/0200] Train:   0%|                                                     | 0/44 [00:00<?, ?it/s]"
     ]
    },
    {
     "name": "stdout",
     "output_type": "stream",
     "text": [
      "Decaying lr from 7.8125e-06 to 3.90625e-06 because val_loss did not improved for 3 epochs\n",
      "val_loss is not improved for 6 epochs\n",
      "                  validation\n",
      " - Yaw          :   3.121814\n",
      " - Pitch        :   1.883498\n",
      " - Roll         :   1.731715\n",
      " - RMS          :   2.692781\n",
      " - 99% Tile     :  12.798841\n"
     ]
    },
    {
     "name": "stderr",
     "output_type": "stream",
     "text": [
      "[0084/0200] Train: 100%|██████████████████████████████| 44/44 [00:07<00:00,  6.02it/s, loss 11.0147]\n",
      "[0084/0200] Validation: 100%|█████████████████████| 42/42 [00:03<00:00, 12.21it/s, val_loss 13.4316]\n",
      "[0085/0200] Train:   0%|                                                     | 0/44 [00:00<?, ?it/s]"
     ]
    },
    {
     "name": "stdout",
     "output_type": "stream",
     "text": [
      "val_loss is not improved for 7 epochs\n",
      "                  validation\n",
      " - Yaw          :   3.097749\n",
      " - Pitch        :   1.903511\n",
      " - Roll         :   1.730896\n",
      " - RMS          :   2.690546\n",
      " - 99% Tile     :  12.700977\n"
     ]
    },
    {
     "name": "stderr",
     "output_type": "stream",
     "text": [
      "[0085/0200] Train: 100%|██████████████████████████████| 44/44 [00:08<00:00,  5.42it/s, loss 10.9856]\n",
      "[0085/0200] Validation: 100%|█████████████████████| 42/42 [00:03<00:00, 12.09it/s, val_loss 13.4688]\n",
      "[0086/0200] Train:   0%|                                                     | 0/44 [00:00<?, ?it/s]"
     ]
    },
    {
     "name": "stdout",
     "output_type": "stream",
     "text": [
      "val_loss is not improved for 8 epochs\n",
      "                  validation\n",
      " - Yaw          :   3.120255\n",
      " - Pitch        :   1.898997\n",
      " - Roll         :   1.722143\n",
      " - RMS          :   2.693752\n",
      " - 99% Tile     :  12.739050\n"
     ]
    },
    {
     "name": "stderr",
     "output_type": "stream",
     "text": [
      "[0086/0200] Train: 100%|██████████████████████████████| 44/44 [00:07<00:00,  6.28it/s, loss 10.8924]\n",
      "[0086/0200] Validation: 100%|█████████████████████| 42/42 [00:04<00:00, 10.27it/s, val_loss 13.5374]\n",
      "[0087/0200] Train:   0%|                                                     | 0/44 [00:00<?, ?it/s]"
     ]
    },
    {
     "name": "stdout",
     "output_type": "stream",
     "text": [
      "Decaying lr from 3.90625e-06 to 1.953125e-06 because val_loss did not improved for 3 epochs\n",
      "val_loss is not improved for 9 epochs\n",
      "                  validation\n",
      " - Yaw          :   3.119783\n",
      " - Pitch        :   1.899780\n",
      " - Roll         :   1.727045\n",
      " - RMS          :   2.695636\n",
      " - 99% Tile     :  12.830393\n"
     ]
    },
    {
     "name": "stderr",
     "output_type": "stream",
     "text": [
      "[0087/0200] Train: 100%|██████████████████████████████| 44/44 [00:06<00:00,  6.41it/s, loss 10.9389]\n",
      "[0087/0200] Validation: 100%|█████████████████████| 42/42 [00:04<00:00,  8.63it/s, val_loss 13.4194]\n",
      "[0088/0200] Train:   0%|                                                     | 0/44 [00:00<?, ?it/s]"
     ]
    },
    {
     "name": "stdout",
     "output_type": "stream",
     "text": [
      "                  validation\n",
      " - Yaw          :   3.116481\n",
      " - Pitch        :   1.884467\n",
      " - Roll         :   1.727904\n",
      " - RMS          :   2.688984\n",
      " - 99% Tile     :  12.731092\n"
     ]
    },
    {
     "name": "stderr",
     "output_type": "stream",
     "text": [
      "[0088/0200] Train: 100%|██████████████████████████████| 44/44 [00:06<00:00,  6.49it/s, loss 11.0505]\n",
      "[0088/0200] Validation: 100%|█████████████████████| 42/42 [00:03<00:00, 10.76it/s, val_loss 13.4762]\n",
      "[0089/0200] Train:   0%|                                                     | 0/44 [00:00<?, ?it/s]"
     ]
    },
    {
     "name": "stdout",
     "output_type": "stream",
     "text": [
      "val_loss is not improved for 1 epochs\n",
      "                  validation\n",
      " - Yaw          :   3.122959\n",
      " - Pitch        :   1.898690\n",
      " - Roll         :   1.729375\n",
      " - RMS          :   2.695447\n",
      " - 99% Tile     :  12.731496\n"
     ]
    },
    {
     "name": "stderr",
     "output_type": "stream",
     "text": [
      "[0089/0200] Train: 100%|██████████████████████████████| 44/44 [00:06<00:00,  6.33it/s, loss 10.9700]\n",
      "[0089/0200] Validation: 100%|█████████████████████| 42/42 [00:04<00:00,  9.00it/s, val_loss 13.4456]\n",
      "[0090/0200] Train:   0%|                                                     | 0/44 [00:00<?, ?it/s]"
     ]
    },
    {
     "name": "stdout",
     "output_type": "stream",
     "text": [
      "val_loss is not improved for 2 epochs\n",
      "                  validation\n",
      " - Yaw          :   3.121644\n",
      " - Pitch        :   1.912167\n",
      " - Roll         :   1.723007\n",
      " - RMS          :   2.702624\n",
      " - 99% Tile     :  12.737894\n"
     ]
    },
    {
     "name": "stderr",
     "output_type": "stream",
     "text": [
      "[0090/0200] Train: 100%|██████████████████████████████| 44/44 [00:06<00:00,  6.38it/s, loss 11.0166]\n",
      "[0090/0200] Validation: 100%|█████████████████████| 42/42 [00:03<00:00, 13.13it/s, val_loss 13.4316]\n",
      "[0091/0200] Train:   0%|                                                     | 0/44 [00:00<?, ?it/s]"
     ]
    },
    {
     "name": "stdout",
     "output_type": "stream",
     "text": [
      "Decaying lr from 1.953125e-06 to 9.765625e-07 because val_loss did not improved for 3 epochs\n",
      "val_loss is not improved for 3 epochs\n",
      "                  validation\n",
      " - Yaw          :   3.122709\n",
      " - Pitch        :   1.888097\n",
      " - Roll         :   1.726400\n",
      " - RMS          :   2.691380\n",
      " - 99% Tile     :  12.764342\n"
     ]
    },
    {
     "name": "stderr",
     "output_type": "stream",
     "text": [
      "[0091/0200] Train: 100%|██████████████████████████████| 44/44 [00:05<00:00,  8.48it/s, loss 10.9156]\n",
      "[0091/0200] Validation: 100%|█████████████████████| 42/42 [00:02<00:00, 14.05it/s, val_loss 13.4673]\n",
      "[0092/0200] Train:   0%|                                                     | 0/44 [00:00<?, ?it/s]"
     ]
    },
    {
     "name": "stdout",
     "output_type": "stream",
     "text": [
      "val_loss is not improved for 4 epochs\n",
      "                  validation\n",
      " - Yaw          :   3.124909\n",
      " - Pitch        :   1.889049\n",
      " - Roll         :   1.726854\n",
      " - RMS          :   2.695429\n",
      " - 99% Tile     :  12.812347\n"
     ]
    },
    {
     "name": "stderr",
     "output_type": "stream",
     "text": [
      "[0092/0200] Train: 100%|██████████████████████████████| 44/44 [00:05<00:00,  8.38it/s, loss 11.3681]\n",
      "[0092/0200] Validation: 100%|█████████████████████| 42/42 [00:02<00:00, 14.81it/s, val_loss 13.4078]\n",
      "[0093/0200] Train:   0%|                                                     | 0/44 [00:00<?, ?it/s]"
     ]
    },
    {
     "name": "stdout",
     "output_type": "stream",
     "text": [
      "                  validation\n",
      " - Yaw          :   3.113092\n",
      " - Pitch        :   1.871716\n",
      " - Roll         :   1.735273\n",
      " - RMS          :   2.687272\n",
      " - 99% Tile     :  12.757790\n"
     ]
    },
    {
     "name": "stderr",
     "output_type": "stream",
     "text": [
      "[0093/0200] Train: 100%|██████████████████████████████| 44/44 [00:05<00:00,  8.08it/s, loss 11.2006]\n",
      "[0093/0200] Validation: 100%|█████████████████████| 42/42 [00:02<00:00, 14.20it/s, val_loss 13.4219]\n",
      "[0094/0200] Train:   0%|                                                     | 0/44 [00:00<?, ?it/s]"
     ]
    },
    {
     "name": "stdout",
     "output_type": "stream",
     "text": [
      "val_loss is not improved for 1 epochs\n",
      "                  validation\n",
      " - Yaw          :   3.120422\n",
      " - Pitch        :   1.917928\n",
      " - Roll         :   1.725317\n",
      " - RMS          :   2.697807\n",
      " - 99% Tile     :  12.721243\n"
     ]
    },
    {
     "name": "stderr",
     "output_type": "stream",
     "text": [
      "[0094/0200] Train: 100%|██████████████████████████████| 44/44 [00:05<00:00,  8.20it/s, loss 11.0601]\n",
      "[0094/0200] Validation: 100%|█████████████████████| 42/42 [00:02<00:00, 15.18it/s, val_loss 13.5222]\n",
      "[0095/0200] Train:   0%|                                                     | 0/44 [00:00<?, ?it/s]"
     ]
    },
    {
     "name": "stdout",
     "output_type": "stream",
     "text": [
      "val_loss is not improved for 2 epochs\n",
      "                  validation\n",
      " - Yaw          :   3.116001\n",
      " - Pitch        :   1.903513\n",
      " - Roll         :   1.722092\n",
      " - RMS          :   2.693349\n",
      " - 99% Tile     :  12.742461\n"
     ]
    },
    {
     "name": "stderr",
     "output_type": "stream",
     "text": [
      "[0095/0200] Train: 100%|██████████████████████████████| 44/44 [00:05<00:00,  8.26it/s, loss 11.0697]\n",
      "[0095/0200] Validation: 100%|█████████████████████| 42/42 [00:02<00:00, 18.66it/s, val_loss 13.4139]\n",
      "[0096/0200] Train:   0%|                                                     | 0/44 [00:00<?, ?it/s]"
     ]
    },
    {
     "name": "stdout",
     "output_type": "stream",
     "text": [
      "Decaying lr from 9.765625e-07 to 4.8828125e-07 because val_loss did not improved for 3 epochs\n",
      "val_loss is not improved for 3 epochs\n",
      "                  validation\n",
      " - Yaw          :   3.120776\n",
      " - Pitch        :   1.886691\n",
      " - Roll         :   1.725925\n",
      " - RMS          :   2.688036\n",
      " - 99% Tile     :  12.735165\n"
     ]
    },
    {
     "name": "stderr",
     "output_type": "stream",
     "text": [
      "[0096/0200] Train: 100%|██████████████████████████████| 44/44 [00:04<00:00, 10.37it/s, loss 11.2665]\n",
      "[0096/0200] Validation: 100%|█████████████████████| 42/42 [00:02<00:00, 19.96it/s, val_loss 13.4759]\n",
      "[0097/0200] Train:   0%|                                                     | 0/44 [00:00<?, ?it/s]"
     ]
    },
    {
     "name": "stdout",
     "output_type": "stream",
     "text": [
      "val_loss is not improved for 4 epochs\n",
      "                  validation\n",
      " - Yaw          :   3.128566\n",
      " - Pitch        :   1.895220\n",
      " - Roll         :   1.721055\n",
      " - RMS          :   2.691545\n",
      " - 99% Tile     :  12.785726\n"
     ]
    },
    {
     "name": "stderr",
     "output_type": "stream",
     "text": [
      "[0097/0200] Train: 100%|██████████████████████████████| 44/44 [00:04<00:00, 10.54it/s, loss 11.1787]\n",
      "[0097/0200] Validation: 100%|█████████████████████| 42/42 [00:02<00:00, 19.39it/s, val_loss 13.4404]\n",
      "[0098/0200] Train:   0%|                                                     | 0/44 [00:00<?, ?it/s]"
     ]
    },
    {
     "name": "stdout",
     "output_type": "stream",
     "text": [
      "val_loss is not improved for 5 epochs\n",
      "                  validation\n",
      " - Yaw          :   3.113038\n",
      " - Pitch        :   1.900811\n",
      " - Roll         :   1.732501\n",
      " - RMS          :   2.690890\n",
      " - 99% Tile     :  12.762381\n"
     ]
    },
    {
     "name": "stderr",
     "output_type": "stream",
     "text": [
      "[0098/0200] Train: 100%|██████████████████████████████| 44/44 [00:04<00:00, 10.39it/s, loss 10.9450]\n",
      "[0098/0200] Validation: 100%|█████████████████████| 42/42 [00:02<00:00, 19.44it/s, val_loss 13.4968]\n",
      "[0099/0200] Train:   0%|                                                     | 0/44 [00:00<?, ?it/s]"
     ]
    },
    {
     "name": "stdout",
     "output_type": "stream",
     "text": [
      "Decaying lr from 4.8828125e-07 to 2.44140625e-07 because val_loss did not improved for 3 epochs\n",
      "val_loss is not improved for 6 epochs\n",
      "                  validation\n",
      " - Yaw          :   3.128033\n",
      " - Pitch        :   1.941331\n",
      " - Roll         :   1.719621\n",
      " - RMS          :   2.705127\n",
      " - 99% Tile     :  12.722187\n"
     ]
    },
    {
     "name": "stderr",
     "output_type": "stream",
     "text": [
      "[0099/0200] Train: 100%|██████████████████████████████| 44/44 [00:04<00:00, 10.51it/s, loss 10.9413]\n",
      "[0099/0200] Validation: 100%|█████████████████████| 42/42 [00:02<00:00, 19.29it/s, val_loss 13.5072]\n",
      "[0100/0200] Train:   0%|                                                     | 0/44 [00:00<?, ?it/s]"
     ]
    },
    {
     "name": "stdout",
     "output_type": "stream",
     "text": [
      "val_loss is not improved for 7 epochs\n",
      "                  validation\n",
      " - Yaw          :   3.134460\n",
      " - Pitch        :   1.902400\n",
      " - Roll         :   1.719127\n",
      " - RMS          :   2.697676\n",
      " - 99% Tile     :  12.800594\n"
     ]
    },
    {
     "name": "stderr",
     "output_type": "stream",
     "text": [
      "[0100/0200] Train: 100%|██████████████████████████████| 44/44 [00:04<00:00, 10.50it/s, loss 10.9130]\n",
      "[0100/0200] Validation: 100%|█████████████████████| 42/42 [00:02<00:00, 19.41it/s, val_loss 13.4293]\n",
      "[0101/0200] Train:   0%|                                                     | 0/44 [00:00<?, ?it/s]"
     ]
    },
    {
     "name": "stdout",
     "output_type": "stream",
     "text": [
      "val_loss is not improved for 8 epochs\n",
      "                  validation\n",
      " - Yaw          :   3.118628\n",
      " - Pitch        :   1.882310\n",
      " - Roll         :   1.727702\n",
      " - RMS          :   2.688531\n",
      " - 99% Tile     :  12.785062\n"
     ]
    },
    {
     "name": "stderr",
     "output_type": "stream",
     "text": [
      "[0101/0200] Train: 100%|██████████████████████████████| 44/44 [00:04<00:00, 10.49it/s, loss 10.9784]\n",
      "[0101/0200] Validation: 100%|█████████████████████| 42/42 [00:02<00:00, 19.85it/s, val_loss 13.4897]\n",
      "[0102/0200] Train:   0%|                                                     | 0/44 [00:00<?, ?it/s]"
     ]
    },
    {
     "name": "stdout",
     "output_type": "stream",
     "text": [
      "Decaying lr from 2.44140625e-07 to 1.220703125e-07 because val_loss did not improved for 3 epochs\n",
      "val_loss is not improved for 9 epochs\n",
      "                  validation\n",
      " - Yaw          :   3.121631\n",
      " - Pitch        :   1.913873\n",
      " - Roll         :   1.719199\n",
      " - RMS          :   2.696762\n",
      " - 99% Tile     :  12.713276\n"
     ]
    },
    {
     "name": "stderr",
     "output_type": "stream",
     "text": [
      "[0102/0200] Train: 100%|██████████████████████████████| 44/44 [00:04<00:00, 10.34it/s, loss 10.9529]\n",
      "[0102/0200] Validation: 100%|█████████████████████| 42/42 [00:02<00:00, 19.67it/s, val_loss 13.5779]"
     ]
    },
    {
     "name": "stdout",
     "output_type": "stream",
     "text": [
      "val_loss is not improved for 10 epochs\n",
      "Stop training because val_loss did not improved for 10 epochs\n",
      "                  validation\n",
      " - Yaw          :   3.152135\n",
      " - Pitch        :   1.907612\n",
      " - Roll         :   1.722042\n",
      " - RMS          :   2.703767\n",
      " - 99% Tile     :  12.714995\n"
     ]
    },
    {
     "name": "stderr",
     "output_type": "stream",
     "text": [
      "\n"
     ]
    }
   ],
   "source": [
    "trainer.fit(ds_train, ds_test, num_epochs=200, batch_size=256, shuffle=True, pin_memory=True)"
   ]
  },
  {
   "cell_type": "code",
   "execution_count": null,
   "metadata": {},
   "outputs": [],
   "source": []
  }
 ],
 "metadata": {
  "kernelspec": {
   "display_name": "torch",
   "language": "python",
   "name": "torch"
  },
  "language_info": {
   "codemirror_mode": {
    "name": "ipython",
    "version": 3
   },
   "file_extension": ".py",
   "mimetype": "text/x-python",
   "name": "python",
   "nbconvert_exporter": "python",
   "pygments_lexer": "ipython3",
   "version": "3.7.9"
  }
 },
 "nbformat": 4,
 "nbformat_minor": 4
}
