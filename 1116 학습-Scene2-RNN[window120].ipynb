{
 "cells": [
  {
   "cell_type": "markdown",
   "metadata": {},
   "source": [
    "# 학습 방법 - Scene\n",
    "\n",
    "3개의 Scene에 대해서 각각 따로 학습\n",
    "\n",
    "user별로 학습을 하지 않는 이유는 상관관계로 보았을 때 user끼리는 달라도 scene별로는 유사점이 꽤 보였기 때문."
   ]
  },
  {
   "cell_type": "code",
   "execution_count": 1,
   "metadata": {},
   "outputs": [],
   "source": [
    "from multiprocessing import cpu_count\n",
    "from pathlib import Path\n",
    "from typing import List, Union, AnyStr\n",
    "from math import pi\n",
    "import pickle\n",
    "\n",
    "import numpy as np\n",
    "import torch\n",
    "import matplotlib.pyplot as plt\n",
    "import torch.nn as nn\n",
    "from sklearn import model_selection\n",
    "from tqdm import tqdm\n",
    "import torch_optimizer\n",
    "from torch.utils.data import Dataset\n",
    "import pandas as pd\n",
    "import random\n",
    "\n",
    "import torch_burn as tb\n",
    "import utils"
   ]
  },
  {
   "cell_type": "code",
   "execution_count": 2,
   "metadata": {},
   "outputs": [],
   "source": [
    "EXPERIMENT_NAME = 'Scene2-LSTM[Window120]'\n",
    "CHECKPOINT_DIR = Path('checkpoint', EXPERIMENT_NAME)\n",
    "CHECKPOINT_DIR.mkdir(parents=True, exist_ok=True)\n",
    "\n",
    "DATA_DIR = Path('data/1116')\n",
    "TRAIN_FILES = sorted(list(DATA_DIR.glob('*scene1_0.csv')))\n",
    "TEST_FILES = sorted(list(DATA_DIR.glob('*scene1_1.csv')))"
   ]
  },
  {
   "cell_type": "markdown",
   "metadata": {},
   "source": [
    "# 데이터셋 생성\n",
    "\n",
    "scene1에 대해서 모든 user의 데이터를 하나로 합친다."
   ]
  },
  {
   "cell_type": "code",
   "execution_count": 3,
   "metadata": {},
   "outputs": [],
   "source": [
    "WINDOW_SIZE = 120"
   ]
  },
  {
   "cell_type": "code",
   "execution_count": 4,
   "metadata": {},
   "outputs": [],
   "source": [
    "class CSVSequentialDataset(Dataset):\n",
    "    def __init__(self, csvfile,\n",
    "                 window_size=300, randomized_window_size=False,\n",
    "                 stride=30, randomized_stride=False):\n",
    "        super(CSVSequentialDataset, self).__init__()\n",
    "\n",
    "        self.xcols = ['input_orientation_yaw', 'input_orientation_pitch', 'input_orientation_roll',\n",
    "                      'acceleration_x', 'acceleration_y', 'acceleration_z']\n",
    "        self.ycols = ['input_orientation_yaw', 'input_orientation_pitch', 'input_orientation_roll']\n",
    "\n",
    "        self.csv = pd.read_csv(csvfile)\n",
    "        self.window_size = window_size\n",
    "\n",
    "        self.indexes = []\n",
    "        i = 0\n",
    "        while i <= len(self.csv) - window_size * 2:\n",
    "            if randomized_window_size:\n",
    "                self.indexes.append((i, i + random.randint(window_size // 2, window_size)))\n",
    "            else:\n",
    "                self.indexes.append((i, i + window_size))\n",
    "\n",
    "            if randomized_stride:\n",
    "                i += random.randint(1, stride)\n",
    "            else:\n",
    "                i += stride\n",
    "\n",
    "    def __len__(self):\n",
    "        return len(self.indexes)\n",
    "\n",
    "    def __getitem__(self, idx):\n",
    "        s, t = self.indexes[idx]\n",
    "        x = self.csv.iloc[s:t][self.xcols].to_numpy()\n",
    "        y = self.csv.iloc[t + 6][self.ycols].to_numpy()\n",
    "\n",
    "        x = torch.tensor(x, dtype=torch.float32) # 300, 6\n",
    "        y = torch.tensor(y, dtype=torch.float32) # 3\n",
    "        \n",
    "        #x[:, :3] *= pi / 180\n",
    "        x[:, 3:] /= 10\n",
    "\n",
    "        return x, y"
   ]
  },
  {
   "cell_type": "code",
   "execution_count": 5,
   "metadata": {},
   "outputs": [],
   "source": [
    "ds_train = [CSVSequentialDataset(f,  \n",
    "                                 window_size=WINDOW_SIZE, randomized_window_size=False,\n",
    "                                 stride=5, randomized_stride=True) for f in TRAIN_FILES]\n",
    "ds_train = tb.data.ChainDataset(*ds_train)\n",
    "ds_test = [CSVSequentialDataset(f,  \n",
    "                                window_size=WINDOW_SIZE, randomized_window_size=False,\n",
    "                                stride=5, randomized_stride=True) for f in TEST_FILES]\n",
    "ds_test = tb.data.ChainDataset(*ds_test)"
   ]
  },
  {
   "cell_type": "code",
   "execution_count": 6,
   "metadata": {},
   "outputs": [
    {
     "data": {
      "text/plain": [
       "(18114, 18818)"
      ]
     },
     "execution_count": 6,
     "metadata": {},
     "output_type": "execute_result"
    }
   ],
   "source": [
    "len(ds_train), len(ds_test)"
   ]
  },
  {
   "cell_type": "code",
   "execution_count": 7,
   "metadata": {},
   "outputs": [
    {
     "data": {
      "text/plain": [
       "(torch.Size([120, 6]), torch.Size([3]))"
      ]
     },
     "execution_count": 7,
     "metadata": {},
     "output_type": "execute_result"
    }
   ],
   "source": [
    "ds_train[0][0].shape, ds_train[0][1].shape"
   ]
  },
  {
   "cell_type": "code",
   "execution_count": 8,
   "metadata": {},
   "outputs": [],
   "source": [
    "x, y = ds_train[0]"
   ]
  },
  {
   "cell_type": "code",
   "execution_count": 9,
   "metadata": {},
   "outputs": [
    {
     "data": {
      "text/plain": [
       "torch.Size([120, 6])"
      ]
     },
     "execution_count": 9,
     "metadata": {},
     "output_type": "execute_result"
    }
   ],
   "source": [
    "x.shape"
   ]
  },
  {
   "cell_type": "code",
   "execution_count": 10,
   "metadata": {},
   "outputs": [
    {
     "data": {
      "text/plain": [
       "[<matplotlib.lines.Line2D at 0x7ff4b11e2750>]"
      ]
     },
     "execution_count": 10,
     "metadata": {},
     "output_type": "execute_result"
    },
    {
     "data": {
      "image/png": "[encoded data removed]",
      "text/plain": [
       "<Figure size 432x288 with 1 Axes>"
      ]
     },
     "metadata": {
      "needs_background": "light"
     },
     "output_type": "display_data"
    }
   ],
   "source": [
    "plt.plot(x[:, 2])"
   ]
  },
  {
   "cell_type": "markdown",
   "metadata": {},
   "source": [
    "# 모델 생성\n",
    "\n",
    "StackedLSTM Bidirectional"
   ]
  },
  {
   "cell_type": "code",
   "execution_count": 11,
   "metadata": {},
   "outputs": [],
   "source": [
    "model = utils.BaselineLSTM(input_size=6,\n",
    "                           hidden_size=64,\n",
    "                           num_layers=8,\n",
    "                           dropout=0.2,\n",
    "                           bidirectional=True).cuda()"
   ]
  },
  {
   "cell_type": "code",
   "execution_count": 12,
   "metadata": {},
   "outputs": [],
   "source": [
    "criterion = nn.MSELoss().cuda()\n",
    "optimizer = torch_optimizer.RAdam(model.parameters())"
   ]
  },
  {
   "cell_type": "code",
   "execution_count": 13,
   "metadata": {},
   "outputs": [],
   "source": [
    "metrics = [tb.metrics.ModuleMetric(criterion, 'loss'),\n",
    "           utils.HPMetric('hp_metric'),\n",
    "           utils.HPSignalHistory(CHECKPOINT_DIR / 'sample' / '{epoch:04d}.npy', 'hp_signal')]"
   ]
  },
  {
   "cell_type": "code",
   "execution_count": 14,
   "metadata": {},
   "outputs": [],
   "source": [
    "callbacks = [tb.callbacks.EarlyStopping(metrics[0]),\n",
    "             tb.callbacks.LRDecaying(optimizer, metrics[0])]"
   ]
  },
  {
   "cell_type": "code",
   "execution_count": 15,
   "metadata": {},
   "outputs": [],
   "source": [
    "trainer = tb.Trainer(model, optimizer, metrics, callbacks, ncols=100)"
   ]
  },
  {
   "cell_type": "code",
   "execution_count": 16,
   "metadata": {},
   "outputs": [
    {
     "name": "stderr",
     "output_type": "stream",
     "text": [
      "[0001/0100] Train: 100%|█████████████████████████████| 71/71 [00:18<00:00,  3.74it/s, loss 199.2282]\n",
      "[0001/0100] Validation: 100%|████████████████████| 74/74 [00:04<00:00, 14.94it/s, val_loss 150.2082]\n",
      "[0002/0100] Train:   0%|                                                     | 0/71 [00:00<?, ?it/s]"
     ]
    },
    {
     "name": "stdout",
     "output_type": "stream",
     "text": [
      "                  validation\n",
      " - Yaw          :   9.707461\n",
      " - Pitch        :  12.123330\n",
      " - Roll         :   3.107818\n",
      " - RMS          :   9.144551\n",
      " - 99% Tile     :  43.898680\n",
      "Save output signals into checkpoint/Scene2-LSTM[Window120]/sample/0001.npy\n"
     ]
    },
    {
     "name": "stderr",
     "output_type": "stream",
     "text": [
      "[0002/0100] Train: 100%|█████████████████████████████| 71/71 [00:19<00:00,  3.73it/s, loss 164.3888]\n",
      "[0002/0100] Validation: 100%|████████████████████| 74/74 [00:04<00:00, 14.81it/s, val_loss 114.8992]\n",
      "[0003/0100] Train:   0%|                                                     | 0/71 [00:00<?, ?it/s]"
     ]
    },
    {
     "name": "stdout",
     "output_type": "stream",
     "text": [
      "                  validation\n",
      " - Yaw          :   9.235278\n",
      " - Pitch        :   9.163331\n",
      " - Roll         :   3.080281\n",
      " - RMS          :   7.718919\n",
      " - 99% Tile     :  41.174661\n",
      "Save output signals into checkpoint/Scene2-LSTM[Window120]/sample/0002.npy\n"
     ]
    },
    {
     "name": "stderr",
     "output_type": "stream",
     "text": [
      "[0003/0100] Train: 100%|█████████████████████████████| 71/71 [00:15<00:00,  4.51it/s, loss 139.8617]\n",
      "[0003/0100] Validation: 100%|████████████████████| 74/74 [00:04<00:00, 14.88it/s, val_loss 101.9622]\n",
      "[0004/0100] Train:   0%|                                                     | 0/71 [00:00<?, ?it/s]"
     ]
    },
    {
     "name": "stdout",
     "output_type": "stream",
     "text": [
      "                  validation\n",
      " - Yaw          :   9.113228\n",
      " - Pitch        :   8.118725\n",
      " - Roll         :   3.080488\n",
      " - RMS          :   7.267600\n",
      " - 99% Tile     :  38.927922\n",
      "Save output signals into checkpoint/Scene2-LSTM[Window120]/sample/0003.npy\n"
     ]
    },
    {
     "name": "stderr",
     "output_type": "stream",
     "text": [
      "[0004/0100] Train: 100%|█████████████████████████████| 71/71 [00:18<00:00,  3.78it/s, loss 117.3327]\n",
      "[0004/0100] Validation: 100%|█████████████████████| 74/74 [00:05<00:00, 14.66it/s, val_loss 77.1447]\n",
      "[0005/0100] Train:   0%|                                                     | 0/71 [00:00<?, ?it/s]"
     ]
    },
    {
     "name": "stdout",
     "output_type": "stream",
     "text": [
      "                  validation\n",
      " - Yaw          :   6.758407\n",
      " - Pitch        :   7.248407\n",
      " - Roll         :   2.977690\n",
      " - RMS          :   5.974449\n",
      " - 99% Tile     :  34.979325\n",
      "Save output signals into checkpoint/Scene2-LSTM[Window120]/sample/0004.npy\n"
     ]
    },
    {
     "name": "stderr",
     "output_type": "stream",
     "text": [
      "[0005/0100] Train: 100%|██████████████████████████████| 71/71 [00:19<00:00,  3.70it/s, loss 87.8926]\n",
      "[0005/0100] Validation: 100%|█████████████████████| 74/74 [00:05<00:00, 14.51it/s, val_loss 56.8474]\n",
      "[0006/0100] Train:   0%|                                                     | 0/71 [00:00<?, ?it/s]"
     ]
    },
    {
     "name": "stdout",
     "output_type": "stream",
     "text": [
      "                  validation\n",
      " - Yaw          :   5.022059\n",
      " - Pitch        :   5.647984\n",
      " - Roll         :   2.999225\n",
      " - RMS          :   4.694541\n",
      " - 99% Tile     :  31.755399\n",
      "Save output signals into checkpoint/Scene2-LSTM[Window120]/sample/0005.npy\n"
     ]
    },
    {
     "name": "stderr",
     "output_type": "stream",
     "text": [
      "[0006/0100] Train: 100%|██████████████████████████████| 71/71 [00:19<00:00,  3.71it/s, loss 68.5490]\n",
      "[0006/0100] Validation: 100%|█████████████████████| 74/74 [00:05<00:00, 14.05it/s, val_loss 45.2111]\n",
      "[0007/0100] Train:   0%|                                                     | 0/71 [00:00<?, ?it/s]"
     ]
    },
    {
     "name": "stdout",
     "output_type": "stream",
     "text": [
      "                  validation\n",
      " - Yaw          :   4.528611\n",
      " - Pitch        :   4.314840\n",
      " - Roll         :   2.920445\n",
      " - RMS          :   3.985606\n",
      " - 99% Tile     :  29.074381\n",
      "Save output signals into checkpoint/Scene2-LSTM[Window120]/sample/0006.npy\n"
     ]
    },
    {
     "name": "stderr",
     "output_type": "stream",
     "text": [
      "[0007/0100] Train: 100%|██████████████████████████████| 71/71 [00:17<00:00,  3.98it/s, loss 53.7976]\n",
      "[0007/0100] Validation: 100%|█████████████████████| 74/74 [00:05<00:00, 14.10it/s, val_loss 36.0323]\n",
      "[0008/0100] Train:   0%|                                                     | 0/71 [00:00<?, ?it/s]"
     ]
    },
    {
     "name": "stdout",
     "output_type": "stream",
     "text": [
      "                  validation\n",
      " - Yaw          :   3.515404\n",
      " - Pitch        :   3.528678\n",
      " - Roll         :   2.832698\n",
      " - RMS          :   3.308263\n",
      " - 99% Tile     :  26.560640\n",
      "Save output signals into checkpoint/Scene2-LSTM[Window120]/sample/0007.npy\n"
     ]
    },
    {
     "name": "stderr",
     "output_type": "stream",
     "text": [
      "[0008/0100] Train: 100%|██████████████████████████████| 71/71 [00:18<00:00,  3.84it/s, loss 43.2112]\n",
      "[0008/0100] Validation: 100%|█████████████████████| 74/74 [00:05<00:00, 13.83it/s, val_loss 30.1148]\n",
      "[0009/0100] Train:   0%|                                                     | 0/71 [00:00<?, ?it/s]"
     ]
    },
    {
     "name": "stdout",
     "output_type": "stream",
     "text": [
      "                  validation\n",
      " - Yaw          :   3.225881\n",
      " - Pitch        :   3.064713\n",
      " - Roll         :   2.735639\n",
      " - RMS          :   3.015653\n",
      " - 99% Tile     :  24.242294\n",
      "Save output signals into checkpoint/Scene2-LSTM[Window120]/sample/0008.npy\n"
     ]
    },
    {
     "name": "stderr",
     "output_type": "stream",
     "text": [
      "[0009/0100] Train: 100%|██████████████████████████████| 71/71 [00:19<00:00,  3.68it/s, loss 35.3951]\n",
      "[0009/0100] Validation: 100%|█████████████████████| 74/74 [00:05<00:00, 14.15it/s, val_loss 25.5129]\n",
      "[0010/0100] Train:   0%|                                                     | 0/71 [00:00<?, ?it/s]"
     ]
    },
    {
     "name": "stdout",
     "output_type": "stream",
     "text": [
      "                  validation\n",
      " - Yaw          :   2.615656\n",
      " - Pitch        :   2.620264\n",
      " - Roll         :   2.705732\n",
      " - RMS          :   2.647541\n",
      " - 99% Tile     :  22.122717\n",
      "Save output signals into checkpoint/Scene2-LSTM[Window120]/sample/0009.npy\n"
     ]
    },
    {
     "name": "stderr",
     "output_type": "stream",
     "text": [
      "[0010/0100] Train: 100%|██████████████████████████████| 71/71 [00:19<00:00,  3.69it/s, loss 29.1975]\n",
      "[0010/0100] Validation: 100%|█████████████████████| 74/74 [00:05<00:00, 13.74it/s, val_loss 22.0503]\n",
      "[0011/0100] Train:   0%|                                                     | 0/71 [00:00<?, ?it/s]"
     ]
    },
    {
     "name": "stdout",
     "output_type": "stream",
     "text": [
      "                  validation\n",
      " - Yaw          :   2.511599\n",
      " - Pitch        :   2.488844\n",
      " - Roll         :   2.419773\n",
      " - RMS          :   2.473714\n",
      " - 99% Tile     :  20.398889\n",
      "Save output signals into checkpoint/Scene2-LSTM[Window120]/sample/0010.npy\n"
     ]
    },
    {
     "name": "stderr",
     "output_type": "stream",
     "text": [
      "[0011/0100] Train: 100%|██████████████████████████████| 71/71 [00:18<00:00,  3.75it/s, loss 24.4363]\n",
      "[0011/0100] Validation: 100%|█████████████████████| 74/74 [00:05<00:00, 13.66it/s, val_loss 19.3630]\n",
      "[0012/0100] Train:   0%|                                                     | 0/71 [00:00<?, ?it/s]"
     ]
    },
    {
     "name": "stdout",
     "output_type": "stream",
     "text": [
      "                  validation\n",
      " - Yaw          :   2.270344\n",
      " - Pitch        :   2.352396\n",
      " - Roll         :   2.306004\n",
      " - RMS          :   2.309826\n",
      " - 99% Tile     :  18.882358\n",
      "Save output signals into checkpoint/Scene2-LSTM[Window120]/sample/0011.npy\n"
     ]
    },
    {
     "name": "stderr",
     "output_type": "stream",
     "text": [
      "[0012/0100] Train: 100%|██████████████████████████████| 71/71 [00:19<00:00,  3.65it/s, loss 20.5027]\n",
      "[0012/0100] Validation: 100%|█████████████████████| 74/74 [00:05<00:00, 14.19it/s, val_loss 16.8488]\n",
      "[0013/0100] Train:   0%|                                                     | 0/71 [00:00<?, ?it/s]"
     ]
    },
    {
     "name": "stdout",
     "output_type": "stream",
     "text": [
      "                  validation\n",
      " - Yaw          :   2.073145\n",
      " - Pitch        :   2.047176\n",
      " - Roll         :   2.161288\n",
      " - RMS          :   2.094439\n",
      " - 99% Tile     :  17.908372\n",
      "Save output signals into checkpoint/Scene2-LSTM[Window120]/sample/0012.npy\n"
     ]
    },
    {
     "name": "stderr",
     "output_type": "stream",
     "text": [
      "[0013/0100] Train: 100%|██████████████████████████████| 71/71 [00:18<00:00,  3.78it/s, loss 17.4059]\n",
      "[0013/0100] Validation: 100%|█████████████████████| 74/74 [00:04<00:00, 15.00it/s, val_loss 15.2041]\n",
      "[0014/0100] Train:   0%|                                                     | 0/71 [00:00<?, ?it/s]"
     ]
    },
    {
     "name": "stdout",
     "output_type": "stream",
     "text": [
      "                  validation\n",
      " - Yaw          :   1.948657\n",
      " - Pitch        :   1.853716\n",
      " - Roll         :   2.028297\n",
      " - RMS          :   1.944866\n",
      " - 99% Tile     :  16.848771\n",
      "Save output signals into checkpoint/Scene2-LSTM[Window120]/sample/0013.npy\n"
     ]
    },
    {
     "name": "stderr",
     "output_type": "stream",
     "text": [
      "[0014/0100] Train: 100%|██████████████████████████████| 71/71 [00:19<00:00,  3.72it/s, loss 14.6716]\n",
      "[0014/0100] Validation: 100%|█████████████████████| 74/74 [00:05<00:00, 14.46it/s, val_loss 13.4418]\n",
      "[0015/0100] Train:   0%|                                                     | 0/71 [00:00<?, ?it/s]"
     ]
    },
    {
     "name": "stdout",
     "output_type": "stream",
     "text": [
      "                  validation\n",
      " - Yaw          :   1.771009\n",
      " - Pitch        :   1.897350\n",
      " - Roll         :   1.789620\n",
      " - RMS          :   1.820179\n",
      " - 99% Tile     :  15.768530\n",
      "Save output signals into checkpoint/Scene2-LSTM[Window120]/sample/0014.npy\n"
     ]
    },
    {
     "name": "stderr",
     "output_type": "stream",
     "text": [
      "[0015/0100] Train: 100%|██████████████████████████████| 71/71 [00:16<00:00,  4.19it/s, loss 12.4972]\n",
      "[0015/0100] Validation: 100%|█████████████████████| 74/74 [00:04<00:00, 15.54it/s, val_loss 11.9772]\n",
      "[0016/0100] Train:   0%|                                                     | 0/71 [00:00<?, ?it/s]"
     ]
    },
    {
     "name": "stdout",
     "output_type": "stream",
     "text": [
      "                  validation\n",
      " - Yaw          :   1.773982\n",
      " - Pitch        :   1.710265\n",
      " - Roll         :   1.640865\n",
      " - RMS          :   1.709235\n",
      " - 99% Tile     :  14.578823\n",
      "Save output signals into checkpoint/Scene2-LSTM[Window120]/sample/0015.npy\n"
     ]
    },
    {
     "name": "stderr",
     "output_type": "stream",
     "text": [
      "[0016/0100] Train: 100%|██████████████████████████████| 71/71 [00:18<00:00,  3.76it/s, loss 10.7085]\n",
      "[0016/0100] Validation: 100%|█████████████████████| 74/74 [00:04<00:00, 15.05it/s, val_loss 10.9111]\n",
      "[0017/0100] Train:   0%|                                                     | 0/71 [00:00<?, ?it/s]"
     ]
    },
    {
     "name": "stdout",
     "output_type": "stream",
     "text": [
      "                  validation\n",
      " - Yaw          :   1.675241\n",
      " - Pitch        :   1.401283\n",
      " - Roll         :   1.490406\n",
      " - RMS          :   1.526580\n",
      " - 99% Tile     :  14.340537\n",
      "Save output signals into checkpoint/Scene2-LSTM[Window120]/sample/0016.npy\n"
     ]
    },
    {
     "name": "stderr",
     "output_type": "stream",
     "text": [
      "[0017/0100] Train: 100%|███████████████████████████████| 71/71 [00:18<00:00,  3.81it/s, loss 9.4217]\n",
      "[0017/0100] Validation: 100%|█████████████████████| 74/74 [00:05<00:00, 14.57it/s, val_loss 10.2321]\n",
      "[0018/0100] Train:   0%|                                                     | 0/71 [00:00<?, ?it/s]"
     ]
    },
    {
     "name": "stdout",
     "output_type": "stream",
     "text": [
      "                  validation\n",
      " - Yaw          :   1.509665\n",
      " - Pitch        :   1.774807\n",
      " - Roll         :   1.395761\n",
      " - RMS          :   1.568139\n",
      " - 99% Tile     :  13.583046\n",
      "Save output signals into checkpoint/Scene2-LSTM[Window120]/sample/0017.npy\n"
     ]
    },
    {
     "name": "stderr",
     "output_type": "stream",
     "text": [
      "[0018/0100] Train: 100%|███████████████████████████████| 71/71 [00:18<00:00,  3.77it/s, loss 8.1197]\n",
      "[0018/0100] Validation: 100%|██████████████████████| 74/74 [00:05<00:00, 14.07it/s, val_loss 9.4103]\n",
      "[0019/0100] Train:   0%|                                                     | 0/71 [00:00<?, ?it/s]"
     ]
    },
    {
     "name": "stdout",
     "output_type": "stream",
     "text": [
      "                  validation\n",
      " - Yaw          :   1.375708\n",
      " - Pitch        :   1.413584\n",
      " - Roll         :   1.480834\n",
      " - RMS          :   1.424039\n",
      " - 99% Tile     :  13.146063\n",
      "Save output signals into checkpoint/Scene2-LSTM[Window120]/sample/0018.npy\n"
     ]
    },
    {
     "name": "stderr",
     "output_type": "stream",
     "text": [
      "[0019/0100] Train: 100%|███████████████████████████████| 71/71 [00:19<00:00,  3.70it/s, loss 7.1961]\n",
      "[0019/0100] Validation: 100%|██████████████████████| 74/74 [00:05<00:00, 13.82it/s, val_loss 9.2532]\n",
      "[0020/0100] Train:   0%|                                                     | 0/71 [00:00<?, ?it/s]"
     ]
    },
    {
     "name": "stdout",
     "output_type": "stream",
     "text": [
      "                  validation\n",
      " - Yaw          :   1.531071\n",
      " - Pitch        :   1.366969\n",
      " - Roll         :   1.320068\n",
      " - RMS          :   1.408943\n",
      " - 99% Tile     :  12.572573\n",
      "Save output signals into checkpoint/Scene2-LSTM[Window120]/sample/0019.npy\n"
     ]
    },
    {
     "name": "stderr",
     "output_type": "stream",
     "text": [
      "[0020/0100] Train: 100%|███████████████████████████████| 71/71 [00:18<00:00,  3.79it/s, loss 6.3456]\n",
      "[0020/0100] Validation: 100%|██████████████████████| 74/74 [00:05<00:00, 13.92it/s, val_loss 8.4877]\n",
      "[0021/0100] Train:   0%|                                                     | 0/71 [00:00<?, ?it/s]"
     ]
    },
    {
     "name": "stdout",
     "output_type": "stream",
     "text": [
      "                  validation\n",
      " - Yaw          :   1.327775\n",
      " - Pitch        :   1.282356\n",
      " - Roll         :   1.186650\n",
      " - RMS          :   1.266960\n",
      " - 99% Tile     :  12.687341\n",
      "Save output signals into checkpoint/Scene2-LSTM[Window120]/sample/0020.npy\n"
     ]
    },
    {
     "name": "stderr",
     "output_type": "stream",
     "text": [
      "[0021/0100] Train: 100%|███████████████████████████████| 71/71 [00:18<00:00,  3.90it/s, loss 5.8429]\n",
      "[0021/0100] Validation: 100%|██████████████████████| 74/74 [00:04<00:00, 18.30it/s, val_loss 8.3918]\n",
      "[0022/0100] Train:   0%|                                                     | 0/71 [00:00<?, ?it/s]"
     ]
    },
    {
     "name": "stdout",
     "output_type": "stream",
     "text": [
      "                  validation\n",
      " - Yaw          :   1.583138\n",
      " - Pitch        :   1.260842\n",
      " - Roll         :   1.206848\n",
      " - RMS          :   1.360457\n",
      " - 99% Tile     :  12.733556\n",
      "Save output signals into checkpoint/Scene2-LSTM[Window120]/sample/0021.npy\n"
     ]
    },
    {
     "name": "stderr",
     "output_type": "stream",
     "text": [
      "[0022/0100] Train: 100%|███████████████████████████████| 71/71 [00:18<00:00,  3.81it/s, loss 5.3997]\n",
      "[0022/0100] Validation: 100%|██████████████████████| 74/74 [00:05<00:00, 13.92it/s, val_loss 8.0697]\n",
      "[0023/0100] Train:   0%|                                                     | 0/71 [00:00<?, ?it/s]"
     ]
    },
    {
     "name": "stdout",
     "output_type": "stream",
     "text": [
      "                  validation\n",
      " - Yaw          :   1.315504\n",
      " - Pitch        :   1.451154\n",
      " - Roll         :   1.222516\n",
      " - RMS          :   1.333035\n",
      " - 99% Tile     :  12.460433\n",
      "Save output signals into checkpoint/Scene2-LSTM[Window120]/sample/0022.npy\n"
     ]
    },
    {
     "name": "stderr",
     "output_type": "stream",
     "text": [
      "[0023/0100] Train: 100%|███████████████████████████████| 71/71 [00:18<00:00,  3.91it/s, loss 4.9973]\n",
      "[0023/0100] Validation: 100%|██████████████████████| 74/74 [00:05<00:00, 13.83it/s, val_loss 7.8115]\n",
      "[0024/0100] Train:   0%|                                                     | 0/71 [00:00<?, ?it/s]"
     ]
    },
    {
     "name": "stdout",
     "output_type": "stream",
     "text": [
      "                  validation\n",
      " - Yaw          :   1.344521\n",
      " - Pitch        :   1.189197\n",
      " - Roll         :   1.172334\n",
      " - RMS          :   1.237780\n",
      " - 99% Tile     :  12.184150\n",
      "Save output signals into checkpoint/Scene2-LSTM[Window120]/sample/0023.npy\n"
     ]
    },
    {
     "name": "stderr",
     "output_type": "stream",
     "text": [
      "[0024/0100] Train: 100%|███████████████████████████████| 71/71 [00:17<00:00,  4.07it/s, loss 4.5017]\n",
      "[0024/0100] Validation: 100%|██████████████████████| 74/74 [00:05<00:00, 14.01it/s, val_loss 7.6886]\n",
      "[0025/0100] Train:   0%|                                                     | 0/71 [00:00<?, ?it/s]"
     ]
    },
    {
     "name": "stdout",
     "output_type": "stream",
     "text": [
      "                  validation\n",
      " - Yaw          :   1.372781\n",
      " - Pitch        :   1.148725\n",
      " - Roll         :   1.233767\n",
      " - RMS          :   1.255160\n",
      " - 99% Tile     :  11.739769\n",
      "Save output signals into checkpoint/Scene2-LSTM[Window120]/sample/0024.npy\n"
     ]
    },
    {
     "name": "stderr",
     "output_type": "stream",
     "text": [
      "[0025/0100] Train: 100%|███████████████████████████████| 71/71 [00:18<00:00,  3.90it/s, loss 4.0699]\n",
      "[0025/0100] Validation: 100%|██████████████████████| 74/74 [00:05<00:00, 13.94it/s, val_loss 7.1700]\n",
      "[0026/0100] Train:   0%|                                                     | 0/71 [00:00<?, ?it/s]"
     ]
    },
    {
     "name": "stdout",
     "output_type": "stream",
     "text": [
      "                  validation\n",
      " - Yaw          :   1.266409\n",
      " - Pitch        :   1.212246\n",
      " - Roll         :   1.089330\n",
      " - RMS          :   1.191634\n",
      " - 99% Tile     :  11.293635\n",
      "Save output signals into checkpoint/Scene2-LSTM[Window120]/sample/0025.npy\n"
     ]
    },
    {
     "name": "stderr",
     "output_type": "stream",
     "text": [
      "[0026/0100] Train: 100%|███████████████████████████████| 71/71 [00:18<00:00,  3.84it/s, loss 3.9077]\n",
      "[0026/0100] Validation: 100%|██████████████████████| 74/74 [00:05<00:00, 13.82it/s, val_loss 7.2608]\n",
      "[0027/0100] Train:   0%|                                                     | 0/71 [00:00<?, ?it/s]"
     ]
    },
    {
     "name": "stdout",
     "output_type": "stream",
     "text": [
      "val_loss is not improved for 1 epochs\n",
      "                  validation\n",
      " - Yaw          :   1.302589\n",
      " - Pitch        :   1.222422\n",
      " - Roll         :   1.160893\n",
      " - RMS          :   1.230004\n",
      " - 99% Tile     :  11.772026\n",
      "Save output signals into checkpoint/Scene2-LSTM[Window120]/sample/0026.npy\n"
     ]
    },
    {
     "name": "stderr",
     "output_type": "stream",
     "text": [
      "[0027/0100] Train: 100%|███████████████████████████████| 71/71 [00:18<00:00,  3.88it/s, loss 3.6170]\n",
      "[0027/0100] Validation: 100%|██████████████████████| 74/74 [00:05<00:00, 14.10it/s, val_loss 6.9272]\n",
      "[0028/0100] Train:   0%|                                                     | 0/71 [00:00<?, ?it/s]"
     ]
    },
    {
     "name": "stdout",
     "output_type": "stream",
     "text": [
      "                  validation\n",
      " - Yaw          :   1.290282\n",
      " - Pitch        :   1.227043\n",
      " - Roll         :   1.108373\n",
      " - RMS          :   1.210916\n",
      " - 99% Tile     :  11.760643\n",
      "Save output signals into checkpoint/Scene2-LSTM[Window120]/sample/0027.npy\n"
     ]
    },
    {
     "name": "stderr",
     "output_type": "stream",
     "text": [
      "[0028/0100] Train: 100%|███████████████████████████████| 71/71 [00:18<00:00,  3.89it/s, loss 3.3005]\n",
      "[0028/0100] Validation: 100%|██████████████████████| 74/74 [00:05<00:00, 13.80it/s, val_loss 6.6450]\n",
      "[0029/0100] Train:   0%|                                                     | 0/71 [00:00<?, ?it/s]"
     ]
    },
    {
     "name": "stdout",
     "output_type": "stream",
     "text": [
      "                  validation\n",
      " - Yaw          :   1.256942\n",
      " - Pitch        :   1.155274\n",
      " - Roll         :   1.066531\n",
      " - RMS          :   1.162189\n",
      " - 99% Tile     :  11.482077\n",
      "Save output signals into checkpoint/Scene2-LSTM[Window120]/sample/0028.npy\n"
     ]
    },
    {
     "name": "stderr",
     "output_type": "stream",
     "text": [
      "[0029/0100] Train: 100%|███████████████████████████████| 71/71 [00:15<00:00,  4.61it/s, loss 3.1530]\n",
      "[0029/0100] Validation: 100%|██████████████████████| 74/74 [00:05<00:00, 13.90it/s, val_loss 6.5760]\n",
      "[0030/0100] Train:   0%|                                                     | 0/71 [00:00<?, ?it/s]"
     ]
    },
    {
     "name": "stdout",
     "output_type": "stream",
     "text": [
      "                  validation\n",
      " - Yaw          :   1.154618\n",
      " - Pitch        :   1.168047\n",
      " - Roll         :   1.094183\n",
      " - RMS          :   1.139402\n",
      " - 99% Tile     :  11.458341\n",
      "Save output signals into checkpoint/Scene2-LSTM[Window120]/sample/0029.npy\n"
     ]
    },
    {
     "name": "stderr",
     "output_type": "stream",
     "text": [
      "[0030/0100] Train: 100%|███████████████████████████████| 71/71 [00:18<00:00,  3.86it/s, loss 3.0227]\n",
      "[0030/0100] Validation: 100%|██████████████████████| 74/74 [00:05<00:00, 13.77it/s, val_loss 6.7294]\n",
      "[0031/0100] Train:   0%|                                                     | 0/71 [00:00<?, ?it/s]"
     ]
    },
    {
     "name": "stdout",
     "output_type": "stream",
     "text": [
      "val_loss is not improved for 1 epochs\n",
      "                  validation\n",
      " - Yaw          :   1.306825\n",
      " - Pitch        :   1.331021\n",
      " - Roll         :   1.070487\n",
      " - RMS          :   1.241686\n",
      " - 99% Tile     :  11.464887\n",
      "Save output signals into checkpoint/Scene2-LSTM[Window120]/sample/0030.npy\n"
     ]
    },
    {
     "name": "stderr",
     "output_type": "stream",
     "text": [
      "[0031/0100] Train: 100%|███████████████████████████████| 71/71 [00:16<00:00,  4.32it/s, loss 2.8628]\n",
      "[0031/0100] Validation: 100%|██████████████████████| 74/74 [00:03<00:00, 19.64it/s, val_loss 6.2308]\n",
      "[0032/0100] Train:   0%|                                                     | 0/71 [00:00<?, ?it/s]"
     ]
    },
    {
     "name": "stdout",
     "output_type": "stream",
     "text": [
      "                  validation\n",
      " - Yaw          :   1.335813\n",
      " - Pitch        :   1.176377\n",
      " - Roll         :   1.082791\n",
      " - RMS          :   1.202871\n",
      " - 99% Tile     :  10.542783\n",
      "Save output signals into checkpoint/Scene2-LSTM[Window120]/sample/0031.npy\n"
     ]
    },
    {
     "name": "stderr",
     "output_type": "stream",
     "text": [
      "[0032/0100] Train: 100%|███████████████████████████████| 71/71 [00:13<00:00,  5.29it/s, loss 2.6825]\n",
      "[0032/0100] Validation: 100%|██████████████████████| 74/74 [00:03<00:00, 19.43it/s, val_loss 6.5908]\n",
      "[0033/0100] Train:   0%|                                                     | 0/71 [00:00<?, ?it/s]"
     ]
    },
    {
     "name": "stdout",
     "output_type": "stream",
     "text": [
      "val_loss is not improved for 1 epochs\n",
      "                  validation\n",
      " - Yaw          :   1.263908\n",
      " - Pitch        :   1.308517\n",
      " - Roll         :   1.061365\n",
      " - RMS          :   1.216028\n",
      " - 99% Tile     :  11.080589\n",
      "Save output signals into checkpoint/Scene2-LSTM[Window120]/sample/0032.npy\n"
     ]
    },
    {
     "name": "stderr",
     "output_type": "stream",
     "text": [
      "[0033/0100] Train: 100%|███████████████████████████████| 71/71 [00:13<00:00,  5.25it/s, loss 2.5545]\n",
      "[0033/0100] Validation: 100%|██████████████████████| 74/74 [00:03<00:00, 19.45it/s, val_loss 6.3298]\n",
      "[0034/0100] Train:   0%|                                                     | 0/71 [00:00<?, ?it/s]"
     ]
    },
    {
     "name": "stdout",
     "output_type": "stream",
     "text": [
      "val_loss is not improved for 2 epochs\n",
      "                  validation\n",
      " - Yaw          :   1.258511\n",
      " - Pitch        :   1.139047\n",
      " - Roll         :   1.086612\n",
      " - RMS          :   1.163615\n",
      " - 99% Tile     :  11.127898\n",
      "Save output signals into checkpoint/Scene2-LSTM[Window120]/sample/0033.npy\n"
     ]
    },
    {
     "name": "stderr",
     "output_type": "stream",
     "text": [
      "[0034/0100] Train: 100%|███████████████████████████████| 71/71 [00:13<00:00,  5.23it/s, loss 2.3556]\n",
      "[0034/0100] Validation: 100%|██████████████████████| 74/74 [00:03<00:00, 19.58it/s, val_loss 6.2414]\n",
      "[0035/0100] Train:   0%|                                                     | 0/71 [00:00<?, ?it/s]"
     ]
    },
    {
     "name": "stdout",
     "output_type": "stream",
     "text": [
      "val_loss is not improved for 3 epochs\n",
      "                  validation\n",
      " - Yaw          :   1.168742\n",
      " - Pitch        :   1.074096\n",
      " - Roll         :   1.042940\n",
      " - RMS          :   1.096565\n",
      " - 99% Tile     :  10.962510\n",
      "Save output signals into checkpoint/Scene2-LSTM[Window120]/sample/0034.npy\n"
     ]
    },
    {
     "name": "stderr",
     "output_type": "stream",
     "text": [
      "[0035/0100] Train: 100%|███████████████████████████████| 71/71 [00:13<00:00,  5.28it/s, loss 2.6922]\n",
      "[0035/0100] Validation: 100%|██████████████████████| 74/74 [00:03<00:00, 19.45it/s, val_loss 6.5416]\n",
      "[0036/0100] Train:   0%|                                                     | 0/71 [00:00<?, ?it/s]"
     ]
    },
    {
     "name": "stdout",
     "output_type": "stream",
     "text": [
      "val_loss is not improved for 4 epochs\n",
      "                  validation\n",
      " - Yaw          :   1.191664\n",
      " - Pitch        :   1.253086\n",
      " - Roll         :   1.114405\n",
      " - RMS          :   1.187741\n",
      " - 99% Tile     :  11.076790\n",
      "Save output signals into checkpoint/Scene2-LSTM[Window120]/sample/0035.npy\n"
     ]
    },
    {
     "name": "stderr",
     "output_type": "stream",
     "text": [
      "[0036/0100] Train: 100%|███████████████████████████████| 71/71 [00:13<00:00,  5.24it/s, loss 2.3922]\n",
      "[0036/0100] Validation: 100%|██████████████████████| 74/74 [00:03<00:00, 20.14it/s, val_loss 6.0308]\n",
      "[0037/0100] Train:   0%|                                                     | 0/71 [00:00<?, ?it/s]"
     ]
    },
    {
     "name": "stdout",
     "output_type": "stream",
     "text": [
      "                  validation\n",
      " - Yaw          :   1.226251\n",
      " - Pitch        :   1.101193\n",
      " - Roll         :   1.127143\n",
      " - RMS          :   1.152789\n",
      " - 99% Tile     :  10.735691\n",
      "Save output signals into checkpoint/Scene2-LSTM[Window120]/sample/0036.npy\n"
     ]
    },
    {
     "name": "stderr",
     "output_type": "stream",
     "text": [
      "[0037/0100] Train: 100%|███████████████████████████████| 71/71 [00:12<00:00,  5.75it/s, loss 2.2732]\n",
      "[0037/0100] Validation: 100%|██████████████████████| 74/74 [00:03<00:00, 19.57it/s, val_loss 6.4152]\n",
      "[0038/0100] Train:   0%|                                                     | 0/71 [00:00<?, ?it/s]"
     ]
    },
    {
     "name": "stdout",
     "output_type": "stream",
     "text": [
      "val_loss is not improved for 1 epochs\n",
      "                  validation\n",
      " - Yaw          :   1.160419\n",
      " - Pitch        :   1.204255\n",
      " - Roll         :   1.126312\n",
      " - RMS          :   1.164099\n",
      " - 99% Tile     :  11.416075\n",
      "Save output signals into checkpoint/Scene2-LSTM[Window120]/sample/0037.npy\n"
     ]
    },
    {
     "name": "stderr",
     "output_type": "stream",
     "text": [
      "[0038/0100] Train: 100%|███████████████████████████████| 71/71 [00:13<00:00,  5.26it/s, loss 2.0567]\n",
      "[0038/0100] Validation: 100%|██████████████████████| 74/74 [00:03<00:00, 19.67it/s, val_loss 5.9995]\n",
      "[0039/0100] Train:   0%|                                                     | 0/71 [00:00<?, ?it/s]"
     ]
    },
    {
     "name": "stdout",
     "output_type": "stream",
     "text": [
      "                  validation\n",
      " - Yaw          :   1.196421\n",
      " - Pitch        :   1.207799\n",
      " - Roll         :   1.007693\n",
      " - RMS          :   1.141000\n",
      " - 99% Tile     :  10.361503\n",
      "Save output signals into checkpoint/Scene2-LSTM[Window120]/sample/0038.npy\n"
     ]
    },
    {
     "name": "stderr",
     "output_type": "stream",
     "text": [
      "[0039/0100] Train: 100%|███████████████████████████████| 71/71 [00:12<00:00,  5.68it/s, loss 2.0057]\n",
      "[0039/0100] Validation: 100%|██████████████████████| 74/74 [00:03<00:00, 19.39it/s, val_loss 6.1760]\n",
      "[0040/0100] Train:   0%|                                                     | 0/71 [00:00<?, ?it/s]"
     ]
    },
    {
     "name": "stdout",
     "output_type": "stream",
     "text": [
      "val_loss is not improved for 1 epochs\n",
      "                  validation\n",
      " - Yaw          :   1.283906\n",
      " - Pitch        :   1.107537\n",
      " - Roll         :   1.015996\n",
      " - RMS          :   1.141242\n",
      " - 99% Tile     :  11.196843\n",
      "Save output signals into checkpoint/Scene2-LSTM[Window120]/sample/0039.npy\n"
     ]
    },
    {
     "name": "stderr",
     "output_type": "stream",
     "text": [
      "[0040/0100] Train: 100%|███████████████████████████████| 71/71 [00:13<00:00,  5.29it/s, loss 1.8784]\n",
      "[0040/0100] Validation: 100%|██████████████████████| 74/74 [00:03<00:00, 19.12it/s, val_loss 6.1352]\n",
      "[0041/0100] Train:   0%|                                                     | 0/71 [00:00<?, ?it/s]"
     ]
    },
    {
     "name": "stdout",
     "output_type": "stream",
     "text": [
      "val_loss is not improved for 2 epochs\n",
      "                  validation\n",
      " - Yaw          :   1.202281\n",
      " - Pitch        :   1.082060\n",
      " - Roll         :   1.007660\n",
      " - RMS          :   1.100259\n",
      " - 99% Tile     :  10.576563\n",
      "Save output signals into checkpoint/Scene2-LSTM[Window120]/sample/0040.npy\n"
     ]
    },
    {
     "name": "stderr",
     "output_type": "stream",
     "text": [
      "[0041/0100] Train: 100%|███████████████████████████████| 71/71 [00:13<00:00,  5.23it/s, loss 1.8823]\n",
      "[0041/0100] Validation: 100%|██████████████████████| 74/74 [00:03<00:00, 19.22it/s, val_loss 6.0667]\n",
      "[0042/0100] Train:   0%|                                                     | 0/71 [00:00<?, ?it/s]"
     ]
    },
    {
     "name": "stdout",
     "output_type": "stream",
     "text": [
      "val_loss is not improved for 3 epochs\n",
      "                  validation\n",
      " - Yaw          :   1.198564\n",
      " - Pitch        :   1.209386\n",
      " - Roll         :   0.978226\n",
      " - RMS          :   1.133739\n",
      " - 99% Tile     :  10.315745\n",
      "Save output signals into checkpoint/Scene2-LSTM[Window120]/sample/0041.npy\n"
     ]
    },
    {
     "name": "stderr",
     "output_type": "stream",
     "text": [
      "[0042/0100] Train: 100%|███████████████████████████████| 71/71 [00:11<00:00,  6.01it/s, loss 1.7640]\n",
      "[0042/0100] Validation: 100%|██████████████████████| 74/74 [00:03<00:00, 19.36it/s, val_loss 5.9295]\n",
      "[0043/0100] Train:   0%|                                                     | 0/71 [00:00<?, ?it/s]"
     ]
    },
    {
     "name": "stdout",
     "output_type": "stream",
     "text": [
      "                  validation\n",
      " - Yaw          :   1.190243\n",
      " - Pitch        :   1.103431\n",
      " - Roll         :   0.973675\n",
      " - RMS          :   1.092746\n",
      " - 99% Tile     :   9.822811\n",
      "Save output signals into checkpoint/Scene2-LSTM[Window120]/sample/0042.npy\n"
     ]
    },
    {
     "name": "stderr",
     "output_type": "stream",
     "text": [
      "[0043/0100] Train: 100%|███████████████████████████████| 71/71 [00:13<00:00,  5.33it/s, loss 1.7286]\n",
      "[0043/0100] Validation: 100%|██████████████████████| 74/74 [00:03<00:00, 19.05it/s, val_loss 5.9025]\n",
      "[0044/0100] Train:   0%|                                                     | 0/71 [00:00<?, ?it/s]"
     ]
    },
    {
     "name": "stdout",
     "output_type": "stream",
     "text": [
      "                  validation\n",
      " - Yaw          :   1.141610\n",
      " - Pitch        :   1.081653\n",
      " - Roll         :   1.089195\n",
      " - RMS          :   1.104475\n",
      " - 99% Tile     :  10.409101\n",
      "Save output signals into checkpoint/Scene2-LSTM[Window120]/sample/0043.npy\n"
     ]
    },
    {
     "name": "stderr",
     "output_type": "stream",
     "text": [
      "[0044/0100] Train: 100%|███████████████████████████████| 71/71 [00:13<00:00,  5.25it/s, loss 1.7289]\n",
      "[0044/0100] Validation: 100%|██████████████████████| 74/74 [00:03<00:00, 19.53it/s, val_loss 6.1124]\n",
      "[0045/0100] Train:   0%|                                                     | 0/71 [00:00<?, ?it/s]"
     ]
    },
    {
     "name": "stdout",
     "output_type": "stream",
     "text": [
      "val_loss is not improved for 1 epochs\n",
      "                  validation\n",
      " - Yaw          :   1.295157\n",
      " - Pitch        :   1.179773\n",
      " - Roll         :   1.028551\n",
      " - RMS          :   1.172918\n",
      " - 99% Tile     :  10.590352\n",
      "Save output signals into checkpoint/Scene2-LSTM[Window120]/sample/0044.npy\n"
     ]
    },
    {
     "name": "stderr",
     "output_type": "stream",
     "text": [
      "[0045/0100] Train: 100%|███████████████████████████████| 71/71 [00:13<00:00,  5.26it/s, loss 1.9349]\n",
      "[0045/0100] Validation: 100%|██████████████████████| 74/74 [00:03<00:00, 19.53it/s, val_loss 6.5517]\n",
      "[0046/0100] Train:   0%|                                                     | 0/71 [00:00<?, ?it/s]"
     ]
    },
    {
     "name": "stdout",
     "output_type": "stream",
     "text": [
      "val_loss is not improved for 2 epochs\n",
      "                  validation\n",
      " - Yaw          :   1.341432\n",
      " - Pitch        :   1.170309\n",
      " - Roll         :   1.187745\n",
      " - RMS          :   1.235557\n",
      " - 99% Tile     :  10.077636\n",
      "Save output signals into checkpoint/Scene2-LSTM[Window120]/sample/0045.npy\n"
     ]
    },
    {
     "name": "stderr",
     "output_type": "stream",
     "text": [
      "[0046/0100] Train: 100%|███████████████████████████████| 71/71 [00:13<00:00,  5.28it/s, loss 1.9650]\n",
      "[0046/0100] Validation: 100%|██████████████████████| 74/74 [00:03<00:00, 19.60it/s, val_loss 5.8381]\n",
      "[0047/0100] Train:   0%|                                                     | 0/71 [00:00<?, ?it/s]"
     ]
    },
    {
     "name": "stdout",
     "output_type": "stream",
     "text": [
      "                  validation\n",
      " - Yaw          :   1.304710\n",
      " - Pitch        :   1.031538\n",
      " - Roll         :   1.038034\n",
      " - RMS          :   1.131938\n",
      " - 99% Tile     :   9.696716\n",
      "Save output signals into checkpoint/Scene2-LSTM[Window120]/sample/0046.npy\n"
     ]
    },
    {
     "name": "stderr",
     "output_type": "stream",
     "text": [
      "[0047/0100] Train: 100%|███████████████████████████████| 71/71 [00:13<00:00,  5.28it/s, loss 1.6574]\n",
      "[0047/0100] Validation: 100%|██████████████████████| 74/74 [00:03<00:00, 19.60it/s, val_loss 6.1481]\n",
      "[0048/0100] Train:   0%|                                                     | 0/71 [00:00<?, ?it/s]"
     ]
    },
    {
     "name": "stdout",
     "output_type": "stream",
     "text": [
      "val_loss is not improved for 1 epochs\n",
      "                  validation\n",
      " - Yaw          :   1.303212\n",
      " - Pitch        :   1.194103\n",
      " - Roll         :   0.931342\n",
      " - RMS          :   1.153493\n",
      " - 99% Tile     :  10.101035\n",
      "Save output signals into checkpoint/Scene2-LSTM[Window120]/sample/0047.npy\n"
     ]
    },
    {
     "name": "stderr",
     "output_type": "stream",
     "text": [
      "[0048/0100] Train: 100%|███████████████████████████████| 71/71 [00:13<00:00,  5.26it/s, loss 1.5849]\n",
      "[0048/0100] Validation: 100%|██████████████████████| 74/74 [00:03<00:00, 19.00it/s, val_loss 6.2148]\n",
      "[0049/0100] Train:   0%|                                                     | 0/71 [00:00<?, ?it/s]"
     ]
    },
    {
     "name": "stdout",
     "output_type": "stream",
     "text": [
      "val_loss is not improved for 2 epochs\n",
      "                  validation\n",
      " - Yaw          :   1.235205\n",
      " - Pitch        :   1.048653\n",
      " - Roll         :   0.978420\n",
      " - RMS          :   1.092811\n",
      " - 99% Tile     :  10.892037\n",
      "Save output signals into checkpoint/Scene2-LSTM[Window120]/sample/0048.npy\n"
     ]
    },
    {
     "name": "stderr",
     "output_type": "stream",
     "text": [
      "[0049/0100] Train: 100%|███████████████████████████████| 71/71 [00:13<00:00,  5.21it/s, loss 1.6310]\n",
      "[0049/0100] Validation: 100%|██████████████████████| 74/74 [00:03<00:00, 19.29it/s, val_loss 5.9634]\n",
      "[0050/0100] Train:   0%|                                                     | 0/71 [00:00<?, ?it/s]"
     ]
    },
    {
     "name": "stdout",
     "output_type": "stream",
     "text": [
      "val_loss is not improved for 3 epochs\n",
      "                  validation\n",
      " - Yaw          :   1.285383\n",
      " - Pitch        :   1.067235\n",
      " - Roll         :   0.976951\n",
      " - RMS          :   1.117383\n",
      " - 99% Tile     :  10.065989\n",
      "Save output signals into checkpoint/Scene2-LSTM[Window120]/sample/0049.npy\n"
     ]
    },
    {
     "name": "stderr",
     "output_type": "stream",
     "text": [
      "[0050/0100] Train: 100%|███████████████████████████████| 71/71 [00:13<00:00,  5.27it/s, loss 1.4760]\n",
      "[0050/0100] Validation: 100%|██████████████████████| 74/74 [00:03<00:00, 19.75it/s, val_loss 5.8884]\n",
      "[0051/0100] Train:   0%|                                                     | 0/71 [00:00<?, ?it/s]"
     ]
    },
    {
     "name": "stdout",
     "output_type": "stream",
     "text": [
      "val_loss is not improved for 4 epochs\n",
      "                  validation\n",
      " - Yaw          :   1.163228\n",
      " - Pitch        :   1.208998\n",
      " - Roll         :   0.954381\n",
      " - RMS          :   1.114394\n",
      " - 99% Tile     :   9.814122\n",
      "Save output signals into checkpoint/Scene2-LSTM[Window120]/sample/0050.npy\n"
     ]
    },
    {
     "name": "stderr",
     "output_type": "stream",
     "text": [
      "[0051/0100] Train: 100%|███████████████████████████████| 71/71 [00:10<00:00,  6.56it/s, loss 1.3926]\n",
      "[0051/0100] Validation: 100%|██████████████████████| 74/74 [00:03<00:00, 19.72it/s, val_loss 6.1461]\n",
      "[0052/0100] Train:   0%|                                                     | 0/71 [00:00<?, ?it/s]"
     ]
    },
    {
     "name": "stdout",
     "output_type": "stream",
     "text": [
      "Decaying lr from 0.001 to 0.0005 because val_loss did not improved for 5 epochs\n",
      "val_loss is not improved for 5 epochs\n",
      "                  validation\n",
      " - Yaw          :   1.379792\n",
      " - Pitch        :   1.071575\n",
      " - Roll         :   0.998614\n",
      " - RMS          :   1.161799\n",
      " - 99% Tile     :   9.939194\n",
      "Save output signals into checkpoint/Scene2-LSTM[Window120]/sample/0051.npy\n"
     ]
    },
    {
     "name": "stderr",
     "output_type": "stream",
     "text": [
      "[0052/0100] Train: 100%|███████████████████████████████| 71/71 [00:13<00:00,  5.28it/s, loss 1.2609]\n",
      "[0052/0100] Validation: 100%|██████████████████████| 74/74 [00:03<00:00, 19.89it/s, val_loss 5.5988]\n",
      "[0053/0100] Train:   0%|                                                     | 0/71 [00:00<?, ?it/s]"
     ]
    },
    {
     "name": "stdout",
     "output_type": "stream",
     "text": [
      "                  validation\n",
      " - Yaw          :   1.031098\n",
      " - Pitch        :   0.995078\n",
      " - Roll         :   0.947456\n",
      " - RMS          :   0.991802\n",
      " - 99% Tile     :   9.797074\n",
      "Save output signals into checkpoint/Scene2-LSTM[Window120]/sample/0052.npy\n"
     ]
    },
    {
     "name": "stderr",
     "output_type": "stream",
     "text": [
      "[0053/0100] Train: 100%|███████████████████████████████| 71/71 [00:13<00:00,  5.26it/s, loss 1.2054]\n",
      "[0053/0100] Validation: 100%|██████████████████████| 74/74 [00:03<00:00, 19.69it/s, val_loss 5.6593]\n",
      "[0054/0100] Train:   0%|                                                     | 0/71 [00:00<?, ?it/s]"
     ]
    },
    {
     "name": "stdout",
     "output_type": "stream",
     "text": [
      "val_loss is not improved for 1 epochs\n",
      "                  validation\n",
      " - Yaw          :   1.144432\n",
      " - Pitch        :   1.016700\n",
      " - Roll         :   0.919848\n",
      " - RMS          :   1.031104\n",
      " - 99% Tile     :   9.728898\n",
      "Save output signals into checkpoint/Scene2-LSTM[Window120]/sample/0053.npy\n"
     ]
    },
    {
     "name": "stderr",
     "output_type": "stream",
     "text": [
      "[0054/0100] Train: 100%|███████████████████████████████| 71/71 [00:13<00:00,  5.31it/s, loss 1.1645]\n",
      "[0054/0100] Validation: 100%|██████████████████████| 74/74 [00:03<00:00, 19.55it/s, val_loss 5.4901]\n",
      "[0055/0100] Train:   0%|                                                     | 0/71 [00:00<?, ?it/s]"
     ]
    },
    {
     "name": "stdout",
     "output_type": "stream",
     "text": [
      "                  validation\n",
      " - Yaw          :   1.125574\n",
      " - Pitch        :   1.008070\n",
      " - Roll         :   0.905883\n",
      " - RMS          :   1.017144\n",
      " - 99% Tile     :   9.443980\n",
      "Save output signals into checkpoint/Scene2-LSTM[Window120]/sample/0054.npy\n"
     ]
    },
    {
     "name": "stderr",
     "output_type": "stream",
     "text": [
      "[0055/0100] Train: 100%|███████████████████████████████| 71/71 [00:13<00:00,  5.24it/s, loss 1.1777]\n",
      "[0055/0100] Validation: 100%|██████████████████████| 74/74 [00:03<00:00, 19.85it/s, val_loss 5.6306]\n",
      "[0056/0100] Train:   0%|                                                     | 0/71 [00:00<?, ?it/s]"
     ]
    },
    {
     "name": "stdout",
     "output_type": "stream",
     "text": [
      "val_loss is not improved for 1 epochs\n",
      "                  validation\n",
      " - Yaw          :   1.103192\n",
      " - Pitch        :   0.990355\n",
      " - Roll         :   0.933049\n",
      " - RMS          :   1.011338\n",
      " - 99% Tile     :   9.580862\n",
      "Save output signals into checkpoint/Scene2-LSTM[Window120]/sample/0055.npy\n"
     ]
    },
    {
     "name": "stderr",
     "output_type": "stream",
     "text": [
      "[0056/0100] Train: 100%|███████████████████████████████| 71/71 [00:11<00:00,  6.31it/s, loss 1.1402]\n",
      "[0056/0100] Validation: 100%|██████████████████████| 74/74 [00:03<00:00, 19.84it/s, val_loss 5.4711]\n",
      "[0057/0100] Train:   0%|                                                     | 0/71 [00:00<?, ?it/s]"
     ]
    },
    {
     "name": "stdout",
     "output_type": "stream",
     "text": [
      "                  validation\n",
      " - Yaw          :   1.092809\n",
      " - Pitch        :   0.969724\n",
      " - Roll         :   0.927065\n",
      " - RMS          :   0.999007\n",
      " - 99% Tile     :   9.454491\n",
      "Save output signals into checkpoint/Scene2-LSTM[Window120]/sample/0056.npy\n"
     ]
    },
    {
     "name": "stderr",
     "output_type": "stream",
     "text": [
      "[0057/0100] Train: 100%|███████████████████████████████| 71/71 [00:12<00:00,  5.71it/s, loss 1.1165]\n",
      "[0057/0100] Validation: 100%|██████████████████████| 74/74 [00:03<00:00, 19.88it/s, val_loss 5.4985]\n",
      "[0058/0100] Train:   0%|                                                     | 0/71 [00:00<?, ?it/s]"
     ]
    },
    {
     "name": "stdout",
     "output_type": "stream",
     "text": [
      "val_loss is not improved for 1 epochs\n",
      "                  validation\n",
      " - Yaw          :   1.096311\n",
      " - Pitch        :   1.033230\n",
      " - Roll         :   0.932183\n",
      " - RMS          :   1.022811\n",
      " - 99% Tile     :   9.377785\n",
      "Save output signals into checkpoint/Scene2-LSTM[Window120]/sample/0057.npy\n"
     ]
    },
    {
     "name": "stderr",
     "output_type": "stream",
     "text": [
      "[0058/0100] Train: 100%|███████████████████████████████| 71/71 [00:13<00:00,  5.28it/s, loss 1.0999]\n",
      "[0058/0100] Validation: 100%|██████████████████████| 74/74 [00:03<00:00, 20.14it/s, val_loss 5.7038]\n",
      "[0059/0100] Train:   0%|                                                     | 0/71 [00:00<?, ?it/s]"
     ]
    },
    {
     "name": "stdout",
     "output_type": "stream",
     "text": [
      "val_loss is not improved for 2 epochs\n",
      "                  validation\n",
      " - Yaw          :   1.189045\n",
      " - Pitch        :   1.025005\n",
      " - Roll         :   0.921432\n",
      " - RMS          :   1.050952\n",
      " - 99% Tile     :   9.545939\n",
      "Save output signals into checkpoint/Scene2-LSTM[Window120]/sample/0058.npy\n"
     ]
    },
    {
     "name": "stderr",
     "output_type": "stream",
     "text": [
      "[0059/0100] Train: 100%|███████████████████████████████| 71/71 [00:13<00:00,  5.26it/s, loss 1.0914]\n",
      "[0059/0100] Validation: 100%|██████████████████████| 74/74 [00:03<00:00, 19.64it/s, val_loss 5.7566]\n",
      "[0060/0100] Train:   0%|                                                     | 0/71 [00:00<?, ?it/s]"
     ]
    },
    {
     "name": "stdout",
     "output_type": "stream",
     "text": [
      "val_loss is not improved for 3 epochs\n",
      "                  validation\n",
      " - Yaw          :   1.297649\n",
      " - Pitch        :   1.016920\n",
      " - Roll         :   0.892955\n",
      " - RMS          :   1.082495\n",
      " - 99% Tile     :   9.456421\n",
      "Save output signals into checkpoint/Scene2-LSTM[Window120]/sample/0059.npy\n"
     ]
    },
    {
     "name": "stderr",
     "output_type": "stream",
     "text": [
      "[0060/0100] Train: 100%|███████████████████████████████| 71/71 [00:13<00:00,  5.29it/s, loss 1.0659]\n",
      "[0060/0100] Validation: 100%|██████████████████████| 74/74 [00:03<00:00, 19.66it/s, val_loss 5.6691]\n",
      "[0061/0100] Train:   0%|                                                     | 0/71 [00:00<?, ?it/s]"
     ]
    },
    {
     "name": "stdout",
     "output_type": "stream",
     "text": [
      "val_loss is not improved for 4 epochs\n",
      "                  validation\n",
      " - Yaw          :   1.132789\n",
      " - Pitch        :   0.983540\n",
      " - Roll         :   0.899846\n",
      " - RMS          :   1.009997\n",
      " - 99% Tile     :   9.565598\n",
      "Save output signals into checkpoint/Scene2-LSTM[Window120]/sample/0060.npy\n"
     ]
    },
    {
     "name": "stderr",
     "output_type": "stream",
     "text": [
      "[0061/0100] Train: 100%|███████████████████████████████| 71/71 [00:13<00:00,  5.24it/s, loss 1.0546]\n",
      "[0061/0100] Validation: 100%|██████████████████████| 74/74 [00:03<00:00, 19.89it/s, val_loss 5.9688]\n",
      "[0062/0100] Train:   0%|                                                     | 0/71 [00:00<?, ?it/s]"
     ]
    },
    {
     "name": "stdout",
     "output_type": "stream",
     "text": [
      "Decaying lr from 0.0005 to 0.00025 because val_loss did not improved for 5 epochs\n",
      "val_loss is not improved for 5 epochs\n",
      "                  validation\n",
      " - Yaw          :   1.276813\n",
      " - Pitch        :   1.005582\n",
      " - Roll         :   0.940727\n",
      " - RMS          :   1.084192\n",
      " - 99% Tile     :   9.708995\n",
      "Save output signals into checkpoint/Scene2-LSTM[Window120]/sample/0061.npy\n"
     ]
    },
    {
     "name": "stderr",
     "output_type": "stream",
     "text": [
      "[0062/0100] Train: 100%|███████████████████████████████| 71/71 [00:11<00:00,  6.17it/s, loss 0.9965]\n",
      "[0062/0100] Validation: 100%|██████████████████████| 74/74 [00:03<00:00, 19.63it/s, val_loss 5.6383]\n",
      "[0063/0100] Train:   0%|                                                     | 0/71 [00:00<?, ?it/s]"
     ]
    },
    {
     "name": "stdout",
     "output_type": "stream",
     "text": [
      "val_loss is not improved for 6 epochs\n",
      "                  validation\n",
      " - Yaw          :   1.157969\n",
      " - Pitch        :   0.977720\n",
      " - Roll         :   0.894923\n",
      " - RMS          :   1.016155\n",
      " - 99% Tile     :   9.536924\n",
      "Save output signals into checkpoint/Scene2-LSTM[Window120]/sample/0062.npy\n"
     ]
    },
    {
     "name": "stderr",
     "output_type": "stream",
     "text": [
      "[0063/0100] Train: 100%|███████████████████████████████| 71/71 [00:13<00:00,  5.28it/s, loss 0.9675]\n",
      "[0063/0100] Validation: 100%|██████████████████████| 74/74 [00:03<00:00, 18.99it/s, val_loss 5.7184]\n",
      "[0064/0100] Train:   0%|                                                     | 0/71 [00:00<?, ?it/s]"
     ]
    },
    {
     "name": "stdout",
     "output_type": "stream",
     "text": [
      "val_loss is not improved for 7 epochs\n",
      "                  validation\n",
      " - Yaw          :   1.152069\n",
      " - Pitch        :   1.012070\n",
      " - Roll         :   0.919307\n",
      " - RMS          :   1.032259\n",
      " - 99% Tile     :   9.590390\n",
      "Save output signals into checkpoint/Scene2-LSTM[Window120]/sample/0063.npy\n"
     ]
    },
    {
     "name": "stderr",
     "output_type": "stream",
     "text": [
      "[0064/0100] Train: 100%|███████████████████████████████| 71/71 [00:13<00:00,  5.27it/s, loss 0.9725]\n",
      "[0064/0100] Validation: 100%|██████████████████████| 74/74 [00:03<00:00, 19.26it/s, val_loss 5.7807]\n",
      "[0065/0100] Train:   0%|                                                     | 0/71 [00:00<?, ?it/s]"
     ]
    },
    {
     "name": "stdout",
     "output_type": "stream",
     "text": [
      "val_loss is not improved for 8 epochs\n",
      "                  validation\n",
      " - Yaw          :   1.188780\n",
      " - Pitch        :   0.961589\n",
      " - Roll         :   0.913415\n",
      " - RMS          :   1.028296\n",
      " - 99% Tile     :   9.779841\n",
      "Save output signals into checkpoint/Scene2-LSTM[Window120]/sample/0064.npy\n"
     ]
    },
    {
     "name": "stderr",
     "output_type": "stream",
     "text": [
      "[0065/0100] Train: 100%|███████████████████████████████| 71/71 [00:12<00:00,  5.74it/s, loss 0.9581]\n",
      "[0065/0100] Validation: 100%|██████████████████████| 74/74 [00:03<00:00, 19.10it/s, val_loss 5.8515]\n",
      "[0066/0100] Train:   0%|                                                     | 0/71 [00:00<?, ?it/s]"
     ]
    },
    {
     "name": "stdout",
     "output_type": "stream",
     "text": [
      "val_loss is not improved for 9 epochs\n",
      "                  validation\n",
      " - Yaw          :   1.216074\n",
      " - Pitch        :   0.985752\n",
      " - Roll         :   0.925328\n",
      " - RMS          :   1.049885\n",
      " - 99% Tile     :   9.669776\n",
      "Save output signals into checkpoint/Scene2-LSTM[Window120]/sample/0065.npy\n"
     ]
    },
    {
     "name": "stderr",
     "output_type": "stream",
     "text": [
      "[0066/0100] Train: 100%|███████████████████████████████| 71/71 [00:13<00:00,  5.25it/s, loss 0.9451]\n",
      "[0066/0100] Validation: 100%|██████████████████████| 74/74 [00:03<00:00, 19.62it/s, val_loss 5.6656]"
     ]
    },
    {
     "name": "stdout",
     "output_type": "stream",
     "text": [
      "Decaying lr from 0.00025 to 0.000125 because val_loss did not improved for 5 epochs\n",
      "val_loss is not improved for 10 epochs\n",
      "Stop training because val_loss did not improved for 10 epochs\n",
      "                  validation\n",
      " - Yaw          :   1.120664\n",
      " - Pitch        :   1.005898\n",
      " - Roll         :   0.899305\n",
      " - RMS          :   1.012664\n",
      " - 99% Tile     :   9.593661\n",
      "Save output signals into checkpoint/Scene2-LSTM[Window120]/sample/0066.npy\n"
     ]
    },
    {
     "name": "stderr",
     "output_type": "stream",
     "text": [
      "\n"
     ]
    }
   ],
   "source": [
    "trainer.fit(ds_train, ds_test, num_epochs=100, batch_size=256, shuffle=True, pin_memory=True)"
   ]
  },
  {
   "cell_type": "code",
   "execution_count": null,
   "metadata": {},
   "outputs": [],
   "source": []
  }
 ],
 "metadata": {
  "kernelspec": {
   "display_name": "torch",
   "language": "python",
   "name": "torch"
  },
  "language_info": {
   "codemirror_mode": {
    "name": "ipython",
    "version": 3
   },
   "file_extension": ".py",
   "mimetype": "text/x-python",
   "name": "python",
   "nbconvert_exporter": "python",
   "pygments_lexer": "ipython3",
   "version": "3.7.9"
  }
 },
 "nbformat": 4,
 "nbformat_minor": 4
}
