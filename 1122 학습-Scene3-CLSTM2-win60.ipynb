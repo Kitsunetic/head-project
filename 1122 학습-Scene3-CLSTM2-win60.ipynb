{
 "cells": [
  {
   "cell_type": "markdown",
   "metadata": {},
   "source": [
    "# 학습 결과\n",
    "\n",
    "user1의 scene 1~3만 사용해서 학습\n",
    "\n",
    "scene보다 user가 많기 때문에 데이터의 양이 확연히 줄어듬에도 불구하고 성능이 괜찮음.  \n",
    "적은 데이터 특화됐기 때문인지는 모르겠다.\n",
    "\n",
    "나머지 scene에 대해서도 잘 학습을 하면서 user에 대해서도 특화된다면 성능을 상당히 끌어올릴 수 있을 것으로 기대됨.  \n",
    "--> curriculum learning"
   ]
  },
  {
   "cell_type": "code",
   "execution_count": 1,
   "metadata": {},
   "outputs": [],
   "source": [
    "from multiprocessing import cpu_count\n",
    "from pathlib import Path\n",
    "from typing import List, Union, AnyStr\n",
    "from math import pi\n",
    "import pickle\n",
    "\n",
    "import numpy as np\n",
    "import torch\n",
    "import matplotlib.pyplot as plt\n",
    "import torch.nn as nn\n",
    "from sklearn import model_selection\n",
    "from tqdm import tqdm\n",
    "import torch_optimizer\n",
    "from torch.utils.data import Dataset\n",
    "import pandas as pd\n",
    "import random\n",
    "\n",
    "import torch_burn as tb\n",
    "import utils"
   ]
  },
  {
   "cell_type": "code",
   "execution_count": 2,
   "metadata": {},
   "outputs": [],
   "source": [
    "EXPERIMENT_NAME = '1122-Scene3-CLSTM2-win60'\n",
    "CHECKPOINT_DIR = Path('checkpoint', EXPERIMENT_NAME)\n",
    "CHECKPOINT_DIR.mkdir(parents=True, exist_ok=True)\n",
    "\n",
    "DATA_DIR = Path('data/1116')\n",
    "TRAIN_FILES = sorted(list(DATA_DIR.glob('*scene3_0.csv')))\n",
    "TEST_FILES = sorted(list(DATA_DIR.glob('*scene3_1.csv')))"
   ]
  },
  {
   "cell_type": "markdown",
   "metadata": {},
   "source": [
    "# 데이터셋 생성\n",
    "\n",
    "scene1에 대해서 모든 user의 데이터를 하나로 합친다."
   ]
  },
  {
   "cell_type": "code",
   "execution_count": 3,
   "metadata": {},
   "outputs": [],
   "source": [
    "WINDOW_SIZE = 60"
   ]
  },
  {
   "cell_type": "code",
   "execution_count": 4,
   "metadata": {},
   "outputs": [],
   "source": [
    "class CSVSequentialDataset(Dataset):\n",
    "    def __init__(self, csvfile,\n",
    "                 window_size=300, randomized_window_size=False,\n",
    "                 stride=30, randomized_stride=False):\n",
    "        super(CSVSequentialDataset, self).__init__()\n",
    "\n",
    "        self.xcols = ['input_orientation_yaw', 'input_orientation_pitch', 'input_orientation_roll',\n",
    "                      'acceleration_x', 'acceleration_y', 'acceleration_z']\n",
    "        self.ycols = ['input_orientation_yaw', 'input_orientation_pitch', 'input_orientation_roll']\n",
    "\n",
    "        self.csv = pd.read_csv(csvfile)\n",
    "        self.window_size = window_size\n",
    "\n",
    "        self.indexes = []\n",
    "        i = 0\n",
    "        while i <= len(self.csv) - window_size * 2:\n",
    "            if randomized_window_size:\n",
    "                self.indexes.append((i, i + random.randint(window_size // 2, window_size)))\n",
    "            else:\n",
    "                self.indexes.append((i, i + window_size))\n",
    "\n",
    "            if randomized_stride:\n",
    "                i += random.randint(1, stride)\n",
    "            else:\n",
    "                i += stride\n",
    "\n",
    "    def __len__(self):\n",
    "        return len(self.indexes)\n",
    "\n",
    "    def __getitem__(self, idx):\n",
    "        s, t = self.indexes[idx]\n",
    "        x = self.csv.iloc[s:t][self.xcols].to_numpy()\n",
    "        y = self.csv.iloc[t + 6][self.ycols].to_numpy()\n",
    "\n",
    "        x = torch.tensor(x, dtype=torch.float32) # 300, 6\n",
    "        y = torch.tensor(y, dtype=torch.float32) # 3\n",
    "        \n",
    "        #x[:, :3] *= pi / 180\n",
    "        x[:, 3:] /= 10\n",
    "\n",
    "        return x, y"
   ]
  },
  {
   "cell_type": "code",
   "execution_count": 5,
   "metadata": {},
   "outputs": [],
   "source": [
    "ds_train = [CSVSequentialDataset(f,  \n",
    "                                 window_size=WINDOW_SIZE, randomized_window_size=False,\n",
    "                                 stride=5, randomized_stride=True) for f in TRAIN_FILES]\n",
    "ds_train = tb.data.ChainDataset(*ds_train)\n",
    "ds_test = [CSVSequentialDataset(f,  \n",
    "                                window_size=WINDOW_SIZE, randomized_window_size=False,\n",
    "                                stride=5, randomized_stride=True) for f in TEST_FILES]\n",
    "ds_test = tb.data.ChainDataset(*ds_test)"
   ]
  },
  {
   "cell_type": "code",
   "execution_count": 6,
   "metadata": {},
   "outputs": [
    {
     "data": {
      "text/plain": [
       "(18664, 18178)"
      ]
     },
     "execution_count": 6,
     "metadata": {},
     "output_type": "execute_result"
    }
   ],
   "source": [
    "len(ds_train), len(ds_test)"
   ]
  },
  {
   "cell_type": "code",
   "execution_count": 7,
   "metadata": {},
   "outputs": [
    {
     "data": {
      "text/plain": [
       "(torch.Size([60, 6]), torch.Size([3]))"
      ]
     },
     "execution_count": 7,
     "metadata": {},
     "output_type": "execute_result"
    }
   ],
   "source": [
    "ds_train[0][0].shape, ds_train[0][1].shape"
   ]
  },
  {
   "cell_type": "code",
   "execution_count": 8,
   "metadata": {},
   "outputs": [],
   "source": [
    "x, y = ds_train[0]"
   ]
  },
  {
   "cell_type": "code",
   "execution_count": 9,
   "metadata": {},
   "outputs": [
    {
     "data": {
      "text/plain": [
       "torch.Size([60, 6])"
      ]
     },
     "execution_count": 9,
     "metadata": {},
     "output_type": "execute_result"
    }
   ],
   "source": [
    "x.shape"
   ]
  },
  {
   "cell_type": "code",
   "execution_count": 10,
   "metadata": {},
   "outputs": [
    {
     "data": {
      "text/plain": [
       "[<matplotlib.lines.Line2D at 0x7ff360184d90>]"
      ]
     },
     "execution_count": 10,
     "metadata": {},
     "output_type": "execute_result"
    },
    {
     "data": {
      "image/png": "[encoded data removed]",
      "text/plain": [
       "<Figure size 432x288 with 1 Axes>"
      ]
     },
     "metadata": {
      "needs_background": "light"
     },
     "output_type": "display_data"
    }
   ],
   "source": [
    "plt.plot(x[:, 2])"
   ]
  },
  {
   "cell_type": "markdown",
   "metadata": {},
   "source": [
    "# 모델 생성"
   ]
  },
  {
   "cell_type": "code",
   "execution_count": 11,
   "metadata": {},
   "outputs": [],
   "source": [
    "class CLSTM(nn.Module):\n",
    "    def __init__(self, input_size=6, hidden_size=24, num_layers=8, dropout=0.0, bidirectional=False):\n",
    "        super(CLSTM, self).__init__()\n",
    "\n",
    "        self.conv_in = nn.Sequential(\n",
    "            nn.Conv1d(input_size, 12, 5, padding=2),\n",
    "            nn.BatchNorm1d(12),\n",
    "            nn.LeakyReLU(),\n",
    "            nn.Conv1d(12, 24, 5, padding=2),\n",
    "            nn.BatchNorm1d(24),\n",
    "        )\n",
    "\n",
    "        self.rnn = nn.LSTM(input_size=24,\n",
    "                           hidden_size=hidden_size,\n",
    "                           num_layers=num_layers,\n",
    "                           batch_first=True,\n",
    "                           dropout=dropout,\n",
    "                           bidirectional=bidirectional)\n",
    "\n",
    "        out_channels = 2 * hidden_size if bidirectional else hidden_size\n",
    "        self.fc = nn.Linear(out_channels, 3)\n",
    "\n",
    "    def forward(self, x):\n",
    "        x = x.transpose(1, 2)  # B, 48, 6 --> B, 6, 48\n",
    "        x = self.conv_in(x)  # B, 64, 48\n",
    "        x = x.transpose(1, 2)  # B, 48, 64\n",
    "\n",
    "        outs, (hiddens, cells) = self.rnn(x)\n",
    "        x = outs[:, -1, ...]\n",
    "        x = self.fc(x)\n",
    "\n",
    "        return x"
   ]
  },
  {
   "cell_type": "code",
   "execution_count": 12,
   "metadata": {},
   "outputs": [],
   "source": [
    "model = CLSTM(input_size=6, hidden_size=64, num_layers=8, dropout=0.2, bidirectional=True).cuda()"
   ]
  },
  {
   "cell_type": "code",
   "execution_count": 13,
   "metadata": {},
   "outputs": [],
   "source": [
    "criterion = nn.MSELoss().cuda()\n",
    "optimizer = torch_optimizer.RAdam(model.parameters())"
   ]
  },
  {
   "cell_type": "code",
   "execution_count": 14,
   "metadata": {},
   "outputs": [],
   "source": [
    "metrics = [tb.metrics.ModuleMetric(criterion, 'loss'),\n",
    "           utils.HPMetric('hp_metric'),\n",
    "           utils.HPSignalHistory(CHECKPOINT_DIR / 'sample' / '{epoch:04d}.npy', 'hp_signal')]"
   ]
  },
  {
   "cell_type": "code",
   "execution_count": 15,
   "metadata": {},
   "outputs": [],
   "source": [
    "callbacks = [tb.callbacks.EarlyStopping(metrics[0]),\n",
    "             tb.callbacks.LRDecaying(optimizer, metrics[0])]"
   ]
  },
  {
   "cell_type": "code",
   "execution_count": 16,
   "metadata": {},
   "outputs": [],
   "source": [
    "trainer = tb.Trainer(model, optimizer, metrics, callbacks, ncols=100)"
   ]
  },
  {
   "cell_type": "code",
   "execution_count": 17,
   "metadata": {},
   "outputs": [
    {
     "name": "stderr",
     "output_type": "stream",
     "text": [
      "[0001/0100] Train: 100%|█████████████████████████████| 73/73 [00:07<00:00, 10.00it/s, loss 285.5240]\n",
      "[0001/0100] Validation: 100%|████████████████████| 72/72 [00:03<00:00, 21.64it/s, val_loss 224.5503]\n",
      "[0002/0100] Train:   0%|                                                     | 0/73 [00:00<?, ?it/s]"
     ]
    },
    {
     "name": "stdout",
     "output_type": "stream",
     "text": [
      "                  validation\n",
      " - Yaw          :  18.964108\n",
      " - Pitch        :  10.164194\n",
      " - Roll         :   2.585906\n",
      " - RMS          :  12.511796\n",
      " - 99% Tile     :  43.600461\n",
      "Save output signals into checkpoint/1122-Scene3-CLSTM2-win60/sample/0001.npy\n"
     ]
    },
    {
     "name": "stderr",
     "output_type": "stream",
     "text": [
      "[0002/0100] Train: 100%|█████████████████████████████| 73/73 [00:06<00:00, 10.48it/s, loss 239.3792]\n",
      "[0002/0100] Validation: 100%|████████████████████| 72/72 [00:03<00:00, 21.73it/s, val_loss 173.5708]\n",
      "[0003/0100] Train:   0%|                                                     | 0/73 [00:00<?, ?it/s]"
     ]
    },
    {
     "name": "stdout",
     "output_type": "stream",
     "text": [
      "                  validation\n",
      " - Yaw          :  16.006159\n",
      " - Pitch        :   9.006452\n",
      " - Roll         :   2.599421\n",
      " - RMS          :  10.709346\n",
      " - 99% Tile     :  40.584671\n",
      "Save output signals into checkpoint/1122-Scene3-CLSTM2-win60/sample/0002.npy\n"
     ]
    },
    {
     "name": "stderr",
     "output_type": "stream",
     "text": [
      "[0003/0100] Train: 100%|█████████████████████████████| 73/73 [00:06<00:00, 10.49it/s, loss 182.4354]\n",
      "[0003/0100] Validation: 100%|████████████████████| 72/72 [00:03<00:00, 23.70it/s, val_loss 124.9638]\n",
      "[0004/0100] Train:   0%|                                                     | 0/73 [00:00<?, ?it/s]"
     ]
    },
    {
     "name": "stdout",
     "output_type": "stream",
     "text": [
      "                  validation\n",
      " - Yaw          :  11.911264\n",
      " - Pitch        :   8.951899\n",
      " - Roll         :   2.384290\n",
      " - RMS          :   8.712052\n",
      " - 99% Tile     :  34.291900\n",
      "Save output signals into checkpoint/1122-Scene3-CLSTM2-win60/sample/0003.npy\n"
     ]
    },
    {
     "name": "stderr",
     "output_type": "stream",
     "text": [
      "[0004/0100] Train: 100%|█████████████████████████████| 73/73 [00:07<00:00, 10.30it/s, loss 139.4347]\n",
      "[0004/0100] Validation: 100%|█████████████████████| 72/72 [00:02<00:00, 24.92it/s, val_loss 97.4437]\n",
      "[0005/0100] Train:   0%|                                                     | 0/73 [00:00<?, ?it/s]"
     ]
    },
    {
     "name": "stdout",
     "output_type": "stream",
     "text": [
      "                  validation\n",
      " - Yaw          :   9.872518\n",
      " - Pitch        :   8.241949\n",
      " - Roll         :   2.374340\n",
      " - RMS          :   7.550581\n",
      " - 99% Tile     :  30.974430\n",
      "Save output signals into checkpoint/1122-Scene3-CLSTM2-win60/sample/0004.npy\n"
     ]
    },
    {
     "name": "stderr",
     "output_type": "stream",
     "text": [
      "[0005/0100] Train: 100%|█████████████████████████████| 73/73 [00:07<00:00,  9.74it/s, loss 112.4438]\n",
      "[0005/0100] Validation: 100%|█████████████████████| 72/72 [00:02<00:00, 27.57it/s, val_loss 78.3974]\n",
      "[0006/0100] Train:   0%|                                                     | 0/73 [00:00<?, ?it/s]"
     ]
    },
    {
     "name": "stdout",
     "output_type": "stream",
     "text": [
      "                  validation\n",
      " - Yaw          :   8.122780\n",
      " - Pitch        :   7.623143\n",
      " - Roll         :   2.388016\n",
      " - RMS          :   6.577600\n",
      " - 99% Tile     :  28.605207\n",
      "Save output signals into checkpoint/1122-Scene3-CLSTM2-win60/sample/0005.npy\n"
     ]
    },
    {
     "name": "stderr",
     "output_type": "stream",
     "text": [
      "[0006/0100] Train: 100%|██████████████████████████████| 73/73 [00:08<00:00,  9.04it/s, loss 93.4318]\n",
      "[0006/0100] Validation: 100%|█████████████████████| 72/72 [00:02<00:00, 26.10it/s, val_loss 65.8270]\n",
      "[0007/0100] Train:   0%|                                                     | 0/73 [00:00<?, ?it/s]"
     ]
    },
    {
     "name": "stdout",
     "output_type": "stream",
     "text": [
      "                  validation\n",
      " - Yaw          :   7.247237\n",
      " - Pitch        :   7.203657\n",
      " - Roll         :   2.407346\n",
      " - RMS          :   6.061090\n",
      " - 99% Tile     :  25.969343\n",
      "Save output signals into checkpoint/1122-Scene3-CLSTM2-win60/sample/0006.npy\n"
     ]
    },
    {
     "name": "stderr",
     "output_type": "stream",
     "text": [
      "[0007/0100] Train: 100%|██████████████████████████████| 73/73 [00:07<00:00,  9.43it/s, loss 78.6806]\n",
      "[0007/0100] Validation: 100%|█████████████████████| 72/72 [00:03<00:00, 19.82it/s, val_loss 56.2091]\n",
      "[0008/0100] Train:   0%|                                                     | 0/73 [00:00<?, ?it/s]"
     ]
    },
    {
     "name": "stdout",
     "output_type": "stream",
     "text": [
      "                  validation\n",
      " - Yaw          :   6.246161\n",
      " - Pitch        :   7.112129\n",
      " - Roll         :   2.374032\n",
      " - RMS          :   5.634210\n",
      " - 99% Tile     :  24.297398\n",
      "Save output signals into checkpoint/1122-Scene3-CLSTM2-win60/sample/0007.npy\n"
     ]
    },
    {
     "name": "stderr",
     "output_type": "stream",
     "text": [
      "[0008/0100] Train: 100%|██████████████████████████████| 73/73 [00:07<00:00,  9.56it/s, loss 67.5598]\n",
      "[0008/0100] Validation: 100%|█████████████████████| 72/72 [00:03<00:00, 18.34it/s, val_loss 48.9429]\n",
      "[0009/0100] Train:   0%|                                                     | 0/73 [00:00<?, ?it/s]"
     ]
    },
    {
     "name": "stdout",
     "output_type": "stream",
     "text": [
      "                  validation\n",
      " - Yaw          :   5.403385\n",
      " - Pitch        :   6.936771\n",
      " - Roll         :   2.374824\n",
      " - RMS          :   5.258490\n",
      " - 99% Tile     :  22.633353\n",
      "Save output signals into checkpoint/1122-Scene3-CLSTM2-win60/sample/0008.npy\n"
     ]
    },
    {
     "name": "stderr",
     "output_type": "stream",
     "text": [
      "[0009/0100] Train: 100%|██████████████████████████████| 73/73 [00:10<00:00,  6.72it/s, loss 58.9215]\n",
      "[0009/0100] Validation: 100%|█████████████████████| 72/72 [00:03<00:00, 19.29it/s, val_loss 43.2566]\n",
      "[0010/0100] Train:   0%|                                                     | 0/73 [00:00<?, ?it/s]"
     ]
    },
    {
     "name": "stdout",
     "output_type": "stream",
     "text": [
      "                  validation\n",
      " - Yaw          :   4.475614\n",
      " - Pitch        :   6.928471\n",
      " - Roll         :   2.368238\n",
      " - RMS          :   4.954573\n",
      " - 99% Tile     :  22.082719\n",
      "Save output signals into checkpoint/1122-Scene3-CLSTM2-win60/sample/0009.npy\n"
     ]
    },
    {
     "name": "stderr",
     "output_type": "stream",
     "text": [
      "[0010/0100] Train: 100%|██████████████████████████████| 73/73 [00:10<00:00,  6.82it/s, loss 52.5492]\n",
      "[0010/0100] Validation: 100%|█████████████████████| 72/72 [00:04<00:00, 17.02it/s, val_loss 40.3744]\n",
      "[0011/0100] Train:   0%|                                                     | 0/73 [00:00<?, ?it/s]"
     ]
    },
    {
     "name": "stdout",
     "output_type": "stream",
     "text": [
      "                  validation\n",
      " - Yaw          :   4.169696\n",
      " - Pitch        :   7.031218\n",
      " - Roll         :   2.337202\n",
      " - RMS          :   4.908731\n",
      " - 99% Tile     :  21.672473\n",
      "Save output signals into checkpoint/1122-Scene3-CLSTM2-win60/sample/0010.npy\n"
     ]
    },
    {
     "name": "stderr",
     "output_type": "stream",
     "text": [
      "[0011/0100] Train: 100%|██████████████████████████████| 73/73 [00:10<00:00,  7.21it/s, loss 47.2251]\n",
      "[0011/0100] Validation: 100%|█████████████████████| 72/72 [00:03<00:00, 21.57it/s, val_loss 36.5766]\n",
      "[0012/0100] Train:   0%|                                                     | 0/73 [00:00<?, ?it/s]"
     ]
    },
    {
     "name": "stdout",
     "output_type": "stream",
     "text": [
      "                  validation\n",
      " - Yaw          :   3.717454\n",
      " - Pitch        :   6.789948\n",
      " - Roll         :   2.332738\n",
      " - RMS          :   4.667781\n",
      " - 99% Tile     :  20.933876\n",
      "Save output signals into checkpoint/1122-Scene3-CLSTM2-win60/sample/0011.npy\n"
     ]
    },
    {
     "name": "stderr",
     "output_type": "stream",
     "text": [
      "[0012/0100] Train: 100%|██████████████████████████████| 73/73 [00:10<00:00,  6.97it/s, loss 43.2470]\n",
      "[0012/0100] Validation: 100%|█████████████████████| 72/72 [00:03<00:00, 21.69it/s, val_loss 34.5157]\n",
      "[0013/0100] Train:   0%|                                                     | 0/73 [00:00<?, ?it/s]"
     ]
    },
    {
     "name": "stdout",
     "output_type": "stream",
     "text": [
      "                  validation\n",
      " - Yaw          :   3.448948\n",
      " - Pitch        :   6.550673\n",
      " - Roll         :   2.354312\n",
      " - RMS          :   4.485137\n",
      " - 99% Tile     :  20.364688\n",
      "Save output signals into checkpoint/1122-Scene3-CLSTM2-win60/sample/0012.npy\n"
     ]
    },
    {
     "name": "stderr",
     "output_type": "stream",
     "text": [
      "[0013/0100] Train: 100%|██████████████████████████████| 73/73 [00:11<00:00,  6.49it/s, loss 39.6117]\n",
      "[0013/0100] Validation: 100%|█████████████████████| 72/72 [00:03<00:00, 21.88it/s, val_loss 30.7075]\n",
      "[0014/0100] Train:   0%|                                                     | 0/73 [00:00<?, ?it/s]"
     ]
    },
    {
     "name": "stdout",
     "output_type": "stream",
     "text": [
      "                  validation\n",
      " - Yaw          :   3.431175\n",
      " - Pitch        :   5.928831\n",
      " - Roll         :   2.339915\n",
      " - RMS          :   4.179282\n",
      " - 99% Tile     :  20.044374\n",
      "Save output signals into checkpoint/1122-Scene3-CLSTM2-win60/sample/0013.npy\n"
     ]
    },
    {
     "name": "stderr",
     "output_type": "stream",
     "text": [
      "[0014/0100] Train: 100%|██████████████████████████████| 73/73 [00:11<00:00,  6.34it/s, loss 32.7839]\n",
      "[0014/0100] Validation: 100%|█████████████████████| 72/72 [00:03<00:00, 21.22it/s, val_loss 22.5879]\n",
      "[0015/0100] Train:   0%|                                                     | 0/73 [00:00<?, ?it/s]"
     ]
    },
    {
     "name": "stdout",
     "output_type": "stream",
     "text": [
      "                  validation\n",
      " - Yaw          :   3.495384\n",
      " - Pitch        :   4.271893\n",
      " - Roll         :   2.299048\n",
      " - RMS          :   3.452168\n",
      " - 99% Tile     :  16.673965\n",
      "Save output signals into checkpoint/1122-Scene3-CLSTM2-win60/sample/0014.npy\n"
     ]
    },
    {
     "name": "stderr",
     "output_type": "stream",
     "text": [
      "[0015/0100] Train: 100%|██████████████████████████████| 73/73 [00:11<00:00,  6.49it/s, loss 25.3296]\n",
      "[0015/0100] Validation: 100%|█████████████████████| 72/72 [00:03<00:00, 22.06it/s, val_loss 13.9427]\n",
      "[0016/0100] Train:   0%|                                                     | 0/73 [00:00<?, ?it/s]"
     ]
    },
    {
     "name": "stdout",
     "output_type": "stream",
     "text": [
      "                  validation\n",
      " - Yaw          :   2.202549\n",
      " - Pitch        :   3.048987\n",
      " - Roll         :   2.334249\n",
      " - RMS          :   2.555795\n",
      " - 99% Tile     :  13.377637\n",
      "Save output signals into checkpoint/1122-Scene3-CLSTM2-win60/sample/0015.npy\n"
     ]
    },
    {
     "name": "stderr",
     "output_type": "stream",
     "text": [
      "[0016/0100] Train: 100%|██████████████████████████████| 73/73 [00:11<00:00,  6.50it/s, loss 21.8052]\n",
      "[0016/0100] Validation: 100%|█████████████████████| 72/72 [00:03<00:00, 21.19it/s, val_loss 12.0741]\n",
      "[0017/0100] Train:   0%|                                                     | 0/73 [00:00<?, ?it/s]"
     ]
    },
    {
     "name": "stdout",
     "output_type": "stream",
     "text": [
      "                  validation\n",
      " - Yaw          :   2.398910\n",
      " - Pitch        :   2.799642\n",
      " - Roll         :   2.293094\n",
      " - RMS          :   2.506727\n",
      " - 99% Tile     :  11.573147\n",
      "Save output signals into checkpoint/1122-Scene3-CLSTM2-win60/sample/0016.npy\n"
     ]
    },
    {
     "name": "stderr",
     "output_type": "stream",
     "text": [
      "[0017/0100] Train: 100%|██████████████████████████████| 73/73 [00:10<00:00,  6.95it/s, loss 18.5695]\n",
      "[0017/0100] Validation: 100%|█████████████████████| 72/72 [00:04<00:00, 16.73it/s, val_loss 10.0837]\n",
      "[0018/0100] Train:   0%|                                                     | 0/73 [00:00<?, ?it/s]"
     ]
    },
    {
     "name": "stdout",
     "output_type": "stream",
     "text": [
      "                  validation\n",
      " - Yaw          :   2.320822\n",
      " - Pitch        :   2.096148\n",
      " - Roll         :   2.329421\n",
      " - RMS          :   2.251389\n",
      " - 99% Tile     :  10.548941\n",
      "Save output signals into checkpoint/1122-Scene3-CLSTM2-win60/sample/0017.npy\n"
     ]
    },
    {
     "name": "stderr",
     "output_type": "stream",
     "text": [
      "[0018/0100] Train: 100%|██████████████████████████████| 73/73 [00:07<00:00, 10.38it/s, loss 16.3454]\n",
      "[0018/0100] Validation: 100%|██████████████████████| 72/72 [00:02<00:00, 24.50it/s, val_loss 9.0785]\n",
      "[0019/0100] Train:   0%|                                                     | 0/73 [00:00<?, ?it/s]"
     ]
    },
    {
     "name": "stdout",
     "output_type": "stream",
     "text": [
      "                  validation\n",
      " - Yaw          :   2.062597\n",
      " - Pitch        :   1.968833\n",
      " - Roll         :   2.308614\n",
      " - RMS          :   2.118200\n",
      " - 99% Tile     :  10.065959\n",
      "Save output signals into checkpoint/1122-Scene3-CLSTM2-win60/sample/0018.npy\n"
     ]
    },
    {
     "name": "stderr",
     "output_type": "stream",
     "text": [
      "[0019/0100] Train: 100%|██████████████████████████████| 73/73 [00:07<00:00, 10.20it/s, loss 14.7406]\n",
      "[0019/0100] Validation: 100%|██████████████████████| 72/72 [00:02<00:00, 25.27it/s, val_loss 8.1037]\n",
      "[0020/0100] Train:   0%|                                                     | 0/73 [00:00<?, ?it/s]"
     ]
    },
    {
     "name": "stdout",
     "output_type": "stream",
     "text": [
      "                  validation\n",
      " - Yaw          :   1.611997\n",
      " - Pitch        :   2.002547\n",
      " - Roll         :   2.283495\n",
      " - RMS          :   1.985202\n",
      " - 99% Tile     :   9.693919\n",
      "Save output signals into checkpoint/1122-Scene3-CLSTM2-win60/sample/0019.npy\n"
     ]
    },
    {
     "name": "stderr",
     "output_type": "stream",
     "text": [
      "[0020/0100] Train: 100%|██████████████████████████████| 73/73 [00:06<00:00, 10.55it/s, loss 13.5974]\n",
      "[0020/0100] Validation: 100%|██████████████████████| 72/72 [00:02<00:00, 24.66it/s, val_loss 7.8927]\n",
      "[0021/0100] Train:   0%|                                                     | 0/73 [00:00<?, ?it/s]"
     ]
    },
    {
     "name": "stdout",
     "output_type": "stream",
     "text": [
      "                  validation\n",
      " - Yaw          :   1.970741\n",
      " - Pitch        :   1.986272\n",
      " - Roll         :   2.226372\n",
      " - RMS          :   2.064447\n",
      " - 99% Tile     :   9.155835\n",
      "Save output signals into checkpoint/1122-Scene3-CLSTM2-win60/sample/0020.npy\n"
     ]
    },
    {
     "name": "stderr",
     "output_type": "stream",
     "text": [
      "[0021/0100] Train: 100%|██████████████████████████████| 73/73 [00:06<00:00, 10.65it/s, loss 12.4161]\n",
      "[0021/0100] Validation: 100%|██████████████████████| 72/72 [00:02<00:00, 24.63it/s, val_loss 6.7787]\n",
      "[0022/0100] Train:   0%|                                                     | 0/73 [00:00<?, ?it/s]"
     ]
    },
    {
     "name": "stdout",
     "output_type": "stream",
     "text": [
      "                  validation\n",
      " - Yaw          :   1.451226\n",
      " - Pitch        :   1.695291\n",
      " - Roll         :   2.331851\n",
      " - RMS          :   1.863474\n",
      " - 99% Tile     :   8.484226\n",
      "Save output signals into checkpoint/1122-Scene3-CLSTM2-win60/sample/0021.npy\n"
     ]
    },
    {
     "name": "stderr",
     "output_type": "stream",
     "text": [
      "[0022/0100] Train: 100%|██████████████████████████████| 73/73 [00:06<00:00, 10.45it/s, loss 11.6734]\n",
      "[0022/0100] Validation: 100%|██████████████████████| 72/72 [00:02<00:00, 25.19it/s, val_loss 6.2299]\n",
      "[0023/0100] Train:   0%|                                                     | 0/73 [00:00<?, ?it/s]"
     ]
    },
    {
     "name": "stdout",
     "output_type": "stream",
     "text": [
      "                  validation\n",
      " - Yaw          :   1.542923\n",
      " - Pitch        :   1.338803\n",
      " - Roll         :   2.261579\n",
      " - RMS          :   1.759521\n",
      " - 99% Tile     :   8.161620\n",
      "Save output signals into checkpoint/1122-Scene3-CLSTM2-win60/sample/0022.npy\n"
     ]
    },
    {
     "name": "stderr",
     "output_type": "stream",
     "text": [
      "[0023/0100] Train: 100%|██████████████████████████████| 73/73 [00:07<00:00, 10.39it/s, loss 11.1740]\n",
      "[0023/0100] Validation: 100%|██████████████████████| 72/72 [00:03<00:00, 23.00it/s, val_loss 6.2476]\n",
      "[0024/0100] Train:   0%|                                                     | 0/73 [00:00<?, ?it/s]"
     ]
    },
    {
     "name": "stdout",
     "output_type": "stream",
     "text": [
      "val_loss is not improved for 1 epochs\n",
      "                  validation\n",
      " - Yaw          :   1.652423\n",
      " - Pitch        :   1.564060\n",
      " - Roll         :   2.233517\n",
      " - RMS          :   1.840777\n",
      " - 99% Tile     :   7.895537\n",
      "Save output signals into checkpoint/1122-Scene3-CLSTM2-win60/sample/0023.npy\n"
     ]
    },
    {
     "name": "stderr",
     "output_type": "stream",
     "text": [
      "[0024/0100] Train: 100%|██████████████████████████████| 73/73 [00:06<00:00, 10.83it/s, loss 10.4994]\n",
      "[0024/0100] Validation: 100%|██████████████████████| 72/72 [00:03<00:00, 20.71it/s, val_loss 6.2560]\n",
      "[0025/0100] Train:   0%|                                                     | 0/73 [00:00<?, ?it/s]"
     ]
    },
    {
     "name": "stdout",
     "output_type": "stream",
     "text": [
      "val_loss is not improved for 2 epochs\n",
      "                  validation\n",
      " - Yaw          :   1.718906\n",
      " - Pitch        :   1.485839\n",
      " - Roll         :   2.262916\n",
      " - RMS          :   1.851409\n",
      " - 99% Tile     :   7.773852\n",
      "Save output signals into checkpoint/1122-Scene3-CLSTM2-win60/sample/0024.npy\n"
     ]
    },
    {
     "name": "stderr",
     "output_type": "stream",
     "text": [
      "[0025/0100] Train: 100%|██████████████████████████████| 73/73 [00:07<00:00, 10.31it/s, loss 10.1728]\n",
      "[0025/0100] Validation: 100%|██████████████████████| 72/72 [00:03<00:00, 23.27it/s, val_loss 5.8220]\n",
      "[0026/0100] Train:   0%|                                                     | 0/73 [00:00<?, ?it/s]"
     ]
    },
    {
     "name": "stdout",
     "output_type": "stream",
     "text": [
      "                  validation\n",
      " - Yaw          :   1.555826\n",
      " - Pitch        :   1.372492\n",
      " - Roll         :   2.234185\n",
      " - RMS          :   1.760295\n",
      " - 99% Tile     :   7.520442\n",
      "Save output signals into checkpoint/1122-Scene3-CLSTM2-win60/sample/0025.npy\n"
     ]
    },
    {
     "name": "stderr",
     "output_type": "stream",
     "text": [
      "[0026/0100] Train: 100%|███████████████████████████████| 73/73 [00:07<00:00,  9.86it/s, loss 9.6826]\n",
      "[0026/0100] Validation: 100%|██████████████████████| 72/72 [00:03<00:00, 23.75it/s, val_loss 5.2996]\n",
      "[0027/0100] Train:   0%|                                                     | 0/73 [00:00<?, ?it/s]"
     ]
    },
    {
     "name": "stdout",
     "output_type": "stream",
     "text": [
      "                  validation\n",
      " - Yaw          :   1.338979\n",
      " - Pitch        :   1.209671\n",
      " - Roll         :   2.263945\n",
      " - RMS          :   1.671488\n",
      " - 99% Tile     :   7.325925\n",
      "Save output signals into checkpoint/1122-Scene3-CLSTM2-win60/sample/0026.npy\n"
     ]
    },
    {
     "name": "stderr",
     "output_type": "stream",
     "text": [
      "[0027/0100] Train: 100%|███████████████████████████████| 73/73 [00:07<00:00, 10.02it/s, loss 9.0132]\n",
      "[0027/0100] Validation: 100%|██████████████████████| 72/72 [00:03<00:00, 20.11it/s, val_loss 5.0867]\n",
      "[0028/0100] Train:   0%|                                                     | 0/73 [00:00<?, ?it/s]"
     ]
    },
    {
     "name": "stdout",
     "output_type": "stream",
     "text": [
      "                  validation\n",
      " - Yaw          :   1.341522\n",
      " - Pitch        :   1.088093\n",
      " - Roll         :   2.250071\n",
      " - RMS          :   1.637727\n",
      " - 99% Tile     :   7.071836\n",
      "Save output signals into checkpoint/1122-Scene3-CLSTM2-win60/sample/0027.npy\n"
     ]
    },
    {
     "name": "stderr",
     "output_type": "stream",
     "text": [
      "[0028/0100] Train: 100%|███████████████████████████████| 73/73 [00:07<00:00, 10.04it/s, loss 8.8135]\n",
      "[0028/0100] Validation: 100%|██████████████████████| 72/72 [00:03<00:00, 20.68it/s, val_loss 4.8540]\n",
      "[0029/0100] Train:   0%|                                                     | 0/73 [00:00<?, ?it/s]"
     ]
    },
    {
     "name": "stdout",
     "output_type": "stream",
     "text": [
      "                  validation\n",
      " - Yaw          :   1.208851\n",
      " - Pitch        :   1.135573\n",
      " - Roll         :   2.246885\n",
      " - RMS          :   1.612383\n",
      " - 99% Tile     :   7.071541\n",
      "Save output signals into checkpoint/1122-Scene3-CLSTM2-win60/sample/0028.npy\n"
     ]
    },
    {
     "name": "stderr",
     "output_type": "stream",
     "text": [
      "[0029/0100] Train: 100%|███████████████████████████████| 73/73 [00:07<00:00,  9.64it/s, loss 8.2095]\n",
      "[0029/0100] Validation: 100%|██████████████████████| 72/72 [00:03<00:00, 20.16it/s, val_loss 4.9408]\n",
      "[0030/0100] Train:   0%|                                                     | 0/73 [00:00<?, ?it/s]"
     ]
    },
    {
     "name": "stdout",
     "output_type": "stream",
     "text": [
      "val_loss is not improved for 1 epochs\n",
      "                  validation\n",
      " - Yaw          :   1.215320\n",
      " - Pitch        :   1.088987\n",
      " - Roll         :   2.285948\n",
      " - RMS          :   1.621568\n",
      " - 99% Tile     :   6.901389\n",
      "Save output signals into checkpoint/1122-Scene3-CLSTM2-win60/sample/0029.npy\n"
     ]
    },
    {
     "name": "stderr",
     "output_type": "stream",
     "text": [
      "[0030/0100] Train: 100%|███████████████████████████████| 73/73 [00:07<00:00,  9.61it/s, loss 8.2203]\n",
      "[0030/0100] Validation: 100%|██████████████████████| 72/72 [00:03<00:00, 19.94it/s, val_loss 5.1218]\n",
      "[0031/0100] Train:   0%|                                                     | 0/73 [00:00<?, ?it/s]"
     ]
    },
    {
     "name": "stdout",
     "output_type": "stream",
     "text": [
      "val_loss is not improved for 2 epochs\n",
      "                  validation\n",
      " - Yaw          :   1.449259\n",
      " - Pitch        :   1.041160\n",
      " - Roll         :   2.250759\n",
      " - RMS          :   1.658341\n",
      " - 99% Tile     :   7.041455\n",
      "Save output signals into checkpoint/1122-Scene3-CLSTM2-win60/sample/0030.npy\n"
     ]
    },
    {
     "name": "stderr",
     "output_type": "stream",
     "text": [
      "[0031/0100] Train: 100%|███████████████████████████████| 73/73 [00:07<00:00,  9.22it/s, loss 7.9375]\n",
      "[0031/0100] Validation: 100%|██████████████████████| 72/72 [00:03<00:00, 18.82it/s, val_loss 5.0706]\n",
      "[0032/0100] Train:   0%|                                                     | 0/73 [00:00<?, ?it/s]"
     ]
    },
    {
     "name": "stdout",
     "output_type": "stream",
     "text": [
      "val_loss is not improved for 3 epochs\n",
      "                  validation\n",
      " - Yaw          :   1.454984\n",
      " - Pitch        :   1.067177\n",
      " - Roll         :   2.242002\n",
      " - RMS          :   1.661567\n",
      " - 99% Tile     :   6.947062\n",
      "Save output signals into checkpoint/1122-Scene3-CLSTM2-win60/sample/0031.npy\n"
     ]
    },
    {
     "name": "stderr",
     "output_type": "stream",
     "text": [
      "[0032/0100] Train: 100%|███████████████████████████████| 73/73 [00:08<00:00,  9.02it/s, loss 7.8090]\n",
      "[0032/0100] Validation: 100%|██████████████████████| 72/72 [00:03<00:00, 19.46it/s, val_loss 5.0238]\n",
      "[0033/0100] Train:   0%|                                                     | 0/73 [00:00<?, ?it/s]"
     ]
    },
    {
     "name": "stdout",
     "output_type": "stream",
     "text": [
      "val_loss is not improved for 4 epochs\n",
      "                  validation\n",
      " - Yaw          :   1.435737\n",
      " - Pitch        :   1.169090\n",
      " - Roll         :   2.258626\n",
      " - RMS          :   1.686170\n",
      " - 99% Tile     :   7.013828\n",
      "Save output signals into checkpoint/1122-Scene3-CLSTM2-win60/sample/0032.npy\n"
     ]
    },
    {
     "name": "stderr",
     "output_type": "stream",
     "text": [
      "[0033/0100] Train: 100%|███████████████████████████████| 73/73 [00:07<00:00,  9.17it/s, loss 7.3359]\n",
      "[0033/0100] Validation: 100%|██████████████████████| 72/72 [00:03<00:00, 20.07it/s, val_loss 5.2128]\n",
      "[0034/0100] Train:   0%|                                                     | 0/73 [00:00<?, ?it/s]"
     ]
    },
    {
     "name": "stdout",
     "output_type": "stream",
     "text": [
      "Decaying lr from 0.001 to 0.0005 because val_loss did not improved for 5 epochs\n",
      "val_loss is not improved for 5 epochs\n",
      "                  validation\n",
      " - Yaw          :   1.247018\n",
      " - Pitch        :   1.221995\n",
      " - Roll         :   2.306836\n",
      " - RMS          :   1.670311\n",
      " - 99% Tile     :   7.005770\n",
      "Save output signals into checkpoint/1122-Scene3-CLSTM2-win60/sample/0033.npy\n"
     ]
    },
    {
     "name": "stderr",
     "output_type": "stream",
     "text": [
      "[0034/0100] Train: 100%|███████████████████████████████| 73/73 [00:07<00:00,  9.29it/s, loss 7.0217]\n",
      "[0034/0100] Validation: 100%|██████████████████████| 72/72 [00:03<00:00, 18.75it/s, val_loss 4.5956]\n",
      "[0035/0100] Train:   0%|                                                     | 0/73 [00:00<?, ?it/s]"
     ]
    },
    {
     "name": "stdout",
     "output_type": "stream",
     "text": [
      "                  validation\n",
      " - Yaw          :   1.266129\n",
      " - Pitch        :   1.050724\n",
      " - Roll         :   2.248037\n",
      " - RMS          :   1.608392\n",
      " - 99% Tile     :   6.728228\n",
      "Save output signals into checkpoint/1122-Scene3-CLSTM2-win60/sample/0034.npy\n"
     ]
    },
    {
     "name": "stderr",
     "output_type": "stream",
     "text": [
      "[0035/0100] Train: 100%|███████████████████████████████| 73/73 [00:08<00:00,  8.86it/s, loss 6.8006]\n",
      "[0035/0100] Validation: 100%|██████████████████████| 72/72 [00:03<00:00, 19.33it/s, val_loss 4.2364]\n",
      "[0036/0100] Train:   0%|                                                     | 0/73 [00:00<?, ?it/s]"
     ]
    },
    {
     "name": "stdout",
     "output_type": "stream",
     "text": [
      "                  validation\n",
      " - Yaw          :   0.967617\n",
      " - Pitch        :   0.922091\n",
      " - Roll         :   2.261565\n",
      " - RMS          :   1.516708\n",
      " - 99% Tile     :   6.693710\n",
      "Save output signals into checkpoint/1122-Scene3-CLSTM2-win60/sample/0035.npy\n"
     ]
    },
    {
     "name": "stderr",
     "output_type": "stream",
     "text": [
      "[0036/0100] Train: 100%|███████████████████████████████| 73/73 [00:07<00:00,  9.18it/s, loss 6.9363]\n",
      "[0036/0100] Validation: 100%|██████████████████████| 72/72 [00:03<00:00, 20.82it/s, val_loss 4.3818]\n",
      "[0037/0100] Train:   0%|                                                     | 0/73 [00:00<?, ?it/s]"
     ]
    },
    {
     "name": "stdout",
     "output_type": "stream",
     "text": [
      "val_loss is not improved for 1 epochs\n",
      "                  validation\n",
      " - Yaw          :   1.009785\n",
      " - Pitch        :   0.947934\n",
      " - Roll         :   2.258462\n",
      " - RMS          :   1.529586\n",
      " - 99% Tile     :   6.701551\n",
      "Save output signals into checkpoint/1122-Scene3-CLSTM2-win60/sample/0036.npy\n"
     ]
    },
    {
     "name": "stderr",
     "output_type": "stream",
     "text": [
      "[0037/0100] Train: 100%|███████████████████████████████| 73/73 [00:07<00:00,  9.45it/s, loss 6.5639]\n",
      "[0037/0100] Validation: 100%|██████████████████████| 72/72 [00:03<00:00, 22.37it/s, val_loss 4.4718]\n",
      "[0038/0100] Train:   0%|                                                     | 0/73 [00:00<?, ?it/s]"
     ]
    },
    {
     "name": "stdout",
     "output_type": "stream",
     "text": [
      "val_loss is not improved for 2 epochs\n",
      "                  validation\n",
      " - Yaw          :   1.032601\n",
      " - Pitch        :   1.021818\n",
      " - Roll         :   2.246190\n",
      " - RMS          :   1.544425\n",
      " - 99% Tile     :   6.651680\n",
      "Save output signals into checkpoint/1122-Scene3-CLSTM2-win60/sample/0037.npy\n"
     ]
    },
    {
     "name": "stderr",
     "output_type": "stream",
     "text": [
      "[0038/0100] Train: 100%|███████████████████████████████| 73/73 [00:07<00:00,  9.31it/s, loss 6.4467]\n",
      "[0038/0100] Validation: 100%|██████████████████████| 72/72 [00:02<00:00, 25.22it/s, val_loss 4.2494]\n",
      "[0039/0100] Train:   0%|                                                     | 0/73 [00:00<?, ?it/s]"
     ]
    },
    {
     "name": "stdout",
     "output_type": "stream",
     "text": [
      "val_loss is not improved for 3 epochs\n",
      "                  validation\n",
      " - Yaw          :   0.960599\n",
      " - Pitch        :   0.939921\n",
      " - Roll         :   2.256686\n",
      " - RMS          :   1.516447\n",
      " - 99% Tile     :   6.639639\n",
      "Save output signals into checkpoint/1122-Scene3-CLSTM2-win60/sample/0038.npy\n"
     ]
    },
    {
     "name": "stderr",
     "output_type": "stream",
     "text": [
      "[0039/0100] Train: 100%|███████████████████████████████| 73/73 [00:07<00:00,  9.24it/s, loss 6.5732]\n",
      "[0039/0100] Validation: 100%|██████████████████████| 72/72 [00:02<00:00, 24.21it/s, val_loss 4.3878]\n",
      "[0040/0100] Train:   0%|                                                     | 0/73 [00:00<?, ?it/s]"
     ]
    },
    {
     "name": "stdout",
     "output_type": "stream",
     "text": [
      "val_loss is not improved for 4 epochs\n",
      "                  validation\n",
      " - Yaw          :   1.058574\n",
      " - Pitch        :   0.934649\n",
      " - Roll         :   2.282850\n",
      " - RMS          :   1.549791\n",
      " - 99% Tile     :   6.670805\n",
      "Save output signals into checkpoint/1122-Scene3-CLSTM2-win60/sample/0039.npy\n"
     ]
    },
    {
     "name": "stderr",
     "output_type": "stream",
     "text": [
      "[0040/0100] Train: 100%|███████████████████████████████| 73/73 [00:07<00:00,  9.46it/s, loss 6.3231]\n",
      "[0040/0100] Validation: 100%|██████████████████████| 72/72 [00:02<00:00, 27.41it/s, val_loss 4.5128]\n",
      "[0041/0100] Train:   0%|                                                     | 0/73 [00:00<?, ?it/s]"
     ]
    },
    {
     "name": "stdout",
     "output_type": "stream",
     "text": [
      "Decaying lr from 0.0005 to 0.00025 because val_loss did not improved for 5 epochs\n",
      "val_loss is not improved for 5 epochs\n",
      "                  validation\n",
      " - Yaw          :   1.001922\n",
      " - Pitch        :   1.129124\n",
      " - Roll         :   2.259330\n",
      " - RMS          :   1.568794\n",
      " - 99% Tile     :   6.679882\n",
      "Save output signals into checkpoint/1122-Scene3-CLSTM2-win60/sample/0040.npy\n"
     ]
    },
    {
     "name": "stderr",
     "output_type": "stream",
     "text": [
      "[0041/0100] Train: 100%|███████████████████████████████| 73/73 [00:07<00:00,  9.47it/s, loss 6.0174]\n",
      "[0041/0100] Validation: 100%|██████████████████████| 72/72 [00:02<00:00, 28.23it/s, val_loss 4.2465]\n",
      "[0042/0100] Train:   0%|                                                     | 0/73 [00:00<?, ?it/s]"
     ]
    },
    {
     "name": "stdout",
     "output_type": "stream",
     "text": [
      "val_loss is not improved for 6 epochs\n",
      "                  validation\n",
      " - Yaw          :   0.995152\n",
      " - Pitch        :   0.929309\n",
      " - Roll         :   2.247788\n",
      " - RMS          :   1.517289\n",
      " - 99% Tile     :   6.631977\n",
      "Save output signals into checkpoint/1122-Scene3-CLSTM2-win60/sample/0041.npy\n"
     ]
    },
    {
     "name": "stderr",
     "output_type": "stream",
     "text": [
      "[0042/0100] Train: 100%|███████████████████████████████| 73/73 [00:08<00:00,  9.08it/s, loss 6.0239]\n",
      "[0042/0100] Validation: 100%|██████████████████████| 72/72 [00:02<00:00, 27.32it/s, val_loss 4.3361]\n",
      "[0043/0100] Train:   0%|                                                     | 0/73 [00:00<?, ?it/s]"
     ]
    },
    {
     "name": "stdout",
     "output_type": "stream",
     "text": [
      "val_loss is not improved for 7 epochs\n",
      "                  validation\n",
      " - Yaw          :   1.158044\n",
      " - Pitch        :   0.948210\n",
      " - Roll         :   2.249658\n",
      " - RMS          :   1.560035\n",
      " - 99% Tile     :   6.501768\n",
      "Save output signals into checkpoint/1122-Scene3-CLSTM2-win60/sample/0042.npy\n"
     ]
    },
    {
     "name": "stderr",
     "output_type": "stream",
     "text": [
      "[0043/0100] Train: 100%|███████████████████████████████| 73/73 [00:08<00:00,  9.10it/s, loss 5.9042]\n",
      "[0043/0100] Validation: 100%|██████████████████████| 72/72 [00:02<00:00, 27.06it/s, val_loss 4.0482]\n",
      "[0044/0100] Train:   0%|                                                     | 0/73 [00:00<?, ?it/s]"
     ]
    },
    {
     "name": "stdout",
     "output_type": "stream",
     "text": [
      "                  validation\n",
      " - Yaw          :   0.894624\n",
      " - Pitch        :   0.860565\n",
      " - Roll         :   2.245557\n",
      " - RMS          :   1.481379\n",
      " - 99% Tile     :   6.547526\n",
      "Save output signals into checkpoint/1122-Scene3-CLSTM2-win60/sample/0043.npy\n"
     ]
    },
    {
     "name": "stderr",
     "output_type": "stream",
     "text": [
      "[0044/0100] Train: 100%|███████████████████████████████| 73/73 [00:08<00:00,  8.93it/s, loss 5.9216]\n",
      "[0044/0100] Validation: 100%|██████████████████████| 72/72 [00:02<00:00, 27.42it/s, val_loss 4.2055]\n",
      "[0045/0100] Train:   0%|                                                     | 0/73 [00:00<?, ?it/s]"
     ]
    },
    {
     "name": "stdout",
     "output_type": "stream",
     "text": [
      "val_loss is not improved for 1 epochs\n",
      "                  validation\n",
      " - Yaw          :   1.046192\n",
      " - Pitch        :   0.939272\n",
      " - Roll         :   2.235644\n",
      " - RMS          :   1.524779\n",
      " - 99% Tile     :   6.549231\n",
      "Save output signals into checkpoint/1122-Scene3-CLSTM2-win60/sample/0044.npy\n"
     ]
    },
    {
     "name": "stderr",
     "output_type": "stream",
     "text": [
      "[0045/0100] Train: 100%|███████████████████████████████| 73/73 [00:07<00:00,  9.39it/s, loss 5.8950]\n",
      "[0045/0100] Validation: 100%|██████████████████████| 72/72 [00:02<00:00, 26.71it/s, val_loss 4.2964]\n",
      "[0046/0100] Train:   0%|                                                     | 0/73 [00:00<?, ?it/s]"
     ]
    },
    {
     "name": "stdout",
     "output_type": "stream",
     "text": [
      "val_loss is not improved for 2 epochs\n",
      "                  validation\n",
      " - Yaw          :   1.137185\n",
      " - Pitch        :   0.998390\n",
      " - Roll         :   2.234282\n",
      " - RMS          :   1.557989\n",
      " - 99% Tile     :   6.512501\n",
      "Save output signals into checkpoint/1122-Scene3-CLSTM2-win60/sample/0045.npy\n"
     ]
    },
    {
     "name": "stderr",
     "output_type": "stream",
     "text": [
      "[0046/0100] Train: 100%|███████████████████████████████| 73/73 [00:07<00:00,  9.72it/s, loss 5.7745]\n",
      "[0046/0100] Validation: 100%|██████████████████████| 72/72 [00:02<00:00, 27.10it/s, val_loss 4.1218]\n",
      "[0047/0100] Train:   0%|                                                     | 0/73 [00:00<?, ?it/s]"
     ]
    },
    {
     "name": "stdout",
     "output_type": "stream",
     "text": [
      "val_loss is not improved for 3 epochs\n",
      "                  validation\n",
      " - Yaw          :   1.058847\n",
      " - Pitch        :   0.863221\n",
      " - Roll         :   2.241180\n",
      " - RMS          :   1.515387\n",
      " - 99% Tile     :   6.578074\n",
      "Save output signals into checkpoint/1122-Scene3-CLSTM2-win60/sample/0046.npy\n"
     ]
    },
    {
     "name": "stderr",
     "output_type": "stream",
     "text": [
      "[0047/0100] Train: 100%|███████████████████████████████| 73/73 [00:07<00:00,  9.87it/s, loss 5.7278]\n",
      "[0047/0100] Validation: 100%|██████████████████████| 72/72 [00:02<00:00, 25.69it/s, val_loss 4.1868]\n",
      "[0048/0100] Train:   0%|                                                     | 0/73 [00:00<?, ?it/s]"
     ]
    },
    {
     "name": "stdout",
     "output_type": "stream",
     "text": [
      "val_loss is not improved for 4 epochs\n",
      "                  validation\n",
      " - Yaw          :   1.099213\n",
      " - Pitch        :   0.960437\n",
      " - Roll         :   2.230724\n",
      " - RMS          :   1.539138\n",
      " - 99% Tile     :   6.501602\n",
      "Save output signals into checkpoint/1122-Scene3-CLSTM2-win60/sample/0047.npy\n"
     ]
    },
    {
     "name": "stderr",
     "output_type": "stream",
     "text": [
      "[0048/0100] Train: 100%|███████████████████████████████| 73/73 [00:06<00:00, 10.61it/s, loss 5.6364]\n",
      "[0048/0100] Validation: 100%|██████████████████████| 72/72 [00:02<00:00, 24.24it/s, val_loss 4.1409]\n",
      "[0049/0100] Train:   0%|                                                     | 0/73 [00:00<?, ?it/s]"
     ]
    },
    {
     "name": "stdout",
     "output_type": "stream",
     "text": [
      "Decaying lr from 0.00025 to 0.000125 because val_loss did not improved for 5 epochs\n",
      "val_loss is not improved for 5 epochs\n",
      "                  validation\n",
      " - Yaw          :   1.132224\n",
      " - Pitch        :   0.911841\n",
      " - Roll         :   2.216608\n",
      " - RMS          :   1.530439\n",
      " - 99% Tile     :   6.528896\n",
      "Save output signals into checkpoint/1122-Scene3-CLSTM2-win60/sample/0048.npy\n"
     ]
    },
    {
     "name": "stderr",
     "output_type": "stream",
     "text": [
      "[0049/0100] Train: 100%|███████████████████████████████| 73/73 [00:06<00:00, 10.70it/s, loss 5.5419]\n",
      "[0049/0100] Validation: 100%|██████████████████████| 72/72 [00:02<00:00, 24.60it/s, val_loss 4.0233]\n",
      "[0050/0100] Train:   0%|                                                     | 0/73 [00:00<?, ?it/s]"
     ]
    },
    {
     "name": "stdout",
     "output_type": "stream",
     "text": [
      "                  validation\n",
      " - Yaw          :   0.980520\n",
      " - Pitch        :   0.852121\n",
      " - Roll         :   2.245132\n",
      " - RMS          :   1.497570\n",
      " - 99% Tile     :   6.510755\n",
      "Save output signals into checkpoint/1122-Scene3-CLSTM2-win60/sample/0049.npy\n"
     ]
    },
    {
     "name": "stderr",
     "output_type": "stream",
     "text": [
      "[0050/0100] Train: 100%|███████████████████████████████| 73/73 [00:06<00:00, 10.73it/s, loss 5.4601]\n",
      "[0050/0100] Validation: 100%|██████████████████████| 72/72 [00:02<00:00, 24.47it/s, val_loss 3.9956]\n",
      "[0051/0100] Train:   0%|                                                     | 0/73 [00:00<?, ?it/s]"
     ]
    },
    {
     "name": "stdout",
     "output_type": "stream",
     "text": [
      "                  validation\n",
      " - Yaw          :   0.909199\n",
      " - Pitch        :   0.854210\n",
      " - Roll         :   2.245840\n",
      " - RMS          :   1.483253\n",
      " - 99% Tile     :   6.514955\n",
      "Save output signals into checkpoint/1122-Scene3-CLSTM2-win60/sample/0050.npy\n"
     ]
    },
    {
     "name": "stderr",
     "output_type": "stream",
     "text": [
      "[0051/0100] Train: 100%|███████████████████████████████| 73/73 [00:06<00:00, 10.54it/s, loss 5.4696]\n",
      "[0051/0100] Validation: 100%|██████████████████████| 72/72 [00:02<00:00, 24.14it/s, val_loss 4.0779]\n",
      "[0052/0100] Train:   0%|                                                     | 0/73 [00:00<?, ?it/s]"
     ]
    },
    {
     "name": "stdout",
     "output_type": "stream",
     "text": [
      "val_loss is not improved for 1 epochs\n",
      "                  validation\n",
      " - Yaw          :   1.033485\n",
      " - Pitch        :   0.844732\n",
      " - Roll         :   2.242619\n",
      " - RMS          :   1.506763\n",
      " - 99% Tile     :   6.480732\n",
      "Save output signals into checkpoint/1122-Scene3-CLSTM2-win60/sample/0051.npy\n"
     ]
    },
    {
     "name": "stderr",
     "output_type": "stream",
     "text": [
      "[0052/0100] Train: 100%|███████████████████████████████| 73/73 [00:06<00:00, 10.96it/s, loss 5.5070]\n",
      "[0052/0100] Validation: 100%|██████████████████████| 72/72 [00:03<00:00, 21.68it/s, val_loss 4.1701]\n",
      "[0053/0100] Train:   0%|                                                     | 0/73 [00:00<?, ?it/s]"
     ]
    },
    {
     "name": "stdout",
     "output_type": "stream",
     "text": [
      "val_loss is not improved for 2 epochs\n",
      "                  validation\n",
      " - Yaw          :   1.112586\n",
      " - Pitch        :   0.889400\n",
      " - Roll         :   2.238252\n",
      " - RMS          :   1.531737\n",
      " - 99% Tile     :   6.480289\n",
      "Save output signals into checkpoint/1122-Scene3-CLSTM2-win60/sample/0052.npy\n"
     ]
    },
    {
     "name": "stderr",
     "output_type": "stream",
     "text": [
      "[0053/0100] Train: 100%|███████████████████████████████| 73/73 [00:06<00:00, 10.51it/s, loss 5.4244]\n",
      "[0053/0100] Validation: 100%|██████████████████████| 72/72 [00:03<00:00, 20.31it/s, val_loss 3.9921]\n",
      "[0054/0100] Train:   0%|                                                     | 0/73 [00:00<?, ?it/s]"
     ]
    },
    {
     "name": "stdout",
     "output_type": "stream",
     "text": [
      "                  validation\n",
      " - Yaw          :   0.858740\n",
      " - Pitch        :   0.924998\n",
      " - Roll         :   2.245410\n",
      " - RMS          :   1.487159\n",
      " - 99% Tile     :   6.558369\n",
      "Save output signals into checkpoint/1122-Scene3-CLSTM2-win60/sample/0053.npy\n"
     ]
    },
    {
     "name": "stderr",
     "output_type": "stream",
     "text": [
      "[0054/0100] Train: 100%|███████████████████████████████| 73/73 [00:07<00:00, 10.30it/s, loss 5.4343]\n",
      "[0054/0100] Validation: 100%|██████████████████████| 72/72 [00:03<00:00, 20.48it/s, val_loss 3.9947]\n",
      "[0055/0100] Train:   0%|                                                     | 0/73 [00:00<?, ?it/s]"
     ]
    },
    {
     "name": "stdout",
     "output_type": "stream",
     "text": [
      "val_loss is not improved for 1 epochs\n",
      "                  validation\n",
      " - Yaw          :   0.954504\n",
      " - Pitch        :   0.868612\n",
      " - Roll         :   2.243659\n",
      " - RMS          :   1.494386\n",
      " - 99% Tile     :   6.447034\n",
      "Save output signals into checkpoint/1122-Scene3-CLSTM2-win60/sample/0054.npy\n"
     ]
    },
    {
     "name": "stderr",
     "output_type": "stream",
     "text": [
      "[0055/0100] Train: 100%|███████████████████████████████| 73/73 [00:06<00:00, 10.59it/s, loss 5.4691]\n",
      "[0055/0100] Validation: 100%|██████████████████████| 72/72 [00:03<00:00, 21.81it/s, val_loss 4.0235]\n",
      "[0056/0100] Train:   0%|                                                     | 0/73 [00:00<?, ?it/s]"
     ]
    },
    {
     "name": "stdout",
     "output_type": "stream",
     "text": [
      "val_loss is not improved for 2 epochs\n",
      "                  validation\n",
      " - Yaw          :   0.900497\n",
      " - Pitch        :   0.925383\n",
      " - Roll         :   2.248817\n",
      " - RMS          :   1.497153\n",
      " - 99% Tile     :   6.494591\n",
      "Save output signals into checkpoint/1122-Scene3-CLSTM2-win60/sample/0055.npy\n"
     ]
    },
    {
     "name": "stderr",
     "output_type": "stream",
     "text": [
      "[0056/0100] Train: 100%|███████████████████████████████| 73/73 [00:07<00:00, 10.13it/s, loss 5.3435]\n",
      "[0056/0100] Validation: 100%|██████████████████████| 72/72 [00:03<00:00, 23.90it/s, val_loss 4.0925]\n",
      "[0057/0100] Train:   0%|                                                     | 0/73 [00:00<?, ?it/s]"
     ]
    },
    {
     "name": "stdout",
     "output_type": "stream",
     "text": [
      "val_loss is not improved for 3 epochs\n",
      "                  validation\n",
      " - Yaw          :   1.008475\n",
      " - Pitch        :   0.897658\n",
      " - Roll         :   2.254501\n",
      " - RMS          :   1.517189\n",
      " - 99% Tile     :   6.532297\n",
      "Save output signals into checkpoint/1122-Scene3-CLSTM2-win60/sample/0056.npy\n"
     ]
    },
    {
     "name": "stderr",
     "output_type": "stream",
     "text": [
      "[0057/0100] Train: 100%|███████████████████████████████| 73/73 [00:07<00:00, 10.00it/s, loss 5.3476]\n",
      "[0057/0100] Validation: 100%|██████████████████████| 72/72 [00:03<00:00, 22.81it/s, val_loss 4.2424]\n",
      "[0058/0100] Train:   0%|                                                     | 0/73 [00:00<?, ?it/s]"
     ]
    },
    {
     "name": "stdout",
     "output_type": "stream",
     "text": [
      "val_loss is not improved for 4 epochs\n",
      "                  validation\n",
      " - Yaw          :   1.181760\n",
      " - Pitch        :   0.887658\n",
      " - Roll         :   2.238381\n",
      " - RMS          :   1.548638\n",
      " - 99% Tile     :   6.483996\n",
      "Save output signals into checkpoint/1122-Scene3-CLSTM2-win60/sample/0057.npy\n"
     ]
    },
    {
     "name": "stderr",
     "output_type": "stream",
     "text": [
      "[0058/0100] Train: 100%|███████████████████████████████| 73/73 [00:07<00:00,  9.74it/s, loss 5.3378]\n",
      "[0058/0100] Validation: 100%|██████████████████████| 72/72 [00:03<00:00, 21.78it/s, val_loss 4.1079]\n",
      "[0059/0100] Train:   0%|                                                     | 0/73 [00:00<?, ?it/s]"
     ]
    },
    {
     "name": "stdout",
     "output_type": "stream",
     "text": [
      "Decaying lr from 0.000125 to 6.25e-05 because val_loss did not improved for 5 epochs\n",
      "val_loss is not improved for 5 epochs\n",
      "                  validation\n",
      " - Yaw          :   1.007854\n",
      " - Pitch        :   0.910870\n",
      " - Roll         :   2.249158\n",
      " - RMS          :   1.517033\n",
      " - 99% Tile     :   6.541947\n",
      "Save output signals into checkpoint/1122-Scene3-CLSTM2-win60/sample/0058.npy\n"
     ]
    },
    {
     "name": "stderr",
     "output_type": "stream",
     "text": [
      "[0059/0100] Train: 100%|███████████████████████████████| 73/73 [00:07<00:00,  9.66it/s, loss 5.2872]\n",
      "[0059/0100] Validation: 100%|██████████████████████| 72/72 [00:03<00:00, 20.88it/s, val_loss 3.9601]\n",
      "[0060/0100] Train:   0%|                                                     | 0/73 [00:00<?, ?it/s]"
     ]
    },
    {
     "name": "stdout",
     "output_type": "stream",
     "text": [
      "                  validation\n",
      " - Yaw          :   0.916035\n",
      " - Pitch        :   0.858934\n",
      " - Roll         :   2.239361\n",
      " - RMS          :   1.482298\n",
      " - 99% Tile     :   6.482621\n",
      "Save output signals into checkpoint/1122-Scene3-CLSTM2-win60/sample/0059.npy\n"
     ]
    },
    {
     "name": "stderr",
     "output_type": "stream",
     "text": [
      "[0060/0100] Train: 100%|███████████████████████████████| 73/73 [00:08<00:00,  8.97it/s, loss 5.1961]\n",
      "[0060/0100] Validation: 100%|██████████████████████| 72/72 [00:03<00:00, 18.72it/s, val_loss 3.9514]\n",
      "[0061/0100] Train:   0%|                                                     | 0/73 [00:00<?, ?it/s]"
     ]
    },
    {
     "name": "stdout",
     "output_type": "stream",
     "text": [
      "                  validation\n",
      " - Yaw          :   0.910502\n",
      " - Pitch        :   0.831002\n",
      " - Roll         :   2.252763\n",
      " - RMS          :   1.482624\n",
      " - 99% Tile     :   6.491328\n",
      "Save output signals into checkpoint/1122-Scene3-CLSTM2-win60/sample/0060.npy\n"
     ]
    },
    {
     "name": "stderr",
     "output_type": "stream",
     "text": [
      "[0061/0100] Train: 100%|███████████████████████████████| 73/73 [00:08<00:00,  8.87it/s, loss 5.2106]\n",
      "[0061/0100] Validation: 100%|██████████████████████| 72/72 [00:03<00:00, 18.91it/s, val_loss 4.0084]\n",
      "[0062/0100] Train:   0%|                                                     | 0/73 [00:00<?, ?it/s]"
     ]
    },
    {
     "name": "stdout",
     "output_type": "stream",
     "text": [
      "val_loss is not improved for 1 epochs\n",
      "                  validation\n",
      " - Yaw          :   0.968500\n",
      " - Pitch        :   0.833130\n",
      " - Roll         :   2.253326\n",
      " - RMS          :   1.495502\n",
      " - 99% Tile     :   6.501937\n",
      "Save output signals into checkpoint/1122-Scene3-CLSTM2-win60/sample/0061.npy\n"
     ]
    },
    {
     "name": "stderr",
     "output_type": "stream",
     "text": [
      "[0062/0100] Train: 100%|███████████████████████████████| 73/73 [00:08<00:00,  9.03it/s, loss 5.1814]\n",
      "[0062/0100] Validation: 100%|██████████████████████| 72/72 [00:03<00:00, 19.07it/s, val_loss 4.0229]\n",
      "[0063/0100] Train:   0%|                                                     | 0/73 [00:00<?, ?it/s]"
     ]
    },
    {
     "name": "stdout",
     "output_type": "stream",
     "text": [
      "val_loss is not improved for 2 epochs\n",
      "                  validation\n",
      " - Yaw          :   0.984320\n",
      " - Pitch        :   0.820279\n",
      " - Roll         :   2.253856\n",
      " - RMS          :   1.496843\n",
      " - 99% Tile     :   6.484098\n",
      "Save output signals into checkpoint/1122-Scene3-CLSTM2-win60/sample/0062.npy\n"
     ]
    },
    {
     "name": "stderr",
     "output_type": "stream",
     "text": [
      "[0063/0100] Train: 100%|███████████████████████████████| 73/73 [00:07<00:00,  9.27it/s, loss 5.1863]\n",
      "[0063/0100] Validation: 100%|██████████████████████| 72/72 [00:03<00:00, 20.21it/s, val_loss 3.9464]\n",
      "[0064/0100] Train:   0%|                                                     | 0/73 [00:00<?, ?it/s]"
     ]
    },
    {
     "name": "stdout",
     "output_type": "stream",
     "text": [
      "                  validation\n",
      " - Yaw          :   0.892003\n",
      " - Pitch        :   0.823393\n",
      " - Roll         :   2.254009\n",
      " - RMS          :   1.478085\n",
      " - 99% Tile     :   6.482557\n",
      "Save output signals into checkpoint/1122-Scene3-CLSTM2-win60/sample/0063.npy\n"
     ]
    },
    {
     "name": "stderr",
     "output_type": "stream",
     "text": [
      "[0064/0100] Train: 100%|███████████████████████████████| 73/73 [00:07<00:00,  9.19it/s, loss 5.1844]\n",
      "[0064/0100] Validation: 100%|██████████████████████| 72/72 [00:03<00:00, 20.15it/s, val_loss 4.0103]\n",
      "[0065/0100] Train:   0%|                                                     | 0/73 [00:00<?, ?it/s]"
     ]
    },
    {
     "name": "stdout",
     "output_type": "stream",
     "text": [
      "val_loss is not improved for 1 epochs\n",
      "                  validation\n",
      " - Yaw          :   0.977538\n",
      " - Pitch        :   0.886610\n",
      " - Roll         :   2.242068\n",
      " - RMS          :   1.502057\n",
      " - 99% Tile     :   6.451589\n",
      "Save output signals into checkpoint/1122-Scene3-CLSTM2-win60/sample/0064.npy\n"
     ]
    },
    {
     "name": "stderr",
     "output_type": "stream",
     "text": [
      "[0065/0100] Train: 100%|███████████████████████████████| 73/73 [00:07<00:00,  9.28it/s, loss 5.1675]\n",
      "[0065/0100] Validation: 100%|██████████████████████| 72/72 [00:03<00:00, 20.10it/s, val_loss 4.0684]\n",
      "[0066/0100] Train:   0%|                                                     | 0/73 [00:00<?, ?it/s]"
     ]
    },
    {
     "name": "stdout",
     "output_type": "stream",
     "text": [
      "val_loss is not improved for 2 epochs\n",
      "                  validation\n",
      " - Yaw          :   1.037879\n",
      " - Pitch        :   0.881882\n",
      " - Roll         :   2.240709\n",
      " - RMS          :   1.513901\n",
      " - 99% Tile     :   6.493853\n",
      "Save output signals into checkpoint/1122-Scene3-CLSTM2-win60/sample/0065.npy\n"
     ]
    },
    {
     "name": "stderr",
     "output_type": "stream",
     "text": [
      "[0066/0100] Train: 100%|███████████████████████████████| 73/73 [00:07<00:00,  9.25it/s, loss 5.1827]\n",
      "[0066/0100] Validation: 100%|██████████████████████| 72/72 [00:03<00:00, 21.30it/s, val_loss 4.0249]\n",
      "[0067/0100] Train:   0%|                                                     | 0/73 [00:00<?, ?it/s]"
     ]
    },
    {
     "name": "stdout",
     "output_type": "stream",
     "text": [
      "val_loss is not improved for 3 epochs\n",
      "                  validation\n",
      " - Yaw          :   1.003050\n",
      " - Pitch        :   0.837438\n",
      " - Roll         :   2.248100\n",
      " - RMS          :   1.501262\n",
      " - 99% Tile     :   6.484866\n",
      "Save output signals into checkpoint/1122-Scene3-CLSTM2-win60/sample/0066.npy\n"
     ]
    },
    {
     "name": "stderr",
     "output_type": "stream",
     "text": [
      "[0067/0100] Train: 100%|███████████████████████████████| 73/73 [00:07<00:00,  9.45it/s, loss 5.0996]\n",
      "[0067/0100] Validation: 100%|██████████████████████| 72/72 [00:03<00:00, 23.30it/s, val_loss 3.9843]\n",
      "[0068/0100] Train:   0%|                                                     | 0/73 [00:00<?, ?it/s]"
     ]
    },
    {
     "name": "stdout",
     "output_type": "stream",
     "text": [
      "val_loss is not improved for 4 epochs\n",
      "                  validation\n",
      " - Yaw          :   0.938007\n",
      " - Pitch        :   0.902048\n",
      " - Roll         :   2.244434\n",
      " - RMS          :   1.497890\n",
      " - 99% Tile     :   6.474052\n",
      "Save output signals into checkpoint/1122-Scene3-CLSTM2-win60/sample/0067.npy\n"
     ]
    },
    {
     "name": "stderr",
     "output_type": "stream",
     "text": [
      "[0068/0100] Train: 100%|███████████████████████████████| 73/73 [00:07<00:00,  9.35it/s, loss 5.2132]\n",
      "[0068/0100] Validation: 100%|██████████████████████| 72/72 [00:02<00:00, 25.32it/s, val_loss 4.0603]\n",
      "[0069/0100] Train:   0%|                                                     | 0/73 [00:00<?, ?it/s]"
     ]
    },
    {
     "name": "stdout",
     "output_type": "stream",
     "text": [
      "Decaying lr from 6.25e-05 to 3.125e-05 because val_loss did not improved for 5 epochs\n",
      "val_loss is not improved for 5 epochs\n",
      "                  validation\n",
      " - Yaw          :   1.070568\n",
      " - Pitch        :   0.833145\n",
      " - Roll         :   2.249092\n",
      " - RMS          :   1.516428\n",
      " - 99% Tile     :   6.495187\n",
      "Save output signals into checkpoint/1122-Scene3-CLSTM2-win60/sample/0068.npy\n"
     ]
    },
    {
     "name": "stderr",
     "output_type": "stream",
     "text": [
      "[0069/0100] Train: 100%|███████████████████████████████| 73/73 [00:08<00:00,  9.02it/s, loss 5.0882]\n",
      "[0069/0100] Validation: 100%|██████████████████████| 72/72 [00:02<00:00, 25.25it/s, val_loss 4.0608]\n",
      "[0070/0100] Train:   0%|                                                     | 0/73 [00:00<?, ?it/s]"
     ]
    },
    {
     "name": "stdout",
     "output_type": "stream",
     "text": [
      "val_loss is not improved for 6 epochs\n",
      "                  validation\n",
      " - Yaw          :   0.988681\n",
      " - Pitch        :   0.875473\n",
      " - Roll         :   2.248556\n",
      " - RMS          :   1.505539\n",
      " - 99% Tile     :   6.522868\n",
      "Save output signals into checkpoint/1122-Scene3-CLSTM2-win60/sample/0069.npy\n"
     ]
    },
    {
     "name": "stderr",
     "output_type": "stream",
     "text": [
      "[0070/0100] Train: 100%|███████████████████████████████| 73/73 [00:07<00:00,  9.25it/s, loss 5.1019]\n",
      "[0070/0100] Validation: 100%|██████████████████████| 72/72 [00:02<00:00, 24.73it/s, val_loss 4.0393]\n",
      "[0071/0100] Train:   0%|                                                     | 0/73 [00:00<?, ?it/s]"
     ]
    },
    {
     "name": "stdout",
     "output_type": "stream",
     "text": [
      "val_loss is not improved for 7 epochs\n",
      "                  validation\n",
      " - Yaw          :   1.035465\n",
      " - Pitch        :   0.852096\n",
      " - Roll         :   2.245065\n",
      " - RMS          :   1.509809\n",
      " - 99% Tile     :   6.479710\n",
      "Save output signals into checkpoint/1122-Scene3-CLSTM2-win60/sample/0070.npy\n"
     ]
    },
    {
     "name": "stderr",
     "output_type": "stream",
     "text": [
      "[0071/0100] Train: 100%|███████████████████████████████| 73/73 [00:07<00:00,  9.45it/s, loss 5.0869]\n",
      "[0071/0100] Validation: 100%|██████████████████████| 72/72 [00:02<00:00, 25.19it/s, val_loss 3.9961]\n",
      "[0072/0100] Train:   0%|                                                     | 0/73 [00:00<?, ?it/s]"
     ]
    },
    {
     "name": "stdout",
     "output_type": "stream",
     "text": [
      "val_loss is not improved for 8 epochs\n",
      "                  validation\n",
      " - Yaw          :   0.920901\n",
      " - Pitch        :   0.896970\n",
      " - Roll         :   2.249317\n",
      " - RMS          :   1.495776\n",
      " - 99% Tile     :   6.522126\n",
      "Save output signals into checkpoint/1122-Scene3-CLSTM2-win60/sample/0071.npy\n"
     ]
    },
    {
     "name": "stderr",
     "output_type": "stream",
     "text": [
      "[0072/0100] Train: 100%|███████████████████████████████| 73/73 [00:07<00:00,  9.58it/s, loss 5.0807]\n",
      "[0072/0100] Validation: 100%|██████████████████████| 72/72 [00:02<00:00, 27.01it/s, val_loss 4.0014]\n",
      "[0073/0100] Train:   0%|                                                     | 0/73 [00:00<?, ?it/s]"
     ]
    },
    {
     "name": "stdout",
     "output_type": "stream",
     "text": [
      "val_loss is not improved for 9 epochs\n",
      "                  validation\n",
      " - Yaw          :   1.004127\n",
      " - Pitch        :   0.838505\n",
      " - Roll         :   2.244886\n",
      " - RMS          :   1.500097\n",
      " - 99% Tile     :   6.472727\n",
      "Save output signals into checkpoint/1122-Scene3-CLSTM2-win60/sample/0072.npy\n"
     ]
    },
    {
     "name": "stderr",
     "output_type": "stream",
     "text": [
      "[0073/0100] Train: 100%|███████████████████████████████| 73/73 [00:08<00:00,  9.10it/s, loss 5.0110]\n",
      "[0073/0100] Validation: 100%|██████████████████████| 72/72 [00:02<00:00, 26.75it/s, val_loss 3.9527]"
     ]
    },
    {
     "name": "stdout",
     "output_type": "stream",
     "text": [
      "Decaying lr from 3.125e-05 to 1.5625e-05 because val_loss did not improved for 5 epochs\n",
      "val_loss is not improved for 10 epochs\n",
      "Stop training because val_loss did not improved for 10 epochs\n",
      "                  validation\n",
      " - Yaw          :   0.961992\n",
      " - Pitch        :   0.857509\n",
      " - Roll         :   2.244754\n",
      " - RMS          :   1.494397\n",
      " - 99% Tile     :   6.490741\n",
      "Save output signals into checkpoint/1122-Scene3-CLSTM2-win60/sample/0073.npy\n"
     ]
    },
    {
     "name": "stderr",
     "output_type": "stream",
     "text": [
      "\n"
     ]
    }
   ],
   "source": [
    "trainer.fit(ds_train, ds_test, num_epochs=100, batch_size=256, shuffle=True, pin_memory=True)"
   ]
  },
  {
   "cell_type": "code",
   "execution_count": null,
   "metadata": {},
   "outputs": [],
   "source": []
  }
 ],
 "metadata": {
  "kernelspec": {
   "display_name": "torch",
   "language": "python",
   "name": "torch"
  },
  "language_info": {
   "codemirror_mode": {
    "name": "ipython",
    "version": 3
   },
   "file_extension": ".py",
   "mimetype": "text/x-python",
   "name": "python",
   "nbconvert_exporter": "python",
   "pygments_lexer": "ipython3",
   "version": "3.7.9"
  }
 },
 "nbformat": 4,
 "nbformat_minor": 4
}
