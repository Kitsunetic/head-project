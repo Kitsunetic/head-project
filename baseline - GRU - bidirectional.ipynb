{
 "cells": [
  {
   "cell_type": "markdown",
   "metadata": {},
   "source": [
    "# 참고자료\n",
    "\n"
   ]
  },
  {
   "cell_type": "code",
   "execution_count": null,
   "metadata": {},
   "outputs": [],
   "source": [
    "!pip install --upgrade git+https://github.com/Kitsunetic/torch_burn.git"
   ]
  },
  {
   "cell_type": "code",
   "execution_count": 1,
   "metadata": {},
   "outputs": [],
   "source": [
    "from multiprocessing import cpu_count\n",
    "from pathlib import Path\n",
    "from typing import List, Union, AnyStr\n",
    "from math import pi\n",
    "import pickle\n",
    "\n",
    "import numpy as np\n",
    "import pytorch_lightning as pl\n",
    "import torch\n",
    "import torch.nn as nn\n",
    "from sklearn import model_selection\n",
    "from torch.utils.data import DataLoader, Dataset\n",
    "from tqdm import tqdm\n",
    "\n",
    "import torch_burn as tb\n",
    "import utils"
   ]
  },
  {
   "cell_type": "markdown",
   "metadata": {},
   "source": [
    "# Hyper Parameters"
   ]
  },
  {
   "cell_type": "code",
   "execution_count": 2,
   "metadata": {},
   "outputs": [],
   "source": [
    "EXPERIMENT_NAME = 'baseline - GRU(bidirectional)'\n",
    "CHECKPOINT_DIR = Path('checkpoint', EXPERIMENT_NAME)\n",
    "CHECKPOINT_DIR.mkdir(parents=True, exist_ok=True)\n",
    "\n",
    "DATA_FILEPATH = 'data/pth_nostd/C2-T18-win48-hop1.pth'\n",
    "\n",
    "NUM_EPOCHS = 40\n",
    "BATCH_SIZE = 1024"
   ]
  },
  {
   "cell_type": "markdown",
   "metadata": {},
   "source": [
    "# 데이터 로드"
   ]
  },
  {
   "cell_type": "code",
   "execution_count": 3,
   "metadata": {},
   "outputs": [],
   "source": [
    "train_ds, test_ds = utils.SequentialDataset.load_data(DATA_FILEPATH)"
   ]
  },
  {
   "cell_type": "code",
   "execution_count": 4,
   "metadata": {},
   "outputs": [
    {
     "data": {
      "text/plain": [
       "(177937, 176476)"
      ]
     },
     "execution_count": 4,
     "metadata": {},
     "output_type": "execute_result"
    }
   ],
   "source": [
    "len(train_ds), len(test_ds)"
   ]
  },
  {
   "cell_type": "markdown",
   "metadata": {},
   "source": [
    "# 모델, loss, optim, metrics, callbacks 생성"
   ]
  },
  {
   "cell_type": "code",
   "execution_count": 5,
   "metadata": {},
   "outputs": [],
   "source": [
    "model = utils.BaselineGRU(input_size=6,\n",
    "                          hidden_size=24,\n",
    "                          num_layers=8,\n",
    "                          dropout=0.0,\n",
    "                          bidirectional=True).cuda()"
   ]
  },
  {
   "cell_type": "code",
   "execution_count": 6,
   "metadata": {},
   "outputs": [],
   "source": [
    "criterion = nn.MSELoss().cuda()\n",
    "optimizer = torch.optim.Adam(model.parameters())"
   ]
  },
  {
   "cell_type": "code",
   "execution_count": 7,
   "metadata": {},
   "outputs": [],
   "source": [
    "metrics = [tb.metrics.ModuleMetric(criterion, 'loss'),\n",
    "           utils.HPMetric('hp_metric'),\n",
    "           utils.HPSignalHistory(CHECKPOINT_DIR / 'sample' / '{epoch:04d}.npy', 'hp_signal')]"
   ]
  },
  {
   "cell_type": "code",
   "execution_count": 8,
   "metadata": {},
   "outputs": [],
   "source": [
    "callbacks = [tb.callbacks.EarlyStopping(metrics[0])]"
   ]
  },
  {
   "cell_type": "code",
   "execution_count": 9,
   "metadata": {},
   "outputs": [],
   "source": [
    "trainer = tb.Trainer2(model=model, optim=optimizer, metrics=metrics, callbacks=callbacks, ncols=100)"
   ]
  },
  {
   "cell_type": "code",
   "execution_count": 10,
   "metadata": {},
   "outputs": [
    {
     "name": "stderr",
     "output_type": "stream",
     "text": [
      "[0001/0040] Train: 100%|█████████████████████████████| 174/174 [00:07<00:00, 22.70it/s, loss 0.0172]\n",
      "[0001/0040] Validation: 100%|████████████████████| 173/173 [00:03<00:00, 47.26it/s, val_loss 0.0054]\n",
      "[0002/0040] Train:   0%|                                                    | 0/174 [00:00<?, ?it/s]"
     ]
    },
    {
     "name": "stdout",
     "output_type": "stream",
     "text": [
      "                  validation\n",
      " - Yaw          :   3.370567\n",
      " - Pitch        :   2.111311\n",
      " - Roll         :   1.405757\n",
      " - RMS          :   2.435468\n",
      " - 99% Tile     :  17.300497\n",
      "Save output signals into checkpoint/baseline - GRU(bidirectional)/sample/0001.npy\n"
     ]
    },
    {
     "name": "stderr",
     "output_type": "stream",
     "text": [
      "[0002/0040] Train: 100%|█████████████████████████████| 174/174 [00:08<00:00, 21.54it/s, loss 0.0057]\n",
      "[0002/0040] Validation: 100%|████████████████████| 173/173 [00:03<00:00, 45.86it/s, val_loss 0.0038]\n",
      "[0003/0040] Train:   0%|                                                    | 0/174 [00:00<?, ?it/s]"
     ]
    },
    {
     "name": "stdout",
     "output_type": "stream",
     "text": [
      "                  validation\n",
      " - Yaw          :   3.218020\n",
      " - Pitch        :   1.841346\n",
      " - Roll         :   1.261464\n",
      " - RMS          :   2.261084\n",
      " - 99% Tile     :  14.038524\n",
      "Save output signals into checkpoint/baseline - GRU(bidirectional)/sample/0002.npy\n"
     ]
    },
    {
     "name": "stderr",
     "output_type": "stream",
     "text": [
      "[0003/0040] Train: 100%|█████████████████████████████| 174/174 [00:07<00:00, 21.82it/s, loss 0.0042]\n",
      "[0003/0040] Validation: 100%|████████████████████| 173/173 [00:03<00:00, 47.09it/s, val_loss 0.0030]\n",
      "[0004/0040] Train:   0%|                                                    | 0/174 [00:00<?, ?it/s]"
     ]
    },
    {
     "name": "stdout",
     "output_type": "stream",
     "text": [
      "                  validation\n",
      " - Yaw          :   2.573007\n",
      " - Pitch        :   1.638179\n",
      " - Roll         :   1.202803\n",
      " - RMS          :   1.893034\n",
      " - 99% Tile     :  12.748584\n",
      "Save output signals into checkpoint/baseline - GRU(bidirectional)/sample/0003.npy\n"
     ]
    },
    {
     "name": "stderr",
     "output_type": "stream",
     "text": [
      "[0004/0040] Train: 100%|█████████████████████████████| 174/174 [00:08<00:00, 21.51it/s, loss 0.0036]\n",
      "[0004/0040] Validation: 100%|████████████████████| 173/173 [00:03<00:00, 47.24it/s, val_loss 0.0027]\n",
      "[0005/0040] Train:   0%|                                                    | 0/174 [00:00<?, ?it/s]"
     ]
    },
    {
     "name": "stdout",
     "output_type": "stream",
     "text": [
      "                  validation\n",
      " - Yaw          :   2.157575\n",
      " - Pitch        :   1.423044\n",
      " - Roll         :   1.133518\n",
      " - RMS          :   1.629422\n",
      " - 99% Tile     :  12.345187\n",
      "Save output signals into checkpoint/baseline - GRU(bidirectional)/sample/0004.npy\n"
     ]
    },
    {
     "name": "stderr",
     "output_type": "stream",
     "text": [
      "[0005/0040] Train: 100%|█████████████████████████████| 174/174 [00:08<00:00, 21.68it/s, loss 0.0033]\n",
      "[0005/0040] Validation: 100%|████████████████████| 173/173 [00:03<00:00, 47.13it/s, val_loss 0.0027]\n",
      "[0006/0040] Train:   0%|                                                    | 0/174 [00:00<?, ?it/s]"
     ]
    },
    {
     "name": "stdout",
     "output_type": "stream",
     "text": [
      "val_loss is not improved for 1 epochs\n",
      "                  validation\n",
      " - Yaw          :   2.051356\n",
      " - Pitch        :   2.018466\n",
      " - Roll         :   1.061452\n",
      " - RMS          :   1.770965\n",
      " - 99% Tile     :  12.180609\n",
      "Save output signals into checkpoint/baseline - GRU(bidirectional)/sample/0005.npy\n"
     ]
    },
    {
     "name": "stderr",
     "output_type": "stream",
     "text": [
      "[0006/0040] Train: 100%|█████████████████████████████| 174/174 [00:08<00:00, 21.64it/s, loss 0.0032]\n",
      "[0006/0040] Validation: 100%|████████████████████| 173/173 [00:03<00:00, 45.82it/s, val_loss 0.0034]\n",
      "[0007/0040] Train:   0%|                                                    | 0/174 [00:00<?, ?it/s]"
     ]
    },
    {
     "name": "stdout",
     "output_type": "stream",
     "text": [
      "val_loss is not improved for 2 epochs\n",
      "                  validation\n",
      " - Yaw          :   3.038897\n",
      " - Pitch        :   2.481623\n",
      " - Roll         :   1.188069\n",
      " - RMS          :   2.366774\n",
      " - 99% Tile     :  12.150217\n",
      "Save output signals into checkpoint/baseline - GRU(bidirectional)/sample/0006.npy\n"
     ]
    },
    {
     "name": "stderr",
     "output_type": "stream",
     "text": [
      "[0007/0040] Train: 100%|█████████████████████████████| 174/174 [00:08<00:00, 21.71it/s, loss 0.0030]\n",
      "[0007/0040] Validation: 100%|████████████████████| 173/173 [00:03<00:00, 45.29it/s, val_loss 0.0024]\n",
      "[0008/0040] Train:   0%|                                                    | 0/174 [00:00<?, ?it/s]"
     ]
    },
    {
     "name": "stdout",
     "output_type": "stream",
     "text": [
      "                  validation\n",
      " - Yaw          :   2.073630\n",
      " - Pitch        :   1.279427\n",
      " - Roll         :   0.960272\n",
      " - RMS          :   1.512062\n",
      " - 99% Tile     :  11.634419\n",
      "Save output signals into checkpoint/baseline - GRU(bidirectional)/sample/0007.npy\n"
     ]
    },
    {
     "name": "stderr",
     "output_type": "stream",
     "text": [
      "[0008/0040] Train: 100%|█████████████████████████████| 174/174 [00:07<00:00, 21.82it/s, loss 0.0030]\n",
      "[0008/0040] Validation: 100%|████████████████████| 173/173 [00:03<00:00, 47.01it/s, val_loss 0.0025]\n",
      "[0009/0040] Train:   0%|                                                    | 0/174 [00:00<?, ?it/s]"
     ]
    },
    {
     "name": "stdout",
     "output_type": "stream",
     "text": [
      "val_loss is not improved for 1 epochs\n",
      "                  validation\n",
      " - Yaw          :   2.406061\n",
      " - Pitch        :   1.274726\n",
      " - Roll         :   1.004012\n",
      " - RMS          :   1.675519\n",
      " - 99% Tile     :  11.593503\n",
      "Save output signals into checkpoint/baseline - GRU(bidirectional)/sample/0008.npy\n"
     ]
    },
    {
     "name": "stderr",
     "output_type": "stream",
     "text": [
      "[0009/0040] Train: 100%|█████████████████████████████| 174/174 [00:08<00:00, 21.68it/s, loss 0.0028]\n",
      "[0009/0040] Validation: 100%|████████████████████| 173/173 [00:03<00:00, 46.48it/s, val_loss 0.0026]\n",
      "[0010/0040] Train:   0%|                                                    | 0/174 [00:00<?, ?it/s]"
     ]
    },
    {
     "name": "stdout",
     "output_type": "stream",
     "text": [
      "val_loss is not improved for 2 epochs\n",
      "                  validation\n",
      " - Yaw          :   2.869047\n",
      " - Pitch        :   1.296952\n",
      " - Roll         :   0.978166\n",
      " - RMS          :   1.903534\n",
      " - 99% Tile     :  11.467959\n",
      "Save output signals into checkpoint/baseline - GRU(bidirectional)/sample/0009.npy\n"
     ]
    },
    {
     "name": "stderr",
     "output_type": "stream",
     "text": [
      "[0010/0040] Train: 100%|█████████████████████████████| 174/174 [00:08<00:00, 21.73it/s, loss 0.0029]\n",
      "[0010/0040] Validation: 100%|████████████████████| 173/173 [00:03<00:00, 45.42it/s, val_loss 0.0023]\n",
      "[0011/0040] Train:   0%|                                                    | 0/174 [00:00<?, ?it/s]"
     ]
    },
    {
     "name": "stdout",
     "output_type": "stream",
     "text": [
      "                  validation\n",
      " - Yaw          :   2.182170\n",
      " - Pitch        :   1.210920\n",
      " - Roll         :   0.867930\n",
      " - RMS          :   1.525505\n",
      " - 99% Tile     :  11.325386\n",
      "Save output signals into checkpoint/baseline - GRU(bidirectional)/sample/0010.npy\n"
     ]
    },
    {
     "name": "stderr",
     "output_type": "stream",
     "text": [
      "[0011/0040] Train: 100%|█████████████████████████████| 174/174 [00:08<00:00, 21.60it/s, loss 0.0028]\n",
      "[0011/0040] Validation: 100%|████████████████████| 173/173 [00:03<00:00, 46.44it/s, val_loss 0.0022]\n",
      "[0012/0040] Train:   0%|                                                    | 0/174 [00:00<?, ?it/s]"
     ]
    },
    {
     "name": "stdout",
     "output_type": "stream",
     "text": [
      "                  validation\n",
      " - Yaw          :   1.948908\n",
      " - Pitch        :   1.170775\n",
      " - Roll         :   0.826040\n",
      " - RMS          :   1.396579\n",
      " - 99% Tile     :  11.116010\n",
      "Save output signals into checkpoint/baseline - GRU(bidirectional)/sample/0011.npy\n"
     ]
    },
    {
     "name": "stderr",
     "output_type": "stream",
     "text": [
      "[0012/0040] Train: 100%|█████████████████████████████| 174/174 [00:08<00:00, 21.59it/s, loss 0.0027]\n",
      "[0012/0040] Validation: 100%|████████████████████| 173/173 [00:03<00:00, 47.15it/s, val_loss 0.0024]\n",
      "[0013/0040] Train:   0%|                                                    | 0/174 [00:00<?, ?it/s]"
     ]
    },
    {
     "name": "stdout",
     "output_type": "stream",
     "text": [
      "val_loss is not improved for 1 epochs\n",
      "                  validation\n",
      " - Yaw          :   2.530469\n",
      " - Pitch        :   1.243166\n",
      " - Roll         :   0.803293\n",
      " - RMS          :   1.692534\n",
      " - 99% Tile     :  11.156435\n",
      "Save output signals into checkpoint/baseline - GRU(bidirectional)/sample/0012.npy\n"
     ]
    },
    {
     "name": "stderr",
     "output_type": "stream",
     "text": [
      "[0013/0040] Train: 100%|█████████████████████████████| 174/174 [00:08<00:00, 21.31it/s, loss 0.0027]\n",
      "[0013/0040] Validation: 100%|████████████████████| 173/173 [00:03<00:00, 46.97it/s, val_loss 0.0023]\n",
      "[0014/0040] Train:   0%|                                                    | 0/174 [00:00<?, ?it/s]"
     ]
    },
    {
     "name": "stdout",
     "output_type": "stream",
     "text": [
      "val_loss is not improved for 2 epochs\n",
      "                  validation\n",
      " - Yaw          :   2.237439\n",
      " - Pitch        :   1.299641\n",
      " - Roll         :   0.819905\n",
      " - RMS          :   1.567104\n",
      " - 99% Tile     :  11.102183\n",
      "Save output signals into checkpoint/baseline - GRU(bidirectional)/sample/0013.npy\n"
     ]
    },
    {
     "name": "stderr",
     "output_type": "stream",
     "text": [
      "[0014/0040] Train: 100%|█████████████████████████████| 174/174 [00:07<00:00, 21.80it/s, loss 0.0026]\n",
      "[0014/0040] Validation: 100%|████████████████████| 173/173 [00:03<00:00, 45.81it/s, val_loss 0.0023]\n",
      "[0015/0040] Train:   0%|                                                    | 0/174 [00:00<?, ?it/s]"
     ]
    },
    {
     "name": "stdout",
     "output_type": "stream",
     "text": [
      "val_loss is not improved for 3 epochs\n",
      "                  validation\n",
      " - Yaw          :   2.289258\n",
      " - Pitch        :   1.191059\n",
      " - Roll         :   0.887837\n",
      " - RMS          :   1.575603\n",
      " - 99% Tile     :  11.103858\n",
      "Save output signals into checkpoint/baseline - GRU(bidirectional)/sample/0014.npy\n"
     ]
    },
    {
     "name": "stderr",
     "output_type": "stream",
     "text": [
      "[0015/0040] Train: 100%|█████████████████████████████| 174/174 [00:08<00:00, 21.68it/s, loss 0.0026]\n",
      "[0015/0040] Validation: 100%|████████████████████| 173/173 [00:03<00:00, 46.69it/s, val_loss 0.0023]\n",
      "[0016/0040] Train:   0%|                                                    | 0/174 [00:00<?, ?it/s]"
     ]
    },
    {
     "name": "stdout",
     "output_type": "stream",
     "text": [
      "val_loss is not improved for 4 epochs\n",
      "                  validation\n",
      " - Yaw          :   2.274285\n",
      " - Pitch        :   1.335214\n",
      " - Roll         :   0.823806\n",
      " - RMS          :   1.595183\n",
      " - 99% Tile     :  11.020534\n",
      "Save output signals into checkpoint/baseline - GRU(bidirectional)/sample/0015.npy\n"
     ]
    },
    {
     "name": "stderr",
     "output_type": "stream",
     "text": [
      "[0016/0040] Train: 100%|█████████████████████████████| 174/174 [00:08<00:00, 21.67it/s, loss 0.0026]\n",
      "[0016/0040] Validation: 100%|████████████████████| 173/173 [00:04<00:00, 43.04it/s, val_loss 0.0022]\n",
      "[0017/0040] Train:   0%|                                                    | 0/174 [00:00<?, ?it/s]"
     ]
    },
    {
     "name": "stdout",
     "output_type": "stream",
     "text": [
      "                  validation\n",
      " - Yaw          :   1.971316\n",
      " - Pitch        :   1.194258\n",
      " - Roll         :   0.958707\n",
      " - RMS          :   1.441233\n",
      " - 99% Tile     :  10.846410\n",
      "Save output signals into checkpoint/baseline - GRU(bidirectional)/sample/0016.npy\n"
     ]
    },
    {
     "name": "stderr",
     "output_type": "stream",
     "text": [
      "[0017/0040] Train: 100%|█████████████████████████████| 174/174 [00:08<00:00, 21.58it/s, loss 0.0026]\n",
      "[0017/0040] Validation: 100%|████████████████████| 173/173 [00:03<00:00, 46.69it/s, val_loss 0.0022]\n",
      "[0018/0040] Train:   0%|                                                    | 0/174 [00:00<?, ?it/s]"
     ]
    },
    {
     "name": "stdout",
     "output_type": "stream",
     "text": [
      "val_loss is not improved for 1 epochs\n",
      "                  validation\n",
      " - Yaw          :   1.954847\n",
      " - Pitch        :   1.434707\n",
      " - Roll         :   0.982027\n",
      " - RMS          :   1.510429\n",
      " - 99% Tile     :  10.733566\n",
      "Save output signals into checkpoint/baseline - GRU(bidirectional)/sample/0017.npy\n"
     ]
    },
    {
     "name": "stderr",
     "output_type": "stream",
     "text": [
      "[0018/0040] Train: 100%|█████████████████████████████| 174/174 [00:08<00:00, 21.58it/s, loss 0.0025]\n",
      "[0018/0040] Validation: 100%|████████████████████| 173/173 [00:03<00:00, 46.01it/s, val_loss 0.0021]\n",
      "[0019/0040] Train:   0%|                                                    | 0/174 [00:00<?, ?it/s]"
     ]
    },
    {
     "name": "stdout",
     "output_type": "stream",
     "text": [
      "                  validation\n",
      " - Yaw          :   2.086772\n",
      " - Pitch        :   1.145146\n",
      " - Roll         :   0.811674\n",
      " - RMS          :   1.451986\n",
      " - 99% Tile     :  10.708535\n",
      "Save output signals into checkpoint/baseline - GRU(bidirectional)/sample/0018.npy\n"
     ]
    },
    {
     "name": "stderr",
     "output_type": "stream",
     "text": [
      "[0019/0040] Train: 100%|█████████████████████████████| 174/174 [00:08<00:00, 21.66it/s, loss 0.0025]\n",
      "[0019/0040] Validation: 100%|████████████████████| 173/173 [00:03<00:00, 46.21it/s, val_loss 0.0022]\n",
      "[0020/0040] Train:   0%|                                                    | 0/174 [00:00<?, ?it/s]"
     ]
    },
    {
     "name": "stdout",
     "output_type": "stream",
     "text": [
      "val_loss is not improved for 1 epochs\n",
      "                  validation\n",
      " - Yaw          :   1.925126\n",
      " - Pitch        :   1.490972\n",
      " - Roll         :   0.764377\n",
      " - RMS          :   1.473474\n",
      " - 99% Tile     :  10.550148\n",
      "Save output signals into checkpoint/baseline - GRU(bidirectional)/sample/0019.npy\n"
     ]
    },
    {
     "name": "stderr",
     "output_type": "stream",
     "text": [
      "[0020/0040] Train: 100%|█████████████████████████████| 174/174 [00:08<00:00, 21.46it/s, loss 0.0025]\n",
      "[0020/0040] Validation: 100%|████████████████████| 173/173 [00:03<00:00, 47.10it/s, val_loss 0.0022]\n",
      "[0021/0040] Train:   0%|                                                    | 0/174 [00:00<?, ?it/s]"
     ]
    },
    {
     "name": "stdout",
     "output_type": "stream",
     "text": [
      "val_loss is not improved for 2 epochs\n",
      "                  validation\n",
      " - Yaw          :   2.244120\n",
      " - Pitch        :   1.242439\n",
      " - Roll         :   0.780128\n",
      " - RMS          :   1.547937\n",
      " - 99% Tile     :  10.721921\n",
      "Save output signals into checkpoint/baseline - GRU(bidirectional)/sample/0020.npy\n"
     ]
    },
    {
     "name": "stderr",
     "output_type": "stream",
     "text": [
      "[0021/0040] Train: 100%|█████████████████████████████| 174/174 [00:08<00:00, 21.64it/s, loss 0.0024]\n",
      "[0021/0040] Validation: 100%|████████████████████| 173/173 [00:03<00:00, 47.24it/s, val_loss 0.0023]\n",
      "[0022/0040] Train:   0%|                                                    | 0/174 [00:00<?, ?it/s]"
     ]
    },
    {
     "name": "stdout",
     "output_type": "stream",
     "text": [
      "val_loss is not improved for 3 epochs\n",
      "                  validation\n",
      " - Yaw          :   2.114957\n",
      " - Pitch        :   1.645052\n",
      " - Roll         :   0.766402\n",
      " - RMS          :   1.608997\n",
      " - 99% Tile     :  10.777992\n",
      "Save output signals into checkpoint/baseline - GRU(bidirectional)/sample/0021.npy\n"
     ]
    },
    {
     "name": "stderr",
     "output_type": "stream",
     "text": [
      "[0022/0040] Train: 100%|█████████████████████████████| 174/174 [00:08<00:00, 21.58it/s, loss 0.0025]\n",
      "[0022/0040] Validation: 100%|████████████████████| 173/173 [00:03<00:00, 47.12it/s, val_loss 0.0021]\n",
      "[0023/0040] Train:   0%|                                                    | 0/174 [00:00<?, ?it/s]"
     ]
    },
    {
     "name": "stdout",
     "output_type": "stream",
     "text": [
      "                  validation\n",
      " - Yaw          :   2.025823\n",
      " - Pitch        :   1.123627\n",
      " - Roll         :   0.759945\n",
      " - RMS          :   1.407600\n",
      " - 99% Tile     :  10.664787\n",
      "Save output signals into checkpoint/baseline - GRU(bidirectional)/sample/0022.npy\n"
     ]
    },
    {
     "name": "stderr",
     "output_type": "stream",
     "text": [
      "[0023/0040] Train: 100%|█████████████████████████████| 174/174 [00:08<00:00, 21.66it/s, loss 0.0024]\n",
      "[0023/0040] Validation: 100%|████████████████████| 173/173 [00:03<00:00, 46.13it/s, val_loss 0.0021]\n",
      "[0024/0040] Train:   0%|                                                    | 0/174 [00:00<?, ?it/s]"
     ]
    },
    {
     "name": "stdout",
     "output_type": "stream",
     "text": [
      "val_loss is not improved for 1 epochs\n",
      "                  validation\n",
      " - Yaw          :   2.037995\n",
      " - Pitch        :   1.381277\n",
      " - Roll         :   0.729732\n",
      " - RMS          :   1.482550\n",
      " - 99% Tile     :  10.682734\n",
      "Save output signals into checkpoint/baseline - GRU(bidirectional)/sample/0023.npy\n"
     ]
    },
    {
     "name": "stderr",
     "output_type": "stream",
     "text": [
      "[0024/0040] Train: 100%|█████████████████████████████| 174/174 [00:07<00:00, 22.72it/s, loss 0.0024]\n",
      "[0024/0040] Validation: 100%|████████████████████| 173/173 [00:03<00:00, 52.39it/s, val_loss 0.0022]\n",
      "[0025/0040] Train:   0%|                                                    | 0/174 [00:00<?, ?it/s]"
     ]
    },
    {
     "name": "stdout",
     "output_type": "stream",
     "text": [
      "val_loss is not improved for 2 epochs\n",
      "                  validation\n",
      " - Yaw          :   2.391455\n",
      " - Pitch        :   1.225662\n",
      " - Roll         :   0.755087\n",
      " - RMS          :   1.611569\n",
      " - 99% Tile     :  10.627448\n",
      "Save output signals into checkpoint/baseline - GRU(bidirectional)/sample/0024.npy\n"
     ]
    },
    {
     "name": "stderr",
     "output_type": "stream",
     "text": [
      "[0025/0040] Train: 100%|█████████████████████████████| 174/174 [00:07<00:00, 23.58it/s, loss 0.0024]\n",
      "[0025/0040] Validation: 100%|████████████████████| 173/173 [00:03<00:00, 52.01it/s, val_loss 0.0022]\n",
      "[0026/0040] Train:   0%|                                                    | 0/174 [00:00<?, ?it/s]"
     ]
    },
    {
     "name": "stdout",
     "output_type": "stream",
     "text": [
      "val_loss is not improved for 3 epochs\n",
      "                  validation\n",
      " - Yaw          :   2.481491\n",
      " - Pitch        :   1.250175\n",
      " - Roll         :   0.797621\n",
      " - RMS          :   1.669025\n",
      " - 99% Tile     :  10.550034\n",
      "Save output signals into checkpoint/baseline - GRU(bidirectional)/sample/0025.npy\n"
     ]
    },
    {
     "name": "stderr",
     "output_type": "stream",
     "text": [
      "[0026/0040] Train: 100%|█████████████████████████████| 174/174 [00:07<00:00, 23.45it/s, loss 0.0024]\n",
      "[0026/0040] Validation: 100%|████████████████████| 173/173 [00:03<00:00, 52.31it/s, val_loss 0.0021]\n",
      "[0027/0040] Train:   0%|                                                    | 0/174 [00:00<?, ?it/s]"
     ]
    },
    {
     "name": "stdout",
     "output_type": "stream",
     "text": [
      "                  validation\n",
      " - Yaw          :   2.110283\n",
      " - Pitch        :   1.123761\n",
      " - Roll         :   0.811998\n",
      " - RMS          :   1.457792\n",
      " - 99% Tile     :  10.434813\n",
      "Save output signals into checkpoint/baseline - GRU(bidirectional)/sample/0026.npy\n"
     ]
    },
    {
     "name": "stderr",
     "output_type": "stream",
     "text": [
      "[0027/0040] Train: 100%|█████████████████████████████| 174/174 [00:07<00:00, 23.58it/s, loss 0.0023]\n",
      "[0027/0040] Validation: 100%|████████████████████| 173/173 [00:03<00:00, 51.82it/s, val_loss 0.0020]\n",
      "[0028/0040] Train:   0%|                                                    | 0/174 [00:00<?, ?it/s]"
     ]
    },
    {
     "name": "stdout",
     "output_type": "stream",
     "text": [
      "                  validation\n",
      " - Yaw          :   1.975066\n",
      " - Pitch        :   1.045658\n",
      " - Roll         :   0.771090\n",
      " - RMS          :   1.364901\n",
      " - 99% Tile     :  10.413854\n",
      "Save output signals into checkpoint/baseline - GRU(bidirectional)/sample/0027.npy\n"
     ]
    },
    {
     "name": "stderr",
     "output_type": "stream",
     "text": [
      "[0028/0040] Train: 100%|█████████████████████████████| 174/174 [00:07<00:00, 23.54it/s, loss 0.0023]\n",
      "[0028/0040] Validation: 100%|████████████████████| 173/173 [00:03<00:00, 52.38it/s, val_loss 0.0020]\n",
      "[0029/0040] Train:   0%|                                                    | 0/174 [00:00<?, ?it/s]"
     ]
    },
    {
     "name": "stdout",
     "output_type": "stream",
     "text": [
      "val_loss is not improved for 1 epochs\n",
      "                  validation\n",
      " - Yaw          :   1.941466\n",
      " - Pitch        :   1.093933\n",
      " - Roll         :   0.755293\n",
      " - RMS          :   1.358485\n",
      " - 99% Tile     :  10.639024\n",
      "Save output signals into checkpoint/baseline - GRU(bidirectional)/sample/0028.npy\n"
     ]
    },
    {
     "name": "stderr",
     "output_type": "stream",
     "text": [
      "[0029/0040] Train: 100%|█████████████████████████████| 174/174 [00:07<00:00, 23.54it/s, loss 0.0023]\n",
      "[0029/0040] Validation: 100%|████████████████████| 173/173 [00:03<00:00, 52.28it/s, val_loss 0.0020]\n",
      "[0030/0040] Train:   0%|                                                    | 0/174 [00:00<?, ?it/s]"
     ]
    },
    {
     "name": "stdout",
     "output_type": "stream",
     "text": [
      "val_loss is not improved for 2 epochs\n",
      "                  validation\n",
      " - Yaw          :   1.938639\n",
      " - Pitch        :   1.230165\n",
      " - Roll         :   0.748909\n",
      " - RMS          :   1.394333\n",
      " - 99% Tile     :  10.554260\n",
      "Save output signals into checkpoint/baseline - GRU(bidirectional)/sample/0029.npy\n"
     ]
    },
    {
     "name": "stderr",
     "output_type": "stream",
     "text": [
      "[0030/0040] Train: 100%|█████████████████████████████| 174/174 [00:07<00:00, 23.61it/s, loss 0.0023]\n",
      "[0030/0040] Validation: 100%|████████████████████| 173/173 [00:03<00:00, 52.32it/s, val_loss 0.0020]\n",
      "[0031/0040] Train:   0%|                                                    | 0/174 [00:00<?, ?it/s]"
     ]
    },
    {
     "name": "stdout",
     "output_type": "stream",
     "text": [
      "                  validation\n",
      " - Yaw          :   1.952673\n",
      " - Pitch        :   1.100242\n",
      " - Roll         :   0.716494\n",
      " - RMS          :   1.358532\n",
      " - 99% Tile     :  10.376579\n",
      "Save output signals into checkpoint/baseline - GRU(bidirectional)/sample/0030.npy\n"
     ]
    },
    {
     "name": "stderr",
     "output_type": "stream",
     "text": [
      "[0031/0040] Train: 100%|█████████████████████████████| 174/174 [00:07<00:00, 23.51it/s, loss 0.0023]\n",
      "[0031/0040] Validation: 100%|████████████████████| 173/173 [00:03<00:00, 51.74it/s, val_loss 0.0020]\n",
      "[0032/0040] Train:   0%|                                                    | 0/174 [00:00<?, ?it/s]"
     ]
    },
    {
     "name": "stdout",
     "output_type": "stream",
     "text": [
      "val_loss is not improved for 1 epochs\n",
      "                  validation\n",
      " - Yaw          :   1.949262\n",
      " - Pitch        :   1.184978\n",
      " - Roll         :   0.748149\n",
      " - RMS          :   1.386064\n",
      " - 99% Tile     :  10.399424\n",
      "Save output signals into checkpoint/baseline - GRU(bidirectional)/sample/0031.npy\n"
     ]
    },
    {
     "name": "stderr",
     "output_type": "stream",
     "text": [
      "[0032/0040] Train: 100%|█████████████████████████████| 174/174 [00:07<00:00, 23.56it/s, loss 0.0022]\n",
      "[0032/0040] Validation: 100%|████████████████████| 173/173 [00:03<00:00, 51.86it/s, val_loss 0.0022]\n",
      "[0033/0040] Train:   0%|                                                    | 0/174 [00:00<?, ?it/s]"
     ]
    },
    {
     "name": "stdout",
     "output_type": "stream",
     "text": [
      "val_loss is not improved for 2 epochs\n",
      "                  validation\n",
      " - Yaw          :   2.264555\n",
      " - Pitch        :   1.354928\n",
      " - Roll         :   0.722149\n",
      " - RMS          :   1.579613\n",
      " - 99% Tile     :  10.459888\n",
      "Save output signals into checkpoint/baseline - GRU(bidirectional)/sample/0032.npy\n"
     ]
    },
    {
     "name": "stderr",
     "output_type": "stream",
     "text": [
      "[0033/0040] Train: 100%|█████████████████████████████| 174/174 [00:07<00:00, 23.57it/s, loss 0.0022]\n",
      "[0033/0040] Validation: 100%|████████████████████| 173/173 [00:03<00:00, 51.71it/s, val_loss 0.0020]\n",
      "[0034/0040] Train:   0%|                                                    | 0/174 [00:00<?, ?it/s]"
     ]
    },
    {
     "name": "stdout",
     "output_type": "stream",
     "text": [
      "val_loss is not improved for 3 epochs\n",
      "                  validation\n",
      " - Yaw          :   1.927679\n",
      " - Pitch        :   1.060311\n",
      " - Roll         :   0.773539\n",
      " - RMS          :   1.346423\n",
      " - 99% Tile     :  10.496206\n",
      "Save output signals into checkpoint/baseline - GRU(bidirectional)/sample/0033.npy\n"
     ]
    },
    {
     "name": "stderr",
     "output_type": "stream",
     "text": [
      "[0034/0040] Train: 100%|█████████████████████████████| 174/174 [00:07<00:00, 23.45it/s, loss 0.0022]\n",
      "[0034/0040] Validation: 100%|████████████████████| 173/173 [00:03<00:00, 52.11it/s, val_loss 0.0021]\n",
      "[0035/0040] Train:   0%|                                                    | 0/174 [00:00<?, ?it/s]"
     ]
    },
    {
     "name": "stdout",
     "output_type": "stream",
     "text": [
      "val_loss is not improved for 4 epochs\n",
      "                  validation\n",
      " - Yaw          :   1.907191\n",
      " - Pitch        :   1.324597\n",
      " - Roll         :   0.732806\n",
      " - RMS          :   1.405814\n",
      " - 99% Tile     :  10.568682\n",
      "Save output signals into checkpoint/baseline - GRU(bidirectional)/sample/0034.npy\n"
     ]
    },
    {
     "name": "stderr",
     "output_type": "stream",
     "text": [
      "[0035/0040] Train: 100%|█████████████████████████████| 174/174 [00:07<00:00, 23.49it/s, loss 0.0022]\n",
      "[0035/0040] Validation: 100%|████████████████████| 173/173 [00:03<00:00, 52.08it/s, val_loss 0.0020]\n",
      "[0036/0040] Train:   0%|                                                    | 0/174 [00:00<?, ?it/s]"
     ]
    },
    {
     "name": "stdout",
     "output_type": "stream",
     "text": [
      "val_loss is not improved for 5 epochs\n",
      "                  validation\n",
      " - Yaw          :   2.008956\n",
      " - Pitch        :   1.141958\n",
      " - Roll         :   0.767247\n",
      " - RMS          :   1.405779\n",
      " - 99% Tile     :  10.499247\n",
      "Save output signals into checkpoint/baseline - GRU(bidirectional)/sample/0035.npy\n"
     ]
    },
    {
     "name": "stderr",
     "output_type": "stream",
     "text": [
      "[0036/0040] Train: 100%|█████████████████████████████| 174/174 [00:07<00:00, 23.55it/s, loss 0.0022]\n",
      "[0036/0040] Validation: 100%|████████████████████| 173/173 [00:03<00:00, 52.42it/s, val_loss 0.0020]\n",
      "[0037/0040] Train:   0%|                                                    | 0/174 [00:00<?, ?it/s]"
     ]
    },
    {
     "name": "stdout",
     "output_type": "stream",
     "text": [
      "val_loss is not improved for 6 epochs\n",
      "                  validation\n",
      " - Yaw          :   2.034945\n",
      " - Pitch        :   1.071265\n",
      " - Roll         :   0.733402\n",
      " - RMS          :   1.393615\n",
      " - 99% Tile     :  10.447930\n",
      "Save output signals into checkpoint/baseline - GRU(bidirectional)/sample/0036.npy\n"
     ]
    },
    {
     "name": "stderr",
     "output_type": "stream",
     "text": [
      "[0037/0040] Train: 100%|█████████████████████████████| 174/174 [00:07<00:00, 23.56it/s, loss 0.0022]\n",
      "[0037/0040] Validation: 100%|████████████████████| 173/173 [00:03<00:00, 52.05it/s, val_loss 0.0021]\n",
      "[0038/0040] Train:   0%|                                                    | 0/174 [00:00<?, ?it/s]"
     ]
    },
    {
     "name": "stdout",
     "output_type": "stream",
     "text": [
      "val_loss is not improved for 7 epochs\n",
      "                  validation\n",
      " - Yaw          :   2.152553\n",
      " - Pitch        :   1.153253\n",
      " - Roll         :   0.781597\n",
      " - RMS          :   1.480357\n",
      " - 99% Tile     :  10.459974\n",
      "Save output signals into checkpoint/baseline - GRU(bidirectional)/sample/0037.npy\n"
     ]
    },
    {
     "name": "stderr",
     "output_type": "stream",
     "text": [
      "[0038/0040] Train: 100%|█████████████████████████████| 174/174 [00:07<00:00, 23.53it/s, loss 0.0021]\n",
      "[0038/0040] Validation: 100%|████████████████████| 173/173 [00:03<00:00, 52.07it/s, val_loss 0.0021]\n",
      "[0039/0040] Train:   0%|                                                    | 0/174 [00:00<?, ?it/s]"
     ]
    },
    {
     "name": "stdout",
     "output_type": "stream",
     "text": [
      "val_loss is not improved for 8 epochs\n",
      "                  validation\n",
      " - Yaw          :   2.081863\n",
      " - Pitch        :   1.281554\n",
      " - Roll         :   0.763947\n",
      " - RMS          :   1.478755\n",
      " - 99% Tile     :  10.626511\n",
      "Save output signals into checkpoint/baseline - GRU(bidirectional)/sample/0038.npy\n"
     ]
    },
    {
     "name": "stderr",
     "output_type": "stream",
     "text": [
      "[0039/0040] Train: 100%|█████████████████████████████| 174/174 [00:07<00:00, 23.53it/s, loss 0.0021]\n",
      "[0039/0040] Validation: 100%|████████████████████| 173/173 [00:03<00:00, 52.38it/s, val_loss 0.0020]\n",
      "[0040/0040] Train:   0%|                                                    | 0/174 [00:00<?, ?it/s]"
     ]
    },
    {
     "name": "stdout",
     "output_type": "stream",
     "text": [
      "                  validation\n",
      " - Yaw          :   1.907615\n",
      " - Pitch        :   1.126787\n",
      " - Roll         :   0.745902\n",
      " - RMS          :   1.349693\n",
      " - 99% Tile     :  10.459818\n",
      "Save output signals into checkpoint/baseline - GRU(bidirectional)/sample/0039.npy\n"
     ]
    },
    {
     "name": "stderr",
     "output_type": "stream",
     "text": [
      "[0040/0040] Train: 100%|█████████████████████████████| 174/174 [00:07<00:00, 23.68it/s, loss 0.0021]\n",
      "[0040/0040] Validation: 100%|████████████████████| 173/173 [00:03<00:00, 51.86it/s, val_loss 0.0020]\n"
     ]
    },
    {
     "name": "stdout",
     "output_type": "stream",
     "text": [
      "                  validation\n",
      " - Yaw          :   1.937843\n",
      " - Pitch        :   1.065320\n",
      " - Roll         :   0.715967\n",
      " - RMS          :   1.341982\n",
      " - 99% Tile     :  10.503498\n",
      "Save output signals into checkpoint/baseline - GRU(bidirectional)/sample/0040.npy\n"
     ]
    }
   ],
   "source": [
    "trainer.fit(train_ds, test_ds, num_epochs=NUM_EPOCHS, batch_size=BATCH_SIZE)"
   ]
  },
  {
   "cell_type": "code",
   "execution_count": null,
   "metadata": {},
   "outputs": [],
   "source": []
  },
  {
   "cell_type": "code",
   "execution_count": null,
   "metadata": {},
   "outputs": [],
   "source": []
  },
  {
   "cell_type": "code",
   "execution_count": null,
   "metadata": {},
   "outputs": [],
   "source": []
  },
  {
   "cell_type": "code",
   "execution_count": null,
   "metadata": {},
   "outputs": [],
   "source": []
  },
  {
   "cell_type": "code",
   "execution_count": null,
   "metadata": {},
   "outputs": [],
   "source": []
  },
  {
   "cell_type": "code",
   "execution_count": null,
   "metadata": {},
   "outputs": [],
   "source": []
  },
  {
   "cell_type": "code",
   "execution_count": null,
   "metadata": {},
   "outputs": [],
   "source": []
  },
  {
   "cell_type": "code",
   "execution_count": null,
   "metadata": {},
   "outputs": [],
   "source": []
  }
 ],
 "metadata": {
  "kernelspec": {
   "display_name": "torch",
   "language": "python",
   "name": "torch"
  },
  "language_info": {
   "codemirror_mode": {
    "name": "ipython",
    "version": 3
   },
   "file_extension": ".py",
   "mimetype": "text/x-python",
   "name": "python",
   "nbconvert_exporter": "python",
   "pygments_lexer": "ipython3",
   "version": "3.8.5"
  }
 },
 "nbformat": 4,
 "nbformat_minor": 4
}
