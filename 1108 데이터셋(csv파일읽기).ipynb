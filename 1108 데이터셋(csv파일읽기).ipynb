{
 "cells": [
  {
   "cell_type": "code",
   "execution_count": 3,
   "metadata": {},
   "outputs": [],
   "source": [
    "from collections import defaultdict\n",
    "import numpy as np\n",
    "import matplotlib.pyplot as plt\n",
    "from math import pi\n",
    "import pandas as pd\n",
    "import torch\n",
    "from torch.utils.data import Dataset\n",
    "import random"
   ]
  },
  {
   "cell_type": "code",
   "execution_count": 6,
   "metadata": {},
   "outputs": [],
   "source": [
    "class CSVDataset(Dataset):\n",
    "    def __init__(self, fpath, window_size):\n",
    "        csv = pd.read_csv(fpath)\n",
    "        \n",
    "        # 랜덤한 시간씩 window를 움직여서 랜덤한 overlap을 생성(DeepRNNFramework)\n",
    "        self.yaw, self.pitch, self.roll = [], [], []\n",
    "        self.iyaw, self.ipitch, self.iroll = [], [], []\n",
    "        self.accx, self.accy, self.accz = [], [], []\n",
    "        \n",
    "        i = 0\n",
    "        w = window_size\n",
    "        while i <= len(csv) - w:\n",
    "            self.yaw.append(csv.input_orientation_yaw[i:i+w].to_numpy())\n",
    "            self.pitch.append(csv.input_orientation_pitch[i:i+w].to_numpy())\n",
    "            self.roll.append(csv.input_orientation_roll[i:i+w].to_numpy())\n",
    "            self.accx.append(csv.acceleration_x[i:i+w].to_numpy())\n",
    "            self.accy.append(csv.acceleration_y[i:i+w].to_numpy())\n",
    "            self.accz.append(csv.acceleration_z[i:i+w].to_numpy())\n",
    "            self.iyaw.append(csv.input_orientation_yaw[i+18:i+18+w].to_numpy())\n",
    "            self.ipitch.append(csv.input_orientation_pitch[i+18:i+18+w].to_numpy())\n",
    "            self.iroll.append(csv.input_orientation_roll[i+18:i+18+w].to_numpy())\n",
    "            i += random.randint(1, w)\n",
    "\n",
    "    def __len__(self):\n",
    "        return len(self.yaw)\n",
    "    \n",
    "    def __getitem__(self, idx):\n",
    "        yaw = self.yaw[idx]\n",
    "        pitch = self.pitch[idx]\n",
    "        roll = self.roll[idx]\n",
    "        accx = self.accx[idx]\n",
    "        accy = self.accy[idx]\n",
    "        accz = self.accz[idx]\n",
    "        x = np.stack((yaw, pitch, roll, accx, accy, accz))\n",
    "        x = torch.tensor(x, dtype=torch.float32)\n",
    "        \n",
    "        iyaw = self.iyaw[idx]\n",
    "        ipitch = self.ipitch[idx]\n",
    "        iroll = self.iroll[idx]\n",
    "        y = np.stack((iyaw, ipitch, iroll))\n",
    "        y = torch.tensor(y, dtype=torch.float32)\n",
    "        \n",
    "        return x, y"
   ]
  },
  {
   "cell_type": "code",
   "execution_count": 8,
   "metadata": {},
   "outputs": [],
   "source": [
    "ds = CSVDataset('data/1108/user1_scene1_0.csv', 48)"
   ]
  },
  {
   "cell_type": "code",
   "execution_count": 12,
   "metadata": {},
   "outputs": [
    {
     "data": {
      "text/plain": [
       "(torch.Size([6, 48]), torch.Size([3, 48]))"
      ]
     },
     "execution_count": 12,
     "metadata": {},
     "output_type": "execute_result"
    }
   ],
   "source": [
    "ds[0][0].shape, ds[0][1].shape"
   ]
  }
 ],
 "metadata": {
  "kernelspec": {
   "display_name": "torch",
   "language": "python",
   "name": "torch"
  },
  "language_info": {
   "codemirror_mode": {
    "name": "ipython",
    "version": 3
   },
   "file_extension": ".py",
   "mimetype": "text/x-python",
   "name": "python",
   "nbconvert_exporter": "python",
   "pygments_lexer": "ipython3",
   "version": "3.7.9"
  }
 },
 "nbformat": 4,
 "nbformat_minor": 4
}
