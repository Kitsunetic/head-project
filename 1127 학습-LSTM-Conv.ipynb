{
 "cells": [
  {
   "cell_type": "code",
   "execution_count": 1,
   "metadata": {},
   "outputs": [],
   "source": [
    "from multiprocessing import cpu_count\n",
    "from pathlib import Path\n",
    "from typing import List, Union, AnyStr\n",
    "from math import pi\n",
    "import pickle\n",
    "\n",
    "import numpy as np\n",
    "import torch\n",
    "import matplotlib.pyplot as plt\n",
    "import torch.nn as nn\n",
    "from sklearn import model_selection\n",
    "from tqdm import tqdm\n",
    "import torch_optimizer\n",
    "from torch.utils.data import Dataset\n",
    "import pandas as pd\n",
    "import random\n",
    "\n",
    "import torch_burn as tb\n",
    "import utils"
   ]
  },
  {
   "cell_type": "code",
   "execution_count": 2,
   "metadata": {},
   "outputs": [],
   "source": [
    "tb.seed_everything(0)"
   ]
  },
  {
   "cell_type": "code",
   "execution_count": 3,
   "metadata": {},
   "outputs": [],
   "source": [
    "EXPERIMENT_NAME = '1127-LSTM-Conv-win120'\n",
    "CHECKPOINT_DIR = Path('checkpoint', EXPERIMENT_NAME)\n",
    "CHECKPOINT_DIR.mkdir(parents=True, exist_ok=True)\n",
    "\n",
    "DATA_DIR = Path('data/1116')\n",
    "TRAIN_FILES = sorted(list(DATA_DIR.glob('*scene3_0.csv')))\n",
    "TEST_FILES = sorted(list(DATA_DIR.glob('*scene3_1.csv')))"
   ]
  },
  {
   "cell_type": "markdown",
   "metadata": {},
   "source": [
    "# 데이터셋 생성\n",
    "\n",
    "scene1에 대해서 모든 user의 데이터를 하나로 합친다."
   ]
  },
  {
   "cell_type": "code",
   "execution_count": 4,
   "metadata": {},
   "outputs": [],
   "source": [
    "WINDOW_SIZE = 120"
   ]
  },
  {
   "cell_type": "code",
   "execution_count": 5,
   "metadata": {},
   "outputs": [],
   "source": [
    "class CSVSequentialDataset(Dataset):\n",
    "    def __init__(self, csvfile, window_size, stride):\n",
    "        super(CSVSequentialDataset, self).__init__()\n",
    "\n",
    "        self.xcols = ['input_orientation_yaw', 'input_orientation_pitch', 'input_orientation_roll',\n",
    "                      'acceleration_x', 'acceleration_y', 'acceleration_z']\n",
    "        self.ycols = ['input_orientation_yaw', 'input_orientation_pitch', 'input_orientation_roll']\n",
    "\n",
    "        self.csv = pd.read_csv(csvfile)\n",
    "        self.window_size = window_size\n",
    "        \n",
    "        self.indexes = []\n",
    "        i = 0\n",
    "        while i <= len(self.csv) - window_size * 2:\n",
    "            self.indexes.append((i, i + window_size))\n",
    "            i += stride\n",
    "\n",
    "    def __len__(self):\n",
    "        return len(self.indexes)\n",
    "\n",
    "    def __getitem__(self, idx):\n",
    "        sx, tx = self.indexes[idx]\n",
    "        sy, ty = sx + 18, tx + 18\n",
    "        x = self.csv.iloc[sx:tx][self.xcols].to_numpy()\n",
    "        y = self.csv.iloc[sy:ty][self.ycols].to_numpy()\n",
    "\n",
    "        x = torch.tensor(x, dtype=torch.float32) # 300, 6\n",
    "        y = torch.tensor(y, dtype=torch.float32) # 300, 3\n",
    "\n",
    "        return x, y"
   ]
  },
  {
   "cell_type": "code",
   "execution_count": 6,
   "metadata": {},
   "outputs": [],
   "source": [
    "ds_train = [CSVSequentialDataset(f, window_size=WINDOW_SIZE, stride=5) for f in TRAIN_FILES]\n",
    "ds_train = tb.data.ChainDataset(*ds_train)\n",
    "ds_test = [CSVSequentialDataset(f, window_size=WINDOW_SIZE, stride=5) for f in TEST_FILES]\n",
    "ds_test = tb.data.ChainDataset(*ds_test)"
   ]
  },
  {
   "cell_type": "code",
   "execution_count": 7,
   "metadata": {},
   "outputs": [
    {
     "data": {
      "text/plain": [
       "(11071, 10671)"
      ]
     },
     "execution_count": 7,
     "metadata": {},
     "output_type": "execute_result"
    }
   ],
   "source": [
    "len(ds_train), len(ds_test)"
   ]
  },
  {
   "cell_type": "code",
   "execution_count": 8,
   "metadata": {},
   "outputs": [
    {
     "data": {
      "text/plain": [
       "(torch.Size([120, 6]), torch.Size([120, 3]))"
      ]
     },
     "execution_count": 8,
     "metadata": {},
     "output_type": "execute_result"
    }
   ],
   "source": [
    "ds_train[0][0].shape, ds_train[0][1].shape"
   ]
  },
  {
   "cell_type": "code",
   "execution_count": 9,
   "metadata": {},
   "outputs": [],
   "source": [
    "x, y = ds_train[0]"
   ]
  },
  {
   "cell_type": "code",
   "execution_count": 10,
   "metadata": {},
   "outputs": [
    {
     "data": {
      "text/plain": [
       "torch.Size([120, 6])"
      ]
     },
     "execution_count": 10,
     "metadata": {},
     "output_type": "execute_result"
    }
   ],
   "source": [
    "x.shape"
   ]
  },
  {
   "cell_type": "code",
   "execution_count": 11,
   "metadata": {},
   "outputs": [
    {
     "data": {
      "image/png": "[encoded data removed]",
      "text/plain": [
       "<Figure size 864x216 with 3 Axes>"
      ]
     },
     "metadata": {
      "needs_background": "light"
     },
     "output_type": "display_data"
    }
   ],
   "source": [
    "plt.figure(figsize=(12, 3))\n",
    "\n",
    "plt.subplot(1, 3, 1)\n",
    "plt.plot(x[:, 0])\n",
    "plt.title('Yaw')\n",
    "\n",
    "plt.subplot(1, 3, 2)\n",
    "plt.plot(x[:, 1])\n",
    "plt.title('Pitch')\n",
    "\n",
    "plt.subplot(1, 3, 3)\n",
    "plt.plot(x[:, 2])\n",
    "plt.title('Roll')\n",
    "\n",
    "plt.tight_layout()\n",
    "plt.show()"
   ]
  },
  {
   "cell_type": "markdown",
   "metadata": {},
   "source": [
    "# 모델 생성\n",
    "\n",
    "StackedLSTM Bidirectional"
   ]
  },
  {
   "cell_type": "code",
   "execution_count": 12,
   "metadata": {},
   "outputs": [],
   "source": [
    "class ResBlock1d(nn.Module):\n",
    "    def __init__(self, inchannels, channels, kernel_size):\n",
    "        super(ResBlock1d, self).__init__()\n",
    "\n",
    "        self.conv1 = nn.Sequential(\n",
    "            nn.Conv1d(inchannels, channels, kernel_size, padding=kernel_size // 2),\n",
    "            nn.BatchNorm1d(channels),\n",
    "            nn.LeakyReLU(),\n",
    "            nn.Conv1d(channels, channels, kernel_size, padding=kernel_size // 2),\n",
    "            nn.BatchNorm1d(channels)\n",
    "        )\n",
    "        self.conv2 = nn.Sequential(\n",
    "            nn.Conv1d(inchannels, channels, 1),\n",
    "            nn.BatchNorm1d(channels)\n",
    "        )\n",
    "        self.act = nn.LeakyReLU()\n",
    "\n",
    "    def forward(self, x):\n",
    "        identity = x\n",
    "\n",
    "        x = self.conv1(x)\n",
    "        identity = self.conv2(identity)\n",
    "        x += identity\n",
    "        x = self.act(x)\n",
    "\n",
    "        return x"
   ]
  },
  {
   "cell_type": "code",
   "execution_count": 13,
   "metadata": {},
   "outputs": [],
   "source": [
    "class M2M_LSTMC(nn.Module):\n",
    "    def __init__(self):\n",
    "        super(M2M_LSTMC, self).__init__()\n",
    "\n",
    "        self.rnn = nn.LSTM(input_size=6,\n",
    "                           hidden_size=64,\n",
    "                           num_layers=8,\n",
    "                           batch_first=True,\n",
    "                           dropout=0.2,\n",
    "                           bidirectional=True)\n",
    "        \n",
    "        self.conv_out = nn.Sequential(\n",
    "            ResBlock1d(128, 64, 3),\n",
    "            nn.Conv1d(64, 3, 1)\n",
    "        )\n",
    "\n",
    "    def forward(self, x):\n",
    "        x, (hiddens, cells) = self.rnn(x) # B, S, 128\n",
    "        x = x.transpose(1, 2) # B, 128, S\n",
    "        x = self.conv_out(x) # B, 3, S\n",
    "        x = x.transpose(1, 2) # B, S, 3\n",
    "\n",
    "        return x"
   ]
  },
  {
   "cell_type": "code",
   "execution_count": 14,
   "metadata": {},
   "outputs": [],
   "source": [
    "model = M2M_LSTMC().cuda()"
   ]
  },
  {
   "cell_type": "code",
   "execution_count": 15,
   "metadata": {},
   "outputs": [],
   "source": [
    "criterion = nn.MSELoss().cuda()\n",
    "optimizer = torch_optimizer.RAdam(model.parameters())"
   ]
  },
  {
   "cell_type": "code",
   "execution_count": 16,
   "metadata": {},
   "outputs": [],
   "source": [
    "class HPMetric(tb.metrics.InvisibleMetric):\n",
    "    def __init__(self, name: str):\n",
    "        super(HPMetric, self).__init__(name)\n",
    "\n",
    "        self.diff = []\n",
    "\n",
    "    def on_valid_epoch_end(self, epoch: int, logs: dict):\n",
    "        # RMS, 99% tile 출력\n",
    "        yaw_v, pitch_v, roll_v, rms_v, tile99_v = self._calc_values(self.diff)\n",
    "\n",
    "        print(f'                  validation')\n",
    "        print(f' - Yaw          : {yaw_v:10f}')\n",
    "        print(f' - Pitch        : {pitch_v:10f}')\n",
    "        print(f' - Roll         : {roll_v:10f}')\n",
    "        print(f' - RMS          : {rms_v:10f}')\n",
    "        print(f' - 99% Tile     : {tile99_v:10f}')\n",
    "\n",
    "        self.diff.clear()\n",
    "\n",
    "    def get_value(self, outputs: torch.Tensor, targets: torch.Tensor, is_train: bool):\n",
    "        if not is_train:\n",
    "            self.diff.append((outputs - targets).mean(1).detach().cpu())  # (B, S, 3) --> (B, 3)\n",
    "\n",
    "    @staticmethod\n",
    "    def _calc_values(diff):\n",
    "        diff = torch.cat(diff).abs_()  # (D, 3)\n",
    "        rms = (diff.square().sum(1) / 3).sqrt()\n",
    "        tile = rms.flatten().numpy()\n",
    "        tile99 = np.percentile(tile, 99)\n",
    "        \n",
    "        mrms = rms.mean()\n",
    "        \n",
    "        # diff = radian2degree(diff)\n",
    "        #tile = diff.flatten().numpy()\n",
    "        #tile99 = np.percentile(tile, 99)\n",
    "\n",
    "        mdiff = diff.mean(dim=0)\n",
    "        #rms = (mdiff.square().sum() / 3).sqrt()\n",
    "\n",
    "        return mdiff[0].item(), mdiff[1].item(), mdiff[2].item(), mrms.item(), tile99"
   ]
  },
  {
   "cell_type": "code",
   "execution_count": 17,
   "metadata": {},
   "outputs": [],
   "source": [
    "metrics = [tb.metrics.ModuleMetric(criterion, 'loss'),\n",
    "           HPMetric('hp_metric')]"
   ]
  },
  {
   "cell_type": "code",
   "execution_count": 18,
   "metadata": {},
   "outputs": [],
   "source": [
    "callbacks = [tb.callbacks.EarlyStopping(metrics[0]),\n",
    "             tb.callbacks.LRDecaying(optimizer, metrics[0], patience=3),\n",
    "             tb.callbacks.SaveCheckpoint({'model': model}, metrics[0], CHECKPOINT_DIR, 'best-ckpt.pth')]"
   ]
  },
  {
   "cell_type": "code",
   "execution_count": 19,
   "metadata": {},
   "outputs": [],
   "source": [
    "trainer = tb.Trainer(model, optimizer, metrics, callbacks, ncols=100)"
   ]
  },
  {
   "cell_type": "code",
   "execution_count": 20,
   "metadata": {},
   "outputs": [
    {
     "name": "stderr",
     "output_type": "stream",
     "text": [
      "[0001/0200] Train: 100%|█████████████████████████████| 44/44 [00:17<00:00,  2.56it/s, loss 267.1146]\n",
      "[0001/0200] Validation: 100%|████████████████████| 42/42 [00:03<00:00, 11.62it/s, val_loss 217.0041]\n",
      "[0002/0200] Train:   0%|                                                     | 0/44 [00:00<?, ?it/s]"
     ]
    },
    {
     "name": "stdout",
     "output_type": "stream",
     "text": [
      "Save checkpoint: val_loss decreased from inf to 217.0041285923549\n",
      "                  validation\n",
      " - Yaw          :  17.129099\n",
      " - Pitch        :  10.163937\n",
      " - Roll         :   2.424468\n",
      " - RMS          :  12.507289\n",
      " - 99% Tile     :  25.949923\n"
     ]
    },
    {
     "name": "stderr",
     "output_type": "stream",
     "text": [
      "[0002/0200] Train: 100%|█████████████████████████████| 44/44 [00:12<00:00,  3.60it/s, loss 215.7746]\n",
      "[0002/0200] Validation: 100%|████████████████████| 42/42 [00:03<00:00, 10.57it/s, val_loss 164.5604]\n",
      "[0003/0200] Train:   0%|                                                     | 0/44 [00:00<?, ?it/s]"
     ]
    },
    {
     "name": "stdout",
     "output_type": "stream",
     "text": [
      "Save checkpoint: val_loss decreased from 217.0041285923549 to 164.56043043590728\n",
      "                  validation\n",
      " - Yaw          :  14.882812\n",
      " - Pitch        :   9.312456\n",
      " - Roll         :   2.310659\n",
      " - RMS          :  11.032274\n",
      " - 99% Tile     :  21.143131\n"
     ]
    },
    {
     "name": "stderr",
     "output_type": "stream",
     "text": [
      "[0003/0200] Train: 100%|█████████████████████████████| 44/44 [00:14<00:00,  3.14it/s, loss 190.7273]\n",
      "[0003/0200] Validation: 100%|████████████████████| 42/42 [00:05<00:00,  7.37it/s, val_loss 139.8572]\n",
      "[0004/0200] Train:   0%|                                                     | 0/44 [00:00<?, ?it/s]"
     ]
    },
    {
     "name": "stdout",
     "output_type": "stream",
     "text": [
      "Save checkpoint: val_loss decreased from 164.56043043590728 to 139.85723159426738\n",
      "                  validation\n",
      " - Yaw          :  13.685494\n",
      " - Pitch        :   8.568523\n",
      " - Roll         :   2.211291\n",
      " - RMS          :  10.203502\n",
      " - 99% Tile     :  19.722520\n"
     ]
    },
    {
     "name": "stderr",
     "output_type": "stream",
     "text": [
      "[0004/0200] Train: 100%|█████████████████████████████| 44/44 [00:14<00:00,  3.03it/s, loss 170.4897]\n",
      "[0004/0200] Validation: 100%|████████████████████| 42/42 [00:05<00:00,  7.30it/s, val_loss 132.0499]\n",
      "[0005/0200] Train:   0%|                                                     | 0/44 [00:00<?, ?it/s]"
     ]
    },
    {
     "name": "stdout",
     "output_type": "stream",
     "text": [
      "Save checkpoint: val_loss decreased from 139.85723159426738 to 132.04994882856096\n",
      "                  validation\n",
      " - Yaw          :  13.364481\n",
      " - Pitch        :   8.074641\n",
      " - Roll         :   2.186495\n",
      " - RMS          :   9.900288\n",
      " - 99% Tile     :  19.509520\n"
     ]
    },
    {
     "name": "stderr",
     "output_type": "stream",
     "text": [
      "[0005/0200] Train: 100%|█████████████████████████████| 44/44 [00:15<00:00,  2.89it/s, loss 149.4449]\n",
      "[0005/0200] Validation: 100%|████████████████████| 42/42 [00:07<00:00,  5.71it/s, val_loss 109.6044]\n",
      "[0006/0200] Train:   0%|                                                     | 0/44 [00:00<?, ?it/s]"
     ]
    },
    {
     "name": "stdout",
     "output_type": "stream",
     "text": [
      "Save checkpoint: val_loss decreased from 132.04994882856096 to 109.60441444033668\n",
      "                  validation\n",
      " - Yaw          :  12.040339\n",
      " - Pitch        :   7.305371\n",
      " - Roll         :   2.154639\n",
      " - RMS          :   8.983205\n",
      " - 99% Tile     :  18.192733\n"
     ]
    },
    {
     "name": "stderr",
     "output_type": "stream",
     "text": [
      "[0006/0200] Train: 100%|█████████████████████████████| 44/44 [00:15<00:00,  2.80it/s, loss 130.7488]\n",
      "[0006/0200] Validation: 100%|████████████████████| 42/42 [00:07<00:00,  5.82it/s, val_loss 100.5375]\n",
      "[0007/0200] Train:   0%|                                                     | 0/44 [00:00<?, ?it/s]"
     ]
    },
    {
     "name": "stdout",
     "output_type": "stream",
     "text": [
      "Save checkpoint: val_loss decreased from 109.60441444033668 to 100.53747694832938\n",
      "                  validation\n",
      " - Yaw          :  11.540643\n",
      " - Pitch        :   6.924554\n",
      " - Roll         :   2.165777\n",
      " - RMS          :   8.623657\n",
      " - 99% Tile     :  17.281681\n"
     ]
    },
    {
     "name": "stderr",
     "output_type": "stream",
     "text": [
      "[0007/0200] Train: 100%|█████████████████████████████| 44/44 [00:17<00:00,  2.50it/s, loss 112.5706]\n",
      "[0007/0200] Validation: 100%|█████████████████████| 42/42 [00:07<00:00,  5.97it/s, val_loss 87.0690]\n",
      "[0008/0200] Train:   0%|                                                     | 0/44 [00:00<?, ?it/s]"
     ]
    },
    {
     "name": "stdout",
     "output_type": "stream",
     "text": [
      "Save checkpoint: val_loss decreased from 100.53747694832938 to 87.06903226034981\n",
      "                  validation\n",
      " - Yaw          :  10.323842\n",
      " - Pitch        :   6.644622\n",
      " - Roll         :   2.136298\n",
      " - RMS          :   7.937274\n",
      " - 99% Tile     :  16.748790\n"
     ]
    },
    {
     "name": "stderr",
     "output_type": "stream",
     "text": [
      "[0008/0200] Train: 100%|██████████████████████████████| 44/44 [00:16<00:00,  2.71it/s, loss 94.7537]\n",
      "[0008/0200] Validation: 100%|█████████████████████| 42/42 [00:07<00:00,  5.41it/s, val_loss 71.5299]\n",
      "[0009/0200] Train:   0%|                                                     | 0/44 [00:00<?, ?it/s]"
     ]
    },
    {
     "name": "stdout",
     "output_type": "stream",
     "text": [
      "Save checkpoint: val_loss decreased from 87.06903226034981 to 71.52988647279282\n",
      "                  validation\n",
      " - Yaw          :   9.276838\n",
      " - Pitch        :   5.708278\n",
      " - Roll         :   2.159173\n",
      " - RMS          :   7.121433\n",
      " - 99% Tile     :  15.437388\n"
     ]
    },
    {
     "name": "stderr",
     "output_type": "stream",
     "text": [
      "[0009/0200] Train: 100%|██████████████████████████████| 44/44 [00:16<00:00,  2.68it/s, loss 77.6539]\n",
      "[0009/0200] Validation: 100%|█████████████████████| 42/42 [00:07<00:00,  5.63it/s, val_loss 52.7114]\n",
      "[0010/0200] Train:   0%|                                                     | 0/44 [00:00<?, ?it/s]"
     ]
    },
    {
     "name": "stdout",
     "output_type": "stream",
     "text": [
      "Save checkpoint: val_loss decreased from 71.52988647279282 to 52.71143786112467\n",
      "                  validation\n",
      " - Yaw          :   7.421220\n",
      " - Pitch        :   5.215153\n",
      " - Roll         :   2.185173\n",
      " - RMS          :   6.079014\n",
      " - 99% Tile     :  13.509646\n"
     ]
    },
    {
     "name": "stderr",
     "output_type": "stream",
     "text": [
      "[0010/0200] Train: 100%|██████████████████████████████| 44/44 [00:17<00:00,  2.53it/s, loss 63.7482]\n",
      "[0010/0200] Validation: 100%|█████████████████████| 42/42 [00:06<00:00,  6.33it/s, val_loss 44.0853]\n",
      "[0011/0200] Train:   0%|                                                     | 0/44 [00:00<?, ?it/s]"
     ]
    },
    {
     "name": "stdout",
     "output_type": "stream",
     "text": [
      "Save checkpoint: val_loss decreased from 52.71143786112467 to 44.08534129460653\n",
      "                  validation\n",
      " - Yaw          :   6.013858\n",
      " - Pitch        :   4.557505\n",
      " - Roll         :   2.172973\n",
      " - RMS          :   5.240098\n",
      " - 99% Tile     :  13.675556\n"
     ]
    },
    {
     "name": "stderr",
     "output_type": "stream",
     "text": [
      "[0011/0200] Train: 100%|██████████████████████████████| 44/44 [00:16<00:00,  2.60it/s, loss 49.9868]\n",
      "[0011/0200] Validation: 100%|█████████████████████| 42/42 [00:06<00:00,  6.33it/s, val_loss 32.5779]\n",
      "[0012/0200] Train:   0%|                                                     | 0/44 [00:00<?, ?it/s]"
     ]
    },
    {
     "name": "stdout",
     "output_type": "stream",
     "text": [
      "Save checkpoint: val_loss decreased from 44.08534129460653 to 32.577901749383834\n",
      "                  validation\n",
      " - Yaw          :   5.677406\n",
      " - Pitch        :   3.650504\n",
      " - Roll         :   2.214147\n",
      " - RMS          :   4.624869\n",
      " - 99% Tile     :  11.563465\n"
     ]
    },
    {
     "name": "stderr",
     "output_type": "stream",
     "text": [
      "[0012/0200] Train: 100%|██████████████████████████████| 44/44 [00:17<00:00,  2.54it/s, loss 39.0167]\n",
      "[0012/0200] Validation: 100%|█████████████████████| 42/42 [00:06<00:00,  6.11it/s, val_loss 25.2430]\n",
      "[0013/0200] Train:   0%|                                                     | 0/44 [00:00<?, ?it/s]"
     ]
    },
    {
     "name": "stdout",
     "output_type": "stream",
     "text": [
      "Save checkpoint: val_loss decreased from 32.577901749383834 to 25.243044455846157\n",
      "                  validation\n",
      " - Yaw          :   4.355718\n",
      " - Pitch        :   3.086393\n",
      " - Roll         :   2.153941\n",
      " - RMS          :   3.861335\n",
      " - 99% Tile     :  10.564105\n"
     ]
    },
    {
     "name": "stderr",
     "output_type": "stream",
     "text": [
      "[0013/0200] Train: 100%|██████████████████████████████| 44/44 [00:18<00:00,  2.33it/s, loss 30.1346]\n",
      "[0013/0200] Validation: 100%|█████████████████████| 42/42 [00:05<00:00,  7.80it/s, val_loss 19.1102]\n",
      "[0014/0200] Train:   0%|                                                     | 0/44 [00:00<?, ?it/s]"
     ]
    },
    {
     "name": "stdout",
     "output_type": "stream",
     "text": [
      "Save checkpoint: val_loss decreased from 25.243044455846157 to 19.110244115193684\n",
      "                  validation\n",
      " - Yaw          :   3.857959\n",
      " - Pitch        :   2.503538\n",
      " - Roll         :   2.184539\n",
      " - RMS          :   3.394345\n",
      " - 99% Tile     :   9.133335\n"
     ]
    },
    {
     "name": "stderr",
     "output_type": "stream",
     "text": [
      "[0014/0200] Train: 100%|██████████████████████████████| 44/44 [00:17<00:00,  2.54it/s, loss 22.3747]\n",
      "[0014/0200] Validation: 100%|█████████████████████| 42/42 [00:06<00:00,  6.42it/s, val_loss 20.5924]\n",
      "[0015/0200] Train:   0%|                                                     | 0/44 [00:00<?, ?it/s]"
     ]
    },
    {
     "name": "stdout",
     "output_type": "stream",
     "text": [
      "val_loss is not improved for 1 epochs\n",
      "                  validation\n",
      " - Yaw          :   4.378193\n",
      " - Pitch        :   2.437505\n",
      " - Roll         :   2.139484\n",
      " - RMS          :   3.564614\n",
      " - 99% Tile     :   9.238175\n"
     ]
    },
    {
     "name": "stderr",
     "output_type": "stream",
     "text": [
      "[0015/0200] Train: 100%|██████████████████████████████| 44/44 [00:17<00:00,  2.49it/s, loss 16.6765]\n",
      "[0015/0200] Validation: 100%|█████████████████████| 42/42 [00:05<00:00,  7.41it/s, val_loss 12.3721]\n",
      "[0016/0200] Train:   0%|                                                     | 0/44 [00:00<?, ?it/s]"
     ]
    },
    {
     "name": "stdout",
     "output_type": "stream",
     "text": [
      "Save checkpoint: val_loss decreased from 19.110244115193684 to 12.37208092212677\n",
      "                  validation\n",
      " - Yaw          :   2.780198\n",
      " - Pitch        :   1.483032\n",
      " - Roll         :   2.135964\n",
      " - RMS          :   2.580896\n",
      " - 99% Tile     :   7.597026\n"
     ]
    },
    {
     "name": "stderr",
     "output_type": "stream",
     "text": [
      "[0016/0200] Train: 100%|██████████████████████████████| 44/44 [00:17<00:00,  2.51it/s, loss 13.0214]\n",
      "[0016/0200] Validation: 100%|██████████████████████| 42/42 [00:05<00:00,  7.87it/s, val_loss 9.0088]\n",
      "[0017/0200] Train:   0%|                                                     | 0/44 [00:00<?, ?it/s]"
     ]
    },
    {
     "name": "stdout",
     "output_type": "stream",
     "text": [
      "Save checkpoint: val_loss decreased from 12.37208092212677 to 9.008793757075356\n",
      "                  validation\n",
      " - Yaw          :   2.358292\n",
      " - Pitch        :   1.564746\n",
      " - Roll         :   1.905256\n",
      " - RMS          :   2.241797\n",
      " - 99% Tile     :   6.098294\n"
     ]
    },
    {
     "name": "stderr",
     "output_type": "stream",
     "text": [
      "[0017/0200] Train: 100%|███████████████████████████████| 44/44 [00:17<00:00,  2.57it/s, loss 9.9156]\n",
      "[0017/0200] Validation: 100%|██████████████████████| 42/42 [00:06<00:00,  6.37it/s, val_loss 7.1801]\n",
      "[0018/0200] Train:   0%|                                                     | 0/44 [00:00<?, ?it/s]"
     ]
    },
    {
     "name": "stdout",
     "output_type": "stream",
     "text": [
      "Save checkpoint: val_loss decreased from 9.008793757075356 to 7.1801468758356\n",
      "                  validation\n",
      " - Yaw          :   2.046054\n",
      " - Pitch        :   1.545348\n",
      " - Roll         :   1.728644\n",
      " - RMS          :   2.005968\n",
      " - 99% Tile     :   5.171159\n"
     ]
    },
    {
     "name": "stderr",
     "output_type": "stream",
     "text": [
      "[0018/0200] Train: 100%|███████████████████████████████| 44/44 [00:14<00:00,  3.11it/s, loss 7.6671]\n",
      "[0018/0200] Validation: 100%|██████████████████████| 42/42 [00:06<00:00,  6.62it/s, val_loss 6.2105]\n",
      "[0019/0200] Train:   0%|                                                     | 0/44 [00:00<?, ?it/s]"
     ]
    },
    {
     "name": "stdout",
     "output_type": "stream",
     "text": [
      "Save checkpoint: val_loss decreased from 7.1801468758356 to 6.21053485643296\n",
      "                  validation\n",
      " - Yaw          :   1.839014\n",
      " - Pitch        :   1.607383\n",
      " - Roll         :   1.545660\n",
      " - RMS          :   1.844407\n",
      " - 99% Tile     :   4.498686\n"
     ]
    },
    {
     "name": "stderr",
     "output_type": "stream",
     "text": [
      "[0019/0200] Train: 100%|███████████████████████████████| 44/44 [00:15<00:00,  2.75it/s, loss 6.9753]\n",
      "[0019/0200] Validation: 100%|██████████████████████| 42/42 [00:07<00:00,  5.55it/s, val_loss 8.2866]\n",
      "[0020/0200] Train:   0%|                                                     | 0/44 [00:00<?, ?it/s]"
     ]
    },
    {
     "name": "stdout",
     "output_type": "stream",
     "text": [
      "val_loss is not improved for 1 epochs\n",
      "                  validation\n",
      " - Yaw          :   2.848142\n",
      " - Pitch        :   1.513745\n",
      " - Roll         :   1.493230\n",
      " - RMS          :   2.268096\n",
      " - 99% Tile     :   4.970539\n"
     ]
    },
    {
     "name": "stderr",
     "output_type": "stream",
     "text": [
      "[0020/0200] Train: 100%|███████████████████████████████| 44/44 [00:14<00:00,  2.99it/s, loss 5.7093]\n",
      "[0020/0200] Validation: 100%|██████████████████████| 42/42 [00:07<00:00,  5.98it/s, val_loss 4.6936]\n",
      "[0021/0200] Train:   0%|                                                     | 0/44 [00:00<?, ?it/s]"
     ]
    },
    {
     "name": "stdout",
     "output_type": "stream",
     "text": [
      "Save checkpoint: val_loss decreased from 6.21053485643296 to 4.693559636672339\n",
      "                  validation\n",
      " - Yaw          :   1.573346\n",
      " - Pitch        :   0.918991\n",
      " - Roll         :   1.411052\n",
      " - RMS          :   1.511284\n",
      " - 99% Tile     :   4.064707\n"
     ]
    },
    {
     "name": "stderr",
     "output_type": "stream",
     "text": [
      "[0021/0200] Train: 100%|███████████████████████████████| 44/44 [00:15<00:00,  2.76it/s, loss 4.9836]\n",
      "[0021/0200] Validation: 100%|██████████████████████| 42/42 [00:06<00:00,  6.21it/s, val_loss 4.3791]\n",
      "[0022/0200] Train:   0%|                                                     | 0/44 [00:00<?, ?it/s]"
     ]
    },
    {
     "name": "stdout",
     "output_type": "stream",
     "text": [
      "Save checkpoint: val_loss decreased from 4.693559636672339 to 4.379127360525585\n",
      "                  validation\n",
      " - Yaw          :   1.554336\n",
      " - Pitch        :   0.662774\n",
      " - Roll         :   1.249989\n",
      " - RMS          :   1.456074\n",
      " - 99% Tile     :   4.029481\n"
     ]
    },
    {
     "name": "stderr",
     "output_type": "stream",
     "text": [
      "[0022/0200] Train: 100%|███████████████████████████████| 44/44 [00:14<00:00,  3.10it/s, loss 4.5213]\n",
      "[0022/0200] Validation: 100%|██████████████████████| 42/42 [00:06<00:00,  6.64it/s, val_loss 6.5806]\n",
      "[0023/0200] Train:   0%|                                                     | 0/44 [00:00<?, ?it/s]"
     ]
    },
    {
     "name": "stdout",
     "output_type": "stream",
     "text": [
      "val_loss is not improved for 1 epochs\n",
      "                  validation\n",
      " - Yaw          :   2.643000\n",
      " - Pitch        :   0.598689\n",
      " - Roll         :   0.952254\n",
      " - RMS          :   1.781900\n",
      " - 99% Tile     :   5.354268\n"
     ]
    },
    {
     "name": "stderr",
     "output_type": "stream",
     "text": [
      "[0023/0200] Train: 100%|███████████████████████████████| 44/44 [00:12<00:00,  3.58it/s, loss 4.3098]\n",
      "[0023/0200] Validation: 100%|██████████████████████| 42/42 [00:04<00:00,  8.94it/s, val_loss 5.1956]\n",
      "[0024/0200] Train:   0%|                                                     | 0/44 [00:00<?, ?it/s]"
     ]
    },
    {
     "name": "stdout",
     "output_type": "stream",
     "text": [
      "val_loss is not improved for 2 epochs\n",
      "                  validation\n",
      " - Yaw          :   2.310484\n",
      " - Pitch        :   0.815048\n",
      " - Roll         :   0.771216\n",
      " - RMS          :   1.600211\n",
      " - 99% Tile     :   5.156158\n"
     ]
    },
    {
     "name": "stderr",
     "output_type": "stream",
     "text": [
      "[0024/0200] Train: 100%|███████████████████████████████| 44/44 [00:13<00:00,  3.37it/s, loss 3.7354]\n",
      "[0024/0200] Validation: 100%|██████████████████████| 42/42 [00:04<00:00,  9.30it/s, val_loss 3.3392]\n",
      "[0025/0200] Train:   0%|                                                     | 0/44 [00:00<?, ?it/s]"
     ]
    },
    {
     "name": "stdout",
     "output_type": "stream",
     "text": [
      "Save checkpoint: val_loss decreased from 4.379127360525585 to 3.339229268687112\n",
      "                  validation\n",
      " - Yaw          :   1.389198\n",
      " - Pitch        :   0.865971\n",
      " - Roll         :   0.600745\n",
      " - RMS          :   1.131580\n",
      " - 99% Tile     :   4.085713\n"
     ]
    },
    {
     "name": "stderr",
     "output_type": "stream",
     "text": [
      "[0025/0200] Train: 100%|███████████████████████████████| 44/44 [00:13<00:00,  3.36it/s, loss 3.1815]\n",
      "[0025/0200] Validation: 100%|██████████████████████| 42/42 [00:03<00:00, 13.02it/s, val_loss 3.0882]\n",
      "[0026/0200] Train:   0%|                                                     | 0/44 [00:00<?, ?it/s]"
     ]
    },
    {
     "name": "stdout",
     "output_type": "stream",
     "text": [
      "Save checkpoint: val_loss decreased from 3.339229268687112 to 3.0881890938395546\n",
      "                  validation\n",
      " - Yaw          :   1.427767\n",
      " - Pitch        :   0.559630\n",
      " - Roll         :   0.669454\n",
      " - RMS          :   1.058543\n",
      " - 99% Tile     :   3.972274\n"
     ]
    },
    {
     "name": "stderr",
     "output_type": "stream",
     "text": [
      "[0026/0200] Train: 100%|███████████████████████████████| 44/44 [00:12<00:00,  3.57it/s, loss 3.2135]\n",
      "[0026/0200] Validation: 100%|██████████████████████| 42/42 [00:03<00:00, 11.29it/s, val_loss 2.0620]\n",
      "[0027/0200] Train:   0%|                                                     | 0/44 [00:00<?, ?it/s]"
     ]
    },
    {
     "name": "stdout",
     "output_type": "stream",
     "text": [
      "Save checkpoint: val_loss decreased from 3.0881890938395546 to 2.0620019421690987\n",
      "                  validation\n",
      " - Yaw          :   1.060549\n",
      " - Pitch        :   0.443141\n",
      " - Roll         :   0.419699\n",
      " - RMS          :   0.791819\n",
      " - 99% Tile     :   2.384850\n"
     ]
    },
    {
     "name": "stderr",
     "output_type": "stream",
     "text": [
      "[0027/0200] Train: 100%|███████████████████████████████| 44/44 [00:11<00:00,  3.67it/s, loss 2.8870]\n",
      "[0027/0200] Validation: 100%|██████████████████████| 42/42 [00:03<00:00, 10.77it/s, val_loss 2.1631]\n",
      "[0028/0200] Train:   0%|                                                     | 0/44 [00:00<?, ?it/s]"
     ]
    },
    {
     "name": "stdout",
     "output_type": "stream",
     "text": [
      "val_loss is not improved for 1 epochs\n",
      "                  validation\n",
      " - Yaw          :   0.964483\n",
      " - Pitch        :   0.658210\n",
      " - Roll         :   0.605029\n",
      " - RMS          :   0.881154\n",
      " - 99% Tile     :   2.652462\n"
     ]
    },
    {
     "name": "stderr",
     "output_type": "stream",
     "text": [
      "[0028/0200] Train: 100%|███████████████████████████████| 44/44 [00:11<00:00,  3.78it/s, loss 3.2716]\n",
      "[0028/0200] Validation: 100%|██████████████████████| 42/42 [00:03<00:00, 11.93it/s, val_loss 3.2745]\n",
      "[0029/0200] Train:   0%|                                                     | 0/44 [00:00<?, ?it/s]"
     ]
    },
    {
     "name": "stdout",
     "output_type": "stream",
     "text": [
      "val_loss is not improved for 2 epochs\n",
      "                  validation\n",
      " - Yaw          :   1.607352\n",
      " - Pitch        :   0.620645\n",
      " - Roll         :   0.567018\n",
      " - RMS          :   1.144135\n",
      " - 99% Tile     :   3.674688\n"
     ]
    },
    {
     "name": "stderr",
     "output_type": "stream",
     "text": [
      "[0029/0200] Train: 100%|███████████████████████████████| 44/44 [00:11<00:00,  3.69it/s, loss 2.9936]\n",
      "[0029/0200] Validation: 100%|██████████████████████| 42/42 [00:03<00:00, 10.81it/s, val_loss 2.4444]\n",
      "[0030/0200] Train:   0%|                                                     | 0/44 [00:00<?, ?it/s]"
     ]
    },
    {
     "name": "stdout",
     "output_type": "stream",
     "text": [
      "Decaying lr from 0.001 to 0.0005 because val_loss did not improved for 3 epochs\n",
      "val_loss is not improved for 3 epochs\n",
      "                  validation\n",
      " - Yaw          :   1.101658\n",
      " - Pitch        :   0.906423\n",
      " - Roll         :   0.519602\n",
      " - RMS          :   0.977400\n",
      " - 99% Tile     :   2.512117\n"
     ]
    },
    {
     "name": "stderr",
     "output_type": "stream",
     "text": [
      "[0030/0200] Train: 100%|███████████████████████████████| 44/44 [00:11<00:00,  3.82it/s, loss 2.8671]\n",
      "[0030/0200] Validation: 100%|██████████████████████| 42/42 [00:04<00:00,  9.96it/s, val_loss 1.7194]\n",
      "[0031/0200] Train:   0%|                                                     | 0/44 [00:00<?, ?it/s]"
     ]
    },
    {
     "name": "stdout",
     "output_type": "stream",
     "text": [
      "Save checkpoint: val_loss decreased from 2.0620019421690987 to 1.719379784095855\n",
      "                  validation\n",
      " - Yaw          :   0.812615\n",
      " - Pitch        :   0.463264\n",
      " - Roll         :   0.339400\n",
      " - RMS          :   0.660901\n",
      " - 99% Tile     :   2.348128\n"
     ]
    },
    {
     "name": "stderr",
     "output_type": "stream",
     "text": [
      "[0031/0200] Train: 100%|███████████████████████████████| 44/44 [00:12<00:00,  3.64it/s, loss 2.5197]\n",
      "[0031/0200] Validation: 100%|██████████████████████| 42/42 [00:04<00:00,  8.63it/s, val_loss 1.6502]\n",
      "[0032/0200] Train:   0%|                                                     | 0/44 [00:00<?, ?it/s]"
     ]
    },
    {
     "name": "stdout",
     "output_type": "stream",
     "text": [
      "Save checkpoint: val_loss decreased from 1.719379784095855 to 1.650159311081682\n",
      "                  validation\n",
      " - Yaw          :   0.653971\n",
      " - Pitch        :   0.391399\n",
      " - Roll         :   0.406921\n",
      " - RMS          :   0.570094\n",
      " - 99% Tile     :   2.598802\n"
     ]
    },
    {
     "name": "stderr",
     "output_type": "stream",
     "text": [
      "[0032/0200] Train: 100%|███████████████████████████████| 44/44 [00:12<00:00,  3.53it/s, loss 2.6677]\n",
      "[0032/0200] Validation: 100%|██████████████████████| 42/42 [00:03<00:00, 11.15it/s, val_loss 2.5142]\n",
      "[0033/0200] Train:   0%|                                                     | 0/44 [00:00<?, ?it/s]"
     ]
    },
    {
     "name": "stdout",
     "output_type": "stream",
     "text": [
      "val_loss is not improved for 1 epochs\n",
      "                  validation\n",
      " - Yaw          :   1.424974\n",
      " - Pitch        :   0.498101\n",
      " - Roll         :   0.357760\n",
      " - RMS          :   0.960999\n",
      " - 99% Tile     :   3.940181\n"
     ]
    },
    {
     "name": "stderr",
     "output_type": "stream",
     "text": [
      "[0033/0200] Train: 100%|███████████████████████████████| 44/44 [00:12<00:00,  3.58it/s, loss 2.5766]\n",
      "[0033/0200] Validation: 100%|██████████████████████| 42/42 [00:03<00:00, 11.97it/s, val_loss 2.1876]\n",
      "[0034/0200] Train:   0%|                                                     | 0/44 [00:00<?, ?it/s]"
     ]
    },
    {
     "name": "stdout",
     "output_type": "stream",
     "text": [
      "val_loss is not improved for 2 epochs\n",
      "                  validation\n",
      " - Yaw          :   1.088897\n",
      " - Pitch        :   0.673497\n",
      " - Roll         :   0.347253\n",
      " - RMS          :   0.824939\n",
      " - 99% Tile     :   3.406596\n"
     ]
    },
    {
     "name": "stderr",
     "output_type": "stream",
     "text": [
      "[0034/0200] Train: 100%|███████████████████████████████| 44/44 [00:12<00:00,  3.53it/s, loss 2.3497]\n",
      "[0034/0200] Validation: 100%|██████████████████████| 42/42 [00:04<00:00,  8.85it/s, val_loss 2.2583]\n",
      "[0035/0200] Train:   0%|                                                     | 0/44 [00:00<?, ?it/s]"
     ]
    },
    {
     "name": "stdout",
     "output_type": "stream",
     "text": [
      "Decaying lr from 0.0005 to 0.00025 because val_loss did not improved for 3 epochs\n",
      "val_loss is not improved for 3 epochs\n",
      "                  validation\n",
      " - Yaw          :   1.150125\n",
      " - Pitch        :   0.572989\n",
      " - Roll         :   0.313302\n",
      " - RMS          :   0.841780\n",
      " - 99% Tile     :   3.457160\n"
     ]
    },
    {
     "name": "stderr",
     "output_type": "stream",
     "text": [
      "[0035/0200] Train: 100%|███████████████████████████████| 44/44 [00:12<00:00,  3.46it/s, loss 2.3834]\n",
      "[0035/0200] Validation: 100%|██████████████████████| 42/42 [00:04<00:00,  8.99it/s, val_loss 1.4455]\n",
      "[0036/0200] Train:   0%|                                                     | 0/44 [00:00<?, ?it/s]"
     ]
    },
    {
     "name": "stdout",
     "output_type": "stream",
     "text": [
      "Save checkpoint: val_loss decreased from 1.650159311081682 to 1.4454546790747416\n",
      "                  validation\n",
      " - Yaw          :   0.551541\n",
      " - Pitch        :   0.452327\n",
      " - Roll         :   0.291149\n",
      " - RMS          :   0.516665\n",
      " - 99% Tile     :   2.298829\n"
     ]
    },
    {
     "name": "stderr",
     "output_type": "stream",
     "text": [
      "[0036/0200] Train: 100%|███████████████████████████████| 44/44 [00:12<00:00,  3.51it/s, loss 2.3399]\n",
      "[0036/0200] Validation: 100%|██████████████████████| 42/42 [00:04<00:00,  9.79it/s, val_loss 1.5320]\n",
      "[0037/0200] Train:   0%|                                                     | 0/44 [00:00<?, ?it/s]"
     ]
    },
    {
     "name": "stdout",
     "output_type": "stream",
     "text": [
      "val_loss is not improved for 1 epochs\n",
      "                  validation\n",
      " - Yaw          :   0.792777\n",
      " - Pitch        :   0.348649\n",
      " - Roll         :   0.304948\n",
      " - RMS          :   0.589227\n",
      " - 99% Tile     :   2.198017\n"
     ]
    },
    {
     "name": "stderr",
     "output_type": "stream",
     "text": [
      "[0037/0200] Train: 100%|███████████████████████████████| 44/44 [00:12<00:00,  3.47it/s, loss 2.1687]\n",
      "[0037/0200] Validation: 100%|██████████████████████| 42/42 [00:03<00:00, 12.30it/s, val_loss 1.4982]\n",
      "[0038/0200] Train:   0%|                                                     | 0/44 [00:00<?, ?it/s]"
     ]
    },
    {
     "name": "stdout",
     "output_type": "stream",
     "text": [
      "val_loss is not improved for 2 epochs\n",
      "                  validation\n",
      " - Yaw          :   0.740904\n",
      " - Pitch        :   0.549518\n",
      " - Roll         :   0.291887\n",
      " - RMS          :   0.621474\n",
      " - 99% Tile     :   2.115059\n"
     ]
    },
    {
     "name": "stderr",
     "output_type": "stream",
     "text": [
      "[0038/0200] Train: 100%|███████████████████████████████| 44/44 [00:12<00:00,  3.57it/s, loss 2.1940]\n",
      "[0038/0200] Validation: 100%|██████████████████████| 42/42 [00:03<00:00, 11.26it/s, val_loss 1.4075]\n",
      "[0039/0200] Train:   0%|                                                     | 0/44 [00:00<?, ?it/s]"
     ]
    },
    {
     "name": "stdout",
     "output_type": "stream",
     "text": [
      "Save checkpoint: val_loss decreased from 1.4454546790747416 to 1.4074528359231497\n",
      "                  validation\n",
      " - Yaw          :   0.564357\n",
      " - Pitch        :   0.394686\n",
      " - Roll         :   0.254173\n",
      " - RMS          :   0.478575\n",
      " - 99% Tile     :   2.449100\n"
     ]
    },
    {
     "name": "stderr",
     "output_type": "stream",
     "text": [
      "[0039/0200] Train: 100%|███████████████████████████████| 44/44 [00:11<00:00,  3.73it/s, loss 2.0802]\n",
      "[0039/0200] Validation: 100%|██████████████████████| 42/42 [00:04<00:00, 10.39it/s, val_loss 1.7056]\n",
      "[0040/0200] Train:   0%|                                                     | 0/44 [00:00<?, ?it/s]"
     ]
    },
    {
     "name": "stdout",
     "output_type": "stream",
     "text": [
      "val_loss is not improved for 1 epochs\n",
      "                  validation\n",
      " - Yaw          :   1.067806\n",
      " - Pitch        :   0.501634\n",
      " - Roll         :   0.292040\n",
      " - RMS          :   0.777873\n",
      " - 99% Tile     :   2.252650\n"
     ]
    },
    {
     "name": "stderr",
     "output_type": "stream",
     "text": [
      "[0040/0200] Train: 100%|███████████████████████████████| 44/44 [00:11<00:00,  3.74it/s, loss 2.0251]\n",
      "[0040/0200] Validation: 100%|██████████████████████| 42/42 [00:03<00:00, 11.89it/s, val_loss 1.6410]\n",
      "[0041/0200] Train:   0%|                                                     | 0/44 [00:00<?, ?it/s]"
     ]
    },
    {
     "name": "stdout",
     "output_type": "stream",
     "text": [
      "val_loss is not improved for 2 epochs\n",
      "                  validation\n",
      " - Yaw          :   0.885199\n",
      " - Pitch        :   0.415222\n",
      " - Roll         :   0.271103\n",
      " - RMS          :   0.649286\n",
      " - 99% Tile     :   2.403349\n"
     ]
    },
    {
     "name": "stderr",
     "output_type": "stream",
     "text": [
      "[0041/0200] Train: 100%|███████████████████████████████| 44/44 [00:11<00:00,  3.74it/s, loss 1.9520]\n",
      "[0041/0200] Validation: 100%|██████████████████████| 42/42 [00:03<00:00, 11.64it/s, val_loss 1.4471]\n",
      "[0042/0200] Train:   0%|                                                     | 0/44 [00:00<?, ?it/s]"
     ]
    },
    {
     "name": "stdout",
     "output_type": "stream",
     "text": [
      "Decaying lr from 0.00025 to 0.000125 because val_loss did not improved for 3 epochs\n",
      "val_loss is not improved for 3 epochs\n",
      "                  validation\n",
      " - Yaw          :   0.720120\n",
      " - Pitch        :   0.317987\n",
      " - Roll         :   0.353746\n",
      " - RMS          :   0.555330\n",
      " - 99% Tile     :   2.383602\n"
     ]
    },
    {
     "name": "stderr",
     "output_type": "stream",
     "text": [
      "[0042/0200] Train: 100%|███████████████████████████████| 44/44 [00:12<00:00,  3.53it/s, loss 2.1415]\n",
      "[0042/0200] Validation: 100%|██████████████████████| 42/42 [00:04<00:00,  9.24it/s, val_loss 1.6265]\n",
      "[0043/0200] Train:   0%|                                                     | 0/44 [00:00<?, ?it/s]"
     ]
    },
    {
     "name": "stdout",
     "output_type": "stream",
     "text": [
      "val_loss is not improved for 4 epochs\n",
      "                  validation\n",
      " - Yaw          :   1.026186\n",
      " - Pitch        :   0.367543\n",
      " - Roll         :   0.296844\n",
      " - RMS          :   0.706545\n",
      " - 99% Tile     :   2.239845\n"
     ]
    },
    {
     "name": "stderr",
     "output_type": "stream",
     "text": [
      "[0043/0200] Train: 100%|███████████████████████████████| 44/44 [00:11<00:00,  3.80it/s, loss 2.1212]\n",
      "[0043/0200] Validation: 100%|██████████████████████| 42/42 [00:04<00:00, 10.33it/s, val_loss 1.6982]\n",
      "[0044/0200] Train:   0%|                                                     | 0/44 [00:00<?, ?it/s]"
     ]
    },
    {
     "name": "stdout",
     "output_type": "stream",
     "text": [
      "val_loss is not improved for 5 epochs\n",
      "                  validation\n",
      " - Yaw          :   0.865851\n",
      " - Pitch        :   0.354086\n",
      " - Roll         :   0.265964\n",
      " - RMS          :   0.611502\n",
      " - 99% Tile     :   3.458481\n"
     ]
    },
    {
     "name": "stderr",
     "output_type": "stream",
     "text": [
      "[0044/0200] Train: 100%|███████████████████████████████| 44/44 [00:12<00:00,  3.63it/s, loss 2.1450]\n",
      "[0044/0200] Validation: 100%|██████████████████████| 42/42 [00:04<00:00,  9.34it/s, val_loss 1.3850]\n",
      "[0045/0200] Train:   0%|                                                     | 0/44 [00:00<?, ?it/s]"
     ]
    },
    {
     "name": "stdout",
     "output_type": "stream",
     "text": [
      "Save checkpoint: val_loss decreased from 1.4074528359231497 to 1.385008494768824\n",
      "                  validation\n",
      " - Yaw          :   0.547840\n",
      " - Pitch        :   0.314895\n",
      " - Roll         :   0.226260\n",
      " - RMS          :   0.440074\n",
      " - 99% Tile     :   2.547893\n"
     ]
    },
    {
     "name": "stderr",
     "output_type": "stream",
     "text": [
      "[0045/0200] Train: 100%|███████████████████████████████| 44/44 [00:12<00:00,  3.43it/s, loss 2.1460]\n",
      "[0045/0200] Validation: 100%|██████████████████████| 42/42 [00:03<00:00, 12.44it/s, val_loss 1.4496]\n",
      "[0046/0200] Train:   0%|                                                     | 0/44 [00:00<?, ?it/s]"
     ]
    },
    {
     "name": "stdout",
     "output_type": "stream",
     "text": [
      "val_loss is not improved for 1 epochs\n",
      "                  validation\n",
      " - Yaw          :   0.729856\n",
      " - Pitch        :   0.332981\n",
      " - Roll         :   0.230835\n",
      " - RMS          :   0.532733\n",
      " - 99% Tile     :   2.392360\n"
     ]
    },
    {
     "name": "stderr",
     "output_type": "stream",
     "text": [
      "[0046/0200] Train: 100%|███████████████████████████████| 44/44 [00:12<00:00,  3.55it/s, loss 2.1747]\n",
      "[0046/0200] Validation: 100%|██████████████████████| 42/42 [00:04<00:00,  9.22it/s, val_loss 1.4068]\n",
      "[0047/0200] Train:   0%|                                                     | 0/44 [00:00<?, ?it/s]"
     ]
    },
    {
     "name": "stdout",
     "output_type": "stream",
     "text": [
      "val_loss is not improved for 2 epochs\n",
      "                  validation\n",
      " - Yaw          :   0.600220\n",
      " - Pitch        :   0.341698\n",
      " - Roll         :   0.255517\n",
      " - RMS          :   0.476850\n",
      " - 99% Tile     :   2.585864\n"
     ]
    },
    {
     "name": "stderr",
     "output_type": "stream",
     "text": [
      "[0047/0200] Train: 100%|███████████████████████████████| 44/44 [00:12<00:00,  3.51it/s, loss 1.9179]\n",
      "[0047/0200] Validation: 100%|██████████████████████| 42/42 [00:05<00:00,  8.07it/s, val_loss 1.7283]\n",
      "[0048/0200] Train:   0%|                                                     | 0/44 [00:00<?, ?it/s]"
     ]
    },
    {
     "name": "stdout",
     "output_type": "stream",
     "text": [
      "Decaying lr from 0.000125 to 6.25e-05 because val_loss did not improved for 3 epochs\n",
      "val_loss is not improved for 3 epochs\n",
      "                  validation\n",
      " - Yaw          :   1.099831\n",
      " - Pitch        :   0.317891\n",
      " - Roll         :   0.269191\n",
      " - RMS          :   0.723259\n",
      " - 99% Tile     :   2.808633\n"
     ]
    },
    {
     "name": "stderr",
     "output_type": "stream",
     "text": [
      "[0048/0200] Train: 100%|███████████████████████████████| 44/44 [00:12<00:00,  3.60it/s, loss 2.0335]\n",
      "[0048/0200] Validation: 100%|██████████████████████| 42/42 [00:04<00:00,  9.61it/s, val_loss 1.3141]\n",
      "[0049/0200] Train:   0%|                                                     | 0/44 [00:00<?, ?it/s]"
     ]
    },
    {
     "name": "stdout",
     "output_type": "stream",
     "text": [
      "Save checkpoint: val_loss decreased from 1.385008494768824 to 1.3141039826330683\n",
      "                  validation\n",
      " - Yaw          :   0.486076\n",
      " - Pitch        :   0.334595\n",
      " - Roll         :   0.228501\n",
      " - RMS          :   0.419245\n",
      " - 99% Tile     :   2.294684\n"
     ]
    },
    {
     "name": "stderr",
     "output_type": "stream",
     "text": [
      "[0049/0200] Train: 100%|███████████████████████████████| 44/44 [00:09<00:00,  4.41it/s, loss 1.9614]\n",
      "[0049/0200] Validation: 100%|██████████████████████| 42/42 [00:02<00:00, 15.40it/s, val_loss 1.3436]\n",
      "[0050/0200] Train:   0%|                                                     | 0/44 [00:00<?, ?it/s]"
     ]
    },
    {
     "name": "stdout",
     "output_type": "stream",
     "text": [
      "val_loss is not improved for 1 epochs\n",
      "                  validation\n",
      " - Yaw          :   0.545579\n",
      " - Pitch        :   0.355889\n",
      " - Roll         :   0.237023\n",
      " - RMS          :   0.460088\n",
      " - 99% Tile     :   2.260257\n"
     ]
    },
    {
     "name": "stderr",
     "output_type": "stream",
     "text": [
      "[0050/0200] Train: 100%|███████████████████████████████| 44/44 [00:08<00:00,  4.94it/s, loss 1.9442]\n",
      "[0050/0200] Validation: 100%|██████████████████████| 42/42 [00:02<00:00, 15.80it/s, val_loss 1.3048]\n",
      "[0051/0200] Train:   0%|                                                     | 0/44 [00:00<?, ?it/s]"
     ]
    },
    {
     "name": "stdout",
     "output_type": "stream",
     "text": [
      "Save checkpoint: val_loss decreased from 1.3141039826330683 to 1.3047754913568497\n",
      "                  validation\n",
      " - Yaw          :   0.499128\n",
      " - Pitch        :   0.390680\n",
      " - Roll         :   0.233115\n",
      " - RMS          :   0.444411\n",
      " - 99% Tile     :   2.223239\n"
     ]
    },
    {
     "name": "stderr",
     "output_type": "stream",
     "text": [
      "[0051/0200] Train: 100%|███████████████████████████████| 44/44 [00:08<00:00,  5.10it/s, loss 1.9306]\n",
      "[0051/0200] Validation: 100%|██████████████████████| 42/42 [00:02<00:00, 15.93it/s, val_loss 1.3004]\n",
      "[0052/0200] Train:   0%|                                                     | 0/44 [00:00<?, ?it/s]"
     ]
    },
    {
     "name": "stdout",
     "output_type": "stream",
     "text": [
      "Save checkpoint: val_loss decreased from 1.3047754913568497 to 1.3004340621687112\n",
      "                  validation\n",
      " - Yaw          :   0.524091\n",
      " - Pitch        :   0.316552\n",
      " - Roll         :   0.241655\n",
      " - RMS          :   0.431967\n",
      " - 99% Tile     :   2.279879\n"
     ]
    },
    {
     "name": "stderr",
     "output_type": "stream",
     "text": [
      "[0052/0200] Train: 100%|███████████████████████████████| 44/44 [00:08<00:00,  5.45it/s, loss 1.9527]\n",
      "[0052/0200] Validation: 100%|██████████████████████| 42/42 [00:02<00:00, 15.84it/s, val_loss 1.2958]\n",
      "[0053/0200] Train:   0%|                                                     | 0/44 [00:00<?, ?it/s]"
     ]
    },
    {
     "name": "stdout",
     "output_type": "stream",
     "text": [
      "Save checkpoint: val_loss decreased from 1.3004340621687112 to 1.2957542616696585\n",
      "                  validation\n",
      " - Yaw          :   0.417540\n",
      " - Pitch        :   0.392693\n",
      " - Roll         :   0.244216\n",
      " - RMS          :   0.417183\n",
      " - 99% Tile     :   2.258023\n"
     ]
    },
    {
     "name": "stderr",
     "output_type": "stream",
     "text": [
      "[0053/0200] Train: 100%|███████████████████████████████| 44/44 [00:08<00:00,  5.48it/s, loss 1.7882]\n",
      "[0053/0200] Validation: 100%|██████████████████████| 42/42 [00:02<00:00, 15.37it/s, val_loss 1.2413]\n",
      "[0054/0200] Train:   0%|                                                     | 0/44 [00:00<?, ?it/s]"
     ]
    },
    {
     "name": "stdout",
     "output_type": "stream",
     "text": [
      "Save checkpoint: val_loss decreased from 1.2957542616696585 to 1.2412514393883092\n",
      "                  validation\n",
      " - Yaw          :   0.420656\n",
      " - Pitch        :   0.379056\n",
      " - Roll         :   0.226587\n",
      " - RMS          :   0.405329\n",
      " - 99% Tile     :   2.174832\n"
     ]
    },
    {
     "name": "stderr",
     "output_type": "stream",
     "text": [
      "[0054/0200] Train: 100%|███████████████████████████████| 44/44 [00:07<00:00,  5.56it/s, loss 1.9847]\n",
      "[0054/0200] Validation: 100%|██████████████████████| 42/42 [00:02<00:00, 15.70it/s, val_loss 1.2494]\n",
      "[0055/0200] Train:   0%|                                                     | 0/44 [00:00<?, ?it/s]"
     ]
    },
    {
     "name": "stdout",
     "output_type": "stream",
     "text": [
      "val_loss is not improved for 1 epochs\n",
      "                  validation\n",
      " - Yaw          :   0.465532\n",
      " - Pitch        :   0.316713\n",
      " - Roll         :   0.224226\n",
      " - RMS          :   0.400670\n",
      " - 99% Tile     :   2.203085\n"
     ]
    },
    {
     "name": "stderr",
     "output_type": "stream",
     "text": [
      "[0055/0200] Train: 100%|███████████████████████████████| 44/44 [00:08<00:00,  5.37it/s, loss 1.8443]\n",
      "[0055/0200] Validation: 100%|██████████████████████| 42/42 [00:03<00:00, 13.20it/s, val_loss 1.2702]\n",
      "[0056/0200] Train:   0%|                                                     | 0/44 [00:00<?, ?it/s]"
     ]
    },
    {
     "name": "stdout",
     "output_type": "stream",
     "text": [
      "val_loss is not improved for 2 epochs\n",
      "                  validation\n",
      " - Yaw          :   0.426305\n",
      " - Pitch        :   0.404350\n",
      " - Roll         :   0.237691\n",
      " - RMS          :   0.419897\n",
      " - 99% Tile     :   2.189760\n"
     ]
    },
    {
     "name": "stderr",
     "output_type": "stream",
     "text": [
      "[0056/0200] Train: 100%|███████████████████████████████| 44/44 [00:08<00:00,  5.19it/s, loss 1.8491]\n",
      "[0056/0200] Validation: 100%|██████████████████████| 42/42 [00:03<00:00, 13.64it/s, val_loss 1.2459]\n",
      "[0057/0200] Train:   0%|                                                     | 0/44 [00:00<?, ?it/s]"
     ]
    },
    {
     "name": "stdout",
     "output_type": "stream",
     "text": [
      "Decaying lr from 6.25e-05 to 3.125e-05 because val_loss did not improved for 3 epochs\n",
      "val_loss is not improved for 3 epochs\n",
      "                  validation\n",
      " - Yaw          :   0.480453\n",
      " - Pitch        :   0.294000\n",
      " - Roll         :   0.234778\n",
      " - RMS          :   0.403347\n",
      " - 99% Tile     :   2.175649\n"
     ]
    },
    {
     "name": "stderr",
     "output_type": "stream",
     "text": [
      "[0057/0200] Train: 100%|███████████████████████████████| 44/44 [00:08<00:00,  5.02it/s, loss 1.9366]\n",
      "[0057/0200] Validation: 100%|██████████████████████| 42/42 [00:02<00:00, 14.57it/s, val_loss 1.3247]\n",
      "[0058/0200] Train:   0%|                                                     | 0/44 [00:00<?, ?it/s]"
     ]
    },
    {
     "name": "stdout",
     "output_type": "stream",
     "text": [
      "val_loss is not improved for 4 epochs\n",
      "                  validation\n",
      " - Yaw          :   0.504328\n",
      " - Pitch        :   0.361925\n",
      " - Roll         :   0.210805\n",
      " - RMS          :   0.430134\n",
      " - 99% Tile     :   2.534438\n"
     ]
    },
    {
     "name": "stderr",
     "output_type": "stream",
     "text": [
      "[0058/0200] Train: 100%|███████████████████████████████| 44/44 [00:09<00:00,  4.66it/s, loss 1.8715]\n",
      "[0058/0200] Validation: 100%|██████████████████████| 42/42 [00:03<00:00, 12.46it/s, val_loss 1.2186]\n",
      "[0059/0200] Train:   0%|                                                     | 0/44 [00:00<?, ?it/s]"
     ]
    },
    {
     "name": "stdout",
     "output_type": "stream",
     "text": [
      "Save checkpoint: val_loss decreased from 1.2412514393883092 to 1.2185839865179289\n",
      "                  validation\n",
      " - Yaw          :   0.408167\n",
      " - Pitch        :   0.362973\n",
      " - Roll         :   0.233727\n",
      " - RMS          :   0.394906\n",
      " - 99% Tile     :   2.080809\n"
     ]
    },
    {
     "name": "stderr",
     "output_type": "stream",
     "text": [
      "[0059/0200] Train: 100%|███████████████████████████████| 44/44 [00:09<00:00,  4.56it/s, loss 1.8121]\n",
      "[0059/0200] Validation: 100%|██████████████████████| 42/42 [00:02<00:00, 14.39it/s, val_loss 1.2230]\n",
      "[0060/0200] Train:   0%|                                                     | 0/44 [00:00<?, ?it/s]"
     ]
    },
    {
     "name": "stdout",
     "output_type": "stream",
     "text": [
      "val_loss is not improved for 1 epochs\n",
      "                  validation\n",
      " - Yaw          :   0.420593\n",
      " - Pitch        :   0.306958\n",
      " - Roll         :   0.212467\n",
      " - RMS          :   0.371185\n",
      " - 99% Tile     :   2.178069\n"
     ]
    },
    {
     "name": "stderr",
     "output_type": "stream",
     "text": [
      "[0060/0200] Train: 100%|███████████████████████████████| 44/44 [00:08<00:00,  5.05it/s, loss 2.0278]\n",
      "[0060/0200] Validation: 100%|██████████████████████| 42/42 [00:02<00:00, 15.63it/s, val_loss 1.2212]\n",
      "[0061/0200] Train:   0%|                                                     | 0/44 [00:00<?, ?it/s]"
     ]
    },
    {
     "name": "stdout",
     "output_type": "stream",
     "text": [
      "val_loss is not improved for 2 epochs\n",
      "                  validation\n",
      " - Yaw          :   0.431359\n",
      " - Pitch        :   0.329296\n",
      " - Roll         :   0.210116\n",
      " - RMS          :   0.386737\n",
      " - 99% Tile     :   2.136028\n"
     ]
    },
    {
     "name": "stderr",
     "output_type": "stream",
     "text": [
      "[0061/0200] Train: 100%|███████████████████████████████| 44/44 [00:09<00:00,  4.87it/s, loss 2.1160]\n",
      "[0061/0200] Validation: 100%|██████████████████████| 42/42 [00:02<00:00, 15.52it/s, val_loss 1.2086]\n",
      "[0062/0200] Train:   0%|                                                     | 0/44 [00:00<?, ?it/s]"
     ]
    },
    {
     "name": "stdout",
     "output_type": "stream",
     "text": [
      "Save checkpoint: val_loss decreased from 1.2185839865179289 to 1.2086137224520956\n",
      "                  validation\n",
      " - Yaw          :   0.482318\n",
      " - Pitch        :   0.299528\n",
      " - Roll         :   0.228361\n",
      " - RMS          :   0.403414\n",
      " - 99% Tile     :   2.037294\n"
     ]
    },
    {
     "name": "stderr",
     "output_type": "stream",
     "text": [
      "[0062/0200] Train: 100%|███████████████████████████████| 44/44 [00:08<00:00,  5.15it/s, loss 1.8639]\n",
      "[0062/0200] Validation: 100%|██████████████████████| 42/42 [00:02<00:00, 15.20it/s, val_loss 1.1639]\n",
      "[0063/0200] Train:   0%|                                                     | 0/44 [00:00<?, ?it/s]"
     ]
    },
    {
     "name": "stdout",
     "output_type": "stream",
     "text": [
      "Save checkpoint: val_loss decreased from 1.2086137224520956 to 1.1639464593359403\n",
      "                  validation\n",
      " - Yaw          :   0.406461\n",
      " - Pitch        :   0.302994\n",
      " - Roll         :   0.217551\n",
      " - RMS          :   0.367491\n",
      " - 99% Tile     :   1.962331\n"
     ]
    },
    {
     "name": "stderr",
     "output_type": "stream",
     "text": [
      "[0063/0200] Train: 100%|███████████████████████████████| 44/44 [00:07<00:00,  5.58it/s, loss 1.9469]\n",
      "[0063/0200] Validation: 100%|██████████████████████| 42/42 [00:02<00:00, 15.17it/s, val_loss 1.2055]\n",
      "[0064/0200] Train:   0%|                                                     | 0/44 [00:00<?, ?it/s]"
     ]
    },
    {
     "name": "stdout",
     "output_type": "stream",
     "text": [
      "val_loss is not improved for 1 epochs\n",
      "                  validation\n",
      " - Yaw          :   0.489078\n",
      " - Pitch        :   0.320859\n",
      " - Roll         :   0.220958\n",
      " - RMS          :   0.415333\n",
      " - 99% Tile     :   1.977295\n"
     ]
    },
    {
     "name": "stderr",
     "output_type": "stream",
     "text": [
      "[0064/0200] Train: 100%|███████████████████████████████| 44/44 [00:08<00:00,  5.37it/s, loss 1.7062]\n",
      "[0064/0200] Validation: 100%|██████████████████████| 42/42 [00:02<00:00, 15.12it/s, val_loss 1.1747]\n",
      "[0065/0200] Train:   0%|                                                     | 0/44 [00:00<?, ?it/s]"
     ]
    },
    {
     "name": "stdout",
     "output_type": "stream",
     "text": [
      "val_loss is not improved for 2 epochs\n",
      "                  validation\n",
      " - Yaw          :   0.404603\n",
      " - Pitch        :   0.293529\n",
      " - Roll         :   0.208368\n",
      " - RMS          :   0.361009\n",
      " - 99% Tile     :   2.044297\n"
     ]
    },
    {
     "name": "stderr",
     "output_type": "stream",
     "text": [
      "[0065/0200] Train: 100%|███████████████████████████████| 44/44 [00:07<00:00,  5.58it/s, loss 1.8670]\n",
      "[0065/0200] Validation: 100%|██████████████████████| 42/42 [00:02<00:00, 15.19it/s, val_loss 1.2614]\n",
      "[0066/0200] Train:   0%|                                                     | 0/44 [00:00<?, ?it/s]"
     ]
    },
    {
     "name": "stdout",
     "output_type": "stream",
     "text": [
      "Decaying lr from 3.125e-05 to 1.5625e-05 because val_loss did not improved for 3 epochs\n",
      "val_loss is not improved for 3 epochs\n",
      "                  validation\n",
      " - Yaw          :   0.483511\n",
      " - Pitch        :   0.372867\n",
      " - Roll         :   0.213500\n",
      " - RMS          :   0.426376\n",
      " - 99% Tile     :   2.210237\n"
     ]
    },
    {
     "name": "stderr",
     "output_type": "stream",
     "text": [
      "[0066/0200] Train: 100%|███████████████████████████████| 44/44 [00:08<00:00,  5.22it/s, loss 2.0019]\n",
      "[0066/0200] Validation: 100%|██████████████████████| 42/42 [00:03<00:00, 11.91it/s, val_loss 1.2213]\n",
      "[0067/0200] Train:   0%|                                                     | 0/44 [00:00<?, ?it/s]"
     ]
    },
    {
     "name": "stdout",
     "output_type": "stream",
     "text": [
      "val_loss is not improved for 4 epochs\n",
      "                  validation\n",
      " - Yaw          :   0.446006\n",
      " - Pitch        :   0.339826\n",
      " - Roll         :   0.207345\n",
      " - RMS          :   0.393784\n",
      " - 99% Tile     :   2.120224\n"
     ]
    },
    {
     "name": "stderr",
     "output_type": "stream",
     "text": [
      "[0067/0200] Train: 100%|███████████████████████████████| 44/44 [00:08<00:00,  5.16it/s, loss 1.7981]\n",
      "[0067/0200] Validation: 100%|██████████████████████| 42/42 [00:03<00:00, 13.55it/s, val_loss 1.2158]\n",
      "[0068/0200] Train:   0%|                                                     | 0/44 [00:00<?, ?it/s]"
     ]
    },
    {
     "name": "stdout",
     "output_type": "stream",
     "text": [
      "val_loss is not improved for 5 epochs\n",
      "                  validation\n",
      " - Yaw          :   0.415393\n",
      " - Pitch        :   0.344363\n",
      " - Roll         :   0.214648\n",
      " - RMS          :   0.382603\n",
      " - 99% Tile     :   2.160973\n"
     ]
    },
    {
     "name": "stderr",
     "output_type": "stream",
     "text": [
      "[0068/0200] Train: 100%|███████████████████████████████| 44/44 [00:08<00:00,  5.03it/s, loss 1.9769]\n",
      "[0068/0200] Validation: 100%|██████████████████████| 42/42 [00:02<00:00, 14.73it/s, val_loss 1.1682]\n",
      "[0069/0200] Train:   0%|                                                     | 0/44 [00:00<?, ?it/s]"
     ]
    },
    {
     "name": "stdout",
     "output_type": "stream",
     "text": [
      "Decaying lr from 1.5625e-05 to 7.8125e-06 because val_loss did not improved for 3 epochs\n",
      "val_loss is not improved for 6 epochs\n",
      "                  validation\n",
      " - Yaw          :   0.429744\n",
      " - Pitch        :   0.286699\n",
      " - Roll         :   0.217044\n",
      " - RMS          :   0.369678\n",
      " - 99% Tile     :   1.914505\n"
     ]
    },
    {
     "name": "stderr",
     "output_type": "stream",
     "text": [
      "[0069/0200] Train: 100%|███████████████████████████████| 44/44 [00:09<00:00,  4.61it/s, loss 1.9435]\n",
      "[0069/0200] Validation: 100%|██████████████████████| 42/42 [00:03<00:00, 12.70it/s, val_loss 1.2936]\n",
      "[0070/0200] Train:   0%|                                                     | 0/44 [00:00<?, ?it/s]"
     ]
    },
    {
     "name": "stdout",
     "output_type": "stream",
     "text": [
      "val_loss is not improved for 7 epochs\n",
      "                  validation\n",
      " - Yaw          :   0.588540\n",
      " - Pitch        :   0.308226\n",
      " - Roll         :   0.215597\n",
      " - RMS          :   0.452769\n",
      " - 99% Tile     :   2.235542\n"
     ]
    },
    {
     "name": "stderr",
     "output_type": "stream",
     "text": [
      "[0070/0200] Train: 100%|███████████████████████████████| 44/44 [00:09<00:00,  4.72it/s, loss 1.8454]\n",
      "[0070/0200] Validation: 100%|██████████████████████| 42/42 [00:02<00:00, 14.37it/s, val_loss 1.2171]\n",
      "[0071/0200] Train:   0%|                                                     | 0/44 [00:00<?, ?it/s]"
     ]
    },
    {
     "name": "stdout",
     "output_type": "stream",
     "text": [
      "val_loss is not improved for 8 epochs\n",
      "                  validation\n",
      " - Yaw          :   0.420649\n",
      " - Pitch        :   0.346869\n",
      " - Roll         :   0.210986\n",
      " - RMS          :   0.386805\n",
      " - 99% Tile     :   2.053155\n"
     ]
    },
    {
     "name": "stderr",
     "output_type": "stream",
     "text": [
      "[0071/0200] Train: 100%|███████████████████████████████| 44/44 [00:08<00:00,  5.03it/s, loss 1.8926]\n",
      "[0071/0200] Validation: 100%|██████████████████████| 42/42 [00:02<00:00, 15.76it/s, val_loss 1.2500]\n",
      "[0072/0200] Train:   0%|                                                     | 0/44 [00:00<?, ?it/s]"
     ]
    },
    {
     "name": "stdout",
     "output_type": "stream",
     "text": [
      "Decaying lr from 7.8125e-06 to 3.90625e-06 because val_loss did not improved for 3 epochs\n",
      "val_loss is not improved for 9 epochs\n",
      "                  validation\n",
      " - Yaw          :   0.485567\n",
      " - Pitch        :   0.314102\n",
      " - Roll         :   0.210002\n",
      " - RMS          :   0.405300\n",
      " - 99% Tile     :   2.252704\n"
     ]
    },
    {
     "name": "stderr",
     "output_type": "stream",
     "text": [
      "[0072/0200] Train: 100%|███████████████████████████████| 44/44 [00:09<00:00,  4.75it/s, loss 1.7236]\n",
      "[0072/0200] Validation: 100%|██████████████████████| 42/42 [00:02<00:00, 14.84it/s, val_loss 1.2326]"
     ]
    },
    {
     "name": "stdout",
     "output_type": "stream",
     "text": [
      "val_loss is not improved for 10 epochs\n",
      "Stop training because val_loss did not improved for 10 epochs\n",
      "                  validation\n",
      " - Yaw          :   0.440863\n",
      " - Pitch        :   0.356851\n",
      " - Roll         :   0.216480\n",
      " - RMS          :   0.400308\n",
      " - 99% Tile     :   2.159103\n"
     ]
    },
    {
     "name": "stderr",
     "output_type": "stream",
     "text": [
      "\n"
     ]
    }
   ],
   "source": [
    "trainer.fit(ds_train, ds_test, num_epochs=200, batch_size=256, shuffle=True, pin_memory=True)"
   ]
  },
  {
   "cell_type": "code",
   "execution_count": null,
   "metadata": {},
   "outputs": [],
   "source": []
  }
 ],
 "metadata": {
  "kernelspec": {
   "display_name": "torch",
   "language": "python",
   "name": "torch"
  },
  "language_info": {
   "codemirror_mode": {
    "name": "ipython",
    "version": 3
   },
   "file_extension": ".py",
   "mimetype": "text/x-python",
   "name": "python",
   "nbconvert_exporter": "python",
   "pygments_lexer": "ipython3",
   "version": "3.7.9"
  }
 },
 "nbformat": 4,
 "nbformat_minor": 4
}
