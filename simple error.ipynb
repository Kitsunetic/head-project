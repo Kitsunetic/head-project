{
 "cells": [
  {
   "cell_type": "code",
   "execution_count": 1,
   "metadata": {},
   "outputs": [],
   "source": [
    "import numpy as np\n",
    "import pandas as pd\n",
    "import imageio\n",
    "import h5py\n",
    "import pickle\n",
    "\n",
    "from tqdm import tqdm\n",
    "from xqdm import xqdm\n",
    "from pathlib import Path\n",
    "import matplotlib.pyplot as plt\n",
    "import re"
   ]
  },
  {
   "cell_type": "code",
   "execution_count": 4,
   "metadata": {},
   "outputs": [],
   "source": [
    "with open('data/interpolation_xy.pkl', 'rb') as f:\n",
    "    data = pickle.load(f)\n",
    "    # data[\"dataset no\"][\"x=0 or y=1\"][\"column\"][\"index\"]"
   ]
  },
  {
   "cell_type": "code",
   "execution_count": 38,
   "metadata": {},
   "outputs": [],
   "source": [
    "cols = ('input_orientation_yaw', 'input_orientation_pitch', 'input_orientation_roll')\n",
    "X, Y = np.array(data[0][0][cols[0]]), np.array(data[0][1][cols[0]])"
   ]
  },
  {
   "cell_type": "code",
   "execution_count": 69,
   "metadata": {},
   "outputs": [
    {
     "data": {
      "text/plain": [
       "Text(0.5, 1.0, 'target data Y')"
      ]
     },
     "execution_count": 69,
     "metadata": {},
     "output_type": "execute_result"
    },
    {
     "data": {
      "image/png": "[encoded data removed]",
      "text/plain": [
       "<Figure size 432x288 with 1 Axes>"
      ]
     },
     "metadata": {
      "needs_background": "light"
     },
     "output_type": "display_data"
    }
   ],
   "source": [
    "plt.plot(Y)\n",
    "plt.title('target data Y')"
   ]
  },
  {
   "cell_type": "code",
   "execution_count": 72,
   "metadata": {},
   "outputs": [
    {
     "name": "stdout",
     "output_type": "stream",
     "text": [
      "\n",
      "========================== data 00 ==========================\n",
      "input_orientation_yaw rms 99% error\t: 0.007028780470886841\n",
      "input_orientation_pitch rms 99% error\t: 0.008435467880036443\n",
      "input_orientation_roll rms 99% error\t: 0.0006322361386101084\n",
      "\n",
      "========================== data 01 ==========================\n",
      "input_orientation_yaw rms 99% error\t: 0.04979150130894096\n",
      "input_orientation_pitch rms 99% error\t: 0.00535347783321851\n",
      "input_orientation_roll rms 99% error\t: 0.001544200880967181\n",
      "\n",
      "========================== data 02 ==========================\n",
      "input_orientation_yaw rms 99% error\t: 0.05490465341738711\n",
      "input_orientation_pitch rms 99% error\t: 0.003051095884247426\n",
      "input_orientation_roll rms 99% error\t: 0.000912684426120482\n",
      "\n",
      "========================== data 03 ==========================\n",
      "input_orientation_yaw rms 99% error\t: 0.4638981100839229\n",
      "input_orientation_pitch rms 99% error\t: 0.08559601783782489\n",
      "input_orientation_roll rms 99% error\t: 0.021130658443992808\n",
      "\n",
      "========================== data 04 ==========================\n",
      "input_orientation_yaw rms 99% error\t: 0.19406195613556793\n",
      "input_orientation_pitch rms 99% error\t: 0.09740026417652439\n",
      "input_orientation_roll rms 99% error\t: 0.009789028452171247\n",
      "\n",
      "========================== data 05 ==========================\n",
      "input_orientation_yaw rms 99% error\t: 0.4717888809334355\n",
      "input_orientation_pitch rms 99% error\t: 0.06415974724029584\n",
      "input_orientation_roll rms 99% error\t: 0.018526893207544873\n",
      "\n",
      "========================== data 06 ==========================\n",
      "input_orientation_yaw rms 99% error\t: 0.056630424596308286\n",
      "input_orientation_pitch rms 99% error\t: 0.008977450994966751\n",
      "input_orientation_roll rms 99% error\t: 0.006247259921805202\n",
      "\n",
      "========================== data 07 ==========================\n",
      "input_orientation_yaw rms 99% error\t: 0.12028885260366086\n",
      "input_orientation_pitch rms 99% error\t: 0.05584407593809006\n",
      "input_orientation_roll rms 99% error\t: 0.0047263806856255594\n",
      "\n",
      "========================== data 08 ==========================\n",
      "input_orientation_yaw rms 99% error\t: 0.13526603488580013\n",
      "input_orientation_pitch rms 99% error\t: 0.006513296890504584\n",
      "input_orientation_roll rms 99% error\t: 0.001755170919540281\n",
      "\n",
      "========================== data 09 ==========================\n",
      "input_orientation_yaw rms 99% error\t: 0.05746329219812889\n",
      "input_orientation_pitch rms 99% error\t: 0.07351809211595242\n",
      "input_orientation_roll rms 99% error\t: 0.0037517938710465762\n",
      "\n",
      "========================== data 10 ==========================\n",
      "input_orientation_yaw rms 99% error\t: 0.1405004276326124\n",
      "input_orientation_pitch rms 99% error\t: 0.0850080023932149\n",
      "input_orientation_roll rms 99% error\t: 0.01679825952769164\n",
      "\n",
      "========================== data 11 ==========================\n",
      "input_orientation_yaw rms 99% error\t: 0.15289274915109347\n",
      "input_orientation_pitch rms 99% error\t: 0.01487366260143998\n",
      "input_orientation_roll rms 99% error\t: 0.0033910414931230906\n",
      "\n",
      "========================== data 12 ==========================\n",
      "input_orientation_yaw rms 99% error\t: 0.060223377599718964\n",
      "input_orientation_pitch rms 99% error\t: 0.01784736960546153\n",
      "input_orientation_roll rms 99% error\t: 0.004774231755312986\n",
      "\n",
      "========================== data 13 ==========================\n",
      "input_orientation_yaw rms 99% error\t: 0.10667824842174353\n",
      "input_orientation_pitch rms 99% error\t: 0.027468361973079933\n",
      "input_orientation_roll rms 99% error\t: 0.002258291229617795\n",
      "\n",
      "========================== data 14 ==========================\n",
      "input_orientation_yaw rms 99% error\t: 0.18199056352259416\n",
      "input_orientation_pitch rms 99% error\t: 0.040955763613540884\n",
      "input_orientation_roll rms 99% error\t: 0.00466167431286146\n",
      "\n",
      "========================== data 15 ==========================\n",
      "input_orientation_yaw rms 99% error\t: 0.08281791732248392\n",
      "input_orientation_pitch rms 99% error\t: 0.056179631964594204\n",
      "input_orientation_roll rms 99% error\t: 0.02227414652925904\n",
      "\n",
      "========================== data 16 ==========================\n",
      "input_orientation_yaw rms 99% error\t: 0.16732871060989438\n",
      "input_orientation_pitch rms 99% error\t: 0.11634845246772711\n",
      "input_orientation_roll rms 99% error\t: 0.03357933287468751\n",
      "\n",
      "========================== data 17 ==========================\n",
      "input_orientation_yaw rms 99% error\t: 0.29754943202758444\n",
      "input_orientation_pitch rms 99% error\t: 0.045430599220118134\n",
      "input_orientation_roll rms 99% error\t: 0.009456924094955075\n",
      "\n",
      "========================== data 18 ==========================\n",
      "input_orientation_yaw rms 99% error\t: 0.36103022664981976\n",
      "input_orientation_pitch rms 99% error\t: 0.04661662063449114\n",
      "input_orientation_roll rms 99% error\t: 0.008449238213378436\n",
      "\n",
      "========================== data 19 ==========================\n",
      "input_orientation_yaw rms 99% error\t: 0.2620958048306258\n",
      "input_orientation_pitch rms 99% error\t: 0.052003757854801644\n",
      "input_orientation_roll rms 99% error\t: 0.014152085997023778\n",
      "\n",
      "========================== data 20 ==========================\n",
      "input_orientation_yaw rms 99% error\t: 0.34594896616682247\n",
      "input_orientation_pitch rms 99% error\t: 0.043255613151774966\n",
      "input_orientation_roll rms 99% error\t: 0.009741715272879658\n",
      "\n",
      "========================== data 21 ==========================\n",
      "input_orientation_yaw rms 99% error\t: 0.2770891765182547\n",
      "input_orientation_pitch rms 99% error\t: 0.05713435119648662\n",
      "input_orientation_roll rms 99% error\t: 0.013856949758256847\n"
     ]
    }
   ],
   "source": [
    "errors = [[], [], []]\n",
    "\n",
    "for i in range(len(data)):\n",
    "    print(f'\\n========================== data {i:02d} ==========================')\n",
    "    for j, c in enumerate(cols):\n",
    "        X, Y = np.array(data[i][0][c]), np.array(data[i][1][c])\n",
    "        X = X[:-12]\n",
    "        Y = Y[12:]\n",
    "        diff_square = np.square(Y - X)\n",
    "        error = np.percentile(diff_square, 99)\n",
    "        errors[j].append(error)\n",
    "        print(c, 'rms 99% error\\t:', error)"
   ]
  },
  {
   "cell_type": "code",
   "execution_count": 73,
   "metadata": {},
   "outputs": [
    {
     "data": {
      "text/plain": [
       "(0.18396673123124033, 0.04599868970310874, 0.009655009000294165)"
      ]
     },
     "execution_count": 73,
     "metadata": {},
     "output_type": "execute_result"
    }
   ],
   "source": [
    "np.mean(errors[0]), np.mean(errors[1]), np.mean(errors[2])"
   ]
  },
  {
   "cell_type": "code",
   "execution_count": null,
   "metadata": {},
   "outputs": [],
   "source": []
  }
 ],
 "metadata": {
  "kernelspec": {
   "display_name": "tf",
   "language": "python",
   "name": "tf"
  },
  "language_info": {
   "codemirror_mode": {
    "name": "ipython",
    "version": 3
   },
   "file_extension": ".py",
   "mimetype": "text/x-python",
   "name": "python",
   "nbconvert_exporter": "python",
   "pygments_lexer": "ipython3",
   "version": "3.7.7"
  }
 },
 "nbformat": 4,
 "nbformat_minor": 4
}
