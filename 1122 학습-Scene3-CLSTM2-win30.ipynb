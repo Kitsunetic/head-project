{
 "cells": [
  {
   "cell_type": "markdown",
   "metadata": {},
   "source": [
    "# 학습 결과\n",
    "\n",
    "user1의 scene 1~3만 사용해서 학습\n",
    "\n",
    "scene보다 user가 많기 때문에 데이터의 양이 확연히 줄어듬에도 불구하고 성능이 괜찮음.  \n",
    "적은 데이터 특화됐기 때문인지는 모르겠다.\n",
    "\n",
    "나머지 scene에 대해서도 잘 학습을 하면서 user에 대해서도 특화된다면 성능을 상당히 끌어올릴 수 있을 것으로 기대됨.  \n",
    "--> curriculum learning"
   ]
  },
  {
   "cell_type": "code",
   "execution_count": 1,
   "metadata": {},
   "outputs": [],
   "source": [
    "from multiprocessing import cpu_count\n",
    "from pathlib import Path\n",
    "from typing import List, Union, AnyStr\n",
    "from math import pi\n",
    "import pickle\n",
    "\n",
    "import numpy as np\n",
    "import torch\n",
    "import matplotlib.pyplot as plt\n",
    "import torch.nn as nn\n",
    "from sklearn import model_selection\n",
    "from tqdm import tqdm\n",
    "import torch_optimizer\n",
    "from torch.utils.data import Dataset\n",
    "import pandas as pd\n",
    "import random\n",
    "\n",
    "import torch_burn as tb\n",
    "import utils"
   ]
  },
  {
   "cell_type": "code",
   "execution_count": 2,
   "metadata": {},
   "outputs": [],
   "source": [
    "EXPERIMENT_NAME = '1122-Scene3-CLSTM2-win30'\n",
    "CHECKPOINT_DIR = Path('checkpoint', EXPERIMENT_NAME)\n",
    "CHECKPOINT_DIR.mkdir(parents=True, exist_ok=True)\n",
    "\n",
    "DATA_DIR = Path('data/1116')\n",
    "TRAIN_FILES = sorted(list(DATA_DIR.glob('*scene3_0.csv')))\n",
    "TEST_FILES = sorted(list(DATA_DIR.glob('*scene3_1.csv')))"
   ]
  },
  {
   "cell_type": "markdown",
   "metadata": {},
   "source": [
    "# 데이터셋 생성\n",
    "\n",
    "scene1에 대해서 모든 user의 데이터를 하나로 합친다."
   ]
  },
  {
   "cell_type": "code",
   "execution_count": 3,
   "metadata": {},
   "outputs": [],
   "source": [
    "WINDOW_SIZE = 30"
   ]
  },
  {
   "cell_type": "code",
   "execution_count": 4,
   "metadata": {},
   "outputs": [],
   "source": [
    "class CSVSequentialDataset(Dataset):\n",
    "    def __init__(self, csvfile,\n",
    "                 window_size=300, randomized_window_size=False,\n",
    "                 stride=30, randomized_stride=False):\n",
    "        super(CSVSequentialDataset, self).__init__()\n",
    "\n",
    "        self.xcols = ['input_orientation_yaw', 'input_orientation_pitch', 'input_orientation_roll',\n",
    "                      'acceleration_x', 'acceleration_y', 'acceleration_z']\n",
    "        self.ycols = ['input_orientation_yaw', 'input_orientation_pitch', 'input_orientation_roll']\n",
    "\n",
    "        self.csv = pd.read_csv(csvfile)\n",
    "        self.window_size = window_size\n",
    "\n",
    "        self.indexes = []\n",
    "        i = 0\n",
    "        while i <= len(self.csv) - window_size * 2:\n",
    "            if randomized_window_size:\n",
    "                self.indexes.append((i, i + random.randint(window_size // 2, window_size)))\n",
    "            else:\n",
    "                self.indexes.append((i, i + window_size))\n",
    "\n",
    "            if randomized_stride:\n",
    "                i += random.randint(1, stride)\n",
    "            else:\n",
    "                i += stride\n",
    "\n",
    "    def __len__(self):\n",
    "        return len(self.indexes)\n",
    "\n",
    "    def __getitem__(self, idx):\n",
    "        s, t = self.indexes[idx]\n",
    "        x = self.csv.iloc[s:t][self.xcols].to_numpy()\n",
    "        y = self.csv.iloc[t + 6][self.ycols].to_numpy()\n",
    "\n",
    "        x = torch.tensor(x, dtype=torch.float32) # 300, 6\n",
    "        y = torch.tensor(y, dtype=torch.float32) # 3\n",
    "        \n",
    "        #x[:, :3] *= pi / 180\n",
    "        x[:, 3:] /= 10\n",
    "\n",
    "        return x, y"
   ]
  },
  {
   "cell_type": "code",
   "execution_count": 5,
   "metadata": {},
   "outputs": [],
   "source": [
    "ds_train = [CSVSequentialDataset(f,  \n",
    "                                 window_size=WINDOW_SIZE, randomized_window_size=False,\n",
    "                                 stride=5, randomized_stride=True) for f in TRAIN_FILES]\n",
    "ds_train = tb.data.ChainDataset(*ds_train)\n",
    "ds_test = [CSVSequentialDataset(f,  \n",
    "                                window_size=WINDOW_SIZE, randomized_window_size=False,\n",
    "                                stride=5, randomized_stride=True) for f in TEST_FILES]\n",
    "ds_test = tb.data.ChainDataset(*ds_test)"
   ]
  },
  {
   "cell_type": "code",
   "execution_count": 6,
   "metadata": {},
   "outputs": [
    {
     "data": {
      "text/plain": [
       "(18845, 18239)"
      ]
     },
     "execution_count": 6,
     "metadata": {},
     "output_type": "execute_result"
    }
   ],
   "source": [
    "len(ds_train), len(ds_test)"
   ]
  },
  {
   "cell_type": "code",
   "execution_count": 7,
   "metadata": {},
   "outputs": [
    {
     "data": {
      "text/plain": [
       "(torch.Size([30, 6]), torch.Size([3]))"
      ]
     },
     "execution_count": 7,
     "metadata": {},
     "output_type": "execute_result"
    }
   ],
   "source": [
    "ds_train[0][0].shape, ds_train[0][1].shape"
   ]
  },
  {
   "cell_type": "code",
   "execution_count": 8,
   "metadata": {},
   "outputs": [],
   "source": [
    "x, y = ds_train[0]"
   ]
  },
  {
   "cell_type": "code",
   "execution_count": 9,
   "metadata": {},
   "outputs": [
    {
     "data": {
      "text/plain": [
       "torch.Size([30, 6])"
      ]
     },
     "execution_count": 9,
     "metadata": {},
     "output_type": "execute_result"
    }
   ],
   "source": [
    "x.shape"
   ]
  },
  {
   "cell_type": "code",
   "execution_count": 10,
   "metadata": {},
   "outputs": [
    {
     "data": {
      "text/plain": [
       "[<matplotlib.lines.Line2D at 0x7fa381765f90>]"
      ]
     },
     "execution_count": 10,
     "metadata": {},
     "output_type": "execute_result"
    },
    {
     "data": {
      "image/png": "[encoded data removed]",
      "text/plain": [
       "<Figure size 432x288 with 1 Axes>"
      ]
     },
     "metadata": {
      "needs_background": "light"
     },
     "output_type": "display_data"
    }
   ],
   "source": [
    "plt.plot(x[:, 2])"
   ]
  },
  {
   "cell_type": "markdown",
   "metadata": {},
   "source": [
    "# 모델 생성"
   ]
  },
  {
   "cell_type": "code",
   "execution_count": 11,
   "metadata": {},
   "outputs": [],
   "source": [
    "class CLSTM(nn.Module):\n",
    "    def __init__(self, input_size=6, hidden_size=24, num_layers=8, dropout=0.0, bidirectional=False):\n",
    "        super(CLSTM, self).__init__()\n",
    "\n",
    "        self.conv_in = nn.Sequential(\n",
    "            nn.Conv1d(input_size, 12, 5, padding=2),\n",
    "            nn.BatchNorm1d(12),\n",
    "            nn.LeakyReLU(),\n",
    "            nn.Conv1d(12, 24, 5, padding=2),\n",
    "            nn.BatchNorm1d(24),\n",
    "        )\n",
    "\n",
    "        self.rnn = nn.LSTM(input_size=24,\n",
    "                           hidden_size=hidden_size,\n",
    "                           num_layers=num_layers,\n",
    "                           batch_first=True,\n",
    "                           dropout=dropout,\n",
    "                           bidirectional=bidirectional)\n",
    "\n",
    "        out_channels = 2 * hidden_size if bidirectional else hidden_size\n",
    "        self.fc = nn.Linear(out_channels, 3)\n",
    "\n",
    "    def forward(self, x):\n",
    "        x = x.transpose(1, 2)  # B, 48, 6 --> B, 6, 48\n",
    "        x = self.conv_in(x)  # B, 64, 48\n",
    "        x = x.transpose(1, 2)  # B, 48, 64\n",
    "\n",
    "        outs, (hiddens, cells) = self.rnn(x)\n",
    "        x = outs[:, -1, ...]\n",
    "        x = self.fc(x)\n",
    "\n",
    "        return x"
   ]
  },
  {
   "cell_type": "code",
   "execution_count": 12,
   "metadata": {},
   "outputs": [],
   "source": [
    "model = CLSTM(input_size=6, hidden_size=64, num_layers=8, dropout=0.2, bidirectional=True).cuda()"
   ]
  },
  {
   "cell_type": "code",
   "execution_count": 13,
   "metadata": {},
   "outputs": [],
   "source": [
    "criterion = nn.MSELoss().cuda()\n",
    "optimizer = torch_optimizer.RAdam(model.parameters())"
   ]
  },
  {
   "cell_type": "code",
   "execution_count": 14,
   "metadata": {},
   "outputs": [],
   "source": [
    "metrics = [tb.metrics.ModuleMetric(criterion, 'loss'),\n",
    "           utils.HPMetric('hp_metric'),\n",
    "           utils.HPSignalHistory(CHECKPOINT_DIR / 'sample' / '{epoch:04d}.npy', 'hp_signal')]"
   ]
  },
  {
   "cell_type": "code",
   "execution_count": 15,
   "metadata": {},
   "outputs": [],
   "source": [
    "callbacks = [tb.callbacks.EarlyStopping(metrics[0]),\n",
    "             tb.callbacks.LRDecaying(optimizer, metrics[0])]"
   ]
  },
  {
   "cell_type": "code",
   "execution_count": 16,
   "metadata": {},
   "outputs": [],
   "source": [
    "trainer = tb.Trainer(model, optimizer, metrics, callbacks, ncols=100)"
   ]
  },
  {
   "cell_type": "code",
   "execution_count": 17,
   "metadata": {},
   "outputs": [
    {
     "name": "stderr",
     "output_type": "stream",
     "text": [
      "[0001/0100] Train: 100%|█████████████████████████████| 74/74 [00:03<00:00, 22.05it/s, loss 284.6064]\n",
      "[0001/0100] Validation: 100%|████████████████████| 72/72 [00:02<00:00, 35.40it/s, val_loss 222.2321]\n",
      "[0002/0100] Train:   0%|                                                     | 0/74 [00:00<?, ?it/s]"
     ]
    },
    {
     "name": "stdout",
     "output_type": "stream",
     "text": [
      "                  validation\n",
      " - Yaw          :  19.102291\n",
      " - Pitch        :   9.880894\n",
      " - Roll         :   2.577696\n",
      " - RMS          :  12.505653\n",
      " - 99% Tile     :  43.791102\n",
      "Save output signals into checkpoint/1122-Scene3-CLSTM2-win30/sample/0001.npy\n"
     ]
    },
    {
     "name": "stderr",
     "output_type": "stream",
     "text": [
      "[0002/0100] Train: 100%|█████████████████████████████| 74/74 [00:03<00:00, 22.03it/s, loss 240.0118]\n",
      "[0002/0100] Validation: 100%|████████████████████| 72/72 [00:02<00:00, 35.20it/s, val_loss 169.0832]\n",
      "[0003/0100] Train:   0%|                                                     | 0/74 [00:00<?, ?it/s]"
     ]
    },
    {
     "name": "stdout",
     "output_type": "stream",
     "text": [
      "                  validation\n",
      " - Yaw          :  15.734408\n",
      " - Pitch        :   8.849642\n",
      " - Roll         :   2.508293\n",
      " - RMS          :  10.522663\n",
      " - 99% Tile     :  40.105323\n",
      "Save output signals into checkpoint/1122-Scene3-CLSTM2-win30/sample/0002.npy\n"
     ]
    },
    {
     "name": "stderr",
     "output_type": "stream",
     "text": [
      "[0003/0100] Train: 100%|█████████████████████████████| 74/74 [00:03<00:00, 22.01it/s, loss 179.9855]\n",
      "[0003/0100] Validation: 100%|████████████████████| 72/72 [00:02<00:00, 34.62it/s, val_loss 120.1900]\n",
      "[0004/0100] Train:   0%|                                                     | 0/74 [00:00<?, ?it/s]"
     ]
    },
    {
     "name": "stdout",
     "output_type": "stream",
     "text": [
      "                  validation\n",
      " - Yaw          :  12.203824\n",
      " - Pitch        :   8.192827\n",
      " - Roll         :   2.366776\n",
      " - RMS          :   8.595684\n",
      " - 99% Tile     :  34.428323\n",
      "Save output signals into checkpoint/1122-Scene3-CLSTM2-win30/sample/0003.npy\n"
     ]
    },
    {
     "name": "stderr",
     "output_type": "stream",
     "text": [
      "[0004/0100] Train: 100%|█████████████████████████████| 74/74 [00:03<00:00, 22.16it/s, loss 138.1449]\n",
      "[0004/0100] Validation: 100%|█████████████████████| 72/72 [00:02<00:00, 35.31it/s, val_loss 93.6184]\n",
      "[0005/0100] Train:   0%|                                                     | 0/74 [00:00<?, ?it/s]"
     ]
    },
    {
     "name": "stdout",
     "output_type": "stream",
     "text": [
      "                  validation\n",
      " - Yaw          :  10.046184\n",
      " - Pitch        :   7.710406\n",
      " - Roll         :   2.396411\n",
      " - RMS          :   7.441302\n",
      " - 99% Tile     :  30.729634\n",
      "Save output signals into checkpoint/1122-Scene3-CLSTM2-win30/sample/0004.npy\n"
     ]
    },
    {
     "name": "stderr",
     "output_type": "stream",
     "text": [
      "[0005/0100] Train: 100%|█████████████████████████████| 74/74 [00:03<00:00, 21.62it/s, loss 111.6416]\n",
      "[0005/0100] Validation: 100%|█████████████████████| 72/72 [00:02<00:00, 34.44it/s, val_loss 76.2399]\n",
      "[0006/0100] Train:   0%|                                                     | 0/74 [00:00<?, ?it/s]"
     ]
    },
    {
     "name": "stdout",
     "output_type": "stream",
     "text": [
      "                  validation\n",
      " - Yaw          :   8.621619\n",
      " - Pitch        :   7.213880\n",
      " - Roll         :   2.389162\n",
      " - RMS          :   6.635271\n",
      " - 99% Tile     :  27.541412\n",
      "Save output signals into checkpoint/1122-Scene3-CLSTM2-win30/sample/0005.npy\n"
     ]
    },
    {
     "name": "stderr",
     "output_type": "stream",
     "text": [
      "[0006/0100] Train: 100%|██████████████████████████████| 74/74 [00:03<00:00, 22.65it/s, loss 92.1237]\n",
      "[0006/0100] Validation: 100%|█████████████████████| 72/72 [00:02<00:00, 35.06it/s, val_loss 64.2754]\n",
      "[0007/0100] Train:   0%|                                                     | 0/74 [00:00<?, ?it/s]"
     ]
    },
    {
     "name": "stdout",
     "output_type": "stream",
     "text": [
      "                  validation\n",
      " - Yaw          :   7.371032\n",
      " - Pitch        :   7.104724\n",
      " - Roll         :   2.365617\n",
      " - RMS          :   6.066448\n",
      " - 99% Tile     :  25.507015\n",
      "Save output signals into checkpoint/1122-Scene3-CLSTM2-win30/sample/0006.npy\n"
     ]
    },
    {
     "name": "stderr",
     "output_type": "stream",
     "text": [
      "[0007/0100] Train: 100%|██████████████████████████████| 74/74 [00:03<00:00, 22.19it/s, loss 78.0995]\n",
      "[0007/0100] Validation: 100%|█████████████████████| 72/72 [00:02<00:00, 35.25it/s, val_loss 56.6977]\n",
      "[0008/0100] Train:   0%|                                                     | 0/74 [00:00<?, ?it/s]"
     ]
    },
    {
     "name": "stdout",
     "output_type": "stream",
     "text": [
      "                  validation\n",
      " - Yaw          :   6.159065\n",
      " - Pitch        :   7.325993\n",
      " - Roll         :   2.390533\n",
      " - RMS          :   5.695580\n",
      " - 99% Tile     :  24.068863\n",
      "Save output signals into checkpoint/1122-Scene3-CLSTM2-win30/sample/0007.npy\n"
     ]
    },
    {
     "name": "stderr",
     "output_type": "stream",
     "text": [
      "[0008/0100] Train: 100%|██████████████████████████████| 74/74 [00:03<00:00, 22.05it/s, loss 67.1867]\n",
      "[0008/0100] Validation: 100%|█████████████████████| 72/72 [00:02<00:00, 33.33it/s, val_loss 48.8504]\n",
      "[0009/0100] Train:   0%|                                                     | 0/74 [00:00<?, ?it/s]"
     ]
    },
    {
     "name": "stdout",
     "output_type": "stream",
     "text": [
      "                  validation\n",
      " - Yaw          :   5.294531\n",
      " - Pitch        :   7.118934\n",
      " - Roll         :   2.348203\n",
      " - RMS          :   5.298595\n",
      " - 99% Tile     :  22.125309\n",
      "Save output signals into checkpoint/1122-Scene3-CLSTM2-win30/sample/0008.npy\n"
     ]
    },
    {
     "name": "stderr",
     "output_type": "stream",
     "text": [
      "[0009/0100] Train: 100%|██████████████████████████████| 74/74 [00:03<00:00, 21.69it/s, loss 56.4631]\n",
      "[0009/0100] Validation: 100%|█████████████████████| 72/72 [00:02<00:00, 34.07it/s, val_loss 33.9242]\n",
      "[0010/0100] Train:   0%|                                                     | 0/74 [00:00<?, ?it/s]"
     ]
    },
    {
     "name": "stdout",
     "output_type": "stream",
     "text": [
      "                  validation\n",
      " - Yaw          :   4.223691\n",
      " - Pitch        :   5.707654\n",
      " - Roll         :   2.339630\n",
      " - RMS          :   4.316278\n",
      " - 99% Tile     :  18.875816\n",
      "Save output signals into checkpoint/1122-Scene3-CLSTM2-win30/sample/0009.npy\n"
     ]
    },
    {
     "name": "stderr",
     "output_type": "stream",
     "text": [
      "[0010/0100] Train: 100%|██████████████████████████████| 74/74 [00:03<00:00, 22.08it/s, loss 42.3867]\n",
      "[0010/0100] Validation: 100%|█████████████████████| 72/72 [00:02<00:00, 35.29it/s, val_loss 23.6486]\n",
      "[0011/0100] Train:   0%|                                                     | 0/74 [00:00<?, ?it/s]"
     ]
    },
    {
     "name": "stdout",
     "output_type": "stream",
     "text": [
      "                  validation\n",
      " - Yaw          :   3.452793\n",
      " - Pitch        :   4.118469\n",
      " - Roll         :   2.351163\n",
      " - RMS          :   3.386814\n",
      " - 99% Tile     :  16.400386\n",
      "Save output signals into checkpoint/1122-Scene3-CLSTM2-win30/sample/0010.npy\n"
     ]
    },
    {
     "name": "stderr",
     "output_type": "stream",
     "text": [
      "[0011/0100] Train: 100%|██████████████████████████████| 74/74 [00:03<00:00, 22.46it/s, loss 34.1720]\n",
      "[0011/0100] Validation: 100%|█████████████████████| 72/72 [00:02<00:00, 33.90it/s, val_loss 19.1195]\n",
      "[0012/0100] Train:   0%|                                                     | 0/74 [00:00<?, ?it/s]"
     ]
    },
    {
     "name": "stdout",
     "output_type": "stream",
     "text": [
      "                  validation\n",
      " - Yaw          :   3.488763\n",
      " - Pitch        :   3.254467\n",
      " - Roll         :   2.335795\n",
      " - RMS          :   3.066973\n",
      " - 99% Tile     :  14.788170\n",
      "Save output signals into checkpoint/1122-Scene3-CLSTM2-win30/sample/0011.npy\n"
     ]
    },
    {
     "name": "stderr",
     "output_type": "stream",
     "text": [
      "[0012/0100] Train: 100%|██████████████████████████████| 74/74 [00:03<00:00, 21.82it/s, loss 29.2225]\n",
      "[0012/0100] Validation: 100%|█████████████████████| 72/72 [00:02<00:00, 34.05it/s, val_loss 15.6929]\n",
      "[0013/0100] Train:   0%|                                                     | 0/74 [00:00<?, ?it/s]"
     ]
    },
    {
     "name": "stdout",
     "output_type": "stream",
     "text": [
      "                  validation\n",
      " - Yaw          :   3.093204\n",
      " - Pitch        :   2.674342\n",
      " - Roll         :   2.322340\n",
      " - RMS          :   2.714976\n",
      " - 99% Tile     :  13.482980\n",
      "Save output signals into checkpoint/1122-Scene3-CLSTM2-win30/sample/0012.npy\n"
     ]
    },
    {
     "name": "stderr",
     "output_type": "stream",
     "text": [
      "[0013/0100] Train: 100%|██████████████████████████████| 74/74 [00:03<00:00, 21.96it/s, loss 25.0166]\n",
      "[0013/0100] Validation: 100%|█████████████████████| 72/72 [00:02<00:00, 34.83it/s, val_loss 14.8051]\n",
      "[0014/0100] Train:   0%|                                                     | 0/74 [00:00<?, ?it/s]"
     ]
    },
    {
     "name": "stdout",
     "output_type": "stream",
     "text": [
      "                  validation\n",
      " - Yaw          :   3.408022\n",
      " - Pitch        :   2.209387\n",
      " - Roll         :   2.299326\n",
      " - RMS          :   2.694618\n",
      " - 99% Tile     :  12.675869\n",
      "Save output signals into checkpoint/1122-Scene3-CLSTM2-win30/sample/0013.npy\n"
     ]
    },
    {
     "name": "stderr",
     "output_type": "stream",
     "text": [
      "[0014/0100] Train: 100%|██████████████████████████████| 74/74 [00:03<00:00, 22.36it/s, loss 22.2068]\n",
      "[0014/0100] Validation: 100%|█████████████████████| 72/72 [00:02<00:00, 34.45it/s, val_loss 11.0631]\n",
      "[0015/0100] Train:   0%|                                                     | 0/74 [00:00<?, ?it/s]"
     ]
    },
    {
     "name": "stdout",
     "output_type": "stream",
     "text": [
      "                  validation\n",
      " - Yaw          :   2.044008\n",
      " - Pitch        :   2.140505\n",
      " - Roll         :   2.294370\n",
      " - RMS          :   2.162087\n",
      " - 99% Tile     :  11.805848\n",
      "Save output signals into checkpoint/1122-Scene3-CLSTM2-win30/sample/0014.npy\n"
     ]
    },
    {
     "name": "stderr",
     "output_type": "stream",
     "text": [
      "[0015/0100] Train: 100%|██████████████████████████████| 74/74 [00:03<00:00, 22.08it/s, loss 19.3473]\n",
      "[0015/0100] Validation: 100%|█████████████████████| 72/72 [00:02<00:00, 34.37it/s, val_loss 10.8547]\n",
      "[0016/0100] Train:   0%|                                                     | 0/74 [00:00<?, ?it/s]"
     ]
    },
    {
     "name": "stdout",
     "output_type": "stream",
     "text": [
      "                  validation\n",
      " - Yaw          :   2.088913\n",
      " - Pitch        :   2.352417\n",
      " - Roll         :   2.305031\n",
      " - RMS          :   2.251709\n",
      " - 99% Tile     :  11.317118\n",
      "Save output signals into checkpoint/1122-Scene3-CLSTM2-win30/sample/0015.npy\n"
     ]
    },
    {
     "name": "stderr",
     "output_type": "stream",
     "text": [
      "[0016/0100] Train: 100%|██████████████████████████████| 74/74 [00:03<00:00, 22.90it/s, loss 17.2044]\n",
      "[0016/0100] Validation: 100%|██████████████████████| 72/72 [00:02<00:00, 34.54it/s, val_loss 8.9818]\n",
      "[0017/0100] Train:   0%|                                                     | 0/74 [00:00<?, ?it/s]"
     ]
    },
    {
     "name": "stdout",
     "output_type": "stream",
     "text": [
      "                  validation\n",
      " - Yaw          :   1.851948\n",
      " - Pitch        :   1.796490\n",
      " - Roll         :   2.280456\n",
      " - RMS          :   1.988095\n",
      " - 99% Tile     :  10.497308\n",
      "Save output signals into checkpoint/1122-Scene3-CLSTM2-win30/sample/0016.npy\n"
     ]
    },
    {
     "name": "stderr",
     "output_type": "stream",
     "text": [
      "[0017/0100] Train: 100%|██████████████████████████████| 74/74 [00:03<00:00, 22.08it/s, loss 15.7061]\n",
      "[0017/0100] Validation: 100%|█████████████████████| 72/72 [00:02<00:00, 34.81it/s, val_loss 10.1738]\n",
      "[0018/0100] Train:   0%|                                                     | 0/74 [00:00<?, ?it/s]"
     ]
    },
    {
     "name": "stdout",
     "output_type": "stream",
     "text": [
      "val_loss is not improved for 1 epochs\n",
      "                  validation\n",
      " - Yaw          :   2.612777\n",
      " - Pitch        :   1.727431\n",
      " - Roll         :   2.255396\n",
      " - RMS          :   2.228410\n",
      " - 99% Tile     :  10.665997\n",
      "Save output signals into checkpoint/1122-Scene3-CLSTM2-win30/sample/0017.npy\n"
     ]
    },
    {
     "name": "stderr",
     "output_type": "stream",
     "text": [
      "[0018/0100] Train: 100%|██████████████████████████████| 74/74 [00:03<00:00, 21.69it/s, loss 14.4886]\n",
      "[0018/0100] Validation: 100%|██████████████████████| 72/72 [00:02<00:00, 33.59it/s, val_loss 7.7796]\n",
      "[0019/0100] Train:   0%|                                                     | 0/74 [00:00<?, ?it/s]"
     ]
    },
    {
     "name": "stdout",
     "output_type": "stream",
     "text": [
      "                  validation\n",
      " - Yaw          :   1.727634\n",
      " - Pitch        :   1.486470\n",
      " - Roll         :   2.280143\n",
      " - RMS          :   1.861305\n",
      " - 99% Tile     :   9.694235\n",
      "Save output signals into checkpoint/1122-Scene3-CLSTM2-win30/sample/0018.npy\n"
     ]
    },
    {
     "name": "stderr",
     "output_type": "stream",
     "text": [
      "[0019/0100] Train: 100%|██████████████████████████████| 74/74 [00:03<00:00, 21.92it/s, loss 13.3385]\n",
      "[0019/0100] Validation: 100%|██████████████████████| 72/72 [00:02<00:00, 35.26it/s, val_loss 7.7611]\n",
      "[0020/0100] Train:   0%|                                                     | 0/74 [00:00<?, ?it/s]"
     ]
    },
    {
     "name": "stdout",
     "output_type": "stream",
     "text": [
      "                  validation\n",
      " - Yaw          :   1.441291\n",
      " - Pitch        :   2.097154\n",
      " - Roll         :   2.249479\n",
      " - RMS          :   1.960912\n",
      " - 99% Tile     :   9.274280\n",
      "Save output signals into checkpoint/1122-Scene3-CLSTM2-win30/sample/0019.npy\n"
     ]
    },
    {
     "name": "stderr",
     "output_type": "stream",
     "text": [
      "[0020/0100] Train: 100%|██████████████████████████████| 74/74 [00:03<00:00, 21.94it/s, loss 12.3779]\n",
      "[0020/0100] Validation: 100%|██████████████████████| 72/72 [00:02<00:00, 35.49it/s, val_loss 6.9382]\n",
      "[0021/0100] Train:   0%|                                                     | 0/74 [00:00<?, ?it/s]"
     ]
    },
    {
     "name": "stdout",
     "output_type": "stream",
     "text": [
      "                  validation\n",
      " - Yaw          :   1.368778\n",
      " - Pitch        :   1.580754\n",
      " - Roll         :   2.232541\n",
      " - RMS          :   1.766029\n",
      " - 99% Tile     :   8.953065\n",
      "Save output signals into checkpoint/1122-Scene3-CLSTM2-win30/sample/0020.npy\n"
     ]
    },
    {
     "name": "stderr",
     "output_type": "stream",
     "text": [
      "[0021/0100] Train: 100%|██████████████████████████████| 74/74 [00:03<00:00, 22.23it/s, loss 11.8568]\n",
      "[0021/0100] Validation: 100%|██████████████████████| 72/72 [00:02<00:00, 33.82it/s, val_loss 7.3194]\n",
      "[0022/0100] Train:   0%|                                                     | 0/74 [00:00<?, ?it/s]"
     ]
    },
    {
     "name": "stdout",
     "output_type": "stream",
     "text": [
      "val_loss is not improved for 1 epochs\n",
      "                  validation\n",
      " - Yaw          :   1.793313\n",
      " - Pitch        :   1.484460\n",
      " - Roll         :   2.272628\n",
      " - RMS          :   1.878335\n",
      " - 99% Tile     :   9.121587\n",
      "Save output signals into checkpoint/1122-Scene3-CLSTM2-win30/sample/0021.npy\n"
     ]
    },
    {
     "name": "stderr",
     "output_type": "stream",
     "text": [
      "[0022/0100] Train: 100%|██████████████████████████████| 74/74 [00:03<00:00, 22.02it/s, loss 10.9286]\n",
      "[0022/0100] Validation: 100%|██████████████████████| 72/72 [00:02<00:00, 34.36it/s, val_loss 6.9369]\n",
      "[0023/0100] Train:   0%|                                                     | 0/74 [00:00<?, ?it/s]"
     ]
    },
    {
     "name": "stdout",
     "output_type": "stream",
     "text": [
      "                  validation\n",
      " - Yaw          :   1.642959\n",
      " - Pitch        :   1.470767\n",
      " - Roll         :   2.242819\n",
      " - RMS          :   1.815921\n",
      " - 99% Tile     :   8.514561\n",
      "Save output signals into checkpoint/1122-Scene3-CLSTM2-win30/sample/0022.npy\n"
     ]
    },
    {
     "name": "stderr",
     "output_type": "stream",
     "text": [
      "[0023/0100] Train: 100%|██████████████████████████████| 74/74 [00:03<00:00, 22.21it/s, loss 10.2190]\n",
      "[0023/0100] Validation: 100%|██████████████████████| 72/72 [00:02<00:00, 34.93it/s, val_loss 6.2570]\n",
      "[0024/0100] Train:   0%|                                                     | 0/74 [00:00<?, ?it/s]"
     ]
    },
    {
     "name": "stdout",
     "output_type": "stream",
     "text": [
      "                  validation\n",
      " - Yaw          :   1.188113\n",
      " - Pitch        :   1.345287\n",
      " - Roll         :   2.258309\n",
      " - RMS          :   1.665470\n",
      " - 99% Tile     :   8.394373\n",
      "Save output signals into checkpoint/1122-Scene3-CLSTM2-win30/sample/0023.npy\n"
     ]
    },
    {
     "name": "stderr",
     "output_type": "stream",
     "text": [
      "[0024/0100] Train: 100%|███████████████████████████████| 74/74 [00:03<00:00, 21.97it/s, loss 9.8012]\n",
      "[0024/0100] Validation: 100%|██████████████████████| 72/72 [00:02<00:00, 35.21it/s, val_loss 7.9564]\n",
      "[0025/0100] Train:   0%|                                                     | 0/74 [00:00<?, ?it/s]"
     ]
    },
    {
     "name": "stdout",
     "output_type": "stream",
     "text": [
      "val_loss is not improved for 1 epochs\n",
      "                  validation\n",
      " - Yaw          :   2.118498\n",
      " - Pitch        :   1.787778\n",
      " - Roll         :   2.308187\n",
      " - RMS          :   2.082619\n",
      " - 99% Tile     :   8.512971\n",
      "Save output signals into checkpoint/1122-Scene3-CLSTM2-win30/sample/0024.npy\n"
     ]
    },
    {
     "name": "stderr",
     "output_type": "stream",
     "text": [
      "[0025/0100] Train: 100%|███████████████████████████████| 74/74 [00:03<00:00, 21.94it/s, loss 9.3901]\n",
      "[0025/0100] Validation: 100%|██████████████████████| 72/72 [00:02<00:00, 34.92it/s, val_loss 6.9356]\n",
      "[0026/0100] Train:   0%|                                                     | 0/74 [00:00<?, ?it/s]"
     ]
    },
    {
     "name": "stdout",
     "output_type": "stream",
     "text": [
      "val_loss is not improved for 2 epochs\n",
      "                  validation\n",
      " - Yaw          :   1.652065\n",
      " - Pitch        :   1.406128\n",
      " - Roll         :   2.359884\n",
      " - RMS          :   1.850727\n",
      " - 99% Tile     :   8.326557\n",
      "Save output signals into checkpoint/1122-Scene3-CLSTM2-win30/sample/0025.npy\n"
     ]
    },
    {
     "name": "stderr",
     "output_type": "stream",
     "text": [
      "[0026/0100] Train: 100%|███████████████████████████████| 74/74 [00:03<00:00, 22.02it/s, loss 8.9489]\n",
      "[0026/0100] Validation: 100%|██████████████████████| 72/72 [00:02<00:00, 35.27it/s, val_loss 6.6840]\n",
      "[0027/0100] Train:   0%|                                                     | 0/74 [00:00<?, ?it/s]"
     ]
    },
    {
     "name": "stdout",
     "output_type": "stream",
     "text": [
      "val_loss is not improved for 3 epochs\n",
      "                  validation\n",
      " - Yaw          :   1.577224\n",
      " - Pitch        :   1.522689\n",
      " - Roll         :   2.318032\n",
      " - RMS          :   1.842054\n",
      " - 99% Tile     :   8.124360\n",
      "Save output signals into checkpoint/1122-Scene3-CLSTM2-win30/sample/0026.npy\n"
     ]
    },
    {
     "name": "stderr",
     "output_type": "stream",
     "text": [
      "[0027/0100] Train: 100%|███████████████████████████████| 74/74 [00:03<00:00, 21.88it/s, loss 8.7884]\n",
      "[0027/0100] Validation: 100%|██████████████████████| 72/72 [00:02<00:00, 34.53it/s, val_loss 6.0199]\n",
      "[0028/0100] Train:   0%|                                                     | 0/74 [00:00<?, ?it/s]"
     ]
    },
    {
     "name": "stdout",
     "output_type": "stream",
     "text": [
      "                  validation\n",
      " - Yaw          :   1.343380\n",
      " - Pitch        :   1.229263\n",
      " - Roll         :   2.262954\n",
      " - RMS          :   1.676973\n",
      " - 99% Tile     :   8.030156\n",
      "Save output signals into checkpoint/1122-Scene3-CLSTM2-win30/sample/0027.npy\n"
     ]
    },
    {
     "name": "stderr",
     "output_type": "stream",
     "text": [
      "[0028/0100] Train: 100%|███████████████████████████████| 74/74 [00:03<00:00, 21.45it/s, loss 8.5490]\n",
      "[0028/0100] Validation: 100%|██████████████████████| 72/72 [00:02<00:00, 35.07it/s, val_loss 7.7893]\n",
      "[0029/0100] Train:   0%|                                                     | 0/74 [00:00<?, ?it/s]"
     ]
    },
    {
     "name": "stdout",
     "output_type": "stream",
     "text": [
      "val_loss is not improved for 1 epochs\n",
      "                  validation\n",
      " - Yaw          :   2.451421\n",
      " - Pitch        :   1.390250\n",
      " - Roll         :   2.220045\n",
      " - RMS          :   2.071301\n",
      " - 99% Tile     :   8.254968\n",
      "Save output signals into checkpoint/1122-Scene3-CLSTM2-win30/sample/0028.npy\n"
     ]
    },
    {
     "name": "stderr",
     "output_type": "stream",
     "text": [
      "[0029/0100] Train: 100%|███████████████████████████████| 74/74 [00:03<00:00, 22.37it/s, loss 8.3768]\n",
      "[0029/0100] Validation: 100%|██████████████████████| 72/72 [00:02<00:00, 34.61it/s, val_loss 6.0497]\n",
      "[0030/0100] Train:   0%|                                                     | 0/74 [00:00<?, ?it/s]"
     ]
    },
    {
     "name": "stdout",
     "output_type": "stream",
     "text": [
      "val_loss is not improved for 2 epochs\n",
      "                  validation\n",
      " - Yaw          :   1.194831\n",
      " - Pitch        :   1.317373\n",
      " - Roll         :   2.281964\n",
      " - RMS          :   1.670374\n",
      " - 99% Tile     :   8.180009\n",
      "Save output signals into checkpoint/1122-Scene3-CLSTM2-win30/sample/0029.npy\n"
     ]
    },
    {
     "name": "stderr",
     "output_type": "stream",
     "text": [
      "[0030/0100] Train: 100%|███████████████████████████████| 74/74 [00:03<00:00, 21.76it/s, loss 8.0953]\n",
      "[0030/0100] Validation: 100%|██████████████████████| 72/72 [00:02<00:00, 34.95it/s, val_loss 5.7491]\n",
      "[0031/0100] Train:   0%|                                                     | 0/74 [00:00<?, ?it/s]"
     ]
    },
    {
     "name": "stdout",
     "output_type": "stream",
     "text": [
      "                  validation\n",
      " - Yaw          :   1.204546\n",
      " - Pitch        :   1.152663\n",
      " - Roll         :   2.250342\n",
      " - RMS          :   1.616952\n",
      " - 99% Tile     :   8.120817\n",
      "Save output signals into checkpoint/1122-Scene3-CLSTM2-win30/sample/0030.npy\n"
     ]
    },
    {
     "name": "stderr",
     "output_type": "stream",
     "text": [
      "[0031/0100] Train: 100%|███████████████████████████████| 74/74 [00:03<00:00, 22.28it/s, loss 7.7456]\n",
      "[0031/0100] Validation: 100%|██████████████████████| 72/72 [00:02<00:00, 33.74it/s, val_loss 5.9630]\n",
      "[0032/0100] Train:   0%|                                                     | 0/74 [00:00<?, ?it/s]"
     ]
    },
    {
     "name": "stdout",
     "output_type": "stream",
     "text": [
      "val_loss is not improved for 1 epochs\n",
      "                  validation\n",
      " - Yaw          :   1.473779\n",
      " - Pitch        :   1.216992\n",
      " - Roll         :   2.270681\n",
      " - RMS          :   1.713582\n",
      " - 99% Tile     :   7.795424\n",
      "Save output signals into checkpoint/1122-Scene3-CLSTM2-win30/sample/0031.npy\n"
     ]
    },
    {
     "name": "stderr",
     "output_type": "stream",
     "text": [
      "[0032/0100] Train: 100%|███████████████████████████████| 74/74 [00:03<00:00, 21.80it/s, loss 7.2945]\n",
      "[0032/0100] Validation: 100%|██████████████████████| 72/72 [00:02<00:00, 35.16it/s, val_loss 5.7148]\n",
      "[0033/0100] Train:   0%|                                                     | 0/74 [00:00<?, ?it/s]"
     ]
    },
    {
     "name": "stdout",
     "output_type": "stream",
     "text": [
      "                  validation\n",
      " - Yaw          :   1.269435\n",
      " - Pitch        :   1.181292\n",
      " - Roll         :   2.291973\n",
      " - RMS          :   1.659323\n",
      " - 99% Tile     :   7.794506\n",
      "Save output signals into checkpoint/1122-Scene3-CLSTM2-win30/sample/0032.npy\n"
     ]
    },
    {
     "name": "stderr",
     "output_type": "stream",
     "text": [
      "[0033/0100] Train: 100%|███████████████████████████████| 74/74 [00:03<00:00, 21.77it/s, loss 7.0956]\n",
      "[0033/0100] Validation: 100%|██████████████████████| 72/72 [00:02<00:00, 34.56it/s, val_loss 5.9738]\n",
      "[0034/0100] Train:   0%|                                                     | 0/74 [00:00<?, ?it/s]"
     ]
    },
    {
     "name": "stdout",
     "output_type": "stream",
     "text": [
      "val_loss is not improved for 1 epochs\n",
      "                  validation\n",
      " - Yaw          :   1.141604\n",
      " - Pitch        :   1.582011\n",
      " - Roll         :   2.287189\n",
      " - RMS          :   1.735632\n",
      " - 99% Tile     :   7.868273\n",
      "Save output signals into checkpoint/1122-Scene3-CLSTM2-win30/sample/0033.npy\n"
     ]
    },
    {
     "name": "stderr",
     "output_type": "stream",
     "text": [
      "[0034/0100] Train: 100%|███████████████████████████████| 74/74 [00:03<00:00, 22.05it/s, loss 7.1494]\n",
      "[0034/0100] Validation: 100%|██████████████████████| 72/72 [00:02<00:00, 34.44it/s, val_loss 5.8565]\n",
      "[0035/0100] Train:   0%|                                                     | 0/74 [00:00<?, ?it/s]"
     ]
    },
    {
     "name": "stdout",
     "output_type": "stream",
     "text": [
      "val_loss is not improved for 2 epochs\n",
      "                  validation\n",
      " - Yaw          :   1.296868\n",
      " - Pitch        :   1.173973\n",
      " - Roll         :   2.327145\n",
      " - RMS          :   1.680841\n",
      " - 99% Tile     :   7.988468\n",
      "Save output signals into checkpoint/1122-Scene3-CLSTM2-win30/sample/0034.npy\n"
     ]
    },
    {
     "name": "stderr",
     "output_type": "stream",
     "text": [
      "[0035/0100] Train: 100%|███████████████████████████████| 74/74 [00:03<00:00, 21.99it/s, loss 6.8723]\n",
      "[0035/0100] Validation: 100%|██████████████████████| 72/72 [00:02<00:00, 34.53it/s, val_loss 6.3696]\n",
      "[0036/0100] Train:   0%|                                                     | 0/74 [00:00<?, ?it/s]"
     ]
    },
    {
     "name": "stdout",
     "output_type": "stream",
     "text": [
      "val_loss is not improved for 3 epochs\n",
      "                  validation\n",
      " - Yaw          :   1.626773\n",
      " - Pitch        :   1.365309\n",
      " - Roll         :   2.272304\n",
      " - RMS          :   1.795720\n",
      " - 99% Tile     :   8.033576\n",
      "Save output signals into checkpoint/1122-Scene3-CLSTM2-win30/sample/0035.npy\n"
     ]
    },
    {
     "name": "stderr",
     "output_type": "stream",
     "text": [
      "[0036/0100] Train: 100%|███████████████████████████████| 74/74 [00:03<00:00, 22.12it/s, loss 6.5926]\n",
      "[0036/0100] Validation: 100%|██████████████████████| 72/72 [00:02<00:00, 33.73it/s, val_loss 5.6369]\n",
      "[0037/0100] Train:   0%|                                                     | 0/74 [00:00<?, ?it/s]"
     ]
    },
    {
     "name": "stdout",
     "output_type": "stream",
     "text": [
      "                  validation\n",
      " - Yaw          :   1.325628\n",
      " - Pitch        :   1.125852\n",
      " - Roll         :   2.310477\n",
      " - RMS          :   1.669644\n",
      " - 99% Tile     :   7.717275\n",
      "Save output signals into checkpoint/1122-Scene3-CLSTM2-win30/sample/0036.npy\n"
     ]
    },
    {
     "name": "stderr",
     "output_type": "stream",
     "text": [
      "[0037/0100] Train: 100%|███████████████████████████████| 74/74 [00:03<00:00, 22.18it/s, loss 6.4158]\n",
      "[0037/0100] Validation: 100%|██████████████████████| 72/72 [00:02<00:00, 35.64it/s, val_loss 5.7343]\n",
      "[0038/0100] Train:   0%|                                                     | 0/74 [00:00<?, ?it/s]"
     ]
    },
    {
     "name": "stdout",
     "output_type": "stream",
     "text": [
      "val_loss is not improved for 1 epochs\n",
      "                  validation\n",
      " - Yaw          :   1.400075\n",
      " - Pitch        :   1.221933\n",
      " - Roll         :   2.245631\n",
      " - RMS          :   1.682874\n",
      " - 99% Tile     :   7.669496\n",
      "Save output signals into checkpoint/1122-Scene3-CLSTM2-win30/sample/0037.npy\n"
     ]
    },
    {
     "name": "stderr",
     "output_type": "stream",
     "text": [
      "[0038/0100] Train: 100%|███████████████████████████████| 74/74 [00:03<00:00, 21.60it/s, loss 6.4965]\n",
      "[0038/0100] Validation: 100%|██████████████████████| 72/72 [00:02<00:00, 35.49it/s, val_loss 5.6687]\n",
      "[0039/0100] Train:   0%|                                                     | 0/74 [00:00<?, ?it/s]"
     ]
    },
    {
     "name": "stdout",
     "output_type": "stream",
     "text": [
      "val_loss is not improved for 2 epochs\n",
      "                  validation\n",
      " - Yaw          :   1.250955\n",
      " - Pitch        :   1.089287\n",
      " - Roll         :   2.292964\n",
      " - RMS          :   1.633923\n",
      " - 99% Tile     :   7.861794\n",
      "Save output signals into checkpoint/1122-Scene3-CLSTM2-win30/sample/0038.npy\n"
     ]
    },
    {
     "name": "stderr",
     "output_type": "stream",
     "text": [
      "[0039/0100] Train: 100%|███████████████████████████████| 74/74 [00:03<00:00, 22.34it/s, loss 6.1692]\n",
      "[0039/0100] Validation: 100%|██████████████████████| 72/72 [00:02<00:00, 34.43it/s, val_loss 5.6795]\n",
      "[0040/0100] Train:   0%|                                                     | 0/74 [00:00<?, ?it/s]"
     ]
    },
    {
     "name": "stdout",
     "output_type": "stream",
     "text": [
      "val_loss is not improved for 3 epochs\n",
      "                  validation\n",
      " - Yaw          :   1.110240\n",
      " - Pitch        :   1.371193\n",
      " - Roll         :   2.317888\n",
      " - RMS          :   1.681805\n",
      " - 99% Tile     :   7.787619\n",
      "Save output signals into checkpoint/1122-Scene3-CLSTM2-win30/sample/0039.npy\n"
     ]
    },
    {
     "name": "stderr",
     "output_type": "stream",
     "text": [
      "[0040/0100] Train: 100%|███████████████████████████████| 74/74 [00:03<00:00, 22.08it/s, loss 6.1279]\n",
      "[0040/0100] Validation: 100%|██████████████████████| 72/72 [00:02<00:00, 35.70it/s, val_loss 6.0823]\n",
      "[0041/0100] Train:   0%|                                                     | 0/74 [00:00<?, ?it/s]"
     ]
    },
    {
     "name": "stdout",
     "output_type": "stream",
     "text": [
      "val_loss is not improved for 4 epochs\n",
      "                  validation\n",
      " - Yaw          :   1.546804\n",
      " - Pitch        :   1.159156\n",
      " - Roll         :   2.332936\n",
      " - RMS          :   1.749175\n",
      " - 99% Tile     :   7.960135\n",
      "Save output signals into checkpoint/1122-Scene3-CLSTM2-win30/sample/0040.npy\n"
     ]
    },
    {
     "name": "stderr",
     "output_type": "stream",
     "text": [
      "[0041/0100] Train: 100%|███████████████████████████████| 74/74 [00:03<00:00, 22.06it/s, loss 5.9227]\n",
      "[0041/0100] Validation: 100%|██████████████████████| 72/72 [00:02<00:00, 35.12it/s, val_loss 5.5551]\n",
      "[0042/0100] Train:   0%|                                                     | 0/74 [00:00<?, ?it/s]"
     ]
    },
    {
     "name": "stdout",
     "output_type": "stream",
     "text": [
      "                  validation\n",
      " - Yaw          :   1.143679\n",
      " - Pitch        :   1.111852\n",
      " - Roll         :   2.286046\n",
      " - RMS          :   1.609371\n",
      " - 99% Tile     :   7.842060\n",
      "Save output signals into checkpoint/1122-Scene3-CLSTM2-win30/sample/0041.npy\n"
     ]
    },
    {
     "name": "stderr",
     "output_type": "stream",
     "text": [
      "[0042/0100] Train: 100%|███████████████████████████████| 74/74 [00:03<00:00, 21.89it/s, loss 5.8826]\n",
      "[0042/0100] Validation: 100%|██████████████████████| 72/72 [00:02<00:00, 34.71it/s, val_loss 6.1565]\n",
      "[0043/0100] Train:   0%|                                                     | 0/74 [00:00<?, ?it/s]"
     ]
    },
    {
     "name": "stdout",
     "output_type": "stream",
     "text": [
      "val_loss is not improved for 1 epochs\n",
      "                  validation\n",
      " - Yaw          :   1.622552\n",
      " - Pitch        :   1.354044\n",
      " - Roll         :   2.222276\n",
      " - RMS          :   1.770557\n",
      " - 99% Tile     :   7.933232\n",
      "Save output signals into checkpoint/1122-Scene3-CLSTM2-win30/sample/0042.npy\n"
     ]
    },
    {
     "name": "stderr",
     "output_type": "stream",
     "text": [
      "[0043/0100] Train: 100%|███████████████████████████████| 74/74 [00:03<00:00, 22.14it/s, loss 5.9411]\n",
      "[0043/0100] Validation: 100%|██████████████████████| 72/72 [00:02<00:00, 34.29it/s, val_loss 5.4694]\n",
      "[0044/0100] Train:   0%|                                                     | 0/74 [00:00<?, ?it/s]"
     ]
    },
    {
     "name": "stdout",
     "output_type": "stream",
     "text": [
      "                  validation\n",
      " - Yaw          :   1.274698\n",
      " - Pitch        :   1.025255\n",
      " - Roll         :   2.232729\n",
      " - RMS          :   1.598028\n",
      " - 99% Tile     :   7.848507\n",
      "Save output signals into checkpoint/1122-Scene3-CLSTM2-win30/sample/0043.npy\n"
     ]
    },
    {
     "name": "stderr",
     "output_type": "stream",
     "text": [
      "[0044/0100] Train: 100%|███████████████████████████████| 74/74 [00:03<00:00, 21.85it/s, loss 5.5413]\n",
      "[0044/0100] Validation: 100%|██████████████████████| 72/72 [00:02<00:00, 34.92it/s, val_loss 5.6799]\n",
      "[0045/0100] Train:   0%|                                                     | 0/74 [00:00<?, ?it/s]"
     ]
    },
    {
     "name": "stdout",
     "output_type": "stream",
     "text": [
      "val_loss is not improved for 1 epochs\n",
      "                  validation\n",
      " - Yaw          :   1.335234\n",
      " - Pitch        :   1.096092\n",
      " - Roll         :   2.268693\n",
      " - RMS          :   1.646333\n",
      " - 99% Tile     :   7.923812\n",
      "Save output signals into checkpoint/1122-Scene3-CLSTM2-win30/sample/0044.npy\n"
     ]
    },
    {
     "name": "stderr",
     "output_type": "stream",
     "text": [
      "[0045/0100] Train: 100%|███████████████████████████████| 74/74 [00:03<00:00, 21.96it/s, loss 5.4584]\n",
      "[0045/0100] Validation: 100%|██████████████████████| 72/72 [00:02<00:00, 34.91it/s, val_loss 5.5118]\n",
      "[0046/0100] Train:   0%|                                                     | 0/74 [00:00<?, ?it/s]"
     ]
    },
    {
     "name": "stdout",
     "output_type": "stream",
     "text": [
      "val_loss is not improved for 2 epochs\n",
      "                  validation\n",
      " - Yaw          :   1.221880\n",
      " - Pitch        :   1.027549\n",
      " - Roll         :   2.235799\n",
      " - RMS          :   1.586153\n",
      " - 99% Tile     :   7.858769\n",
      "Save output signals into checkpoint/1122-Scene3-CLSTM2-win30/sample/0045.npy\n"
     ]
    },
    {
     "name": "stderr",
     "output_type": "stream",
     "text": [
      "[0046/0100] Train: 100%|███████████████████████████████| 74/74 [00:03<00:00, 22.07it/s, loss 5.6247]\n",
      "[0046/0100] Validation: 100%|██████████████████████| 72/72 [00:02<00:00, 34.80it/s, val_loss 5.2014]\n",
      "[0047/0100] Train:   0%|                                                     | 0/74 [00:00<?, ?it/s]"
     ]
    },
    {
     "name": "stdout",
     "output_type": "stream",
     "text": [
      "                  validation\n",
      " - Yaw          :   1.067967\n",
      " - Pitch        :   1.153051\n",
      " - Roll         :   2.253890\n",
      " - RMS          :   1.586411\n",
      " - 99% Tile     :   7.363181\n",
      "Save output signals into checkpoint/1122-Scene3-CLSTM2-win30/sample/0046.npy\n"
     ]
    },
    {
     "name": "stderr",
     "output_type": "stream",
     "text": [
      "[0047/0100] Train: 100%|███████████████████████████████| 74/74 [00:03<00:00, 21.80it/s, loss 5.2859]\n",
      "[0047/0100] Validation: 100%|██████████████████████| 72/72 [00:02<00:00, 35.04it/s, val_loss 5.0698]\n",
      "[0048/0100] Train:   0%|                                                     | 0/74 [00:00<?, ?it/s]"
     ]
    },
    {
     "name": "stdout",
     "output_type": "stream",
     "text": [
      "                  validation\n",
      " - Yaw          :   1.072614\n",
      " - Pitch        :   1.020677\n",
      " - Roll         :   2.212840\n",
      " - RMS          :   1.537199\n",
      " - 99% Tile     :   7.421308\n",
      "Save output signals into checkpoint/1122-Scene3-CLSTM2-win30/sample/0047.npy\n"
     ]
    },
    {
     "name": "stderr",
     "output_type": "stream",
     "text": [
      "[0048/0100] Train: 100%|███████████████████████████████| 74/74 [00:03<00:00, 22.27it/s, loss 5.2572]\n",
      "[0048/0100] Validation: 100%|██████████████████████| 72/72 [00:02<00:00, 34.90it/s, val_loss 5.1887]\n",
      "[0049/0100] Train:   0%|                                                     | 0/74 [00:00<?, ?it/s]"
     ]
    },
    {
     "name": "stdout",
     "output_type": "stream",
     "text": [
      "val_loss is not improved for 1 epochs\n",
      "                  validation\n",
      " - Yaw          :   1.094714\n",
      " - Pitch        :   1.136496\n",
      " - Roll         :   2.208129\n",
      " - RMS          :   1.566935\n",
      " - 99% Tile     :   7.399449\n",
      "Save output signals into checkpoint/1122-Scene3-CLSTM2-win30/sample/0048.npy\n"
     ]
    },
    {
     "name": "stderr",
     "output_type": "stream",
     "text": [
      "[0049/0100] Train: 100%|███████████████████████████████| 74/74 [00:03<00:00, 21.95it/s, loss 5.0111]\n",
      "[0049/0100] Validation: 100%|██████████████████████| 72/72 [00:02<00:00, 34.95it/s, val_loss 5.2684]\n",
      "[0050/0100] Train:   0%|                                                     | 0/74 [00:00<?, ?it/s]"
     ]
    },
    {
     "name": "stdout",
     "output_type": "stream",
     "text": [
      "val_loss is not improved for 2 epochs\n",
      "                  validation\n",
      " - Yaw          :   1.264799\n",
      " - Pitch        :   1.101844\n",
      " - Roll         :   2.183625\n",
      " - RMS          :   1.589758\n",
      " - 99% Tile     :   7.216390\n",
      "Save output signals into checkpoint/1122-Scene3-CLSTM2-win30/sample/0049.npy\n"
     ]
    },
    {
     "name": "stderr",
     "output_type": "stream",
     "text": [
      "[0050/0100] Train: 100%|███████████████████████████████| 74/74 [00:03<00:00, 22.18it/s, loss 4.7789]\n",
      "[0050/0100] Validation: 100%|██████████████████████| 72/72 [00:02<00:00, 33.83it/s, val_loss 5.0009]\n",
      "[0051/0100] Train:   0%|                                                     | 0/74 [00:00<?, ?it/s]"
     ]
    },
    {
     "name": "stdout",
     "output_type": "stream",
     "text": [
      "                  validation\n",
      " - Yaw          :   1.263688\n",
      " - Pitch        :   1.261079\n",
      " - Roll         :   1.861972\n",
      " - RMS          :   1.489313\n",
      " - 99% Tile     :   7.391910\n",
      "Save output signals into checkpoint/1122-Scene3-CLSTM2-win30/sample/0050.npy\n"
     ]
    },
    {
     "name": "stderr",
     "output_type": "stream",
     "text": [
      "[0051/0100] Train: 100%|███████████████████████████████| 74/74 [00:03<00:00, 21.88it/s, loss 4.6162]\n",
      "[0051/0100] Validation: 100%|██████████████████████| 72/72 [00:02<00:00, 34.18it/s, val_loss 4.6177]\n",
      "[0052/0100] Train:   0%|                                                     | 0/74 [00:00<?, ?it/s]"
     ]
    },
    {
     "name": "stdout",
     "output_type": "stream",
     "text": [
      "                  validation\n",
      " - Yaw          :   1.811517\n",
      " - Pitch        :   1.003823\n",
      " - Roll         :   1.378192\n",
      " - RMS          :   1.436276\n",
      " - 99% Tile     :   6.862754\n",
      "Save output signals into checkpoint/1122-Scene3-CLSTM2-win30/sample/0051.npy\n"
     ]
    },
    {
     "name": "stderr",
     "output_type": "stream",
     "text": [
      "[0052/0100] Train: 100%|███████████████████████████████| 74/74 [00:03<00:00, 22.17it/s, loss 3.7016]\n",
      "[0052/0100] Validation: 100%|██████████████████████| 72/72 [00:02<00:00, 34.81it/s, val_loss 3.6916]\n",
      "[0053/0100] Train:   0%|                                                     | 0/74 [00:00<?, ?it/s]"
     ]
    },
    {
     "name": "stdout",
     "output_type": "stream",
     "text": [
      "                  validation\n",
      " - Yaw          :   1.337151\n",
      " - Pitch        :   1.024556\n",
      " - Roll         :   1.277341\n",
      " - RMS          :   1.220558\n",
      " - 99% Tile     :   6.353906\n",
      "Save output signals into checkpoint/1122-Scene3-CLSTM2-win30/sample/0052.npy\n"
     ]
    },
    {
     "name": "stderr",
     "output_type": "stream",
     "text": [
      "[0053/0100] Train: 100%|███████████████████████████████| 74/74 [00:03<00:00, 22.31it/s, loss 3.5957]\n",
      "[0053/0100] Validation: 100%|██████████████████████| 72/72 [00:02<00:00, 34.26it/s, val_loss 3.9395]\n",
      "[0054/0100] Train:   0%|                                                     | 0/74 [00:00<?, ?it/s]"
     ]
    },
    {
     "name": "stdout",
     "output_type": "stream",
     "text": [
      "val_loss is not improved for 1 epochs\n",
      "                  validation\n",
      " - Yaw          :   1.614606\n",
      " - Pitch        :   1.069259\n",
      " - Roll         :   1.078778\n",
      " - RMS          :   1.279848\n",
      " - 99% Tile     :   6.529316\n",
      "Save output signals into checkpoint/1122-Scene3-CLSTM2-win30/sample/0053.npy\n"
     ]
    },
    {
     "name": "stderr",
     "output_type": "stream",
     "text": [
      "[0054/0100] Train: 100%|███████████████████████████████| 74/74 [00:03<00:00, 21.37it/s, loss 3.5529]\n",
      "[0054/0100] Validation: 100%|██████████████████████| 72/72 [00:02<00:00, 34.68it/s, val_loss 2.9386]\n",
      "[0055/0100] Train:   0%|                                                     | 0/74 [00:00<?, ?it/s]"
     ]
    },
    {
     "name": "stdout",
     "output_type": "stream",
     "text": [
      "                  validation\n",
      " - Yaw          :   1.082631\n",
      " - Pitch        :   0.911619\n",
      " - Roll         :   0.949020\n",
      " - RMS          :   0.983832\n",
      " - 99% Tile     :   5.959009\n",
      "Save output signals into checkpoint/1122-Scene3-CLSTM2-win30/sample/0054.npy\n"
     ]
    },
    {
     "name": "stderr",
     "output_type": "stream",
     "text": [
      "[0055/0100] Train: 100%|███████████████████████████████| 74/74 [00:03<00:00, 21.99it/s, loss 3.3864]\n",
      "[0055/0100] Validation: 100%|██████████████████████| 72/72 [00:02<00:00, 34.93it/s, val_loss 3.3283]\n",
      "[0056/0100] Train:   0%|                                                     | 0/74 [00:00<?, ?it/s]"
     ]
    },
    {
     "name": "stdout",
     "output_type": "stream",
     "text": [
      "val_loss is not improved for 1 epochs\n",
      "                  validation\n",
      " - Yaw          :   1.286817\n",
      " - Pitch        :   0.973731\n",
      " - Roll         :   1.004639\n",
      " - RMS          :   1.097474\n",
      " - 99% Tile     :   6.336371\n",
      "Save output signals into checkpoint/1122-Scene3-CLSTM2-win30/sample/0055.npy\n"
     ]
    },
    {
     "name": "stderr",
     "output_type": "stream",
     "text": [
      "[0056/0100] Train: 100%|███████████████████████████████| 74/74 [00:03<00:00, 22.05it/s, loss 2.9705]\n",
      "[0056/0100] Validation: 100%|██████████████████████| 72/72 [00:02<00:00, 34.90it/s, val_loss 2.9276]\n",
      "[0057/0100] Train:   0%|                                                     | 0/74 [00:00<?, ?it/s]"
     ]
    },
    {
     "name": "stdout",
     "output_type": "stream",
     "text": [
      "                  validation\n",
      " - Yaw          :   1.164100\n",
      " - Pitch        :   0.871861\n",
      " - Roll         :   0.904431\n",
      " - RMS          :   0.988815\n",
      " - 99% Tile     :   5.933110\n",
      "Save output signals into checkpoint/1122-Scene3-CLSTM2-win30/sample/0056.npy\n"
     ]
    },
    {
     "name": "stderr",
     "output_type": "stream",
     "text": [
      "[0057/0100] Train: 100%|███████████████████████████████| 74/74 [00:03<00:00, 22.00it/s, loss 2.9384]\n",
      "[0057/0100] Validation: 100%|██████████████████████| 72/72 [00:02<00:00, 35.33it/s, val_loss 3.0807]\n",
      "[0058/0100] Train:   0%|                                                     | 0/74 [00:00<?, ?it/s]"
     ]
    },
    {
     "name": "stdout",
     "output_type": "stream",
     "text": [
      "val_loss is not improved for 1 epochs\n",
      "                  validation\n",
      " - Yaw          :   1.296455\n",
      " - Pitch        :   1.023407\n",
      " - Roll         :   0.784709\n",
      " - RMS          :   1.055766\n",
      " - 99% Tile     :   6.265143\n",
      "Save output signals into checkpoint/1122-Scene3-CLSTM2-win30/sample/0057.npy\n"
     ]
    },
    {
     "name": "stderr",
     "output_type": "stream",
     "text": [
      "[0058/0100] Train: 100%|███████████████████████████████| 74/74 [00:03<00:00, 21.82it/s, loss 2.7255]\n",
      "[0058/0100] Validation: 100%|██████████████████████| 72/72 [00:02<00:00, 34.33it/s, val_loss 2.9807]\n",
      "[0059/0100] Train:   0%|                                                     | 0/74 [00:00<?, ?it/s]"
     ]
    },
    {
     "name": "stdout",
     "output_type": "stream",
     "text": [
      "val_loss is not improved for 2 epochs\n",
      "                  validation\n",
      " - Yaw          :   1.329468\n",
      " - Pitch        :   1.043300\n",
      " - Roll         :   0.778232\n",
      " - RMS          :   1.074183\n",
      " - 99% Tile     :   5.839473\n",
      "Save output signals into checkpoint/1122-Scene3-CLSTM2-win30/sample/0058.npy\n"
     ]
    },
    {
     "name": "stderr",
     "output_type": "stream",
     "text": [
      "[0059/0100] Train: 100%|███████████████████████████████| 74/74 [00:03<00:00, 21.69it/s, loss 2.8118]\n",
      "[0059/0100] Validation: 100%|██████████████████████| 72/72 [00:02<00:00, 34.85it/s, val_loss 2.5412]\n",
      "[0060/0100] Train:   0%|                                                     | 0/74 [00:00<?, ?it/s]"
     ]
    },
    {
     "name": "stdout",
     "output_type": "stream",
     "text": [
      "                  validation\n",
      " - Yaw          :   1.069705\n",
      " - Pitch        :   0.833408\n",
      " - Roll         :   0.810150\n",
      " - RMS          :   0.911991\n",
      " - 99% Tile     :   5.776176\n",
      "Save output signals into checkpoint/1122-Scene3-CLSTM2-win30/sample/0059.npy\n"
     ]
    },
    {
     "name": "stderr",
     "output_type": "stream",
     "text": [
      "[0060/0100] Train: 100%|███████████████████████████████| 74/74 [00:03<00:00, 21.52it/s, loss 2.7919]\n",
      "[0060/0100] Validation: 100%|██████████████████████| 72/72 [00:02<00:00, 35.02it/s, val_loss 3.0720]\n",
      "[0061/0100] Train:   0%|                                                     | 0/74 [00:00<?, ?it/s]"
     ]
    },
    {
     "name": "stdout",
     "output_type": "stream",
     "text": [
      "val_loss is not improved for 1 epochs\n",
      "                  validation\n",
      " - Yaw          :   1.148988\n",
      " - Pitch        :   0.941561\n",
      " - Roll         :   0.920714\n",
      " - RMS          :   1.009030\n",
      " - 99% Tile     :   6.129130\n",
      "Save output signals into checkpoint/1122-Scene3-CLSTM2-win30/sample/0060.npy\n"
     ]
    },
    {
     "name": "stderr",
     "output_type": "stream",
     "text": [
      "[0061/0100] Train: 100%|███████████████████████████████| 74/74 [00:03<00:00, 21.84it/s, loss 2.7979]\n",
      "[0061/0100] Validation: 100%|██████████████████████| 72/72 [00:02<00:00, 34.95it/s, val_loss 4.1846]\n",
      "[0062/0100] Train:   0%|                                                     | 0/74 [00:00<?, ?it/s]"
     ]
    },
    {
     "name": "stdout",
     "output_type": "stream",
     "text": [
      "val_loss is not improved for 2 epochs\n",
      "                  validation\n",
      " - Yaw          :   1.990429\n",
      " - Pitch        :   1.168381\n",
      " - Roll         :   0.793534\n",
      " - RMS          :   1.409092\n",
      " - 99% Tile     :   6.652991\n",
      "Save output signals into checkpoint/1122-Scene3-CLSTM2-win30/sample/0061.npy\n"
     ]
    },
    {
     "name": "stderr",
     "output_type": "stream",
     "text": [
      "[0062/0100] Train: 100%|███████████████████████████████| 74/74 [00:03<00:00, 21.60it/s, loss 2.7231]\n",
      "[0062/0100] Validation: 100%|██████████████████████| 72/72 [00:02<00:00, 34.51it/s, val_loss 3.0615]\n",
      "[0063/0100] Train:   0%|                                                     | 0/74 [00:00<?, ?it/s]"
     ]
    },
    {
     "name": "stdout",
     "output_type": "stream",
     "text": [
      "val_loss is not improved for 3 epochs\n",
      "                  validation\n",
      " - Yaw          :   1.496454\n",
      " - Pitch        :   0.870933\n",
      " - Roll         :   0.811945\n",
      " - RMS          :   1.104106\n",
      " - 99% Tile     :   5.639651\n",
      "Save output signals into checkpoint/1122-Scene3-CLSTM2-win30/sample/0062.npy\n"
     ]
    },
    {
     "name": "stderr",
     "output_type": "stream",
     "text": [
      "[0063/0100] Train: 100%|███████████████████████████████| 74/74 [00:03<00:00, 22.08it/s, loss 2.5996]\n",
      "[0063/0100] Validation: 100%|██████████████████████| 72/72 [00:02<00:00, 33.99it/s, val_loss 2.6112]\n",
      "[0064/0100] Train:   0%|                                                     | 0/74 [00:00<?, ?it/s]"
     ]
    },
    {
     "name": "stdout",
     "output_type": "stream",
     "text": [
      "val_loss is not improved for 4 epochs\n",
      "                  validation\n",
      " - Yaw          :   1.072365\n",
      " - Pitch        :   0.921993\n",
      " - Roll         :   0.778876\n",
      " - RMS          :   0.932145\n",
      " - 99% Tile     :   5.404570\n",
      "Save output signals into checkpoint/1122-Scene3-CLSTM2-win30/sample/0063.npy\n"
     ]
    },
    {
     "name": "stderr",
     "output_type": "stream",
     "text": [
      "[0064/0100] Train: 100%|███████████████████████████████| 74/74 [00:03<00:00, 21.75it/s, loss 2.5450]\n",
      "[0064/0100] Validation: 100%|██████████████████████| 72/72 [00:02<00:00, 34.67it/s, val_loss 2.8595]\n",
      "[0065/0100] Train:   0%|                                                     | 0/74 [00:00<?, ?it/s]"
     ]
    },
    {
     "name": "stdout",
     "output_type": "stream",
     "text": [
      "Decaying lr from 0.001 to 0.0005 because val_loss did not improved for 5 epochs\n",
      "val_loss is not improved for 5 epochs\n",
      "                  validation\n",
      " - Yaw          :   1.165372\n",
      " - Pitch        :   1.107600\n",
      " - Roll         :   0.744412\n",
      " - RMS          :   1.022907\n",
      " - 99% Tile     :   5.648009\n",
      "Save output signals into checkpoint/1122-Scene3-CLSTM2-win30/sample/0064.npy\n"
     ]
    },
    {
     "name": "stderr",
     "output_type": "stream",
     "text": [
      "[0065/0100] Train: 100%|███████████████████████████████| 74/74 [00:03<00:00, 21.73it/s, loss 2.1682]\n",
      "[0065/0100] Validation: 100%|██████████████████████| 72/72 [00:02<00:00, 33.44it/s, val_loss 2.5422]\n",
      "[0066/0100] Train:   0%|                                                     | 0/74 [00:00<?, ?it/s]"
     ]
    },
    {
     "name": "stdout",
     "output_type": "stream",
     "text": [
      "val_loss is not improved for 6 epochs\n",
      "                  validation\n",
      " - Yaw          :   1.142371\n",
      " - Pitch        :   0.784718\n",
      " - Roll         :   0.665938\n",
      " - RMS          :   0.887744\n",
      " - 99% Tile     :   5.453196\n",
      "Save output signals into checkpoint/1122-Scene3-CLSTM2-win30/sample/0065.npy\n"
     ]
    },
    {
     "name": "stderr",
     "output_type": "stream",
     "text": [
      "[0066/0100] Train: 100%|███████████████████████████████| 74/74 [00:03<00:00, 22.41it/s, loss 2.0361]\n",
      "[0066/0100] Validation: 100%|██████████████████████| 72/72 [00:02<00:00, 34.51it/s, val_loss 2.3079]\n",
      "[0067/0100] Train:   0%|                                                     | 0/74 [00:00<?, ?it/s]"
     ]
    },
    {
     "name": "stdout",
     "output_type": "stream",
     "text": [
      "                  validation\n",
      " - Yaw          :   0.928926\n",
      " - Pitch        :   0.851646\n",
      " - Roll         :   0.714660\n",
      " - RMS          :   0.836450\n",
      " - 99% Tile     :   5.245344\n",
      "Save output signals into checkpoint/1122-Scene3-CLSTM2-win30/sample/0066.npy\n"
     ]
    },
    {
     "name": "stderr",
     "output_type": "stream",
     "text": [
      "[0067/0100] Train: 100%|███████████████████████████████| 74/74 [00:03<00:00, 21.96it/s, loss 2.0282]\n",
      "[0067/0100] Validation: 100%|██████████████████████| 72/72 [00:02<00:00, 33.65it/s, val_loss 2.3412]\n",
      "[0068/0100] Train:   0%|                                                     | 0/74 [00:00<?, ?it/s]"
     ]
    },
    {
     "name": "stdout",
     "output_type": "stream",
     "text": [
      "val_loss is not improved for 1 epochs\n",
      "                  validation\n",
      " - Yaw          :   0.959460\n",
      " - Pitch        :   0.743509\n",
      " - Roll         :   0.664806\n",
      " - RMS          :   0.799028\n",
      " - 99% Tile     :   5.305079\n",
      "Save output signals into checkpoint/1122-Scene3-CLSTM2-win30/sample/0067.npy\n"
     ]
    },
    {
     "name": "stderr",
     "output_type": "stream",
     "text": [
      "[0068/0100] Train: 100%|███████████████████████████████| 74/74 [00:03<00:00, 21.81it/s, loss 2.0759]\n",
      "[0068/0100] Validation: 100%|██████████████████████| 72/72 [00:02<00:00, 34.38it/s, val_loss 2.6785]\n",
      "[0069/0100] Train:   0%|                                                     | 0/74 [00:00<?, ?it/s]"
     ]
    },
    {
     "name": "stdout",
     "output_type": "stream",
     "text": [
      "val_loss is not improved for 2 epochs\n",
      "                  validation\n",
      " - Yaw          :   1.228583\n",
      " - Pitch        :   0.849175\n",
      " - Roll         :   0.732159\n",
      " - RMS          :   0.960308\n",
      " - 99% Tile     :   5.433509\n",
      "Save output signals into checkpoint/1122-Scene3-CLSTM2-win30/sample/0068.npy\n"
     ]
    },
    {
     "name": "stderr",
     "output_type": "stream",
     "text": [
      "[0069/0100] Train: 100%|███████████████████████████████| 74/74 [00:03<00:00, 22.43it/s, loss 2.0321]\n",
      "[0069/0100] Validation: 100%|██████████████████████| 72/72 [00:02<00:00, 35.21it/s, val_loss 2.2640]\n",
      "[0070/0100] Train:   0%|                                                     | 0/74 [00:00<?, ?it/s]"
     ]
    },
    {
     "name": "stdout",
     "output_type": "stream",
     "text": [
      "                  validation\n",
      " - Yaw          :   0.949891\n",
      " - Pitch        :   0.793347\n",
      " - Roll         :   0.679347\n",
      " - RMS          :   0.815109\n",
      " - 99% Tile     :   5.194663\n",
      "Save output signals into checkpoint/1122-Scene3-CLSTM2-win30/sample/0069.npy\n"
     ]
    },
    {
     "name": "stderr",
     "output_type": "stream",
     "text": [
      "[0070/0100] Train: 100%|███████████████████████████████| 74/74 [00:03<00:00, 21.80it/s, loss 2.0357]\n",
      "[0070/0100] Validation: 100%|██████████████████████| 72/72 [00:02<00:00, 34.40it/s, val_loss 2.4217]\n",
      "[0071/0100] Train:   0%|                                                     | 0/74 [00:00<?, ?it/s]"
     ]
    },
    {
     "name": "stdout",
     "output_type": "stream",
     "text": [
      "val_loss is not improved for 1 epochs\n",
      "                  validation\n",
      " - Yaw          :   1.096056\n",
      " - Pitch        :   0.717591\n",
      " - Roll         :   0.680885\n",
      " - RMS          :   0.852424\n",
      " - 99% Tile     :   5.347985\n",
      "Save output signals into checkpoint/1122-Scene3-CLSTM2-win30/sample/0070.npy\n"
     ]
    },
    {
     "name": "stderr",
     "output_type": "stream",
     "text": [
      "[0071/0100] Train: 100%|███████████████████████████████| 74/74 [00:03<00:00, 22.49it/s, loss 2.0229]\n",
      "[0071/0100] Validation: 100%|██████████████████████| 72/72 [00:02<00:00, 33.61it/s, val_loss 2.0663]\n",
      "[0072/0100] Train:   0%|                                                     | 0/74 [00:00<?, ?it/s]"
     ]
    },
    {
     "name": "stdout",
     "output_type": "stream",
     "text": [
      "                  validation\n",
      " - Yaw          :   0.987770\n",
      " - Pitch        :   0.707119\n",
      " - Roll         :   0.653421\n",
      " - RMS          :   0.796381\n",
      " - 99% Tile     :   5.026559\n",
      "Save output signals into checkpoint/1122-Scene3-CLSTM2-win30/sample/0071.npy\n"
     ]
    },
    {
     "name": "stderr",
     "output_type": "stream",
     "text": [
      "[0072/0100] Train: 100%|███████████████████████████████| 74/74 [00:03<00:00, 21.96it/s, loss 2.0581]\n",
      "[0072/0100] Validation: 100%|██████████████████████| 72/72 [00:02<00:00, 35.01it/s, val_loss 2.3578]\n",
      "[0073/0100] Train:   0%|                                                     | 0/74 [00:00<?, ?it/s]"
     ]
    },
    {
     "name": "stdout",
     "output_type": "stream",
     "text": [
      "val_loss is not improved for 1 epochs\n",
      "                  validation\n",
      " - Yaw          :   1.001532\n",
      " - Pitch        :   0.733978\n",
      " - Roll         :   0.665780\n",
      " - RMS          :   0.813440\n",
      " - 99% Tile     :   5.415478\n",
      "Save output signals into checkpoint/1122-Scene3-CLSTM2-win30/sample/0072.npy\n"
     ]
    },
    {
     "name": "stderr",
     "output_type": "stream",
     "text": [
      "[0073/0100] Train: 100%|███████████████████████████████| 74/74 [00:03<00:00, 22.16it/s, loss 1.9055]\n",
      "[0073/0100] Validation: 100%|██████████████████████| 72/72 [00:02<00:00, 34.04it/s, val_loss 2.1724]\n",
      "[0074/0100] Train:   0%|                                                     | 0/74 [00:00<?, ?it/s]"
     ]
    },
    {
     "name": "stdout",
     "output_type": "stream",
     "text": [
      "val_loss is not improved for 2 epochs\n",
      "                  validation\n",
      " - Yaw          :   0.916501\n",
      " - Pitch        :   0.869756\n",
      " - Roll         :   0.706541\n",
      " - RMS          :   0.835793\n",
      " - 99% Tile     :   5.133851\n",
      "Save output signals into checkpoint/1122-Scene3-CLSTM2-win30/sample/0073.npy\n"
     ]
    },
    {
     "name": "stderr",
     "output_type": "stream",
     "text": [
      "[0074/0100] Train: 100%|███████████████████████████████| 74/74 [00:03<00:00, 21.80it/s, loss 2.0497]\n",
      "[0074/0100] Validation: 100%|██████████████████████| 72/72 [00:02<00:00, 34.74it/s, val_loss 2.3880]\n",
      "[0075/0100] Train:   0%|                                                     | 0/74 [00:00<?, ?it/s]"
     ]
    },
    {
     "name": "stdout",
     "output_type": "stream",
     "text": [
      "val_loss is not improved for 3 epochs\n",
      "                  validation\n",
      " - Yaw          :   1.288948\n",
      " - Pitch        :   0.796477\n",
      " - Roll         :   0.650790\n",
      " - RMS          :   0.952066\n",
      " - 99% Tile     :   5.183309\n",
      "Save output signals into checkpoint/1122-Scene3-CLSTM2-win30/sample/0074.npy\n"
     ]
    },
    {
     "name": "stderr",
     "output_type": "stream",
     "text": [
      "[0075/0100] Train: 100%|███████████████████████████████| 74/74 [00:03<00:00, 21.55it/s, loss 1.9165]\n",
      "[0075/0100] Validation: 100%|██████████████████████| 72/72 [00:02<00:00, 34.99it/s, val_loss 2.3198]\n",
      "[0076/0100] Train:   0%|                                                     | 0/74 [00:00<?, ?it/s]"
     ]
    },
    {
     "name": "stdout",
     "output_type": "stream",
     "text": [
      "val_loss is not improved for 4 epochs\n",
      "                  validation\n",
      " - Yaw          :   1.036045\n",
      " - Pitch        :   0.758116\n",
      " - Roll         :   0.615257\n",
      " - RMS          :   0.821923\n",
      " - 99% Tile     :   5.399572\n",
      "Save output signals into checkpoint/1122-Scene3-CLSTM2-win30/sample/0075.npy\n"
     ]
    },
    {
     "name": "stderr",
     "output_type": "stream",
     "text": [
      "[0076/0100] Train: 100%|███████████████████████████████| 74/74 [00:03<00:00, 22.50it/s, loss 1.9076]\n",
      "[0076/0100] Validation: 100%|██████████████████████| 72/72 [00:02<00:00, 34.82it/s, val_loss 2.1946]\n",
      "[0077/0100] Train:   0%|                                                     | 0/74 [00:00<?, ?it/s]"
     ]
    },
    {
     "name": "stdout",
     "output_type": "stream",
     "text": [
      "Decaying lr from 0.0005 to 0.00025 because val_loss did not improved for 5 epochs\n",
      "val_loss is not improved for 5 epochs\n",
      "                  validation\n",
      " - Yaw          :   0.938418\n",
      " - Pitch        :   0.765146\n",
      " - Roll         :   0.613635\n",
      " - RMS          :   0.783714\n",
      " - 99% Tile     :   5.181151\n",
      "Save output signals into checkpoint/1122-Scene3-CLSTM2-win30/sample/0076.npy\n"
     ]
    },
    {
     "name": "stderr",
     "output_type": "stream",
     "text": [
      "[0077/0100] Train: 100%|███████████████████████████████| 74/74 [00:03<00:00, 22.23it/s, loss 1.6990]\n",
      "[0077/0100] Validation: 100%|██████████████████████| 72/72 [00:02<00:00, 34.37it/s, val_loss 2.1447]\n",
      "[0078/0100] Train:   0%|                                                     | 0/74 [00:00<?, ?it/s]"
     ]
    },
    {
     "name": "stdout",
     "output_type": "stream",
     "text": [
      "val_loss is not improved for 6 epochs\n",
      "                  validation\n",
      " - Yaw          :   0.917062\n",
      " - Pitch        :   0.706124\n",
      " - Roll         :   0.625491\n",
      " - RMS          :   0.759573\n",
      " - 99% Tile     :   5.122910\n",
      "Save output signals into checkpoint/1122-Scene3-CLSTM2-win30/sample/0077.npy\n"
     ]
    },
    {
     "name": "stderr",
     "output_type": "stream",
     "text": [
      "[0078/0100] Train: 100%|███████████████████████████████| 74/74 [00:03<00:00, 21.35it/s, loss 1.6932]\n",
      "[0078/0100] Validation: 100%|██████████████████████| 72/72 [00:02<00:00, 34.60it/s, val_loss 2.2916]\n",
      "[0079/0100] Train:   0%|                                                     | 0/74 [00:00<?, ?it/s]"
     ]
    },
    {
     "name": "stdout",
     "output_type": "stream",
     "text": [
      "val_loss is not improved for 7 epochs\n",
      "                  validation\n",
      " - Yaw          :   1.190427\n",
      " - Pitch        :   0.712448\n",
      " - Roll         :   0.605661\n",
      " - RMS          :   0.873980\n",
      " - 99% Tile     :   5.044164\n",
      "Save output signals into checkpoint/1122-Scene3-CLSTM2-win30/sample/0078.npy\n"
     ]
    },
    {
     "name": "stderr",
     "output_type": "stream",
     "text": [
      "[0079/0100] Train: 100%|███████████████████████████████| 74/74 [00:03<00:00, 21.65it/s, loss 1.7541]\n",
      "[0079/0100] Validation: 100%|██████████████████████| 72/72 [00:02<00:00, 34.14it/s, val_loss 2.1821]\n",
      "[0080/0100] Train:   0%|                                                     | 0/74 [00:00<?, ?it/s]"
     ]
    },
    {
     "name": "stdout",
     "output_type": "stream",
     "text": [
      "val_loss is not improved for 8 epochs\n",
      "                  validation\n",
      " - Yaw          :   1.043263\n",
      " - Pitch        :   0.683484\n",
      " - Roll         :   0.602895\n",
      " - RMS          :   0.799798\n",
      " - 99% Tile     :   5.106524\n",
      "Save output signals into checkpoint/1122-Scene3-CLSTM2-win30/sample/0079.npy\n"
     ]
    },
    {
     "name": "stderr",
     "output_type": "stream",
     "text": [
      "[0080/0100] Train: 100%|███████████████████████████████| 74/74 [00:03<00:00, 22.60it/s, loss 1.7041]\n",
      "[0080/0100] Validation: 100%|██████████████████████| 72/72 [00:02<00:00, 34.03it/s, val_loss 2.0898]\n",
      "[0081/0100] Train:   0%|                                                     | 0/74 [00:00<?, ?it/s]"
     ]
    },
    {
     "name": "stdout",
     "output_type": "stream",
     "text": [
      "val_loss is not improved for 9 epochs\n",
      "                  validation\n",
      " - Yaw          :   0.938051\n",
      " - Pitch        :   0.732947\n",
      " - Roll         :   0.606357\n",
      " - RMS          :   0.771323\n",
      " - 99% Tile     :   5.089046\n",
      "Save output signals into checkpoint/1122-Scene3-CLSTM2-win30/sample/0080.npy\n"
     ]
    },
    {
     "name": "stderr",
     "output_type": "stream",
     "text": [
      "[0081/0100] Train: 100%|███████████████████████████████| 74/74 [00:03<00:00, 21.81it/s, loss 1.6352]\n",
      "[0081/0100] Validation: 100%|██████████████████████| 72/72 [00:02<00:00, 34.78it/s, val_loss 2.0860]"
     ]
    },
    {
     "name": "stdout",
     "output_type": "stream",
     "text": [
      "Decaying lr from 0.00025 to 0.000125 because val_loss did not improved for 5 epochs\n",
      "val_loss is not improved for 10 epochs\n",
      "Stop training because val_loss did not improved for 10 epochs\n",
      "                  validation\n",
      " - Yaw          :   0.952947\n",
      " - Pitch        :   0.710784\n",
      " - Roll         :   0.631511\n",
      " - RMS          :   0.777202\n",
      " - 99% Tile     :   5.072411\n",
      "Save output signals into checkpoint/1122-Scene3-CLSTM2-win30/sample/0081.npy\n"
     ]
    },
    {
     "name": "stderr",
     "output_type": "stream",
     "text": [
      "\n"
     ]
    }
   ],
   "source": [
    "trainer.fit(ds_train, ds_test, num_epochs=100, batch_size=256, shuffle=True, pin_memory=True)"
   ]
  },
  {
   "cell_type": "code",
   "execution_count": null,
   "metadata": {},
   "outputs": [],
   "source": []
  }
 ],
 "metadata": {
  "kernelspec": {
   "display_name": "torch",
   "language": "python",
   "name": "torch"
  },
  "language_info": {
   "codemirror_mode": {
    "name": "ipython",
    "version": 3
   },
   "file_extension": ".py",
   "mimetype": "text/x-python",
   "name": "python",
   "nbconvert_exporter": "python",
   "pygments_lexer": "ipython3",
   "version": "3.7.9"
  }
 },
 "nbformat": 4,
 "nbformat_minor": 4
}
