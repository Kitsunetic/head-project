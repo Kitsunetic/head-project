{
 "cells": [
  {
   "cell_type": "code",
   "execution_count": 1,
   "metadata": {},
   "outputs": [],
   "source": [
    "from multiprocessing import cpu_count\n",
    "from pathlib import Path\n",
    "from typing import List, Union, AnyStr\n",
    "from math import pi\n",
    "import pickle\n",
    "\n",
    "import numpy as np\n",
    "import torch\n",
    "import matplotlib.pyplot as plt\n",
    "import torch.nn as nn\n",
    "from sklearn import model_selection\n",
    "from tqdm import tqdm\n",
    "import torch_optimizer\n",
    "from torch.utils.data import Dataset\n",
    "import pandas as pd\n",
    "import random\n",
    "\n",
    "import torch_burn as tb\n",
    "import utils"
   ]
  },
  {
   "cell_type": "code",
   "execution_count": 2,
   "metadata": {},
   "outputs": [],
   "source": [
    "tb.seed_everything(0)"
   ]
  },
  {
   "cell_type": "code",
   "execution_count": 3,
   "metadata": {},
   "outputs": [],
   "source": [
    "EXPERIMENT_NAME = '1127-LSTM-FC-win48'\n",
    "CHECKPOINT_DIR = Path('checkpoint', EXPERIMENT_NAME)\n",
    "CHECKPOINT_DIR.mkdir(parents=True, exist_ok=True)\n",
    "\n",
    "DATA_DIR = Path('data/1116')\n",
    "TRAIN_FILES = sorted(list(DATA_DIR.glob('*scene3_0.csv')))\n",
    "TEST_FILES = sorted(list(DATA_DIR.glob('*scene3_1.csv')))"
   ]
  },
  {
   "cell_type": "markdown",
   "metadata": {},
   "source": [
    "# 데이터셋 생성\n",
    "\n",
    "scene1에 대해서 모든 user의 데이터를 하나로 합친다."
   ]
  },
  {
   "cell_type": "code",
   "execution_count": 4,
   "metadata": {},
   "outputs": [],
   "source": [
    "WINDOW_SIZE = 48"
   ]
  },
  {
   "cell_type": "code",
   "execution_count": 5,
   "metadata": {},
   "outputs": [],
   "source": [
    "class CSVSequentialDataset(Dataset):\n",
    "    def __init__(self, csvfile, window_size, stride):\n",
    "        super(CSVSequentialDataset, self).__init__()\n",
    "\n",
    "        self.xcols = ['input_orientation_yaw', 'input_orientation_pitch', 'input_orientation_roll',\n",
    "                      'acceleration_x', 'acceleration_y', 'acceleration_z']\n",
    "        self.ycols = ['input_orientation_yaw', 'input_orientation_pitch', 'input_orientation_roll']\n",
    "\n",
    "        self.csv = pd.read_csv(csvfile)\n",
    "        self.window_size = window_size\n",
    "        \n",
    "        self.indexes = []\n",
    "        i = 0\n",
    "        while i <= len(self.csv) - window_size * 2:\n",
    "            self.indexes.append((i, i + window_size))\n",
    "            i += stride\n",
    "\n",
    "    def __len__(self):\n",
    "        return len(self.indexes)\n",
    "\n",
    "    def __getitem__(self, idx):\n",
    "        sx, tx = self.indexes[idx]\n",
    "        sy, ty = sx + 18, tx + 18\n",
    "        x = self.csv.iloc[sx:tx][self.xcols].to_numpy()\n",
    "        y = self.csv.iloc[sy:ty][self.ycols].to_numpy()\n",
    "\n",
    "        x = torch.tensor(x, dtype=torch.float32) # 300, 6\n",
    "        y = torch.tensor(y, dtype=torch.float32) # 300, 3\n",
    "\n",
    "        return x, y"
   ]
  },
  {
   "cell_type": "code",
   "execution_count": 6,
   "metadata": {},
   "outputs": [],
   "source": [
    "ds_train = [CSVSequentialDataset(f, window_size=WINDOW_SIZE, stride=5) for f in TRAIN_FILES]\n",
    "ds_train = tb.data.ChainDataset(*ds_train)\n",
    "ds_test = [CSVSequentialDataset(f, window_size=WINDOW_SIZE, stride=5) for f in TEST_FILES]\n",
    "ds_test = tb.data.ChainDataset(*ds_test)"
   ]
  },
  {
   "cell_type": "code",
   "execution_count": 7,
   "metadata": {},
   "outputs": [
    {
     "data": {
      "text/plain": [
       "(11267, 10867)"
      ]
     },
     "execution_count": 7,
     "metadata": {},
     "output_type": "execute_result"
    }
   ],
   "source": [
    "len(ds_train), len(ds_test)"
   ]
  },
  {
   "cell_type": "code",
   "execution_count": 8,
   "metadata": {},
   "outputs": [
    {
     "data": {
      "text/plain": [
       "(torch.Size([48, 6]), torch.Size([48, 3]))"
      ]
     },
     "execution_count": 8,
     "metadata": {},
     "output_type": "execute_result"
    }
   ],
   "source": [
    "ds_train[0][0].shape, ds_train[0][1].shape"
   ]
  },
  {
   "cell_type": "code",
   "execution_count": 9,
   "metadata": {},
   "outputs": [],
   "source": [
    "x, y = ds_train[0]"
   ]
  },
  {
   "cell_type": "code",
   "execution_count": 10,
   "metadata": {},
   "outputs": [
    {
     "data": {
      "text/plain": [
       "torch.Size([48, 6])"
      ]
     },
     "execution_count": 10,
     "metadata": {},
     "output_type": "execute_result"
    }
   ],
   "source": [
    "x.shape"
   ]
  },
  {
   "cell_type": "code",
   "execution_count": 11,
   "metadata": {},
   "outputs": [
    {
     "data": {
      "image/png": "[encoded data removed]",
      "text/plain": [
       "<Figure size 864x216 with 3 Axes>"
      ]
     },
     "metadata": {
      "needs_background": "light"
     },
     "output_type": "display_data"
    }
   ],
   "source": [
    "plt.figure(figsize=(12, 3))\n",
    "\n",
    "plt.subplot(1, 3, 1)\n",
    "plt.plot(x[:, 0])\n",
    "plt.title('Yaw')\n",
    "\n",
    "plt.subplot(1, 3, 2)\n",
    "plt.plot(x[:, 1])\n",
    "plt.title('Pitch')\n",
    "\n",
    "plt.subplot(1, 3, 3)\n",
    "plt.plot(x[:, 2])\n",
    "plt.title('Roll')\n",
    "\n",
    "plt.tight_layout()\n",
    "plt.show()"
   ]
  },
  {
   "cell_type": "markdown",
   "metadata": {},
   "source": [
    "# 모델 생성\n",
    "\n",
    "StackedLSTM Bidirectional"
   ]
  },
  {
   "cell_type": "code",
   "execution_count": 12,
   "metadata": {},
   "outputs": [],
   "source": [
    "class M2M_LSTM(nn.Module):\n",
    "    def __init__(self):\n",
    "        super(M2M_LSTM, self).__init__()\n",
    "\n",
    "        self.rnn = nn.LSTM(input_size=6,\n",
    "                           hidden_size=64,\n",
    "                           num_layers=8,\n",
    "                           batch_first=True,\n",
    "                           dropout=0.2,\n",
    "                           bidirectional=True)\n",
    "\n",
    "        self.out = nn.LSTM(input_size=128, \n",
    "                           hidden_size=3, \n",
    "                           num_layers=1, \n",
    "                           batch_first=True, \n",
    "                           dropout=0, \n",
    "                           bidirectional=False)\n",
    "        self.fc = nn.Linear(128, 3)\n",
    "\n",
    "    def forward(self, x):\n",
    "        x, (hiddens, cells) = self.rnn(x) # B, S, 128\n",
    "        #x, (hiddens, cells) = self.out(x) # B, S, 3\n",
    "        hs = []\n",
    "        for i in range(x.shape[1]):\n",
    "            h = self.fc(x[:, i])\n",
    "            hs.append(h)\n",
    "        h = torch.stack(hs, 1)\n",
    "\n",
    "        return h"
   ]
  },
  {
   "cell_type": "code",
   "execution_count": 13,
   "metadata": {},
   "outputs": [],
   "source": [
    "model = M2M_LSTM().cuda()"
   ]
  },
  {
   "cell_type": "code",
   "execution_count": 14,
   "metadata": {},
   "outputs": [],
   "source": [
    "criterion = nn.MSELoss().cuda()\n",
    "optimizer = torch_optimizer.RAdam(model.parameters())"
   ]
  },
  {
   "cell_type": "code",
   "execution_count": 15,
   "metadata": {},
   "outputs": [],
   "source": [
    "class HPMetric(tb.metrics.InvisibleMetric):\n",
    "    def __init__(self, name: str):\n",
    "        super(HPMetric, self).__init__(name)\n",
    "\n",
    "        self.diff = []\n",
    "\n",
    "    def on_valid_epoch_end(self, epoch: int, logs: dict):\n",
    "        # RMS, 99% tile 출력\n",
    "        yaw_v, pitch_v, roll_v, rms_v, tile99_v = self._calc_values(self.diff)\n",
    "\n",
    "        print(f'                  validation')\n",
    "        print(f' - Yaw          : {yaw_v:10f}')\n",
    "        print(f' - Pitch        : {pitch_v:10f}')\n",
    "        print(f' - Roll         : {roll_v:10f}')\n",
    "        print(f' - RMS          : {rms_v:10f}')\n",
    "        print(f' - 99% Tile     : {tile99_v:10f}')\n",
    "\n",
    "        self.diff.clear()\n",
    "\n",
    "    def get_value(self, outputs: torch.Tensor, targets: torch.Tensor, is_train: bool):\n",
    "        if not is_train:\n",
    "            self.diff.append((outputs - targets).mean(1).detach().cpu())  # (B, S, 3) --> (B, 3)\n",
    "\n",
    "    @staticmethod\n",
    "    def _calc_values(diff):\n",
    "        diff = torch.cat(diff).abs_()  # (D, 3)\n",
    "        rms = (diff.square().sum(1) / 3).sqrt()\n",
    "        tile = rms.flatten().numpy()\n",
    "        tile99 = np.percentile(tile, 99)\n",
    "        \n",
    "        mrms = rms.mean()\n",
    "        \n",
    "        # diff = radian2degree(diff)\n",
    "        #tile = diff.flatten().numpy()\n",
    "        #tile99 = np.percentile(tile, 99)\n",
    "\n",
    "        mdiff = diff.mean(dim=0)\n",
    "        #rms = (mdiff.square().sum() / 3).sqrt()\n",
    "\n",
    "        return mdiff[0].item(), mdiff[1].item(), mdiff[2].item(), mrms.item(), tile99"
   ]
  },
  {
   "cell_type": "code",
   "execution_count": 16,
   "metadata": {},
   "outputs": [],
   "source": [
    "metrics = [tb.metrics.ModuleMetric(criterion, 'loss'),\n",
    "           HPMetric('hp_metric')]"
   ]
  },
  {
   "cell_type": "code",
   "execution_count": 17,
   "metadata": {},
   "outputs": [],
   "source": [
    "callbacks = [tb.callbacks.EarlyStopping(metrics[0]),\n",
    "             tb.callbacks.LRDecaying(optimizer, metrics[0], patience=3),\n",
    "             tb.callbacks.SaveCheckpoint({'model': model}, metrics[0], CHECKPOINT_DIR, 'best-ckpt.pth')]"
   ]
  },
  {
   "cell_type": "code",
   "execution_count": 18,
   "metadata": {},
   "outputs": [],
   "source": [
    "trainer = tb.Trainer(model, optimizer, metrics, callbacks, ncols=100)"
   ]
  },
  {
   "cell_type": "code",
   "execution_count": 19,
   "metadata": {},
   "outputs": [
    {
     "name": "stderr",
     "output_type": "stream",
     "text": [
      "[0001/0200] Train: 100%|█████████████████████████████| 45/45 [00:06<00:00,  6.67it/s, loss 291.0508]\n",
      "[0001/0200] Validation: 100%|████████████████████| 43/43 [00:03<00:00, 11.35it/s, val_loss 236.2960]\n",
      "[0002/0200] Train:   0%|                                                     | 0/45 [00:00<?, ?it/s]"
     ]
    },
    {
     "name": "stdout",
     "output_type": "stream",
     "text": [
      "Save checkpoint: val_loss decreased from inf to 236.29599469207054\n",
      "                  validation\n",
      " - Yaw          :  19.286026\n",
      " - Pitch        :  10.482852\n",
      " - Roll         :   2.533994\n",
      " - RMS          :  13.695770\n",
      " - 99% Tile     :  28.262603\n"
     ]
    },
    {
     "name": "stderr",
     "output_type": "stream",
     "text": [
      "[0002/0200] Train: 100%|█████████████████████████████| 45/45 [00:06<00:00,  7.24it/s, loss 261.3480]\n",
      "[0002/0200] Validation: 100%|████████████████████| 43/43 [00:03<00:00, 12.26it/s, val_loss 193.0498]\n",
      "[0003/0200] Train:   0%|                                                     | 0/45 [00:00<?, ?it/s]"
     ]
    },
    {
     "name": "stdout",
     "output_type": "stream",
     "text": [
      "Save checkpoint: val_loss decreased from 236.29599469207054 to 193.04975443108137\n",
      "                  validation\n",
      " - Yaw          :  16.864494\n",
      " - Pitch        :   9.294923\n",
      " - Roll         :   2.531753\n",
      " - RMS          :  12.142911\n",
      " - 99% Tile     :  26.251199\n"
     ]
    },
    {
     "name": "stderr",
     "output_type": "stream",
     "text": [
      "[0003/0200] Train: 100%|█████████████████████████████| 45/45 [00:06<00:00,  6.96it/s, loss 216.6781]\n",
      "[0003/0200] Validation: 100%|████████████████████| 43/43 [00:03<00:00, 11.91it/s, val_loss 153.1266]\n",
      "[0004/0200] Train:   0%|                                                     | 0/45 [00:00<?, ?it/s]"
     ]
    },
    {
     "name": "stdout",
     "output_type": "stream",
     "text": [
      "Save checkpoint: val_loss decreased from 193.04975443108137 to 153.12663504134775\n",
      "                  validation\n",
      " - Yaw          :  14.154283\n",
      " - Pitch        :   8.476082\n",
      " - Roll         :   2.424948\n",
      " - RMS          :  10.566333\n",
      " - 99% Tile     :  23.939721\n"
     ]
    },
    {
     "name": "stderr",
     "output_type": "stream",
     "text": [
      "[0004/0200] Train: 100%|█████████████████████████████| 45/45 [00:06<00:00,  6.64it/s, loss 175.9440]\n",
      "[0004/0200] Validation: 100%|████████████████████| 43/43 [00:03<00:00, 10.93it/s, val_loss 125.7963]\n",
      "[0005/0200] Train:   0%|                                                     | 0/45 [00:00<?, ?it/s]"
     ]
    },
    {
     "name": "stdout",
     "output_type": "stream",
     "text": [
      "Save checkpoint: val_loss decreased from 153.12663504134775 to 125.79630013399346\n",
      "                  validation\n",
      " - Yaw          :  12.252104\n",
      " - Pitch        :   7.956457\n",
      " - Roll         :   2.327609\n",
      " - RMS          :   9.352292\n",
      " - 99% Tile     :  22.469343\n"
     ]
    },
    {
     "name": "stderr",
     "output_type": "stream",
     "text": [
      "[0005/0200] Train: 100%|█████████████████████████████| 45/45 [00:08<00:00,  5.05it/s, loss 150.6203]\n",
      "[0005/0200] Validation: 100%|████████████████████| 43/43 [00:02<00:00, 15.23it/s, val_loss 107.5374]\n",
      "[0006/0200] Train:   0%|                                                     | 0/45 [00:00<?, ?it/s]"
     ]
    },
    {
     "name": "stdout",
     "output_type": "stream",
     "text": [
      "Save checkpoint: val_loss decreased from 125.79630013399346 to 107.53736072362855\n",
      "                  validation\n",
      " - Yaw          :  11.145312\n",
      " - Pitch        :   7.428315\n",
      " - Roll         :   2.347307\n",
      " - RMS          :   8.572886\n",
      " - 99% Tile     :  21.349171\n"
     ]
    },
    {
     "name": "stderr",
     "output_type": "stream",
     "text": [
      "[0006/0200] Train: 100%|█████████████████████████████| 45/45 [00:07<00:00,  5.87it/s, loss 132.9821]\n",
      "[0006/0200] Validation: 100%|█████████████████████| 43/43 [00:04<00:00,  9.62it/s, val_loss 90.7016]\n",
      "[0007/0200] Train:   0%|                                                     | 0/45 [00:00<?, ?it/s]"
     ]
    },
    {
     "name": "stdout",
     "output_type": "stream",
     "text": [
      "Save checkpoint: val_loss decreased from 107.53736072362855 to 90.70161150777064\n",
      "                  validation\n",
      " - Yaw          :   9.770895\n",
      " - Pitch        :   6.769597\n",
      " - Roll         :   2.310918\n",
      " - RMS          :   7.681960\n",
      " - 99% Tile     :  20.212653\n"
     ]
    },
    {
     "name": "stderr",
     "output_type": "stream",
     "text": [
      "[0007/0200] Train: 100%|█████████████████████████████| 45/45 [00:07<00:00,  5.73it/s, loss 111.5657]\n",
      "[0007/0200] Validation: 100%|█████████████████████| 43/43 [00:03<00:00, 12.06it/s, val_loss 80.2060]\n",
      "[0008/0200] Train:   0%|                                                     | 0/45 [00:00<?, ?it/s]"
     ]
    },
    {
     "name": "stdout",
     "output_type": "stream",
     "text": [
      "Save checkpoint: val_loss decreased from 90.70161150777064 to 80.20603428330533\n",
      "                  validation\n",
      " - Yaw          :   8.947951\n",
      " - Pitch        :   6.855727\n",
      " - Roll         :   2.256900\n",
      " - RMS          :   7.342682\n",
      " - 99% Tile     :  19.372895\n"
     ]
    },
    {
     "name": "stderr",
     "output_type": "stream",
     "text": [
      "[0008/0200] Train: 100%|██████████████████████████████| 45/45 [00:07<00:00,  6.22it/s, loss 99.9771]\n",
      "[0008/0200] Validation: 100%|█████████████████████| 43/43 [00:04<00:00, 10.00it/s, val_loss 67.0178]\n",
      "[0009/0200] Train:   0%|                                                     | 0/45 [00:00<?, ?it/s]"
     ]
    },
    {
     "name": "stdout",
     "output_type": "stream",
     "text": [
      "Save checkpoint: val_loss decreased from 80.20603428330533 to 67.01780872012294\n",
      "                  validation\n",
      " - Yaw          :   7.426291\n",
      " - Pitch        :   6.054201\n",
      " - Roll         :   2.328977\n",
      " - RMS          :   6.428777\n",
      " - 99% Tile     :  18.542337\n"
     ]
    },
    {
     "name": "stderr",
     "output_type": "stream",
     "text": [
      "[0009/0200] Train: 100%|██████████████████████████████| 45/45 [00:08<00:00,  5.41it/s, loss 84.6680]\n",
      "[0009/0200] Validation: 100%|█████████████████████| 43/43 [00:04<00:00,  8.81it/s, val_loss 57.0260]\n",
      "[0010/0200] Train:   0%|                                                     | 0/45 [00:00<?, ?it/s]"
     ]
    },
    {
     "name": "stdout",
     "output_type": "stream",
     "text": [
      "Save checkpoint: val_loss decreased from 67.01780872012294 to 57.02597615053487\n",
      "                  validation\n",
      " - Yaw          :   6.894256\n",
      " - Pitch        :   5.388184\n",
      " - Roll         :   2.305639\n",
      " - RMS          :   5.839835\n",
      " - 99% Tile     :  17.551035\n"
     ]
    },
    {
     "name": "stderr",
     "output_type": "stream",
     "text": [
      "[0010/0200] Train: 100%|██████████████████████████████| 45/45 [00:08<00:00,  5.32it/s, loss 73.5822]\n",
      "[0010/0200] Validation: 100%|█████████████████████| 43/43 [00:03<00:00, 11.76it/s, val_loss 48.9655]\n",
      "[0011/0200] Train:   0%|                                                     | 0/45 [00:00<?, ?it/s]"
     ]
    },
    {
     "name": "stdout",
     "output_type": "stream",
     "text": [
      "Save checkpoint: val_loss decreased from 57.02597615053487 to 48.965486817581706\n",
      "                  validation\n",
      " - Yaw          :   5.696889\n",
      " - Pitch        :   5.234534\n",
      " - Roll         :   2.330967\n",
      " - RMS          :   5.330277\n",
      " - 99% Tile     :  16.697451\n"
     ]
    },
    {
     "name": "stderr",
     "output_type": "stream",
     "text": [
      "[0011/0200] Train: 100%|██████████████████████████████| 45/45 [00:07<00:00,  6.19it/s, loss 65.3579]\n",
      "[0011/0200] Validation: 100%|█████████████████████| 43/43 [00:04<00:00,  9.91it/s, val_loss 42.6771]\n",
      "[0012/0200] Train:   0%|                                                     | 0/45 [00:00<?, ?it/s]"
     ]
    },
    {
     "name": "stdout",
     "output_type": "stream",
     "text": [
      "Save checkpoint: val_loss decreased from 48.965486817581706 to 42.67712376006814\n",
      "                  validation\n",
      " - Yaw          :   5.552153\n",
      " - Pitch        :   4.664537\n",
      " - Roll         :   2.335112\n",
      " - RMS          :   4.948737\n",
      " - 99% Tile     :  15.974994\n"
     ]
    },
    {
     "name": "stderr",
     "output_type": "stream",
     "text": [
      "[0012/0200] Train: 100%|██████████████████████████████| 45/45 [00:08<00:00,  5.41it/s, loss 57.1591]\n",
      "[0012/0200] Validation: 100%|█████████████████████| 43/43 [00:03<00:00, 12.61it/s, val_loss 36.6863]\n",
      "[0013/0200] Train:   0%|                                                     | 0/45 [00:00<?, ?it/s]"
     ]
    },
    {
     "name": "stdout",
     "output_type": "stream",
     "text": [
      "Save checkpoint: val_loss decreased from 42.67712376006814 to 36.68631338518719\n",
      "                  validation\n",
      " - Yaw          :   4.561657\n",
      " - Pitch        :   4.459445\n",
      " - Roll         :   2.321235\n",
      " - RMS          :   4.519418\n",
      " - 99% Tile     :  15.277945\n"
     ]
    },
    {
     "name": "stderr",
     "output_type": "stream",
     "text": [
      "[0013/0200] Train: 100%|██████████████████████████████| 45/45 [00:07<00:00,  6.13it/s, loss 51.4261]\n",
      "[0013/0200] Validation: 100%|█████████████████████| 43/43 [00:04<00:00, 10.40it/s, val_loss 42.5373]\n",
      "[0014/0200] Train:   0%|                                                     | 0/45 [00:00<?, ?it/s]"
     ]
    },
    {
     "name": "stdout",
     "output_type": "stream",
     "text": [
      "val_loss is not improved for 1 epochs\n",
      "                  validation\n",
      " - Yaw          :   7.479107\n",
      " - Pitch        :   3.337605\n",
      " - Roll         :   2.368012\n",
      " - RMS          :   5.403148\n",
      " - 99% Tile     :  14.692805\n"
     ]
    },
    {
     "name": "stderr",
     "output_type": "stream",
     "text": [
      "[0014/0200] Train: 100%|██████████████████████████████| 45/45 [00:07<00:00,  5.65it/s, loss 46.0222]\n",
      "[0014/0200] Validation: 100%|█████████████████████| 43/43 [00:04<00:00, 10.12it/s, val_loss 28.5352]\n",
      "[0015/0200] Train:   0%|                                                     | 0/45 [00:00<?, ?it/s]"
     ]
    },
    {
     "name": "stdout",
     "output_type": "stream",
     "text": [
      "Save checkpoint: val_loss decreased from 36.68631338518719 to 28.535166833289836\n",
      "                  validation\n",
      " - Yaw          :   3.761117\n",
      " - Pitch        :   3.809456\n",
      " - Roll         :   2.347898\n",
      " - RMS          :   3.877269\n",
      " - 99% Tile     :  13.919118\n"
     ]
    },
    {
     "name": "stderr",
     "output_type": "stream",
     "text": [
      "[0015/0200] Train: 100%|██████████████████████████████| 45/45 [00:08<00:00,  5.40it/s, loss 41.9622]\n",
      "[0015/0200] Validation: 100%|█████████████████████| 43/43 [00:03<00:00, 12.26it/s, val_loss 24.2051]\n",
      "[0016/0200] Train:   0%|                                                     | 0/45 [00:00<?, ?it/s]"
     ]
    },
    {
     "name": "stdout",
     "output_type": "stream",
     "text": [
      "Save checkpoint: val_loss decreased from 28.535166833289836 to 24.205138984114626\n",
      "                  validation\n",
      " - Yaw          :   3.223563\n",
      " - Pitch        :   3.492554\n",
      " - Roll         :   2.307277\n",
      " - RMS          :   3.538978\n",
      " - 99% Tile     :  13.365900\n"
     ]
    },
    {
     "name": "stderr",
     "output_type": "stream",
     "text": [
      "[0016/0200] Train: 100%|██████████████████████████████| 45/45 [00:06<00:00,  6.63it/s, loss 34.8593]\n",
      "[0016/0200] Validation: 100%|█████████████████████| 43/43 [00:03<00:00, 11.34it/s, val_loss 21.6216]\n",
      "[0017/0200] Train:   0%|                                                     | 0/45 [00:00<?, ?it/s]"
     ]
    },
    {
     "name": "stdout",
     "output_type": "stream",
     "text": [
      "Save checkpoint: val_loss decreased from 24.205138984114626 to 21.621641917284144\n",
      "                  validation\n",
      " - Yaw          :   3.362989\n",
      " - Pitch        :   3.045101\n",
      " - Roll         :   2.298156\n",
      " - RMS          :   3.391119\n",
      " - 99% Tile     :  12.701631\n"
     ]
    },
    {
     "name": "stderr",
     "output_type": "stream",
     "text": [
      "[0017/0200] Train: 100%|██████████████████████████████| 45/45 [00:07<00:00,  5.74it/s, loss 31.1360]\n",
      "[0017/0200] Validation: 100%|█████████████████████| 43/43 [00:03<00:00, 13.14it/s, val_loss 18.7820]\n",
      "[0018/0200] Train:   0%|                                                     | 0/45 [00:00<?, ?it/s]"
     ]
    },
    {
     "name": "stdout",
     "output_type": "stream",
     "text": [
      "Save checkpoint: val_loss decreased from 21.621641917284144 to 18.78198414070662\n",
      "                  validation\n",
      " - Yaw          :   2.709467\n",
      " - Pitch        :   2.784560\n",
      " - Roll         :   2.311839\n",
      " - RMS          :   3.071049\n",
      " - 99% Tile     :  12.193050\n"
     ]
    },
    {
     "name": "stderr",
     "output_type": "stream",
     "text": [
      "[0018/0200] Train: 100%|██████████████████████████████| 45/45 [00:07<00:00,  5.83it/s, loss 27.9580]\n",
      "[0018/0200] Validation: 100%|█████████████████████| 43/43 [00:04<00:00,  9.32it/s, val_loss 17.5399]\n",
      "[0019/0200] Train:   0%|                                                     | 0/45 [00:00<?, ?it/s]"
     ]
    },
    {
     "name": "stdout",
     "output_type": "stream",
     "text": [
      "Save checkpoint: val_loss decreased from 18.78198414070662 to 17.539858086164607\n",
      "                  validation\n",
      " - Yaw          :   2.946572\n",
      " - Pitch        :   2.401314\n",
      " - Roll         :   2.316096\n",
      " - RMS          :   3.058942\n",
      " - 99% Tile     :  11.683297\n"
     ]
    },
    {
     "name": "stderr",
     "output_type": "stream",
     "text": [
      "[0019/0200] Train: 100%|██████████████████████████████| 45/45 [00:07<00:00,  5.71it/s, loss 25.6552]\n",
      "[0019/0200] Validation: 100%|█████████████████████| 43/43 [00:04<00:00,  9.17it/s, val_loss 15.4603]\n",
      "[0020/0200] Train:   0%|                                                     | 0/45 [00:00<?, ?it/s]"
     ]
    },
    {
     "name": "stdout",
     "output_type": "stream",
     "text": [
      "Save checkpoint: val_loss decreased from 17.539858086164607 to 15.460298272066337\n",
      "                  validation\n",
      " - Yaw          :   2.261628\n",
      " - Pitch        :   2.588757\n",
      " - Roll         :   2.248848\n",
      " - RMS          :   2.788902\n",
      " - 99% Tile     :  11.306907\n"
     ]
    },
    {
     "name": "stderr",
     "output_type": "stream",
     "text": [
      "[0020/0200] Train: 100%|██████████████████████████████| 45/45 [00:09<00:00,  4.86it/s, loss 23.4873]\n",
      "[0020/0200] Validation: 100%|█████████████████████| 43/43 [00:03<00:00, 11.30it/s, val_loss 13.8090]\n",
      "[0021/0200] Train:   0%|                                                     | 0/45 [00:00<?, ?it/s]"
     ]
    },
    {
     "name": "stdout",
     "output_type": "stream",
     "text": [
      "Save checkpoint: val_loss decreased from 15.460298272066337 to 13.80896971392077\n",
      "                  validation\n",
      " - Yaw          :   1.929645\n",
      " - Pitch        :   2.292183\n",
      " - Roll         :   2.277326\n",
      " - RMS          :   2.574721\n",
      " - 99% Tile     :  10.806915\n"
     ]
    },
    {
     "name": "stderr",
     "output_type": "stream",
     "text": [
      "[0021/0200] Train: 100%|██████████████████████████████| 45/45 [00:07<00:00,  6.23it/s, loss 21.3148]\n",
      "[0021/0200] Validation: 100%|█████████████████████| 43/43 [00:03<00:00, 11.25it/s, val_loss 12.8043]\n",
      "[0022/0200] Train:   0%|                                                     | 0/45 [00:00<?, ?it/s]"
     ]
    },
    {
     "name": "stdout",
     "output_type": "stream",
     "text": [
      "Save checkpoint: val_loss decreased from 13.80896971392077 to 12.804284088833384\n",
      "                  validation\n",
      " - Yaw          :   2.218327\n",
      " - Pitch        :   1.947723\n",
      " - Roll         :   2.254774\n",
      " - RMS          :   2.526402\n",
      " - 99% Tile     :  10.420835\n"
     ]
    },
    {
     "name": "stderr",
     "output_type": "stream",
     "text": [
      "[0022/0200] Train: 100%|██████████████████████████████| 45/45 [00:08<00:00,  5.34it/s, loss 19.8575]\n",
      "[0022/0200] Validation: 100%|█████████████████████| 43/43 [00:03<00:00, 12.06it/s, val_loss 13.0937]\n",
      "[0023/0200] Train:   0%|                                                     | 0/45 [00:00<?, ?it/s]"
     ]
    },
    {
     "name": "stdout",
     "output_type": "stream",
     "text": [
      "val_loss is not improved for 1 epochs\n",
      "                  validation\n",
      " - Yaw          :   2.244944\n",
      " - Pitch        :   2.420095\n",
      " - Roll         :   2.254558\n",
      " - RMS          :   2.680655\n",
      " - 99% Tile     :  10.166665\n"
     ]
    },
    {
     "name": "stderr",
     "output_type": "stream",
     "text": [
      "[0023/0200] Train: 100%|██████████████████████████████| 45/45 [00:09<00:00,  4.76it/s, loss 19.8665]\n",
      "[0023/0200] Validation: 100%|█████████████████████| 43/43 [00:04<00:00,  9.90it/s, val_loss 11.3906]\n",
      "[0024/0200] Train:   0%|                                                     | 0/45 [00:00<?, ?it/s]"
     ]
    },
    {
     "name": "stdout",
     "output_type": "stream",
     "text": [
      "Save checkpoint: val_loss decreased from 12.804284088833384 to 11.390624744947566\n",
      "                  validation\n",
      " - Yaw          :   2.032191\n",
      " - Pitch        :   1.759062\n",
      " - Roll         :   2.269234\n",
      " - RMS          :   2.412446\n",
      " - 99% Tile     :   9.858494\n"
     ]
    },
    {
     "name": "stderr",
     "output_type": "stream",
     "text": [
      "[0024/0200] Train: 100%|██████████████████████████████| 45/45 [00:08<00:00,  5.37it/s, loss 17.1513]\n",
      "[0024/0200] Validation: 100%|█████████████████████| 43/43 [00:02<00:00, 17.31it/s, val_loss 10.8326]\n",
      "[0025/0200] Train:   0%|                                                     | 0/45 [00:00<?, ?it/s]"
     ]
    },
    {
     "name": "stdout",
     "output_type": "stream",
     "text": [
      "Save checkpoint: val_loss decreased from 11.390624744947566 to 10.832576798838241\n",
      "                  validation\n",
      " - Yaw          :   1.826668\n",
      " - Pitch        :   1.968393\n",
      " - Roll         :   2.275218\n",
      " - RMS          :   2.354291\n",
      " - 99% Tile     :   9.621049\n"
     ]
    },
    {
     "name": "stderr",
     "output_type": "stream",
     "text": [
      "[0025/0200] Train: 100%|██████████████████████████████| 45/45 [00:07<00:00,  5.97it/s, loss 16.1081]\n",
      "[0025/0200] Validation: 100%|█████████████████████| 43/43 [00:02<00:00, 18.16it/s, val_loss 10.0820]\n",
      "[0026/0200] Train:   0%|                                                     | 0/45 [00:00<?, ?it/s]"
     ]
    },
    {
     "name": "stdout",
     "output_type": "stream",
     "text": [
      "Save checkpoint: val_loss decreased from 10.832576798838241 to 10.081992343414663\n",
      "                  validation\n",
      " - Yaw          :   1.693180\n",
      " - Pitch        :   1.813743\n",
      " - Roll         :   2.215575\n",
      " - RMS          :   2.260662\n",
      " - 99% Tile     :   9.247409\n"
     ]
    },
    {
     "name": "stderr",
     "output_type": "stream",
     "text": [
      "[0026/0200] Train: 100%|██████████████████████████████| 45/45 [00:06<00:00,  7.21it/s, loss 15.2192]\n",
      "[0026/0200] Validation: 100%|██████████████████████| 43/43 [00:02<00:00, 15.60it/s, val_loss 9.3864]\n",
      "[0027/0200] Train:   0%|                                                     | 0/45 [00:00<?, ?it/s]"
     ]
    },
    {
     "name": "stdout",
     "output_type": "stream",
     "text": [
      "Save checkpoint: val_loss decreased from 10.081992343414663 to 9.386356789012288\n",
      "                  validation\n",
      " - Yaw          :   1.539063\n",
      " - Pitch        :   1.692765\n",
      " - Roll         :   2.215503\n",
      " - RMS          :   2.148699\n",
      " - 99% Tile     :   8.894453\n"
     ]
    },
    {
     "name": "stderr",
     "output_type": "stream",
     "text": [
      "[0027/0200] Train: 100%|██████████████████████████████| 45/45 [00:09<00:00,  4.73it/s, loss 14.8338]\n",
      "[0027/0200] Validation: 100%|█████████████████████| 43/43 [00:04<00:00, 10.03it/s, val_loss 13.8565]\n",
      "[0028/0200] Train:   0%|                                                     | 0/45 [00:00<?, ?it/s]"
     ]
    },
    {
     "name": "stdout",
     "output_type": "stream",
     "text": [
      "val_loss is not improved for 1 epochs\n",
      "                  validation\n",
      " - Yaw          :   2.976531\n",
      " - Pitch        :   1.418044\n",
      " - Roll         :   2.191125\n",
      " - RMS          :   2.735181\n",
      " - 99% Tile     :   8.963810\n"
     ]
    },
    {
     "name": "stderr",
     "output_type": "stream",
     "text": [
      "[0028/0200] Train: 100%|██████████████████████████████| 45/45 [00:09<00:00,  4.89it/s, loss 14.9076]\n",
      "[0028/0200] Validation: 100%|██████████████████████| 43/43 [00:03<00:00, 11.40it/s, val_loss 8.5278]\n",
      "[0029/0200] Train:   0%|                                                     | 0/45 [00:00<?, ?it/s]"
     ]
    },
    {
     "name": "stdout",
     "output_type": "stream",
     "text": [
      "Save checkpoint: val_loss decreased from 9.386356789012288 to 8.527769241222115\n",
      "                  validation\n",
      " - Yaw          :   1.366929\n",
      " - Pitch        :   1.268906\n",
      " - Roll         :   2.213855\n",
      " - RMS          :   1.987393\n",
      " - 99% Tile     :   8.375863\n"
     ]
    },
    {
     "name": "stderr",
     "output_type": "stream",
     "text": [
      "[0029/0200] Train: 100%|██████████████████████████████| 45/45 [00:08<00:00,  5.24it/s, loss 12.8417]\n",
      "[0029/0200] Validation: 100%|██████████████████████| 43/43 [00:04<00:00, 10.51it/s, val_loss 8.3928]\n",
      "[0030/0200] Train:   0%|                                                     | 0/45 [00:00<?, ?it/s]"
     ]
    },
    {
     "name": "stdout",
     "output_type": "stream",
     "text": [
      "Save checkpoint: val_loss decreased from 8.527769241222115 to 8.392807530802349\n",
      "                  validation\n",
      " - Yaw          :   1.654665\n",
      " - Pitch        :   1.281589\n",
      " - Roll         :   2.191166\n",
      " - RMS          :   2.055547\n",
      " - 99% Tile     :   8.077012\n"
     ]
    },
    {
     "name": "stderr",
     "output_type": "stream",
     "text": [
      "[0030/0200] Train: 100%|██████████████████████████████| 45/45 [00:09<00:00,  4.82it/s, loss 12.1983]\n",
      "[0030/0200] Validation: 100%|██████████████████████| 43/43 [00:03<00:00, 11.11it/s, val_loss 8.2061]\n",
      "[0031/0200] Train:   0%|                                                     | 0/45 [00:00<?, ?it/s]"
     ]
    },
    {
     "name": "stdout",
     "output_type": "stream",
     "text": [
      "Save checkpoint: val_loss decreased from 8.392807530802349 to 8.206110117047333\n",
      "                  validation\n",
      " - Yaw          :   1.494579\n",
      " - Pitch        :   1.287383\n",
      " - Roll         :   2.178261\n",
      " - RMS          :   2.014854\n",
      " - 99% Tile     :   7.973408\n"
     ]
    },
    {
     "name": "stderr",
     "output_type": "stream",
     "text": [
      "[0031/0200] Train: 100%|██████████████████████████████| 45/45 [00:10<00:00,  4.43it/s, loss 11.8049]\n",
      "[0031/0200] Validation: 100%|██████████████████████| 43/43 [00:03<00:00, 12.14it/s, val_loss 8.1782]\n",
      "[0032/0200] Train:   0%|                                                     | 0/45 [00:00<?, ?it/s]"
     ]
    },
    {
     "name": "stdout",
     "output_type": "stream",
     "text": [
      "Save checkpoint: val_loss decreased from 8.206110117047333 to 8.178203130877295\n",
      "                  validation\n",
      " - Yaw          :   1.555979\n",
      " - Pitch        :   1.294243\n",
      " - Roll         :   2.209146\n",
      " - RMS          :   2.040134\n",
      " - 99% Tile     :   7.718905\n"
     ]
    },
    {
     "name": "stderr",
     "output_type": "stream",
     "text": [
      "[0032/0200] Train: 100%|██████████████████████████████| 45/45 [00:08<00:00,  5.58it/s, loss 11.2034]\n",
      "[0032/0200] Validation: 100%|██████████████████████| 43/43 [00:05<00:00,  8.14it/s, val_loss 7.9987]\n",
      "[0033/0200] Train:   0%|                                                     | 0/45 [00:00<?, ?it/s]"
     ]
    },
    {
     "name": "stdout",
     "output_type": "stream",
     "text": [
      "Save checkpoint: val_loss decreased from 8.178203130877295 to 7.998656332492829\n",
      "                  validation\n",
      " - Yaw          :   1.359066\n",
      " - Pitch        :   1.433862\n",
      " - Roll         :   2.179157\n",
      " - RMS          :   1.993858\n",
      " - 99% Tile     :   7.602064\n"
     ]
    },
    {
     "name": "stderr",
     "output_type": "stream",
     "text": [
      "[0033/0200] Train: 100%|██████████████████████████████| 45/45 [00:10<00:00,  4.14it/s, loss 11.3347]\n",
      "[0033/0200] Validation: 100%|██████████████████████| 43/43 [00:04<00:00,  9.97it/s, val_loss 7.6445]\n",
      "[0034/0200] Train:   0%|                                                     | 0/45 [00:00<?, ?it/s]"
     ]
    },
    {
     "name": "stdout",
     "output_type": "stream",
     "text": [
      "Save checkpoint: val_loss decreased from 7.998656332492829 to 7.644460879092993\n",
      "                  validation\n",
      " - Yaw          :   1.211520\n",
      " - Pitch        :   1.374613\n",
      " - Roll         :   2.161777\n",
      " - RMS          :   1.921881\n",
      " - 99% Tile     :   7.632260\n"
     ]
    },
    {
     "name": "stderr",
     "output_type": "stream",
     "text": [
      "[0034/0200] Train: 100%|██████████████████████████████| 45/45 [00:09<00:00,  4.58it/s, loss 10.3719]\n",
      "[0034/0200] Validation: 100%|█████████████████████| 43/43 [00:04<00:00,  9.09it/s, val_loss 13.2273]\n",
      "[0035/0200] Train:   0%|                                                     | 0/45 [00:00<?, ?it/s]"
     ]
    },
    {
     "name": "stdout",
     "output_type": "stream",
     "text": [
      "val_loss is not improved for 1 epochs\n",
      "                  validation\n",
      " - Yaw          :   3.281046\n",
      " - Pitch        :   1.116425\n",
      " - Roll         :   2.351586\n",
      " - RMS          :   2.825332\n",
      " - 99% Tile     :   9.262995\n"
     ]
    },
    {
     "name": "stderr",
     "output_type": "stream",
     "text": [
      "[0035/0200] Train: 100%|██████████████████████████████| 45/45 [00:09<00:00,  4.64it/s, loss 11.4188]\n",
      "[0035/0200] Validation: 100%|██████████████████████| 43/43 [00:04<00:00,  9.70it/s, val_loss 7.5038]\n",
      "[0036/0200] Train:   0%|                                                     | 0/45 [00:00<?, ?it/s]"
     ]
    },
    {
     "name": "stdout",
     "output_type": "stream",
     "text": [
      "Save checkpoint: val_loss decreased from 7.644460879092993 to 7.503813105960225\n",
      "                  validation\n",
      " - Yaw          :   1.441166\n",
      " - Pitch        :   1.268260\n",
      " - Roll         :   2.202629\n",
      " - RMS          :   1.979774\n",
      " - 99% Tile     :   7.265452\n"
     ]
    },
    {
     "name": "stderr",
     "output_type": "stream",
     "text": [
      "[0036/0200] Train: 100%|██████████████████████████████| 45/45 [00:10<00:00,  4.14it/s, loss 10.2011]\n",
      "[0036/0200] Validation: 100%|██████████████████████| 43/43 [00:04<00:00, 10.49it/s, val_loss 7.3325]\n",
      "[0037/0200] Train:   0%|                                                     | 0/45 [00:00<?, ?it/s]"
     ]
    },
    {
     "name": "stdout",
     "output_type": "stream",
     "text": [
      "Save checkpoint: val_loss decreased from 7.503813105960225 to 7.332473247550254\n",
      "                  validation\n",
      " - Yaw          :   1.177081\n",
      " - Pitch        :   1.522717\n",
      " - Roll         :   2.160764\n",
      " - RMS          :   1.934244\n",
      " - 99% Tile     :   7.249315\n"
     ]
    },
    {
     "name": "stderr",
     "output_type": "stream",
     "text": [
      "[0037/0200] Train: 100%|███████████████████████████████| 45/45 [00:08<00:00,  5.51it/s, loss 9.4943]\n",
      "[0037/0200] Validation: 100%|██████████████████████| 43/43 [00:05<00:00,  7.81it/s, val_loss 6.6546]\n",
      "[0038/0200] Train:   0%|                                                     | 0/45 [00:00<?, ?it/s]"
     ]
    },
    {
     "name": "stdout",
     "output_type": "stream",
     "text": [
      "Save checkpoint: val_loss decreased from 7.332473247550254 to 6.654629509116328\n",
      "                  validation\n",
      " - Yaw          :   1.060171\n",
      " - Pitch        :   1.121387\n",
      " - Roll         :   2.193003\n",
      " - RMS          :   1.778472\n",
      " - 99% Tile     :   7.000755\n"
     ]
    },
    {
     "name": "stderr",
     "output_type": "stream",
     "text": [
      "[0038/0200] Train: 100%|███████████████████████████████| 45/45 [00:11<00:00,  4.05it/s, loss 8.9222]\n",
      "[0038/0200] Validation: 100%|██████████████████████| 43/43 [00:03<00:00, 11.20it/s, val_loss 7.7091]\n",
      "[0039/0200] Train:   0%|                                                     | 0/45 [00:00<?, ?it/s]"
     ]
    },
    {
     "name": "stdout",
     "output_type": "stream",
     "text": [
      "val_loss is not improved for 1 epochs\n",
      "                  validation\n",
      " - Yaw          :   1.934958\n",
      " - Pitch        :   1.085124\n",
      " - Roll         :   2.176430\n",
      " - RMS          :   2.090995\n",
      " - 99% Tile     :   6.955108\n"
     ]
    },
    {
     "name": "stderr",
     "output_type": "stream",
     "text": [
      "[0039/0200] Train: 100%|███████████████████████████████| 45/45 [00:09<00:00,  4.97it/s, loss 8.7465]\n",
      "[0039/0200] Validation: 100%|██████████████████████| 43/43 [00:05<00:00,  8.49it/s, val_loss 6.7407]\n",
      "[0040/0200] Train:   0%|                                                     | 0/45 [00:00<?, ?it/s]"
     ]
    },
    {
     "name": "stdout",
     "output_type": "stream",
     "text": [
      "val_loss is not improved for 2 epochs\n",
      "                  validation\n",
      " - Yaw          :   1.336223\n",
      " - Pitch        :   1.110216\n",
      " - Roll         :   2.171183\n",
      " - RMS          :   1.853039\n",
      " - 99% Tile     :   6.857332\n"
     ]
    },
    {
     "name": "stderr",
     "output_type": "stream",
     "text": [
      "[0040/0200] Train: 100%|███████████████████████████████| 45/45 [00:10<00:00,  4.20it/s, loss 8.4314]\n",
      "[0040/0200] Validation: 100%|██████████████████████| 43/43 [00:04<00:00,  9.61it/s, val_loss 6.8748]\n",
      "[0041/0200] Train:   0%|                                                     | 0/45 [00:00<?, ?it/s]"
     ]
    },
    {
     "name": "stdout",
     "output_type": "stream",
     "text": [
      "Decaying lr from 0.001 to 0.0005 because val_loss did not improved for 3 epochs\n",
      "val_loss is not improved for 3 epochs\n",
      "                  validation\n",
      " - Yaw          :   1.071840\n",
      " - Pitch        :   1.700308\n",
      " - Roll         :   2.170541\n",
      " - RMS          :   1.929646\n",
      " - 99% Tile     :   6.729295\n"
     ]
    },
    {
     "name": "stderr",
     "output_type": "stream",
     "text": [
      "[0041/0200] Train: 100%|███████████████████████████████| 45/45 [00:09<00:00,  4.94it/s, loss 8.1501]\n",
      "[0041/0200] Validation: 100%|██████████████████████| 43/43 [00:04<00:00,  9.79it/s, val_loss 6.3371]\n",
      "[0042/0200] Train:   0%|                                                     | 0/45 [00:00<?, ?it/s]"
     ]
    },
    {
     "name": "stdout",
     "output_type": "stream",
     "text": [
      "Save checkpoint: val_loss decreased from 6.654629509116328 to 6.337114023607829\n",
      "                  validation\n",
      " - Yaw          :   1.048499\n",
      " - Pitch        :   1.105351\n",
      " - Roll         :   2.170228\n",
      " - RMS          :   1.763402\n",
      " - 99% Tile     :   6.679975\n"
     ]
    },
    {
     "name": "stderr",
     "output_type": "stream",
     "text": [
      "[0042/0200] Train: 100%|███████████████████████████████| 45/45 [00:09<00:00,  4.91it/s, loss 7.9119]\n",
      "[0042/0200] Validation: 100%|██████████████████████| 43/43 [00:05<00:00,  7.89it/s, val_loss 6.4344]\n",
      "[0043/0200] Train:   0%|                                                     | 0/45 [00:00<?, ?it/s]"
     ]
    },
    {
     "name": "stdout",
     "output_type": "stream",
     "text": [
      "val_loss is not improved for 1 epochs\n",
      "                  validation\n",
      " - Yaw          :   1.111717\n",
      " - Pitch        :   1.054933\n",
      " - Roll         :   2.198395\n",
      " - RMS          :   1.797689\n",
      " - 99% Tile     :   6.653029\n"
     ]
    },
    {
     "name": "stderr",
     "output_type": "stream",
     "text": [
      "[0043/0200] Train: 100%|███████████████████████████████| 45/45 [00:10<00:00,  4.14it/s, loss 7.8750]\n",
      "[0043/0200] Validation: 100%|██████████████████████| 43/43 [00:03<00:00, 11.59it/s, val_loss 6.5618]\n",
      "[0044/0200] Train:   0%|                                                     | 0/45 [00:00<?, ?it/s]"
     ]
    },
    {
     "name": "stdout",
     "output_type": "stream",
     "text": [
      "val_loss is not improved for 2 epochs\n",
      "                  validation\n",
      " - Yaw          :   1.313683\n",
      " - Pitch        :   1.078858\n",
      " - Roll         :   2.142503\n",
      " - RMS          :   1.823945\n",
      " - 99% Tile     :   6.621555\n"
     ]
    },
    {
     "name": "stderr",
     "output_type": "stream",
     "text": [
      "[0044/0200] Train: 100%|███████████████████████████████| 45/45 [00:08<00:00,  5.43it/s, loss 7.8625]\n",
      "[0044/0200] Validation: 100%|██████████████████████| 43/43 [00:04<00:00,  8.89it/s, val_loss 6.4441]\n",
      "[0045/0200] Train:   0%|                                                     | 0/45 [00:00<?, ?it/s]"
     ]
    },
    {
     "name": "stdout",
     "output_type": "stream",
     "text": [
      "Decaying lr from 0.0005 to 0.00025 because val_loss did not improved for 3 epochs\n",
      "val_loss is not improved for 3 epochs\n",
      "                  validation\n",
      " - Yaw          :   1.323319\n",
      " - Pitch        :   1.037324\n",
      " - Roll         :   2.161428\n",
      " - RMS          :   1.823942\n",
      " - 99% Tile     :   6.650980\n"
     ]
    },
    {
     "name": "stderr",
     "output_type": "stream",
     "text": [
      "[0045/0200] Train: 100%|███████████████████████████████| 45/45 [00:10<00:00,  4.13it/s, loss 7.7417]\n",
      "[0045/0200] Validation: 100%|██████████████████████| 43/43 [00:03<00:00, 11.62it/s, val_loss 5.9644]\n",
      "[0046/0200] Train:   0%|                                                     | 0/45 [00:00<?, ?it/s]"
     ]
    },
    {
     "name": "stdout",
     "output_type": "stream",
     "text": [
      "Save checkpoint: val_loss decreased from 6.337114023607829 to 5.964391392330792\n",
      "                  validation\n",
      " - Yaw          :   0.838311\n",
      " - Pitch        :   1.008209\n",
      " - Roll         :   2.169467\n",
      " - RMS          :   1.666069\n",
      " - 99% Tile     :   6.664193\n"
     ]
    },
    {
     "name": "stderr",
     "output_type": "stream",
     "text": [
      "[0046/0200] Train: 100%|███████████████████████████████| 45/45 [00:09<00:00,  4.92it/s, loss 7.5253]\n",
      "[0046/0200] Validation: 100%|██████████████████████| 43/43 [00:04<00:00,  8.95it/s, val_loss 6.2845]\n",
      "[0047/0200] Train:   0%|                                                     | 0/45 [00:00<?, ?it/s]"
     ]
    },
    {
     "name": "stdout",
     "output_type": "stream",
     "text": [
      "val_loss is not improved for 1 epochs\n",
      "                  validation\n",
      " - Yaw          :   1.177993\n",
      " - Pitch        :   1.002503\n",
      " - Roll         :   2.170279\n",
      " - RMS          :   1.770393\n",
      " - 99% Tile     :   6.637906\n"
     ]
    },
    {
     "name": "stderr",
     "output_type": "stream",
     "text": [
      "[0047/0200] Train: 100%|███████████████████████████████| 45/45 [00:10<00:00,  4.39it/s, loss 7.5872]\n",
      "[0047/0200] Validation: 100%|██████████████████████| 43/43 [00:04<00:00,  9.44it/s, val_loss 5.9747]\n",
      "[0048/0200] Train:   0%|                                                     | 0/45 [00:00<?, ?it/s]"
     ]
    },
    {
     "name": "stdout",
     "output_type": "stream",
     "text": [
      "val_loss is not improved for 2 epochs\n",
      "                  validation\n",
      " - Yaw          :   0.867317\n",
      " - Pitch        :   1.048984\n",
      " - Roll         :   2.149417\n",
      " - RMS          :   1.680272\n",
      " - 99% Tile     :   6.701283\n"
     ]
    },
    {
     "name": "stderr",
     "output_type": "stream",
     "text": [
      "[0048/0200] Train: 100%|███████████████████████████████| 45/45 [00:09<00:00,  4.56it/s, loss 7.6093]\n",
      "[0048/0200] Validation: 100%|██████████████████████| 43/43 [00:04<00:00,  9.80it/s, val_loss 6.0396]\n",
      "[0049/0200] Train:   0%|                                                     | 0/45 [00:00<?, ?it/s]"
     ]
    },
    {
     "name": "stdout",
     "output_type": "stream",
     "text": [
      "Decaying lr from 0.00025 to 0.000125 because val_loss did not improved for 3 epochs\n",
      "val_loss is not improved for 3 epochs\n",
      "                  validation\n",
      " - Yaw          :   0.956876\n",
      " - Pitch        :   1.026980\n",
      " - Roll         :   2.167515\n",
      " - RMS          :   1.697984\n",
      " - 99% Tile     :   6.710208\n"
     ]
    },
    {
     "name": "stderr",
     "output_type": "stream",
     "text": [
      "[0049/0200] Train: 100%|███████████████████████████████| 45/45 [00:08<00:00,  5.23it/s, loss 7.3436]\n",
      "[0049/0200] Validation: 100%|██████████████████████| 43/43 [00:03<00:00, 11.51it/s, val_loss 6.0022]\n",
      "[0050/0200] Train:   0%|                                                     | 0/45 [00:00<?, ?it/s]"
     ]
    },
    {
     "name": "stdout",
     "output_type": "stream",
     "text": [
      "val_loss is not improved for 4 epochs\n",
      "                  validation\n",
      " - Yaw          :   0.959136\n",
      " - Pitch        :   1.019053\n",
      " - Roll         :   2.157214\n",
      " - RMS          :   1.697051\n",
      " - 99% Tile     :   6.720226\n"
     ]
    },
    {
     "name": "stderr",
     "output_type": "stream",
     "text": [
      "[0050/0200] Train: 100%|███████████████████████████████| 45/45 [00:10<00:00,  4.32it/s, loss 7.2381]\n",
      "[0050/0200] Validation: 100%|██████████████████████| 43/43 [00:04<00:00, 10.46it/s, val_loss 5.8802]\n",
      "[0051/0200] Train:   0%|                                                     | 0/45 [00:00<?, ?it/s]"
     ]
    },
    {
     "name": "stdout",
     "output_type": "stream",
     "text": [
      "Save checkpoint: val_loss decreased from 5.964391392330792 to 5.88019485529079\n",
      "                  validation\n",
      " - Yaw          :   0.851790\n",
      " - Pitch        :   0.988734\n",
      " - Roll         :   2.152874\n",
      " - RMS          :   1.653900\n",
      " - 99% Tile     :   6.668369\n"
     ]
    },
    {
     "name": "stderr",
     "output_type": "stream",
     "text": [
      "[0051/0200] Train: 100%|███████████████████████████████| 45/45 [00:09<00:00,  4.64it/s, loss 7.1551]\n",
      "[0051/0200] Validation: 100%|██████████████████████| 43/43 [00:05<00:00,  8.54it/s, val_loss 5.9407]\n",
      "[0052/0200] Train:   0%|                                                     | 0/45 [00:00<?, ?it/s]"
     ]
    },
    {
     "name": "stdout",
     "output_type": "stream",
     "text": [
      "val_loss is not improved for 1 epochs\n",
      "                  validation\n",
      " - Yaw          :   0.908777\n",
      " - Pitch        :   0.984846\n",
      " - Roll         :   2.167248\n",
      " - RMS          :   1.677219\n",
      " - 99% Tile     :   6.664835\n"
     ]
    },
    {
     "name": "stderr",
     "output_type": "stream",
     "text": [
      "[0052/0200] Train: 100%|███████████████████████████████| 45/45 [00:09<00:00,  5.00it/s, loss 7.1233]\n",
      "[0052/0200] Validation: 100%|██████████████████████| 43/43 [00:04<00:00, 10.29it/s, val_loss 5.9178]\n",
      "[0053/0200] Train:   0%|                                                     | 0/45 [00:00<?, ?it/s]"
     ]
    },
    {
     "name": "stdout",
     "output_type": "stream",
     "text": [
      "val_loss is not improved for 2 epochs\n",
      "                  validation\n",
      " - Yaw          :   0.907015\n",
      " - Pitch        :   0.979539\n",
      " - Roll         :   2.162212\n",
      " - RMS          :   1.671196\n",
      " - 99% Tile     :   6.649982\n"
     ]
    },
    {
     "name": "stderr",
     "output_type": "stream",
     "text": [
      "[0053/0200] Train: 100%|███████████████████████████████| 45/45 [00:10<00:00,  4.34it/s, loss 7.3020]\n",
      "[0053/0200] Validation: 100%|██████████████████████| 43/43 [00:04<00:00,  8.98it/s, val_loss 5.9962]\n",
      "[0054/0200] Train:   0%|                                                     | 0/45 [00:00<?, ?it/s]"
     ]
    },
    {
     "name": "stdout",
     "output_type": "stream",
     "text": [
      "Decaying lr from 0.000125 to 6.25e-05 because val_loss did not improved for 3 epochs\n",
      "val_loss is not improved for 3 epochs\n",
      "                  validation\n",
      " - Yaw          :   0.992078\n",
      " - Pitch        :   1.010177\n",
      " - Roll         :   2.155702\n",
      " - RMS          :   1.703433\n",
      " - 99% Tile     :   6.608591\n"
     ]
    },
    {
     "name": "stderr",
     "output_type": "stream",
     "text": [
      "[0054/0200] Train: 100%|███████████████████████████████| 45/45 [00:09<00:00,  4.60it/s, loss 7.3293]\n",
      "[0054/0200] Validation: 100%|██████████████████████| 43/43 [00:03<00:00, 10.95it/s, val_loss 5.8696]\n",
      "[0055/0200] Train:   0%|                                                     | 0/45 [00:00<?, ?it/s]"
     ]
    },
    {
     "name": "stdout",
     "output_type": "stream",
     "text": [
      "Save checkpoint: val_loss decreased from 5.88019485529079 to 5.869591554930044\n",
      "                  validation\n",
      " - Yaw          :   0.855185\n",
      " - Pitch        :   0.974040\n",
      " - Roll         :   2.169497\n",
      " - RMS          :   1.657741\n",
      " - 99% Tile     :   6.608298\n"
     ]
    },
    {
     "name": "stderr",
     "output_type": "stream",
     "text": [
      "[0055/0200] Train: 100%|███████████████████████████████| 45/45 [00:09<00:00,  4.61it/s, loss 7.0965]\n",
      "[0055/0200] Validation: 100%|██████████████████████| 43/43 [00:05<00:00,  8.30it/s, val_loss 5.8875]\n",
      "[0056/0200] Train:   0%|                                                     | 0/45 [00:00<?, ?it/s]"
     ]
    },
    {
     "name": "stdout",
     "output_type": "stream",
     "text": [
      "val_loss is not improved for 1 epochs\n",
      "                  validation\n",
      " - Yaw          :   0.848907\n",
      " - Pitch        :   0.995323\n",
      " - Roll         :   2.174034\n",
      " - RMS          :   1.662483\n",
      " - 99% Tile     :   6.600844\n"
     ]
    },
    {
     "name": "stderr",
     "output_type": "stream",
     "text": [
      "[0056/0200] Train: 100%|███████████████████████████████| 45/45 [00:10<00:00,  4.48it/s, loss 7.0427]\n",
      "[0056/0200] Validation: 100%|██████████████████████| 43/43 [00:04<00:00,  9.59it/s, val_loss 5.9071]\n",
      "[0057/0200] Train:   0%|                                                     | 0/45 [00:00<?, ?it/s]"
     ]
    },
    {
     "name": "stdout",
     "output_type": "stream",
     "text": [
      "val_loss is not improved for 2 epochs\n",
      "                  validation\n",
      " - Yaw          :   0.910800\n",
      " - Pitch        :   0.980051\n",
      " - Roll         :   2.168576\n",
      " - RMS          :   1.673034\n",
      " - 99% Tile     :   6.598694\n"
     ]
    },
    {
     "name": "stderr",
     "output_type": "stream",
     "text": [
      "[0057/0200] Train: 100%|███████████████████████████████| 45/45 [00:09<00:00,  4.64it/s, loss 6.9901]\n",
      "[0057/0200] Validation: 100%|██████████████████████| 43/43 [00:03<00:00, 13.14it/s, val_loss 5.8770]\n",
      "[0058/0200] Train:   0%|                                                     | 0/45 [00:00<?, ?it/s]"
     ]
    },
    {
     "name": "stdout",
     "output_type": "stream",
     "text": [
      "Decaying lr from 6.25e-05 to 3.125e-05 because val_loss did not improved for 3 epochs\n",
      "val_loss is not improved for 3 epochs\n",
      "                  validation\n",
      " - Yaw          :   0.884334\n",
      " - Pitch        :   0.977190\n",
      " - Roll         :   2.165233\n",
      " - RMS          :   1.664439\n",
      " - 99% Tile     :   6.594735\n"
     ]
    },
    {
     "name": "stderr",
     "output_type": "stream",
     "text": [
      "[0058/0200] Train: 100%|███████████████████████████████| 45/45 [00:07<00:00,  6.32it/s, loss 7.1523]\n",
      "[0058/0200] Validation: 100%|██████████████████████| 43/43 [00:03<00:00, 11.47it/s, val_loss 5.8719]\n",
      "[0059/0200] Train:   0%|                                                     | 0/45 [00:00<?, ?it/s]"
     ]
    },
    {
     "name": "stdout",
     "output_type": "stream",
     "text": [
      "val_loss is not improved for 4 epochs\n",
      "                  validation\n",
      " - Yaw          :   0.878232\n",
      " - Pitch        :   1.000809\n",
      " - Roll         :   2.155021\n",
      " - RMS          :   1.664251\n",
      " - 99% Tile     :   6.598585\n"
     ]
    },
    {
     "name": "stderr",
     "output_type": "stream",
     "text": [
      "[0059/0200] Train: 100%|███████████████████████████████| 45/45 [00:07<00:00,  5.82it/s, loss 7.0279]\n",
      "[0059/0200] Validation: 100%|██████████████████████| 43/43 [00:02<00:00, 16.37it/s, val_loss 5.8823]\n",
      "[0060/0200] Train:   0%|                                                     | 0/45 [00:00<?, ?it/s]"
     ]
    },
    {
     "name": "stdout",
     "output_type": "stream",
     "text": [
      "val_loss is not improved for 5 epochs\n",
      "                  validation\n",
      " - Yaw          :   0.879732\n",
      " - Pitch        :   0.985708\n",
      " - Roll         :   2.161420\n",
      " - RMS          :   1.664619\n",
      " - 99% Tile     :   6.586959\n"
     ]
    },
    {
     "name": "stderr",
     "output_type": "stream",
     "text": [
      "[0060/0200] Train: 100%|███████████████████████████████| 45/45 [00:06<00:00,  6.74it/s, loss 6.9968]\n",
      "[0060/0200] Validation: 100%|██████████████████████| 43/43 [00:03<00:00, 12.43it/s, val_loss 5.8641]\n",
      "[0061/0200] Train:   0%|                                                     | 0/45 [00:00<?, ?it/s]"
     ]
    },
    {
     "name": "stdout",
     "output_type": "stream",
     "text": [
      "Save checkpoint: val_loss decreased from 5.869591554930044 to 5.8641025340834325\n",
      "                  validation\n",
      " - Yaw          :   0.875576\n",
      " - Pitch        :   0.994080\n",
      " - Roll         :   2.156942\n",
      " - RMS          :   1.662518\n",
      " - 99% Tile     :   6.585311\n"
     ]
    },
    {
     "name": "stderr",
     "output_type": "stream",
     "text": [
      "[0061/0200] Train: 100%|███████████████████████████████| 45/45 [00:06<00:00,  6.78it/s, loss 7.0786]\n",
      "[0061/0200] Validation: 100%|██████████████████████| 43/43 [00:02<00:00, 18.62it/s, val_loss 5.8603]\n",
      "[0062/0200] Train:   0%|                                                     | 0/45 [00:00<?, ?it/s]"
     ]
    },
    {
     "name": "stdout",
     "output_type": "stream",
     "text": [
      "Save checkpoint: val_loss decreased from 5.8641025340834325 to 5.86034064098846\n",
      "                  validation\n",
      " - Yaw          :   0.867154\n",
      " - Pitch        :   0.990844\n",
      " - Roll         :   2.163013\n",
      " - RMS          :   1.661623\n",
      " - 99% Tile     :   6.590159\n"
     ]
    },
    {
     "name": "stderr",
     "output_type": "stream",
     "text": [
      "[0062/0200] Train: 100%|███████████████████████████████| 45/45 [00:06<00:00,  6.75it/s, loss 6.9489]\n",
      "[0062/0200] Validation: 100%|██████████████████████| 43/43 [00:03<00:00, 11.55it/s, val_loss 5.8438]\n",
      "[0063/0200] Train:   0%|                                                     | 0/45 [00:00<?, ?it/s]"
     ]
    },
    {
     "name": "stdout",
     "output_type": "stream",
     "text": [
      "Save checkpoint: val_loss decreased from 5.86034064098846 to 5.84380290120147\n",
      "                  validation\n",
      " - Yaw          :   0.864776\n",
      " - Pitch        :   0.982083\n",
      " - Roll         :   2.160567\n",
      " - RMS          :   1.657584\n",
      " - 99% Tile     :   6.572095\n"
     ]
    },
    {
     "name": "stderr",
     "output_type": "stream",
     "text": [
      "[0063/0200] Train: 100%|███████████████████████████████| 45/45 [00:06<00:00,  6.57it/s, loss 6.9430]\n",
      "[0063/0200] Validation: 100%|██████████████████████| 43/43 [00:02<00:00, 17.64it/s, val_loss 5.8426]\n",
      "[0064/0200] Train:   0%|                                                     | 0/45 [00:00<?, ?it/s]"
     ]
    },
    {
     "name": "stdout",
     "output_type": "stream",
     "text": [
      "Save checkpoint: val_loss decreased from 5.84380290120147 to 5.842558345129325\n",
      "                  validation\n",
      " - Yaw          :   0.868165\n",
      " - Pitch        :   0.985352\n",
      " - Roll         :   2.158915\n",
      " - RMS          :   1.658151\n",
      " - 99% Tile     :   6.576445\n"
     ]
    },
    {
     "name": "stderr",
     "output_type": "stream",
     "text": [
      "[0064/0200] Train: 100%|███████████████████████████████| 45/45 [00:06<00:00,  7.31it/s, loss 6.9690]\n",
      "[0064/0200] Validation: 100%|██████████████████████| 43/43 [00:03<00:00, 13.48it/s, val_loss 5.8603]\n",
      "[0065/0200] Train:   0%|                                                     | 0/45 [00:00<?, ?it/s]"
     ]
    },
    {
     "name": "stdout",
     "output_type": "stream",
     "text": [
      "val_loss is not improved for 1 epochs\n",
      "                  validation\n",
      " - Yaw          :   0.873052\n",
      " - Pitch        :   1.008318\n",
      " - Roll         :   2.156375\n",
      " - RMS          :   1.665067\n",
      " - 99% Tile     :   6.571177\n"
     ]
    },
    {
     "name": "stderr",
     "output_type": "stream",
     "text": [
      "[0065/0200] Train: 100%|███████████████████████████████| 45/45 [00:06<00:00,  6.74it/s, loss 6.9525]\n",
      "[0065/0200] Validation: 100%|██████████████████████| 43/43 [00:02<00:00, 19.43it/s, val_loss 5.8342]\n",
      "[0066/0200] Train:   0%|                                                     | 0/45 [00:00<?, ?it/s]"
     ]
    },
    {
     "name": "stdout",
     "output_type": "stream",
     "text": [
      "Save checkpoint: val_loss decreased from 5.842558345129325 to 5.83422152940617\n",
      "                  validation\n",
      " - Yaw          :   0.859099\n",
      " - Pitch        :   0.996534\n",
      " - Roll         :   2.152503\n",
      " - RMS          :   1.655742\n",
      " - 99% Tile     :   6.574791\n"
     ]
    },
    {
     "name": "stderr",
     "output_type": "stream",
     "text": [
      "[0066/0200] Train: 100%|███████████████████████████████| 45/45 [00:05<00:00,  7.58it/s, loss 6.9091]\n",
      "[0066/0200] Validation: 100%|██████████████████████| 43/43 [00:03<00:00, 12.24it/s, val_loss 5.8515]\n",
      "[0067/0200] Train:   0%|                                                     | 0/45 [00:00<?, ?it/s]"
     ]
    },
    {
     "name": "stdout",
     "output_type": "stream",
     "text": [
      "val_loss is not improved for 1 epochs\n",
      "                  validation\n",
      " - Yaw          :   0.871897\n",
      " - Pitch        :   0.975956\n",
      " - Roll         :   2.165581\n",
      " - RMS          :   1.658353\n",
      " - 99% Tile     :   6.560506\n"
     ]
    },
    {
     "name": "stderr",
     "output_type": "stream",
     "text": [
      "[0067/0200] Train: 100%|███████████████████████████████| 45/45 [00:06<00:00,  6.82it/s, loss 7.1067]\n",
      "[0067/0200] Validation: 100%|██████████████████████| 43/43 [00:02<00:00, 18.35it/s, val_loss 5.8192]\n",
      "[0068/0200] Train:   0%|                                                     | 0/45 [00:00<?, ?it/s]"
     ]
    },
    {
     "name": "stdout",
     "output_type": "stream",
     "text": [
      "Save checkpoint: val_loss decreased from 5.83422152940617 to 5.819152506284935\n",
      "                  validation\n",
      " - Yaw          :   0.852246\n",
      " - Pitch        :   0.990535\n",
      " - Roll         :   2.153685\n",
      " - RMS          :   1.651534\n",
      " - 99% Tile     :   6.557329\n"
     ]
    },
    {
     "name": "stderr",
     "output_type": "stream",
     "text": [
      "[0068/0200] Train: 100%|███████████████████████████████| 45/45 [00:06<00:00,  6.91it/s, loss 9.1844]\n",
      "[0068/0200] Validation: 100%|██████████████████████| 43/43 [00:02<00:00, 15.75it/s, val_loss 5.8541]\n",
      "[0069/0200] Train:   0%|                                                     | 0/45 [00:00<?, ?it/s]"
     ]
    },
    {
     "name": "stdout",
     "output_type": "stream",
     "text": [
      "val_loss is not improved for 1 epochs\n",
      "                  validation\n",
      " - Yaw          :   0.897440\n",
      " - Pitch        :   0.978289\n",
      " - Roll         :   2.159248\n",
      " - RMS          :   1.662884\n",
      " - 99% Tile     :   6.550072\n"
     ]
    },
    {
     "name": "stderr",
     "output_type": "stream",
     "text": [
      "[0069/0200] Train: 100%|███████████████████████████████| 45/45 [00:06<00:00,  6.85it/s, loss 7.0183]\n",
      "[0069/0200] Validation: 100%|██████████████████████| 43/43 [00:02<00:00, 20.22it/s, val_loss 5.8270]\n",
      "[0070/0200] Train:   0%|                                                     | 0/45 [00:00<?, ?it/s]"
     ]
    },
    {
     "name": "stdout",
     "output_type": "stream",
     "text": [
      "val_loss is not improved for 2 epochs\n",
      "                  validation\n",
      " - Yaw          :   0.861276\n",
      " - Pitch        :   0.998104\n",
      " - Roll         :   2.154067\n",
      " - RMS          :   1.656572\n",
      " - 99% Tile     :   6.540698\n"
     ]
    },
    {
     "name": "stderr",
     "output_type": "stream",
     "text": [
      "[0070/0200] Train: 100%|███████████████████████████████| 45/45 [00:06<00:00,  6.43it/s, loss 6.8749]\n",
      "[0070/0200] Validation: 100%|██████████████████████| 43/43 [00:02<00:00, 18.20it/s, val_loss 5.8422]\n",
      "[0071/0200] Train:   0%|                                                     | 0/45 [00:00<?, ?it/s]"
     ]
    },
    {
     "name": "stdout",
     "output_type": "stream",
     "text": [
      "Decaying lr from 3.125e-05 to 1.5625e-05 because val_loss did not improved for 3 epochs\n",
      "val_loss is not improved for 3 epochs\n",
      "                  validation\n",
      " - Yaw          :   0.887437\n",
      " - Pitch        :   1.000252\n",
      " - Roll         :   2.147153\n",
      " - RMS          :   1.660979\n",
      " - 99% Tile     :   6.551110\n"
     ]
    },
    {
     "name": "stderr",
     "output_type": "stream",
     "text": [
      "[0071/0200] Train: 100%|███████████████████████████████| 45/45 [00:06<00:00,  6.67it/s, loss 7.2505]\n",
      "[0071/0200] Validation: 100%|██████████████████████| 43/43 [00:03<00:00, 14.15it/s, val_loss 5.8419]\n",
      "[0072/0200] Train:   0%|                                                     | 0/45 [00:00<?, ?it/s]"
     ]
    },
    {
     "name": "stdout",
     "output_type": "stream",
     "text": [
      "val_loss is not improved for 4 epochs\n",
      "                  validation\n",
      " - Yaw          :   0.891825\n",
      " - Pitch        :   0.996442\n",
      " - Roll         :   2.150040\n",
      " - RMS          :   1.662111\n",
      " - 99% Tile     :   6.544910\n"
     ]
    },
    {
     "name": "stderr",
     "output_type": "stream",
     "text": [
      "[0072/0200] Train: 100%|███████████████████████████████| 45/45 [00:06<00:00,  7.46it/s, loss 6.9839]\n",
      "[0072/0200] Validation: 100%|██████████████████████| 43/43 [00:02<00:00, 15.88it/s, val_loss 5.8324]\n",
      "[0073/0200] Train:   0%|                                                     | 0/45 [00:00<?, ?it/s]"
     ]
    },
    {
     "name": "stdout",
     "output_type": "stream",
     "text": [
      "val_loss is not improved for 5 epochs\n",
      "                  validation\n",
      " - Yaw          :   0.860784\n",
      " - Pitch        :   0.994684\n",
      " - Roll         :   2.159185\n",
      " - RMS          :   1.657667\n",
      " - 99% Tile     :   6.542301\n"
     ]
    },
    {
     "name": "stderr",
     "output_type": "stream",
     "text": [
      "[0073/0200] Train: 100%|███████████████████████████████| 45/45 [00:07<00:00,  6.20it/s, loss 7.0414]\n",
      "[0073/0200] Validation: 100%|██████████████████████| 43/43 [00:02<00:00, 17.86it/s, val_loss 5.8286]\n",
      "[0074/0200] Train:   0%|                                                     | 0/45 [00:00<?, ?it/s]"
     ]
    },
    {
     "name": "stdout",
     "output_type": "stream",
     "text": [
      "Decaying lr from 1.5625e-05 to 7.8125e-06 because val_loss did not improved for 3 epochs\n",
      "val_loss is not improved for 6 epochs\n",
      "                  validation\n",
      " - Yaw          :   0.867936\n",
      " - Pitch        :   0.991130\n",
      " - Roll         :   2.159192\n",
      " - RMS          :   1.658824\n",
      " - 99% Tile     :   6.505702\n"
     ]
    },
    {
     "name": "stderr",
     "output_type": "stream",
     "text": [
      "[0074/0200] Train: 100%|███████████████████████████████| 45/45 [00:05<00:00,  7.64it/s, loss 6.8194]\n",
      "[0074/0200] Validation: 100%|██████████████████████| 43/43 [00:03<00:00, 11.18it/s, val_loss 5.8396]\n",
      "[0075/0200] Train:   0%|                                                     | 0/45 [00:00<?, ?it/s]"
     ]
    },
    {
     "name": "stdout",
     "output_type": "stream",
     "text": [
      "val_loss is not improved for 7 epochs\n",
      "                  validation\n",
      " - Yaw          :   0.879283\n",
      " - Pitch        :   0.992600\n",
      " - Roll         :   2.158017\n",
      " - RMS          :   1.662426\n",
      " - 99% Tile     :   6.506293\n"
     ]
    },
    {
     "name": "stderr",
     "output_type": "stream",
     "text": [
      "[0075/0200] Train: 100%|███████████████████████████████| 45/45 [00:06<00:00,  7.02it/s, loss 6.9784]\n",
      "[0075/0200] Validation: 100%|██████████████████████| 43/43 [00:02<00:00, 18.83it/s, val_loss 5.8175]\n",
      "[0076/0200] Train:   0%|                                                     | 0/45 [00:00<?, ?it/s]"
     ]
    },
    {
     "name": "stdout",
     "output_type": "stream",
     "text": [
      "Save checkpoint: val_loss decreased from 5.819152506284935 to 5.817516780176828\n",
      "                  validation\n",
      " - Yaw          :   0.851453\n",
      " - Pitch        :   0.985763\n",
      " - Roll         :   2.159169\n",
      " - RMS          :   1.654288\n",
      " - 99% Tile     :   6.507232\n"
     ]
    },
    {
     "name": "stderr",
     "output_type": "stream",
     "text": [
      "[0076/0200] Train: 100%|███████████████████████████████| 45/45 [00:05<00:00,  7.70it/s, loss 6.8841]\n",
      "[0076/0200] Validation: 100%|██████████████████████| 43/43 [00:02<00:00, 14.96it/s, val_loss 5.8273]\n",
      "[0077/0200] Train:   0%|                                                     | 0/45 [00:00<?, ?it/s]"
     ]
    },
    {
     "name": "stdout",
     "output_type": "stream",
     "text": [
      "val_loss is not improved for 1 epochs\n",
      "                  validation\n",
      " - Yaw          :   0.868821\n",
      " - Pitch        :   0.989025\n",
      " - Roll         :   2.157009\n",
      " - RMS          :   1.658111\n",
      " - 99% Tile     :   6.506554\n"
     ]
    },
    {
     "name": "stderr",
     "output_type": "stream",
     "text": [
      "[0077/0200] Train: 100%|███████████████████████████████| 45/45 [00:07<00:00,  6.28it/s, loss 6.8677]\n",
      "[0077/0200] Validation: 100%|██████████████████████| 43/43 [00:02<00:00, 18.34it/s, val_loss 5.8185]\n",
      "[0078/0200] Train:   0%|                                                     | 0/45 [00:00<?, ?it/s]"
     ]
    },
    {
     "name": "stdout",
     "output_type": "stream",
     "text": [
      "val_loss is not improved for 2 epochs\n",
      "                  validation\n",
      " - Yaw          :   0.857657\n",
      " - Pitch        :   0.989815\n",
      " - Roll         :   2.159232\n",
      " - RMS          :   1.656464\n",
      " - 99% Tile     :   6.502599\n"
     ]
    },
    {
     "name": "stderr",
     "output_type": "stream",
     "text": [
      "[0078/0200] Train: 100%|███████████████████████████████| 45/45 [00:06<00:00,  7.43it/s, loss 6.8455]\n",
      "[0078/0200] Validation: 100%|██████████████████████| 43/43 [00:03<00:00, 13.44it/s, val_loss 5.8325]\n",
      "[0079/0200] Train:   0%|                                                     | 0/45 [00:00<?, ?it/s]"
     ]
    },
    {
     "name": "stdout",
     "output_type": "stream",
     "text": [
      "Decaying lr from 7.8125e-06 to 3.90625e-06 because val_loss did not improved for 3 epochs\n",
      "val_loss is not improved for 3 epochs\n",
      "                  validation\n",
      " - Yaw          :   0.882689\n",
      " - Pitch        :   0.987554\n",
      " - Roll         :   2.157688\n",
      " - RMS          :   1.660893\n",
      " - 99% Tile     :   6.506253\n"
     ]
    },
    {
     "name": "stderr",
     "output_type": "stream",
     "text": [
      "[0079/0200] Train: 100%|███████████████████████████████| 45/45 [00:06<00:00,  6.64it/s, loss 6.7939]\n",
      "[0079/0200] Validation: 100%|██████████████████████| 43/43 [00:02<00:00, 19.25it/s, val_loss 5.8178]\n",
      "[0080/0200] Train:   0%|                                                     | 0/45 [00:00<?, ?it/s]"
     ]
    },
    {
     "name": "stdout",
     "output_type": "stream",
     "text": [
      "val_loss is not improved for 4 epochs\n",
      "                  validation\n",
      " - Yaw          :   0.862913\n",
      " - Pitch        :   0.989151\n",
      " - Roll         :   2.156781\n",
      " - RMS          :   1.655520\n",
      " - 99% Tile     :   6.505494\n"
     ]
    },
    {
     "name": "stderr",
     "output_type": "stream",
     "text": [
      "[0080/0200] Train: 100%|███████████████████████████████| 45/45 [00:06<00:00,  6.48it/s, loss 6.8225]\n",
      "[0080/0200] Validation: 100%|██████████████████████| 43/43 [00:02<00:00, 17.20it/s, val_loss 5.8200]\n",
      "[0081/0200] Train:   0%|                                                     | 0/45 [00:00<?, ?it/s]"
     ]
    },
    {
     "name": "stdout",
     "output_type": "stream",
     "text": [
      "val_loss is not improved for 5 epochs\n",
      "                  validation\n",
      " - Yaw          :   0.868815\n",
      " - Pitch        :   0.987256\n",
      " - Roll         :   2.156606\n",
      " - RMS          :   1.656917\n",
      " - 99% Tile     :   6.504805\n"
     ]
    },
    {
     "name": "stderr",
     "output_type": "stream",
     "text": [
      "[0081/0200] Train: 100%|███████████████████████████████| 45/45 [00:06<00:00,  6.73it/s, loss 6.8786]\n",
      "[0081/0200] Validation: 100%|██████████████████████| 43/43 [00:02<00:00, 19.10it/s, val_loss 5.8174]\n",
      "[0082/0200] Train:   0%|                                                     | 0/45 [00:00<?, ?it/s]"
     ]
    },
    {
     "name": "stdout",
     "output_type": "stream",
     "text": [
      "Save checkpoint: val_loss decreased from 5.817516780176828 to 5.817395587300144\n",
      "                  validation\n",
      " - Yaw          :   0.864289\n",
      " - Pitch        :   0.990366\n",
      " - Roll         :   2.155519\n",
      " - RMS          :   1.655749\n",
      " - 99% Tile     :   6.505319\n"
     ]
    },
    {
     "name": "stderr",
     "output_type": "stream",
     "text": [
      "[0082/0200] Train: 100%|███████████████████████████████| 45/45 [00:07<00:00,  6.28it/s, loss 6.8322]\n",
      "[0082/0200] Validation: 100%|██████████████████████| 43/43 [00:02<00:00, 16.88it/s, val_loss 5.8297]\n",
      "[0083/0200] Train:   0%|                                                     | 0/45 [00:00<?, ?it/s]"
     ]
    },
    {
     "name": "stdout",
     "output_type": "stream",
     "text": [
      "val_loss is not improved for 1 epochs\n",
      "                  validation\n",
      " - Yaw          :   0.882422\n",
      " - Pitch        :   0.988409\n",
      " - Roll         :   2.156303\n",
      " - RMS          :   1.660013\n",
      " - 99% Tile     :   6.509515\n"
     ]
    },
    {
     "name": "stderr",
     "output_type": "stream",
     "text": [
      "[0083/0200] Train: 100%|███████████████████████████████| 45/45 [00:06<00:00,  6.79it/s, loss 6.9572]\n",
      "[0083/0200] Validation: 100%|██████████████████████| 43/43 [00:03<00:00, 14.09it/s, val_loss 5.8188]\n",
      "[0084/0200] Train:   0%|                                                     | 0/45 [00:00<?, ?it/s]"
     ]
    },
    {
     "name": "stdout",
     "output_type": "stream",
     "text": [
      "val_loss is not improved for 2 epochs\n",
      "                  validation\n",
      " - Yaw          :   0.866681\n",
      " - Pitch        :   0.986841\n",
      " - Roll         :   2.156523\n",
      " - RMS          :   1.656031\n",
      " - 99% Tile     :   6.508329\n"
     ]
    },
    {
     "name": "stderr",
     "output_type": "stream",
     "text": [
      "[0084/0200] Train: 100%|███████████████████████████████| 45/45 [00:06<00:00,  7.11it/s, loss 6.9818]\n",
      "[0084/0200] Validation: 100%|██████████████████████| 43/43 [00:02<00:00, 17.33it/s, val_loss 5.8189]\n",
      "[0085/0200] Train:   0%|                                                     | 0/45 [00:00<?, ?it/s]"
     ]
    },
    {
     "name": "stdout",
     "output_type": "stream",
     "text": [
      "Decaying lr from 3.90625e-06 to 1.953125e-06 because val_loss did not improved for 3 epochs\n",
      "val_loss is not improved for 3 epochs\n",
      "                  validation\n",
      " - Yaw          :   0.876755\n",
      " - Pitch        :   0.986097\n",
      " - Roll         :   2.153301\n",
      " - RMS          :   1.656667\n",
      " - 99% Tile     :   6.509649\n"
     ]
    },
    {
     "name": "stderr",
     "output_type": "stream",
     "text": [
      "[0085/0200] Train: 100%|███████████████████████████████| 45/45 [00:06<00:00,  7.06it/s, loss 6.8185]\n",
      "[0085/0200] Validation: 100%|██████████████████████| 43/43 [00:02<00:00, 17.52it/s, val_loss 5.8159]\n",
      "[0086/0200] Train:   0%|                                                     | 0/45 [00:00<?, ?it/s]"
     ]
    },
    {
     "name": "stdout",
     "output_type": "stream",
     "text": [
      "Save checkpoint: val_loss decreased from 5.817395587300144 to 5.815887349982594\n",
      "                  validation\n",
      " - Yaw          :   0.869307\n",
      " - Pitch        :   0.987204\n",
      " - Roll         :   2.154008\n",
      " - RMS          :   1.655205\n",
      " - 99% Tile     :   6.509120\n"
     ]
    },
    {
     "name": "stderr",
     "output_type": "stream",
     "text": [
      "[0086/0200] Train: 100%|███████████████████████████████| 45/45 [00:07<00:00,  6.42it/s, loss 7.0056]\n",
      "[0086/0200] Validation: 100%|██████████████████████| 43/43 [00:02<00:00, 17.72it/s, val_loss 5.8117]\n",
      "[0087/0200] Train:   0%|                                                     | 0/45 [00:00<?, ?it/s]"
     ]
    },
    {
     "name": "stdout",
     "output_type": "stream",
     "text": [
      "Save checkpoint: val_loss decreased from 5.815887349982594 to 5.811678571756494\n",
      "                  validation\n",
      " - Yaw          :   0.867631\n",
      " - Pitch        :   0.985348\n",
      " - Roll         :   2.153639\n",
      " - RMS          :   1.654003\n",
      " - 99% Tile     :   6.508851\n"
     ]
    },
    {
     "name": "stderr",
     "output_type": "stream",
     "text": [
      "[0087/0200] Train: 100%|███████████████████████████████| 45/45 [00:06<00:00,  7.26it/s, loss 6.8065]\n",
      "[0087/0200] Validation: 100%|██████████████████████| 43/43 [00:03<00:00, 12.31it/s, val_loss 5.8167]\n",
      "[0088/0200] Train:   0%|                                                     | 0/45 [00:00<?, ?it/s]"
     ]
    },
    {
     "name": "stdout",
     "output_type": "stream",
     "text": [
      "val_loss is not improved for 1 epochs\n",
      "                  validation\n",
      " - Yaw          :   0.871230\n",
      " - Pitch        :   0.987578\n",
      " - Roll         :   2.153629\n",
      " - RMS          :   1.655983\n",
      " - 99% Tile     :   6.509277\n"
     ]
    },
    {
     "name": "stderr",
     "output_type": "stream",
     "text": [
      "[0088/0200] Train: 100%|███████████████████████████████| 45/45 [00:06<00:00,  7.05it/s, loss 6.9223]\n",
      "[0088/0200] Validation: 100%|██████████████████████| 43/43 [00:02<00:00, 19.49it/s, val_loss 5.8166]\n",
      "[0089/0200] Train:   0%|                                                     | 0/45 [00:00<?, ?it/s]"
     ]
    },
    {
     "name": "stdout",
     "output_type": "stream",
     "text": [
      "val_loss is not improved for 2 epochs\n",
      "                  validation\n",
      " - Yaw          :   0.870657\n",
      " - Pitch        :   0.988161\n",
      " - Roll         :   2.154050\n",
      " - RMS          :   1.655886\n",
      " - 99% Tile     :   6.508796\n"
     ]
    },
    {
     "name": "stderr",
     "output_type": "stream",
     "text": [
      "[0089/0200] Train: 100%|███████████████████████████████| 45/45 [00:06<00:00,  6.52it/s, loss 6.8102]\n",
      "[0089/0200] Validation: 100%|██████████████████████| 43/43 [00:03<00:00, 13.95it/s, val_loss 5.8140]\n",
      "[0090/0200] Train:   0%|                                                     | 0/45 [00:00<?, ?it/s]"
     ]
    },
    {
     "name": "stdout",
     "output_type": "stream",
     "text": [
      "Decaying lr from 1.953125e-06 to 9.765625e-07 because val_loss did not improved for 3 epochs\n",
      "val_loss is not improved for 3 epochs\n",
      "                  validation\n",
      " - Yaw          :   0.868948\n",
      " - Pitch        :   0.984497\n",
      " - Roll         :   2.155513\n",
      " - RMS          :   1.655006\n",
      " - 99% Tile     :   6.507938\n"
     ]
    },
    {
     "name": "stderr",
     "output_type": "stream",
     "text": [
      "[0090/0200] Train: 100%|███████████████████████████████| 45/45 [00:06<00:00,  6.94it/s, loss 6.8565]\n",
      "[0090/0200] Validation: 100%|██████████████████████| 43/43 [00:02<00:00, 17.45it/s, val_loss 5.8178]\n",
      "[0091/0200] Train:   0%|                                                     | 0/45 [00:00<?, ?it/s]"
     ]
    },
    {
     "name": "stdout",
     "output_type": "stream",
     "text": [
      "val_loss is not improved for 4 epochs\n",
      "                  validation\n",
      " - Yaw          :   0.870169\n",
      " - Pitch        :   0.985957\n",
      " - Roll         :   2.155840\n",
      " - RMS          :   1.656374\n",
      " - 99% Tile     :   6.507136\n"
     ]
    },
    {
     "name": "stderr",
     "output_type": "stream",
     "text": [
      "[0091/0200] Train: 100%|███████████████████████████████| 45/45 [00:06<00:00,  6.75it/s, loss 6.9750]\n",
      "[0091/0200] Validation: 100%|██████████████████████| 43/43 [00:02<00:00, 19.13it/s, val_loss 5.8187]\n",
      "[0092/0200] Train:   0%|                                                     | 0/45 [00:00<?, ?it/s]"
     ]
    },
    {
     "name": "stdout",
     "output_type": "stream",
     "text": [
      "val_loss is not improved for 5 epochs\n",
      "                  validation\n",
      " - Yaw          :   0.873966\n",
      " - Pitch        :   0.985073\n",
      " - Roll         :   2.154897\n",
      " - RMS          :   1.656657\n",
      " - 99% Tile     :   6.507998\n"
     ]
    },
    {
     "name": "stderr",
     "output_type": "stream",
     "text": [
      "[0092/0200] Train: 100%|███████████████████████████████| 45/45 [00:06<00:00,  6.96it/s, loss 6.8212]\n",
      "[0092/0200] Validation: 100%|██████████████████████| 43/43 [00:02<00:00, 14.77it/s, val_loss 5.8153]\n",
      "[0093/0200] Train:   0%|                                                     | 0/45 [00:00<?, ?it/s]"
     ]
    },
    {
     "name": "stdout",
     "output_type": "stream",
     "text": [
      "Decaying lr from 9.765625e-07 to 4.8828125e-07 because val_loss did not improved for 3 epochs\n",
      "val_loss is not improved for 6 epochs\n",
      "                  validation\n",
      " - Yaw          :   0.871501\n",
      " - Pitch        :   0.985810\n",
      " - Roll         :   2.153971\n",
      " - RMS          :   1.655569\n",
      " - 99% Tile     :   6.508793\n"
     ]
    },
    {
     "name": "stderr",
     "output_type": "stream",
     "text": [
      "[0093/0200] Train: 100%|███████████████████████████████| 45/45 [00:06<00:00,  7.11it/s, loss 6.8273]\n",
      "[0093/0200] Validation: 100%|██████████████████████| 43/43 [00:03<00:00, 14.22it/s, val_loss 5.8116]\n",
      "[0094/0200] Train:   0%|                                                     | 0/45 [00:00<?, ?it/s]"
     ]
    },
    {
     "name": "stdout",
     "output_type": "stream",
     "text": [
      "Save checkpoint: val_loss decreased from 5.811678571756494 to 5.81164545236632\n",
      "                  validation\n",
      " - Yaw          :   0.867453\n",
      " - Pitch        :   0.986130\n",
      " - Roll         :   2.153820\n",
      " - RMS          :   1.654449\n",
      " - 99% Tile     :   6.507970\n"
     ]
    },
    {
     "name": "stderr",
     "output_type": "stream",
     "text": [
      "[0094/0200] Train: 100%|███████████████████████████████| 45/45 [00:06<00:00,  6.73it/s, loss 6.9470]\n",
      "[0094/0200] Validation: 100%|██████████████████████| 43/43 [00:02<00:00, 16.38it/s, val_loss 5.8102]\n",
      "[0095/0200] Train:   0%|                                                     | 0/45 [00:00<?, ?it/s]"
     ]
    },
    {
     "name": "stdout",
     "output_type": "stream",
     "text": [
      "Save checkpoint: val_loss decreased from 5.81164545236632 to 5.810152543145558\n",
      "                  validation\n",
      " - Yaw          :   0.866443\n",
      " - Pitch        :   0.985650\n",
      " - Roll         :   2.153751\n",
      " - RMS          :   1.653982\n",
      " - 99% Tile     :   6.507982\n"
     ]
    },
    {
     "name": "stderr",
     "output_type": "stream",
     "text": [
      "[0095/0200] Train: 100%|███████████████████████████████| 45/45 [00:05<00:00,  7.95it/s, loss 7.0104]\n",
      "[0095/0200] Validation: 100%|██████████████████████| 43/43 [00:03<00:00, 11.98it/s, val_loss 5.8075]\n",
      "[0096/0200] Train:   0%|                                                     | 0/45 [00:00<?, ?it/s]"
     ]
    },
    {
     "name": "stdout",
     "output_type": "stream",
     "text": [
      "Save checkpoint: val_loss decreased from 5.810152543145558 to 5.807509232399073\n",
      "                  validation\n",
      " - Yaw          :   0.864200\n",
      " - Pitch        :   0.985309\n",
      " - Roll         :   2.153400\n",
      " - RMS          :   1.653314\n",
      " - 99% Tile     :   6.508004\n"
     ]
    },
    {
     "name": "stderr",
     "output_type": "stream",
     "text": [
      "[0096/0200] Train: 100%|███████████████████████████████| 45/45 [00:06<00:00,  6.89it/s, loss 6.7896]\n",
      "[0096/0200] Validation: 100%|██████████████████████| 43/43 [00:02<00:00, 16.95it/s, val_loss 5.8090]\n",
      "[0097/0200] Train:   0%|                                                     | 0/45 [00:00<?, ?it/s]"
     ]
    },
    {
     "name": "stdout",
     "output_type": "stream",
     "text": [
      "val_loss is not improved for 1 epochs\n",
      "                  validation\n",
      " - Yaw          :   0.865109\n",
      " - Pitch        :   0.986069\n",
      " - Roll         :   2.153473\n",
      " - RMS          :   1.653848\n",
      " - 99% Tile     :   6.507772\n"
     ]
    },
    {
     "name": "stderr",
     "output_type": "stream",
     "text": [
      "[0097/0200] Train: 100%|███████████████████████████████| 45/45 [00:05<00:00,  7.60it/s, loss 6.8181]\n",
      "[0097/0200] Validation: 100%|██████████████████████| 43/43 [00:03<00:00, 13.16it/s, val_loss 5.8109]\n",
      "[0098/0200] Train:   0%|                                                     | 0/45 [00:00<?, ?it/s]"
     ]
    },
    {
     "name": "stdout",
     "output_type": "stream",
     "text": [
      "val_loss is not improved for 2 epochs\n",
      "                  validation\n",
      " - Yaw          :   0.868164\n",
      " - Pitch        :   0.985783\n",
      " - Roll         :   2.153646\n",
      " - RMS          :   1.654559\n",
      " - 99% Tile     :   6.507657\n"
     ]
    },
    {
     "name": "stderr",
     "output_type": "stream",
     "text": [
      "[0098/0200] Train: 100%|███████████████████████████████| 45/45 [00:07<00:00,  6.33it/s, loss 6.9682]\n",
      "[0098/0200] Validation: 100%|██████████████████████| 43/43 [00:02<00:00, 17.18it/s, val_loss 5.8131]\n",
      "[0099/0200] Train:   0%|                                                     | 0/45 [00:00<?, ?it/s]"
     ]
    },
    {
     "name": "stdout",
     "output_type": "stream",
     "text": [
      "Decaying lr from 4.8828125e-07 to 2.44140625e-07 because val_loss did not improved for 3 epochs\n",
      "val_loss is not improved for 3 epochs\n",
      "                  validation\n",
      " - Yaw          :   0.870028\n",
      " - Pitch        :   0.987325\n",
      " - Roll         :   2.153440\n",
      " - RMS          :   1.655343\n",
      " - 99% Tile     :   6.508554\n"
     ]
    },
    {
     "name": "stderr",
     "output_type": "stream",
     "text": [
      "[0099/0200] Train: 100%|███████████████████████████████| 45/45 [00:06<00:00,  7.20it/s, loss 6.8592]\n",
      "[0099/0200] Validation: 100%|██████████████████████| 43/43 [00:02<00:00, 15.40it/s, val_loss 5.8162]\n",
      "[0100/0200] Train:   0%|                                                     | 0/45 [00:00<?, ?it/s]"
     ]
    },
    {
     "name": "stdout",
     "output_type": "stream",
     "text": [
      "val_loss is not improved for 4 epochs\n",
      "                  validation\n",
      " - Yaw          :   0.873830\n",
      " - Pitch        :   0.987620\n",
      " - Roll         :   2.153427\n",
      " - RMS          :   1.656458\n",
      " - 99% Tile     :   6.508052\n"
     ]
    },
    {
     "name": "stderr",
     "output_type": "stream",
     "text": [
      "[0100/0200] Train: 100%|███████████████████████████████| 45/45 [00:06<00:00,  6.68it/s, loss 6.7989]\n",
      "[0100/0200] Validation: 100%|██████████████████████| 43/43 [00:02<00:00, 18.63it/s, val_loss 5.8153]\n",
      "[0101/0200] Train:   0%|                                                     | 0/45 [00:00<?, ?it/s]"
     ]
    },
    {
     "name": "stdout",
     "output_type": "stream",
     "text": [
      "val_loss is not improved for 5 epochs\n",
      "                  validation\n",
      " - Yaw          :   0.873815\n",
      " - Pitch        :   0.986851\n",
      " - Roll         :   2.153457\n",
      " - RMS          :   1.656139\n",
      " - 99% Tile     :   6.507682\n"
     ]
    },
    {
     "name": "stderr",
     "output_type": "stream",
     "text": [
      "[0101/0200] Train: 100%|███████████████████████████████| 45/45 [00:06<00:00,  6.96it/s, loss 6.8088]\n",
      "[0101/0200] Validation: 100%|██████████████████████| 43/43 [00:03<00:00, 14.27it/s, val_loss 5.8141]\n",
      "[0102/0200] Train:   0%|                                                     | 0/45 [00:00<?, ?it/s]"
     ]
    },
    {
     "name": "stdout",
     "output_type": "stream",
     "text": [
      "Decaying lr from 2.44140625e-07 to 1.220703125e-07 because val_loss did not improved for 3 epochs\n",
      "val_loss is not improved for 6 epochs\n",
      "                  validation\n",
      " - Yaw          :   0.872608\n",
      " - Pitch        :   0.986794\n",
      " - Roll         :   2.153370\n",
      " - RMS          :   1.655671\n",
      " - 99% Tile     :   6.507870\n"
     ]
    },
    {
     "name": "stderr",
     "output_type": "stream",
     "text": [
      "[0102/0200] Train: 100%|███████████████████████████████| 45/45 [00:06<00:00,  6.86it/s, loss 6.8290]\n",
      "[0102/0200] Validation: 100%|██████████████████████| 43/43 [00:02<00:00, 19.30it/s, val_loss 5.8150]\n",
      "[0103/0200] Train:   0%|                                                     | 0/45 [00:00<?, ?it/s]"
     ]
    },
    {
     "name": "stdout",
     "output_type": "stream",
     "text": [
      "val_loss is not improved for 7 epochs\n",
      "                  validation\n",
      " - Yaw          :   0.873094\n",
      " - Pitch        :   0.986881\n",
      " - Roll         :   2.153487\n",
      " - RMS          :   1.655943\n",
      " - 99% Tile     :   6.507890\n"
     ]
    },
    {
     "name": "stderr",
     "output_type": "stream",
     "text": [
      "[0103/0200] Train: 100%|███████████████████████████████| 45/45 [00:06<00:00,  6.69it/s, loss 6.9104]\n",
      "[0103/0200] Validation: 100%|██████████████████████| 43/43 [00:02<00:00, 15.28it/s, val_loss 5.8152]\n",
      "[0104/0200] Train:   0%|                                                     | 0/45 [00:00<?, ?it/s]"
     ]
    },
    {
     "name": "stdout",
     "output_type": "stream",
     "text": [
      "val_loss is not improved for 8 epochs\n",
      "                  validation\n",
      " - Yaw          :   0.873233\n",
      " - Pitch        :   0.986931\n",
      " - Roll         :   2.153548\n",
      " - RMS          :   1.656006\n",
      " - 99% Tile     :   6.507923\n"
     ]
    },
    {
     "name": "stderr",
     "output_type": "stream",
     "text": [
      "[0104/0200] Train: 100%|███████████████████████████████| 45/45 [00:06<00:00,  6.80it/s, loss 6.8140]\n",
      "[0104/0200] Validation: 100%|██████████████████████| 43/43 [00:02<00:00, 18.05it/s, val_loss 5.8145]\n",
      "[0105/0200] Train:   0%|                                                     | 0/45 [00:00<?, ?it/s]"
     ]
    },
    {
     "name": "stdout",
     "output_type": "stream",
     "text": [
      "Decaying lr from 1.220703125e-07 to 6.103515625e-08 because val_loss did not improved for 3 epochs\n",
      "val_loss is not improved for 9 epochs\n",
      "                  validation\n",
      " - Yaw          :   0.872504\n",
      " - Pitch        :   0.986808\n",
      " - Roll         :   2.153495\n",
      " - RMS          :   1.655758\n",
      " - 99% Tile     :   6.507785\n"
     ]
    },
    {
     "name": "stderr",
     "output_type": "stream",
     "text": [
      "[0105/0200] Train: 100%|███████████████████████████████| 45/45 [00:06<00:00,  7.01it/s, loss 6.8782]\n",
      "[0105/0200] Validation: 100%|██████████████████████| 43/43 [00:02<00:00, 17.79it/s, val_loss 5.8146]"
     ]
    },
    {
     "name": "stdout",
     "output_type": "stream",
     "text": [
      "val_loss is not improved for 10 epochs\n",
      "Stop training because val_loss did not improved for 10 epochs\n",
      "                  validation\n",
      " - Yaw          :   0.872670\n",
      " - Pitch        :   0.986508\n",
      " - Roll         :   2.153558\n",
      " - RMS          :   1.655762\n",
      " - 99% Tile     :   6.507806\n"
     ]
    },
    {
     "name": "stderr",
     "output_type": "stream",
     "text": [
      "\n"
     ]
    }
   ],
   "source": [
    "trainer.fit(ds_train, ds_test, num_epochs=200, batch_size=256, shuffle=True, pin_memory=True)"
   ]
  },
  {
   "cell_type": "code",
   "execution_count": null,
   "metadata": {},
   "outputs": [],
   "source": []
  }
 ],
 "metadata": {
  "kernelspec": {
   "display_name": "torch",
   "language": "python",
   "name": "torch"
  },
  "language_info": {
   "codemirror_mode": {
    "name": "ipython",
    "version": 3
   },
   "file_extension": ".py",
   "mimetype": "text/x-python",
   "name": "python",
   "nbconvert_exporter": "python",
   "pygments_lexer": "ipython3",
   "version": "3.7.9"
  }
 },
 "nbformat": 4,
 "nbformat_minor": 4
}
