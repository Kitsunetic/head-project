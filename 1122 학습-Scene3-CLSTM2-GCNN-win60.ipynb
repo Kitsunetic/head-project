{
 "cells": [
  {
   "cell_type": "markdown",
   "metadata": {},
   "source": [
    "# 학습 결과\n",
    "\n",
    "user1의 scene 1~3만 사용해서 학습\n",
    "\n",
    "scene보다 user가 많기 때문에 데이터의 양이 확연히 줄어듬에도 불구하고 성능이 괜찮음.  \n",
    "적은 데이터 특화됐기 때문인지는 모르겠다.\n",
    "\n",
    "나머지 scene에 대해서도 잘 학습을 하면서 user에 대해서도 특화된다면 성능을 상당히 끌어올릴 수 있을 것으로 기대됨.  \n",
    "--> curriculum learning"
   ]
  },
  {
   "cell_type": "code",
   "execution_count": 1,
   "metadata": {},
   "outputs": [],
   "source": [
    "from multiprocessing import cpu_count\n",
    "from pathlib import Path\n",
    "from typing import List, Union, AnyStr\n",
    "from math import pi\n",
    "import pickle\n",
    "\n",
    "import numpy as np\n",
    "import torch\n",
    "import matplotlib.pyplot as plt\n",
    "import torch.nn as nn\n",
    "from sklearn import model_selection\n",
    "from tqdm import tqdm\n",
    "import torch_optimizer\n",
    "from torch.utils.data import Dataset\n",
    "import pandas as pd\n",
    "import random\n",
    "\n",
    "import torch_burn as tb\n",
    "import utils"
   ]
  },
  {
   "cell_type": "code",
   "execution_count": 2,
   "metadata": {},
   "outputs": [],
   "source": [
    "EXPERIMENT_NAME = '1122-Scene3-CLSTM2-GCNN-win60'\n",
    "CHECKPOINT_DIR = Path('checkpoint', EXPERIMENT_NAME)\n",
    "CHECKPOINT_DIR.mkdir(parents=True, exist_ok=True)\n",
    "\n",
    "DATA_DIR = Path('data/1116')\n",
    "TRAIN_FILES = sorted(list(DATA_DIR.glob('*scene3_0.csv')))\n",
    "TEST_FILES = sorted(list(DATA_DIR.glob('*scene3_1.csv')))"
   ]
  },
  {
   "cell_type": "markdown",
   "metadata": {},
   "source": [
    "# 데이터셋 생성\n",
    "\n",
    "scene1에 대해서 모든 user의 데이터를 하나로 합친다."
   ]
  },
  {
   "cell_type": "code",
   "execution_count": 3,
   "metadata": {},
   "outputs": [],
   "source": [
    "WINDOW_SIZE = 60"
   ]
  },
  {
   "cell_type": "code",
   "execution_count": 4,
   "metadata": {},
   "outputs": [],
   "source": [
    "class CSVSequentialDataset(Dataset):\n",
    "    def __init__(self, csvfile,\n",
    "                 window_size=300, randomized_window_size=False,\n",
    "                 stride=30, randomized_stride=False):\n",
    "        super(CSVSequentialDataset, self).__init__()\n",
    "\n",
    "        self.xcols = ['input_orientation_yaw', 'input_orientation_pitch', 'input_orientation_roll',\n",
    "                      'acceleration_x', 'acceleration_y', 'acceleration_z']\n",
    "        self.ycols = ['input_orientation_yaw', 'input_orientation_pitch', 'input_orientation_roll']\n",
    "\n",
    "        self.csv = pd.read_csv(csvfile)\n",
    "        self.window_size = window_size\n",
    "\n",
    "        self.indexes = []\n",
    "        i = 0\n",
    "        while i <= len(self.csv) - window_size * 2:\n",
    "            if randomized_window_size:\n",
    "                self.indexes.append((i, i + random.randint(window_size // 2, window_size)))\n",
    "            else:\n",
    "                self.indexes.append((i, i + window_size))\n",
    "\n",
    "            if randomized_stride:\n",
    "                i += random.randint(1, stride)\n",
    "            else:\n",
    "                i += stride\n",
    "\n",
    "    def __len__(self):\n",
    "        return len(self.indexes)\n",
    "\n",
    "    def __getitem__(self, idx):\n",
    "        s, t = self.indexes[idx]\n",
    "        x = self.csv.iloc[s:t][self.xcols].to_numpy()\n",
    "        y = self.csv.iloc[t + 6][self.ycols].to_numpy()\n",
    "\n",
    "        x = torch.tensor(x, dtype=torch.float32) # 300, 6\n",
    "        y = torch.tensor(y, dtype=torch.float32) # 3\n",
    "        \n",
    "        #x[:, :3] *= pi / 180\n",
    "        x[:, 3:] /= 10\n",
    "\n",
    "        return x, y"
   ]
  },
  {
   "cell_type": "code",
   "execution_count": 5,
   "metadata": {},
   "outputs": [],
   "source": [
    "ds_train = [CSVSequentialDataset(f,  \n",
    "                                 window_size=WINDOW_SIZE, randomized_window_size=False,\n",
    "                                 stride=5, randomized_stride=True) for f in TRAIN_FILES]\n",
    "ds_train = tb.data.ChainDataset(*ds_train)\n",
    "ds_test = [CSVSequentialDataset(f,  \n",
    "                                window_size=WINDOW_SIZE, randomized_window_size=False,\n",
    "                                stride=5, randomized_stride=True) for f in TEST_FILES]\n",
    "ds_test = tb.data.ChainDataset(*ds_test)"
   ]
  },
  {
   "cell_type": "code",
   "execution_count": 6,
   "metadata": {},
   "outputs": [
    {
     "data": {
      "text/plain": [
       "(18810, 18177)"
      ]
     },
     "execution_count": 6,
     "metadata": {},
     "output_type": "execute_result"
    }
   ],
   "source": [
    "len(ds_train), len(ds_test)"
   ]
  },
  {
   "cell_type": "code",
   "execution_count": 7,
   "metadata": {},
   "outputs": [
    {
     "data": {
      "text/plain": [
       "(torch.Size([60, 6]), torch.Size([3]))"
      ]
     },
     "execution_count": 7,
     "metadata": {},
     "output_type": "execute_result"
    }
   ],
   "source": [
    "ds_train[0][0].shape, ds_train[0][1].shape"
   ]
  },
  {
   "cell_type": "code",
   "execution_count": 8,
   "metadata": {},
   "outputs": [],
   "source": [
    "x, y = ds_train[0]"
   ]
  },
  {
   "cell_type": "code",
   "execution_count": 9,
   "metadata": {},
   "outputs": [
    {
     "data": {
      "text/plain": [
       "torch.Size([60, 6])"
      ]
     },
     "execution_count": 9,
     "metadata": {},
     "output_type": "execute_result"
    }
   ],
   "source": [
    "x.shape"
   ]
  },
  {
   "cell_type": "code",
   "execution_count": 10,
   "metadata": {},
   "outputs": [
    {
     "data": {
      "text/plain": [
       "[<matplotlib.lines.Line2D at 0x7f085a018190>]"
      ]
     },
     "execution_count": 10,
     "metadata": {},
     "output_type": "execute_result"
    },
    {
     "data": {
      "image/png": "[encoded data removed]",
      "text/plain": [
       "<Figure size 432x288 with 1 Axes>"
      ]
     },
     "metadata": {
      "needs_background": "light"
     },
     "output_type": "display_data"
    }
   ],
   "source": [
    "plt.plot(x[:, 2])"
   ]
  },
  {
   "cell_type": "markdown",
   "metadata": {},
   "source": [
    "# 모델 생성"
   ]
  },
  {
   "cell_type": "code",
   "execution_count": 11,
   "metadata": {},
   "outputs": [],
   "source": [
    "class CLSTM(nn.Module):\n",
    "    def __init__(self, input_size=6, hidden_size=24, num_layers=8, dropout=0.0, bidirectional=False):\n",
    "        super(CLSTM, self).__init__()\n",
    "\n",
    "        self.conv_in = nn.Sequential(\n",
    "            nn.Conv1d(input_size, 12, 5, padding=2, groups=2),\n",
    "            nn.BatchNorm1d(12),\n",
    "            nn.LeakyReLU(),\n",
    "            nn.Conv1d(12, 24, 5, padding=2),\n",
    "            nn.BatchNorm1d(24),\n",
    "        )\n",
    "\n",
    "        self.rnn = nn.LSTM(input_size=24,\n",
    "                           hidden_size=hidden_size,\n",
    "                           num_layers=num_layers,\n",
    "                           batch_first=True,\n",
    "                           dropout=dropout,\n",
    "                           bidirectional=bidirectional)\n",
    "\n",
    "        out_channels = 2 * hidden_size if bidirectional else hidden_size\n",
    "        self.fc = nn.Linear(out_channels, 3)\n",
    "\n",
    "    def forward(self, x):\n",
    "        x = x.transpose(1, 2)  # B, 48, 6 --> B, 6, 48\n",
    "        x = self.conv_in(x)  # B, 64, 48\n",
    "        x = x.transpose(1, 2)  # B, 48, 64\n",
    "\n",
    "        outs, (hiddens, cells) = self.rnn(x)\n",
    "        x = outs[:, -1, ...]\n",
    "        x = self.fc(x)\n",
    "\n",
    "        return x"
   ]
  },
  {
   "cell_type": "code",
   "execution_count": 12,
   "metadata": {},
   "outputs": [],
   "source": [
    "model = CLSTM(input_size=6, hidden_size=64, num_layers=8, dropout=0.2, bidirectional=True).cuda()"
   ]
  },
  {
   "cell_type": "code",
   "execution_count": 13,
   "metadata": {},
   "outputs": [],
   "source": [
    "criterion = nn.MSELoss().cuda()\n",
    "optimizer = torch_optimizer.RAdam(model.parameters())"
   ]
  },
  {
   "cell_type": "code",
   "execution_count": 14,
   "metadata": {},
   "outputs": [],
   "source": [
    "metrics = [tb.metrics.ModuleMetric(criterion, 'loss'),\n",
    "           utils.HPMetric('hp_metric'),\n",
    "           utils.HPSignalHistory(CHECKPOINT_DIR / 'sample' / '{epoch:04d}.npy', 'hp_signal')]"
   ]
  },
  {
   "cell_type": "code",
   "execution_count": 15,
   "metadata": {},
   "outputs": [],
   "source": [
    "callbacks = [tb.callbacks.EarlyStopping(metrics[0]),\n",
    "             tb.callbacks.LRDecaying(optimizer, metrics[0])]"
   ]
  },
  {
   "cell_type": "code",
   "execution_count": 16,
   "metadata": {},
   "outputs": [],
   "source": [
    "trainer = tb.Trainer(model, optimizer, metrics, callbacks, ncols=100)"
   ]
  },
  {
   "cell_type": "code",
   "execution_count": 17,
   "metadata": {},
   "outputs": [
    {
     "name": "stderr",
     "output_type": "stream",
     "text": [
      "[0001/0100] Train: 100%|█████████████████████████████| 74/74 [00:11<00:00,  6.65it/s, loss 286.1170]\n",
      "[0001/0100] Validation: 100%|████████████████████| 72/72 [00:04<00:00, 14.73it/s, val_loss 222.6179]\n",
      "[0002/0100] Train:   0%|                                                     | 0/74 [00:00<?, ?it/s]"
     ]
    },
    {
     "name": "stdout",
     "output_type": "stream",
     "text": [
      "                  validation\n",
      " - Yaw          :  18.987236\n",
      " - Pitch        :  10.055202\n",
      " - Roll         :   2.580120\n",
      " - RMS          :  12.493722\n",
      " - 99% Tile     :  43.576655\n",
      "Save output signals into checkpoint/1122-Scene3-CLSTM2-GCNN-win60/sample/0001.npy\n"
     ]
    },
    {
     "name": "stderr",
     "output_type": "stream",
     "text": [
      "[0002/0100] Train: 100%|█████████████████████████████| 74/74 [00:10<00:00,  7.22it/s, loss 237.4963]\n",
      "[0002/0100] Validation: 100%|████████████████████| 72/72 [00:04<00:00, 16.26it/s, val_loss 165.9954]\n",
      "[0003/0100] Train:   0%|                                                     | 0/74 [00:00<?, ?it/s]"
     ]
    },
    {
     "name": "stdout",
     "output_type": "stream",
     "text": [
      "                  validation\n",
      " - Yaw          :  15.380226\n",
      " - Pitch        :   8.925334\n",
      " - Roll         :   2.550181\n",
      " - RMS          :  10.371698\n",
      " - 99% Tile     :  40.061341\n",
      "Save output signals into checkpoint/1122-Scene3-CLSTM2-GCNN-win60/sample/0002.npy\n"
     ]
    },
    {
     "name": "stderr",
     "output_type": "stream",
     "text": [
      "[0003/0100] Train: 100%|█████████████████████████████| 74/74 [00:10<00:00,  7.08it/s, loss 177.3067]\n",
      "[0003/0100] Validation: 100%|████████████████████| 72/72 [00:04<00:00, 17.98it/s, val_loss 121.0034]\n",
      "[0004/0100] Train:   0%|                                                     | 0/74 [00:00<?, ?it/s]"
     ]
    },
    {
     "name": "stdout",
     "output_type": "stream",
     "text": [
      "                  validation\n",
      " - Yaw          :  11.976599\n",
      " - Pitch        :   8.573917\n",
      " - Roll         :   2.412032\n",
      " - RMS          :   8.617209\n",
      " - 99% Tile     :  34.121802\n",
      "Save output signals into checkpoint/1122-Scene3-CLSTM2-GCNN-win60/sample/0003.npy\n"
     ]
    },
    {
     "name": "stderr",
     "output_type": "stream",
     "text": [
      "[0004/0100] Train: 100%|█████████████████████████████| 74/74 [00:10<00:00,  7.13it/s, loss 138.5734]\n",
      "[0004/0100] Validation: 100%|█████████████████████| 72/72 [00:03<00:00, 19.61it/s, val_loss 95.5715]\n",
      "[0005/0100] Train:   0%|                                                     | 0/74 [00:00<?, ?it/s]"
     ]
    },
    {
     "name": "stdout",
     "output_type": "stream",
     "text": [
      "                  validation\n",
      " - Yaw          :  10.261410\n",
      " - Pitch        :   7.772922\n",
      " - Roll         :   2.389903\n",
      " - RMS          :   7.559244\n",
      " - 99% Tile     :  30.709984\n",
      "Save output signals into checkpoint/1122-Scene3-CLSTM2-GCNN-win60/sample/0004.npy\n"
     ]
    },
    {
     "name": "stderr",
     "output_type": "stream",
     "text": [
      "[0005/0100] Train: 100%|█████████████████████████████| 74/74 [00:11<00:00,  6.64it/s, loss 115.1666]\n",
      "[0005/0100] Validation: 100%|█████████████████████| 72/72 [00:04<00:00, 14.49it/s, val_loss 81.1703]\n",
      "[0006/0100] Train:   0%|                                                     | 0/74 [00:00<?, ?it/s]"
     ]
    },
    {
     "name": "stdout",
     "output_type": "stream",
     "text": [
      "                  validation\n",
      " - Yaw          :   9.939695\n",
      " - Pitch        :   6.893267\n",
      " - Roll         :   2.389472\n",
      " - RMS          :   7.118620\n",
      " - 99% Tile     :  27.956600\n",
      "Save output signals into checkpoint/1122-Scene3-CLSTM2-GCNN-win60/sample/0005.npy\n"
     ]
    },
    {
     "name": "stderr",
     "output_type": "stream",
     "text": [
      "[0006/0100] Train: 100%|██████████████████████████████| 74/74 [00:10<00:00,  7.18it/s, loss 96.2833]\n",
      "[0006/0100] Validation: 100%|█████████████████████| 72/72 [00:05<00:00, 13.77it/s, val_loss 66.1886]\n",
      "[0007/0100] Train:   0%|                                                     | 0/74 [00:00<?, ?it/s]"
     ]
    },
    {
     "name": "stdout",
     "output_type": "stream",
     "text": [
      "                  validation\n",
      " - Yaw          :   7.914570\n",
      " - Pitch        :   6.937367\n",
      " - Roll         :   2.395451\n",
      " - RMS          :   6.231791\n",
      " - 99% Tile     :  25.544344\n",
      "Save output signals into checkpoint/1122-Scene3-CLSTM2-GCNN-win60/sample/0006.npy\n"
     ]
    },
    {
     "name": "stderr",
     "output_type": "stream",
     "text": [
      "[0007/0100] Train: 100%|██████████████████████████████| 74/74 [00:10<00:00,  6.82it/s, loss 79.5969]\n",
      "[0007/0100] Validation: 100%|█████████████████████| 72/72 [00:04<00:00, 15.73it/s, val_loss 55.9359]\n",
      "[0008/0100] Train:   0%|                                                     | 0/74 [00:00<?, ?it/s]"
     ]
    },
    {
     "name": "stdout",
     "output_type": "stream",
     "text": [
      "                  validation\n",
      " - Yaw          :   6.541382\n",
      " - Pitch        :   6.762585\n",
      " - Roll         :   2.372139\n",
      " - RMS          :   5.602061\n",
      " - 99% Tile     :  24.569405\n",
      "Save output signals into checkpoint/1122-Scene3-CLSTM2-GCNN-win60/sample/0007.npy\n"
     ]
    },
    {
     "name": "stderr",
     "output_type": "stream",
     "text": [
      "[0008/0100] Train: 100%|██████████████████████████████| 74/74 [00:09<00:00,  7.51it/s, loss 68.1061]\n",
      "[0008/0100] Validation: 100%|█████████████████████| 72/72 [00:04<00:00, 15.86it/s, val_loss 48.5281]\n",
      "[0009/0100] Train:   0%|                                                     | 0/74 [00:00<?, ?it/s]"
     ]
    },
    {
     "name": "stdout",
     "output_type": "stream",
     "text": [
      "                  validation\n",
      " - Yaw          :   5.464609\n",
      " - Pitch        :   7.004905\n",
      " - Roll         :   2.348824\n",
      " - RMS          :   5.305583\n",
      " - 99% Tile     :  22.861292\n",
      "Save output signals into checkpoint/1122-Scene3-CLSTM2-GCNN-win60/sample/0008.npy\n"
     ]
    },
    {
     "name": "stderr",
     "output_type": "stream",
     "text": [
      "[0009/0100] Train: 100%|██████████████████████████████| 74/74 [00:10<00:00,  7.32it/s, loss 58.9249]\n",
      "[0009/0100] Validation: 100%|█████████████████████| 72/72 [00:02<00:00, 24.44it/s, val_loss 43.2176]\n",
      "[0010/0100] Train:   0%|                                                     | 0/74 [00:00<?, ?it/s]"
     ]
    },
    {
     "name": "stdout",
     "output_type": "stream",
     "text": [
      "                  validation\n",
      " - Yaw          :   4.818790\n",
      " - Pitch        :   6.784779\n",
      " - Roll         :   2.334614\n",
      " - RMS          :   4.990137\n",
      " - 99% Tile     :  22.078078\n",
      "Save output signals into checkpoint/1122-Scene3-CLSTM2-GCNN-win60/sample/0009.npy\n"
     ]
    },
    {
     "name": "stderr",
     "output_type": "stream",
     "text": [
      "[0010/0100] Train: 100%|██████████████████████████████| 74/74 [00:07<00:00, 10.13it/s, loss 52.9330]\n",
      "[0010/0100] Validation: 100%|█████████████████████| 72/72 [00:02<00:00, 24.38it/s, val_loss 39.9977]\n",
      "[0011/0100] Train:   0%|                                                     | 0/74 [00:00<?, ?it/s]"
     ]
    },
    {
     "name": "stdout",
     "output_type": "stream",
     "text": [
      "                  validation\n",
      " - Yaw          :   4.619475\n",
      " - Pitch        :   6.714156\n",
      " - Roll         :   2.369461\n",
      " - RMS          :   4.900129\n",
      " - 99% Tile     :  21.127481\n",
      "Save output signals into checkpoint/1122-Scene3-CLSTM2-GCNN-win60/sample/0010.npy\n"
     ]
    },
    {
     "name": "stderr",
     "output_type": "stream",
     "text": [
      "[0011/0100] Train: 100%|██████████████████████████████| 74/74 [00:07<00:00, 10.18it/s, loss 47.6176]\n",
      "[0011/0100] Validation: 100%|█████████████████████| 72/72 [00:03<00:00, 23.89it/s, val_loss 35.8292]\n",
      "[0012/0100] Train:   0%|                                                     | 0/74 [00:00<?, ?it/s]"
     ]
    },
    {
     "name": "stdout",
     "output_type": "stream",
     "text": [
      "                  validation\n",
      " - Yaw          :   3.706717\n",
      " - Pitch        :   6.729342\n",
      " - Roll         :   2.307802\n",
      " - RMS          :   4.631405\n",
      " - 99% Tile     :  20.458751\n",
      "Save output signals into checkpoint/1122-Scene3-CLSTM2-GCNN-win60/sample/0011.npy\n"
     ]
    },
    {
     "name": "stderr",
     "output_type": "stream",
     "text": [
      "[0012/0100] Train: 100%|██████████████████████████████| 74/74 [00:07<00:00, 10.16it/s, loss 43.2236]\n",
      "[0012/0100] Validation: 100%|█████████████████████| 72/72 [00:03<00:00, 23.96it/s, val_loss 35.8264]\n",
      "[0013/0100] Train:   0%|                                                     | 0/74 [00:00<?, ?it/s]"
     ]
    },
    {
     "name": "stdout",
     "output_type": "stream",
     "text": [
      "                  validation\n",
      " - Yaw          :   3.865656\n",
      " - Pitch        :   6.522947\n",
      " - Roll         :   2.272817\n",
      " - RMS          :   4.570115\n",
      " - 99% Tile     :  20.420509\n",
      "Save output signals into checkpoint/1122-Scene3-CLSTM2-GCNN-win60/sample/0012.npy\n"
     ]
    },
    {
     "name": "stderr",
     "output_type": "stream",
     "text": [
      "[0013/0100] Train: 100%|██████████████████████████████| 74/74 [00:07<00:00, 10.41it/s, loss 40.5812]\n",
      "[0013/0100] Validation: 100%|█████████████████████| 72/72 [00:02<00:00, 24.13it/s, val_loss 34.9542]\n",
      "[0014/0100] Train:   0%|                                                     | 0/74 [00:00<?, ?it/s]"
     ]
    },
    {
     "name": "stdout",
     "output_type": "stream",
     "text": [
      "                  validation\n",
      " - Yaw          :   3.610354\n",
      " - Pitch        :   6.496861\n",
      " - Roll         :   2.301535\n",
      " - RMS          :   4.492250\n",
      " - 99% Tile     :  20.594160\n",
      "Save output signals into checkpoint/1122-Scene3-CLSTM2-GCNN-win60/sample/0013.npy\n"
     ]
    },
    {
     "name": "stderr",
     "output_type": "stream",
     "text": [
      "[0014/0100] Train: 100%|██████████████████████████████| 74/74 [00:07<00:00,  9.67it/s, loss 38.0560]\n",
      "[0014/0100] Validation: 100%|█████████████████████| 72/72 [00:02<00:00, 25.23it/s, val_loss 32.5039]\n",
      "[0015/0100] Train:   0%|                                                     | 0/74 [00:00<?, ?it/s]"
     ]
    },
    {
     "name": "stdout",
     "output_type": "stream",
     "text": [
      "                  validation\n",
      " - Yaw          :   3.343930\n",
      " - Pitch        :   6.291872\n",
      " - Roll         :   2.308036\n",
      " - RMS          :   4.324217\n",
      " - 99% Tile     :  20.360799\n",
      "Save output signals into checkpoint/1122-Scene3-CLSTM2-GCNN-win60/sample/0014.npy\n"
     ]
    },
    {
     "name": "stderr",
     "output_type": "stream",
     "text": [
      "[0015/0100] Train: 100%|██████████████████████████████| 74/74 [00:08<00:00,  9.17it/s, loss 35.6836]\n",
      "[0015/0100] Validation: 100%|█████████████████████| 72/72 [00:02<00:00, 26.64it/s, val_loss 34.0318]\n",
      "[0016/0100] Train:   0%|                                                     | 0/74 [00:00<?, ?it/s]"
     ]
    },
    {
     "name": "stdout",
     "output_type": "stream",
     "text": [
      "val_loss is not improved for 1 epochs\n",
      "                  validation\n",
      " - Yaw          :   4.008550\n",
      " - Pitch        :   6.213079\n",
      " - Roll         :   2.360194\n",
      " - RMS          :   4.481121\n",
      " - 99% Tile     :  20.068890\n",
      "Save output signals into checkpoint/1122-Scene3-CLSTM2-GCNN-win60/sample/0015.npy\n"
     ]
    },
    {
     "name": "stderr",
     "output_type": "stream",
     "text": [
      "[0016/0100] Train: 100%|██████████████████████████████| 74/74 [00:08<00:00,  8.85it/s, loss 34.9981]\n",
      "[0016/0100] Validation: 100%|█████████████████████| 72/72 [00:02<00:00, 26.24it/s, val_loss 31.8553]\n",
      "[0017/0100] Train:   0%|                                                     | 0/74 [00:00<?, ?it/s]"
     ]
    },
    {
     "name": "stdout",
     "output_type": "stream",
     "text": [
      "                  validation\n",
      " - Yaw          :   3.113797\n",
      " - Pitch        :   6.167644\n",
      " - Roll         :   2.327960\n",
      " - RMS          :   4.209313\n",
      " - 99% Tile     :  20.579841\n",
      "Save output signals into checkpoint/1122-Scene3-CLSTM2-GCNN-win60/sample/0016.npy\n"
     ]
    },
    {
     "name": "stderr",
     "output_type": "stream",
     "text": [
      "[0017/0100] Train: 100%|██████████████████████████████| 74/74 [00:08<00:00,  9.13it/s, loss 36.8994]\n",
      "[0017/0100] Validation: 100%|█████████████████████| 72/72 [00:02<00:00, 25.30it/s, val_loss 31.6838]\n",
      "[0018/0100] Train:   0%|                                                     | 0/74 [00:00<?, ?it/s]"
     ]
    },
    {
     "name": "stdout",
     "output_type": "stream",
     "text": [
      "                  validation\n",
      " - Yaw          :   2.822154\n",
      " - Pitch        :   6.311064\n",
      " - Roll         :   2.285802\n",
      " - RMS          :   4.203926\n",
      " - 99% Tile     :  21.378236\n",
      "Save output signals into checkpoint/1122-Scene3-CLSTM2-GCNN-win60/sample/0017.npy\n"
     ]
    },
    {
     "name": "stderr",
     "output_type": "stream",
     "text": [
      "[0018/0100] Train: 100%|██████████████████████████████| 74/74 [00:08<00:00,  8.98it/s, loss 30.4541]\n",
      "[0018/0100] Validation: 100%|█████████████████████| 72/72 [00:03<00:00, 22.99it/s, val_loss 22.1218]\n",
      "[0019/0100] Train:   0%|                                                     | 0/74 [00:00<?, ?it/s]"
     ]
    },
    {
     "name": "stdout",
     "output_type": "stream",
     "text": [
      "                  validation\n",
      " - Yaw          :   2.922097\n",
      " - Pitch        :   4.480429\n",
      " - Roll         :   2.310008\n",
      " - RMS          :   3.363977\n",
      " - 99% Tile     :  17.105326\n",
      "Save output signals into checkpoint/1122-Scene3-CLSTM2-GCNN-win60/sample/0018.npy\n"
     ]
    },
    {
     "name": "stderr",
     "output_type": "stream",
     "text": [
      "[0019/0100] Train: 100%|██████████████████████████████| 74/74 [00:07<00:00,  9.41it/s, loss 24.4356]\n",
      "[0019/0100] Validation: 100%|█████████████████████| 72/72 [00:03<00:00, 21.11it/s, val_loss 17.0636]\n",
      "[0020/0100] Train:   0%|                                                     | 0/74 [00:00<?, ?it/s]"
     ]
    },
    {
     "name": "stdout",
     "output_type": "stream",
     "text": [
      "                  validation\n",
      " - Yaw          :   2.371081\n",
      " - Pitch        :   3.451312\n",
      " - Roll         :   2.336005\n",
      " - RMS          :   2.768302\n",
      " - 99% Tile     :  16.097345\n",
      "Save output signals into checkpoint/1122-Scene3-CLSTM2-GCNN-win60/sample/0019.npy\n"
     ]
    },
    {
     "name": "stderr",
     "output_type": "stream",
     "text": [
      "[0020/0100] Train: 100%|██████████████████████████████| 74/74 [00:07<00:00,  9.48it/s, loss 19.6758]\n",
      "[0020/0100] Validation: 100%|█████████████████████| 72/72 [00:03<00:00, 21.52it/s, val_loss 10.5094]\n",
      "[0021/0100] Train:   0%|                                                     | 0/74 [00:00<?, ?it/s]"
     ]
    },
    {
     "name": "stdout",
     "output_type": "stream",
     "text": [
      "                  validation\n",
      " - Yaw          :   2.046786\n",
      " - Pitch        :   2.454277\n",
      " - Roll         :   2.323683\n",
      " - RMS          :   2.281250\n",
      " - 99% Tile     :  11.279736\n",
      "Save output signals into checkpoint/1122-Scene3-CLSTM2-GCNN-win60/sample/0020.npy\n"
     ]
    },
    {
     "name": "stderr",
     "output_type": "stream",
     "text": [
      "[0021/0100] Train: 100%|██████████████████████████████| 74/74 [00:08<00:00,  9.20it/s, loss 15.8612]\n",
      "[0021/0100] Validation: 100%|██████████████████████| 72/72 [00:03<00:00, 20.34it/s, val_loss 8.4296]\n",
      "[0022/0100] Train:   0%|                                                     | 0/74 [00:00<?, ?it/s]"
     ]
    },
    {
     "name": "stdout",
     "output_type": "stream",
     "text": [
      "                  validation\n",
      " - Yaw          :   1.837773\n",
      " - Pitch        :   2.028791\n",
      " - Roll         :   2.290684\n",
      " - RMS          :   2.060796\n",
      " - 99% Tile     :   9.970711\n",
      "Save output signals into checkpoint/1122-Scene3-CLSTM2-GCNN-win60/sample/0021.npy\n"
     ]
    },
    {
     "name": "stderr",
     "output_type": "stream",
     "text": [
      "[0022/0100] Train: 100%|██████████████████████████████| 74/74 [00:08<00:00,  9.05it/s, loss 14.3828]\n",
      "[0022/0100] Validation: 100%|██████████████████████| 72/72 [00:03<00:00, 18.81it/s, val_loss 7.2819]\n",
      "[0023/0100] Train:   0%|                                                     | 0/74 [00:00<?, ?it/s]"
     ]
    },
    {
     "name": "stdout",
     "output_type": "stream",
     "text": [
      "                  validation\n",
      " - Yaw          :   1.689586\n",
      " - Pitch        :   1.710211\n",
      " - Roll         :   2.319495\n",
      " - RMS          :   1.928694\n",
      " - 99% Tile     :   9.068843\n",
      "Save output signals into checkpoint/1122-Scene3-CLSTM2-GCNN-win60/sample/0022.npy\n"
     ]
    },
    {
     "name": "stderr",
     "output_type": "stream",
     "text": [
      "[0023/0100] Train: 100%|██████████████████████████████| 74/74 [00:07<00:00,  9.27it/s, loss 13.2017]\n",
      "[0023/0100] Validation: 100%|██████████████████████| 72/72 [00:03<00:00, 19.77it/s, val_loss 6.8990]\n",
      "[0024/0100] Train:   0%|                                                     | 0/74 [00:00<?, ?it/s]"
     ]
    },
    {
     "name": "stdout",
     "output_type": "stream",
     "text": [
      "                  validation\n",
      " - Yaw          :   1.539449\n",
      " - Pitch        :   1.688442\n",
      " - Roll         :   2.264445\n",
      " - RMS          :   1.857278\n",
      " - 99% Tile     :   8.547568\n",
      "Save output signals into checkpoint/1122-Scene3-CLSTM2-GCNN-win60/sample/0023.npy\n"
     ]
    },
    {
     "name": "stderr",
     "output_type": "stream",
     "text": [
      "[0024/0100] Train: 100%|██████████████████████████████| 74/74 [00:07<00:00,  9.36it/s, loss 12.1220]\n",
      "[0024/0100] Validation: 100%|██████████████████████| 72/72 [00:03<00:00, 20.31it/s, val_loss 6.3220]\n",
      "[0025/0100] Train:   0%|                                                     | 0/74 [00:00<?, ?it/s]"
     ]
    },
    {
     "name": "stdout",
     "output_type": "stream",
     "text": [
      "                  validation\n",
      " - Yaw          :   1.420867\n",
      " - Pitch        :   1.511836\n",
      " - Roll         :   2.259306\n",
      " - RMS          :   1.770967\n",
      " - 99% Tile     :   8.188414\n",
      "Save output signals into checkpoint/1122-Scene3-CLSTM2-GCNN-win60/sample/0024.npy\n"
     ]
    },
    {
     "name": "stderr",
     "output_type": "stream",
     "text": [
      "[0025/0100] Train: 100%|██████████████████████████████| 74/74 [00:08<00:00,  9.08it/s, loss 11.3340]\n",
      "[0025/0100] Validation: 100%|██████████████████████| 72/72 [00:03<00:00, 18.07it/s, val_loss 6.9593]\n",
      "[0026/0100] Train:   0%|                                                     | 0/74 [00:00<?, ?it/s]"
     ]
    },
    {
     "name": "stdout",
     "output_type": "stream",
     "text": [
      "val_loss is not improved for 1 epochs\n",
      "                  validation\n",
      " - Yaw          :   1.926369\n",
      " - Pitch        :   1.717849\n",
      " - Roll         :   2.230824\n",
      " - RMS          :   1.969643\n",
      " - 99% Tile     :   8.155431\n",
      "Save output signals into checkpoint/1122-Scene3-CLSTM2-GCNN-win60/sample/0025.npy\n"
     ]
    },
    {
     "name": "stderr",
     "output_type": "stream",
     "text": [
      "[0026/0100] Train: 100%|██████████████████████████████| 74/74 [00:08<00:00,  8.84it/s, loss 10.8854]\n",
      "[0026/0100] Validation: 100%|██████████████████████| 72/72 [00:03<00:00, 18.88it/s, val_loss 5.5969]\n",
      "[0027/0100] Train:   0%|                                                     | 0/74 [00:00<?, ?it/s]"
     ]
    },
    {
     "name": "stdout",
     "output_type": "stream",
     "text": [
      "                  validation\n",
      " - Yaw          :   1.294534\n",
      " - Pitch        :   1.319256\n",
      " - Roll         :   2.273889\n",
      " - RMS          :   1.691826\n",
      " - 99% Tile     :   7.811272\n",
      "Save output signals into checkpoint/1122-Scene3-CLSTM2-GCNN-win60/sample/0026.npy\n"
     ]
    },
    {
     "name": "stderr",
     "output_type": "stream",
     "text": [
      "[0027/0100] Train: 100%|██████████████████████████████| 74/74 [00:07<00:00,  9.26it/s, loss 10.3803]\n",
      "[0027/0100] Validation: 100%|██████████████████████| 72/72 [00:03<00:00, 19.61it/s, val_loss 8.6279]\n",
      "[0028/0100] Train:   0%|                                                     | 0/74 [00:00<?, ?it/s]"
     ]
    },
    {
     "name": "stdout",
     "output_type": "stream",
     "text": [
      "val_loss is not improved for 1 epochs\n",
      "                  validation\n",
      " - Yaw          :   3.160206\n",
      " - Pitch        :   1.399451\n",
      " - Roll         :   2.185750\n",
      " - RMS          :   2.360993\n",
      " - 99% Tile     :   8.082187\n",
      "Save output signals into checkpoint/1122-Scene3-CLSTM2-GCNN-win60/sample/0027.npy\n"
     ]
    },
    {
     "name": "stderr",
     "output_type": "stream",
     "text": [
      "[0028/0100] Train: 100%|███████████████████████████████| 74/74 [00:07<00:00,  9.26it/s, loss 9.9095]\n",
      "[0028/0100] Validation: 100%|██████████████████████| 72/72 [00:03<00:00, 20.48it/s, val_loss 5.9600]\n",
      "[0029/0100] Train:   0%|                                                     | 0/74 [00:00<?, ?it/s]"
     ]
    },
    {
     "name": "stdout",
     "output_type": "stream",
     "text": [
      "val_loss is not improved for 2 epochs\n",
      "                  validation\n",
      " - Yaw          :   1.468460\n",
      " - Pitch        :   1.548390\n",
      " - Roll         :   2.230253\n",
      " - RMS          :   1.782125\n",
      " - 99% Tile     :   7.810614\n",
      "Save output signals into checkpoint/1122-Scene3-CLSTM2-GCNN-win60/sample/0028.npy\n"
     ]
    },
    {
     "name": "stderr",
     "output_type": "stream",
     "text": [
      "[0029/0100] Train: 100%|███████████████████████████████| 74/74 [00:07<00:00,  9.36it/s, loss 9.3037]\n",
      "[0029/0100] Validation: 100%|██████████████████████| 72/72 [00:03<00:00, 22.06it/s, val_loss 5.7321]\n",
      "[0030/0100] Train:   0%|                                                     | 0/74 [00:00<?, ?it/s]"
     ]
    },
    {
     "name": "stdout",
     "output_type": "stream",
     "text": [
      "val_loss is not improved for 3 epochs\n",
      "                  validation\n",
      " - Yaw          :   1.809214\n",
      " - Pitch        :   1.219619\n",
      " - Roll         :   2.237361\n",
      " - RMS          :   1.804301\n",
      " - 99% Tile     :   7.415505\n",
      "Save output signals into checkpoint/1122-Scene3-CLSTM2-GCNN-win60/sample/0029.npy\n"
     ]
    },
    {
     "name": "stderr",
     "output_type": "stream",
     "text": [
      "[0030/0100] Train: 100%|███████████████████████████████| 74/74 [00:07<00:00,  9.82it/s, loss 8.7277]\n",
      "[0030/0100] Validation: 100%|██████████████████████| 72/72 [00:03<00:00, 22.07it/s, val_loss 5.4504]\n",
      "[0031/0100] Train:   0%|                                                     | 0/74 [00:00<?, ?it/s]"
     ]
    },
    {
     "name": "stdout",
     "output_type": "stream",
     "text": [
      "                  validation\n",
      " - Yaw          :   1.693772\n",
      " - Pitch        :   1.203093\n",
      " - Roll         :   2.214706\n",
      " - RMS          :   1.753208\n",
      " - 99% Tile     :   7.233268\n",
      "Save output signals into checkpoint/1122-Scene3-CLSTM2-GCNN-win60/sample/0030.npy\n"
     ]
    },
    {
     "name": "stderr",
     "output_type": "stream",
     "text": [
      "[0031/0100] Train: 100%|███████████████████████████████| 74/74 [00:07<00:00,  9.54it/s, loss 8.7513]\n",
      "[0031/0100] Validation: 100%|██████████████████████| 72/72 [00:03<00:00, 19.90it/s, val_loss 5.2708]\n",
      "[0032/0100] Train:   0%|                                                     | 0/74 [00:00<?, ?it/s]"
     ]
    },
    {
     "name": "stdout",
     "output_type": "stream",
     "text": [
      "                  validation\n",
      " - Yaw          :   1.327330\n",
      " - Pitch        :   1.408190\n",
      " - Roll         :   2.248190\n",
      " - RMS          :   1.712616\n",
      " - 99% Tile     :   7.340910\n",
      "Save output signals into checkpoint/1122-Scene3-CLSTM2-GCNN-win60/sample/0031.npy\n"
     ]
    },
    {
     "name": "stderr",
     "output_type": "stream",
     "text": [
      "[0032/0100] Train: 100%|███████████████████████████████| 74/74 [00:07<00:00, 10.03it/s, loss 8.2163]\n",
      "[0032/0100] Validation: 100%|██████████████████████| 72/72 [00:03<00:00, 21.00it/s, val_loss 5.1537]\n",
      "[0033/0100] Train:   0%|                                                     | 0/74 [00:00<?, ?it/s]"
     ]
    },
    {
     "name": "stdout",
     "output_type": "stream",
     "text": [
      "                  validation\n",
      " - Yaw          :   1.427878\n",
      " - Pitch        :   1.271171\n",
      " - Roll         :   2.227013\n",
      " - RMS          :   1.694530\n",
      " - 99% Tile     :   7.085244\n",
      "Save output signals into checkpoint/1122-Scene3-CLSTM2-GCNN-win60/sample/0032.npy\n"
     ]
    },
    {
     "name": "stderr",
     "output_type": "stream",
     "text": [
      "[0033/0100] Train: 100%|███████████████████████████████| 74/74 [00:07<00:00,  9.98it/s, loss 7.9237]\n",
      "[0033/0100] Validation: 100%|██████████████████████| 72/72 [00:03<00:00, 20.08it/s, val_loss 5.5134]\n",
      "[0034/0100] Train:   0%|                                                     | 0/74 [00:00<?, ?it/s]"
     ]
    },
    {
     "name": "stdout",
     "output_type": "stream",
     "text": [
      "val_loss is not improved for 1 epochs\n",
      "                  validation\n",
      " - Yaw          :   1.653839\n",
      " - Pitch        :   1.225334\n",
      " - Roll         :   2.214518\n",
      " - RMS          :   1.745539\n",
      " - 99% Tile     :   7.227960\n",
      "Save output signals into checkpoint/1122-Scene3-CLSTM2-GCNN-win60/sample/0033.npy\n"
     ]
    },
    {
     "name": "stderr",
     "output_type": "stream",
     "text": [
      "[0034/0100] Train: 100%|███████████████████████████████| 74/74 [00:07<00:00, 10.23it/s, loss 7.7395]\n",
      "[0034/0100] Validation: 100%|██████████████████████| 72/72 [00:03<00:00, 20.52it/s, val_loss 4.8991]\n",
      "[0035/0100] Train:   0%|                                                     | 0/74 [00:00<?, ?it/s]"
     ]
    },
    {
     "name": "stdout",
     "output_type": "stream",
     "text": [
      "                  validation\n",
      " - Yaw          :   1.512882\n",
      " - Pitch        :   1.069309\n",
      " - Roll         :   2.228187\n",
      " - RMS          :   1.673026\n",
      " - 99% Tile     :   6.895661\n",
      "Save output signals into checkpoint/1122-Scene3-CLSTM2-GCNN-win60/sample/0034.npy\n"
     ]
    },
    {
     "name": "stderr",
     "output_type": "stream",
     "text": [
      "[0035/0100] Train: 100%|███████████████████████████████| 74/74 [00:07<00:00,  9.99it/s, loss 7.8126]\n",
      "[0035/0100] Validation: 100%|██████████████████████| 72/72 [00:03<00:00, 20.20it/s, val_loss 6.7071]\n",
      "[0036/0100] Train:   0%|                                                     | 0/74 [00:00<?, ?it/s]"
     ]
    },
    {
     "name": "stdout",
     "output_type": "stream",
     "text": [
      "val_loss is not improved for 1 epochs\n",
      "                  validation\n",
      " - Yaw          :   1.914273\n",
      " - Pitch        :   1.901752\n",
      " - Roll         :   2.214519\n",
      " - RMS          :   2.015374\n",
      " - 99% Tile     :   7.322945\n",
      "Save output signals into checkpoint/1122-Scene3-CLSTM2-GCNN-win60/sample/0035.npy\n"
     ]
    },
    {
     "name": "stderr",
     "output_type": "stream",
     "text": [
      "[0036/0100] Train: 100%|███████████████████████████████| 74/74 [00:07<00:00, 10.28it/s, loss 7.2544]\n",
      "[0036/0100] Validation: 100%|██████████████████████| 72/72 [00:03<00:00, 20.99it/s, val_loss 5.0669]\n",
      "[0037/0100] Train:   0%|                                                     | 0/74 [00:00<?, ?it/s]"
     ]
    },
    {
     "name": "stdout",
     "output_type": "stream",
     "text": [
      "val_loss is not improved for 2 epochs\n",
      "                  validation\n",
      " - Yaw          :   1.241109\n",
      " - Pitch        :   1.532559\n",
      " - Roll         :   2.258537\n",
      " - RMS          :   1.731095\n",
      " - 99% Tile     :   6.943516\n",
      "Save output signals into checkpoint/1122-Scene3-CLSTM2-GCNN-win60/sample/0036.npy\n"
     ]
    },
    {
     "name": "stderr",
     "output_type": "stream",
     "text": [
      "[0037/0100] Train: 100%|███████████████████████████████| 74/74 [00:07<00:00, 10.01it/s, loss 7.1489]\n",
      "[0037/0100] Validation: 100%|██████████████████████| 72/72 [00:03<00:00, 23.14it/s, val_loss 5.3107]\n",
      "[0038/0100] Train:   0%|                                                     | 0/74 [00:00<?, ?it/s]"
     ]
    },
    {
     "name": "stdout",
     "output_type": "stream",
     "text": [
      "val_loss is not improved for 3 epochs\n",
      "                  validation\n",
      " - Yaw          :   1.785630\n",
      " - Pitch        :   1.053157\n",
      " - Roll         :   2.234535\n",
      " - RMS          :   1.759807\n",
      " - 99% Tile     :   6.818353\n",
      "Save output signals into checkpoint/1122-Scene3-CLSTM2-GCNN-win60/sample/0037.npy\n"
     ]
    },
    {
     "name": "stderr",
     "output_type": "stream",
     "text": [
      "[0038/0100] Train: 100%|███████████████████████████████| 74/74 [00:07<00:00, 10.42it/s, loss 7.4750]\n",
      "[0038/0100] Validation: 100%|██████████████████████| 72/72 [00:03<00:00, 22.61it/s, val_loss 5.3460]\n",
      "[0039/0100] Train:   0%|                                                     | 0/74 [00:00<?, ?it/s]"
     ]
    },
    {
     "name": "stdout",
     "output_type": "stream",
     "text": [
      "val_loss is not improved for 4 epochs\n",
      "                  validation\n",
      " - Yaw          :   1.768787\n",
      " - Pitch        :   1.025697\n",
      " - Roll         :   2.268053\n",
      " - RMS          :   1.763021\n",
      " - 99% Tile     :   6.911891\n",
      "Save output signals into checkpoint/1122-Scene3-CLSTM2-GCNN-win60/sample/0038.npy\n"
     ]
    },
    {
     "name": "stderr",
     "output_type": "stream",
     "text": [
      "[0039/0100] Train: 100%|███████████████████████████████| 74/74 [00:07<00:00, 10.51it/s, loss 6.5541]\n",
      "[0039/0100] Validation: 100%|██████████████████████| 72/72 [00:03<00:00, 23.39it/s, val_loss 4.4849]\n",
      "[0040/0100] Train:   0%|                                                     | 0/74 [00:00<?, ?it/s]"
     ]
    },
    {
     "name": "stdout",
     "output_type": "stream",
     "text": [
      "                  validation\n",
      " - Yaw          :   1.348721\n",
      " - Pitch        :   0.912921\n",
      " - Roll         :   2.224228\n",
      " - RMS          :   1.591609\n",
      " - 99% Tile     :   6.689941\n",
      "Save output signals into checkpoint/1122-Scene3-CLSTM2-GCNN-win60/sample/0039.npy\n"
     ]
    },
    {
     "name": "stderr",
     "output_type": "stream",
     "text": [
      "[0040/0100] Train: 100%|███████████████████████████████| 74/74 [00:07<00:00, 10.06it/s, loss 6.2545]\n",
      "[0040/0100] Validation: 100%|██████████████████████| 72/72 [00:02<00:00, 24.16it/s, val_loss 4.7682]\n",
      "[0041/0100] Train:   0%|                                                     | 0/74 [00:00<?, ?it/s]"
     ]
    },
    {
     "name": "stdout",
     "output_type": "stream",
     "text": [
      "val_loss is not improved for 1 epochs\n",
      "                  validation\n",
      " - Yaw          :   1.595211\n",
      " - Pitch        :   1.055372\n",
      " - Roll         :   2.174728\n",
      " - RMS          :   1.672119\n",
      " - 99% Tile     :   6.664691\n",
      "Save output signals into checkpoint/1122-Scene3-CLSTM2-GCNN-win60/sample/0040.npy\n"
     ]
    },
    {
     "name": "stderr",
     "output_type": "stream",
     "text": [
      "[0041/0100] Train: 100%|███████████████████████████████| 74/74 [00:07<00:00,  9.96it/s, loss 6.2812]\n",
      "[0041/0100] Validation: 100%|██████████████████████| 72/72 [00:03<00:00, 23.88it/s, val_loss 4.9571]\n",
      "[0042/0100] Train:   0%|                                                     | 0/74 [00:00<?, ?it/s]"
     ]
    },
    {
     "name": "stdout",
     "output_type": "stream",
     "text": [
      "val_loss is not improved for 2 epochs\n",
      "                  validation\n",
      " - Yaw          :   1.306639\n",
      " - Pitch        :   1.334386\n",
      " - Roll         :   2.214891\n",
      " - RMS          :   1.672686\n",
      " - 99% Tile     :   6.743890\n",
      "Save output signals into checkpoint/1122-Scene3-CLSTM2-GCNN-win60/sample/0041.npy\n"
     ]
    },
    {
     "name": "stderr",
     "output_type": "stream",
     "text": [
      "[0042/0100] Train: 100%|███████████████████████████████| 74/74 [00:07<00:00,  9.86it/s, loss 6.1320]\n",
      "[0042/0100] Validation: 100%|██████████████████████| 72/72 [00:02<00:00, 25.39it/s, val_loss 4.5388]\n",
      "[0043/0100] Train:   0%|                                                     | 0/74 [00:00<?, ?it/s]"
     ]
    },
    {
     "name": "stdout",
     "output_type": "stream",
     "text": [
      "val_loss is not improved for 3 epochs\n",
      "                  validation\n",
      " - Yaw          :   1.245561\n",
      " - Pitch        :   0.981192\n",
      " - Roll         :   2.246993\n",
      " - RMS          :   1.587780\n",
      " - 99% Tile     :   6.977950\n",
      "Save output signals into checkpoint/1122-Scene3-CLSTM2-GCNN-win60/sample/0042.npy\n"
     ]
    },
    {
     "name": "stderr",
     "output_type": "stream",
     "text": [
      "[0043/0100] Train: 100%|███████████████████████████████| 74/74 [00:07<00:00,  9.58it/s, loss 6.2116]\n",
      "[0043/0100] Validation: 100%|██████████████████████| 72/72 [00:02<00:00, 25.28it/s, val_loss 4.8626]\n",
      "[0044/0100] Train:   0%|                                                     | 0/74 [00:00<?, ?it/s]"
     ]
    },
    {
     "name": "stdout",
     "output_type": "stream",
     "text": [
      "val_loss is not improved for 4 epochs\n",
      "                  validation\n",
      " - Yaw          :   1.417776\n",
      " - Pitch        :   1.044837\n",
      " - Roll         :   2.253534\n",
      " - RMS          :   1.651281\n",
      " - 99% Tile     :   6.820232\n",
      "Save output signals into checkpoint/1122-Scene3-CLSTM2-GCNN-win60/sample/0043.npy\n"
     ]
    },
    {
     "name": "stderr",
     "output_type": "stream",
     "text": [
      "[0044/0100] Train: 100%|███████████████████████████████| 74/74 [00:07<00:00,  9.28it/s, loss 6.2774]\n",
      "[0044/0100] Validation: 100%|██████████████████████| 72/72 [00:02<00:00, 26.60it/s, val_loss 4.5497]\n",
      "[0045/0100] Train:   0%|                                                     | 0/74 [00:00<?, ?it/s]"
     ]
    },
    {
     "name": "stdout",
     "output_type": "stream",
     "text": [
      "Decaying lr from 0.001 to 0.0005 because val_loss did not improved for 5 epochs\n",
      "val_loss is not improved for 5 epochs\n",
      "                  validation\n",
      " - Yaw          :   1.362841\n",
      " - Pitch        :   1.050987\n",
      " - Roll         :   2.213120\n",
      " - RMS          :   1.618622\n",
      " - 99% Tile     :   6.604144\n",
      "Save output signals into checkpoint/1122-Scene3-CLSTM2-GCNN-win60/sample/0044.npy\n"
     ]
    },
    {
     "name": "stderr",
     "output_type": "stream",
     "text": [
      "[0045/0100] Train: 100%|███████████████████████████████| 74/74 [00:08<00:00,  9.19it/s, loss 5.6816]\n",
      "[0045/0100] Validation: 100%|██████████████████████| 72/72 [00:02<00:00, 26.27it/s, val_loss 4.2382]\n",
      "[0046/0100] Train:   0%|                                                     | 0/74 [00:00<?, ?it/s]"
     ]
    },
    {
     "name": "stdout",
     "output_type": "stream",
     "text": [
      "                  validation\n",
      " - Yaw          :   1.045679\n",
      " - Pitch        :   1.063169\n",
      " - Roll         :   2.208982\n",
      " - RMS          :   1.538763\n",
      " - 99% Tile     :   6.627242\n",
      "Save output signals into checkpoint/1122-Scene3-CLSTM2-GCNN-win60/sample/0045.npy\n"
     ]
    },
    {
     "name": "stderr",
     "output_type": "stream",
     "text": [
      "[0046/0100] Train: 100%|███████████████████████████████| 74/74 [00:08<00:00,  8.84it/s, loss 5.6495]\n",
      "[0046/0100] Validation: 100%|██████████████████████| 72/72 [00:02<00:00, 25.72it/s, val_loss 4.1601]\n",
      "[0047/0100] Train:   0%|                                                     | 0/74 [00:00<?, ?it/s]"
     ]
    },
    {
     "name": "stdout",
     "output_type": "stream",
     "text": [
      "                  validation\n",
      " - Yaw          :   1.155804\n",
      " - Pitch        :   0.949977\n",
      " - Roll         :   2.208878\n",
      " - RMS          :   1.540290\n",
      " - 99% Tile     :   6.465206\n",
      "Save output signals into checkpoint/1122-Scene3-CLSTM2-GCNN-win60/sample/0046.npy\n"
     ]
    },
    {
     "name": "stderr",
     "output_type": "stream",
     "text": [
      "[0047/0100] Train: 100%|███████████████████████████████| 74/74 [00:08<00:00,  9.03it/s, loss 5.4274]\n",
      "[0047/0100] Validation: 100%|██████████████████████| 72/72 [00:02<00:00, 24.24it/s, val_loss 4.1034]\n",
      "[0048/0100] Train:   0%|                                                     | 0/74 [00:00<?, ?it/s]"
     ]
    },
    {
     "name": "stdout",
     "output_type": "stream",
     "text": [
      "                  validation\n",
      " - Yaw          :   1.072536\n",
      " - Pitch        :   0.905771\n",
      " - Roll         :   2.213675\n",
      " - RMS          :   1.513397\n",
      " - 99% Tile     :   6.615329\n",
      "Save output signals into checkpoint/1122-Scene3-CLSTM2-GCNN-win60/sample/0047.npy\n"
     ]
    },
    {
     "name": "stderr",
     "output_type": "stream",
     "text": [
      "[0048/0100] Train: 100%|███████████████████████████████| 74/74 [00:08<00:00,  9.16it/s, loss 5.4296]\n",
      "[0048/0100] Validation: 100%|██████████████████████| 72/72 [00:03<00:00, 21.40it/s, val_loss 3.9929]\n",
      "[0049/0100] Train:   0%|                                                     | 0/74 [00:00<?, ?it/s]"
     ]
    },
    {
     "name": "stdout",
     "output_type": "stream",
     "text": [
      "                  validation\n",
      " - Yaw          :   1.047675\n",
      " - Pitch        :   0.875377\n",
      " - Roll         :   2.196155\n",
      " - RMS          :   1.492984\n",
      " - 99% Tile     :   6.449860\n",
      "Save output signals into checkpoint/1122-Scene3-CLSTM2-GCNN-win60/sample/0048.npy\n"
     ]
    },
    {
     "name": "stderr",
     "output_type": "stream",
     "text": [
      "[0049/0100] Train: 100%|███████████████████████████████| 74/74 [00:07<00:00,  9.43it/s, loss 5.4294]\n",
      "[0049/0100] Validation: 100%|██████████████████████| 72/72 [00:03<00:00, 19.16it/s, val_loss 4.4517]\n",
      "[0050/0100] Train:   0%|                                                     | 0/74 [00:00<?, ?it/s]"
     ]
    },
    {
     "name": "stdout",
     "output_type": "stream",
     "text": [
      "val_loss is not improved for 1 epochs\n",
      "                  validation\n",
      " - Yaw          :   1.283244\n",
      " - Pitch        :   1.138416\n",
      " - Roll         :   2.196398\n",
      " - RMS          :   1.609023\n",
      " - 99% Tile     :   6.590424\n",
      "Save output signals into checkpoint/1122-Scene3-CLSTM2-GCNN-win60/sample/0049.npy\n"
     ]
    },
    {
     "name": "stderr",
     "output_type": "stream",
     "text": [
      "[0050/0100] Train: 100%|███████████████████████████████| 74/74 [00:08<00:00,  9.05it/s, loss 5.8851]\n",
      "[0050/0100] Validation: 100%|██████████████████████| 72/72 [00:03<00:00, 18.70it/s, val_loss 4.6249]\n",
      "[0051/0100] Train:   0%|                                                     | 0/74 [00:00<?, ?it/s]"
     ]
    },
    {
     "name": "stdout",
     "output_type": "stream",
     "text": [
      "val_loss is not improved for 2 epochs\n",
      "                  validation\n",
      " - Yaw          :   1.516024\n",
      " - Pitch        :   0.991596\n",
      " - Roll         :   2.207516\n",
      " - RMS          :   1.648708\n",
      " - 99% Tile     :   6.503865\n",
      "Save output signals into checkpoint/1122-Scene3-CLSTM2-GCNN-win60/sample/0050.npy\n"
     ]
    },
    {
     "name": "stderr",
     "output_type": "stream",
     "text": [
      "[0051/0100] Train: 100%|███████████████████████████████| 74/74 [00:08<00:00,  9.07it/s, loss 5.5711]\n",
      "[0051/0100] Validation: 100%|██████████████████████| 72/72 [00:03<00:00, 18.98it/s, val_loss 4.1741]\n",
      "[0052/0100] Train:   0%|                                                     | 0/74 [00:00<?, ?it/s]"
     ]
    },
    {
     "name": "stdout",
     "output_type": "stream",
     "text": [
      "val_loss is not improved for 3 epochs\n",
      "                  validation\n",
      " - Yaw          :   1.147439\n",
      " - Pitch        :   0.859553\n",
      " - Roll         :   2.260019\n",
      " - RMS          :   1.545222\n",
      " - 99% Tile     :   6.570822\n",
      "Save output signals into checkpoint/1122-Scene3-CLSTM2-GCNN-win60/sample/0051.npy\n"
     ]
    },
    {
     "name": "stderr",
     "output_type": "stream",
     "text": [
      "[0052/0100] Train: 100%|███████████████████████████████| 74/74 [00:08<00:00,  8.96it/s, loss 5.3253]\n",
      "[0052/0100] Validation: 100%|██████████████████████| 72/72 [00:03<00:00, 18.18it/s, val_loss 4.3363]\n",
      "[0053/0100] Train:   0%|                                                     | 0/74 [00:00<?, ?it/s]"
     ]
    },
    {
     "name": "stdout",
     "output_type": "stream",
     "text": [
      "val_loss is not improved for 4 epochs\n",
      "                  validation\n",
      " - Yaw          :   1.153445\n",
      " - Pitch        :   0.920665\n",
      " - Roll         :   2.316054\n",
      " - RMS          :   1.585577\n",
      " - 99% Tile     :   6.606460\n",
      "Save output signals into checkpoint/1122-Scene3-CLSTM2-GCNN-win60/sample/0052.npy\n"
     ]
    },
    {
     "name": "stderr",
     "output_type": "stream",
     "text": [
      "[0053/0100] Train: 100%|███████████████████████████████| 74/74 [00:08<00:00,  9.09it/s, loss 5.1781]\n",
      "[0053/0100] Validation: 100%|██████████████████████| 72/72 [00:03<00:00, 20.32it/s, val_loss 4.2288]\n",
      "[0054/0100] Train:   0%|                                                     | 0/74 [00:00<?, ?it/s]"
     ]
    },
    {
     "name": "stdout",
     "output_type": "stream",
     "text": [
      "Decaying lr from 0.0005 to 0.00025 because val_loss did not improved for 5 epochs\n",
      "val_loss is not improved for 5 epochs\n",
      "                  validation\n",
      " - Yaw          :   1.157149\n",
      " - Pitch        :   0.965566\n",
      " - Roll         :   2.217206\n",
      " - RMS          :   1.547828\n",
      " - 99% Tile     :   6.723859\n",
      "Save output signals into checkpoint/1122-Scene3-CLSTM2-GCNN-win60/sample/0053.npy\n"
     ]
    },
    {
     "name": "stderr",
     "output_type": "stream",
     "text": [
      "[0054/0100] Train: 100%|███████████████████████████████| 74/74 [00:07<00:00,  9.31it/s, loss 5.0648]\n",
      "[0054/0100] Validation: 100%|██████████████████████| 72/72 [00:03<00:00, 20.10it/s, val_loss 4.0184]\n",
      "[0055/0100] Train:   0%|                                                     | 0/74 [00:00<?, ?it/s]"
     ]
    },
    {
     "name": "stdout",
     "output_type": "stream",
     "text": [
      "val_loss is not improved for 6 epochs\n",
      "                  validation\n",
      " - Yaw          :   1.015919\n",
      " - Pitch        :   0.848845\n",
      " - Roll         :   2.233681\n",
      " - RMS          :   1.499107\n",
      " - 99% Tile     :   6.644090\n",
      "Save output signals into checkpoint/1122-Scene3-CLSTM2-GCNN-win60/sample/0054.npy\n"
     ]
    },
    {
     "name": "stderr",
     "output_type": "stream",
     "text": [
      "[0055/0100] Train: 100%|███████████████████████████████| 74/74 [00:07<00:00,  9.40it/s, loss 5.1084]\n",
      "[0055/0100] Validation: 100%|██████████████████████| 72/72 [00:03<00:00, 20.46it/s, val_loss 3.9850]\n",
      "[0056/0100] Train:   0%|                                                     | 0/74 [00:00<?, ?it/s]"
     ]
    },
    {
     "name": "stdout",
     "output_type": "stream",
     "text": [
      "                  validation\n",
      " - Yaw          :   1.016338\n",
      " - Pitch        :   0.852407\n",
      " - Roll         :   2.231550\n",
      " - RMS          :   1.498817\n",
      " - 99% Tile     :   6.479166\n",
      "Save output signals into checkpoint/1122-Scene3-CLSTM2-GCNN-win60/sample/0055.npy\n"
     ]
    },
    {
     "name": "stderr",
     "output_type": "stream",
     "text": [
      "[0056/0100] Train: 100%|███████████████████████████████| 74/74 [00:08<00:00,  9.06it/s, loss 4.9981]\n",
      "[0056/0100] Validation: 100%|██████████████████████| 72/72 [00:03<00:00, 20.06it/s, val_loss 3.9989]\n",
      "[0057/0100] Train:   0%|                                                     | 0/74 [00:00<?, ?it/s]"
     ]
    },
    {
     "name": "stdout",
     "output_type": "stream",
     "text": [
      "val_loss is not improved for 1 epochs\n",
      "                  validation\n",
      " - Yaw          :   1.053013\n",
      " - Pitch        :   0.885716\n",
      " - Roll         :   2.223344\n",
      " - RMS          :   1.509590\n",
      " - 99% Tile     :   6.509842\n",
      "Save output signals into checkpoint/1122-Scene3-CLSTM2-GCNN-win60/sample/0056.npy\n"
     ]
    },
    {
     "name": "stderr",
     "output_type": "stream",
     "text": [
      "[0057/0100] Train: 100%|███████████████████████████████| 74/74 [00:07<00:00,  9.35it/s, loss 5.0371]\n",
      "[0057/0100] Validation: 100%|██████████████████████| 72/72 [00:03<00:00, 22.01it/s, val_loss 4.0334]\n",
      "[0058/0100] Train:   0%|                                                     | 0/74 [00:00<?, ?it/s]"
     ]
    },
    {
     "name": "stdout",
     "output_type": "stream",
     "text": [
      "val_loss is not improved for 2 epochs\n",
      "                  validation\n",
      " - Yaw          :   1.063637\n",
      " - Pitch        :   0.866940\n",
      " - Roll         :   2.225325\n",
      " - RMS          :   1.509413\n",
      " - 99% Tile     :   6.527922\n",
      "Save output signals into checkpoint/1122-Scene3-CLSTM2-GCNN-win60/sample/0057.npy\n"
     ]
    },
    {
     "name": "stderr",
     "output_type": "stream",
     "text": [
      "[0058/0100] Train: 100%|███████████████████████████████| 74/74 [00:07<00:00,  9.55it/s, loss 4.9056]\n",
      "[0058/0100] Validation: 100%|██████████████████████| 72/72 [00:03<00:00, 23.59it/s, val_loss 4.0174]\n",
      "[0059/0100] Train:   0%|                                                     | 0/74 [00:00<?, ?it/s]"
     ]
    },
    {
     "name": "stdout",
     "output_type": "stream",
     "text": [
      "val_loss is not improved for 3 epochs\n",
      "                  validation\n",
      " - Yaw          :   1.039381\n",
      " - Pitch        :   0.867899\n",
      " - Roll         :   2.230033\n",
      " - RMS          :   1.506276\n",
      " - 99% Tile     :   6.543991\n",
      "Save output signals into checkpoint/1122-Scene3-CLSTM2-GCNN-win60/sample/0058.npy\n"
     ]
    },
    {
     "name": "stderr",
     "output_type": "stream",
     "text": [
      "[0059/0100] Train: 100%|███████████████████████████████| 74/74 [00:07<00:00,  9.41it/s, loss 4.8495]\n",
      "[0059/0100] Validation: 100%|██████████████████████| 72/72 [00:03<00:00, 21.77it/s, val_loss 4.0434]\n",
      "[0060/0100] Train:   0%|                                                     | 0/74 [00:00<?, ?it/s]"
     ]
    },
    {
     "name": "stdout",
     "output_type": "stream",
     "text": [
      "val_loss is not improved for 4 epochs\n",
      "                  validation\n",
      " - Yaw          :   1.207216\n",
      " - Pitch        :   0.837927\n",
      " - Roll         :   2.203492\n",
      " - RMS          :   1.529147\n",
      " - 99% Tile     :   6.524137\n",
      "Save output signals into checkpoint/1122-Scene3-CLSTM2-GCNN-win60/sample/0059.npy\n"
     ]
    },
    {
     "name": "stderr",
     "output_type": "stream",
     "text": [
      "[0060/0100] Train: 100%|███████████████████████████████| 74/74 [00:07<00:00,  9.60it/s, loss 4.8754]\n",
      "[0060/0100] Validation: 100%|██████████████████████| 72/72 [00:03<00:00, 23.06it/s, val_loss 4.0053]\n",
      "[0061/0100] Train:   0%|                                                     | 0/74 [00:00<?, ?it/s]"
     ]
    },
    {
     "name": "stdout",
     "output_type": "stream",
     "text": [
      "Decaying lr from 0.00025 to 0.000125 because val_loss did not improved for 5 epochs\n",
      "val_loss is not improved for 5 epochs\n",
      "                  validation\n",
      " - Yaw          :   1.086150\n",
      " - Pitch        :   0.848654\n",
      " - Roll         :   2.224786\n",
      " - RMS          :   1.511027\n",
      " - 99% Tile     :   6.481612\n",
      "Save output signals into checkpoint/1122-Scene3-CLSTM2-GCNN-win60/sample/0060.npy\n"
     ]
    },
    {
     "name": "stderr",
     "output_type": "stream",
     "text": [
      "[0061/0100] Train: 100%|███████████████████████████████| 74/74 [00:07<00:00,  9.79it/s, loss 4.7556]\n",
      "[0061/0100] Validation: 100%|██████████████████████| 72/72 [00:03<00:00, 21.81it/s, val_loss 3.8528]\n",
      "[0062/0100] Train:   0%|                                                     | 0/74 [00:00<?, ?it/s]"
     ]
    },
    {
     "name": "stdout",
     "output_type": "stream",
     "text": [
      "                  validation\n",
      " - Yaw          :   0.949404\n",
      " - Pitch        :   0.822773\n",
      " - Roll         :   2.225372\n",
      " - RMS          :   1.475421\n",
      " - 99% Tile     :   6.497745\n",
      "Save output signals into checkpoint/1122-Scene3-CLSTM2-GCNN-win60/sample/0061.npy\n"
     ]
    },
    {
     "name": "stderr",
     "output_type": "stream",
     "text": [
      "[0062/0100] Train: 100%|███████████████████████████████| 74/74 [00:07<00:00,  9.88it/s, loss 4.6308]\n",
      "[0062/0100] Validation: 100%|██████████████████████| 72/72 [00:03<00:00, 23.63it/s, val_loss 3.8370]\n",
      "[0063/0100] Train:   0%|                                                     | 0/74 [00:00<?, ?it/s]"
     ]
    },
    {
     "name": "stdout",
     "output_type": "stream",
     "text": [
      "                  validation\n",
      " - Yaw          :   0.919772\n",
      " - Pitch        :   0.866759\n",
      " - Roll         :   2.220204\n",
      " - RMS          :   1.474964\n",
      " - 99% Tile     :   6.478062\n",
      "Save output signals into checkpoint/1122-Scene3-CLSTM2-GCNN-win60/sample/0062.npy\n"
     ]
    },
    {
     "name": "stderr",
     "output_type": "stream",
     "text": [
      "[0063/0100] Train: 100%|███████████████████████████████| 74/74 [00:07<00:00,  9.77it/s, loss 4.7418]\n",
      "[0063/0100] Validation: 100%|██████████████████████| 72/72 [00:02<00:00, 27.32it/s, val_loss 3.8576]\n",
      "[0064/0100] Train:   0%|                                                     | 0/74 [00:00<?, ?it/s]"
     ]
    },
    {
     "name": "stdout",
     "output_type": "stream",
     "text": [
      "val_loss is not improved for 1 epochs\n",
      "                  validation\n",
      " - Yaw          :   0.942146\n",
      " - Pitch        :   0.851744\n",
      " - Roll         :   2.208129\n",
      " - RMS          :   1.470707\n",
      " - 99% Tile     :   6.531265\n",
      "Save output signals into checkpoint/1122-Scene3-CLSTM2-GCNN-win60/sample/0063.npy\n"
     ]
    },
    {
     "name": "stderr",
     "output_type": "stream",
     "text": [
      "[0064/0100] Train: 100%|███████████████████████████████| 74/74 [00:04<00:00, 15.92it/s, loss 4.6842]\n",
      "[0064/0100] Validation: 100%|██████████████████████| 72/72 [00:02<00:00, 31.24it/s, val_loss 3.8718]\n",
      "[0065/0100] Train:   0%|                                                     | 0/74 [00:00<?, ?it/s]"
     ]
    },
    {
     "name": "stdout",
     "output_type": "stream",
     "text": [
      "val_loss is not improved for 2 epochs\n",
      "                  validation\n",
      " - Yaw          :   0.981114\n",
      " - Pitch        :   0.824779\n",
      " - Roll         :   2.215754\n",
      " - RMS          :   1.477882\n",
      " - 99% Tile     :   6.445610\n",
      "Save output signals into checkpoint/1122-Scene3-CLSTM2-GCNN-win60/sample/0064.npy\n"
     ]
    },
    {
     "name": "stderr",
     "output_type": "stream",
     "text": [
      "[0065/0100] Train: 100%|███████████████████████████████| 74/74 [00:04<00:00, 16.47it/s, loss 4.6998]\n",
      "[0065/0100] Validation: 100%|██████████████████████| 72/72 [00:02<00:00, 31.40it/s, val_loss 3.8236]\n",
      "[0066/0100] Train:   0%|                                                     | 0/74 [00:00<?, ?it/s]"
     ]
    },
    {
     "name": "stdout",
     "output_type": "stream",
     "text": [
      "                  validation\n",
      " - Yaw          :   0.934870\n",
      " - Pitch        :   0.851055\n",
      " - Roll         :   2.203274\n",
      " - RMS          :   1.466594\n",
      " - 99% Tile     :   6.432670\n",
      "Save output signals into checkpoint/1122-Scene3-CLSTM2-GCNN-win60/sample/0065.npy\n"
     ]
    },
    {
     "name": "stderr",
     "output_type": "stream",
     "text": [
      "[0066/0100] Train: 100%|███████████████████████████████| 74/74 [00:04<00:00, 16.26it/s, loss 4.7399]\n",
      "[0066/0100] Validation: 100%|██████████████████████| 72/72 [00:02<00:00, 30.63it/s, val_loss 3.8484]\n",
      "[0067/0100] Train:   0%|                                                     | 0/74 [00:00<?, ?it/s]"
     ]
    },
    {
     "name": "stdout",
     "output_type": "stream",
     "text": [
      "val_loss is not improved for 1 epochs\n",
      "                  validation\n",
      " - Yaw          :   0.953739\n",
      " - Pitch        :   0.836180\n",
      " - Roll         :   2.206500\n",
      " - RMS          :   1.469405\n",
      " - 99% Tile     :   6.418068\n",
      "Save output signals into checkpoint/1122-Scene3-CLSTM2-GCNN-win60/sample/0066.npy\n"
     ]
    },
    {
     "name": "stderr",
     "output_type": "stream",
     "text": [
      "[0067/0100] Train: 100%|███████████████████████████████| 74/74 [00:04<00:00, 16.49it/s, loss 4.6241]\n",
      "[0067/0100] Validation: 100%|██████████████████████| 72/72 [00:02<00:00, 30.98it/s, val_loss 3.8778]\n",
      "[0068/0100] Train:   0%|                                                     | 0/74 [00:00<?, ?it/s]"
     ]
    },
    {
     "name": "stdout",
     "output_type": "stream",
     "text": [
      "val_loss is not improved for 2 epochs\n",
      "                  validation\n",
      " - Yaw          :   0.951655\n",
      " - Pitch        :   0.841685\n",
      " - Roll         :   2.214441\n",
      " - RMS          :   1.473978\n",
      " - 99% Tile     :   6.487792\n",
      "Save output signals into checkpoint/1122-Scene3-CLSTM2-GCNN-win60/sample/0067.npy\n"
     ]
    },
    {
     "name": "stderr",
     "output_type": "stream",
     "text": [
      "[0068/0100] Train: 100%|███████████████████████████████| 74/74 [00:04<00:00, 16.33it/s, loss 4.6807]\n",
      "[0068/0100] Validation: 100%|██████████████████████| 72/72 [00:02<00:00, 30.81it/s, val_loss 3.8832]\n",
      "[0069/0100] Train:   0%|                                                     | 0/74 [00:00<?, ?it/s]"
     ]
    },
    {
     "name": "stdout",
     "output_type": "stream",
     "text": [
      "val_loss is not improved for 3 epochs\n",
      "                  validation\n",
      " - Yaw          :   0.935818\n",
      " - Pitch        :   0.873428\n",
      " - Roll         :   2.199861\n",
      " - RMS          :   1.469469\n",
      " - 99% Tile     :   6.539839\n",
      "Save output signals into checkpoint/1122-Scene3-CLSTM2-GCNN-win60/sample/0068.npy\n"
     ]
    },
    {
     "name": "stderr",
     "output_type": "stream",
     "text": [
      "[0069/0100] Train: 100%|███████████████████████████████| 74/74 [00:04<00:00, 16.77it/s, loss 4.6564]\n",
      "[0069/0100] Validation: 100%|██████████████████████| 72/72 [00:02<00:00, 31.00it/s, val_loss 3.8676]\n",
      "[0070/0100] Train:   0%|                                                     | 0/74 [00:00<?, ?it/s]"
     ]
    },
    {
     "name": "stdout",
     "output_type": "stream",
     "text": [
      "val_loss is not improved for 4 epochs\n",
      "                  validation\n",
      " - Yaw          :   0.940985\n",
      " - Pitch        :   0.854740\n",
      " - Roll         :   2.214121\n",
      " - RMS          :   1.474038\n",
      " - 99% Tile     :   6.553400\n",
      "Save output signals into checkpoint/1122-Scene3-CLSTM2-GCNN-win60/sample/0069.npy\n"
     ]
    },
    {
     "name": "stderr",
     "output_type": "stream",
     "text": [
      "[0070/0100] Train: 100%|███████████████████████████████| 74/74 [00:04<00:00, 16.43it/s, loss 4.6303]\n",
      "[0070/0100] Validation: 100%|██████████████████████| 72/72 [00:02<00:00, 29.79it/s, val_loss 3.8915]\n",
      "[0071/0100] Train:   0%|                                                     | 0/74 [00:00<?, ?it/s]"
     ]
    },
    {
     "name": "stdout",
     "output_type": "stream",
     "text": [
      "Decaying lr from 0.000125 to 6.25e-05 because val_loss did not improved for 5 epochs\n",
      "val_loss is not improved for 5 epochs\n",
      "                  validation\n",
      " - Yaw          :   0.963616\n",
      " - Pitch        :   0.874227\n",
      " - Roll         :   2.196418\n",
      " - RMS          :   1.473893\n",
      " - 99% Tile     :   6.613595\n",
      "Save output signals into checkpoint/1122-Scene3-CLSTM2-GCNN-win60/sample/0070.npy\n"
     ]
    },
    {
     "name": "stderr",
     "output_type": "stream",
     "text": [
      "[0071/0100] Train: 100%|███████████████████████████████| 74/74 [00:04<00:00, 16.48it/s, loss 4.5280]\n",
      "[0071/0100] Validation: 100%|██████████████████████| 72/72 [00:02<00:00, 31.80it/s, val_loss 3.8753]\n",
      "[0072/0100] Train:   0%|                                                     | 0/74 [00:00<?, ?it/s]"
     ]
    },
    {
     "name": "stdout",
     "output_type": "stream",
     "text": [
      "val_loss is not improved for 6 epochs\n",
      "                  validation\n",
      " - Yaw          :   0.978958\n",
      " - Pitch        :   0.832089\n",
      " - Roll         :   2.208961\n",
      " - RMS          :   1.475380\n",
      " - 99% Tile     :   6.559504\n",
      "Save output signals into checkpoint/1122-Scene3-CLSTM2-GCNN-win60/sample/0071.npy\n"
     ]
    },
    {
     "name": "stderr",
     "output_type": "stream",
     "text": [
      "[0072/0100] Train: 100%|███████████████████████████████| 74/74 [00:04<00:00, 16.57it/s, loss 4.5076]\n",
      "[0072/0100] Validation: 100%|██████████████████████| 72/72 [00:02<00:00, 32.03it/s, val_loss 3.8386]\n",
      "[0073/0100] Train:   0%|                                                     | 0/74 [00:00<?, ?it/s]"
     ]
    },
    {
     "name": "stdout",
     "output_type": "stream",
     "text": [
      "val_loss is not improved for 7 epochs\n",
      "                  validation\n",
      " - Yaw          :   0.970189\n",
      " - Pitch        :   0.825547\n",
      " - Roll         :   2.201508\n",
      " - RMS          :   1.468495\n",
      " - 99% Tile     :   6.554581\n",
      "Save output signals into checkpoint/1122-Scene3-CLSTM2-GCNN-win60/sample/0072.npy\n"
     ]
    },
    {
     "name": "stderr",
     "output_type": "stream",
     "text": [
      "[0073/0100] Train: 100%|███████████████████████████████| 74/74 [00:04<00:00, 16.15it/s, loss 4.6072]\n",
      "[0073/0100] Validation: 100%|██████████████████████| 72/72 [00:02<00:00, 31.06it/s, val_loss 3.8085]\n",
      "[0074/0100] Train:   0%|                                                     | 0/74 [00:00<?, ?it/s]"
     ]
    },
    {
     "name": "stdout",
     "output_type": "stream",
     "text": [
      "                  validation\n",
      " - Yaw          :   0.915141\n",
      " - Pitch        :   0.834962\n",
      " - Roll         :   2.201959\n",
      " - RMS          :   1.458683\n",
      " - 99% Tile     :   6.539026\n",
      "Save output signals into checkpoint/1122-Scene3-CLSTM2-GCNN-win60/sample/0073.npy\n"
     ]
    },
    {
     "name": "stderr",
     "output_type": "stream",
     "text": [
      "[0074/0100] Train: 100%|███████████████████████████████| 74/74 [00:04<00:00, 16.13it/s, loss 4.5249]\n",
      "[0074/0100] Validation: 100%|██████████████████████| 72/72 [00:02<00:00, 32.02it/s, val_loss 3.8182]\n",
      "[0075/0100] Train:   0%|                                                     | 0/74 [00:00<?, ?it/s]"
     ]
    },
    {
     "name": "stdout",
     "output_type": "stream",
     "text": [
      "val_loss is not improved for 1 epochs\n",
      "                  validation\n",
      " - Yaw          :   0.916269\n",
      " - Pitch        :   0.855287\n",
      " - Roll         :   2.200003\n",
      " - RMS          :   1.461857\n",
      " - 99% Tile     :   6.510256\n",
      "Save output signals into checkpoint/1122-Scene3-CLSTM2-GCNN-win60/sample/0074.npy\n"
     ]
    },
    {
     "name": "stderr",
     "output_type": "stream",
     "text": [
      "[0075/0100] Train: 100%|███████████████████████████████| 74/74 [00:04<00:00, 16.58it/s, loss 4.5704]\n",
      "[0075/0100] Validation: 100%|██████████████████████| 72/72 [00:02<00:00, 30.62it/s, val_loss 3.8410]\n",
      "[0076/0100] Train:   0%|                                                     | 0/74 [00:00<?, ?it/s]"
     ]
    },
    {
     "name": "stdout",
     "output_type": "stream",
     "text": [
      "val_loss is not improved for 2 epochs\n",
      "                  validation\n",
      " - Yaw          :   0.958313\n",
      " - Pitch        :   0.841687\n",
      " - Roll         :   2.203250\n",
      " - RMS          :   1.469820\n",
      " - 99% Tile     :   6.535260\n",
      "Save output signals into checkpoint/1122-Scene3-CLSTM2-GCNN-win60/sample/0075.npy\n"
     ]
    },
    {
     "name": "stderr",
     "output_type": "stream",
     "text": [
      "[0076/0100] Train: 100%|███████████████████████████████| 74/74 [00:04<00:00, 16.03it/s, loss 4.5220]\n",
      "[0076/0100] Validation: 100%|██████████████████████| 72/72 [00:02<00:00, 31.29it/s, val_loss 3.8362]\n",
      "[0077/0100] Train:   0%|                                                     | 0/74 [00:00<?, ?it/s]"
     ]
    },
    {
     "name": "stdout",
     "output_type": "stream",
     "text": [
      "val_loss is not improved for 3 epochs\n",
      "                  validation\n",
      " - Yaw          :   0.905106\n",
      " - Pitch        :   0.831544\n",
      " - Roll         :   2.220200\n",
      " - RMS          :   1.465147\n",
      " - 99% Tile     :   6.544159\n",
      "Save output signals into checkpoint/1122-Scene3-CLSTM2-GCNN-win60/sample/0076.npy\n"
     ]
    },
    {
     "name": "stderr",
     "output_type": "stream",
     "text": [
      "[0077/0100] Train: 100%|███████████████████████████████| 74/74 [00:04<00:00, 16.00it/s, loss 4.5089]\n",
      "[0077/0100] Validation: 100%|██████████████████████| 72/72 [00:02<00:00, 30.73it/s, val_loss 3.8083]\n",
      "[0078/0100] Train:   0%|                                                     | 0/74 [00:00<?, ?it/s]"
     ]
    },
    {
     "name": "stdout",
     "output_type": "stream",
     "text": [
      "                  validation\n",
      " - Yaw          :   0.939208\n",
      " - Pitch        :   0.861578\n",
      " - Roll         :   2.190545\n",
      " - RMS          :   1.463206\n",
      " - 99% Tile     :   6.486428\n",
      "Save output signals into checkpoint/1122-Scene3-CLSTM2-GCNN-win60/sample/0077.npy\n"
     ]
    },
    {
     "name": "stderr",
     "output_type": "stream",
     "text": [
      "[0078/0100] Train: 100%|███████████████████████████████| 74/74 [00:04<00:00, 16.25it/s, loss 4.4880]\n",
      "[0078/0100] Validation: 100%|██████████████████████| 72/72 [00:02<00:00, 31.46it/s, val_loss 3.8461]\n",
      "[0079/0100] Train:   0%|                                                     | 0/74 [00:00<?, ?it/s]"
     ]
    },
    {
     "name": "stdout",
     "output_type": "stream",
     "text": [
      "val_loss is not improved for 1 epochs\n",
      "                  validation\n",
      " - Yaw          :   0.941550\n",
      " - Pitch        :   0.842071\n",
      " - Roll         :   2.203584\n",
      " - RMS          :   1.466445\n",
      " - 99% Tile     :   6.558280\n",
      "Save output signals into checkpoint/1122-Scene3-CLSTM2-GCNN-win60/sample/0078.npy\n"
     ]
    },
    {
     "name": "stderr",
     "output_type": "stream",
     "text": [
      "[0079/0100] Train: 100%|███████████████████████████████| 74/74 [00:04<00:00, 16.48it/s, loss 4.4806]\n",
      "[0079/0100] Validation: 100%|██████████████████████| 72/72 [00:02<00:00, 31.92it/s, val_loss 3.9074]\n",
      "[0080/0100] Train:   0%|                                                     | 0/74 [00:00<?, ?it/s]"
     ]
    },
    {
     "name": "stdout",
     "output_type": "stream",
     "text": [
      "val_loss is not improved for 2 epochs\n",
      "                  validation\n",
      " - Yaw          :   1.010613\n",
      " - Pitch        :   0.852429\n",
      " - Roll         :   2.212329\n",
      " - RMS          :   1.487994\n",
      " - 99% Tile     :   6.547743\n",
      "Save output signals into checkpoint/1122-Scene3-CLSTM2-GCNN-win60/sample/0079.npy\n"
     ]
    },
    {
     "name": "stderr",
     "output_type": "stream",
     "text": [
      "[0080/0100] Train: 100%|███████████████████████████████| 74/74 [00:04<00:00, 16.03it/s, loss 4.4562]\n",
      "[0080/0100] Validation: 100%|██████████████████████| 72/72 [00:02<00:00, 31.20it/s, val_loss 3.8928]\n",
      "[0081/0100] Train:   0%|                                                     | 0/74 [00:00<?, ?it/s]"
     ]
    },
    {
     "name": "stdout",
     "output_type": "stream",
     "text": [
      "val_loss is not improved for 3 epochs\n",
      "                  validation\n",
      " - Yaw          :   1.039311\n",
      " - Pitch        :   0.856872\n",
      " - Roll         :   2.190936\n",
      " - RMS          :   1.484879\n",
      " - 99% Tile     :   6.539086\n",
      "Save output signals into checkpoint/1122-Scene3-CLSTM2-GCNN-win60/sample/0080.npy\n"
     ]
    },
    {
     "name": "stderr",
     "output_type": "stream",
     "text": [
      "[0081/0100] Train: 100%|███████████████████████████████| 74/74 [00:04<00:00, 16.28it/s, loss 4.4679]\n",
      "[0081/0100] Validation: 100%|██████████████████████| 72/72 [00:02<00:00, 30.38it/s, val_loss 3.7998]\n",
      "[0082/0100] Train:   0%|                                                     | 0/74 [00:00<?, ?it/s]"
     ]
    },
    {
     "name": "stdout",
     "output_type": "stream",
     "text": [
      "                  validation\n",
      " - Yaw          :   0.928695\n",
      " - Pitch        :   0.848175\n",
      " - Roll         :   2.190542\n",
      " - RMS          :   1.458350\n",
      " - 99% Tile     :   6.509078\n",
      "Save output signals into checkpoint/1122-Scene3-CLSTM2-GCNN-win60/sample/0081.npy\n"
     ]
    },
    {
     "name": "stderr",
     "output_type": "stream",
     "text": [
      "[0082/0100] Train: 100%|███████████████████████████████| 74/74 [00:04<00:00, 16.37it/s, loss 4.5168]\n",
      "[0082/0100] Validation: 100%|██████████████████████| 72/72 [00:02<00:00, 30.80it/s, val_loss 3.8070]\n",
      "[0083/0100] Train:   0%|                                                     | 0/74 [00:00<?, ?it/s]"
     ]
    },
    {
     "name": "stdout",
     "output_type": "stream",
     "text": [
      "val_loss is not improved for 1 epochs\n",
      "                  validation\n",
      " - Yaw          :   0.913970\n",
      " - Pitch        :   0.839737\n",
      " - Roll         :   2.203806\n",
      " - RMS          :   1.460281\n",
      " - 99% Tile     :   6.496033\n",
      "Save output signals into checkpoint/1122-Scene3-CLSTM2-GCNN-win60/sample/0082.npy\n"
     ]
    },
    {
     "name": "stderr",
     "output_type": "stream",
     "text": [
      "[0083/0100] Train: 100%|███████████████████████████████| 74/74 [00:04<00:00, 16.77it/s, loss 4.4600]\n",
      "[0083/0100] Validation: 100%|██████████████████████| 72/72 [00:02<00:00, 30.28it/s, val_loss 3.8083]\n",
      "[0084/0100] Train:   0%|                                                     | 0/74 [00:00<?, ?it/s]"
     ]
    },
    {
     "name": "stdout",
     "output_type": "stream",
     "text": [
      "val_loss is not improved for 2 epochs\n",
      "                  validation\n",
      " - Yaw          :   0.900160\n",
      " - Pitch        :   0.846917\n",
      " - Roll         :   2.205108\n",
      " - RMS          :   1.459458\n",
      " - 99% Tile     :   6.518136\n",
      "Save output signals into checkpoint/1122-Scene3-CLSTM2-GCNN-win60/sample/0083.npy\n"
     ]
    },
    {
     "name": "stderr",
     "output_type": "stream",
     "text": [
      "[0084/0100] Train: 100%|███████████████████████████████| 74/74 [00:04<00:00, 15.82it/s, loss 4.4262]\n",
      "[0084/0100] Validation: 100%|██████████████████████| 72/72 [00:02<00:00, 30.91it/s, val_loss 3.8070]\n",
      "[0085/0100] Train:   0%|                                                     | 0/74 [00:00<?, ?it/s]"
     ]
    },
    {
     "name": "stdout",
     "output_type": "stream",
     "text": [
      "val_loss is not improved for 3 epochs\n",
      "                  validation\n",
      " - Yaw          :   0.924006\n",
      " - Pitch        :   0.847197\n",
      " - Roll         :   2.187403\n",
      " - RMS          :   1.455594\n",
      " - 99% Tile     :   6.549588\n",
      "Save output signals into checkpoint/1122-Scene3-CLSTM2-GCNN-win60/sample/0084.npy\n"
     ]
    },
    {
     "name": "stderr",
     "output_type": "stream",
     "text": [
      "[0085/0100] Train: 100%|███████████████████████████████| 74/74 [00:04<00:00, 16.10it/s, loss 4.4517]\n",
      "[0085/0100] Validation: 100%|██████████████████████| 72/72 [00:02<00:00, 31.10it/s, val_loss 3.8065]\n",
      "[0086/0100] Train:   0%|                                                     | 0/74 [00:00<?, ?it/s]"
     ]
    },
    {
     "name": "stdout",
     "output_type": "stream",
     "text": [
      "val_loss is not improved for 4 epochs\n",
      "                  validation\n",
      " - Yaw          :   0.893919\n",
      " - Pitch        :   0.837606\n",
      " - Roll         :   2.197116\n",
      " - RMS          :   1.452353\n",
      " - 99% Tile     :   6.599539\n",
      "Save output signals into checkpoint/1122-Scene3-CLSTM2-GCNN-win60/sample/0085.npy\n"
     ]
    },
    {
     "name": "stderr",
     "output_type": "stream",
     "text": [
      "[0086/0100] Train: 100%|███████████████████████████████| 74/74 [00:04<00:00, 16.19it/s, loss 4.4849]\n",
      "[0086/0100] Validation: 100%|██████████████████████| 72/72 [00:02<00:00, 30.87it/s, val_loss 3.8088]\n",
      "[0087/0100] Train:   0%|                                                     | 0/74 [00:00<?, ?it/s]"
     ]
    },
    {
     "name": "stdout",
     "output_type": "stream",
     "text": [
      "Decaying lr from 6.25e-05 to 3.125e-05 because val_loss did not improved for 5 epochs\n",
      "val_loss is not improved for 5 epochs\n",
      "                  validation\n",
      " - Yaw          :   0.907656\n",
      " - Pitch        :   0.842942\n",
      " - Roll         :   2.199829\n",
      " - RMS          :   1.457582\n",
      " - 99% Tile     :   6.470909\n",
      "Save output signals into checkpoint/1122-Scene3-CLSTM2-GCNN-win60/sample/0086.npy\n"
     ]
    },
    {
     "name": "stderr",
     "output_type": "stream",
     "text": [
      "[0087/0100] Train: 100%|███████████████████████████████| 74/74 [00:04<00:00, 16.85it/s, loss 4.3953]\n",
      "[0087/0100] Validation: 100%|██████████████████████| 72/72 [00:02<00:00, 31.49it/s, val_loss 3.7723]\n",
      "[0088/0100] Train:   0%|                                                     | 0/74 [00:00<?, ?it/s]"
     ]
    },
    {
     "name": "stdout",
     "output_type": "stream",
     "text": [
      "                  validation\n",
      " - Yaw          :   0.885144\n",
      " - Pitch        :   0.849059\n",
      " - Roll         :   2.196655\n",
      " - RMS          :   1.452547\n",
      " - 99% Tile     :   6.484059\n",
      "Save output signals into checkpoint/1122-Scene3-CLSTM2-GCNN-win60/sample/0087.npy\n"
     ]
    },
    {
     "name": "stderr",
     "output_type": "stream",
     "text": [
      "[0088/0100] Train: 100%|███████████████████████████████| 74/74 [00:04<00:00, 16.60it/s, loss 4.4097]\n",
      "[0088/0100] Validation: 100%|██████████████████████| 72/72 [00:02<00:00, 30.61it/s, val_loss 3.7854]\n",
      "[0089/0100] Train:   0%|                                                     | 0/74 [00:00<?, ?it/s]"
     ]
    },
    {
     "name": "stdout",
     "output_type": "stream",
     "text": [
      "val_loss is not improved for 1 epochs\n",
      "                  validation\n",
      " - Yaw          :   0.898306\n",
      " - Pitch        :   0.832232\n",
      " - Roll         :   2.197837\n",
      " - RMS          :   1.452590\n",
      " - 99% Tile     :   6.520540\n",
      "Save output signals into checkpoint/1122-Scene3-CLSTM2-GCNN-win60/sample/0088.npy\n"
     ]
    },
    {
     "name": "stderr",
     "output_type": "stream",
     "text": [
      "[0089/0100] Train: 100%|███████████████████████████████| 74/74 [00:04<00:00, 16.29it/s, loss 4.3800]\n",
      "[0089/0100] Validation: 100%|██████████████████████| 72/72 [00:02<00:00, 30.92it/s, val_loss 3.7835]\n",
      "[0090/0100] Train:   0%|                                                     | 0/74 [00:00<?, ?it/s]"
     ]
    },
    {
     "name": "stdout",
     "output_type": "stream",
     "text": [
      "val_loss is not improved for 2 epochs\n",
      "                  validation\n",
      " - Yaw          :   0.889905\n",
      " - Pitch        :   0.843191\n",
      " - Roll         :   2.195830\n",
      " - RMS          :   1.451961\n",
      " - 99% Tile     :   6.553363\n",
      "Save output signals into checkpoint/1122-Scene3-CLSTM2-GCNN-win60/sample/0089.npy\n"
     ]
    },
    {
     "name": "stderr",
     "output_type": "stream",
     "text": [
      "[0090/0100] Train: 100%|███████████████████████████████| 74/74 [00:04<00:00, 16.02it/s, loss 4.4056]\n",
      "[0090/0100] Validation: 100%|██████████████████████| 72/72 [00:02<00:00, 31.52it/s, val_loss 3.7933]\n",
      "[0091/0100] Train:   0%|                                                     | 0/74 [00:00<?, ?it/s]"
     ]
    },
    {
     "name": "stdout",
     "output_type": "stream",
     "text": [
      "val_loss is not improved for 3 epochs\n",
      "                  validation\n",
      " - Yaw          :   0.898042\n",
      " - Pitch        :   0.836562\n",
      " - Roll         :   2.192600\n",
      " - RMS          :   1.450725\n",
      " - 99% Tile     :   6.573163\n",
      "Save output signals into checkpoint/1122-Scene3-CLSTM2-GCNN-win60/sample/0090.npy\n"
     ]
    },
    {
     "name": "stderr",
     "output_type": "stream",
     "text": [
      "[0091/0100] Train: 100%|███████████████████████████████| 74/74 [00:04<00:00, 16.15it/s, loss 4.4304]\n",
      "[0091/0100] Validation: 100%|██████████████████████| 72/72 [00:02<00:00, 31.05it/s, val_loss 3.8085]\n",
      "[0092/0100] Train:   0%|                                                     | 0/74 [00:00<?, ?it/s]"
     ]
    },
    {
     "name": "stdout",
     "output_type": "stream",
     "text": [
      "val_loss is not improved for 4 epochs\n",
      "                  validation\n",
      " - Yaw          :   0.924294\n",
      " - Pitch        :   0.830535\n",
      " - Roll         :   2.200765\n",
      " - RMS          :   1.459164\n",
      " - 99% Tile     :   6.617787\n",
      "Save output signals into checkpoint/1122-Scene3-CLSTM2-GCNN-win60/sample/0091.npy\n"
     ]
    },
    {
     "name": "stderr",
     "output_type": "stream",
     "text": [
      "[0092/0100] Train: 100%|███████████████████████████████| 74/74 [00:04<00:00, 16.05it/s, loss 4.3001]\n",
      "[0092/0100] Validation: 100%|██████████████████████| 72/72 [00:02<00:00, 31.38it/s, val_loss 3.7783]\n",
      "[0093/0100] Train:   0%|                                                     | 0/74 [00:00<?, ?it/s]"
     ]
    },
    {
     "name": "stdout",
     "output_type": "stream",
     "text": [
      "Decaying lr from 3.125e-05 to 1.5625e-05 because val_loss did not improved for 5 epochs\n",
      "val_loss is not improved for 5 epochs\n",
      "                  validation\n",
      " - Yaw          :   0.890249\n",
      " - Pitch        :   0.844191\n",
      " - Roll         :   2.195165\n",
      " - RMS          :   1.451890\n",
      " - 99% Tile     :   6.510532\n",
      "Save output signals into checkpoint/1122-Scene3-CLSTM2-GCNN-win60/sample/0092.npy\n"
     ]
    },
    {
     "name": "stderr",
     "output_type": "stream",
     "text": [
      "[0093/0100] Train: 100%|███████████████████████████████| 74/74 [00:04<00:00, 15.95it/s, loss 4.3487]\n",
      "[0093/0100] Validation: 100%|██████████████████████| 72/72 [00:02<00:00, 31.13it/s, val_loss 3.8117]\n",
      "[0094/0100] Train:   0%|                                                     | 0/74 [00:00<?, ?it/s]"
     ]
    },
    {
     "name": "stdout",
     "output_type": "stream",
     "text": [
      "val_loss is not improved for 6 epochs\n",
      "                  validation\n",
      " - Yaw          :   0.942076\n",
      " - Pitch        :   0.839558\n",
      " - Roll         :   2.193513\n",
      " - RMS          :   1.461034\n",
      " - 99% Tile     :   6.560733\n",
      "Save output signals into checkpoint/1122-Scene3-CLSTM2-GCNN-win60/sample/0093.npy\n"
     ]
    },
    {
     "name": "stderr",
     "output_type": "stream",
     "text": [
      "[0094/0100] Train: 100%|███████████████████████████████| 74/74 [00:04<00:00, 16.34it/s, loss 4.4018]\n",
      "[0094/0100] Validation: 100%|██████████████████████| 72/72 [00:02<00:00, 31.02it/s, val_loss 3.7882]\n",
      "[0095/0100] Train:   0%|                                                     | 0/74 [00:00<?, ?it/s]"
     ]
    },
    {
     "name": "stdout",
     "output_type": "stream",
     "text": [
      "val_loss is not improved for 7 epochs\n",
      "                  validation\n",
      " - Yaw          :   0.905596\n",
      " - Pitch        :   0.841336\n",
      " - Roll         :   2.194791\n",
      " - RMS          :   1.454311\n",
      " - 99% Tile     :   6.568170\n",
      "Save output signals into checkpoint/1122-Scene3-CLSTM2-GCNN-win60/sample/0094.npy\n"
     ]
    },
    {
     "name": "stderr",
     "output_type": "stream",
     "text": [
      "[0095/0100] Train: 100%|███████████████████████████████| 74/74 [00:04<00:00, 16.16it/s, loss 4.3544]\n",
      "[0095/0100] Validation: 100%|██████████████████████| 72/72 [00:02<00:00, 31.63it/s, val_loss 3.7847]\n",
      "[0096/0100] Train:   0%|                                                     | 0/74 [00:00<?, ?it/s]"
     ]
    },
    {
     "name": "stdout",
     "output_type": "stream",
     "text": [
      "val_loss is not improved for 8 epochs\n",
      "                  validation\n",
      " - Yaw          :   0.901680\n",
      " - Pitch        :   0.846414\n",
      " - Roll         :   2.189675\n",
      " - RMS          :   1.451909\n",
      " - 99% Tile     :   6.560528\n",
      "Save output signals into checkpoint/1122-Scene3-CLSTM2-GCNN-win60/sample/0095.npy\n"
     ]
    },
    {
     "name": "stderr",
     "output_type": "stream",
     "text": [
      "[0096/0100] Train: 100%|███████████████████████████████| 74/74 [00:04<00:00, 16.16it/s, loss 4.3281]\n",
      "[0096/0100] Validation: 100%|██████████████████████| 72/72 [00:02<00:00, 31.38it/s, val_loss 3.7847]\n",
      "[0097/0100] Train:   0%|                                                     | 0/74 [00:00<?, ?it/s]"
     ]
    },
    {
     "name": "stdout",
     "output_type": "stream",
     "text": [
      "val_loss is not improved for 9 epochs\n",
      "                  validation\n",
      " - Yaw          :   0.877941\n",
      " - Pitch        :   0.842574\n",
      " - Roll         :   2.196384\n",
      " - RMS          :   1.449691\n",
      " - 99% Tile     :   6.584673\n",
      "Save output signals into checkpoint/1122-Scene3-CLSTM2-GCNN-win60/sample/0096.npy\n"
     ]
    },
    {
     "name": "stderr",
     "output_type": "stream",
     "text": [
      "[0097/0100] Train: 100%|███████████████████████████████| 74/74 [00:04<00:00, 16.50it/s, loss 4.3592]\n",
      "[0097/0100] Validation: 100%|██████████████████████| 72/72 [00:02<00:00, 31.51it/s, val_loss 3.8137]\n"
     ]
    },
    {
     "name": "stdout",
     "output_type": "stream",
     "text": [
      "Decaying lr from 1.5625e-05 to 7.8125e-06 because val_loss did not improved for 5 epochs\n",
      "val_loss is not improved for 10 epochs\n",
      "Stop training because val_loss did not improved for 10 epochs\n",
      "                  validation\n",
      " - Yaw          :   0.922085\n",
      " - Pitch        :   0.844176\n",
      " - Roll         :   2.197522\n",
      " - RMS          :   1.459678\n",
      " - 99% Tile     :   6.582839\n",
      "Save output signals into checkpoint/1122-Scene3-CLSTM2-GCNN-win60/sample/0097.npy\n"
     ]
    }
   ],
   "source": [
    "trainer.fit(ds_train, ds_test, num_epochs=100, batch_size=256, shuffle=True, pin_memory=True)"
   ]
  },
  {
   "cell_type": "code",
   "execution_count": null,
   "metadata": {},
   "outputs": [],
   "source": []
  }
 ],
 "metadata": {
  "kernelspec": {
   "display_name": "torch",
   "language": "python",
   "name": "torch"
  },
  "language_info": {
   "codemirror_mode": {
    "name": "ipython",
    "version": 3
   },
   "file_extension": ".py",
   "mimetype": "text/x-python",
   "name": "python",
   "nbconvert_exporter": "python",
   "pygments_lexer": "ipython3",
   "version": "3.7.9"
  }
 },
 "nbformat": 4,
 "nbformat_minor": 4
}
