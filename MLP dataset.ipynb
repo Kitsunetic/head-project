{
 "cells": [
  {
   "cell_type": "code",
   "execution_count": 1,
   "metadata": {},
   "outputs": [
    {
     "name": "stderr",
     "output_type": "stream",
     "text": [
      "Using TensorFlow backend.\n"
     ]
    }
   ],
   "source": [
    "import numpy as np\n",
    "import pandas as pd\n",
    "import imageio\n",
    "import h5py\n",
    "import pickle\n",
    "\n",
    "from tqdm import tqdm\n",
    "from xqdm import xqdm\n",
    "from pathlib import Path\n",
    "import matplotlib.pyplot as plt\n",
    "import re\n",
    "\n",
    "import keras.layers as L\n",
    "from keras.models import Model\n",
    "from keras.utils import plot_model"
   ]
  },
  {
   "cell_type": "code",
   "execution_count": 15,
   "metadata": {},
   "outputs": [],
   "source": [
    "I = L.Input(shape=(6,))\n",
    "x = L.Dense(32, activation='relu')(I)\n",
    "x = L.Dense(64, activation='relu')(x)\n",
    "x = L.Dropout(0.2)(x)\n",
    "x = L.Dense(128, activation='relu')(x)\n",
    "x = L.Dropout(0.2)(x)\n",
    "x = L.Dense(1, activation='linear')(x)\n",
    "\n",
    "model = Model(inputs=I, outputs=x)"
   ]
  },
  {
   "cell_type": "code",
   "execution_count": 16,
   "metadata": {},
   "outputs": [
    {
     "name": "stdout",
     "output_type": "stream",
     "text": [
      "Model: \"model_3\"\n",
      "_________________________________________________________________\n",
      "Layer (type)                 Output Shape              Param #   \n",
      "=================================================================\n",
      "input_3 (InputLayer)         (None, 6)                 0         \n",
      "_________________________________________________________________\n",
      "dense_9 (Dense)              (None, 32)                224       \n",
      "_________________________________________________________________\n",
      "dense_10 (Dense)             (None, 64)                2112      \n",
      "_________________________________________________________________\n",
      "dropout_5 (Dropout)          (None, 64)                0         \n",
      "_________________________________________________________________\n",
      "dense_11 (Dense)             (None, 128)               8320      \n",
      "_________________________________________________________________\n",
      "dropout_6 (Dropout)          (None, 128)               0         \n",
      "_________________________________________________________________\n",
      "dense_12 (Dense)             (None, 1)                 129       \n",
      "=================================================================\n",
      "Total params: 10,785\n",
      "Trainable params: 10,785\n",
      "Non-trainable params: 0\n",
      "_________________________________________________________________\n"
     ]
    }
   ],
   "source": [
    "model.summary()"
   ]
  },
  {
   "cell_type": "code",
   "execution_count": 17,
   "metadata": {},
   "outputs": [],
   "source": [
    "model.compile('adam', loss='mean_squared_error')"
   ]
  },
  {
   "cell_type": "code",
   "execution_count": 18,
   "metadata": {},
   "outputs": [],
   "source": [
    "with open('data/interpolation_xy.pkl', 'rb') as f:\n",
    "    datasets = pickle.load(f)"
   ]
  },
  {
   "cell_type": "code",
   "execution_count": 59,
   "metadata": {},
   "outputs": [],
   "source": [
    "def make_dataset(d, col):\n",
    "    X_train, X_test, Y_train, Y_test = [], [], [], []\n",
    "    for j, dataset in enumerate(datasets):\n",
    "        x = dataset[0]['input_orientation_' + col].astype(np.float32)\n",
    "        y = dataset[1]['input_orientation_' + col].astype(np.float32)\n",
    "        for i in range(len(x) - d):\n",
    "            if i < len(x) // 2:\n",
    "                X_train.append(x[i:i+6])\n",
    "                Y_train.append(y[i+d])\n",
    "            else:\n",
    "                X_test.append(x[i:i+6])\n",
    "                Y_test.append(y[i+d])\n",
    "\n",
    "    X_train = np.stack(X_train, axis=0)\n",
    "    X_test = np.stack(X_test, axis=0)\n",
    "    Y_train = np.stack(Y_train, axis=0)\n",
    "    Y_test = np.stack(Y_test, axis=0)\n",
    "\n",
    "    #print(X_train.shape, X_test.shape, Y_train.shape, Y_test.shape)\n",
    "\n",
    "    with open(f'data/mlp{(d//6)*100}_{col}.pkl', 'wb') as f:\n",
    "        pickle.dump((X_train, X_test, Y_train, Y_test), f)"
   ]
  },
  {
   "cell_type": "code",
   "execution_count": 60,
   "metadata": {},
   "outputs": [],
   "source": [
    "def __make_dataset(args):\n",
    "    make_dataset(*args)"
   ]
  },
  {
   "cell_type": "code",
   "execution_count": 61,
   "metadata": {},
   "outputs": [],
   "source": [
    "items = [\n",
    "    (6, 'yaw'),\n",
    "    (6, 'pitch'),\n",
    "    (6, 'roll'),\n",
    "    (12, 'yaw'),\n",
    "    (12, 'pitch'),\n",
    "    (12, 'roll'),\n",
    "    (18, 'yaw'),\n",
    "    (18, 'pitch'),\n",
    "    (18, 'roll'),\n",
    "]"
   ]
  },
  {
   "cell_type": "code",
   "execution_count": 62,
   "metadata": {},
   "outputs": [
    {
     "name": "stderr",
     "output_type": "stream",
     "text": [
      "100%|█████████████████████████████████████████████████████████████████| 9/9 [00:35<00:00,  3.98s/it]\n"
     ]
    },
    {
     "data": {
      "text/plain": [
       "[None, None, None, None, None, None, None, None, None]"
      ]
     },
     "execution_count": 62,
     "metadata": {},
     "output_type": "execute_result"
    }
   ],
   "source": [
    "_ = xqdm(__make_dataset, items, ncols=100)"
   ]
  },
  {
   "cell_type": "code",
   "execution_count": null,
   "metadata": {},
   "outputs": [],
   "source": []
  }
 ],
 "metadata": {
  "kernelspec": {
   "display_name": "tf",
   "language": "python",
   "name": "tf"
  },
  "language_info": {
   "codemirror_mode": {
    "name": "ipython",
    "version": 3
   },
   "file_extension": ".py",
   "mimetype": "text/x-python",
   "name": "python",
   "nbconvert_exporter": "python",
   "pygments_lexer": "ipython3",
   "version": "3.7.7"
  }
 },
 "nbformat": 4,
 "nbformat_minor": 4
}
