{
 "cells": [
  {
   "cell_type": "markdown",
   "metadata": {},
   "source": [
    "# 참고자료\n",
    "\n"
   ]
  },
  {
   "cell_type": "code",
   "execution_count": null,
   "metadata": {},
   "outputs": [],
   "source": [
    "!pip install --upgrade git+https://github.com/Kitsunetic/torch_burn.git"
   ]
  },
  {
   "cell_type": "code",
   "execution_count": 1,
   "metadata": {},
   "outputs": [],
   "source": [
    "from multiprocessing import cpu_count\n",
    "from pathlib import Path\n",
    "from typing import List, Union, AnyStr\n",
    "from math import pi\n",
    "import pickle\n",
    "\n",
    "import numpy as np\n",
    "import pytorch_lightning as pl\n",
    "import torch\n",
    "import torch.nn as nn\n",
    "from sklearn import model_selection\n",
    "from torch.utils.data import DataLoader, Dataset\n",
    "from tqdm import tqdm\n",
    "\n",
    "import torch_burn as tb\n",
    "import utils"
   ]
  },
  {
   "cell_type": "markdown",
   "metadata": {},
   "source": [
    "# Hyper Parameters"
   ]
  },
  {
   "cell_type": "code",
   "execution_count": 2,
   "metadata": {},
   "outputs": [],
   "source": [
    "EXPERIMENT_NAME = 'baseline - GRU(bidirectional)'\n",
    "CHECKPOINT_DIR = Path('checkpoint', EXPERIMENT_NAME)\n",
    "CHECKPOINT_DIR.mkdir(parents=True, exist_ok=True)\n",
    "\n",
    "DATA_FILEPATH = 'data/pth_nostd/C2-T18-win48-hop1.pth'\n",
    "\n",
    "NUM_EPOCHS = 40\n",
    "BATCH_SIZE = 1024"
   ]
  },
  {
   "cell_type": "markdown",
   "metadata": {},
   "source": [
    "# 데이터 로드"
   ]
  },
  {
   "cell_type": "code",
   "execution_count": 3,
   "metadata": {},
   "outputs": [],
   "source": [
    "train_ds, test_ds = utils.SequentialDataset.load_data(DATA_FILEPATH)"
   ]
  },
  {
   "cell_type": "code",
   "execution_count": 4,
   "metadata": {},
   "outputs": [
    {
     "data": {
      "text/plain": [
       "(177937, 176476)"
      ]
     },
     "execution_count": 4,
     "metadata": {},
     "output_type": "execute_result"
    }
   ],
   "source": [
    "len(train_ds), len(test_ds)"
   ]
  },
  {
   "cell_type": "markdown",
   "metadata": {},
   "source": [
    "# 모델, loss, optim, metrics, callbacks 생성"
   ]
  },
  {
   "cell_type": "code",
   "execution_count": 5,
   "metadata": {},
   "outputs": [],
   "source": [
    "model = utils.BaselineGRU(input_size=6,\n",
    "                          hidden_size=24,\n",
    "                          num_layers=8,\n",
    "                          dropout=0.0,\n",
    "                          bidirectional=False).cuda()"
   ]
  },
  {
   "cell_type": "code",
   "execution_count": 6,
   "metadata": {},
   "outputs": [],
   "source": [
    "criterion = nn.MSELoss().cuda()\n",
    "optimizer = torch.optim.Adam(model.parameters())"
   ]
  },
  {
   "cell_type": "code",
   "execution_count": 7,
   "metadata": {},
   "outputs": [],
   "source": [
    "metrics = [tb.metrics.ModuleMetric(criterion, 'loss'),\n",
    "           utils.HPMetric('hp_metric'),\n",
    "           utils.HPSignalHistory(CHECKPOINT_DIR / 'sample' / '{epoch:04d}.npy', 'hp_signal')]"
   ]
  },
  {
   "cell_type": "code",
   "execution_count": 8,
   "metadata": {},
   "outputs": [],
   "source": [
    "callbacks = [tb.callbacks.EarlyStopping(metrics[0])]"
   ]
  },
  {
   "cell_type": "code",
   "execution_count": 9,
   "metadata": {},
   "outputs": [],
   "source": [
    "trainer = tb.Trainer2(model=model, optim=optimizer, metrics=metrics, callbacks=callbacks, ncols=100)"
   ]
  },
  {
   "cell_type": "code",
   "execution_count": 10,
   "metadata": {},
   "outputs": [
    {
     "name": "stderr",
     "output_type": "stream",
     "text": [
      "[0001/0040] Train: 100%|█████████████████████████████| 174/174 [00:04<00:00, 42.71it/s, loss 0.0253]\n",
      "[0001/0040] Validation: 100%|████████████████████| 173/173 [00:01<00:00, 91.59it/s, val_loss 0.0074]\n",
      "[0002/0040] Train:   0%|                                                    | 0/174 [00:00<?, ?it/s]"
     ]
    },
    {
     "name": "stdout",
     "output_type": "stream",
     "text": [
      "                  validation\n",
      " - Yaw          :   3.852563\n",
      " - Pitch        :   2.233403\n",
      " - Roll         :   2.885483\n",
      " - RMS          :   3.063568\n",
      " - 99% Tile     :  19.644457\n",
      "Save output signals into checkpoint/baseline - GRU(bidirectional)/sample/0001.npy\n"
     ]
    },
    {
     "name": "stderr",
     "output_type": "stream",
     "text": [
      "[0002/0040] Train: 100%|█████████████████████████████| 174/174 [00:04<00:00, 42.34it/s, loss 0.0065]\n",
      "[0002/0040] Validation: 100%|████████████████████| 173/173 [00:01<00:00, 91.38it/s, val_loss 0.0040]\n",
      "[0003/0040] Train:   0%|                                                    | 0/174 [00:00<?, ?it/s]"
     ]
    },
    {
     "name": "stdout",
     "output_type": "stream",
     "text": [
      "                  validation\n",
      " - Yaw          :   2.310831\n",
      " - Pitch        :   1.936499\n",
      " - Roll         :   2.218848\n",
      " - RMS          :   2.161269\n",
      " - 99% Tile     :  14.340738\n",
      "Save output signals into checkpoint/baseline - GRU(bidirectional)/sample/0002.npy\n"
     ]
    },
    {
     "name": "stderr",
     "output_type": "stream",
     "text": [
      "[0003/0040] Train: 100%|█████████████████████████████| 174/174 [00:04<00:00, 42.78it/s, loss 0.0041]\n",
      "[0003/0040] Validation: 100%|████████████████████| 173/173 [00:01<00:00, 90.30it/s, val_loss 0.0033]\n",
      "[0004/0040] Train:   0%|                                                    | 0/174 [00:00<?, ?it/s]"
     ]
    },
    {
     "name": "stdout",
     "output_type": "stream",
     "text": [
      "                  validation\n",
      " - Yaw          :   2.376829\n",
      " - Pitch        :   2.485332\n",
      " - Roll         :   1.263550\n",
      " - RMS          :   2.115242\n",
      " - 99% Tile     :  12.802640\n",
      "Save output signals into checkpoint/baseline - GRU(bidirectional)/sample/0003.npy\n"
     ]
    },
    {
     "name": "stderr",
     "output_type": "stream",
     "text": [
      "[0004/0040] Train: 100%|█████████████████████████████| 174/174 [00:04<00:00, 42.87it/s, loss 0.0036]\n",
      "[0004/0040] Validation: 100%|████████████████████| 173/173 [00:01<00:00, 91.26it/s, val_loss 0.0028]\n",
      "[0005/0040] Train:   0%|                                                    | 0/174 [00:00<?, ?it/s]"
     ]
    },
    {
     "name": "stdout",
     "output_type": "stream",
     "text": [
      "                  validation\n",
      " - Yaw          :   2.307231\n",
      " - Pitch        :   1.581682\n",
      " - Roll         :   1.199489\n",
      " - RMS          :   1.757252\n",
      " - 99% Tile     :  12.257606\n",
      "Save output signals into checkpoint/baseline - GRU(bidirectional)/sample/0004.npy\n"
     ]
    },
    {
     "name": "stderr",
     "output_type": "stream",
     "text": [
      "[0005/0040] Train: 100%|█████████████████████████████| 174/174 [00:04<00:00, 42.97it/s, loss 0.0034]\n",
      "[0005/0040] Validation: 100%|████████████████████| 173/173 [00:01<00:00, 93.18it/s, val_loss 0.0025]\n",
      "[0006/0040] Train:   0%|                                                    | 0/174 [00:00<?, ?it/s]"
     ]
    },
    {
     "name": "stdout",
     "output_type": "stream",
     "text": [
      "                  validation\n",
      " - Yaw          :   2.063378\n",
      " - Pitch        :   1.318309\n",
      " - Roll         :   1.181808\n",
      " - RMS          :   1.569728\n",
      " - 99% Tile     :  11.944544\n",
      "Save output signals into checkpoint/baseline - GRU(bidirectional)/sample/0005.npy\n"
     ]
    },
    {
     "name": "stderr",
     "output_type": "stream",
     "text": [
      "[0006/0040] Train: 100%|█████████████████████████████| 174/174 [00:04<00:00, 42.51it/s, loss 0.0032]\n",
      "[0006/0040] Validation: 100%|████████████████████| 173/173 [00:01<00:00, 90.12it/s, val_loss 0.0029]\n",
      "[0007/0040] Train:   0%|                                                    | 0/174 [00:00<?, ?it/s]"
     ]
    },
    {
     "name": "stdout",
     "output_type": "stream",
     "text": [
      "val_loss is not improved for 1 epochs\n",
      "                  validation\n",
      " - Yaw          :   2.929740\n",
      " - Pitch        :   1.337814\n",
      " - Roll         :   1.188191\n",
      " - RMS          :   1.981996\n",
      " - 99% Tile     :  11.921643\n",
      "Save output signals into checkpoint/baseline - GRU(bidirectional)/sample/0006.npy\n"
     ]
    },
    {
     "name": "stderr",
     "output_type": "stream",
     "text": [
      "[0007/0040] Train: 100%|█████████████████████████████| 174/174 [00:04<00:00, 42.57it/s, loss 0.0031]\n",
      "[0007/0040] Validation: 100%|████████████████████| 173/173 [00:01<00:00, 89.61it/s, val_loss 0.0024]\n",
      "[0008/0040] Train:   0%|                                                    | 0/174 [00:00<?, ?it/s]"
     ]
    },
    {
     "name": "stdout",
     "output_type": "stream",
     "text": [
      "                  validation\n",
      " - Yaw          :   2.097110\n",
      " - Pitch        :   1.281051\n",
      " - Roll         :   1.116006\n",
      " - RMS          :   1.558250\n",
      " - 99% Tile     :  11.563080\n",
      "Save output signals into checkpoint/baseline - GRU(bidirectional)/sample/0007.npy\n"
     ]
    },
    {
     "name": "stderr",
     "output_type": "stream",
     "text": [
      "[0008/0040] Train: 100%|█████████████████████████████| 174/174 [00:04<00:00, 42.74it/s, loss 0.0030]\n",
      "[0008/0040] Validation: 100%|████████████████████| 173/173 [00:01<00:00, 89.58it/s, val_loss 0.0024]\n",
      "[0009/0040] Train:   0%|                                                    | 0/174 [00:00<?, ?it/s]"
     ]
    },
    {
     "name": "stdout",
     "output_type": "stream",
     "text": [
      "                  validation\n",
      " - Yaw          :   1.893283\n",
      " - Pitch        :   1.376793\n",
      " - Roll         :   1.098814\n",
      " - RMS          :   1.493036\n",
      " - 99% Tile     :  11.347244\n",
      "Save output signals into checkpoint/baseline - GRU(bidirectional)/sample/0008.npy\n"
     ]
    },
    {
     "name": "stderr",
     "output_type": "stream",
     "text": [
      "[0009/0040] Train: 100%|█████████████████████████████| 174/174 [00:04<00:00, 42.40it/s, loss 0.0029]\n",
      "[0009/0040] Validation: 100%|████████████████████| 173/173 [00:01<00:00, 90.91it/s, val_loss 0.0025]\n",
      "[0010/0040] Train:   0%|                                                    | 0/174 [00:00<?, ?it/s]"
     ]
    },
    {
     "name": "stdout",
     "output_type": "stream",
     "text": [
      "val_loss is not improved for 1 epochs\n",
      "                  validation\n",
      " - Yaw          :   2.368088\n",
      " - Pitch        :   1.345983\n",
      " - Roll         :   1.181898\n",
      " - RMS          :   1.714292\n",
      " - 99% Tile     :  11.361462\n",
      "Save output signals into checkpoint/baseline - GRU(bidirectional)/sample/0009.npy\n"
     ]
    },
    {
     "name": "stderr",
     "output_type": "stream",
     "text": [
      "[0010/0040] Train: 100%|█████████████████████████████| 174/174 [00:04<00:00, 42.82it/s, loss 0.0029]\n",
      "[0010/0040] Validation: 100%|████████████████████| 173/173 [00:01<00:00, 91.71it/s, val_loss 0.0023]\n",
      "[0011/0040] Train:   0%|                                                    | 0/174 [00:00<?, ?it/s]"
     ]
    },
    {
     "name": "stdout",
     "output_type": "stream",
     "text": [
      "                  validation\n",
      " - Yaw          :   1.984901\n",
      " - Pitch        :   1.371131\n",
      " - Roll         :   1.028827\n",
      " - RMS          :   1.514191\n",
      " - 99% Tile     :  11.102170\n",
      "Save output signals into checkpoint/baseline - GRU(bidirectional)/sample/0010.npy\n"
     ]
    },
    {
     "name": "stderr",
     "output_type": "stream",
     "text": [
      "[0011/0040] Train: 100%|█████████████████████████████| 174/174 [00:04<00:00, 43.02it/s, loss 0.0028]\n",
      "[0011/0040] Validation: 100%|████████████████████| 173/173 [00:01<00:00, 90.83it/s, val_loss 0.0022]\n",
      "[0012/0040] Train:   0%|                                                    | 0/174 [00:00<?, ?it/s]"
     ]
    },
    {
     "name": "stdout",
     "output_type": "stream",
     "text": [
      "                  validation\n",
      " - Yaw          :   1.904514\n",
      " - Pitch        :   1.218754\n",
      " - Roll         :   1.002694\n",
      " - RMS          :   1.428044\n",
      " - 99% Tile     :  11.049771\n",
      "Save output signals into checkpoint/baseline - GRU(bidirectional)/sample/0011.npy\n"
     ]
    },
    {
     "name": "stderr",
     "output_type": "stream",
     "text": [
      "[0012/0040] Train: 100%|█████████████████████████████| 174/174 [00:04<00:00, 42.75it/s, loss 0.0027]\n",
      "[0012/0040] Validation: 100%|████████████████████| 173/173 [00:01<00:00, 90.92it/s, val_loss 0.0024]\n",
      "[0013/0040] Train:   0%|                                                    | 0/174 [00:00<?, ?it/s]"
     ]
    },
    {
     "name": "stdout",
     "output_type": "stream",
     "text": [
      "val_loss is not improved for 1 epochs\n",
      "                  validation\n",
      " - Yaw          :   1.919762\n",
      " - Pitch        :   1.716399\n",
      " - Roll         :   0.982439\n",
      " - RMS          :   1.591299\n",
      " - 99% Tile     :  10.987797\n",
      "Save output signals into checkpoint/baseline - GRU(bidirectional)/sample/0012.npy\n"
     ]
    },
    {
     "name": "stderr",
     "output_type": "stream",
     "text": [
      "[0013/0040] Train: 100%|█████████████████████████████| 174/174 [00:04<00:00, 42.67it/s, loss 0.0027]\n",
      "[0013/0040] Validation: 100%|████████████████████| 173/173 [00:01<00:00, 89.88it/s, val_loss 0.0022]\n",
      "[0014/0040] Train:   0%|                                                    | 0/174 [00:00<?, ?it/s]"
     ]
    },
    {
     "name": "stdout",
     "output_type": "stream",
     "text": [
      "                  validation\n",
      " - Yaw          :   1.927702\n",
      " - Pitch        :   1.270182\n",
      " - Roll         :   0.908641\n",
      " - RMS          :   1.432367\n",
      " - 99% Tile     :  10.827117\n",
      "Save output signals into checkpoint/baseline - GRU(bidirectional)/sample/0013.npy\n"
     ]
    },
    {
     "name": "stderr",
     "output_type": "stream",
     "text": [
      "[0014/0040] Train: 100%|█████████████████████████████| 174/174 [00:04<00:00, 42.83it/s, loss 0.0027]\n",
      "[0014/0040] Validation: 100%|████████████████████| 173/173 [00:01<00:00, 90.10it/s, val_loss 0.0022]\n",
      "[0015/0040] Train:   0%|                                                    | 0/174 [00:00<?, ?it/s]"
     ]
    },
    {
     "name": "stdout",
     "output_type": "stream",
     "text": [
      "val_loss is not improved for 1 epochs\n",
      "                  validation\n",
      " - Yaw          :   1.846398\n",
      " - Pitch        :   1.432027\n",
      " - Roll         :   0.942830\n",
      " - RMS          :   1.454741\n",
      " - 99% Tile     :  10.731582\n",
      "Save output signals into checkpoint/baseline - GRU(bidirectional)/sample/0014.npy\n"
     ]
    },
    {
     "name": "stderr",
     "output_type": "stream",
     "text": [
      "[0015/0040] Train: 100%|█████████████████████████████| 174/174 [00:04<00:00, 43.00it/s, loss 0.0026]\n",
      "[0015/0040] Validation: 100%|████████████████████| 173/173 [00:01<00:00, 91.02it/s, val_loss 0.0022]\n",
      "[0016/0040] Train:   0%|                                                    | 0/174 [00:00<?, ?it/s]"
     ]
    },
    {
     "name": "stdout",
     "output_type": "stream",
     "text": [
      "val_loss is not improved for 2 epochs\n",
      "                  validation\n",
      " - Yaw          :   1.852152\n",
      " - Pitch        :   1.660106\n",
      " - Roll         :   0.823390\n",
      " - RMS          :   1.512657\n",
      " - 99% Tile     :  10.705896\n",
      "Save output signals into checkpoint/baseline - GRU(bidirectional)/sample/0015.npy\n"
     ]
    },
    {
     "name": "stderr",
     "output_type": "stream",
     "text": [
      "[0016/0040] Train: 100%|█████████████████████████████| 174/174 [00:04<00:00, 42.77it/s, loss 0.0026]\n",
      "[0016/0040] Validation: 100%|████████████████████| 173/173 [00:01<00:00, 90.93it/s, val_loss 0.0021]\n",
      "[0017/0040] Train:   0%|                                                    | 0/174 [00:00<?, ?it/s]"
     ]
    },
    {
     "name": "stdout",
     "output_type": "stream",
     "text": [
      "                  validation\n",
      " - Yaw          :   2.011151\n",
      " - Pitch        :   1.242437\n",
      " - Roll         :   0.840491\n",
      " - RMS          :   1.448540\n",
      " - 99% Tile     :  10.593706\n",
      "Save output signals into checkpoint/baseline - GRU(bidirectional)/sample/0016.npy\n"
     ]
    },
    {
     "name": "stderr",
     "output_type": "stream",
     "text": [
      "[0017/0040] Train: 100%|█████████████████████████████| 174/174 [00:04<00:00, 42.69it/s, loss 0.0026]\n",
      "[0017/0040] Validation: 100%|████████████████████| 173/173 [00:01<00:00, 91.19it/s, val_loss 0.0021]\n",
      "[0018/0040] Train:   0%|                                                    | 0/174 [00:00<?, ?it/s]"
     ]
    },
    {
     "name": "stdout",
     "output_type": "stream",
     "text": [
      "                  validation\n",
      " - Yaw          :   1.915713\n",
      " - Pitch        :   1.157985\n",
      " - Roll         :   0.870860\n",
      " - RMS          :   1.386757\n",
      " - 99% Tile     :  10.630334\n",
      "Save output signals into checkpoint/baseline - GRU(bidirectional)/sample/0017.npy\n"
     ]
    },
    {
     "name": "stderr",
     "output_type": "stream",
     "text": [
      "[0018/0040] Train: 100%|█████████████████████████████| 174/174 [00:04<00:00, 42.93it/s, loss 0.0025]\n",
      "[0018/0040] Validation: 100%|████████████████████| 173/173 [00:01<00:00, 88.96it/s, val_loss 0.0022]\n",
      "[0019/0040] Train:   0%|                                                    | 0/174 [00:00<?, ?it/s]"
     ]
    },
    {
     "name": "stdout",
     "output_type": "stream",
     "text": [
      "val_loss is not improved for 1 epochs\n",
      "                  validation\n",
      " - Yaw          :   2.026333\n",
      " - Pitch        :   1.176357\n",
      " - Roll         :   0.994001\n",
      " - RMS          :   1.469453\n",
      " - 99% Tile     :  10.703244\n",
      "Save output signals into checkpoint/baseline - GRU(bidirectional)/sample/0018.npy\n"
     ]
    },
    {
     "name": "stderr",
     "output_type": "stream",
     "text": [
      "[0019/0040] Train: 100%|█████████████████████████████| 174/174 [00:04<00:00, 42.52it/s, loss 0.0025]\n",
      "[0019/0040] Validation: 100%|████████████████████| 173/173 [00:01<00:00, 90.33it/s, val_loss 0.0021]\n",
      "[0020/0040] Train:   0%|                                                    | 0/174 [00:00<?, ?it/s]"
     ]
    },
    {
     "name": "stdout",
     "output_type": "stream",
     "text": [
      "                  validation\n",
      " - Yaw          :   1.962773\n",
      " - Pitch        :   1.166756\n",
      " - Roll         :   0.796694\n",
      " - RMS          :   1.396247\n",
      " - 99% Tile     :  10.542383\n",
      "Save output signals into checkpoint/baseline - GRU(bidirectional)/sample/0019.npy\n"
     ]
    },
    {
     "name": "stderr",
     "output_type": "stream",
     "text": [
      "[0020/0040] Train: 100%|█████████████████████████████| 174/174 [00:04<00:00, 42.73it/s, loss 0.0025]\n",
      "[0020/0040] Validation: 100%|████████████████████| 173/173 [00:01<00:00, 89.31it/s, val_loss 0.0021]\n",
      "[0021/0040] Train:   0%|                                                    | 0/174 [00:00<?, ?it/s]"
     ]
    },
    {
     "name": "stdout",
     "output_type": "stream",
     "text": [
      "val_loss is not improved for 1 epochs\n",
      "                  validation\n",
      " - Yaw          :   1.997245\n",
      " - Pitch        :   1.217847\n",
      " - Roll         :   0.830330\n",
      " - RMS          :   1.433131\n",
      " - 99% Tile     :  10.580505\n",
      "Save output signals into checkpoint/baseline - GRU(bidirectional)/sample/0020.npy\n"
     ]
    },
    {
     "name": "stderr",
     "output_type": "stream",
     "text": [
      "[0021/0040] Train: 100%|█████████████████████████████| 174/174 [00:04<00:00, 42.41it/s, loss 0.0025]\n",
      "[0021/0040] Validation: 100%|████████████████████| 173/173 [00:01<00:00, 90.60it/s, val_loss 0.0024]\n",
      "[0022/0040] Train:   0%|                                                    | 0/174 [00:00<?, ?it/s]"
     ]
    },
    {
     "name": "stdout",
     "output_type": "stream",
     "text": [
      "val_loss is not improved for 2 epochs\n",
      "                  validation\n",
      " - Yaw          :   2.730356\n",
      " - Pitch        :   1.333434\n",
      " - Roll         :   0.810379\n",
      " - RMS          :   1.815636\n",
      " - 99% Tile     :  10.869077\n",
      "Save output signals into checkpoint/baseline - GRU(bidirectional)/sample/0021.npy\n"
     ]
    },
    {
     "name": "stderr",
     "output_type": "stream",
     "text": [
      "[0022/0040] Train: 100%|█████████████████████████████| 174/174 [00:04<00:00, 42.86it/s, loss 0.0024]\n",
      "[0022/0040] Validation: 100%|████████████████████| 173/173 [00:01<00:00, 90.66it/s, val_loss 0.0020]\n",
      "[0023/0040] Train:   0%|                                                    | 0/174 [00:00<?, ?it/s]"
     ]
    },
    {
     "name": "stdout",
     "output_type": "stream",
     "text": [
      "                  validation\n",
      " - Yaw          :   1.868581\n",
      " - Pitch        :   1.125690\n",
      " - Roll         :   0.839644\n",
      " - RMS          :   1.349540\n",
      " - 99% Tile     :  10.530400\n",
      "Save output signals into checkpoint/baseline - GRU(bidirectional)/sample/0022.npy\n"
     ]
    },
    {
     "name": "stderr",
     "output_type": "stream",
     "text": [
      "[0023/0040] Train: 100%|█████████████████████████████| 174/174 [00:04<00:00, 42.60it/s, loss 0.0024]\n",
      "[0023/0040] Validation: 100%|████████████████████| 173/173 [00:01<00:00, 91.32it/s, val_loss 0.0021]\n",
      "[0024/0040] Train:   0%|                                                    | 0/174 [00:00<?, ?it/s]"
     ]
    },
    {
     "name": "stdout",
     "output_type": "stream",
     "text": [
      "val_loss is not improved for 1 epochs\n",
      "                  validation\n",
      " - Yaw          :   1.972011\n",
      " - Pitch        :   1.358171\n",
      " - Roll         :   0.783347\n",
      " - RMS          :   1.454543\n",
      " - 99% Tile     :  10.536977\n",
      "Save output signals into checkpoint/baseline - GRU(bidirectional)/sample/0023.npy\n"
     ]
    },
    {
     "name": "stderr",
     "output_type": "stream",
     "text": [
      "[0024/0040] Train: 100%|█████████████████████████████| 174/174 [00:04<00:00, 42.83it/s, loss 0.0024]\n",
      "[0024/0040] Validation: 100%|████████████████████| 173/173 [00:01<00:00, 90.56it/s, val_loss 0.0021]\n",
      "[0025/0040] Train:   0%|                                                    | 0/174 [00:00<?, ?it/s]"
     ]
    },
    {
     "name": "stdout",
     "output_type": "stream",
     "text": [
      "val_loss is not improved for 2 epochs\n",
      "                  validation\n",
      " - Yaw          :   1.834577\n",
      " - Pitch        :   1.199136\n",
      " - Roll         :   0.802774\n",
      " - RMS          :   1.347596\n",
      " - 99% Tile     :  10.646235\n",
      "Save output signals into checkpoint/baseline - GRU(bidirectional)/sample/0024.npy\n"
     ]
    },
    {
     "name": "stderr",
     "output_type": "stream",
     "text": [
      "[0025/0040] Train: 100%|█████████████████████████████| 174/174 [00:04<00:00, 42.84it/s, loss 0.0024]\n",
      "[0025/0040] Validation: 100%|████████████████████| 173/173 [00:01<00:00, 89.78it/s, val_loss 0.0020]\n",
      "[0026/0040] Train:   0%|                                                    | 0/174 [00:00<?, ?it/s]"
     ]
    },
    {
     "name": "stdout",
     "output_type": "stream",
     "text": [
      "                  validation\n",
      " - Yaw          :   1.823222\n",
      " - Pitch        :   1.133939\n",
      " - Roll         :   0.841115\n",
      " - RMS          :   1.331344\n",
      " - 99% Tile     :  10.560345\n",
      "Save output signals into checkpoint/baseline - GRU(bidirectional)/sample/0025.npy\n"
     ]
    },
    {
     "name": "stderr",
     "output_type": "stream",
     "text": [
      "[0026/0040] Train: 100%|█████████████████████████████| 174/174 [00:04<00:00, 42.23it/s, loss 0.0024]\n",
      "[0026/0040] Validation: 100%|████████████████████| 173/173 [00:01<00:00, 91.03it/s, val_loss 0.0020]\n",
      "[0027/0040] Train:   0%|                                                    | 0/174 [00:00<?, ?it/s]"
     ]
    },
    {
     "name": "stdout",
     "output_type": "stream",
     "text": [
      "                  validation\n",
      " - Yaw          :   1.865136\n",
      " - Pitch        :   1.135363\n",
      " - Roll         :   0.773314\n",
      " - RMS          :   1.337385\n",
      " - 99% Tile     :  10.490542\n",
      "Save output signals into checkpoint/baseline - GRU(bidirectional)/sample/0026.npy\n"
     ]
    },
    {
     "name": "stderr",
     "output_type": "stream",
     "text": [
      "[0027/0040] Train: 100%|█████████████████████████████| 174/174 [00:04<00:00, 43.16it/s, loss 0.0024]\n",
      "[0027/0040] Validation: 100%|████████████████████| 173/173 [00:01<00:00, 90.32it/s, val_loss 0.0020]\n",
      "[0028/0040] Train:   0%|                                                    | 0/174 [00:00<?, ?it/s]"
     ]
    },
    {
     "name": "stdout",
     "output_type": "stream",
     "text": [
      "val_loss is not improved for 1 epochs\n",
      "                  validation\n",
      " - Yaw          :   1.852921\n",
      " - Pitch        :   1.226022\n",
      " - Roll         :   0.765829\n",
      " - RMS          :   1.356827\n",
      " - 99% Tile     :  10.377177\n",
      "Save output signals into checkpoint/baseline - GRU(bidirectional)/sample/0027.npy\n"
     ]
    },
    {
     "name": "stderr",
     "output_type": "stream",
     "text": [
      "[0028/0040] Train: 100%|█████████████████████████████| 174/174 [00:04<00:00, 42.76it/s, loss 0.0024]\n",
      "[0028/0040] Validation: 100%|████████████████████| 173/173 [00:01<00:00, 91.18it/s, val_loss 0.0020]\n",
      "[0029/0040] Train:   0%|                                                    | 0/174 [00:00<?, ?it/s]"
     ]
    },
    {
     "name": "stdout",
     "output_type": "stream",
     "text": [
      "val_loss is not improved for 2 epochs\n",
      "                  validation\n",
      " - Yaw          :   1.986573\n",
      " - Pitch        :   1.122225\n",
      " - Roll         :   0.739536\n",
      " - RMS          :   1.384771\n",
      " - 99% Tile     :  10.503948\n",
      "Save output signals into checkpoint/baseline - GRU(bidirectional)/sample/0028.npy\n"
     ]
    },
    {
     "name": "stderr",
     "output_type": "stream",
     "text": [
      "[0029/0040] Train: 100%|█████████████████████████████| 174/174 [00:04<00:00, 42.62it/s, loss 0.0024]\n",
      "[0029/0040] Validation: 100%|████████████████████| 173/173 [00:01<00:00, 91.84it/s, val_loss 0.0020]\n",
      "[0030/0040] Train:   0%|                                                    | 0/174 [00:00<?, ?it/s]"
     ]
    },
    {
     "name": "stdout",
     "output_type": "stream",
     "text": [
      "                  validation\n",
      " - Yaw          :   1.894466\n",
      " - Pitch        :   1.116017\n",
      " - Roll         :   0.753679\n",
      " - RMS          :   1.341955\n",
      " - 99% Tile     :  10.395978\n",
      "Save output signals into checkpoint/baseline - GRU(bidirectional)/sample/0029.npy\n"
     ]
    },
    {
     "name": "stderr",
     "output_type": "stream",
     "text": [
      "[0030/0040] Train: 100%|█████████████████████████████| 174/174 [00:04<00:00, 42.95it/s, loss 0.0024]\n",
      "[0030/0040] Validation: 100%|████████████████████| 173/173 [00:01<00:00, 91.45it/s, val_loss 0.0020]\n",
      "[0031/0040] Train:   0%|                                                    | 0/174 [00:00<?, ?it/s]"
     ]
    },
    {
     "name": "stdout",
     "output_type": "stream",
     "text": [
      "val_loss is not improved for 1 epochs\n",
      "                  validation\n",
      " - Yaw          :   1.986118\n",
      " - Pitch        :   1.170856\n",
      " - Roll         :   0.748050\n",
      " - RMS          :   1.399422\n",
      " - 99% Tile     :  10.408393\n",
      "Save output signals into checkpoint/baseline - GRU(bidirectional)/sample/0030.npy\n"
     ]
    },
    {
     "name": "stderr",
     "output_type": "stream",
     "text": [
      "[0031/0040] Train: 100%|█████████████████████████████| 174/174 [00:04<00:00, 42.61it/s, loss 0.0024]\n",
      "[0031/0040] Validation: 100%|████████████████████| 173/173 [00:01<00:00, 90.56it/s, val_loss 0.0020]\n",
      "[0032/0040] Train:   0%|                                                    | 0/174 [00:00<?, ?it/s]"
     ]
    },
    {
     "name": "stdout",
     "output_type": "stream",
     "text": [
      "val_loss is not improved for 2 epochs\n",
      "                  validation\n",
      " - Yaw          :   2.012871\n",
      " - Pitch        :   1.173228\n",
      " - Roll         :   0.782729\n",
      " - RMS          :   1.419011\n",
      " - 99% Tile     :  10.338912\n",
      "Save output signals into checkpoint/baseline - GRU(bidirectional)/sample/0031.npy\n"
     ]
    },
    {
     "name": "stderr",
     "output_type": "stream",
     "text": [
      "[0032/0040] Train: 100%|█████████████████████████████| 174/174 [00:04<00:00, 42.72it/s, loss 0.0024]\n",
      "[0032/0040] Validation: 100%|████████████████████| 173/173 [00:01<00:00, 90.36it/s, val_loss 0.0021]\n",
      "[0033/0040] Train:   0%|                                                    | 0/174 [00:00<?, ?it/s]"
     ]
    },
    {
     "name": "stdout",
     "output_type": "stream",
     "text": [
      "val_loss is not improved for 3 epochs\n",
      "                  validation\n",
      " - Yaw          :   1.984056\n",
      " - Pitch        :   1.164682\n",
      " - Roll         :   0.937745\n",
      " - RMS          :   1.434379\n",
      " - 99% Tile     :  10.503561\n",
      "Save output signals into checkpoint/baseline - GRU(bidirectional)/sample/0032.npy\n"
     ]
    },
    {
     "name": "stderr",
     "output_type": "stream",
     "text": [
      "[0033/0040] Train: 100%|█████████████████████████████| 174/174 [00:04<00:00, 42.52it/s, loss 0.0023]\n",
      "[0033/0040] Validation: 100%|████████████████████| 173/173 [00:01<00:00, 89.81it/s, val_loss 0.0020]\n",
      "[0034/0040] Train:   0%|                                                    | 0/174 [00:00<?, ?it/s]"
     ]
    },
    {
     "name": "stdout",
     "output_type": "stream",
     "text": [
      "                  validation\n",
      " - Yaw          :   1.826645\n",
      " - Pitch        :   1.090247\n",
      " - Roll         :   0.750302\n",
      " - RMS          :   1.302334\n",
      " - 99% Tile     :  10.391549\n",
      "Save output signals into checkpoint/baseline - GRU(bidirectional)/sample/0033.npy\n"
     ]
    },
    {
     "name": "stderr",
     "output_type": "stream",
     "text": [
      "[0034/0040] Train: 100%|█████████████████████████████| 174/174 [00:04<00:00, 42.64it/s, loss 0.0023]\n",
      "[0034/0040] Validation: 100%|████████████████████| 173/173 [00:01<00:00, 91.04it/s, val_loss 0.0020]\n",
      "[0035/0040] Train:   0%|                                                    | 0/174 [00:00<?, ?it/s]"
     ]
    },
    {
     "name": "stdout",
     "output_type": "stream",
     "text": [
      "val_loss is not improved for 1 epochs\n",
      "                  validation\n",
      " - Yaw          :   1.822078\n",
      " - Pitch        :   1.138693\n",
      " - Roll         :   0.729880\n",
      " - RMS          :   1.310129\n",
      " - 99% Tile     :  10.334034\n",
      "Save output signals into checkpoint/baseline - GRU(bidirectional)/sample/0034.npy\n"
     ]
    },
    {
     "name": "stderr",
     "output_type": "stream",
     "text": [
      "[0035/0040] Train: 100%|█████████████████████████████| 174/174 [00:04<00:00, 42.91it/s, loss 0.0023]\n",
      "[0035/0040] Validation: 100%|████████████████████| 173/173 [00:01<00:00, 90.67it/s, val_loss 0.0020]\n",
      "[0036/0040] Train:   0%|                                                    | 0/174 [00:00<?, ?it/s]"
     ]
    },
    {
     "name": "stdout",
     "output_type": "stream",
     "text": [
      "val_loss is not improved for 2 epochs\n",
      "                  validation\n",
      " - Yaw          :   1.856878\n",
      " - Pitch        :   1.188383\n",
      " - Roll         :   0.716727\n",
      " - RMS          :   1.338401\n",
      " - 99% Tile     :  10.301216\n",
      "Save output signals into checkpoint/baseline - GRU(bidirectional)/sample/0035.npy\n"
     ]
    },
    {
     "name": "stderr",
     "output_type": "stream",
     "text": [
      "[0036/0040] Train: 100%|█████████████████████████████| 174/174 [00:04<00:00, 42.68it/s, loss 0.0023]\n",
      "[0036/0040] Validation: 100%|████████████████████| 173/173 [00:01<00:00, 90.54it/s, val_loss 0.0019]\n",
      "[0037/0040] Train:   0%|                                                    | 0/174 [00:00<?, ?it/s]"
     ]
    },
    {
     "name": "stdout",
     "output_type": "stream",
     "text": [
      "                  validation\n",
      " - Yaw          :   1.824606\n",
      " - Pitch        :   1.097556\n",
      " - Roll         :   0.740802\n",
      " - RMS          :   1.301615\n",
      " - 99% Tile     :  10.306193\n",
      "Save output signals into checkpoint/baseline - GRU(bidirectional)/sample/0036.npy\n"
     ]
    },
    {
     "name": "stderr",
     "output_type": "stream",
     "text": [
      "[0037/0040] Train: 100%|█████████████████████████████| 174/174 [00:04<00:00, 42.30it/s, loss 0.0023]\n",
      "[0037/0040] Validation: 100%|████████████████████| 173/173 [00:01<00:00, 89.68it/s, val_loss 0.0019]\n",
      "[0038/0040] Train:   0%|                                                    | 0/174 [00:00<?, ?it/s]"
     ]
    },
    {
     "name": "stdout",
     "output_type": "stream",
     "text": [
      "val_loss is not improved for 1 epochs\n",
      "                  validation\n",
      " - Yaw          :   1.835901\n",
      " - Pitch        :   1.146794\n",
      " - Roll         :   0.755308\n",
      " - RMS          :   1.323652\n",
      " - 99% Tile     :  10.324265\n",
      "Save output signals into checkpoint/baseline - GRU(bidirectional)/sample/0037.npy\n"
     ]
    },
    {
     "name": "stderr",
     "output_type": "stream",
     "text": [
      "[0038/0040] Train: 100%|█████████████████████████████| 174/174 [00:04<00:00, 42.73it/s, loss 0.0023]\n",
      "[0038/0040] Validation: 100%|████████████████████| 173/173 [00:01<00:00, 90.81it/s, val_loss 0.0020]\n",
      "[0039/0040] Train:   0%|                                                    | 0/174 [00:00<?, ?it/s]"
     ]
    },
    {
     "name": "stdout",
     "output_type": "stream",
     "text": [
      "val_loss is not improved for 2 epochs\n",
      "                  validation\n",
      " - Yaw          :   1.934916\n",
      " - Pitch        :   1.191091\n",
      " - Roll         :   0.763790\n",
      " - RMS          :   1.383952\n",
      " - 99% Tile     :  10.355839\n",
      "Save output signals into checkpoint/baseline - GRU(bidirectional)/sample/0038.npy\n"
     ]
    },
    {
     "name": "stderr",
     "output_type": "stream",
     "text": [
      "[0039/0040] Train: 100%|█████████████████████████████| 174/174 [00:04<00:00, 42.52it/s, loss 0.0023]\n",
      "[0039/0040] Validation: 100%|████████████████████| 173/173 [00:01<00:00, 90.33it/s, val_loss 0.0022]\n",
      "[0040/0040] Train:   0%|                                                    | 0/174 [00:00<?, ?it/s]"
     ]
    },
    {
     "name": "stdout",
     "output_type": "stream",
     "text": [
      "val_loss is not improved for 3 epochs\n",
      "                  validation\n",
      " - Yaw          :   2.554371\n",
      " - Pitch        :   1.214011\n",
      " - Roll         :   0.735973\n",
      " - RMS          :   1.687236\n",
      " - 99% Tile     :  10.342614\n",
      "Save output signals into checkpoint/baseline - GRU(bidirectional)/sample/0039.npy\n"
     ]
    },
    {
     "name": "stderr",
     "output_type": "stream",
     "text": [
      "[0040/0040] Train: 100%|█████████████████████████████| 174/174 [00:04<00:00, 43.07it/s, loss 0.0023]\n",
      "[0040/0040] Validation: 100%|████████████████████| 173/173 [00:01<00:00, 91.36it/s, val_loss 0.0021]"
     ]
    },
    {
     "name": "stdout",
     "output_type": "stream",
     "text": [
      "val_loss is not improved for 4 epochs\n",
      "                  validation\n",
      " - Yaw          :   2.093798\n",
      " - Pitch        :   1.101526\n",
      " - Roll         :   0.703276\n",
      " - RMS          :   1.425008\n",
      " - 99% Tile     :  10.483356\n",
      "Save output signals into checkpoint/baseline - GRU(bidirectional)/sample/0040.npy\n"
     ]
    },
    {
     "name": "stderr",
     "output_type": "stream",
     "text": [
      "\n"
     ]
    }
   ],
   "source": [
    "trainer.fit(train_ds, test_ds, num_epochs=NUM_EPOCHS, batch_size=BATCH_SIZE)"
   ]
  },
  {
   "cell_type": "code",
   "execution_count": null,
   "metadata": {},
   "outputs": [],
   "source": []
  },
  {
   "cell_type": "code",
   "execution_count": null,
   "metadata": {},
   "outputs": [],
   "source": []
  },
  {
   "cell_type": "code",
   "execution_count": null,
   "metadata": {},
   "outputs": [],
   "source": []
  },
  {
   "cell_type": "code",
   "execution_count": null,
   "metadata": {},
   "outputs": [],
   "source": []
  },
  {
   "cell_type": "code",
   "execution_count": null,
   "metadata": {},
   "outputs": [],
   "source": []
  },
  {
   "cell_type": "code",
   "execution_count": null,
   "metadata": {},
   "outputs": [],
   "source": []
  },
  {
   "cell_type": "code",
   "execution_count": null,
   "metadata": {},
   "outputs": [],
   "source": []
  },
  {
   "cell_type": "code",
   "execution_count": null,
   "metadata": {},
   "outputs": [],
   "source": []
  }
 ],
 "metadata": {
  "kernelspec": {
   "display_name": "torch",
   "language": "python",
   "name": "torch"
  },
  "language_info": {
   "codemirror_mode": {
    "name": "ipython",
    "version": 3
   },
   "file_extension": ".py",
   "mimetype": "text/x-python",
   "name": "python",
   "nbconvert_exporter": "python",
   "pygments_lexer": "ipython3",
   "version": "3.8.5"
  }
 },
 "nbformat": 4,
 "nbformat_minor": 4
}
