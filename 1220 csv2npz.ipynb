{
 "cells": [
  {
   "cell_type": "code",
   "execution_count": 1,
   "metadata": {},
   "outputs": [],
   "source": [
    "from pathlib import Path\n",
    "from torch.utils.data import Dataset\n",
    "import numpy as np\n",
    "import pandas as pd"
   ]
  },
  {
   "cell_type": "code",
   "execution_count": 2,
   "metadata": {},
   "outputs": [],
   "source": [
    "XCOLS = ['input_orientation_yaw', 'input_orientation_pitch', 'input_orientation_roll',\n",
    "         'acceleration_x', 'acceleration_y', 'acceleration_z', \n",
    "         'input_orientation_x', 'input_orientation_y', 'input_orientation_z', 'input_orientation_w',\n",
    "         'magnetic_x', 'magnetic_y', 'magnetic_z',\n",
    "         'angular_vec_x', 'angular_vec_y', 'angular_vec_z']\n",
    "YCOLS = ['input_orientation_yaw', 'input_orientation_pitch', 'input_orientation_roll']"
   ]
  },
  {
   "cell_type": "code",
   "execution_count": 3,
   "metadata": {},
   "outputs": [],
   "source": [
    "train_files = sorted(list(Path('data/1220').glob('*scene3_0.csv')))\n",
    "test_files = sorted(list(Path('data/1220').glob('*scene3_1.csv')))"
   ]
  },
  {
   "cell_type": "code",
   "execution_count": 4,
   "metadata": {},
   "outputs": [],
   "source": [
    "window_size = 120\n",
    "stride = 1"
   ]
  },
  {
   "cell_type": "markdown",
   "metadata": {},
   "source": [
    "# Make Train Dataset"
   ]
  },
  {
   "cell_type": "code",
   "execution_count": 6,
   "metadata": {},
   "outputs": [
    {
     "name": "stdout",
     "output_type": "stream",
     "text": [
      "data/1220/user1_scene3_0.csv\n",
      "data/1220/user2_scene3_0.csv\n",
      "data/1220/user3_scene3_0.csv\n",
      "data/1220/user4_scene3_0.csv\n",
      "data/1220/user5_scene3_0.csv\n",
      "data/1220/user6_scene3_0.csv\n",
      "data/1220/user7_scene3_0.csv\n"
     ]
    }
   ],
   "source": [
    "X_train = []\n",
    "Y_train = []\n",
    "for f in train_files:\n",
    "    print(f)\n",
    "    csv = pd.read_csv(f)\n",
    "    i = 0\n",
    "    while i <= len(csv) - window_size * 2:\n",
    "        X_train.append(csv.iloc[i:i + window_size][XCOLS].to_numpy())\n",
    "        Y_train.append(csv.iloc[i + window_size + 18][YCOLS].to_numpy())\n",
    "        i += stride"
   ]
  },
  {
   "cell_type": "code",
   "execution_count": 7,
   "metadata": {},
   "outputs": [],
   "source": [
    "np.savez_compressed(f'data/1220/train-win_{window_size}.npz', X=X_train, Y=Y_train)"
   ]
  },
  {
   "cell_type": "code",
   "execution_count": 8,
   "metadata": {},
   "outputs": [
    {
     "data": {
      "text/plain": [
       "(3,)"
      ]
     },
     "execution_count": 8,
     "metadata": {},
     "output_type": "execute_result"
    }
   ],
   "source": [
    "Y_train[2].shape"
   ]
  },
  {
   "cell_type": "code",
   "execution_count": 12,
   "metadata": {},
   "outputs": [
    {
     "data": {
      "text/plain": [
       "(120, 16)"
      ]
     },
     "execution_count": 12,
     "metadata": {},
     "output_type": "execute_result"
    }
   ],
   "source": [
    "X_train[0].shape"
   ]
  },
  {
   "cell_type": "markdown",
   "metadata": {},
   "source": [
    "# Make Test Dataset"
   ]
  },
  {
   "cell_type": "code",
   "execution_count": 9,
   "metadata": {},
   "outputs": [
    {
     "name": "stdout",
     "output_type": "stream",
     "text": [
      "data/1220/user1_scene3_1.csv\n",
      "data/1220/user2_scene3_1.csv\n",
      "data/1220/user3_scene3_1.csv\n",
      "data/1220/user4_scene3_1.csv\n",
      "data/1220/user5_scene3_1.csv\n",
      "data/1220/user6_scene3_1.csv\n",
      "data/1220/user7_scene3_1.csv\n"
     ]
    }
   ],
   "source": [
    "X_train = []\n",
    "Y_train = []\n",
    "for f in test_files:\n",
    "    print(f)\n",
    "    csv = pd.read_csv(f)\n",
    "    i = 0\n",
    "    while i <= len(csv) - window_size * 2:\n",
    "        X_train.append(csv.iloc[i:i + window_size][XCOLS].to_numpy())\n",
    "        Y_train.append(csv.iloc[i + window_size + 18][YCOLS].to_numpy())\n",
    "        i += stride"
   ]
  },
  {
   "cell_type": "code",
   "execution_count": 10,
   "metadata": {},
   "outputs": [],
   "source": [
    "np.savez_compressed(f'data/1220/test-win_{window_size}.npz', X=X_train, Y=Y_train)"
   ]
  },
  {
   "cell_type": "code",
   "execution_count": 11,
   "metadata": {},
   "outputs": [
    {
     "data": {
      "text/plain": [
       "(120, 16)"
      ]
     },
     "execution_count": 11,
     "metadata": {},
     "output_type": "execute_result"
    }
   ],
   "source": [
    "X_train[0].shape"
   ]
  },
  {
   "cell_type": "code",
   "execution_count": null,
   "metadata": {},
   "outputs": [],
   "source": []
  }
 ],
 "metadata": {
  "kernelspec": {
   "display_name": "torch",
   "language": "python",
   "name": "torch"
  },
  "language_info": {
   "codemirror_mode": {
    "name": "ipython",
    "version": 3
   },
   "file_extension": ".py",
   "mimetype": "text/x-python",
   "name": "python",
   "nbconvert_exporter": "python",
   "pygments_lexer": "ipython3",
   "version": "3.7.9"
  }
 },
 "nbformat": 4,
 "nbformat_minor": 4
}
