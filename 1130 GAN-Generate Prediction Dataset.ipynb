{
 "cells": [
  {
   "cell_type": "markdown",
   "metadata": {},
   "source": [
    "# 목표\n",
    "\n",
    "Conv based로 D 모델만 학습이 가능한지 확인.\n",
    "\n",
    "1. 가상의 G 모델(CLSTMC, pretrained)로 testset에 대해 prediction들을 생성\n",
    "2. 생성한 데이터를 npy 파일로 저장\n",
    "3. D 모델에서 가짜와 진짜 데이터를 구분이 가능한지(예측 데이터와 실제 데이터에 실제로 차이가 있는지) 를 확인한다."
   ]
  },
  {
   "cell_type": "code",
   "execution_count": 1,
   "metadata": {},
   "outputs": [],
   "source": [
    "from multiprocessing import cpu_count\n",
    "from pathlib import Path\n",
    "from typing import List, Union, AnyStr\n",
    "from math import pi\n",
    "import pickle\n",
    "\n",
    "import numpy as np\n",
    "import torch\n",
    "import matplotlib.pyplot as plt\n",
    "import torch.nn as nn\n",
    "from sklearn import model_selection\n",
    "from tqdm import tqdm\n",
    "import torch_optimizer\n",
    "from torch.utils.data import Dataset, DataLoader\n",
    "import pandas as pd\n",
    "import random\n",
    "\n",
    "import torch_burn as tb\n",
    "import utils"
   ]
  },
  {
   "cell_type": "code",
   "execution_count": 2,
   "metadata": {},
   "outputs": [],
   "source": [
    "tb.seed_everything(0)"
   ]
  },
  {
   "cell_type": "code",
   "execution_count": 3,
   "metadata": {},
   "outputs": [],
   "source": [
    "DATA_DIR = Path('data/1116')\n",
    "TEST_FILES = sorted(list(DATA_DIR.glob('*scene3_1.csv')))"
   ]
  },
  {
   "cell_type": "markdown",
   "metadata": {},
   "source": [
    "# 데이터셋 생성\n",
    "\n",
    "scene1에 대해서 모든 user의 데이터를 하나로 합친다."
   ]
  },
  {
   "cell_type": "code",
   "execution_count": 4,
   "metadata": {},
   "outputs": [],
   "source": [
    "WINDOW_SIZE = 120"
   ]
  },
  {
   "cell_type": "code",
   "execution_count": 5,
   "metadata": {},
   "outputs": [],
   "source": [
    "class CSVSequentialDataset(Dataset):\n",
    "    def __init__(self, csvfile, window_size, stride):\n",
    "        super(CSVSequentialDataset, self).__init__()\n",
    "\n",
    "        self.xcols = ['input_orientation_yaw', 'input_orientation_pitch', 'input_orientation_roll',\n",
    "                      'acceleration_x', 'acceleration_y', 'acceleration_z']\n",
    "        self.ycols = ['input_orientation_yaw', 'input_orientation_pitch', 'input_orientation_roll']\n",
    "\n",
    "        self.csv = pd.read_csv(csvfile)\n",
    "        self.window_size = window_size\n",
    "        \n",
    "        self.indexes = []\n",
    "        i = 0\n",
    "        while i <= len(self.csv) - window_size * 2:\n",
    "            self.indexes.append((i, i + window_size))\n",
    "            i += stride\n",
    "\n",
    "    def __len__(self):\n",
    "        return len(self.indexes)\n",
    "\n",
    "    def __getitem__(self, idx):\n",
    "        sx, tx = self.indexes[idx]\n",
    "        sy, ty = sx + 18, tx + 18\n",
    "        x = self.csv.iloc[sx:tx][self.xcols].to_numpy()\n",
    "        y = self.csv.iloc[sy:ty][self.ycols].to_numpy()\n",
    "\n",
    "        x = torch.tensor(x, dtype=torch.float32) # 300, 6\n",
    "        y = torch.tensor(y, dtype=torch.float32) # 300, 3\n",
    "\n",
    "        return x, y"
   ]
  },
  {
   "cell_type": "code",
   "execution_count": 6,
   "metadata": {},
   "outputs": [
    {
     "name": "stdout",
     "output_type": "stream",
     "text": [
      "10671\n",
      "torch.Size([120, 6]) torch.Size([120, 3])\n"
     ]
    }
   ],
   "source": [
    "ds_test = [CSVSequentialDataset(f, window_size=WINDOW_SIZE, stride=5) for f in TEST_FILES]\n",
    "ds_test = tb.data.ChainDataset(*ds_test)\n",
    "\n",
    "print(len(ds_test))\n",
    "print(ds_test[0][0].shape, ds_test[0][1].shape)"
   ]
  },
  {
   "cell_type": "code",
   "execution_count": 7,
   "metadata": {},
   "outputs": [
    {
     "name": "stdout",
     "output_type": "stream",
     "text": [
      "torch.Size([120, 6]) torch.Size([120, 3])\n"
     ]
    },
    {
     "data": {
      "image/png": "[encoded data removed]",
      "text/plain": [
       "<Figure size 432x288 with 1 Axes>"
      ]
     },
     "metadata": {
      "needs_background": "light"
     },
     "output_type": "display_data"
    }
   ],
   "source": [
    "x, y = ds_test[0]\n",
    "print(x.shape, y.shape)\n",
    "plt.plot(x[:, 2])\n",
    "plt.plot(y[:, 2])\n",
    "plt.legend(['x', 'y'])\n",
    "plt.tight_layout()\n",
    "plt.show()"
   ]
  },
  {
   "cell_type": "markdown",
   "metadata": {},
   "source": [
    "앞의 900ms 동안은 동일하고, 뒤의 300ms동안만 예측하면 된다."
   ]
  },
  {
   "cell_type": "markdown",
   "metadata": {},
   "source": [
    "# 모델 생성"
   ]
  },
  {
   "cell_type": "code",
   "execution_count": 8,
   "metadata": {},
   "outputs": [],
   "source": [
    "class ResBlock1d(nn.Module):\n",
    "    def __init__(self, inchannels, channels, kernel_size):\n",
    "        super(ResBlock1d, self).__init__()\n",
    "\n",
    "        self.conv1 = nn.Sequential(\n",
    "            nn.Conv1d(inchannels, channels, kernel_size, padding=kernel_size // 2),\n",
    "            nn.BatchNorm1d(channels),\n",
    "            nn.LeakyReLU(),\n",
    "            nn.Conv1d(channels, channels, kernel_size, padding=kernel_size // 2),\n",
    "            nn.BatchNorm1d(channels)\n",
    "        )\n",
    "        self.conv2 = nn.Sequential(\n",
    "            nn.Conv1d(inchannels, channels, 1),\n",
    "            nn.BatchNorm1d(channels)\n",
    "        )\n",
    "        self.act = nn.LeakyReLU()\n",
    "\n",
    "    def forward(self, x):\n",
    "        identity = x\n",
    "\n",
    "        x = self.conv1(x)\n",
    "        identity = self.conv2(identity)\n",
    "        x += identity\n",
    "        x = self.act(x)\n",
    "\n",
    "        return x"
   ]
  },
  {
   "cell_type": "code",
   "execution_count": 9,
   "metadata": {},
   "outputs": [],
   "source": [
    "class CLSTMC(nn.Module):\n",
    "    def __init__(self):\n",
    "        super(CLSTMC, self).__init__()\n",
    "\n",
    "        self.conv_in = nn.Sequential(\n",
    "            nn.Conv1d(6, 24, 3, padding=1, groups=2),\n",
    "            nn.BatchNorm1d(24),\n",
    "            nn.LeakyReLU(),\n",
    "            nn.Conv1d(24, 48, 3, padding=1, groups=2),\n",
    "            nn.BatchNorm1d(48),\n",
    "            nn.LeakyReLU(),\n",
    "            nn.Conv1d(48, 64, 3, padding=1),\n",
    "            nn.BatchNorm1d(64),\n",
    "        )\n",
    "\n",
    "        self.rnn = nn.LSTM(input_size=64,\n",
    "                           hidden_size=64,\n",
    "                           num_layers=6,\n",
    "                           batch_first=True,\n",
    "                           dropout=0,\n",
    "                           bidirectional=True)\n",
    "\n",
    "        self.conv_out = nn.Sequential(\n",
    "            ResBlock1d(128, 64, 3),\n",
    "            nn.Conv1d(64, 3, 1)\n",
    "        )\n",
    "\n",
    "    def forward(self, x):\n",
    "        x = x.transpose(1, 2)  # B, S, 6 --> B, 6, S\n",
    "        x = self.conv_in(x)  # B, 6, S\n",
    "        x = x.transpose(1, 2)  # B, S, 6\n",
    "\n",
    "        outs, (hiddens, cells) = self.rnn(x)  # B, S, 128\n",
    "        x = outs.transpose(1, 2)  # B, 128, S\n",
    "        x = self.conv_out(x) # (B, 3, S)\n",
    "        x = x.transpose(1, 2) # (B, S, 3)\n",
    "\n",
    "        return x"
   ]
  },
  {
   "cell_type": "code",
   "execution_count": 10,
   "metadata": {},
   "outputs": [],
   "source": [
    "model = CLSTMC().cuda().eval()"
   ]
  },
  {
   "cell_type": "code",
   "execution_count": 11,
   "metadata": {},
   "outputs": [
    {
     "data": {
      "text/plain": [
       "<torch.autograd.grad_mode.set_grad_enabled at 0x7fc1cbf6dbd0>"
      ]
     },
     "execution_count": 11,
     "metadata": {},
     "output_type": "execute_result"
    }
   ],
   "source": [
    "torch.set_grad_enabled(False)"
   ]
  },
  {
   "cell_type": "markdown",
   "metadata": {},
   "source": [
    "# Prediction"
   ]
  },
  {
   "cell_type": "code",
   "execution_count": 12,
   "metadata": {},
   "outputs": [],
   "source": [
    "dl = DataLoader(ds_test, num_workers=16, shuffle=False, batch_size=1024)"
   ]
  },
  {
   "cell_type": "code",
   "execution_count": 13,
   "metadata": {},
   "outputs": [
    {
     "name": "stderr",
     "output_type": "stream",
     "text": [
      "100%|███████████████████████████████████████████████████████████████| 11/11 [00:01<00:00,  5.96it/s]\n"
     ]
    }
   ],
   "source": [
    "preds = []\n",
    "targets = []\n",
    "inputs = []\n",
    "for x, y in tqdm(dl, ncols=100, position=0):\n",
    "    pred = model(x.cuda()).cpu()\n",
    "    preds.append(pred)\n",
    "    \n",
    "    inputs.append(x)\n",
    "    targets.append(y)"
   ]
  },
  {
   "cell_type": "code",
   "execution_count": 14,
   "metadata": {},
   "outputs": [
    {
     "data": {
      "text/plain": [
       "(torch.Size([10671, 120, 3]),\n",
       " torch.Size([10671, 120, 6]),\n",
       " torch.Size([10671, 120, 3]))"
      ]
     },
     "execution_count": 14,
     "metadata": {},
     "output_type": "execute_result"
    }
   ],
   "source": [
    "pred = torch.cat(preds)\n",
    "Y = torch.cat(targets)\n",
    "X = torch.cat(inputs)\n",
    "pred.shape, X.shape, Y.shape"
   ]
  },
  {
   "cell_type": "code",
   "execution_count": 15,
   "metadata": {},
   "outputs": [],
   "source": [
    "Path('data/1130').mkdir(parents=True, exist_ok=True)"
   ]
  },
  {
   "cell_type": "code",
   "execution_count": 16,
   "metadata": {},
   "outputs": [],
   "source": [
    "np.save('data/1130/X.npy', X.numpy())\n",
    "np.save('data/1130/Y.npy', Y.numpy())\n",
    "np.save('data/1130/pred.npy', pred.numpy())"
   ]
  },
  {
   "cell_type": "code",
   "execution_count": null,
   "metadata": {},
   "outputs": [],
   "source": []
  }
 ],
 "metadata": {
  "kernelspec": {
   "display_name": "torch",
   "language": "python",
   "name": "torch"
  },
  "language_info": {
   "codemirror_mode": {
    "name": "ipython",
    "version": 3
   },
   "file_extension": ".py",
   "mimetype": "text/x-python",
   "name": "python",
   "nbconvert_exporter": "python",
   "pygments_lexer": "ipython3",
   "version": "3.7.9"
  }
 },
 "nbformat": 4,
 "nbformat_minor": 4
}
