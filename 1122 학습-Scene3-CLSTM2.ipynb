{
 "cells": [
  {
   "cell_type": "markdown",
   "metadata": {},
   "source": [
    "# 학습 결과\n",
    "\n",
    "user1의 scene 1~3만 사용해서 학습\n",
    "\n",
    "scene보다 user가 많기 때문에 데이터의 양이 확연히 줄어듬에도 불구하고 성능이 괜찮음.  \n",
    "적은 데이터 특화됐기 때문인지는 모르겠다.\n",
    "\n",
    "나머지 scene에 대해서도 잘 학습을 하면서 user에 대해서도 특화된다면 성능을 상당히 끌어올릴 수 있을 것으로 기대됨.  \n",
    "--> curriculum learning"
   ]
  },
  {
   "cell_type": "code",
   "execution_count": 1,
   "metadata": {},
   "outputs": [],
   "source": [
    "from multiprocessing import cpu_count\n",
    "from pathlib import Path\n",
    "from typing import List, Union, AnyStr\n",
    "from math import pi\n",
    "import pickle\n",
    "\n",
    "import numpy as np\n",
    "import torch\n",
    "import matplotlib.pyplot as plt\n",
    "import torch.nn as nn\n",
    "from sklearn import model_selection\n",
    "from tqdm import tqdm\n",
    "import torch_optimizer\n",
    "from torch.utils.data import Dataset\n",
    "import pandas as pd\n",
    "import random\n",
    "\n",
    "import torch_burn as tb\n",
    "import utils"
   ]
  },
  {
   "cell_type": "code",
   "execution_count": 2,
   "metadata": {},
   "outputs": [],
   "source": [
    "EXPERIMENT_NAME = '1122-Scene3-CLSTM2-win48'\n",
    "CHECKPOINT_DIR = Path('checkpoint', EXPERIMENT_NAME)\n",
    "CHECKPOINT_DIR.mkdir(parents=True, exist_ok=True)\n",
    "\n",
    "DATA_DIR = Path('data/1116')\n",
    "TRAIN_FILES = sorted(list(DATA_DIR.glob('*scene3_0.csv')))\n",
    "TEST_FILES = sorted(list(DATA_DIR.glob('*scene3_1.csv')))"
   ]
  },
  {
   "cell_type": "markdown",
   "metadata": {},
   "source": [
    "# 데이터셋 생성\n",
    "\n",
    "scene1에 대해서 모든 user의 데이터를 하나로 합친다."
   ]
  },
  {
   "cell_type": "code",
   "execution_count": 3,
   "metadata": {},
   "outputs": [],
   "source": [
    "WINDOW_SIZE = 48"
   ]
  },
  {
   "cell_type": "code",
   "execution_count": 4,
   "metadata": {},
   "outputs": [],
   "source": [
    "class CSVSequentialDataset(Dataset):\n",
    "    def __init__(self, csvfile,\n",
    "                 window_size=300, randomized_window_size=False,\n",
    "                 stride=30, randomized_stride=False):\n",
    "        super(CSVSequentialDataset, self).__init__()\n",
    "\n",
    "        self.xcols = ['input_orientation_yaw', 'input_orientation_pitch', 'input_orientation_roll',\n",
    "                      'acceleration_x', 'acceleration_y', 'acceleration_z']\n",
    "        self.ycols = ['input_orientation_yaw', 'input_orientation_pitch', 'input_orientation_roll']\n",
    "\n",
    "        self.csv = pd.read_csv(csvfile)\n",
    "        self.window_size = window_size\n",
    "\n",
    "        self.indexes = []\n",
    "        i = 0\n",
    "        while i <= len(self.csv) - window_size * 2:\n",
    "            if randomized_window_size:\n",
    "                self.indexes.append((i, i + random.randint(window_size // 2, window_size)))\n",
    "            else:\n",
    "                self.indexes.append((i, i + window_size))\n",
    "\n",
    "            if randomized_stride:\n",
    "                i += random.randint(1, stride)\n",
    "            else:\n",
    "                i += stride\n",
    "\n",
    "    def __len__(self):\n",
    "        return len(self.indexes)\n",
    "\n",
    "    def __getitem__(self, idx):\n",
    "        s, t = self.indexes[idx]\n",
    "        x = self.csv.iloc[s:t][self.xcols].to_numpy()\n",
    "        y = self.csv.iloc[t + 6][self.ycols].to_numpy()\n",
    "\n",
    "        x = torch.tensor(x, dtype=torch.float32) # 300, 6\n",
    "        y = torch.tensor(y, dtype=torch.float32) # 3\n",
    "        \n",
    "        #x[:, :3] *= pi / 180\n",
    "        x[:, 3:] /= 10\n",
    "\n",
    "        return x, y"
   ]
  },
  {
   "cell_type": "code",
   "execution_count": 5,
   "metadata": {},
   "outputs": [],
   "source": [
    "ds_train = [CSVSequentialDataset(f,  \n",
    "                                 window_size=WINDOW_SIZE, randomized_window_size=False,\n",
    "                                 stride=5, randomized_stride=True) for f in TRAIN_FILES]\n",
    "ds_train = tb.data.ChainDataset(*ds_train)\n",
    "ds_test = [CSVSequentialDataset(f,  \n",
    "                                window_size=WINDOW_SIZE, randomized_window_size=False,\n",
    "                                stride=5, randomized_stride=True) for f in TEST_FILES]\n",
    "ds_test = tb.data.ChainDataset(*ds_test)"
   ]
  },
  {
   "cell_type": "code",
   "execution_count": 6,
   "metadata": {},
   "outputs": [
    {
     "data": {
      "text/plain": [
       "(18733, 18174)"
      ]
     },
     "execution_count": 6,
     "metadata": {},
     "output_type": "execute_result"
    }
   ],
   "source": [
    "len(ds_train), len(ds_test)"
   ]
  },
  {
   "cell_type": "code",
   "execution_count": 7,
   "metadata": {},
   "outputs": [
    {
     "data": {
      "text/plain": [
       "(torch.Size([48, 6]), torch.Size([3]))"
      ]
     },
     "execution_count": 7,
     "metadata": {},
     "output_type": "execute_result"
    }
   ],
   "source": [
    "ds_train[0][0].shape, ds_train[0][1].shape"
   ]
  },
  {
   "cell_type": "code",
   "execution_count": 8,
   "metadata": {},
   "outputs": [],
   "source": [
    "x, y = ds_train[0]"
   ]
  },
  {
   "cell_type": "code",
   "execution_count": 9,
   "metadata": {},
   "outputs": [
    {
     "data": {
      "text/plain": [
       "torch.Size([48, 6])"
      ]
     },
     "execution_count": 9,
     "metadata": {},
     "output_type": "execute_result"
    }
   ],
   "source": [
    "x.shape"
   ]
  },
  {
   "cell_type": "code",
   "execution_count": 10,
   "metadata": {},
   "outputs": [
    {
     "data": {
      "text/plain": [
       "[<matplotlib.lines.Line2D at 0x7fbe5cd972d0>]"
      ]
     },
     "execution_count": 10,
     "metadata": {},
     "output_type": "execute_result"
    },
    {
     "data": {
      "image/png": "[encoded data removed]",
      "text/plain": [
       "<Figure size 432x288 with 1 Axes>"
      ]
     },
     "metadata": {
      "needs_background": "light"
     },
     "output_type": "display_data"
    }
   ],
   "source": [
    "plt.plot(x[:, 2])"
   ]
  },
  {
   "cell_type": "markdown",
   "metadata": {},
   "source": [
    "# 모델 생성"
   ]
  },
  {
   "cell_type": "code",
   "execution_count": 11,
   "metadata": {},
   "outputs": [],
   "source": [
    "class CLSTM(nn.Module):\n",
    "    def __init__(self, input_size=6, hidden_size=24, num_layers=8, dropout=0.0, bidirectional=False):\n",
    "        super(CLSTM, self).__init__()\n",
    "\n",
    "        self.conv_in = nn.Sequential(\n",
    "            nn.Conv1d(input_size, 12, 5, padding=2),\n",
    "            nn.BatchNorm1d(12),\n",
    "            nn.LeakyReLU(),\n",
    "            nn.Conv1d(12, 24, 5, padding=2),\n",
    "            nn.BatchNorm1d(24),\n",
    "        )\n",
    "\n",
    "        self.rnn = nn.LSTM(input_size=24,\n",
    "                           hidden_size=hidden_size,\n",
    "                           num_layers=num_layers,\n",
    "                           batch_first=True,\n",
    "                           dropout=dropout,\n",
    "                           bidirectional=bidirectional)\n",
    "\n",
    "        out_channels = 2 * hidden_size if bidirectional else hidden_size\n",
    "        self.fc = nn.Linear(out_channels, 3)\n",
    "\n",
    "    def forward(self, x):\n",
    "        x = x.transpose(1, 2)  # B, 48, 6 --> B, 6, 48\n",
    "        x = self.conv_in(x)  # B, 64, 48\n",
    "        x = x.transpose(1, 2)  # B, 48, 64\n",
    "\n",
    "        outs, (hiddens, cells) = self.rnn(x)\n",
    "        x = outs[:, -1, ...]\n",
    "        x = self.fc(x)\n",
    "\n",
    "        return x"
   ]
  },
  {
   "cell_type": "code",
   "execution_count": 12,
   "metadata": {},
   "outputs": [],
   "source": [
    "model = CLSTM(input_size=6, hidden_size=64, num_layers=8, dropout=0.2, bidirectional=True).cuda()"
   ]
  },
  {
   "cell_type": "code",
   "execution_count": 13,
   "metadata": {},
   "outputs": [],
   "source": [
    "criterion = nn.MSELoss().cuda()\n",
    "optimizer = torch_optimizer.RAdam(model.parameters())"
   ]
  },
  {
   "cell_type": "code",
   "execution_count": 14,
   "metadata": {},
   "outputs": [],
   "source": [
    "metrics = [tb.metrics.ModuleMetric(criterion, 'loss'),\n",
    "           utils.HPMetric('hp_metric'),\n",
    "           utils.HPSignalHistory(CHECKPOINT_DIR / 'sample' / '{epoch:04d}.npy', 'hp_signal')]"
   ]
  },
  {
   "cell_type": "code",
   "execution_count": 15,
   "metadata": {},
   "outputs": [],
   "source": [
    "callbacks = [tb.callbacks.EarlyStopping(metrics[0]),\n",
    "             tb.callbacks.LRDecaying(optimizer, metrics[0])]"
   ]
  },
  {
   "cell_type": "code",
   "execution_count": 16,
   "metadata": {},
   "outputs": [],
   "source": [
    "trainer = tb.Trainer(model, optimizer, metrics, callbacks, ncols=100)"
   ]
  },
  {
   "cell_type": "code",
   "execution_count": 17,
   "metadata": {},
   "outputs": [
    {
     "name": "stderr",
     "output_type": "stream",
     "text": [
      "[0001/0100] Train: 100%|█████████████████████████████| 74/74 [00:04<00:00, 17.84it/s, loss 284.2813]\n",
      "[0001/0100] Validation: 100%|████████████████████| 71/71 [00:02<00:00, 33.43it/s, val_loss 223.2988]\n",
      "[0002/0100] Train:   0%|                                                     | 0/74 [00:00<?, ?it/s]"
     ]
    },
    {
     "name": "stdout",
     "output_type": "stream",
     "text": [
      "                  validation\n",
      " - Yaw          :  19.049786\n",
      " - Pitch        :  10.015392\n",
      " - Roll         :   2.573593\n",
      " - RMS          :  12.514336\n",
      " - 99% Tile     :  43.654971\n",
      "Save output signals into checkpoint/1122-Scene3-CLSTM2-win48/sample/0001.npy\n"
     ]
    },
    {
     "name": "stderr",
     "output_type": "stream",
     "text": [
      "[0002/0100] Train: 100%|█████████████████████████████| 74/74 [00:04<00:00, 18.45it/s, loss 237.5571]\n",
      "[0002/0100] Validation: 100%|████████████████████| 71/71 [00:02<00:00, 33.71it/s, val_loss 164.3017]\n",
      "[0003/0100] Train:   0%|                                                     | 0/74 [00:00<?, ?it/s]"
     ]
    },
    {
     "name": "stdout",
     "output_type": "stream",
     "text": [
      "                  validation\n",
      " - Yaw          :  15.371325\n",
      " - Pitch        :   8.882199\n",
      " - Roll         :   2.454722\n",
      " - RMS          :  10.347250\n",
      " - 99% Tile     :  39.116020\n",
      "Save output signals into checkpoint/1122-Scene3-CLSTM2-win48/sample/0002.npy\n"
     ]
    },
    {
     "name": "stderr",
     "output_type": "stream",
     "text": [
      "[0003/0100] Train: 100%|█████████████████████████████| 74/74 [00:04<00:00, 18.24it/s, loss 175.1286]\n",
      "[0003/0100] Validation: 100%|████████████████████| 71/71 [00:02<00:00, 33.19it/s, val_loss 120.1551]\n",
      "[0004/0100] Train:   0%|                                                     | 0/74 [00:00<?, ?it/s]"
     ]
    },
    {
     "name": "stdout",
     "output_type": "stream",
     "text": [
      "                  validation\n",
      " - Yaw          :  12.459380\n",
      " - Pitch        :   8.178793\n",
      " - Roll         :   2.387285\n",
      " - RMS          :   8.714508\n",
      " - 99% Tile     :  34.047533\n",
      "Save output signals into checkpoint/1122-Scene3-CLSTM2-win48/sample/0003.npy\n"
     ]
    },
    {
     "name": "stderr",
     "output_type": "stream",
     "text": [
      "[0004/0100] Train: 100%|█████████████████████████████| 74/74 [00:04<00:00, 18.49it/s, loss 136.6175]\n",
      "[0004/0100] Validation: 100%|█████████████████████| 71/71 [00:02<00:00, 33.10it/s, val_loss 94.4539]\n",
      "[0005/0100] Train:   0%|                                                     | 0/74 [00:00<?, ?it/s]"
     ]
    },
    {
     "name": "stdout",
     "output_type": "stream",
     "text": [
      "                  validation\n",
      " - Yaw          :  10.177804\n",
      " - Pitch        :   7.615049\n",
      " - Roll         :   2.389005\n",
      " - RMS          :   7.467351\n",
      " - 99% Tile     :  30.633722\n",
      "Save output signals into checkpoint/1122-Scene3-CLSTM2-win48/sample/0004.npy\n"
     ]
    },
    {
     "name": "stderr",
     "output_type": "stream",
     "text": [
      "[0005/0100] Train: 100%|█████████████████████████████| 74/74 [00:04<00:00, 18.48it/s, loss 110.2503]\n",
      "[0005/0100] Validation: 100%|█████████████████████| 71/71 [00:02<00:00, 32.50it/s, val_loss 75.2111]\n",
      "[0006/0100] Train:   0%|                                                     | 0/74 [00:00<?, ?it/s]"
     ]
    },
    {
     "name": "stdout",
     "output_type": "stream",
     "text": [
      "                  validation\n",
      " - Yaw          :   8.561134\n",
      " - Pitch        :   7.040679\n",
      " - Roll         :   2.337144\n",
      " - RMS          :   6.540297\n",
      " - 99% Tile     :  27.535712\n",
      "Save output signals into checkpoint/1122-Scene3-CLSTM2-win48/sample/0005.npy\n"
     ]
    },
    {
     "name": "stderr",
     "output_type": "stream",
     "text": [
      "[0006/0100] Train: 100%|██████████████████████████████| 74/74 [00:03<00:00, 18.74it/s, loss 90.4491]\n",
      "[0006/0100] Validation: 100%|█████████████████████| 71/71 [00:02<00:00, 31.69it/s, val_loss 58.3080]\n",
      "[0007/0100] Train:   0%|                                                     | 0/74 [00:00<?, ?it/s]"
     ]
    },
    {
     "name": "stdout",
     "output_type": "stream",
     "text": [
      "                  validation\n",
      " - Yaw          :   7.075264\n",
      " - Pitch        :   6.118047\n",
      " - Roll         :   2.396057\n",
      " - RMS          :   5.574674\n",
      " - 99% Tile     :  24.695565\n",
      "Save output signals into checkpoint/1122-Scene3-CLSTM2-win48/sample/0006.npy\n"
     ]
    },
    {
     "name": "stderr",
     "output_type": "stream",
     "text": [
      "[0007/0100] Train: 100%|██████████████████████████████| 74/74 [00:03<00:00, 18.56it/s, loss 73.8362]\n",
      "[0007/0100] Validation: 100%|█████████████████████| 71/71 [00:02<00:00, 33.39it/s, val_loss 47.7393]\n",
      "[0008/0100] Train:   0%|                                                     | 0/74 [00:00<?, ?it/s]"
     ]
    },
    {
     "name": "stdout",
     "output_type": "stream",
     "text": [
      "                  validation\n",
      " - Yaw          :   6.062052\n",
      " - Pitch        :   6.145328\n",
      " - Roll         :   2.373391\n",
      " - RMS          :   5.168705\n",
      " - 99% Tile     :  21.849632\n",
      "Save output signals into checkpoint/1122-Scene3-CLSTM2-win48/sample/0007.npy\n"
     ]
    },
    {
     "name": "stderr",
     "output_type": "stream",
     "text": [
      "[0008/0100] Train: 100%|██████████████████████████████| 74/74 [00:03<00:00, 19.37it/s, loss 60.2310]\n",
      "[0008/0100] Validation: 100%|█████████████████████| 71/71 [00:02<00:00, 32.85it/s, val_loss 37.3819]\n",
      "[0009/0100] Train:   0%|                                                     | 0/74 [00:00<?, ?it/s]"
     ]
    },
    {
     "name": "stdout",
     "output_type": "stream",
     "text": [
      "                  validation\n",
      " - Yaw          :   5.169653\n",
      " - Pitch        :   5.428637\n",
      " - Roll         :   2.373213\n",
      " - RMS          :   4.539734\n",
      " - 99% Tile     :  19.603342\n",
      "Save output signals into checkpoint/1122-Scene3-CLSTM2-win48/sample/0008.npy\n"
     ]
    },
    {
     "name": "stderr",
     "output_type": "stream",
     "text": [
      "[0009/0100] Train: 100%|██████████████████████████████| 74/74 [00:04<00:00, 18.49it/s, loss 50.4874]\n",
      "[0009/0100] Validation: 100%|█████████████████████| 71/71 [00:02<00:00, 32.51it/s, val_loss 30.2184]\n",
      "[0010/0100] Train:   0%|                                                     | 0/74 [00:00<?, ?it/s]"
     ]
    },
    {
     "name": "stdout",
     "output_type": "stream",
     "text": [
      "                  validation\n",
      " - Yaw          :   4.546235\n",
      " - Pitch        :   4.818482\n",
      " - Roll         :   2.364993\n",
      " - RMS          :   4.061166\n",
      " - 99% Tile     :  17.870408\n",
      "Save output signals into checkpoint/1122-Scene3-CLSTM2-win48/sample/0009.npy\n"
     ]
    },
    {
     "name": "stderr",
     "output_type": "stream",
     "text": [
      "[0010/0100] Train: 100%|██████████████████████████████| 74/74 [00:03<00:00, 18.97it/s, loss 42.8383]\n",
      "[0010/0100] Validation: 100%|█████████████████████| 71/71 [00:02<00:00, 32.40it/s, val_loss 23.9384]\n",
      "[0011/0100] Train:   0%|                                                     | 0/74 [00:00<?, ?it/s]"
     ]
    },
    {
     "name": "stdout",
     "output_type": "stream",
     "text": [
      "                  validation\n",
      " - Yaw          :   3.756395\n",
      " - Pitch        :   4.217803\n",
      " - Roll         :   2.354142\n",
      " - RMS          :   3.532815\n",
      " - 99% Tile     :  15.983514\n",
      "Save output signals into checkpoint/1122-Scene3-CLSTM2-win48/sample/0010.npy\n"
     ]
    },
    {
     "name": "stderr",
     "output_type": "stream",
     "text": [
      "[0011/0100] Train: 100%|██████████████████████████████| 74/74 [00:04<00:00, 18.45it/s, loss 35.9121]\n",
      "[0011/0100] Validation: 100%|█████████████████████| 71/71 [00:02<00:00, 32.77it/s, val_loss 19.9573]\n",
      "[0012/0100] Train:   0%|                                                     | 0/74 [00:00<?, ?it/s]"
     ]
    },
    {
     "name": "stdout",
     "output_type": "stream",
     "text": [
      "                  validation\n",
      " - Yaw          :   3.598769\n",
      " - Pitch        :   3.441067\n",
      " - Roll         :   2.329420\n",
      " - RMS          :   3.173761\n",
      " - 99% Tile     :  14.558749\n",
      "Save output signals into checkpoint/1122-Scene3-CLSTM2-win48/sample/0011.npy\n"
     ]
    },
    {
     "name": "stderr",
     "output_type": "stream",
     "text": [
      "[0012/0100] Train: 100%|██████████████████████████████| 74/74 [00:03<00:00, 18.89it/s, loss 30.8627]\n",
      "[0012/0100] Validation: 100%|█████████████████████| 71/71 [00:02<00:00, 33.00it/s, val_loss 16.0411]\n",
      "[0013/0100] Train:   0%|                                                     | 0/74 [00:00<?, ?it/s]"
     ]
    },
    {
     "name": "stdout",
     "output_type": "stream",
     "text": [
      "                  validation\n",
      " - Yaw          :   3.221772\n",
      " - Pitch        :   2.760350\n",
      " - Roll         :   2.340796\n",
      " - RMS          :   2.797539\n",
      " - 99% Tile     :  13.246846\n",
      "Save output signals into checkpoint/1122-Scene3-CLSTM2-win48/sample/0012.npy\n"
     ]
    },
    {
     "name": "stderr",
     "output_type": "stream",
     "text": [
      "[0013/0100] Train: 100%|██████████████████████████████| 74/74 [00:04<00:00, 18.42it/s, loss 26.0797]\n",
      "[0013/0100] Validation: 100%|█████████████████████| 71/71 [00:02<00:00, 33.03it/s, val_loss 14.0441]\n",
      "[0014/0100] Train:   0%|                                                     | 0/74 [00:00<?, ?it/s]"
     ]
    },
    {
     "name": "stdout",
     "output_type": "stream",
     "text": [
      "                  validation\n",
      " - Yaw          :   2.973737\n",
      " - Pitch        :   2.638866\n",
      " - Roll         :   2.324146\n",
      " - RMS          :   2.658845\n",
      " - 99% Tile     :  12.314615\n",
      "Save output signals into checkpoint/1122-Scene3-CLSTM2-win48/sample/0013.npy\n"
     ]
    },
    {
     "name": "stderr",
     "output_type": "stream",
     "text": [
      "[0014/0100] Train: 100%|██████████████████████████████| 74/74 [00:04<00:00, 18.23it/s, loss 24.1281]\n",
      "[0014/0100] Validation: 100%|█████████████████████| 71/71 [00:02<00:00, 33.48it/s, val_loss 12.5520]\n",
      "[0015/0100] Train:   0%|                                                     | 0/74 [00:00<?, ?it/s]"
     ]
    },
    {
     "name": "stdout",
     "output_type": "stream",
     "text": [
      "                  validation\n",
      " - Yaw          :   2.751110\n",
      " - Pitch        :   2.552493\n",
      " - Roll         :   2.344536\n",
      " - RMS          :   2.554778\n",
      " - 99% Tile     :  11.961668\n",
      "Save output signals into checkpoint/1122-Scene3-CLSTM2-win48/sample/0014.npy\n"
     ]
    },
    {
     "name": "stderr",
     "output_type": "stream",
     "text": [
      "[0015/0100] Train: 100%|██████████████████████████████| 74/74 [00:03<00:00, 18.56it/s, loss 20.4699]\n",
      "[0015/0100] Validation: 100%|█████████████████████| 71/71 [00:02<00:00, 32.49it/s, val_loss 10.2210]\n",
      "[0016/0100] Train:   0%|                                                     | 0/74 [00:00<?, ?it/s]"
     ]
    },
    {
     "name": "stdout",
     "output_type": "stream",
     "text": [
      "                  validation\n",
      " - Yaw          :   2.139204\n",
      " - Pitch        :   2.152275\n",
      " - Roll         :   2.341720\n",
      " - RMS          :   2.213002\n",
      " - 99% Tile     :  10.948181\n",
      "Save output signals into checkpoint/1122-Scene3-CLSTM2-win48/sample/0015.npy\n"
     ]
    },
    {
     "name": "stderr",
     "output_type": "stream",
     "text": [
      "[0016/0100] Train: 100%|██████████████████████████████| 74/74 [00:03<00:00, 18.83it/s, loss 18.3207]\n",
      "[0016/0100] Validation: 100%|██████████████████████| 71/71 [00:02<00:00, 33.61it/s, val_loss 9.2950]\n",
      "[0017/0100] Train:   0%|                                                     | 0/74 [00:00<?, ?it/s]"
     ]
    },
    {
     "name": "stdout",
     "output_type": "stream",
     "text": [
      "                  validation\n",
      " - Yaw          :   1.965853\n",
      " - Pitch        :   1.979398\n",
      " - Roll         :   2.352114\n",
      " - RMS          :   2.106738\n",
      " - 99% Tile     :  10.596626\n",
      "Save output signals into checkpoint/1122-Scene3-CLSTM2-win48/sample/0016.npy\n"
     ]
    },
    {
     "name": "stderr",
     "output_type": "stream",
     "text": [
      "[0017/0100] Train: 100%|██████████████████████████████| 74/74 [00:04<00:00, 18.45it/s, loss 16.8936]\n",
      "[0017/0100] Validation: 100%|██████████████████████| 71/71 [00:02<00:00, 32.35it/s, val_loss 8.5099]\n",
      "[0018/0100] Train:   0%|                                                     | 0/74 [00:00<?, ?it/s]"
     ]
    },
    {
     "name": "stdout",
     "output_type": "stream",
     "text": [
      "                  validation\n",
      " - Yaw          :   2.022609\n",
      " - Pitch        :   1.724883\n",
      " - Roll         :   2.368364\n",
      " - RMS          :   2.055506\n",
      " - 99% Tile     :   9.883525\n",
      "Save output signals into checkpoint/1122-Scene3-CLSTM2-win48/sample/0017.npy\n"
     ]
    },
    {
     "name": "stderr",
     "output_type": "stream",
     "text": [
      "[0018/0100] Train: 100%|██████████████████████████████| 74/74 [00:03<00:00, 19.41it/s, loss 15.2470]\n",
      "[0018/0100] Validation: 100%|██████████████████████| 71/71 [00:02<00:00, 33.21it/s, val_loss 8.0231]\n",
      "[0019/0100] Train:   0%|                                                     | 0/74 [00:00<?, ?it/s]"
     ]
    },
    {
     "name": "stdout",
     "output_type": "stream",
     "text": [
      "                  validation\n",
      " - Yaw          :   1.906967\n",
      " - Pitch        :   1.729969\n",
      " - Roll         :   2.327612\n",
      " - RMS          :   2.003921\n",
      " - 99% Tile     :   9.553852\n",
      "Save output signals into checkpoint/1122-Scene3-CLSTM2-win48/sample/0018.npy\n"
     ]
    },
    {
     "name": "stderr",
     "output_type": "stream",
     "text": [
      "[0019/0100] Train: 100%|██████████████████████████████| 74/74 [00:03<00:00, 18.80it/s, loss 13.8555]\n",
      "[0019/0100] Validation: 100%|██████████████████████| 71/71 [00:02<00:00, 33.61it/s, val_loss 7.1167]\n",
      "[0020/0100] Train:   0%|                                                     | 0/74 [00:00<?, ?it/s]"
     ]
    },
    {
     "name": "stdout",
     "output_type": "stream",
     "text": [
      "                  validation\n",
      " - Yaw          :   1.811414\n",
      " - Pitch        :   1.480216\n",
      " - Roll         :   2.268616\n",
      " - RMS          :   1.881389\n",
      " - 99% Tile     :   8.976240\n",
      "Save output signals into checkpoint/1122-Scene3-CLSTM2-win48/sample/0019.npy\n"
     ]
    },
    {
     "name": "stderr",
     "output_type": "stream",
     "text": [
      "[0020/0100] Train: 100%|██████████████████████████████| 74/74 [00:04<00:00, 17.69it/s, loss 13.4115]\n",
      "[0020/0100] Validation: 100%|██████████████████████| 71/71 [00:02<00:00, 28.20it/s, val_loss 7.1899]\n",
      "[0021/0100] Train:   0%|                                                     | 0/74 [00:00<?, ?it/s]"
     ]
    },
    {
     "name": "stdout",
     "output_type": "stream",
     "text": [
      "val_loss is not improved for 1 epochs\n",
      "                  validation\n",
      " - Yaw          :   1.675850\n",
      " - Pitch        :   1.616725\n",
      " - Roll         :   2.270386\n",
      " - RMS          :   1.877670\n",
      " - 99% Tile     :   8.981629\n",
      "Save output signals into checkpoint/1122-Scene3-CLSTM2-win48/sample/0020.npy\n"
     ]
    },
    {
     "name": "stderr",
     "output_type": "stream",
     "text": [
      "[0021/0100] Train: 100%|██████████████████████████████| 74/74 [00:04<00:00, 15.37it/s, loss 12.7503]\n",
      "[0021/0100] Validation: 100%|██████████████████████| 71/71 [00:02<00:00, 28.50it/s, val_loss 6.5034]\n",
      "[0022/0100] Train:   0%|                                                     | 0/74 [00:00<?, ?it/s]"
     ]
    },
    {
     "name": "stdout",
     "output_type": "stream",
     "text": [
      "                  validation\n",
      " - Yaw          :   1.418661\n",
      " - Pitch        :   1.520969\n",
      " - Roll         :   2.305356\n",
      " - RMS          :   1.792634\n",
      " - 99% Tile     :   8.715536\n",
      "Save output signals into checkpoint/1122-Scene3-CLSTM2-win48/sample/0021.npy\n"
     ]
    },
    {
     "name": "stderr",
     "output_type": "stream",
     "text": [
      "[0022/0100] Train: 100%|██████████████████████████████| 74/74 [00:04<00:00, 16.49it/s, loss 11.7628]\n",
      "[0022/0100] Validation: 100%|██████████████████████| 71/71 [00:02<00:00, 27.39it/s, val_loss 7.2718]\n",
      "[0023/0100] Train:   0%|                                                     | 0/74 [00:00<?, ?it/s]"
     ]
    },
    {
     "name": "stdout",
     "output_type": "stream",
     "text": [
      "val_loss is not improved for 1 epochs\n",
      "                  validation\n",
      " - Yaw          :   2.141084\n",
      " - Pitch        :   1.528387\n",
      " - Roll         :   2.299877\n",
      " - RMS          :   2.017394\n",
      " - 99% Tile     :   8.338487\n",
      "Save output signals into checkpoint/1122-Scene3-CLSTM2-win48/sample/0022.npy\n"
     ]
    },
    {
     "name": "stderr",
     "output_type": "stream",
     "text": [
      "[0023/0100] Train: 100%|██████████████████████████████| 74/74 [00:04<00:00, 16.18it/s, loss 11.5074]\n",
      "[0023/0100] Validation: 100%|██████████████████████| 71/71 [00:02<00:00, 27.32it/s, val_loss 5.9868]\n",
      "[0024/0100] Train:   0%|                                                     | 0/74 [00:00<?, ?it/s]"
     ]
    },
    {
     "name": "stdout",
     "output_type": "stream",
     "text": [
      "                  validation\n",
      " - Yaw          :   1.314003\n",
      " - Pitch        :   1.366001\n",
      " - Roll         :   2.275283\n",
      " - RMS          :   1.709724\n",
      " - 99% Tile     :   8.089202\n",
      "Save output signals into checkpoint/1122-Scene3-CLSTM2-win48/sample/0023.npy\n"
     ]
    },
    {
     "name": "stderr",
     "output_type": "stream",
     "text": [
      "[0024/0100] Train: 100%|██████████████████████████████| 74/74 [00:04<00:00, 16.86it/s, loss 10.5066]\n",
      "[0024/0100] Validation: 100%|██████████████████████| 71/71 [00:02<00:00, 30.87it/s, val_loss 6.5417]\n",
      "[0025/0100] Train:   0%|                                                     | 0/74 [00:00<?, ?it/s]"
     ]
    },
    {
     "name": "stdout",
     "output_type": "stream",
     "text": [
      "val_loss is not improved for 1 epochs\n",
      "                  validation\n",
      " - Yaw          :   1.995525\n",
      " - Pitch        :   1.364174\n",
      " - Roll         :   2.197813\n",
      " - RMS          :   1.886220\n",
      " - 99% Tile     :   7.902469\n",
      "Save output signals into checkpoint/1122-Scene3-CLSTM2-win48/sample/0024.npy\n"
     ]
    },
    {
     "name": "stderr",
     "output_type": "stream",
     "text": [
      "[0025/0100] Train: 100%|███████████████████████████████| 74/74 [00:04<00:00, 18.24it/s, loss 9.8561]\n",
      "[0025/0100] Validation: 100%|██████████████████████| 71/71 [00:02<00:00, 32.56it/s, val_loss 5.8789]\n",
      "[0026/0100] Train:   0%|                                                     | 0/74 [00:00<?, ?it/s]"
     ]
    },
    {
     "name": "stdout",
     "output_type": "stream",
     "text": [
      "                  validation\n",
      " - Yaw          :   1.544243\n",
      " - Pitch        :   1.214823\n",
      " - Roll         :   2.286103\n",
      " - RMS          :   1.740378\n",
      " - 99% Tile     :   7.675876\n",
      "Save output signals into checkpoint/1122-Scene3-CLSTM2-win48/sample/0025.npy\n"
     ]
    },
    {
     "name": "stderr",
     "output_type": "stream",
     "text": [
      "[0026/0100] Train: 100%|███████████████████████████████| 74/74 [00:04<00:00, 18.16it/s, loss 9.5650]\n",
      "[0026/0100] Validation: 100%|██████████████████████| 71/71 [00:02<00:00, 32.27it/s, val_loss 7.5094]\n",
      "[0027/0100] Train:   0%|                                                     | 0/74 [00:00<?, ?it/s]"
     ]
    },
    {
     "name": "stdout",
     "output_type": "stream",
     "text": [
      "val_loss is not improved for 1 epochs\n",
      "                  validation\n",
      " - Yaw          :   2.581546\n",
      " - Pitch        :   1.312463\n",
      " - Roll         :   2.264487\n",
      " - RMS          :   2.122486\n",
      " - 99% Tile     :   7.872049\n",
      "Save output signals into checkpoint/1122-Scene3-CLSTM2-win48/sample/0026.npy\n"
     ]
    },
    {
     "name": "stderr",
     "output_type": "stream",
     "text": [
      "[0027/0100] Train: 100%|███████████████████████████████| 74/74 [00:04<00:00, 18.25it/s, loss 9.5660]\n",
      "[0027/0100] Validation: 100%|██████████████████████| 71/71 [00:02<00:00, 32.70it/s, val_loss 5.5634]\n",
      "[0028/0100] Train:   0%|                                                     | 0/74 [00:00<?, ?it/s]"
     ]
    },
    {
     "name": "stdout",
     "output_type": "stream",
     "text": [
      "                  validation\n",
      " - Yaw          :   1.383517\n",
      " - Pitch        :   1.240396\n",
      " - Roll         :   2.249099\n",
      " - RMS          :   1.684354\n",
      " - 99% Tile     :   7.559221\n",
      "Save output signals into checkpoint/1122-Scene3-CLSTM2-win48/sample/0027.npy\n"
     ]
    },
    {
     "name": "stderr",
     "output_type": "stream",
     "text": [
      "[0028/0100] Train: 100%|███████████████████████████████| 74/74 [00:04<00:00, 17.90it/s, loss 8.7843]\n",
      "[0028/0100] Validation: 100%|██████████████████████| 71/71 [00:02<00:00, 31.86it/s, val_loss 7.9381]\n",
      "[0029/0100] Train:   0%|                                                     | 0/74 [00:00<?, ?it/s]"
     ]
    },
    {
     "name": "stdout",
     "output_type": "stream",
     "text": [
      "val_loss is not improved for 1 epochs\n",
      "                  validation\n",
      " - Yaw          :   2.852860\n",
      " - Pitch        :   1.333560\n",
      " - Roll         :   2.211801\n",
      " - RMS          :   2.221806\n",
      " - 99% Tile     :   7.607039\n",
      "Save output signals into checkpoint/1122-Scene3-CLSTM2-win48/sample/0028.npy\n"
     ]
    },
    {
     "name": "stderr",
     "output_type": "stream",
     "text": [
      "[0029/0100] Train: 100%|███████████████████████████████| 74/74 [00:04<00:00, 18.48it/s, loss 8.5893]\n",
      "[0029/0100] Validation: 100%|██████████████████████| 71/71 [00:02<00:00, 32.56it/s, val_loss 5.1304]\n",
      "[0030/0100] Train:   0%|                                                     | 0/74 [00:00<?, ?it/s]"
     ]
    },
    {
     "name": "stdout",
     "output_type": "stream",
     "text": [
      "                  validation\n",
      " - Yaw          :   1.229850\n",
      " - Pitch        :   1.234999\n",
      " - Roll         :   2.181785\n",
      " - RMS          :   1.612239\n",
      " - 99% Tile     :   7.231896\n",
      "Save output signals into checkpoint/1122-Scene3-CLSTM2-win48/sample/0029.npy\n"
     ]
    },
    {
     "name": "stderr",
     "output_type": "stream",
     "text": [
      "[0030/0100] Train: 100%|███████████████████████████████| 74/74 [00:04<00:00, 17.80it/s, loss 7.9397]\n",
      "[0030/0100] Validation: 100%|██████████████████████| 71/71 [00:02<00:00, 32.67it/s, val_loss 5.0006]\n",
      "[0031/0100] Train:   0%|                                                     | 0/74 [00:00<?, ?it/s]"
     ]
    },
    {
     "name": "stdout",
     "output_type": "stream",
     "text": [
      "                  validation\n",
      " - Yaw          :   1.257720\n",
      " - Pitch        :   1.146384\n",
      " - Roll         :   2.160976\n",
      " - RMS          :   1.588067\n",
      " - 99% Tile     :   7.126815\n",
      "Save output signals into checkpoint/1122-Scene3-CLSTM2-win48/sample/0030.npy\n"
     ]
    },
    {
     "name": "stderr",
     "output_type": "stream",
     "text": [
      "[0031/0100] Train: 100%|███████████████████████████████| 74/74 [00:04<00:00, 18.07it/s, loss 8.0121]\n",
      "[0031/0100] Validation: 100%|██████████████████████| 71/71 [00:02<00:00, 32.40it/s, val_loss 5.9647]\n",
      "[0032/0100] Train:   0%|                                                     | 0/74 [00:00<?, ?it/s]"
     ]
    },
    {
     "name": "stdout",
     "output_type": "stream",
     "text": [
      "val_loss is not improved for 1 epochs\n",
      "                  validation\n",
      " - Yaw          :   1.964504\n",
      " - Pitch        :   1.121376\n",
      " - Roll         :   2.182744\n",
      " - RMS          :   1.814858\n",
      " - 99% Tile     :   7.047202\n",
      "Save output signals into checkpoint/1122-Scene3-CLSTM2-win48/sample/0031.npy\n"
     ]
    },
    {
     "name": "stderr",
     "output_type": "stream",
     "text": [
      "[0032/0100] Train: 100%|███████████████████████████████| 74/74 [00:04<00:00, 18.40it/s, loss 7.6942]\n",
      "[0032/0100] Validation: 100%|██████████████████████| 71/71 [00:02<00:00, 32.57it/s, val_loss 6.1915]\n",
      "[0033/0100] Train:   0%|                                                     | 0/74 [00:00<?, ?it/s]"
     ]
    },
    {
     "name": "stdout",
     "output_type": "stream",
     "text": [
      "val_loss is not improved for 2 epochs\n",
      "                  validation\n",
      " - Yaw          :   2.042097\n",
      " - Pitch        :   1.264030\n",
      " - Roll         :   2.156600\n",
      " - RMS          :   1.863586\n",
      " - 99% Tile     :   7.439124\n",
      "Save output signals into checkpoint/1122-Scene3-CLSTM2-win48/sample/0032.npy\n"
     ]
    },
    {
     "name": "stderr",
     "output_type": "stream",
     "text": [
      "[0033/0100] Train: 100%|███████████████████████████████| 74/74 [00:04<00:00, 18.25it/s, loss 7.3535]\n",
      "[0033/0100] Validation: 100%|██████████████████████| 71/71 [00:02<00:00, 32.39it/s, val_loss 4.7223]\n",
      "[0034/0100] Train:   0%|                                                     | 0/74 [00:00<?, ?it/s]"
     ]
    },
    {
     "name": "stdout",
     "output_type": "stream",
     "text": [
      "                  validation\n",
      " - Yaw          :   1.715573\n",
      " - Pitch        :   1.113902\n",
      " - Roll         :   1.942436\n",
      " - RMS          :   1.628601\n",
      " - 99% Tile     :   6.552639\n",
      "Save output signals into checkpoint/1122-Scene3-CLSTM2-win48/sample/0033.npy\n"
     ]
    },
    {
     "name": "stderr",
     "output_type": "stream",
     "text": [
      "[0034/0100] Train: 100%|███████████████████████████████| 74/74 [00:04<00:00, 18.46it/s, loss 6.8309]\n",
      "[0034/0100] Validation: 100%|██████████████████████| 71/71 [00:02<00:00, 32.24it/s, val_loss 3.9163]\n",
      "[0035/0100] Train:   0%|                                                     | 0/74 [00:00<?, ?it/s]"
     ]
    },
    {
     "name": "stdout",
     "output_type": "stream",
     "text": [
      "                  validation\n",
      " - Yaw          :   1.295970\n",
      " - Pitch        :   1.166013\n",
      " - Roll         :   1.712280\n",
      " - RMS          :   1.410795\n",
      " - 99% Tile     :   6.219344\n",
      "Save output signals into checkpoint/1122-Scene3-CLSTM2-win48/sample/0034.npy\n"
     ]
    },
    {
     "name": "stderr",
     "output_type": "stream",
     "text": [
      "[0035/0100] Train: 100%|███████████████████████████████| 74/74 [00:03<00:00, 18.73it/s, loss 6.1760]\n",
      "[0035/0100] Validation: 100%|██████████████████████| 71/71 [00:02<00:00, 33.22it/s, val_loss 4.2415]\n",
      "[0036/0100] Train:   0%|                                                     | 0/74 [00:00<?, ?it/s]"
     ]
    },
    {
     "name": "stdout",
     "output_type": "stream",
     "text": [
      "val_loss is not improved for 1 epochs\n",
      "                  validation\n",
      " - Yaw          :   1.761972\n",
      " - Pitch        :   1.212812\n",
      " - Roll         :   1.498245\n",
      " - RMS          :   1.507779\n",
      " - 99% Tile     :   6.325292\n",
      "Save output signals into checkpoint/1122-Scene3-CLSTM2-win48/sample/0035.npy\n"
     ]
    },
    {
     "name": "stderr",
     "output_type": "stream",
     "text": [
      "[0036/0100] Train: 100%|███████████████████████████████| 74/74 [00:04<00:00, 18.04it/s, loss 5.6668]\n",
      "[0036/0100] Validation: 100%|██████████████████████| 71/71 [00:02<00:00, 32.08it/s, val_loss 4.0131]\n",
      "[0037/0100] Train:   0%|                                                     | 0/74 [00:00<?, ?it/s]"
     ]
    },
    {
     "name": "stdout",
     "output_type": "stream",
     "text": [
      "val_loss is not improved for 2 epochs\n",
      "                  validation\n",
      " - Yaw          :   1.801015\n",
      " - Pitch        :   1.244616\n",
      " - Roll         :   1.289684\n",
      " - RMS          :   1.466971\n",
      " - 99% Tile     :   6.167109\n",
      "Save output signals into checkpoint/1122-Scene3-CLSTM2-win48/sample/0036.npy\n"
     ]
    },
    {
     "name": "stderr",
     "output_type": "stream",
     "text": [
      "[0037/0100] Train: 100%|███████████████████████████████| 74/74 [00:04<00:00, 18.02it/s, loss 5.6417]\n",
      "[0037/0100] Validation: 100%|██████████████████████| 71/71 [00:02<00:00, 32.09it/s, val_loss 3.4049]\n",
      "[0038/0100] Train:   0%|                                                     | 0/74 [00:00<?, ?it/s]"
     ]
    },
    {
     "name": "stdout",
     "output_type": "stream",
     "text": [
      "                  validation\n",
      " - Yaw          :   1.528190\n",
      " - Pitch        :   1.024149\n",
      " - Roll         :   1.114854\n",
      " - RMS          :   1.241927\n",
      " - 99% Tile     :   6.296872\n",
      "Save output signals into checkpoint/1122-Scene3-CLSTM2-win48/sample/0037.npy\n"
     ]
    },
    {
     "name": "stderr",
     "output_type": "stream",
     "text": [
      "[0038/0100] Train: 100%|███████████████████████████████| 74/74 [00:03<00:00, 18.51it/s, loss 5.4570]\n",
      "[0038/0100] Validation: 100%|██████████████████████| 71/71 [00:02<00:00, 32.35it/s, val_loss 3.4251]\n",
      "[0039/0100] Train:   0%|                                                     | 0/74 [00:00<?, ?it/s]"
     ]
    },
    {
     "name": "stdout",
     "output_type": "stream",
     "text": [
      "val_loss is not improved for 1 epochs\n",
      "                  validation\n",
      " - Yaw          :   1.401925\n",
      " - Pitch        :   1.255138\n",
      " - Roll         :   1.150857\n",
      " - RMS          :   1.273478\n",
      " - 99% Tile     :   6.093646\n",
      "Save output signals into checkpoint/1122-Scene3-CLSTM2-win48/sample/0038.npy\n"
     ]
    },
    {
     "name": "stderr",
     "output_type": "stream",
     "text": [
      "[0039/0100] Train: 100%|███████████████████████████████| 74/74 [00:04<00:00, 18.42it/s, loss 5.1719]\n",
      "[0039/0100] Validation: 100%|██████████████████████| 71/71 [00:02<00:00, 32.34it/s, val_loss 3.3425]\n",
      "[0040/0100] Train:   0%|                                                     | 0/74 [00:00<?, ?it/s]"
     ]
    },
    {
     "name": "stdout",
     "output_type": "stream",
     "text": [
      "                  validation\n",
      " - Yaw          :   1.642131\n",
      " - Pitch        :   1.101423\n",
      " - Roll         :   1.019383\n",
      " - RMS          :   1.284376\n",
      " - 99% Tile     :   5.901476\n",
      "Save output signals into checkpoint/1122-Scene3-CLSTM2-win48/sample/0039.npy\n"
     ]
    },
    {
     "name": "stderr",
     "output_type": "stream",
     "text": [
      "[0040/0100] Train: 100%|███████████████████████████████| 74/74 [00:04<00:00, 17.68it/s, loss 5.2996]\n",
      "[0040/0100] Validation: 100%|██████████████████████| 71/71 [00:02<00:00, 31.56it/s, val_loss 3.0893]\n",
      "[0041/0100] Train:   0%|                                                     | 0/74 [00:00<?, ?it/s]"
     ]
    },
    {
     "name": "stdout",
     "output_type": "stream",
     "text": [
      "                  validation\n",
      " - Yaw          :   1.611726\n",
      " - Pitch        :   0.964896\n",
      " - Roll         :   1.105761\n",
      " - RMS          :   1.258490\n",
      " - 99% Tile     :   5.743504\n",
      "Save output signals into checkpoint/1122-Scene3-CLSTM2-win48/sample/0040.npy\n"
     ]
    },
    {
     "name": "stderr",
     "output_type": "stream",
     "text": [
      "[0041/0100] Train: 100%|███████████████████████████████| 74/74 [00:04<00:00, 18.08it/s, loss 4.8638]\n",
      "[0041/0100] Validation: 100%|██████████████████████| 71/71 [00:02<00:00, 32.75it/s, val_loss 3.2311]\n",
      "[0042/0100] Train:   0%|                                                     | 0/74 [00:00<?, ?it/s]"
     ]
    },
    {
     "name": "stdout",
     "output_type": "stream",
     "text": [
      "val_loss is not improved for 1 epochs\n",
      "                  validation\n",
      " - Yaw          :   1.392676\n",
      " - Pitch        :   1.203194\n",
      " - Roll         :   1.089572\n",
      " - RMS          :   1.234827\n",
      " - 99% Tile     :   6.024464\n",
      "Save output signals into checkpoint/1122-Scene3-CLSTM2-win48/sample/0041.npy\n"
     ]
    },
    {
     "name": "stderr",
     "output_type": "stream",
     "text": [
      "[0042/0100] Train: 100%|███████████████████████████████| 74/74 [00:04<00:00, 18.35it/s, loss 4.8554]\n",
      "[0042/0100] Validation: 100%|██████████████████████| 71/71 [00:02<00:00, 32.17it/s, val_loss 4.1838]\n",
      "[0043/0100] Train:   0%|                                                     | 0/74 [00:00<?, ?it/s]"
     ]
    },
    {
     "name": "stdout",
     "output_type": "stream",
     "text": [
      "val_loss is not improved for 2 epochs\n",
      "                  validation\n",
      " - Yaw          :   2.147364\n",
      " - Pitch        :   1.114502\n",
      " - Roll         :   1.021047\n",
      " - RMS          :   1.516116\n",
      " - 99% Tile     :   6.365933\n",
      "Save output signals into checkpoint/1122-Scene3-CLSTM2-win48/sample/0042.npy\n"
     ]
    },
    {
     "name": "stderr",
     "output_type": "stream",
     "text": [
      "[0043/0100] Train: 100%|███████████████████████████████| 74/74 [00:04<00:00, 18.22it/s, loss 4.2327]\n",
      "[0043/0100] Validation: 100%|██████████████████████| 71/71 [00:02<00:00, 32.82it/s, val_loss 2.8953]\n",
      "[0044/0100] Train:   0%|                                                     | 0/74 [00:00<?, ?it/s]"
     ]
    },
    {
     "name": "stdout",
     "output_type": "stream",
     "text": [
      "                  validation\n",
      " - Yaw          :   1.672557\n",
      " - Pitch        :   0.968216\n",
      " - Roll         :   0.885814\n",
      " - RMS          :   1.227403\n",
      " - 99% Tile     :   5.330432\n",
      "Save output signals into checkpoint/1122-Scene3-CLSTM2-win48/sample/0043.npy\n"
     ]
    },
    {
     "name": "stderr",
     "output_type": "stream",
     "text": [
      "[0044/0100] Train: 100%|███████████████████████████████| 74/74 [00:04<00:00, 17.85it/s, loss 4.4033]\n",
      "[0044/0100] Validation: 100%|██████████████████████| 71/71 [00:02<00:00, 32.24it/s, val_loss 2.6990]\n",
      "[0045/0100] Train:   0%|                                                     | 0/74 [00:00<?, ?it/s]"
     ]
    },
    {
     "name": "stdout",
     "output_type": "stream",
     "text": [
      "                  validation\n",
      " - Yaw          :   1.464580\n",
      " - Pitch        :   0.922242\n",
      " - Roll         :   0.901493\n",
      " - RMS          :   1.126679\n",
      " - 99% Tile     :   5.565321\n",
      "Save output signals into checkpoint/1122-Scene3-CLSTM2-win48/sample/0044.npy\n"
     ]
    },
    {
     "name": "stderr",
     "output_type": "stream",
     "text": [
      "[0045/0100] Train: 100%|███████████████████████████████| 74/74 [00:04<00:00, 17.93it/s, loss 4.2922]\n",
      "[0045/0100] Validation: 100%|██████████████████████| 71/71 [00:02<00:00, 32.39it/s, val_loss 2.4695]\n",
      "[0046/0100] Train:   0%|                                                     | 0/74 [00:00<?, ?it/s]"
     ]
    },
    {
     "name": "stdout",
     "output_type": "stream",
     "text": [
      "                  validation\n",
      " - Yaw          :   1.196053\n",
      " - Pitch        :   1.139507\n",
      " - Roll         :   0.875923\n",
      " - RMS          :   1.079546\n",
      " - 99% Tile     :   5.325384\n",
      "Save output signals into checkpoint/1122-Scene3-CLSTM2-win48/sample/0045.npy\n"
     ]
    },
    {
     "name": "stderr",
     "output_type": "stream",
     "text": [
      "[0046/0100] Train: 100%|███████████████████████████████| 74/74 [00:04<00:00, 18.36it/s, loss 3.9240]\n",
      "[0046/0100] Validation: 100%|██████████████████████| 71/71 [00:02<00:00, 32.29it/s, val_loss 2.4989]\n",
      "[0047/0100] Train:   0%|                                                     | 0/74 [00:00<?, ?it/s]"
     ]
    },
    {
     "name": "stdout",
     "output_type": "stream",
     "text": [
      "val_loss is not improved for 1 epochs\n",
      "                  validation\n",
      " - Yaw          :   1.296413\n",
      " - Pitch        :   0.977464\n",
      " - Roll         :   0.840244\n",
      " - RMS          :   1.055483\n",
      " - 99% Tile     :   5.432402\n",
      "Save output signals into checkpoint/1122-Scene3-CLSTM2-win48/sample/0046.npy\n"
     ]
    },
    {
     "name": "stderr",
     "output_type": "stream",
     "text": [
      "[0047/0100] Train: 100%|███████████████████████████████| 74/74 [00:03<00:00, 18.67it/s, loss 3.7478]\n",
      "[0047/0100] Validation: 100%|██████████████████████| 71/71 [00:02<00:00, 32.73it/s, val_loss 2.7250]\n",
      "[0048/0100] Train:   0%|                                                     | 0/74 [00:00<?, ?it/s]"
     ]
    },
    {
     "name": "stdout",
     "output_type": "stream",
     "text": [
      "val_loss is not improved for 2 epochs\n",
      "                  validation\n",
      " - Yaw          :   1.533927\n",
      " - Pitch        :   0.856593\n",
      " - Roll         :   0.865427\n",
      " - RMS          :   1.130730\n",
      " - 99% Tile     :   5.737660\n",
      "Save output signals into checkpoint/1122-Scene3-CLSTM2-win48/sample/0047.npy\n"
     ]
    },
    {
     "name": "stderr",
     "output_type": "stream",
     "text": [
      "[0048/0100] Train: 100%|███████████████████████████████| 74/74 [00:04<00:00, 17.66it/s, loss 3.8619]\n",
      "[0048/0100] Validation: 100%|██████████████████████| 71/71 [00:02<00:00, 31.96it/s, val_loss 2.5336]\n",
      "[0049/0100] Train:   0%|                                                     | 0/74 [00:00<?, ?it/s]"
     ]
    },
    {
     "name": "stdout",
     "output_type": "stream",
     "text": [
      "val_loss is not improved for 3 epochs\n",
      "                  validation\n",
      " - Yaw          :   1.337628\n",
      " - Pitch        :   0.965794\n",
      " - Roll         :   0.859752\n",
      " - RMS          :   1.074116\n",
      " - 99% Tile     :   5.595852\n",
      "Save output signals into checkpoint/1122-Scene3-CLSTM2-win48/sample/0048.npy\n"
     ]
    },
    {
     "name": "stderr",
     "output_type": "stream",
     "text": [
      "[0049/0100] Train: 100%|███████████████████████████████| 74/74 [00:04<00:00, 17.58it/s, loss 3.6230]\n",
      "[0049/0100] Validation: 100%|██████████████████████| 71/71 [00:02<00:00, 32.56it/s, val_loss 2.2181]\n",
      "[0050/0100] Train:   0%|                                                     | 0/74 [00:00<?, ?it/s]"
     ]
    },
    {
     "name": "stdout",
     "output_type": "stream",
     "text": [
      "                  validation\n",
      " - Yaw          :   1.161072\n",
      " - Pitch        :   0.966457\n",
      " - Roll         :   0.788213\n",
      " - RMS          :   0.983769\n",
      " - 99% Tile     :   5.118261\n",
      "Save output signals into checkpoint/1122-Scene3-CLSTM2-win48/sample/0049.npy\n"
     ]
    },
    {
     "name": "stderr",
     "output_type": "stream",
     "text": [
      "[0050/0100] Train: 100%|███████████████████████████████| 74/74 [00:04<00:00, 18.39it/s, loss 3.5655]\n",
      "[0050/0100] Validation: 100%|██████████████████████| 71/71 [00:02<00:00, 32.04it/s, val_loss 2.2588]\n",
      "[0051/0100] Train:   0%|                                                     | 0/74 [00:00<?, ?it/s]"
     ]
    },
    {
     "name": "stdout",
     "output_type": "stream",
     "text": [
      "val_loss is not improved for 1 epochs\n",
      "                  validation\n",
      " - Yaw          :   1.339572\n",
      " - Pitch        :   0.859126\n",
      " - Roll         :   0.786903\n",
      " - RMS          :   1.024983\n",
      " - 99% Tile     :   5.126762\n",
      "Save output signals into checkpoint/1122-Scene3-CLSTM2-win48/sample/0050.npy\n"
     ]
    },
    {
     "name": "stderr",
     "output_type": "stream",
     "text": [
      "[0051/0100] Train: 100%|███████████████████████████████| 74/74 [00:04<00:00, 17.83it/s, loss 3.4805]\n",
      "[0051/0100] Validation: 100%|██████████████████████| 71/71 [00:02<00:00, 32.18it/s, val_loss 2.5004]\n",
      "[0052/0100] Train:   0%|                                                     | 0/74 [00:00<?, ?it/s]"
     ]
    },
    {
     "name": "stdout",
     "output_type": "stream",
     "text": [
      "val_loss is not improved for 2 epochs\n",
      "                  validation\n",
      " - Yaw          :   1.292253\n",
      " - Pitch        :   0.993353\n",
      " - Roll         :   0.920099\n",
      " - RMS          :   1.080625\n",
      " - 99% Tile     :   5.362962\n",
      "Save output signals into checkpoint/1122-Scene3-CLSTM2-win48/sample/0051.npy\n"
     ]
    },
    {
     "name": "stderr",
     "output_type": "stream",
     "text": [
      "[0052/0100] Train: 100%|███████████████████████████████| 74/74 [00:03<00:00, 18.94it/s, loss 3.4056]\n",
      "[0052/0100] Validation: 100%|██████████████████████| 71/71 [00:02<00:00, 32.82it/s, val_loss 2.7780]\n",
      "[0053/0100] Train:   0%|                                                     | 0/74 [00:00<?, ?it/s]"
     ]
    },
    {
     "name": "stdout",
     "output_type": "stream",
     "text": [
      "val_loss is not improved for 3 epochs\n",
      "                  validation\n",
      " - Yaw          :   1.518856\n",
      " - Pitch        :   1.086436\n",
      " - Roll         :   0.828209\n",
      " - RMS          :   1.179434\n",
      " - 99% Tile     :   5.504042\n",
      "Save output signals into checkpoint/1122-Scene3-CLSTM2-win48/sample/0052.npy\n"
     ]
    },
    {
     "name": "stderr",
     "output_type": "stream",
     "text": [
      "[0053/0100] Train: 100%|███████████████████████████████| 74/74 [00:04<00:00, 18.09it/s, loss 3.4107]\n",
      "[0053/0100] Validation: 100%|██████████████████████| 71/71 [00:02<00:00, 32.37it/s, val_loss 2.3893]\n",
      "[0054/0100] Train:   0%|                                                     | 0/74 [00:00<?, ?it/s]"
     ]
    },
    {
     "name": "stdout",
     "output_type": "stream",
     "text": [
      "val_loss is not improved for 4 epochs\n",
      "                  validation\n",
      " - Yaw          :   1.370773\n",
      " - Pitch        :   0.870511\n",
      " - Roll         :   0.932665\n",
      " - RMS          :   1.081152\n",
      " - 99% Tile     :   5.227992\n",
      "Save output signals into checkpoint/1122-Scene3-CLSTM2-win48/sample/0053.npy\n"
     ]
    },
    {
     "name": "stderr",
     "output_type": "stream",
     "text": [
      "[0054/0100] Train: 100%|███████████████████████████████| 74/74 [00:03<00:00, 18.51it/s, loss 3.2326]\n",
      "[0054/0100] Validation: 100%|██████████████████████| 71/71 [00:02<00:00, 32.80it/s, val_loss 2.6336]\n",
      "[0055/0100] Train:   0%|                                                     | 0/74 [00:00<?, ?it/s]"
     ]
    },
    {
     "name": "stdout",
     "output_type": "stream",
     "text": [
      "Decaying lr from 0.001 to 0.0005 because val_loss did not improved for 5 epochs\n",
      "val_loss is not improved for 5 epochs\n",
      "                  validation\n",
      " - Yaw          :   1.499201\n",
      " - Pitch        :   1.041443\n",
      " - Roll         :   0.774399\n",
      " - RMS          :   1.144829\n",
      " - 99% Tile     :   5.276514\n",
      "Save output signals into checkpoint/1122-Scene3-CLSTM2-win48/sample/0054.npy\n"
     ]
    },
    {
     "name": "stderr",
     "output_type": "stream",
     "text": [
      "[0055/0100] Train: 100%|███████████████████████████████| 74/74 [00:04<00:00, 17.87it/s, loss 2.8950]\n",
      "[0055/0100] Validation: 100%|██████████████████████| 71/71 [00:02<00:00, 32.80it/s, val_loss 2.0362]\n",
      "[0056/0100] Train:   0%|                                                     | 0/74 [00:00<?, ?it/s]"
     ]
    },
    {
     "name": "stdout",
     "output_type": "stream",
     "text": [
      "                  validation\n",
      " - Yaw          :   1.150613\n",
      " - Pitch        :   0.870028\n",
      " - Roll         :   0.702643\n",
      " - RMS          :   0.926385\n",
      " - 99% Tile     :   5.143978\n",
      "Save output signals into checkpoint/1122-Scene3-CLSTM2-win48/sample/0055.npy\n"
     ]
    },
    {
     "name": "stderr",
     "output_type": "stream",
     "text": [
      "[0056/0100] Train: 100%|███████████████████████████████| 74/74 [00:03<00:00, 18.61it/s, loss 2.8640]\n",
      "[0056/0100] Validation: 100%|██████████████████████| 71/71 [00:02<00:00, 32.46it/s, val_loss 1.9871]\n",
      "[0057/0100] Train:   0%|                                                     | 0/74 [00:00<?, ?it/s]"
     ]
    },
    {
     "name": "stdout",
     "output_type": "stream",
     "text": [
      "                  validation\n",
      " - Yaw          :   1.168873\n",
      " - Pitch        :   0.891139\n",
      " - Roll         :   0.709997\n",
      " - RMS          :   0.942424\n",
      " - 99% Tile     :   4.904932\n",
      "Save output signals into checkpoint/1122-Scene3-CLSTM2-win48/sample/0056.npy\n"
     ]
    },
    {
     "name": "stderr",
     "output_type": "stream",
     "text": [
      "[0057/0100] Train: 100%|███████████████████████████████| 74/74 [00:04<00:00, 17.52it/s, loss 2.7310]\n",
      "[0057/0100] Validation: 100%|██████████████████████| 71/71 [00:02<00:00, 32.83it/s, val_loss 2.1384]\n",
      "[0058/0100] Train:   0%|                                                     | 0/74 [00:00<?, ?it/s]"
     ]
    },
    {
     "name": "stdout",
     "output_type": "stream",
     "text": [
      "val_loss is not improved for 1 epochs\n",
      "                  validation\n",
      " - Yaw          :   1.394199\n",
      " - Pitch        :   0.773556\n",
      " - Roll         :   0.692995\n",
      " - RMS          :   1.003730\n",
      " - 99% Tile     :   5.002089\n",
      "Save output signals into checkpoint/1122-Scene3-CLSTM2-win48/sample/0057.npy\n"
     ]
    },
    {
     "name": "stderr",
     "output_type": "stream",
     "text": [
      "[0058/0100] Train: 100%|███████████████████████████████| 74/74 [00:04<00:00, 18.31it/s, loss 2.6308]\n",
      "[0058/0100] Validation: 100%|██████████████████████| 71/71 [00:02<00:00, 32.00it/s, val_loss 1.9891]\n",
      "[0059/0100] Train:   0%|                                                     | 0/74 [00:00<?, ?it/s]"
     ]
    },
    {
     "name": "stdout",
     "output_type": "stream",
     "text": [
      "val_loss is not improved for 2 epochs\n",
      "                  validation\n",
      " - Yaw          :   1.206340\n",
      " - Pitch        :   0.810426\n",
      " - Roll         :   0.712585\n",
      " - RMS          :   0.934492\n",
      " - 99% Tile     :   4.955606\n",
      "Save output signals into checkpoint/1122-Scene3-CLSTM2-win48/sample/0058.npy\n"
     ]
    },
    {
     "name": "stderr",
     "output_type": "stream",
     "text": [
      "[0059/0100] Train: 100%|███████████████████████████████| 74/74 [00:04<00:00, 17.64it/s, loss 2.7221]\n",
      "[0059/0100] Validation: 100%|██████████████████████| 71/71 [00:02<00:00, 32.45it/s, val_loss 2.6207]\n",
      "[0060/0100] Train:   0%|                                                     | 0/74 [00:00<?, ?it/s]"
     ]
    },
    {
     "name": "stdout",
     "output_type": "stream",
     "text": [
      "val_loss is not improved for 3 epochs\n",
      "                  validation\n",
      " - Yaw          :   1.693762\n",
      " - Pitch        :   0.800685\n",
      " - Roll         :   0.679248\n",
      " - RMS          :   1.150551\n",
      " - 99% Tile     :   5.576438\n",
      "Save output signals into checkpoint/1122-Scene3-CLSTM2-win48/sample/0059.npy\n"
     ]
    },
    {
     "name": "stderr",
     "output_type": "stream",
     "text": [
      "[0060/0100] Train: 100%|███████████████████████████████| 74/74 [00:03<00:00, 18.59it/s, loss 2.8024]\n",
      "[0060/0100] Validation: 100%|██████████████████████| 71/71 [00:02<00:00, 31.26it/s, val_loss 2.4957]\n",
      "[0061/0100] Train:   0%|                                                     | 0/74 [00:00<?, ?it/s]"
     ]
    },
    {
     "name": "stdout",
     "output_type": "stream",
     "text": [
      "val_loss is not improved for 4 epochs\n",
      "                  validation\n",
      " - Yaw          :   1.635639\n",
      " - Pitch        :   0.750854\n",
      " - Roll         :   0.683727\n",
      " - RMS          :   1.111542\n",
      " - 99% Tile     :   5.501638\n",
      "Save output signals into checkpoint/1122-Scene3-CLSTM2-win48/sample/0060.npy\n"
     ]
    },
    {
     "name": "stderr",
     "output_type": "stream",
     "text": [
      "[0061/0100] Train: 100%|███████████████████████████████| 74/74 [00:04<00:00, 17.99it/s, loss 2.8597]\n",
      "[0061/0100] Validation: 100%|██████████████████████| 71/71 [00:02<00:00, 32.99it/s, val_loss 1.8042]\n",
      "[0062/0100] Train:   0%|                                                     | 0/74 [00:00<?, ?it/s]"
     ]
    },
    {
     "name": "stdout",
     "output_type": "stream",
     "text": [
      "                  validation\n",
      " - Yaw          :   1.056151\n",
      " - Pitch        :   0.787750\n",
      " - Roll         :   0.638911\n",
      " - RMS          :   0.845421\n",
      " - 99% Tile     :   4.964827\n",
      "Save output signals into checkpoint/1122-Scene3-CLSTM2-win48/sample/0061.npy\n"
     ]
    },
    {
     "name": "stderr",
     "output_type": "stream",
     "text": [
      "[0062/0100] Train: 100%|███████████████████████████████| 74/74 [00:04<00:00, 18.49it/s, loss 2.7310]\n",
      "[0062/0100] Validation: 100%|██████████████████████| 71/71 [00:02<00:00, 33.04it/s, val_loss 1.6326]\n",
      "[0063/0100] Train:   0%|                                                     | 0/74 [00:00<?, ?it/s]"
     ]
    },
    {
     "name": "stdout",
     "output_type": "stream",
     "text": [
      "                  validation\n",
      " - Yaw          :   0.967757\n",
      " - Pitch        :   0.716811\n",
      " - Roll         :   0.667851\n",
      " - RMS          :   0.795067\n",
      " - 99% Tile     :   4.638084\n",
      "Save output signals into checkpoint/1122-Scene3-CLSTM2-win48/sample/0062.npy\n"
     ]
    },
    {
     "name": "stderr",
     "output_type": "stream",
     "text": [
      "[0063/0100] Train: 100%|███████████████████████████████| 74/74 [00:04<00:00, 18.27it/s, loss 2.6851]\n",
      "[0063/0100] Validation: 100%|██████████████████████| 71/71 [00:02<00:00, 31.91it/s, val_loss 2.0108]\n",
      "[0064/0100] Train:   0%|                                                     | 0/74 [00:00<?, ?it/s]"
     ]
    },
    {
     "name": "stdout",
     "output_type": "stream",
     "text": [
      "val_loss is not improved for 1 epochs\n",
      "                  validation\n",
      " - Yaw          :   1.229685\n",
      " - Pitch        :   0.869901\n",
      " - Roll         :   0.701860\n",
      " - RMS          :   0.959420\n",
      " - 99% Tile     :   4.898499\n",
      "Save output signals into checkpoint/1122-Scene3-CLSTM2-win48/sample/0063.npy\n"
     ]
    },
    {
     "name": "stderr",
     "output_type": "stream",
     "text": [
      "[0064/0100] Train: 100%|███████████████████████████████| 74/74 [00:04<00:00, 18.01it/s, loss 2.6146]\n",
      "[0064/0100] Validation: 100%|██████████████████████| 71/71 [00:02<00:00, 32.26it/s, val_loss 1.9585]\n",
      "[0065/0100] Train:   0%|                                                     | 0/74 [00:00<?, ?it/s]"
     ]
    },
    {
     "name": "stdout",
     "output_type": "stream",
     "text": [
      "val_loss is not improved for 2 epochs\n",
      "                  validation\n",
      " - Yaw          :   1.164071\n",
      " - Pitch        :   0.852688\n",
      " - Roll         :   0.713836\n",
      " - RMS          :   0.929462\n",
      " - 99% Tile     :   4.973490\n",
      "Save output signals into checkpoint/1122-Scene3-CLSTM2-win48/sample/0064.npy\n"
     ]
    },
    {
     "name": "stderr",
     "output_type": "stream",
     "text": [
      "[0065/0100] Train: 100%|███████████████████████████████| 74/74 [00:04<00:00, 18.33it/s, loss 2.4789]\n",
      "[0065/0100] Validation: 100%|██████████████████████| 71/71 [00:02<00:00, 31.79it/s, val_loss 1.8393]\n",
      "[0066/0100] Train:   0%|                                                     | 0/74 [00:00<?, ?it/s]"
     ]
    },
    {
     "name": "stdout",
     "output_type": "stream",
     "text": [
      "val_loss is not improved for 3 epochs\n",
      "                  validation\n",
      " - Yaw          :   1.135877\n",
      " - Pitch        :   0.747003\n",
      " - Roll         :   0.659094\n",
      " - RMS          :   0.872283\n",
      " - 99% Tile     :   5.094893\n",
      "Save output signals into checkpoint/1122-Scene3-CLSTM2-win48/sample/0065.npy\n"
     ]
    },
    {
     "name": "stderr",
     "output_type": "stream",
     "text": [
      "[0066/0100] Train: 100%|███████████████████████████████| 74/74 [00:04<00:00, 18.16it/s, loss 2.3973]\n",
      "[0066/0100] Validation: 100%|██████████████████████| 71/71 [00:02<00:00, 32.54it/s, val_loss 1.8303]\n",
      "[0067/0100] Train:   0%|                                                     | 0/74 [00:00<?, ?it/s]"
     ]
    },
    {
     "name": "stdout",
     "output_type": "stream",
     "text": [
      "val_loss is not improved for 4 epochs\n",
      "                  validation\n",
      " - Yaw          :   1.061616\n",
      " - Pitch        :   0.865604\n",
      " - Roll         :   0.721082\n",
      " - RMS          :   0.893729\n",
      " - 99% Tile     :   4.790303\n",
      "Save output signals into checkpoint/1122-Scene3-CLSTM2-win48/sample/0066.npy\n"
     ]
    },
    {
     "name": "stderr",
     "output_type": "stream",
     "text": [
      "[0067/0100] Train: 100%|███████████████████████████████| 74/74 [00:04<00:00, 18.31it/s, loss 2.4620]\n",
      "[0067/0100] Validation: 100%|██████████████████████| 71/71 [00:02<00:00, 32.30it/s, val_loss 1.7259]\n",
      "[0068/0100] Train:   0%|                                                     | 0/74 [00:00<?, ?it/s]"
     ]
    },
    {
     "name": "stdout",
     "output_type": "stream",
     "text": [
      "Decaying lr from 0.0005 to 0.00025 because val_loss did not improved for 5 epochs\n",
      "val_loss is not improved for 5 epochs\n",
      "                  validation\n",
      " - Yaw          :   1.023149\n",
      " - Pitch        :   0.741376\n",
      " - Roll         :   0.709988\n",
      " - RMS          :   0.836771\n",
      " - 99% Tile     :   4.777710\n",
      "Save output signals into checkpoint/1122-Scene3-CLSTM2-win48/sample/0067.npy\n"
     ]
    },
    {
     "name": "stderr",
     "output_type": "stream",
     "text": [
      "[0068/0100] Train: 100%|███████████████████████████████| 74/74 [00:04<00:00, 18.07it/s, loss 2.3070]\n",
      "[0068/0100] Validation: 100%|██████████████████████| 71/71 [00:02<00:00, 33.34it/s, val_loss 1.6187]\n",
      "[0069/0100] Train:   0%|                                                     | 0/74 [00:00<?, ?it/s]"
     ]
    },
    {
     "name": "stdout",
     "output_type": "stream",
     "text": [
      "                  validation\n",
      " - Yaw          :   0.968260\n",
      " - Pitch        :   0.728032\n",
      " - Roll         :   0.662764\n",
      " - RMS          :   0.797248\n",
      " - 99% Tile     :   4.729796\n",
      "Save output signals into checkpoint/1122-Scene3-CLSTM2-win48/sample/0068.npy\n"
     ]
    },
    {
     "name": "stderr",
     "output_type": "stream",
     "text": [
      "[0069/0100] Train: 100%|███████████████████████████████| 74/74 [00:04<00:00, 18.46it/s, loss 2.3297]\n",
      "[0069/0100] Validation: 100%|██████████████████████| 71/71 [00:02<00:00, 32.13it/s, val_loss 1.6710]\n",
      "[0070/0100] Train:   0%|                                                     | 0/74 [00:00<?, ?it/s]"
     ]
    },
    {
     "name": "stdout",
     "output_type": "stream",
     "text": [
      "val_loss is not improved for 1 epochs\n",
      "                  validation\n",
      " - Yaw          :   1.091171\n",
      " - Pitch        :   0.683253\n",
      " - Roll         :   0.657776\n",
      " - RMS          :   0.834697\n",
      " - 99% Tile     :   4.752349\n",
      "Save output signals into checkpoint/1122-Scene3-CLSTM2-win48/sample/0069.npy\n"
     ]
    },
    {
     "name": "stderr",
     "output_type": "stream",
     "text": [
      "[0070/0100] Train: 100%|███████████████████████████████| 74/74 [00:04<00:00, 18.06it/s, loss 2.2642]\n",
      "[0070/0100] Validation: 100%|██████████████████████| 71/71 [00:02<00:00, 31.98it/s, val_loss 1.6113]\n",
      "[0071/0100] Train:   0%|                                                     | 0/74 [00:00<?, ?it/s]"
     ]
    },
    {
     "name": "stdout",
     "output_type": "stream",
     "text": [
      "                  validation\n",
      " - Yaw          :   0.969685\n",
      " - Pitch        :   0.694880\n",
      " - Roll         :   0.640358\n",
      " - RMS          :   0.781709\n",
      " - 99% Tile     :   4.797459\n",
      "Save output signals into checkpoint/1122-Scene3-CLSTM2-win48/sample/0070.npy\n"
     ]
    },
    {
     "name": "stderr",
     "output_type": "stream",
     "text": [
      "[0071/0100] Train: 100%|███████████████████████████████| 74/74 [00:04<00:00, 18.19it/s, loss 2.1764]\n",
      "[0071/0100] Validation: 100%|██████████████████████| 71/71 [00:02<00:00, 32.28it/s, val_loss 1.6743]\n",
      "[0072/0100] Train:   0%|                                                     | 0/74 [00:00<?, ?it/s]"
     ]
    },
    {
     "name": "stdout",
     "output_type": "stream",
     "text": [
      "val_loss is not improved for 1 epochs\n",
      "                  validation\n",
      " - Yaw          :   1.071582\n",
      " - Pitch        :   0.707686\n",
      " - Roll         :   0.630731\n",
      " - RMS          :   0.826020\n",
      " - 99% Tile     :   4.717789\n",
      "Save output signals into checkpoint/1122-Scene3-CLSTM2-win48/sample/0071.npy\n"
     ]
    },
    {
     "name": "stderr",
     "output_type": "stream",
     "text": [
      "[0072/0100] Train: 100%|███████████████████████████████| 74/74 [00:04<00:00, 18.31it/s, loss 2.2715]\n",
      "[0072/0100] Validation: 100%|██████████████████████| 71/71 [00:02<00:00, 32.57it/s, val_loss 1.6721]\n",
      "[0073/0100] Train:   0%|                                                     | 0/74 [00:00<?, ?it/s]"
     ]
    },
    {
     "name": "stdout",
     "output_type": "stream",
     "text": [
      "val_loss is not improved for 2 epochs\n",
      "                  validation\n",
      " - Yaw          :   0.975427\n",
      " - Pitch        :   0.754265\n",
      " - Roll         :   0.665941\n",
      " - RMS          :   0.809084\n",
      " - 99% Tile     :   4.843005\n",
      "Save output signals into checkpoint/1122-Scene3-CLSTM2-win48/sample/0072.npy\n"
     ]
    },
    {
     "name": "stderr",
     "output_type": "stream",
     "text": [
      "[0073/0100] Train: 100%|███████████████████████████████| 74/74 [00:04<00:00, 18.47it/s, loss 2.1097]\n",
      "[0073/0100] Validation: 100%|██████████████████████| 71/71 [00:02<00:00, 32.63it/s, val_loss 1.5822]\n",
      "[0074/0100] Train:   0%|                                                     | 0/74 [00:00<?, ?it/s]"
     ]
    },
    {
     "name": "stdout",
     "output_type": "stream",
     "text": [
      "                  validation\n",
      " - Yaw          :   1.036276\n",
      " - Pitch        :   0.696345\n",
      " - Roll         :   0.630814\n",
      " - RMS          :   0.807608\n",
      " - 99% Tile     :   4.655237\n",
      "Save output signals into checkpoint/1122-Scene3-CLSTM2-win48/sample/0073.npy\n"
     ]
    },
    {
     "name": "stderr",
     "output_type": "stream",
     "text": [
      "[0074/0100] Train: 100%|███████████████████████████████| 74/74 [00:04<00:00, 18.13it/s, loss 2.1122]\n",
      "[0074/0100] Validation: 100%|██████████████████████| 71/71 [00:02<00:00, 32.47it/s, val_loss 1.5488]\n",
      "[0075/0100] Train:   0%|                                                     | 0/74 [00:00<?, ?it/s]"
     ]
    },
    {
     "name": "stdout",
     "output_type": "stream",
     "text": [
      "                  validation\n",
      " - Yaw          :   0.950931\n",
      " - Pitch        :   0.701771\n",
      " - Roll         :   0.630713\n",
      " - RMS          :   0.773423\n",
      " - 99% Tile     :   4.698697\n",
      "Save output signals into checkpoint/1122-Scene3-CLSTM2-win48/sample/0074.npy\n"
     ]
    },
    {
     "name": "stderr",
     "output_type": "stream",
     "text": [
      "[0075/0100] Train: 100%|███████████████████████████████| 74/74 [00:03<00:00, 18.54it/s, loss 2.2243]\n",
      "[0075/0100] Validation: 100%|██████████████████████| 71/71 [00:02<00:00, 32.57it/s, val_loss 1.9555]\n",
      "[0076/0100] Train:   0%|                                                     | 0/74 [00:00<?, ?it/s]"
     ]
    },
    {
     "name": "stdout",
     "output_type": "stream",
     "text": [
      "val_loss is not improved for 1 epochs\n",
      "                  validation\n",
      " - Yaw          :   1.283312\n",
      " - Pitch        :   0.766761\n",
      " - Roll         :   0.692694\n",
      " - RMS          :   0.951251\n",
      " - 99% Tile     :   4.975003\n",
      "Save output signals into checkpoint/1122-Scene3-CLSTM2-win48/sample/0075.npy\n"
     ]
    },
    {
     "name": "stderr",
     "output_type": "stream",
     "text": [
      "[0076/0100] Train: 100%|███████████████████████████████| 74/74 [00:04<00:00, 17.74it/s, loss 2.1572]\n",
      "[0076/0100] Validation: 100%|██████████████████████| 71/71 [00:02<00:00, 32.60it/s, val_loss 1.8065]\n",
      "[0077/0100] Train:   0%|                                                     | 0/74 [00:00<?, ?it/s]"
     ]
    },
    {
     "name": "stdout",
     "output_type": "stream",
     "text": [
      "val_loss is not improved for 2 epochs\n",
      "                  validation\n",
      " - Yaw          :   1.176358\n",
      " - Pitch        :   0.725696\n",
      " - Roll         :   0.654756\n",
      " - RMS          :   0.883017\n",
      " - 99% Tile     :   4.889930\n",
      "Save output signals into checkpoint/1122-Scene3-CLSTM2-win48/sample/0076.npy\n"
     ]
    },
    {
     "name": "stderr",
     "output_type": "stream",
     "text": [
      "[0077/0100] Train: 100%|███████████████████████████████| 74/74 [00:04<00:00, 18.14it/s, loss 2.1270]\n",
      "[0077/0100] Validation: 100%|██████████████████████| 71/71 [00:02<00:00, 31.86it/s, val_loss 1.6370]\n",
      "[0078/0100] Train:   0%|                                                     | 0/74 [00:00<?, ?it/s]"
     ]
    },
    {
     "name": "stdout",
     "output_type": "stream",
     "text": [
      "val_loss is not improved for 3 epochs\n",
      "                  validation\n",
      " - Yaw          :   1.017392\n",
      " - Pitch        :   0.694543\n",
      " - Roll         :   0.609267\n",
      " - RMS          :   0.793449\n",
      " - 99% Tile     :   4.810066\n",
      "Save output signals into checkpoint/1122-Scene3-CLSTM2-win48/sample/0077.npy\n"
     ]
    },
    {
     "name": "stderr",
     "output_type": "stream",
     "text": [
      "[0078/0100] Train: 100%|███████████████████████████████| 74/74 [00:04<00:00, 18.13it/s, loss 2.2310]\n",
      "[0078/0100] Validation: 100%|██████████████████████| 71/71 [00:02<00:00, 32.56it/s, val_loss 1.5424]\n",
      "[0079/0100] Train:   0%|                                                     | 0/74 [00:00<?, ?it/s]"
     ]
    },
    {
     "name": "stdout",
     "output_type": "stream",
     "text": [
      "                  validation\n",
      " - Yaw          :   0.983442\n",
      " - Pitch        :   0.678949\n",
      " - Roll         :   0.616289\n",
      " - RMS          :   0.776303\n",
      " - 99% Tile     :   4.603444\n",
      "Save output signals into checkpoint/1122-Scene3-CLSTM2-win48/sample/0078.npy\n"
     ]
    },
    {
     "name": "stderr",
     "output_type": "stream",
     "text": [
      "[0079/0100] Train: 100%|███████████████████████████████| 74/74 [00:04<00:00, 18.34it/s, loss 2.0357]\n",
      "[0079/0100] Validation: 100%|██████████████████████| 71/71 [00:02<00:00, 32.84it/s, val_loss 1.5997]\n",
      "[0080/0100] Train:   0%|                                                     | 0/74 [00:00<?, ?it/s]"
     ]
    },
    {
     "name": "stdout",
     "output_type": "stream",
     "text": [
      "val_loss is not improved for 1 epochs\n",
      "                  validation\n",
      " - Yaw          :   0.981405\n",
      " - Pitch        :   0.739245\n",
      " - Roll         :   0.609510\n",
      " - RMS          :   0.791863\n",
      " - 99% Tile     :   4.780063\n",
      "Save output signals into checkpoint/1122-Scene3-CLSTM2-win48/sample/0079.npy\n"
     ]
    },
    {
     "name": "stderr",
     "output_type": "stream",
     "text": [
      "[0080/0100] Train: 100%|███████████████████████████████| 74/74 [00:04<00:00, 18.07it/s, loss 2.0383]\n",
      "[0080/0100] Validation: 100%|██████████████████████| 71/71 [00:02<00:00, 33.12it/s, val_loss 1.5720]\n",
      "[0081/0100] Train:   0%|                                                     | 0/74 [00:00<?, ?it/s]"
     ]
    },
    {
     "name": "stdout",
     "output_type": "stream",
     "text": [
      "val_loss is not improved for 2 epochs\n",
      "                  validation\n",
      " - Yaw          :   0.956289\n",
      " - Pitch        :   0.715336\n",
      " - Roll         :   0.608278\n",
      " - RMS          :   0.773778\n",
      " - 99% Tile     :   4.752668\n",
      "Save output signals into checkpoint/1122-Scene3-CLSTM2-win48/sample/0080.npy\n"
     ]
    },
    {
     "name": "stderr",
     "output_type": "stream",
     "text": [
      "[0081/0100] Train: 100%|███████████████████████████████| 74/74 [00:04<00:00, 18.01it/s, loss 2.0499]\n",
      "[0081/0100] Validation: 100%|██████████████████████| 71/71 [00:02<00:00, 31.47it/s, val_loss 1.6410]\n",
      "[0082/0100] Train:   0%|                                                     | 0/74 [00:00<?, ?it/s]"
     ]
    },
    {
     "name": "stdout",
     "output_type": "stream",
     "text": [
      "val_loss is not improved for 3 epochs\n",
      "                  validation\n",
      " - Yaw          :   1.091086\n",
      " - Pitch        :   0.757056\n",
      " - Roll         :   0.634573\n",
      " - RMS          :   0.849762\n",
      " - 99% Tile     :   4.745605\n",
      "Save output signals into checkpoint/1122-Scene3-CLSTM2-win48/sample/0081.npy\n"
     ]
    },
    {
     "name": "stderr",
     "output_type": "stream",
     "text": [
      "[0082/0100] Train: 100%|███████████████████████████████| 74/74 [00:04<00:00, 18.20it/s, loss 2.0807]\n",
      "[0082/0100] Validation: 100%|██████████████████████| 71/71 [00:02<00:00, 33.16it/s, val_loss 1.5665]\n",
      "[0083/0100] Train:   0%|                                                     | 0/74 [00:00<?, ?it/s]"
     ]
    },
    {
     "name": "stdout",
     "output_type": "stream",
     "text": [
      "val_loss is not improved for 4 epochs\n",
      "                  validation\n",
      " - Yaw          :   0.984950\n",
      " - Pitch        :   0.730842\n",
      " - Roll         :   0.609479\n",
      " - RMS          :   0.790722\n",
      " - 99% Tile     :   4.681500\n",
      "Save output signals into checkpoint/1122-Scene3-CLSTM2-win48/sample/0082.npy\n"
     ]
    },
    {
     "name": "stderr",
     "output_type": "stream",
     "text": [
      "[0083/0100] Train: 100%|███████████████████████████████| 74/74 [00:04<00:00, 17.47it/s, loss 1.9775]\n",
      "[0083/0100] Validation: 100%|██████████████████████| 71/71 [00:02<00:00, 32.39it/s, val_loss 1.5157]\n",
      "[0084/0100] Train:   0%|                                                     | 0/74 [00:00<?, ?it/s]"
     ]
    },
    {
     "name": "stdout",
     "output_type": "stream",
     "text": [
      "                  validation\n",
      " - Yaw          :   0.923010\n",
      " - Pitch        :   0.754368\n",
      " - Roll         :   0.587974\n",
      " - RMS          :   0.767405\n",
      " - 99% Tile     :   4.666000\n",
      "Save output signals into checkpoint/1122-Scene3-CLSTM2-win48/sample/0083.npy\n"
     ]
    },
    {
     "name": "stderr",
     "output_type": "stream",
     "text": [
      "[0084/0100] Train: 100%|███████████████████████████████| 74/74 [00:04<00:00, 18.41it/s, loss 1.9832]\n",
      "[0084/0100] Validation: 100%|██████████████████████| 71/71 [00:02<00:00, 32.15it/s, val_loss 1.5187]\n",
      "[0085/0100] Train:   0%|                                                     | 0/74 [00:00<?, ?it/s]"
     ]
    },
    {
     "name": "stdout",
     "output_type": "stream",
     "text": [
      "val_loss is not improved for 1 epochs\n",
      "                  validation\n",
      " - Yaw          :   0.911615\n",
      " - Pitch        :   0.727125\n",
      " - Roll         :   0.597657\n",
      " - RMS          :   0.756515\n",
      " - 99% Tile     :   4.674890\n",
      "Save output signals into checkpoint/1122-Scene3-CLSTM2-win48/sample/0084.npy\n"
     ]
    },
    {
     "name": "stderr",
     "output_type": "stream",
     "text": [
      "[0085/0100] Train: 100%|███████████████████████████████| 74/74 [00:04<00:00, 18.42it/s, loss 2.0065]\n",
      "[0085/0100] Validation: 100%|██████████████████████| 71/71 [00:02<00:00, 32.84it/s, val_loss 1.7886]\n",
      "[0086/0100] Train:   0%|                                                     | 0/74 [00:00<?, ?it/s]"
     ]
    },
    {
     "name": "stdout",
     "output_type": "stream",
     "text": [
      "val_loss is not improved for 2 epochs\n",
      "                  validation\n",
      " - Yaw          :   1.210177\n",
      " - Pitch        :   0.720393\n",
      " - Roll         :   0.618560\n",
      " - RMS          :   0.888090\n",
      " - 99% Tile     :   4.854068\n",
      "Save output signals into checkpoint/1122-Scene3-CLSTM2-win48/sample/0085.npy\n"
     ]
    },
    {
     "name": "stderr",
     "output_type": "stream",
     "text": [
      "[0086/0100] Train: 100%|███████████████████████████████| 74/74 [00:04<00:00, 18.19it/s, loss 2.0005]\n",
      "[0086/0100] Validation: 100%|██████████████████████| 71/71 [00:02<00:00, 31.35it/s, val_loss 1.6449]\n",
      "[0087/0100] Train:   0%|                                                     | 0/74 [00:00<?, ?it/s]"
     ]
    },
    {
     "name": "stdout",
     "output_type": "stream",
     "text": [
      "val_loss is not improved for 3 epochs\n",
      "                  validation\n",
      " - Yaw          :   0.971409\n",
      " - Pitch        :   0.694028\n",
      " - Roll         :   0.618506\n",
      " - RMS          :   0.776286\n",
      " - 99% Tile     :   4.855660\n",
      "Save output signals into checkpoint/1122-Scene3-CLSTM2-win48/sample/0086.npy\n"
     ]
    },
    {
     "name": "stderr",
     "output_type": "stream",
     "text": [
      "[0087/0100] Train: 100%|███████████████████████████████| 74/74 [00:04<00:00, 18.27it/s, loss 2.0166]\n",
      "[0087/0100] Validation: 100%|██████████████████████| 71/71 [00:02<00:00, 32.51it/s, val_loss 1.6336]\n",
      "[0088/0100] Train:   0%|                                                     | 0/74 [00:00<?, ?it/s]"
     ]
    },
    {
     "name": "stdout",
     "output_type": "stream",
     "text": [
      "val_loss is not improved for 4 epochs\n",
      "                  validation\n",
      " - Yaw          :   0.997030\n",
      " - Pitch        :   0.708329\n",
      " - Roll         :   0.591959\n",
      " - RMS          :   0.784478\n",
      " - 99% Tile     :   4.791011\n",
      "Save output signals into checkpoint/1122-Scene3-CLSTM2-win48/sample/0087.npy\n"
     ]
    },
    {
     "name": "stderr",
     "output_type": "stream",
     "text": [
      "[0088/0100] Train: 100%|███████████████████████████████| 74/74 [00:04<00:00, 18.11it/s, loss 1.9691]\n",
      "[0088/0100] Validation: 100%|██████████████████████| 71/71 [00:02<00:00, 33.03it/s, val_loss 1.5931]\n",
      "[0089/0100] Train:   0%|                                                     | 0/74 [00:00<?, ?it/s]"
     ]
    },
    {
     "name": "stdout",
     "output_type": "stream",
     "text": [
      "Decaying lr from 0.00025 to 0.000125 because val_loss did not improved for 5 epochs\n",
      "val_loss is not improved for 5 epochs\n",
      "                  validation\n",
      " - Yaw          :   1.045362\n",
      " - Pitch        :   0.667190\n",
      " - Roll         :   0.586716\n",
      " - RMS          :   0.792078\n",
      " - 99% Tile     :   4.773124\n",
      "Save output signals into checkpoint/1122-Scene3-CLSTM2-win48/sample/0088.npy\n"
     ]
    },
    {
     "name": "stderr",
     "output_type": "stream",
     "text": [
      "[0089/0100] Train: 100%|███████████████████████████████| 74/74 [00:04<00:00, 17.92it/s, loss 1.9251]\n",
      "[0089/0100] Validation: 100%|██████████████████████| 71/71 [00:02<00:00, 32.98it/s, val_loss 1.4777]\n",
      "[0090/0100] Train:   0%|                                                     | 0/74 [00:00<?, ?it/s]"
     ]
    },
    {
     "name": "stdout",
     "output_type": "stream",
     "text": [
      "                  validation\n",
      " - Yaw          :   0.959948\n",
      " - Pitch        :   0.665272\n",
      " - Roll         :   0.593825\n",
      " - RMS          :   0.756464\n",
      " - 99% Tile     :   4.602439\n",
      "Save output signals into checkpoint/1122-Scene3-CLSTM2-win48/sample/0089.npy\n"
     ]
    },
    {
     "name": "stderr",
     "output_type": "stream",
     "text": [
      "[0090/0100] Train: 100%|███████████████████████████████| 74/74 [00:04<00:00, 17.86it/s, loss 1.8141]\n",
      "[0090/0100] Validation: 100%|██████████████████████| 71/71 [00:02<00:00, 31.80it/s, val_loss 1.4355]\n",
      "[0091/0100] Train:   0%|                                                     | 0/74 [00:00<?, ?it/s]"
     ]
    },
    {
     "name": "stdout",
     "output_type": "stream",
     "text": [
      "                  validation\n",
      " - Yaw          :   0.887347\n",
      " - Pitch        :   0.680043\n",
      " - Roll         :   0.562611\n",
      " - RMS          :   0.722582\n",
      " - 99% Tile     :   4.557425\n",
      "Save output signals into checkpoint/1122-Scene3-CLSTM2-win48/sample/0090.npy\n"
     ]
    },
    {
     "name": "stderr",
     "output_type": "stream",
     "text": [
      "[0091/0100] Train: 100%|███████████████████████████████| 74/74 [00:04<00:00, 17.92it/s, loss 1.8849]\n",
      "[0091/0100] Validation: 100%|██████████████████████| 71/71 [00:02<00:00, 31.32it/s, val_loss 1.4128]\n",
      "[0092/0100] Train:   0%|                                                     | 0/74 [00:00<?, ?it/s]"
     ]
    },
    {
     "name": "stdout",
     "output_type": "stream",
     "text": [
      "                  validation\n",
      " - Yaw          :   0.864187\n",
      " - Pitch        :   0.697245\n",
      " - Roll         :   0.576793\n",
      " - RMS          :   0.722417\n",
      " - 99% Tile     :   4.485814\n",
      "Save output signals into checkpoint/1122-Scene3-CLSTM2-win48/sample/0091.npy\n"
     ]
    },
    {
     "name": "stderr",
     "output_type": "stream",
     "text": [
      "[0092/0100] Train: 100%|███████████████████████████████| 74/74 [00:04<00:00, 18.22it/s, loss 1.8624]\n",
      "[0092/0100] Validation: 100%|██████████████████████| 71/71 [00:02<00:00, 32.48it/s, val_loss 1.4746]\n",
      "[0093/0100] Train:   0%|                                                     | 0/74 [00:00<?, ?it/s]"
     ]
    },
    {
     "name": "stdout",
     "output_type": "stream",
     "text": [
      "val_loss is not improved for 1 epochs\n",
      "                  validation\n",
      " - Yaw          :   0.971281\n",
      " - Pitch        :   0.661748\n",
      " - Roll         :   0.580110\n",
      " - RMS          :   0.756709\n",
      " - 99% Tile     :   4.593423\n",
      "Save output signals into checkpoint/1122-Scene3-CLSTM2-win48/sample/0092.npy\n"
     ]
    },
    {
     "name": "stderr",
     "output_type": "stream",
     "text": [
      "[0093/0100] Train: 100%|███████████████████████████████| 74/74 [00:04<00:00, 17.68it/s, loss 1.8147]\n",
      "[0093/0100] Validation: 100%|██████████████████████| 71/71 [00:02<00:00, 31.32it/s, val_loss 1.4370]\n",
      "[0094/0100] Train:   0%|                                                     | 0/74 [00:00<?, ?it/s]"
     ]
    },
    {
     "name": "stdout",
     "output_type": "stream",
     "text": [
      "val_loss is not improved for 2 epochs\n",
      "                  validation\n",
      " - Yaw          :   0.927414\n",
      " - Pitch        :   0.665985\n",
      " - Roll         :   0.572147\n",
      " - RMS          :   0.737334\n",
      " - 99% Tile     :   4.554730\n",
      "Save output signals into checkpoint/1122-Scene3-CLSTM2-win48/sample/0093.npy\n"
     ]
    },
    {
     "name": "stderr",
     "output_type": "stream",
     "text": [
      "[0094/0100] Train: 100%|███████████████████████████████| 74/74 [00:04<00:00, 17.68it/s, loss 1.8678]\n",
      "[0094/0100] Validation: 100%|██████████████████████| 71/71 [00:02<00:00, 31.85it/s, val_loss 1.5401]\n",
      "[0095/0100] Train:   0%|                                                     | 0/74 [00:00<?, ?it/s]"
     ]
    },
    {
     "name": "stdout",
     "output_type": "stream",
     "text": [
      "val_loss is not improved for 3 epochs\n",
      "                  validation\n",
      " - Yaw          :   1.009035\n",
      " - Pitch        :   0.722826\n",
      " - Roll         :   0.575246\n",
      " - RMS          :   0.789839\n",
      " - 99% Tile     :   4.586688\n",
      "Save output signals into checkpoint/1122-Scene3-CLSTM2-win48/sample/0094.npy\n"
     ]
    },
    {
     "name": "stderr",
     "output_type": "stream",
     "text": [
      "[0095/0100] Train: 100%|███████████████████████████████| 74/74 [00:04<00:00, 17.89it/s, loss 1.7623]\n",
      "[0095/0100] Validation: 100%|██████████████████████| 71/71 [00:02<00:00, 32.91it/s, val_loss 1.4893]\n",
      "[0096/0100] Train:   0%|                                                     | 0/74 [00:00<?, ?it/s]"
     ]
    },
    {
     "name": "stdout",
     "output_type": "stream",
     "text": [
      "val_loss is not improved for 4 epochs\n",
      "                  validation\n",
      " - Yaw          :   0.929467\n",
      " - Pitch        :   0.671325\n",
      " - Roll         :   0.568136\n",
      " - RMS          :   0.738775\n",
      " - 99% Tile     :   4.674448\n",
      "Save output signals into checkpoint/1122-Scene3-CLSTM2-win48/sample/0095.npy\n"
     ]
    },
    {
     "name": "stderr",
     "output_type": "stream",
     "text": [
      "[0096/0100] Train: 100%|███████████████████████████████| 74/74 [00:03<00:00, 18.94it/s, loss 1.7595]\n",
      "[0096/0100] Validation: 100%|██████████████████████| 71/71 [00:02<00:00, 32.48it/s, val_loss 1.4717]\n",
      "[0097/0100] Train:   0%|                                                     | 0/74 [00:00<?, ?it/s]"
     ]
    },
    {
     "name": "stdout",
     "output_type": "stream",
     "text": [
      "Decaying lr from 0.000125 to 6.25e-05 because val_loss did not improved for 5 epochs\n",
      "val_loss is not improved for 5 epochs\n",
      "                  validation\n",
      " - Yaw          :   0.933413\n",
      " - Pitch        :   0.645745\n",
      " - Roll         :   0.577153\n",
      " - RMS          :   0.735153\n",
      " - 99% Tile     :   4.602436\n",
      "Save output signals into checkpoint/1122-Scene3-CLSTM2-win48/sample/0096.npy\n"
     ]
    },
    {
     "name": "stderr",
     "output_type": "stream",
     "text": [
      "[0097/0100] Train: 100%|███████████████████████████████| 74/74 [00:04<00:00, 17.96it/s, loss 1.8685]\n",
      "[0097/0100] Validation: 100%|██████████████████████| 71/71 [00:02<00:00, 31.09it/s, val_loss 1.5597]\n",
      "[0098/0100] Train:   0%|                                                     | 0/74 [00:00<?, ?it/s]"
     ]
    },
    {
     "name": "stdout",
     "output_type": "stream",
     "text": [
      "val_loss is not improved for 6 epochs\n",
      "                  validation\n",
      " - Yaw          :   0.984956\n",
      " - Pitch        :   0.702280\n",
      " - Roll         :   0.593550\n",
      " - RMS          :   0.777954\n",
      " - 99% Tile     :   4.653567\n",
      "Save output signals into checkpoint/1122-Scene3-CLSTM2-win48/sample/0097.npy\n"
     ]
    },
    {
     "name": "stderr",
     "output_type": "stream",
     "text": [
      "[0098/0100] Train: 100%|███████████████████████████████| 74/74 [00:04<00:00, 17.67it/s, loss 1.7388]\n",
      "[0098/0100] Validation: 100%|██████████████████████| 71/71 [00:02<00:00, 31.29it/s, val_loss 1.4635]\n",
      "[0099/0100] Train:   0%|                                                     | 0/74 [00:00<?, ?it/s]"
     ]
    },
    {
     "name": "stdout",
     "output_type": "stream",
     "text": [
      "val_loss is not improved for 7 epochs\n",
      "                  validation\n",
      " - Yaw          :   0.932064\n",
      " - Pitch        :   0.667059\n",
      " - Roll         :   0.579355\n",
      " - RMS          :   0.741477\n",
      " - 99% Tile     :   4.560176\n",
      "Save output signals into checkpoint/1122-Scene3-CLSTM2-win48/sample/0098.npy\n"
     ]
    },
    {
     "name": "stderr",
     "output_type": "stream",
     "text": [
      "[0099/0100] Train: 100%|███████████████████████████████| 74/74 [00:04<00:00, 18.34it/s, loss 1.7196]\n",
      "[0099/0100] Validation: 100%|██████████████████████| 71/71 [00:02<00:00, 31.93it/s, val_loss 1.4954]\n",
      "[0100/0100] Train:   0%|                                                     | 0/74 [00:00<?, ?it/s]"
     ]
    },
    {
     "name": "stdout",
     "output_type": "stream",
     "text": [
      "val_loss is not improved for 8 epochs\n",
      "                  validation\n",
      " - Yaw          :   0.998718\n",
      " - Pitch        :   0.659817\n",
      " - Roll         :   0.578673\n",
      " - RMS          :   0.767606\n",
      " - 99% Tile     :   4.626479\n",
      "Save output signals into checkpoint/1122-Scene3-CLSTM2-win48/sample/0099.npy\n"
     ]
    },
    {
     "name": "stderr",
     "output_type": "stream",
     "text": [
      "[0100/0100] Train: 100%|███████████████████████████████| 74/74 [00:03<00:00, 18.67it/s, loss 1.7272]\n",
      "[0100/0100] Validation: 100%|██████████████████████| 71/71 [00:02<00:00, 32.38it/s, val_loss 1.4385]"
     ]
    },
    {
     "name": "stdout",
     "output_type": "stream",
     "text": [
      "val_loss is not improved for 9 epochs\n",
      "                  validation\n",
      " - Yaw          :   0.907591\n",
      " - Pitch        :   0.660363\n",
      " - Roll         :   0.572447\n",
      " - RMS          :   0.727437\n",
      " - 99% Tile     :   4.609203\n",
      "Save output signals into checkpoint/1122-Scene3-CLSTM2-win48/sample/0100.npy\n"
     ]
    },
    {
     "name": "stderr",
     "output_type": "stream",
     "text": [
      "\n"
     ]
    }
   ],
   "source": [
    "trainer.fit(ds_train, ds_test, num_epochs=100, batch_size=256, shuffle=True, pin_memory=True)"
   ]
  },
  {
   "cell_type": "code",
   "execution_count": null,
   "metadata": {},
   "outputs": [],
   "source": []
  }
 ],
 "metadata": {
  "kernelspec": {
   "display_name": "torch",
   "language": "python",
   "name": "torch"
  },
  "language_info": {
   "codemirror_mode": {
    "name": "ipython",
    "version": 3
   },
   "file_extension": ".py",
   "mimetype": "text/x-python",
   "name": "python",
   "nbconvert_exporter": "python",
   "pygments_lexer": "ipython3",
   "version": "3.7.9"
  }
 },
 "nbformat": 4,
 "nbformat_minor": 4
}
