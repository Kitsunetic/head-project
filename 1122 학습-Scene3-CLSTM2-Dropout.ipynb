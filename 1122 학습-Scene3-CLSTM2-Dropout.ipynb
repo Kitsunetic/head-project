{
 "cells": [
  {
   "cell_type": "markdown",
   "metadata": {},
   "source": [
    "# 학습 결과\n",
    "\n",
    "user1의 scene 1~3만 사용해서 학습\n",
    "\n",
    "scene보다 user가 많기 때문에 데이터의 양이 확연히 줄어듬에도 불구하고 성능이 괜찮음.  \n",
    "적은 데이터 특화됐기 때문인지는 모르겠다.\n",
    "\n",
    "나머지 scene에 대해서도 잘 학습을 하면서 user에 대해서도 특화된다면 성능을 상당히 끌어올릴 수 있을 것으로 기대됨.  \n",
    "--> curriculum learning"
   ]
  },
  {
   "cell_type": "code",
   "execution_count": 1,
   "metadata": {},
   "outputs": [],
   "source": [
    "from multiprocessing import cpu_count\n",
    "from pathlib import Path\n",
    "from typing import List, Union, AnyStr\n",
    "from math import pi\n",
    "import pickle\n",
    "\n",
    "import numpy as np\n",
    "import torch\n",
    "import matplotlib.pyplot as plt\n",
    "import torch.nn as nn\n",
    "from sklearn import model_selection\n",
    "from tqdm import tqdm\n",
    "import torch_optimizer\n",
    "from torch.utils.data import Dataset\n",
    "import pandas as pd\n",
    "import random\n",
    "\n",
    "import torch_burn as tb\n",
    "import utils"
   ]
  },
  {
   "cell_type": "code",
   "execution_count": 2,
   "metadata": {},
   "outputs": [],
   "source": [
    "EXPERIMENT_NAME = '1122-Scene3-CLSTM2-dropout-win48'\n",
    "CHECKPOINT_DIR = Path('checkpoint', EXPERIMENT_NAME)\n",
    "CHECKPOINT_DIR.mkdir(parents=True, exist_ok=True)\n",
    "\n",
    "DATA_DIR = Path('data/1116')\n",
    "TRAIN_FILES = sorted(list(DATA_DIR.glob('*scene3_0.csv')))\n",
    "TEST_FILES = sorted(list(DATA_DIR.glob('*scene3_1.csv')))"
   ]
  },
  {
   "cell_type": "markdown",
   "metadata": {},
   "source": [
    "# 데이터셋 생성\n",
    "\n",
    "scene1에 대해서 모든 user의 데이터를 하나로 합친다."
   ]
  },
  {
   "cell_type": "code",
   "execution_count": 3,
   "metadata": {},
   "outputs": [],
   "source": [
    "WINDOW_SIZE = 48"
   ]
  },
  {
   "cell_type": "code",
   "execution_count": 4,
   "metadata": {},
   "outputs": [],
   "source": [
    "class CSVSequentialDataset(Dataset):\n",
    "    def __init__(self, csvfile,\n",
    "                 window_size=300, randomized_window_size=False,\n",
    "                 stride=30, randomized_stride=False):\n",
    "        super(CSVSequentialDataset, self).__init__()\n",
    "\n",
    "        self.xcols = ['input_orientation_yaw', 'input_orientation_pitch', 'input_orientation_roll',\n",
    "                      'acceleration_x', 'acceleration_y', 'acceleration_z']\n",
    "        self.ycols = ['input_orientation_yaw', 'input_orientation_pitch', 'input_orientation_roll']\n",
    "\n",
    "        self.csv = pd.read_csv(csvfile)\n",
    "        self.window_size = window_size\n",
    "\n",
    "        self.indexes = []\n",
    "        i = 0\n",
    "        while i <= len(self.csv) - window_size * 2:\n",
    "            if randomized_window_size:\n",
    "                self.indexes.append((i, i + random.randint(window_size // 2, window_size)))\n",
    "            else:\n",
    "                self.indexes.append((i, i + window_size))\n",
    "\n",
    "            if randomized_stride:\n",
    "                i += random.randint(1, stride)\n",
    "            else:\n",
    "                i += stride\n",
    "\n",
    "    def __len__(self):\n",
    "        return len(self.indexes)\n",
    "\n",
    "    def __getitem__(self, idx):\n",
    "        s, t = self.indexes[idx]\n",
    "        x = self.csv.iloc[s:t][self.xcols].to_numpy()\n",
    "        y = self.csv.iloc[t + 6][self.ycols].to_numpy()\n",
    "\n",
    "        x = torch.tensor(x, dtype=torch.float32) # 300, 6\n",
    "        y = torch.tensor(y, dtype=torch.float32) # 3\n",
    "        \n",
    "        #x[:, :3] *= pi / 180\n",
    "        x[:, 3:] /= 10\n",
    "\n",
    "        return x, y"
   ]
  },
  {
   "cell_type": "code",
   "execution_count": 5,
   "metadata": {},
   "outputs": [],
   "source": [
    "ds_train = [CSVSequentialDataset(f,  \n",
    "                                 window_size=WINDOW_SIZE, randomized_window_size=False,\n",
    "                                 stride=5, randomized_stride=True) for f in TRAIN_FILES]\n",
    "ds_train = tb.data.ChainDataset(*ds_train)\n",
    "ds_test = [CSVSequentialDataset(f,  \n",
    "                                window_size=WINDOW_SIZE, randomized_window_size=False,\n",
    "                                stride=5, randomized_stride=True) for f in TEST_FILES]\n",
    "ds_test = tb.data.ChainDataset(*ds_test)"
   ]
  },
  {
   "cell_type": "code",
   "execution_count": 6,
   "metadata": {},
   "outputs": [
    {
     "data": {
      "text/plain": [
       "(18735, 18088)"
      ]
     },
     "execution_count": 6,
     "metadata": {},
     "output_type": "execute_result"
    }
   ],
   "source": [
    "len(ds_train), len(ds_test)"
   ]
  },
  {
   "cell_type": "code",
   "execution_count": 7,
   "metadata": {},
   "outputs": [
    {
     "data": {
      "text/plain": [
       "(torch.Size([48, 6]), torch.Size([3]))"
      ]
     },
     "execution_count": 7,
     "metadata": {},
     "output_type": "execute_result"
    }
   ],
   "source": [
    "ds_train[0][0].shape, ds_train[0][1].shape"
   ]
  },
  {
   "cell_type": "code",
   "execution_count": 8,
   "metadata": {},
   "outputs": [],
   "source": [
    "x, y = ds_train[0]"
   ]
  },
  {
   "cell_type": "code",
   "execution_count": 9,
   "metadata": {},
   "outputs": [
    {
     "data": {
      "text/plain": [
       "torch.Size([48, 6])"
      ]
     },
     "execution_count": 9,
     "metadata": {},
     "output_type": "execute_result"
    }
   ],
   "source": [
    "x.shape"
   ]
  },
  {
   "cell_type": "code",
   "execution_count": 10,
   "metadata": {},
   "outputs": [
    {
     "data": {
      "text/plain": [
       "[<matplotlib.lines.Line2D at 0x7f1027785f10>]"
      ]
     },
     "execution_count": 10,
     "metadata": {},
     "output_type": "execute_result"
    },
    {
     "data": {
      "image/png": "[encoded data removed]",
      "text/plain": [
       "<Figure size 432x288 with 1 Axes>"
      ]
     },
     "metadata": {
      "needs_background": "light"
     },
     "output_type": "display_data"
    }
   ],
   "source": [
    "plt.plot(x[:, 2])"
   ]
  },
  {
   "cell_type": "markdown",
   "metadata": {},
   "source": [
    "# 모델 생성"
   ]
  },
  {
   "cell_type": "code",
   "execution_count": 11,
   "metadata": {},
   "outputs": [],
   "source": [
    "class CLSTM(nn.Module):\n",
    "    def __init__(self, input_size=6, hidden_size=24, num_layers=8, dropout=0.0, bidirectional=False):\n",
    "        super(CLSTM, self).__init__()\n",
    "\n",
    "        self.conv_in = nn.Sequential(\n",
    "            nn.Conv1d(input_size, 12, 5, padding=2),\n",
    "            nn.BatchNorm1d(12),\n",
    "            nn.LeakyReLU(),\n",
    "            nn.Conv1d(12, 24, 5, padding=2),\n",
    "            nn.BatchNorm1d(24),\n",
    "        )\n",
    "\n",
    "        self.rnn = nn.LSTM(input_size=24,\n",
    "                           hidden_size=hidden_size,\n",
    "                           num_layers=num_layers,\n",
    "                           batch_first=True,\n",
    "                           dropout=dropout,\n",
    "                           bidirectional=bidirectional)\n",
    "\n",
    "        out_channels = 2 * hidden_size if bidirectional else hidden_size\n",
    "        self.fc = nn.Sequential(\n",
    "            nn.Linear(out_channels, out_channels // 2),\n",
    "            nn.LeakyReLU(),\n",
    "            nn.Dropout(0.2),\n",
    "            nn.Linear(out_channels // 2, 3)\n",
    "        )\n",
    "\n",
    "    def forward(self, x):\n",
    "        x = x.transpose(1, 2)  # B, 48, 6 --> B, 6, 48\n",
    "        x = self.conv_in(x)  # B, 64, 48\n",
    "        x = x.transpose(1, 2)  # B, 48, 64\n",
    "\n",
    "        outs, (hiddens, cells) = self.rnn(x)\n",
    "        x = outs[:, -1, ...]\n",
    "        x = self.fc(x)\n",
    "\n",
    "        return x"
   ]
  },
  {
   "cell_type": "code",
   "execution_count": 12,
   "metadata": {},
   "outputs": [],
   "source": [
    "model = CLSTM(input_size=6, hidden_size=64, num_layers=8, dropout=0.2, bidirectional=True).cuda()"
   ]
  },
  {
   "cell_type": "code",
   "execution_count": 13,
   "metadata": {},
   "outputs": [],
   "source": [
    "criterion = nn.MSELoss().cuda()\n",
    "optimizer = torch_optimizer.RAdam(model.parameters())"
   ]
  },
  {
   "cell_type": "code",
   "execution_count": 14,
   "metadata": {},
   "outputs": [],
   "source": [
    "metrics = [tb.metrics.ModuleMetric(criterion, 'loss'),\n",
    "           utils.HPMetric('hp_metric'),\n",
    "           utils.HPSignalHistory(CHECKPOINT_DIR / 'sample' / '{epoch:04d}.npy', 'hp_signal', verbose=False)]"
   ]
  },
  {
   "cell_type": "code",
   "execution_count": 15,
   "metadata": {},
   "outputs": [],
   "source": [
    "callbacks = [tb.callbacks.EarlyStopping(metrics[0]),\n",
    "             tb.callbacks.LRDecaying(optimizer, metrics[0])]"
   ]
  },
  {
   "cell_type": "code",
   "execution_count": 16,
   "metadata": {},
   "outputs": [],
   "source": [
    "trainer = tb.Trainer(model, optimizer, metrics, callbacks, ncols=100)"
   ]
  },
  {
   "cell_type": "code",
   "execution_count": 18,
   "metadata": {},
   "outputs": [
    {
     "name": "stderr",
     "output_type": "stream",
     "text": [
      "[0101/0200] Train: 100%|███████████████████████████████| 74/74 [00:04<00:00, 18.18it/s, loss 7.4330]\n",
      "[0101/0200] Validation: 100%|██████████████████████| 71/71 [00:02<00:00, 32.49it/s, val_loss 4.6093]\n",
      "[0102/0200] Train:   0%|                                                     | 0/74 [00:00<?, ?it/s]"
     ]
    },
    {
     "name": "stdout",
     "output_type": "stream",
     "text": [
      "val_loss is not improved for 3 epochs\n",
      "                  validation\n",
      " - Yaw          :   0.993626\n",
      " - Pitch        :   0.921879\n",
      " - Roll         :   2.159051\n",
      " - RMS          :   1.471808\n",
      " - 99% Tile     :   7.091050\n"
     ]
    },
    {
     "name": "stderr",
     "output_type": "stream",
     "text": [
      "[0102/0200] Train: 100%|███████████████████████████████| 74/74 [00:03<00:00, 18.54it/s, loss 7.4505]\n",
      "[0102/0200] Validation: 100%|██████████████████████| 71/71 [00:02<00:00, 33.86it/s, val_loss 4.6072]\n",
      "[0103/0200] Train:   0%|                                                     | 0/74 [00:00<?, ?it/s]"
     ]
    },
    {
     "name": "stdout",
     "output_type": "stream",
     "text": [
      "val_loss is not improved for 4 epochs\n",
      "                  validation\n",
      " - Yaw          :   1.013863\n",
      " - Pitch        :   0.898855\n",
      " - Roll         :   2.163293\n",
      " - RMS          :   1.473736\n",
      " - 99% Tile     :   7.178770\n"
     ]
    },
    {
     "name": "stderr",
     "output_type": "stream",
     "text": [
      "[0103/0200] Train: 100%|███████████████████████████████| 74/74 [00:04<00:00, 18.35it/s, loss 7.3846]\n",
      "[0103/0200] Validation: 100%|██████████████████████| 71/71 [00:02<00:00, 33.37it/s, val_loss 4.5610]\n",
      "[0104/0200] Train:   0%|                                                     | 0/74 [00:00<?, ?it/s]"
     ]
    },
    {
     "name": "stdout",
     "output_type": "stream",
     "text": [
      "                  validation\n",
      " - Yaw          :   0.979474\n",
      " - Pitch        :   0.892288\n",
      " - Roll         :   2.148239\n",
      " - RMS          :   1.457221\n",
      " - 99% Tile     :   7.096126\n"
     ]
    },
    {
     "name": "stderr",
     "output_type": "stream",
     "text": [
      "[0104/0200] Train: 100%|███████████████████████████████| 74/74 [00:03<00:00, 18.70it/s, loss 7.3620]\n",
      "[0104/0200] Validation: 100%|██████████████████████| 71/71 [00:02<00:00, 33.63it/s, val_loss 4.5614]\n",
      "[0105/0200] Train:   0%|                                                     | 0/74 [00:00<?, ?it/s]"
     ]
    },
    {
     "name": "stdout",
     "output_type": "stream",
     "text": [
      "val_loss is not improved for 1 epochs\n",
      "                  validation\n",
      " - Yaw          :   0.909477\n",
      " - Pitch        :   0.921561\n",
      " - Roll         :   2.152188\n",
      " - RMS          :   1.450096\n",
      " - 99% Tile     :   7.156167\n"
     ]
    },
    {
     "name": "stderr",
     "output_type": "stream",
     "text": [
      "[0105/0200] Train: 100%|███████████████████████████████| 74/74 [00:03<00:00, 18.56it/s, loss 7.2914]\n",
      "[0105/0200] Validation: 100%|██████████████████████| 71/71 [00:02<00:00, 33.83it/s, val_loss 4.5359]\n",
      "[0106/0200] Train:   0%|                                                     | 0/74 [00:00<?, ?it/s]"
     ]
    },
    {
     "name": "stdout",
     "output_type": "stream",
     "text": [
      "                  validation\n",
      " - Yaw          :   0.905612\n",
      " - Pitch        :   0.879998\n",
      " - Roll         :   2.155230\n",
      " - RMS          :   1.442168\n",
      " - 99% Tile     :   7.114347\n"
     ]
    },
    {
     "name": "stderr",
     "output_type": "stream",
     "text": [
      "[0106/0200] Train: 100%|███████████████████████████████| 74/74 [00:04<00:00, 17.98it/s, loss 7.1924]\n",
      "[0106/0200] Validation: 100%|██████████████████████| 71/71 [00:02<00:00, 33.22it/s, val_loss 4.5981]\n",
      "[0107/0200] Train:   0%|                                                     | 0/74 [00:00<?, ?it/s]"
     ]
    },
    {
     "name": "stdout",
     "output_type": "stream",
     "text": [
      "val_loss is not improved for 1 epochs\n",
      "                  validation\n",
      " - Yaw          :   0.968807\n",
      " - Pitch        :   1.000450\n",
      " - Roll         :   2.119742\n",
      " - RMS          :   1.464331\n",
      " - 99% Tile     :   7.063752\n"
     ]
    },
    {
     "name": "stderr",
     "output_type": "stream",
     "text": [
      "[0107/0200] Train: 100%|███████████████████████████████| 74/74 [00:04<00:00, 17.67it/s, loss 7.3968]\n",
      "[0107/0200] Validation: 100%|██████████████████████| 71/71 [00:02<00:00, 32.52it/s, val_loss 4.6169]\n",
      "[0108/0200] Train:   0%|                                                     | 0/74 [00:00<?, ?it/s]"
     ]
    },
    {
     "name": "stdout",
     "output_type": "stream",
     "text": [
      "val_loss is not improved for 2 epochs\n",
      "                  validation\n",
      " - Yaw          :   1.120696\n",
      " - Pitch        :   0.890308\n",
      " - Roll         :   2.119943\n",
      " - RMS          :   1.476795\n",
      " - 99% Tile     :   7.065934\n"
     ]
    },
    {
     "name": "stderr",
     "output_type": "stream",
     "text": [
      "[0108/0200] Train: 100%|███████████████████████████████| 74/74 [00:04<00:00, 18.41it/s, loss 7.3135]\n",
      "[0108/0200] Validation: 100%|██████████████████████| 71/71 [00:02<00:00, 33.40it/s, val_loss 4.5102]\n",
      "[0109/0200] Train:   0%|                                                     | 0/74 [00:00<?, ?it/s]"
     ]
    },
    {
     "name": "stdout",
     "output_type": "stream",
     "text": [
      "                  validation\n",
      " - Yaw          :   0.961347\n",
      " - Pitch        :   0.914935\n",
      " - Roll         :   2.122138\n",
      " - RMS          :   1.445079\n",
      " - 99% Tile     :   7.055684\n"
     ]
    },
    {
     "name": "stderr",
     "output_type": "stream",
     "text": [
      "[0109/0200] Train: 100%|███████████████████████████████| 74/74 [00:04<00:00, 18.48it/s, loss 7.2819]\n",
      "[0109/0200] Validation: 100%|██████████████████████| 71/71 [00:02<00:00, 32.74it/s, val_loss 4.5111]\n",
      "[0110/0200] Train:   0%|                                                     | 0/74 [00:00<?, ?it/s]"
     ]
    },
    {
     "name": "stdout",
     "output_type": "stream",
     "text": [
      "val_loss is not improved for 1 epochs\n",
      "                  validation\n",
      " - Yaw          :   0.990283\n",
      " - Pitch        :   0.932153\n",
      " - Roll         :   2.102490\n",
      " - RMS          :   1.445687\n",
      " - 99% Tile     :   7.017225\n"
     ]
    },
    {
     "name": "stderr",
     "output_type": "stream",
     "text": [
      "[0110/0200] Train: 100%|███████████████████████████████| 74/74 [00:04<00:00, 18.12it/s, loss 7.2352]\n",
      "[0110/0200] Validation: 100%|██████████████████████| 71/71 [00:02<00:00, 33.91it/s, val_loss 4.7046]\n",
      "[0111/0200] Train:   0%|                                                     | 0/74 [00:00<?, ?it/s]"
     ]
    },
    {
     "name": "stdout",
     "output_type": "stream",
     "text": [
      "val_loss is not improved for 2 epochs\n",
      "                  validation\n",
      " - Yaw          :   1.152565\n",
      " - Pitch        :   0.927474\n",
      " - Roll         :   2.100702\n",
      " - RMS          :   1.483415\n",
      " - 99% Tile     :   7.174766\n"
     ]
    },
    {
     "name": "stderr",
     "output_type": "stream",
     "text": [
      "[0111/0200] Train: 100%|███████████████████████████████| 74/74 [00:04<00:00, 18.16it/s, loss 7.2298]\n",
      "[0111/0200] Validation: 100%|██████████████████████| 71/71 [00:02<00:00, 32.32it/s, val_loss 4.4878]\n",
      "[0112/0200] Train:   0%|                                                     | 0/74 [00:00<?, ?it/s]"
     ]
    },
    {
     "name": "stdout",
     "output_type": "stream",
     "text": [
      "                  validation\n",
      " - Yaw          :   1.013211\n",
      " - Pitch        :   0.940526\n",
      " - Roll         :   2.071618\n",
      " - RMS          :   1.437914\n",
      " - 99% Tile     :   6.958413\n"
     ]
    },
    {
     "name": "stderr",
     "output_type": "stream",
     "text": [
      "[0112/0200] Train: 100%|███████████████████████████████| 74/74 [00:04<00:00, 18.25it/s, loss 7.1390]\n",
      "[0112/0200] Validation: 100%|██████████████████████| 71/71 [00:02<00:00, 33.77it/s, val_loss 4.5300]\n",
      "[0113/0200] Train:   0%|                                                     | 0/74 [00:00<?, ?it/s]"
     ]
    },
    {
     "name": "stdout",
     "output_type": "stream",
     "text": [
      "val_loss is not improved for 1 epochs\n",
      "                  validation\n",
      " - Yaw          :   1.092997\n",
      " - Pitch        :   0.916396\n",
      " - Roll         :   2.039506\n",
      " - RMS          :   1.436896\n",
      " - 99% Tile     :   6.970509\n"
     ]
    },
    {
     "name": "stderr",
     "output_type": "stream",
     "text": [
      "[0113/0200] Train: 100%|███████████████████████████████| 74/74 [00:04<00:00, 18.12it/s, loss 7.1413]\n",
      "[0113/0200] Validation: 100%|██████████████████████| 71/71 [00:02<00:00, 33.87it/s, val_loss 4.4205]\n",
      "[0114/0200] Train:   0%|                                                     | 0/74 [00:00<?, ?it/s]"
     ]
    },
    {
     "name": "stdout",
     "output_type": "stream",
     "text": [
      "                  validation\n",
      " - Yaw          :   0.927674\n",
      " - Pitch        :   1.065632\n",
      " - Roll         :   2.023722\n",
      " - RMS          :   1.424968\n",
      " - 99% Tile     :   6.910247\n"
     ]
    },
    {
     "name": "stderr",
     "output_type": "stream",
     "text": [
      "[0114/0200] Train: 100%|███████████████████████████████| 74/74 [00:03<00:00, 18.53it/s, loss 7.0907]\n",
      "[0114/0200] Validation: 100%|██████████████████████| 71/71 [00:02<00:00, 33.70it/s, val_loss 4.3445]\n",
      "[0115/0200] Train:   0%|                                                     | 0/74 [00:00<?, ?it/s]"
     ]
    },
    {
     "name": "stdout",
     "output_type": "stream",
     "text": [
      "                  validation\n",
      " - Yaw          :   1.003957\n",
      " - Pitch        :   0.977503\n",
      " - Roll         :   1.992899\n",
      " - RMS          :   1.406543\n",
      " - 99% Tile     :   6.831850\n"
     ]
    },
    {
     "name": "stderr",
     "output_type": "stream",
     "text": [
      "[0115/0200] Train: 100%|███████████████████████████████| 74/74 [00:04<00:00, 18.27it/s, loss 7.2175]\n",
      "[0115/0200] Validation: 100%|██████████████████████| 71/71 [00:02<00:00, 33.48it/s, val_loss 4.2302]\n",
      "[0116/0200] Train:   0%|                                                     | 0/74 [00:00<?, ?it/s]"
     ]
    },
    {
     "name": "stdout",
     "output_type": "stream",
     "text": [
      "                  validation\n",
      " - Yaw          :   0.939048\n",
      " - Pitch        :   0.919069\n",
      " - Roll         :   1.963811\n",
      " - RMS          :   1.364191\n",
      " - 99% Tile     :   6.924851\n"
     ]
    },
    {
     "name": "stderr",
     "output_type": "stream",
     "text": [
      "[0116/0200] Train: 100%|███████████████████████████████| 74/74 [00:04<00:00, 18.20it/s, loss 6.9968]\n",
      "[0116/0200] Validation: 100%|██████████████████████| 71/71 [00:02<00:00, 32.78it/s, val_loss 4.1596]\n",
      "[0117/0200] Train:   0%|                                                     | 0/74 [00:00<?, ?it/s]"
     ]
    },
    {
     "name": "stdout",
     "output_type": "stream",
     "text": [
      "                  validation\n",
      " - Yaw          :   0.927057\n",
      " - Pitch        :   0.972304\n",
      " - Roll         :   1.912735\n",
      " - RMS          :   1.349490\n",
      " - 99% Tile     :   6.824473\n"
     ]
    },
    {
     "name": "stderr",
     "output_type": "stream",
     "text": [
      "[0117/0200] Train: 100%|███████████████████████████████| 74/74 [00:04<00:00, 18.29it/s, loss 6.8945]\n",
      "[0117/0200] Validation: 100%|██████████████████████| 71/71 [00:02<00:00, 33.49it/s, val_loss 4.0584]\n",
      "[0118/0200] Train:   0%|                                                     | 0/74 [00:00<?, ?it/s]"
     ]
    },
    {
     "name": "stdout",
     "output_type": "stream",
     "text": [
      "                  validation\n",
      " - Yaw          :   0.978737\n",
      " - Pitch        :   0.974994\n",
      " - Roll         :   1.832958\n",
      " - RMS          :   1.325176\n",
      " - 99% Tile     :   6.755923\n"
     ]
    },
    {
     "name": "stderr",
     "output_type": "stream",
     "text": [
      "[0118/0200] Train: 100%|███████████████████████████████| 74/74 [00:04<00:00, 18.47it/s, loss 6.8630]\n",
      "[0118/0200] Validation: 100%|██████████████████████| 71/71 [00:02<00:00, 32.57it/s, val_loss 3.9580]\n",
      "[0119/0200] Train:   0%|                                                     | 0/74 [00:00<?, ?it/s]"
     ]
    },
    {
     "name": "stdout",
     "output_type": "stream",
     "text": [
      "                  validation\n",
      " - Yaw          :   0.959180\n",
      " - Pitch        :   1.000075\n",
      " - Roll         :   1.762448\n",
      " - RMS          :   1.294398\n",
      " - 99% Tile     :   6.722774\n"
     ]
    },
    {
     "name": "stderr",
     "output_type": "stream",
     "text": [
      "[0119/0200] Train: 100%|███████████████████████████████| 74/74 [00:03<00:00, 18.69it/s, loss 6.7285]\n",
      "[0119/0200] Validation: 100%|██████████████████████| 71/71 [00:02<00:00, 33.57it/s, val_loss 3.7981]\n",
      "[0120/0200] Train:   0%|                                                     | 0/74 [00:00<?, ?it/s]"
     ]
    },
    {
     "name": "stdout",
     "output_type": "stream",
     "text": [
      "                  validation\n",
      " - Yaw          :   0.967621\n",
      " - Pitch        :   1.023525\n",
      " - Roll         :   1.664575\n",
      " - RMS          :   1.258929\n",
      " - 99% Tile     :   6.642389\n"
     ]
    },
    {
     "name": "stderr",
     "output_type": "stream",
     "text": [
      "[0120/0200] Train: 100%|███████████████████████████████| 74/74 [00:03<00:00, 18.52it/s, loss 6.8948]\n",
      "[0120/0200] Validation: 100%|██████████████████████| 71/71 [00:02<00:00, 33.13it/s, val_loss 3.8244]\n",
      "[0121/0200] Train:   0%|                                                     | 0/74 [00:00<?, ?it/s]"
     ]
    },
    {
     "name": "stdout",
     "output_type": "stream",
     "text": [
      "val_loss is not improved for 1 epochs\n",
      "                  validation\n",
      " - Yaw          :   1.040341\n",
      " - Pitch        :   1.003490\n",
      " - Roll         :   1.605704\n",
      " - RMS          :   1.247342\n",
      " - 99% Tile     :   6.647829\n"
     ]
    },
    {
     "name": "stderr",
     "output_type": "stream",
     "text": [
      "[0121/0200] Train: 100%|███████████████████████████████| 74/74 [00:04<00:00, 17.69it/s, loss 6.6245]\n",
      "[0121/0200] Validation: 100%|██████████████████████| 71/71 [00:02<00:00, 32.56it/s, val_loss 3.6340]\n",
      "[0122/0200] Train:   0%|                                                     | 0/74 [00:00<?, ?it/s]"
     ]
    },
    {
     "name": "stdout",
     "output_type": "stream",
     "text": [
      "                  validation\n",
      " - Yaw          :   0.995029\n",
      " - Pitch        :   0.972454\n",
      " - Roll         :   1.503014\n",
      " - RMS          :   1.182483\n",
      " - 99% Tile     :   6.599548\n"
     ]
    },
    {
     "name": "stderr",
     "output_type": "stream",
     "text": [
      "[0122/0200] Train: 100%|███████████████████████████████| 74/74 [00:04<00:00, 18.41it/s, loss 6.6114]\n",
      "[0122/0200] Validation: 100%|██████████████████████| 71/71 [00:02<00:00, 33.38it/s, val_loss 3.5810]\n",
      "[0123/0200] Train:   0%|                                                     | 0/74 [00:00<?, ?it/s]"
     ]
    },
    {
     "name": "stdout",
     "output_type": "stream",
     "text": [
      "                  validation\n",
      " - Yaw          :   1.015082\n",
      " - Pitch        :   0.983213\n",
      " - Roll         :   1.470815\n",
      " - RMS          :   1.177624\n",
      " - 99% Tile     :   6.576721\n"
     ]
    },
    {
     "name": "stderr",
     "output_type": "stream",
     "text": [
      "[0123/0200] Train: 100%|███████████████████████████████| 74/74 [00:04<00:00, 18.17it/s, loss 6.6482]\n",
      "[0123/0200] Validation: 100%|██████████████████████| 71/71 [00:02<00:00, 32.59it/s, val_loss 3.5884]\n",
      "[0124/0200] Train:   0%|                                                     | 0/74 [00:00<?, ?it/s]"
     ]
    },
    {
     "name": "stdout",
     "output_type": "stream",
     "text": [
      "val_loss is not improved for 1 epochs\n",
      "                  validation\n",
      " - Yaw          :   1.069766\n",
      " - Pitch        :   1.032887\n",
      " - Roll         :   1.402727\n",
      " - RMS          :   1.180240\n",
      " - 99% Tile     :   6.553697\n"
     ]
    },
    {
     "name": "stderr",
     "output_type": "stream",
     "text": [
      "[0124/0200] Train: 100%|███████████████████████████████| 74/74 [00:03<00:00, 18.54it/s, loss 6.6684]\n",
      "[0124/0200] Validation: 100%|██████████████████████| 71/71 [00:02<00:00, 32.94it/s, val_loss 3.4526]\n",
      "[0125/0200] Train:   0%|                                                     | 0/74 [00:00<?, ?it/s]"
     ]
    },
    {
     "name": "stdout",
     "output_type": "stream",
     "text": [
      "                  validation\n",
      " - Yaw          :   1.022488\n",
      " - Pitch        :   0.993745\n",
      " - Roll         :   1.345032\n",
      " - RMS          :   1.131683\n",
      " - 99% Tile     :   6.495603\n"
     ]
    },
    {
     "name": "stderr",
     "output_type": "stream",
     "text": [
      "[0125/0200] Train: 100%|███████████████████████████████| 74/74 [00:03<00:00, 18.60it/s, loss 6.4443]\n",
      "[0125/0200] Validation: 100%|██████████████████████| 71/71 [00:02<00:00, 33.32it/s, val_loss 3.4819]\n",
      "[0126/0200] Train:   0%|                                                     | 0/74 [00:00<?, ?it/s]"
     ]
    },
    {
     "name": "stdout",
     "output_type": "stream",
     "text": [
      "val_loss is not improved for 1 epochs\n",
      "                  validation\n",
      " - Yaw          :   1.117393\n",
      " - Pitch        :   0.967667\n",
      " - Roll         :   1.284632\n",
      " - RMS          :   1.130667\n",
      " - 99% Tile     :   6.535341\n"
     ]
    },
    {
     "name": "stderr",
     "output_type": "stream",
     "text": [
      "[0126/0200] Train: 100%|███████████████████████████████| 74/74 [00:04<00:00, 17.85it/s, loss 6.4304]\n",
      "[0126/0200] Validation: 100%|██████████████████████| 71/71 [00:02<00:00, 32.87it/s, val_loss 3.4593]\n",
      "[0127/0200] Train:   0%|                                                     | 0/74 [00:00<?, ?it/s]"
     ]
    },
    {
     "name": "stdout",
     "output_type": "stream",
     "text": [
      "val_loss is not improved for 2 epochs\n",
      "                  validation\n",
      " - Yaw          :   1.022803\n",
      " - Pitch        :   1.100857\n",
      " - Roll         :   1.267148\n",
      " - RMS          :   1.134853\n",
      " - 99% Tile     :   6.378379\n"
     ]
    },
    {
     "name": "stderr",
     "output_type": "stream",
     "text": [
      "[0127/0200] Train: 100%|███████████████████████████████| 74/74 [00:04<00:00, 17.64it/s, loss 6.2847]\n",
      "[0127/0200] Validation: 100%|██████████████████████| 71/71 [00:02<00:00, 33.26it/s, val_loss 3.3054]\n",
      "[0128/0200] Train:   0%|                                                     | 0/74 [00:00<?, ?it/s]"
     ]
    },
    {
     "name": "stdout",
     "output_type": "stream",
     "text": [
      "                  validation\n",
      " - Yaw          :   1.042876\n",
      " - Pitch        :   0.989914\n",
      " - Roll         :   1.209996\n",
      " - RMS          :   1.084990\n",
      " - 99% Tile     :   6.419836\n"
     ]
    },
    {
     "name": "stderr",
     "output_type": "stream",
     "text": [
      "[0128/0200] Train: 100%|███████████████████████████████| 74/74 [00:04<00:00, 17.81it/s, loss 6.3629]\n",
      "[0128/0200] Validation: 100%|██████████████████████| 71/71 [00:02<00:00, 33.69it/s, val_loss 3.2782]\n",
      "[0129/0200] Train:   0%|                                                     | 0/74 [00:00<?, ?it/s]"
     ]
    },
    {
     "name": "stdout",
     "output_type": "stream",
     "text": [
      "                  validation\n",
      " - Yaw          :   1.035388\n",
      " - Pitch        :   0.951614\n",
      " - Roll         :   1.223385\n",
      " - RMS          :   1.076146\n",
      " - 99% Tile     :   6.378999\n"
     ]
    },
    {
     "name": "stderr",
     "output_type": "stream",
     "text": [
      "[0129/0200] Train: 100%|███████████████████████████████| 74/74 [00:04<00:00, 18.38it/s, loss 6.4349]\n",
      "[0129/0200] Validation: 100%|██████████████████████| 71/71 [00:02<00:00, 32.71it/s, val_loss 3.2260]\n",
      "[0130/0200] Train:   0%|                                                     | 0/74 [00:00<?, ?it/s]"
     ]
    },
    {
     "name": "stdout",
     "output_type": "stream",
     "text": [
      "                  validation\n",
      " - Yaw          :   1.053329\n",
      " - Pitch        :   0.896303\n",
      " - Roll         :   1.194159\n",
      " - RMS          :   1.054969\n",
      " - 99% Tile     :   6.557934\n"
     ]
    },
    {
     "name": "stderr",
     "output_type": "stream",
     "text": [
      "[0130/0200] Train: 100%|███████████████████████████████| 74/74 [00:04<00:00, 18.30it/s, loss 6.1986]\n",
      "[0130/0200] Validation: 100%|██████████████████████| 71/71 [00:02<00:00, 32.70it/s, val_loss 3.3347]\n",
      "[0131/0200] Train:   0%|                                                     | 0/74 [00:00<?, ?it/s]"
     ]
    },
    {
     "name": "stdout",
     "output_type": "stream",
     "text": [
      "val_loss is not improved for 1 epochs\n",
      "                  validation\n",
      " - Yaw          :   1.100755\n",
      " - Pitch        :   1.016484\n",
      " - Roll         :   1.170725\n",
      " - RMS          :   1.097800\n",
      " - 99% Tile     :   6.355498\n"
     ]
    },
    {
     "name": "stderr",
     "output_type": "stream",
     "text": [
      "[0131/0200] Train: 100%|███████████████████████████████| 74/74 [00:03<00:00, 18.77it/s, loss 6.2117]\n",
      "[0131/0200] Validation: 100%|██████████████████████| 71/71 [00:02<00:00, 31.88it/s, val_loss 3.2038]\n",
      "[0132/0200] Train:   0%|                                                     | 0/74 [00:00<?, ?it/s]"
     ]
    },
    {
     "name": "stdout",
     "output_type": "stream",
     "text": [
      "                  validation\n",
      " - Yaw          :   1.037912\n",
      " - Pitch        :   0.966293\n",
      " - Roll         :   1.174570\n",
      " - RMS          :   1.063108\n",
      " - 99% Tile     :   6.318561\n"
     ]
    },
    {
     "name": "stderr",
     "output_type": "stream",
     "text": [
      "[0132/0200] Train: 100%|███████████████████████████████| 74/74 [00:04<00:00, 18.32it/s, loss 6.3582]\n",
      "[0132/0200] Validation: 100%|██████████████████████| 71/71 [00:02<00:00, 33.69it/s, val_loss 3.1705]\n",
      "[0133/0200] Train:   0%|                                                     | 0/74 [00:00<?, ?it/s]"
     ]
    },
    {
     "name": "stdout",
     "output_type": "stream",
     "text": [
      "                  validation\n",
      " - Yaw          :   1.027156\n",
      " - Pitch        :   0.880529\n",
      " - Roll         :   1.188718\n",
      " - RMS          :   1.039780\n",
      " - 99% Tile     :   6.376744\n"
     ]
    },
    {
     "name": "stderr",
     "output_type": "stream",
     "text": [
      "[0133/0200] Train: 100%|███████████████████████████████| 74/74 [00:04<00:00, 17.94it/s, loss 6.1620]\n",
      "[0133/0200] Validation: 100%|██████████████████████| 71/71 [00:02<00:00, 32.61it/s, val_loss 3.1143]\n",
      "[0134/0200] Train:   0%|                                                     | 0/74 [00:00<?, ?it/s]"
     ]
    },
    {
     "name": "stdout",
     "output_type": "stream",
     "text": [
      "                  validation\n",
      " - Yaw          :   0.982152\n",
      " - Pitch        :   0.934809\n",
      " - Roll         :   1.150593\n",
      " - RMS          :   1.026703\n",
      " - 99% Tile     :   6.300364\n"
     ]
    },
    {
     "name": "stderr",
     "output_type": "stream",
     "text": [
      "[0134/0200] Train: 100%|███████████████████████████████| 74/74 [00:04<00:00, 18.19it/s, loss 6.2756]\n",
      "[0134/0200] Validation: 100%|██████████████████████| 71/71 [00:02<00:00, 32.48it/s, val_loss 3.1205]\n",
      "[0135/0200] Train:   0%|                                                     | 0/74 [00:00<?, ?it/s]"
     ]
    },
    {
     "name": "stdout",
     "output_type": "stream",
     "text": [
      "val_loss is not improved for 1 epochs\n",
      "                  validation\n",
      " - Yaw          :   1.043966\n",
      " - Pitch        :   0.930096\n",
      " - Roll         :   1.120226\n",
      " - RMS          :   1.034384\n",
      " - 99% Tile     :   6.271277\n"
     ]
    },
    {
     "name": "stderr",
     "output_type": "stream",
     "text": [
      "[0135/0200] Train: 100%|███████████████████████████████| 74/74 [00:04<00:00, 17.66it/s, loss 6.2389]\n",
      "[0135/0200] Validation: 100%|██████████████████████| 71/71 [00:02<00:00, 33.74it/s, val_loss 3.0637]\n",
      "[0136/0200] Train:   0%|                                                     | 0/74 [00:00<?, ?it/s]"
     ]
    },
    {
     "name": "stdout",
     "output_type": "stream",
     "text": [
      "                  validation\n",
      " - Yaw          :   0.989279\n",
      " - Pitch        :   0.961767\n",
      " - Roll         :   1.097334\n",
      " - RMS          :   1.017810\n",
      " - 99% Tile     :   6.212342\n"
     ]
    },
    {
     "name": "stderr",
     "output_type": "stream",
     "text": [
      "[0136/0200] Train: 100%|███████████████████████████████| 74/74 [00:04<00:00, 18.33it/s, loss 6.1234]\n",
      "[0136/0200] Validation: 100%|██████████████████████| 71/71 [00:02<00:00, 32.97it/s, val_loss 3.0497]\n",
      "[0137/0200] Train:   0%|                                                     | 0/74 [00:00<?, ?it/s]"
     ]
    },
    {
     "name": "stdout",
     "output_type": "stream",
     "text": [
      "                  validation\n",
      " - Yaw          :   0.945048\n",
      " - Pitch        :   0.972321\n",
      " - Roll         :   1.105140\n",
      " - RMS          :   1.009927\n",
      " - 99% Tile     :   6.264043\n"
     ]
    },
    {
     "name": "stderr",
     "output_type": "stream",
     "text": [
      "[0137/0200] Train: 100%|███████████████████████████████| 74/74 [00:03<00:00, 18.90it/s, loss 6.3842]\n",
      "[0137/0200] Validation: 100%|██████████████████████| 71/71 [00:02<00:00, 33.51it/s, val_loss 3.1760]\n",
      "[0138/0200] Train:   0%|                                                     | 0/74 [00:00<?, ?it/s]"
     ]
    },
    {
     "name": "stdout",
     "output_type": "stream",
     "text": [
      "val_loss is not improved for 1 epochs\n",
      "                  validation\n",
      " - Yaw          :   1.162519\n",
      " - Pitch        :   0.878352\n",
      " - Roll         :   1.084821\n",
      " - RMS          :   1.048776\n",
      " - 99% Tile     :   6.324886\n"
     ]
    },
    {
     "name": "stderr",
     "output_type": "stream",
     "text": [
      "[0138/0200] Train: 100%|███████████████████████████████| 74/74 [00:03<00:00, 18.78it/s, loss 6.0667]\n",
      "[0138/0200] Validation: 100%|██████████████████████| 71/71 [00:02<00:00, 33.31it/s, val_loss 3.0880]\n",
      "[0139/0200] Train:   0%|                                                     | 0/74 [00:00<?, ?it/s]"
     ]
    },
    {
     "name": "stdout",
     "output_type": "stream",
     "text": [
      "val_loss is not improved for 2 epochs\n",
      "                  validation\n",
      " - Yaw          :   1.033731\n",
      " - Pitch        :   0.919935\n",
      " - Roll         :   1.061070\n",
      " - RMS          :   1.006769\n",
      " - 99% Tile     :   6.322229\n"
     ]
    },
    {
     "name": "stderr",
     "output_type": "stream",
     "text": [
      "[0139/0200] Train: 100%|███████████████████████████████| 74/74 [00:04<00:00, 17.57it/s, loss 6.1832]\n",
      "[0139/0200] Validation: 100%|██████████████████████| 71/71 [00:02<00:00, 32.86it/s, val_loss 3.0873]\n",
      "[0140/0200] Train:   0%|                                                     | 0/74 [00:00<?, ?it/s]"
     ]
    },
    {
     "name": "stdout",
     "output_type": "stream",
     "text": [
      "val_loss is not improved for 3 epochs\n",
      "                  validation\n",
      " - Yaw          :   1.078804\n",
      " - Pitch        :   0.939426\n",
      " - Roll         :   1.080137\n",
      " - RMS          :   1.034897\n",
      " - 99% Tile     :   6.146368\n"
     ]
    },
    {
     "name": "stderr",
     "output_type": "stream",
     "text": [
      "[0140/0200] Train: 100%|███████████████████████████████| 74/74 [00:04<00:00, 17.75it/s, loss 6.0354]\n",
      "[0140/0200] Validation: 100%|██████████████████████| 71/71 [00:02<00:00, 33.30it/s, val_loss 2.9561]\n",
      "[0141/0200] Train:   0%|                                                     | 0/74 [00:00<?, ?it/s]"
     ]
    },
    {
     "name": "stdout",
     "output_type": "stream",
     "text": [
      "                  validation\n",
      " - Yaw          :   0.906771\n",
      " - Pitch        :   0.930217\n",
      " - Roll         :   1.058341\n",
      " - RMS          :   0.967406\n",
      " - 99% Tile     :   6.221069\n"
     ]
    },
    {
     "name": "stderr",
     "output_type": "stream",
     "text": [
      "[0141/0200] Train: 100%|███████████████████████████████| 74/74 [00:04<00:00, 18.00it/s, loss 5.9701]\n",
      "[0141/0200] Validation: 100%|██████████████████████| 71/71 [00:02<00:00, 33.75it/s, val_loss 2.9763]\n",
      "[0142/0200] Train:   0%|                                                     | 0/74 [00:00<?, ?it/s]"
     ]
    },
    {
     "name": "stdout",
     "output_type": "stream",
     "text": [
      "val_loss is not improved for 1 epochs\n",
      "                  validation\n",
      " - Yaw          :   1.019728\n",
      " - Pitch        :   0.896542\n",
      " - Roll         :   1.049495\n",
      " - RMS          :   0.990803\n",
      " - 99% Tile     :   6.161826\n"
     ]
    },
    {
     "name": "stderr",
     "output_type": "stream",
     "text": [
      "[0142/0200] Train: 100%|███████████████████████████████| 74/74 [00:04<00:00, 17.87it/s, loss 6.0249]\n",
      "[0142/0200] Validation: 100%|██████████████████████| 71/71 [00:02<00:00, 33.08it/s, val_loss 3.0481]\n",
      "[0143/0200] Train:   0%|                                                     | 0/74 [00:00<?, ?it/s]"
     ]
    },
    {
     "name": "stdout",
     "output_type": "stream",
     "text": [
      "val_loss is not improved for 2 epochs\n",
      "                  validation\n",
      " - Yaw          :   1.041347\n",
      " - Pitch        :   0.922116\n",
      " - Roll         :   1.073915\n",
      " - RMS          :   1.014560\n",
      " - 99% Tile     :   6.198643\n"
     ]
    },
    {
     "name": "stderr",
     "output_type": "stream",
     "text": [
      "[0143/0200] Train: 100%|███████████████████████████████| 74/74 [00:04<00:00, 17.95it/s, loss 6.0311]\n",
      "[0143/0200] Validation: 100%|██████████████████████| 71/71 [00:02<00:00, 32.83it/s, val_loss 2.9365]\n",
      "[0144/0200] Train:   0%|                                                     | 0/74 [00:00<?, ?it/s]"
     ]
    },
    {
     "name": "stdout",
     "output_type": "stream",
     "text": [
      "                  validation\n",
      " - Yaw          :   0.950258\n",
      " - Pitch        :   0.885580\n",
      " - Roll         :   1.021197\n",
      " - RMS          :   0.953954\n",
      " - 99% Tile     :   6.205440\n"
     ]
    },
    {
     "name": "stderr",
     "output_type": "stream",
     "text": [
      "[0144/0200] Train: 100%|███████████████████████████████| 74/74 [00:04<00:00, 17.93it/s, loss 6.1321]\n",
      "[0144/0200] Validation: 100%|██████████████████████| 71/71 [00:02<00:00, 32.86it/s, val_loss 2.9205]\n",
      "[0145/0200] Train:   0%|                                                     | 0/74 [00:00<?, ?it/s]"
     ]
    },
    {
     "name": "stdout",
     "output_type": "stream",
     "text": [
      "                  validation\n",
      " - Yaw          :   1.020640\n",
      " - Pitch        :   0.833343\n",
      " - Roll         :   1.027567\n",
      " - RMS          :   0.964721\n",
      " - 99% Tile     :   6.133887\n"
     ]
    },
    {
     "name": "stderr",
     "output_type": "stream",
     "text": [
      "[0145/0200] Train: 100%|███████████████████████████████| 74/74 [00:04<00:00, 18.28it/s, loss 6.2179]\n",
      "[0145/0200] Validation: 100%|██████████████████████| 71/71 [00:02<00:00, 33.26it/s, val_loss 2.9432]\n",
      "[0146/0200] Train:   0%|                                                     | 0/74 [00:00<?, ?it/s]"
     ]
    },
    {
     "name": "stdout",
     "output_type": "stream",
     "text": [
      "val_loss is not improved for 1 epochs\n",
      "                  validation\n",
      " - Yaw          :   1.031424\n",
      " - Pitch        :   0.846747\n",
      " - Roll         :   1.031367\n",
      " - RMS          :   0.973744\n",
      " - 99% Tile     :   6.097283\n"
     ]
    },
    {
     "name": "stderr",
     "output_type": "stream",
     "text": [
      "[0146/0200] Train: 100%|███████████████████████████████| 74/74 [00:04<00:00, 18.07it/s, loss 6.1288]\n",
      "[0146/0200] Validation: 100%|██████████████████████| 71/71 [00:02<00:00, 32.32it/s, val_loss 2.9469]\n",
      "[0147/0200] Train:   0%|                                                     | 0/74 [00:00<?, ?it/s]"
     ]
    },
    {
     "name": "stdout",
     "output_type": "stream",
     "text": [
      "val_loss is not improved for 2 epochs\n",
      "                  validation\n",
      " - Yaw          :   0.961949\n",
      " - Pitch        :   0.960194\n",
      " - Roll         :   1.026971\n",
      " - RMS          :   0.983529\n",
      " - 99% Tile     :   6.145043\n"
     ]
    },
    {
     "name": "stderr",
     "output_type": "stream",
     "text": [
      "[0147/0200] Train: 100%|███████████████████████████████| 74/74 [00:04<00:00, 17.95it/s, loss 5.9589]\n",
      "[0147/0200] Validation: 100%|██████████████████████| 71/71 [00:02<00:00, 33.44it/s, val_loss 2.9389]\n",
      "[0148/0200] Train:   0%|                                                     | 0/74 [00:00<?, ?it/s]"
     ]
    },
    {
     "name": "stdout",
     "output_type": "stream",
     "text": [
      "val_loss is not improved for 3 epochs\n",
      "                  validation\n",
      " - Yaw          :   0.971098\n",
      " - Pitch        :   0.908714\n",
      " - Roll         :   1.004733\n",
      " - RMS          :   0.962338\n",
      " - 99% Tile     :   6.164908\n"
     ]
    },
    {
     "name": "stderr",
     "output_type": "stream",
     "text": [
      "[0148/0200] Train: 100%|███████████████████████████████| 74/74 [00:04<00:00, 18.28it/s, loss 5.9385]\n",
      "[0148/0200] Validation: 100%|██████████████████████| 71/71 [00:02<00:00, 32.15it/s, val_loss 2.9048]\n",
      "[0149/0200] Train:   0%|                                                     | 0/74 [00:00<?, ?it/s]"
     ]
    },
    {
     "name": "stdout",
     "output_type": "stream",
     "text": [
      "                  validation\n",
      " - Yaw          :   0.942268\n",
      " - Pitch        :   0.901401\n",
      " - Roll         :   0.980964\n",
      " - RMS          :   0.942105\n",
      " - 99% Tile     :   6.180297\n"
     ]
    },
    {
     "name": "stderr",
     "output_type": "stream",
     "text": [
      "[0149/0200] Train: 100%|███████████████████████████████| 74/74 [00:03<00:00, 19.13it/s, loss 6.1398]\n",
      "[0149/0200] Validation: 100%|██████████████████████| 71/71 [00:02<00:00, 32.54it/s, val_loss 3.0343]\n",
      "[0150/0200] Train:   0%|                                                     | 0/74 [00:00<?, ?it/s]"
     ]
    },
    {
     "name": "stdout",
     "output_type": "stream",
     "text": [
      "val_loss is not improved for 1 epochs\n",
      "                  validation\n",
      " - Yaw          :   1.160681\n",
      " - Pitch        :   0.935079\n",
      " - Roll         :   0.964435\n",
      " - RMS          :   1.024970\n",
      " - 99% Tile     :   6.095565\n"
     ]
    },
    {
     "name": "stderr",
     "output_type": "stream",
     "text": [
      "[0150/0200] Train: 100%|███████████████████████████████| 74/74 [00:04<00:00, 18.13it/s, loss 5.8541]\n",
      "[0150/0200] Validation: 100%|██████████████████████| 71/71 [00:02<00:00, 33.42it/s, val_loss 2.8690]\n",
      "[0151/0200] Train:   0%|                                                     | 0/74 [00:00<?, ?it/s]"
     ]
    },
    {
     "name": "stdout",
     "output_type": "stream",
     "text": [
      "                  validation\n",
      " - Yaw          :   0.991947\n",
      " - Pitch        :   0.830587\n",
      " - Roll         :   0.998618\n",
      " - RMS          :   0.943587\n",
      " - 99% Tile     :   6.068860\n"
     ]
    },
    {
     "name": "stderr",
     "output_type": "stream",
     "text": [
      "[0151/0200] Train: 100%|███████████████████████████████| 74/74 [00:04<00:00, 18.04it/s, loss 5.9931]\n",
      "[0151/0200] Validation: 100%|██████████████████████| 71/71 [00:02<00:00, 30.47it/s, val_loss 2.8736]\n",
      "[0152/0200] Train:   0%|                                                     | 0/74 [00:00<?, ?it/s]"
     ]
    },
    {
     "name": "stdout",
     "output_type": "stream",
     "text": [
      "val_loss is not improved for 1 epochs\n",
      "                  validation\n",
      " - Yaw          :   1.006708\n",
      " - Pitch        :   0.870678\n",
      " - Roll         :   0.983177\n",
      " - RMS          :   0.955367\n",
      " - 99% Tile     :   6.068002\n"
     ]
    },
    {
     "name": "stderr",
     "output_type": "stream",
     "text": [
      "[0152/0200] Train: 100%|███████████████████████████████| 74/74 [00:04<00:00, 17.27it/s, loss 5.8209]\n",
      "[0152/0200] Validation: 100%|██████████████████████| 71/71 [00:02<00:00, 29.36it/s, val_loss 3.7476]\n",
      "[0153/0200] Train:   0%|                                                     | 0/74 [00:00<?, ?it/s]"
     ]
    },
    {
     "name": "stdout",
     "output_type": "stream",
     "text": [
      "val_loss is not improved for 2 epochs\n",
      "                  validation\n",
      " - Yaw          :   1.290387\n",
      " - Pitch        :   1.383702\n",
      " - Roll         :   0.966200\n",
      " - RMS          :   1.226549\n",
      " - 99% Tile     :   6.408099\n"
     ]
    },
    {
     "name": "stderr",
     "output_type": "stream",
     "text": [
      "[0153/0200] Train: 100%|███████████████████████████████| 74/74 [00:04<00:00, 16.80it/s, loss 6.2534]\n",
      "[0153/0200] Validation: 100%|██████████████████████| 71/71 [00:02<00:00, 28.87it/s, val_loss 2.8538]\n",
      "[0154/0200] Train:   0%|                                                     | 0/74 [00:00<?, ?it/s]"
     ]
    },
    {
     "name": "stdout",
     "output_type": "stream",
     "text": [
      "                  validation\n",
      " - Yaw          :   1.015117\n",
      " - Pitch        :   0.914053\n",
      " - Roll         :   0.964682\n",
      " - RMS          :   0.965499\n",
      " - 99% Tile     :   6.033807\n"
     ]
    },
    {
     "name": "stderr",
     "output_type": "stream",
     "text": [
      "[0154/0200] Train: 100%|███████████████████████████████| 74/74 [00:04<00:00, 18.44it/s, loss 5.7900]\n",
      "[0154/0200] Validation: 100%|██████████████████████| 71/71 [00:02<00:00, 31.77it/s, val_loss 2.8509]\n",
      "[0155/0200] Train:   0%|                                                     | 0/74 [00:00<?, ?it/s]"
     ]
    },
    {
     "name": "stdout",
     "output_type": "stream",
     "text": [
      "                  validation\n",
      " - Yaw          :   1.036530\n",
      " - Pitch        :   0.819057\n",
      " - Roll         :   0.956323\n",
      " - RMS          :   0.941595\n",
      " - 99% Tile     :   6.019249\n"
     ]
    },
    {
     "name": "stderr",
     "output_type": "stream",
     "text": [
      "[0155/0200] Train: 100%|███████████████████████████████| 74/74 [00:04<00:00, 18.14it/s, loss 5.9202]\n",
      "[0155/0200] Validation: 100%|██████████████████████| 71/71 [00:02<00:00, 32.71it/s, val_loss 2.8188]\n",
      "[0156/0200] Train:   0%|                                                     | 0/74 [00:00<?, ?it/s]"
     ]
    },
    {
     "name": "stdout",
     "output_type": "stream",
     "text": [
      "                  validation\n",
      " - Yaw          :   0.991002\n",
      " - Pitch        :   0.797526\n",
      " - Roll         :   1.007209\n",
      " - RMS          :   0.936768\n",
      " - 99% Tile     :   6.082424\n"
     ]
    },
    {
     "name": "stderr",
     "output_type": "stream",
     "text": [
      "[0156/0200] Train: 100%|███████████████████████████████| 74/74 [00:04<00:00, 17.96it/s, loss 5.8481]\n",
      "[0156/0200] Validation: 100%|██████████████████████| 71/71 [00:02<00:00, 33.30it/s, val_loss 2.7558]\n",
      "[0157/0200] Train:   0%|                                                     | 0/74 [00:00<?, ?it/s]"
     ]
    },
    {
     "name": "stdout",
     "output_type": "stream",
     "text": [
      "                  validation\n",
      " - Yaw          :   0.906256\n",
      " - Pitch        :   0.822198\n",
      " - Roll         :   0.960408\n",
      " - RMS          :   0.898089\n",
      " - 99% Tile     :   6.020621\n"
     ]
    },
    {
     "name": "stderr",
     "output_type": "stream",
     "text": [
      "[0157/0200] Train: 100%|███████████████████████████████| 74/74 [00:04<00:00, 17.76it/s, loss 5.9012]\n",
      "[0157/0200] Validation: 100%|██████████████████████| 71/71 [00:02<00:00, 32.47it/s, val_loss 2.8311]\n",
      "[0158/0200] Train:   0%|                                                     | 0/74 [00:00<?, ?it/s]"
     ]
    },
    {
     "name": "stdout",
     "output_type": "stream",
     "text": [
      "val_loss is not improved for 1 epochs\n",
      "                  validation\n",
      " - Yaw          :   0.937969\n",
      " - Pitch        :   0.930350\n",
      " - Roll         :   0.947412\n",
      " - RMS          :   0.938603\n",
      " - 99% Tile     :   5.966216\n"
     ]
    },
    {
     "name": "stderr",
     "output_type": "stream",
     "text": [
      "[0158/0200] Train: 100%|███████████████████████████████| 74/74 [00:04<00:00, 18.04it/s, loss 5.9404]\n",
      "[0158/0200] Validation: 100%|██████████████████████| 71/71 [00:02<00:00, 33.41it/s, val_loss 2.8232]\n",
      "[0159/0200] Train:   0%|                                                     | 0/74 [00:00<?, ?it/s]"
     ]
    },
    {
     "name": "stdout",
     "output_type": "stream",
     "text": [
      "val_loss is not improved for 2 epochs\n",
      "                  validation\n",
      " - Yaw          :   1.008075\n",
      " - Pitch        :   0.848842\n",
      " - Roll         :   0.954204\n",
      " - RMS          :   0.939371\n",
      " - 99% Tile     :   5.959264\n"
     ]
    },
    {
     "name": "stderr",
     "output_type": "stream",
     "text": [
      "[0159/0200] Train: 100%|███████████████████████████████| 74/74 [00:04<00:00, 17.99it/s, loss 5.7329]\n",
      "[0159/0200] Validation: 100%|██████████████████████| 71/71 [00:02<00:00, 33.06it/s, val_loss 2.9296]\n",
      "[0160/0200] Train:   0%|                                                     | 0/74 [00:00<?, ?it/s]"
     ]
    },
    {
     "name": "stdout",
     "output_type": "stream",
     "text": [
      "val_loss is not improved for 3 epochs\n",
      "                  validation\n",
      " - Yaw          :   1.170260\n",
      " - Pitch        :   0.893971\n",
      " - Roll         :   0.929329\n",
      " - RMS          :   1.005376\n",
      " - 99% Tile     :   5.945241\n"
     ]
    },
    {
     "name": "stderr",
     "output_type": "stream",
     "text": [
      "[0160/0200] Train: 100%|███████████████████████████████| 74/74 [00:04<00:00, 18.03it/s, loss 5.9070]\n",
      "[0160/0200] Validation: 100%|██████████████████████| 71/71 [00:02<00:00, 32.35it/s, val_loss 2.7745]\n",
      "[0161/0200] Train:   0%|                                                     | 0/74 [00:00<?, ?it/s]"
     ]
    },
    {
     "name": "stdout",
     "output_type": "stream",
     "text": [
      "val_loss is not improved for 4 epochs\n",
      "                  validation\n",
      " - Yaw          :   1.039025\n",
      " - Pitch        :   0.822203\n",
      " - Roll         :   0.949650\n",
      " - RMS          :   0.941174\n",
      " - 99% Tile     :   5.900083\n"
     ]
    },
    {
     "name": "stderr",
     "output_type": "stream",
     "text": [
      "[0161/0200] Train: 100%|███████████████████████████████| 74/74 [00:04<00:00, 17.76it/s, loss 5.7476]\n",
      "[0161/0200] Validation: 100%|██████████████████████| 71/71 [00:02<00:00, 32.87it/s, val_loss 2.7481]\n",
      "[0162/0200] Train:   0%|                                                     | 0/74 [00:00<?, ?it/s]"
     ]
    },
    {
     "name": "stdout",
     "output_type": "stream",
     "text": [
      "                  validation\n",
      " - Yaw          :   0.878469\n",
      " - Pitch        :   0.877410\n",
      " - Roll         :   0.950828\n",
      " - RMS          :   0.902890\n",
      " - 99% Tile     :   5.970704\n"
     ]
    },
    {
     "name": "stderr",
     "output_type": "stream",
     "text": [
      "[0162/0200] Train: 100%|███████████████████████████████| 74/74 [00:04<00:00, 18.15it/s, loss 5.8690]\n",
      "[0162/0200] Validation: 100%|██████████████████████| 71/71 [00:02<00:00, 32.35it/s, val_loss 2.7455]\n",
      "[0163/0200] Train:   0%|                                                     | 0/74 [00:00<?, ?it/s]"
     ]
    },
    {
     "name": "stdout",
     "output_type": "stream",
     "text": [
      "                  validation\n",
      " - Yaw          :   0.916169\n",
      " - Pitch        :   0.834883\n",
      " - Roll         :   0.965055\n",
      " - RMS          :   0.906960\n",
      " - 99% Tile     :   5.971030\n"
     ]
    },
    {
     "name": "stderr",
     "output_type": "stream",
     "text": [
      "[0163/0200] Train: 100%|███████████████████████████████| 74/74 [00:03<00:00, 18.60it/s, loss 5.9601]\n",
      "[0163/0200] Validation: 100%|██████████████████████| 71/71 [00:02<00:00, 33.43it/s, val_loss 2.7547]\n",
      "[0164/0200] Train:   0%|                                                     | 0/74 [00:00<?, ?it/s]"
     ]
    },
    {
     "name": "stdout",
     "output_type": "stream",
     "text": [
      "val_loss is not improved for 1 epochs\n",
      "                  validation\n",
      " - Yaw          :   0.962778\n",
      " - Pitch        :   0.805703\n",
      " - Roll         :   0.986500\n",
      " - RMS          :   0.921824\n",
      " - 99% Tile     :   5.904805\n"
     ]
    },
    {
     "name": "stderr",
     "output_type": "stream",
     "text": [
      "[0164/0200] Train: 100%|███████████████████████████████| 74/74 [00:04<00:00, 17.81it/s, loss 5.8688]\n",
      "[0164/0200] Validation: 100%|██████████████████████| 71/71 [00:02<00:00, 33.14it/s, val_loss 2.7119]\n",
      "[0165/0200] Train:   0%|                                                     | 0/74 [00:00<?, ?it/s]"
     ]
    },
    {
     "name": "stdout",
     "output_type": "stream",
     "text": [
      "                  validation\n",
      " - Yaw          :   0.984782\n",
      " - Pitch        :   0.822528\n",
      " - Roll         :   0.925313\n",
      " - RMS          :   0.913337\n",
      " - 99% Tile     :   5.851600\n"
     ]
    },
    {
     "name": "stderr",
     "output_type": "stream",
     "text": [
      "[0165/0200] Train: 100%|███████████████████████████████| 74/74 [00:04<00:00, 17.78it/s, loss 5.8397]\n",
      "[0165/0200] Validation: 100%|██████████████████████| 71/71 [00:02<00:00, 32.88it/s, val_loss 2.6770]\n",
      "[0166/0200] Train:   0%|                                                     | 0/74 [00:00<?, ?it/s]"
     ]
    },
    {
     "name": "stdout",
     "output_type": "stream",
     "text": [
      "                  validation\n",
      " - Yaw          :   0.956569\n",
      " - Pitch        :   0.857269\n",
      " - Roll         :   0.928785\n",
      " - RMS          :   0.915164\n",
      " - 99% Tile     :   5.874638\n"
     ]
    },
    {
     "name": "stderr",
     "output_type": "stream",
     "text": [
      "[0166/0200] Train: 100%|███████████████████████████████| 74/74 [00:04<00:00, 18.09it/s, loss 5.9105]\n",
      "[0166/0200] Validation: 100%|██████████████████████| 71/71 [00:02<00:00, 33.59it/s, val_loss 2.8066]\n",
      "[0167/0200] Train:   0%|                                                     | 0/74 [00:00<?, ?it/s]"
     ]
    },
    {
     "name": "stdout",
     "output_type": "stream",
     "text": [
      "val_loss is not improved for 1 epochs\n",
      "                  validation\n",
      " - Yaw          :   1.098931\n",
      " - Pitch        :   0.906880\n",
      " - Roll         :   0.907673\n",
      " - RMS          :   0.975355\n",
      " - 99% Tile     :   5.895070\n"
     ]
    },
    {
     "name": "stderr",
     "output_type": "stream",
     "text": [
      "[0167/0200] Train: 100%|███████████████████████████████| 74/74 [00:04<00:00, 18.38it/s, loss 5.7572]\n",
      "[0167/0200] Validation: 100%|██████████████████████| 71/71 [00:02<00:00, 33.41it/s, val_loss 2.7042]\n",
      "[0168/0200] Train:   0%|                                                     | 0/74 [00:00<?, ?it/s]"
     ]
    },
    {
     "name": "stdout",
     "output_type": "stream",
     "text": [
      "val_loss is not improved for 2 epochs\n",
      "                  validation\n",
      " - Yaw          :   1.011950\n",
      " - Pitch        :   0.822152\n",
      " - Roll         :   0.913926\n",
      " - RMS          :   0.919282\n",
      " - 99% Tile     :   5.890487\n"
     ]
    },
    {
     "name": "stderr",
     "output_type": "stream",
     "text": [
      "[0168/0200] Train: 100%|███████████████████████████████| 74/74 [00:04<00:00, 17.93it/s, loss 5.8812]\n",
      "[0168/0200] Validation: 100%|██████████████████████| 71/71 [00:02<00:00, 31.81it/s, val_loss 2.8635]\n",
      "[0169/0200] Train:   0%|                                                     | 0/74 [00:00<?, ?it/s]"
     ]
    },
    {
     "name": "stdout",
     "output_type": "stream",
     "text": [
      "val_loss is not improved for 3 epochs\n",
      "                  validation\n",
      " - Yaw          :   1.131684\n",
      " - Pitch        :   0.757544\n",
      " - Roll         :   1.006263\n",
      " - RMS          :   0.977607\n",
      " - 99% Tile     :   5.927940\n"
     ]
    },
    {
     "name": "stderr",
     "output_type": "stream",
     "text": [
      "[0169/0200] Train: 100%|███████████████████████████████| 74/74 [00:04<00:00, 18.14it/s, loss 5.8908]\n",
      "[0169/0200] Validation: 100%|██████████████████████| 71/71 [00:02<00:00, 32.84it/s, val_loss 2.6450]\n",
      "[0170/0200] Train:   0%|                                                     | 0/74 [00:00<?, ?it/s]"
     ]
    },
    {
     "name": "stdout",
     "output_type": "stream",
     "text": [
      "                  validation\n",
      " - Yaw          :   0.895633\n",
      " - Pitch        :   0.794921\n",
      " - Roll         :   0.943887\n",
      " - RMS          :   0.880337\n",
      " - 99% Tile     :   5.866984\n"
     ]
    },
    {
     "name": "stderr",
     "output_type": "stream",
     "text": [
      "[0170/0200] Train: 100%|███████████████████████████████| 74/74 [00:03<00:00, 18.64it/s, loss 5.7530]\n",
      "[0170/0200] Validation: 100%|██████████████████████| 71/71 [00:02<00:00, 32.65it/s, val_loss 2.6375]\n",
      "[0171/0200] Train:   0%|                                                     | 0/74 [00:00<?, ?it/s]"
     ]
    },
    {
     "name": "stdout",
     "output_type": "stream",
     "text": [
      "                  validation\n",
      " - Yaw          :   0.895238\n",
      " - Pitch        :   0.816629\n",
      " - Roll         :   0.905690\n",
      " - RMS          :   0.873424\n",
      " - 99% Tile     :   5.888929\n"
     ]
    },
    {
     "name": "stderr",
     "output_type": "stream",
     "text": [
      "[0171/0200] Train: 100%|███████████████████████████████| 74/74 [00:03<00:00, 18.51it/s, loss 5.7389]\n",
      "[0171/0200] Validation: 100%|██████████████████████| 71/71 [00:02<00:00, 32.56it/s, val_loss 2.6201]\n",
      "[0172/0200] Train:   0%|                                                     | 0/74 [00:00<?, ?it/s]"
     ]
    },
    {
     "name": "stdout",
     "output_type": "stream",
     "text": [
      "                  validation\n",
      " - Yaw          :   0.911869\n",
      " - Pitch        :   0.830907\n",
      " - Roll         :   0.920877\n",
      " - RMS          :   0.888806\n",
      " - 99% Tile     :   5.810718\n"
     ]
    },
    {
     "name": "stderr",
     "output_type": "stream",
     "text": [
      "[0172/0200] Train: 100%|███████████████████████████████| 74/74 [00:04<00:00, 18.06it/s, loss 5.8096]\n",
      "[0172/0200] Validation: 100%|██████████████████████| 71/71 [00:02<00:00, 32.72it/s, val_loss 2.6262]\n",
      "[0173/0200] Train:   0%|                                                     | 0/74 [00:00<?, ?it/s]"
     ]
    },
    {
     "name": "stdout",
     "output_type": "stream",
     "text": [
      "val_loss is not improved for 1 epochs\n",
      "                  validation\n",
      " - Yaw          :   0.883359\n",
      " - Pitch        :   0.880484\n",
      " - Roll         :   0.903244\n",
      " - RMS          :   0.889086\n",
      " - 99% Tile     :   5.818317\n"
     ]
    },
    {
     "name": "stderr",
     "output_type": "stream",
     "text": [
      "[0173/0200] Train: 100%|███████████████████████████████| 74/74 [00:04<00:00, 18.39it/s, loss 5.7596]\n",
      "[0173/0200] Validation: 100%|██████████████████████| 71/71 [00:02<00:00, 32.87it/s, val_loss 2.6778]\n",
      "[0174/0200] Train:   0%|                                                     | 0/74 [00:00<?, ?it/s]"
     ]
    },
    {
     "name": "stdout",
     "output_type": "stream",
     "text": [
      "val_loss is not improved for 2 epochs\n",
      "                  validation\n",
      " - Yaw          :   0.918779\n",
      " - Pitch        :   0.870514\n",
      " - Roll         :   0.927308\n",
      " - RMS          :   0.905879\n",
      " - 99% Tile     :   5.834852\n"
     ]
    },
    {
     "name": "stderr",
     "output_type": "stream",
     "text": [
      "[0174/0200] Train: 100%|███████████████████████████████| 74/74 [00:04<00:00, 18.45it/s, loss 5.8022]\n",
      "[0174/0200] Validation: 100%|██████████████████████| 71/71 [00:02<00:00, 32.79it/s, val_loss 2.6152]\n",
      "[0175/0200] Train:   0%|                                                     | 0/74 [00:00<?, ?it/s]"
     ]
    },
    {
     "name": "stdout",
     "output_type": "stream",
     "text": [
      "                  validation\n",
      " - Yaw          :   0.932422\n",
      " - Pitch        :   0.807644\n",
      " - Roll         :   0.931987\n",
      " - RMS          :   0.892618\n",
      " - 99% Tile     :   5.854888\n"
     ]
    },
    {
     "name": "stderr",
     "output_type": "stream",
     "text": [
      "[0175/0200] Train: 100%|███████████████████████████████| 74/74 [00:04<00:00, 18.29it/s, loss 5.7183]\n",
      "[0175/0200] Validation: 100%|██████████████████████| 71/71 [00:02<00:00, 32.35it/s, val_loss 2.5973]\n",
      "[0176/0200] Train:   0%|                                                     | 0/74 [00:00<?, ?it/s]"
     ]
    },
    {
     "name": "stdout",
     "output_type": "stream",
     "text": [
      "                  validation\n",
      " - Yaw          :   0.843962\n",
      " - Pitch        :   0.836519\n",
      " - Roll         :   0.938707\n",
      " - RMS          :   0.874301\n",
      " - 99% Tile     :   5.830674\n"
     ]
    },
    {
     "name": "stderr",
     "output_type": "stream",
     "text": [
      "[0176/0200] Train: 100%|███████████████████████████████| 74/74 [00:04<00:00, 18.13it/s, loss 5.7569]\n",
      "[0176/0200] Validation: 100%|██████████████████████| 71/71 [00:02<00:00, 33.65it/s, val_loss 2.8207]\n",
      "[0177/0200] Train:   0%|                                                     | 0/74 [00:00<?, ?it/s]"
     ]
    },
    {
     "name": "stdout",
     "output_type": "stream",
     "text": [
      "val_loss is not improved for 1 epochs\n",
      "                  validation\n",
      " - Yaw          :   1.142479\n",
      " - Pitch        :   0.862942\n",
      " - Roll         :   0.923750\n",
      " - RMS          :   0.983741\n",
      " - 99% Tile     :   5.810156\n"
     ]
    },
    {
     "name": "stderr",
     "output_type": "stream",
     "text": [
      "[0177/0200] Train: 100%|███████████████████████████████| 74/74 [00:04<00:00, 18.14it/s, loss 5.7906]\n",
      "[0177/0200] Validation: 100%|██████████████████████| 71/71 [00:02<00:00, 32.06it/s, val_loss 2.6424]\n",
      "[0178/0200] Train:   0%|                                                     | 0/74 [00:00<?, ?it/s]"
     ]
    },
    {
     "name": "stdout",
     "output_type": "stream",
     "text": [
      "val_loss is not improved for 2 epochs\n",
      "                  validation\n",
      " - Yaw          :   0.993460\n",
      " - Pitch        :   0.855108\n",
      " - Roll         :   0.883162\n",
      " - RMS          :   0.912533\n",
      " - 99% Tile     :   5.765984\n"
     ]
    },
    {
     "name": "stderr",
     "output_type": "stream",
     "text": [
      "[0178/0200] Train: 100%|███████████████████████████████| 74/74 [00:04<00:00, 18.13it/s, loss 5.7665]\n",
      "[0178/0200] Validation: 100%|██████████████████████| 71/71 [00:02<00:00, 32.96it/s, val_loss 2.7414]\n",
      "[0179/0200] Train:   0%|                                                     | 0/74 [00:00<?, ?it/s]"
     ]
    },
    {
     "name": "stdout",
     "output_type": "stream",
     "text": [
      "val_loss is not improved for 3 epochs\n",
      "                  validation\n",
      " - Yaw          :   1.103896\n",
      " - Pitch        :   0.830434\n",
      " - Roll         :   0.879143\n",
      " - RMS          :   0.945357\n",
      " - 99% Tile     :   5.780567\n"
     ]
    },
    {
     "name": "stderr",
     "output_type": "stream",
     "text": [
      "[0179/0200] Train: 100%|███████████████████████████████| 74/74 [00:04<00:00, 18.23it/s, loss 5.8502]\n",
      "[0179/0200] Validation: 100%|██████████████████████| 71/71 [00:02<00:00, 33.44it/s, val_loss 2.7340]\n",
      "[0180/0200] Train:   0%|                                                     | 0/74 [00:00<?, ?it/s]"
     ]
    },
    {
     "name": "stdout",
     "output_type": "stream",
     "text": [
      "val_loss is not improved for 4 epochs\n",
      "                  validation\n",
      " - Yaw          :   1.040660\n",
      " - Pitch        :   0.890955\n",
      " - Roll         :   0.856611\n",
      " - RMS          :   0.932837\n",
      " - 99% Tile     :   5.823906\n"
     ]
    },
    {
     "name": "stderr",
     "output_type": "stream",
     "text": [
      "[0180/0200] Train: 100%|███████████████████████████████| 74/74 [00:04<00:00, 18.26it/s, loss 5.7038]\n",
      "[0180/0200] Validation: 100%|██████████████████████| 71/71 [00:02<00:00, 32.63it/s, val_loss 2.5795]\n",
      "[0181/0200] Train:   0%|                                                     | 0/74 [00:00<?, ?it/s]"
     ]
    },
    {
     "name": "stdout",
     "output_type": "stream",
     "text": [
      "                  validation\n",
      " - Yaw          :   0.889607\n",
      " - Pitch        :   0.839142\n",
      " - Roll         :   0.903222\n",
      " - RMS          :   0.877756\n",
      " - 99% Tile     :   5.778767\n"
     ]
    },
    {
     "name": "stderr",
     "output_type": "stream",
     "text": [
      "[0181/0200] Train: 100%|███████████████████████████████| 74/74 [00:04<00:00, 18.45it/s, loss 5.6923]\n",
      "[0181/0200] Validation: 100%|██████████████████████| 71/71 [00:02<00:00, 33.16it/s, val_loss 2.7382]\n",
      "[0182/0200] Train:   0%|                                                     | 0/74 [00:00<?, ?it/s]"
     ]
    },
    {
     "name": "stdout",
     "output_type": "stream",
     "text": [
      "val_loss is not improved for 1 epochs\n",
      "                  validation\n",
      " - Yaw          :   1.071529\n",
      " - Pitch        :   0.892689\n",
      " - Roll         :   0.909977\n",
      " - RMS          :   0.961444\n",
      " - 99% Tile     :   5.778118\n"
     ]
    },
    {
     "name": "stderr",
     "output_type": "stream",
     "text": [
      "[0182/0200] Train: 100%|███████████████████████████████| 74/74 [00:04<00:00, 17.75it/s, loss 5.7397]\n",
      "[0182/0200] Validation: 100%|██████████████████████| 71/71 [00:02<00:00, 33.22it/s, val_loss 2.5350]\n",
      "[0183/0200] Train:   0%|                                                     | 0/74 [00:00<?, ?it/s]"
     ]
    },
    {
     "name": "stdout",
     "output_type": "stream",
     "text": [
      "                  validation\n",
      " - Yaw          :   0.875939\n",
      " - Pitch        :   0.790754\n",
      " - Roll         :   0.881047\n",
      " - RMS          :   0.850256\n",
      " - 99% Tile     :   5.749598\n"
     ]
    },
    {
     "name": "stderr",
     "output_type": "stream",
     "text": [
      "[0183/0200] Train: 100%|███████████████████████████████| 74/74 [00:04<00:00, 18.22it/s, loss 5.7319]\n",
      "[0183/0200] Validation: 100%|██████████████████████| 71/71 [00:02<00:00, 33.37it/s, val_loss 2.5681]\n",
      "[0184/0200] Train:   0%|                                                     | 0/74 [00:00<?, ?it/s]"
     ]
    },
    {
     "name": "stdout",
     "output_type": "stream",
     "text": [
      "val_loss is not improved for 1 epochs\n",
      "                  validation\n",
      " - Yaw          :   0.927992\n",
      " - Pitch        :   0.819565\n",
      " - Roll         :   0.901444\n",
      " - RMS          :   0.884206\n",
      " - 99% Tile     :   5.771357\n"
     ]
    },
    {
     "name": "stderr",
     "output_type": "stream",
     "text": [
      "[0184/0200] Train: 100%|███████████████████████████████| 74/74 [00:04<00:00, 18.43it/s, loss 5.6718]\n",
      "[0184/0200] Validation: 100%|██████████████████████| 71/71 [00:02<00:00, 33.09it/s, val_loss 2.5613]\n",
      "[0185/0200] Train:   0%|                                                     | 0/74 [00:00<?, ?it/s]"
     ]
    },
    {
     "name": "stdout",
     "output_type": "stream",
     "text": [
      "val_loss is not improved for 2 epochs\n",
      "                  validation\n",
      " - Yaw          :   0.977237\n",
      " - Pitch        :   0.778219\n",
      " - Roll         :   0.864602\n",
      " - RMS          :   0.877145\n",
      " - 99% Tile     :   5.703367\n"
     ]
    },
    {
     "name": "stderr",
     "output_type": "stream",
     "text": [
      "[0185/0200] Train: 100%|███████████████████████████████| 74/74 [00:04<00:00, 17.94it/s, loss 5.7119]\n",
      "[0185/0200] Validation: 100%|██████████████████████| 71/71 [00:02<00:00, 33.04it/s, val_loss 2.5589]\n",
      "[0186/0200] Train:   0%|                                                     | 0/74 [00:00<?, ?it/s]"
     ]
    },
    {
     "name": "stdout",
     "output_type": "stream",
     "text": [
      "val_loss is not improved for 3 epochs\n",
      "                  validation\n",
      " - Yaw          :   0.973842\n",
      " - Pitch        :   0.841619\n",
      " - Roll         :   0.882470\n",
      " - RMS          :   0.901008\n",
      " - 99% Tile     :   5.705519\n"
     ]
    },
    {
     "name": "stderr",
     "output_type": "stream",
     "text": [
      "[0186/0200] Train: 100%|███████████████████████████████| 74/74 [00:04<00:00, 18.35it/s, loss 5.8052]\n",
      "[0186/0200] Validation: 100%|██████████████████████| 71/71 [00:02<00:00, 32.88it/s, val_loss 2.6538]\n",
      "[0187/0200] Train:   0%|                                                     | 0/74 [00:00<?, ?it/s]"
     ]
    },
    {
     "name": "stdout",
     "output_type": "stream",
     "text": [
      "val_loss is not improved for 4 epochs\n",
      "                  validation\n",
      " - Yaw          :   1.054795\n",
      " - Pitch        :   0.823311\n",
      " - Roll         :   0.897010\n",
      " - RMS          :   0.930064\n",
      " - 99% Tile     :   5.692689\n"
     ]
    },
    {
     "name": "stderr",
     "output_type": "stream",
     "text": [
      "[0187/0200] Train: 100%|███████████████████████████████| 74/74 [00:04<00:00, 18.14it/s, loss 5.6902]\n",
      "[0187/0200] Validation: 100%|██████████████████████| 71/71 [00:02<00:00, 33.48it/s, val_loss 2.6255]\n",
      "[0188/0200] Train:   0%|                                                     | 0/74 [00:00<?, ?it/s]"
     ]
    },
    {
     "name": "stdout",
     "output_type": "stream",
     "text": [
      "Decaying lr from 0.000125 to 6.25e-05 because val_loss did not improved for 5 epochs\n",
      "val_loss is not improved for 5 epochs\n",
      "                  validation\n",
      " - Yaw          :   1.004965\n",
      " - Pitch        :   0.789664\n",
      " - Roll         :   0.896658\n",
      " - RMS          :   0.901392\n",
      " - 99% Tile     :   5.809473\n"
     ]
    },
    {
     "name": "stderr",
     "output_type": "stream",
     "text": [
      "[0188/0200] Train: 100%|███████████████████████████████| 74/74 [00:04<00:00, 18.17it/s, loss 5.5937]\n",
      "[0188/0200] Validation: 100%|██████████████████████| 71/71 [00:02<00:00, 32.54it/s, val_loss 2.5203]\n",
      "[0189/0200] Train:   0%|                                                     | 0/74 [00:00<?, ?it/s]"
     ]
    },
    {
     "name": "stdout",
     "output_type": "stream",
     "text": [
      "                  validation\n",
      " - Yaw          :   0.929337\n",
      " - Pitch        :   0.780689\n",
      " - Roll         :   0.868319\n",
      " - RMS          :   0.861611\n",
      " - 99% Tile     :   5.709681\n"
     ]
    },
    {
     "name": "stderr",
     "output_type": "stream",
     "text": [
      "[0189/0200] Train: 100%|███████████████████████████████| 74/74 [00:04<00:00, 18.13it/s, loss 5.5935]\n",
      "[0189/0200] Validation: 100%|██████████████████████| 71/71 [00:02<00:00, 32.89it/s, val_loss 2.5309]\n",
      "[0190/0200] Train:   0%|                                                     | 0/74 [00:00<?, ?it/s]"
     ]
    },
    {
     "name": "stdout",
     "output_type": "stream",
     "text": [
      "val_loss is not improved for 1 epochs\n",
      "                  validation\n",
      " - Yaw          :   0.882457\n",
      " - Pitch        :   0.811047\n",
      " - Roll         :   0.915735\n",
      " - RMS          :   0.870842\n",
      " - 99% Tile     :   5.720726\n"
     ]
    },
    {
     "name": "stderr",
     "output_type": "stream",
     "text": [
      "[0190/0200] Train: 100%|███████████████████████████████| 74/74 [00:04<00:00, 18.39it/s, loss 5.5092]\n",
      "[0190/0200] Validation: 100%|██████████████████████| 71/71 [00:02<00:00, 33.41it/s, val_loss 2.4845]\n",
      "[0191/0200] Train:   0%|                                                     | 0/74 [00:00<?, ?it/s]"
     ]
    },
    {
     "name": "stdout",
     "output_type": "stream",
     "text": [
      "                  validation\n",
      " - Yaw          :   0.901873\n",
      " - Pitch        :   0.748108\n",
      " - Roll         :   0.887787\n",
      " - RMS          :   0.848765\n",
      " - 99% Tile     :   5.693940\n"
     ]
    },
    {
     "name": "stderr",
     "output_type": "stream",
     "text": [
      "[0191/0200] Train: 100%|███████████████████████████████| 74/74 [00:04<00:00, 18.39it/s, loss 5.7383]\n",
      "[0191/0200] Validation: 100%|██████████████████████| 71/71 [00:02<00:00, 33.30it/s, val_loss 2.4586]\n",
      "[0192/0200] Train:   0%|                                                     | 0/74 [00:00<?, ?it/s]"
     ]
    },
    {
     "name": "stdout",
     "output_type": "stream",
     "text": [
      "                  validation\n",
      " - Yaw          :   0.905018\n",
      " - Pitch        :   0.742757\n",
      " - Roll         :   0.870031\n",
      " - RMS          :   0.842160\n",
      " - 99% Tile     :   5.696025\n"
     ]
    },
    {
     "name": "stderr",
     "output_type": "stream",
     "text": [
      "[0192/0200] Train: 100%|███████████████████████████████| 74/74 [00:04<00:00, 18.08it/s, loss 5.6230]\n",
      "[0192/0200] Validation: 100%|██████████████████████| 71/71 [00:02<00:00, 33.50it/s, val_loss 2.4224]\n",
      "[0193/0200] Train:   0%|                                                     | 0/74 [00:00<?, ?it/s]"
     ]
    },
    {
     "name": "stdout",
     "output_type": "stream",
     "text": [
      "                  validation\n",
      " - Yaw          :   0.862361\n",
      " - Pitch        :   0.766408\n",
      " - Roll         :   0.834094\n",
      " - RMS          :   0.821941\n",
      " - 99% Tile     :   5.671545\n"
     ]
    },
    {
     "name": "stderr",
     "output_type": "stream",
     "text": [
      "[0193/0200] Train: 100%|███████████████████████████████| 74/74 [00:04<00:00, 18.39it/s, loss 5.5388]\n",
      "[0193/0200] Validation: 100%|██████████████████████| 71/71 [00:02<00:00, 32.10it/s, val_loss 2.4925]\n",
      "[0194/0200] Train:   0%|                                                     | 0/74 [00:00<?, ?it/s]"
     ]
    },
    {
     "name": "stdout",
     "output_type": "stream",
     "text": [
      "val_loss is not improved for 1 epochs\n",
      "                  validation\n",
      " - Yaw          :   0.905303\n",
      " - Pitch        :   0.866038\n",
      " - Roll         :   0.832892\n",
      " - RMS          :   0.868582\n",
      " - 99% Tile     :   5.652086\n"
     ]
    },
    {
     "name": "stderr",
     "output_type": "stream",
     "text": [
      "[0194/0200] Train: 100%|███████████████████████████████| 74/74 [00:04<00:00, 18.09it/s, loss 5.6002]\n",
      "[0194/0200] Validation: 100%|██████████████████████| 71/71 [00:02<00:00, 33.46it/s, val_loss 2.4572]\n",
      "[0195/0200] Train:   0%|                                                     | 0/74 [00:00<?, ?it/s]"
     ]
    },
    {
     "name": "stdout",
     "output_type": "stream",
     "text": [
      "val_loss is not improved for 2 epochs\n",
      "                  validation\n",
      " - Yaw          :   0.895602\n",
      " - Pitch        :   0.793197\n",
      " - Roll         :   0.861991\n",
      " - RMS          :   0.851331\n",
      " - 99% Tile     :   5.623825\n"
     ]
    },
    {
     "name": "stderr",
     "output_type": "stream",
     "text": [
      "[0195/0200] Train: 100%|███████████████████████████████| 74/74 [00:03<00:00, 18.55it/s, loss 5.5640]\n",
      "[0195/0200] Validation: 100%|██████████████████████| 71/71 [00:02<00:00, 32.55it/s, val_loss 2.4657]\n",
      "[0196/0200] Train:   0%|                                                     | 0/74 [00:00<?, ?it/s]"
     ]
    },
    {
     "name": "stdout",
     "output_type": "stream",
     "text": [
      "val_loss is not improved for 3 epochs\n",
      "                  validation\n",
      " - Yaw          :   0.887268\n",
      " - Pitch        :   0.844850\n",
      " - Roll         :   0.827322\n",
      " - RMS          :   0.853518\n",
      " - 99% Tile     :   5.627386\n"
     ]
    },
    {
     "name": "stderr",
     "output_type": "stream",
     "text": [
      "[0196/0200] Train: 100%|███████████████████████████████| 74/74 [00:04<00:00, 18.34it/s, loss 5.5321]\n",
      "[0196/0200] Validation: 100%|██████████████████████| 71/71 [00:02<00:00, 32.46it/s, val_loss 2.4378]\n",
      "[0197/0200] Train:   0%|                                                     | 0/74 [00:00<?, ?it/s]"
     ]
    },
    {
     "name": "stdout",
     "output_type": "stream",
     "text": [
      "val_loss is not improved for 4 epochs\n",
      "                  validation\n",
      " - Yaw          :   0.905755\n",
      " - Pitch        :   0.786625\n",
      " - Roll         :   0.829655\n",
      " - RMS          :   0.842120\n",
      " - 99% Tile     :   5.638055\n"
     ]
    },
    {
     "name": "stderr",
     "output_type": "stream",
     "text": [
      "[0197/0200] Train: 100%|███████████████████████████████| 74/74 [00:04<00:00, 18.21it/s, loss 5.5046]\n",
      "[0197/0200] Validation: 100%|██████████████████████| 71/71 [00:02<00:00, 32.85it/s, val_loss 2.3913]\n",
      "[0198/0200] Train:   0%|                                                     | 0/74 [00:00<?, ?it/s]"
     ]
    },
    {
     "name": "stdout",
     "output_type": "stream",
     "text": [
      "                  validation\n",
      " - Yaw          :   0.843395\n",
      " - Pitch        :   0.780438\n",
      " - Roll         :   0.814873\n",
      " - RMS          :   0.813310\n",
      " - 99% Tile     :   5.627076\n"
     ]
    },
    {
     "name": "stderr",
     "output_type": "stream",
     "text": [
      "[0198/0200] Train: 100%|███████████████████████████████| 74/74 [00:04<00:00, 18.07it/s, loss 5.6347]\n",
      "[0198/0200] Validation: 100%|██████████████████████| 71/71 [00:02<00:00, 33.60it/s, val_loss 2.5220]\n",
      "[0199/0200] Train:   0%|                                                     | 0/74 [00:00<?, ?it/s]"
     ]
    },
    {
     "name": "stdout",
     "output_type": "stream",
     "text": [
      "val_loss is not improved for 1 epochs\n",
      "                  validation\n",
      " - Yaw          :   1.018119\n",
      " - Pitch        :   0.814228\n",
      " - Roll         :   0.873706\n",
      " - RMS          :   0.906071\n",
      " - 99% Tile     :   5.644281\n"
     ]
    },
    {
     "name": "stderr",
     "output_type": "stream",
     "text": [
      "[0199/0200] Train: 100%|███████████████████████████████| 74/74 [00:04<00:00, 18.28it/s, loss 5.5793]\n",
      "[0199/0200] Validation: 100%|██████████████████████| 71/71 [00:02<00:00, 32.48it/s, val_loss 2.4150]\n",
      "[0200/0200] Train:   0%|                                                     | 0/74 [00:00<?, ?it/s]"
     ]
    },
    {
     "name": "stdout",
     "output_type": "stream",
     "text": [
      "val_loss is not improved for 2 epochs\n",
      "                  validation\n",
      " - Yaw          :   0.831805\n",
      " - Pitch        :   0.847002\n",
      " - Roll         :   0.862261\n",
      " - RMS          :   0.847114\n",
      " - 99% Tile     :   5.615723\n"
     ]
    },
    {
     "name": "stderr",
     "output_type": "stream",
     "text": [
      "[0200/0200] Train: 100%|███████████████████████████████| 74/74 [00:03<00:00, 18.92it/s, loss 5.6265]\n",
      "[0200/0200] Validation: 100%|██████████████████████| 71/71 [00:02<00:00, 32.86it/s, val_loss 2.4153]\n"
     ]
    },
    {
     "name": "stdout",
     "output_type": "stream",
     "text": [
      "val_loss is not improved for 3 epochs\n",
      "                  validation\n",
      " - Yaw          :   0.894345\n",
      " - Pitch        :   0.796033\n",
      " - Roll         :   0.836978\n",
      " - RMS          :   0.843416\n",
      " - 99% Tile     :   5.604769\n"
     ]
    }
   ],
   "source": [
    "trainer.fit(ds_train, ds_test, start_epoch=101, num_epochs=200, batch_size=256, shuffle=True, pin_memory=True)"
   ]
  },
  {
   "cell_type": "code",
   "execution_count": null,
   "metadata": {},
   "outputs": [],
   "source": []
  }
 ],
 "metadata": {
  "kernelspec": {
   "display_name": "torch",
   "language": "python",
   "name": "torch"
  },
  "language_info": {
   "codemirror_mode": {
    "name": "ipython",
    "version": 3
   },
   "file_extension": ".py",
   "mimetype": "text/x-python",
   "name": "python",
   "nbconvert_exporter": "python",
   "pygments_lexer": "ipython3",
   "version": "3.7.9"
  }
 },
 "nbformat": 4,
 "nbformat_minor": 4
}
