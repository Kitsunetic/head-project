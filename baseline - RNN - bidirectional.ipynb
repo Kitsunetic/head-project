{
 "cells": [
  {
   "cell_type": "markdown",
   "metadata": {},
   "source": [
    "# 참고자료\n",
    "\n"
   ]
  },
  {
   "cell_type": "code",
   "execution_count": null,
   "metadata": {},
   "outputs": [],
   "source": [
    "!pip install --upgrade git+https://github.com/Kitsunetic/torch_burn.git"
   ]
  },
  {
   "cell_type": "code",
   "execution_count": 1,
   "metadata": {},
   "outputs": [],
   "source": [
    "from multiprocessing import cpu_count\n",
    "from pathlib import Path\n",
    "from typing import List, Union, AnyStr\n",
    "from math import pi\n",
    "import pickle\n",
    "\n",
    "import numpy as np\n",
    "import pytorch_lightning as pl\n",
    "import torch\n",
    "import torch.nn as nn\n",
    "from sklearn import model_selection\n",
    "from torch.utils.data import DataLoader, Dataset\n",
    "from tqdm import tqdm\n",
    "\n",
    "import torch_burn as tb\n",
    "import utils"
   ]
  },
  {
   "cell_type": "markdown",
   "metadata": {},
   "source": [
    "# Hyper Parameters"
   ]
  },
  {
   "cell_type": "code",
   "execution_count": 2,
   "metadata": {},
   "outputs": [],
   "source": [
    "EXPERIMENT_NAME = 'baseline - RNN(bidirectional)'\n",
    "CHECKPOINT_DIR = Path('checkpoint', EXPERIMENT_NAME)\n",
    "CHECKPOINT_DIR.mkdir(parents=True, exist_ok=True)\n",
    "\n",
    "DATA_FILEPATH = 'data/pth_nostd/C2-T18-win48-hop1.pth'\n",
    "\n",
    "NUM_EPOCHS = 40\n",
    "BATCH_SIZE = 1024"
   ]
  },
  {
   "cell_type": "markdown",
   "metadata": {},
   "source": [
    "# 데이터 로드"
   ]
  },
  {
   "cell_type": "code",
   "execution_count": 3,
   "metadata": {},
   "outputs": [],
   "source": [
    "train_ds, test_ds = utils.SequentialDataset.load_data(DATA_FILEPATH)"
   ]
  },
  {
   "cell_type": "code",
   "execution_count": 4,
   "metadata": {},
   "outputs": [
    {
     "data": {
      "text/plain": [
       "(177937, 176476)"
      ]
     },
     "execution_count": 4,
     "metadata": {},
     "output_type": "execute_result"
    }
   ],
   "source": [
    "len(train_ds), len(test_ds)"
   ]
  },
  {
   "cell_type": "markdown",
   "metadata": {},
   "source": [
    "# 모델, loss, optim, metrics, callbacks 생성"
   ]
  },
  {
   "cell_type": "code",
   "execution_count": 5,
   "metadata": {},
   "outputs": [],
   "source": [
    "model = utils.BaselineRNN(input_size=6,\n",
    "                          hidden_size=24,\n",
    "                          num_layers=8,\n",
    "                          dropout=0.0,\n",
    "                          bidirectional=True).cuda()"
   ]
  },
  {
   "cell_type": "code",
   "execution_count": 6,
   "metadata": {},
   "outputs": [],
   "source": [
    "criterion = nn.MSELoss().cuda()\n",
    "optimizer = torch.optim.Adam(model.parameters())"
   ]
  },
  {
   "cell_type": "code",
   "execution_count": 7,
   "metadata": {},
   "outputs": [],
   "source": [
    "metrics = [tb.metrics.ModuleMetric(criterion, 'loss'),\n",
    "           utils.HPMetric('hp_metric'),\n",
    "           utils.HPSignalHistory(CHECKPOINT_DIR / 'sample' / '{epoch:04d}.npy', 'hp_signal')]"
   ]
  },
  {
   "cell_type": "code",
   "execution_count": 8,
   "metadata": {},
   "outputs": [],
   "source": [
    "callbacks = [tb.callbacks.EarlyStopping(metrics[0])]"
   ]
  },
  {
   "cell_type": "code",
   "execution_count": 9,
   "metadata": {},
   "outputs": [],
   "source": [
    "trainer = tb.Trainer2(model=model, optim=optimizer, metrics=metrics, callbacks=callbacks, ncols=100)"
   ]
  },
  {
   "cell_type": "code",
   "execution_count": 10,
   "metadata": {},
   "outputs": [
    {
     "name": "stderr",
     "output_type": "stream",
     "text": [
      "[0001/0040] Train: 100%|█████████████████████████████| 174/174 [00:07<00:00, 22.31it/s, loss 0.0176]\n",
      "[0001/0040] Validation: 100%|████████████████████| 173/173 [00:03<00:00, 48.30it/s, val_loss 0.0054]\n",
      "[0002/0040] Train:   0%|                                                    | 0/174 [00:00<?, ?it/s]"
     ]
    },
    {
     "name": "stdout",
     "output_type": "stream",
     "text": [
      "                  validation\n",
      " - Yaw          :   3.797535\n",
      " - Pitch        :   2.077668\n",
      " - Roll         :   1.438341\n",
      " - RMS          :   2.633553\n",
      " - 99% Tile     :  17.078220\n",
      "Save output signals into checkpoint/baseline - RNN(bidirectional)/sample/0001.npy\n"
     ]
    },
    {
     "name": "stderr",
     "output_type": "stream",
     "text": [
      "[0002/0040] Train: 100%|█████████████████████████████| 174/174 [00:07<00:00, 21.81it/s, loss 0.0066]\n",
      "[0002/0040] Validation: 100%|████████████████████| 173/173 [00:03<00:00, 47.90it/s, val_loss 0.0042]\n",
      "[0003/0040] Train:   0%|                                                    | 0/174 [00:00<?, ?it/s]"
     ]
    },
    {
     "name": "stdout",
     "output_type": "stream",
     "text": [
      "                  validation\n",
      " - Yaw          :   2.963711\n",
      " - Pitch        :   2.266672\n",
      " - Roll         :   1.307801\n",
      " - RMS          :   2.282669\n",
      " - 99% Tile     :  15.131836\n",
      "Save output signals into checkpoint/baseline - RNN(bidirectional)/sample/0002.npy\n"
     ]
    },
    {
     "name": "stderr",
     "output_type": "stream",
     "text": [
      "[0003/0040] Train: 100%|█████████████████████████████| 174/174 [00:07<00:00, 21.93it/s, loss 0.0058]\n",
      "[0003/0040] Validation: 100%|████████████████████| 173/173 [00:03<00:00, 45.72it/s, val_loss 0.0035]\n",
      "[0004/0040] Train:   0%|                                                    | 0/174 [00:00<?, ?it/s]"
     ]
    },
    {
     "name": "stdout",
     "output_type": "stream",
     "text": [
      "                  validation\n",
      " - Yaw          :   2.557177\n",
      " - Pitch        :   1.827668\n",
      " - Roll         :   1.211487\n",
      " - RMS          :   1.944842\n",
      " - 99% Tile     :  14.064814\n",
      "Save output signals into checkpoint/baseline - RNN(bidirectional)/sample/0003.npy\n"
     ]
    },
    {
     "name": "stderr",
     "output_type": "stream",
     "text": [
      "[0004/0040] Train: 100%|█████████████████████████████| 174/174 [00:08<00:00, 21.67it/s, loss 0.0044]\n",
      "[0004/0040] Validation: 100%|████████████████████| 173/173 [00:03<00:00, 46.12it/s, val_loss 0.0029]\n",
      "[0005/0040] Train:   0%|                                                    | 0/174 [00:00<?, ?it/s]"
     ]
    },
    {
     "name": "stdout",
     "output_type": "stream",
     "text": [
      "                  validation\n",
      " - Yaw          :   2.346218\n",
      " - Pitch        :   1.665156\n",
      " - Roll         :   1.090693\n",
      " - RMS          :   1.776429\n",
      " - 99% Tile     :  12.614428\n",
      "Save output signals into checkpoint/baseline - RNN(bidirectional)/sample/0004.npy\n"
     ]
    },
    {
     "name": "stderr",
     "output_type": "stream",
     "text": [
      "[0005/0040] Train: 100%|█████████████████████████████| 174/174 [00:08<00:00, 21.73it/s, loss 0.0039]\n",
      "[0005/0040] Validation: 100%|████████████████████| 173/173 [00:03<00:00, 47.37it/s, val_loss 0.0029]\n",
      "[0006/0040] Train:   0%|                                                    | 0/174 [00:00<?, ?it/s]"
     ]
    },
    {
     "name": "stdout",
     "output_type": "stream",
     "text": [
      "val_loss is not improved for 1 epochs\n",
      "                  validation\n",
      " - Yaw          :   2.857717\n",
      " - Pitch        :   1.347451\n",
      " - Roll         :   1.056299\n",
      " - RMS          :   1.923360\n",
      " - 99% Tile     :  12.281094\n",
      "Save output signals into checkpoint/baseline - RNN(bidirectional)/sample/0005.npy\n"
     ]
    },
    {
     "name": "stderr",
     "output_type": "stream",
     "text": [
      "[0006/0040] Train: 100%|█████████████████████████████| 174/174 [00:08<00:00, 21.73it/s, loss 0.0036]\n",
      "[0006/0040] Validation: 100%|████████████████████| 173/173 [00:03<00:00, 46.94it/s, val_loss 0.0027]\n",
      "[0007/0040] Train:   0%|                                                    | 0/174 [00:00<?, ?it/s]"
     ]
    },
    {
     "name": "stdout",
     "output_type": "stream",
     "text": [
      "                  validation\n",
      " - Yaw          :   2.107429\n",
      " - Pitch        :   2.100306\n",
      " - Roll         :   0.888302\n",
      " - RMS          :   1.792728\n",
      " - 99% Tile     :  11.810807\n",
      "Save output signals into checkpoint/baseline - RNN(bidirectional)/sample/0006.npy\n"
     ]
    },
    {
     "name": "stderr",
     "output_type": "stream",
     "text": [
      "[0007/0040] Train: 100%|█████████████████████████████| 174/174 [00:07<00:00, 21.90it/s, loss 0.0034]\n",
      "[0007/0040] Validation: 100%|████████████████████| 173/173 [00:04<00:00, 38.79it/s, val_loss 0.0024]\n",
      "[0008/0040] Train:   0%|                                                    | 0/174 [00:00<?, ?it/s]"
     ]
    },
    {
     "name": "stdout",
     "output_type": "stream",
     "text": [
      "                  validation\n",
      " - Yaw          :   2.098709\n",
      " - Pitch        :   1.403794\n",
      " - Roll         :   0.847057\n",
      " - RMS          :   1.537609\n",
      " - 99% Tile     :  11.476257\n",
      "Save output signals into checkpoint/baseline - RNN(bidirectional)/sample/0007.npy\n"
     ]
    },
    {
     "name": "stderr",
     "output_type": "stream",
     "text": [
      "[0008/0040] Train: 100%|█████████████████████████████| 174/174 [00:07<00:00, 21.84it/s, loss 0.0033]\n",
      "[0008/0040] Validation: 100%|████████████████████| 173/173 [00:03<00:00, 47.25it/s, val_loss 0.0025]\n",
      "[0009/0040] Train:   0%|                                                    | 0/174 [00:00<?, ?it/s]"
     ]
    },
    {
     "name": "stdout",
     "output_type": "stream",
     "text": [
      "val_loss is not improved for 1 epochs\n",
      "                  validation\n",
      " - Yaw          :   2.476879\n",
      " - Pitch        :   1.407494\n",
      " - Roll         :   0.934589\n",
      " - RMS          :   1.731033\n",
      " - 99% Tile     :  11.441103\n",
      "Save output signals into checkpoint/baseline - RNN(bidirectional)/sample/0008.npy\n"
     ]
    },
    {
     "name": "stderr",
     "output_type": "stream",
     "text": [
      "[0009/0040] Train: 100%|█████████████████████████████| 174/174 [00:07<00:00, 22.07it/s, loss 0.0031]\n",
      "[0009/0040] Validation: 100%|████████████████████| 173/173 [00:03<00:00, 48.00it/s, val_loss 0.0026]\n",
      "[0010/0040] Train:   0%|                                                    | 0/174 [00:00<?, ?it/s]"
     ]
    },
    {
     "name": "stdout",
     "output_type": "stream",
     "text": [
      "val_loss is not improved for 2 epochs\n",
      "                  validation\n",
      " - Yaw          :   2.431127\n",
      " - Pitch        :   1.956471\n",
      " - Roll         :   0.884288\n",
      " - RMS          :   1.872620\n",
      " - 99% Tile     :  11.579388\n",
      "Save output signals into checkpoint/baseline - RNN(bidirectional)/sample/0009.npy\n"
     ]
    },
    {
     "name": "stderr",
     "output_type": "stream",
     "text": [
      "[0010/0040] Train: 100%|█████████████████████████████| 174/174 [00:08<00:00, 21.66it/s, loss 0.0030]\n",
      "[0010/0040] Validation: 100%|████████████████████| 173/173 [00:03<00:00, 46.50it/s, val_loss 0.0028]\n",
      "[0011/0040] Train:   0%|                                                    | 0/174 [00:00<?, ?it/s]"
     ]
    },
    {
     "name": "stdout",
     "output_type": "stream",
     "text": [
      "val_loss is not improved for 3 epochs\n",
      "                  validation\n",
      " - Yaw          :   2.533130\n",
      " - Pitch        :   2.022649\n",
      " - Roll         :   0.974156\n",
      " - RMS          :   1.954212\n",
      " - 99% Tile     :  11.473905\n",
      "Save output signals into checkpoint/baseline - RNN(bidirectional)/sample/0010.npy\n"
     ]
    },
    {
     "name": "stderr",
     "output_type": "stream",
     "text": [
      "[0011/0040] Train: 100%|█████████████████████████████| 174/174 [00:08<00:00, 21.17it/s, loss 0.0030]\n",
      "[0011/0040] Validation: 100%|████████████████████| 173/173 [00:03<00:00, 46.58it/s, val_loss 0.0022]\n",
      "[0012/0040] Train:   0%|                                                    | 0/174 [00:00<?, ?it/s]"
     ]
    },
    {
     "name": "stdout",
     "output_type": "stream",
     "text": [
      "                  validation\n",
      " - Yaw          :   1.999643\n",
      " - Pitch        :   1.295353\n",
      " - Roll         :   0.842198\n",
      " - RMS          :   1.458973\n",
      " - 99% Tile     :  11.059967\n",
      "Save output signals into checkpoint/baseline - RNN(bidirectional)/sample/0011.npy\n"
     ]
    },
    {
     "name": "stderr",
     "output_type": "stream",
     "text": [
      "[0012/0040] Train: 100%|█████████████████████████████| 174/174 [00:08<00:00, 20.49it/s, loss 0.0029]\n",
      "[0012/0040] Validation: 100%|████████████████████| 173/173 [00:04<00:00, 41.33it/s, val_loss 0.0026]\n",
      "[0013/0040] Train:   0%|                                                    | 0/174 [00:00<?, ?it/s]"
     ]
    },
    {
     "name": "stdout",
     "output_type": "stream",
     "text": [
      "val_loss is not improved for 1 epochs\n",
      "                  validation\n",
      " - Yaw          :   2.780653\n",
      " - Pitch        :   1.249660\n",
      " - Roll         :   0.850899\n",
      " - RMS          :   1.827358\n",
      " - 99% Tile     :  11.286803\n",
      "Save output signals into checkpoint/baseline - RNN(bidirectional)/sample/0012.npy\n"
     ]
    },
    {
     "name": "stderr",
     "output_type": "stream",
     "text": [
      "[0013/0040] Train: 100%|█████████████████████████████| 174/174 [00:08<00:00, 19.94it/s, loss 0.0029]\n",
      "[0013/0040] Validation: 100%|████████████████████| 173/173 [00:04<00:00, 41.02it/s, val_loss 0.0022]\n",
      "[0014/0040] Train:   0%|                                                    | 0/174 [00:00<?, ?it/s]"
     ]
    },
    {
     "name": "stdout",
     "output_type": "stream",
     "text": [
      "                  validation\n",
      " - Yaw          :   2.034060\n",
      " - Pitch        :   1.211007\n",
      " - Roll         :   0.767123\n",
      " - RMS          :   1.436711\n",
      " - 99% Tile     :  11.059573\n",
      "Save output signals into checkpoint/baseline - RNN(bidirectional)/sample/0013.npy\n"
     ]
    },
    {
     "name": "stderr",
     "output_type": "stream",
     "text": [
      "[0014/0040] Train: 100%|█████████████████████████████| 174/174 [00:08<00:00, 20.01it/s, loss 0.0029]\n",
      "[0014/0040] Validation: 100%|████████████████████| 173/173 [00:04<00:00, 39.51it/s, val_loss 0.0024]\n",
      "[0015/0040] Train:   0%|                                                    | 0/174 [00:00<?, ?it/s]"
     ]
    },
    {
     "name": "stdout",
     "output_type": "stream",
     "text": [
      "val_loss is not improved for 1 epochs\n",
      "                  validation\n",
      " - Yaw          :   2.219164\n",
      " - Pitch        :   1.876010\n",
      " - Roll         :   0.879200\n",
      " - RMS          :   1.752816\n",
      " - 99% Tile     :  11.058107\n",
      "Save output signals into checkpoint/baseline - RNN(bidirectional)/sample/0014.npy\n"
     ]
    },
    {
     "name": "stderr",
     "output_type": "stream",
     "text": [
      "[0015/0040] Train: 100%|█████████████████████████████| 174/174 [00:08<00:00, 20.15it/s, loss 0.0028]\n",
      "[0015/0040] Validation: 100%|████████████████████| 173/173 [00:04<00:00, 42.79it/s, val_loss 0.0023]\n",
      "[0016/0040] Train:   0%|                                                    | 0/174 [00:00<?, ?it/s]"
     ]
    },
    {
     "name": "stdout",
     "output_type": "stream",
     "text": [
      "val_loss is not improved for 2 epochs\n",
      "                  validation\n",
      " - Yaw          :   2.132629\n",
      " - Pitch        :   1.709875\n",
      " - Roll         :   0.799467\n",
      " - RMS          :   1.644276\n",
      " - 99% Tile     :  10.852460\n",
      "Save output signals into checkpoint/baseline - RNN(bidirectional)/sample/0015.npy\n"
     ]
    },
    {
     "name": "stderr",
     "output_type": "stream",
     "text": [
      "[0016/0040] Train: 100%|█████████████████████████████| 174/174 [00:08<00:00, 20.04it/s, loss 0.0028]\n",
      "[0016/0040] Validation: 100%|████████████████████| 173/173 [00:04<00:00, 40.29it/s, val_loss 0.0021]\n",
      "[0017/0040] Train:   0%|                                                    | 0/174 [00:00<?, ?it/s]"
     ]
    },
    {
     "name": "stdout",
     "output_type": "stream",
     "text": [
      "                  validation\n",
      " - Yaw          :   1.932959\n",
      " - Pitch        :   1.196811\n",
      " - Roll         :   0.771942\n",
      " - RMS          :   1.386191\n",
      " - 99% Tile     :  10.749863\n",
      "Save output signals into checkpoint/baseline - RNN(bidirectional)/sample/0016.npy\n"
     ]
    },
    {
     "name": "stderr",
     "output_type": "stream",
     "text": [
      "[0017/0040] Train: 100%|█████████████████████████████| 174/174 [00:08<00:00, 20.18it/s, loss 0.0028]\n",
      "[0017/0040] Validation: 100%|████████████████████| 173/173 [00:04<00:00, 40.52it/s, val_loss 0.0022]\n",
      "[0018/0040] Train:   0%|                                                    | 0/174 [00:00<?, ?it/s]"
     ]
    },
    {
     "name": "stdout",
     "output_type": "stream",
     "text": [
      "val_loss is not improved for 1 epochs\n",
      "                  validation\n",
      " - Yaw          :   2.225994\n",
      " - Pitch        :   1.255316\n",
      " - Roll         :   0.937423\n",
      " - RMS          :   1.571584\n",
      " - 99% Tile     :  10.869392\n",
      "Save output signals into checkpoint/baseline - RNN(bidirectional)/sample/0017.npy\n"
     ]
    },
    {
     "name": "stderr",
     "output_type": "stream",
     "text": [
      "[0018/0040] Train: 100%|█████████████████████████████| 174/174 [00:08<00:00, 19.91it/s, loss 0.0029]\n",
      "[0018/0040] Validation: 100%|████████████████████| 173/173 [00:04<00:00, 41.72it/s, val_loss 0.0024]\n",
      "[0019/0040] Train:   0%|                                                    | 0/174 [00:00<?, ?it/s]"
     ]
    },
    {
     "name": "stdout",
     "output_type": "stream",
     "text": [
      "val_loss is not improved for 2 epochs\n",
      "                  validation\n",
      " - Yaw          :   2.804356\n",
      " - Pitch        :   1.271090\n",
      " - Roll         :   0.820907\n",
      " - RMS          :   1.839743\n",
      " - 99% Tile     :  11.127600\n",
      "Save output signals into checkpoint/baseline - RNN(bidirectional)/sample/0018.npy\n"
     ]
    },
    {
     "name": "stderr",
     "output_type": "stream",
     "text": [
      "[0019/0040] Train: 100%|█████████████████████████████| 174/174 [00:08<00:00, 20.27it/s, loss 0.0027]\n",
      "[0019/0040] Validation: 100%|████████████████████| 173/173 [00:03<00:00, 48.88it/s, val_loss 0.0021]\n",
      "[0020/0040] Train:   0%|                                                    | 0/174 [00:00<?, ?it/s]"
     ]
    },
    {
     "name": "stdout",
     "output_type": "stream",
     "text": [
      "val_loss is not improved for 3 epochs\n",
      "                  validation\n",
      " - Yaw          :   2.218244\n",
      " - Pitch        :   1.180621\n",
      " - Roll         :   0.771226\n",
      " - RMS          :   1.517593\n",
      " - 99% Tile     :  10.697036\n",
      "Save output signals into checkpoint/baseline - RNN(bidirectional)/sample/0019.npy\n"
     ]
    },
    {
     "name": "stderr",
     "output_type": "stream",
     "text": [
      "[0020/0040] Train: 100%|█████████████████████████████| 174/174 [00:07<00:00, 22.27it/s, loss 0.0027]\n",
      "[0020/0040] Validation: 100%|████████████████████| 173/173 [00:03<00:00, 49.04it/s, val_loss 0.0021]\n",
      "[0021/0040] Train:   0%|                                                    | 0/174 [00:00<?, ?it/s]"
     ]
    },
    {
     "name": "stdout",
     "output_type": "stream",
     "text": [
      "val_loss is not improved for 4 epochs\n",
      "                  validation\n",
      " - Yaw          :   1.957148\n",
      " - Pitch        :   1.221548\n",
      " - Roll         :   0.744066\n",
      " - RMS          :   1.399553\n",
      " - 99% Tile     :  10.760774\n",
      "Save output signals into checkpoint/baseline - RNN(bidirectional)/sample/0020.npy\n"
     ]
    },
    {
     "name": "stderr",
     "output_type": "stream",
     "text": [
      "[0021/0040] Train: 100%|█████████████████████████████| 174/174 [00:07<00:00, 22.57it/s, loss 0.0027]\n",
      "[0021/0040] Validation: 100%|████████████████████| 173/173 [00:03<00:00, 47.82it/s, val_loss 0.0021]\n",
      "[0022/0040] Train:   0%|                                                    | 0/174 [00:00<?, ?it/s]"
     ]
    },
    {
     "name": "stdout",
     "output_type": "stream",
     "text": [
      "val_loss is not improved for 5 epochs\n",
      "                  validation\n",
      " - Yaw          :   2.211771\n",
      " - Pitch        :   1.157482\n",
      " - Roll         :   0.753191\n",
      " - RMS          :   1.505433\n",
      " - 99% Tile     :  10.634888\n",
      "Save output signals into checkpoint/baseline - RNN(bidirectional)/sample/0021.npy\n"
     ]
    },
    {
     "name": "stderr",
     "output_type": "stream",
     "text": [
      "[0022/0040] Train: 100%|█████████████████████████████| 174/174 [00:07<00:00, 22.17it/s, loss 0.0026]\n",
      "[0022/0040] Validation: 100%|████████████████████| 173/173 [00:03<00:00, 47.32it/s, val_loss 0.0023]\n",
      "[0023/0040] Train:   0%|                                                    | 0/174 [00:00<?, ?it/s]"
     ]
    },
    {
     "name": "stdout",
     "output_type": "stream",
     "text": [
      "val_loss is not improved for 6 epochs\n",
      "                  validation\n",
      " - Yaw          :   2.654398\n",
      " - Pitch        :   1.246874\n",
      " - Roll         :   0.757267\n",
      " - RMS          :   1.748712\n",
      " - 99% Tile     :  10.840891\n",
      "Save output signals into checkpoint/baseline - RNN(bidirectional)/sample/0022.npy\n"
     ]
    },
    {
     "name": "stderr",
     "output_type": "stream",
     "text": [
      "[0023/0040] Train: 100%|█████████████████████████████| 174/174 [00:07<00:00, 22.63it/s, loss 0.0026]\n",
      "[0023/0040] Validation: 100%|████████████████████| 173/173 [00:03<00:00, 46.78it/s, val_loss 0.0020]\n",
      "[0024/0040] Train:   0%|                                                    | 0/174 [00:00<?, ?it/s]"
     ]
    },
    {
     "name": "stdout",
     "output_type": "stream",
     "text": [
      "                  validation\n",
      " - Yaw          :   1.945833\n",
      " - Pitch        :   1.318280\n",
      " - Roll         :   0.720828\n",
      " - RMS          :   1.419357\n",
      " - 99% Tile     :  10.568094\n",
      "Save output signals into checkpoint/baseline - RNN(bidirectional)/sample/0023.npy\n"
     ]
    },
    {
     "name": "stderr",
     "output_type": "stream",
     "text": [
      "[0024/0040] Train: 100%|█████████████████████████████| 174/174 [00:07<00:00, 22.41it/s, loss 0.0026]\n",
      "[0024/0040] Validation: 100%|████████████████████| 173/173 [00:03<00:00, 47.46it/s, val_loss 0.0021]\n",
      "[0025/0040] Train:   0%|                                                    | 0/174 [00:00<?, ?it/s]"
     ]
    },
    {
     "name": "stdout",
     "output_type": "stream",
     "text": [
      "val_loss is not improved for 1 epochs\n",
      "                  validation\n",
      " - Yaw          :   2.004757\n",
      " - Pitch        :   1.308678\n",
      " - Roll         :   0.987882\n",
      " - RMS          :   1.495281\n",
      " - 99% Tile     :  10.614417\n",
      "Save output signals into checkpoint/baseline - RNN(bidirectional)/sample/0024.npy\n"
     ]
    },
    {
     "name": "stderr",
     "output_type": "stream",
     "text": [
      "[0025/0040] Train: 100%|█████████████████████████████| 174/174 [00:07<00:00, 22.49it/s, loss 0.0026]\n",
      "[0025/0040] Validation: 100%|████████████████████| 173/173 [00:03<00:00, 48.17it/s, val_loss 0.0022]\n",
      "[0026/0040] Train:   0%|                                                    | 0/174 [00:00<?, ?it/s]"
     ]
    },
    {
     "name": "stdout",
     "output_type": "stream",
     "text": [
      "val_loss is not improved for 2 epochs\n",
      "                  validation\n",
      " - Yaw          :   2.346484\n",
      " - Pitch        :   1.385502\n",
      " - Roll         :   0.800769\n",
      " - RMS          :   1.639800\n",
      " - 99% Tile     :  10.595560\n",
      "Save output signals into checkpoint/baseline - RNN(bidirectional)/sample/0025.npy\n"
     ]
    },
    {
     "name": "stderr",
     "output_type": "stream",
     "text": [
      "[0026/0040] Train: 100%|█████████████████████████████| 174/174 [00:07<00:00, 22.37it/s, loss 0.0026]\n",
      "[0026/0040] Validation: 100%|████████████████████| 173/173 [00:03<00:00, 47.56it/s, val_loss 0.0022]\n",
      "[0027/0040] Train:   0%|                                                    | 0/174 [00:00<?, ?it/s]"
     ]
    },
    {
     "name": "stdout",
     "output_type": "stream",
     "text": [
      "val_loss is not improved for 3 epochs\n",
      "                  validation\n",
      " - Yaw          :   2.404122\n",
      " - Pitch        :   1.188826\n",
      " - Roll         :   0.717563\n",
      " - RMS          :   1.602915\n",
      " - 99% Tile     :  10.586759\n",
      "Save output signals into checkpoint/baseline - RNN(bidirectional)/sample/0026.npy\n"
     ]
    },
    {
     "name": "stderr",
     "output_type": "stream",
     "text": [
      "[0027/0040] Train: 100%|█████████████████████████████| 174/174 [00:07<00:00, 22.25it/s, loss 0.0026]\n",
      "[0027/0040] Validation: 100%|████████████████████| 173/173 [00:03<00:00, 47.53it/s, val_loss 0.0022]\n",
      "[0028/0040] Train:   0%|                                                    | 0/174 [00:00<?, ?it/s]"
     ]
    },
    {
     "name": "stdout",
     "output_type": "stream",
     "text": [
      "val_loss is not improved for 4 epochs\n",
      "                  validation\n",
      " - Yaw          :   2.198437\n",
      " - Pitch        :   1.120315\n",
      " - Roll         :   1.061849\n",
      " - RMS          :   1.550887\n",
      " - 99% Tile     :  10.864284\n",
      "Save output signals into checkpoint/baseline - RNN(bidirectional)/sample/0027.npy\n"
     ]
    },
    {
     "name": "stderr",
     "output_type": "stream",
     "text": [
      "[0028/0040] Train: 100%|█████████████████████████████| 174/174 [00:07<00:00, 22.44it/s, loss 0.0026]\n",
      "[0028/0040] Validation: 100%|████████████████████| 173/173 [00:03<00:00, 47.70it/s, val_loss 0.0020]\n",
      "[0029/0040] Train:   0%|                                                    | 0/174 [00:00<?, ?it/s]"
     ]
    },
    {
     "name": "stdout",
     "output_type": "stream",
     "text": [
      "val_loss is not improved for 5 epochs\n",
      "                  validation\n",
      " - Yaw          :   1.973591\n",
      " - Pitch        :   1.233966\n",
      " - Roll         :   0.941801\n",
      " - RMS          :   1.449681\n",
      " - 99% Tile     :  10.548309\n",
      "Save output signals into checkpoint/baseline - RNN(bidirectional)/sample/0028.npy\n"
     ]
    },
    {
     "name": "stderr",
     "output_type": "stream",
     "text": [
      "[0029/0040] Train: 100%|█████████████████████████████| 174/174 [00:07<00:00, 22.43it/s, loss 0.0026]\n",
      "[0029/0040] Validation: 100%|████████████████████| 173/173 [00:03<00:00, 47.40it/s, val_loss 0.0026]\n",
      "[0030/0040] Train:   0%|                                                    | 0/174 [00:00<?, ?it/s]"
     ]
    },
    {
     "name": "stdout",
     "output_type": "stream",
     "text": [
      "val_loss is not improved for 6 epochs\n",
      "                  validation\n",
      " - Yaw          :   2.731345\n",
      " - Pitch        :   1.538744\n",
      " - Roll         :   1.232677\n",
      " - RMS          :   1.944862\n",
      " - 99% Tile     :  11.138471\n",
      "Save output signals into checkpoint/baseline - RNN(bidirectional)/sample/0029.npy\n"
     ]
    },
    {
     "name": "stderr",
     "output_type": "stream",
     "text": [
      "[0030/0040] Train: 100%|█████████████████████████████| 174/174 [00:07<00:00, 22.52it/s, loss 0.0025]\n",
      "[0030/0040] Validation: 100%|████████████████████| 173/173 [00:03<00:00, 47.97it/s, val_loss 0.0022]\n",
      "[0031/0040] Train:   0%|                                                    | 0/174 [00:00<?, ?it/s]"
     ]
    },
    {
     "name": "stdout",
     "output_type": "stream",
     "text": [
      "val_loss is not improved for 7 epochs\n",
      "                  validation\n",
      " - Yaw          :   2.270794\n",
      " - Pitch        :   1.329013\n",
      " - Roll         :   0.724267\n",
      " - RMS          :   1.575579\n",
      " - 99% Tile     :  10.714655\n",
      "Save output signals into checkpoint/baseline - RNN(bidirectional)/sample/0030.npy\n"
     ]
    },
    {
     "name": "stderr",
     "output_type": "stream",
     "text": [
      "[0031/0040] Train: 100%|█████████████████████████████| 174/174 [00:07<00:00, 22.33it/s, loss 0.0025]\n",
      "[0031/0040] Validation: 100%|████████████████████| 173/173 [00:03<00:00, 47.64it/s, val_loss 0.0020]\n",
      "[0032/0040] Train:   0%|                                                    | 0/174 [00:00<?, ?it/s]"
     ]
    },
    {
     "name": "stdout",
     "output_type": "stream",
     "text": [
      "                  validation\n",
      " - Yaw          :   2.077272\n",
      " - Pitch        :   1.080652\n",
      " - Roll         :   0.835569\n",
      " - RMS          :   1.435391\n",
      " - 99% Tile     :  10.336778\n",
      "Save output signals into checkpoint/baseline - RNN(bidirectional)/sample/0031.npy\n"
     ]
    },
    {
     "name": "stderr",
     "output_type": "stream",
     "text": [
      "[0032/0040] Train: 100%|█████████████████████████████| 174/174 [00:07<00:00, 22.43it/s, loss 0.0025]\n",
      "[0032/0040] Validation: 100%|████████████████████| 173/173 [00:03<00:00, 48.53it/s, val_loss 0.0020]\n",
      "[0033/0040] Train:   0%|                                                    | 0/174 [00:00<?, ?it/s]"
     ]
    },
    {
     "name": "stdout",
     "output_type": "stream",
     "text": [
      "val_loss is not improved for 1 epochs\n",
      "                  validation\n",
      " - Yaw          :   1.995172\n",
      " - Pitch        :   1.242140\n",
      " - Roll         :   0.810019\n",
      " - RMS          :   1.435241\n",
      " - 99% Tile     :  10.420464\n",
      "Save output signals into checkpoint/baseline - RNN(bidirectional)/sample/0032.npy\n"
     ]
    },
    {
     "name": "stderr",
     "output_type": "stream",
     "text": [
      "[0033/0040] Train: 100%|█████████████████████████████| 174/174 [00:07<00:00, 22.25it/s, loss 0.0025]\n",
      "[0033/0040] Validation: 100%|████████████████████| 173/173 [00:03<00:00, 48.64it/s, val_loss 0.0023]\n",
      "[0034/0040] Train:   0%|                                                    | 0/174 [00:00<?, ?it/s]"
     ]
    },
    {
     "name": "stdout",
     "output_type": "stream",
     "text": [
      "val_loss is not improved for 2 epochs\n",
      "                  validation\n",
      " - Yaw          :   2.692709\n",
      " - Pitch        :   1.244143\n",
      " - Roll         :   0.915871\n",
      " - RMS          :   1.792335\n",
      " - 99% Tile     :  10.494092\n",
      "Save output signals into checkpoint/baseline - RNN(bidirectional)/sample/0033.npy\n"
     ]
    },
    {
     "name": "stderr",
     "output_type": "stream",
     "text": [
      "[0034/0040] Train: 100%|█████████████████████████████| 174/174 [00:08<00:00, 21.39it/s, loss 0.0025]\n",
      "[0034/0040] Validation: 100%|████████████████████| 173/173 [00:03<00:00, 48.15it/s, val_loss 0.0020]\n",
      "[0035/0040] Train:   0%|                                                    | 0/174 [00:00<?, ?it/s]"
     ]
    },
    {
     "name": "stdout",
     "output_type": "stream",
     "text": [
      "val_loss is not improved for 3 epochs\n",
      "                  validation\n",
      " - Yaw          :   1.945889\n",
      " - Pitch        :   1.221609\n",
      " - Roll         :   0.737017\n",
      " - RMS          :   1.393079\n",
      " - 99% Tile     :  10.494913\n",
      "Save output signals into checkpoint/baseline - RNN(bidirectional)/sample/0034.npy\n"
     ]
    },
    {
     "name": "stderr",
     "output_type": "stream",
     "text": [
      "[0035/0040] Train: 100%|█████████████████████████████| 174/174 [00:07<00:00, 22.30it/s, loss 0.0025]\n",
      "[0035/0040] Validation: 100%|████████████████████| 173/173 [00:03<00:00, 47.00it/s, val_loss 0.0020]\n",
      "[0036/0040] Train:   0%|                                                    | 0/174 [00:00<?, ?it/s]"
     ]
    },
    {
     "name": "stdout",
     "output_type": "stream",
     "text": [
      "                  validation\n",
      " - Yaw          :   1.909798\n",
      " - Pitch        :   1.192040\n",
      " - Roll         :   0.765100\n",
      " - RMS          :   1.372791\n",
      " - 99% Tile     :  10.409516\n",
      "Save output signals into checkpoint/baseline - RNN(bidirectional)/sample/0035.npy\n"
     ]
    },
    {
     "name": "stderr",
     "output_type": "stream",
     "text": [
      "[0036/0040] Train: 100%|█████████████████████████████| 174/174 [00:07<00:00, 22.31it/s, loss 0.0025]\n",
      "[0036/0040] Validation: 100%|████████████████████| 173/173 [00:03<00:00, 50.15it/s, val_loss 0.0020]\n",
      "[0037/0040] Train:   0%|                                                    | 0/174 [00:00<?, ?it/s]"
     ]
    },
    {
     "name": "stdout",
     "output_type": "stream",
     "text": [
      "val_loss is not improved for 1 epochs\n",
      "                  validation\n",
      " - Yaw          :   2.085222\n",
      " - Pitch        :   1.085955\n",
      " - Roll         :   0.713700\n",
      " - RMS          :   1.418546\n",
      " - 99% Tile     :  10.511860\n",
      "Save output signals into checkpoint/baseline - RNN(bidirectional)/sample/0036.npy\n"
     ]
    },
    {
     "name": "stderr",
     "output_type": "stream",
     "text": [
      "[0037/0040] Train: 100%|█████████████████████████████| 174/174 [00:07<00:00, 24.07it/s, loss 0.0025]\n",
      "[0037/0040] Validation: 100%|████████████████████| 173/173 [00:03<00:00, 53.03it/s, val_loss 0.0019]\n",
      "[0038/0040] Train:   0%|                                                    | 0/174 [00:00<?, ?it/s]"
     ]
    },
    {
     "name": "stdout",
     "output_type": "stream",
     "text": [
      "                  validation\n",
      " - Yaw          :   1.952878\n",
      " - Pitch        :   1.222878\n",
      " - Roll         :   0.686971\n",
      " - RMS          :   1.388175\n",
      " - 99% Tile     :  10.325590\n",
      "Save output signals into checkpoint/baseline - RNN(bidirectional)/sample/0037.npy\n"
     ]
    },
    {
     "name": "stderr",
     "output_type": "stream",
     "text": [
      "[0038/0040] Train: 100%|█████████████████████████████| 174/174 [00:07<00:00, 24.03it/s, loss 0.0024]\n",
      "[0038/0040] Validation: 100%|████████████████████| 173/173 [00:03<00:00, 52.44it/s, val_loss 0.0020]\n",
      "[0039/0040] Train:   0%|                                                    | 0/174 [00:00<?, ?it/s]"
     ]
    },
    {
     "name": "stdout",
     "output_type": "stream",
     "text": [
      "val_loss is not improved for 1 epochs\n",
      "                  validation\n",
      " - Yaw          :   1.931826\n",
      " - Pitch        :   1.153713\n",
      " - Roll         :   0.712060\n",
      " - RMS          :   1.362600\n",
      " - 99% Tile     :  10.460474\n",
      "Save output signals into checkpoint/baseline - RNN(bidirectional)/sample/0038.npy\n"
     ]
    },
    {
     "name": "stderr",
     "output_type": "stream",
     "text": [
      "[0039/0040] Train: 100%|█████████████████████████████| 174/174 [00:07<00:00, 24.14it/s, loss 0.0024]\n",
      "[0039/0040] Validation: 100%|████████████████████| 173/173 [00:03<00:00, 52.67it/s, val_loss 0.0019]\n",
      "[0040/0040] Train:   0%|                                                    | 0/174 [00:00<?, ?it/s]"
     ]
    },
    {
     "name": "stdout",
     "output_type": "stream",
     "text": [
      "                  validation\n",
      " - Yaw          :   1.862078\n",
      " - Pitch        :   1.090223\n",
      " - Roll         :   0.788388\n",
      " - RMS          :   1.326333\n",
      " - 99% Tile     :  10.319890\n",
      "Save output signals into checkpoint/baseline - RNN(bidirectional)/sample/0039.npy\n"
     ]
    },
    {
     "name": "stderr",
     "output_type": "stream",
     "text": [
      "[0040/0040] Train: 100%|█████████████████████████████| 174/174 [00:07<00:00, 24.06it/s, loss 0.0024]\n",
      "[0040/0040] Validation: 100%|████████████████████| 173/173 [00:03<00:00, 53.01it/s, val_loss 0.0023]"
     ]
    },
    {
     "name": "stdout",
     "output_type": "stream",
     "text": [
      "val_loss is not improved for 1 epochs\n",
      "                  validation\n",
      " - Yaw          :   2.515862\n",
      " - Pitch        :   1.573943\n",
      " - Roll         :   0.739775\n",
      " - RMS          :   1.765798\n",
      " - 99% Tile     :  10.560900\n",
      "Save output signals into checkpoint/baseline - RNN(bidirectional)/sample/0040.npy\n"
     ]
    },
    {
     "name": "stderr",
     "output_type": "stream",
     "text": [
      "\n"
     ]
    }
   ],
   "source": [
    "trainer.fit(train_ds, test_ds, num_epochs=NUM_EPOCHS, batch_size=BATCH_SIZE)"
   ]
  },
  {
   "cell_type": "code",
   "execution_count": null,
   "metadata": {},
   "outputs": [],
   "source": []
  },
  {
   "cell_type": "code",
   "execution_count": null,
   "metadata": {},
   "outputs": [],
   "source": []
  },
  {
   "cell_type": "code",
   "execution_count": null,
   "metadata": {},
   "outputs": [],
   "source": []
  },
  {
   "cell_type": "code",
   "execution_count": null,
   "metadata": {},
   "outputs": [],
   "source": []
  },
  {
   "cell_type": "code",
   "execution_count": null,
   "metadata": {},
   "outputs": [],
   "source": []
  },
  {
   "cell_type": "code",
   "execution_count": null,
   "metadata": {},
   "outputs": [],
   "source": []
  },
  {
   "cell_type": "code",
   "execution_count": null,
   "metadata": {},
   "outputs": [],
   "source": []
  },
  {
   "cell_type": "code",
   "execution_count": null,
   "metadata": {},
   "outputs": [],
   "source": []
  }
 ],
 "metadata": {
  "kernelspec": {
   "display_name": "torch",
   "language": "python",
   "name": "torch"
  },
  "language_info": {
   "codemirror_mode": {
    "name": "ipython",
    "version": 3
   },
   "file_extension": ".py",
   "mimetype": "text/x-python",
   "name": "python",
   "nbconvert_exporter": "python",
   "pygments_lexer": "ipython3",
   "version": "3.8.5"
  }
 },
 "nbformat": 4,
 "nbformat_minor": 4
}
