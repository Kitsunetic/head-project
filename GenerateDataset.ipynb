{
 "cells": [
  {
   "cell_type": "code",
   "execution_count": null,
   "metadata": {},
   "outputs": [],
   "source": [
    "from collections import defaultdict\n",
    "import numpy as np\n",
    "import matplotlib.pyplot as plt\n",
    "from math import pi\n",
    "import pandas as pd"
   ]
  },
  {
   "cell_type": "markdown",
   "metadata": {
    "pycharm": {
     "name": "#%% md\n"
    }
   },
   "source": [
    "Manually remove illegal data."
   ]
  },
  {
   "cell_type": "code",
   "execution_count": null,
   "metadata": {},
   "outputs": [],
   "source": [
    "ds_split = {\n",
    "    11: [(2000, 11000), (12000, 21000)],\n",
    "    12: [(2000, 5000 ), (6000 , 10000)],\n",
    "    13: [(2000, 10000), (11000, 18000)],\n",
    "    21: [(2000, 11000), (12000, 20000)],\n",
    "    22: [(2000, 6000 ), (7000 , 11000)],\n",
    "    23: [(2000, 11000), (12000, 20000)],\n",
    "    31: [(2000, 11000), (12000, 20000)],\n",
    "    32: [(2000, 5000 ), (6000 , 11000)],\n",
    "    33: [(2000, 10000), (11000, 19000)],\n",
    "    41: [(2000, 10000), (11000, 19000)],\n",
    "    42: [(2000, 6000 ), (7000 , 10000)],\n",
    "    43: [(2000, 10000), (11000, 19000)],\n",
    "    51: [(2000, 11000), (12000, 20000)],\n",
    "    52: [(2000, 6000 ), (7000 , 10000)],\n",
    "    53: [(2000, 10000), (11000, 19000)],\n",
    "    61: [(2000, 9000 ), (10000, 17000)],\n",
    "    62: [(2000, 11000), (12000, 20000)],\n",
    "    63: [(2000, 10000), (11000, 19000)],\n",
    "    71: [(2000, 7000 ), (9000 , 19000)],\n",
    "    72: [(2000, 9000 ), (10000, 17000)],\n",
    "    73: [(2000, 10000), (11000, 19000)]\n",
    "}"
   ]
  },
  {
   "cell_type": "markdown",
   "metadata": {},
   "source": [
    "## Generate Data"
   ]
  },
  {
   "cell_type": "code",
   "execution_count": null,
   "metadata": {},
   "outputs": [],
   "source": [
    "COLUMNS = ['timestamp', 'acceleration_x', 'acceleration_y', 'acceleration_z', \n",
    "           'input_orientation_yaw', 'input_orientation_pitch', 'input_orientation_roll',\n",
    "           'input_orientation_x', 'input_orientation_y', 'input_orientation_z', 'input_orientation_w',\n",
    "           'magnetic_x', 'magnetic_y', 'magnetic_z',\n",
    "           'angular_vec_x', 'angular_vec_y', 'angular_vec_z']"
   ]
  },
  {
   "cell_type": "code",
   "execution_count": null,
   "metadata": {},
   "outputs": [],
   "source": [
    "!mkdir data/1220"
   ]
  },
  {
   "cell_type": "code",
   "execution_count": null,
   "metadata": {
    "collapsed": false,
    "jupyter": {
     "outputs_hidden": false
    },
    "pycharm": {
     "name": "#%%\n"
    }
   },
   "outputs": [],
   "source": [
    "all_len, all_yaw, all_pitch, all_roll, all_x, all_y, all_z = 0, 0, 0, 0, 0, 0, 0\n",
    "\n",
    "for key in ds_split.keys():\n",
    "    user = key // 10\n",
    "    scene = key % 10\n",
    "    csv_fname = f'data/org/motion_data_user{user}_scene{scene}.csv'\n",
    "    csv = pd.read_csv(csv_fname)\n",
    "\n",
    "    csv = csv[COLUMNS]\n",
    "\n",
    "    # timestamp flick ==> sec\n",
    "    csv.timestamp = (csv.timestamp - csv.timestamp[2000]) / 705600000\n",
    "\n",
    "    # yaw, pitch, roll radian ==> degree\n",
    "    csv.input_orientation_yaw *= 180 / pi\n",
    "    csv.input_orientation_pitch *= 180 / pi\n",
    "    csv.input_orientation_roll *= 180 / pi\n",
    "    csv.angular_vec_x *= 180 / pi\n",
    "    csv.angular_vec_y *= 180 / pi\n",
    "    csv.angular_vec_z *= 180 / pi\n",
    "    csv.input_orientation_x *= 180 / pi\n",
    "    csv.input_orientation_y *= 180 / pi\n",
    "    csv.input_orientation_z *= 180 / pi\n",
    "    csv.input_orientation_w *= 180 / pi\n",
    "\n",
    "    T = csv.timestamp\n",
    "    dT = T[:-1].to_numpy() - T[1:].to_numpy()\n",
    "    dT = np.insert(dT, 0, dT[0])\n",
    "\n",
    "    for i, (S, T) in enumerate(ds_split[key]):\n",
    "        dsv_fname = f'data/1220/user{user}_scene{scene}_{i}.csv'\n",
    "        print(dsv_fname)\n",
    "        dsv = csv.iloc[S:T]\n",
    "        dsv.to_csv(dsv_fname, index=False)"
   ]
  },
  {
   "cell_type": "markdown",
   "metadata": {
    "pycharm": {
     "name": "#%% md\n"
    }
   },
   "source": [
    "# Generate *.npz data file"
   ]
  },
  {
   "cell_type": "code",
   "execution_count": null,
   "metadata": {
    "collapsed": false,
    "jupyter": {
     "outputs_hidden": false
    },
    "pycharm": {
     "name": "#%%\n"
    }
   },
   "outputs": [],
   "source": [
    "from pathlib import Path\n",
    "from torch.utils.data import Dataset\n",
    "import numpy as np\n",
    "import pandas as pd"
   ]
  },
  {
   "cell_type": "code",
   "execution_count": null,
   "metadata": {
    "collapsed": false,
    "jupyter": {
     "outputs_hidden": false
    },
    "pycharm": {
     "name": "#%%\n"
    }
   },
   "outputs": [],
   "source": [
    "XCOLS = ['input_orientation_yaw', 'input_orientation_pitch', 'input_orientation_roll',\n",
    "         'acceleration_x', 'acceleration_y', 'acceleration_z']\n",
    "YCOLS = ['input_orientation_yaw', 'input_orientation_pitch', 'input_orientation_roll']"
   ]
  },
  {
   "cell_type": "code",
   "execution_count": null,
   "metadata": {
    "collapsed": false,
    "jupyter": {
     "outputs_hidden": false
    },
    "pycharm": {
     "name": "#%%\n"
    }
   },
   "outputs": [],
   "source": [
    "train_files = sorted(list(Path('data/1220').glob('*scene3_0.csv')))\n",
    "test_files = sorted(list(Path('data/1220').glob('*scene3_1.csv')))"
   ]
  },
  {
   "cell_type": "code",
   "execution_count": null,
   "metadata": {
    "collapsed": false,
    "jupyter": {
     "outputs_hidden": false
    },
    "pycharm": {
     "name": "#%%\n"
    }
   },
   "outputs": [],
   "source": [
    "window_size = 120\n",
    "stride = 1"
   ]
  },
  {
   "cell_type": "markdown",
   "metadata": {},
   "source": [
    "## Make Train Dataset"
   ]
  },
  {
   "cell_type": "code",
   "execution_count": null,
   "metadata": {
    "collapsed": false,
    "jupyter": {
     "outputs_hidden": false
    },
    "pycharm": {
     "name": "#%%\n"
    }
   },
   "outputs": [],
   "source": [
    "X = []\n",
    "Y = []\n",
    "for f in train_files:\n",
    "    print(f)\n",
    "    csv = pd.read_csv(f)\n",
    "    i = 0\n",
    "    while i <= len(csv) - window_size * 2:\n",
    "        X.append(csv.iloc[i:i + window_size][XCOLS].to_numpy())\n",
    "        Y.append(csv.iloc[i + window_size + 18][YCOLS].to_numpy())\n",
    "        i += stride"
   ]
  },
  {
   "cell_type": "code",
   "execution_count": null,
   "metadata": {
    "collapsed": false,
    "jupyter": {
     "outputs_hidden": false
    },
    "pycharm": {
     "name": "#%%\n"
    }
   },
   "outputs": [],
   "source": [
    "np.savez_compressed(f'data/1220/train-win_{window_size}.npz', X=X, Y=Y)"
   ]
  },
  {
   "cell_type": "markdown",
   "metadata": {},
   "source": [
    "## Make Test Dataset"
   ]
  },
  {
   "cell_type": "code",
   "execution_count": null,
   "metadata": {
    "collapsed": false,
    "jupyter": {
     "outputs_hidden": false
    },
    "pycharm": {
     "name": "#%%\n"
    }
   },
   "outputs": [],
   "source": [
    "X = []\n",
    "Y = []\n",
    "for f in test_files:\n",
    "    print(f)\n",
    "    csv = pd.read_csv(f)\n",
    "    i = 0\n",
    "    while i <= len(csv) - window_size * 2:\n",
    "        X.append(csv.iloc[i:i + window_size][XCOLS].to_numpy())\n",
    "        Y.append(csv.iloc[i + window_size + 18][YCOLS].to_numpy())\n",
    "        i += stride"
   ]
  },
  {
   "cell_type": "code",
   "execution_count": null,
   "metadata": {
    "collapsed": false,
    "jupyter": {
     "outputs_hidden": false
    },
    "pycharm": {
     "name": "#%%\n"
    }
   },
   "outputs": [],
   "source": [
    "np.savez_compressed(f'data/1220/test-win_{window_size}.npz', X=X, Y=Y)"
   ]
  },
  {
   "cell_type": "markdown",
   "metadata": {},
   "source": [
    "# Generate *.npz data file for GAN\n",
    "\n",
    "GAN uses input shape `(BatchSize, Channels(=6), WindowSize(=120))`, and output shape `(BatchSize, Channels(=3), WindowSize(=120))`."
   ]
  },
  {
   "cell_type": "markdown",
   "metadata": {},
   "source": [
    "# Make Train Dataset"
   ]
  },
  {
   "cell_type": "code",
   "execution_count": null,
   "metadata": {},
   "outputs": [],
   "source": [
    "X_train = []\n",
    "Y_train = []\n",
    "for f in train_files:\n",
    "    print(f)\n",
    "    csv = pd.read_csv(f)\n",
    "    i = 0\n",
    "    while i <= len(csv) - window_size * 2:\n",
    "        X_train.append(csv.iloc[i:i + window_size][XCOLS].to_numpy())\n",
    "        Y_train.append(csv.iloc[i + 18:i + window_size + 18][YCOLS].to_numpy())\n",
    "        i += stride"
   ]
  },
  {
   "cell_type": "code",
   "execution_count": null,
   "metadata": {},
   "outputs": [],
   "source": [
    "np.savez_compressed(f'data/1220/train-win_{window_size}-GAN.npz', X=X_train, Y=Y_train)"
   ]
  },
  {
   "cell_type": "markdown",
   "metadata": {},
   "source": [
    "# Make Test Dataset"
   ]
  },
  {
   "cell_type": "code",
   "execution_count": null,
   "metadata": {},
   "outputs": [],
   "source": [
    "X_train = []\n",
    "Y_train = []\n",
    "for f in test_files:\n",
    "    print(f)\n",
    "    csv = pd.read_csv(f)\n",
    "    i = 0\n",
    "    while i <= len(csv) - window_size * 2:\n",
    "        X_train.append(csv.iloc[i:i + window_size][XCOLS].to_numpy())\n",
    "        Y_train.append(csv.iloc[i + 18:i + window_size + 18][YCOLS].to_numpy())\n",
    "        i += 18"
   ]
  },
  {
   "cell_type": "code",
   "execution_count": null,
   "metadata": {},
   "outputs": [],
   "source": [
    "np.savez_compressed(f'data/1220/test-win_{window_size}-GAN.npz', X=X_train, Y=Y_train)"
   ]
  },
  {
   "cell_type": "code",
   "execution_count": null,
   "metadata": {},
   "outputs": [],
   "source": []
  }
 ],
 "metadata": {
  "kernelspec": {
   "display_name": "torch",
   "language": "python",
   "name": "torch"
  },
  "language_info": {
   "codemirror_mode": {
    "name": "ipython",
    "version": 3
   },
   "file_extension": ".py",
   "mimetype": "text/x-python",
   "name": "python",
   "nbconvert_exporter": "python",
   "pygments_lexer": "ipython3",
   "version": "3.7.9"
  }
 },
 "nbformat": 4,
 "nbformat_minor": 4
}
