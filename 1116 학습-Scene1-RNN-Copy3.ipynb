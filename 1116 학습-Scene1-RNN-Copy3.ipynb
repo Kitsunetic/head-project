{
 "cells": [
  {
   "cell_type": "markdown",
   "metadata": {},
   "source": [
    "# 학습 방법 - Scene\n",
    "\n",
    "3개의 Scene에 대해서 각각 따로 학습\n",
    "\n",
    "user별로 학습을 하지 않는 이유는 상관관계로 보았을 때 user끼리는 달라도 scene별로는 유사점이 꽤 보였기 때문."
   ]
  },
  {
   "cell_type": "code",
   "execution_count": 1,
   "metadata": {},
   "outputs": [],
   "source": [
    "from multiprocessing import cpu_count\n",
    "from pathlib import Path\n",
    "from typing import List, Union, AnyStr\n",
    "from math import pi\n",
    "import pickle\n",
    "\n",
    "import numpy as np\n",
    "import torch\n",
    "import matplotlib.pyplot as plt\n",
    "import torch.nn as nn\n",
    "from sklearn import model_selection\n",
    "from tqdm import tqdm\n",
    "import torch_optimizer\n",
    "from torch.utils.data import Dataset\n",
    "import pandas as pd\n",
    "import random\n",
    "\n",
    "import torch_burn as tb\n",
    "import utils"
   ]
  },
  {
   "cell_type": "code",
   "execution_count": 2,
   "metadata": {},
   "outputs": [],
   "source": [
    "EXPERIMENT_NAME = 'Scene1-LSTM3'\n",
    "CHECKPOINT_DIR = Path('checkpoint', EXPERIMENT_NAME)\n",
    "CHECKPOINT_DIR.mkdir(parents=True, exist_ok=True)\n",
    "\n",
    "DATA_DIR = Path('data/1116')\n",
    "TRAIN_FILES = sorted(list(DATA_DIR.glob('*scene1_0.csv')))\n",
    "TEST_FILES = sorted(list(DATA_DIR.glob('*scene1_1.csv')))"
   ]
  },
  {
   "cell_type": "markdown",
   "metadata": {},
   "source": [
    "# 데이터셋 생성\n",
    "\n",
    "scene1에 대해서 모든 user의 데이터를 하나로 합친다."
   ]
  },
  {
   "cell_type": "code",
   "execution_count": 3,
   "metadata": {},
   "outputs": [],
   "source": [
    "WINDOW_SIZE = 300"
   ]
  },
  {
   "cell_type": "code",
   "execution_count": 4,
   "metadata": {},
   "outputs": [],
   "source": [
    "class CSVSequentialDataset(Dataset):\n",
    "    def __init__(self, csvfile,\n",
    "                 window_size=300, randomized_window_size=False,\n",
    "                 stride=30, randomized_stride=False):\n",
    "        super(CSVSequentialDataset, self).__init__()\n",
    "\n",
    "        self.xcols = ['input_orientation_yaw', 'input_orientation_pitch', 'input_orientation_roll',\n",
    "                      'acceleration_x', 'acceleration_y', 'acceleration_z']\n",
    "        self.ycols = ['input_orientation_yaw', 'input_orientation_pitch', 'input_orientation_roll']\n",
    "\n",
    "        self.csv = pd.read_csv(csvfile)\n",
    "        self.window_size = window_size\n",
    "\n",
    "        self.indexes = []\n",
    "        i = 0\n",
    "        while i <= len(self.csv) - window_size * 2:\n",
    "            if randomized_window_size:\n",
    "                self.indexes.append((i, i + random.randint(window_size // 2, window_size)))\n",
    "            else:\n",
    "                self.indexes.append((i, i + window_size))\n",
    "\n",
    "            if randomized_stride:\n",
    "                i += random.randint(1, stride)\n",
    "            else:\n",
    "                i += stride\n",
    "\n",
    "    def __len__(self):\n",
    "        return len(self.indexes)\n",
    "\n",
    "    def __getitem__(self, idx):\n",
    "        s, t = self.indexes[idx]\n",
    "        x = self.csv.iloc[s:t][self.xcols].to_numpy()\n",
    "        y = self.csv.iloc[t + 6][self.ycols].to_numpy()\n",
    "\n",
    "        x = torch.tensor(x, dtype=torch.float32) # 300, 6\n",
    "        y = torch.tensor(y, dtype=torch.float32) # 3\n",
    "        \n",
    "        #x[:, :3] *= pi / 180\n",
    "        x[:, 3:] /= 10\n",
    "\n",
    "        return x, y"
   ]
  },
  {
   "cell_type": "code",
   "execution_count": 5,
   "metadata": {},
   "outputs": [],
   "source": [
    "ds_train = [CSVSequentialDataset(f,  \n",
    "                                 window_size=WINDOW_SIZE, randomized_window_size=False,\n",
    "                                 stride=10, randomized_stride=True) for f in TRAIN_FILES]\n",
    "ds_train = tb.data.ChainDataset(*ds_train)\n",
    "ds_test = [CSVSequentialDataset(f,  \n",
    "                                window_size=WINDOW_SIZE, randomized_window_size=False,\n",
    "                                stride=10, randomized_stride=True) for f in TEST_FILES]\n",
    "ds_test = tb.data.ChainDataset(*ds_test)"
   ]
  },
  {
   "cell_type": "code",
   "execution_count": 6,
   "metadata": {},
   "outputs": [
    {
     "data": {
      "text/plain": [
       "(9479, 9845)"
      ]
     },
     "execution_count": 6,
     "metadata": {},
     "output_type": "execute_result"
    }
   ],
   "source": [
    "len(ds_train), len(ds_test)"
   ]
  },
  {
   "cell_type": "code",
   "execution_count": 7,
   "metadata": {},
   "outputs": [
    {
     "data": {
      "text/plain": [
       "(torch.Size([300, 6]), torch.Size([3]))"
      ]
     },
     "execution_count": 7,
     "metadata": {},
     "output_type": "execute_result"
    }
   ],
   "source": [
    "ds_train[0][0].shape, ds_train[0][1].shape"
   ]
  },
  {
   "cell_type": "code",
   "execution_count": 8,
   "metadata": {},
   "outputs": [],
   "source": [
    "x, y = ds_train[0]"
   ]
  },
  {
   "cell_type": "code",
   "execution_count": 9,
   "metadata": {},
   "outputs": [
    {
     "data": {
      "text/plain": [
       "torch.Size([300, 6])"
      ]
     },
     "execution_count": 9,
     "metadata": {},
     "output_type": "execute_result"
    }
   ],
   "source": [
    "x.shape"
   ]
  },
  {
   "cell_type": "code",
   "execution_count": 10,
   "metadata": {},
   "outputs": [
    {
     "data": {
      "text/plain": [
       "[<matplotlib.lines.Line2D at 0x7faedb5fd3d0>]"
      ]
     },
     "execution_count": 10,
     "metadata": {},
     "output_type": "execute_result"
    },
    {
     "data": {
      "image/png": "[encoded data removed]",
      "text/plain": [
       "<Figure size 432x288 with 1 Axes>"
      ]
     },
     "metadata": {
      "needs_background": "light"
     },
     "output_type": "display_data"
    }
   ],
   "source": [
    "plt.plot(x[:, 2])"
   ]
  },
  {
   "cell_type": "markdown",
   "metadata": {},
   "source": [
    "# 모델 생성\n",
    "\n",
    "StackedLSTM Bidirectional"
   ]
  },
  {
   "cell_type": "code",
   "execution_count": 11,
   "metadata": {},
   "outputs": [],
   "source": [
    "model = utils.BaselineLSTM(input_size=6,\n",
    "                           hidden_size=64,\n",
    "                           num_layers=8,\n",
    "                           dropout=0.1,\n",
    "                           bidirectional=True).cuda()"
   ]
  },
  {
   "cell_type": "code",
   "execution_count": 12,
   "metadata": {},
   "outputs": [],
   "source": [
    "criterion = nn.MSELoss().cuda()\n",
    "optimizer = torch_optimizer.RAdam(model.parameters())"
   ]
  },
  {
   "cell_type": "code",
   "execution_count": 13,
   "metadata": {},
   "outputs": [],
   "source": [
    "metrics = [tb.metrics.ModuleMetric(criterion, 'loss'),\n",
    "           utils.HPMetric('hp_metric'),\n",
    "           utils.HPSignalHistory(CHECKPOINT_DIR / 'sample' / '{epoch:04d}.npy', 'hp_signal')]"
   ]
  },
  {
   "cell_type": "code",
   "execution_count": 14,
   "metadata": {},
   "outputs": [],
   "source": [
    "callbacks = [tb.callbacks.EarlyStopping(metrics[0]),\n",
    "             tb.callbacks.LRDecaying(optimizer, metrics[0])]"
   ]
  },
  {
   "cell_type": "code",
   "execution_count": 15,
   "metadata": {},
   "outputs": [],
   "source": [
    "trainer = tb.Trainer(model, optimizer, metrics, callbacks, ncols=100)"
   ]
  },
  {
   "cell_type": "code",
   "execution_count": null,
   "metadata": {},
   "outputs": [
    {
     "name": "stderr",
     "output_type": "stream",
     "text": [
      "[0001/0100] Train: 100%|█████████████████████████████| 38/38 [00:08<00:00,  4.45it/s, loss 204.5979]\n",
      "[0001/0100] Validation: 100%|████████████████████| 39/39 [00:03<00:00, 11.92it/s, val_loss 161.7435]\n",
      "[0002/0100] Train:   0%|                                                     | 0/38 [00:00<?, ?it/s]"
     ]
    },
    {
     "name": "stdout",
     "output_type": "stream",
     "text": [
      "                  validation\n",
      " - Yaw          :  10.134701\n",
      " - Pitch        :  13.178530\n",
      " - Roll         :   3.076214\n",
      " - RMS          :   9.761299\n",
      " - 99% Tile     :  44.315270\n",
      "Save output signals into checkpoint/Scene1-LSTM3/sample/0001.npy\n"
     ]
    },
    {
     "name": "stderr",
     "output_type": "stream",
     "text": [
      "[0002/0100] Train: 100%|█████████████████████████████| 38/38 [00:08<00:00,  4.49it/s, loss 200.1482]\n",
      "[0002/0100] Validation: 100%|████████████████████| 39/39 [00:03<00:00, 11.95it/s, val_loss 145.8461]\n",
      "[0003/0100] Train:   0%|                                                     | 0/38 [00:00<?, ?it/s]"
     ]
    },
    {
     "name": "stdout",
     "output_type": "stream",
     "text": [
      "                  validation\n",
      " - Yaw          :   9.679790\n",
      " - Pitch        :  11.976026\n",
      " - Roll         :   3.076194\n",
      " - RMS          :   9.066173\n",
      " - 99% Tile     :  43.350306\n",
      "Save output signals into checkpoint/Scene1-LSTM3/sample/0002.npy\n"
     ]
    },
    {
     "name": "stderr",
     "output_type": "stream",
     "text": [
      "[0003/0100] Train: 100%|█████████████████████████████| 38/38 [00:08<00:00,  4.51it/s, loss 171.3664]\n",
      "[0003/0100] Validation: 100%|████████████████████| 39/39 [00:03<00:00, 12.05it/s, val_loss 122.1974]\n",
      "[0004/0100] Train:   0%|                                                     | 0/38 [00:00<?, ?it/s]"
     ]
    },
    {
     "name": "stdout",
     "output_type": "stream",
     "text": [
      "                  validation\n",
      " - Yaw          :   9.267272\n",
      " - Pitch        :   9.767348\n",
      " - Roll         :   3.078842\n",
      " - RMS          :   7.974181\n",
      " - 99% Tile     :  41.630175\n",
      "Save output signals into checkpoint/Scene1-LSTM3/sample/0003.npy\n"
     ]
    },
    {
     "name": "stderr",
     "output_type": "stream",
     "text": [
      "[0004/0100] Train: 100%|█████████████████████████████| 38/38 [00:08<00:00,  4.44it/s, loss 154.9326]\n",
      "[0004/0100] Validation: 100%|████████████████████| 39/39 [00:03<00:00, 11.85it/s, val_loss 111.2724]\n",
      "[0005/0100] Train:   0%|                                                     | 0/38 [00:00<?, ?it/s]"
     ]
    },
    {
     "name": "stdout",
     "output_type": "stream",
     "text": [
      "                  validation\n",
      " - Yaw          :   9.428640\n",
      " - Pitch        :   8.554751\n",
      " - Roll         :   3.075665\n",
      " - RMS          :   7.561807\n",
      " - 99% Tile     :  40.885505\n",
      "Save output signals into checkpoint/Scene1-LSTM3/sample/0004.npy\n"
     ]
    },
    {
     "name": "stderr",
     "output_type": "stream",
     "text": [
      "[0005/0100] Train: 100%|█████████████████████████████| 38/38 [00:08<00:00,  4.45it/s, loss 144.7476]\n",
      "[0005/0100] Validation: 100%|████████████████████| 39/39 [00:03<00:00, 11.88it/s, val_loss 104.7576]\n",
      "[0006/0100] Train:   0%|                                                     | 0/38 [00:00<?, ?it/s]"
     ]
    },
    {
     "name": "stdout",
     "output_type": "stream",
     "text": [
      "                  validation\n",
      " - Yaw          :   9.252507\n",
      " - Pitch        :   8.121109\n",
      " - Roll         :   3.077121\n",
      " - RMS          :   7.326436\n",
      " - 99% Tile     :  40.085327\n",
      "Save output signals into checkpoint/Scene1-LSTM3/sample/0005.npy\n"
     ]
    },
    {
     "name": "stderr",
     "output_type": "stream",
     "text": [
      "[0006/0100] Train: 100%|█████████████████████████████| 38/38 [00:08<00:00,  4.51it/s, loss 137.1642]\n",
      "[0006/0100] Validation: 100%|█████████████████████| 39/39 [00:03<00:00, 11.92it/s, val_loss 97.6799]\n",
      "[0007/0100] Train:   0%|                                                     | 0/38 [00:00<?, ?it/s]"
     ]
    },
    {
     "name": "stdout",
     "output_type": "stream",
     "text": [
      "                  validation\n",
      " - Yaw          :   8.904537\n",
      " - Pitch        :   7.880840\n",
      " - Roll         :   3.085251\n",
      " - RMS          :   7.092653\n",
      " - 99% Tile     :  38.608913\n",
      "Save output signals into checkpoint/Scene1-LSTM3/sample/0006.npy\n"
     ]
    },
    {
     "name": "stderr",
     "output_type": "stream",
     "text": [
      "[0007/0100] Train: 100%|█████████████████████████████| 38/38 [00:08<00:00,  4.49it/s, loss 123.0342]\n",
      "[0007/0100] Validation: 100%|█████████████████████| 39/39 [00:03<00:00, 12.22it/s, val_loss 85.9144]\n",
      "[0008/0100] Train:   0%|                                                     | 0/38 [00:00<?, ?it/s]"
     ]
    },
    {
     "name": "stdout",
     "output_type": "stream",
     "text": [
      "                  validation\n",
      " - Yaw          :   7.800371\n",
      " - Pitch        :   7.651722\n",
      " - Roll         :   3.033635\n",
      " - RMS          :   6.547203\n",
      " - 99% Tile     :  35.446667\n",
      "Save output signals into checkpoint/Scene1-LSTM3/sample/0007.npy\n"
     ]
    },
    {
     "name": "stderr",
     "output_type": "stream",
     "text": [
      "[0008/0100] Train: 100%|█████████████████████████████| 38/38 [00:08<00:00,  4.55it/s, loss 107.7063]\n",
      "[0008/0100] Validation: 100%|█████████████████████| 39/39 [00:03<00:00, 12.16it/s, val_loss 74.4178]\n",
      "[0009/0100] Train:   0%|                                                     | 0/38 [00:00<?, ?it/s]"
     ]
    },
    {
     "name": "stdout",
     "output_type": "stream",
     "text": [
      "                  validation\n",
      " - Yaw          :   6.768521\n",
      " - Pitch        :   7.031278\n",
      " - Roll         :   3.009906\n",
      " - RMS          :   5.896646\n",
      " - 99% Tile     :  33.706443\n",
      "Save output signals into checkpoint/Scene1-LSTM3/sample/0008.npy\n"
     ]
    },
    {
     "name": "stderr",
     "output_type": "stream",
     "text": [
      "[0009/0100] Train: 100%|██████████████████████████████| 38/38 [00:08<00:00,  4.41it/s, loss 96.2492]\n",
      "[0009/0100] Validation: 100%|█████████████████████| 39/39 [00:03<00:00, 11.79it/s, val_loss 65.7750]\n",
      "[0010/0100] Train:   0%|                                                     | 0/38 [00:00<?, ?it/s]"
     ]
    },
    {
     "name": "stdout",
     "output_type": "stream",
     "text": [
      "                  validation\n",
      " - Yaw          :   6.351358\n",
      " - Pitch        :   6.411970\n",
      " - Roll         :   2.956249\n",
      " - RMS          :   5.483080\n",
      " - 99% Tile     :  32.518867\n",
      "Save output signals into checkpoint/Scene1-LSTM3/sample/0009.npy\n"
     ]
    },
    {
     "name": "stderr",
     "output_type": "stream",
     "text": [
      "[0010/0100] Train: 100%|██████████████████████████████| 38/38 [00:08<00:00,  4.40it/s, loss 83.1665]\n",
      "[0010/0100] Validation: 100%|█████████████████████| 39/39 [00:03<00:00, 12.08it/s, val_loss 58.1524]\n",
      "[0011/0100] Train:   0%|                                                     | 0/38 [00:00<?, ?it/s]"
     ]
    },
    {
     "name": "stdout",
     "output_type": "stream",
     "text": [
      "                  validation\n",
      " - Yaw          :   5.163642\n",
      " - Pitch        :   6.063777\n",
      " - Roll         :   2.978232\n",
      " - RMS          :   4.909259\n",
      " - 99% Tile     :  31.460301\n",
      "Save output signals into checkpoint/Scene1-LSTM3/sample/0010.npy\n"
     ]
    },
    {
     "name": "stderr",
     "output_type": "stream",
     "text": [
      "[0011/0100] Train: 100%|██████████████████████████████| 38/38 [00:08<00:00,  4.42it/s, loss 72.5736]\n",
      "[0011/0100] Validation: 100%|█████████████████████| 39/39 [00:03<00:00, 11.76it/s, val_loss 49.1197]\n",
      "[0012/0100] Train:   0%|                                                     | 0/38 [00:00<?, ?it/s]"
     ]
    },
    {
     "name": "stdout",
     "output_type": "stream",
     "text": [
      "                  validation\n",
      " - Yaw          :   4.514955\n",
      " - Pitch        :   5.101905\n",
      " - Roll         :   2.906327\n",
      " - RMS          :   4.276330\n",
      " - 99% Tile     :  29.955204\n",
      "Save output signals into checkpoint/Scene1-LSTM3/sample/0011.npy\n"
     ]
    },
    {
     "name": "stderr",
     "output_type": "stream",
     "text": [
      "[0012/0100] Train: 100%|██████████████████████████████| 38/38 [00:08<00:00,  4.44it/s, loss 65.5787]\n",
      "[0012/0100] Validation: 100%|█████████████████████| 39/39 [00:03<00:00, 11.96it/s, val_loss 42.5366]\n",
      "[0013/0100] Train:   0%|                                                     | 0/38 [00:00<?, ?it/s]"
     ]
    },
    {
     "name": "stdout",
     "output_type": "stream",
     "text": [
      "                  validation\n",
      " - Yaw          :   4.258432\n",
      " - Pitch        :   4.236983\n",
      " - Roll         :   2.898522\n",
      " - RMS          :   3.850874\n",
      " - 99% Tile     :  28.153988\n",
      "Save output signals into checkpoint/Scene1-LSTM3/sample/0012.npy\n"
     ]
    },
    {
     "name": "stderr",
     "output_type": "stream",
     "text": [
      "[0013/0100] Train: 100%|██████████████████████████████| 38/38 [00:08<00:00,  4.46it/s, loss 55.9663]\n",
      "[0013/0100] Validation: 100%|█████████████████████| 39/39 [00:03<00:00, 12.17it/s, val_loss 37.5717]\n",
      "[0014/0100] Train:   0%|                                                     | 0/38 [00:00<?, ?it/s]"
     ]
    },
    {
     "name": "stdout",
     "output_type": "stream",
     "text": [
      "                  validation\n",
      " - Yaw          :   3.593245\n",
      " - Pitch        :   3.765848\n",
      " - Roll         :   2.839009\n",
      " - RMS          :   3.423107\n",
      " - 99% Tile     :  26.882285\n",
      "Save output signals into checkpoint/Scene1-LSTM3/sample/0013.npy\n"
     ]
    },
    {
     "name": "stderr",
     "output_type": "stream",
     "text": [
      "[0014/0100] Train: 100%|██████████████████████████████| 38/38 [00:08<00:00,  4.50it/s, loss 49.7284]\n",
      "[0014/0100] Validation: 100%|█████████████████████| 39/39 [00:03<00:00, 11.89it/s, val_loss 35.1856]\n",
      "[0015/0100] Train:   0%|                                                     | 0/38 [00:00<?, ?it/s]"
     ]
    },
    {
     "name": "stdout",
     "output_type": "stream",
     "text": [
      "                  validation\n",
      " - Yaw          :   3.892602\n",
      " - Pitch        :   3.706392\n",
      " - Roll         :   2.842713\n",
      " - RMS          :   3.510494\n",
      " - 99% Tile     :  25.932114\n",
      "Save output signals into checkpoint/Scene1-LSTM3/sample/0014.npy\n"
     ]
    },
    {
     "name": "stderr",
     "output_type": "stream",
     "text": [
      "[0015/0100] Train: 100%|██████████████████████████████| 38/38 [00:08<00:00,  4.52it/s, loss 46.6408]\n",
      "[0015/0100] Validation: 100%|█████████████████████| 39/39 [00:03<00:00, 12.24it/s, val_loss 31.5755]\n",
      "[0016/0100] Train:   0%|                                                     | 0/38 [00:00<?, ?it/s]"
     ]
    },
    {
     "name": "stdout",
     "output_type": "stream",
     "text": [
      "                  validation\n",
      " - Yaw          :   3.212590\n",
      " - Pitch        :   3.158855\n",
      " - Roll         :   2.824476\n",
      " - RMS          :   3.070112\n",
      " - 99% Tile     :  24.599120\n",
      "Save output signals into checkpoint/Scene1-LSTM3/sample/0015.npy\n"
     ]
    },
    {
     "name": "stderr",
     "output_type": "stream",
     "text": [
      "[0016/0100] Train: 100%|██████████████████████████████| 38/38 [00:08<00:00,  4.45it/s, loss 42.2487]\n",
      "[0016/0100] Validation: 100%|█████████████████████| 39/39 [00:03<00:00, 11.91it/s, val_loss 28.6810]\n",
      "[0017/0100] Train:   0%|                                                     | 0/38 [00:00<?, ?it/s]"
     ]
    },
    {
     "name": "stdout",
     "output_type": "stream",
     "text": [
      "                  validation\n",
      " - Yaw          :   3.047837\n",
      " - Pitch        :   2.986294\n",
      " - Roll         :   2.841280\n",
      " - RMS          :   2.959737\n",
      " - 99% Tile     :  23.698993\n",
      "Save output signals into checkpoint/Scene1-LSTM3/sample/0016.npy\n"
     ]
    },
    {
     "name": "stderr",
     "output_type": "stream",
     "text": [
      "[0017/0100] Train: 100%|██████████████████████████████| 38/38 [00:08<00:00,  4.50it/s, loss 37.3365]\n",
      "[0017/0100] Validation: 100%|█████████████████████| 39/39 [00:03<00:00, 11.98it/s, val_loss 25.8321]\n",
      "[0018/0100] Train:   0%|                                                     | 0/38 [00:00<?, ?it/s]"
     ]
    },
    {
     "name": "stdout",
     "output_type": "stream",
     "text": [
      "                  validation\n",
      " - Yaw          :   2.605320\n",
      " - Pitch        :   2.804129\n",
      " - Roll         :   2.809870\n",
      " - RMS          :   2.741423\n",
      " - 99% Tile     :  22.597639\n",
      "Save output signals into checkpoint/Scene1-LSTM3/sample/0017.npy\n"
     ]
    },
    {
     "name": "stderr",
     "output_type": "stream",
     "text": [
      "[0018/0100] Train: 100%|██████████████████████████████| 38/38 [00:08<00:00,  4.47it/s, loss 32.4951]\n",
      "[0018/0100] Validation: 100%|█████████████████████| 39/39 [00:03<00:00, 12.02it/s, val_loss 24.6621]\n",
      "[0019/0100] Train:   0%|                                                     | 0/38 [00:00<?, ?it/s]"
     ]
    },
    {
     "name": "stdout",
     "output_type": "stream",
     "text": [
      "                  validation\n",
      " - Yaw          :   2.925373\n",
      " - Pitch        :   2.450547\n",
      " - Roll         :   2.810325\n",
      " - RMS          :   2.736233\n",
      " - 99% Tile     :  21.634963\n",
      "Save output signals into checkpoint/Scene1-LSTM3/sample/0018.npy\n"
     ]
    },
    {
     "name": "stderr",
     "output_type": "stream",
     "text": [
      "[0019/0100] Train: 100%|██████████████████████████████| 38/38 [00:08<00:00,  4.47it/s, loss 29.2835]\n",
      "[0019/0100] Validation: 100%|█████████████████████| 39/39 [00:03<00:00, 11.82it/s, val_loss 22.6835]\n",
      "[0020/0100] Train:   0%|                                                     | 0/38 [00:00<?, ?it/s]"
     ]
    },
    {
     "name": "stdout",
     "output_type": "stream",
     "text": [
      "                  validation\n",
      " - Yaw          :   2.576255\n",
      " - Pitch        :   2.403716\n",
      " - Roll         :   2.818392\n",
      " - RMS          :   2.605013\n",
      " - 99% Tile     :  20.890946\n",
      "Save output signals into checkpoint/Scene1-LSTM3/sample/0019.npy\n"
     ]
    },
    {
     "name": "stderr",
     "output_type": "stream",
     "text": [
      "[0020/0100] Train: 100%|██████████████████████████████| 38/38 [00:08<00:00,  4.49it/s, loss 27.0868]\n",
      "[0020/0100] Validation: 100%|█████████████████████| 39/39 [00:03<00:00, 11.99it/s, val_loss 21.3146]\n",
      "[0021/0100] Train:   0%|                                                     | 0/38 [00:00<?, ?it/s]"
     ]
    },
    {
     "name": "stdout",
     "output_type": "stream",
     "text": [
      "                  validation\n",
      " - Yaw          :   2.304913\n",
      " - Pitch        :   2.257539\n",
      " - Roll         :   2.798335\n",
      " - RMS          :   2.465751\n",
      " - 99% Tile     :  20.151484\n",
      "Save output signals into checkpoint/Scene1-LSTM3/sample/0020.npy\n"
     ]
    },
    {
     "name": "stderr",
     "output_type": "stream",
     "text": [
      "[0021/0100] Train: 100%|██████████████████████████████| 38/38 [00:08<00:00,  4.49it/s, loss 24.3505]\n",
      "[0021/0100] Validation: 100%|█████████████████████| 39/39 [00:03<00:00, 12.05it/s, val_loss 19.9773]\n",
      "[0022/0100] Train:   0%|                                                     | 0/38 [00:00<?, ?it/s]"
     ]
    },
    {
     "name": "stdout",
     "output_type": "stream",
     "text": [
      "                  validation\n",
      " - Yaw          :   2.189343\n",
      " - Pitch        :   2.069457\n",
      " - Roll         :   2.751271\n",
      " - RMS          :   2.355516\n",
      " - 99% Tile     :  19.621080\n",
      "Save output signals into checkpoint/Scene1-LSTM3/sample/0021.npy\n"
     ]
    },
    {
     "name": "stderr",
     "output_type": "stream",
     "text": [
      "[0022/0100] Train: 100%|██████████████████████████████| 38/38 [00:08<00:00,  4.49it/s, loss 23.2604]\n",
      "[0022/0100] Validation: 100%|█████████████████████| 39/39 [00:03<00:00, 11.62it/s, val_loss 22.3757]\n",
      "[0023/0100] Train:   0%|                                                     | 0/38 [00:00<?, ?it/s]"
     ]
    },
    {
     "name": "stdout",
     "output_type": "stream",
     "text": [
      "val_loss is not improved for 1 epochs\n",
      "                  validation\n",
      " - Yaw          :   2.955446\n",
      " - Pitch        :   2.795811\n",
      " - Roll         :   2.804453\n",
      " - RMS          :   2.852846\n",
      " - 99% Tile     :  19.198879\n",
      "Save output signals into checkpoint/Scene1-LSTM3/sample/0022.npy\n"
     ]
    },
    {
     "name": "stderr",
     "output_type": "stream",
     "text": [
      "[0023/0100] Train: 100%|██████████████████████████████| 38/38 [00:08<00:00,  4.49it/s, loss 21.2672]\n",
      "[0023/0100] Validation: 100%|█████████████████████| 39/39 [00:03<00:00, 11.81it/s, val_loss 18.3959]\n",
      "[0024/0100] Train:   0%|                                                     | 0/38 [00:00<?, ?it/s]"
     ]
    },
    {
     "name": "stdout",
     "output_type": "stream",
     "text": [
      "                  validation\n",
      " - Yaw          :   2.071022\n",
      " - Pitch        :   1.988069\n",
      " - Roll         :   2.752536\n",
      " - RMS          :   2.296229\n",
      " - 99% Tile     :  18.536030\n",
      "Save output signals into checkpoint/Scene1-LSTM3/sample/0023.npy\n"
     ]
    },
    {
     "name": "stderr",
     "output_type": "stream",
     "text": [
      "[0024/0100] Train: 100%|██████████████████████████████| 38/38 [00:08<00:00,  4.53it/s, loss 19.5909]\n",
      "[0024/0100] Validation: 100%|█████████████████████| 39/39 [00:03<00:00, 12.16it/s, val_loss 16.5005]\n",
      "[0025/0100] Train:   0%|                                                     | 0/38 [00:00<?, ?it/s]"
     ]
    },
    {
     "name": "stdout",
     "output_type": "stream",
     "text": [
      "                  validation\n",
      " - Yaw          :   1.815569\n",
      " - Pitch        :   1.911059\n",
      " - Roll         :   2.457443\n",
      " - RMS          :   2.080662\n",
      " - 99% Tile     :  17.607284\n",
      "Save output signals into checkpoint/Scene1-LSTM3/sample/0024.npy\n"
     ]
    },
    {
     "name": "stderr",
     "output_type": "stream",
     "text": [
      "[0025/0100] Train: 100%|██████████████████████████████| 38/38 [00:08<00:00,  4.51it/s, loss 17.0224]\n",
      "[0025/0100] Validation: 100%|█████████████████████| 39/39 [00:03<00:00, 11.67it/s, val_loss 15.7021]\n",
      "[0026/0100] Train:   0%|                                                     | 0/38 [00:00<?, ?it/s]"
     ]
    },
    {
     "name": "stdout",
     "output_type": "stream",
     "text": [
      "                  validation\n",
      " - Yaw          :   2.004130\n",
      " - Pitch        :   1.923433\n",
      " - Roll         :   2.239715\n",
      " - RMS          :   2.060134\n",
      " - 99% Tile     :  17.123570\n",
      "Save output signals into checkpoint/Scene1-LSTM3/sample/0025.npy\n"
     ]
    },
    {
     "name": "stderr",
     "output_type": "stream",
     "text": [
      "[0026/0100] Train: 100%|██████████████████████████████| 38/38 [00:08<00:00,  4.48it/s, loss 15.6474]\n",
      "[0026/0100] Validation: 100%|█████████████████████| 39/39 [00:03<00:00, 12.19it/s, val_loss 16.0213]\n",
      "[0027/0100] Train:   0%|                                                     | 0/38 [00:00<?, ?it/s]"
     ]
    },
    {
     "name": "stdout",
     "output_type": "stream",
     "text": [
      "val_loss is not improved for 1 epochs\n",
      "                  validation\n",
      " - Yaw          :   2.817862\n",
      " - Pitch        :   1.742501\n",
      " - Roll         :   2.221632\n",
      " - RMS          :   2.303063\n",
      " - 99% Tile     :  16.397042\n",
      "Save output signals into checkpoint/Scene1-LSTM3/sample/0026.npy\n"
     ]
    },
    {
     "name": "stderr",
     "output_type": "stream",
     "text": [
      "[0027/0100] Train: 100%|██████████████████████████████| 38/38 [00:08<00:00,  4.51it/s, loss 14.5727]\n",
      "[0027/0100] Validation: 100%|█████████████████████| 39/39 [00:03<00:00, 11.97it/s, val_loss 14.1718]\n",
      "[0028/0100] Train:   0%|                                                     | 0/38 [00:00<?, ?it/s]"
     ]
    },
    {
     "name": "stdout",
     "output_type": "stream",
     "text": [
      "                  validation\n",
      " - Yaw          :   1.864978\n",
      " - Pitch        :   1.799676\n",
      " - Roll         :   2.113196\n",
      " - RMS          :   1.930680\n",
      " - 99% Tile     :  15.757215\n",
      "Save output signals into checkpoint/Scene1-LSTM3/sample/0027.npy\n"
     ]
    },
    {
     "name": "stderr",
     "output_type": "stream",
     "text": [
      "[0028/0100] Train: 100%|██████████████████████████████| 38/38 [00:08<00:00,  4.51it/s, loss 13.3062]\n",
      "[0028/0100] Validation: 100%|█████████████████████| 39/39 [00:03<00:00, 11.88it/s, val_loss 13.2127]\n",
      "[0029/0100] Train:   0%|                                                     | 0/38 [00:00<?, ?it/s]"
     ]
    },
    {
     "name": "stdout",
     "output_type": "stream",
     "text": [
      "                  validation\n",
      " - Yaw          :   1.656704\n",
      " - Pitch        :   1.653010\n",
      " - Roll         :   1.945496\n",
      " - RMS          :   1.757087\n",
      " - 99% Tile     :  15.671550\n",
      "Save output signals into checkpoint/Scene1-LSTM3/sample/0028.npy\n"
     ]
    },
    {
     "name": "stderr",
     "output_type": "stream",
     "text": [
      "[0029/0100] Train: 100%|██████████████████████████████| 38/38 [00:08<00:00,  4.50it/s, loss 11.9437]\n",
      "[0029/0100] Validation: 100%|█████████████████████| 39/39 [00:03<00:00, 11.91it/s, val_loss 12.4045]\n",
      "[0030/0100] Train:   0%|                                                     | 0/38 [00:00<?, ?it/s]"
     ]
    },
    {
     "name": "stdout",
     "output_type": "stream",
     "text": [
      "                  validation\n",
      " - Yaw          :   1.542668\n",
      " - Pitch        :   1.661299\n",
      " - Roll         :   1.836438\n",
      " - RMS          :   1.684463\n",
      " - 99% Tile     :  15.179051\n",
      "Save output signals into checkpoint/Scene1-LSTM3/sample/0029.npy\n"
     ]
    },
    {
     "name": "stderr",
     "output_type": "stream",
     "text": [
      "[0030/0100] Train: 100%|██████████████████████████████| 38/38 [00:08<00:00,  4.47it/s, loss 10.9418]\n",
      "[0030/0100] Validation: 100%|█████████████████████| 39/39 [00:03<00:00, 12.10it/s, val_loss 12.5940]\n",
      "[0031/0100] Train:   0%|                                                     | 0/38 [00:00<?, ?it/s]"
     ]
    },
    {
     "name": "stdout",
     "output_type": "stream",
     "text": [
      "val_loss is not improved for 1 epochs\n",
      "                  validation\n",
      " - Yaw          :   1.850283\n",
      " - Pitch        :   1.698085\n",
      " - Roll         :   1.744872\n",
      " - RMS          :   1.765561\n",
      " - 99% Tile     :  15.114543\n",
      "Save output signals into checkpoint/Scene1-LSTM3/sample/0030.npy\n"
     ]
    },
    {
     "name": "stderr",
     "output_type": "stream",
     "text": [
      "[0031/0100] Train: 100%|██████████████████████████████| 38/38 [00:08<00:00,  4.47it/s, loss 10.2189]\n",
      "[0031/0100] Validation: 100%|█████████████████████| 39/39 [00:03<00:00, 11.96it/s, val_loss 12.2050]\n",
      "[0032/0100] Train:   0%|                                                     | 0/38 [00:00<?, ?it/s]"
     ]
    },
    {
     "name": "stdout",
     "output_type": "stream",
     "text": [
      "                  validation\n",
      " - Yaw          :   1.645252\n",
      " - Pitch        :   1.955621\n",
      " - Roll         :   1.754058\n",
      " - RMS          :   1.789602\n",
      " - 99% Tile     :  14.963538\n",
      "Save output signals into checkpoint/Scene1-LSTM3/sample/0031.npy\n"
     ]
    },
    {
     "name": "stderr",
     "output_type": "stream",
     "text": [
      "[0032/0100] Train: 100%|███████████████████████████████| 38/38 [00:08<00:00,  4.46it/s, loss 9.8140]\n",
      "[0032/0100] Validation: 100%|█████████████████████| 39/39 [00:03<00:00, 11.84it/s, val_loss 12.1046]\n",
      "[0033/0100] Train:   0%|                                                     | 0/38 [00:00<?, ?it/s]"
     ]
    },
    {
     "name": "stdout",
     "output_type": "stream",
     "text": [
      "                  validation\n",
      " - Yaw          :   1.908289\n",
      " - Pitch        :   1.692899\n",
      " - Roll         :   1.780351\n",
      " - RMS          :   1.796026\n",
      " - 99% Tile     :  14.336191\n",
      "Save output signals into checkpoint/Scene1-LSTM3/sample/0032.npy\n"
     ]
    },
    {
     "name": "stderr",
     "output_type": "stream",
     "text": [
      "[0033/0100] Train: 100%|███████████████████████████████| 38/38 [00:08<00:00,  4.44it/s, loss 9.0737]\n",
      "[0033/0100] Validation: 100%|█████████████████████| 39/39 [00:03<00:00, 11.66it/s, val_loss 12.0109]\n",
      "[0034/0100] Train:   0%|                                                     | 0/38 [00:00<?, ?it/s]"
     ]
    },
    {
     "name": "stdout",
     "output_type": "stream",
     "text": [
      "                  validation\n",
      " - Yaw          :   1.737249\n",
      " - Pitch        :   1.677221\n",
      " - Roll         :   1.747309\n",
      " - RMS          :   1.720871\n",
      " - 99% Tile     :  14.732408\n",
      "Save output signals into checkpoint/Scene1-LSTM3/sample/0033.npy\n"
     ]
    },
    {
     "name": "stderr",
     "output_type": "stream",
     "text": [
      "[0034/0100] Train: 100%|███████████████████████████████| 38/38 [00:08<00:00,  4.40it/s, loss 8.9698]\n",
      "[0034/0100] Validation: 100%|█████████████████████| 39/39 [00:03<00:00, 11.81it/s, val_loss 11.3075]\n",
      "[0035/0100] Train:   0%|                                                     | 0/38 [00:00<?, ?it/s]"
     ]
    },
    {
     "name": "stdout",
     "output_type": "stream",
     "text": [
      "                  validation\n",
      " - Yaw          :   1.491388\n",
      " - Pitch        :   1.761605\n",
      " - Roll         :   1.650433\n",
      " - RMS          :   1.638233\n",
      " - 99% Tile     :  14.132679\n",
      "Save output signals into checkpoint/Scene1-LSTM3/sample/0034.npy\n"
     ]
    },
    {
     "name": "stderr",
     "output_type": "stream",
     "text": [
      "[0035/0100] Train: 100%|███████████████████████████████| 38/38 [00:08<00:00,  4.47it/s, loss 8.3095]\n",
      "[0035/0100] Validation: 100%|█████████████████████| 39/39 [00:03<00:00, 11.69it/s, val_loss 11.0526]\n",
      "[0036/0100] Train:   0%|                                                     | 0/38 [00:00<?, ?it/s]"
     ]
    },
    {
     "name": "stdout",
     "output_type": "stream",
     "text": [
      "                  validation\n",
      " - Yaw          :   1.561465\n",
      " - Pitch        :   1.639369\n",
      " - Roll         :   1.604510\n",
      " - RMS          :   1.602098\n",
      " - 99% Tile     :  13.885660\n",
      "Save output signals into checkpoint/Scene1-LSTM3/sample/0035.npy\n"
     ]
    },
    {
     "name": "stderr",
     "output_type": "stream",
     "text": [
      "[0036/0100] Train: 100%|███████████████████████████████| 38/38 [00:08<00:00,  4.36it/s, loss 7.3985]\n",
      "[0036/0100] Validation: 100%|█████████████████████| 39/39 [00:03<00:00, 11.81it/s, val_loss 10.8063]\n",
      "[0037/0100] Train:   0%|                                                     | 0/38 [00:00<?, ?it/s]"
     ]
    },
    {
     "name": "stdout",
     "output_type": "stream",
     "text": [
      "                  validation\n",
      " - Yaw          :   1.627205\n",
      " - Pitch        :   1.506788\n",
      " - Roll         :   1.639103\n",
      " - RMS          :   1.592154\n",
      " - 99% Tile     :  13.522522\n",
      "Save output signals into checkpoint/Scene1-LSTM3/sample/0036.npy\n"
     ]
    },
    {
     "name": "stderr",
     "output_type": "stream",
     "text": [
      "[0037/0100] Train: 100%|███████████████████████████████| 38/38 [00:08<00:00,  4.31it/s, loss 6.8317]\n",
      "[0037/0100] Validation: 100%|█████████████████████| 39/39 [00:03<00:00, 11.94it/s, val_loss 10.5065]\n",
      "[0038/0100] Train:   0%|                                                     | 0/38 [00:00<?, ?it/s]"
     ]
    },
    {
     "name": "stdout",
     "output_type": "stream",
     "text": [
      "                  validation\n",
      " - Yaw          :   1.397575\n",
      " - Pitch        :   1.686858\n",
      " - Roll         :   1.468043\n",
      " - RMS          :   1.522482\n",
      " - 99% Tile     :  13.300711\n",
      "Save output signals into checkpoint/Scene1-LSTM3/sample/0037.npy\n"
     ]
    },
    {
     "name": "stderr",
     "output_type": "stream",
     "text": [
      "[0038/0100] Train: 100%|███████████████████████████████| 38/38 [00:08<00:00,  4.41it/s, loss 7.1604]\n",
      "[0038/0100] Validation: 100%|██████████████████████| 39/39 [00:03<00:00, 11.82it/s, val_loss 9.9385]\n",
      "[0039/0100] Train:   0%|                                                     | 0/38 [00:00<?, ?it/s]"
     ]
    },
    {
     "name": "stdout",
     "output_type": "stream",
     "text": [
      "                  validation\n",
      " - Yaw          :   1.345243\n",
      " - Pitch        :   1.429432\n",
      " - Roll         :   1.455642\n",
      " - RMS          :   1.410892\n",
      " - 99% Tile     :  13.705057\n",
      "Save output signals into checkpoint/Scene1-LSTM3/sample/0038.npy\n"
     ]
    },
    {
     "name": "stderr",
     "output_type": "stream",
     "text": [
      "[0039/0100] Train: 100%|███████████████████████████████| 38/38 [00:08<00:00,  4.41it/s, loss 5.9165]\n",
      "[0039/0100] Validation: 100%|█████████████████████| 39/39 [00:03<00:00, 11.69it/s, val_loss 10.0049]\n",
      "[0040/0100] Train:   0%|                                                     | 0/38 [00:00<?, ?it/s]"
     ]
    },
    {
     "name": "stdout",
     "output_type": "stream",
     "text": [
      "val_loss is not improved for 1 epochs\n",
      "                  validation\n",
      " - Yaw          :   1.967134\n",
      " - Pitch        :   1.335343\n",
      " - Roll         :   1.584199\n",
      " - RMS          :   1.649489\n",
      " - 99% Tile     :  13.025995\n",
      "Save output signals into checkpoint/Scene1-LSTM3/sample/0039.npy\n"
     ]
    },
    {
     "name": "stderr",
     "output_type": "stream",
     "text": [
      "[0040/0100] Train: 100%|███████████████████████████████| 38/38 [00:08<00:00,  4.25it/s, loss 5.6412]\n",
      "[0040/0100] Validation: 100%|█████████████████████| 39/39 [00:03<00:00, 11.47it/s, val_loss 12.4201]\n",
      "[0041/0100] Train:   0%|                                                     | 0/38 [00:00<?, ?it/s]"
     ]
    },
    {
     "name": "stdout",
     "output_type": "stream",
     "text": [
      "val_loss is not improved for 2 epochs\n",
      "                  validation\n",
      " - Yaw          :   3.087322\n",
      " - Pitch        :   1.930477\n",
      " - Roll         :   1.470424\n",
      " - RMS          :   2.267190\n",
      " - 99% Tile     :  12.665808\n",
      "Save output signals into checkpoint/Scene1-LSTM3/sample/0040.npy\n"
     ]
    },
    {
     "name": "stderr",
     "output_type": "stream",
     "text": [
      "[0041/0100] Train: 100%|███████████████████████████████| 38/38 [00:08<00:00,  4.45it/s, loss 7.7748]\n",
      "[0041/0100] Validation: 100%|█████████████████████| 39/39 [00:03<00:00, 11.93it/s, val_loss 10.3414]\n",
      "[0042/0100] Train:   0%|                                                     | 0/38 [00:00<?, ?it/s]"
     ]
    },
    {
     "name": "stdout",
     "output_type": "stream",
     "text": [
      "val_loss is not improved for 3 epochs\n",
      "                  validation\n",
      " - Yaw          :   1.461468\n",
      " - Pitch        :   2.076857\n",
      " - Roll         :   1.359454\n",
      " - RMS          :   1.663064\n",
      " - 99% Tile     :  13.198983\n",
      "Save output signals into checkpoint/Scene1-LSTM3/sample/0041.npy\n"
     ]
    },
    {
     "name": "stderr",
     "output_type": "stream",
     "text": [
      "[0042/0100] Train: 100%|███████████████████████████████| 38/38 [00:08<00:00,  4.42it/s, loss 5.3930]\n",
      "[0042/0100] Validation: 100%|██████████████████████| 39/39 [00:03<00:00, 11.35it/s, val_loss 9.2406]\n",
      "[0043/0100] Train:   0%|                                                     | 0/38 [00:00<?, ?it/s]"
     ]
    },
    {
     "name": "stdout",
     "output_type": "stream",
     "text": [
      "                  validation\n",
      " - Yaw          :   1.559325\n",
      " - Pitch        :   1.482430\n",
      " - Roll         :   1.368565\n",
      " - RMS          :   1.472194\n",
      " - 99% Tile     :  12.327218\n",
      "Save output signals into checkpoint/Scene1-LSTM3/sample/0042.npy\n"
     ]
    },
    {
     "name": "stderr",
     "output_type": "stream",
     "text": [
      "[0043/0100] Train: 100%|███████████████████████████████| 38/38 [00:08<00:00,  4.45it/s, loss 4.8770]\n",
      "[0043/0100] Validation: 100%|██████████████████████| 39/39 [00:03<00:00, 11.70it/s, val_loss 8.6213]\n",
      "[0044/0100] Train:   0%|                                                     | 0/38 [00:00<?, ?it/s]"
     ]
    },
    {
     "name": "stdout",
     "output_type": "stream",
     "text": [
      "                  validation\n",
      " - Yaw          :   1.359790\n",
      " - Pitch        :   1.305614\n",
      " - Roll         :   1.321920\n",
      " - RMS          :   1.329302\n",
      " - 99% Tile     :  11.901369\n",
      "Save output signals into checkpoint/Scene1-LSTM3/sample/0043.npy\n"
     ]
    },
    {
     "name": "stderr",
     "output_type": "stream",
     "text": [
      "[0044/0100] Train: 100%|███████████████████████████████| 38/38 [00:08<00:00,  4.46it/s, loss 4.4961]\n",
      "[0044/0100] Validation: 100%|██████████████████████| 39/39 [00:03<00:00, 11.57it/s, val_loss 8.7978]\n",
      "[0045/0100] Train:   0%|                                                     | 0/38 [00:00<?, ?it/s]"
     ]
    },
    {
     "name": "stdout",
     "output_type": "stream",
     "text": [
      "val_loss is not improved for 1 epochs\n",
      "                  validation\n",
      " - Yaw          :   1.335203\n",
      " - Pitch        :   1.476413\n",
      " - Roll         :   1.326664\n",
      " - RMS          :   1.381135\n",
      " - 99% Tile     :  11.918592\n",
      "Save output signals into checkpoint/Scene1-LSTM3/sample/0044.npy\n"
     ]
    },
    {
     "name": "stderr",
     "output_type": "stream",
     "text": [
      "[0045/0100] Train: 100%|███████████████████████████████| 38/38 [00:08<00:00,  4.32it/s, loss 4.8983]\n",
      "[0045/0100] Validation: 100%|██████████████████████| 39/39 [00:03<00:00, 11.86it/s, val_loss 8.0405]\n",
      "[0046/0100] Train:   0%|                                                     | 0/38 [00:00<?, ?it/s]"
     ]
    },
    {
     "name": "stdout",
     "output_type": "stream",
     "text": [
      "                  validation\n",
      " - Yaw          :   1.302144\n",
      " - Pitch        :   1.202918\n",
      " - Roll         :   1.341090\n",
      " - RMS          :   1.283370\n",
      " - 99% Tile     :  11.781507\n",
      "Save output signals into checkpoint/Scene1-LSTM3/sample/0045.npy\n"
     ]
    },
    {
     "name": "stderr",
     "output_type": "stream",
     "text": [
      "[0046/0100] Train: 100%|███████████████████████████████| 38/38 [00:08<00:00,  4.38it/s, loss 3.9081]\n",
      "[0046/0100] Validation: 100%|██████████████████████| 39/39 [00:03<00:00, 11.44it/s, val_loss 8.4353]\n",
      "[0047/0100] Train:   0%|                                                     | 0/38 [00:00<?, ?it/s]"
     ]
    },
    {
     "name": "stdout",
     "output_type": "stream",
     "text": [
      "val_loss is not improved for 1 epochs\n",
      "                  validation\n",
      " - Yaw          :   1.702540\n",
      " - Pitch        :   1.610205\n",
      " - Roll         :   1.433838\n",
      " - RMS          :   1.586116\n",
      " - 99% Tile     :  11.389182\n",
      "Save output signals into checkpoint/Scene1-LSTM3/sample/0046.npy\n"
     ]
    },
    {
     "name": "stderr",
     "output_type": "stream",
     "text": [
      "[0047/0100] Train: 100%|███████████████████████████████| 38/38 [00:08<00:00,  4.41it/s, loss 3.8126]\n",
      "[0047/0100] Validation: 100%|██████████████████████| 39/39 [00:03<00:00, 11.63it/s, val_loss 7.8513]\n",
      "[0048/0100] Train:   0%|                                                     | 0/38 [00:00<?, ?it/s]"
     ]
    },
    {
     "name": "stdout",
     "output_type": "stream",
     "text": [
      "                  validation\n",
      " - Yaw          :   1.168756\n",
      " - Pitch        :   1.540471\n",
      " - Roll         :   1.304527\n",
      " - RMS          :   1.346703\n",
      " - 99% Tile     :  11.286587\n",
      "Save output signals into checkpoint/Scene1-LSTM3/sample/0047.npy\n"
     ]
    },
    {
     "name": "stderr",
     "output_type": "stream",
     "text": [
      "[0048/0100] Train: 100%|███████████████████████████████| 38/38 [00:08<00:00,  4.42it/s, loss 3.6474]\n",
      "[0048/0100] Validation: 100%|██████████████████████| 39/39 [00:03<00:00, 11.73it/s, val_loss 7.8215]\n",
      "[0049/0100] Train:   0%|                                                     | 0/38 [00:00<?, ?it/s]"
     ]
    },
    {
     "name": "stdout",
     "output_type": "stream",
     "text": [
      "                  validation\n",
      " - Yaw          :   1.254207\n",
      " - Pitch        :   1.424500\n",
      " - Roll         :   1.263979\n",
      " - RMS          :   1.316546\n",
      " - 99% Tile     :  11.101469\n",
      "Save output signals into checkpoint/Scene1-LSTM3/sample/0048.npy\n"
     ]
    },
    {
     "name": "stderr",
     "output_type": "stream",
     "text": [
      "[0049/0100] Train: 100%|███████████████████████████████| 38/38 [00:08<00:00,  4.40it/s, loss 3.4999]\n",
      "[0049/0100] Validation: 100%|██████████████████████| 39/39 [00:03<00:00, 11.71it/s, val_loss 9.0008]\n",
      "[0050/0100] Train:   0%|                                                     | 0/38 [00:00<?, ?it/s]"
     ]
    },
    {
     "name": "stdout",
     "output_type": "stream",
     "text": [
      "val_loss is not improved for 1 epochs\n",
      "                  validation\n",
      " - Yaw          :   1.435564\n",
      " - Pitch        :   2.038707\n",
      " - Roll         :   1.176055\n",
      " - RMS          :   1.591674\n",
      " - 99% Tile     :  11.294429\n",
      "Save output signals into checkpoint/Scene1-LSTM3/sample/0049.npy\n"
     ]
    },
    {
     "name": "stderr",
     "output_type": "stream",
     "text": [
      "[0050/0100] Train: 100%|███████████████████████████████| 38/38 [00:08<00:00,  4.37it/s, loss 3.7089]\n",
      "[0050/0100] Validation: 100%|██████████████████████| 39/39 [00:03<00:00, 11.83it/s, val_loss 8.7329]\n",
      "[0051/0100] Train:   0%|                                                     | 0/38 [00:00<?, ?it/s]"
     ]
    },
    {
     "name": "stdout",
     "output_type": "stream",
     "text": [
      "val_loss is not improved for 2 epochs\n",
      "                  validation\n",
      " - Yaw          :   1.528922\n",
      " - Pitch        :   1.801849\n",
      " - Roll         :   1.200789\n",
      " - RMS          :   1.530377\n",
      " - 99% Tile     :  11.663957\n",
      "Save output signals into checkpoint/Scene1-LSTM3/sample/0050.npy\n"
     ]
    },
    {
     "name": "stderr",
     "output_type": "stream",
     "text": [
      "[0051/0100] Train: 100%|███████████████████████████████| 38/38 [00:08<00:00,  4.31it/s, loss 3.6598]\n",
      "[0051/0100] Validation: 100%|██████████████████████| 39/39 [00:03<00:00, 11.98it/s, val_loss 8.1381]\n",
      "[0052/0100] Train:   0%|                                                     | 0/38 [00:00<?, ?it/s]"
     ]
    },
    {
     "name": "stdout",
     "output_type": "stream",
     "text": [
      "val_loss is not improved for 3 epochs\n",
      "                  validation\n",
      " - Yaw          :   1.812942\n",
      " - Pitch        :   1.299631\n",
      " - Roll         :   1.291456\n",
      " - RMS          :   1.488138\n",
      " - 99% Tile     :  11.707296\n",
      "Save output signals into checkpoint/Scene1-LSTM3/sample/0051.npy\n"
     ]
    },
    {
     "name": "stderr",
     "output_type": "stream",
     "text": [
      "[0052/0100] Train: 100%|███████████████████████████████| 38/38 [00:08<00:00,  4.44it/s, loss 3.2327]\n",
      "[0052/0100] Validation: 100%|██████████████████████| 39/39 [00:03<00:00, 12.06it/s, val_loss 7.6161]\n",
      "[0053/0100] Train:   0%|                                                     | 0/38 [00:00<?, ?it/s]"
     ]
    },
    {
     "name": "stdout",
     "output_type": "stream",
     "text": [
      "                  validation\n",
      " - Yaw          :   1.210676\n",
      " - Pitch        :   1.206129\n",
      " - Roll         :   1.206552\n",
      " - RMS          :   1.207787\n",
      " - 99% Tile     :  11.111606\n",
      "Save output signals into checkpoint/Scene1-LSTM3/sample/0052.npy\n"
     ]
    },
    {
     "name": "stderr",
     "output_type": "stream",
     "text": [
      "[0053/0100] Train: 100%|███████████████████████████████| 38/38 [00:08<00:00,  4.42it/s, loss 3.2938]\n",
      "[0053/0100] Validation: 100%|██████████████████████| 39/39 [00:03<00:00, 11.73it/s, val_loss 7.5827]\n",
      "[0054/0100] Train:   0%|                                                     | 0/38 [00:00<?, ?it/s]"
     ]
    },
    {
     "name": "stdout",
     "output_type": "stream",
     "text": [
      "                  validation\n",
      " - Yaw          :   1.414662\n",
      " - Pitch        :   1.265968\n",
      " - Roll         :   1.134447\n",
      " - RMS          :   1.276834\n",
      " - 99% Tile     :  11.180413\n",
      "Save output signals into checkpoint/Scene1-LSTM3/sample/0053.npy\n"
     ]
    },
    {
     "name": "stderr",
     "output_type": "stream",
     "text": [
      "[0054/0100] Train: 100%|███████████████████████████████| 38/38 [00:08<00:00,  4.47it/s, loss 2.8530]\n",
      "[0054/0100] Validation: 100%|██████████████████████| 39/39 [00:03<00:00, 12.02it/s, val_loss 7.2265]\n",
      "[0055/0100] Train:   0%|                                                     | 0/38 [00:00<?, ?it/s]"
     ]
    },
    {
     "name": "stdout",
     "output_type": "stream",
     "text": [
      "                  validation\n",
      " - Yaw          :   1.286422\n",
      " - Pitch        :   1.225627\n",
      " - Roll         :   1.102643\n",
      " - RMS          :   1.207320\n",
      " - 99% Tile     :  10.675797\n",
      "Save output signals into checkpoint/Scene1-LSTM3/sample/0054.npy\n"
     ]
    },
    {
     "name": "stderr",
     "output_type": "stream",
     "text": [
      "[0055/0100] Train: 100%|███████████████████████████████| 38/38 [00:08<00:00,  4.42it/s, loss 2.8060]\n",
      "[0055/0100] Validation: 100%|██████████████████████| 39/39 [00:03<00:00, 11.65it/s, val_loss 7.7810]\n",
      "[0056/0100] Train:   0%|                                                     | 0/38 [00:00<?, ?it/s]"
     ]
    },
    {
     "name": "stdout",
     "output_type": "stream",
     "text": [
      "val_loss is not improved for 1 epochs\n",
      "                  validation\n",
      " - Yaw          :   1.200039\n",
      " - Pitch        :   1.879598\n",
      " - Roll         :   1.191454\n",
      " - RMS          :   1.459743\n",
      " - 99% Tile     :  10.593005\n",
      "Save output signals into checkpoint/Scene1-LSTM3/sample/0055.npy\n"
     ]
    },
    {
     "name": "stderr",
     "output_type": "stream",
     "text": [
      "[0056/0100] Train: 100%|███████████████████████████████| 38/38 [00:08<00:00,  4.45it/s, loss 2.8457]\n",
      "[0056/0100] Validation: 100%|██████████████████████| 39/39 [00:03<00:00, 11.66it/s, val_loss 7.3697]\n",
      "[0057/0100] Train:   0%|                                                     | 0/38 [00:00<?, ?it/s]"
     ]
    },
    {
     "name": "stdout",
     "output_type": "stream",
     "text": [
      "val_loss is not improved for 2 epochs\n",
      "                  validation\n",
      " - Yaw          :   1.583494\n",
      " - Pitch        :   1.205837\n",
      " - Roll         :   1.166896\n",
      " - RMS          :   1.332059\n",
      " - 99% Tile     :  10.974784\n",
      "Save output signals into checkpoint/Scene1-LSTM3/sample/0056.npy\n"
     ]
    },
    {
     "name": "stderr",
     "output_type": "stream",
     "text": [
      "[0057/0100] Train: 100%|███████████████████████████████| 38/38 [00:08<00:00,  4.28it/s, loss 2.6592]\n",
      "[0057/0100] Validation: 100%|██████████████████████| 39/39 [00:03<00:00, 11.79it/s, val_loss 7.0724]\n",
      "[0058/0100] Train:   0%|                                                     | 0/38 [00:00<?, ?it/s]"
     ]
    },
    {
     "name": "stdout",
     "output_type": "stream",
     "text": [
      "                  validation\n",
      " - Yaw          :   1.293128\n",
      " - Pitch        :   1.152826\n",
      " - Roll         :   1.086048\n",
      " - RMS          :   1.180492\n",
      " - 99% Tile     :  10.533668\n",
      "Save output signals into checkpoint/Scene1-LSTM3/sample/0057.npy\n"
     ]
    },
    {
     "name": "stderr",
     "output_type": "stream",
     "text": [
      "[0058/0100] Train: 100%|███████████████████████████████| 38/38 [00:08<00:00,  4.46it/s, loss 2.4622]\n",
      "[0058/0100] Validation: 100%|██████████████████████| 39/39 [00:03<00:00, 11.92it/s, val_loss 6.7210]\n",
      "[0059/0100] Train:   0%|                                                     | 0/38 [00:00<?, ?it/s]"
     ]
    },
    {
     "name": "stdout",
     "output_type": "stream",
     "text": [
      "                  validation\n",
      " - Yaw          :   1.252810\n",
      " - Pitch        :   1.077615\n",
      " - Roll         :   1.068703\n",
      " - RMS          :   1.136209\n",
      " - 99% Tile     :  10.495722\n",
      "Save output signals into checkpoint/Scene1-LSTM3/sample/0058.npy\n"
     ]
    },
    {
     "name": "stderr",
     "output_type": "stream",
     "text": [
      "[0059/0100] Train: 100%|███████████████████████████████| 38/38 [00:08<00:00,  4.40it/s, loss 2.4760]\n",
      "[0059/0100] Validation: 100%|██████████████████████| 39/39 [00:03<00:00, 11.52it/s, val_loss 6.8536]\n",
      "[0060/0100] Train:   0%|                                                     | 0/38 [00:00<?, ?it/s]"
     ]
    },
    {
     "name": "stdout",
     "output_type": "stream",
     "text": [
      "val_loss is not improved for 1 epochs\n",
      "                  validation\n",
      " - Yaw          :   1.599416\n",
      " - Pitch        :   1.112543\n",
      " - Roll         :   1.231774\n",
      " - RMS          :   1.330808\n",
      " - 99% Tile     :  10.506558\n",
      "Save output signals into checkpoint/Scene1-LSTM3/sample/0059.npy\n"
     ]
    },
    {
     "name": "stderr",
     "output_type": "stream",
     "text": [
      "[0060/0100] Train:  58%|█████████████████▉             | 22/38 [00:05<00:03,  5.03it/s, loss 2.2969]"
     ]
    }
   ],
   "source": [
    "trainer.fit(ds_train, ds_test, num_epochs=100, batch_size=256, shuffle=True, pin_memory=True)"
   ]
  },
  {
   "cell_type": "code",
   "execution_count": null,
   "metadata": {},
   "outputs": [],
   "source": []
  }
 ],
 "metadata": {
  "kernelspec": {
   "display_name": "torch",
   "language": "python",
   "name": "torch"
  },
  "language_info": {
   "codemirror_mode": {
    "name": "ipython",
    "version": 3
   },
   "file_extension": ".py",
   "mimetype": "text/x-python",
   "name": "python",
   "nbconvert_exporter": "python",
   "pygments_lexer": "ipython3",
   "version": "3.7.9"
  }
 },
 "nbformat": 4,
 "nbformat_minor": 4
}
