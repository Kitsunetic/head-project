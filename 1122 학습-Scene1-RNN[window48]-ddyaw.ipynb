{
 "cells": [
  {
   "cell_type": "code",
   "execution_count": 1,
   "metadata": {},
   "outputs": [],
   "source": [
    "from multiprocessing import cpu_count\n",
    "from pathlib import Path\n",
    "from typing import List, Union, AnyStr\n",
    "from math import pi\n",
    "import pickle\n",
    "\n",
    "import numpy as np\n",
    "import torch\n",
    "import matplotlib.pyplot as plt\n",
    "import torch.nn as nn\n",
    "from sklearn import model_selection\n",
    "from tqdm import tqdm\n",
    "import torch_optimizer\n",
    "from torch.utils.data import Dataset\n",
    "import pandas as pd\n",
    "import random\n",
    "\n",
    "import torch_burn as tb\n",
    "import utils"
   ]
  },
  {
   "cell_type": "code",
   "execution_count": 2,
   "metadata": {},
   "outputs": [
    {
     "data": {
      "text/plain": [
       "'0.0.3.13'"
      ]
     },
     "execution_count": 2,
     "metadata": {},
     "output_type": "execute_result"
    }
   ],
   "source": [
    "tb.__version__"
   ]
  },
  {
   "cell_type": "code",
   "execution_count": 3,
   "metadata": {},
   "outputs": [],
   "source": [
    "EXPERIMENT_NAME = '1122-Scene1-LSTM-SmallWindow-UseDD'\n",
    "CHECKPOINT_DIR = Path('checkpoint', EXPERIMENT_NAME)\n",
    "CHECKPOINT_DIR.mkdir(parents=True, exist_ok=True)\n",
    "\n",
    "DATA_DIR = Path('data/1116')\n",
    "TRAIN_FILES = sorted(list(DATA_DIR.glob('*scene1_0.csv')))\n",
    "TEST_FILES = sorted(list(DATA_DIR.glob('*scene1_1.csv')))"
   ]
  },
  {
   "cell_type": "markdown",
   "metadata": {},
   "source": [
    "# 데이터셋 생성\n",
    "\n",
    "scene1에 대해서 모든 user의 데이터를 하나로 합친다."
   ]
  },
  {
   "cell_type": "code",
   "execution_count": 4,
   "metadata": {},
   "outputs": [],
   "source": [
    "WINDOW_SIZE = 48"
   ]
  },
  {
   "cell_type": "code",
   "execution_count": 5,
   "metadata": {},
   "outputs": [],
   "source": [
    "class CSVSequentialDataset(Dataset):\n",
    "    def __init__(self, csvfile,\n",
    "                 window_size=300, randomized_window_size=False,\n",
    "                 stride=30, randomized_stride=False):\n",
    "        super(CSVSequentialDataset, self).__init__()\n",
    "\n",
    "        self.xcols = ['input_orientation_yaw', 'input_orientation_pitch', 'input_orientation_roll',\n",
    "                      'acceleration_x', 'acceleration_y', 'acceleration_z',\n",
    "                      'dyaw', 'dpitch', 'droll',\n",
    "                      'ddyaw', 'ddpitch', 'ddroll']\n",
    "        self.ycols = ['input_orientation_yaw', 'input_orientation_pitch', 'input_orientation_roll']\n",
    "\n",
    "        self.csv = pd.read_csv(csvfile)\n",
    "        self.window_size = window_size\n",
    "\n",
    "        self.indexes = []\n",
    "        i = 0\n",
    "        while i <= len(self.csv) - window_size * 2:\n",
    "            if randomized_window_size:\n",
    "                self.indexes.append((i, i + random.randint(window_size // 2, window_size)))\n",
    "            else:\n",
    "                self.indexes.append((i, i + window_size))\n",
    "\n",
    "            if randomized_stride:\n",
    "                i += random.randint(1, stride)\n",
    "            else:\n",
    "                i += stride\n",
    "\n",
    "    def __len__(self):\n",
    "        return len(self.indexes)\n",
    "\n",
    "    def __getitem__(self, idx):\n",
    "        s, t = self.indexes[idx]\n",
    "        x = self.csv.iloc[s:t][self.xcols].to_numpy()\n",
    "        y = self.csv.iloc[t + 6][self.ycols].to_numpy()\n",
    "\n",
    "        x = torch.tensor(x, dtype=torch.float32) # 300, 6\n",
    "        y = torch.tensor(y, dtype=torch.float32) # 3\n",
    "        \n",
    "        #x[:, :3] *= pi / 180\n",
    "        x[:, 3:] /= 10\n",
    "\n",
    "        return x, y"
   ]
  },
  {
   "cell_type": "code",
   "execution_count": 6,
   "metadata": {},
   "outputs": [],
   "source": [
    "ds_train = [CSVSequentialDataset(f,  \n",
    "                                 window_size=WINDOW_SIZE, randomized_window_size=False,\n",
    "                                 stride=5, randomized_stride=True) for f in TRAIN_FILES]\n",
    "ds_train = tb.data.ChainDataset(*ds_train)\n",
    "ds_test = [CSVSequentialDataset(f,  \n",
    "                                window_size=WINDOW_SIZE, randomized_window_size=False,\n",
    "                                stride=5, randomized_stride=True) for f in TEST_FILES]\n",
    "ds_test = tb.data.ChainDataset(*ds_test)"
   ]
  },
  {
   "cell_type": "code",
   "execution_count": 7,
   "metadata": {},
   "outputs": [
    {
     "data": {
      "text/plain": [
       "(18453, 19170)"
      ]
     },
     "execution_count": 7,
     "metadata": {},
     "output_type": "execute_result"
    }
   ],
   "source": [
    "len(ds_train), len(ds_test)"
   ]
  },
  {
   "cell_type": "code",
   "execution_count": 8,
   "metadata": {},
   "outputs": [
    {
     "data": {
      "text/plain": [
       "(torch.Size([48, 12]), torch.Size([3]))"
      ]
     },
     "execution_count": 8,
     "metadata": {},
     "output_type": "execute_result"
    }
   ],
   "source": [
    "ds_train[0][0].shape, ds_train[0][1].shape"
   ]
  },
  {
   "cell_type": "code",
   "execution_count": 9,
   "metadata": {},
   "outputs": [],
   "source": [
    "x, y = ds_train[0]"
   ]
  },
  {
   "cell_type": "code",
   "execution_count": 10,
   "metadata": {},
   "outputs": [
    {
     "data": {
      "text/plain": [
       "torch.Size([48, 12])"
      ]
     },
     "execution_count": 10,
     "metadata": {},
     "output_type": "execute_result"
    }
   ],
   "source": [
    "x.shape"
   ]
  },
  {
   "cell_type": "code",
   "execution_count": 11,
   "metadata": {},
   "outputs": [
    {
     "data": {
      "text/plain": [
       "[<matplotlib.lines.Line2D at 0x7f46869a0710>]"
      ]
     },
     "execution_count": 11,
     "metadata": {},
     "output_type": "execute_result"
    },
    {
     "data": {
      "image/png": "[encoded data removed]",
      "text/plain": [
       "<Figure size 432x288 with 1 Axes>"
      ]
     },
     "metadata": {
      "needs_background": "light"
     },
     "output_type": "display_data"
    }
   ],
   "source": [
    "plt.plot(x[:, 2])"
   ]
  },
  {
   "cell_type": "code",
   "execution_count": 12,
   "metadata": {},
   "outputs": [],
   "source": [
    "model = utils.BaselineLSTM(input_size=12,\n",
    "                           hidden_size=64,\n",
    "                           num_layers=8,\n",
    "                           dropout=0.2,\n",
    "                           bidirectional=True).cuda()"
   ]
  },
  {
   "cell_type": "code",
   "execution_count": 13,
   "metadata": {},
   "outputs": [],
   "source": [
    "criterion = nn.MSELoss().cuda()\n",
    "optimizer = torch_optimizer.RAdam(model.parameters())"
   ]
  },
  {
   "cell_type": "code",
   "execution_count": 14,
   "metadata": {},
   "outputs": [],
   "source": [
    "metrics = [tb.metrics.ModuleMetric(criterion, 'loss'),\n",
    "           utils.HPMetric('hp_metric'),\n",
    "           utils.HPSignalHistory(CHECKPOINT_DIR / 'sample' / '{epoch:04d}.npy', 'hp_signal')]"
   ]
  },
  {
   "cell_type": "code",
   "execution_count": 15,
   "metadata": {},
   "outputs": [],
   "source": [
    "callbacks = [tb.callbacks.EarlyStopping(metrics[0]),\n",
    "             tb.callbacks.LRDecaying(optimizer, metrics[0])]"
   ]
  },
  {
   "cell_type": "code",
   "execution_count": 16,
   "metadata": {},
   "outputs": [],
   "source": [
    "trainer = tb.Trainer(model, optimizer, metrics, callbacks, ncols=100)"
   ]
  },
  {
   "cell_type": "code",
   "execution_count": 17,
   "metadata": {},
   "outputs": [
    {
     "name": "stderr",
     "output_type": "stream",
     "text": [
      "[0001/0100] Train: 100%|█████████████████████████████| 73/73 [00:06<00:00, 12.13it/s, loss 196.7491]\n",
      "[0001/0100] Validation: 100%|████████████████████| 75/75 [00:03<00:00, 22.16it/s, val_loss 144.8293]\n",
      "[0002/0100] Train:   0%|                                                     | 0/73 [00:00<?, ?it/s]"
     ]
    },
    {
     "name": "stdout",
     "output_type": "stream",
     "text": [
      "                  validation\n",
      " - Yaw          :   9.537110\n",
      " - Pitch        :  11.924340\n",
      " - Roll         :   3.118917\n",
      " - RMS          :   8.997666\n",
      " - 99% Tile     :  43.799921\n",
      "Save output signals into checkpoint/1122-Scene1-LSTM-SmallWindow-UseDD/sample/0001.npy\n"
     ]
    },
    {
     "name": "stderr",
     "output_type": "stream",
     "text": [
      "[0002/0100] Train: 100%|█████████████████████████████| 73/73 [00:06<00:00, 12.08it/s, loss 161.4542]\n",
      "[0002/0100] Validation: 100%|████████████████████| 75/75 [00:03<00:00, 21.58it/s, val_loss 111.3413]\n",
      "[0003/0100] Train:   0%|                                                     | 0/73 [00:00<?, ?it/s]"
     ]
    },
    {
     "name": "stdout",
     "output_type": "stream",
     "text": [
      "                  validation\n",
      " - Yaw          :   9.341599\n",
      " - Pitch        :   8.767802\n",
      " - Roll         :   3.099694\n",
      " - RMS          :   7.610255\n",
      " - 99% Tile     :  41.204304\n",
      "Save output signals into checkpoint/1122-Scene1-LSTM-SmallWindow-UseDD/sample/0002.npy\n"
     ]
    },
    {
     "name": "stderr",
     "output_type": "stream",
     "text": [
      "[0003/0100] Train: 100%|█████████████████████████████| 73/73 [00:05<00:00, 12.23it/s, loss 138.7480]\n",
      "[0003/0100] Validation: 100%|████████████████████| 75/75 [00:03<00:00, 22.03it/s, val_loss 101.6716]\n",
      "[0004/0100] Train:   0%|                                                     | 0/73 [00:00<?, ?it/s]"
     ]
    },
    {
     "name": "stdout",
     "output_type": "stream",
     "text": [
      "                  validation\n",
      " - Yaw          :   9.352839\n",
      " - Pitch        :   7.896107\n",
      " - Roll         :   3.106461\n",
      " - RMS          :   7.290958\n",
      " - 99% Tile     :  39.298195\n",
      "Save output signals into checkpoint/1122-Scene1-LSTM-SmallWindow-UseDD/sample/0003.npy\n"
     ]
    },
    {
     "name": "stderr",
     "output_type": "stream",
     "text": [
      "[0004/0100] Train: 100%|█████████████████████████████| 73/73 [00:05<00:00, 12.47it/s, loss 120.9731]\n",
      "[0004/0100] Validation: 100%|█████████████████████| 75/75 [00:03<00:00, 22.20it/s, val_loss 80.7124]\n",
      "[0005/0100] Train:   0%|                                                     | 0/73 [00:00<?, ?it/s]"
     ]
    },
    {
     "name": "stdout",
     "output_type": "stream",
     "text": [
      "                  validation\n",
      " - Yaw          :   7.874495\n",
      " - Pitch        :   7.260506\n",
      " - Roll         :   3.026838\n",
      " - RMS          :   6.426102\n",
      " - 99% Tile     :  34.622778\n",
      "Save output signals into checkpoint/1122-Scene1-LSTM-SmallWindow-UseDD/sample/0004.npy\n"
     ]
    },
    {
     "name": "stderr",
     "output_type": "stream",
     "text": [
      "[0005/0100] Train: 100%|██████████████████████████████| 73/73 [00:05<00:00, 12.91it/s, loss 91.4011]\n",
      "[0005/0100] Validation: 100%|█████████████████████| 75/75 [00:03<00:00, 22.55it/s, val_loss 57.3950]\n",
      "[0006/0100] Train:   0%|                                                     | 0/73 [00:00<?, ?it/s]"
     ]
    },
    {
     "name": "stdout",
     "output_type": "stream",
     "text": [
      "                  validation\n",
      " - Yaw          :   5.486849\n",
      " - Pitch        :   5.555560\n",
      " - Roll         :   3.029446\n",
      " - RMS          :   4.835538\n",
      " - 99% Tile     :  32.003156\n",
      "Save output signals into checkpoint/1122-Scene1-LSTM-SmallWindow-UseDD/sample/0005.npy\n"
     ]
    },
    {
     "name": "stderr",
     "output_type": "stream",
     "text": [
      "[0006/0100] Train: 100%|██████████████████████████████| 73/73 [00:06<00:00, 12.12it/s, loss 68.7425]\n",
      "[0006/0100] Validation: 100%|█████████████████████| 75/75 [00:03<00:00, 21.14it/s, val_loss 44.2887]\n",
      "[0007/0100] Train:   0%|                                                     | 0/73 [00:00<?, ?it/s]"
     ]
    },
    {
     "name": "stdout",
     "output_type": "stream",
     "text": [
      "                  validation\n",
      " - Yaw          :   4.296680\n",
      " - Pitch        :   4.272532\n",
      " - Roll         :   2.949437\n",
      " - RMS          :   3.890808\n",
      " - 99% Tile     :  28.919629\n",
      "Save output signals into checkpoint/1122-Scene1-LSTM-SmallWindow-UseDD/sample/0006.npy\n"
     ]
    },
    {
     "name": "stderr",
     "output_type": "stream",
     "text": [
      "[0007/0100] Train: 100%|██████████████████████████████| 73/73 [00:05<00:00, 12.56it/s, loss 53.8302]\n",
      "[0007/0100] Validation: 100%|█████████████████████| 75/75 [00:03<00:00, 21.42it/s, val_loss 35.2296]\n",
      "[0008/0100] Train:   0%|                                                     | 0/73 [00:00<?, ?it/s]"
     ]
    },
    {
     "name": "stdout",
     "output_type": "stream",
     "text": [
      "                  validation\n",
      " - Yaw          :   3.467884\n",
      " - Pitch        :   3.450535\n",
      " - Roll         :   2.854094\n",
      " - RMS          :   3.269978\n",
      " - 99% Tile     :  26.346364\n",
      "Save output signals into checkpoint/1122-Scene1-LSTM-SmallWindow-UseDD/sample/0007.npy\n"
     ]
    },
    {
     "name": "stderr",
     "output_type": "stream",
     "text": [
      "[0008/0100] Train: 100%|██████████████████████████████| 73/73 [00:05<00:00, 13.53it/s, loss 42.2348]\n",
      "[0008/0100] Validation: 100%|█████████████████████| 75/75 [00:03<00:00, 20.04it/s, val_loss 29.0772]\n",
      "[0009/0100] Train:   0%|                                                     | 0/73 [00:00<?, ?it/s]"
     ]
    },
    {
     "name": "stdout",
     "output_type": "stream",
     "text": [
      "                  validation\n",
      " - Yaw          :   3.014451\n",
      " - Pitch        :   2.945239\n",
      " - Roll         :   2.814729\n",
      " - RMS          :   2.925978\n",
      " - 99% Tile     :  24.171668\n",
      "Save output signals into checkpoint/1122-Scene1-LSTM-SmallWindow-UseDD/sample/0008.npy\n"
     ]
    },
    {
     "name": "stderr",
     "output_type": "stream",
     "text": [
      "[0009/0100] Train: 100%|██████████████████████████████| 73/73 [00:07<00:00,  9.78it/s, loss 34.1101]\n",
      "[0009/0100] Validation: 100%|█████████████████████| 75/75 [00:03<00:00, 20.10it/s, val_loss 25.2451]\n",
      "[0010/0100] Train:   0%|                                                     | 0/73 [00:00<?, ?it/s]"
     ]
    },
    {
     "name": "stdout",
     "output_type": "stream",
     "text": [
      "                  validation\n",
      " - Yaw          :   2.898347\n",
      " - Pitch        :   2.530955\n",
      " - Roll         :   2.785728\n",
      " - RMS          :   2.742652\n",
      " - 99% Tile     :  22.048848\n",
      "Save output signals into checkpoint/1122-Scene1-LSTM-SmallWindow-UseDD/sample/0009.npy\n"
     ]
    },
    {
     "name": "stderr",
     "output_type": "stream",
     "text": [
      "[0010/0100] Train: 100%|██████████████████████████████| 73/73 [00:11<00:00,  6.24it/s, loss 27.7258]\n",
      "[0010/0100] Validation: 100%|█████████████████████| 75/75 [00:05<00:00, 13.23it/s, val_loss 21.8613]\n",
      "[0011/0100] Train:   0%|                                                     | 0/73 [00:00<?, ?it/s]"
     ]
    },
    {
     "name": "stdout",
     "output_type": "stream",
     "text": [
      "                  validation\n",
      " - Yaw          :   2.483091\n",
      " - Pitch        :   2.151768\n",
      " - Roll         :   2.819272\n",
      " - RMS          :   2.499609\n",
      " - 99% Tile     :  20.061590\n",
      "Save output signals into checkpoint/1122-Scene1-LSTM-SmallWindow-UseDD/sample/0010.npy\n"
     ]
    },
    {
     "name": "stderr",
     "output_type": "stream",
     "text": [
      "[0011/0100] Train: 100%|██████████████████████████████| 73/73 [00:11<00:00,  6.44it/s, loss 22.8344]\n",
      "[0011/0100] Validation: 100%|█████████████████████| 75/75 [00:05<00:00, 14.30it/s, val_loss 19.6902]\n",
      "[0012/0100] Train:   0%|                                                     | 0/73 [00:00<?, ?it/s]"
     ]
    },
    {
     "name": "stdout",
     "output_type": "stream",
     "text": [
      "                  validation\n",
      " - Yaw          :   2.184883\n",
      " - Pitch        :   2.095177\n",
      " - Roll         :   2.805111\n",
      " - RMS          :   2.382725\n",
      " - 99% Tile     :  18.488096\n",
      "Save output signals into checkpoint/1122-Scene1-LSTM-SmallWindow-UseDD/sample/0011.npy\n"
     ]
    },
    {
     "name": "stderr",
     "output_type": "stream",
     "text": [
      "[0012/0100] Train: 100%|██████████████████████████████| 73/73 [00:11<00:00,  6.21it/s, loss 19.2209]\n",
      "[0012/0100] Validation: 100%|█████████████████████| 75/75 [00:04<00:00, 15.33it/s, val_loss 17.6441]\n",
      "[0013/0100] Train:   0%|                                                     | 0/73 [00:00<?, ?it/s]"
     ]
    },
    {
     "name": "stdout",
     "output_type": "stream",
     "text": [
      "                  validation\n",
      " - Yaw          :   2.002590\n",
      " - Pitch        :   1.857145\n",
      " - Roll         :   2.659763\n",
      " - RMS          :   2.201037\n",
      " - 99% Tile     :  17.102741\n",
      "Save output signals into checkpoint/1122-Scene1-LSTM-SmallWindow-UseDD/sample/0012.npy\n"
     ]
    },
    {
     "name": "stderr",
     "output_type": "stream",
     "text": [
      "[0013/0100] Train: 100%|██████████████████████████████| 73/73 [00:11<00:00,  6.55it/s, loss 15.8890]\n",
      "[0013/0100] Validation: 100%|█████████████████████| 75/75 [00:05<00:00, 14.74it/s, val_loss 15.2291]\n",
      "[0014/0100] Train:   0%|                                                     | 0/73 [00:00<?, ?it/s]"
     ]
    },
    {
     "name": "stdout",
     "output_type": "stream",
     "text": [
      "                  validation\n",
      " - Yaw          :   2.295114\n",
      " - Pitch        :   1.849115\n",
      " - Roll         :   2.104487\n",
      " - RMS          :   2.090904\n",
      " - 99% Tile     :  16.015055\n",
      "Save output signals into checkpoint/1122-Scene1-LSTM-SmallWindow-UseDD/sample/0013.npy\n"
     ]
    },
    {
     "name": "stderr",
     "output_type": "stream",
     "text": [
      "[0014/0100] Train: 100%|██████████████████████████████| 73/73 [00:11<00:00,  6.49it/s, loss 13.2948]\n",
      "[0014/0100] Validation: 100%|█████████████████████| 75/75 [00:04<00:00, 18.09it/s, val_loss 13.1766]\n",
      "[0015/0100] Train:   0%|                                                     | 0/73 [00:00<?, ?it/s]"
     ]
    },
    {
     "name": "stdout",
     "output_type": "stream",
     "text": [
      "                  validation\n",
      " - Yaw          :   1.862238\n",
      " - Pitch        :   1.503647\n",
      " - Roll         :   1.830525\n",
      " - RMS          :   1.739703\n",
      " - 99% Tile     :  15.738374\n",
      "Save output signals into checkpoint/1122-Scene1-LSTM-SmallWindow-UseDD/sample/0014.npy\n"
     ]
    },
    {
     "name": "stderr",
     "output_type": "stream",
     "text": [
      "[0015/0100] Train: 100%|██████████████████████████████| 73/73 [00:10<00:00,  6.67it/s, loss 11.1402]\n",
      "[0015/0100] Validation: 100%|█████████████████████| 75/75 [00:04<00:00, 16.68it/s, val_loss 11.7223]\n",
      "[0016/0100] Train:   0%|                                                     | 0/73 [00:00<?, ?it/s]"
     ]
    },
    {
     "name": "stdout",
     "output_type": "stream",
     "text": [
      "                  validation\n",
      " - Yaw          :   1.745102\n",
      " - Pitch        :   1.450693\n",
      " - Roll         :   1.637522\n",
      " - RMS          :   1.615691\n",
      " - 99% Tile     :  14.886614\n",
      "Save output signals into checkpoint/1122-Scene1-LSTM-SmallWindow-UseDD/sample/0015.npy\n"
     ]
    },
    {
     "name": "stderr",
     "output_type": "stream",
     "text": [
      "[0016/0100] Train: 100%|███████████████████████████████| 73/73 [00:10<00:00,  6.90it/s, loss 9.3821]\n",
      "[0016/0100] Validation: 100%|█████████████████████| 75/75 [00:04<00:00, 17.00it/s, val_loss 10.5345]\n",
      "[0017/0100] Train:   0%|                                                     | 0/73 [00:00<?, ?it/s]"
     ]
    },
    {
     "name": "stdout",
     "output_type": "stream",
     "text": [
      "                  validation\n",
      " - Yaw          :   1.547036\n",
      " - Pitch        :   1.533378\n",
      " - Roll         :   1.579548\n",
      " - RMS          :   1.553442\n",
      " - 99% Tile     :  13.671364\n",
      "Save output signals into checkpoint/1122-Scene1-LSTM-SmallWindow-UseDD/sample/0016.npy\n"
     ]
    },
    {
     "name": "stderr",
     "output_type": "stream",
     "text": [
      "[0017/0100] Train: 100%|███████████████████████████████| 73/73 [00:10<00:00,  7.06it/s, loss 8.0338]\n",
      "[0017/0100] Validation: 100%|██████████████████████| 75/75 [00:04<00:00, 18.11it/s, val_loss 9.4639]\n",
      "[0018/0100] Train:   0%|                                                     | 0/73 [00:00<?, ?it/s]"
     ]
    },
    {
     "name": "stdout",
     "output_type": "stream",
     "text": [
      "                  validation\n",
      " - Yaw          :   1.619262\n",
      " - Pitch        :   1.249655\n",
      " - Roll         :   1.398886\n",
      " - RMS          :   1.430679\n",
      " - 99% Tile     :  13.031454\n",
      "Save output signals into checkpoint/1122-Scene1-LSTM-SmallWindow-UseDD/sample/0017.npy\n"
     ]
    },
    {
     "name": "stderr",
     "output_type": "stream",
     "text": [
      "[0018/0100] Train: 100%|███████████████████████████████| 73/73 [00:10<00:00,  7.26it/s, loss 7.0584]\n",
      "[0018/0100] Validation: 100%|██████████████████████| 75/75 [00:04<00:00, 16.18it/s, val_loss 9.0053]\n",
      "[0019/0100] Train:   0%|                                                     | 0/73 [00:00<?, ?it/s]"
     ]
    },
    {
     "name": "stdout",
     "output_type": "stream",
     "text": [
      "                  validation\n",
      " - Yaw          :   1.421557\n",
      " - Pitch        :   1.350198\n",
      " - Roll         :   1.397601\n",
      " - RMS          :   1.390101\n",
      " - 99% Tile     :  12.869117\n",
      "Save output signals into checkpoint/1122-Scene1-LSTM-SmallWindow-UseDD/sample/0018.npy\n"
     ]
    },
    {
     "name": "stderr",
     "output_type": "stream",
     "text": [
      "[0019/0100] Train: 100%|███████████████████████████████| 73/73 [00:09<00:00,  7.48it/s, loss 6.0962]\n",
      "[0019/0100] Validation: 100%|██████████████████████| 75/75 [00:05<00:00, 13.52it/s, val_loss 8.2658]\n",
      "[0020/0100] Train:   0%|                                                     | 0/73 [00:00<?, ?it/s]"
     ]
    },
    {
     "name": "stdout",
     "output_type": "stream",
     "text": [
      "                  validation\n",
      " - Yaw          :   1.431700\n",
      " - Pitch        :   1.286886\n",
      " - Roll         :   1.243541\n",
      " - RMS          :   1.323157\n",
      " - 99% Tile     :  12.510769\n",
      "Save output signals into checkpoint/1122-Scene1-LSTM-SmallWindow-UseDD/sample/0019.npy\n"
     ]
    },
    {
     "name": "stderr",
     "output_type": "stream",
     "text": [
      "[0020/0100] Train: 100%|███████████████████████████████| 73/73 [00:09<00:00,  7.71it/s, loss 5.4236]\n",
      "[0020/0100] Validation: 100%|██████████████████████| 75/75 [00:05<00:00, 13.59it/s, val_loss 7.9160]\n",
      "[0021/0100] Train:   0%|                                                     | 0/73 [00:00<?, ?it/s]"
     ]
    },
    {
     "name": "stdout",
     "output_type": "stream",
     "text": [
      "                  validation\n",
      " - Yaw          :   1.247902\n",
      " - Pitch        :   1.416553\n",
      " - Roll         :   1.281709\n",
      " - RMS          :   1.317404\n",
      " - 99% Tile     :  12.364923\n",
      "Save output signals into checkpoint/1122-Scene1-LSTM-SmallWindow-UseDD/sample/0020.npy\n"
     ]
    },
    {
     "name": "stderr",
     "output_type": "stream",
     "text": [
      "[0021/0100] Train: 100%|███████████████████████████████| 73/73 [00:10<00:00,  7.05it/s, loss 5.0261]\n",
      "[0021/0100] Validation: 100%|██████████████████████| 75/75 [00:05<00:00, 14.17it/s, val_loss 7.7574]\n",
      "[0022/0100] Train:   0%|                                                     | 0/73 [00:00<?, ?it/s]"
     ]
    },
    {
     "name": "stdout",
     "output_type": "stream",
     "text": [
      "                  validation\n",
      " - Yaw          :   1.349162\n",
      " - Pitch        :   1.266354\n",
      " - Roll         :   1.235703\n",
      " - RMS          :   1.284634\n",
      " - 99% Tile     :  12.019973\n",
      "Save output signals into checkpoint/1122-Scene1-LSTM-SmallWindow-UseDD/sample/0021.npy\n"
     ]
    },
    {
     "name": "stderr",
     "output_type": "stream",
     "text": [
      "[0022/0100] Train: 100%|███████████████████████████████| 73/73 [00:08<00:00,  8.29it/s, loss 4.5814]\n",
      "[0022/0100] Validation: 100%|██████████████████████| 75/75 [00:06<00:00, 12.05it/s, val_loss 7.3881]\n",
      "[0023/0100] Train:   0%|                                                     | 0/73 [00:00<?, ?it/s]"
     ]
    },
    {
     "name": "stdout",
     "output_type": "stream",
     "text": [
      "                  validation\n",
      " - Yaw          :   1.586016\n",
      " - Pitch        :   1.057151\n",
      " - Roll         :   1.125898\n",
      " - RMS          :   1.278106\n",
      " - 99% Tile     :  11.496423\n",
      "Save output signals into checkpoint/1122-Scene1-LSTM-SmallWindow-UseDD/sample/0022.npy\n"
     ]
    },
    {
     "name": "stderr",
     "output_type": "stream",
     "text": [
      "[0023/0100] Train: 100%|███████████████████████████████| 73/73 [00:08<00:00,  8.43it/s, loss 4.0802]\n",
      "[0023/0100] Validation: 100%|██████████████████████| 75/75 [00:05<00:00, 12.58it/s, val_loss 7.1857]\n",
      "[0024/0100] Train:   0%|                                                     | 0/73 [00:00<?, ?it/s]"
     ]
    },
    {
     "name": "stdout",
     "output_type": "stream",
     "text": [
      "                  validation\n",
      " - Yaw          :   1.496287\n",
      " - Pitch        :   1.155946\n",
      " - Roll         :   1.080271\n",
      " - RMS          :   1.257255\n",
      " - 99% Tile     :  11.546073\n",
      "Save output signals into checkpoint/1122-Scene1-LSTM-SmallWindow-UseDD/sample/0023.npy\n"
     ]
    },
    {
     "name": "stderr",
     "output_type": "stream",
     "text": [
      "[0024/0100] Train: 100%|███████████████████████████████| 73/73 [00:09<00:00,  7.64it/s, loss 3.7539]\n",
      "[0024/0100] Validation: 100%|██████████████████████| 75/75 [00:06<00:00, 12.47it/s, val_loss 6.5170]\n",
      "[0025/0100] Train:   0%|                                                     | 0/73 [00:00<?, ?it/s]"
     ]
    },
    {
     "name": "stdout",
     "output_type": "stream",
     "text": [
      "                  validation\n",
      " - Yaw          :   1.287053\n",
      " - Pitch        :   1.026856\n",
      " - Roll         :   1.001981\n",
      " - RMS          :   1.112790\n",
      " - 99% Tile     :  10.975984\n",
      "Save output signals into checkpoint/1122-Scene1-LSTM-SmallWindow-UseDD/sample/0024.npy\n"
     ]
    },
    {
     "name": "stderr",
     "output_type": "stream",
     "text": [
      "[0025/0100] Train: 100%|███████████████████████████████| 73/73 [00:09<00:00,  7.78it/s, loss 3.3273]\n",
      "[0025/0100] Validation: 100%|██████████████████████| 75/75 [00:06<00:00, 12.25it/s, val_loss 6.4146]\n",
      "[0026/0100] Train:   0%|                                                     | 0/73 [00:00<?, ?it/s]"
     ]
    },
    {
     "name": "stdout",
     "output_type": "stream",
     "text": [
      "                  validation\n",
      " - Yaw          :   1.196081\n",
      " - Pitch        :   1.125290\n",
      " - Roll         :   1.015215\n",
      " - RMS          :   1.114682\n",
      " - 99% Tile     :  11.634868\n",
      "Save output signals into checkpoint/1122-Scene1-LSTM-SmallWindow-UseDD/sample/0025.npy\n"
     ]
    },
    {
     "name": "stderr",
     "output_type": "stream",
     "text": [
      "[0026/0100] Train: 100%|███████████████████████████████| 73/73 [00:09<00:00,  7.74it/s, loss 3.0916]\n",
      "[0026/0100] Validation: 100%|██████████████████████| 75/75 [00:06<00:00, 12.46it/s, val_loss 6.0183]\n",
      "[0027/0100] Train:   0%|                                                     | 0/73 [00:00<?, ?it/s]"
     ]
    },
    {
     "name": "stdout",
     "output_type": "stream",
     "text": [
      "                  validation\n",
      " - Yaw          :   1.301194\n",
      " - Pitch        :   1.000906\n",
      " - Roll         :   0.994053\n",
      " - RMS          :   1.108010\n",
      " - 99% Tile     :  10.800529\n",
      "Save output signals into checkpoint/1122-Scene1-LSTM-SmallWindow-UseDD/sample/0026.npy\n"
     ]
    },
    {
     "name": "stderr",
     "output_type": "stream",
     "text": [
      "[0027/0100] Train: 100%|███████████████████████████████| 73/73 [00:08<00:00,  8.32it/s, loss 2.9222]\n",
      "[0027/0100] Validation: 100%|██████████████████████| 75/75 [00:04<00:00, 15.58it/s, val_loss 5.7889]\n",
      "[0028/0100] Train:   0%|                                                     | 0/73 [00:00<?, ?it/s]"
     ]
    },
    {
     "name": "stdout",
     "output_type": "stream",
     "text": [
      "                  validation\n",
      " - Yaw          :   1.133373\n",
      " - Pitch        :   0.951961\n",
      " - Roll         :   0.979801\n",
      " - RMS          :   1.024821\n",
      " - 99% Tile     :  11.140902\n",
      "Save output signals into checkpoint/1122-Scene1-LSTM-SmallWindow-UseDD/sample/0027.npy\n"
     ]
    },
    {
     "name": "stderr",
     "output_type": "stream",
     "text": [
      "[0028/0100] Train: 100%|███████████████████████████████| 73/73 [00:09<00:00,  7.53it/s, loss 2.6928]\n",
      "[0028/0100] Validation: 100%|██████████████████████| 75/75 [00:06<00:00, 12.00it/s, val_loss 5.9707]\n",
      "[0029/0100] Train:   0%|                                                     | 0/73 [00:00<?, ?it/s]"
     ]
    },
    {
     "name": "stdout",
     "output_type": "stream",
     "text": [
      "val_loss is not improved for 1 epochs\n",
      "                  validation\n",
      " - Yaw          :   1.152982\n",
      " - Pitch        :   0.966626\n",
      " - Roll         :   0.898241\n",
      " - RMS          :   1.011693\n",
      " - 99% Tile     :  11.071637\n",
      "Save output signals into checkpoint/1122-Scene1-LSTM-SmallWindow-UseDD/sample/0028.npy\n"
     ]
    },
    {
     "name": "stderr",
     "output_type": "stream",
     "text": [
      "[0029/0100] Train: 100%|███████████████████████████████| 73/73 [00:09<00:00,  7.34it/s, loss 2.5135]\n",
      "[0029/0100] Validation: 100%|██████████████████████| 75/75 [00:06<00:00, 11.65it/s, val_loss 5.6543]\n",
      "[0030/0100] Train:   0%|                                                     | 0/73 [00:00<?, ?it/s]"
     ]
    },
    {
     "name": "stdout",
     "output_type": "stream",
     "text": [
      "                  validation\n",
      " - Yaw          :   1.079048\n",
      " - Pitch        :   1.077015\n",
      " - Roll         :   0.936032\n",
      " - RMS          :   1.032870\n",
      " - 99% Tile     :  10.654554\n",
      "Save output signals into checkpoint/1122-Scene1-LSTM-SmallWindow-UseDD/sample/0029.npy\n"
     ]
    },
    {
     "name": "stderr",
     "output_type": "stream",
     "text": [
      "[0030/0100] Train: 100%|███████████████████████████████| 73/73 [00:08<00:00,  8.76it/s, loss 2.3662]\n",
      "[0030/0100] Validation: 100%|██████████████████████| 75/75 [00:05<00:00, 12.57it/s, val_loss 5.5850]\n",
      "[0031/0100] Train:   0%|                                                     | 0/73 [00:00<?, ?it/s]"
     ]
    },
    {
     "name": "stdout",
     "output_type": "stream",
     "text": [
      "                  validation\n",
      " - Yaw          :   1.205675\n",
      " - Pitch        :   1.235486\n",
      " - Roll         :   0.898722\n",
      " - RMS          :   1.123652\n",
      " - 99% Tile     :  10.386289\n",
      "Save output signals into checkpoint/1122-Scene1-LSTM-SmallWindow-UseDD/sample/0030.npy\n"
     ]
    },
    {
     "name": "stderr",
     "output_type": "stream",
     "text": [
      "[0031/0100] Train: 100%|███████████████████████████████| 73/73 [00:10<00:00,  7.11it/s, loss 2.2546]\n",
      "[0031/0100] Validation: 100%|██████████████████████| 75/75 [00:05<00:00, 14.27it/s, val_loss 5.7122]\n",
      "[0032/0100] Train:   0%|                                                     | 0/73 [00:00<?, ?it/s]"
     ]
    },
    {
     "name": "stdout",
     "output_type": "stream",
     "text": [
      "val_loss is not improved for 1 epochs\n",
      "                  validation\n",
      " - Yaw          :   1.192322\n",
      " - Pitch        :   0.923823\n",
      " - Roll         :   0.918463\n",
      " - RMS          :   1.019584\n",
      " - 99% Tile     :  10.851972\n",
      "Save output signals into checkpoint/1122-Scene1-LSTM-SmallWindow-UseDD/sample/0031.npy\n"
     ]
    },
    {
     "name": "stderr",
     "output_type": "stream",
     "text": [
      "[0032/0100] Train: 100%|███████████████████████████████| 73/73 [00:09<00:00,  7.66it/s, loss 2.1098]\n",
      "[0032/0100] Validation: 100%|██████████████████████| 75/75 [00:05<00:00, 12.53it/s, val_loss 5.8621]\n",
      "[0033/0100] Train:   0%|                                                     | 0/73 [00:00<?, ?it/s]"
     ]
    },
    {
     "name": "stdout",
     "output_type": "stream",
     "text": [
      "val_loss is not improved for 2 epochs\n",
      "                  validation\n",
      " - Yaw          :   1.223299\n",
      " - Pitch        :   1.128553\n",
      " - Roll         :   0.892063\n",
      " - RMS          :   1.090240\n",
      " - 99% Tile     :  10.689275\n",
      "Save output signals into checkpoint/1122-Scene1-LSTM-SmallWindow-UseDD/sample/0032.npy\n"
     ]
    },
    {
     "name": "stderr",
     "output_type": "stream",
     "text": [
      "[0033/0100] Train: 100%|███████████████████████████████| 73/73 [00:09<00:00,  7.72it/s, loss 2.0262]\n",
      "[0033/0100] Validation: 100%|██████████████████████| 75/75 [00:05<00:00, 12.64it/s, val_loss 5.5724]\n",
      "[0034/0100] Train:   0%|                                                     | 0/73 [00:00<?, ?it/s]"
     ]
    },
    {
     "name": "stdout",
     "output_type": "stream",
     "text": [
      "                  validation\n",
      " - Yaw          :   1.263510\n",
      " - Pitch        :   1.103015\n",
      " - Roll         :   0.860135\n",
      " - RMS          :   1.088260\n",
      " - 99% Tile     :  10.363550\n",
      "Save output signals into checkpoint/1122-Scene1-LSTM-SmallWindow-UseDD/sample/0033.npy\n"
     ]
    },
    {
     "name": "stderr",
     "output_type": "stream",
     "text": [
      "[0034/0100] Train: 100%|███████████████████████████████| 73/73 [00:09<00:00,  7.60it/s, loss 1.9065]\n",
      "[0034/0100] Validation: 100%|██████████████████████| 75/75 [00:05<00:00, 12.73it/s, val_loss 6.3333]\n",
      "[0035/0100] Train:   0%|                                                     | 0/73 [00:00<?, ?it/s]"
     ]
    },
    {
     "name": "stdout",
     "output_type": "stream",
     "text": [
      "val_loss is not improved for 1 epochs\n",
      "                  validation\n",
      " - Yaw          :   1.677385\n",
      " - Pitch        :   1.127244\n",
      " - Roll         :   0.865641\n",
      " - RMS          :   1.269335\n",
      " - 99% Tile     :  10.550026\n",
      "Save output signals into checkpoint/1122-Scene1-LSTM-SmallWindow-UseDD/sample/0034.npy\n"
     ]
    },
    {
     "name": "stderr",
     "output_type": "stream",
     "text": [
      "[0035/0100] Train: 100%|███████████████████████████████| 73/73 [00:09<00:00,  7.69it/s, loss 1.8897]\n",
      "[0035/0100] Validation: 100%|██████████████████████| 75/75 [00:05<00:00, 13.23it/s, val_loss 5.2029]\n",
      "[0036/0100] Train:   0%|                                                     | 0/73 [00:00<?, ?it/s]"
     ]
    },
    {
     "name": "stdout",
     "output_type": "stream",
     "text": [
      "                  validation\n",
      " - Yaw          :   1.137922\n",
      " - Pitch        :   0.919442\n",
      " - Roll         :   0.911568\n",
      " - RMS          :   0.995188\n",
      " - 99% Tile     :  10.116864\n",
      "Save output signals into checkpoint/1122-Scene1-LSTM-SmallWindow-UseDD/sample/0035.npy\n"
     ]
    },
    {
     "name": "stderr",
     "output_type": "stream",
     "text": [
      "[0036/0100] Train: 100%|███████████████████████████████| 73/73 [00:09<00:00,  7.61it/s, loss 1.7266]\n",
      "[0036/0100] Validation: 100%|██████████████████████| 75/75 [00:05<00:00, 14.35it/s, val_loss 6.0500]\n",
      "[0037/0100] Train:   0%|                                                     | 0/73 [00:00<?, ?it/s]"
     ]
    },
    {
     "name": "stdout",
     "output_type": "stream",
     "text": [
      "val_loss is not improved for 1 epochs\n",
      "                  validation\n",
      " - Yaw          :   1.535784\n",
      " - Pitch        :   0.953727\n",
      " - Roll         :   1.016477\n",
      " - RMS          :   1.197421\n",
      " - 99% Tile     :  10.495310\n",
      "Save output signals into checkpoint/1122-Scene1-LSTM-SmallWindow-UseDD/sample/0036.npy\n"
     ]
    },
    {
     "name": "stderr",
     "output_type": "stream",
     "text": [
      "[0037/0100] Train: 100%|███████████████████████████████| 73/73 [00:09<00:00,  7.53it/s, loss 1.7042]\n",
      "[0037/0100] Validation: 100%|██████████████████████| 75/75 [00:05<00:00, 13.76it/s, val_loss 5.8330]\n",
      "[0038/0100] Train:   0%|                                                     | 0/73 [00:00<?, ?it/s]"
     ]
    },
    {
     "name": "stdout",
     "output_type": "stream",
     "text": [
      "val_loss is not improved for 2 epochs\n",
      "                  validation\n",
      " - Yaw          :   1.440472\n",
      " - Pitch        :   1.055571\n",
      " - Roll         :   0.948742\n",
      " - RMS          :   1.167519\n",
      " - 99% Tile     :   9.857004\n",
      "Save output signals into checkpoint/1122-Scene1-LSTM-SmallWindow-UseDD/sample/0037.npy\n"
     ]
    },
    {
     "name": "stderr",
     "output_type": "stream",
     "text": [
      "[0038/0100] Train: 100%|███████████████████████████████| 73/73 [00:09<00:00,  7.66it/s, loss 1.7336]\n",
      "[0038/0100] Validation: 100%|██████████████████████| 75/75 [00:05<00:00, 12.98it/s, val_loss 5.3584]\n",
      "[0039/0100] Train:   0%|                                                     | 0/73 [00:00<?, ?it/s]"
     ]
    },
    {
     "name": "stdout",
     "output_type": "stream",
     "text": [
      "val_loss is not improved for 3 epochs\n",
      "                  validation\n",
      " - Yaw          :   1.072821\n",
      " - Pitch        :   0.922395\n",
      " - Roll         :   0.802896\n",
      " - RMS          :   0.939220\n",
      " - 99% Tile     :  10.083750\n",
      "Save output signals into checkpoint/1122-Scene1-LSTM-SmallWindow-UseDD/sample/0038.npy\n"
     ]
    },
    {
     "name": "stderr",
     "output_type": "stream",
     "text": [
      "[0039/0100] Train: 100%|███████████████████████████████| 73/73 [00:09<00:00,  7.67it/s, loss 1.6122]\n",
      "[0039/0100] Validation: 100%|██████████████████████| 75/75 [00:05<00:00, 12.77it/s, val_loss 5.5544]\n",
      "[0040/0100] Train:   0%|                                                     | 0/73 [00:00<?, ?it/s]"
     ]
    },
    {
     "name": "stdout",
     "output_type": "stream",
     "text": [
      "val_loss is not improved for 4 epochs\n",
      "                  validation\n",
      " - Yaw          :   1.261548\n",
      " - Pitch        :   1.047414\n",
      " - Roll         :   0.931887\n",
      " - RMS          :   1.088882\n",
      " - 99% Tile     :  10.141505\n",
      "Save output signals into checkpoint/1122-Scene1-LSTM-SmallWindow-UseDD/sample/0039.npy\n"
     ]
    },
    {
     "name": "stderr",
     "output_type": "stream",
     "text": [
      "[0040/0100] Train: 100%|███████████████████████████████| 73/73 [00:10<00:00,  6.97it/s, loss 1.8630]\n",
      "[0040/0100] Validation: 100%|██████████████████████| 75/75 [00:06<00:00, 12.41it/s, val_loss 5.2930]\n",
      "[0041/0100] Train:   0%|                                                     | 0/73 [00:00<?, ?it/s]"
     ]
    },
    {
     "name": "stdout",
     "output_type": "stream",
     "text": [
      "Decaying lr from 0.001 to 0.0005 because val_loss did not improved for 5 epochs\n",
      "val_loss is not improved for 5 epochs\n",
      "                  validation\n",
      " - Yaw          :   1.119624\n",
      " - Pitch        :   0.848703\n",
      " - Roll         :   0.806700\n",
      " - RMS          :   0.935347\n",
      " - 99% Tile     :   9.719178\n",
      "Save output signals into checkpoint/1122-Scene1-LSTM-SmallWindow-UseDD/sample/0040.npy\n"
     ]
    },
    {
     "name": "stderr",
     "output_type": "stream",
     "text": [
      "[0041/0100] Train: 100%|███████████████████████████████| 73/73 [00:08<00:00,  8.15it/s, loss 1.4396]\n",
      "[0041/0100] Validation: 100%|██████████████████████| 75/75 [00:05<00:00, 13.28it/s, val_loss 5.1454]\n",
      "[0042/0100] Train:   0%|                                                     | 0/73 [00:00<?, ?it/s]"
     ]
    },
    {
     "name": "stdout",
     "output_type": "stream",
     "text": [
      "                  validation\n",
      " - Yaw          :   1.032664\n",
      " - Pitch        :   0.804968\n",
      " - Roll         :   0.807416\n",
      " - RMS          :   0.888123\n",
      " - 99% Tile     :   9.558267\n",
      "Save output signals into checkpoint/1122-Scene1-LSTM-SmallWindow-UseDD/sample/0041.npy\n"
     ]
    },
    {
     "name": "stderr",
     "output_type": "stream",
     "text": [
      "[0042/0100] Train: 100%|███████████████████████████████| 73/73 [00:09<00:00,  7.36it/s, loss 1.3508]\n",
      "[0042/0100] Validation: 100%|██████████████████████| 75/75 [00:05<00:00, 13.07it/s, val_loss 5.4182]\n",
      "[0043/0100] Train:   0%|                                                     | 0/73 [00:00<?, ?it/s]"
     ]
    },
    {
     "name": "stdout",
     "output_type": "stream",
     "text": [
      "val_loss is not improved for 1 epochs\n",
      "                  validation\n",
      " - Yaw          :   1.129732\n",
      " - Pitch        :   0.920974\n",
      " - Roll         :   0.745089\n",
      " - RMS          :   0.945100\n",
      " - 99% Tile     :   9.229552\n",
      "Save output signals into checkpoint/1122-Scene1-LSTM-SmallWindow-UseDD/sample/0042.npy\n"
     ]
    },
    {
     "name": "stderr",
     "output_type": "stream",
     "text": [
      "[0043/0100] Train: 100%|███████████████████████████████| 73/73 [00:10<00:00,  6.95it/s, loss 1.3280]\n",
      "[0043/0100] Validation: 100%|██████████████████████| 75/75 [00:05<00:00, 13.51it/s, val_loss 5.6514]\n",
      "[0044/0100] Train:   0%|                                                     | 0/73 [00:00<?, ?it/s]"
     ]
    },
    {
     "name": "stdout",
     "output_type": "stream",
     "text": [
      "val_loss is not improved for 2 epochs\n",
      "                  validation\n",
      " - Yaw          :   1.049389\n",
      " - Pitch        :   0.933459\n",
      " - Roll         :   0.770151\n",
      " - RMS          :   0.924787\n",
      " - 99% Tile     :   9.621330\n",
      "Save output signals into checkpoint/1122-Scene1-LSTM-SmallWindow-UseDD/sample/0043.npy\n"
     ]
    },
    {
     "name": "stderr",
     "output_type": "stream",
     "text": [
      "[0044/0100] Train: 100%|███████████████████████████████| 73/73 [00:10<00:00,  6.94it/s, loss 1.3220]\n",
      "[0044/0100] Validation: 100%|██████████████████████| 75/75 [00:05<00:00, 12.81it/s, val_loss 5.4037]\n",
      "[0045/0100] Train:   0%|                                                     | 0/73 [00:00<?, ?it/s]"
     ]
    },
    {
     "name": "stdout",
     "output_type": "stream",
     "text": [
      "val_loss is not improved for 3 epochs\n",
      "                  validation\n",
      " - Yaw          :   1.055818\n",
      " - Pitch        :   0.848415\n",
      " - Roll         :   0.757905\n",
      " - RMS          :   0.896099\n",
      " - 99% Tile     :   9.418223\n",
      "Save output signals into checkpoint/1122-Scene1-LSTM-SmallWindow-UseDD/sample/0044.npy\n"
     ]
    },
    {
     "name": "stderr",
     "output_type": "stream",
     "text": [
      "[0045/0100] Train: 100%|███████████████████████████████| 73/73 [00:08<00:00,  8.19it/s, loss 1.3065]\n",
      "[0045/0100] Validation: 100%|██████████████████████| 75/75 [00:06<00:00, 12.26it/s, val_loss 5.5223]\n",
      "[0046/0100] Train:   0%|                                                     | 0/73 [00:00<?, ?it/s]"
     ]
    },
    {
     "name": "stdout",
     "output_type": "stream",
     "text": [
      "val_loss is not improved for 4 epochs\n",
      "                  validation\n",
      " - Yaw          :   0.981807\n",
      " - Pitch        :   0.843587\n",
      " - Roll         :   0.753335\n",
      " - RMS          :   0.864696\n",
      " - 99% Tile     :   9.496091\n",
      "Save output signals into checkpoint/1122-Scene1-LSTM-SmallWindow-UseDD/sample/0045.npy\n"
     ]
    },
    {
     "name": "stderr",
     "output_type": "stream",
     "text": [
      "[0046/0100] Train: 100%|███████████████████████████████| 73/73 [00:09<00:00,  7.37it/s, loss 1.2197]\n",
      "[0046/0100] Validation: 100%|██████████████████████| 75/75 [00:05<00:00, 14.89it/s, val_loss 5.3560]\n",
      "[0047/0100] Train:   0%|                                                     | 0/73 [00:00<?, ?it/s]"
     ]
    },
    {
     "name": "stdout",
     "output_type": "stream",
     "text": [
      "Decaying lr from 0.0005 to 0.00025 because val_loss did not improved for 5 epochs\n",
      "val_loss is not improved for 5 epochs\n",
      "                  validation\n",
      " - Yaw          :   0.924013\n",
      " - Pitch        :   0.846289\n",
      " - Roll         :   0.729622\n",
      " - RMS          :   0.837129\n",
      " - 99% Tile     :   9.532930\n",
      "Save output signals into checkpoint/1122-Scene1-LSTM-SmallWindow-UseDD/sample/0046.npy\n"
     ]
    },
    {
     "name": "stderr",
     "output_type": "stream",
     "text": [
      "[0047/0100] Train: 100%|███████████████████████████████| 73/73 [00:10<00:00,  6.97it/s, loss 1.1663]\n",
      "[0047/0100] Validation: 100%|██████████████████████| 75/75 [00:05<00:00, 13.94it/s, val_loss 5.4019]\n",
      "[0048/0100] Train:   0%|                                                     | 0/73 [00:00<?, ?it/s]"
     ]
    },
    {
     "name": "stdout",
     "output_type": "stream",
     "text": [
      "val_loss is not improved for 6 epochs\n",
      "                  validation\n",
      " - Yaw          :   0.937790\n",
      " - Pitch        :   0.829016\n",
      " - Roll         :   0.734107\n",
      " - RMS          :   0.837781\n",
      " - 99% Tile     :   9.446458\n",
      "Save output signals into checkpoint/1122-Scene1-LSTM-SmallWindow-UseDD/sample/0047.npy\n"
     ]
    },
    {
     "name": "stderr",
     "output_type": "stream",
     "text": [
      "[0048/0100] Train: 100%|███████████████████████████████| 73/73 [00:09<00:00,  7.47it/s, loss 1.2849]\n",
      "[0048/0100] Validation: 100%|██████████████████████| 75/75 [00:04<00:00, 15.25it/s, val_loss 5.3066]\n",
      "[0049/0100] Train:   0%|                                                     | 0/73 [00:00<?, ?it/s]"
     ]
    },
    {
     "name": "stdout",
     "output_type": "stream",
     "text": [
      "val_loss is not improved for 7 epochs\n",
      "                  validation\n",
      " - Yaw          :   0.963755\n",
      " - Pitch        :   0.849187\n",
      " - Roll         :   0.729913\n",
      " - RMS          :   0.852978\n",
      " - 99% Tile     :   9.316769\n",
      "Save output signals into checkpoint/1122-Scene1-LSTM-SmallWindow-UseDD/sample/0048.npy\n"
     ]
    },
    {
     "name": "stderr",
     "output_type": "stream",
     "text": [
      "[0049/0100] Train: 100%|███████████████████████████████| 73/73 [00:10<00:00,  6.83it/s, loss 1.1289]\n",
      "[0049/0100] Validation: 100%|██████████████████████| 75/75 [00:05<00:00, 12.95it/s, val_loss 5.1975]\n",
      "[0050/0100] Train:   0%|                                                     | 0/73 [00:00<?, ?it/s]"
     ]
    },
    {
     "name": "stdout",
     "output_type": "stream",
     "text": [
      "val_loss is not improved for 8 epochs\n",
      "                  validation\n",
      " - Yaw          :   0.951658\n",
      " - Pitch        :   0.876011\n",
      " - Roll         :   0.737866\n",
      " - RMS          :   0.859747\n",
      " - 99% Tile     :   9.229406\n",
      "Save output signals into checkpoint/1122-Scene1-LSTM-SmallWindow-UseDD/sample/0049.npy\n"
     ]
    },
    {
     "name": "stderr",
     "output_type": "stream",
     "text": [
      "[0050/0100] Train: 100%|███████████████████████████████| 73/73 [00:09<00:00,  7.34it/s, loss 1.1290]\n",
      "[0050/0100] Validation: 100%|██████████████████████| 75/75 [00:05<00:00, 13.01it/s, val_loss 5.4061]\n",
      "[0051/0100] Train:   0%|                                                     | 0/73 [00:00<?, ?it/s]"
     ]
    },
    {
     "name": "stdout",
     "output_type": "stream",
     "text": [
      "val_loss is not improved for 9 epochs\n",
      "                  validation\n",
      " - Yaw          :   0.988818\n",
      " - Pitch        :   0.851136\n",
      " - Roll         :   0.742097\n",
      " - RMS          :   0.866584\n",
      " - 99% Tile     :   9.371115\n",
      "Save output signals into checkpoint/1122-Scene1-LSTM-SmallWindow-UseDD/sample/0050.npy\n"
     ]
    },
    {
     "name": "stderr",
     "output_type": "stream",
     "text": [
      "[0051/0100] Train: 100%|███████████████████████████████| 73/73 [00:10<00:00,  7.12it/s, loss 1.0923]\n",
      "[0051/0100] Validation: 100%|██████████████████████| 75/75 [00:06<00:00, 11.86it/s, val_loss 5.4717]"
     ]
    },
    {
     "name": "stdout",
     "output_type": "stream",
     "text": [
      "Decaying lr from 0.00025 to 0.000125 because val_loss did not improved for 5 epochs\n",
      "val_loss is not improved for 10 epochs\n",
      "Stop training because val_loss did not improved for 10 epochs\n",
      "                  validation\n",
      " - Yaw          :   1.040894\n",
      " - Pitch        :   0.845896\n",
      " - Roll         :   0.707583\n",
      " - RMS          :   0.875533\n",
      " - 99% Tile     :   9.246186\n",
      "Save output signals into checkpoint/1122-Scene1-LSTM-SmallWindow-UseDD/sample/0051.npy\n"
     ]
    },
    {
     "name": "stderr",
     "output_type": "stream",
     "text": [
      "\n"
     ]
    }
   ],
   "source": [
    "trainer.fit(ds_train, ds_test, num_epochs=100, batch_size=256, shuffle=True, pin_memory=True)"
   ]
  },
  {
   "cell_type": "code",
   "execution_count": null,
   "metadata": {},
   "outputs": [],
   "source": []
  }
 ],
 "metadata": {
  "kernelspec": {
   "display_name": "torch",
   "language": "python",
   "name": "torch"
  },
  "language_info": {
   "codemirror_mode": {
    "name": "ipython",
    "version": 3
   },
   "file_extension": ".py",
   "mimetype": "text/x-python",
   "name": "python",
   "nbconvert_exporter": "python",
   "pygments_lexer": "ipython3",
   "version": "3.7.9"
  }
 },
 "nbformat": 4,
 "nbformat_minor": 4
}
