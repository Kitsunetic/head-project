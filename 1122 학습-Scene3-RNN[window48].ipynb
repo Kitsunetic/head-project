{
 "cells": [
  {
   "cell_type": "markdown",
   "metadata": {},
   "source": [
    "# 학습 결과\n",
    "\n",
    "user1의 scene 1~3만 사용해서 학습\n",
    "\n",
    "scene보다 user가 많기 때문에 데이터의 양이 확연히 줄어듬에도 불구하고 성능이 괜찮음.  \n",
    "적은 데이터 특화됐기 때문인지는 모르겠다.\n",
    "\n",
    "나머지 scene에 대해서도 잘 학습을 하면서 user에 대해서도 특화된다면 성능을 상당히 끌어올릴 수 있을 것으로 기대됨.  \n",
    "--> curriculum learning"
   ]
  },
  {
   "cell_type": "code",
   "execution_count": 1,
   "metadata": {},
   "outputs": [],
   "source": [
    "from multiprocessing import cpu_count\n",
    "from pathlib import Path\n",
    "from typing import List, Union, AnyStr\n",
    "from math import pi\n",
    "import pickle\n",
    "\n",
    "import numpy as np\n",
    "import torch\n",
    "import matplotlib.pyplot as plt\n",
    "import torch.nn as nn\n",
    "from sklearn import model_selection\n",
    "from tqdm import tqdm\n",
    "import torch_optimizer\n",
    "from torch.utils.data import Dataset\n",
    "import pandas as pd\n",
    "import random\n",
    "\n",
    "import torch_burn as tb\n",
    "import utils"
   ]
  },
  {
   "cell_type": "code",
   "execution_count": 2,
   "metadata": {},
   "outputs": [],
   "source": [
    "EXPERIMENT_NAME = '1122-Scene3-LSTM[SmallWindow]'\n",
    "CHECKPOINT_DIR = Path('checkpoint', EXPERIMENT_NAME)\n",
    "CHECKPOINT_DIR.mkdir(parents=True, exist_ok=True)\n",
    "\n",
    "DATA_DIR = Path('data/1116')\n",
    "TRAIN_FILES = sorted(list(DATA_DIR.glob('*scene3_0.csv')))\n",
    "TEST_FILES = sorted(list(DATA_DIR.glob('*scene3_1.csv')))"
   ]
  },
  {
   "cell_type": "markdown",
   "metadata": {},
   "source": [
    "# 데이터셋 생성\n",
    "\n",
    "scene1에 대해서 모든 user의 데이터를 하나로 합친다."
   ]
  },
  {
   "cell_type": "code",
   "execution_count": 3,
   "metadata": {},
   "outputs": [],
   "source": [
    "WINDOW_SIZE = 48"
   ]
  },
  {
   "cell_type": "code",
   "execution_count": 4,
   "metadata": {},
   "outputs": [],
   "source": [
    "class CSVSequentialDataset(Dataset):\n",
    "    def __init__(self, csvfile,\n",
    "                 window_size=300, randomized_window_size=False,\n",
    "                 stride=30, randomized_stride=False):\n",
    "        super(CSVSequentialDataset, self).__init__()\n",
    "\n",
    "        self.xcols = ['input_orientation_yaw', 'input_orientation_pitch', 'input_orientation_roll',\n",
    "                      'acceleration_x', 'acceleration_y', 'acceleration_z']\n",
    "        self.ycols = ['input_orientation_yaw', 'input_orientation_pitch', 'input_orientation_roll']\n",
    "\n",
    "        self.csv = pd.read_csv(csvfile)\n",
    "        self.window_size = window_size\n",
    "\n",
    "        self.indexes = []\n",
    "        i = 0\n",
    "        while i <= len(self.csv) - window_size * 2:\n",
    "            if randomized_window_size:\n",
    "                self.indexes.append((i, i + random.randint(window_size // 2, window_size)))\n",
    "            else:\n",
    "                self.indexes.append((i, i + window_size))\n",
    "\n",
    "            if randomized_stride:\n",
    "                i += random.randint(1, stride)\n",
    "            else:\n",
    "                i += stride\n",
    "\n",
    "    def __len__(self):\n",
    "        return len(self.indexes)\n",
    "\n",
    "    def __getitem__(self, idx):\n",
    "        s, t = self.indexes[idx]\n",
    "        x = self.csv.iloc[s:t][self.xcols].to_numpy()\n",
    "        y = self.csv.iloc[t + 6][self.ycols].to_numpy()\n",
    "\n",
    "        x = torch.tensor(x, dtype=torch.float32) # 300, 6\n",
    "        y = torch.tensor(y, dtype=torch.float32) # 3\n",
    "        \n",
    "        #x[:, :3] *= pi / 180\n",
    "        x[:, 3:] /= 10\n",
    "\n",
    "        return x, y"
   ]
  },
  {
   "cell_type": "code",
   "execution_count": 5,
   "metadata": {},
   "outputs": [],
   "source": [
    "ds_train = [CSVSequentialDataset(f,  \n",
    "                                 window_size=WINDOW_SIZE, randomized_window_size=False,\n",
    "                                 stride=5, randomized_stride=True) for f in TRAIN_FILES]\n",
    "ds_train = tb.data.ChainDataset(*ds_train)\n",
    "ds_test = [CSVSequentialDataset(f,  \n",
    "                                window_size=WINDOW_SIZE, randomized_window_size=False,\n",
    "                                stride=5, randomized_stride=True) for f in TEST_FILES]\n",
    "ds_test = tb.data.ChainDataset(*ds_test)"
   ]
  },
  {
   "cell_type": "code",
   "execution_count": 6,
   "metadata": {},
   "outputs": [
    {
     "data": {
      "text/plain": [
       "(18768, 18190)"
      ]
     },
     "execution_count": 6,
     "metadata": {},
     "output_type": "execute_result"
    }
   ],
   "source": [
    "len(ds_train), len(ds_test)"
   ]
  },
  {
   "cell_type": "code",
   "execution_count": 7,
   "metadata": {},
   "outputs": [
    {
     "data": {
      "text/plain": [
       "(torch.Size([48, 6]), torch.Size([3]))"
      ]
     },
     "execution_count": 7,
     "metadata": {},
     "output_type": "execute_result"
    }
   ],
   "source": [
    "ds_train[0][0].shape, ds_train[0][1].shape"
   ]
  },
  {
   "cell_type": "code",
   "execution_count": 8,
   "metadata": {},
   "outputs": [],
   "source": [
    "x, y = ds_train[0]"
   ]
  },
  {
   "cell_type": "code",
   "execution_count": 9,
   "metadata": {},
   "outputs": [
    {
     "data": {
      "text/plain": [
       "torch.Size([48, 6])"
      ]
     },
     "execution_count": 9,
     "metadata": {},
     "output_type": "execute_result"
    }
   ],
   "source": [
    "x.shape"
   ]
  },
  {
   "cell_type": "code",
   "execution_count": 10,
   "metadata": {},
   "outputs": [
    {
     "data": {
      "text/plain": [
       "[<matplotlib.lines.Line2D at 0x7f9787a6c590>]"
      ]
     },
     "execution_count": 10,
     "metadata": {},
     "output_type": "execute_result"
    },
    {
     "data": {
      "image/png": "[encoded data removed]",
      "text/plain": [
       "<Figure size 432x288 with 1 Axes>"
      ]
     },
     "metadata": {
      "needs_background": "light"
     },
     "output_type": "display_data"
    }
   ],
   "source": [
    "plt.plot(x[:, 2])"
   ]
  },
  {
   "cell_type": "markdown",
   "metadata": {},
   "source": [
    "# 모델 생성\n",
    "\n",
    "StackedLSTM Bidirectional"
   ]
  },
  {
   "cell_type": "code",
   "execution_count": 11,
   "metadata": {},
   "outputs": [],
   "source": [
    "model = utils.BaselineLSTM(input_size=6,\n",
    "                           hidden_size=64,\n",
    "                           num_layers=8,\n",
    "                           dropout=0.2,\n",
    "                           bidirectional=True).cuda()"
   ]
  },
  {
   "cell_type": "code",
   "execution_count": 12,
   "metadata": {},
   "outputs": [],
   "source": [
    "criterion = nn.MSELoss().cuda()\n",
    "optimizer = torch_optimizer.RAdam(model.parameters())"
   ]
  },
  {
   "cell_type": "code",
   "execution_count": 13,
   "metadata": {},
   "outputs": [],
   "source": [
    "metrics = [tb.metrics.ModuleMetric(criterion, 'loss'),\n",
    "           utils.HPMetric('hp_metric'),\n",
    "           utils.HPSignalHistory(CHECKPOINT_DIR / 'sample' / '{epoch:04d}.npy', 'hp_signal')]"
   ]
  },
  {
   "cell_type": "code",
   "execution_count": 14,
   "metadata": {},
   "outputs": [],
   "source": [
    "callbacks = [tb.callbacks.EarlyStopping(metrics[0]),\n",
    "             tb.callbacks.LRDecaying(optimizer, metrics[0])]"
   ]
  },
  {
   "cell_type": "code",
   "execution_count": 15,
   "metadata": {},
   "outputs": [],
   "source": [
    "trainer = tb.Trainer(model, optimizer, metrics, callbacks, ncols=100)"
   ]
  },
  {
   "cell_type": "code",
   "execution_count": 16,
   "metadata": {},
   "outputs": [
    {
     "name": "stderr",
     "output_type": "stream",
     "text": [
      "[0001/0100] Train: 100%|█████████████████████████████| 74/74 [00:03<00:00, 18.81it/s, loss 285.0218]\n",
      "[0001/0100] Validation: 100%|████████████████████| 72/72 [00:02<00:00, 33.75it/s, val_loss 222.3610]\n",
      "[0002/0100] Train:   0%|                                                     | 0/74 [00:00<?, ?it/s]"
     ]
    },
    {
     "name": "stdout",
     "output_type": "stream",
     "text": [
      "                  validation\n",
      " - Yaw          :  18.749834\n",
      " - Pitch        :  10.213320\n",
      " - Roll         :   2.588840\n",
      " - RMS          :  12.417330\n",
      " - 99% Tile     :  43.449733\n",
      "Save output signals into checkpoint/1122-Scene3-LSTM[SmallWindow]/sample/0001.npy\n"
     ]
    },
    {
     "name": "stderr",
     "output_type": "stream",
     "text": [
      "[0002/0100] Train: 100%|█████████████████████████████| 74/74 [00:04<00:00, 18.46it/s, loss 233.6610]\n",
      "[0002/0100] Validation: 100%|████████████████████| 72/72 [00:02<00:00, 33.82it/s, val_loss 164.7768]\n",
      "[0003/0100] Train:   0%|                                                     | 0/74 [00:00<?, ?it/s]"
     ]
    },
    {
     "name": "stdout",
     "output_type": "stream",
     "text": [
      "                  validation\n",
      " - Yaw          :  15.072001\n",
      " - Pitch        :   9.335509\n",
      " - Roll         :   2.537495\n",
      " - RMS          :  10.340145\n",
      " - 99% Tile     :  39.030290\n",
      "Save output signals into checkpoint/1122-Scene3-LSTM[SmallWindow]/sample/0002.npy\n"
     ]
    },
    {
     "name": "stderr",
     "output_type": "stream",
     "text": [
      "[0003/0100] Train: 100%|█████████████████████████████| 74/74 [00:03<00:00, 18.64it/s, loss 175.8221]\n",
      "[0003/0100] Validation: 100%|████████████████████| 72/72 [00:02<00:00, 33.86it/s, val_loss 123.9130]\n",
      "[0004/0100] Train:   0%|                                                     | 0/74 [00:00<?, ?it/s]"
     ]
    },
    {
     "name": "stdout",
     "output_type": "stream",
     "text": [
      "                  validation\n",
      " - Yaw          :  12.301559\n",
      " - Pitch        :   9.009115\n",
      " - Roll         :   2.408831\n",
      " - RMS          :   8.912444\n",
      " - 99% Tile     :  34.072266\n",
      "Save output signals into checkpoint/1122-Scene3-LSTM[SmallWindow]/sample/0003.npy\n"
     ]
    },
    {
     "name": "stderr",
     "output_type": "stream",
     "text": [
      "[0004/0100] Train: 100%|█████████████████████████████| 74/74 [00:03<00:00, 18.75it/s, loss 136.0535]\n",
      "[0004/0100] Validation: 100%|█████████████████████| 72/72 [00:02<00:00, 32.95it/s, val_loss 94.9648]\n",
      "[0005/0100] Train:   0%|                                                     | 0/74 [00:00<?, ?it/s]"
     ]
    },
    {
     "name": "stdout",
     "output_type": "stream",
     "text": [
      "                  validation\n",
      " - Yaw          :   9.793650\n",
      " - Pitch        :   8.018269\n",
      " - Roll         :   2.370071\n",
      " - RMS          :   7.434726\n",
      " - 99% Tile     :  30.719571\n",
      "Save output signals into checkpoint/1122-Scene3-LSTM[SmallWindow]/sample/0004.npy\n"
     ]
    },
    {
     "name": "stderr",
     "output_type": "stream",
     "text": [
      "[0005/0100] Train: 100%|█████████████████████████████| 74/74 [00:03<00:00, 18.95it/s, loss 109.6349]\n",
      "[0005/0100] Validation: 100%|█████████████████████| 72/72 [00:02<00:00, 33.78it/s, val_loss 76.7913]\n",
      "[0006/0100] Train:   0%|                                                     | 0/74 [00:00<?, ?it/s]"
     ]
    },
    {
     "name": "stdout",
     "output_type": "stream",
     "text": [
      "                  validation\n",
      " - Yaw          :   8.384160\n",
      " - Pitch        :   7.486548\n",
      " - Roll         :   2.381903\n",
      " - RMS          :   6.633652\n",
      " - 99% Tile     :  27.662629\n",
      "Save output signals into checkpoint/1122-Scene3-LSTM[SmallWindow]/sample/0005.npy\n"
     ]
    },
    {
     "name": "stderr",
     "output_type": "stream",
     "text": [
      "[0006/0100] Train: 100%|██████████████████████████████| 74/74 [00:03<00:00, 19.20it/s, loss 91.0746]\n",
      "[0006/0100] Validation: 100%|█████████████████████| 72/72 [00:02<00:00, 33.85it/s, val_loss 65.5022]\n",
      "[0007/0100] Train:   0%|                                                     | 0/74 [00:00<?, ?it/s]"
     ]
    },
    {
     "name": "stdout",
     "output_type": "stream",
     "text": [
      "                  validation\n",
      " - Yaw          :   6.742997\n",
      " - Pitch        :   7.579203\n",
      " - Roll         :   2.394646\n",
      " - RMS          :   6.017936\n",
      " - 99% Tile     :  26.058821\n",
      "Save output signals into checkpoint/1122-Scene3-LSTM[SmallWindow]/sample/0006.npy\n"
     ]
    },
    {
     "name": "stderr",
     "output_type": "stream",
     "text": [
      "[0007/0100] Train: 100%|██████████████████████████████| 74/74 [00:03<00:00, 19.01it/s, loss 77.0751]\n",
      "[0007/0100] Validation: 100%|█████████████████████| 72/72 [00:02<00:00, 34.26it/s, val_loss 55.3395]\n",
      "[0008/0100] Train:   0%|                                                     | 0/74 [00:00<?, ?it/s]"
     ]
    },
    {
     "name": "stdout",
     "output_type": "stream",
     "text": [
      "                  validation\n",
      " - Yaw          :   6.077142\n",
      " - Pitch        :   7.187361\n",
      " - Roll         :   2.369527\n",
      " - RMS          :   5.603703\n",
      " - 99% Tile     :  24.163378\n",
      "Save output signals into checkpoint/1122-Scene3-LSTM[SmallWindow]/sample/0007.npy\n"
     ]
    },
    {
     "name": "stderr",
     "output_type": "stream",
     "text": [
      "[0008/0100] Train: 100%|██████████████████████████████| 74/74 [00:03<00:00, 18.86it/s, loss 66.0517]\n",
      "[0008/0100] Validation: 100%|█████████████████████| 72/72 [00:02<00:00, 33.79it/s, val_loss 46.4007]\n",
      "[0009/0100] Train:   0%|                                                     | 0/74 [00:00<?, ?it/s]"
     ]
    },
    {
     "name": "stdout",
     "output_type": "stream",
     "text": [
      "                  validation\n",
      " - Yaw          :   5.865096\n",
      " - Pitch        :   6.502765\n",
      " - Roll         :   2.348322\n",
      " - RMS          :   5.234499\n",
      " - 99% Tile     :  21.633247\n",
      "Save output signals into checkpoint/1122-Scene3-LSTM[SmallWindow]/sample/0008.npy\n"
     ]
    },
    {
     "name": "stderr",
     "output_type": "stream",
     "text": [
      "[0009/0100] Train: 100%|██████████████████████████████| 74/74 [00:03<00:00, 19.03it/s, loss 55.9795]\n",
      "[0009/0100] Validation: 100%|█████████████████████| 72/72 [00:02<00:00, 33.79it/s, val_loss 38.5972]\n",
      "[0010/0100] Train:   0%|                                                     | 0/74 [00:00<?, ?it/s]"
     ]
    },
    {
     "name": "stdout",
     "output_type": "stream",
     "text": [
      "                  validation\n",
      " - Yaw          :   5.004687\n",
      " - Pitch        :   5.794307\n",
      " - Roll         :   2.320140\n",
      " - RMS          :   4.618944\n",
      " - 99% Tile     :  20.144820\n",
      "Save output signals into checkpoint/1122-Scene3-LSTM[SmallWindow]/sample/0009.npy\n"
     ]
    },
    {
     "name": "stderr",
     "output_type": "stream",
     "text": [
      "[0010/0100] Train: 100%|██████████████████████████████| 74/74 [00:03<00:00, 19.50it/s, loss 47.4762]\n",
      "[0010/0100] Validation: 100%|█████████████████████| 72/72 [00:02<00:00, 34.64it/s, val_loss 31.6292]\n",
      "[0011/0100] Train:   0%|                                                     | 0/74 [00:00<?, ?it/s]"
     ]
    },
    {
     "name": "stdout",
     "output_type": "stream",
     "text": [
      "                  validation\n",
      " - Yaw          :   4.765392\n",
      " - Pitch        :   4.778997\n",
      " - Roll         :   2.336372\n",
      " - RMS          :   4.123364\n",
      " - 99% Tile     :  18.662218\n",
      "Save output signals into checkpoint/1122-Scene3-LSTM[SmallWindow]/sample/0010.npy\n"
     ]
    },
    {
     "name": "stderr",
     "output_type": "stream",
     "text": [
      "[0011/0100] Train: 100%|██████████████████████████████| 74/74 [00:03<00:00, 18.76it/s, loss 38.1694]\n",
      "[0011/0100] Validation: 100%|█████████████████████| 72/72 [00:02<00:00, 34.50it/s, val_loss 23.2256]\n",
      "[0012/0100] Train:   0%|                                                     | 0/74 [00:00<?, ?it/s]"
     ]
    },
    {
     "name": "stdout",
     "output_type": "stream",
     "text": [
      "                  validation\n",
      " - Yaw          :   3.941227\n",
      " - Pitch        :   3.885591\n",
      " - Roll         :   2.374979\n",
      " - RMS          :   3.477145\n",
      " - 99% Tile     :  16.038305\n",
      "Save output signals into checkpoint/1122-Scene3-LSTM[SmallWindow]/sample/0011.npy\n"
     ]
    },
    {
     "name": "stderr",
     "output_type": "stream",
     "text": [
      "[0012/0100] Train: 100%|██████████████████████████████| 74/74 [00:03<00:00, 19.05it/s, loss 30.8542]\n",
      "[0012/0100] Validation: 100%|█████████████████████| 72/72 [00:02<00:00, 33.51it/s, val_loss 16.4827]\n",
      "[0013/0100] Train:   0%|                                                     | 0/74 [00:00<?, ?it/s]"
     ]
    },
    {
     "name": "stdout",
     "output_type": "stream",
     "text": [
      "                  validation\n",
      " - Yaw          :   2.801059\n",
      " - Pitch        :   3.014092\n",
      " - Roll         :   2.371577\n",
      " - RMS          :   2.741962\n",
      " - 99% Tile     :  13.521176\n",
      "Save output signals into checkpoint/1122-Scene3-LSTM[SmallWindow]/sample/0012.npy\n"
     ]
    },
    {
     "name": "stderr",
     "output_type": "stream",
     "text": [
      "[0013/0100] Train: 100%|██████████████████████████████| 74/74 [00:03<00:00, 19.63it/s, loss 25.4915]\n",
      "[0013/0100] Validation: 100%|█████████████████████| 72/72 [00:02<00:00, 33.38it/s, val_loss 13.5055]\n",
      "[0014/0100] Train:   0%|                                                     | 0/74 [00:00<?, ?it/s]"
     ]
    },
    {
     "name": "stdout",
     "output_type": "stream",
     "text": [
      "                  validation\n",
      " - Yaw          :   2.723697\n",
      " - Pitch        :   2.473336\n",
      " - Roll         :   2.332387\n",
      " - RMS          :   2.515018\n",
      " - 99% Tile     :  12.451634\n",
      "Save output signals into checkpoint/1122-Scene3-LSTM[SmallWindow]/sample/0013.npy\n"
     ]
    },
    {
     "name": "stderr",
     "output_type": "stream",
     "text": [
      "[0014/0100] Train: 100%|██████████████████████████████| 74/74 [00:03<00:00, 18.86it/s, loss 22.0561]\n",
      "[0014/0100] Validation: 100%|█████████████████████| 72/72 [00:02<00:00, 34.77it/s, val_loss 11.7315]\n",
      "[0015/0100] Train:   0%|                                                     | 0/74 [00:00<?, ?it/s]"
     ]
    },
    {
     "name": "stdout",
     "output_type": "stream",
     "text": [
      "                  validation\n",
      " - Yaw          :   2.496159\n",
      " - Pitch        :   2.275270\n",
      " - Roll         :   2.347035\n",
      " - RMS          :   2.374604\n",
      " - 99% Tile     :  11.661418\n",
      "Save output signals into checkpoint/1122-Scene3-LSTM[SmallWindow]/sample/0014.npy\n"
     ]
    },
    {
     "name": "stderr",
     "output_type": "stream",
     "text": [
      "[0015/0100] Train: 100%|██████████████████████████████| 74/74 [00:03<00:00, 18.75it/s, loss 19.1996]\n",
      "[0015/0100] Validation: 100%|█████████████████████| 72/72 [00:02<00:00, 33.94it/s, val_loss 10.2083]\n",
      "[0016/0100] Train:   0%|                                                     | 0/74 [00:00<?, ?it/s]"
     ]
    },
    {
     "name": "stdout",
     "output_type": "stream",
     "text": [
      "                  validation\n",
      " - Yaw          :   2.249677\n",
      " - Pitch        :   1.798433\n",
      " - Roll         :   2.305444\n",
      " - RMS          :   2.129983\n",
      " - 99% Tile     :  11.267700\n",
      "Save output signals into checkpoint/1122-Scene3-LSTM[SmallWindow]/sample/0015.npy\n"
     ]
    },
    {
     "name": "stderr",
     "output_type": "stream",
     "text": [
      "[0016/0100] Train: 100%|██████████████████████████████| 74/74 [00:04<00:00, 18.45it/s, loss 16.9526]\n",
      "[0016/0100] Validation: 100%|██████████████████████| 72/72 [00:02<00:00, 34.21it/s, val_loss 9.3506]\n",
      "[0017/0100] Train:   0%|                                                     | 0/74 [00:00<?, ?it/s]"
     ]
    },
    {
     "name": "stdout",
     "output_type": "stream",
     "text": [
      "                  validation\n",
      " - Yaw          :   1.884330\n",
      " - Pitch        :   1.822149\n",
      " - Roll         :   2.296780\n",
      " - RMS          :   2.012140\n",
      " - 99% Tile     :  10.923649\n",
      "Save output signals into checkpoint/1122-Scene3-LSTM[SmallWindow]/sample/0016.npy\n"
     ]
    },
    {
     "name": "stderr",
     "output_type": "stream",
     "text": [
      "[0017/0100] Train: 100%|██████████████████████████████| 74/74 [00:03<00:00, 18.62it/s, loss 15.2677]\n",
      "[0017/0100] Validation: 100%|██████████████████████| 72/72 [00:02<00:00, 32.82it/s, val_loss 8.8175]\n",
      "[0018/0100] Train:   0%|                                                     | 0/74 [00:00<?, ?it/s]"
     ]
    },
    {
     "name": "stdout",
     "output_type": "stream",
     "text": [
      "                  validation\n",
      " - Yaw          :   1.965467\n",
      " - Pitch        :   1.773607\n",
      " - Roll         :   2.270088\n",
      " - RMS          :   2.013458\n",
      " - 99% Tile     :  10.294694\n",
      "Save output signals into checkpoint/1122-Scene3-LSTM[SmallWindow]/sample/0017.npy\n"
     ]
    },
    {
     "name": "stderr",
     "output_type": "stream",
     "text": [
      "[0018/0100] Train: 100%|██████████████████████████████| 74/74 [00:03<00:00, 18.76it/s, loss 13.8675]\n",
      "[0018/0100] Validation: 100%|██████████████████████| 72/72 [00:02<00:00, 33.90it/s, val_loss 8.3568]\n",
      "[0019/0100] Train:   0%|                                                     | 0/74 [00:00<?, ?it/s]"
     ]
    },
    {
     "name": "stdout",
     "output_type": "stream",
     "text": [
      "                  validation\n",
      " - Yaw          :   1.698711\n",
      " - Pitch        :   1.642502\n",
      " - Roll         :   2.284292\n",
      " - RMS          :   1.897491\n",
      " - 99% Tile     :  10.380165\n",
      "Save output signals into checkpoint/1122-Scene3-LSTM[SmallWindow]/sample/0018.npy\n"
     ]
    },
    {
     "name": "stderr",
     "output_type": "stream",
     "text": [
      "[0019/0100] Train: 100%|██████████████████████████████| 74/74 [00:03<00:00, 18.84it/s, loss 12.7453]\n",
      "[0019/0100] Validation: 100%|██████████████████████| 72/72 [00:02<00:00, 33.82it/s, val_loss 6.8812]\n",
      "[0020/0100] Train:   0%|                                                     | 0/74 [00:00<?, ?it/s]"
     ]
    },
    {
     "name": "stdout",
     "output_type": "stream",
     "text": [
      "                  validation\n",
      " - Yaw          :   1.424476\n",
      " - Pitch        :   1.486445\n",
      " - Roll         :   2.233732\n",
      " - RMS          :   1.753873\n",
      " - 99% Tile     :   9.329007\n",
      "Save output signals into checkpoint/1122-Scene3-LSTM[SmallWindow]/sample/0019.npy\n"
     ]
    },
    {
     "name": "stderr",
     "output_type": "stream",
     "text": [
      "[0020/0100] Train: 100%|██████████████████████████████| 74/74 [00:03<00:00, 19.43it/s, loss 11.7952]\n",
      "[0020/0100] Validation: 100%|██████████████████████| 72/72 [00:02<00:00, 33.65it/s, val_loss 6.8272]\n",
      "[0021/0100] Train:   0%|                                                     | 0/74 [00:00<?, ?it/s]"
     ]
    },
    {
     "name": "stdout",
     "output_type": "stream",
     "text": [
      "                  validation\n",
      " - Yaw          :   1.591087\n",
      " - Pitch        :   1.546494\n",
      " - Roll         :   2.185236\n",
      " - RMS          :   1.798004\n",
      " - 99% Tile     :   8.968654\n",
      "Save output signals into checkpoint/1122-Scene3-LSTM[SmallWindow]/sample/0020.npy\n"
     ]
    },
    {
     "name": "stderr",
     "output_type": "stream",
     "text": [
      "[0021/0100] Train: 100%|██████████████████████████████| 74/74 [00:03<00:00, 18.80it/s, loss 10.9619]\n",
      "[0021/0100] Validation: 100%|██████████████████████| 72/72 [00:02<00:00, 34.49it/s, val_loss 6.1939]\n",
      "[0022/0100] Train:   0%|                                                     | 0/74 [00:00<?, ?it/s]"
     ]
    },
    {
     "name": "stdout",
     "output_type": "stream",
     "text": [
      "                  validation\n",
      " - Yaw          :   1.445330\n",
      " - Pitch        :   1.323343\n",
      " - Roll         :   2.079964\n",
      " - RMS          :   1.649896\n",
      " - 99% Tile     :   8.849658\n",
      "Save output signals into checkpoint/1122-Scene3-LSTM[SmallWindow]/sample/0021.npy\n"
     ]
    },
    {
     "name": "stderr",
     "output_type": "stream",
     "text": [
      "[0022/0100] Train: 100%|███████████████████████████████| 74/74 [00:03<00:00, 18.81it/s, loss 9.6925]\n",
      "[0022/0100] Validation: 100%|██████████████████████| 72/72 [00:02<00:00, 33.66it/s, val_loss 5.9059]\n",
      "[0023/0100] Train:   0%|                                                     | 0/74 [00:00<?, ?it/s]"
     ]
    },
    {
     "name": "stdout",
     "output_type": "stream",
     "text": [
      "                  validation\n",
      " - Yaw          :   1.472144\n",
      " - Pitch        :   1.482159\n",
      " - Roll         :   1.892631\n",
      " - RMS          :   1.627479\n",
      " - 99% Tile     :   8.429937\n",
      "Save output signals into checkpoint/1122-Scene3-LSTM[SmallWindow]/sample/0022.npy\n"
     ]
    },
    {
     "name": "stderr",
     "output_type": "stream",
     "text": [
      "[0023/0100] Train: 100%|███████████████████████████████| 74/74 [00:03<00:00, 18.69it/s, loss 8.8008]\n",
      "[0023/0100] Validation: 100%|██████████████████████| 72/72 [00:02<00:00, 33.03it/s, val_loss 4.8304]\n",
      "[0024/0100] Train:   0%|                                                     | 0/74 [00:00<?, ?it/s]"
     ]
    },
    {
     "name": "stdout",
     "output_type": "stream",
     "text": [
      "                  validation\n",
      " - Yaw          :   1.225137\n",
      " - Pitch        :   1.202641\n",
      " - Roll         :   1.627530\n",
      " - RMS          :   1.365792\n",
      " - 99% Tile     :   7.984023\n",
      "Save output signals into checkpoint/1122-Scene3-LSTM[SmallWindow]/sample/0023.npy\n"
     ]
    },
    {
     "name": "stderr",
     "output_type": "stream",
     "text": [
      "[0024/0100] Train: 100%|███████████████████████████████| 74/74 [00:03<00:00, 19.43it/s, loss 9.6795]\n",
      "[0024/0100] Validation: 100%|██████████████████████| 72/72 [00:02<00:00, 33.37it/s, val_loss 5.6802]\n",
      "[0025/0100] Train:   0%|                                                     | 0/74 [00:00<?, ?it/s]"
     ]
    },
    {
     "name": "stdout",
     "output_type": "stream",
     "text": [
      "val_loss is not improved for 1 epochs\n",
      "                  validation\n",
      " - Yaw          :   1.738232\n",
      " - Pitch        :   1.578675\n",
      " - Roll         :   1.472729\n",
      " - RMS          :   1.600270\n",
      " - 99% Tile     :   8.527927\n",
      "Save output signals into checkpoint/1122-Scene3-LSTM[SmallWindow]/sample/0024.npy\n"
     ]
    },
    {
     "name": "stderr",
     "output_type": "stream",
     "text": [
      "[0025/0100] Train: 100%|███████████████████████████████| 74/74 [00:04<00:00, 18.34it/s, loss 8.1209]\n",
      "[0025/0100] Validation: 100%|██████████████████████| 72/72 [00:02<00:00, 32.84it/s, val_loss 4.3753]\n",
      "[0026/0100] Train:   0%|                                                     | 0/74 [00:00<?, ?it/s]"
     ]
    },
    {
     "name": "stdout",
     "output_type": "stream",
     "text": [
      "                  validation\n",
      " - Yaw          :   1.369730\n",
      " - Pitch        :   1.207475\n",
      " - Roll         :   1.253579\n",
      " - RMS          :   1.278752\n",
      " - 99% Tile     :   7.843023\n",
      "Save output signals into checkpoint/1122-Scene3-LSTM[SmallWindow]/sample/0025.npy\n"
     ]
    },
    {
     "name": "stderr",
     "output_type": "stream",
     "text": [
      "[0026/0100] Train: 100%|███████████████████████████████| 74/74 [00:03<00:00, 19.13it/s, loss 7.3769]\n",
      "[0026/0100] Validation: 100%|██████████████████████| 72/72 [00:02<00:00, 33.15it/s, val_loss 3.7327]\n",
      "[0027/0100] Train:   0%|                                                     | 0/74 [00:00<?, ?it/s]"
     ]
    },
    {
     "name": "stdout",
     "output_type": "stream",
     "text": [
      "                  validation\n",
      " - Yaw          :   1.140651\n",
      " - Pitch        :   1.148849\n",
      " - Roll         :   1.065626\n",
      " - RMS          :   1.119002\n",
      " - 99% Tile     :   7.346135\n",
      "Save output signals into checkpoint/1122-Scene3-LSTM[SmallWindow]/sample/0026.npy\n"
     ]
    },
    {
     "name": "stderr",
     "output_type": "stream",
     "text": [
      "[0027/0100] Train: 100%|███████████████████████████████| 74/74 [00:03<00:00, 18.69it/s, loss 6.6127]\n",
      "[0027/0100] Validation: 100%|██████████████████████| 72/72 [00:02<00:00, 33.84it/s, val_loss 4.3915]\n",
      "[0028/0100] Train:   0%|                                                     | 0/74 [00:00<?, ?it/s]"
     ]
    },
    {
     "name": "stdout",
     "output_type": "stream",
     "text": [
      "val_loss is not improved for 1 epochs\n",
      "                  validation\n",
      " - Yaw          :   1.740114\n",
      " - Pitch        :   1.328479\n",
      " - Roll         :   0.975092\n",
      " - RMS          :   1.383673\n",
      " - 99% Tile     :   7.562444\n",
      "Save output signals into checkpoint/1122-Scene3-LSTM[SmallWindow]/sample/0027.npy\n"
     ]
    },
    {
     "name": "stderr",
     "output_type": "stream",
     "text": [
      "[0028/0100] Train: 100%|███████████████████████████████| 74/74 [00:04<00:00, 18.46it/s, loss 6.1474]\n",
      "[0028/0100] Validation: 100%|██████████████████████| 72/72 [00:02<00:00, 33.17it/s, val_loss 3.6802]\n",
      "[0029/0100] Train:   0%|                                                     | 0/74 [00:00<?, ?it/s]"
     ]
    },
    {
     "name": "stdout",
     "output_type": "stream",
     "text": [
      "                  validation\n",
      " - Yaw          :   1.400874\n",
      " - Pitch        :   1.152361\n",
      " - Roll         :   0.958852\n",
      " - RMS          :   1.184593\n",
      " - 99% Tile     :   6.996855\n",
      "Save output signals into checkpoint/1122-Scene3-LSTM[SmallWindow]/sample/0028.npy\n"
     ]
    },
    {
     "name": "stderr",
     "output_type": "stream",
     "text": [
      "[0029/0100] Train: 100%|███████████████████████████████| 74/74 [00:03<00:00, 19.06it/s, loss 5.8172]\n",
      "[0029/0100] Validation: 100%|██████████████████████| 72/72 [00:02<00:00, 33.38it/s, val_loss 3.5691]\n",
      "[0030/0100] Train:   0%|                                                     | 0/74 [00:00<?, ?it/s]"
     ]
    },
    {
     "name": "stdout",
     "output_type": "stream",
     "text": [
      "                  validation\n",
      " - Yaw          :   1.364625\n",
      " - Pitch        :   1.321283\n",
      " - Roll         :   0.900078\n",
      " - RMS          :   1.213553\n",
      " - 99% Tile     :   7.180793\n",
      "Save output signals into checkpoint/1122-Scene3-LSTM[SmallWindow]/sample/0029.npy\n"
     ]
    },
    {
     "name": "stderr",
     "output_type": "stream",
     "text": [
      "[0030/0100] Train: 100%|███████████████████████████████| 74/74 [00:03<00:00, 18.81it/s, loss 5.5692]\n",
      "[0030/0100] Validation: 100%|██████████████████████| 72/72 [00:02<00:00, 33.93it/s, val_loss 3.3342]\n",
      "[0031/0100] Train:   0%|                                                     | 0/74 [00:00<?, ?it/s]"
     ]
    },
    {
     "name": "stdout",
     "output_type": "stream",
     "text": [
      "                  validation\n",
      " - Yaw          :   1.296245\n",
      " - Pitch        :   1.024666\n",
      " - Roll         :   0.897273\n",
      " - RMS          :   1.085555\n",
      " - 99% Tile     :   6.963768\n",
      "Save output signals into checkpoint/1122-Scene3-LSTM[SmallWindow]/sample/0030.npy\n"
     ]
    },
    {
     "name": "stderr",
     "output_type": "stream",
     "text": [
      "[0031/0100] Train: 100%|███████████████████████████████| 74/74 [00:03<00:00, 19.06it/s, loss 5.2988]\n",
      "[0031/0100] Validation: 100%|██████████████████████| 72/72 [00:02<00:00, 33.95it/s, val_loss 3.0437]\n",
      "[0032/0100] Train:   0%|                                                     | 0/74 [00:00<?, ?it/s]"
     ]
    },
    {
     "name": "stdout",
     "output_type": "stream",
     "text": [
      "                  validation\n",
      " - Yaw          :   1.087422\n",
      " - Pitch        :   1.023452\n",
      " - Roll         :   0.825752\n",
      " - RMS          :   0.985192\n",
      " - 99% Tile     :   6.841720\n",
      "Save output signals into checkpoint/1122-Scene3-LSTM[SmallWindow]/sample/0031.npy\n"
     ]
    },
    {
     "name": "stderr",
     "output_type": "stream",
     "text": [
      "[0032/0100] Train: 100%|███████████████████████████████| 74/74 [00:03<00:00, 18.72it/s, loss 5.0496]\n",
      "[0032/0100] Validation: 100%|██████████████████████| 72/72 [00:02<00:00, 33.96it/s, val_loss 3.0001]\n",
      "[0033/0100] Train:   0%|                                                     | 0/74 [00:00<?, ?it/s]"
     ]
    },
    {
     "name": "stdout",
     "output_type": "stream",
     "text": [
      "                  validation\n",
      " - Yaw          :   1.089347\n",
      " - Pitch        :   1.013584\n",
      " - Roll         :   0.855290\n",
      " - RMS          :   0.990883\n",
      " - 99% Tile     :   6.627786\n",
      "Save output signals into checkpoint/1122-Scene3-LSTM[SmallWindow]/sample/0032.npy\n"
     ]
    },
    {
     "name": "stderr",
     "output_type": "stream",
     "text": [
      "[0033/0100] Train: 100%|███████████████████████████████| 74/74 [00:03<00:00, 18.70it/s, loss 4.8311]\n",
      "[0033/0100] Validation: 100%|██████████████████████| 72/72 [00:02<00:00, 33.01it/s, val_loss 3.0922]\n",
      "[0034/0100] Train:   0%|                                                     | 0/74 [00:00<?, ?it/s]"
     ]
    },
    {
     "name": "stdout",
     "output_type": "stream",
     "text": [
      "val_loss is not improved for 1 epochs\n",
      "                  validation\n",
      " - Yaw          :   1.182797\n",
      " - Pitch        :   1.143669\n",
      " - Roll         :   0.812107\n",
      " - RMS          :   1.059325\n",
      " - 99% Tile     :   6.760415\n",
      "Save output signals into checkpoint/1122-Scene3-LSTM[SmallWindow]/sample/0033.npy\n"
     ]
    },
    {
     "name": "stderr",
     "output_type": "stream",
     "text": [
      "[0034/0100] Train: 100%|███████████████████████████████| 74/74 [00:03<00:00, 18.83it/s, loss 4.3983]\n",
      "[0034/0100] Validation: 100%|██████████████████████| 72/72 [00:02<00:00, 33.94it/s, val_loss 3.0173]\n",
      "[0035/0100] Train:   0%|                                                     | 0/74 [00:00<?, ?it/s]"
     ]
    },
    {
     "name": "stdout",
     "output_type": "stream",
     "text": [
      "val_loss is not improved for 2 epochs\n",
      "                  validation\n",
      " - Yaw          :   1.131617\n",
      " - Pitch        :   1.135976\n",
      " - Roll         :   0.764392\n",
      " - RMS          :   1.025556\n",
      " - 99% Tile     :   6.789986\n",
      "Save output signals into checkpoint/1122-Scene3-LSTM[SmallWindow]/sample/0034.npy\n"
     ]
    },
    {
     "name": "stderr",
     "output_type": "stream",
     "text": [
      "[0035/0100] Train: 100%|███████████████████████████████| 74/74 [00:03<00:00, 18.62it/s, loss 4.2663]\n",
      "[0035/0100] Validation: 100%|██████████████████████| 72/72 [00:02<00:00, 33.33it/s, val_loss 2.8017]\n",
      "[0036/0100] Train:   0%|                                                     | 0/74 [00:00<?, ?it/s]"
     ]
    },
    {
     "name": "stdout",
     "output_type": "stream",
     "text": [
      "                  validation\n",
      " - Yaw          :   1.137803\n",
      " - Pitch        :   1.045808\n",
      " - Roll         :   0.771706\n",
      " - RMS          :   0.997303\n",
      " - 99% Tile     :   6.440029\n",
      "Save output signals into checkpoint/1122-Scene3-LSTM[SmallWindow]/sample/0035.npy\n"
     ]
    },
    {
     "name": "stderr",
     "output_type": "stream",
     "text": [
      "[0036/0100] Train: 100%|███████████████████████████████| 74/74 [00:03<00:00, 19.46it/s, loss 4.1139]\n",
      "[0036/0100] Validation: 100%|██████████████████████| 72/72 [00:02<00:00, 33.95it/s, val_loss 3.2441]\n",
      "[0037/0100] Train:   0%|                                                     | 0/74 [00:00<?, ?it/s]"
     ]
    },
    {
     "name": "stdout",
     "output_type": "stream",
     "text": [
      "val_loss is not improved for 1 epochs\n",
      "                  validation\n",
      " - Yaw          :   1.634905\n",
      " - Pitch        :   0.926005\n",
      " - Roll         :   0.782809\n",
      " - RMS          :   1.175186\n",
      " - 99% Tile     :   6.527741\n",
      "Save output signals into checkpoint/1122-Scene3-LSTM[SmallWindow]/sample/0036.npy\n"
     ]
    },
    {
     "name": "stderr",
     "output_type": "stream",
     "text": [
      "[0037/0100] Train: 100%|███████████████████████████████| 74/74 [00:03<00:00, 19.01it/s, loss 4.1071]\n",
      "[0037/0100] Validation: 100%|██████████████████████| 72/72 [00:02<00:00, 32.50it/s, val_loss 2.8859]\n",
      "[0038/0100] Train:   0%|                                                     | 0/74 [00:00<?, ?it/s]"
     ]
    },
    {
     "name": "stdout",
     "output_type": "stream",
     "text": [
      "val_loss is not improved for 2 epochs\n",
      "                  validation\n",
      " - Yaw          :   1.219122\n",
      " - Pitch        :   0.878596\n",
      " - Roll         :   0.821912\n",
      " - RMS          :   0.988893\n",
      " - 99% Tile     :   6.757815\n",
      "Save output signals into checkpoint/1122-Scene3-LSTM[SmallWindow]/sample/0037.npy\n"
     ]
    },
    {
     "name": "stderr",
     "output_type": "stream",
     "text": [
      "[0038/0100] Train: 100%|███████████████████████████████| 74/74 [00:04<00:00, 18.45it/s, loss 3.8644]\n",
      "[0038/0100] Validation: 100%|██████████████████████| 72/72 [00:02<00:00, 33.61it/s, val_loss 2.9887]\n",
      "[0039/0100] Train:   0%|                                                     | 0/74 [00:00<?, ?it/s]"
     ]
    },
    {
     "name": "stdout",
     "output_type": "stream",
     "text": [
      "val_loss is not improved for 3 epochs\n",
      "                  validation\n",
      " - Yaw          :   1.428871\n",
      " - Pitch        :   0.965070\n",
      " - Roll         :   0.805080\n",
      " - RMS          :   1.098664\n",
      " - 99% Tile     :   6.346696\n",
      "Save output signals into checkpoint/1122-Scene3-LSTM[SmallWindow]/sample/0038.npy\n"
     ]
    },
    {
     "name": "stderr",
     "output_type": "stream",
     "text": [
      "[0039/0100] Train: 100%|███████████████████████████████| 74/74 [00:03<00:00, 18.85it/s, loss 3.6988]\n",
      "[0039/0100] Validation: 100%|██████████████████████| 72/72 [00:02<00:00, 33.91it/s, val_loss 2.7349]\n",
      "[0040/0100] Train:   0%|                                                     | 0/74 [00:00<?, ?it/s]"
     ]
    },
    {
     "name": "stdout",
     "output_type": "stream",
     "text": [
      "                  validation\n",
      " - Yaw          :   1.034583\n",
      " - Pitch        :   1.057500\n",
      " - Roll         :   0.686937\n",
      " - RMS          :   0.941727\n",
      " - 99% Tile     :   6.425524\n",
      "Save output signals into checkpoint/1122-Scene3-LSTM[SmallWindow]/sample/0039.npy\n"
     ]
    },
    {
     "name": "stderr",
     "output_type": "stream",
     "text": [
      "[0040/0100] Train: 100%|███████████████████████████████| 74/74 [00:03<00:00, 18.59it/s, loss 3.7284]\n",
      "[0040/0100] Validation: 100%|██████████████████████| 72/72 [00:02<00:00, 32.89it/s, val_loss 2.9227]\n",
      "[0041/0100] Train:   0%|                                                     | 0/74 [00:00<?, ?it/s]"
     ]
    },
    {
     "name": "stdout",
     "output_type": "stream",
     "text": [
      "val_loss is not improved for 1 epochs\n",
      "                  validation\n",
      " - Yaw          :   1.154718\n",
      " - Pitch        :   1.084726\n",
      " - Roll         :   0.796431\n",
      " - RMS          :   1.023769\n",
      " - 99% Tile     :   6.626250\n",
      "Save output signals into checkpoint/1122-Scene3-LSTM[SmallWindow]/sample/0040.npy\n"
     ]
    },
    {
     "name": "stderr",
     "output_type": "stream",
     "text": [
      "[0041/0100] Train: 100%|███████████████████████████████| 74/74 [00:03<00:00, 18.73it/s, loss 3.4698]\n",
      "[0041/0100] Validation: 100%|██████████████████████| 72/72 [00:02<00:00, 34.36it/s, val_loss 2.7458]\n",
      "[0042/0100] Train:   0%|                                                     | 0/74 [00:00<?, ?it/s]"
     ]
    },
    {
     "name": "stdout",
     "output_type": "stream",
     "text": [
      "val_loss is not improved for 2 epochs\n",
      "                  validation\n",
      " - Yaw          :   1.125131\n",
      " - Pitch        :   1.098226\n",
      " - Roll         :   0.706904\n",
      " - RMS          :   0.995278\n",
      " - 99% Tile     :   6.278877\n",
      "Save output signals into checkpoint/1122-Scene3-LSTM[SmallWindow]/sample/0041.npy\n"
     ]
    },
    {
     "name": "stderr",
     "output_type": "stream",
     "text": [
      "[0042/0100] Train: 100%|███████████████████████████████| 74/74 [00:03<00:00, 19.04it/s, loss 3.2677]\n",
      "[0042/0100] Validation: 100%|██████████████████████| 72/72 [00:02<00:00, 33.47it/s, val_loss 2.6769]\n",
      "[0043/0100] Train:   0%|                                                     | 0/74 [00:00<?, ?it/s]"
     ]
    },
    {
     "name": "stdout",
     "output_type": "stream",
     "text": [
      "                  validation\n",
      " - Yaw          :   1.266852\n",
      " - Pitch        :   0.879186\n",
      " - Roll         :   0.689876\n",
      " - RMS          :   0.975331\n",
      " - 99% Tile     :   6.139645\n",
      "Save output signals into checkpoint/1122-Scene3-LSTM[SmallWindow]/sample/0042.npy\n"
     ]
    },
    {
     "name": "stderr",
     "output_type": "stream",
     "text": [
      "[0043/0100] Train: 100%|███████████████████████████████| 74/74 [00:04<00:00, 18.10it/s, loss 3.2165]\n",
      "[0043/0100] Validation: 100%|██████████████████████| 72/72 [00:02<00:00, 32.99it/s, val_loss 2.7729]\n",
      "[0044/0100] Train:   0%|                                                     | 0/74 [00:00<?, ?it/s]"
     ]
    },
    {
     "name": "stdout",
     "output_type": "stream",
     "text": [
      "val_loss is not improved for 1 epochs\n",
      "                  validation\n",
      " - Yaw          :   1.253721\n",
      " - Pitch        :   0.837175\n",
      " - Roll         :   0.676860\n",
      " - RMS          :   0.954082\n",
      " - 99% Tile     :   6.530591\n",
      "Save output signals into checkpoint/1122-Scene3-LSTM[SmallWindow]/sample/0043.npy\n"
     ]
    },
    {
     "name": "stderr",
     "output_type": "stream",
     "text": [
      "[0044/0100] Train: 100%|███████████████████████████████| 74/74 [00:04<00:00, 18.42it/s, loss 3.2324]\n",
      "[0044/0100] Validation: 100%|██████████████████████| 72/72 [00:02<00:00, 34.13it/s, val_loss 2.7159]\n",
      "[0045/0100] Train:   0%|                                                     | 0/74 [00:00<?, ?it/s]"
     ]
    },
    {
     "name": "stdout",
     "output_type": "stream",
     "text": [
      "val_loss is not improved for 2 epochs\n",
      "                  validation\n",
      " - Yaw          :   1.221226\n",
      " - Pitch        :   1.003694\n",
      " - Roll         :   0.634314\n",
      " - RMS          :   0.983387\n",
      " - 99% Tile     :   6.159511\n",
      "Save output signals into checkpoint/1122-Scene3-LSTM[SmallWindow]/sample/0044.npy\n"
     ]
    },
    {
     "name": "stderr",
     "output_type": "stream",
     "text": [
      "[0045/0100] Train: 100%|███████████████████████████████| 74/74 [00:03<00:00, 18.83it/s, loss 3.0459]\n",
      "[0045/0100] Validation: 100%|██████████████████████| 72/72 [00:02<00:00, 32.57it/s, val_loss 2.4732]\n",
      "[0046/0100] Train:   0%|                                                     | 0/74 [00:00<?, ?it/s]"
     ]
    },
    {
     "name": "stdout",
     "output_type": "stream",
     "text": [
      "                  validation\n",
      " - Yaw          :   1.061738\n",
      " - Pitch        :   0.835990\n",
      " - Roll         :   0.749822\n",
      " - RMS          :   0.892263\n",
      " - 99% Tile     :   6.232735\n",
      "Save output signals into checkpoint/1122-Scene3-LSTM[SmallWindow]/sample/0045.npy\n"
     ]
    },
    {
     "name": "stderr",
     "output_type": "stream",
     "text": [
      "[0046/0100] Train: 100%|███████████████████████████████| 74/74 [00:03<00:00, 19.30it/s, loss 2.8616]\n",
      "[0046/0100] Validation: 100%|██████████████████████| 72/72 [00:02<00:00, 32.31it/s, val_loss 2.5491]\n",
      "[0047/0100] Train:   0%|                                                     | 0/74 [00:00<?, ?it/s]"
     ]
    },
    {
     "name": "stdout",
     "output_type": "stream",
     "text": [
      "val_loss is not improved for 1 epochs\n",
      "                  validation\n",
      " - Yaw          :   1.034788\n",
      " - Pitch        :   0.888672\n",
      " - Roll         :   0.673569\n",
      " - RMS          :   0.878297\n",
      " - 99% Tile     :   6.165788\n",
      "Save output signals into checkpoint/1122-Scene3-LSTM[SmallWindow]/sample/0046.npy\n"
     ]
    },
    {
     "name": "stderr",
     "output_type": "stream",
     "text": [
      "[0047/0100] Train: 100%|███████████████████████████████| 74/74 [00:04<00:00, 18.32it/s, loss 2.8108]\n",
      "[0047/0100] Validation: 100%|██████████████████████| 72/72 [00:02<00:00, 32.80it/s, val_loss 2.5933]\n",
      "[0048/0100] Train:   0%|                                                     | 0/74 [00:00<?, ?it/s]"
     ]
    },
    {
     "name": "stdout",
     "output_type": "stream",
     "text": [
      "val_loss is not improved for 2 epochs\n",
      "                  validation\n",
      " - Yaw          :   1.251322\n",
      " - Pitch        :   0.797429\n",
      " - Roll         :   0.771155\n",
      " - RMS          :   0.965467\n",
      " - 99% Tile     :   5.938031\n",
      "Save output signals into checkpoint/1122-Scene3-LSTM[SmallWindow]/sample/0047.npy\n"
     ]
    },
    {
     "name": "stderr",
     "output_type": "stream",
     "text": [
      "[0048/0100] Train: 100%|███████████████████████████████| 74/74 [00:04<00:00, 18.28it/s, loss 2.8181]\n",
      "[0048/0100] Validation: 100%|██████████████████████| 72/72 [00:02<00:00, 33.07it/s, val_loss 2.6596]\n",
      "[0049/0100] Train:   0%|                                                     | 0/74 [00:00<?, ?it/s]"
     ]
    },
    {
     "name": "stdout",
     "output_type": "stream",
     "text": [
      "val_loss is not improved for 3 epochs\n",
      "                  validation\n",
      " - Yaw          :   1.184011\n",
      " - Pitch        :   0.966429\n",
      " - Roll         :   0.591521\n",
      " - RMS          :   0.946179\n",
      " - 99% Tile     :   6.271256\n",
      "Save output signals into checkpoint/1122-Scene3-LSTM[SmallWindow]/sample/0048.npy\n"
     ]
    },
    {
     "name": "stderr",
     "output_type": "stream",
     "text": [
      "[0049/0100] Train: 100%|███████████████████████████████| 74/74 [00:03<00:00, 18.77it/s, loss 2.6819]\n",
      "[0049/0100] Validation: 100%|██████████████████████| 72/72 [00:02<00:00, 33.27it/s, val_loss 2.5745]\n",
      "[0050/0100] Train:   0%|                                                     | 0/74 [00:00<?, ?it/s]"
     ]
    },
    {
     "name": "stdout",
     "output_type": "stream",
     "text": [
      "val_loss is not improved for 4 epochs\n",
      "                  validation\n",
      " - Yaw          :   1.104986\n",
      " - Pitch        :   1.213043\n",
      " - Roll         :   0.605422\n",
      " - RMS          :   1.009786\n",
      " - 99% Tile     :   5.786950\n",
      "Save output signals into checkpoint/1122-Scene3-LSTM[SmallWindow]/sample/0049.npy\n"
     ]
    },
    {
     "name": "stderr",
     "output_type": "stream",
     "text": [
      "[0050/0100] Train: 100%|███████████████████████████████| 74/74 [00:03<00:00, 18.74it/s, loss 2.5523]\n",
      "[0050/0100] Validation: 100%|██████████████████████| 72/72 [00:02<00:00, 33.42it/s, val_loss 2.3805]\n",
      "[0051/0100] Train:   0%|                                                     | 0/74 [00:00<?, ?it/s]"
     ]
    },
    {
     "name": "stdout",
     "output_type": "stream",
     "text": [
      "                  validation\n",
      " - Yaw          :   1.176496\n",
      " - Pitch        :   0.876674\n",
      " - Roll         :   0.599637\n",
      " - RMS          :   0.915107\n",
      " - 99% Tile     :   5.993587\n",
      "Save output signals into checkpoint/1122-Scene3-LSTM[SmallWindow]/sample/0050.npy\n"
     ]
    },
    {
     "name": "stderr",
     "output_type": "stream",
     "text": [
      "[0051/0100] Train: 100%|███████████████████████████████| 74/74 [00:03<00:00, 18.97it/s, loss 2.5610]\n",
      "[0051/0100] Validation: 100%|██████████████████████| 72/72 [00:02<00:00, 32.94it/s, val_loss 2.6197]\n",
      "[0052/0100] Train:   0%|                                                     | 0/74 [00:00<?, ?it/s]"
     ]
    },
    {
     "name": "stdout",
     "output_type": "stream",
     "text": [
      "val_loss is not improved for 1 epochs\n",
      "                  validation\n",
      " - Yaw          :   1.299673\n",
      " - Pitch        :   0.890288\n",
      " - Roll         :   0.686661\n",
      " - RMS          :   0.992181\n",
      " - 99% Tile     :   6.053814\n",
      "Save output signals into checkpoint/1122-Scene3-LSTM[SmallWindow]/sample/0051.npy\n"
     ]
    },
    {
     "name": "stderr",
     "output_type": "stream",
     "text": [
      "[0052/0100] Train: 100%|███████████████████████████████| 74/74 [00:03<00:00, 18.84it/s, loss 2.4652]\n",
      "[0052/0100] Validation: 100%|██████████████████████| 72/72 [00:02<00:00, 33.89it/s, val_loss 2.9923]\n",
      "[0053/0100] Train:   0%|                                                     | 0/74 [00:00<?, ?it/s]"
     ]
    },
    {
     "name": "stdout",
     "output_type": "stream",
     "text": [
      "val_loss is not improved for 2 epochs\n",
      "                  validation\n",
      " - Yaw          :   1.421169\n",
      " - Pitch        :   1.071691\n",
      " - Roll         :   0.630566\n",
      " - RMS          :   1.090238\n",
      " - 99% Tile     :   6.254159\n",
      "Save output signals into checkpoint/1122-Scene3-LSTM[SmallWindow]/sample/0052.npy\n"
     ]
    },
    {
     "name": "stderr",
     "output_type": "stream",
     "text": [
      "[0053/0100] Train: 100%|███████████████████████████████| 74/74 [00:04<00:00, 18.46it/s, loss 2.4883]\n",
      "[0053/0100] Validation: 100%|██████████████████████| 72/72 [00:02<00:00, 33.78it/s, val_loss 2.5830]\n",
      "[0054/0100] Train:   0%|                                                     | 0/74 [00:00<?, ?it/s]"
     ]
    },
    {
     "name": "stdout",
     "output_type": "stream",
     "text": [
      "val_loss is not improved for 3 epochs\n",
      "                  validation\n",
      " - Yaw          :   1.240431\n",
      " - Pitch        :   0.831751\n",
      " - Roll         :   0.637786\n",
      " - RMS          :   0.937594\n",
      " - 99% Tile     :   6.217714\n",
      "Save output signals into checkpoint/1122-Scene3-LSTM[SmallWindow]/sample/0053.npy\n"
     ]
    },
    {
     "name": "stderr",
     "output_type": "stream",
     "text": [
      "[0054/0100] Train: 100%|███████████████████████████████| 74/74 [00:03<00:00, 18.88it/s, loss 2.3588]\n",
      "[0054/0100] Validation: 100%|██████████████████████| 72/72 [00:02<00:00, 34.16it/s, val_loss 2.5221]\n",
      "[0055/0100] Train:   0%|                                                     | 0/74 [00:00<?, ?it/s]"
     ]
    },
    {
     "name": "stdout",
     "output_type": "stream",
     "text": [
      "val_loss is not improved for 4 epochs\n",
      "                  validation\n",
      " - Yaw          :   1.135355\n",
      " - Pitch        :   0.872489\n",
      " - Roll         :   0.661563\n",
      " - RMS          :   0.910666\n",
      " - 99% Tile     :   5.973542\n",
      "Save output signals into checkpoint/1122-Scene3-LSTM[SmallWindow]/sample/0054.npy\n"
     ]
    },
    {
     "name": "stderr",
     "output_type": "stream",
     "text": [
      "[0055/0100] Train: 100%|███████████████████████████████| 74/74 [00:03<00:00, 18.89it/s, loss 2.2795]\n",
      "[0055/0100] Validation: 100%|██████████████████████| 72/72 [00:02<00:00, 34.20it/s, val_loss 2.2395]\n",
      "[0056/0100] Train:   0%|                                                     | 0/74 [00:00<?, ?it/s]"
     ]
    },
    {
     "name": "stdout",
     "output_type": "stream",
     "text": [
      "                  validation\n",
      " - Yaw          :   0.997049\n",
      " - Pitch        :   0.798860\n",
      " - Roll         :   0.605647\n",
      " - RMS          :   0.816311\n",
      " - 99% Tile     :   5.819949\n",
      "Save output signals into checkpoint/1122-Scene3-LSTM[SmallWindow]/sample/0055.npy\n"
     ]
    },
    {
     "name": "stderr",
     "output_type": "stream",
     "text": [
      "[0056/0100] Train: 100%|███████████████████████████████| 74/74 [00:04<00:00, 18.40it/s, loss 2.2218]\n",
      "[0056/0100] Validation: 100%|██████████████████████| 72/72 [00:02<00:00, 33.31it/s, val_loss 2.4296]\n",
      "[0057/0100] Train:   0%|                                                     | 0/74 [00:00<?, ?it/s]"
     ]
    },
    {
     "name": "stdout",
     "output_type": "stream",
     "text": [
      "val_loss is not improved for 1 epochs\n",
      "                  validation\n",
      " - Yaw          :   1.109832\n",
      " - Pitch        :   0.868853\n",
      " - Roll         :   0.597831\n",
      " - RMS          :   0.883937\n",
      " - 99% Tile     :   6.027255\n",
      "Save output signals into checkpoint/1122-Scene3-LSTM[SmallWindow]/sample/0056.npy\n"
     ]
    },
    {
     "name": "stderr",
     "output_type": "stream",
     "text": [
      "[0057/0100] Train: 100%|███████████████████████████████| 74/74 [00:04<00:00, 18.45it/s, loss 2.2520]\n",
      "[0057/0100] Validation: 100%|██████████████████████| 72/72 [00:02<00:00, 33.74it/s, val_loss 2.4879]\n",
      "[0058/0100] Train:   0%|                                                     | 0/74 [00:00<?, ?it/s]"
     ]
    },
    {
     "name": "stdout",
     "output_type": "stream",
     "text": [
      "val_loss is not improved for 2 epochs\n",
      "                  validation\n",
      " - Yaw          :   1.188594\n",
      " - Pitch        :   0.866190\n",
      " - Roll         :   0.637480\n",
      " - RMS          :   0.925459\n",
      " - 99% Tile     :   6.013274\n",
      "Save output signals into checkpoint/1122-Scene3-LSTM[SmallWindow]/sample/0057.npy\n"
     ]
    },
    {
     "name": "stderr",
     "output_type": "stream",
     "text": [
      "[0058/0100] Train: 100%|███████████████████████████████| 74/74 [00:03<00:00, 18.95it/s, loss 2.2285]\n",
      "[0058/0100] Validation: 100%|██████████████████████| 72/72 [00:02<00:00, 33.50it/s, val_loss 2.5826]\n",
      "[0059/0100] Train:   0%|                                                     | 0/74 [00:00<?, ?it/s]"
     ]
    },
    {
     "name": "stdout",
     "output_type": "stream",
     "text": [
      "val_loss is not improved for 3 epochs\n",
      "                  validation\n",
      " - Yaw          :   1.144570\n",
      " - Pitch        :   0.945128\n",
      " - Roll         :   0.592334\n",
      " - RMS          :   0.922708\n",
      " - 99% Tile     :   6.323693\n",
      "Save output signals into checkpoint/1122-Scene3-LSTM[SmallWindow]/sample/0058.npy\n"
     ]
    },
    {
     "name": "stderr",
     "output_type": "stream",
     "text": [
      "[0059/0100] Train: 100%|███████████████████████████████| 74/74 [00:03<00:00, 18.80it/s, loss 2.1424]\n",
      "[0059/0100] Validation: 100%|██████████████████████| 72/72 [00:02<00:00, 33.52it/s, val_loss 2.3869]\n",
      "[0060/0100] Train:   0%|                                                     | 0/74 [00:00<?, ?it/s]"
     ]
    },
    {
     "name": "stdout",
     "output_type": "stream",
     "text": [
      "val_loss is not improved for 4 epochs\n",
      "                  validation\n",
      " - Yaw          :   1.103376\n",
      " - Pitch        :   0.929091\n",
      " - Roll         :   0.559772\n",
      " - RMS          :   0.893307\n",
      " - 99% Tile     :   5.982700\n",
      "Save output signals into checkpoint/1122-Scene3-LSTM[SmallWindow]/sample/0059.npy\n"
     ]
    },
    {
     "name": "stderr",
     "output_type": "stream",
     "text": [
      "[0060/0100] Train: 100%|███████████████████████████████| 74/74 [00:03<00:00, 19.07it/s, loss 2.0159]\n",
      "[0060/0100] Validation: 100%|██████████████████████| 72/72 [00:02<00:00, 33.10it/s, val_loss 2.5337]\n",
      "[0061/0100] Train:   0%|                                                     | 0/74 [00:00<?, ?it/s]"
     ]
    },
    {
     "name": "stdout",
     "output_type": "stream",
     "text": [
      "Decaying lr from 0.001 to 0.0005 because val_loss did not improved for 5 epochs\n",
      "val_loss is not improved for 5 epochs\n",
      "                  validation\n",
      " - Yaw          :   1.198768\n",
      " - Pitch        :   0.880923\n",
      " - Roll         :   0.634098\n",
      " - RMS          :   0.933658\n",
      " - 99% Tile     :   6.046311\n",
      "Save output signals into checkpoint/1122-Scene3-LSTM[SmallWindow]/sample/0060.npy\n"
     ]
    },
    {
     "name": "stderr",
     "output_type": "stream",
     "text": [
      "[0061/0100] Train: 100%|███████████████████████████████| 74/74 [00:04<00:00, 18.44it/s, loss 1.8902]\n",
      "[0061/0100] Validation: 100%|██████████████████████| 72/72 [00:02<00:00, 33.35it/s, val_loss 2.2028]\n",
      "[0062/0100] Train:   0%|                                                     | 0/74 [00:00<?, ?it/s]"
     ]
    },
    {
     "name": "stdout",
     "output_type": "stream",
     "text": [
      "                  validation\n",
      " - Yaw          :   0.928974\n",
      " - Pitch        :   0.808144\n",
      " - Roll         :   0.540743\n",
      " - RMS          :   0.776422\n",
      " - 99% Tile     :   5.939572\n",
      "Save output signals into checkpoint/1122-Scene3-LSTM[SmallWindow]/sample/0061.npy\n"
     ]
    },
    {
     "name": "stderr",
     "output_type": "stream",
     "text": [
      "[0062/0100] Train: 100%|███████████████████████████████| 74/74 [00:04<00:00, 18.30it/s, loss 1.7778]\n",
      "[0062/0100] Validation: 100%|██████████████████████| 72/72 [00:02<00:00, 32.53it/s, val_loss 2.3420]\n",
      "[0063/0100] Train:   0%|                                                     | 0/74 [00:00<?, ?it/s]"
     ]
    },
    {
     "name": "stdout",
     "output_type": "stream",
     "text": [
      "val_loss is not improved for 1 epochs\n",
      "                  validation\n",
      " - Yaw          :   1.078379\n",
      " - Pitch        :   0.797600\n",
      " - Roll         :   0.559746\n",
      " - RMS          :   0.839123\n",
      " - 99% Tile     :   5.875493\n",
      "Save output signals into checkpoint/1122-Scene3-LSTM[SmallWindow]/sample/0062.npy\n"
     ]
    },
    {
     "name": "stderr",
     "output_type": "stream",
     "text": [
      "[0063/0100] Train: 100%|███████████████████████████████| 74/74 [00:03<00:00, 19.04it/s, loss 1.8018]\n",
      "[0063/0100] Validation: 100%|██████████████████████| 72/72 [00:02<00:00, 33.18it/s, val_loss 2.3108]\n",
      "[0064/0100] Train:   0%|                                                     | 0/74 [00:00<?, ?it/s]"
     ]
    },
    {
     "name": "stdout",
     "output_type": "stream",
     "text": [
      "val_loss is not improved for 2 epochs\n",
      "                  validation\n",
      " - Yaw          :   1.036835\n",
      " - Pitch        :   0.848582\n",
      " - Roll         :   0.570091\n",
      " - RMS          :   0.840659\n",
      " - 99% Tile     :   5.913397\n",
      "Save output signals into checkpoint/1122-Scene3-LSTM[SmallWindow]/sample/0063.npy\n"
     ]
    },
    {
     "name": "stderr",
     "output_type": "stream",
     "text": [
      "[0064/0100] Train: 100%|███████████████████████████████| 74/74 [00:03<00:00, 18.53it/s, loss 1.7196]\n",
      "[0064/0100] Validation: 100%|██████████████████████| 72/72 [00:02<00:00, 33.55it/s, val_loss 2.2338]\n",
      "[0065/0100] Train:   0%|                                                     | 0/74 [00:00<?, ?it/s]"
     ]
    },
    {
     "name": "stdout",
     "output_type": "stream",
     "text": [
      "val_loss is not improved for 3 epochs\n",
      "                  validation\n",
      " - Yaw          :   0.950556\n",
      " - Pitch        :   0.881932\n",
      " - Roll         :   0.533116\n",
      " - RMS          :   0.809439\n",
      " - 99% Tile     :   5.832100\n",
      "Save output signals into checkpoint/1122-Scene3-LSTM[SmallWindow]/sample/0064.npy\n"
     ]
    },
    {
     "name": "stderr",
     "output_type": "stream",
     "text": [
      "[0065/0100] Train: 100%|███████████████████████████████| 74/74 [00:03<00:00, 18.51it/s, loss 1.6995]\n",
      "[0065/0100] Validation: 100%|██████████████████████| 72/72 [00:02<00:00, 33.64it/s, val_loss 2.2500]\n",
      "[0066/0100] Train:   0%|                                                     | 0/74 [00:00<?, ?it/s]"
     ]
    },
    {
     "name": "stdout",
     "output_type": "stream",
     "text": [
      "val_loss is not improved for 4 epochs\n",
      "                  validation\n",
      " - Yaw          :   0.930355\n",
      " - Pitch        :   0.901242\n",
      " - Roll         :   0.540471\n",
      " - RMS          :   0.810330\n",
      " - 99% Tile     :   5.834625\n",
      "Save output signals into checkpoint/1122-Scene3-LSTM[SmallWindow]/sample/0065.npy\n"
     ]
    },
    {
     "name": "stderr",
     "output_type": "stream",
     "text": [
      "[0066/0100] Train: 100%|███████████████████████████████| 74/74 [00:03<00:00, 19.21it/s, loss 1.6463]\n",
      "[0066/0100] Validation: 100%|██████████████████████| 72/72 [00:02<00:00, 33.27it/s, val_loss 2.1375]\n",
      "[0067/0100] Train:   0%|                                                     | 0/74 [00:00<?, ?it/s]"
     ]
    },
    {
     "name": "stdout",
     "output_type": "stream",
     "text": [
      "                  validation\n",
      " - Yaw          :   0.935764\n",
      " - Pitch        :   0.781530\n",
      " - Roll         :   0.568070\n",
      " - RMS          :   0.776562\n",
      " - 99% Tile     :   5.710224\n",
      "Save output signals into checkpoint/1122-Scene3-LSTM[SmallWindow]/sample/0066.npy\n"
     ]
    },
    {
     "name": "stderr",
     "output_type": "stream",
     "text": [
      "[0067/0100] Train: 100%|███████████████████████████████| 74/74 [00:03<00:00, 18.50it/s, loss 1.6906]\n",
      "[0067/0100] Validation: 100%|██████████████████████| 72/72 [00:02<00:00, 33.97it/s, val_loss 2.2490]\n",
      "[0068/0100] Train:   0%|                                                     | 0/74 [00:00<?, ?it/s]"
     ]
    },
    {
     "name": "stdout",
     "output_type": "stream",
     "text": [
      "val_loss is not improved for 1 epochs\n",
      "                  validation\n",
      " - Yaw          :   0.999031\n",
      " - Pitch        :   0.780569\n",
      " - Roll         :   0.584331\n",
      " - RMS          :   0.805976\n",
      " - 99% Tile     :   5.961191\n",
      "Save output signals into checkpoint/1122-Scene3-LSTM[SmallWindow]/sample/0067.npy\n"
     ]
    },
    {
     "name": "stderr",
     "output_type": "stream",
     "text": [
      "[0068/0100] Train: 100%|███████████████████████████████| 74/74 [00:03<00:00, 18.60it/s, loss 1.6727]\n",
      "[0068/0100] Validation: 100%|██████████████████████| 72/72 [00:02<00:00, 33.31it/s, val_loss 2.1997]\n",
      "[0069/0100] Train:   0%|                                                     | 0/74 [00:00<?, ?it/s]"
     ]
    },
    {
     "name": "stdout",
     "output_type": "stream",
     "text": [
      "val_loss is not improved for 2 epochs\n",
      "                  validation\n",
      " - Yaw          :   0.931294\n",
      " - Pitch        :   0.781319\n",
      " - Roll         :   0.529125\n",
      " - RMS          :   0.765450\n",
      " - 99% Tile     :   5.771445\n",
      "Save output signals into checkpoint/1122-Scene3-LSTM[SmallWindow]/sample/0068.npy\n"
     ]
    },
    {
     "name": "stderr",
     "output_type": "stream",
     "text": [
      "[0069/0100] Train: 100%|███████████████████████████████| 74/74 [00:03<00:00, 18.71it/s, loss 1.6350]\n",
      "[0069/0100] Validation: 100%|██████████████████████| 72/72 [00:02<00:00, 34.03it/s, val_loss 2.3981]\n",
      "[0070/0100] Train:   0%|                                                     | 0/74 [00:00<?, ?it/s]"
     ]
    },
    {
     "name": "stdout",
     "output_type": "stream",
     "text": [
      "val_loss is not improved for 3 epochs\n",
      "                  validation\n",
      " - Yaw          :   1.028369\n",
      " - Pitch        :   0.895033\n",
      " - Roll         :   0.532647\n",
      " - RMS          :   0.845052\n",
      " - 99% Tile     :   6.016718\n",
      "Save output signals into checkpoint/1122-Scene3-LSTM[SmallWindow]/sample/0069.npy\n"
     ]
    },
    {
     "name": "stderr",
     "output_type": "stream",
     "text": [
      "[0070/0100] Train: 100%|███████████████████████████████| 74/74 [00:03<00:00, 18.99it/s, loss 1.5937]\n",
      "[0070/0100] Validation: 100%|██████████████████████| 72/72 [00:02<00:00, 33.02it/s, val_loss 2.3627]\n",
      "[0071/0100] Train:   0%|                                                     | 0/74 [00:00<?, ?it/s]"
     ]
    },
    {
     "name": "stdout",
     "output_type": "stream",
     "text": [
      "val_loss is not improved for 4 epochs\n",
      "                  validation\n",
      " - Yaw          :   1.003249\n",
      " - Pitch        :   0.834937\n",
      " - Roll         :   0.546588\n",
      " - RMS          :   0.816984\n",
      " - 99% Tile     :   6.022160\n",
      "Save output signals into checkpoint/1122-Scene3-LSTM[SmallWindow]/sample/0070.npy\n"
     ]
    },
    {
     "name": "stderr",
     "output_type": "stream",
     "text": [
      "[0071/0100] Train: 100%|███████████████████████████████| 74/74 [00:03<00:00, 18.71it/s, loss 1.5983]\n",
      "[0071/0100] Validation: 100%|██████████████████████| 72/72 [00:02<00:00, 33.21it/s, val_loss 2.3146]\n",
      "[0072/0100] Train:   0%|                                                     | 0/74 [00:00<?, ?it/s]"
     ]
    },
    {
     "name": "stdout",
     "output_type": "stream",
     "text": [
      "Decaying lr from 0.0005 to 0.00025 because val_loss did not improved for 5 epochs\n",
      "val_loss is not improved for 5 epochs\n",
      "                  validation\n",
      " - Yaw          :   1.129798\n",
      " - Pitch        :   0.745104\n",
      " - Roll         :   0.535147\n",
      " - RMS          :   0.840239\n",
      " - 99% Tile     :   5.905451\n",
      "Save output signals into checkpoint/1122-Scene3-LSTM[SmallWindow]/sample/0071.npy\n"
     ]
    },
    {
     "name": "stderr",
     "output_type": "stream",
     "text": [
      "[0072/0100] Train: 100%|███████████████████████████████| 74/74 [00:03<00:00, 18.88it/s, loss 1.4924]\n",
      "[0072/0100] Validation: 100%|██████████████████████| 72/72 [00:02<00:00, 33.77it/s, val_loss 2.1610]\n",
      "[0073/0100] Train:   0%|                                                     | 0/74 [00:00<?, ?it/s]"
     ]
    },
    {
     "name": "stdout",
     "output_type": "stream",
     "text": [
      "val_loss is not improved for 6 epochs\n",
      "                  validation\n",
      " - Yaw          :   0.884431\n",
      " - Pitch        :   0.854952\n",
      " - Roll         :   0.511731\n",
      " - RMS          :   0.769205\n",
      " - 99% Tile     :   5.819203\n",
      "Save output signals into checkpoint/1122-Scene3-LSTM[SmallWindow]/sample/0072.npy\n"
     ]
    },
    {
     "name": "stderr",
     "output_type": "stream",
     "text": [
      "[0073/0100] Train: 100%|███████████████████████████████| 74/74 [00:04<00:00, 18.26it/s, loss 1.4616]\n",
      "[0073/0100] Validation: 100%|██████████████████████| 72/72 [00:02<00:00, 33.62it/s, val_loss 2.1232]\n",
      "[0074/0100] Train:   0%|                                                     | 0/74 [00:00<?, ?it/s]"
     ]
    },
    {
     "name": "stdout",
     "output_type": "stream",
     "text": [
      "                  validation\n",
      " - Yaw          :   0.910241\n",
      " - Pitch        :   0.772487\n",
      " - Roll         :   0.508039\n",
      " - RMS          :   0.749083\n",
      " - 99% Tile     :   5.755001\n",
      "Save output signals into checkpoint/1122-Scene3-LSTM[SmallWindow]/sample/0073.npy\n"
     ]
    },
    {
     "name": "stderr",
     "output_type": "stream",
     "text": [
      "[0074/0100] Train: 100%|███████████████████████████████| 74/74 [00:03<00:00, 19.16it/s, loss 1.4492]\n",
      "[0074/0100] Validation: 100%|██████████████████████| 72/72 [00:02<00:00, 34.10it/s, val_loss 2.1906]\n",
      "[0075/0100] Train:   0%|                                                     | 0/74 [00:00<?, ?it/s]"
     ]
    },
    {
     "name": "stdout",
     "output_type": "stream",
     "text": [
      "val_loss is not improved for 1 epochs\n",
      "                  validation\n",
      " - Yaw          :   0.895014\n",
      " - Pitch        :   0.858553\n",
      " - Roll         :   0.524650\n",
      " - RMS          :   0.777479\n",
      " - 99% Tile     :   5.859719\n",
      "Save output signals into checkpoint/1122-Scene3-LSTM[SmallWindow]/sample/0074.npy\n"
     ]
    },
    {
     "name": "stderr",
     "output_type": "stream",
     "text": [
      "[0075/0100] Train: 100%|███████████████████████████████| 74/74 [00:04<00:00, 18.39it/s, loss 1.4340]\n",
      "[0075/0100] Validation: 100%|██████████████████████| 72/72 [00:02<00:00, 33.62it/s, val_loss 2.1973]\n",
      "[0076/0100] Train:   0%|                                                     | 0/74 [00:00<?, ?it/s]"
     ]
    },
    {
     "name": "stdout",
     "output_type": "stream",
     "text": [
      "val_loss is not improved for 2 epochs\n",
      "                  validation\n",
      " - Yaw          :   0.946563\n",
      " - Pitch        :   0.853158\n",
      " - Roll         :   0.521492\n",
      " - RMS          :   0.794945\n",
      " - 99% Tile     :   5.910916\n",
      "Save output signals into checkpoint/1122-Scene3-LSTM[SmallWindow]/sample/0075.npy\n"
     ]
    },
    {
     "name": "stderr",
     "output_type": "stream",
     "text": [
      "[0076/0100] Train: 100%|███████████████████████████████| 74/74 [00:03<00:00, 18.80it/s, loss 1.4300]\n",
      "[0076/0100] Validation: 100%|██████████████████████| 72/72 [00:02<00:00, 33.72it/s, val_loss 2.2253]\n",
      "[0077/0100] Train:   0%|                                                     | 0/74 [00:00<?, ?it/s]"
     ]
    },
    {
     "name": "stdout",
     "output_type": "stream",
     "text": [
      "val_loss is not improved for 3 epochs\n",
      "                  validation\n",
      " - Yaw          :   0.949414\n",
      " - Pitch        :   0.814390\n",
      " - Roll         :   0.505242\n",
      " - RMS          :   0.778864\n",
      " - 99% Tile     :   6.020636\n",
      "Save output signals into checkpoint/1122-Scene3-LSTM[SmallWindow]/sample/0076.npy\n"
     ]
    },
    {
     "name": "stderr",
     "output_type": "stream",
     "text": [
      "[0077/0100] Train: 100%|███████████████████████████████| 74/74 [00:03<00:00, 18.63it/s, loss 1.3981]\n",
      "[0077/0100] Validation: 100%|██████████████████████| 72/72 [00:02<00:00, 33.16it/s, val_loss 2.2179]\n",
      "[0078/0100] Train:   0%|                                                     | 0/74 [00:00<?, ?it/s]"
     ]
    },
    {
     "name": "stdout",
     "output_type": "stream",
     "text": [
      "val_loss is not improved for 4 epochs\n",
      "                  validation\n",
      " - Yaw          :   0.916922\n",
      " - Pitch        :   0.824054\n",
      " - Roll         :   0.518349\n",
      " - RMS          :   0.772118\n",
      " - 99% Tile     :   5.940279\n",
      "Save output signals into checkpoint/1122-Scene3-LSTM[SmallWindow]/sample/0077.npy\n"
     ]
    },
    {
     "name": "stderr",
     "output_type": "stream",
     "text": [
      "[0078/0100] Train: 100%|███████████████████████████████| 74/74 [00:03<00:00, 18.88it/s, loss 1.4044]\n",
      "[0078/0100] Validation: 100%|██████████████████████| 72/72 [00:02<00:00, 33.17it/s, val_loss 2.2167]\n",
      "[0079/0100] Train:   0%|                                                     | 0/74 [00:00<?, ?it/s]"
     ]
    },
    {
     "name": "stdout",
     "output_type": "stream",
     "text": [
      "Decaying lr from 0.00025 to 0.000125 because val_loss did not improved for 5 epochs\n",
      "val_loss is not improved for 5 epochs\n",
      "                  validation\n",
      " - Yaw          :   0.933473\n",
      " - Pitch        :   0.772640\n",
      " - Roll         :   0.518117\n",
      " - RMS          :   0.760874\n",
      " - 99% Tile     :   5.783395\n",
      "Save output signals into checkpoint/1122-Scene3-LSTM[SmallWindow]/sample/0078.npy\n"
     ]
    },
    {
     "name": "stderr",
     "output_type": "stream",
     "text": [
      "[0079/0100] Train: 100%|███████████████████████████████| 74/74 [00:03<00:00, 18.64it/s, loss 1.3620]\n",
      "[0079/0100] Validation: 100%|██████████████████████| 72/72 [00:02<00:00, 32.36it/s, val_loss 2.1285]\n",
      "[0080/0100] Train:   0%|                                                     | 0/74 [00:00<?, ?it/s]"
     ]
    },
    {
     "name": "stdout",
     "output_type": "stream",
     "text": [
      "val_loss is not improved for 6 epochs\n",
      "                  validation\n",
      " - Yaw          :   0.884420\n",
      " - Pitch        :   0.770708\n",
      " - Roll         :   0.519541\n",
      " - RMS          :   0.740746\n",
      " - 99% Tile     :   5.835972\n",
      "Save output signals into checkpoint/1122-Scene3-LSTM[SmallWindow]/sample/0079.npy\n"
     ]
    },
    {
     "name": "stderr",
     "output_type": "stream",
     "text": [
      "[0080/0100] Train: 100%|███████████████████████████████| 74/74 [00:03<00:00, 18.58it/s, loss 1.3428]\n",
      "[0080/0100] Validation: 100%|██████████████████████| 72/72 [00:02<00:00, 28.71it/s, val_loss 2.1292]\n",
      "[0081/0100] Train:   0%|                                                     | 0/74 [00:00<?, ?it/s]"
     ]
    },
    {
     "name": "stdout",
     "output_type": "stream",
     "text": [
      "val_loss is not improved for 7 epochs\n",
      "                  validation\n",
      " - Yaw          :   0.878423\n",
      " - Pitch        :   0.792629\n",
      " - Roll         :   0.509643\n",
      " - RMS          :   0.743780\n",
      " - 99% Tile     :   5.803104\n",
      "Save output signals into checkpoint/1122-Scene3-LSTM[SmallWindow]/sample/0080.npy\n"
     ]
    },
    {
     "name": "stderr",
     "output_type": "stream",
     "text": [
      "[0081/0100] Train: 100%|███████████████████████████████| 74/74 [00:03<00:00, 18.53it/s, loss 1.3407]\n",
      "[0081/0100] Validation: 100%|██████████████████████| 72/72 [00:02<00:00, 33.68it/s, val_loss 2.2326]\n",
      "[0082/0100] Train:   0%|                                                     | 0/74 [00:00<?, ?it/s]"
     ]
    },
    {
     "name": "stdout",
     "output_type": "stream",
     "text": [
      "val_loss is not improved for 8 epochs\n",
      "                  validation\n",
      " - Yaw          :   0.972376\n",
      " - Pitch        :   0.799964\n",
      " - Roll         :   0.498518\n",
      " - RMS          :   0.781873\n",
      " - 99% Tile     :   5.942598\n",
      "Save output signals into checkpoint/1122-Scene3-LSTM[SmallWindow]/sample/0081.npy\n"
     ]
    },
    {
     "name": "stderr",
     "output_type": "stream",
     "text": [
      "[0082/0100] Train: 100%|███████████████████████████████| 74/74 [00:04<00:00, 18.45it/s, loss 1.3307]\n",
      "[0082/0100] Validation: 100%|██████████████████████| 72/72 [00:02<00:00, 33.27it/s, val_loss 2.1262]\n",
      "[0083/0100] Train:   0%|                                                     | 0/74 [00:00<?, ?it/s]"
     ]
    },
    {
     "name": "stdout",
     "output_type": "stream",
     "text": [
      "val_loss is not improved for 9 epochs\n",
      "                  validation\n",
      " - Yaw          :   0.854619\n",
      " - Pitch        :   0.866615\n",
      " - Roll         :   0.503773\n",
      " - RMS          :   0.760522\n",
      " - 99% Tile     :   5.698507\n",
      "Save output signals into checkpoint/1122-Scene3-LSTM[SmallWindow]/sample/0082.npy\n"
     ]
    },
    {
     "name": "stderr",
     "output_type": "stream",
     "text": [
      "[0083/0100] Train: 100%|███████████████████████████████| 74/74 [00:03<00:00, 18.57it/s, loss 1.3238]\n",
      "[0083/0100] Validation: 100%|██████████████████████| 72/72 [00:02<00:00, 33.89it/s, val_loss 2.1363]"
     ]
    },
    {
     "name": "stdout",
     "output_type": "stream",
     "text": [
      "Decaying lr from 0.000125 to 6.25e-05 because val_loss did not improved for 5 epochs\n",
      "val_loss is not improved for 10 epochs\n",
      "Stop training because val_loss did not improved for 10 epochs\n",
      "                  validation\n",
      " - Yaw          :   0.916275\n",
      " - Pitch        :   0.804051\n",
      " - Roll         :   0.507226\n",
      " - RMS          :   0.762307\n",
      " - 99% Tile     :   5.799205\n",
      "Save output signals into checkpoint/1122-Scene3-LSTM[SmallWindow]/sample/0083.npy\n"
     ]
    },
    {
     "name": "stderr",
     "output_type": "stream",
     "text": [
      "\n"
     ]
    }
   ],
   "source": [
    "trainer.fit(ds_train, ds_test, num_epochs=100, batch_size=256, shuffle=True, pin_memory=True)"
   ]
  },
  {
   "cell_type": "code",
   "execution_count": null,
   "metadata": {},
   "outputs": [],
   "source": []
  }
 ],
 "metadata": {
  "kernelspec": {
   "display_name": "torch",
   "language": "python",
   "name": "torch"
  },
  "language_info": {
   "codemirror_mode": {
    "name": "ipython",
    "version": 3
   },
   "file_extension": ".py",
   "mimetype": "text/x-python",
   "name": "python",
   "nbconvert_exporter": "python",
   "pygments_lexer": "ipython3",
   "version": "3.7.9"
  }
 },
 "nbformat": 4,
 "nbformat_minor": 4
}
