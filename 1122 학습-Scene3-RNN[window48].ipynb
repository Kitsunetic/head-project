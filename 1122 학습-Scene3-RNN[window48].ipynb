{
 "cells": [
  {
   "cell_type": "markdown",
   "metadata": {},
   "source": [
    "# 학습 결과\n",
    "\n",
    "user1의 scene 1~3만 사용해서 학습\n",
    "\n",
    "scene보다 user가 많기 때문에 데이터의 양이 확연히 줄어듬에도 불구하고 성능이 괜찮음.  \n",
    "적은 데이터 특화됐기 때문인지는 모르겠다.\n",
    "\n",
    "나머지 scene에 대해서도 잘 학습을 하면서 user에 대해서도 특화된다면 성능을 상당히 끌어올릴 수 있을 것으로 기대됨.  \n",
    "--> curriculum learning"
   ]
  },
  {
   "cell_type": "code",
   "execution_count": 1,
   "metadata": {},
   "outputs": [],
   "source": [
    "from multiprocessing import cpu_count\n",
    "from pathlib import Path\n",
    "from typing import List, Union, AnyStr\n",
    "from math import pi\n",
    "import pickle\n",
    "\n",
    "import numpy as np\n",
    "import torch\n",
    "import matplotlib.pyplot as plt\n",
    "import torch.nn as nn\n",
    "from sklearn import model_selection\n",
    "from tqdm import tqdm\n",
    "import torch_optimizer\n",
    "from torch.utils.data import Dataset\n",
    "import pandas as pd\n",
    "import random\n",
    "\n",
    "import torch_burn as tb\n",
    "import utils"
   ]
  },
  {
   "cell_type": "code",
   "execution_count": 2,
   "metadata": {},
   "outputs": [],
   "source": [
    "EXPERIMENT_NAME = '1122-Scene3-LSTM-win48-3'\n",
    "CHECKPOINT_DIR = Path('checkpoint', EXPERIMENT_NAME)\n",
    "CHECKPOINT_DIR.mkdir(parents=True, exist_ok=True)\n",
    "\n",
    "DATA_DIR = Path('data/1116')\n",
    "TRAIN_FILES = sorted(list(DATA_DIR.glob('*scene3_0.csv')))\n",
    "TEST_FILES = sorted(list(DATA_DIR.glob('*scene3_1.csv')))"
   ]
  },
  {
   "cell_type": "markdown",
   "metadata": {},
   "source": [
    "# 데이터셋 생성\n",
    "\n",
    "scene1에 대해서 모든 user의 데이터를 하나로 합친다."
   ]
  },
  {
   "cell_type": "code",
   "execution_count": 3,
   "metadata": {},
   "outputs": [],
   "source": [
    "WINDOW_SIZE = 48"
   ]
  },
  {
   "cell_type": "code",
   "execution_count": 4,
   "metadata": {},
   "outputs": [],
   "source": [
    "class CSVSequentialDataset(Dataset):\n",
    "    def __init__(self, csvfile,\n",
    "                 window_size=300, randomized_window_size=False,\n",
    "                 stride=30, randomized_stride=False):\n",
    "        super(CSVSequentialDataset, self).__init__()\n",
    "\n",
    "        self.xcols = ['input_orientation_yaw', 'input_orientation_pitch', 'input_orientation_roll',\n",
    "                      'acceleration_x', 'acceleration_y', 'acceleration_z']\n",
    "        self.ycols = ['input_orientation_yaw', 'input_orientation_pitch', 'input_orientation_roll']\n",
    "\n",
    "        self.csv = pd.read_csv(csvfile)\n",
    "        self.window_size = window_size\n",
    "\n",
    "        self.indexes = []\n",
    "        i = 0\n",
    "        while i <= len(self.csv) - window_size * 2:\n",
    "            if randomized_window_size:\n",
    "                self.indexes.append((i, i + random.randint(window_size // 2, window_size)))\n",
    "            else:\n",
    "                self.indexes.append((i, i + window_size))\n",
    "\n",
    "            if randomized_stride:\n",
    "                i += random.randint(1, stride)\n",
    "            else:\n",
    "                i += stride\n",
    "\n",
    "    def __len__(self):\n",
    "        return len(self.indexes)\n",
    "\n",
    "    def __getitem__(self, idx):\n",
    "        s, t = self.indexes[idx]\n",
    "        x = self.csv.iloc[s:t][self.xcols].to_numpy()\n",
    "        y = self.csv.iloc[t + 18][self.ycols].to_numpy()\n",
    "\n",
    "        x = torch.tensor(x, dtype=torch.float32) # 300, 6\n",
    "        y = torch.tensor(y, dtype=torch.float32) # 3\n",
    "        \n",
    "        #x[:, :3] *= pi / 180\n",
    "        x[:, 3:] /= 10\n",
    "\n",
    "        return x, y"
   ]
  },
  {
   "cell_type": "code",
   "execution_count": 5,
   "metadata": {},
   "outputs": [],
   "source": [
    "ds_train = [CSVSequentialDataset(f,  \n",
    "                                 window_size=WINDOW_SIZE, randomized_window_size=False,\n",
    "                                 stride=5, randomized_stride=False) for f in TRAIN_FILES]\n",
    "ds_train = tb.data.ChainDataset(*ds_train)\n",
    "ds_test = [CSVSequentialDataset(f,  \n",
    "                                window_size=WINDOW_SIZE, randomized_window_size=False,\n",
    "                                stride=5, randomized_stride=False) for f in TEST_FILES]\n",
    "ds_test = tb.data.ChainDataset(*ds_test)"
   ]
  },
  {
   "cell_type": "code",
   "execution_count": 6,
   "metadata": {},
   "outputs": [
    {
     "data": {
      "text/plain": [
       "(11267, 10867)"
      ]
     },
     "execution_count": 6,
     "metadata": {},
     "output_type": "execute_result"
    }
   ],
   "source": [
    "len(ds_train), len(ds_test)"
   ]
  },
  {
   "cell_type": "code",
   "execution_count": 7,
   "metadata": {},
   "outputs": [
    {
     "data": {
      "text/plain": [
       "(torch.Size([48, 6]), torch.Size([3]))"
      ]
     },
     "execution_count": 7,
     "metadata": {},
     "output_type": "execute_result"
    }
   ],
   "source": [
    "ds_train[0][0].shape, ds_train[0][1].shape"
   ]
  },
  {
   "cell_type": "code",
   "execution_count": 8,
   "metadata": {},
   "outputs": [],
   "source": [
    "x, y = ds_train[0]"
   ]
  },
  {
   "cell_type": "code",
   "execution_count": 9,
   "metadata": {},
   "outputs": [
    {
     "data": {
      "text/plain": [
       "torch.Size([48, 6])"
      ]
     },
     "execution_count": 9,
     "metadata": {},
     "output_type": "execute_result"
    }
   ],
   "source": [
    "x.shape"
   ]
  },
  {
   "cell_type": "code",
   "execution_count": 10,
   "metadata": {},
   "outputs": [
    {
     "data": {
      "text/plain": [
       "[<matplotlib.lines.Line2D at 0x7f86579caf50>]"
      ]
     },
     "execution_count": 10,
     "metadata": {},
     "output_type": "execute_result"
    },
    {
     "data": {
      "image/png": "[encoded data removed]",
      "text/plain": [
       "<Figure size 432x288 with 1 Axes>"
      ]
     },
     "metadata": {
      "needs_background": "light"
     },
     "output_type": "display_data"
    }
   ],
   "source": [
    "plt.plot(x[:, 2])"
   ]
  },
  {
   "cell_type": "markdown",
   "metadata": {},
   "source": [
    "# 모델 생성\n",
    "\n",
    "StackedLSTM Bidirectional"
   ]
  },
  {
   "cell_type": "code",
   "execution_count": 11,
   "metadata": {},
   "outputs": [],
   "source": [
    "model = utils.BaselineLSTM(input_size=6,\n",
    "                           hidden_size=64,\n",
    "                           num_layers=8,\n",
    "                           dropout=0.2,\n",
    "                           bidirectional=True).cuda()"
   ]
  },
  {
   "cell_type": "code",
   "execution_count": 12,
   "metadata": {},
   "outputs": [],
   "source": [
    "criterion = nn.MSELoss().cuda()\n",
    "optimizer = torch_optimizer.RAdam(model.parameters())"
   ]
  },
  {
   "cell_type": "code",
   "execution_count": 13,
   "metadata": {},
   "outputs": [],
   "source": [
    "metrics = [tb.metrics.ModuleMetric(criterion, 'loss'),\n",
    "           utils.HPMetric('hp_metric'),\n",
    "           utils.HPSignalHistory(CHECKPOINT_DIR / 'sample' / '{epoch:04d}.npy', 'hp_signal', verbose=False)]"
   ]
  },
  {
   "cell_type": "code",
   "execution_count": 14,
   "metadata": {},
   "outputs": [],
   "source": [
    "callbacks = [tb.callbacks.EarlyStopping(metrics[0]),\n",
    "             tb.callbacks.LRDecaying(optimizer, metrics[0], patience=3)]"
   ]
  },
  {
   "cell_type": "code",
   "execution_count": 15,
   "metadata": {},
   "outputs": [],
   "source": [
    "trainer = tb.Trainer(model, optimizer, metrics, callbacks, ncols=100)"
   ]
  },
  {
   "cell_type": "code",
   "execution_count": 16,
   "metadata": {},
   "outputs": [
    {
     "name": "stderr",
     "output_type": "stream",
     "text": [
      "[0001/0200] Train: 100%|█████████████████████████████| 45/45 [00:05<00:00,  8.45it/s, loss 288.2484]\n",
      "[0001/0200] Validation: 100%|████████████████████| 43/43 [00:02<00:00, 21.37it/s, val_loss 237.7347]\n",
      "[0002/0200] Train:   0%|                                                     | 0/45 [00:00<?, ?it/s]"
     ]
    },
    {
     "name": "stdout",
     "output_type": "stream",
     "text": [
      "                  validation\n",
      " - Yaw          :  19.636883\n",
      " - Pitch        :  10.728506\n",
      " - Roll         :   2.600816\n",
      " - RMS          :  13.006053\n",
      " - 99% Tile     :  44.508461\n"
     ]
    },
    {
     "name": "stderr",
     "output_type": "stream",
     "text": [
      "[0002/0200] Train: 100%|█████████████████████████████| 45/45 [00:05<00:00,  7.78it/s, loss 277.5603]\n",
      "[0002/0200] Validation: 100%|████████████████████| 43/43 [00:02<00:00, 19.57it/s, val_loss 209.6683]\n",
      "[0003/0200] Train:   0%|                                                     | 0/45 [00:00<?, ?it/s]"
     ]
    },
    {
     "name": "stdout",
     "output_type": "stream",
     "text": [
      "                  validation\n",
      " - Yaw          :  18.302908\n",
      " - Pitch        :   9.677201\n",
      " - Roll         :   2.583030\n",
      " - RMS          :  12.045978\n",
      " - 99% Tile     :  42.844845\n"
     ]
    },
    {
     "name": "stderr",
     "output_type": "stream",
     "text": [
      "[0003/0200] Train: 100%|█████████████████████████████| 45/45 [00:05<00:00,  8.18it/s, loss 234.3380]\n",
      "[0003/0200] Validation: 100%|████████████████████| 43/43 [00:02<00:00, 16.61it/s, val_loss 174.7184]\n",
      "[0004/0200] Train:   0%|                                                     | 0/45 [00:00<?, ?it/s]"
     ]
    },
    {
     "name": "stdout",
     "output_type": "stream",
     "text": [
      "                  validation\n",
      " - Yaw          :  16.467577\n",
      " - Pitch        :   8.531532\n",
      " - Roll         :   2.573488\n",
      " - RMS          :  10.810349\n",
      " - 99% Tile     :  40.443699\n"
     ]
    },
    {
     "name": "stderr",
     "output_type": "stream",
     "text": [
      "[0004/0200] Train: 100%|█████████████████████████████| 45/45 [00:04<00:00,  9.65it/s, loss 198.9072]\n",
      "[0004/0200] Validation: 100%|████████████████████| 43/43 [00:03<00:00, 12.75it/s, val_loss 142.5818]\n",
      "[0005/0200] Train:   0%|                                                     | 0/45 [00:00<?, ?it/s]"
     ]
    },
    {
     "name": "stdout",
     "output_type": "stream",
     "text": [
      "                  validation\n",
      " - Yaw          :  14.069521\n",
      " - Pitch        :   8.369147\n",
      " - Roll         :   2.353390\n",
      " - RMS          :   9.548691\n",
      " - 99% Tile     :  36.724403\n"
     ]
    },
    {
     "name": "stderr",
     "output_type": "stream",
     "text": [
      "[0005/0200] Train: 100%|█████████████████████████████| 45/45 [00:05<00:00,  8.74it/s, loss 170.7418]\n",
      "[0005/0200] Validation: 100%|████████████████████| 43/43 [00:02<00:00, 20.64it/s, val_loss 120.3102]\n",
      "[0006/0200] Train:   0%|                                                     | 0/45 [00:00<?, ?it/s]"
     ]
    },
    {
     "name": "stdout",
     "output_type": "stream",
     "text": [
      "                  validation\n",
      " - Yaw          :  12.576613\n",
      " - Pitch        :   7.894083\n",
      " - Roll         :   2.373358\n",
      " - RMS          :   8.681793\n",
      " - 99% Tile     :  34.194382\n"
     ]
    },
    {
     "name": "stderr",
     "output_type": "stream",
     "text": [
      "[0006/0200] Train: 100%|█████████████████████████████| 45/45 [00:05<00:00,  8.80it/s, loss 143.3031]\n",
      "[0006/0200] Validation: 100%|████████████████████| 43/43 [00:03<00:00, 12.12it/s, val_loss 104.9748]\n",
      "[0007/0200] Train:   0%|                                                     | 0/45 [00:00<?, ?it/s]"
     ]
    },
    {
     "name": "stdout",
     "output_type": "stream",
     "text": [
      "                  validation\n",
      " - Yaw          :  11.572266\n",
      " - Pitch        :   7.590539\n",
      " - Roll         :   2.412791\n",
      " - RMS          :   8.110799\n",
      " - 99% Tile     :  32.156174\n"
     ]
    },
    {
     "name": "stderr",
     "output_type": "stream",
     "text": [
      "[0007/0200] Train: 100%|█████████████████████████████| 45/45 [00:05<00:00,  7.75it/s, loss 125.6689]\n",
      "[0007/0200] Validation: 100%|█████████████████████| 43/43 [00:02<00:00, 14.83it/s, val_loss 93.5099]\n",
      "[0008/0200] Train:   0%|                                                     | 0/45 [00:00<?, ?it/s]"
     ]
    },
    {
     "name": "stdout",
     "output_type": "stream",
     "text": [
      "                  validation\n",
      " - Yaw          :  10.362119\n",
      " - Pitch        :   7.664994\n",
      " - Roll         :   2.377616\n",
      " - RMS          :   7.567005\n",
      " - 99% Tile     :  30.207647\n"
     ]
    },
    {
     "name": "stderr",
     "output_type": "stream",
     "text": [
      "[0008/0200] Train: 100%|█████████████████████████████| 45/45 [00:06<00:00,  6.48it/s, loss 112.9917]\n",
      "[0008/0200] Validation: 100%|█████████████████████| 43/43 [00:01<00:00, 21.85it/s, val_loss 80.3093]\n",
      "[0009/0200] Train:   0%|                                                     | 0/45 [00:00<?, ?it/s]"
     ]
    },
    {
     "name": "stdout",
     "output_type": "stream",
     "text": [
      "                  validation\n",
      " - Yaw          :   9.205699\n",
      " - Pitch        :   7.140903\n",
      " - Roll         :   2.363653\n",
      " - RMS          :   6.863533\n",
      " - 99% Tile     :  28.297661\n"
     ]
    },
    {
     "name": "stderr",
     "output_type": "stream",
     "text": [
      "[0009/0200] Train: 100%|██████████████████████████████| 45/45 [00:05<00:00,  8.08it/s, loss 99.9687]\n",
      "[0009/0200] Validation: 100%|█████████████████████| 43/43 [00:02<00:00, 18.82it/s, val_loss 73.6577]\n",
      "[0010/0200] Train:   0%|                                                     | 0/45 [00:00<?, ?it/s]"
     ]
    },
    {
     "name": "stdout",
     "output_type": "stream",
     "text": [
      "                  validation\n",
      " - Yaw          :   8.646298\n",
      " - Pitch        :   7.207325\n",
      " - Roll         :   2.390430\n",
      " - RMS          :   6.643748\n",
      " - 99% Tile     :  26.587543\n"
     ]
    },
    {
     "name": "stderr",
     "output_type": "stream",
     "text": [
      "[0010/0200] Train: 100%|██████████████████████████████| 45/45 [00:04<00:00,  9.11it/s, loss 90.9295]\n",
      "[0010/0200] Validation: 100%|█████████████████████| 43/43 [00:02<00:00, 17.11it/s, val_loss 64.6855]\n",
      "[0011/0200] Train:   0%|                                                     | 0/45 [00:00<?, ?it/s]"
     ]
    },
    {
     "name": "stdout",
     "output_type": "stream",
     "text": [
      "                  validation\n",
      " - Yaw          :   8.272481\n",
      " - Pitch        :   6.248169\n",
      " - Roll         :   2.359031\n",
      " - RMS          :   6.138365\n",
      " - 99% Tile     :  25.113562\n"
     ]
    },
    {
     "name": "stderr",
     "output_type": "stream",
     "text": [
      "[0011/0200] Train: 100%|██████████████████████████████| 45/45 [00:05<00:00,  7.92it/s, loss 90.3199]\n",
      "[0011/0200] Validation: 100%|█████████████████████| 43/43 [00:03<00:00, 14.14it/s, val_loss 57.9033]\n",
      "[0012/0200] Train:   0%|                                                     | 0/45 [00:00<?, ?it/s]"
     ]
    },
    {
     "name": "stdout",
     "output_type": "stream",
     "text": [
      "                  validation\n",
      " - Yaw          :   7.309726\n",
      " - Pitch        :   6.354276\n",
      " - Roll         :   2.397796\n",
      " - RMS          :   5.760739\n",
      " - 99% Tile     :  23.896559\n"
     ]
    },
    {
     "name": "stderr",
     "output_type": "stream",
     "text": [
      "[0012/0200] Train: 100%|██████████████████████████████| 45/45 [00:06<00:00,  7.17it/s, loss 73.1805]\n",
      "[0012/0200] Validation: 100%|█████████████████████| 43/43 [00:01<00:00, 21.97it/s, val_loss 53.0816]\n",
      "[0013/0200] Train:   0%|                                                     | 0/45 [00:00<?, ?it/s]"
     ]
    },
    {
     "name": "stdout",
     "output_type": "stream",
     "text": [
      "                  validation\n",
      " - Yaw          :   7.087544\n",
      " - Pitch        :   6.085495\n",
      " - Roll         :   2.398541\n",
      " - RMS          :   5.568349\n",
      " - 99% Tile     :  22.908628\n"
     ]
    },
    {
     "name": "stderr",
     "output_type": "stream",
     "text": [
      "[0013/0200] Train: 100%|██████████████████████████████| 45/45 [00:05<00:00,  7.54it/s, loss 66.4833]\n",
      "[0013/0200] Validation: 100%|█████████████████████| 43/43 [00:02<00:00, 18.19it/s, val_loss 47.5255]\n",
      "[0014/0200] Train:   0%|                                                     | 0/45 [00:00<?, ?it/s]"
     ]
    },
    {
     "name": "stdout",
     "output_type": "stream",
     "text": [
      "                  validation\n",
      " - Yaw          :   6.725809\n",
      " - Pitch        :   5.526677\n",
      " - Roll         :   2.394039\n",
      " - RMS          :   5.212552\n",
      " - 99% Tile     :  22.262535\n"
     ]
    },
    {
     "name": "stderr",
     "output_type": "stream",
     "text": [
      "[0014/0200] Train: 100%|██████████████████████████████| 45/45 [00:05<00:00,  8.05it/s, loss 61.7083]\n",
      "[0014/0200] Validation: 100%|█████████████████████| 43/43 [00:03<00:00, 12.14it/s, val_loss 43.0468]\n",
      "[0015/0200] Train:   0%|                                                     | 0/45 [00:00<?, ?it/s]"
     ]
    },
    {
     "name": "stdout",
     "output_type": "stream",
     "text": [
      "                  validation\n",
      " - Yaw          :   6.401011\n",
      " - Pitch        :   5.246732\n",
      " - Roll         :   2.354162\n",
      " - RMS          :   4.968005\n",
      " - 99% Tile     :  20.884417\n"
     ]
    },
    {
     "name": "stderr",
     "output_type": "stream",
     "text": [
      "[0015/0200] Train: 100%|██████████████████████████████| 45/45 [00:05<00:00,  8.23it/s, loss 55.1746]\n",
      "[0015/0200] Validation: 100%|█████████████████████| 43/43 [00:02<00:00, 16.66it/s, val_loss 39.9020]\n",
      "[0016/0200] Train:   0%|                                                     | 0/45 [00:00<?, ?it/s]"
     ]
    },
    {
     "name": "stdout",
     "output_type": "stream",
     "text": [
      "                  validation\n",
      " - Yaw          :   6.275672\n",
      " - Pitch        :   4.801211\n",
      " - Roll         :   2.367231\n",
      " - RMS          :   4.762334\n",
      " - 99% Tile     :  20.229744\n"
     ]
    },
    {
     "name": "stderr",
     "output_type": "stream",
     "text": [
      "[0016/0200] Train: 100%|██████████████████████████████| 45/45 [00:05<00:00,  7.78it/s, loss 51.8897]\n",
      "[0016/0200] Validation: 100%|█████████████████████| 43/43 [00:02<00:00, 19.75it/s, val_loss 41.2351]\n",
      "[0017/0200] Train:   0%|                                                     | 0/45 [00:00<?, ?it/s]"
     ]
    },
    {
     "name": "stdout",
     "output_type": "stream",
     "text": [
      "val_loss is not improved for 1 epochs\n",
      "                  validation\n",
      " - Yaw          :   6.869226\n",
      " - Pitch        :   4.427273\n",
      " - Roll         :   2.366493\n",
      " - RMS          :   4.912138\n",
      " - 99% Tile     :  19.869490\n"
     ]
    },
    {
     "name": "stderr",
     "output_type": "stream",
     "text": [
      "[0017/0200] Train: 100%|██████████████████████████████| 45/45 [00:05<00:00,  7.67it/s, loss 49.2545]\n",
      "[0017/0200] Validation: 100%|█████████████████████| 43/43 [00:02<00:00, 17.60it/s, val_loss 33.2954]\n",
      "[0018/0200] Train:   0%|                                                     | 0/45 [00:00<?, ?it/s]"
     ]
    },
    {
     "name": "stdout",
     "output_type": "stream",
     "text": [
      "                  validation\n",
      " - Yaw          :   5.299812\n",
      " - Pitch        :   4.326877\n",
      " - Roll         :   2.382018\n",
      " - RMS          :   4.182658\n",
      " - 99% Tile     :  19.777630\n"
     ]
    },
    {
     "name": "stderr",
     "output_type": "stream",
     "text": [
      "[0018/0200] Train: 100%|██████████████████████████████| 45/45 [00:04<00:00,  9.43it/s, loss 42.5032]\n",
      "[0018/0200] Validation: 100%|█████████████████████| 43/43 [00:02<00:00, 15.46it/s, val_loss 32.1738]\n",
      "[0019/0200] Train:   0%|                                                     | 0/45 [00:00<?, ?it/s]"
     ]
    },
    {
     "name": "stdout",
     "output_type": "stream",
     "text": [
      "                  validation\n",
      " - Yaw          :   5.647235\n",
      " - Pitch        :   3.939871\n",
      " - Roll         :   2.317126\n",
      " - RMS          :   4.194557\n",
      " - 99% Tile     :  18.814804\n"
     ]
    },
    {
     "name": "stderr",
     "output_type": "stream",
     "text": [
      "[0019/0200] Train: 100%|██████████████████████████████| 45/45 [00:05<00:00,  7.93it/s, loss 39.7392]\n",
      "[0019/0200] Validation: 100%|█████████████████████| 43/43 [00:03<00:00, 13.38it/s, val_loss 29.8016]\n",
      "[0020/0200] Train:   0%|                                                     | 0/45 [00:00<?, ?it/s]"
     ]
    },
    {
     "name": "stdout",
     "output_type": "stream",
     "text": [
      "                  validation\n",
      " - Yaw          :   5.507206\n",
      " - Pitch        :   3.717297\n",
      " - Roll         :   2.407390\n",
      " - RMS          :   4.080161\n",
      " - 99% Tile     :  18.526371\n"
     ]
    },
    {
     "name": "stderr",
     "output_type": "stream",
     "text": [
      "[0020/0200] Train: 100%|██████████████████████████████| 45/45 [00:04<00:00,  9.34it/s, loss 36.5791]\n",
      "[0020/0200] Validation: 100%|█████████████████████| 43/43 [00:02<00:00, 20.60it/s, val_loss 27.7638]\n",
      "[0021/0200] Train:   0%|                                                     | 0/45 [00:00<?, ?it/s]"
     ]
    },
    {
     "name": "stdout",
     "output_type": "stream",
     "text": [
      "                  validation\n",
      " - Yaw          :   5.267238\n",
      " - Pitch        :   3.341188\n",
      " - Roll         :   2.385890\n",
      " - RMS          :   3.855723\n",
      " - 99% Tile     :  18.253391\n"
     ]
    },
    {
     "name": "stderr",
     "output_type": "stream",
     "text": [
      "[0021/0200] Train: 100%|██████████████████████████████| 45/45 [00:05<00:00,  8.52it/s, loss 33.9731]\n",
      "[0021/0200] Validation: 100%|█████████████████████| 43/43 [00:03<00:00, 12.16it/s, val_loss 25.8991]\n",
      "[0022/0200] Train:   0%|                                                     | 0/45 [00:00<?, ?it/s]"
     ]
    },
    {
     "name": "stdout",
     "output_type": "stream",
     "text": [
      "                  validation\n",
      " - Yaw          :   4.884354\n",
      " - Pitch        :   3.262980\n",
      " - Roll         :   2.401064\n",
      " - RMS          :   3.663744\n",
      " - 99% Tile     :  18.384415\n"
     ]
    },
    {
     "name": "stderr",
     "output_type": "stream",
     "text": [
      "[0022/0200] Train: 100%|██████████████████████████████| 45/45 [00:05<00:00,  7.67it/s, loss 31.6448]\n",
      "[0022/0200] Validation: 100%|█████████████████████| 43/43 [00:02<00:00, 15.52it/s, val_loss 26.6567]\n",
      "[0023/0200] Train:   0%|                                                     | 0/45 [00:00<?, ?it/s]"
     ]
    },
    {
     "name": "stdout",
     "output_type": "stream",
     "text": [
      "val_loss is not improved for 1 epochs\n",
      "                  validation\n",
      " - Yaw          :   5.530828\n",
      " - Pitch        :   2.673455\n",
      " - Roll         :   2.332828\n",
      " - RMS          :   3.793833\n",
      " - 99% Tile     :  17.558332\n"
     ]
    },
    {
     "name": "stderr",
     "output_type": "stream",
     "text": [
      "[0023/0200] Train: 100%|██████████████████████████████| 45/45 [00:06<00:00,  7.32it/s, loss 31.1047]\n",
      "[0023/0200] Validation: 100%|█████████████████████| 43/43 [00:02<00:00, 19.16it/s, val_loss 22.8876]\n",
      "[0024/0200] Train:   0%|                                                     | 0/45 [00:00<?, ?it/s]"
     ]
    },
    {
     "name": "stdout",
     "output_type": "stream",
     "text": [
      "                  validation\n",
      " - Yaw          :   4.351420\n",
      " - Pitch        :   2.807813\n",
      " - Roll         :   2.331779\n",
      " - RMS          :   3.279017\n",
      " - 99% Tile     :  18.586887\n"
     ]
    },
    {
     "name": "stderr",
     "output_type": "stream",
     "text": [
      "[0024/0200] Train: 100%|██████████████████████████████| 45/45 [00:05<00:00,  7.97it/s, loss 28.4001]\n",
      "[0024/0200] Validation: 100%|█████████████████████| 43/43 [00:02<00:00, 19.49it/s, val_loss 24.0185]\n",
      "[0025/0200] Train:   0%|                                                     | 0/45 [00:00<?, ?it/s]"
     ]
    },
    {
     "name": "stdout",
     "output_type": "stream",
     "text": [
      "val_loss is not improved for 1 epochs\n",
      "                  validation\n",
      " - Yaw          :   4.377700\n",
      " - Pitch        :   3.749178\n",
      " - Roll         :   2.285997\n",
      " - RMS          :   3.579869\n",
      " - 99% Tile     :  17.540461\n"
     ]
    },
    {
     "name": "stderr",
     "output_type": "stream",
     "text": [
      "[0025/0200] Train: 100%|██████████████████████████████| 45/45 [00:05<00:00,  8.47it/s, loss 28.7730]\n",
      "[0025/0200] Validation: 100%|█████████████████████| 43/43 [00:02<00:00, 17.23it/s, val_loss 20.7073]\n",
      "[0026/0200] Train:   0%|                                                     | 0/45 [00:00<?, ?it/s]"
     ]
    },
    {
     "name": "stdout",
     "output_type": "stream",
     "text": [
      "                  validation\n",
      " - Yaw          :   3.977942\n",
      " - Pitch        :   2.675420\n",
      " - Roll         :   2.355563\n",
      " - RMS          :   3.083860\n",
      " - 99% Tile     :  17.341091\n"
     ]
    },
    {
     "name": "stderr",
     "output_type": "stream",
     "text": [
      "[0026/0200] Train: 100%|██████████████████████████████| 45/45 [00:04<00:00,  9.38it/s, loss 26.3664]\n",
      "[0026/0200] Validation: 100%|█████████████████████| 43/43 [00:03<00:00, 13.75it/s, val_loss 21.8573]\n",
      "[0027/0200] Train:   0%|                                                     | 0/45 [00:00<?, ?it/s]"
     ]
    },
    {
     "name": "stdout",
     "output_type": "stream",
     "text": [
      "val_loss is not improved for 1 epochs\n",
      "                  validation\n",
      " - Yaw          :   4.416921\n",
      " - Pitch        :   2.439215\n",
      " - Roll         :   2.295249\n",
      " - RMS          :   3.200371\n",
      " - 99% Tile     :  18.543180\n"
     ]
    },
    {
     "name": "stderr",
     "output_type": "stream",
     "text": [
      "[0027/0200] Train: 100%|██████████████████████████████| 45/45 [00:04<00:00,  9.84it/s, loss 24.9794]\n",
      "[0027/0200] Validation: 100%|█████████████████████| 43/43 [00:02<00:00, 20.24it/s, val_loss 21.1202]\n",
      "[0028/0200] Train:   0%|                                                     | 0/45 [00:00<?, ?it/s]"
     ]
    },
    {
     "name": "stdout",
     "output_type": "stream",
     "text": [
      "val_loss is not improved for 2 epochs\n",
      "                  validation\n",
      " - Yaw          :   4.221935\n",
      " - Pitch        :   2.416021\n",
      " - Roll         :   2.333296\n",
      " - RMS          :   3.114812\n",
      " - 99% Tile     :  18.084427\n"
     ]
    },
    {
     "name": "stderr",
     "output_type": "stream",
     "text": [
      "[0028/0200] Train: 100%|██████████████████████████████| 45/45 [00:04<00:00,  9.13it/s, loss 24.0679]\n",
      "[0028/0200] Validation: 100%|█████████████████████| 43/43 [00:02<00:00, 14.79it/s, val_loss 19.3129]\n",
      "[0029/0200] Train:   0%|                                                     | 0/45 [00:00<?, ?it/s]"
     ]
    },
    {
     "name": "stdout",
     "output_type": "stream",
     "text": [
      "                  validation\n",
      " - Yaw          :   3.795671\n",
      " - Pitch        :   2.326135\n",
      " - Roll         :   2.338278\n",
      " - RMS          :   2.903192\n",
      " - 99% Tile     :  17.414272\n"
     ]
    },
    {
     "name": "stderr",
     "output_type": "stream",
     "text": [
      "[0029/0200] Train: 100%|██████████████████████████████| 45/45 [00:05<00:00,  7.96it/s, loss 22.6356]\n",
      "[0029/0200] Validation: 100%|█████████████████████| 43/43 [00:03<00:00, 13.33it/s, val_loss 20.5824]\n",
      "[0030/0200] Train:   0%|                                                     | 0/45 [00:00<?, ?it/s]"
     ]
    },
    {
     "name": "stdout",
     "output_type": "stream",
     "text": [
      "val_loss is not improved for 1 epochs\n",
      "                  validation\n",
      " - Yaw          :   4.380193\n",
      " - Pitch        :   2.475153\n",
      " - Roll         :   2.326494\n",
      " - RMS          :   3.200263\n",
      " - 99% Tile     :  17.237946\n"
     ]
    },
    {
     "name": "stderr",
     "output_type": "stream",
     "text": [
      "[0030/0200] Train: 100%|██████████████████████████████| 45/45 [00:06<00:00,  6.71it/s, loss 22.5101]\n",
      "[0030/0200] Validation: 100%|█████████████████████| 43/43 [00:02<00:00, 17.44it/s, val_loss 19.2588]\n",
      "[0031/0200] Train:   0%|                                                     | 0/45 [00:00<?, ?it/s]"
     ]
    },
    {
     "name": "stdout",
     "output_type": "stream",
     "text": [
      "                  validation\n",
      " - Yaw          :   4.146085\n",
      " - Pitch        :   2.162844\n",
      " - Roll         :   2.294706\n",
      " - RMS          :   3.007412\n",
      " - 99% Tile     :  17.161562\n"
     ]
    },
    {
     "name": "stderr",
     "output_type": "stream",
     "text": [
      "[0031/0200] Train: 100%|██████████████████████████████| 45/45 [00:05<00:00,  8.40it/s, loss 21.0346]\n",
      "[0031/0200] Validation: 100%|█████████████████████| 43/43 [00:02<00:00, 21.19it/s, val_loss 18.6650]\n",
      "[0032/0200] Train:   0%|                                                     | 0/45 [00:00<?, ?it/s]"
     ]
    },
    {
     "name": "stdout",
     "output_type": "stream",
     "text": [
      "                  validation\n",
      " - Yaw          :   3.827628\n",
      " - Pitch        :   2.173058\n",
      " - Roll         :   2.284226\n",
      " - RMS          :   2.863017\n",
      " - 99% Tile     :  17.328480\n"
     ]
    },
    {
     "name": "stderr",
     "output_type": "stream",
     "text": [
      "[0032/0200] Train: 100%|██████████████████████████████| 45/45 [00:04<00:00,  9.04it/s, loss 20.5545]\n",
      "[0032/0200] Validation: 100%|█████████████████████| 43/43 [00:01<00:00, 21.52it/s, val_loss 22.7170]\n",
      "[0033/0200] Train:   0%|                                                     | 0/45 [00:00<?, ?it/s]"
     ]
    },
    {
     "name": "stdout",
     "output_type": "stream",
     "text": [
      "val_loss is not improved for 1 epochs\n",
      "                  validation\n",
      " - Yaw          :   5.038472\n",
      " - Pitch        :   2.622568\n",
      " - Roll         :   2.210319\n",
      " - RMS          :   3.518976\n",
      " - 99% Tile     :  18.026030\n"
     ]
    },
    {
     "name": "stderr",
     "output_type": "stream",
     "text": [
      "[0033/0200] Train: 100%|██████████████████████████████| 45/45 [00:05<00:00,  8.63it/s, loss 21.0575]\n",
      "[0033/0200] Validation: 100%|█████████████████████| 43/43 [00:03<00:00, 13.81it/s, val_loss 22.5958]\n",
      "[0034/0200] Train:   0%|                                                     | 0/45 [00:00<?, ?it/s]"
     ]
    },
    {
     "name": "stdout",
     "output_type": "stream",
     "text": [
      "val_loss is not improved for 2 epochs\n",
      "                  validation\n",
      " - Yaw          :   5.096361\n",
      " - Pitch        :   2.291516\n",
      " - Roll         :   2.289974\n",
      " - RMS          :   3.486542\n",
      " - 99% Tile     :  17.865046\n"
     ]
    },
    {
     "name": "stderr",
     "output_type": "stream",
     "text": [
      "[0034/0200] Train: 100%|██████████████████████████████| 45/45 [00:04<00:00,  9.62it/s, loss 20.6048]\n",
      "[0034/0200] Validation: 100%|█████████████████████| 43/43 [00:02<00:00, 20.41it/s, val_loss 19.1515]\n",
      "[0035/0200] Train:   0%|                                                     | 0/45 [00:00<?, ?it/s]"
     ]
    },
    {
     "name": "stdout",
     "output_type": "stream",
     "text": [
      "Decaying lr from 0.001 to 0.0005 because val_loss did not improved for 3 epochs\n",
      "val_loss is not improved for 3 epochs\n",
      "                  validation\n",
      " - Yaw          :   3.794921\n",
      " - Pitch        :   2.177447\n",
      " - Roll         :   2.254253\n",
      " - RMS          :   2.841617\n",
      " - 99% Tile     :  18.471207\n"
     ]
    },
    {
     "name": "stderr",
     "output_type": "stream",
     "text": [
      "[0035/0200] Train: 100%|██████████████████████████████| 45/45 [00:05<00:00,  8.70it/s, loss 19.5046]\n",
      "[0035/0200] Validation: 100%|█████████████████████| 43/43 [00:03<00:00, 12.40it/s, val_loss 17.4156]\n",
      "[0036/0200] Train:   0%|                                                     | 0/45 [00:00<?, ?it/s]"
     ]
    },
    {
     "name": "stdout",
     "output_type": "stream",
     "text": [
      "                  validation\n",
      " - Yaw          :   3.442836\n",
      " - Pitch        :   2.093474\n",
      " - Roll         :   2.282609\n",
      " - RMS          :   2.673702\n",
      " - 99% Tile     :  16.800444\n"
     ]
    },
    {
     "name": "stderr",
     "output_type": "stream",
     "text": [
      "[0036/0200] Train: 100%|██████████████████████████████| 45/45 [00:05<00:00,  8.38it/s, loss 18.4481]\n",
      "[0036/0200] Validation: 100%|█████████████████████| 43/43 [00:02<00:00, 18.12it/s, val_loss 18.3489]\n",
      "[0037/0200] Train:   0%|                                                     | 0/45 [00:00<?, ?it/s]"
     ]
    },
    {
     "name": "stdout",
     "output_type": "stream",
     "text": [
      "val_loss is not improved for 1 epochs\n",
      "                  validation\n",
      " - Yaw          :   3.992276\n",
      " - Pitch        :   2.001644\n",
      " - Roll         :   2.216153\n",
      " - RMS          :   2.878436\n",
      " - 99% Tile     :  17.063169\n"
     ]
    },
    {
     "name": "stderr",
     "output_type": "stream",
     "text": [
      "[0037/0200] Train: 100%|██████████████████████████████| 45/45 [00:05<00:00,  8.41it/s, loss 18.3906]\n",
      "[0037/0200] Validation: 100%|█████████████████████| 43/43 [00:02<00:00, 18.93it/s, val_loss 17.4460]\n",
      "[0038/0200] Train:   0%|                                                     | 0/45 [00:00<?, ?it/s]"
     ]
    },
    {
     "name": "stdout",
     "output_type": "stream",
     "text": [
      "val_loss is not improved for 2 epochs\n",
      "                  validation\n",
      " - Yaw          :   3.622319\n",
      " - Pitch        :   2.153761\n",
      " - Roll         :   2.171558\n",
      " - RMS          :   2.737124\n",
      " - 99% Tile     :  16.960114\n"
     ]
    },
    {
     "name": "stderr",
     "output_type": "stream",
     "text": [
      "[0038/0200] Train: 100%|██████████████████████████████| 45/45 [00:05<00:00,  7.70it/s, loss 18.7370]\n",
      "[0038/0200] Validation: 100%|█████████████████████| 43/43 [00:02<00:00, 15.93it/s, val_loss 18.1757]\n",
      "[0039/0200] Train:   0%|                                                     | 0/45 [00:00<?, ?it/s]"
     ]
    },
    {
     "name": "stdout",
     "output_type": "stream",
     "text": [
      "Decaying lr from 0.0005 to 0.00025 because val_loss did not improved for 3 epochs\n",
      "val_loss is not improved for 3 epochs\n",
      "                  validation\n",
      " - Yaw          :   3.621902\n",
      " - Pitch        :   1.978917\n",
      " - Roll         :   2.237106\n",
      " - RMS          :   2.710408\n",
      " - 99% Tile     :  18.144899\n"
     ]
    },
    {
     "name": "stderr",
     "output_type": "stream",
     "text": [
      "[0039/0200] Train: 100%|██████████████████████████████| 45/45 [00:04<00:00,  9.21it/s, loss 17.5923]\n",
      "[0039/0200] Validation: 100%|█████████████████████| 43/43 [00:02<00:00, 16.11it/s, val_loss 18.0881]\n",
      "[0040/0200] Train:   0%|                                                     | 0/45 [00:00<?, ?it/s]"
     ]
    },
    {
     "name": "stdout",
     "output_type": "stream",
     "text": [
      "val_loss is not improved for 4 epochs\n",
      "                  validation\n",
      " - Yaw          :   3.803608\n",
      " - Pitch        :   2.047512\n",
      " - Roll         :   2.158759\n",
      " - RMS          :   2.788068\n",
      " - 99% Tile     :  17.454407\n"
     ]
    },
    {
     "name": "stderr",
     "output_type": "stream",
     "text": [
      "[0040/0200] Train: 100%|██████████████████████████████| 45/45 [00:05<00:00,  8.69it/s, loss 16.8860]\n",
      "[0040/0200] Validation: 100%|█████████████████████| 43/43 [00:02<00:00, 21.28it/s, val_loss 17.2164]\n",
      "[0041/0200] Train:   0%|                                                     | 0/45 [00:00<?, ?it/s]"
     ]
    },
    {
     "name": "stdout",
     "output_type": "stream",
     "text": [
      "                  validation\n",
      " - Yaw          :   3.538455\n",
      " - Pitch        :   1.935161\n",
      " - Roll         :   2.190767\n",
      " - RMS          :   2.649841\n",
      " - 99% Tile     :  17.455721\n"
     ]
    },
    {
     "name": "stderr",
     "output_type": "stream",
     "text": [
      "[0041/0200] Train: 100%|██████████████████████████████| 45/45 [00:05<00:00,  8.15it/s, loss 19.4766]\n",
      "[0041/0200] Validation: 100%|█████████████████████| 43/43 [00:02<00:00, 15.11it/s, val_loss 17.8793]\n",
      "[0042/0200] Train:   0%|                                                     | 0/45 [00:00<?, ?it/s]"
     ]
    },
    {
     "name": "stdout",
     "output_type": "stream",
     "text": [
      "val_loss is not improved for 1 epochs\n",
      "                  validation\n",
      " - Yaw          :   3.687955\n",
      " - Pitch        :   1.956446\n",
      " - Roll         :   2.194515\n",
      " - RMS          :   2.723025\n",
      " - 99% Tile     :  17.831379\n"
     ]
    },
    {
     "name": "stderr",
     "output_type": "stream",
     "text": [
      "[0042/0200] Train: 100%|██████████████████████████████| 45/45 [00:05<00:00,  8.31it/s, loss 18.1305]\n",
      "[0042/0200] Validation: 100%|█████████████████████| 43/43 [00:02<00:00, 14.39it/s, val_loss 17.2024]\n",
      "[0043/0200] Train:   0%|                                                     | 0/45 [00:00<?, ?it/s]"
     ]
    },
    {
     "name": "stdout",
     "output_type": "stream",
     "text": [
      "                  validation\n",
      " - Yaw          :   3.456669\n",
      " - Pitch        :   1.934363\n",
      " - Roll         :   2.170212\n",
      " - RMS          :   2.607690\n",
      " - 99% Tile     :  17.680084\n"
     ]
    },
    {
     "name": "stderr",
     "output_type": "stream",
     "text": [
      "[0043/0200] Train: 100%|██████████████████████████████| 45/45 [00:05<00:00,  8.70it/s, loss 16.4434]\n",
      "[0043/0200] Validation: 100%|█████████████████████| 43/43 [00:02<00:00, 17.72it/s, val_loss 16.5750]\n",
      "[0044/0200] Train:   0%|                                                     | 0/45 [00:00<?, ?it/s]"
     ]
    },
    {
     "name": "stdout",
     "output_type": "stream",
     "text": [
      "                  validation\n",
      " - Yaw          :   3.325425\n",
      " - Pitch        :   1.943928\n",
      " - Roll         :   2.160434\n",
      " - RMS          :   2.549823\n",
      " - 99% Tile     :  17.079475\n"
     ]
    },
    {
     "name": "stderr",
     "output_type": "stream",
     "text": [
      "[0044/0200] Train: 100%|██████████████████████████████| 45/45 [00:05<00:00,  8.67it/s, loss 16.2792]\n",
      "[0044/0200] Validation: 100%|█████████████████████| 43/43 [00:02<00:00, 20.23it/s, val_loss 16.5316]\n",
      "[0045/0200] Train:   0%|                                                     | 0/45 [00:00<?, ?it/s]"
     ]
    },
    {
     "name": "stdout",
     "output_type": "stream",
     "text": [
      "                  validation\n",
      " - Yaw          :   3.395159\n",
      " - Pitch        :   1.946309\n",
      " - Roll         :   2.142531\n",
      " - RMS          :   2.575892\n",
      " - 99% Tile     :  16.862329\n"
     ]
    },
    {
     "name": "stderr",
     "output_type": "stream",
     "text": [
      "[0045/0200] Train: 100%|██████████████████████████████| 45/45 [00:04<00:00,  9.57it/s, loss 16.3052]\n",
      "[0045/0200] Validation: 100%|█████████████████████| 43/43 [00:02<00:00, 15.06it/s, val_loss 16.7094]\n",
      "[0046/0200] Train:   0%|                                                     | 0/45 [00:00<?, ?it/s]"
     ]
    },
    {
     "name": "stdout",
     "output_type": "stream",
     "text": [
      "val_loss is not improved for 1 epochs\n",
      "                  validation\n",
      " - Yaw          :   3.472079\n",
      " - Pitch        :   1.982692\n",
      " - Roll         :   2.099458\n",
      " - RMS          :   2.607306\n",
      " - 99% Tile     :  16.850758\n"
     ]
    },
    {
     "name": "stderr",
     "output_type": "stream",
     "text": [
      "[0046/0200] Train: 100%|██████████████████████████████| 45/45 [00:04<00:00,  9.03it/s, loss 15.9158]\n",
      "[0046/0200] Validation: 100%|█████████████████████| 43/43 [00:02<00:00, 18.60it/s, val_loss 17.0918]\n",
      "[0047/0200] Train:   0%|                                                     | 0/45 [00:00<?, ?it/s]"
     ]
    },
    {
     "name": "stdout",
     "output_type": "stream",
     "text": [
      "val_loss is not improved for 2 epochs\n",
      "                  validation\n",
      " - Yaw          :   3.503015\n",
      " - Pitch        :   1.992459\n",
      " - Roll         :   2.102046\n",
      " - RMS          :   2.624221\n",
      " - 99% Tile     :  17.229294\n"
     ]
    },
    {
     "name": "stderr",
     "output_type": "stream",
     "text": [
      "[0047/0200] Train: 100%|██████████████████████████████| 45/45 [00:03<00:00, 11.66it/s, loss 15.9464]\n",
      "[0047/0200] Validation: 100%|█████████████████████| 43/43 [00:01<00:00, 25.06it/s, val_loss 16.7658]\n",
      "[0048/0200] Train:   0%|                                                     | 0/45 [00:00<?, ?it/s]"
     ]
    },
    {
     "name": "stdout",
     "output_type": "stream",
     "text": [
      "Decaying lr from 0.00025 to 0.000125 because val_loss did not improved for 3 epochs\n",
      "val_loss is not improved for 3 epochs\n",
      "                  validation\n",
      " - Yaw          :   3.454433\n",
      " - Pitch        :   2.017833\n",
      " - Roll         :   2.073623\n",
      " - RMS          :   2.601581\n",
      " - 99% Tile     :  17.045303\n"
     ]
    },
    {
     "name": "stderr",
     "output_type": "stream",
     "text": [
      "[0048/0200] Train: 100%|██████████████████████████████| 45/45 [00:03<00:00, 11.48it/s, loss 15.3143]\n",
      "[0048/0200] Validation: 100%|█████████████████████| 43/43 [00:02<00:00, 18.10it/s, val_loss 16.6264]\n",
      "[0049/0200] Train:   0%|                                                     | 0/45 [00:00<?, ?it/s]"
     ]
    },
    {
     "name": "stdout",
     "output_type": "stream",
     "text": [
      "val_loss is not improved for 4 epochs\n",
      "                  validation\n",
      " - Yaw          :   3.464272\n",
      " - Pitch        :   1.954522\n",
      " - Roll         :   2.047963\n",
      " - RMS          :   2.582989\n",
      " - 99% Tile     :  16.958073\n"
     ]
    },
    {
     "name": "stderr",
     "output_type": "stream",
     "text": [
      "[0049/0200] Train: 100%|██████████████████████████████| 45/45 [00:03<00:00, 11.69it/s, loss 15.1843]\n",
      "[0049/0200] Validation: 100%|█████████████████████| 43/43 [00:02<00:00, 18.60it/s, val_loss 16.6173]\n",
      "[0050/0200] Train:   0%|                                                     | 0/45 [00:00<?, ?it/s]"
     ]
    },
    {
     "name": "stdout",
     "output_type": "stream",
     "text": [
      "val_loss is not improved for 5 epochs\n",
      "                  validation\n",
      " - Yaw          :   3.451634\n",
      " - Pitch        :   1.986527\n",
      " - Roll         :   2.008740\n",
      " - RMS          :   2.575209\n",
      " - 99% Tile     :  17.024620\n"
     ]
    },
    {
     "name": "stderr",
     "output_type": "stream",
     "text": [
      "[0050/0200] Train: 100%|██████████████████████████████| 45/45 [00:04<00:00,  9.77it/s, loss 15.0057]\n",
      "[0050/0200] Validation: 100%|█████████████████████| 43/43 [00:01<00:00, 25.06it/s, val_loss 16.5332]\n",
      "[0051/0200] Train:   0%|                                                     | 0/45 [00:00<?, ?it/s]"
     ]
    },
    {
     "name": "stdout",
     "output_type": "stream",
     "text": [
      "Decaying lr from 0.000125 to 6.25e-05 because val_loss did not improved for 3 epochs\n",
      "val_loss is not improved for 6 epochs\n",
      "                  validation\n",
      " - Yaw          :   3.395219\n",
      " - Pitch        :   1.941042\n",
      " - Roll         :   2.025603\n",
      " - RMS          :   2.542847\n",
      " - 99% Tile     :  17.101044\n"
     ]
    },
    {
     "name": "stderr",
     "output_type": "stream",
     "text": [
      "[0051/0200] Train: 100%|██████████████████████████████| 45/45 [00:03<00:00, 11.57it/s, loss 15.5076]\n",
      "[0051/0200] Validation: 100%|█████████████████████| 43/43 [00:01<00:00, 24.27it/s, val_loss 16.9218]\n",
      "[0052/0200] Train:   0%|                                                     | 0/45 [00:00<?, ?it/s]"
     ]
    },
    {
     "name": "stdout",
     "output_type": "stream",
     "text": [
      "val_loss is not improved for 7 epochs\n",
      "                  validation\n",
      " - Yaw          :   3.698351\n",
      " - Pitch        :   1.932603\n",
      " - Roll         :   2.017089\n",
      " - RMS          :   2.675905\n",
      " - 99% Tile     :  17.210693\n"
     ]
    },
    {
     "name": "stderr",
     "output_type": "stream",
     "text": [
      "[0052/0200] Train: 100%|██████████████████████████████| 45/45 [00:03<00:00, 12.10it/s, loss 15.0405]\n",
      "[0052/0200] Validation: 100%|█████████████████████| 43/43 [00:01<00:00, 24.87it/s, val_loss 16.5678]\n",
      "[0053/0200] Train:   0%|                                                     | 0/45 [00:00<?, ?it/s]"
     ]
    },
    {
     "name": "stdout",
     "output_type": "stream",
     "text": [
      "val_loss is not improved for 8 epochs\n",
      "                  validation\n",
      " - Yaw          :   3.452928\n",
      " - Pitch        :   1.923289\n",
      " - Roll         :   2.003859\n",
      " - RMS          :   2.558463\n",
      " - 99% Tile     :  17.088425\n"
     ]
    },
    {
     "name": "stderr",
     "output_type": "stream",
     "text": [
      "[0053/0200] Train: 100%|██████████████████████████████| 45/45 [00:04<00:00, 10.16it/s, loss 15.1397]\n",
      "[0053/0200] Validation: 100%|█████████████████████| 43/43 [00:01<00:00, 25.82it/s, val_loss 16.7051]\n",
      "[0054/0200] Train:   0%|                                                     | 0/45 [00:00<?, ?it/s]"
     ]
    },
    {
     "name": "stdout",
     "output_type": "stream",
     "text": [
      "Decaying lr from 6.25e-05 to 3.125e-05 because val_loss did not improved for 3 epochs\n",
      "val_loss is not improved for 9 epochs\n",
      "                  validation\n",
      " - Yaw          :   3.632286\n",
      " - Pitch        :   1.935998\n",
      " - Roll         :   1.985360\n",
      " - RMS          :   2.638386\n",
      " - 99% Tile     :  17.115570\n"
     ]
    },
    {
     "name": "stderr",
     "output_type": "stream",
     "text": [
      "[0054/0200] Train: 100%|██████████████████████████████| 45/45 [00:03<00:00, 11.39it/s, loss 14.8503]\n",
      "[0054/0200] Validation: 100%|█████████████████████| 43/43 [00:01<00:00, 25.32it/s, val_loss 16.5461]"
     ]
    },
    {
     "name": "stdout",
     "output_type": "stream",
     "text": [
      "val_loss is not improved for 10 epochs\n",
      "Stop training because val_loss did not improved for 10 epochs\n",
      "                  validation\n",
      " - Yaw          :   3.486775\n",
      " - Pitch        :   1.946731\n",
      " - Roll         :   1.979928\n",
      " - RMS          :   2.573420\n",
      " - 99% Tile     :  17.127012\n"
     ]
    },
    {
     "name": "stderr",
     "output_type": "stream",
     "text": [
      "\n"
     ]
    }
   ],
   "source": [
    "trainer.fit(ds_train, ds_test, num_epochs=200, batch_size=256, shuffle=True, pin_memory=True)"
   ]
  },
  {
   "cell_type": "code",
   "execution_count": null,
   "metadata": {},
   "outputs": [],
   "source": []
  }
 ],
 "metadata": {
  "kernelspec": {
   "display_name": "torch",
   "language": "python",
   "name": "torch"
  },
  "language_info": {
   "codemirror_mode": {
    "name": "ipython",
    "version": 3
   },
   "file_extension": ".py",
   "mimetype": "text/x-python",
   "name": "python",
   "nbconvert_exporter": "python",
   "pygments_lexer": "ipython3",
   "version": "3.7.9"
  }
 },
 "nbformat": 4,
 "nbformat_minor": 4
}
