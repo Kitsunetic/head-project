{
 "cells": [
  {
   "cell_type": "markdown",
   "metadata": {},
   "source": [
    "# 학습 결과\n",
    "\n",
    "user1의 scene 1~3만 사용해서 학습\n",
    "\n",
    "scene보다 user가 많기 때문에 데이터의 양이 확연히 줄어듬에도 불구하고 성능이 괜찮음.  \n",
    "적은 데이터 특화됐기 때문인지는 모르겠다.\n",
    "\n",
    "나머지 scene에 대해서도 잘 학습을 하면서 user에 대해서도 특화된다면 성능을 상당히 끌어올릴 수 있을 것으로 기대됨.  \n",
    "--> curriculum learning"
   ]
  },
  {
   "cell_type": "code",
   "execution_count": 1,
   "metadata": {},
   "outputs": [],
   "source": [
    "from multiprocessing import cpu_count\n",
    "from pathlib import Path\n",
    "from typing import List, Union, AnyStr\n",
    "from math import pi\n",
    "import pickle\n",
    "\n",
    "import numpy as np\n",
    "import torch\n",
    "import matplotlib.pyplot as plt\n",
    "import torch.nn as nn\n",
    "from sklearn import model_selection\n",
    "from tqdm import tqdm\n",
    "import torch_optimizer\n",
    "from torch.utils.data import Dataset\n",
    "import pandas as pd\n",
    "import random\n",
    "\n",
    "import torch_burn as tb\n",
    "import utils"
   ]
  },
  {
   "cell_type": "code",
   "execution_count": 2,
   "metadata": {},
   "outputs": [],
   "source": [
    "EXPERIMENT_NAME = '1122-Scene3-CLSTM-win48'\n",
    "CHECKPOINT_DIR = Path('checkpoint', EXPERIMENT_NAME)\n",
    "CHECKPOINT_DIR.mkdir(parents=True, exist_ok=True)\n",
    "\n",
    "DATA_DIR = Path('data/1116')\n",
    "TRAIN_FILES = sorted(list(DATA_DIR.glob('*scene3_0.csv')))\n",
    "TEST_FILES = sorted(list(DATA_DIR.glob('*scene3_1.csv')))"
   ]
  },
  {
   "cell_type": "markdown",
   "metadata": {},
   "source": [
    "# 데이터셋 생성\n",
    "\n",
    "scene1에 대해서 모든 user의 데이터를 하나로 합친다."
   ]
  },
  {
   "cell_type": "code",
   "execution_count": 3,
   "metadata": {},
   "outputs": [],
   "source": [
    "WINDOW_SIZE = 48"
   ]
  },
  {
   "cell_type": "code",
   "execution_count": 4,
   "metadata": {},
   "outputs": [],
   "source": [
    "class CSVSequentialDataset(Dataset):\n",
    "    def __init__(self, csvfile,\n",
    "                 window_size=300, randomized_window_size=False,\n",
    "                 stride=30, randomized_stride=False):\n",
    "        super(CSVSequentialDataset, self).__init__()\n",
    "\n",
    "        self.xcols = ['input_orientation_yaw', 'input_orientation_pitch', 'input_orientation_roll',\n",
    "                      'acceleration_x', 'acceleration_y', 'acceleration_z']\n",
    "        self.ycols = ['input_orientation_yaw', 'input_orientation_pitch', 'input_orientation_roll']\n",
    "\n",
    "        self.csv = pd.read_csv(csvfile)\n",
    "        self.window_size = window_size\n",
    "\n",
    "        self.indexes = []\n",
    "        i = 0\n",
    "        while i <= len(self.csv) - window_size * 2:\n",
    "            if randomized_window_size:\n",
    "                self.indexes.append((i, i + random.randint(window_size // 2, window_size)))\n",
    "            else:\n",
    "                self.indexes.append((i, i + window_size))\n",
    "\n",
    "            if randomized_stride:\n",
    "                i += random.randint(1, stride)\n",
    "            else:\n",
    "                i += stride\n",
    "\n",
    "    def __len__(self):\n",
    "        return len(self.indexes)\n",
    "\n",
    "    def __getitem__(self, idx):\n",
    "        s, t = self.indexes[idx]\n",
    "        x = self.csv.iloc[s:t][self.xcols].to_numpy()\n",
    "        y = self.csv.iloc[t + 6][self.ycols].to_numpy()\n",
    "\n",
    "        x = torch.tensor(x, dtype=torch.float32) # 300, 6\n",
    "        y = torch.tensor(y, dtype=torch.float32) # 3\n",
    "        \n",
    "        #x[:, :3] *= pi / 180\n",
    "        x[:, 3:] /= 10\n",
    "\n",
    "        return x, y"
   ]
  },
  {
   "cell_type": "code",
   "execution_count": 5,
   "metadata": {},
   "outputs": [],
   "source": [
    "ds_train = [CSVSequentialDataset(f,  \n",
    "                                 window_size=WINDOW_SIZE, randomized_window_size=False,\n",
    "                                 stride=5, randomized_stride=True) for f in TRAIN_FILES]\n",
    "ds_train = tb.data.ChainDataset(*ds_train)\n",
    "ds_test = [CSVSequentialDataset(f,  \n",
    "                                window_size=WINDOW_SIZE, randomized_window_size=False,\n",
    "                                stride=5, randomized_stride=True) for f in TEST_FILES]\n",
    "ds_test = tb.data.ChainDataset(*ds_test)"
   ]
  },
  {
   "cell_type": "code",
   "execution_count": 6,
   "metadata": {},
   "outputs": [
    {
     "data": {
      "text/plain": [
       "(18781, 18119)"
      ]
     },
     "execution_count": 6,
     "metadata": {},
     "output_type": "execute_result"
    }
   ],
   "source": [
    "len(ds_train), len(ds_test)"
   ]
  },
  {
   "cell_type": "code",
   "execution_count": 7,
   "metadata": {},
   "outputs": [
    {
     "data": {
      "text/plain": [
       "(torch.Size([48, 6]), torch.Size([3]))"
      ]
     },
     "execution_count": 7,
     "metadata": {},
     "output_type": "execute_result"
    }
   ],
   "source": [
    "ds_train[0][0].shape, ds_train[0][1].shape"
   ]
  },
  {
   "cell_type": "code",
   "execution_count": 8,
   "metadata": {},
   "outputs": [],
   "source": [
    "x, y = ds_train[0]"
   ]
  },
  {
   "cell_type": "code",
   "execution_count": 9,
   "metadata": {},
   "outputs": [
    {
     "data": {
      "text/plain": [
       "torch.Size([48, 6])"
      ]
     },
     "execution_count": 9,
     "metadata": {},
     "output_type": "execute_result"
    }
   ],
   "source": [
    "x.shape"
   ]
  },
  {
   "cell_type": "code",
   "execution_count": 10,
   "metadata": {},
   "outputs": [
    {
     "data": {
      "text/plain": [
       "[<matplotlib.lines.Line2D at 0x7f9a70d3ae90>]"
      ]
     },
     "execution_count": 10,
     "metadata": {},
     "output_type": "execute_result"
    },
    {
     "data": {
      "image/png": "[encoded data removed]",
      "text/plain": [
       "<Figure size 432x288 with 1 Axes>"
      ]
     },
     "metadata": {
      "needs_background": "light"
     },
     "output_type": "display_data"
    }
   ],
   "source": [
    "plt.plot(x[:, 2])"
   ]
  },
  {
   "cell_type": "markdown",
   "metadata": {},
   "source": [
    "# 모델 생성"
   ]
  },
  {
   "cell_type": "code",
   "execution_count": 11,
   "metadata": {},
   "outputs": [],
   "source": [
    "class CLSTM(nn.Module):\n",
    "    def __init__(self, input_size=6, hidden_size=24, num_layers=8, dropout=0.0, bidirectional=False):\n",
    "        super(CLSTM, self).__init__()\n",
    "\n",
    "        self.conv_in = nn.Sequential(\n",
    "            nn.Conv1d(input_size, 32, 9, padding=4),\n",
    "            nn.BatchNorm1d(32),\n",
    "            nn.LeakyReLU(),\n",
    "            nn.Conv1d(32, 64, 9, padding=4),\n",
    "            nn.BatchNorm1d(64),\n",
    "        )\n",
    "\n",
    "        self.rnn = nn.LSTM(input_size=64,\n",
    "                           hidden_size=hidden_size,\n",
    "                           num_layers=num_layers,\n",
    "                           batch_first=True,\n",
    "                           dropout=dropout,\n",
    "                           bidirectional=bidirectional)\n",
    "\n",
    "        out_channels = 2 * hidden_size if bidirectional else hidden_size\n",
    "        self.fc = nn.Linear(out_channels, 3)\n",
    "\n",
    "    def forward(self, x):\n",
    "        x = x.transpose(1, 2)  # B, 48, 6 --> B, 6, 48\n",
    "        x = self.conv_in(x)  # B, 64, 48\n",
    "        x = x.transpose(1, 2)  # B, 48, 64\n",
    "\n",
    "        outs, (hiddens, cells) = self.rnn(x)\n",
    "        x = outs[:, -1, ...]\n",
    "        x = self.fc(x)\n",
    "\n",
    "        return x"
   ]
  },
  {
   "cell_type": "code",
   "execution_count": 12,
   "metadata": {},
   "outputs": [],
   "source": [
    "model = CLSTM(input_size=6, hidden_size=64, num_layers=8, dropout=0.2, bidirectional=True).cuda()"
   ]
  },
  {
   "cell_type": "code",
   "execution_count": 13,
   "metadata": {},
   "outputs": [],
   "source": [
    "criterion = nn.MSELoss().cuda()\n",
    "optimizer = torch_optimizer.RAdam(model.parameters())"
   ]
  },
  {
   "cell_type": "code",
   "execution_count": 14,
   "metadata": {},
   "outputs": [],
   "source": [
    "metrics = [tb.metrics.ModuleMetric(criterion, 'loss'),\n",
    "           utils.HPMetric('hp_metric'),\n",
    "           utils.HPSignalHistory(CHECKPOINT_DIR / 'sample' / '{epoch:04d}.npy', 'hp_signal')]"
   ]
  },
  {
   "cell_type": "code",
   "execution_count": 15,
   "metadata": {},
   "outputs": [],
   "source": [
    "callbacks = [tb.callbacks.EarlyStopping(metrics[0]),\n",
    "             tb.callbacks.LRDecaying(optimizer, metrics[0])]"
   ]
  },
  {
   "cell_type": "code",
   "execution_count": 16,
   "metadata": {},
   "outputs": [],
   "source": [
    "trainer = tb.Trainer(model, optimizer, metrics, callbacks, ncols=100)"
   ]
  },
  {
   "cell_type": "code",
   "execution_count": 17,
   "metadata": {},
   "outputs": [
    {
     "name": "stderr",
     "output_type": "stream",
     "text": [
      "[0001/0100] Train: 100%|█████████████████████████████| 74/74 [00:04<00:00, 17.90it/s, loss 287.8060]\n",
      "[0001/0100] Validation: 100%|████████████████████| 71/71 [00:02<00:00, 32.91it/s, val_loss 221.7449]\n",
      "[0002/0100] Train:   0%|                                                     | 0/74 [00:00<?, ?it/s]"
     ]
    },
    {
     "name": "stdout",
     "output_type": "stream",
     "text": [
      "                  validation\n",
      " - Yaw          :  18.741470\n",
      " - Pitch        :  10.322814\n",
      " - Roll         :   2.553602\n",
      " - RMS          :  12.440847\n",
      " - 99% Tile     :  43.550283\n",
      "Save output signals into checkpoint/1122-Scene3-CLSTM-win48/sample/0001.npy\n"
     ]
    },
    {
     "name": "stderr",
     "output_type": "stream",
     "text": [
      "[0002/0100] Train: 100%|█████████████████████████████| 74/74 [00:04<00:00, 18.20it/s, loss 232.7474]\n",
      "[0002/0100] Validation: 100%|████████████████████| 71/71 [00:02<00:00, 33.98it/s, val_loss 157.7299]\n",
      "[0003/0100] Train:   0%|                                                     | 0/74 [00:00<?, ?it/s]"
     ]
    },
    {
     "name": "stdout",
     "output_type": "stream",
     "text": [
      "                  validation\n",
      " - Yaw          :  14.596718\n",
      " - Pitch        :   9.304841\n",
      " - Roll         :   2.420126\n",
      " - RMS          :  10.091271\n",
      " - 99% Tile     :  38.177817\n",
      "Save output signals into checkpoint/1122-Scene3-CLSTM-win48/sample/0002.npy\n"
     ]
    },
    {
     "name": "stderr",
     "output_type": "stream",
     "text": [
      "[0003/0100] Train: 100%|█████████████████████████████| 74/74 [00:04<00:00, 17.73it/s, loss 170.9011]\n",
      "[0003/0100] Validation: 100%|████████████████████| 71/71 [00:02<00:00, 33.23it/s, val_loss 114.7142]\n",
      "[0004/0100] Train:   0%|                                                     | 0/74 [00:00<?, ?it/s]"
     ]
    },
    {
     "name": "stdout",
     "output_type": "stream",
     "text": [
      "                  validation\n",
      " - Yaw          :  11.547221\n",
      " - Pitch        :   8.477911\n",
      " - Roll         :   2.360176\n",
      " - RMS          :   8.382197\n",
      " - 99% Tile     :  33.535596\n",
      "Save output signals into checkpoint/1122-Scene3-CLSTM-win48/sample/0003.npy\n"
     ]
    },
    {
     "name": "stderr",
     "output_type": "stream",
     "text": [
      "[0004/0100] Train: 100%|█████████████████████████████| 74/74 [00:04<00:00, 18.33it/s, loss 132.8020]\n",
      "[0004/0100] Validation: 100%|█████████████████████| 71/71 [00:02<00:00, 33.56it/s, val_loss 89.8246]\n",
      "[0005/0100] Train:   0%|                                                     | 0/74 [00:00<?, ?it/s]"
     ]
    },
    {
     "name": "stdout",
     "output_type": "stream",
     "text": [
      "                  validation\n",
      " - Yaw          :   9.651555\n",
      " - Pitch        :   7.748212\n",
      " - Roll         :   2.382820\n",
      " - RMS          :   7.277021\n",
      " - 99% Tile     :  29.939513\n",
      "Save output signals into checkpoint/1122-Scene3-CLSTM-win48/sample/0004.npy\n"
     ]
    },
    {
     "name": "stderr",
     "output_type": "stream",
     "text": [
      "[0005/0100] Train: 100%|█████████████████████████████| 74/74 [00:04<00:00, 18.02it/s, loss 108.1252]\n",
      "[0005/0100] Validation: 100%|█████████████████████| 71/71 [00:02<00:00, 32.53it/s, val_loss 73.4827]\n",
      "[0006/0100] Train:   0%|                                                     | 0/74 [00:00<?, ?it/s]"
     ]
    },
    {
     "name": "stdout",
     "output_type": "stream",
     "text": [
      "                  validation\n",
      " - Yaw          :   8.414256\n",
      " - Pitch        :   7.159812\n",
      " - Roll         :   2.390695\n",
      " - RMS          :   6.526307\n",
      " - 99% Tile     :  26.900660\n",
      "Save output signals into checkpoint/1122-Scene3-CLSTM-win48/sample/0005.npy\n"
     ]
    },
    {
     "name": "stderr",
     "output_type": "stream",
     "text": [
      "[0006/0100] Train: 100%|██████████████████████████████| 74/74 [00:04<00:00, 18.47it/s, loss 90.4984]\n",
      "[0006/0100] Validation: 100%|█████████████████████| 71/71 [00:02<00:00, 33.28it/s, val_loss 63.1286]\n",
      "[0007/0100] Train:   0%|                                                     | 0/74 [00:00<?, ?it/s]"
     ]
    },
    {
     "name": "stdout",
     "output_type": "stream",
     "text": [
      "                  validation\n",
      " - Yaw          :   7.123420\n",
      " - Pitch        :   7.237518\n",
      " - Roll         :   2.378676\n",
      " - RMS          :   6.021708\n",
      " - 99% Tile     :  25.252621\n",
      "Save output signals into checkpoint/1122-Scene3-CLSTM-win48/sample/0006.npy\n"
     ]
    },
    {
     "name": "stderr",
     "output_type": "stream",
     "text": [
      "[0007/0100] Train: 100%|██████████████████████████████| 74/74 [00:04<00:00, 18.42it/s, loss 76.7100]\n",
      "[0007/0100] Validation: 100%|█████████████████████| 71/71 [00:02<00:00, 32.80it/s, val_loss 54.5614]\n",
      "[0008/0100] Train:   0%|                                                     | 0/74 [00:00<?, ?it/s]"
     ]
    },
    {
     "name": "stdout",
     "output_type": "stream",
     "text": [
      "                  validation\n",
      " - Yaw          :   5.921609\n",
      " - Pitch        :   7.180303\n",
      " - Roll         :   2.347164\n",
      " - RMS          :   5.541702\n",
      " - 99% Tile     :  23.540656\n",
      "Save output signals into checkpoint/1122-Scene3-CLSTM-win48/sample/0007.npy\n"
     ]
    },
    {
     "name": "stderr",
     "output_type": "stream",
     "text": [
      "[0008/0100] Train: 100%|██████████████████████████████| 74/74 [00:04<00:00, 18.11it/s, loss 65.5297]\n",
      "[0008/0100] Validation: 100%|█████████████████████| 71/71 [00:02<00:00, 33.08it/s, val_loss 47.7116]\n",
      "[0009/0100] Train:   0%|                                                     | 0/74 [00:00<?, ?it/s]"
     ]
    },
    {
     "name": "stdout",
     "output_type": "stream",
     "text": [
      "                  validation\n",
      " - Yaw          :   5.522880\n",
      " - Pitch        :   6.684819\n",
      " - Roll         :   2.348116\n",
      " - RMS          :   5.186606\n",
      " - 99% Tile     :  21.675157\n",
      "Save output signals into checkpoint/1122-Scene3-CLSTM-win48/sample/0008.npy\n"
     ]
    },
    {
     "name": "stderr",
     "output_type": "stream",
     "text": [
      "[0009/0100] Train: 100%|██████████████████████████████| 74/74 [00:04<00:00, 17.81it/s, loss 57.8501]\n",
      "[0009/0100] Validation: 100%|█████████████████████| 71/71 [00:02<00:00, 32.86it/s, val_loss 42.7967]\n",
      "[0010/0100] Train:   0%|                                                     | 0/74 [00:00<?, ?it/s]"
     ]
    },
    {
     "name": "stdout",
     "output_type": "stream",
     "text": [
      "                  validation\n",
      " - Yaw          :   4.249418\n",
      " - Pitch        :   6.952135\n",
      " - Roll         :   2.365036\n",
      " - RMS          :   4.898406\n",
      " - 99% Tile     :  22.108945\n",
      "Save output signals into checkpoint/1122-Scene3-CLSTM-win48/sample/0009.npy\n"
     ]
    },
    {
     "name": "stderr",
     "output_type": "stream",
     "text": [
      "[0010/0100] Train: 100%|██████████████████████████████| 74/74 [00:04<00:00, 18.38it/s, loss 51.8207]\n",
      "[0010/0100] Validation: 100%|█████████████████████| 71/71 [00:02<00:00, 33.17it/s, val_loss 39.1754]\n",
      "[0011/0100] Train:   0%|                                                     | 0/74 [00:00<?, ?it/s]"
     ]
    },
    {
     "name": "stdout",
     "output_type": "stream",
     "text": [
      "                  validation\n",
      " - Yaw          :   4.286305\n",
      " - Pitch        :   6.457706\n",
      " - Roll         :   2.345553\n",
      " - RMS          :   4.675325\n",
      " - 99% Tile     :  21.196930\n",
      "Save output signals into checkpoint/1122-Scene3-CLSTM-win48/sample/0010.npy\n"
     ]
    },
    {
     "name": "stderr",
     "output_type": "stream",
     "text": [
      "[0011/0100] Train: 100%|██████████████████████████████| 74/74 [00:04<00:00, 18.30it/s, loss 46.8698]\n",
      "[0011/0100] Validation: 100%|█████████████████████| 71/71 [00:02<00:00, 32.86it/s, val_loss 35.4491]\n",
      "[0012/0100] Train:   0%|                                                     | 0/74 [00:00<?, ?it/s]"
     ]
    },
    {
     "name": "stdout",
     "output_type": "stream",
     "text": [
      "                  validation\n",
      " - Yaw          :   3.552262\n",
      " - Pitch        :   6.557030\n",
      " - Roll         :   2.313385\n",
      " - RMS          :   4.507954\n",
      " - 99% Tile     :  20.554684\n",
      "Save output signals into checkpoint/1122-Scene3-CLSTM-win48/sample/0011.npy\n"
     ]
    },
    {
     "name": "stderr",
     "output_type": "stream",
     "text": [
      "[0012/0100] Train: 100%|██████████████████████████████| 74/74 [00:03<00:00, 18.70it/s, loss 42.7939]\n",
      "[0012/0100] Validation: 100%|█████████████████████| 71/71 [00:02<00:00, 32.27it/s, val_loss 33.4826]\n",
      "[0013/0100] Train:   0%|                                                     | 0/74 [00:00<?, ?it/s]"
     ]
    },
    {
     "name": "stdout",
     "output_type": "stream",
     "text": [
      "                  validation\n",
      " - Yaw          :   3.478740\n",
      " - Pitch        :   6.337267\n",
      " - Roll         :   2.306404\n",
      " - RMS          :   4.381099\n",
      " - 99% Tile     :  19.864337\n",
      "Save output signals into checkpoint/1122-Scene3-CLSTM-win48/sample/0012.npy\n"
     ]
    },
    {
     "name": "stderr",
     "output_type": "stream",
     "text": [
      "[0013/0100] Train: 100%|██████████████████████████████| 74/74 [00:04<00:00, 18.23it/s, loss 41.4249]\n",
      "[0013/0100] Validation: 100%|█████████████████████| 71/71 [00:02<00:00, 32.30it/s, val_loss 53.4819]\n",
      "[0014/0100] Train:   0%|                                                     | 0/74 [00:00<?, ?it/s]"
     ]
    },
    {
     "name": "stdout",
     "output_type": "stream",
     "text": [
      "val_loss is not improved for 1 epochs\n",
      "                  validation\n",
      " - Yaw          :   6.070048\n",
      " - Pitch        :   6.507560\n",
      " - Roll         :   2.294393\n",
      " - RMS          :   5.305911\n",
      " - 99% Tile     :  28.697361\n",
      "Save output signals into checkpoint/1122-Scene3-CLSTM-win48/sample/0013.npy\n"
     ]
    },
    {
     "name": "stderr",
     "output_type": "stream",
     "text": [
      "[0014/0100] Train: 100%|██████████████████████████████| 74/74 [00:04<00:00, 17.76it/s, loss 42.2704]\n",
      "[0014/0100] Validation: 100%|█████████████████████| 71/71 [00:02<00:00, 33.62it/s, val_loss 33.7461]\n",
      "[0015/0100] Train:   0%|                                                     | 0/74 [00:00<?, ?it/s]"
     ]
    },
    {
     "name": "stdout",
     "output_type": "stream",
     "text": [
      "val_loss is not improved for 2 epochs\n",
      "                  validation\n",
      " - Yaw          :   3.429643\n",
      " - Pitch        :   6.407864\n",
      " - Roll         :   2.245177\n",
      " - RMS          :   4.391810\n",
      " - 99% Tile     :  20.221886\n",
      "Save output signals into checkpoint/1122-Scene3-CLSTM-win48/sample/0014.npy\n"
     ]
    },
    {
     "name": "stderr",
     "output_type": "stream",
     "text": [
      "[0015/0100] Train: 100%|██████████████████████████████| 74/74 [00:04<00:00, 18.18it/s, loss 37.0759]\n",
      "[0015/0100] Validation: 100%|█████████████████████| 71/71 [00:02<00:00, 31.86it/s, val_loss 31.0910]\n",
      "[0016/0100] Train:   0%|                                                     | 0/74 [00:00<?, ?it/s]"
     ]
    },
    {
     "name": "stdout",
     "output_type": "stream",
     "text": [
      "                  validation\n",
      " - Yaw          :   2.930336\n",
      " - Pitch        :   6.293635\n",
      " - Roll         :   2.298648\n",
      " - RMS          :   4.222184\n",
      " - 99% Tile     :  19.570653\n",
      "Save output signals into checkpoint/1122-Scene3-CLSTM-win48/sample/0015.npy\n"
     ]
    },
    {
     "name": "stderr",
     "output_type": "stream",
     "text": [
      "[0016/0100] Train: 100%|██████████████████████████████| 74/74 [00:04<00:00, 18.30it/s, loss 34.7050]\n",
      "[0016/0100] Validation: 100%|█████████████████████| 71/71 [00:02<00:00, 32.51it/s, val_loss 31.0198]\n",
      "[0017/0100] Train:   0%|                                                     | 0/74 [00:00<?, ?it/s]"
     ]
    },
    {
     "name": "stdout",
     "output_type": "stream",
     "text": [
      "                  validation\n",
      " - Yaw          :   3.045676\n",
      " - Pitch        :   6.192912\n",
      " - Roll         :   2.314479\n",
      " - RMS          :   4.202583\n",
      " - 99% Tile     :  19.469114\n",
      "Save output signals into checkpoint/1122-Scene3-CLSTM-win48/sample/0016.npy\n"
     ]
    },
    {
     "name": "stderr",
     "output_type": "stream",
     "text": [
      "[0017/0100] Train: 100%|██████████████████████████████| 74/74 [00:03<00:00, 18.68it/s, loss 33.1634]\n",
      "[0017/0100] Validation: 100%|█████████████████████| 71/71 [00:02<00:00, 32.17it/s, val_loss 30.5968]\n",
      "[0018/0100] Train:   0%|                                                     | 0/74 [00:00<?, ?it/s]"
     ]
    },
    {
     "name": "stdout",
     "output_type": "stream",
     "text": [
      "                  validation\n",
      " - Yaw          :   3.034515\n",
      " - Pitch        :   6.064307\n",
      " - Roll         :   2.336569\n",
      " - RMS          :   4.141000\n",
      " - 99% Tile     :  19.606613\n",
      "Save output signals into checkpoint/1122-Scene3-CLSTM-win48/sample/0017.npy\n"
     ]
    },
    {
     "name": "stderr",
     "output_type": "stream",
     "text": [
      "[0018/0100] Train: 100%|██████████████████████████████| 74/74 [00:03<00:00, 18.51it/s, loss 31.7955]\n",
      "[0018/0100] Validation: 100%|█████████████████████| 71/71 [00:02<00:00, 32.09it/s, val_loss 30.8213]\n",
      "[0019/0100] Train:   0%|                                                     | 0/74 [00:00<?, ?it/s]"
     ]
    },
    {
     "name": "stdout",
     "output_type": "stream",
     "text": [
      "val_loss is not improved for 1 epochs\n",
      "                  validation\n",
      " - Yaw          :   2.924109\n",
      " - Pitch        :   6.145806\n",
      " - Roll         :   2.333309\n",
      " - RMS          :   4.153941\n",
      " - 99% Tile     :  19.522169\n",
      "Save output signals into checkpoint/1122-Scene3-CLSTM-win48/sample/0018.npy\n"
     ]
    },
    {
     "name": "stderr",
     "output_type": "stream",
     "text": [
      "[0019/0100] Train: 100%|██████████████████████████████| 74/74 [00:04<00:00, 18.47it/s, loss 31.0771]\n",
      "[0019/0100] Validation: 100%|█████████████████████| 71/71 [00:02<00:00, 33.25it/s, val_loss 30.6015]\n",
      "[0020/0100] Train:   0%|                                                     | 0/74 [00:00<?, ?it/s]"
     ]
    },
    {
     "name": "stdout",
     "output_type": "stream",
     "text": [
      "val_loss is not improved for 2 epochs\n",
      "                  validation\n",
      " - Yaw          :   2.948281\n",
      " - Pitch        :   6.081635\n",
      " - Roll         :   2.317464\n",
      " - RMS          :   4.125097\n",
      " - 99% Tile     :  19.647430\n",
      "Save output signals into checkpoint/1122-Scene3-CLSTM-win48/sample/0019.npy\n"
     ]
    },
    {
     "name": "stderr",
     "output_type": "stream",
     "text": [
      "[0020/0100] Train: 100%|██████████████████████████████| 74/74 [00:04<00:00, 18.31it/s, loss 30.4712]\n",
      "[0020/0100] Validation: 100%|█████████████████████| 71/71 [00:02<00:00, 32.13it/s, val_loss 30.6178]\n",
      "[0021/0100] Train:   0%|                                                     | 0/74 [00:00<?, ?it/s]"
     ]
    },
    {
     "name": "stdout",
     "output_type": "stream",
     "text": [
      "val_loss is not improved for 3 epochs\n",
      "                  validation\n",
      " - Yaw          :   2.983460\n",
      " - Pitch        :   6.083443\n",
      " - Roll         :   2.309419\n",
      " - RMS          :   4.132905\n",
      " - 99% Tile     :  19.819198\n",
      "Save output signals into checkpoint/1122-Scene3-CLSTM-win48/sample/0020.npy\n"
     ]
    },
    {
     "name": "stderr",
     "output_type": "stream",
     "text": [
      "[0021/0100] Train: 100%|██████████████████████████████| 74/74 [00:03<00:00, 18.67it/s, loss 30.2811]\n",
      "[0021/0100] Validation: 100%|█████████████████████| 71/71 [00:02<00:00, 32.94it/s, val_loss 30.0955]\n",
      "[0022/0100] Train:   0%|                                                     | 0/74 [00:00<?, ?it/s]"
     ]
    },
    {
     "name": "stdout",
     "output_type": "stream",
     "text": [
      "                  validation\n",
      " - Yaw          :   2.962034\n",
      " - Pitch        :   5.935708\n",
      " - Roll         :   2.344042\n",
      " - RMS          :   4.062053\n",
      " - 99% Tile     :  19.679989\n",
      "Save output signals into checkpoint/1122-Scene3-CLSTM-win48/sample/0021.npy\n"
     ]
    },
    {
     "name": "stderr",
     "output_type": "stream",
     "text": [
      "[0022/0100] Train: 100%|██████████████████████████████| 74/74 [00:03<00:00, 18.54it/s, loss 32.9293]\n",
      "[0022/0100] Validation: 100%|█████████████████████| 71/71 [00:02<00:00, 33.21it/s, val_loss 36.8338]\n",
      "[0023/0100] Train:   0%|                                                     | 0/74 [00:00<?, ?it/s]"
     ]
    },
    {
     "name": "stdout",
     "output_type": "stream",
     "text": [
      "val_loss is not improved for 1 epochs\n",
      "                  validation\n",
      " - Yaw          :   3.677517\n",
      " - Pitch        :   6.485047\n",
      " - Roll         :   2.360797\n",
      " - RMS          :   4.514914\n",
      " - 99% Tile     :  22.167858\n",
      "Save output signals into checkpoint/1122-Scene3-CLSTM-win48/sample/0022.npy\n"
     ]
    },
    {
     "name": "stderr",
     "output_type": "stream",
     "text": [
      "[0023/0100] Train: 100%|██████████████████████████████| 74/74 [00:04<00:00, 18.30it/s, loss 30.6834]\n",
      "[0023/0100] Validation: 100%|█████████████████████| 71/71 [00:02<00:00, 33.07it/s, val_loss 30.3505]\n",
      "[0024/0100] Train:   0%|                                                     | 0/74 [00:00<?, ?it/s]"
     ]
    },
    {
     "name": "stdout",
     "output_type": "stream",
     "text": [
      "val_loss is not improved for 2 epochs\n",
      "                  validation\n",
      " - Yaw          :   2.665481\n",
      " - Pitch        :   6.176372\n",
      " - Roll         :   2.309101\n",
      " - RMS          :   4.106268\n",
      " - 99% Tile     :  19.989214\n",
      "Save output signals into checkpoint/1122-Scene3-CLSTM-win48/sample/0023.npy\n"
     ]
    },
    {
     "name": "stderr",
     "output_type": "stream",
     "text": [
      "[0024/0100] Train: 100%|██████████████████████████████| 74/74 [00:04<00:00, 18.13it/s, loss 28.4917]\n",
      "[0024/0100] Validation: 100%|█████████████████████| 71/71 [00:02<00:00, 32.37it/s, val_loss 29.8724]\n",
      "[0025/0100] Train:   0%|                                                     | 0/74 [00:00<?, ?it/s]"
     ]
    },
    {
     "name": "stdout",
     "output_type": "stream",
     "text": [
      "                  validation\n",
      " - Yaw          :   2.631604\n",
      " - Pitch        :   6.093563\n",
      " - Roll         :   2.317207\n",
      " - RMS          :   4.058994\n",
      " - 99% Tile     :  20.098766\n",
      "Save output signals into checkpoint/1122-Scene3-CLSTM-win48/sample/0024.npy\n"
     ]
    },
    {
     "name": "stderr",
     "output_type": "stream",
     "text": [
      "[0025/0100] Train: 100%|██████████████████████████████| 74/74 [00:03<00:00, 18.75it/s, loss 28.0862]\n",
      "[0025/0100] Validation: 100%|█████████████████████| 71/71 [00:02<00:00, 32.62it/s, val_loss 29.6622]\n",
      "[0026/0100] Train:   0%|                                                     | 0/74 [00:00<?, ?it/s]"
     ]
    },
    {
     "name": "stdout",
     "output_type": "stream",
     "text": [
      "                  validation\n",
      " - Yaw          :   2.755399\n",
      " - Pitch        :   5.990181\n",
      " - Roll         :   2.316038\n",
      " - RMS          :   4.034787\n",
      " - 99% Tile     :  19.921750\n",
      "Save output signals into checkpoint/1122-Scene3-CLSTM-win48/sample/0025.npy\n"
     ]
    },
    {
     "name": "stderr",
     "output_type": "stream",
     "text": [
      "[0026/0100] Train: 100%|██████████████████████████████| 74/74 [00:04<00:00, 18.32it/s, loss 27.5265]\n",
      "[0026/0100] Validation: 100%|█████████████████████| 71/71 [00:02<00:00, 32.77it/s, val_loss 30.1731]\n",
      "[0027/0100] Train:   0%|                                                     | 0/74 [00:00<?, ?it/s]"
     ]
    },
    {
     "name": "stdout",
     "output_type": "stream",
     "text": [
      "val_loss is not improved for 1 epochs\n",
      "                  validation\n",
      " - Yaw          :   2.771437\n",
      " - Pitch        :   6.062458\n",
      " - Roll         :   2.287219\n",
      " - RMS          :   4.068809\n",
      " - 99% Tile     :  19.705083\n",
      "Save output signals into checkpoint/1122-Scene3-CLSTM-win48/sample/0026.npy\n"
     ]
    },
    {
     "name": "stderr",
     "output_type": "stream",
     "text": [
      "[0027/0100] Train: 100%|██████████████████████████████| 74/74 [00:03<00:00, 19.25it/s, loss 27.2175]\n",
      "[0027/0100] Validation: 100%|█████████████████████| 71/71 [00:02<00:00, 32.43it/s, val_loss 29.2205]\n",
      "[0028/0100] Train:   0%|                                                     | 0/74 [00:00<?, ?it/s]"
     ]
    },
    {
     "name": "stdout",
     "output_type": "stream",
     "text": [
      "                  validation\n",
      " - Yaw          :   2.420056\n",
      " - Pitch        :   6.002973\n",
      " - Roll         :   2.317384\n",
      " - RMS          :   3.969157\n",
      " - 99% Tile     :  20.300619\n",
      "Save output signals into checkpoint/1122-Scene3-CLSTM-win48/sample/0027.npy\n"
     ]
    },
    {
     "name": "stderr",
     "output_type": "stream",
     "text": [
      "[0028/0100] Train: 100%|██████████████████████████████| 74/74 [00:04<00:00, 18.16it/s, loss 27.4194]\n",
      "[0028/0100] Validation: 100%|█████████████████████| 71/71 [00:02<00:00, 32.70it/s, val_loss 30.1295]\n",
      "[0029/0100] Train:   0%|                                                     | 0/74 [00:00<?, ?it/s]"
     ]
    },
    {
     "name": "stdout",
     "output_type": "stream",
     "text": [
      "val_loss is not improved for 1 epochs\n",
      "                  validation\n",
      " - Yaw          :   2.961272\n",
      " - Pitch        :   5.934949\n",
      " - Roll         :   2.319242\n",
      " - RMS          :   4.056748\n",
      " - 99% Tile     :  20.374609\n",
      "Save output signals into checkpoint/1122-Scene3-CLSTM-win48/sample/0028.npy\n"
     ]
    },
    {
     "name": "stderr",
     "output_type": "stream",
     "text": [
      "[0029/0100] Train: 100%|██████████████████████████████| 74/74 [00:04<00:00, 18.31it/s, loss 27.7333]\n",
      "[0029/0100] Validation: 100%|█████████████████████| 71/71 [00:02<00:00, 32.99it/s, val_loss 34.4986]\n",
      "[0030/0100] Train:   0%|                                                     | 0/74 [00:00<?, ?it/s]"
     ]
    },
    {
     "name": "stdout",
     "output_type": "stream",
     "text": [
      "val_loss is not improved for 2 epochs\n",
      "                  validation\n",
      " - Yaw          :   3.616329\n",
      " - Pitch        :   5.917207\n",
      " - Roll         :   2.335934\n",
      " - RMS          :   4.224838\n",
      " - 99% Tile     :  19.908648\n",
      "Save output signals into checkpoint/1122-Scene3-CLSTM-win48/sample/0029.npy\n"
     ]
    },
    {
     "name": "stderr",
     "output_type": "stream",
     "text": [
      "[0030/0100] Train: 100%|██████████████████████████████| 74/74 [00:04<00:00, 18.16it/s, loss 26.9088]\n",
      "[0030/0100] Validation: 100%|█████████████████████| 71/71 [00:02<00:00, 33.74it/s, val_loss 35.2619]\n",
      "[0031/0100] Train:   0%|                                                     | 0/74 [00:00<?, ?it/s]"
     ]
    },
    {
     "name": "stdout",
     "output_type": "stream",
     "text": [
      "val_loss is not improved for 3 epochs\n",
      "                  validation\n",
      " - Yaw          :   3.597158\n",
      " - Pitch        :   5.993666\n",
      " - Roll         :   2.352694\n",
      " - RMS          :   4.258276\n",
      " - 99% Tile     :  20.373804\n",
      "Save output signals into checkpoint/1122-Scene3-CLSTM-win48/sample/0030.npy\n"
     ]
    },
    {
     "name": "stderr",
     "output_type": "stream",
     "text": [
      "[0031/0100] Train: 100%|██████████████████████████████| 74/74 [00:04<00:00, 18.16it/s, loss 30.7960]\n",
      "[0031/0100] Validation: 100%|█████████████████████| 71/71 [00:02<00:00, 32.68it/s, val_loss 32.1599]\n",
      "[0032/0100] Train:   0%|                                                     | 0/74 [00:00<?, ?it/s]"
     ]
    },
    {
     "name": "stdout",
     "output_type": "stream",
     "text": [
      "val_loss is not improved for 4 epochs\n",
      "                  validation\n",
      " - Yaw          :   2.858723\n",
      " - Pitch        :   6.147653\n",
      " - Roll         :   2.292778\n",
      " - RMS          :   4.132101\n",
      " - 99% Tile     :  21.515387\n",
      "Save output signals into checkpoint/1122-Scene3-CLSTM-win48/sample/0031.npy\n"
     ]
    },
    {
     "name": "stderr",
     "output_type": "stream",
     "text": [
      "[0032/0100] Train: 100%|██████████████████████████████| 74/74 [00:03<00:00, 18.62it/s, loss 27.9099]\n",
      "[0032/0100] Validation: 100%|█████████████████████| 71/71 [00:02<00:00, 33.04it/s, val_loss 29.5522]\n",
      "[0033/0100] Train:   0%|                                                     | 0/74 [00:00<?, ?it/s]"
     ]
    },
    {
     "name": "stdout",
     "output_type": "stream",
     "text": [
      "Decaying lr from 0.001 to 0.0005 because val_loss did not improved for 5 epochs\n",
      "val_loss is not improved for 5 epochs\n",
      "                  validation\n",
      " - Yaw          :   2.985336\n",
      " - Pitch        :   5.844554\n",
      " - Roll         :   2.305117\n",
      " - RMS          :   4.015993\n",
      " - 99% Tile     :  18.914950\n",
      "Save output signals into checkpoint/1122-Scene3-CLSTM-win48/sample/0032.npy\n"
     ]
    },
    {
     "name": "stderr",
     "output_type": "stream",
     "text": [
      "[0033/0100] Train: 100%|██████████████████████████████| 74/74 [00:03<00:00, 18.66it/s, loss 32.2459]\n",
      "[0033/0100] Validation: 100%|█████████████████████| 71/71 [00:02<00:00, 32.54it/s, val_loss 30.4738]\n",
      "[0034/0100] Train:   0%|                                                     | 0/74 [00:00<?, ?it/s]"
     ]
    },
    {
     "name": "stdout",
     "output_type": "stream",
     "text": [
      "val_loss is not improved for 6 epochs\n",
      "                  validation\n",
      " - Yaw          :   2.675001\n",
      " - Pitch        :   5.984231\n",
      " - Roll         :   2.319732\n",
      " - RMS          :   4.014466\n",
      " - 99% Tile     :  20.693001\n",
      "Save output signals into checkpoint/1122-Scene3-CLSTM-win48/sample/0033.npy\n"
     ]
    },
    {
     "name": "stderr",
     "output_type": "stream",
     "text": [
      "[0034/0100] Train: 100%|██████████████████████████████| 74/74 [00:03<00:00, 18.70it/s, loss 25.6253]\n",
      "[0034/0100] Validation: 100%|█████████████████████| 71/71 [00:02<00:00, 33.40it/s, val_loss 27.0337]\n",
      "[0035/0100] Train:   0%|                                                     | 0/74 [00:00<?, ?it/s]"
     ]
    },
    {
     "name": "stdout",
     "output_type": "stream",
     "text": [
      "                  validation\n",
      " - Yaw          :   2.586200\n",
      " - Pitch        :   5.347366\n",
      " - Roll         :   2.325115\n",
      " - RMS          :   3.682794\n",
      " - 99% Tile     :  19.469408\n",
      "Save output signals into checkpoint/1122-Scene3-CLSTM-win48/sample/0034.npy\n"
     ]
    },
    {
     "name": "stderr",
     "output_type": "stream",
     "text": [
      "[0035/0100] Train: 100%|██████████████████████████████| 74/74 [00:04<00:00, 17.82it/s, loss 23.2077]\n",
      "[0035/0100] Validation: 100%|█████████████████████| 71/71 [00:02<00:00, 33.83it/s, val_loss 30.7993]\n",
      "[0036/0100] Train:   0%|                                                     | 0/74 [00:00<?, ?it/s]"
     ]
    },
    {
     "name": "stdout",
     "output_type": "stream",
     "text": [
      "val_loss is not improved for 1 epochs\n",
      "                  validation\n",
      " - Yaw          :   4.177138\n",
      " - Pitch        :   5.058820\n",
      " - Roll         :   2.346757\n",
      " - RMS          :   4.022744\n",
      " - 99% Tile     :  18.993517\n",
      "Save output signals into checkpoint/1122-Scene3-CLSTM-win48/sample/0035.npy\n"
     ]
    },
    {
     "name": "stderr",
     "output_type": "stream",
     "text": [
      "[0036/0100] Train: 100%|██████████████████████████████| 74/74 [00:04<00:00, 17.91it/s, loss 24.2391]\n",
      "[0036/0100] Validation: 100%|█████████████████████| 71/71 [00:02<00:00, 33.47it/s, val_loss 20.8159]\n",
      "[0037/0100] Train:   0%|                                                     | 0/74 [00:00<?, ?it/s]"
     ]
    },
    {
     "name": "stdout",
     "output_type": "stream",
     "text": [
      "                  validation\n",
      " - Yaw          :   2.373602\n",
      " - Pitch        :   4.160264\n",
      " - Roll         :   2.310591\n",
      " - RMS          :   3.070321\n",
      " - 99% Tile     :  17.082427\n",
      "Save output signals into checkpoint/1122-Scene3-CLSTM-win48/sample/0036.npy\n"
     ]
    },
    {
     "name": "stderr",
     "output_type": "stream",
     "text": [
      "[0037/0100] Train: 100%|██████████████████████████████| 74/74 [00:03<00:00, 18.55it/s, loss 23.9468]\n",
      "[0037/0100] Validation: 100%|█████████████████████| 71/71 [00:02<00:00, 33.60it/s, val_loss 21.9166]\n",
      "[0038/0100] Train:   0%|                                                     | 0/74 [00:00<?, ?it/s]"
     ]
    },
    {
     "name": "stdout",
     "output_type": "stream",
     "text": [
      "val_loss is not improved for 1 epochs\n",
      "                  validation\n",
      " - Yaw          :   2.960800\n",
      " - Pitch        :   4.142386\n",
      " - Roll         :   2.325512\n",
      " - RMS          :   3.231806\n",
      " - 99% Tile     :  17.478733\n",
      "Save output signals into checkpoint/1122-Scene3-CLSTM-win48/sample/0037.npy\n"
     ]
    },
    {
     "name": "stderr",
     "output_type": "stream",
     "text": [
      "[0038/0100] Train: 100%|██████████████████████████████| 74/74 [00:04<00:00, 18.19it/s, loss 18.9284]\n",
      "[0038/0100] Validation: 100%|█████████████████████| 71/71 [00:02<00:00, 32.22it/s, val_loss 17.4169]\n",
      "[0039/0100] Train:   0%|                                                     | 0/74 [00:00<?, ?it/s]"
     ]
    },
    {
     "name": "stdout",
     "output_type": "stream",
     "text": [
      "                  validation\n",
      " - Yaw          :   2.379352\n",
      " - Pitch        :   3.596884\n",
      " - Roll         :   2.319544\n",
      " - RMS          :   2.827200\n",
      " - 99% Tile     :  14.851099\n",
      "Save output signals into checkpoint/1122-Scene3-CLSTM-win48/sample/0038.npy\n"
     ]
    },
    {
     "name": "stderr",
     "output_type": "stream",
     "text": [
      "[0039/0100] Train: 100%|██████████████████████████████| 74/74 [00:04<00:00, 17.45it/s, loss 19.2426]\n",
      "[0039/0100] Validation: 100%|█████████████████████| 71/71 [00:02<00:00, 31.93it/s, val_loss 25.7849]\n",
      "[0040/0100] Train:   0%|                                                     | 0/74 [00:00<?, ?it/s]"
     ]
    },
    {
     "name": "stdout",
     "output_type": "stream",
     "text": [
      "val_loss is not improved for 1 epochs\n",
      "                  validation\n",
      " - Yaw          :   3.686154\n",
      " - Pitch        :   4.010361\n",
      " - Roll         :   2.293226\n",
      " - RMS          :   3.412214\n",
      " - 99% Tile     :  17.562386\n",
      "Save output signals into checkpoint/1122-Scene3-CLSTM-win48/sample/0039.npy\n"
     ]
    },
    {
     "name": "stderr",
     "output_type": "stream",
     "text": [
      "[0040/0100] Train: 100%|██████████████████████████████| 74/74 [00:04<00:00, 18.08it/s, loss 20.4049]\n",
      "[0040/0100] Validation: 100%|█████████████████████| 71/71 [00:02<00:00, 32.92it/s, val_loss 17.0591]\n",
      "[0041/0100] Train:   0%|                                                     | 0/74 [00:00<?, ?it/s]"
     ]
    },
    {
     "name": "stdout",
     "output_type": "stream",
     "text": [
      "                  validation\n",
      " - Yaw          :   2.625748\n",
      " - Pitch        :   3.162503\n",
      " - Roll         :   2.297263\n",
      " - RMS          :   2.718663\n",
      " - 99% Tile     :  14.738822\n",
      "Save output signals into checkpoint/1122-Scene3-CLSTM-win48/sample/0040.npy\n"
     ]
    },
    {
     "name": "stderr",
     "output_type": "stream",
     "text": [
      "[0041/0100] Train: 100%|██████████████████████████████| 74/74 [00:04<00:00, 18.00it/s, loss 15.6065]\n",
      "[0041/0100] Validation: 100%|█████████████████████| 71/71 [00:02<00:00, 32.06it/s, val_loss 12.6786]\n",
      "[0042/0100] Train:   0%|                                                     | 0/74 [00:00<?, ?it/s]"
     ]
    },
    {
     "name": "stdout",
     "output_type": "stream",
     "text": [
      "                  validation\n",
      " - Yaw          :   2.154722\n",
      " - Pitch        :   2.753553\n",
      " - Roll         :   2.284188\n",
      " - RMS          :   2.411251\n",
      " - 99% Tile     :  12.534565\n",
      "Save output signals into checkpoint/1122-Scene3-CLSTM-win48/sample/0041.npy\n"
     ]
    },
    {
     "name": "stderr",
     "output_type": "stream",
     "text": [
      "[0042/0100] Train: 100%|██████████████████████████████| 74/74 [00:04<00:00, 18.43it/s, loss 13.1937]\n",
      "[0042/0100] Validation: 100%|█████████████████████| 71/71 [00:02<00:00, 31.68it/s, val_loss 10.7637]\n",
      "[0043/0100] Train:   0%|                                                     | 0/74 [00:00<?, ?it/s]"
     ]
    },
    {
     "name": "stdout",
     "output_type": "stream",
     "text": [
      "                  validation\n",
      " - Yaw          :   1.801281\n",
      " - Pitch        :   2.463323\n",
      " - Roll         :   2.297468\n",
      " - RMS          :   2.205367\n",
      " - 99% Tile     :  11.866633\n",
      "Save output signals into checkpoint/1122-Scene3-CLSTM-win48/sample/0042.npy\n"
     ]
    },
    {
     "name": "stderr",
     "output_type": "stream",
     "text": [
      "[0043/0100] Train: 100%|██████████████████████████████| 74/74 [00:04<00:00, 18.32it/s, loss 12.2374]\n",
      "[0043/0100] Validation: 100%|█████████████████████| 71/71 [00:02<00:00, 32.43it/s, val_loss 10.1610]\n",
      "[0044/0100] Train:   0%|                                                     | 0/74 [00:00<?, ?it/s]"
     ]
    },
    {
     "name": "stdout",
     "output_type": "stream",
     "text": [
      "                  validation\n",
      " - Yaw          :   1.758288\n",
      " - Pitch        :   2.483123\n",
      " - Roll         :   2.210871\n",
      " - RMS          :   2.171438\n",
      " - 99% Tile     :  11.577176\n",
      "Save output signals into checkpoint/1122-Scene3-CLSTM-win48/sample/0043.npy\n"
     ]
    },
    {
     "name": "stderr",
     "output_type": "stream",
     "text": [
      "[0044/0100] Train: 100%|██████████████████████████████| 74/74 [00:04<00:00, 17.61it/s, loss 11.2439]\n",
      "[0044/0100] Validation: 100%|██████████████████████| 71/71 [00:02<00:00, 31.71it/s, val_loss 9.2002]\n",
      "[0045/0100] Train:   0%|                                                     | 0/74 [00:00<?, ?it/s]"
     ]
    },
    {
     "name": "stdout",
     "output_type": "stream",
     "text": [
      "                  validation\n",
      " - Yaw          :   1.792635\n",
      " - Pitch        :   2.045374\n",
      " - Roll         :   2.230273\n",
      " - RMS          :   2.030699\n",
      " - 99% Tile     :  11.021274\n",
      "Save output signals into checkpoint/1122-Scene3-CLSTM-win48/sample/0044.npy\n"
     ]
    },
    {
     "name": "stderr",
     "output_type": "stream",
     "text": [
      "[0045/0100] Train: 100%|██████████████████████████████| 74/74 [00:04<00:00, 17.11it/s, loss 10.8656]\n",
      "[0045/0100] Validation: 100%|██████████████████████| 71/71 [00:02<00:00, 30.99it/s, val_loss 8.9013]\n",
      "[0046/0100] Train:   0%|                                                     | 0/74 [00:00<?, ?it/s]"
     ]
    },
    {
     "name": "stdout",
     "output_type": "stream",
     "text": [
      "                  validation\n",
      " - Yaw          :   1.534613\n",
      " - Pitch        :   2.246724\n",
      " - Roll         :   2.229671\n",
      " - RMS          :   2.030947\n",
      " - 99% Tile     :  10.426224\n",
      "Save output signals into checkpoint/1122-Scene3-CLSTM-win48/sample/0045.npy\n"
     ]
    },
    {
     "name": "stderr",
     "output_type": "stream",
     "text": [
      "[0046/0100] Train: 100%|██████████████████████████████| 74/74 [00:04<00:00, 18.08it/s, loss 10.4550]\n",
      "[0046/0100] Validation: 100%|██████████████████████| 71/71 [00:02<00:00, 30.58it/s, val_loss 9.4085]\n",
      "[0047/0100] Train:   0%|                                                     | 0/74 [00:00<?, ?it/s]"
     ]
    },
    {
     "name": "stdout",
     "output_type": "stream",
     "text": [
      "val_loss is not improved for 1 epochs\n",
      "                  validation\n",
      " - Yaw          :   2.064270\n",
      " - Pitch        :   1.994685\n",
      " - Roll         :   2.196491\n",
      " - RMS          :   2.086828\n",
      " - 99% Tile     :  10.848265\n",
      "Save output signals into checkpoint/1122-Scene3-CLSTM-win48/sample/0046.npy\n"
     ]
    },
    {
     "name": "stderr",
     "output_type": "stream",
     "text": [
      "[0047/0100] Train: 100%|██████████████████████████████| 74/74 [00:04<00:00, 17.79it/s, loss 10.2165]\n",
      "[0047/0100] Validation: 100%|██████████████████████| 71/71 [00:02<00:00, 32.36it/s, val_loss 8.5035]\n",
      "[0048/0100] Train:   0%|                                                     | 0/74 [00:00<?, ?it/s]"
     ]
    },
    {
     "name": "stdout",
     "output_type": "stream",
     "text": [
      "                  validation\n",
      " - Yaw          :   1.558756\n",
      " - Pitch        :   2.341578\n",
      " - Roll         :   2.177926\n",
      " - RMS          :   2.053945\n",
      " - 99% Tile     :   9.878286\n",
      "Save output signals into checkpoint/1122-Scene3-CLSTM-win48/sample/0047.npy\n"
     ]
    },
    {
     "name": "stderr",
     "output_type": "stream",
     "text": [
      "[0048/0100] Train: 100%|███████████████████████████████| 74/74 [00:04<00:00, 17.51it/s, loss 9.5819]\n",
      "[0048/0100] Validation: 100%|██████████████████████| 71/71 [00:02<00:00, 31.86it/s, val_loss 8.4412]\n",
      "[0049/0100] Train:   0%|                                                     | 0/74 [00:00<?, ?it/s]"
     ]
    },
    {
     "name": "stdout",
     "output_type": "stream",
     "text": [
      "                  validation\n",
      " - Yaw          :   1.980680\n",
      " - Pitch        :   1.877215\n",
      " - Roll         :   2.208096\n",
      " - RMS          :   2.026715\n",
      " - 99% Tile     :   9.831652\n",
      "Save output signals into checkpoint/1122-Scene3-CLSTM-win48/sample/0048.npy\n"
     ]
    },
    {
     "name": "stderr",
     "output_type": "stream",
     "text": [
      "[0049/0100] Train: 100%|███████████████████████████████| 74/74 [00:04<00:00, 18.15it/s, loss 9.5534]\n",
      "[0049/0100] Validation: 100%|██████████████████████| 71/71 [00:02<00:00, 31.41it/s, val_loss 8.6853]\n",
      "[0050/0100] Train:   0%|                                                     | 0/74 [00:00<?, ?it/s]"
     ]
    },
    {
     "name": "stdout",
     "output_type": "stream",
     "text": [
      "val_loss is not improved for 1 epochs\n",
      "                  validation\n",
      " - Yaw          :   1.548569\n",
      " - Pitch        :   2.044834\n",
      " - Roll         :   2.148321\n",
      " - RMS          :   1.931726\n",
      " - 99% Tile     :   9.950045\n",
      "Save output signals into checkpoint/1122-Scene3-CLSTM-win48/sample/0049.npy\n"
     ]
    },
    {
     "name": "stderr",
     "output_type": "stream",
     "text": [
      "[0050/0100] Train: 100%|███████████████████████████████| 74/74 [00:04<00:00, 18.12it/s, loss 9.3527]\n",
      "[0050/0100] Validation: 100%|██████████████████████| 71/71 [00:02<00:00, 33.02it/s, val_loss 9.7496]\n",
      "[0051/0100] Train:   0%|                                                     | 0/74 [00:00<?, ?it/s]"
     ]
    },
    {
     "name": "stdout",
     "output_type": "stream",
     "text": [
      "val_loss is not improved for 2 epochs\n",
      "                  validation\n",
      " - Yaw          :   2.174184\n",
      " - Pitch        :   1.887997\n",
      " - Roll         :   2.249123\n",
      " - RMS          :   2.109515\n",
      " - 99% Tile     :  11.337106\n",
      "Save output signals into checkpoint/1122-Scene3-CLSTM-win48/sample/0050.npy\n"
     ]
    },
    {
     "name": "stderr",
     "output_type": "stream",
     "text": [
      "[0051/0100] Train: 100%|███████████████████████████████| 74/74 [00:04<00:00, 18.26it/s, loss 9.5029]\n",
      "[0051/0100] Validation: 100%|██████████████████████| 71/71 [00:02<00:00, 31.54it/s, val_loss 8.3080]\n",
      "[0052/0100] Train:   0%|                                                     | 0/74 [00:00<?, ?it/s]"
     ]
    },
    {
     "name": "stdout",
     "output_type": "stream",
     "text": [
      "                  validation\n",
      " - Yaw          :   1.635414\n",
      " - Pitch        :   1.685606\n",
      " - Roll         :   2.225566\n",
      " - RMS          :   1.868064\n",
      " - 99% Tile     :  10.523725\n",
      "Save output signals into checkpoint/1122-Scene3-CLSTM-win48/sample/0051.npy\n"
     ]
    },
    {
     "name": "stderr",
     "output_type": "stream",
     "text": [
      "[0052/0100] Train: 100%|███████████████████████████████| 74/74 [00:04<00:00, 17.68it/s, loss 8.4092]\n",
      "[0052/0100] Validation: 100%|██████████████████████| 71/71 [00:02<00:00, 31.85it/s, val_loss 7.3515]\n",
      "[0053/0100] Train:   0%|                                                     | 0/74 [00:00<?, ?it/s]"
     ]
    },
    {
     "name": "stdout",
     "output_type": "stream",
     "text": [
      "                  validation\n",
      " - Yaw          :   1.524509\n",
      " - Pitch        :   1.593370\n",
      " - Roll         :   2.216624\n",
      " - RMS          :   1.805212\n",
      " - 99% Tile     :   9.574401\n",
      "Save output signals into checkpoint/1122-Scene3-CLSTM-win48/sample/0052.npy\n"
     ]
    },
    {
     "name": "stderr",
     "output_type": "stream",
     "text": [
      "[0053/0100] Train: 100%|███████████████████████████████| 74/74 [00:04<00:00, 17.75it/s, loss 7.8574]\n",
      "[0053/0100] Validation: 100%|██████████████████████| 71/71 [00:02<00:00, 32.35it/s, val_loss 8.1261]\n",
      "[0054/0100] Train:   0%|                                                     | 0/74 [00:00<?, ?it/s]"
     ]
    },
    {
     "name": "stdout",
     "output_type": "stream",
     "text": [
      "val_loss is not improved for 1 epochs\n",
      "                  validation\n",
      " - Yaw          :   1.872717\n",
      " - Pitch        :   1.602254\n",
      " - Roll         :   2.205323\n",
      " - RMS          :   1.909428\n",
      " - 99% Tile     :   9.741246\n",
      "Save output signals into checkpoint/1122-Scene3-CLSTM-win48/sample/0053.npy\n"
     ]
    },
    {
     "name": "stderr",
     "output_type": "stream",
     "text": [
      "[0054/0100] Train: 100%|███████████████████████████████| 74/74 [00:04<00:00, 17.60it/s, loss 8.2432]\n",
      "[0054/0100] Validation: 100%|██████████████████████| 71/71 [00:02<00:00, 32.02it/s, val_loss 7.2987]\n",
      "[0055/0100] Train:   0%|                                                     | 0/74 [00:00<?, ?it/s]"
     ]
    },
    {
     "name": "stdout",
     "output_type": "stream",
     "text": [
      "                  validation\n",
      " - Yaw          :   1.526535\n",
      " - Pitch        :   1.582777\n",
      " - Roll         :   2.191323\n",
      " - RMS          :   1.792334\n",
      " - 99% Tile     :   9.601750\n",
      "Save output signals into checkpoint/1122-Scene3-CLSTM-win48/sample/0054.npy\n"
     ]
    },
    {
     "name": "stderr",
     "output_type": "stream",
     "text": [
      "[0055/0100] Train: 100%|███████████████████████████████| 74/74 [00:04<00:00, 17.80it/s, loss 7.8600]\n",
      "[0055/0100] Validation: 100%|██████████████████████| 71/71 [00:02<00:00, 31.12it/s, val_loss 7.8096]\n",
      "[0056/0100] Train:   0%|                                                     | 0/74 [00:00<?, ?it/s]"
     ]
    },
    {
     "name": "stdout",
     "output_type": "stream",
     "text": [
      "val_loss is not improved for 1 epochs\n",
      "                  validation\n",
      " - Yaw          :   1.503262\n",
      " - Pitch        :   2.278411\n",
      " - Roll         :   2.140963\n",
      " - RMS          :   2.002888\n",
      " - 99% Tile     :   9.510080\n",
      "Save output signals into checkpoint/1122-Scene3-CLSTM-win48/sample/0055.npy\n"
     ]
    },
    {
     "name": "stderr",
     "output_type": "stream",
     "text": [
      "[0056/0100] Train: 100%|███████████████████████████████| 74/74 [00:04<00:00, 17.43it/s, loss 7.7076]\n",
      "[0056/0100] Validation: 100%|██████████████████████| 71/71 [00:02<00:00, 31.29it/s, val_loss 6.8573]\n",
      "[0057/0100] Train:   0%|                                                     | 0/74 [00:00<?, ?it/s]"
     ]
    },
    {
     "name": "stdout",
     "output_type": "stream",
     "text": [
      "                  validation\n",
      " - Yaw          :   1.396292\n",
      " - Pitch        :   1.634349\n",
      " - Roll         :   2.168541\n",
      " - RMS          :   1.762885\n",
      " - 99% Tile     :   9.030087\n",
      "Save output signals into checkpoint/1122-Scene3-CLSTM-win48/sample/0056.npy\n"
     ]
    },
    {
     "name": "stderr",
     "output_type": "stream",
     "text": [
      "[0057/0100] Train: 100%|███████████████████████████████| 74/74 [00:04<00:00, 18.00it/s, loss 7.5209]\n",
      "[0057/0100] Validation: 100%|██████████████████████| 71/71 [00:02<00:00, 30.53it/s, val_loss 6.6298]\n",
      "[0058/0100] Train:   0%|                                                     | 0/74 [00:00<?, ?it/s]"
     ]
    },
    {
     "name": "stdout",
     "output_type": "stream",
     "text": [
      "                  validation\n",
      " - Yaw          :   1.298258\n",
      " - Pitch        :   1.486044\n",
      " - Roll         :   2.160645\n",
      " - RMS          :   1.689397\n",
      " - 99% Tile     :   9.099840\n",
      "Save output signals into checkpoint/1122-Scene3-CLSTM-win48/sample/0057.npy\n"
     ]
    },
    {
     "name": "stderr",
     "output_type": "stream",
     "text": [
      "[0058/0100] Train: 100%|███████████████████████████████| 74/74 [00:04<00:00, 17.65it/s, loss 8.0827]\n",
      "[0058/0100] Validation: 100%|██████████████████████| 71/71 [00:02<00:00, 31.92it/s, val_loss 8.2176]\n",
      "[0059/0100] Train:   0%|                                                     | 0/74 [00:00<?, ?it/s]"
     ]
    },
    {
     "name": "stdout",
     "output_type": "stream",
     "text": [
      "val_loss is not improved for 1 epochs\n",
      "                  validation\n",
      " - Yaw          :   1.737826\n",
      " - Pitch        :   2.051944\n",
      " - Roll         :   2.182115\n",
      " - RMS          :   1.999345\n",
      " - 99% Tile     :   9.961128\n",
      "Save output signals into checkpoint/1122-Scene3-CLSTM-win48/sample/0058.npy\n"
     ]
    },
    {
     "name": "stderr",
     "output_type": "stream",
     "text": [
      "[0059/0100] Train: 100%|███████████████████████████████| 74/74 [00:04<00:00, 18.11it/s, loss 7.6446]\n",
      "[0059/0100] Validation: 100%|██████████████████████| 71/71 [00:02<00:00, 31.80it/s, val_loss 7.1390]\n",
      "[0060/0100] Train:   0%|                                                     | 0/74 [00:00<?, ?it/s]"
     ]
    },
    {
     "name": "stdout",
     "output_type": "stream",
     "text": [
      "val_loss is not improved for 2 epochs\n",
      "                  validation\n",
      " - Yaw          :   1.521355\n",
      " - Pitch        :   1.899801\n",
      " - Roll         :   2.133792\n",
      " - RMS          :   1.868764\n",
      " - 99% Tile     :   9.043766\n",
      "Save output signals into checkpoint/1122-Scene3-CLSTM-win48/sample/0059.npy\n"
     ]
    },
    {
     "name": "stderr",
     "output_type": "stream",
     "text": [
      "[0060/0100] Train: 100%|███████████████████████████████| 74/74 [00:04<00:00, 17.94it/s, loss 8.6032]\n",
      "[0060/0100] Validation: 100%|█████████████████████| 71/71 [00:02<00:00, 31.48it/s, val_loss 14.5966]\n",
      "[0061/0100] Train:   0%|                                                     | 0/74 [00:00<?, ?it/s]"
     ]
    },
    {
     "name": "stdout",
     "output_type": "stream",
     "text": [
      "val_loss is not improved for 3 epochs\n",
      "                  validation\n",
      " - Yaw          :   3.600925\n",
      " - Pitch        :   2.236399\n",
      " - Roll         :   2.315676\n",
      " - RMS          :   2.788697\n",
      " - 99% Tile     :  14.039281\n",
      "Save output signals into checkpoint/1122-Scene3-CLSTM-win48/sample/0060.npy\n"
     ]
    },
    {
     "name": "stderr",
     "output_type": "stream",
     "text": [
      "[0061/0100] Train: 100%|██████████████████████████████| 74/74 [00:04<00:00, 17.95it/s, loss 10.0679]\n",
      "[0061/0100] Validation: 100%|██████████████████████| 71/71 [00:02<00:00, 32.12it/s, val_loss 8.6962]\n",
      "[0062/0100] Train:   0%|                                                     | 0/74 [00:00<?, ?it/s]"
     ]
    },
    {
     "name": "stdout",
     "output_type": "stream",
     "text": [
      "val_loss is not improved for 4 epochs\n",
      "                  validation\n",
      " - Yaw          :   2.286046\n",
      " - Pitch        :   1.533816\n",
      " - Roll         :   2.159316\n",
      " - RMS          :   2.020003\n",
      " - 99% Tile     :  10.832712\n",
      "Save output signals into checkpoint/1122-Scene3-CLSTM-win48/sample/0061.npy\n"
     ]
    },
    {
     "name": "stderr",
     "output_type": "stream",
     "text": [
      "[0062/0100] Train: 100%|███████████████████████████████| 74/74 [00:04<00:00, 17.75it/s, loss 8.7293]\n",
      "[0062/0100] Validation: 100%|██████████████████████| 71/71 [00:02<00:00, 32.32it/s, val_loss 7.5762]\n",
      "[0063/0100] Train:   0%|                                                     | 0/74 [00:00<?, ?it/s]"
     ]
    },
    {
     "name": "stdout",
     "output_type": "stream",
     "text": [
      "Decaying lr from 0.0005 to 0.00025 because val_loss did not improved for 5 epochs\n",
      "val_loss is not improved for 5 epochs\n",
      "                  validation\n",
      " - Yaw          :   1.864087\n",
      " - Pitch        :   1.546477\n",
      " - Roll         :   2.146059\n",
      " - RMS          :   1.868331\n",
      " - 99% Tile     :   9.844033\n",
      "Save output signals into checkpoint/1122-Scene3-CLSTM-win48/sample/0062.npy\n"
     ]
    },
    {
     "name": "stderr",
     "output_type": "stream",
     "text": [
      "[0063/0100] Train: 100%|███████████████████████████████| 74/74 [00:04<00:00, 18.19it/s, loss 7.5391]\n",
      "[0063/0100] Validation: 100%|██████████████████████| 71/71 [00:02<00:00, 32.29it/s, val_loss 7.2152]\n",
      "[0064/0100] Train:   0%|                                                     | 0/74 [00:00<?, ?it/s]"
     ]
    },
    {
     "name": "stdout",
     "output_type": "stream",
     "text": [
      "val_loss is not improved for 6 epochs\n",
      "                  validation\n",
      " - Yaw          :   1.772154\n",
      " - Pitch        :   1.462034\n",
      " - Roll         :   2.145411\n",
      " - RMS          :   1.814833\n",
      " - 99% Tile     :   9.763947\n",
      "Save output signals into checkpoint/1122-Scene3-CLSTM-win48/sample/0063.npy\n"
     ]
    },
    {
     "name": "stderr",
     "output_type": "stream",
     "text": [
      "[0064/0100] Train: 100%|███████████████████████████████| 74/74 [00:04<00:00, 17.98it/s, loss 7.3654]\n",
      "[0064/0100] Validation: 100%|██████████████████████| 71/71 [00:02<00:00, 31.05it/s, val_loss 6.9988]\n",
      "[0065/0100] Train:   0%|                                                     | 0/74 [00:00<?, ?it/s]"
     ]
    },
    {
     "name": "stdout",
     "output_type": "stream",
     "text": [
      "val_loss is not improved for 7 epochs\n",
      "                  validation\n",
      " - Yaw          :   1.602022\n",
      " - Pitch        :   1.432562\n",
      " - Roll         :   2.166421\n",
      " - RMS          :   1.761826\n",
      " - 99% Tile     :   9.089765\n",
      "Save output signals into checkpoint/1122-Scene3-CLSTM-win48/sample/0064.npy\n"
     ]
    },
    {
     "name": "stderr",
     "output_type": "stream",
     "text": [
      "[0065/0100] Train: 100%|███████████████████████████████| 74/74 [00:04<00:00, 17.32it/s, loss 7.2037]\n",
      "[0065/0100] Validation: 100%|██████████████████████| 71/71 [00:02<00:00, 32.16it/s, val_loss 6.4206]\n",
      "[0066/0100] Train:   0%|                                                     | 0/74 [00:00<?, ?it/s]"
     ]
    },
    {
     "name": "stdout",
     "output_type": "stream",
     "text": [
      "                  validation\n",
      " - Yaw          :   1.341604\n",
      " - Pitch        :   1.347889\n",
      " - Roll         :   2.174260\n",
      " - RMS          :   1.667744\n",
      " - 99% Tile     :   9.022695\n",
      "Save output signals into checkpoint/1122-Scene3-CLSTM-win48/sample/0065.npy\n"
     ]
    },
    {
     "name": "stderr",
     "output_type": "stream",
     "text": [
      "[0066/0100] Train: 100%|███████████████████████████████| 74/74 [00:04<00:00, 18.21it/s, loss 6.8126]\n",
      "[0066/0100] Validation: 100%|██████████████████████| 71/71 [00:02<00:00, 32.99it/s, val_loss 6.3035]\n",
      "[0067/0100] Train:   0%|                                                     | 0/74 [00:00<?, ?it/s]"
     ]
    },
    {
     "name": "stdout",
     "output_type": "stream",
     "text": [
      "                  validation\n",
      " - Yaw          :   1.288195\n",
      " - Pitch        :   1.329585\n",
      " - Roll         :   2.179762\n",
      " - RMS          :   1.651121\n",
      " - 99% Tile     :   9.044660\n",
      "Save output signals into checkpoint/1122-Scene3-CLSTM-win48/sample/0066.npy\n"
     ]
    },
    {
     "name": "stderr",
     "output_type": "stream",
     "text": [
      "[0067/0100] Train: 100%|███████████████████████████████| 74/74 [00:04<00:00, 17.73it/s, loss 6.9370]\n",
      "[0067/0100] Validation: 100%|██████████████████████| 71/71 [00:02<00:00, 33.04it/s, val_loss 6.7011]\n",
      "[0068/0100] Train:   0%|                                                     | 0/74 [00:00<?, ?it/s]"
     ]
    },
    {
     "name": "stdout",
     "output_type": "stream",
     "text": [
      "val_loss is not improved for 1 epochs\n",
      "                  validation\n",
      " - Yaw          :   1.386217\n",
      " - Pitch        :   1.491161\n",
      " - Roll         :   2.153899\n",
      " - RMS          :   1.711183\n",
      " - 99% Tile     :   8.951109\n",
      "Save output signals into checkpoint/1122-Scene3-CLSTM-win48/sample/0067.npy\n"
     ]
    },
    {
     "name": "stderr",
     "output_type": "stream",
     "text": [
      "[0068/0100] Train: 100%|███████████████████████████████| 74/74 [00:04<00:00, 17.71it/s, loss 6.6420]\n",
      "[0068/0100] Validation: 100%|██████████████████████| 71/71 [00:02<00:00, 32.65it/s, val_loss 6.3448]\n",
      "[0069/0100] Train:   0%|                                                     | 0/74 [00:00<?, ?it/s]"
     ]
    },
    {
     "name": "stdout",
     "output_type": "stream",
     "text": [
      "val_loss is not improved for 2 epochs\n",
      "                  validation\n",
      " - Yaw          :   1.374871\n",
      " - Pitch        :   1.376752\n",
      " - Roll         :   2.151542\n",
      " - RMS          :   1.674798\n",
      " - 99% Tile     :   8.817292\n",
      "Save output signals into checkpoint/1122-Scene3-CLSTM-win48/sample/0068.npy\n"
     ]
    },
    {
     "name": "stderr",
     "output_type": "stream",
     "text": [
      "[0069/0100] Train: 100%|███████████████████████████████| 74/74 [00:04<00:00, 17.79it/s, loss 6.6324]\n",
      "[0069/0100] Validation: 100%|██████████████████████| 71/71 [00:02<00:00, 32.82it/s, val_loss 6.5686]\n",
      "[0070/0100] Train:   0%|                                                     | 0/74 [00:00<?, ?it/s]"
     ]
    },
    {
     "name": "stdout",
     "output_type": "stream",
     "text": [
      "val_loss is not improved for 3 epochs\n",
      "                  validation\n",
      " - Yaw          :   1.350757\n",
      " - Pitch        :   1.377442\n",
      " - Roll         :   2.154273\n",
      " - RMS          :   1.669609\n",
      " - 99% Tile     :   8.945776\n",
      "Save output signals into checkpoint/1122-Scene3-CLSTM-win48/sample/0069.npy\n"
     ]
    },
    {
     "name": "stderr",
     "output_type": "stream",
     "text": [
      "[0070/0100] Train: 100%|███████████████████████████████| 74/74 [00:04<00:00, 18.28it/s, loss 6.4758]\n",
      "[0070/0100] Validation: 100%|██████████████████████| 71/71 [00:02<00:00, 33.09it/s, val_loss 6.2473]\n",
      "[0071/0100] Train:   0%|                                                     | 0/74 [00:00<?, ?it/s]"
     ]
    },
    {
     "name": "stdout",
     "output_type": "stream",
     "text": [
      "                  validation\n",
      " - Yaw          :   1.344628\n",
      " - Pitch        :   1.298977\n",
      " - Roll         :   2.159462\n",
      " - RMS          :   1.649105\n",
      " - 99% Tile     :   8.780958\n",
      "Save output signals into checkpoint/1122-Scene3-CLSTM-win48/sample/0070.npy\n"
     ]
    },
    {
     "name": "stderr",
     "output_type": "stream",
     "text": [
      "[0071/0100] Train: 100%|███████████████████████████████| 74/74 [00:04<00:00, 17.87it/s, loss 6.5574]\n",
      "[0071/0100] Validation: 100%|██████████████████████| 71/71 [00:02<00:00, 32.11it/s, val_loss 6.3536]\n",
      "[0072/0100] Train:   0%|                                                     | 0/74 [00:00<?, ?it/s]"
     ]
    },
    {
     "name": "stdout",
     "output_type": "stream",
     "text": [
      "val_loss is not improved for 1 epochs\n",
      "                  validation\n",
      " - Yaw          :   1.366280\n",
      " - Pitch        :   1.326647\n",
      " - Roll         :   2.134648\n",
      " - RMS          :   1.651609\n",
      " - 99% Tile     :   8.796411\n",
      "Save output signals into checkpoint/1122-Scene3-CLSTM-win48/sample/0071.npy\n"
     ]
    },
    {
     "name": "stderr",
     "output_type": "stream",
     "text": [
      "[0072/0100] Train: 100%|███████████████████████████████| 74/74 [00:04<00:00, 17.77it/s, loss 6.4242]\n",
      "[0072/0100] Validation: 100%|██████████████████████| 71/71 [00:02<00:00, 33.09it/s, val_loss 6.1742]\n",
      "[0073/0100] Train:   0%|                                                     | 0/74 [00:00<?, ?it/s]"
     ]
    },
    {
     "name": "stdout",
     "output_type": "stream",
     "text": [
      "                  validation\n",
      " - Yaw          :   1.254473\n",
      " - Pitch        :   1.356860\n",
      " - Roll         :   2.149946\n",
      " - RMS          :   1.636769\n",
      " - 99% Tile     :   8.773899\n",
      "Save output signals into checkpoint/1122-Scene3-CLSTM-win48/sample/0072.npy\n"
     ]
    },
    {
     "name": "stderr",
     "output_type": "stream",
     "text": [
      "[0073/0100] Train: 100%|███████████████████████████████| 74/74 [00:04<00:00, 17.94it/s, loss 6.2477]\n",
      "[0073/0100] Validation: 100%|██████████████████████| 71/71 [00:02<00:00, 33.78it/s, val_loss 5.9955]\n",
      "[0074/0100] Train:   0%|                                                     | 0/74 [00:00<?, ?it/s]"
     ]
    },
    {
     "name": "stdout",
     "output_type": "stream",
     "text": [
      "                  validation\n",
      " - Yaw          :   1.270325\n",
      " - Pitch        :   1.313467\n",
      " - Roll         :   2.127882\n",
      " - RMS          :   1.619341\n",
      " - 99% Tile     :   8.506981\n",
      "Save output signals into checkpoint/1122-Scene3-CLSTM-win48/sample/0073.npy\n"
     ]
    },
    {
     "name": "stderr",
     "output_type": "stream",
     "text": [
      "[0074/0100] Train: 100%|███████████████████████████████| 74/74 [00:04<00:00, 18.11it/s, loss 6.2089]\n",
      "[0074/0100] Validation: 100%|██████████████████████| 71/71 [00:02<00:00, 33.88it/s, val_loss 6.1299]\n",
      "[0075/0100] Train:   0%|                                                     | 0/74 [00:00<?, ?it/s]"
     ]
    },
    {
     "name": "stdout",
     "output_type": "stream",
     "text": [
      "val_loss is not improved for 1 epochs\n",
      "                  validation\n",
      " - Yaw          :   1.322158\n",
      " - Pitch        :   1.409554\n",
      " - Roll         :   2.119609\n",
      " - RMS          :   1.656068\n",
      " - 99% Tile     :   8.585579\n",
      "Save output signals into checkpoint/1122-Scene3-CLSTM-win48/sample/0074.npy\n"
     ]
    },
    {
     "name": "stderr",
     "output_type": "stream",
     "text": [
      "[0075/0100] Train: 100%|███████████████████████████████| 74/74 [00:03<00:00, 19.37it/s, loss 6.1573]\n",
      "[0075/0100] Validation: 100%|██████████████████████| 71/71 [00:02<00:00, 31.78it/s, val_loss 6.4460]\n",
      "[0076/0100] Train:   0%|                                                     | 0/74 [00:00<?, ?it/s]"
     ]
    },
    {
     "name": "stdout",
     "output_type": "stream",
     "text": [
      "val_loss is not improved for 2 epochs\n",
      "                  validation\n",
      " - Yaw          :   1.351350\n",
      " - Pitch        :   1.411641\n",
      " - Roll         :   2.133138\n",
      " - RMS          :   1.670245\n",
      " - 99% Tile     :   8.708549\n",
      "Save output signals into checkpoint/1122-Scene3-CLSTM-win48/sample/0075.npy\n"
     ]
    },
    {
     "name": "stderr",
     "output_type": "stream",
     "text": [
      "[0076/0100] Train: 100%|███████████████████████████████| 74/74 [00:04<00:00, 18.41it/s, loss 6.2119]\n",
      "[0076/0100] Validation: 100%|██████████████████████| 71/71 [00:02<00:00, 32.88it/s, val_loss 6.0958]\n",
      "[0077/0100] Train:   0%|                                                     | 0/74 [00:00<?, ?it/s]"
     ]
    },
    {
     "name": "stdout",
     "output_type": "stream",
     "text": [
      "val_loss is not improved for 3 epochs\n",
      "                  validation\n",
      " - Yaw          :   1.247146\n",
      " - Pitch        :   1.478063\n",
      " - Roll         :   2.127840\n",
      " - RMS          :   1.660095\n",
      " - 99% Tile     :   8.493988\n",
      "Save output signals into checkpoint/1122-Scene3-CLSTM-win48/sample/0076.npy\n"
     ]
    },
    {
     "name": "stderr",
     "output_type": "stream",
     "text": [
      "[0077/0100] Train: 100%|███████████████████████████████| 74/74 [00:04<00:00, 18.48it/s, loss 6.1818]\n",
      "[0077/0100] Validation: 100%|██████████████████████| 71/71 [00:02<00:00, 33.40it/s, val_loss 5.9186]\n",
      "[0078/0100] Train:   0%|                                                     | 0/74 [00:00<?, ?it/s]"
     ]
    },
    {
     "name": "stdout",
     "output_type": "stream",
     "text": [
      "                  validation\n",
      " - Yaw          :   1.195619\n",
      " - Pitch        :   1.322288\n",
      " - Roll         :   2.116330\n",
      " - RMS          :   1.597582\n",
      " - 99% Tile     :   8.424565\n",
      "Save output signals into checkpoint/1122-Scene3-CLSTM-win48/sample/0077.npy\n"
     ]
    },
    {
     "name": "stderr",
     "output_type": "stream",
     "text": [
      "[0078/0100] Train: 100%|███████████████████████████████| 74/74 [00:04<00:00, 17.98it/s, loss 5.8801]\n",
      "[0078/0100] Validation: 100%|██████████████████████| 71/71 [00:02<00:00, 32.86it/s, val_loss 6.1434]\n",
      "[0079/0100] Train:   0%|                                                     | 0/74 [00:00<?, ?it/s]"
     ]
    },
    {
     "name": "stdout",
     "output_type": "stream",
     "text": [
      "val_loss is not improved for 1 epochs\n",
      "                  validation\n",
      " - Yaw          :   1.398854\n",
      " - Pitch        :   1.256161\n",
      " - Roll         :   2.146984\n",
      " - RMS          :   1.647652\n",
      " - 99% Tile     :   8.408877\n",
      "Save output signals into checkpoint/1122-Scene3-CLSTM-win48/sample/0078.npy\n"
     ]
    },
    {
     "name": "stderr",
     "output_type": "stream",
     "text": [
      "[0079/0100] Train: 100%|███████████████████████████████| 74/74 [00:04<00:00, 18.22it/s, loss 5.9358]\n",
      "[0079/0100] Validation: 100%|██████████████████████| 71/71 [00:02<00:00, 32.66it/s, val_loss 5.8957]\n",
      "[0080/0100] Train:   0%|                                                     | 0/74 [00:00<?, ?it/s]"
     ]
    },
    {
     "name": "stdout",
     "output_type": "stream",
     "text": [
      "                  validation\n",
      " - Yaw          :   1.329777\n",
      " - Pitch        :   1.228770\n",
      " - Roll         :   2.130917\n",
      " - RMS          :   1.614413\n",
      " - 99% Tile     :   8.424922\n",
      "Save output signals into checkpoint/1122-Scene3-CLSTM-win48/sample/0079.npy\n"
     ]
    },
    {
     "name": "stderr",
     "output_type": "stream",
     "text": [
      "[0080/0100] Train: 100%|███████████████████████████████| 74/74 [00:04<00:00, 18.40it/s, loss 5.9381]\n",
      "[0080/0100] Validation: 100%|██████████████████████| 71/71 [00:02<00:00, 33.21it/s, val_loss 5.9524]\n",
      "[0081/0100] Train:   0%|                                                     | 0/74 [00:00<?, ?it/s]"
     ]
    },
    {
     "name": "stdout",
     "output_type": "stream",
     "text": [
      "val_loss is not improved for 1 epochs\n",
      "                  validation\n",
      " - Yaw          :   1.178055\n",
      " - Pitch        :   1.422246\n",
      " - Roll         :   2.134601\n",
      " - RMS          :   1.629634\n",
      " - 99% Tile     :   8.383270\n",
      "Save output signals into checkpoint/1122-Scene3-CLSTM-win48/sample/0080.npy\n"
     ]
    },
    {
     "name": "stderr",
     "output_type": "stream",
     "text": [
      "[0081/0100] Train: 100%|███████████████████████████████| 74/74 [00:04<00:00, 18.31it/s, loss 5.7586]\n",
      "[0081/0100] Validation: 100%|██████████████████████| 71/71 [00:02<00:00, 32.93it/s, val_loss 6.0359]\n",
      "[0082/0100] Train:   0%|                                                     | 0/74 [00:00<?, ?it/s]"
     ]
    },
    {
     "name": "stdout",
     "output_type": "stream",
     "text": [
      "val_loss is not improved for 2 epochs\n",
      "                  validation\n",
      " - Yaw          :   1.357222\n",
      " - Pitch        :   1.432804\n",
      " - Roll         :   2.131102\n",
      " - RMS          :   1.676959\n",
      " - 99% Tile     :   8.364886\n",
      "Save output signals into checkpoint/1122-Scene3-CLSTM-win48/sample/0081.npy\n"
     ]
    },
    {
     "name": "stderr",
     "output_type": "stream",
     "text": [
      "[0082/0100] Train: 100%|███████████████████████████████| 74/74 [00:03<00:00, 18.68it/s, loss 5.6932]\n",
      "[0082/0100] Validation: 100%|██████████████████████| 71/71 [00:02<00:00, 32.88it/s, val_loss 5.5919]\n",
      "[0083/0100] Train:   0%|                                                     | 0/74 [00:00<?, ?it/s]"
     ]
    },
    {
     "name": "stdout",
     "output_type": "stream",
     "text": [
      "                  validation\n",
      " - Yaw          :   1.134848\n",
      " - Pitch        :   1.183800\n",
      " - Roll         :   2.138304\n",
      " - RMS          :   1.555807\n",
      " - 99% Tile     :   8.330046\n",
      "Save output signals into checkpoint/1122-Scene3-CLSTM-win48/sample/0082.npy\n"
     ]
    },
    {
     "name": "stderr",
     "output_type": "stream",
     "text": [
      "[0083/0100] Train: 100%|███████████████████████████████| 74/74 [00:04<00:00, 18.02it/s, loss 5.7252]\n",
      "[0083/0100] Validation: 100%|██████████████████████| 71/71 [00:02<00:00, 33.32it/s, val_loss 5.8311]\n",
      "[0084/0100] Train:   0%|                                                     | 0/74 [00:00<?, ?it/s]"
     ]
    },
    {
     "name": "stdout",
     "output_type": "stream",
     "text": [
      "val_loss is not improved for 1 epochs\n",
      "                  validation\n",
      " - Yaw          :   1.234552\n",
      " - Pitch        :   1.483475\n",
      " - Roll         :   2.084761\n",
      " - RMS          :   1.640228\n",
      " - 99% Tile     :   8.266077\n",
      "Save output signals into checkpoint/1122-Scene3-CLSTM-win48/sample/0083.npy\n"
     ]
    },
    {
     "name": "stderr",
     "output_type": "stream",
     "text": [
      "[0084/0100] Train: 100%|███████████████████████████████| 74/74 [00:03<00:00, 19.27it/s, loss 5.9539]\n",
      "[0084/0100] Validation: 100%|██████████████████████| 71/71 [00:02<00:00, 33.51it/s, val_loss 5.6971]\n",
      "[0085/0100] Train:   0%|                                                     | 0/74 [00:00<?, ?it/s]"
     ]
    },
    {
     "name": "stdout",
     "output_type": "stream",
     "text": [
      "val_loss is not improved for 2 epochs\n",
      "                  validation\n",
      " - Yaw          :   1.192588\n",
      " - Pitch        :   1.330748\n",
      " - Roll         :   2.135279\n",
      " - RMS          :   1.607542\n",
      " - 99% Tile     :   8.203660\n",
      "Save output signals into checkpoint/1122-Scene3-CLSTM-win48/sample/0084.npy\n"
     ]
    },
    {
     "name": "stderr",
     "output_type": "stream",
     "text": [
      "[0085/0100] Train: 100%|███████████████████████████████| 74/74 [00:04<00:00, 18.21it/s, loss 5.7074]\n",
      "[0085/0100] Validation: 100%|██████████████████████| 71/71 [00:02<00:00, 33.43it/s, val_loss 5.7592]\n",
      "[0086/0100] Train:   0%|                                                     | 0/74 [00:00<?, ?it/s]"
     ]
    },
    {
     "name": "stdout",
     "output_type": "stream",
     "text": [
      "val_loss is not improved for 3 epochs\n",
      "                  validation\n",
      " - Yaw          :   1.155294\n",
      " - Pitch        :   1.556885\n",
      " - Roll         :   2.110892\n",
      " - RMS          :   1.654737\n",
      " - 99% Tile     :   8.209268\n",
      "Save output signals into checkpoint/1122-Scene3-CLSTM-win48/sample/0085.npy\n"
     ]
    },
    {
     "name": "stderr",
     "output_type": "stream",
     "text": [
      "[0086/0100] Train: 100%|███████████████████████████████| 74/74 [00:03<00:00, 18.57it/s, loss 5.7740]\n",
      "[0086/0100] Validation: 100%|██████████████████████| 71/71 [00:02<00:00, 32.27it/s, val_loss 5.5956]\n",
      "[0087/0100] Train:   0%|                                                     | 0/74 [00:00<?, ?it/s]"
     ]
    },
    {
     "name": "stdout",
     "output_type": "stream",
     "text": [
      "val_loss is not improved for 4 epochs\n",
      "                  validation\n",
      " - Yaw          :   1.207830\n",
      " - Pitch        :   1.289830\n",
      " - Roll         :   2.118059\n",
      " - RMS          :   1.592554\n",
      " - 99% Tile     :   8.135980\n",
      "Save output signals into checkpoint/1122-Scene3-CLSTM-win48/sample/0086.npy\n"
     ]
    },
    {
     "name": "stderr",
     "output_type": "stream",
     "text": [
      "[0087/0100] Train: 100%|███████████████████████████████| 74/74 [00:04<00:00, 18.07it/s, loss 5.5692]\n",
      "[0087/0100] Validation: 100%|██████████████████████| 71/71 [00:02<00:00, 32.61it/s, val_loss 5.6451]\n",
      "[0088/0100] Train:   0%|                                                     | 0/74 [00:00<?, ?it/s]"
     ]
    },
    {
     "name": "stdout",
     "output_type": "stream",
     "text": [
      "Decaying lr from 0.00025 to 0.000125 because val_loss did not improved for 5 epochs\n",
      "val_loss is not improved for 5 epochs\n",
      "                  validation\n",
      " - Yaw          :   1.288112\n",
      " - Pitch        :   1.307623\n",
      " - Roll         :   2.099695\n",
      " - RMS          :   1.610159\n",
      " - 99% Tile     :   8.142975\n",
      "Save output signals into checkpoint/1122-Scene3-CLSTM-win48/sample/0087.npy\n"
     ]
    },
    {
     "name": "stderr",
     "output_type": "stream",
     "text": [
      "[0088/0100] Train: 100%|███████████████████████████████| 74/74 [00:04<00:00, 18.37it/s, loss 5.5187]\n",
      "[0088/0100] Validation: 100%|██████████████████████| 71/71 [00:02<00:00, 33.27it/s, val_loss 5.4264]\n",
      "[0089/0100] Train:   0%|                                                     | 0/74 [00:00<?, ?it/s]"
     ]
    },
    {
     "name": "stdout",
     "output_type": "stream",
     "text": [
      "                  validation\n",
      " - Yaw          :   1.098874\n",
      " - Pitch        :   1.276960\n",
      " - Roll         :   2.094873\n",
      " - RMS          :   1.552057\n",
      " - 99% Tile     :   8.105162\n",
      "Save output signals into checkpoint/1122-Scene3-CLSTM-win48/sample/0088.npy\n"
     ]
    },
    {
     "name": "stderr",
     "output_type": "stream",
     "text": [
      "[0089/0100] Train: 100%|███████████████████████████████| 74/74 [00:04<00:00, 18.27it/s, loss 5.4890]\n",
      "[0089/0100] Validation: 100%|██████████████████████| 71/71 [00:02<00:00, 33.59it/s, val_loss 5.6557]\n",
      "[0090/0100] Train:   0%|                                                     | 0/74 [00:00<?, ?it/s]"
     ]
    },
    {
     "name": "stdout",
     "output_type": "stream",
     "text": [
      "val_loss is not improved for 1 epochs\n",
      "                  validation\n",
      " - Yaw          :   1.250244\n",
      " - Pitch        :   1.264019\n",
      " - Roll         :   2.113065\n",
      " - RMS          :   1.594354\n",
      " - 99% Tile     :   8.233869\n",
      "Save output signals into checkpoint/1122-Scene3-CLSTM-win48/sample/0089.npy\n"
     ]
    },
    {
     "name": "stderr",
     "output_type": "stream",
     "text": [
      "[0090/0100] Train: 100%|███████████████████████████████| 74/74 [00:04<00:00, 18.46it/s, loss 5.4063]\n",
      "[0090/0100] Validation: 100%|██████████████████████| 71/71 [00:02<00:00, 33.40it/s, val_loss 5.4463]\n",
      "[0091/0100] Train:   0%|                                                     | 0/74 [00:00<?, ?it/s]"
     ]
    },
    {
     "name": "stdout",
     "output_type": "stream",
     "text": [
      "val_loss is not improved for 2 epochs\n",
      "                  validation\n",
      " - Yaw          :   1.127280\n",
      " - Pitch        :   1.248285\n",
      " - Roll         :   2.094704\n",
      " - RMS          :   1.550996\n",
      " - 99% Tile     :   8.103364\n",
      "Save output signals into checkpoint/1122-Scene3-CLSTM-win48/sample/0090.npy\n"
     ]
    },
    {
     "name": "stderr",
     "output_type": "stream",
     "text": [
      "[0091/0100] Train: 100%|███████████████████████████████| 74/74 [00:04<00:00, 18.33it/s, loss 5.2496]\n",
      "[0091/0100] Validation: 100%|██████████████████████| 71/71 [00:02<00:00, 33.05it/s, val_loss 5.3803]\n",
      "[0092/0100] Train:   0%|                                                     | 0/74 [00:00<?, ?it/s]"
     ]
    },
    {
     "name": "stdout",
     "output_type": "stream",
     "text": [
      "                  validation\n",
      " - Yaw          :   1.106465\n",
      " - Pitch        :   1.185015\n",
      " - Roll         :   2.100255\n",
      " - RMS          :   1.531840\n",
      " - 99% Tile     :   8.097431\n",
      "Save output signals into checkpoint/1122-Scene3-CLSTM-win48/sample/0091.npy\n"
     ]
    },
    {
     "name": "stderr",
     "output_type": "stream",
     "text": [
      "[0092/0100] Train: 100%|███████████████████████████████| 74/74 [00:04<00:00, 18.32it/s, loss 5.2746]\n",
      "[0092/0100] Validation: 100%|██████████████████████| 71/71 [00:02<00:00, 32.42it/s, val_loss 5.4660]\n",
      "[0093/0100] Train:   0%|                                                     | 0/74 [00:00<?, ?it/s]"
     ]
    },
    {
     "name": "stdout",
     "output_type": "stream",
     "text": [
      "val_loss is not improved for 1 epochs\n",
      "                  validation\n",
      " - Yaw          :   1.179269\n",
      " - Pitch        :   1.262529\n",
      " - Roll         :   2.071635\n",
      " - RMS          :   1.557383\n",
      " - 99% Tile     :   8.066432\n",
      "Save output signals into checkpoint/1122-Scene3-CLSTM-win48/sample/0092.npy\n"
     ]
    },
    {
     "name": "stderr",
     "output_type": "stream",
     "text": [
      "[0093/0100] Train: 100%|███████████████████████████████| 74/74 [00:03<00:00, 18.53it/s, loss 5.1614]\n",
      "[0093/0100] Validation: 100%|██████████████████████| 71/71 [00:02<00:00, 34.13it/s, val_loss 5.3544]\n",
      "[0094/0100] Train:   0%|                                                     | 0/74 [00:00<?, ?it/s]"
     ]
    },
    {
     "name": "stdout",
     "output_type": "stream",
     "text": [
      "                  validation\n",
      " - Yaw          :   1.093018\n",
      " - Pitch        :   1.270419\n",
      " - Roll         :   2.073269\n",
      " - RMS          :   1.539166\n",
      " - 99% Tile     :   8.007242\n",
      "Save output signals into checkpoint/1122-Scene3-CLSTM-win48/sample/0093.npy\n"
     ]
    },
    {
     "name": "stderr",
     "output_type": "stream",
     "text": [
      "[0094/0100] Train: 100%|███████████████████████████████| 74/74 [00:04<00:00, 17.89it/s, loss 5.1324]\n",
      "[0094/0100] Validation: 100%|██████████████████████| 71/71 [00:02<00:00, 32.68it/s, val_loss 5.4960]\n",
      "[0095/0100] Train:   0%|                                                     | 0/74 [00:00<?, ?it/s]"
     ]
    },
    {
     "name": "stdout",
     "output_type": "stream",
     "text": [
      "val_loss is not improved for 1 epochs\n",
      "                  validation\n",
      " - Yaw          :   1.206170\n",
      " - Pitch        :   1.302018\n",
      " - Roll         :   2.058034\n",
      " - RMS          :   1.569034\n",
      " - 99% Tile     :   8.069478\n",
      "Save output signals into checkpoint/1122-Scene3-CLSTM-win48/sample/0094.npy\n"
     ]
    },
    {
     "name": "stderr",
     "output_type": "stream",
     "text": [
      "[0095/0100] Train: 100%|███████████████████████████████| 74/74 [00:03<00:00, 18.79it/s, loss 5.1719]\n",
      "[0095/0100] Validation: 100%|██████████████████████| 71/71 [00:02<00:00, 32.94it/s, val_loss 5.3043]\n",
      "[0096/0100] Train:   0%|                                                     | 0/74 [00:00<?, ?it/s]"
     ]
    },
    {
     "name": "stdout",
     "output_type": "stream",
     "text": [
      "                  validation\n",
      " - Yaw          :   1.142965\n",
      " - Pitch        :   1.150895\n",
      " - Roll         :   2.066824\n",
      " - RMS          :   1.516871\n",
      " - 99% Tile     :   8.017251\n",
      "Save output signals into checkpoint/1122-Scene3-CLSTM-win48/sample/0095.npy\n"
     ]
    },
    {
     "name": "stderr",
     "output_type": "stream",
     "text": [
      "[0096/0100] Train: 100%|███████████████████████████████| 74/74 [00:04<00:00, 18.25it/s, loss 5.0903]\n",
      "[0096/0100] Validation: 100%|██████████████████████| 71/71 [00:02<00:00, 33.36it/s, val_loss 5.3113]\n",
      "[0097/0100] Train:   0%|                                                     | 0/74 [00:00<?, ?it/s]"
     ]
    },
    {
     "name": "stdout",
     "output_type": "stream",
     "text": [
      "val_loss is not improved for 1 epochs\n",
      "                  validation\n",
      " - Yaw          :   1.108090\n",
      " - Pitch        :   1.220006\n",
      " - Roll         :   2.052321\n",
      " - RMS          :   1.519682\n",
      " - 99% Tile     :   7.992359\n",
      "Save output signals into checkpoint/1122-Scene3-CLSTM-win48/sample/0096.npy\n"
     ]
    },
    {
     "name": "stderr",
     "output_type": "stream",
     "text": [
      "[0097/0100] Train: 100%|███████████████████████████████| 74/74 [00:03<00:00, 18.55it/s, loss 5.4774]\n",
      "[0097/0100] Validation: 100%|██████████████████████| 71/71 [00:02<00:00, 32.66it/s, val_loss 6.0793]\n",
      "[0098/0100] Train:   0%|                                                     | 0/74 [00:00<?, ?it/s]"
     ]
    },
    {
     "name": "stdout",
     "output_type": "stream",
     "text": [
      "val_loss is not improved for 2 epochs\n",
      "                  validation\n",
      " - Yaw          :   1.363448\n",
      " - Pitch        :   1.320478\n",
      " - Roll         :   2.050240\n",
      " - RMS          :   1.613086\n",
      " - 99% Tile     :   8.554258\n",
      "Save output signals into checkpoint/1122-Scene3-CLSTM-win48/sample/0097.npy\n"
     ]
    },
    {
     "name": "stderr",
     "output_type": "stream",
     "text": [
      "[0098/0100] Train: 100%|███████████████████████████████| 74/74 [00:04<00:00, 18.09it/s, loss 5.1658]\n",
      "[0098/0100] Validation: 100%|██████████████████████| 71/71 [00:02<00:00, 33.10it/s, val_loss 5.6079]\n",
      "[0099/0100] Train:   0%|                                                     | 0/74 [00:00<?, ?it/s]"
     ]
    },
    {
     "name": "stdout",
     "output_type": "stream",
     "text": [
      "val_loss is not improved for 3 epochs\n",
      "                  validation\n",
      " - Yaw          :   1.210642\n",
      " - Pitch        :   1.150865\n",
      " - Roll         :   2.039604\n",
      " - RMS          :   1.522074\n",
      " - 99% Tile     :   8.339088\n",
      "Save output signals into checkpoint/1122-Scene3-CLSTM-win48/sample/0098.npy\n"
     ]
    },
    {
     "name": "stderr",
     "output_type": "stream",
     "text": [
      "[0099/0100] Train: 100%|███████████████████████████████| 74/74 [00:04<00:00, 18.44it/s, loss 5.0995]\n",
      "[0099/0100] Validation: 100%|██████████████████████| 71/71 [00:02<00:00, 32.81it/s, val_loss 5.5425]\n",
      "[0100/0100] Train:   0%|                                                     | 0/74 [00:00<?, ?it/s]"
     ]
    },
    {
     "name": "stdout",
     "output_type": "stream",
     "text": [
      "val_loss is not improved for 4 epochs\n",
      "                  validation\n",
      " - Yaw          :   1.289318\n",
      " - Pitch        :   1.119965\n",
      " - Roll         :   2.036093\n",
      " - RMS          :   1.534312\n",
      " - 99% Tile     :   8.277029\n",
      "Save output signals into checkpoint/1122-Scene3-CLSTM-win48/sample/0099.npy\n"
     ]
    },
    {
     "name": "stderr",
     "output_type": "stream",
     "text": [
      "[0100/0100] Train: 100%|███████████████████████████████| 74/74 [00:04<00:00, 18.45it/s, loss 5.0263]\n",
      "[0100/0100] Validation: 100%|██████████████████████| 71/71 [00:02<00:00, 32.77it/s, val_loss 5.4384]"
     ]
    },
    {
     "name": "stdout",
     "output_type": "stream",
     "text": [
      "Decaying lr from 0.000125 to 6.25e-05 because val_loss did not improved for 5 epochs\n",
      "val_loss is not improved for 5 epochs\n",
      "                  validation\n",
      " - Yaw          :   1.180215\n",
      " - Pitch        :   1.165746\n",
      " - Roll         :   2.005607\n",
      " - RMS          :   1.502701\n",
      " - 99% Tile     :   8.274912\n",
      "Save output signals into checkpoint/1122-Scene3-CLSTM-win48/sample/0100.npy\n"
     ]
    },
    {
     "name": "stderr",
     "output_type": "stream",
     "text": [
      "\n"
     ]
    }
   ],
   "source": [
    "trainer.fit(ds_train, ds_test, num_epochs=100, batch_size=256, shuffle=True, pin_memory=True)"
   ]
  },
  {
   "cell_type": "code",
   "execution_count": null,
   "metadata": {},
   "outputs": [],
   "source": []
  }
 ],
 "metadata": {
  "kernelspec": {
   "display_name": "torch",
   "language": "python",
   "name": "torch"
  },
  "language_info": {
   "codemirror_mode": {
    "name": "ipython",
    "version": 3
   },
   "file_extension": ".py",
   "mimetype": "text/x-python",
   "name": "python",
   "nbconvert_exporter": "python",
   "pygments_lexer": "ipython3",
   "version": "3.7.9"
  }
 },
 "nbformat": 4,
 "nbformat_minor": 4
}
