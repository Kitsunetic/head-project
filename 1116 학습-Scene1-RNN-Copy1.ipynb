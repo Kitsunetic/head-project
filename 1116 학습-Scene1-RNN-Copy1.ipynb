{
 "cells": [
  {
   "cell_type": "markdown",
   "metadata": {},
   "source": [
    "# 학습 방법 - Scene\n",
    "\n",
    "3개의 Scene에 대해서 각각 따로 학습\n",
    "\n",
    "user별로 학습을 하지 않는 이유는 상관관계로 보았을 때 user끼리는 달라도 scene별로는 유사점이 꽤 보였기 때문."
   ]
  },
  {
   "cell_type": "code",
   "execution_count": 1,
   "metadata": {},
   "outputs": [],
   "source": [
    "from multiprocessing import cpu_count\n",
    "from pathlib import Path\n",
    "from typing import List, Union, AnyStr\n",
    "from math import pi\n",
    "import pickle\n",
    "\n",
    "import numpy as np\n",
    "import torch\n",
    "import matplotlib.pyplot as plt\n",
    "import torch.nn as nn\n",
    "from sklearn import model_selection\n",
    "from tqdm import tqdm\n",
    "import torch_optimizer\n",
    "from torch.utils.data import Dataset\n",
    "import pandas as pd\n",
    "import random\n",
    "\n",
    "import torch_burn as tb\n",
    "import utils"
   ]
  },
  {
   "cell_type": "code",
   "execution_count": 2,
   "metadata": {},
   "outputs": [],
   "source": [
    "EXPERIMENT_NAME = 'Scene1-MLP'\n",
    "CHECKPOINT_DIR = Path('checkpoint', EXPERIMENT_NAME)\n",
    "CHECKPOINT_DIR.mkdir(parents=True, exist_ok=True)\n",
    "\n",
    "DATA_DIR = Path('data/1116')\n",
    "TRAIN_FILES = sorted(list(DATA_DIR.glob('*scene1_0.csv')))\n",
    "TEST_FILES = sorted(list(DATA_DIR.glob('*scene1_1.csv')))"
   ]
  },
  {
   "cell_type": "markdown",
   "metadata": {},
   "source": [
    "# 데이터셋 생성\n",
    "\n",
    "scene1에 대해서 모든 user의 데이터를 하나로 합친다."
   ]
  },
  {
   "cell_type": "code",
   "execution_count": 3,
   "metadata": {},
   "outputs": [],
   "source": [
    "WINDOW_SIZE = 60"
   ]
  },
  {
   "cell_type": "code",
   "execution_count": 4,
   "metadata": {},
   "outputs": [],
   "source": [
    "class CSVSequentialDataset(Dataset):\n",
    "    def __init__(self, csvfile,\n",
    "                 window_size=300, randomized_window_size=False,\n",
    "                 stride=30, randomized_stride=False):\n",
    "        super(CSVSequentialDataset, self).__init__()\n",
    "\n",
    "        self.xcols = ['input_orientation_yaw', 'input_orientation_pitch', 'input_orientation_roll',\n",
    "                      'acceleration_x', 'acceleration_y', 'acceleration_z']\n",
    "        self.ycols = ['input_orientation_yaw', 'input_orientation_pitch', 'input_orientation_roll']\n",
    "\n",
    "        self.csv = pd.read_csv(csvfile)\n",
    "        self.window_size = window_size\n",
    "\n",
    "        self.indexes = []\n",
    "        i = 0\n",
    "        while i <= len(self.csv) - window_size * 2:\n",
    "            if randomized_window_size:\n",
    "                self.indexes.append((i, i + random.randint(window_size // 2, window_size)))\n",
    "            else:\n",
    "                self.indexes.append((i, i + window_size))\n",
    "\n",
    "            if randomized_stride:\n",
    "                i += random.randint(1, stride)\n",
    "            else:\n",
    "                i += stride\n",
    "\n",
    "    def __len__(self):\n",
    "        return len(self.indexes)\n",
    "\n",
    "    def __getitem__(self, idx):\n",
    "        s, t = self.indexes[idx]\n",
    "        x = self.csv.iloc[s:t][self.xcols].to_numpy()\n",
    "        y = self.csv.iloc[t + 6][self.ycols].to_numpy()\n",
    "\n",
    "        x = torch.tensor(x, dtype=torch.float32) # 300, 6\n",
    "        y = torch.tensor(y, dtype=torch.float32) # 3\n",
    "        \n",
    "        #x[:, :3] *= pi / 180\n",
    "        x[:, 3:] /= 10\n",
    "\n",
    "        return x, y"
   ]
  },
  {
   "cell_type": "code",
   "execution_count": 5,
   "metadata": {},
   "outputs": [],
   "source": [
    "ds_train = [CSVSequentialDataset(f,  \n",
    "                                 window_size=WINDOW_SIZE, randomized_window_size=False,\n",
    "                                 stride=1, randomized_stride=True) for f in TRAIN_FILES]\n",
    "ds_train = tb.data.ChainDataset(*ds_train)\n",
    "ds_test = [CSVSequentialDataset(f,  \n",
    "                                window_size=WINDOW_SIZE, randomized_window_size=False,\n",
    "                                stride=1, randomized_stride=True) for f in TEST_FILES]\n",
    "ds_test = tb.data.ChainDataset(*ds_test)"
   ]
  },
  {
   "cell_type": "code",
   "execution_count": 6,
   "metadata": {},
   "outputs": [
    {
     "data": {
      "text/plain": [
       "(55167, 57167)"
      ]
     },
     "execution_count": 6,
     "metadata": {},
     "output_type": "execute_result"
    }
   ],
   "source": [
    "len(ds_train), len(ds_test)"
   ]
  },
  {
   "cell_type": "code",
   "execution_count": 7,
   "metadata": {},
   "outputs": [
    {
     "data": {
      "text/plain": [
       "(torch.Size([60, 6]), torch.Size([3]))"
      ]
     },
     "execution_count": 7,
     "metadata": {},
     "output_type": "execute_result"
    }
   ],
   "source": [
    "ds_train[0][0].shape, ds_train[0][1].shape"
   ]
  },
  {
   "cell_type": "code",
   "execution_count": 8,
   "metadata": {},
   "outputs": [],
   "source": [
    "x, y = ds_train[0]"
   ]
  },
  {
   "cell_type": "code",
   "execution_count": 9,
   "metadata": {},
   "outputs": [
    {
     "data": {
      "text/plain": [
       "torch.Size([60, 6])"
      ]
     },
     "execution_count": 9,
     "metadata": {},
     "output_type": "execute_result"
    }
   ],
   "source": [
    "x.shape"
   ]
  },
  {
   "cell_type": "code",
   "execution_count": 10,
   "metadata": {},
   "outputs": [
    {
     "data": {
      "text/plain": [
       "[<matplotlib.lines.Line2D at 0x7f0c758c6710>]"
      ]
     },
     "execution_count": 10,
     "metadata": {},
     "output_type": "execute_result"
    },
    {
     "data": {
      "image/png": "[encoded data removed]",
      "text/plain": [
       "<Figure size 432x288 with 1 Axes>"
      ]
     },
     "metadata": {
      "needs_background": "light"
     },
     "output_type": "display_data"
    }
   ],
   "source": [
    "plt.plot(x[:, 2])"
   ]
  },
  {
   "cell_type": "code",
   "execution_count": null,
   "metadata": {},
   "outputs": [],
   "source": []
  },
  {
   "cell_type": "code",
   "execution_count": null,
   "metadata": {},
   "outputs": [],
   "source": []
  },
  {
   "cell_type": "markdown",
   "metadata": {},
   "source": [
    "# 모델 생성\n",
    "\n",
    "StackedLSTM Bidirectional"
   ]
  },
  {
   "cell_type": "code",
   "execution_count": 11,
   "metadata": {},
   "outputs": [],
   "source": [
    "model = utils.BaselineLSTM(input_size=6,\n",
    "                           hidden_size=24,\n",
    "                           num_layers=8,\n",
    "                           dropout=0.1,\n",
    "                           bidirectional=True).cuda()"
   ]
  },
  {
   "cell_type": "code",
   "execution_count": 12,
   "metadata": {},
   "outputs": [],
   "source": [
    "criterion = nn.MSELoss().cuda()\n",
    "optimizer = torch_optimizer.RAdam(model.parameters())"
   ]
  },
  {
   "cell_type": "code",
   "execution_count": 13,
   "metadata": {},
   "outputs": [],
   "source": [
    "metrics = [tb.metrics.ModuleMetric(criterion, 'loss'),\n",
    "           utils.HPMetric('hp_metric'),\n",
    "           utils.HPSignalHistory(CHECKPOINT_DIR / 'sample' / '{epoch:04d}.npy', 'hp_signal')]"
   ]
  },
  {
   "cell_type": "code",
   "execution_count": 14,
   "metadata": {},
   "outputs": [],
   "source": [
    "callbacks = [tb.callbacks.EarlyStopping(metrics[0]),\n",
    "             tb.callbacks.LRDecaying(optimizer, metrics[0])]"
   ]
  },
  {
   "cell_type": "code",
   "execution_count": 15,
   "metadata": {},
   "outputs": [],
   "source": [
    "trainer = tb.Trainer(model, optimizer, metrics, callbacks, ncols=100)"
   ]
  },
  {
   "cell_type": "code",
   "execution_count": 16,
   "metadata": {},
   "outputs": [
    {
     "name": "stderr",
     "output_type": "stream",
     "text": [
      "[0001/0100] Train: 100%|███████████████████████████| 216/216 [00:06<00:00, 35.17it/s, loss 179.6485]\n",
      "[0001/0100] Validation: 100%|██████████████████| 224/224 [00:05<00:00, 43.99it/s, val_loss 108.2156]\n",
      "[0002/0100] Train:   0%|                                                    | 0/216 [00:00<?, ?it/s]"
     ]
    },
    {
     "name": "stdout",
     "output_type": "stream",
     "text": [
      "                  validation\n",
      " - Yaw          :   8.039675\n",
      " - Pitch        :   9.155427\n",
      " - Roll         :   2.973998\n",
      " - RMS          :   7.241153\n",
      " - 99% Tile     :  40.438675\n",
      "Save output signals into checkpoint/Scene1-MLP/sample/0001.npy\n"
     ]
    },
    {
     "name": "stderr",
     "output_type": "stream",
     "text": [
      "[0002/0100] Train: 100%|███████████████████████████| 216/216 [00:06<00:00, 35.84it/s, loss 110.7749]\n",
      "[0002/0100] Validation: 100%|███████████████████| 224/224 [00:05<00:00, 43.93it/s, val_loss 64.0364]\n",
      "[0003/0100] Train:   0%|                                                    | 0/216 [00:00<?, ?it/s]"
     ]
    },
    {
     "name": "stdout",
     "output_type": "stream",
     "text": [
      "                  validation\n",
      " - Yaw          :   5.848062\n",
      " - Pitch        :   5.855194\n",
      " - Roll         :   2.889786\n",
      " - RMS          :   5.060763\n",
      " - 99% Tile     :  33.568176\n",
      "Save output signals into checkpoint/Scene1-MLP/sample/0002.npy\n"
     ]
    },
    {
     "name": "stderr",
     "output_type": "stream",
     "text": [
      "[0003/0100] Train: 100%|████████████████████████████| 216/216 [00:06<00:00, 35.82it/s, loss 72.2073]\n",
      "[0003/0100] Validation: 100%|███████████████████| 224/224 [00:05<00:00, 44.30it/s, val_loss 44.0240]\n",
      "[0004/0100] Train:   0%|                                                    | 0/216 [00:00<?, ?it/s]"
     ]
    },
    {
     "name": "stdout",
     "output_type": "stream",
     "text": [
      "                  validation\n",
      " - Yaw          :   4.191126\n",
      " - Pitch        :   4.038946\n",
      " - Roll         :   2.827189\n",
      " - RMS          :   3.735935\n",
      " - 99% Tile     :  28.971157\n",
      "Save output signals into checkpoint/Scene1-MLP/sample/0003.npy\n"
     ]
    },
    {
     "name": "stderr",
     "output_type": "stream",
     "text": [
      "[0004/0100] Train: 100%|████████████████████████████| 216/216 [00:06<00:00, 34.84it/s, loss 50.5723]\n",
      "[0004/0100] Validation: 100%|███████████████████| 224/224 [00:05<00:00, 43.41it/s, val_loss 32.0468]\n",
      "[0005/0100] Train:   0%|                                                    | 0/216 [00:00<?, ?it/s]"
     ]
    },
    {
     "name": "stdout",
     "output_type": "stream",
     "text": [
      "                  validation\n",
      " - Yaw          :   3.324428\n",
      " - Pitch        :   3.110113\n",
      " - Roll         :   2.493483\n",
      " - RMS          :   2.996781\n",
      " - 99% Tile     :  25.453192\n",
      "Save output signals into checkpoint/Scene1-MLP/sample/0004.npy\n"
     ]
    },
    {
     "name": "stderr",
     "output_type": "stream",
     "text": [
      "[0005/0100] Train: 100%|████████████████████████████| 216/216 [00:06<00:00, 34.52it/s, loss 35.8328]\n",
      "[0005/0100] Validation: 100%|███████████████████| 224/224 [00:05<00:00, 43.21it/s, val_loss 23.2976]\n",
      "[0006/0100] Train:   0%|                                                    | 0/216 [00:00<?, ?it/s]"
     ]
    },
    {
     "name": "stdout",
     "output_type": "stream",
     "text": [
      "                  validation\n",
      " - Yaw          :   2.340604\n",
      " - Pitch        :   2.512735\n",
      " - Roll         :   2.008255\n",
      " - RMS          :   2.296762\n",
      " - 99% Tile     :  22.287945\n",
      "Save output signals into checkpoint/Scene1-MLP/sample/0005.npy\n"
     ]
    },
    {
     "name": "stderr",
     "output_type": "stream",
     "text": [
      "[0006/0100] Train: 100%|████████████████████████████| 216/216 [00:06<00:00, 35.62it/s, loss 25.5280]\n",
      "[0006/0100] Validation: 100%|███████████████████| 224/224 [00:05<00:00, 43.51it/s, val_loss 17.1599]\n",
      "[0007/0100] Train:   0%|                                                    | 0/216 [00:00<?, ?it/s]"
     ]
    },
    {
     "name": "stdout",
     "output_type": "stream",
     "text": [
      "                  validation\n",
      " - Yaw          :   1.938162\n",
      " - Pitch        :   2.022117\n",
      " - Roll         :   1.584195\n",
      " - RMS          :   1.857875\n",
      " - 99% Tile     :  19.107775\n",
      "Save output signals into checkpoint/Scene1-MLP/sample/0006.npy\n"
     ]
    },
    {
     "name": "stderr",
     "output_type": "stream",
     "text": [
      "[0007/0100] Train: 100%|████████████████████████████| 216/216 [00:05<00:00, 36.03it/s, loss 18.4713]\n",
      "[0007/0100] Validation: 100%|███████████████████| 224/224 [00:05<00:00, 44.56it/s, val_loss 13.4874]\n",
      "[0008/0100] Train:   0%|                                                    | 0/216 [00:00<?, ?it/s]"
     ]
    },
    {
     "name": "stdout",
     "output_type": "stream",
     "text": [
      "                  validation\n",
      " - Yaw          :   1.558798\n",
      " - Pitch        :   1.746826\n",
      " - Roll         :   1.326401\n",
      " - RMS          :   1.553554\n",
      " - 99% Tile     :  16.114151\n",
      "Save output signals into checkpoint/Scene1-MLP/sample/0007.npy\n"
     ]
    },
    {
     "name": "stderr",
     "output_type": "stream",
     "text": [
      "[0008/0100] Train: 100%|████████████████████████████| 216/216 [00:06<00:00, 34.89it/s, loss 13.4890]\n",
      "[0008/0100] Validation: 100%|███████████████████| 224/224 [00:05<00:00, 44.03it/s, val_loss 10.7240]\n",
      "[0009/0100] Train:   0%|                                                    | 0/216 [00:00<?, ?it/s]"
     ]
    },
    {
     "name": "stdout",
     "output_type": "stream",
     "text": [
      "                  validation\n",
      " - Yaw          :   1.442634\n",
      " - Pitch        :   1.485901\n",
      " - Roll         :   1.135768\n",
      " - RMS          :   1.363704\n",
      " - 99% Tile     :  14.249859\n",
      "Save output signals into checkpoint/Scene1-MLP/sample/0008.npy\n"
     ]
    },
    {
     "name": "stderr",
     "output_type": "stream",
     "text": [
      "[0009/0100] Train: 100%|████████████████████████████| 216/216 [00:06<00:00, 35.35it/s, loss 10.0501]\n",
      "[0009/0100] Validation: 100%|████████████████████| 224/224 [00:05<00:00, 44.19it/s, val_loss 9.4752]\n",
      "[0010/0100] Train:   0%|                                                    | 0/216 [00:00<?, ?it/s]"
     ]
    },
    {
     "name": "stdout",
     "output_type": "stream",
     "text": [
      "                  validation\n",
      " - Yaw          :   1.398673\n",
      " - Pitch        :   1.417290\n",
      " - Roll         :   1.057313\n",
      " - RMS          :   1.301654\n",
      " - 99% Tile     :  12.858797\n",
      "Save output signals into checkpoint/Scene1-MLP/sample/0009.npy\n"
     ]
    },
    {
     "name": "stderr",
     "output_type": "stream",
     "text": [
      "[0010/0100] Train: 100%|█████████████████████████████| 216/216 [00:06<00:00, 35.30it/s, loss 7.6658]\n",
      "[0010/0100] Validation: 100%|████████████████████| 224/224 [00:05<00:00, 43.45it/s, val_loss 8.5164]\n",
      "[0011/0100] Train:   0%|                                                    | 0/216 [00:00<?, ?it/s]"
     ]
    },
    {
     "name": "stdout",
     "output_type": "stream",
     "text": [
      "                  validation\n",
      " - Yaw          :   1.260453\n",
      " - Pitch        :   1.258872\n",
      " - Roll         :   1.005906\n",
      " - RMS          :   1.181150\n",
      " - 99% Tile     :  12.439672\n",
      "Save output signals into checkpoint/Scene1-MLP/sample/0010.npy\n"
     ]
    },
    {
     "name": "stderr",
     "output_type": "stream",
     "text": [
      "[0011/0100] Train: 100%|█████████████████████████████| 216/216 [00:06<00:00, 35.37it/s, loss 5.9970]\n",
      "[0011/0100] Validation: 100%|████████████████████| 224/224 [00:05<00:00, 43.85it/s, val_loss 8.0546]\n",
      "[0012/0100] Train:   0%|                                                    | 0/216 [00:00<?, ?it/s]"
     ]
    },
    {
     "name": "stdout",
     "output_type": "stream",
     "text": [
      "                  validation\n",
      " - Yaw          :   1.210923\n",
      " - Pitch        :   1.239240\n",
      " - Roll         :   0.943054\n",
      " - RMS          :   1.138918\n",
      " - 99% Tile     :  12.551012\n",
      "Save output signals into checkpoint/Scene1-MLP/sample/0011.npy\n"
     ]
    },
    {
     "name": "stderr",
     "output_type": "stream",
     "text": [
      "[0012/0100] Train: 100%|█████████████████████████████| 216/216 [00:05<00:00, 36.10it/s, loss 4.8058]\n",
      "[0012/0100] Validation: 100%|████████████████████| 224/224 [00:05<00:00, 44.73it/s, val_loss 6.8955]\n",
      "[0013/0100] Train:   0%|                                                    | 0/216 [00:00<?, ?it/s]"
     ]
    },
    {
     "name": "stdout",
     "output_type": "stream",
     "text": [
      "                  validation\n",
      " - Yaw          :   1.112722\n",
      " - Pitch        :   1.135839\n",
      " - Roll         :   0.936938\n",
      " - RMS          :   1.065541\n",
      " - 99% Tile     :  11.293539\n",
      "Save output signals into checkpoint/Scene1-MLP/sample/0012.npy\n"
     ]
    },
    {
     "name": "stderr",
     "output_type": "stream",
     "text": [
      "[0013/0100] Train: 100%|█████████████████████████████| 216/216 [00:06<00:00, 32.98it/s, loss 3.9768]\n",
      "[0013/0100] Validation: 100%|████████████████████| 224/224 [00:05<00:00, 43.61it/s, val_loss 6.8392]\n",
      "[0014/0100] Train:   0%|                                                    | 0/216 [00:00<?, ?it/s]"
     ]
    },
    {
     "name": "stdout",
     "output_type": "stream",
     "text": [
      "                  validation\n",
      " - Yaw          :   1.206062\n",
      " - Pitch        :   1.106897\n",
      " - Roll         :   0.868782\n",
      " - RMS          :   1.069983\n",
      " - 99% Tile     :  11.709843\n",
      "Save output signals into checkpoint/Scene1-MLP/sample/0013.npy\n"
     ]
    },
    {
     "name": "stderr",
     "output_type": "stream",
     "text": [
      "[0014/0100] Train: 100%|█████████████████████████████| 216/216 [00:06<00:00, 35.05it/s, loss 3.3416]\n",
      "[0014/0100] Validation: 100%|████████████████████| 224/224 [00:05<00:00, 44.50it/s, val_loss 6.4397]\n",
      "[0015/0100] Train:   0%|                                                    | 0/216 [00:00<?, ?it/s]"
     ]
    },
    {
     "name": "stdout",
     "output_type": "stream",
     "text": [
      "                  validation\n",
      " - Yaw          :   1.273917\n",
      " - Pitch        :   1.053202\n",
      " - Roll         :   0.839402\n",
      " - RMS          :   1.070311\n",
      " - 99% Tile     :  11.376478\n",
      "Save output signals into checkpoint/Scene1-MLP/sample/0014.npy\n"
     ]
    },
    {
     "name": "stderr",
     "output_type": "stream",
     "text": [
      "[0015/0100] Train: 100%|█████████████████████████████| 216/216 [00:06<00:00, 35.50it/s, loss 2.8120]\n",
      "[0015/0100] Validation: 100%|████████████████████| 224/224 [00:05<00:00, 43.08it/s, val_loss 6.3624]\n",
      "[0016/0100] Train:   0%|                                                    | 0/216 [00:00<?, ?it/s]"
     ]
    },
    {
     "name": "stdout",
     "output_type": "stream",
     "text": [
      "                  validation\n",
      " - Yaw          :   1.170126\n",
      " - Pitch        :   1.120201\n",
      " - Roll         :   0.804014\n",
      " - RMS          :   1.044108\n",
      " - 99% Tile     :  11.431946\n",
      "Save output signals into checkpoint/Scene1-MLP/sample/0015.npy\n"
     ]
    },
    {
     "name": "stderr",
     "output_type": "stream",
     "text": [
      "[0016/0100] Train: 100%|█████████████████████████████| 216/216 [00:06<00:00, 34.72it/s, loss 2.4343]\n",
      "[0016/0100] Validation: 100%|████████████████████| 224/224 [00:05<00:00, 43.22it/s, val_loss 5.4782]\n",
      "[0017/0100] Train:   0%|                                                    | 0/216 [00:00<?, ?it/s]"
     ]
    },
    {
     "name": "stdout",
     "output_type": "stream",
     "text": [
      "                  validation\n",
      " - Yaw          :   1.103976\n",
      " - Pitch        :   0.915864\n",
      " - Roll         :   0.804724\n",
      " - RMS          :   0.949588\n",
      " - 99% Tile     :  10.339651\n",
      "Save output signals into checkpoint/Scene1-MLP/sample/0016.npy\n"
     ]
    },
    {
     "name": "stderr",
     "output_type": "stream",
     "text": [
      "[0017/0100] Train: 100%|█████████████████████████████| 216/216 [00:06<00:00, 35.16it/s, loss 2.1160]\n",
      "[0017/0100] Validation: 100%|████████████████████| 224/224 [00:05<00:00, 43.28it/s, val_loss 5.1705]\n",
      "[0018/0100] Train:   0%|                                                    | 0/216 [00:00<?, ?it/s]"
     ]
    },
    {
     "name": "stdout",
     "output_type": "stream",
     "text": [
      "                  validation\n",
      " - Yaw          :   1.069694\n",
      " - Pitch        :   0.951467\n",
      " - Roll         :   0.771804\n",
      " - RMS          :   0.939010\n",
      " - 99% Tile     :   9.387890\n",
      "Save output signals into checkpoint/Scene1-MLP/sample/0017.npy\n"
     ]
    },
    {
     "name": "stderr",
     "output_type": "stream",
     "text": [
      "[0018/0100] Train: 100%|█████████████████████████████| 216/216 [00:06<00:00, 34.77it/s, loss 1.9140]\n",
      "[0018/0100] Validation: 100%|████████████████████| 224/224 [00:05<00:00, 43.69it/s, val_loss 5.3131]\n",
      "[0019/0100] Train:   0%|                                                    | 0/216 [00:00<?, ?it/s]"
     ]
    },
    {
     "name": "stdout",
     "output_type": "stream",
     "text": [
      "val_loss is not improved for 1 epochs\n",
      "                  validation\n",
      " - Yaw          :   1.061562\n",
      " - Pitch        :   0.948662\n",
      " - Roll         :   0.804918\n",
      " - RMS          :   0.944240\n",
      " - 99% Tile     :   9.738796\n",
      "Save output signals into checkpoint/Scene1-MLP/sample/0018.npy\n"
     ]
    },
    {
     "name": "stderr",
     "output_type": "stream",
     "text": [
      "[0019/0100] Train: 100%|█████████████████████████████| 216/216 [00:06<00:00, 35.16it/s, loss 1.7249]\n",
      "[0019/0100] Validation: 100%|████████████████████| 224/224 [00:05<00:00, 42.28it/s, val_loss 5.3039]\n",
      "[0020/0100] Train:   0%|                                                    | 0/216 [00:00<?, ?it/s]"
     ]
    },
    {
     "name": "stdout",
     "output_type": "stream",
     "text": [
      "val_loss is not improved for 2 epochs\n",
      "                  validation\n",
      " - Yaw          :   1.062456\n",
      " - Pitch        :   0.932523\n",
      " - Roll         :   0.804759\n",
      " - RMS          :   0.939157\n",
      " - 99% Tile     :  10.077419\n",
      "Save output signals into checkpoint/Scene1-MLP/sample/0019.npy\n"
     ]
    },
    {
     "name": "stderr",
     "output_type": "stream",
     "text": [
      "[0020/0100] Train: 100%|█████████████████████████████| 216/216 [00:06<00:00, 34.82it/s, loss 1.5765]\n",
      "[0020/0100] Validation: 100%|████████████████████| 224/224 [00:05<00:00, 42.92it/s, val_loss 5.2377]\n",
      "[0021/0100] Train:   0%|                                                    | 0/216 [00:00<?, ?it/s]"
     ]
    },
    {
     "name": "stdout",
     "output_type": "stream",
     "text": [
      "val_loss is not improved for 3 epochs\n",
      "                  validation\n",
      " - Yaw          :   1.111697\n",
      " - Pitch        :   1.076539\n",
      " - Roll         :   0.788484\n",
      " - RMS          :   1.002748\n",
      " - 99% Tile     :   9.848244\n",
      "Save output signals into checkpoint/Scene1-MLP/sample/0020.npy\n"
     ]
    },
    {
     "name": "stderr",
     "output_type": "stream",
     "text": [
      "[0021/0100] Train: 100%|█████████████████████████████| 216/216 [00:06<00:00, 35.54it/s, loss 1.5182]\n",
      "[0021/0100] Validation: 100%|████████████████████| 224/224 [00:05<00:00, 44.50it/s, val_loss 5.1949]\n",
      "[0022/0100] Train:   0%|                                                    | 0/216 [00:00<?, ?it/s]"
     ]
    },
    {
     "name": "stdout",
     "output_type": "stream",
     "text": [
      "val_loss is not improved for 4 epochs\n",
      "                  validation\n",
      " - Yaw          :   1.086195\n",
      " - Pitch        :   0.932821\n",
      " - Roll         :   0.750895\n",
      " - RMS          :   0.933420\n",
      " - 99% Tile     :   9.873905\n",
      "Save output signals into checkpoint/Scene1-MLP/sample/0021.npy\n"
     ]
    },
    {
     "name": "stderr",
     "output_type": "stream",
     "text": [
      "[0022/0100] Train: 100%|█████████████████████████████| 216/216 [00:06<00:00, 35.27it/s, loss 1.3400]\n",
      "[0022/0100] Validation: 100%|████████████████████| 224/224 [00:05<00:00, 44.33it/s, val_loss 5.7232]\n",
      "[0023/0100] Train:   0%|                                                    | 0/216 [00:00<?, ?it/s]"
     ]
    },
    {
     "name": "stdout",
     "output_type": "stream",
     "text": [
      "Decaying lr from 0.001 to 0.0005 because val_loss did not improved for 5 epochs\n",
      "val_loss is not improved for 5 epochs\n",
      "                  validation\n",
      " - Yaw          :   1.209720\n",
      " - Pitch        :   0.917496\n",
      " - Roll         :   0.737728\n",
      " - RMS          :   0.974588\n",
      " - 99% Tile     :  11.802305\n",
      "Save output signals into checkpoint/Scene1-MLP/sample/0022.npy\n"
     ]
    },
    {
     "name": "stderr",
     "output_type": "stream",
     "text": [
      "[0023/0100] Train: 100%|█████████████████████████████| 216/216 [00:05<00:00, 36.20it/s, loss 1.2043]\n",
      "[0023/0100] Validation: 100%|████████████████████| 224/224 [00:05<00:00, 44.06it/s, val_loss 5.8236]\n",
      "[0024/0100] Train:   0%|                                                    | 0/216 [00:00<?, ?it/s]"
     ]
    },
    {
     "name": "stdout",
     "output_type": "stream",
     "text": [
      "val_loss is not improved for 6 epochs\n",
      "                  validation\n",
      " - Yaw          :   1.162557\n",
      " - Pitch        :   0.958642\n",
      " - Roll         :   0.732859\n",
      " - RMS          :   0.967405\n",
      " - 99% Tile     :  12.522636\n",
      "Save output signals into checkpoint/Scene1-MLP/sample/0023.npy\n"
     ]
    },
    {
     "name": "stderr",
     "output_type": "stream",
     "text": [
      "[0024/0100] Train: 100%|█████████████████████████████| 216/216 [00:06<00:00, 35.69it/s, loss 1.1553]\n",
      "[0024/0100] Validation: 100%|████████████████████| 224/224 [00:05<00:00, 44.23it/s, val_loss 5.3792]\n",
      "[0025/0100] Train:   0%|                                                    | 0/216 [00:00<?, ?it/s]"
     ]
    },
    {
     "name": "stdout",
     "output_type": "stream",
     "text": [
      "val_loss is not improved for 7 epochs\n",
      "                  validation\n",
      " - Yaw          :   1.082747\n",
      " - Pitch        :   0.863649\n",
      " - Roll         :   0.758157\n",
      " - RMS          :   0.911598\n",
      " - 99% Tile     :  10.657085\n",
      "Save output signals into checkpoint/Scene1-MLP/sample/0024.npy\n"
     ]
    },
    {
     "name": "stderr",
     "output_type": "stream",
     "text": [
      "[0025/0100] Train: 100%|█████████████████████████████| 216/216 [00:05<00:00, 36.16it/s, loss 1.1032]\n",
      "[0025/0100] Validation: 100%|████████████████████| 224/224 [00:05<00:00, 44.52it/s, val_loss 5.9053]\n",
      "[0026/0100] Train:   0%|                                                    | 0/216 [00:00<?, ?it/s]"
     ]
    },
    {
     "name": "stdout",
     "output_type": "stream",
     "text": [
      "val_loss is not improved for 8 epochs\n",
      "                  validation\n",
      " - Yaw          :   1.169279\n",
      " - Pitch        :   0.901240\n",
      " - Roll         :   0.730646\n",
      " - RMS          :   0.951015\n",
      " - 99% Tile     :  12.499954\n",
      "Save output signals into checkpoint/Scene1-MLP/sample/0025.npy\n"
     ]
    },
    {
     "name": "stderr",
     "output_type": "stream",
     "text": [
      "[0026/0100] Train: 100%|█████████████████████████████| 216/216 [00:06<00:00, 35.50it/s, loss 1.0706]\n",
      "[0026/0100] Validation: 100%|████████████████████| 224/224 [00:04<00:00, 44.90it/s, val_loss 5.3310]\n",
      "[0027/0100] Train:   0%|                                                    | 0/216 [00:00<?, ?it/s]"
     ]
    },
    {
     "name": "stdout",
     "output_type": "stream",
     "text": [
      "val_loss is not improved for 9 epochs\n",
      "                  validation\n",
      " - Yaw          :   1.126463\n",
      " - Pitch        :   0.878890\n",
      " - Roll         :   0.742575\n",
      " - RMS          :   0.929656\n",
      " - 99% Tile     :  10.461273\n",
      "Save output signals into checkpoint/Scene1-MLP/sample/0026.npy\n"
     ]
    },
    {
     "name": "stderr",
     "output_type": "stream",
     "text": [
      "[0027/0100] Train: 100%|█████████████████████████████| 216/216 [00:06<00:00, 35.42it/s, loss 1.0260]\n",
      "[0027/0100] Validation: 100%|████████████████████| 224/224 [00:05<00:00, 44.64it/s, val_loss 5.5883]"
     ]
    },
    {
     "name": "stdout",
     "output_type": "stream",
     "text": [
      "Decaying lr from 0.0005 to 0.00025 because val_loss did not improved for 5 epochs\n",
      "val_loss is not improved for 10 epochs\n",
      "Stop training because val_loss did not improved for 10 epochs\n",
      "                  validation\n",
      " - Yaw          :   1.160097\n",
      " - Pitch        :   0.913740\n",
      " - Roll         :   0.748255\n",
      " - RMS          :   0.955795\n",
      " - 99% Tile     :  11.289589\n",
      "Save output signals into checkpoint/Scene1-MLP/sample/0027.npy\n"
     ]
    },
    {
     "name": "stderr",
     "output_type": "stream",
     "text": [
      "\n"
     ]
    }
   ],
   "source": [
    "trainer.fit(ds_train, ds_test, num_epochs=100, batch_size=256, shuffle=True, pin_memory=True)"
   ]
  },
  {
   "cell_type": "code",
   "execution_count": null,
   "metadata": {},
   "outputs": [],
   "source": []
  }
 ],
 "metadata": {
  "kernelspec": {
   "display_name": "torch",
   "language": "python",
   "name": "torch"
  },
  "language_info": {
   "codemirror_mode": {
    "name": "ipython",
    "version": 3
   },
   "file_extension": ".py",
   "mimetype": "text/x-python",
   "name": "python",
   "nbconvert_exporter": "python",
   "pygments_lexer": "ipython3",
   "version": "3.7.9"
  }
 },
 "nbformat": 4,
 "nbformat_minor": 4
}
