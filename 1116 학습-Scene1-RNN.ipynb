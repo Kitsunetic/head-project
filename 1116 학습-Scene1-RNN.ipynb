{
 "cells": [
  {
   "cell_type": "markdown",
   "metadata": {},
   "source": [
    "# 학습 방법 - Scene\n",
    "\n",
    "3개의 Scene에 대해서 각각 따로 학습\n",
    "\n",
    "user별로 학습을 하지 않는 이유는 상관관계로 보았을 때 user끼리는 달라도 scene별로는 유사점이 꽤 보였기 때문."
   ]
  },
  {
   "cell_type": "code",
   "execution_count": 1,
   "metadata": {},
   "outputs": [],
   "source": [
    "from multiprocessing import cpu_count\n",
    "from pathlib import Path\n",
    "from typing import List, Union, AnyStr\n",
    "from math import pi\n",
    "import pickle\n",
    "\n",
    "import numpy as np\n",
    "import torch\n",
    "import matplotlib.pyplot as plt\n",
    "import torch.nn as nn\n",
    "from sklearn import model_selection\n",
    "from tqdm import tqdm\n",
    "import torch_optimizer\n",
    "from torch.utils.data import Dataset\n",
    "import pandas as pd\n",
    "import random\n",
    "\n",
    "import torch_burn as tb\n",
    "import utils"
   ]
  },
  {
   "cell_type": "code",
   "execution_count": 4,
   "metadata": {},
   "outputs": [],
   "source": [
    "EXPERIMENT_NAME = 'Scene1-LSTM4'\n",
    "CHECKPOINT_DIR = Path('checkpoint', EXPERIMENT_NAME)\n",
    "CHECKPOINT_DIR.mkdir(parents=True, exist_ok=True)\n",
    "\n",
    "DATA_DIR = Path('data/1116')\n",
    "TRAIN_FILES = sorted(list(DATA_DIR.glob('*scene1_0.csv')))\n",
    "TEST_FILES = sorted(list(DATA_DIR.glob('*scene1_1.csv')))"
   ]
  },
  {
   "cell_type": "markdown",
   "metadata": {},
   "source": [
    "# 데이터셋 생성\n",
    "\n",
    "scene1에 대해서 모든 user의 데이터를 하나로 합친다."
   ]
  },
  {
   "cell_type": "code",
   "execution_count": 5,
   "metadata": {},
   "outputs": [],
   "source": [
    "WINDOW_SIZE = 300"
   ]
  },
  {
   "cell_type": "code",
   "execution_count": 6,
   "metadata": {},
   "outputs": [],
   "source": [
    "class CSVSequentialDataset(Dataset):\n",
    "    def __init__(self, csvfile,\n",
    "                 window_size=300, randomized_window_size=False,\n",
    "                 stride=30, randomized_stride=False):\n",
    "        super(CSVSequentialDataset, self).__init__()\n",
    "\n",
    "        self.xcols = ['input_orientation_yaw', 'input_orientation_pitch', 'input_orientation_roll',\n",
    "                      'acceleration_x', 'acceleration_y', 'acceleration_z']\n",
    "        self.ycols = ['input_orientation_yaw', 'input_orientation_pitch', 'input_orientation_roll']\n",
    "\n",
    "        self.csv = pd.read_csv(csvfile)\n",
    "        self.window_size = window_size\n",
    "\n",
    "        self.indexes = []\n",
    "        i = 0\n",
    "        while i <= len(self.csv) - window_size * 2:\n",
    "            if randomized_window_size:\n",
    "                self.indexes.append((i, i + random.randint(window_size // 2, window_size)))\n",
    "            else:\n",
    "                self.indexes.append((i, i + window_size))\n",
    "\n",
    "            if randomized_stride:\n",
    "                i += random.randint(1, stride)\n",
    "            else:\n",
    "                i += stride\n",
    "\n",
    "    def __len__(self):\n",
    "        return len(self.indexes)\n",
    "\n",
    "    def __getitem__(self, idx):\n",
    "        s, t = self.indexes[idx]\n",
    "        x = self.csv.iloc[s:t][self.xcols].to_numpy()\n",
    "        y = self.csv.iloc[t + 6][self.ycols].to_numpy()\n",
    "\n",
    "        x = torch.tensor(x, dtype=torch.float32) # 300, 6\n",
    "        y = torch.tensor(y, dtype=torch.float32) # 3\n",
    "        \n",
    "        #x[:, :3] *= pi / 180\n",
    "        x[:, 3:] /= 10\n",
    "\n",
    "        return x, y"
   ]
  },
  {
   "cell_type": "code",
   "execution_count": 7,
   "metadata": {},
   "outputs": [],
   "source": [
    "ds_train = [CSVSequentialDataset(f,  \n",
    "                                 window_size=WINDOW_SIZE, randomized_window_size=False,\n",
    "                                 stride=5, randomized_stride=True) for f in TRAIN_FILES]\n",
    "ds_train = tb.data.ChainDataset(*ds_train)\n",
    "ds_test = [CSVSequentialDataset(f,  \n",
    "                                window_size=WINDOW_SIZE, randomized_window_size=False,\n",
    "                                stride=5, randomized_stride=True) for f in TEST_FILES]\n",
    "ds_test = tb.data.ChainDataset(*ds_test)"
   ]
  },
  {
   "cell_type": "code",
   "execution_count": 8,
   "metadata": {},
   "outputs": [
    {
     "data": {
      "text/plain": [
       "(17286, 17944)"
      ]
     },
     "execution_count": 8,
     "metadata": {},
     "output_type": "execute_result"
    }
   ],
   "source": [
    "len(ds_train), len(ds_test)"
   ]
  },
  {
   "cell_type": "code",
   "execution_count": 9,
   "metadata": {},
   "outputs": [
    {
     "data": {
      "text/plain": [
       "(torch.Size([300, 6]), torch.Size([3]))"
      ]
     },
     "execution_count": 9,
     "metadata": {},
     "output_type": "execute_result"
    }
   ],
   "source": [
    "ds_train[0][0].shape, ds_train[0][1].shape"
   ]
  },
  {
   "cell_type": "code",
   "execution_count": 10,
   "metadata": {},
   "outputs": [],
   "source": [
    "x, y = ds_train[0]"
   ]
  },
  {
   "cell_type": "code",
   "execution_count": 11,
   "metadata": {},
   "outputs": [
    {
     "data": {
      "text/plain": [
       "torch.Size([300, 6])"
      ]
     },
     "execution_count": 11,
     "metadata": {},
     "output_type": "execute_result"
    }
   ],
   "source": [
    "x.shape"
   ]
  },
  {
   "cell_type": "code",
   "execution_count": 12,
   "metadata": {},
   "outputs": [
    {
     "data": {
      "text/plain": [
       "[<matplotlib.lines.Line2D at 0x7faeac867950>]"
      ]
     },
     "execution_count": 12,
     "metadata": {},
     "output_type": "execute_result"
    },
    {
     "data": {
      "image/png": "[encoded data removed]",
      "text/plain": [
       "<Figure size 432x288 with 1 Axes>"
      ]
     },
     "metadata": {
      "needs_background": "light"
     },
     "output_type": "display_data"
    }
   ],
   "source": [
    "plt.plot(x[:, 2])"
   ]
  },
  {
   "cell_type": "markdown",
   "metadata": {},
   "source": [
    "# 모델 생성\n",
    "\n",
    "StackedLSTM Bidirectional"
   ]
  },
  {
   "cell_type": "code",
   "execution_count": 13,
   "metadata": {},
   "outputs": [],
   "source": [
    "model = utils.BaselineLSTM(input_size=6,\n",
    "                           hidden_size=64,\n",
    "                           num_layers=8,\n",
    "                           dropout=0.2,\n",
    "                           bidirectional=True).cuda()"
   ]
  },
  {
   "cell_type": "code",
   "execution_count": 14,
   "metadata": {},
   "outputs": [],
   "source": [
    "criterion = nn.MSELoss().cuda()\n",
    "optimizer = torch_optimizer.RAdam(model.parameters())"
   ]
  },
  {
   "cell_type": "code",
   "execution_count": 15,
   "metadata": {},
   "outputs": [],
   "source": [
    "metrics = [tb.metrics.ModuleMetric(criterion, 'loss'),\n",
    "           utils.HPMetric('hp_metric'),\n",
    "           utils.HPSignalHistory(CHECKPOINT_DIR / 'sample' / '{epoch:04d}.npy', 'hp_signal')]"
   ]
  },
  {
   "cell_type": "code",
   "execution_count": 16,
   "metadata": {},
   "outputs": [],
   "source": [
    "callbacks = [tb.callbacks.EarlyStopping(metrics[0]),\n",
    "             tb.callbacks.LRDecaying(optimizer, metrics[0])]"
   ]
  },
  {
   "cell_type": "code",
   "execution_count": 17,
   "metadata": {},
   "outputs": [],
   "source": [
    "trainer = tb.Trainer(model, optimizer, metrics, callbacks, ncols=100)"
   ]
  },
  {
   "cell_type": "code",
   "execution_count": 18,
   "metadata": {},
   "outputs": [
    {
     "name": "stderr",
     "output_type": "stream",
     "text": [
      "[0001/0100] Train: 100%|█████████████████████████████| 68/68 [00:14<00:00,  4.57it/s, loss 201.9559]\n",
      "[0001/0100] Validation: 100%|████████████████████| 71/71 [00:05<00:00, 12.86it/s, val_loss 152.2667]\n",
      "[0002/0100] Train:   0%|                                                     | 0/68 [00:00<?, ?it/s]"
     ]
    },
    {
     "name": "stdout",
     "output_type": "stream",
     "text": [
      "                  validation\n",
      " - Yaw          :   9.555084\n",
      " - Pitch        :  12.343380\n",
      " - Roll         :   3.076116\n",
      " - RMS          :   9.185516\n",
      " - 99% Tile     :  43.253641\n",
      "Save output signals into checkpoint/Scene1-LSTM4/sample/0001.npy\n"
     ]
    },
    {
     "name": "stderr",
     "output_type": "stream",
     "text": [
      "[0002/0100] Train: 100%|█████████████████████████████| 68/68 [00:14<00:00,  4.65it/s, loss 168.9648]\n",
      "[0002/0100] Validation: 100%|████████████████████| 71/71 [00:05<00:00, 13.16it/s, val_loss 115.5965]\n",
      "[0003/0100] Train:   0%|                                                     | 0/68 [00:00<?, ?it/s]"
     ]
    },
    {
     "name": "stdout",
     "output_type": "stream",
     "text": [
      "                  validation\n",
      " - Yaw          :   8.998699\n",
      " - Pitch        :   9.334251\n",
      " - Roll         :   3.074179\n",
      " - RMS          :   7.693188\n",
      " - 99% Tile     :  40.711262\n",
      "Save output signals into checkpoint/Scene1-LSTM4/sample/0002.npy\n"
     ]
    },
    {
     "name": "stderr",
     "output_type": "stream",
     "text": [
      "[0003/0100] Train: 100%|█████████████████████████████| 68/68 [00:14<00:00,  4.66it/s, loss 140.0989]\n",
      "[0003/0100] Validation: 100%|█████████████████████| 71/71 [00:05<00:00, 13.32it/s, val_loss 99.0034]\n",
      "[0004/0100] Train:   0%|                                                     | 0/68 [00:00<?, ?it/s]"
     ]
    },
    {
     "name": "stdout",
     "output_type": "stream",
     "text": [
      "                  validation\n",
      " - Yaw          :   8.907434\n",
      " - Pitch        :   7.695905\n",
      " - Roll         :   3.025908\n",
      " - RMS          :   7.017251\n",
      " - 99% Tile     :  38.498202\n",
      "Save output signals into checkpoint/Scene1-LSTM4/sample/0003.npy\n"
     ]
    },
    {
     "name": "stderr",
     "output_type": "stream",
     "text": [
      "[0004/0100] Train: 100%|█████████████████████████████| 68/68 [00:14<00:00,  4.63it/s, loss 114.6386]\n",
      "[0004/0100] Validation: 100%|█████████████████████| 71/71 [00:05<00:00, 13.44it/s, val_loss 73.6879]\n",
      "[0005/0100] Train:   0%|                                                     | 0/68 [00:00<?, ?it/s]"
     ]
    },
    {
     "name": "stdout",
     "output_type": "stream",
     "text": [
      "                  validation\n",
      " - Yaw          :   6.197730\n",
      " - Pitch        :   6.799731\n",
      " - Roll         :   2.991490\n",
      " - RMS          :   5.585613\n",
      " - 99% Tile     :  34.255402\n",
      "Save output signals into checkpoint/Scene1-LSTM4/sample/0004.npy\n"
     ]
    },
    {
     "name": "stderr",
     "output_type": "stream",
     "text": [
      "[0005/0100] Train: 100%|██████████████████████████████| 68/68 [00:14<00:00,  4.68it/s, loss 88.1260]\n",
      "[0005/0100] Validation: 100%|█████████████████████| 71/71 [00:05<00:00, 13.44it/s, val_loss 56.0201]\n",
      "[0006/0100] Train:   0%|                                                     | 0/68 [00:00<?, ?it/s]"
     ]
    },
    {
     "name": "stdout",
     "output_type": "stream",
     "text": [
      "                  validation\n",
      " - Yaw          :   5.111112\n",
      " - Pitch        :   5.277298\n",
      " - Roll         :   2.979436\n",
      " - RMS          :   4.577131\n",
      " - 99% Tile     :  31.848024\n",
      "Save output signals into checkpoint/Scene1-LSTM4/sample/0005.npy\n"
     ]
    },
    {
     "name": "stderr",
     "output_type": "stream",
     "text": [
      "[0006/0100] Train: 100%|██████████████████████████████| 68/68 [00:14<00:00,  4.66it/s, loss 69.7500]\n",
      "[0006/0100] Validation: 100%|█████████████████████| 71/71 [00:05<00:00, 13.32it/s, val_loss 45.3519]\n",
      "[0007/0100] Train:   0%|                                                     | 0/68 [00:00<?, ?it/s]"
     ]
    },
    {
     "name": "stdout",
     "output_type": "stream",
     "text": [
      "                  validation\n",
      " - Yaw          :   4.388671\n",
      " - Pitch        :   4.292875\n",
      " - Roll         :   2.911832\n",
      " - RMS          :   3.922923\n",
      " - 99% Tile     :  28.883767\n",
      "Save output signals into checkpoint/Scene1-LSTM4/sample/0006.npy\n"
     ]
    },
    {
     "name": "stderr",
     "output_type": "stream",
     "text": [
      "[0007/0100] Train: 100%|██████████████████████████████| 68/68 [00:14<00:00,  4.64it/s, loss 56.1364]\n",
      "[0007/0100] Validation: 100%|█████████████████████| 71/71 [00:05<00:00, 13.34it/s, val_loss 37.0302]\n",
      "[0008/0100] Train:   0%|                                                     | 0/68 [00:00<?, ?it/s]"
     ]
    },
    {
     "name": "stdout",
     "output_type": "stream",
     "text": [
      "                  validation\n",
      " - Yaw          :   3.621289\n",
      " - Pitch        :   3.447184\n",
      " - Roll         :   2.900119\n",
      " - RMS          :   3.337040\n",
      " - 99% Tile     :  26.474662\n",
      "Save output signals into checkpoint/Scene1-LSTM4/sample/0007.npy\n"
     ]
    },
    {
     "name": "stderr",
     "output_type": "stream",
     "text": [
      "[0008/0100] Train: 100%|██████████████████████████████| 68/68 [00:14<00:00,  4.64it/s, loss 45.9389]\n",
      "[0008/0100] Validation: 100%|█████████████████████| 71/71 [00:05<00:00, 13.27it/s, val_loss 31.6217]\n",
      "[0009/0100] Train:   0%|                                                     | 0/68 [00:00<?, ?it/s]"
     ]
    },
    {
     "name": "stdout",
     "output_type": "stream",
     "text": [
      "                  validation\n",
      " - Yaw          :   3.021711\n",
      " - Pitch        :   3.167988\n",
      " - Roll         :   2.899123\n",
      " - RMS          :   3.031600\n",
      " - 99% Tile     :  24.404422\n",
      "Save output signals into checkpoint/Scene1-LSTM4/sample/0008.npy\n"
     ]
    },
    {
     "name": "stderr",
     "output_type": "stream",
     "text": [
      "[0009/0100] Train: 100%|██████████████████████████████| 68/68 [00:14<00:00,  4.57it/s, loss 38.3769]\n",
      "[0009/0100] Validation: 100%|█████████████████████| 71/71 [00:05<00:00, 13.07it/s, val_loss 27.8457]\n",
      "[0010/0100] Train:   0%|                                                     | 0/68 [00:00<?, ?it/s]"
     ]
    },
    {
     "name": "stdout",
     "output_type": "stream",
     "text": [
      "                  validation\n",
      " - Yaw          :   3.193064\n",
      " - Pitch        :   2.807170\n",
      " - Roll         :   2.838178\n",
      " - RMS          :   2.951334\n",
      " - 99% Tile     :  23.106900\n",
      "Save output signals into checkpoint/Scene1-LSTM4/sample/0009.npy\n"
     ]
    },
    {
     "name": "stderr",
     "output_type": "stream",
     "text": [
      "[0010/0100] Train: 100%|██████████████████████████████| 68/68 [00:14<00:00,  4.61it/s, loss 32.5285]\n",
      "[0010/0100] Validation: 100%|█████████████████████| 71/71 [00:05<00:00, 13.07it/s, val_loss 24.2648]\n",
      "[0011/0100] Train:   0%|                                                     | 0/68 [00:00<?, ?it/s]"
     ]
    },
    {
     "name": "stdout",
     "output_type": "stream",
     "text": [
      "                  validation\n",
      " - Yaw          :   2.452052\n",
      " - Pitch        :   2.426284\n",
      " - Roll         :   2.885430\n",
      " - RMS          :   2.596479\n",
      " - 99% Tile     :  21.618600\n",
      "Save output signals into checkpoint/Scene1-LSTM4/sample/0010.npy\n"
     ]
    },
    {
     "name": "stderr",
     "output_type": "stream",
     "text": [
      "[0011/0100] Train: 100%|██████████████████████████████| 68/68 [00:17<00:00,  3.78it/s, loss 27.4543]\n",
      "[0011/0100] Validation: 100%|█████████████████████| 71/71 [00:07<00:00,  9.91it/s, val_loss 22.0319]\n",
      "[0012/0100] Train:   0%|                                                     | 0/68 [00:00<?, ?it/s]"
     ]
    },
    {
     "name": "stdout",
     "output_type": "stream",
     "text": [
      "                  validation\n",
      " - Yaw          :   2.341497\n",
      " - Pitch        :   2.277691\n",
      " - Roll         :   2.871434\n",
      " - RMS          :   2.511017\n",
      " - 99% Tile     :  20.478336\n",
      "Save output signals into checkpoint/Scene1-LSTM4/sample/0011.npy\n"
     ]
    },
    {
     "name": "stderr",
     "output_type": "stream",
     "text": [
      "[0012/0100] Train: 100%|██████████████████████████████| 68/68 [00:28<00:00,  2.40it/s, loss 23.7325]\n",
      "[0012/0100] Validation: 100%|█████████████████████| 71/71 [00:07<00:00, 10.01it/s, val_loss 20.4733]\n",
      "[0013/0100] Train:   0%|                                                     | 0/68 [00:00<?, ?it/s]"
     ]
    },
    {
     "name": "stdout",
     "output_type": "stream",
     "text": [
      "                  validation\n",
      " - Yaw          :   2.582007\n",
      " - Pitch        :   2.055724\n",
      " - Roll         :   2.793756\n",
      " - RMS          :   2.496520\n",
      " - 99% Tile     :  19.460552\n",
      "Save output signals into checkpoint/Scene1-LSTM4/sample/0012.npy\n"
     ]
    },
    {
     "name": "stderr",
     "output_type": "stream",
     "text": [
      "[0013/0100] Train: 100%|██████████████████████████████| 68/68 [00:28<00:00,  2.38it/s, loss 20.5314]\n",
      "[0013/0100] Validation: 100%|█████████████████████| 71/71 [00:07<00:00,  9.88it/s, val_loss 18.5678]\n",
      "[0014/0100] Train:   0%|                                                     | 0/68 [00:00<?, ?it/s]"
     ]
    },
    {
     "name": "stdout",
     "output_type": "stream",
     "text": [
      "                  validation\n",
      " - Yaw          :   1.965800\n",
      " - Pitch        :   2.029507\n",
      " - Roll         :   2.682616\n",
      " - RMS          :   2.249422\n",
      " - 99% Tile     :  18.808183\n",
      "Save output signals into checkpoint/Scene1-LSTM4/sample/0013.npy\n"
     ]
    },
    {
     "name": "stderr",
     "output_type": "stream",
     "text": [
      "[0014/0100] Train: 100%|██████████████████████████████| 68/68 [00:28<00:00,  2.37it/s, loss 17.6475]\n",
      "[0014/0100] Validation: 100%|█████████████████████| 71/71 [00:07<00:00,  9.79it/s, val_loss 17.2103]\n",
      "[0015/0100] Train:   0%|                                                     | 0/68 [00:00<?, ?it/s]"
     ]
    },
    {
     "name": "stdout",
     "output_type": "stream",
     "text": [
      "                  validation\n",
      " - Yaw          :   2.231725\n",
      " - Pitch        :   2.105660\n",
      " - Roll         :   2.608688\n",
      " - RMS          :   2.325199\n",
      " - 99% Tile     :  17.812693\n",
      "Save output signals into checkpoint/Scene1-LSTM4/sample/0014.npy\n"
     ]
    },
    {
     "name": "stderr",
     "output_type": "stream",
     "text": [
      "[0015/0100] Train: 100%|██████████████████████████████| 68/68 [00:28<00:00,  2.39it/s, loss 15.2958]\n",
      "[0015/0100] Validation: 100%|█████████████████████| 71/71 [00:07<00:00,  9.76it/s, val_loss 15.1176]\n",
      "[0016/0100] Train:   0%|                                                     | 0/68 [00:00<?, ?it/s]"
     ]
    },
    {
     "name": "stdout",
     "output_type": "stream",
     "text": [
      "                  validation\n",
      " - Yaw          :   1.680523\n",
      " - Pitch        :   1.839623\n",
      " - Roll         :   2.246248\n",
      " - RMS          :   1.936836\n",
      " - 99% Tile     :  17.155512\n",
      "Save output signals into checkpoint/Scene1-LSTM4/sample/0015.npy\n"
     ]
    },
    {
     "name": "stderr",
     "output_type": "stream",
     "text": [
      "[0016/0100] Train: 100%|██████████████████████████████| 68/68 [00:28<00:00,  2.38it/s, loss 13.3062]\n",
      "[0016/0100] Validation: 100%|█████████████████████| 71/71 [00:07<00:00,  9.87it/s, val_loss 14.4696]\n",
      "[0017/0100] Train:   0%|                                                     | 0/68 [00:00<?, ?it/s]"
     ]
    },
    {
     "name": "stdout",
     "output_type": "stream",
     "text": [
      "                  validation\n",
      " - Yaw          :   1.593188\n",
      " - Pitch        :   2.013745\n",
      " - Roll         :   2.142298\n",
      " - RMS          :   1.930704\n",
      " - 99% Tile     :  16.653086\n",
      "Save output signals into checkpoint/Scene1-LSTM4/sample/0016.npy\n"
     ]
    },
    {
     "name": "stderr",
     "output_type": "stream",
     "text": [
      "[0017/0100] Train: 100%|██████████████████████████████| 68/68 [00:28<00:00,  2.37it/s, loss 11.6880]\n",
      "[0017/0100] Validation: 100%|█████████████████████| 71/71 [00:07<00:00,  9.98it/s, val_loss 13.7201]\n",
      "[0018/0100] Train:   0%|                                                     | 0/68 [00:00<?, ?it/s]"
     ]
    },
    {
     "name": "stdout",
     "output_type": "stream",
     "text": [
      "                  validation\n",
      " - Yaw          :   1.656855\n",
      " - Pitch        :   1.966329\n",
      " - Roll         :   2.044657\n",
      " - RMS          :   1.896685\n",
      " - 99% Tile     :  16.334293\n",
      "Save output signals into checkpoint/Scene1-LSTM4/sample/0017.npy\n"
     ]
    },
    {
     "name": "stderr",
     "output_type": "stream",
     "text": [
      "[0018/0100] Train: 100%|██████████████████████████████| 68/68 [00:28<00:00,  2.40it/s, loss 10.4198]\n",
      "[0018/0100] Validation: 100%|█████████████████████| 71/71 [00:07<00:00,  9.75it/s, val_loss 12.8588]\n",
      "[0019/0100] Train:   0%|                                                     | 0/68 [00:00<?, ?it/s]"
     ]
    },
    {
     "name": "stdout",
     "output_type": "stream",
     "text": [
      "                  validation\n",
      " - Yaw          :   1.509631\n",
      " - Pitch        :   1.899895\n",
      " - Roll         :   1.949755\n",
      " - RMS          :   1.797232\n",
      " - 99% Tile     :  15.078813\n",
      "Save output signals into checkpoint/Scene1-LSTM4/sample/0018.npy\n"
     ]
    },
    {
     "name": "stderr",
     "output_type": "stream",
     "text": [
      "[0019/0100] Train: 100%|███████████████████████████████| 68/68 [00:28<00:00,  2.37it/s, loss 9.1276]\n",
      "[0019/0100] Validation: 100%|█████████████████████| 71/71 [00:07<00:00,  9.69it/s, val_loss 12.3746]\n",
      "[0020/0100] Train:   0%|                                                     | 0/68 [00:00<?, ?it/s]"
     ]
    },
    {
     "name": "stdout",
     "output_type": "stream",
     "text": [
      "                  validation\n",
      " - Yaw          :   1.706850\n",
      " - Pitch        :   1.682470\n",
      " - Roll         :   1.894736\n",
      " - RMS          :   1.763903\n",
      " - 99% Tile     :  15.385703\n",
      "Save output signals into checkpoint/Scene1-LSTM4/sample/0019.npy\n"
     ]
    },
    {
     "name": "stderr",
     "output_type": "stream",
     "text": [
      "[0020/0100] Train: 100%|███████████████████████████████| 68/68 [00:28<00:00,  2.39it/s, loss 8.1981]\n",
      "[0020/0100] Validation: 100%|█████████████████████| 71/71 [00:07<00:00,  9.98it/s, val_loss 11.8906]\n",
      "[0021/0100] Train:   0%|                                                     | 0/68 [00:00<?, ?it/s]"
     ]
    },
    {
     "name": "stdout",
     "output_type": "stream",
     "text": [
      "                  validation\n",
      " - Yaw          :   1.563462\n",
      " - Pitch        :   1.607275\n",
      " - Roll         :   1.826864\n",
      " - RMS          :   1.669848\n",
      " - 99% Tile     :  14.713656\n",
      "Save output signals into checkpoint/Scene1-LSTM4/sample/0020.npy\n"
     ]
    },
    {
     "name": "stderr",
     "output_type": "stream",
     "text": [
      "[0021/0100] Train: 100%|███████████████████████████████| 68/68 [00:28<00:00,  2.38it/s, loss 7.3869]\n",
      "[0021/0100] Validation: 100%|█████████████████████| 71/71 [00:07<00:00,  9.66it/s, val_loss 12.3510]\n",
      "[0022/0100] Train:   0%|                                                     | 0/68 [00:00<?, ?it/s]"
     ]
    },
    {
     "name": "stdout",
     "output_type": "stream",
     "text": [
      "val_loss is not improved for 1 epochs\n",
      "                  validation\n",
      " - Yaw          :   2.003707\n",
      " - Pitch        :   1.747464\n",
      " - Roll         :   1.786206\n",
      " - RMS          :   1.849234\n",
      " - 99% Tile     :  14.348084\n",
      "Save output signals into checkpoint/Scene1-LSTM4/sample/0021.npy\n"
     ]
    },
    {
     "name": "stderr",
     "output_type": "stream",
     "text": [
      "[0022/0100] Train: 100%|███████████████████████████████| 68/68 [00:28<00:00,  2.40it/s, loss 6.7066]\n",
      "[0022/0100] Validation: 100%|█████████████████████| 71/71 [00:07<00:00, 10.01it/s, val_loss 11.3421]\n",
      "[0023/0100] Train:   0%|                                                     | 0/68 [00:00<?, ?it/s]"
     ]
    },
    {
     "name": "stdout",
     "output_type": "stream",
     "text": [
      "                  validation\n",
      " - Yaw          :   1.733453\n",
      " - Pitch        :   1.708570\n",
      " - Roll         :   1.738440\n",
      " - RMS          :   1.726871\n",
      " - 99% Tile     :  14.368463\n",
      "Save output signals into checkpoint/Scene1-LSTM4/sample/0022.npy\n"
     ]
    },
    {
     "name": "stderr",
     "output_type": "stream",
     "text": [
      "[0023/0100] Train: 100%|███████████████████████████████| 68/68 [00:28<00:00,  2.39it/s, loss 6.0094]\n",
      "[0023/0100] Validation: 100%|█████████████████████| 71/71 [00:07<00:00,  9.87it/s, val_loss 10.6222]\n",
      "[0024/0100] Train:   0%|                                                     | 0/68 [00:00<?, ?it/s]"
     ]
    },
    {
     "name": "stdout",
     "output_type": "stream",
     "text": [
      "                  validation\n",
      " - Yaw          :   1.578588\n",
      " - Pitch        :   1.437154\n",
      " - Roll         :   1.620349\n",
      " - RMS          :   1.547351\n",
      " - 99% Tile     :  14.194722\n",
      "Save output signals into checkpoint/Scene1-LSTM4/sample/0023.npy\n"
     ]
    },
    {
     "name": "stderr",
     "output_type": "stream",
     "text": [
      "[0024/0100] Train: 100%|███████████████████████████████| 68/68 [00:28<00:00,  2.38it/s, loss 5.7061]\n",
      "[0024/0100] Validation: 100%|█████████████████████| 71/71 [00:07<00:00, 10.07it/s, val_loss 10.3574]\n",
      "[0025/0100] Train:   0%|                                                     | 0/68 [00:00<?, ?it/s]"
     ]
    },
    {
     "name": "stdout",
     "output_type": "stream",
     "text": [
      "                  validation\n",
      " - Yaw          :   1.492576\n",
      " - Pitch        :   1.441442\n",
      " - Roll         :   1.647358\n",
      " - RMS          :   1.529632\n",
      " - 99% Tile     :  13.661090\n",
      "Save output signals into checkpoint/Scene1-LSTM4/sample/0024.npy\n"
     ]
    },
    {
     "name": "stderr",
     "output_type": "stream",
     "text": [
      "[0025/0100] Train: 100%|███████████████████████████████| 68/68 [00:28<00:00,  2.39it/s, loss 5.2537]\n",
      "[0025/0100] Validation: 100%|█████████████████████| 71/71 [00:07<00:00,  9.97it/s, val_loss 10.4005]\n",
      "[0026/0100] Train:   0%|                                                     | 0/68 [00:00<?, ?it/s]"
     ]
    },
    {
     "name": "stdout",
     "output_type": "stream",
     "text": [
      "val_loss is not improved for 1 epochs\n",
      "                  validation\n",
      " - Yaw          :   1.358807\n",
      " - Pitch        :   1.536274\n",
      " - Roll         :   1.578518\n",
      " - RMS          :   1.494235\n",
      " - 99% Tile     :  14.612156\n",
      "Save output signals into checkpoint/Scene1-LSTM4/sample/0025.npy\n"
     ]
    },
    {
     "name": "stderr",
     "output_type": "stream",
     "text": [
      "[0026/0100] Train: 100%|███████████████████████████████| 68/68 [00:28<00:00,  2.41it/s, loss 4.7226]\n",
      "[0026/0100] Validation: 100%|██████████████████████| 71/71 [00:07<00:00,  9.72it/s, val_loss 9.9919]\n",
      "[0027/0100] Train:   0%|                                                     | 0/68 [00:00<?, ?it/s]"
     ]
    },
    {
     "name": "stdout",
     "output_type": "stream",
     "text": [
      "                  validation\n",
      " - Yaw          :   1.435065\n",
      " - Pitch        :   1.422460\n",
      " - Roll         :   1.542891\n",
      " - RMS          :   1.467801\n",
      " - 99% Tile     :  13.844929\n",
      "Save output signals into checkpoint/Scene1-LSTM4/sample/0026.npy\n"
     ]
    },
    {
     "name": "stderr",
     "output_type": "stream",
     "text": [
      "[0027/0100] Train: 100%|███████████████████████████████| 68/68 [00:28<00:00,  2.39it/s, loss 4.4411]\n",
      "[0027/0100] Validation: 100%|██████████████████████| 71/71 [00:07<00:00, 10.06it/s, val_loss 9.8061]\n",
      "[0028/0100] Train:   0%|                                                     | 0/68 [00:00<?, ?it/s]"
     ]
    },
    {
     "name": "stdout",
     "output_type": "stream",
     "text": [
      "                  validation\n",
      " - Yaw          :   1.118491\n",
      " - Pitch        :   1.353261\n",
      " - Roll         :   1.527702\n",
      " - RMS          :   1.343653\n",
      " - 99% Tile     :  14.555186\n",
      "Save output signals into checkpoint/Scene1-LSTM4/sample/0027.npy\n"
     ]
    },
    {
     "name": "stderr",
     "output_type": "stream",
     "text": [
      "[0028/0100] Train: 100%|███████████████████████████████| 68/68 [00:28<00:00,  2.41it/s, loss 4.1527]\n",
      "[0028/0100] Validation: 100%|██████████████████████| 71/71 [00:07<00:00,  9.78it/s, val_loss 9.6986]\n",
      "[0029/0100] Train:   0%|                                                     | 0/68 [00:00<?, ?it/s]"
     ]
    },
    {
     "name": "stdout",
     "output_type": "stream",
     "text": [
      "                  validation\n",
      " - Yaw          :   1.709880\n",
      " - Pitch        :   1.361568\n",
      " - Roll         :   1.592891\n",
      " - RMS          :   1.561501\n",
      " - 99% Tile     :  13.731657\n",
      "Save output signals into checkpoint/Scene1-LSTM4/sample/0028.npy\n"
     ]
    },
    {
     "name": "stderr",
     "output_type": "stream",
     "text": [
      "[0029/0100] Train: 100%|███████████████████████████████| 68/68 [00:28<00:00,  2.41it/s, loss 4.0469]\n",
      "[0029/0100] Validation: 100%|██████████████████████| 71/71 [00:06<00:00, 10.14it/s, val_loss 9.8125]\n",
      "[0030/0100] Train:   0%|                                                     | 0/68 [00:00<?, ?it/s]"
     ]
    },
    {
     "name": "stdout",
     "output_type": "stream",
     "text": [
      "val_loss is not improved for 1 epochs\n",
      "                  validation\n",
      " - Yaw          :   1.698493\n",
      " - Pitch        :   1.436095\n",
      " - Roll         :   1.528286\n",
      " - RMS          :   1.558087\n",
      " - 99% Tile     :  14.208571\n",
      "Save output signals into checkpoint/Scene1-LSTM4/sample/0029.npy\n"
     ]
    },
    {
     "name": "stderr",
     "output_type": "stream",
     "text": [
      "[0030/0100] Train: 100%|███████████████████████████████| 68/68 [00:28<00:00,  2.40it/s, loss 3.7834]\n",
      "[0030/0100] Validation: 100%|██████████████████████| 71/71 [00:07<00:00,  9.75it/s, val_loss 9.1444]\n",
      "[0031/0100] Train:   0%|                                                     | 0/68 [00:00<?, ?it/s]"
     ]
    },
    {
     "name": "stdout",
     "output_type": "stream",
     "text": [
      "                  validation\n",
      " - Yaw          :   1.223894\n",
      " - Pitch        :   1.288292\n",
      " - Roll         :   1.460319\n",
      " - RMS          :   1.327924\n",
      " - 99% Tile     :  14.467308\n",
      "Save output signals into checkpoint/Scene1-LSTM4/sample/0030.npy\n"
     ]
    },
    {
     "name": "stderr",
     "output_type": "stream",
     "text": [
      "[0031/0100] Train: 100%|███████████████████████████████| 68/68 [00:28<00:00,  2.35it/s, loss 3.4884]\n",
      "[0031/0100] Validation: 100%|██████████████████████| 71/71 [00:07<00:00, 10.10it/s, val_loss 9.0712]\n",
      "[0032/0100] Train:   0%|                                                     | 0/68 [00:00<?, ?it/s]"
     ]
    },
    {
     "name": "stdout",
     "output_type": "stream",
     "text": [
      "                  validation\n",
      " - Yaw          :   1.130112\n",
      " - Pitch        :   1.308737\n",
      " - Roll         :   1.503853\n",
      " - RMS          :   1.323067\n",
      " - 99% Tile     :  14.778386\n",
      "Save output signals into checkpoint/Scene1-LSTM4/sample/0031.npy\n"
     ]
    },
    {
     "name": "stderr",
     "output_type": "stream",
     "text": [
      "[0032/0100] Train: 100%|███████████████████████████████| 68/68 [00:29<00:00,  2.32it/s, loss 3.2705]\n",
      "[0032/0100] Validation: 100%|██████████████████████| 71/71 [00:07<00:00,  9.95it/s, val_loss 9.3415]\n",
      "[0033/0100] Train:   0%|                                                     | 0/68 [00:00<?, ?it/s]"
     ]
    },
    {
     "name": "stdout",
     "output_type": "stream",
     "text": [
      "val_loss is not improved for 1 epochs\n",
      "                  validation\n",
      " - Yaw          :   1.365441\n",
      " - Pitch        :   1.656535\n",
      " - Roll         :   1.421938\n",
      " - RMS          :   1.486657\n",
      " - 99% Tile     :  14.023732\n",
      "Save output signals into checkpoint/Scene1-LSTM4/sample/0032.npy\n"
     ]
    },
    {
     "name": "stderr",
     "output_type": "stream",
     "text": [
      "[0033/0100] Train: 100%|███████████████████████████████| 68/68 [00:29<00:00,  2.34it/s, loss 3.1041]\n",
      "[0033/0100] Validation: 100%|██████████████████████| 71/71 [00:07<00:00, 10.12it/s, val_loss 9.6001]\n",
      "[0034/0100] Train:   0%|                                                     | 0/68 [00:00<?, ?it/s]"
     ]
    },
    {
     "name": "stdout",
     "output_type": "stream",
     "text": [
      "val_loss is not improved for 2 epochs\n",
      "                  validation\n",
      " - Yaw          :   1.529331\n",
      " - Pitch        :   1.538579\n",
      " - Roll         :   1.448928\n",
      " - RMS          :   1.506151\n",
      " - 99% Tile     :  13.970671\n",
      "Save output signals into checkpoint/Scene1-LSTM4/sample/0033.npy\n"
     ]
    },
    {
     "name": "stderr",
     "output_type": "stream",
     "text": [
      "[0034/0100] Train: 100%|███████████████████████████████| 68/68 [00:29<00:00,  2.33it/s, loss 2.9731]\n",
      "[0034/0100] Validation: 100%|██████████████████████| 71/71 [00:07<00:00, 10.14it/s, val_loss 8.4910]\n",
      "[0035/0100] Train:   0%|                                                     | 0/68 [00:00<?, ?it/s]"
     ]
    },
    {
     "name": "stdout",
     "output_type": "stream",
     "text": [
      "                  validation\n",
      " - Yaw          :   1.129034\n",
      " - Pitch        :   1.296911\n",
      " - Roll         :   1.406951\n",
      " - RMS          :   1.282732\n",
      " - 99% Tile     :  13.861277\n",
      "Save output signals into checkpoint/Scene1-LSTM4/sample/0034.npy\n"
     ]
    },
    {
     "name": "stderr",
     "output_type": "stream",
     "text": [
      "[0035/0100] Train: 100%|███████████████████████████████| 68/68 [00:28<00:00,  2.37it/s, loss 2.8413]\n",
      "[0035/0100] Validation: 100%|██████████████████████| 71/71 [00:07<00:00,  9.59it/s, val_loss 8.3844]\n",
      "[0036/0100] Train:   0%|                                                     | 0/68 [00:00<?, ?it/s]"
     ]
    },
    {
     "name": "stdout",
     "output_type": "stream",
     "text": [
      "                  validation\n",
      " - Yaw          :   1.196233\n",
      " - Pitch        :   1.234609\n",
      " - Roll         :   1.467222\n",
      " - RMS          :   1.304860\n",
      " - 99% Tile     :  13.823963\n",
      "Save output signals into checkpoint/Scene1-LSTM4/sample/0035.npy\n"
     ]
    },
    {
     "name": "stderr",
     "output_type": "stream",
     "text": [
      "[0036/0100] Train: 100%|███████████████████████████████| 68/68 [00:29<00:00,  2.34it/s, loss 2.7767]\n",
      "[0036/0100] Validation: 100%|██████████████████████| 71/71 [00:07<00:00, 10.02it/s, val_loss 8.9815]\n",
      "[0037/0100] Train:   0%|                                                     | 0/68 [00:00<?, ?it/s]"
     ]
    },
    {
     "name": "stdout",
     "output_type": "stream",
     "text": [
      "val_loss is not improved for 1 epochs\n",
      "                  validation\n",
      " - Yaw          :   1.650220\n",
      " - Pitch        :   1.353583\n",
      " - Roll         :   1.491258\n",
      " - RMS          :   1.503248\n",
      " - 99% Tile     :  14.004180\n",
      "Save output signals into checkpoint/Scene1-LSTM4/sample/0036.npy\n"
     ]
    },
    {
     "name": "stderr",
     "output_type": "stream",
     "text": [
      "[0037/0100] Train: 100%|███████████████████████████████| 68/68 [00:28<00:00,  2.35it/s, loss 2.6186]\n",
      "[0037/0100] Validation: 100%|██████████████████████| 71/71 [00:07<00:00, 10.09it/s, val_loss 8.4607]\n",
      "[0038/0100] Train:   0%|                                                     | 0/68 [00:00<?, ?it/s]"
     ]
    },
    {
     "name": "stdout",
     "output_type": "stream",
     "text": [
      "val_loss is not improved for 2 epochs\n",
      "                  validation\n",
      " - Yaw          :   1.374421\n",
      " - Pitch        :   1.386048\n",
      " - Roll         :   1.293845\n",
      " - RMS          :   1.352060\n",
      " - 99% Tile     :  13.882676\n",
      "Save output signals into checkpoint/Scene1-LSTM4/sample/0037.npy\n"
     ]
    },
    {
     "name": "stderr",
     "output_type": "stream",
     "text": [
      "[0038/0100] Train: 100%|███████████████████████████████| 68/68 [00:29<00:00,  2.33it/s, loss 2.5943]\n",
      "[0038/0100] Validation: 100%|██████████████████████| 71/71 [00:06<00:00, 10.20it/s, val_loss 8.4994]\n",
      "[0039/0100] Train:   0%|                                                     | 0/68 [00:00<?, ?it/s]"
     ]
    },
    {
     "name": "stdout",
     "output_type": "stream",
     "text": [
      "val_loss is not improved for 3 epochs\n",
      "                  validation\n",
      " - Yaw          :   1.181585\n",
      " - Pitch        :   1.355883\n",
      " - Roll         :   1.426500\n",
      " - RMS          :   1.325326\n",
      " - 99% Tile     :  13.652902\n",
      "Save output signals into checkpoint/Scene1-LSTM4/sample/0038.npy\n"
     ]
    },
    {
     "name": "stderr",
     "output_type": "stream",
     "text": [
      "[0039/0100] Train: 100%|███████████████████████████████| 68/68 [00:28<00:00,  2.35it/s, loss 2.4665]\n",
      "[0039/0100] Validation: 100%|██████████████████████| 71/71 [00:06<00:00, 10.25it/s, val_loss 7.8331]\n",
      "[0040/0100] Train:   0%|                                                     | 0/68 [00:00<?, ?it/s]"
     ]
    },
    {
     "name": "stdout",
     "output_type": "stream",
     "text": [
      "                  validation\n",
      " - Yaw          :   1.121182\n",
      " - Pitch        :   1.397153\n",
      " - Roll         :   1.248368\n",
      " - RMS          :   1.260623\n",
      " - 99% Tile     :  13.671172\n",
      "Save output signals into checkpoint/Scene1-LSTM4/sample/0039.npy\n"
     ]
    },
    {
     "name": "stderr",
     "output_type": "stream",
     "text": [
      "[0040/0100] Train: 100%|███████████████████████████████| 68/68 [00:29<00:00,  2.30it/s, loss 2.4516]\n",
      "[0040/0100] Validation: 100%|██████████████████████| 71/71 [00:07<00:00, 10.12it/s, val_loss 8.3566]\n",
      "[0041/0100] Train:   0%|                                                     | 0/68 [00:00<?, ?it/s]"
     ]
    },
    {
     "name": "stdout",
     "output_type": "stream",
     "text": [
      "val_loss is not improved for 1 epochs\n",
      "                  validation\n",
      " - Yaw          :   1.108140\n",
      " - Pitch        :   1.434701\n",
      " - Roll         :   1.322023\n",
      " - RMS          :   1.295388\n",
      " - 99% Tile     :  14.133078\n",
      "Save output signals into checkpoint/Scene1-LSTM4/sample/0040.npy\n"
     ]
    },
    {
     "name": "stderr",
     "output_type": "stream",
     "text": [
      "[0041/0100] Train: 100%|███████████████████████████████| 68/68 [00:28<00:00,  2.35it/s, loss 2.2031]\n",
      "[0041/0100] Validation: 100%|██████████████████████| 71/71 [00:07<00:00, 10.13it/s, val_loss 7.7683]\n",
      "[0042/0100] Train:   0%|                                                     | 0/68 [00:00<?, ?it/s]"
     ]
    },
    {
     "name": "stdout",
     "output_type": "stream",
     "text": [
      "                  validation\n",
      " - Yaw          :   1.086707\n",
      " - Pitch        :   1.221954\n",
      " - Roll         :   1.208914\n",
      " - RMS          :   1.174106\n",
      " - 99% Tile     :  13.563737\n",
      "Save output signals into checkpoint/Scene1-LSTM4/sample/0041.npy\n"
     ]
    },
    {
     "name": "stderr",
     "output_type": "stream",
     "text": [
      "[0042/0100] Train: 100%|███████████████████████████████| 68/68 [00:29<00:00,  2.32it/s, loss 2.1237]\n",
      "[0042/0100] Validation: 100%|██████████████████████| 71/71 [00:06<00:00, 10.26it/s, val_loss 8.3075]\n",
      "[0043/0100] Train:   0%|                                                     | 0/68 [00:00<?, ?it/s]"
     ]
    },
    {
     "name": "stdout",
     "output_type": "stream",
     "text": [
      "val_loss is not improved for 1 epochs\n",
      "                  validation\n",
      " - Yaw          :   1.271856\n",
      " - Pitch        :   1.440653\n",
      " - Roll         :   1.216814\n",
      " - RMS          :   1.313232\n",
      " - 99% Tile     :  13.650463\n",
      "Save output signals into checkpoint/Scene1-LSTM4/sample/0042.npy\n"
     ]
    },
    {
     "name": "stderr",
     "output_type": "stream",
     "text": [
      "[0043/0100] Train: 100%|███████████████████████████████| 68/68 [00:28<00:00,  2.36it/s, loss 2.1102]\n",
      "[0043/0100] Validation: 100%|██████████████████████| 71/71 [00:07<00:00,  9.84it/s, val_loss 8.0329]\n",
      "[0044/0100] Train:   0%|                                                     | 0/68 [00:00<?, ?it/s]"
     ]
    },
    {
     "name": "stdout",
     "output_type": "stream",
     "text": [
      "val_loss is not improved for 2 epochs\n",
      "                  validation\n",
      " - Yaw          :   1.034811\n",
      " - Pitch        :   1.265074\n",
      " - Roll         :   1.314245\n",
      " - RMS          :   1.210852\n",
      " - 99% Tile     :  13.600126\n",
      "Save output signals into checkpoint/Scene1-LSTM4/sample/0043.npy\n"
     ]
    },
    {
     "name": "stderr",
     "output_type": "stream",
     "text": [
      "[0044/0100] Train: 100%|███████████████████████████████| 68/68 [00:29<00:00,  2.33it/s, loss 2.1348]\n",
      "[0044/0100] Validation: 100%|██████████████████████| 71/71 [00:07<00:00, 10.04it/s, val_loss 7.4430]\n",
      "[0045/0100] Train:   0%|                                                     | 0/68 [00:00<?, ?it/s]"
     ]
    },
    {
     "name": "stdout",
     "output_type": "stream",
     "text": [
      "                  validation\n",
      " - Yaw          :   1.061626\n",
      " - Pitch        :   1.403986\n",
      " - Roll         :   1.241519\n",
      " - RMS          :   1.243596\n",
      " - 99% Tile     :  12.825870\n",
      "Save output signals into checkpoint/Scene1-LSTM4/sample/0044.npy\n"
     ]
    },
    {
     "name": "stderr",
     "output_type": "stream",
     "text": [
      "[0045/0100] Train: 100%|███████████████████████████████| 68/68 [00:29<00:00,  2.32it/s, loss 2.0064]\n",
      "[0045/0100] Validation: 100%|██████████████████████| 71/71 [00:07<00:00,  8.89it/s, val_loss 7.5453]\n",
      "[0046/0100] Train:   0%|                                                     | 0/68 [00:00<?, ?it/s]"
     ]
    },
    {
     "name": "stdout",
     "output_type": "stream",
     "text": [
      "val_loss is not improved for 1 epochs\n",
      "                  validation\n",
      " - Yaw          :   1.062240\n",
      " - Pitch        :   1.229528\n",
      " - Roll         :   1.196741\n",
      " - RMS          :   1.165087\n",
      " - 99% Tile     :  13.304275\n",
      "Save output signals into checkpoint/Scene1-LSTM4/sample/0045.npy\n"
     ]
    },
    {
     "name": "stderr",
     "output_type": "stream",
     "text": [
      "[0046/0100] Train: 100%|███████████████████████████████| 68/68 [00:39<00:00,  1.72it/s, loss 1.9498]\n",
      "[0046/0100] Validation: 100%|██████████████████████| 71/71 [00:09<00:00,  7.28it/s, val_loss 7.6733]\n",
      "[0047/0100] Train:   0%|                                                     | 0/68 [00:00<?, ?it/s]"
     ]
    },
    {
     "name": "stdout",
     "output_type": "stream",
     "text": [
      "val_loss is not improved for 2 epochs\n",
      "                  validation\n",
      " - Yaw          :   1.154173\n",
      " - Pitch        :   1.292539\n",
      " - Roll         :   1.183111\n",
      " - RMS          :   1.211408\n",
      " - 99% Tile     :  13.441555\n",
      "Save output signals into checkpoint/Scene1-LSTM4/sample/0046.npy\n"
     ]
    },
    {
     "name": "stderr",
     "output_type": "stream",
     "text": [
      "[0047/0100] Train: 100%|███████████████████████████████| 68/68 [00:39<00:00,  1.73it/s, loss 1.8386]\n",
      "[0047/0100] Validation: 100%|██████████████████████| 71/71 [00:10<00:00,  6.49it/s, val_loss 7.4784]\n",
      "[0048/0100] Train:   0%|                                                     | 0/68 [00:00<?, ?it/s]"
     ]
    },
    {
     "name": "stdout",
     "output_type": "stream",
     "text": [
      "val_loss is not improved for 3 epochs\n",
      "                  validation\n",
      " - Yaw          :   1.172397\n",
      " - Pitch        :   1.235055\n",
      " - Roll         :   1.166580\n",
      " - RMS          :   1.191747\n",
      " - 99% Tile     :  12.952722\n",
      "Save output signals into checkpoint/Scene1-LSTM4/sample/0047.npy\n"
     ]
    },
    {
     "name": "stderr",
     "output_type": "stream",
     "text": [
      "[0048/0100] Train: 100%|███████████████████████████████| 68/68 [00:39<00:00,  1.72it/s, loss 1.8058]\n",
      "[0048/0100] Validation: 100%|██████████████████████| 71/71 [00:10<00:00,  6.62it/s, val_loss 7.5114]\n",
      "[0049/0100] Train:   0%|                                                     | 0/68 [00:00<?, ?it/s]"
     ]
    },
    {
     "name": "stdout",
     "output_type": "stream",
     "text": [
      "val_loss is not improved for 4 epochs\n",
      "                  validation\n",
      " - Yaw          :   1.050910\n",
      " - Pitch        :   1.208245\n",
      " - Roll         :   1.173095\n",
      " - RMS          :   1.146069\n",
      " - 99% Tile     :  13.334414\n",
      "Save output signals into checkpoint/Scene1-LSTM4/sample/0048.npy\n"
     ]
    },
    {
     "name": "stderr",
     "output_type": "stream",
     "text": [
      "[0049/0100] Train: 100%|███████████████████████████████| 68/68 [00:40<00:00,  1.67it/s, loss 1.7867]\n",
      "[0049/0100] Validation: 100%|██████████████████████| 71/71 [00:10<00:00,  6.86it/s, val_loss 7.8603]\n",
      "[0050/0100] Train:   0%|                                                     | 0/68 [00:00<?, ?it/s]"
     ]
    },
    {
     "name": "stdout",
     "output_type": "stream",
     "text": [
      "Decaying lr from 0.001 to 0.0005 because val_loss did not improved for 5 epochs\n",
      "val_loss is not improved for 5 epochs\n",
      "                  validation\n",
      " - Yaw          :   1.393980\n",
      " - Pitch        :   1.330218\n",
      " - Roll         :   1.222642\n",
      " - RMS          :   1.317512\n",
      " - 99% Tile     :  13.003977\n",
      "Save output signals into checkpoint/Scene1-LSTM4/sample/0049.npy\n"
     ]
    },
    {
     "name": "stderr",
     "output_type": "stream",
     "text": [
      "[0050/0100] Train: 100%|███████████████████████████████| 68/68 [00:39<00:00,  1.70it/s, loss 1.6322]\n",
      "[0050/0100] Validation: 100%|██████████████████████| 71/71 [00:10<00:00,  7.06it/s, val_loss 7.4957]\n",
      "[0051/0100] Train:   0%|                                                     | 0/68 [00:00<?, ?it/s]"
     ]
    },
    {
     "name": "stdout",
     "output_type": "stream",
     "text": [
      "val_loss is not improved for 6 epochs\n",
      "                  validation\n",
      " - Yaw          :   0.972717\n",
      " - Pitch        :   1.130665\n",
      " - Roll         :   1.243566\n",
      " - RMS          :   1.121166\n",
      " - 99% Tile     :  13.642253\n",
      "Save output signals into checkpoint/Scene1-LSTM4/sample/0050.npy\n"
     ]
    },
    {
     "name": "stderr",
     "output_type": "stream",
     "text": [
      "[0051/0100] Train: 100%|███████████████████████████████| 68/68 [00:39<00:00,  1.71it/s, loss 1.5353]\n",
      "[0051/0100] Validation: 100%|██████████████████████| 71/71 [00:11<00:00,  6.27it/s, val_loss 7.5540]\n",
      "[0052/0100] Train:   0%|                                                     | 0/68 [00:00<?, ?it/s]"
     ]
    },
    {
     "name": "stdout",
     "output_type": "stream",
     "text": [
      "val_loss is not improved for 7 epochs\n",
      "                  validation\n",
      " - Yaw          :   1.123089\n",
      " - Pitch        :   1.129151\n",
      " - Roll         :   1.231950\n",
      " - RMS          :   1.162470\n",
      " - 99% Tile     :  13.360095\n",
      "Save output signals into checkpoint/Scene1-LSTM4/sample/0051.npy\n"
     ]
    },
    {
     "name": "stderr",
     "output_type": "stream",
     "text": [
      "[0052/0100] Train: 100%|███████████████████████████████| 68/68 [00:39<00:00,  1.72it/s, loss 1.5080]\n",
      "[0052/0100] Validation: 100%|██████████████████████| 71/71 [00:10<00:00,  6.75it/s, val_loss 7.1567]\n",
      "[0053/0100] Train:   0%|                                                     | 0/68 [00:00<?, ?it/s]"
     ]
    },
    {
     "name": "stdout",
     "output_type": "stream",
     "text": [
      "                  validation\n",
      " - Yaw          :   0.958945\n",
      " - Pitch        :   1.090774\n",
      " - Roll         :   1.207527\n",
      " - RMS          :   1.090487\n",
      " - 99% Tile     :  13.416411\n",
      "Save output signals into checkpoint/Scene1-LSTM4/sample/0052.npy\n"
     ]
    },
    {
     "name": "stderr",
     "output_type": "stream",
     "text": [
      "[0053/0100] Train: 100%|███████████████████████████████| 68/68 [00:39<00:00,  1.74it/s, loss 1.4734]\n",
      "[0053/0100] Validation: 100%|██████████████████████| 71/71 [00:10<00:00,  6.54it/s, val_loss 7.3231]\n",
      "[0054/0100] Train:   0%|                                                     | 0/68 [00:00<?, ?it/s]"
     ]
    },
    {
     "name": "stdout",
     "output_type": "stream",
     "text": [
      "val_loss is not improved for 1 epochs\n",
      "                  validation\n",
      " - Yaw          :   0.988797\n",
      " - Pitch        :   1.120103\n",
      " - Roll         :   1.133259\n",
      " - RMS          :   1.082686\n",
      " - 99% Tile     :  13.011492\n",
      "Save output signals into checkpoint/Scene1-LSTM4/sample/0053.npy\n"
     ]
    },
    {
     "name": "stderr",
     "output_type": "stream",
     "text": [
      "[0054/0100] Train: 100%|███████████████████████████████| 68/68 [00:39<00:00,  1.73it/s, loss 1.4164]\n",
      "[0054/0100] Validation: 100%|██████████████████████| 71/71 [00:10<00:00,  6.93it/s, val_loss 7.2529]\n",
      "[0055/0100] Train:   0%|                                                     | 0/68 [00:00<?, ?it/s]"
     ]
    },
    {
     "name": "stdout",
     "output_type": "stream",
     "text": [
      "val_loss is not improved for 2 epochs\n",
      "                  validation\n",
      " - Yaw          :   1.050251\n",
      " - Pitch        :   1.115363\n",
      " - Roll         :   1.118360\n",
      " - RMS          :   1.095109\n",
      " - 99% Tile     :  12.937068\n",
      "Save output signals into checkpoint/Scene1-LSTM4/sample/0054.npy\n"
     ]
    },
    {
     "name": "stderr",
     "output_type": "stream",
     "text": [
      "[0055/0100] Train: 100%|███████████████████████████████| 68/68 [00:40<00:00,  1.70it/s, loss 1.4173]\n",
      "[0055/0100] Validation: 100%|██████████████████████| 71/71 [00:10<00:00,  7.06it/s, val_loss 7.2657]\n",
      "[0056/0100] Train:   0%|                                                     | 0/68 [00:00<?, ?it/s]"
     ]
    },
    {
     "name": "stdout",
     "output_type": "stream",
     "text": [
      "val_loss is not improved for 3 epochs\n",
      "                  validation\n",
      " - Yaw          :   0.951410\n",
      " - Pitch        :   1.116605\n",
      " - Roll         :   1.136241\n",
      " - RMS          :   1.071297\n",
      " - 99% Tile     :  13.208341\n",
      "Save output signals into checkpoint/Scene1-LSTM4/sample/0055.npy\n"
     ]
    },
    {
     "name": "stderr",
     "output_type": "stream",
     "text": [
      "[0056/0100] Train: 100%|███████████████████████████████| 68/68 [00:39<00:00,  1.74it/s, loss 1.3628]\n",
      "[0056/0100] Validation: 100%|██████████████████████| 71/71 [00:09<00:00,  7.12it/s, val_loss 7.1982]\n",
      "[0057/0100] Train:   0%|                                                     | 0/68 [00:00<?, ?it/s]"
     ]
    },
    {
     "name": "stdout",
     "output_type": "stream",
     "text": [
      "val_loss is not improved for 4 epochs\n",
      "                  validation\n",
      " - Yaw          :   0.891558\n",
      " - Pitch        :   1.212568\n",
      " - Roll         :   1.132407\n",
      " - RMS          :   1.087435\n",
      " - 99% Tile     :  13.048061\n",
      "Save output signals into checkpoint/Scene1-LSTM4/sample/0056.npy\n"
     ]
    },
    {
     "name": "stderr",
     "output_type": "stream",
     "text": [
      "[0057/0100] Train: 100%|███████████████████████████████| 68/68 [00:38<00:00,  1.76it/s, loss 1.3517]\n",
      "[0057/0100] Validation: 100%|██████████████████████| 71/71 [00:11<00:00,  6.38it/s, val_loss 7.1844]\n",
      "[0058/0100] Train:   0%|                                                     | 0/68 [00:00<?, ?it/s]"
     ]
    },
    {
     "name": "stdout",
     "output_type": "stream",
     "text": [
      "Decaying lr from 0.0005 to 0.00025 because val_loss did not improved for 5 epochs\n",
      "val_loss is not improved for 5 epochs\n",
      "                  validation\n",
      " - Yaw          :   0.978639\n",
      " - Pitch        :   1.200996\n",
      " - Roll         :   1.140885\n",
      " - RMS          :   1.110817\n",
      " - 99% Tile     :  12.838061\n",
      "Save output signals into checkpoint/Scene1-LSTM4/sample/0057.npy\n"
     ]
    },
    {
     "name": "stderr",
     "output_type": "stream",
     "text": [
      "[0058/0100] Train: 100%|███████████████████████████████| 68/68 [00:39<00:00,  1.73it/s, loss 1.2868]\n",
      "[0058/0100] Validation: 100%|██████████████████████| 71/71 [00:09<00:00,  7.37it/s, val_loss 6.9247]\n",
      "[0059/0100] Train:   0%|                                                     | 0/68 [00:00<?, ?it/s]"
     ]
    },
    {
     "name": "stdout",
     "output_type": "stream",
     "text": [
      "                  validation\n",
      " - Yaw          :   0.962480\n",
      " - Pitch        :   1.139933\n",
      " - Roll         :   1.119228\n",
      " - RMS          :   1.076798\n",
      " - 99% Tile     :  12.707157\n",
      "Save output signals into checkpoint/Scene1-LSTM4/sample/0058.npy\n"
     ]
    },
    {
     "name": "stderr",
     "output_type": "stream",
     "text": [
      "[0059/0100] Train: 100%|███████████████████████████████| 68/68 [00:40<00:00,  1.70it/s, loss 1.2554]\n",
      "[0059/0100] Validation: 100%|██████████████████████| 71/71 [00:09<00:00,  7.27it/s, val_loss 7.0441]\n",
      "[0060/0100] Train:   0%|                                                     | 0/68 [00:00<?, ?it/s]"
     ]
    },
    {
     "name": "stdout",
     "output_type": "stream",
     "text": [
      "val_loss is not improved for 1 epochs\n",
      "                  validation\n",
      " - Yaw          :   0.942131\n",
      " - Pitch        :   1.095996\n",
      " - Roll         :   1.110960\n",
      " - RMS          :   1.052465\n",
      " - 99% Tile     :  12.843960\n",
      "Save output signals into checkpoint/Scene1-LSTM4/sample/0059.npy\n"
     ]
    },
    {
     "name": "stderr",
     "output_type": "stream",
     "text": [
      "[0060/0100] Train: 100%|███████████████████████████████| 68/68 [00:39<00:00,  1.74it/s, loss 1.2404]\n",
      "[0060/0100] Validation: 100%|██████████████████████| 71/71 [00:10<00:00,  6.66it/s, val_loss 7.0477]\n",
      "[0061/0100] Train:   0%|                                                     | 0/68 [00:00<?, ?it/s]"
     ]
    },
    {
     "name": "stdout",
     "output_type": "stream",
     "text": [
      "val_loss is not improved for 2 epochs\n",
      "                  validation\n",
      " - Yaw          :   0.981466\n",
      " - Pitch        :   1.090518\n",
      " - Roll         :   1.112881\n",
      " - RMS          :   1.063173\n",
      " - 99% Tile     :  12.802795\n",
      "Save output signals into checkpoint/Scene1-LSTM4/sample/0060.npy\n"
     ]
    },
    {
     "name": "stderr",
     "output_type": "stream",
     "text": [
      "[0061/0100] Train: 100%|███████████████████████████████| 68/68 [00:39<00:00,  1.74it/s, loss 1.2194]\n",
      "[0061/0100] Validation: 100%|██████████████████████| 71/71 [00:10<00:00,  6.63it/s, val_loss 6.9880]\n",
      "[0062/0100] Train:   0%|                                                     | 0/68 [00:00<?, ?it/s]"
     ]
    },
    {
     "name": "stdout",
     "output_type": "stream",
     "text": [
      "val_loss is not improved for 3 epochs\n",
      "                  validation\n",
      " - Yaw          :   0.992602\n",
      " - Pitch        :   1.096721\n",
      " - Roll         :   1.109973\n",
      " - RMS          :   1.067723\n",
      " - 99% Tile     :  12.769606\n",
      "Save output signals into checkpoint/Scene1-LSTM4/sample/0061.npy\n"
     ]
    },
    {
     "name": "stderr",
     "output_type": "stream",
     "text": [
      "[0062/0100] Train: 100%|███████████████████████████████| 68/68 [00:39<00:00,  1.74it/s, loss 1.2067]\n",
      "[0062/0100] Validation: 100%|██████████████████████| 71/71 [00:11<00:00,  6.13it/s, val_loss 7.2328]\n",
      "[0063/0100] Train:   0%|                                                     | 0/68 [00:00<?, ?it/s]"
     ]
    },
    {
     "name": "stdout",
     "output_type": "stream",
     "text": [
      "val_loss is not improved for 4 epochs\n",
      "                  validation\n",
      " - Yaw          :   1.051504\n",
      " - Pitch        :   1.170399\n",
      " - Roll         :   1.167565\n",
      " - RMS          :   1.131180\n",
      " - 99% Tile     :  13.072847\n",
      "Save output signals into checkpoint/Scene1-LSTM4/sample/0062.npy\n"
     ]
    },
    {
     "name": "stderr",
     "output_type": "stream",
     "text": [
      "[0063/0100] Train: 100%|███████████████████████████████| 68/68 [00:38<00:00,  1.77it/s, loss 1.2017]\n",
      "[0063/0100] Validation: 100%|██████████████████████| 71/71 [00:11<00:00,  6.33it/s, val_loss 7.0111]\n",
      "[0064/0100] Train:   0%|                                                     | 0/68 [00:00<?, ?it/s]"
     ]
    },
    {
     "name": "stdout",
     "output_type": "stream",
     "text": [
      "Decaying lr from 0.00025 to 0.000125 because val_loss did not improved for 5 epochs\n",
      "val_loss is not improved for 5 epochs\n",
      "                  validation\n",
      " - Yaw          :   1.051716\n",
      " - Pitch        :   1.103145\n",
      " - Roll         :   1.108367\n",
      " - RMS          :   1.088043\n",
      " - 99% Tile     :  12.765325\n",
      "Save output signals into checkpoint/Scene1-LSTM4/sample/0063.npy\n"
     ]
    },
    {
     "name": "stderr",
     "output_type": "stream",
     "text": [
      "[0064/0100] Train: 100%|███████████████████████████████| 68/68 [00:38<00:00,  1.77it/s, loss 1.1604]\n",
      "[0064/0100] Validation: 100%|██████████████████████| 71/71 [00:11<00:00,  6.33it/s, val_loss 6.9856]\n",
      "[0065/0100] Train:   0%|                                                     | 0/68 [00:00<?, ?it/s]"
     ]
    },
    {
     "name": "stdout",
     "output_type": "stream",
     "text": [
      "val_loss is not improved for 6 epochs\n",
      "                  validation\n",
      " - Yaw          :   0.958368\n",
      " - Pitch        :   1.129297\n",
      " - Roll         :   1.093903\n",
      " - RMS          :   1.063078\n",
      " - 99% Tile     :  12.822800\n",
      "Save output signals into checkpoint/Scene1-LSTM4/sample/0064.npy\n"
     ]
    },
    {
     "name": "stderr",
     "output_type": "stream",
     "text": [
      "[0065/0100] Train: 100%|███████████████████████████████| 68/68 [00:38<00:00,  1.75it/s, loss 1.1462]\n",
      "[0065/0100] Validation: 100%|██████████████████████| 71/71 [00:09<00:00,  7.37it/s, val_loss 7.0281]\n",
      "[0066/0100] Train:   0%|                                                     | 0/68 [00:00<?, ?it/s]"
     ]
    },
    {
     "name": "stdout",
     "output_type": "stream",
     "text": [
      "val_loss is not improved for 7 epochs\n",
      "                  validation\n",
      " - Yaw          :   0.964315\n",
      " - Pitch        :   1.106336\n",
      " - Roll         :   1.097533\n",
      " - RMS          :   1.058058\n",
      " - 99% Tile     :  12.957870\n",
      "Save output signals into checkpoint/Scene1-LSTM4/sample/0065.npy\n"
     ]
    },
    {
     "name": "stderr",
     "output_type": "stream",
     "text": [
      "[0066/0100] Train: 100%|███████████████████████████████| 68/68 [00:37<00:00,  1.80it/s, loss 1.1362]\n",
      "[0066/0100] Validation: 100%|██████████████████████| 71/71 [00:09<00:00,  7.42it/s, val_loss 7.0506]\n",
      "[0067/0100] Train:   0%|                                                     | 0/68 [00:00<?, ?it/s]"
     ]
    },
    {
     "name": "stdout",
     "output_type": "stream",
     "text": [
      "val_loss is not improved for 8 epochs\n",
      "                  validation\n",
      " - Yaw          :   1.002429\n",
      " - Pitch        :   1.128760\n",
      " - Roll         :   1.096964\n",
      " - RMS          :   1.077388\n",
      " - 99% Tile     :  12.837382\n",
      "Save output signals into checkpoint/Scene1-LSTM4/sample/0066.npy\n"
     ]
    },
    {
     "name": "stderr",
     "output_type": "stream",
     "text": [
      "[0067/0100] Train: 100%|███████████████████████████████| 68/68 [00:37<00:00,  1.79it/s, loss 1.1443]\n",
      "[0067/0100] Validation: 100%|██████████████████████| 71/71 [00:09<00:00,  7.25it/s, val_loss 7.0020]\n",
      "[0068/0100] Train:   0%|                                                     | 0/68 [00:00<?, ?it/s]"
     ]
    },
    {
     "name": "stdout",
     "output_type": "stream",
     "text": [
      "val_loss is not improved for 9 epochs\n",
      "                  validation\n",
      " - Yaw          :   0.959440\n",
      " - Pitch        :   1.131157\n",
      " - Roll         :   1.092084\n",
      " - RMS          :   1.063436\n",
      " - 99% Tile     :  12.887334\n",
      "Save output signals into checkpoint/Scene1-LSTM4/sample/0067.npy\n"
     ]
    },
    {
     "name": "stderr",
     "output_type": "stream",
     "text": [
      "[0068/0100] Train: 100%|███████████████████████████████| 68/68 [00:38<00:00,  1.77it/s, loss 1.1199]\n",
      "[0068/0100] Validation: 100%|██████████████████████| 71/71 [00:10<00:00,  6.95it/s, val_loss 7.0327]"
     ]
    },
    {
     "name": "stdout",
     "output_type": "stream",
     "text": [
      "Decaying lr from 0.000125 to 6.25e-05 because val_loss did not improved for 5 epochs\n",
      "val_loss is not improved for 10 epochs\n",
      "Stop training because val_loss did not improved for 10 epochs\n",
      "                  validation\n",
      " - Yaw          :   0.929708\n",
      " - Pitch        :   1.141821\n",
      " - Roll         :   1.106131\n",
      " - RMS          :   1.063271\n",
      " - 99% Tile     :  12.988713\n",
      "Save output signals into checkpoint/Scene1-LSTM4/sample/0068.npy\n"
     ]
    },
    {
     "name": "stderr",
     "output_type": "stream",
     "text": [
      "\n"
     ]
    }
   ],
   "source": [
    "trainer.fit(ds_train, ds_test, num_epochs=100, batch_size=256, shuffle=True, pin_memory=True)"
   ]
  },
  {
   "cell_type": "code",
   "execution_count": null,
   "metadata": {},
   "outputs": [],
   "source": []
  }
 ],
 "metadata": {
  "kernelspec": {
   "display_name": "torch",
   "language": "python",
   "name": "torch"
  },
  "language_info": {
   "codemirror_mode": {
    "name": "ipython",
    "version": 3
   },
   "file_extension": ".py",
   "mimetype": "text/x-python",
   "name": "python",
   "nbconvert_exporter": "python",
   "pygments_lexer": "ipython3",
   "version": "3.7.9"
  }
 },
 "nbformat": 4,
 "nbformat_minor": 4
}
