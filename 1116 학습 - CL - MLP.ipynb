{
 "cells": [
  {
   "cell_type": "markdown",
   "metadata": {},
   "source": [
    "# 학습 방법 - 일종의 curriculum learning?\n",
    "\n",
    "전체 train 데이터를 합친 데이터에서 학습을 하고, 나중에 각각의 user / scene 별로 추가 학습을 한다.  \n",
    "몇몇 csv 파일들이 전/후반부의 데이터 상관관계가 달랐기 때문에, 한 명의 scene에 대해서만 학습을 하는 것보다 이게 더 좋을 것 같음."
   ]
  },
  {
   "cell_type": "code",
   "execution_count": null,
   "metadata": {},
   "outputs": [],
   "source": []
  }
 ],
 "metadata": {
  "kernelspec": {
   "display_name": "torch",
   "language": "python",
   "name": "torch"
  },
  "language_info": {
   "codemirror_mode": {
    "name": "ipython",
    "version": 3
   },
   "file_extension": ".py",
   "mimetype": "text/x-python",
   "name": "python",
   "nbconvert_exporter": "python",
   "pygments_lexer": "ipython3",
   "version": "3.7.9"
  }
 },
 "nbformat": 4,
 "nbformat_minor": 4
}
