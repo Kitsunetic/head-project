{
 "cells": [
  {
   "cell_type": "markdown",
   "metadata": {},
   "source": [
    "# 학습 결과\n",
    "\n",
    "user1의 scene 1~3만 사용해서 학습\n",
    "\n",
    "scene보다 user가 많기 때문에 데이터의 양이 확연히 줄어듬에도 불구하고 성능이 괜찮음.  \n",
    "적은 데이터 특화됐기 때문인지는 모르겠다.\n",
    "\n",
    "나머지 scene에 대해서도 잘 학습을 하면서 user에 대해서도 특화된다면 성능을 상당히 끌어올릴 수 있을 것으로 기대됨.  \n",
    "--> curriculum learning"
   ]
  },
  {
   "cell_type": "code",
   "execution_count": 1,
   "metadata": {},
   "outputs": [],
   "source": [
    "from multiprocessing import cpu_count\n",
    "from pathlib import Path\n",
    "from typing import List, Union, AnyStr\n",
    "from math import pi\n",
    "import pickle\n",
    "\n",
    "import numpy as np\n",
    "import torch\n",
    "import matplotlib.pyplot as plt\n",
    "import torch.nn as nn\n",
    "from sklearn import model_selection\n",
    "from tqdm import tqdm\n",
    "import torch_optimizer\n",
    "from torch.utils.data import Dataset\n",
    "import pandas as pd\n",
    "import random\n",
    "\n",
    "import torch_burn as tb\n",
    "import utils"
   ]
  },
  {
   "cell_type": "code",
   "execution_count": 2,
   "metadata": {},
   "outputs": [],
   "source": [
    "EXPERIMENT_NAME = '1122-Scene3-CLSTM2-win48-dyaw'\n",
    "CHECKPOINT_DIR = Path('checkpoint', EXPERIMENT_NAME)\n",
    "CHECKPOINT_DIR.mkdir(parents=True, exist_ok=True)\n",
    "\n",
    "DATA_DIR = Path('data/1116')\n",
    "TRAIN_FILES = sorted(list(DATA_DIR.glob('*scene3_0.csv')))\n",
    "TEST_FILES = sorted(list(DATA_DIR.glob('*scene3_1.csv')))"
   ]
  },
  {
   "cell_type": "markdown",
   "metadata": {},
   "source": [
    "# 데이터셋 생성\n",
    "\n",
    "scene1에 대해서 모든 user의 데이터를 하나로 합친다."
   ]
  },
  {
   "cell_type": "code",
   "execution_count": 3,
   "metadata": {},
   "outputs": [],
   "source": [
    "WINDOW_SIZE = 48"
   ]
  },
  {
   "cell_type": "code",
   "execution_count": 4,
   "metadata": {},
   "outputs": [],
   "source": [
    "class CSVSequentialDataset(Dataset):\n",
    "    def __init__(self, csvfile,\n",
    "                 window_size=300, randomized_window_size=False,\n",
    "                 stride=30, randomized_stride=False):\n",
    "        super(CSVSequentialDataset, self).__init__()\n",
    "\n",
    "        self.xcols = ['input_orientation_yaw', 'input_orientation_pitch', 'input_orientation_roll',\n",
    "                      'acceleration_x', 'acceleration_y', 'acceleration_z',\n",
    "                      'dyaw', 'dpitch', 'droll']\n",
    "        self.ycols = ['input_orientation_yaw', 'input_orientation_pitch', 'input_orientation_roll']\n",
    "\n",
    "        self.csv = pd.read_csv(csvfile)\n",
    "        self.window_size = window_size\n",
    "\n",
    "        self.indexes = []\n",
    "        i = 0\n",
    "        while i <= len(self.csv) - window_size * 2:\n",
    "            if randomized_window_size:\n",
    "                self.indexes.append((i, i + random.randint(window_size // 2, window_size)))\n",
    "            else:\n",
    "                self.indexes.append((i, i + window_size))\n",
    "\n",
    "            if randomized_stride:\n",
    "                i += random.randint(1, stride)\n",
    "            else:\n",
    "                i += stride\n",
    "\n",
    "    def __len__(self):\n",
    "        return len(self.indexes)\n",
    "\n",
    "    def __getitem__(self, idx):\n",
    "        s, t = self.indexes[idx]\n",
    "        x = self.csv.iloc[s:t][self.xcols].to_numpy()\n",
    "        y = self.csv.iloc[t + 6][self.ycols].to_numpy()\n",
    "\n",
    "        x = torch.tensor(x, dtype=torch.float32) # 300, 6\n",
    "        y = torch.tensor(y, dtype=torch.float32) # 3\n",
    "        \n",
    "        #x[:, :3] *= pi / 180\n",
    "        x[:, 3:] /= 10\n",
    "\n",
    "        return x, y"
   ]
  },
  {
   "cell_type": "code",
   "execution_count": 5,
   "metadata": {},
   "outputs": [],
   "source": [
    "ds_train = [CSVSequentialDataset(f,  \n",
    "                                 window_size=WINDOW_SIZE, randomized_window_size=False,\n",
    "                                 stride=5, randomized_stride=True) for f in TRAIN_FILES]\n",
    "ds_train = tb.data.ChainDataset(*ds_train)\n",
    "ds_test = [CSVSequentialDataset(f,  \n",
    "                                window_size=WINDOW_SIZE, randomized_window_size=False,\n",
    "                                stride=5, randomized_stride=True) for f in TEST_FILES]\n",
    "ds_test = tb.data.ChainDataset(*ds_test)"
   ]
  },
  {
   "cell_type": "code",
   "execution_count": 6,
   "metadata": {},
   "outputs": [
    {
     "data": {
      "text/plain": [
       "(18692, 18084)"
      ]
     },
     "execution_count": 6,
     "metadata": {},
     "output_type": "execute_result"
    }
   ],
   "source": [
    "len(ds_train), len(ds_test)"
   ]
  },
  {
   "cell_type": "code",
   "execution_count": 7,
   "metadata": {},
   "outputs": [
    {
     "data": {
      "text/plain": [
       "(torch.Size([48, 9]), torch.Size([3]))"
      ]
     },
     "execution_count": 7,
     "metadata": {},
     "output_type": "execute_result"
    }
   ],
   "source": [
    "ds_train[0][0].shape, ds_train[0][1].shape"
   ]
  },
  {
   "cell_type": "code",
   "execution_count": 8,
   "metadata": {},
   "outputs": [],
   "source": [
    "x, y = ds_train[0]"
   ]
  },
  {
   "cell_type": "code",
   "execution_count": 9,
   "metadata": {},
   "outputs": [
    {
     "data": {
      "text/plain": [
       "torch.Size([48, 9])"
      ]
     },
     "execution_count": 9,
     "metadata": {},
     "output_type": "execute_result"
    }
   ],
   "source": [
    "x.shape"
   ]
  },
  {
   "cell_type": "code",
   "execution_count": 10,
   "metadata": {},
   "outputs": [
    {
     "data": {
      "text/plain": [
       "[<matplotlib.lines.Line2D at 0x7f00d75afcd0>]"
      ]
     },
     "execution_count": 10,
     "metadata": {},
     "output_type": "execute_result"
    },
    {
     "data": {
      "image/png": "[encoded data removed]",
      "text/plain": [
       "<Figure size 432x288 with 1 Axes>"
      ]
     },
     "metadata": {
      "needs_background": "light"
     },
     "output_type": "display_data"
    }
   ],
   "source": [
    "plt.plot(x[:, 2])"
   ]
  },
  {
   "cell_type": "markdown",
   "metadata": {},
   "source": [
    "# 모델 생성"
   ]
  },
  {
   "cell_type": "code",
   "execution_count": 11,
   "metadata": {},
   "outputs": [],
   "source": [
    "class CLSTM(nn.Module):\n",
    "    def __init__(self, input_size=6, hidden_size=24, num_layers=8, dropout=0.0, bidirectional=False):\n",
    "        super(CLSTM, self).__init__()\n",
    "\n",
    "        self.conv_in = nn.Sequential(\n",
    "            nn.Conv1d(input_size, 12, 5, padding=2),\n",
    "            nn.BatchNorm1d(12),\n",
    "            nn.LeakyReLU(),\n",
    "            nn.Conv1d(12, 24, 5, padding=2),\n",
    "            nn.BatchNorm1d(24),\n",
    "        )\n",
    "\n",
    "        self.rnn = nn.LSTM(input_size=24,\n",
    "                           hidden_size=hidden_size,\n",
    "                           num_layers=num_layers,\n",
    "                           batch_first=True,\n",
    "                           dropout=dropout,\n",
    "                           bidirectional=bidirectional)\n",
    "\n",
    "        out_channels = 2 * hidden_size if bidirectional else hidden_size\n",
    "        self.fc = nn.Linear(out_channels, 3)\n",
    "\n",
    "    def forward(self, x):\n",
    "        x = x.transpose(1, 2)  # B, 48, 6 --> B, 6, 48\n",
    "        x = self.conv_in(x)  # B, 64, 48\n",
    "        x = x.transpose(1, 2)  # B, 48, 64\n",
    "\n",
    "        outs, (hiddens, cells) = self.rnn(x)\n",
    "        x = outs[:, -1, ...]\n",
    "        x = self.fc(x)\n",
    "\n",
    "        return x"
   ]
  },
  {
   "cell_type": "code",
   "execution_count": 12,
   "metadata": {},
   "outputs": [],
   "source": [
    "model = CLSTM(input_size=9, hidden_size=64, num_layers=8, dropout=0.2, bidirectional=True).cuda()"
   ]
  },
  {
   "cell_type": "code",
   "execution_count": 13,
   "metadata": {},
   "outputs": [],
   "source": [
    "criterion = nn.MSELoss().cuda()\n",
    "optimizer = torch_optimizer.RAdam(model.parameters())"
   ]
  },
  {
   "cell_type": "code",
   "execution_count": 14,
   "metadata": {},
   "outputs": [],
   "source": [
    "metrics = [tb.metrics.ModuleMetric(criterion, 'loss'),\n",
    "           utils.HPMetric('hp_metric'),\n",
    "           utils.HPSignalHistory(CHECKPOINT_DIR / 'sample' / '{epoch:04d}.npy', 'hp_signal')]"
   ]
  },
  {
   "cell_type": "code",
   "execution_count": 15,
   "metadata": {},
   "outputs": [],
   "source": [
    "callbacks = [tb.callbacks.EarlyStopping(metrics[0]),\n",
    "             tb.callbacks.LRDecaying(optimizer, metrics[0])]"
   ]
  },
  {
   "cell_type": "code",
   "execution_count": 16,
   "metadata": {},
   "outputs": [],
   "source": [
    "trainer = tb.Trainer(model, optimizer, metrics, callbacks, ncols=100)"
   ]
  },
  {
   "cell_type": "code",
   "execution_count": 17,
   "metadata": {},
   "outputs": [
    {
     "name": "stderr",
     "output_type": "stream",
     "text": [
      "[0001/0100] Train: 100%|█████████████████████████████| 74/74 [00:04<00:00, 18.06it/s, loss 284.8602]\n",
      "[0001/0100] Validation: 100%|████████████████████| 71/71 [00:02<00:00, 32.90it/s, val_loss 223.1758]\n",
      "[0002/0100] Train:   0%|                                                     | 0/74 [00:00<?, ?it/s]"
     ]
    },
    {
     "name": "stdout",
     "output_type": "stream",
     "text": [
      "                  validation\n",
      " - Yaw          :  19.209743\n",
      " - Pitch        :   9.771925\n",
      " - Roll         :   2.592726\n",
      " - RMS          :  12.532983\n",
      " - 99% Tile     :  43.777800\n",
      "Save output signals into checkpoint/1122-Scene3-CLSTM2-win48-dyaw/sample/0001.npy\n"
     ]
    },
    {
     "name": "stderr",
     "output_type": "stream",
     "text": [
      "[0002/0100] Train: 100%|█████████████████████████████| 74/74 [00:04<00:00, 18.30it/s, loss 244.0163]\n",
      "[0002/0100] Validation: 100%|████████████████████| 71/71 [00:02<00:00, 32.31it/s, val_loss 172.2971]\n",
      "[0003/0100] Train:   0%|                                                     | 0/74 [00:00<?, ?it/s]"
     ]
    },
    {
     "name": "stdout",
     "output_type": "stream",
     "text": [
      "                  validation\n",
      " - Yaw          :  16.106802\n",
      " - Pitch        :   8.863819\n",
      " - Roll         :   2.550051\n",
      " - RMS          :  10.716018\n",
      " - 99% Tile     :  40.351911\n",
      "Save output signals into checkpoint/1122-Scene3-CLSTM2-win48-dyaw/sample/0002.npy\n"
     ]
    },
    {
     "name": "stderr",
     "output_type": "stream",
     "text": [
      "[0003/0100] Train: 100%|█████████████████████████████| 74/74 [00:04<00:00, 18.45it/s, loss 185.5526]\n",
      "[0003/0100] Validation: 100%|████████████████████| 71/71 [00:02<00:00, 33.43it/s, val_loss 129.4450]\n",
      "[0004/0100] Train:   0%|                                                     | 0/74 [00:00<?, ?it/s]"
     ]
    },
    {
     "name": "stdout",
     "output_type": "stream",
     "text": [
      "                  validation\n",
      " - Yaw          :  12.683007\n",
      " - Pitch        :   8.963748\n",
      " - Roll         :   2.374054\n",
      " - RMS          :   9.070898\n",
      " - 99% Tile     :  34.760177\n",
      "Save output signals into checkpoint/1122-Scene3-CLSTM2-win48-dyaw/sample/0003.npy\n"
     ]
    },
    {
     "name": "stderr",
     "output_type": "stream",
     "text": [
      "[0004/0100] Train: 100%|█████████████████████████████| 74/74 [00:04<00:00, 18.16it/s, loss 146.9809]\n",
      "[0004/0100] Validation: 100%|█████████████████████| 71/71 [00:02<00:00, 32.19it/s, val_loss 98.9911]\n",
      "[0005/0100] Train:   0%|                                                     | 0/74 [00:00<?, ?it/s]"
     ]
    },
    {
     "name": "stdout",
     "output_type": "stream",
     "text": [
      "                  validation\n",
      " - Yaw          :  10.075305\n",
      " - Pitch        :   8.204325\n",
      " - Roll         :   2.330022\n",
      " - RMS          :   7.621280\n",
      " - 99% Tile     :  31.390526\n",
      "Save output signals into checkpoint/1122-Scene3-CLSTM2-win48-dyaw/sample/0004.npy\n"
     ]
    },
    {
     "name": "stderr",
     "output_type": "stream",
     "text": [
      "[0005/0100] Train: 100%|█████████████████████████████| 74/74 [00:04<00:00, 18.20it/s, loss 114.2900]\n",
      "[0005/0100] Validation: 100%|█████████████████████| 71/71 [00:02<00:00, 33.45it/s, val_loss 80.8136]\n",
      "[0006/0100] Train:   0%|                                                     | 0/74 [00:00<?, ?it/s]"
     ]
    },
    {
     "name": "stdout",
     "output_type": "stream",
     "text": [
      "                  validation\n",
      " - Yaw          :   8.789800\n",
      " - Pitch        :   7.549289\n",
      " - Roll         :   2.403988\n",
      " - RMS          :   6.832069\n",
      " - 99% Tile     :  28.710189\n",
      "Save output signals into checkpoint/1122-Scene3-CLSTM2-win48-dyaw/sample/0005.npy\n"
     ]
    },
    {
     "name": "stderr",
     "output_type": "stream",
     "text": [
      "[0006/0100] Train: 100%|██████████████████████████████| 74/74 [00:04<00:00, 18.16it/s, loss 95.5310]\n",
      "[0006/0100] Validation: 100%|█████████████████████| 71/71 [00:02<00:00, 33.21it/s, val_loss 67.8963]\n",
      "[0007/0100] Train:   0%|                                                     | 0/74 [00:00<?, ?it/s]"
     ]
    },
    {
     "name": "stdout",
     "output_type": "stream",
     "text": [
      "                  validation\n",
      " - Yaw          :   7.329851\n",
      " - Pitch        :   7.546861\n",
      " - Roll         :   2.365058\n",
      " - RMS          :   6.225628\n",
      " - 99% Tile     :  26.334857\n",
      "Save output signals into checkpoint/1122-Scene3-CLSTM2-win48-dyaw/sample/0006.npy\n"
     ]
    },
    {
     "name": "stderr",
     "output_type": "stream",
     "text": [
      "[0007/0100] Train: 100%|██████████████████████████████| 74/74 [00:03<00:00, 18.60it/s, loss 80.5275]\n",
      "[0007/0100] Validation: 100%|█████████████████████| 71/71 [00:02<00:00, 31.71it/s, val_loss 58.4422]\n",
      "[0008/0100] Train:   0%|                                                     | 0/74 [00:00<?, ?it/s]"
     ]
    },
    {
     "name": "stdout",
     "output_type": "stream",
     "text": [
      "                  validation\n",
      " - Yaw          :   6.657001\n",
      " - Pitch        :   7.258316\n",
      " - Roll         :   2.346135\n",
      " - RMS          :   5.845316\n",
      " - 99% Tile     :  24.795121\n",
      "Save output signals into checkpoint/1122-Scene3-CLSTM2-win48-dyaw/sample/0007.npy\n"
     ]
    },
    {
     "name": "stderr",
     "output_type": "stream",
     "text": [
      "[0008/0100] Train: 100%|██████████████████████████████| 74/74 [00:04<00:00, 18.22it/s, loss 69.1876]\n",
      "[0008/0100] Validation: 100%|█████████████████████| 71/71 [00:02<00:00, 33.66it/s, val_loss 64.6738]\n",
      "[0009/0100] Train:   0%|                                                     | 0/74 [00:00<?, ?it/s]"
     ]
    },
    {
     "name": "stdout",
     "output_type": "stream",
     "text": [
      "val_loss is not improved for 1 epochs\n",
      "                  validation\n",
      " - Yaw          :   8.202377\n",
      " - Pitch        :   6.850206\n",
      " - Roll         :   2.252542\n",
      " - RMS          :   6.305507\n",
      " - 99% Tile     :  24.089116\n",
      "Save output signals into checkpoint/1122-Scene3-CLSTM2-win48-dyaw/sample/0008.npy\n"
     ]
    },
    {
     "name": "stderr",
     "output_type": "stream",
     "text": [
      "[0009/0100] Train: 100%|██████████████████████████████| 74/74 [00:04<00:00, 17.78it/s, loss 65.4315]\n",
      "[0009/0100] Validation: 100%|█████████████████████| 71/71 [00:02<00:00, 33.58it/s, val_loss 46.6182]\n",
      "[0010/0100] Train:   0%|                                                     | 0/74 [00:00<?, ?it/s]"
     ]
    },
    {
     "name": "stdout",
     "output_type": "stream",
     "text": [
      "                  validation\n",
      " - Yaw          :   5.184114\n",
      " - Pitch        :   6.915474\n",
      " - Roll         :   2.362997\n",
      " - RMS          :   5.173090\n",
      " - 99% Tile     :  21.767211\n",
      "Save output signals into checkpoint/1122-Scene3-CLSTM2-win48-dyaw/sample/0009.npy\n"
     ]
    },
    {
     "name": "stderr",
     "output_type": "stream",
     "text": [
      "[0010/0100] Train: 100%|██████████████████████████████| 74/74 [00:04<00:00, 17.50it/s, loss 55.3118]\n",
      "[0010/0100] Validation: 100%|█████████████████████| 71/71 [00:02<00:00, 26.16it/s, val_loss 45.3713]\n",
      "[0011/0100] Train:   0%|                                                     | 0/74 [00:00<?, ?it/s]"
     ]
    },
    {
     "name": "stdout",
     "output_type": "stream",
     "text": [
      "                  validation\n",
      " - Yaw          :   5.620204\n",
      " - Pitch        :   6.803865\n",
      " - Roll         :   2.365645\n",
      " - RMS          :   5.274958\n",
      " - 99% Tile     :  21.600684\n",
      "Save output signals into checkpoint/1122-Scene3-CLSTM2-win48-dyaw/sample/0010.npy\n"
     ]
    },
    {
     "name": "stderr",
     "output_type": "stream",
     "text": [
      "[0011/0100] Train: 100%|██████████████████████████████| 74/74 [00:03<00:00, 19.21it/s, loss 49.4933]\n",
      "[0011/0100] Validation: 100%|█████████████████████| 71/71 [00:02<00:00, 33.40it/s, val_loss 37.9773]\n",
      "[0012/0100] Train:   0%|                                                     | 0/74 [00:00<?, ?it/s]"
     ]
    },
    {
     "name": "stdout",
     "output_type": "stream",
     "text": [
      "                  validation\n",
      " - Yaw          :   3.671196\n",
      " - Pitch        :   6.804782\n",
      " - Roll         :   2.336627\n",
      " - RMS          :   4.663424\n",
      " - 99% Tile     :  21.373904\n",
      "Save output signals into checkpoint/1122-Scene3-CLSTM2-win48-dyaw/sample/0011.npy\n"
     ]
    },
    {
     "name": "stderr",
     "output_type": "stream",
     "text": [
      "[0012/0100] Train: 100%|██████████████████████████████| 74/74 [00:04<00:00, 18.03it/s, loss 44.6424]\n",
      "[0012/0100] Validation: 100%|█████████████████████| 71/71 [00:02<00:00, 32.74it/s, val_loss 35.7613]\n",
      "[0013/0100] Train:   0%|                                                     | 0/74 [00:00<?, ?it/s]"
     ]
    },
    {
     "name": "stdout",
     "output_type": "stream",
     "text": [
      "                  validation\n",
      " - Yaw          :   3.246171\n",
      " - Pitch        :   6.775745\n",
      " - Roll         :   2.322053\n",
      " - RMS          :   4.540201\n",
      " - 99% Tile     :  21.050409\n",
      "Save output signals into checkpoint/1122-Scene3-CLSTM2-win48-dyaw/sample/0012.npy\n"
     ]
    },
    {
     "name": "stderr",
     "output_type": "stream",
     "text": [
      "[0013/0100] Train: 100%|██████████████████████████████| 74/74 [00:04<00:00, 17.24it/s, loss 42.1696]\n",
      "[0013/0100] Validation: 100%|█████████████████████| 71/71 [00:03<00:00, 21.94it/s, val_loss 34.8349]\n",
      "[0014/0100] Train:   0%|                                                     | 0/74 [00:00<?, ?it/s]"
     ]
    },
    {
     "name": "stdout",
     "output_type": "stream",
     "text": [
      "                  validation\n",
      " - Yaw          :   3.297427\n",
      " - Pitch        :   6.795160\n",
      " - Roll         :   2.297639\n",
      " - RMS          :   4.558010\n",
      " - 99% Tile     :  20.398626\n",
      "Save output signals into checkpoint/1122-Scene3-CLSTM2-win48-dyaw/sample/0013.npy\n"
     ]
    },
    {
     "name": "stderr",
     "output_type": "stream",
     "text": [
      "[0014/0100] Train: 100%|██████████████████████████████| 74/74 [00:06<00:00, 11.39it/s, loss 39.4339]\n",
      "[0014/0100] Validation: 100%|█████████████████████| 71/71 [00:03<00:00, 22.45it/s, val_loss 37.7412]\n",
      "[0015/0100] Train:   0%|                                                     | 0/74 [00:00<?, ?it/s]"
     ]
    },
    {
     "name": "stdout",
     "output_type": "stream",
     "text": [
      "val_loss is not improved for 1 epochs\n",
      "                  validation\n",
      " - Yaw          :   4.199894\n",
      " - Pitch        :   6.850503\n",
      " - Roll         :   2.272407\n",
      " - RMS          :   4.821215\n",
      " - 99% Tile     :  20.241784\n",
      "Save output signals into checkpoint/1122-Scene3-CLSTM2-win48-dyaw/sample/0014.npy\n"
     ]
    },
    {
     "name": "stderr",
     "output_type": "stream",
     "text": [
      "[0015/0100] Train: 100%|██████████████████████████████| 74/74 [00:06<00:00, 11.31it/s, loss 37.4717]\n",
      "[0015/0100] Validation: 100%|█████████████████████| 71/71 [00:03<00:00, 22.20it/s, val_loss 33.5342]\n",
      "[0016/0100] Train:   0%|                                                     | 0/74 [00:00<?, ?it/s]"
     ]
    },
    {
     "name": "stdout",
     "output_type": "stream",
     "text": [
      "                  validation\n",
      " - Yaw          :   3.060460\n",
      " - Pitch        :   6.391116\n",
      " - Roll         :   2.282912\n",
      " - RMS          :   4.298235\n",
      " - 99% Tile     :  20.911318\n",
      "Save output signals into checkpoint/1122-Scene3-CLSTM2-win48-dyaw/sample/0015.npy\n"
     ]
    },
    {
     "name": "stderr",
     "output_type": "stream",
     "text": [
      "[0016/0100] Train: 100%|██████████████████████████████| 74/74 [00:06<00:00, 11.54it/s, loss 36.0495]\n",
      "[0016/0100] Validation: 100%|█████████████████████| 71/71 [00:03<00:00, 21.30it/s, val_loss 32.8191]\n",
      "[0017/0100] Train:   0%|                                                     | 0/74 [00:00<?, ?it/s]"
     ]
    },
    {
     "name": "stdout",
     "output_type": "stream",
     "text": [
      "                  validation\n",
      " - Yaw          :   2.732839\n",
      " - Pitch        :   6.352597\n",
      " - Roll         :   2.320167\n",
      " - RMS          :   4.211376\n",
      " - 99% Tile     :  21.424033\n",
      "Save output signals into checkpoint/1122-Scene3-CLSTM2-win48-dyaw/sample/0016.npy\n"
     ]
    },
    {
     "name": "stderr",
     "output_type": "stream",
     "text": [
      "[0017/0100] Train: 100%|██████████████████████████████| 74/74 [00:06<00:00, 11.63it/s, loss 34.0670]\n",
      "[0017/0100] Validation: 100%|█████████████████████| 71/71 [00:03<00:00, 22.00it/s, val_loss 31.6128]\n",
      "[0018/0100] Train:   0%|                                                     | 0/74 [00:00<?, ?it/s]"
     ]
    },
    {
     "name": "stdout",
     "output_type": "stream",
     "text": [
      "                  validation\n",
      " - Yaw          :   2.732368\n",
      " - Pitch        :   6.415394\n",
      " - Roll         :   2.287157\n",
      " - RMS          :   4.236909\n",
      " - 99% Tile     :  20.296408\n",
      "Save output signals into checkpoint/1122-Scene3-CLSTM2-win48-dyaw/sample/0017.npy\n"
     ]
    },
    {
     "name": "stderr",
     "output_type": "stream",
     "text": [
      "[0018/0100] Train: 100%|██████████████████████████████| 74/74 [00:06<00:00, 11.34it/s, loss 32.8398]\n",
      "[0018/0100] Validation: 100%|█████████████████████| 71/71 [00:03<00:00, 21.34it/s, val_loss 34.6344]\n",
      "[0019/0100] Train:   0%|                                                     | 0/74 [00:00<?, ?it/s]"
     ]
    },
    {
     "name": "stdout",
     "output_type": "stream",
     "text": [
      "val_loss is not improved for 1 epochs\n",
      "                  validation\n",
      " - Yaw          :   3.846525\n",
      " - Pitch        :   6.475384\n",
      " - Roll         :   2.260081\n",
      " - RMS          :   4.539982\n",
      " - 99% Tile     :  20.748587\n",
      "Save output signals into checkpoint/1122-Scene3-CLSTM2-win48-dyaw/sample/0018.npy\n"
     ]
    },
    {
     "name": "stderr",
     "output_type": "stream",
     "text": [
      "[0019/0100] Train: 100%|██████████████████████████████| 74/74 [00:06<00:00, 11.57it/s, loss 29.8986]\n",
      "[0019/0100] Validation: 100%|█████████████████████| 71/71 [00:03<00:00, 20.55it/s, val_loss 23.6609]\n",
      "[0020/0100] Train:   0%|                                                     | 0/74 [00:00<?, ?it/s]"
     ]
    },
    {
     "name": "stdout",
     "output_type": "stream",
     "text": [
      "                  validation\n",
      " - Yaw          :   2.428312\n",
      " - Pitch        :   5.218237\n",
      " - Roll         :   2.281479\n",
      " - RMS          :   3.574533\n",
      " - 99% Tile     :  18.824785\n",
      "Save output signals into checkpoint/1122-Scene3-CLSTM2-win48-dyaw/sample/0019.npy\n"
     ]
    },
    {
     "name": "stderr",
     "output_type": "stream",
     "text": [
      "[0020/0100] Train: 100%|██████████████████████████████| 74/74 [00:06<00:00, 11.71it/s, loss 24.7275]\n",
      "[0020/0100] Validation: 100%|█████████████████████| 71/71 [00:03<00:00, 21.72it/s, val_loss 61.5579]\n",
      "[0021/0100] Train:   0%|                                                     | 0/74 [00:00<?, ?it/s]"
     ]
    },
    {
     "name": "stdout",
     "output_type": "stream",
     "text": [
      "val_loss is not improved for 1 epochs\n",
      "                  validation\n",
      " - Yaw          :   9.742020\n",
      " - Pitch        :   5.004798\n",
      " - Roll         :   2.215424\n",
      " - RMS          :   6.451436\n",
      " - 99% Tile     :  22.077821\n",
      "Save output signals into checkpoint/1122-Scene3-CLSTM2-win48-dyaw/sample/0020.npy\n"
     ]
    },
    {
     "name": "stderr",
     "output_type": "stream",
     "text": [
      "[0021/0100] Train: 100%|██████████████████████████████| 74/74 [00:06<00:00, 12.07it/s, loss 24.1238]\n",
      "[0021/0100] Validation: 100%|█████████████████████| 71/71 [00:03<00:00, 22.61it/s, val_loss 15.5110]\n",
      "[0022/0100] Train:   0%|                                                     | 0/74 [00:00<?, ?it/s]"
     ]
    },
    {
     "name": "stdout",
     "output_type": "stream",
     "text": [
      "                  validation\n",
      " - Yaw          :   2.732370\n",
      " - Pitch        :   3.545023\n",
      " - Roll         :   2.331710\n",
      " - RMS          :   2.913755\n",
      " - 99% Tile     :  12.611335\n",
      "Save output signals into checkpoint/1122-Scene3-CLSTM2-win48-dyaw/sample/0021.npy\n"
     ]
    },
    {
     "name": "stderr",
     "output_type": "stream",
     "text": [
      "[0022/0100] Train: 100%|██████████████████████████████| 74/74 [00:06<00:00, 12.26it/s, loss 16.3854]\n",
      "[0022/0100] Validation: 100%|██████████████████████| 71/71 [00:03<00:00, 20.77it/s, val_loss 9.7871]\n",
      "[0023/0100] Train:   0%|                                                     | 0/74 [00:00<?, ?it/s]"
     ]
    },
    {
     "name": "stdout",
     "output_type": "stream",
     "text": [
      "                  validation\n",
      " - Yaw          :   1.885472\n",
      " - Pitch        :   2.285245\n",
      " - Roll         :   2.318101\n",
      " - RMS          :   2.171861\n",
      " - 99% Tile     :  10.609366\n",
      "Save output signals into checkpoint/1122-Scene3-CLSTM2-win48-dyaw/sample/0022.npy\n"
     ]
    },
    {
     "name": "stderr",
     "output_type": "stream",
     "text": [
      "[0023/0100] Train: 100%|██████████████████████████████| 74/74 [00:06<00:00, 12.29it/s, loss 14.2781]\n",
      "[0023/0100] Validation: 100%|█████████████████████| 71/71 [00:03<00:00, 20.64it/s, val_loss 16.0961]\n",
      "[0024/0100] Train:   0%|                                                     | 0/74 [00:00<?, ?it/s]"
     ]
    },
    {
     "name": "stdout",
     "output_type": "stream",
     "text": [
      "val_loss is not improved for 1 epochs\n",
      "                  validation\n",
      " - Yaw          :   3.808510\n",
      " - Pitch        :   3.402348\n",
      " - Roll         :   2.250258\n",
      " - RMS          :   3.222027\n",
      " - 99% Tile     :  11.042539\n",
      "Save output signals into checkpoint/1122-Scene3-CLSTM2-win48-dyaw/sample/0023.npy\n"
     ]
    },
    {
     "name": "stderr",
     "output_type": "stream",
     "text": [
      "[0024/0100] Train: 100%|██████████████████████████████| 74/74 [00:06<00:00, 12.33it/s, loss 14.1594]\n",
      "[0024/0100] Validation: 100%|██████████████████████| 71/71 [00:03<00:00, 20.87it/s, val_loss 9.9187]\n",
      "[0025/0100] Train:   0%|                                                     | 0/74 [00:00<?, ?it/s]"
     ]
    },
    {
     "name": "stdout",
     "output_type": "stream",
     "text": [
      "val_loss is not improved for 2 epochs\n",
      "                  validation\n",
      " - Yaw          :   2.305772\n",
      " - Pitch        :   2.244734\n",
      " - Roll         :   2.266134\n",
      " - RMS          :   2.272354\n",
      " - 99% Tile     :  10.162861\n",
      "Save output signals into checkpoint/1122-Scene3-CLSTM2-win48-dyaw/sample/0024.npy\n"
     ]
    },
    {
     "name": "stderr",
     "output_type": "stream",
     "text": [
      "[0025/0100] Train: 100%|██████████████████████████████| 74/74 [00:06<00:00, 11.68it/s, loss 12.5791]\n",
      "[0025/0100] Validation: 100%|██████████████████████| 71/71 [00:02<00:00, 23.94it/s, val_loss 7.6861]\n",
      "[0026/0100] Train:   0%|                                                     | 0/74 [00:00<?, ?it/s]"
     ]
    },
    {
     "name": "stdout",
     "output_type": "stream",
     "text": [
      "                  validation\n",
      " - Yaw          :   1.447680\n",
      " - Pitch        :   1.752983\n",
      " - Roll         :   2.292424\n",
      " - RMS          :   1.864040\n",
      " - 99% Tile     :   9.837710\n",
      "Save output signals into checkpoint/1122-Scene3-CLSTM2-win48-dyaw/sample/0025.npy\n"
     ]
    },
    {
     "name": "stderr",
     "output_type": "stream",
     "text": [
      "[0026/0100] Train: 100%|██████████████████████████████| 74/74 [00:06<00:00, 12.24it/s, loss 11.3543]\n",
      "[0026/0100] Validation: 100%|██████████████████████| 71/71 [00:03<00:00, 21.61it/s, val_loss 8.1403]\n",
      "[0027/0100] Train:   0%|                                                     | 0/74 [00:00<?, ?it/s]"
     ]
    },
    {
     "name": "stdout",
     "output_type": "stream",
     "text": [
      "val_loss is not improved for 1 epochs\n",
      "                  validation\n",
      " - Yaw          :   1.940975\n",
      " - Pitch        :   1.730606\n",
      " - Roll         :   2.334941\n",
      " - RMS          :   2.017782\n",
      " - 99% Tile     :   9.384616\n",
      "Save output signals into checkpoint/1122-Scene3-CLSTM2-win48-dyaw/sample/0026.npy\n"
     ]
    },
    {
     "name": "stderr",
     "output_type": "stream",
     "text": [
      "[0027/0100] Train: 100%|██████████████████████████████| 74/74 [00:06<00:00, 12.26it/s, loss 10.9770]\n",
      "[0027/0100] Validation: 100%|█████████████████████| 71/71 [00:03<00:00, 20.73it/s, val_loss 10.0208]\n",
      "[0028/0100] Train:   0%|                                                     | 0/74 [00:00<?, ?it/s]"
     ]
    },
    {
     "name": "stdout",
     "output_type": "stream",
     "text": [
      "val_loss is not improved for 2 epochs\n",
      "                  validation\n",
      " - Yaw          :   2.180368\n",
      " - Pitch        :   2.635745\n",
      " - Roll         :   2.297062\n",
      " - RMS          :   2.378911\n",
      " - 99% Tile     :   9.527317\n",
      "Save output signals into checkpoint/1122-Scene3-CLSTM2-win48-dyaw/sample/0027.npy\n"
     ]
    },
    {
     "name": "stderr",
     "output_type": "stream",
     "text": [
      "[0028/0100] Train: 100%|██████████████████████████████| 74/74 [00:06<00:00, 12.07it/s, loss 12.4637]\n",
      "[0028/0100] Validation: 100%|██████████████████████| 71/71 [00:03<00:00, 22.51it/s, val_loss 6.5881]\n",
      "[0029/0100] Train:   0%|                                                     | 0/74 [00:00<?, ?it/s]"
     ]
    },
    {
     "name": "stdout",
     "output_type": "stream",
     "text": [
      "                  validation\n",
      " - Yaw          :   1.222679\n",
      " - Pitch        :   1.518330\n",
      " - Roll         :   2.299434\n",
      " - RMS          :   1.740466\n",
      " - 99% Tile     :   8.730096\n",
      "Save output signals into checkpoint/1122-Scene3-CLSTM2-win48-dyaw/sample/0028.npy\n"
     ]
    },
    {
     "name": "stderr",
     "output_type": "stream",
     "text": [
      "[0029/0100] Train: 100%|██████████████████████████████| 74/74 [00:06<00:00, 11.77it/s, loss 10.0755]\n",
      "[0029/0100] Validation: 100%|██████████████████████| 71/71 [00:03<00:00, 23.64it/s, val_loss 8.8563]\n",
      "[0030/0100] Train:   0%|                                                     | 0/74 [00:00<?, ?it/s]"
     ]
    },
    {
     "name": "stdout",
     "output_type": "stream",
     "text": [
      "val_loss is not improved for 1 epochs\n",
      "                  validation\n",
      " - Yaw          :   2.598503\n",
      " - Pitch        :   1.535146\n",
      " - Roll         :   2.313037\n",
      " - RMS          :   2.195376\n",
      " - 99% Tile     :   8.876660\n",
      "Save output signals into checkpoint/1122-Scene3-CLSTM2-win48-dyaw/sample/0029.npy\n"
     ]
    },
    {
     "name": "stderr",
     "output_type": "stream",
     "text": [
      "[0030/0100] Train: 100%|██████████████████████████████| 74/74 [00:06<00:00, 11.53it/s, loss 11.4003]\n",
      "[0030/0100] Validation: 100%|██████████████████████| 71/71 [00:02<00:00, 25.02it/s, val_loss 7.9970]\n",
      "[0031/0100] Train:   0%|                                                     | 0/74 [00:00<?, ?it/s]"
     ]
    },
    {
     "name": "stdout",
     "output_type": "stream",
     "text": [
      "val_loss is not improved for 2 epochs\n",
      "                  validation\n",
      " - Yaw          :   2.399213\n",
      " - Pitch        :   1.525451\n",
      " - Roll         :   2.273743\n",
      " - RMS          :   2.101835\n",
      " - 99% Tile     :   8.539810\n",
      "Save output signals into checkpoint/1122-Scene3-CLSTM2-win48-dyaw/sample/0030.npy\n"
     ]
    },
    {
     "name": "stderr",
     "output_type": "stream",
     "text": [
      "[0031/0100] Train: 100%|██████████████████████████████| 74/74 [00:06<00:00, 11.57it/s, loss 10.6203]\n",
      "[0031/0100] Validation: 100%|██████████████████████| 71/71 [00:03<00:00, 23.64it/s, val_loss 6.0618]\n",
      "[0032/0100] Train:   0%|                                                     | 0/74 [00:00<?, ?it/s]"
     ]
    },
    {
     "name": "stdout",
     "output_type": "stream",
     "text": [
      "                  validation\n",
      " - Yaw          :   1.432126\n",
      " - Pitch        :   1.369385\n",
      " - Roll         :   2.312315\n",
      " - RMS          :   1.758124\n",
      " - 99% Tile     :   7.798909\n",
      "Save output signals into checkpoint/1122-Scene3-CLSTM2-win48-dyaw/sample/0031.npy\n"
     ]
    },
    {
     "name": "stderr",
     "output_type": "stream",
     "text": [
      "[0032/0100] Train: 100%|███████████████████████████████| 74/74 [00:06<00:00, 11.67it/s, loss 9.0086]\n",
      "[0032/0100] Validation: 100%|█████████████████████| 71/71 [00:02<00:00, 24.43it/s, val_loss 10.3677]\n",
      "[0033/0100] Train:   0%|                                                     | 0/74 [00:00<?, ?it/s]"
     ]
    },
    {
     "name": "stdout",
     "output_type": "stream",
     "text": [
      "val_loss is not improved for 1 epochs\n",
      "                  validation\n",
      " - Yaw          :   1.948110\n",
      " - Pitch        :   3.013310\n",
      " - Roll         :   2.319678\n",
      " - RMS          :   2.466852\n",
      " - 99% Tile     :   9.554904\n",
      "Save output signals into checkpoint/1122-Scene3-CLSTM2-win48-dyaw/sample/0032.npy\n"
     ]
    },
    {
     "name": "stderr",
     "output_type": "stream",
     "text": [
      "[0033/0100] Train: 100%|██████████████████████████████| 74/74 [00:06<00:00, 12.23it/s, loss 12.0775]\n",
      "[0033/0100] Validation: 100%|██████████████████████| 71/71 [00:02<00:00, 24.72it/s, val_loss 7.2425]\n",
      "[0034/0100] Train:   0%|                                                     | 0/74 [00:00<?, ?it/s]"
     ]
    },
    {
     "name": "stdout",
     "output_type": "stream",
     "text": [
      "val_loss is not improved for 2 epochs\n",
      "                  validation\n",
      " - Yaw          :   1.952523\n",
      " - Pitch        :   1.650382\n",
      " - Roll         :   2.231426\n",
      " - RMS          :   1.959198\n",
      " - 99% Tile     :   8.116339\n",
      "Save output signals into checkpoint/1122-Scene3-CLSTM2-win48-dyaw/sample/0033.npy\n"
     ]
    },
    {
     "name": "stderr",
     "output_type": "stream",
     "text": [
      "[0034/0100] Train: 100%|███████████████████████████████| 74/74 [00:06<00:00, 11.75it/s, loss 9.2057]\n",
      "[0034/0100] Validation: 100%|██████████████████████| 71/71 [00:02<00:00, 24.88it/s, val_loss 5.8309]\n",
      "[0035/0100] Train:   0%|                                                     | 0/74 [00:00<?, ?it/s]"
     ]
    },
    {
     "name": "stdout",
     "output_type": "stream",
     "text": [
      "                  validation\n",
      " - Yaw          :   1.434284\n",
      " - Pitch        :   1.263337\n",
      " - Roll         :   2.257783\n",
      " - RMS          :   1.707900\n",
      " - 99% Tile     :   7.830381\n",
      "Save output signals into checkpoint/1122-Scene3-CLSTM2-win48-dyaw/sample/0034.npy\n"
     ]
    },
    {
     "name": "stderr",
     "output_type": "stream",
     "text": [
      "[0035/0100] Train: 100%|███████████████████████████████| 74/74 [00:06<00:00, 11.76it/s, loss 8.0177]\n",
      "[0035/0100] Validation: 100%|██████████████████████| 71/71 [00:02<00:00, 25.82it/s, val_loss 5.6712]\n",
      "[0036/0100] Train:   0%|                                                     | 0/74 [00:00<?, ?it/s]"
     ]
    },
    {
     "name": "stdout",
     "output_type": "stream",
     "text": [
      "                  validation\n",
      " - Yaw          :   1.741438\n",
      " - Pitch        :   1.224289\n",
      " - Roll         :   2.248323\n",
      " - RMS          :   1.787591\n",
      " - 99% Tile     :   7.049496\n",
      "Save output signals into checkpoint/1122-Scene3-CLSTM2-win48-dyaw/sample/0035.npy\n"
     ]
    },
    {
     "name": "stderr",
     "output_type": "stream",
     "text": [
      "[0036/0100] Train: 100%|███████████████████████████████| 74/74 [00:06<00:00, 11.70it/s, loss 7.9223]\n",
      "[0036/0100] Validation: 100%|██████████████████████| 71/71 [00:02<00:00, 23.95it/s, val_loss 6.6470]\n",
      "[0037/0100] Train:   0%|                                                     | 0/74 [00:00<?, ?it/s]"
     ]
    },
    {
     "name": "stdout",
     "output_type": "stream",
     "text": [
      "val_loss is not improved for 1 epochs\n",
      "                  validation\n",
      " - Yaw          :   1.790079\n",
      " - Pitch        :   1.285720\n",
      " - Roll         :   2.288980\n",
      " - RMS          :   1.834565\n",
      " - 99% Tile     :   9.093356\n",
      "Save output signals into checkpoint/1122-Scene3-CLSTM2-win48-dyaw/sample/0036.npy\n"
     ]
    },
    {
     "name": "stderr",
     "output_type": "stream",
     "text": [
      "[0037/0100] Train: 100%|███████████████████████████████| 74/74 [00:06<00:00, 11.47it/s, loss 7.9736]\n",
      "[0037/0100] Validation: 100%|██████████████████████| 71/71 [00:02<00:00, 24.39it/s, val_loss 6.7755]\n",
      "[0038/0100] Train:   0%|                                                     | 0/74 [00:00<?, ?it/s]"
     ]
    },
    {
     "name": "stdout",
     "output_type": "stream",
     "text": [
      "val_loss is not improved for 2 epochs\n",
      "                  validation\n",
      " - Yaw          :   2.442652\n",
      " - Pitch        :   1.098841\n",
      " - Roll         :   2.294741\n",
      " - RMS          :   2.036323\n",
      " - 99% Tile     :   8.052335\n",
      "Save output signals into checkpoint/1122-Scene3-CLSTM2-win48-dyaw/sample/0037.npy\n"
     ]
    },
    {
     "name": "stderr",
     "output_type": "stream",
     "text": [
      "[0038/0100] Train: 100%|███████████████████████████████| 74/74 [00:06<00:00, 11.74it/s, loss 7.5735]\n",
      "[0038/0100] Validation: 100%|██████████████████████| 71/71 [00:02<00:00, 24.27it/s, val_loss 5.3309]\n",
      "[0039/0100] Train:   0%|                                                     | 0/74 [00:00<?, ?it/s]"
     ]
    },
    {
     "name": "stdout",
     "output_type": "stream",
     "text": [
      "                  validation\n",
      " - Yaw          :   1.540420\n",
      " - Pitch        :   1.170882\n",
      " - Roll         :   2.285435\n",
      " - RMS          :   1.728879\n",
      " - 99% Tile     :   7.023577\n",
      "Save output signals into checkpoint/1122-Scene3-CLSTM2-win48-dyaw/sample/0038.npy\n"
     ]
    },
    {
     "name": "stderr",
     "output_type": "stream",
     "text": [
      "[0039/0100] Train: 100%|███████████████████████████████| 74/74 [00:06<00:00, 12.09it/s, loss 6.9878]\n",
      "[0039/0100] Validation: 100%|██████████████████████| 71/71 [00:02<00:00, 25.41it/s, val_loss 4.4706]\n",
      "[0040/0100] Train:   0%|                                                     | 0/74 [00:00<?, ?it/s]"
     ]
    },
    {
     "name": "stdout",
     "output_type": "stream",
     "text": [
      "                  validation\n",
      " - Yaw          :   1.115345\n",
      " - Pitch        :   0.942937\n",
      " - Roll         :   2.282719\n",
      " - RMS          :   1.564601\n",
      " - 99% Tile     :   6.709484\n",
      "Save output signals into checkpoint/1122-Scene3-CLSTM2-win48-dyaw/sample/0039.npy\n"
     ]
    },
    {
     "name": "stderr",
     "output_type": "stream",
     "text": [
      "[0040/0100] Train: 100%|███████████████████████████████| 74/74 [00:06<00:00, 11.93it/s, loss 6.7529]\n",
      "[0040/0100] Validation: 100%|██████████████████████| 71/71 [00:02<00:00, 24.14it/s, val_loss 5.2327]\n",
      "[0041/0100] Train:   0%|                                                     | 0/74 [00:00<?, ?it/s]"
     ]
    },
    {
     "name": "stdout",
     "output_type": "stream",
     "text": [
      "val_loss is not improved for 1 epochs\n",
      "                  validation\n",
      " - Yaw          :   1.635711\n",
      " - Pitch        :   1.185884\n",
      " - Roll         :   2.265275\n",
      " - RMS          :   1.752460\n",
      " - 99% Tile     :   6.976535\n",
      "Save output signals into checkpoint/1122-Scene3-CLSTM2-win48-dyaw/sample/0040.npy\n"
     ]
    },
    {
     "name": "stderr",
     "output_type": "stream",
     "text": [
      "[0041/0100] Train: 100%|███████████████████████████████| 74/74 [00:06<00:00, 11.73it/s, loss 7.0151]\n",
      "[0041/0100] Validation: 100%|██████████████████████| 71/71 [00:02<00:00, 24.99it/s, val_loss 9.7871]\n",
      "[0042/0100] Train:   0%|                                                     | 0/74 [00:00<?, ?it/s]"
     ]
    },
    {
     "name": "stdout",
     "output_type": "stream",
     "text": [
      "val_loss is not improved for 2 epochs\n",
      "                  validation\n",
      " - Yaw          :   3.504753\n",
      " - Pitch        :   1.204793\n",
      " - Roll         :   2.245925\n",
      " - RMS          :   2.501933\n",
      " - 99% Tile     :  10.341858\n",
      "Save output signals into checkpoint/1122-Scene3-CLSTM2-win48-dyaw/sample/0041.npy\n"
     ]
    },
    {
     "name": "stderr",
     "output_type": "stream",
     "text": [
      "[0042/0100] Train: 100%|███████████████████████████████| 74/74 [00:06<00:00, 11.44it/s, loss 8.0671]\n",
      "[0042/0100] Validation: 100%|██████████████████████| 71/71 [00:02<00:00, 25.15it/s, val_loss 5.6074]\n",
      "[0043/0100] Train:   0%|                                                     | 0/74 [00:00<?, ?it/s]"
     ]
    },
    {
     "name": "stdout",
     "output_type": "stream",
     "text": [
      "val_loss is not improved for 3 epochs\n",
      "                  validation\n",
      " - Yaw          :   1.683779\n",
      " - Pitch        :   1.296105\n",
      " - Roll         :   2.302834\n",
      " - RMS          :   1.809055\n",
      " - 99% Tile     :   7.349976\n",
      "Save output signals into checkpoint/1122-Scene3-CLSTM2-win48-dyaw/sample/0042.npy\n"
     ]
    },
    {
     "name": "stderr",
     "output_type": "stream",
     "text": [
      "[0043/0100] Train: 100%|███████████████████████████████| 74/74 [00:06<00:00, 11.24it/s, loss 6.7046]\n",
      "[0043/0100] Validation: 100%|██████████████████████| 71/71 [00:02<00:00, 26.54it/s, val_loss 5.2630]\n",
      "[0044/0100] Train:   0%|                                                     | 0/74 [00:00<?, ?it/s]"
     ]
    },
    {
     "name": "stdout",
     "output_type": "stream",
     "text": [
      "val_loss is not improved for 4 epochs\n",
      "                  validation\n",
      " - Yaw          :   1.789588\n",
      " - Pitch        :   0.908284\n",
      " - Roll         :   2.315361\n",
      " - RMS          :   1.769039\n",
      " - 99% Tile     :   7.034938\n",
      "Save output signals into checkpoint/1122-Scene3-CLSTM2-win48-dyaw/sample/0043.npy\n"
     ]
    },
    {
     "name": "stderr",
     "output_type": "stream",
     "text": [
      "[0044/0100] Train: 100%|███████████████████████████████| 74/74 [00:06<00:00, 10.70it/s, loss 6.5386]\n",
      "[0044/0100] Validation: 100%|██████████████████████| 71/71 [00:02<00:00, 28.61it/s, val_loss 4.7640]\n",
      "[0045/0100] Train:   0%|                                                     | 0/74 [00:00<?, ?it/s]"
     ]
    },
    {
     "name": "stdout",
     "output_type": "stream",
     "text": [
      "Decaying lr from 0.001 to 0.0005 because val_loss did not improved for 5 epochs\n",
      "val_loss is not improved for 5 epochs\n",
      "                  validation\n",
      " - Yaw          :   1.271496\n",
      " - Pitch        :   1.077467\n",
      " - Roll         :   2.249604\n",
      " - RMS          :   1.616411\n",
      " - 99% Tile     :   7.418052\n",
      "Save output signals into checkpoint/1122-Scene3-CLSTM2-win48-dyaw/sample/0044.npy\n"
     ]
    },
    {
     "name": "stderr",
     "output_type": "stream",
     "text": [
      "[0045/0100] Train: 100%|███████████████████████████████| 74/74 [00:06<00:00, 11.08it/s, loss 6.5834]\n",
      "[0045/0100] Validation: 100%|██████████████████████| 71/71 [00:02<00:00, 26.99it/s, val_loss 6.9854]\n",
      "[0046/0100] Train:   0%|                                                     | 0/74 [00:00<?, ?it/s]"
     ]
    },
    {
     "name": "stdout",
     "output_type": "stream",
     "text": [
      "val_loss is not improved for 6 epochs\n",
      "                  validation\n",
      " - Yaw          :   1.989761\n",
      " - Pitch        :   1.843498\n",
      " - Roll         :   2.216100\n",
      " - RMS          :   2.022270\n",
      " - 99% Tile     :   7.169510\n",
      "Save output signals into checkpoint/1122-Scene3-CLSTM2-win48-dyaw/sample/0045.npy\n"
     ]
    },
    {
     "name": "stderr",
     "output_type": "stream",
     "text": [
      "[0046/0100] Train: 100%|███████████████████████████████| 74/74 [00:06<00:00, 11.13it/s, loss 9.6449]\n",
      "[0046/0100] Validation: 100%|██████████████████████| 71/71 [00:02<00:00, 27.46it/s, val_loss 6.7165]\n",
      "[0047/0100] Train:   0%|                                                     | 0/74 [00:00<?, ?it/s]"
     ]
    },
    {
     "name": "stdout",
     "output_type": "stream",
     "text": [
      "val_loss is not improved for 7 epochs\n",
      "                  validation\n",
      " - Yaw          :   1.441751\n",
      " - Pitch        :   1.268240\n",
      " - Roll         :   2.255821\n",
      " - RMS          :   1.710342\n",
      " - 99% Tile     :   9.345854\n",
      "Save output signals into checkpoint/1122-Scene3-CLSTM2-win48-dyaw/sample/0046.npy\n"
     ]
    },
    {
     "name": "stderr",
     "output_type": "stream",
     "text": [
      "[0047/0100] Train: 100%|███████████████████████████████| 74/74 [00:06<00:00, 11.41it/s, loss 6.3415]\n",
      "[0047/0100] Validation: 100%|██████████████████████| 71/71 [00:02<00:00, 26.59it/s, val_loss 7.3798]\n",
      "[0048/0100] Train:   0%|                                                     | 0/74 [00:00<?, ?it/s]"
     ]
    },
    {
     "name": "stdout",
     "output_type": "stream",
     "text": [
      "val_loss is not improved for 8 epochs\n",
      "                  validation\n",
      " - Yaw          :   2.684998\n",
      " - Pitch        :   1.245360\n",
      " - Roll         :   2.266943\n",
      " - RMS          :   2.152453\n",
      " - 99% Tile     :   7.848085\n",
      "Save output signals into checkpoint/1122-Scene3-CLSTM2-win48-dyaw/sample/0047.npy\n"
     ]
    },
    {
     "name": "stderr",
     "output_type": "stream",
     "text": [
      "[0048/0100] Train: 100%|███████████████████████████████| 74/74 [00:06<00:00, 11.70it/s, loss 6.7694]\n",
      "[0048/0100] Validation: 100%|██████████████████████| 71/71 [00:02<00:00, 24.96it/s, val_loss 5.2106]\n",
      "[0049/0100] Train:   0%|                                                     | 0/74 [00:00<?, ?it/s]"
     ]
    },
    {
     "name": "stdout",
     "output_type": "stream",
     "text": [
      "val_loss is not improved for 9 epochs\n",
      "                  validation\n",
      " - Yaw          :   1.285507\n",
      " - Pitch        :   1.044345\n",
      " - Roll         :   2.257727\n",
      " - RMS          :   1.616634\n",
      " - 99% Tile     :   7.892662\n",
      "Save output signals into checkpoint/1122-Scene3-CLSTM2-win48-dyaw/sample/0048.npy\n"
     ]
    },
    {
     "name": "stderr",
     "output_type": "stream",
     "text": [
      "[0049/0100] Train: 100%|███████████████████████████████| 74/74 [00:06<00:00, 12.33it/s, loss 6.5257]\n",
      "[0049/0100] Validation: 100%|██████████████████████| 71/71 [00:02<00:00, 24.19it/s, val_loss 5.3854]"
     ]
    },
    {
     "name": "stdout",
     "output_type": "stream",
     "text": [
      "Decaying lr from 0.0005 to 0.00025 because val_loss did not improved for 5 epochs\n",
      "val_loss is not improved for 10 epochs\n",
      "Stop training because val_loss did not improved for 10 epochs\n",
      "                  validation\n",
      " - Yaw          :   1.496019\n",
      " - Pitch        :   1.157190\n",
      " - Roll         :   2.255248\n",
      " - RMS          :   1.699344\n",
      " - 99% Tile     :   7.565107\n",
      "Save output signals into checkpoint/1122-Scene3-CLSTM2-win48-dyaw/sample/0049.npy\n"
     ]
    },
    {
     "name": "stderr",
     "output_type": "stream",
     "text": [
      "\n"
     ]
    }
   ],
   "source": [
    "trainer.fit(ds_train, ds_test, num_epochs=100, batch_size=256, shuffle=True, pin_memory=True)"
   ]
  },
  {
   "cell_type": "code",
   "execution_count": null,
   "metadata": {},
   "outputs": [],
   "source": []
  }
 ],
 "metadata": {
  "kernelspec": {
   "display_name": "torch",
   "language": "python",
   "name": "torch"
  },
  "language_info": {
   "codemirror_mode": {
    "name": "ipython",
    "version": 3
   },
   "file_extension": ".py",
   "mimetype": "text/x-python",
   "name": "python",
   "nbconvert_exporter": "python",
   "pygments_lexer": "ipython3",
   "version": "3.7.9"
  }
 },
 "nbformat": 4,
 "nbformat_minor": 4
}
