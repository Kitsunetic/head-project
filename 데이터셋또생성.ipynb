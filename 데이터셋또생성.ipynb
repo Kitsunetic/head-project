{
 "cells": [
  {
   "cell_type": "markdown",
   "metadata": {},
   "source": [
    "# 머릿말\n",
    "\n",
    "각각의 user / scene별로 별도의 csv파일로 저장하는걸 목적\n",
    "\n",
    "user7-scene1 같은 경우는 둘로 나눠지기 때문에, 파일 두 개를 만든다.\n",
    "user-scene-index 순서"
   ]
  },
  {
   "cell_type": "code",
   "execution_count": 9,
   "metadata": {},
   "outputs": [],
   "source": [
    "from collections import defaultdict\n",
    "import numpy as np\n",
    "import matplotlib.pyplot as plt\n",
    "from math import pi\n",
    "import pandas as pd"
   ]
  },
  {
   "cell_type": "code",
   "execution_count": 20,
   "metadata": {},
   "outputs": [],
   "source": [
    "ds_split = {\n",
    "    11: [(2000, 11000), (12000, 21000)],\n",
    "    12: [(2000, 5000 ), (6000 , 10000)],\n",
    "    13: [(2000, 10000), (11000, 18000)],\n",
    "    21: [(2000, 11000), (12000, 20000)],\n",
    "    22: [(2000, 6000 ), (7000 , 11000)],\n",
    "    23: [(2000, 11000), (12000, 20000)],\n",
    "    31: [(2000, 11000), (12000, 20000)],\n",
    "    32: [(2000, 5000 ), (6000 , 11000)],\n",
    "    33: [(2000, 10000), (11000, 19000)],\n",
    "    41: [(2000, 10000), (11000, 19000)],\n",
    "    42: [(2000, 6000 ), (7000 , 10000)],\n",
    "    43: [(2000, 10000), (11000, 19000)],\n",
    "    51: [(2000, 11000), (12000, 20000)],\n",
    "    52: [(2000, 6000 ), (7000 , 10000)],\n",
    "    53: [(2000, 10000), (11000, 19000)],\n",
    "    61: [(2000, 9000 ), (10000, 17000)],\n",
    "    62: [(2000, 11000), (12000, 20000)],\n",
    "    63: [(2000, 10000), (11000, 19000)],\n",
    "    71: [(2000, 7000 ), (9000 , 19000)],\n",
    "    72: [(2000, 9000 ), (10000, 17000)],\n",
    "    73: [(2000, 10000), (11000, 19000)]\n",
    "}"
   ]
  },
  {
   "cell_type": "markdown",
   "metadata": {},
   "source": [
    "### 각각의 User/Scene별로 데이터가 몇개씩 있는지\n",
    "\n",
    "생각외로 고르게 분포되어있음"
   ]
  },
  {
   "cell_type": "code",
   "execution_count": 25,
   "metadata": {},
   "outputs": [],
   "source": [
    "users_train, users_test = defaultdict(int), defaultdict(int)\n",
    "scenes_train, scenes_test = defaultdict(int), defaultdict(int)"
   ]
  },
  {
   "cell_type": "code",
   "execution_count": 26,
   "metadata": {},
   "outputs": [],
   "source": [
    "for key in ds_split.keys():\n",
    "    user = key // 10\n",
    "    scene = key % 10\n",
    "    \n",
    "    s, t = ds_split[key][0]\n",
    "    users_train[user] += t - s\n",
    "    scenes_train[scene] += t - s\n",
    "    \n",
    "    s, t = ds_split[key][1]\n",
    "    users_test[user] += t - s\n",
    "    scenes_test[scene] += t - s"
   ]
  },
  {
   "cell_type": "code",
   "execution_count": 29,
   "metadata": {},
   "outputs": [
    {
     "data": {
      "text/plain": [
       "(defaultdict(int,\n",
       "             {1: 20000,\n",
       "              2: 22000,\n",
       "              3: 20000,\n",
       "              4: 20000,\n",
       "              5: 21000,\n",
       "              6: 24000,\n",
       "              7: 20000}),\n",
       " defaultdict(int,\n",
       "             {1: 20000,\n",
       "              2: 20000,\n",
       "              3: 21000,\n",
       "              4: 19000,\n",
       "              5: 19000,\n",
       "              6: 23000,\n",
       "              7: 25000}))"
      ]
     },
     "execution_count": 29,
     "metadata": {},
     "output_type": "execute_result"
    }
   ],
   "source": [
    "users_train, users_test"
   ]
  },
  {
   "cell_type": "code",
   "execution_count": 30,
   "metadata": {},
   "outputs": [
    {
     "data": {
      "text/plain": [
       "(defaultdict(int, {1: 56000, 2: 34000, 3: 57000}),\n",
       " defaultdict(int, {1: 58000, 2: 34000, 3: 55000}))"
      ]
     },
     "execution_count": 30,
     "metadata": {},
     "output_type": "execute_result"
    }
   ],
   "source": [
    "scenes_train, scenes_test"
   ]
  },
  {
   "cell_type": "markdown",
   "metadata": {},
   "source": [
    "## 데이터 생성"
   ]
  },
  {
   "cell_type": "code",
   "execution_count": 16,
   "metadata": {},
   "outputs": [],
   "source": [
    "COLUMNS = ['timestamp', 'acceleration_x', 'acceleration_y', 'acceleration_z', 'input_orientation_yaw', 'input_orientation_pitch', 'input_orientation_roll']"
   ]
  },
  {
   "cell_type": "code",
   "execution_count": 14,
   "metadata": {},
   "outputs": [],
   "source": [
    "mkdir data/1108"
   ]
  },
  {
   "cell_type": "code",
   "execution_count": 33,
   "metadata": {},
   "outputs": [
    {
     "name": "stdout",
     "output_type": "stream",
     "text": [
      "data/1108/user1_scene1_0.csv\n",
      "data/1108/user1_scene1_1.csv\n",
      "data/1108/user1_scene2_0.csv\n",
      "data/1108/user1_scene2_1.csv\n",
      "data/1108/user1_scene3_0.csv\n",
      "data/1108/user1_scene3_1.csv\n",
      "data/1108/user2_scene1_0.csv\n",
      "data/1108/user2_scene1_1.csv\n",
      "data/1108/user2_scene2_0.csv\n",
      "data/1108/user2_scene2_1.csv\n",
      "data/1108/user2_scene3_0.csv\n",
      "data/1108/user2_scene3_1.csv\n",
      "data/1108/user3_scene1_0.csv\n",
      "data/1108/user3_scene1_1.csv\n",
      "data/1108/user3_scene2_0.csv\n",
      "data/1108/user3_scene2_1.csv\n",
      "data/1108/user3_scene3_0.csv\n",
      "data/1108/user3_scene3_1.csv\n",
      "data/1108/user4_scene1_0.csv\n",
      "data/1108/user4_scene1_1.csv\n",
      "data/1108/user4_scene2_0.csv\n",
      "data/1108/user4_scene2_1.csv\n",
      "data/1108/user4_scene3_0.csv\n",
      "data/1108/user4_scene3_1.csv\n",
      "data/1108/user5_scene1_0.csv\n",
      "data/1108/user5_scene1_1.csv\n",
      "data/1108/user5_scene2_0.csv\n",
      "data/1108/user5_scene2_1.csv\n",
      "data/1108/user5_scene3_0.csv\n",
      "data/1108/user5_scene3_1.csv\n",
      "data/1108/user6_scene1_0.csv\n",
      "data/1108/user6_scene1_1.csv\n",
      "data/1108/user6_scene2_0.csv\n",
      "data/1108/user6_scene2_1.csv\n",
      "data/1108/user6_scene3_0.csv\n",
      "data/1108/user6_scene3_1.csv\n",
      "data/1108/user7_scene1_0.csv\n",
      "data/1108/user7_scene1_1.csv\n",
      "data/1108/user7_scene2_0.csv\n",
      "data/1108/user7_scene2_1.csv\n",
      "data/1108/user7_scene3_0.csv\n",
      "data/1108/user7_scene3_1.csv\n"
     ]
    }
   ],
   "source": [
    "all_len, all_yaw, all_pitch, all_roll, all_x, all_y, all_z = 0, 0, 0, 0, 0, 0, 0\n",
    "\n",
    "for key in ds_split.keys():\n",
    "    user = key // 10\n",
    "    scene = key % 10\n",
    "    csv_fname = f'data/org/motion_data_user{user}_scene{scene}.csv'\n",
    "    csv = pd.read_csv(csv_fname)\n",
    "    \n",
    "    csv = csv[COLUMNS]\n",
    "    \n",
    "    # timestamp flick ==> sec\n",
    "    csv.timestamp = (csv.timestamp - csv.timestamp[2000]) / 705600000\n",
    "    \n",
    "    # yaw, pitch, roll radian ==> degree\n",
    "    csv.input_orientation_yaw *= 180 / pi\n",
    "    csv.input_orientation_pitch *= 180 / pi\n",
    "    csv.input_orientation_roll *= 180 / pi\n",
    "    \n",
    "    for i, (S, T) in enumerate(ds_split[key]):\n",
    "        dsv_fname = f'data/1108/user{user}_scene{scene}_{i}.csv'\n",
    "        print(dsv_fname)\n",
    "        dsv = csv.iloc[S:T]\n",
    "        dsv.to_csv(dsv_fname, index=False)\n",
    "        \n",
    "        all_len += len(dsv)\n",
    "        all_yaw += dsv.input_orientation_yaw.sum()\n",
    "        all_pitch += dsv.input_orientation_pitch.sum()\n",
    "        all_roll += dsv.input_orientation_roll.sum()\n",
    "        all_x += dsv.acceleration_x.sum()\n",
    "        all_y += dsv.acceleration_y.sum()\n",
    "        all_z += dsv.acceleration_z.sum()"
   ]
  },
  {
   "cell_type": "code",
   "execution_count": null,
   "metadata": {},
   "outputs": [],
   "source": []
  }
 ],
 "metadata": {
  "kernelspec": {
   "display_name": "torch",
   "language": "python",
   "name": "torch"
  },
  "language_info": {
   "codemirror_mode": {
    "name": "ipython",
    "version": 3
   },
   "file_extension": ".py",
   "mimetype": "text/x-python",
   "name": "python",
   "nbconvert_exporter": "python",
   "pygments_lexer": "ipython3",
   "version": "3.7.9"
  }
 },
 "nbformat": 4,
 "nbformat_minor": 4
}
