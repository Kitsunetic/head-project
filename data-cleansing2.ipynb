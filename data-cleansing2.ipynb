{
 "cells": [
  {
   "cell_type": "code",
   "execution_count": 1,
   "metadata": {},
   "outputs": [],
   "source": [
    "import numpy as np\n",
    "import pandas as pd\n",
    "import imageio\n",
    "import h5py\n",
    "import pickle\n",
    "\n",
    "from tqdm import tqdm\n",
    "from xqdm import xqdm\n",
    "from pathlib import Path\n",
    "import matplotlib.pyplot as plt\n",
    "import re"
   ]
  },
  {
   "cell_type": "code",
   "execution_count": 2,
   "metadata": {},
   "outputs": [],
   "source": [
    "dataset_dir = Path('data')\n",
    "csv_files = sorted(list(dataset_dir.glob('motion_data_*.csv')))"
   ]
  },
  {
   "cell_type": "code",
   "execution_count": 3,
   "metadata": {},
   "outputs": [],
   "source": [
    "using_columns = ['timestamp',\n",
    "                 'acceleration_x', 'acceleration_y', 'acceleration_z',\n",
    "                 'angular_vec_x', 'angular_vec_y', 'angular_vec_z',\n",
    "                 'input_orientation_x', 'input_orientation_y', 'input_orientation_z', 'input_orientation_w',\n",
    "                 'input_orientation_yaw', 'input_orientation_pitch', 'input_orientation_roll']"
   ]
  },
  {
   "cell_type": "code",
   "execution_count": 4,
   "metadata": {},
   "outputs": [],
   "source": [
    "files = {\n",
    "    'data/motion_data_user1_scene1.csv': [(1050, -1)],\n",
    "    'data/motion_data_user1_scene2.csv': [(550, -1)],\n",
    "    'data/motion_data_user1_scene3.csv': [(700, -1)],\n",
    "    'data/motion_data_user2_scene1.csv': [(700, -1)],\n",
    "    'data/motion_data_user2_scene2.csv': [(750, -1)],\n",
    "    'data/motion_data_user2_scene3.csv': [(850, -1)],\n",
    "    'data/motion_data_user3_scene1.csv': [(700, -1)],\n",
    "    'data/motion_data_user3_scene2.csv': [(650, -1)],\n",
    "    'data/motion_data_user3_scene3.csv': [(1000, -1)],\n",
    "    'data/motion_data_user4_scene1.csv': [(800, -1)],\n",
    "    'data/motion_data_user4_scene2.csv': [(600, -1)],\n",
    "    'data/motion_data_user4_scene3.csv': [(900, -1)],\n",
    "    'data/motion_data_user5_scene1.csv': [(1050, -1)],\n",
    "    'data/motion_data_user5_scene2.csv': [(700, -1)],\n",
    "    'data/motion_data_user5_scene3.csv': [(1150, -1)],\n",
    "    'data/motion_data_user6_scene1.csv': [(600, -1)],\n",
    "    'data/motion_data_user6_scene2.csv': [(1000, -1)],\n",
    "    'data/motion_data_user6_scene3.csv': [(600, -1)],\n",
    "    'data/motion_data_user7_scene1.csv': [(950, 7900), (7950, -1)],\n",
    "    'data/motion_data_user7_scene2.csv': [(650, -1)],\n",
    "    'data/motion_data_user7_scene3.csv': [(800, -1)],\n",
    "}"
   ]
  },
  {
   "cell_type": "code",
   "execution_count": 9,
   "metadata": {},
   "outputs": [
    {
     "name": "stdout",
     "output_type": "stream",
     "text": [
      "data/crop_00.csv\n",
      "data/crop_01.csv\n",
      "data/crop_02.csv\n",
      "data/crop_03.csv\n",
      "data/crop_04.csv\n",
      "data/crop_05.csv\n",
      "data/crop_06.csv\n",
      "data/crop_07.csv\n",
      "data/crop_08.csv\n",
      "data/crop_09.csv\n",
      "data/crop_10.csv\n",
      "data/crop_11.csv\n",
      "data/crop_12.csv\n",
      "data/crop_13.csv\n",
      "data/crop_14.csv\n",
      "data/crop_15.csv\n",
      "data/crop_16.csv\n",
      "data/crop_17.csv\n",
      "data/crop_18.csv\n",
      "data/crop_19.csv\n",
      "data/crop_20.csv\n",
      "data/crop_21.csv\n"
     ]
    }
   ],
   "source": [
    "i = 0\n",
    "for file_path in files.keys():\n",
    "    csv = pd.read_csv(file_path)\n",
    "    csv = csv[using_columns]\n",
    "    for l, r in files[file_path]:\n",
    "        dcsv_fname = dataset_dir / f'crop_{i:02d}.csv'\n",
    "        print(dcsv_fname)\n",
    "        dcsv = csv.iloc[l:r]\n",
    "        dcsv.to_csv(dcsv_fname, index=False)\n",
    "        i += 1"
   ]
  },
  {
   "cell_type": "code",
   "execution_count": null,
   "metadata": {},
   "outputs": [],
   "source": []
  }
 ],
 "metadata": {
  "kernelspec": {
   "display_name": "tf",
   "language": "python",
   "name": "tf"
  },
  "language_info": {
   "codemirror_mode": {
    "name": "ipython",
    "version": 3
   },
   "file_extension": ".py",
   "mimetype": "text/x-python",
   "name": "python",
   "nbconvert_exporter": "python",
   "pygments_lexer": "ipython3",
   "version": "3.7.7"
  }
 },
 "nbformat": 4,
 "nbformat_minor": 4
}
