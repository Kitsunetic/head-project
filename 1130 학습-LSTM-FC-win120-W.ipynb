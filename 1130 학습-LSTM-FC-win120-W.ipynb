{
 "cells": [
  {
   "cell_type": "code",
   "execution_count": 1,
   "metadata": {},
   "outputs": [],
   "source": [
    "from multiprocessing import cpu_count\n",
    "from pathlib import Path\n",
    "from typing import List, Union, AnyStr\n",
    "from math import pi\n",
    "import pickle\n",
    "\n",
    "import numpy as np\n",
    "import torch\n",
    "import matplotlib.pyplot as plt\n",
    "import torch.nn as nn\n",
    "from sklearn import model_selection\n",
    "from tqdm import tqdm\n",
    "import torch_optimizer\n",
    "from torch.utils.data import Dataset\n",
    "import pandas as pd\n",
    "import random\n",
    "\n",
    "import torch_burn as tb\n",
    "import utils"
   ]
  },
  {
   "cell_type": "code",
   "execution_count": 2,
   "metadata": {},
   "outputs": [],
   "source": [
    "tb.seed_everything(0)"
   ]
  },
  {
   "cell_type": "code",
   "execution_count": 3,
   "metadata": {},
   "outputs": [],
   "source": [
    "EXPERIMENT_NAME = '1130-LSTM-win120-W'\n",
    "CHECKPOINT_DIR = Path('checkpoint', EXPERIMENT_NAME)\n",
    "CHECKPOINT_DIR.mkdir(parents=True, exist_ok=True)\n",
    "\n",
    "DATA_DIR = Path('data/1116')\n",
    "TRAIN_FILES = sorted(list(DATA_DIR.glob('*scene3_0.csv')))\n",
    "TEST_FILES = sorted(list(DATA_DIR.glob('*scene3_1.csv')))"
   ]
  },
  {
   "cell_type": "markdown",
   "metadata": {},
   "source": [
    "# 데이터셋 생성\n",
    "\n",
    "scene1에 대해서 모든 user의 데이터를 하나로 합친다."
   ]
  },
  {
   "cell_type": "code",
   "execution_count": 4,
   "metadata": {},
   "outputs": [],
   "source": [
    "WINDOW_SIZE = 120"
   ]
  },
  {
   "cell_type": "code",
   "execution_count": 5,
   "metadata": {},
   "outputs": [],
   "source": [
    "class CSVSequentialDataset(Dataset):\n",
    "    def __init__(self, csvfile, window_size, stride):\n",
    "        super(CSVSequentialDataset, self).__init__()\n",
    "\n",
    "        self.xcols = ['input_orientation_yaw', 'input_orientation_pitch', 'input_orientation_roll',\n",
    "                      'acceleration_x', 'acceleration_y', 'acceleration_z']\n",
    "        self.ycols = ['input_orientation_yaw', 'input_orientation_pitch', 'input_orientation_roll']\n",
    "\n",
    "        self.csv = pd.read_csv(csvfile)\n",
    "        self.window_size = window_size\n",
    "        \n",
    "        self.indexes = []\n",
    "        i = 0\n",
    "        while i <= len(self.csv) - window_size * 2:\n",
    "            self.indexes.append((i, i + window_size))\n",
    "            i += stride\n",
    "\n",
    "    def __len__(self):\n",
    "        return len(self.indexes)\n",
    "\n",
    "    def __getitem__(self, idx):\n",
    "        sx, tx = self.indexes[idx]\n",
    "        sy, ty = sx + WINDOW_SIZE, tx + WINDOW_SIZE\n",
    "        x = self.csv.iloc[sx:tx][self.xcols].to_numpy()\n",
    "        y = self.csv.iloc[sy:ty][self.ycols].to_numpy()\n",
    "\n",
    "        x = torch.tensor(x, dtype=torch.float32) # 300, 6\n",
    "        y = torch.tensor(y, dtype=torch.float32) # 300, 3\n",
    "\n",
    "        return x, y"
   ]
  },
  {
   "cell_type": "code",
   "execution_count": 6,
   "metadata": {},
   "outputs": [],
   "source": [
    "ds_train = [CSVSequentialDataset(f, window_size=WINDOW_SIZE, stride=5) for f in TRAIN_FILES]\n",
    "ds_train = tb.data.ChainDataset(*ds_train)\n",
    "ds_test = [CSVSequentialDataset(f, window_size=WINDOW_SIZE, stride=5) for f in TEST_FILES]\n",
    "ds_test = tb.data.ChainDataset(*ds_test)"
   ]
  },
  {
   "cell_type": "code",
   "execution_count": 7,
   "metadata": {},
   "outputs": [
    {
     "data": {
      "text/plain": [
       "(11071, 10671)"
      ]
     },
     "execution_count": 7,
     "metadata": {},
     "output_type": "execute_result"
    }
   ],
   "source": [
    "len(ds_train), len(ds_test)"
   ]
  },
  {
   "cell_type": "code",
   "execution_count": 8,
   "metadata": {},
   "outputs": [
    {
     "data": {
      "text/plain": [
       "(torch.Size([120, 6]), torch.Size([120, 3]))"
      ]
     },
     "execution_count": 8,
     "metadata": {},
     "output_type": "execute_result"
    }
   ],
   "source": [
    "ds_train[0][0].shape, ds_train[0][1].shape"
   ]
  },
  {
   "cell_type": "code",
   "execution_count": 9,
   "metadata": {},
   "outputs": [],
   "source": [
    "x, y = ds_train[0]"
   ]
  },
  {
   "cell_type": "code",
   "execution_count": 10,
   "metadata": {},
   "outputs": [
    {
     "data": {
      "text/plain": [
       "torch.Size([120, 6])"
      ]
     },
     "execution_count": 10,
     "metadata": {},
     "output_type": "execute_result"
    }
   ],
   "source": [
    "x.shape"
   ]
  },
  {
   "cell_type": "code",
   "execution_count": 11,
   "metadata": {},
   "outputs": [
    {
     "data": {
      "image/png": "[encoded data removed]",
      "text/plain": [
       "<Figure size 864x216 with 3 Axes>"
      ]
     },
     "metadata": {
      "needs_background": "light"
     },
     "output_type": "display_data"
    }
   ],
   "source": [
    "plt.figure(figsize=(12, 3))\n",
    "\n",
    "plt.subplot(1, 3, 1)\n",
    "plt.plot(x[:, 0])\n",
    "plt.title('Yaw')\n",
    "\n",
    "plt.subplot(1, 3, 2)\n",
    "plt.plot(x[:, 1])\n",
    "plt.title('Pitch')\n",
    "\n",
    "plt.subplot(1, 3, 3)\n",
    "plt.plot(x[:, 2])\n",
    "plt.title('Roll')\n",
    "\n",
    "plt.tight_layout()\n",
    "plt.show()"
   ]
  },
  {
   "cell_type": "markdown",
   "metadata": {},
   "source": [
    "# 모델 생성\n",
    "\n",
    "StackedLSTM Bidirectional"
   ]
  },
  {
   "cell_type": "code",
   "execution_count": 12,
   "metadata": {},
   "outputs": [],
   "source": [
    "class M2M_LSTM(nn.Module):\n",
    "    def __init__(self):\n",
    "        super(M2M_LSTM, self).__init__()\n",
    "\n",
    "        self.rnn = nn.LSTM(input_size=6,\n",
    "                           hidden_size=64,\n",
    "                           num_layers=8,\n",
    "                           batch_first=True,\n",
    "                           dropout=0.2,\n",
    "                           bidirectional=True)\n",
    "\n",
    "        self.out = nn.LSTM(input_size=128, \n",
    "                           hidden_size=3, \n",
    "                           num_layers=1, \n",
    "                           batch_first=True, \n",
    "                           dropout=0, \n",
    "                           bidirectional=False)\n",
    "        self.fc = nn.Linear(128, 3)\n",
    "\n",
    "    def forward(self, x):\n",
    "        x, (hiddens, cells) = self.rnn(x) # B, S, 128\n",
    "        #x, (hiddens, cells) = self.out(x) # B, S, 3\n",
    "        hs = []\n",
    "        for i in range(x.shape[1]):\n",
    "            h = self.fc(x[:, i])\n",
    "            hs.append(h)\n",
    "        h = torch.stack(hs, 1)\n",
    "\n",
    "        return h"
   ]
  },
  {
   "cell_type": "code",
   "execution_count": 13,
   "metadata": {},
   "outputs": [],
   "source": [
    "model = M2M_LSTM().cuda()"
   ]
  },
  {
   "cell_type": "code",
   "execution_count": 14,
   "metadata": {},
   "outputs": [],
   "source": [
    "criterion = nn.MSELoss().cuda()\n",
    "optimizer = torch_optimizer.RAdam(model.parameters())"
   ]
  },
  {
   "cell_type": "code",
   "execution_count": 15,
   "metadata": {},
   "outputs": [],
   "source": [
    "class HPMetric(tb.metrics.InvisibleMetric):\n",
    "    def __init__(self, name: str):\n",
    "        super(HPMetric, self).__init__(name)\n",
    "\n",
    "        self.diff = []\n",
    "\n",
    "    def on_valid_epoch_end(self, epoch: int, logs: dict):\n",
    "        # RMS, 99% tile 출력\n",
    "        yaw_v, pitch_v, roll_v, rms_v, tile99_v = self._calc_values(self.diff)\n",
    "\n",
    "        print(f'                  validation')\n",
    "        print(f' - Yaw          : {yaw_v:10f}')\n",
    "        print(f' - Pitch        : {pitch_v:10f}')\n",
    "        print(f' - Roll         : {roll_v:10f}')\n",
    "        print(f' - RMS          : {rms_v:10f}')\n",
    "        print(f' - 99% Tile     : {tile99_v:10f}')\n",
    "\n",
    "        self.diff.clear()\n",
    "\n",
    "    def get_value(self, outputs: torch.Tensor, targets: torch.Tensor, is_train: bool):\n",
    "        if not is_train:\n",
    "            self.diff.append((outputs - targets).mean(1).detach().cpu())  # (B, S, 3) --> (B, 3)\n",
    "\n",
    "    @staticmethod\n",
    "    def _calc_values(diff):\n",
    "        diff = torch.cat(diff).abs_()  # (D, 3)\n",
    "        rms = (diff.square().sum(1) / 3).sqrt()\n",
    "        tile = rms.flatten().numpy()\n",
    "        tile99 = np.percentile(tile, 99)\n",
    "        \n",
    "        mrms = rms.mean()\n",
    "        \n",
    "        # diff = radian2degree(diff)\n",
    "        #tile = diff.flatten().numpy()\n",
    "        #tile99 = np.percentile(tile, 99)\n",
    "\n",
    "        mdiff = diff.mean(dim=0)\n",
    "        #rms = (mdiff.square().sum() / 3).sqrt()\n",
    "\n",
    "        return mdiff[0].item(), mdiff[1].item(), mdiff[2].item(), mrms.item(), tile99"
   ]
  },
  {
   "cell_type": "code",
   "execution_count": 16,
   "metadata": {},
   "outputs": [],
   "source": [
    "metrics = [tb.metrics.ModuleMetric(criterion, 'loss'),\n",
    "           HPMetric('hp_metric')]"
   ]
  },
  {
   "cell_type": "code",
   "execution_count": 17,
   "metadata": {},
   "outputs": [],
   "source": [
    "callbacks = [tb.callbacks.EarlyStopping(metrics[0]),\n",
    "             tb.callbacks.LRDecaying(optimizer, metrics[0], patience=3),\n",
    "             tb.callbacks.SaveCheckpoint({'model': model}, metrics[0], CHECKPOINT_DIR, 'best-ckpt.pth')]"
   ]
  },
  {
   "cell_type": "code",
   "execution_count": 18,
   "metadata": {},
   "outputs": [],
   "source": [
    "trainer = tb.Trainer(model, optimizer, metrics, callbacks, ncols=100)"
   ]
  },
  {
   "cell_type": "code",
   "execution_count": 19,
   "metadata": {},
   "outputs": [
    {
     "name": "stderr",
     "output_type": "stream",
     "text": [
      "[0001/0200] Train: 100%|█████████████████████████████| 44/44 [00:06<00:00,  6.47it/s, loss 290.4258]\n",
      "[0001/0200] Validation: 100%|████████████████████| 42/42 [00:02<00:00, 18.98it/s, val_loss 234.8572]\n",
      "[0002/0200] Train:   0%|                                                     | 0/44 [00:00<?, ?it/s]"
     ]
    },
    {
     "name": "stdout",
     "output_type": "stream",
     "text": [
      "Save checkpoint: val_loss decreased from inf to 234.8572193327404\n",
      "                  validation\n",
      " - Yaw          :  18.123629\n",
      " - Pitch        :  10.170142\n",
      " - Roll         :   2.416254\n",
      " - RMS          :  13.009292\n",
      " - 99% Tile     :  26.812298\n"
     ]
    },
    {
     "name": "stderr",
     "output_type": "stream",
     "text": [
      "[0002/0200] Train: 100%|█████████████████████████████| 44/44 [00:05<00:00,  7.99it/s, loss 271.7813]\n",
      "[0002/0200] Validation: 100%|████████████████████| 42/42 [00:02<00:00, 18.75it/s, val_loss 208.3399]\n",
      "[0003/0200] Train:   0%|                                                     | 0/44 [00:00<?, ?it/s]"
     ]
    },
    {
     "name": "stdout",
     "output_type": "stream",
     "text": [
      "Save checkpoint: val_loss decreased from 234.8572193327404 to 208.33988307771227\n",
      "                  validation\n",
      " - Yaw          :  16.963274\n",
      " - Pitch        :   8.630249\n",
      " - Roll         :   2.569400\n",
      " - RMS          :  11.956036\n",
      " - 99% Tile     :  25.930684\n"
     ]
    },
    {
     "name": "stderr",
     "output_type": "stream",
     "text": [
      "[0003/0200] Train: 100%|█████████████████████████████| 44/44 [00:05<00:00,  7.87it/s, loss 239.4813]\n",
      "[0003/0200] Validation: 100%|████████████████████| 42/42 [00:02<00:00, 18.80it/s, val_loss 179.0421]\n",
      "[0004/0200] Train:   0%|                                                     | 0/44 [00:00<?, ?it/s]"
     ]
    },
    {
     "name": "stdout",
     "output_type": "stream",
     "text": [
      "Save checkpoint: val_loss decreased from 208.33988307771227 to 179.04213156018935\n",
      "                  validation\n",
      " - Yaw          :  15.031378\n",
      " - Pitch        :   8.092386\n",
      " - Roll         :   2.451120\n",
      " - RMS          :  10.848778\n",
      " - 99% Tile     :  24.017681\n"
     ]
    },
    {
     "name": "stderr",
     "output_type": "stream",
     "text": [
      "[0004/0200] Train: 100%|█████████████████████████████| 44/44 [00:05<00:00,  8.00it/s, loss 207.7991]\n",
      "[0004/0200] Validation: 100%|████████████████████| 42/42 [00:02<00:00, 18.97it/s, val_loss 159.3499]\n",
      "[0005/0200] Train:   0%|                                                     | 0/44 [00:00<?, ?it/s]"
     ]
    },
    {
     "name": "stdout",
     "output_type": "stream",
     "text": [
      "Save checkpoint: val_loss decreased from 179.04213156018935 to 159.349886122204\n",
      "                  validation\n",
      " - Yaw          :  13.593430\n",
      " - Pitch        :   8.159460\n",
      " - Roll         :   2.350868\n",
      " - RMS          :  10.158207\n",
      " - 99% Tile     :  22.578028\n"
     ]
    },
    {
     "name": "stderr",
     "output_type": "stream",
     "text": [
      "[0005/0200] Train: 100%|█████████████████████████████| 44/44 [00:05<00:00,  7.97it/s, loss 188.6048]\n",
      "[0005/0200] Validation: 100%|████████████████████| 42/42 [00:02<00:00, 18.80it/s, val_loss 147.2923]\n",
      "[0006/0200] Train:   0%|                                                     | 0/44 [00:00<?, ?it/s]"
     ]
    },
    {
     "name": "stdout",
     "output_type": "stream",
     "text": [
      "Save checkpoint: val_loss decreased from 159.349886122204 to 147.29230785369873\n",
      "                  validation\n",
      " - Yaw          :  12.479218\n",
      " - Pitch        :   7.936607\n",
      " - Roll         :   2.362994\n",
      " - RMS          :   9.564082\n",
      " - 99% Tile     :  22.126282\n"
     ]
    },
    {
     "name": "stderr",
     "output_type": "stream",
     "text": [
      "[0006/0200] Train: 100%|█████████████████████████████| 44/44 [00:05<00:00,  7.93it/s, loss 176.1114]\n",
      "[0006/0200] Validation: 100%|████████████████████| 42/42 [00:02<00:00, 19.42it/s, val_loss 142.4801]\n",
      "[0007/0200] Train:   0%|                                                     | 0/44 [00:00<?, ?it/s]"
     ]
    },
    {
     "name": "stdout",
     "output_type": "stream",
     "text": [
      "Save checkpoint: val_loss decreased from 147.29230785369873 to 142.48010926019577\n",
      "                  validation\n",
      " - Yaw          :  12.335450\n",
      " - Pitch        :   7.688199\n",
      " - Roll         :   2.390121\n",
      " - RMS          :   9.403228\n",
      " - 99% Tile     :  22.261943\n"
     ]
    },
    {
     "name": "stderr",
     "output_type": "stream",
     "text": [
      "[0007/0200] Train: 100%|█████████████████████████████| 44/44 [00:05<00:00,  8.04it/s, loss 164.6854]\n",
      "[0007/0200] Validation: 100%|████████████████████| 42/42 [00:02<00:00, 18.60it/s, val_loss 134.0649]\n",
      "[0008/0200] Train:   0%|                                                     | 0/44 [00:00<?, ?it/s]"
     ]
    },
    {
     "name": "stdout",
     "output_type": "stream",
     "text": [
      "Save checkpoint: val_loss decreased from 142.48010926019577 to 134.06492664700463\n",
      "                  validation\n",
      " - Yaw          :  11.643262\n",
      " - Pitch        :   7.317278\n",
      " - Roll         :   2.345167\n",
      " - RMS          :   8.934312\n",
      " - 99% Tile     :  22.015236\n"
     ]
    },
    {
     "name": "stderr",
     "output_type": "stream",
     "text": [
      "[0008/0200] Train: 100%|█████████████████████████████| 44/44 [00:05<00:00,  7.94it/s, loss 157.3615]\n",
      "[0008/0200] Validation: 100%|████████████████████| 42/42 [00:02<00:00, 19.04it/s, val_loss 129.8516]\n",
      "[0009/0200] Train:   0%|                                                     | 0/44 [00:00<?, ?it/s]"
     ]
    },
    {
     "name": "stdout",
     "output_type": "stream",
     "text": [
      "Save checkpoint: val_loss decreased from 134.06492664700463 to 129.8515812555949\n",
      "                  validation\n",
      " - Yaw          :  11.606878\n",
      " - Pitch        :   7.053999\n",
      " - Roll         :   2.359782\n",
      " - RMS          :   8.753055\n",
      " - 99% Tile     :  21.735670\n"
     ]
    },
    {
     "name": "stderr",
     "output_type": "stream",
     "text": [
      "[0009/0200] Train: 100%|█████████████████████████████| 44/44 [00:05<00:00,  7.92it/s, loss 147.2351]\n",
      "[0009/0200] Validation: 100%|████████████████████| 42/42 [00:02<00:00, 18.60it/s, val_loss 124.6659]\n",
      "[0010/0200] Train:   0%|                                                     | 0/44 [00:00<?, ?it/s]"
     ]
    },
    {
     "name": "stdout",
     "output_type": "stream",
     "text": [
      "Save checkpoint: val_loss decreased from 129.8515812555949 to 124.6659334727696\n",
      "                  validation\n",
      " - Yaw          :  10.985590\n",
      " - Pitch        :   6.963596\n",
      " - Roll         :   2.343364\n",
      " - RMS          :   8.474321\n",
      " - 99% Tile     :  22.954729\n"
     ]
    },
    {
     "name": "stderr",
     "output_type": "stream",
     "text": [
      "[0010/0200] Train: 100%|█████████████████████████████| 44/44 [00:05<00:00,  7.87it/s, loss 144.1972]\n",
      "[0010/0200] Validation: 100%|████████████████████| 42/42 [00:02<00:00, 18.61it/s, val_loss 123.0744]\n",
      "[0011/0200] Train:   0%|                                                     | 0/44 [00:00<?, ?it/s]"
     ]
    },
    {
     "name": "stdout",
     "output_type": "stream",
     "text": [
      "Save checkpoint: val_loss decreased from 124.6659334727696 to 123.07436613809494\n",
      "                  validation\n",
      " - Yaw          :  10.483807\n",
      " - Pitch        :   6.912482\n",
      " - Roll         :   2.352568\n",
      " - RMS          :   8.249300\n",
      " - 99% Tile     :  22.986056\n"
     ]
    },
    {
     "name": "stderr",
     "output_type": "stream",
     "text": [
      "[0011/0200] Train: 100%|█████████████████████████████| 44/44 [00:05<00:00,  7.71it/s, loss 137.8310]\n",
      "[0011/0200] Validation: 100%|████████████████████| 42/42 [00:02<00:00, 17.39it/s, val_loss 118.7691]\n",
      "[0012/0200] Train:   0%|                                                     | 0/44 [00:00<?, ?it/s]"
     ]
    },
    {
     "name": "stdout",
     "output_type": "stream",
     "text": [
      "Save checkpoint: val_loss decreased from 123.07436613809494 to 118.76910037086124\n",
      "                  validation\n",
      " - Yaw          :  10.405332\n",
      " - Pitch        :   6.764382\n",
      " - Roll         :   2.333049\n",
      " - RMS          :   8.133216\n",
      " - 99% Tile     :  22.637943\n"
     ]
    },
    {
     "name": "stderr",
     "output_type": "stream",
     "text": [
      "[0012/0200] Train: 100%|█████████████████████████████| 44/44 [00:09<00:00,  4.59it/s, loss 133.0360]\n",
      "[0012/0200] Validation: 100%|████████████████████| 42/42 [00:03<00:00, 12.21it/s, val_loss 121.4731]\n",
      "[0013/0200] Train:   0%|                                                     | 0/44 [00:00<?, ?it/s]"
     ]
    },
    {
     "name": "stdout",
     "output_type": "stream",
     "text": [
      "val_loss is not improved for 1 epochs\n",
      "                  validation\n",
      " - Yaw          :  10.332128\n",
      " - Pitch        :   6.966147\n",
      " - Roll         :   2.360541\n",
      " - RMS          :   8.198252\n",
      " - 99% Tile     :  23.627316\n"
     ]
    },
    {
     "name": "stderr",
     "output_type": "stream",
     "text": [
      "[0013/0200] Train: 100%|█████████████████████████████| 44/44 [00:09<00:00,  4.77it/s, loss 130.0416]\n",
      "[0013/0200] Validation: 100%|████████████████████| 42/42 [00:03<00:00, 12.49it/s, val_loss 121.1744]\n",
      "[0014/0200] Train:   0%|                                                     | 0/44 [00:00<?, ?it/s]"
     ]
    },
    {
     "name": "stdout",
     "output_type": "stream",
     "text": [
      "val_loss is not improved for 2 epochs\n",
      "                  validation\n",
      " - Yaw          :  10.629911\n",
      " - Pitch        :   6.850261\n",
      " - Roll         :   2.370431\n",
      " - RMS          :   8.239637\n",
      " - 99% Tile     :  24.104326\n"
     ]
    },
    {
     "name": "stderr",
     "output_type": "stream",
     "text": [
      "[0014/0200] Train: 100%|█████████████████████████████| 44/44 [00:08<00:00,  5.02it/s, loss 129.9308]\n",
      "[0014/0200] Validation: 100%|████████████████████| 42/42 [00:03<00:00, 13.05it/s, val_loss 116.3329]\n",
      "[0015/0200] Train:   0%|                                                     | 0/44 [00:00<?, ?it/s]"
     ]
    },
    {
     "name": "stdout",
     "output_type": "stream",
     "text": [
      "Save checkpoint: val_loss decreased from 118.76910037086124 to 116.33290958404541\n",
      "                  validation\n",
      " - Yaw          :  10.033653\n",
      " - Pitch        :   6.676668\n",
      " - Roll         :   2.362273\n",
      " - RMS          :   7.946792\n",
      " - 99% Tile     :  23.436222\n"
     ]
    },
    {
     "name": "stderr",
     "output_type": "stream",
     "text": [
      "[0015/0200] Train: 100%|█████████████████████████████| 44/44 [00:08<00:00,  5.06it/s, loss 124.7887]\n",
      "[0015/0200] Validation: 100%|████████████████████| 42/42 [00:02<00:00, 14.00it/s, val_loss 118.2875]\n",
      "[0016/0200] Train:   0%|                                                     | 0/44 [00:00<?, ?it/s]"
     ]
    },
    {
     "name": "stdout",
     "output_type": "stream",
     "text": [
      "val_loss is not improved for 1 epochs\n",
      "                  validation\n",
      " - Yaw          :  10.155171\n",
      " - Pitch        :   6.795320\n",
      " - Roll         :   2.369572\n",
      " - RMS          :   8.027666\n",
      " - 99% Tile     :  24.650526\n"
     ]
    },
    {
     "name": "stderr",
     "output_type": "stream",
     "text": [
      "[0016/0200] Train: 100%|█████████████████████████████| 44/44 [00:08<00:00,  5.05it/s, loss 121.4525]\n",
      "[0016/0200] Validation: 100%|████████████████████| 42/42 [00:03<00:00, 13.42it/s, val_loss 116.4354]\n",
      "[0017/0200] Train:   0%|                                                     | 0/44 [00:00<?, ?it/s]"
     ]
    },
    {
     "name": "stdout",
     "output_type": "stream",
     "text": [
      "val_loss is not improved for 2 epochs\n",
      "                  validation\n",
      " - Yaw          :  10.020475\n",
      " - Pitch        :   6.698265\n",
      " - Roll         :   2.337438\n",
      " - RMS          :   7.966706\n",
      " - 99% Tile     :  23.678887\n"
     ]
    },
    {
     "name": "stderr",
     "output_type": "stream",
     "text": [
      "[0017/0200] Train: 100%|█████████████████████████████| 44/44 [00:08<00:00,  5.02it/s, loss 121.5737]\n",
      "[0017/0200] Validation: 100%|████████████████████| 42/42 [00:03<00:00, 12.94it/s, val_loss 115.9946]\n",
      "[0018/0200] Train:   0%|                                                     | 0/44 [00:00<?, ?it/s]"
     ]
    },
    {
     "name": "stdout",
     "output_type": "stream",
     "text": [
      "Save checkpoint: val_loss decreased from 116.33290958404541 to 115.99461033230736\n",
      "                  validation\n",
      " - Yaw          :   9.729050\n",
      " - Pitch        :   6.851598\n",
      " - Roll         :   2.359937\n",
      " - RMS          :   7.886282\n",
      " - 99% Tile     :  23.982642\n"
     ]
    },
    {
     "name": "stderr",
     "output_type": "stream",
     "text": [
      "[0018/0200] Train: 100%|█████████████████████████████| 44/44 [00:08<00:00,  5.00it/s, loss 123.2411]\n",
      "[0018/0200] Validation: 100%|████████████████████| 42/42 [00:03<00:00, 12.65it/s, val_loss 119.5162]\n",
      "[0019/0200] Train:   0%|                                                     | 0/44 [00:00<?, ?it/s]"
     ]
    },
    {
     "name": "stdout",
     "output_type": "stream",
     "text": [
      "val_loss is not improved for 1 epochs\n",
      "                  validation\n",
      " - Yaw          :  10.015954\n",
      " - Pitch        :   6.914218\n",
      " - Roll         :   2.411399\n",
      " - RMS          :   8.030788\n",
      " - 99% Tile     :  24.133780\n"
     ]
    },
    {
     "name": "stderr",
     "output_type": "stream",
     "text": [
      "[0019/0200] Train: 100%|█████████████████████████████| 44/44 [00:08<00:00,  5.09it/s, loss 125.2246]\n",
      "[0019/0200] Validation: 100%|████████████████████| 42/42 [00:03<00:00, 13.59it/s, val_loss 118.1642]\n",
      "[0020/0200] Train:   0%|                                                     | 0/44 [00:00<?, ?it/s]"
     ]
    },
    {
     "name": "stdout",
     "output_type": "stream",
     "text": [
      "val_loss is not improved for 2 epochs\n",
      "                  validation\n",
      " - Yaw          :  10.017655\n",
      " - Pitch        :   6.764608\n",
      " - Roll         :   2.354153\n",
      " - RMS          :   7.977889\n",
      " - 99% Tile     :  24.771081\n"
     ]
    },
    {
     "name": "stderr",
     "output_type": "stream",
     "text": [
      "[0020/0200] Train: 100%|█████████████████████████████| 44/44 [00:08<00:00,  5.03it/s, loss 122.4900]\n",
      "[0020/0200] Validation: 100%|████████████████████| 42/42 [00:03<00:00, 12.99it/s, val_loss 112.8479]\n",
      "[0021/0200] Train:   0%|                                                     | 0/44 [00:00<?, ?it/s]"
     ]
    },
    {
     "name": "stdout",
     "output_type": "stream",
     "text": [
      "Save checkpoint: val_loss decreased from 115.99461033230736 to 112.84787564050583\n",
      "                  validation\n",
      " - Yaw          :   9.552552\n",
      " - Pitch        :   6.647446\n",
      " - Roll         :   2.330761\n",
      " - RMS          :   7.798288\n",
      " - 99% Tile     :  23.681954\n"
     ]
    },
    {
     "name": "stderr",
     "output_type": "stream",
     "text": [
      "[0021/0200] Train: 100%|█████████████████████████████| 44/44 [00:08<00:00,  5.08it/s, loss 115.1903]\n",
      "[0021/0200] Validation: 100%|████████████████████| 42/42 [00:03<00:00, 13.53it/s, val_loss 156.2074]\n",
      "[0022/0200] Train:   0%|                                                     | 0/44 [00:00<?, ?it/s]"
     ]
    },
    {
     "name": "stdout",
     "output_type": "stream",
     "text": [
      "val_loss is not improved for 1 epochs\n",
      "                  validation\n",
      " - Yaw          :  13.601236\n",
      " - Pitch        :   6.966919\n",
      " - Roll         :   2.621899\n",
      " - RMS          :   9.827044\n",
      " - 99% Tile     :  24.691393\n"
     ]
    },
    {
     "name": "stderr",
     "output_type": "stream",
     "text": [
      "[0022/0200] Train: 100%|█████████████████████████████| 44/44 [00:08<00:00,  5.05it/s, loss 121.1004]\n",
      "[0022/0200] Validation: 100%|████████████████████| 42/42 [00:03<00:00, 13.15it/s, val_loss 108.7823]\n",
      "[0023/0200] Train:   0%|                                                     | 0/44 [00:00<?, ?it/s]"
     ]
    },
    {
     "name": "stdout",
     "output_type": "stream",
     "text": [
      "Save checkpoint: val_loss decreased from 112.84787564050583 to 108.78234627133324\n",
      "                  validation\n",
      " - Yaw          :   9.035360\n",
      " - Pitch        :   6.547195\n",
      " - Roll         :   2.347222\n",
      " - RMS          :   7.445752\n",
      " - 99% Tile     :  23.919940\n"
     ]
    },
    {
     "name": "stderr",
     "output_type": "stream",
     "text": [
      "[0023/0200] Train: 100%|█████████████████████████████| 44/44 [00:08<00:00,  4.95it/s, loss 110.0482]\n",
      "[0023/0200] Validation: 100%|████████████████████| 42/42 [00:03<00:00, 13.04it/s, val_loss 106.0509]\n",
      "[0024/0200] Train:   0%|                                                     | 0/44 [00:00<?, ?it/s]"
     ]
    },
    {
     "name": "stdout",
     "output_type": "stream",
     "text": [
      "Save checkpoint: val_loss decreased from 108.78234627133324 to 106.05092489151727\n",
      "                  validation\n",
      " - Yaw          :   8.798159\n",
      " - Pitch        :   6.436257\n",
      " - Roll         :   2.327174\n",
      " - RMS          :   7.340775\n",
      " - 99% Tile     :  23.569200\n"
     ]
    },
    {
     "name": "stderr",
     "output_type": "stream",
     "text": [
      "[0024/0200] Train: 100%|█████████████████████████████| 44/44 [00:08<00:00,  5.22it/s, loss 111.1182]\n",
      "[0024/0200] Validation: 100%|████████████████████| 42/42 [00:02<00:00, 14.81it/s, val_loss 112.3816]\n",
      "[0025/0200] Train:   0%|                                                     | 0/44 [00:00<?, ?it/s]"
     ]
    },
    {
     "name": "stdout",
     "output_type": "stream",
     "text": [
      "val_loss is not improved for 1 epochs\n",
      "                  validation\n",
      " - Yaw          :   9.364354\n",
      " - Pitch        :   6.526609\n",
      " - Roll         :   2.384654\n",
      " - RMS          :   7.650433\n",
      " - 99% Tile     :  24.418939\n"
     ]
    },
    {
     "name": "stderr",
     "output_type": "stream",
     "text": [
      "[0025/0200] Train: 100%|█████████████████████████████| 44/44 [00:08<00:00,  5.00it/s, loss 112.2167]\n",
      "[0025/0200] Validation: 100%|████████████████████| 42/42 [00:02<00:00, 17.73it/s, val_loss 108.0496]\n",
      "[0026/0200] Train:   0%|                                                     | 0/44 [00:00<?, ?it/s]"
     ]
    },
    {
     "name": "stdout",
     "output_type": "stream",
     "text": [
      "val_loss is not improved for 2 epochs\n",
      "                  validation\n",
      " - Yaw          :   9.162897\n",
      " - Pitch        :   6.390954\n",
      " - Roll         :   2.372711\n",
      " - RMS          :   7.475661\n",
      " - 99% Tile     :  24.201231\n"
     ]
    },
    {
     "name": "stderr",
     "output_type": "stream",
     "text": [
      "[0026/0200] Train: 100%|█████████████████████████████| 44/44 [00:05<00:00,  8.04it/s, loss 108.1649]\n",
      "[0026/0200] Validation: 100%|████████████████████| 42/42 [00:02<00:00, 18.70it/s, val_loss 106.5400]\n",
      "[0027/0200] Train:   0%|                                                     | 0/44 [00:00<?, ?it/s]"
     ]
    },
    {
     "name": "stdout",
     "output_type": "stream",
     "text": [
      "Decaying lr from 0.001 to 0.0005 because val_loss did not improved for 3 epochs\n",
      "val_loss is not improved for 3 epochs\n",
      "                  validation\n",
      " - Yaw          :   8.985515\n",
      " - Pitch        :   6.458461\n",
      " - Roll         :   2.347829\n",
      " - RMS          :   7.406697\n",
      " - 99% Tile     :  23.438024\n"
     ]
    },
    {
     "name": "stderr",
     "output_type": "stream",
     "text": [
      "[0027/0200] Train: 100%|█████████████████████████████| 44/44 [00:05<00:00,  7.94it/s, loss 104.6233]\n",
      "[0027/0200] Validation: 100%|████████████████████| 42/42 [00:02<00:00, 18.77it/s, val_loss 104.8226]\n",
      "[0028/0200] Train:   0%|                                                     | 0/44 [00:00<?, ?it/s]"
     ]
    },
    {
     "name": "stdout",
     "output_type": "stream",
     "text": [
      "Save checkpoint: val_loss decreased from 106.05092489151727 to 104.82261217208136\n",
      "                  validation\n",
      " - Yaw          :   9.049468\n",
      " - Pitch        :   6.281147\n",
      " - Roll         :   2.283638\n",
      " - RMS          :   7.339723\n",
      " - 99% Tile     :  23.490273\n"
     ]
    },
    {
     "name": "stderr",
     "output_type": "stream",
     "text": [
      "[0028/0200] Train: 100%|█████████████████████████████| 44/44 [00:05<00:00,  8.02it/s, loss 106.8284]\n",
      "[0028/0200] Validation: 100%|████████████████████| 42/42 [00:02<00:00, 18.40it/s, val_loss 140.5511]\n",
      "[0029/0200] Train:   0%|                                                     | 0/44 [00:00<?, ?it/s]"
     ]
    },
    {
     "name": "stdout",
     "output_type": "stream",
     "text": [
      "val_loss is not improved for 1 epochs\n",
      "                  validation\n",
      " - Yaw          :  12.052214\n",
      " - Pitch        :   6.648990\n",
      " - Roll         :   2.449899\n",
      " - RMS          :   8.966542\n",
      " - 99% Tile     :  25.066219\n"
     ]
    },
    {
     "name": "stderr",
     "output_type": "stream",
     "text": [
      "[0029/0200] Train: 100%|█████████████████████████████| 44/44 [00:05<00:00,  7.99it/s, loss 113.1687]\n",
      "[0029/0200] Validation: 100%|████████████████████| 42/42 [00:02<00:00, 18.31it/s, val_loss 108.8841]\n",
      "[0030/0200] Train:   0%|                                                     | 0/44 [00:00<?, ?it/s]"
     ]
    },
    {
     "name": "stdout",
     "output_type": "stream",
     "text": [
      "val_loss is not improved for 2 epochs\n",
      "                  validation\n",
      " - Yaw          :   9.071419\n",
      " - Pitch        :   6.622771\n",
      " - Roll         :   2.324009\n",
      " - RMS          :   7.514009\n",
      " - 99% Tile     :  23.950128\n"
     ]
    },
    {
     "name": "stderr",
     "output_type": "stream",
     "text": [
      "[0030/0200] Train: 100%|█████████████████████████████| 44/44 [00:05<00:00,  7.93it/s, loss 105.6998]\n",
      "[0030/0200] Validation: 100%|████████████████████| 42/42 [00:02<00:00, 18.45it/s, val_loss 104.4839]\n",
      "[0031/0200] Train:   0%|                                                     | 0/44 [00:00<?, ?it/s]"
     ]
    },
    {
     "name": "stdout",
     "output_type": "stream",
     "text": [
      "Save checkpoint: val_loss decreased from 104.82261217208136 to 104.48387277693976\n",
      "                  validation\n",
      " - Yaw          :   8.861389\n",
      " - Pitch        :   6.430037\n",
      " - Roll         :   2.236537\n",
      " - RMS          :   7.326540\n",
      " - 99% Tile     :  23.380680\n"
     ]
    },
    {
     "name": "stderr",
     "output_type": "stream",
     "text": [
      "[0031/0200] Train: 100%|█████████████████████████████| 44/44 [00:05<00:00,  7.88it/s, loss 103.9750]\n",
      "[0031/0200] Validation: 100%|████████████████████| 42/42 [00:02<00:00, 18.34it/s, val_loss 106.3528]\n",
      "[0032/0200] Train:   0%|                                                     | 0/44 [00:00<?, ?it/s]"
     ]
    },
    {
     "name": "stdout",
     "output_type": "stream",
     "text": [
      "val_loss is not improved for 1 epochs\n",
      "                  validation\n",
      " - Yaw          :   8.874451\n",
      " - Pitch        :   6.562255\n",
      " - Roll         :   2.272668\n",
      " - RMS          :   7.377920\n",
      " - 99% Tile     :  24.030107\n"
     ]
    },
    {
     "name": "stderr",
     "output_type": "stream",
     "text": [
      "[0032/0200] Train: 100%|█████████████████████████████| 44/44 [00:05<00:00,  7.86it/s, loss 103.0173]\n",
      "[0032/0200] Validation: 100%|████████████████████| 42/42 [00:02<00:00, 17.72it/s, val_loss 105.9652]\n",
      "[0033/0200] Train:   0%|                                                     | 0/44 [00:00<?, ?it/s]"
     ]
    },
    {
     "name": "stdout",
     "output_type": "stream",
     "text": [
      "val_loss is not improved for 2 epochs\n",
      "                  validation\n",
      " - Yaw          :   8.824788\n",
      " - Pitch        :   6.488409\n",
      " - Roll         :   2.287672\n",
      " - RMS          :   7.351226\n",
      " - 99% Tile     :  24.040376\n"
     ]
    },
    {
     "name": "stderr",
     "output_type": "stream",
     "text": [
      "[0033/0200] Train: 100%|█████████████████████████████| 44/44 [00:05<00:00,  8.00it/s, loss 102.2553]\n",
      "[0033/0200] Validation: 100%|████████████████████| 42/42 [00:02<00:00, 18.57it/s, val_loss 107.5338]\n",
      "[0034/0200] Train:   0%|                                                     | 0/44 [00:00<?, ?it/s]"
     ]
    },
    {
     "name": "stdout",
     "output_type": "stream",
     "text": [
      "Decaying lr from 0.0005 to 0.00025 because val_loss did not improved for 3 epochs\n",
      "val_loss is not improved for 3 epochs\n",
      "                  validation\n",
      " - Yaw          :   9.140822\n",
      " - Pitch        :   6.528799\n",
      " - Roll         :   2.234375\n",
      " - RMS          :   7.503986\n",
      " - 99% Tile     :  23.614597\n"
     ]
    },
    {
     "name": "stderr",
     "output_type": "stream",
     "text": [
      "[0034/0200] Train: 100%|█████████████████████████████| 44/44 [00:05<00:00,  7.96it/s, loss 101.3520]\n",
      "[0034/0200] Validation: 100%|████████████████████| 42/42 [00:02<00:00, 18.43it/s, val_loss 106.9858]\n",
      "[0035/0200] Train:   0%|                                                     | 0/44 [00:00<?, ?it/s]"
     ]
    },
    {
     "name": "stdout",
     "output_type": "stream",
     "text": [
      "val_loss is not improved for 4 epochs\n",
      "                  validation\n",
      " - Yaw          :   9.073482\n",
      " - Pitch        :   6.461409\n",
      " - Roll         :   2.256889\n",
      " - RMS          :   7.434694\n",
      " - 99% Tile     :  23.928675\n"
     ]
    },
    {
     "name": "stderr",
     "output_type": "stream",
     "text": [
      "[0035/0200] Train: 100%|█████████████████████████████| 44/44 [00:05<00:00,  8.01it/s, loss 101.1788]\n",
      "[0035/0200] Validation: 100%|████████████████████| 42/42 [00:02<00:00, 18.95it/s, val_loss 106.2268]\n",
      "[0036/0200] Train:   0%|                                                     | 0/44 [00:00<?, ?it/s]"
     ]
    },
    {
     "name": "stdout",
     "output_type": "stream",
     "text": [
      "val_loss is not improved for 5 epochs\n",
      "                  validation\n",
      " - Yaw          :   9.011786\n",
      " - Pitch        :   6.514910\n",
      " - Roll         :   2.245079\n",
      " - RMS          :   7.414965\n",
      " - 99% Tile     :  23.879026\n"
     ]
    },
    {
     "name": "stderr",
     "output_type": "stream",
     "text": [
      "[0036/0200] Train: 100%|█████████████████████████████| 44/44 [00:05<00:00,  8.00it/s, loss 100.7779]\n",
      "[0036/0200] Validation: 100%|████████████████████| 42/42 [00:02<00:00, 19.20it/s, val_loss 110.5346]\n",
      "[0037/0200] Train:   0%|                                                     | 0/44 [00:00<?, ?it/s]"
     ]
    },
    {
     "name": "stdout",
     "output_type": "stream",
     "text": [
      "Decaying lr from 0.00025 to 0.000125 because val_loss did not improved for 3 epochs\n",
      "val_loss is not improved for 6 epochs\n",
      "                  validation\n",
      " - Yaw          :   9.500599\n",
      " - Pitch        :   6.397901\n",
      " - Roll         :   2.253918\n",
      " - RMS          :   7.574953\n",
      " - 99% Tile     :  24.784553\n"
     ]
    },
    {
     "name": "stderr",
     "output_type": "stream",
     "text": [
      "[0037/0200] Train: 100%|██████████████████████████████| 44/44 [00:05<00:00,  7.64it/s, loss 99.6477]\n",
      "[0037/0200] Validation: 100%|████████████████████| 42/42 [00:02<00:00, 19.08it/s, val_loss 107.1623]\n",
      "[0038/0200] Train:   0%|                                                     | 0/44 [00:00<?, ?it/s]"
     ]
    },
    {
     "name": "stdout",
     "output_type": "stream",
     "text": [
      "val_loss is not improved for 7 epochs\n",
      "                  validation\n",
      " - Yaw          :   9.096658\n",
      " - Pitch        :   6.439346\n",
      " - Roll         :   2.264833\n",
      " - RMS          :   7.424590\n",
      " - 99% Tile     :  23.885072\n"
     ]
    },
    {
     "name": "stderr",
     "output_type": "stream",
     "text": [
      "[0038/0200] Train: 100%|█████████████████████████████| 44/44 [00:05<00:00,  7.86it/s, loss 100.1327]\n",
      "[0038/0200] Validation: 100%|████████████████████| 42/42 [00:02<00:00, 18.90it/s, val_loss 107.6847]\n",
      "[0039/0200] Train:   0%|                                                     | 0/44 [00:00<?, ?it/s]"
     ]
    },
    {
     "name": "stdout",
     "output_type": "stream",
     "text": [
      "val_loss is not improved for 8 epochs\n",
      "                  validation\n",
      " - Yaw          :   9.171767\n",
      " - Pitch        :   6.396278\n",
      " - Roll         :   2.257360\n",
      " - RMS          :   7.452081\n",
      " - 99% Tile     :  23.990645\n"
     ]
    },
    {
     "name": "stderr",
     "output_type": "stream",
     "text": [
      "[0039/0200] Train: 100%|██████████████████████████████| 44/44 [00:05<00:00,  8.06it/s, loss 99.7685]\n",
      "[0039/0200] Validation: 100%|████████████████████| 42/42 [00:02<00:00, 18.75it/s, val_loss 109.1944]\n",
      "[0040/0200] Train:   0%|                                                     | 0/44 [00:00<?, ?it/s]"
     ]
    },
    {
     "name": "stdout",
     "output_type": "stream",
     "text": [
      "Decaying lr from 0.000125 to 6.25e-05 because val_loss did not improved for 3 epochs\n",
      "val_loss is not improved for 9 epochs\n",
      "                  validation\n",
      " - Yaw          :   9.156955\n",
      " - Pitch        :   6.440069\n",
      " - Roll         :   2.294255\n",
      " - RMS          :   7.477559\n",
      " - 99% Tile     :  24.365310\n"
     ]
    },
    {
     "name": "stderr",
     "output_type": "stream",
     "text": [
      "[0040/0200] Train: 100%|██████████████████████████████| 44/44 [00:05<00:00,  8.09it/s, loss 99.9880]\n",
      "[0040/0200] Validation: 100%|████████████████████| 42/42 [00:02<00:00, 18.76it/s, val_loss 107.6449]"
     ]
    },
    {
     "name": "stdout",
     "output_type": "stream",
     "text": [
      "val_loss is not improved for 10 epochs\n",
      "Stop training because val_loss did not improved for 10 epochs\n",
      "                  validation\n",
      " - Yaw          :   9.111243\n",
      " - Pitch        :   6.473770\n",
      " - Roll         :   2.257795\n",
      " - RMS          :   7.455228\n",
      " - 99% Tile     :  24.046020\n"
     ]
    },
    {
     "name": "stderr",
     "output_type": "stream",
     "text": [
      "\n"
     ]
    }
   ],
   "source": [
    "trainer.fit(ds_train, ds_test, num_epochs=200, batch_size=256, shuffle=True, pin_memory=True)"
   ]
  },
  {
   "cell_type": "code",
   "execution_count": null,
   "metadata": {},
   "outputs": [],
   "source": []
  }
 ],
 "metadata": {
  "kernelspec": {
   "display_name": "torch",
   "language": "python",
   "name": "torch"
  },
  "language_info": {
   "codemirror_mode": {
    "name": "ipython",
    "version": 3
   },
   "file_extension": ".py",
   "mimetype": "text/x-python",
   "name": "python",
   "nbconvert_exporter": "python",
   "pygments_lexer": "ipython3",
   "version": "3.7.9"
  }
 },
 "nbformat": 4,
 "nbformat_minor": 4
}
