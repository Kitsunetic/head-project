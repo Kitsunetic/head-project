{
 "cells": [
  {
   "cell_type": "code",
   "execution_count": 1,
   "metadata": {},
   "outputs": [],
   "source": [
    "import argparse\n",
    "import sys\n",
    "from multiprocessing import cpu_count\n",
    "from pathlib import Path\n",
    "\n",
    "import numpy as np\n",
    "import matplotlib.pyplot as plt\n",
    "import torch\n",
    "import torch.nn as nn\n",
    "\n",
    "import datasets\n",
    "import models\n",
    "import torch_burn as tb\n",
    "import utils"
   ]
  },
  {
   "cell_type": "code",
   "execution_count": 2,
   "metadata": {},
   "outputs": [],
   "source": [
    "CHECKPOINT_DIR = Path('checkpoint/BaselineMLP')\n",
    "CHECKPOINT_DIR.mkdir(parents=True, exist_ok=True)\n",
    "\n",
    "tb.seed_everything(0)\n",
    "\n",
    "DATA_FILEPATH = '/data/hp/pth_nostd/C2-T18-win48-hop1.pth'"
   ]
  },
  {
   "cell_type": "code",
   "execution_count": 3,
   "metadata": {},
   "outputs": [],
   "source": [
    "train_ds, valid_ds, datainfo = datasets.make_dataset(DATA_FILEPATH)"
   ]
  },
  {
   "cell_type": "code",
   "execution_count": 4,
   "metadata": {},
   "outputs": [
    {
     "data": {
      "text/plain": [
       "(177937, 176476)"
      ]
     },
     "execution_count": 4,
     "metadata": {},
     "output_type": "execute_result"
    }
   ],
   "source": [
    "len(train_ds), len(valid_ds)"
   ]
  },
  {
   "cell_type": "code",
   "execution_count": 8,
   "metadata": {},
   "outputs": [],
   "source": [
    "model = models.BaselineFC3(6*48, 3).cuda()"
   ]
  },
  {
   "cell_type": "code",
   "execution_count": 9,
   "metadata": {},
   "outputs": [],
   "source": [
    "criterion = nn.MSELoss().cuda()"
   ]
  },
  {
   "cell_type": "code",
   "execution_count": 10,
   "metadata": {},
   "outputs": [],
   "source": [
    "optimizer = torch.optim.Adam(model.parameters())"
   ]
  },
  {
   "cell_type": "code",
   "execution_count": 11,
   "metadata": {},
   "outputs": [],
   "source": [
    "metrics = [tb.metrics.ModuleMetric(criterion, 'loss'),\n",
    "           utils.HPMetric('hp_metric'),\n",
    "           utils.HPSignalHistory(CHECKPOINT_DIR / 'sample' / '{epoch:04d}.npy', 'hp_signal')]"
   ]
  },
  {
   "cell_type": "code",
   "execution_count": 12,
   "metadata": {},
   "outputs": [],
   "source": [
    "callbacks = [tb.callbacks.EarlyStopping(metrics[0])]"
   ]
  },
  {
   "cell_type": "code",
   "execution_count": 13,
   "metadata": {},
   "outputs": [],
   "source": [
    "trainer = tb.Trainer(model, optimizer, metrics, callbacks, ncols=100)"
   ]
  },
  {
   "cell_type": "code",
   "execution_count": 14,
   "metadata": {},
   "outputs": [
    {
     "name": "stderr",
     "output_type": "stream",
     "text": [
      "[0001/0040] Train: 100%|████████████████████████████| 696/696 [00:02<00:00, 253.29it/s, loss 0.0147]\n",
      "[0001/0040] Validation: 100%|███████████████████| 690/690 [00:01<00:00, 602.89it/s, val_loss 0.0054]\n",
      "[0002/0040] Train:   0%|                                                    | 0/696 [00:00<?, ?it/s]"
     ]
    },
    {
     "name": "stdout",
     "output_type": "stream",
     "text": [
      "                  validation\n",
      " - Yaw          :   4.793352\n",
      " - Pitch        :   2.048217\n",
      " - Roll         :   1.332587\n",
      " - RMS          :   3.106295\n",
      " - 99% Tile     :  15.317942\n",
      "Save output signals into checkpoint/BaselineMLP/sample/0001.npy\n"
     ]
    },
    {
     "name": "stderr",
     "output_type": "stream",
     "text": [
      "[0002/0040] Train: 100%|████████████████████████████| 696/696 [00:02<00:00, 305.93it/s, loss 0.0052]\n",
      "[0002/0040] Validation: 100%|███████████████████| 690/690 [00:01<00:00, 680.28it/s, val_loss 0.0062]\n",
      "[0003/0040] Train:   0%|                                                    | 0/696 [00:00<?, ?it/s]"
     ]
    },
    {
     "name": "stdout",
     "output_type": "stream",
     "text": [
      "val_loss is not improved for 1 epochs\n",
      "                  validation\n",
      " - Yaw          :   5.512821\n",
      " - Pitch        :   1.683215\n",
      " - Roll         :   1.428494\n",
      " - RMS          :   3.428557\n",
      " - 99% Tile     :  15.853752\n",
      "Save output signals into checkpoint/BaselineMLP/sample/0002.npy\n"
     ]
    },
    {
     "name": "stderr",
     "output_type": "stream",
     "text": [
      "[0003/0040] Train: 100%|████████████████████████████| 696/696 [00:02<00:00, 309.03it/s, loss 0.0047]\n",
      "[0003/0040] Validation: 100%|███████████████████| 690/690 [00:01<00:00, 625.41it/s, val_loss 0.0048]\n"
     ]
    },
    {
     "name": "stdout",
     "output_type": "stream",
     "text": [
      "                  validation\n",
      " - Yaw          :   3.266473\n",
      " - Pitch        :   3.410199\n",
      " - Roll         :   1.181950\n",
      " - RMS          :   2.810475\n",
      " - 99% Tile     :  13.777200\n",
      "Save output signals into checkpoint/BaselineMLP/sample/0003.npy\n"
     ]
    },
    {
     "name": "stderr",
     "output_type": "stream",
     "text": [
      "[0004/0040] Train: 100%|████████████████████████████| 696/696 [00:02<00:00, 304.83it/s, loss 0.0044]\n",
      "[0004/0040] Validation: 100%|███████████████████| 690/690 [00:01<00:00, 648.27it/s, val_loss 0.0053]\n",
      "[0005/0040] Train:   0%|                                                    | 0/696 [00:00<?, ?it/s]"
     ]
    },
    {
     "name": "stdout",
     "output_type": "stream",
     "text": [
      "val_loss is not improved for 1 epochs\n",
      "                  validation\n",
      " - Yaw          :   4.724964\n",
      " - Pitch        :   1.786192\n",
      " - Roll         :   1.168365\n",
      " - RMS          :   2.993373\n",
      " - 99% Tile     :  16.119561\n",
      "Save output signals into checkpoint/BaselineMLP/sample/0004.npy\n"
     ]
    },
    {
     "name": "stderr",
     "output_type": "stream",
     "text": [
      "[0005/0040] Train: 100%|████████████████████████████| 696/696 [00:02<00:00, 317.37it/s, loss 0.0043]\n",
      "[0005/0040] Validation: 100%|███████████████████| 690/690 [00:01<00:00, 612.16it/s, val_loss 0.0050]\n",
      "[0006/0040] Train:   0%|                                                    | 0/696 [00:00<?, ?it/s]"
     ]
    },
    {
     "name": "stdout",
     "output_type": "stream",
     "text": [
      "val_loss is not improved for 2 epochs\n",
      "                  validation\n",
      " - Yaw          :   4.458461\n",
      " - Pitch        :   1.903522\n",
      " - Roll         :   1.205288\n",
      " - RMS          :   2.884094\n",
      " - 99% Tile     :  15.080566\n",
      "Save output signals into checkpoint/BaselineMLP/sample/0005.npy\n"
     ]
    },
    {
     "name": "stderr",
     "output_type": "stream",
     "text": [
      "[0006/0040] Train: 100%|████████████████████████████| 696/696 [00:02<00:00, 312.40it/s, loss 0.0041]\n",
      "[0006/0040] Validation: 100%|███████████████████| 690/690 [00:01<00:00, 663.14it/s, val_loss 0.0040]\n",
      "[0007/0040] Train:   0%|                                                    | 0/696 [00:00<?, ?it/s]"
     ]
    },
    {
     "name": "stdout",
     "output_type": "stream",
     "text": [
      "                  validation\n",
      " - Yaw          :   3.415146\n",
      " - Pitch        :   2.056243\n",
      " - Roll         :   1.275206\n",
      " - RMS          :   2.416438\n",
      " - 99% Tile     :  13.582166\n",
      "Save output signals into checkpoint/BaselineMLP/sample/0006.npy\n"
     ]
    },
    {
     "name": "stderr",
     "output_type": "stream",
     "text": [
      "[0007/0040] Train: 100%|████████████████████████████| 696/696 [00:02<00:00, 318.97it/s, loss 0.0041]\n",
      "[0007/0040] Validation: 100%|███████████████████| 690/690 [00:01<00:00, 641.26it/s, val_loss 0.0055]\n",
      "[0008/0040] Train:   0%|                                                    | 0/696 [00:00<?, ?it/s]"
     ]
    },
    {
     "name": "stdout",
     "output_type": "stream",
     "text": [
      "val_loss is not improved for 1 epochs\n",
      "                  validation\n",
      " - Yaw          :   4.096692\n",
      " - Pitch        :   2.974479\n",
      " - Roll         :   1.120051\n",
      " - RMS          :   2.993600\n",
      " - 99% Tile     :  15.699711\n",
      "Save output signals into checkpoint/BaselineMLP/sample/0007.npy\n"
     ]
    },
    {
     "name": "stderr",
     "output_type": "stream",
     "text": [
      "[0008/0040] Train: 100%|████████████████████████████| 696/696 [00:02<00:00, 317.38it/s, loss 0.0040]\n",
      "[0008/0040] Validation: 100%|███████████████████| 690/690 [00:01<00:00, 672.83it/s, val_loss 0.0037]\n",
      "[0009/0040] Train:   0%|                                                    | 0/696 [00:00<?, ?it/s]"
     ]
    },
    {
     "name": "stdout",
     "output_type": "stream",
     "text": [
      "                  validation\n",
      " - Yaw          :   3.333060\n",
      " - Pitch        :   1.859540\n",
      " - Roll         :   0.995491\n",
      " - RMS          :   2.277292\n",
      " - 99% Tile     :  13.709199\n",
      "Save output signals into checkpoint/BaselineMLP/sample/0008.npy\n"
     ]
    },
    {
     "name": "stderr",
     "output_type": "stream",
     "text": [
      "[0009/0040] Train: 100%|████████████████████████████| 696/696 [00:02<00:00, 315.23it/s, loss 0.0040]\n",
      "[0009/0040] Validation: 100%|███████████████████| 690/690 [00:01<00:00, 667.56it/s, val_loss 0.0045]\n",
      "[0010/0040] Train:   0%|                                                    | 0/696 [00:00<?, ?it/s]"
     ]
    },
    {
     "name": "stdout",
     "output_type": "stream",
     "text": [
      "val_loss is not improved for 1 epochs\n",
      "                  validation\n",
      " - Yaw          :   3.758918\n",
      " - Pitch        :   2.320964\n",
      " - Roll         :   1.202160\n",
      " - RMS          :   2.643327\n",
      " - 99% Tile     :  14.177776\n",
      "Save output signals into checkpoint/BaselineMLP/sample/0009.npy\n"
     ]
    },
    {
     "name": "stderr",
     "output_type": "stream",
     "text": [
      "[0010/0040] Train: 100%|████████████████████████████| 696/696 [00:02<00:00, 322.13it/s, loss 0.0039]\n",
      "[0010/0040] Validation: 100%|███████████████████| 690/690 [00:01<00:00, 653.87it/s, val_loss 0.0045]\n",
      "[0011/0040] Train:   0%|                                                    | 0/696 [00:00<?, ?it/s]"
     ]
    },
    {
     "name": "stdout",
     "output_type": "stream",
     "text": [
      "val_loss is not improved for 2 epochs\n",
      "                  validation\n",
      " - Yaw          :   3.599373\n",
      " - Pitch        :   2.278895\n",
      " - Roll         :   1.319173\n",
      " - RMS          :   2.574818\n",
      " - 99% Tile     :  14.482937\n",
      "Save output signals into checkpoint/BaselineMLP/sample/0010.npy\n"
     ]
    },
    {
     "name": "stderr",
     "output_type": "stream",
     "text": [
      "[0011/0040] Train: 100%|████████████████████████████| 696/696 [00:02<00:00, 316.95it/s, loss 0.0039]\n",
      "[0011/0040] Validation: 100%|███████████████████| 690/690 [00:00<00:00, 692.99it/s, val_loss 0.0067]\n",
      "[0012/0040] Train:   0%|                                                    | 0/696 [00:00<?, ?it/s]"
     ]
    },
    {
     "name": "stdout",
     "output_type": "stream",
     "text": [
      "val_loss is not improved for 3 epochs\n",
      "                  validation\n",
      " - Yaw          :   4.715231\n",
      " - Pitch        :   2.846344\n",
      " - Roll         :   1.303787\n",
      " - RMS          :   3.267769\n",
      " - 99% Tile     :  17.314179\n",
      "Save output signals into checkpoint/BaselineMLP/sample/0011.npy\n"
     ]
    },
    {
     "name": "stderr",
     "output_type": "stream",
     "text": [
      "[0012/0040] Train: 100%|████████████████████████████| 696/696 [00:02<00:00, 308.83it/s, loss 0.0039]\n",
      "[0012/0040] Validation: 100%|███████████████████| 690/690 [00:01<00:00, 628.51it/s, val_loss 0.0048]\n",
      "[0013/0040] Train:   0%|                                                    | 0/696 [00:00<?, ?it/s]"
     ]
    },
    {
     "name": "stdout",
     "output_type": "stream",
     "text": [
      "val_loss is not improved for 4 epochs\n",
      "                  validation\n",
      " - Yaw          :   3.991129\n",
      " - Pitch        :   2.344035\n",
      " - Roll         :   1.277865\n",
      " - RMS          :   2.772276\n",
      " - 99% Tile     :  14.579556\n",
      "Save output signals into checkpoint/BaselineMLP/sample/0012.npy\n"
     ]
    },
    {
     "name": "stderr",
     "output_type": "stream",
     "text": [
      "[0013/0040] Train: 100%|████████████████████████████| 696/696 [00:02<00:00, 309.74it/s, loss 0.0039]\n",
      "[0013/0040] Validation: 100%|███████████████████| 690/690 [00:01<00:00, 634.57it/s, val_loss 0.0040]\n",
      "[0014/0040] Train:   0%|                                                    | 0/696 [00:00<?, ?it/s]"
     ]
    },
    {
     "name": "stdout",
     "output_type": "stream",
     "text": [
      "val_loss is not improved for 5 epochs\n",
      "                  validation\n",
      " - Yaw          :   3.552735\n",
      " - Pitch        :   1.871928\n",
      " - Roll         :   1.172289\n",
      " - RMS          :   2.415250\n",
      " - 99% Tile     :  13.831770\n",
      "Save output signals into checkpoint/BaselineMLP/sample/0013.npy\n"
     ]
    },
    {
     "name": "stderr",
     "output_type": "stream",
     "text": [
      "[0014/0040] Train: 100%|████████████████████████████| 696/696 [00:02<00:00, 318.16it/s, loss 0.0039]\n",
      "[0014/0040] Validation: 100%|███████████████████| 690/690 [00:01<00:00, 625.78it/s, val_loss 0.0057]\n",
      "[0015/0040] Train:   0%|                                                    | 0/696 [00:00<?, ?it/s]"
     ]
    },
    {
     "name": "stdout",
     "output_type": "stream",
     "text": [
      "val_loss is not improved for 6 epochs\n",
      "                  validation\n",
      " - Yaw          :   4.689880\n",
      " - Pitch        :   2.638496\n",
      " - Roll         :   1.487989\n",
      " - RMS          :   3.223391\n",
      " - 99% Tile     :  14.546557\n",
      "Save output signals into checkpoint/BaselineMLP/sample/0014.npy\n"
     ]
    },
    {
     "name": "stderr",
     "output_type": "stream",
     "text": [
      "[0015/0040] Train: 100%|████████████████████████████| 696/696 [00:02<00:00, 327.80it/s, loss 0.0038]\n",
      "[0015/0040] Validation: 100%|███████████████████| 690/690 [00:00<00:00, 691.84it/s, val_loss 0.0051]\n",
      "[0016/0040] Train:   0%|                                                    | 0/696 [00:00<?, ?it/s]"
     ]
    },
    {
     "name": "stdout",
     "output_type": "stream",
     "text": [
      "val_loss is not improved for 7 epochs\n",
      "                  validation\n",
      " - Yaw          :   4.299376\n",
      " - Pitch        :   2.053136\n",
      " - Roll         :   1.150496\n",
      " - RMS          :   2.829820\n",
      " - 99% Tile     :  15.367745\n",
      "Save output signals into checkpoint/BaselineMLP/sample/0015.npy\n"
     ]
    },
    {
     "name": "stderr",
     "output_type": "stream",
     "text": [
      "[0016/0040] Train: 100%|████████████████████████████| 696/696 [00:02<00:00, 318.61it/s, loss 0.0038]\n",
      "[0016/0040] Validation: 100%|███████████████████| 690/690 [00:00<00:00, 696.96it/s, val_loss 0.0049]\n",
      "[0017/0040] Train:   0%|                                                    | 0/696 [00:00<?, ?it/s]"
     ]
    },
    {
     "name": "stdout",
     "output_type": "stream",
     "text": [
      "val_loss is not improved for 8 epochs\n",
      "                  validation\n",
      " - Yaw          :   3.876805\n",
      " - Pitch        :   2.116483\n",
      " - Roll         :   1.209545\n",
      " - RMS          :   2.643994\n",
      " - 99% Tile     :  15.236655\n",
      "Save output signals into checkpoint/BaselineMLP/sample/0016.npy\n"
     ]
    },
    {
     "name": "stderr",
     "output_type": "stream",
     "text": [
      "[0017/0040] Train: 100%|████████████████████████████| 696/696 [00:02<00:00, 327.31it/s, loss 0.0038]\n",
      "[0017/0040] Validation: 100%|███████████████████| 690/690 [00:01<00:00, 687.23it/s, val_loss 0.0043]\n",
      "[0018/0040] Train:   0%|                                                    | 0/696 [00:00<?, ?it/s]"
     ]
    },
    {
     "name": "stdout",
     "output_type": "stream",
     "text": [
      "val_loss is not improved for 9 epochs\n",
      "                  validation\n",
      " - Yaw          :   3.234882\n",
      " - Pitch        :   2.387143\n",
      " - Roll         :   1.230295\n",
      " - RMS          :   2.427382\n",
      " - 99% Tile     :  14.230755\n",
      "Save output signals into checkpoint/BaselineMLP/sample/0017.npy\n"
     ]
    },
    {
     "name": "stderr",
     "output_type": "stream",
     "text": [
      "[0018/0040] Train: 100%|████████████████████████████| 696/696 [00:02<00:00, 326.99it/s, loss 0.0037]\n",
      "[0018/0040] Validation: 100%|███████████████████| 690/690 [00:01<00:00, 669.90it/s, val_loss 0.0049]"
     ]
    },
    {
     "name": "stdout",
     "output_type": "stream",
     "text": [
      "val_loss is not improved for 10 epochs\n",
      "Stop training because val_loss did not improved for 10 epochs\n",
      "                  validation\n",
      " - Yaw          :   3.908059\n",
      " - Pitch        :   2.272346\n",
      " - Roll         :   1.104926\n",
      " - RMS          :   2.686841\n",
      " - 99% Tile     :  15.506407\n",
      "Save output signals into checkpoint/BaselineMLP/sample/0018.npy\n"
     ]
    },
    {
     "name": "stderr",
     "output_type": "stream",
     "text": [
      "\n"
     ]
    }
   ],
   "source": [
    "trainer.fit(train_ds, valid_ds, start_epoch=1, num_epochs=40, batch_size=256, pin_memory=True)"
   ]
  },
  {
   "cell_type": "markdown",
   "metadata": {},
   "source": [
    "# 그래프 그리기"
   ]
  },
  {
   "cell_type": "code",
   "execution_count": 3,
   "metadata": {},
   "outputs": [],
   "source": [
    "graph_file = 'checkpoint/BaselineMLP/sample/0008.npy'"
   ]
  },
  {
   "cell_type": "code",
   "execution_count": 4,
   "metadata": {},
   "outputs": [],
   "source": [
    "graph_data = np.load(graph_file)"
   ]
  },
  {
   "cell_type": "code",
   "execution_count": 5,
   "metadata": {},
   "outputs": [],
   "source": [
    "yaw_gt, pitch_gt, roll_gt, yaw, pitch, roll = graph_data"
   ]
  },
  {
   "cell_type": "code",
   "execution_count": 6,
   "metadata": {},
   "outputs": [],
   "source": [
    "title = 'BaselineMLP'\n",
    "GRAPH_FILEPATH = CHECKPOINT_DIR / f'graph-{Path(graph_file).stem}.png'\n",
    "s = 1500\n",
    "t = 2100"
   ]
  },
  {
   "cell_type": "code",
   "execution_count": 7,
   "metadata": {},
   "outputs": [
    {
     "data": {
      "image/png": "[encoded data removed]",
      "text/plain": [
       "<Figure size 1152x216 with 3 Axes>"
      ]
     },
     "metadata": {
      "needs_background": "light"
     },
     "output_type": "display_data"
    }
   ],
   "source": [
    "plt.figure(figsize=(16, 3))\n",
    "\n",
    "plt.subplot(1, 3, 1)\n",
    "plt.plot(yaw_gt[s:t])\n",
    "plt.plot(yaw[s:t])\n",
    "plt.legend(['yaw_gt', 'yaw'])\n",
    "plt.title(title + ' - yaw')\n",
    "plt.ylim(-1, 1)\n",
    "\n",
    "plt.subplot(1, 3, 2)\n",
    "plt.plot(pitch_gt[s:t])\n",
    "plt.plot(pitch[s:t])\n",
    "plt.legend(['pitch_gt', 'pitch'])\n",
    "plt.title(title + ' - pitch')\n",
    "plt.ylim(-1, 1)\n",
    "\n",
    "plt.subplot(1, 3, 3)\n",
    "plt.plot(roll_gt[s:t])\n",
    "plt.plot(roll[s:t])\n",
    "plt.legend(['roll_gt', 'roll'])\n",
    "plt.title(title + ' - roll')\n",
    "plt.ylim(-1, 1)\n",
    "\n",
    "plt.tight_layout()\n",
    "plt.savefig(GRAPH_FILEPATH)\n",
    "plt.show()"
   ]
  },
  {
   "cell_type": "code",
   "execution_count": null,
   "metadata": {},
   "outputs": [],
   "source": []
  }
 ],
 "metadata": {
  "kernelspec": {
   "display_name": "torch",
   "language": "python",
   "name": "torch"
  },
  "language_info": {
   "codemirror_mode": {
    "name": "ipython",
    "version": 3
   },
   "file_extension": ".py",
   "mimetype": "text/x-python",
   "name": "python",
   "nbconvert_exporter": "python",
   "pygments_lexer": "ipython3",
   "version": "3.7.9"
  }
 },
 "nbformat": 4,
 "nbformat_minor": 4
}
