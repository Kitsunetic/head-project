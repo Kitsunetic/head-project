{
 "cells": [
  {
   "cell_type": "markdown",
   "metadata": {},
   "source": [
    "# 학습 방법 - Scene\n",
    "\n",
    "3개의 Scene에 대해서 각각 따로 학습\n",
    "\n",
    "user별로 학습을 하지 않는 이유는 상관관계로 보았을 때 user끼리는 달라도 scene별로는 유사점이 꽤 보였기 때문."
   ]
  },
  {
   "cell_type": "code",
   "execution_count": 1,
   "metadata": {},
   "outputs": [],
   "source": [
    "from multiprocessing import cpu_count\n",
    "from pathlib import Path\n",
    "from typing import List, Union, AnyStr\n",
    "from math import pi\n",
    "import pickle\n",
    "\n",
    "import numpy as np\n",
    "import torch\n",
    "import matplotlib.pyplot as plt\n",
    "import torch.nn as nn\n",
    "from sklearn import model_selection\n",
    "from tqdm import tqdm\n",
    "import torch_optimizer\n",
    "from torch.utils.data import Dataset\n",
    "import pandas as pd\n",
    "import random\n",
    "\n",
    "import torch_burn as tb\n",
    "import utils"
   ]
  },
  {
   "cell_type": "code",
   "execution_count": 2,
   "metadata": {},
   "outputs": [],
   "source": [
    "EXPERIMENT_NAME = 'Scene1-LSTM[SmallWindow]'\n",
    "CHECKPOINT_DIR = Path('checkpoint', EXPERIMENT_NAME)\n",
    "CHECKPOINT_DIR.mkdir(parents=True, exist_ok=True)\n",
    "\n",
    "DATA_DIR = Path('data/1116')\n",
    "TRAIN_FILES = sorted(list(DATA_DIR.glob('*scene1_0.csv')))\n",
    "TEST_FILES = sorted(list(DATA_DIR.glob('*scene1_1.csv')))"
   ]
  },
  {
   "cell_type": "markdown",
   "metadata": {},
   "source": [
    "# 데이터셋 생성\n",
    "\n",
    "scene1에 대해서 모든 user의 데이터를 하나로 합친다."
   ]
  },
  {
   "cell_type": "code",
   "execution_count": 3,
   "metadata": {},
   "outputs": [],
   "source": [
    "WINDOW_SIZE = 120"
   ]
  },
  {
   "cell_type": "code",
   "execution_count": 4,
   "metadata": {},
   "outputs": [],
   "source": [
    "class CSVSequentialDataset(Dataset):\n",
    "    def __init__(self, csvfile,\n",
    "                 window_size=300, randomized_window_size=False,\n",
    "                 stride=30, randomized_stride=False):\n",
    "        super(CSVSequentialDataset, self).__init__()\n",
    "\n",
    "        self.xcols = ['input_orientation_yaw', 'input_orientation_pitch', 'input_orientation_roll',\n",
    "                      'acceleration_x', 'acceleration_y', 'acceleration_z']\n",
    "        self.ycols = ['input_orientation_yaw', 'input_orientation_pitch', 'input_orientation_roll']\n",
    "\n",
    "        self.csv = pd.read_csv(csvfile)\n",
    "        self.window_size = window_size\n",
    "\n",
    "        self.indexes = []\n",
    "        i = 0\n",
    "        while i <= len(self.csv) - window_size * 2:\n",
    "            if randomized_window_size:\n",
    "                self.indexes.append((i, i + random.randint(window_size // 2, window_size)))\n",
    "            else:\n",
    "                self.indexes.append((i, i + window_size))\n",
    "\n",
    "            if randomized_stride:\n",
    "                i += random.randint(1, stride)\n",
    "            else:\n",
    "                i += stride\n",
    "\n",
    "    def __len__(self):\n",
    "        return len(self.indexes)\n",
    "\n",
    "    def __getitem__(self, idx):\n",
    "        s, t = self.indexes[idx]\n",
    "        x = self.csv.iloc[s:t][self.xcols].to_numpy()\n",
    "        y = self.csv.iloc[t + 6][self.ycols].to_numpy()\n",
    "\n",
    "        x = torch.tensor(x, dtype=torch.float32) # 300, 6\n",
    "        y = torch.tensor(y, dtype=torch.float32) # 3\n",
    "        \n",
    "        #x[:, :3] *= pi / 180\n",
    "        x[:, 3:] /= 10\n",
    "\n",
    "        return x, y"
   ]
  },
  {
   "cell_type": "code",
   "execution_count": 5,
   "metadata": {},
   "outputs": [],
   "source": [
    "ds_train = [CSVSequentialDataset(f,  \n",
    "                                 window_size=WINDOW_SIZE, randomized_window_size=False,\n",
    "                                 stride=5, randomized_stride=True) for f in TRAIN_FILES]\n",
    "ds_train = tb.data.ChainDataset(*ds_train)\n",
    "ds_test = [CSVSequentialDataset(f,  \n",
    "                                window_size=WINDOW_SIZE, randomized_window_size=False,\n",
    "                                stride=5, randomized_stride=True) for f in TEST_FILES]\n",
    "ds_test = tb.data.ChainDataset(*ds_test)"
   ]
  },
  {
   "cell_type": "code",
   "execution_count": 6,
   "metadata": {},
   "outputs": [
    {
     "data": {
      "text/plain": [
       "(18408, 19052)"
      ]
     },
     "execution_count": 6,
     "metadata": {},
     "output_type": "execute_result"
    }
   ],
   "source": [
    "len(ds_train), len(ds_test)"
   ]
  },
  {
   "cell_type": "code",
   "execution_count": 7,
   "metadata": {},
   "outputs": [
    {
     "data": {
      "text/plain": [
       "(torch.Size([48, 6]), torch.Size([3]))"
      ]
     },
     "execution_count": 7,
     "metadata": {},
     "output_type": "execute_result"
    }
   ],
   "source": [
    "ds_train[0][0].shape, ds_train[0][1].shape"
   ]
  },
  {
   "cell_type": "code",
   "execution_count": 8,
   "metadata": {},
   "outputs": [],
   "source": [
    "x, y = ds_train[0]"
   ]
  },
  {
   "cell_type": "code",
   "execution_count": 9,
   "metadata": {},
   "outputs": [
    {
     "data": {
      "text/plain": [
       "torch.Size([48, 6])"
      ]
     },
     "execution_count": 9,
     "metadata": {},
     "output_type": "execute_result"
    }
   ],
   "source": [
    "x.shape"
   ]
  },
  {
   "cell_type": "code",
   "execution_count": 10,
   "metadata": {},
   "outputs": [
    {
     "data": {
      "text/plain": [
       "[<matplotlib.lines.Line2D at 0x7f83b332e610>]"
      ]
     },
     "execution_count": 10,
     "metadata": {},
     "output_type": "execute_result"
    },
    {
     "data": {
      "image/png": "[encoded data removed]",
      "text/plain": [
       "<Figure size 432x288 with 1 Axes>"
      ]
     },
     "metadata": {
      "needs_background": "light"
     },
     "output_type": "display_data"
    }
   ],
   "source": [
    "plt.plot(x[:, 2])"
   ]
  },
  {
   "cell_type": "markdown",
   "metadata": {},
   "source": [
    "# 모델 생성\n",
    "\n",
    "StackedLSTM Bidirectional"
   ]
  },
  {
   "cell_type": "code",
   "execution_count": 11,
   "metadata": {},
   "outputs": [],
   "source": [
    "model = utils.BaselineLSTM(input_size=6,\n",
    "                           hidden_size=64,\n",
    "                           num_layers=8,\n",
    "                           dropout=0.2,\n",
    "                           bidirectional=True).cuda()"
   ]
  },
  {
   "cell_type": "code",
   "execution_count": 12,
   "metadata": {},
   "outputs": [],
   "source": [
    "criterion = nn.MSELoss().cuda()\n",
    "optimizer = torch_optimizer.RAdam(model.parameters())"
   ]
  },
  {
   "cell_type": "code",
   "execution_count": 13,
   "metadata": {},
   "outputs": [],
   "source": [
    "metrics = [tb.metrics.ModuleMetric(criterion, 'loss'),\n",
    "           utils.HPMetric('hp_metric'),\n",
    "           utils.HPSignalHistory(CHECKPOINT_DIR / 'sample' / '{epoch:04d}.npy', 'hp_signal')]"
   ]
  },
  {
   "cell_type": "code",
   "execution_count": 14,
   "metadata": {},
   "outputs": [],
   "source": [
    "callbacks = [tb.callbacks.EarlyStopping(metrics[0]),\n",
    "             tb.callbacks.LRDecaying(optimizer, metrics[0])]"
   ]
  },
  {
   "cell_type": "code",
   "execution_count": 15,
   "metadata": {},
   "outputs": [],
   "source": [
    "trainer = tb.Trainer(model, optimizer, metrics, callbacks, ncols=100)"
   ]
  },
  {
   "cell_type": "code",
   "execution_count": 16,
   "metadata": {},
   "outputs": [
    {
     "name": "stderr",
     "output_type": "stream",
     "text": [
      "[0001/0100] Train: 100%|█████████████████████████████| 72/72 [00:03<00:00, 18.95it/s, loss 200.0537]\n",
      "[0001/0100] Validation: 100%|████████████████████| 75/75 [00:02<00:00, 34.27it/s, val_loss 151.6216]\n",
      "[0002/0100] Train:   0%|                                                     | 0/72 [00:00<?, ?it/s]"
     ]
    },
    {
     "name": "stdout",
     "output_type": "stream",
     "text": [
      "                  validation\n",
      " - Yaw          :   9.571507\n",
      " - Pitch        :  12.092992\n",
      " - Roll         :   3.138396\n",
      " - RMS          :   9.086689\n",
      " - 99% Tile     :  44.509875\n",
      "Save output signals into checkpoint/Scene1-LSTM[SmallWindow]/sample/0001.npy\n"
     ]
    },
    {
     "name": "stderr",
     "output_type": "stream",
     "text": [
      "[0002/0100] Train: 100%|█████████████████████████████| 72/72 [00:04<00:00, 17.81it/s, loss 164.8084]\n",
      "[0002/0100] Validation: 100%|████████████████████| 75/75 [00:02<00:00, 32.21it/s, val_loss 117.0170]\n",
      "[0003/0100] Train:   0%|                                                     | 0/72 [00:00<?, ?it/s]"
     ]
    },
    {
     "name": "stdout",
     "output_type": "stream",
     "text": [
      "                  validation\n",
      " - Yaw          :   9.202319\n",
      " - Pitch        :   9.203590\n",
      " - Roll         :   3.104402\n",
      " - RMS          :   7.724983\n",
      " - 99% Tile     :  41.281643\n",
      "Save output signals into checkpoint/Scene1-LSTM[SmallWindow]/sample/0002.npy\n"
     ]
    },
    {
     "name": "stderr",
     "output_type": "stream",
     "text": [
      "[0003/0100] Train: 100%|█████████████████████████████| 72/72 [00:03<00:00, 18.06it/s, loss 139.8186]\n",
      "[0003/0100] Validation: 100%|████████████████████| 75/75 [00:02<00:00, 31.49it/s, val_loss 102.7794]\n",
      "[0004/0100] Train:   0%|                                                     | 0/72 [00:00<?, ?it/s]"
     ]
    },
    {
     "name": "stdout",
     "output_type": "stream",
     "text": [
      "                  validation\n",
      " - Yaw          :   8.983026\n",
      " - Pitch        :   8.183115\n",
      " - Roll         :   3.092324\n",
      " - RMS          :   7.239258\n",
      " - 99% Tile     :  38.752107\n",
      "Save output signals into checkpoint/Scene1-LSTM[SmallWindow]/sample/0003.npy\n"
     ]
    },
    {
     "name": "stderr",
     "output_type": "stream",
     "text": [
      "[0004/0100] Train: 100%|█████████████████████████████| 72/72 [00:03<00:00, 18.22it/s, loss 117.0619]\n",
      "[0004/0100] Validation: 100%|█████████████████████| 75/75 [00:02<00:00, 32.00it/s, val_loss 78.8447]\n",
      "[0005/0100] Train:   0%|                                                     | 0/72 [00:00<?, ?it/s]"
     ]
    },
    {
     "name": "stdout",
     "output_type": "stream",
     "text": [
      "                  validation\n",
      " - Yaw          :   6.546768\n",
      " - Pitch        :   7.264118\n",
      " - Roll         :   2.997633\n",
      " - RMS          :   5.905178\n",
      " - 99% Tile     :  35.049902\n",
      "Save output signals into checkpoint/Scene1-LSTM[SmallWindow]/sample/0004.npy\n"
     ]
    },
    {
     "name": "stderr",
     "output_type": "stream",
     "text": [
      "[0005/0100] Train: 100%|██████████████████████████████| 72/72 [00:03<00:00, 18.15it/s, loss 89.7536]\n",
      "[0005/0100] Validation: 100%|█████████████████████| 75/75 [00:02<00:00, 31.59it/s, val_loss 58.9517]\n",
      "[0006/0100] Train:   0%|                                                     | 0/72 [00:00<?, ?it/s]"
     ]
    },
    {
     "name": "stdout",
     "output_type": "stream",
     "text": [
      "                  validation\n",
      " - Yaw          :   5.070459\n",
      " - Pitch        :   5.664145\n",
      " - Roll         :   2.969563\n",
      " - RMS          :   4.712055\n",
      " - 99% Tile     :  31.923644\n",
      "Save output signals into checkpoint/Scene1-LSTM[SmallWindow]/sample/0005.npy\n"
     ]
    },
    {
     "name": "stderr",
     "output_type": "stream",
     "text": [
      "[0006/0100] Train: 100%|██████████████████████████████| 72/72 [00:04<00:00, 17.94it/s, loss 69.0357]\n",
      "[0006/0100] Validation: 100%|█████████████████████| 75/75 [00:02<00:00, 31.91it/s, val_loss 45.8428]\n",
      "[0007/0100] Train:   0%|                                                     | 0/72 [00:00<?, ?it/s]"
     ]
    },
    {
     "name": "stdout",
     "output_type": "stream",
     "text": [
      "                  validation\n",
      " - Yaw          :   4.117220\n",
      " - Pitch        :   4.206060\n",
      " - Roll         :   2.905795\n",
      " - RMS          :   3.789727\n",
      " - 99% Tile     :  29.470524\n",
      "Save output signals into checkpoint/Scene1-LSTM[SmallWindow]/sample/0006.npy\n"
     ]
    },
    {
     "name": "stderr",
     "output_type": "stream",
     "text": [
      "[0007/0100] Train: 100%|██████████████████████████████| 72/72 [00:03<00:00, 18.04it/s, loss 54.5303]\n",
      "[0007/0100] Validation: 100%|█████████████████████| 75/75 [00:02<00:00, 32.11it/s, val_loss 37.4944]\n",
      "[0008/0100] Train:   0%|                                                     | 0/72 [00:00<?, ?it/s]"
     ]
    },
    {
     "name": "stdout",
     "output_type": "stream",
     "text": [
      "                  validation\n",
      " - Yaw          :   3.620724\n",
      " - Pitch        :   3.549019\n",
      " - Roll         :   2.824701\n",
      " - RMS          :   3.350827\n",
      " - 99% Tile     :  26.959865\n",
      "Save output signals into checkpoint/Scene1-LSTM[SmallWindow]/sample/0007.npy\n"
     ]
    },
    {
     "name": "stderr",
     "output_type": "stream",
     "text": [
      "[0008/0100] Train: 100%|██████████████████████████████| 72/72 [00:03<00:00, 18.43it/s, loss 44.0146]\n",
      "[0008/0100] Validation: 100%|█████████████████████| 75/75 [00:02<00:00, 31.54it/s, val_loss 31.7562]\n",
      "[0009/0100] Train:   0%|                                                     | 0/72 [00:00<?, ?it/s]"
     ]
    },
    {
     "name": "stdout",
     "output_type": "stream",
     "text": [
      "                  validation\n",
      " - Yaw          :   2.996929\n",
      " - Pitch        :   3.165577\n",
      " - Roll         :   2.869638\n",
      " - RMS          :   3.013154\n",
      " - 99% Tile     :  24.765282\n",
      "Save output signals into checkpoint/Scene1-LSTM[SmallWindow]/sample/0008.npy\n"
     ]
    },
    {
     "name": "stderr",
     "output_type": "stream",
     "text": [
      "[0009/0100] Train: 100%|██████████████████████████████| 72/72 [00:03<00:00, 18.26it/s, loss 36.1219]\n",
      "[0009/0100] Validation: 100%|█████████████████████| 75/75 [00:02<00:00, 31.98it/s, val_loss 27.2325]\n",
      "[0010/0100] Train:   0%|                                                     | 0/72 [00:00<?, ?it/s]"
     ]
    },
    {
     "name": "stdout",
     "output_type": "stream",
     "text": [
      "                  validation\n",
      " - Yaw          :   2.582774\n",
      " - Pitch        :   2.810243\n",
      " - Roll         :   2.873699\n",
      " - RMS          :   2.758401\n",
      " - 99% Tile     :  22.590728\n",
      "Save output signals into checkpoint/Scene1-LSTM[SmallWindow]/sample/0009.npy\n"
     ]
    },
    {
     "name": "stderr",
     "output_type": "stream",
     "text": [
      "[0010/0100] Train: 100%|██████████████████████████████| 72/72 [00:03<00:00, 18.54it/s, loss 29.9274]\n",
      "[0010/0100] Validation: 100%|█████████████████████| 75/75 [00:02<00:00, 32.00it/s, val_loss 24.0398]\n",
      "[0011/0100] Train:   0%|                                                     | 0/72 [00:00<?, ?it/s]"
     ]
    },
    {
     "name": "stdout",
     "output_type": "stream",
     "text": [
      "                  validation\n",
      " - Yaw          :   2.384171\n",
      " - Pitch        :   2.562814\n",
      " - Roll         :   2.894242\n",
      " - RMS          :   2.622272\n",
      " - 99% Tile     :  20.769332\n",
      "Save output signals into checkpoint/Scene1-LSTM[SmallWindow]/sample/0010.npy\n"
     ]
    },
    {
     "name": "stderr",
     "output_type": "stream",
     "text": [
      "[0011/0100] Train: 100%|██████████████████████████████| 72/72 [00:03<00:00, 18.36it/s, loss 25.3116]\n",
      "[0011/0100] Validation: 100%|█████████████████████| 75/75 [00:02<00:00, 31.83it/s, val_loss 21.7426]\n",
      "[0012/0100] Train:   0%|                                                     | 0/72 [00:00<?, ?it/s]"
     ]
    },
    {
     "name": "stdout",
     "output_type": "stream",
     "text": [
      "                  validation\n",
      " - Yaw          :   2.218490\n",
      " - Pitch        :   2.337260\n",
      " - Roll         :   2.888963\n",
      " - RMS          :   2.498706\n",
      " - 99% Tile     :  19.553734\n",
      "Save output signals into checkpoint/Scene1-LSTM[SmallWindow]/sample/0011.npy\n"
     ]
    },
    {
     "name": "stderr",
     "output_type": "stream",
     "text": [
      "[0012/0100] Train: 100%|██████████████████████████████| 72/72 [00:04<00:00, 17.89it/s, loss 21.4216]\n",
      "[0012/0100] Validation: 100%|█████████████████████| 75/75 [00:02<00:00, 32.60it/s, val_loss 20.2933]\n",
      "[0013/0100] Train:   0%|                                                     | 0/72 [00:00<?, ?it/s]"
     ]
    },
    {
     "name": "stdout",
     "output_type": "stream",
     "text": [
      "                  validation\n",
      " - Yaw          :   2.201047\n",
      " - Pitch        :   2.284651\n",
      " - Roll         :   2.941607\n",
      " - RMS          :   2.497818\n",
      " - 99% Tile     :  18.654150\n",
      "Save output signals into checkpoint/Scene1-LSTM[SmallWindow]/sample/0012.npy\n"
     ]
    },
    {
     "name": "stderr",
     "output_type": "stream",
     "text": [
      "[0013/0100] Train: 100%|██████████████████████████████| 72/72 [00:03<00:00, 18.74it/s, loss 18.3593]\n",
      "[0013/0100] Validation: 100%|█████████████████████| 75/75 [00:02<00:00, 31.73it/s, val_loss 18.0903]\n",
      "[0014/0100] Train:   0%|                                                     | 0/72 [00:00<?, ?it/s]"
     ]
    },
    {
     "name": "stdout",
     "output_type": "stream",
     "text": [
      "                  validation\n",
      " - Yaw          :   1.885404\n",
      " - Pitch        :   1.829314\n",
      " - Roll         :   2.894241\n",
      " - RMS          :   2.256677\n",
      " - 99% Tile     :  17.907892\n",
      "Save output signals into checkpoint/Scene1-LSTM[SmallWindow]/sample/0013.npy\n"
     ]
    },
    {
     "name": "stderr",
     "output_type": "stream",
     "text": [
      "[0014/0100] Train: 100%|██████████████████████████████| 72/72 [00:03<00:00, 18.62it/s, loss 15.6314]\n",
      "[0014/0100] Validation: 100%|█████████████████████| 75/75 [00:02<00:00, 31.18it/s, val_loss 17.1174]\n",
      "[0015/0100] Train:   0%|                                                     | 0/72 [00:00<?, ?it/s]"
     ]
    },
    {
     "name": "stdout",
     "output_type": "stream",
     "text": [
      "                  validation\n",
      " - Yaw          :   1.823134\n",
      " - Pitch        :   1.774539\n",
      " - Roll         :   2.900360\n",
      " - RMS          :   2.227472\n",
      " - 99% Tile     :  17.544401\n",
      "Save output signals into checkpoint/Scene1-LSTM[SmallWindow]/sample/0014.npy\n"
     ]
    },
    {
     "name": "stderr",
     "output_type": "stream",
     "text": [
      "[0015/0100] Train: 100%|██████████████████████████████| 72/72 [00:04<00:00, 17.77it/s, loss 13.4913]\n",
      "[0015/0100] Validation: 100%|█████████████████████| 75/75 [00:02<00:00, 31.31it/s, val_loss 16.2809]\n",
      "[0016/0100] Train:   0%|                                                     | 0/72 [00:00<?, ?it/s]"
     ]
    },
    {
     "name": "stdout",
     "output_type": "stream",
     "text": [
      "                  validation\n",
      " - Yaw          :   1.905254\n",
      " - Pitch        :   1.754606\n",
      " - Roll         :   2.832789\n",
      " - RMS          :   2.216102\n",
      " - 99% Tile     :  16.737105\n",
      "Save output signals into checkpoint/Scene1-LSTM[SmallWindow]/sample/0015.npy\n"
     ]
    },
    {
     "name": "stderr",
     "output_type": "stream",
     "text": [
      "[0016/0100] Train: 100%|██████████████████████████████| 72/72 [00:03<00:00, 18.03it/s, loss 11.7271]\n",
      "[0016/0100] Validation: 100%|█████████████████████| 75/75 [00:02<00:00, 32.30it/s, val_loss 15.3877]\n",
      "[0017/0100] Train:   0%|                                                     | 0/72 [00:00<?, ?it/s]"
     ]
    },
    {
     "name": "stdout",
     "output_type": "stream",
     "text": [
      "                  validation\n",
      " - Yaw          :   1.687441\n",
      " - Pitch        :   1.575849\n",
      " - Roll         :   2.866152\n",
      " - RMS          :   2.124899\n",
      " - 99% Tile     :  16.694682\n",
      "Save output signals into checkpoint/Scene1-LSTM[SmallWindow]/sample/0016.npy\n"
     ]
    },
    {
     "name": "stderr",
     "output_type": "stream",
     "text": [
      "[0017/0100] Train: 100%|██████████████████████████████| 72/72 [00:03<00:00, 18.18it/s, loss 10.4488]\n",
      "[0017/0100] Validation: 100%|█████████████████████| 75/75 [00:02<00:00, 32.04it/s, val_loss 15.0129]\n",
      "[0018/0100] Train:   0%|                                                     | 0/72 [00:00<?, ?it/s]"
     ]
    },
    {
     "name": "stdout",
     "output_type": "stream",
     "text": [
      "                  validation\n",
      " - Yaw          :   1.931689\n",
      " - Pitch        :   1.572987\n",
      " - Roll         :   2.664629\n",
      " - RMS          :   2.106020\n",
      " - 99% Tile     :  16.437999\n",
      "Save output signals into checkpoint/Scene1-LSTM[SmallWindow]/sample/0017.npy\n"
     ]
    },
    {
     "name": "stderr",
     "output_type": "stream",
     "text": [
      "[0018/0100] Train: 100%|███████████████████████████████| 72/72 [00:03<00:00, 18.21it/s, loss 9.0415]\n",
      "[0018/0100] Validation: 100%|█████████████████████| 75/75 [00:02<00:00, 31.99it/s, val_loss 12.5784]\n",
      "[0019/0100] Train:   0%|                                                     | 0/72 [00:00<?, ?it/s]"
     ]
    },
    {
     "name": "stdout",
     "output_type": "stream",
     "text": [
      "                  validation\n",
      " - Yaw          :   1.508637\n",
      " - Pitch        :   1.607288\n",
      " - Roll         :   2.125131\n",
      " - RMS          :   1.767818\n",
      " - 99% Tile     :  15.364065\n",
      "Save output signals into checkpoint/Scene1-LSTM[SmallWindow]/sample/0018.npy\n"
     ]
    },
    {
     "name": "stderr",
     "output_type": "stream",
     "text": [
      "[0019/0100] Train: 100%|███████████████████████████████| 72/72 [00:03<00:00, 18.22it/s, loss 7.7595]\n",
      "[0019/0100] Validation: 100%|█████████████████████| 75/75 [00:02<00:00, 31.00it/s, val_loss 11.3242]\n",
      "[0020/0100] Train:   0%|                                                     | 0/72 [00:00<?, ?it/s]"
     ]
    },
    {
     "name": "stdout",
     "output_type": "stream",
     "text": [
      "                  validation\n",
      " - Yaw          :   1.395721\n",
      " - Pitch        :   1.467399\n",
      " - Roll         :   1.879445\n",
      " - RMS          :   1.595161\n",
      " - 99% Tile     :  14.955028\n",
      "Save output signals into checkpoint/Scene1-LSTM[SmallWindow]/sample/0019.npy\n"
     ]
    },
    {
     "name": "stderr",
     "output_type": "stream",
     "text": [
      "[0020/0100] Train: 100%|███████████████████████████████| 72/72 [00:03<00:00, 18.37it/s, loss 6.8328]\n",
      "[0020/0100] Validation: 100%|█████████████████████| 75/75 [00:02<00:00, 27.08it/s, val_loss 10.7122]\n",
      "[0021/0100] Train:   0%|                                                     | 0/72 [00:00<?, ?it/s]"
     ]
    },
    {
     "name": "stdout",
     "output_type": "stream",
     "text": [
      "                  validation\n",
      " - Yaw          :   1.833164\n",
      " - Pitch        :   1.366439\n",
      " - Roll         :   1.775783\n",
      " - RMS          :   1.671431\n",
      " - 99% Tile     :  13.974290\n",
      "Save output signals into checkpoint/Scene1-LSTM[SmallWindow]/sample/0020.npy\n"
     ]
    },
    {
     "name": "stderr",
     "output_type": "stream",
     "text": [
      "[0021/0100] Train: 100%|███████████████████████████████| 72/72 [00:06<00:00, 10.92it/s, loss 6.1290]\n",
      "[0021/0100] Validation: 100%|█████████████████████| 75/75 [00:02<00:00, 27.00it/s, val_loss 10.2974]\n",
      "[0022/0100] Train:   0%|                                                     | 0/72 [00:00<?, ?it/s]"
     ]
    },
    {
     "name": "stdout",
     "output_type": "stream",
     "text": [
      "                  validation\n",
      " - Yaw          :   1.973908\n",
      " - Pitch        :   1.339520\n",
      " - Roll         :   1.555115\n",
      " - RMS          :   1.644081\n",
      " - 99% Tile     :  13.249593\n",
      "Save output signals into checkpoint/Scene1-LSTM[SmallWindow]/sample/0021.npy\n"
     ]
    },
    {
     "name": "stderr",
     "output_type": "stream",
     "text": [
      "[0022/0100] Train: 100%|███████████████████████████████| 72/72 [00:06<00:00, 10.93it/s, loss 5.5260]\n",
      "[0022/0100] Validation: 100%|██████████████████████| 75/75 [00:02<00:00, 27.45it/s, val_loss 9.2341]\n",
      "[0023/0100] Train:   0%|                                                     | 0/72 [00:00<?, ?it/s]"
     ]
    },
    {
     "name": "stdout",
     "output_type": "stream",
     "text": [
      "                  validation\n",
      " - Yaw          :   1.469088\n",
      " - Pitch        :   1.320459\n",
      " - Roll         :   1.447588\n",
      " - RMS          :   1.413900\n",
      " - 99% Tile     :  12.843175\n",
      "Save output signals into checkpoint/Scene1-LSTM[SmallWindow]/sample/0022.npy\n"
     ]
    },
    {
     "name": "stderr",
     "output_type": "stream",
     "text": [
      "[0023/0100] Train: 100%|███████████████████████████████| 72/72 [00:06<00:00, 10.90it/s, loss 5.0048]\n",
      "[0023/0100] Validation: 100%|██████████████████████| 75/75 [00:02<00:00, 26.89it/s, val_loss 9.1539]\n",
      "[0024/0100] Train:   0%|                                                     | 0/72 [00:00<?, ?it/s]"
     ]
    },
    {
     "name": "stdout",
     "output_type": "stream",
     "text": [
      "                  validation\n",
      " - Yaw          :   1.619629\n",
      " - Pitch        :   1.279366\n",
      " - Roll         :   1.464162\n",
      " - RMS          :   1.461021\n",
      " - 99% Tile     :  12.382511\n",
      "Save output signals into checkpoint/Scene1-LSTM[SmallWindow]/sample/0023.npy\n"
     ]
    },
    {
     "name": "stderr",
     "output_type": "stream",
     "text": [
      "[0024/0100] Train: 100%|███████████████████████████████| 72/72 [00:06<00:00, 10.97it/s, loss 4.5123]\n",
      "[0024/0100] Validation: 100%|██████████████████████| 75/75 [00:02<00:00, 27.11it/s, val_loss 8.5822]\n",
      "[0025/0100] Train:   0%|                                                     | 0/72 [00:00<?, ?it/s]"
     ]
    },
    {
     "name": "stdout",
     "output_type": "stream",
     "text": [
      "                  validation\n",
      " - Yaw          :   1.701217\n",
      " - Pitch        :   1.181407\n",
      " - Roll         :   1.355247\n",
      " - RMS          :   1.429051\n",
      " - 99% Tile     :  12.201609\n",
      "Save output signals into checkpoint/Scene1-LSTM[SmallWindow]/sample/0024.npy\n"
     ]
    },
    {
     "name": "stderr",
     "output_type": "stream",
     "text": [
      "[0025/0100] Train: 100%|███████████████████████████████| 72/72 [00:06<00:00, 11.13it/s, loss 4.2891]\n",
      "[0025/0100] Validation: 100%|██████████████████████| 75/75 [00:02<00:00, 28.12it/s, val_loss 8.3995]\n",
      "[0026/0100] Train:   0%|                                                     | 0/72 [00:00<?, ?it/s]"
     ]
    },
    {
     "name": "stdout",
     "output_type": "stream",
     "text": [
      "                  validation\n",
      " - Yaw          :   1.456186\n",
      " - Pitch        :   1.500832\n",
      " - Roll         :   1.390859\n",
      " - RMS          :   1.449996\n",
      " - 99% Tile     :  11.988574\n",
      "Save output signals into checkpoint/Scene1-LSTM[SmallWindow]/sample/0025.npy\n"
     ]
    },
    {
     "name": "stderr",
     "output_type": "stream",
     "text": [
      "[0026/0100] Train: 100%|███████████████████████████████| 72/72 [00:06<00:00, 11.01it/s, loss 3.9296]\n",
      "[0026/0100] Validation: 100%|██████████████████████| 75/75 [00:02<00:00, 26.35it/s, val_loss 7.9393]\n",
      "[0027/0100] Train:   0%|                                                     | 0/72 [00:00<?, ?it/s]"
     ]
    },
    {
     "name": "stdout",
     "output_type": "stream",
     "text": [
      "                  validation\n",
      " - Yaw          :   1.479304\n",
      " - Pitch        :   1.138950\n",
      " - Roll         :   1.301848\n",
      " - RMS          :   1.314072\n",
      " - 99% Tile     :  11.664697\n",
      "Save output signals into checkpoint/Scene1-LSTM[SmallWindow]/sample/0026.npy\n"
     ]
    },
    {
     "name": "stderr",
     "output_type": "stream",
     "text": [
      "[0027/0100] Train: 100%|███████████████████████████████| 72/72 [00:06<00:00, 10.99it/s, loss 3.7134]\n",
      "[0027/0100] Validation: 100%|██████████████████████| 75/75 [00:02<00:00, 27.60it/s, val_loss 7.8604]\n",
      "[0028/0100] Train:   0%|                                                     | 0/72 [00:00<?, ?it/s]"
     ]
    },
    {
     "name": "stdout",
     "output_type": "stream",
     "text": [
      "                  validation\n",
      " - Yaw          :   1.362194\n",
      " - Pitch        :   1.346412\n",
      " - Roll         :   1.290118\n",
      " - RMS          :   1.333267\n",
      " - 99% Tile     :  11.687657\n",
      "Save output signals into checkpoint/Scene1-LSTM[SmallWindow]/sample/0027.npy\n"
     ]
    },
    {
     "name": "stderr",
     "output_type": "stream",
     "text": [
      "[0028/0100] Train: 100%|███████████████████████████████| 72/72 [00:06<00:00, 11.01it/s, loss 3.4927]\n",
      "[0028/0100] Validation: 100%|██████████████████████| 75/75 [00:02<00:00, 28.22it/s, val_loss 7.4496]\n",
      "[0029/0100] Train:   0%|                                                     | 0/72 [00:00<?, ?it/s]"
     ]
    },
    {
     "name": "stdout",
     "output_type": "stream",
     "text": [
      "                  validation\n",
      " - Yaw          :   1.358869\n",
      " - Pitch        :   1.126315\n",
      " - Roll         :   1.317456\n",
      " - RMS          :   1.271587\n",
      " - 99% Tile     :  11.353785\n",
      "Save output signals into checkpoint/Scene1-LSTM[SmallWindow]/sample/0028.npy\n"
     ]
    },
    {
     "name": "stderr",
     "output_type": "stream",
     "text": [
      "[0029/0100] Train: 100%|███████████████████████████████| 72/72 [00:06<00:00, 10.97it/s, loss 3.2444]\n",
      "[0029/0100] Validation: 100%|██████████████████████| 75/75 [00:02<00:00, 27.19it/s, val_loss 7.1983]\n",
      "[0030/0100] Train:   0%|                                                     | 0/72 [00:00<?, ?it/s]"
     ]
    },
    {
     "name": "stdout",
     "output_type": "stream",
     "text": [
      "                  validation\n",
      " - Yaw          :   1.391900\n",
      " - Pitch        :   1.198713\n",
      " - Roll         :   1.287723\n",
      " - RMS          :   1.295187\n",
      " - 99% Tile     :  11.244501\n",
      "Save output signals into checkpoint/Scene1-LSTM[SmallWindow]/sample/0029.npy\n"
     ]
    },
    {
     "name": "stderr",
     "output_type": "stream",
     "text": [
      "[0030/0100] Train: 100%|███████████████████████████████| 72/72 [00:06<00:00, 11.09it/s, loss 3.1015]\n",
      "[0030/0100] Validation: 100%|██████████████████████| 75/75 [00:02<00:00, 27.87it/s, val_loss 7.0174]\n",
      "[0031/0100] Train:   0%|                                                     | 0/72 [00:00<?, ?it/s]"
     ]
    },
    {
     "name": "stdout",
     "output_type": "stream",
     "text": [
      "                  validation\n",
      " - Yaw          :   1.533595\n",
      " - Pitch        :   1.129420\n",
      " - Roll         :   1.186980\n",
      " - RMS          :   1.295688\n",
      " - 99% Tile     :  11.054941\n",
      "Save output signals into checkpoint/Scene1-LSTM[SmallWindow]/sample/0030.npy\n"
     ]
    },
    {
     "name": "stderr",
     "output_type": "stream",
     "text": [
      "[0031/0100] Train: 100%|███████████████████████████████| 72/72 [00:06<00:00, 10.88it/s, loss 2.9504]\n",
      "[0031/0100] Validation: 100%|██████████████████████| 75/75 [00:02<00:00, 26.78it/s, val_loss 6.9301]\n",
      "[0032/0100] Train:   0%|                                                     | 0/72 [00:00<?, ?it/s]"
     ]
    },
    {
     "name": "stdout",
     "output_type": "stream",
     "text": [
      "                  validation\n",
      " - Yaw          :   1.328309\n",
      " - Pitch        :   1.073693\n",
      " - Roll         :   1.144163\n",
      " - RMS          :   1.186919\n",
      " - 99% Tile     :  10.943967\n",
      "Save output signals into checkpoint/Scene1-LSTM[SmallWindow]/sample/0031.npy\n"
     ]
    },
    {
     "name": "stderr",
     "output_type": "stream",
     "text": [
      "[0032/0100] Train: 100%|███████████████████████████████| 72/72 [00:06<00:00, 10.82it/s, loss 2.7401]\n",
      "[0032/0100] Validation: 100%|██████████████████████| 75/75 [00:02<00:00, 27.31it/s, val_loss 6.7986]\n",
      "[0033/0100] Train:   0%|                                                     | 0/72 [00:00<?, ?it/s]"
     ]
    },
    {
     "name": "stdout",
     "output_type": "stream",
     "text": [
      "                  validation\n",
      " - Yaw          :   1.225228\n",
      " - Pitch        :   1.027206\n",
      " - Roll         :   1.188079\n",
      " - RMS          :   1.150053\n",
      " - 99% Tile     :  11.008512\n",
      "Save output signals into checkpoint/Scene1-LSTM[SmallWindow]/sample/0032.npy\n"
     ]
    },
    {
     "name": "stderr",
     "output_type": "stream",
     "text": [
      "[0033/0100] Train: 100%|███████████████████████████████| 72/72 [00:06<00:00, 11.13it/s, loss 2.7510]\n",
      "[0033/0100] Validation: 100%|██████████████████████| 75/75 [00:03<00:00, 23.90it/s, val_loss 6.5290]\n",
      "[0034/0100] Train:   0%|                                                     | 0/72 [00:00<?, ?it/s]"
     ]
    },
    {
     "name": "stdout",
     "output_type": "stream",
     "text": [
      "                  validation\n",
      " - Yaw          :   1.238002\n",
      " - Pitch        :   1.181033\n",
      " - Roll         :   1.159286\n",
      " - RMS          :   1.193235\n",
      " - 99% Tile     :  10.689828\n",
      "Save output signals into checkpoint/Scene1-LSTM[SmallWindow]/sample/0033.npy\n"
     ]
    },
    {
     "name": "stderr",
     "output_type": "stream",
     "text": [
      "[0034/0100] Train: 100%|███████████████████████████████| 72/72 [00:05<00:00, 12.23it/s, loss 2.5372]\n",
      "[0034/0100] Validation: 100%|██████████████████████| 75/75 [00:02<00:00, 27.14it/s, val_loss 7.4540]\n",
      "[0035/0100] Train:   0%|                                                     | 0/72 [00:00<?, ?it/s]"
     ]
    },
    {
     "name": "stdout",
     "output_type": "stream",
     "text": [
      "val_loss is not improved for 1 epochs\n",
      "                  validation\n",
      " - Yaw          :   1.401861\n",
      " - Pitch        :   1.129628\n",
      " - Roll         :   1.119911\n",
      " - RMS          :   1.224129\n",
      " - 99% Tile     :  11.165487\n",
      "Save output signals into checkpoint/Scene1-LSTM[SmallWindow]/sample/0034.npy\n"
     ]
    },
    {
     "name": "stderr",
     "output_type": "stream",
     "text": [
      "[0035/0100] Train: 100%|███████████████████████████████| 72/72 [00:06<00:00, 11.03it/s, loss 2.4351]\n",
      "[0035/0100] Validation: 100%|██████████████████████| 75/75 [00:02<00:00, 27.53it/s, val_loss 6.4965]\n",
      "[0036/0100] Train:   0%|                                                     | 0/72 [00:00<?, ?it/s]"
     ]
    },
    {
     "name": "stdout",
     "output_type": "stream",
     "text": [
      "                  validation\n",
      " - Yaw          :   1.366588\n",
      " - Pitch        :   1.173364\n",
      " - Roll         :   1.054396\n",
      " - RMS          :   1.205003\n",
      " - 99% Tile     :  10.780476\n",
      "Save output signals into checkpoint/Scene1-LSTM[SmallWindow]/sample/0035.npy\n"
     ]
    },
    {
     "name": "stderr",
     "output_type": "stream",
     "text": [
      "[0036/0100] Train: 100%|███████████████████████████████| 72/72 [00:05<00:00, 12.98it/s, loss 2.3648]\n",
      "[0036/0100] Validation: 100%|██████████████████████| 75/75 [00:02<00:00, 27.25it/s, val_loss 6.2821]\n",
      "[0037/0100] Train:   0%|                                                     | 0/72 [00:00<?, ?it/s]"
     ]
    },
    {
     "name": "stdout",
     "output_type": "stream",
     "text": [
      "                  validation\n",
      " - Yaw          :   1.205029\n",
      " - Pitch        :   1.088046\n",
      " - Roll         :   1.234678\n",
      " - RMS          :   1.177620\n",
      " - 99% Tile     :  10.736970\n",
      "Save output signals into checkpoint/Scene1-LSTM[SmallWindow]/sample/0036.npy\n"
     ]
    },
    {
     "name": "stderr",
     "output_type": "stream",
     "text": [
      "[0037/0100] Train: 100%|███████████████████████████████| 72/72 [00:06<00:00, 11.08it/s, loss 2.2677]\n",
      "[0037/0100] Validation: 100%|██████████████████████| 75/75 [00:02<00:00, 27.32it/s, val_loss 6.2444]\n",
      "[0038/0100] Train:   0%|                                                     | 0/72 [00:00<?, ?it/s]"
     ]
    },
    {
     "name": "stdout",
     "output_type": "stream",
     "text": [
      "                  validation\n",
      " - Yaw          :   1.262581\n",
      " - Pitch        :   1.062882\n",
      " - Roll         :   1.060122\n",
      " - RMS          :   1.132503\n",
      " - 99% Tile     :  10.641843\n",
      "Save output signals into checkpoint/Scene1-LSTM[SmallWindow]/sample/0037.npy\n"
     ]
    },
    {
     "name": "stderr",
     "output_type": "stream",
     "text": [
      "[0038/0100] Train: 100%|███████████████████████████████| 72/72 [00:06<00:00, 10.95it/s, loss 2.0671]\n",
      "[0038/0100] Validation: 100%|██████████████████████| 75/75 [00:02<00:00, 27.99it/s, val_loss 6.4211]\n",
      "[0039/0100] Train:   0%|                                                     | 0/72 [00:00<?, ?it/s]"
     ]
    },
    {
     "name": "stdout",
     "output_type": "stream",
     "text": [
      "val_loss is not improved for 1 epochs\n",
      "                  validation\n",
      " - Yaw          :   1.421234\n",
      " - Pitch        :   1.173129\n",
      " - Roll         :   1.130835\n",
      " - RMS          :   1.248322\n",
      " - 99% Tile     :  10.692745\n",
      "Save output signals into checkpoint/Scene1-LSTM[SmallWindow]/sample/0038.npy\n"
     ]
    },
    {
     "name": "stderr",
     "output_type": "stream",
     "text": [
      "[0039/0100] Train: 100%|███████████████████████████████| 72/72 [00:06<00:00, 11.08it/s, loss 2.0112]\n",
      "[0039/0100] Validation: 100%|██████████████████████| 75/75 [00:02<00:00, 26.78it/s, val_loss 6.1512]\n",
      "[0040/0100] Train:   0%|                                                     | 0/72 [00:00<?, ?it/s]"
     ]
    },
    {
     "name": "stdout",
     "output_type": "stream",
     "text": [
      "                  validation\n",
      " - Yaw          :   1.283871\n",
      " - Pitch        :   1.213818\n",
      " - Roll         :   1.016713\n",
      " - RMS          :   1.176915\n",
      " - 99% Tile     :  10.799874\n",
      "Save output signals into checkpoint/Scene1-LSTM[SmallWindow]/sample/0039.npy\n"
     ]
    },
    {
     "name": "stderr",
     "output_type": "stream",
     "text": [
      "[0040/0100] Train: 100%|███████████████████████████████| 72/72 [00:06<00:00, 11.12it/s, loss 1.9686]\n",
      "[0040/0100] Validation: 100%|██████████████████████| 75/75 [00:02<00:00, 27.11it/s, val_loss 6.1622]\n",
      "[0041/0100] Train:   0%|                                                     | 0/72 [00:00<?, ?it/s]"
     ]
    },
    {
     "name": "stdout",
     "output_type": "stream",
     "text": [
      "val_loss is not improved for 1 epochs\n",
      "                  validation\n",
      " - Yaw          :   1.210492\n",
      " - Pitch        :   1.053604\n",
      " - Roll         :   1.032627\n",
      " - RMS          :   1.101770\n",
      " - 99% Tile     :  10.518891\n",
      "Save output signals into checkpoint/Scene1-LSTM[SmallWindow]/sample/0040.npy\n"
     ]
    },
    {
     "name": "stderr",
     "output_type": "stream",
     "text": [
      "[0041/0100] Train: 100%|███████████████████████████████| 72/72 [00:06<00:00, 11.06it/s, loss 1.8632]\n",
      "[0041/0100] Validation: 100%|██████████████████████| 75/75 [00:02<00:00, 27.07it/s, val_loss 6.1056]\n",
      "[0042/0100] Train:   0%|                                                     | 0/72 [00:00<?, ?it/s]"
     ]
    },
    {
     "name": "stdout",
     "output_type": "stream",
     "text": [
      "                  validation\n",
      " - Yaw          :   1.135058\n",
      " - Pitch        :   0.993964\n",
      " - Roll         :   1.018953\n",
      " - RMS          :   1.051124\n",
      " - 99% Tile     :  10.569778\n",
      "Save output signals into checkpoint/Scene1-LSTM[SmallWindow]/sample/0041.npy\n"
     ]
    },
    {
     "name": "stderr",
     "output_type": "stream",
     "text": [
      "[0042/0100] Train: 100%|███████████████████████████████| 72/72 [00:06<00:00, 10.93it/s, loss 1.8072]\n",
      "[0042/0100] Validation: 100%|██████████████████████| 75/75 [00:02<00:00, 27.37it/s, val_loss 6.4835]\n",
      "[0043/0100] Train:   0%|                                                     | 0/72 [00:00<?, ?it/s]"
     ]
    },
    {
     "name": "stdout",
     "output_type": "stream",
     "text": [
      "val_loss is not improved for 1 epochs\n",
      "                  validation\n",
      " - Yaw          :   1.407872\n",
      " - Pitch        :   1.030830\n",
      " - Roll         :   1.019766\n",
      " - RMS          :   1.166853\n",
      " - 99% Tile     :  11.970945\n",
      "Save output signals into checkpoint/Scene1-LSTM[SmallWindow]/sample/0042.npy\n"
     ]
    },
    {
     "name": "stderr",
     "output_type": "stream",
     "text": [
      "[0043/0100] Train: 100%|███████████████████████████████| 72/72 [00:06<00:00, 10.86it/s, loss 1.7931]\n",
      "[0043/0100] Validation: 100%|██████████████████████| 75/75 [00:02<00:00, 27.53it/s, val_loss 6.2019]\n",
      "[0044/0100] Train:   0%|                                                     | 0/72 [00:00<?, ?it/s]"
     ]
    },
    {
     "name": "stdout",
     "output_type": "stream",
     "text": [
      "val_loss is not improved for 2 epochs\n",
      "                  validation\n",
      " - Yaw          :   1.282971\n",
      " - Pitch        :   1.029117\n",
      " - Roll         :   0.989209\n",
      " - RMS          :   1.108096\n",
      " - 99% Tile     :  11.645307\n",
      "Save output signals into checkpoint/Scene1-LSTM[SmallWindow]/sample/0043.npy\n"
     ]
    },
    {
     "name": "stderr",
     "output_type": "stream",
     "text": [
      "[0044/0100] Train: 100%|███████████████████████████████| 72/72 [00:06<00:00, 10.97it/s, loss 1.6625]\n",
      "[0044/0100] Validation: 100%|██████████████████████| 75/75 [00:02<00:00, 27.32it/s, val_loss 5.9720]\n",
      "[0045/0100] Train:   0%|                                                     | 0/72 [00:00<?, ?it/s]"
     ]
    },
    {
     "name": "stdout",
     "output_type": "stream",
     "text": [
      "                  validation\n",
      " - Yaw          :   1.306309\n",
      " - Pitch        :   1.023401\n",
      " - Roll         :   0.988988\n",
      " - RMS          :   1.115331\n",
      " - 99% Tile     :  10.981403\n",
      "Save output signals into checkpoint/Scene1-LSTM[SmallWindow]/sample/0044.npy\n"
     ]
    },
    {
     "name": "stderr",
     "output_type": "stream",
     "text": [
      "[0045/0100] Train: 100%|███████████████████████████████| 72/72 [00:06<00:00, 10.87it/s, loss 1.8601]\n",
      "[0045/0100] Validation: 100%|██████████████████████| 75/75 [00:03<00:00, 24.41it/s, val_loss 6.4907]\n",
      "[0046/0100] Train:   0%|                                                     | 0/72 [00:00<?, ?it/s]"
     ]
    },
    {
     "name": "stdout",
     "output_type": "stream",
     "text": [
      "val_loss is not improved for 1 epochs\n",
      "                  validation\n",
      " - Yaw          :   1.441380\n",
      " - Pitch        :   0.945646\n",
      " - Roll         :   1.011961\n",
      " - RMS          :   1.154107\n",
      " - 99% Tile     :  12.059302\n",
      "Save output signals into checkpoint/Scene1-LSTM[SmallWindow]/sample/0045.npy\n"
     ]
    },
    {
     "name": "stderr",
     "output_type": "stream",
     "text": [
      "[0046/0100] Train: 100%|███████████████████████████████| 72/72 [00:06<00:00, 10.92it/s, loss 1.6353]\n",
      "[0046/0100] Validation: 100%|██████████████████████| 75/75 [00:02<00:00, 26.91it/s, val_loss 6.1171]\n",
      "[0047/0100] Train:   0%|                                                     | 0/72 [00:00<?, ?it/s]"
     ]
    },
    {
     "name": "stdout",
     "output_type": "stream",
     "text": [
      "val_loss is not improved for 2 epochs\n",
      "                  validation\n",
      " - Yaw          :   1.308353\n",
      " - Pitch        :   1.043332\n",
      " - Roll         :   0.953215\n",
      " - RMS          :   1.111898\n",
      " - 99% Tile     :  11.620148\n",
      "Save output signals into checkpoint/Scene1-LSTM[SmallWindow]/sample/0046.npy\n"
     ]
    },
    {
     "name": "stderr",
     "output_type": "stream",
     "text": [
      "[0047/0100] Train: 100%|███████████████████████████████| 72/72 [00:06<00:00, 10.93it/s, loss 1.5080]\n",
      "[0047/0100] Validation: 100%|██████████████████████| 75/75 [00:02<00:00, 27.53it/s, val_loss 6.2738]\n",
      "[0048/0100] Train:   0%|                                                     | 0/72 [00:00<?, ?it/s]"
     ]
    },
    {
     "name": "stdout",
     "output_type": "stream",
     "text": [
      "val_loss is not improved for 3 epochs\n",
      "                  validation\n",
      " - Yaw          :   1.494782\n",
      " - Pitch        :   1.030247\n",
      " - Roll         :   0.983086\n",
      " - RMS          :   1.191951\n",
      " - 99% Tile     :  12.005465\n",
      "Save output signals into checkpoint/Scene1-LSTM[SmallWindow]/sample/0047.npy\n"
     ]
    },
    {
     "name": "stderr",
     "output_type": "stream",
     "text": [
      "[0048/0100] Train: 100%|███████████████████████████████| 72/72 [00:06<00:00, 10.76it/s, loss 1.5511]\n",
      "[0048/0100] Validation: 100%|██████████████████████| 75/75 [00:02<00:00, 26.52it/s, val_loss 6.1473]\n",
      "[0049/0100] Train:   0%|                                                     | 0/72 [00:00<?, ?it/s]"
     ]
    },
    {
     "name": "stdout",
     "output_type": "stream",
     "text": [
      "val_loss is not improved for 4 epochs\n",
      "                  validation\n",
      " - Yaw          :   1.296960\n",
      " - Pitch        :   1.032347\n",
      " - Roll         :   0.927795\n",
      " - RMS          :   1.096760\n",
      " - 99% Tile     :  12.046807\n",
      "Save output signals into checkpoint/Scene1-LSTM[SmallWindow]/sample/0048.npy\n"
     ]
    },
    {
     "name": "stderr",
     "output_type": "stream",
     "text": [
      "[0049/0100] Train: 100%|███████████████████████████████| 72/72 [00:06<00:00, 10.93it/s, loss 1.4401]\n",
      "[0049/0100] Validation: 100%|██████████████████████| 75/75 [00:02<00:00, 29.64it/s, val_loss 6.1375]\n",
      "[0050/0100] Train:   0%|                                                     | 0/72 [00:00<?, ?it/s]"
     ]
    },
    {
     "name": "stdout",
     "output_type": "stream",
     "text": [
      "Decaying lr from 0.001 to 0.0005 because val_loss did not improved for 5 epochs\n",
      "val_loss is not improved for 5 epochs\n",
      "                  validation\n",
      " - Yaw          :   1.274436\n",
      " - Pitch        :   0.977600\n",
      " - Roll         :   0.979955\n",
      " - RMS          :   1.086309\n",
      " - 99% Tile     :  12.217588\n",
      "Save output signals into checkpoint/Scene1-LSTM[SmallWindow]/sample/0049.npy\n"
     ]
    },
    {
     "name": "stderr",
     "output_type": "stream",
     "text": [
      "[0050/0100] Train: 100%|███████████████████████████████| 72/72 [00:06<00:00, 10.95it/s, loss 1.2901]\n",
      "[0050/0100] Validation: 100%|██████████████████████| 75/75 [00:02<00:00, 27.95it/s, val_loss 5.9973]\n",
      "[0051/0100] Train:   0%|                                                     | 0/72 [00:00<?, ?it/s]"
     ]
    },
    {
     "name": "stdout",
     "output_type": "stream",
     "text": [
      "val_loss is not improved for 6 epochs\n",
      "                  validation\n",
      " - Yaw          :   1.211103\n",
      " - Pitch        :   0.959067\n",
      " - Roll         :   0.928916\n",
      " - RMS          :   1.040747\n",
      " - 99% Tile     :  12.143151\n",
      "Save output signals into checkpoint/Scene1-LSTM[SmallWindow]/sample/0050.npy\n"
     ]
    },
    {
     "name": "stderr",
     "output_type": "stream",
     "text": [
      "[0051/0100] Train: 100%|███████████████████████████████| 72/72 [00:06<00:00, 10.82it/s, loss 1.2500]\n",
      "[0051/0100] Validation: 100%|██████████████████████| 75/75 [00:02<00:00, 28.41it/s, val_loss 5.8693]\n",
      "[0052/0100] Train:   0%|                                                     | 0/72 [00:00<?, ?it/s]"
     ]
    },
    {
     "name": "stdout",
     "output_type": "stream",
     "text": [
      "                  validation\n",
      " - Yaw          :   1.133062\n",
      " - Pitch        :   0.937280\n",
      " - Roll         :   0.946951\n",
      " - RMS          :   1.009792\n",
      " - 99% Tile     :  11.590515\n",
      "Save output signals into checkpoint/Scene1-LSTM[SmallWindow]/sample/0051.npy\n"
     ]
    },
    {
     "name": "stderr",
     "output_type": "stream",
     "text": [
      "[0052/0100] Train: 100%|███████████████████████████████| 72/72 [00:06<00:00, 10.83it/s, loss 1.2318]\n",
      "[0052/0100] Validation: 100%|██████████████████████| 75/75 [00:02<00:00, 26.75it/s, val_loss 5.8359]\n",
      "[0053/0100] Train:   0%|                                                     | 0/72 [00:00<?, ?it/s]"
     ]
    },
    {
     "name": "stdout",
     "output_type": "stream",
     "text": [
      "                  validation\n",
      " - Yaw          :   1.238915\n",
      " - Pitch        :   0.965866\n",
      " - Roll         :   0.933330\n",
      " - RMS          :   1.054974\n",
      " - 99% Tile     :  11.890823\n",
      "Save output signals into checkpoint/Scene1-LSTM[SmallWindow]/sample/0052.npy\n"
     ]
    },
    {
     "name": "stderr",
     "output_type": "stream",
     "text": [
      "[0053/0100] Train: 100%|███████████████████████████████| 72/72 [00:06<00:00, 11.05it/s, loss 1.2156]\n",
      "[0053/0100] Validation: 100%|██████████████████████| 75/75 [00:02<00:00, 26.11it/s, val_loss 5.8992]\n",
      "[0054/0100] Train:   0%|                                                     | 0/72 [00:00<?, ?it/s]"
     ]
    },
    {
     "name": "stdout",
     "output_type": "stream",
     "text": [
      "val_loss is not improved for 1 epochs\n",
      "                  validation\n",
      " - Yaw          :   1.168531\n",
      " - Pitch        :   0.933363\n",
      " - Roll         :   0.918609\n",
      " - RMS          :   1.013324\n",
      " - 99% Tile     :  11.885522\n",
      "Save output signals into checkpoint/Scene1-LSTM[SmallWindow]/sample/0053.npy\n"
     ]
    },
    {
     "name": "stderr",
     "output_type": "stream",
     "text": [
      "[0054/0100] Train: 100%|███████████████████████████████| 72/72 [00:06<00:00, 10.81it/s, loss 1.1921]\n",
      "[0054/0100] Validation: 100%|██████████████████████| 75/75 [00:02<00:00, 26.76it/s, val_loss 5.9497]\n",
      "[0055/0100] Train:   0%|                                                     | 0/72 [00:00<?, ?it/s]"
     ]
    },
    {
     "name": "stdout",
     "output_type": "stream",
     "text": [
      "val_loss is not improved for 2 epochs\n",
      "                  validation\n",
      " - Yaw          :   1.185774\n",
      " - Pitch        :   0.954113\n",
      " - Roll         :   0.943263\n",
      " - RMS          :   1.033785\n",
      " - 99% Tile     :  11.806446\n",
      "Save output signals into checkpoint/Scene1-LSTM[SmallWindow]/sample/0054.npy\n"
     ]
    },
    {
     "name": "stderr",
     "output_type": "stream",
     "text": [
      "[0055/0100] Train: 100%|███████████████████████████████| 72/72 [00:05<00:00, 12.41it/s, loss 1.1725]\n",
      "[0055/0100] Validation: 100%|██████████████████████| 75/75 [00:02<00:00, 27.22it/s, val_loss 6.0288]\n",
      "[0056/0100] Train:   0%|                                                     | 0/72 [00:00<?, ?it/s]"
     ]
    },
    {
     "name": "stdout",
     "output_type": "stream",
     "text": [
      "val_loss is not improved for 3 epochs\n",
      "                  validation\n",
      " - Yaw          :   1.296986\n",
      " - Pitch        :   0.939521\n",
      " - Roll         :   0.943768\n",
      " - RMS          :   1.073246\n",
      " - 99% Tile     :  12.268721\n",
      "Save output signals into checkpoint/Scene1-LSTM[SmallWindow]/sample/0055.npy\n"
     ]
    },
    {
     "name": "stderr",
     "output_type": "stream",
     "text": [
      "[0056/0100] Train: 100%|███████████████████████████████| 72/72 [00:06<00:00, 11.02it/s, loss 1.1613]\n",
      "[0056/0100] Validation: 100%|██████████████████████| 75/75 [00:02<00:00, 27.36it/s, val_loss 6.1275]\n",
      "[0057/0100] Train:   0%|                                                     | 0/72 [00:00<?, ?it/s]"
     ]
    },
    {
     "name": "stdout",
     "output_type": "stream",
     "text": [
      "val_loss is not improved for 4 epochs\n",
      "                  validation\n",
      " - Yaw          :   1.281587\n",
      " - Pitch        :   0.988610\n",
      " - Roll         :   0.913310\n",
      " - RMS          :   1.072994\n",
      " - 99% Tile     :  11.979356\n",
      "Save output signals into checkpoint/Scene1-LSTM[SmallWindow]/sample/0056.npy\n"
     ]
    },
    {
     "name": "stderr",
     "output_type": "stream",
     "text": [
      "[0057/0100] Train: 100%|███████████████████████████████| 72/72 [00:06<00:00, 11.04it/s, loss 1.1407]\n",
      "[0057/0100] Validation: 100%|██████████████████████| 75/75 [00:02<00:00, 27.06it/s, val_loss 6.2296]\n",
      "[0058/0100] Train:   0%|                                                     | 0/72 [00:00<?, ?it/s]"
     ]
    },
    {
     "name": "stdout",
     "output_type": "stream",
     "text": [
      "Decaying lr from 0.0005 to 0.00025 because val_loss did not improved for 5 epochs\n",
      "val_loss is not improved for 5 epochs\n",
      "                  validation\n",
      " - Yaw          :   1.250067\n",
      " - Pitch        :   1.086574\n",
      " - Roll         :   0.946030\n",
      " - RMS          :   1.101254\n",
      " - 99% Tile     :  12.073525\n",
      "Save output signals into checkpoint/Scene1-LSTM[SmallWindow]/sample/0057.npy\n"
     ]
    },
    {
     "name": "stderr",
     "output_type": "stream",
     "text": [
      "[0058/0100] Train: 100%|███████████████████████████████| 72/72 [00:06<00:00, 10.89it/s, loss 1.0716]\n",
      "[0058/0100] Validation: 100%|██████████████████████| 75/75 [00:02<00:00, 27.66it/s, val_loss 5.9153]\n",
      "[0059/0100] Train:   0%|                                                     | 0/72 [00:00<?, ?it/s]"
     ]
    },
    {
     "name": "stdout",
     "output_type": "stream",
     "text": [
      "val_loss is not improved for 6 epochs\n",
      "                  validation\n",
      " - Yaw          :   1.231363\n",
      " - Pitch        :   0.928440\n",
      " - Roll         :   0.925355\n",
      " - RMS          :   1.038354\n",
      " - 99% Tile     :  11.708617\n",
      "Save output signals into checkpoint/Scene1-LSTM[SmallWindow]/sample/0058.npy\n"
     ]
    },
    {
     "name": "stderr",
     "output_type": "stream",
     "text": [
      "[0059/0100] Train: 100%|███████████████████████████████| 72/72 [00:06<00:00, 11.03it/s, loss 1.0549]\n",
      "[0059/0100] Validation: 100%|██████████████████████| 75/75 [00:02<00:00, 27.17it/s, val_loss 5.9478]\n",
      "[0060/0100] Train:   0%|                                                     | 0/72 [00:00<?, ?it/s]"
     ]
    },
    {
     "name": "stdout",
     "output_type": "stream",
     "text": [
      "val_loss is not improved for 7 epochs\n",
      "                  validation\n",
      " - Yaw          :   1.167101\n",
      " - Pitch        :   0.965692\n",
      " - Roll         :   0.924524\n",
      " - RMS          :   1.024602\n",
      " - 99% Tile     :  11.835995\n",
      "Save output signals into checkpoint/Scene1-LSTM[SmallWindow]/sample/0059.npy\n"
     ]
    },
    {
     "name": "stderr",
     "output_type": "stream",
     "text": [
      "[0060/0100] Train: 100%|███████████████████████████████| 72/72 [00:06<00:00, 11.09it/s, loss 1.0302]\n",
      "[0060/0100] Validation: 100%|██████████████████████| 75/75 [00:02<00:00, 27.03it/s, val_loss 5.9264]\n",
      "[0061/0100] Train:   0%|                                                     | 0/72 [00:00<?, ?it/s]"
     ]
    },
    {
     "name": "stdout",
     "output_type": "stream",
     "text": [
      "val_loss is not improved for 8 epochs\n",
      "                  validation\n",
      " - Yaw          :   1.173541\n",
      " - Pitch        :   0.939966\n",
      " - Roll         :   0.930896\n",
      " - RMS          :   1.020997\n",
      " - 99% Tile     :  11.786180\n",
      "Save output signals into checkpoint/Scene1-LSTM[SmallWindow]/sample/0060.npy\n"
     ]
    },
    {
     "name": "stderr",
     "output_type": "stream",
     "text": [
      "[0061/0100] Train: 100%|███████████████████████████████| 72/72 [00:06<00:00, 10.98it/s, loss 1.0247]\n",
      "[0061/0100] Validation: 100%|██████████████████████| 75/75 [00:02<00:00, 27.41it/s, val_loss 6.0644]\n",
      "[0062/0100] Train:   0%|                                                     | 0/72 [00:00<?, ?it/s]"
     ]
    },
    {
     "name": "stdout",
     "output_type": "stream",
     "text": [
      "val_loss is not improved for 9 epochs\n",
      "                  validation\n",
      " - Yaw          :   1.209384\n",
      " - Pitch        :   0.921080\n",
      " - Roll         :   0.928963\n",
      " - RMS          :   1.028587\n",
      " - 99% Tile     :  11.981072\n",
      "Save output signals into checkpoint/Scene1-LSTM[SmallWindow]/sample/0061.npy\n"
     ]
    },
    {
     "name": "stderr",
     "output_type": "stream",
     "text": [
      "[0062/0100] Train: 100%|███████████████████████████████| 72/72 [00:06<00:00, 11.01it/s, loss 1.0260]\n",
      "[0062/0100] Validation: 100%|██████████████████████| 75/75 [00:02<00:00, 27.67it/s, val_loss 5.9929]"
     ]
    },
    {
     "name": "stdout",
     "output_type": "stream",
     "text": [
      "Decaying lr from 0.00025 to 0.000125 because val_loss did not improved for 5 epochs\n",
      "val_loss is not improved for 10 epochs\n",
      "Stop training because val_loss did not improved for 10 epochs\n",
      "                  validation\n",
      " - Yaw          :   1.219499\n",
      " - Pitch        :   0.918761\n",
      " - Roll         :   0.920688\n",
      " - RMS          :   1.029396\n",
      " - 99% Tile     :  11.939128\n",
      "Save output signals into checkpoint/Scene1-LSTM[SmallWindow]/sample/0062.npy\n"
     ]
    },
    {
     "name": "stderr",
     "output_type": "stream",
     "text": [
      "\n"
     ]
    }
   ],
   "source": [
    "trainer.fit(ds_train, ds_test, num_epochs=100, batch_size=256, shuffle=True, pin_memory=True)"
   ]
  },
  {
   "cell_type": "code",
   "execution_count": null,
   "metadata": {},
   "outputs": [],
   "source": []
  }
 ],
 "metadata": {
  "kernelspec": {
   "display_name": "torch",
   "language": "python",
   "name": "torch"
  },
  "language_info": {
   "codemirror_mode": {
    "name": "ipython",
    "version": 3
   },
   "file_extension": ".py",
   "mimetype": "text/x-python",
   "name": "python",
   "nbconvert_exporter": "python",
   "pygments_lexer": "ipython3",
   "version": "3.7.9"
  }
 },
 "nbformat": 4,
 "nbformat_minor": 4
}
