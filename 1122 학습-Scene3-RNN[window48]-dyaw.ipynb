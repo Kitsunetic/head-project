{
 "cells": [
  {
   "cell_type": "code",
   "execution_count": 1,
   "metadata": {},
   "outputs": [],
   "source": [
    "from multiprocessing import cpu_count\n",
    "from pathlib import Path\n",
    "from typing import List, Union, AnyStr\n",
    "from math import pi\n",
    "import pickle\n",
    "\n",
    "import numpy as np\n",
    "import torch\n",
    "import matplotlib.pyplot as plt\n",
    "import torch.nn as nn\n",
    "from sklearn import model_selection\n",
    "from tqdm import tqdm\n",
    "import torch_optimizer\n",
    "from torch.utils.data import Dataset\n",
    "import pandas as pd\n",
    "import random\n",
    "\n",
    "import torch_burn as tb\n",
    "import utils"
   ]
  },
  {
   "cell_type": "code",
   "execution_count": 2,
   "metadata": {},
   "outputs": [
    {
     "data": {
      "text/plain": [
       "'0.0.3.13'"
      ]
     },
     "execution_count": 2,
     "metadata": {},
     "output_type": "execute_result"
    }
   ],
   "source": [
    "tb.__version__"
   ]
  },
  {
   "cell_type": "code",
   "execution_count": 3,
   "metadata": {},
   "outputs": [],
   "source": [
    "EXPERIMENT_NAME = '1122-Scene3-LSTM-SmallWindow-UseD'\n",
    "CHECKPOINT_DIR = Path('checkpoint', EXPERIMENT_NAME)\n",
    "CHECKPOINT_DIR.mkdir(parents=True, exist_ok=True)\n",
    "\n",
    "DATA_DIR = Path('data/1116')\n",
    "TRAIN_FILES = sorted(list(DATA_DIR.glob('*scene1_0.csv')))\n",
    "TEST_FILES = sorted(list(DATA_DIR.glob('*scene1_1.csv')))"
   ]
  },
  {
   "cell_type": "markdown",
   "metadata": {},
   "source": [
    "# 데이터셋 생성\n",
    "\n",
    "scene1에 대해서 모든 user의 데이터를 하나로 합친다."
   ]
  },
  {
   "cell_type": "code",
   "execution_count": 4,
   "metadata": {},
   "outputs": [],
   "source": [
    "WINDOW_SIZE = 48"
   ]
  },
  {
   "cell_type": "code",
   "execution_count": 5,
   "metadata": {},
   "outputs": [],
   "source": [
    "class CSVSequentialDataset(Dataset):\n",
    "    def __init__(self, csvfile,\n",
    "                 window_size=300, randomized_window_size=False,\n",
    "                 stride=30, randomized_stride=False):\n",
    "        super(CSVSequentialDataset, self).__init__()\n",
    "\n",
    "        self.xcols = ['input_orientation_yaw', 'input_orientation_pitch', 'input_orientation_roll',\n",
    "                      'acceleration_x', 'acceleration_y', 'acceleration_z',\n",
    "                      'dyaw', 'dpitch', 'droll']\n",
    "        self.ycols = ['input_orientation_yaw', 'input_orientation_pitch', 'input_orientation_roll']\n",
    "\n",
    "        self.csv = pd.read_csv(csvfile)\n",
    "        self.window_size = window_size\n",
    "\n",
    "        self.indexes = []\n",
    "        i = 0\n",
    "        while i <= len(self.csv) - window_size * 2:\n",
    "            if randomized_window_size:\n",
    "                self.indexes.append((i, i + random.randint(window_size // 2, window_size)))\n",
    "            else:\n",
    "                self.indexes.append((i, i + window_size))\n",
    "\n",
    "            if randomized_stride:\n",
    "                i += random.randint(1, stride)\n",
    "            else:\n",
    "                i += stride\n",
    "\n",
    "    def __len__(self):\n",
    "        return len(self.indexes)\n",
    "\n",
    "    def __getitem__(self, idx):\n",
    "        s, t = self.indexes[idx]\n",
    "        x = self.csv.iloc[s:t][self.xcols].to_numpy()\n",
    "        y = self.csv.iloc[t + 6][self.ycols].to_numpy()\n",
    "\n",
    "        x = torch.tensor(x, dtype=torch.float32) # 300, 6\n",
    "        y = torch.tensor(y, dtype=torch.float32) # 3\n",
    "        \n",
    "        #x[:, :3] *= pi / 180\n",
    "        x[:, 3:] /= 10\n",
    "\n",
    "        return x, y"
   ]
  },
  {
   "cell_type": "code",
   "execution_count": 6,
   "metadata": {},
   "outputs": [],
   "source": [
    "ds_train = [CSVSequentialDataset(f,  \n",
    "                                 window_size=WINDOW_SIZE, randomized_window_size=False,\n",
    "                                 stride=5, randomized_stride=True) for f in TRAIN_FILES]\n",
    "ds_train = tb.data.ChainDataset(*ds_train)\n",
    "ds_test = [CSVSequentialDataset(f,  \n",
    "                                window_size=WINDOW_SIZE, randomized_window_size=False,\n",
    "                                stride=5, randomized_stride=True) for f in TEST_FILES]\n",
    "ds_test = tb.data.ChainDataset(*ds_test)"
   ]
  },
  {
   "cell_type": "code",
   "execution_count": 7,
   "metadata": {},
   "outputs": [
    {
     "data": {
      "text/plain": [
       "(18370, 19280)"
      ]
     },
     "execution_count": 7,
     "metadata": {},
     "output_type": "execute_result"
    }
   ],
   "source": [
    "len(ds_train), len(ds_test)"
   ]
  },
  {
   "cell_type": "code",
   "execution_count": 8,
   "metadata": {},
   "outputs": [
    {
     "data": {
      "text/plain": [
       "(torch.Size([48, 9]), torch.Size([3]))"
      ]
     },
     "execution_count": 8,
     "metadata": {},
     "output_type": "execute_result"
    }
   ],
   "source": [
    "ds_train[0][0].shape, ds_train[0][1].shape"
   ]
  },
  {
   "cell_type": "code",
   "execution_count": 9,
   "metadata": {},
   "outputs": [],
   "source": [
    "x, y = ds_train[0]"
   ]
  },
  {
   "cell_type": "code",
   "execution_count": 10,
   "metadata": {},
   "outputs": [
    {
     "data": {
      "text/plain": [
       "torch.Size([48, 9])"
      ]
     },
     "execution_count": 10,
     "metadata": {},
     "output_type": "execute_result"
    }
   ],
   "source": [
    "x.shape"
   ]
  },
  {
   "cell_type": "code",
   "execution_count": 11,
   "metadata": {},
   "outputs": [
    {
     "data": {
      "text/plain": [
       "[<matplotlib.lines.Line2D at 0x7f0ef5464e90>]"
      ]
     },
     "execution_count": 11,
     "metadata": {},
     "output_type": "execute_result"
    },
    {
     "data": {
      "image/png": "[encoded data removed]",
      "text/plain": [
       "<Figure size 432x288 with 1 Axes>"
      ]
     },
     "metadata": {
      "needs_background": "light"
     },
     "output_type": "display_data"
    }
   ],
   "source": [
    "plt.plot(x[:, 2])"
   ]
  },
  {
   "cell_type": "code",
   "execution_count": 12,
   "metadata": {},
   "outputs": [],
   "source": [
    "model = utils.BaselineLSTM(input_size=9,\n",
    "                           hidden_size=64,\n",
    "                           num_layers=8,\n",
    "                           dropout=0.2,\n",
    "                           bidirectional=True).cuda()"
   ]
  },
  {
   "cell_type": "code",
   "execution_count": 13,
   "metadata": {},
   "outputs": [],
   "source": [
    "criterion = nn.MSELoss().cuda()\n",
    "optimizer = torch_optimizer.RAdam(model.parameters())"
   ]
  },
  {
   "cell_type": "code",
   "execution_count": 14,
   "metadata": {},
   "outputs": [],
   "source": [
    "metrics = [tb.metrics.ModuleMetric(criterion, 'loss'),\n",
    "           utils.HPMetric('hp_metric'),\n",
    "           utils.HPSignalHistory(CHECKPOINT_DIR / 'sample' / '{epoch:04d}.npy', 'hp_signal')]"
   ]
  },
  {
   "cell_type": "code",
   "execution_count": 15,
   "metadata": {},
   "outputs": [],
   "source": [
    "callbacks = [tb.callbacks.EarlyStopping(metrics[0]),\n",
    "             tb.callbacks.LRDecaying(optimizer, metrics[0])]"
   ]
  },
  {
   "cell_type": "code",
   "execution_count": 16,
   "metadata": {},
   "outputs": [],
   "source": [
    "trainer = tb.Trainer(model, optimizer, metrics, callbacks, ncols=100)"
   ]
  },
  {
   "cell_type": "code",
   "execution_count": 17,
   "metadata": {},
   "outputs": [
    {
     "name": "stderr",
     "output_type": "stream",
     "text": [
      "[0001/0100] Train: 100%|█████████████████████████████| 72/72 [00:08<00:00,  8.88it/s, loss 198.4216]\n",
      "[0001/0100] Validation: 100%|████████████████████| 76/76 [00:05<00:00, 14.27it/s, val_loss 154.7309]\n",
      "[0002/0100] Train:   0%|                                                     | 0/72 [00:00<?, ?it/s]"
     ]
    },
    {
     "name": "stdout",
     "output_type": "stream",
     "text": [
      "                  validation\n",
      " - Yaw          :   9.382254\n",
      " - Pitch        :  12.488091\n",
      " - Roll         :   3.084324\n",
      " - RMS          :   9.192245\n",
      " - 99% Tile     :  44.353708\n",
      "Save output signals into checkpoint/1122-Scene3-LSTM-SmallWindow-UseD/sample/0001.npy\n"
     ]
    },
    {
     "name": "stderr",
     "output_type": "stream",
     "text": [
      "[0002/0100] Train: 100%|█████████████████████████████| 72/72 [00:09<00:00,  7.46it/s, loss 162.7372]\n",
      "[0002/0100] Validation: 100%|████████████████████| 76/76 [00:05<00:00, 12.72it/s, val_loss 117.1590]\n",
      "[0003/0100] Train:   0%|                                                     | 0/72 [00:00<?, ?it/s]"
     ]
    },
    {
     "name": "stdout",
     "output_type": "stream",
     "text": [
      "                  validation\n",
      " - Yaw          :   9.042988\n",
      " - Pitch        :   9.498103\n",
      " - Roll         :   3.046780\n",
      " - RMS          :   7.773297\n",
      " - 99% Tile     :  40.544454\n",
      "Save output signals into checkpoint/1122-Scene3-LSTM-SmallWindow-UseD/sample/0002.npy\n"
     ]
    },
    {
     "name": "stderr",
     "output_type": "stream",
     "text": [
      "[0003/0100] Train: 100%|█████████████████████████████| 72/72 [00:11<00:00,  6.16it/s, loss 133.7213]\n",
      "[0003/0100] Validation: 100%|█████████████████████| 76/76 [00:05<00:00, 13.76it/s, val_loss 95.3997]\n",
      "[0004/0100] Train:   0%|                                                     | 0/72 [00:00<?, ?it/s]"
     ]
    },
    {
     "name": "stdout",
     "output_type": "stream",
     "text": [
      "                  validation\n",
      " - Yaw          :   7.081442\n",
      " - Pitch        :   8.581997\n",
      " - Roll         :   2.998040\n",
      " - RMS          :   6.652963\n",
      " - 99% Tile     :  37.355325\n",
      "Save output signals into checkpoint/1122-Scene3-LSTM-SmallWindow-UseD/sample/0003.npy\n"
     ]
    },
    {
     "name": "stderr",
     "output_type": "stream",
     "text": [
      "[0004/0100] Train: 100%|█████████████████████████████| 72/72 [00:12<00:00,  5.87it/s, loss 102.7879]\n",
      "[0004/0100] Validation: 100%|█████████████████████| 76/76 [00:06<00:00, 11.77it/s, val_loss 71.3543]\n",
      "[0005/0100] Train:   0%|                                                     | 0/72 [00:00<?, ?it/s]"
     ]
    },
    {
     "name": "stdout",
     "output_type": "stream",
     "text": [
      "                  validation\n",
      " - Yaw          :   5.824534\n",
      " - Pitch        :   6.768157\n",
      " - Roll         :   2.938151\n",
      " - RMS          :   5.427273\n",
      " - 99% Tile     :  33.431928\n",
      "Save output signals into checkpoint/1122-Scene3-LSTM-SmallWindow-UseD/sample/0004.npy\n"
     ]
    },
    {
     "name": "stderr",
     "output_type": "stream",
     "text": [
      "[0005/0100] Train: 100%|██████████████████████████████| 72/72 [00:10<00:00,  6.60it/s, loss 80.5658]\n",
      "[0005/0100] Validation: 100%|█████████████████████| 76/76 [00:06<00:00, 11.56it/s, val_loss 56.1941]\n",
      "[0006/0100] Train:   0%|                                                     | 0/72 [00:00<?, ?it/s]"
     ]
    },
    {
     "name": "stdout",
     "output_type": "stream",
     "text": [
      "                  validation\n",
      " - Yaw          :   4.695200\n",
      " - Pitch        :   5.624100\n",
      " - Roll         :   2.948358\n",
      " - RMS          :   4.559540\n",
      " - 99% Tile     :  30.733633\n",
      "Save output signals into checkpoint/1122-Scene3-LSTM-SmallWindow-UseD/sample/0005.npy\n"
     ]
    },
    {
     "name": "stderr",
     "output_type": "stream",
     "text": [
      "[0006/0100] Train: 100%|██████████████████████████████| 72/72 [00:08<00:00,  8.07it/s, loss 65.4439]\n",
      "[0006/0100] Validation: 100%|█████████████████████| 76/76 [00:05<00:00, 14.60it/s, val_loss 47.1876]\n",
      "[0007/0100] Train:   0%|                                                     | 0/72 [00:00<?, ?it/s]"
     ]
    },
    {
     "name": "stdout",
     "output_type": "stream",
     "text": [
      "                  validation\n",
      " - Yaw          :   4.285729\n",
      " - Pitch        :   4.912340\n",
      " - Roll         :   2.933048\n",
      " - RMS          :   4.127200\n",
      " - 99% Tile     :  28.244016\n",
      "Save output signals into checkpoint/1122-Scene3-LSTM-SmallWindow-UseD/sample/0006.npy\n"
     ]
    },
    {
     "name": "stderr",
     "output_type": "stream",
     "text": [
      "[0007/0100] Train: 100%|██████████████████████████████| 72/72 [00:09<00:00,  7.54it/s, loss 55.4573]\n",
      "[0007/0100] Validation: 100%|█████████████████████| 76/76 [00:04<00:00, 15.75it/s, val_loss 41.8683]\n",
      "[0008/0100] Train:   0%|                                                     | 0/72 [00:00<?, ?it/s]"
     ]
    },
    {
     "name": "stdout",
     "output_type": "stream",
     "text": [
      "                  validation\n",
      " - Yaw          :   3.817462\n",
      " - Pitch        :   4.785285\n",
      " - Roll         :   2.927443\n",
      " - RMS          :   3.917562\n",
      " - 99% Tile     :  26.539356\n",
      "Save output signals into checkpoint/1122-Scene3-LSTM-SmallWindow-UseD/sample/0007.npy\n"
     ]
    },
    {
     "name": "stderr",
     "output_type": "stream",
     "text": [
      "[0008/0100] Train: 100%|██████████████████████████████| 72/72 [00:10<00:00,  6.82it/s, loss 47.1728]\n",
      "[0008/0100] Validation: 100%|█████████████████████| 76/76 [00:04<00:00, 15.30it/s, val_loss 35.7406]\n",
      "[0009/0100] Train:   0%|                                                     | 0/72 [00:00<?, ?it/s]"
     ]
    },
    {
     "name": "stdout",
     "output_type": "stream",
     "text": [
      "                  validation\n",
      " - Yaw          :   3.167413\n",
      " - Pitch        :   4.008740\n",
      " - Roll         :   2.925614\n",
      " - RMS          :   3.399104\n",
      " - 99% Tile     :  24.699087\n",
      "Save output signals into checkpoint/1122-Scene3-LSTM-SmallWindow-UseD/sample/0008.npy\n"
     ]
    },
    {
     "name": "stderr",
     "output_type": "stream",
     "text": [
      "[0009/0100] Train: 100%|██████████████████████████████| 72/72 [00:10<00:00,  7.13it/s, loss 37.9896]\n",
      "[0009/0100] Validation: 100%|█████████████████████| 76/76 [00:05<00:00, 12.88it/s, val_loss 29.7335]\n",
      "[0010/0100] Train:   0%|                                                     | 0/72 [00:00<?, ?it/s]"
     ]
    },
    {
     "name": "stdout",
     "output_type": "stream",
     "text": [
      "                  validation\n",
      " - Yaw          :   2.952300\n",
      " - Pitch        :   3.211538\n",
      " - Roll         :   2.825429\n",
      " - RMS          :   3.000728\n",
      " - 99% Tile     :  22.524317\n",
      "Save output signals into checkpoint/1122-Scene3-LSTM-SmallWindow-UseD/sample/0009.npy\n"
     ]
    },
    {
     "name": "stderr",
     "output_type": "stream",
     "text": [
      "[0010/0100] Train: 100%|██████████████████████████████| 72/72 [00:09<00:00,  7.32it/s, loss 30.7359]\n",
      "[0010/0100] Validation: 100%|█████████████████████| 76/76 [00:05<00:00, 13.05it/s, val_loss 25.5072]\n",
      "[0011/0100] Train:   0%|                                                     | 0/72 [00:00<?, ?it/s]"
     ]
    },
    {
     "name": "stdout",
     "output_type": "stream",
     "text": [
      "                  validation\n",
      " - Yaw          :   2.500466\n",
      " - Pitch        :   2.859895\n",
      " - Roll         :   2.809256\n",
      " - RMS          :   2.727835\n",
      " - 99% Tile     :  20.634400\n",
      "Save output signals into checkpoint/1122-Scene3-LSTM-SmallWindow-UseD/sample/0010.npy\n"
     ]
    },
    {
     "name": "stderr",
     "output_type": "stream",
     "text": [
      "[0011/0100] Train: 100%|██████████████████████████████| 72/72 [00:09<00:00,  7.84it/s, loss 25.7126]\n",
      "[0011/0100] Validation: 100%|█████████████████████| 76/76 [00:05<00:00, 12.82it/s, val_loss 22.7214]\n",
      "[0012/0100] Train:   0%|                                                     | 0/72 [00:00<?, ?it/s]"
     ]
    },
    {
     "name": "stdout",
     "output_type": "stream",
     "text": [
      "                  validation\n",
      " - Yaw          :   2.347017\n",
      " - Pitch        :   2.457490\n",
      " - Roll         :   2.853641\n",
      " - RMS          :   2.561966\n",
      " - 99% Tile     :  19.424200\n",
      "Save output signals into checkpoint/1122-Scene3-LSTM-SmallWindow-UseD/sample/0011.npy\n"
     ]
    },
    {
     "name": "stderr",
     "output_type": "stream",
     "text": [
      "[0012/0100] Train: 100%|██████████████████████████████| 72/72 [00:09<00:00,  7.63it/s, loss 21.6748]\n",
      "[0012/0100] Validation: 100%|█████████████████████| 76/76 [00:05<00:00, 12.76it/s, val_loss 20.8649]\n",
      "[0013/0100] Train:   0%|                                                     | 0/72 [00:00<?, ?it/s]"
     ]
    },
    {
     "name": "stdout",
     "output_type": "stream",
     "text": [
      "                  validation\n",
      " - Yaw          :   2.051618\n",
      " - Pitch        :   2.330172\n",
      " - Roll         :   2.902176\n",
      " - RMS          :   2.453668\n",
      " - 99% Tile     :  18.100969\n",
      "Save output signals into checkpoint/1122-Scene3-LSTM-SmallWindow-UseD/sample/0012.npy\n"
     ]
    },
    {
     "name": "stderr",
     "output_type": "stream",
     "text": [
      "[0013/0100] Train: 100%|██████████████████████████████| 72/72 [00:09<00:00,  7.53it/s, loss 19.4488]\n",
      "[0013/0100] Validation: 100%|█████████████████████| 76/76 [00:06<00:00, 12.05it/s, val_loss 19.9994]\n",
      "[0014/0100] Train:   0%|                                                     | 0/72 [00:00<?, ?it/s]"
     ]
    },
    {
     "name": "stdout",
     "output_type": "stream",
     "text": [
      "                  validation\n",
      " - Yaw          :   2.065781\n",
      " - Pitch        :   2.267824\n",
      " - Roll         :   2.875900\n",
      " - RMS          :   2.427707\n",
      " - 99% Tile     :  17.893988\n",
      "Save output signals into checkpoint/1122-Scene3-LSTM-SmallWindow-UseD/sample/0013.npy\n"
     ]
    },
    {
     "name": "stderr",
     "output_type": "stream",
     "text": [
      "[0014/0100] Train: 100%|██████████████████████████████| 72/72 [00:09<00:00,  7.30it/s, loss 16.3100]\n",
      "[0014/0100] Validation: 100%|█████████████████████| 76/76 [00:05<00:00, 13.87it/s, val_loss 17.5393]\n",
      "[0015/0100] Train:   0%|                                                     | 0/72 [00:00<?, ?it/s]"
     ]
    },
    {
     "name": "stdout",
     "output_type": "stream",
     "text": [
      "                  validation\n",
      " - Yaw          :   1.860982\n",
      " - Pitch        :   1.803432\n",
      " - Roll         :   2.856504\n",
      " - RMS          :   2.226749\n",
      " - 99% Tile     :  17.260220\n",
      "Save output signals into checkpoint/1122-Scene3-LSTM-SmallWindow-UseD/sample/0014.npy\n"
     ]
    },
    {
     "name": "stderr",
     "output_type": "stream",
     "text": [
      "[0015/0100] Train: 100%|██████████████████████████████| 72/72 [00:09<00:00,  7.69it/s, loss 13.8763]\n",
      "[0015/0100] Validation: 100%|█████████████████████| 76/76 [00:05<00:00, 13.64it/s, val_loss 16.6546]\n",
      "[0016/0100] Train:   0%|                                                     | 0/72 [00:00<?, ?it/s]"
     ]
    },
    {
     "name": "stdout",
     "output_type": "stream",
     "text": [
      "                  validation\n",
      " - Yaw          :   1.772993\n",
      " - Pitch        :   2.051951\n",
      " - Roll         :   2.782114\n",
      " - RMS          :   2.243076\n",
      " - 99% Tile     :  16.864738\n",
      "Save output signals into checkpoint/1122-Scene3-LSTM-SmallWindow-UseD/sample/0015.npy\n"
     ]
    },
    {
     "name": "stderr",
     "output_type": "stream",
     "text": [
      "[0016/0100] Train: 100%|██████████████████████████████| 72/72 [00:09<00:00,  7.42it/s, loss 12.0600]\n",
      "[0016/0100] Validation: 100%|█████████████████████| 76/76 [00:05<00:00, 15.03it/s, val_loss 15.2028]\n",
      "[0017/0100] Train:   0%|                                                     | 0/72 [00:00<?, ?it/s]"
     ]
    },
    {
     "name": "stdout",
     "output_type": "stream",
     "text": [
      "                  validation\n",
      " - Yaw          :   1.634322\n",
      " - Pitch        :   1.709275\n",
      " - Roll         :   2.793274\n",
      " - RMS          :   2.113055\n",
      " - 99% Tile     :  16.444573\n",
      "Save output signals into checkpoint/1122-Scene3-LSTM-SmallWindow-UseD/sample/0016.npy\n"
     ]
    },
    {
     "name": "stderr",
     "output_type": "stream",
     "text": [
      "[0017/0100] Train: 100%|██████████████████████████████| 72/72 [00:10<00:00,  6.60it/s, loss 10.6616]\n",
      "[0017/0100] Validation: 100%|█████████████████████| 76/76 [00:04<00:00, 16.43it/s, val_loss 14.8029]\n",
      "[0018/0100] Train:   0%|                                                     | 0/72 [00:00<?, ?it/s]"
     ]
    },
    {
     "name": "stdout",
     "output_type": "stream",
     "text": [
      "                  validation\n",
      " - Yaw          :   1.683402\n",
      " - Pitch        :   1.564434\n",
      " - Roll         :   2.802069\n",
      " - RMS          :   2.092278\n",
      " - 99% Tile     :  16.030947\n",
      "Save output signals into checkpoint/1122-Scene3-LSTM-SmallWindow-UseD/sample/0017.npy\n"
     ]
    },
    {
     "name": "stderr",
     "output_type": "stream",
     "text": [
      "[0018/0100] Train: 100%|███████████████████████████████| 72/72 [00:11<00:00,  6.54it/s, loss 9.4508]\n",
      "[0018/0100] Validation: 100%|█████████████████████| 76/76 [00:04<00:00, 16.29it/s, val_loss 13.8130]\n",
      "[0019/0100] Train:   0%|                                                     | 0/72 [00:00<?, ?it/s]"
     ]
    },
    {
     "name": "stdout",
     "output_type": "stream",
     "text": [
      "                  validation\n",
      " - Yaw          :   1.438038\n",
      " - Pitch        :   1.621889\n",
      " - Roll         :   2.661753\n",
      " - RMS          :   1.981869\n",
      " - 99% Tile     :  16.010789\n",
      "Save output signals into checkpoint/1122-Scene3-LSTM-SmallWindow-UseD/sample/0018.npy\n"
     ]
    },
    {
     "name": "stderr",
     "output_type": "stream",
     "text": [
      "[0019/0100] Train: 100%|███████████████████████████████| 72/72 [00:10<00:00,  6.90it/s, loss 8.4797]\n",
      "[0019/0100] Validation: 100%|█████████████████████| 76/76 [00:04<00:00, 16.47it/s, val_loss 13.0296]\n",
      "[0020/0100] Train:   0%|                                                     | 0/72 [00:00<?, ?it/s]"
     ]
    },
    {
     "name": "stdout",
     "output_type": "stream",
     "text": [
      "                  validation\n",
      " - Yaw          :   1.694647\n",
      " - Pitch        :   1.803044\n",
      " - Roll         :   2.261645\n",
      " - RMS          :   1.935444\n",
      " - 99% Tile     :  15.340994\n",
      "Save output signals into checkpoint/1122-Scene3-LSTM-SmallWindow-UseD/sample/0019.npy\n"
     ]
    },
    {
     "name": "stderr",
     "output_type": "stream",
     "text": [
      "[0020/0100] Train: 100%|███████████████████████████████| 72/72 [00:10<00:00,  6.63it/s, loss 7.4706]\n",
      "[0020/0100] Validation: 100%|█████████████████████| 76/76 [00:04<00:00, 15.99it/s, val_loss 11.7423]\n",
      "[0021/0100] Train:   0%|                                                     | 0/72 [00:00<?, ?it/s]"
     ]
    },
    {
     "name": "stdout",
     "output_type": "stream",
     "text": [
      "                  validation\n",
      " - Yaw          :   1.601828\n",
      " - Pitch        :   1.619485\n",
      " - Roll         :   2.058726\n",
      " - RMS          :   1.772657\n",
      " - 99% Tile     :  15.050308\n",
      "Save output signals into checkpoint/1122-Scene3-LSTM-SmallWindow-UseD/sample/0020.npy\n"
     ]
    },
    {
     "name": "stderr",
     "output_type": "stream",
     "text": [
      "[0021/0100] Train: 100%|███████████████████████████████| 72/72 [00:10<00:00,  7.01it/s, loss 6.5168]\n",
      "[0021/0100] Validation: 100%|█████████████████████| 76/76 [00:05<00:00, 14.54it/s, val_loss 10.9308]\n",
      "[0022/0100] Train:   0%|                                                     | 0/72 [00:00<?, ?it/s]"
     ]
    },
    {
     "name": "stdout",
     "output_type": "stream",
     "text": [
      "                  validation\n",
      " - Yaw          :   1.265877\n",
      " - Pitch        :   1.569340\n",
      " - Roll         :   1.971249\n",
      " - RMS          :   1.627994\n",
      " - 99% Tile     :  15.095119\n",
      "Save output signals into checkpoint/1122-Scene3-LSTM-SmallWindow-UseD/sample/0021.npy\n"
     ]
    },
    {
     "name": "stderr",
     "output_type": "stream",
     "text": [
      "[0022/0100] Train: 100%|███████████████████████████████| 72/72 [00:10<00:00,  6.71it/s, loss 5.9000]\n",
      "[0022/0100] Validation: 100%|██████████████████████| 76/76 [00:04<00:00, 15.64it/s, val_loss 9.8780]\n",
      "[0023/0100] Train:   0%|                                                     | 0/72 [00:00<?, ?it/s]"
     ]
    },
    {
     "name": "stdout",
     "output_type": "stream",
     "text": [
      "                  validation\n",
      " - Yaw          :   1.139217\n",
      " - Pitch        :   1.455950\n",
      " - Roll         :   1.711611\n",
      " - RMS          :   1.454558\n",
      " - 99% Tile     :  13.812034\n",
      "Save output signals into checkpoint/1122-Scene3-LSTM-SmallWindow-UseD/sample/0022.npy\n"
     ]
    },
    {
     "name": "stderr",
     "output_type": "stream",
     "text": [
      "[0023/0100] Train: 100%|███████████████████████████████| 72/72 [00:10<00:00,  7.01it/s, loss 5.2625]\n",
      "[0023/0100] Validation: 100%|██████████████████████| 76/76 [00:05<00:00, 15.06it/s, val_loss 9.1693]\n",
      "[0024/0100] Train:   0%|                                                     | 0/72 [00:00<?, ?it/s]"
     ]
    },
    {
     "name": "stdout",
     "output_type": "stream",
     "text": [
      "                  validation\n",
      " - Yaw          :   1.280763\n",
      " - Pitch        :   1.309555\n",
      " - Roll         :   1.546795\n",
      " - RMS          :   1.384180\n",
      " - 99% Tile     :  13.123876\n",
      "Save output signals into checkpoint/1122-Scene3-LSTM-SmallWindow-UseD/sample/0023.npy\n"
     ]
    },
    {
     "name": "stderr",
     "output_type": "stream",
     "text": [
      "[0024/0100] Train: 100%|███████████████████████████████| 72/72 [00:10<00:00,  7.07it/s, loss 4.7898]\n",
      "[0024/0100] Validation: 100%|██████████████████████| 76/76 [00:04<00:00, 15.60it/s, val_loss 8.9849]\n",
      "[0025/0100] Train:   0%|                                                     | 0/72 [00:00<?, ?it/s]"
     ]
    },
    {
     "name": "stdout",
     "output_type": "stream",
     "text": [
      "                  validation\n",
      " - Yaw          :   1.201781\n",
      " - Pitch        :   1.351244\n",
      " - Roll         :   1.547899\n",
      " - RMS          :   1.374303\n",
      " - 99% Tile     :  13.981400\n",
      "Save output signals into checkpoint/1122-Scene3-LSTM-SmallWindow-UseD/sample/0024.npy\n"
     ]
    },
    {
     "name": "stderr",
     "output_type": "stream",
     "text": [
      "[0025/0100] Train: 100%|███████████████████████████████| 72/72 [00:10<00:00,  7.10it/s, loss 4.3526]\n",
      "[0025/0100] Validation: 100%|██████████████████████| 76/76 [00:04<00:00, 16.23it/s, val_loss 8.1796]\n",
      "[0026/0100] Train:   0%|                                                     | 0/72 [00:00<?, ?it/s]"
     ]
    },
    {
     "name": "stdout",
     "output_type": "stream",
     "text": [
      "                  validation\n",
      " - Yaw          :   1.221795\n",
      " - Pitch        :   1.468175\n",
      " - Roll         :   1.371155\n",
      " - RMS          :   1.357496\n",
      " - 99% Tile     :  12.629244\n",
      "Save output signals into checkpoint/1122-Scene3-LSTM-SmallWindow-UseD/sample/0025.npy\n"
     ]
    },
    {
     "name": "stderr",
     "output_type": "stream",
     "text": [
      "[0026/0100] Train: 100%|███████████████████████████████| 72/72 [00:10<00:00,  7.06it/s, loss 3.9509]\n",
      "[0026/0100] Validation: 100%|██████████████████████| 76/76 [00:04<00:00, 15.24it/s, val_loss 7.7568]\n",
      "[0027/0100] Train:   0%|                                                     | 0/72 [00:00<?, ?it/s]"
     ]
    },
    {
     "name": "stdout",
     "output_type": "stream",
     "text": [
      "                  validation\n",
      " - Yaw          :   1.308789\n",
      " - Pitch        :   1.375763\n",
      " - Roll         :   1.264059\n",
      " - RMS          :   1.317004\n",
      " - 99% Tile     :  11.973459\n",
      "Save output signals into checkpoint/1122-Scene3-LSTM-SmallWindow-UseD/sample/0026.npy\n"
     ]
    },
    {
     "name": "stderr",
     "output_type": "stream",
     "text": [
      "[0027/0100] Train: 100%|███████████████████████████████| 72/72 [00:10<00:00,  6.74it/s, loss 3.6708]\n",
      "[0027/0100] Validation: 100%|██████████████████████| 76/76 [00:04<00:00, 15.55it/s, val_loss 7.1925]\n",
      "[0028/0100] Train:   0%|                                                     | 0/72 [00:00<?, ?it/s]"
     ]
    },
    {
     "name": "stdout",
     "output_type": "stream",
     "text": [
      "                  validation\n",
      " - Yaw          :   1.102579\n",
      " - Pitch        :   1.320771\n",
      " - Roll         :   1.216313\n",
      " - RMS          :   1.216488\n",
      " - 99% Tile     :  11.450693\n",
      "Save output signals into checkpoint/1122-Scene3-LSTM-SmallWindow-UseD/sample/0027.npy\n"
     ]
    },
    {
     "name": "stderr",
     "output_type": "stream",
     "text": [
      "[0028/0100] Train: 100%|███████████████████████████████| 72/72 [00:10<00:00,  7.03it/s, loss 3.3982]\n",
      "[0028/0100] Validation: 100%|██████████████████████| 76/76 [00:05<00:00, 15.07it/s, val_loss 6.9204]\n",
      "[0029/0100] Train:   0%|                                                     | 0/72 [00:00<?, ?it/s]"
     ]
    },
    {
     "name": "stdout",
     "output_type": "stream",
     "text": [
      "                  validation\n",
      " - Yaw          :   1.201910\n",
      " - Pitch        :   1.236807\n",
      " - Roll         :   1.194795\n",
      " - RMS          :   1.211310\n",
      " - 99% Tile     :  11.426547\n",
      "Save output signals into checkpoint/1122-Scene3-LSTM-SmallWindow-UseD/sample/0028.npy\n"
     ]
    },
    {
     "name": "stderr",
     "output_type": "stream",
     "text": [
      "[0029/0100] Train: 100%|███████████████████████████████| 72/72 [00:10<00:00,  6.81it/s, loss 3.1167]\n",
      "[0029/0100] Validation: 100%|██████████████████████| 76/76 [00:05<00:00, 15.14it/s, val_loss 6.8244]\n",
      "[0030/0100] Train:   0%|                                                     | 0/72 [00:00<?, ?it/s]"
     ]
    },
    {
     "name": "stdout",
     "output_type": "stream",
     "text": [
      "                  validation\n",
      " - Yaw          :   1.083335\n",
      " - Pitch        :   1.178697\n",
      " - Roll         :   1.277732\n",
      " - RMS          :   1.182588\n",
      " - 99% Tile     :  10.808040\n",
      "Save output signals into checkpoint/1122-Scene3-LSTM-SmallWindow-UseD/sample/0029.npy\n"
     ]
    },
    {
     "name": "stderr",
     "output_type": "stream",
     "text": [
      "[0030/0100] Train: 100%|███████████████████████████████| 72/72 [00:10<00:00,  6.70it/s, loss 2.9988]\n",
      "[0030/0100] Validation: 100%|██████████████████████| 76/76 [00:04<00:00, 15.54it/s, val_loss 6.3762]\n",
      "[0031/0100] Train:   0%|                                                     | 0/72 [00:00<?, ?it/s]"
     ]
    },
    {
     "name": "stdout",
     "output_type": "stream",
     "text": [
      "                  validation\n",
      " - Yaw          :   1.059050\n",
      " - Pitch        :   1.245194\n",
      " - Roll         :   1.082271\n",
      " - RMS          :   1.131872\n",
      " - 99% Tile     :  10.802519\n",
      "Save output signals into checkpoint/1122-Scene3-LSTM-SmallWindow-UseD/sample/0030.npy\n"
     ]
    },
    {
     "name": "stderr",
     "output_type": "stream",
     "text": [
      "[0031/0100] Train: 100%|███████████████████████████████| 72/72 [00:11<00:00,  6.47it/s, loss 2.8603]\n",
      "[0031/0100] Validation: 100%|██████████████████████| 76/76 [00:04<00:00, 16.27it/s, val_loss 6.4980]\n",
      "[0032/0100] Train:   0%|                                                     | 0/72 [00:00<?, ?it/s]"
     ]
    },
    {
     "name": "stdout",
     "output_type": "stream",
     "text": [
      "val_loss is not improved for 1 epochs\n",
      "                  validation\n",
      " - Yaw          :   1.035266\n",
      " - Pitch        :   1.182843\n",
      " - Roll         :   1.109129\n",
      " - RMS          :   1.110715\n",
      " - 99% Tile     :  10.754410\n",
      "Save output signals into checkpoint/1122-Scene3-LSTM-SmallWindow-UseD/sample/0031.npy\n"
     ]
    },
    {
     "name": "stderr",
     "output_type": "stream",
     "text": [
      "[0032/0100] Train: 100%|███████████████████████████████| 72/72 [00:10<00:00,  6.96it/s, loss 2.7134]\n",
      "[0032/0100] Validation: 100%|██████████████████████| 76/76 [00:05<00:00, 14.66it/s, val_loss 6.1839]\n",
      "[0033/0100] Train:   0%|                                                     | 0/72 [00:00<?, ?it/s]"
     ]
    },
    {
     "name": "stdout",
     "output_type": "stream",
     "text": [
      "                  validation\n",
      " - Yaw          :   1.038701\n",
      " - Pitch        :   1.188656\n",
      " - Roll         :   1.035858\n",
      " - RMS          :   1.090078\n",
      " - 99% Tile     :  10.608820\n",
      "Save output signals into checkpoint/1122-Scene3-LSTM-SmallWindow-UseD/sample/0032.npy\n"
     ]
    },
    {
     "name": "stderr",
     "output_type": "stream",
     "text": [
      "[0033/0100] Train: 100%|███████████████████████████████| 72/72 [00:11<00:00,  6.49it/s, loss 2.4956]\n",
      "[0033/0100] Validation: 100%|██████████████████████| 76/76 [00:04<00:00, 16.42it/s, val_loss 6.0410]\n",
      "[0034/0100] Train:   0%|                                                     | 0/72 [00:00<?, ?it/s]"
     ]
    },
    {
     "name": "stdout",
     "output_type": "stream",
     "text": [
      "                  validation\n",
      " - Yaw          :   0.961845\n",
      " - Pitch        :   1.081430\n",
      " - Roll         :   1.074420\n",
      " - RMS          :   1.040675\n",
      " - 99% Tile     :  10.512414\n",
      "Save output signals into checkpoint/1122-Scene3-LSTM-SmallWindow-UseD/sample/0033.npy\n"
     ]
    },
    {
     "name": "stderr",
     "output_type": "stream",
     "text": [
      "[0034/0100] Train: 100%|███████████████████████████████| 72/72 [00:10<00:00,  6.89it/s, loss 2.5004]\n",
      "[0034/0100] Validation: 100%|██████████████████████| 76/76 [00:05<00:00, 14.21it/s, val_loss 5.8985]\n",
      "[0035/0100] Train:   0%|                                                     | 0/72 [00:00<?, ?it/s]"
     ]
    },
    {
     "name": "stdout",
     "output_type": "stream",
     "text": [
      "                  validation\n",
      " - Yaw          :   1.037075\n",
      " - Pitch        :   1.038697\n",
      " - Roll         :   1.096973\n",
      " - RMS          :   1.057949\n",
      " - 99% Tile     :  10.401598\n",
      "Save output signals into checkpoint/1122-Scene3-LSTM-SmallWindow-UseD/sample/0034.npy\n"
     ]
    },
    {
     "name": "stderr",
     "output_type": "stream",
     "text": [
      "[0035/0100] Train: 100%|███████████████████████████████| 72/72 [00:09<00:00,  7.25it/s, loss 2.2613]\n",
      "[0035/0100] Validation: 100%|██████████████████████| 76/76 [00:04<00:00, 15.43it/s, val_loss 5.6983]\n",
      "[0036/0100] Train:   0%|                                                     | 0/72 [00:00<?, ?it/s]"
     ]
    },
    {
     "name": "stdout",
     "output_type": "stream",
     "text": [
      "                  validation\n",
      " - Yaw          :   0.992077\n",
      " - Pitch        :   1.176220\n",
      " - Roll         :   1.036878\n",
      " - RMS          :   1.071265\n",
      " - 99% Tile     :   9.998867\n",
      "Save output signals into checkpoint/1122-Scene3-LSTM-SmallWindow-UseD/sample/0035.npy\n"
     ]
    },
    {
     "name": "stderr",
     "output_type": "stream",
     "text": [
      "[0036/0100] Train: 100%|███████████████████████████████| 72/72 [00:09<00:00,  7.23it/s, loss 2.2032]\n",
      "[0036/0100] Validation: 100%|██████████████████████| 76/76 [00:05<00:00, 13.42it/s, val_loss 5.5795]\n",
      "[0037/0100] Train:   0%|                                                     | 0/72 [00:00<?, ?it/s]"
     ]
    },
    {
     "name": "stdout",
     "output_type": "stream",
     "text": [
      "                  validation\n",
      " - Yaw          :   1.065562\n",
      " - Pitch        :   0.984554\n",
      " - Roll         :   0.976433\n",
      " - RMS          :   1.009652\n",
      " - 99% Tile     :   9.931130\n",
      "Save output signals into checkpoint/1122-Scene3-LSTM-SmallWindow-UseD/sample/0036.npy\n"
     ]
    },
    {
     "name": "stderr",
     "output_type": "stream",
     "text": [
      "[0037/0100] Train: 100%|███████████████████████████████| 72/72 [00:09<00:00,  7.38it/s, loss 2.1360]\n",
      "[0037/0100] Validation: 100%|██████████████████████| 76/76 [00:05<00:00, 13.03it/s, val_loss 5.5855]\n",
      "[0038/0100] Train:   0%|                                                     | 0/72 [00:00<?, ?it/s]"
     ]
    },
    {
     "name": "stdout",
     "output_type": "stream",
     "text": [
      "val_loss is not improved for 1 epochs\n",
      "                  validation\n",
      " - Yaw          :   1.104219\n",
      " - Pitch        :   0.993938\n",
      " - Roll         :   0.967962\n",
      " - RMS          :   1.023745\n",
      " - 99% Tile     :   9.772353\n",
      "Save output signals into checkpoint/1122-Scene3-LSTM-SmallWindow-UseD/sample/0037.npy\n"
     ]
    },
    {
     "name": "stderr",
     "output_type": "stream",
     "text": [
      "[0038/0100] Train: 100%|███████████████████████████████| 72/72 [00:09<00:00,  7.42it/s, loss 2.0637]\n",
      "[0038/0100] Validation: 100%|██████████████████████| 76/76 [00:04<00:00, 15.83it/s, val_loss 5.6086]\n",
      "[0039/0100] Train:   0%|                                                     | 0/72 [00:00<?, ?it/s]"
     ]
    },
    {
     "name": "stdout",
     "output_type": "stream",
     "text": [
      "val_loss is not improved for 2 epochs\n",
      "                  validation\n",
      " - Yaw          :   1.060234\n",
      " - Pitch        :   1.078565\n",
      " - Roll         :   1.009176\n",
      " - RMS          :   1.049736\n",
      " - 99% Tile     :   9.839546\n",
      "Save output signals into checkpoint/1122-Scene3-LSTM-SmallWindow-UseD/sample/0038.npy\n"
     ]
    },
    {
     "name": "stderr",
     "output_type": "stream",
     "text": [
      "[0039/0100] Train: 100%|███████████████████████████████| 72/72 [00:10<00:00,  6.66it/s, loss 1.9300]\n",
      "[0039/0100] Validation: 100%|██████████████████████| 76/76 [00:05<00:00, 12.93it/s, val_loss 5.3803]\n",
      "[0040/0100] Train:   0%|                                                     | 0/72 [00:00<?, ?it/s]"
     ]
    },
    {
     "name": "stdout",
     "output_type": "stream",
     "text": [
      "                  validation\n",
      " - Yaw          :   0.971667\n",
      " - Pitch        :   1.101869\n",
      " - Roll         :   0.958065\n",
      " - RMS          :   1.012611\n",
      " - 99% Tile     :   9.599611\n",
      "Save output signals into checkpoint/1122-Scene3-LSTM-SmallWindow-UseD/sample/0039.npy\n"
     ]
    },
    {
     "name": "stderr",
     "output_type": "stream",
     "text": [
      "[0040/0100] Train: 100%|███████████████████████████████| 72/72 [00:10<00:00,  6.77it/s, loss 1.8526]\n",
      "[0040/0100] Validation: 100%|██████████████████████| 76/76 [00:05<00:00, 12.81it/s, val_loss 5.3073]\n",
      "[0041/0100] Train:   0%|                                                     | 0/72 [00:00<?, ?it/s]"
     ]
    },
    {
     "name": "stdout",
     "output_type": "stream",
     "text": [
      "                  validation\n",
      " - Yaw          :   0.955315\n",
      " - Pitch        :   1.054986\n",
      " - Roll         :   0.954799\n",
      " - RMS          :   0.989489\n",
      " - 99% Tile     :  10.281148\n",
      "Save output signals into checkpoint/1122-Scene3-LSTM-SmallWindow-UseD/sample/0040.npy\n"
     ]
    },
    {
     "name": "stderr",
     "output_type": "stream",
     "text": [
      "[0041/0100] Train: 100%|███████████████████████████████| 72/72 [00:09<00:00,  7.52it/s, loss 1.8343]\n",
      "[0041/0100] Validation: 100%|██████████████████████| 76/76 [00:05<00:00, 14.05it/s, val_loss 5.3533]\n",
      "[0042/0100] Train:   0%|                                                     | 0/72 [00:00<?, ?it/s]"
     ]
    },
    {
     "name": "stdout",
     "output_type": "stream",
     "text": [
      "val_loss is not improved for 1 epochs\n",
      "                  validation\n",
      " - Yaw          :   1.124136\n",
      " - Pitch        :   1.020308\n",
      " - Roll         :   0.912118\n",
      " - RMS          :   1.022525\n",
      " - 99% Tile     :   9.896347\n",
      "Save output signals into checkpoint/1122-Scene3-LSTM-SmallWindow-UseD/sample/0041.npy\n"
     ]
    },
    {
     "name": "stderr",
     "output_type": "stream",
     "text": [
      "[0042/0100] Train: 100%|███████████████████████████████| 72/72 [00:10<00:00,  7.03it/s, loss 1.7504]\n",
      "[0042/0100] Validation: 100%|██████████████████████| 76/76 [00:06<00:00, 12.31it/s, val_loss 5.3868]\n",
      "[0043/0100] Train:   0%|                                                     | 0/72 [00:00<?, ?it/s]"
     ]
    },
    {
     "name": "stdout",
     "output_type": "stream",
     "text": [
      "val_loss is not improved for 2 epochs\n",
      "                  validation\n",
      " - Yaw          :   1.241364\n",
      " - Pitch        :   1.164885\n",
      " - Roll         :   0.915642\n",
      " - RMS          :   1.115996\n",
      " - 99% Tile     :   9.630554\n",
      "Save output signals into checkpoint/1122-Scene3-LSTM-SmallWindow-UseD/sample/0042.npy\n"
     ]
    },
    {
     "name": "stderr",
     "output_type": "stream",
     "text": [
      "[0043/0100] Train: 100%|███████████████████████████████| 72/72 [00:08<00:00,  8.06it/s, loss 1.7864]\n",
      "[0043/0100] Validation: 100%|██████████████████████| 76/76 [00:03<00:00, 19.24it/s, val_loss 5.0089]\n",
      "[0044/0100] Train:   0%|                                                     | 0/72 [00:00<?, ?it/s]"
     ]
    },
    {
     "name": "stdout",
     "output_type": "stream",
     "text": [
      "                  validation\n",
      " - Yaw          :   1.006945\n",
      " - Pitch        :   1.147024\n",
      " - Roll         :   0.881824\n",
      " - RMS          :   1.017713\n",
      " - 99% Tile     :   9.444844\n",
      "Save output signals into checkpoint/1122-Scene3-LSTM-SmallWindow-UseD/sample/0043.npy\n"
     ]
    },
    {
     "name": "stderr",
     "output_type": "stream",
     "text": [
      "[0044/0100] Train: 100%|███████████████████████████████| 72/72 [00:08<00:00,  8.40it/s, loss 1.6337]\n",
      "[0044/0100] Validation: 100%|██████████████████████| 76/76 [00:03<00:00, 22.39it/s, val_loss 4.8544]\n",
      "[0045/0100] Train:   0%|                                                     | 0/72 [00:00<?, ?it/s]"
     ]
    },
    {
     "name": "stdout",
     "output_type": "stream",
     "text": [
      "                  validation\n",
      " - Yaw          :   0.902829\n",
      " - Pitch        :   0.981054\n",
      " - Roll         :   0.860707\n",
      " - RMS          :   0.916221\n",
      " - 99% Tile     :   9.626974\n",
      "Save output signals into checkpoint/1122-Scene3-LSTM-SmallWindow-UseD/sample/0044.npy\n"
     ]
    },
    {
     "name": "stderr",
     "output_type": "stream",
     "text": [
      "[0045/0100] Train: 100%|███████████████████████████████| 72/72 [00:08<00:00,  8.35it/s, loss 1.6385]\n",
      "[0045/0100] Validation: 100%|██████████████████████| 76/76 [00:03<00:00, 21.36it/s, val_loss 5.1458]\n",
      "[0046/0100] Train:   0%|                                                     | 0/72 [00:00<?, ?it/s]"
     ]
    },
    {
     "name": "stdout",
     "output_type": "stream",
     "text": [
      "val_loss is not improved for 1 epochs\n",
      "                  validation\n",
      " - Yaw          :   1.059776\n",
      " - Pitch        :   1.093085\n",
      " - Roll         :   0.885307\n",
      " - RMS          :   1.016813\n",
      " - 99% Tile     :   9.620345\n",
      "Save output signals into checkpoint/1122-Scene3-LSTM-SmallWindow-UseD/sample/0045.npy\n"
     ]
    },
    {
     "name": "stderr",
     "output_type": "stream",
     "text": [
      "[0046/0100] Train: 100%|███████████████████████████████| 72/72 [00:08<00:00,  8.09it/s, loss 1.5265]\n",
      "[0046/0100] Validation: 100%|██████████████████████| 76/76 [00:03<00:00, 20.09it/s, val_loss 5.0912]\n",
      "[0047/0100] Train:   0%|                                                     | 0/72 [00:00<?, ?it/s]"
     ]
    },
    {
     "name": "stdout",
     "output_type": "stream",
     "text": [
      "val_loss is not improved for 2 epochs\n",
      "                  validation\n",
      " - Yaw          :   1.040285\n",
      " - Pitch        :   1.073846\n",
      " - Roll         :   0.942692\n",
      " - RMS          :   1.020458\n",
      " - 99% Tile     :   9.614349\n",
      "Save output signals into checkpoint/1122-Scene3-LSTM-SmallWindow-UseD/sample/0046.npy\n"
     ]
    },
    {
     "name": "stderr",
     "output_type": "stream",
     "text": [
      "[0047/0100] Train: 100%|███████████████████████████████| 72/72 [00:08<00:00,  8.98it/s, loss 1.4688]\n",
      "[0047/0100] Validation: 100%|██████████████████████| 76/76 [00:03<00:00, 19.95it/s, val_loss 5.0481]\n",
      "[0048/0100] Train:   0%|                                                     | 0/72 [00:00<?, ?it/s]"
     ]
    },
    {
     "name": "stdout",
     "output_type": "stream",
     "text": [
      "val_loss is not improved for 3 epochs\n",
      "                  validation\n",
      " - Yaw          :   1.110242\n",
      " - Pitch        :   1.003495\n",
      " - Roll         :   0.845252\n",
      " - RMS          :   0.992319\n",
      " - 99% Tile     :   9.424465\n",
      "Save output signals into checkpoint/1122-Scene3-LSTM-SmallWindow-UseD/sample/0047.npy\n"
     ]
    },
    {
     "name": "stderr",
     "output_type": "stream",
     "text": [
      "[0048/0100] Train: 100%|███████████████████████████████| 72/72 [00:08<00:00,  8.18it/s, loss 1.4591]\n",
      "[0048/0100] Validation: 100%|██████████████████████| 76/76 [00:04<00:00, 16.37it/s, val_loss 4.9718]\n",
      "[0049/0100] Train:   0%|                                                     | 0/72 [00:00<?, ?it/s]"
     ]
    },
    {
     "name": "stdout",
     "output_type": "stream",
     "text": [
      "val_loss is not improved for 4 epochs\n",
      "                  validation\n",
      " - Yaw          :   1.039330\n",
      " - Pitch        :   0.940724\n",
      " - Roll         :   0.879298\n",
      " - RMS          :   0.955394\n",
      " - 99% Tile     :   9.561636\n",
      "Save output signals into checkpoint/1122-Scene3-LSTM-SmallWindow-UseD/sample/0048.npy\n"
     ]
    },
    {
     "name": "stderr",
     "output_type": "stream",
     "text": [
      "[0049/0100] Train: 100%|███████████████████████████████| 72/72 [00:08<00:00,  8.33it/s, loss 1.3724]\n",
      "[0049/0100] Validation: 100%|██████████████████████| 76/76 [00:04<00:00, 18.25it/s, val_loss 5.1020]\n",
      "[0050/0100] Train:   0%|                                                     | 0/72 [00:00<?, ?it/s]"
     ]
    },
    {
     "name": "stdout",
     "output_type": "stream",
     "text": [
      "Decaying lr from 0.001 to 0.0005 because val_loss did not improved for 5 epochs\n",
      "val_loss is not improved for 5 epochs\n",
      "                  validation\n",
      " - Yaw          :   1.069975\n",
      " - Pitch        :   1.082307\n",
      " - Roll         :   0.925775\n",
      " - RMS          :   1.028477\n",
      " - 99% Tile     :   9.787064\n",
      "Save output signals into checkpoint/1122-Scene3-LSTM-SmallWindow-UseD/sample/0049.npy\n"
     ]
    },
    {
     "name": "stderr",
     "output_type": "stream",
     "text": [
      "[0050/0100] Train: 100%|███████████████████████████████| 72/72 [00:08<00:00,  8.45it/s, loss 1.2516]\n",
      "[0050/0100] Validation: 100%|██████████████████████| 76/76 [00:04<00:00, 17.26it/s, val_loss 4.6958]\n",
      "[0051/0100] Train:   0%|                                                     | 0/72 [00:00<?, ?it/s]"
     ]
    },
    {
     "name": "stdout",
     "output_type": "stream",
     "text": [
      "                  validation\n",
      " - Yaw          :   0.902416\n",
      " - Pitch        :   0.913657\n",
      " - Roll         :   0.835543\n",
      " - RMS          :   0.884544\n",
      " - 99% Tile     :   9.385586\n",
      "Save output signals into checkpoint/1122-Scene3-LSTM-SmallWindow-UseD/sample/0050.npy\n"
     ]
    },
    {
     "name": "stderr",
     "output_type": "stream",
     "text": [
      "[0051/0100] Train: 100%|███████████████████████████████| 72/72 [00:08<00:00,  8.27it/s, loss 1.1951]\n",
      "[0051/0100] Validation: 100%|██████████████████████| 76/76 [00:04<00:00, 17.63it/s, val_loss 4.6993]\n",
      "[0052/0100] Train:   0%|                                                     | 0/72 [00:00<?, ?it/s]"
     ]
    },
    {
     "name": "stdout",
     "output_type": "stream",
     "text": [
      "val_loss is not improved for 1 epochs\n",
      "                  validation\n",
      " - Yaw          :   0.920236\n",
      " - Pitch        :   0.884963\n",
      " - Roll         :   0.821677\n",
      " - RMS          :   0.876574\n",
      " - 99% Tile     :   9.336524\n",
      "Save output signals into checkpoint/1122-Scene3-LSTM-SmallWindow-UseD/sample/0051.npy\n"
     ]
    },
    {
     "name": "stderr",
     "output_type": "stream",
     "text": [
      "[0052/0100] Train: 100%|███████████████████████████████| 72/72 [00:08<00:00,  8.72it/s, loss 1.1818]\n",
      "[0052/0100] Validation: 100%|██████████████████████| 76/76 [00:04<00:00, 17.80it/s, val_loss 4.7136]\n",
      "[0053/0100] Train:   0%|                                                     | 0/72 [00:00<?, ?it/s]"
     ]
    },
    {
     "name": "stdout",
     "output_type": "stream",
     "text": [
      "val_loss is not improved for 2 epochs\n",
      "                  validation\n",
      " - Yaw          :   0.929269\n",
      " - Pitch        :   0.991960\n",
      " - Roll         :   0.825682\n",
      " - RMS          :   0.918200\n",
      " - 99% Tile     :   9.451984\n",
      "Save output signals into checkpoint/1122-Scene3-LSTM-SmallWindow-UseD/sample/0052.npy\n"
     ]
    },
    {
     "name": "stderr",
     "output_type": "stream",
     "text": [
      "[0053/0100] Train: 100%|███████████████████████████████| 72/72 [00:07<00:00,  9.07it/s, loss 1.1689]\n",
      "[0053/0100] Validation: 100%|██████████████████████| 76/76 [00:04<00:00, 18.39it/s, val_loss 4.7471]\n",
      "[0054/0100] Train:   0%|                                                     | 0/72 [00:00<?, ?it/s]"
     ]
    },
    {
     "name": "stdout",
     "output_type": "stream",
     "text": [
      "val_loss is not improved for 3 epochs\n",
      "                  validation\n",
      " - Yaw          :   0.960778\n",
      " - Pitch        :   0.910451\n",
      " - Roll         :   0.814772\n",
      " - RMS          :   0.897379\n",
      " - 99% Tile     :   9.457538\n",
      "Save output signals into checkpoint/1122-Scene3-LSTM-SmallWindow-UseD/sample/0053.npy\n"
     ]
    },
    {
     "name": "stderr",
     "output_type": "stream",
     "text": [
      "[0054/0100] Train: 100%|███████████████████████████████| 72/72 [00:08<00:00,  8.47it/s, loss 1.1526]\n",
      "[0054/0100] Validation: 100%|██████████████████████| 76/76 [00:03<00:00, 19.24it/s, val_loss 4.6914]\n",
      "[0055/0100] Train:   0%|                                                     | 0/72 [00:00<?, ?it/s]"
     ]
    },
    {
     "name": "stdout",
     "output_type": "stream",
     "text": [
      "                  validation\n",
      " - Yaw          :   0.963726\n",
      " - Pitch        :   0.963591\n",
      " - Roll         :   0.818466\n",
      " - RMS          :   0.917817\n",
      " - 99% Tile     :   9.477494\n",
      "Save output signals into checkpoint/1122-Scene3-LSTM-SmallWindow-UseD/sample/0054.npy\n"
     ]
    },
    {
     "name": "stderr",
     "output_type": "stream",
     "text": [
      "[0055/0100] Train: 100%|███████████████████████████████| 72/72 [00:08<00:00,  8.35it/s, loss 1.1418]\n",
      "[0055/0100] Validation: 100%|██████████████████████| 76/76 [00:03<00:00, 23.25it/s, val_loss 4.6369]\n",
      "[0056/0100] Train:   0%|                                                     | 0/72 [00:00<?, ?it/s]"
     ]
    },
    {
     "name": "stdout",
     "output_type": "stream",
     "text": [
      "                  validation\n",
      " - Yaw          :   0.876761\n",
      " - Pitch        :   0.918520\n",
      " - Roll         :   0.813353\n",
      " - RMS          :   0.870619\n",
      " - 99% Tile     :   9.396104\n",
      "Save output signals into checkpoint/1122-Scene3-LSTM-SmallWindow-UseD/sample/0055.npy\n"
     ]
    },
    {
     "name": "stderr",
     "output_type": "stream",
     "text": [
      "[0056/0100] Train: 100%|███████████████████████████████| 72/72 [00:08<00:00,  8.38it/s, loss 1.1331]\n",
      "[0056/0100] Validation: 100%|██████████████████████| 76/76 [00:03<00:00, 21.71it/s, val_loss 4.7848]\n",
      "[0057/0100] Train:   0%|                                                     | 0/72 [00:00<?, ?it/s]"
     ]
    },
    {
     "name": "stdout",
     "output_type": "stream",
     "text": [
      "val_loss is not improved for 1 epochs\n",
      "                  validation\n",
      " - Yaw          :   0.979207\n",
      " - Pitch        :   1.011088\n",
      " - Roll         :   0.817862\n",
      " - RMS          :   0.939866\n",
      " - 99% Tile     :   9.447914\n",
      "Save output signals into checkpoint/1122-Scene3-LSTM-SmallWindow-UseD/sample/0056.npy\n"
     ]
    },
    {
     "name": "stderr",
     "output_type": "stream",
     "text": [
      "[0057/0100] Train: 100%|███████████████████████████████| 72/72 [00:08<00:00,  8.83it/s, loss 1.1150]\n",
      "[0057/0100] Validation: 100%|██████████████████████| 76/76 [00:03<00:00, 22.40it/s, val_loss 4.5348]\n",
      "[0058/0100] Train:   0%|                                                     | 0/72 [00:00<?, ?it/s]"
     ]
    },
    {
     "name": "stdout",
     "output_type": "stream",
     "text": [
      "                  validation\n",
      " - Yaw          :   0.871379\n",
      " - Pitch        :   0.974781\n",
      " - Roll         :   0.812900\n",
      " - RMS          :   0.888877\n",
      " - 99% Tile     :   9.296991\n",
      "Save output signals into checkpoint/1122-Scene3-LSTM-SmallWindow-UseD/sample/0057.npy\n"
     ]
    },
    {
     "name": "stderr",
     "output_type": "stream",
     "text": [
      "[0058/0100] Train: 100%|███████████████████████████████| 72/72 [00:08<00:00,  8.39it/s, loss 1.1021]\n",
      "[0058/0100] Validation: 100%|██████████████████████| 76/76 [00:02<00:00, 29.56it/s, val_loss 4.5904]\n",
      "[0059/0100] Train:   0%|                                                     | 0/72 [00:00<?, ?it/s]"
     ]
    },
    {
     "name": "stdout",
     "output_type": "stream",
     "text": [
      "val_loss is not improved for 1 epochs\n",
      "                  validation\n",
      " - Yaw          :   0.912672\n",
      " - Pitch        :   0.920667\n",
      " - Roll         :   0.819517\n",
      " - RMS          :   0.885477\n",
      " - 99% Tile     :   9.159247\n",
      "Save output signals into checkpoint/1122-Scene3-LSTM-SmallWindow-UseD/sample/0058.npy\n"
     ]
    },
    {
     "name": "stderr",
     "output_type": "stream",
     "text": [
      "[0059/0100] Train: 100%|███████████████████████████████| 72/72 [00:06<00:00, 10.79it/s, loss 1.0652]\n",
      "[0059/0100] Validation: 100%|██████████████████████| 76/76 [00:02<00:00, 27.01it/s, val_loss 4.5508]\n",
      "[0060/0100] Train:   0%|                                                     | 0/72 [00:00<?, ?it/s]"
     ]
    },
    {
     "name": "stdout",
     "output_type": "stream",
     "text": [
      "val_loss is not improved for 2 epochs\n",
      "                  validation\n",
      " - Yaw          :   0.895887\n",
      " - Pitch        :   0.896688\n",
      " - Roll         :   0.841053\n",
      " - RMS          :   0.878262\n",
      " - 99% Tile     :   9.060005\n",
      "Save output signals into checkpoint/1122-Scene3-LSTM-SmallWindow-UseD/sample/0059.npy\n"
     ]
    },
    {
     "name": "stderr",
     "output_type": "stream",
     "text": [
      "[0060/0100] Train: 100%|███████████████████████████████| 72/72 [00:06<00:00, 10.93it/s, loss 1.0624]\n",
      "[0060/0100] Validation: 100%|██████████████████████| 76/76 [00:03<00:00, 24.75it/s, val_loss 4.7536]\n",
      "[0061/0100] Train:   0%|                                                     | 0/72 [00:00<?, ?it/s]"
     ]
    },
    {
     "name": "stdout",
     "output_type": "stream",
     "text": [
      "val_loss is not improved for 3 epochs\n",
      "                  validation\n",
      " - Yaw          :   0.991904\n",
      " - Pitch        :   0.934681\n",
      " - Roll         :   0.875113\n",
      " - RMS          :   0.935116\n",
      " - 99% Tile     :   9.272595\n",
      "Save output signals into checkpoint/1122-Scene3-LSTM-SmallWindow-UseD/sample/0060.npy\n"
     ]
    },
    {
     "name": "stderr",
     "output_type": "stream",
     "text": [
      "[0061/0100] Train: 100%|███████████████████████████████| 72/72 [00:06<00:00, 11.16it/s, loss 1.1119]\n",
      "[0061/0100] Validation: 100%|██████████████████████| 76/76 [00:03<00:00, 20.58it/s, val_loss 4.8032]\n",
      "[0062/0100] Train:   0%|                                                     | 0/72 [00:00<?, ?it/s]"
     ]
    },
    {
     "name": "stdout",
     "output_type": "stream",
     "text": [
      "val_loss is not improved for 4 epochs\n",
      "                  validation\n",
      " - Yaw          :   0.987094\n",
      " - Pitch        :   1.051246\n",
      " - Roll         :   0.817982\n",
      " - RMS          :   0.957178\n",
      " - 99% Tile     :   9.043944\n",
      "Save output signals into checkpoint/1122-Scene3-LSTM-SmallWindow-UseD/sample/0061.npy\n"
     ]
    },
    {
     "name": "stderr",
     "output_type": "stream",
     "text": [
      "[0062/0100] Train: 100%|███████████████████████████████| 72/72 [00:06<00:00, 11.41it/s, loss 1.0574]\n",
      "[0062/0100] Validation: 100%|██████████████████████| 76/76 [00:03<00:00, 20.61it/s, val_loss 4.6118]\n",
      "[0063/0100] Train:   0%|                                                     | 0/72 [00:00<?, ?it/s]"
     ]
    },
    {
     "name": "stdout",
     "output_type": "stream",
     "text": [
      "Decaying lr from 0.0005 to 0.00025 because val_loss did not improved for 5 epochs\n",
      "val_loss is not improved for 5 epochs\n",
      "                  validation\n",
      " - Yaw          :   0.925867\n",
      " - Pitch        :   0.916780\n",
      " - Roll         :   0.845055\n",
      " - RMS          :   0.896630\n",
      " - 99% Tile     :   9.157181\n",
      "Save output signals into checkpoint/1122-Scene3-LSTM-SmallWindow-UseD/sample/0062.npy\n"
     ]
    },
    {
     "name": "stderr",
     "output_type": "stream",
     "text": [
      "[0063/0100] Train: 100%|███████████████████████████████| 72/72 [00:03<00:00, 18.51it/s, loss 0.9587]\n",
      "[0063/0100] Validation: 100%|██████████████████████| 76/76 [00:02<00:00, 34.41it/s, val_loss 4.5595]\n",
      "[0064/0100] Train:   0%|                                                     | 0/72 [00:00<?, ?it/s]"
     ]
    },
    {
     "name": "stdout",
     "output_type": "stream",
     "text": [
      "val_loss is not improved for 6 epochs\n",
      "                  validation\n",
      " - Yaw          :   0.856312\n",
      " - Pitch        :   0.962089\n",
      " - Roll         :   0.791947\n",
      " - RMS          :   0.872939\n",
      " - 99% Tile     :   9.309568\n",
      "Save output signals into checkpoint/1122-Scene3-LSTM-SmallWindow-UseD/sample/0063.npy\n"
     ]
    },
    {
     "name": "stderr",
     "output_type": "stream",
     "text": [
      "[0064/0100] Train: 100%|███████████████████████████████| 72/72 [00:03<00:00, 18.80it/s, loss 0.9571]\n",
      "[0064/0100] Validation: 100%|██████████████████████| 76/76 [00:02<00:00, 34.23it/s, val_loss 4.5975]\n",
      "[0065/0100] Train:   0%|                                                     | 0/72 [00:00<?, ?it/s]"
     ]
    },
    {
     "name": "stdout",
     "output_type": "stream",
     "text": [
      "val_loss is not improved for 7 epochs\n",
      "                  validation\n",
      " - Yaw          :   0.911939\n",
      " - Pitch        :   0.950394\n",
      " - Roll         :   0.786143\n",
      " - RMS          :   0.885607\n",
      " - 99% Tile     :   9.341086\n",
      "Save output signals into checkpoint/1122-Scene3-LSTM-SmallWindow-UseD/sample/0064.npy\n"
     ]
    },
    {
     "name": "stderr",
     "output_type": "stream",
     "text": [
      "[0065/0100] Train: 100%|███████████████████████████████| 72/72 [00:03<00:00, 19.11it/s, loss 0.9284]\n",
      "[0065/0100] Validation: 100%|██████████████████████| 76/76 [00:02<00:00, 35.04it/s, val_loss 4.5514]\n",
      "[0066/0100] Train:   0%|                                                     | 0/72 [00:00<?, ?it/s]"
     ]
    },
    {
     "name": "stdout",
     "output_type": "stream",
     "text": [
      "val_loss is not improved for 8 epochs\n",
      "                  validation\n",
      " - Yaw          :   0.905324\n",
      " - Pitch        :   0.900504\n",
      " - Roll         :   0.803193\n",
      " - RMS          :   0.870945\n",
      " - 99% Tile     :   9.270850\n",
      "Save output signals into checkpoint/1122-Scene3-LSTM-SmallWindow-UseD/sample/0065.npy\n"
     ]
    },
    {
     "name": "stderr",
     "output_type": "stream",
     "text": [
      "[0066/0100] Train: 100%|███████████████████████████████| 72/72 [00:03<00:00, 18.82it/s, loss 0.9350]\n",
      "[0066/0100] Validation: 100%|██████████████████████| 76/76 [00:02<00:00, 35.09it/s, val_loss 4.5502]\n",
      "[0067/0100] Train:   0%|                                                     | 0/72 [00:00<?, ?it/s]"
     ]
    },
    {
     "name": "stdout",
     "output_type": "stream",
     "text": [
      "val_loss is not improved for 9 epochs\n",
      "                  validation\n",
      " - Yaw          :   0.915976\n",
      " - Pitch        :   0.910235\n",
      " - Roll         :   0.791275\n",
      " - RMS          :   0.874386\n",
      " - 99% Tile     :   9.177393\n",
      "Save output signals into checkpoint/1122-Scene3-LSTM-SmallWindow-UseD/sample/0066.npy\n"
     ]
    },
    {
     "name": "stderr",
     "output_type": "stream",
     "text": [
      "[0067/0100] Train: 100%|███████████████████████████████| 72/72 [00:03<00:00, 18.24it/s, loss 0.9233]\n",
      "[0067/0100] Validation: 100%|██████████████████████| 76/76 [00:02<00:00, 34.99it/s, val_loss 4.6467]"
     ]
    },
    {
     "name": "stdout",
     "output_type": "stream",
     "text": [
      "Decaying lr from 0.00025 to 0.000125 because val_loss did not improved for 5 epochs\n",
      "val_loss is not improved for 10 epochs\n",
      "Stop training because val_loss did not improved for 10 epochs\n",
      "                  validation\n",
      " - Yaw          :   0.931023\n",
      " - Pitch        :   0.930995\n",
      " - Roll         :   0.801092\n",
      " - RMS          :   0.889814\n",
      " - 99% Tile     :   9.187446\n",
      "Save output signals into checkpoint/1122-Scene3-LSTM-SmallWindow-UseD/sample/0067.npy\n"
     ]
    },
    {
     "name": "stderr",
     "output_type": "stream",
     "text": [
      "\n"
     ]
    }
   ],
   "source": [
    "trainer.fit(ds_train, ds_test, num_epochs=100, batch_size=256, shuffle=True, pin_memory=True)"
   ]
  },
  {
   "cell_type": "code",
   "execution_count": null,
   "metadata": {},
   "outputs": [],
   "source": []
  },
  {
   "cell_type": "code",
   "execution_count": null,
   "metadata": {},
   "outputs": [],
   "source": []
  }
 ],
 "metadata": {
  "kernelspec": {
   "display_name": "torch",
   "language": "python",
   "name": "torch"
  },
  "language_info": {
   "codemirror_mode": {
    "name": "ipython",
    "version": 3
   },
   "file_extension": ".py",
   "mimetype": "text/x-python",
   "name": "python",
   "nbconvert_exporter": "python",
   "pygments_lexer": "ipython3",
   "version": "3.7.9"
  }
 },
 "nbformat": 4,
 "nbformat_minor": 4
}
