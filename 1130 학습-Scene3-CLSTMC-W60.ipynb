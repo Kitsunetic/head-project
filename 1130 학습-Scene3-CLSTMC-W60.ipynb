{
 "cells": [
  {
   "cell_type": "markdown",
   "metadata": {},
   "source": [
    "# 학습 결과\n",
    "\n",
    "user1의 scene 1~3만 사용해서 학습\n",
    "\n",
    "scene보다 user가 많기 때문에 데이터의 양이 확연히 줄어듬에도 불구하고 성능이 괜찮음.  \n",
    "적은 데이터 특화됐기 때문인지는 모르겠다.\n",
    "\n",
    "나머지 scene에 대해서도 잘 학습을 하면서 user에 대해서도 특화된다면 성능을 상당히 끌어올릴 수 있을 것으로 기대됨.  \n",
    "--> curriculum learning"
   ]
  },
  {
   "cell_type": "code",
   "execution_count": 1,
   "metadata": {},
   "outputs": [],
   "source": [
    "from multiprocessing import cpu_count\n",
    "from pathlib import Path\n",
    "from typing import List, Union, AnyStr\n",
    "from math import pi\n",
    "import pickle\n",
    "\n",
    "import numpy as np\n",
    "import torch\n",
    "import matplotlib.pyplot as plt\n",
    "import torch.nn as nn\n",
    "from sklearn import model_selection\n",
    "from tqdm import tqdm\n",
    "import torch_optimizer\n",
    "from torch.utils.data import Dataset\n",
    "import pandas as pd\n",
    "import random\n",
    "\n",
    "import torch_burn as tb\n",
    "import utils"
   ]
  },
  {
   "cell_type": "code",
   "execution_count": 2,
   "metadata": {},
   "outputs": [],
   "source": [
    "tb.seed_everything(0)"
   ]
  },
  {
   "cell_type": "code",
   "execution_count": 3,
   "metadata": {},
   "outputs": [],
   "source": [
    "EXPERIMENT_NAME = '1130-Scene3-CLSTMC-win60'\n",
    "CHECKPOINT_DIR = Path('checkpoint', EXPERIMENT_NAME)\n",
    "CHECKPOINT_DIR.mkdir(parents=True, exist_ok=True)\n",
    "\n",
    "DATA_DIR = Path('data/1116')\n",
    "TRAIN_FILES = sorted(list(DATA_DIR.glob('*scene3_0.csv')))\n",
    "TEST_FILES = sorted(list(DATA_DIR.glob('*scene3_1.csv')))"
   ]
  },
  {
   "cell_type": "markdown",
   "metadata": {},
   "source": [
    "# 데이터셋 생성\n",
    "\n",
    "scene1에 대해서 모든 user의 데이터를 하나로 합친다."
   ]
  },
  {
   "cell_type": "code",
   "execution_count": 4,
   "metadata": {},
   "outputs": [],
   "source": [
    "WINDOW_SIZE = 60"
   ]
  },
  {
   "cell_type": "code",
   "execution_count": 5,
   "metadata": {},
   "outputs": [],
   "source": [
    "class CSVSequentialDataset(Dataset):\n",
    "    def __init__(self, csvfile, window_size, stride):\n",
    "        super(CSVSequentialDataset, self).__init__()\n",
    "\n",
    "        self.xcols = ['input_orientation_yaw', 'input_orientation_pitch', 'input_orientation_roll',\n",
    "                      'acceleration_x', 'acceleration_y', 'acceleration_z']\n",
    "        self.ycols = ['input_orientation_yaw', 'input_orientation_pitch', 'input_orientation_roll']\n",
    "\n",
    "        self.csv = pd.read_csv(csvfile)\n",
    "        self.window_size = window_size\n",
    "        \n",
    "        self.indexes = []\n",
    "        i = 0\n",
    "        while i <= len(self.csv) - window_size * 2:\n",
    "            self.indexes.append((i, i + window_size))\n",
    "            i += stride\n",
    "\n",
    "    def __len__(self):\n",
    "        return len(self.indexes)\n",
    "\n",
    "    def __getitem__(self, idx):\n",
    "        sx, tx = self.indexes[idx]\n",
    "        sy, ty = sx + WINDOW_SIZE, tx + WINDOW_SIZE\n",
    "        x = self.csv.iloc[sx:tx][self.xcols].to_numpy()\n",
    "        y = self.csv.iloc[sy:ty][self.ycols].to_numpy()\n",
    "\n",
    "        x = torch.tensor(x, dtype=torch.float32) # 300, 6\n",
    "        y = torch.tensor(y, dtype=torch.float32) # 300, 3\n",
    "\n",
    "        return x, y"
   ]
  },
  {
   "cell_type": "code",
   "execution_count": 6,
   "metadata": {},
   "outputs": [],
   "source": [
    "ds_train = [CSVSequentialDataset(f, window_size=WINDOW_SIZE, stride=5) for f in TRAIN_FILES]\n",
    "ds_train = tb.data.ChainDataset(*ds_train)\n",
    "ds_test = [CSVSequentialDataset(f, window_size=WINDOW_SIZE, stride=5) for f in TEST_FILES]\n",
    "ds_test = tb.data.ChainDataset(*ds_test)"
   ]
  },
  {
   "cell_type": "code",
   "execution_count": 7,
   "metadata": {},
   "outputs": [
    {
     "data": {
      "text/plain": [
       "(11239, 10839)"
      ]
     },
     "execution_count": 7,
     "metadata": {},
     "output_type": "execute_result"
    }
   ],
   "source": [
    "len(ds_train), len(ds_test)"
   ]
  },
  {
   "cell_type": "code",
   "execution_count": 8,
   "metadata": {},
   "outputs": [
    {
     "data": {
      "text/plain": [
       "(torch.Size([60, 6]), torch.Size([60, 3]))"
      ]
     },
     "execution_count": 8,
     "metadata": {},
     "output_type": "execute_result"
    }
   ],
   "source": [
    "ds_train[0][0].shape, ds_train[0][1].shape"
   ]
  },
  {
   "cell_type": "code",
   "execution_count": 9,
   "metadata": {},
   "outputs": [],
   "source": [
    "x, y = ds_train[0]"
   ]
  },
  {
   "cell_type": "code",
   "execution_count": 10,
   "metadata": {},
   "outputs": [
    {
     "data": {
      "text/plain": [
       "(torch.Size([60, 6]), torch.Size([60, 3]))"
      ]
     },
     "execution_count": 10,
     "metadata": {},
     "output_type": "execute_result"
    }
   ],
   "source": [
    "x.shape, y.shape"
   ]
  },
  {
   "cell_type": "code",
   "execution_count": 11,
   "metadata": {},
   "outputs": [
    {
     "data": {
      "text/plain": [
       "[<matplotlib.lines.Line2D at 0x7f8ff1bc8dd0>]"
      ]
     },
     "execution_count": 11,
     "metadata": {},
     "output_type": "execute_result"
    },
    {
     "data": {
      "image/png": "[encoded data removed]",
      "text/plain": [
       "<Figure size 432x288 with 1 Axes>"
      ]
     },
     "metadata": {
      "needs_background": "light"
     },
     "output_type": "display_data"
    }
   ],
   "source": [
    "plt.plot(x[:, 2])"
   ]
  },
  {
   "cell_type": "code",
   "execution_count": 12,
   "metadata": {},
   "outputs": [
    {
     "data": {
      "text/plain": [
       "[<matplotlib.lines.Line2D at 0x7f8ff1ac4c10>]"
      ]
     },
     "execution_count": 12,
     "metadata": {},
     "output_type": "execute_result"
    },
    {
     "data": {
      "image/png": "[encoded data removed]",
      "text/plain": [
       "<Figure size 432x288 with 1 Axes>"
      ]
     },
     "metadata": {
      "needs_background": "light"
     },
     "output_type": "display_data"
    }
   ],
   "source": [
    "plt.plot(y[:, 2])"
   ]
  },
  {
   "cell_type": "markdown",
   "metadata": {},
   "source": [
    "# 모델 생성"
   ]
  },
  {
   "cell_type": "code",
   "execution_count": 13,
   "metadata": {},
   "outputs": [],
   "source": [
    "class ResBlock1d(nn.Module):\n",
    "    def __init__(self, inchannels, channels, kernel_size):\n",
    "        super(ResBlock1d, self).__init__()\n",
    "\n",
    "        self.conv1 = nn.Sequential(\n",
    "            nn.Conv1d(inchannels, channels, kernel_size, padding=kernel_size // 2),\n",
    "            nn.BatchNorm1d(channels),\n",
    "            nn.LeakyReLU(),\n",
    "            nn.Conv1d(channels, channels, kernel_size, padding=kernel_size // 2),\n",
    "            nn.BatchNorm1d(channels)\n",
    "        )\n",
    "        self.conv2 = nn.Sequential(\n",
    "            nn.Conv1d(inchannels, channels, 1),\n",
    "            nn.BatchNorm1d(channels)\n",
    "        )\n",
    "        self.act = nn.LeakyReLU()\n",
    "\n",
    "    def forward(self, x):\n",
    "        identity = x\n",
    "\n",
    "        x = self.conv1(x)\n",
    "        identity = self.conv2(identity)\n",
    "        x += identity\n",
    "        x = self.act(x)\n",
    "\n",
    "        return x"
   ]
  },
  {
   "cell_type": "code",
   "execution_count": 14,
   "metadata": {},
   "outputs": [],
   "source": [
    "class CLSTMC(nn.Module):\n",
    "    def __init__(self):\n",
    "        super(CLSTMC, self).__init__()\n",
    "\n",
    "        self.conv_in = nn.Sequential(\n",
    "            nn.Conv1d(6, 24, 3, padding=1, groups=2),\n",
    "            nn.BatchNorm1d(24),\n",
    "            nn.LeakyReLU(),\n",
    "            nn.Conv1d(24, 48, 3, padding=1, groups=2),\n",
    "            nn.BatchNorm1d(48),\n",
    "            nn.LeakyReLU(),\n",
    "            nn.Conv1d(48, 64, 3, padding=1),\n",
    "            nn.BatchNorm1d(64),\n",
    "        )\n",
    "\n",
    "        self.rnn = nn.LSTM(input_size=64,\n",
    "                           hidden_size=64,\n",
    "                           num_layers=6,\n",
    "                           batch_first=True,\n",
    "                           dropout=0,\n",
    "                           bidirectional=True)\n",
    "\n",
    "        self.conv_out = nn.Sequential(\n",
    "            ResBlock1d(128, 64, 3),\n",
    "            nn.Conv1d(64, 3, 1)\n",
    "        )\n",
    "\n",
    "    def forward(self, x):\n",
    "        x = x.transpose(1, 2)  # B, S, 6 --> B, 6, S\n",
    "        x = self.conv_in(x)  # B, 6, S\n",
    "        x = x.transpose(1, 2)  # B, S, 6\n",
    "\n",
    "        outs, (hiddens, cells) = self.rnn(x)  # B, S, 128\n",
    "        x = outs.transpose(1, 2)  # B, 128, S\n",
    "        x = self.conv_out(x) # (B, 3, S)\n",
    "        x = x.transpose(1, 2) # (B, S, 3)\n",
    "\n",
    "        return x"
   ]
  },
  {
   "cell_type": "code",
   "execution_count": 15,
   "metadata": {},
   "outputs": [],
   "source": [
    "model = CLSTMC().cuda()"
   ]
  },
  {
   "cell_type": "code",
   "execution_count": 16,
   "metadata": {},
   "outputs": [],
   "source": [
    "criterion = nn.MSELoss().cuda()\n",
    "optimizer = torch_optimizer.RAdam(model.parameters())"
   ]
  },
  {
   "cell_type": "code",
   "execution_count": 17,
   "metadata": {},
   "outputs": [],
   "source": [
    "class HPMetric(tb.metrics.InvisibleMetric):\n",
    "    def __init__(self, name: str):\n",
    "        super(HPMetric, self).__init__(name)\n",
    "\n",
    "        self.diff = []\n",
    "\n",
    "    def on_valid_epoch_end(self, epoch: int, logs: dict):\n",
    "        # RMS, 99% tile 출력\n",
    "        yaw_v, pitch_v, roll_v, rms_v, tile99_v = self._calc_values(self.diff)\n",
    "\n",
    "        print(f'                  validation')\n",
    "        print(f' - Yaw          : {yaw_v:10f}')\n",
    "        print(f' - Pitch        : {pitch_v:10f}')\n",
    "        print(f' - Roll         : {roll_v:10f}')\n",
    "        print(f' - RMS          : {rms_v:10f}')\n",
    "        print(f' - 99% Tile     : {tile99_v:10f}')\n",
    "\n",
    "        self.diff.clear()\n",
    "\n",
    "    def get_value(self, outputs: torch.Tensor, targets: torch.Tensor, is_train: bool):\n",
    "        if not is_train:\n",
    "            self.diff.append((outputs - targets).mean(1).detach().cpu())  # (B, S, 3) --> (B, 3)\n",
    "\n",
    "    @staticmethod\n",
    "    def _calc_values(diff):\n",
    "        diff = torch.cat(diff).abs_()  # (D, 3)\n",
    "        rms = (diff.square().sum(1) / 3).sqrt()\n",
    "        tile = rms.flatten().numpy()\n",
    "        tile99 = np.percentile(tile, 99)\n",
    "        \n",
    "        mrms = rms.mean()\n",
    "        \n",
    "        # diff = radian2degree(diff)\n",
    "        #tile = diff.flatten().numpy()\n",
    "        #tile99 = np.percentile(tile, 99)\n",
    "\n",
    "        mdiff = diff.mean(dim=0)\n",
    "        #rms = (mdiff.square().sum() / 3).sqrt()\n",
    "\n",
    "        return mdiff[0].item(), mdiff[1].item(), mdiff[2].item(), mrms.item(), tile99"
   ]
  },
  {
   "cell_type": "code",
   "execution_count": 18,
   "metadata": {},
   "outputs": [],
   "source": [
    "metrics = [tb.metrics.ModuleMetric(criterion, 'loss'),\n",
    "           HPMetric('hp_metric')]"
   ]
  },
  {
   "cell_type": "code",
   "execution_count": 19,
   "metadata": {},
   "outputs": [],
   "source": [
    "callbacks = [tb.callbacks.EarlyStopping(metrics[0]),\n",
    "             tb.callbacks.LRDecaying(optimizer, metrics[0], patience=3),\n",
    "             tb.callbacks.SaveCheckpoint({'model': model}, metrics[0], CHECKPOINT_DIR, 'best-ckpt.pth')]"
   ]
  },
  {
   "cell_type": "code",
   "execution_count": 20,
   "metadata": {},
   "outputs": [],
   "source": [
    "trainer = tb.Trainer(model, optimizer, metrics, callbacks, ncols=100)"
   ]
  },
  {
   "cell_type": "code",
   "execution_count": 21,
   "metadata": {},
   "outputs": [
    {
     "name": "stderr",
     "output_type": "stream",
     "text": [
      "[0001/0200] Train: 100%|█████████████████████████████| 44/44 [00:04<00:00, 10.17it/s, loss 258.8902]\n",
      "[0001/0200] Validation: 100%|████████████████████| 43/43 [00:01<00:00, 22.38it/s, val_loss 230.7424]\n",
      "[0002/0200] Train:   0%|                                                     | 0/44 [00:00<?, ?it/s]"
     ]
    },
    {
     "name": "stdout",
     "output_type": "stream",
     "text": [
      "Save checkpoint: val_loss decreased from inf to 230.74243572146395\n",
      "                  validation\n",
      " - Yaw          :  18.860281\n",
      " - Pitch        :  10.282300\n",
      " - Roll         :   2.469057\n",
      " - RMS          :  13.407048\n",
      " - 99% Tile     :  27.868676\n"
     ]
    },
    {
     "name": "stderr",
     "output_type": "stream",
     "text": [
      "[0002/0200] Train: 100%|█████████████████████████████| 44/44 [00:03<00:00, 12.08it/s, loss 223.6252]\n",
      "[0002/0200] Validation: 100%|████████████████████| 43/43 [00:02<00:00, 17.40it/s, val_loss 186.9022]\n",
      "[0003/0200] Train:   0%|                                                     | 0/44 [00:00<?, ?it/s]"
     ]
    },
    {
     "name": "stdout",
     "output_type": "stream",
     "text": [
      "Save checkpoint: val_loss decreased from 230.74243572146395 to 186.90217102405637\n",
      "                  validation\n",
      " - Yaw          :  16.924002\n",
      " - Pitch        :   9.208867\n",
      " - Roll         :   2.345369\n",
      " - RMS          :  12.037668\n",
      " - 99% Tile     :  24.738026\n"
     ]
    },
    {
     "name": "stderr",
     "output_type": "stream",
     "text": [
      "[0003/0200] Train: 100%|█████████████████████████████| 44/44 [00:04<00:00, 10.75it/s, loss 204.5100]\n",
      "[0003/0200] Validation: 100%|████████████████████| 43/43 [00:01<00:00, 23.20it/s, val_loss 168.7584]\n",
      "[0004/0200] Train:   0%|                                                     | 0/44 [00:00<?, ?it/s]"
     ]
    },
    {
     "name": "stdout",
     "output_type": "stream",
     "text": [
      "Save checkpoint: val_loss decreased from 186.90217102405637 to 168.75843119066815\n",
      "                  validation\n",
      " - Yaw          :  15.946064\n",
      " - Pitch        :   8.775132\n",
      " - Roll         :   2.284551\n",
      " - RMS          :  11.404649\n",
      " - 99% Tile     :  23.712265\n"
     ]
    },
    {
     "name": "stderr",
     "output_type": "stream",
     "text": [
      "[0004/0200] Train: 100%|█████████████████████████████| 44/44 [00:03<00:00, 11.69it/s, loss 185.0282]\n",
      "[0004/0200] Validation: 100%|████████████████████| 43/43 [00:02<00:00, 18.62it/s, val_loss 151.7468]\n",
      "[0005/0200] Train:   0%|                                                     | 0/44 [00:00<?, ?it/s]"
     ]
    },
    {
     "name": "stdout",
     "output_type": "stream",
     "text": [
      "Save checkpoint: val_loss decreased from 168.75843119066815 to 151.74683610783063\n",
      "                  validation\n",
      " - Yaw          :  15.037382\n",
      " - Pitch        :   8.182850\n",
      " - Roll         :   2.269956\n",
      " - RMS          :  10.790036\n",
      " - 99% Tile     :  22.492744\n"
     ]
    },
    {
     "name": "stderr",
     "output_type": "stream",
     "text": [
      "[0005/0200] Train: 100%|█████████████████████████████| 44/44 [00:03<00:00, 11.65it/s, loss 163.9707]\n",
      "[0005/0200] Validation: 100%|████████████████████| 43/43 [00:01<00:00, 23.63it/s, val_loss 137.9620]\n",
      "[0006/0200] Train:   0%|                                                     | 0/44 [00:00<?, ?it/s]"
     ]
    },
    {
     "name": "stdout",
     "output_type": "stream",
     "text": [
      "Save checkpoint: val_loss decreased from 151.74683610783063 to 137.96201892231787\n",
      "                  validation\n",
      " - Yaw          :  14.152567\n",
      " - Pitch        :   7.822139\n",
      " - Roll         :   2.306318\n",
      " - RMS          :  10.274271\n",
      " - 99% Tile     :  21.370944\n"
     ]
    },
    {
     "name": "stderr",
     "output_type": "stream",
     "text": [
      "[0006/0200] Train: 100%|█████████████████████████████| 44/44 [00:03<00:00, 11.62it/s, loss 143.9321]\n",
      "[0006/0200] Validation: 100%|████████████████████| 43/43 [00:02<00:00, 20.77it/s, val_loss 114.4050]\n",
      "[0007/0200] Train:   0%|                                                     | 0/44 [00:00<?, ?it/s]"
     ]
    },
    {
     "name": "stdout",
     "output_type": "stream",
     "text": [
      "Save checkpoint: val_loss decreased from 137.96201892231787 to 114.40502876459166\n",
      "                  validation\n",
      " - Yaw          :  12.634745\n",
      " - Pitch        :   6.953342\n",
      " - Roll         :   2.255165\n",
      " - RMS          :   9.181066\n",
      " - 99% Tile     :  20.062490\n"
     ]
    },
    {
     "name": "stderr",
     "output_type": "stream",
     "text": [
      "[0007/0200] Train: 100%|█████████████████████████████| 44/44 [00:03<00:00, 11.91it/s, loss 124.6915]\n",
      "[0007/0200] Validation: 100%|█████████████████████| 43/43 [00:01<00:00, 22.59it/s, val_loss 95.9449]\n",
      "[0008/0200] Train:   0%|                                                     | 0/44 [00:00<?, ?it/s]"
     ]
    },
    {
     "name": "stdout",
     "output_type": "stream",
     "text": [
      "Save checkpoint: val_loss decreased from 114.40502876459166 to 95.94486130115598\n",
      "                  validation\n",
      " - Yaw          :  11.043962\n",
      " - Pitch        :   6.623923\n",
      " - Roll         :   2.377056\n",
      " - RMS          :   8.312229\n",
      " - 99% Tile     :  19.390704\n"
     ]
    },
    {
     "name": "stderr",
     "output_type": "stream",
     "text": [
      "[0008/0200] Train: 100%|█████████████████████████████| 44/44 [00:03<00:00, 11.69it/s, loss 107.8431]\n",
      "[0008/0200] Validation: 100%|█████████████████████| 43/43 [00:01<00:00, 22.96it/s, val_loss 86.6701]\n",
      "[0009/0200] Train:   0%|                                                     | 0/44 [00:00<?, ?it/s]"
     ]
    },
    {
     "name": "stdout",
     "output_type": "stream",
     "text": [
      "Save checkpoint: val_loss decreased from 95.94486130115598 to 86.67009650829226\n",
      "                  validation\n",
      " - Yaw          :  10.325981\n",
      " - Pitch        :   5.886776\n",
      " - Roll         :   2.250752\n",
      " - RMS          :   7.744650\n",
      " - 99% Tile     :  18.394280\n"
     ]
    },
    {
     "name": "stderr",
     "output_type": "stream",
     "text": [
      "[0009/0200] Train: 100%|██████████████████████████████| 44/44 [00:03<00:00, 11.05it/s, loss 90.8882]\n",
      "[0009/0200] Validation: 100%|█████████████████████| 43/43 [00:01<00:00, 22.98it/s, val_loss 80.4936]\n",
      "[0010/0200] Train:   0%|                                                     | 0/44 [00:00<?, ?it/s]"
     ]
    },
    {
     "name": "stdout",
     "output_type": "stream",
     "text": [
      "Save checkpoint: val_loss decreased from 86.67009650829226 to 80.49355977080589\n",
      "                  validation\n",
      " - Yaw          :   9.961512\n",
      " - Pitch        :   5.864896\n",
      " - Roll         :   2.109816\n",
      " - RMS          :   7.497169\n",
      " - 99% Tile     :  17.700311\n"
     ]
    },
    {
     "name": "stderr",
     "output_type": "stream",
     "text": [
      "[0010/0200] Train: 100%|██████████████████████████████| 44/44 [00:03<00:00, 11.88it/s, loss 76.4460]\n",
      "[0010/0200] Validation: 100%|█████████████████████| 43/43 [00:01<00:00, 24.50it/s, val_loss 62.8411]\n",
      "[0011/0200] Train:   0%|                                                     | 0/44 [00:00<?, ?it/s]"
     ]
    },
    {
     "name": "stdout",
     "output_type": "stream",
     "text": [
      "Save checkpoint: val_loss decreased from 80.49355977080589 to 62.84112597620764\n",
      "                  validation\n",
      " - Yaw          :   7.855539\n",
      " - Pitch        :   4.972018\n",
      " - Roll         :   2.189605\n",
      " - RMS          :   6.241799\n",
      " - 99% Tile     :  17.525538\n"
     ]
    },
    {
     "name": "stderr",
     "output_type": "stream",
     "text": [
      "[0011/0200] Train: 100%|██████████████████████████████| 44/44 [00:04<00:00, 10.80it/s, loss 64.8233]\n",
      "[0011/0200] Validation: 100%|█████████████████████| 43/43 [00:01<00:00, 22.37it/s, val_loss 74.4857]\n",
      "[0012/0200] Train:   0%|                                                     | 0/44 [00:00<?, ?it/s]"
     ]
    },
    {
     "name": "stdout",
     "output_type": "stream",
     "text": [
      "val_loss is not improved for 1 epochs\n",
      "                  validation\n",
      " - Yaw          :   9.485983\n",
      " - Pitch        :   5.275303\n",
      " - Roll         :   2.237318\n",
      " - RMS          :   7.096261\n",
      " - 99% Tile     :  19.000759\n"
     ]
    },
    {
     "name": "stderr",
     "output_type": "stream",
     "text": [
      "[0012/0200] Train: 100%|██████████████████████████████| 44/44 [00:03<00:00, 11.61it/s, loss 55.6841]\n",
      "[0012/0200] Validation: 100%|█████████████████████| 43/43 [00:01<00:00, 23.36it/s, val_loss 56.7396]\n",
      "[0013/0200] Train:   0%|                                                     | 0/44 [00:00<?, ?it/s]"
     ]
    },
    {
     "name": "stdout",
     "output_type": "stream",
     "text": [
      "Save checkpoint: val_loss decreased from 62.84112597620764 to 56.73958907016488\n",
      "                  validation\n",
      " - Yaw          :   7.620317\n",
      " - Pitch        :   4.406131\n",
      " - Roll         :   1.961209\n",
      " - RMS          :   5.771031\n",
      " - 99% Tile     :  16.544773\n"
     ]
    },
    {
     "name": "stderr",
     "output_type": "stream",
     "text": [
      "[0013/0200] Train: 100%|██████████████████████████████| 44/44 [00:04<00:00,  9.75it/s, loss 46.0556]\n",
      "[0013/0200] Validation: 100%|█████████████████████| 43/43 [00:01<00:00, 22.60it/s, val_loss 55.4612]\n",
      "[0014/0200] Train:   0%|                                                     | 0/44 [00:00<?, ?it/s]"
     ]
    },
    {
     "name": "stdout",
     "output_type": "stream",
     "text": [
      "Save checkpoint: val_loss decreased from 56.73958907016488 to 55.46119246371957\n",
      "                  validation\n",
      " - Yaw          :   7.642090\n",
      " - Pitch        :   4.264328\n",
      " - Roll         :   1.845230\n",
      " - RMS          :   5.710660\n",
      " - 99% Tile     :  15.852653\n"
     ]
    },
    {
     "name": "stderr",
     "output_type": "stream",
     "text": [
      "[0014/0200] Train: 100%|██████████████████████████████| 44/44 [00:03<00:00, 11.94it/s, loss 40.0242]\n",
      "[0014/0200] Validation: 100%|█████████████████████| 43/43 [00:01<00:00, 23.56it/s, val_loss 57.3344]\n",
      "[0015/0200] Train:   0%|                                                     | 0/44 [00:00<?, ?it/s]"
     ]
    },
    {
     "name": "stdout",
     "output_type": "stream",
     "text": [
      "val_loss is not improved for 1 epochs\n",
      "                  validation\n",
      " - Yaw          :   8.013018\n",
      " - Pitch        :   3.726550\n",
      " - Roll         :   1.897906\n",
      " - RMS          :   5.679419\n",
      " - 99% Tile     :  17.271931\n"
     ]
    },
    {
     "name": "stderr",
     "output_type": "stream",
     "text": [
      "[0015/0200] Train: 100%|██████████████████████████████| 44/44 [00:04<00:00,  9.70it/s, loss 35.9477]\n",
      "[0015/0200] Validation: 100%|█████████████████████| 43/43 [00:02<00:00, 20.95it/s, val_loss 44.3462]\n",
      "[0016/0200] Train:   0%|                                                     | 0/44 [00:00<?, ?it/s]"
     ]
    },
    {
     "name": "stdout",
     "output_type": "stream",
     "text": [
      "Save checkpoint: val_loss decreased from 55.46119246371957 to 44.34620786267658\n",
      "                  validation\n",
      " - Yaw          :   6.384515\n",
      " - Pitch        :   2.920768\n",
      " - Roll         :   1.606447\n",
      " - RMS          :   4.590989\n",
      " - 99% Tile     :  16.437379\n"
     ]
    },
    {
     "name": "stderr",
     "output_type": "stream",
     "text": [
      "[0016/0200] Train: 100%|██████████████████████████████| 44/44 [00:03<00:00, 11.66it/s, loss 33.0757]\n",
      "[0016/0200] Validation: 100%|█████████████████████| 43/43 [00:01<00:00, 24.55it/s, val_loss 46.7808]\n",
      "[0017/0200] Train:   0%|                                                     | 0/44 [00:00<?, ?it/s]"
     ]
    },
    {
     "name": "stdout",
     "output_type": "stream",
     "text": [
      "val_loss is not improved for 1 epochs\n",
      "                  validation\n",
      " - Yaw          :   6.450899\n",
      " - Pitch        :   2.998429\n",
      " - Roll         :   1.690948\n",
      " - RMS          :   4.712637\n",
      " - 99% Tile     :  16.676292\n"
     ]
    },
    {
     "name": "stderr",
     "output_type": "stream",
     "text": [
      "[0017/0200] Train: 100%|██████████████████████████████| 44/44 [00:04<00:00, 10.23it/s, loss 30.5416]\n",
      "[0017/0200] Validation: 100%|█████████████████████| 43/43 [00:01<00:00, 22.68it/s, val_loss 45.9392]\n",
      "[0018/0200] Train:   0%|                                                     | 0/44 [00:00<?, ?it/s]"
     ]
    },
    {
     "name": "stdout",
     "output_type": "stream",
     "text": [
      "val_loss is not improved for 2 epochs\n",
      "                  validation\n",
      " - Yaw          :   6.508255\n",
      " - Pitch        :   3.108559\n",
      " - Roll         :   1.448189\n",
      " - RMS          :   4.672678\n",
      " - 99% Tile     :  16.789577\n"
     ]
    },
    {
     "name": "stderr",
     "output_type": "stream",
     "text": [
      "[0018/0200] Train: 100%|██████████████████████████████| 44/44 [00:03<00:00, 11.82it/s, loss 28.3645]\n",
      "[0018/0200] Validation: 100%|█████████████████████| 43/43 [00:01<00:00, 23.40it/s, val_loss 41.8944]\n",
      "[0019/0200] Train:   0%|                                                     | 0/44 [00:00<?, ?it/s]"
     ]
    },
    {
     "name": "stdout",
     "output_type": "stream",
     "text": [
      "Save checkpoint: val_loss decreased from 44.34620786267658 to 41.89435663888621\n",
      "                  validation\n",
      " - Yaw          :   6.145359\n",
      " - Pitch        :   2.634848\n",
      " - Roll         :   1.461817\n",
      " - RMS          :   4.357272\n",
      " - 99% Tile     :  16.371231\n"
     ]
    },
    {
     "name": "stderr",
     "output_type": "stream",
     "text": [
      "[0019/0200] Train: 100%|██████████████████████████████| 44/44 [00:04<00:00, 10.03it/s, loss 27.9410]\n",
      "[0019/0200] Validation: 100%|█████████████████████| 43/43 [00:01<00:00, 22.42it/s, val_loss 42.0789]\n",
      "[0020/0200] Train:   0%|                                                     | 0/44 [00:00<?, ?it/s]"
     ]
    },
    {
     "name": "stdout",
     "output_type": "stream",
     "text": [
      "val_loss is not improved for 1 epochs\n",
      "                  validation\n",
      " - Yaw          :   5.790156\n",
      " - Pitch        :   2.793037\n",
      " - Roll         :   1.395121\n",
      " - RMS          :   4.207069\n",
      " - 99% Tile     :  17.265470\n"
     ]
    },
    {
     "name": "stderr",
     "output_type": "stream",
     "text": [
      "[0020/0200] Train: 100%|██████████████████████████████| 44/44 [00:03<00:00, 12.13it/s, loss 26.5920]\n",
      "[0020/0200] Validation: 100%|█████████████████████| 43/43 [00:01<00:00, 23.82it/s, val_loss 47.9579]\n",
      "[0021/0200] Train:   0%|                                                     | 0/44 [00:00<?, ?it/s]"
     ]
    },
    {
     "name": "stdout",
     "output_type": "stream",
     "text": [
      "val_loss is not improved for 2 epochs\n",
      "                  validation\n",
      " - Yaw          :   6.758414\n",
      " - Pitch        :   2.682750\n",
      " - Roll         :   1.362198\n",
      " - RMS          :   4.682121\n",
      " - 99% Tile     :  18.128376\n"
     ]
    },
    {
     "name": "stderr",
     "output_type": "stream",
     "text": [
      "[0021/0200] Train: 100%|██████████████████████████████| 44/44 [00:04<00:00,  9.87it/s, loss 25.4759]\n",
      "[0021/0200] Validation: 100%|█████████████████████| 43/43 [00:01<00:00, 22.12it/s, val_loss 47.2205]\n",
      "[0022/0200] Train:   0%|                                                     | 0/44 [00:00<?, ?it/s]"
     ]
    },
    {
     "name": "stdout",
     "output_type": "stream",
     "text": [
      "Decaying lr from 0.001 to 0.0005 because val_loss did not improved for 3 epochs\n",
      "val_loss is not improved for 3 epochs\n",
      "                  validation\n",
      " - Yaw          :   6.305431\n",
      " - Pitch        :   2.483534\n",
      " - Roll         :   1.465594\n",
      " - RMS          :   4.417378\n",
      " - 99% Tile     :  18.266712\n"
     ]
    },
    {
     "name": "stderr",
     "output_type": "stream",
     "text": [
      "[0022/0200] Train: 100%|██████████████████████████████| 44/44 [00:03<00:00, 11.92it/s, loss 21.7279]\n",
      "[0022/0200] Validation: 100%|█████████████████████| 43/43 [00:01<00:00, 23.55it/s, val_loss 44.0034]\n",
      "[0023/0200] Train:   0%|                                                     | 0/44 [00:00<?, ?it/s]"
     ]
    },
    {
     "name": "stdout",
     "output_type": "stream",
     "text": [
      "val_loss is not improved for 4 epochs\n",
      "                  validation\n",
      " - Yaw          :   6.038969\n",
      " - Pitch        :   2.398459\n",
      " - Roll         :   1.220729\n",
      " - RMS          :   4.206264\n",
      " - 99% Tile     :  17.477798\n"
     ]
    },
    {
     "name": "stderr",
     "output_type": "stream",
     "text": [
      "[0023/0200] Train: 100%|██████████████████████████████| 44/44 [00:04<00:00,  9.81it/s, loss 20.1883]\n",
      "[0023/0200] Validation: 100%|█████████████████████| 43/43 [00:01<00:00, 22.82it/s, val_loss 44.3772]\n",
      "[0024/0200] Train:   0%|                                                     | 0/44 [00:00<?, ?it/s]"
     ]
    },
    {
     "name": "stdout",
     "output_type": "stream",
     "text": [
      "val_loss is not improved for 5 epochs\n",
      "                  validation\n",
      " - Yaw          :   6.335928\n",
      " - Pitch        :   2.343990\n",
      " - Roll         :   1.261639\n",
      " - RMS          :   4.325377\n",
      " - 99% Tile     :  17.153275\n"
     ]
    },
    {
     "name": "stderr",
     "output_type": "stream",
     "text": [
      "[0024/0200] Train: 100%|██████████████████████████████| 44/44 [00:03<00:00, 11.59it/s, loss 19.3198]\n",
      "[0024/0200] Validation: 100%|█████████████████████| 43/43 [00:01<00:00, 23.52it/s, val_loss 49.3377]\n",
      "[0025/0200] Train:   0%|                                                     | 0/44 [00:00<?, ?it/s]"
     ]
    },
    {
     "name": "stdout",
     "output_type": "stream",
     "text": [
      "Decaying lr from 0.0005 to 0.00025 because val_loss did not improved for 3 epochs\n",
      "val_loss is not improved for 6 epochs\n",
      "                  validation\n",
      " - Yaw          :   6.704123\n",
      " - Pitch        :   2.579410\n",
      " - Roll         :   1.224539\n",
      " - RMS          :   4.588908\n",
      " - 99% Tile     :  17.857634\n"
     ]
    },
    {
     "name": "stderr",
     "output_type": "stream",
     "text": [
      "[0025/0200] Train: 100%|██████████████████████████████| 44/44 [00:04<00:00,  9.77it/s, loss 18.1821]\n",
      "[0025/0200] Validation: 100%|█████████████████████| 43/43 [00:02<00:00, 20.80it/s, val_loss 45.2078]\n",
      "[0026/0200] Train:   0%|                                                     | 0/44 [00:00<?, ?it/s]"
     ]
    },
    {
     "name": "stdout",
     "output_type": "stream",
     "text": [
      "val_loss is not improved for 7 epochs\n",
      "                  validation\n",
      " - Yaw          :   6.138033\n",
      " - Pitch        :   2.365246\n",
      " - Roll         :   1.250930\n",
      " - RMS          :   4.240667\n",
      " - 99% Tile     :  17.206883\n"
     ]
    },
    {
     "name": "stderr",
     "output_type": "stream",
     "text": [
      "[0026/0200] Train: 100%|██████████████████████████████| 44/44 [00:03<00:00, 11.61it/s, loss 17.0889]\n",
      "[0026/0200] Validation: 100%|█████████████████████| 43/43 [00:01<00:00, 22.54it/s, val_loss 45.7432]\n",
      "[0027/0200] Train:   0%|                                                     | 0/44 [00:00<?, ?it/s]"
     ]
    },
    {
     "name": "stdout",
     "output_type": "stream",
     "text": [
      "val_loss is not improved for 8 epochs\n",
      "                  validation\n",
      " - Yaw          :   6.186842\n",
      " - Pitch        :   2.295334\n",
      " - Roll         :   1.244868\n",
      " - RMS          :   4.245268\n",
      " - 99% Tile     :  17.737052\n"
     ]
    },
    {
     "name": "stderr",
     "output_type": "stream",
     "text": [
      "[0027/0200] Train: 100%|██████████████████████████████| 44/44 [00:03<00:00, 11.09it/s, loss 18.3181]\n",
      "[0027/0200] Validation: 100%|█████████████████████| 43/43 [00:01<00:00, 22.98it/s, val_loss 46.5591]\n",
      "[0028/0200] Train:   0%|                                                     | 0/44 [00:00<?, ?it/s]"
     ]
    },
    {
     "name": "stdout",
     "output_type": "stream",
     "text": [
      "Decaying lr from 0.00025 to 0.000125 because val_loss did not improved for 3 epochs\n",
      "val_loss is not improved for 9 epochs\n",
      "                  validation\n",
      " - Yaw          :   6.305686\n",
      " - Pitch        :   2.346387\n",
      " - Roll         :   1.261407\n",
      " - RMS          :   4.316557\n",
      " - 99% Tile     :  17.780967\n"
     ]
    },
    {
     "name": "stderr",
     "output_type": "stream",
     "text": [
      "[0028/0200] Train: 100%|██████████████████████████████| 44/44 [00:03<00:00, 11.74it/s, loss 16.1204]\n",
      "[0028/0200] Validation: 100%|█████████████████████| 43/43 [00:01<00:00, 25.18it/s, val_loss 45.8778]"
     ]
    },
    {
     "name": "stdout",
     "output_type": "stream",
     "text": [
      "val_loss is not improved for 10 epochs\n",
      "Stop training because val_loss did not improved for 10 epochs\n",
      "                  validation\n",
      " - Yaw          :   6.210361\n",
      " - Pitch        :   2.308173\n",
      " - Roll         :   1.218019\n",
      " - RMS          :   4.258600\n",
      " - 99% Tile     :  17.654202\n"
     ]
    },
    {
     "name": "stderr",
     "output_type": "stream",
     "text": [
      "\n"
     ]
    }
   ],
   "source": [
    "trainer.fit(ds_train, ds_test, num_epochs=200, batch_size=256, shuffle=True, pin_memory=True)"
   ]
  },
  {
   "cell_type": "code",
   "execution_count": null,
   "metadata": {},
   "outputs": [],
   "source": []
  }
 ],
 "metadata": {
  "kernelspec": {
   "display_name": "torch",
   "language": "python",
   "name": "torch"
  },
  "language_info": {
   "codemirror_mode": {
    "name": "ipython",
    "version": 3
   },
   "file_extension": ".py",
   "mimetype": "text/x-python",
   "name": "python",
   "nbconvert_exporter": "python",
   "pygments_lexer": "ipython3",
   "version": "3.7.9"
  }
 },
 "nbformat": 4,
 "nbformat_minor": 4
}
