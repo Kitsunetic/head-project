{
 "cells": [
  {
   "cell_type": "code",
   "execution_count": 1,
   "metadata": {},
   "outputs": [],
   "source": [
    "from multiprocessing import cpu_count\n",
    "from pathlib import Path\n",
    "from typing import List, Union, AnyStr\n",
    "from math import pi\n",
    "import pickle\n",
    "\n",
    "import numpy as np\n",
    "import torch\n",
    "import matplotlib.pyplot as plt\n",
    "import torch.nn as nn\n",
    "from sklearn import model_selection\n",
    "from tqdm import tqdm\n",
    "import torch_optimizer\n",
    "from torch.utils.data import Dataset\n",
    "import pandas as pd\n",
    "import random\n",
    "\n",
    "import torch_burn as tb\n",
    "import utils"
   ]
  },
  {
   "cell_type": "code",
   "execution_count": 2,
   "metadata": {},
   "outputs": [
    {
     "data": {
      "text/plain": [
       "'0.0.3.13'"
      ]
     },
     "execution_count": 2,
     "metadata": {},
     "output_type": "execute_result"
    }
   ],
   "source": [
    "tb.__version__"
   ]
  },
  {
   "cell_type": "code",
   "execution_count": 3,
   "metadata": {},
   "outputs": [],
   "source": [
    "EXPERIMENT_NAME = '1122-Scene1-LSTM-SmallWindow-UseD'\n",
    "CHECKPOINT_DIR = Path('checkpoint', EXPERIMENT_NAME)\n",
    "CHECKPOINT_DIR.mkdir(parents=True, exist_ok=True)\n",
    "\n",
    "DATA_DIR = Path('data/1116')\n",
    "TRAIN_FILES = sorted(list(DATA_DIR.glob('*scene1_0.csv')))\n",
    "TEST_FILES = sorted(list(DATA_DIR.glob('*scene1_1.csv')))"
   ]
  },
  {
   "cell_type": "markdown",
   "metadata": {},
   "source": [
    "# 데이터셋 생성\n",
    "\n",
    "scene1에 대해서 모든 user의 데이터를 하나로 합친다."
   ]
  },
  {
   "cell_type": "code",
   "execution_count": 4,
   "metadata": {},
   "outputs": [],
   "source": [
    "WINDOW_SIZE = 48"
   ]
  },
  {
   "cell_type": "code",
   "execution_count": 5,
   "metadata": {},
   "outputs": [],
   "source": [
    "class CSVSequentialDataset(Dataset):\n",
    "    def __init__(self, csvfile,\n",
    "                 window_size=300, randomized_window_size=False,\n",
    "                 stride=30, randomized_stride=False):\n",
    "        super(CSVSequentialDataset, self).__init__()\n",
    "\n",
    "        self.xcols = ['input_orientation_yaw', 'input_orientation_pitch', 'input_orientation_roll',\n",
    "                      'acceleration_x', 'acceleration_y', 'acceleration_z',\n",
    "                      'dyaw', 'dpitch', 'droll']\n",
    "        self.ycols = ['input_orientation_yaw', 'input_orientation_pitch', 'input_orientation_roll']\n",
    "\n",
    "        self.csv = pd.read_csv(csvfile)\n",
    "        self.window_size = window_size\n",
    "\n",
    "        self.indexes = []\n",
    "        i = 0\n",
    "        while i <= len(self.csv) - window_size * 2:\n",
    "            if randomized_window_size:\n",
    "                self.indexes.append((i, i + random.randint(window_size // 2, window_size)))\n",
    "            else:\n",
    "                self.indexes.append((i, i + window_size))\n",
    "\n",
    "            if randomized_stride:\n",
    "                i += random.randint(1, stride)\n",
    "            else:\n",
    "                i += stride\n",
    "\n",
    "    def __len__(self):\n",
    "        return len(self.indexes)\n",
    "\n",
    "    def __getitem__(self, idx):\n",
    "        s, t = self.indexes[idx]\n",
    "        x = self.csv.iloc[s:t][self.xcols].to_numpy()\n",
    "        y = self.csv.iloc[t + 6][self.ycols].to_numpy()\n",
    "\n",
    "        x = torch.tensor(x, dtype=torch.float32) # 300, 6\n",
    "        y = torch.tensor(y, dtype=torch.float32) # 3\n",
    "        \n",
    "        #x[:, :3] *= pi / 180\n",
    "        x[:, 3:] /= 10\n",
    "\n",
    "        return x, y"
   ]
  },
  {
   "cell_type": "code",
   "execution_count": 6,
   "metadata": {},
   "outputs": [],
   "source": [
    "ds_train = [CSVSequentialDataset(f,  \n",
    "                                 window_size=WINDOW_SIZE, randomized_window_size=False,\n",
    "                                 stride=5, randomized_stride=True) for f in TRAIN_FILES]\n",
    "ds_train = tb.data.ChainDataset(*ds_train)\n",
    "ds_test = [CSVSequentialDataset(f,  \n",
    "                                window_size=WINDOW_SIZE, randomized_window_size=False,\n",
    "                                stride=5, randomized_stride=True) for f in TEST_FILES]\n",
    "ds_test = tb.data.ChainDataset(*ds_test)"
   ]
  },
  {
   "cell_type": "code",
   "execution_count": 7,
   "metadata": {},
   "outputs": [
    {
     "data": {
      "text/plain": [
       "(18521, 19200)"
      ]
     },
     "execution_count": 7,
     "metadata": {},
     "output_type": "execute_result"
    }
   ],
   "source": [
    "len(ds_train), len(ds_test)"
   ]
  },
  {
   "cell_type": "code",
   "execution_count": 8,
   "metadata": {},
   "outputs": [
    {
     "data": {
      "text/plain": [
       "(torch.Size([48, 9]), torch.Size([3]))"
      ]
     },
     "execution_count": 8,
     "metadata": {},
     "output_type": "execute_result"
    }
   ],
   "source": [
    "ds_train[0][0].shape, ds_train[0][1].shape"
   ]
  },
  {
   "cell_type": "code",
   "execution_count": 9,
   "metadata": {},
   "outputs": [],
   "source": [
    "x, y = ds_train[0]"
   ]
  },
  {
   "cell_type": "code",
   "execution_count": 10,
   "metadata": {},
   "outputs": [
    {
     "data": {
      "text/plain": [
       "torch.Size([48, 9])"
      ]
     },
     "execution_count": 10,
     "metadata": {},
     "output_type": "execute_result"
    }
   ],
   "source": [
    "x.shape"
   ]
  },
  {
   "cell_type": "code",
   "execution_count": 11,
   "metadata": {},
   "outputs": [
    {
     "data": {
      "text/plain": [
       "[<matplotlib.lines.Line2D at 0x7f6d35f1a110>]"
      ]
     },
     "execution_count": 11,
     "metadata": {},
     "output_type": "execute_result"
    },
    {
     "data": {
      "image/png": "[encoded data removed]",
      "text/plain": [
       "<Figure size 432x288 with 1 Axes>"
      ]
     },
     "metadata": {
      "needs_background": "light"
     },
     "output_type": "display_data"
    }
   ],
   "source": [
    "plt.plot(x[:, 2])"
   ]
  },
  {
   "cell_type": "code",
   "execution_count": 12,
   "metadata": {},
   "outputs": [],
   "source": [
    "model = utils.BaselineLSTM(input_size=9,\n",
    "                           hidden_size=64,\n",
    "                           num_layers=8,\n",
    "                           dropout=0.2,\n",
    "                           bidirectional=True).cuda()"
   ]
  },
  {
   "cell_type": "code",
   "execution_count": 13,
   "metadata": {},
   "outputs": [],
   "source": [
    "criterion = nn.MSELoss().cuda()\n",
    "optimizer = torch_optimizer.RAdam(model.parameters())"
   ]
  },
  {
   "cell_type": "code",
   "execution_count": 14,
   "metadata": {},
   "outputs": [],
   "source": [
    "metrics = [tb.metrics.ModuleMetric(criterion, 'loss'),\n",
    "           utils.HPMetric('hp_metric'),\n",
    "           utils.HPSignalHistory(CHECKPOINT_DIR / 'sample' / '{epoch:04d}.npy', 'hp_signal')]"
   ]
  },
  {
   "cell_type": "code",
   "execution_count": 15,
   "metadata": {},
   "outputs": [],
   "source": [
    "callbacks = [tb.callbacks.EarlyStopping(metrics[0]),\n",
    "             tb.callbacks.LRDecaying(optimizer, metrics[0])]"
   ]
  },
  {
   "cell_type": "code",
   "execution_count": 16,
   "metadata": {},
   "outputs": [],
   "source": [
    "trainer = tb.Trainer(model, optimizer, metrics, callbacks, ncols=100)"
   ]
  },
  {
   "cell_type": "code",
   "execution_count": 17,
   "metadata": {},
   "outputs": [
    {
     "name": "stderr",
     "output_type": "stream",
     "text": [
      "[0001/0100] Train: 100%|█████████████████████████████| 73/73 [00:03<00:00, 19.23it/s, loss 195.3114]\n",
      "[0001/0100] Validation: 100%|████████████████████| 75/75 [00:02<00:00, 36.06it/s, val_loss 143.9752]\n",
      "[0002/0100] Train:   0%|                                                     | 0/73 [00:00<?, ?it/s]"
     ]
    },
    {
     "name": "stdout",
     "output_type": "stream",
     "text": [
      "                  validation\n",
      " - Yaw          :   9.431161\n",
      " - Pitch        :  12.012720\n",
      " - Roll         :   3.100329\n",
      " - RMS          :   8.997487\n",
      " - 99% Tile     :  43.677600\n",
      "Save output signals into checkpoint/1122-Scene1-LSTM-SmallWindow-UseD/sample/0001.npy\n"
     ]
    },
    {
     "name": "stderr",
     "output_type": "stream",
     "text": [
      "[0002/0100] Train: 100%|█████████████████████████████| 73/73 [00:03<00:00, 19.48it/s, loss 158.8367]\n",
      "[0002/0100] Validation: 100%|████████████████████| 75/75 [00:02<00:00, 36.05it/s, val_loss 110.2830]\n",
      "[0003/0100] Train:   0%|                                                     | 0/73 [00:00<?, ?it/s]"
     ]
    },
    {
     "name": "stdout",
     "output_type": "stream",
     "text": [
      "                  validation\n",
      " - Yaw          :   9.329394\n",
      " - Pitch        :   8.757336\n",
      " - Roll         :   3.098619\n",
      " - RMS          :   7.601096\n",
      " - 99% Tile     :  40.997388\n",
      "Save output signals into checkpoint/1122-Scene1-LSTM-SmallWindow-UseD/sample/0002.npy\n"
     ]
    },
    {
     "name": "stderr",
     "output_type": "stream",
     "text": [
      "[0003/0100] Train: 100%|█████████████████████████████| 73/73 [00:03<00:00, 20.30it/s, loss 134.4285]\n",
      "[0003/0100] Validation: 100%|█████████████████████| 75/75 [00:02<00:00, 35.22it/s, val_loss 96.2335]\n",
      "[0004/0100] Train:   0%|                                                     | 0/73 [00:00<?, ?it/s]"
     ]
    },
    {
     "name": "stdout",
     "output_type": "stream",
     "text": [
      "                  validation\n",
      " - Yaw          :   9.157693\n",
      " - Pitch        :   7.679312\n",
      " - Roll         :   3.074466\n",
      " - RMS          :   7.124781\n",
      " - 99% Tile     :  38.452014\n",
      "Save output signals into checkpoint/1122-Scene1-LSTM-SmallWindow-UseD/sample/0003.npy\n"
     ]
    },
    {
     "name": "stderr",
     "output_type": "stream",
     "text": [
      "[0004/0100] Train: 100%|█████████████████████████████| 73/73 [00:03<00:00, 19.67it/s, loss 111.1839]\n",
      "[0004/0100] Validation: 100%|█████████████████████| 75/75 [00:02<00:00, 34.97it/s, val_loss 70.7682]\n",
      "[0005/0100] Train:   0%|                                                     | 0/73 [00:00<?, ?it/s]"
     ]
    },
    {
     "name": "stdout",
     "output_type": "stream",
     "text": [
      "                  validation\n",
      " - Yaw          :   5.930007\n",
      " - Pitch        :   7.029823\n",
      " - Roll         :   2.980671\n",
      " - RMS          :   5.581750\n",
      " - 99% Tile     :  33.967163\n",
      "Save output signals into checkpoint/1122-Scene1-LSTM-SmallWindow-UseD/sample/0004.npy\n"
     ]
    },
    {
     "name": "stderr",
     "output_type": "stream",
     "text": [
      "[0005/0100] Train: 100%|██████████████████████████████| 73/73 [00:03<00:00, 19.22it/s, loss 83.7007]\n",
      "[0005/0100] Validation: 100%|█████████████████████| 75/75 [00:02<00:00, 35.59it/s, val_loss 53.2751]\n",
      "[0006/0100] Train:   0%|                                                     | 0/73 [00:00<?, ?it/s]"
     ]
    },
    {
     "name": "stdout",
     "output_type": "stream",
     "text": [
      "                  validation\n",
      " - Yaw          :   4.979354\n",
      " - Pitch        :   5.272795\n",
      " - Roll         :   2.958759\n",
      " - RMS          :   4.522189\n",
      " - 99% Tile     :  31.637779\n",
      "Save output signals into checkpoint/1122-Scene1-LSTM-SmallWindow-UseD/sample/0005.npy\n"
     ]
    },
    {
     "name": "stderr",
     "output_type": "stream",
     "text": [
      "[0006/0100] Train: 100%|██████████████████████████████| 73/73 [00:03<00:00, 19.89it/s, loss 65.8909]\n",
      "[0006/0100] Validation: 100%|█████████████████████| 75/75 [00:02<00:00, 35.70it/s, val_loss 43.0252]\n",
      "[0007/0100] Train:   0%|                                                     | 0/73 [00:00<?, ?it/s]"
     ]
    },
    {
     "name": "stdout",
     "output_type": "stream",
     "text": [
      "                  validation\n",
      " - Yaw          :   4.149601\n",
      " - Pitch        :   4.401410\n",
      " - Roll         :   2.933189\n",
      " - RMS          :   3.881374\n",
      " - 99% Tile     :  28.507372\n",
      "Save output signals into checkpoint/1122-Scene1-LSTM-SmallWindow-UseD/sample/0006.npy\n"
     ]
    },
    {
     "name": "stderr",
     "output_type": "stream",
     "text": [
      "[0007/0100] Train: 100%|██████████████████████████████| 73/73 [00:03<00:00, 19.60it/s, loss 52.8234]\n",
      "[0007/0100] Validation: 100%|█████████████████████| 75/75 [00:02<00:00, 35.47it/s, val_loss 35.9269]\n",
      "[0008/0100] Train:   0%|                                                     | 0/73 [00:00<?, ?it/s]"
     ]
    },
    {
     "name": "stdout",
     "output_type": "stream",
     "text": [
      "                  validation\n",
      " - Yaw          :   3.472141\n",
      " - Pitch        :   3.718437\n",
      " - Roll         :   2.915672\n",
      " - RMS          :   3.385443\n",
      " - 99% Tile     :  26.447877\n",
      "Save output signals into checkpoint/1122-Scene1-LSTM-SmallWindow-UseD/sample/0007.npy\n"
     ]
    },
    {
     "name": "stderr",
     "output_type": "stream",
     "text": [
      "[0008/0100] Train: 100%|██████████████████████████████| 73/73 [00:03<00:00, 19.03it/s, loss 42.1305]\n",
      "[0008/0100] Validation: 100%|█████████████████████| 75/75 [00:02<00:00, 35.81it/s, val_loss 29.9429]\n",
      "[0009/0100] Train:   0%|                                                     | 0/73 [00:00<?, ?it/s]"
     ]
    },
    {
     "name": "stdout",
     "output_type": "stream",
     "text": [
      "                  validation\n",
      " - Yaw          :   3.080380\n",
      " - Pitch        :   3.196354\n",
      " - Roll         :   2.827036\n",
      " - RMS          :   3.038506\n",
      " - 99% Tile     :  24.320712\n",
      "Save output signals into checkpoint/1122-Scene1-LSTM-SmallWindow-UseD/sample/0008.npy\n"
     ]
    },
    {
     "name": "stderr",
     "output_type": "stream",
     "text": [
      "[0009/0100] Train: 100%|██████████████████████████████| 73/73 [00:03<00:00, 18.73it/s, loss 34.0940]\n",
      "[0009/0100] Validation: 100%|█████████████████████| 75/75 [00:02<00:00, 34.23it/s, val_loss 25.6393]\n",
      "[0010/0100] Train:   0%|                                                     | 0/73 [00:00<?, ?it/s]"
     ]
    },
    {
     "name": "stdout",
     "output_type": "stream",
     "text": [
      "                  validation\n",
      " - Yaw          :   2.834339\n",
      " - Pitch        :   2.552310\n",
      " - Roll         :   2.849918\n",
      " - RMS          :   2.748927\n",
      " - 99% Tile     :  22.142154\n",
      "Save output signals into checkpoint/1122-Scene1-LSTM-SmallWindow-UseD/sample/0009.npy\n"
     ]
    },
    {
     "name": "stderr",
     "output_type": "stream",
     "text": [
      "[0010/0100] Train: 100%|██████████████████████████████| 73/73 [00:05<00:00, 12.68it/s, loss 27.9221]\n",
      "[0010/0100] Validation: 100%|█████████████████████| 75/75 [00:02<00:00, 30.49it/s, val_loss 22.6652]\n",
      "[0011/0100] Train:   0%|                                                     | 0/73 [00:00<?, ?it/s]"
     ]
    },
    {
     "name": "stdout",
     "output_type": "stream",
     "text": [
      "                  validation\n",
      " - Yaw          :   2.375806\n",
      " - Pitch        :   2.379237\n",
      " - Roll         :   2.857802\n",
      " - RMS          :   2.547695\n",
      " - 99% Tile     :  20.712646\n",
      "Save output signals into checkpoint/1122-Scene1-LSTM-SmallWindow-UseD/sample/0010.npy\n"
     ]
    },
    {
     "name": "stderr",
     "output_type": "stream",
     "text": [
      "[0011/0100] Train: 100%|██████████████████████████████| 73/73 [00:06<00:00, 11.18it/s, loss 23.3044]\n",
      "[0011/0100] Validation: 100%|█████████████████████| 75/75 [00:02<00:00, 33.25it/s, val_loss 20.5900]\n",
      "[0012/0100] Train:   0%|                                                     | 0/73 [00:00<?, ?it/s]"
     ]
    },
    {
     "name": "stdout",
     "output_type": "stream",
     "text": [
      "                  validation\n",
      " - Yaw          :   2.156792\n",
      " - Pitch        :   2.131102\n",
      " - Roll         :   2.866246\n",
      " - RMS          :   2.408922\n",
      " - 99% Tile     :  19.466370\n",
      "Save output signals into checkpoint/1122-Scene1-LSTM-SmallWindow-UseD/sample/0011.npy\n"
     ]
    },
    {
     "name": "stderr",
     "output_type": "stream",
     "text": [
      "[0012/0100] Train: 100%|██████████████████████████████| 73/73 [00:06<00:00, 10.88it/s, loss 19.8625]\n",
      "[0012/0100] Validation: 100%|█████████████████████| 75/75 [00:02<00:00, 31.40it/s, val_loss 19.0258]\n",
      "[0013/0100] Train:   0%|                                                     | 0/73 [00:00<?, ?it/s]"
     ]
    },
    {
     "name": "stdout",
     "output_type": "stream",
     "text": [
      "                  validation\n",
      " - Yaw          :   2.113760\n",
      " - Pitch        :   1.950001\n",
      " - Roll         :   2.855835\n",
      " - RMS          :   2.339963\n",
      " - 99% Tile     :  18.654327\n",
      "Save output signals into checkpoint/1122-Scene1-LSTM-SmallWindow-UseD/sample/0012.npy\n"
     ]
    },
    {
     "name": "stderr",
     "output_type": "stream",
     "text": [
      "[0013/0100] Train: 100%|██████████████████████████████| 73/73 [00:06<00:00, 10.77it/s, loss 16.8667]\n",
      "[0013/0100] Validation: 100%|█████████████████████| 75/75 [00:02<00:00, 30.41it/s, val_loss 18.1461]\n",
      "[0014/0100] Train:   0%|                                                     | 0/73 [00:00<?, ?it/s]"
     ]
    },
    {
     "name": "stdout",
     "output_type": "stream",
     "text": [
      "                  validation\n",
      " - Yaw          :   2.110285\n",
      " - Pitch        :   1.935011\n",
      " - Roll         :   2.881923\n",
      " - RMS          :   2.345425\n",
      " - 99% Tile     :  18.171515\n",
      "Save output signals into checkpoint/1122-Scene1-LSTM-SmallWindow-UseD/sample/0013.npy\n"
     ]
    },
    {
     "name": "stderr",
     "output_type": "stream",
     "text": [
      "[0014/0100] Train: 100%|██████████████████████████████| 73/73 [00:06<00:00, 10.79it/s, loss 14.5314]\n",
      "[0014/0100] Validation: 100%|█████████████████████| 75/75 [00:02<00:00, 30.84it/s, val_loss 16.5985]\n",
      "[0015/0100] Train:   0%|                                                     | 0/73 [00:00<?, ?it/s]"
     ]
    },
    {
     "name": "stdout",
     "output_type": "stream",
     "text": [
      "                  validation\n",
      " - Yaw          :   1.714970\n",
      " - Pitch        :   1.692289\n",
      " - Roll         :   2.861160\n",
      " - RMS          :   2.159568\n",
      " - 99% Tile     :  17.801244\n",
      "Save output signals into checkpoint/1122-Scene1-LSTM-SmallWindow-UseD/sample/0014.npy\n"
     ]
    },
    {
     "name": "stderr",
     "output_type": "stream",
     "text": [
      "[0015/0100] Train: 100%|██████████████████████████████| 73/73 [00:06<00:00, 10.51it/s, loss 12.4973]\n",
      "[0015/0100] Validation: 100%|█████████████████████| 75/75 [00:02<00:00, 31.36it/s, val_loss 15.8746]\n",
      "[0016/0100] Train:   0%|                                                     | 0/73 [00:00<?, ?it/s]"
     ]
    },
    {
     "name": "stdout",
     "output_type": "stream",
     "text": [
      "                  validation\n",
      " - Yaw          :   1.675114\n",
      " - Pitch        :   1.804286\n",
      " - Roll         :   2.808435\n",
      " - RMS          :   2.156290\n",
      " - 99% Tile     :  17.511954\n",
      "Save output signals into checkpoint/1122-Scene1-LSTM-SmallWindow-UseD/sample/0015.npy\n"
     ]
    },
    {
     "name": "stderr",
     "output_type": "stream",
     "text": [
      "[0016/0100] Train: 100%|██████████████████████████████| 73/73 [00:06<00:00, 11.10it/s, loss 10.8384]\n",
      "[0016/0100] Validation: 100%|█████████████████████| 75/75 [00:02<00:00, 29.54it/s, val_loss 14.2849]\n",
      "[0017/0100] Train:   0%|                                                     | 0/73 [00:00<?, ?it/s]"
     ]
    },
    {
     "name": "stdout",
     "output_type": "stream",
     "text": [
      "                  validation\n",
      " - Yaw          :   1.570830\n",
      " - Pitch        :   1.571582\n",
      " - Roll         :   2.386831\n",
      " - RMS          :   1.882758\n",
      " - 99% Tile     :  16.705454\n",
      "Save output signals into checkpoint/1122-Scene1-LSTM-SmallWindow-UseD/sample/0016.npy\n"
     ]
    },
    {
     "name": "stderr",
     "output_type": "stream",
     "text": [
      "[0017/0100] Train: 100%|███████████████████████████████| 73/73 [00:06<00:00, 12.08it/s, loss 9.2014]\n",
      "[0017/0100] Validation: 100%|█████████████████████| 75/75 [00:02<00:00, 27.42it/s, val_loss 12.6063]\n",
      "[0018/0100] Train:   0%|                                                     | 0/73 [00:00<?, ?it/s]"
     ]
    },
    {
     "name": "stdout",
     "output_type": "stream",
     "text": [
      "                  validation\n",
      " - Yaw          :   1.473413\n",
      " - Pitch        :   1.476254\n",
      " - Roll         :   2.020122\n",
      " - RMS          :   1.676421\n",
      " - 99% Tile     :  16.029625\n",
      "Save output signals into checkpoint/1122-Scene1-LSTM-SmallWindow-UseD/sample/0017.npy\n"
     ]
    },
    {
     "name": "stderr",
     "output_type": "stream",
     "text": [
      "[0018/0100] Train: 100%|███████████████████████████████| 73/73 [00:06<00:00, 10.72it/s, loss 8.0707]\n",
      "[0018/0100] Validation: 100%|█████████████████████| 75/75 [00:03<00:00, 19.42it/s, val_loss 11.4961]\n",
      "[0019/0100] Train:   0%|                                                     | 0/73 [00:00<?, ?it/s]"
     ]
    },
    {
     "name": "stdout",
     "output_type": "stream",
     "text": [
      "                  validation\n",
      " - Yaw          :   1.472134\n",
      " - Pitch        :   1.598833\n",
      " - Roll         :   1.751696\n",
      " - RMS          :   1.611612\n",
      " - 99% Tile     :  15.115345\n",
      "Save output signals into checkpoint/1122-Scene1-LSTM-SmallWindow-UseD/sample/0018.npy\n"
     ]
    },
    {
     "name": "stderr",
     "output_type": "stream",
     "text": [
      "[0019/0100] Train: 100%|███████████████████████████████| 73/73 [00:09<00:00,  8.08it/s, loss 6.9674]\n",
      "[0019/0100] Validation: 100%|█████████████████████| 75/75 [00:05<00:00, 13.85it/s, val_loss 10.9022]\n",
      "[0020/0100] Train:   0%|                                                     | 0/73 [00:00<?, ?it/s]"
     ]
    },
    {
     "name": "stdout",
     "output_type": "stream",
     "text": [
      "                  validation\n",
      " - Yaw          :   1.504016\n",
      " - Pitch        :   1.344036\n",
      " - Roll         :   1.617594\n",
      " - RMS          :   1.492772\n",
      " - 99% Tile     :  14.981358\n",
      "Save output signals into checkpoint/1122-Scene1-LSTM-SmallWindow-UseD/sample/0019.npy\n"
     ]
    },
    {
     "name": "stderr",
     "output_type": "stream",
     "text": [
      "[0020/0100] Train: 100%|███████████████████████████████| 73/73 [00:09<00:00,  7.72it/s, loss 6.3330]\n",
      "[0020/0100] Validation: 100%|█████████████████████| 75/75 [00:06<00:00, 11.59it/s, val_loss 10.6728]\n",
      "[0021/0100] Train:   0%|                                                     | 0/73 [00:00<?, ?it/s]"
     ]
    },
    {
     "name": "stdout",
     "output_type": "stream",
     "text": [
      "                  validation\n",
      " - Yaw          :   1.403647\n",
      " - Pitch        :   1.488480\n",
      " - Roll         :   1.539530\n",
      " - RMS          :   1.478282\n",
      " - 99% Tile     :  14.238346\n",
      "Save output signals into checkpoint/1122-Scene1-LSTM-SmallWindow-UseD/sample/0020.npy\n"
     ]
    },
    {
     "name": "stderr",
     "output_type": "stream",
     "text": [
      "[0021/0100] Train: 100%|███████████████████████████████| 73/73 [00:10<00:00,  7.08it/s, loss 5.6726]\n",
      "[0021/0100] Validation: 100%|██████████████████████| 75/75 [00:05<00:00, 13.70it/s, val_loss 9.6546]\n",
      "[0022/0100] Train:   0%|                                                     | 0/73 [00:00<?, ?it/s]"
     ]
    },
    {
     "name": "stdout",
     "output_type": "stream",
     "text": [
      "                  validation\n",
      " - Yaw          :   1.305044\n",
      " - Pitch        :   1.362057\n",
      " - Roll         :   1.401111\n",
      " - RMS          :   1.356644\n",
      " - 99% Tile     :  13.548821\n",
      "Save output signals into checkpoint/1122-Scene1-LSTM-SmallWindow-UseD/sample/0021.npy\n"
     ]
    },
    {
     "name": "stderr",
     "output_type": "stream",
     "text": [
      "[0022/0100] Train: 100%|███████████████████████████████| 73/73 [00:09<00:00,  7.71it/s, loss 5.2409]\n",
      "[0022/0100] Validation: 100%|██████████████████████| 75/75 [00:06<00:00, 11.11it/s, val_loss 9.1317]\n",
      "[0023/0100] Train:   0%|                                                     | 0/73 [00:00<?, ?it/s]"
     ]
    },
    {
     "name": "stdout",
     "output_type": "stream",
     "text": [
      "                  validation\n",
      " - Yaw          :   1.355372\n",
      " - Pitch        :   1.308841\n",
      " - Roll         :   1.396559\n",
      " - RMS          :   1.354065\n",
      " - 99% Tile     :  13.534126\n",
      "Save output signals into checkpoint/1122-Scene1-LSTM-SmallWindow-UseD/sample/0022.npy\n"
     ]
    },
    {
     "name": "stderr",
     "output_type": "stream",
     "text": [
      "[0023/0100] Train: 100%|███████████████████████████████| 73/73 [00:09<00:00,  7.60it/s, loss 4.5469]\n",
      "[0023/0100] Validation: 100%|██████████████████████| 75/75 [00:06<00:00, 12.09it/s, val_loss 8.4316]\n",
      "[0024/0100] Train:   0%|                                                     | 0/73 [00:00<?, ?it/s]"
     ]
    },
    {
     "name": "stdout",
     "output_type": "stream",
     "text": [
      "                  validation\n",
      " - Yaw          :   1.260124\n",
      " - Pitch        :   1.306749\n",
      " - Roll         :   1.252698\n",
      " - RMS          :   1.273415\n",
      " - 99% Tile     :  12.411109\n",
      "Save output signals into checkpoint/1122-Scene1-LSTM-SmallWindow-UseD/sample/0023.npy\n"
     ]
    },
    {
     "name": "stderr",
     "output_type": "stream",
     "text": [
      "[0024/0100] Train: 100%|███████████████████████████████| 73/73 [00:09<00:00,  7.62it/s, loss 4.3230]\n",
      "[0024/0100] Validation: 100%|██████████████████████| 75/75 [00:06<00:00, 12.13it/s, val_loss 9.0131]\n",
      "[0025/0100] Train:   0%|                                                     | 0/73 [00:00<?, ?it/s]"
     ]
    },
    {
     "name": "stdout",
     "output_type": "stream",
     "text": [
      "val_loss is not improved for 1 epochs\n",
      "                  validation\n",
      " - Yaw          :   2.022911\n",
      " - Pitch        :   1.281374\n",
      " - Roll         :   1.196785\n",
      " - RMS          :   1.545573\n",
      " - 99% Tile     :  12.625662\n",
      "Save output signals into checkpoint/1122-Scene1-LSTM-SmallWindow-UseD/sample/0024.npy\n"
     ]
    },
    {
     "name": "stderr",
     "output_type": "stream",
     "text": [
      "[0025/0100] Train: 100%|███████████████████████████████| 73/73 [00:09<00:00,  7.54it/s, loss 3.8830]\n",
      "[0025/0100] Validation: 100%|██████████████████████| 75/75 [00:05<00:00, 13.36it/s, val_loss 8.0774]\n",
      "[0026/0100] Train:   0%|                                                     | 0/73 [00:00<?, ?it/s]"
     ]
    },
    {
     "name": "stdout",
     "output_type": "stream",
     "text": [
      "                  validation\n",
      " - Yaw          :   1.333979\n",
      " - Pitch        :   1.259124\n",
      " - Roll         :   1.045536\n",
      " - RMS          :   1.219021\n",
      " - 99% Tile     :  11.615197\n",
      "Save output signals into checkpoint/1122-Scene1-LSTM-SmallWindow-UseD/sample/0025.npy\n"
     ]
    },
    {
     "name": "stderr",
     "output_type": "stream",
     "text": [
      "[0026/0100] Train: 100%|███████████████████████████████| 73/73 [00:09<00:00,  7.66it/s, loss 3.5216]\n",
      "[0026/0100] Validation: 100%|██████████████████████| 75/75 [00:05<00:00, 14.78it/s, val_loss 7.2784]\n",
      "[0027/0100] Train:   0%|                                                     | 0/73 [00:00<?, ?it/s]"
     ]
    },
    {
     "name": "stdout",
     "output_type": "stream",
     "text": [
      "                  validation\n",
      " - Yaw          :   1.127359\n",
      " - Pitch        :   1.113646\n",
      " - Roll         :   1.104572\n",
      " - RMS          :   1.115232\n",
      " - 99% Tile     :  11.514332\n",
      "Save output signals into checkpoint/1122-Scene1-LSTM-SmallWindow-UseD/sample/0026.npy\n"
     ]
    },
    {
     "name": "stderr",
     "output_type": "stream",
     "text": [
      "[0027/0100] Train: 100%|███████████████████████████████| 73/73 [00:09<00:00,  7.74it/s, loss 3.2042]\n",
      "[0027/0100] Validation: 100%|██████████████████████| 75/75 [00:05<00:00, 14.42it/s, val_loss 7.3888]\n",
      "[0028/0100] Train:   0%|                                                     | 0/73 [00:00<?, ?it/s]"
     ]
    },
    {
     "name": "stdout",
     "output_type": "stream",
     "text": [
      "val_loss is not improved for 1 epochs\n",
      "                  validation\n",
      " - Yaw          :   1.184648\n",
      " - Pitch        :   1.220400\n",
      " - Roll         :   1.101606\n",
      " - RMS          :   1.169944\n",
      " - 99% Tile     :  12.033583\n",
      "Save output signals into checkpoint/1122-Scene1-LSTM-SmallWindow-UseD/sample/0027.npy\n"
     ]
    },
    {
     "name": "stderr",
     "output_type": "stream",
     "text": [
      "[0028/0100] Train: 100%|███████████████████████████████| 73/73 [00:09<00:00,  7.53it/s, loss 3.0690]\n",
      "[0028/0100] Validation: 100%|██████████████████████| 75/75 [00:05<00:00, 12.76it/s, val_loss 7.0078]\n",
      "[0029/0100] Train:   0%|                                                     | 0/73 [00:00<?, ?it/s]"
     ]
    },
    {
     "name": "stdout",
     "output_type": "stream",
     "text": [
      "                  validation\n",
      " - Yaw          :   1.363317\n",
      " - Pitch        :   1.115189\n",
      " - Roll         :   1.020396\n",
      " - RMS          :   1.175229\n",
      " - 99% Tile     :  11.532200\n",
      "Save output signals into checkpoint/1122-Scene1-LSTM-SmallWindow-UseD/sample/0028.npy\n"
     ]
    },
    {
     "name": "stderr",
     "output_type": "stream",
     "text": [
      "[0029/0100] Train: 100%|███████████████████████████████| 73/73 [00:09<00:00,  7.31it/s, loss 2.8924]\n",
      "[0029/0100] Validation: 100%|██████████████████████| 75/75 [00:05<00:00, 14.25it/s, val_loss 6.9765]\n",
      "[0030/0100] Train:   0%|                                                     | 0/73 [00:00<?, ?it/s]"
     ]
    },
    {
     "name": "stdout",
     "output_type": "stream",
     "text": [
      "                  validation\n",
      " - Yaw          :   1.057282\n",
      " - Pitch        :   1.280935\n",
      " - Roll         :   1.015306\n",
      " - RMS          :   1.123905\n",
      " - 99% Tile     :  11.325085\n",
      "Save output signals into checkpoint/1122-Scene1-LSTM-SmallWindow-UseD/sample/0029.npy\n"
     ]
    },
    {
     "name": "stderr",
     "output_type": "stream",
     "text": [
      "[0030/0100] Train: 100%|███████████████████████████████| 73/73 [00:10<00:00,  7.28it/s, loss 2.6029]\n",
      "[0030/0100] Validation: 100%|██████████████████████| 75/75 [00:05<00:00, 14.04it/s, val_loss 6.3213]\n",
      "[0031/0100] Train:   0%|                                                     | 0/73 [00:00<?, ?it/s]"
     ]
    },
    {
     "name": "stdout",
     "output_type": "stream",
     "text": [
      "                  validation\n",
      " - Yaw          :   0.989353\n",
      " - Pitch        :   1.073113\n",
      " - Roll         :   0.969118\n",
      " - RMS          :   1.011530\n",
      " - 99% Tile     :  10.854965\n",
      "Save output signals into checkpoint/1122-Scene1-LSTM-SmallWindow-UseD/sample/0030.npy\n"
     ]
    },
    {
     "name": "stderr",
     "output_type": "stream",
     "text": [
      "[0031/0100] Train: 100%|███████████████████████████████| 73/73 [00:09<00:00,  7.73it/s, loss 2.5024]\n",
      "[0031/0100] Validation: 100%|██████████████████████| 75/75 [00:06<00:00, 12.50it/s, val_loss 6.7042]\n",
      "[0032/0100] Train:   0%|                                                     | 0/73 [00:00<?, ?it/s]"
     ]
    },
    {
     "name": "stdout",
     "output_type": "stream",
     "text": [
      "val_loss is not improved for 1 epochs\n",
      "                  validation\n",
      " - Yaw          :   1.050525\n",
      " - Pitch        :   1.368830\n",
      " - Roll         :   0.950619\n",
      " - RMS          :   1.137391\n",
      " - 99% Tile     :  11.071082\n",
      "Save output signals into checkpoint/1122-Scene1-LSTM-SmallWindow-UseD/sample/0031.npy\n"
     ]
    },
    {
     "name": "stderr",
     "output_type": "stream",
     "text": [
      "[0032/0100] Train: 100%|███████████████████████████████| 73/73 [00:10<00:00,  6.83it/s, loss 2.4101]\n",
      "[0032/0100] Validation: 100%|██████████████████████| 75/75 [00:05<00:00, 13.76it/s, val_loss 6.3592]\n",
      "[0033/0100] Train:   0%|                                                     | 0/73 [00:00<?, ?it/s]"
     ]
    },
    {
     "name": "stdout",
     "output_type": "stream",
     "text": [
      "val_loss is not improved for 2 epochs\n",
      "                  validation\n",
      " - Yaw          :   1.176929\n",
      " - Pitch        :   0.994560\n",
      " - Roll         :   0.927982\n",
      " - RMS          :   1.038503\n",
      " - 99% Tile     :  11.163508\n",
      "Save output signals into checkpoint/1122-Scene1-LSTM-SmallWindow-UseD/sample/0032.npy\n"
     ]
    },
    {
     "name": "stderr",
     "output_type": "stream",
     "text": [
      "[0033/0100] Train: 100%|███████████████████████████████| 73/73 [00:10<00:00,  6.96it/s, loss 2.3138]\n",
      "[0033/0100] Validation: 100%|██████████████████████| 75/75 [00:04<00:00, 15.06it/s, val_loss 5.8590]\n",
      "[0034/0100] Train:   0%|                                                     | 0/73 [00:00<?, ?it/s]"
     ]
    },
    {
     "name": "stdout",
     "output_type": "stream",
     "text": [
      "                  validation\n",
      " - Yaw          :   0.975611\n",
      " - Pitch        :   1.133293\n",
      " - Roll         :   0.913776\n",
      " - RMS          :   1.011790\n",
      " - 99% Tile     :  10.386846\n",
      "Save output signals into checkpoint/1122-Scene1-LSTM-SmallWindow-UseD/sample/0033.npy\n"
     ]
    },
    {
     "name": "stderr",
     "output_type": "stream",
     "text": [
      "[0034/0100] Train: 100%|███████████████████████████████| 73/73 [00:10<00:00,  6.67it/s, loss 2.2800]\n",
      "[0034/0100] Validation: 100%|██████████████████████| 75/75 [00:04<00:00, 15.60it/s, val_loss 5.8632]\n",
      "[0035/0100] Train:   0%|                                                     | 0/73 [00:00<?, ?it/s]"
     ]
    },
    {
     "name": "stdout",
     "output_type": "stream",
     "text": [
      "val_loss is not improved for 1 epochs\n",
      "                  validation\n",
      " - Yaw          :   1.017364\n",
      " - Pitch        :   1.032112\n",
      " - Roll         :   0.911848\n",
      " - RMS          :   0.988560\n",
      " - 99% Tile     :  10.488531\n",
      "Save output signals into checkpoint/1122-Scene1-LSTM-SmallWindow-UseD/sample/0034.npy\n"
     ]
    },
    {
     "name": "stderr",
     "output_type": "stream",
     "text": [
      "[0035/0100] Train: 100%|███████████████████████████████| 73/73 [00:10<00:00,  6.80it/s, loss 2.0639]\n",
      "[0035/0100] Validation: 100%|██████████████████████| 75/75 [00:04<00:00, 17.18it/s, val_loss 5.7484]\n",
      "[0036/0100] Train:   0%|                                                     | 0/73 [00:00<?, ?it/s]"
     ]
    },
    {
     "name": "stdout",
     "output_type": "stream",
     "text": [
      "                  validation\n",
      " - Yaw          :   0.942408\n",
      " - Pitch        :   1.042834\n",
      " - Roll         :   0.894777\n",
      " - RMS          :   0.961988\n",
      " - 99% Tile     :  10.483776\n",
      "Save output signals into checkpoint/1122-Scene1-LSTM-SmallWindow-UseD/sample/0035.npy\n"
     ]
    },
    {
     "name": "stderr",
     "output_type": "stream",
     "text": [
      "[0036/0100] Train: 100%|███████████████████████████████| 73/73 [00:11<00:00,  6.60it/s, loss 2.0591]\n",
      "[0036/0100] Validation: 100%|██████████████████████| 75/75 [00:04<00:00, 17.13it/s, val_loss 6.1889]\n",
      "[0037/0100] Train:   0%|                                                     | 0/73 [00:00<?, ?it/s]"
     ]
    },
    {
     "name": "stdout",
     "output_type": "stream",
     "text": [
      "val_loss is not improved for 1 epochs\n",
      "                  validation\n",
      " - Yaw          :   1.091971\n",
      " - Pitch        :   1.490146\n",
      " - Roll         :   0.916750\n",
      " - RMS          :   1.190709\n",
      " - 99% Tile     :  10.270179\n",
      "Save output signals into checkpoint/1122-Scene1-LSTM-SmallWindow-UseD/sample/0036.npy\n"
     ]
    },
    {
     "name": "stderr",
     "output_type": "stream",
     "text": [
      "[0037/0100] Train: 100%|███████████████████████████████| 73/73 [00:11<00:00,  6.52it/s, loss 2.0362]\n",
      "[0037/0100] Validation: 100%|██████████████████████| 75/75 [00:03<00:00, 19.62it/s, val_loss 5.7326]\n",
      "[0038/0100] Train:   0%|                                                     | 0/73 [00:00<?, ?it/s]"
     ]
    },
    {
     "name": "stdout",
     "output_type": "stream",
     "text": [
      "                  validation\n",
      " - Yaw          :   0.985210\n",
      " - Pitch        :   1.041348\n",
      " - Roll         :   0.888580\n",
      " - RMS          :   0.973759\n",
      " - 99% Tile     :  10.425212\n",
      "Save output signals into checkpoint/1122-Scene1-LSTM-SmallWindow-UseD/sample/0037.npy\n"
     ]
    },
    {
     "name": "stderr",
     "output_type": "stream",
     "text": [
      "[0038/0100] Train: 100%|███████████████████████████████| 73/73 [00:10<00:00,  6.78it/s, loss 1.8513]\n",
      "[0038/0100] Validation: 100%|██████████████████████| 75/75 [00:04<00:00, 17.01it/s, val_loss 5.6465]\n",
      "[0039/0100] Train:   0%|                                                     | 0/73 [00:00<?, ?it/s]"
     ]
    },
    {
     "name": "stdout",
     "output_type": "stream",
     "text": [
      "                  validation\n",
      " - Yaw          :   0.928782\n",
      " - Pitch        :   0.993826\n",
      " - Roll         :   0.863492\n",
      " - RMS          :   0.930223\n",
      " - 99% Tile     :   9.932853\n",
      "Save output signals into checkpoint/1122-Scene1-LSTM-SmallWindow-UseD/sample/0038.npy\n"
     ]
    },
    {
     "name": "stderr",
     "output_type": "stream",
     "text": [
      "[0039/0100] Train: 100%|███████████████████████████████| 73/73 [00:11<00:00,  6.47it/s, loss 1.8111]\n",
      "[0039/0100] Validation: 100%|██████████████████████| 75/75 [00:04<00:00, 17.25it/s, val_loss 5.5338]\n",
      "[0040/0100] Train:   0%|                                                     | 0/73 [00:00<?, ?it/s]"
     ]
    },
    {
     "name": "stdout",
     "output_type": "stream",
     "text": [
      "                  validation\n",
      " - Yaw          :   1.146071\n",
      " - Pitch        :   1.022108\n",
      " - Roll         :   0.882107\n",
      " - RMS          :   1.022464\n",
      " - 99% Tile     :   9.625192\n",
      "Save output signals into checkpoint/1122-Scene1-LSTM-SmallWindow-UseD/sample/0039.npy\n"
     ]
    },
    {
     "name": "stderr",
     "output_type": "stream",
     "text": [
      "[0040/0100] Train: 100%|███████████████████████████████| 73/73 [00:10<00:00,  6.92it/s, loss 1.7112]\n",
      "[0040/0100] Validation: 100%|██████████████████████| 75/75 [00:05<00:00, 14.99it/s, val_loss 5.3464]\n",
      "[0041/0100] Train:   0%|                                                     | 0/73 [00:00<?, ?it/s]"
     ]
    },
    {
     "name": "stdout",
     "output_type": "stream",
     "text": [
      "                  validation\n",
      " - Yaw          :   0.916356\n",
      " - Pitch        :   0.985720\n",
      " - Roll         :   0.910844\n",
      " - RMS          :   0.938259\n",
      " - 99% Tile     :   9.627993\n",
      "Save output signals into checkpoint/1122-Scene1-LSTM-SmallWindow-UseD/sample/0040.npy\n"
     ]
    },
    {
     "name": "stderr",
     "output_type": "stream",
     "text": [
      "[0041/0100] Train: 100%|███████████████████████████████| 73/73 [00:10<00:00,  6.66it/s, loss 1.6758]\n",
      "[0041/0100] Validation: 100%|██████████████████████| 75/75 [00:04<00:00, 16.92it/s, val_loss 5.4358]\n",
      "[0042/0100] Train:   0%|                                                     | 0/73 [00:00<?, ?it/s]"
     ]
    },
    {
     "name": "stdout",
     "output_type": "stream",
     "text": [
      "val_loss is not improved for 1 epochs\n",
      "                  validation\n",
      " - Yaw          :   0.963550\n",
      " - Pitch        :   1.085578\n",
      " - Roll         :   0.824425\n",
      " - RMS          :   0.963775\n",
      " - 99% Tile     :   9.329740\n",
      "Save output signals into checkpoint/1122-Scene1-LSTM-SmallWindow-UseD/sample/0041.npy\n"
     ]
    },
    {
     "name": "stderr",
     "output_type": "stream",
     "text": [
      "[0042/0100] Train: 100%|███████████████████████████████| 73/73 [00:11<00:00,  6.58it/s, loss 1.5744]\n",
      "[0042/0100] Validation: 100%|██████████████████████| 75/75 [00:04<00:00, 18.00it/s, val_loss 5.4318]\n",
      "[0043/0100] Train:   0%|                                                     | 0/73 [00:00<?, ?it/s]"
     ]
    },
    {
     "name": "stdout",
     "output_type": "stream",
     "text": [
      "val_loss is not improved for 2 epochs\n",
      "                  validation\n",
      " - Yaw          :   1.101667\n",
      " - Pitch        :   1.001179\n",
      " - Roll         :   0.856772\n",
      " - RMS          :   0.991647\n",
      " - 99% Tile     :   9.520075\n",
      "Save output signals into checkpoint/1122-Scene1-LSTM-SmallWindow-UseD/sample/0042.npy\n"
     ]
    },
    {
     "name": "stderr",
     "output_type": "stream",
     "text": [
      "[0043/0100] Train: 100%|███████████████████████████████| 73/73 [00:11<00:00,  6.33it/s, loss 1.5732]\n",
      "[0043/0100] Validation: 100%|██████████████████████| 75/75 [00:04<00:00, 17.77it/s, val_loss 5.7199]\n",
      "[0044/0100] Train:   0%|                                                     | 0/73 [00:00<?, ?it/s]"
     ]
    },
    {
     "name": "stdout",
     "output_type": "stream",
     "text": [
      "val_loss is not improved for 3 epochs\n",
      "                  validation\n",
      " - Yaw          :   1.270608\n",
      " - Pitch        :   1.032739\n",
      " - Roll         :   0.833354\n",
      " - RMS          :   1.060735\n",
      " - 99% Tile     :   9.372091\n",
      "Save output signals into checkpoint/1122-Scene1-LSTM-SmallWindow-UseD/sample/0043.npy\n"
     ]
    },
    {
     "name": "stderr",
     "output_type": "stream",
     "text": [
      "[0044/0100] Train: 100%|███████████████████████████████| 73/73 [00:11<00:00,  6.44it/s, loss 1.4899]\n",
      "[0044/0100] Validation: 100%|██████████████████████| 75/75 [00:03<00:00, 18.92it/s, val_loss 5.1812]\n",
      "[0045/0100] Train:   0%|                                                     | 0/73 [00:00<?, ?it/s]"
     ]
    },
    {
     "name": "stdout",
     "output_type": "stream",
     "text": [
      "                  validation\n",
      " - Yaw          :   0.932521\n",
      " - Pitch        :   1.090370\n",
      " - Roll         :   0.818140\n",
      " - RMS          :   0.953564\n",
      " - 99% Tile     :   9.265924\n",
      "Save output signals into checkpoint/1122-Scene1-LSTM-SmallWindow-UseD/sample/0044.npy\n"
     ]
    },
    {
     "name": "stderr",
     "output_type": "stream",
     "text": [
      "[0045/0100] Train: 100%|███████████████████████████████| 73/73 [00:10<00:00,  6.74it/s, loss 1.4988]\n",
      "[0045/0100] Validation: 100%|██████████████████████| 75/75 [00:04<00:00, 17.84it/s, val_loss 5.3398]\n",
      "[0046/0100] Train:   0%|                                                     | 0/73 [00:00<?, ?it/s]"
     ]
    },
    {
     "name": "stdout",
     "output_type": "stream",
     "text": [
      "val_loss is not improved for 1 epochs\n",
      "                  validation\n",
      " - Yaw          :   1.212668\n",
      " - Pitch        :   1.027160\n",
      " - Roll         :   0.860965\n",
      " - RMS          :   1.043532\n",
      " - 99% Tile     :   9.003152\n",
      "Save output signals into checkpoint/1122-Scene1-LSTM-SmallWindow-UseD/sample/0045.npy\n"
     ]
    },
    {
     "name": "stderr",
     "output_type": "stream",
     "text": [
      "[0046/0100] Train: 100%|███████████████████████████████| 73/73 [00:11<00:00,  6.45it/s, loss 1.9867]\n",
      "[0046/0100] Validation: 100%|██████████████████████| 75/75 [00:03<00:00, 19.22it/s, val_loss 5.8937]\n",
      "[0047/0100] Train:   0%|                                                     | 0/73 [00:00<?, ?it/s]"
     ]
    },
    {
     "name": "stdout",
     "output_type": "stream",
     "text": [
      "val_loss is not improved for 2 epochs\n",
      "                  validation\n",
      " - Yaw          :   1.144102\n",
      " - Pitch        :   1.597285\n",
      " - Roll         :   0.983033\n",
      " - RMS          :   1.268417\n",
      " - 99% Tile     :   9.409704\n",
      "Save output signals into checkpoint/1122-Scene1-LSTM-SmallWindow-UseD/sample/0046.npy\n"
     ]
    },
    {
     "name": "stderr",
     "output_type": "stream",
     "text": [
      "[0047/0100] Train: 100%|███████████████████████████████| 73/73 [00:10<00:00,  6.79it/s, loss 1.6991]\n",
      "[0047/0100] Validation: 100%|██████████████████████| 75/75 [00:05<00:00, 14.53it/s, val_loss 5.0229]\n",
      "[0048/0100] Train:   0%|                                                     | 0/73 [00:00<?, ?it/s]"
     ]
    },
    {
     "name": "stdout",
     "output_type": "stream",
     "text": [
      "                  validation\n",
      " - Yaw          :   0.989461\n",
      " - Pitch        :   1.046267\n",
      " - Roll         :   0.812432\n",
      " - RMS          :   0.954595\n",
      " - 99% Tile     :   8.770588\n",
      "Save output signals into checkpoint/1122-Scene1-LSTM-SmallWindow-UseD/sample/0047.npy\n"
     ]
    },
    {
     "name": "stderr",
     "output_type": "stream",
     "text": [
      "[0048/0100] Train: 100%|███████████████████████████████| 73/73 [00:11<00:00,  6.55it/s, loss 1.5907]\n",
      "[0048/0100] Validation: 100%|██████████████████████| 75/75 [00:04<00:00, 15.82it/s, val_loss 4.8390]\n",
      "[0049/0100] Train:   0%|                                                     | 0/73 [00:00<?, ?it/s]"
     ]
    },
    {
     "name": "stdout",
     "output_type": "stream",
     "text": [
      "                  validation\n",
      " - Yaw          :   1.082974\n",
      " - Pitch        :   0.956827\n",
      " - Roll         :   0.822513\n",
      " - RMS          :   0.960014\n",
      " - 99% Tile     :   8.836027\n",
      "Save output signals into checkpoint/1122-Scene1-LSTM-SmallWindow-UseD/sample/0048.npy\n"
     ]
    },
    {
     "name": "stderr",
     "output_type": "stream",
     "text": [
      "[0049/0100] Train: 100%|███████████████████████████████| 73/73 [00:11<00:00,  6.55it/s, loss 1.3385]\n",
      "[0049/0100] Validation: 100%|██████████████████████| 75/75 [00:04<00:00, 18.57it/s, val_loss 5.6005]\n",
      "[0050/0100] Train:   0%|                                                     | 0/73 [00:00<?, ?it/s]"
     ]
    },
    {
     "name": "stdout",
     "output_type": "stream",
     "text": [
      "val_loss is not improved for 1 epochs\n",
      "                  validation\n",
      " - Yaw          :   1.506477\n",
      " - Pitch        :   1.075417\n",
      " - Roll         :   0.795582\n",
      " - RMS          :   1.163177\n",
      " - 99% Tile     :   8.822711\n",
      "Save output signals into checkpoint/1122-Scene1-LSTM-SmallWindow-UseD/sample/0049.npy\n"
     ]
    },
    {
     "name": "stderr",
     "output_type": "stream",
     "text": [
      "[0050/0100] Train: 100%|███████████████████████████████| 73/73 [00:10<00:00,  6.76it/s, loss 1.3570]\n",
      "[0050/0100] Validation: 100%|██████████████████████| 75/75 [00:04<00:00, 15.04it/s, val_loss 4.4287]\n",
      "[0051/0100] Train:   0%|                                                     | 0/73 [00:00<?, ?it/s]"
     ]
    },
    {
     "name": "stdout",
     "output_type": "stream",
     "text": [
      "                  validation\n",
      " - Yaw          :   0.847336\n",
      " - Pitch        :   0.971457\n",
      " - Roll         :   0.779550\n",
      " - RMS          :   0.869752\n",
      " - 99% Tile     :   8.589727\n",
      "Save output signals into checkpoint/1122-Scene1-LSTM-SmallWindow-UseD/sample/0050.npy\n"
     ]
    },
    {
     "name": "stderr",
     "output_type": "stream",
     "text": [
      "[0051/0100] Train: 100%|███████████████████████████████| 73/73 [00:10<00:00,  7.11it/s, loss 1.3032]\n",
      "[0051/0100] Validation: 100%|██████████████████████| 75/75 [00:04<00:00, 16.79it/s, val_loss 4.7807]\n",
      "[0052/0100] Train:   0%|                                                     | 0/73 [00:00<?, ?it/s]"
     ]
    },
    {
     "name": "stdout",
     "output_type": "stream",
     "text": [
      "val_loss is not improved for 1 epochs\n",
      "                  validation\n",
      " - Yaw          :   0.948623\n",
      " - Pitch        :   1.013282\n",
      " - Roll         :   0.800509\n",
      " - RMS          :   0.925102\n",
      " - 99% Tile     :   8.642306\n",
      "Save output signals into checkpoint/1122-Scene1-LSTM-SmallWindow-UseD/sample/0051.npy\n"
     ]
    },
    {
     "name": "stderr",
     "output_type": "stream",
     "text": [
      "[0052/0100] Train: 100%|███████████████████████████████| 73/73 [00:10<00:00,  6.95it/s, loss 1.3285]\n",
      "[0052/0100] Validation: 100%|██████████████████████| 75/75 [00:04<00:00, 15.42it/s, val_loss 4.7803]\n",
      "[0053/0100] Train:   0%|                                                     | 0/73 [00:00<?, ?it/s]"
     ]
    },
    {
     "name": "stdout",
     "output_type": "stream",
     "text": [
      "val_loss is not improved for 2 epochs\n",
      "                  validation\n",
      " - Yaw          :   1.092363\n",
      " - Pitch        :   1.030959\n",
      " - Roll         :   0.813410\n",
      " - RMS          :   0.986199\n",
      " - 99% Tile     :   8.545604\n",
      "Save output signals into checkpoint/1122-Scene1-LSTM-SmallWindow-UseD/sample/0052.npy\n"
     ]
    },
    {
     "name": "stderr",
     "output_type": "stream",
     "text": [
      "[0053/0100] Train: 100%|███████████████████████████████| 73/73 [00:10<00:00,  6.78it/s, loss 1.1959]\n",
      "[0053/0100] Validation: 100%|██████████████████████| 75/75 [00:05<00:00, 14.34it/s, val_loss 4.4847]\n",
      "[0054/0100] Train:   0%|                                                     | 0/73 [00:00<?, ?it/s]"
     ]
    },
    {
     "name": "stdout",
     "output_type": "stream",
     "text": [
      "val_loss is not improved for 3 epochs\n",
      "                  validation\n",
      " - Yaw          :   0.884344\n",
      " - Pitch        :   1.058249\n",
      " - Roll         :   0.794526\n",
      " - RMS          :   0.918917\n",
      " - 99% Tile     :   8.691987\n",
      "Save output signals into checkpoint/1122-Scene1-LSTM-SmallWindow-UseD/sample/0053.npy\n"
     ]
    },
    {
     "name": "stderr",
     "output_type": "stream",
     "text": [
      "[0054/0100] Train: 100%|███████████████████████████████| 73/73 [00:11<00:00,  6.38it/s, loss 1.1899]\n",
      "[0054/0100] Validation: 100%|██████████████████████| 75/75 [00:03<00:00, 20.01it/s, val_loss 4.3399]\n",
      "[0055/0100] Train:   0%|                                                     | 0/73 [00:00<?, ?it/s]"
     ]
    },
    {
     "name": "stdout",
     "output_type": "stream",
     "text": [
      "                  validation\n",
      " - Yaw          :   0.932439\n",
      " - Pitch        :   0.958482\n",
      " - Roll         :   0.794386\n",
      " - RMS          :   0.897994\n",
      " - 99% Tile     :   8.324903\n",
      "Save output signals into checkpoint/1122-Scene1-LSTM-SmallWindow-UseD/sample/0054.npy\n"
     ]
    },
    {
     "name": "stderr",
     "output_type": "stream",
     "text": [
      "[0055/0100] Train: 100%|███████████████████████████████| 73/73 [00:10<00:00,  7.20it/s, loss 1.1648]\n",
      "[0055/0100] Validation: 100%|██████████████████████| 75/75 [00:04<00:00, 15.59it/s, val_loss 4.8440]\n",
      "[0056/0100] Train:   0%|                                                     | 0/73 [00:00<?, ?it/s]"
     ]
    },
    {
     "name": "stdout",
     "output_type": "stream",
     "text": [
      "val_loss is not improved for 1 epochs\n",
      "                  validation\n",
      " - Yaw          :   1.140849\n",
      " - Pitch        :   1.011735\n",
      " - Roll         :   0.827235\n",
      " - RMS          :   1.001576\n",
      " - 99% Tile     :   8.602416\n",
      "Save output signals into checkpoint/1122-Scene1-LSTM-SmallWindow-UseD/sample/0055.npy\n"
     ]
    },
    {
     "name": "stderr",
     "output_type": "stream",
     "text": [
      "[0056/0100] Train: 100%|███████████████████████████████| 73/73 [00:09<00:00,  7.31it/s, loss 1.0950]\n",
      "[0056/0100] Validation: 100%|██████████████████████| 75/75 [00:05<00:00, 13.24it/s, val_loss 4.6091]\n",
      "[0057/0100] Train:   0%|                                                     | 0/73 [00:00<?, ?it/s]"
     ]
    },
    {
     "name": "stdout",
     "output_type": "stream",
     "text": [
      "val_loss is not improved for 2 epochs\n",
      "                  validation\n",
      " - Yaw          :   1.029727\n",
      " - Pitch        :   1.078898\n",
      " - Roll         :   0.739575\n",
      " - RMS          :   0.961133\n",
      " - 99% Tile     :   8.257279\n",
      "Save output signals into checkpoint/1122-Scene1-LSTM-SmallWindow-UseD/sample/0056.npy\n"
     ]
    },
    {
     "name": "stderr",
     "output_type": "stream",
     "text": [
      "[0057/0100] Train: 100%|███████████████████████████████| 73/73 [00:09<00:00,  7.89it/s, loss 1.1011]\n",
      "[0057/0100] Validation: 100%|██████████████████████| 75/75 [00:05<00:00, 12.82it/s, val_loss 4.6796]\n",
      "[0058/0100] Train:   0%|                                                     | 0/73 [00:00<?, ?it/s]"
     ]
    },
    {
     "name": "stdout",
     "output_type": "stream",
     "text": [
      "val_loss is not improved for 3 epochs\n",
      "                  validation\n",
      " - Yaw          :   1.001149\n",
      " - Pitch        :   0.994410\n",
      " - Roll         :   0.785639\n",
      " - RMS          :   0.932448\n",
      " - 99% Tile     :   8.341756\n",
      "Save output signals into checkpoint/1122-Scene1-LSTM-SmallWindow-UseD/sample/0057.npy\n"
     ]
    },
    {
     "name": "stderr",
     "output_type": "stream",
     "text": [
      "[0058/0100] Train: 100%|███████████████████████████████| 73/73 [00:10<00:00,  6.67it/s, loss 1.1837]\n",
      "[0058/0100] Validation: 100%|██████████████████████| 75/75 [00:05<00:00, 13.00it/s, val_loss 4.7567]\n",
      "[0059/0100] Train:   0%|                                                     | 0/73 [00:00<?, ?it/s]"
     ]
    },
    {
     "name": "stdout",
     "output_type": "stream",
     "text": [
      "val_loss is not improved for 4 epochs\n",
      "                  validation\n",
      " - Yaw          :   1.048600\n",
      " - Pitch        :   1.070509\n",
      " - Roll         :   0.735837\n",
      " - RMS          :   0.963848\n",
      " - 99% Tile     :   8.593355\n",
      "Save output signals into checkpoint/1122-Scene1-LSTM-SmallWindow-UseD/sample/0058.npy\n"
     ]
    },
    {
     "name": "stderr",
     "output_type": "stream",
     "text": [
      "[0059/0100] Train: 100%|███████████████████████████████| 73/73 [00:10<00:00,  6.90it/s, loss 1.0666]\n",
      "[0059/0100] Validation: 100%|██████████████████████| 75/75 [00:04<00:00, 15.30it/s, val_loss 4.3910]\n",
      "[0060/0100] Train:   0%|                                                     | 0/73 [00:00<?, ?it/s]"
     ]
    },
    {
     "name": "stdout",
     "output_type": "stream",
     "text": [
      "Decaying lr from 0.001 to 0.0005 because val_loss did not improved for 5 epochs\n",
      "val_loss is not improved for 5 epochs\n",
      "                  validation\n",
      " - Yaw          :   0.960187\n",
      " - Pitch        :   0.980557\n",
      " - Roll         :   0.725732\n",
      " - RMS          :   0.896314\n",
      " - 99% Tile     :   8.755066\n",
      "Save output signals into checkpoint/1122-Scene1-LSTM-SmallWindow-UseD/sample/0059.npy\n"
     ]
    },
    {
     "name": "stderr",
     "output_type": "stream",
     "text": [
      "[0060/0100] Train: 100%|███████████████████████████████| 73/73 [00:09<00:00,  7.38it/s, loss 0.9607]\n",
      "[0060/0100] Validation: 100%|██████████████████████| 75/75 [00:05<00:00, 12.86it/s, val_loss 4.2112]\n",
      "[0061/0100] Train:   0%|                                                     | 0/73 [00:00<?, ?it/s]"
     ]
    },
    {
     "name": "stdout",
     "output_type": "stream",
     "text": [
      "                  validation\n",
      " - Yaw          :   0.904755\n",
      " - Pitch        :   0.911569\n",
      " - Roll         :   0.697501\n",
      " - RMS          :   0.843810\n",
      " - 99% Tile     :   8.289958\n",
      "Save output signals into checkpoint/1122-Scene1-LSTM-SmallWindow-UseD/sample/0060.npy\n"
     ]
    },
    {
     "name": "stderr",
     "output_type": "stream",
     "text": [
      "[0061/0100] Train: 100%|███████████████████████████████| 73/73 [00:10<00:00,  7.16it/s, loss 0.9210]\n",
      "[0061/0100] Validation: 100%|██████████████████████| 75/75 [00:03<00:00, 19.15it/s, val_loss 4.4001]\n",
      "[0062/0100] Train:   0%|                                                     | 0/73 [00:00<?, ?it/s]"
     ]
    },
    {
     "name": "stdout",
     "output_type": "stream",
     "text": [
      "val_loss is not improved for 1 epochs\n",
      "                  validation\n",
      " - Yaw          :   0.999741\n",
      " - Pitch        :   1.040892\n",
      " - Roll         :   0.750217\n",
      " - RMS          :   0.939107\n",
      " - 99% Tile     :   8.527605\n",
      "Save output signals into checkpoint/1122-Scene1-LSTM-SmallWindow-UseD/sample/0061.npy\n"
     ]
    },
    {
     "name": "stderr",
     "output_type": "stream",
     "text": [
      "[0062/0100] Train: 100%|███████████████████████████████| 73/73 [00:08<00:00,  8.80it/s, loss 0.9704]\n",
      "[0062/0100] Validation: 100%|██████████████████████| 75/75 [00:03<00:00, 19.15it/s, val_loss 4.5671]\n",
      "[0063/0100] Train:   0%|                                                     | 0/73 [00:00<?, ?it/s]"
     ]
    },
    {
     "name": "stdout",
     "output_type": "stream",
     "text": [
      "val_loss is not improved for 2 epochs\n",
      "                  validation\n",
      " - Yaw          :   0.993959\n",
      " - Pitch        :   0.997333\n",
      " - Roll         :   0.718699\n",
      " - RMS          :   0.912717\n",
      " - 99% Tile     :   8.960992\n",
      "Save output signals into checkpoint/1122-Scene1-LSTM-SmallWindow-UseD/sample/0062.npy\n"
     ]
    },
    {
     "name": "stderr",
     "output_type": "stream",
     "text": [
      "[0063/0100] Train: 100%|███████████████████████████████| 73/73 [00:08<00:00,  8.97it/s, loss 0.9199]\n",
      "[0063/0100] Validation: 100%|██████████████████████| 75/75 [00:04<00:00, 17.69it/s, val_loss 4.3988]\n",
      "[0064/0100] Train:   0%|                                                     | 0/73 [00:00<?, ?it/s]"
     ]
    },
    {
     "name": "stdout",
     "output_type": "stream",
     "text": [
      "val_loss is not improved for 3 epochs\n",
      "                  validation\n",
      " - Yaw          :   0.912804\n",
      " - Pitch        :   0.903970\n",
      " - Roll         :   0.722469\n",
      " - RMS          :   0.850947\n",
      " - 99% Tile     :   8.422144\n",
      "Save output signals into checkpoint/1122-Scene1-LSTM-SmallWindow-UseD/sample/0063.npy\n"
     ]
    },
    {
     "name": "stderr",
     "output_type": "stream",
     "text": [
      "[0064/0100] Train: 100%|███████████████████████████████| 73/73 [00:07<00:00,  9.29it/s, loss 0.8885]\n",
      "[0064/0100] Validation: 100%|██████████████████████| 75/75 [00:03<00:00, 18.80it/s, val_loss 4.4880]\n",
      "[0065/0100] Train:   0%|                                                     | 0/73 [00:00<?, ?it/s]"
     ]
    },
    {
     "name": "stdout",
     "output_type": "stream",
     "text": [
      "val_loss is not improved for 4 epochs\n",
      "                  validation\n",
      " - Yaw          :   0.924407\n",
      " - Pitch        :   0.992688\n",
      " - Roll         :   0.693290\n",
      " - RMS          :   0.879509\n",
      " - 99% Tile     :   8.282066\n",
      "Save output signals into checkpoint/1122-Scene1-LSTM-SmallWindow-UseD/sample/0064.npy\n"
     ]
    },
    {
     "name": "stderr",
     "output_type": "stream",
     "text": [
      "[0065/0100] Train: 100%|███████████████████████████████| 73/73 [00:08<00:00,  8.88it/s, loss 0.8908]\n",
      "[0065/0100] Validation: 100%|██████████████████████| 75/75 [00:03<00:00, 19.89it/s, val_loss 4.2783]\n",
      "[0066/0100] Train:   0%|                                                     | 0/73 [00:00<?, ?it/s]"
     ]
    },
    {
     "name": "stdout",
     "output_type": "stream",
     "text": [
      "Decaying lr from 0.0005 to 0.00025 because val_loss did not improved for 5 epochs\n",
      "val_loss is not improved for 5 epochs\n",
      "                  validation\n",
      " - Yaw          :   0.879390\n",
      " - Pitch        :   0.931212\n",
      " - Roll         :   0.705899\n",
      " - RMS          :   0.844349\n",
      " - 99% Tile     :   8.517859\n",
      "Save output signals into checkpoint/1122-Scene1-LSTM-SmallWindow-UseD/sample/0065.npy\n"
     ]
    },
    {
     "name": "stderr",
     "output_type": "stream",
     "text": [
      "[0066/0100] Train: 100%|███████████████████████████████| 73/73 [00:07<00:00,  9.70it/s, loss 0.8180]\n",
      "[0066/0100] Validation: 100%|██████████████████████| 75/75 [00:04<00:00, 17.17it/s, val_loss 4.2038]\n",
      "[0067/0100] Train:   0%|                                                     | 0/73 [00:00<?, ?it/s]"
     ]
    },
    {
     "name": "stdout",
     "output_type": "stream",
     "text": [
      "                  validation\n",
      " - Yaw          :   0.851127\n",
      " - Pitch        :   0.892062\n",
      " - Roll         :   0.682604\n",
      " - RMS          :   0.813662\n",
      " - 99% Tile     :   8.351444\n",
      "Save output signals into checkpoint/1122-Scene1-LSTM-SmallWindow-UseD/sample/0066.npy\n"
     ]
    },
    {
     "name": "stderr",
     "output_type": "stream",
     "text": [
      "[0067/0100] Train: 100%|███████████████████████████████| 73/73 [00:08<00:00,  8.61it/s, loss 0.8147]\n",
      "[0067/0100] Validation: 100%|██████████████████████| 75/75 [00:04<00:00, 16.42it/s, val_loss 4.2025]\n",
      "[0068/0100] Train:   0%|                                                     | 0/73 [00:00<?, ?it/s]"
     ]
    },
    {
     "name": "stdout",
     "output_type": "stream",
     "text": [
      "                  validation\n",
      " - Yaw          :   0.841557\n",
      " - Pitch        :   0.899242\n",
      " - Roll         :   0.685575\n",
      " - RMS          :   0.813811\n",
      " - 99% Tile     :   8.415157\n",
      "Save output signals into checkpoint/1122-Scene1-LSTM-SmallWindow-UseD/sample/0067.npy\n"
     ]
    },
    {
     "name": "stderr",
     "output_type": "stream",
     "text": [
      "[0068/0100] Train: 100%|███████████████████████████████| 73/73 [00:08<00:00,  8.72it/s, loss 0.8020]\n",
      "[0068/0100] Validation: 100%|██████████████████████| 75/75 [00:04<00:00, 17.23it/s, val_loss 4.2912]\n",
      "[0069/0100] Train:   0%|                                                     | 0/73 [00:00<?, ?it/s]"
     ]
    },
    {
     "name": "stdout",
     "output_type": "stream",
     "text": [
      "val_loss is not improved for 1 epochs\n",
      "                  validation\n",
      " - Yaw          :   0.894153\n",
      " - Pitch        :   0.939741\n",
      " - Roll         :   0.683889\n",
      " - RMS          :   0.846626\n",
      " - 99% Tile     :   8.262391\n",
      "Save output signals into checkpoint/1122-Scene1-LSTM-SmallWindow-UseD/sample/0068.npy\n"
     ]
    },
    {
     "name": "stderr",
     "output_type": "stream",
     "text": [
      "[0069/0100] Train: 100%|███████████████████████████████| 73/73 [00:08<00:00,  8.50it/s, loss 0.7891]\n",
      "[0069/0100] Validation: 100%|██████████████████████| 75/75 [00:04<00:00, 17.04it/s, val_loss 4.4034]\n",
      "[0070/0100] Train:   0%|                                                     | 0/73 [00:00<?, ?it/s]"
     ]
    },
    {
     "name": "stdout",
     "output_type": "stream",
     "text": [
      "val_loss is not improved for 2 epochs\n",
      "                  validation\n",
      " - Yaw          :   0.933265\n",
      " - Pitch        :   1.033187\n",
      " - Roll         :   0.701473\n",
      " - RMS          :   0.900097\n",
      " - 99% Tile     :   8.467349\n",
      "Save output signals into checkpoint/1122-Scene1-LSTM-SmallWindow-UseD/sample/0069.npy\n"
     ]
    },
    {
     "name": "stderr",
     "output_type": "stream",
     "text": [
      "[0070/0100] Train: 100%|███████████████████████████████| 73/73 [00:08<00:00,  8.75it/s, loss 0.7859]\n",
      "[0070/0100] Validation: 100%|██████████████████████| 75/75 [00:04<00:00, 16.95it/s, val_loss 4.1770]\n",
      "[0071/0100] Train:   0%|                                                     | 0/73 [00:00<?, ?it/s]"
     ]
    },
    {
     "name": "stdout",
     "output_type": "stream",
     "text": [
      "                  validation\n",
      " - Yaw          :   0.852491\n",
      " - Pitch        :   0.885850\n",
      " - Roll         :   0.701326\n",
      " - RMS          :   0.817176\n",
      " - 99% Tile     :   8.319670\n",
      "Save output signals into checkpoint/1122-Scene1-LSTM-SmallWindow-UseD/sample/0070.npy\n"
     ]
    },
    {
     "name": "stderr",
     "output_type": "stream",
     "text": [
      "[0071/0100] Train: 100%|███████████████████████████████| 73/73 [00:08<00:00,  8.57it/s, loss 0.7871]\n",
      "[0071/0100] Validation: 100%|██████████████████████| 75/75 [00:03<00:00, 18.91it/s, val_loss 4.3045]\n",
      "[0072/0100] Train:   0%|                                                     | 0/73 [00:00<?, ?it/s]"
     ]
    },
    {
     "name": "stdout",
     "output_type": "stream",
     "text": [
      "val_loss is not improved for 1 epochs\n",
      "                  validation\n",
      " - Yaw          :   0.904165\n",
      " - Pitch        :   0.951471\n",
      " - Roll         :   0.678937\n",
      " - RMS          :   0.853184\n",
      " - 99% Tile     :   8.739332\n",
      "Save output signals into checkpoint/1122-Scene1-LSTM-SmallWindow-UseD/sample/0071.npy\n"
     ]
    },
    {
     "name": "stderr",
     "output_type": "stream",
     "text": [
      "[0072/0100] Train: 100%|███████████████████████████████| 73/73 [00:08<00:00,  8.61it/s, loss 0.7800]\n",
      "[0072/0100] Validation: 100%|██████████████████████| 75/75 [00:04<00:00, 17.64it/s, val_loss 4.4192]\n",
      "[0073/0100] Train:   0%|                                                     | 0/73 [00:00<?, ?it/s]"
     ]
    },
    {
     "name": "stdout",
     "output_type": "stream",
     "text": [
      "val_loss is not improved for 2 epochs\n",
      "                  validation\n",
      " - Yaw          :   0.902165\n",
      " - Pitch        :   1.054146\n",
      " - Roll         :   0.695345\n",
      " - RMS          :   0.896034\n",
      " - 99% Tile     :   8.920502\n",
      "Save output signals into checkpoint/1122-Scene1-LSTM-SmallWindow-UseD/sample/0072.npy\n"
     ]
    },
    {
     "name": "stderr",
     "output_type": "stream",
     "text": [
      "[0073/0100] Train: 100%|███████████████████████████████| 73/73 [00:09<00:00,  8.04it/s, loss 0.7804]\n",
      "[0073/0100] Validation: 100%|██████████████████████| 75/75 [00:03<00:00, 23.11it/s, val_loss 4.4227]\n",
      "[0074/0100] Train:   0%|                                                     | 0/73 [00:00<?, ?it/s]"
     ]
    },
    {
     "name": "stdout",
     "output_type": "stream",
     "text": [
      "val_loss is not improved for 3 epochs\n",
      "                  validation\n",
      " - Yaw          :   0.912818\n",
      " - Pitch        :   0.939244\n",
      " - Roll         :   0.699352\n",
      " - RMS          :   0.857226\n",
      " - 99% Tile     :   8.557097\n",
      "Save output signals into checkpoint/1122-Scene1-LSTM-SmallWindow-UseD/sample/0073.npy\n"
     ]
    },
    {
     "name": "stderr",
     "output_type": "stream",
     "text": [
      "[0074/0100] Train: 100%|███████████████████████████████| 73/73 [00:08<00:00,  8.63it/s, loss 0.7642]\n",
      "[0074/0100] Validation: 100%|██████████████████████| 75/75 [00:03<00:00, 19.57it/s, val_loss 4.3764]\n",
      "[0075/0100] Train:   0%|                                                     | 0/73 [00:00<?, ?it/s]"
     ]
    },
    {
     "name": "stdout",
     "output_type": "stream",
     "text": [
      "val_loss is not improved for 4 epochs\n",
      "                  validation\n",
      " - Yaw          :   0.902088\n",
      " - Pitch        :   0.983187\n",
      " - Roll         :   0.720010\n",
      " - RMS          :   0.875373\n",
      " - 99% Tile     :   8.391034\n",
      "Save output signals into checkpoint/1122-Scene1-LSTM-SmallWindow-UseD/sample/0074.npy\n"
     ]
    },
    {
     "name": "stderr",
     "output_type": "stream",
     "text": [
      "[0075/0100] Train: 100%|███████████████████████████████| 73/73 [00:08<00:00,  8.81it/s, loss 0.7462]\n",
      "[0075/0100] Validation: 100%|██████████████████████| 75/75 [00:03<00:00, 18.89it/s, val_loss 4.3452]\n",
      "[0076/0100] Train:   0%|                                                     | 0/73 [00:00<?, ?it/s]"
     ]
    },
    {
     "name": "stdout",
     "output_type": "stream",
     "text": [
      "Decaying lr from 0.00025 to 0.000125 because val_loss did not improved for 5 epochs\n",
      "val_loss is not improved for 5 epochs\n",
      "                  validation\n",
      " - Yaw          :   0.921952\n",
      " - Pitch        :   0.915666\n",
      " - Roll         :   0.678621\n",
      " - RMS          :   0.846358\n",
      " - 99% Tile     :   8.607209\n",
      "Save output signals into checkpoint/1122-Scene1-LSTM-SmallWindow-UseD/sample/0075.npy\n"
     ]
    },
    {
     "name": "stderr",
     "output_type": "stream",
     "text": [
      "[0076/0100] Train: 100%|███████████████████████████████| 73/73 [00:07<00:00, 10.25it/s, loss 0.7413]\n",
      "[0076/0100] Validation: 100%|██████████████████████| 75/75 [00:03<00:00, 22.09it/s, val_loss 4.3446]\n",
      "[0077/0100] Train:   0%|                                                     | 0/73 [00:00<?, ?it/s]"
     ]
    },
    {
     "name": "stdout",
     "output_type": "stream",
     "text": [
      "val_loss is not improved for 6 epochs\n",
      "                  validation\n",
      " - Yaw          :   0.880774\n",
      " - Pitch        :   0.973772\n",
      " - Roll         :   0.702689\n",
      " - RMS          :   0.859800\n",
      " - 99% Tile     :   8.481998\n",
      "Save output signals into checkpoint/1122-Scene1-LSTM-SmallWindow-UseD/sample/0076.npy\n"
     ]
    },
    {
     "name": "stderr",
     "output_type": "stream",
     "text": [
      "[0077/0100] Train: 100%|███████████████████████████████| 73/73 [00:05<00:00, 12.47it/s, loss 0.7385]\n",
      "[0077/0100] Validation: 100%|██████████████████████| 75/75 [00:03<00:00, 23.30it/s, val_loss 4.3729]\n",
      "[0078/0100] Train:   0%|                                                     | 0/73 [00:00<?, ?it/s]"
     ]
    },
    {
     "name": "stdout",
     "output_type": "stream",
     "text": [
      "val_loss is not improved for 7 epochs\n",
      "                  validation\n",
      " - Yaw          :   0.890818\n",
      " - Pitch        :   0.939163\n",
      " - Roll         :   0.677716\n",
      " - RMS          :   0.843580\n",
      " - 99% Tile     :   8.646544\n",
      "Save output signals into checkpoint/1122-Scene1-LSTM-SmallWindow-UseD/sample/0077.npy\n"
     ]
    },
    {
     "name": "stderr",
     "output_type": "stream",
     "text": [
      "[0078/0100] Train: 100%|███████████████████████████████| 73/73 [00:05<00:00, 12.29it/s, loss 0.7304]\n",
      "[0078/0100] Validation: 100%|██████████████████████| 75/75 [00:03<00:00, 23.79it/s, val_loss 4.4093]\n",
      "[0079/0100] Train:   0%|                                                     | 0/73 [00:00<?, ?it/s]"
     ]
    },
    {
     "name": "stdout",
     "output_type": "stream",
     "text": [
      "val_loss is not improved for 8 epochs\n",
      "                  validation\n",
      " - Yaw          :   0.873310\n",
      " - Pitch        :   0.997599\n",
      " - Roll         :   0.686646\n",
      " - RMS          :   0.862043\n",
      " - 99% Tile     :   8.777251\n",
      "Save output signals into checkpoint/1122-Scene1-LSTM-SmallWindow-UseD/sample/0078.npy\n"
     ]
    },
    {
     "name": "stderr",
     "output_type": "stream",
     "text": [
      "[0079/0100] Train: 100%|███████████████████████████████| 73/73 [00:05<00:00, 12.42it/s, loss 0.7268]\n",
      "[0079/0100] Validation: 100%|██████████████████████| 75/75 [00:03<00:00, 21.84it/s, val_loss 4.5545]\n",
      "[0080/0100] Train:   0%|                                                     | 0/73 [00:00<?, ?it/s]"
     ]
    },
    {
     "name": "stdout",
     "output_type": "stream",
     "text": [
      "val_loss is not improved for 9 epochs\n",
      "                  validation\n",
      " - Yaw          :   0.865723\n",
      " - Pitch        :   0.945642\n",
      " - Roll         :   0.681910\n",
      " - RMS          :   0.838394\n",
      " - 99% Tile     :   8.840391\n",
      "Save output signals into checkpoint/1122-Scene1-LSTM-SmallWindow-UseD/sample/0079.npy\n"
     ]
    },
    {
     "name": "stderr",
     "output_type": "stream",
     "text": [
      "[0080/0100] Train: 100%|███████████████████████████████| 73/73 [00:06<00:00, 11.65it/s, loss 0.7233]\n",
      "[0080/0100] Validation: 100%|██████████████████████| 75/75 [00:03<00:00, 20.29it/s, val_loss 4.4702]"
     ]
    },
    {
     "name": "stdout",
     "output_type": "stream",
     "text": [
      "Decaying lr from 0.000125 to 6.25e-05 because val_loss did not improved for 5 epochs\n",
      "val_loss is not improved for 10 epochs\n",
      "Stop training because val_loss did not improved for 10 epochs\n",
      "                  validation\n",
      " - Yaw          :   0.876480\n",
      " - Pitch        :   0.935440\n",
      " - Roll         :   0.663503\n",
      " - RMS          :   0.833367\n",
      " - 99% Tile     :   8.828422\n",
      "Save output signals into checkpoint/1122-Scene1-LSTM-SmallWindow-UseD/sample/0080.npy\n"
     ]
    },
    {
     "name": "stderr",
     "output_type": "stream",
     "text": [
      "\n"
     ]
    }
   ],
   "source": [
    "trainer.fit(ds_train, ds_test, num_epochs=100, batch_size=256, shuffle=True, pin_memory=True)"
   ]
  },
  {
   "cell_type": "code",
   "execution_count": null,
   "metadata": {},
   "outputs": [],
   "source": []
  },
  {
   "cell_type": "code",
   "execution_count": null,
   "metadata": {},
   "outputs": [],
   "source": []
  }
 ],
 "metadata": {
  "kernelspec": {
   "display_name": "torch",
   "language": "python",
   "name": "torch"
  },
  "language_info": {
   "codemirror_mode": {
    "name": "ipython",
    "version": 3
   },
   "file_extension": ".py",
   "mimetype": "text/x-python",
   "name": "python",
   "nbconvert_exporter": "python",
   "pygments_lexer": "ipython3",
   "version": "3.7.9"
  }
 },
 "nbformat": 4,
 "nbformat_minor": 4
}
