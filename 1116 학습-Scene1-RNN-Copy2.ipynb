{
 "cells": [
  {
   "cell_type": "markdown",
   "metadata": {},
   "source": [
    "# 학습 방법 - Scene\n",
    "\n",
    "3개의 Scene에 대해서 각각 따로 학습\n",
    "\n",
    "user별로 학습을 하지 않는 이유는 상관관계로 보았을 때 user끼리는 달라도 scene별로는 유사점이 꽤 보였기 때문."
   ]
  },
  {
   "cell_type": "code",
   "execution_count": 1,
   "metadata": {},
   "outputs": [],
   "source": [
    "from multiprocessing import cpu_count\n",
    "from pathlib import Path\n",
    "from typing import List, Union, AnyStr\n",
    "from math import pi\n",
    "import pickle\n",
    "\n",
    "import numpy as np\n",
    "import torch\n",
    "import matplotlib.pyplot as plt\n",
    "import torch.nn as nn\n",
    "from sklearn import model_selection\n",
    "from tqdm import tqdm\n",
    "import torch_optimizer\n",
    "from torch.utils.data import Dataset\n",
    "import pandas as pd\n",
    "import random\n",
    "\n",
    "import torch_burn as tb\n",
    "import utils"
   ]
  },
  {
   "cell_type": "code",
   "execution_count": 2,
   "metadata": {},
   "outputs": [],
   "source": [
    "EXPERIMENT_NAME = 'Scene1-LSTM2'\n",
    "CHECKPOINT_DIR = Path('checkpoint', EXPERIMENT_NAME)\n",
    "CHECKPOINT_DIR.mkdir(parents=True, exist_ok=True)\n",
    "\n",
    "DATA_DIR = Path('data/1116')\n",
    "TRAIN_FILES = sorted(list(DATA_DIR.glob('*scene1_0.csv')))\n",
    "TEST_FILES = sorted(list(DATA_DIR.glob('*scene1_1.csv')))"
   ]
  },
  {
   "cell_type": "markdown",
   "metadata": {},
   "source": [
    "# 데이터셋 생성\n",
    "\n",
    "scene1에 대해서 모든 user의 데이터를 하나로 합친다."
   ]
  },
  {
   "cell_type": "code",
   "execution_count": 3,
   "metadata": {},
   "outputs": [],
   "source": [
    "WINDOW_SIZE = 60"
   ]
  },
  {
   "cell_type": "code",
   "execution_count": 4,
   "metadata": {},
   "outputs": [],
   "source": [
    "class CSVSequentialDataset(Dataset):\n",
    "    def __init__(self, csvfile,\n",
    "                 window_size=300, randomized_window_size=False,\n",
    "                 stride=30, randomized_stride=False):\n",
    "        super(CSVSequentialDataset, self).__init__()\n",
    "\n",
    "        self.xcols = ['input_orientation_yaw', 'input_orientation_pitch', 'input_orientation_roll',\n",
    "                      'acceleration_x', 'acceleration_y', 'acceleration_z']\n",
    "        self.ycols = ['input_orientation_yaw', 'input_orientation_pitch', 'input_orientation_roll']\n",
    "\n",
    "        self.csv = pd.read_csv(csvfile)\n",
    "        self.window_size = window_size\n",
    "\n",
    "        self.indexes = []\n",
    "        i = 0\n",
    "        while i <= len(self.csv) - window_size * 2:\n",
    "            if randomized_window_size:\n",
    "                self.indexes.append((i, i + random.randint(window_size // 2, window_size)))\n",
    "            else:\n",
    "                self.indexes.append((i, i + window_size))\n",
    "\n",
    "            if randomized_stride:\n",
    "                i += random.randint(1, stride)\n",
    "            else:\n",
    "                i += stride\n",
    "\n",
    "    def __len__(self):\n",
    "        return len(self.indexes)\n",
    "\n",
    "    def __getitem__(self, idx):\n",
    "        s, t = self.indexes[idx]\n",
    "        x = self.csv.iloc[s:t][self.xcols].to_numpy()\n",
    "        y = self.csv.iloc[t + 6][self.ycols].to_numpy()\n",
    "\n",
    "        x = torch.tensor(x, dtype=torch.float32) # 300, 6\n",
    "        y = torch.tensor(y, dtype=torch.float32) # 3\n",
    "        \n",
    "        #x[:, :3] *= pi / 180\n",
    "        x[:, 3:] /= 10\n",
    "\n",
    "        return x, y"
   ]
  },
  {
   "cell_type": "code",
   "execution_count": 5,
   "metadata": {},
   "outputs": [],
   "source": [
    "ds_train = [CSVSequentialDataset(f,  \n",
    "                                 window_size=WINDOW_SIZE, randomized_window_size=False,\n",
    "                                 stride=1, randomized_stride=True) for f in TRAIN_FILES]\n",
    "ds_train = tb.data.ChainDataset(*ds_train)\n",
    "ds_test = [CSVSequentialDataset(f,  \n",
    "                                window_size=WINDOW_SIZE, randomized_window_size=False,\n",
    "                                stride=1, randomized_stride=True) for f in TEST_FILES]\n",
    "ds_test = tb.data.ChainDataset(*ds_test)"
   ]
  },
  {
   "cell_type": "code",
   "execution_count": 6,
   "metadata": {},
   "outputs": [
    {
     "data": {
      "text/plain": [
       "(55167, 57167)"
      ]
     },
     "execution_count": 6,
     "metadata": {},
     "output_type": "execute_result"
    }
   ],
   "source": [
    "len(ds_train), len(ds_test)"
   ]
  },
  {
   "cell_type": "code",
   "execution_count": 7,
   "metadata": {},
   "outputs": [
    {
     "data": {
      "text/plain": [
       "(torch.Size([60, 6]), torch.Size([3]))"
      ]
     },
     "execution_count": 7,
     "metadata": {},
     "output_type": "execute_result"
    }
   ],
   "source": [
    "ds_train[0][0].shape, ds_train[0][1].shape"
   ]
  },
  {
   "cell_type": "code",
   "execution_count": 8,
   "metadata": {},
   "outputs": [],
   "source": [
    "x, y = ds_train[0]"
   ]
  },
  {
   "cell_type": "code",
   "execution_count": 9,
   "metadata": {},
   "outputs": [
    {
     "data": {
      "text/plain": [
       "torch.Size([60, 6])"
      ]
     },
     "execution_count": 9,
     "metadata": {},
     "output_type": "execute_result"
    }
   ],
   "source": [
    "x.shape"
   ]
  },
  {
   "cell_type": "code",
   "execution_count": 10,
   "metadata": {},
   "outputs": [
    {
     "data": {
      "text/plain": [
       "[<matplotlib.lines.Line2D at 0x7fd938dfa510>]"
      ]
     },
     "execution_count": 10,
     "metadata": {},
     "output_type": "execute_result"
    },
    {
     "data": {
      "image/png": "[encoded data removed]",
      "text/plain": [
       "<Figure size 432x288 with 1 Axes>"
      ]
     },
     "metadata": {
      "needs_background": "light"
     },
     "output_type": "display_data"
    }
   ],
   "source": [
    "plt.plot(x[:, 2])"
   ]
  },
  {
   "cell_type": "markdown",
   "metadata": {},
   "source": [
    "# 모델 생성\n",
    "\n",
    "StackedLSTM Bidirectional"
   ]
  },
  {
   "cell_type": "code",
   "execution_count": 11,
   "metadata": {},
   "outputs": [],
   "source": [
    "model = utils.BaselineLSTM(input_size=6,\n",
    "                           hidden_size=24,\n",
    "                           num_layers=8,\n",
    "                           dropout=0.1,\n",
    "                           bidirectional=True).cuda()"
   ]
  },
  {
   "cell_type": "code",
   "execution_count": 12,
   "metadata": {},
   "outputs": [],
   "source": [
    "criterion = nn.MSELoss().cuda()\n",
    "optimizer = torch_optimizer.RAdam(model.parameters())"
   ]
  },
  {
   "cell_type": "code",
   "execution_count": 13,
   "metadata": {},
   "outputs": [],
   "source": [
    "metrics = [tb.metrics.ModuleMetric(criterion, 'loss'),\n",
    "           utils.HPMetric('hp_metric'),\n",
    "           utils.HPSignalHistory(CHECKPOINT_DIR / 'sample' / '{epoch:04d}.npy', 'hp_signal')]"
   ]
  },
  {
   "cell_type": "code",
   "execution_count": 14,
   "metadata": {},
   "outputs": [],
   "source": [
    "callbacks = [tb.callbacks.EarlyStopping(metrics[0]),\n",
    "             tb.callbacks.LRDecaying(optimizer, metrics[0])]"
   ]
  },
  {
   "cell_type": "code",
   "execution_count": 15,
   "metadata": {},
   "outputs": [],
   "source": [
    "trainer = tb.Trainer(model, optimizer, metrics, callbacks, ncols=100)"
   ]
  },
  {
   "cell_type": "code",
   "execution_count": null,
   "metadata": {},
   "outputs": [
    {
     "name": "stderr",
     "output_type": "stream",
     "text": [
      "[0001/0100] Train: 100%|███████████████████████████| 216/216 [00:08<00:00, 24.25it/s, loss 189.0294]\n",
      "[0001/0100] Validation: 100%|██████████████████| 224/224 [00:05<00:00, 42.42it/s, val_loss 128.8458]\n",
      "[0002/0100] Train:   0%|                                                    | 0/216 [00:00<?, ?it/s]"
     ]
    },
    {
     "name": "stdout",
     "output_type": "stream",
     "text": [
      "                  validation\n",
      " - Yaw          :   9.077783\n",
      " - Pitch        :  10.601428\n",
      " - Roll         :   3.086130\n",
      " - RMS          :   8.252688\n",
      " - 99% Tile     :  42.293835\n",
      "Save output signals into checkpoint/Scene1-LSTM2/sample/0001.npy\n"
     ]
    },
    {
     "name": "stderr",
     "output_type": "stream",
     "text": [
      "[0002/0100] Train: 100%|███████████████████████████| 216/216 [00:09<00:00, 23.57it/s, loss 145.3519]\n",
      "[0002/0100] Validation: 100%|███████████████████| 224/224 [00:05<00:00, 42.20it/s, val_loss 98.6079]\n",
      "[0003/0100] Train:   0%|                                                    | 0/216 [00:00<?, ?it/s]"
     ]
    },
    {
     "name": "stdout",
     "output_type": "stream",
     "text": [
      "                  validation\n",
      " - Yaw          :   8.765939\n",
      " - Pitch        :   8.372552\n",
      " - Roll         :   3.070440\n",
      " - RMS          :   7.219624\n",
      " - 99% Tile     :  37.459354\n",
      "Save output signals into checkpoint/Scene1-LSTM2/sample/0002.npy\n"
     ]
    },
    {
     "name": "stderr",
     "output_type": "stream",
     "text": [
      "[0003/0100] Train: 100%|███████████████████████████| 216/216 [00:08<00:00, 24.39it/s, loss 108.6189]\n",
      "[0003/0100] Validation: 100%|███████████████████| 224/224 [00:05<00:00, 42.65it/s, val_loss 69.6960]\n",
      "[0004/0100] Train:   0%|                                                    | 0/216 [00:00<?, ?it/s]"
     ]
    },
    {
     "name": "stdout",
     "output_type": "stream",
     "text": [
      "                  validation\n",
      " - Yaw          :   6.172045\n",
      " - Pitch        :   6.622475\n",
      " - Roll         :   2.973968\n",
      " - RMS          :   5.501388\n",
      " - 99% Tile     :  33.475121\n",
      "Save output signals into checkpoint/Scene1-LSTM2/sample/0003.npy\n"
     ]
    },
    {
     "name": "stderr",
     "output_type": "stream",
     "text": [
      "[0004/0100] Train: 100%|████████████████████████████| 216/216 [00:08<00:00, 24.45it/s, loss 79.7020]\n",
      "[0004/0100] Validation: 100%|███████████████████| 224/224 [00:05<00:00, 42.77it/s, val_loss 51.5254]\n",
      "[0005/0100] Train:   0%|                                                    | 0/216 [00:00<?, ?it/s]"
     ]
    },
    {
     "name": "stdout",
     "output_type": "stream",
     "text": [
      "                  validation\n",
      " - Yaw          :   4.370397\n",
      " - Pitch        :   5.225002\n",
      " - Roll         :   2.969529\n",
      " - RMS          :   4.290265\n",
      " - 99% Tile     :  30.013702\n",
      "Save output signals into checkpoint/Scene1-LSTM2/sample/0004.npy\n"
     ]
    },
    {
     "name": "stderr",
     "output_type": "stream",
     "text": [
      "[0005/0100] Train: 100%|████████████████████████████| 216/216 [00:09<00:00, 23.71it/s, loss 58.4775]\n",
      "[0005/0100] Validation: 100%|███████████████████| 224/224 [00:05<00:00, 42.97it/s, val_loss 39.2677]\n",
      "[0006/0100] Train:   0%|                                                    | 0/216 [00:00<?, ?it/s]"
     ]
    },
    {
     "name": "stdout",
     "output_type": "stream",
     "text": [
      "                  validation\n",
      " - Yaw          :   3.554574\n",
      " - Pitch        :   4.038747\n",
      " - Roll         :   2.902471\n",
      " - RMS          :   3.529438\n",
      " - 99% Tile     :  26.840424\n",
      "Save output signals into checkpoint/Scene1-LSTM2/sample/0005.npy\n"
     ]
    },
    {
     "name": "stderr",
     "output_type": "stream",
     "text": [
      "[0006/0100] Train: 100%|████████████████████████████| 216/216 [00:08<00:00, 24.57it/s, loss 43.4250]\n",
      "[0006/0100] Validation: 100%|███████████████████| 224/224 [00:05<00:00, 42.28it/s, val_loss 30.3820]\n",
      "[0007/0100] Train:   0%|                                                    | 0/216 [00:00<?, ?it/s]"
     ]
    },
    {
     "name": "stdout",
     "output_type": "stream",
     "text": [
      "                  validation\n",
      " - Yaw          :   2.963082\n",
      " - Pitch        :   3.087537\n",
      " - Roll         :   2.802339\n",
      " - RMS          :   2.953294\n",
      " - 99% Tile     :  23.732456\n",
      "Save output signals into checkpoint/Scene1-LSTM2/sample/0006.npy\n"
     ]
    },
    {
     "name": "stderr",
     "output_type": "stream",
     "text": [
      "[0007/0100] Train: 100%|████████████████████████████| 216/216 [00:08<00:00, 24.66it/s, loss 32.7025]\n",
      "[0007/0100] Validation: 100%|███████████████████| 224/224 [00:05<00:00, 42.69it/s, val_loss 24.5190]\n",
      "[0008/0100] Train:   0%|                                                    | 0/216 [00:00<?, ?it/s]"
     ]
    },
    {
     "name": "stdout",
     "output_type": "stream",
     "text": [
      "                  validation\n",
      " - Yaw          :   2.492846\n",
      " - Pitch        :   2.686671\n",
      " - Roll         :   2.541028\n",
      " - RMS          :   2.574834\n",
      " - 99% Tile     :  21.281820\n",
      "Save output signals into checkpoint/Scene1-LSTM2/sample/0007.npy\n"
     ]
    },
    {
     "name": "stderr",
     "output_type": "stream",
     "text": [
      "[0008/0100] Train: 100%|████████████████████████████| 216/216 [00:09<00:00, 23.71it/s, loss 25.0256]\n",
      "[0008/0100] Validation: 100%|███████████████████| 224/224 [00:05<00:00, 42.69it/s, val_loss 20.3632]\n",
      "[0009/0100] Train:   0%|                                                    | 0/216 [00:00<?, ?it/s]"
     ]
    },
    {
     "name": "stdout",
     "output_type": "stream",
     "text": [
      "                  validation\n",
      " - Yaw          :   2.451383\n",
      " - Pitch        :   2.453016\n",
      " - Roll         :   2.231766\n",
      " - RMS          :   2.380990\n",
      " - 99% Tile     :  18.967091\n",
      "Save output signals into checkpoint/Scene1-LSTM2/sample/0008.npy\n"
     ]
    },
    {
     "name": "stderr",
     "output_type": "stream",
     "text": [
      "[0009/0100] Train: 100%|████████████████████████████| 216/216 [00:08<00:00, 24.10it/s, loss 19.1435]\n",
      "[0009/0100] Validation: 100%|███████████████████| 224/224 [00:05<00:00, 42.25it/s, val_loss 15.7170]\n",
      "[0010/0100] Train:   0%|                                                    | 0/216 [00:00<?, ?it/s]"
     ]
    },
    {
     "name": "stdout",
     "output_type": "stream",
     "text": [
      "                  validation\n",
      " - Yaw          :   1.804800\n",
      " - Pitch        :   1.988465\n",
      " - Roll         :   1.832157\n",
      " - RMS          :   1.876885\n",
      " - 99% Tile     :  16.590652\n",
      "Save output signals into checkpoint/Scene1-LSTM2/sample/0009.npy\n"
     ]
    },
    {
     "name": "stderr",
     "output_type": "stream",
     "text": [
      "[0010/0100] Train: 100%|████████████████████████████| 216/216 [00:09<00:00, 23.87it/s, loss 14.8099]\n",
      "[0010/0100] Validation: 100%|███████████████████| 224/224 [00:05<00:00, 42.83it/s, val_loss 13.2553]\n",
      "[0011/0100] Train:   0%|                                                    | 0/216 [00:00<?, ?it/s]"
     ]
    },
    {
     "name": "stdout",
     "output_type": "stream",
     "text": [
      "                  validation\n",
      " - Yaw          :   1.630928\n",
      " - Pitch        :   1.900932\n",
      " - Roll         :   1.639262\n",
      " - RMS          :   1.728260\n",
      " - 99% Tile     :  14.991459\n",
      "Save output signals into checkpoint/Scene1-LSTM2/sample/0010.npy\n"
     ]
    },
    {
     "name": "stderr",
     "output_type": "stream",
     "text": [
      "[0011/0100] Train: 100%|████████████████████████████| 216/216 [00:08<00:00, 24.33it/s, loss 11.6419]\n",
      "[0011/0100] Validation: 100%|███████████████████| 224/224 [00:05<00:00, 42.40it/s, val_loss 11.5909]\n",
      "[0012/0100] Train:   0%|                                                    | 0/216 [00:00<?, ?it/s]"
     ]
    },
    {
     "name": "stdout",
     "output_type": "stream",
     "text": [
      "                  validation\n",
      " - Yaw          :   1.452608\n",
      " - Pitch        :   1.743327\n",
      " - Roll         :   1.490945\n",
      " - RMS          :   1.567607\n",
      " - 99% Tile     :  13.878532\n",
      "Save output signals into checkpoint/Scene1-LSTM2/sample/0011.npy\n"
     ]
    },
    {
     "name": "stderr",
     "output_type": "stream",
     "text": [
      "[0012/0100] Train: 100%|█████████████████████████████| 216/216 [00:09<00:00, 23.94it/s, loss 9.2854]\n",
      "[0012/0100] Validation: 100%|███████████████████| 224/224 [00:05<00:00, 41.77it/s, val_loss 10.4931]\n",
      "[0013/0100] Train:   0%|                                                    | 0/216 [00:00<?, ?it/s]"
     ]
    },
    {
     "name": "stdout",
     "output_type": "stream",
     "text": [
      "                  validation\n",
      " - Yaw          :   1.482659\n",
      " - Pitch        :   1.632403\n",
      " - Roll         :   1.362599\n",
      " - RMS          :   1.496629\n",
      " - 99% Tile     :  13.173480\n",
      "Save output signals into checkpoint/Scene1-LSTM2/sample/0012.npy\n"
     ]
    },
    {
     "name": "stderr",
     "output_type": "stream",
     "text": [
      "[0013/0100] Train: 100%|█████████████████████████████| 216/216 [00:08<00:00, 24.43it/s, loss 7.5959]\n",
      "[0013/0100] Validation: 100%|████████████████████| 224/224 [00:05<00:00, 42.47it/s, val_loss 9.4577]\n",
      "[0014/0100] Train:   0%|                                                    | 0/216 [00:00<?, ?it/s]"
     ]
    },
    {
     "name": "stdout",
     "output_type": "stream",
     "text": [
      "                  validation\n",
      " - Yaw          :   1.350510\n",
      " - Pitch        :   1.683921\n",
      " - Roll         :   1.305346\n",
      " - RMS          :   1.456411\n",
      " - 99% Tile     :  12.905151\n",
      "Save output signals into checkpoint/Scene1-LSTM2/sample/0013.npy\n"
     ]
    },
    {
     "name": "stderr",
     "output_type": "stream",
     "text": [
      "[0014/0100] Train: 100%|█████████████████████████████| 216/216 [00:08<00:00, 24.81it/s, loss 6.3772]\n",
      "[0014/0100] Validation: 100%|████████████████████| 224/224 [00:05<00:00, 43.24it/s, val_loss 8.6875]\n",
      "[0015/0100] Train:   0%|                                                    | 0/216 [00:00<?, ?it/s]"
     ]
    },
    {
     "name": "stdout",
     "output_type": "stream",
     "text": [
      "                  validation\n",
      " - Yaw          :   1.377744\n",
      " - Pitch        :   1.381131\n",
      " - Roll         :   1.306958\n",
      " - RMS          :   1.355709\n",
      " - 99% Tile     :  12.556372\n",
      "Save output signals into checkpoint/Scene1-LSTM2/sample/0014.npy\n"
     ]
    },
    {
     "name": "stderr",
     "output_type": "stream",
     "text": [
      "[0015/0100] Train: 100%|█████████████████████████████| 216/216 [00:08<00:00, 24.14it/s, loss 5.3916]\n",
      "[0015/0100] Validation: 100%|████████████████████| 224/224 [00:05<00:00, 42.97it/s, val_loss 8.0099]\n",
      "[0016/0100] Train:   0%|                                                    | 0/216 [00:00<?, ?it/s]"
     ]
    },
    {
     "name": "stdout",
     "output_type": "stream",
     "text": [
      "                  validation\n",
      " - Yaw          :   1.286640\n",
      " - Pitch        :   1.421262\n",
      " - Roll         :   1.143563\n",
      " - RMS          :   1.288819\n",
      " - 99% Tile     :  11.849131\n",
      "Save output signals into checkpoint/Scene1-LSTM2/sample/0015.npy\n"
     ]
    },
    {
     "name": "stderr",
     "output_type": "stream",
     "text": [
      "[0016/0100] Train: 100%|█████████████████████████████| 216/216 [00:09<00:00, 23.64it/s, loss 4.6269]\n",
      "[0016/0100] Validation: 100%|████████████████████| 224/224 [00:05<00:00, 42.75it/s, val_loss 7.5557]\n",
      "[0017/0100] Train:   0%|                                                    | 0/216 [00:00<?, ?it/s]"
     ]
    },
    {
     "name": "stdout",
     "output_type": "stream",
     "text": [
      "                  validation\n",
      " - Yaw          :   1.161102\n",
      " - Pitch        :   1.307732\n",
      " - Roll         :   1.153745\n",
      " - RMS          :   1.209607\n",
      " - 99% Tile     :  11.618811\n",
      "Save output signals into checkpoint/Scene1-LSTM2/sample/0016.npy\n"
     ]
    },
    {
     "name": "stderr",
     "output_type": "stream",
     "text": [
      "[0017/0100] Train: 100%|█████████████████████████████| 216/216 [00:08<00:00, 24.80it/s, loss 4.1577]\n",
      "[0017/0100] Validation: 100%|████████████████████| 224/224 [00:05<00:00, 42.63it/s, val_loss 7.3712]\n",
      "[0018/0100] Train:   0%|                                                    | 0/216 [00:00<?, ?it/s]"
     ]
    },
    {
     "name": "stdout",
     "output_type": "stream",
     "text": [
      "                  validation\n",
      " - Yaw          :   1.369673\n",
      " - Pitch        :   1.247259\n",
      " - Roll         :   1.176304\n",
      " - RMS          :   1.266932\n",
      " - 99% Tile     :  11.578972\n",
      "Save output signals into checkpoint/Scene1-LSTM2/sample/0017.npy\n"
     ]
    },
    {
     "name": "stderr",
     "output_type": "stream",
     "text": [
      "[0018/0100] Train: 100%|█████████████████████████████| 216/216 [00:09<00:00, 23.68it/s, loss 3.5637]\n",
      "[0018/0100] Validation: 100%|████████████████████| 224/224 [00:05<00:00, 42.92it/s, val_loss 7.2076]\n",
      "[0019/0100] Train:   0%|                                                    | 0/216 [00:00<?, ?it/s]"
     ]
    },
    {
     "name": "stdout",
     "output_type": "stream",
     "text": [
      "                  validation\n",
      " - Yaw          :   1.315444\n",
      " - Pitch        :   1.348760\n",
      " - Roll         :   1.192754\n",
      " - RMS          :   1.287402\n",
      " - 99% Tile     :  11.232961\n",
      "Save output signals into checkpoint/Scene1-LSTM2/sample/0018.npy\n"
     ]
    },
    {
     "name": "stderr",
     "output_type": "stream",
     "text": [
      "[0019/0100] Train: 100%|█████████████████████████████| 216/216 [00:08<00:00, 24.08it/s, loss 3.2197]\n",
      "[0019/0100] Validation: 100%|████████████████████| 224/224 [00:05<00:00, 42.44it/s, val_loss 6.5845]\n",
      "[0020/0100] Train:   0%|                                                    | 0/216 [00:00<?, ?it/s]"
     ]
    },
    {
     "name": "stdout",
     "output_type": "stream",
     "text": [
      "                  validation\n",
      " - Yaw          :   1.018420\n",
      " - Pitch        :   1.133428\n",
      " - Roll         :   1.043280\n",
      " - RMS          :   1.066188\n",
      " - 99% Tile     :  10.897938\n",
      "Save output signals into checkpoint/Scene1-LSTM2/sample/0019.npy\n"
     ]
    },
    {
     "name": "stderr",
     "output_type": "stream",
     "text": [
      "[0020/0100] Train: 100%|█████████████████████████████| 216/216 [00:08<00:00, 24.15it/s, loss 2.8587]\n",
      "[0020/0100] Validation: 100%|████████████████████| 224/224 [00:05<00:00, 42.48it/s, val_loss 6.4464]\n",
      "[0021/0100] Train:   0%|                                                    | 0/216 [00:00<?, ?it/s]"
     ]
    },
    {
     "name": "stdout",
     "output_type": "stream",
     "text": [
      "                  validation\n",
      " - Yaw          :   1.081089\n",
      " - Pitch        :   1.121155\n",
      " - Roll         :   1.019278\n",
      " - RMS          :   1.074658\n",
      " - 99% Tile     :  10.475988\n",
      "Save output signals into checkpoint/Scene1-LSTM2/sample/0020.npy\n"
     ]
    },
    {
     "name": "stderr",
     "output_type": "stream",
     "text": [
      "[0021/0100] Train: 100%|█████████████████████████████| 216/216 [00:09<00:00, 23.79it/s, loss 2.6217]\n",
      "[0021/0100] Validation: 100%|████████████████████| 224/224 [00:05<00:00, 41.69it/s, val_loss 6.5177]\n",
      "[0022/0100] Train:   0%|                                                    | 0/216 [00:00<?, ?it/s]"
     ]
    },
    {
     "name": "stdout",
     "output_type": "stream",
     "text": [
      "val_loss is not improved for 1 epochs\n",
      "                  validation\n",
      " - Yaw          :   1.109530\n",
      " - Pitch        :   1.262259\n",
      " - Roll         :   1.057664\n",
      " - RMS          :   1.146445\n",
      " - 99% Tile     :  10.258299\n",
      "Save output signals into checkpoint/Scene1-LSTM2/sample/0021.npy\n"
     ]
    },
    {
     "name": "stderr",
     "output_type": "stream",
     "text": [
      "[0022/0100] Train: 100%|█████████████████████████████| 216/216 [00:09<00:00, 23.77it/s, loss 2.4795]\n",
      "[0022/0100] Validation: 100%|████████████████████| 224/224 [00:05<00:00, 42.79it/s, val_loss 6.5746]\n",
      "[0023/0100] Train:   0%|                                                    | 0/216 [00:00<?, ?it/s]"
     ]
    },
    {
     "name": "stdout",
     "output_type": "stream",
     "text": [
      "val_loss is not improved for 2 epochs\n",
      "                  validation\n",
      " - Yaw          :   1.053655\n",
      " - Pitch        :   1.172550\n",
      " - Roll         :   1.056813\n",
      " - RMS          :   1.095737\n",
      " - 99% Tile     :  10.493505\n",
      "Save output signals into checkpoint/Scene1-LSTM2/sample/0022.npy\n"
     ]
    },
    {
     "name": "stderr",
     "output_type": "stream",
     "text": [
      "[0023/0100] Train: 100%|█████████████████████████████| 216/216 [00:08<00:00, 24.14it/s, loss 2.2713]\n",
      "[0023/0100] Validation: 100%|████████████████████| 224/224 [00:05<00:00, 42.23it/s, val_loss 6.0077]\n",
      "[0024/0100] Train:   0%|                                                    | 0/216 [00:00<?, ?it/s]"
     ]
    },
    {
     "name": "stdout",
     "output_type": "stream",
     "text": [
      "                  validation\n",
      " - Yaw          :   1.014135\n",
      " - Pitch        :   1.119710\n",
      " - Roll         :   0.995100\n",
      " - RMS          :   1.044421\n",
      " - 99% Tile     :  10.034706\n",
      "Save output signals into checkpoint/Scene1-LSTM2/sample/0023.npy\n"
     ]
    },
    {
     "name": "stderr",
     "output_type": "stream",
     "text": [
      "[0024/0100] Train: 100%|█████████████████████████████| 216/216 [00:09<00:00, 23.91it/s, loss 2.0899]\n",
      "[0024/0100] Validation: 100%|████████████████████| 224/224 [00:05<00:00, 42.74it/s, val_loss 6.2635]\n",
      "[0025/0100] Train:   0%|                                                    | 0/216 [00:00<?, ?it/s]"
     ]
    },
    {
     "name": "stdout",
     "output_type": "stream",
     "text": [
      "val_loss is not improved for 1 epochs\n",
      "                  validation\n",
      " - Yaw          :   1.073858\n",
      " - Pitch        :   1.123342\n",
      " - Roll         :   0.960786\n",
      " - RMS          :   1.054858\n",
      " - 99% Tile     :   9.962172\n",
      "Save output signals into checkpoint/Scene1-LSTM2/sample/0024.npy\n"
     ]
    },
    {
     "name": "stderr",
     "output_type": "stream",
     "text": [
      "[0025/0100] Train: 100%|█████████████████████████████| 216/216 [00:08<00:00, 24.14it/s, loss 1.9379]\n",
      "[0025/0100] Validation: 100%|████████████████████| 224/224 [00:05<00:00, 42.06it/s, val_loss 6.1040]\n",
      "[0026/0100] Train:   0%|                                                    | 0/216 [00:00<?, ?it/s]"
     ]
    },
    {
     "name": "stdout",
     "output_type": "stream",
     "text": [
      "val_loss is not improved for 2 epochs\n",
      "                  validation\n",
      " - Yaw          :   0.899150\n",
      " - Pitch        :   1.140846\n",
      " - Roll         :   0.970852\n",
      " - RMS          :   1.008721\n",
      " - 99% Tile     :   9.996721\n",
      "Save output signals into checkpoint/Scene1-LSTM2/sample/0025.npy\n"
     ]
    },
    {
     "name": "stderr",
     "output_type": "stream",
     "text": [
      "[0026/0100] Train: 100%|█████████████████████████████| 216/216 [00:08<00:00, 24.94it/s, loss 1.8266]\n",
      "[0026/0100] Validation: 100%|████████████████████| 224/224 [00:05<00:00, 42.93it/s, val_loss 5.9458]\n",
      "[0027/0100] Train:   0%|                                                    | 0/216 [00:00<?, ?it/s]"
     ]
    },
    {
     "name": "stdout",
     "output_type": "stream",
     "text": [
      "                  validation\n",
      " - Yaw          :   0.877526\n",
      " - Pitch        :   1.004750\n",
      " - Roll         :   0.982141\n",
      " - RMS          :   0.956412\n",
      " - 99% Tile     :  10.111685\n",
      "Save output signals into checkpoint/Scene1-LSTM2/sample/0026.npy\n"
     ]
    },
    {
     "name": "stderr",
     "output_type": "stream",
     "text": [
      "[0027/0100] Train: 100%|█████████████████████████████| 216/216 [00:08<00:00, 24.38it/s, loss 1.7311]\n",
      "[0027/0100] Validation: 100%|████████████████████| 224/224 [00:05<00:00, 42.40it/s, val_loss 6.2608]\n",
      "[0028/0100] Train:   0%|                                                    | 0/216 [00:00<?, ?it/s]"
     ]
    },
    {
     "name": "stdout",
     "output_type": "stream",
     "text": [
      "val_loss is not improved for 1 epochs\n",
      "                  validation\n",
      " - Yaw          :   1.062625\n",
      " - Pitch        :   0.996466\n",
      " - Roll         :   0.958078\n",
      " - RMS          :   1.006650\n",
      " - 99% Tile     :  10.212240\n",
      "Save output signals into checkpoint/Scene1-LSTM2/sample/0027.npy\n"
     ]
    },
    {
     "name": "stderr",
     "output_type": "stream",
     "text": [
      "[0028/0100] Train: 100%|█████████████████████████████| 216/216 [00:09<00:00, 23.70it/s, loss 1.7136]\n",
      "[0028/0100] Validation:  24%|█████                | 54/224 [00:01<00:08, 19.55it/s, val_loss 9.1077]"
     ]
    }
   ],
   "source": [
    "trainer.fit(ds_train, ds_test, num_epochs=100, batch_size=256, shuffle=True, pin_memory=True)"
   ]
  },
  {
   "cell_type": "code",
   "execution_count": null,
   "metadata": {},
   "outputs": [],
   "source": []
  }
 ],
 "metadata": {
  "kernelspec": {
   "display_name": "torch",
   "language": "python",
   "name": "torch"
  },
  "language_info": {
   "codemirror_mode": {
    "name": "ipython",
    "version": 3
   },
   "file_extension": ".py",
   "mimetype": "text/x-python",
   "name": "python",
   "nbconvert_exporter": "python",
   "pygments_lexer": "ipython3",
   "version": "3.7.9"
  }
 },
 "nbformat": 4,
 "nbformat_minor": 4
}
