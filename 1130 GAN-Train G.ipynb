{
 "cells": [
  {
   "cell_type": "markdown",
   "metadata": {},
   "source": [
    "# 목표\n",
    "\n",
    "Conv based로 D 모델만 학습이 가능한지 확인.\n",
    "\n",
    "1. 가상의 G 모델(CLSTMC, pretrained)로 testset에 대해 prediction들을 생성\n",
    "2. 생성한 데이터를 npy 파일로 저장\n",
    "3. D 모델에서 가짜와 진짜 데이터를 구분이 가능한지(예측 데이터와 실제 데이터에 실제로 차이가 있는지) 를 확인한다."
   ]
  },
  {
   "cell_type": "code",
   "execution_count": 1,
   "metadata": {},
   "outputs": [],
   "source": [
    "from multiprocessing import cpu_count\n",
    "from pathlib import Path\n",
    "from typing import List, Union, AnyStr\n",
    "from math import pi\n",
    "import pickle\n",
    "\n",
    "import numpy as np\n",
    "import torch\n",
    "import matplotlib.pyplot as plt\n",
    "import torch.nn as nn\n",
    "from sklearn import model_selection\n",
    "from tqdm import tqdm\n",
    "import torch_optimizer\n",
    "from torch.utils.data import Dataset, DataLoader\n",
    "import pandas as pd\n",
    "import random\n",
    "from torchvision.models.resnet import resnet18\n",
    "\n",
    "import torch_burn as tb\n",
    "import utils"
   ]
  },
  {
   "cell_type": "code",
   "execution_count": 2,
   "metadata": {},
   "outputs": [],
   "source": [
    "tb.seed_everything(0)"
   ]
  },
  {
   "cell_type": "code",
   "execution_count": 3,
   "metadata": {},
   "outputs": [],
   "source": [
    "EXPERIMENT_NAME = '1130-Train-G'\n",
    "CHECKPOINT_DIR = Path('checkpoint', EXPERIMENT_NAME)\n",
    "CHECKPOINT_DIR.mkdir(parents=True, exist_ok=True)\n",
    "\n",
    "DS_X = Path('data/1130/X.npy')\n",
    "DS_Y = Path('data/1130/Y.npy')\n",
    "DS_PRED = Path('data/1130/pred.npy')"
   ]
  },
  {
   "cell_type": "markdown",
   "metadata": {},
   "source": [
    "# 데이터셋 생성"
   ]
  },
  {
   "cell_type": "code",
   "execution_count": 4,
   "metadata": {},
   "outputs": [],
   "source": [
    "def load_result(checkpoint_dir):\n",
    "    d = Path(checkpoint_dir)\n",
    "    X = np.load(d / 'result-X.npy')\n",
    "    Y = np.load(d / 'result-Y.npy')\n",
    "    P = np.load(d / 'result-P.npy')\n",
    "    return X, Y, P"
   ]
  },
  {
   "cell_type": "code",
   "execution_count": 5,
   "metadata": {},
   "outputs": [],
   "source": [
    "X, Y, P = load_result('checkpoint/1130-Scene3-CLSTMC4-X60')"
   ]
  },
  {
   "cell_type": "code",
   "execution_count": 6,
   "metadata": {},
   "outputs": [
    {
     "data": {
      "text/plain": [
       "((54167, 60, 6), (54167, 3), (54167, 3))"
      ]
     },
     "execution_count": 6,
     "metadata": {},
     "output_type": "execute_result"
    }
   ],
   "source": [
    "X.shape, Y.shape, P.shape"
   ]
  },
  {
   "cell_type": "code",
   "execution_count": 7,
   "metadata": {},
   "outputs": [],
   "source": [
    "class DetectorDataset(Dataset):\n",
    "    def __init__(self, X, Y, P, L):\n",
    "        super(DetectorDataset, self).__init__()\n",
    "\n",
    "        self.X = torch.tensor(X, dtype=torch.float32)\n",
    "        self.Y = torch.tensor(Y, dtype=torch.float32)\n",
    "        self.P = torch.tensor(P, dtype=torch.float32)\n",
    "        self.L = L\n",
    "        self.Xsize = self.X.shape[0] // self.L\n",
    "        self.Psize = self.P.shape[0] // self.L\n",
    "        self.dssize = self.Xsize + self.Psize\n",
    "\n",
    "    def __len__(self):\n",
    "        return self.dssize\n",
    "\n",
    "    def __getitem__(self, idx):\n",
    "        if idx < self.Xsize:\n",
    "            input = self.X[idx:idx + self.L, -1, :3]\n",
    "            target = torch.tensor([0], dtype=torch.float32)\n",
    "        else:\n",
    "            idx -= self.Xsize\n",
    "            input = self.P[idx:idx + self.L]\n",
    "            target = torch.tensor([1], dtype=torch.float32)\n",
    "        return input, target"
   ]
  },
  {
   "cell_type": "code",
   "execution_count": 8,
   "metadata": {},
   "outputs": [],
   "source": [
    "ds = DetectorDataset(X, Y, P, 60)"
   ]
  },
  {
   "cell_type": "markdown",
   "metadata": {},
   "source": [
    "# 모델 생성"
   ]
  },
  {
   "cell_type": "code",
   "execution_count": 9,
   "metadata": {},
   "outputs": [],
   "source": [
    "class ResBlock1d(nn.Module):\n",
    "    expansion = 1\n",
    "    \n",
    "    def __init__(self, inchannels, channels, kernel_size, stride=1):\n",
    "        super(ResBlock1d, self).__init__()\n",
    "\n",
    "        self.conv1 = nn.Sequential(\n",
    "            nn.Conv1d(inchannels, channels * self.expansion, kernel_size, stride=stride, padding=kernel_size // 2),\n",
    "            nn.BatchNorm1d(channels),\n",
    "            nn.LeakyReLU(),\n",
    "            nn.Conv1d(channels, channels * self.expansion, kernel_size, stride=stride, padding=kernel_size // 2),\n",
    "            nn.BatchNorm1d(channels)\n",
    "        )\n",
    "        self.conv2 = nn.Sequential(\n",
    "            nn.Conv1d(inchannels, channels * self.expansion, 1, stride=stride),\n",
    "            nn.BatchNorm1d(channels)\n",
    "        )\n",
    "        self.act = nn.LeakyReLU()\n",
    "\n",
    "    def forward(self, x):\n",
    "        identity = x\n",
    "\n",
    "        x = self.conv1(x)\n",
    "        identity = self.conv2(identity)\n",
    "        x += identity\n",
    "        x = self.act(x)\n",
    "\n",
    "        return x"
   ]
  },
  {
   "cell_type": "code",
   "execution_count": 10,
   "metadata": {},
   "outputs": [],
   "source": [
    "class ConvDetector(nn.Module):\n",
    "    def __init__(self, block, layers):\n",
    "        super(ConvDetector, self).__init__()\n",
    "        \n",
    "        self.inchannels = 64\n",
    "        \n",
    "        self.conv1 = nn.Sequential(\n",
    "            nn.Conv1d(3, self.inchannels, 7, stride=2, padding=3, bias=False),\n",
    "            nn.BatchNorm1d(64),\n",
    "            nn.ReLU()\n",
    "        )\n",
    "        self.maxpool = nn.MaxPool1d(kernel_size=3, stride=2, padding=1)\n",
    "        \n",
    "        self.layer1 = self._make_layer(block, 64, layers[0])\n",
    "        self.layer2 = self._make_layer(block, 128, layers[1], stride=2)\n",
    "        self.layer3 = self._make_layer(block, 256, layers[2], stride=2)\n",
    "        self.layer4 = self._make_layer(block, 512, layers[3], stride=2)\n",
    "        self.avgpool = nn.AdaptiveAvgPool1d(1)\n",
    "        self.fc = nn.Linear(512 * block.expansion, 1)\n",
    "        self.sigmoid = nn.Sigmoid()\n",
    "\n",
    "    def forward(self, x):\n",
    "        x = x.transpose(1, 2)  # B, S, 6 --> B, 6, S\n",
    "        x = self.conv1(x)\n",
    "        x = self.maxpool(x)\n",
    "        \n",
    "        x = self.layer1(x)\n",
    "        x = self.layer2(x)\n",
    "        x = self.layer3(x)\n",
    "        x = self.layer4(x)\n",
    "        \n",
    "        x = self.avgpool(x)\n",
    "        x = torch.flatten(x, 1)\n",
    "        x = self.fc(x)\n",
    "        x = self.sigmoid(x)\n",
    "\n",
    "        return x\n",
    "    \n",
    "    def _make_layer(self, block, channels, blocks, stride=1):\n",
    "        layers = []\n",
    "        layers.append(block(self.inchannels, channels, 3))\n",
    "        self.inchannels = channels * block.expansion\n",
    "        for _ in range(1, blocks):\n",
    "            layers.append(block(self.inchannels, channels, 3))\n",
    "        \n",
    "        return nn.Sequential(*layers)"
   ]
  },
  {
   "cell_type": "code",
   "execution_count": 11,
   "metadata": {},
   "outputs": [],
   "source": [
    "model = ConvDetector(ResBlock1d, [2, 2, 2, 2]).cuda()"
   ]
  },
  {
   "cell_type": "code",
   "execution_count": 12,
   "metadata": {},
   "outputs": [],
   "source": [
    "x, y = ds[0]"
   ]
  },
  {
   "cell_type": "code",
   "execution_count": 13,
   "metadata": {},
   "outputs": [
    {
     "data": {
      "text/plain": [
       "torch.Size([60, 3])"
      ]
     },
     "execution_count": 13,
     "metadata": {},
     "output_type": "execute_result"
    }
   ],
   "source": [
    "x.shape"
   ]
  },
  {
   "cell_type": "code",
   "execution_count": 14,
   "metadata": {},
   "outputs": [
    {
     "data": {
      "text/plain": [
       "torch.Size([1])"
      ]
     },
     "execution_count": 14,
     "metadata": {},
     "output_type": "execute_result"
    }
   ],
   "source": [
    "y.shape"
   ]
  },
  {
   "cell_type": "code",
   "execution_count": 15,
   "metadata": {},
   "outputs": [
    {
     "name": "stdout",
     "output_type": "stream",
     "text": [
      "tensor([[0.5095]]) tensor([0.])\n",
      "\n"
     ]
    }
   ],
   "source": [
    "model.eval()\n",
    "with torch.no_grad():\n",
    "    x, y = ds[0]\n",
    "    print(model(x.unsqueeze(0).cuda()).cpu(), y)\n",
    "model.train()\n",
    "print()"
   ]
  },
  {
   "cell_type": "code",
   "execution_count": 16,
   "metadata": {},
   "outputs": [],
   "source": [
    "criterion = nn.BCELoss().cuda()\n",
    "optimizer = torch_optimizer.RAdam(model.parameters())"
   ]
  },
  {
   "cell_type": "code",
   "execution_count": 17,
   "metadata": {},
   "outputs": [],
   "source": [
    "class AccuracyMetric(tb.metrics.Metric):\n",
    "    def on_valid_epoch_begin(self, epoch: int):\n",
    "        self.u = 0\n",
    "        self.d = 0\n",
    "\n",
    "    def on_train_epoch_begin(self, epoch: int):\n",
    "        self.u = 0\n",
    "        self.d = 0\n",
    "\n",
    "    def get_value(self, outputs: torch.Tensor, targets: torch.Tensor, is_train: bool):\n",
    "        outputs = outputs.detach().cpu().flatten()\n",
    "        targets = targets.detach().cpu().flatten()\n",
    "        outputs = (outputs > 0.5).type(torch.int)\n",
    "        targets = (targets > 0.5).type(torch.int)\n",
    "        self.u += (1 - torch.abs(outputs - targets)).sum()\n",
    "        self.d += outputs.numel()\n",
    "        return self.u / self.d"
   ]
  },
  {
   "cell_type": "code",
   "execution_count": 18,
   "metadata": {},
   "outputs": [],
   "source": [
    "metrics = [tb.metrics.ModuleMetric(criterion, 'loss'),\n",
    "           AccuracyMetric('acc')]"
   ]
  },
  {
   "cell_type": "code",
   "execution_count": 19,
   "metadata": {},
   "outputs": [],
   "source": [
    "callbacks = [\n",
    "    tb.callbacks.EarlyStopping(metrics[0]),\n",
    "    tb.callbacks.LRDecaying(optimizer, metrics[0], patience=3),\n",
    "    tb.callbacks.SaveCheckpoint({'model': model}, metrics[0], CHECKPOINT_DIR, 'best-ckpt.pth')\n",
    "]"
   ]
  },
  {
   "cell_type": "code",
   "execution_count": 20,
   "metadata": {},
   "outputs": [],
   "source": [
    "trainer = tb.Trainer(model, optimizer, metrics, callbacks, ncols=100)"
   ]
  },
  {
   "cell_type": "code",
   "execution_count": 21,
   "metadata": {},
   "outputs": [
    {
     "name": "stderr",
     "output_type": "stream",
     "text": [
      "[0001/0200] Train: 100%|██████████████████████| 6/6 [00:00<00:00,  7.92it/s, loss 0.7007 acc 0.4751]\n",
      "[0001/0200] Validation: 100%|█████████| 2/2 [00:00<00:00,  4.30it/s, val_loss 0.6930 val_acc 0.5370]\n",
      "[0002/0200] Train:   0%|                                                      | 0/6 [00:00<?, ?it/s]"
     ]
    },
    {
     "name": "stdout",
     "output_type": "stream",
     "text": [
      "Save checkpoint: val_loss decreased from inf to 0.6930488348007202\n"
     ]
    },
    {
     "name": "stderr",
     "output_type": "stream",
     "text": [
      "[0002/0200] Train: 100%|██████████████████████| 6/6 [00:00<00:00,  8.05it/s, loss 0.5799 acc 0.6715]\n",
      "[0002/0200] Validation: 100%|█████████| 2/2 [00:00<00:00,  4.37it/s, val_loss 0.6926 val_acc 0.5270]\n",
      "[0003/0200] Train:   0%|                                                      | 0/6 [00:00<?, ?it/s]"
     ]
    },
    {
     "name": "stdout",
     "output_type": "stream",
     "text": [
      "Save checkpoint: val_loss decreased from 0.6930488348007202 to 0.6925760805606842\n"
     ]
    },
    {
     "name": "stderr",
     "output_type": "stream",
     "text": [
      "[0003/0200] Train: 100%|██████████████████████| 6/6 [00:00<00:00,  7.90it/s, loss 0.3980 acc 0.8810]\n",
      "[0003/0200] Validation: 100%|█████████| 2/2 [00:00<00:00,  4.39it/s, val_loss 0.6972 val_acc 0.3786]\n",
      "[0004/0200] Train:   0%|                                                      | 0/6 [00:00<?, ?it/s]"
     ]
    },
    {
     "name": "stdout",
     "output_type": "stream",
     "text": [
      "val_loss is not improved for 1 epochs\n"
     ]
    },
    {
     "name": "stderr",
     "output_type": "stream",
     "text": [
      "[0004/0200] Train: 100%|██████████████████████| 6/6 [00:00<00:00,  7.76it/s, loss 0.1825 acc 0.9534]\n",
      "[0004/0200] Validation: 100%|█████████| 2/2 [00:00<00:00,  4.39it/s, val_loss 0.7468 val_acc 0.4321]\n",
      "[0005/0200] Train:   0%|                                                      | 0/6 [00:00<?, ?it/s]"
     ]
    },
    {
     "name": "stdout",
     "output_type": "stream",
     "text": [
      "val_loss is not improved for 2 epochs\n"
     ]
    },
    {
     "name": "stderr",
     "output_type": "stream",
     "text": [
      "[0005/0200] Train: 100%|██████████████████████| 6/6 [00:00<00:00,  8.06it/s, loss 0.0787 acc 0.9769]\n",
      "[0005/0200] Validation: 100%|█████████| 2/2 [00:00<00:00,  4.20it/s, val_loss 0.8013 val_acc 0.5610]\n",
      "[0006/0200] Train:   0%|                                                      | 0/6 [00:00<?, ?it/s]"
     ]
    },
    {
     "name": "stdout",
     "output_type": "stream",
     "text": [
      "Decaying lr from 0.001 to 0.0005 because val_loss did not improved for 3 epochs\n",
      "val_loss is not improved for 3 epochs\n"
     ]
    },
    {
     "name": "stderr",
     "output_type": "stream",
     "text": [
      "[0006/0200] Train: 100%|██████████████████████| 6/6 [00:00<00:00,  8.27it/s, loss 0.0642 acc 0.9711]\n",
      "[0006/0200] Validation: 100%|█████████| 2/2 [00:00<00:00,  4.29it/s, val_loss 0.6375 val_acc 0.6740]\n",
      "[0007/0200] Train:   0%|                                                      | 0/6 [00:00<?, ?it/s]"
     ]
    },
    {
     "name": "stdout",
     "output_type": "stream",
     "text": [
      "Save checkpoint: val_loss decreased from 0.6925760805606842 to 0.6375470161437988\n"
     ]
    },
    {
     "name": "stderr",
     "output_type": "stream",
     "text": [
      "[0007/0200] Train: 100%|██████████████████████| 6/6 [00:00<00:00,  7.95it/s, loss 0.0239 acc 0.9995]\n",
      "[0007/0200] Validation: 100%|█████████| 2/2 [00:00<00:00,  4.27it/s, val_loss 0.2683 val_acc 0.8611]\n",
      "[0008/0200] Train:   0%|                                                      | 0/6 [00:00<?, ?it/s]"
     ]
    },
    {
     "name": "stdout",
     "output_type": "stream",
     "text": [
      "Save checkpoint: val_loss decreased from 0.6375470161437988 to 0.2683442682027817\n"
     ]
    },
    {
     "name": "stderr",
     "output_type": "stream",
     "text": [
      "[0008/0200] Train: 100%|██████████████████████| 6/6 [00:00<00:00,  8.10it/s, loss 0.0328 acc 0.9962]\n",
      "[0008/0200] Validation: 100%|█████████| 2/2 [00:00<00:00,  4.47it/s, val_loss 0.0831 val_acc 0.9591]\n",
      "[0009/0200] Train:   0%|                                                      | 0/6 [00:00<?, ?it/s]"
     ]
    },
    {
     "name": "stdout",
     "output_type": "stream",
     "text": [
      "Save checkpoint: val_loss decreased from 0.2683442682027817 to 0.08311472460627556\n"
     ]
    },
    {
     "name": "stderr",
     "output_type": "stream",
     "text": [
      "[0009/0200] Train: 100%|██████████████████████| 6/6 [00:00<00:00,  8.05it/s, loss 0.0331 acc 0.9988]\n",
      "[0009/0200] Validation: 100%|█████████| 2/2 [00:00<00:00,  4.22it/s, val_loss 0.0169 val_acc 1.0000]\n",
      "[0010/0200] Train:   0%|                                                      | 0/6 [00:00<?, ?it/s]"
     ]
    },
    {
     "name": "stdout",
     "output_type": "stream",
     "text": [
      "Save checkpoint: val_loss decreased from 0.08311472460627556 to 0.016932891216129065\n"
     ]
    },
    {
     "name": "stderr",
     "output_type": "stream",
     "text": [
      "[0010/0200] Train: 100%|██████████████████████| 6/6 [00:00<00:00,  8.25it/s, loss 0.0363 acc 0.9901]\n",
      "[0010/0200] Validation: 100%|█████████| 2/2 [00:00<00:00,  4.28it/s, val_loss 0.0446 val_acc 0.9886]\n",
      "[0011/0200] Train:   0%|                                                      | 0/6 [00:00<?, ?it/s]"
     ]
    },
    {
     "name": "stdout",
     "output_type": "stream",
     "text": [
      "val_loss is not improved for 1 epochs\n"
     ]
    },
    {
     "name": "stderr",
     "output_type": "stream",
     "text": [
      "[0011/0200] Train: 100%|██████████████████████| 6/6 [00:00<00:00,  8.14it/s, loss 0.0174 acc 0.9954]\n",
      "[0011/0200] Validation: 100%|█████████| 2/2 [00:00<00:00,  4.36it/s, val_loss 0.0202 val_acc 0.9967]\n",
      "[0012/0200] Train:   0%|                                                      | 0/6 [00:00<?, ?it/s]"
     ]
    },
    {
     "name": "stdout",
     "output_type": "stream",
     "text": [
      "val_loss is not improved for 2 epochs\n"
     ]
    },
    {
     "name": "stderr",
     "output_type": "stream",
     "text": [
      "[0012/0200] Train: 100%|██████████████████████| 6/6 [00:00<00:00,  8.02it/s, loss 0.0142 acc 0.9939]\n",
      "[0012/0200] Validation: 100%|█████████| 2/2 [00:00<00:00,  4.36it/s, val_loss 0.0073 val_acc 0.9967]\n",
      "[0013/0200] Train:   0%|                                                      | 0/6 [00:00<?, ?it/s]"
     ]
    },
    {
     "name": "stdout",
     "output_type": "stream",
     "text": [
      "Save checkpoint: val_loss decreased from 0.016932891216129065 to 0.007278175326064229\n"
     ]
    },
    {
     "name": "stderr",
     "output_type": "stream",
     "text": [
      "[0013/0200] Train: 100%|██████████████████████| 6/6 [00:00<00:00,  7.83it/s, loss 0.0113 acc 0.9975]\n",
      "[0013/0200] Validation: 100%|█████████| 2/2 [00:00<00:00,  4.27it/s, val_loss 0.0079 val_acc 1.0000]\n",
      "[0014/0200] Train:   0%|                                                      | 0/6 [00:00<?, ?it/s]"
     ]
    },
    {
     "name": "stdout",
     "output_type": "stream",
     "text": [
      "val_loss is not improved for 1 epochs\n"
     ]
    },
    {
     "name": "stderr",
     "output_type": "stream",
     "text": [
      "[0014/0200] Train: 100%|██████████████████████| 6/6 [00:00<00:00,  8.06it/s, loss 0.0193 acc 0.9967]\n",
      "[0014/0200] Validation: 100%|█████████| 2/2 [00:00<00:00,  4.29it/s, val_loss 0.0794 val_acc 0.9624]\n",
      "[0015/0200] Train:   0%|                                                      | 0/6 [00:00<?, ?it/s]"
     ]
    },
    {
     "name": "stdout",
     "output_type": "stream",
     "text": [
      "val_loss is not improved for 2 epochs\n"
     ]
    },
    {
     "name": "stderr",
     "output_type": "stream",
     "text": [
      "[0015/0200] Train: 100%|██████████████████████| 6/6 [00:00<00:00,  7.84it/s, loss 0.0306 acc 0.9906]\n",
      "[0015/0200] Validation: 100%|█████████| 2/2 [00:00<00:00,  4.20it/s, val_loss 0.0202 val_acc 0.9986]\n",
      "[0016/0200] Train:   0%|                                                      | 0/6 [00:00<?, ?it/s]"
     ]
    },
    {
     "name": "stdout",
     "output_type": "stream",
     "text": [
      "Decaying lr from 0.0005 to 0.00025 because val_loss did not improved for 3 epochs\n",
      "val_loss is not improved for 3 epochs\n"
     ]
    },
    {
     "name": "stderr",
     "output_type": "stream",
     "text": [
      "[0016/0200] Train: 100%|██████████████████████| 6/6 [00:00<00:00,  8.04it/s, loss 0.0320 acc 0.9940]\n",
      "[0016/0200] Validation: 100%|█████████| 2/2 [00:00<00:00,  4.41it/s, val_loss 0.0063 val_acc 1.0000]\n",
      "[0017/0200] Train:   0%|                                                      | 0/6 [00:00<?, ?it/s]"
     ]
    },
    {
     "name": "stdout",
     "output_type": "stream",
     "text": [
      "Save checkpoint: val_loss decreased from 0.007278175326064229 to 0.006260894006118178\n"
     ]
    },
    {
     "name": "stderr",
     "output_type": "stream",
     "text": [
      "[0017/0200] Train: 100%|██████████████████████| 6/6 [00:00<00:00,  7.98it/s, loss 0.0092 acc 0.9992]\n",
      "[0017/0200] Validation: 100%|█████████| 2/2 [00:00<00:00,  4.35it/s, val_loss 0.0476 val_acc 0.9733]\n",
      "[0018/0200] Train:   0%|                                                      | 0/6 [00:00<?, ?it/s]"
     ]
    },
    {
     "name": "stdout",
     "output_type": "stream",
     "text": [
      "val_loss is not improved for 1 epochs\n"
     ]
    },
    {
     "name": "stderr",
     "output_type": "stream",
     "text": [
      "[0018/0200] Train: 100%|██████████████████████| 6/6 [00:00<00:00,  8.15it/s, loss 0.0094 acc 0.9958]\n",
      "[0018/0200] Validation: 100%|█████████| 2/2 [00:00<00:00,  4.34it/s, val_loss 0.0539 val_acc 0.9719]\n",
      "[0019/0200] Train:   0%|                                                      | 0/6 [00:00<?, ?it/s]"
     ]
    },
    {
     "name": "stdout",
     "output_type": "stream",
     "text": [
      "val_loss is not improved for 2 epochs\n"
     ]
    },
    {
     "name": "stderr",
     "output_type": "stream",
     "text": [
      "[0019/0200] Train: 100%|██████████████████████| 6/6 [00:00<00:00,  8.26it/s, loss 0.0065 acc 1.0000]\n",
      "[0019/0200] Validation: 100%|█████████| 2/2 [00:00<00:00,  4.39it/s, val_loss 0.0048 val_acc 1.0000]\n",
      "[0020/0200] Train:   0%|                                                      | 0/6 [00:00<?, ?it/s]"
     ]
    },
    {
     "name": "stdout",
     "output_type": "stream",
     "text": [
      "Save checkpoint: val_loss decreased from 0.006260894006118178 to 0.004799040267243981\n"
     ]
    },
    {
     "name": "stderr",
     "output_type": "stream",
     "text": [
      "[0020/0200] Train: 100%|██████████████████████| 6/6 [00:00<00:00,  8.07it/s, loss 0.0033 acc 1.0000]\n",
      "[0020/0200] Validation: 100%|█████████| 2/2 [00:00<00:00,  4.34it/s, val_loss 0.0185 val_acc 0.9900]\n",
      "[0021/0200] Train:   0%|                                                      | 0/6 [00:00<?, ?it/s]"
     ]
    },
    {
     "name": "stdout",
     "output_type": "stream",
     "text": [
      "val_loss is not improved for 1 epochs\n"
     ]
    },
    {
     "name": "stderr",
     "output_type": "stream",
     "text": [
      "[0021/0200] Train: 100%|██████████████████████| 6/6 [00:00<00:00,  8.02it/s, loss 0.0111 acc 0.9980]\n",
      "[0021/0200] Validation: 100%|█████████| 2/2 [00:00<00:00,  4.27it/s, val_loss 0.0017 val_acc 1.0000]\n",
      "[0022/0200] Train:   0%|                                                      | 0/6 [00:00<?, ?it/s]"
     ]
    },
    {
     "name": "stdout",
     "output_type": "stream",
     "text": [
      "Save checkpoint: val_loss decreased from 0.004799040267243981 to 0.0016892787534743547\n"
     ]
    },
    {
     "name": "stderr",
     "output_type": "stream",
     "text": [
      "[0022/0200] Train: 100%|██████████████████████| 6/6 [00:00<00:00,  8.18it/s, loss 0.0059 acc 0.9999]\n",
      "[0022/0200] Validation: 100%|█████████| 2/2 [00:00<00:00,  4.30it/s, val_loss 0.0103 val_acc 0.9986]\n",
      "[0023/0200] Train:   0%|                                                      | 0/6 [00:00<?, ?it/s]"
     ]
    },
    {
     "name": "stdout",
     "output_type": "stream",
     "text": [
      "val_loss is not improved for 1 epochs\n"
     ]
    },
    {
     "name": "stderr",
     "output_type": "stream",
     "text": [
      "[0023/0200] Train: 100%|██████████████████████| 6/6 [00:00<00:00,  8.04it/s, loss 0.0024 acc 1.0000]\n",
      "[0023/0200] Validation: 100%|█████████| 2/2 [00:00<00:00,  4.33it/s, val_loss 0.0011 val_acc 1.0000]\n",
      "[0024/0200] Train:   0%|                                                      | 0/6 [00:00<?, ?it/s]"
     ]
    },
    {
     "name": "stdout",
     "output_type": "stream",
     "text": [
      "Save checkpoint: val_loss decreased from 0.0016892787534743547 to 0.0011241008760407567\n"
     ]
    },
    {
     "name": "stderr",
     "output_type": "stream",
     "text": [
      "[0024/0200] Train: 100%|██████████████████████| 6/6 [00:00<00:00,  8.12it/s, loss 0.0019 acc 1.0000]\n",
      "[0024/0200] Validation: 100%|█████████| 2/2 [00:00<00:00,  4.30it/s, val_loss 0.0027 val_acc 1.0000]\n",
      "[0025/0200] Train:   0%|                                                      | 0/6 [00:00<?, ?it/s]"
     ]
    },
    {
     "name": "stdout",
     "output_type": "stream",
     "text": [
      "val_loss is not improved for 1 epochs\n"
     ]
    },
    {
     "name": "stderr",
     "output_type": "stream",
     "text": [
      "[0025/0200] Train: 100%|██████████████████████| 6/6 [00:00<00:00,  8.18it/s, loss 0.0021 acc 1.0000]\n",
      "[0025/0200] Validation: 100%|█████████| 2/2 [00:00<00:00,  4.27it/s, val_loss 0.0032 val_acc 1.0000]\n",
      "[0026/0200] Train:   0%|                                                      | 0/6 [00:00<?, ?it/s]"
     ]
    },
    {
     "name": "stdout",
     "output_type": "stream",
     "text": [
      "val_loss is not improved for 2 epochs\n"
     ]
    },
    {
     "name": "stderr",
     "output_type": "stream",
     "text": [
      "[0026/0200] Train: 100%|██████████████████████| 6/6 [00:00<00:00,  8.11it/s, loss 0.0019 acc 1.0000]\n",
      "[0026/0200] Validation: 100%|█████████| 2/2 [00:00<00:00,  4.42it/s, val_loss 0.0014 val_acc 1.0000]\n",
      "[0027/0200] Train:   0%|                                                      | 0/6 [00:00<?, ?it/s]"
     ]
    },
    {
     "name": "stdout",
     "output_type": "stream",
     "text": [
      "Decaying lr from 0.00025 to 0.000125 because val_loss did not improved for 3 epochs\n",
      "val_loss is not improved for 3 epochs\n"
     ]
    },
    {
     "name": "stderr",
     "output_type": "stream",
     "text": [
      "[0027/0200] Train: 100%|██████████████████████| 6/6 [00:00<00:00,  8.02it/s, loss 0.0013 acc 1.0000]\n",
      "[0027/0200] Validation: 100%|█████████| 2/2 [00:00<00:00,  4.38it/s, val_loss 0.0010 val_acc 1.0000]\n",
      "[0028/0200] Train:   0%|                                                      | 0/6 [00:00<?, ?it/s]"
     ]
    },
    {
     "name": "stdout",
     "output_type": "stream",
     "text": [
      "Save checkpoint: val_loss decreased from 0.0011241008760407567 to 0.0009909305663313717\n"
     ]
    },
    {
     "name": "stderr",
     "output_type": "stream",
     "text": [
      "[0028/0200] Train: 100%|██████████████████████| 6/6 [00:00<00:00,  8.13it/s, loss 0.0225 acc 0.9992]\n",
      "[0028/0200] Validation: 100%|█████████| 2/2 [00:00<00:00,  4.29it/s, val_loss 0.0009 val_acc 1.0000]\n",
      "[0029/0200] Train:   0%|                                                      | 0/6 [00:00<?, ?it/s]"
     ]
    },
    {
     "name": "stdout",
     "output_type": "stream",
     "text": [
      "Save checkpoint: val_loss decreased from 0.0009909305663313717 to 0.0008741913479752839\n"
     ]
    },
    {
     "name": "stderr",
     "output_type": "stream",
     "text": [
      "[0029/0200] Train: 100%|██████████████████████| 6/6 [00:00<00:00,  8.07it/s, loss 0.0139 acc 0.9972]\n",
      "[0029/0200] Validation: 100%|█████████| 2/2 [00:00<00:00,  4.35it/s, val_loss 0.0045 val_acc 1.0000]\n",
      "[0030/0200] Train:   0%|                                                      | 0/6 [00:00<?, ?it/s]"
     ]
    },
    {
     "name": "stdout",
     "output_type": "stream",
     "text": [
      "val_loss is not improved for 1 epochs\n"
     ]
    },
    {
     "name": "stderr",
     "output_type": "stream",
     "text": [
      "[0030/0200] Train: 100%|██████████████████████| 6/6 [00:00<00:00,  8.01it/s, loss 0.0031 acc 1.0000]\n",
      "[0030/0200] Validation: 100%|█████████| 2/2 [00:00<00:00,  4.26it/s, val_loss 0.0041 val_acc 0.9967]\n",
      "[0031/0200] Train:   0%|                                                      | 0/6 [00:00<?, ?it/s]"
     ]
    },
    {
     "name": "stdout",
     "output_type": "stream",
     "text": [
      "val_loss is not improved for 2 epochs\n"
     ]
    },
    {
     "name": "stderr",
     "output_type": "stream",
     "text": [
      "[0031/0200] Train: 100%|██████████████████████| 6/6 [00:00<00:00,  7.96it/s, loss 0.0036 acc 1.0000]\n",
      "[0031/0200] Validation: 100%|█████████| 2/2 [00:00<00:00,  4.14it/s, val_loss 0.0044 val_acc 0.9967]\n",
      "[0032/0200] Train:   0%|                                                      | 0/6 [00:00<?, ?it/s]"
     ]
    },
    {
     "name": "stdout",
     "output_type": "stream",
     "text": [
      "Decaying lr from 0.000125 to 6.25e-05 because val_loss did not improved for 3 epochs\n",
      "val_loss is not improved for 3 epochs\n"
     ]
    },
    {
     "name": "stderr",
     "output_type": "stream",
     "text": [
      "[0032/0200] Train: 100%|██████████████████████| 6/6 [00:00<00:00,  8.18it/s, loss 0.0045 acc 0.9968]\n",
      "[0032/0200] Validation: 100%|█████████| 2/2 [00:00<00:00,  4.27it/s, val_loss 0.0011 val_acc 1.0000]\n",
      "[0033/0200] Train:   0%|                                                      | 0/6 [00:00<?, ?it/s]"
     ]
    },
    {
     "name": "stdout",
     "output_type": "stream",
     "text": [
      "val_loss is not improved for 4 epochs\n"
     ]
    },
    {
     "name": "stderr",
     "output_type": "stream",
     "text": [
      "[0033/0200] Train: 100%|██████████████████████| 6/6 [00:00<00:00,  8.21it/s, loss 0.0017 acc 1.0000]\n",
      "[0033/0200] Validation: 100%|█████████| 2/2 [00:00<00:00,  4.38it/s, val_loss 0.0008 val_acc 1.0000]\n",
      "[0034/0200] Train:   0%|                                                      | 0/6 [00:00<?, ?it/s]"
     ]
    },
    {
     "name": "stdout",
     "output_type": "stream",
     "text": [
      "Save checkpoint: val_loss decreased from 0.0008741913479752839 to 0.0008150205248966813\n"
     ]
    },
    {
     "name": "stderr",
     "output_type": "stream",
     "text": [
      "[0034/0200] Train: 100%|██████████████████████| 6/6 [00:00<00:00,  8.29it/s, loss 0.0014 acc 1.0000]\n",
      "[0034/0200] Validation: 100%|█████████| 2/2 [00:00<00:00,  4.26it/s, val_loss 0.0008 val_acc 1.0000]\n",
      "[0035/0200] Train:   0%|                                                      | 0/6 [00:00<?, ?it/s]"
     ]
    },
    {
     "name": "stdout",
     "output_type": "stream",
     "text": [
      "val_loss is not improved for 1 epochs\n"
     ]
    },
    {
     "name": "stderr",
     "output_type": "stream",
     "text": [
      "[0035/0200] Train: 100%|██████████████████████| 6/6 [00:00<00:00,  8.24it/s, loss 0.0012 acc 1.0000]\n",
      "[0035/0200] Validation: 100%|█████████| 2/2 [00:00<00:00,  4.31it/s, val_loss 0.0008 val_acc 1.0000]\n",
      "[0036/0200] Train:   0%|                                                      | 0/6 [00:00<?, ?it/s]"
     ]
    },
    {
     "name": "stdout",
     "output_type": "stream",
     "text": [
      "val_loss is not improved for 2 epochs\n"
     ]
    },
    {
     "name": "stderr",
     "output_type": "stream",
     "text": [
      "[0036/0200] Train: 100%|██████████████████████| 6/6 [00:00<00:00,  8.22it/s, loss 0.0014 acc 1.0000]\n",
      "[0036/0200] Validation: 100%|█████████| 2/2 [00:00<00:00,  4.31it/s, val_loss 0.0008 val_acc 1.0000]\n",
      "[0037/0200] Train:   0%|                                                      | 0/6 [00:00<?, ?it/s]"
     ]
    },
    {
     "name": "stdout",
     "output_type": "stream",
     "text": [
      "Save checkpoint: val_loss decreased from 0.0008150205248966813 to 0.0007964237302076072\n"
     ]
    },
    {
     "name": "stderr",
     "output_type": "stream",
     "text": [
      "[0037/0200] Train: 100%|██████████████████████| 6/6 [00:00<00:00,  8.22it/s, loss 0.0012 acc 1.0000]\n",
      "[0037/0200] Validation: 100%|█████████| 2/2 [00:00<00:00,  4.40it/s, val_loss 0.0008 val_acc 1.0000]\n",
      "[0038/0200] Train:   0%|                                                      | 0/6 [00:00<?, ?it/s]"
     ]
    },
    {
     "name": "stdout",
     "output_type": "stream",
     "text": [
      "Save checkpoint: val_loss decreased from 0.0007964237302076072 to 0.0007881573110353202\n"
     ]
    },
    {
     "name": "stderr",
     "output_type": "stream",
     "text": [
      "[0038/0200] Train: 100%|██████████████████████| 6/6 [00:00<00:00,  8.22it/s, loss 0.0012 acc 1.0000]\n",
      "[0038/0200] Validation: 100%|█████████| 2/2 [00:00<00:00,  4.25it/s, val_loss 0.0008 val_acc 1.0000]\n",
      "[0039/0200] Train:   0%|                                                      | 0/6 [00:00<?, ?it/s]"
     ]
    },
    {
     "name": "stdout",
     "output_type": "stream",
     "text": [
      "Save checkpoint: val_loss decreased from 0.0007881573110353202 to 0.0007749269134365022\n"
     ]
    },
    {
     "name": "stderr",
     "output_type": "stream",
     "text": [
      "[0039/0200] Train: 100%|██████████████████████| 6/6 [00:00<00:00,  8.22it/s, loss 0.0011 acc 1.0000]\n",
      "[0039/0200] Validation: 100%|█████████| 2/2 [00:00<00:00,  4.28it/s, val_loss 0.0007 val_acc 1.0000]\n",
      "[0040/0200] Train:   0%|                                                      | 0/6 [00:00<?, ?it/s]"
     ]
    },
    {
     "name": "stdout",
     "output_type": "stream",
     "text": [
      "Save checkpoint: val_loss decreased from 0.0007749269134365022 to 0.0007477402396034449\n"
     ]
    },
    {
     "name": "stderr",
     "output_type": "stream",
     "text": [
      "[0040/0200] Train: 100%|██████████████████████| 6/6 [00:00<00:00,  8.09it/s, loss 0.0018 acc 1.0000]\n",
      "[0040/0200] Validation: 100%|█████████| 2/2 [00:00<00:00,  4.43it/s, val_loss 0.0007 val_acc 1.0000]\n",
      "[0041/0200] Train:   0%|                                                      | 0/6 [00:00<?, ?it/s]"
     ]
    },
    {
     "name": "stdout",
     "output_type": "stream",
     "text": [
      "Save checkpoint: val_loss decreased from 0.0007477402396034449 to 0.0007408222591038793\n"
     ]
    },
    {
     "name": "stderr",
     "output_type": "stream",
     "text": [
      "[0041/0200] Train: 100%|██████████████████████| 6/6 [00:00<00:00,  8.17it/s, loss 0.0013 acc 1.0000]\n",
      "[0041/0200] Validation: 100%|█████████| 2/2 [00:00<00:00,  4.25it/s, val_loss 0.0007 val_acc 1.0000]\n",
      "[0042/0200] Train:   0%|                                                      | 0/6 [00:00<?, ?it/s]"
     ]
    },
    {
     "name": "stdout",
     "output_type": "stream",
     "text": [
      "Save checkpoint: val_loss decreased from 0.0007408222591038793 to 0.0006731085304636508\n"
     ]
    },
    {
     "name": "stderr",
     "output_type": "stream",
     "text": [
      "[0042/0200] Train: 100%|██████████████████████| 6/6 [00:00<00:00,  8.18it/s, loss 0.0017 acc 1.0000]\n",
      "[0042/0200] Validation: 100%|█████████| 2/2 [00:00<00:00,  4.32it/s, val_loss 0.0007 val_acc 1.0000]\n",
      "[0043/0200] Train:   0%|                                                      | 0/6 [00:00<?, ?it/s]"
     ]
    },
    {
     "name": "stdout",
     "output_type": "stream",
     "text": [
      "val_loss is not improved for 1 epochs\n"
     ]
    },
    {
     "name": "stderr",
     "output_type": "stream",
     "text": [
      "[0043/0200] Train: 100%|██████████████████████| 6/6 [00:00<00:00,  8.19it/s, loss 0.0014 acc 1.0000]\n",
      "[0043/0200] Validation: 100%|█████████| 2/2 [00:00<00:00,  4.29it/s, val_loss 0.0007 val_acc 1.0000]\n",
      "[0044/0200] Train:   0%|                                                      | 0/6 [00:00<?, ?it/s]"
     ]
    },
    {
     "name": "stdout",
     "output_type": "stream",
     "text": [
      "val_loss is not improved for 2 epochs\n"
     ]
    },
    {
     "name": "stderr",
     "output_type": "stream",
     "text": [
      "[0044/0200] Train: 100%|██████████████████████| 6/6 [00:00<00:00,  8.29it/s, loss 0.0010 acc 1.0000]\n",
      "[0044/0200] Validation: 100%|█████████| 2/2 [00:00<00:00,  4.37it/s, val_loss 0.0007 val_acc 1.0000]\n",
      "[0045/0200] Train:   0%|                                                      | 0/6 [00:00<?, ?it/s]"
     ]
    },
    {
     "name": "stdout",
     "output_type": "stream",
     "text": [
      "Decaying lr from 6.25e-05 to 3.125e-05 because val_loss did not improved for 3 epochs\n",
      "val_loss is not improved for 3 epochs\n"
     ]
    },
    {
     "name": "stderr",
     "output_type": "stream",
     "text": [
      "[0045/0200] Train: 100%|██████████████████████| 6/6 [00:00<00:00,  8.20it/s, loss 0.0009 acc 1.0000]\n",
      "[0045/0200] Validation: 100%|█████████| 2/2 [00:00<00:00,  4.30it/s, val_loss 0.0007 val_acc 1.0000]\n",
      "[0046/0200] Train:   0%|                                                      | 0/6 [00:00<?, ?it/s]"
     ]
    },
    {
     "name": "stdout",
     "output_type": "stream",
     "text": [
      "Save checkpoint: val_loss decreased from 0.0006731085304636508 to 0.0006522761250380427\n"
     ]
    },
    {
     "name": "stderr",
     "output_type": "stream",
     "text": [
      "[0046/0200] Train: 100%|██████████████████████| 6/6 [00:00<00:00,  8.18it/s, loss 0.0010 acc 1.0000]\n",
      "[0046/0200] Validation: 100%|█████████| 2/2 [00:00<00:00,  4.36it/s, val_loss 0.0006 val_acc 1.0000]\n",
      "[0047/0200] Train:   0%|                                                      | 0/6 [00:00<?, ?it/s]"
     ]
    },
    {
     "name": "stdout",
     "output_type": "stream",
     "text": [
      "Save checkpoint: val_loss decreased from 0.0006522761250380427 to 0.0006362357526086271\n"
     ]
    },
    {
     "name": "stderr",
     "output_type": "stream",
     "text": [
      "[0047/0200] Train: 100%|██████████████████████| 6/6 [00:00<00:00,  8.08it/s, loss 0.0008 acc 1.0000]\n",
      "[0047/0200] Validation: 100%|█████████| 2/2 [00:00<00:00,  4.37it/s, val_loss 0.0006 val_acc 1.0000]\n",
      "[0048/0200] Train:   0%|                                                      | 0/6 [00:00<?, ?it/s]"
     ]
    },
    {
     "name": "stdout",
     "output_type": "stream",
     "text": [
      "Save checkpoint: val_loss decreased from 0.0006362357526086271 to 0.0006224447279237211\n"
     ]
    },
    {
     "name": "stderr",
     "output_type": "stream",
     "text": [
      "[0048/0200] Train: 100%|██████████████████████| 6/6 [00:00<00:00,  8.16it/s, loss 0.0010 acc 1.0000]\n",
      "[0048/0200] Validation: 100%|█████████| 2/2 [00:00<00:00,  4.36it/s, val_loss 0.0006 val_acc 1.0000]\n",
      "[0049/0200] Train:   0%|                                                      | 0/6 [00:00<?, ?it/s]"
     ]
    },
    {
     "name": "stdout",
     "output_type": "stream",
     "text": [
      "Save checkpoint: val_loss decreased from 0.0006224447279237211 to 0.0006163138023111969\n"
     ]
    },
    {
     "name": "stderr",
     "output_type": "stream",
     "text": [
      "[0049/0200] Train: 100%|██████████████████████| 6/6 [00:00<00:00,  8.25it/s, loss 0.0012 acc 1.0000]\n",
      "[0049/0200] Validation: 100%|█████████| 2/2 [00:00<00:00,  4.44it/s, val_loss 0.0006 val_acc 1.0000]\n",
      "[0050/0200] Train:   0%|                                                      | 0/6 [00:00<?, ?it/s]"
     ]
    },
    {
     "name": "stdout",
     "output_type": "stream",
     "text": [
      "Save checkpoint: val_loss decreased from 0.0006163138023111969 to 0.0005988978664390743\n"
     ]
    },
    {
     "name": "stderr",
     "output_type": "stream",
     "text": [
      "[0050/0200] Train: 100%|██████████████████████| 6/6 [00:00<00:00,  8.22it/s, loss 0.0007 acc 1.0000]\n",
      "[0050/0200] Validation: 100%|█████████| 2/2 [00:00<00:00,  4.35it/s, val_loss 0.0006 val_acc 1.0000]\n",
      "[0051/0200] Train:   0%|                                                      | 0/6 [00:00<?, ?it/s]"
     ]
    },
    {
     "name": "stdout",
     "output_type": "stream",
     "text": [
      "Save checkpoint: val_loss decreased from 0.0005988978664390743 to 0.0005957487446721643\n"
     ]
    },
    {
     "name": "stderr",
     "output_type": "stream",
     "text": [
      "[0051/0200] Train: 100%|██████████████████████| 6/6 [00:00<00:00,  8.21it/s, loss 0.0008 acc 1.0000]\n",
      "[0051/0200] Validation: 100%|█████████| 2/2 [00:00<00:00,  4.32it/s, val_loss 0.0006 val_acc 1.0000]\n",
      "[0052/0200] Train:   0%|                                                      | 0/6 [00:00<?, ?it/s]"
     ]
    },
    {
     "name": "stdout",
     "output_type": "stream",
     "text": [
      "val_loss is not improved for 1 epochs\n"
     ]
    },
    {
     "name": "stderr",
     "output_type": "stream",
     "text": [
      "[0052/0200] Train: 100%|██████████████████████| 6/6 [00:00<00:00,  8.20it/s, loss 0.0007 acc 1.0000]\n",
      "[0052/0200] Validation: 100%|█████████| 2/2 [00:00<00:00,  4.31it/s, val_loss 0.0006 val_acc 1.0000]\n",
      "[0053/0200] Train:   0%|                                                      | 0/6 [00:00<?, ?it/s]"
     ]
    },
    {
     "name": "stdout",
     "output_type": "stream",
     "text": [
      "val_loss is not improved for 2 epochs\n"
     ]
    },
    {
     "name": "stderr",
     "output_type": "stream",
     "text": [
      "[0053/0200] Train: 100%|██████████████████████| 6/6 [00:00<00:00,  8.07it/s, loss 0.0007 acc 1.0000]\n",
      "[0053/0200] Validation: 100%|█████████| 2/2 [00:00<00:00,  4.40it/s, val_loss 0.0006 val_acc 1.0000]\n",
      "[0054/0200] Train:   0%|                                                      | 0/6 [00:00<?, ?it/s]"
     ]
    },
    {
     "name": "stdout",
     "output_type": "stream",
     "text": [
      "Decaying lr from 3.125e-05 to 1.5625e-05 because val_loss did not improved for 3 epochs\n",
      "val_loss is not improved for 3 epochs\n"
     ]
    },
    {
     "name": "stderr",
     "output_type": "stream",
     "text": [
      "[0054/0200] Train: 100%|██████████████████████| 6/6 [00:00<00:00,  8.10it/s, loss 0.0008 acc 1.0000]\n",
      "[0054/0200] Validation: 100%|█████████| 2/2 [00:00<00:00,  4.00it/s, val_loss 0.0006 val_acc 1.0000]\n",
      "[0055/0200] Train:   0%|                                                      | 0/6 [00:00<?, ?it/s]"
     ]
    },
    {
     "name": "stdout",
     "output_type": "stream",
     "text": [
      "Save checkpoint: val_loss decreased from 0.0005957487446721643 to 0.0005913640488870442\n"
     ]
    },
    {
     "name": "stderr",
     "output_type": "stream",
     "text": [
      "[0055/0200] Train: 100%|██████████████████████| 6/6 [00:00<00:00,  7.96it/s, loss 0.0007 acc 1.0000]\n",
      "[0055/0200] Validation: 100%|█████████| 2/2 [00:00<00:00,  4.29it/s, val_loss 0.0006 val_acc 1.0000]\n",
      "[0056/0200] Train:   0%|                                                      | 0/6 [00:00<?, ?it/s]"
     ]
    },
    {
     "name": "stdout",
     "output_type": "stream",
     "text": [
      "val_loss is not improved for 1 epochs\n"
     ]
    },
    {
     "name": "stderr",
     "output_type": "stream",
     "text": [
      "[0056/0200] Train: 100%|██████████████████████| 6/6 [00:00<00:00,  8.19it/s, loss 0.0009 acc 1.0000]\n",
      "[0056/0200] Validation: 100%|█████████| 2/2 [00:00<00:00,  4.35it/s, val_loss 0.0006 val_acc 1.0000]\n",
      "[0057/0200] Train:   0%|                                                      | 0/6 [00:00<?, ?it/s]"
     ]
    },
    {
     "name": "stdout",
     "output_type": "stream",
     "text": [
      "val_loss is not improved for 2 epochs\n"
     ]
    },
    {
     "name": "stderr",
     "output_type": "stream",
     "text": [
      "[0057/0200] Train: 100%|██████████████████████| 6/6 [00:00<00:00,  8.05it/s, loss 0.0009 acc 1.0000]\n",
      "[0057/0200] Validation: 100%|█████████| 2/2 [00:00<00:00,  4.20it/s, val_loss 0.0006 val_acc 1.0000]\n",
      "[0058/0200] Train:   0%|                                                      | 0/6 [00:00<?, ?it/s]"
     ]
    },
    {
     "name": "stdout",
     "output_type": "stream",
     "text": [
      "Save checkpoint: val_loss decreased from 0.0005913640488870442 to 0.0005712766433134675\n"
     ]
    },
    {
     "name": "stderr",
     "output_type": "stream",
     "text": [
      "[0058/0200] Train: 100%|██████████████████████| 6/6 [00:00<00:00,  8.06it/s, loss 0.0009 acc 1.0000]\n",
      "[0058/0200] Validation: 100%|█████████| 2/2 [00:00<00:00,  4.38it/s, val_loss 0.0006 val_acc 1.0000]\n",
      "[0059/0200] Train:   0%|                                                      | 0/6 [00:00<?, ?it/s]"
     ]
    },
    {
     "name": "stdout",
     "output_type": "stream",
     "text": [
      "val_loss is not improved for 1 epochs\n"
     ]
    },
    {
     "name": "stderr",
     "output_type": "stream",
     "text": [
      "[0059/0200] Train: 100%|██████████████████████| 6/6 [00:00<00:00,  8.02it/s, loss 0.0009 acc 1.0000]\n",
      "[0059/0200] Validation: 100%|█████████| 2/2 [00:00<00:00,  4.37it/s, val_loss 0.0006 val_acc 1.0000]\n",
      "[0060/0200] Train:   0%|                                                      | 0/6 [00:00<?, ?it/s]"
     ]
    },
    {
     "name": "stdout",
     "output_type": "stream",
     "text": [
      "val_loss is not improved for 2 epochs\n"
     ]
    },
    {
     "name": "stderr",
     "output_type": "stream",
     "text": [
      "[0060/0200] Train: 100%|██████████████████████| 6/6 [00:00<00:00,  8.19it/s, loss 0.0007 acc 1.0000]\n",
      "[0060/0200] Validation: 100%|█████████| 2/2 [00:00<00:00,  4.21it/s, val_loss 0.0006 val_acc 1.0000]\n",
      "[0061/0200] Train:   0%|                                                      | 0/6 [00:00<?, ?it/s]"
     ]
    },
    {
     "name": "stdout",
     "output_type": "stream",
     "text": [
      "Decaying lr from 1.5625e-05 to 7.8125e-06 because val_loss did not improved for 3 epochs\n",
      "val_loss is not improved for 3 epochs\n"
     ]
    },
    {
     "name": "stderr",
     "output_type": "stream",
     "text": [
      "[0061/0200] Train: 100%|██████████████████████| 6/6 [00:00<00:00,  8.19it/s, loss 0.0009 acc 1.0000]\n",
      "[0061/0200] Validation: 100%|█████████| 2/2 [00:00<00:00,  4.42it/s, val_loss 0.0006 val_acc 1.0000]\n",
      "[0062/0200] Train:   0%|                                                      | 0/6 [00:00<?, ?it/s]"
     ]
    },
    {
     "name": "stdout",
     "output_type": "stream",
     "text": [
      "val_loss is not improved for 4 epochs\n"
     ]
    },
    {
     "name": "stderr",
     "output_type": "stream",
     "text": [
      "[0062/0200] Train: 100%|██████████████████████| 6/6 [00:00<00:00,  8.11it/s, loss 0.0011 acc 1.0000]\n",
      "[0062/0200] Validation: 100%|█████████| 2/2 [00:00<00:00,  4.19it/s, val_loss 0.0006 val_acc 1.0000]\n",
      "[0063/0200] Train:   0%|                                                      | 0/6 [00:00<?, ?it/s]"
     ]
    },
    {
     "name": "stdout",
     "output_type": "stream",
     "text": [
      "val_loss is not improved for 5 epochs\n"
     ]
    },
    {
     "name": "stderr",
     "output_type": "stream",
     "text": [
      "[0063/0200] Train: 100%|██████████████████████| 6/6 [00:00<00:00,  8.19it/s, loss 0.0010 acc 1.0000]\n",
      "[0063/0200] Validation: 100%|█████████| 2/2 [00:00<00:00,  4.24it/s, val_loss 0.0006 val_acc 1.0000]\n",
      "[0064/0200] Train:   0%|                                                      | 0/6 [00:00<?, ?it/s]"
     ]
    },
    {
     "name": "stdout",
     "output_type": "stream",
     "text": [
      "Decaying lr from 7.8125e-06 to 3.90625e-06 because val_loss did not improved for 3 epochs\n",
      "val_loss is not improved for 6 epochs\n"
     ]
    },
    {
     "name": "stderr",
     "output_type": "stream",
     "text": [
      "[0064/0200] Train: 100%|██████████████████████| 6/6 [00:00<00:00,  8.03it/s, loss 0.0009 acc 1.0000]\n",
      "[0064/0200] Validation: 100%|█████████| 2/2 [00:00<00:00,  4.37it/s, val_loss 0.0006 val_acc 1.0000]\n",
      "[0065/0200] Train:   0%|                                                      | 0/6 [00:00<?, ?it/s]"
     ]
    },
    {
     "name": "stdout",
     "output_type": "stream",
     "text": [
      "Save checkpoint: val_loss decreased from 0.0005712766433134675 to 0.0005569151835516095\n"
     ]
    },
    {
     "name": "stderr",
     "output_type": "stream",
     "text": [
      "[0065/0200] Train: 100%|██████████████████████| 6/6 [00:00<00:00,  8.05it/s, loss 0.0008 acc 1.0000]\n",
      "[0065/0200] Validation: 100%|█████████| 2/2 [00:00<00:00,  4.32it/s, val_loss 0.0006 val_acc 1.0000]\n",
      "[0066/0200] Train:   0%|                                                      | 0/6 [00:00<?, ?it/s]"
     ]
    },
    {
     "name": "stdout",
     "output_type": "stream",
     "text": [
      "val_loss is not improved for 1 epochs\n"
     ]
    },
    {
     "name": "stderr",
     "output_type": "stream",
     "text": [
      "[0066/0200] Train: 100%|██████████████████████| 6/6 [00:00<00:00,  8.15it/s, loss 0.0007 acc 1.0000]\n",
      "[0066/0200] Validation: 100%|█████████| 2/2 [00:00<00:00,  4.37it/s, val_loss 0.0006 val_acc 1.0000]\n",
      "[0067/0200] Train:   0%|                                                      | 0/6 [00:00<?, ?it/s]"
     ]
    },
    {
     "name": "stdout",
     "output_type": "stream",
     "text": [
      "val_loss is not improved for 2 epochs\n"
     ]
    },
    {
     "name": "stderr",
     "output_type": "stream",
     "text": [
      "[0067/0200] Train: 100%|██████████████████████| 6/6 [00:00<00:00,  8.10it/s, loss 0.0006 acc 1.0000]\n",
      "[0067/0200] Validation: 100%|█████████| 2/2 [00:00<00:00,  4.37it/s, val_loss 0.0006 val_acc 1.0000]\n",
      "[0068/0200] Train:   0%|                                                      | 0/6 [00:00<?, ?it/s]"
     ]
    },
    {
     "name": "stdout",
     "output_type": "stream",
     "text": [
      "Decaying lr from 3.90625e-06 to 1.953125e-06 because val_loss did not improved for 3 epochs\n",
      "val_loss is not improved for 3 epochs\n"
     ]
    },
    {
     "name": "stderr",
     "output_type": "stream",
     "text": [
      "[0068/0200] Train: 100%|██████████████████████| 6/6 [00:00<00:00,  8.12it/s, loss 0.0008 acc 1.0000]\n",
      "[0068/0200] Validation: 100%|█████████| 2/2 [00:00<00:00,  4.25it/s, val_loss 0.0006 val_acc 1.0000]\n",
      "[0069/0200] Train:   0%|                                                      | 0/6 [00:00<?, ?it/s]"
     ]
    },
    {
     "name": "stdout",
     "output_type": "stream",
     "text": [
      "val_loss is not improved for 4 epochs\n"
     ]
    },
    {
     "name": "stderr",
     "output_type": "stream",
     "text": [
      "[0069/0200] Train: 100%|██████████████████████| 6/6 [00:00<00:00,  7.85it/s, loss 0.0007 acc 1.0000]\n",
      "[0069/0200] Validation: 100%|█████████| 2/2 [00:00<00:00,  4.45it/s, val_loss 0.0006 val_acc 1.0000]\n",
      "[0070/0200] Train:   0%|                                                      | 0/6 [00:00<?, ?it/s]"
     ]
    },
    {
     "name": "stdout",
     "output_type": "stream",
     "text": [
      "val_loss is not improved for 5 epochs\n"
     ]
    },
    {
     "name": "stderr",
     "output_type": "stream",
     "text": [
      "[0070/0200] Train: 100%|██████████████████████| 6/6 [00:00<00:00,  8.19it/s, loss 0.0008 acc 1.0000]\n",
      "[0070/0200] Validation: 100%|█████████| 2/2 [00:00<00:00,  4.32it/s, val_loss 0.0006 val_acc 1.0000]\n",
      "[0071/0200] Train:   0%|                                                      | 0/6 [00:00<?, ?it/s]"
     ]
    },
    {
     "name": "stdout",
     "output_type": "stream",
     "text": [
      "Decaying lr from 1.953125e-06 to 9.765625e-07 because val_loss did not improved for 3 epochs\n",
      "val_loss is not improved for 6 epochs\n"
     ]
    },
    {
     "name": "stderr",
     "output_type": "stream",
     "text": [
      "[0071/0200] Train: 100%|██████████████████████| 6/6 [00:00<00:00,  8.18it/s, loss 0.0007 acc 1.0000]\n",
      "[0071/0200] Validation: 100%|█████████| 2/2 [00:00<00:00,  4.19it/s, val_loss 0.0006 val_acc 1.0000]\n",
      "[0072/0200] Train:   0%|                                                      | 0/6 [00:00<?, ?it/s]"
     ]
    },
    {
     "name": "stdout",
     "output_type": "stream",
     "text": [
      "val_loss is not improved for 7 epochs\n"
     ]
    },
    {
     "name": "stderr",
     "output_type": "stream",
     "text": [
      "[0072/0200] Train: 100%|██████████████████████| 6/6 [00:00<00:00,  8.24it/s, loss 0.0008 acc 1.0000]\n",
      "[0072/0200] Validation: 100%|█████████| 2/2 [00:00<00:00,  4.40it/s, val_loss 0.0006 val_acc 1.0000]\n",
      "[0073/0200] Train:   0%|                                                      | 0/6 [00:00<?, ?it/s]"
     ]
    },
    {
     "name": "stdout",
     "output_type": "stream",
     "text": [
      "val_loss is not improved for 8 epochs\n"
     ]
    },
    {
     "name": "stderr",
     "output_type": "stream",
     "text": [
      "[0073/0200] Train: 100%|██████████████████████| 6/6 [00:00<00:00,  8.10it/s, loss 0.0012 acc 1.0000]\n",
      "[0073/0200] Validation: 100%|█████████| 2/2 [00:00<00:00,  4.38it/s, val_loss 0.0006 val_acc 1.0000]\n",
      "[0074/0200] Train:   0%|                                                      | 0/6 [00:00<?, ?it/s]"
     ]
    },
    {
     "name": "stdout",
     "output_type": "stream",
     "text": [
      "Decaying lr from 9.765625e-07 to 4.8828125e-07 because val_loss did not improved for 3 epochs\n",
      "val_loss is not improved for 9 epochs\n"
     ]
    },
    {
     "name": "stderr",
     "output_type": "stream",
     "text": [
      "[0074/0200] Train: 100%|██████████████████████| 6/6 [00:00<00:00,  8.19it/s, loss 0.0009 acc 1.0000]\n",
      "[0074/0200] Validation: 100%|█████████| 2/2 [00:00<00:00,  4.38it/s, val_loss 0.0006 val_acc 1.0000]"
     ]
    },
    {
     "name": "stdout",
     "output_type": "stream",
     "text": [
      "val_loss is not improved for 10 epochs\n",
      "Stop training because val_loss did not improved for 10 epochs\n"
     ]
    },
    {
     "name": "stderr",
     "output_type": "stream",
     "text": [
      "\n"
     ]
    }
   ],
   "source": [
    "trainer.fit(ds, train_valid_split=0.2, num_epochs=200, batch_size=256, shuffle=True, pin_memory=True)"
   ]
  },
  {
   "cell_type": "code",
   "execution_count": null,
   "metadata": {},
   "outputs": [],
   "source": []
  }
 ],
 "metadata": {
  "kernelspec": {
   "display_name": "torch",
   "language": "python",
   "name": "torch"
  },
  "language_info": {
   "codemirror_mode": {
    "name": "ipython",
    "version": 3
   },
   "file_extension": ".py",
   "mimetype": "text/x-python",
   "name": "python",
   "nbconvert_exporter": "python",
   "pygments_lexer": "ipython3",
   "version": "3.7.9"
  }
 },
 "nbformat": 4,
 "nbformat_minor": 4
}
