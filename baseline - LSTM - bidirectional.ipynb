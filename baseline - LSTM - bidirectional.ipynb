{
 "cells": [
  {
   "cell_type": "markdown",
   "metadata": {},
   "source": [
    "# 참고자료\n",
    "\n"
   ]
  },
  {
   "cell_type": "code",
   "execution_count": null,
   "metadata": {},
   "outputs": [],
   "source": [
    "!pip install --upgrade git+https://github.com/Kitsunetic/torch_burn.git"
   ]
  },
  {
   "cell_type": "code",
   "execution_count": 1,
   "metadata": {},
   "outputs": [],
   "source": [
    "from multiprocessing import cpu_count\n",
    "from pathlib import Path\n",
    "from typing import List, Union, AnyStr\n",
    "from math import pi\n",
    "import pickle\n",
    "\n",
    "import numpy as np\n",
    "import pytorch_lightning as pl\n",
    "import torch\n",
    "import torch.nn as nn\n",
    "from sklearn import model_selection\n",
    "from torch.utils.data import DataLoader, Dataset\n",
    "from tqdm import tqdm\n",
    "\n",
    "import torch_burn as tb\n",
    "import utils"
   ]
  },
  {
   "cell_type": "markdown",
   "metadata": {},
   "source": [
    "# Hyper Parameters"
   ]
  },
  {
   "cell_type": "code",
   "execution_count": 2,
   "metadata": {},
   "outputs": [],
   "source": [
    "EXPERIMENT_NAME = 'baseline - LSTM(bidirectional)'\n",
    "CHECKPOINT_DIR = Path('checkpoint', EXPERIMENT_NAME)\n",
    "CHECKPOINT_DIR.mkdir(parents=True, exist_ok=True)\n",
    "\n",
    "DATA_FILEPATH = 'data/pth_nostd/C2-T18-win48-hop1.pth'\n",
    "\n",
    "NUM_EPOCHS = 40\n",
    "BATCH_SIZE = 1024"
   ]
  },
  {
   "cell_type": "markdown",
   "metadata": {},
   "source": [
    "# 데이터 로드"
   ]
  },
  {
   "cell_type": "code",
   "execution_count": 3,
   "metadata": {},
   "outputs": [],
   "source": [
    "train_ds, test_ds = utils.SequentialDataset.load_data(DATA_FILEPATH)"
   ]
  },
  {
   "cell_type": "code",
   "execution_count": 4,
   "metadata": {},
   "outputs": [
    {
     "data": {
      "text/plain": [
       "(177937, 176476)"
      ]
     },
     "execution_count": 4,
     "metadata": {},
     "output_type": "execute_result"
    }
   ],
   "source": [
    "len(train_ds), len(test_ds)"
   ]
  },
  {
   "cell_type": "markdown",
   "metadata": {},
   "source": [
    "# 모델, loss, optim, metrics, callbacks 생성"
   ]
  },
  {
   "cell_type": "code",
   "execution_count": 5,
   "metadata": {},
   "outputs": [],
   "source": [
    "model = utils.BaselineLSTM(input_size=6,\n",
    "                           hidden_size=24,\n",
    "                           num_layers=8,\n",
    "                           dropout=0.0,\n",
    "                           bidirectional=True).cuda()"
   ]
  },
  {
   "cell_type": "code",
   "execution_count": 6,
   "metadata": {},
   "outputs": [],
   "source": [
    "criterion = nn.MSELoss().cuda()\n",
    "optimizer = torch.optim.Adam(model.parameters())"
   ]
  },
  {
   "cell_type": "code",
   "execution_count": 7,
   "metadata": {},
   "outputs": [],
   "source": [
    "metrics = [tb.metrics.ModuleMetric(criterion, 'loss'),\n",
    "           utils.HPMetric('hp_metric'),\n",
    "           utils.HPSignalHistory(CHECKPOINT_DIR / 'sample' / '{epoch:04d}.npy', 'hp_signal')]"
   ]
  },
  {
   "cell_type": "code",
   "execution_count": 8,
   "metadata": {},
   "outputs": [],
   "source": [
    "callbacks = [tb.callbacks.EarlyStopping(metrics[0])]"
   ]
  },
  {
   "cell_type": "code",
   "execution_count": 9,
   "metadata": {},
   "outputs": [],
   "source": [
    "trainer = tb.Trainer2(model=model, optim=optimizer, metrics=metrics, callbacks=callbacks, ncols=100)"
   ]
  },
  {
   "cell_type": "code",
   "execution_count": 10,
   "metadata": {},
   "outputs": [
    {
     "name": "stderr",
     "output_type": "stream",
     "text": [
      "[0001/0040] Train: 100%|█████████████████████████████| 174/174 [00:08<00:00, 19.68it/s, loss 0.0298]\n",
      "[0001/0040] Validation: 100%|████████████████████| 173/173 [00:04<00:00, 39.73it/s, val_loss 0.0074]\n",
      "[0002/0040] Train:   0%|                                                    | 0/174 [00:00<?, ?it/s]"
     ]
    },
    {
     "name": "stdout",
     "output_type": "stream",
     "text": [
      "                  validation\n",
      " - Yaw          :   4.014070\n",
      " - Pitch        :   2.532442\n",
      " - Roll         :   2.929535\n",
      " - RMS          :   3.220155\n",
      " - 99% Tile     :  19.096855\n",
      "Save output signals into checkpoint/baseline - LSTM(bidirectional)/sample/0001.npy\n"
     ]
    },
    {
     "name": "stderr",
     "output_type": "stream",
     "text": [
      "[0002/0040] Train: 100%|█████████████████████████████| 174/174 [00:09<00:00, 19.27it/s, loss 0.0075]\n",
      "[0002/0040] Validation: 100%|████████████████████| 173/173 [00:04<00:00, 38.73it/s, val_loss 0.0054]\n",
      "[0003/0040] Train:   0%|                                                    | 0/174 [00:00<?, ?it/s]"
     ]
    },
    {
     "name": "stdout",
     "output_type": "stream",
     "text": [
      "                  validation\n",
      " - Yaw          :   2.754891\n",
      " - Pitch        :   2.593012\n",
      " - Roll         :   2.825614\n",
      " - RMS          :   2.726245\n",
      " - 99% Tile     :  16.015765\n",
      "Save output signals into checkpoint/baseline - LSTM(bidirectional)/sample/0002.npy\n"
     ]
    },
    {
     "name": "stderr",
     "output_type": "stream",
     "text": [
      "[0003/0040] Train: 100%|█████████████████████████████| 174/174 [00:08<00:00, 19.53it/s, loss 0.0055]\n",
      "[0003/0040] Validation: 100%|████████████████████| 173/173 [00:04<00:00, 40.45it/s, val_loss 0.0053]\n",
      "[0004/0040] Train:   0%|                                                    | 0/174 [00:00<?, ?it/s]"
     ]
    },
    {
     "name": "stdout",
     "output_type": "stream",
     "text": [
      "                  validation\n",
      " - Yaw          :   2.524536\n",
      " - Pitch        :   3.170413\n",
      " - Roll         :   2.760420\n",
      " - RMS          :   2.831061\n",
      " - 99% Tile     :  15.506871\n",
      "Save output signals into checkpoint/baseline - LSTM(bidirectional)/sample/0003.npy\n"
     ]
    },
    {
     "name": "stderr",
     "output_type": "stream",
     "text": [
      "[0004/0040] Train: 100%|█████████████████████████████| 174/174 [00:09<00:00, 19.16it/s, loss 0.0046]\n",
      "[0004/0040] Validation: 100%|████████████████████| 173/173 [00:04<00:00, 41.00it/s, val_loss 0.0039]\n",
      "[0005/0040] Train:   0%|                                                    | 0/174 [00:00<?, ?it/s]"
     ]
    },
    {
     "name": "stdout",
     "output_type": "stream",
     "text": [
      "                  validation\n",
      " - Yaw          :   2.917812\n",
      " - Pitch        :   2.184183\n",
      " - Roll         :   1.736896\n",
      " - RMS          :   2.331029\n",
      " - 99% Tile     :  13.615853\n",
      "Save output signals into checkpoint/baseline - LSTM(bidirectional)/sample/0004.npy\n"
     ]
    },
    {
     "name": "stderr",
     "output_type": "stream",
     "text": [
      "[0005/0040] Train: 100%|█████████████████████████████| 174/174 [00:09<00:00, 19.17it/s, loss 0.0038]\n",
      "[0005/0040] Validation: 100%|████████████████████| 173/173 [00:04<00:00, 37.66it/s, val_loss 0.0030]\n",
      "[0006/0040] Train:   0%|                                                    | 0/174 [00:00<?, ?it/s]"
     ]
    },
    {
     "name": "stdout",
     "output_type": "stream",
     "text": [
      "                  validation\n",
      " - Yaw          :   2.595456\n",
      " - Pitch        :   1.567980\n",
      " - Roll         :   1.243335\n",
      " - RMS          :   1.892162\n",
      " - 99% Tile     :  12.658884\n",
      "Save output signals into checkpoint/baseline - LSTM(bidirectional)/sample/0005.npy\n"
     ]
    },
    {
     "name": "stderr",
     "output_type": "stream",
     "text": [
      "[0006/0040] Train: 100%|█████████████████████████████| 174/174 [00:08<00:00, 19.42it/s, loss 0.0035]\n",
      "[0006/0040] Validation: 100%|████████████████████| 173/173 [00:04<00:00, 40.92it/s, val_loss 0.0028]\n",
      "[0007/0040] Train:   0%|                                                    | 0/174 [00:00<?, ?it/s]"
     ]
    },
    {
     "name": "stdout",
     "output_type": "stream",
     "text": [
      "                  validation\n",
      " - Yaw          :   2.474821\n",
      " - Pitch        :   1.347387\n",
      " - Roll         :   1.194585\n",
      " - RMS          :   1.767034\n",
      " - 99% Tile     :  12.535272\n",
      "Save output signals into checkpoint/baseline - LSTM(bidirectional)/sample/0006.npy\n"
     ]
    },
    {
     "name": "stderr",
     "output_type": "stream",
     "text": [
      "[0007/0040] Train: 100%|█████████████████████████████| 174/174 [00:09<00:00, 18.88it/s, loss 0.0033]\n",
      "[0007/0040] Validation: 100%|████████████████████| 173/173 [00:04<00:00, 42.20it/s, val_loss 0.0027]\n",
      "[0008/0040] Train:   0%|                                                    | 0/174 [00:00<?, ?it/s]"
     ]
    },
    {
     "name": "stdout",
     "output_type": "stream",
     "text": [
      "                  validation\n",
      " - Yaw          :   2.274357\n",
      " - Pitch        :   1.488035\n",
      " - Roll         :   1.201814\n",
      " - RMS          :   1.715741\n",
      " - 99% Tile     :  12.183110\n",
      "Save output signals into checkpoint/baseline - LSTM(bidirectional)/sample/0007.npy\n"
     ]
    },
    {
     "name": "stderr",
     "output_type": "stream",
     "text": [
      "[0008/0040] Train: 100%|█████████████████████████████| 174/174 [00:08<00:00, 21.51it/s, loss 0.0032]\n",
      "[0008/0040] Validation: 100%|████████████████████| 173/173 [00:03<00:00, 46.20it/s, val_loss 0.0028]\n",
      "[0009/0040] Train:   0%|                                                    | 0/174 [00:00<?, ?it/s]"
     ]
    },
    {
     "name": "stdout",
     "output_type": "stream",
     "text": [
      "val_loss is not improved for 1 epochs\n",
      "                  validation\n",
      " - Yaw          :   2.629249\n",
      " - Pitch        :   1.285158\n",
      " - Roll         :   1.123746\n",
      " - RMS          :   1.809916\n",
      " - 99% Tile     :  12.068973\n",
      "Save output signals into checkpoint/baseline - LSTM(bidirectional)/sample/0008.npy\n"
     ]
    },
    {
     "name": "stderr",
     "output_type": "stream",
     "text": [
      "[0009/0040] Train: 100%|█████████████████████████████| 174/174 [00:08<00:00, 21.71it/s, loss 0.0031]\n",
      "[0009/0040] Validation: 100%|████████████████████| 173/173 [00:03<00:00, 48.17it/s, val_loss 0.0027]\n",
      "[0010/0040] Train:   0%|                                                    | 0/174 [00:00<?, ?it/s]"
     ]
    },
    {
     "name": "stdout",
     "output_type": "stream",
     "text": [
      "                  validation\n",
      " - Yaw          :   2.287442\n",
      " - Pitch        :   1.658445\n",
      " - Roll         :   1.078789\n",
      " - RMS          :   1.746102\n",
      " - 99% Tile     :  11.868686\n",
      "Save output signals into checkpoint/baseline - LSTM(bidirectional)/sample/0009.npy\n"
     ]
    },
    {
     "name": "stderr",
     "output_type": "stream",
     "text": [
      "[0010/0040] Train: 100%|█████████████████████████████| 174/174 [00:08<00:00, 21.56it/s, loss 0.0031]\n",
      "[0010/0040] Validation: 100%|████████████████████| 173/173 [00:03<00:00, 47.88it/s, val_loss 0.0025]\n",
      "[0011/0040] Train:   0%|                                                    | 0/174 [00:00<?, ?it/s]"
     ]
    },
    {
     "name": "stdout",
     "output_type": "stream",
     "text": [
      "                  validation\n",
      " - Yaw          :   2.091023\n",
      " - Pitch        :   1.240956\n",
      " - Roll         :   1.012987\n",
      " - RMS          :   1.520799\n",
      " - 99% Tile     :  11.790659\n",
      "Save output signals into checkpoint/baseline - LSTM(bidirectional)/sample/0010.npy\n"
     ]
    },
    {
     "name": "stderr",
     "output_type": "stream",
     "text": [
      "[0011/0040] Train: 100%|█████████████████████████████| 174/174 [00:08<00:00, 21.69it/s, loss 0.0030]\n",
      "[0011/0040] Validation: 100%|████████████████████| 173/173 [00:03<00:00, 47.87it/s, val_loss 0.0026]\n",
      "[0012/0040] Train:   0%|                                                    | 0/174 [00:00<?, ?it/s]"
     ]
    },
    {
     "name": "stdout",
     "output_type": "stream",
     "text": [
      "val_loss is not improved for 1 epochs\n",
      "                  validation\n",
      " - Yaw          :   2.372029\n",
      " - Pitch        :   1.598491\n",
      " - Roll         :   0.985813\n",
      " - RMS          :   1.746761\n",
      " - 99% Tile     :  11.744560\n",
      "Save output signals into checkpoint/baseline - LSTM(bidirectional)/sample/0011.npy\n"
     ]
    },
    {
     "name": "stderr",
     "output_type": "stream",
     "text": [
      "[0012/0040] Train: 100%|█████████████████████████████| 174/174 [00:08<00:00, 21.55it/s, loss 0.0030]\n",
      "[0012/0040] Validation: 100%|████████████████████| 173/173 [00:03<00:00, 47.82it/s, val_loss 0.0024]\n",
      "[0013/0040] Train:   0%|                                                    | 0/174 [00:00<?, ?it/s]"
     ]
    },
    {
     "name": "stdout",
     "output_type": "stream",
     "text": [
      "                  validation\n",
      " - Yaw          :   2.039829\n",
      " - Pitch        :   1.518247\n",
      " - Roll         :   0.969910\n",
      " - RMS          :   1.571274\n",
      " - 99% Tile     :  11.511865\n",
      "Save output signals into checkpoint/baseline - LSTM(bidirectional)/sample/0012.npy\n"
     ]
    },
    {
     "name": "stderr",
     "output_type": "stream",
     "text": [
      "[0013/0040] Train: 100%|█████████████████████████████| 174/174 [00:08<00:00, 21.49it/s, loss 0.0029]\n",
      "[0013/0040] Validation: 100%|████████████████████| 173/173 [00:03<00:00, 47.91it/s, val_loss 0.0027]\n",
      "[0014/0040] Train:   0%|                                                    | 0/174 [00:00<?, ?it/s]"
     ]
    },
    {
     "name": "stdout",
     "output_type": "stream",
     "text": [
      "val_loss is not improved for 1 epochs\n",
      "                  validation\n",
      " - Yaw          :   2.310148\n",
      " - Pitch        :   1.781450\n",
      " - Roll         :   1.224759\n",
      " - RMS          :   1.826689\n",
      " - 99% Tile     :  11.730469\n",
      "Save output signals into checkpoint/baseline - LSTM(bidirectional)/sample/0013.npy\n"
     ]
    },
    {
     "name": "stderr",
     "output_type": "stream",
     "text": [
      "[0014/0040] Train: 100%|█████████████████████████████| 174/174 [00:07<00:00, 21.78it/s, loss 0.0029]\n",
      "[0014/0040] Validation: 100%|████████████████████| 173/173 [00:03<00:00, 48.13it/s, val_loss 0.0024]\n",
      "[0015/0040] Train:   0%|                                                    | 0/174 [00:00<?, ?it/s]"
     ]
    },
    {
     "name": "stdout",
     "output_type": "stream",
     "text": [
      "                  validation\n",
      " - Yaw          :   2.003395\n",
      " - Pitch        :   1.216931\n",
      " - Roll         :   0.989124\n",
      " - RMS          :   1.468886\n",
      " - 99% Tile     :  11.516654\n",
      "Save output signals into checkpoint/baseline - LSTM(bidirectional)/sample/0014.npy\n"
     ]
    },
    {
     "name": "stderr",
     "output_type": "stream",
     "text": [
      "[0015/0040] Train: 100%|█████████████████████████████| 174/174 [00:07<00:00, 21.97it/s, loss 0.0028]\n",
      "[0015/0040] Validation: 100%|████████████████████| 173/173 [00:03<00:00, 47.97it/s, val_loss 0.0026]\n",
      "[0016/0040] Train:   0%|                                                    | 0/174 [00:00<?, ?it/s]"
     ]
    },
    {
     "name": "stdout",
     "output_type": "stream",
     "text": [
      "val_loss is not improved for 1 epochs\n",
      "                  validation\n",
      " - Yaw          :   2.491906\n",
      " - Pitch        :   1.317665\n",
      " - Roll         :   1.216571\n",
      " - RMS          :   1.772558\n",
      " - 99% Tile     :  11.599050\n",
      "Save output signals into checkpoint/baseline - LSTM(bidirectional)/sample/0015.npy\n"
     ]
    },
    {
     "name": "stderr",
     "output_type": "stream",
     "text": [
      "[0016/0040] Train: 100%|█████████████████████████████| 174/174 [00:07<00:00, 21.77it/s, loss 0.0028]\n",
      "[0016/0040] Validation: 100%|████████████████████| 173/173 [00:03<00:00, 47.98it/s, val_loss 0.0025]\n",
      "[0017/0040] Train:   0%|                                                    | 0/174 [00:00<?, ?it/s]"
     ]
    },
    {
     "name": "stdout",
     "output_type": "stream",
     "text": [
      "val_loss is not improved for 2 epochs\n",
      "                  validation\n",
      " - Yaw          :   2.087377\n",
      " - Pitch        :   1.821619\n",
      " - Roll         :   1.029050\n",
      " - RMS          :   1.706300\n",
      " - 99% Tile     :  11.394401\n",
      "Save output signals into checkpoint/baseline - LSTM(bidirectional)/sample/0016.npy\n"
     ]
    },
    {
     "name": "stderr",
     "output_type": "stream",
     "text": [
      "[0017/0040] Train: 100%|█████████████████████████████| 174/174 [00:07<00:00, 21.84it/s, loss 0.0028]\n",
      "[0017/0040] Validation: 100%|████████████████████| 173/173 [00:03<00:00, 47.64it/s, val_loss 0.0027]\n",
      "[0018/0040] Train:   0%|                                                    | 0/174 [00:00<?, ?it/s]"
     ]
    },
    {
     "name": "stdout",
     "output_type": "stream",
     "text": [
      "val_loss is not improved for 3 epochs\n",
      "                  validation\n",
      " - Yaw          :   2.389437\n",
      " - Pitch        :   1.618324\n",
      " - Roll         :   1.022281\n",
      " - RMS          :   1.767620\n",
      " - 99% Tile     :  11.673816\n",
      "Save output signals into checkpoint/baseline - LSTM(bidirectional)/sample/0017.npy\n"
     ]
    },
    {
     "name": "stderr",
     "output_type": "stream",
     "text": [
      "[0018/0040] Train: 100%|█████████████████████████████| 174/174 [00:07<00:00, 21.87it/s, loss 0.0028]\n",
      "[0018/0040] Validation: 100%|████████████████████| 173/173 [00:03<00:00, 47.47it/s, val_loss 0.0024]\n",
      "[0019/0040] Train:   0%|                                                    | 0/174 [00:00<?, ?it/s]"
     ]
    },
    {
     "name": "stdout",
     "output_type": "stream",
     "text": [
      "val_loss is not improved for 4 epochs\n",
      "                  validation\n",
      " - Yaw          :   2.114038\n",
      " - Pitch        :   1.261160\n",
      " - Roll         :   1.043560\n",
      " - RMS          :   1.543664\n",
      " - 99% Tile     :  11.370580\n",
      "Save output signals into checkpoint/baseline - LSTM(bidirectional)/sample/0018.npy\n"
     ]
    },
    {
     "name": "stderr",
     "output_type": "stream",
     "text": [
      "[0019/0040] Train: 100%|█████████████████████████████| 174/174 [00:08<00:00, 21.60it/s, loss 0.0027]\n",
      "[0019/0040] Validation: 100%|████████████████████| 173/173 [00:03<00:00, 47.46it/s, val_loss 0.0024]\n",
      "[0020/0040] Train:   0%|                                                    | 0/174 [00:00<?, ?it/s]"
     ]
    },
    {
     "name": "stdout",
     "output_type": "stream",
     "text": [
      "val_loss is not improved for 5 epochs\n",
      "                  validation\n",
      " - Yaw          :   2.184076\n",
      " - Pitch        :   1.319230\n",
      " - Roll         :   0.918937\n",
      " - RMS          :   1.565780\n",
      " - 99% Tile     :  11.540830\n",
      "Save output signals into checkpoint/baseline - LSTM(bidirectional)/sample/0019.npy\n"
     ]
    },
    {
     "name": "stderr",
     "output_type": "stream",
     "text": [
      "[0020/0040] Train: 100%|█████████████████████████████| 174/174 [00:08<00:00, 21.60it/s, loss 0.0027]\n",
      "[0020/0040] Validation: 100%|████████████████████| 173/173 [00:03<00:00, 47.64it/s, val_loss 0.0024]\n",
      "[0021/0040] Train:   0%|                                                    | 0/174 [00:00<?, ?it/s]"
     ]
    },
    {
     "name": "stdout",
     "output_type": "stream",
     "text": [
      "val_loss is not improved for 6 epochs\n",
      "                  validation\n",
      " - Yaw          :   2.106464\n",
      " - Pitch        :   1.386188\n",
      " - Roll         :   0.887896\n",
      " - RMS          :   1.543488\n",
      " - 99% Tile     :  11.315754\n",
      "Save output signals into checkpoint/baseline - LSTM(bidirectional)/sample/0020.npy\n"
     ]
    },
    {
     "name": "stderr",
     "output_type": "stream",
     "text": [
      "[0021/0040] Train: 100%|█████████████████████████████| 174/174 [00:07<00:00, 21.82it/s, loss 0.0027]\n",
      "[0021/0040] Validation: 100%|████████████████████| 173/173 [00:03<00:00, 47.99it/s, val_loss 0.0024]\n",
      "[0022/0040] Train:   0%|                                                    | 0/174 [00:00<?, ?it/s]"
     ]
    },
    {
     "name": "stdout",
     "output_type": "stream",
     "text": [
      "val_loss is not improved for 7 epochs\n",
      "                  validation\n",
      " - Yaw          :   2.070990\n",
      " - Pitch        :   1.428900\n",
      " - Roll         :   0.898554\n",
      " - RMS          :   1.542526\n",
      " - 99% Tile     :  11.343924\n",
      "Save output signals into checkpoint/baseline - LSTM(bidirectional)/sample/0021.npy\n"
     ]
    },
    {
     "name": "stderr",
     "output_type": "stream",
     "text": [
      "[0022/0040] Train: 100%|█████████████████████████████| 174/174 [00:08<00:00, 21.66it/s, loss 0.0027]\n",
      "[0022/0040] Validation: 100%|████████████████████| 173/173 [00:03<00:00, 47.64it/s, val_loss 0.0025]\n",
      "[0023/0040] Train:   0%|                                                    | 0/174 [00:00<?, ?it/s]"
     ]
    },
    {
     "name": "stdout",
     "output_type": "stream",
     "text": [
      "val_loss is not improved for 8 epochs\n",
      "                  validation\n",
      " - Yaw          :   2.020497\n",
      " - Pitch        :   1.748133\n",
      " - Roll         :   0.914814\n",
      " - RMS          :   1.630466\n",
      " - 99% Tile     :  11.383674\n",
      "Save output signals into checkpoint/baseline - LSTM(bidirectional)/sample/0022.npy\n"
     ]
    },
    {
     "name": "stderr",
     "output_type": "stream",
     "text": [
      "[0023/0040] Train: 100%|█████████████████████████████| 174/174 [00:07<00:00, 21.84it/s, loss 0.0026]\n",
      "[0023/0040] Validation: 100%|████████████████████| 173/173 [00:03<00:00, 47.89it/s, val_loss 0.0024]\n",
      "[0024/0040] Train:   0%|                                                    | 0/174 [00:00<?, ?it/s]"
     ]
    },
    {
     "name": "stdout",
     "output_type": "stream",
     "text": [
      "val_loss is not improved for 9 epochs\n",
      "                  validation\n",
      " - Yaw          :   2.148618\n",
      " - Pitch        :   1.270232\n",
      " - Roll         :   0.886509\n",
      " - RMS          :   1.529264\n",
      " - 99% Tile     :  11.365112\n",
      "Save output signals into checkpoint/baseline - LSTM(bidirectional)/sample/0023.npy\n"
     ]
    },
    {
     "name": "stderr",
     "output_type": "stream",
     "text": [
      "[0024/0040] Train: 100%|█████████████████████████████| 174/174 [00:08<00:00, 21.65it/s, loss 0.0027]\n",
      "[0024/0040] Validation: 100%|████████████████████| 173/173 [00:03<00:00, 47.56it/s, val_loss 0.0024]"
     ]
    },
    {
     "name": "stdout",
     "output_type": "stream",
     "text": [
      "val_loss is not improved for 10 epochs\n",
      "Stop training because val_loss did not improved for 10 epochs\n",
      "                  validation\n",
      " - Yaw          :   1.986430\n",
      " - Pitch        :   1.569056\n",
      " - Roll         :   0.874576\n",
      " - RMS          :   1.546256\n",
      " - 99% Tile     :  11.288224\n",
      "Save output signals into checkpoint/baseline - LSTM(bidirectional)/sample/0024.npy\n"
     ]
    },
    {
     "name": "stderr",
     "output_type": "stream",
     "text": [
      "\n"
     ]
    }
   ],
   "source": [
    "trainer.fit(train_ds, test_ds, num_epochs=NUM_EPOCHS, batch_size=BATCH_SIZE)"
   ]
  },
  {
   "cell_type": "code",
   "execution_count": null,
   "metadata": {},
   "outputs": [],
   "source": []
  },
  {
   "cell_type": "code",
   "execution_count": null,
   "metadata": {},
   "outputs": [],
   "source": []
  },
  {
   "cell_type": "code",
   "execution_count": null,
   "metadata": {},
   "outputs": [],
   "source": []
  },
  {
   "cell_type": "code",
   "execution_count": null,
   "metadata": {},
   "outputs": [],
   "source": []
  },
  {
   "cell_type": "code",
   "execution_count": null,
   "metadata": {},
   "outputs": [],
   "source": []
  },
  {
   "cell_type": "code",
   "execution_count": null,
   "metadata": {},
   "outputs": [],
   "source": []
  },
  {
   "cell_type": "code",
   "execution_count": null,
   "metadata": {},
   "outputs": [],
   "source": []
  }
 ],
 "metadata": {
  "kernelspec": {
   "display_name": "torch",
   "language": "python",
   "name": "torch"
  },
  "language_info": {
   "codemirror_mode": {
    "name": "ipython",
    "version": 3
   },
   "file_extension": ".py",
   "mimetype": "text/x-python",
   "name": "python",
   "nbconvert_exporter": "python",
   "pygments_lexer": "ipython3",
   "version": "3.8.5"
  }
 },
 "nbformat": 4,
 "nbformat_minor": 4
}
