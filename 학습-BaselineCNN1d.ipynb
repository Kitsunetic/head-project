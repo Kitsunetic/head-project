{
 "cells": [
  {
   "cell_type": "code",
   "execution_count": 1,
   "metadata": {},
   "outputs": [],
   "source": [
    "import argparse\n",
    "import sys\n",
    "from multiprocessing import cpu_count\n",
    "from pathlib import Path\n",
    "\n",
    "import numpy as np\n",
    "import matplotlib.pyplot as plt\n",
    "import torch\n",
    "import torch.nn as nn\n",
    "\n",
    "import datasets\n",
    "import models\n",
    "import torch_burn as tb\n",
    "import utils"
   ]
  },
  {
   "cell_type": "code",
   "execution_count": 2,
   "metadata": {},
   "outputs": [],
   "source": [
    "CHECKPOINT_DIR = Path('checkpoint/BaselineCNN')\n",
    "CHECKPOINT_DIR.mkdir(parents=True, exist_ok=True)\n",
    "\n",
    "tb.seed_everything(0)\n",
    "\n",
    "DATA_FILEPATH = 'data/pth_nostd/C2-T18-win48-hop1.pth'"
   ]
  },
  {
   "cell_type": "code",
   "execution_count": 3,
   "metadata": {},
   "outputs": [],
   "source": [
    "train_ds, valid_ds, datainfo = datasets.make_dataset(DATA_FILEPATH)"
   ]
  },
  {
   "cell_type": "code",
   "execution_count": 4,
   "metadata": {},
   "outputs": [
    {
     "data": {
      "text/plain": [
       "(177937, 176476)"
      ]
     },
     "execution_count": 4,
     "metadata": {},
     "output_type": "execute_result"
    }
   ],
   "source": [
    "len(train_ds), len(valid_ds)"
   ]
  },
  {
   "cell_type": "code",
   "execution_count": 5,
   "metadata": {},
   "outputs": [],
   "source": [
    "model = models.BaselineCNN1d(6, 3).cuda()"
   ]
  },
  {
   "cell_type": "code",
   "execution_count": 6,
   "metadata": {},
   "outputs": [],
   "source": [
    "criterion = nn.MSELoss().cuda()"
   ]
  },
  {
   "cell_type": "code",
   "execution_count": 7,
   "metadata": {},
   "outputs": [],
   "source": [
    "optimizer = torch.optim.Adam(model.parameters())"
   ]
  },
  {
   "cell_type": "code",
   "execution_count": 8,
   "metadata": {},
   "outputs": [],
   "source": [
    "metrics = [tb.metrics.ModuleMetric(criterion, 'loss'),\n",
    "           utils.HPMetric('hp_metric'),\n",
    "           utils.HPSignalHistory(CHECKPOINT_DIR / 'sample' / '{epoch:04d}.npy', 'hp_signal')]"
   ]
  },
  {
   "cell_type": "code",
   "execution_count": 9,
   "metadata": {},
   "outputs": [],
   "source": [
    "callbacks = [tb.callbacks.EarlyStopping(metrics[0])]"
   ]
  },
  {
   "cell_type": "code",
   "execution_count": 10,
   "metadata": {},
   "outputs": [],
   "source": [
    "trainer = tb.Trainer(model, optimizer, metrics, callbacks, ncols=100)"
   ]
  },
  {
   "cell_type": "code",
   "execution_count": 11,
   "metadata": {},
   "outputs": [
    {
     "name": "stderr",
     "output_type": "stream",
     "text": [
      "[0001/0040] Train: 100%|█████████████████████████████| 696/696 [00:08<00:00, 81.57it/s, loss 0.0073]\n",
      "[0001/0040] Validation: 100%|███████████████████| 690/690 [00:02<00:00, 330.48it/s, val_loss 0.0117]\n",
      "[0002/0040] Train:   0%|                                                    | 0/696 [00:00<?, ?it/s]"
     ]
    },
    {
     "name": "stdout",
     "output_type": "stream",
     "text": [
      "                  validation\n",
      " - Yaw          :   8.582788\n",
      " - Pitch        :   1.750131\n",
      " - Roll         :   3.103926\n",
      " - RMS          :   5.365369\n",
      " - 99% Tile     :  18.149671\n",
      "Save output signals into checkpoint/BaselineCNN/sample/0001.npy\n"
     ]
    },
    {
     "name": "stderr",
     "output_type": "stream",
     "text": [
      "[0002/0040] Train: 100%|█████████████████████████████| 696/696 [00:07<00:00, 97.88it/s, loss 0.0038]\n",
      "[0002/0040] Validation: 100%|███████████████████| 690/690 [00:02<00:00, 337.39it/s, val_loss 0.0116]\n",
      "[0003/0040] Train:   0%|                                                    | 0/696 [00:00<?, ?it/s]"
     ]
    },
    {
     "name": "stdout",
     "output_type": "stream",
     "text": [
      "                  validation\n",
      " - Yaw          :   8.679308\n",
      " - Pitch        :   3.878420\n",
      " - Roll         :   1.217687\n",
      " - RMS          :   5.533392\n",
      " - 99% Tile     :  15.807360\n",
      "Save output signals into checkpoint/BaselineCNN/sample/0002.npy\n"
     ]
    },
    {
     "name": "stderr",
     "output_type": "stream",
     "text": [
      "[0003/0040] Train: 100%|█████████████████████████████| 696/696 [00:07<00:00, 94.63it/s, loss 0.0036]\n",
      "[0003/0040] Validation: 100%|███████████████████| 690/690 [00:02<00:00, 333.27it/s, val_loss 0.0098]\n",
      "[0004/0040] Train:   0%|                                                    | 0/696 [00:00<?, ?it/s]"
     ]
    },
    {
     "name": "stdout",
     "output_type": "stream",
     "text": [
      "                  validation\n",
      " - Yaw          :   8.591153\n",
      " - Pitch        :   1.795706\n",
      " - Roll         :   0.962365\n",
      " - RMS          :   5.097667\n",
      " - 99% Tile     :  15.680321\n",
      "Save output signals into checkpoint/BaselineCNN/sample/0003.npy\n"
     ]
    },
    {
     "name": "stderr",
     "output_type": "stream",
     "text": [
      "[0004/0040] Train: 100%|█████████████████████████████| 696/696 [00:07<00:00, 97.92it/s, loss 0.0032]\n",
      "[0004/0040] Validation: 100%|███████████████████| 690/690 [00:02<00:00, 337.26it/s, val_loss 0.0091]\n"
     ]
    },
    {
     "name": "stdout",
     "output_type": "stream",
     "text": [
      "                  validation\n",
      " - Yaw          :   3.254533\n",
      " - Pitch        :   7.694431\n",
      " - Roll         :   1.517386\n",
      " - RMS          :   4.902337\n",
      " - 99% Tile     :  13.010416\n",
      "Save output signals into checkpoint/BaselineCNN/sample/0004.npy\n"
     ]
    },
    {
     "name": "stderr",
     "output_type": "stream",
     "text": [
      "[0005/0040] Train: 100%|█████████████████████████████| 696/696 [00:07<00:00, 97.79it/s, loss 0.0031]\n",
      "[0005/0040] Validation: 100%|███████████████████| 690/690 [00:02<00:00, 338.40it/s, val_loss 0.0046]\n",
      "[0006/0040] Train:   0%|                                                    | 0/696 [00:00<?, ?it/s]"
     ]
    },
    {
     "name": "stdout",
     "output_type": "stream",
     "text": [
      "                  validation\n",
      " - Yaw          :   4.280448\n",
      " - Pitch        :   2.500245\n",
      " - Roll         :   1.120567\n",
      " - RMS          :   2.934231\n",
      " - 99% Tile     :  13.147480\n",
      "Save output signals into checkpoint/BaselineCNN/sample/0005.npy\n"
     ]
    },
    {
     "name": "stderr",
     "output_type": "stream",
     "text": [
      "[0006/0040] Train: 100%|█████████████████████████████| 696/696 [00:07<00:00, 98.01it/s, loss 0.0030]\n",
      "[0006/0040] Validation: 100%|███████████████████| 690/690 [00:02<00:00, 339.01it/s, val_loss 0.0103]\n",
      "[0007/0040] Train:   0%|                                                    | 0/696 [00:00<?, ?it/s]"
     ]
    },
    {
     "name": "stdout",
     "output_type": "stream",
     "text": [
      "val_loss is not improved for 1 epochs\n",
      "                  validation\n",
      " - Yaw          :   7.656629\n",
      " - Pitch        :   4.203067\n",
      " - Roll         :   1.140723\n",
      " - RMS          :   5.085633\n",
      " - 99% Tile     :  16.351362\n",
      "Save output signals into checkpoint/BaselineCNN/sample/0006.npy\n"
     ]
    },
    {
     "name": "stderr",
     "output_type": "stream",
     "text": [
      "[0007/0040] Train: 100%|█████████████████████████████| 696/696 [00:07<00:00, 97.99it/s, loss 0.0031]\n",
      "[0007/0040] Validation: 100%|███████████████████| 690/690 [00:02<00:00, 332.24it/s, val_loss 0.0080]\n",
      "[0008/0040] Train:   0%|                                                    | 0/696 [00:00<?, ?it/s]"
     ]
    },
    {
     "name": "stdout",
     "output_type": "stream",
     "text": [
      "val_loss is not improved for 2 epochs\n",
      "                  validation\n",
      " - Yaw          :   6.449742\n",
      " - Pitch        :   2.804308\n",
      " - Roll         :   3.292614\n",
      " - RMS          :   4.483474\n",
      " - 99% Tile     :  14.720565\n",
      "Save output signals into checkpoint/BaselineCNN/sample/0007.npy\n"
     ]
    },
    {
     "name": "stderr",
     "output_type": "stream",
     "text": [
      "[0008/0040] Train: 100%|█████████████████████████████| 696/696 [00:07<00:00, 98.07it/s, loss 0.0029]\n",
      "[0008/0040] Validation: 100%|███████████████████| 690/690 [00:02<00:00, 334.57it/s, val_loss 0.0039]\n"
     ]
    },
    {
     "name": "stdout",
     "output_type": "stream",
     "text": [
      "                  validation\n",
      " - Yaw          :   2.320056\n",
      " - Pitch        :   3.202537\n",
      " - Roll         :   2.615782\n",
      " - RMS          :   2.737470\n",
      " - 99% Tile     :  11.232868\n",
      "Save output signals into checkpoint/BaselineCNN/sample/0008.npy\n"
     ]
    },
    {
     "name": "stderr",
     "output_type": "stream",
     "text": [
      "[0009/0040] Train: 100%|█████████████████████████████| 696/696 [00:07<00:00, 97.15it/s, loss 0.0028]\n",
      "[0009/0040] Validation: 100%|███████████████████| 690/690 [00:02<00:00, 334.71it/s, val_loss 0.0127]\n",
      "[0010/0040] Train:   0%|                                                    | 0/696 [00:00<?, ?it/s]"
     ]
    },
    {
     "name": "stdout",
     "output_type": "stream",
     "text": [
      "val_loss is not improved for 1 epochs\n",
      "                  validation\n",
      " - Yaw          :  10.172182\n",
      " - Pitch        :   1.377420\n",
      " - Roll         :   0.884680\n",
      " - RMS          :   5.948480\n",
      " - 99% Tile     :  16.402159\n",
      "Save output signals into checkpoint/BaselineCNN/sample/0009.npy\n"
     ]
    },
    {
     "name": "stderr",
     "output_type": "stream",
     "text": [
      "[0010/0040] Train: 100%|█████████████████████████████| 696/696 [00:07<00:00, 97.63it/s, loss 0.0027]\n",
      "[0010/0040] Validation: 100%|███████████████████| 690/690 [00:02<00:00, 334.61it/s, val_loss 0.0086]\n",
      "[0011/0040] Train:   0%|                                                    | 0/696 [00:00<?, ?it/s]"
     ]
    },
    {
     "name": "stdout",
     "output_type": "stream",
     "text": [
      "val_loss is not improved for 2 epochs\n",
      "                  validation\n",
      " - Yaw          :   7.617585\n",
      " - Pitch        :   2.563737\n",
      " - Roll         :   0.918527\n",
      " - RMS          :   4.670619\n",
      " - 99% Tile     :  14.895813\n",
      "Save output signals into checkpoint/BaselineCNN/sample/0010.npy\n"
     ]
    },
    {
     "name": "stderr",
     "output_type": "stream",
     "text": [
      "[0011/0040] Train: 100%|█████████████████████████████| 696/696 [00:07<00:00, 96.45it/s, loss 0.0027]\n",
      "[0011/0040] Validation: 100%|███████████████████| 690/690 [00:02<00:00, 334.27it/s, val_loss 0.0131]\n",
      "[0012/0040] Train:   0%|                                                    | 0/696 [00:00<?, ?it/s]"
     ]
    },
    {
     "name": "stdout",
     "output_type": "stream",
     "text": [
      "val_loss is not improved for 3 epochs\n",
      "                  validation\n",
      " - Yaw          :  10.211092\n",
      " - Pitch        :   2.223137\n",
      " - Roll         :   1.697230\n",
      " - RMS          :   6.112537\n",
      " - 99% Tile     :  17.102504\n",
      "Save output signals into checkpoint/BaselineCNN/sample/0011.npy\n"
     ]
    },
    {
     "name": "stderr",
     "output_type": "stream",
     "text": [
      "[0012/0040] Train: 100%|█████████████████████████████| 696/696 [00:07<00:00, 97.80it/s, loss 0.0027]\n",
      "[0012/0040] Validation: 100%|███████████████████| 690/690 [00:02<00:00, 337.98it/s, val_loss 0.0067]\n",
      "[0013/0040] Train:   0%|                                                    | 0/696 [00:00<?, ?it/s]"
     ]
    },
    {
     "name": "stdout",
     "output_type": "stream",
     "text": [
      "val_loss is not improved for 4 epochs\n",
      "                  validation\n",
      " - Yaw          :   6.044312\n",
      " - Pitch        :   1.415434\n",
      " - Roll         :   3.158636\n",
      " - RMS          :   4.021365\n",
      " - 99% Tile     :  13.829452\n",
      "Save output signals into checkpoint/BaselineCNN/sample/0012.npy\n"
     ]
    },
    {
     "name": "stderr",
     "output_type": "stream",
     "text": [
      "[0013/0040] Train: 100%|█████████████████████████████| 696/696 [00:07<00:00, 97.46it/s, loss 0.0025]\n",
      "[0013/0040] Validation: 100%|███████████████████| 690/690 [00:02<00:00, 336.10it/s, val_loss 0.0037]\n",
      "[0014/0040] Train:   0%|                                                    | 0/696 [00:00<?, ?it/s]"
     ]
    },
    {
     "name": "stdout",
     "output_type": "stream",
     "text": [
      "                  validation\n",
      " - Yaw          :   3.057834\n",
      " - Pitch        :   1.587133\n",
      " - Roll         :   2.569774\n",
      " - RMS          :   2.481470\n",
      " - 99% Tile     :  12.000360\n",
      "Save output signals into checkpoint/BaselineCNN/sample/0013.npy\n"
     ]
    },
    {
     "name": "stderr",
     "output_type": "stream",
     "text": [
      "[0014/0040] Train: 100%|█████████████████████████████| 696/696 [00:07<00:00, 95.96it/s, loss 0.0025]\n",
      "[0014/0040] Validation: 100%|███████████████████| 690/690 [00:02<00:00, 326.75it/s, val_loss 0.0026]\n",
      "[0015/0040] Train:   0%|                                                    | 0/696 [00:00<?, ?it/s]"
     ]
    },
    {
     "name": "stdout",
     "output_type": "stream",
     "text": [
      "                  validation\n",
      " - Yaw          :   2.364074\n",
      " - Pitch        :   1.669302\n",
      " - Roll         :   0.978896\n",
      " - RMS          :   1.763864\n",
      " - 99% Tile     :  11.346130\n",
      "Save output signals into checkpoint/BaselineCNN/sample/0014.npy\n"
     ]
    },
    {
     "name": "stderr",
     "output_type": "stream",
     "text": [
      "[0015/0040] Train: 100%|█████████████████████████████| 696/696 [00:07<00:00, 95.30it/s, loss 0.0023]\n",
      "[0015/0040] Validation: 100%|███████████████████| 690/690 [00:02<00:00, 330.91it/s, val_loss 0.0035]\n",
      "[0016/0040] Train:   0%|                                                    | 0/696 [00:00<?, ?it/s]"
     ]
    },
    {
     "name": "stdout",
     "output_type": "stream",
     "text": [
      "val_loss is not improved for 1 epochs\n",
      "                  validation\n",
      " - Yaw          :   3.261302\n",
      " - Pitch        :   1.349078\n",
      " - Roll         :   2.491684\n",
      " - RMS          :   2.494300\n",
      " - 99% Tile     :  11.676524\n",
      "Save output signals into checkpoint/BaselineCNN/sample/0015.npy\n"
     ]
    },
    {
     "name": "stderr",
     "output_type": "stream",
     "text": [
      "[0016/0040] Train: 100%|█████████████████████████████| 696/696 [00:07<00:00, 96.36it/s, loss 0.0023]\n",
      "[0016/0040] Validation: 100%|███████████████████| 690/690 [00:02<00:00, 334.58it/s, val_loss 0.0108]\n",
      "[0017/0040] Train:   0%|                                                    | 0/696 [00:00<?, ?it/s]"
     ]
    },
    {
     "name": "stdout",
     "output_type": "stream",
     "text": [
      "val_loss is not improved for 2 epochs\n",
      "                  validation\n",
      " - Yaw          :   8.813822\n",
      " - Pitch        :   2.772177\n",
      " - Roll         :   1.321231\n",
      " - RMS          :   5.388694\n",
      " - 99% Tile     :  15.595966\n",
      "Save output signals into checkpoint/BaselineCNN/sample/0016.npy\n"
     ]
    },
    {
     "name": "stderr",
     "output_type": "stream",
     "text": [
      "[0017/0040] Train: 100%|█████████████████████████████| 696/696 [00:07<00:00, 96.38it/s, loss 0.0023]\n",
      "[0017/0040] Validation: 100%|███████████████████| 690/690 [00:02<00:00, 328.24it/s, val_loss 0.0026]\n",
      "[0018/0040] Train:   0%|                                                    | 0/696 [00:00<?, ?it/s]"
     ]
    },
    {
     "name": "stdout",
     "output_type": "stream",
     "text": [
      "val_loss is not improved for 3 epochs\n",
      "                  validation\n",
      " - Yaw          :   2.420720\n",
      " - Pitch        :   1.540104\n",
      " - Roll         :   0.840662\n",
      " - RMS          :   1.726125\n",
      " - 99% Tile     :  11.501939\n",
      "Save output signals into checkpoint/BaselineCNN/sample/0017.npy\n"
     ]
    },
    {
     "name": "stderr",
     "output_type": "stream",
     "text": [
      "[0018/0040] Train: 100%|█████████████████████████████| 696/696 [00:07<00:00, 94.03it/s, loss 0.0022]\n",
      "[0018/0040] Validation: 100%|███████████████████| 690/690 [00:02<00:00, 324.14it/s, val_loss 0.0063]\n",
      "[0019/0040] Train:   0%|                                                    | 0/696 [00:00<?, ?it/s]"
     ]
    },
    {
     "name": "stdout",
     "output_type": "stream",
     "text": [
      "val_loss is not improved for 4 epochs\n",
      "                  validation\n",
      " - Yaw          :   5.891236\n",
      " - Pitch        :   2.908978\n",
      " - Roll         :   0.851136\n",
      " - RMS          :   3.825060\n",
      " - 99% Tile     :  13.829838\n",
      "Save output signals into checkpoint/BaselineCNN/sample/0018.npy\n"
     ]
    },
    {
     "name": "stderr",
     "output_type": "stream",
     "text": [
      "[0019/0040] Train: 100%|█████████████████████████████| 696/696 [00:07<00:00, 96.71it/s, loss 0.0021]\n",
      "[0019/0040] Validation: 100%|███████████████████| 690/690 [00:02<00:00, 333.63it/s, val_loss 0.0048]\n",
      "[0020/0040] Train:   0%|                                                    | 0/696 [00:00<?, ?it/s]"
     ]
    },
    {
     "name": "stdout",
     "output_type": "stream",
     "text": [
      "val_loss is not improved for 5 epochs\n",
      "                  validation\n",
      " - Yaw          :   4.290239\n",
      " - Pitch        :   3.097954\n",
      " - Roll         :   1.040709\n",
      " - RMS          :   3.113762\n",
      " - 99% Tile     :  12.917858\n",
      "Save output signals into checkpoint/BaselineCNN/sample/0019.npy\n"
     ]
    },
    {
     "name": "stderr",
     "output_type": "stream",
     "text": [
      "[0020/0040] Train: 100%|█████████████████████████████| 696/696 [00:07<00:00, 97.78it/s, loss 0.0021]\n",
      "[0020/0040] Validation: 100%|███████████████████| 690/690 [00:02<00:00, 331.98it/s, val_loss 0.0055]\n",
      "[0021/0040] Train:   0%|                                                    | 0/696 [00:00<?, ?it/s]"
     ]
    },
    {
     "name": "stdout",
     "output_type": "stream",
     "text": [
      "val_loss is not improved for 6 epochs\n",
      "                  validation\n",
      " - Yaw          :   5.266274\n",
      " - Pitch        :   2.117563\n",
      " - Roll         :   1.055998\n",
      " - RMS          :   3.333309\n",
      " - 99% Tile     :  13.410613\n",
      "Save output signals into checkpoint/BaselineCNN/sample/0020.npy\n"
     ]
    },
    {
     "name": "stderr",
     "output_type": "stream",
     "text": [
      "[0021/0040] Train: 100%|█████████████████████████████| 696/696 [00:07<00:00, 96.66it/s, loss 0.0021]\n",
      "[0021/0040] Validation: 100%|███████████████████| 690/690 [00:02<00:00, 330.62it/s, val_loss 0.0044]\n",
      "[0022/0040] Train:   0%|                                                    | 0/696 [00:00<?, ?it/s]"
     ]
    },
    {
     "name": "stdout",
     "output_type": "stream",
     "text": [
      "val_loss is not improved for 7 epochs\n",
      "                  validation\n",
      " - Yaw          :   3.738687\n",
      " - Pitch        :   2.890849\n",
      " - Roll         :   1.729214\n",
      " - RMS          :   2.905453\n",
      " - 99% Tile     :  12.280133\n",
      "Save output signals into checkpoint/BaselineCNN/sample/0021.npy\n"
     ]
    },
    {
     "name": "stderr",
     "output_type": "stream",
     "text": [
      "[0022/0040] Train: 100%|█████████████████████████████| 696/696 [00:07<00:00, 96.98it/s, loss 0.0019]\n",
      "[0022/0040] Validation: 100%|███████████████████| 690/690 [00:02<00:00, 327.37it/s, val_loss 0.0031]\n",
      "[0023/0040] Train:   0%|                                                    | 0/696 [00:00<?, ?it/s]"
     ]
    },
    {
     "name": "stdout",
     "output_type": "stream",
     "text": [
      "val_loss is not improved for 8 epochs\n",
      "                  validation\n",
      " - Yaw          :   2.933379\n",
      " - Pitch        :   1.735245\n",
      " - Roll         :   1.220366\n",
      " - RMS          :   2.090062\n",
      " - 99% Tile     :  11.606993\n",
      "Save output signals into checkpoint/BaselineCNN/sample/0022.npy\n"
     ]
    },
    {
     "name": "stderr",
     "output_type": "stream",
     "text": [
      "[0023/0040] Train: 100%|█████████████████████████████| 696/696 [00:07<00:00, 90.57it/s, loss 0.0019]\n",
      "[0023/0040] Validation: 100%|███████████████████| 690/690 [00:02<00:00, 322.93it/s, val_loss 0.0034]\n",
      "[0024/0040] Train:   0%|                                                    | 0/696 [00:00<?, ?it/s]"
     ]
    },
    {
     "name": "stdout",
     "output_type": "stream",
     "text": [
      "val_loss is not improved for 9 epochs\n",
      "                  validation\n",
      " - Yaw          :   2.973384\n",
      " - Pitch        :   1.945182\n",
      " - Roll         :   1.834291\n",
      " - RMS          :   2.308634\n",
      " - 99% Tile     :  12.173365\n",
      "Save output signals into checkpoint/BaselineCNN/sample/0023.npy\n"
     ]
    },
    {
     "name": "stderr",
     "output_type": "stream",
     "text": [
      "[0024/0040] Train: 100%|█████████████████████████████| 696/696 [00:07<00:00, 94.80it/s, loss 0.0018]\n",
      "[0024/0040] Validation: 100%|███████████████████| 690/690 [00:02<00:00, 323.54it/s, val_loss 0.0039]"
     ]
    },
    {
     "name": "stdout",
     "output_type": "stream",
     "text": [
      "val_loss is not improved for 10 epochs\n",
      "Stop training because val_loss did not improved for 10 epochs\n",
      "                  validation\n",
      " - Yaw          :   2.936614\n",
      " - Pitch        :   3.240543\n",
      " - Roll         :   0.906391\n",
      " - RMS          :   2.578525\n",
      " - 99% Tile     :  12.015723\n",
      "Save output signals into checkpoint/BaselineCNN/sample/0024.npy\n"
     ]
    },
    {
     "name": "stderr",
     "output_type": "stream",
     "text": [
      "\n"
     ]
    }
   ],
   "source": [
    "trainer.fit(train_ds, valid_ds, start_epoch=1, num_epochs=40, batch_size=256, pin_memory=True)"
   ]
  },
  {
   "cell_type": "markdown",
   "metadata": {},
   "source": [
    "# 그래프 그리기"
   ]
  },
  {
   "cell_type": "code",
   "execution_count": 3,
   "metadata": {},
   "outputs": [],
   "source": [
    "graph_file = 'checkpoint/BaselineCNN/sample/0014.npy'"
   ]
  },
  {
   "cell_type": "code",
   "execution_count": 4,
   "metadata": {},
   "outputs": [],
   "source": [
    "graph_data = np.load(graph_file)"
   ]
  },
  {
   "cell_type": "code",
   "execution_count": 5,
   "metadata": {},
   "outputs": [],
   "source": [
    "yaw_gt, pitch_gt, roll_gt, yaw, pitch, roll = graph_data"
   ]
  },
  {
   "cell_type": "code",
   "execution_count": 6,
   "metadata": {},
   "outputs": [],
   "source": [
    "title = 'BaselineCNN1d'\n",
    "GRAPH_FILEPATH = CHECKPOINT_DIR / f'graph-{Path(graph_file).stem}.png'\n",
    "s = 1500\n",
    "t = 2100"
   ]
  },
  {
   "cell_type": "code",
   "execution_count": 7,
   "metadata": {},
   "outputs": [
    {
     "data": {
      "image/png": "[encoded data removed]",
      "text/plain": [
       "<Figure size 1152x216 with 3 Axes>"
      ]
     },
     "metadata": {
      "needs_background": "light"
     },
     "output_type": "display_data"
    }
   ],
   "source": [
    "plt.figure(figsize=(16, 3))\n",
    "\n",
    "plt.subplot(1, 3, 1)\n",
    "plt.plot(yaw_gt[s:t])\n",
    "plt.plot(yaw[s:t])\n",
    "plt.legend(['yaw_gt', 'yaw'])\n",
    "plt.title(title + ' - yaw')\n",
    "plt.ylim(-1, 1)\n",
    "\n",
    "plt.subplot(1, 3, 2)\n",
    "plt.plot(pitch_gt[s:t])\n",
    "plt.plot(pitch[s:t])\n",
    "plt.legend(['pitch_gt', 'pitch'])\n",
    "plt.title(title + ' - pitch')\n",
    "plt.ylim(-1, 1)\n",
    "\n",
    "plt.subplot(1, 3, 3)\n",
    "plt.plot(roll_gt[s:t])\n",
    "plt.plot(roll[s:t])\n",
    "plt.legend(['roll_gt', 'roll'])\n",
    "plt.title(title + ' - roll')\n",
    "plt.ylim(-1, 1)\n",
    "\n",
    "plt.tight_layout()\n",
    "plt.savefig(GRAPH_FILEPATH)\n",
    "plt.show()"
   ]
  },
  {
   "cell_type": "code",
   "execution_count": null,
   "metadata": {},
   "outputs": [],
   "source": []
  }
 ],
 "metadata": {
  "kernelspec": {
   "display_name": "torch",
   "language": "python",
   "name": "torch"
  },
  "language_info": {
   "codemirror_mode": {
    "name": "ipython",
    "version": 3
   },
   "file_extension": ".py",
   "mimetype": "text/x-python",
   "name": "python",
   "nbconvert_exporter": "python",
   "pygments_lexer": "ipython3",
   "version": "3.7.9"
  }
 },
 "nbformat": 4,
 "nbformat_minor": 4
}
