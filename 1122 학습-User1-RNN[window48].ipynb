{
 "cells": [
  {
   "cell_type": "markdown",
   "metadata": {},
   "source": [
    "# 학습 방법 - Scene\n",
    "\n",
    "3개의 Scene에 대해서 각각 따로 학습\n",
    "\n",
    "user별로 학습을 하지 않는 이유는 상관관계로 보았을 때 user끼리는 달라도 scene별로는 유사점이 꽤 보였기 때문."
   ]
  },
  {
   "cell_type": "code",
   "execution_count": 1,
   "metadata": {},
   "outputs": [],
   "source": [
    "from multiprocessing import cpu_count\n",
    "from pathlib import Path\n",
    "from typing import List, Union, AnyStr\n",
    "from math import pi\n",
    "import pickle\n",
    "\n",
    "import numpy as np\n",
    "import torch\n",
    "import matplotlib.pyplot as plt\n",
    "import torch.nn as nn\n",
    "from sklearn import model_selection\n",
    "from tqdm import tqdm\n",
    "import torch_optimizer\n",
    "from torch.utils.data import Dataset\n",
    "import pandas as pd\n",
    "import random\n",
    "\n",
    "import torch_burn as tb\n",
    "import utils"
   ]
  },
  {
   "cell_type": "code",
   "execution_count": 2,
   "metadata": {},
   "outputs": [],
   "source": [
    "EXPERIMENT_NAME = '1122-User1-LSTM-win48'\n",
    "CHECKPOINT_DIR = Path('checkpoint', EXPERIMENT_NAME)\n",
    "CHECKPOINT_DIR.mkdir(parents=True, exist_ok=True)\n",
    "\n",
    "DATA_DIR = Path('data/1116')\n",
    "TRAIN_FILES = sorted(list(DATA_DIR.glob('user1*_0.csv')))\n",
    "TEST_FILES = sorted(list(DATA_DIR.glob('user1*_1.csv')))"
   ]
  },
  {
   "cell_type": "markdown",
   "metadata": {},
   "source": [
    "# 데이터셋 생성\n",
    "\n",
    "scene1에 대해서 모든 user의 데이터를 하나로 합친다."
   ]
  },
  {
   "cell_type": "code",
   "execution_count": 3,
   "metadata": {},
   "outputs": [],
   "source": [
    "WINDOW_SIZE = 48"
   ]
  },
  {
   "cell_type": "code",
   "execution_count": 4,
   "metadata": {},
   "outputs": [],
   "source": [
    "class CSVSequentialDataset(Dataset):\n",
    "    def __init__(self, csvfile,\n",
    "                 window_size=300, randomized_window_size=False,\n",
    "                 stride=30, randomized_stride=False):\n",
    "        super(CSVSequentialDataset, self).__init__()\n",
    "\n",
    "        self.xcols = ['input_orientation_yaw', 'input_orientation_pitch', 'input_orientation_roll',\n",
    "                      'acceleration_x', 'acceleration_y', 'acceleration_z']\n",
    "        self.ycols = ['input_orientation_yaw', 'input_orientation_pitch', 'input_orientation_roll']\n",
    "\n",
    "        self.csv = pd.read_csv(csvfile)\n",
    "        self.window_size = window_size\n",
    "\n",
    "        self.indexes = []\n",
    "        i = 0\n",
    "        while i <= len(self.csv) - window_size * 2:\n",
    "            if randomized_window_size:\n",
    "                self.indexes.append((i, i + random.randint(window_size // 2, window_size)))\n",
    "            else:\n",
    "                self.indexes.append((i, i + window_size))\n",
    "\n",
    "            if randomized_stride:\n",
    "                i += random.randint(1, stride)\n",
    "            else:\n",
    "                i += stride\n",
    "\n",
    "    def __len__(self):\n",
    "        return len(self.indexes)\n",
    "\n",
    "    def __getitem__(self, idx):\n",
    "        s, t = self.indexes[idx]\n",
    "        x = self.csv.iloc[s:t][self.xcols].to_numpy()\n",
    "        y = self.csv.iloc[t + 6][self.ycols].to_numpy()\n",
    "\n",
    "        x = torch.tensor(x, dtype=torch.float32) # 300, 6\n",
    "        y = torch.tensor(y, dtype=torch.float32) # 3\n",
    "        \n",
    "        #x[:, :3] *= pi / 180\n",
    "        x[:, 3:] /= 10\n",
    "\n",
    "        return x, y"
   ]
  },
  {
   "cell_type": "code",
   "execution_count": 5,
   "metadata": {},
   "outputs": [],
   "source": [
    "ds_train = [CSVSequentialDataset(f,  \n",
    "                                 window_size=WINDOW_SIZE, randomized_window_size=False,\n",
    "                                 stride=5, randomized_stride=True) for f in TRAIN_FILES]\n",
    "ds_train = tb.data.ChainDataset(*ds_train)\n",
    "ds_test = [CSVSequentialDataset(f,  \n",
    "                                window_size=WINDOW_SIZE, randomized_window_size=False,\n",
    "                                stride=5, randomized_stride=True) for f in TEST_FILES]\n",
    "ds_test = tb.data.ChainDataset(*ds_test)"
   ]
  },
  {
   "cell_type": "code",
   "execution_count": 6,
   "metadata": {},
   "outputs": [
    {
     "data": {
      "text/plain": [
       "(6491, 6511)"
      ]
     },
     "execution_count": 6,
     "metadata": {},
     "output_type": "execute_result"
    }
   ],
   "source": [
    "len(ds_train), len(ds_test)"
   ]
  },
  {
   "cell_type": "code",
   "execution_count": 7,
   "metadata": {},
   "outputs": [
    {
     "data": {
      "text/plain": [
       "(torch.Size([48, 6]), torch.Size([3]))"
      ]
     },
     "execution_count": 7,
     "metadata": {},
     "output_type": "execute_result"
    }
   ],
   "source": [
    "ds_train[0][0].shape, ds_train[0][1].shape"
   ]
  },
  {
   "cell_type": "code",
   "execution_count": 8,
   "metadata": {},
   "outputs": [],
   "source": [
    "x, y = ds_train[0]"
   ]
  },
  {
   "cell_type": "code",
   "execution_count": 9,
   "metadata": {},
   "outputs": [
    {
     "data": {
      "text/plain": [
       "torch.Size([48, 6])"
      ]
     },
     "execution_count": 9,
     "metadata": {},
     "output_type": "execute_result"
    }
   ],
   "source": [
    "x.shape"
   ]
  },
  {
   "cell_type": "code",
   "execution_count": 10,
   "metadata": {},
   "outputs": [
    {
     "data": {
      "text/plain": [
       "[<matplotlib.lines.Line2D at 0x7fe113be0410>]"
      ]
     },
     "execution_count": 10,
     "metadata": {},
     "output_type": "execute_result"
    },
    {
     "data": {
      "image/png": "[encoded data removed]",
      "text/plain": [
       "<Figure size 432x288 with 1 Axes>"
      ]
     },
     "metadata": {
      "needs_background": "light"
     },
     "output_type": "display_data"
    }
   ],
   "source": [
    "plt.plot(x[:, 2])"
   ]
  },
  {
   "cell_type": "markdown",
   "metadata": {},
   "source": [
    "# 모델 생성\n",
    "\n",
    "StackedLSTM Bidirectional"
   ]
  },
  {
   "cell_type": "code",
   "execution_count": 11,
   "metadata": {},
   "outputs": [],
   "source": [
    "model = utils.BaselineLSTM(input_size=6,\n",
    "                           hidden_size=64,\n",
    "                           num_layers=8,\n",
    "                           dropout=0.2,\n",
    "                           bidirectional=True).cuda()"
   ]
  },
  {
   "cell_type": "code",
   "execution_count": 12,
   "metadata": {},
   "outputs": [],
   "source": [
    "criterion = nn.MSELoss().cuda()\n",
    "optimizer = torch_optimizer.RAdam(model.parameters())"
   ]
  },
  {
   "cell_type": "code",
   "execution_count": 13,
   "metadata": {},
   "outputs": [],
   "source": [
    "metrics = [tb.metrics.ModuleMetric(criterion, 'loss'),\n",
    "           utils.HPMetric('hp_metric'),\n",
    "           utils.HPSignalHistory(CHECKPOINT_DIR / 'sample' / '{epoch:04d}.npy', 'hp_signal')]"
   ]
  },
  {
   "cell_type": "code",
   "execution_count": 14,
   "metadata": {},
   "outputs": [],
   "source": [
    "callbacks = [tb.callbacks.EarlyStopping(metrics[0]),\n",
    "             tb.callbacks.LRDecaying(optimizer, metrics[0])]"
   ]
  },
  {
   "cell_type": "code",
   "execution_count": 15,
   "metadata": {},
   "outputs": [],
   "source": [
    "trainer = tb.Trainer(model, optimizer, metrics, callbacks, ncols=100)"
   ]
  },
  {
   "cell_type": "code",
   "execution_count": 17,
   "metadata": {},
   "outputs": [
    {
     "name": "stderr",
     "output_type": "stream",
     "text": [
      "[0101/0200] Train: 100%|███████████████████████████████| 26/26 [00:01<00:00, 14.14it/s, loss 0.4690]\n",
      "[0101/0200] Validation: 100%|██████████████████████| 26/26 [00:01<00:00, 22.50it/s, val_loss 2.5371]\n",
      "[0102/0200] Train:   0%|                                                     | 0/26 [00:00<?, ?it/s]"
     ]
    },
    {
     "name": "stdout",
     "output_type": "stream",
     "text": [
      "val_loss is not improved for 1 epochs\n",
      "                  validation\n",
      " - Yaw          :   1.025319\n",
      " - Pitch        :   0.947329\n",
      " - Roll         :   0.783205\n",
      " - RMS          :   0.924143\n",
      " - 99% Tile     :   6.475887\n",
      "Save output signals into checkpoint/1122-User1-LSTM-win48/sample/0101.npy\n"
     ]
    },
    {
     "name": "stderr",
     "output_type": "stream",
     "text": [
      "[0102/0200] Train: 100%|███████████████████████████████| 26/26 [00:01<00:00, 14.33it/s, loss 0.4609]\n",
      "[0102/0200] Validation: 100%|██████████████████████| 26/26 [00:01<00:00, 22.98it/s, val_loss 2.4552]\n",
      "[0103/0200] Train:   0%|                                                     | 0/26 [00:00<?, ?it/s]"
     ]
    },
    {
     "name": "stdout",
     "output_type": "stream",
     "text": [
      "val_loss is not improved for 2 epochs\n",
      "                  validation\n",
      " - Yaw          :   1.005704\n",
      " - Pitch        :   0.883201\n",
      " - Roll         :   0.811109\n",
      " - RMS          :   0.903582\n",
      " - 99% Tile     :   5.885122\n",
      "Save output signals into checkpoint/1122-User1-LSTM-win48/sample/0102.npy\n"
     ]
    },
    {
     "name": "stderr",
     "output_type": "stream",
     "text": [
      "[0103/0200] Train: 100%|███████████████████████████████| 26/26 [00:01<00:00, 14.92it/s, loss 0.4551]\n",
      "[0103/0200] Validation: 100%|██████████████████████| 26/26 [00:01<00:00, 22.77it/s, val_loss 2.3756]\n",
      "[0104/0200] Train:   0%|                                                     | 0/26 [00:00<?, ?it/s]"
     ]
    },
    {
     "name": "stdout",
     "output_type": "stream",
     "text": [
      "                  validation\n",
      " - Yaw          :   0.987185\n",
      " - Pitch        :   0.876098\n",
      " - Roll         :   0.771595\n",
      " - RMS          :   0.882693\n",
      " - 99% Tile     :   5.950819\n",
      "Save output signals into checkpoint/1122-User1-LSTM-win48/sample/0103.npy\n"
     ]
    },
    {
     "name": "stderr",
     "output_type": "stream",
     "text": [
      "[0104/0200] Train: 100%|███████████████████████████████| 26/26 [00:01<00:00, 14.59it/s, loss 0.4401]\n",
      "[0104/0200] Validation: 100%|██████████████████████| 26/26 [00:01<00:00, 22.24it/s, val_loss 2.4057]\n",
      "[0105/0200] Train:   0%|                                                     | 0/26 [00:00<?, ?it/s]"
     ]
    },
    {
     "name": "stdout",
     "output_type": "stream",
     "text": [
      "val_loss is not improved for 1 epochs\n",
      "                  validation\n",
      " - Yaw          :   1.027060\n",
      " - Pitch        :   0.951716\n",
      " - Roll         :   0.746850\n",
      " - RMS          :   0.916224\n",
      " - 99% Tile     :   6.143341\n",
      "Save output signals into checkpoint/1122-User1-LSTM-win48/sample/0104.npy\n"
     ]
    },
    {
     "name": "stderr",
     "output_type": "stream",
     "text": [
      "[0105/0200] Train: 100%|███████████████████████████████| 26/26 [00:01<00:00, 14.56it/s, loss 0.4385]\n",
      "[0105/0200] Validation: 100%|██████████████████████| 26/26 [00:01<00:00, 22.70it/s, val_loss 2.4895]\n",
      "[0106/0200] Train:   0%|                                                     | 0/26 [00:00<?, ?it/s]"
     ]
    },
    {
     "name": "stdout",
     "output_type": "stream",
     "text": [
      "val_loss is not improved for 2 epochs\n",
      "                  validation\n",
      " - Yaw          :   1.068212\n",
      " - Pitch        :   0.955216\n",
      " - Roll         :   0.761916\n",
      " - RMS          :   0.937022\n",
      " - 99% Tile     :   6.032609\n",
      "Save output signals into checkpoint/1122-User1-LSTM-win48/sample/0105.npy\n"
     ]
    },
    {
     "name": "stderr",
     "output_type": "stream",
     "text": [
      "[0106/0200] Train: 100%|███████████████████████████████| 26/26 [00:01<00:00, 14.63it/s, loss 0.4407]\n",
      "[0106/0200] Validation: 100%|██████████████████████| 26/26 [00:01<00:00, 22.76it/s, val_loss 2.3998]\n",
      "[0107/0200] Train:   0%|                                                     | 0/26 [00:00<?, ?it/s]"
     ]
    },
    {
     "name": "stdout",
     "output_type": "stream",
     "text": [
      "val_loss is not improved for 3 epochs\n",
      "                  validation\n",
      " - Yaw          :   0.960654\n",
      " - Pitch        :   0.938360\n",
      " - Roll         :   0.762464\n",
      " - RMS          :   0.891577\n",
      " - 99% Tile     :   5.950626\n",
      "Save output signals into checkpoint/1122-User1-LSTM-win48/sample/0106.npy\n"
     ]
    },
    {
     "name": "stderr",
     "output_type": "stream",
     "text": [
      "[0107/0200] Train: 100%|███████████████████████████████| 26/26 [00:01<00:00, 14.55it/s, loss 0.4213]\n",
      "[0107/0200] Validation: 100%|██████████████████████| 26/26 [00:01<00:00, 21.72it/s, val_loss 2.4291]\n",
      "[0108/0200] Train:   0%|                                                     | 0/26 [00:00<?, ?it/s]"
     ]
    },
    {
     "name": "stdout",
     "output_type": "stream",
     "text": [
      "val_loss is not improved for 4 epochs\n",
      "                  validation\n",
      " - Yaw          :   0.949082\n",
      " - Pitch        :   0.942645\n",
      " - Roll         :   0.777301\n",
      " - RMS          :   0.893222\n",
      " - 99% Tile     :   6.196268\n",
      "Save output signals into checkpoint/1122-User1-LSTM-win48/sample/0107.npy\n"
     ]
    },
    {
     "name": "stderr",
     "output_type": "stream",
     "text": [
      "[0108/0200] Train: 100%|███████████████████████████████| 26/26 [00:01<00:00, 14.36it/s, loss 0.4198]\n",
      "[0108/0200] Validation: 100%|██████████████████████| 26/26 [00:01<00:00, 22.26it/s, val_loss 2.3765]\n",
      "[0109/0200] Train:   0%|                                                     | 0/26 [00:00<?, ?it/s]"
     ]
    },
    {
     "name": "stdout",
     "output_type": "stream",
     "text": [
      "Decaying lr from 0.0005 to 0.00025 because val_loss did not improved for 5 epochs\n",
      "val_loss is not improved for 5 epochs\n",
      "                  validation\n",
      " - Yaw          :   0.972207\n",
      " - Pitch        :   0.929081\n",
      " - Roll         :   0.746649\n",
      " - RMS          :   0.888043\n",
      " - 99% Tile     :   6.225287\n",
      "Save output signals into checkpoint/1122-User1-LSTM-win48/sample/0108.npy\n"
     ]
    },
    {
     "name": "stderr",
     "output_type": "stream",
     "text": [
      "[0109/0200] Train: 100%|███████████████████████████████| 26/26 [00:01<00:00, 14.24it/s, loss 0.3911]\n",
      "[0109/0200] Validation: 100%|██████████████████████| 26/26 [00:01<00:00, 22.64it/s, val_loss 2.3831]\n",
      "[0110/0200] Train:   0%|                                                     | 0/26 [00:00<?, ?it/s]"
     ]
    },
    {
     "name": "stdout",
     "output_type": "stream",
     "text": [
      "val_loss is not improved for 6 epochs\n",
      "                  validation\n",
      " - Yaw          :   0.927137\n",
      " - Pitch        :   0.931697\n",
      " - Roll         :   0.758719\n",
      " - RMS          :   0.876222\n",
      " - 99% Tile     :   6.267821\n",
      "Save output signals into checkpoint/1122-User1-LSTM-win48/sample/0109.npy\n"
     ]
    },
    {
     "name": "stderr",
     "output_type": "stream",
     "text": [
      "[0110/0200] Train: 100%|███████████████████████████████| 26/26 [00:01<00:00, 14.36it/s, loss 0.3948]\n",
      "[0110/0200] Validation: 100%|██████████████████████| 26/26 [00:01<00:00, 22.04it/s, val_loss 2.3611]\n",
      "[0111/0200] Train:   0%|                                                     | 0/26 [00:00<?, ?it/s]"
     ]
    },
    {
     "name": "stdout",
     "output_type": "stream",
     "text": [
      "                  validation\n",
      " - Yaw          :   0.953342\n",
      " - Pitch        :   0.916526\n",
      " - Roll         :   0.739356\n",
      " - RMS          :   0.874744\n",
      " - 99% Tile     :   6.316571\n",
      "Save output signals into checkpoint/1122-User1-LSTM-win48/sample/0110.npy\n"
     ]
    },
    {
     "name": "stderr",
     "output_type": "stream",
     "text": [
      "[0111/0200] Train: 100%|███████████████████████████████| 26/26 [00:01<00:00, 14.66it/s, loss 0.3795]\n",
      "[0111/0200] Validation: 100%|██████████████████████| 26/26 [00:01<00:00, 22.71it/s, val_loss 2.3767]\n",
      "[0112/0200] Train:   0%|                                                     | 0/26 [00:00<?, ?it/s]"
     ]
    },
    {
     "name": "stdout",
     "output_type": "stream",
     "text": [
      "val_loss is not improved for 1 epochs\n",
      "                  validation\n",
      " - Yaw          :   0.927980\n",
      " - Pitch        :   0.907963\n",
      " - Roll         :   0.758793\n",
      " - RMS          :   0.868199\n",
      " - 99% Tile     :   6.286962\n",
      "Save output signals into checkpoint/1122-User1-LSTM-win48/sample/0111.npy\n"
     ]
    },
    {
     "name": "stderr",
     "output_type": "stream",
     "text": [
      "[0112/0200] Train: 100%|███████████████████████████████| 26/26 [00:01<00:00, 14.27it/s, loss 0.3928]\n",
      "[0112/0200] Validation: 100%|██████████████████████| 26/26 [00:01<00:00, 21.99it/s, val_loss 2.3405]\n",
      "[0113/0200] Train:   0%|                                                     | 0/26 [00:00<?, ?it/s]"
     ]
    },
    {
     "name": "stdout",
     "output_type": "stream",
     "text": [
      "                  validation\n",
      " - Yaw          :   0.894019\n",
      " - Pitch        :   0.917878\n",
      " - Roll         :   0.757077\n",
      " - RMS          :   0.859251\n",
      " - 99% Tile     :   6.277755\n",
      "Save output signals into checkpoint/1122-User1-LSTM-win48/sample/0112.npy\n"
     ]
    },
    {
     "name": "stderr",
     "output_type": "stream",
     "text": [
      "[0113/0200] Train: 100%|███████████████████████████████| 26/26 [00:01<00:00, 14.54it/s, loss 0.3912]\n",
      "[0113/0200] Validation: 100%|██████████████████████| 26/26 [00:01<00:00, 22.32it/s, val_loss 2.3731]\n",
      "[0114/0200] Train:   0%|                                                     | 0/26 [00:00<?, ?it/s]"
     ]
    },
    {
     "name": "stdout",
     "output_type": "stream",
     "text": [
      "val_loss is not improved for 1 epochs\n",
      "                  validation\n",
      " - Yaw          :   0.906498\n",
      " - Pitch        :   0.924271\n",
      " - Roll         :   0.752993\n",
      " - RMS          :   0.864680\n",
      " - 99% Tile     :   6.379351\n",
      "Save output signals into checkpoint/1122-User1-LSTM-win48/sample/0113.npy\n"
     ]
    },
    {
     "name": "stderr",
     "output_type": "stream",
     "text": [
      "[0114/0200] Train: 100%|███████████████████████████████| 26/26 [00:01<00:00, 14.04it/s, loss 0.3883]\n",
      "[0114/0200] Validation: 100%|██████████████████████| 26/26 [00:01<00:00, 22.02it/s, val_loss 2.3414]\n",
      "[0115/0200] Train:   0%|                                                     | 0/26 [00:00<?, ?it/s]"
     ]
    },
    {
     "name": "stdout",
     "output_type": "stream",
     "text": [
      "val_loss is not improved for 2 epochs\n",
      "                  validation\n",
      " - Yaw          :   0.937028\n",
      " - Pitch        :   0.926555\n",
      " - Roll         :   0.753217\n",
      " - RMS          :   0.876330\n",
      " - 99% Tile     :   6.272123\n",
      "Save output signals into checkpoint/1122-User1-LSTM-win48/sample/0114.npy\n"
     ]
    },
    {
     "name": "stderr",
     "output_type": "stream",
     "text": [
      "[0115/0200] Train: 100%|███████████████████████████████| 26/26 [00:01<00:00, 14.59it/s, loss 0.3995]\n",
      "[0115/0200] Validation: 100%|██████████████████████| 26/26 [00:01<00:00, 23.36it/s, val_loss 2.3763]\n",
      "[0116/0200] Train:   0%|                                                     | 0/26 [00:00<?, ?it/s]"
     ]
    },
    {
     "name": "stdout",
     "output_type": "stream",
     "text": [
      "val_loss is not improved for 3 epochs\n",
      "                  validation\n",
      " - Yaw          :   0.992275\n",
      " - Pitch        :   0.949549\n",
      " - Roll         :   0.746445\n",
      " - RMS          :   0.902484\n",
      " - 99% Tile     :   6.266891\n",
      "Save output signals into checkpoint/1122-User1-LSTM-win48/sample/0115.npy\n"
     ]
    },
    {
     "name": "stderr",
     "output_type": "stream",
     "text": [
      "[0116/0200] Train: 100%|███████████████████████████████| 26/26 [00:01<00:00, 14.32it/s, loss 0.3868]\n",
      "[0116/0200] Validation: 100%|██████████████████████| 26/26 [00:01<00:00, 22.46it/s, val_loss 2.2981]\n",
      "[0117/0200] Train:   0%|                                                     | 0/26 [00:00<?, ?it/s]"
     ]
    },
    {
     "name": "stdout",
     "output_type": "stream",
     "text": [
      "                  validation\n",
      " - Yaw          :   0.886391\n",
      " - Pitch        :   0.879609\n",
      " - Roll         :   0.763493\n",
      " - RMS          :   0.845049\n",
      " - 99% Tile     :   6.229323\n",
      "Save output signals into checkpoint/1122-User1-LSTM-win48/sample/0116.npy\n"
     ]
    },
    {
     "name": "stderr",
     "output_type": "stream",
     "text": [
      "[0117/0200] Train: 100%|███████████████████████████████| 26/26 [00:01<00:00, 15.04it/s, loss 0.3741]\n",
      "[0117/0200] Validation: 100%|██████████████████████| 26/26 [00:01<00:00, 21.89it/s, val_loss 2.2969]\n",
      "[0118/0200] Train:   0%|                                                     | 0/26 [00:00<?, ?it/s]"
     ]
    },
    {
     "name": "stdout",
     "output_type": "stream",
     "text": [
      "                  validation\n",
      " - Yaw          :   0.895162\n",
      " - Pitch        :   0.903451\n",
      " - Roll         :   0.759253\n",
      " - RMS          :   0.855181\n",
      " - 99% Tile     :   6.224718\n",
      "Save output signals into checkpoint/1122-User1-LSTM-win48/sample/0117.npy\n"
     ]
    },
    {
     "name": "stderr",
     "output_type": "stream",
     "text": [
      "[0118/0200] Train: 100%|███████████████████████████████| 26/26 [00:01<00:00, 14.11it/s, loss 0.3772]\n",
      "[0118/0200] Validation: 100%|██████████████████████| 26/26 [00:01<00:00, 21.84it/s, val_loss 2.2533]\n",
      "[0119/0200] Train:   0%|                                                     | 0/26 [00:00<?, ?it/s]"
     ]
    },
    {
     "name": "stdout",
     "output_type": "stream",
     "text": [
      "                  validation\n",
      " - Yaw          :   0.909375\n",
      " - Pitch        :   0.877178\n",
      " - Roll         :   0.742420\n",
      " - RMS          :   0.846087\n",
      " - 99% Tile     :   6.160227\n",
      "Save output signals into checkpoint/1122-User1-LSTM-win48/sample/0118.npy\n"
     ]
    },
    {
     "name": "stderr",
     "output_type": "stream",
     "text": [
      "[0119/0200] Train: 100%|███████████████████████████████| 26/26 [00:01<00:00, 14.42it/s, loss 0.3768]\n",
      "[0119/0200] Validation: 100%|██████████████████████| 26/26 [00:01<00:00, 21.98it/s, val_loss 2.2890]\n",
      "[0120/0200] Train:   0%|                                                     | 0/26 [00:00<?, ?it/s]"
     ]
    },
    {
     "name": "stdout",
     "output_type": "stream",
     "text": [
      "val_loss is not improved for 1 epochs\n",
      "                  validation\n",
      " - Yaw          :   0.891410\n",
      " - Pitch        :   0.877799\n",
      " - Roll         :   0.762099\n",
      " - RMS          :   0.845761\n",
      " - 99% Tile     :   6.210739\n",
      "Save output signals into checkpoint/1122-User1-LSTM-win48/sample/0119.npy\n"
     ]
    },
    {
     "name": "stderr",
     "output_type": "stream",
     "text": [
      "[0120/0200] Train: 100%|███████████████████████████████| 26/26 [00:01<00:00, 14.84it/s, loss 0.3748]\n",
      "[0120/0200] Validation: 100%|██████████████████████| 26/26 [00:01<00:00, 22.77it/s, val_loss 2.2787]\n",
      "[0121/0200] Train:   0%|                                                     | 0/26 [00:00<?, ?it/s]"
     ]
    },
    {
     "name": "stdout",
     "output_type": "stream",
     "text": [
      "val_loss is not improved for 2 epochs\n",
      "                  validation\n",
      " - Yaw          :   0.896502\n",
      " - Pitch        :   0.883354\n",
      " - Roll         :   0.759687\n",
      " - RMS          :   0.848755\n",
      " - 99% Tile     :   6.221454\n",
      "Save output signals into checkpoint/1122-User1-LSTM-win48/sample/0120.npy\n"
     ]
    },
    {
     "name": "stderr",
     "output_type": "stream",
     "text": [
      "[0121/0200] Train: 100%|███████████████████████████████| 26/26 [00:01<00:00, 14.23it/s, loss 0.3629]\n",
      "[0121/0200] Validation: 100%|██████████████████████| 26/26 [00:01<00:00, 22.15it/s, val_loss 2.2641]\n",
      "[0122/0200] Train:   0%|                                                     | 0/26 [00:00<?, ?it/s]"
     ]
    },
    {
     "name": "stdout",
     "output_type": "stream",
     "text": [
      "val_loss is not improved for 3 epochs\n",
      "                  validation\n",
      " - Yaw          :   0.919941\n",
      " - Pitch        :   0.892295\n",
      " - Roll         :   0.729766\n",
      " - RMS          :   0.851477\n",
      " - 99% Tile     :   6.147093\n",
      "Save output signals into checkpoint/1122-User1-LSTM-win48/sample/0121.npy\n"
     ]
    },
    {
     "name": "stderr",
     "output_type": "stream",
     "text": [
      "[0122/0200] Train: 100%|███████████████████████████████| 26/26 [00:01<00:00, 14.68it/s, loss 0.3748]\n",
      "[0122/0200] Validation: 100%|██████████████████████| 26/26 [00:01<00:00, 21.86it/s, val_loss 2.2507]\n",
      "[0123/0200] Train:   0%|                                                     | 0/26 [00:00<?, ?it/s]"
     ]
    },
    {
     "name": "stdout",
     "output_type": "stream",
     "text": [
      "                  validation\n",
      " - Yaw          :   0.884297\n",
      " - Pitch        :   0.859178\n",
      " - Roll         :   0.758042\n",
      " - RMS          :   0.835623\n",
      " - 99% Tile     :   6.201392\n",
      "Save output signals into checkpoint/1122-User1-LSTM-win48/sample/0122.npy\n"
     ]
    },
    {
     "name": "stderr",
     "output_type": "stream",
     "text": [
      "[0123/0200] Train: 100%|███████████████████████████████| 26/26 [00:01<00:00, 14.52it/s, loss 0.3677]\n",
      "[0123/0200] Validation: 100%|██████████████████████| 26/26 [00:01<00:00, 23.78it/s, val_loss 2.2552]\n",
      "[0124/0200] Train:   0%|                                                     | 0/26 [00:00<?, ?it/s]"
     ]
    },
    {
     "name": "stdout",
     "output_type": "stream",
     "text": [
      "val_loss is not improved for 1 epochs\n",
      "                  validation\n",
      " - Yaw          :   0.909960\n",
      " - Pitch        :   0.862306\n",
      " - Roll         :   0.754625\n",
      " - RMS          :   0.844799\n",
      " - 99% Tile     :   6.169215\n",
      "Save output signals into checkpoint/1122-User1-LSTM-win48/sample/0123.npy\n"
     ]
    },
    {
     "name": "stderr",
     "output_type": "stream",
     "text": [
      "[0124/0200] Train: 100%|███████████████████████████████| 26/26 [00:01<00:00, 15.13it/s, loss 0.3749]\n",
      "[0124/0200] Validation: 100%|██████████████████████| 26/26 [00:01<00:00, 22.76it/s, val_loss 2.4348]\n",
      "[0125/0200] Train:   0%|                                                     | 0/26 [00:00<?, ?it/s]"
     ]
    },
    {
     "name": "stdout",
     "output_type": "stream",
     "text": [
      "val_loss is not improved for 2 epochs\n",
      "                  validation\n",
      " - Yaw          :   0.959434\n",
      " - Pitch        :   1.009450\n",
      " - Roll         :   0.766750\n",
      " - RMS          :   0.917861\n",
      " - 99% Tile     :   6.296568\n",
      "Save output signals into checkpoint/1122-User1-LSTM-win48/sample/0124.npy\n"
     ]
    },
    {
     "name": "stderr",
     "output_type": "stream",
     "text": [
      "[0125/0200] Train: 100%|███████████████████████████████| 26/26 [00:01<00:00, 14.22it/s, loss 0.3843]\n",
      "[0125/0200] Validation: 100%|██████████████████████| 26/26 [00:01<00:00, 22.98it/s, val_loss 2.3052]\n",
      "[0126/0200] Train:   0%|                                                     | 0/26 [00:00<?, ?it/s]"
     ]
    },
    {
     "name": "stdout",
     "output_type": "stream",
     "text": [
      "val_loss is not improved for 3 epochs\n",
      "                  validation\n",
      " - Yaw          :   0.984585\n",
      " - Pitch        :   0.871469\n",
      " - Roll         :   0.759238\n",
      " - RMS          :   0.876605\n",
      " - 99% Tile     :   6.161611\n",
      "Save output signals into checkpoint/1122-User1-LSTM-win48/sample/0125.npy\n"
     ]
    },
    {
     "name": "stderr",
     "output_type": "stream",
     "text": [
      "[0126/0200] Train: 100%|███████████████████████████████| 26/26 [00:01<00:00, 14.21it/s, loss 0.3643]\n",
      "[0126/0200] Validation: 100%|██████████████████████| 26/26 [00:01<00:00, 23.07it/s, val_loss 2.2465]\n",
      "[0127/0200] Train:   0%|                                                     | 0/26 [00:00<?, ?it/s]"
     ]
    },
    {
     "name": "stdout",
     "output_type": "stream",
     "text": [
      "                  validation\n",
      " - Yaw          :   0.898939\n",
      " - Pitch        :   0.901097\n",
      " - Roll         :   0.728764\n",
      " - RMS          :   0.846791\n",
      " - 99% Tile     :   6.130563\n",
      "Save output signals into checkpoint/1122-User1-LSTM-win48/sample/0126.npy\n"
     ]
    },
    {
     "name": "stderr",
     "output_type": "stream",
     "text": [
      "[0127/0200] Train: 100%|███████████████████████████████| 26/26 [00:01<00:00, 14.23it/s, loss 0.3690]\n",
      "[0127/0200] Validation: 100%|██████████████████████| 26/26 [00:01<00:00, 22.84it/s, val_loss 2.2642]\n",
      "[0128/0200] Train:   0%|                                                     | 0/26 [00:00<?, ?it/s]"
     ]
    },
    {
     "name": "stdout",
     "output_type": "stream",
     "text": [
      "val_loss is not improved for 1 epochs\n",
      "                  validation\n",
      " - Yaw          :   0.893063\n",
      " - Pitch        :   0.888323\n",
      " - Roll         :   0.736294\n",
      " - RMS          :   0.842379\n",
      " - 99% Tile     :   6.096318\n",
      "Save output signals into checkpoint/1122-User1-LSTM-win48/sample/0127.npy\n"
     ]
    },
    {
     "name": "stderr",
     "output_type": "stream",
     "text": [
      "[0128/0200] Train: 100%|███████████████████████████████| 26/26 [00:01<00:00, 14.45it/s, loss 0.3752]\n",
      "[0128/0200] Validation: 100%|██████████████████████| 26/26 [00:01<00:00, 22.84it/s, val_loss 2.2879]\n",
      "[0129/0200] Train:   0%|                                                     | 0/26 [00:00<?, ?it/s]"
     ]
    },
    {
     "name": "stdout",
     "output_type": "stream",
     "text": [
      "val_loss is not improved for 2 epochs\n",
      "                  validation\n",
      " - Yaw          :   0.932769\n",
      " - Pitch        :   0.940969\n",
      " - Roll         :   0.737346\n",
      " - RMS          :   0.875435\n",
      " - 99% Tile     :   6.099455\n",
      "Save output signals into checkpoint/1122-User1-LSTM-win48/sample/0128.npy\n"
     ]
    },
    {
     "name": "stderr",
     "output_type": "stream",
     "text": [
      "[0129/0200] Train: 100%|███████████████████████████████| 26/26 [00:01<00:00, 14.38it/s, loss 0.3656]\n",
      "[0129/0200] Validation: 100%|██████████████████████| 26/26 [00:01<00:00, 22.40it/s, val_loss 2.2550]\n",
      "[0130/0200] Train:   0%|                                                     | 0/26 [00:00<?, ?it/s]"
     ]
    },
    {
     "name": "stdout",
     "output_type": "stream",
     "text": [
      "val_loss is not improved for 3 epochs\n",
      "                  validation\n",
      " - Yaw          :   0.964960\n",
      " - Pitch        :   0.889775\n",
      " - Roll         :   0.723405\n",
      " - RMS          :   0.865286\n",
      " - 99% Tile     :   6.129209\n",
      "Save output signals into checkpoint/1122-User1-LSTM-win48/sample/0129.npy\n"
     ]
    },
    {
     "name": "stderr",
     "output_type": "stream",
     "text": [
      "[0130/0200] Train: 100%|███████████████████████████████| 26/26 [00:01<00:00, 14.54it/s, loss 0.3567]\n",
      "[0130/0200] Validation: 100%|██████████████████████| 26/26 [00:01<00:00, 22.59it/s, val_loss 2.2325]\n",
      "[0131/0200] Train:   0%|                                                     | 0/26 [00:00<?, ?it/s]"
     ]
    },
    {
     "name": "stdout",
     "output_type": "stream",
     "text": [
      "                  validation\n",
      " - Yaw          :   0.870254\n",
      " - Pitch        :   0.908333\n",
      " - Roll         :   0.724435\n",
      " - RMS          :   0.838096\n",
      " - 99% Tile     :   6.104389\n",
      "Save output signals into checkpoint/1122-User1-LSTM-win48/sample/0130.npy\n"
     ]
    },
    {
     "name": "stderr",
     "output_type": "stream",
     "text": [
      "[0131/0200] Train: 100%|███████████████████████████████| 26/26 [00:01<00:00, 14.01it/s, loss 0.3568]\n",
      "[0131/0200] Validation: 100%|██████████████████████| 26/26 [00:01<00:00, 21.90it/s, val_loss 2.2316]\n",
      "[0132/0200] Train:   0%|                                                     | 0/26 [00:00<?, ?it/s]"
     ]
    },
    {
     "name": "stdout",
     "output_type": "stream",
     "text": [
      "                  validation\n",
      " - Yaw          :   0.886206\n",
      " - Pitch        :   0.901085\n",
      " - Roll         :   0.743033\n",
      " - RMS          :   0.846446\n",
      " - 99% Tile     :   6.154407\n",
      "Save output signals into checkpoint/1122-User1-LSTM-win48/sample/0131.npy\n"
     ]
    },
    {
     "name": "stderr",
     "output_type": "stream",
     "text": [
      "[0132/0200] Train: 100%|███████████████████████████████| 26/26 [00:01<00:00, 14.93it/s, loss 0.3596]\n",
      "[0132/0200] Validation: 100%|██████████████████████| 26/26 [00:01<00:00, 22.81it/s, val_loss 2.2255]\n",
      "[0133/0200] Train:   0%|                                                     | 0/26 [00:00<?, ?it/s]"
     ]
    },
    {
     "name": "stdout",
     "output_type": "stream",
     "text": [
      "                  validation\n",
      " - Yaw          :   0.890049\n",
      " - Pitch        :   0.886828\n",
      " - Roll         :   0.732328\n",
      " - RMS          :   0.839634\n",
      " - 99% Tile     :   6.185386\n",
      "Save output signals into checkpoint/1122-User1-LSTM-win48/sample/0132.npy\n"
     ]
    },
    {
     "name": "stderr",
     "output_type": "stream",
     "text": [
      "[0133/0200] Train: 100%|███████████████████████████████| 26/26 [00:01<00:00, 15.05it/s, loss 0.3547]\n",
      "[0133/0200] Validation: 100%|██████████████████████| 26/26 [00:01<00:00, 22.66it/s, val_loss 2.3004]\n",
      "[0134/0200] Train:   0%|                                                     | 0/26 [00:00<?, ?it/s]"
     ]
    },
    {
     "name": "stdout",
     "output_type": "stream",
     "text": [
      "val_loss is not improved for 1 epochs\n",
      "                  validation\n",
      " - Yaw          :   0.882861\n",
      " - Pitch        :   0.922061\n",
      " - Roll         :   0.731600\n",
      " - RMS          :   0.849486\n",
      " - 99% Tile     :   6.141522\n",
      "Save output signals into checkpoint/1122-User1-LSTM-win48/sample/0133.npy\n"
     ]
    },
    {
     "name": "stderr",
     "output_type": "stream",
     "text": [
      "[0134/0200] Train: 100%|███████████████████████████████| 26/26 [00:01<00:00, 15.00it/s, loss 0.3493]\n",
      "[0134/0200] Validation: 100%|██████████████████████| 26/26 [00:01<00:00, 22.24it/s, val_loss 2.2492]\n",
      "[0135/0200] Train:   0%|                                                     | 0/26 [00:00<?, ?it/s]"
     ]
    },
    {
     "name": "stdout",
     "output_type": "stream",
     "text": [
      "val_loss is not improved for 2 epochs\n",
      "                  validation\n",
      " - Yaw          :   0.960852\n",
      " - Pitch        :   0.908986\n",
      " - Roll         :   0.739736\n",
      " - RMS          :   0.874967\n",
      " - 99% Tile     :   6.127345\n",
      "Save output signals into checkpoint/1122-User1-LSTM-win48/sample/0134.npy\n"
     ]
    },
    {
     "name": "stderr",
     "output_type": "stream",
     "text": [
      "[0135/0200] Train: 100%|███████████████████████████████| 26/26 [00:01<00:00, 14.35it/s, loss 0.3505]\n",
      "[0135/0200] Validation: 100%|██████████████████████| 26/26 [00:01<00:00, 22.75it/s, val_loss 2.1828]\n",
      "[0136/0200] Train:   0%|                                                     | 0/26 [00:00<?, ?it/s]"
     ]
    },
    {
     "name": "stdout",
     "output_type": "stream",
     "text": [
      "                  validation\n",
      " - Yaw          :   0.927915\n",
      " - Pitch        :   0.850152\n",
      " - Roll         :   0.721960\n",
      " - RMS          :   0.837658\n",
      " - 99% Tile     :   6.152500\n",
      "Save output signals into checkpoint/1122-User1-LSTM-win48/sample/0135.npy\n"
     ]
    },
    {
     "name": "stderr",
     "output_type": "stream",
     "text": [
      "[0136/0200] Train: 100%|███████████████████████████████| 26/26 [00:01<00:00, 13.97it/s, loss 0.3416]\n",
      "[0136/0200] Validation: 100%|██████████████████████| 26/26 [00:01<00:00, 21.92it/s, val_loss 2.2181]\n",
      "[0137/0200] Train:   0%|                                                     | 0/26 [00:00<?, ?it/s]"
     ]
    },
    {
     "name": "stdout",
     "output_type": "stream",
     "text": [
      "val_loss is not improved for 1 epochs\n",
      "                  validation\n",
      " - Yaw          :   0.861654\n",
      " - Pitch        :   0.888426\n",
      " - Roll         :   0.717037\n",
      " - RMS          :   0.825811\n",
      " - 99% Tile     :   6.078174\n",
      "Save output signals into checkpoint/1122-User1-LSTM-win48/sample/0136.npy\n"
     ]
    },
    {
     "name": "stderr",
     "output_type": "stream",
     "text": [
      "[0137/0200] Train: 100%|███████████████████████████████| 26/26 [00:01<00:00, 14.43it/s, loss 0.3444]\n",
      "[0137/0200] Validation: 100%|██████████████████████| 26/26 [00:01<00:00, 22.64it/s, val_loss 2.1623]\n",
      "[0138/0200] Train:   0%|                                                     | 0/26 [00:00<?, ?it/s]"
     ]
    },
    {
     "name": "stdout",
     "output_type": "stream",
     "text": [
      "                  validation\n",
      " - Yaw          :   0.863396\n",
      " - Pitch        :   0.871451\n",
      " - Roll         :   0.715830\n",
      " - RMS          :   0.820019\n",
      " - 99% Tile     :   6.131066\n",
      "Save output signals into checkpoint/1122-User1-LSTM-win48/sample/0137.npy\n"
     ]
    },
    {
     "name": "stderr",
     "output_type": "stream",
     "text": [
      "[0138/0200] Train: 100%|███████████████████████████████| 26/26 [00:01<00:00, 14.61it/s, loss 0.3467]\n",
      "[0138/0200] Validation: 100%|██████████████████████| 26/26 [00:01<00:00, 22.30it/s, val_loss 2.1606]\n",
      "[0139/0200] Train:   0%|                                                     | 0/26 [00:00<?, ?it/s]"
     ]
    },
    {
     "name": "stdout",
     "output_type": "stream",
     "text": [
      "                  validation\n",
      " - Yaw          :   0.891130\n",
      " - Pitch        :   0.837874\n",
      " - Roll         :   0.733654\n",
      " - RMS          :   0.823487\n",
      " - 99% Tile     :   6.107553\n",
      "Save output signals into checkpoint/1122-User1-LSTM-win48/sample/0138.npy\n"
     ]
    },
    {
     "name": "stderr",
     "output_type": "stream",
     "text": [
      "[0139/0200] Train: 100%|███████████████████████████████| 26/26 [00:01<00:00, 14.47it/s, loss 0.3404]\n",
      "[0139/0200] Validation: 100%|██████████████████████| 26/26 [00:01<00:00, 22.16it/s, val_loss 2.2004]\n",
      "[0140/0200] Train:   0%|                                                     | 0/26 [00:00<?, ?it/s]"
     ]
    },
    {
     "name": "stdout",
     "output_type": "stream",
     "text": [
      "val_loss is not improved for 1 epochs\n",
      "                  validation\n",
      " - Yaw          :   0.880860\n",
      " - Pitch        :   0.897007\n",
      " - Roll         :   0.724612\n",
      " - RMS          :   0.837775\n",
      " - 99% Tile     :   6.039370\n",
      "Save output signals into checkpoint/1122-User1-LSTM-win48/sample/0139.npy\n"
     ]
    },
    {
     "name": "stderr",
     "output_type": "stream",
     "text": [
      "[0140/0200] Train: 100%|███████████████████████████████| 26/26 [00:01<00:00, 15.04it/s, loss 0.3486]\n",
      "[0140/0200] Validation: 100%|██████████████████████| 26/26 [00:01<00:00, 22.31it/s, val_loss 2.2252]\n",
      "[0141/0200] Train:   0%|                                                     | 0/26 [00:00<?, ?it/s]"
     ]
    },
    {
     "name": "stdout",
     "output_type": "stream",
     "text": [
      "val_loss is not improved for 2 epochs\n",
      "                  validation\n",
      " - Yaw          :   0.833492\n",
      " - Pitch        :   0.906433\n",
      " - Roll         :   0.731241\n",
      " - RMS          :   0.826850\n",
      " - 99% Tile     :   6.080028\n",
      "Save output signals into checkpoint/1122-User1-LSTM-win48/sample/0140.npy\n"
     ]
    },
    {
     "name": "stderr",
     "output_type": "stream",
     "text": [
      "[0141/0200] Train: 100%|███████████████████████████████| 26/26 [00:01<00:00, 14.75it/s, loss 0.3493]\n",
      "[0141/0200] Validation: 100%|██████████████████████| 26/26 [00:01<00:00, 22.55it/s, val_loss 2.2198]\n",
      "[0142/0200] Train:   0%|                                                     | 0/26 [00:00<?, ?it/s]"
     ]
    },
    {
     "name": "stdout",
     "output_type": "stream",
     "text": [
      "val_loss is not improved for 3 epochs\n",
      "                  validation\n",
      " - Yaw          :   0.889234\n",
      " - Pitch        :   0.921463\n",
      " - Roll         :   0.733874\n",
      " - RMS          :   0.852135\n",
      " - 99% Tile     :   6.127960\n",
      "Save output signals into checkpoint/1122-User1-LSTM-win48/sample/0141.npy\n"
     ]
    },
    {
     "name": "stderr",
     "output_type": "stream",
     "text": [
      "[0142/0200] Train: 100%|███████████████████████████████| 26/26 [00:01<00:00, 14.28it/s, loss 0.3436]\n",
      "[0142/0200] Validation: 100%|██████████████████████| 26/26 [00:01<00:00, 23.06it/s, val_loss 2.1960]\n",
      "[0143/0200] Train:   0%|                                                     | 0/26 [00:00<?, ?it/s]"
     ]
    },
    {
     "name": "stdout",
     "output_type": "stream",
     "text": [
      "val_loss is not improved for 4 epochs\n",
      "                  validation\n",
      " - Yaw          :   0.895042\n",
      " - Pitch        :   0.879554\n",
      " - Roll         :   0.748771\n",
      " - RMS          :   0.843677\n",
      " - 99% Tile     :   6.111584\n",
      "Save output signals into checkpoint/1122-User1-LSTM-win48/sample/0142.npy\n"
     ]
    },
    {
     "name": "stderr",
     "output_type": "stream",
     "text": [
      "[0143/0200] Train: 100%|███████████████████████████████| 26/26 [00:01<00:00, 14.51it/s, loss 0.3480]\n",
      "[0143/0200] Validation: 100%|██████████████████████| 26/26 [00:01<00:00, 22.58it/s, val_loss 2.1798]\n",
      "[0144/0200] Train:   0%|                                                     | 0/26 [00:00<?, ?it/s]"
     ]
    },
    {
     "name": "stdout",
     "output_type": "stream",
     "text": [
      "Decaying lr from 0.00025 to 0.000125 because val_loss did not improved for 5 epochs\n",
      "val_loss is not improved for 5 epochs\n",
      "                  validation\n",
      " - Yaw          :   0.898924\n",
      " - Pitch        :   0.871579\n",
      " - Roll         :   0.727926\n",
      " - RMS          :   0.836180\n",
      " - 99% Tile     :   6.097889\n",
      "Save output signals into checkpoint/1122-User1-LSTM-win48/sample/0143.npy\n"
     ]
    },
    {
     "name": "stderr",
     "output_type": "stream",
     "text": [
      "[0144/0200] Train: 100%|███████████████████████████████| 26/26 [00:01<00:00, 14.26it/s, loss 0.3282]\n",
      "[0144/0200] Validation: 100%|██████████████████████| 26/26 [00:01<00:00, 20.66it/s, val_loss 2.1262]\n",
      "[0145/0200] Train:   0%|                                                     | 0/26 [00:00<?, ?it/s]"
     ]
    },
    {
     "name": "stdout",
     "output_type": "stream",
     "text": [
      "                  validation\n",
      " - Yaw          :   0.882081\n",
      " - Pitch        :   0.835481\n",
      " - Roll         :   0.721139\n",
      " - RMS          :   0.815707\n",
      " - 99% Tile     :   6.104466\n",
      "Save output signals into checkpoint/1122-User1-LSTM-win48/sample/0144.npy\n"
     ]
    },
    {
     "name": "stderr",
     "output_type": "stream",
     "text": [
      "[0145/0200] Train: 100%|███████████████████████████████| 26/26 [00:01<00:00, 13.57it/s, loss 0.3201]\n",
      "[0145/0200] Validation: 100%|██████████████████████| 26/26 [00:01<00:00, 21.12it/s, val_loss 2.1430]\n",
      "[0146/0200] Train:   0%|                                                     | 0/26 [00:00<?, ?it/s]"
     ]
    },
    {
     "name": "stdout",
     "output_type": "stream",
     "text": [
      "val_loss is not improved for 1 epochs\n",
      "                  validation\n",
      " - Yaw          :   0.879777\n",
      " - Pitch        :   0.858330\n",
      " - Roll         :   0.719191\n",
      " - RMS          :   0.822187\n",
      " - 99% Tile     :   6.088878\n",
      "Save output signals into checkpoint/1122-User1-LSTM-win48/sample/0145.npy\n"
     ]
    },
    {
     "name": "stderr",
     "output_type": "stream",
     "text": [
      "[0146/0200] Train: 100%|███████████████████████████████| 26/26 [00:01<00:00, 14.27it/s, loss 0.3256]\n",
      "[0146/0200] Validation: 100%|██████████████████████| 26/26 [00:01<00:00, 22.08it/s, val_loss 2.1356]\n",
      "[0147/0200] Train:   0%|                                                     | 0/26 [00:00<?, ?it/s]"
     ]
    },
    {
     "name": "stdout",
     "output_type": "stream",
     "text": [
      "val_loss is not improved for 2 epochs\n",
      "                  validation\n",
      " - Yaw          :   0.889624\n",
      " - Pitch        :   0.846999\n",
      " - Roll         :   0.729897\n",
      " - RMS          :   0.824942\n",
      " - 99% Tile     :   6.058104\n",
      "Save output signals into checkpoint/1122-User1-LSTM-win48/sample/0146.npy\n"
     ]
    },
    {
     "name": "stderr",
     "output_type": "stream",
     "text": [
      "[0147/0200] Train: 100%|███████████████████████████████| 26/26 [00:01<00:00, 13.96it/s, loss 0.3231]\n",
      "[0147/0200] Validation: 100%|██████████████████████| 26/26 [00:01<00:00, 21.86it/s, val_loss 2.1615]\n",
      "[0148/0200] Train:   0%|                                                     | 0/26 [00:00<?, ?it/s]"
     ]
    },
    {
     "name": "stdout",
     "output_type": "stream",
     "text": [
      "val_loss is not improved for 3 epochs\n",
      "                  validation\n",
      " - Yaw          :   0.908803\n",
      " - Pitch        :   0.854249\n",
      " - Roll         :   0.731547\n",
      " - RMS          :   0.834830\n",
      " - 99% Tile     :   6.102863\n",
      "Save output signals into checkpoint/1122-User1-LSTM-win48/sample/0147.npy\n"
     ]
    },
    {
     "name": "stderr",
     "output_type": "stream",
     "text": [
      "[0148/0200] Train: 100%|███████████████████████████████| 26/26 [00:01<00:00, 13.30it/s, loss 0.3148]\n",
      "[0148/0200] Validation: 100%|██████████████████████| 26/26 [00:01<00:00, 17.42it/s, val_loss 2.1602]\n",
      "[0149/0200] Train:   0%|                                                     | 0/26 [00:00<?, ?it/s]"
     ]
    },
    {
     "name": "stdout",
     "output_type": "stream",
     "text": [
      "val_loss is not improved for 4 epochs\n",
      "                  validation\n",
      " - Yaw          :   0.910483\n",
      " - Pitch        :   0.850584\n",
      " - Roll         :   0.723322\n",
      " - RMS          :   0.831799\n",
      " - 99% Tile     :   6.107881\n",
      "Save output signals into checkpoint/1122-User1-LSTM-win48/sample/0148.npy\n"
     ]
    },
    {
     "name": "stderr",
     "output_type": "stream",
     "text": [
      "[0149/0200] Train: 100%|███████████████████████████████| 26/26 [00:02<00:00, 11.59it/s, loss 0.3186]\n",
      "[0149/0200] Validation: 100%|██████████████████████| 26/26 [00:01<00:00, 20.86it/s, val_loss 2.1752]\n",
      "[0150/0200] Train:   0%|                                                     | 0/26 [00:00<?, ?it/s]"
     ]
    },
    {
     "name": "stdout",
     "output_type": "stream",
     "text": [
      "Decaying lr from 0.000125 to 6.25e-05 because val_loss did not improved for 5 epochs\n",
      "val_loss is not improved for 5 epochs\n",
      "                  validation\n",
      " - Yaw          :   0.843085\n",
      " - Pitch        :   0.883091\n",
      " - Roll         :   0.729392\n",
      " - RMS          :   0.821108\n",
      " - 99% Tile     :   6.092914\n",
      "Save output signals into checkpoint/1122-User1-LSTM-win48/sample/0149.npy\n"
     ]
    },
    {
     "name": "stderr",
     "output_type": "stream",
     "text": [
      "[0150/0200] Train: 100%|███████████████████████████████| 26/26 [00:01<00:00, 14.26it/s, loss 0.3173]\n",
      "[0150/0200] Validation: 100%|██████████████████████| 26/26 [00:01<00:00, 21.60it/s, val_loss 2.1373]\n",
      "[0151/0200] Train:   0%|                                                     | 0/26 [00:00<?, ?it/s]"
     ]
    },
    {
     "name": "stdout",
     "output_type": "stream",
     "text": [
      "val_loss is not improved for 6 epochs\n",
      "                  validation\n",
      " - Yaw          :   0.875947\n",
      " - Pitch        :   0.864319\n",
      " - Roll         :   0.723416\n",
      " - RMS          :   0.824148\n",
      " - 99% Tile     :   6.089805\n",
      "Save output signals into checkpoint/1122-User1-LSTM-win48/sample/0150.npy\n"
     ]
    },
    {
     "name": "stderr",
     "output_type": "stream",
     "text": [
      "[0151/0200] Train: 100%|███████████████████████████████| 26/26 [00:01<00:00, 13.98it/s, loss 0.3160]\n",
      "[0151/0200] Validation: 100%|██████████████████████| 26/26 [00:01<00:00, 21.39it/s, val_loss 2.1546]\n",
      "[0152/0200] Train:   0%|                                                     | 0/26 [00:00<?, ?it/s]"
     ]
    },
    {
     "name": "stdout",
     "output_type": "stream",
     "text": [
      "val_loss is not improved for 7 epochs\n",
      "                  validation\n",
      " - Yaw          :   0.881109\n",
      " - Pitch        :   0.870044\n",
      " - Roll         :   0.720540\n",
      " - RMS          :   0.827145\n",
      " - 99% Tile     :   6.111489\n",
      "Save output signals into checkpoint/1122-User1-LSTM-win48/sample/0151.npy\n"
     ]
    },
    {
     "name": "stderr",
     "output_type": "stream",
     "text": [
      "[0152/0200] Train: 100%|███████████████████████████████| 26/26 [00:01<00:00, 13.74it/s, loss 0.3134]\n",
      "[0152/0200] Validation: 100%|██████████████████████| 26/26 [00:01<00:00, 20.67it/s, val_loss 2.1512]\n",
      "[0153/0200] Train:   0%|                                                     | 0/26 [00:00<?, ?it/s]"
     ]
    },
    {
     "name": "stdout",
     "output_type": "stream",
     "text": [
      "val_loss is not improved for 8 epochs\n",
      "                  validation\n",
      " - Yaw          :   0.851575\n",
      " - Pitch        :   0.880572\n",
      " - Roll         :   0.723041\n",
      " - RMS          :   0.821254\n",
      " - 99% Tile     :   6.077283\n",
      "Save output signals into checkpoint/1122-User1-LSTM-win48/sample/0152.npy\n"
     ]
    },
    {
     "name": "stderr",
     "output_type": "stream",
     "text": [
      "[0153/0200] Train: 100%|███████████████████████████████| 26/26 [00:01<00:00, 13.89it/s, loss 0.3119]\n",
      "[0153/0200] Validation: 100%|██████████████████████| 26/26 [00:01<00:00, 21.16it/s, val_loss 2.1738]\n",
      "[0154/0200] Train:   0%|                                                     | 0/26 [00:00<?, ?it/s]"
     ]
    },
    {
     "name": "stdout",
     "output_type": "stream",
     "text": [
      "val_loss is not improved for 9 epochs\n",
      "                  validation\n",
      " - Yaw          :   0.875185\n",
      " - Pitch        :   0.892720\n",
      " - Roll         :   0.728167\n",
      " - RMS          :   0.835290\n",
      " - 99% Tile     :   6.073177\n",
      "Save output signals into checkpoint/1122-User1-LSTM-win48/sample/0153.npy\n"
     ]
    },
    {
     "name": "stderr",
     "output_type": "stream",
     "text": [
      "[0154/0200] Train: 100%|███████████████████████████████| 26/26 [00:01<00:00, 13.60it/s, loss 0.3084]\n",
      "[0154/0200] Validation: 100%|██████████████████████| 26/26 [00:01<00:00, 21.47it/s, val_loss 2.1492]"
     ]
    },
    {
     "name": "stdout",
     "output_type": "stream",
     "text": [
      "Decaying lr from 6.25e-05 to 3.125e-05 because val_loss did not improved for 5 epochs\n",
      "val_loss is not improved for 10 epochs\n",
      "Stop training because val_loss did not improved for 10 epochs\n",
      "                  validation\n",
      " - Yaw          :   0.870978\n",
      " - Pitch        :   0.879057\n",
      " - Roll         :   0.720188\n",
      " - RMS          :   0.826643\n",
      " - 99% Tile     :   6.066216\n",
      "Save output signals into checkpoint/1122-User1-LSTM-win48/sample/0154.npy\n"
     ]
    },
    {
     "name": "stderr",
     "output_type": "stream",
     "text": [
      "\n"
     ]
    }
   ],
   "source": [
    "trainer.fit(ds_train, ds_test, start_epoch=101, num_epochs=200, batch_size=256, shuffle=True, pin_memory=True)"
   ]
  },
  {
   "cell_type": "code",
   "execution_count": null,
   "metadata": {},
   "outputs": [],
   "source": []
  }
 ],
 "metadata": {
  "kernelspec": {
   "display_name": "torch",
   "language": "python",
   "name": "torch"
  },
  "language_info": {
   "codemirror_mode": {
    "name": "ipython",
    "version": 3
   },
   "file_extension": ".py",
   "mimetype": "text/x-python",
   "name": "python",
   "nbconvert_exporter": "python",
   "pygments_lexer": "ipython3",
   "version": "3.7.9"
  }
 },
 "nbformat": 4,
 "nbformat_minor": 4
}
