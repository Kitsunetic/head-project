{
 "cells": [
  {
   "cell_type": "markdown",
   "metadata": {},
   "source": [
    "# 학습 결과\n",
    "\n",
    "user1의 scene 1~3만 사용해서 학습\n",
    "\n",
    "scene보다 user가 많기 때문에 데이터의 양이 확연히 줄어듬에도 불구하고 성능이 괜찮음.  \n",
    "적은 데이터 특화됐기 때문인지는 모르겠다.\n",
    "\n",
    "나머지 scene에 대해서도 잘 학습을 하면서 user에 대해서도 특화된다면 성능을 상당히 끌어올릴 수 있을 것으로 기대됨.  \n",
    "--> curriculum learning"
   ]
  },
  {
   "cell_type": "code",
   "execution_count": 1,
   "metadata": {},
   "outputs": [],
   "source": [
    "from multiprocessing import cpu_count\n",
    "from pathlib import Path\n",
    "from typing import List, Union, AnyStr\n",
    "from math import pi\n",
    "import pickle\n",
    "\n",
    "import numpy as np\n",
    "import torch\n",
    "import matplotlib.pyplot as plt\n",
    "import torch.nn as nn\n",
    "from sklearn import model_selection\n",
    "from tqdm import tqdm\n",
    "import torch_optimizer\n",
    "from torch.utils.data import Dataset\n",
    "import pandas as pd\n",
    "import random\n",
    "\n",
    "import torch_burn as tb\n",
    "import utils"
   ]
  },
  {
   "cell_type": "code",
   "execution_count": 2,
   "metadata": {},
   "outputs": [],
   "source": [
    "tb.seed_everything(0)"
   ]
  },
  {
   "cell_type": "code",
   "execution_count": 3,
   "metadata": {},
   "outputs": [],
   "source": [
    "EXPERIMENT_NAME = '1124-Scene3-CLSTMC-win120'\n",
    "CHECKPOINT_DIR = Path('checkpoint', EXPERIMENT_NAME)\n",
    "CHECKPOINT_DIR.mkdir(parents=True, exist_ok=True)\n",
    "\n",
    "DATA_DIR = Path('data/1116')\n",
    "TRAIN_FILES = sorted(list(DATA_DIR.glob('*scene3_0.csv')))\n",
    "TEST_FILES = sorted(list(DATA_DIR.glob('*scene3_1.csv')))"
   ]
  },
  {
   "cell_type": "markdown",
   "metadata": {},
   "source": [
    "# 데이터셋 생성\n",
    "\n",
    "scene1에 대해서 모든 user의 데이터를 하나로 합친다."
   ]
  },
  {
   "cell_type": "code",
   "execution_count": 4,
   "metadata": {},
   "outputs": [],
   "source": [
    "WINDOW_SIZE = 120"
   ]
  },
  {
   "cell_type": "code",
   "execution_count": 5,
   "metadata": {},
   "outputs": [],
   "source": [
    "class CSVSequentialDataset(Dataset):\n",
    "    def __init__(self, csvfile, window_size, stride):\n",
    "        super(CSVSequentialDataset, self).__init__()\n",
    "\n",
    "        self.xcols = ['input_orientation_yaw', 'input_orientation_pitch', 'input_orientation_roll',\n",
    "                      'acceleration_x', 'acceleration_y', 'acceleration_z']\n",
    "        self.ycols = ['input_orientation_yaw', 'input_orientation_pitch', 'input_orientation_roll']\n",
    "\n",
    "        self.csv = pd.read_csv(csvfile)\n",
    "        self.window_size = window_size\n",
    "        \n",
    "        self.indexes = []\n",
    "        i = 0\n",
    "        while i <= len(self.csv) - window_size * 2:\n",
    "            self.indexes.append((i, i + window_size))\n",
    "            i += stride\n",
    "\n",
    "    def __len__(self):\n",
    "        return len(self.indexes)\n",
    "\n",
    "    def __getitem__(self, idx):\n",
    "        sx, tx = self.indexes[idx]\n",
    "        sy, ty = sx + 18, tx + 18\n",
    "        x = self.csv.iloc[sx:tx][self.xcols].to_numpy()\n",
    "        y = self.csv.iloc[sy:ty][self.ycols].to_numpy()\n",
    "\n",
    "        x = torch.tensor(x, dtype=torch.float32) # 300, 6\n",
    "        y = torch.tensor(y, dtype=torch.float32) # 300, 3\n",
    "\n",
    "        return x, y"
   ]
  },
  {
   "cell_type": "code",
   "execution_count": 6,
   "metadata": {},
   "outputs": [],
   "source": [
    "ds_train = [CSVSequentialDataset(f, window_size=WINDOW_SIZE, stride=5) for f in TRAIN_FILES]\n",
    "ds_train = tb.data.ChainDataset(*ds_train)\n",
    "ds_test = [CSVSequentialDataset(f, window_size=WINDOW_SIZE, stride=5) for f in TEST_FILES]\n",
    "ds_test = tb.data.ChainDataset(*ds_test)"
   ]
  },
  {
   "cell_type": "code",
   "execution_count": 7,
   "metadata": {},
   "outputs": [
    {
     "data": {
      "text/plain": [
       "(11071, 10671)"
      ]
     },
     "execution_count": 7,
     "metadata": {},
     "output_type": "execute_result"
    }
   ],
   "source": [
    "len(ds_train), len(ds_test)"
   ]
  },
  {
   "cell_type": "code",
   "execution_count": 8,
   "metadata": {},
   "outputs": [
    {
     "data": {
      "text/plain": [
       "(torch.Size([120, 6]), torch.Size([120, 3]))"
      ]
     },
     "execution_count": 8,
     "metadata": {},
     "output_type": "execute_result"
    }
   ],
   "source": [
    "ds_train[0][0].shape, ds_train[0][1].shape"
   ]
  },
  {
   "cell_type": "code",
   "execution_count": 9,
   "metadata": {},
   "outputs": [],
   "source": [
    "x, y = ds_train[0]"
   ]
  },
  {
   "cell_type": "code",
   "execution_count": 10,
   "metadata": {},
   "outputs": [
    {
     "data": {
      "text/plain": [
       "(torch.Size([120, 6]), torch.Size([120, 3]))"
      ]
     },
     "execution_count": 10,
     "metadata": {},
     "output_type": "execute_result"
    }
   ],
   "source": [
    "x.shape, y.shape"
   ]
  },
  {
   "cell_type": "code",
   "execution_count": 11,
   "metadata": {},
   "outputs": [
    {
     "data": {
      "text/plain": [
       "[<matplotlib.lines.Line2D at 0x7fbe99afc610>]"
      ]
     },
     "execution_count": 11,
     "metadata": {},
     "output_type": "execute_result"
    },
    {
     "data": {
      "image/png": "[encoded data removed]",
      "text/plain": [
       "<Figure size 432x288 with 1 Axes>"
      ]
     },
     "metadata": {
      "needs_background": "light"
     },
     "output_type": "display_data"
    }
   ],
   "source": [
    "plt.plot(x[:, 2])"
   ]
  },
  {
   "cell_type": "code",
   "execution_count": 12,
   "metadata": {},
   "outputs": [
    {
     "data": {
      "text/plain": [
       "[<matplotlib.lines.Line2D at 0x7fbe999fdd90>]"
      ]
     },
     "execution_count": 12,
     "metadata": {},
     "output_type": "execute_result"
    },
    {
     "data": {
      "image/png": "[encoded data removed]",
      "text/plain": [
       "<Figure size 432x288 with 1 Axes>"
      ]
     },
     "metadata": {
      "needs_background": "light"
     },
     "output_type": "display_data"
    }
   ],
   "source": [
    "plt.plot(y[:, 2])"
   ]
  },
  {
   "cell_type": "markdown",
   "metadata": {},
   "source": [
    "# 모델 생성"
   ]
  },
  {
   "cell_type": "code",
   "execution_count": 13,
   "metadata": {},
   "outputs": [],
   "source": [
    "class ResBlock1d(nn.Module):\n",
    "    def __init__(self, inchannels, channels, kernel_size):\n",
    "        super(ResBlock1d, self).__init__()\n",
    "\n",
    "        self.conv1 = nn.Sequential(\n",
    "            nn.Conv1d(inchannels, channels, kernel_size, padding=kernel_size // 2),\n",
    "            nn.BatchNorm1d(channels),\n",
    "            nn.LeakyReLU(),\n",
    "            nn.Conv1d(channels, channels, kernel_size, padding=kernel_size // 2),\n",
    "            nn.BatchNorm1d(channels)\n",
    "        )\n",
    "        self.conv2 = nn.Sequential(\n",
    "            nn.Conv1d(inchannels, channels, 1),\n",
    "            nn.BatchNorm1d(channels)\n",
    "        )\n",
    "        self.act = nn.LeakyReLU()\n",
    "\n",
    "    def forward(self, x):\n",
    "        identity = x\n",
    "\n",
    "        x = self.conv1(x)\n",
    "        identity = self.conv2(identity)\n",
    "        x += identity\n",
    "        x = self.act(x)\n",
    "\n",
    "        return x"
   ]
  },
  {
   "cell_type": "code",
   "execution_count": 14,
   "metadata": {},
   "outputs": [],
   "source": [
    "class CLSTMC(nn.Module):\n",
    "    def __init__(self):\n",
    "        super(CLSTMC, self).__init__()\n",
    "\n",
    "        self.conv_in = nn.Sequential(\n",
    "            nn.Conv1d(6, 24, 3, padding=1, groups=2),\n",
    "            nn.BatchNorm1d(24),\n",
    "            nn.LeakyReLU(),\n",
    "            nn.Conv1d(24, 48, 3, padding=1, groups=2),\n",
    "            nn.BatchNorm1d(48),\n",
    "            nn.LeakyReLU(),\n",
    "            nn.Conv1d(48, 64, 3, padding=1),\n",
    "            nn.BatchNorm1d(64),\n",
    "        )\n",
    "\n",
    "        self.rnn = nn.LSTM(input_size=64,\n",
    "                           hidden_size=64,\n",
    "                           num_layers=6,\n",
    "                           batch_first=True,\n",
    "                           dropout=0,\n",
    "                           bidirectional=True)\n",
    "\n",
    "        self.conv_out = nn.Sequential(\n",
    "            ResBlock1d(128, 64, 3),\n",
    "            nn.Conv1d(64, 3, 1)\n",
    "        )\n",
    "\n",
    "    def forward(self, x):\n",
    "        x = x.transpose(1, 2)  # B, S, 6 --> B, 6, S\n",
    "        x = self.conv_in(x)  # B, 6, S\n",
    "        x = x.transpose(1, 2)  # B, S, 6\n",
    "\n",
    "        outs, (hiddens, cells) = self.rnn(x)  # B, S, 128\n",
    "        x = outs.transpose(1, 2)  # B, 128, S\n",
    "        x = self.conv_out(x) # (B, 3, S)\n",
    "        x = x.transpose(1, 2)\n",
    "\n",
    "        return x"
   ]
  },
  {
   "cell_type": "code",
   "execution_count": 15,
   "metadata": {},
   "outputs": [],
   "source": [
    "model = CLSTMC().cuda()"
   ]
  },
  {
   "cell_type": "code",
   "execution_count": 16,
   "metadata": {},
   "outputs": [],
   "source": [
    "criterion = nn.MSELoss().cuda()\n",
    "optimizer = torch_optimizer.RAdam(model.parameters())"
   ]
  },
  {
   "cell_type": "code",
   "execution_count": 17,
   "metadata": {},
   "outputs": [],
   "source": [
    "class HPMetric(tb.metrics.InvisibleMetric):\n",
    "    def __init__(self, name: str):\n",
    "        super(HPMetric, self).__init__(name)\n",
    "\n",
    "        self.diff = []\n",
    "\n",
    "    def on_valid_epoch_end(self, epoch: int, logs: dict):\n",
    "        # RMS, 99% tile 출력\n",
    "        yaw_v, pitch_v, roll_v, rms_v, tile99_v = self._calc_values(self.diff)\n",
    "\n",
    "        print(f'                  validation')\n",
    "        print(f' - Yaw          : {yaw_v:10f}')\n",
    "        print(f' - Pitch        : {pitch_v:10f}')\n",
    "        print(f' - Roll         : {roll_v:10f}')\n",
    "        print(f' - RMS          : {rms_v:10f}')\n",
    "        print(f' - 99% Tile     : {tile99_v:10f}')\n",
    "\n",
    "        self.diff.clear()\n",
    "\n",
    "    def get_value(self, outputs: torch.Tensor, targets: torch.Tensor, is_train: bool):\n",
    "        if not is_train:\n",
    "            self.diff.append((outputs - targets).mean(1).detach().cpu())  # (B, S, 3) --> (B, 3)\n",
    "\n",
    "    @staticmethod\n",
    "    def _calc_values(diff):\n",
    "        diff = torch.cat(diff).abs_()  # (D, 3)\n",
    "        rms = (diff.square().sum(1) / 3).sqrt()\n",
    "        tile = rms.flatten().numpy()\n",
    "        tile99 = np.percentile(tile, 99)\n",
    "        \n",
    "        mrms = rms.mean()\n",
    "        \n",
    "        # diff = radian2degree(diff)\n",
    "        #tile = diff.flatten().numpy()\n",
    "        #tile99 = np.percentile(tile, 99)\n",
    "\n",
    "        mdiff = diff.mean(dim=0)\n",
    "        #rms = (mdiff.square().sum() / 3).sqrt()\n",
    "\n",
    "        return mdiff[0].item(), mdiff[1].item(), mdiff[2].item(), mrms.item(), tile99"
   ]
  },
  {
   "cell_type": "code",
   "execution_count": 18,
   "metadata": {},
   "outputs": [],
   "source": [
    "metrics = [tb.metrics.ModuleMetric(criterion, 'loss'),\n",
    "           HPMetric('hp_metric')]"
   ]
  },
  {
   "cell_type": "code",
   "execution_count": 19,
   "metadata": {},
   "outputs": [],
   "source": [
    "callbacks = [tb.callbacks.EarlyStopping(metrics[0]),\n",
    "             tb.callbacks.LRDecaying(optimizer, metrics[0], patience=3),\n",
    "             tb.callbacks.SaveCheckpoint({'model': model}, metrics[0], CHECKPOINT_DIR, 'best-ckpt.pth')]"
   ]
  },
  {
   "cell_type": "code",
   "execution_count": 20,
   "metadata": {},
   "outputs": [],
   "source": [
    "trainer = tb.Trainer(model, optimizer, metrics, callbacks, ncols=100)"
   ]
  },
  {
   "cell_type": "code",
   "execution_count": 21,
   "metadata": {},
   "outputs": [
    {
     "name": "stderr",
     "output_type": "stream",
     "text": [
      "[0001/0200] Train: 100%|█████████████████████████████| 44/44 [00:03<00:00, 11.57it/s, loss 247.8084]\n",
      "[0001/0200] Validation: 100%|████████████████████| 42/42 [00:01<00:00, 21.31it/s, val_loss 228.5000]\n",
      "[0002/0200] Train:   0%|                                                     | 0/44 [00:00<?, ?it/s]"
     ]
    },
    {
     "name": "stdout",
     "output_type": "stream",
     "text": [
      "Save checkpoint: val_loss decreased from inf to 228.50000853765587\n",
      "                  validation\n",
      " - Yaw          :  17.926659\n",
      " - Pitch        :  10.015243\n",
      " - Roll         :   2.376736\n",
      " - RMS          :  12.846241\n",
      " - 99% Tile     :  26.489463\n"
     ]
    },
    {
     "name": "stderr",
     "output_type": "stream",
     "text": [
      "[0002/0200] Train: 100%|█████████████████████████████| 44/44 [00:03<00:00, 11.63it/s, loss 206.8999]\n",
      "[0002/0200] Validation: 100%|████████████████████| 42/42 [00:01<00:00, 21.12it/s, val_loss 165.7096]\n",
      "[0003/0200] Train:   0%|                                                     | 0/44 [00:00<?, ?it/s]"
     ]
    },
    {
     "name": "stdout",
     "output_type": "stream",
     "text": [
      "Save checkpoint: val_loss decreased from 228.50000853765587 to 165.70958709716797\n",
      "                  validation\n",
      " - Yaw          :  15.332274\n",
      " - Pitch        :   8.665665\n",
      " - Roll         :   2.151417\n",
      " - RMS          :  11.067415\n",
      " - 99% Tile     :  21.810583\n"
     ]
    },
    {
     "name": "stderr",
     "output_type": "stream",
     "text": [
      "[0003/0200] Train: 100%|█████████████████████████████| 44/44 [00:03<00:00, 11.63it/s, loss 185.8054]\n",
      "[0003/0200] Validation: 100%|████████████████████| 42/42 [00:01<00:00, 21.78it/s, val_loss 147.1756]\n",
      "[0004/0200] Train:   0%|                                                     | 0/44 [00:00<?, ?it/s]"
     ]
    },
    {
     "name": "stdout",
     "output_type": "stream",
     "text": [
      "Save checkpoint: val_loss decreased from 165.70958709716797 to 147.17557670956566\n",
      "                  validation\n",
      " - Yaw          :  14.518229\n",
      " - Pitch        :   8.065058\n",
      " - Roll         :   2.055353\n",
      " - RMS          :  10.464715\n",
      " - 99% Tile     :  20.218567\n"
     ]
    },
    {
     "name": "stderr",
     "output_type": "stream",
     "text": [
      "[0004/0200] Train: 100%|█████████████████████████████| 44/44 [00:03<00:00, 11.54it/s, loss 167.6744]\n",
      "[0004/0200] Validation: 100%|████████████████████| 42/42 [00:01<00:00, 21.27it/s, val_loss 131.2738]\n",
      "[0005/0200] Train:   0%|                                                     | 0/44 [00:00<?, ?it/s]"
     ]
    },
    {
     "name": "stdout",
     "output_type": "stream",
     "text": [
      "Save checkpoint: val_loss decreased from 147.17557670956566 to 131.27382133120585\n",
      "                  validation\n",
      " - Yaw          :  13.688408\n",
      " - Pitch        :   7.653961\n",
      " - Roll         :   2.076565\n",
      " - RMS          :   9.936545\n",
      " - 99% Tile     :  18.782461\n"
     ]
    },
    {
     "name": "stderr",
     "output_type": "stream",
     "text": [
      "[0005/0200] Train: 100%|█████████████████████████████| 44/44 [00:03<00:00, 11.73it/s, loss 147.6078]\n",
      "[0005/0200] Validation: 100%|████████████████████| 42/42 [00:01<00:00, 22.13it/s, val_loss 115.6361]\n",
      "[0006/0200] Train:   0%|                                                     | 0/44 [00:00<?, ?it/s]"
     ]
    },
    {
     "name": "stdout",
     "output_type": "stream",
     "text": [
      "Save checkpoint: val_loss decreased from 131.27382133120585 to 115.6361320132301\n",
      "                  validation\n",
      " - Yaw          :  12.769813\n",
      " - Pitch        :   7.237369\n",
      " - Roll         :   2.051905\n",
      " - RMS          :   9.343727\n",
      " - 99% Tile     :  17.546098\n"
     ]
    },
    {
     "name": "stderr",
     "output_type": "stream",
     "text": [
      "[0006/0200] Train: 100%|█████████████████████████████| 44/44 [00:03<00:00, 11.60it/s, loss 127.6937]\n",
      "[0006/0200] Validation: 100%|█████████████████████| 42/42 [00:01<00:00, 21.00it/s, val_loss 96.7679]\n",
      "[0007/0200] Train:   0%|                                                     | 0/44 [00:00<?, ?it/s]"
     ]
    },
    {
     "name": "stdout",
     "output_type": "stream",
     "text": [
      "Save checkpoint: val_loss decreased from 115.6361320132301 to 96.76786159333729\n",
      "                  validation\n",
      " - Yaw          :  11.450620\n",
      " - Pitch        :   6.640149\n",
      " - Roll         :   2.016035\n",
      " - RMS          :   8.495048\n",
      " - 99% Tile     :  16.193470\n"
     ]
    },
    {
     "name": "stderr",
     "output_type": "stream",
     "text": [
      "[0007/0200] Train: 100%|█████████████████████████████| 44/44 [00:03<00:00, 12.00it/s, loss 108.6031]\n",
      "[0007/0200] Validation: 100%|█████████████████████| 42/42 [00:01<00:00, 21.45it/s, val_loss 79.5080]\n",
      "[0008/0200] Train:   0%|                                                     | 0/44 [00:00<?, ?it/s]"
     ]
    },
    {
     "name": "stdout",
     "output_type": "stream",
     "text": [
      "Save checkpoint: val_loss decreased from 96.76786159333729 to 79.50802385239373\n",
      "                  validation\n",
      " - Yaw          :  10.195645\n",
      " - Pitch        :   6.048751\n",
      " - Roll         :   1.945686\n",
      " - RMS          :   7.696148\n",
      " - 99% Tile     :  14.847071\n"
     ]
    },
    {
     "name": "stderr",
     "output_type": "stream",
     "text": [
      "[0008/0200] Train: 100%|██████████████████████████████| 44/44 [00:03<00:00, 11.59it/s, loss 89.9898]\n",
      "[0008/0200] Validation: 100%|█████████████████████| 42/42 [00:01<00:00, 21.21it/s, val_loss 58.8976]\n",
      "[0009/0200] Train:   0%|                                                     | 0/44 [00:00<?, ?it/s]"
     ]
    },
    {
     "name": "stdout",
     "output_type": "stream",
     "text": [
      "Save checkpoint: val_loss decreased from 79.50802385239373 to 58.89763745807466\n",
      "                  validation\n",
      " - Yaw          :   8.218656\n",
      " - Pitch        :   5.241995\n",
      " - Roll         :   1.855505\n",
      " - RMS          :   6.477643\n",
      " - 99% Tile     :  13.817162\n"
     ]
    },
    {
     "name": "stderr",
     "output_type": "stream",
     "text": [
      "[0009/0200] Train: 100%|██████████████████████████████| 44/44 [00:03<00:00, 11.57it/s, loss 73.3294]\n",
      "[0009/0200] Validation: 100%|█████████████████████| 42/42 [00:01<00:00, 21.75it/s, val_loss 53.5138]\n",
      "[0010/0200] Train:   0%|                                                     | 0/44 [00:00<?, ?it/s]"
     ]
    },
    {
     "name": "stdout",
     "output_type": "stream",
     "text": [
      "Save checkpoint: val_loss decreased from 58.89763745807466 to 53.51375952221098\n",
      "                  validation\n",
      " - Yaw          :   8.040444\n",
      " - Pitch        :   5.037437\n",
      " - Roll         :   1.804152\n",
      " - RMS          :   6.254033\n",
      " - 99% Tile     :  12.471625\n"
     ]
    },
    {
     "name": "stderr",
     "output_type": "stream",
     "text": [
      "[0010/0200] Train: 100%|██████████████████████████████| 44/44 [00:03<00:00, 11.57it/s, loss 57.4246]\n",
      "[0010/0200] Validation: 100%|█████████████████████| 42/42 [00:01<00:00, 21.41it/s, val_loss 40.4430]\n",
      "[0011/0200] Train:   0%|                                                     | 0/44 [00:00<?, ?it/s]"
     ]
    },
    {
     "name": "stdout",
     "output_type": "stream",
     "text": [
      "Save checkpoint: val_loss decreased from 53.51375952221098 to 40.44303049360003\n",
      "                  validation\n",
      " - Yaw          :   6.651686\n",
      " - Pitch        :   4.276628\n",
      " - Roll         :   1.669069\n",
      " - RMS          :   5.296397\n",
      " - 99% Tile     :  12.346788\n"
     ]
    },
    {
     "name": "stderr",
     "output_type": "stream",
     "text": [
      "[0011/0200] Train: 100%|██████████████████████████████| 44/44 [00:03<00:00, 11.59it/s, loss 43.5807]\n",
      "[0011/0200] Validation: 100%|█████████████████████| 42/42 [00:01<00:00, 21.17it/s, val_loss 34.9809]\n",
      "[0012/0200] Train:   0%|                                                     | 0/44 [00:00<?, ?it/s]"
     ]
    },
    {
     "name": "stdout",
     "output_type": "stream",
     "text": [
      "Save checkpoint: val_loss decreased from 40.44303049360003 to 34.98085878008888\n",
      "                  validation\n",
      " - Yaw          :   6.293433\n",
      " - Pitch        :   3.949524\n",
      " - Roll         :   1.575865\n",
      " - RMS          :   4.990197\n",
      " - 99% Tile     :  10.149118\n"
     ]
    },
    {
     "name": "stderr",
     "output_type": "stream",
     "text": [
      "[0012/0200] Train: 100%|██████████████████████████████| 44/44 [00:03<00:00, 11.63it/s, loss 32.4260]\n",
      "[0012/0200] Validation: 100%|█████████████████████| 42/42 [00:01<00:00, 21.36it/s, val_loss 22.5977]\n",
      "[0013/0200] Train:   0%|                                                     | 0/44 [00:00<?, ?it/s]"
     ]
    },
    {
     "name": "stdout",
     "output_type": "stream",
     "text": [
      "Save checkpoint: val_loss decreased from 34.98085878008888 to 22.597656749543688\n",
      "                  validation\n",
      " - Yaw          :   4.712159\n",
      " - Pitch        :   3.331289\n",
      " - Roll         :   1.410649\n",
      " - RMS          :   3.953480\n",
      " - 99% Tile     :   8.060875\n"
     ]
    },
    {
     "name": "stderr",
     "output_type": "stream",
     "text": [
      "[0013/0200] Train: 100%|██████████████████████████████| 44/44 [00:03<00:00, 11.95it/s, loss 22.5236]\n",
      "[0013/0200] Validation: 100%|█████████████████████| 42/42 [00:01<00:00, 21.46it/s, val_loss 19.3980]\n",
      "[0014/0200] Train:   0%|                                                     | 0/44 [00:00<?, ?it/s]"
     ]
    },
    {
     "name": "stdout",
     "output_type": "stream",
     "text": [
      "Save checkpoint: val_loss decreased from 22.597656749543688 to 19.39797634170169\n",
      "                  validation\n",
      " - Yaw          :   4.646523\n",
      " - Pitch        :   2.502844\n",
      " - Roll         :   1.226772\n",
      " - RMS          :   3.551693\n",
      " - 99% Tile     :   7.809435\n"
     ]
    },
    {
     "name": "stderr",
     "output_type": "stream",
     "text": [
      "[0014/0200] Train: 100%|██████████████████████████████| 44/44 [00:03<00:00, 11.92it/s, loss 15.8786]\n",
      "[0014/0200] Validation: 100%|██████████████████████| 42/42 [00:01<00:00, 22.34it/s, val_loss 9.1795]\n",
      "[0015/0200] Train:   0%|                                                     | 0/44 [00:00<?, ?it/s]"
     ]
    },
    {
     "name": "stdout",
     "output_type": "stream",
     "text": [
      "Save checkpoint: val_loss decreased from 19.39797634170169 to 9.179538573537554\n",
      "                  validation\n",
      " - Yaw          :   2.577679\n",
      " - Pitch        :   2.095920\n",
      " - Roll         :   1.054314\n",
      " - RMS          :   2.308965\n",
      " - 99% Tile     :   5.847565\n"
     ]
    },
    {
     "name": "stderr",
     "output_type": "stream",
     "text": [
      "[0015/0200] Train: 100%|██████████████████████████████| 44/44 [00:03<00:00, 11.67it/s, loss 10.6724]\n",
      "[0015/0200] Validation: 100%|██████████████████████| 42/42 [00:01<00:00, 21.02it/s, val_loss 9.7495]\n",
      "[0016/0200] Train:   0%|                                                     | 0/44 [00:00<?, ?it/s]"
     ]
    },
    {
     "name": "stdout",
     "output_type": "stream",
     "text": [
      "val_loss is not improved for 1 epochs\n",
      "                  validation\n",
      " - Yaw          :   3.235785\n",
      " - Pitch        :   1.763732\n",
      " - Roll         :   0.875558\n",
      " - RMS          :   2.481508\n",
      " - 99% Tile     :   5.240201\n"
     ]
    },
    {
     "name": "stderr",
     "output_type": "stream",
     "text": [
      "[0016/0200] Train: 100%|███████████████████████████████| 44/44 [00:03<00:00, 11.46it/s, loss 7.4590]\n",
      "[0016/0200] Validation: 100%|██████████████████████| 42/42 [00:02<00:00, 20.99it/s, val_loss 5.1684]\n",
      "[0017/0200] Train:   0%|                                                     | 0/44 [00:00<?, ?it/s]"
     ]
    },
    {
     "name": "stdout",
     "output_type": "stream",
     "text": [
      "Save checkpoint: val_loss decreased from 9.179538573537554 to 5.168369974408832\n",
      "                  validation\n",
      " - Yaw          :   1.410815\n",
      " - Pitch        :   1.892520\n",
      " - Roll         :   0.750961\n",
      " - RMS          :   1.656278\n",
      " - 99% Tile     :   3.877732\n"
     ]
    },
    {
     "name": "stderr",
     "output_type": "stream",
     "text": [
      "[0017/0200] Train: 100%|███████████████████████████████| 44/44 [00:03<00:00, 11.86it/s, loss 5.6457]\n",
      "[0017/0200] Validation: 100%|██████████████████████| 42/42 [00:01<00:00, 21.84it/s, val_loss 5.1563]\n",
      "[0018/0200] Train:   0%|                                                     | 0/44 [00:00<?, ?it/s]"
     ]
    },
    {
     "name": "stdout",
     "output_type": "stream",
     "text": [
      "Save checkpoint: val_loss decreased from 5.168369974408832 to 5.156272760459355\n",
      "                  validation\n",
      " - Yaw          :   2.215605\n",
      " - Pitch        :   1.153928\n",
      " - Roll         :   0.851700\n",
      " - RMS          :   1.692829\n",
      " - 99% Tile     :   3.962271\n"
     ]
    },
    {
     "name": "stderr",
     "output_type": "stream",
     "text": [
      "[0018/0200] Train: 100%|███████████████████████████████| 44/44 [00:03<00:00, 11.51it/s, loss 4.4494]\n",
      "[0018/0200] Validation: 100%|██████████████████████| 42/42 [00:01<00:00, 21.57it/s, val_loss 5.4732]\n",
      "[0019/0200] Train:   0%|                                                     | 0/44 [00:00<?, ?it/s]"
     ]
    },
    {
     "name": "stdout",
     "output_type": "stream",
     "text": [
      "val_loss is not improved for 1 epochs\n",
      "                  validation\n",
      " - Yaw          :   1.989848\n",
      " - Pitch        :   1.417715\n",
      " - Roll         :   0.495719\n",
      " - RMS          :   1.606084\n",
      " - 99% Tile     :   4.568130\n"
     ]
    },
    {
     "name": "stderr",
     "output_type": "stream",
     "text": [
      "[0019/0200] Train: 100%|███████████████████████████████| 44/44 [00:03<00:00, 11.70it/s, loss 3.9395]\n",
      "[0019/0200] Validation: 100%|██████████████████████| 42/42 [00:01<00:00, 21.27it/s, val_loss 3.2562]\n",
      "[0020/0200] Train:   0%|                                                     | 0/44 [00:00<?, ?it/s]"
     ]
    },
    {
     "name": "stdout",
     "output_type": "stream",
     "text": [
      "Save checkpoint: val_loss decreased from 5.156272760459355 to 3.2562222381432844\n",
      "                  validation\n",
      " - Yaw          :   1.282272\n",
      " - Pitch        :   1.152230\n",
      " - Roll         :   0.511208\n",
      " - RMS          :   1.146400\n",
      " - 99% Tile     :   3.162878\n"
     ]
    },
    {
     "name": "stderr",
     "output_type": "stream",
     "text": [
      "[0020/0200] Train: 100%|███████████████████████████████| 44/44 [00:03<00:00, 11.70it/s, loss 3.5012]\n",
      "[0020/0200] Validation: 100%|██████████████████████| 42/42 [00:01<00:00, 21.97it/s, val_loss 4.1407]\n",
      "[0021/0200] Train:   0%|                                                     | 0/44 [00:00<?, ?it/s]"
     ]
    },
    {
     "name": "stdout",
     "output_type": "stream",
     "text": [
      "val_loss is not improved for 1 epochs\n",
      "                  validation\n",
      " - Yaw          :   1.458392\n",
      " - Pitch        :   1.588181\n",
      " - Roll         :   0.507434\n",
      " - RMS          :   1.494626\n",
      " - 99% Tile     :   3.037603\n"
     ]
    },
    {
     "name": "stderr",
     "output_type": "stream",
     "text": [
      "[0021/0200] Train: 100%|███████████████████████████████| 44/44 [00:03<00:00, 11.81it/s, loss 3.4753]\n",
      "[0021/0200] Validation: 100%|██████████████████████| 42/42 [00:01<00:00, 21.06it/s, val_loss 1.9232]\n",
      "[0022/0200] Train:   0%|                                                     | 0/44 [00:00<?, ?it/s]"
     ]
    },
    {
     "name": "stdout",
     "output_type": "stream",
     "text": [
      "Save checkpoint: val_loss decreased from 3.2562222381432844 to 1.9231813223589034\n",
      "                  validation\n",
      " - Yaw          :   0.683663\n",
      " - Pitch        :   0.785767\n",
      " - Roll         :   0.492613\n",
      " - RMS          :   0.769289\n",
      " - 99% Tile     :   2.298720\n"
     ]
    },
    {
     "name": "stderr",
     "output_type": "stream",
     "text": [
      "[0022/0200] Train: 100%|███████████████████████████████| 44/44 [00:03<00:00, 11.82it/s, loss 2.7541]\n",
      "[0022/0200] Validation: 100%|██████████████████████| 42/42 [00:01<00:00, 21.14it/s, val_loss 2.1802]\n",
      "[0023/0200] Train:   0%|                                                     | 0/44 [00:00<?, ?it/s]"
     ]
    },
    {
     "name": "stdout",
     "output_type": "stream",
     "text": [
      "val_loss is not improved for 1 epochs\n",
      "                  validation\n",
      " - Yaw          :   1.159485\n",
      " - Pitch        :   0.760073\n",
      " - Roll         :   0.417117\n",
      " - RMS          :   0.924606\n",
      " - 99% Tile     :   2.858362\n"
     ]
    },
    {
     "name": "stderr",
     "output_type": "stream",
     "text": [
      "[0023/0200] Train: 100%|███████████████████████████████| 44/44 [00:03<00:00, 11.79it/s, loss 2.9058]\n",
      "[0023/0200] Validation: 100%|██████████████████████| 42/42 [00:01<00:00, 22.04it/s, val_loss 1.9963]\n",
      "[0024/0200] Train:   0%|                                                     | 0/44 [00:00<?, ?it/s]"
     ]
    },
    {
     "name": "stdout",
     "output_type": "stream",
     "text": [
      "val_loss is not improved for 2 epochs\n",
      "                  validation\n",
      " - Yaw          :   1.087560\n",
      " - Pitch        :   0.679195\n",
      " - Roll         :   0.413270\n",
      " - RMS          :   0.866605\n",
      " - 99% Tile     :   2.345267\n"
     ]
    },
    {
     "name": "stderr",
     "output_type": "stream",
     "text": [
      "[0024/0200] Train: 100%|███████████████████████████████| 44/44 [00:03<00:00, 11.47it/s, loss 2.5116]\n",
      "[0024/0200] Validation: 100%|██████████████████████| 42/42 [00:01<00:00, 21.25it/s, val_loss 1.6045]\n",
      "[0025/0200] Train:   0%|                                                     | 0/44 [00:00<?, ?it/s]"
     ]
    },
    {
     "name": "stdout",
     "output_type": "stream",
     "text": [
      "Save checkpoint: val_loss decreased from 1.9231813223589034 to 1.6045057745206923\n",
      "                  validation\n",
      " - Yaw          :   0.788512\n",
      " - Pitch        :   0.713866\n",
      " - Roll         :   0.407967\n",
      " - RMS          :   0.756923\n",
      " - 99% Tile     :   2.071214\n"
     ]
    },
    {
     "name": "stderr",
     "output_type": "stream",
     "text": [
      "[0025/0200] Train: 100%|███████████████████████████████| 44/44 [00:03<00:00, 11.43it/s, loss 2.5922]\n",
      "[0025/0200] Validation: 100%|██████████████████████| 42/42 [00:01<00:00, 21.34it/s, val_loss 2.4562]\n",
      "[0026/0200] Train:   0%|                                                     | 0/44 [00:00<?, ?it/s]"
     ]
    },
    {
     "name": "stdout",
     "output_type": "stream",
     "text": [
      "val_loss is not improved for 1 epochs\n",
      "                  validation\n",
      " - Yaw          :   1.269700\n",
      " - Pitch        :   0.592879\n",
      " - Roll         :   0.509328\n",
      " - RMS          :   0.981389\n",
      " - 99% Tile     :   2.902839\n"
     ]
    },
    {
     "name": "stderr",
     "output_type": "stream",
     "text": [
      "[0026/0200] Train: 100%|███████████████████████████████| 44/44 [00:03<00:00, 11.80it/s, loss 2.7897]\n",
      "[0026/0200] Validation: 100%|██████████████████████| 42/42 [00:01<00:00, 22.03it/s, val_loss 2.4353]\n",
      "[0027/0200] Train:   0%|                                                     | 0/44 [00:00<?, ?it/s]"
     ]
    },
    {
     "name": "stdout",
     "output_type": "stream",
     "text": [
      "val_loss is not improved for 2 epochs\n",
      "                  validation\n",
      " - Yaw          :   1.082778\n",
      " - Pitch        :   0.795566\n",
      " - Roll         :   0.418938\n",
      " - RMS          :   0.907642\n",
      " - 99% Tile     :   3.584212\n"
     ]
    },
    {
     "name": "stderr",
     "output_type": "stream",
     "text": [
      "[0027/0200] Train: 100%|███████████████████████████████| 44/44 [00:03<00:00, 11.53it/s, loss 2.5320]\n",
      "[0027/0200] Validation: 100%|██████████████████████| 42/42 [00:01<00:00, 21.63it/s, val_loss 1.5196]\n",
      "[0028/0200] Train:   0%|                                                     | 0/44 [00:00<?, ?it/s]"
     ]
    },
    {
     "name": "stdout",
     "output_type": "stream",
     "text": [
      "Save checkpoint: val_loss decreased from 1.6045057745206923 to 1.5195971365485872\n",
      "                  validation\n",
      " - Yaw          :   0.802987\n",
      " - Pitch        :   0.580557\n",
      " - Roll         :   0.351869\n",
      " - RMS          :   0.681322\n",
      " - 99% Tile     :   2.350507\n"
     ]
    },
    {
     "name": "stderr",
     "output_type": "stream",
     "text": [
      "[0028/0200] Train: 100%|███████████████████████████████| 44/44 [00:03<00:00, 11.89it/s, loss 2.6308]\n",
      "[0028/0200] Validation: 100%|██████████████████████| 42/42 [00:02<00:00, 20.93it/s, val_loss 2.2313]\n",
      "[0029/0200] Train:   0%|                                                     | 0/44 [00:00<?, ?it/s]"
     ]
    },
    {
     "name": "stdout",
     "output_type": "stream",
     "text": [
      "val_loss is not improved for 1 epochs\n",
      "                  validation\n",
      " - Yaw          :   1.179076\n",
      " - Pitch        :   0.876344\n",
      " - Roll         :   0.402185\n",
      " - RMS          :   0.963087\n",
      " - 99% Tile     :   2.853034\n"
     ]
    },
    {
     "name": "stderr",
     "output_type": "stream",
     "text": [
      "[0029/0200] Train: 100%|███████████████████████████████| 44/44 [00:03<00:00, 11.75it/s, loss 2.7076]\n",
      "[0029/0200] Validation: 100%|██████████████████████| 42/42 [00:01<00:00, 21.94it/s, val_loss 2.2778]\n",
      "[0030/0200] Train:   0%|                                                     | 0/44 [00:00<?, ?it/s]"
     ]
    },
    {
     "name": "stdout",
     "output_type": "stream",
     "text": [
      "val_loss is not improved for 2 epochs\n",
      "                  validation\n",
      " - Yaw          :   1.269126\n",
      " - Pitch        :   0.667883\n",
      " - Roll         :   0.391191\n",
      " - RMS          :   0.955223\n",
      " - 99% Tile     :   2.831238\n"
     ]
    },
    {
     "name": "stderr",
     "output_type": "stream",
     "text": [
      "[0030/0200] Train: 100%|███████████████████████████████| 44/44 [00:03<00:00, 11.46it/s, loss 2.5525]\n",
      "[0030/0200] Validation: 100%|██████████████████████| 42/42 [00:01<00:00, 21.90it/s, val_loss 2.2522]\n",
      "[0031/0200] Train:   0%|                                                     | 0/44 [00:00<?, ?it/s]"
     ]
    },
    {
     "name": "stdout",
     "output_type": "stream",
     "text": [
      "Decaying lr from 0.001 to 0.0005 because val_loss did not improved for 3 epochs\n",
      "val_loss is not improved for 3 epochs\n",
      "                  validation\n",
      " - Yaw          :   1.319788\n",
      " - Pitch        :   0.916103\n",
      " - Roll         :   0.367330\n",
      " - RMS          :   1.054325\n",
      " - 99% Tile     :   2.471101\n"
     ]
    },
    {
     "name": "stderr",
     "output_type": "stream",
     "text": [
      "[0031/0200] Train: 100%|███████████████████████████████| 44/44 [00:03<00:00, 11.51it/s, loss 1.9755]\n",
      "[0031/0200] Validation: 100%|██████████████████████| 42/42 [00:01<00:00, 21.84it/s, val_loss 1.1558]\n",
      "[0032/0200] Train:   0%|                                                     | 0/44 [00:00<?, ?it/s]"
     ]
    },
    {
     "name": "stdout",
     "output_type": "stream",
     "text": [
      "Save checkpoint: val_loss decreased from 1.5195971365485872 to 1.1558235951122784\n",
      "                  validation\n",
      " - Yaw          :   0.633439\n",
      " - Pitch        :   0.417680\n",
      " - Roll         :   0.301862\n",
      " - RMS          :   0.535034\n",
      " - 99% Tile     :   1.653279\n"
     ]
    },
    {
     "name": "stderr",
     "output_type": "stream",
     "text": [
      "[0032/0200] Train: 100%|███████████████████████████████| 44/44 [00:03<00:00, 11.70it/s, loss 1.9745]\n",
      "[0032/0200] Validation: 100%|██████████████████████| 42/42 [00:01<00:00, 21.88it/s, val_loss 1.4107]\n",
      "[0033/0200] Train:   0%|                                                     | 0/44 [00:00<?, ?it/s]"
     ]
    },
    {
     "name": "stdout",
     "output_type": "stream",
     "text": [
      "val_loss is not improved for 1 epochs\n",
      "                  validation\n",
      " - Yaw          :   0.893362\n",
      " - Pitch        :   0.445666\n",
      " - Roll         :   0.271299\n",
      " - RMS          :   0.654603\n",
      " - 99% Tile     :   2.253777\n"
     ]
    },
    {
     "name": "stderr",
     "output_type": "stream",
     "text": [
      "[0033/0200] Train: 100%|███████████████████████████████| 44/44 [00:03<00:00, 11.66it/s, loss 2.0591]\n",
      "[0033/0200] Validation: 100%|██████████████████████| 42/42 [00:02<00:00, 20.76it/s, val_loss 1.8964]\n",
      "[0034/0200] Train:   0%|                                                     | 0/44 [00:00<?, ?it/s]"
     ]
    },
    {
     "name": "stdout",
     "output_type": "stream",
     "text": [
      "val_loss is not improved for 2 epochs\n",
      "                  validation\n",
      " - Yaw          :   1.119446\n",
      " - Pitch        :   0.777346\n",
      " - Roll         :   0.320830\n",
      " - RMS          :   0.888512\n",
      " - 99% Tile     :   2.254668\n"
     ]
    },
    {
     "name": "stderr",
     "output_type": "stream",
     "text": [
      "[0034/0200] Train: 100%|███████████████████████████████| 44/44 [00:03<00:00, 11.69it/s, loss 2.6856]\n",
      "[0034/0200] Validation: 100%|██████████████████████| 42/42 [00:01<00:00, 21.01it/s, val_loss 1.7729]\n",
      "[0035/0200] Train:   0%|                                                     | 0/44 [00:00<?, ?it/s]"
     ]
    },
    {
     "name": "stdout",
     "output_type": "stream",
     "text": [
      "Decaying lr from 0.0005 to 0.00025 because val_loss did not improved for 3 epochs\n",
      "val_loss is not improved for 3 epochs\n",
      "                  validation\n",
      " - Yaw          :   0.853275\n",
      " - Pitch        :   0.597241\n",
      " - Roll         :   0.555286\n",
      " - RMS          :   0.777471\n",
      " - 99% Tile     :   2.416039\n"
     ]
    },
    {
     "name": "stderr",
     "output_type": "stream",
     "text": [
      "[0035/0200] Train: 100%|███████████████████████████████| 44/44 [00:03<00:00, 11.73it/s, loss 2.4253]\n",
      "[0035/0200] Validation: 100%|██████████████████████| 42/42 [00:01<00:00, 21.42it/s, val_loss 1.3717]\n",
      "[0036/0200] Train:   0%|                                                     | 0/44 [00:00<?, ?it/s]"
     ]
    },
    {
     "name": "stdout",
     "output_type": "stream",
     "text": [
      "val_loss is not improved for 4 epochs\n",
      "                  validation\n",
      " - Yaw          :   0.897072\n",
      " - Pitch        :   0.405920\n",
      " - Roll         :   0.263066\n",
      " - RMS          :   0.656040\n",
      " - 99% Tile     :   2.042233\n"
     ]
    },
    {
     "name": "stderr",
     "output_type": "stream",
     "text": [
      "[0036/0200] Train: 100%|███████████████████████████████| 44/44 [00:03<00:00, 11.86it/s, loss 2.0755]\n",
      "[0036/0200] Validation: 100%|██████████████████████| 42/42 [00:01<00:00, 21.31it/s, val_loss 1.0825]\n",
      "[0037/0200] Train:   0%|                                                     | 0/44 [00:00<?, ?it/s]"
     ]
    },
    {
     "name": "stdout",
     "output_type": "stream",
     "text": [
      "Save checkpoint: val_loss decreased from 1.1558235951122784 to 1.0824682450010663\n",
      "                  validation\n",
      " - Yaw          :   0.526768\n",
      " - Pitch        :   0.484435\n",
      " - Roll         :   0.225351\n",
      " - RMS          :   0.500963\n",
      " - 99% Tile     :   1.980285\n"
     ]
    },
    {
     "name": "stderr",
     "output_type": "stream",
     "text": [
      "[0037/0200] Train: 100%|███████████████████████████████| 44/44 [00:03<00:00, 11.80it/s, loss 2.0252]\n",
      "[0037/0200] Validation: 100%|██████████████████████| 42/42 [00:01<00:00, 21.20it/s, val_loss 0.9990]\n",
      "[0038/0200] Train:   0%|                                                     | 0/44 [00:00<?, ?it/s]"
     ]
    },
    {
     "name": "stdout",
     "output_type": "stream",
     "text": [
      "Save checkpoint: val_loss decreased from 1.0824682450010663 to 0.9989880671103796\n",
      "                  validation\n",
      " - Yaw          :   0.491904\n",
      " - Pitch        :   0.355967\n",
      " - Roll         :   0.249785\n",
      " - RMS          :   0.435039\n",
      " - 99% Tile     :   1.872866\n"
     ]
    },
    {
     "name": "stderr",
     "output_type": "stream",
     "text": [
      "[0038/0200] Train: 100%|███████████████████████████████| 44/44 [00:03<00:00, 11.81it/s, loss 1.9418]\n",
      "[0038/0200] Validation: 100%|██████████████████████| 42/42 [00:01<00:00, 21.29it/s, val_loss 1.1929]\n",
      "[0039/0200] Train:   0%|                                                     | 0/44 [00:00<?, ?it/s]"
     ]
    },
    {
     "name": "stdout",
     "output_type": "stream",
     "text": [
      "val_loss is not improved for 1 epochs\n",
      "                  validation\n",
      " - Yaw          :   0.648245\n",
      " - Pitch        :   0.515741\n",
      " - Roll         :   0.261218\n",
      " - RMS          :   0.563689\n",
      " - 99% Tile     :   1.998016\n"
     ]
    },
    {
     "name": "stderr",
     "output_type": "stream",
     "text": [
      "[0039/0200] Train: 100%|███████████████████████████████| 44/44 [00:03<00:00, 11.77it/s, loss 2.0407]\n",
      "[0039/0200] Validation: 100%|██████████████████████| 42/42 [00:01<00:00, 22.32it/s, val_loss 1.1048]\n",
      "[0040/0200] Train:   0%|                                                     | 0/44 [00:00<?, ?it/s]"
     ]
    },
    {
     "name": "stdout",
     "output_type": "stream",
     "text": [
      "val_loss is not improved for 2 epochs\n",
      "                  validation\n",
      " - Yaw          :   0.644057\n",
      " - Pitch        :   0.405726\n",
      " - Roll         :   0.254255\n",
      " - RMS          :   0.519449\n",
      " - 99% Tile     :   1.886139\n"
     ]
    },
    {
     "name": "stderr",
     "output_type": "stream",
     "text": [
      "[0040/0200] Train: 100%|███████████████████████████████| 44/44 [00:03<00:00, 11.49it/s, loss 2.3338]\n",
      "[0040/0200] Validation: 100%|██████████████████████| 42/42 [00:01<00:00, 21.90it/s, val_loss 1.0373]\n",
      "[0041/0200] Train:   0%|                                                     | 0/44 [00:00<?, ?it/s]"
     ]
    },
    {
     "name": "stdout",
     "output_type": "stream",
     "text": [
      "Decaying lr from 0.00025 to 0.000125 because val_loss did not improved for 3 epochs\n",
      "val_loss is not improved for 3 epochs\n",
      "                  validation\n",
      " - Yaw          :   0.581714\n",
      " - Pitch        :   0.336519\n",
      " - Roll         :   0.261625\n",
      " - RMS          :   0.472563\n",
      " - 99% Tile     :   1.866560\n"
     ]
    },
    {
     "name": "stderr",
     "output_type": "stream",
     "text": [
      "[0041/0200] Train: 100%|███████████████████████████████| 44/44 [00:03<00:00, 11.76it/s, loss 2.2935]\n",
      "[0041/0200] Validation: 100%|██████████████████████| 42/42 [00:01<00:00, 22.26it/s, val_loss 1.0728]\n",
      "[0042/0200] Train:   0%|                                                     | 0/44 [00:00<?, ?it/s]"
     ]
    },
    {
     "name": "stdout",
     "output_type": "stream",
     "text": [
      "val_loss is not improved for 4 epochs\n",
      "                  validation\n",
      " - Yaw          :   0.586566\n",
      " - Pitch        :   0.385942\n",
      " - Roll         :   0.303238\n",
      " - RMS          :   0.501424\n",
      " - 99% Tile     :   1.856646\n"
     ]
    },
    {
     "name": "stderr",
     "output_type": "stream",
     "text": [
      "[0042/0200] Train: 100%|███████████████████████████████| 44/44 [00:03<00:00, 11.83it/s, loss 1.8834]\n",
      "[0042/0200] Validation: 100%|██████████████████████| 42/42 [00:01<00:00, 21.57it/s, val_loss 0.9424]\n",
      "[0043/0200] Train:   0%|                                                     | 0/44 [00:00<?, ?it/s]"
     ]
    },
    {
     "name": "stdout",
     "output_type": "stream",
     "text": [
      "Save checkpoint: val_loss decreased from 0.9989880671103796 to 0.9424480834887141\n",
      "                  validation\n",
      " - Yaw          :   0.408734\n",
      " - Pitch        :   0.363473\n",
      " - Roll         :   0.240126\n",
      " - RMS          :   0.394272\n",
      " - 99% Tile     :   1.847652\n"
     ]
    },
    {
     "name": "stderr",
     "output_type": "stream",
     "text": [
      "[0043/0200] Train: 100%|███████████████████████████████| 44/44 [00:03<00:00, 11.71it/s, loss 1.9515]\n",
      "[0043/0200] Validation: 100%|██████████████████████| 42/42 [00:01<00:00, 21.96it/s, val_loss 1.0602]\n",
      "[0044/0200] Train:   0%|                                                     | 0/44 [00:00<?, ?it/s]"
     ]
    },
    {
     "name": "stdout",
     "output_type": "stream",
     "text": [
      "val_loss is not improved for 1 epochs\n",
      "                  validation\n",
      " - Yaw          :   0.528065\n",
      " - Pitch        :   0.381996\n",
      " - Roll         :   0.231605\n",
      " - RMS          :   0.447172\n",
      " - 99% Tile     :   2.275158\n"
     ]
    },
    {
     "name": "stderr",
     "output_type": "stream",
     "text": [
      "[0044/0200] Train: 100%|███████████████████████████████| 44/44 [00:03<00:00, 11.58it/s, loss 1.7851]\n",
      "[0044/0200] Validation: 100%|██████████████████████| 42/42 [00:01<00:00, 21.37it/s, val_loss 1.0399]\n",
      "[0045/0200] Train:   0%|                                                     | 0/44 [00:00<?, ?it/s]"
     ]
    },
    {
     "name": "stdout",
     "output_type": "stream",
     "text": [
      "val_loss is not improved for 2 epochs\n",
      "                  validation\n",
      " - Yaw          :   0.619943\n",
      " - Pitch        :   0.311278\n",
      " - Roll         :   0.244939\n",
      " - RMS          :   0.475762\n",
      " - 99% Tile     :   1.894619\n"
     ]
    },
    {
     "name": "stderr",
     "output_type": "stream",
     "text": [
      "[0045/0200] Train: 100%|███████████████████████████████| 44/44 [00:03<00:00, 11.97it/s, loss 2.0181]\n",
      "[0045/0200] Validation: 100%|██████████████████████| 42/42 [00:01<00:00, 21.20it/s, val_loss 1.0511]\n",
      "[0046/0200] Train:   0%|                                                     | 0/44 [00:00<?, ?it/s]"
     ]
    },
    {
     "name": "stdout",
     "output_type": "stream",
     "text": [
      "Decaying lr from 0.000125 to 6.25e-05 because val_loss did not improved for 3 epochs\n",
      "val_loss is not improved for 3 epochs\n",
      "                  validation\n",
      " - Yaw          :   0.588294\n",
      " - Pitch        :   0.350045\n",
      " - Roll         :   0.233728\n",
      " - RMS          :   0.463463\n",
      " - 99% Tile     :   1.846131\n"
     ]
    },
    {
     "name": "stderr",
     "output_type": "stream",
     "text": [
      "[0046/0200] Train: 100%|███████████████████████████████| 44/44 [00:03<00:00, 11.67it/s, loss 1.5833]\n",
      "[0046/0200] Validation: 100%|██████████████████████| 42/42 [00:01<00:00, 21.74it/s, val_loss 0.9125]\n",
      "[0047/0200] Train:   0%|                                                     | 0/44 [00:00<?, ?it/s]"
     ]
    },
    {
     "name": "stdout",
     "output_type": "stream",
     "text": [
      "Save checkpoint: val_loss decreased from 0.9424480834887141 to 0.9124579427852517\n",
      "                  validation\n",
      " - Yaw          :   0.409713\n",
      " - Pitch        :   0.298918\n",
      " - Roll         :   0.218268\n",
      " - RMS          :   0.365451\n",
      " - 99% Tile     :   1.820410\n"
     ]
    },
    {
     "name": "stderr",
     "output_type": "stream",
     "text": [
      "[0047/0200] Train: 100%|███████████████████████████████| 44/44 [00:03<00:00, 11.71it/s, loss 2.4368]\n",
      "[0047/0200] Validation: 100%|██████████████████████| 42/42 [00:02<00:00, 20.93it/s, val_loss 0.9605]\n",
      "[0048/0200] Train:   0%|                                                     | 0/44 [00:00<?, ?it/s]"
     ]
    },
    {
     "name": "stdout",
     "output_type": "stream",
     "text": [
      "val_loss is not improved for 1 epochs\n",
      "                  validation\n",
      " - Yaw          :   0.462087\n",
      " - Pitch        :   0.372138\n",
      " - Roll         :   0.218556\n",
      " - RMS          :   0.418206\n",
      " - 99% Tile     :   1.904380\n"
     ]
    },
    {
     "name": "stderr",
     "output_type": "stream",
     "text": [
      "[0048/0200] Train: 100%|███████████████████████████████| 44/44 [00:03<00:00, 11.86it/s, loss 1.8421]\n",
      "[0048/0200] Validation: 100%|██████████████████████| 42/42 [00:01<00:00, 21.99it/s, val_loss 0.9833]\n",
      "[0049/0200] Train:   0%|                                                     | 0/44 [00:00<?, ?it/s]"
     ]
    },
    {
     "name": "stdout",
     "output_type": "stream",
     "text": [
      "val_loss is not improved for 2 epochs\n",
      "                  validation\n",
      " - Yaw          :   0.375008\n",
      " - Pitch        :   0.478638\n",
      " - Roll         :   0.255325\n",
      " - RMS          :   0.434995\n",
      " - 99% Tile     :   1.910246\n"
     ]
    },
    {
     "name": "stderr",
     "output_type": "stream",
     "text": [
      "[0049/0200] Train: 100%|███████████████████████████████| 44/44 [00:03<00:00, 11.70it/s, loss 2.2427]\n",
      "[0049/0200] Validation: 100%|██████████████████████| 42/42 [00:02<00:00, 20.98it/s, val_loss 0.9483]\n",
      "[0050/0200] Train:   0%|                                                     | 0/44 [00:00<?, ?it/s]"
     ]
    },
    {
     "name": "stdout",
     "output_type": "stream",
     "text": [
      "Decaying lr from 6.25e-05 to 3.125e-05 because val_loss did not improved for 3 epochs\n",
      "val_loss is not improved for 3 epochs\n",
      "                  validation\n",
      " - Yaw          :   0.419183\n",
      " - Pitch        :   0.349750\n",
      " - Roll         :   0.234481\n",
      " - RMS          :   0.389083\n",
      " - 99% Tile     :   1.766896\n"
     ]
    },
    {
     "name": "stderr",
     "output_type": "stream",
     "text": [
      "[0050/0200] Train: 100%|███████████████████████████████| 44/44 [00:03<00:00, 11.78it/s, loss 1.6822]\n",
      "[0050/0200] Validation: 100%|██████████████████████| 42/42 [00:01<00:00, 21.99it/s, val_loss 0.9286]\n",
      "[0051/0200] Train:   0%|                                                     | 0/44 [00:00<?, ?it/s]"
     ]
    },
    {
     "name": "stdout",
     "output_type": "stream",
     "text": [
      "val_loss is not improved for 4 epochs\n",
      "                  validation\n",
      " - Yaw          :   0.381718\n",
      " - Pitch        :   0.324668\n",
      " - Roll         :   0.216734\n",
      " - RMS          :   0.363410\n",
      " - 99% Tile     :   1.894432\n"
     ]
    },
    {
     "name": "stderr",
     "output_type": "stream",
     "text": [
      "[0051/0200] Train: 100%|███████████████████████████████| 44/44 [00:03<00:00, 11.86it/s, loss 1.6622]\n",
      "[0051/0200] Validation: 100%|██████████████████████| 42/42 [00:01<00:00, 22.10it/s, val_loss 0.8903]\n",
      "[0052/0200] Train:   0%|                                                     | 0/44 [00:00<?, ?it/s]"
     ]
    },
    {
     "name": "stdout",
     "output_type": "stream",
     "text": [
      "Save checkpoint: val_loss decreased from 0.9124579427852517 to 0.890315696064915\n",
      "                  validation\n",
      " - Yaw          :   0.361841\n",
      " - Pitch        :   0.325357\n",
      " - Roll         :   0.210836\n",
      " - RMS          :   0.354708\n",
      " - 99% Tile     :   1.809432\n"
     ]
    },
    {
     "name": "stderr",
     "output_type": "stream",
     "text": [
      "[0052/0200] Train: 100%|███████████████████████████████| 44/44 [00:03<00:00, 11.85it/s, loss 1.7994]\n",
      "[0052/0200] Validation: 100%|██████████████████████| 42/42 [00:01<00:00, 21.85it/s, val_loss 0.9598]\n",
      "[0053/0200] Train:   0%|                                                     | 0/44 [00:00<?, ?it/s]"
     ]
    },
    {
     "name": "stdout",
     "output_type": "stream",
     "text": [
      "val_loss is not improved for 1 epochs\n",
      "                  validation\n",
      " - Yaw          :   0.477168\n",
      " - Pitch        :   0.333096\n",
      " - Roll         :   0.233734\n",
      " - RMS          :   0.412482\n",
      " - 99% Tile     :   1.868643\n"
     ]
    },
    {
     "name": "stderr",
     "output_type": "stream",
     "text": [
      "[0053/0200] Train: 100%|███████████████████████████████| 44/44 [00:03<00:00, 11.71it/s, loss 1.6073]\n",
      "[0053/0200] Validation: 100%|██████████████████████| 42/42 [00:01<00:00, 21.59it/s, val_loss 0.9287]\n",
      "[0054/0200] Train:   0%|                                                     | 0/44 [00:00<?, ?it/s]"
     ]
    },
    {
     "name": "stdout",
     "output_type": "stream",
     "text": [
      "val_loss is not improved for 2 epochs\n",
      "                  validation\n",
      " - Yaw          :   0.424165\n",
      " - Pitch        :   0.324730\n",
      " - Roll         :   0.216102\n",
      " - RMS          :   0.381505\n",
      " - 99% Tile     :   1.795229\n"
     ]
    },
    {
     "name": "stderr",
     "output_type": "stream",
     "text": [
      "[0054/0200] Train: 100%|███████████████████████████████| 44/44 [00:03<00:00, 11.65it/s, loss 1.7048]\n",
      "[0054/0200] Validation: 100%|██████████████████████| 42/42 [00:01<00:00, 22.12it/s, val_loss 0.9666]\n",
      "[0055/0200] Train:   0%|                                                     | 0/44 [00:00<?, ?it/s]"
     ]
    },
    {
     "name": "stdout",
     "output_type": "stream",
     "text": [
      "Decaying lr from 3.125e-05 to 1.5625e-05 because val_loss did not improved for 3 epochs\n",
      "val_loss is not improved for 3 epochs\n",
      "                  validation\n",
      " - Yaw          :   0.410173\n",
      " - Pitch        :   0.367931\n",
      " - Roll         :   0.214343\n",
      " - RMS          :   0.390287\n",
      " - 99% Tile     :   1.995506\n"
     ]
    },
    {
     "name": "stderr",
     "output_type": "stream",
     "text": [
      "[0055/0200] Train: 100%|███████████████████████████████| 44/44 [00:03<00:00, 11.62it/s, loss 1.5586]\n",
      "[0055/0200] Validation: 100%|██████████████████████| 42/42 [00:01<00:00, 21.26it/s, val_loss 0.9104]\n",
      "[0056/0200] Train:   0%|                                                     | 0/44 [00:00<?, ?it/s]"
     ]
    },
    {
     "name": "stdout",
     "output_type": "stream",
     "text": [
      "val_loss is not improved for 4 epochs\n",
      "                  validation\n",
      " - Yaw          :   0.372319\n",
      " - Pitch        :   0.343404\n",
      " - Roll         :   0.223580\n",
      " - RMS          :   0.364564\n",
      " - 99% Tile     :   1.911746\n"
     ]
    },
    {
     "name": "stderr",
     "output_type": "stream",
     "text": [
      "[0056/0200] Train: 100%|███████████████████████████████| 44/44 [00:03<00:00, 11.70it/s, loss 1.9048]\n",
      "[0056/0200] Validation: 100%|██████████████████████| 42/42 [00:01<00:00, 21.59it/s, val_loss 1.0182]\n",
      "[0057/0200] Train:   0%|                                                     | 0/44 [00:00<?, ?it/s]"
     ]
    },
    {
     "name": "stdout",
     "output_type": "stream",
     "text": [
      "val_loss is not improved for 5 epochs\n",
      "                  validation\n",
      " - Yaw          :   0.644829\n",
      " - Pitch        :   0.326646\n",
      " - Roll         :   0.211414\n",
      " - RMS          :   0.482854\n",
      " - 99% Tile     :   1.754676\n"
     ]
    },
    {
     "name": "stderr",
     "output_type": "stream",
     "text": [
      "[0057/0200] Train: 100%|███████████████████████████████| 44/44 [00:03<00:00, 11.73it/s, loss 1.7537]\n",
      "[0057/0200] Validation: 100%|██████████████████████| 42/42 [00:01<00:00, 21.54it/s, val_loss 0.9639]\n",
      "[0058/0200] Train:   0%|                                                     | 0/44 [00:00<?, ?it/s]"
     ]
    },
    {
     "name": "stdout",
     "output_type": "stream",
     "text": [
      "Decaying lr from 1.5625e-05 to 7.8125e-06 because val_loss did not improved for 3 epochs\n",
      "val_loss is not improved for 6 epochs\n",
      "                  validation\n",
      " - Yaw          :   0.522374\n",
      " - Pitch        :   0.340767\n",
      " - Roll         :   0.219362\n",
      " - RMS          :   0.435210\n",
      " - 99% Tile     :   1.866070\n"
     ]
    },
    {
     "name": "stderr",
     "output_type": "stream",
     "text": [
      "[0058/0200] Train: 100%|███████████████████████████████| 44/44 [00:03<00:00, 11.79it/s, loss 1.4759]\n",
      "[0058/0200] Validation: 100%|██████████████████████| 42/42 [00:01<00:00, 21.59it/s, val_loss 0.8811]\n",
      "[0059/0200] Train:   0%|                                                     | 0/44 [00:00<?, ?it/s]"
     ]
    },
    {
     "name": "stdout",
     "output_type": "stream",
     "text": [
      "Save checkpoint: val_loss decreased from 0.890315696064915 to 0.8811310980291593\n",
      "                  validation\n",
      " - Yaw          :   0.353132\n",
      " - Pitch        :   0.305832\n",
      " - Roll         :   0.210687\n",
      " - RMS          :   0.341684\n",
      " - 99% Tile     :   1.764493\n"
     ]
    },
    {
     "name": "stderr",
     "output_type": "stream",
     "text": [
      "[0059/0200] Train: 100%|███████████████████████████████| 44/44 [00:03<00:00, 11.57it/s, loss 1.9425]\n",
      "[0059/0200] Validation: 100%|██████████████████████| 42/42 [00:01<00:00, 22.32it/s, val_loss 1.0305]\n",
      "[0060/0200] Train:   0%|                                                     | 0/44 [00:00<?, ?it/s]"
     ]
    },
    {
     "name": "stdout",
     "output_type": "stream",
     "text": [
      "val_loss is not improved for 1 epochs\n",
      "                  validation\n",
      " - Yaw          :   0.654197\n",
      " - Pitch        :   0.351766\n",
      " - Roll         :   0.220700\n",
      " - RMS          :   0.504209\n",
      " - 99% Tile     :   1.864731\n"
     ]
    },
    {
     "name": "stderr",
     "output_type": "stream",
     "text": [
      "[0060/0200] Train: 100%|███████████████████████████████| 44/44 [00:03<00:00, 11.76it/s, loss 1.5042]\n",
      "[0060/0200] Validation: 100%|██████████████████████| 42/42 [00:01<00:00, 21.20it/s, val_loss 0.9196]\n",
      "[0061/0200] Train:   0%|                                                     | 0/44 [00:00<?, ?it/s]"
     ]
    },
    {
     "name": "stdout",
     "output_type": "stream",
     "text": [
      "val_loss is not improved for 2 epochs\n",
      "                  validation\n",
      " - Yaw          :   0.460718\n",
      " - Pitch        :   0.300038\n",
      " - Roll         :   0.227096\n",
      " - RMS          :   0.392892\n",
      " - 99% Tile     :   1.842175\n"
     ]
    },
    {
     "name": "stderr",
     "output_type": "stream",
     "text": [
      "[0061/0200] Train: 100%|███████████████████████████████| 44/44 [00:03<00:00, 11.68it/s, loss 1.9149]\n",
      "[0061/0200] Validation: 100%|██████████████████████| 42/42 [00:01<00:00, 21.15it/s, val_loss 0.9631]\n",
      "[0062/0200] Train:   0%|                                                     | 0/44 [00:00<?, ?it/s]"
     ]
    },
    {
     "name": "stdout",
     "output_type": "stream",
     "text": [
      "Decaying lr from 7.8125e-06 to 3.90625e-06 because val_loss did not improved for 3 epochs\n",
      "val_loss is not improved for 3 epochs\n",
      "                  validation\n",
      " - Yaw          :   0.444976\n",
      " - Pitch        :   0.421941\n",
      " - Roll         :   0.207121\n",
      " - RMS          :   0.421653\n",
      " - 99% Tile     :   1.799707\n"
     ]
    },
    {
     "name": "stderr",
     "output_type": "stream",
     "text": [
      "[0062/0200] Train: 100%|███████████████████████████████| 44/44 [00:03<00:00, 11.67it/s, loss 1.7666]\n",
      "[0062/0200] Validation: 100%|██████████████████████| 42/42 [00:02<00:00, 20.94it/s, val_loss 0.8876]\n",
      "[0063/0200] Train:   0%|                                                     | 0/44 [00:00<?, ?it/s]"
     ]
    },
    {
     "name": "stdout",
     "output_type": "stream",
     "text": [
      "val_loss is not improved for 4 epochs\n",
      "                  validation\n",
      " - Yaw          :   0.374442\n",
      " - Pitch        :   0.332395\n",
      " - Roll         :   0.209256\n",
      " - RMS          :   0.361630\n",
      " - 99% Tile     :   1.748730\n"
     ]
    },
    {
     "name": "stderr",
     "output_type": "stream",
     "text": [
      "[0063/0200] Train: 100%|███████████████████████████████| 44/44 [00:03<00:00, 11.66it/s, loss 2.1424]\n",
      "[0063/0200] Validation: 100%|██████████████████████| 42/42 [00:01<00:00, 22.21it/s, val_loss 1.1254]\n",
      "[0064/0200] Train:   0%|                                                     | 0/44 [00:00<?, ?it/s]"
     ]
    },
    {
     "name": "stdout",
     "output_type": "stream",
     "text": [
      "val_loss is not improved for 5 epochs\n",
      "                  validation\n",
      " - Yaw          :   0.894689\n",
      " - Pitch        :   0.299852\n",
      " - Roll         :   0.218000\n",
      " - RMS          :   0.599617\n",
      " - 99% Tile     :   1.982252\n"
     ]
    },
    {
     "name": "stderr",
     "output_type": "stream",
     "text": [
      "[0064/0200] Train: 100%|███████████████████████████████| 44/44 [00:03<00:00, 11.52it/s, loss 1.5030]\n",
      "[0064/0200] Validation: 100%|██████████████████████| 42/42 [00:01<00:00, 21.11it/s, val_loss 0.9208]\n",
      "[0065/0200] Train:   0%|                                                     | 0/44 [00:00<?, ?it/s]"
     ]
    },
    {
     "name": "stdout",
     "output_type": "stream",
     "text": [
      "Decaying lr from 3.90625e-06 to 1.953125e-06 because val_loss did not improved for 3 epochs\n",
      "val_loss is not improved for 6 epochs\n",
      "                  validation\n",
      " - Yaw          :   0.452123\n",
      " - Pitch        :   0.311935\n",
      " - Roll         :   0.210509\n",
      " - RMS          :   0.388141\n",
      " - 99% Tile     :   1.858817\n"
     ]
    },
    {
     "name": "stderr",
     "output_type": "stream",
     "text": [
      "[0065/0200] Train: 100%|███████████████████████████████| 44/44 [00:03<00:00, 11.63it/s, loss 1.7462]\n",
      "[0065/0200] Validation: 100%|██████████████████████| 42/42 [00:01<00:00, 22.09it/s, val_loss 0.9458]\n",
      "[0066/0200] Train:   0%|                                                     | 0/44 [00:00<?, ?it/s]"
     ]
    },
    {
     "name": "stdout",
     "output_type": "stream",
     "text": [
      "val_loss is not improved for 7 epochs\n",
      "                  validation\n",
      " - Yaw          :   0.492135\n",
      " - Pitch        :   0.336444\n",
      " - Roll         :   0.210868\n",
      " - RMS          :   0.412902\n",
      " - 99% Tile     :   1.915483\n"
     ]
    },
    {
     "name": "stderr",
     "output_type": "stream",
     "text": [
      "[0066/0200] Train: 100%|███████████████████████████████| 44/44 [00:03<00:00, 11.48it/s, loss 1.8387]\n",
      "[0066/0200] Validation: 100%|██████████████████████| 42/42 [00:01<00:00, 22.33it/s, val_loss 0.9098]\n",
      "[0067/0200] Train:   0%|                                                     | 0/44 [00:00<?, ?it/s]"
     ]
    },
    {
     "name": "stdout",
     "output_type": "stream",
     "text": [
      "val_loss is not improved for 8 epochs\n",
      "                  validation\n",
      " - Yaw          :   0.388888\n",
      " - Pitch        :   0.312139\n",
      " - Roll         :   0.207170\n",
      " - RMS          :   0.357006\n",
      " - 99% Tile     :   1.801002\n"
     ]
    },
    {
     "name": "stderr",
     "output_type": "stream",
     "text": [
      "[0067/0200] Train: 100%|███████████████████████████████| 44/44 [00:03<00:00, 11.66it/s, loss 1.8200]\n",
      "[0067/0200] Validation: 100%|██████████████████████| 42/42 [00:01<00:00, 21.27it/s, val_loss 0.9347]\n",
      "[0068/0200] Train:   0%|                                                     | 0/44 [00:00<?, ?it/s]"
     ]
    },
    {
     "name": "stdout",
     "output_type": "stream",
     "text": [
      "Decaying lr from 1.953125e-06 to 9.765625e-07 because val_loss did not improved for 3 epochs\n",
      "val_loss is not improved for 9 epochs\n",
      "                  validation\n",
      " - Yaw          :   0.445928\n",
      " - Pitch        :   0.347313\n",
      " - Roll         :   0.218277\n",
      " - RMS          :   0.399422\n",
      " - 99% Tile     :   1.813715\n"
     ]
    },
    {
     "name": "stderr",
     "output_type": "stream",
     "text": [
      "[0068/0200] Train: 100%|███████████████████████████████| 44/44 [00:03<00:00, 11.95it/s, loss 1.9178]\n",
      "[0068/0200] Validation: 100%|██████████████████████| 42/42 [00:01<00:00, 22.54it/s, val_loss 0.9781]"
     ]
    },
    {
     "name": "stdout",
     "output_type": "stream",
     "text": [
      "val_loss is not improved for 10 epochs\n",
      "Stop training because val_loss did not improved for 10 epochs\n",
      "                  validation\n",
      " - Yaw          :   0.529909\n",
      " - Pitch        :   0.393005\n",
      " - Roll         :   0.211840\n",
      " - RMS          :   0.454954\n",
      " - 99% Tile     :   1.864552\n"
     ]
    },
    {
     "name": "stderr",
     "output_type": "stream",
     "text": [
      "\n"
     ]
    }
   ],
   "source": [
    "trainer.fit(ds_train, ds_test, num_epochs=200, batch_size=256, shuffle=True, pin_memory=True)"
   ]
  },
  {
   "cell_type": "code",
   "execution_count": null,
   "metadata": {},
   "outputs": [],
   "source": []
  }
 ],
 "metadata": {
  "kernelspec": {
   "display_name": "torch",
   "language": "python",
   "name": "torch"
  },
  "language_info": {
   "codemirror_mode": {
    "name": "ipython",
    "version": 3
   },
   "file_extension": ".py",
   "mimetype": "text/x-python",
   "name": "python",
   "nbconvert_exporter": "python",
   "pygments_lexer": "ipython3",
   "version": "3.7.9"
  }
 },
 "nbformat": 4,
 "nbformat_minor": 4
}
