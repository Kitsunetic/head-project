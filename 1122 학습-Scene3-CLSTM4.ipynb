{
 "cells": [
  {
   "cell_type": "markdown",
   "metadata": {},
   "source": [
    "# 학습 결과\n",
    "\n",
    "user1의 scene 1~3만 사용해서 학습\n",
    "\n",
    "scene보다 user가 많기 때문에 데이터의 양이 확연히 줄어듬에도 불구하고 성능이 괜찮음.  \n",
    "적은 데이터 특화됐기 때문인지는 모르겠다.\n",
    "\n",
    "나머지 scene에 대해서도 잘 학습을 하면서 user에 대해서도 특화된다면 성능을 상당히 끌어올릴 수 있을 것으로 기대됨.  \n",
    "--> curriculum learning"
   ]
  },
  {
   "cell_type": "code",
   "execution_count": 1,
   "metadata": {},
   "outputs": [],
   "source": [
    "from multiprocessing import cpu_count\n",
    "from pathlib import Path\n",
    "from typing import List, Union, AnyStr\n",
    "from math import pi\n",
    "import pickle\n",
    "\n",
    "import numpy as np\n",
    "import torch\n",
    "import matplotlib.pyplot as plt\n",
    "import torch.nn as nn\n",
    "from sklearn import model_selection\n",
    "from tqdm import tqdm\n",
    "import torch_optimizer\n",
    "from torch.utils.data import Dataset\n",
    "import pandas as pd\n",
    "import random\n",
    "\n",
    "import torch_burn as tb\n",
    "import utils"
   ]
  },
  {
   "cell_type": "code",
   "execution_count": 2,
   "metadata": {},
   "outputs": [],
   "source": [
    "tb.seed_everything(0)"
   ]
  },
  {
   "cell_type": "code",
   "execution_count": 3,
   "metadata": {},
   "outputs": [],
   "source": [
    "EXPERIMENT_NAME = '1122-Scene3-CLSTM4-win120'\n",
    "CHECKPOINT_DIR = Path('checkpoint', EXPERIMENT_NAME)\n",
    "CHECKPOINT_DIR.mkdir(parents=True, exist_ok=True)\n",
    "\n",
    "DATA_DIR = Path('data/1116')\n",
    "TRAIN_FILES = sorted(list(DATA_DIR.glob('*scene3_0.csv')))\n",
    "TEST_FILES = sorted(list(DATA_DIR.glob('*scene3_1.csv')))"
   ]
  },
  {
   "cell_type": "markdown",
   "metadata": {},
   "source": [
    "# 데이터셋 생성\n",
    "\n",
    "scene1에 대해서 모든 user의 데이터를 하나로 합친다."
   ]
  },
  {
   "cell_type": "code",
   "execution_count": 4,
   "metadata": {},
   "outputs": [],
   "source": [
    "WINDOW_SIZE = 120"
   ]
  },
  {
   "cell_type": "code",
   "execution_count": 5,
   "metadata": {},
   "outputs": [],
   "source": [
    "class CSVSequentialDataset(Dataset):\n",
    "    def __init__(self, csvfile,\n",
    "                 window_size=300, randomized_window_size=False,\n",
    "                 stride=30, randomized_stride=False):\n",
    "        super(CSVSequentialDataset, self).__init__()\n",
    "\n",
    "        self.xcols = ['input_orientation_yaw', 'input_orientation_pitch', 'input_orientation_roll',\n",
    "                      'acceleration_x', 'acceleration_y', 'acceleration_z']\n",
    "        self.ycols = ['input_orientation_yaw', 'input_orientation_pitch', 'input_orientation_roll']\n",
    "\n",
    "        self.csv = pd.read_csv(csvfile)\n",
    "        self.window_size = window_size\n",
    "        \n",
    "        self.indexes = []\n",
    "        i = 0\n",
    "        while i <= len(self.csv) - window_size * 2:\n",
    "            if randomized_window_size:\n",
    "                self.indexes.append((i, i + random.randint(window_size // 2, window_size)))\n",
    "            else:\n",
    "                self.indexes.append((i, i + window_size))\n",
    "\n",
    "            if randomized_stride:\n",
    "                i += random.randint(1, stride)\n",
    "            else:\n",
    "                i += stride\n",
    "\n",
    "    def __len__(self):\n",
    "        return len(self.indexes)\n",
    "\n",
    "    def __getitem__(self, idx):\n",
    "        s, t = self.indexes[idx]\n",
    "        x = self.csv.iloc[s:t][self.xcols].to_numpy()\n",
    "        y = self.csv.iloc[t + 18][self.ycols].to_numpy()\n",
    "\n",
    "        x = torch.tensor(x, dtype=torch.float32) # 300, 6\n",
    "        y = torch.tensor(y, dtype=torch.float32) # 3\n",
    "        \n",
    "        x[:, 0] /= 10\n",
    "        x[:, 4] /= 10\n",
    "        y[0] /= 10\n",
    "\n",
    "        return x, y"
   ]
  },
  {
   "cell_type": "code",
   "execution_count": 6,
   "metadata": {},
   "outputs": [],
   "source": [
    "ds_train = [CSVSequentialDataset(f,  \n",
    "                                 window_size=WINDOW_SIZE, randomized_window_size=False,\n",
    "                                 stride=5, randomized_stride=False) for f in TRAIN_FILES]\n",
    "ds_train = tb.data.ChainDataset(*ds_train)\n",
    "ds_test = [CSVSequentialDataset(f,  \n",
    "                                window_size=WINDOW_SIZE, randomized_window_size=False,\n",
    "                                stride=5, randomized_stride=False) for f in TEST_FILES]\n",
    "ds_test = tb.data.ChainDataset(*ds_test)"
   ]
  },
  {
   "cell_type": "code",
   "execution_count": 7,
   "metadata": {},
   "outputs": [
    {
     "data": {
      "text/plain": [
       "(11071, 10671)"
      ]
     },
     "execution_count": 7,
     "metadata": {},
     "output_type": "execute_result"
    }
   ],
   "source": [
    "len(ds_train), len(ds_test)"
   ]
  },
  {
   "cell_type": "code",
   "execution_count": 8,
   "metadata": {},
   "outputs": [
    {
     "data": {
      "text/plain": [
       "(torch.Size([120, 6]), torch.Size([3]))"
      ]
     },
     "execution_count": 8,
     "metadata": {},
     "output_type": "execute_result"
    }
   ],
   "source": [
    "ds_train[0][0].shape, ds_train[0][1].shape"
   ]
  },
  {
   "cell_type": "code",
   "execution_count": 9,
   "metadata": {},
   "outputs": [],
   "source": [
    "x, y = ds_train[0]"
   ]
  },
  {
   "cell_type": "code",
   "execution_count": 10,
   "metadata": {},
   "outputs": [
    {
     "data": {
      "text/plain": [
       "torch.Size([120, 6])"
      ]
     },
     "execution_count": 10,
     "metadata": {},
     "output_type": "execute_result"
    }
   ],
   "source": [
    "x.shape"
   ]
  },
  {
   "cell_type": "code",
   "execution_count": 11,
   "metadata": {},
   "outputs": [
    {
     "data": {
      "text/plain": [
       "[<matplotlib.lines.Line2D at 0x7fcfc5287f50>]"
      ]
     },
     "execution_count": 11,
     "metadata": {},
     "output_type": "execute_result"
    },
    {
     "data": {
      "image/png": "[encoded data removed]",
      "text/plain": [
       "<Figure size 432x288 with 1 Axes>"
      ]
     },
     "metadata": {
      "needs_background": "light"
     },
     "output_type": "display_data"
    }
   ],
   "source": [
    "plt.plot(x[:, 2])"
   ]
  },
  {
   "cell_type": "markdown",
   "metadata": {},
   "source": [
    "# 모델 생성"
   ]
  },
  {
   "cell_type": "code",
   "execution_count": 12,
   "metadata": {},
   "outputs": [],
   "source": [
    "class CLSTM(nn.Module):\n",
    "    def __init__(self):\n",
    "        super(CLSTM, self).__init__()\n",
    "\n",
    "        self.conv_in = nn.Sequential(\n",
    "            nn.Conv1d(6, 24, 3, padding=1, groups=2),\n",
    "            nn.BatchNorm1d(24),\n",
    "            nn.LeakyReLU(),\n",
    "            nn.Conv1d(24, 48, 3, padding=1, groups=2),\n",
    "            nn.BatchNorm1d(48),\n",
    "            nn.LeakyReLU(),\n",
    "            nn.Conv1d(48, 64, 3, padding=1),\n",
    "            nn.BatchNorm1d(64),\n",
    "        )\n",
    "\n",
    "        self.rnn = nn.LSTM(input_size=64,\n",
    "                           hidden_size=64,\n",
    "                           num_layers=8,\n",
    "                           batch_first=True,\n",
    "                           dropout=0,\n",
    "                           bidirectional=True)\n",
    "\n",
    "        self.fc = nn.Linear(128, 3)\n",
    "\n",
    "    def forward(self, x):\n",
    "        x = x.transpose(1, 2)  # B, 48, 6 --> B, 6, 48\n",
    "        x = self.conv_in(x)  # B, 64, 48\n",
    "        x = x.transpose(1, 2)  # B, 48, 64\n",
    "\n",
    "        outs, (hiddens, cells) = self.rnn(x)\n",
    "        x = outs[:, -1, ...]\n",
    "        x = self.fc(x)\n",
    "\n",
    "        return x"
   ]
  },
  {
   "cell_type": "code",
   "execution_count": 13,
   "metadata": {},
   "outputs": [],
   "source": [
    "model = CLSTM().cuda()"
   ]
  },
  {
   "cell_type": "code",
   "execution_count": 14,
   "metadata": {},
   "outputs": [],
   "source": [
    "criterion = nn.MSELoss().cuda()\n",
    "optimizer = torch_optimizer.RAdam(model.parameters())"
   ]
  },
  {
   "cell_type": "code",
   "execution_count": 15,
   "metadata": {},
   "outputs": [],
   "source": [
    "class HPSignalHistory(tb.metrics.InvisibleMetric):\n",
    "    def __init__(self, filepath: AnyStr, name: str, verbose=True):\n",
    "        super(HPSignalHistory, self).__init__(name=name, mode='min')\n",
    "\n",
    "        self.filepath = Path(filepath)\n",
    "        self.filepath.parent.mkdir(parents=True, exist_ok=True)\n",
    "        self.verbose = verbose\n",
    "\n",
    "        self.on_valid = False\n",
    "        self.target_signals = []\n",
    "        self.out_signals = []\n",
    "\n",
    "    def on_valid_epoch_begin(self, epoch: int):\n",
    "        self.on_valid = True\n",
    "\n",
    "        self.target_signals.clear()\n",
    "        self.out_signals.clear()\n",
    "\n",
    "    def on_valid_epoch_end(self, epoch: int, logs: dict):\n",
    "        # 짧은 신호 단락을 3개의 신호 뭉치로 합치기\n",
    "        target_signals = torch.cat(self.target_signals).transpose(0, 1)\n",
    "        out_signals = torch.cat(self.out_signals).transpose(0, 1)\n",
    "        \n",
    "        # denormalize\n",
    "        target_signals[0] *= 10\n",
    "        out_signals[0] *= 10\n",
    "\n",
    "        # pickle 파일로 저장\n",
    "        signals = torch.cat([target_signals, out_signals], dim=0).numpy()\n",
    "        filepath = str(self.filepath).format(epoch=epoch, **logs)\n",
    "        if self.verbose:\n",
    "            print('Save output signals into', filepath)\n",
    "        np.save(filepath, signals)\n",
    "\n",
    "        # clear\n",
    "        self.on_valid = False\n",
    "\n",
    "        self.target_signals.clear()\n",
    "        self.out_signals.clear()\n",
    "\n",
    "    def get_value(self, outputs: torch.Tensor, targets: torch.Tensor, is_train: bool):\n",
    "        if not is_train:\n",
    "            self.target_signals.append(targets.detach().cpu())\n",
    "            self.out_signals.append(outputs.detach().cpu())"
   ]
  },
  {
   "cell_type": "code",
   "execution_count": 16,
   "metadata": {},
   "outputs": [],
   "source": [
    "class HPMetric(tb.metrics.InvisibleMetric):\n",
    "    def __init__(self, name: str):\n",
    "        super(HPMetric, self).__init__(name)\n",
    "\n",
    "        self.diff = []\n",
    "\n",
    "    def on_valid_epoch_end(self, epoch: int, logs: dict):\n",
    "        # RMS, 99% tile 출력\n",
    "        yaw_v, pitch_v, roll_v, rms_v, tile99_v = self._calc_values(self.diff)\n",
    "\n",
    "        print(f'                  validation')\n",
    "        print(f' - Yaw          : {yaw_v:10f}')\n",
    "        print(f' - Pitch        : {pitch_v:10f}')\n",
    "        print(f' - Roll         : {roll_v:10f}')\n",
    "        print(f' - RMS          : {rms_v:10f}')\n",
    "        print(f' - 99% Tile     : {tile99_v:10f}')\n",
    "\n",
    "        self.diff.clear()\n",
    "\n",
    "    def get_value(self, outputs: torch.Tensor, targets: torch.Tensor, is_train: bool):\n",
    "        if not is_train:\n",
    "            self.diff.append((outputs - targets).cpu())  # (B, 3)\n",
    "\n",
    "    @staticmethod\n",
    "    def _calc_values(diff):\n",
    "        diff = torch.cat(diff).abs_()  # (D, 3)\n",
    "        diff[:, 0] *= 10\n",
    "        rms = (diff.square().sum(1) / 3).sqrt()\n",
    "        tile = rms.flatten().numpy()\n",
    "        tile99 = np.percentile(tile, 99)\n",
    "        \n",
    "        mrms = rms.mean()\n",
    "        \n",
    "        # diff = radian2degree(diff)\n",
    "        #tile = diff.flatten().numpy()\n",
    "        #tile99 = np.percentile(tile, 99)\n",
    "\n",
    "        mdiff = diff.mean(dim=0)\n",
    "        #rms = (mdiff.square().sum() / 3).sqrt()\n",
    "\n",
    "        return mdiff[0].item(), mdiff[1].item(), mdiff[2].item(), mrms.item(), tile99"
   ]
  },
  {
   "cell_type": "code",
   "execution_count": 17,
   "metadata": {},
   "outputs": [],
   "source": [
    "metrics = [tb.metrics.ModuleMetric(criterion, 'loss'),\n",
    "           HPMetric('hp_metric'),\n",
    "           HPSignalHistory(CHECKPOINT_DIR / 'sample' / '{epoch:04d}.npy', 'hp_signal', verbose=False)]"
   ]
  },
  {
   "cell_type": "code",
   "execution_count": 18,
   "metadata": {},
   "outputs": [],
   "source": [
    "callbacks = [tb.callbacks.EarlyStopping(metrics[0]),\n",
    "             tb.callbacks.LRDecaying(optimizer, metrics[0], patience=3)]"
   ]
  },
  {
   "cell_type": "code",
   "execution_count": 19,
   "metadata": {},
   "outputs": [],
   "source": [
    "trainer = tb.Trainer(model, optimizer, metrics, callbacks, ncols=100)"
   ]
  },
  {
   "cell_type": "code",
   "execution_count": 20,
   "metadata": {},
   "outputs": [
    {
     "name": "stderr",
     "output_type": "stream",
     "text": [
      "[0001/0200] Train: 100%|██████████████████████████████| 44/44 [00:04<00:00, 10.56it/s, loss 46.7800]\n",
      "[0001/0200] Validation: 100%|█████████████████████| 42/42 [00:02<00:00, 19.62it/s, val_loss 53.0579]\n",
      "[0002/0200] Train:   0%|                                                     | 0/44 [00:00<?, ?it/s]"
     ]
    },
    {
     "name": "stdout",
     "output_type": "stream",
     "text": [
      "                  validation\n",
      " - Yaw          :  19.696812\n",
      " - Pitch        :  10.597840\n",
      " - Roll         :   2.600453\n",
      " - RMS          :  13.953793\n",
      " - 99% Tile     :  28.820593\n"
     ]
    },
    {
     "name": "stderr",
     "output_type": "stream",
     "text": [
      "[0002/0200] Train: 100%|██████████████████████████████| 44/44 [00:04<00:00, 10.52it/s, loss 38.2975]\n",
      "[0002/0200] Validation: 100%|█████████████████████| 42/42 [00:02<00:00, 19.66it/s, val_loss 34.0978]\n",
      "[0003/0200] Train:   0%|                                                     | 0/44 [00:00<?, ?it/s]"
     ]
    },
    {
     "name": "stdout",
     "output_type": "stream",
     "text": [
      "                  validation\n",
      " - Yaw          :  19.637465\n",
      " - Pitch        :   7.670982\n",
      " - Roll         :   2.727445\n",
      " - RMS          :  13.139750\n",
      " - 99% Tile     :  29.062006\n"
     ]
    },
    {
     "name": "stderr",
     "output_type": "stream",
     "text": [
      "[0003/0200] Train: 100%|██████████████████████████████| 44/44 [00:04<00:00, 10.72it/s, loss 23.5761]\n",
      "[0003/0200] Validation: 100%|█████████████████████| 42/42 [00:02<00:00, 19.56it/s, val_loss 23.3539]\n",
      "[0004/0200] Train:   0%|                                                     | 0/44 [00:00<?, ?it/s]"
     ]
    },
    {
     "name": "stdout",
     "output_type": "stream",
     "text": [
      "                  validation\n",
      " - Yaw          :  19.610697\n",
      " - Pitch        :   5.699558\n",
      " - Roll         :   2.656619\n",
      " - RMS          :  12.578283\n",
      " - 99% Tile     :  28.466774\n"
     ]
    },
    {
     "name": "stderr",
     "output_type": "stream",
     "text": [
      "[0004/0200] Train: 100%|██████████████████████████████| 44/44 [00:04<00:00, 10.52it/s, loss 18.9148]\n",
      "[0004/0200] Validation: 100%|█████████████████████| 42/42 [00:02<00:00, 20.02it/s, val_loss 20.0007]\n",
      "[0005/0200] Train:   0%|                                                     | 0/44 [00:00<?, ?it/s]"
     ]
    },
    {
     "name": "stdout",
     "output_type": "stream",
     "text": [
      "                  validation\n",
      " - Yaw          :  19.646748\n",
      " - Pitch        :   4.930261\n",
      " - Roll         :   2.634982\n",
      " - RMS          :  12.412158\n",
      " - 99% Tile     :  28.373600\n"
     ]
    },
    {
     "name": "stderr",
     "output_type": "stream",
     "text": [
      "[0005/0200] Train: 100%|██████████████████████████████| 44/44 [00:04<00:00, 10.67it/s, loss 16.6794]\n",
      "[0005/0200] Validation: 100%|█████████████████████| 42/42 [00:02<00:00, 20.02it/s, val_loss 17.4758]\n",
      "[0006/0200] Train:   0%|                                                     | 0/44 [00:00<?, ?it/s]"
     ]
    },
    {
     "name": "stdout",
     "output_type": "stream",
     "text": [
      "                  validation\n",
      " - Yaw          :  19.577871\n",
      " - Pitch        :   4.053774\n",
      " - Roll         :   2.690062\n",
      " - RMS          :  12.242059\n",
      " - 99% Tile     :  28.727795\n"
     ]
    },
    {
     "name": "stderr",
     "output_type": "stream",
     "text": [
      "[0006/0200] Train: 100%|██████████████████████████████| 44/44 [00:04<00:00, 10.57it/s, loss 14.2241]\n",
      "[0006/0200] Validation: 100%|█████████████████████| 42/42 [00:02<00:00, 20.03it/s, val_loss 15.2066]\n",
      "[0007/0200] Train:   0%|                                                     | 0/44 [00:00<?, ?it/s]"
     ]
    },
    {
     "name": "stdout",
     "output_type": "stream",
     "text": [
      "                  validation\n",
      " - Yaw          :  19.617352\n",
      " - Pitch        :   3.463121\n",
      " - Roll         :   2.676788\n",
      " - RMS          :  12.127807\n",
      " - 99% Tile     :  28.506943\n"
     ]
    },
    {
     "name": "stderr",
     "output_type": "stream",
     "text": [
      "[0007/0200] Train: 100%|██████████████████████████████| 44/44 [00:04<00:00, 10.57it/s, loss 12.4836]\n",
      "[0007/0200] Validation: 100%|█████████████████████| 42/42 [00:02<00:00, 19.54it/s, val_loss 12.9047]\n",
      "[0008/0200] Train:   0%|                                                     | 0/44 [00:00<?, ?it/s]"
     ]
    },
    {
     "name": "stdout",
     "output_type": "stream",
     "text": [
      "                  validation\n",
      " - Yaw          :  19.707653\n",
      " - Pitch        :   2.824584\n",
      " - Roll         :   2.642104\n",
      " - RMS          :  12.053176\n",
      " - 99% Tile     :  28.374069\n"
     ]
    },
    {
     "name": "stderr",
     "output_type": "stream",
     "text": [
      "[0008/0200] Train: 100%|██████████████████████████████| 44/44 [00:04<00:00, 10.52it/s, loss 10.6450]\n",
      "[0008/0200] Validation: 100%|█████████████████████| 42/42 [00:02<00:00, 19.56it/s, val_loss 10.4191]\n",
      "[0009/0200] Train:   0%|                                                     | 0/44 [00:00<?, ?it/s]"
     ]
    },
    {
     "name": "stdout",
     "output_type": "stream",
     "text": [
      "                  validation\n",
      " - Yaw          :  19.949932\n",
      " - Pitch        :   2.425043\n",
      " - Roll         :   2.566049\n",
      " - RMS          :  12.050428\n",
      " - 99% Tile     :  28.934673\n"
     ]
    },
    {
     "name": "stderr",
     "output_type": "stream",
     "text": [
      "[0009/0200] Train: 100%|███████████████████████████████| 44/44 [00:04<00:00, 10.39it/s, loss 9.1239]\n",
      "[0009/0200] Validation: 100%|██████████████████████| 42/42 [00:02<00:00, 20.29it/s, val_loss 8.4780]\n",
      "[0010/0200] Train:   0%|                                                     | 0/44 [00:00<?, ?it/s]"
     ]
    },
    {
     "name": "stdout",
     "output_type": "stream",
     "text": [
      "                  validation\n",
      " - Yaw          :  19.391380\n",
      " - Pitch        :   2.238928\n",
      " - Roll         :   2.172597\n",
      " - RMS          :  11.629928\n",
      " - 99% Tile     :  27.742649\n"
     ]
    },
    {
     "name": "stderr",
     "output_type": "stream",
     "text": [
      "[0010/0200] Train: 100%|███████████████████████████████| 44/44 [00:04<00:00, 10.57it/s, loss 7.5661]\n",
      "[0010/0200] Validation: 100%|██████████████████████| 42/42 [00:02<00:00, 19.04it/s, val_loss 6.7633]\n",
      "[0011/0200] Train:   0%|                                                     | 0/44 [00:00<?, ?it/s]"
     ]
    },
    {
     "name": "stdout",
     "output_type": "stream",
     "text": [
      "                  validation\n",
      " - Yaw          :  17.280630\n",
      " - Pitch        :   1.870674\n",
      " - Roll         :   1.842572\n",
      " - RMS          :  10.345141\n",
      " - 99% Tile     :  27.389620\n"
     ]
    },
    {
     "name": "stderr",
     "output_type": "stream",
     "text": [
      "[0011/0200] Train: 100%|███████████████████████████████| 44/44 [00:05<00:00,  8.11it/s, loss 6.4994]\n",
      "[0011/0200] Validation: 100%|██████████████████████| 42/42 [00:03<00:00, 12.93it/s, val_loss 6.3146]\n",
      "[0012/0200] Train:   0%|                                                     | 0/44 [00:00<?, ?it/s]"
     ]
    },
    {
     "name": "stdout",
     "output_type": "stream",
     "text": [
      "                  validation\n",
      " - Yaw          :  15.916616\n",
      " - Pitch        :   1.972872\n",
      " - Roll         :   1.761218\n",
      " - RMS          :   9.578070\n",
      " - 99% Tile     :  28.110908\n"
     ]
    },
    {
     "name": "stderr",
     "output_type": "stream",
     "text": [
      "[0012/0200] Train: 100%|███████████████████████████████| 44/44 [00:05<00:00,  7.82it/s, loss 5.9910]\n",
      "[0012/0200] Validation: 100%|██████████████████████| 42/42 [00:02<00:00, 15.74it/s, val_loss 5.5376]\n",
      "[0013/0200] Train:   0%|                                                     | 0/44 [00:00<?, ?it/s]"
     ]
    },
    {
     "name": "stdout",
     "output_type": "stream",
     "text": [
      "                  validation\n",
      " - Yaw          :  14.927893\n",
      " - Pitch        :   1.726376\n",
      " - Roll         :   1.681892\n",
      " - RMS          :   8.968027\n",
      " - 99% Tile     :  27.142586\n"
     ]
    },
    {
     "name": "stderr",
     "output_type": "stream",
     "text": [
      "[0013/0200] Train: 100%|███████████████████████████████| 44/44 [00:06<00:00,  7.20it/s, loss 5.2679]\n",
      "[0013/0200] Validation: 100%|██████████████████████| 42/42 [00:03<00:00, 12.90it/s, val_loss 5.0321]\n",
      "[0014/0200] Train:   0%|                                                     | 0/44 [00:00<?, ?it/s]"
     ]
    },
    {
     "name": "stdout",
     "output_type": "stream",
     "text": [
      "                  validation\n",
      " - Yaw          :  13.244225\n",
      " - Pitch        :   1.826113\n",
      " - Roll         :   1.460217\n",
      " - RMS          :   7.984167\n",
      " - 99% Tile     :  26.199916\n"
     ]
    },
    {
     "name": "stderr",
     "output_type": "stream",
     "text": [
      "[0014/0200] Train: 100%|███████████████████████████████| 44/44 [00:05<00:00,  7.50it/s, loss 4.8771]\n",
      "[0014/0200] Validation: 100%|██████████████████████| 42/42 [00:02<00:00, 14.46it/s, val_loss 4.6889]\n",
      "[0015/0200] Train:   0%|                                                     | 0/44 [00:00<?, ?it/s]"
     ]
    },
    {
     "name": "stdout",
     "output_type": "stream",
     "text": [
      "                  validation\n",
      " - Yaw          :  11.841376\n",
      " - Pitch        :   1.731865\n",
      " - Roll         :   1.481772\n",
      " - RMS          :   7.178618\n",
      " - 99% Tile     :  24.579573\n"
     ]
    },
    {
     "name": "stderr",
     "output_type": "stream",
     "text": [
      "[0015/0200] Train: 100%|███████████████████████████████| 44/44 [00:05<00:00,  7.35it/s, loss 4.3376]\n",
      "[0015/0200] Validation: 100%|██████████████████████| 42/42 [00:02<00:00, 14.24it/s, val_loss 4.1716]\n",
      "[0016/0200] Train:   0%|                                                     | 0/44 [00:00<?, ?it/s]"
     ]
    },
    {
     "name": "stdout",
     "output_type": "stream",
     "text": [
      "                  validation\n",
      " - Yaw          :  10.765279\n",
      " - Pitch        :   1.707440\n",
      " - Roll         :   1.311726\n",
      " - RMS          :   6.547142\n",
      " - 99% Tile     :  22.952748\n"
     ]
    },
    {
     "name": "stderr",
     "output_type": "stream",
     "text": [
      "[0016/0200] Train: 100%|███████████████████████████████| 44/44 [00:05<00:00,  7.63it/s, loss 4.0147]\n",
      "[0016/0200] Validation: 100%|██████████████████████| 42/42 [00:03<00:00, 12.61it/s, val_loss 4.1209]\n",
      "[0017/0200] Train:   0%|                                                     | 0/44 [00:00<?, ?it/s]"
     ]
    },
    {
     "name": "stdout",
     "output_type": "stream",
     "text": [
      "                  validation\n",
      " - Yaw          :   9.975839\n",
      " - Pitch        :   1.498036\n",
      " - Roll         :   1.558859\n",
      " - RMS          :   6.111451\n",
      " - 99% Tile     :  22.125347\n"
     ]
    },
    {
     "name": "stderr",
     "output_type": "stream",
     "text": [
      "[0017/0200] Train: 100%|███████████████████████████████| 44/44 [00:05<00:00,  7.67it/s, loss 3.5484]\n",
      "[0017/0200] Validation: 100%|██████████████████████| 42/42 [00:02<00:00, 14.77it/s, val_loss 3.5241]\n",
      "[0018/0200] Train:   0%|                                                     | 0/44 [00:00<?, ?it/s]"
     ]
    },
    {
     "name": "stdout",
     "output_type": "stream",
     "text": [
      "                  validation\n",
      " - Yaw          :   9.632856\n",
      " - Pitch        :   1.427333\n",
      " - Roll         :   1.156123\n",
      " - RMS          :   5.849945\n",
      " - 99% Tile     :  21.683270\n"
     ]
    },
    {
     "name": "stderr",
     "output_type": "stream",
     "text": [
      "[0018/0200] Train: 100%|███████████████████████████████| 44/44 [00:06<00:00,  7.26it/s, loss 3.3761]\n",
      "[0018/0200] Validation: 100%|██████████████████████| 42/42 [00:03<00:00, 13.74it/s, val_loss 3.9188]\n",
      "[0019/0200] Train:   0%|                                                     | 0/44 [00:00<?, ?it/s]"
     ]
    },
    {
     "name": "stdout",
     "output_type": "stream",
     "text": [
      "val_loss is not improved for 1 epochs\n",
      "                  validation\n",
      " - Yaw          :   8.260698\n",
      " - Pitch        :   2.002811\n",
      " - Roll         :   1.005773\n",
      " - RMS          :   5.196501\n",
      " - 99% Tile     :  19.956272\n"
     ]
    },
    {
     "name": "stderr",
     "output_type": "stream",
     "text": [
      "[0019/0200] Train: 100%|███████████████████████████████| 44/44 [00:05<00:00,  7.77it/s, loss 3.0838]\n",
      "[0019/0200] Validation: 100%|██████████████████████| 42/42 [00:02<00:00, 15.33it/s, val_loss 3.2883]\n",
      "[0020/0200] Train:   0%|                                                     | 0/44 [00:00<?, ?it/s]"
     ]
    },
    {
     "name": "stdout",
     "output_type": "stream",
     "text": [
      "                  validation\n",
      " - Yaw          :   7.719571\n",
      " - Pitch        :   1.439705\n",
      " - Roll         :   1.031431\n",
      " - RMS          :   4.780970\n",
      " - 99% Tile     :  18.797799\n"
     ]
    },
    {
     "name": "stderr",
     "output_type": "stream",
     "text": [
      "[0020/0200] Train: 100%|███████████████████████████████| 44/44 [00:05<00:00,  7.67it/s, loss 2.9785]\n",
      "[0020/0200] Validation: 100%|██████████████████████| 42/42 [00:03<00:00, 13.70it/s, val_loss 3.1598]\n",
      "[0021/0200] Train:   0%|                                                     | 0/44 [00:00<?, ?it/s]"
     ]
    },
    {
     "name": "stdout",
     "output_type": "stream",
     "text": [
      "                  validation\n",
      " - Yaw          :   8.064406\n",
      " - Pitch        :   1.472895\n",
      " - Roll         :   1.012216\n",
      " - RMS          :   4.973153\n",
      " - 99% Tile     :  17.930965\n"
     ]
    },
    {
     "name": "stderr",
     "output_type": "stream",
     "text": [
      "[0021/0200] Train: 100%|███████████████████████████████| 44/44 [00:05<00:00,  7.94it/s, loss 2.7320]\n",
      "[0021/0200] Validation: 100%|██████████████████████| 42/42 [00:02<00:00, 15.42it/s, val_loss 2.9898]\n",
      "[0022/0200] Train:   0%|                                                     | 0/44 [00:00<?, ?it/s]"
     ]
    },
    {
     "name": "stdout",
     "output_type": "stream",
     "text": [
      "                  validation\n",
      " - Yaw          :   7.785781\n",
      " - Pitch        :   1.322278\n",
      " - Roll         :   1.084612\n",
      " - RMS          :   4.797681\n",
      " - 99% Tile     :  19.051619\n"
     ]
    },
    {
     "name": "stderr",
     "output_type": "stream",
     "text": [
      "[0022/0200] Train: 100%|███████████████████████████████| 44/44 [00:05<00:00,  7.81it/s, loss 2.6093]\n",
      "[0022/0200] Validation: 100%|██████████████████████| 42/42 [00:03<00:00, 13.41it/s, val_loss 2.8835]\n",
      "[0023/0200] Train:   0%|                                                     | 0/44 [00:00<?, ?it/s]"
     ]
    },
    {
     "name": "stdout",
     "output_type": "stream",
     "text": [
      "                  validation\n",
      " - Yaw          :   6.808876\n",
      " - Pitch        :   1.457013\n",
      " - Roll         :   0.907461\n",
      " - RMS          :   4.240284\n",
      " - 99% Tile     :  18.480913\n"
     ]
    },
    {
     "name": "stderr",
     "output_type": "stream",
     "text": [
      "[0023/0200] Train: 100%|███████████████████████████████| 44/44 [00:05<00:00,  7.91it/s, loss 2.4293]\n",
      "[0023/0200] Validation: 100%|██████████████████████| 42/42 [00:02<00:00, 16.15it/s, val_loss 2.7673]\n",
      "[0024/0200] Train:   0%|                                                     | 0/44 [00:00<?, ?it/s]"
     ]
    },
    {
     "name": "stdout",
     "output_type": "stream",
     "text": [
      "                  validation\n",
      " - Yaw          :   6.867689\n",
      " - Pitch        :   1.334751\n",
      " - Roll         :   0.920591\n",
      " - RMS          :   4.261889\n",
      " - 99% Tile     :  18.145716\n"
     ]
    },
    {
     "name": "stderr",
     "output_type": "stream",
     "text": [
      "[0024/0200] Train: 100%|███████████████████████████████| 44/44 [00:06<00:00,  7.11it/s, loss 2.4493]\n",
      "[0024/0200] Validation: 100%|██████████████████████| 42/42 [00:03<00:00, 12.61it/s, val_loss 2.7501]\n",
      "[0025/0200] Train:   0%|                                                     | 0/44 [00:00<?, ?it/s]"
     ]
    },
    {
     "name": "stdout",
     "output_type": "stream",
     "text": [
      "                  validation\n",
      " - Yaw          :   6.240434\n",
      " - Pitch        :   1.379064\n",
      " - Roll         :   0.879460\n",
      " - RMS          :   3.916698\n",
      " - 99% Tile     :  17.709591\n"
     ]
    },
    {
     "name": "stderr",
     "output_type": "stream",
     "text": [
      "[0025/0200] Train: 100%|███████████████████████████████| 44/44 [00:05<00:00,  8.01it/s, loss 2.2753]\n",
      "[0025/0200] Validation: 100%|██████████████████████| 42/42 [00:02<00:00, 15.57it/s, val_loss 2.8873]\n",
      "[0026/0200] Train:   0%|                                                     | 0/44 [00:00<?, ?it/s]"
     ]
    },
    {
     "name": "stdout",
     "output_type": "stream",
     "text": [
      "val_loss is not improved for 1 epochs\n",
      "                  validation\n",
      " - Yaw          :   6.428417\n",
      " - Pitch        :   1.402115\n",
      " - Roll         :   0.888237\n",
      " - RMS          :   4.049973\n",
      " - 99% Tile     :  18.515145\n"
     ]
    },
    {
     "name": "stderr",
     "output_type": "stream",
     "text": [
      "[0026/0200] Train: 100%|███████████████████████████████| 44/44 [00:06<00:00,  7.17it/s, loss 2.2916]\n",
      "[0026/0200] Validation: 100%|██████████████████████| 42/42 [00:02<00:00, 14.60it/s, val_loss 2.7077]\n",
      "[0027/0200] Train:   0%|                                                     | 0/44 [00:00<?, ?it/s]"
     ]
    },
    {
     "name": "stdout",
     "output_type": "stream",
     "text": [
      "                  validation\n",
      " - Yaw          :   6.447549\n",
      " - Pitch        :   1.291646\n",
      " - Roll         :   0.903136\n",
      " - RMS          :   4.026202\n",
      " - 99% Tile     :  18.434270\n"
     ]
    },
    {
     "name": "stderr",
     "output_type": "stream",
     "text": [
      "[0027/0200] Train: 100%|███████████████████████████████| 44/44 [00:05<00:00,  7.44it/s, loss 2.0423]\n",
      "[0027/0200] Validation: 100%|██████████████████████| 42/42 [00:03<00:00, 12.70it/s, val_loss 2.6558]\n",
      "[0028/0200] Train:   0%|                                                     | 0/44 [00:00<?, ?it/s]"
     ]
    },
    {
     "name": "stdout",
     "output_type": "stream",
     "text": [
      "                  validation\n",
      " - Yaw          :   5.957711\n",
      " - Pitch        :   1.366110\n",
      " - Roll         :   0.840976\n",
      " - RMS          :   3.751656\n",
      " - 99% Tile     :  17.230691\n"
     ]
    },
    {
     "name": "stderr",
     "output_type": "stream",
     "text": [
      "[0028/0200] Train: 100%|███████████████████████████████| 44/44 [00:06<00:00,  7.31it/s, loss 2.0191]\n",
      "[0028/0200] Validation: 100%|██████████████████████| 42/42 [00:03<00:00, 13.98it/s, val_loss 2.7559]\n",
      "[0029/0200] Train:   0%|                                                     | 0/44 [00:00<?, ?it/s]"
     ]
    },
    {
     "name": "stdout",
     "output_type": "stream",
     "text": [
      "val_loss is not improved for 1 epochs\n",
      "                  validation\n",
      " - Yaw          :   6.437324\n",
      " - Pitch        :   1.438769\n",
      " - Roll         :   0.875818\n",
      " - RMS          :   4.052877\n",
      " - 99% Tile     :  16.734573\n"
     ]
    },
    {
     "name": "stderr",
     "output_type": "stream",
     "text": [
      "[0029/0200] Train: 100%|███████████████████████████████| 44/44 [00:05<00:00,  7.40it/s, loss 1.9198]\n",
      "[0029/0200] Validation: 100%|██████████████████████| 42/42 [00:03<00:00, 12.36it/s, val_loss 2.6353]\n",
      "[0030/0200] Train:   0%|                                                     | 0/44 [00:00<?, ?it/s]"
     ]
    },
    {
     "name": "stdout",
     "output_type": "stream",
     "text": [
      "                  validation\n",
      " - Yaw          :   5.997042\n",
      " - Pitch        :   1.325327\n",
      " - Roll         :   0.861560\n",
      " - RMS          :   3.783371\n",
      " - 99% Tile     :  17.567409\n"
     ]
    },
    {
     "name": "stderr",
     "output_type": "stream",
     "text": [
      "[0030/0200] Train: 100%|███████████████████████████████| 44/44 [00:05<00:00,  7.45it/s, loss 1.9818]\n",
      "[0030/0200] Validation: 100%|██████████████████████| 42/42 [00:02<00:00, 15.11it/s, val_loss 2.7125]\n",
      "[0031/0200] Train:   0%|                                                     | 0/44 [00:00<?, ?it/s]"
     ]
    },
    {
     "name": "stdout",
     "output_type": "stream",
     "text": [
      "val_loss is not improved for 1 epochs\n",
      "                  validation\n",
      " - Yaw          :   6.141214\n",
      " - Pitch        :   1.437533\n",
      " - Roll         :   0.906297\n",
      " - RMS          :   3.894217\n",
      " - 99% Tile     :  16.805963\n"
     ]
    },
    {
     "name": "stderr",
     "output_type": "stream",
     "text": [
      "[0031/0200] Train: 100%|███████████████████████████████| 44/44 [00:05<00:00,  7.37it/s, loss 1.8522]\n",
      "[0031/0200] Validation: 100%|██████████████████████| 42/42 [00:03<00:00, 13.50it/s, val_loss 2.8163]\n",
      "[0032/0200] Train:   0%|                                                     | 0/44 [00:00<?, ?it/s]"
     ]
    },
    {
     "name": "stdout",
     "output_type": "stream",
     "text": [
      "val_loss is not improved for 2 epochs\n",
      "                  validation\n",
      " - Yaw          :   6.168808\n",
      " - Pitch        :   1.333652\n",
      " - Roll         :   1.135571\n",
      " - RMS          :   3.910296\n",
      " - 99% Tile     :  17.214708\n"
     ]
    },
    {
     "name": "stderr",
     "output_type": "stream",
     "text": [
      "[0032/0200] Train: 100%|███████████████████████████████| 44/44 [00:05<00:00,  7.96it/s, loss 1.8856]\n",
      "[0032/0200] Validation: 100%|██████████████████████| 42/42 [00:02<00:00, 15.69it/s, val_loss 2.7243]\n",
      "[0033/0200] Train:   0%|                                                     | 0/44 [00:00<?, ?it/s]"
     ]
    },
    {
     "name": "stdout",
     "output_type": "stream",
     "text": [
      "Decaying lr from 0.001 to 0.0005 because val_loss did not improved for 3 epochs\n",
      "val_loss is not improved for 3 epochs\n",
      "                  validation\n",
      " - Yaw          :   6.325024\n",
      " - Pitch        :   1.353509\n",
      " - Roll         :   0.844008\n",
      " - RMS          :   3.966889\n",
      " - 99% Tile     :  16.986687\n"
     ]
    },
    {
     "name": "stderr",
     "output_type": "stream",
     "text": [
      "[0033/0200] Train: 100%|███████████████████████████████| 44/44 [00:05<00:00,  7.61it/s, loss 1.6265]\n",
      "[0033/0200] Validation: 100%|██████████████████████| 42/42 [00:03<00:00, 13.80it/s, val_loss 2.5385]\n",
      "[0034/0200] Train:   0%|                                                     | 0/44 [00:00<?, ?it/s]"
     ]
    },
    {
     "name": "stdout",
     "output_type": "stream",
     "text": [
      "                  validation\n",
      " - Yaw          :   5.899003\n",
      " - Pitch        :   1.293518\n",
      " - Roll         :   0.822821\n",
      " - RMS          :   3.707834\n",
      " - 99% Tile     :  16.678195\n"
     ]
    },
    {
     "name": "stderr",
     "output_type": "stream",
     "text": [
      "[0034/0200] Train: 100%|███████████████████████████████| 44/44 [00:05<00:00,  7.86it/s, loss 1.5410]\n",
      "[0034/0200] Validation: 100%|██████████████████████| 42/42 [00:02<00:00, 17.08it/s, val_loss 2.4962]\n",
      "[0035/0200] Train:   0%|                                                     | 0/44 [00:00<?, ?it/s]"
     ]
    },
    {
     "name": "stdout",
     "output_type": "stream",
     "text": [
      "                  validation\n",
      " - Yaw          :   5.674363\n",
      " - Pitch        :   1.254773\n",
      " - Roll         :   0.826321\n",
      " - RMS          :   3.580219\n",
      " - 99% Tile     :  17.596529\n"
     ]
    },
    {
     "name": "stderr",
     "output_type": "stream",
     "text": [
      "[0035/0200] Train: 100%|███████████████████████████████| 44/44 [00:05<00:00,  7.36it/s, loss 1.5545]\n",
      "[0035/0200] Validation: 100%|██████████████████████| 42/42 [00:03<00:00, 12.55it/s, val_loss 2.4617]\n",
      "[0036/0200] Train:   0%|                                                     | 0/44 [00:00<?, ?it/s]"
     ]
    },
    {
     "name": "stdout",
     "output_type": "stream",
     "text": [
      "                  validation\n",
      " - Yaw          :   5.606766\n",
      " - Pitch        :   1.293459\n",
      " - Roll         :   0.782105\n",
      " - RMS          :   3.538898\n",
      " - 99% Tile     :  17.026307\n"
     ]
    },
    {
     "name": "stderr",
     "output_type": "stream",
     "text": [
      "[0036/0200] Train: 100%|███████████████████████████████| 44/44 [00:05<00:00,  7.82it/s, loss 1.5774]\n",
      "[0036/0200] Validation: 100%|██████████████████████| 42/42 [00:02<00:00, 16.36it/s, val_loss 2.5522]\n",
      "[0037/0200] Train:   0%|                                                     | 0/44 [00:00<?, ?it/s]"
     ]
    },
    {
     "name": "stdout",
     "output_type": "stream",
     "text": [
      "val_loss is not improved for 1 epochs\n",
      "                  validation\n",
      " - Yaw          :   5.348133\n",
      " - Pitch        :   1.344625\n",
      " - Roll         :   0.783481\n",
      " - RMS          :   3.408355\n",
      " - 99% Tile     :  16.744989\n"
     ]
    },
    {
     "name": "stderr",
     "output_type": "stream",
     "text": [
      "[0037/0200] Train: 100%|███████████████████████████████| 44/44 [00:05<00:00,  7.52it/s, loss 1.5237]\n",
      "[0037/0200] Validation: 100%|██████████████████████| 42/42 [00:03<00:00, 12.53it/s, val_loss 2.4947]\n",
      "[0038/0200] Train:   0%|                                                     | 0/44 [00:00<?, ?it/s]"
     ]
    },
    {
     "name": "stdout",
     "output_type": "stream",
     "text": [
      "val_loss is not improved for 2 epochs\n",
      "                  validation\n",
      " - Yaw          :   5.603022\n",
      " - Pitch        :   1.277325\n",
      " - Roll         :   0.837998\n",
      " - RMS          :   3.541901\n",
      " - 99% Tile     :  17.290944\n"
     ]
    },
    {
     "name": "stderr",
     "output_type": "stream",
     "text": [
      "[0038/0200] Train: 100%|███████████████████████████████| 44/44 [00:05<00:00,  7.99it/s, loss 1.4735]\n",
      "[0038/0200] Validation: 100%|██████████████████████| 42/42 [00:02<00:00, 15.37it/s, val_loss 2.4892]\n",
      "[0039/0200] Train:   0%|                                                     | 0/44 [00:00<?, ?it/s]"
     ]
    },
    {
     "name": "stdout",
     "output_type": "stream",
     "text": [
      "Decaying lr from 0.0005 to 0.00025 because val_loss did not improved for 3 epochs\n",
      "val_loss is not improved for 3 epochs\n",
      "                  validation\n",
      " - Yaw          :   5.520601\n",
      " - Pitch        :   1.245222\n",
      " - Roll         :   0.844906\n",
      " - RMS          :   3.494073\n",
      " - 99% Tile     :  18.039328\n"
     ]
    },
    {
     "name": "stderr",
     "output_type": "stream",
     "text": [
      "[0039/0200] Train: 100%|███████████████████████████████| 44/44 [00:06<00:00,  7.21it/s, loss 1.4307]\n",
      "[0039/0200] Validation: 100%|██████████████████████| 42/42 [00:02<00:00, 14.02it/s, val_loss 2.4755]\n",
      "[0040/0200] Train:   0%|                                                     | 0/44 [00:00<?, ?it/s]"
     ]
    },
    {
     "name": "stdout",
     "output_type": "stream",
     "text": [
      "val_loss is not improved for 4 epochs\n",
      "                  validation\n",
      " - Yaw          :   5.373557\n",
      " - Pitch        :   1.276234\n",
      " - Roll         :   0.786586\n",
      " - RMS          :   3.406515\n",
      " - 99% Tile     :  17.750224\n"
     ]
    },
    {
     "name": "stderr",
     "output_type": "stream",
     "text": [
      "[0040/0200] Train: 100%|███████████████████████████████| 44/44 [00:05<00:00,  7.50it/s, loss 1.4135]\n",
      "[0040/0200] Validation: 100%|██████████████████████| 42/42 [00:03<00:00, 12.80it/s, val_loss 2.4875]\n",
      "[0041/0200] Train:   0%|                                                     | 0/44 [00:00<?, ?it/s]"
     ]
    },
    {
     "name": "stdout",
     "output_type": "stream",
     "text": [
      "val_loss is not improved for 5 epochs\n",
      "                  validation\n",
      " - Yaw          :   5.694418\n",
      " - Pitch        :   1.267319\n",
      " - Roll         :   0.798619\n",
      " - RMS          :   3.582577\n",
      " - 99% Tile     :  19.087194\n"
     ]
    },
    {
     "name": "stderr",
     "output_type": "stream",
     "text": [
      "[0041/0200] Train: 100%|███████████████████████████████| 44/44 [00:05<00:00,  7.42it/s, loss 1.4005]\n",
      "[0041/0200] Validation: 100%|██████████████████████| 42/42 [00:02<00:00, 14.54it/s, val_loss 2.4641]\n",
      "[0042/0200] Train:   0%|                                                     | 0/44 [00:00<?, ?it/s]"
     ]
    },
    {
     "name": "stdout",
     "output_type": "stream",
     "text": [
      "Decaying lr from 0.00025 to 0.000125 because val_loss did not improved for 3 epochs\n",
      "val_loss is not improved for 6 epochs\n",
      "                  validation\n",
      " - Yaw          :   5.609741\n",
      " - Pitch        :   1.279507\n",
      " - Roll         :   0.812816\n",
      " - RMS          :   3.544085\n",
      " - 99% Tile     :  18.437789\n"
     ]
    },
    {
     "name": "stderr",
     "output_type": "stream",
     "text": [
      "[0042/0200] Train: 100%|███████████████████████████████| 44/44 [00:07<00:00,  5.95it/s, loss 1.3333]\n",
      "[0042/0200] Validation: 100%|██████████████████████| 42/42 [00:04<00:00,  8.63it/s, val_loss 2.4191]\n",
      "[0043/0200] Train:   0%|                                                     | 0/44 [00:00<?, ?it/s]"
     ]
    },
    {
     "name": "stdout",
     "output_type": "stream",
     "text": [
      "                  validation\n",
      " - Yaw          :   5.313720\n",
      " - Pitch        :   1.248988\n",
      " - Roll         :   0.781458\n",
      " - RMS          :   3.366046\n",
      " - 99% Tile     :  18.185968\n"
     ]
    },
    {
     "name": "stderr",
     "output_type": "stream",
     "text": [
      "[0043/0200] Train: 100%|███████████████████████████████| 44/44 [00:07<00:00,  5.90it/s, loss 1.2673]\n",
      "[0043/0200] Validation: 100%|██████████████████████| 42/42 [00:03<00:00, 11.87it/s, val_loss 2.4414]\n",
      "[0044/0200] Train:   0%|                                                     | 0/44 [00:00<?, ?it/s]"
     ]
    },
    {
     "name": "stdout",
     "output_type": "stream",
     "text": [
      "val_loss is not improved for 1 epochs\n",
      "                  validation\n",
      " - Yaw          :   5.420056\n",
      " - Pitch        :   1.256618\n",
      " - Roll         :   0.781194\n",
      " - RMS          :   3.423499\n",
      " - 99% Tile     :  18.374214\n"
     ]
    },
    {
     "name": "stderr",
     "output_type": "stream",
     "text": [
      "[0044/0200] Train: 100%|███████████████████████████████| 44/44 [00:07<00:00,  5.98it/s, loss 1.3092]\n",
      "[0044/0200] Validation: 100%|██████████████████████| 42/42 [00:02<00:00, 15.17it/s, val_loss 2.4816]\n",
      "[0045/0200] Train:   0%|                                                     | 0/44 [00:00<?, ?it/s]"
     ]
    },
    {
     "name": "stdout",
     "output_type": "stream",
     "text": [
      "val_loss is not improved for 2 epochs\n",
      "                  validation\n",
      " - Yaw          :   5.473085\n",
      " - Pitch        :   1.284850\n",
      " - Roll         :   0.791564\n",
      " - RMS          :   3.465139\n",
      " - 99% Tile     :  18.322849\n"
     ]
    },
    {
     "name": "stderr",
     "output_type": "stream",
     "text": [
      "[0045/0200] Train: 100%|███████████████████████████████| 44/44 [00:07<00:00,  6.24it/s, loss 1.3061]\n",
      "[0045/0200] Validation: 100%|██████████████████████| 42/42 [00:02<00:00, 14.01it/s, val_loss 2.5102]\n",
      "[0046/0200] Train:   0%|                                                     | 0/44 [00:00<?, ?it/s]"
     ]
    },
    {
     "name": "stdout",
     "output_type": "stream",
     "text": [
      "Decaying lr from 0.000125 to 6.25e-05 because val_loss did not improved for 3 epochs\n",
      "val_loss is not improved for 3 epochs\n",
      "                  validation\n",
      " - Yaw          :   5.320395\n",
      " - Pitch        :   1.278373\n",
      " - Roll         :   0.809654\n",
      " - RMS          :   3.389405\n",
      " - 99% Tile     :  18.011753\n"
     ]
    },
    {
     "name": "stderr",
     "output_type": "stream",
     "text": [
      "[0046/0200] Train: 100%|███████████████████████████████| 44/44 [00:08<00:00,  5.27it/s, loss 1.2303]\n",
      "[0046/0200] Validation: 100%|██████████████████████| 42/42 [00:04<00:00,  9.00it/s, val_loss 2.4409]\n",
      "[0047/0200] Train:   0%|                                                     | 0/44 [00:00<?, ?it/s]"
     ]
    },
    {
     "name": "stdout",
     "output_type": "stream",
     "text": [
      "val_loss is not improved for 4 epochs\n",
      "                  validation\n",
      " - Yaw          :   5.260125\n",
      " - Pitch        :   1.261824\n",
      " - Roll         :   0.776001\n",
      " - RMS          :   3.340004\n",
      " - 99% Tile     :  17.894651\n"
     ]
    },
    {
     "name": "stderr",
     "output_type": "stream",
     "text": [
      "[0047/0200] Train: 100%|███████████████████████████████| 44/44 [00:07<00:00,  5.72it/s, loss 1.2241]\n",
      "[0047/0200] Validation: 100%|██████████████████████| 42/42 [00:04<00:00, 10.12it/s, val_loss 2.4496]\n",
      "[0048/0200] Train:   0%|                                                     | 0/44 [00:00<?, ?it/s]"
     ]
    },
    {
     "name": "stdout",
     "output_type": "stream",
     "text": [
      "val_loss is not improved for 5 epochs\n",
      "                  validation\n",
      " - Yaw          :   5.255341\n",
      " - Pitch        :   1.273893\n",
      " - Roll         :   0.781475\n",
      " - RMS          :   3.340889\n",
      " - 99% Tile     :  18.268968\n"
     ]
    },
    {
     "name": "stderr",
     "output_type": "stream",
     "text": [
      "[0048/0200] Train: 100%|███████████████████████████████| 44/44 [00:07<00:00,  5.75it/s, loss 1.1934]\n",
      "[0048/0200] Validation: 100%|██████████████████████| 42/42 [00:04<00:00, 10.34it/s, val_loss 2.4739]\n",
      "[0049/0200] Train:   0%|                                                     | 0/44 [00:00<?, ?it/s]"
     ]
    },
    {
     "name": "stdout",
     "output_type": "stream",
     "text": [
      "Decaying lr from 6.25e-05 to 3.125e-05 because val_loss did not improved for 3 epochs\n",
      "val_loss is not improved for 6 epochs\n",
      "                  validation\n",
      " - Yaw          :   5.163249\n",
      " - Pitch        :   1.286150\n",
      " - Roll         :   0.797655\n",
      " - RMS          :   3.297242\n",
      " - 99% Tile     :  17.330188\n"
     ]
    },
    {
     "name": "stderr",
     "output_type": "stream",
     "text": [
      "[0049/0200] Train: 100%|███████████████████████████████| 44/44 [00:08<00:00,  5.14it/s, loss 1.2324]\n",
      "[0049/0200] Validation: 100%|██████████████████████| 42/42 [00:03<00:00, 11.64it/s, val_loss 2.4677]\n",
      "[0050/0200] Train:   0%|                                                     | 0/44 [00:00<?, ?it/s]"
     ]
    },
    {
     "name": "stdout",
     "output_type": "stream",
     "text": [
      "val_loss is not improved for 7 epochs\n",
      "                  validation\n",
      " - Yaw          :   5.199332\n",
      " - Pitch        :   1.274794\n",
      " - Roll         :   0.780714\n",
      " - RMS          :   3.313136\n",
      " - 99% Tile     :  17.616694\n"
     ]
    },
    {
     "name": "stderr",
     "output_type": "stream",
     "text": [
      "[0050/0200] Train: 100%|███████████████████████████████| 44/44 [00:08<00:00,  5.00it/s, loss 1.1859]\n",
      "[0050/0200] Validation: 100%|██████████████████████| 42/42 [00:04<00:00,  9.01it/s, val_loss 2.4689]\n",
      "[0051/0200] Train:   0%|                                                     | 0/44 [00:00<?, ?it/s]"
     ]
    },
    {
     "name": "stdout",
     "output_type": "stream",
     "text": [
      "val_loss is not improved for 8 epochs\n",
      "                  validation\n",
      " - Yaw          :   5.245181\n",
      " - Pitch        :   1.279937\n",
      " - Roll         :   0.785597\n",
      " - RMS          :   3.341288\n",
      " - 99% Tile     :  17.811425\n"
     ]
    },
    {
     "name": "stderr",
     "output_type": "stream",
     "text": [
      "[0051/0200] Train: 100%|███████████████████████████████| 44/44 [00:07<00:00,  6.23it/s, loss 1.2037]\n",
      "[0051/0200] Validation: 100%|██████████████████████| 42/42 [00:03<00:00, 11.04it/s, val_loss 2.4526]\n",
      "[0052/0200] Train:   0%|                                                     | 0/44 [00:00<?, ?it/s]"
     ]
    },
    {
     "name": "stdout",
     "output_type": "stream",
     "text": [
      "Decaying lr from 3.125e-05 to 1.5625e-05 because val_loss did not improved for 3 epochs\n",
      "val_loss is not improved for 9 epochs\n",
      "                  validation\n",
      " - Yaw          :   5.192518\n",
      " - Pitch        :   1.268609\n",
      " - Roll         :   0.786194\n",
      " - RMS          :   3.309137\n",
      " - 99% Tile     :  17.733938\n"
     ]
    },
    {
     "name": "stderr",
     "output_type": "stream",
     "text": [
      "[0052/0200] Train: 100%|███████████████████████████████| 44/44 [00:07<00:00,  5.50it/s, loss 1.1896]\n",
      "[0052/0200] Validation: 100%|██████████████████████| 42/42 [00:04<00:00,  8.85it/s, val_loss 2.4587]\n"
     ]
    },
    {
     "name": "stdout",
     "output_type": "stream",
     "text": [
      "val_loss is not improved for 10 epochs\n",
      "Stop training because val_loss did not improved for 10 epochs\n",
      "                  validation\n",
      " - Yaw          :   5.226264\n",
      " - Pitch        :   1.271575\n",
      " - Roll         :   0.786346\n",
      " - RMS          :   3.326422\n",
      " - 99% Tile     :  17.688434\n"
     ]
    }
   ],
   "source": [
    "trainer.fit(ds_train, ds_test, num_epochs=200, batch_size=256, shuffle=True, pin_memory=True)"
   ]
  },
  {
   "cell_type": "code",
   "execution_count": null,
   "metadata": {},
   "outputs": [],
   "source": []
  }
 ],
 "metadata": {
  "kernelspec": {
   "display_name": "torch",
   "language": "python",
   "name": "torch"
  },
  "language_info": {
   "codemirror_mode": {
    "name": "ipython",
    "version": 3
   },
   "file_extension": ".py",
   "mimetype": "text/x-python",
   "name": "python",
   "nbconvert_exporter": "python",
   "pygments_lexer": "ipython3",
   "version": "3.7.9"
  }
 },
 "nbformat": 4,
 "nbformat_minor": 4
}
