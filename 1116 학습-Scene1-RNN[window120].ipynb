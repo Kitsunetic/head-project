{
 "cells": [
  {
   "cell_type": "markdown",
   "metadata": {},
   "source": [
    "# 학습 방법 - Scene\n",
    "\n",
    "3개의 Scene에 대해서 각각 따로 학습\n",
    "\n",
    "user별로 학습을 하지 않는 이유는 상관관계로 보았을 때 user끼리는 달라도 scene별로는 유사점이 꽤 보였기 때문."
   ]
  },
  {
   "cell_type": "code",
   "execution_count": 1,
   "metadata": {},
   "outputs": [],
   "source": [
    "from multiprocessing import cpu_count\n",
    "from pathlib import Path\n",
    "from typing import List, Union, AnyStr\n",
    "from math import pi\n",
    "import pickle\n",
    "\n",
    "import numpy as np\n",
    "import torch\n",
    "import matplotlib.pyplot as plt\n",
    "import torch.nn as nn\n",
    "from sklearn import model_selection\n",
    "from tqdm import tqdm\n",
    "import torch_optimizer\n",
    "from torch.utils.data import Dataset\n",
    "import pandas as pd\n",
    "import random\n",
    "\n",
    "import torch_burn as tb\n",
    "import utils"
   ]
  },
  {
   "cell_type": "code",
   "execution_count": 2,
   "metadata": {},
   "outputs": [],
   "source": [
    "EXPERIMENT_NAME = 'Scene1-LSTM[Window120]'\n",
    "CHECKPOINT_DIR = Path('checkpoint', EXPERIMENT_NAME)\n",
    "CHECKPOINT_DIR.mkdir(parents=True, exist_ok=True)\n",
    "\n",
    "DATA_DIR = Path('data/1116')\n",
    "TRAIN_FILES = sorted(list(DATA_DIR.glob('*scene1_0.csv')))\n",
    "TEST_FILES = sorted(list(DATA_DIR.glob('*scene1_1.csv')))"
   ]
  },
  {
   "cell_type": "markdown",
   "metadata": {},
   "source": [
    "# 데이터셋 생성\n",
    "\n",
    "scene1에 대해서 모든 user의 데이터를 하나로 합친다."
   ]
  },
  {
   "cell_type": "code",
   "execution_count": 4,
   "metadata": {},
   "outputs": [],
   "source": [
    "WINDOW_SIZE = 120"
   ]
  },
  {
   "cell_type": "code",
   "execution_count": 5,
   "metadata": {},
   "outputs": [],
   "source": [
    "class CSVSequentialDataset(Dataset):\n",
    "    def __init__(self, csvfile,\n",
    "                 window_size=300, randomized_window_size=False,\n",
    "                 stride=30, randomized_stride=False):\n",
    "        super(CSVSequentialDataset, self).__init__()\n",
    "\n",
    "        self.xcols = ['input_orientation_yaw', 'input_orientation_pitch', 'input_orientation_roll',\n",
    "                      'acceleration_x', 'acceleration_y', 'acceleration_z']\n",
    "        self.ycols = ['input_orientation_yaw', 'input_orientation_pitch', 'input_orientation_roll']\n",
    "\n",
    "        self.csv = pd.read_csv(csvfile)\n",
    "        self.window_size = window_size\n",
    "\n",
    "        self.indexes = []\n",
    "        i = 0\n",
    "        while i <= len(self.csv) - window_size * 2:\n",
    "            if randomized_window_size:\n",
    "                self.indexes.append((i, i + random.randint(window_size // 2, window_size)))\n",
    "            else:\n",
    "                self.indexes.append((i, i + window_size))\n",
    "\n",
    "            if randomized_stride:\n",
    "                i += random.randint(1, stride)\n",
    "            else:\n",
    "                i += stride\n",
    "\n",
    "    def __len__(self):\n",
    "        return len(self.indexes)\n",
    "\n",
    "    def __getitem__(self, idx):\n",
    "        s, t = self.indexes[idx]\n",
    "        x = self.csv.iloc[s:t][self.xcols].to_numpy()\n",
    "        y = self.csv.iloc[t + 6][self.ycols].to_numpy()\n",
    "\n",
    "        x = torch.tensor(x, dtype=torch.float32) # 300, 6\n",
    "        y = torch.tensor(y, dtype=torch.float32) # 3\n",
    "        \n",
    "        #x[:, :3] *= pi / 180\n",
    "        x[:, 3:] /= 10\n",
    "\n",
    "        return x, y"
   ]
  },
  {
   "cell_type": "code",
   "execution_count": 6,
   "metadata": {},
   "outputs": [],
   "source": [
    "ds_train = [CSVSequentialDataset(f,  \n",
    "                                 window_size=WINDOW_SIZE, randomized_window_size=False,\n",
    "                                 stride=5, randomized_stride=True) for f in TRAIN_FILES]\n",
    "ds_train = tb.data.ChainDataset(*ds_train)\n",
    "ds_test = [CSVSequentialDataset(f,  \n",
    "                                window_size=WINDOW_SIZE, randomized_window_size=False,\n",
    "                                stride=5, randomized_stride=True) for f in TEST_FILES]\n",
    "ds_test = tb.data.ChainDataset(*ds_test)"
   ]
  },
  {
   "cell_type": "code",
   "execution_count": 7,
   "metadata": {},
   "outputs": [
    {
     "data": {
      "text/plain": [
       "(18155, 18746)"
      ]
     },
     "execution_count": 7,
     "metadata": {},
     "output_type": "execute_result"
    }
   ],
   "source": [
    "len(ds_train), len(ds_test)"
   ]
  },
  {
   "cell_type": "code",
   "execution_count": 8,
   "metadata": {},
   "outputs": [
    {
     "data": {
      "text/plain": [
       "(torch.Size([120, 6]), torch.Size([3]))"
      ]
     },
     "execution_count": 8,
     "metadata": {},
     "output_type": "execute_result"
    }
   ],
   "source": [
    "ds_train[0][0].shape, ds_train[0][1].shape"
   ]
  },
  {
   "cell_type": "code",
   "execution_count": 9,
   "metadata": {},
   "outputs": [],
   "source": [
    "x, y = ds_train[0]"
   ]
  },
  {
   "cell_type": "code",
   "execution_count": 10,
   "metadata": {},
   "outputs": [
    {
     "data": {
      "text/plain": [
       "torch.Size([120, 6])"
      ]
     },
     "execution_count": 10,
     "metadata": {},
     "output_type": "execute_result"
    }
   ],
   "source": [
    "x.shape"
   ]
  },
  {
   "cell_type": "code",
   "execution_count": 11,
   "metadata": {},
   "outputs": [
    {
     "data": {
      "text/plain": [
       "[<matplotlib.lines.Line2D at 0x7fd90636c350>]"
      ]
     },
     "execution_count": 11,
     "metadata": {},
     "output_type": "execute_result"
    },
    {
     "data": {
      "image/png": "[encoded data removed]",
      "text/plain": [
       "<Figure size 432x288 with 1 Axes>"
      ]
     },
     "metadata": {
      "needs_background": "light"
     },
     "output_type": "display_data"
    }
   ],
   "source": [
    "plt.plot(x[:, 2])"
   ]
  },
  {
   "cell_type": "markdown",
   "metadata": {},
   "source": [
    "# 모델 생성\n",
    "\n",
    "StackedLSTM Bidirectional"
   ]
  },
  {
   "cell_type": "code",
   "execution_count": 12,
   "metadata": {},
   "outputs": [],
   "source": [
    "model = utils.BaselineLSTM(input_size=6,\n",
    "                           hidden_size=64,\n",
    "                           num_layers=8,\n",
    "                           dropout=0.2,\n",
    "                           bidirectional=True).cuda()"
   ]
  },
  {
   "cell_type": "code",
   "execution_count": 13,
   "metadata": {},
   "outputs": [],
   "source": [
    "criterion = nn.MSELoss().cuda()\n",
    "optimizer = torch_optimizer.RAdam(model.parameters())"
   ]
  },
  {
   "cell_type": "code",
   "execution_count": 14,
   "metadata": {},
   "outputs": [],
   "source": [
    "metrics = [tb.metrics.ModuleMetric(criterion, 'loss'),\n",
    "           utils.HPMetric('hp_metric'),\n",
    "           utils.HPSignalHistory(CHECKPOINT_DIR / 'sample' / '{epoch:04d}.npy', 'hp_signal')]"
   ]
  },
  {
   "cell_type": "code",
   "execution_count": 15,
   "metadata": {},
   "outputs": [],
   "source": [
    "callbacks = [tb.callbacks.EarlyStopping(metrics[0]),\n",
    "             tb.callbacks.LRDecaying(optimizer, metrics[0])]"
   ]
  },
  {
   "cell_type": "code",
   "execution_count": 16,
   "metadata": {},
   "outputs": [],
   "source": [
    "trainer = tb.Trainer(model, optimizer, metrics, callbacks, ncols=100)"
   ]
  },
  {
   "cell_type": "code",
   "execution_count": 17,
   "metadata": {},
   "outputs": [
    {
     "name": "stderr",
     "output_type": "stream",
     "text": [
      "[0001/0100] Train: 100%|█████████████████████████████| 71/71 [00:12<00:00,  5.71it/s, loss 197.1109]\n",
      "[0001/0100] Validation: 100%|████████████████████| 74/74 [00:03<00:00, 18.86it/s, val_loss 151.5386]\n",
      "[0002/0100] Train:   0%|                                                     | 0/71 [00:00<?, ?it/s]"
     ]
    },
    {
     "name": "stdout",
     "output_type": "stream",
     "text": [
      "                  validation\n",
      " - Yaw          :   9.675684\n",
      " - Pitch        :  11.882710\n",
      " - Roll         :   3.090624\n",
      " - RMS          :   9.025328\n",
      " - 99% Tile     :  43.330399\n",
      "Save output signals into checkpoint/Scene1-LSTM[Window120]/sample/0001.npy\n"
     ]
    },
    {
     "name": "stderr",
     "output_type": "stream",
     "text": [
      "[0002/0100] Train: 100%|█████████████████████████████| 71/71 [00:13<00:00,  5.23it/s, loss 162.6813]\n",
      "[0002/0100] Validation: 100%|████████████████████| 74/74 [00:03<00:00, 18.97it/s, val_loss 117.6834]\n",
      "[0003/0100] Train:   0%|                                                     | 0/71 [00:00<?, ?it/s]"
     ]
    },
    {
     "name": "stdout",
     "output_type": "stream",
     "text": [
      "                  validation\n",
      " - Yaw          :   9.237399\n",
      " - Pitch        :   9.077845\n",
      " - Roll         :   3.084725\n",
      " - RMS          :   7.686619\n",
      " - 99% Tile     :  40.773782\n",
      "Save output signals into checkpoint/Scene1-LSTM[Window120]/sample/0002.npy\n"
     ]
    },
    {
     "name": "stderr",
     "output_type": "stream",
     "text": [
      "[0003/0100] Train: 100%|█████████████████████████████| 71/71 [00:13<00:00,  5.20it/s, loss 139.7737]\n",
      "[0003/0100] Validation: 100%|████████████████████| 74/74 [00:03<00:00, 19.18it/s, val_loss 107.6663]\n",
      "[0004/0100] Train:   0%|                                                     | 0/71 [00:00<?, ?it/s]"
     ]
    },
    {
     "name": "stdout",
     "output_type": "stream",
     "text": [
      "                  validation\n",
      " - Yaw          :   9.537920\n",
      " - Pitch        :   7.938986\n",
      " - Roll         :   3.088405\n",
      " - RMS          :   7.383262\n",
      " - 99% Tile     :  38.824084\n",
      "Save output signals into checkpoint/Scene1-LSTM[Window120]/sample/0003.npy\n"
     ]
    },
    {
     "name": "stderr",
     "output_type": "stream",
     "text": [
      "[0004/0100] Train: 100%|█████████████████████████████| 71/71 [00:13<00:00,  5.20it/s, loss 122.9928]\n",
      "[0004/0100] Validation: 100%|█████████████████████| 74/74 [00:03<00:00, 18.78it/s, val_loss 89.6570]\n",
      "[0005/0100] Train:   0%|                                                     | 0/71 [00:00<?, ?it/s]"
     ]
    },
    {
     "name": "stdout",
     "output_type": "stream",
     "text": [
      "                  validation\n",
      " - Yaw          :   8.355553\n",
      " - Pitch        :   7.407341\n",
      " - Roll         :   3.052545\n",
      " - RMS          :   6.683362\n",
      " - 99% Tile     :  34.717503\n",
      "Save output signals into checkpoint/Scene1-LSTM[Window120]/sample/0004.npy\n"
     ]
    },
    {
     "name": "stderr",
     "output_type": "stream",
     "text": [
      "[0005/0100] Train: 100%|██████████████████████████████| 71/71 [00:12<00:00,  5.48it/s, loss 98.6184]\n",
      "[0005/0100] Validation: 100%|█████████████████████| 74/74 [00:04<00:00, 17.92it/s, val_loss 68.5289]\n",
      "[0006/0100] Train:   0%|                                                     | 0/71 [00:00<?, ?it/s]"
     ]
    },
    {
     "name": "stdout",
     "output_type": "stream",
     "text": [
      "                  validation\n",
      " - Yaw          :   5.543623\n",
      " - Pitch        :   6.694583\n",
      " - Roll         :   2.988456\n",
      " - RMS          :   5.306602\n",
      " - 99% Tile     :  32.234639\n",
      "Save output signals into checkpoint/Scene1-LSTM[Window120]/sample/0005.npy\n"
     ]
    },
    {
     "name": "stderr",
     "output_type": "stream",
     "text": [
      "[0006/0100] Train: 100%|██████████████████████████████| 71/71 [00:13<00:00,  5.20it/s, loss 75.4138]\n",
      "[0006/0100] Validation: 100%|█████████████████████| 74/74 [00:03<00:00, 18.94it/s, val_loss 51.0374]\n",
      "[0007/0100] Train:   0%|                                                     | 0/71 [00:00<?, ?it/s]"
     ]
    },
    {
     "name": "stdout",
     "output_type": "stream",
     "text": [
      "                  validation\n",
      " - Yaw          :   4.309098\n",
      " - Pitch        :   4.898234\n",
      " - Roll         :   2.937449\n",
      " - RMS          :   4.130764\n",
      " - 99% Tile     :  29.168844\n",
      "Save output signals into checkpoint/Scene1-LSTM[Window120]/sample/0006.npy\n"
     ]
    },
    {
     "name": "stderr",
     "output_type": "stream",
     "text": [
      "[0007/0100] Train: 100%|██████████████████████████████| 71/71 [00:13<00:00,  5.20it/s, loss 58.2298]\n",
      "[0007/0100] Validation: 100%|█████████████████████| 74/74 [00:04<00:00, 18.50it/s, val_loss 40.4143]\n",
      "[0008/0100] Train:   0%|                                                     | 0/71 [00:00<?, ?it/s]"
     ]
    },
    {
     "name": "stdout",
     "output_type": "stream",
     "text": [
      "                  validation\n",
      " - Yaw          :   3.464226\n",
      " - Pitch        :   3.848154\n",
      " - Roll         :   2.867957\n",
      " - RMS          :   3.417325\n",
      " - 99% Tile     :  26.498051\n",
      "Save output signals into checkpoint/Scene1-LSTM[Window120]/sample/0007.npy\n"
     ]
    },
    {
     "name": "stderr",
     "output_type": "stream",
     "text": [
      "[0008/0100] Train: 100%|██████████████████████████████| 71/71 [00:13<00:00,  5.23it/s, loss 45.8681]\n",
      "[0008/0100] Validation: 100%|█████████████████████| 74/74 [00:03<00:00, 19.53it/s, val_loss 33.1137]\n",
      "[0009/0100] Train:   0%|                                                     | 0/71 [00:00<?, ?it/s]"
     ]
    },
    {
     "name": "stdout",
     "output_type": "stream",
     "text": [
      "                  validation\n",
      " - Yaw          :   3.018285\n",
      " - Pitch        :   3.162340\n",
      " - Roll         :   2.845443\n",
      " - RMS          :   3.011477\n",
      " - 99% Tile     :  24.249219\n",
      "Save output signals into checkpoint/Scene1-LSTM[Window120]/sample/0008.npy\n"
     ]
    },
    {
     "name": "stderr",
     "output_type": "stream",
     "text": [
      "[0009/0100] Train: 100%|██████████████████████████████| 71/71 [00:13<00:00,  5.23it/s, loss 37.0735]\n",
      "[0009/0100] Validation: 100%|█████████████████████| 74/74 [00:03<00:00, 18.51it/s, val_loss 28.3975]\n",
      "[0010/0100] Train:   0%|                                                     | 0/71 [00:00<?, ?it/s]"
     ]
    },
    {
     "name": "stdout",
     "output_type": "stream",
     "text": [
      "                  validation\n",
      " - Yaw          :   2.733143\n",
      " - Pitch        :   2.879727\n",
      " - Roll         :   2.880213\n",
      " - RMS          :   2.831873\n",
      " - 99% Tile     :  21.974836\n",
      "Save output signals into checkpoint/Scene1-LSTM[Window120]/sample/0009.npy\n"
     ]
    },
    {
     "name": "stderr",
     "output_type": "stream",
     "text": [
      "[0010/0100] Train: 100%|██████████████████████████████| 71/71 [00:13<00:00,  5.24it/s, loss 30.6433]\n",
      "[0010/0100] Validation: 100%|█████████████████████| 74/74 [00:03<00:00, 19.05it/s, val_loss 24.4093]\n",
      "[0011/0100] Train:   0%|                                                     | 0/71 [00:00<?, ?it/s]"
     ]
    },
    {
     "name": "stdout",
     "output_type": "stream",
     "text": [
      "                  validation\n",
      " - Yaw          :   2.415987\n",
      " - Pitch        :   2.484697\n",
      " - Roll         :   2.862357\n",
      " - RMS          :   2.595111\n",
      " - 99% Tile     :  19.984699\n",
      "Save output signals into checkpoint/Scene1-LSTM[Window120]/sample/0010.npy\n"
     ]
    },
    {
     "name": "stderr",
     "output_type": "stream",
     "text": [
      "[0011/0100] Train: 100%|██████████████████████████████| 71/71 [00:13<00:00,  5.21it/s, loss 25.1825]\n",
      "[0011/0100] Validation: 100%|█████████████████████| 74/74 [00:03<00:00, 19.05it/s, val_loss 22.1260]\n",
      "[0012/0100] Train:   0%|                                                     | 0/71 [00:00<?, ?it/s]"
     ]
    },
    {
     "name": "stdout",
     "output_type": "stream",
     "text": [
      "                  validation\n",
      " - Yaw          :   2.414919\n",
      " - Pitch        :   2.149678\n",
      " - Roll         :   2.852673\n",
      " - RMS          :   2.489357\n",
      " - 99% Tile     :  18.957480\n",
      "Save output signals into checkpoint/Scene1-LSTM[Window120]/sample/0011.npy\n"
     ]
    },
    {
     "name": "stderr",
     "output_type": "stream",
     "text": [
      "[0012/0100] Train: 100%|██████████████████████████████| 71/71 [00:12<00:00,  5.62it/s, loss 21.2516]\n",
      "[0012/0100] Validation: 100%|█████████████████████| 74/74 [00:04<00:00, 18.32it/s, val_loss 19.7417]\n",
      "[0013/0100] Train:   0%|                                                     | 0/71 [00:00<?, ?it/s]"
     ]
    },
    {
     "name": "stdout",
     "output_type": "stream",
     "text": [
      "                  validation\n",
      " - Yaw          :   2.057853\n",
      " - Pitch        :   2.020837\n",
      " - Roll         :   2.804411\n",
      " - RMS          :   2.322589\n",
      " - 99% Tile     :  18.340135\n",
      "Save output signals into checkpoint/Scene1-LSTM[Window120]/sample/0012.npy\n"
     ]
    },
    {
     "name": "stderr",
     "output_type": "stream",
     "text": [
      "[0013/0100] Train: 100%|██████████████████████████████| 71/71 [00:13<00:00,  5.21it/s, loss 17.9478]\n",
      "[0013/0100] Validation: 100%|█████████████████████| 74/74 [00:03<00:00, 19.09it/s, val_loss 17.9298]\n",
      "[0014/0100] Train:   0%|                                                     | 0/71 [00:00<?, ?it/s]"
     ]
    },
    {
     "name": "stdout",
     "output_type": "stream",
     "text": [
      "                  validation\n",
      " - Yaw          :   1.865281\n",
      " - Pitch        :   1.819246\n",
      " - Roll         :   2.842814\n",
      " - RMS          :   2.226396\n",
      " - 99% Tile     :  17.279836\n",
      "Save output signals into checkpoint/Scene1-LSTM[Window120]/sample/0013.npy\n"
     ]
    },
    {
     "name": "stderr",
     "output_type": "stream",
     "text": [
      "[0014/0100] Train: 100%|██████████████████████████████| 71/71 [00:13<00:00,  5.26it/s, loss 15.3232]\n",
      "[0014/0100] Validation: 100%|█████████████████████| 74/74 [00:03<00:00, 18.83it/s, val_loss 16.8216]\n",
      "[0015/0100] Train:   0%|                                                     | 0/71 [00:00<?, ?it/s]"
     ]
    },
    {
     "name": "stdout",
     "output_type": "stream",
     "text": [
      "                  validation\n",
      " - Yaw          :   1.804086\n",
      " - Pitch        :   1.676305\n",
      " - Roll         :   2.857406\n",
      " - RMS          :   2.177881\n",
      " - 99% Tile     :  17.048852\n",
      "Save output signals into checkpoint/Scene1-LSTM[Window120]/sample/0014.npy\n"
     ]
    },
    {
     "name": "stderr",
     "output_type": "stream",
     "text": [
      "[0015/0100] Train: 100%|██████████████████████████████| 71/71 [00:13<00:00,  5.20it/s, loss 13.2989]\n",
      "[0015/0100] Validation: 100%|█████████████████████| 74/74 [00:03<00:00, 18.96it/s, val_loss 16.0566]\n",
      "[0016/0100] Train:   0%|                                                     | 0/71 [00:00<?, ?it/s]"
     ]
    },
    {
     "name": "stdout",
     "output_type": "stream",
     "text": [
      "                  validation\n",
      " - Yaw          :   1.708716\n",
      " - Pitch        :   1.637160\n",
      " - Roll         :   2.836380\n",
      " - RMS          :   2.132687\n",
      " - 99% Tile     :  16.598174\n",
      "Save output signals into checkpoint/Scene1-LSTM[Window120]/sample/0015.npy\n"
     ]
    },
    {
     "name": "stderr",
     "output_type": "stream",
     "text": [
      "[0016/0100] Train: 100%|██████████████████████████████| 71/71 [00:13<00:00,  5.21it/s, loss 11.6296]\n",
      "[0016/0100] Validation: 100%|█████████████████████| 74/74 [00:03<00:00, 19.07it/s, val_loss 15.1840]\n",
      "[0017/0100] Train:   0%|                                                     | 0/71 [00:00<?, ?it/s]"
     ]
    },
    {
     "name": "stdout",
     "output_type": "stream",
     "text": [
      "                  validation\n",
      " - Yaw          :   1.738426\n",
      " - Pitch        :   1.534154\n",
      " - Roll         :   2.804198\n",
      " - RMS          :   2.100736\n",
      " - 99% Tile     :  16.716192\n",
      "Save output signals into checkpoint/Scene1-LSTM[Window120]/sample/0016.npy\n"
     ]
    },
    {
     "name": "stderr",
     "output_type": "stream",
     "text": [
      "[0017/0100] Train: 100%|██████████████████████████████| 71/71 [00:13<00:00,  5.21it/s, loss 10.2226]\n",
      "[0017/0100] Validation: 100%|█████████████████████| 74/74 [00:03<00:00, 19.27it/s, val_loss 14.9824]\n",
      "[0018/0100] Train:   0%|                                                     | 0/71 [00:00<?, ?it/s]"
     ]
    },
    {
     "name": "stdout",
     "output_type": "stream",
     "text": [
      "                  validation\n",
      " - Yaw          :   1.742471\n",
      " - Pitch        :   1.608811\n",
      " - Roll         :   2.814945\n",
      " - RMS          :   2.125119\n",
      " - 99% Tile     :  16.617913\n",
      "Save output signals into checkpoint/Scene1-LSTM[Window120]/sample/0017.npy\n"
     ]
    },
    {
     "name": "stderr",
     "output_type": "stream",
     "text": [
      "[0018/0100] Train: 100%|███████████████████████████████| 71/71 [00:11<00:00,  6.03it/s, loss 9.1170]\n",
      "[0018/0100] Validation: 100%|█████████████████████| 74/74 [00:03<00:00, 19.30it/s, val_loss 14.0096]\n",
      "[0019/0100] Train:   0%|                                                     | 0/71 [00:00<?, ?it/s]"
     ]
    },
    {
     "name": "stdout",
     "output_type": "stream",
     "text": [
      "                  validation\n",
      " - Yaw          :   1.655147\n",
      " - Pitch        :   1.478546\n",
      " - Roll         :   2.754740\n",
      " - RMS          :   2.042401\n",
      " - 99% Tile     :  16.039368\n",
      "Save output signals into checkpoint/Scene1-LSTM[Window120]/sample/0018.npy\n"
     ]
    },
    {
     "name": "stderr",
     "output_type": "stream",
     "text": [
      "[0019/0100] Train: 100%|███████████████████████████████| 71/71 [00:13<00:00,  5.27it/s, loss 8.0886]\n",
      "[0019/0100] Validation: 100%|█████████████████████| 74/74 [00:03<00:00, 18.82it/s, val_loss 13.9708]\n",
      "[0020/0100] Train:   0%|                                                     | 0/71 [00:00<?, ?it/s]"
     ]
    },
    {
     "name": "stdout",
     "output_type": "stream",
     "text": [
      "                  validation\n",
      " - Yaw          :   1.665189\n",
      " - Pitch        :   1.451310\n",
      " - Roll         :   2.787422\n",
      " - RMS          :   2.053361\n",
      " - 99% Tile     :  16.182310\n",
      "Save output signals into checkpoint/Scene1-LSTM[Window120]/sample/0019.npy\n"
     ]
    },
    {
     "name": "stderr",
     "output_type": "stream",
     "text": [
      "[0020/0100] Train: 100%|███████████████████████████████| 71/71 [00:12<00:00,  5.71it/s, loss 7.5212]\n",
      "[0020/0100] Validation: 100%|█████████████████████| 74/74 [00:03<00:00, 18.81it/s, val_loss 14.3647]\n",
      "[0021/0100] Train:   0%|                                                     | 0/71 [00:00<?, ?it/s]"
     ]
    },
    {
     "name": "stdout",
     "output_type": "stream",
     "text": [
      "val_loss is not improved for 1 epochs\n",
      "                  validation\n",
      " - Yaw          :   1.972298\n",
      " - Pitch        :   1.441943\n",
      " - Roll         :   2.700581\n",
      " - RMS          :   2.102561\n",
      " - 99% Tile     :  16.008241\n",
      "Save output signals into checkpoint/Scene1-LSTM[Window120]/sample/0020.npy\n"
     ]
    },
    {
     "name": "stderr",
     "output_type": "stream",
     "text": [
      "[0021/0100] Train: 100%|███████████████████████████████| 71/71 [00:13<00:00,  5.18it/s, loss 6.8848]\n",
      "[0021/0100] Validation: 100%|█████████████████████| 74/74 [00:03<00:00, 18.58it/s, val_loss 12.4185]\n",
      "[0022/0100] Train:   0%|                                                     | 0/71 [00:00<?, ?it/s]"
     ]
    },
    {
     "name": "stdout",
     "output_type": "stream",
     "text": [
      "                  validation\n",
      " - Yaw          :   1.484693\n",
      " - Pitch        :   1.441779\n",
      " - Roll         :   2.460956\n",
      " - RMS          :   1.856461\n",
      " - 99% Tile     :  15.650167\n",
      "Save output signals into checkpoint/Scene1-LSTM[Window120]/sample/0021.npy\n"
     ]
    },
    {
     "name": "stderr",
     "output_type": "stream",
     "text": [
      "[0022/0100] Train: 100%|███████████████████████████████| 71/71 [00:13<00:00,  5.20it/s, loss 6.0271]\n",
      "[0022/0100] Validation: 100%|█████████████████████| 74/74 [00:03<00:00, 19.07it/s, val_loss 11.6047]\n",
      "[0023/0100] Train:   0%|                                                     | 0/71 [00:00<?, ?it/s]"
     ]
    },
    {
     "name": "stdout",
     "output_type": "stream",
     "text": [
      "                  validation\n",
      " - Yaw          :   1.523832\n",
      " - Pitch        :   1.483847\n",
      " - Roll         :   2.144564\n",
      " - RMS          :   1.743848\n",
      " - 99% Tile     :  15.160937\n",
      "Save output signals into checkpoint/Scene1-LSTM[Window120]/sample/0022.npy\n"
     ]
    },
    {
     "name": "stderr",
     "output_type": "stream",
     "text": [
      "[0023/0100] Train: 100%|███████████████████████████████| 71/71 [00:12<00:00,  5.89it/s, loss 5.6545]\n",
      "[0023/0100] Validation: 100%|█████████████████████| 74/74 [00:03<00:00, 19.21it/s, val_loss 11.2030]\n",
      "[0024/0100] Train:   0%|                                                     | 0/71 [00:00<?, ?it/s]"
     ]
    },
    {
     "name": "stdout",
     "output_type": "stream",
     "text": [
      "                  validation\n",
      " - Yaw          :   1.680864\n",
      " - Pitch        :   1.374589\n",
      " - Roll         :   1.877499\n",
      " - RMS          :   1.657287\n",
      " - 99% Tile     :  14.620495\n",
      "Save output signals into checkpoint/Scene1-LSTM[Window120]/sample/0023.npy\n"
     ]
    },
    {
     "name": "stderr",
     "output_type": "stream",
     "text": [
      "[0024/0100] Train: 100%|███████████████████████████████| 71/71 [00:13<00:00,  5.20it/s, loss 5.1019]\n",
      "[0024/0100] Validation: 100%|██████████████████████| 74/74 [00:03<00:00, 19.43it/s, val_loss 9.5515]\n",
      "[0025/0100] Train:   0%|                                                     | 0/71 [00:00<?, ?it/s]"
     ]
    },
    {
     "name": "stdout",
     "output_type": "stream",
     "text": [
      "                  validation\n",
      " - Yaw          :   1.133611\n",
      " - Pitch        :   1.260203\n",
      " - Roll         :   1.858982\n",
      " - RMS          :   1.452469\n",
      " - 99% Tile     :  15.313946\n",
      "Save output signals into checkpoint/Scene1-LSTM[Window120]/sample/0024.npy\n"
     ]
    },
    {
     "name": "stderr",
     "output_type": "stream",
     "text": [
      "[0025/0100] Train: 100%|███████████████████████████████| 71/71 [00:13<00:00,  5.31it/s, loss 4.5312]\n",
      "[0025/0100] Validation: 100%|██████████████████████| 74/74 [00:04<00:00, 18.43it/s, val_loss 9.1538]\n",
      "[0026/0100] Train:   0%|                                                     | 0/71 [00:00<?, ?it/s]"
     ]
    },
    {
     "name": "stdout",
     "output_type": "stream",
     "text": [
      "                  validation\n",
      " - Yaw          :   1.136902\n",
      " - Pitch        :   1.197077\n",
      " - Roll         :   1.746074\n",
      " - RMS          :   1.387361\n",
      " - 99% Tile     :  14.885081\n",
      "Save output signals into checkpoint/Scene1-LSTM[Window120]/sample/0025.npy\n"
     ]
    },
    {
     "name": "stderr",
     "output_type": "stream",
     "text": [
      "[0026/0100] Train: 100%|███████████████████████████████| 71/71 [00:13<00:00,  5.18it/s, loss 4.0056]\n",
      "[0026/0100] Validation: 100%|██████████████████████| 74/74 [00:03<00:00, 19.01it/s, val_loss 8.3422]\n",
      "[0027/0100] Train:   0%|                                                     | 0/71 [00:00<?, ?it/s]"
     ]
    },
    {
     "name": "stdout",
     "output_type": "stream",
     "text": [
      "                  validation\n",
      " - Yaw          :   1.120180\n",
      " - Pitch        :   1.176229\n",
      " - Roll         :   1.599206\n",
      " - RMS          :   1.316026\n",
      " - 99% Tile     :  13.878967\n",
      "Save output signals into checkpoint/Scene1-LSTM[Window120]/sample/0026.npy\n"
     ]
    },
    {
     "name": "stderr",
     "output_type": "stream",
     "text": [
      "[0027/0100] Train: 100%|███████████████████████████████| 71/71 [00:13<00:00,  5.34it/s, loss 3.6856]\n",
      "[0027/0100] Validation: 100%|██████████████████████| 74/74 [00:04<00:00, 17.89it/s, val_loss 8.0553]\n",
      "[0028/0100] Train:   0%|                                                     | 0/71 [00:00<?, ?it/s]"
     ]
    },
    {
     "name": "stdout",
     "output_type": "stream",
     "text": [
      "                  validation\n",
      " - Yaw          :   1.195984\n",
      " - Pitch        :   1.168924\n",
      " - Roll         :   1.574848\n",
      " - RMS          :   1.326261\n",
      " - 99% Tile     :  13.447673\n",
      "Save output signals into checkpoint/Scene1-LSTM[Window120]/sample/0027.npy\n"
     ]
    },
    {
     "name": "stderr",
     "output_type": "stream",
     "text": [
      "[0028/0100] Train: 100%|███████████████████████████████| 71/71 [00:13<00:00,  5.20it/s, loss 3.3741]\n",
      "[0028/0100] Validation: 100%|██████████████████████| 74/74 [00:03<00:00, 18.52it/s, val_loss 7.3906]\n",
      "[0029/0100] Train:   0%|                                                     | 0/71 [00:00<?, ?it/s]"
     ]
    },
    {
     "name": "stdout",
     "output_type": "stream",
     "text": [
      "                  validation\n",
      " - Yaw          :   1.109365\n",
      " - Pitch        :   1.146031\n",
      " - Roll         :   1.385653\n",
      " - RMS          :   1.219852\n",
      " - 99% Tile     :  11.903960\n",
      "Save output signals into checkpoint/Scene1-LSTM[Window120]/sample/0028.npy\n"
     ]
    },
    {
     "name": "stderr",
     "output_type": "stream",
     "text": [
      "[0029/0100] Train: 100%|███████████████████████████████| 71/71 [00:13<00:00,  5.20it/s, loss 3.1640]\n",
      "[0029/0100] Validation: 100%|██████████████████████| 74/74 [00:03<00:00, 18.75it/s, val_loss 7.1335]\n",
      "[0030/0100] Train:   0%|                                                     | 0/71 [00:00<?, ?it/s]"
     ]
    },
    {
     "name": "stdout",
     "output_type": "stream",
     "text": [
      "                  validation\n",
      " - Yaw          :   1.283575\n",
      " - Pitch        :   1.153078\n",
      " - Roll         :   1.346191\n",
      " - RMS          :   1.263511\n",
      " - 99% Tile     :  11.394156\n",
      "Save output signals into checkpoint/Scene1-LSTM[Window120]/sample/0029.npy\n"
     ]
    },
    {
     "name": "stderr",
     "output_type": "stream",
     "text": [
      "[0030/0100] Train: 100%|███████████████████████████████| 71/71 [00:13<00:00,  5.21it/s, loss 2.9192]\n",
      "[0030/0100] Validation: 100%|██████████████████████| 74/74 [00:03<00:00, 18.99it/s, val_loss 7.0594]\n",
      "[0031/0100] Train:   0%|                                                     | 0/71 [00:00<?, ?it/s]"
     ]
    },
    {
     "name": "stdout",
     "output_type": "stream",
     "text": [
      "                  validation\n",
      " - Yaw          :   1.197276\n",
      " - Pitch        :   1.235210\n",
      " - Roll         :   1.302054\n",
      " - RMS          :   1.245600\n",
      " - 99% Tile     :  10.965890\n",
      "Save output signals into checkpoint/Scene1-LSTM[Window120]/sample/0030.npy\n"
     ]
    },
    {
     "name": "stderr",
     "output_type": "stream",
     "text": [
      "[0031/0100] Train: 100%|███████████████████████████████| 71/71 [00:12<00:00,  5.62it/s, loss 2.8343]\n",
      "[0031/0100] Validation: 100%|██████████████████████| 74/74 [00:03<00:00, 19.27it/s, val_loss 6.8555]\n",
      "[0032/0100] Train:   0%|                                                     | 0/71 [00:00<?, ?it/s]"
     ]
    },
    {
     "name": "stdout",
     "output_type": "stream",
     "text": [
      "                  validation\n",
      " - Yaw          :   1.082811\n",
      " - Pitch        :   1.169679\n",
      " - Roll         :   1.306736\n",
      " - RMS          :   1.189984\n",
      " - 99% Tile     :  10.908824\n",
      "Save output signals into checkpoint/Scene1-LSTM[Window120]/sample/0031.npy\n"
     ]
    },
    {
     "name": "stderr",
     "output_type": "stream",
     "text": [
      "[0032/0100] Train: 100%|███████████████████████████████| 71/71 [00:13<00:00,  5.20it/s, loss 2.6170]\n",
      "[0032/0100] Validation: 100%|██████████████████████| 74/74 [00:03<00:00, 19.17it/s, val_loss 6.7697]\n",
      "[0033/0100] Train:   0%|                                                     | 0/71 [00:00<?, ?it/s]"
     ]
    },
    {
     "name": "stdout",
     "output_type": "stream",
     "text": [
      "                  validation\n",
      " - Yaw          :   1.133358\n",
      " - Pitch        :   1.186517\n",
      " - Roll         :   1.280823\n",
      " - RMS          :   1.201781\n",
      " - 99% Tile     :  10.932090\n",
      "Save output signals into checkpoint/Scene1-LSTM[Window120]/sample/0032.npy\n"
     ]
    },
    {
     "name": "stderr",
     "output_type": "stream",
     "text": [
      "[0033/0100] Train: 100%|███████████████████████████████| 71/71 [00:12<00:00,  5.58it/s, loss 2.6815]\n",
      "[0033/0100] Validation: 100%|██████████████████████| 74/74 [00:03<00:00, 19.44it/s, val_loss 7.2986]\n",
      "[0034/0100] Train:   0%|                                                     | 0/71 [00:00<?, ?it/s]"
     ]
    },
    {
     "name": "stdout",
     "output_type": "stream",
     "text": [
      "val_loss is not improved for 1 epochs\n",
      "                  validation\n",
      " - Yaw          :   1.389858\n",
      " - Pitch        :   1.426989\n",
      " - Roll         :   1.273956\n",
      " - RMS          :   1.365158\n",
      " - 99% Tile     :  10.795893\n",
      "Save output signals into checkpoint/Scene1-LSTM[Window120]/sample/0033.npy\n"
     ]
    },
    {
     "name": "stderr",
     "output_type": "stream",
     "text": [
      "[0034/0100] Train: 100%|███████████████████████████████| 71/71 [00:12<00:00,  5.59it/s, loss 2.5651]\n",
      "[0034/0100] Validation: 100%|██████████████████████| 74/74 [00:03<00:00, 19.10it/s, val_loss 6.7179]\n",
      "[0035/0100] Train:   0%|                                                     | 0/71 [00:00<?, ?it/s]"
     ]
    },
    {
     "name": "stdout",
     "output_type": "stream",
     "text": [
      "                  validation\n",
      " - Yaw          :   1.131488\n",
      " - Pitch        :   1.193812\n",
      " - Roll         :   1.303693\n",
      " - RMS          :   1.211757\n",
      " - 99% Tile     :  11.104292\n",
      "Save output signals into checkpoint/Scene1-LSTM[Window120]/sample/0034.npy\n"
     ]
    },
    {
     "name": "stderr",
     "output_type": "stream",
     "text": [
      "[0035/0100] Train: 100%|███████████████████████████████| 71/71 [00:13<00:00,  5.16it/s, loss 2.3370]\n",
      "[0035/0100] Validation: 100%|██████████████████████| 74/74 [00:03<00:00, 18.82it/s, val_loss 6.7722]\n",
      "[0036/0100] Train:   0%|                                                     | 0/71 [00:00<?, ?it/s]"
     ]
    },
    {
     "name": "stdout",
     "output_type": "stream",
     "text": [
      "val_loss is not improved for 1 epochs\n",
      "                  validation\n",
      " - Yaw          :   1.241322\n",
      " - Pitch        :   1.121502\n",
      " - Roll         :   1.162761\n",
      " - RMS          :   1.176245\n",
      " - 99% Tile     :  10.669862\n",
      "Save output signals into checkpoint/Scene1-LSTM[Window120]/sample/0035.npy\n"
     ]
    },
    {
     "name": "stderr",
     "output_type": "stream",
     "text": [
      "[0036/0100] Train: 100%|███████████████████████████████| 71/71 [00:12<00:00,  5.46it/s, loss 2.2950]\n",
      "[0036/0100] Validation: 100%|██████████████████████| 74/74 [00:03<00:00, 18.96it/s, val_loss 6.4332]\n",
      "[0037/0100] Train:   0%|                                                     | 0/71 [00:00<?, ?it/s]"
     ]
    },
    {
     "name": "stdout",
     "output_type": "stream",
     "text": [
      "                  validation\n",
      " - Yaw          :   1.168976\n",
      " - Pitch        :   1.213256\n",
      " - Roll         :   1.191884\n",
      " - RMS          :   1.191509\n",
      " - 99% Tile     :  10.384249\n",
      "Save output signals into checkpoint/Scene1-LSTM[Window120]/sample/0036.npy\n"
     ]
    },
    {
     "name": "stderr",
     "output_type": "stream",
     "text": [
      "[0037/0100] Train: 100%|███████████████████████████████| 71/71 [00:13<00:00,  5.23it/s, loss 2.2731]\n",
      "[0037/0100] Validation: 100%|██████████████████████| 74/74 [00:03<00:00, 18.70it/s, val_loss 6.7747]\n",
      "[0038/0100] Train:   0%|                                                     | 0/71 [00:00<?, ?it/s]"
     ]
    },
    {
     "name": "stdout",
     "output_type": "stream",
     "text": [
      "val_loss is not improved for 1 epochs\n",
      "                  validation\n",
      " - Yaw          :   1.275206\n",
      " - Pitch        :   1.204931\n",
      " - Roll         :   1.259708\n",
      " - RMS          :   1.246980\n",
      " - 99% Tile     :  10.478259\n",
      "Save output signals into checkpoint/Scene1-LSTM[Window120]/sample/0037.npy\n"
     ]
    },
    {
     "name": "stderr",
     "output_type": "stream",
     "text": [
      "[0038/0100] Train: 100%|███████████████████████████████| 71/71 [00:13<00:00,  5.19it/s, loss 2.3903]\n",
      "[0038/0100] Validation: 100%|██████████████████████| 74/74 [00:03<00:00, 18.93it/s, val_loss 6.6276]\n",
      "[0039/0100] Train:   0%|                                                     | 0/71 [00:00<?, ?it/s]"
     ]
    },
    {
     "name": "stdout",
     "output_type": "stream",
     "text": [
      "val_loss is not improved for 2 epochs\n",
      "                  validation\n",
      " - Yaw          :   1.233961\n",
      " - Pitch        :   1.219101\n",
      " - Roll         :   1.173684\n",
      " - RMS          :   1.209187\n",
      " - 99% Tile     :  10.612525\n",
      "Save output signals into checkpoint/Scene1-LSTM[Window120]/sample/0038.npy\n"
     ]
    },
    {
     "name": "stderr",
     "output_type": "stream",
     "text": [
      "[0039/0100] Train: 100%|███████████████████████████████| 71/71 [00:13<00:00,  5.19it/s, loss 2.0877]\n",
      "[0039/0100] Validation: 100%|██████████████████████| 74/74 [00:03<00:00, 19.01it/s, val_loss 6.7793]\n",
      "[0040/0100] Train:   0%|                                                     | 0/71 [00:00<?, ?it/s]"
     ]
    },
    {
     "name": "stdout",
     "output_type": "stream",
     "text": [
      "val_loss is not improved for 3 epochs\n",
      "                  validation\n",
      " - Yaw          :   1.137436\n",
      " - Pitch        :   1.277610\n",
      " - Roll         :   1.156157\n",
      " - RMS          :   1.192022\n",
      " - 99% Tile     :  10.597068\n",
      "Save output signals into checkpoint/Scene1-LSTM[Window120]/sample/0039.npy\n"
     ]
    },
    {
     "name": "stderr",
     "output_type": "stream",
     "text": [
      "[0040/0100] Train: 100%|███████████████████████████████| 71/71 [00:11<00:00,  6.05it/s, loss 2.1074]\n",
      "[0040/0100] Validation: 100%|██████████████████████| 74/74 [00:03<00:00, 18.78it/s, val_loss 6.3293]\n",
      "[0041/0100] Train:   0%|                                                     | 0/71 [00:00<?, ?it/s]"
     ]
    },
    {
     "name": "stdout",
     "output_type": "stream",
     "text": [
      "                  validation\n",
      " - Yaw          :   1.145148\n",
      " - Pitch        :   1.303800\n",
      " - Roll         :   1.097054\n",
      " - RMS          :   1.185297\n",
      " - 99% Tile     :  10.154769\n",
      "Save output signals into checkpoint/Scene1-LSTM[Window120]/sample/0040.npy\n"
     ]
    },
    {
     "name": "stderr",
     "output_type": "stream",
     "text": [
      "[0041/0100] Train: 100%|███████████████████████████████| 71/71 [00:12<00:00,  5.58it/s, loss 1.9967]\n",
      "[0041/0100] Validation: 100%|██████████████████████| 74/74 [00:03<00:00, 19.25it/s, val_loss 5.9319]\n",
      "[0042/0100] Train:   0%|                                                     | 0/71 [00:00<?, ?it/s]"
     ]
    },
    {
     "name": "stdout",
     "output_type": "stream",
     "text": [
      "                  validation\n",
      " - Yaw          :   1.058025\n",
      " - Pitch        :   1.245886\n",
      " - Roll         :   1.081016\n",
      " - RMS          :   1.131407\n",
      " - 99% Tile     :   9.644538\n",
      "Save output signals into checkpoint/Scene1-LSTM[Window120]/sample/0041.npy\n"
     ]
    },
    {
     "name": "stderr",
     "output_type": "stream",
     "text": [
      "[0042/0100] Train: 100%|███████████████████████████████| 71/71 [00:13<00:00,  5.25it/s, loss 1.8763]\n",
      "[0042/0100] Validation: 100%|██████████████████████| 74/74 [00:03<00:00, 18.97it/s, val_loss 6.6435]\n",
      "[0043/0100] Train:   0%|                                                     | 0/71 [00:00<?, ?it/s]"
     ]
    },
    {
     "name": "stdout",
     "output_type": "stream",
     "text": [
      "val_loss is not improved for 1 epochs\n",
      "                  validation\n",
      " - Yaw          :   1.112957\n",
      " - Pitch        :   1.153895\n",
      " - Roll         :   1.069073\n",
      " - RMS          :   1.112514\n",
      " - 99% Tile     :  10.158812\n",
      "Save output signals into checkpoint/Scene1-LSTM[Window120]/sample/0042.npy\n"
     ]
    },
    {
     "name": "stderr",
     "output_type": "stream",
     "text": [
      "[0043/0100] Train: 100%|███████████████████████████████| 71/71 [00:13<00:00,  5.22it/s, loss 1.8039]\n",
      "[0043/0100] Validation: 100%|██████████████████████| 74/74 [00:03<00:00, 19.00it/s, val_loss 6.3227]\n",
      "[0044/0100] Train:   0%|                                                     | 0/71 [00:00<?, ?it/s]"
     ]
    },
    {
     "name": "stdout",
     "output_type": "stream",
     "text": [
      "val_loss is not improved for 2 epochs\n",
      "                  validation\n",
      " - Yaw          :   1.035913\n",
      " - Pitch        :   1.192567\n",
      " - Roll         :   1.149721\n",
      " - RMS          :   1.128006\n",
      " - 99% Tile     :   9.898067\n",
      "Save output signals into checkpoint/Scene1-LSTM[Window120]/sample/0043.npy\n"
     ]
    },
    {
     "name": "stderr",
     "output_type": "stream",
     "text": [
      "[0044/0100] Train: 100%|███████████████████████████████| 71/71 [00:13<00:00,  5.17it/s, loss 1.6489]\n",
      "[0044/0100] Validation: 100%|██████████████████████| 74/74 [00:03<00:00, 19.30it/s, val_loss 6.0968]\n",
      "[0045/0100] Train:   0%|                                                     | 0/71 [00:00<?, ?it/s]"
     ]
    },
    {
     "name": "stdout",
     "output_type": "stream",
     "text": [
      "val_loss is not improved for 3 epochs\n",
      "                  validation\n",
      " - Yaw          :   1.064732\n",
      " - Pitch        :   1.185078\n",
      " - Roll         :   1.012917\n",
      " - RMS          :   1.089964\n",
      " - 99% Tile     :   9.740905\n",
      "Save output signals into checkpoint/Scene1-LSTM[Window120]/sample/0044.npy\n"
     ]
    },
    {
     "name": "stderr",
     "output_type": "stream",
     "text": [
      "[0045/0100] Train: 100%|███████████████████████████████| 71/71 [00:13<00:00,  5.23it/s, loss 1.6994]\n",
      "[0045/0100] Validation: 100%|██████████████████████| 74/74 [00:03<00:00, 18.67it/s, val_loss 6.0387]\n",
      "[0046/0100] Train:   0%|                                                     | 0/71 [00:00<?, ?it/s]"
     ]
    },
    {
     "name": "stdout",
     "output_type": "stream",
     "text": [
      "val_loss is not improved for 4 epochs\n",
      "                  validation\n",
      " - Yaw          :   1.007969\n",
      " - Pitch        :   1.145753\n",
      " - Roll         :   1.043019\n",
      " - RMS          :   1.067183\n",
      " - 99% Tile     :   9.532128\n",
      "Save output signals into checkpoint/Scene1-LSTM[Window120]/sample/0045.npy\n"
     ]
    },
    {
     "name": "stderr",
     "output_type": "stream",
     "text": [
      "[0046/0100] Train: 100%|███████████████████████████████| 71/71 [00:13<00:00,  5.21it/s, loss 1.5427]\n",
      "[0046/0100] Validation: 100%|██████████████████████| 74/74 [00:03<00:00, 19.00it/s, val_loss 6.2580]\n",
      "[0047/0100] Train:   0%|                                                     | 0/71 [00:00<?, ?it/s]"
     ]
    },
    {
     "name": "stdout",
     "output_type": "stream",
     "text": [
      "Decaying lr from 0.001 to 0.0005 because val_loss did not improved for 5 epochs\n",
      "val_loss is not improved for 5 epochs\n",
      "                  validation\n",
      " - Yaw          :   1.115442\n",
      " - Pitch        :   1.208705\n",
      " - Roll         :   1.065828\n",
      " - RMS          :   1.131543\n",
      " - 99% Tile     :   9.856113\n",
      "Save output signals into checkpoint/Scene1-LSTM[Window120]/sample/0046.npy\n"
     ]
    },
    {
     "name": "stderr",
     "output_type": "stream",
     "text": [
      "[0047/0100] Train: 100%|███████████████████████████████| 71/71 [00:13<00:00,  5.18it/s, loss 1.4206]\n",
      "[0047/0100] Validation: 100%|██████████████████████| 74/74 [00:03<00:00, 19.20it/s, val_loss 6.0293]\n",
      "[0048/0100] Train:   0%|                                                     | 0/71 [00:00<?, ?it/s]"
     ]
    },
    {
     "name": "stdout",
     "output_type": "stream",
     "text": [
      "val_loss is not improved for 6 epochs\n",
      "                  validation\n",
      " - Yaw          :   0.951159\n",
      " - Pitch        :   1.128557\n",
      " - Roll         :   1.033550\n",
      " - RMS          :   1.040284\n",
      " - 99% Tile     :   9.877420\n",
      "Save output signals into checkpoint/Scene1-LSTM[Window120]/sample/0047.npy\n"
     ]
    },
    {
     "name": "stderr",
     "output_type": "stream",
     "text": [
      "[0048/0100] Train: 100%|███████████████████████████████| 71/71 [00:13<00:00,  5.18it/s, loss 1.3674]\n",
      "[0048/0100] Validation: 100%|██████████████████████| 74/74 [00:04<00:00, 18.33it/s, val_loss 5.8004]\n",
      "[0049/0100] Train:   0%|                                                     | 0/71 [00:00<?, ?it/s]"
     ]
    },
    {
     "name": "stdout",
     "output_type": "stream",
     "text": [
      "                  validation\n",
      " - Yaw          :   0.966671\n",
      " - Pitch        :   1.076864\n",
      " - Roll         :   0.991677\n",
      " - RMS          :   1.012836\n",
      " - 99% Tile     :   9.817868\n",
      "Save output signals into checkpoint/Scene1-LSTM[Window120]/sample/0048.npy\n"
     ]
    },
    {
     "name": "stderr",
     "output_type": "stream",
     "text": [
      "[0049/0100] Train: 100%|███████████████████████████████| 71/71 [00:18<00:00,  3.85it/s, loss 1.3378]\n",
      "[0049/0100] Validation: 100%|██████████████████████| 74/74 [00:05<00:00, 14.29it/s, val_loss 6.1275]\n",
      "[0050/0100] Train:   0%|                                                     | 0/71 [00:00<?, ?it/s]"
     ]
    },
    {
     "name": "stdout",
     "output_type": "stream",
     "text": [
      "val_loss is not improved for 1 epochs\n",
      "                  validation\n",
      " - Yaw          :   1.011686\n",
      " - Pitch        :   1.129986\n",
      " - Roll         :   0.975755\n",
      " - RMS          :   1.041230\n",
      " - 99% Tile     :   9.948763\n",
      "Save output signals into checkpoint/Scene1-LSTM[Window120]/sample/0049.npy\n"
     ]
    },
    {
     "name": "stderr",
     "output_type": "stream",
     "text": [
      "[0050/0100] Train: 100%|███████████████████████████████| 71/71 [00:19<00:00,  3.69it/s, loss 1.3331]\n",
      "[0050/0100] Validation: 100%|██████████████████████| 74/74 [00:05<00:00, 14.37it/s, val_loss 5.9013]\n",
      "[0051/0100] Train:   0%|                                                     | 0/71 [00:00<?, ?it/s]"
     ]
    },
    {
     "name": "stdout",
     "output_type": "stream",
     "text": [
      "val_loss is not improved for 2 epochs\n",
      "                  validation\n",
      " - Yaw          :   1.080404\n",
      " - Pitch        :   1.218038\n",
      " - Roll         :   0.962590\n",
      " - RMS          :   1.092012\n",
      " - 99% Tile     :   9.760735\n",
      "Save output signals into checkpoint/Scene1-LSTM[Window120]/sample/0050.npy\n"
     ]
    },
    {
     "name": "stderr",
     "output_type": "stream",
     "text": [
      "[0051/0100] Train: 100%|███████████████████████████████| 71/71 [00:16<00:00,  4.40it/s, loss 1.2863]\n",
      "[0051/0100] Validation: 100%|██████████████████████| 74/74 [00:05<00:00, 14.06it/s, val_loss 5.8917]\n",
      "[0052/0100] Train:   0%|                                                     | 0/71 [00:00<?, ?it/s]"
     ]
    },
    {
     "name": "stdout",
     "output_type": "stream",
     "text": [
      "val_loss is not improved for 3 epochs\n",
      "                  validation\n",
      " - Yaw          :   1.027964\n",
      " - Pitch        :   1.106482\n",
      " - Roll         :   0.964800\n",
      " - RMS          :   1.034706\n",
      " - 99% Tile     :   9.748543\n",
      "Save output signals into checkpoint/Scene1-LSTM[Window120]/sample/0051.npy\n"
     ]
    },
    {
     "name": "stderr",
     "output_type": "stream",
     "text": [
      "[0052/0100] Train: 100%|███████████████████████████████| 71/71 [00:19<00:00,  3.68it/s, loss 1.5107]\n",
      "[0052/0100] Validation: 100%|██████████████████████| 74/74 [00:05<00:00, 14.13it/s, val_loss 6.0946]\n",
      "[0053/0100] Train:   0%|                                                     | 0/71 [00:00<?, ?it/s]"
     ]
    },
    {
     "name": "stdout",
     "output_type": "stream",
     "text": [
      "val_loss is not improved for 4 epochs\n",
      "                  validation\n",
      " - Yaw          :   1.227907\n",
      " - Pitch        :   1.180965\n",
      " - Roll         :   0.952994\n",
      " - RMS          :   1.127036\n",
      " - 99% Tile     :   9.547099\n",
      "Save output signals into checkpoint/Scene1-LSTM[Window120]/sample/0052.npy\n"
     ]
    },
    {
     "name": "stderr",
     "output_type": "stream",
     "text": [
      "[0053/0100] Train: 100%|███████████████████████████████| 71/71 [00:19<00:00,  3.68it/s, loss 1.3565]\n",
      "[0053/0100] Validation: 100%|██████████████████████| 74/74 [00:05<00:00, 13.93it/s, val_loss 5.6738]\n",
      "[0054/0100] Train:   0%|                                                     | 0/71 [00:00<?, ?it/s]"
     ]
    },
    {
     "name": "stdout",
     "output_type": "stream",
     "text": [
      "                  validation\n",
      " - Yaw          :   0.963632\n",
      " - Pitch        :   1.071036\n",
      " - Roll         :   1.022503\n",
      " - RMS          :   1.020003\n",
      " - 99% Tile     :   9.311231\n",
      "Save output signals into checkpoint/Scene1-LSTM[Window120]/sample/0053.npy\n"
     ]
    },
    {
     "name": "stderr",
     "output_type": "stream",
     "text": [
      "[0054/0100] Train: 100%|███████████████████████████████| 71/71 [00:19<00:00,  3.68it/s, loss 1.2851]\n",
      "[0054/0100] Validation: 100%|██████████████████████| 74/74 [00:05<00:00, 14.33it/s, val_loss 5.9661]\n",
      "[0055/0100] Train:   0%|                                                     | 0/71 [00:00<?, ?it/s]"
     ]
    },
    {
     "name": "stdout",
     "output_type": "stream",
     "text": [
      "val_loss is not improved for 1 epochs\n",
      "                  validation\n",
      " - Yaw          :   0.985176\n",
      " - Pitch        :   1.092307\n",
      " - Roll         :   0.959711\n",
      " - RMS          :   1.014027\n",
      " - 99% Tile     :   9.855141\n",
      "Save output signals into checkpoint/Scene1-LSTM[Window120]/sample/0054.npy\n"
     ]
    },
    {
     "name": "stderr",
     "output_type": "stream",
     "text": [
      "[0055/0100] Train: 100%|███████████████████████████████| 71/71 [00:17<00:00,  3.98it/s, loss 1.2532]\n",
      "[0055/0100] Validation: 100%|██████████████████████| 74/74 [00:05<00:00, 14.34it/s, val_loss 5.7334]\n",
      "[0056/0100] Train:   0%|                                                     | 0/71 [00:00<?, ?it/s]"
     ]
    },
    {
     "name": "stdout",
     "output_type": "stream",
     "text": [
      "val_loss is not improved for 2 epochs\n",
      "                  validation\n",
      " - Yaw          :   1.040003\n",
      " - Pitch        :   1.058015\n",
      " - Roll         :   0.926821\n",
      " - RMS          :   1.009951\n",
      " - 99% Tile     :   9.400958\n",
      "Save output signals into checkpoint/Scene1-LSTM[Window120]/sample/0055.npy\n"
     ]
    },
    {
     "name": "stderr",
     "output_type": "stream",
     "text": [
      "[0056/0100] Train: 100%|███████████████████████████████| 71/71 [00:18<00:00,  3.77it/s, loss 1.2375]\n",
      "[0056/0100] Validation: 100%|██████████████████████| 74/74 [00:05<00:00, 14.31it/s, val_loss 5.8094]\n",
      "[0057/0100] Train:   0%|                                                     | 0/71 [00:00<?, ?it/s]"
     ]
    },
    {
     "name": "stdout",
     "output_type": "stream",
     "text": [
      "val_loss is not improved for 3 epochs\n",
      "                  validation\n",
      " - Yaw          :   1.060001\n",
      " - Pitch        :   1.067906\n",
      " - Roll         :   0.951557\n",
      " - RMS          :   1.027860\n",
      " - 99% Tile     :   9.680879\n",
      "Save output signals into checkpoint/Scene1-LSTM[Window120]/sample/0056.npy\n"
     ]
    },
    {
     "name": "stderr",
     "output_type": "stream",
     "text": [
      "[0057/0100] Train: 100%|███████████████████████████████| 71/71 [00:19<00:00,  3.65it/s, loss 1.1994]\n",
      "[0057/0100] Validation: 100%|██████████████████████| 74/74 [00:05<00:00, 14.06it/s, val_loss 5.7842]\n",
      "[0058/0100] Train:   0%|                                                     | 0/71 [00:00<?, ?it/s]"
     ]
    },
    {
     "name": "stdout",
     "output_type": "stream",
     "text": [
      "val_loss is not improved for 4 epochs\n",
      "                  validation\n",
      " - Yaw          :   0.954980\n",
      " - Pitch        :   1.145352\n",
      " - Roll         :   0.930911\n",
      " - RMS          :   1.014957\n",
      " - 99% Tile     :   9.504854\n",
      "Save output signals into checkpoint/Scene1-LSTM[Window120]/sample/0057.npy\n"
     ]
    },
    {
     "name": "stderr",
     "output_type": "stream",
     "text": [
      "[0058/0100] Train: 100%|███████████████████████████████| 71/71 [00:19<00:00,  3.64it/s, loss 1.1740]\n",
      "[0058/0100] Validation: 100%|██████████████████████| 74/74 [00:05<00:00, 13.19it/s, val_loss 5.7862]\n",
      "[0059/0100] Train:   0%|                                                     | 0/71 [00:00<?, ?it/s]"
     ]
    },
    {
     "name": "stdout",
     "output_type": "stream",
     "text": [
      "Decaying lr from 0.0005 to 0.00025 because val_loss did not improved for 5 epochs\n",
      "val_loss is not improved for 5 epochs\n",
      "                  validation\n",
      " - Yaw          :   1.029135\n",
      " - Pitch        :   1.069731\n",
      " - Roll         :   0.940853\n",
      " - RMS          :   1.014667\n",
      " - 99% Tile     :   9.467459\n",
      "Save output signals into checkpoint/Scene1-LSTM[Window120]/sample/0058.npy\n"
     ]
    },
    {
     "name": "stderr",
     "output_type": "stream",
     "text": [
      "[0059/0100] Train: 100%|███████████████████████████████| 71/71 [00:19<00:00,  3.72it/s, loss 1.0989]\n",
      "[0059/0100] Validation: 100%|██████████████████████| 74/74 [00:05<00:00, 13.14it/s, val_loss 5.6753]\n",
      "[0060/0100] Train:   0%|                                                     | 0/71 [00:00<?, ?it/s]"
     ]
    },
    {
     "name": "stdout",
     "output_type": "stream",
     "text": [
      "val_loss is not improved for 6 epochs\n",
      "                  validation\n",
      " - Yaw          :   0.993446\n",
      " - Pitch        :   1.141767\n",
      " - Roll         :   0.916327\n",
      " - RMS          :   1.021473\n",
      " - 99% Tile     :   9.575578\n",
      "Save output signals into checkpoint/Scene1-LSTM[Window120]/sample/0059.npy\n"
     ]
    },
    {
     "name": "stderr",
     "output_type": "stream",
     "text": [
      "[0060/0100] Train: 100%|███████████████████████████████| 71/71 [00:19<00:00,  3.64it/s, loss 1.0801]\n",
      "[0060/0100] Validation: 100%|██████████████████████| 74/74 [00:05<00:00, 13.16it/s, val_loss 5.6582]\n",
      "[0061/0100] Train:   0%|                                                     | 0/71 [00:00<?, ?it/s]"
     ]
    },
    {
     "name": "stdout",
     "output_type": "stream",
     "text": [
      "                  validation\n",
      " - Yaw          :   0.960234\n",
      " - Pitch        :   1.087309\n",
      " - Roll         :   0.913783\n",
      " - RMS          :   0.989830\n",
      " - 99% Tile     :   9.331860\n",
      "Save output signals into checkpoint/Scene1-LSTM[Window120]/sample/0060.npy\n"
     ]
    },
    {
     "name": "stderr",
     "output_type": "stream",
     "text": [
      "[0061/0100] Train: 100%|███████████████████████████████| 71/71 [00:19<00:00,  3.67it/s, loss 1.0554]\n",
      "[0061/0100] Validation: 100%|██████████████████████| 74/74 [00:05<00:00, 14.19it/s, val_loss 5.6730]\n",
      "[0062/0100] Train:   0%|                                                     | 0/71 [00:00<?, ?it/s]"
     ]
    },
    {
     "name": "stdout",
     "output_type": "stream",
     "text": [
      "val_loss is not improved for 1 epochs\n",
      "                  validation\n",
      " - Yaw          :   0.953067\n",
      " - Pitch        :   1.102299\n",
      " - Roll         :   0.921565\n",
      " - RMS          :   0.995436\n",
      " - 99% Tile     :   9.573233\n",
      "Save output signals into checkpoint/Scene1-LSTM[Window120]/sample/0061.npy\n"
     ]
    },
    {
     "name": "stderr",
     "output_type": "stream",
     "text": [
      "[0062/0100] Train: 100%|███████████████████████████████| 71/71 [00:19<00:00,  3.72it/s, loss 1.0529]\n",
      "[0062/0100] Validation: 100%|██████████████████████| 74/74 [00:05<00:00, 14.26it/s, val_loss 5.6867]\n",
      "[0063/0100] Train:   0%|                                                     | 0/71 [00:00<?, ?it/s]"
     ]
    },
    {
     "name": "stdout",
     "output_type": "stream",
     "text": [
      "val_loss is not improved for 2 epochs\n",
      "                  validation\n",
      " - Yaw          :   0.989400\n",
      " - Pitch        :   1.111124\n",
      " - Roll         :   0.923319\n",
      " - RMS          :   1.010945\n",
      " - 99% Tile     :   9.684083\n",
      "Save output signals into checkpoint/Scene1-LSTM[Window120]/sample/0062.npy\n"
     ]
    },
    {
     "name": "stderr",
     "output_type": "stream",
     "text": [
      "[0063/0100] Train: 100%|███████████████████████████████| 71/71 [00:18<00:00,  3.90it/s, loss 1.0460]\n",
      "[0063/0100] Validation: 100%|██████████████████████| 74/74 [00:05<00:00, 13.38it/s, val_loss 5.7171]\n",
      "[0064/0100] Train:   0%|                                                     | 0/71 [00:00<?, ?it/s]"
     ]
    },
    {
     "name": "stdout",
     "output_type": "stream",
     "text": [
      "val_loss is not improved for 3 epochs\n",
      "                  validation\n",
      " - Yaw          :   1.002139\n",
      " - Pitch        :   1.108351\n",
      " - Roll         :   0.920798\n",
      " - RMS          :   1.013343\n",
      " - 99% Tile     :   9.344184\n",
      "Save output signals into checkpoint/Scene1-LSTM[Window120]/sample/0063.npy\n"
     ]
    },
    {
     "name": "stderr",
     "output_type": "stream",
     "text": [
      "[0064/0100] Train: 100%|███████████████████████████████| 71/71 [00:18<00:00,  3.75it/s, loss 1.0273]\n",
      "[0064/0100] Validation: 100%|██████████████████████| 74/74 [00:05<00:00, 13.63it/s, val_loss 5.7149]\n",
      "[0065/0100] Train:   0%|                                                     | 0/71 [00:00<?, ?it/s]"
     ]
    },
    {
     "name": "stdout",
     "output_type": "stream",
     "text": [
      "val_loss is not improved for 4 epochs\n",
      "                  validation\n",
      " - Yaw          :   0.979728\n",
      " - Pitch        :   1.058461\n",
      " - Roll         :   0.921965\n",
      " - RMS          :   0.988303\n",
      " - 99% Tile     :   9.750932\n",
      "Save output signals into checkpoint/Scene1-LSTM[Window120]/sample/0064.npy\n"
     ]
    },
    {
     "name": "stderr",
     "output_type": "stream",
     "text": [
      "[0065/0100] Train: 100%|███████████████████████████████| 71/71 [00:18<00:00,  3.76it/s, loss 1.0110]\n",
      "[0065/0100] Validation: 100%|██████████████████████| 74/74 [00:05<00:00, 13.15it/s, val_loss 5.5774]\n",
      "[0066/0100] Train:   0%|                                                     | 0/71 [00:00<?, ?it/s]"
     ]
    },
    {
     "name": "stdout",
     "output_type": "stream",
     "text": [
      "                  validation\n",
      " - Yaw          :   0.963394\n",
      " - Pitch        :   1.067673\n",
      " - Roll         :   0.931800\n",
      " - RMS          :   0.989327\n",
      " - 99% Tile     :   9.583316\n",
      "Save output signals into checkpoint/Scene1-LSTM[Window120]/sample/0065.npy\n"
     ]
    },
    {
     "name": "stderr",
     "output_type": "stream",
     "text": [
      "[0066/0100] Train: 100%|███████████████████████████████| 71/71 [00:18<00:00,  3.76it/s, loss 1.0026]\n",
      "[0066/0100] Validation: 100%|██████████████████████| 74/74 [00:05<00:00, 12.61it/s, val_loss 5.6574]\n",
      "[0067/0100] Train:   0%|                                                     | 0/71 [00:00<?, ?it/s]"
     ]
    },
    {
     "name": "stdout",
     "output_type": "stream",
     "text": [
      "val_loss is not improved for 1 epochs\n",
      "                  validation\n",
      " - Yaw          :   0.964215\n",
      " - Pitch        :   1.105343\n",
      " - Roll         :   0.933030\n",
      " - RMS          :   1.003666\n",
      " - 99% Tile     :   9.577519\n",
      "Save output signals into checkpoint/Scene1-LSTM[Window120]/sample/0066.npy\n"
     ]
    },
    {
     "name": "stderr",
     "output_type": "stream",
     "text": [
      "[0067/0100] Train: 100%|███████████████████████████████| 71/71 [00:18<00:00,  3.76it/s, loss 0.9904]\n",
      "[0067/0100] Validation: 100%|██████████████████████| 74/74 [00:05<00:00, 12.79it/s, val_loss 5.6106]\n",
      "[0068/0100] Train:   0%|                                                     | 0/71 [00:00<?, ?it/s]"
     ]
    },
    {
     "name": "stdout",
     "output_type": "stream",
     "text": [
      "val_loss is not improved for 2 epochs\n",
      "                  validation\n",
      " - Yaw          :   0.965781\n",
      " - Pitch        :   1.048092\n",
      " - Roll         :   0.913726\n",
      " - RMS          :   0.977433\n",
      " - 99% Tile     :   9.657733\n",
      "Save output signals into checkpoint/Scene1-LSTM[Window120]/sample/0067.npy\n"
     ]
    },
    {
     "name": "stderr",
     "output_type": "stream",
     "text": [
      "[0068/0100] Train: 100%|███████████████████████████████| 71/71 [00:18<00:00,  3.79it/s, loss 0.9854]\n",
      "[0068/0100] Validation: 100%|██████████████████████| 74/74 [00:05<00:00, 13.18it/s, val_loss 5.5659]\n",
      "[0069/0100] Train:   0%|                                                     | 0/71 [00:00<?, ?it/s]"
     ]
    },
    {
     "name": "stdout",
     "output_type": "stream",
     "text": [
      "                  validation\n",
      " - Yaw          :   1.004317\n",
      " - Pitch        :   1.045936\n",
      " - Roll         :   0.933196\n",
      " - RMS          :   0.995572\n",
      " - 99% Tile     :   9.527583\n",
      "Save output signals into checkpoint/Scene1-LSTM[Window120]/sample/0068.npy\n"
     ]
    },
    {
     "name": "stderr",
     "output_type": "stream",
     "text": [
      "[0069/0100] Train: 100%|███████████████████████████████| 71/71 [00:16<00:00,  4.38it/s, loss 0.9648]\n",
      "[0069/0100] Validation: 100%|██████████████████████| 74/74 [00:05<00:00, 12.81it/s, val_loss 5.6145]\n",
      "[0070/0100] Train:   0%|                                                     | 0/71 [00:00<?, ?it/s]"
     ]
    },
    {
     "name": "stdout",
     "output_type": "stream",
     "text": [
      "val_loss is not improved for 1 epochs\n",
      "                  validation\n",
      " - Yaw          :   0.975217\n",
      " - Pitch        :   1.082985\n",
      " - Roll         :   0.913344\n",
      " - RMS          :   0.992992\n",
      " - 99% Tile     :   9.720254\n",
      "Save output signals into checkpoint/Scene1-LSTM[Window120]/sample/0069.npy\n"
     ]
    },
    {
     "name": "stderr",
     "output_type": "stream",
     "text": [
      "[0070/0100] Train: 100%|███████████████████████████████| 71/71 [00:18<00:00,  3.79it/s, loss 0.9707]\n",
      "[0070/0100] Validation: 100%|██████████████████████| 74/74 [00:05<00:00, 13.13it/s, val_loss 5.7363]\n",
      "[0071/0100] Train:   0%|                                                     | 0/71 [00:00<?, ?it/s]"
     ]
    },
    {
     "name": "stdout",
     "output_type": "stream",
     "text": [
      "val_loss is not improved for 2 epochs\n",
      "                  validation\n",
      " - Yaw          :   0.956368\n",
      " - Pitch        :   1.075498\n",
      " - Roll         :   0.962024\n",
      " - RMS          :   0.999471\n",
      " - 99% Tile     :   9.676021\n",
      "Save output signals into checkpoint/Scene1-LSTM[Window120]/sample/0070.npy\n"
     ]
    },
    {
     "name": "stderr",
     "output_type": "stream",
     "text": [
      "[0071/0100] Train: 100%|███████████████████████████████| 71/71 [00:18<00:00,  3.80it/s, loss 0.9609]\n",
      "[0071/0100] Validation: 100%|██████████████████████| 74/74 [00:05<00:00, 13.40it/s, val_loss 5.6663]\n",
      "[0072/0100] Train:   0%|                                                     | 0/71 [00:00<?, ?it/s]"
     ]
    },
    {
     "name": "stdout",
     "output_type": "stream",
     "text": [
      "val_loss is not improved for 3 epochs\n",
      "                  validation\n",
      " - Yaw          :   0.915568\n",
      " - Pitch        :   1.061714\n",
      " - Roll         :   0.949833\n",
      " - RMS          :   0.977699\n",
      " - 99% Tile     :   9.597210\n",
      "Save output signals into checkpoint/Scene1-LSTM[Window120]/sample/0071.npy\n"
     ]
    },
    {
     "name": "stderr",
     "output_type": "stream",
     "text": [
      "[0072/0100] Train: 100%|███████████████████████████████| 71/71 [00:17<00:00,  4.00it/s, loss 0.9416]\n",
      "[0072/0100] Validation: 100%|██████████████████████| 74/74 [00:05<00:00, 13.64it/s, val_loss 5.8349]\n",
      "[0073/0100] Train:   0%|                                                     | 0/71 [00:00<?, ?it/s]"
     ]
    },
    {
     "name": "stdout",
     "output_type": "stream",
     "text": [
      "val_loss is not improved for 4 epochs\n",
      "                  validation\n",
      " - Yaw          :   0.936396\n",
      " - Pitch        :   1.099990\n",
      " - Roll         :   0.932478\n",
      " - RMS          :   0.992695\n",
      " - 99% Tile     :   9.859367\n",
      "Save output signals into checkpoint/Scene1-LSTM[Window120]/sample/0072.npy\n"
     ]
    },
    {
     "name": "stderr",
     "output_type": "stream",
     "text": [
      "[0073/0100] Train: 100%|███████████████████████████████| 71/71 [00:18<00:00,  3.85it/s, loss 0.9420]\n",
      "[0073/0100] Validation: 100%|██████████████████████| 74/74 [00:05<00:00, 13.62it/s, val_loss 5.8778]\n",
      "[0074/0100] Train:   0%|                                                     | 0/71 [00:00<?, ?it/s]"
     ]
    },
    {
     "name": "stdout",
     "output_type": "stream",
     "text": [
      "Decaying lr from 0.00025 to 0.000125 because val_loss did not improved for 5 epochs\n",
      "val_loss is not improved for 5 epochs\n",
      "                  validation\n",
      " - Yaw          :   0.986680\n",
      " - Pitch        :   1.092329\n",
      " - Roll         :   0.937726\n",
      " - RMS          :   1.007646\n",
      " - 99% Tile     :   9.947850\n",
      "Save output signals into checkpoint/Scene1-LSTM[Window120]/sample/0073.npy\n"
     ]
    },
    {
     "name": "stderr",
     "output_type": "stream",
     "text": [
      "[0074/0100] Train: 100%|███████████████████████████████| 71/71 [00:18<00:00,  3.78it/s, loss 0.8937]\n",
      "[0074/0100] Validation: 100%|██████████████████████| 74/74 [00:05<00:00, 13.71it/s, val_loss 5.8910]\n",
      "[0075/0100] Train:   0%|                                                     | 0/71 [00:00<?, ?it/s]"
     ]
    },
    {
     "name": "stdout",
     "output_type": "stream",
     "text": [
      "val_loss is not improved for 6 epochs\n",
      "                  validation\n",
      " - Yaw          :   0.960223\n",
      " - Pitch        :   1.131125\n",
      " - Roll         :   0.917757\n",
      " - RMS          :   1.007265\n",
      " - 99% Tile     :   9.909423\n",
      "Save output signals into checkpoint/Scene1-LSTM[Window120]/sample/0074.npy\n"
     ]
    },
    {
     "name": "stderr",
     "output_type": "stream",
     "text": [
      "[0075/0100] Train: 100%|███████████████████████████████| 71/71 [00:18<00:00,  3.81it/s, loss 0.8890]\n",
      "[0075/0100] Validation: 100%|██████████████████████| 74/74 [00:05<00:00, 13.60it/s, val_loss 5.7810]\n",
      "[0076/0100] Train:   0%|                                                     | 0/71 [00:00<?, ?it/s]"
     ]
    },
    {
     "name": "stdout",
     "output_type": "stream",
     "text": [
      "val_loss is not improved for 7 epochs\n",
      "                  validation\n",
      " - Yaw          :   0.970106\n",
      " - Pitch        :   1.101227\n",
      " - Roll         :   0.920703\n",
      " - RMS          :   1.000250\n",
      " - 99% Tile     :   9.932226\n",
      "Save output signals into checkpoint/Scene1-LSTM[Window120]/sample/0075.npy\n"
     ]
    },
    {
     "name": "stderr",
     "output_type": "stream",
     "text": [
      "[0076/0100] Train: 100%|███████████████████████████████| 71/71 [00:18<00:00,  3.86it/s, loss 0.8847]\n",
      "[0076/0100] Validation: 100%|██████████████████████| 74/74 [00:04<00:00, 16.98it/s, val_loss 5.9024]\n",
      "[0077/0100] Train:   0%|                                                     | 0/71 [00:00<?, ?it/s]"
     ]
    },
    {
     "name": "stdout",
     "output_type": "stream",
     "text": [
      "val_loss is not improved for 8 epochs\n",
      "                  validation\n",
      " - Yaw          :   0.973090\n",
      " - Pitch        :   1.134701\n",
      " - Roll         :   0.916085\n",
      " - RMS          :   1.012203\n",
      " - 99% Tile     :   9.869883\n",
      "Save output signals into checkpoint/Scene1-LSTM[Window120]/sample/0076.npy\n"
     ]
    },
    {
     "name": "stderr",
     "output_type": "stream",
     "text": [
      "[0077/0100] Train: 100%|███████████████████████████████| 71/71 [00:18<00:00,  3.81it/s, loss 0.8684]\n",
      "[0077/0100] Validation: 100%|██████████████████████| 74/74 [00:05<00:00, 13.66it/s, val_loss 5.7258]\n",
      "[0078/0100] Train:   0%|                                                     | 0/71 [00:00<?, ?it/s]"
     ]
    },
    {
     "name": "stdout",
     "output_type": "stream",
     "text": [
      "val_loss is not improved for 9 epochs\n",
      "                  validation\n",
      " - Yaw          :   0.996391\n",
      " - Pitch        :   1.063850\n",
      " - Roll         :   0.924341\n",
      " - RMS          :   0.996490\n",
      " - 99% Tile     :   9.909778\n",
      "Save output signals into checkpoint/Scene1-LSTM[Window120]/sample/0077.npy\n"
     ]
    },
    {
     "name": "stderr",
     "output_type": "stream",
     "text": [
      "[0078/0100] Train: 100%|███████████████████████████████| 71/71 [00:18<00:00,  3.84it/s, loss 0.8738]\n",
      "[0078/0100] Validation: 100%|██████████████████████| 74/74 [00:05<00:00, 13.62it/s, val_loss 5.7838]\n"
     ]
    },
    {
     "name": "stdout",
     "output_type": "stream",
     "text": [
      "Decaying lr from 0.000125 to 6.25e-05 because val_loss did not improved for 5 epochs\n",
      "val_loss is not improved for 10 epochs\n",
      "Stop training because val_loss did not improved for 10 epochs\n",
      "                  validation\n",
      " - Yaw          :   0.971428\n",
      " - Pitch        :   1.063127\n",
      " - Roll         :   0.927875\n",
      " - RMS          :   0.989084\n",
      " - 99% Tile     :   9.879134\n",
      "Save output signals into checkpoint/Scene1-LSTM[Window120]/sample/0078.npy\n"
     ]
    }
   ],
   "source": [
    "trainer.fit(ds_train, ds_test, num_epochs=100, batch_size=256, shuffle=True, pin_memory=True)"
   ]
  },
  {
   "cell_type": "markdown",
   "metadata": {},
   "source": [
    "# 문제점\n",
    "\n",
    "약 13epoch 정도부터 train과 validation loss의 차이가 커지기 시작함.\n",
    "\n",
    "학습은 되는데 train/validation의 차이만 커지는 것이기 때문에 일종의 overfit과 같나???  \n",
    "그럼 depth를 좀 줄여주거나, width를 좀 늘려주는 방법으로 가보자  \n",
    "dropout 대신에 batchnorm을 써보는 것도?? --> 데이터 자체가 offset이 큰 편이니깐"
   ]
  },
  {
   "cell_type": "code",
   "execution_count": null,
   "metadata": {},
   "outputs": [],
   "source": []
  }
 ],
 "metadata": {
  "kernelspec": {
   "display_name": "torch",
   "language": "python",
   "name": "torch"
  },
  "language_info": {
   "codemirror_mode": {
    "name": "ipython",
    "version": 3
   },
   "file_extension": ".py",
   "mimetype": "text/x-python",
   "name": "python",
   "nbconvert_exporter": "python",
   "pygments_lexer": "ipython3",
   "version": "3.7.9"
  }
 },
 "nbformat": 4,
 "nbformat_minor": 4
}
