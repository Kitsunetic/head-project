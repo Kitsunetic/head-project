{
 "cells": [
  {
   "cell_type": "code",
   "execution_count": 1,
   "metadata": {},
   "outputs": [],
   "source": [
    "import numpy as np\n",
    "import pandas as pd\n",
    "import imageio\n",
    "import h5py\n",
    "import pickle\n",
    "\n",
    "from tqdm import tqdm\n",
    "from xqdm import xqdm\n",
    "from pathlib import Path\n",
    "import matplotlib.pyplot as plt\n",
    "import re"
   ]
  },
  {
   "cell_type": "code",
   "execution_count": 2,
   "metadata": {},
   "outputs": [],
   "source": [
    "dataset_dir = Path('data')\n",
    "csv_files = dataset_dir.glob('*.csv')"
   ]
  },
  {
   "cell_type": "code",
   "execution_count": 7,
   "metadata": {},
   "outputs": [],
   "source": [
    "using_columns = ['timestamp',\n",
    "                 'acceleration_x', 'acceleration_y', 'acceleration_z',\n",
    "                 'angular_vec_x', 'angular_vec_y', 'angular_vec_z',\n",
    "                 'input_orientation_x', 'input_orientation_y', 'input_orientation_z', 'input_orientation_w',\n",
    "                 'input_orientation_yaw', 'input_orientation_pitch', 'input_orientation_roll']"
   ]
  },
  {
   "cell_type": "code",
   "execution_count": 8,
   "metadata": {},
   "outputs": [
    {
     "name": "stdout",
     "output_type": "stream",
     "text": [
      "data/motion_data_user1_scene1.csv\n",
      "data/motion_data_user1_scene2.csv\n",
      "data/motion_data_user1_scene3.csv\n",
      "data/motion_data_user2_scene1.csv\n",
      "data/motion_data_user2_scene2.csv\n",
      "data/motion_data_user2_scene3.csv\n",
      "data/motion_data_user3_scene1.csv\n",
      "data/motion_data_user3_scene2.csv\n",
      "data/motion_data_user3_scene3.csv\n",
      "data/motion_data_user4_scene1.csv\n",
      "data/motion_data_user4_scene2.csv\n",
      "data/motion_data_user4_scene3.csv\n",
      "data/motion_data_user5_scene1.csv\n",
      "data/motion_data_user5_scene2.csv\n",
      "data/motion_data_user5_scene3.csv\n",
      "data/motion_data_user6_scene1.csv\n",
      "data/motion_data_user6_scene2.csv\n",
      "data/motion_data_user6_scene3.csv\n",
      "data/motion_data_user7_scene1.csv\n",
      "data/motion_data_user7_scene2.csv\n",
      "data/motion_data_user7_scene3.csv\n"
     ]
    }
   ],
   "source": [
    "data = {}\n",
    "\n",
    "for i in range(1, 8):\n",
    "    for j in range(1, 4):\n",
    "        path = dataset_dir / f'motion_data_user{i}_scene{j}.csv'\n",
    "        print(path)\n",
    "        \n",
    "        csv = pd.read_csv(path)\n",
    "        csv = csv[using_columns]\n",
    "        \n",
    "        data[int(f'{i}{j}')] = csv"
   ]
  },
  {
   "cell_type": "code",
   "execution_count": 9,
   "metadata": {},
   "outputs": [],
   "source": [
    "with open(dataset_dir / 'data.pkl', 'wb') as f:\n",
    "    pickle.dump(data, f)"
   ]
  },
  {
   "cell_type": "code",
   "execution_count": null,
   "metadata": {},
   "outputs": [],
   "source": []
  }
 ],
 "metadata": {
  "kernelspec": {
   "display_name": "tf",
   "language": "python",
   "name": "tf"
  },
  "language_info": {
   "codemirror_mode": {
    "name": "ipython",
    "version": 3
   },
   "file_extension": ".py",
   "mimetype": "text/x-python",
   "name": "python",
   "nbconvert_exporter": "python",
   "pygments_lexer": "ipython3",
   "version": "3.7.7"
  }
 },
 "nbformat": 4,
 "nbformat_minor": 4
}
