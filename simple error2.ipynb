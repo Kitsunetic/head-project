{
 "cells": [
  {
   "cell_type": "code",
   "execution_count": 1,
   "metadata": {},
   "outputs": [],
   "source": [
    "import numpy as np\n",
    "import pandas as pd\n",
    "import imageio\n",
    "import h5py\n",
    "import pickle\n",
    "\n",
    "from tqdm import tqdm\n",
    "from xqdm import xqdm\n",
    "from pathlib import Path\n",
    "import matplotlib.pyplot as plt\n",
    "import re"
   ]
  },
  {
   "cell_type": "code",
   "execution_count": 2,
   "metadata": {},
   "outputs": [],
   "source": [
    "def radian2degree(radian):\n",
    "    return radian * 180 / np.pi"
   ]
  },
  {
   "cell_type": "code",
   "execution_count": 6,
   "metadata": {},
   "outputs": [],
   "source": [
    "dataset_file = 'data/head/head-dataset-1166.hdf5'"
   ]
  },
  {
   "cell_type": "code",
   "execution_count": 7,
   "metadata": {},
   "outputs": [],
   "source": [
    "with h5py.File(dataset_file, 'r') as f:\n",
    "    X_train = f['X_train'][()]\n",
    "    X_valid = f['X_valid'][()]\n",
    "    Y_train = f['Y_train'][()]\n",
    "    Y_valid = f['Y_valid'][()]"
   ]
  },
  {
   "cell_type": "code",
   "execution_count": 8,
   "metadata": {},
   "outputs": [],
   "source": [
    "offset = 16"
   ]
  },
  {
   "cell_type": "code",
   "execution_count": 10,
   "metadata": {},
   "outputs": [],
   "source": [
    "X = np.concatenate([X_train, X_valid])\n",
    "Y = np.concatenate([Y_valid, Y_valid])"
   ]
  },
  {
   "cell_type": "code",
   "execution_count": 29,
   "metadata": {},
   "outputs": [],
   "source": [
    "def calc_diff(X, Y, offset):\n",
    "    diff = np.array([0, 0, 0], dtype=np.float32)\n",
    "    for i in range(X.shape[0] - offset):\n",
    "        diff += np.abs(Y[i + offset] - X[i][:3])\n",
    "    diff /= X.shape[0]\n",
    "    diff = radian2degree(diff)\n",
    "    rms = np.sqrt(np.sum(np.square(diff)) / 3)\n",
    "    return diff, rms"
   ]
  },
  {
   "cell_type": "code",
   "execution_count": 30,
   "metadata": {},
   "outputs": [
    {
     "data": {
      "text/plain": [
       "((array([11.294506 ,  5.6838093,  2.0542145], dtype=float32),\n",
       "  7.395750004115364),\n",
       " (array([11.751089 ,  5.895129 ,  2.1744306], dtype=float32),\n",
       "  7.69347746733326),\n",
       " (array([12.190075 ,  6.0949345,  2.2806852], dtype=float32),\n",
       "  7.978046494648187))"
      ]
     },
     "execution_count": 30,
     "metadata": {},
     "output_type": "execute_result"
    }
   ],
   "source": [
    "calc_diff(X, Y, 0), calc_diff(X, Y, 6), calc_diff(X, Y, 12)"
   ]
  },
  {
   "cell_type": "code",
   "execution_count": null,
   "metadata": {},
   "outputs": [],
   "source": []
  }
 ],
 "metadata": {
  "kernelspec": {
   "display_name": "tf",
   "language": "python",
   "name": "tf"
  },
  "language_info": {
   "codemirror_mode": {
    "name": "ipython",
    "version": 3
   },
   "file_extension": ".py",
   "mimetype": "text/x-python",
   "name": "python",
   "nbconvert_exporter": "python",
   "pygments_lexer": "ipython3",
   "version": "3.7.7"
  }
 },
 "nbformat": 4,
 "nbformat_minor": 4
}
